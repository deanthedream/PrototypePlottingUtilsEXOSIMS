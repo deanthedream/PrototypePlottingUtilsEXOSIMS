{
 "cells": [
  {
   "cell_type": "code",
   "execution_count": 1,
   "metadata": {},
   "outputs": [],
   "source": [
    "import sympy as sp\n",
    "import numpy as np"
   ]
  },
  {
   "cell_type": "code",
   "execution_count": 2,
   "metadata": {},
   "outputs": [],
   "source": [
    "a, b, e, c = sp.symbols('a b e c', real=True, positive=True)\n",
    "A, B, C, X, Y = sp.symbols('A B C X Y', real=True, positive=True)"
   ]
  },
  {
   "cell_type": "code",
   "execution_count": 3,
   "metadata": {},
   "outputs": [],
   "source": [
    "abMidpoint = sp.Matrix([a/2,b/2])"
   ]
  },
  {
   "cell_type": "code",
   "execution_count": 4,
   "metadata": {},
   "outputs": [],
   "source": [
    "quadSepLineSlope = a/b"
   ]
  },
  {
   "cell_type": "code",
   "execution_count": 5,
   "metadata": {},
   "outputs": [],
   "source": [
    "quadSepEqn = quadSepLineSlope*X + C - Y"
   ]
  },
  {
   "cell_type": "code",
   "execution_count": 6,
   "metadata": {},
   "outputs": [],
   "source": [
    "quadSepLineYIntercept = sp.solve(quadSepEqn,C)[0].subs(X,abMidpoint[0]).subs(Y,abMidpoint[1])"
   ]
  },
  {
   "cell_type": "code",
   "execution_count": 7,
   "metadata": {},
   "outputs": [
    {
     "data": {
      "text/latex": [
       "$\\displaystyle - \\frac{a^{2}}{2 b} + \\frac{b}{2}$"
      ],
      "text/plain": [
       "-a**2/(2*b) + b/2"
      ]
     },
     "execution_count": 7,
     "metadata": {},
     "output_type": "execute_result"
    }
   ],
   "source": [
    "quadSepLineYIntercept"
   ]
  },
  {
   "cell_type": "code",
   "execution_count": 8,
   "metadata": {},
   "outputs": [],
   "source": [
    "quadSepEqn = quadSepEqn.subs(C,quadSepLineYIntercept)"
   ]
  },
  {
   "cell_type": "code",
   "execution_count": 9,
   "metadata": {},
   "outputs": [
    {
     "data": {
      "text/latex": [
       "$\\displaystyle \\frac{X a}{b} - Y - \\frac{a^{2}}{2 b} + \\frac{b}{2}$"
      ],
      "text/plain": [
       "X*a/b - Y - a**2/(2*b) + b/2"
      ]
     },
     "execution_count": 9,
     "metadata": {},
     "output_type": "execute_result"
    }
   ],
   "source": [
    "quadSepEqn"
   ]
  },
  {
   "cell_type": "code",
   "execution_count": 10,
   "metadata": {},
   "outputs": [
    {
     "name": "stdout",
     "output_type": "stream",
     "text": [
      "X*a/b - Y - a**2/(2*b) + b/2\n"
     ]
    }
   ],
   "source": [
    "print(quadSepEqn)"
   ]
  },
  {
   "cell_type": "code",
   "execution_count": 11,
   "metadata": {},
   "outputs": [],
   "source": [
    "quadSepLineXIntercept = sp.solve(quadSepEqn,X)[0].subs(Y,0)"
   ]
  },
  {
   "cell_type": "code",
   "execution_count": 12,
   "metadata": {},
   "outputs": [
    {
     "data": {
      "text/latex": [
       "$\\displaystyle \\frac{a^{2} - b^{2}}{2 a}$"
      ],
      "text/plain": [
       "(a**2 - b**2)/(2*a)"
      ]
     },
     "execution_count": 12,
     "metadata": {},
     "output_type": "execute_result"
    }
   ],
   "source": [
    "quadSepLineXIntercept"
   ]
  },
  {
   "cell_type": "code",
   "execution_count": 13,
   "metadata": {},
   "outputs": [
    {
     "name": "stdout",
     "output_type": "stream",
     "text": [
      "(a**2 - b**2)/(2*a)\n"
     ]
    }
   ],
   "source": [
    "print(quadSepLineXIntercept)"
   ]
  },
  {
   "cell_type": "code",
   "execution_count": 14,
   "metadata": {},
   "outputs": [],
   "source": [
    "ellipseEqn = X**2/a**2 + Y**2/b**2 - 1"
   ]
  },
  {
   "cell_type": "code",
   "execution_count": 15,
   "metadata": {},
   "outputs": [],
   "source": [
    "quadSepLineEllipseXIntercept = sp.solve(ellipseEqn.subs(Y,sp.solve(quadSepEqn,Y)[0]),X)"
   ]
  },
  {
   "cell_type": "code",
   "execution_count": 16,
   "metadata": {},
   "outputs": [
    {
     "data": {
      "text/latex": [
       "$\\displaystyle \\frac{a \\left(a^{2} \\left(a - b\\right) \\left(a + b\\right) - b^{2} \\sqrt{3 a^{4} + 2 a^{2} b^{2} + 3 b^{4}}\\right)}{2 \\left(a^{4} + b^{4}\\right)}$"
      ],
      "text/plain": [
       "a*(a**2*(a - b)*(a + b) - b**2*sqrt(3*a**4 + 2*a**2*b**2 + 3*b**4))/(2*(a**4 + b**4))"
      ]
     },
     "execution_count": 16,
     "metadata": {},
     "output_type": "execute_result"
    }
   ],
   "source": [
    "quadSepLineEllipseXIntercept[0]"
   ]
  },
  {
   "cell_type": "code",
   "execution_count": 17,
   "metadata": {},
   "outputs": [
    {
     "data": {
      "text/latex": [
       "$\\displaystyle \\frac{a \\left(a^{2} \\left(a - b\\right) \\left(a + b\\right) + b^{2} \\sqrt{3 a^{4} + 2 a^{2} b^{2} + 3 b^{4}}\\right)}{2 \\left(a^{4} + b^{4}\\right)}$"
      ],
      "text/plain": [
       "a*(a**2*(a - b)*(a + b) + b**2*sqrt(3*a**4 + 2*a**2*b**2 + 3*b**4))/(2*(a**4 + b**4))"
      ]
     },
     "execution_count": 17,
     "metadata": {},
     "output_type": "execute_result"
    }
   ],
   "source": [
    "quadSepLineEllipseXIntercept[1] #USE THIS ONE"
   ]
  },
  {
   "cell_type": "code",
   "execution_count": 18,
   "metadata": {},
   "outputs": [
    {
     "name": "stdout",
     "output_type": "stream",
     "text": [
      "a*(a**2*(a - b)*(a + b) - b**2*sqrt(3*a**4 + 2*a**2*b**2 + 3*b**4))/(2*(a**4 + b**4))\n"
     ]
    }
   ],
   "source": [
    "print(quadSepLineEllipseXIntercept[0])"
   ]
  },
  {
   "cell_type": "markdown",
   "metadata": {},
   "source": [
    "#### Max Separation"
   ]
  },
  {
   "cell_type": "code",
   "execution_count": 19,
   "metadata": {},
   "outputs": [],
   "source": [
    "ellipseSepa = sp.sqrt((quadSepLineEllipseXIntercept[1]-a)**2 + (sp.solve(quadSepEqn,Y)[0].subs(X,quadSepLineEllipseXIntercept[1])-0)**2)\n",
    "ellipseSepb = sp.sqrt((quadSepLineEllipseXIntercept[1]-0)**2 + (sp.solve(quadSepEqn,Y)[0].subs(X,quadSepLineEllipseXIntercept[1])-b)**2)"
   ]
  },
  {
   "cell_type": "code",
   "execution_count": 20,
   "metadata": {},
   "outputs": [
    {
     "data": {
      "text/latex": [
       "$\\displaystyle \\frac{\\sqrt{a^{2} b^{2} \\left(a^{4} + a^{2} b^{2} + 2 b^{4} - b^{2} \\sqrt{3 a^{4} + 2 a^{2} b^{2} + 3 b^{4}}\\right)^{2} + \\left(- a^{2} b^{4} + a^{2} b^{2} \\sqrt{3 a^{4} + 2 a^{2} b^{2} + 3 b^{4}} + b^{6}\\right)^{2}}}{2 a^{4} b + 2 b^{5}}$"
      ],
      "text/plain": [
       "sqrt(a**2*b**2*(a**4 + a**2*b**2 + 2*b**4 - b**2*sqrt(3*a**4 + 2*a**2*b**2 + 3*b**4))**2 + (-a**2*b**4 + a**2*b**2*sqrt(3*a**4 + 2*a**2*b**2 + 3*b**4) + b**6)**2)/(2*a**4*b + 2*b**5)"
      ]
     },
     "execution_count": 20,
     "metadata": {},
     "output_type": "execute_result"
    }
   ],
   "source": [
    "sp.simplify(ellipseSepa)"
   ]
  },
  {
   "cell_type": "code",
   "execution_count": 21,
   "metadata": {},
   "outputs": [
    {
     "data": {
      "text/latex": [
       "$\\displaystyle \\frac{\\sqrt{a^{2} b^{2} \\left(a^{4} - a^{2} b^{2} + b^{2} \\sqrt{3 a^{4} + 2 a^{2} b^{2} + 3 b^{4}}\\right)^{2} + \\left(2 a^{4} b^{2} + a^{2} b^{4} - a^{2} b^{2} \\sqrt{3 a^{4} + 2 a^{2} b^{2} + 3 b^{4}} + b^{6}\\right)^{2}}}{2 a^{4} b + 2 b^{5}}$"
      ],
      "text/plain": [
       "sqrt(a**2*b**2*(a**4 - a**2*b**2 + b**2*sqrt(3*a**4 + 2*a**2*b**2 + 3*b**4))**2 + (2*a**4*b**2 + a**2*b**4 - a**2*b**2*sqrt(3*a**4 + 2*a**2*b**2 + 3*b**4) + b**6)**2)/(2*a**4*b + 2*b**5)"
      ]
     },
     "execution_count": 21,
     "metadata": {},
     "output_type": "execute_result"
    }
   ],
   "source": [
    "sp.simplify(ellipseSepb)"
   ]
  },
  {
   "cell_type": "markdown",
   "metadata": {},
   "source": [
    "or"
   ]
  },
  {
   "cell_type": "code",
   "execution_count": 22,
   "metadata": {},
   "outputs": [],
   "source": [
    "sepXintercept = sp.sqrt((quadSepLineXIntercept-a)**2 + (0-0)**2)"
   ]
  },
  {
   "cell_type": "markdown",
   "metadata": {},
   "source": [
    "Verifying X-intercept Calculations, the following two should be identical"
   ]
  },
  {
   "cell_type": "code",
   "execution_count": 23,
   "metadata": {},
   "outputs": [
    {
     "data": {
      "text/latex": [
       "$\\displaystyle \\frac{5 a}{8}$"
      ],
      "text/plain": [
       "5*a/8"
      ]
     },
     "execution_count": 23,
     "metadata": {},
     "output_type": "execute_result"
    }
   ],
   "source": [
    "sp.simplify(sepXintercept.subs(b,a/2))"
   ]
  },
  {
   "cell_type": "code",
   "execution_count": 24,
   "metadata": {},
   "outputs": [
    {
     "data": {
      "text/latex": [
       "$\\displaystyle \\frac{5 a}{8}$"
      ],
      "text/plain": [
       "5*a/8"
      ]
     },
     "execution_count": 24,
     "metadata": {},
     "output_type": "execute_result"
    }
   ],
   "source": [
    "sp.simplify(sp.sqrt((quadSepLineXIntercept-0)**2 + (b-0)**2).subs(b,a/2))"
   ]
  },
  {
   "cell_type": "markdown",
   "metadata": {},
   "source": [
    "Verifying Ellipse Intercept Calculations, the following two should be identical"
   ]
  },
  {
   "cell_type": "code",
   "execution_count": 25,
   "metadata": {},
   "outputs": [
    {
     "data": {
      "text/latex": [
       "$\\displaystyle \\frac{5 a \\sqrt{125 - 8 \\sqrt{59}}}{68}$"
      ],
      "text/plain": [
       "5*a*sqrt(125 - 8*sqrt(59))/68"
      ]
     },
     "execution_count": 25,
     "metadata": {},
     "output_type": "execute_result"
    }
   ],
   "source": [
    "sp.simplify(ellipseSepa.subs(b,a/2))"
   ]
  },
  {
   "cell_type": "code",
   "execution_count": 26,
   "metadata": {},
   "outputs": [
    {
     "data": {
      "text/latex": [
       "$\\displaystyle \\frac{5 a \\sqrt{125 - 8 \\sqrt{59}}}{68}$"
      ],
      "text/plain": [
       "5*a*sqrt(125 - 8*sqrt(59))/68"
      ]
     },
     "execution_count": 26,
     "metadata": {},
     "output_type": "execute_result"
    }
   ],
   "source": [
    "sp.simplify(ellipseSepb.subs(b,a/2))"
   ]
  },
  {
   "cell_type": "code",
   "execution_count": null,
   "metadata": {},
   "outputs": [],
   "source": []
  },
  {
   "cell_type": "code",
   "execution_count": null,
   "metadata": {},
   "outputs": [],
   "source": []
  }
 ],
 "metadata": {
  "kernelspec": {
   "display_name": "Python 3",
   "language": "python",
   "name": "python3"
  },
  "language_info": {
   "codemirror_mode": {
    "name": "ipython",
    "version": 3
   },
   "file_extension": ".py",
   "mimetype": "text/x-python",
   "name": "python",
   "nbconvert_exporter": "python",
   "pygments_lexer": "ipython3",
   "version": "3.6.9"
  }
 },
 "nbformat": 4,
 "nbformat_minor": 4
}
