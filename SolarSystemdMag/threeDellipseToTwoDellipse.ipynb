{
 "cells": [
  {
   "cell_type": "code",
   "execution_count": 20,
   "metadata": {},
   "outputs": [],
   "source": "#3D ellipse to 2D ellipse\nimport sympy as sp\nimport numpy as np\nimport matplotlib.pyplot as plt\nfrom sympy.physics.vector import *\nN = ReferenceFrame('N')"
  },
  {
   "cell_type": "code",
   "execution_count": 21,
   "metadata": {},
   "outputs": [],
   "source": "#All angles in radians!!!!\na, e, inc, W, w, v = sp.symbols('a e inc W w v', real=True, positive=True)\np = sp.Symbol('p', real=True,positive=True)\nR = sp.Symbol('R', real=True,positive=True)\nA, B = sp.symbols('A B', real=True, positive=True)\nPhi = sp.Symbol('Phi',real=True,positive=True)\nalpha = sp.Symbol('alpha', real=True, positive=True)"
  },
  {
   "cell_type": "markdown",
   "metadata": {},
   "source": "The common point between a 3D ellipse and the 2D projection of this ellipse on any plane is the Ellipse Center\nThe orbiting Foci of the 3D ellipse projected on the 2D plane may not be the foci of 2D ellipse"
  },
  {
   "cell_type": "markdown",
   "metadata": {},
   "source": "# r - Equation for distance From orbiting foci"
  },
  {
   "cell_type": "code",
   "execution_count": 39,
   "metadata": {},
   "outputs": [
    {
     "name": "stdout",
     "output_type": "stream",
     "text": "r\na*(1 - e**2)/(e*cos(v) + 1)\n"
    }
   ],
   "source": "eqnr = a*(1-e**2)/(1+e*sp.cos(v))\nprint('r')\nprint(eqnr)"
  },
  {
   "cell_type": "markdown",
   "metadata": {},
   "source": ""
  },
  {
   "cell_type": "code",
   "execution_count": 24,
   "metadata": {},
   "outputs": [
    {
     "name": "stdout",
     "output_type": "stream",
     "text": "X\na*(1 - e**2)*(-sin(W)*sin(v + w)*cos(inc) + cos(W)*cos(v + w))/(e*cos(v) + 1)\nY\na*(1 - e**2)*(sin(W)*cos(v + w) + sin(v + w)*cos(W)*cos(inc))/(e*cos(v) + 1)\nZ\na*(1 - e**2)*sin(inc)*sin(v + w)/(e*cos(v) + 1)\n"
    }
   ],
   "source": "#### XYZ of 3D ellipse\neqnX = eqnr*(sp.cos(W)*sp.cos((w+v)) - sp.sin(W)*sp.sin((w+v))*sp.cos(inc))\neqnY = eqnr*(sp.sin(W)*sp.cos((w+v)) + sp.cos(W)*sp.sin((w+v))*sp.cos(inc))\neqnZ = eqnr*(sp.sin(inc)*sp.sin((w+v)))\nprint('X')\nprint(eqnX)\nprint('Y')\nprint(eqnY)\nprint('Z')\nprint(eqnZ)"
  },
  {
   "cell_type": "code",
   "execution_count": 25,
   "metadata": {},
   "outputs": [],
   "source": "#### Generic Point p on the 3D ellipse\np_3DEllipse = sp.Matrix([eqnX,eqnY,eqnZ])"
  },
  {
   "cell_type": "code",
   "execution_count": 26,
   "metadata": {},
   "outputs": [],
   "source": "#### XY of 2D ellipse in terms of KOE is eqnX and eqnY"
  },
  {
   "cell_type": "code",
   "execution_count": 27,
   "metadata": {},
   "outputs": [],
   "source": "#### The 3D vector along the semi-MAJOR axis in the direction of perigee is when v=0\nX_perigee_vect_3D_orbit = eqnX.subs(v,0)\nY_perigee_vect_3D_orbit = eqnY.subs(v,0)\nZ_perigee_vect_3D_orbit = eqnZ.subs(v,0)\nmajorAxisVect_3D_ellipse = sp.Matrix([X_perigee_vect_3D_orbit,Y_perigee_vect_3D_orbit,Z_perigee_vect_3D_orbit])"
  },
  {
   "cell_type": "code",
   "execution_count": 28,
   "metadata": {},
   "outputs": [],
   "source": "#### The 3D vector along the semi-MAJOR axis in the direction of apogee is when v=np.pi\n#UNNECESSARY SINCE WE HAVE SMA and ECCEN\nX_apogee_vect_3D_orbit = eqnX.subs(v,np.pi)\nY_apogee_vect_3D_orbit = eqnY.subs(v,np.pi)\np_3DEllipse_apogee = sp.Matrix([X_apogee_vect_3D_orbit,Y_apogee_vect_3D_orbit,0])"
  },
  {
   "cell_type": "code",
   "execution_count": 29,
   "metadata": {},
   "outputs": [],
   "source": "#Unit vector from 3D Ellipse Foci to 3D Ellipse Origin\n\nU_3DFoci_to_origin = -p_3DEllipse_apogee/p_3DEllipse_apogee.norm()\n#Distance from 3D Ellipse Foci to 3D Ellipse Origin: c**2 = a**2-b**2\nB_3D = a*sp.sqrt(1-e**2)\nC_3DFoci_to_origin = sp.sqrt(a**2-B_3D**2)\n"
  },
  {
   "cell_type": "code",
   "execution_count": 30,
   "metadata": {},
   "outputs": [],
   "source": "#### The 3D unit vector describing orbital plane\n#NEED TO FIGURE OUT HOW TO DO SYMPY CROSS PRODUCT BS OR JUST USE NUMPY??\nnormalVect_3D_ellipse = majorAxisVect_3D_ellipse.cross(p_3DEllipse.subs(v,np.pi/2.)) #np.pi/2. was used, but any value of v is acceptable\n# normalVect_3D_ellipse = sp.cross([X_perigee_vect_3D_orbit,Y_perigee_vect_3D_orbit,Z_perigee_vect_3D_orbit],\\\n#             [eqnX.subs(v,np.pi/2.),eqnY.subs(v,np.pi/2.),eqnZ.subs(v,np.pi/2.)]) #np.pi/2. was used, but any value of v is acceptable\nnormalVect_3D_ellipse = normalVect_3D_ellipse/normalVect_3D_ellipse.norm()"
  },
  {
   "cell_type": "code",
   "execution_count": 31,
   "metadata": {},
   "outputs": [],
   "source": "#### The 3D unit vector along the semi-MINOR axis is given by\nminorAxisUnitVect_3D_ellipse = majorAxisVect_3D_ellipse.cross(normalVect_3D_ellipse)"
  },
  {
   "cell_type": "code",
   "execution_count": 32,
   "metadata": {},
   "outputs": [],
   "source": "#### The 3D vector along the semi-MINOR axis is therefore\nminorAxisVect_3D_ellipse = B_3D*minorAxisUnitVect_3D_ellipse"
  },
  {
   "cell_type": "code",
   "execution_count": 33,
   "metadata": {},
   "outputs": [],
   "source": "#DELETEAssumption the center of a 3D ellipse is the same as the center of it's projection\n#Assume a 3D Ellipse center projected onto a 2D plane has the same center as the projected ellipse\n#### From 2D Projected Ellipse Center to Projected 3D Ellipse Foci\n#A (major or minor) axis must lie along the Ellipse center-foci line\nC_2DFoci_to_origin = sp.sqrt(U_3DFoci_to_origin[0]**2+U_3DFoci_to_origin[0]**2)\nprojected_perigee_distance = sp.sqrt(majorAxisVect_3D_ellipse[0]**2+majorAxisVect_3D_ellipse[1]**2)\naxis1_projected = C_2DFoci_to_origin+projected_perigee_distance #this is either the semi-major axis or semi-minor axis\naxis1Unit_projected = sp.Matrix([X_perigee_vect_3D_orbit, Y_perigee_vect_3D_orbit, 0])#DELETE/np.linalg.norm([X_perigee_vect_3D_orbit, Y_perigee_vect_3D_orbit, 0])\naxis1Unit_projected = axis1Unit_projected/axis1Unit_projected.norm()"
  },
  {
   "cell_type": "code",
   "execution_count": 34,
   "metadata": {},
   "outputs": [],
   "source": "#Axis 2 unit vector\naxis2Unit_projected = axis1Unit_projected.cross(sp.Matrix([0,0,1]))"
  },
  {
   "cell_type": "code",
   "execution_count": 35,
   "metadata": {},
   "outputs": [],
   "source": "#Ellipse origin location\nprojectedEllipseCenter = -axis1Unit_projected*C_2DFoci_to_origin"
  },
  {
   "cell_type": "code",
   "execution_count": 36,
   "metadata": {},
   "outputs": [
    {
     "ename": "NameError",
     "evalue": "name 'axis2_projected' is not defined",
     "output_type": "error",
     "traceback": [
      "\u001b[0;31m---------------------------------------------------------------------------\u001b[0m",
      "\u001b[0;31mNameError\u001b[0m                                 Traceback (most recent call last)",
      "\u001b[0;32m<ipython-input-36-94899b091e3c>\u001b[0m in \u001b[0;36m<module>\u001b[0;34m\u001b[0m\n\u001b[1;32m      2\u001b[0m \u001b[0;31m#Solve the following for axis2_projected\u001b[0m\u001b[0;34m\u001b[0m\u001b[0;34m\u001b[0m\u001b[0;34m\u001b[0m\u001b[0m\n\u001b[1;32m      3\u001b[0m \u001b[0;31m#axis2_projected =\u001b[0m\u001b[0;34m\u001b[0m\u001b[0;34m\u001b[0m\u001b[0;34m\u001b[0m\u001b[0m\n\u001b[0;32m----> 4\u001b[0;31m \u001b[0;34m[\u001b[0m\u001b[0meqnX\u001b[0m\u001b[0;34m,\u001b[0m\u001b[0meqnY\u001b[0m\u001b[0;34m,\u001b[0m\u001b[0;36m0\u001b[0m\u001b[0;34m]\u001b[0m \u001b[0;34m==\u001b[0m \u001b[0mprojectedEllipseCenter\u001b[0m \u001b[0;34m+\u001b[0m \u001b[0maxis2_projected\u001b[0m\u001b[0;34m*\u001b[0m\u001b[0maxis2Unit_projected\u001b[0m\u001b[0;34m\u001b[0m\u001b[0;34m\u001b[0m\u001b[0m\n\u001b[0m\u001b[1;32m      5\u001b[0m \u001b[0;31m#Aha! Solve for axis2_projected for only one variable! (Easy?)\u001b[0m\u001b[0;34m\u001b[0m\u001b[0;34m\u001b[0m\u001b[0;34m\u001b[0m\u001b[0m\n\u001b[1;32m      6\u001b[0m \u001b[0;34m\u001b[0m\u001b[0m\n",
      "\u001b[0;31mNameError\u001b[0m: name 'axis2_projected' is not defined"
     ]
    }
   ],
   "source": "#Axis 2 length\n#Solve the following for axis2_projected\n#axis2_projected = \n[eqnX,eqnY,0] == projectedEllipseCenter + axis2_projected*axis2Unit_projected\n#Aha! Solve for axis2_projected for only one variable! (Easy?)\n\n\n#solve for length of axis 2 by \n#LEAVING OFF HERE! NEED TO FIND OUT HOW TO CALCULATE THE SEMI-MINOR AXIS LENGTH\n\n#Distance from orbit Foci to perigee sqrt(xp**2.+yp**2.) \n\n#### Projected Semi-major axis\n\n#### Projected Semi-minor axis\n\n#### Eccentricty of Projected Ellipse\n\n#### Canonical Coordinates"
  },
  {
   "cell_type": "code",
   "execution_count": 37,
   "metadata": {},
   "outputs": [
    {
     "data": {
      "text/latex": "$\\displaystyle \\left[\\begin{matrix}- \\frac{\\sqrt{2} a^{2} \\sqrt{\\frac{1}{\\left(1 - 1.0 e\\right)^{2} \\left(a^{2} \\left|{\\frac{\\left(e^{2} - 1\\right) \\left(\\sin{\\left(W \\right)} \\cos{\\left(w + 3.14159265358979 \\right)} + \\sin{\\left(w + 3.14159265358979 \\right)} \\cos{\\left(W \\right)} \\cos{\\left(inc \\right)}\\right)}{1.0 e - 1}}\\right|^{2} + a^{2} \\left|{\\frac{\\left(e^{2} - 1\\right) \\left(\\sin{\\left(W \\right)} \\sin{\\left(w + 3.14159265358979 \\right)} \\cos{\\left(inc \\right)} - \\cos{\\left(W \\right)} \\cos{\\left(w + 3.14159265358979 \\right)}\\right)}{1.0 e - 1}}\\right|^{2}\\right)}} \\left(1 - e^{2}\\right) \\left(- \\sin{\\left(W \\right)} \\sin{\\left(w \\right)} \\cos{\\left(inc \\right)} + \\cos{\\left(W \\right)} \\cos{\\left(w \\right)}\\right) \\left|{e^{2} - 1}\\right| \\left|{\\sin{\\left(W \\right)} \\sin{\\left(w + 3.14159265358979 \\right)} \\cos{\\left(inc \\right)} - \\cos{\\left(W \\right)} \\cos{\\left(w + 3.14159265358979 \\right)}}\\right|}{\\left(e + 1\\right) \\sqrt{\\frac{a^{2} \\left(e^{2} - 1\\right)^{2} \\left(\\sin{\\left(W \\right)} \\cos{\\left(w \\right)} + \\sin{\\left(w \\right)} \\cos{\\left(W \\right)} \\cos{\\left(inc \\right)}\\right)^{2}}{\\left(e + 1\\right)^{2}} + \\frac{a^{2} \\left(e^{2} - 1\\right)^{2} \\left(\\sin{\\left(W \\right)} \\sin{\\left(w \\right)} \\cos{\\left(inc \\right)} - \\cos{\\left(W \\right)} \\cos{\\left(w \\right)}\\right)^{2}}{\\left(e + 1\\right)^{2}}}}\\\\- \\frac{\\sqrt{2} a^{2} \\sqrt{\\frac{1}{\\left(1 - 1.0 e\\right)^{2} \\left(a^{2} \\left|{\\frac{\\left(e^{2} - 1\\right) \\left(\\sin{\\left(W \\right)} \\cos{\\left(w + 3.14159265358979 \\right)} + \\sin{\\left(w + 3.14159265358979 \\right)} \\cos{\\left(W \\right)} \\cos{\\left(inc \\right)}\\right)}{1.0 e - 1}}\\right|^{2} + a^{2} \\left|{\\frac{\\left(e^{2} - 1\\right) \\left(\\sin{\\left(W \\right)} \\sin{\\left(w + 3.14159265358979 \\right)} \\cos{\\left(inc \\right)} - \\cos{\\left(W \\right)} \\cos{\\left(w + 3.14159265358979 \\right)}\\right)}{1.0 e - 1}}\\right|^{2}\\right)}} \\left(1 - e^{2}\\right) \\left(\\sin{\\left(W \\right)} \\cos{\\left(w \\right)} + \\sin{\\left(w \\right)} \\cos{\\left(W \\right)} \\cos{\\left(inc \\right)}\\right) \\left|{e^{2} - 1}\\right| \\left|{\\sin{\\left(W \\right)} \\sin{\\left(w + 3.14159265358979 \\right)} \\cos{\\left(inc \\right)} - \\cos{\\left(W \\right)} \\cos{\\left(w + 3.14159265358979 \\right)}}\\right|}{\\left(e + 1\\right) \\sqrt{\\frac{a^{2} \\left(e^{2} - 1\\right)^{2} \\left(\\sin{\\left(W \\right)} \\cos{\\left(w \\right)} + \\sin{\\left(w \\right)} \\cos{\\left(W \\right)} \\cos{\\left(inc \\right)}\\right)^{2}}{\\left(e + 1\\right)^{2}} + \\frac{a^{2} \\left(e^{2} - 1\\right)^{2} \\left(\\sin{\\left(W \\right)} \\sin{\\left(w \\right)} \\cos{\\left(inc \\right)} - \\cos{\\left(W \\right)} \\cos{\\left(w \\right)}\\right)^{2}}{\\left(e + 1\\right)^{2}}}}\\\\0\\end{matrix}\\right]$",
      "text/plain": "Matrix([\n[-sqrt(2)*a**2*sqrt(1/((1 - 1.0*e)**2*(a**2*Abs((e**2 - 1)*(sin(W)*cos(w + 3.14159265358979) + sin(w + 3.14159265358979)*cos(W)*cos(inc))/(1.0*e - 1))**2 + a**2*Abs((e**2 - 1)*(sin(W)*sin(w + 3.14159265358979)*cos(inc) - cos(W)*cos(w + 3.14159265358979))/(1.0*e - 1))**2)))*(1 - e**2)*(-sin(W)*sin(w)*cos(inc) + cos(W)*cos(w))*Abs(e**2 - 1)*Abs(sin(W)*sin(w + 3.14159265358979)*cos(inc) - cos(W)*cos(w + 3.14159265358979))/((e + 1)*sqrt(a**2*(e**2 - 1)**2*(sin(W)*cos(w) + sin(w)*cos(W)*cos(inc))**2/(e + 1)**2 + a**2*(e**2 - 1)**2*(sin(W)*sin(w)*cos(inc) - cos(W)*cos(w))**2/(e + 1)**2))],\n[ -sqrt(2)*a**2*sqrt(1/((1 - 1.0*e)**2*(a**2*Abs((e**2 - 1)*(sin(W)*cos(w + 3.14159265358979) + sin(w + 3.14159265358979)*cos(W)*cos(inc))/(1.0*e - 1))**2 + a**2*Abs((e**2 - 1)*(sin(W)*sin(w + 3.14159265358979)*cos(inc) - cos(W)*cos(w + 3.14159265358979))/(1.0*e - 1))**2)))*(1 - e**2)*(sin(W)*cos(w) + sin(w)*cos(W)*cos(inc))*Abs(e**2 - 1)*Abs(sin(W)*sin(w + 3.14159265358979)*cos(inc) - cos(W)*cos(w + 3.14159265358979))/((e + 1)*sqrt(a**2*(e**2 - 1)**2*(sin(W)*cos(w) + sin(w)*cos(W)*cos(inc))**2/(e + 1)**2 + a**2*(e**2 - 1)**2*(sin(W)*sin(w)*cos(inc) - cos(W)*cos(w))**2/(e + 1)**2))],\n[                                                                                                                                                                                                                                                                                                                                                                                                                                                                                                                                                                                                          0]])"
     },
     "execution_count": 37,
     "metadata": {},
     "output_type": "execute_result"
    }
   ],
   "source": "projectedEllipseCenter"
  },
  {
   "cell_type": "code",
   "execution_count": null,
   "metadata": {},
   "outputs": [],
   "source": ""
  }
 ],
 "metadata": {
  "kernelspec": {
   "display_name": "Python 3",
   "language": "python",
   "name": "python3"
  },
  "language_info": {
   "codemirror_mode": {
    "name": "ipython",
    "version": 3
   },
   "file_extension": ".py",
   "mimetype": "text/x-python",
   "name": "python",
   "nbconvert_exporter": "python",
   "pygments_lexer": "ipython3",
   "version": "3.6.9"
  }
 },
 "nbformat": 4,
 "nbformat_minor": 4
}
