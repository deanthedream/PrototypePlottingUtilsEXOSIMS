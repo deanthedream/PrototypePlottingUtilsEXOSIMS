{
 "cells": [
  {
   "cell_type": "markdown",
   "metadata": {},
   "source": [
    "# 3D Ellipse to 2D Ellipse"
   ]
  },
  {
   "cell_type": "markdown",
   "metadata": {},
   "source": [
    "Herein, I define any ellipse on an arbitrary orbital plane to be a 3D ellipse.\n",
    "The projection of any 3D ellipse onto any plane must be another ellipse (applies generally).\n",
    "The practical origin of the orbital plane is a Foci of the 3D ellipse. This (0,0,0) point is the Foci of the 3D ellipse. The 3D ellipse center (where the semi-major and semi-minor axis cross) is coincident with the center of the 3D ellipse's projection on any plane.\n",
    "Finally, the ellipse center-origin (Foci)-3D ellipse perigee must necessarily lie along the same line"
   ]
  },
  {
   "cell_type": "markdown",
   "metadata": {},
   "source": [
    "### Import"
   ]
  },
  {
   "cell_type": "code",
   "execution_count": 122,
   "metadata": {},
   "outputs": [],
   "source": [
    "import sympy as sp\n",
    "import numpy as np\n",
    "import matplotlib.pyplot as plt\n",
    "from sympy.physics.vector import *\n",
    "N = ReferenceFrame('N')"
   ]
  },
  {
   "cell_type": "markdown",
   "metadata": {},
   "source": [
    "### Declare Symbols"
   ]
  },
  {
   "cell_type": "code",
   "execution_count": 123,
   "metadata": {},
   "outputs": [],
   "source": [
    "#All angles in radians!!!!\n",
    "a, e, inc, W, w, v = sp.symbols('a e inc W w v', real=True, positive=True)\n",
    "p = sp.Symbol('p', real=True,positive=True)\n",
    "R = sp.Symbol('R', real=True,positive=True)\n",
    "A, B = sp.symbols('A B', real=True, positive=True)\n",
    "Phi = sp.Symbol('Phi',real=True,positive=True)\n",
    "alpha = sp.Symbol('alpha', real=True, positive=True)"
   ]
  },
  {
   "cell_type": "markdown",
   "metadata": {},
   "source": [
    "### Declare Random Constants"
   ]
  },
  {
   "cell_type": "code",
   "execution_count": 124,
   "metadata": {},
   "outputs": [],
   "source": [
    "c1,c2,c3,c4,c5 = sp.symbols('c1 c2 c3 c4 c5', real=True)\n",
    "x = sp.symbols('x', real=True)"
   ]
  },
  {
   "cell_type": "markdown",
   "metadata": {},
   "source": [
    "#### Useful Trig Identities 1"
   ]
  },
  {
   "cell_type": "code",
   "execution_count": 125,
   "metadata": {},
   "outputs": [],
   "source": [
    "sinApB = sp.sin(v)*sp.cos(w) + sp.cos(v)*sp.sin(w)#sin(v+w)\n",
    "sinAmB = sp.sin(v)*sp.cos(w) - sp.cos(v)*sp.sin(w)#sin(v-w)\n",
    "cosApB = sp.cos(v)*sp.cos(w) - sp.sin(v)*sp.sin(w)#cos(v+w)\n",
    "cosAmB = sp.cos(v)*sp.cos(w) + sp.sin(v)*sp.sin(w)#cos(v-w)"
   ]
  },
  {
   "cell_type": "markdown",
   "metadata": {},
   "source": [
    "#### Useful Trig Identities 2"
   ]
  },
  {
   "cell_type": "code",
   "execution_count": 126,
   "metadata": {},
   "outputs": [],
   "source": [
    "sinv = sp.sqrt(1-sp.cos(v)**2)"
   ]
  },
  {
   "cell_type": "markdown",
   "metadata": {},
   "source": [
    "The common point between a 3D ellipse and the 2D projection of this ellipse on any plane is the Ellipse Center\n",
    "The orbiting Foci of the 3D ellipse projected on the 2D plane may not be the foci of 2D ellipse"
   ]
  },
  {
   "cell_type": "markdown",
   "metadata": {},
   "source": [
    "### r - Equation for distance From orbiting foci"
   ]
  },
  {
   "cell_type": "code",
   "execution_count": 127,
   "metadata": {},
   "outputs": [],
   "source": [
    "eqnr = a*(1-e**2)/(1+e*sp.cos(v))"
   ]
  },
  {
   "cell_type": "code",
   "execution_count": 128,
   "metadata": {},
   "outputs": [
    {
     "data": {
      "text/latex": [
       "$\\displaystyle \\frac{a \\left(1 - e^{2}\\right)}{e \\cos{\\left(v \\right)} + 1}$"
      ],
      "text/plain": [
       "a*(1 - e**2)/(e*cos(v) + 1)"
      ]
     },
     "execution_count": 128,
     "metadata": {},
     "output_type": "execute_result"
    }
   ],
   "source": [
    "eqnr"
   ]
  },
  {
   "cell_type": "markdown",
   "metadata": {},
   "source": [
    "### XYZ of 3D ellipse"
   ]
  },
  {
   "cell_type": "code",
   "execution_count": 129,
   "metadata": {},
   "outputs": [],
   "source": [
    "eqnX = eqnr*(sp.cos(W)*sp.cos((w+v)) - sp.sin(W)*sp.sin((w+v))*sp.cos(inc)).subs(W,0)\n",
    "eqnY = eqnr*(sp.sin(W)*sp.cos((w+v)) + sp.cos(W)*sp.sin((w+v))*sp.cos(inc)).subs(W,0)\n",
    "eqnZ = eqnr*(sp.sin(inc)*sp.sin((w+v)))"
   ]
  },
  {
   "cell_type": "code",
   "execution_count": 130,
   "metadata": {},
   "outputs": [
    {
     "data": {
      "text/latex": [
       "$\\displaystyle \\frac{a \\left(1 - e^{2}\\right) \\left(- \\sin{\\left(W \\right)} \\sin{\\left(v + w \\right)} \\cos{\\left(inc \\right)} + \\cos{\\left(W \\right)} \\cos{\\left(v + w \\right)}\\right)}{e \\cos{\\left(v \\right)} + 1}$"
      ],
      "text/plain": [
       "a*(1 - e**2)*(-sin(W)*sin(v + w)*cos(inc) + cos(W)*cos(v + w))/(e*cos(v) + 1)"
      ]
     },
     "execution_count": 130,
     "metadata": {},
     "output_type": "execute_result"
    }
   ],
   "source": [
    "eqnX"
   ]
  },
  {
   "cell_type": "code",
   "execution_count": 131,
   "metadata": {},
   "outputs": [
    {
     "data": {
      "text/latex": [
       "$\\displaystyle \\frac{a \\left(1 - e^{2}\\right) \\left(\\sin{\\left(W \\right)} \\cos{\\left(v + w \\right)} + \\sin{\\left(v + w \\right)} \\cos{\\left(W \\right)} \\cos{\\left(inc \\right)}\\right)}{e \\cos{\\left(v \\right)} + 1}$"
      ],
      "text/plain": [
       "a*(1 - e**2)*(sin(W)*cos(v + w) + sin(v + w)*cos(W)*cos(inc))/(e*cos(v) + 1)"
      ]
     },
     "execution_count": 131,
     "metadata": {},
     "output_type": "execute_result"
    }
   ],
   "source": [
    "eqnY"
   ]
  },
  {
   "cell_type": "code",
   "execution_count": 132,
   "metadata": {},
   "outputs": [
    {
     "data": {
      "text/latex": [
       "$\\displaystyle \\frac{a \\left(1 - e^{2}\\right) \\sin{\\left(inc \\right)} \\sin{\\left(v + w \\right)}}{e \\cos{\\left(v \\right)} + 1}$"
      ],
      "text/plain": [
       "a*(1 - e**2)*sin(inc)*sin(v + w)/(e*cos(v) + 1)"
      ]
     },
     "execution_count": 132,
     "metadata": {},
     "output_type": "execute_result"
    }
   ],
   "source": [
    "eqnZ"
   ]
  },
  {
   "cell_type": "markdown",
   "metadata": {},
   "source": [
    "### Planet Star Separation - s"
   ]
  },
  {
   "cell_type": "code",
   "execution_count": 133,
   "metadata": {},
   "outputs": [],
   "source": [
    "eqnS = sp.sqrt(eqnX**2 + eqnY**2)"
   ]
  },
  {
   "cell_type": "code",
   "execution_count": 134,
   "metadata": {},
   "outputs": [
    {
     "data": {
      "text/latex": [
       "$\\displaystyle \\frac{a \\sqrt{4 \\cos{\\left(2 inc \\right)} + 4 \\cos{\\left(2 v + 2 w \\right)} - 2 \\cos{\\left(- 2 inc + 2 v + 2 w \\right)} - 2 \\cos{\\left(2 inc + 2 v + 2 w \\right)} + 12} \\left|{\\frac{e^{2} - 1}{e \\cos{\\left(v \\right)} + 1}}\\right|}{4}$"
      ],
      "text/plain": [
       "a*sqrt(4*cos(2*inc) + 4*cos(2*v + 2*w) - 2*cos(-2*inc + 2*v + 2*w) - 2*cos(2*inc + 2*v + 2*w) + 12)*Abs((e**2 - 1)/(e*cos(v) + 1))/4"
      ]
     },
     "execution_count": 134,
     "metadata": {},
     "output_type": "execute_result"
    }
   ],
   "source": [
    "sp.simplify(eqnS)"
   ]
  },
  {
   "cell_type": "markdown",
   "metadata": {},
   "source": [
    "#### Generic Point p on the 3D ellipse"
   ]
  },
  {
   "cell_type": "code",
   "execution_count": 135,
   "metadata": {},
   "outputs": [],
   "source": [
    "p_3DEllipse = sp.Matrix([eqnX,eqnY,eqnZ])"
   ]
  },
  {
   "cell_type": "code",
   "execution_count": 136,
   "metadata": {},
   "outputs": [],
   "source": [
    "#### XY of 2D ellipse in terms of KOE is eqnX and eqnY"
   ]
  },
  {
   "cell_type": "markdown",
   "metadata": {},
   "source": [
    "#### The 3D vector along the semi-MAJOR axis in the direction of perigee is when v=0"
   ]
  },
  {
   "cell_type": "code",
   "execution_count": 137,
   "metadata": {},
   "outputs": [],
   "source": [
    "X_perigee_vect_3D_orbit = eqnX.subs(v,0)\n",
    "Y_perigee_vect_3D_orbit = eqnY.subs(v,0)\n",
    "Z_perigee_vect_3D_orbit = eqnZ.subs(v,0)\n",
    "majorAxisVect_3D_ellipse = sp.Matrix([X_perigee_vect_3D_orbit,Y_perigee_vect_3D_orbit,Z_perigee_vect_3D_orbit])"
   ]
  },
  {
   "cell_type": "markdown",
   "metadata": {},
   "source": [
    "#### The 3D vector along the semi-MAJOR axis in the direction of apogee is when v=np.pi"
   ]
  },
  {
   "cell_type": "code",
   "execution_count": 138,
   "metadata": {},
   "outputs": [],
   "source": [
    "#UNNECESSARY SINCE WE HAVE SMA and ECCEN\n",
    "X_apogee_vect_3D_orbit = eqnX.subs(v,np.pi)\n",
    "Y_apogee_vect_3D_orbit = eqnY.subs(v,np.pi)\n",
    "p_3DEllipse_apogee = sp.Matrix([X_apogee_vect_3D_orbit,Y_apogee_vect_3D_orbit,0])"
   ]
  },
  {
   "cell_type": "markdown",
   "metadata": {},
   "source": [
    "#### Unit vector from 3D Ellipse Foci to 3D Ellipse Origin"
   ]
  },
  {
   "cell_type": "code",
   "execution_count": 139,
   "metadata": {},
   "outputs": [],
   "source": [
    "U_3DFoci_to_origin = -p_3DEllipse_apogee/p_3DEllipse_apogee.norm()"
   ]
  },
  {
   "cell_type": "markdown",
   "metadata": {},
   "source": [
    "#### Semi-minor axis distance of 3D Ellipse"
   ]
  },
  {
   "cell_type": "code",
   "execution_count": 140,
   "metadata": {},
   "outputs": [],
   "source": [
    "B_3D = a*sp.sqrt(1-e**2)"
   ]
  },
  {
   "cell_type": "markdown",
   "metadata": {},
   "source": [
    "#### Distance from Foci to Origin of 3D Ellipse"
   ]
  },
  {
   "cell_type": "code",
   "execution_count": 141,
   "metadata": {},
   "outputs": [],
   "source": [
    "#Distance from 3D Ellipse Foci to 3D Ellipse Origin: c**2 = a**2-b**2\n",
    "C_3DFoci_to_origin = sp.sqrt(a**2-B_3D**2)"
   ]
  },
  {
   "cell_type": "markdown",
   "metadata": {},
   "source": [
    "#### The 3D unit vector describing orbital plane"
   ]
  },
  {
   "cell_type": "code",
   "execution_count": 142,
   "metadata": {},
   "outputs": [],
   "source": [
    "normalVect_3D_ellipse = majorAxisVect_3D_ellipse.cross(p_3DEllipse.subs(v,np.pi/2.)) #np.pi/2. was used, but any value of v is acceptable\n",
    "# normalVect_3D_ellipse = sp.cross([X_perigee_vect_3D_orbit,Y_perigee_vect_3D_orbit,Z_perigee_vect_3D_orbit],\\\n",
    "#             [eqnX.subs(v,np.pi/2.),eqnY.subs(v,np.pi/2.),eqnZ.subs(v,np.pi/2.)]) #np.pi/2. was used, but any value of v is acceptable\n",
    "normalVect_3D_ellipse = normalVect_3D_ellipse/normalVect_3D_ellipse.norm()"
   ]
  },
  {
   "cell_type": "markdown",
   "metadata": {},
   "source": [
    "#### The 3D unit vector along the semi-MINOR axis is given by"
   ]
  },
  {
   "cell_type": "code",
   "execution_count": 143,
   "metadata": {},
   "outputs": [],
   "source": [
    "minorAxisUnitVect_3D_ellipse = majorAxisVect_3D_ellipse.cross(normalVect_3D_ellipse)"
   ]
  },
  {
   "cell_type": "markdown",
   "metadata": {},
   "source": [
    "#### The 3D vector along the semi-MINOR axis is therefore"
   ]
  },
  {
   "cell_type": "code",
   "execution_count": 144,
   "metadata": {},
   "outputs": [],
   "source": [
    "minorAxisVect_3D_ellipse = B_3D*minorAxisUnitVect_3D_ellipse"
   ]
  },
  {
   "cell_type": "markdown",
   "metadata": {},
   "source": [
    "The center of a 3D ellipse is the same as the center of it's projection on any plane"
   ]
  },
  {
   "cell_type": "markdown",
   "metadata": {},
   "source": [
    "#### From 2D Projected Ellipse Center to Projected 3D Ellipse Foci"
   ]
  },
  {
   "cell_type": "markdown",
   "metadata": {},
   "source": [
    "A (major or minor) axis of the 2D Ellipse must lie along the 2D Ellipse center-foci line"
   ]
  },
  {
   "cell_type": "code",
   "execution_count": 145,
   "metadata": {},
   "outputs": [],
   "source": [
    "#The following is not true since the Foci of the 3D ellipse are likely not the Foci of the 2D projected ellipse\n",
    "distance_2DFoci_to_origin = C_3DFoci_to_origin*sp.sqrt(U_3DFoci_to_origin[0]**2+U_3DFoci_to_origin[1]**2) #distance from (3D Ellipse Foci Projected onto 2D plane) to (either) Ellipse Origin"
   ]
  },
  {
   "cell_type": "code",
   "execution_count": 146,
   "metadata": {},
   "outputs": [],
   "source": [
    "projected_FociToPerigee_distance = sp.sqrt(majorAxisVect_3D_ellipse[0]**2+majorAxisVect_3D_ellipse[1]**2)"
   ]
  },
  {
   "cell_type": "markdown",
   "metadata": {},
   "source": [
    "## axis1 - defining a semi-(minor/major) axis depending on size "
   ]
  },
  {
   "cell_type": "code",
   "execution_count": 147,
   "metadata": {},
   "outputs": [],
   "source": [
    "axis1_projected = distance_2DFoci_to_origin+projected_FociToPerigee_distance #this is either the semi-major axis or semi-minor axis\n",
    "axis1Unit_projected = sp.Matrix([X_perigee_vect_3D_orbit, Y_perigee_vect_3D_orbit, 0])#DELETE/np.linalg.norm([X_perigee_vect_3D_orbit, Y_perigee_vect_3D_orbit, 0])\n",
    "axis1Unit_projected = axis1Unit_projected/axis1Unit_projected.norm()"
   ]
  },
  {
   "cell_type": "code",
   "execution_count": 148,
   "metadata": {},
   "outputs": [
    {
     "data": {
      "text/latex": [
       "$\\displaystyle \\left[\\begin{matrix}\\frac{a \\left(1 - e^{2}\\right) \\left(- \\sin{\\left(W \\right)} \\sin{\\left(w \\right)} \\cos{\\left(inc \\right)} + \\cos{\\left(W \\right)} \\cos{\\left(w \\right)}\\right)}{\\left(e + 1\\right) \\sqrt{\\frac{a^{2} \\left(e^{2} - 1\\right)^{2} \\left(\\sin{\\left(W \\right)} \\cos{\\left(w \\right)} + \\sin{\\left(w \\right)} \\cos{\\left(W \\right)} \\cos{\\left(inc \\right)}\\right)^{2}}{\\left(e + 1\\right)^{2}} + \\frac{a^{2} \\left(e^{2} - 1\\right)^{2} \\left(\\sin{\\left(W \\right)} \\sin{\\left(w \\right)} \\cos{\\left(inc \\right)} - \\cos{\\left(W \\right)} \\cos{\\left(w \\right)}\\right)^{2}}{\\left(e + 1\\right)^{2}}}}\\\\\\frac{a \\left(1 - e^{2}\\right) \\left(\\sin{\\left(W \\right)} \\cos{\\left(w \\right)} + \\sin{\\left(w \\right)} \\cos{\\left(W \\right)} \\cos{\\left(inc \\right)}\\right)}{\\left(e + 1\\right) \\sqrt{\\frac{a^{2} \\left(e^{2} - 1\\right)^{2} \\left(\\sin{\\left(W \\right)} \\cos{\\left(w \\right)} + \\sin{\\left(w \\right)} \\cos{\\left(W \\right)} \\cos{\\left(inc \\right)}\\right)^{2}}{\\left(e + 1\\right)^{2}} + \\frac{a^{2} \\left(e^{2} - 1\\right)^{2} \\left(\\sin{\\left(W \\right)} \\sin{\\left(w \\right)} \\cos{\\left(inc \\right)} - \\cos{\\left(W \\right)} \\cos{\\left(w \\right)}\\right)^{2}}{\\left(e + 1\\right)^{2}}}}\\\\0\\end{matrix}\\right]$"
      ],
      "text/plain": [
       "Matrix([\n",
       "[a*(1 - e**2)*(-sin(W)*sin(w)*cos(inc) + cos(W)*cos(w))/((e + 1)*sqrt(a**2*(e**2 - 1)**2*(sin(W)*cos(w) + sin(w)*cos(W)*cos(inc))**2/(e + 1)**2 + a**2*(e**2 - 1)**2*(sin(W)*sin(w)*cos(inc) - cos(W)*cos(w))**2/(e + 1)**2))],\n",
       "[ a*(1 - e**2)*(sin(W)*cos(w) + sin(w)*cos(W)*cos(inc))/((e + 1)*sqrt(a**2*(e**2 - 1)**2*(sin(W)*cos(w) + sin(w)*cos(W)*cos(inc))**2/(e + 1)**2 + a**2*(e**2 - 1)**2*(sin(W)*sin(w)*cos(inc) - cos(W)*cos(w))**2/(e + 1)**2))],\n",
       "[                                                                                                                                                                                                                           0]])"
      ]
     },
     "execution_count": 148,
     "metadata": {},
     "output_type": "execute_result"
    }
   ],
   "source": [
    "axis1Unit_projected"
   ]
  },
  {
   "cell_type": "markdown",
   "metadata": {},
   "source": [
    "## axis2 - defining a semi-(minor/major) axis depending on size"
   ]
  },
  {
   "cell_type": "code",
   "execution_count": 149,
   "metadata": {},
   "outputs": [],
   "source": [
    "#Axis 2 unit vector\n",
    "axis2Unit_projected = axis1Unit_projected.cross(sp.Matrix([0,0,1]))"
   ]
  },
  {
   "cell_type": "code",
   "execution_count": 150,
   "metadata": {},
   "outputs": [
    {
     "data": {
      "text/latex": [
       "$\\displaystyle \\left[\\begin{matrix}\\frac{a \\left(1 - e^{2}\\right) \\left(\\sin{\\left(W \\right)} \\cos{\\left(w \\right)} + \\sin{\\left(w \\right)} \\cos{\\left(W \\right)} \\cos{\\left(inc \\right)}\\right)}{\\left(e + 1\\right) \\sqrt{\\frac{a^{2} \\left(e^{2} - 1\\right)^{2} \\left(\\sin{\\left(W \\right)} \\cos{\\left(w \\right)} + \\sin{\\left(w \\right)} \\cos{\\left(W \\right)} \\cos{\\left(inc \\right)}\\right)^{2}}{\\left(e + 1\\right)^{2}} + \\frac{a^{2} \\left(e^{2} - 1\\right)^{2} \\left(\\sin{\\left(W \\right)} \\sin{\\left(w \\right)} \\cos{\\left(inc \\right)} - \\cos{\\left(W \\right)} \\cos{\\left(w \\right)}\\right)^{2}}{\\left(e + 1\\right)^{2}}}}\\\\- \\frac{a \\left(1 - e^{2}\\right) \\left(- \\sin{\\left(W \\right)} \\sin{\\left(w \\right)} \\cos{\\left(inc \\right)} + \\cos{\\left(W \\right)} \\cos{\\left(w \\right)}\\right)}{\\left(e + 1\\right) \\sqrt{\\frac{a^{2} \\left(e^{2} - 1\\right)^{2} \\left(\\sin{\\left(W \\right)} \\cos{\\left(w \\right)} + \\sin{\\left(w \\right)} \\cos{\\left(W \\right)} \\cos{\\left(inc \\right)}\\right)^{2}}{\\left(e + 1\\right)^{2}} + \\frac{a^{2} \\left(e^{2} - 1\\right)^{2} \\left(\\sin{\\left(W \\right)} \\sin{\\left(w \\right)} \\cos{\\left(inc \\right)} - \\cos{\\left(W \\right)} \\cos{\\left(w \\right)}\\right)^{2}}{\\left(e + 1\\right)^{2}}}}\\\\0\\end{matrix}\\right]$"
      ],
      "text/plain": [
       "Matrix([\n",
       "[  a*(1 - e**2)*(sin(W)*cos(w) + sin(w)*cos(W)*cos(inc))/((e + 1)*sqrt(a**2*(e**2 - 1)**2*(sin(W)*cos(w) + sin(w)*cos(W)*cos(inc))**2/(e + 1)**2 + a**2*(e**2 - 1)**2*(sin(W)*sin(w)*cos(inc) - cos(W)*cos(w))**2/(e + 1)**2))],\n",
       "[-a*(1 - e**2)*(-sin(W)*sin(w)*cos(inc) + cos(W)*cos(w))/((e + 1)*sqrt(a**2*(e**2 - 1)**2*(sin(W)*cos(w) + sin(w)*cos(W)*cos(inc))**2/(e + 1)**2 + a**2*(e**2 - 1)**2*(sin(W)*sin(w)*cos(inc) - cos(W)*cos(w))**2/(e + 1)**2))],\n",
       "[                                                                                                                                                                                                                            0]])"
      ]
     },
     "execution_count": 150,
     "metadata": {},
     "output_type": "execute_result"
    }
   ],
   "source": [
    "axis2Unit_projected"
   ]
  },
  {
   "cell_type": "markdown",
   "metadata": {},
   "source": [
    "#### Ellipse origin location Relative to Foci of 3D Ellipse"
   ]
  },
  {
   "cell_type": "code",
   "execution_count": 151,
   "metadata": {},
   "outputs": [],
   "source": [
    "projectedEllipseCenter = -axis1Unit_projected*distance_2DFoci_to_origin"
   ]
  },
  {
   "cell_type": "markdown",
   "metadata": {},
   "source": [
    "#### X component"
   ]
  },
  {
   "cell_type": "code",
   "execution_count": 152,
   "metadata": {},
   "outputs": [
    {
     "data": {
      "text/latex": [
       "$\\displaystyle \\frac{a b \\left(1 - e^{2}\\right) \\left(\\sin{\\left(W \\right)} \\cos{\\left(w \\right)} + \\sin{\\left(w \\right)} \\cos{\\left(W \\right)} \\cos{\\left(inc \\right)}\\right)}{\\left(e + 1\\right) \\sqrt{\\frac{a^{2} \\left(e^{2} - 1\\right)^{2} \\left(\\sin{\\left(W \\right)} \\cos{\\left(w \\right)} + \\sin{\\left(w \\right)} \\cos{\\left(W \\right)} \\cos{\\left(inc \\right)}\\right)^{2}}{\\left(e + 1\\right)^{2}} + \\frac{a^{2} \\left(e^{2} - 1\\right)^{2} \\left(\\sin{\\left(W \\right)} \\sin{\\left(w \\right)} \\cos{\\left(inc \\right)} - \\cos{\\left(W \\right)} \\cos{\\left(w \\right)}\\right)^{2}}{\\left(e + 1\\right)^{2}}}} - \\frac{a \\left(1 - e^{2}\\right) \\sqrt{- a^{2} \\left(1 - e^{2}\\right) + a^{2}} \\left(- \\sin{\\left(W \\right)} \\sin{\\left(w \\right)} \\cos{\\left(inc \\right)} + \\cos{\\left(W \\right)} \\cos{\\left(w \\right)}\\right) \\sqrt{\\frac{a^{2} \\left(1 - e^{2}\\right)^{2} \\left(\\sin{\\left(W \\right)} \\cos{\\left(w + 3.14159265358979 \\right)} + \\sin{\\left(w + 3.14159265358979 \\right)} \\cos{\\left(W \\right)} \\cos{\\left(inc \\right)}\\right)^{2}}{\\left(1 - 1.0 e\\right)^{2} \\left(a^{2} \\left|{\\frac{\\left(e^{2} - 1\\right) \\left(\\sin{\\left(W \\right)} \\cos{\\left(w + 3.14159265358979 \\right)} + \\sin{\\left(w + 3.14159265358979 \\right)} \\cos{\\left(W \\right)} \\cos{\\left(inc \\right)}\\right)}{1.0 e - 1}}\\right|^{2} + a^{2} \\left|{\\frac{\\left(e^{2} - 1\\right) \\left(\\sin{\\left(W \\right)} \\sin{\\left(w + 3.14159265358979 \\right)} \\cos{\\left(inc \\right)} - \\cos{\\left(W \\right)} \\cos{\\left(w + 3.14159265358979 \\right)}\\right)}{1.0 e - 1}}\\right|^{2}\\right)} + \\frac{a^{2} \\left(1 - e^{2}\\right)^{2} \\left(- \\sin{\\left(W \\right)} \\sin{\\left(w + 3.14159265358979 \\right)} \\cos{\\left(inc \\right)} + \\cos{\\left(W \\right)} \\cos{\\left(w + 3.14159265358979 \\right)}\\right)^{2}}{\\left(1 - 1.0 e\\right)^{2} \\left(a^{2} \\left|{\\frac{\\left(e^{2} - 1\\right) \\left(\\sin{\\left(W \\right)} \\cos{\\left(w + 3.14159265358979 \\right)} + \\sin{\\left(w + 3.14159265358979 \\right)} \\cos{\\left(W \\right)} \\cos{\\left(inc \\right)}\\right)}{1.0 e - 1}}\\right|^{2} + a^{2} \\left|{\\frac{\\left(e^{2} - 1\\right) \\left(\\sin{\\left(W \\right)} \\sin{\\left(w + 3.14159265358979 \\right)} \\cos{\\left(inc \\right)} - \\cos{\\left(W \\right)} \\cos{\\left(w + 3.14159265358979 \\right)}\\right)}{1.0 e - 1}}\\right|^{2}\\right)}}}{\\left(e + 1\\right) \\sqrt{\\frac{a^{2} \\left(e^{2} - 1\\right)^{2} \\left(\\sin{\\left(W \\right)} \\cos{\\left(w \\right)} + \\sin{\\left(w \\right)} \\cos{\\left(W \\right)} \\cos{\\left(inc \\right)}\\right)^{2}}{\\left(e + 1\\right)^{2}} + \\frac{a^{2} \\left(e^{2} - 1\\right)^{2} \\left(\\sin{\\left(W \\right)} \\sin{\\left(w \\right)} \\cos{\\left(inc \\right)} - \\cos{\\left(W \\right)} \\cos{\\left(w \\right)}\\right)^{2}}{\\left(e + 1\\right)^{2}}}}$"
      ],
      "text/plain": [
       "a*b*(1 - e**2)*(sin(W)*cos(w) + sin(w)*cos(W)*cos(inc))/((e + 1)*sqrt(a**2*(e**2 - 1)**2*(sin(W)*cos(w) + sin(w)*cos(W)*cos(inc))**2/(e + 1)**2 + a**2*(e**2 - 1)**2*(sin(W)*sin(w)*cos(inc) - cos(W)*cos(w))**2/(e + 1)**2)) - a*(1 - e**2)*sqrt(-a**2*(1 - e**2) + a**2)*(-sin(W)*sin(w)*cos(inc) + cos(W)*cos(w))*sqrt(a**2*(1 - e**2)**2*(sin(W)*cos(w + 3.14159265358979) + sin(w + 3.14159265358979)*cos(W)*cos(inc))**2/((1 - 1.0*e)**2*(a**2*Abs((e**2 - 1)*(sin(W)*cos(w + 3.14159265358979) + sin(w + 3.14159265358979)*cos(W)*cos(inc))/(1.0*e - 1))**2 + a**2*Abs((e**2 - 1)*(sin(W)*sin(w + 3.14159265358979)*cos(inc) - cos(W)*cos(w + 3.14159265358979))/(1.0*e - 1))**2)) + a**2*(1 - e**2)**2*(-sin(W)*sin(w + 3.14159265358979)*cos(inc) + cos(W)*cos(w + 3.14159265358979))**2/((1 - 1.0*e)**2*(a**2*Abs((e**2 - 1)*(sin(W)*cos(w + 3.14159265358979) + sin(w + 3.14159265358979)*cos(W)*cos(inc))/(1.0*e - 1))**2 + a**2*Abs((e**2 - 1)*(sin(W)*sin(w + 3.14159265358979)*cos(inc) - cos(W)*cos(w + 3.14159265358979))/(1.0*e - 1))**2)))/((e + 1)*sqrt(a**2*(e**2 - 1)**2*(sin(W)*cos(w) + sin(w)*cos(W)*cos(inc))**2/(e + 1)**2 + a**2*(e**2 - 1)**2*(sin(W)*sin(w)*cos(inc) - cos(W)*cos(w))**2/(e + 1)**2))"
      ]
     },
     "execution_count": 152,
     "metadata": {},
     "output_type": "execute_result"
    }
   ],
   "source": [
    "b = sp.symbols('b',real=True,positive=True)\n",
    "b*axis2Unit_projected[0]-axis1Unit_projected[0]*distance_2DFoci_to_origin# = eqnX"
   ]
  },
  {
   "cell_type": "code",
   "execution_count": 153,
   "metadata": {},
   "outputs": [
    {
     "data": {
      "text/latex": [
       "$\\displaystyle \\frac{a \\left(1 - e^{2}\\right) \\left(- \\sin{\\left(W \\right)} \\sin{\\left(v + w \\right)} \\cos{\\left(inc \\right)} + \\cos{\\left(W \\right)} \\cos{\\left(v + w \\right)}\\right)}{e \\cos{\\left(v \\right)} + 1}$"
      ],
      "text/plain": [
       "a*(1 - e**2)*(-sin(W)*sin(v + w)*cos(inc) + cos(W)*cos(v + w))/(e*cos(v) + 1)"
      ]
     },
     "execution_count": 153,
     "metadata": {},
     "output_type": "execute_result"
    }
   ],
   "source": [
    "eqnX #just printing eqnX"
   ]
  },
  {
   "cell_type": "code",
   "execution_count": 154,
   "metadata": {},
   "outputs": [],
   "source": [
    "tmpeqnX = sp.expand(eqnX.subs(sp.cos(v+w),cosApB)).subs(sp.sin(v),sinv).subs(sp.cos(v),x) #expanding sin(v+w)"
   ]
  },
  {
   "cell_type": "code",
   "execution_count": 155,
   "metadata": {},
   "outputs": [
    {
     "data": {
      "text/latex": [
       "$\\displaystyle - \\frac{a e^{2} x \\cos{\\left(W \\right)} \\cos{\\left(w \\right)}}{e x + 1} + \\frac{a e^{2} \\sqrt{1 - x^{2}} \\sin{\\left(w \\right)} \\cos{\\left(W \\right)}}{e x + 1} + \\frac{a e^{2} \\sin{\\left(W \\right)} \\sin{\\left(v + w \\right)} \\cos{\\left(inc \\right)}}{e x + 1} + \\frac{a x \\cos{\\left(W \\right)} \\cos{\\left(w \\right)}}{e x + 1} - \\frac{a \\sqrt{1 - x^{2}} \\sin{\\left(w \\right)} \\cos{\\left(W \\right)}}{e x + 1} - \\frac{a \\sin{\\left(W \\right)} \\sin{\\left(v + w \\right)} \\cos{\\left(inc \\right)}}{e x + 1}$"
      ],
      "text/plain": [
       "-a*e**2*x*cos(W)*cos(w)/(e*x + 1) + a*e**2*sqrt(1 - x**2)*sin(w)*cos(W)/(e*x + 1) + a*e**2*sin(W)*sin(v + w)*cos(inc)/(e*x + 1) + a*x*cos(W)*cos(w)/(e*x + 1) - a*sqrt(1 - x**2)*sin(w)*cos(W)/(e*x + 1) - a*sin(W)*sin(v + w)*cos(inc)/(e*x + 1)"
      ]
     },
     "execution_count": 155,
     "metadata": {},
     "output_type": "execute_result"
    }
   ],
   "source": [
    "sp.expand(eqnX.subs(sp.cos(v+w),cosApB)).subs(sp.sin(v),sinv).subs(sp.cos(v),x)"
   ]
  },
  {
   "cell_type": "code",
   "execution_count": 156,
   "metadata": {},
   "outputs": [
    {
     "data": {
      "text/latex": [
       "$\\displaystyle - \\frac{a e^{2} x \\cos{\\left(W \\right)} \\cos{\\left(w \\right)}}{e x + 1} + \\frac{a e^{2} \\sqrt{1 - x^{2}} \\sin{\\left(w \\right)} \\cos{\\left(W \\right)}}{e x + 1} + \\frac{a e^{2} \\sin{\\left(W \\right)} \\sin{\\left(v + w \\right)} \\cos{\\left(inc \\right)}}{e x + 1} + \\frac{a x \\cos{\\left(W \\right)} \\cos{\\left(w \\right)}}{e x + 1} - \\frac{a \\sqrt{1 - x^{2}} \\sin{\\left(w \\right)} \\cos{\\left(W \\right)}}{e x + 1} - \\frac{a \\sin{\\left(W \\right)} \\sin{\\left(v + w \\right)} \\cos{\\left(inc \\right)}}{e x + 1} - c_{1}$"
      ],
      "text/plain": [
       "-a*e**2*x*cos(W)*cos(w)/(e*x + 1) + a*e**2*sqrt(1 - x**2)*sin(w)*cos(W)/(e*x + 1) + a*e**2*sin(W)*sin(v + w)*cos(inc)/(e*x + 1) + a*x*cos(W)*cos(w)/(e*x + 1) - a*sqrt(1 - x**2)*sin(w)*cos(W)/(e*x + 1) - a*sin(W)*sin(v + w)*cos(inc)/(e*x + 1) - c1"
      ]
     },
     "execution_count": 156,
     "metadata": {},
     "output_type": "execute_result"
    }
   ],
   "source": [
    "sp.expand(eqnX.subs(sp.cos(v+w),cosApB)).subs(sp.sin(v),sinv).subs(sp.cos(v),x) - c1"
   ]
  },
  {
   "cell_type": "code",
   "execution_count": 157,
   "metadata": {},
   "outputs": [
    {
     "data": {
      "text/latex": [
       "$\\displaystyle - e^{2} x \\cos{\\left(W \\right)} \\cos{\\left(w \\right)} + e^{2} \\sqrt{1 - x^{2}} \\sin{\\left(w \\right)} \\cos{\\left(W \\right)} + e^{2} \\sin{\\left(W \\right)} \\sin{\\left(v + w \\right)} \\cos{\\left(inc \\right)} + x \\cos{\\left(W \\right)} \\cos{\\left(w \\right)} - \\sqrt{1 - x^{2}} \\sin{\\left(w \\right)} \\cos{\\left(W \\right)} - \\sin{\\left(W \\right)} \\sin{\\left(v + w \\right)} \\cos{\\left(inc \\right)} - \\frac{c_{1} e x}{a} - \\frac{c_{1}}{a}$"
      ],
      "text/plain": [
       "-e**2*x*cos(W)*cos(w) + e**2*sqrt(1 - x**2)*sin(w)*cos(W) + e**2*sin(W)*sin(v + w)*cos(inc) + x*cos(W)*cos(w) - sqrt(1 - x**2)*sin(w)*cos(W) - sin(W)*sin(v + w)*cos(inc) - c1*e*x/a - c1/a"
      ]
     },
     "execution_count": 157,
     "metadata": {},
     "output_type": "execute_result"
    }
   ],
   "source": [
    "sp.simplify((sp.expand(eqnX.subs(sp.cos(v+w),cosApB)).subs(sp.sin(v),sinv).subs(sp.cos(v),x) - c1)*(e*x+1)/a)"
   ]
  },
  {
   "cell_type": "code",
   "execution_count": 158,
   "metadata": {},
   "outputs": [],
   "source": [
    "tmp = sp.simplify((sp.expand(eqnX.subs(sp.cos(v+w),cosApB)).subs(sp.sin(v),sinv).subs(sp.cos(v),x) - c1)*(e*x+1)/a)"
   ]
  },
  {
   "cell_type": "code",
   "execution_count": 159,
   "metadata": {},
   "outputs": [],
   "source": [
    "B, C, D = sp.symbols('B C D', real=True)"
   ]
  },
  {
   "cell_type": "code",
   "execution_count": 160,
   "metadata": {},
   "outputs": [],
   "source": [
    "outX1 = sp.solve(C+B*x+D*sp.sqrt(1-x**2),x)"
   ]
  },
  {
   "cell_type": "code",
   "execution_count": 161,
   "metadata": {},
   "outputs": [
    {
     "data": {
      "text/plain": [
       "[(-B*C + D*sqrt(B**2 - C**2 + D**2))/(B**2 + D**2),\n",
       " -(B*C + D*sqrt(B**2 - C**2 + D**2))/(B**2 + D**2)]"
      ]
     },
     "execution_count": 161,
     "metadata": {},
     "output_type": "execute_result"
    }
   ],
   "source": [
    "outX1"
   ]
  },
  {
   "cell_type": "code",
   "execution_count": 162,
   "metadata": {},
   "outputs": [],
   "source": [
    "#outX0 = sp.solve(tmpeqnX-c1,x)"
   ]
  },
  {
   "cell_type": "code",
   "execution_count": 163,
   "metadata": {},
   "outputs": [],
   "source": [
    "#outX0"
   ]
  },
  {
   "cell_type": "code",
   "execution_count": 164,
   "metadata": {},
   "outputs": [
    {
     "data": {
      "text/latex": [
       "$\\displaystyle \\frac{a \\left(1 - e^{2}\\right) \\left(\\sin{\\left(W \\right)} \\cos{\\left(v + w \\right)} + \\sin{\\left(v + w \\right)} \\cos{\\left(W \\right)} \\cos{\\left(inc \\right)}\\right)}{e \\cos{\\left(v \\right)} + 1}$"
      ],
      "text/plain": [
       "a*(1 - e**2)*(sin(W)*cos(v + w) + sin(v + w)*cos(W)*cos(inc))/(e*cos(v) + 1)"
      ]
     },
     "execution_count": 164,
     "metadata": {},
     "output_type": "execute_result"
    }
   ],
   "source": [
    "eqnY"
   ]
  },
  {
   "cell_type": "code",
   "execution_count": 165,
   "metadata": {},
   "outputs": [],
   "source": [
    "tmpeqnY = sp.expand(eqnY.subs(sp.sin(v+w),sinApB))"
   ]
  },
  {
   "cell_type": "code",
   "execution_count": 166,
   "metadata": {},
   "outputs": [
    {
     "data": {
      "text/latex": [
       "$\\displaystyle - \\frac{a e^{2} \\sin{\\left(W \\right)} \\cos{\\left(v + w \\right)}}{e \\cos{\\left(v \\right)} + 1} - \\frac{a e^{2} \\sin{\\left(v \\right)} \\cos{\\left(W \\right)} \\cos{\\left(inc \\right)} \\cos{\\left(w \\right)}}{e \\cos{\\left(v \\right)} + 1} - \\frac{a e^{2} \\sin{\\left(w \\right)} \\cos{\\left(W \\right)} \\cos{\\left(inc \\right)} \\cos{\\left(v \\right)}}{e \\cos{\\left(v \\right)} + 1} + \\frac{a \\sin{\\left(W \\right)} \\cos{\\left(v + w \\right)}}{e \\cos{\\left(v \\right)} + 1} + \\frac{a \\sin{\\left(v \\right)} \\cos{\\left(W \\right)} \\cos{\\left(inc \\right)} \\cos{\\left(w \\right)}}{e \\cos{\\left(v \\right)} + 1} + \\frac{a \\sin{\\left(w \\right)} \\cos{\\left(W \\right)} \\cos{\\left(inc \\right)} \\cos{\\left(v \\right)}}{e \\cos{\\left(v \\right)} + 1}$"
      ],
      "text/plain": [
       "-a*e**2*sin(W)*cos(v + w)/(e*cos(v) + 1) - a*e**2*sin(v)*cos(W)*cos(inc)*cos(w)/(e*cos(v) + 1) - a*e**2*sin(w)*cos(W)*cos(inc)*cos(v)/(e*cos(v) + 1) + a*sin(W)*cos(v + w)/(e*cos(v) + 1) + a*sin(v)*cos(W)*cos(inc)*cos(w)/(e*cos(v) + 1) + a*sin(w)*cos(W)*cos(inc)*cos(v)/(e*cos(v) + 1)"
      ]
     },
     "execution_count": 166,
     "metadata": {},
     "output_type": "execute_result"
    }
   ],
   "source": [
    "tmpeqnY"
   ]
  },
  {
   "cell_type": "markdown",
   "metadata": {},
   "source": [
    "#### Y component, solve"
   ]
  },
  {
   "cell_type": "code",
   "execution_count": 167,
   "metadata": {},
   "outputs": [
    {
     "data": {
      "text/latex": [
       "$\\displaystyle - \\frac{a b \\left(1 - e^{2}\\right) \\left(- \\sin{\\left(W \\right)} \\sin{\\left(w \\right)} \\cos{\\left(inc \\right)} + \\cos{\\left(W \\right)} \\cos{\\left(w \\right)}\\right)}{\\left(e + 1\\right) \\sqrt{\\frac{a^{2} \\left(e^{2} - 1\\right)^{2} \\left(\\sin{\\left(W \\right)} \\cos{\\left(w \\right)} + \\sin{\\left(w \\right)} \\cos{\\left(W \\right)} \\cos{\\left(inc \\right)}\\right)^{2}}{\\left(e + 1\\right)^{2}} + \\frac{a^{2} \\left(e^{2} - 1\\right)^{2} \\left(\\sin{\\left(W \\right)} \\sin{\\left(w \\right)} \\cos{\\left(inc \\right)} - \\cos{\\left(W \\right)} \\cos{\\left(w \\right)}\\right)^{2}}{\\left(e + 1\\right)^{2}}}} - \\frac{a \\left(1 - e^{2}\\right) \\sqrt{- a^{2} \\left(1 - e^{2}\\right) + a^{2}} \\left(\\sin{\\left(W \\right)} \\cos{\\left(w \\right)} + \\sin{\\left(w \\right)} \\cos{\\left(W \\right)} \\cos{\\left(inc \\right)}\\right) \\sqrt{\\frac{a^{2} \\left(1 - e^{2}\\right)^{2} \\left(\\sin{\\left(W \\right)} \\cos{\\left(w + 3.14159265358979 \\right)} + \\sin{\\left(w + 3.14159265358979 \\right)} \\cos{\\left(W \\right)} \\cos{\\left(inc \\right)}\\right)^{2}}{\\left(1 - 1.0 e\\right)^{2} \\left(a^{2} \\left|{\\frac{\\left(e^{2} - 1\\right) \\left(\\sin{\\left(W \\right)} \\cos{\\left(w + 3.14159265358979 \\right)} + \\sin{\\left(w + 3.14159265358979 \\right)} \\cos{\\left(W \\right)} \\cos{\\left(inc \\right)}\\right)}{1.0 e - 1}}\\right|^{2} + a^{2} \\left|{\\frac{\\left(e^{2} - 1\\right) \\left(\\sin{\\left(W \\right)} \\sin{\\left(w + 3.14159265358979 \\right)} \\cos{\\left(inc \\right)} - \\cos{\\left(W \\right)} \\cos{\\left(w + 3.14159265358979 \\right)}\\right)}{1.0 e - 1}}\\right|^{2}\\right)} + \\frac{a^{2} \\left(1 - e^{2}\\right)^{2} \\left(- \\sin{\\left(W \\right)} \\sin{\\left(w + 3.14159265358979 \\right)} \\cos{\\left(inc \\right)} + \\cos{\\left(W \\right)} \\cos{\\left(w + 3.14159265358979 \\right)}\\right)^{2}}{\\left(1 - 1.0 e\\right)^{2} \\left(a^{2} \\left|{\\frac{\\left(e^{2} - 1\\right) \\left(\\sin{\\left(W \\right)} \\cos{\\left(w + 3.14159265358979 \\right)} + \\sin{\\left(w + 3.14159265358979 \\right)} \\cos{\\left(W \\right)} \\cos{\\left(inc \\right)}\\right)}{1.0 e - 1}}\\right|^{2} + a^{2} \\left|{\\frac{\\left(e^{2} - 1\\right) \\left(\\sin{\\left(W \\right)} \\sin{\\left(w + 3.14159265358979 \\right)} \\cos{\\left(inc \\right)} - \\cos{\\left(W \\right)} \\cos{\\left(w + 3.14159265358979 \\right)}\\right)}{1.0 e - 1}}\\right|^{2}\\right)}}}{\\left(e + 1\\right) \\sqrt{\\frac{a^{2} \\left(e^{2} - 1\\right)^{2} \\left(\\sin{\\left(W \\right)} \\cos{\\left(w \\right)} + \\sin{\\left(w \\right)} \\cos{\\left(W \\right)} \\cos{\\left(inc \\right)}\\right)^{2}}{\\left(e + 1\\right)^{2}} + \\frac{a^{2} \\left(e^{2} - 1\\right)^{2} \\left(\\sin{\\left(W \\right)} \\sin{\\left(w \\right)} \\cos{\\left(inc \\right)} - \\cos{\\left(W \\right)} \\cos{\\left(w \\right)}\\right)^{2}}{\\left(e + 1\\right)^{2}}}}$"
      ],
      "text/plain": [
       "-a*b*(1 - e**2)*(-sin(W)*sin(w)*cos(inc) + cos(W)*cos(w))/((e + 1)*sqrt(a**2*(e**2 - 1)**2*(sin(W)*cos(w) + sin(w)*cos(W)*cos(inc))**2/(e + 1)**2 + a**2*(e**2 - 1)**2*(sin(W)*sin(w)*cos(inc) - cos(W)*cos(w))**2/(e + 1)**2)) - a*(1 - e**2)*sqrt(-a**2*(1 - e**2) + a**2)*(sin(W)*cos(w) + sin(w)*cos(W)*cos(inc))*sqrt(a**2*(1 - e**2)**2*(sin(W)*cos(w + 3.14159265358979) + sin(w + 3.14159265358979)*cos(W)*cos(inc))**2/((1 - 1.0*e)**2*(a**2*Abs((e**2 - 1)*(sin(W)*cos(w + 3.14159265358979) + sin(w + 3.14159265358979)*cos(W)*cos(inc))/(1.0*e - 1))**2 + a**2*Abs((e**2 - 1)*(sin(W)*sin(w + 3.14159265358979)*cos(inc) - cos(W)*cos(w + 3.14159265358979))/(1.0*e - 1))**2)) + a**2*(1 - e**2)**2*(-sin(W)*sin(w + 3.14159265358979)*cos(inc) + cos(W)*cos(w + 3.14159265358979))**2/((1 - 1.0*e)**2*(a**2*Abs((e**2 - 1)*(sin(W)*cos(w + 3.14159265358979) + sin(w + 3.14159265358979)*cos(W)*cos(inc))/(1.0*e - 1))**2 + a**2*Abs((e**2 - 1)*(sin(W)*sin(w + 3.14159265358979)*cos(inc) - cos(W)*cos(w + 3.14159265358979))/(1.0*e - 1))**2)))/((e + 1)*sqrt(a**2*(e**2 - 1)**2*(sin(W)*cos(w) + sin(w)*cos(W)*cos(inc))**2/(e + 1)**2 + a**2*(e**2 - 1)**2*(sin(W)*sin(w)*cos(inc) - cos(W)*cos(w))**2/(e + 1)**2))"
      ]
     },
     "execution_count": 167,
     "metadata": {},
     "output_type": "execute_result"
    }
   ],
   "source": [
    "b*axis2Unit_projected[1]-axis1Unit_projected[1]*distance_2DFoci_to_origin # = eqnY"
   ]
  },
  {
   "cell_type": "code",
   "execution_count": 168,
   "metadata": {},
   "outputs": [],
   "source": [
    "#sp.simplify(b*axis2Unit_projected[1]-axis1Unit_projected[1]*distance_2DFoci_to_origin - eqnY)#= 0"
   ]
  },
  {
   "cell_type": "code",
   "execution_count": 169,
   "metadata": {},
   "outputs": [],
   "source": [
    "#axis2Unit_projected-axis1Unit_projected*distance_2DFoci_to_origin = [eqnX,eqnY,0]"
   ]
  },
  {
   "cell_type": "code",
   "execution_count": 170,
   "metadata": {},
   "outputs": [],
   "source": [
    "#Axis 2 length\n",
    "#Solve the following for axis2_projected\n",
    "#axis2_projected = \n",
    "#SOLVE THIS [eqnX,eqnY,0] == projectedEllipseCenter + axis2_projected*axis2Unit_projected\n",
    "#Aha! Solve for axis2_projected for only one variable! (Easy?)"
   ]
  },
  {
   "cell_type": "code",
   "execution_count": 171,
   "metadata": {},
   "outputs": [
    {
     "data": {
      "text/latex": [
       "$\\displaystyle \\left[\\begin{matrix}- \\frac{a \\left(1 - e^{2}\\right) \\sqrt{- a^{2} \\left(1 - e^{2}\\right) + a^{2}} \\left(- \\sin{\\left(W \\right)} \\sin{\\left(w \\right)} \\cos{\\left(inc \\right)} + \\cos{\\left(W \\right)} \\cos{\\left(w \\right)}\\right) \\sqrt{\\frac{a^{2} \\left(1 - e^{2}\\right)^{2} \\left(\\sin{\\left(W \\right)} \\cos{\\left(w + 3.14159265358979 \\right)} + \\sin{\\left(w + 3.14159265358979 \\right)} \\cos{\\left(W \\right)} \\cos{\\left(inc \\right)}\\right)^{2}}{\\left(1 - 1.0 e\\right)^{2} \\left(a^{2} \\left|{\\frac{\\left(e^{2} - 1\\right) \\left(\\sin{\\left(W \\right)} \\cos{\\left(w + 3.14159265358979 \\right)} + \\sin{\\left(w + 3.14159265358979 \\right)} \\cos{\\left(W \\right)} \\cos{\\left(inc \\right)}\\right)}{1.0 e - 1}}\\right|^{2} + a^{2} \\left|{\\frac{\\left(e^{2} - 1\\right) \\left(\\sin{\\left(W \\right)} \\sin{\\left(w + 3.14159265358979 \\right)} \\cos{\\left(inc \\right)} - \\cos{\\left(W \\right)} \\cos{\\left(w + 3.14159265358979 \\right)}\\right)}{1.0 e - 1}}\\right|^{2}\\right)} + \\frac{a^{2} \\left(1 - e^{2}\\right)^{2} \\left(- \\sin{\\left(W \\right)} \\sin{\\left(w + 3.14159265358979 \\right)} \\cos{\\left(inc \\right)} + \\cos{\\left(W \\right)} \\cos{\\left(w + 3.14159265358979 \\right)}\\right)^{2}}{\\left(1 - 1.0 e\\right)^{2} \\left(a^{2} \\left|{\\frac{\\left(e^{2} - 1\\right) \\left(\\sin{\\left(W \\right)} \\cos{\\left(w + 3.14159265358979 \\right)} + \\sin{\\left(w + 3.14159265358979 \\right)} \\cos{\\left(W \\right)} \\cos{\\left(inc \\right)}\\right)}{1.0 e - 1}}\\right|^{2} + a^{2} \\left|{\\frac{\\left(e^{2} - 1\\right) \\left(\\sin{\\left(W \\right)} \\sin{\\left(w + 3.14159265358979 \\right)} \\cos{\\left(inc \\right)} - \\cos{\\left(W \\right)} \\cos{\\left(w + 3.14159265358979 \\right)}\\right)}{1.0 e - 1}}\\right|^{2}\\right)}}}{\\left(e + 1\\right) \\sqrt{\\frac{a^{2} \\left(e^{2} - 1\\right)^{2} \\left(\\sin{\\left(W \\right)} \\cos{\\left(w \\right)} + \\sin{\\left(w \\right)} \\cos{\\left(W \\right)} \\cos{\\left(inc \\right)}\\right)^{2}}{\\left(e + 1\\right)^{2}} + \\frac{a^{2} \\left(e^{2} - 1\\right)^{2} \\left(\\sin{\\left(W \\right)} \\sin{\\left(w \\right)} \\cos{\\left(inc \\right)} - \\cos{\\left(W \\right)} \\cos{\\left(w \\right)}\\right)^{2}}{\\left(e + 1\\right)^{2}}}}\\\\- \\frac{a \\left(1 - e^{2}\\right) \\sqrt{- a^{2} \\left(1 - e^{2}\\right) + a^{2}} \\left(\\sin{\\left(W \\right)} \\cos{\\left(w \\right)} + \\sin{\\left(w \\right)} \\cos{\\left(W \\right)} \\cos{\\left(inc \\right)}\\right) \\sqrt{\\frac{a^{2} \\left(1 - e^{2}\\right)^{2} \\left(\\sin{\\left(W \\right)} \\cos{\\left(w + 3.14159265358979 \\right)} + \\sin{\\left(w + 3.14159265358979 \\right)} \\cos{\\left(W \\right)} \\cos{\\left(inc \\right)}\\right)^{2}}{\\left(1 - 1.0 e\\right)^{2} \\left(a^{2} \\left|{\\frac{\\left(e^{2} - 1\\right) \\left(\\sin{\\left(W \\right)} \\cos{\\left(w + 3.14159265358979 \\right)} + \\sin{\\left(w + 3.14159265358979 \\right)} \\cos{\\left(W \\right)} \\cos{\\left(inc \\right)}\\right)}{1.0 e - 1}}\\right|^{2} + a^{2} \\left|{\\frac{\\left(e^{2} - 1\\right) \\left(\\sin{\\left(W \\right)} \\sin{\\left(w + 3.14159265358979 \\right)} \\cos{\\left(inc \\right)} - \\cos{\\left(W \\right)} \\cos{\\left(w + 3.14159265358979 \\right)}\\right)}{1.0 e - 1}}\\right|^{2}\\right)} + \\frac{a^{2} \\left(1 - e^{2}\\right)^{2} \\left(- \\sin{\\left(W \\right)} \\sin{\\left(w + 3.14159265358979 \\right)} \\cos{\\left(inc \\right)} + \\cos{\\left(W \\right)} \\cos{\\left(w + 3.14159265358979 \\right)}\\right)^{2}}{\\left(1 - 1.0 e\\right)^{2} \\left(a^{2} \\left|{\\frac{\\left(e^{2} - 1\\right) \\left(\\sin{\\left(W \\right)} \\cos{\\left(w + 3.14159265358979 \\right)} + \\sin{\\left(w + 3.14159265358979 \\right)} \\cos{\\left(W \\right)} \\cos{\\left(inc \\right)}\\right)}{1.0 e - 1}}\\right|^{2} + a^{2} \\left|{\\frac{\\left(e^{2} - 1\\right) \\left(\\sin{\\left(W \\right)} \\sin{\\left(w + 3.14159265358979 \\right)} \\cos{\\left(inc \\right)} - \\cos{\\left(W \\right)} \\cos{\\left(w + 3.14159265358979 \\right)}\\right)}{1.0 e - 1}}\\right|^{2}\\right)}}}{\\left(e + 1\\right) \\sqrt{\\frac{a^{2} \\left(e^{2} - 1\\right)^{2} \\left(\\sin{\\left(W \\right)} \\cos{\\left(w \\right)} + \\sin{\\left(w \\right)} \\cos{\\left(W \\right)} \\cos{\\left(inc \\right)}\\right)^{2}}{\\left(e + 1\\right)^{2}} + \\frac{a^{2} \\left(e^{2} - 1\\right)^{2} \\left(\\sin{\\left(W \\right)} \\sin{\\left(w \\right)} \\cos{\\left(inc \\right)} - \\cos{\\left(W \\right)} \\cos{\\left(w \\right)}\\right)^{2}}{\\left(e + 1\\right)^{2}}}}\\\\0\\end{matrix}\\right]$"
      ],
      "text/plain": [
       "Matrix([\n",
       "[-a*(1 - e**2)*sqrt(-a**2*(1 - e**2) + a**2)*(-sin(W)*sin(w)*cos(inc) + cos(W)*cos(w))*sqrt(a**2*(1 - e**2)**2*(sin(W)*cos(w + 3.14159265358979) + sin(w + 3.14159265358979)*cos(W)*cos(inc))**2/((1 - 1.0*e)**2*(a**2*Abs((e**2 - 1)*(sin(W)*cos(w + 3.14159265358979) + sin(w + 3.14159265358979)*cos(W)*cos(inc))/(1.0*e - 1))**2 + a**2*Abs((e**2 - 1)*(sin(W)*sin(w + 3.14159265358979)*cos(inc) - cos(W)*cos(w + 3.14159265358979))/(1.0*e - 1))**2)) + a**2*(1 - e**2)**2*(-sin(W)*sin(w + 3.14159265358979)*cos(inc) + cos(W)*cos(w + 3.14159265358979))**2/((1 - 1.0*e)**2*(a**2*Abs((e**2 - 1)*(sin(W)*cos(w + 3.14159265358979) + sin(w + 3.14159265358979)*cos(W)*cos(inc))/(1.0*e - 1))**2 + a**2*Abs((e**2 - 1)*(sin(W)*sin(w + 3.14159265358979)*cos(inc) - cos(W)*cos(w + 3.14159265358979))/(1.0*e - 1))**2)))/((e + 1)*sqrt(a**2*(e**2 - 1)**2*(sin(W)*cos(w) + sin(w)*cos(W)*cos(inc))**2/(e + 1)**2 + a**2*(e**2 - 1)**2*(sin(W)*sin(w)*cos(inc) - cos(W)*cos(w))**2/(e + 1)**2))],\n",
       "[ -a*(1 - e**2)*sqrt(-a**2*(1 - e**2) + a**2)*(sin(W)*cos(w) + sin(w)*cos(W)*cos(inc))*sqrt(a**2*(1 - e**2)**2*(sin(W)*cos(w + 3.14159265358979) + sin(w + 3.14159265358979)*cos(W)*cos(inc))**2/((1 - 1.0*e)**2*(a**2*Abs((e**2 - 1)*(sin(W)*cos(w + 3.14159265358979) + sin(w + 3.14159265358979)*cos(W)*cos(inc))/(1.0*e - 1))**2 + a**2*Abs((e**2 - 1)*(sin(W)*sin(w + 3.14159265358979)*cos(inc) - cos(W)*cos(w + 3.14159265358979))/(1.0*e - 1))**2)) + a**2*(1 - e**2)**2*(-sin(W)*sin(w + 3.14159265358979)*cos(inc) + cos(W)*cos(w + 3.14159265358979))**2/((1 - 1.0*e)**2*(a**2*Abs((e**2 - 1)*(sin(W)*cos(w + 3.14159265358979) + sin(w + 3.14159265358979)*cos(W)*cos(inc))/(1.0*e - 1))**2 + a**2*Abs((e**2 - 1)*(sin(W)*sin(w + 3.14159265358979)*cos(inc) - cos(W)*cos(w + 3.14159265358979))/(1.0*e - 1))**2)))/((e + 1)*sqrt(a**2*(e**2 - 1)**2*(sin(W)*cos(w) + sin(w)*cos(W)*cos(inc))**2/(e + 1)**2 + a**2*(e**2 - 1)**2*(sin(W)*sin(w)*cos(inc) - cos(W)*cos(w))**2/(e + 1)**2))],\n",
       "[                                                                                                                                                                                                                                                                                                                                                                                                                                                                                                                                                                                                                                                                                                                                                                                                                                                                                                                                                                                                   0]])"
      ]
     },
     "execution_count": 171,
     "metadata": {},
     "output_type": "execute_result"
    }
   ],
   "source": [
    "projectedEllipseCenter"
   ]
  },
  {
   "cell_type": "markdown",
   "metadata": {},
   "source": [
    "# Proof I can Use W = 0"
   ]
  },
  {
   "cell_type": "markdown",
   "metadata": {},
   "source": [
    "NOTE: For correct plotting of the following 2 plots, the X,Y,Z eqns must not substitute for Omega"
   ]
  },
  {
   "cell_type": "code",
   "execution_count": 172,
   "metadata": {},
   "outputs": [],
   "source": [
    "import matplotlib.pyplot as plt"
   ]
  },
  {
   "cell_type": "code",
   "execution_count": 173,
   "metadata": {},
   "outputs": [],
   "source": [
    "nus = np.linspace(start=0.,stop=2.*np.pi,num=200)\n",
    "points0 = np.asarray([p_3DEllipse.subs(W,0).subs(w,0).subs(e,0.6).subs(a,1).subs(inc,0).subs(v,nus[i]) for i in np.arange(len(nus))]) #Points for Ellipse on XY plane\n",
    "Foci00 = C_3DFoci_to_origin.subs(W,0).subs(w,0).subs(e,0.6).subs(a,1).subs(inc,0)"
   ]
  },
  {
   "cell_type": "code",
   "execution_count": 185,
   "metadata": {},
   "outputs": [],
   "source": [
    "points1 = np.asarray([p_3DEllipse.subs(W,np.pi/2).subs(w,0).subs(e,0.6).subs(a,1).subs(inc,0).subs(v,nus[i]) for i in np.arange(len(nus))]) #Inclined Ellipse"
   ]
  },
  {
   "cell_type": "code",
   "execution_count": 191,
   "metadata": {},
   "outputs": [],
   "source": [
    "points2 = np.asarray([p_3DEllipse.subs(W,0).subs(w,0).subs(e,0.6).subs(a,1).subs(inc,np.pi/3).subs(v,nus[i]) for i in np.arange(len(nus))]) #Points for Ellipse on XY plane"
   ]
  },
  {
   "cell_type": "code",
   "execution_count": 192,
   "metadata": {},
   "outputs": [],
   "source": [
    "points3 = np.asarray([p_3DEllipse.subs(W,np.pi/2).subs(w,0).subs(e,0.6).subs(a,1).subs(inc,np.pi/3).subs(v,nus[i]) for i in np.arange(len(nus))]) #Inclined Ellipse"
   ]
  },
  {
   "cell_type": "code",
   "execution_count": 193,
   "metadata": {},
   "outputs": [
    {
     "data": {
      "image/png": "[encoded data removed]",
      "text/plain": [
       "<Figure size 432x288 with 1 Axes>"
      ]
     },
     "metadata": {
      "needs_background": "light"
     },
     "output_type": "display_data"
    }
   ],
   "source": [
    "fig1 = plt.figure(num=7)\n",
    "plt.plot(Foci00+points0[:,0],points0[:,1],color='black')#Plot ellipse fully on XY plane\n",
    "plt.plot([-1.,1.],[0,0],color='black')#plot X axis\n",
    "plt.plot([0,0],[-1,1],color='black')#plot Y axis\n",
    "plt.scatter([Foci00],[0],color='orange')#plot Foci\n",
    "\n",
    "#Inclined Ellipse\n",
    "plt.plot(Foci00+points1[:,0],points1[:,1],color='red')\n",
    "\n",
    "plt.plot(Foci00+points2[:,0],points2[:,1],color='green')\n",
    "plt.plot(Foci00+points3[:,0],points3[:,1],color='blue')\n",
    "\n",
    "fig1.gca().axis('equal')\n",
    "plt.show(block=False)"
   ]
  },
  {
   "cell_type": "code",
   "execution_count": 195,
   "metadata": {},
   "outputs": [],
   "source": [
    "nus_1 = np.linspace(start=0.,stop=2.*np.pi,num=200)\n",
    "points0_1 = np.asarray([p_3DEllipse.subs(W,0).subs(w,np.pi/3).subs(e,0.6).subs(a,1).subs(inc,0).subs(v,nus_1[i]) for i in np.arange(len(nus_1))]) #Points for Ellipse on XY plane\n",
    "Foci00_1 = C_3DFoci_to_origin.subs(W,0).subs(w,np.pi/3).subs(e,0.6).subs(a,1).subs(inc,0)"
   ]
  },
  {
   "cell_type": "code",
   "execution_count": 196,
   "metadata": {},
   "outputs": [],
   "source": [
    "points1_1 = np.asarray([p_3DEllipse.subs(W,np.pi/2).subs(w,np.pi/3).subs(e,0.6).subs(a,1).subs(inc,0).subs(v,nus_1[i]) for i in np.arange(len(nus_1))]) #Inclined Ellipse"
   ]
  },
  {
   "cell_type": "code",
   "execution_count": 197,
   "metadata": {},
   "outputs": [],
   "source": [
    "points2_1 = np.asarray([p_3DEllipse.subs(W,0).subs(w,np.pi/3).subs(e,0.6).subs(a,1).subs(inc,np.pi/3).subs(v,nus_1[i]) for i in np.arange(len(nus_1))]) #Points for Ellipse on XY plane"
   ]
  },
  {
   "cell_type": "code",
   "execution_count": 198,
   "metadata": {},
   "outputs": [],
   "source": [
    "points3_1 = np.asarray([p_3DEllipse.subs(W,np.pi/2).subs(w,np.pi/3).subs(e,0.6).subs(a,1).subs(inc,np.pi/3).subs(v,nus_1[i]) for i in np.arange(len(nus_1))]) #Inclined Ellipse"
   ]
  },
  {
   "cell_type": "code",
   "execution_count": 199,
   "metadata": {},
   "outputs": [
    {
     "data": {
      "image/png": "[encoded data removed]",
      "text/plain": [
       "<Figure size 432x288 with 1 Axes>"
      ]
     },
     "metadata": {
      "needs_background": "light"
     },
     "output_type": "display_data"
    }
   ],
   "source": [
    "fig2 = plt.figure(num=8)\n",
    "plt.plot(Foci00_1+points0_1[:,0],points0_1[:,1],color='black')#Plot ellipse fully on XY plane\n",
    "plt.plot([-1.,1.],[0,0],color='black')#plot X axis\n",
    "plt.plot([0,0],[-1,1],color='black')#plot Y axis\n",
    "plt.scatter([Foci00_1],[0],color='orange')#plot Foci\n",
    "\n",
    "#Inclined Ellipse\n",
    "plt.plot(Foci00_1+points1_1[:,0],points1_1[:,1],color='red')\n",
    "\n",
    "plt.plot(Foci00_1+points2_1[:,0],points2_1[:,1],color='green')\n",
    "plt.plot(Foci00_1+points3_1[:,0],points3_1[:,1],color='blue')\n",
    "\n",
    "fig2.gca().axis('equal')\n",
    "plt.show(block=False)"
   ]
  },
  {
   "cell_type": "markdown",
   "metadata": {},
   "source": [
    "# How does w change Foci plotting"
   ]
  },
  {
   "cell_type": "code",
   "execution_count": 222,
   "metadata": {},
   "outputs": [],
   "source": [
    "nus_2 = np.linspace(start=0.,stop=2.*np.pi,num=200)\n",
    "points0_2 = np.asarray([p_3DEllipse.subs(W,0).subs(w,0).subs(e,0.6).subs(a,1).subs(inc,0).subs(v,nus_2[i]) for i in np.arange(len(nus_2))]) #Points for Ellipse on XY plane\n",
    "Foci00_2 = C_3DFoci_to_origin.subs(W,0).subs(w,0).subs(e,0.6).subs(a,1).subs(inc,0)"
   ]
  },
  {
   "cell_type": "code",
   "execution_count": 223,
   "metadata": {},
   "outputs": [],
   "source": [
    "points1_2 = np.asarray([p_3DEllipse.subs(W,0).subs(w,0).subs(e,0.6).subs(a,1).subs(inc,np.pi/4).subs(v,nus_2[i]) for i in np.arange(len(nus_2))]) #Inclined Ellipse"
   ]
  },
  {
   "cell_type": "code",
   "execution_count": 224,
   "metadata": {},
   "outputs": [],
   "source": [
    "points2_2 = np.asarray([p_3DEllipse.subs(W,0).subs(w,np.pi/3).subs(e,0.6).subs(a,1).subs(inc,0).subs(v,nus_2[i]) for i in np.arange(len(nus_2))]) #Points for Ellipse on XY plane"
   ]
  },
  {
   "cell_type": "code",
   "execution_count": 225,
   "metadata": {},
   "outputs": [],
   "source": [
    "points3_2 = np.asarray([p_3DEllipse.subs(W,0).subs(w,np.pi/3).subs(e,0.6).subs(a,1).subs(inc,np.pi/4).subs(v,nus_2[i]) for i in np.arange(len(nus_2))]) #Inclined Ellipse"
   ]
  },
  {
   "cell_type": "code",
   "execution_count": 226,
   "metadata": {},
   "outputs": [
    {
     "data": {
      "image/png": "[encoded data removed]",
      "text/plain": [
       "<Figure size 432x288 with 1 Axes>"
      ]
     },
     "metadata": {
      "needs_background": "light"
     },
     "output_type": "display_data"
    }
   ],
   "source": [
    "fig3 = plt.figure(num=8)\n",
    "plt.plot(Foci00_2+points0_2[:,0],points0_2[:,1],color='black')#Plot ellipse fully on XY plane\n",
    "plt.plot([-1.,1.],[0,0],color='black')#plot X axis\n",
    "plt.plot([0,0],[-1,1],color='black')#plot Y axis\n",
    "plt.scatter([Foci00_2],[0],color='orange')#plot Foci\n",
    "\n",
    "#Inclined Ellipse\n",
    "plt.plot(Foci00_2+points1_2[:,0],points1_2[:,1],color='red')\n",
    "\n",
    "plt.plot(Foci00_2+points2_2[:,0],points2_2[:,1],color='green')\n",
    "plt.plot(Foci00_2+points3_2[:,0],points3_2[:,1],color='blue')\n",
    "\n",
    "fig3.gca().axis('equal')\n",
    "plt.show(block=False)"
   ]
  },
  {
   "cell_type": "markdown",
   "metadata": {},
   "source": [
    "# Solving Ellipse Using 5 Points with SVD"
   ]
  },
  {
   "cell_type": "code",
   "execution_count": 230,
   "metadata": {},
   "outputs": [],
   "source": [
    "x, y = sp.symbols('x y', real=True)\n",
    "p1, p2, p3, p4, p5 = sp.symbols('p1 p2 p3 p4 p5', real=True)\n",
    "q1, q2, q3, q4, q5 = sp.symbols('q1 q2 q3 q4 q5', real=True)"
   ]
  },
  {
   "cell_type": "code",
   "execution_count": 233,
   "metadata": {},
   "outputs": [],
   "source": [
    "H = sp.Matrix([[x**2, x*y, y**2, x, y, 1],[p1**2,p1*q1,q1**2,p1,q1,1],[p2**2,p2*q2,q2**2,p2,q2,1],[p3**2,p3*q3,q3**2,p3,q3,1],[p4**2,p4*q4,q4**2,p4,q4,1],[p5**2,p5*q5,q5**2,p5,q5,1]])"
   ]
  },
  {
   "cell_type": "code",
   "execution_count": 235,
   "metadata": {
    "scrolled": true
   },
   "outputs": [],
   "source": [
    "detOut = H.det()"
   ]
  },
  {
   "cell_type": "code",
   "execution_count": 236,
   "metadata": {},
   "outputs": [],
   "source": [
    "#detOut2 = sp.simplify(detOut)"
   ]
  },
  {
   "cell_type": "markdown",
   "metadata": {},
   "source": [
    "Group the Determinant. The coefficients of x^2, x, y^2, y, and 1 are the values for a and b"
   ]
  },
  {
   "cell_type": "code",
   "execution_count": 238,
   "metadata": {},
   "outputs": [],
   "source": [
    "coeffsx = sp.Poly(detOut,x)"
   ]
  },
  {
   "cell_type": "code",
   "execution_count": 240,
   "metadata": {},
   "outputs": [],
   "source": [
    "coeffsy = sp.Poly(detOut,y)"
   ]
  },
  {
   "cell_type": "code",
   "execution_count": 243,
   "metadata": {},
   "outputs": [],
   "source": [
    "#detOut2"
   ]
  },
  {
   "cell_type": "code",
   "execution_count": 245,
   "metadata": {},
   "outputs": [
    {
     "data": {
      "text/latex": [
       "$\\displaystyle - p_{1} p_{2} q_{1} q_{3}^{2} q_{4} + p_{1} p_{2} q_{1} q_{3}^{2} q_{5} + p_{1} p_{2} q_{1} q_{3} q_{4}^{2} - p_{1} p_{2} q_{1} q_{3} q_{5}^{2} - p_{1} p_{2} q_{1} q_{4}^{2} q_{5} + p_{1} p_{2} q_{1} q_{4} q_{5}^{2} + p_{1} p_{2} q_{2} q_{3}^{2} q_{4} - p_{1} p_{2} q_{2} q_{3}^{2} q_{5} - p_{1} p_{2} q_{2} q_{3} q_{4}^{2} + p_{1} p_{2} q_{2} q_{3} q_{5}^{2} + p_{1} p_{2} q_{2} q_{4}^{2} q_{5} - p_{1} p_{2} q_{2} q_{4} q_{5}^{2} + p_{1} p_{3} q_{1} q_{2}^{2} q_{4} - p_{1} p_{3} q_{1} q_{2}^{2} q_{5} - p_{1} p_{3} q_{1} q_{2} q_{4}^{2} + p_{1} p_{3} q_{1} q_{2} q_{5}^{2} + p_{1} p_{3} q_{1} q_{4}^{2} q_{5} - p_{1} p_{3} q_{1} q_{4} q_{5}^{2} - p_{1} p_{3} q_{2}^{2} q_{3} q_{4} + p_{1} p_{3} q_{2}^{2} q_{3} q_{5} + p_{1} p_{3} q_{2} q_{3} q_{4}^{2} - p_{1} p_{3} q_{2} q_{3} q_{5}^{2} - p_{1} p_{3} q_{3} q_{4}^{2} q_{5} + p_{1} p_{3} q_{3} q_{4} q_{5}^{2} - p_{1} p_{4} q_{1} q_{2}^{2} q_{3} + p_{1} p_{4} q_{1} q_{2}^{2} q_{5} + p_{1} p_{4} q_{1} q_{2} q_{3}^{2} - p_{1} p_{4} q_{1} q_{2} q_{5}^{2} - p_{1} p_{4} q_{1} q_{3}^{2} q_{5} + p_{1} p_{4} q_{1} q_{3} q_{5}^{2} + p_{1} p_{4} q_{2}^{2} q_{3} q_{4} - p_{1} p_{4} q_{2}^{2} q_{4} q_{5} - p_{1} p_{4} q_{2} q_{3}^{2} q_{4} + p_{1} p_{4} q_{2} q_{4} q_{5}^{2} + p_{1} p_{4} q_{3}^{2} q_{4} q_{5} - p_{1} p_{4} q_{3} q_{4} q_{5}^{2} + p_{1} p_{5} q_{1} q_{2}^{2} q_{3} - p_{1} p_{5} q_{1} q_{2}^{2} q_{4} - p_{1} p_{5} q_{1} q_{2} q_{3}^{2} + p_{1} p_{5} q_{1} q_{2} q_{4}^{2} + p_{1} p_{5} q_{1} q_{3}^{2} q_{4} - p_{1} p_{5} q_{1} q_{3} q_{4}^{2} - p_{1} p_{5} q_{2}^{2} q_{3} q_{5} + p_{1} p_{5} q_{2}^{2} q_{4} q_{5} + p_{1} p_{5} q_{2} q_{3}^{2} q_{5} - p_{1} p_{5} q_{2} q_{4}^{2} q_{5} - p_{1} p_{5} q_{3}^{2} q_{4} q_{5} + p_{1} p_{5} q_{3} q_{4}^{2} q_{5} - p_{2} p_{3} q_{1}^{2} q_{2} q_{4} + p_{2} p_{3} q_{1}^{2} q_{2} q_{5} + p_{2} p_{3} q_{1}^{2} q_{3} q_{4} - p_{2} p_{3} q_{1}^{2} q_{3} q_{5} + p_{2} p_{3} q_{1} q_{2} q_{4}^{2} - p_{2} p_{3} q_{1} q_{2} q_{5}^{2} - p_{2} p_{3} q_{1} q_{3} q_{4}^{2} + p_{2} p_{3} q_{1} q_{3} q_{5}^{2} - p_{2} p_{3} q_{2} q_{4}^{2} q_{5} + p_{2} p_{3} q_{2} q_{4} q_{5}^{2} + p_{2} p_{3} q_{3} q_{4}^{2} q_{5} - p_{2} p_{3} q_{3} q_{4} q_{5}^{2} + p_{2} p_{4} q_{1}^{2} q_{2} q_{3} - p_{2} p_{4} q_{1}^{2} q_{2} q_{5} - p_{2} p_{4} q_{1}^{2} q_{3} q_{4} + p_{2} p_{4} q_{1}^{2} q_{4} q_{5} - p_{2} p_{4} q_{1} q_{2} q_{3}^{2} + p_{2} p_{4} q_{1} q_{2} q_{5}^{2} + p_{2} p_{4} q_{1} q_{3}^{2} q_{4} - p_{2} p_{4} q_{1} q_{4} q_{5}^{2} + p_{2} p_{4} q_{2} q_{3}^{2} q_{5} - p_{2} p_{4} q_{2} q_{3} q_{5}^{2} - p_{2} p_{4} q_{3}^{2} q_{4} q_{5} + p_{2} p_{4} q_{3} q_{4} q_{5}^{2} - p_{2} p_{5} q_{1}^{2} q_{2} q_{3} + p_{2} p_{5} q_{1}^{2} q_{2} q_{4} + p_{2} p_{5} q_{1}^{2} q_{3} q_{5} - p_{2} p_{5} q_{1}^{2} q_{4} q_{5} + p_{2} p_{5} q_{1} q_{2} q_{3}^{2} - p_{2} p_{5} q_{1} q_{2} q_{4}^{2} - p_{2} p_{5} q_{1} q_{3}^{2} q_{5} + p_{2} p_{5} q_{1} q_{4}^{2} q_{5} - p_{2} p_{5} q_{2} q_{3}^{2} q_{4} + p_{2} p_{5} q_{2} q_{3} q_{4}^{2} + p_{2} p_{5} q_{3}^{2} q_{4} q_{5} - p_{2} p_{5} q_{3} q_{4}^{2} q_{5} - p_{3} p_{4} q_{1}^{2} q_{2} q_{3} + p_{3} p_{4} q_{1}^{2} q_{2} q_{4} + p_{3} p_{4} q_{1}^{2} q_{3} q_{5} - p_{3} p_{4} q_{1}^{2} q_{4} q_{5} + p_{3} p_{4} q_{1} q_{2}^{2} q_{3} - p_{3} p_{4} q_{1} q_{2}^{2} q_{4} - p_{3} p_{4} q_{1} q_{3} q_{5}^{2} + p_{3} p_{4} q_{1} q_{4} q_{5}^{2} - p_{3} p_{4} q_{2}^{2} q_{3} q_{5} + p_{3} p_{4} q_{2}^{2} q_{4} q_{5} + p_{3} p_{4} q_{2} q_{3} q_{5}^{2} - p_{3} p_{4} q_{2} q_{4} q_{5}^{2} + p_{3} p_{5} q_{1}^{2} q_{2} q_{3} - p_{3} p_{5} q_{1}^{2} q_{2} q_{5} - p_{3} p_{5} q_{1}^{2} q_{3} q_{4} + p_{3} p_{5} q_{1}^{2} q_{4} q_{5} - p_{3} p_{5} q_{1} q_{2}^{2} q_{3} + p_{3} p_{5} q_{1} q_{2}^{2} q_{5} + p_{3} p_{5} q_{1} q_{3} q_{4}^{2} - p_{3} p_{5} q_{1} q_{4}^{2} q_{5} + p_{3} p_{5} q_{2}^{2} q_{3} q_{4} - p_{3} p_{5} q_{2}^{2} q_{4} q_{5} - p_{3} p_{5} q_{2} q_{3} q_{4}^{2} + p_{3} p_{5} q_{2} q_{4}^{2} q_{5} - p_{4} p_{5} q_{1}^{2} q_{2} q_{4} + p_{4} p_{5} q_{1}^{2} q_{2} q_{5} + p_{4} p_{5} q_{1}^{2} q_{3} q_{4} - p_{4} p_{5} q_{1}^{2} q_{3} q_{5} + p_{4} p_{5} q_{1} q_{2}^{2} q_{4} - p_{4} p_{5} q_{1} q_{2}^{2} q_{5} - p_{4} p_{5} q_{1} q_{3}^{2} q_{4} + p_{4} p_{5} q_{1} q_{3}^{2} q_{5} - p_{4} p_{5} q_{2}^{2} q_{3} q_{4} + p_{4} p_{5} q_{2}^{2} q_{3} q_{5} + p_{4} p_{5} q_{2} q_{3}^{2} q_{4} - p_{4} p_{5} q_{2} q_{3}^{2} q_{5}$"
      ],
      "text/plain": [
       "-p1*p2*q1*q3**2*q4 + p1*p2*q1*q3**2*q5 + p1*p2*q1*q3*q4**2 - p1*p2*q1*q3*q5**2 - p1*p2*q1*q4**2*q5 + p1*p2*q1*q4*q5**2 + p1*p2*q2*q3**2*q4 - p1*p2*q2*q3**2*q5 - p1*p2*q2*q3*q4**2 + p1*p2*q2*q3*q5**2 + p1*p2*q2*q4**2*q5 - p1*p2*q2*q4*q5**2 + p1*p3*q1*q2**2*q4 - p1*p3*q1*q2**2*q5 - p1*p3*q1*q2*q4**2 + p1*p3*q1*q2*q5**2 + p1*p3*q1*q4**2*q5 - p1*p3*q1*q4*q5**2 - p1*p3*q2**2*q3*q4 + p1*p3*q2**2*q3*q5 + p1*p3*q2*q3*q4**2 - p1*p3*q2*q3*q5**2 - p1*p3*q3*q4**2*q5 + p1*p3*q3*q4*q5**2 - p1*p4*q1*q2**2*q3 + p1*p4*q1*q2**2*q5 + p1*p4*q1*q2*q3**2 - p1*p4*q1*q2*q5**2 - p1*p4*q1*q3**2*q5 + p1*p4*q1*q3*q5**2 + p1*p4*q2**2*q3*q4 - p1*p4*q2**2*q4*q5 - p1*p4*q2*q3**2*q4 + p1*p4*q2*q4*q5**2 + p1*p4*q3**2*q4*q5 - p1*p4*q3*q4*q5**2 + p1*p5*q1*q2**2*q3 - p1*p5*q1*q2**2*q4 - p1*p5*q1*q2*q3**2 + p1*p5*q1*q2*q4**2 + p1*p5*q1*q3**2*q4 - p1*p5*q1*q3*q4**2 - p1*p5*q2**2*q3*q5 + p1*p5*q2**2*q4*q5 + p1*p5*q2*q3**2*q5 - p1*p5*q2*q4**2*q5 - p1*p5*q3**2*q4*q5 + p1*p5*q3*q4**2*q5 - p2*p3*q1**2*q2*q4 + p2*p3*q1**2*q2*q5 + p2*p3*q1**2*q3*q4 - p2*p3*q1**2*q3*q5 + p2*p3*q1*q2*q4**2 - p2*p3*q1*q2*q5**2 - p2*p3*q1*q3*q4**2 + p2*p3*q1*q3*q5**2 - p2*p3*q2*q4**2*q5 + p2*p3*q2*q4*q5**2 + p2*p3*q3*q4**2*q5 - p2*p3*q3*q4*q5**2 + p2*p4*q1**2*q2*q3 - p2*p4*q1**2*q2*q5 - p2*p4*q1**2*q3*q4 + p2*p4*q1**2*q4*q5 - p2*p4*q1*q2*q3**2 + p2*p4*q1*q2*q5**2 + p2*p4*q1*q3**2*q4 - p2*p4*q1*q4*q5**2 + p2*p4*q2*q3**2*q5 - p2*p4*q2*q3*q5**2 - p2*p4*q3**2*q4*q5 + p2*p4*q3*q4*q5**2 - p2*p5*q1**2*q2*q3 + p2*p5*q1**2*q2*q4 + p2*p5*q1**2*q3*q5 - p2*p5*q1**2*q4*q5 + p2*p5*q1*q2*q3**2 - p2*p5*q1*q2*q4**2 - p2*p5*q1*q3**2*q5 + p2*p5*q1*q4**2*q5 - p2*p5*q2*q3**2*q4 + p2*p5*q2*q3*q4**2 + p2*p5*q3**2*q4*q5 - p2*p5*q3*q4**2*q5 - p3*p4*q1**2*q2*q3 + p3*p4*q1**2*q2*q4 + p3*p4*q1**2*q3*q5 - p3*p4*q1**2*q4*q5 + p3*p4*q1*q2**2*q3 - p3*p4*q1*q2**2*q4 - p3*p4*q1*q3*q5**2 + p3*p4*q1*q4*q5**2 - p3*p4*q2**2*q3*q5 + p3*p4*q2**2*q4*q5 + p3*p4*q2*q3*q5**2 - p3*p4*q2*q4*q5**2 + p3*p5*q1**2*q2*q3 - p3*p5*q1**2*q2*q5 - p3*p5*q1**2*q3*q4 + p3*p5*q1**2*q4*q5 - p3*p5*q1*q2**2*q3 + p3*p5*q1*q2**2*q5 + p3*p5*q1*q3*q4**2 - p3*p5*q1*q4**2*q5 + p3*p5*q2**2*q3*q4 - p3*p5*q2**2*q4*q5 - p3*p5*q2*q3*q4**2 + p3*p5*q2*q4**2*q5 - p4*p5*q1**2*q2*q4 + p4*p5*q1**2*q2*q5 + p4*p5*q1**2*q3*q4 - p4*p5*q1**2*q3*q5 + p4*p5*q1*q2**2*q4 - p4*p5*q1*q2**2*q5 - p4*p5*q1*q3**2*q4 + p4*p5*q1*q3**2*q5 - p4*p5*q2**2*q3*q4 + p4*p5*q2**2*q3*q5 + p4*p5*q2*q3**2*q4 - p4*p5*q2*q3**2*q5"
      ]
     },
     "execution_count": 245,
     "metadata": {},
     "output_type": "execute_result"
    }
   ],
   "source": [
    "coeffsx.coeffs()[0]"
   ]
  },
  {
   "cell_type": "code",
   "execution_count": 246,
   "metadata": {},
   "outputs": [
    {
     "data": {
      "text/plain": [
       "[-p1*p2*q1*q3**2*q4 + p1*p2*q1*q3**2*q5 + p1*p2*q1*q3*q4**2 - p1*p2*q1*q3*q5**2 - p1*p2*q1*q4**2*q5 + p1*p2*q1*q4*q5**2 + p1*p2*q2*q3**2*q4 - p1*p2*q2*q3**2*q5 - p1*p2*q2*q3*q4**2 + p1*p2*q2*q3*q5**2 + p1*p2*q2*q4**2*q5 - p1*p2*q2*q4*q5**2 + p1*p3*q1*q2**2*q4 - p1*p3*q1*q2**2*q5 - p1*p3*q1*q2*q4**2 + p1*p3*q1*q2*q5**2 + p1*p3*q1*q4**2*q5 - p1*p3*q1*q4*q5**2 - p1*p3*q2**2*q3*q4 + p1*p3*q2**2*q3*q5 + p1*p3*q2*q3*q4**2 - p1*p3*q2*q3*q5**2 - p1*p3*q3*q4**2*q5 + p1*p3*q3*q4*q5**2 - p1*p4*q1*q2**2*q3 + p1*p4*q1*q2**2*q5 + p1*p4*q1*q2*q3**2 - p1*p4*q1*q2*q5**2 - p1*p4*q1*q3**2*q5 + p1*p4*q1*q3*q5**2 + p1*p4*q2**2*q3*q4 - p1*p4*q2**2*q4*q5 - p1*p4*q2*q3**2*q4 + p1*p4*q2*q4*q5**2 + p1*p4*q3**2*q4*q5 - p1*p4*q3*q4*q5**2 + p1*p5*q1*q2**2*q3 - p1*p5*q1*q2**2*q4 - p1*p5*q1*q2*q3**2 + p1*p5*q1*q2*q4**2 + p1*p5*q1*q3**2*q4 - p1*p5*q1*q3*q4**2 - p1*p5*q2**2*q3*q5 + p1*p5*q2**2*q4*q5 + p1*p5*q2*q3**2*q5 - p1*p5*q2*q4**2*q5 - p1*p5*q3**2*q4*q5 + p1*p5*q3*q4**2*q5 - p2*p3*q1**2*q2*q4 + p2*p3*q1**2*q2*q5 + p2*p3*q1**2*q3*q4 - p2*p3*q1**2*q3*q5 + p2*p3*q1*q2*q4**2 - p2*p3*q1*q2*q5**2 - p2*p3*q1*q3*q4**2 + p2*p3*q1*q3*q5**2 - p2*p3*q2*q4**2*q5 + p2*p3*q2*q4*q5**2 + p2*p3*q3*q4**2*q5 - p2*p3*q3*q4*q5**2 + p2*p4*q1**2*q2*q3 - p2*p4*q1**2*q2*q5 - p2*p4*q1**2*q3*q4 + p2*p4*q1**2*q4*q5 - p2*p4*q1*q2*q3**2 + p2*p4*q1*q2*q5**2 + p2*p4*q1*q3**2*q4 - p2*p4*q1*q4*q5**2 + p2*p4*q2*q3**2*q5 - p2*p4*q2*q3*q5**2 - p2*p4*q3**2*q4*q5 + p2*p4*q3*q4*q5**2 - p2*p5*q1**2*q2*q3 + p2*p5*q1**2*q2*q4 + p2*p5*q1**2*q3*q5 - p2*p5*q1**2*q4*q5 + p2*p5*q1*q2*q3**2 - p2*p5*q1*q2*q4**2 - p2*p5*q1*q3**2*q5 + p2*p5*q1*q4**2*q5 - p2*p5*q2*q3**2*q4 + p2*p5*q2*q3*q4**2 + p2*p5*q3**2*q4*q5 - p2*p5*q3*q4**2*q5 - p3*p4*q1**2*q2*q3 + p3*p4*q1**2*q2*q4 + p3*p4*q1**2*q3*q5 - p3*p4*q1**2*q4*q5 + p3*p4*q1*q2**2*q3 - p3*p4*q1*q2**2*q4 - p3*p4*q1*q3*q5**2 + p3*p4*q1*q4*q5**2 - p3*p4*q2**2*q3*q5 + p3*p4*q2**2*q4*q5 + p3*p4*q2*q3*q5**2 - p3*p4*q2*q4*q5**2 + p3*p5*q1**2*q2*q3 - p3*p5*q1**2*q2*q5 - p3*p5*q1**2*q3*q4 + p3*p5*q1**2*q4*q5 - p3*p5*q1*q2**2*q3 + p3*p5*q1*q2**2*q5 + p3*p5*q1*q3*q4**2 - p3*p5*q1*q4**2*q5 + p3*p5*q2**2*q3*q4 - p3*p5*q2**2*q4*q5 - p3*p5*q2*q3*q4**2 + p3*p5*q2*q4**2*q5 - p4*p5*q1**2*q2*q4 + p4*p5*q1**2*q2*q5 + p4*p5*q1**2*q3*q4 - p4*p5*q1**2*q3*q5 + p4*p5*q1*q2**2*q4 - p4*p5*q1*q2**2*q5 - p4*p5*q1*q3**2*q4 + p4*p5*q1*q3**2*q5 - p4*p5*q2**2*q3*q4 + p4*p5*q2**2*q3*q5 + p4*p5*q2*q3**2*q4 - p4*p5*q2*q3**2*q5,\n",
       " -p1**2*p2*q2*q3**2*q4 + p1**2*p2*q2*q3**2*q5 + p1**2*p2*q2*q3*q4**2 - p1**2*p2*q2*q3*q5**2 - p1**2*p2*q2*q4**2*q5 + p1**2*p2*q2*q4*q5**2 + p1**2*p2*q3**2*q4*y - p1**2*p2*q3**2*q5*y - p1**2*p2*q3*q4**2*y + p1**2*p2*q3*q5**2*y + p1**2*p2*q4**2*q5*y - p1**2*p2*q4*q5**2*y + p1**2*p3*q2**2*q3*q4 - p1**2*p3*q2**2*q3*q5 - p1**2*p3*q2**2*q4*y + p1**2*p3*q2**2*q5*y - p1**2*p3*q2*q3*q4**2 + p1**2*p3*q2*q3*q5**2 + p1**2*p3*q2*q4**2*y - p1**2*p3*q2*q5**2*y + p1**2*p3*q3*q4**2*q5 - p1**2*p3*q3*q4*q5**2 - p1**2*p3*q4**2*q5*y + p1**2*p3*q4*q5**2*y - p1**2*p4*q2**2*q3*q4 + p1**2*p4*q2**2*q3*y + p1**2*p4*q2**2*q4*q5 - p1**2*p4*q2**2*q5*y + p1**2*p4*q2*q3**2*q4 - p1**2*p4*q2*q3**2*y - p1**2*p4*q2*q4*q5**2 + p1**2*p4*q2*q5**2*y - p1**2*p4*q3**2*q4*q5 + p1**2*p4*q3**2*q5*y + p1**2*p4*q3*q4*q5**2 - p1**2*p4*q3*q5**2*y + p1**2*p5*q2**2*q3*q5 - p1**2*p5*q2**2*q3*y - p1**2*p5*q2**2*q4*q5 + p1**2*p5*q2**2*q4*y - p1**2*p5*q2*q3**2*q5 + p1**2*p5*q2*q3**2*y + p1**2*p5*q2*q4**2*q5 - p1**2*p5*q2*q4**2*y + p1**2*p5*q3**2*q4*q5 - p1**2*p5*q3**2*q4*y - p1**2*p5*q3*q4**2*q5 + p1**2*p5*q3*q4**2*y + p1*p2**2*q1*q3**2*q4 - p1*p2**2*q1*q3**2*q5 - p1*p2**2*q1*q3*q4**2 + p1*p2**2*q1*q3*q5**2 + p1*p2**2*q1*q4**2*q5 - p1*p2**2*q1*q4*q5**2 - p1*p2**2*q3**2*q4*y + p1*p2**2*q3**2*q5*y + p1*p2**2*q3*q4**2*y - p1*p2**2*q3*q5**2*y - p1*p2**2*q4**2*q5*y + p1*p2**2*q4*q5**2*y - p1*p3**2*q1*q2**2*q4 + p1*p3**2*q1*q2**2*q5 + p1*p3**2*q1*q2*q4**2 - p1*p3**2*q1*q2*q5**2 - p1*p3**2*q1*q4**2*q5 + p1*p3**2*q1*q4*q5**2 + p1*p3**2*q2**2*q4*y - p1*p3**2*q2**2*q5*y - p1*p3**2*q2*q4**2*y + p1*p3**2*q2*q5**2*y + p1*p3**2*q4**2*q5*y - p1*p3**2*q4*q5**2*y + p1*p4**2*q1*q2**2*q3 - p1*p4**2*q1*q2**2*q5 - p1*p4**2*q1*q2*q3**2 + p1*p4**2*q1*q2*q5**2 + p1*p4**2*q1*q3**2*q5 - p1*p4**2*q1*q3*q5**2 - p1*p4**2*q2**2*q3*y + p1*p4**2*q2**2*q5*y + p1*p4**2*q2*q3**2*y - p1*p4**2*q2*q5**2*y - p1*p4**2*q3**2*q5*y + p1*p4**2*q3*q5**2*y - p1*p5**2*q1*q2**2*q3 + p1*p5**2*q1*q2**2*q4 + p1*p5**2*q1*q2*q3**2 - p1*p5**2*q1*q2*q4**2 - p1*p5**2*q1*q3**2*q4 + p1*p5**2*q1*q3*q4**2 + p1*p5**2*q2**2*q3*y - p1*p5**2*q2**2*q4*y - p1*p5**2*q2*q3**2*y + p1*p5**2*q2*q4**2*y + p1*p5**2*q3**2*q4*y - p1*p5**2*q3*q4**2*y - p2**2*p3*q1**2*q3*q4 + p2**2*p3*q1**2*q3*q5 + p2**2*p3*q1**2*q4*y - p2**2*p3*q1**2*q5*y + p2**2*p3*q1*q3*q4**2 - p2**2*p3*q1*q3*q5**2 - p2**2*p3*q1*q4**2*y + p2**2*p3*q1*q5**2*y - p2**2*p3*q3*q4**2*q5 + p2**2*p3*q3*q4*q5**2 + p2**2*p3*q4**2*q5*y - p2**2*p3*q4*q5**2*y + p2**2*p4*q1**2*q3*q4 - p2**2*p4*q1**2*q3*y - p2**2*p4*q1**2*q4*q5 + p2**2*p4*q1**2*q5*y - p2**2*p4*q1*q3**2*q4 + p2**2*p4*q1*q3**2*y + p2**2*p4*q1*q4*q5**2 - p2**2*p4*q1*q5**2*y + p2**2*p4*q3**2*q4*q5 - p2**2*p4*q3**2*q5*y - p2**2*p4*q3*q4*q5**2 + p2**2*p4*q3*q5**2*y - p2**2*p5*q1**2*q3*q5 + p2**2*p5*q1**2*q3*y + p2**2*p5*q1**2*q4*q5 - p2**2*p5*q1**2*q4*y + p2**2*p5*q1*q3**2*q5 - p2**2*p5*q1*q3**2*y - p2**2*p5*q1*q4**2*q5 + p2**2*p5*q1*q4**2*y - p2**2*p5*q3**2*q4*q5 + p2**2*p5*q3**2*q4*y + p2**2*p5*q3*q4**2*q5 - p2**2*p5*q3*q4**2*y + p2*p3**2*q1**2*q2*q4 - p2*p3**2*q1**2*q2*q5 - p2*p3**2*q1**2*q4*y + p2*p3**2*q1**2*q5*y - p2*p3**2*q1*q2*q4**2 + p2*p3**2*q1*q2*q5**2 + p2*p3**2*q1*q4**2*y - p2*p3**2*q1*q5**2*y + p2*p3**2*q2*q4**2*q5 - p2*p3**2*q2*q4*q5**2 - p2*p3**2*q4**2*q5*y + p2*p3**2*q4*q5**2*y - p2*p4**2*q1**2*q2*q3 + p2*p4**2*q1**2*q2*q5 + p2*p4**2*q1**2*q3*y - p2*p4**2*q1**2*q5*y + p2*p4**2*q1*q2*q3**2 - p2*p4**2*q1*q2*q5**2 - p2*p4**2*q1*q3**2*y + p2*p4**2*q1*q5**2*y - p2*p4**2*q2*q3**2*q5 + p2*p4**2*q2*q3*q5**2 + p2*p4**2*q3**2*q5*y - p2*p4**2*q3*q5**2*y + p2*p5**2*q1**2*q2*q3 - p2*p5**2*q1**2*q2*q4 - p2*p5**2*q1**2*q3*y + p2*p5**2*q1**2*q4*y - p2*p5**2*q1*q2*q3**2 + p2*p5**2*q1*q2*q4**2 + p2*p5**2*q1*q3**2*y - p2*p5**2*q1*q4**2*y + p2*p5**2*q2*q3**2*q4 - p2*p5**2*q2*q3*q4**2 - p2*p5**2*q3**2*q4*y + p2*p5**2*q3*q4**2*y - p3**2*p4*q1**2*q2*q4 + p3**2*p4*q1**2*q2*y + p3**2*p4*q1**2*q4*q5 - p3**2*p4*q1**2*q5*y + p3**2*p4*q1*q2**2*q4 - p3**2*p4*q1*q2**2*y - p3**2*p4*q1*q4*q5**2 + p3**2*p4*q1*q5**2*y - p3**2*p4*q2**2*q4*q5 + p3**2*p4*q2**2*q5*y + p3**2*p4*q2*q4*q5**2 - p3**2*p4*q2*q5**2*y + p3**2*p5*q1**2*q2*q5 - p3**2*p5*q1**2*q2*y - p3**2*p5*q1**2*q4*q5 + p3**2*p5*q1**2*q4*y - p3**2*p5*q1*q2**2*q5 + p3**2*p5*q1*q2**2*y + p3**2*p5*q1*q4**2*q5 - p3**2*p5*q1*q4**2*y + p3**2*p5*q2**2*q4*q5 - p3**2*p5*q2**2*q4*y - p3**2*p5*q2*q4**2*q5 + p3**2*p5*q2*q4**2*y + p3*p4**2*q1**2*q2*q3 - p3*p4**2*q1**2*q2*y - p3*p4**2*q1**2*q3*q5 + p3*p4**2*q1**2*q5*y - p3*p4**2*q1*q2**2*q3 + p3*p4**2*q1*q2**2*y + p3*p4**2*q1*q3*q5**2 - p3*p4**2*q1*q5**2*y + p3*p4**2*q2**2*q3*q5 - p3*p4**2*q2**2*q5*y - p3*p4**2*q2*q3*q5**2 + p3*p4**2*q2*q5**2*y - p3*p5**2*q1**2*q2*q3 + p3*p5**2*q1**2*q2*y + p3*p5**2*q1**2*q3*q4 - p3*p5**2*q1**2*q4*y + p3*p5**2*q1*q2**2*q3 - p3*p5**2*q1*q2**2*y - p3*p5**2*q1*q3*q4**2 + p3*p5**2*q1*q4**2*y - p3*p5**2*q2**2*q3*q4 + p3*p5**2*q2**2*q4*y + p3*p5**2*q2*q3*q4**2 - p3*p5**2*q2*q4**2*y - p4**2*p5*q1**2*q2*q5 + p4**2*p5*q1**2*q2*y + p4**2*p5*q1**2*q3*q5 - p4**2*p5*q1**2*q3*y + p4**2*p5*q1*q2**2*q5 - p4**2*p5*q1*q2**2*y - p4**2*p5*q1*q3**2*q5 + p4**2*p5*q1*q3**2*y - p4**2*p5*q2**2*q3*q5 + p4**2*p5*q2**2*q3*y + p4**2*p5*q2*q3**2*q5 - p4**2*p5*q2*q3**2*y + p4*p5**2*q1**2*q2*q4 - p4*p5**2*q1**2*q2*y - p4*p5**2*q1**2*q3*q4 + p4*p5**2*q1**2*q3*y - p4*p5**2*q1*q2**2*q4 + p4*p5**2*q1*q2**2*y + p4*p5**2*q1*q3**2*q4 - p4*p5**2*q1*q3**2*y + p4*p5**2*q2**2*q3*q4 - p4*p5**2*q2**2*q3*y - p4*p5**2*q2*q3**2*q4 + p4*p5**2*q2*q3**2*y,\n",
       " p1**2*p2*p3*q2*q4**2*q5 - p1**2*p2*p3*q2*q4**2*y - p1**2*p2*p3*q2*q4*q5**2 + p1**2*p2*p3*q2*q4*y**2 + p1**2*p2*p3*q2*q5**2*y - p1**2*p2*p3*q2*q5*y**2 - p1**2*p2*p3*q3*q4**2*q5 + p1**2*p2*p3*q3*q4**2*y + p1**2*p2*p3*q3*q4*q5**2 - p1**2*p2*p3*q3*q4*y**2 - p1**2*p2*p3*q3*q5**2*y + p1**2*p2*p3*q3*q5*y**2 - p1**2*p2*p4*q2*q3**2*q5 + p1**2*p2*p4*q2*q3**2*y + p1**2*p2*p4*q2*q3*q5**2 - p1**2*p2*p4*q2*q3*y**2 - p1**2*p2*p4*q2*q5**2*y + p1**2*p2*p4*q2*q5*y**2 + p1**2*p2*p4*q3**2*q4*q5 - p1**2*p2*p4*q3**2*q4*y - p1**2*p2*p4*q3*q4*q5**2 + p1**2*p2*p4*q3*q4*y**2 + p1**2*p2*p4*q4*q5**2*y - p1**2*p2*p4*q4*q5*y**2 + p1**2*p2*p5*q2*q3**2*q4 - p1**2*p2*p5*q2*q3**2*y - p1**2*p2*p5*q2*q3*q4**2 + p1**2*p2*p5*q2*q3*y**2 + p1**2*p2*p5*q2*q4**2*y - p1**2*p2*p5*q2*q4*y**2 - p1**2*p2*p5*q3**2*q4*q5 + p1**2*p2*p5*q3**2*q5*y + p1**2*p2*p5*q3*q4**2*q5 - p1**2*p2*p5*q3*q5*y**2 - p1**2*p2*p5*q4**2*q5*y + p1**2*p2*p5*q4*q5*y**2 + p1**2*p3*p4*q2**2*q3*q5 - p1**2*p3*p4*q2**2*q3*y - p1**2*p3*p4*q2**2*q4*q5 + p1**2*p3*p4*q2**2*q4*y - p1**2*p3*p4*q2*q3*q5**2 + p1**2*p3*p4*q2*q3*y**2 + p1**2*p3*p4*q2*q4*q5**2 - p1**2*p3*p4*q2*q4*y**2 + p1**2*p3*p4*q3*q5**2*y - p1**2*p3*p4*q3*q5*y**2 - p1**2*p3*p4*q4*q5**2*y + p1**2*p3*p4*q4*q5*y**2 - p1**2*p3*p5*q2**2*q3*q4 + p1**2*p3*p5*q2**2*q3*y + p1**2*p3*p5*q2**2*q4*q5 - p1**2*p3*p5*q2**2*q5*y + p1**2*p3*p5*q2*q3*q4**2 - p1**2*p3*p5*q2*q3*y**2 - p1**2*p3*p5*q2*q4**2*q5 + p1**2*p3*p5*q2*q5*y**2 - p1**2*p3*p5*q3*q4**2*y + p1**2*p3*p5*q3*q4*y**2 + p1**2*p3*p5*q4**2*q5*y - p1**2*p3*p5*q4*q5*y**2 + p1**2*p4*p5*q2**2*q3*q4 - p1**2*p4*p5*q2**2*q3*q5 - p1**2*p4*p5*q2**2*q4*y + p1**2*p4*p5*q2**2*q5*y - p1**2*p4*p5*q2*q3**2*q4 + p1**2*p4*p5*q2*q3**2*q5 + p1**2*p4*p5*q2*q4*y**2 - p1**2*p4*p5*q2*q5*y**2 + p1**2*p4*p5*q3**2*q4*y - p1**2*p4*p5*q3**2*q5*y - p1**2*p4*p5*q3*q4*y**2 + p1**2*p4*p5*q3*q5*y**2 - p1*p2**2*p3*q1*q4**2*q5 + p1*p2**2*p3*q1*q4**2*y + p1*p2**2*p3*q1*q4*q5**2 - p1*p2**2*p3*q1*q4*y**2 - p1*p2**2*p3*q1*q5**2*y + p1*p2**2*p3*q1*q5*y**2 + p1*p2**2*p3*q3*q4**2*q5 - p1*p2**2*p3*q3*q4**2*y - p1*p2**2*p3*q3*q4*q5**2 + p1*p2**2*p3*q3*q4*y**2 + p1*p2**2*p3*q3*q5**2*y - p1*p2**2*p3*q3*q5*y**2 + p1*p2**2*p4*q1*q3**2*q5 - p1*p2**2*p4*q1*q3**2*y - p1*p2**2*p4*q1*q3*q5**2 + p1*p2**2*p4*q1*q3*y**2 + p1*p2**2*p4*q1*q5**2*y - p1*p2**2*p4*q1*q5*y**2 - p1*p2**2*p4*q3**2*q4*q5 + p1*p2**2*p4*q3**2*q4*y + p1*p2**2*p4*q3*q4*q5**2 - p1*p2**2*p4*q3*q4*y**2 - p1*p2**2*p4*q4*q5**2*y + p1*p2**2*p4*q4*q5*y**2 - p1*p2**2*p5*q1*q3**2*q4 + p1*p2**2*p5*q1*q3**2*y + p1*p2**2*p5*q1*q3*q4**2 - p1*p2**2*p5*q1*q3*y**2 - p1*p2**2*p5*q1*q4**2*y + p1*p2**2*p5*q1*q4*y**2 + p1*p2**2*p5*q3**2*q4*q5 - p1*p2**2*p5*q3**2*q5*y - p1*p2**2*p5*q3*q4**2*q5 + p1*p2**2*p5*q3*q5*y**2 + p1*p2**2*p5*q4**2*q5*y - p1*p2**2*p5*q4*q5*y**2 + p1*p2*p3**2*q1*q4**2*q5 - p1*p2*p3**2*q1*q4**2*y - p1*p2*p3**2*q1*q4*q5**2 + p1*p2*p3**2*q1*q4*y**2 + p1*p2*p3**2*q1*q5**2*y - p1*p2*p3**2*q1*q5*y**2 - p1*p2*p3**2*q2*q4**2*q5 + p1*p2*p3**2*q2*q4**2*y + p1*p2*p3**2*q2*q4*q5**2 - p1*p2*p3**2*q2*q4*y**2 - p1*p2*p3**2*q2*q5**2*y + p1*p2*p3**2*q2*q5*y**2 - p1*p2*p4**2*q1*q3**2*q5 + p1*p2*p4**2*q1*q3**2*y + p1*p2*p4**2*q1*q3*q5**2 - p1*p2*p4**2*q1*q3*y**2 - p1*p2*p4**2*q1*q5**2*y + p1*p2*p4**2*q1*q5*y**2 + p1*p2*p4**2*q2*q3**2*q5 - p1*p2*p4**2*q2*q3**2*y - p1*p2*p4**2*q2*q3*q5**2 + p1*p2*p4**2*q2*q3*y**2 + p1*p2*p4**2*q2*q5**2*y - p1*p2*p4**2*q2*q5*y**2 + p1*p2*p5**2*q1*q3**2*q4 - p1*p2*p5**2*q1*q3**2*y - p1*p2*p5**2*q1*q3*q4**2 + p1*p2*p5**2*q1*q3*y**2 + p1*p2*p5**2*q1*q4**2*y - p1*p2*p5**2*q1*q4*y**2 - p1*p2*p5**2*q2*q3**2*q4 + p1*p2*p5**2*q2*q3**2*y + p1*p2*p5**2*q2*q3*q4**2 - p1*p2*p5**2*q2*q3*y**2 - p1*p2*p5**2*q2*q4**2*y + p1*p2*p5**2*q2*q4*y**2 - p1*p3**2*p4*q1*q2**2*q5 + p1*p3**2*p4*q1*q2**2*y + p1*p3**2*p4*q1*q2*q5**2 - p1*p3**2*p4*q1*q2*y**2 - p1*p3**2*p4*q1*q5**2*y + p1*p3**2*p4*q1*q5*y**2 + p1*p3**2*p4*q2**2*q4*q5 - p1*p3**2*p4*q2**2*q4*y - p1*p3**2*p4*q2*q4*q5**2 + p1*p3**2*p4*q2*q4*y**2 + p1*p3**2*p4*q4*q5**2*y - p1*p3**2*p4*q4*q5*y**2 + p1*p3**2*p5*q1*q2**2*q4 - p1*p3**2*p5*q1*q2**2*y - p1*p3**2*p5*q1*q2*q4**2 + p1*p3**2*p5*q1*q2*y**2 + p1*p3**2*p5*q1*q4**2*y - p1*p3**2*p5*q1*q4*y**2 - p1*p3**2*p5*q2**2*q4*q5 + p1*p3**2*p5*q2**2*q5*y + p1*p3**2*p5*q2*q4**2*q5 - p1*p3**2*p5*q2*q5*y**2 - p1*p3**2*p5*q4**2*q5*y + p1*p3**2*p5*q4*q5*y**2 + p1*p3*p4**2*q1*q2**2*q5 - p1*p3*p4**2*q1*q2**2*y - p1*p3*p4**2*q1*q2*q5**2 + p1*p3*p4**2*q1*q2*y**2 + p1*p3*p4**2*q1*q5**2*y - p1*p3*p4**2*q1*q5*y**2 - p1*p3*p4**2*q2**2*q3*q5 + p1*p3*p4**2*q2**2*q3*y + p1*p3*p4**2*q2*q3*q5**2 - p1*p3*p4**2*q2*q3*y**2 - p1*p3*p4**2*q3*q5**2*y + p1*p3*p4**2*q3*q5*y**2 - p1*p3*p5**2*q1*q2**2*q4 + p1*p3*p5**2*q1*q2**2*y + p1*p3*p5**2*q1*q2*q4**2 - p1*p3*p5**2*q1*q2*y**2 - p1*p3*p5**2*q1*q4**2*y + p1*p3*p5**2*q1*q4*y**2 + p1*p3*p5**2*q2**2*q3*q4 - p1*p3*p5**2*q2**2*q3*y - p1*p3*p5**2*q2*q3*q4**2 + p1*p3*p5**2*q2*q3*y**2 + p1*p3*p5**2*q3*q4**2*y - p1*p3*p5**2*q3*q4*y**2 - p1*p4**2*p5*q1*q2**2*q3 + p1*p4**2*p5*q1*q2**2*y + p1*p4**2*p5*q1*q2*q3**2 - p1*p4**2*p5*q1*q2*y**2 - p1*p4**2*p5*q1*q3**2*y + p1*p4**2*p5*q1*q3*y**2 + p1*p4**2*p5*q2**2*q3*q5 - p1*p4**2*p5*q2**2*q5*y - p1*p4**2*p5*q2*q3**2*q5 + p1*p4**2*p5*q2*q5*y**2 + p1*p4**2*p5*q3**2*q5*y - p1*p4**2*p5*q3*q5*y**2 + p1*p4*p5**2*q1*q2**2*q3 - p1*p4*p5**2*q1*q2**2*y - p1*p4*p5**2*q1*q2*q3**2 + p1*p4*p5**2*q1*q2*y**2 + p1*p4*p5**2*q1*q3**2*y - p1*p4*p5**2*q1*q3*y**2 - p1*p4*p5**2*q2**2*q3*q4 + p1*p4*p5**2*q2**2*q4*y + p1*p4*p5**2*q2*q3**2*q4 - p1*p4*p5**2*q2*q4*y**2 - p1*p4*p5**2*q3**2*q4*y + p1*p4*p5**2*q3*q4*y**2 - p2**2*p3*p4*q1**2*q3*q5 + p2**2*p3*p4*q1**2*q3*y + p2**2*p3*p4*q1**2*q4*q5 - p2**2*p3*p4*q1**2*q4*y + p2**2*p3*p4*q1*q3*q5**2 - p2**2*p3*p4*q1*q3*y**2 - p2**2*p3*p4*q1*q4*q5**2 + p2**2*p3*p4*q1*q4*y**2 - p2**2*p3*p4*q3*q5**2*y + p2**2*p3*p4*q3*q5*y**2 + p2**2*p3*p4*q4*q5**2*y - p2**2*p3*p4*q4*q5*y**2 + p2**2*p3*p5*q1**2*q3*q4 - p2**2*p3*p5*q1**2*q3*y - p2**2*p3*p5*q1**2*q4*q5 + p2**2*p3*p5*q1**2*q5*y - p2**2*p3*p5*q1*q3*q4**2 + p2**2*p3*p5*q1*q3*y**2 + p2**2*p3*p5*q1*q4**2*q5 - p2**2*p3*p5*q1*q5*y**2 + p2**2*p3*p5*q3*q4**2*y - p2**2*p3*p5*q3*q4*y**2 - p2**2*p3*p5*q4**2*q5*y + p2**2*p3*p5*q4*q5*y**2 - p2**2*p4*p5*q1**2*q3*q4 + p2**2*p4*p5*q1**2*q3*q5 + p2**2*p4*p5*q1**2*q4*y - p2**2*p4*p5*q1**2*q5*y + p2**2*p4*p5*q1*q3**2*q4 - p2**2*p4*p5*q1*q3**2*q5 - p2**2*p4*p5*q1*q4*y**2 + p2**2*p4*p5*q1*q5*y**2 - p2**2*p4*p5*q3**2*q4*y + p2**2*p4*p5*q3**2*q5*y + p2**2*p4*p5*q3*q4*y**2 - p2**2*p4*p5*q3*q5*y**2 + p2*p3**2*p4*q1**2*q2*q5 - p2*p3**2*p4*q1**2*q2*y - p2*p3**2*p4*q1**2*q4*q5 + p2*p3**2*p4*q1**2*q4*y - p2*p3**2*p4*q1*q2*q5**2 + p2*p3**2*p4*q1*q2*y**2 + p2*p3**2*p4*q1*q4*q5**2 - p2*p3**2*p4*q1*q4*y**2 + p2*p3**2*p4*q2*q5**2*y - p2*p3**2*p4*q2*q5*y**2 - p2*p3**2*p4*q4*q5**2*y + p2*p3**2*p4*q4*q5*y**2 - p2*p3**2*p5*q1**2*q2*q4 + p2*p3**2*p5*q1**2*q2*y + p2*p3**2*p5*q1**2*q4*q5 - p2*p3**2*p5*q1**2*q5*y + p2*p3**2*p5*q1*q2*q4**2 - p2*p3**2*p5*q1*q2*y**2 - p2*p3**2*p5*q1*q4**2*q5 + p2*p3**2*p5*q1*q5*y**2 - p2*p3**2*p5*q2*q4**2*y + p2*p3**2*p5*q2*q4*y**2 + p2*p3**2*p5*q4**2*q5*y - p2*p3**2*p5*q4*q5*y**2 - p2*p3*p4**2*q1**2*q2*q5 + p2*p3*p4**2*q1**2*q2*y + p2*p3*p4**2*q1**2*q3*q5 - p2*p3*p4**2*q1**2*q3*y + p2*p3*p4**2*q1*q2*q5**2 - p2*p3*p4**2*q1*q2*y**2 - p2*p3*p4**2*q1*q3*q5**2 + p2*p3*p4**2*q1*q3*y**2 - p2*p3*p4**2*q2*q5**2*y + p2*p3*p4**2*q2*q5*y**2 + p2*p3*p4**2*q3*q5**2*y - p2*p3*p4**2*q3*q5*y**2 + p2*p3*p5**2*q1**2*q2*q4 - p2*p3*p5**2*q1**2*q2*y - p2*p3*p5**2*q1**2*q3*q4 + p2*p3*p5**2*q1**2*q3*y - p2*p3*p5**2*q1*q2*q4**2 + p2*p3*p5**2*q1*q2*y**2 + p2*p3*p5**2*q1*q3*q4**2 - p2*p3*p5**2*q1*q3*y**2 + p2*p3*p5**2*q2*q4**2*y - p2*p3*p5**2*q2*q4*y**2 - p2*p3*p5**2*q3*q4**2*y + p2*p3*p5**2*q3*q4*y**2 + p2*p4**2*p5*q1**2*q2*q3 - p2*p4**2*p5*q1**2*q2*y - p2*p4**2*p5*q1**2*q3*q5 + p2*p4**2*p5*q1**2*q5*y - p2*p4**2*p5*q1*q2*q3**2 + p2*p4**2*p5*q1*q2*y**2 + p2*p4**2*p5*q1*q3**2*q5 - p2*p4**2*p5*q1*q5*y**2 + p2*p4**2*p5*q2*q3**2*y - p2*p4**2*p5*q2*q3*y**2 - p2*p4**2*p5*q3**2*q5*y + p2*p4**2*p5*q3*q5*y**2 - p2*p4*p5**2*q1**2*q2*q3 + p2*p4*p5**2*q1**2*q2*y + p2*p4*p5**2*q1**2*q3*q4 - p2*p4*p5**2*q1**2*q4*y + p2*p4*p5**2*q1*q2*q3**2 - p2*p4*p5**2*q1*q2*y**2 - p2*p4*p5**2*q1*q3**2*q4 + p2*p4*p5**2*q1*q4*y**2 - p2*p4*p5**2*q2*q3**2*y + p2*p4*p5**2*q2*q3*y**2 + p2*p4*p5**2*q3**2*q4*y - p2*p4*p5**2*q3*q4*y**2 + p3**2*p4*p5*q1**2*q2*q4 - p3**2*p4*p5*q1**2*q2*q5 - p3**2*p4*p5*q1**2*q4*y + p3**2*p4*p5*q1**2*q5*y - p3**2*p4*p5*q1*q2**2*q4 + p3**2*p4*p5*q1*q2**2*q5 + p3**2*p4*p5*q1*q4*y**2 - p3**2*p4*p5*q1*q5*y**2 + p3**2*p4*p5*q2**2*q4*y - p3**2*p4*p5*q2**2*q5*y - p3**2*p4*p5*q2*q4*y**2 + p3**2*p4*p5*q2*q5*y**2 - p3*p4**2*p5*q1**2*q2*q3 + p3*p4**2*p5*q1**2*q2*q5 + p3*p4**2*p5*q1**2*q3*y - p3*p4**2*p5*q1**2*q5*y + p3*p4**2*p5*q1*q2**2*q3 - p3*p4**2*p5*q1*q2**2*q5 - p3*p4**2*p5*q1*q3*y**2 + p3*p4**2*p5*q1*q5*y**2 - p3*p4**2*p5*q2**2*q3*y + p3*p4**2*p5*q2**2*q5*y + p3*p4**2*p5*q2*q3*y**2 - p3*p4**2*p5*q2*q5*y**2 + p3*p4*p5**2*q1**2*q2*q3 - p3*p4*p5**2*q1**2*q2*q4 - p3*p4*p5**2*q1**2*q3*y + p3*p4*p5**2*q1**2*q4*y - p3*p4*p5**2*q1*q2**2*q3 + p3*p4*p5**2*q1*q2**2*q4 + p3*p4*p5**2*q1*q3*y**2 - p3*p4*p5**2*q1*q4*y**2 + p3*p4*p5**2*q2**2*q3*y - p3*p4*p5**2*q2**2*q4*y - p3*p4*p5**2*q2*q3*y**2 + p3*p4*p5**2*q2*q4*y**2]"
      ]
     },
     "execution_count": 246,
     "metadata": {},
     "output_type": "execute_result"
    }
   ],
   "source": [
    "coeffsx.coeffs()"
   ]
  },
  {
   "cell_type": "code",
   "execution_count": null,
   "metadata": {},
   "outputs": [],
   "source": []
  }
 ],
 "metadata": {
  "kernelspec": {
   "display_name": "Python 3",
   "language": "python",
   "name": "python3"
  },
  "language_info": {
   "codemirror_mode": {
    "name": "ipython",
    "version": 3
   },
   "file_extension": ".py",
   "mimetype": "text/x-python",
   "name": "python",
   "nbconvert_exporter": "python",
   "pygments_lexer": "ipython3",
   "version": "3.6.9"
  }
 },
 "nbformat": 4,
 "nbformat_minor": 4
}
