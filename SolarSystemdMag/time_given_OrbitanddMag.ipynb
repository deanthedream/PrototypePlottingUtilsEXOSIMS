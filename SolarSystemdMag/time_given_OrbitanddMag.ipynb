{
 "cells": [
  {
   "cell_type": "code",
   "execution_count": 1,
   "metadata": {},
   "outputs": [],
   "source": [
    "import sympy as sp\n",
    "import numpy as np"
   ]
  },
  {
   "cell_type": "code",
   "execution_count": 41,
   "metadata": {},
   "outputs": [],
   "source": [
    "a, b, e, c = sp.symbols('a b e c', real=True, positive=True)\n",
    "ap, bp, ep, cp = sp.symbols('ap bp ep cp', real=True, positive=True)\n",
    "W, w, inc, v, Omega, omega, nu = sp.symbols('W w inc v Omega omega nu',real=True)\n",
    "A, B, C, D, E = sp.symbols('A B C D E', real=True)\n",
    "beta = sp.symbols('beta',real=True)"
   ]
  },
  {
   "cell_type": "code",
   "execution_count": 3,
   "metadata": {},
   "outputs": [],
   "source": [
    "eqnr = a*(1-e**2)/(1+e*sp.cos(v))\n",
    "eqnX = eqnr*(sp.cos(W)*sp.cos(w+v) - sp.sin(W)*sp.sin(w+v)*sp.cos(inc))\n",
    "eqnY = eqnr*(sp.sin(W)*sp.cos(w+v) + sp.cos(W)*sp.sin(w+v)*sp.cos(inc))\n",
    "eqnZ = eqnr*(sp.sin(inc)*sp.sin(w+v))"
   ]
  },
  {
   "cell_type": "markdown",
   "metadata": {},
   "source": [
    "# Equation For Beta Using x,y,z"
   ]
  },
  {
   "cell_type": "code",
   "execution_count": 4,
   "metadata": {},
   "outputs": [],
   "source": [
    "innerExpression = sp.sqrt(eqnX**2,eqnY**2)/eqnZ"
   ]
  },
  {
   "cell_type": "code",
   "execution_count": 5,
   "metadata": {},
   "outputs": [
    {
     "data": {
      "text/latex": [
       "$\\displaystyle \\frac{\\left(e \\cos{\\left(v \\right)} + 1\\right) \\left|{e^{2} - 1}\\right| \\left|{\\sin{\\left(W \\right)} \\sin{\\left(v + w \\right)} \\cos{\\left(inc \\right)} - \\cos{\\left(W \\right)} \\cos{\\left(v + w \\right)}}\\right|}{\\left(1 - e^{2}\\right) \\sin{\\left(inc \\right)} \\sin{\\left(v + w \\right)} \\left|{e \\cos{\\left(v \\right)} + 1}\\right|}$"
      ],
      "text/plain": [
       "(e*cos(v) + 1)*Abs(e**2 - 1)*Abs(sin(W)*sin(v + w)*cos(inc) - cos(W)*cos(v + w))/((1 - e**2)*sin(inc)*sin(v + w)*Abs(e*cos(v) + 1))"
      ]
     },
     "execution_count": 5,
     "metadata": {},
     "output_type": "execute_result"
    }
   ],
   "source": [
    "innerExpression"
   ]
  },
  {
   "cell_type": "code",
   "execution_count": 26,
   "metadata": {},
   "outputs": [],
   "source": [
    "innerExpressionRewritten = (sp.Abs(e**2-1)*sp.Abs(sp.sin(W)*sp.sin(v+w)*sp.cos(inc)-sp.cos(W)*sp.cos(v+w)))/((1-e**2)*sp.sin(inc)*sp.sin(v+w))"
   ]
  },
  {
   "cell_type": "code",
   "execution_count": 27,
   "metadata": {},
   "outputs": [
    {
     "data": {
      "text/latex": [
       "$\\displaystyle \\frac{\\left|{e^{2} - 1}\\right| \\left|{\\sin{\\left(W \\right)} \\sin{\\left(v + w \\right)} \\cos{\\left(inc \\right)} - \\cos{\\left(W \\right)} \\cos{\\left(v + w \\right)}}\\right|}{\\left(1 - e^{2}\\right) \\sin{\\left(inc \\right)} \\sin{\\left(v + w \\right)}}$"
      ],
      "text/plain": [
       "Abs(e**2 - 1)*Abs(sin(W)*sin(v + w)*cos(inc) - cos(W)*cos(v + w))/((1 - e**2)*sin(inc)*sin(v + w))"
      ]
     },
     "execution_count": 27,
     "metadata": {},
     "output_type": "execute_result"
    }
   ],
   "source": [
    "innerExpressionRewritten"
   ]
  },
  {
   "cell_type": "code",
   "execution_count": 28,
   "metadata": {},
   "outputs": [],
   "source": [
    "innerExpressionRewritten2 = (-sp.Abs(sp.sin(W)*sp.sin(v+w)*sp.cos(inc)-sp.cos(W)*sp.cos(v+w)))/(sp.sin(inc)*sp.sin(v+w))"
   ]
  },
  {
   "cell_type": "code",
   "execution_count": 30,
   "metadata": {},
   "outputs": [
    {
     "data": {
      "text/latex": [
       "$\\displaystyle - \\frac{\\left|{\\sin{\\left(W \\right)} \\sin{\\left(v + w \\right)} \\cos{\\left(inc \\right)} - \\cos{\\left(W \\right)} \\cos{\\left(v + w \\right)}}\\right|}{\\sin{\\left(inc \\right)} \\sin{\\left(v + w \\right)}}$"
      ],
      "text/plain": [
       "-Abs(sin(W)*sin(v + w)*cos(inc) - cos(W)*cos(v + w))/(sin(inc)*sin(v + w))"
      ]
     },
     "execution_count": 30,
     "metadata": {},
     "output_type": "execute_result"
    }
   ],
   "source": [
    "innerExpressionRewritten2"
   ]
  },
  {
   "cell_type": "code",
   "execution_count": 66,
   "metadata": {},
   "outputs": [],
   "source": [
    "#sinApB = sp.sin(v)*sp.cos(w) + sp.cos(v)*sp.sin(w)#sin(A+B)\n",
    "#cosApB = sp.cos(v)*sp.cos(w) - sp.sin(v)*sp.sin(w)#cos(A+B)\n",
    "innerExpressionSubsvpw = (-sp.Abs(sp.sin(W)*(sp.sin(v)*sp.cos(w) + sp.cos(v)*sp.sin(w))*sp.cos(inc)-sp.cos(W)*(sp.cos(v)*sp.cos(w) - sp.sin(v)*sp.sin(w))))/(sp.sin(inc)*(sp.sin(v)*sp.cos(w) + sp.cos(v)*sp.sin(w)))"
   ]
  },
  {
   "cell_type": "code",
   "execution_count": 67,
   "metadata": {},
   "outputs": [
    {
     "data": {
      "text/latex": [
       "$\\displaystyle - \\frac{\\left|{A \\sin{\\left(W \\right)} \\cos{\\left(inc \\right)} \\cos{\\left(w \\right)} + A \\sin{\\left(w \\right)} \\cos{\\left(W \\right)} + B \\sin{\\left(W \\right)} \\sin{\\left(w \\right)} \\cos{\\left(inc \\right)} - B \\cos{\\left(W \\right)} \\cos{\\left(w \\right)}}\\right|}{A \\sin{\\left(inc \\right)} \\cos{\\left(w \\right)} + B \\sin{\\left(inc \\right)} \\sin{\\left(w \\right)}}$"
      ],
      "text/plain": [
       "-Abs(A*sin(W)*cos(inc)*cos(w) + A*sin(w)*cos(W) + B*sin(W)*sin(w)*cos(inc) - B*cos(W)*cos(w))/(A*sin(inc)*cos(w) + B*sin(inc)*sin(w))"
      ]
     },
     "execution_count": 67,
     "metadata": {},
     "output_type": "execute_result"
    }
   ],
   "source": [
    "sp.expand(innerExpressionSubsvpw.subs(sp.sin(v),A).subs(sp.cos(v),B))"
   ]
  },
  {
   "cell_type": "code",
   "execution_count": 68,
   "metadata": {},
   "outputs": [],
   "source": [
    "LHS = sp.tan(beta)*(A*sp.sin(inc)*sp.cos(w)+B*sp.sin(inc)*sp.sin(w))"
   ]
  },
  {
   "cell_type": "code",
   "execution_count": 69,
   "metadata": {},
   "outputs": [
    {
     "data": {
      "text/latex": [
       "$\\displaystyle A \\sin{\\left(inc \\right)} \\cos{\\left(w \\right)} \\tan{\\left(\\beta \\right)} + B \\sin{\\left(inc \\right)} \\sin{\\left(w \\right)} \\tan{\\left(\\beta \\right)}$"
      ],
      "text/plain": [
       "A*sin(inc)*cos(w)*tan(beta) + B*sin(inc)*sin(w)*tan(beta)"
      ]
     },
     "execution_count": 69,
     "metadata": {},
     "output_type": "execute_result"
    }
   ],
   "source": [
    "sp.expand(LHS)"
   ]
  },
  {
   "cell_type": "code",
   "execution_count": 70,
   "metadata": {},
   "outputs": [],
   "source": [
    "RHS = sp.simplify(innerExpressionSubsvpw.subs(sp.sin(v),A).subs(sp.cos(v),B)*(A*sp.sin(inc)*sp.cos(w)+B*sp.sin(inc)*sp.sin(w)))"
   ]
  },
  {
   "cell_type": "code",
   "execution_count": 72,
   "metadata": {},
   "outputs": [
    {
     "data": {
      "text/latex": [
       "$\\displaystyle - \\left|{A \\sin{\\left(W \\right)} \\cos{\\left(inc \\right)} \\cos{\\left(w \\right)} + A \\sin{\\left(w \\right)} \\cos{\\left(W \\right)} + B \\sin{\\left(W \\right)} \\sin{\\left(w \\right)} \\cos{\\left(inc \\right)} - B \\cos{\\left(W \\right)} \\cos{\\left(w \\right)}}\\right|$"
      ],
      "text/plain": [
       "-Abs(A*sin(W)*cos(inc)*cos(w) + A*sin(w)*cos(W) + B*sin(W)*sin(w)*cos(inc) - B*cos(W)*cos(w))"
      ]
     },
     "execution_count": 72,
     "metadata": {},
     "output_type": "execute_result"
    }
   ],
   "source": [
    "sp.expand(RHS)"
   ]
  },
  {
   "cell_type": "code",
   "execution_count": 73,
   "metadata": {},
   "outputs": [],
   "source": [
    "combinedEqn = sp.expand(LHS)-sp.expand(RHS) #=0"
   ]
  },
  {
   "cell_type": "code",
   "execution_count": 74,
   "metadata": {},
   "outputs": [
    {
     "data": {
      "text/latex": [
       "$\\displaystyle A \\sin{\\left(inc \\right)} \\cos{\\left(w \\right)} \\tan{\\left(\\beta \\right)} + B \\sin{\\left(inc \\right)} \\sin{\\left(w \\right)} \\tan{\\left(\\beta \\right)} + \\left|{A \\sin{\\left(W \\right)} \\cos{\\left(inc \\right)} \\cos{\\left(w \\right)} + A \\sin{\\left(w \\right)} \\cos{\\left(W \\right)} + B \\sin{\\left(W \\right)} \\sin{\\left(w \\right)} \\cos{\\left(inc \\right)} - B \\cos{\\left(W \\right)} \\cos{\\left(w \\right)}}\\right|$"
      ],
      "text/plain": [
       "A*sin(inc)*cos(w)*tan(beta) + B*sin(inc)*sin(w)*tan(beta) + Abs(A*sin(W)*cos(inc)*cos(w) + A*sin(w)*cos(W) + B*sin(W)*sin(w)*cos(inc) - B*cos(W)*cos(w))"
      ]
     },
     "execution_count": 74,
     "metadata": {},
     "output_type": "execute_result"
    }
   ],
   "source": [
    "combinedEqn #=0"
   ]
  },
  {
   "cell_type": "code",
   "execution_count": 58,
   "metadata": {},
   "outputs": [
    {
     "data": {
      "text/latex": [
       "$\\displaystyle A \\left(\\sin{\\left(W \\right)} \\cos{\\left(inc \\right)} \\cos{\\left(w \\right)} + \\sin{\\left(inc \\right)} \\cos{\\left(w \\right)} \\tan{\\left(\\beta \\right)} + \\sin{\\left(w \\right)} \\cos{\\left(W \\right)}\\right) + B \\left(\\sin{\\left(W \\right)} \\sin{\\left(w \\right)} \\cos{\\left(inc \\right)} + \\sin{\\left(inc \\right)} \\sin{\\left(w \\right)} \\tan{\\left(\\beta \\right)} - \\cos{\\left(W \\right)} \\cos{\\left(w \\right)}\\right)$"
      ],
      "text/plain": [
       "A*(sin(W)*cos(inc)*cos(w) + sin(inc)*cos(w)*tan(beta) + sin(w)*cos(W)) + B*(sin(W)*sin(w)*cos(inc) + sin(inc)*sin(w)*tan(beta) - cos(W)*cos(w))"
      ]
     },
     "execution_count": 58,
     "metadata": {},
     "output_type": "execute_result"
    }
   ],
   "source": [
    "#rewritten for handling purposes\n",
    "A*(sp.sin(W)*sp.cos(inc)*sp.cos(w) + sp.sin(inc)*sp.cos(w)*sp.tan(beta)+sp.sin(w)*sp.cos(W)) + B*(sp.sin(W)*sp.sin(w)*sp.cos(inc)+sp.sin(inc)*sp.sin(w)*sp.tan(beta)-sp.cos(W)*sp.cos(w))"
   ]
  },
  {
   "cell_type": "code",
   "execution_count": 61,
   "metadata": {},
   "outputs": [],
   "source": [
    "#A/B = -(sp.sin(W)*sp.sin(w)*sp.cos(inc)+sp.sin(inc)*sp.sin(w)*sp.tan(beta)-sp.cos(W)*sp.cos(w))/(sp.sin(W)*sp.cos(inc)*sp.cos(w) + sp.sin(inc)*sp.cos(w)*sp.tan(beta)+sp.sin(w)*sp.cos(W))\n",
    "nuEqn = sp.atan2(-(sp.sin(W)*sp.sin(w)*sp.cos(inc)+sp.sin(inc)*sp.sin(w)*sp.tan(beta)-sp.cos(W)*sp.cos(w)),(sp.sin(W)*sp.cos(inc)*sp.cos(w) + sp.sin(inc)*sp.cos(w)*sp.tan(beta)+sp.sin(w)*sp.cos(W)))"
   ]
  },
  {
   "cell_type": "code",
   "execution_count": 63,
   "metadata": {},
   "outputs": [
    {
     "name": "stdout",
     "output_type": "stream",
     "text": [
      "atan2(-sin(W)*sin(w)*cos(inc) - sin(inc)*sin(w)*tan(beta) + cos(W)*cos(w), sin(W)*cos(inc)*cos(w) + sin(inc)*cos(w)*tan(beta) + sin(w)*cos(W))\n"
     ]
    }
   ],
   "source": [
    "print(nuEqn)"
   ]
  },
  {
   "cell_type": "code",
   "execution_count": null,
   "metadata": {},
   "outputs": [],
   "source": []
  },
  {
   "cell_type": "code",
   "execution_count": null,
   "metadata": {},
   "outputs": [],
   "source": []
  },
  {
   "cell_type": "code",
   "execution_count": null,
   "metadata": {},
   "outputs": [],
   "source": []
  },
  {
   "cell_type": "code",
   "execution_count": null,
   "metadata": {},
   "outputs": [],
   "source": []
  },
  {
   "cell_type": "code",
   "execution_count": 33,
   "metadata": {},
   "outputs": [],
   "source": [
    "betaeqn = sp.atan2(sp.sqrt(eqnX**2,eqnY**2),eqnZ)"
   ]
  },
  {
   "cell_type": "code",
   "execution_count": 34,
   "metadata": {},
   "outputs": [
    {
     "data": {
      "text/latex": [
       "$\\displaystyle \\operatorname{atan_{2}}{\\left(\\frac{a \\left|{e^{2} - 1}\\right| \\left|{\\sin{\\left(W \\right)} \\sin{\\left(v + w \\right)} \\cos{\\left(inc \\right)} - \\cos{\\left(W \\right)} \\cos{\\left(v + w \\right)}}\\right|}{\\left|{e \\cos{\\left(v \\right)} + 1}\\right|},\\frac{a \\left(1 - e^{2}\\right) \\sin{\\left(inc \\right)} \\sin{\\left(v + w \\right)}}{e \\cos{\\left(v \\right)} + 1} \\right)}$"
      ],
      "text/plain": [
       "atan2(a*Abs(e**2 - 1)*Abs(sin(W)*sin(v + w)*cos(inc) - cos(W)*cos(v + w))/Abs(e*cos(v) + 1), a*(1 - e**2)*sin(inc)*sin(v + w)/(e*cos(v) + 1))"
      ]
     },
     "execution_count": 34,
     "metadata": {},
     "output_type": "execute_result"
    }
   ],
   "source": [
    "betaeqn"
   ]
  },
  {
   "cell_type": "markdown",
   "metadata": {},
   "source": [
    "# Equation For Beta Using Z,r"
   ]
  },
  {
   "cell_type": "code",
   "execution_count": 12,
   "metadata": {},
   "outputs": [],
   "source": [
    "betaeqn = sp.asin(eqnr*sp.sqrt((eqnX/eqnr)**2+(eqnY/eqnr)**2)/eqnr)"
   ]
  },
  {
   "cell_type": "code",
   "execution_count": 16,
   "metadata": {},
   "outputs": [
    {
     "name": "stdout",
     "output_type": "stream",
     "text": [
      "asin(sqrt((sin(W)*cos(v + w) + sin(v + w)*cos(W)*cos(inc))**2 + (-sin(W)*sin(v + w)*cos(inc) + cos(W)*cos(v + w))**2))\n"
     ]
    }
   ],
   "source": [
    "print(betaeqn)"
   ]
  },
  {
   "cell_type": "code",
   "execution_count": 14,
   "metadata": {},
   "outputs": [
    {
     "data": {
      "text/latex": [
       "$\\displaystyle \\operatorname{asin}{\\left(\\frac{\\sqrt{4 \\cos{\\left(2 inc \\right)} + 4 \\cos{\\left(2 v + 2 w \\right)} - 2 \\cos{\\left(- 2 inc + 2 v + 2 w \\right)} - 2 \\cos{\\left(2 inc + 2 v + 2 w \\right)} + 12}}{4} \\right)}$"
      ],
      "text/plain": [
       "asin(sqrt(4*cos(2*inc) + 4*cos(2*v + 2*w) - 2*cos(-2*inc + 2*v + 2*w) - 2*cos(2*inc + 2*v + 2*w) + 12)/4)"
      ]
     },
     "execution_count": 14,
     "metadata": {},
     "output_type": "execute_result"
    }
   ],
   "source": [
    "sp.simplify(betaeqn)"
   ]
  },
  {
   "cell_type": "code",
   "execution_count": 21,
   "metadata": {},
   "outputs": [],
   "source": [
    "betaeqnInner = (sp.sin(W)*(sp.cos(v)*sp.cos(w) - sp.sin(v)*sp.sin(w)) + (sp.sin(v)*sp.cos(w) + sp.cos(v)*sp.sin(w))*sp.cos(W)*sp.cos(inc))**2 + (-sp.sin(W)*(sp.sin(v)*sp.cos(w) + sp.cos(v)*sp.sin(w))*sp.cos(inc) + sp.cos(W)*(sp.cos(v)*sp.cos(w) - sp.sin(v)*sp.sin(w)))**2"
   ]
  },
  {
   "cell_type": "code",
   "execution_count": 25,
   "metadata": {},
   "outputs": [
    {
     "data": {
      "text/latex": [
       "$\\displaystyle A^{2} \\sin^{2}{\\left(inc \\right)} \\sin^{2}{\\left(w \\right)} - A^{2} \\sin^{2}{\\left(inc \\right)} + A^{2} - 2 A B \\sin^{2}{\\left(inc \\right)} \\sin{\\left(w \\right)} \\cos{\\left(w \\right)} - B^{2} \\sin^{2}{\\left(inc \\right)} \\sin^{2}{\\left(w \\right)} + B^{2}$"
      ],
      "text/plain": [
       "A**2*sin(inc)**2*sin(w)**2 - A**2*sin(inc)**2 + A**2 - 2*A*B*sin(inc)**2*sin(w)*cos(w) - B**2*sin(inc)**2*sin(w)**2 + B**2"
      ]
     },
     "execution_count": 25,
     "metadata": {},
     "output_type": "execute_result"
    }
   ],
   "source": [
    "sp.simplify(sp.expand(betaeqnInner).subs(sp.sin(v),A).subs(sp.cos(v),B))"
   ]
  },
  {
   "cell_type": "markdown",
   "metadata": {},
   "source": [
    "# Beta with cos, z component and r"
   ]
  },
  {
   "cell_type": "code",
   "execution_count": 76,
   "metadata": {},
   "outputs": [
    {
     "data": {
      "text/latex": [
       "$\\displaystyle \\sin{\\left(inc \\right)} \\sin{\\left(v + w \\right)}$"
      ],
      "text/plain": [
       "sin(inc)*sin(v + w)"
      ]
     },
     "execution_count": 76,
     "metadata": {},
     "output_type": "execute_result"
    }
   ],
   "source": [
    "eqnZ/eqnr"
   ]
  },
  {
   "cell_type": "code",
   "execution_count": 81,
   "metadata": {},
   "outputs": [
    {
     "data": {
      "text/latex": [
       "$\\displaystyle \\sin{\\left(inc \\right)} \\sin{\\left(v \\right)} \\cos{\\left(w \\right)} + \\sin{\\left(inc \\right)} \\sin{\\left(w \\right)} \\cos{\\left(v \\right)}$"
      ],
      "text/plain": [
       "sin(inc)*sin(v)*cos(w) + sin(inc)*sin(w)*cos(v)"
      ]
     },
     "execution_count": 81,
     "metadata": {},
     "output_type": "execute_result"
    }
   ],
   "source": [
    "sp.expand(sp.sin(inc)*(sp.sin(v)*sp.cos(w) + sp.cos(v)*sp.sin(w)))"
   ]
  },
  {
   "cell_type": "code",
   "execution_count": null,
   "metadata": {},
   "outputs": [],
   "source": []
  },
  {
   "cell_type": "code",
   "execution_count": null,
   "metadata": {},
   "outputs": [],
   "source": []
  },
  {
   "cell_type": "code",
   "execution_count": 78,
   "metadata": {},
   "outputs": [
    {
     "data": {
      "text/latex": [
       "$\\displaystyle a \\left|{\\frac{e^{2} - 1}{e \\cos{\\left(v \\right)} + 1}}\\right|$"
      ],
      "text/plain": [
       "a*Abs((e**2 - 1)/(e*cos(v) + 1))"
      ]
     },
     "execution_count": 78,
     "metadata": {},
     "output_type": "execute_result"
    }
   ],
   "source": [
    "sp.simplify(sp.sqrt(eqnX**2+eqnY**2+eqnZ**2))"
   ]
  },
  {
   "cell_type": "code",
   "execution_count": 79,
   "metadata": {},
   "outputs": [
    {
     "data": {
      "text/latex": [
       "$\\displaystyle \\frac{a \\left(1 - e^{2}\\right)}{e \\cos{\\left(v \\right)} + 1}$"
      ],
      "text/plain": [
       "a*(1 - e**2)/(e*cos(v) + 1)"
      ]
     },
     "execution_count": 79,
     "metadata": {},
     "output_type": "execute_result"
    }
   ],
   "source": [
    "eqnr"
   ]
  },
  {
   "cell_type": "code",
   "execution_count": null,
   "metadata": {},
   "outputs": [],
   "source": []
  }
 ],
 "metadata": {
  "kernelspec": {
   "display_name": "Python 3",
   "language": "python",
   "name": "python3"
  },
  "language_info": {
   "codemirror_mode": {
    "name": "ipython",
    "version": 3
   },
   "file_extension": ".py",
   "mimetype": "text/x-python",
   "name": "python",
   "nbconvert_exporter": "python",
   "pygments_lexer": "ipython3",
   "version": "3.6.9"
  }
 },
 "nbformat": 4,
 "nbformat_minor": 4
}
