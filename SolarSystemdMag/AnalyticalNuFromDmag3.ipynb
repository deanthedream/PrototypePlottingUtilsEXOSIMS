{
 "cells": [
  {
   "cell_type": "code",
   "execution_count": 90,
   "metadata": {},
   "outputs": [],
   "source": [
    "import sympy as sp\n",
    "import numpy as np"
   ]
  },
  {
   "cell_type": "code",
   "execution_count": 91,
   "metadata": {},
   "outputs": [],
   "source": [
    "dMag, a, e, p, Rp = sp.symbols('dMag a e p R_p', real=True)\n",
    "v, w, inc, beta = sp.symbols('v w i beta', real=True, positive=True)\n",
    "A, B, C, D, F = sp.symbols('A B C D F',real=True)\n",
    "x = sp.symbols('x',real=True)"
   ]
  },
  {
   "cell_type": "code",
   "execution_count": 92,
   "metadata": {},
   "outputs": [],
   "source": [
    "betaFunc = sp.acos(sp.sin(inc)*sp.sin(v+w)) #define beta, phase angle, as a function of KOE\n",
    "#Angle Addition Expanders\n",
    "sinvpw = sp.sin(v)*sp.cos(w) + sp.cos(v)*sp.sin(w)\n",
    "cosvpw = sp.cos(v)*sp.cos(w) - sp.sin(v)*sp.sin(w)\n",
    "sinvmw = sp.sin(v)*sp.cos(w) - sp.cos(v)*sp.sin(w)\n",
    "cosvmw = sp.cos(v)*sp.cos(w) + sp.sin(v)*sp.sin(w)\n",
    "betaFunc = betaFunc.subs(sp.sin(v+w),sinvpw)"
   ]
  },
  {
   "cell_type": "code",
   "execution_count": 93,
   "metadata": {},
   "outputs": [],
   "source": [
    "phiFunc = -sp.tanh((beta-D)/A)/B+C #Define the phase function PhiH(beta,A,B,C,D)\n",
    "phiFunc = phiFunc.subs(beta,betaFunc) #replace in phase function\n",
    "FFunc = phiFunc*(e*sp.cos(v)+1)**2 - F # is equal to 0"
   ]
  },
  {
   "cell_type": "code",
   "execution_count": 94,
   "metadata": {},
   "outputs": [
    {
     "data": {
      "text/latex": [
       "$\\displaystyle - F + \\left(C - \\frac{\\tanh{\\left(\\frac{- D + \\operatorname{acos}{\\left(\\left(\\sin{\\left(v \\right)} \\cos{\\left(w \\right)} + \\sin{\\left(w \\right)} \\cos{\\left(v \\right)}\\right) \\sin{\\left(i \\right)} \\right)}}{A} \\right)}}{B}\\right) \\left(e \\cos{\\left(v \\right)} + 1\\right)^{2}$"
      ],
      "text/plain": [
       "-F + (C - tanh((-D + acos((sin(v)*cos(w) + sin(w)*cos(v))*sin(i)))/A)/B)*(e*cos(v) + 1)**2"
      ]
     },
     "execution_count": 94,
     "metadata": {},
     "output_type": "execute_result"
    }
   ],
   "source": [
    "FFunc"
   ]
  },
  {
   "cell_type": "code",
   "execution_count": 95,
   "metadata": {},
   "outputs": [],
   "source": [
    "#Does Not Solve\n",
    "#sp.solve(FFunc,v)"
   ]
  },
  {
   "cell_type": "markdown",
   "metadata": {},
   "source": [
    "# Solving Quasi-Lambert Phase Function"
   ]
  },
  {
   "cell_type": "code",
   "execution_count": 96,
   "metadata": {},
   "outputs": [],
   "source": [
    "betaFunc = sp.acos(sp.sin(inc)*sp.sin(v+w))\n",
    "halfAngle = sp.sqrt(1/2+sp.cos(beta)/2) #only the positive one\n",
    "sinv = sp.sqrt(1-sp.cos(v)**2)\n",
    "phiQL = sp.cos(beta/2)**4 #quasi-lambert phase function\n",
    "phiQL = phiQL.subs(sp.cos(beta/2),halfAngle)\n",
    "phiQL = phiQL.subs(beta,betaFunc).subs(sp.sin(v+w),sinvpw)\n",
    "rhs = phiQL*(e*sp.cos(v)+1)**2\n",
    "lhs = sp.symbols('lhs',real=True)"
   ]
  },
  {
   "cell_type": "code",
   "execution_count": 97,
   "metadata": {},
   "outputs": [
    {
     "data": {
      "text/latex": [
       "$\\displaystyle \\frac{e^{2} \\sin^{2}{\\left(i \\right)} \\sin{\\left(v \\right)} \\sin{\\left(w \\right)} \\cos^{3}{\\left(v \\right)} \\cos{\\left(w \\right)}}{2} + \\frac{e^{2} \\sin^{2}{\\left(i \\right)} \\sin^{2}{\\left(w \\right)} \\cos^{4}{\\left(v \\right)}}{4} - \\frac{e^{2} \\sin^{2}{\\left(i \\right)} \\cos^{4}{\\left(v \\right)} \\cos^{2}{\\left(w \\right)}}{4} + \\frac{e^{2} \\sin^{2}{\\left(i \\right)} \\cos^{2}{\\left(v \\right)} \\cos^{2}{\\left(w \\right)}}{4} + \\frac{e^{2} \\sin{\\left(i \\right)} \\sin{\\left(v \\right)} \\cos^{2}{\\left(v \\right)} \\cos{\\left(w \\right)}}{2} + \\frac{e^{2} \\sin{\\left(i \\right)} \\sin{\\left(w \\right)} \\cos^{3}{\\left(v \\right)}}{2} + \\frac{e^{2} \\cos^{2}{\\left(v \\right)}}{4} + e \\sin^{2}{\\left(i \\right)} \\sin{\\left(v \\right)} \\sin{\\left(w \\right)} \\cos^{2}{\\left(v \\right)} \\cos{\\left(w \\right)} + \\frac{e \\sin^{2}{\\left(i \\right)} \\sin^{2}{\\left(w \\right)} \\cos^{3}{\\left(v \\right)}}{2} - \\frac{e \\sin^{2}{\\left(i \\right)} \\cos^{3}{\\left(v \\right)} \\cos^{2}{\\left(w \\right)}}{2} + \\frac{e \\sin^{2}{\\left(i \\right)} \\cos{\\left(v \\right)} \\cos^{2}{\\left(w \\right)}}{2} + e \\sin{\\left(i \\right)} \\sin{\\left(v \\right)} \\cos{\\left(v \\right)} \\cos{\\left(w \\right)} + e \\sin{\\left(i \\right)} \\sin{\\left(w \\right)} \\cos^{2}{\\left(v \\right)} + \\frac{e \\cos{\\left(v \\right)}}{2} + \\frac{\\sin^{2}{\\left(i \\right)} \\sin{\\left(v \\right)} \\sin{\\left(w \\right)} \\cos{\\left(v \\right)} \\cos{\\left(w \\right)}}{2} + \\frac{\\sin^{2}{\\left(i \\right)} \\sin^{2}{\\left(w \\right)} \\cos^{2}{\\left(v \\right)}}{4} - \\frac{\\sin^{2}{\\left(i \\right)} \\cos^{2}{\\left(v \\right)} \\cos^{2}{\\left(w \\right)}}{4} + \\frac{\\sin^{2}{\\left(i \\right)} \\cos^{2}{\\left(w \\right)}}{4} + \\frac{\\sin{\\left(i \\right)} \\sin{\\left(v \\right)} \\cos{\\left(w \\right)}}{2} + \\frac{\\sin{\\left(i \\right)} \\sin{\\left(w \\right)} \\cos{\\left(v \\right)}}{2} + \\frac{1}{4}$"
      ],
      "text/plain": [
       "e**2*sin(i)**2*sin(v)*sin(w)*cos(v)**3*cos(w)/2 + e**2*sin(i)**2*sin(w)**2*cos(v)**4/4 - e**2*sin(i)**2*cos(v)**4*cos(w)**2/4 + e**2*sin(i)**2*cos(v)**2*cos(w)**2/4 + e**2*sin(i)*sin(v)*cos(v)**2*cos(w)/2 + e**2*sin(i)*sin(w)*cos(v)**3/2 + e**2*cos(v)**2/4 + e*sin(i)**2*sin(v)*sin(w)*cos(v)**2*cos(w) + e*sin(i)**2*sin(w)**2*cos(v)**3/2 - e*sin(i)**2*cos(v)**3*cos(w)**2/2 + e*sin(i)**2*cos(v)*cos(w)**2/2 + e*sin(i)*sin(v)*cos(v)*cos(w) + e*sin(i)*sin(w)*cos(v)**2 + e*cos(v)/2 + sin(i)**2*sin(v)*sin(w)*cos(v)*cos(w)/2 + sin(i)**2*sin(w)**2*cos(v)**2/4 - sin(i)**2*cos(v)**2*cos(w)**2/4 + sin(i)**2*cos(w)**2/4 + sin(i)*sin(v)*cos(w)/2 + sin(i)*sin(w)*cos(v)/2 + 1/4"
      ]
     },
     "execution_count": 97,
     "metadata": {},
     "output_type": "execute_result"
    }
   ],
   "source": [
    "# replacing sin2 with cos2\n",
    "sp.expand(sp.expand(rhs).subs(sp.sin(v)**2,1-sp.cos(v)**2))"
   ]
  },
  {
   "cell_type": "code",
   "execution_count": 132,
   "metadata": {},
   "outputs": [],
   "source": [
    "#replacing sin with cos\n",
    "fullEqn = sp.expand(rhs.subs(sp.sin(v),sinv))"
   ]
  },
  {
   "cell_type": "code",
   "execution_count": 133,
   "metadata": {},
   "outputs": [
    {
     "data": {
      "text/latex": [
       "$\\displaystyle \\frac{e^{2} \\sqrt{1 - \\cos^{2}{\\left(v \\right)}} \\sin^{2}{\\left(i \\right)} \\sin{\\left(w \\right)} \\cos^{3}{\\left(v \\right)} \\cos{\\left(w \\right)}}{2} + \\frac{e^{2} \\sqrt{1 - \\cos^{2}{\\left(v \\right)}} \\sin{\\left(i \\right)} \\cos^{2}{\\left(v \\right)} \\cos{\\left(w \\right)}}{2} + \\frac{e^{2} \\sin^{2}{\\left(i \\right)} \\sin^{2}{\\left(w \\right)} \\cos^{4}{\\left(v \\right)}}{4} - \\frac{e^{2} \\sin^{2}{\\left(i \\right)} \\cos^{4}{\\left(v \\right)} \\cos^{2}{\\left(w \\right)}}{4} + \\frac{e^{2} \\sin^{2}{\\left(i \\right)} \\cos^{2}{\\left(v \\right)} \\cos^{2}{\\left(w \\right)}}{4} + \\frac{e^{2} \\sin{\\left(i \\right)} \\sin{\\left(w \\right)} \\cos^{3}{\\left(v \\right)}}{2} + \\frac{e^{2} \\cos^{2}{\\left(v \\right)}}{4} + e \\sqrt{1 - \\cos^{2}{\\left(v \\right)}} \\sin^{2}{\\left(i \\right)} \\sin{\\left(w \\right)} \\cos^{2}{\\left(v \\right)} \\cos{\\left(w \\right)} + e \\sqrt{1 - \\cos^{2}{\\left(v \\right)}} \\sin{\\left(i \\right)} \\cos{\\left(v \\right)} \\cos{\\left(w \\right)} + \\frac{e \\sin^{2}{\\left(i \\right)} \\sin^{2}{\\left(w \\right)} \\cos^{3}{\\left(v \\right)}}{2} - \\frac{e \\sin^{2}{\\left(i \\right)} \\cos^{3}{\\left(v \\right)} \\cos^{2}{\\left(w \\right)}}{2} + \\frac{e \\sin^{2}{\\left(i \\right)} \\cos{\\left(v \\right)} \\cos^{2}{\\left(w \\right)}}{2} + e \\sin{\\left(i \\right)} \\sin{\\left(w \\right)} \\cos^{2}{\\left(v \\right)} + \\frac{e \\cos{\\left(v \\right)}}{2} + \\frac{\\sqrt{1 - \\cos^{2}{\\left(v \\right)}} \\sin^{2}{\\left(i \\right)} \\sin{\\left(w \\right)} \\cos{\\left(v \\right)} \\cos{\\left(w \\right)}}{2} + \\frac{\\sqrt{1 - \\cos^{2}{\\left(v \\right)}} \\sin{\\left(i \\right)} \\cos{\\left(w \\right)}}{2} + \\frac{\\sin^{2}{\\left(i \\right)} \\sin^{2}{\\left(w \\right)} \\cos^{2}{\\left(v \\right)}}{4} - \\frac{\\sin^{2}{\\left(i \\right)} \\cos^{2}{\\left(v \\right)} \\cos^{2}{\\left(w \\right)}}{4} + \\frac{\\sin^{2}{\\left(i \\right)} \\cos^{2}{\\left(w \\right)}}{4} + \\frac{\\sin{\\left(i \\right)} \\sin{\\left(w \\right)} \\cos{\\left(v \\right)}}{2} + \\frac{1}{4}$"
      ],
      "text/plain": [
       "e**2*sqrt(1 - cos(v)**2)*sin(i)**2*sin(w)*cos(v)**3*cos(w)/2 + e**2*sqrt(1 - cos(v)**2)*sin(i)*cos(v)**2*cos(w)/2 + e**2*sin(i)**2*sin(w)**2*cos(v)**4/4 - e**2*sin(i)**2*cos(v)**4*cos(w)**2/4 + e**2*sin(i)**2*cos(v)**2*cos(w)**2/4 + e**2*sin(i)*sin(w)*cos(v)**3/2 + e**2*cos(v)**2/4 + e*sqrt(1 - cos(v)**2)*sin(i)**2*sin(w)*cos(v)**2*cos(w) + e*sqrt(1 - cos(v)**2)*sin(i)*cos(v)*cos(w) + e*sin(i)**2*sin(w)**2*cos(v)**3/2 - e*sin(i)**2*cos(v)**3*cos(w)**2/2 + e*sin(i)**2*cos(v)*cos(w)**2/2 + e*sin(i)*sin(w)*cos(v)**2 + e*cos(v)/2 + sqrt(1 - cos(v)**2)*sin(i)**2*sin(w)*cos(v)*cos(w)/2 + sqrt(1 - cos(v)**2)*sin(i)*cos(w)/2 + sin(i)**2*sin(w)**2*cos(v)**2/4 - sin(i)**2*cos(v)**2*cos(w)**2/4 + sin(i)**2*cos(w)**2/4 + sin(i)*sin(w)*cos(v)/2 + 1/4"
      ]
     },
     "execution_count": 133,
     "metadata": {},
     "output_type": "execute_result"
    }
   ],
   "source": [
    "fullEqn"
   ]
  },
  {
   "cell_type": "code",
   "execution_count": 134,
   "metadata": {},
   "outputs": [],
   "source": [
    "#replace with x\n",
    "fullEqn = fullEqn.subs(sp.cos(v),x)-lhs"
   ]
  },
  {
   "cell_type": "code",
   "execution_count": 137,
   "metadata": {},
   "outputs": [
    {
     "data": {
      "text/latex": [
       "$\\displaystyle \\frac{e^{2} x^{4} \\sin^{2}{\\left(i \\right)} \\sin^{2}{\\left(w \\right)}}{4} - \\frac{e^{2} x^{4} \\sin^{2}{\\left(i \\right)} \\cos^{2}{\\left(w \\right)}}{4} + \\frac{e^{2} x^{3} \\sqrt{1 - x^{2}} \\sin^{2}{\\left(i \\right)} \\sin{\\left(w \\right)} \\cos{\\left(w \\right)}}{2} + \\frac{e^{2} x^{3} \\sin{\\left(i \\right)} \\sin{\\left(w \\right)}}{2} + \\frac{e^{2} x^{2} \\sqrt{1 - x^{2}} \\sin{\\left(i \\right)} \\cos{\\left(w \\right)}}{2} + \\frac{e^{2} x^{2} \\sin^{2}{\\left(i \\right)} \\cos^{2}{\\left(w \\right)}}{4} + \\frac{e^{2} x^{2}}{4} + \\frac{e x^{3} \\sin^{2}{\\left(i \\right)} \\sin^{2}{\\left(w \\right)}}{2} - \\frac{e x^{3} \\sin^{2}{\\left(i \\right)} \\cos^{2}{\\left(w \\right)}}{2} + e x^{2} \\sqrt{1 - x^{2}} \\sin^{2}{\\left(i \\right)} \\sin{\\left(w \\right)} \\cos{\\left(w \\right)} + e x^{2} \\sin{\\left(i \\right)} \\sin{\\left(w \\right)} + e x \\sqrt{1 - x^{2}} \\sin{\\left(i \\right)} \\cos{\\left(w \\right)} + \\frac{e x \\sin^{2}{\\left(i \\right)} \\cos^{2}{\\left(w \\right)}}{2} + \\frac{e x}{2} - lhs + \\frac{x^{2} \\sin^{2}{\\left(i \\right)} \\sin^{2}{\\left(w \\right)}}{4} - \\frac{x^{2} \\sin^{2}{\\left(i \\right)} \\cos^{2}{\\left(w \\right)}}{4} + \\frac{x \\sqrt{1 - x^{2}} \\sin^{2}{\\left(i \\right)} \\sin{\\left(w \\right)} \\cos{\\left(w \\right)}}{2} + \\frac{x \\sin{\\left(i \\right)} \\sin{\\left(w \\right)}}{2} + \\frac{\\sqrt{1 - x^{2}} \\sin{\\left(i \\right)} \\cos{\\left(w \\right)}}{2} + \\frac{\\sin^{2}{\\left(i \\right)} \\cos^{2}{\\left(w \\right)}}{4} + \\frac{1}{4}$"
      ],
      "text/plain": [
       "e**2*x**4*sin(i)**2*sin(w)**2/4 - e**2*x**4*sin(i)**2*cos(w)**2/4 + e**2*x**3*sqrt(1 - x**2)*sin(i)**2*sin(w)*cos(w)/2 + e**2*x**3*sin(i)*sin(w)/2 + e**2*x**2*sqrt(1 - x**2)*sin(i)*cos(w)/2 + e**2*x**2*sin(i)**2*cos(w)**2/4 + e**2*x**2/4 + e*x**3*sin(i)**2*sin(w)**2/2 - e*x**3*sin(i)**2*cos(w)**2/2 + e*x**2*sqrt(1 - x**2)*sin(i)**2*sin(w)*cos(w) + e*x**2*sin(i)*sin(w) + e*x*sqrt(1 - x**2)*sin(i)*cos(w) + e*x*sin(i)**2*cos(w)**2/2 + e*x/2 - lhs + x**2*sin(i)**2*sin(w)**2/4 - x**2*sin(i)**2*cos(w)**2/4 + x*sqrt(1 - x**2)*sin(i)**2*sin(w)*cos(w)/2 + x*sin(i)*sin(w)/2 + sqrt(1 - x**2)*sin(i)*cos(w)/2 + sin(i)**2*cos(w)**2/4 + 1/4"
      ]
     },
     "execution_count": 137,
     "metadata": {},
     "output_type": "execute_result"
    }
   ],
   "source": [
    "fullEqn"
   ]
  },
  {
   "cell_type": "code",
   "execution_count": 100,
   "metadata": {},
   "outputs": [],
   "source": [
    "#separate out sqrt x terms\n",
    "fullEqnPoly = sp.Poly(fullEqn,sp.sqrt(1-x**2))"
   ]
  },
  {
   "cell_type": "code",
   "execution_count": 101,
   "metadata": {},
   "outputs": [],
   "source": [
    "fullEqnX = sp.expand(fullEqnPoly.coeffs()[1]**2 - (1-x**2)*fullEqnPoly.coeffs()[0]**2) # move sqrt(1-x**2) and [0] to lhs, square lone terms [1] and lhs stuff, expand and consolidate to one side"
   ]
  },
  {
   "cell_type": "code",
   "execution_count": 102,
   "metadata": {},
   "outputs": [
    {
     "data": {
      "text/latex": [
       "$\\displaystyle \\frac{e^{4} x^{8} \\sin^{4}{\\left(i \\right)} \\sin^{4}{\\left(w \\right)}}{16} + \\frac{e^{4} x^{8} \\sin^{4}{\\left(i \\right)} \\sin^{2}{\\left(w \\right)} \\cos^{2}{\\left(w \\right)}}{8} + \\frac{e^{4} x^{8} \\sin^{4}{\\left(i \\right)} \\cos^{4}{\\left(w \\right)}}{16} + \\frac{e^{4} x^{7} \\sin^{3}{\\left(i \\right)} \\sin^{3}{\\left(w \\right)}}{4} + \\frac{e^{4} x^{7} \\sin^{3}{\\left(i \\right)} \\sin{\\left(w \\right)} \\cos^{2}{\\left(w \\right)}}{4} - \\frac{e^{4} x^{6} \\sin^{4}{\\left(i \\right)} \\sin^{2}{\\left(w \\right)} \\cos^{2}{\\left(w \\right)}}{8} - \\frac{e^{4} x^{6} \\sin^{4}{\\left(i \\right)} \\cos^{4}{\\left(w \\right)}}{8} + \\frac{3 e^{4} x^{6} \\sin^{2}{\\left(i \\right)} \\sin^{2}{\\left(w \\right)}}{8} + \\frac{e^{4} x^{6} \\sin^{2}{\\left(i \\right)} \\cos^{2}{\\left(w \\right)}}{8} - \\frac{e^{4} x^{5} \\sin^{3}{\\left(i \\right)} \\sin{\\left(w \\right)} \\cos^{2}{\\left(w \\right)}}{4} + \\frac{e^{4} x^{5} \\sin{\\left(i \\right)} \\sin{\\left(w \\right)}}{4} + \\frac{e^{4} x^{4} \\sin^{4}{\\left(i \\right)} \\cos^{4}{\\left(w \\right)}}{16} - \\frac{e^{4} x^{4} \\sin^{2}{\\left(i \\right)} \\cos^{2}{\\left(w \\right)}}{8} + \\frac{e^{4} x^{4}}{16} + \\frac{e^{3} x^{7} \\sin^{4}{\\left(i \\right)} \\sin^{4}{\\left(w \\right)}}{4} + \\frac{e^{3} x^{7} \\sin^{4}{\\left(i \\right)} \\sin^{2}{\\left(w \\right)} \\cos^{2}{\\left(w \\right)}}{2} + \\frac{e^{3} x^{7} \\sin^{4}{\\left(i \\right)} \\cos^{4}{\\left(w \\right)}}{4} + e^{3} x^{6} \\sin^{3}{\\left(i \\right)} \\sin^{3}{\\left(w \\right)} + e^{3} x^{6} \\sin^{3}{\\left(i \\right)} \\sin{\\left(w \\right)} \\cos^{2}{\\left(w \\right)} - \\frac{e^{3} x^{5} \\sin^{4}{\\left(i \\right)} \\sin^{2}{\\left(w \\right)} \\cos^{2}{\\left(w \\right)}}{2} - \\frac{e^{3} x^{5} \\sin^{4}{\\left(i \\right)} \\cos^{4}{\\left(w \\right)}}{2} + \\frac{3 e^{3} x^{5} \\sin^{2}{\\left(i \\right)} \\sin^{2}{\\left(w \\right)}}{2} + \\frac{e^{3} x^{5} \\sin^{2}{\\left(i \\right)} \\cos^{2}{\\left(w \\right)}}{2} - e^{3} x^{4} \\sin^{3}{\\left(i \\right)} \\sin{\\left(w \\right)} \\cos^{2}{\\left(w \\right)} + e^{3} x^{4} \\sin{\\left(i \\right)} \\sin{\\left(w \\right)} + \\frac{e^{3} x^{3} \\sin^{4}{\\left(i \\right)} \\cos^{4}{\\left(w \\right)}}{4} - \\frac{e^{3} x^{3} \\sin^{2}{\\left(i \\right)} \\cos^{2}{\\left(w \\right)}}{2} + \\frac{e^{3} x^{3}}{4} - \\frac{e^{2} lhs x^{4} \\sin^{2}{\\left(i \\right)} \\sin^{2}{\\left(w \\right)}}{2} + \\frac{e^{2} lhs x^{4} \\sin^{2}{\\left(i \\right)} \\cos^{2}{\\left(w \\right)}}{2} - e^{2} lhs x^{3} \\sin{\\left(i \\right)} \\sin{\\left(w \\right)} - \\frac{e^{2} lhs x^{2} \\sin^{2}{\\left(i \\right)} \\cos^{2}{\\left(w \\right)}}{2} - \\frac{e^{2} lhs x^{2}}{2} + \\frac{3 e^{2} x^{6} \\sin^{4}{\\left(i \\right)} \\sin^{4}{\\left(w \\right)}}{8} + \\frac{3 e^{2} x^{6} \\sin^{4}{\\left(i \\right)} \\sin^{2}{\\left(w \\right)} \\cos^{2}{\\left(w \\right)}}{4} + \\frac{3 e^{2} x^{6} \\sin^{4}{\\left(i \\right)} \\cos^{4}{\\left(w \\right)}}{8} + \\frac{3 e^{2} x^{5} \\sin^{3}{\\left(i \\right)} \\sin^{3}{\\left(w \\right)}}{2} + \\frac{3 e^{2} x^{5} \\sin^{3}{\\left(i \\right)} \\sin{\\left(w \\right)} \\cos^{2}{\\left(w \\right)}}{2} - \\frac{3 e^{2} x^{4} \\sin^{4}{\\left(i \\right)} \\sin^{2}{\\left(w \\right)} \\cos^{2}{\\left(w \\right)}}{4} - \\frac{3 e^{2} x^{4} \\sin^{4}{\\left(i \\right)} \\cos^{4}{\\left(w \\right)}}{4} + \\frac{9 e^{2} x^{4} \\sin^{2}{\\left(i \\right)} \\sin^{2}{\\left(w \\right)}}{4} + \\frac{3 e^{2} x^{4} \\sin^{2}{\\left(i \\right)} \\cos^{2}{\\left(w \\right)}}{4} - \\frac{3 e^{2} x^{3} \\sin^{3}{\\left(i \\right)} \\sin{\\left(w \\right)} \\cos^{2}{\\left(w \\right)}}{2} + \\frac{3 e^{2} x^{3} \\sin{\\left(i \\right)} \\sin{\\left(w \\right)}}{2} + \\frac{3 e^{2} x^{2} \\sin^{4}{\\left(i \\right)} \\cos^{4}{\\left(w \\right)}}{8} - \\frac{3 e^{2} x^{2} \\sin^{2}{\\left(i \\right)} \\cos^{2}{\\left(w \\right)}}{4} + \\frac{3 e^{2} x^{2}}{8} - e lhs x^{3} \\sin^{2}{\\left(i \\right)} \\sin^{2}{\\left(w \\right)} + e lhs x^{3} \\sin^{2}{\\left(i \\right)} \\cos^{2}{\\left(w \\right)} - 2 e lhs x^{2} \\sin{\\left(i \\right)} \\sin{\\left(w \\right)} - e lhs x \\sin^{2}{\\left(i \\right)} \\cos^{2}{\\left(w \\right)} - e lhs x + \\frac{e x^{5} \\sin^{4}{\\left(i \\right)} \\sin^{4}{\\left(w \\right)}}{4} + \\frac{e x^{5} \\sin^{4}{\\left(i \\right)} \\sin^{2}{\\left(w \\right)} \\cos^{2}{\\left(w \\right)}}{2} + \\frac{e x^{5} \\sin^{4}{\\left(i \\right)} \\cos^{4}{\\left(w \\right)}}{4} + e x^{4} \\sin^{3}{\\left(i \\right)} \\sin^{3}{\\left(w \\right)} + e x^{4} \\sin^{3}{\\left(i \\right)} \\sin{\\left(w \\right)} \\cos^{2}{\\left(w \\right)} - \\frac{e x^{3} \\sin^{4}{\\left(i \\right)} \\sin^{2}{\\left(w \\right)} \\cos^{2}{\\left(w \\right)}}{2} - \\frac{e x^{3} \\sin^{4}{\\left(i \\right)} \\cos^{4}{\\left(w \\right)}}{2} + \\frac{3 e x^{3} \\sin^{2}{\\left(i \\right)} \\sin^{2}{\\left(w \\right)}}{2} + \\frac{e x^{3} \\sin^{2}{\\left(i \\right)} \\cos^{2}{\\left(w \\right)}}{2} - e x^{2} \\sin^{3}{\\left(i \\right)} \\sin{\\left(w \\right)} \\cos^{2}{\\left(w \\right)} + e x^{2} \\sin{\\left(i \\right)} \\sin{\\left(w \\right)} + \\frac{e x \\sin^{4}{\\left(i \\right)} \\cos^{4}{\\left(w \\right)}}{4} - \\frac{e x \\sin^{2}{\\left(i \\right)} \\cos^{2}{\\left(w \\right)}}{2} + \\frac{e x}{4} + lhs^{2} - \\frac{lhs x^{2} \\sin^{2}{\\left(i \\right)} \\sin^{2}{\\left(w \\right)}}{2} + \\frac{lhs x^{2} \\sin^{2}{\\left(i \\right)} \\cos^{2}{\\left(w \\right)}}{2} - lhs x \\sin{\\left(i \\right)} \\sin{\\left(w \\right)} - \\frac{lhs \\sin^{2}{\\left(i \\right)} \\cos^{2}{\\left(w \\right)}}{2} - \\frac{lhs}{2} + \\frac{x^{4} \\sin^{4}{\\left(i \\right)} \\sin^{4}{\\left(w \\right)}}{16} + \\frac{x^{4} \\sin^{4}{\\left(i \\right)} \\sin^{2}{\\left(w \\right)} \\cos^{2}{\\left(w \\right)}}{8} + \\frac{x^{4} \\sin^{4}{\\left(i \\right)} \\cos^{4}{\\left(w \\right)}}{16} + \\frac{x^{3} \\sin^{3}{\\left(i \\right)} \\sin^{3}{\\left(w \\right)}}{4} + \\frac{x^{3} \\sin^{3}{\\left(i \\right)} \\sin{\\left(w \\right)} \\cos^{2}{\\left(w \\right)}}{4} - \\frac{x^{2} \\sin^{4}{\\left(i \\right)} \\sin^{2}{\\left(w \\right)} \\cos^{2}{\\left(w \\right)}}{8} - \\frac{x^{2} \\sin^{4}{\\left(i \\right)} \\cos^{4}{\\left(w \\right)}}{8} + \\frac{3 x^{2} \\sin^{2}{\\left(i \\right)} \\sin^{2}{\\left(w \\right)}}{8} + \\frac{x^{2} \\sin^{2}{\\left(i \\right)} \\cos^{2}{\\left(w \\right)}}{8} - \\frac{x \\sin^{3}{\\left(i \\right)} \\sin{\\left(w \\right)} \\cos^{2}{\\left(w \\right)}}{4} + \\frac{x \\sin{\\left(i \\right)} \\sin{\\left(w \\right)}}{4} + \\frac{\\sin^{4}{\\left(i \\right)} \\cos^{4}{\\left(w \\right)}}{16} - \\frac{\\sin^{2}{\\left(i \\right)} \\cos^{2}{\\left(w \\right)}}{8} + \\frac{1}{16}$"
      ],
      "text/plain": [
       "e**4*x**8*sin(i)**4*sin(w)**4/16 + e**4*x**8*sin(i)**4*sin(w)**2*cos(w)**2/8 + e**4*x**8*sin(i)**4*cos(w)**4/16 + e**4*x**7*sin(i)**3*sin(w)**3/4 + e**4*x**7*sin(i)**3*sin(w)*cos(w)**2/4 - e**4*x**6*sin(i)**4*sin(w)**2*cos(w)**2/8 - e**4*x**6*sin(i)**4*cos(w)**4/8 + 3*e**4*x**6*sin(i)**2*sin(w)**2/8 + e**4*x**6*sin(i)**2*cos(w)**2/8 - e**4*x**5*sin(i)**3*sin(w)*cos(w)**2/4 + e**4*x**5*sin(i)*sin(w)/4 + e**4*x**4*sin(i)**4*cos(w)**4/16 - e**4*x**4*sin(i)**2*cos(w)**2/8 + e**4*x**4/16 + e**3*x**7*sin(i)**4*sin(w)**4/4 + e**3*x**7*sin(i)**4*sin(w)**2*cos(w)**2/2 + e**3*x**7*sin(i)**4*cos(w)**4/4 + e**3*x**6*sin(i)**3*sin(w)**3 + e**3*x**6*sin(i)**3*sin(w)*cos(w)**2 - e**3*x**5*sin(i)**4*sin(w)**2*cos(w)**2/2 - e**3*x**5*sin(i)**4*cos(w)**4/2 + 3*e**3*x**5*sin(i)**2*sin(w)**2/2 + e**3*x**5*sin(i)**2*cos(w)**2/2 - e**3*x**4*sin(i)**3*sin(w)*cos(w)**2 + e**3*x**4*sin(i)*sin(w) + e**3*x**3*sin(i)**4*cos(w)**4/4 - e**3*x**3*sin(i)**2*cos(w)**2/2 + e**3*x**3/4 - e**2*lhs*x**4*sin(i)**2*sin(w)**2/2 + e**2*lhs*x**4*sin(i)**2*cos(w)**2/2 - e**2*lhs*x**3*sin(i)*sin(w) - e**2*lhs*x**2*sin(i)**2*cos(w)**2/2 - e**2*lhs*x**2/2 + 3*e**2*x**6*sin(i)**4*sin(w)**4/8 + 3*e**2*x**6*sin(i)**4*sin(w)**2*cos(w)**2/4 + 3*e**2*x**6*sin(i)**4*cos(w)**4/8 + 3*e**2*x**5*sin(i)**3*sin(w)**3/2 + 3*e**2*x**5*sin(i)**3*sin(w)*cos(w)**2/2 - 3*e**2*x**4*sin(i)**4*sin(w)**2*cos(w)**2/4 - 3*e**2*x**4*sin(i)**4*cos(w)**4/4 + 9*e**2*x**4*sin(i)**2*sin(w)**2/4 + 3*e**2*x**4*sin(i)**2*cos(w)**2/4 - 3*e**2*x**3*sin(i)**3*sin(w)*cos(w)**2/2 + 3*e**2*x**3*sin(i)*sin(w)/2 + 3*e**2*x**2*sin(i)**4*cos(w)**4/8 - 3*e**2*x**2*sin(i)**2*cos(w)**2/4 + 3*e**2*x**2/8 - e*lhs*x**3*sin(i)**2*sin(w)**2 + e*lhs*x**3*sin(i)**2*cos(w)**2 - 2*e*lhs*x**2*sin(i)*sin(w) - e*lhs*x*sin(i)**2*cos(w)**2 - e*lhs*x + e*x**5*sin(i)**4*sin(w)**4/4 + e*x**5*sin(i)**4*sin(w)**2*cos(w)**2/2 + e*x**5*sin(i)**4*cos(w)**4/4 + e*x**4*sin(i)**3*sin(w)**3 + e*x**4*sin(i)**3*sin(w)*cos(w)**2 - e*x**3*sin(i)**4*sin(w)**2*cos(w)**2/2 - e*x**3*sin(i)**4*cos(w)**4/2 + 3*e*x**3*sin(i)**2*sin(w)**2/2 + e*x**3*sin(i)**2*cos(w)**2/2 - e*x**2*sin(i)**3*sin(w)*cos(w)**2 + e*x**2*sin(i)*sin(w) + e*x*sin(i)**4*cos(w)**4/4 - e*x*sin(i)**2*cos(w)**2/2 + e*x/4 + lhs**2 - lhs*x**2*sin(i)**2*sin(w)**2/2 + lhs*x**2*sin(i)**2*cos(w)**2/2 - lhs*x*sin(i)*sin(w) - lhs*sin(i)**2*cos(w)**2/2 - lhs/2 + x**4*sin(i)**4*sin(w)**4/16 + x**4*sin(i)**4*sin(w)**2*cos(w)**2/8 + x**4*sin(i)**4*cos(w)**4/16 + x**3*sin(i)**3*sin(w)**3/4 + x**3*sin(i)**3*sin(w)*cos(w)**2/4 - x**2*sin(i)**4*sin(w)**2*cos(w)**2/8 - x**2*sin(i)**4*cos(w)**4/8 + 3*x**2*sin(i)**2*sin(w)**2/8 + x**2*sin(i)**2*cos(w)**2/8 - x*sin(i)**3*sin(w)*cos(w)**2/4 + x*sin(i)*sin(w)/4 + sin(i)**4*cos(w)**4/16 - sin(i)**2*cos(w)**2/8 + 1/16"
      ]
     },
     "execution_count": 102,
     "metadata": {},
     "output_type": "execute_result"
    }
   ],
   "source": [
    "fullEqnX"
   ]
  },
  {
   "cell_type": "code",
   "execution_count": 112,
   "metadata": {},
   "outputs": [
    {
     "data": {
      "text/plain": [
       "[e**4*sin(i)**4*sin(w)**4/16 + e**4*sin(i)**4*sin(w)**2*cos(w)**2/8 + e**4*sin(i)**4*cos(w)**4/16,\n",
       " e**4*sin(i)**3*sin(w)**3/4 + e**4*sin(i)**3*sin(w)*cos(w)**2/4 + e**3*sin(i)**4*sin(w)**4/4 + e**3*sin(i)**4*sin(w)**2*cos(w)**2/2 + e**3*sin(i)**4*cos(w)**4/4,\n",
       " -e**4*sin(i)**4*sin(w)**2*cos(w)**2/8 - e**4*sin(i)**4*cos(w)**4/8 + 3*e**4*sin(i)**2*sin(w)**2/8 + e**4*sin(i)**2*cos(w)**2/8 + e**3*sin(i)**3*sin(w)**3 + e**3*sin(i)**3*sin(w)*cos(w)**2 + 3*e**2*sin(i)**4*sin(w)**4/8 + 3*e**2*sin(i)**4*sin(w)**2*cos(w)**2/4 + 3*e**2*sin(i)**4*cos(w)**4/8,\n",
       " -e**4*sin(i)**3*sin(w)*cos(w)**2/4 + e**4*sin(i)*sin(w)/4 - e**3*sin(i)**4*sin(w)**2*cos(w)**2/2 - e**3*sin(i)**4*cos(w)**4/2 + 3*e**3*sin(i)**2*sin(w)**2/2 + e**3*sin(i)**2*cos(w)**2/2 + 3*e**2*sin(i)**3*sin(w)**3/2 + 3*e**2*sin(i)**3*sin(w)*cos(w)**2/2 + e*sin(i)**4*sin(w)**4/4 + e*sin(i)**4*sin(w)**2*cos(w)**2/2 + e*sin(i)**4*cos(w)**4/4,\n",
       " e**4*sin(i)**4*cos(w)**4/16 - e**4*sin(i)**2*cos(w)**2/8 + e**4/16 - e**3*sin(i)**3*sin(w)*cos(w)**2 + e**3*sin(i)*sin(w) - e**2*lhs*sin(i)**2*sin(w)**2/2 + e**2*lhs*sin(i)**2*cos(w)**2/2 - 3*e**2*sin(i)**4*sin(w)**2*cos(w)**2/4 - 3*e**2*sin(i)**4*cos(w)**4/4 + 9*e**2*sin(i)**2*sin(w)**2/4 + 3*e**2*sin(i)**2*cos(w)**2/4 + e*sin(i)**3*sin(w)**3 + e*sin(i)**3*sin(w)*cos(w)**2 + sin(i)**4*sin(w)**4/16 + sin(i)**4*sin(w)**2*cos(w)**2/8 + sin(i)**4*cos(w)**4/16,\n",
       " e**3*sin(i)**4*cos(w)**4/4 - e**3*sin(i)**2*cos(w)**2/2 + e**3/4 - e**2*lhs*sin(i)*sin(w) - 3*e**2*sin(i)**3*sin(w)*cos(w)**2/2 + 3*e**2*sin(i)*sin(w)/2 - e*lhs*sin(i)**2*sin(w)**2 + e*lhs*sin(i)**2*cos(w)**2 - e*sin(i)**4*sin(w)**2*cos(w)**2/2 - e*sin(i)**4*cos(w)**4/2 + 3*e*sin(i)**2*sin(w)**2/2 + e*sin(i)**2*cos(w)**2/2 + sin(i)**3*sin(w)**3/4 + sin(i)**3*sin(w)*cos(w)**2/4,\n",
       " -e**2*lhs*sin(i)**2*cos(w)**2/2 - e**2*lhs/2 + 3*e**2*sin(i)**4*cos(w)**4/8 - 3*e**2*sin(i)**2*cos(w)**2/4 + 3*e**2/8 - 2*e*lhs*sin(i)*sin(w) - e*sin(i)**3*sin(w)*cos(w)**2 + e*sin(i)*sin(w) - lhs*sin(i)**2*sin(w)**2/2 + lhs*sin(i)**2*cos(w)**2/2 - sin(i)**4*sin(w)**2*cos(w)**2/8 - sin(i)**4*cos(w)**4/8 + 3*sin(i)**2*sin(w)**2/8 + sin(i)**2*cos(w)**2/8,\n",
       " -e*lhs*sin(i)**2*cos(w)**2 - e*lhs + e*sin(i)**4*cos(w)**4/4 - e*sin(i)**2*cos(w)**2/2 + e/4 - lhs*sin(i)*sin(w) - sin(i)**3*sin(w)*cos(w)**2/4 + sin(i)*sin(w)/4,\n",
       " lhs**2 - lhs*sin(i)**2*cos(w)**2/2 - lhs/2 + sin(i)**4*cos(w)**4/16 - sin(i)**2*cos(w)**2/8 + 1/16]"
      ]
     },
     "execution_count": 112,
     "metadata": {},
     "output_type": "execute_result"
    }
   ],
   "source": [
    "#These are the coefficients of cos(v)\n",
    "sp.Poly(fullEqnX,x).coeffs()"
   ]
  },
  {
   "cell_type": "markdown",
   "metadata": {},
   "source": [
    "# Derivative of Quasi Lambert Function"
   ]
  },
  {
   "cell_type": "code",
   "execution_count": 113,
   "metadata": {},
   "outputs": [],
   "source": [
    "dFullEqnX = sp.diff(fullEqnX,x)"
   ]
  },
  {
   "cell_type": "code",
   "execution_count": 116,
   "metadata": {},
   "outputs": [
    {
     "data": {
      "text/plain": [
       "[e**4*sin(i)**4*sin(w)**4/2 + e**4*sin(i)**4*sin(w)**2*cos(w)**2 + e**4*sin(i)**4*cos(w)**4/2,\n",
       " 7*e**4*sin(i)**3*sin(w)**3/4 + 7*e**4*sin(i)**3*sin(w)*cos(w)**2/4 + 7*e**3*sin(i)**4*sin(w)**4/4 + 7*e**3*sin(i)**4*sin(w)**2*cos(w)**2/2 + 7*e**3*sin(i)**4*cos(w)**4/4,\n",
       " -3*e**4*sin(i)**4*sin(w)**2*cos(w)**2/4 - 3*e**4*sin(i)**4*cos(w)**4/4 + 9*e**4*sin(i)**2*sin(w)**2/4 + 3*e**4*sin(i)**2*cos(w)**2/4 + 6*e**3*sin(i)**3*sin(w)**3 + 6*e**3*sin(i)**3*sin(w)*cos(w)**2 + 9*e**2*sin(i)**4*sin(w)**4/4 + 9*e**2*sin(i)**4*sin(w)**2*cos(w)**2/2 + 9*e**2*sin(i)**4*cos(w)**4/4,\n",
       " -5*e**4*sin(i)**3*sin(w)*cos(w)**2/4 + 5*e**4*sin(i)*sin(w)/4 - 5*e**3*sin(i)**4*sin(w)**2*cos(w)**2/2 - 5*e**3*sin(i)**4*cos(w)**4/2 + 15*e**3*sin(i)**2*sin(w)**2/2 + 5*e**3*sin(i)**2*cos(w)**2/2 + 15*e**2*sin(i)**3*sin(w)**3/2 + 15*e**2*sin(i)**3*sin(w)*cos(w)**2/2 + 5*e*sin(i)**4*sin(w)**4/4 + 5*e*sin(i)**4*sin(w)**2*cos(w)**2/2 + 5*e*sin(i)**4*cos(w)**4/4,\n",
       " e**4*sin(i)**4*cos(w)**4/4 - e**4*sin(i)**2*cos(w)**2/2 + e**4/4 - 4*e**3*sin(i)**3*sin(w)*cos(w)**2 + 4*e**3*sin(i)*sin(w) - 2*e**2*lhs*sin(i)**2*sin(w)**2 + 2*e**2*lhs*sin(i)**2*cos(w)**2 - 3*e**2*sin(i)**4*sin(w)**2*cos(w)**2 - 3*e**2*sin(i)**4*cos(w)**4 + 9*e**2*sin(i)**2*sin(w)**2 + 3*e**2*sin(i)**2*cos(w)**2 + 4*e*sin(i)**3*sin(w)**3 + 4*e*sin(i)**3*sin(w)*cos(w)**2 + sin(i)**4*sin(w)**4/4 + sin(i)**4*sin(w)**2*cos(w)**2/2 + sin(i)**4*cos(w)**4/4,\n",
       " 3*e**3*sin(i)**4*cos(w)**4/4 - 3*e**3*sin(i)**2*cos(w)**2/2 + 3*e**3/4 - 3*e**2*lhs*sin(i)*sin(w) - 9*e**2*sin(i)**3*sin(w)*cos(w)**2/2 + 9*e**2*sin(i)*sin(w)/2 - 3*e*lhs*sin(i)**2*sin(w)**2 + 3*e*lhs*sin(i)**2*cos(w)**2 - 3*e*sin(i)**4*sin(w)**2*cos(w)**2/2 - 3*e*sin(i)**4*cos(w)**4/2 + 9*e*sin(i)**2*sin(w)**2/2 + 3*e*sin(i)**2*cos(w)**2/2 + 3*sin(i)**3*sin(w)**3/4 + 3*sin(i)**3*sin(w)*cos(w)**2/4,\n",
       " -e**2*lhs*sin(i)**2*cos(w)**2 - e**2*lhs + 3*e**2*sin(i)**4*cos(w)**4/4 - 3*e**2*sin(i)**2*cos(w)**2/2 + 3*e**2/4 - 4*e*lhs*sin(i)*sin(w) - 2*e*sin(i)**3*sin(w)*cos(w)**2 + 2*e*sin(i)*sin(w) - lhs*sin(i)**2*sin(w)**2 + lhs*sin(i)**2*cos(w)**2 - sin(i)**4*sin(w)**2*cos(w)**2/4 - sin(i)**4*cos(w)**4/4 + 3*sin(i)**2*sin(w)**2/4 + sin(i)**2*cos(w)**2/4,\n",
       " -e*lhs*sin(i)**2*cos(w)**2 - e*lhs + e*sin(i)**4*cos(w)**4/4 - e*sin(i)**2*cos(w)**2/2 + e/4 - lhs*sin(i)*sin(w) - sin(i)**3*sin(w)*cos(w)**2/4 + sin(i)*sin(w)/4]"
      ]
     },
     "execution_count": 116,
     "metadata": {},
     "output_type": "execute_result"
    }
   ],
   "source": [
    "#These are the coefficients of cos(v)\n",
    "sp.Poly(dFullEqnX,x).coeffs()"
   ]
  },
  {
   "cell_type": "markdown",
   "metadata": {},
   "source": [
    "# Derivative of Quasi Lambert Function Attempt 2"
   ]
  },
  {
   "cell_type": "code",
   "execution_count": null,
   "metadata": {},
   "outputs": [],
   "source": [
    "betaFunc = sp.acos(sp.sin(inc)*sp.sin(v+w))\n",
    "halfAngle = sp.sqrt(1/2+sp.cos(beta)/2) #only the positive one\n",
    "sinv = sp.sqrt(1-sp.cos(v)**2)\n",
    "phiQL = sp.cos(beta/2)**4 #quasi-lambert phase function\n",
    "phiQL = phiQL.subs(sp.cos(beta/2),halfAngle)\n",
    "phiQL = phiQL.subs(beta,betaFunc).subs(sp.sin(v+w),sinvpw)\n",
    "rhs = phiQL*(e*sp.cos(v)+1)**2\n",
    "lhs = sp.symbols('lhs',real=True)"
   ]
  },
  {
   "cell_type": "code",
   "execution_count": null,
   "metadata": {},
   "outputs": [],
   "source": []
  },
  {
   "cell_type": "code",
   "execution_count": null,
   "metadata": {},
   "outputs": [],
   "source": []
  },
  {
   "cell_type": "code",
   "execution_count": null,
   "metadata": {},
   "outputs": [],
   "source": []
  },
  {
   "cell_type": "code",
   "execution_count": 29,
   "metadata": {},
   "outputs": [],
   "source": [
    "# Try 5"
   ]
  },
  {
   "cell_type": "code",
   "execution_count": 30,
   "metadata": {},
   "outputs": [],
   "source": [
    "eqn = A*sp.cos(v)**4 + B*sp.sin(v)*sp.cos(v)**3 + C*sp.cos(v)**3 + D*sp.sin(v)*sp.cos(v)**2 + E*sp.cos(v)**2 + F*sp.sin(v)*sp.cos(v) + G*sp.sin(v) + H*sp.cos(v) + I"
   ]
  },
  {
   "cell_type": "code",
   "execution_count": 31,
   "metadata": {},
   "outputs": [
    {
     "data": {
      "text/latex": [
       "$\\displaystyle A \\cos^{4}{\\left(v \\right)} + B \\sin{\\left(v \\right)} \\cos^{3}{\\left(v \\right)} + C \\cos^{3}{\\left(v \\right)} + D \\sin{\\left(v \\right)} \\cos^{2}{\\left(v \\right)} + E \\cos^{2}{\\left(v \\right)} + F \\sin{\\left(v \\right)} \\cos{\\left(v \\right)} + G \\sin{\\left(v \\right)} + H \\cos{\\left(v \\right)} + I$"
      ],
      "text/plain": [
       "A*cos(v)**4 + B*sin(v)*cos(v)**3 + C*cos(v)**3 + D*sin(v)*cos(v)**2 + E*cos(v)**2 + F*sin(v)*cos(v) + G*sin(v) + H*cos(v) + I"
      ]
     },
     "execution_count": 31,
     "metadata": {},
     "output_type": "execute_result"
    }
   ],
   "source": [
    "eqn"
   ]
  },
  {
   "cell_type": "code",
   "execution_count": 32,
   "metadata": {},
   "outputs": [
    {
     "data": {
      "text/plain": [
       "[]"
      ]
     },
     "execution_count": 32,
     "metadata": {},
     "output_type": "execute_result"
    }
   ],
   "source": [
    "sp.solve(eqn,v)"
   ]
  },
  {
   "cell_type": "code",
   "execution_count": 63,
   "metadata": {},
   "outputs": [],
   "source": [
    "a, p, Rp, dmag = sp.symbols('a p R_p \\Delta{mag}',real=True)\n",
    "lhs = a**2*(1+e**2)**2/(p*Rp)*10**(-0.4*dmag)"
   ]
  },
  {
   "cell_type": "code",
   "execution_count": 64,
   "metadata": {},
   "outputs": [
    {
     "data": {
      "text/latex": [
       "$\\displaystyle \\frac{10^{- 0.4 \\Delta{mag}} a^{2} \\left(e^{2} + 1\\right)^{2}}{R_{p} p}$"
      ],
      "text/plain": [
       "10**(-0.4*\\Delta{mag})*a**2*(e**2 + 1)**2/(R_p*p)"
      ]
     },
     "execution_count": 64,
     "metadata": {},
     "output_type": "execute_result"
    }
   ],
   "source": [
    "lhs"
   ]
  },
  {
   "cell_type": "code",
   "execution_count": 65,
   "metadata": {},
   "outputs": [
    {
     "name": "stdout",
     "output_type": "stream",
     "text": [
      "10**(-0.4*\\Delta{mag})*a**2*(e**2 + 1)**2/(R_p*p)\n"
     ]
    }
   ],
   "source": [
    "print(lhs)"
   ]
  },
  {
   "cell_type": "markdown",
   "metadata": {},
   "source": [
    "# Redo Equations with cos(beta/2)^2 phase function"
   ]
  },
  {
   "cell_type": "code",
   "execution_count": 101,
   "metadata": {},
   "outputs": [],
   "source": [
    "phiFunc2 = sp.cos(beta/2)**2\n",
    "phiFunc2 = phiFunc2.subs(sp.cos(beta/2)**2.,(1+sp.cos(beta))/2)\n",
    "phiFunc2 = phiFunc2.subs(beta,betaFunc) #replace in phase function\n",
    "FFunc = phiFunc2*(e*sp.cos(v)+1)**2 - F # is equal to 0\n"
   ]
  },
  {
   "cell_type": "code",
   "execution_count": 102,
   "metadata": {},
   "outputs": [
    {
     "data": {
      "text/latex": [
       "$\\displaystyle - F + \\left(e \\cos{\\left(v \\right)} + 1\\right)^{2} \\left(\\frac{\\sin{\\left(i \\right)} \\sin{\\left(v + w \\right)}}{2} + \\frac{1}{2}\\right)$"
      ],
      "text/plain": [
       "-F + (e*cos(v) + 1)**2*(sin(i)*sin(v + w)/2 + 1/2)"
      ]
     },
     "execution_count": 102,
     "metadata": {},
     "output_type": "execute_result"
    }
   ],
   "source": [
    "FFunc"
   ]
  },
  {
   "cell_type": "code",
   "execution_count": 103,
   "metadata": {},
   "outputs": [
    {
     "data": {
      "text/latex": [
       "$\\displaystyle - F + \\left(e \\cos{\\left(v \\right)} + 1\\right)^{2} \\left(\\frac{\\left(\\sin{\\left(v \\right)} \\cos{\\left(w \\right)} + \\sin{\\left(w \\right)} \\cos{\\left(v \\right)}\\right) \\sin{\\left(i \\right)}}{2} + \\frac{1}{2}\\right)$"
      ],
      "text/plain": [
       "-F + (e*cos(v) + 1)**2*((sin(v)*cos(w) + sin(w)*cos(v))*sin(i)/2 + 1/2)"
      ]
     },
     "execution_count": 103,
     "metadata": {},
     "output_type": "execute_result"
    }
   ],
   "source": [
    "FFunc = FFunc.subs(sp.sin(v+w),sinvpw)\n",
    "FFunc"
   ]
  },
  {
   "cell_type": "code",
   "execution_count": 104,
   "metadata": {},
   "outputs": [
    {
     "data": {
      "text/latex": [
       "$\\displaystyle - F + \\frac{e^{2} \\sin{\\left(i \\right)} \\sin{\\left(v \\right)} \\cos^{2}{\\left(v \\right)} \\cos{\\left(w \\right)}}{2} + \\frac{e^{2} \\sin{\\left(i \\right)} \\sin{\\left(w \\right)} \\cos^{3}{\\left(v \\right)}}{2} + \\frac{e^{2} \\cos^{2}{\\left(v \\right)}}{2} + e \\sin{\\left(i \\right)} \\sin{\\left(v \\right)} \\cos{\\left(v \\right)} \\cos{\\left(w \\right)} + e \\sin{\\left(i \\right)} \\sin{\\left(w \\right)} \\cos^{2}{\\left(v \\right)} + e \\cos{\\left(v \\right)} + \\frac{\\sin{\\left(i \\right)} \\sin{\\left(v \\right)} \\cos{\\left(w \\right)}}{2} + \\frac{\\sin{\\left(i \\right)} \\sin{\\left(w \\right)} \\cos{\\left(v \\right)}}{2} + \\frac{1}{2}$"
      ],
      "text/plain": [
       "-F + e**2*sin(i)*sin(v)*cos(v)**2*cos(w)/2 + e**2*sin(i)*sin(w)*cos(v)**3/2 + e**2*cos(v)**2/2 + e*sin(i)*sin(v)*cos(v)*cos(w) + e*sin(i)*sin(w)*cos(v)**2 + e*cos(v) + sin(i)*sin(v)*cos(w)/2 + sin(i)*sin(w)*cos(v)/2 + 1/2"
      ]
     },
     "execution_count": 104,
     "metadata": {},
     "output_type": "execute_result"
    }
   ],
   "source": [
    "sp.expand(FFunc)"
   ]
  },
  {
   "cell_type": "code",
   "execution_count": 105,
   "metadata": {},
   "outputs": [],
   "source": [
    "FFunc = sp.expand(FFunc.subs(sp.sin(v),sp.sqrt(1-sp.cos(v)**2)))"
   ]
  },
  {
   "cell_type": "code",
   "execution_count": 106,
   "metadata": {},
   "outputs": [],
   "source": [
    "FFunc = FFunc.subs(sp.cos(v),x)"
   ]
  },
  {
   "cell_type": "code",
   "execution_count": 107,
   "metadata": {},
   "outputs": [],
   "source": [
    "FFuncPoly = sp.Poly(FFunc,sp.sqrt(1-x**2))\n",
    "fullFFunc = sp.expand(FFuncPoly.coeffs()[1]**2 - (1-x**2)*FFuncPoly.coeffs()[0]**2) # move sqrt(1-x**2) and [0]"
   ]
  },
  {
   "cell_type": "code",
   "execution_count": 108,
   "metadata": {},
   "outputs": [
    {
     "data": {
      "text/latex": [
       "$\\displaystyle F^{2} - F e^{2} x^{3} \\sin{\\left(i \\right)} \\sin{\\left(w \\right)} - F e^{2} x^{2} - 2 F e x^{2} \\sin{\\left(i \\right)} \\sin{\\left(w \\right)} - 2 F e x - F x \\sin{\\left(i \\right)} \\sin{\\left(w \\right)} - F + \\frac{e^{4} x^{6} \\sin^{2}{\\left(i \\right)} \\sin^{2}{\\left(w \\right)}}{4} + \\frac{e^{4} x^{6} \\sin^{2}{\\left(i \\right)} \\cos^{2}{\\left(w \\right)}}{4} + \\frac{e^{4} x^{5} \\sin{\\left(i \\right)} \\sin{\\left(w \\right)}}{2} - \\frac{e^{4} x^{4} \\sin^{2}{\\left(i \\right)} \\cos^{2}{\\left(w \\right)}}{4} + \\frac{e^{4} x^{4}}{4} + e^{3} x^{5} \\sin^{2}{\\left(i \\right)} \\sin^{2}{\\left(w \\right)} + e^{3} x^{5} \\sin^{2}{\\left(i \\right)} \\cos^{2}{\\left(w \\right)} + 2 e^{3} x^{4} \\sin{\\left(i \\right)} \\sin{\\left(w \\right)} - e^{3} x^{3} \\sin^{2}{\\left(i \\right)} \\cos^{2}{\\left(w \\right)} + e^{3} x^{3} + \\frac{3 e^{2} x^{4} \\sin^{2}{\\left(i \\right)} \\sin^{2}{\\left(w \\right)}}{2} + \\frac{3 e^{2} x^{4} \\sin^{2}{\\left(i \\right)} \\cos^{2}{\\left(w \\right)}}{2} + 3 e^{2} x^{3} \\sin{\\left(i \\right)} \\sin{\\left(w \\right)} - \\frac{3 e^{2} x^{2} \\sin^{2}{\\left(i \\right)} \\cos^{2}{\\left(w \\right)}}{2} + \\frac{3 e^{2} x^{2}}{2} + e x^{3} \\sin^{2}{\\left(i \\right)} \\sin^{2}{\\left(w \\right)} + e x^{3} \\sin^{2}{\\left(i \\right)} \\cos^{2}{\\left(w \\right)} + 2 e x^{2} \\sin{\\left(i \\right)} \\sin{\\left(w \\right)} - e x \\sin^{2}{\\left(i \\right)} \\cos^{2}{\\left(w \\right)} + e x + \\frac{x^{2} \\sin^{2}{\\left(i \\right)} \\sin^{2}{\\left(w \\right)}}{4} + \\frac{x^{2} \\sin^{2}{\\left(i \\right)} \\cos^{2}{\\left(w \\right)}}{4} + \\frac{x \\sin{\\left(i \\right)} \\sin{\\left(w \\right)}}{2} - \\frac{\\sin^{2}{\\left(i \\right)} \\cos^{2}{\\left(w \\right)}}{4} + \\frac{1}{4}$"
      ],
      "text/plain": [
       "F**2 - F*e**2*x**3*sin(i)*sin(w) - F*e**2*x**2 - 2*F*e*x**2*sin(i)*sin(w) - 2*F*e*x - F*x*sin(i)*sin(w) - F + e**4*x**6*sin(i)**2*sin(w)**2/4 + e**4*x**6*sin(i)**2*cos(w)**2/4 + e**4*x**5*sin(i)*sin(w)/2 - e**4*x**4*sin(i)**2*cos(w)**2/4 + e**4*x**4/4 + e**3*x**5*sin(i)**2*sin(w)**2 + e**3*x**5*sin(i)**2*cos(w)**2 + 2*e**3*x**4*sin(i)*sin(w) - e**3*x**3*sin(i)**2*cos(w)**2 + e**3*x**3 + 3*e**2*x**4*sin(i)**2*sin(w)**2/2 + 3*e**2*x**4*sin(i)**2*cos(w)**2/2 + 3*e**2*x**3*sin(i)*sin(w) - 3*e**2*x**2*sin(i)**2*cos(w)**2/2 + 3*e**2*x**2/2 + e*x**3*sin(i)**2*sin(w)**2 + e*x**3*sin(i)**2*cos(w)**2 + 2*e*x**2*sin(i)*sin(w) - e*x*sin(i)**2*cos(w)**2 + e*x + x**2*sin(i)**2*sin(w)**2/4 + x**2*sin(i)**2*cos(w)**2/4 + x*sin(i)*sin(w)/2 - sin(i)**2*cos(w)**2/4 + 1/4"
      ]
     },
     "execution_count": 108,
     "metadata": {},
     "output_type": "execute_result"
    }
   ],
   "source": [
    "fullFFunc"
   ]
  },
  {
   "cell_type": "code",
   "execution_count": null,
   "metadata": {},
   "outputs": [],
   "source": []
  },
  {
   "cell_type": "markdown",
   "metadata": {},
   "source": [
    "# Bhaskara Sin Function"
   ]
  },
  {
   "cell_type": "code",
   "execution_count": 181,
   "metadata": {},
   "outputs": [],
   "source": [
    "#0 to pi\n",
    "pi = sp.symbols('pi',real=True)\n",
    "sin0_pi = 16*x*(pi-x)/(5*pi**2-4*x*(pi-x))\n",
    "#pi to 2pi\n",
    "sinpi_2pi = -16*(x-pi)*(pi-(x-pi))/(5*pi**2 - 4*(x-pi)*(pi-(x-pi)))"
   ]
  },
  {
   "cell_type": "code",
   "execution_count": 182,
   "metadata": {},
   "outputs": [
    {
     "data": {
      "text/latex": [
       "$\\displaystyle \\frac{16 \\pi x}{5 \\pi^{2} - 4 \\pi x + 4 x^{2}} - \\frac{16 x^{2}}{5 \\pi^{2} - 4 \\pi x + 4 x^{2}}$"
      ],
      "text/plain": [
       "16*pi*x/(5*pi**2 - 4*pi*x + 4*x**2) - 16*x**2/(5*pi**2 - 4*pi*x + 4*x**2)"
      ]
     },
     "execution_count": 182,
     "metadata": {},
     "output_type": "execute_result"
    }
   ],
   "source": [
    "sp.expand(sin0_pi)"
   ]
  },
  {
   "cell_type": "code",
   "execution_count": 183,
   "metadata": {},
   "outputs": [
    {
     "data": {
      "text/latex": [
       "$\\displaystyle \\frac{32 \\pi^{2}}{13 \\pi^{2} - 12 \\pi x + 4 x^{2}} - \\frac{48 \\pi x}{13 \\pi^{2} - 12 \\pi x + 4 x^{2}} + \\frac{16 x^{2}}{13 \\pi^{2} - 12 \\pi x + 4 x^{2}}$"
      ],
      "text/plain": [
       "32*pi**2/(13*pi**2 - 12*pi*x + 4*x**2) - 48*pi*x/(13*pi**2 - 12*pi*x + 4*x**2) + 16*x**2/(13*pi**2 - 12*pi*x + 4*x**2)"
      ]
     },
     "execution_count": 183,
     "metadata": {},
     "output_type": "execute_result"
    }
   ],
   "source": [
    "sp.expand(sinpi_2pi)"
   ]
  },
  {
   "cell_type": "markdown",
   "metadata": {},
   "source": [
    "# Bhaskara cos Function"
   ]
  },
  {
   "cell_type": "code",
   "execution_count": 184,
   "metadata": {},
   "outputs": [],
   "source": [
    "#0 to pi/2\n",
    "cos0_piby2 = (pi**2-4*x**2)/(pi**2+x**2)\n",
    "#pi/2 to 3pi/2\n",
    "cospiby2_3piby2 = -(pi**2-4*(x-pi)**2)/(pi**2+(x-pi)**2)\n",
    "#3pi/2 to 2pi\n",
    "cos3piby2_2pi = (pi**2-4*(x-2*pi)**2)/(pi**2+(x-2*pi)**2)"
   ]
  },
  {
   "cell_type": "markdown",
   "metadata": {},
   "source": [
    "# Quasi Lambert Phase Function w/ Bhaskara"
   ]
  },
  {
   "cell_type": "code",
   "execution_count": 207,
   "metadata": {},
   "outputs": [],
   "source": [
    "betaFunc = sp.acos(sp.sin(inc)*sp.sin(v+w))\n",
    "halfAngle = sp.sqrt(1/2+sp.cos(beta)/2) #only the positive one\n",
    "sinv = sp.sqrt(1-sp.cos(v)**2)\n",
    "#phiQL = sp.cos(beta/2)**4 #quasi-lambert phase function\n",
    "phiQL = sp.cos(beta/2)**2 #quasi-lambert phase function\n",
    "phiQL = phiQL.subs(sp.cos(beta/2),halfAngle)\n",
    "phiQL = phiQL.subs(beta,betaFunc).subs(sp.sin(v+w),sinvpw)\n",
    "rhs = phiQL*(e*sp.cos(v)+1)**2\n",
    "lhs = sp.symbols('lhs',real=True)"
   ]
  },
  {
   "cell_type": "code",
   "execution_count": 208,
   "metadata": {},
   "outputs": [],
   "source": [
    "fullEqnBhaskara = sp.expand(rhs)-lhs"
   ]
  },
  {
   "cell_type": "code",
   "execution_count": 211,
   "metadata": {},
   "outputs": [],
   "source": [
    "fullEqnBhaskara0_piby2 = fullEqnBhaskara.subs(sp.sin(v),sin0_pi).subs(sp.cos(v),cos0_piby2)\n",
    "den1_fullEqnBhaskara0_piby2 = (pi**2+x**2)**3 #extracting part of the denominator\n",
    "den2_fullEqnBhaskara0_piby2 = 5*pi**2 - 4*x*(pi-x) #extracting part of the denominator\n",
    "\n",
    "fullEqnBhaskarapiby2_pi = fullEqnBhaskara.subs(sp.sin(v),sin0_pi).subs(sp.cos(v),cospiby2_3piby2)\n",
    "fullEqnBhaskarapi_3piby2 = fullEqnBhaskara.subs(sp.sin(v),sinpi_2pi).subs(sp.cos(v),cospiby2_3piby2)\n",
    "fullEqnBhaskara3piby2_2pi = fullEqnBhaskara.subs(sp.sin(v),sinpi_2pi).subs(sp.cos(v),cos3piby2_2pi)"
   ]
  },
  {
   "cell_type": "code",
   "execution_count": 210,
   "metadata": {},
   "outputs": [
    {
     "data": {
      "text/latex": [
       "$\\displaystyle \\frac{8 e^{2} x \\left(\\pi - x\\right) \\left(\\pi^{2} - 4 x^{2}\\right)^{2} \\sin{\\left(i \\right)} \\cos{\\left(w \\right)}}{\\left(\\pi^{2} + x^{2}\\right)^{2} \\left(5 \\pi^{2} - 4 x \\left(\\pi - x\\right)\\right)} + \\frac{e^{2} \\left(\\pi^{2} - 4 x^{2}\\right)^{3} \\sin{\\left(i \\right)} \\sin{\\left(w \\right)}}{2 \\left(\\pi^{2} + x^{2}\\right)^{3}} + \\frac{e^{2} \\left(\\pi^{2} - 4 x^{2}\\right)^{2}}{2 \\left(\\pi^{2} + x^{2}\\right)^{2}} + \\frac{16 e x \\left(\\pi - x\\right) \\left(\\pi^{2} - 4 x^{2}\\right) \\sin{\\left(i \\right)} \\cos{\\left(w \\right)}}{\\left(\\pi^{2} + x^{2}\\right) \\left(5 \\pi^{2} - 4 x \\left(\\pi - x\\right)\\right)} + \\frac{e \\left(\\pi^{2} - 4 x^{2}\\right)^{2} \\sin{\\left(i \\right)} \\sin{\\left(w \\right)}}{\\left(\\pi^{2} + x^{2}\\right)^{2}} + \\frac{e \\left(\\pi^{2} - 4 x^{2}\\right)}{\\pi^{2} + x^{2}} - lhs + \\frac{8 x \\left(\\pi - x\\right) \\sin{\\left(i \\right)} \\cos{\\left(w \\right)}}{5 \\pi^{2} - 4 x \\left(\\pi - x\\right)} + \\frac{\\left(\\pi^{2} - 4 x^{2}\\right) \\sin{\\left(i \\right)} \\sin{\\left(w \\right)}}{2 \\left(\\pi^{2} + x^{2}\\right)} + \\frac{1}{2}$"
      ],
      "text/plain": [
       "8*e**2*x*(pi - x)*(pi**2 - 4*x**2)**2*sin(i)*cos(w)/((pi**2 + x**2)**2*(5*pi**2 - 4*x*(pi - x))) + e**2*(pi**2 - 4*x**2)**3*sin(i)*sin(w)/(2*(pi**2 + x**2)**3) + e**2*(pi**2 - 4*x**2)**2/(2*(pi**2 + x**2)**2) + 16*e*x*(pi - x)*(pi**2 - 4*x**2)*sin(i)*cos(w)/((pi**2 + x**2)*(5*pi**2 - 4*x*(pi - x))) + e*(pi**2 - 4*x**2)**2*sin(i)*sin(w)/(pi**2 + x**2)**2 + e*(pi**2 - 4*x**2)/(pi**2 + x**2) - lhs + 8*x*(pi - x)*sin(i)*cos(w)/(5*pi**2 - 4*x*(pi - x)) + (pi**2 - 4*x**2)*sin(i)*sin(w)/(2*(pi**2 + x**2)) + 1/2"
      ]
     },
     "execution_count": 210,
     "metadata": {},
     "output_type": "execute_result"
    }
   ],
   "source": [
    "fullEqnBhaskara0_piby2"
   ]
  },
  {
   "cell_type": "code",
   "execution_count": 216,
   "metadata": {},
   "outputs": [
    {
     "data": {
      "text/latex": [
       "$\\displaystyle \\frac{5 e^{2} \\pi^{8} \\sin{\\left(i \\right)} \\sin{\\left(w \\right)}}{2} + \\frac{5 e^{2} \\pi^{8}}{2} - 2 e^{2} \\pi^{7} x \\sin{\\left(i \\right)} \\sin{\\left(w \\right)} + 8 e^{2} \\pi^{7} x \\sin{\\left(i \\right)} \\cos{\\left(w \\right)} - 2 e^{2} \\pi^{7} x - 28 e^{2} \\pi^{6} x^{2} \\sin{\\left(i \\right)} \\sin{\\left(w \\right)} - 8 e^{2} \\pi^{6} x^{2} \\sin{\\left(i \\right)} \\cos{\\left(w \\right)} - \\frac{31 e^{2} \\pi^{6} x^{2}}{2} + 24 e^{2} \\pi^{5} x^{3} \\sin{\\left(i \\right)} \\sin{\\left(w \\right)} - 56 e^{2} \\pi^{5} x^{3} \\sin{\\left(i \\right)} \\cos{\\left(w \\right)} + 14 e^{2} \\pi^{5} x^{3} + 96 e^{2} \\pi^{4} x^{4} \\sin{\\left(i \\right)} \\sin{\\left(w \\right)} + 56 e^{2} \\pi^{4} x^{4} \\sin{\\left(i \\right)} \\cos{\\left(w \\right)} + 6 e^{2} \\pi^{4} x^{4} - 96 e^{2} \\pi^{3} x^{5} \\sin{\\left(i \\right)} \\sin{\\left(w \\right)} + 64 e^{2} \\pi^{3} x^{5} \\sin{\\left(i \\right)} \\cos{\\left(w \\right)} - 16 e^{2} \\pi^{3} x^{5} - 64 e^{2} \\pi^{2} x^{6} \\sin{\\left(i \\right)} \\sin{\\left(w \\right)} - 64 e^{2} \\pi^{2} x^{6} \\sin{\\left(i \\right)} \\cos{\\left(w \\right)} + 56 e^{2} \\pi^{2} x^{6} + 128 e^{2} \\pi x^{7} \\sin{\\left(i \\right)} \\sin{\\left(w \\right)} + 128 e^{2} \\pi x^{7} \\sin{\\left(i \\right)} \\cos{\\left(w \\right)} - 32 e^{2} \\pi x^{7} - 128 e^{2} x^{8} \\sin{\\left(i \\right)} \\sin{\\left(w \\right)} - 128 e^{2} x^{8} \\sin{\\left(i \\right)} \\cos{\\left(w \\right)} + 32 e^{2} x^{8} + 5 e \\pi^{8} \\sin{\\left(i \\right)} \\sin{\\left(w \\right)} + 5 e \\pi^{8} - 4 e \\pi^{7} x \\sin{\\left(i \\right)} \\sin{\\left(w \\right)} + 16 e \\pi^{7} x \\sin{\\left(i \\right)} \\cos{\\left(w \\right)} - 4 e \\pi^{7} x - 31 e \\pi^{6} x^{2} \\sin{\\left(i \\right)} \\sin{\\left(w \\right)} - 16 e \\pi^{6} x^{2} \\sin{\\left(i \\right)} \\cos{\\left(w \\right)} - 6 e \\pi^{6} x^{2} + 28 e \\pi^{5} x^{3} \\sin{\\left(i \\right)} \\sin{\\left(w \\right)} - 32 e \\pi^{5} x^{3} \\sin{\\left(i \\right)} \\cos{\\left(w \\right)} + 8 e \\pi^{5} x^{3} + 12 e \\pi^{4} x^{4} \\sin{\\left(i \\right)} \\sin{\\left(w \\right)} + 32 e \\pi^{4} x^{4} \\sin{\\left(i \\right)} \\cos{\\left(w \\right)} - 43 e \\pi^{4} x^{4} - 32 e \\pi^{3} x^{5} \\sin{\\left(i \\right)} \\sin{\\left(w \\right)} - 112 e \\pi^{3} x^{5} \\sin{\\left(i \\right)} \\cos{\\left(w \\right)} + 28 e \\pi^{3} x^{5} + 112 e \\pi^{2} x^{6} \\sin{\\left(i \\right)} \\sin{\\left(w \\right)} + 112 e \\pi^{2} x^{6} \\sin{\\left(i \\right)} \\cos{\\left(w \\right)} - 48 e \\pi^{2} x^{6} - 64 e \\pi x^{7} \\sin{\\left(i \\right)} \\sin{\\left(w \\right)} - 64 e \\pi x^{7} \\sin{\\left(i \\right)} \\cos{\\left(w \\right)} + 16 e \\pi x^{7} + 64 e x^{8} \\sin{\\left(i \\right)} \\sin{\\left(w \\right)} + 64 e x^{8} \\sin{\\left(i \\right)} \\cos{\\left(w \\right)} - 16 e x^{8} - 5 lhs \\pi^{8} + 4 lhs \\pi^{7} x - 19 lhs \\pi^{6} x^{2} + 12 lhs \\pi^{5} x^{3} - 27 lhs \\pi^{4} x^{4} + 12 lhs \\pi^{3} x^{5} - 17 lhs \\pi^{2} x^{6} + 4 lhs \\pi x^{7} - 4 lhs x^{8} + \\frac{5 \\pi^{8} \\sin{\\left(i \\right)} \\sin{\\left(w \\right)}}{2} + \\frac{5 \\pi^{8}}{2} - 2 \\pi^{7} x \\sin{\\left(i \\right)} \\sin{\\left(w \\right)} + 8 \\pi^{7} x \\sin{\\left(i \\right)} \\cos{\\left(w \\right)} - 2 \\pi^{7} x - 3 \\pi^{6} x^{2} \\sin{\\left(i \\right)} \\sin{\\left(w \\right)} - 8 \\pi^{6} x^{2} \\sin{\\left(i \\right)} \\cos{\\left(w \\right)} + \\frac{19 \\pi^{6} x^{2}}{2} + 4 \\pi^{5} x^{3} \\sin{\\left(i \\right)} \\sin{\\left(w \\right)} + 24 \\pi^{5} x^{3} \\sin{\\left(i \\right)} \\cos{\\left(w \\right)} - 6 \\pi^{5} x^{3} - \\frac{43 \\pi^{4} x^{4} \\sin{\\left(i \\right)} \\sin{\\left(w \\right)}}{2} - 24 \\pi^{4} x^{4} \\sin{\\left(i \\right)} \\cos{\\left(w \\right)} + \\frac{27 \\pi^{4} x^{4}}{2} + 14 \\pi^{3} x^{5} \\sin{\\left(i \\right)} \\sin{\\left(w \\right)} + 24 \\pi^{3} x^{5} \\sin{\\left(i \\right)} \\cos{\\left(w \\right)} - 6 \\pi^{3} x^{5} - 24 \\pi^{2} x^{6} \\sin{\\left(i \\right)} \\sin{\\left(w \\right)} - 24 \\pi^{2} x^{6} \\sin{\\left(i \\right)} \\cos{\\left(w \\right)} + \\frac{17 \\pi^{2} x^{6}}{2} + 8 \\pi x^{7} \\sin{\\left(i \\right)} \\sin{\\left(w \\right)} + 8 \\pi x^{7} \\sin{\\left(i \\right)} \\cos{\\left(w \\right)} - 2 \\pi x^{7} - 8 x^{8} \\sin{\\left(i \\right)} \\sin{\\left(w \\right)} - 8 x^{8} \\sin{\\left(i \\right)} \\cos{\\left(w \\right)} + 2 x^{8}$"
      ],
      "text/plain": [
       "5*e**2*pi**8*sin(i)*sin(w)/2 + 5*e**2*pi**8/2 - 2*e**2*pi**7*x*sin(i)*sin(w) + 8*e**2*pi**7*x*sin(i)*cos(w) - 2*e**2*pi**7*x - 28*e**2*pi**6*x**2*sin(i)*sin(w) - 8*e**2*pi**6*x**2*sin(i)*cos(w) - 31*e**2*pi**6*x**2/2 + 24*e**2*pi**5*x**3*sin(i)*sin(w) - 56*e**2*pi**5*x**3*sin(i)*cos(w) + 14*e**2*pi**5*x**3 + 96*e**2*pi**4*x**4*sin(i)*sin(w) + 56*e**2*pi**4*x**4*sin(i)*cos(w) + 6*e**2*pi**4*x**4 - 96*e**2*pi**3*x**5*sin(i)*sin(w) + 64*e**2*pi**3*x**5*sin(i)*cos(w) - 16*e**2*pi**3*x**5 - 64*e**2*pi**2*x**6*sin(i)*sin(w) - 64*e**2*pi**2*x**6*sin(i)*cos(w) + 56*e**2*pi**2*x**6 + 128*e**2*pi*x**7*sin(i)*sin(w) + 128*e**2*pi*x**7*sin(i)*cos(w) - 32*e**2*pi*x**7 - 128*e**2*x**8*sin(i)*sin(w) - 128*e**2*x**8*sin(i)*cos(w) + 32*e**2*x**8 + 5*e*pi**8*sin(i)*sin(w) + 5*e*pi**8 - 4*e*pi**7*x*sin(i)*sin(w) + 16*e*pi**7*x*sin(i)*cos(w) - 4*e*pi**7*x - 31*e*pi**6*x**2*sin(i)*sin(w) - 16*e*pi**6*x**2*sin(i)*cos(w) - 6*e*pi**6*x**2 + 28*e*pi**5*x**3*sin(i)*sin(w) - 32*e*pi**5*x**3*sin(i)*cos(w) + 8*e*pi**5*x**3 + 12*e*pi**4*x**4*sin(i)*sin(w) + 32*e*pi**4*x**4*sin(i)*cos(w) - 43*e*pi**4*x**4 - 32*e*pi**3*x**5*sin(i)*sin(w) - 112*e*pi**3*x**5*sin(i)*cos(w) + 28*e*pi**3*x**5 + 112*e*pi**2*x**6*sin(i)*sin(w) + 112*e*pi**2*x**6*sin(i)*cos(w) - 48*e*pi**2*x**6 - 64*e*pi*x**7*sin(i)*sin(w) - 64*e*pi*x**7*sin(i)*cos(w) + 16*e*pi*x**7 + 64*e*x**8*sin(i)*sin(w) + 64*e*x**8*sin(i)*cos(w) - 16*e*x**8 - 5*lhs*pi**8 + 4*lhs*pi**7*x - 19*lhs*pi**6*x**2 + 12*lhs*pi**5*x**3 - 27*lhs*pi**4*x**4 + 12*lhs*pi**3*x**5 - 17*lhs*pi**2*x**6 + 4*lhs*pi*x**7 - 4*lhs*x**8 + 5*pi**8*sin(i)*sin(w)/2 + 5*pi**8/2 - 2*pi**7*x*sin(i)*sin(w) + 8*pi**7*x*sin(i)*cos(w) - 2*pi**7*x - 3*pi**6*x**2*sin(i)*sin(w) - 8*pi**6*x**2*sin(i)*cos(w) + 19*pi**6*x**2/2 + 4*pi**5*x**3*sin(i)*sin(w) + 24*pi**5*x**3*sin(i)*cos(w) - 6*pi**5*x**3 - 43*pi**4*x**4*sin(i)*sin(w)/2 - 24*pi**4*x**4*sin(i)*cos(w) + 27*pi**4*x**4/2 + 14*pi**3*x**5*sin(i)*sin(w) + 24*pi**3*x**5*sin(i)*cos(w) - 6*pi**3*x**5 - 24*pi**2*x**6*sin(i)*sin(w) - 24*pi**2*x**6*sin(i)*cos(w) + 17*pi**2*x**6/2 + 8*pi*x**7*sin(i)*sin(w) + 8*pi*x**7*sin(i)*cos(w) - 2*pi*x**7 - 8*x**8*sin(i)*sin(w) - 8*x**8*sin(i)*cos(w) + 2*x**8"
      ]
     },
     "execution_count": 216,
     "metadata": {},
     "output_type": "execute_result"
    }
   ],
   "source": [
    "sp.expand(sp.simplify(fullEqnBhaskara0_piby2*den1_fullEqnBhaskara0_piby2*den2_fullEqnBhaskara0_piby2))"
   ]
  },
  {
   "cell_type": "code",
   "execution_count": 217,
   "metadata": {},
   "outputs": [],
   "source": [
    "#Doesn't work\n",
    "#sp.simplify(fullEqnBhaskara0_piby2)\n",
    "# (num,den) = fullEqnBhaskara0_piby2.as_numer_denom()\n",
    "# fullEqnBhaskara0_piby2 = num*den"
   ]
  },
  {
   "cell_type": "code",
   "execution_count": 218,
   "metadata": {},
   "outputs": [
    {
     "data": {
      "text/latex": [
       "$\\displaystyle 2 \\left(\\pi^{2} + x^{2}\\right)^{9} \\left(5 \\pi^{2} - 4 x \\left(\\pi - x\\right)\\right)^{3}$"
      ],
      "text/plain": [
       "2*(pi**2 + x**2)**9*(5*pi**2 - 4*x*(pi - x))**3"
      ]
     },
     "execution_count": 218,
     "metadata": {},
     "output_type": "execute_result"
    }
   ],
   "source": []
  },
  {
   "cell_type": "code",
   "execution_count": null,
   "metadata": {},
   "outputs": [],
   "source": []
  },
  {
   "cell_type": "code",
   "execution_count": 190,
   "metadata": {},
   "outputs": [
    {
     "ename": "PolynomialError",
     "evalue": "1/(pi**2 + x**2) contains an element of the set of generators.",
     "output_type": "error",
     "traceback": [
      "\u001b[0;31m---------------------------------------------------------------------------\u001b[0m",
      "\u001b[0;31mKeyError\u001b[0m                                  Traceback (most recent call last)",
      "\u001b[0;32m~/.local/lib/python3.7/site-packages/sympy/polys/polyutils.py\u001b[0m in \u001b[0;36m_parallel_dict_from_expr_if_gens\u001b[0;34m(exprs, opt)\u001b[0m\n\u001b[1;32m    210\u001b[0m \u001b[0;34m\u001b[0m\u001b[0m\n\u001b[0;32m--> 211\u001b[0;31m                         \u001b[0mmonom\u001b[0m\u001b[0;34m[\u001b[0m\u001b[0mindices\u001b[0m\u001b[0;34m[\u001b[0m\u001b[0mbase\u001b[0m\u001b[0;34m]\u001b[0m\u001b[0;34m]\u001b[0m \u001b[0;34m=\u001b[0m \u001b[0mexp\u001b[0m\u001b[0;34m\u001b[0m\u001b[0;34m\u001b[0m\u001b[0m\n\u001b[0m\u001b[1;32m    212\u001b[0m                     \u001b[0;32mexcept\u001b[0m \u001b[0mKeyError\u001b[0m\u001b[0;34m:\u001b[0m\u001b[0;34m\u001b[0m\u001b[0;34m\u001b[0m\u001b[0m\n",
      "\u001b[0;31mKeyError\u001b[0m: 1/(pi**2 + x**2)",
      "\nDuring handling of the above exception, another exception occurred:\n",
      "\u001b[0;31mPolynomialError\u001b[0m                           Traceback (most recent call last)",
      "\u001b[0;32m<ipython-input-190-1814a5b74db1>\u001b[0m in \u001b[0;36m<module>\u001b[0;34m\u001b[0m\n\u001b[1;32m      1\u001b[0m \u001b[0;31m#print(sp.expand(fullEqnBhaskara0_piby2))\u001b[0m\u001b[0;34m\u001b[0m\u001b[0;34m\u001b[0m\u001b[0;34m\u001b[0m\u001b[0m\n\u001b[1;32m      2\u001b[0m \u001b[0;31m#These are the coefficients of nu\u001b[0m\u001b[0;34m\u001b[0m\u001b[0;34m\u001b[0m\u001b[0;34m\u001b[0m\u001b[0m\n\u001b[0;32m----> 3\u001b[0;31m \u001b[0msp\u001b[0m\u001b[0;34m.\u001b[0m\u001b[0mPoly\u001b[0m\u001b[0;34m(\u001b[0m\u001b[0mfullEqnBhaskara0_piby2\u001b[0m\u001b[0;34m,\u001b[0m\u001b[0mx\u001b[0m\u001b[0;34m)\u001b[0m\u001b[0;34m.\u001b[0m\u001b[0mcoeffs\u001b[0m\u001b[0;34m(\u001b[0m\u001b[0;34m)\u001b[0m\u001b[0;34m\u001b[0m\u001b[0;34m\u001b[0m\u001b[0m\n\u001b[0m",
      "\u001b[0;32m~/.local/lib/python3.7/site-packages/sympy/polys/polytools.py\u001b[0m in \u001b[0;36m__new__\u001b[0;34m(cls, rep, *gens, **args)\u001b[0m\n\u001b[1;32m    157\u001b[0m                 \u001b[0;32mreturn\u001b[0m \u001b[0mcls\u001b[0m\u001b[0;34m.\u001b[0m\u001b[0m_from_poly\u001b[0m\u001b[0;34m(\u001b[0m\u001b[0mrep\u001b[0m\u001b[0;34m,\u001b[0m \u001b[0mopt\u001b[0m\u001b[0;34m)\u001b[0m\u001b[0;34m\u001b[0m\u001b[0;34m\u001b[0m\u001b[0m\n\u001b[1;32m    158\u001b[0m             \u001b[0;32melse\u001b[0m\u001b[0;34m:\u001b[0m\u001b[0;34m\u001b[0m\u001b[0;34m\u001b[0m\u001b[0m\n\u001b[0;32m--> 159\u001b[0;31m                 \u001b[0;32mreturn\u001b[0m \u001b[0mcls\u001b[0m\u001b[0;34m.\u001b[0m\u001b[0m_from_expr\u001b[0m\u001b[0;34m(\u001b[0m\u001b[0mrep\u001b[0m\u001b[0;34m,\u001b[0m \u001b[0mopt\u001b[0m\u001b[0;34m)\u001b[0m\u001b[0;34m\u001b[0m\u001b[0;34m\u001b[0m\u001b[0m\n\u001b[0m\u001b[1;32m    160\u001b[0m \u001b[0;34m\u001b[0m\u001b[0m\n\u001b[1;32m    161\u001b[0m     \u001b[0;31m# Poly does not pass its args to Basic.__new__ to be stored in _args so we\u001b[0m\u001b[0;34m\u001b[0m\u001b[0;34m\u001b[0m\u001b[0;34m\u001b[0m\u001b[0m\n",
      "\u001b[0;32m~/.local/lib/python3.7/site-packages/sympy/polys/polytools.py\u001b[0m in \u001b[0;36m_from_expr\u001b[0;34m(cls, rep, opt)\u001b[0m\n\u001b[1;32m    286\u001b[0m     \u001b[0;32mdef\u001b[0m \u001b[0m_from_expr\u001b[0m\u001b[0;34m(\u001b[0m\u001b[0mcls\u001b[0m\u001b[0;34m,\u001b[0m \u001b[0mrep\u001b[0m\u001b[0;34m,\u001b[0m \u001b[0mopt\u001b[0m\u001b[0;34m)\u001b[0m\u001b[0;34m:\u001b[0m\u001b[0;34m\u001b[0m\u001b[0;34m\u001b[0m\u001b[0m\n\u001b[1;32m    287\u001b[0m         \u001b[0;34m\"\"\"Construct a polynomial from an expression. \"\"\"\u001b[0m\u001b[0;34m\u001b[0m\u001b[0;34m\u001b[0m\u001b[0m\n\u001b[0;32m--> 288\u001b[0;31m         \u001b[0mrep\u001b[0m\u001b[0;34m,\u001b[0m \u001b[0mopt\u001b[0m \u001b[0;34m=\u001b[0m \u001b[0m_dict_from_expr\u001b[0m\u001b[0;34m(\u001b[0m\u001b[0mrep\u001b[0m\u001b[0;34m,\u001b[0m \u001b[0mopt\u001b[0m\u001b[0;34m)\u001b[0m\u001b[0;34m\u001b[0m\u001b[0;34m\u001b[0m\u001b[0m\n\u001b[0m\u001b[1;32m    289\u001b[0m         \u001b[0;32mreturn\u001b[0m \u001b[0mcls\u001b[0m\u001b[0;34m.\u001b[0m\u001b[0m_from_dict\u001b[0m\u001b[0;34m(\u001b[0m\u001b[0mrep\u001b[0m\u001b[0;34m,\u001b[0m \u001b[0mopt\u001b[0m\u001b[0;34m)\u001b[0m\u001b[0;34m\u001b[0m\u001b[0;34m\u001b[0m\u001b[0m\n\u001b[1;32m    290\u001b[0m \u001b[0;34m\u001b[0m\u001b[0m\n",
      "\u001b[0;32m~/.local/lib/python3.7/site-packages/sympy/polys/polyutils.py\u001b[0m in \u001b[0;36m_dict_from_expr\u001b[0;34m(expr, opt)\u001b[0m\n\u001b[1;32m    366\u001b[0m \u001b[0;34m\u001b[0m\u001b[0m\n\u001b[1;32m    367\u001b[0m     \u001b[0;32mif\u001b[0m \u001b[0mopt\u001b[0m\u001b[0;34m.\u001b[0m\u001b[0mgens\u001b[0m\u001b[0;34m:\u001b[0m\u001b[0;34m\u001b[0m\u001b[0;34m\u001b[0m\u001b[0m\n\u001b[0;32m--> 368\u001b[0;31m         \u001b[0mrep\u001b[0m\u001b[0;34m,\u001b[0m \u001b[0mgens\u001b[0m \u001b[0;34m=\u001b[0m \u001b[0m_dict_from_expr_if_gens\u001b[0m\u001b[0;34m(\u001b[0m\u001b[0mexpr\u001b[0m\u001b[0;34m,\u001b[0m \u001b[0mopt\u001b[0m\u001b[0;34m)\u001b[0m\u001b[0;34m\u001b[0m\u001b[0;34m\u001b[0m\u001b[0m\n\u001b[0m\u001b[1;32m    369\u001b[0m     \u001b[0;32melse\u001b[0m\u001b[0;34m:\u001b[0m\u001b[0;34m\u001b[0m\u001b[0;34m\u001b[0m\u001b[0m\n\u001b[1;32m    370\u001b[0m         \u001b[0mrep\u001b[0m\u001b[0;34m,\u001b[0m \u001b[0mgens\u001b[0m \u001b[0;34m=\u001b[0m \u001b[0m_dict_from_expr_no_gens\u001b[0m\u001b[0;34m(\u001b[0m\u001b[0mexpr\u001b[0m\u001b[0;34m,\u001b[0m \u001b[0mopt\u001b[0m\u001b[0;34m)\u001b[0m\u001b[0;34m\u001b[0m\u001b[0;34m\u001b[0m\u001b[0m\n",
      "\u001b[0;32m~/.local/lib/python3.7/site-packages/sympy/polys/polyutils.py\u001b[0m in \u001b[0;36m_dict_from_expr_if_gens\u001b[0;34m(expr, opt)\u001b[0m\n\u001b[1;32m    305\u001b[0m \u001b[0;32mdef\u001b[0m \u001b[0m_dict_from_expr_if_gens\u001b[0m\u001b[0;34m(\u001b[0m\u001b[0mexpr\u001b[0m\u001b[0;34m,\u001b[0m \u001b[0mopt\u001b[0m\u001b[0;34m)\u001b[0m\u001b[0;34m:\u001b[0m\u001b[0;34m\u001b[0m\u001b[0;34m\u001b[0m\u001b[0m\n\u001b[1;32m    306\u001b[0m     \u001b[0;34m\"\"\"Transform an expression into a multinomial form given generators. \"\"\"\u001b[0m\u001b[0;34m\u001b[0m\u001b[0;34m\u001b[0m\u001b[0m\n\u001b[0;32m--> 307\u001b[0;31m     \u001b[0;34m(\u001b[0m\u001b[0mpoly\u001b[0m\u001b[0;34m,\u001b[0m\u001b[0;34m)\u001b[0m\u001b[0;34m,\u001b[0m \u001b[0mgens\u001b[0m \u001b[0;34m=\u001b[0m \u001b[0m_parallel_dict_from_expr_if_gens\u001b[0m\u001b[0;34m(\u001b[0m\u001b[0;34m(\u001b[0m\u001b[0mexpr\u001b[0m\u001b[0;34m,\u001b[0m\u001b[0;34m)\u001b[0m\u001b[0;34m,\u001b[0m \u001b[0mopt\u001b[0m\u001b[0;34m)\u001b[0m\u001b[0;34m\u001b[0m\u001b[0;34m\u001b[0m\u001b[0m\n\u001b[0m\u001b[1;32m    308\u001b[0m     \u001b[0;32mreturn\u001b[0m \u001b[0mpoly\u001b[0m\u001b[0;34m,\u001b[0m \u001b[0mgens\u001b[0m\u001b[0;34m\u001b[0m\u001b[0;34m\u001b[0m\u001b[0m\n\u001b[1;32m    309\u001b[0m \u001b[0;34m\u001b[0m\u001b[0m\n",
      "\u001b[0;32m~/.local/lib/python3.7/site-packages/sympy/polys/polyutils.py\u001b[0m in \u001b[0;36m_parallel_dict_from_expr_if_gens\u001b[0;34m(exprs, opt)\u001b[0m\n\u001b[1;32m    215\u001b[0m                         \u001b[0;32melse\u001b[0m\u001b[0;34m:\u001b[0m\u001b[0;34m\u001b[0m\u001b[0;34m\u001b[0m\u001b[0m\n\u001b[1;32m    216\u001b[0m                             raise PolynomialError(\"%s contains an element of \"\n\u001b[0;32m--> 217\u001b[0;31m                                                   \"the set of generators.\" % factor)\n\u001b[0m\u001b[1;32m    218\u001b[0m \u001b[0;34m\u001b[0m\u001b[0m\n\u001b[1;32m    219\u001b[0m             \u001b[0mmonom\u001b[0m \u001b[0;34m=\u001b[0m \u001b[0mtuple\u001b[0m\u001b[0;34m(\u001b[0m\u001b[0mmonom\u001b[0m\u001b[0;34m)\u001b[0m\u001b[0;34m\u001b[0m\u001b[0;34m\u001b[0m\u001b[0m\n",
      "\u001b[0;31mPolynomialError\u001b[0m: 1/(pi**2 + x**2) contains an element of the set of generators."
     ]
    }
   ],
   "source": [
    "#print(sp.expand(fullEqnBhaskara0_piby2))\n",
    "#These are the coefficients of nu\n",
    "sp.Poly(fullEqnBhaskara0_piby2,x).coeffs()"
   ]
  },
  {
   "cell_type": "code",
   "execution_count": 193,
   "metadata": {},
   "outputs": [
    {
     "data": {
      "text/latex": [
       "$\\displaystyle \\frac{8 e^{2} x \\left(\\pi - x\\right) \\left(\\pi^{2} - 4 x^{2}\\right)^{2} \\sin{\\left(i \\right)} \\cos{\\left(w \\right)}}{\\left(\\pi^{2} + x^{2}\\right)^{2} \\left(5 \\pi^{2} - 4 x \\left(\\pi - x\\right)\\right)} + \\frac{e^{2} \\left(\\pi^{2} - 4 x^{2}\\right)^{3} \\sin{\\left(i \\right)} \\sin{\\left(w \\right)}}{2 \\left(\\pi^{2} + x^{2}\\right)^{3}} + \\frac{e^{2} \\left(\\pi^{2} - 4 x^{2}\\right)^{2}}{2 \\left(\\pi^{2} + x^{2}\\right)^{2}} + \\frac{16 e x \\left(\\pi - x\\right) \\left(\\pi^{2} - 4 x^{2}\\right) \\sin{\\left(i \\right)} \\cos{\\left(w \\right)}}{\\left(\\pi^{2} + x^{2}\\right) \\left(5 \\pi^{2} - 4 x \\left(\\pi - x\\right)\\right)} + \\frac{e \\left(\\pi^{2} - 4 x^{2}\\right)^{2} \\sin{\\left(i \\right)} \\sin{\\left(w \\right)}}{\\left(\\pi^{2} + x^{2}\\right)^{2}} + \\frac{e \\left(\\pi^{2} - 4 x^{2}\\right)}{\\pi^{2} + x^{2}} - lhs + \\frac{8 x \\left(\\pi - x\\right) \\sin{\\left(i \\right)} \\cos{\\left(w \\right)}}{5 \\pi^{2} - 4 x \\left(\\pi - x\\right)} + \\frac{\\left(\\pi^{2} - 4 x^{2}\\right) \\sin{\\left(i \\right)} \\sin{\\left(w \\right)}}{2 \\left(\\pi^{2} + x^{2}\\right)} + \\frac{1}{2}$"
      ],
      "text/plain": [
       "8*e**2*x*(pi - x)*(pi**2 - 4*x**2)**2*sin(i)*cos(w)/((pi**2 + x**2)**2*(5*pi**2 - 4*x*(pi - x))) + e**2*(pi**2 - 4*x**2)**3*sin(i)*sin(w)/(2*(pi**2 + x**2)**3) + e**2*(pi**2 - 4*x**2)**2/(2*(pi**2 + x**2)**2) + 16*e*x*(pi - x)*(pi**2 - 4*x**2)*sin(i)*cos(w)/((pi**2 + x**2)*(5*pi**2 - 4*x*(pi - x))) + e*(pi**2 - 4*x**2)**2*sin(i)*sin(w)/(pi**2 + x**2)**2 + e*(pi**2 - 4*x**2)/(pi**2 + x**2) - lhs + 8*x*(pi - x)*sin(i)*cos(w)/(5*pi**2 - 4*x*(pi - x)) + (pi**2 - 4*x**2)*sin(i)*sin(w)/(2*(pi**2 + x**2)) + 1/2"
      ]
     },
     "execution_count": 193,
     "metadata": {},
     "output_type": "execute_result"
    }
   ],
   "source": [
    "fullEqnBhaskara0_piby2"
   ]
  },
  {
   "cell_type": "code",
   "execution_count": 169,
   "metadata": {},
   "outputs": [
    {
     "name": "stdout",
     "output_type": "stream",
     "text": [
      "27*e**2*pi**6*sin(i)*sin(w)/(2*(8*pi**6 - 24*pi**5*x + 36*pi**4*x**2 - 32*pi**3*x**3 + 18*pi**2*x**4 - 6*pi*x**5 + x**6)) + 72*e**2*pi**5*x*sin(i)*cos(w)/(20*pi**6 - 56*pi**5*x + 88*pi**4*x**2 - 84*pi**3*x**3 + 53*pi**2*x**4 - 20*pi*x**5 + 4*x**6) - 108*e**2*pi**5*x*sin(i)*sin(w)/(8*pi**6 - 24*pi**5*x + 36*pi**4*x**2 - 32*pi**3*x**3 + 18*pi**2*x**4 - 6*pi*x**5 + x**6) - 456*e**2*pi**4*x**2*sin(i)*cos(w)/(20*pi**6 - 56*pi**5*x + 88*pi**4*x**2 - 84*pi**3*x**3 + 53*pi**2*x**4 - 20*pi*x**5 + 4*x**6) + 342*e**2*pi**4*x**2*sin(i)*sin(w)/(8*pi**6 - 24*pi**5*x + 36*pi**4*x**2 - 32*pi**3*x**3 + 18*pi**2*x**4 - 6*pi*x**5 + x**6) + 9*e**2*pi**4/(2*(4*pi**4 - 8*pi**3*x + 8*pi**2*x**2 - 4*pi*x**3 + x**4)) + 1088*e**2*pi**3*x**3*sin(i)*cos(w)/(20*pi**6 - 56*pi**5*x + 88*pi**4*x**2 - 84*pi**3*x**3 + 53*pi**2*x**4 - 20*pi*x**5 + 4*x**6) - 544*e**2*pi**3*x**3*sin(i)*sin(w)/(8*pi**6 - 24*pi**5*x + 36*pi**4*x**2 - 32*pi**3*x**3 + 18*pi**2*x**4 - 6*pi*x**5 + x**6) - 24*e**2*pi**3*x/(4*pi**4 - 8*pi**3*x + 8*pi**2*x**2 - 4*pi*x**3 + x**4) - 1216*e**2*pi**2*x**4*sin(i)*cos(w)/(20*pi**6 - 56*pi**5*x + 88*pi**4*x**2 - 84*pi**3*x**3 + 53*pi**2*x**4 - 20*pi*x**5 + 4*x**6) + 456*e**2*pi**2*x**4*sin(i)*sin(w)/(8*pi**6 - 24*pi**5*x + 36*pi**4*x**2 - 32*pi**3*x**3 + 18*pi**2*x**4 - 6*pi*x**5 + x**6) + 44*e**2*pi**2*x**2/(4*pi**4 - 8*pi**3*x + 8*pi**2*x**2 - 4*pi*x**3 + x**4) + 640*e**2*pi*x**5*sin(i)*cos(w)/(20*pi**6 - 56*pi**5*x + 88*pi**4*x**2 - 84*pi**3*x**3 + 53*pi**2*x**4 - 20*pi*x**5 + 4*x**6) - 192*e**2*pi*x**5*sin(i)*sin(w)/(8*pi**6 - 24*pi**5*x + 36*pi**4*x**2 - 32*pi**3*x**3 + 18*pi**2*x**4 - 6*pi*x**5 + x**6) - 32*e**2*pi*x**3/(4*pi**4 - 8*pi**3*x + 8*pi**2*x**2 - 4*pi*x**3 + x**4) - 128*e**2*x**6*sin(i)*cos(w)/(20*pi**6 - 56*pi**5*x + 88*pi**4*x**2 - 84*pi**3*x**3 + 53*pi**2*x**4 - 20*pi*x**5 + 4*x**6) + 32*e**2*x**6*sin(i)*sin(w)/(8*pi**6 - 24*pi**5*x + 36*pi**4*x**2 - 32*pi**3*x**3 + 18*pi**2*x**4 - 6*pi*x**5 + x**6) + 8*e**2*x**4/(4*pi**4 - 8*pi**3*x + 8*pi**2*x**2 - 4*pi*x**3 + x**4) + 9*e*pi**4*sin(i)*sin(w)/(4*pi**4 - 8*pi**3*x + 8*pi**2*x**2 - 4*pi*x**3 + x**4) + 48*e*pi**3*x*sin(i)*cos(w)/(10*pi**4 - 18*pi**3*x + 21*pi**2*x**2 - 12*pi*x**3 + 4*x**4) - 48*e*pi**3*x*sin(i)*sin(w)/(4*pi**4 - 8*pi**3*x + 8*pi**2*x**2 - 4*pi*x**3 + x**4) - 176*e*pi**2*x**2*sin(i)*cos(w)/(10*pi**4 - 18*pi**3*x + 21*pi**2*x**2 - 12*pi*x**3 + 4*x**4) + 88*e*pi**2*x**2*sin(i)*sin(w)/(4*pi**4 - 8*pi**3*x + 8*pi**2*x**2 - 4*pi*x**3 + x**4) + 3*e*pi**2/(2*pi**2 - 2*pi*x + x**2) + 192*e*pi*x**3*sin(i)*cos(w)/(10*pi**4 - 18*pi**3*x + 21*pi**2*x**2 - 12*pi*x**3 + 4*x**4) - 64*e*pi*x**3*sin(i)*sin(w)/(4*pi**4 - 8*pi**3*x + 8*pi**2*x**2 - 4*pi*x**3 + x**4) - 8*e*pi*x/(2*pi**2 - 2*pi*x + x**2) - 64*e*x**4*sin(i)*cos(w)/(10*pi**4 - 18*pi**3*x + 21*pi**2*x**2 - 12*pi*x**3 + 4*x**4) + 16*e*x**4*sin(i)*sin(w)/(4*pi**4 - 8*pi**3*x + 8*pi**2*x**2 - 4*pi*x**3 + x**4) + 4*e*x**2/(2*pi**2 - 2*pi*x + x**2) - lhs + 3*pi**2*sin(i)*sin(w)/(2*(2*pi**2 - 2*pi*x + x**2)) + 8*pi*x*sin(i)*cos(w)/(5*pi**2 - 4*pi*x + 4*x**2) - 4*pi*x*sin(i)*sin(w)/(2*pi**2 - 2*pi*x + x**2) - 8*x**2*sin(i)*cos(w)/(5*pi**2 - 4*pi*x + 4*x**2) + 2*x**2*sin(i)*sin(w)/(2*pi**2 - 2*pi*x + x**2) + 1/2\n"
     ]
    }
   ],
   "source": [
    "print(sp.expand(fullEqnBhaskarapiby2_pi))"
   ]
  },
  {
   "cell_type": "code",
   "execution_count": 192,
   "metadata": {},
   "outputs": [
    {
     "data": {
      "text/latex": [
       "$\\displaystyle \\frac{288 e^{2} \\pi^{6} \\sin{\\left(i \\right)} \\cos{\\left(w \\right)}}{104 \\pi^{6} - 304 \\pi^{5} x + 432 \\pi^{4} x^{2} - 360 \\pi^{3} x^{3} + 186 \\pi^{2} x^{4} - 56 \\pi x^{5} + 8 x^{6}} + \\frac{27 e^{2} \\pi^{6} \\sin{\\left(i \\right)} \\sin{\\left(w \\right)}}{2 \\left(8 \\pi^{6} - 24 \\pi^{5} x + 36 \\pi^{4} x^{2} - 32 \\pi^{3} x^{3} + 18 \\pi^{2} x^{4} - 6 \\pi x^{5} + x^{6}\\right)} - \\frac{1968 e^{2} \\pi^{5} x \\sin{\\left(i \\right)} \\cos{\\left(w \\right)}}{104 \\pi^{6} - 304 \\pi^{5} x + 432 \\pi^{4} x^{2} - 360 \\pi^{3} x^{3} + 186 \\pi^{2} x^{4} - 56 \\pi x^{5} + 8 x^{6}} - \\frac{108 e^{2} \\pi^{5} x \\sin{\\left(i \\right)} \\sin{\\left(w \\right)}}{8 \\pi^{6} - 24 \\pi^{5} x + 36 \\pi^{4} x^{2} - 32 \\pi^{3} x^{3} + 18 \\pi^{2} x^{4} - 6 \\pi x^{5} + x^{6}} + \\frac{5264 e^{2} \\pi^{4} x^{2} \\sin{\\left(i \\right)} \\cos{\\left(w \\right)}}{104 \\pi^{6} - 304 \\pi^{5} x + 432 \\pi^{4} x^{2} - 360 \\pi^{3} x^{3} + 186 \\pi^{2} x^{4} - 56 \\pi x^{5} + 8 x^{6}} + \\frac{342 e^{2} \\pi^{4} x^{2} \\sin{\\left(i \\right)} \\sin{\\left(w \\right)}}{8 \\pi^{6} - 24 \\pi^{5} x + 36 \\pi^{4} x^{2} - 32 \\pi^{3} x^{3} + 18 \\pi^{2} x^{4} - 6 \\pi x^{5} + x^{6}} + \\frac{9 e^{2} \\pi^{4}}{2 \\left(4 \\pi^{4} - 8 \\pi^{3} x + 8 \\pi^{2} x^{2} - 4 \\pi x^{3} + x^{4}\\right)} - \\frac{7040 e^{2} \\pi^{3} x^{3} \\sin{\\left(i \\right)} \\cos{\\left(w \\right)}}{104 \\pi^{6} - 304 \\pi^{5} x + 432 \\pi^{4} x^{2} - 360 \\pi^{3} x^{3} + 186 \\pi^{2} x^{4} - 56 \\pi x^{5} + 8 x^{6}} - \\frac{544 e^{2} \\pi^{3} x^{3} \\sin{\\left(i \\right)} \\sin{\\left(w \\right)}}{8 \\pi^{6} - 24 \\pi^{5} x + 36 \\pi^{4} x^{2} - 32 \\pi^{3} x^{3} + 18 \\pi^{2} x^{4} - 6 \\pi x^{5} + x^{6}} - \\frac{24 e^{2} \\pi^{3} x}{4 \\pi^{4} - 8 \\pi^{3} x + 8 \\pi^{2} x^{2} - 4 \\pi x^{3} + x^{4}} + \\frac{4992 e^{2} \\pi^{2} x^{4} \\sin{\\left(i \\right)} \\cos{\\left(w \\right)}}{104 \\pi^{6} - 304 \\pi^{5} x + 432 \\pi^{4} x^{2} - 360 \\pi^{3} x^{3} + 186 \\pi^{2} x^{4} - 56 \\pi x^{5} + 8 x^{6}} + \\frac{456 e^{2} \\pi^{2} x^{4} \\sin{\\left(i \\right)} \\sin{\\left(w \\right)}}{8 \\pi^{6} - 24 \\pi^{5} x + 36 \\pi^{4} x^{2} - 32 \\pi^{3} x^{3} + 18 \\pi^{2} x^{4} - 6 \\pi x^{5} + x^{6}} + \\frac{44 e^{2} \\pi^{2} x^{2}}{4 \\pi^{4} - 8 \\pi^{3} x + 8 \\pi^{2} x^{2} - 4 \\pi x^{3} + x^{4}} - \\frac{1792 e^{2} \\pi x^{5} \\sin{\\left(i \\right)} \\cos{\\left(w \\right)}}{104 \\pi^{6} - 304 \\pi^{5} x + 432 \\pi^{4} x^{2} - 360 \\pi^{3} x^{3} + 186 \\pi^{2} x^{4} - 56 \\pi x^{5} + 8 x^{6}} - \\frac{192 e^{2} \\pi x^{5} \\sin{\\left(i \\right)} \\sin{\\left(w \\right)}}{8 \\pi^{6} - 24 \\pi^{5} x + 36 \\pi^{4} x^{2} - 32 \\pi^{3} x^{3} + 18 \\pi^{2} x^{4} - 6 \\pi x^{5} + x^{6}} - \\frac{32 e^{2} \\pi x^{3}}{4 \\pi^{4} - 8 \\pi^{3} x + 8 \\pi^{2} x^{2} - 4 \\pi x^{3} + x^{4}} + \\frac{256 e^{2} x^{6} \\sin{\\left(i \\right)} \\cos{\\left(w \\right)}}{104 \\pi^{6} - 304 \\pi^{5} x + 432 \\pi^{4} x^{2} - 360 \\pi^{3} x^{3} + 186 \\pi^{2} x^{4} - 56 \\pi x^{5} + 8 x^{6}} + \\frac{32 e^{2} x^{6} \\sin{\\left(i \\right)} \\sin{\\left(w \\right)}}{8 \\pi^{6} - 24 \\pi^{5} x + 36 \\pi^{4} x^{2} - 32 \\pi^{3} x^{3} + 18 \\pi^{2} x^{4} - 6 \\pi x^{5} + x^{6}} + \\frac{8 e^{2} x^{4}}{4 \\pi^{4} - 8 \\pi^{3} x + 8 \\pi^{2} x^{2} - 4 \\pi x^{3} + x^{4}} + \\frac{96 e \\pi^{4} \\sin{\\left(i \\right)} \\cos{\\left(w \\right)}}{26 \\pi^{4} - 50 \\pi^{3} x + 45 \\pi^{2} x^{2} - 20 \\pi x^{3} + 4 x^{4}} + \\frac{9 e \\pi^{4} \\sin{\\left(i \\right)} \\sin{\\left(w \\right)}}{4 \\pi^{4} - 8 \\pi^{3} x + 8 \\pi^{2} x^{2} - 4 \\pi x^{3} + x^{4}} - \\frac{400 e \\pi^{3} x \\sin{\\left(i \\right)} \\cos{\\left(w \\right)}}{26 \\pi^{4} - 50 \\pi^{3} x + 45 \\pi^{2} x^{2} - 20 \\pi x^{3} + 4 x^{4}} - \\frac{48 e \\pi^{3} x \\sin{\\left(i \\right)} \\sin{\\left(w \\right)}}{4 \\pi^{4} - 8 \\pi^{3} x + 8 \\pi^{2} x^{2} - 4 \\pi x^{3} + x^{4}} + \\frac{560 e \\pi^{2} x^{2} \\sin{\\left(i \\right)} \\cos{\\left(w \\right)}}{26 \\pi^{4} - 50 \\pi^{3} x + 45 \\pi^{2} x^{2} - 20 \\pi x^{3} + 4 x^{4}} + \\frac{88 e \\pi^{2} x^{2} \\sin{\\left(i \\right)} \\sin{\\left(w \\right)}}{4 \\pi^{4} - 8 \\pi^{3} x + 8 \\pi^{2} x^{2} - 4 \\pi x^{3} + x^{4}} + \\frac{3 e \\pi^{2}}{2 \\pi^{2} - 2 \\pi x + x^{2}} - \\frac{320 e \\pi x^{3} \\sin{\\left(i \\right)} \\cos{\\left(w \\right)}}{26 \\pi^{4} - 50 \\pi^{3} x + 45 \\pi^{2} x^{2} - 20 \\pi x^{3} + 4 x^{4}} - \\frac{64 e \\pi x^{3} \\sin{\\left(i \\right)} \\sin{\\left(w \\right)}}{4 \\pi^{4} - 8 \\pi^{3} x + 8 \\pi^{2} x^{2} - 4 \\pi x^{3} + x^{4}} - \\frac{8 e \\pi x}{2 \\pi^{2} - 2 \\pi x + x^{2}} + \\frac{64 e x^{4} \\sin{\\left(i \\right)} \\cos{\\left(w \\right)}}{26 \\pi^{4} - 50 \\pi^{3} x + 45 \\pi^{2} x^{2} - 20 \\pi x^{3} + 4 x^{4}} + \\frac{16 e x^{4} \\sin{\\left(i \\right)} \\sin{\\left(w \\right)}}{4 \\pi^{4} - 8 \\pi^{3} x + 8 \\pi^{2} x^{2} - 4 \\pi x^{3} + x^{4}} + \\frac{4 e x^{2}}{2 \\pi^{2} - 2 \\pi x + x^{2}} - lhs + \\frac{16 \\pi^{2} \\sin{\\left(i \\right)} \\cos{\\left(w \\right)}}{13 \\pi^{2} - 12 \\pi x + 4 x^{2}} + \\frac{3 \\pi^{2} \\sin{\\left(i \\right)} \\sin{\\left(w \\right)}}{2 \\left(2 \\pi^{2} - 2 \\pi x + x^{2}\\right)} - \\frac{24 \\pi x \\sin{\\left(i \\right)} \\cos{\\left(w \\right)}}{13 \\pi^{2} - 12 \\pi x + 4 x^{2}} - \\frac{4 \\pi x \\sin{\\left(i \\right)} \\sin{\\left(w \\right)}}{2 \\pi^{2} - 2 \\pi x + x^{2}} + \\frac{8 x^{2} \\sin{\\left(i \\right)} \\cos{\\left(w \\right)}}{13 \\pi^{2} - 12 \\pi x + 4 x^{2}} + \\frac{2 x^{2} \\sin{\\left(i \\right)} \\sin{\\left(w \\right)}}{2 \\pi^{2} - 2 \\pi x + x^{2}} + \\frac{1}{2}$"
      ],
      "text/plain": [
       "288*e**2*pi**6*sin(i)*cos(w)/(104*pi**6 - 304*pi**5*x + 432*pi**4*x**2 - 360*pi**3*x**3 + 186*pi**2*x**4 - 56*pi*x**5 + 8*x**6) + 27*e**2*pi**6*sin(i)*sin(w)/(2*(8*pi**6 - 24*pi**5*x + 36*pi**4*x**2 - 32*pi**3*x**3 + 18*pi**2*x**4 - 6*pi*x**5 + x**6)) - 1968*e**2*pi**5*x*sin(i)*cos(w)/(104*pi**6 - 304*pi**5*x + 432*pi**4*x**2 - 360*pi**3*x**3 + 186*pi**2*x**4 - 56*pi*x**5 + 8*x**6) - 108*e**2*pi**5*x*sin(i)*sin(w)/(8*pi**6 - 24*pi**5*x + 36*pi**4*x**2 - 32*pi**3*x**3 + 18*pi**2*x**4 - 6*pi*x**5 + x**6) + 5264*e**2*pi**4*x**2*sin(i)*cos(w)/(104*pi**6 - 304*pi**5*x + 432*pi**4*x**2 - 360*pi**3*x**3 + 186*pi**2*x**4 - 56*pi*x**5 + 8*x**6) + 342*e**2*pi**4*x**2*sin(i)*sin(w)/(8*pi**6 - 24*pi**5*x + 36*pi**4*x**2 - 32*pi**3*x**3 + 18*pi**2*x**4 - 6*pi*x**5 + x**6) + 9*e**2*pi**4/(2*(4*pi**4 - 8*pi**3*x + 8*pi**2*x**2 - 4*pi*x**3 + x**4)) - 7040*e**2*pi**3*x**3*sin(i)*cos(w)/(104*pi**6 - 304*pi**5*x + 432*pi**4*x**2 - 360*pi**3*x**3 + 186*pi**2*x**4 - 56*pi*x**5 + 8*x**6) - 544*e**2*pi**3*x**3*sin(i)*sin(w)/(8*pi**6 - 24*pi**5*x + 36*pi**4*x**2 - 32*pi**3*x**3 + 18*pi**2*x**4 - 6*pi*x**5 + x**6) - 24*e**2*pi**3*x/(4*pi**4 - 8*pi**3*x + 8*pi**2*x**2 - 4*pi*x**3 + x**4) + 4992*e**2*pi**2*x**4*sin(i)*cos(w)/(104*pi**6 - 304*pi**5*x + 432*pi**4*x**2 - 360*pi**3*x**3 + 186*pi**2*x**4 - 56*pi*x**5 + 8*x**6) + 456*e**2*pi**2*x**4*sin(i)*sin(w)/(8*pi**6 - 24*pi**5*x + 36*pi**4*x**2 - 32*pi**3*x**3 + 18*pi**2*x**4 - 6*pi*x**5 + x**6) + 44*e**2*pi**2*x**2/(4*pi**4 - 8*pi**3*x + 8*pi**2*x**2 - 4*pi*x**3 + x**4) - 1792*e**2*pi*x**5*sin(i)*cos(w)/(104*pi**6 - 304*pi**5*x + 432*pi**4*x**2 - 360*pi**3*x**3 + 186*pi**2*x**4 - 56*pi*x**5 + 8*x**6) - 192*e**2*pi*x**5*sin(i)*sin(w)/(8*pi**6 - 24*pi**5*x + 36*pi**4*x**2 - 32*pi**3*x**3 + 18*pi**2*x**4 - 6*pi*x**5 + x**6) - 32*e**2*pi*x**3/(4*pi**4 - 8*pi**3*x + 8*pi**2*x**2 - 4*pi*x**3 + x**4) + 256*e**2*x**6*sin(i)*cos(w)/(104*pi**6 - 304*pi**5*x + 432*pi**4*x**2 - 360*pi**3*x**3 + 186*pi**2*x**4 - 56*pi*x**5 + 8*x**6) + 32*e**2*x**6*sin(i)*sin(w)/(8*pi**6 - 24*pi**5*x + 36*pi**4*x**2 - 32*pi**3*x**3 + 18*pi**2*x**4 - 6*pi*x**5 + x**6) + 8*e**2*x**4/(4*pi**4 - 8*pi**3*x + 8*pi**2*x**2 - 4*pi*x**3 + x**4) + 96*e*pi**4*sin(i)*cos(w)/(26*pi**4 - 50*pi**3*x + 45*pi**2*x**2 - 20*pi*x**3 + 4*x**4) + 9*e*pi**4*sin(i)*sin(w)/(4*pi**4 - 8*pi**3*x + 8*pi**2*x**2 - 4*pi*x**3 + x**4) - 400*e*pi**3*x*sin(i)*cos(w)/(26*pi**4 - 50*pi**3*x + 45*pi**2*x**2 - 20*pi*x**3 + 4*x**4) - 48*e*pi**3*x*sin(i)*sin(w)/(4*pi**4 - 8*pi**3*x + 8*pi**2*x**2 - 4*pi*x**3 + x**4) + 560*e*pi**2*x**2*sin(i)*cos(w)/(26*pi**4 - 50*pi**3*x + 45*pi**2*x**2 - 20*pi*x**3 + 4*x**4) + 88*e*pi**2*x**2*sin(i)*sin(w)/(4*pi**4 - 8*pi**3*x + 8*pi**2*x**2 - 4*pi*x**3 + x**4) + 3*e*pi**2/(2*pi**2 - 2*pi*x + x**2) - 320*e*pi*x**3*sin(i)*cos(w)/(26*pi**4 - 50*pi**3*x + 45*pi**2*x**2 - 20*pi*x**3 + 4*x**4) - 64*e*pi*x**3*sin(i)*sin(w)/(4*pi**4 - 8*pi**3*x + 8*pi**2*x**2 - 4*pi*x**3 + x**4) - 8*e*pi*x/(2*pi**2 - 2*pi*x + x**2) + 64*e*x**4*sin(i)*cos(w)/(26*pi**4 - 50*pi**3*x + 45*pi**2*x**2 - 20*pi*x**3 + 4*x**4) + 16*e*x**4*sin(i)*sin(w)/(4*pi**4 - 8*pi**3*x + 8*pi**2*x**2 - 4*pi*x**3 + x**4) + 4*e*x**2/(2*pi**2 - 2*pi*x + x**2) - lhs + 16*pi**2*sin(i)*cos(w)/(13*pi**2 - 12*pi*x + 4*x**2) + 3*pi**2*sin(i)*sin(w)/(2*(2*pi**2 - 2*pi*x + x**2)) - 24*pi*x*sin(i)*cos(w)/(13*pi**2 - 12*pi*x + 4*x**2) - 4*pi*x*sin(i)*sin(w)/(2*pi**2 - 2*pi*x + x**2) + 8*x**2*sin(i)*cos(w)/(13*pi**2 - 12*pi*x + 4*x**2) + 2*x**2*sin(i)*sin(w)/(2*pi**2 - 2*pi*x + x**2) + 1/2"
      ]
     },
     "execution_count": 192,
     "metadata": {},
     "output_type": "execute_result"
    }
   ],
   "source": [
    "sp.expand(sp.expand(fullEqnBhaskarapi_3piby2))"
   ]
  },
  {
   "cell_type": "code",
   "execution_count": 167,
   "metadata": {},
   "outputs": [
    {
     "data": {
      "text/latex": [
       "$\\displaystyle \\frac{7200 e^{2} \\pi^{6} \\sin{\\left(i \\right)} \\cos{\\left(w \\right)}}{650 \\pi^{6} - 1640 \\pi^{5} x + 1836 \\pi^{4} x^{2} - 1152 \\pi^{3} x^{3} + 426 \\pi^{2} x^{4} - 88 \\pi x^{5} + 8 x^{6}} - \\frac{3375 e^{2} \\pi^{6} \\sin{\\left(i \\right)} \\sin{\\left(w \\right)}}{2 \\left(125 \\pi^{6} - 300 \\pi^{5} x + 315 \\pi^{4} x^{2} - 184 \\pi^{3} x^{3} + 63 \\pi^{2} x^{4} - 12 \\pi x^{5} + x^{6}\\right)} - \\frac{26160 e^{2} \\pi^{5} x \\sin{\\left(i \\right)} \\cos{\\left(w \\right)}}{650 \\pi^{6} - 1640 \\pi^{5} x + 1836 \\pi^{4} x^{2} - 1152 \\pi^{3} x^{3} + 426 \\pi^{2} x^{4} - 88 \\pi x^{5} + 8 x^{6}} + \\frac{5400 e^{2} \\pi^{5} x \\sin{\\left(i \\right)} \\sin{\\left(w \\right)}}{125 \\pi^{6} - 300 \\pi^{5} x + 315 \\pi^{4} x^{2} - 184 \\pi^{3} x^{3} + 63 \\pi^{2} x^{4} - 12 \\pi x^{5} + x^{6}} + \\frac{38672 e^{2} \\pi^{4} x^{2} \\sin{\\left(i \\right)} \\cos{\\left(w \\right)}}{650 \\pi^{6} - 1640 \\pi^{5} x + 1836 \\pi^{4} x^{2} - 1152 \\pi^{3} x^{3} + 426 \\pi^{2} x^{4} - 88 \\pi x^{5} + 8 x^{6}} - \\frac{7110 e^{2} \\pi^{4} x^{2} \\sin{\\left(i \\right)} \\sin{\\left(w \\right)}}{125 \\pi^{6} - 300 \\pi^{5} x + 315 \\pi^{4} x^{2} - 184 \\pi^{3} x^{3} + 63 \\pi^{2} x^{4} - 12 \\pi x^{5} + x^{6}} + \\frac{225 e^{2} \\pi^{4}}{2 \\left(25 \\pi^{4} - 40 \\pi^{3} x + 26 \\pi^{2} x^{2} - 8 \\pi x^{3} + x^{4}\\right)} - \\frac{29824 e^{2} \\pi^{3} x^{3} \\sin{\\left(i \\right)} \\cos{\\left(w \\right)}}{650 \\pi^{6} - 1640 \\pi^{5} x + 1836 \\pi^{4} x^{2} - 1152 \\pi^{3} x^{3} + 426 \\pi^{2} x^{4} - 88 \\pi x^{5} + 8 x^{6}} + \\frac{4928 e^{2} \\pi^{3} x^{3} \\sin{\\left(i \\right)} \\sin{\\left(w \\right)}}{125 \\pi^{6} - 300 \\pi^{5} x + 315 \\pi^{4} x^{2} - 184 \\pi^{3} x^{3} + 63 \\pi^{2} x^{4} - 12 \\pi x^{5} + x^{6}} - \\frac{240 e^{2} \\pi^{3} x}{25 \\pi^{4} - 40 \\pi^{3} x + 26 \\pi^{2} x^{2} - 8 \\pi x^{3} + x^{4}} + \\frac{12672 e^{2} \\pi^{2} x^{4} \\sin{\\left(i \\right)} \\cos{\\left(w \\right)}}{650 \\pi^{6} - 1640 \\pi^{5} x + 1836 \\pi^{4} x^{2} - 1152 \\pi^{3} x^{3} + 426 \\pi^{2} x^{4} - 88 \\pi x^{5} + 8 x^{6}} - \\frac{1896 e^{2} \\pi^{2} x^{4} \\sin{\\left(i \\right)} \\sin{\\left(w \\right)}}{125 \\pi^{6} - 300 \\pi^{5} x + 315 \\pi^{4} x^{2} - 184 \\pi^{3} x^{3} + 63 \\pi^{2} x^{4} - 12 \\pi x^{5} + x^{6}} + \\frac{188 e^{2} \\pi^{2} x^{2}}{25 \\pi^{4} - 40 \\pi^{3} x + 26 \\pi^{2} x^{2} - 8 \\pi x^{3} + x^{4}} - \\frac{2816 e^{2} \\pi x^{5} \\sin{\\left(i \\right)} \\cos{\\left(w \\right)}}{650 \\pi^{6} - 1640 \\pi^{5} x + 1836 \\pi^{4} x^{2} - 1152 \\pi^{3} x^{3} + 426 \\pi^{2} x^{4} - 88 \\pi x^{5} + 8 x^{6}} + \\frac{384 e^{2} \\pi x^{5} \\sin{\\left(i \\right)} \\sin{\\left(w \\right)}}{125 \\pi^{6} - 300 \\pi^{5} x + 315 \\pi^{4} x^{2} - 184 \\pi^{3} x^{3} + 63 \\pi^{2} x^{4} - 12 \\pi x^{5} + x^{6}} - \\frac{64 e^{2} \\pi x^{3}}{25 \\pi^{4} - 40 \\pi^{3} x + 26 \\pi^{2} x^{2} - 8 \\pi x^{3} + x^{4}} + \\frac{256 e^{2} x^{6} \\sin{\\left(i \\right)} \\cos{\\left(w \\right)}}{650 \\pi^{6} - 1640 \\pi^{5} x + 1836 \\pi^{4} x^{2} - 1152 \\pi^{3} x^{3} + 426 \\pi^{2} x^{4} - 88 \\pi x^{5} + 8 x^{6}} - \\frac{32 e^{2} x^{6} \\sin{\\left(i \\right)} \\sin{\\left(w \\right)}}{125 \\pi^{6} - 300 \\pi^{5} x + 315 \\pi^{4} x^{2} - 184 \\pi^{3} x^{3} + 63 \\pi^{2} x^{4} - 12 \\pi x^{5} + x^{6}} + \\frac{8 e^{2} x^{4}}{25 \\pi^{4} - 40 \\pi^{3} x + 26 \\pi^{2} x^{2} - 8 \\pi x^{3} + x^{4}} - \\frac{480 e \\pi^{4} \\sin{\\left(i \\right)} \\cos{\\left(w \\right)}}{65 \\pi^{4} - 112 \\pi^{3} x + 81 \\pi^{2} x^{2} - 28 \\pi x^{3} + 4 x^{4}} + \\frac{225 e \\pi^{4} \\sin{\\left(i \\right)} \\sin{\\left(w \\right)}}{25 \\pi^{4} - 40 \\pi^{3} x + 26 \\pi^{2} x^{2} - 8 \\pi x^{3} + x^{4}} + \\frac{1232 e \\pi^{3} x \\sin{\\left(i \\right)} \\cos{\\left(w \\right)}}{65 \\pi^{4} - 112 \\pi^{3} x + 81 \\pi^{2} x^{2} - 28 \\pi x^{3} + 4 x^{4}} - \\frac{480 e \\pi^{3} x \\sin{\\left(i \\right)} \\sin{\\left(w \\right)}}{25 \\pi^{4} - 40 \\pi^{3} x + 26 \\pi^{2} x^{2} - 8 \\pi x^{3} + x^{4}} - \\frac{1136 e \\pi^{2} x^{2} \\sin{\\left(i \\right)} \\cos{\\left(w \\right)}}{65 \\pi^{4} - 112 \\pi^{3} x + 81 \\pi^{2} x^{2} - 28 \\pi x^{3} + 4 x^{4}} + \\frac{376 e \\pi^{2} x^{2} \\sin{\\left(i \\right)} \\sin{\\left(w \\right)}}{25 \\pi^{4} - 40 \\pi^{3} x + 26 \\pi^{2} x^{2} - 8 \\pi x^{3} + x^{4}} - \\frac{15 e \\pi^{2}}{5 \\pi^{2} - 4 \\pi x + x^{2}} + \\frac{448 e \\pi x^{3} \\sin{\\left(i \\right)} \\cos{\\left(w \\right)}}{65 \\pi^{4} - 112 \\pi^{3} x + 81 \\pi^{2} x^{2} - 28 \\pi x^{3} + 4 x^{4}} - \\frac{128 e \\pi x^{3} \\sin{\\left(i \\right)} \\sin{\\left(w \\right)}}{25 \\pi^{4} - 40 \\pi^{3} x + 26 \\pi^{2} x^{2} - 8 \\pi x^{3} + x^{4}} + \\frac{16 e \\pi x}{5 \\pi^{2} - 4 \\pi x + x^{2}} - \\frac{64 e x^{4} \\sin{\\left(i \\right)} \\cos{\\left(w \\right)}}{65 \\pi^{4} - 112 \\pi^{3} x + 81 \\pi^{2} x^{2} - 28 \\pi x^{3} + 4 x^{4}} + \\frac{16 e x^{4} \\sin{\\left(i \\right)} \\sin{\\left(w \\right)}}{25 \\pi^{4} - 40 \\pi^{3} x + 26 \\pi^{2} x^{2} - 8 \\pi x^{3} + x^{4}} - \\frac{4 e x^{2}}{5 \\pi^{2} - 4 \\pi x + x^{2}} - lhs + \\frac{16 \\pi^{2} \\sin{\\left(i \\right)} \\cos{\\left(w \\right)}}{13 \\pi^{2} - 12 \\pi x + 4 x^{2}} - \\frac{15 \\pi^{2} \\sin{\\left(i \\right)} \\sin{\\left(w \\right)}}{2 \\left(5 \\pi^{2} - 4 \\pi x + x^{2}\\right)} - \\frac{24 \\pi x \\sin{\\left(i \\right)} \\cos{\\left(w \\right)}}{13 \\pi^{2} - 12 \\pi x + 4 x^{2}} + \\frac{8 \\pi x \\sin{\\left(i \\right)} \\sin{\\left(w \\right)}}{5 \\pi^{2} - 4 \\pi x + x^{2}} + \\frac{8 x^{2} \\sin{\\left(i \\right)} \\cos{\\left(w \\right)}}{13 \\pi^{2} - 12 \\pi x + 4 x^{2}} - \\frac{2 x^{2} \\sin{\\left(i \\right)} \\sin{\\left(w \\right)}}{5 \\pi^{2} - 4 \\pi x + x^{2}} + \\frac{1}{2}$"
      ],
      "text/plain": [
       "7200*e**2*pi**6*sin(i)*cos(w)/(650*pi**6 - 1640*pi**5*x + 1836*pi**4*x**2 - 1152*pi**3*x**3 + 426*pi**2*x**4 - 88*pi*x**5 + 8*x**6) - 3375*e**2*pi**6*sin(i)*sin(w)/(2*(125*pi**6 - 300*pi**5*x + 315*pi**4*x**2 - 184*pi**3*x**3 + 63*pi**2*x**4 - 12*pi*x**5 + x**6)) - 26160*e**2*pi**5*x*sin(i)*cos(w)/(650*pi**6 - 1640*pi**5*x + 1836*pi**4*x**2 - 1152*pi**3*x**3 + 426*pi**2*x**4 - 88*pi*x**5 + 8*x**6) + 5400*e**2*pi**5*x*sin(i)*sin(w)/(125*pi**6 - 300*pi**5*x + 315*pi**4*x**2 - 184*pi**3*x**3 + 63*pi**2*x**4 - 12*pi*x**5 + x**6) + 38672*e**2*pi**4*x**2*sin(i)*cos(w)/(650*pi**6 - 1640*pi**5*x + 1836*pi**4*x**2 - 1152*pi**3*x**3 + 426*pi**2*x**4 - 88*pi*x**5 + 8*x**6) - 7110*e**2*pi**4*x**2*sin(i)*sin(w)/(125*pi**6 - 300*pi**5*x + 315*pi**4*x**2 - 184*pi**3*x**3 + 63*pi**2*x**4 - 12*pi*x**5 + x**6) + 225*e**2*pi**4/(2*(25*pi**4 - 40*pi**3*x + 26*pi**2*x**2 - 8*pi*x**3 + x**4)) - 29824*e**2*pi**3*x**3*sin(i)*cos(w)/(650*pi**6 - 1640*pi**5*x + 1836*pi**4*x**2 - 1152*pi**3*x**3 + 426*pi**2*x**4 - 88*pi*x**5 + 8*x**6) + 4928*e**2*pi**3*x**3*sin(i)*sin(w)/(125*pi**6 - 300*pi**5*x + 315*pi**4*x**2 - 184*pi**3*x**3 + 63*pi**2*x**4 - 12*pi*x**5 + x**6) - 240*e**2*pi**3*x/(25*pi**4 - 40*pi**3*x + 26*pi**2*x**2 - 8*pi*x**3 + x**4) + 12672*e**2*pi**2*x**4*sin(i)*cos(w)/(650*pi**6 - 1640*pi**5*x + 1836*pi**4*x**2 - 1152*pi**3*x**3 + 426*pi**2*x**4 - 88*pi*x**5 + 8*x**6) - 1896*e**2*pi**2*x**4*sin(i)*sin(w)/(125*pi**6 - 300*pi**5*x + 315*pi**4*x**2 - 184*pi**3*x**3 + 63*pi**2*x**4 - 12*pi*x**5 + x**6) + 188*e**2*pi**2*x**2/(25*pi**4 - 40*pi**3*x + 26*pi**2*x**2 - 8*pi*x**3 + x**4) - 2816*e**2*pi*x**5*sin(i)*cos(w)/(650*pi**6 - 1640*pi**5*x + 1836*pi**4*x**2 - 1152*pi**3*x**3 + 426*pi**2*x**4 - 88*pi*x**5 + 8*x**6) + 384*e**2*pi*x**5*sin(i)*sin(w)/(125*pi**6 - 300*pi**5*x + 315*pi**4*x**2 - 184*pi**3*x**3 + 63*pi**2*x**4 - 12*pi*x**5 + x**6) - 64*e**2*pi*x**3/(25*pi**4 - 40*pi**3*x + 26*pi**2*x**2 - 8*pi*x**3 + x**4) + 256*e**2*x**6*sin(i)*cos(w)/(650*pi**6 - 1640*pi**5*x + 1836*pi**4*x**2 - 1152*pi**3*x**3 + 426*pi**2*x**4 - 88*pi*x**5 + 8*x**6) - 32*e**2*x**6*sin(i)*sin(w)/(125*pi**6 - 300*pi**5*x + 315*pi**4*x**2 - 184*pi**3*x**3 + 63*pi**2*x**4 - 12*pi*x**5 + x**6) + 8*e**2*x**4/(25*pi**4 - 40*pi**3*x + 26*pi**2*x**2 - 8*pi*x**3 + x**4) - 480*e*pi**4*sin(i)*cos(w)/(65*pi**4 - 112*pi**3*x + 81*pi**2*x**2 - 28*pi*x**3 + 4*x**4) + 225*e*pi**4*sin(i)*sin(w)/(25*pi**4 - 40*pi**3*x + 26*pi**2*x**2 - 8*pi*x**3 + x**4) + 1232*e*pi**3*x*sin(i)*cos(w)/(65*pi**4 - 112*pi**3*x + 81*pi**2*x**2 - 28*pi*x**3 + 4*x**4) - 480*e*pi**3*x*sin(i)*sin(w)/(25*pi**4 - 40*pi**3*x + 26*pi**2*x**2 - 8*pi*x**3 + x**4) - 1136*e*pi**2*x**2*sin(i)*cos(w)/(65*pi**4 - 112*pi**3*x + 81*pi**2*x**2 - 28*pi*x**3 + 4*x**4) + 376*e*pi**2*x**2*sin(i)*sin(w)/(25*pi**4 - 40*pi**3*x + 26*pi**2*x**2 - 8*pi*x**3 + x**4) - 15*e*pi**2/(5*pi**2 - 4*pi*x + x**2) + 448*e*pi*x**3*sin(i)*cos(w)/(65*pi**4 - 112*pi**3*x + 81*pi**2*x**2 - 28*pi*x**3 + 4*x**4) - 128*e*pi*x**3*sin(i)*sin(w)/(25*pi**4 - 40*pi**3*x + 26*pi**2*x**2 - 8*pi*x**3 + x**4) + 16*e*pi*x/(5*pi**2 - 4*pi*x + x**2) - 64*e*x**4*sin(i)*cos(w)/(65*pi**4 - 112*pi**3*x + 81*pi**2*x**2 - 28*pi*x**3 + 4*x**4) + 16*e*x**4*sin(i)*sin(w)/(25*pi**4 - 40*pi**3*x + 26*pi**2*x**2 - 8*pi*x**3 + x**4) - 4*e*x**2/(5*pi**2 - 4*pi*x + x**2) - lhs + 16*pi**2*sin(i)*cos(w)/(13*pi**2 - 12*pi*x + 4*x**2) - 15*pi**2*sin(i)*sin(w)/(2*(5*pi**2 - 4*pi*x + x**2)) - 24*pi*x*sin(i)*cos(w)/(13*pi**2 - 12*pi*x + 4*x**2) + 8*pi*x*sin(i)*sin(w)/(5*pi**2 - 4*pi*x + x**2) + 8*x**2*sin(i)*cos(w)/(13*pi**2 - 12*pi*x + 4*x**2) - 2*x**2*sin(i)*sin(w)/(5*pi**2 - 4*pi*x + x**2) + 1/2"
      ]
     },
     "execution_count": 167,
     "metadata": {},
     "output_type": "execute_result"
    }
   ],
   "source": [
    "sp.expand(fullEqnBhaskara3piby2_2pi)"
   ]
  },
  {
   "cell_type": "markdown",
   "metadata": {},
   "source": [
    "# Complex Trig Functions"
   ]
  },
  {
   "cell_type": "code",
   "execution_count": 62,
   "metadata": {},
   "outputs": [],
   "source": [
    "x = sp.symbols('x',real=True)\n",
    "trigFuncs = [sp.sin(x)**2*sp.cos(x)**2,\n",
    "sp.sin(x)*sp.cos(x)**3,\n",
    "sp.cos(x)**4,\n",
    "sp.sin(x)*sp.cos(x)**2,\n",
    "sp.cos(x)**3,\n",
    "sp.sin(x)**2*sp.cos(x),\n",
    "sp.sin(x)*sp.cos(x)**2]\n",
    "diffTrigFuncs = [sp.diff(trigFuncs[i],x) for i in np.arange(len(trigFuncs))]"
   ]
  },
  {
   "cell_type": "code",
   "execution_count": 63,
   "metadata": {},
   "outputs": [
    {
     "data": {
      "text/plain": [
       "[-2*sin(x)**3*cos(x) + 2*sin(x)*cos(x)**3,\n",
       " -3*sin(x)**2*cos(x)**2 + cos(x)**4,\n",
       " -4*sin(x)*cos(x)**3,\n",
       " -2*sin(x)**2*cos(x) + cos(x)**3,\n",
       " -3*sin(x)*cos(x)**2,\n",
       " -sin(x)**3 + 2*sin(x)*cos(x)**2,\n",
       " -2*sin(x)**2*cos(x) + cos(x)**3]"
      ]
     },
     "execution_count": 63,
     "metadata": {},
     "output_type": "execute_result"
    }
   ],
   "source": [
    "diffTrigFuncs"
   ]
  },
  {
   "cell_type": "markdown",
   "metadata": {},
   "source": [
    "# Quasi Lambert"
   ]
  },
  {
   "cell_type": "code",
   "execution_count": 53,
   "metadata": {},
   "outputs": [],
   "source": [
    "lhs = sp.symbols('lhs',real=True)"
   ]
  },
  {
   "cell_type": "code",
   "execution_count": 64,
   "metadata": {},
   "outputs": [],
   "source": [
    "rhsEqn = 1/4*(1+sp.sin(inc)*sp.sin(v+w))**2*(e*sp.cos(v)+1)**2"
   ]
  },
  {
   "cell_type": "code",
   "execution_count": 65,
   "metadata": {},
   "outputs": [],
   "source": [
    "rhsEqn = sp.expand(rhsEqn.subs(sp.sin(v+w),sinvpw))"
   ]
  },
  {
   "cell_type": "code",
   "execution_count": 66,
   "metadata": {},
   "outputs": [
    {
     "data": {
      "text/latex": [
       "$\\displaystyle 0.25 e^{2} \\sin^{2}{\\left(i \\right)} \\sin^{2}{\\left(v \\right)} \\cos^{2}{\\left(v \\right)} \\cos^{2}{\\left(w \\right)} + 0.5 e^{2} \\sin^{2}{\\left(i \\right)} \\sin{\\left(v \\right)} \\sin{\\left(w \\right)} \\cos^{3}{\\left(v \\right)} \\cos{\\left(w \\right)} + 0.25 e^{2} \\sin^{2}{\\left(i \\right)} \\sin^{2}{\\left(w \\right)} \\cos^{4}{\\left(v \\right)} + 0.5 e^{2} \\sin{\\left(i \\right)} \\sin{\\left(v \\right)} \\cos^{2}{\\left(v \\right)} \\cos{\\left(w \\right)} + 0.5 e^{2} \\sin{\\left(i \\right)} \\sin{\\left(w \\right)} \\cos^{3}{\\left(v \\right)} + 0.25 e^{2} \\cos^{2}{\\left(v \\right)} + 0.5 e \\sin^{2}{\\left(i \\right)} \\sin^{2}{\\left(v \\right)} \\cos{\\left(v \\right)} \\cos^{2}{\\left(w \\right)} + 1.0 e \\sin^{2}{\\left(i \\right)} \\sin{\\left(v \\right)} \\sin{\\left(w \\right)} \\cos^{2}{\\left(v \\right)} \\cos{\\left(w \\right)} + 0.5 e \\sin^{2}{\\left(i \\right)} \\sin^{2}{\\left(w \\right)} \\cos^{3}{\\left(v \\right)} + 1.0 e \\sin{\\left(i \\right)} \\sin{\\left(v \\right)} \\cos{\\left(v \\right)} \\cos{\\left(w \\right)} + 1.0 e \\sin{\\left(i \\right)} \\sin{\\left(w \\right)} \\cos^{2}{\\left(v \\right)} + 0.5 e \\cos{\\left(v \\right)} + 0.25 \\sin^{2}{\\left(i \\right)} \\sin^{2}{\\left(v \\right)} \\cos^{2}{\\left(w \\right)} + 0.5 \\sin^{2}{\\left(i \\right)} \\sin{\\left(v \\right)} \\sin{\\left(w \\right)} \\cos{\\left(v \\right)} \\cos{\\left(w \\right)} + 0.25 \\sin^{2}{\\left(i \\right)} \\sin^{2}{\\left(w \\right)} \\cos^{2}{\\left(v \\right)} + 0.5 \\sin{\\left(i \\right)} \\sin{\\left(v \\right)} \\cos{\\left(w \\right)} + 0.5 \\sin{\\left(i \\right)} \\sin{\\left(w \\right)} \\cos{\\left(v \\right)} + 0.25$"
      ],
      "text/plain": [
       "0.25*e**2*sin(i)**2*sin(v)**2*cos(v)**2*cos(w)**2 + 0.5*e**2*sin(i)**2*sin(v)*sin(w)*cos(v)**3*cos(w) + 0.25*e**2*sin(i)**2*sin(w)**2*cos(v)**4 + 0.5*e**2*sin(i)*sin(v)*cos(v)**2*cos(w) + 0.5*e**2*sin(i)*sin(w)*cos(v)**3 + 0.25*e**2*cos(v)**2 + 0.5*e*sin(i)**2*sin(v)**2*cos(v)*cos(w)**2 + 1.0*e*sin(i)**2*sin(v)*sin(w)*cos(v)**2*cos(w) + 0.5*e*sin(i)**2*sin(w)**2*cos(v)**3 + 1.0*e*sin(i)*sin(v)*cos(v)*cos(w) + 1.0*e*sin(i)*sin(w)*cos(v)**2 + 0.5*e*cos(v) + 0.25*sin(i)**2*sin(v)**2*cos(w)**2 + 0.5*sin(i)**2*sin(v)*sin(w)*cos(v)*cos(w) + 0.25*sin(i)**2*sin(w)**2*cos(v)**2 + 0.5*sin(i)*sin(v)*cos(w) + 0.5*sin(i)*sin(w)*cos(v) + 0.25"
      ]
     },
     "execution_count": 66,
     "metadata": {},
     "output_type": "execute_result"
    }
   ],
   "source": [
    "rhsEqn"
   ]
  },
  {
   "cell_type": "code",
   "execution_count": 69,
   "metadata": {},
   "outputs": [],
   "source": [
    "#Substitue in polynomial approximations\n",
    "c0 = sp.symbols('c_0l0:%d'%5,real=True)\n",
    "c1 = sp.symbols('c_1l0:%d'%5,real=True)\n",
    "c2 = sp.symbols('c_2l0:%d'%5,real=True)\n",
    "c3 = sp.symbols('c_3l0:%d'%5,real=True)\n",
    "c4 = sp.symbols('c_4l0:%d'%5,real=True)\n",
    "c5 = sp.symbols('c_5l0:%d'%5,real=True)\n",
    "c6 = sp.symbols('c_6l0:%d'%5,real=True)\n",
    "rhsEqn = rhsEqn.subs(sp.sin(v)**2*sp.cos(v)**2,c0[0]*x**4+c0[1]*x**3+c0[2]*x**2+c0[3]*x+c0[4])\n",
    "rhsEqn = rhsEqn.subs(sp.sin(v)*sp.cos(v)**3,   c1[0]*x**4+c1[1]*x**3+c1[2]*x**2+c1[3]*x+c1[4])\n",
    "rhsEqn = rhsEqn.subs(sp.cos(v)**4,             c2[0]*x**4+c2[1]*x**3+c2[2]*x**2+c2[3]*x+c2[4])\n",
    "rhsEqn = rhsEqn.subs(sp.sin(v)*sp.cos(v)**2,   c3[0]*x**4+c3[1]*x**3+c3[2]*x**2+c3[3]*x+c3[4])\n",
    "rhsEqn = rhsEqn.subs(sp.cos(v)**3,             c4[0]*x**4+c4[1]*x**3+c4[2]*x**2+c4[3]*x+c4[4])\n",
    "rhsEqn = rhsEqn.subs(sp.sin(v)**2*sp.cos(v),   c5[0]*x**4+c5[1]*x**3+c5[2]*x**2+c5[3]*x+c5[4])\n",
    "rhsEqn = rhsEqn.subs(sp.sin(v)*sp.cos(v)**2,   c6[0]*x**4+c6[1]*x**3+c6[2]*x**2+c6[3]*x+c6[4])\n",
    "#Subs in Bhaskara\n",
    "LEFT OFF HERE... NEED TO BE CAREFUL... WILL NEED TO SUBS IN DIFFERENT BHASKARA FOR DIFFERENT NU RANGES"
   ]
  },
  {
   "cell_type": "code",
   "execution_count": 70,
   "metadata": {},
   "outputs": [
    {
     "data": {
      "text/latex": [
       "$\\displaystyle 0.25 e^{2} \\left(c_{0} x^{4} + c_{1} x^{3} + c_{2} x^{2} + c_{3} x + c_{4}\\right) \\sin^{2}{\\left(i \\right)} \\cos^{2}{\\left(w \\right)} + 0.5 e^{2} \\left(c_{1l0} x^{4} + c_{1l1} x^{3} + c_{1l2} x^{2} + c_{1l3} x + c_{1l4}\\right) \\sin^{2}{\\left(i \\right)} \\sin{\\left(w \\right)} \\cos{\\left(w \\right)} + 0.5 e^{2} \\sqrt{c_{2l0} x^{4} + c_{2l1} x^{3} + c_{2l2} x^{2} + c_{2l3} x + c_{2l4}} \\sin{\\left(i \\right)} \\sin{\\left(v \\right)} \\cos{\\left(w \\right)} + 0.25 e^{2} \\sqrt{c_{2l0} x^{4} + c_{2l1} x^{3} + c_{2l2} x^{2} + c_{2l3} x + c_{2l4}} + 0.25 e^{2} \\left(c_{2l0} x^{4} + c_{2l1} x^{3} + c_{2l2} x^{2} + c_{2l3} x + c_{2l4}\\right) \\sin^{2}{\\left(i \\right)} \\sin^{2}{\\left(w \\right)} + 0.5 e^{2} \\left(c_{4l0} x^{4} + c_{4l1} x^{3} + c_{4l2} x^{2} + c_{4l3} x + c_{4l4}\\right) \\sin{\\left(i \\right)} \\sin{\\left(w \\right)} + 1.0 e \\sqrt{c_{2l0} x^{4} + c_{2l1} x^{3} + c_{2l2} x^{2} + c_{2l3} x + c_{2l4}} \\sin^{2}{\\left(i \\right)} \\sin{\\left(v \\right)} \\sin{\\left(w \\right)} \\cos{\\left(w \\right)} + 1.0 e \\sqrt{c_{2l0} x^{4} + c_{2l1} x^{3} + c_{2l2} x^{2} + c_{2l3} x + c_{2l4}} \\sin{\\left(i \\right)} \\sin{\\left(w \\right)} + 0.5 e \\left(c_{4l0} x^{4} + c_{4l1} x^{3} + c_{4l2} x^{2} + c_{4l3} x + c_{4l4}\\right) \\sin^{2}{\\left(i \\right)} \\sin^{2}{\\left(w \\right)} + 0.5 e \\left(c_{5l0} x^{4} + c_{5l1} x^{3} + c_{5l2} x^{2} + c_{5l3} x + c_{5l4}\\right) \\sin^{2}{\\left(i \\right)} \\cos^{2}{\\left(w \\right)} + 1.0 e \\sin{\\left(i \\right)} \\sin{\\left(v \\right)} \\cos{\\left(v \\right)} \\cos{\\left(w \\right)} + 0.5 e \\cos{\\left(v \\right)} + 0.25 \\sqrt{c_{2l0} x^{4} + c_{2l1} x^{3} + c_{2l2} x^{2} + c_{2l3} x + c_{2l4}} \\sin^{2}{\\left(i \\right)} \\sin^{2}{\\left(w \\right)} + 0.25 \\sin^{2}{\\left(i \\right)} \\sin^{2}{\\left(v \\right)} \\cos^{2}{\\left(w \\right)} + 0.5 \\sin^{2}{\\left(i \\right)} \\sin{\\left(v \\right)} \\sin{\\left(w \\right)} \\cos{\\left(v \\right)} \\cos{\\left(w \\right)} + 0.5 \\sin{\\left(i \\right)} \\sin{\\left(v \\right)} \\cos{\\left(w \\right)} + 0.5 \\sin{\\left(i \\right)} \\sin{\\left(w \\right)} \\cos{\\left(v \\right)} + 0.25$"
      ],
      "text/plain": [
       "0.25*e**2*(c_0*x**4 + c_1*x**3 + c_2*x**2 + c_3*x + c_4)*sin(i)**2*cos(w)**2 + 0.5*e**2*(c_1l0*x**4 + c_1l1*x**3 + c_1l2*x**2 + c_1l3*x + c_1l4)*sin(i)**2*sin(w)*cos(w) + 0.5*e**2*sqrt(c_2l0*x**4 + c_2l1*x**3 + c_2l2*x**2 + c_2l3*x + c_2l4)*sin(i)*sin(v)*cos(w) + 0.25*e**2*sqrt(c_2l0*x**4 + c_2l1*x**3 + c_2l2*x**2 + c_2l3*x + c_2l4) + 0.25*e**2*(c_2l0*x**4 + c_2l1*x**3 + c_2l2*x**2 + c_2l3*x + c_2l4)*sin(i)**2*sin(w)**2 + 0.5*e**2*(c_4l0*x**4 + c_4l1*x**3 + c_4l2*x**2 + c_4l3*x + c_4l4)*sin(i)*sin(w) + 1.0*e*sqrt(c_2l0*x**4 + c_2l1*x**3 + c_2l2*x**2 + c_2l3*x + c_2l4)*sin(i)**2*sin(v)*sin(w)*cos(w) + 1.0*e*sqrt(c_2l0*x**4 + c_2l1*x**3 + c_2l2*x**2 + c_2l3*x + c_2l4)*sin(i)*sin(w) + 0.5*e*(c_4l0*x**4 + c_4l1*x**3 + c_4l2*x**2 + c_4l3*x + c_4l4)*sin(i)**2*sin(w)**2 + 0.5*e*(c_5l0*x**4 + c_5l1*x**3 + c_5l2*x**2 + c_5l3*x + c_5l4)*sin(i)**2*cos(w)**2 + 1.0*e*sin(i)*sin(v)*cos(v)*cos(w) + 0.5*e*cos(v) + 0.25*sqrt(c_2l0*x**4 + c_2l1*x**3 + c_2l2*x**2 + c_2l3*x + c_2l4)*sin(i)**2*sin(w)**2 + 0.25*sin(i)**2*sin(v)**2*cos(w)**2 + 0.5*sin(i)**2*sin(v)*sin(w)*cos(v)*cos(w) + 0.5*sin(i)*sin(v)*cos(w) + 0.5*sin(i)*sin(w)*cos(v) + 0.25"
      ]
     },
     "execution_count": 70,
     "metadata": {},
     "output_type": "execute_result"
    }
   ],
   "source": [
    "rhsEqn"
   ]
  },
  {
   "cell_type": "code",
   "execution_count": null,
   "metadata": {},
   "outputs": [],
   "source": []
  }
 ],
 "metadata": {
  "kernelspec": {
   "display_name": "Python 3",
   "language": "python",
   "name": "python3"
  },
  "language_info": {
   "codemirror_mode": {
    "name": "ipython",
    "version": 3
   },
   "file_extension": ".py",
   "mimetype": "text/x-python",
   "name": "python",
   "nbconvert_exporter": "python",
   "pygments_lexer": "ipython3",
   "version": "3.7.7"
  }
 },
 "nbformat": 4,
 "nbformat_minor": 4
}
