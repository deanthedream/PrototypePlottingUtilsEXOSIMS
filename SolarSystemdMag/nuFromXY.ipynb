{
 "cells": [
  {
   "cell_type": "code",
   "execution_count": 100,
   "metadata": {},
   "outputs": [],
   "source": [
    "import sympy as sp\n",
    "import numpy as np"
   ]
  },
  {
   "cell_type": "code",
   "execution_count": 101,
   "metadata": {},
   "outputs": [],
   "source": [
    "#Symbols\n",
    "v, x, y, z, W, w, inc, a, e, a1e2 = sp.symbols('nu x y z Omega omega i a e a1e2')"
   ]
  },
  {
   "cell_type": "markdown",
   "metadata": {},
   "source": [
    "# XYZ Equations"
   ]
  },
  {
   "cell_type": "code",
   "execution_count": 102,
   "metadata": {},
   "outputs": [],
   "source": [
    "eqnr = a*(1-e**2)/(1+e*sp.cos(v))"
   ]
  },
  {
   "cell_type": "code",
   "execution_count": 103,
   "metadata": {},
   "outputs": [],
   "source": [
    "eqnX = eqnr*(sp.cos(W)*sp.cos(w+v) - sp.sin(W)*sp.sin(w+v)*sp.cos(inc)) - x\n",
    "eqnY = eqnr*(sp.sin(W)*sp.cos(w+v) + sp.cos(W)*sp.sin(w+v)*sp.cos(inc)) - y\n",
    "eqnZ = eqnr*(sp.sin(inc)*sp.sin(w+v)) - z"
   ]
  },
  {
   "cell_type": "markdown",
   "metadata": {},
   "source": [
    "# Sin(w+v) and Cos(w+v) Replacements"
   ]
  },
  {
   "cell_type": "code",
   "execution_count": 104,
   "metadata": {},
   "outputs": [],
   "source": [
    "sinApB = sp.sin(v)*sp.cos(w) + sp.cos(v)*sp.sin(w)#sin(v+w)\n",
    "sinAmB = sp.sin(v)*sp.cos(w) - sp.cos(v)*sp.sin(w)#sin(v-w)\n",
    "cosApB = sp.cos(v)*sp.cos(w) - sp.sin(v)*sp.sin(w)#cos(v+w)\n",
    "cosAmB = sp.cos(v)*sp.cos(w) + sp.sin(v)*sp.sin(w)#cos(v-w)"
   ]
  },
  {
   "cell_type": "markdown",
   "metadata": {},
   "source": [
    "# Extract cos(v) and sin(v) Coefficients"
   ]
  },
  {
   "cell_type": "code",
   "execution_count": 105,
   "metadata": {},
   "outputs": [],
   "source": [
    "xpolycos = sp.poly(sp.expand(((eqnX+x)*(e*sp.cos(v) + 1)).subs(sp.sin(w+v),sinApB).subs(sp.cos(w+v),cosApB).subs(a*(1-e**2),a1e2)),sp.cos(v))\n",
    "xpolysin = sp.poly(sp.expand(((eqnX+x)*(e*sp.cos(v) + 1)).subs(sp.sin(w+v),sinApB).subs(sp.cos(w+v),cosApB).subs(a*(1-e**2),a1e2)),sp.sin(v))\n",
    "Aeqn = xpolycos.coeffs()[0]\n",
    "Beqn = xpolysin.coeffs()[0]"
   ]
  },
  {
   "cell_type": "code",
   "execution_count": 106,
   "metadata": {},
   "outputs": [
    {
     "data": {
      "text/latex": [
       "$\\displaystyle - a1e2 \\sin{\\left(\\Omega \\right)} \\sin{\\left(\\omega \\right)} \\cos{\\left(i \\right)} + a1e2 \\cos{\\left(\\Omega \\right)} \\cos{\\left(\\omega \\right)}$"
      ],
      "text/plain": [
       "-a1e2*sin(Omega)*sin(omega)*cos(i) + a1e2*cos(Omega)*cos(omega)"
      ]
     },
     "execution_count": 106,
     "metadata": {},
     "output_type": "execute_result"
    }
   ],
   "source": [
    " xpolycos.coeffs()[0] #this means "
   ]
  },
  {
   "cell_type": "code",
   "execution_count": 107,
   "metadata": {},
   "outputs": [
    {
     "data": {
      "text/latex": [
       "$\\displaystyle - a1e2 \\sin{\\left(\\Omega \\right)} \\sin{\\left(\\nu \\right)} \\cos{\\left(i \\right)} \\cos{\\left(\\omega \\right)} - a1e2 \\sin{\\left(\\nu \\right)} \\sin{\\left(\\omega \\right)} \\cos{\\left(\\Omega \\right)}$"
      ],
      "text/plain": [
       "-a1e2*sin(Omega)*sin(nu)*cos(i)*cos(omega) - a1e2*sin(nu)*sin(omega)*cos(Omega)"
      ]
     },
     "execution_count": 107,
     "metadata": {},
     "output_type": "execute_result"
    }
   ],
   "source": [
    "xpolycos.coeffs()[1]"
   ]
  },
  {
   "cell_type": "code",
   "execution_count": null,
   "metadata": {},
   "outputs": [],
   "source": []
  },
  {
   "cell_type": "code",
   "execution_count": 108,
   "metadata": {},
   "outputs": [],
   "source": [
    "ypolycos = sp.poly(sp.expand(((eqnY+y)*(e*sp.cos(v) + 1)).subs(sp.sin(w+v),sinApB).subs(sp.cos(w+v),cosApB).subs(a*(1-e**2),a1e2)),sp.cos(v))\n",
    "ypolysin = sp.poly(sp.expand(((eqnY+y)*(e*sp.cos(v) + 1)).subs(sp.sin(w+v),sinApB).subs(sp.cos(w+v),cosApB).subs(a*(1-e**2),a1e2)),sp.sin(v))\n",
    "Ceqn = ypolycos.coeffs()[0]\n",
    "Deqn = ypolysin.coeffs()[0]"
   ]
  },
  {
   "cell_type": "code",
   "execution_count": 109,
   "metadata": {},
   "outputs": [
    {
     "data": {
      "text/latex": [
       "$\\displaystyle a1e2 \\sin{\\left(\\Omega \\right)} \\cos{\\left(\\omega \\right)} + a1e2 \\sin{\\left(\\omega \\right)} \\cos{\\left(\\Omega \\right)} \\cos{\\left(i \\right)}$"
      ],
      "text/plain": [
       "a1e2*sin(Omega)*cos(omega) + a1e2*sin(omega)*cos(Omega)*cos(i)"
      ]
     },
     "execution_count": 109,
     "metadata": {},
     "output_type": "execute_result"
    }
   ],
   "source": [
    "Ceqn"
   ]
  },
  {
   "cell_type": "code",
   "execution_count": 110,
   "metadata": {},
   "outputs": [],
   "source": [
    "nuEqn = sp.atan2(-(Aeqn/x-Ceqn/y),(Beqn/x - Deqn/y))"
   ]
  },
  {
   "cell_type": "code",
   "execution_count": 111,
   "metadata": {},
   "outputs": [
    {
     "data": {
      "text/latex": [
       "$\\displaystyle \\operatorname{atan_{2}}{\\left(\\frac{a1e2 \\sin{\\left(\\Omega \\right)} \\cos{\\left(\\omega \\right)}}{y} + \\frac{a1e2 \\sin{\\left(\\omega \\right)} \\cos{\\left(\\Omega \\right)} \\cos{\\left(i \\right)}}{y} + \\frac{a1e2 \\sin{\\left(\\Omega \\right)} \\sin{\\left(\\omega \\right)} \\cos{\\left(i \\right)}}{x} - \\frac{a1e2 \\cos{\\left(\\Omega \\right)} \\cos{\\left(\\omega \\right)}}{x},\\frac{a1e2 \\sin{\\left(\\Omega \\right)} \\sin{\\left(\\omega \\right)}}{y} - \\frac{a1e2 \\cos{\\left(\\Omega \\right)} \\cos{\\left(i \\right)} \\cos{\\left(\\omega \\right)}}{y} - \\frac{a1e2 \\sin{\\left(\\Omega \\right)} \\cos{\\left(i \\right)} \\cos{\\left(\\omega \\right)}}{x} - \\frac{a1e2 \\sin{\\left(\\omega \\right)} \\cos{\\left(\\Omega \\right)}}{x} \\right)}$"
      ],
      "text/plain": [
       "atan2(a1e2*sin(Omega)*cos(omega)/y + a1e2*sin(omega)*cos(Omega)*cos(i)/y + a1e2*sin(Omega)*sin(omega)*cos(i)/x - a1e2*cos(Omega)*cos(omega)/x, a1e2*sin(Omega)*sin(omega)/y - a1e2*cos(Omega)*cos(i)*cos(omega)/y - a1e2*sin(Omega)*cos(i)*cos(omega)/x - a1e2*sin(omega)*cos(Omega)/x)"
      ]
     },
     "execution_count": 111,
     "metadata": {},
     "output_type": "execute_result"
    }
   ],
   "source": [
    "sp.expand(nuEqn)"
   ]
  },
  {
   "cell_type": "code",
   "execution_count": 124,
   "metadata": {},
   "outputs": [
    {
     "name": "stdout",
     "output_type": "stream",
     "text": [
      "sin(Omega)*cos(omega)/y + sin(omega)*cos(Omega)*cos(i)/y + sin(Omega)*sin(omega)*cos(i)/x - cos(Omega)*cos(omega)/x\n"
     ]
    }
   ],
   "source": [
    "print(sp.expand(-(Aeqn/x-Ceqn/y)).subs(a1e2,1))"
   ]
  },
  {
   "cell_type": "code",
   "execution_count": 125,
   "metadata": {},
   "outputs": [
    {
     "name": "stdout",
     "output_type": "stream",
     "text": [
      "sin(Omega)*sin(omega)/y - cos(Omega)*cos(i)*cos(omega)/y - sin(Omega)*cos(i)*cos(omega)/x - sin(omega)*cos(Omega)/x\n"
     ]
    }
   ],
   "source": [
    "print(sp.expand((Beqn/x - Deqn/y)).subs(a1e2,1))"
   ]
  },
  {
   "cell_type": "markdown",
   "metadata": {},
   "source": [
    "# Solving a different Way"
   ]
  },
  {
   "cell_type": "code",
   "execution_count": 114,
   "metadata": {},
   "outputs": [],
   "source": [
    "#a*(1-e**2)*(sp.cos(W)*sp.cos(w+v) - sp.sin(W)*sp.sin(w+v)*sp.cos(inc))/x = 1+e*sp.cos(v)\n",
    "#a*(1-e**2)*(sp.sin(W)*sp.cos(w+v) + sp.cos(W)*sp.sin(w+v)*sp.cos(inc))/y = 1+e*sp.cos(v)"
   ]
  },
  {
   "cell_type": "code",
   "execution_count": 115,
   "metadata": {},
   "outputs": [],
   "source": [
    "#setting equal to one another\n",
    "#a*(1-e**2)*(sp.cos(W)*sp.cos(w+v) - sp.sin(W)*sp.sin(w+v)*sp.cos(inc))/x = a*(1-e**2)*(sp.sin(W)*sp.cos(w+v) + sp.cos(W)*sp.sin(w+v)*sp.cos(inc))/y"
   ]
  },
  {
   "cell_type": "code",
   "execution_count": 120,
   "metadata": {},
   "outputs": [
    {
     "data": {
      "text/latex": [
       "$\\displaystyle - \\frac{a \\left(1 - e^{2}\\right) \\left(\\left(- \\sin{\\left(\\nu \\right)} \\sin{\\left(\\omega \\right)} + \\cos{\\left(\\nu \\right)} \\cos{\\left(\\omega \\right)}\\right) \\sin{\\left(\\Omega \\right)} + \\left(\\sin{\\left(\\nu \\right)} \\cos{\\left(\\omega \\right)} + \\sin{\\left(\\omega \\right)} \\cos{\\left(\\nu \\right)}\\right) \\cos{\\left(\\Omega \\right)} \\cos{\\left(i \\right)}\\right)}{y} + \\frac{a \\left(1 - e^{2}\\right) \\left(\\left(- \\sin{\\left(\\nu \\right)} \\sin{\\left(\\omega \\right)} + \\cos{\\left(\\nu \\right)} \\cos{\\left(\\omega \\right)}\\right) \\cos{\\left(\\Omega \\right)} - \\left(\\sin{\\left(\\nu \\right)} \\cos{\\left(\\omega \\right)} + \\sin{\\left(\\omega \\right)} \\cos{\\left(\\nu \\right)}\\right) \\sin{\\left(\\Omega \\right)} \\cos{\\left(i \\right)}\\right)}{x}$"
      ],
      "text/plain": [
       "-a*(1 - e**2)*((-sin(nu)*sin(omega) + cos(nu)*cos(omega))*sin(Omega) + (sin(nu)*cos(omega) + sin(omega)*cos(nu))*cos(Omega)*cos(i))/y + a*(1 - e**2)*((-sin(nu)*sin(omega) + cos(nu)*cos(omega))*cos(Omega) - (sin(nu)*cos(omega) + sin(omega)*cos(nu))*sin(Omega)*cos(i))/x"
      ]
     },
     "execution_count": 120,
     "metadata": {},
     "output_type": "execute_result"
    }
   ],
   "source": [
    "#Expanding those v+w terms\n",
    "#a*(1-e**2)*(sp.cos(W)*(sp.cos(v)*sp.cos(w) - sp.sin(v)*sp.sin(w)) - sp.sin(W)*(sp.sin(v)*sp.cos(w) + sp.cos(v)*sp.sin(w))*sp.cos(inc))/x = a*(1-e**2)*(sp.sin(W)*(sp.cos(v)*sp.cos(w) - sp.sin(v)*sp.sin(w)) + sp.cos(W)*(sp.sin(v)*sp.cos(w) + sp.cos(v)*sp.sin(w))*sp.cos(inc))/y\n",
    "a*(1-e**2)*(sp.cos(W)*(sp.cos(v)*sp.cos(w) - sp.sin(v)*sp.sin(w)) - sp.sin(W)*(sp.sin(v)*sp.cos(w) + sp.cos(v)*sp.sin(w))*sp.cos(inc))/x -( a*(1-e**2)*(sp.sin(W)*(sp.cos(v)*sp.cos(w) - sp.sin(v)*sp.sin(w)) + sp.cos(W)*(sp.sin(v)*sp.cos(w) + sp.cos(v)*sp.sin(w))*sp.cos(inc))/y)"
   ]
  },
  {
   "cell_type": "code",
   "execution_count": 122,
   "metadata": {},
   "outputs": [
    {
     "data": {
      "text/latex": [
       "$\\displaystyle \\frac{\\sin{\\left(\\Omega \\right)} \\sin{\\left(\\nu \\right)} \\sin{\\left(\\omega \\right)}}{y} - \\frac{\\sin{\\left(\\Omega \\right)} \\cos{\\left(\\nu \\right)} \\cos{\\left(\\omega \\right)}}{y} - \\frac{\\sin{\\left(\\nu \\right)} \\cos{\\left(\\Omega \\right)} \\cos{\\left(i \\right)} \\cos{\\left(\\omega \\right)}}{y} - \\frac{\\sin{\\left(\\omega \\right)} \\cos{\\left(\\Omega \\right)} \\cos{\\left(i \\right)} \\cos{\\left(\\nu \\right)}}{y} - \\frac{\\sin{\\left(\\Omega \\right)} \\sin{\\left(\\nu \\right)} \\cos{\\left(i \\right)} \\cos{\\left(\\omega \\right)}}{x} - \\frac{\\sin{\\left(\\Omega \\right)} \\sin{\\left(\\omega \\right)} \\cos{\\left(i \\right)} \\cos{\\left(\\nu \\right)}}{x} - \\frac{\\sin{\\left(\\nu \\right)} \\sin{\\left(\\omega \\right)} \\cos{\\left(\\Omega \\right)}}{x} + \\frac{\\cos{\\left(\\Omega \\right)} \\cos{\\left(\\nu \\right)} \\cos{\\left(\\omega \\right)}}{x}$"
      ],
      "text/plain": [
       "sin(Omega)*sin(nu)*sin(omega)/y - sin(Omega)*cos(nu)*cos(omega)/y - sin(nu)*cos(Omega)*cos(i)*cos(omega)/y - sin(omega)*cos(Omega)*cos(i)*cos(nu)/y - sin(Omega)*sin(nu)*cos(i)*cos(omega)/x - sin(Omega)*sin(omega)*cos(i)*cos(nu)/x - sin(nu)*sin(omega)*cos(Omega)/x + cos(Omega)*cos(nu)*cos(omega)/x"
      ]
     },
     "execution_count": 122,
     "metadata": {},
     "output_type": "execute_result"
    }
   ],
   "source": [
    "#Dividing by a(1-e**2)\n",
    "sp.expand((sp.cos(W)*(sp.cos(v)*sp.cos(w) - sp.sin(v)*sp.sin(w)) - sp.sin(W)*(sp.sin(v)*sp.cos(w) + sp.cos(v)*sp.sin(w))*sp.cos(inc))/x -((sp.sin(W)*(sp.cos(v)*sp.cos(w) - sp.sin(v)*sp.sin(w)) + sp.cos(W)*(sp.sin(v)*sp.cos(w) + sp.cos(v)*sp.sin(w))*sp.cos(inc))/y))"
   ]
  },
  {
   "cell_type": "code",
   "execution_count": 126,
   "metadata": {},
   "outputs": [
    {
     "data": {
      "text/latex": [
       "$\\displaystyle \\frac{\\sin{\\left(\\Omega \\right)} \\cos{\\left(\\omega \\right)}}{y} + \\frac{\\sin{\\left(\\omega \\right)} \\cos{\\left(\\Omega \\right)} \\cos{\\left(i \\right)}}{y} + \\frac{\\sin{\\left(\\Omega \\right)} \\sin{\\left(\\omega \\right)} \\cos{\\left(i \\right)}}{x} - \\frac{\\cos{\\left(\\Omega \\right)} \\cos{\\left(\\omega \\right)}}{x}$"
      ],
      "text/plain": [
       "sin(Omega)*cos(omega)/y + sin(omega)*cos(Omega)*cos(i)/y + sin(Omega)*sin(omega)*cos(i)/x - cos(Omega)*cos(omega)/x"
      ]
     },
     "execution_count": 126,
     "metadata": {},
     "output_type": "execute_result"
    }
   ],
   "source": [
    "sp.expand(-(Aeqn/x-Ceqn/y)).subs(a1e2,1)"
   ]
  },
  {
   "cell_type": "code",
   "execution_count": null,
   "metadata": {},
   "outputs": [],
   "source": []
  }
 ],
 "metadata": {
  "kernelspec": {
   "display_name": "Python 3",
   "language": "python",
   "name": "python3"
  },
  "language_info": {
   "codemirror_mode": {
    "name": "ipython",
    "version": 3
   },
   "file_extension": ".py",
   "mimetype": "text/x-python",
   "name": "python",
   "nbconvert_exporter": "python",
   "pygments_lexer": "ipython3",
   "version": "3.6.9"
  }
 },
 "nbformat": 4,
 "nbformat_minor": 4
}
