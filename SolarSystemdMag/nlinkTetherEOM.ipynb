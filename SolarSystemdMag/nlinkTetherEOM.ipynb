{
 "cells": [
  {
   "cell_type": "code",
   "execution_count": 1,
   "metadata": {},
   "outputs": [],
   "source": [
    "import sympy as sp\n",
    "import numpy as np"
   ]
  },
  {
   "cell_type": "code",
   "execution_count": 2,
   "metadata": {},
   "outputs": [],
   "source": [
    "l, m = sp.symbols('l m', real=True, positive=True)\n",
    "nlinks=10\n",
    "thetas = sp.symbols('theta_0:%d'%nlinks,real=True)\n",
    "phis = sp.symbols('phi_0:%d'%nlinks,real=True)\n",
    "#theta1 = sp.symbols('theta_1',real=True)\n",
    "#phi1 = sp.symbols('phi_1',real=True)"
   ]
  },
  {
   "cell_type": "code",
   "execution_count": 3,
   "metadata": {},
   "outputs": [],
   "source": [
    "xhat = np.asarray([1,0,0])\n",
    "yhat = np.asarray([0,1,0])\n",
    "zhat = np.asarray([0,0,1])"
   ]
  },
  {
   "cell_type": "code",
   "execution_count": 4,
   "metadata": {},
   "outputs": [],
   "source": [
    "#Position of the end of Each Link Equation"
   ]
  },
  {
   "cell_type": "code",
   "execution_count": 5,
   "metadata": {},
   "outputs": [],
   "source": [
    "rs_init = [l*xhat*sp.cos(thetas[i]) + l*yhat*sp.sin(thetas[i]) + l*zhat*sp.sin(phis[i]) for i in np.arange(nlinks)]\n",
    "rs = [rs_init[0]]\n",
    "for i in np.arange(len(rs_init)-1)+1:\n",
    "    rs.append(rs[i-1]+rs_init[i])\n",
    "rs = np.asarray(rs)"
   ]
  },
  {
   "cell_type": "code",
   "execution_count": 6,
   "metadata": {},
   "outputs": [],
   "source": [
    "#Velocity of each Link"
   ]
  },
  {
   "cell_type": "code",
   "execution_count": 7,
   "metadata": {},
   "outputs": [],
   "source": [
    "rdots = list()\n",
    "for i in np.arange(nlinks):#iterate over each rs\n",
    "    eqn = np.asarray([0,0,0])\n",
    "    for j in np.arange(nlinks): #iterate over theta and phi\n",
    "        eqn = eqn + sp.diff(rs[i],thetas[j]) + sp.diff(rs[i],phis[j])\n",
    "    rdots.append(eqn)"
   ]
  },
  {
   "cell_type": "code",
   "execution_count": 10,
   "metadata": {},
   "outputs": [
    {
     "data": {
      "text/plain": [
       "array([-l*sin(theta_0) - l*sin(theta_1) - l*sin(theta_2) - l*sin(theta_3) - l*sin(theta_4) - l*sin(theta_5) - l*sin(theta_6) - l*sin(theta_7) - l*sin(theta_8) - l*sin(theta_9),\n",
       "       l*cos(theta_0) + l*cos(theta_1) + l*cos(theta_2) + l*cos(theta_3) + l*cos(theta_4) + l*cos(theta_5) + l*cos(theta_6) + l*cos(theta_7) + l*cos(theta_8) + l*cos(theta_9),\n",
       "       l*cos(phi_0) + l*cos(phi_1) + l*cos(phi_2) + l*cos(phi_3) + l*cos(phi_4) + l*cos(phi_5) + l*cos(phi_6) + l*cos(phi_7) + l*cos(phi_8) + l*cos(phi_9)],\n",
       "      dtype=object)"
      ]
     },
     "execution_count": 10,
     "metadata": {},
     "output_type": "execute_result"
    }
   ],
   "source": [
    "rdots[-1]"
   ]
  },
  {
   "cell_type": "code",
   "execution_count": 8,
   "metadata": {},
   "outputs": [
    {
     "ename": "NameError",
     "evalue": "name 'r' is not defined",
     "output_type": "error",
     "traceback": [
      "\u001b[0;31m---------------------------------------------------------------------------\u001b[0m",
      "\u001b[0;31mNameError\u001b[0m                                 Traceback (most recent call last)",
      "\u001b[0;32m<ipython-input-8-0f38937e14d6>\u001b[0m in \u001b[0;36m<module>\u001b[0;34m\u001b[0m\n\u001b[0;32m----> 1\u001b[0;31m \u001b[0mrdot\u001b[0m \u001b[0;34m=\u001b[0m \u001b[0msp\u001b[0m\u001b[0;34m.\u001b[0m\u001b[0mdiff\u001b[0m\u001b[0;34m(\u001b[0m\u001b[0mr\u001b[0m\u001b[0;34m,\u001b[0m\u001b[0mtheta1\u001b[0m\u001b[0;34m)\u001b[0m\u001b[0;34m\u001b[0m\u001b[0;34m\u001b[0m\u001b[0m\n\u001b[0m",
      "\u001b[0;31mNameError\u001b[0m: name 'r' is not defined"
     ]
    }
   ],
   "source": [
    "rdot = sp.diff(r,theta1)"
   ]
  }
 ],
 "metadata": {
  "kernelspec": {
   "display_name": "Python 3",
   "language": "python",
   "name": "python3"
  },
  "language_info": {
   "codemirror_mode": {
    "name": "ipython",
    "version": 3
   },
   "file_extension": ".py",
   "mimetype": "text/x-python",
   "name": "python",
   "nbconvert_exporter": "python",
   "pygments_lexer": "ipython3",
   "version": "3.7.7"
  }
 },
 "nbformat": 4,
 "nbformat_minor": 4
}
