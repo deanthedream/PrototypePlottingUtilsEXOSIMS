{
 "cells": [
  {
   "cell_type": "code",
   "execution_count": 1,
   "metadata": {},
   "outputs": [],
   "source": [
    "import sympy as sp\n",
    "import numpy as np"
   ]
  },
  {
   "cell_type": "code",
   "execution_count": 2,
   "metadata": {},
   "outputs": [],
   "source": [
    "a, b, e, c = sp.symbols('a b e c', real=True, positive=True)\n",
    "ap, bp, ep, cp = sp.symbols('ap bp ep cp', real=True, positive=True)\n",
    "W, w, inc, v, Omega, omega, nu = sp.symbols('W w inc v Omega omega nu',real=True)\n",
    "E, gamma, phi = sp.symbols('E gamma phi', real=True)\n",
    "thx, thy, thz = sp.symbols('thx thy thz', real=True)\n",
    "vx, vy, vz = sp.symbols('vx vy vz', real=True)\n",
    "c1x, c1y, c1z, c2x, c2y, c2z, c3x, c3y, c3z = sp.symbols('c1x c1y c1z c2x c2y c2z c3x c3y c3z', real=True)\n",
    "#cx, cy = sp.symbols('cx cy', real=True)\n",
    "Sxy, Sxz, Syx, Syz, Szx, Szy = sp.symbols('Sxy Sxz Syx Syz Szx Szy',real=True)"
   ]
  },
  {
   "cell_type": "code",
   "execution_count": 3,
   "metadata": {},
   "outputs": [],
   "source": [
    "eqnr = a*(1-e**2)/(1+e*sp.cos(v))\n",
    "eqnX = eqnr*(sp.cos(W)*sp.cos(w+v) - sp.sin(W)*sp.sin(w+v)*sp.cos(inc))\n",
    "eqnY = eqnr*(sp.sin(W)*sp.cos(w+v) + sp.cos(W)*sp.sin(w+v)*sp.cos(inc))\n",
    "eqnZ = eqnr*(sp.sin(inc)*sp.sin(w+v))"
   ]
  },
  {
   "cell_type": "markdown",
   "metadata": {},
   "source": [
    "# Eccentricity"
   ]
  },
  {
   "cell_type": "code",
   "execution_count": 4,
   "metadata": {},
   "outputs": [],
   "source": [
    "ep_apbp = sp.sqrt(1-bp**2/ap**2)\n",
    "bp_apep = ap*sp.sqrt(ep**2-1)\n",
    "cp_apep = ap*ep #linear eccentricity\n",
    "cp_apbp = sp.sqrt(ap**2-bp**2) #linear eccentricity"
   ]
  },
  {
   "cell_type": "code",
   "execution_count": 5,
   "metadata": {},
   "outputs": [],
   "source": [
    "e_ab = sp.sqrt(1-b**2/a**2)\n",
    "b_ae = a*sp.sqrt(e**2-1)\n",
    "c_ae = a*e #linear eccentricity\n",
    "c_ab = sp.sqrt(a**2-b**2) #linear eccentricity"
   ]
  },
  {
   "cell_type": "markdown",
   "metadata": {},
   "source": [
    "# Eccentric Anomaly"
   ]
  },
  {
   "cell_type": "code",
   "execution_count": 6,
   "metadata": {},
   "outputs": [],
   "source": [
    "nu_Ee = 2*sp.atan(sp.sqrt((1+e)/(1-e))*sp.tan(E/2))"
   ]
  },
  {
   "cell_type": "code",
   "execution_count": null,
   "metadata": {},
   "outputs": [],
   "source": []
  },
  {
   "cell_type": "markdown",
   "metadata": {},
   "source": [
    "# 3D Ellipse Vectors"
   ]
  },
  {
   "cell_type": "code",
   "execution_count": 7,
   "metadata": {},
   "outputs": [],
   "source": [
    "r_perigee3D = sp.Matrix([[eqnX], [eqnY], [eqnZ]]).subs(v,0)"
   ]
  },
  {
   "cell_type": "code",
   "execution_count": 8,
   "metadata": {},
   "outputs": [],
   "source": [
    "rhat_perigee3D = r_perigee3D/r_perigee3D.norm()"
   ]
  },
  {
   "cell_type": "markdown",
   "metadata": {},
   "source": [
    "# 3D Ellipse Center"
   ]
  },
  {
   "cell_type": "code",
   "execution_count": 9,
   "metadata": {},
   "outputs": [],
   "source": [
    "r_3Dellipsecenter = -rhat_perigee3D*c_ae\n",
    "O = -rhat_perigee3D*c_ae"
   ]
  },
  {
   "cell_type": "markdown",
   "metadata": {},
   "source": [
    "# Proof Math, If OpCp < OpBp"
   ]
  },
  {
   "cell_type": "code",
   "execution_count": 10,
   "metadata": {},
   "outputs": [],
   "source": [
    "#Ap = sp.Matrix([[eqnX], [eqnY]]).subs(v,0) # not needed\n",
    "Bp = sp.Matrix([[eqnX], [eqnY], [0]]).subs(v,np.pi)\n",
    "Cp = sp.Matrix([[eqnX], [eqnY], [0]]).subs(v,nu_Ee.subs(E,np.pi/2))\n",
    "#Dp = sp.Matrix([[eqnX], [eqnY]]).subs(v,nu_Ee.subs(E,-np.pi/2)) # not needed"
   ]
  },
  {
   "cell_type": "code",
   "execution_count": 11,
   "metadata": {},
   "outputs": [],
   "source": [
    "Op = sp.Matrix([[O[0]],[O[1]],[0]])\n",
    "OpCp = Cp-Op\n",
    "OpBp = Bp-Op\n",
    "tmp = sp.Matrix([[0],[0],[1]]).cross(OpCp)\n",
    "QQp_hat = tmp/tmp.norm()"
   ]
  },
  {
   "cell_type": "code",
   "execution_count": 12,
   "metadata": {},
   "outputs": [],
   "source": [
    "dOpCp = OpCp.norm() #length of OpCp"
   ]
  },
  {
   "cell_type": "code",
   "execution_count": 13,
   "metadata": {},
   "outputs": [],
   "source": [
    "Q = Bp - dOpCp*QQp_hat\n",
    "Qp = Bp + dOpCp*QQp_hat"
   ]
  },
  {
   "cell_type": "code",
   "execution_count": 45,
   "metadata": {},
   "outputs": [],
   "source": [
    "OpQ = Q - Op\n",
    "OpQp = Qp - Op\n",
    "Psi = sp.acos(OpQp.dot(OpQ)/OpQ.norm()/OpQp.norm()) #angle between OpQ and OpQp\n",
    "psi = sp.acos(OpQ[0]/OpQ.norm()) #angle between OpQ and X-axis"
   ]
  },
  {
   "cell_type": "code",
   "execution_count": 47,
   "metadata": {},
   "outputs": [],
   "source": [
    "#print(Psi) #angle between OpQ and OpQp\n",
    "#print(psi) #angle between OpQ and X-axis"
   ]
  },
  {
   "cell_type": "code",
   "execution_count": 15,
   "metadata": {},
   "outputs": [],
   "source": [
    "dOpCp = OpCp.norm()\n",
    "dOpBp = OpBp.norm()\n",
    "theta = sp.acos(OpCp.dot(OpBp)/dOpCp/dOpBp)"
   ]
  },
  {
   "cell_type": "code",
   "execution_count": 16,
   "metadata": {},
   "outputs": [],
   "source": [
    "dOpQ = OpQ.norm()\n",
    "dOpQp = OpQp.norm()\n",
    "dIR = dOpQp + dOpQ\n",
    "dTS = dOpQp - dOpQ\n",
    "dmajorp = dIR/2\n",
    "dminorp = dTS/2"
   ]
  },
  {
   "cell_type": "code",
   "execution_count": 17,
   "metadata": {},
   "outputs": [],
   "source": [
    "#Random substitutions to condense dmajorp equation\n",
    "Gamma, gamma, Phi, phi, lam, Psi, psi = sp.symbols('Gamma gamma Phi phi lambda Psi psi')\n",
    "Omicron, Eeps, Eeps2 = sp.symbols('Omicron Eeps Eeps2')"
   ]
  },
  {
   "cell_type": "code",
   "execution_count": 18,
   "metadata": {},
   "outputs": [],
   "source": [
    "#dmajorp.subs(e*(1-e**2),Gamma).subs(sp.sin(W)*sp.cos(w)+sp.sin(w)*sp.cos(W)*sp.cos(inc),gamma).subs(sp.sqrt((e+1)/(1-e)),Phi).subs(a**2*(e**2-1)**2,phi).subs(sp.cos(W)*sp.cos(w)-sp.sin(W)*sp.sin(w)*sp.cos(inc),lam).subs((e+1)*sp.sqrt((gamma**2*phi)/(e+1)**2+(lam**2*phi)/(e+1)**2+(phi*sp.sin(inc)**2*sp.sin(w)**2)/(e+1)**2),Psi).subs((e + 1)**2,Eeps).subs(a*(1 - e**2),Eeps2)#.subs(sp.sin(W)*sp.cos(w + 2*sp.atan(1.0*Phi)) + sp.sin(w + 2*sp.atan(1.0*Phi))*sp.cos(W)*sp.cos(inc),Omicron)"
   ]
  },
  {
   "cell_type": "code",
   "execution_count": 19,
   "metadata": {},
   "outputs": [],
   "source": [
    "#dmajorp"
   ]
  },
  {
   "cell_type": "markdown",
   "metadata": {},
   "source": [
    "# DELETE Converse, If OpBp < OpCp"
   ]
  },
  {
   "cell_type": "code",
   "execution_count": 20,
   "metadata": {},
   "outputs": [],
   "source": [
    "# tmp2 = OpBp.cross(sp.Matrix([[0],[0],[1]]))\n",
    "# QQp_hat2 = tmp2/tmp2.norm()\n",
    "# dOpBp = OpBp.norm() #length of OpBp\n",
    "# Q2 = Cp - dOpBp*QQp_hat2\n",
    "# Qp2 = Cp + dOpBp*QQp_hat2\n",
    "# OpQ2 = Q2 - Op\n",
    "# OpQp2 = Qp2 - Op\n",
    "# dOpQ2 = OpQ2.norm()\n",
    "# dOpQp2 = OpQp2.norm()\n",
    "# dIR2 = dOpQp2 + dOpQ2\n",
    "# dTS2 = dOpQp2 - dOpQ2\n",
    "# dmajorp2 = dIR2/2\n",
    "# dminorp2 = dTS2/2\n",
    "# OS = (dOpQp-dOpQ)/2\n",
    "# OR = dOpQp-OS"
   ]
  },
  {
   "cell_type": "code",
   "execution_count": 21,
   "metadata": {},
   "outputs": [],
   "source": [
    "#dOpQp.subs(W,1.4247344614477808).subs(inc,1.1378889882557037).subs(a,5.5551953310589655).subs(e,0.2964357710463322).subs(w,2.4315379710699374)"
   ]
  },
  {
   "cell_type": "code",
   "execution_count": 22,
   "metadata": {},
   "outputs": [],
   "source": [
    "#OS.subs(W,1.4247344614477808).subs(inc,1.1378889882557037).subs(a,5.5551953310589655).subs(e,0.2964357710463322).subs(w,2.4315379710699374)"
   ]
  },
  {
   "cell_type": "code",
   "execution_count": 23,
   "metadata": {},
   "outputs": [],
   "source": [
    "#OR.subs(W,1.4247344614477808).subs(inc,1.1378889882557037).subs(a,5.5551953310589655).subs(e,0.2964357710463322).subs(w,2.4315379710699374)"
   ]
  },
  {
   "cell_type": "code",
   "execution_count": 24,
   "metadata": {},
   "outputs": [
    {
     "data": {
      "text/latex": [
       "$\\displaystyle \\frac{\\sqrt{\\left|{- \\frac{Eeps_{2} \\left(\\sin{\\left(W \\right)} \\cos{\\left(w + 2 \\operatorname{atan}{\\left(1.0 \\Phi \\right)} \\right)} + \\sin{\\left(w + 2 \\operatorname{atan}{\\left(1.0 \\Phi \\right)} \\right)} \\cos{\\left(W \\right)} \\cos{\\left(inc \\right)}\\right)}{e \\cos{\\left(2 \\operatorname{atan}{\\left(1.0 \\Phi \\right)} \\right)} + 1} + \\frac{Eeps_{2} \\left(- \\sin{\\left(W \\right)} \\sin{\\left(w + 3.14159265358979 \\right)} \\cos{\\left(inc \\right)} + \\cos{\\left(W \\right)} \\cos{\\left(w + 3.14159265358979 \\right)}\\right)}{1 - 1.0 e} - \\frac{\\Gamma a^{2} \\gamma}{\\Psi} + \\frac{\\Gamma a^{2} \\lambda}{\\Psi}}\\right|^{2} + \\left|{\\frac{Eeps_{2} \\left(- \\sin{\\left(W \\right)} \\sin{\\left(w + 2 \\operatorname{atan}{\\left(1.0 \\Phi \\right)} \\right)} \\cos{\\left(inc \\right)} + \\cos{\\left(W \\right)} \\cos{\\left(w + 2 \\operatorname{atan}{\\left(1.0 \\Phi \\right)} \\right)}\\right)}{e \\cos{\\left(2 \\operatorname{atan}{\\left(1.0 \\Phi \\right)} \\right)} + 1} + \\frac{Eeps_{2} \\left(\\sin{\\left(W \\right)} \\cos{\\left(w + 3.14159265358979 \\right)} + \\sin{\\left(w + 3.14159265358979 \\right)} \\cos{\\left(W \\right)} \\cos{\\left(inc \\right)}\\right)}{1 - 1.0 e} + \\frac{\\Gamma a^{2} \\gamma}{\\Psi} + \\frac{\\Gamma a^{2} \\lambda}{\\Psi}}\\right|^{2}}}{2} + \\frac{\\sqrt{\\left|{\\frac{Eeps_{2} \\left(\\sin{\\left(W \\right)} \\cos{\\left(w + 2 \\operatorname{atan}{\\left(1.0 \\Phi \\right)} \\right)} + \\sin{\\left(w + 2 \\operatorname{atan}{\\left(1.0 \\Phi \\right)} \\right)} \\cos{\\left(W \\right)} \\cos{\\left(inc \\right)}\\right)}{e \\cos{\\left(2 \\operatorname{atan}{\\left(1.0 \\Phi \\right)} \\right)} + 1} + \\frac{Eeps_{2} \\left(- \\sin{\\left(W \\right)} \\sin{\\left(w + 3.14159265358979 \\right)} \\cos{\\left(inc \\right)} + \\cos{\\left(W \\right)} \\cos{\\left(w + 3.14159265358979 \\right)}\\right)}{1 - 1.0 e} + \\frac{\\Gamma a^{2} \\gamma}{\\Psi} + \\frac{\\Gamma a^{2} \\lambda}{\\Psi}}\\right|^{2} + \\left|{- \\frac{Eeps_{2} \\left(- \\sin{\\left(W \\right)} \\sin{\\left(w + 2 \\operatorname{atan}{\\left(1.0 \\Phi \\right)} \\right)} \\cos{\\left(inc \\right)} + \\cos{\\left(W \\right)} \\cos{\\left(w + 2 \\operatorname{atan}{\\left(1.0 \\Phi \\right)} \\right)}\\right)}{e \\cos{\\left(2 \\operatorname{atan}{\\left(1.0 \\Phi \\right)} \\right)} + 1} + \\frac{Eeps_{2} \\left(\\sin{\\left(W \\right)} \\cos{\\left(w + 3.14159265358979 \\right)} + \\sin{\\left(w + 3.14159265358979 \\right)} \\cos{\\left(W \\right)} \\cos{\\left(inc \\right)}\\right)}{1 - 1.0 e} + \\frac{\\Gamma a^{2} \\gamma}{\\Psi} - \\frac{\\Gamma a^{2} \\lambda}{\\Psi}}\\right|^{2}}}{2}$"
      ],
      "text/plain": [
       "sqrt(Abs(-Eeps2*(sin(W)*cos(w + 2*atan(1.0*Phi)) + sin(w + 2*atan(1.0*Phi))*cos(W)*cos(inc))/(e*cos(2*atan(1.0*Phi)) + 1) + Eeps2*(-sin(W)*sin(w + 3.14159265358979)*cos(inc) + cos(W)*cos(w + 3.14159265358979))/(1 - 1.0*e) - Gamma*a**2*gamma/Psi + Gamma*a**2*lambda/Psi)**2 + Abs(Eeps2*(-sin(W)*sin(w + 2*atan(1.0*Phi))*cos(inc) + cos(W)*cos(w + 2*atan(1.0*Phi)))/(e*cos(2*atan(1.0*Phi)) + 1) + Eeps2*(sin(W)*cos(w + 3.14159265358979) + sin(w + 3.14159265358979)*cos(W)*cos(inc))/(1 - 1.0*e) + Gamma*a**2*gamma/Psi + Gamma*a**2*lambda/Psi)**2)/2 + sqrt(Abs(Eeps2*(sin(W)*cos(w + 2*atan(1.0*Phi)) + sin(w + 2*atan(1.0*Phi))*cos(W)*cos(inc))/(e*cos(2*atan(1.0*Phi)) + 1) + Eeps2*(-sin(W)*sin(w + 3.14159265358979)*cos(inc) + cos(W)*cos(w + 3.14159265358979))/(1 - 1.0*e) + Gamma*a**2*gamma/Psi + Gamma*a**2*lambda/Psi)**2 + Abs(-Eeps2*(-sin(W)*sin(w + 2*atan(1.0*Phi))*cos(inc) + cos(W)*cos(w + 2*atan(1.0*Phi)))/(e*cos(2*atan(1.0*Phi)) + 1) + Eeps2*(sin(W)*cos(w + 3.14159265358979) + sin(w + 3.14159265358979)*cos(W)*cos(inc))/(1 - 1.0*e) + Gamma*a**2*gamma/Psi - Gamma*a**2*lambda/Psi)**2)/2"
      ]
     },
     "execution_count": 24,
     "metadata": {},
     "output_type": "execute_result"
    }
   ],
   "source": [
    "dmajorp.subs(e*(1-e**2),Gamma).subs(sp.sin(W)*sp.cos(w)+sp.sin(w)*sp.cos(W)*sp.cos(inc),gamma).subs(sp.sqrt((e+1)/(1-e)),Phi).subs(a**2*(e**2-1)**2,phi).subs(sp.cos(W)*sp.cos(w)-sp.sin(W)*sp.sin(w)*sp.cos(inc),lam).subs((e+1)*sp.sqrt((gamma**2*phi)/(e+1)**2+(lam**2*phi)/(e+1)**2+(phi*sp.sin(inc)**2*sp.sin(w)**2)/(e+1)**2),Psi).subs((e + 1)**2,Eeps).subs(a*(1 - e**2),Eeps2)#.subs(sp.sin(W)*sp.cos(w + 2*sp.atan(1.0*Phi)) + sp.sin(w + 2*sp.atan(1.0*Phi))*sp.cos(W)*sp.cos(inc),Omicron)"
   ]
  },
  {
   "cell_type": "code",
   "execution_count": 25,
   "metadata": {},
   "outputs": [],
   "source": [
    "#dmajorp2.subs(e*(1-e**2),Gamma).subs(sp.sin(W)*sp.cos(w)+sp.sin(w)*sp.cos(W)*sp.cos(inc),gamma).subs(sp.sqrt((e+1)/(1-e)),Phi).subs(a**2*(e**2-1)**2,phi).subs(sp.cos(W)*sp.cos(w)-sp.sin(W)*sp.sin(w)*sp.cos(inc),lam).subs((e+1)*sp.sqrt((gamma**2*phi)/(e+1)**2+(lam**2*phi)/(e+1)**2+(phi*sp.sin(inc)**2*sp.sin(w)**2)/(e+1)**2),Psi).subs((e + 1)**2,Eeps).subs(a*(1 - e**2),Eeps2)#.subs(sp.sin(W)*sp.cos(w + 2*sp.atan(1.0*Phi)) + sp.sin(w + 2*sp.atan(1.0*Phi))*sp.cos(W)*sp.cos(inc),Omicron)"
   ]
  },
  {
   "cell_type": "code",
   "execution_count": 26,
   "metadata": {},
   "outputs": [
    {
     "data": {
      "text/latex": [
       "$\\displaystyle 5.4516702397619$"
      ],
      "text/plain": [
       "5.45167023976190"
      ]
     },
     "execution_count": 26,
     "metadata": {},
     "output_type": "execute_result"
    }
   ],
   "source": [
    "dmajorp.subs(W,1.4247344614477808).subs(inc,1.1378889882557037).subs(a,5.5551953310589655).subs(e,0.2964357710463322).subs(w,2.4315379710699374)"
   ]
  },
  {
   "cell_type": "code",
   "execution_count": 27,
   "metadata": {},
   "outputs": [],
   "source": [
    "#dmajorp2.subs(W,1.4247344614477808).subs(inc,1.1378889882557037).subs(a,5.5551953310589655).subs(e,0.2964357710463322).subs(w,2.4315379710699374)"
   ]
  },
  {
   "cell_type": "code",
   "execution_count": 28,
   "metadata": {},
   "outputs": [
    {
     "data": {
      "text/latex": [
       "$\\displaystyle 2.26798696387264$"
      ],
      "text/plain": [
       "2.26798696387264"
      ]
     },
     "execution_count": 28,
     "metadata": {},
     "output_type": "execute_result"
    }
   ],
   "source": [
    "dminorp.subs(W,1.4247344614477808).subs(inc,1.1378889882557037).subs(a,5.5551953310589655).subs(e,0.2964357710463322).subs(w,2.4315379710699374)"
   ]
  },
  {
   "cell_type": "code",
   "execution_count": 29,
   "metadata": {},
   "outputs": [],
   "source": [
    "#dminorp2.subs(W,1.4247344614477808).subs(inc,1.1378889882557037).subs(a,5.5551953310589655).subs(e,0.2964357710463322).subs(w,2.4315379710699374)"
   ]
  },
  {
   "cell_type": "code",
   "execution_count": 30,
   "metadata": {},
   "outputs": [
    {
     "data": {
      "text/latex": [
       "$\\displaystyle 1.35744932974363$"
      ],
      "text/plain": [
       "1.35744932974363"
      ]
     },
     "execution_count": 30,
     "metadata": {},
     "output_type": "execute_result"
    }
   ],
   "source": [
    "sp.sqrt((e+1)/(1-e)).subs(e,0.2964357710463322)"
   ]
  },
  {
   "cell_type": "code",
   "execution_count": 31,
   "metadata": {},
   "outputs": [
    {
     "data": {
      "text/latex": [
       "$\\displaystyle 0.175819680492669$"
      ],
      "text/plain": [
       "0.175819680492669"
      ]
     },
     "execution_count": 31,
     "metadata": {},
     "output_type": "execute_result"
    }
   ],
   "source": [
    "(e*sp.cos(sp.atan(sp.sqrt((e+1)/(1-e))))).subs(e,0.2964357710463322)"
   ]
  },
  {
   "cell_type": "code",
   "execution_count": 32,
   "metadata": {},
   "outputs": [],
   "source": [
    "outa = sp.lambdify([W,inc,a,e,w],dmajorp)\n",
    "outb = sp.lambdify([W,inc,a,e,w],dminorp)"
   ]
  },
  {
   "cell_type": "code",
   "execution_count": 33,
   "metadata": {},
   "outputs": [
    {
     "data": {
      "text/plain": [
       "0.8000000000000003"
      ]
     },
     "execution_count": 33,
     "metadata": {},
     "output_type": "execute_result"
    }
   ],
   "source": [
    "outa(0.,np.pi/3,1.,0.6,np.pi/2)"
   ]
  },
  {
   "cell_type": "code",
   "execution_count": 34,
   "metadata": {},
   "outputs": [
    {
     "data": {
      "text/plain": [
       "0.5"
      ]
     },
     "execution_count": 34,
     "metadata": {},
     "output_type": "execute_result"
    }
   ],
   "source": [
    "outb(0.,np.pi/3,1.,0.6,np.pi/2)"
   ]
  },
  {
   "cell_type": "code",
   "execution_count": 35,
   "metadata": {},
   "outputs": [
    {
     "name": "stdout",
     "output_type": "stream",
     "text": [
      "sqrt(Abs(a**2*e*(1 - e**2)*(sin(W)*cos(w) + sin(w)*cos(W)*cos(inc))/((e + 1)*sqrt(a**2*(e**2 - 1)**2*(sin(W)*cos(w) + sin(w)*cos(W)*cos(inc))**2/(e + 1)**2 + a**2*(e**2 - 1)**2*(sin(W)*sin(w)*cos(inc) - cos(W)*cos(w))**2/(e + 1)**2 + a**2*(e**2 - 1)**2*sin(inc)**2*sin(w)**2/(e + 1)**2)) + a*(1 - e**2)*(sin(W)*cos(w + 3.14159265358979) + sin(w + 3.14159265358979)*cos(W)*cos(inc))/(1 - 1.0*e) - (a**2*e*(1 - e**2)*(-sin(W)*sin(w)*cos(inc) + cos(W)*cos(w))/((e + 1)*sqrt(a**2*(e**2 - 1)**2*(sin(W)*cos(w) + sin(w)*cos(W)*cos(inc))**2/(e + 1)**2 + a**2*(e**2 - 1)**2*(sin(W)*sin(w)*cos(inc) - cos(W)*cos(w))**2/(e + 1)**2 + a**2*(e**2 - 1)**2*sin(inc)**2*sin(w)**2/(e + 1)**2)) + a*(1 - e**2)*(-sin(W)*sin(w + 2*atan(1.0*sqrt(e + 1)*sqrt(1/(1 - e))))*cos(inc) + cos(W)*cos(w + 2*atan(1.0*sqrt(e + 1)*sqrt(1/(1 - e)))))/(e*cos(2*atan(1.0*sqrt(e + 1)*sqrt(1/(1 - e)))) + 1))*sqrt(Abs(a**2*e*(1 - e**2)*(sin(W)*cos(w) + sin(w)*cos(W)*cos(inc))/((e + 1)*sqrt(a**2*(e**2 - 1)**2*(sin(W)*cos(w) + sin(w)*cos(W)*cos(inc))**2/(e + 1)**2 + a**2*(e**2 - 1)**2*(sin(W)*sin(w)*cos(inc) - cos(W)*cos(w))**2/(e + 1)**2 + a**2*(e**2 - 1)**2*sin(inc)**2*sin(w)**2/(e + 1)**2)) + a*(1 - e**2)*(sin(W)*cos(w + 2*atan(1.0*sqrt(e + 1)*sqrt(1/(1 - e)))) + sin(w + 2*atan(1.0*sqrt(e + 1)*sqrt(1/(1 - e))))*cos(W)*cos(inc))/(e*cos(2*atan(1.0*sqrt(e + 1)*sqrt(1/(1 - e)))) + 1))**2 + Abs(a**2*e*(1 - e**2)*(-sin(W)*sin(w)*cos(inc) + cos(W)*cos(w))/((e + 1)*sqrt(a**2*(e**2 - 1)**2*(sin(W)*cos(w) + sin(w)*cos(W)*cos(inc))**2/(e + 1)**2 + a**2*(e**2 - 1)**2*(sin(W)*sin(w)*cos(inc) - cos(W)*cos(w))**2/(e + 1)**2 + a**2*(e**2 - 1)**2*sin(inc)**2*sin(w)**2/(e + 1)**2)) + a*(1 - e**2)*(-sin(W)*sin(w + 2*atan(1.0*sqrt(e + 1)*sqrt(1/(1 - e))))*cos(inc) + cos(W)*cos(w + 2*atan(1.0*sqrt(e + 1)*sqrt(1/(1 - e)))))/(e*cos(2*atan(1.0*sqrt(e + 1)*sqrt(1/(1 - e)))) + 1))**2)/sqrt(Abs(-a**2*e*(1 - e**2)*(sin(W)*cos(w) + sin(w)*cos(W)*cos(inc))/((e + 1)*sqrt(a**2*(e**2 - 1)**2*(sin(W)*cos(w) + sin(w)*cos(W)*cos(inc))**2/(e + 1)**2 + a**2*(e**2 - 1)**2*(sin(W)*sin(w)*cos(inc) - cos(W)*cos(w))**2/(e + 1)**2 + a**2*(e**2 - 1)**2*sin(inc)**2*sin(w)**2/(e + 1)**2)) - a*(1 - e**2)*(sin(W)*cos(w + 2*atan(1.0*sqrt(e + 1)*sqrt(1/(1 - e)))) + sin(w + 2*atan(1.0*sqrt(e + 1)*sqrt(1/(1 - e))))*cos(W)*cos(inc))/(e*cos(2*atan(1.0*sqrt(e + 1)*sqrt(1/(1 - e)))) + 1))**2 + Abs(a**2*e*(1 - e**2)*(-sin(W)*sin(w)*cos(inc) + cos(W)*cos(w))/((e + 1)*sqrt(a**2*(e**2 - 1)**2*(sin(W)*cos(w) + sin(w)*cos(W)*cos(inc))**2/(e + 1)**2 + a**2*(e**2 - 1)**2*(sin(W)*sin(w)*cos(inc) - cos(W)*cos(w))**2/(e + 1)**2 + a**2*(e**2 - 1)**2*sin(inc)**2*sin(w)**2/(e + 1)**2)) + a*(1 - e**2)*(-sin(W)*sin(w + 2*atan(1.0*sqrt(e + 1)*sqrt(1/(1 - e))))*cos(inc) + cos(W)*cos(w + 2*atan(1.0*sqrt(e + 1)*sqrt(1/(1 - e)))))/(e*cos(2*atan(1.0*sqrt(e + 1)*sqrt(1/(1 - e)))) + 1))**2))**2 + Abs(a**2*e*(1 - e**2)*(-sin(W)*sin(w)*cos(inc) + cos(W)*cos(w))/((e + 1)*sqrt(a**2*(e**2 - 1)**2*(sin(W)*cos(w) + sin(w)*cos(W)*cos(inc))**2/(e + 1)**2 + a**2*(e**2 - 1)**2*(sin(W)*sin(w)*cos(inc) - cos(W)*cos(w))**2/(e + 1)**2 + a**2*(e**2 - 1)**2*sin(inc)**2*sin(w)**2/(e + 1)**2)) + a*(1 - e**2)*(-sin(W)*sin(w + 3.14159265358979)*cos(inc) + cos(W)*cos(w + 3.14159265358979))/(1 - 1.0*e) - (-a**2*e*(1 - e**2)*(sin(W)*cos(w) + sin(w)*cos(W)*cos(inc))/((e + 1)*sqrt(a**2*(e**2 - 1)**2*(sin(W)*cos(w) + sin(w)*cos(W)*cos(inc))**2/(e + 1)**2 + a**2*(e**2 - 1)**2*(sin(W)*sin(w)*cos(inc) - cos(W)*cos(w))**2/(e + 1)**2 + a**2*(e**2 - 1)**2*sin(inc)**2*sin(w)**2/(e + 1)**2)) - a*(1 - e**2)*(sin(W)*cos(w + 2*atan(1.0*sqrt(e + 1)*sqrt(1/(1 - e)))) + sin(w + 2*atan(1.0*sqrt(e + 1)*sqrt(1/(1 - e))))*cos(W)*cos(inc))/(e*cos(2*atan(1.0*sqrt(e + 1)*sqrt(1/(1 - e)))) + 1))*sqrt(Abs(a**2*e*(1 - e**2)*(sin(W)*cos(w) + sin(w)*cos(W)*cos(inc))/((e + 1)*sqrt(a**2*(e**2 - 1)**2*(sin(W)*cos(w) + sin(w)*cos(W)*cos(inc))**2/(e + 1)**2 + a**2*(e**2 - 1)**2*(sin(W)*sin(w)*cos(inc) - cos(W)*cos(w))**2/(e + 1)**2 + a**2*(e**2 - 1)**2*sin(inc)**2*sin(w)**2/(e + 1)**2)) + a*(1 - e**2)*(sin(W)*cos(w + 2*atan(1.0*sqrt(e + 1)*sqrt(1/(1 - e)))) + sin(w + 2*atan(1.0*sqrt(e + 1)*sqrt(1/(1 - e))))*cos(W)*cos(inc))/(e*cos(2*atan(1.0*sqrt(e + 1)*sqrt(1/(1 - e)))) + 1))**2 + Abs(a**2*e*(1 - e**2)*(-sin(W)*sin(w)*cos(inc) + cos(W)*cos(w))/((e + 1)*sqrt(a**2*(e**2 - 1)**2*(sin(W)*cos(w) + sin(w)*cos(W)*cos(inc))**2/(e + 1)**2 + a**2*(e**2 - 1)**2*(sin(W)*sin(w)*cos(inc) - cos(W)*cos(w))**2/(e + 1)**2 + a**2*(e**2 - 1)**2*sin(inc)**2*sin(w)**2/(e + 1)**2)) + a*(1 - e**2)*(-sin(W)*sin(w + 2*atan(1.0*sqrt(e + 1)*sqrt(1/(1 - e))))*cos(inc) + cos(W)*cos(w + 2*atan(1.0*sqrt(e + 1)*sqrt(1/(1 - e)))))/(e*cos(2*atan(1.0*sqrt(e + 1)*sqrt(1/(1 - e)))) + 1))**2)/sqrt(Abs(-a**2*e*(1 - e**2)*(sin(W)*cos(w) + sin(w)*cos(W)*cos(inc))/((e + 1)*sqrt(a**2*(e**2 - 1)**2*(sin(W)*cos(w) + sin(w)*cos(W)*cos(inc))**2/(e + 1)**2 + a**2*(e**2 - 1)**2*(sin(W)*sin(w)*cos(inc) - cos(W)*cos(w))**2/(e + 1)**2 + a**2*(e**2 - 1)**2*sin(inc)**2*sin(w)**2/(e + 1)**2)) - a*(1 - e**2)*(sin(W)*cos(w + 2*atan(1.0*sqrt(e + 1)*sqrt(1/(1 - e)))) + sin(w + 2*atan(1.0*sqrt(e + 1)*sqrt(1/(1 - e))))*cos(W)*cos(inc))/(e*cos(2*atan(1.0*sqrt(e + 1)*sqrt(1/(1 - e)))) + 1))**2 + Abs(a**2*e*(1 - e**2)*(-sin(W)*sin(w)*cos(inc) + cos(W)*cos(w))/((e + 1)*sqrt(a**2*(e**2 - 1)**2*(sin(W)*cos(w) + sin(w)*cos(W)*cos(inc))**2/(e + 1)**2 + a**2*(e**2 - 1)**2*(sin(W)*sin(w)*cos(inc) - cos(W)*cos(w))**2/(e + 1)**2 + a**2*(e**2 - 1)**2*sin(inc)**2*sin(w)**2/(e + 1)**2)) + a*(1 - e**2)*(-sin(W)*sin(w + 2*atan(1.0*sqrt(e + 1)*sqrt(1/(1 - e))))*cos(inc) + cos(W)*cos(w + 2*atan(1.0*sqrt(e + 1)*sqrt(1/(1 - e)))))/(e*cos(2*atan(1.0*sqrt(e + 1)*sqrt(1/(1 - e)))) + 1))**2))**2)/2 + sqrt(Abs(a**2*e*(1 - e**2)*(sin(W)*cos(w) + sin(w)*cos(W)*cos(inc))/((e + 1)*sqrt(a**2*(e**2 - 1)**2*(sin(W)*cos(w) + sin(w)*cos(W)*cos(inc))**2/(e + 1)**2 + a**2*(e**2 - 1)**2*(sin(W)*sin(w)*cos(inc) - cos(W)*cos(w))**2/(e + 1)**2 + a**2*(e**2 - 1)**2*sin(inc)**2*sin(w)**2/(e + 1)**2)) + a*(1 - e**2)*(sin(W)*cos(w + 3.14159265358979) + sin(w + 3.14159265358979)*cos(W)*cos(inc))/(1 - 1.0*e) + (a**2*e*(1 - e**2)*(-sin(W)*sin(w)*cos(inc) + cos(W)*cos(w))/((e + 1)*sqrt(a**2*(e**2 - 1)**2*(sin(W)*cos(w) + sin(w)*cos(W)*cos(inc))**2/(e + 1)**2 + a**2*(e**2 - 1)**2*(sin(W)*sin(w)*cos(inc) - cos(W)*cos(w))**2/(e + 1)**2 + a**2*(e**2 - 1)**2*sin(inc)**2*sin(w)**2/(e + 1)**2)) + a*(1 - e**2)*(-sin(W)*sin(w + 2*atan(1.0*sqrt(e + 1)*sqrt(1/(1 - e))))*cos(inc) + cos(W)*cos(w + 2*atan(1.0*sqrt(e + 1)*sqrt(1/(1 - e)))))/(e*cos(2*atan(1.0*sqrt(e + 1)*sqrt(1/(1 - e)))) + 1))*sqrt(Abs(a**2*e*(1 - e**2)*(sin(W)*cos(w) + sin(w)*cos(W)*cos(inc))/((e + 1)*sqrt(a**2*(e**2 - 1)**2*(sin(W)*cos(w) + sin(w)*cos(W)*cos(inc))**2/(e + 1)**2 + a**2*(e**2 - 1)**2*(sin(W)*sin(w)*cos(inc) - cos(W)*cos(w))**2/(e + 1)**2 + a**2*(e**2 - 1)**2*sin(inc)**2*sin(w)**2/(e + 1)**2)) + a*(1 - e**2)*(sin(W)*cos(w + 2*atan(1.0*sqrt(e + 1)*sqrt(1/(1 - e)))) + sin(w + 2*atan(1.0*sqrt(e + 1)*sqrt(1/(1 - e))))*cos(W)*cos(inc))/(e*cos(2*atan(1.0*sqrt(e + 1)*sqrt(1/(1 - e)))) + 1))**2 + Abs(a**2*e*(1 - e**2)*(-sin(W)*sin(w)*cos(inc) + cos(W)*cos(w))/((e + 1)*sqrt(a**2*(e**2 - 1)**2*(sin(W)*cos(w) + sin(w)*cos(W)*cos(inc))**2/(e + 1)**2 + a**2*(e**2 - 1)**2*(sin(W)*sin(w)*cos(inc) - cos(W)*cos(w))**2/(e + 1)**2 + a**2*(e**2 - 1)**2*sin(inc)**2*sin(w)**2/(e + 1)**2)) + a*(1 - e**2)*(-sin(W)*sin(w + 2*atan(1.0*sqrt(e + 1)*sqrt(1/(1 - e))))*cos(inc) + cos(W)*cos(w + 2*atan(1.0*sqrt(e + 1)*sqrt(1/(1 - e)))))/(e*cos(2*atan(1.0*sqrt(e + 1)*sqrt(1/(1 - e)))) + 1))**2)/sqrt(Abs(-a**2*e*(1 - e**2)*(sin(W)*cos(w) + sin(w)*cos(W)*cos(inc))/((e + 1)*sqrt(a**2*(e**2 - 1)**2*(sin(W)*cos(w) + sin(w)*cos(W)*cos(inc))**2/(e + 1)**2 + a**2*(e**2 - 1)**2*(sin(W)*sin(w)*cos(inc) - cos(W)*cos(w))**2/(e + 1)**2 + a**2*(e**2 - 1)**2*sin(inc)**2*sin(w)**2/(e + 1)**2)) - a*(1 - e**2)*(sin(W)*cos(w + 2*atan(1.0*sqrt(e + 1)*sqrt(1/(1 - e)))) + sin(w + 2*atan(1.0*sqrt(e + 1)*sqrt(1/(1 - e))))*cos(W)*cos(inc))/(e*cos(2*atan(1.0*sqrt(e + 1)*sqrt(1/(1 - e)))) + 1))**2 + Abs(a**2*e*(1 - e**2)*(-sin(W)*sin(w)*cos(inc) + cos(W)*cos(w))/((e + 1)*sqrt(a**2*(e**2 - 1)**2*(sin(W)*cos(w) + sin(w)*cos(W)*cos(inc))**2/(e + 1)**2 + a**2*(e**2 - 1)**2*(sin(W)*sin(w)*cos(inc) - cos(W)*cos(w))**2/(e + 1)**2 + a**2*(e**2 - 1)**2*sin(inc)**2*sin(w)**2/(e + 1)**2)) + a*(1 - e**2)*(-sin(W)*sin(w + 2*atan(1.0*sqrt(e + 1)*sqrt(1/(1 - e))))*cos(inc) + cos(W)*cos(w + 2*atan(1.0*sqrt(e + 1)*sqrt(1/(1 - e)))))/(e*cos(2*atan(1.0*sqrt(e + 1)*sqrt(1/(1 - e)))) + 1))**2))**2 + Abs(a**2*e*(1 - e**2)*(-sin(W)*sin(w)*cos(inc) + cos(W)*cos(w))/((e + 1)*sqrt(a**2*(e**2 - 1)**2*(sin(W)*cos(w) + sin(w)*cos(W)*cos(inc))**2/(e + 1)**2 + a**2*(e**2 - 1)**2*(sin(W)*sin(w)*cos(inc) - cos(W)*cos(w))**2/(e + 1)**2 + a**2*(e**2 - 1)**2*sin(inc)**2*sin(w)**2/(e + 1)**2)) + a*(1 - e**2)*(-sin(W)*sin(w + 3.14159265358979)*cos(inc) + cos(W)*cos(w + 3.14159265358979))/(1 - 1.0*e) + (-a**2*e*(1 - e**2)*(sin(W)*cos(w) + sin(w)*cos(W)*cos(inc))/((e + 1)*sqrt(a**2*(e**2 - 1)**2*(sin(W)*cos(w) + sin(w)*cos(W)*cos(inc))**2/(e + 1)**2 + a**2*(e**2 - 1)**2*(sin(W)*sin(w)*cos(inc) - cos(W)*cos(w))**2/(e + 1)**2 + a**2*(e**2 - 1)**2*sin(inc)**2*sin(w)**2/(e + 1)**2)) - a*(1 - e**2)*(sin(W)*cos(w + 2*atan(1.0*sqrt(e + 1)*sqrt(1/(1 - e)))) + sin(w + 2*atan(1.0*sqrt(e + 1)*sqrt(1/(1 - e))))*cos(W)*cos(inc))/(e*cos(2*atan(1.0*sqrt(e + 1)*sqrt(1/(1 - e)))) + 1))*sqrt(Abs(a**2*e*(1 - e**2)*(sin(W)*cos(w) + sin(w)*cos(W)*cos(inc))/((e + 1)*sqrt(a**2*(e**2 - 1)**2*(sin(W)*cos(w) + sin(w)*cos(W)*cos(inc))**2/(e + 1)**2 + a**2*(e**2 - 1)**2*(sin(W)*sin(w)*cos(inc) - cos(W)*cos(w))**2/(e + 1)**2 + a**2*(e**2 - 1)**2*sin(inc)**2*sin(w)**2/(e + 1)**2)) + a*(1 - e**2)*(sin(W)*cos(w + 2*atan(1.0*sqrt(e + 1)*sqrt(1/(1 - e)))) + sin(w + 2*atan(1.0*sqrt(e + 1)*sqrt(1/(1 - e))))*cos(W)*cos(inc))/(e*cos(2*atan(1.0*sqrt(e + 1)*sqrt(1/(1 - e)))) + 1))**2 + Abs(a**2*e*(1 - e**2)*(-sin(W)*sin(w)*cos(inc) + cos(W)*cos(w))/((e + 1)*sqrt(a**2*(e**2 - 1)**2*(sin(W)*cos(w) + sin(w)*cos(W)*cos(inc))**2/(e + 1)**2 + a**2*(e**2 - 1)**2*(sin(W)*sin(w)*cos(inc) - cos(W)*cos(w))**2/(e + 1)**2 + a**2*(e**2 - 1)**2*sin(inc)**2*sin(w)**2/(e + 1)**2)) + a*(1 - e**2)*(-sin(W)*sin(w + 2*atan(1.0*sqrt(e + 1)*sqrt(1/(1 - e))))*cos(inc) + cos(W)*cos(w + 2*atan(1.0*sqrt(e + 1)*sqrt(1/(1 - e)))))/(e*cos(2*atan(1.0*sqrt(e + 1)*sqrt(1/(1 - e)))) + 1))**2)/sqrt(Abs(-a**2*e*(1 - e**2)*(sin(W)*cos(w) + sin(w)*cos(W)*cos(inc))/((e + 1)*sqrt(a**2*(e**2 - 1)**2*(sin(W)*cos(w) + sin(w)*cos(W)*cos(inc))**2/(e + 1)**2 + a**2*(e**2 - 1)**2*(sin(W)*sin(w)*cos(inc) - cos(W)*cos(w))**2/(e + 1)**2 + a**2*(e**2 - 1)**2*sin(inc)**2*sin(w)**2/(e + 1)**2)) - a*(1 - e**2)*(sin(W)*cos(w + 2*atan(1.0*sqrt(e + 1)*sqrt(1/(1 - e)))) + sin(w + 2*atan(1.0*sqrt(e + 1)*sqrt(1/(1 - e))))*cos(W)*cos(inc))/(e*cos(2*atan(1.0*sqrt(e + 1)*sqrt(1/(1 - e)))) + 1))**2 + Abs(a**2*e*(1 - e**2)*(-sin(W)*sin(w)*cos(inc) + cos(W)*cos(w))/((e + 1)*sqrt(a**2*(e**2 - 1)**2*(sin(W)*cos(w) + sin(w)*cos(W)*cos(inc))**2/(e + 1)**2 + a**2*(e**2 - 1)**2*(sin(W)*sin(w)*cos(inc) - cos(W)*cos(w))**2/(e + 1)**2 + a**2*(e**2 - 1)**2*sin(inc)**2*sin(w)**2/(e + 1)**2)) + a*(1 - e**2)*(-sin(W)*sin(w + 2*atan(1.0*sqrt(e + 1)*sqrt(1/(1 - e))))*cos(inc) + cos(W)*cos(w + 2*atan(1.0*sqrt(e + 1)*sqrt(1/(1 - e)))))/(e*cos(2*atan(1.0*sqrt(e + 1)*sqrt(1/(1 - e)))) + 1))**2))**2)/2\n"
     ]
    }
   ],
   "source": [
    "print(dmajorp)"
   ]
  },
  {
   "cell_type": "code",
   "execution_count": 36,
   "metadata": {},
   "outputs": [
    {
     "name": "stdout",
     "output_type": "stream",
     "text": [
      "-sqrt(Abs(a**2*e*(1 - e**2)*(sin(W)*cos(w) + sin(w)*cos(W)*cos(inc))/((e + 1)*sqrt(a**2*(e**2 - 1)**2*(sin(W)*cos(w) + sin(w)*cos(W)*cos(inc))**2/(e + 1)**2 + a**2*(e**2 - 1)**2*(sin(W)*sin(w)*cos(inc) - cos(W)*cos(w))**2/(e + 1)**2 + a**2*(e**2 - 1)**2*sin(inc)**2*sin(w)**2/(e + 1)**2)) + a*(1 - e**2)*(sin(W)*cos(w + 3.14159265358979) + sin(w + 3.14159265358979)*cos(W)*cos(inc))/(1 - 1.0*e) - (a**2*e*(1 - e**2)*(-sin(W)*sin(w)*cos(inc) + cos(W)*cos(w))/((e + 1)*sqrt(a**2*(e**2 - 1)**2*(sin(W)*cos(w) + sin(w)*cos(W)*cos(inc))**2/(e + 1)**2 + a**2*(e**2 - 1)**2*(sin(W)*sin(w)*cos(inc) - cos(W)*cos(w))**2/(e + 1)**2 + a**2*(e**2 - 1)**2*sin(inc)**2*sin(w)**2/(e + 1)**2)) + a*(1 - e**2)*(-sin(W)*sin(w + 2*atan(1.0*sqrt(e + 1)*sqrt(1/(1 - e))))*cos(inc) + cos(W)*cos(w + 2*atan(1.0*sqrt(e + 1)*sqrt(1/(1 - e)))))/(e*cos(2*atan(1.0*sqrt(e + 1)*sqrt(1/(1 - e)))) + 1))*sqrt(Abs(a**2*e*(1 - e**2)*(sin(W)*cos(w) + sin(w)*cos(W)*cos(inc))/((e + 1)*sqrt(a**2*(e**2 - 1)**2*(sin(W)*cos(w) + sin(w)*cos(W)*cos(inc))**2/(e + 1)**2 + a**2*(e**2 - 1)**2*(sin(W)*sin(w)*cos(inc) - cos(W)*cos(w))**2/(e + 1)**2 + a**2*(e**2 - 1)**2*sin(inc)**2*sin(w)**2/(e + 1)**2)) + a*(1 - e**2)*(sin(W)*cos(w + 2*atan(1.0*sqrt(e + 1)*sqrt(1/(1 - e)))) + sin(w + 2*atan(1.0*sqrt(e + 1)*sqrt(1/(1 - e))))*cos(W)*cos(inc))/(e*cos(2*atan(1.0*sqrt(e + 1)*sqrt(1/(1 - e)))) + 1))**2 + Abs(a**2*e*(1 - e**2)*(-sin(W)*sin(w)*cos(inc) + cos(W)*cos(w))/((e + 1)*sqrt(a**2*(e**2 - 1)**2*(sin(W)*cos(w) + sin(w)*cos(W)*cos(inc))**2/(e + 1)**2 + a**2*(e**2 - 1)**2*(sin(W)*sin(w)*cos(inc) - cos(W)*cos(w))**2/(e + 1)**2 + a**2*(e**2 - 1)**2*sin(inc)**2*sin(w)**2/(e + 1)**2)) + a*(1 - e**2)*(-sin(W)*sin(w + 2*atan(1.0*sqrt(e + 1)*sqrt(1/(1 - e))))*cos(inc) + cos(W)*cos(w + 2*atan(1.0*sqrt(e + 1)*sqrt(1/(1 - e)))))/(e*cos(2*atan(1.0*sqrt(e + 1)*sqrt(1/(1 - e)))) + 1))**2)/sqrt(Abs(-a**2*e*(1 - e**2)*(sin(W)*cos(w) + sin(w)*cos(W)*cos(inc))/((e + 1)*sqrt(a**2*(e**2 - 1)**2*(sin(W)*cos(w) + sin(w)*cos(W)*cos(inc))**2/(e + 1)**2 + a**2*(e**2 - 1)**2*(sin(W)*sin(w)*cos(inc) - cos(W)*cos(w))**2/(e + 1)**2 + a**2*(e**2 - 1)**2*sin(inc)**2*sin(w)**2/(e + 1)**2)) - a*(1 - e**2)*(sin(W)*cos(w + 2*atan(1.0*sqrt(e + 1)*sqrt(1/(1 - e)))) + sin(w + 2*atan(1.0*sqrt(e + 1)*sqrt(1/(1 - e))))*cos(W)*cos(inc))/(e*cos(2*atan(1.0*sqrt(e + 1)*sqrt(1/(1 - e)))) + 1))**2 + Abs(a**2*e*(1 - e**2)*(-sin(W)*sin(w)*cos(inc) + cos(W)*cos(w))/((e + 1)*sqrt(a**2*(e**2 - 1)**2*(sin(W)*cos(w) + sin(w)*cos(W)*cos(inc))**2/(e + 1)**2 + a**2*(e**2 - 1)**2*(sin(W)*sin(w)*cos(inc) - cos(W)*cos(w))**2/(e + 1)**2 + a**2*(e**2 - 1)**2*sin(inc)**2*sin(w)**2/(e + 1)**2)) + a*(1 - e**2)*(-sin(W)*sin(w + 2*atan(1.0*sqrt(e + 1)*sqrt(1/(1 - e))))*cos(inc) + cos(W)*cos(w + 2*atan(1.0*sqrt(e + 1)*sqrt(1/(1 - e)))))/(e*cos(2*atan(1.0*sqrt(e + 1)*sqrt(1/(1 - e)))) + 1))**2))**2 + Abs(a**2*e*(1 - e**2)*(-sin(W)*sin(w)*cos(inc) + cos(W)*cos(w))/((e + 1)*sqrt(a**2*(e**2 - 1)**2*(sin(W)*cos(w) + sin(w)*cos(W)*cos(inc))**2/(e + 1)**2 + a**2*(e**2 - 1)**2*(sin(W)*sin(w)*cos(inc) - cos(W)*cos(w))**2/(e + 1)**2 + a**2*(e**2 - 1)**2*sin(inc)**2*sin(w)**2/(e + 1)**2)) + a*(1 - e**2)*(-sin(W)*sin(w + 3.14159265358979)*cos(inc) + cos(W)*cos(w + 3.14159265358979))/(1 - 1.0*e) - (-a**2*e*(1 - e**2)*(sin(W)*cos(w) + sin(w)*cos(W)*cos(inc))/((e + 1)*sqrt(a**2*(e**2 - 1)**2*(sin(W)*cos(w) + sin(w)*cos(W)*cos(inc))**2/(e + 1)**2 + a**2*(e**2 - 1)**2*(sin(W)*sin(w)*cos(inc) - cos(W)*cos(w))**2/(e + 1)**2 + a**2*(e**2 - 1)**2*sin(inc)**2*sin(w)**2/(e + 1)**2)) - a*(1 - e**2)*(sin(W)*cos(w + 2*atan(1.0*sqrt(e + 1)*sqrt(1/(1 - e)))) + sin(w + 2*atan(1.0*sqrt(e + 1)*sqrt(1/(1 - e))))*cos(W)*cos(inc))/(e*cos(2*atan(1.0*sqrt(e + 1)*sqrt(1/(1 - e)))) + 1))*sqrt(Abs(a**2*e*(1 - e**2)*(sin(W)*cos(w) + sin(w)*cos(W)*cos(inc))/((e + 1)*sqrt(a**2*(e**2 - 1)**2*(sin(W)*cos(w) + sin(w)*cos(W)*cos(inc))**2/(e + 1)**2 + a**2*(e**2 - 1)**2*(sin(W)*sin(w)*cos(inc) - cos(W)*cos(w))**2/(e + 1)**2 + a**2*(e**2 - 1)**2*sin(inc)**2*sin(w)**2/(e + 1)**2)) + a*(1 - e**2)*(sin(W)*cos(w + 2*atan(1.0*sqrt(e + 1)*sqrt(1/(1 - e)))) + sin(w + 2*atan(1.0*sqrt(e + 1)*sqrt(1/(1 - e))))*cos(W)*cos(inc))/(e*cos(2*atan(1.0*sqrt(e + 1)*sqrt(1/(1 - e)))) + 1))**2 + Abs(a**2*e*(1 - e**2)*(-sin(W)*sin(w)*cos(inc) + cos(W)*cos(w))/((e + 1)*sqrt(a**2*(e**2 - 1)**2*(sin(W)*cos(w) + sin(w)*cos(W)*cos(inc))**2/(e + 1)**2 + a**2*(e**2 - 1)**2*(sin(W)*sin(w)*cos(inc) - cos(W)*cos(w))**2/(e + 1)**2 + a**2*(e**2 - 1)**2*sin(inc)**2*sin(w)**2/(e + 1)**2)) + a*(1 - e**2)*(-sin(W)*sin(w + 2*atan(1.0*sqrt(e + 1)*sqrt(1/(1 - e))))*cos(inc) + cos(W)*cos(w + 2*atan(1.0*sqrt(e + 1)*sqrt(1/(1 - e)))))/(e*cos(2*atan(1.0*sqrt(e + 1)*sqrt(1/(1 - e)))) + 1))**2)/sqrt(Abs(-a**2*e*(1 - e**2)*(sin(W)*cos(w) + sin(w)*cos(W)*cos(inc))/((e + 1)*sqrt(a**2*(e**2 - 1)**2*(sin(W)*cos(w) + sin(w)*cos(W)*cos(inc))**2/(e + 1)**2 + a**2*(e**2 - 1)**2*(sin(W)*sin(w)*cos(inc) - cos(W)*cos(w))**2/(e + 1)**2 + a**2*(e**2 - 1)**2*sin(inc)**2*sin(w)**2/(e + 1)**2)) - a*(1 - e**2)*(sin(W)*cos(w + 2*atan(1.0*sqrt(e + 1)*sqrt(1/(1 - e)))) + sin(w + 2*atan(1.0*sqrt(e + 1)*sqrt(1/(1 - e))))*cos(W)*cos(inc))/(e*cos(2*atan(1.0*sqrt(e + 1)*sqrt(1/(1 - e)))) + 1))**2 + Abs(a**2*e*(1 - e**2)*(-sin(W)*sin(w)*cos(inc) + cos(W)*cos(w))/((e + 1)*sqrt(a**2*(e**2 - 1)**2*(sin(W)*cos(w) + sin(w)*cos(W)*cos(inc))**2/(e + 1)**2 + a**2*(e**2 - 1)**2*(sin(W)*sin(w)*cos(inc) - cos(W)*cos(w))**2/(e + 1)**2 + a**2*(e**2 - 1)**2*sin(inc)**2*sin(w)**2/(e + 1)**2)) + a*(1 - e**2)*(-sin(W)*sin(w + 2*atan(1.0*sqrt(e + 1)*sqrt(1/(1 - e))))*cos(inc) + cos(W)*cos(w + 2*atan(1.0*sqrt(e + 1)*sqrt(1/(1 - e)))))/(e*cos(2*atan(1.0*sqrt(e + 1)*sqrt(1/(1 - e)))) + 1))**2))**2)/2 + sqrt(Abs(a**2*e*(1 - e**2)*(sin(W)*cos(w) + sin(w)*cos(W)*cos(inc))/((e + 1)*sqrt(a**2*(e**2 - 1)**2*(sin(W)*cos(w) + sin(w)*cos(W)*cos(inc))**2/(e + 1)**2 + a**2*(e**2 - 1)**2*(sin(W)*sin(w)*cos(inc) - cos(W)*cos(w))**2/(e + 1)**2 + a**2*(e**2 - 1)**2*sin(inc)**2*sin(w)**2/(e + 1)**2)) + a*(1 - e**2)*(sin(W)*cos(w + 3.14159265358979) + sin(w + 3.14159265358979)*cos(W)*cos(inc))/(1 - 1.0*e) + (a**2*e*(1 - e**2)*(-sin(W)*sin(w)*cos(inc) + cos(W)*cos(w))/((e + 1)*sqrt(a**2*(e**2 - 1)**2*(sin(W)*cos(w) + sin(w)*cos(W)*cos(inc))**2/(e + 1)**2 + a**2*(e**2 - 1)**2*(sin(W)*sin(w)*cos(inc) - cos(W)*cos(w))**2/(e + 1)**2 + a**2*(e**2 - 1)**2*sin(inc)**2*sin(w)**2/(e + 1)**2)) + a*(1 - e**2)*(-sin(W)*sin(w + 2*atan(1.0*sqrt(e + 1)*sqrt(1/(1 - e))))*cos(inc) + cos(W)*cos(w + 2*atan(1.0*sqrt(e + 1)*sqrt(1/(1 - e)))))/(e*cos(2*atan(1.0*sqrt(e + 1)*sqrt(1/(1 - e)))) + 1))*sqrt(Abs(a**2*e*(1 - e**2)*(sin(W)*cos(w) + sin(w)*cos(W)*cos(inc))/((e + 1)*sqrt(a**2*(e**2 - 1)**2*(sin(W)*cos(w) + sin(w)*cos(W)*cos(inc))**2/(e + 1)**2 + a**2*(e**2 - 1)**2*(sin(W)*sin(w)*cos(inc) - cos(W)*cos(w))**2/(e + 1)**2 + a**2*(e**2 - 1)**2*sin(inc)**2*sin(w)**2/(e + 1)**2)) + a*(1 - e**2)*(sin(W)*cos(w + 2*atan(1.0*sqrt(e + 1)*sqrt(1/(1 - e)))) + sin(w + 2*atan(1.0*sqrt(e + 1)*sqrt(1/(1 - e))))*cos(W)*cos(inc))/(e*cos(2*atan(1.0*sqrt(e + 1)*sqrt(1/(1 - e)))) + 1))**2 + Abs(a**2*e*(1 - e**2)*(-sin(W)*sin(w)*cos(inc) + cos(W)*cos(w))/((e + 1)*sqrt(a**2*(e**2 - 1)**2*(sin(W)*cos(w) + sin(w)*cos(W)*cos(inc))**2/(e + 1)**2 + a**2*(e**2 - 1)**2*(sin(W)*sin(w)*cos(inc) - cos(W)*cos(w))**2/(e + 1)**2 + a**2*(e**2 - 1)**2*sin(inc)**2*sin(w)**2/(e + 1)**2)) + a*(1 - e**2)*(-sin(W)*sin(w + 2*atan(1.0*sqrt(e + 1)*sqrt(1/(1 - e))))*cos(inc) + cos(W)*cos(w + 2*atan(1.0*sqrt(e + 1)*sqrt(1/(1 - e)))))/(e*cos(2*atan(1.0*sqrt(e + 1)*sqrt(1/(1 - e)))) + 1))**2)/sqrt(Abs(-a**2*e*(1 - e**2)*(sin(W)*cos(w) + sin(w)*cos(W)*cos(inc))/((e + 1)*sqrt(a**2*(e**2 - 1)**2*(sin(W)*cos(w) + sin(w)*cos(W)*cos(inc))**2/(e + 1)**2 + a**2*(e**2 - 1)**2*(sin(W)*sin(w)*cos(inc) - cos(W)*cos(w))**2/(e + 1)**2 + a**2*(e**2 - 1)**2*sin(inc)**2*sin(w)**2/(e + 1)**2)) - a*(1 - e**2)*(sin(W)*cos(w + 2*atan(1.0*sqrt(e + 1)*sqrt(1/(1 - e)))) + sin(w + 2*atan(1.0*sqrt(e + 1)*sqrt(1/(1 - e))))*cos(W)*cos(inc))/(e*cos(2*atan(1.0*sqrt(e + 1)*sqrt(1/(1 - e)))) + 1))**2 + Abs(a**2*e*(1 - e**2)*(-sin(W)*sin(w)*cos(inc) + cos(W)*cos(w))/((e + 1)*sqrt(a**2*(e**2 - 1)**2*(sin(W)*cos(w) + sin(w)*cos(W)*cos(inc))**2/(e + 1)**2 + a**2*(e**2 - 1)**2*(sin(W)*sin(w)*cos(inc) - cos(W)*cos(w))**2/(e + 1)**2 + a**2*(e**2 - 1)**2*sin(inc)**2*sin(w)**2/(e + 1)**2)) + a*(1 - e**2)*(-sin(W)*sin(w + 2*atan(1.0*sqrt(e + 1)*sqrt(1/(1 - e))))*cos(inc) + cos(W)*cos(w + 2*atan(1.0*sqrt(e + 1)*sqrt(1/(1 - e)))))/(e*cos(2*atan(1.0*sqrt(e + 1)*sqrt(1/(1 - e)))) + 1))**2))**2 + Abs(a**2*e*(1 - e**2)*(-sin(W)*sin(w)*cos(inc) + cos(W)*cos(w))/((e + 1)*sqrt(a**2*(e**2 - 1)**2*(sin(W)*cos(w) + sin(w)*cos(W)*cos(inc))**2/(e + 1)**2 + a**2*(e**2 - 1)**2*(sin(W)*sin(w)*cos(inc) - cos(W)*cos(w))**2/(e + 1)**2 + a**2*(e**2 - 1)**2*sin(inc)**2*sin(w)**2/(e + 1)**2)) + a*(1 - e**2)*(-sin(W)*sin(w + 3.14159265358979)*cos(inc) + cos(W)*cos(w + 3.14159265358979))/(1 - 1.0*e) + (-a**2*e*(1 - e**2)*(sin(W)*cos(w) + sin(w)*cos(W)*cos(inc))/((e + 1)*sqrt(a**2*(e**2 - 1)**2*(sin(W)*cos(w) + sin(w)*cos(W)*cos(inc))**2/(e + 1)**2 + a**2*(e**2 - 1)**2*(sin(W)*sin(w)*cos(inc) - cos(W)*cos(w))**2/(e + 1)**2 + a**2*(e**2 - 1)**2*sin(inc)**2*sin(w)**2/(e + 1)**2)) - a*(1 - e**2)*(sin(W)*cos(w + 2*atan(1.0*sqrt(e + 1)*sqrt(1/(1 - e)))) + sin(w + 2*atan(1.0*sqrt(e + 1)*sqrt(1/(1 - e))))*cos(W)*cos(inc))/(e*cos(2*atan(1.0*sqrt(e + 1)*sqrt(1/(1 - e)))) + 1))*sqrt(Abs(a**2*e*(1 - e**2)*(sin(W)*cos(w) + sin(w)*cos(W)*cos(inc))/((e + 1)*sqrt(a**2*(e**2 - 1)**2*(sin(W)*cos(w) + sin(w)*cos(W)*cos(inc))**2/(e + 1)**2 + a**2*(e**2 - 1)**2*(sin(W)*sin(w)*cos(inc) - cos(W)*cos(w))**2/(e + 1)**2 + a**2*(e**2 - 1)**2*sin(inc)**2*sin(w)**2/(e + 1)**2)) + a*(1 - e**2)*(sin(W)*cos(w + 2*atan(1.0*sqrt(e + 1)*sqrt(1/(1 - e)))) + sin(w + 2*atan(1.0*sqrt(e + 1)*sqrt(1/(1 - e))))*cos(W)*cos(inc))/(e*cos(2*atan(1.0*sqrt(e + 1)*sqrt(1/(1 - e)))) + 1))**2 + Abs(a**2*e*(1 - e**2)*(-sin(W)*sin(w)*cos(inc) + cos(W)*cos(w))/((e + 1)*sqrt(a**2*(e**2 - 1)**2*(sin(W)*cos(w) + sin(w)*cos(W)*cos(inc))**2/(e + 1)**2 + a**2*(e**2 - 1)**2*(sin(W)*sin(w)*cos(inc) - cos(W)*cos(w))**2/(e + 1)**2 + a**2*(e**2 - 1)**2*sin(inc)**2*sin(w)**2/(e + 1)**2)) + a*(1 - e**2)*(-sin(W)*sin(w + 2*atan(1.0*sqrt(e + 1)*sqrt(1/(1 - e))))*cos(inc) + cos(W)*cos(w + 2*atan(1.0*sqrt(e + 1)*sqrt(1/(1 - e)))))/(e*cos(2*atan(1.0*sqrt(e + 1)*sqrt(1/(1 - e)))) + 1))**2)/sqrt(Abs(-a**2*e*(1 - e**2)*(sin(W)*cos(w) + sin(w)*cos(W)*cos(inc))/((e + 1)*sqrt(a**2*(e**2 - 1)**2*(sin(W)*cos(w) + sin(w)*cos(W)*cos(inc))**2/(e + 1)**2 + a**2*(e**2 - 1)**2*(sin(W)*sin(w)*cos(inc) - cos(W)*cos(w))**2/(e + 1)**2 + a**2*(e**2 - 1)**2*sin(inc)**2*sin(w)**2/(e + 1)**2)) - a*(1 - e**2)*(sin(W)*cos(w + 2*atan(1.0*sqrt(e + 1)*sqrt(1/(1 - e)))) + sin(w + 2*atan(1.0*sqrt(e + 1)*sqrt(1/(1 - e))))*cos(W)*cos(inc))/(e*cos(2*atan(1.0*sqrt(e + 1)*sqrt(1/(1 - e)))) + 1))**2 + Abs(a**2*e*(1 - e**2)*(-sin(W)*sin(w)*cos(inc) + cos(W)*cos(w))/((e + 1)*sqrt(a**2*(e**2 - 1)**2*(sin(W)*cos(w) + sin(w)*cos(W)*cos(inc))**2/(e + 1)**2 + a**2*(e**2 - 1)**2*(sin(W)*sin(w)*cos(inc) - cos(W)*cos(w))**2/(e + 1)**2 + a**2*(e**2 - 1)**2*sin(inc)**2*sin(w)**2/(e + 1)**2)) + a*(1 - e**2)*(-sin(W)*sin(w + 2*atan(1.0*sqrt(e + 1)*sqrt(1/(1 - e))))*cos(inc) + cos(W)*cos(w + 2*atan(1.0*sqrt(e + 1)*sqrt(1/(1 - e)))))/(e*cos(2*atan(1.0*sqrt(e + 1)*sqrt(1/(1 - e)))) + 1))**2))**2)/2\n"
     ]
    }
   ],
   "source": [
    "print(dminorp)"
   ]
  },
  {
   "cell_type": "code",
   "execution_count": null,
   "metadata": {},
   "outputs": [],
   "source": []
  }
 ],
 "metadata": {
  "kernelspec": {
   "display_name": "Python 3",
   "language": "python",
   "name": "python3"
  },
  "language_info": {
   "codemirror_mode": {
    "name": "ipython",
    "version": 3
   },
   "file_extension": ".py",
   "mimetype": "text/x-python",
   "name": "python",
   "nbconvert_exporter": "python",
   "pygments_lexer": "ipython3",
   "version": "3.6.9"
  }
 },
 "nbformat": 4,
 "nbformat_minor": 4
}
