{
 "cells": [
  {
   "cell_type": "code",
   "execution_count": 1,
   "metadata": {},
   "outputs": [],
   "source": [
    "import sympy as sp\n",
    "import numpy as np"
   ]
  },
  {
   "cell_type": "code",
   "execution_count": 2,
   "metadata": {},
   "outputs": [],
   "source": [
    "a, b, e, c = sp.symbols('a b e c', real=True, positive=True)\n",
    "ap, bp, ep, cp = sp.symbols('ap bp ep cp', real=True, positive=True)\n",
    "W, w, inc, v, Omega, omega, nu = sp.symbols('W w inc v Omega omega nu',real=True)\n",
    "E, gamma, phi = sp.symbols('E gamma phi', real=True)\n",
    "thx, thy, thz = sp.symbols('thx thy thz', real=True)\n",
    "vx, vy, vz = sp.symbols('vx vy vz', real=True)\n",
    "c1x, c1y, c1z, c2x, c2y, c2z, c3x, c3y, c3z = sp.symbols('c1x c1y c1z c2x c2y c2z c3x c3y c3z', real=True)\n",
    "#cx, cy = sp.symbols('cx cy', real=True)\n",
    "Sxy, Sxz, Syx, Syz, Szx, Szy = sp.symbols('Sxy Sxz Syx Syz Szx Szy',real=True)"
   ]
  },
  {
   "cell_type": "code",
   "execution_count": 3,
   "metadata": {},
   "outputs": [],
   "source": [
    "eqnr = a*(1-e**2)/(1+e*sp.cos(v))\n",
    "eqnX = eqnr*(sp.cos(W)*sp.cos(w+v) - sp.sin(W)*sp.sin(w+v)*sp.cos(inc))\n",
    "eqnY = eqnr*(sp.sin(W)*sp.cos(w+v) + sp.cos(W)*sp.sin(w+v)*sp.cos(inc))\n",
    "eqnZ = eqnr*(sp.sin(inc)*sp.sin(w+v))"
   ]
  },
  {
   "cell_type": "markdown",
   "metadata": {},
   "source": [
    "# Eccentricity"
   ]
  },
  {
   "cell_type": "code",
   "execution_count": 4,
   "metadata": {},
   "outputs": [],
   "source": [
    "ep_apbp = sp.sqrt(1-bp**2/ap**2)\n",
    "bp_apep = ap*sp.sqrt(ep**2-1)\n",
    "cp_apep = ap*ep #linear eccentricity\n",
    "cp_apbp = sp.sqrt(ap**2-bp**2) #linear eccentricity"
   ]
  },
  {
   "cell_type": "code",
   "execution_count": 5,
   "metadata": {},
   "outputs": [],
   "source": [
    "e_ab = sp.sqrt(1-b**2/a**2)\n",
    "b_ae = a*sp.sqrt(e**2-1)\n",
    "c_ae = a*e #linear eccentricity\n",
    "c_ab = sp.sqrt(a**2-b**2) #linear eccentricity"
   ]
  },
  {
   "cell_type": "markdown",
   "metadata": {},
   "source": [
    "# Eccentric Anomaly"
   ]
  },
  {
   "cell_type": "code",
   "execution_count": 6,
   "metadata": {},
   "outputs": [],
   "source": [
    "nu_Ee = 2*sp.atan(sp.sqrt((1+e)/(1-e))*sp.tan(E/2))"
   ]
  },
  {
   "cell_type": "code",
   "execution_count": null,
   "metadata": {},
   "outputs": [],
   "source": []
  },
  {
   "cell_type": "markdown",
   "metadata": {},
   "source": [
    "# 3D Ellipse Vectors"
   ]
  },
  {
   "cell_type": "code",
   "execution_count": 7,
   "metadata": {},
   "outputs": [],
   "source": [
    "r_perigee3D = sp.Matrix([[eqnX], [eqnY], [eqnZ]]).subs(v,0)"
   ]
  },
  {
   "cell_type": "code",
   "execution_count": 8,
   "metadata": {},
   "outputs": [],
   "source": [
    "rhat_perigee3D = r_perigee3D/r_perigee3D.norm()"
   ]
  },
  {
   "cell_type": "markdown",
   "metadata": {},
   "source": [
    "# 3D Ellipse Center"
   ]
  },
  {
   "cell_type": "code",
   "execution_count": 9,
   "metadata": {},
   "outputs": [],
   "source": [
    "r_3Dellipsecenter = -rhat_perigee3D*c_ae\n",
    "O = -rhat_perigee3D*c_ae"
   ]
  },
  {
   "cell_type": "markdown",
   "metadata": {},
   "source": [
    "# Proof Math"
   ]
  },
  {
   "cell_type": "code",
   "execution_count": 10,
   "metadata": {},
   "outputs": [],
   "source": [
    "#Ap = sp.Matrix([[eqnX], [eqnY]]).subs(v,0) # not needed\n",
    "Bp = sp.Matrix([[eqnX], [eqnY], [0]]).subs(v,np.pi/2)\n",
    "Cp = sp.Matrix([[eqnX], [eqnY], [0]]).subs(v,nu_Ee.subs(E,np.pi/2))\n",
    "#Dp = sp.Matrix([[eqnX], [eqnY]]).subs(v,nu_Ee.subs(E,-np.pi/2)) # not needed"
   ]
  },
  {
   "cell_type": "code",
   "execution_count": 11,
   "metadata": {},
   "outputs": [],
   "source": [
    "Op = sp.Matrix([[O[0]],[O[1]],[0]])\n",
    "OpCp = Cp-Op\n",
    "OpBp = Bp-Op\n",
    "QQp_hat = sp.Matrix([[0],[0],[1]]).cross(OpCp)"
   ]
  },
  {
   "cell_type": "code",
   "execution_count": 12,
   "metadata": {},
   "outputs": [],
   "source": [
    "dOpCp = OpCp.norm() #length of OpCp"
   ]
  },
  {
   "cell_type": "code",
   "execution_count": 13,
   "metadata": {},
   "outputs": [],
   "source": [
    "Q = Bp + dOpCp*QQp_hat\n",
    "Qp = Bp - dOpCp*QQp_hat"
   ]
  },
  {
   "cell_type": "code",
   "execution_count": 14,
   "metadata": {},
   "outputs": [],
   "source": [
    "OpQ = Q - Op\n",
    "OpQp = Qp - Op\n",
    "Gamma = sp.acos(OpQp.dot(OpQ)/OpQ.norm()/OpQp.norm()) #angle between OpQ and OpQp"
   ]
  },
  {
   "cell_type": "code",
   "execution_count": 15,
   "metadata": {},
   "outputs": [],
   "source": [
    "dOpCp = OpCp.norm()\n",
    "dOpBp = OpBp.norm()\n",
    "theta = sp.acos(OpCp.dot(OpBp)/dOpCp/dOpBp)"
   ]
  },
  {
   "cell_type": "code",
   "execution_count": 17,
   "metadata": {},
   "outputs": [],
   "source": [
    "dOpQ = OpQ.norm()\n",
    "dOpQp = OpQp.norm()\n",
    "dIR = dOpQp + dOpQ\n",
    "dTS = dOpQp - dOpQ\n",
    "dmajorp = dIR/2\n",
    "dminorp = dTS/2"
   ]
  },
  {
   "cell_type": "code",
   "execution_count": 19,
   "metadata": {},
   "outputs": [
    {
     "data": {
      "text/latex": [
       "$\\displaystyle \\frac{\\sqrt{\\left|{\\frac{a^{2} e \\left(1 - e^{2}\\right) \\left(\\sin{\\left(W \\right)} \\cos{\\left(w \\right)} + \\sin{\\left(w \\right)} \\cos{\\left(W \\right)} \\cos{\\left(inc \\right)}\\right)}{\\left(e + 1\\right) \\sqrt{\\frac{a^{2} \\left(e^{2} - 1\\right)^{2} \\left(\\sin{\\left(W \\right)} \\cos{\\left(w \\right)} + \\sin{\\left(w \\right)} \\cos{\\left(W \\right)} \\cos{\\left(inc \\right)}\\right)^{2}}{\\left(e + 1\\right)^{2}} + \\frac{a^{2} \\left(e^{2} - 1\\right)^{2} \\left(\\sin{\\left(W \\right)} \\sin{\\left(w \\right)} \\cos{\\left(inc \\right)} - \\cos{\\left(W \\right)} \\cos{\\left(w \\right)}\\right)^{2}}{\\left(e + 1\\right)^{2}} + \\frac{a^{2} \\left(e^{2} - 1\\right)^{2} \\sin^{2}{\\left(inc \\right)} \\sin^{2}{\\left(w \\right)}}{\\left(e + 1\\right)^{2}}}} + \\frac{a \\left(1 - e^{2}\\right) \\left(\\sin{\\left(W \\right)} \\cos{\\left(w + 1.5707963267949 \\right)} + \\sin{\\left(w + 1.5707963267949 \\right)} \\cos{\\left(W \\right)} \\cos{\\left(inc \\right)}\\right)}{6.12323399573677 \\cdot 10^{-17} e + 1} - \\left(\\frac{a^{2} e \\left(1 - e^{2}\\right) \\left(- \\sin{\\left(W \\right)} \\sin{\\left(w \\right)} \\cos{\\left(inc \\right)} + \\cos{\\left(W \\right)} \\cos{\\left(w \\right)}\\right)}{\\left(e + 1\\right) \\sqrt{\\frac{a^{2} \\left(e^{2} - 1\\right)^{2} \\left(\\sin{\\left(W \\right)} \\cos{\\left(w \\right)} + \\sin{\\left(w \\right)} \\cos{\\left(W \\right)} \\cos{\\left(inc \\right)}\\right)^{2}}{\\left(e + 1\\right)^{2}} + \\frac{a^{2} \\left(e^{2} - 1\\right)^{2} \\left(\\sin{\\left(W \\right)} \\sin{\\left(w \\right)} \\cos{\\left(inc \\right)} - \\cos{\\left(W \\right)} \\cos{\\left(w \\right)}\\right)^{2}}{\\left(e + 1\\right)^{2}} + \\frac{a^{2} \\left(e^{2} - 1\\right)^{2} \\sin^{2}{\\left(inc \\right)} \\sin^{2}{\\left(w \\right)}}{\\left(e + 1\\right)^{2}}}} + \\frac{a \\left(1 - e^{2}\\right) \\left(- \\sin{\\left(W \\right)} \\sin{\\left(w + 2 \\operatorname{atan}{\\left(1.0 \\sqrt{e + 1} \\sqrt{\\frac{1}{1 - e}} \\right)} \\right)} \\cos{\\left(inc \\right)} + \\cos{\\left(W \\right)} \\cos{\\left(w + 2 \\operatorname{atan}{\\left(1.0 \\sqrt{e + 1} \\sqrt{\\frac{1}{1 - e}} \\right)} \\right)}\\right)}{e \\cos{\\left(2 \\operatorname{atan}{\\left(1.0 \\sqrt{e + 1} \\sqrt{\\frac{1}{1 - e}} \\right)} \\right)} + 1}\\right) \\sqrt{\\left|{\\frac{a^{2} e \\left(1 - e^{2}\\right) \\left(\\sin{\\left(W \\right)} \\cos{\\left(w \\right)} + \\sin{\\left(w \\right)} \\cos{\\left(W \\right)} \\cos{\\left(inc \\right)}\\right)}{\\left(e + 1\\right) \\sqrt{\\frac{a^{2} \\left(e^{2} - 1\\right)^{2} \\left(\\sin{\\left(W \\right)} \\cos{\\left(w \\right)} + \\sin{\\left(w \\right)} \\cos{\\left(W \\right)} \\cos{\\left(inc \\right)}\\right)^{2}}{\\left(e + 1\\right)^{2}} + \\frac{a^{2} \\left(e^{2} - 1\\right)^{2} \\left(\\sin{\\left(W \\right)} \\sin{\\left(w \\right)} \\cos{\\left(inc \\right)} - \\cos{\\left(W \\right)} \\cos{\\left(w \\right)}\\right)^{2}}{\\left(e + 1\\right)^{2}} + \\frac{a^{2} \\left(e^{2} - 1\\right)^{2} \\sin^{2}{\\left(inc \\right)} \\sin^{2}{\\left(w \\right)}}{\\left(e + 1\\right)^{2}}}} + \\frac{a \\left(1 - e^{2}\\right) \\left(\\sin{\\left(W \\right)} \\cos{\\left(w + 2 \\operatorname{atan}{\\left(1.0 \\sqrt{e + 1} \\sqrt{\\frac{1}{1 - e}} \\right)} \\right)} + \\sin{\\left(w + 2 \\operatorname{atan}{\\left(1.0 \\sqrt{e + 1} \\sqrt{\\frac{1}{1 - e}} \\right)} \\right)} \\cos{\\left(W \\right)} \\cos{\\left(inc \\right)}\\right)}{e \\cos{\\left(2 \\operatorname{atan}{\\left(1.0 \\sqrt{e + 1} \\sqrt{\\frac{1}{1 - e}} \\right)} \\right)} + 1}}\\right|^{2} + \\left|{\\frac{a^{2} e \\left(1 - e^{2}\\right) \\left(- \\sin{\\left(W \\right)} \\sin{\\left(w \\right)} \\cos{\\left(inc \\right)} + \\cos{\\left(W \\right)} \\cos{\\left(w \\right)}\\right)}{\\left(e + 1\\right) \\sqrt{\\frac{a^{2} \\left(e^{2} - 1\\right)^{2} \\left(\\sin{\\left(W \\right)} \\cos{\\left(w \\right)} + \\sin{\\left(w \\right)} \\cos{\\left(W \\right)} \\cos{\\left(inc \\right)}\\right)^{2}}{\\left(e + 1\\right)^{2}} + \\frac{a^{2} \\left(e^{2} - 1\\right)^{2} \\left(\\sin{\\left(W \\right)} \\sin{\\left(w \\right)} \\cos{\\left(inc \\right)} - \\cos{\\left(W \\right)} \\cos{\\left(w \\right)}\\right)^{2}}{\\left(e + 1\\right)^{2}} + \\frac{a^{2} \\left(e^{2} - 1\\right)^{2} \\sin^{2}{\\left(inc \\right)} \\sin^{2}{\\left(w \\right)}}{\\left(e + 1\\right)^{2}}}} + \\frac{a \\left(1 - e^{2}\\right) \\left(- \\sin{\\left(W \\right)} \\sin{\\left(w + 2 \\operatorname{atan}{\\left(1.0 \\sqrt{e + 1} \\sqrt{\\frac{1}{1 - e}} \\right)} \\right)} \\cos{\\left(inc \\right)} + \\cos{\\left(W \\right)} \\cos{\\left(w + 2 \\operatorname{atan}{\\left(1.0 \\sqrt{e + 1} \\sqrt{\\frac{1}{1 - e}} \\right)} \\right)}\\right)}{e \\cos{\\left(2 \\operatorname{atan}{\\left(1.0 \\sqrt{e + 1} \\sqrt{\\frac{1}{1 - e}} \\right)} \\right)} + 1}}\\right|^{2}}}\\right|^{2} + \\left|{\\frac{a^{2} e \\left(1 - e^{2}\\right) \\left(- \\sin{\\left(W \\right)} \\sin{\\left(w \\right)} \\cos{\\left(inc \\right)} + \\cos{\\left(W \\right)} \\cos{\\left(w \\right)}\\right)}{\\left(e + 1\\right) \\sqrt{\\frac{a^{2} \\left(e^{2} - 1\\right)^{2} \\left(\\sin{\\left(W \\right)} \\cos{\\left(w \\right)} + \\sin{\\left(w \\right)} \\cos{\\left(W \\right)} \\cos{\\left(inc \\right)}\\right)^{2}}{\\left(e + 1\\right)^{2}} + \\frac{a^{2} \\left(e^{2} - 1\\right)^{2} \\left(\\sin{\\left(W \\right)} \\sin{\\left(w \\right)} \\cos{\\left(inc \\right)} - \\cos{\\left(W \\right)} \\cos{\\left(w \\right)}\\right)^{2}}{\\left(e + 1\\right)^{2}} + \\frac{a^{2} \\left(e^{2} - 1\\right)^{2} \\sin^{2}{\\left(inc \\right)} \\sin^{2}{\\left(w \\right)}}{\\left(e + 1\\right)^{2}}}} + \\frac{a \\left(1 - e^{2}\\right) \\left(- \\sin{\\left(W \\right)} \\sin{\\left(w + 1.5707963267949 \\right)} \\cos{\\left(inc \\right)} + \\cos{\\left(W \\right)} \\cos{\\left(w + 1.5707963267949 \\right)}\\right)}{6.12323399573677 \\cdot 10^{-17} e + 1} - \\left(- \\frac{a^{2} e \\left(1 - e^{2}\\right) \\left(\\sin{\\left(W \\right)} \\cos{\\left(w \\right)} + \\sin{\\left(w \\right)} \\cos{\\left(W \\right)} \\cos{\\left(inc \\right)}\\right)}{\\left(e + 1\\right) \\sqrt{\\frac{a^{2} \\left(e^{2} - 1\\right)^{2} \\left(\\sin{\\left(W \\right)} \\cos{\\left(w \\right)} + \\sin{\\left(w \\right)} \\cos{\\left(W \\right)} \\cos{\\left(inc \\right)}\\right)^{2}}{\\left(e + 1\\right)^{2}} + \\frac{a^{2} \\left(e^{2} - 1\\right)^{2} \\left(\\sin{\\left(W \\right)} \\sin{\\left(w \\right)} \\cos{\\left(inc \\right)} - \\cos{\\left(W \\right)} \\cos{\\left(w \\right)}\\right)^{2}}{\\left(e + 1\\right)^{2}} + \\frac{a^{2} \\left(e^{2} - 1\\right)^{2} \\sin^{2}{\\left(inc \\right)} \\sin^{2}{\\left(w \\right)}}{\\left(e + 1\\right)^{2}}}} - \\frac{a \\left(1 - e^{2}\\right) \\left(\\sin{\\left(W \\right)} \\cos{\\left(w + 2 \\operatorname{atan}{\\left(1.0 \\sqrt{e + 1} \\sqrt{\\frac{1}{1 - e}} \\right)} \\right)} + \\sin{\\left(w + 2 \\operatorname{atan}{\\left(1.0 \\sqrt{e + 1} \\sqrt{\\frac{1}{1 - e}} \\right)} \\right)} \\cos{\\left(W \\right)} \\cos{\\left(inc \\right)}\\right)}{e \\cos{\\left(2 \\operatorname{atan}{\\left(1.0 \\sqrt{e + 1} \\sqrt{\\frac{1}{1 - e}} \\right)} \\right)} + 1}\\right) \\sqrt{\\left|{\\frac{a^{2} e \\left(1 - e^{2}\\right) \\left(\\sin{\\left(W \\right)} \\cos{\\left(w \\right)} + \\sin{\\left(w \\right)} \\cos{\\left(W \\right)} \\cos{\\left(inc \\right)}\\right)}{\\left(e + 1\\right) \\sqrt{\\frac{a^{2} \\left(e^{2} - 1\\right)^{2} \\left(\\sin{\\left(W \\right)} \\cos{\\left(w \\right)} + \\sin{\\left(w \\right)} \\cos{\\left(W \\right)} \\cos{\\left(inc \\right)}\\right)^{2}}{\\left(e + 1\\right)^{2}} + \\frac{a^{2} \\left(e^{2} - 1\\right)^{2} \\left(\\sin{\\left(W \\right)} \\sin{\\left(w \\right)} \\cos{\\left(inc \\right)} - \\cos{\\left(W \\right)} \\cos{\\left(w \\right)}\\right)^{2}}{\\left(e + 1\\right)^{2}} + \\frac{a^{2} \\left(e^{2} - 1\\right)^{2} \\sin^{2}{\\left(inc \\right)} \\sin^{2}{\\left(w \\right)}}{\\left(e + 1\\right)^{2}}}} + \\frac{a \\left(1 - e^{2}\\right) \\left(\\sin{\\left(W \\right)} \\cos{\\left(w + 2 \\operatorname{atan}{\\left(1.0 \\sqrt{e + 1} \\sqrt{\\frac{1}{1 - e}} \\right)} \\right)} + \\sin{\\left(w + 2 \\operatorname{atan}{\\left(1.0 \\sqrt{e + 1} \\sqrt{\\frac{1}{1 - e}} \\right)} \\right)} \\cos{\\left(W \\right)} \\cos{\\left(inc \\right)}\\right)}{e \\cos{\\left(2 \\operatorname{atan}{\\left(1.0 \\sqrt{e + 1} \\sqrt{\\frac{1}{1 - e}} \\right)} \\right)} + 1}}\\right|^{2} + \\left|{\\frac{a^{2} e \\left(1 - e^{2}\\right) \\left(- \\sin{\\left(W \\right)} \\sin{\\left(w \\right)} \\cos{\\left(inc \\right)} + \\cos{\\left(W \\right)} \\cos{\\left(w \\right)}\\right)}{\\left(e + 1\\right) \\sqrt{\\frac{a^{2} \\left(e^{2} - 1\\right)^{2} \\left(\\sin{\\left(W \\right)} \\cos{\\left(w \\right)} + \\sin{\\left(w \\right)} \\cos{\\left(W \\right)} \\cos{\\left(inc \\right)}\\right)^{2}}{\\left(e + 1\\right)^{2}} + \\frac{a^{2} \\left(e^{2} - 1\\right)^{2} \\left(\\sin{\\left(W \\right)} \\sin{\\left(w \\right)} \\cos{\\left(inc \\right)} - \\cos{\\left(W \\right)} \\cos{\\left(w \\right)}\\right)^{2}}{\\left(e + 1\\right)^{2}} + \\frac{a^{2} \\left(e^{2} - 1\\right)^{2} \\sin^{2}{\\left(inc \\right)} \\sin^{2}{\\left(w \\right)}}{\\left(e + 1\\right)^{2}}}} + \\frac{a \\left(1 - e^{2}\\right) \\left(- \\sin{\\left(W \\right)} \\sin{\\left(w + 2 \\operatorname{atan}{\\left(1.0 \\sqrt{e + 1} \\sqrt{\\frac{1}{1 - e}} \\right)} \\right)} \\cos{\\left(inc \\right)} + \\cos{\\left(W \\right)} \\cos{\\left(w + 2 \\operatorname{atan}{\\left(1.0 \\sqrt{e + 1} \\sqrt{\\frac{1}{1 - e}} \\right)} \\right)}\\right)}{e \\cos{\\left(2 \\operatorname{atan}{\\left(1.0 \\sqrt{e + 1} \\sqrt{\\frac{1}{1 - e}} \\right)} \\right)} + 1}}\\right|^{2}}}\\right|^{2}}}{2} + \\frac{\\sqrt{\\left|{\\frac{a^{2} e \\left(1 - e^{2}\\right) \\left(\\sin{\\left(W \\right)} \\cos{\\left(w \\right)} + \\sin{\\left(w \\right)} \\cos{\\left(W \\right)} \\cos{\\left(inc \\right)}\\right)}{\\left(e + 1\\right) \\sqrt{\\frac{a^{2} \\left(e^{2} - 1\\right)^{2} \\left(\\sin{\\left(W \\right)} \\cos{\\left(w \\right)} + \\sin{\\left(w \\right)} \\cos{\\left(W \\right)} \\cos{\\left(inc \\right)}\\right)^{2}}{\\left(e + 1\\right)^{2}} + \\frac{a^{2} \\left(e^{2} - 1\\right)^{2} \\left(\\sin{\\left(W \\right)} \\sin{\\left(w \\right)} \\cos{\\left(inc \\right)} - \\cos{\\left(W \\right)} \\cos{\\left(w \\right)}\\right)^{2}}{\\left(e + 1\\right)^{2}} + \\frac{a^{2} \\left(e^{2} - 1\\right)^{2} \\sin^{2}{\\left(inc \\right)} \\sin^{2}{\\left(w \\right)}}{\\left(e + 1\\right)^{2}}}} + \\frac{a \\left(1 - e^{2}\\right) \\left(\\sin{\\left(W \\right)} \\cos{\\left(w + 1.5707963267949 \\right)} + \\sin{\\left(w + 1.5707963267949 \\right)} \\cos{\\left(W \\right)} \\cos{\\left(inc \\right)}\\right)}{6.12323399573677 \\cdot 10^{-17} e + 1} + \\left(\\frac{a^{2} e \\left(1 - e^{2}\\right) \\left(- \\sin{\\left(W \\right)} \\sin{\\left(w \\right)} \\cos{\\left(inc \\right)} + \\cos{\\left(W \\right)} \\cos{\\left(w \\right)}\\right)}{\\left(e + 1\\right) \\sqrt{\\frac{a^{2} \\left(e^{2} - 1\\right)^{2} \\left(\\sin{\\left(W \\right)} \\cos{\\left(w \\right)} + \\sin{\\left(w \\right)} \\cos{\\left(W \\right)} \\cos{\\left(inc \\right)}\\right)^{2}}{\\left(e + 1\\right)^{2}} + \\frac{a^{2} \\left(e^{2} - 1\\right)^{2} \\left(\\sin{\\left(W \\right)} \\sin{\\left(w \\right)} \\cos{\\left(inc \\right)} - \\cos{\\left(W \\right)} \\cos{\\left(w \\right)}\\right)^{2}}{\\left(e + 1\\right)^{2}} + \\frac{a^{2} \\left(e^{2} - 1\\right)^{2} \\sin^{2}{\\left(inc \\right)} \\sin^{2}{\\left(w \\right)}}{\\left(e + 1\\right)^{2}}}} + \\frac{a \\left(1 - e^{2}\\right) \\left(- \\sin{\\left(W \\right)} \\sin{\\left(w + 2 \\operatorname{atan}{\\left(1.0 \\sqrt{e + 1} \\sqrt{\\frac{1}{1 - e}} \\right)} \\right)} \\cos{\\left(inc \\right)} + \\cos{\\left(W \\right)} \\cos{\\left(w + 2 \\operatorname{atan}{\\left(1.0 \\sqrt{e + 1} \\sqrt{\\frac{1}{1 - e}} \\right)} \\right)}\\right)}{e \\cos{\\left(2 \\operatorname{atan}{\\left(1.0 \\sqrt{e + 1} \\sqrt{\\frac{1}{1 - e}} \\right)} \\right)} + 1}\\right) \\sqrt{\\left|{\\frac{a^{2} e \\left(1 - e^{2}\\right) \\left(\\sin{\\left(W \\right)} \\cos{\\left(w \\right)} + \\sin{\\left(w \\right)} \\cos{\\left(W \\right)} \\cos{\\left(inc \\right)}\\right)}{\\left(e + 1\\right) \\sqrt{\\frac{a^{2} \\left(e^{2} - 1\\right)^{2} \\left(\\sin{\\left(W \\right)} \\cos{\\left(w \\right)} + \\sin{\\left(w \\right)} \\cos{\\left(W \\right)} \\cos{\\left(inc \\right)}\\right)^{2}}{\\left(e + 1\\right)^{2}} + \\frac{a^{2} \\left(e^{2} - 1\\right)^{2} \\left(\\sin{\\left(W \\right)} \\sin{\\left(w \\right)} \\cos{\\left(inc \\right)} - \\cos{\\left(W \\right)} \\cos{\\left(w \\right)}\\right)^{2}}{\\left(e + 1\\right)^{2}} + \\frac{a^{2} \\left(e^{2} - 1\\right)^{2} \\sin^{2}{\\left(inc \\right)} \\sin^{2}{\\left(w \\right)}}{\\left(e + 1\\right)^{2}}}} + \\frac{a \\left(1 - e^{2}\\right) \\left(\\sin{\\left(W \\right)} \\cos{\\left(w + 2 \\operatorname{atan}{\\left(1.0 \\sqrt{e + 1} \\sqrt{\\frac{1}{1 - e}} \\right)} \\right)} + \\sin{\\left(w + 2 \\operatorname{atan}{\\left(1.0 \\sqrt{e + 1} \\sqrt{\\frac{1}{1 - e}} \\right)} \\right)} \\cos{\\left(W \\right)} \\cos{\\left(inc \\right)}\\right)}{e \\cos{\\left(2 \\operatorname{atan}{\\left(1.0 \\sqrt{e + 1} \\sqrt{\\frac{1}{1 - e}} \\right)} \\right)} + 1}}\\right|^{2} + \\left|{\\frac{a^{2} e \\left(1 - e^{2}\\right) \\left(- \\sin{\\left(W \\right)} \\sin{\\left(w \\right)} \\cos{\\left(inc \\right)} + \\cos{\\left(W \\right)} \\cos{\\left(w \\right)}\\right)}{\\left(e + 1\\right) \\sqrt{\\frac{a^{2} \\left(e^{2} - 1\\right)^{2} \\left(\\sin{\\left(W \\right)} \\cos{\\left(w \\right)} + \\sin{\\left(w \\right)} \\cos{\\left(W \\right)} \\cos{\\left(inc \\right)}\\right)^{2}}{\\left(e + 1\\right)^{2}} + \\frac{a^{2} \\left(e^{2} - 1\\right)^{2} \\left(\\sin{\\left(W \\right)} \\sin{\\left(w \\right)} \\cos{\\left(inc \\right)} - \\cos{\\left(W \\right)} \\cos{\\left(w \\right)}\\right)^{2}}{\\left(e + 1\\right)^{2}} + \\frac{a^{2} \\left(e^{2} - 1\\right)^{2} \\sin^{2}{\\left(inc \\right)} \\sin^{2}{\\left(w \\right)}}{\\left(e + 1\\right)^{2}}}} + \\frac{a \\left(1 - e^{2}\\right) \\left(- \\sin{\\left(W \\right)} \\sin{\\left(w + 2 \\operatorname{atan}{\\left(1.0 \\sqrt{e + 1} \\sqrt{\\frac{1}{1 - e}} \\right)} \\right)} \\cos{\\left(inc \\right)} + \\cos{\\left(W \\right)} \\cos{\\left(w + 2 \\operatorname{atan}{\\left(1.0 \\sqrt{e + 1} \\sqrt{\\frac{1}{1 - e}} \\right)} \\right)}\\right)}{e \\cos{\\left(2 \\operatorname{atan}{\\left(1.0 \\sqrt{e + 1} \\sqrt{\\frac{1}{1 - e}} \\right)} \\right)} + 1}}\\right|^{2}}}\\right|^{2} + \\left|{\\frac{a^{2} e \\left(1 - e^{2}\\right) \\left(- \\sin{\\left(W \\right)} \\sin{\\left(w \\right)} \\cos{\\left(inc \\right)} + \\cos{\\left(W \\right)} \\cos{\\left(w \\right)}\\right)}{\\left(e + 1\\right) \\sqrt{\\frac{a^{2} \\left(e^{2} - 1\\right)^{2} \\left(\\sin{\\left(W \\right)} \\cos{\\left(w \\right)} + \\sin{\\left(w \\right)} \\cos{\\left(W \\right)} \\cos{\\left(inc \\right)}\\right)^{2}}{\\left(e + 1\\right)^{2}} + \\frac{a^{2} \\left(e^{2} - 1\\right)^{2} \\left(\\sin{\\left(W \\right)} \\sin{\\left(w \\right)} \\cos{\\left(inc \\right)} - \\cos{\\left(W \\right)} \\cos{\\left(w \\right)}\\right)^{2}}{\\left(e + 1\\right)^{2}} + \\frac{a^{2} \\left(e^{2} - 1\\right)^{2} \\sin^{2}{\\left(inc \\right)} \\sin^{2}{\\left(w \\right)}}{\\left(e + 1\\right)^{2}}}} + \\frac{a \\left(1 - e^{2}\\right) \\left(- \\sin{\\left(W \\right)} \\sin{\\left(w + 1.5707963267949 \\right)} \\cos{\\left(inc \\right)} + \\cos{\\left(W \\right)} \\cos{\\left(w + 1.5707963267949 \\right)}\\right)}{6.12323399573677 \\cdot 10^{-17} e + 1} + \\left(- \\frac{a^{2} e \\left(1 - e^{2}\\right) \\left(\\sin{\\left(W \\right)} \\cos{\\left(w \\right)} + \\sin{\\left(w \\right)} \\cos{\\left(W \\right)} \\cos{\\left(inc \\right)}\\right)}{\\left(e + 1\\right) \\sqrt{\\frac{a^{2} \\left(e^{2} - 1\\right)^{2} \\left(\\sin{\\left(W \\right)} \\cos{\\left(w \\right)} + \\sin{\\left(w \\right)} \\cos{\\left(W \\right)} \\cos{\\left(inc \\right)}\\right)^{2}}{\\left(e + 1\\right)^{2}} + \\frac{a^{2} \\left(e^{2} - 1\\right)^{2} \\left(\\sin{\\left(W \\right)} \\sin{\\left(w \\right)} \\cos{\\left(inc \\right)} - \\cos{\\left(W \\right)} \\cos{\\left(w \\right)}\\right)^{2}}{\\left(e + 1\\right)^{2}} + \\frac{a^{2} \\left(e^{2} - 1\\right)^{2} \\sin^{2}{\\left(inc \\right)} \\sin^{2}{\\left(w \\right)}}{\\left(e + 1\\right)^{2}}}} - \\frac{a \\left(1 - e^{2}\\right) \\left(\\sin{\\left(W \\right)} \\cos{\\left(w + 2 \\operatorname{atan}{\\left(1.0 \\sqrt{e + 1} \\sqrt{\\frac{1}{1 - e}} \\right)} \\right)} + \\sin{\\left(w + 2 \\operatorname{atan}{\\left(1.0 \\sqrt{e + 1} \\sqrt{\\frac{1}{1 - e}} \\right)} \\right)} \\cos{\\left(W \\right)} \\cos{\\left(inc \\right)}\\right)}{e \\cos{\\left(2 \\operatorname{atan}{\\left(1.0 \\sqrt{e + 1} \\sqrt{\\frac{1}{1 - e}} \\right)} \\right)} + 1}\\right) \\sqrt{\\left|{\\frac{a^{2} e \\left(1 - e^{2}\\right) \\left(\\sin{\\left(W \\right)} \\cos{\\left(w \\right)} + \\sin{\\left(w \\right)} \\cos{\\left(W \\right)} \\cos{\\left(inc \\right)}\\right)}{\\left(e + 1\\right) \\sqrt{\\frac{a^{2} \\left(e^{2} - 1\\right)^{2} \\left(\\sin{\\left(W \\right)} \\cos{\\left(w \\right)} + \\sin{\\left(w \\right)} \\cos{\\left(W \\right)} \\cos{\\left(inc \\right)}\\right)^{2}}{\\left(e + 1\\right)^{2}} + \\frac{a^{2} \\left(e^{2} - 1\\right)^{2} \\left(\\sin{\\left(W \\right)} \\sin{\\left(w \\right)} \\cos{\\left(inc \\right)} - \\cos{\\left(W \\right)} \\cos{\\left(w \\right)}\\right)^{2}}{\\left(e + 1\\right)^{2}} + \\frac{a^{2} \\left(e^{2} - 1\\right)^{2} \\sin^{2}{\\left(inc \\right)} \\sin^{2}{\\left(w \\right)}}{\\left(e + 1\\right)^{2}}}} + \\frac{a \\left(1 - e^{2}\\right) \\left(\\sin{\\left(W \\right)} \\cos{\\left(w + 2 \\operatorname{atan}{\\left(1.0 \\sqrt{e + 1} \\sqrt{\\frac{1}{1 - e}} \\right)} \\right)} + \\sin{\\left(w + 2 \\operatorname{atan}{\\left(1.0 \\sqrt{e + 1} \\sqrt{\\frac{1}{1 - e}} \\right)} \\right)} \\cos{\\left(W \\right)} \\cos{\\left(inc \\right)}\\right)}{e \\cos{\\left(2 \\operatorname{atan}{\\left(1.0 \\sqrt{e + 1} \\sqrt{\\frac{1}{1 - e}} \\right)} \\right)} + 1}}\\right|^{2} + \\left|{\\frac{a^{2} e \\left(1 - e^{2}\\right) \\left(- \\sin{\\left(W \\right)} \\sin{\\left(w \\right)} \\cos{\\left(inc \\right)} + \\cos{\\left(W \\right)} \\cos{\\left(w \\right)}\\right)}{\\left(e + 1\\right) \\sqrt{\\frac{a^{2} \\left(e^{2} - 1\\right)^{2} \\left(\\sin{\\left(W \\right)} \\cos{\\left(w \\right)} + \\sin{\\left(w \\right)} \\cos{\\left(W \\right)} \\cos{\\left(inc \\right)}\\right)^{2}}{\\left(e + 1\\right)^{2}} + \\frac{a^{2} \\left(e^{2} - 1\\right)^{2} \\left(\\sin{\\left(W \\right)} \\sin{\\left(w \\right)} \\cos{\\left(inc \\right)} - \\cos{\\left(W \\right)} \\cos{\\left(w \\right)}\\right)^{2}}{\\left(e + 1\\right)^{2}} + \\frac{a^{2} \\left(e^{2} - 1\\right)^{2} \\sin^{2}{\\left(inc \\right)} \\sin^{2}{\\left(w \\right)}}{\\left(e + 1\\right)^{2}}}} + \\frac{a \\left(1 - e^{2}\\right) \\left(- \\sin{\\left(W \\right)} \\sin{\\left(w + 2 \\operatorname{atan}{\\left(1.0 \\sqrt{e + 1} \\sqrt{\\frac{1}{1 - e}} \\right)} \\right)} \\cos{\\left(inc \\right)} + \\cos{\\left(W \\right)} \\cos{\\left(w + 2 \\operatorname{atan}{\\left(1.0 \\sqrt{e + 1} \\sqrt{\\frac{1}{1 - e}} \\right)} \\right)}\\right)}{e \\cos{\\left(2 \\operatorname{atan}{\\left(1.0 \\sqrt{e + 1} \\sqrt{\\frac{1}{1 - e}} \\right)} \\right)} + 1}}\\right|^{2}}}\\right|^{2}}}{2}$"
      ],
      "text/plain": [
       "sqrt(Abs(a**2*e*(1 - e**2)*(sin(W)*cos(w) + sin(w)*cos(W)*cos(inc))/((e + 1)*sqrt(a**2*(e**2 - 1)**2*(sin(W)*cos(w) + sin(w)*cos(W)*cos(inc))**2/(e + 1)**2 + a**2*(e**2 - 1)**2*(sin(W)*sin(w)*cos(inc) - cos(W)*cos(w))**2/(e + 1)**2 + a**2*(e**2 - 1)**2*sin(inc)**2*sin(w)**2/(e + 1)**2)) + a*(1 - e**2)*(sin(W)*cos(w + 1.5707963267949) + sin(w + 1.5707963267949)*cos(W)*cos(inc))/(6.12323399573677e-17*e + 1) - (a**2*e*(1 - e**2)*(-sin(W)*sin(w)*cos(inc) + cos(W)*cos(w))/((e + 1)*sqrt(a**2*(e**2 - 1)**2*(sin(W)*cos(w) + sin(w)*cos(W)*cos(inc))**2/(e + 1)**2 + a**2*(e**2 - 1)**2*(sin(W)*sin(w)*cos(inc) - cos(W)*cos(w))**2/(e + 1)**2 + a**2*(e**2 - 1)**2*sin(inc)**2*sin(w)**2/(e + 1)**2)) + a*(1 - e**2)*(-sin(W)*sin(w + 2*atan(1.0*sqrt(e + 1)*sqrt(1/(1 - e))))*cos(inc) + cos(W)*cos(w + 2*atan(1.0*sqrt(e + 1)*sqrt(1/(1 - e)))))/(e*cos(2*atan(1.0*sqrt(e + 1)*sqrt(1/(1 - e)))) + 1))*sqrt(Abs(a**2*e*(1 - e**2)*(sin(W)*cos(w) + sin(w)*cos(W)*cos(inc))/((e + 1)*sqrt(a**2*(e**2 - 1)**2*(sin(W)*cos(w) + sin(w)*cos(W)*cos(inc))**2/(e + 1)**2 + a**2*(e**2 - 1)**2*(sin(W)*sin(w)*cos(inc) - cos(W)*cos(w))**2/(e + 1)**2 + a**2*(e**2 - 1)**2*sin(inc)**2*sin(w)**2/(e + 1)**2)) + a*(1 - e**2)*(sin(W)*cos(w + 2*atan(1.0*sqrt(e + 1)*sqrt(1/(1 - e)))) + sin(w + 2*atan(1.0*sqrt(e + 1)*sqrt(1/(1 - e))))*cos(W)*cos(inc))/(e*cos(2*atan(1.0*sqrt(e + 1)*sqrt(1/(1 - e)))) + 1))**2 + Abs(a**2*e*(1 - e**2)*(-sin(W)*sin(w)*cos(inc) + cos(W)*cos(w))/((e + 1)*sqrt(a**2*(e**2 - 1)**2*(sin(W)*cos(w) + sin(w)*cos(W)*cos(inc))**2/(e + 1)**2 + a**2*(e**2 - 1)**2*(sin(W)*sin(w)*cos(inc) - cos(W)*cos(w))**2/(e + 1)**2 + a**2*(e**2 - 1)**2*sin(inc)**2*sin(w)**2/(e + 1)**2)) + a*(1 - e**2)*(-sin(W)*sin(w + 2*atan(1.0*sqrt(e + 1)*sqrt(1/(1 - e))))*cos(inc) + cos(W)*cos(w + 2*atan(1.0*sqrt(e + 1)*sqrt(1/(1 - e)))))/(e*cos(2*atan(1.0*sqrt(e + 1)*sqrt(1/(1 - e)))) + 1))**2))**2 + Abs(a**2*e*(1 - e**2)*(-sin(W)*sin(w)*cos(inc) + cos(W)*cos(w))/((e + 1)*sqrt(a**2*(e**2 - 1)**2*(sin(W)*cos(w) + sin(w)*cos(W)*cos(inc))**2/(e + 1)**2 + a**2*(e**2 - 1)**2*(sin(W)*sin(w)*cos(inc) - cos(W)*cos(w))**2/(e + 1)**2 + a**2*(e**2 - 1)**2*sin(inc)**2*sin(w)**2/(e + 1)**2)) + a*(1 - e**2)*(-sin(W)*sin(w + 1.5707963267949)*cos(inc) + cos(W)*cos(w + 1.5707963267949))/(6.12323399573677e-17*e + 1) - (-a**2*e*(1 - e**2)*(sin(W)*cos(w) + sin(w)*cos(W)*cos(inc))/((e + 1)*sqrt(a**2*(e**2 - 1)**2*(sin(W)*cos(w) + sin(w)*cos(W)*cos(inc))**2/(e + 1)**2 + a**2*(e**2 - 1)**2*(sin(W)*sin(w)*cos(inc) - cos(W)*cos(w))**2/(e + 1)**2 + a**2*(e**2 - 1)**2*sin(inc)**2*sin(w)**2/(e + 1)**2)) - a*(1 - e**2)*(sin(W)*cos(w + 2*atan(1.0*sqrt(e + 1)*sqrt(1/(1 - e)))) + sin(w + 2*atan(1.0*sqrt(e + 1)*sqrt(1/(1 - e))))*cos(W)*cos(inc))/(e*cos(2*atan(1.0*sqrt(e + 1)*sqrt(1/(1 - e)))) + 1))*sqrt(Abs(a**2*e*(1 - e**2)*(sin(W)*cos(w) + sin(w)*cos(W)*cos(inc))/((e + 1)*sqrt(a**2*(e**2 - 1)**2*(sin(W)*cos(w) + sin(w)*cos(W)*cos(inc))**2/(e + 1)**2 + a**2*(e**2 - 1)**2*(sin(W)*sin(w)*cos(inc) - cos(W)*cos(w))**2/(e + 1)**2 + a**2*(e**2 - 1)**2*sin(inc)**2*sin(w)**2/(e + 1)**2)) + a*(1 - e**2)*(sin(W)*cos(w + 2*atan(1.0*sqrt(e + 1)*sqrt(1/(1 - e)))) + sin(w + 2*atan(1.0*sqrt(e + 1)*sqrt(1/(1 - e))))*cos(W)*cos(inc))/(e*cos(2*atan(1.0*sqrt(e + 1)*sqrt(1/(1 - e)))) + 1))**2 + Abs(a**2*e*(1 - e**2)*(-sin(W)*sin(w)*cos(inc) + cos(W)*cos(w))/((e + 1)*sqrt(a**2*(e**2 - 1)**2*(sin(W)*cos(w) + sin(w)*cos(W)*cos(inc))**2/(e + 1)**2 + a**2*(e**2 - 1)**2*(sin(W)*sin(w)*cos(inc) - cos(W)*cos(w))**2/(e + 1)**2 + a**2*(e**2 - 1)**2*sin(inc)**2*sin(w)**2/(e + 1)**2)) + a*(1 - e**2)*(-sin(W)*sin(w + 2*atan(1.0*sqrt(e + 1)*sqrt(1/(1 - e))))*cos(inc) + cos(W)*cos(w + 2*atan(1.0*sqrt(e + 1)*sqrt(1/(1 - e)))))/(e*cos(2*atan(1.0*sqrt(e + 1)*sqrt(1/(1 - e)))) + 1))**2))**2)/2 + sqrt(Abs(a**2*e*(1 - e**2)*(sin(W)*cos(w) + sin(w)*cos(W)*cos(inc))/((e + 1)*sqrt(a**2*(e**2 - 1)**2*(sin(W)*cos(w) + sin(w)*cos(W)*cos(inc))**2/(e + 1)**2 + a**2*(e**2 - 1)**2*(sin(W)*sin(w)*cos(inc) - cos(W)*cos(w))**2/(e + 1)**2 + a**2*(e**2 - 1)**2*sin(inc)**2*sin(w)**2/(e + 1)**2)) + a*(1 - e**2)*(sin(W)*cos(w + 1.5707963267949) + sin(w + 1.5707963267949)*cos(W)*cos(inc))/(6.12323399573677e-17*e + 1) + (a**2*e*(1 - e**2)*(-sin(W)*sin(w)*cos(inc) + cos(W)*cos(w))/((e + 1)*sqrt(a**2*(e**2 - 1)**2*(sin(W)*cos(w) + sin(w)*cos(W)*cos(inc))**2/(e + 1)**2 + a**2*(e**2 - 1)**2*(sin(W)*sin(w)*cos(inc) - cos(W)*cos(w))**2/(e + 1)**2 + a**2*(e**2 - 1)**2*sin(inc)**2*sin(w)**2/(e + 1)**2)) + a*(1 - e**2)*(-sin(W)*sin(w + 2*atan(1.0*sqrt(e + 1)*sqrt(1/(1 - e))))*cos(inc) + cos(W)*cos(w + 2*atan(1.0*sqrt(e + 1)*sqrt(1/(1 - e)))))/(e*cos(2*atan(1.0*sqrt(e + 1)*sqrt(1/(1 - e)))) + 1))*sqrt(Abs(a**2*e*(1 - e**2)*(sin(W)*cos(w) + sin(w)*cos(W)*cos(inc))/((e + 1)*sqrt(a**2*(e**2 - 1)**2*(sin(W)*cos(w) + sin(w)*cos(W)*cos(inc))**2/(e + 1)**2 + a**2*(e**2 - 1)**2*(sin(W)*sin(w)*cos(inc) - cos(W)*cos(w))**2/(e + 1)**2 + a**2*(e**2 - 1)**2*sin(inc)**2*sin(w)**2/(e + 1)**2)) + a*(1 - e**2)*(sin(W)*cos(w + 2*atan(1.0*sqrt(e + 1)*sqrt(1/(1 - e)))) + sin(w + 2*atan(1.0*sqrt(e + 1)*sqrt(1/(1 - e))))*cos(W)*cos(inc))/(e*cos(2*atan(1.0*sqrt(e + 1)*sqrt(1/(1 - e)))) + 1))**2 + Abs(a**2*e*(1 - e**2)*(-sin(W)*sin(w)*cos(inc) + cos(W)*cos(w))/((e + 1)*sqrt(a**2*(e**2 - 1)**2*(sin(W)*cos(w) + sin(w)*cos(W)*cos(inc))**2/(e + 1)**2 + a**2*(e**2 - 1)**2*(sin(W)*sin(w)*cos(inc) - cos(W)*cos(w))**2/(e + 1)**2 + a**2*(e**2 - 1)**2*sin(inc)**2*sin(w)**2/(e + 1)**2)) + a*(1 - e**2)*(-sin(W)*sin(w + 2*atan(1.0*sqrt(e + 1)*sqrt(1/(1 - e))))*cos(inc) + cos(W)*cos(w + 2*atan(1.0*sqrt(e + 1)*sqrt(1/(1 - e)))))/(e*cos(2*atan(1.0*sqrt(e + 1)*sqrt(1/(1 - e)))) + 1))**2))**2 + Abs(a**2*e*(1 - e**2)*(-sin(W)*sin(w)*cos(inc) + cos(W)*cos(w))/((e + 1)*sqrt(a**2*(e**2 - 1)**2*(sin(W)*cos(w) + sin(w)*cos(W)*cos(inc))**2/(e + 1)**2 + a**2*(e**2 - 1)**2*(sin(W)*sin(w)*cos(inc) - cos(W)*cos(w))**2/(e + 1)**2 + a**2*(e**2 - 1)**2*sin(inc)**2*sin(w)**2/(e + 1)**2)) + a*(1 - e**2)*(-sin(W)*sin(w + 1.5707963267949)*cos(inc) + cos(W)*cos(w + 1.5707963267949))/(6.12323399573677e-17*e + 1) + (-a**2*e*(1 - e**2)*(sin(W)*cos(w) + sin(w)*cos(W)*cos(inc))/((e + 1)*sqrt(a**2*(e**2 - 1)**2*(sin(W)*cos(w) + sin(w)*cos(W)*cos(inc))**2/(e + 1)**2 + a**2*(e**2 - 1)**2*(sin(W)*sin(w)*cos(inc) - cos(W)*cos(w))**2/(e + 1)**2 + a**2*(e**2 - 1)**2*sin(inc)**2*sin(w)**2/(e + 1)**2)) - a*(1 - e**2)*(sin(W)*cos(w + 2*atan(1.0*sqrt(e + 1)*sqrt(1/(1 - e)))) + sin(w + 2*atan(1.0*sqrt(e + 1)*sqrt(1/(1 - e))))*cos(W)*cos(inc))/(e*cos(2*atan(1.0*sqrt(e + 1)*sqrt(1/(1 - e)))) + 1))*sqrt(Abs(a**2*e*(1 - e**2)*(sin(W)*cos(w) + sin(w)*cos(W)*cos(inc))/((e + 1)*sqrt(a**2*(e**2 - 1)**2*(sin(W)*cos(w) + sin(w)*cos(W)*cos(inc))**2/(e + 1)**2 + a**2*(e**2 - 1)**2*(sin(W)*sin(w)*cos(inc) - cos(W)*cos(w))**2/(e + 1)**2 + a**2*(e**2 - 1)**2*sin(inc)**2*sin(w)**2/(e + 1)**2)) + a*(1 - e**2)*(sin(W)*cos(w + 2*atan(1.0*sqrt(e + 1)*sqrt(1/(1 - e)))) + sin(w + 2*atan(1.0*sqrt(e + 1)*sqrt(1/(1 - e))))*cos(W)*cos(inc))/(e*cos(2*atan(1.0*sqrt(e + 1)*sqrt(1/(1 - e)))) + 1))**2 + Abs(a**2*e*(1 - e**2)*(-sin(W)*sin(w)*cos(inc) + cos(W)*cos(w))/((e + 1)*sqrt(a**2*(e**2 - 1)**2*(sin(W)*cos(w) + sin(w)*cos(W)*cos(inc))**2/(e + 1)**2 + a**2*(e**2 - 1)**2*(sin(W)*sin(w)*cos(inc) - cos(W)*cos(w))**2/(e + 1)**2 + a**2*(e**2 - 1)**2*sin(inc)**2*sin(w)**2/(e + 1)**2)) + a*(1 - e**2)*(-sin(W)*sin(w + 2*atan(1.0*sqrt(e + 1)*sqrt(1/(1 - e))))*cos(inc) + cos(W)*cos(w + 2*atan(1.0*sqrt(e + 1)*sqrt(1/(1 - e)))))/(e*cos(2*atan(1.0*sqrt(e + 1)*sqrt(1/(1 - e)))) + 1))**2))**2)/2"
      ]
     },
     "execution_count": 19,
     "metadata": {},
     "output_type": "execute_result"
    }
   ],
   "source": [
    "dmajorp"
   ]
  },
  {
   "cell_type": "code",
   "execution_count": 20,
   "metadata": {},
   "outputs": [
    {
     "data": {
      "text/latex": [
       "$\\displaystyle \\frac{\\sqrt{\\left|{\\frac{a^{2} e \\left(1 - e^{2}\\right) \\left(\\sin{\\left(W \\right)} \\cos{\\left(w \\right)} + \\sin{\\left(w \\right)} \\cos{\\left(W \\right)} \\cos{\\left(inc \\right)}\\right)}{\\left(e + 1\\right) \\sqrt{\\frac{a^{2} \\left(e^{2} - 1\\right)^{2} \\left(\\sin{\\left(W \\right)} \\cos{\\left(w \\right)} + \\sin{\\left(w \\right)} \\cos{\\left(W \\right)} \\cos{\\left(inc \\right)}\\right)^{2}}{\\left(e + 1\\right)^{2}} + \\frac{a^{2} \\left(e^{2} - 1\\right)^{2} \\left(\\sin{\\left(W \\right)} \\sin{\\left(w \\right)} \\cos{\\left(inc \\right)} - \\cos{\\left(W \\right)} \\cos{\\left(w \\right)}\\right)^{2}}{\\left(e + 1\\right)^{2}} + \\frac{a^{2} \\left(e^{2} - 1\\right)^{2} \\sin^{2}{\\left(inc \\right)} \\sin^{2}{\\left(w \\right)}}{\\left(e + 1\\right)^{2}}}} + \\frac{a \\left(1 - e^{2}\\right) \\left(\\sin{\\left(W \\right)} \\cos{\\left(w + 1.5707963267949 \\right)} + \\sin{\\left(w + 1.5707963267949 \\right)} \\cos{\\left(W \\right)} \\cos{\\left(inc \\right)}\\right)}{6.12323399573677 \\cdot 10^{-17} e + 1} - \\left(\\frac{a^{2} e \\left(1 - e^{2}\\right) \\left(- \\sin{\\left(W \\right)} \\sin{\\left(w \\right)} \\cos{\\left(inc \\right)} + \\cos{\\left(W \\right)} \\cos{\\left(w \\right)}\\right)}{\\left(e + 1\\right) \\sqrt{\\frac{a^{2} \\left(e^{2} - 1\\right)^{2} \\left(\\sin{\\left(W \\right)} \\cos{\\left(w \\right)} + \\sin{\\left(w \\right)} \\cos{\\left(W \\right)} \\cos{\\left(inc \\right)}\\right)^{2}}{\\left(e + 1\\right)^{2}} + \\frac{a^{2} \\left(e^{2} - 1\\right)^{2} \\left(\\sin{\\left(W \\right)} \\sin{\\left(w \\right)} \\cos{\\left(inc \\right)} - \\cos{\\left(W \\right)} \\cos{\\left(w \\right)}\\right)^{2}}{\\left(e + 1\\right)^{2}} + \\frac{a^{2} \\left(e^{2} - 1\\right)^{2} \\sin^{2}{\\left(inc \\right)} \\sin^{2}{\\left(w \\right)}}{\\left(e + 1\\right)^{2}}}} + \\frac{a \\left(1 - e^{2}\\right) \\left(- \\sin{\\left(W \\right)} \\sin{\\left(w + 2 \\operatorname{atan}{\\left(1.0 \\sqrt{e + 1} \\sqrt{\\frac{1}{1 - e}} \\right)} \\right)} \\cos{\\left(inc \\right)} + \\cos{\\left(W \\right)} \\cos{\\left(w + 2 \\operatorname{atan}{\\left(1.0 \\sqrt{e + 1} \\sqrt{\\frac{1}{1 - e}} \\right)} \\right)}\\right)}{e \\cos{\\left(2 \\operatorname{atan}{\\left(1.0 \\sqrt{e + 1} \\sqrt{\\frac{1}{1 - e}} \\right)} \\right)} + 1}\\right) \\sqrt{\\left|{\\frac{a^{2} e \\left(1 - e^{2}\\right) \\left(\\sin{\\left(W \\right)} \\cos{\\left(w \\right)} + \\sin{\\left(w \\right)} \\cos{\\left(W \\right)} \\cos{\\left(inc \\right)}\\right)}{\\left(e + 1\\right) \\sqrt{\\frac{a^{2} \\left(e^{2} - 1\\right)^{2} \\left(\\sin{\\left(W \\right)} \\cos{\\left(w \\right)} + \\sin{\\left(w \\right)} \\cos{\\left(W \\right)} \\cos{\\left(inc \\right)}\\right)^{2}}{\\left(e + 1\\right)^{2}} + \\frac{a^{2} \\left(e^{2} - 1\\right)^{2} \\left(\\sin{\\left(W \\right)} \\sin{\\left(w \\right)} \\cos{\\left(inc \\right)} - \\cos{\\left(W \\right)} \\cos{\\left(w \\right)}\\right)^{2}}{\\left(e + 1\\right)^{2}} + \\frac{a^{2} \\left(e^{2} - 1\\right)^{2} \\sin^{2}{\\left(inc \\right)} \\sin^{2}{\\left(w \\right)}}{\\left(e + 1\\right)^{2}}}} + \\frac{a \\left(1 - e^{2}\\right) \\left(\\sin{\\left(W \\right)} \\cos{\\left(w + 2 \\operatorname{atan}{\\left(1.0 \\sqrt{e + 1} \\sqrt{\\frac{1}{1 - e}} \\right)} \\right)} + \\sin{\\left(w + 2 \\operatorname{atan}{\\left(1.0 \\sqrt{e + 1} \\sqrt{\\frac{1}{1 - e}} \\right)} \\right)} \\cos{\\left(W \\right)} \\cos{\\left(inc \\right)}\\right)}{e \\cos{\\left(2 \\operatorname{atan}{\\left(1.0 \\sqrt{e + 1} \\sqrt{\\frac{1}{1 - e}} \\right)} \\right)} + 1}}\\right|^{2} + \\left|{\\frac{a^{2} e \\left(1 - e^{2}\\right) \\left(- \\sin{\\left(W \\right)} \\sin{\\left(w \\right)} \\cos{\\left(inc \\right)} + \\cos{\\left(W \\right)} \\cos{\\left(w \\right)}\\right)}{\\left(e + 1\\right) \\sqrt{\\frac{a^{2} \\left(e^{2} - 1\\right)^{2} \\left(\\sin{\\left(W \\right)} \\cos{\\left(w \\right)} + \\sin{\\left(w \\right)} \\cos{\\left(W \\right)} \\cos{\\left(inc \\right)}\\right)^{2}}{\\left(e + 1\\right)^{2}} + \\frac{a^{2} \\left(e^{2} - 1\\right)^{2} \\left(\\sin{\\left(W \\right)} \\sin{\\left(w \\right)} \\cos{\\left(inc \\right)} - \\cos{\\left(W \\right)} \\cos{\\left(w \\right)}\\right)^{2}}{\\left(e + 1\\right)^{2}} + \\frac{a^{2} \\left(e^{2} - 1\\right)^{2} \\sin^{2}{\\left(inc \\right)} \\sin^{2}{\\left(w \\right)}}{\\left(e + 1\\right)^{2}}}} + \\frac{a \\left(1 - e^{2}\\right) \\left(- \\sin{\\left(W \\right)} \\sin{\\left(w + 2 \\operatorname{atan}{\\left(1.0 \\sqrt{e + 1} \\sqrt{\\frac{1}{1 - e}} \\right)} \\right)} \\cos{\\left(inc \\right)} + \\cos{\\left(W \\right)} \\cos{\\left(w + 2 \\operatorname{atan}{\\left(1.0 \\sqrt{e + 1} \\sqrt{\\frac{1}{1 - e}} \\right)} \\right)}\\right)}{e \\cos{\\left(2 \\operatorname{atan}{\\left(1.0 \\sqrt{e + 1} \\sqrt{\\frac{1}{1 - e}} \\right)} \\right)} + 1}}\\right|^{2}}}\\right|^{2} + \\left|{\\frac{a^{2} e \\left(1 - e^{2}\\right) \\left(- \\sin{\\left(W \\right)} \\sin{\\left(w \\right)} \\cos{\\left(inc \\right)} + \\cos{\\left(W \\right)} \\cos{\\left(w \\right)}\\right)}{\\left(e + 1\\right) \\sqrt{\\frac{a^{2} \\left(e^{2} - 1\\right)^{2} \\left(\\sin{\\left(W \\right)} \\cos{\\left(w \\right)} + \\sin{\\left(w \\right)} \\cos{\\left(W \\right)} \\cos{\\left(inc \\right)}\\right)^{2}}{\\left(e + 1\\right)^{2}} + \\frac{a^{2} \\left(e^{2} - 1\\right)^{2} \\left(\\sin{\\left(W \\right)} \\sin{\\left(w \\right)} \\cos{\\left(inc \\right)} - \\cos{\\left(W \\right)} \\cos{\\left(w \\right)}\\right)^{2}}{\\left(e + 1\\right)^{2}} + \\frac{a^{2} \\left(e^{2} - 1\\right)^{2} \\sin^{2}{\\left(inc \\right)} \\sin^{2}{\\left(w \\right)}}{\\left(e + 1\\right)^{2}}}} + \\frac{a \\left(1 - e^{2}\\right) \\left(- \\sin{\\left(W \\right)} \\sin{\\left(w + 1.5707963267949 \\right)} \\cos{\\left(inc \\right)} + \\cos{\\left(W \\right)} \\cos{\\left(w + 1.5707963267949 \\right)}\\right)}{6.12323399573677 \\cdot 10^{-17} e + 1} - \\left(- \\frac{a^{2} e \\left(1 - e^{2}\\right) \\left(\\sin{\\left(W \\right)} \\cos{\\left(w \\right)} + \\sin{\\left(w \\right)} \\cos{\\left(W \\right)} \\cos{\\left(inc \\right)}\\right)}{\\left(e + 1\\right) \\sqrt{\\frac{a^{2} \\left(e^{2} - 1\\right)^{2} \\left(\\sin{\\left(W \\right)} \\cos{\\left(w \\right)} + \\sin{\\left(w \\right)} \\cos{\\left(W \\right)} \\cos{\\left(inc \\right)}\\right)^{2}}{\\left(e + 1\\right)^{2}} + \\frac{a^{2} \\left(e^{2} - 1\\right)^{2} \\left(\\sin{\\left(W \\right)} \\sin{\\left(w \\right)} \\cos{\\left(inc \\right)} - \\cos{\\left(W \\right)} \\cos{\\left(w \\right)}\\right)^{2}}{\\left(e + 1\\right)^{2}} + \\frac{a^{2} \\left(e^{2} - 1\\right)^{2} \\sin^{2}{\\left(inc \\right)} \\sin^{2}{\\left(w \\right)}}{\\left(e + 1\\right)^{2}}}} - \\frac{a \\left(1 - e^{2}\\right) \\left(\\sin{\\left(W \\right)} \\cos{\\left(w + 2 \\operatorname{atan}{\\left(1.0 \\sqrt{e + 1} \\sqrt{\\frac{1}{1 - e}} \\right)} \\right)} + \\sin{\\left(w + 2 \\operatorname{atan}{\\left(1.0 \\sqrt{e + 1} \\sqrt{\\frac{1}{1 - e}} \\right)} \\right)} \\cos{\\left(W \\right)} \\cos{\\left(inc \\right)}\\right)}{e \\cos{\\left(2 \\operatorname{atan}{\\left(1.0 \\sqrt{e + 1} \\sqrt{\\frac{1}{1 - e}} \\right)} \\right)} + 1}\\right) \\sqrt{\\left|{\\frac{a^{2} e \\left(1 - e^{2}\\right) \\left(\\sin{\\left(W \\right)} \\cos{\\left(w \\right)} + \\sin{\\left(w \\right)} \\cos{\\left(W \\right)} \\cos{\\left(inc \\right)}\\right)}{\\left(e + 1\\right) \\sqrt{\\frac{a^{2} \\left(e^{2} - 1\\right)^{2} \\left(\\sin{\\left(W \\right)} \\cos{\\left(w \\right)} + \\sin{\\left(w \\right)} \\cos{\\left(W \\right)} \\cos{\\left(inc \\right)}\\right)^{2}}{\\left(e + 1\\right)^{2}} + \\frac{a^{2} \\left(e^{2} - 1\\right)^{2} \\left(\\sin{\\left(W \\right)} \\sin{\\left(w \\right)} \\cos{\\left(inc \\right)} - \\cos{\\left(W \\right)} \\cos{\\left(w \\right)}\\right)^{2}}{\\left(e + 1\\right)^{2}} + \\frac{a^{2} \\left(e^{2} - 1\\right)^{2} \\sin^{2}{\\left(inc \\right)} \\sin^{2}{\\left(w \\right)}}{\\left(e + 1\\right)^{2}}}} + \\frac{a \\left(1 - e^{2}\\right) \\left(\\sin{\\left(W \\right)} \\cos{\\left(w + 2 \\operatorname{atan}{\\left(1.0 \\sqrt{e + 1} \\sqrt{\\frac{1}{1 - e}} \\right)} \\right)} + \\sin{\\left(w + 2 \\operatorname{atan}{\\left(1.0 \\sqrt{e + 1} \\sqrt{\\frac{1}{1 - e}} \\right)} \\right)} \\cos{\\left(W \\right)} \\cos{\\left(inc \\right)}\\right)}{e \\cos{\\left(2 \\operatorname{atan}{\\left(1.0 \\sqrt{e + 1} \\sqrt{\\frac{1}{1 - e}} \\right)} \\right)} + 1}}\\right|^{2} + \\left|{\\frac{a^{2} e \\left(1 - e^{2}\\right) \\left(- \\sin{\\left(W \\right)} \\sin{\\left(w \\right)} \\cos{\\left(inc \\right)} + \\cos{\\left(W \\right)} \\cos{\\left(w \\right)}\\right)}{\\left(e + 1\\right) \\sqrt{\\frac{a^{2} \\left(e^{2} - 1\\right)^{2} \\left(\\sin{\\left(W \\right)} \\cos{\\left(w \\right)} + \\sin{\\left(w \\right)} \\cos{\\left(W \\right)} \\cos{\\left(inc \\right)}\\right)^{2}}{\\left(e + 1\\right)^{2}} + \\frac{a^{2} \\left(e^{2} - 1\\right)^{2} \\left(\\sin{\\left(W \\right)} \\sin{\\left(w \\right)} \\cos{\\left(inc \\right)} - \\cos{\\left(W \\right)} \\cos{\\left(w \\right)}\\right)^{2}}{\\left(e + 1\\right)^{2}} + \\frac{a^{2} \\left(e^{2} - 1\\right)^{2} \\sin^{2}{\\left(inc \\right)} \\sin^{2}{\\left(w \\right)}}{\\left(e + 1\\right)^{2}}}} + \\frac{a \\left(1 - e^{2}\\right) \\left(- \\sin{\\left(W \\right)} \\sin{\\left(w + 2 \\operatorname{atan}{\\left(1.0 \\sqrt{e + 1} \\sqrt{\\frac{1}{1 - e}} \\right)} \\right)} \\cos{\\left(inc \\right)} + \\cos{\\left(W \\right)} \\cos{\\left(w + 2 \\operatorname{atan}{\\left(1.0 \\sqrt{e + 1} \\sqrt{\\frac{1}{1 - e}} \\right)} \\right)}\\right)}{e \\cos{\\left(2 \\operatorname{atan}{\\left(1.0 \\sqrt{e + 1} \\sqrt{\\frac{1}{1 - e}} \\right)} \\right)} + 1}}\\right|^{2}}}\\right|^{2}}}{2} - \\frac{\\sqrt{\\left|{\\frac{a^{2} e \\left(1 - e^{2}\\right) \\left(\\sin{\\left(W \\right)} \\cos{\\left(w \\right)} + \\sin{\\left(w \\right)} \\cos{\\left(W \\right)} \\cos{\\left(inc \\right)}\\right)}{\\left(e + 1\\right) \\sqrt{\\frac{a^{2} \\left(e^{2} - 1\\right)^{2} \\left(\\sin{\\left(W \\right)} \\cos{\\left(w \\right)} + \\sin{\\left(w \\right)} \\cos{\\left(W \\right)} \\cos{\\left(inc \\right)}\\right)^{2}}{\\left(e + 1\\right)^{2}} + \\frac{a^{2} \\left(e^{2} - 1\\right)^{2} \\left(\\sin{\\left(W \\right)} \\sin{\\left(w \\right)} \\cos{\\left(inc \\right)} - \\cos{\\left(W \\right)} \\cos{\\left(w \\right)}\\right)^{2}}{\\left(e + 1\\right)^{2}} + \\frac{a^{2} \\left(e^{2} - 1\\right)^{2} \\sin^{2}{\\left(inc \\right)} \\sin^{2}{\\left(w \\right)}}{\\left(e + 1\\right)^{2}}}} + \\frac{a \\left(1 - e^{2}\\right) \\left(\\sin{\\left(W \\right)} \\cos{\\left(w + 1.5707963267949 \\right)} + \\sin{\\left(w + 1.5707963267949 \\right)} \\cos{\\left(W \\right)} \\cos{\\left(inc \\right)}\\right)}{6.12323399573677 \\cdot 10^{-17} e + 1} + \\left(\\frac{a^{2} e \\left(1 - e^{2}\\right) \\left(- \\sin{\\left(W \\right)} \\sin{\\left(w \\right)} \\cos{\\left(inc \\right)} + \\cos{\\left(W \\right)} \\cos{\\left(w \\right)}\\right)}{\\left(e + 1\\right) \\sqrt{\\frac{a^{2} \\left(e^{2} - 1\\right)^{2} \\left(\\sin{\\left(W \\right)} \\cos{\\left(w \\right)} + \\sin{\\left(w \\right)} \\cos{\\left(W \\right)} \\cos{\\left(inc \\right)}\\right)^{2}}{\\left(e + 1\\right)^{2}} + \\frac{a^{2} \\left(e^{2} - 1\\right)^{2} \\left(\\sin{\\left(W \\right)} \\sin{\\left(w \\right)} \\cos{\\left(inc \\right)} - \\cos{\\left(W \\right)} \\cos{\\left(w \\right)}\\right)^{2}}{\\left(e + 1\\right)^{2}} + \\frac{a^{2} \\left(e^{2} - 1\\right)^{2} \\sin^{2}{\\left(inc \\right)} \\sin^{2}{\\left(w \\right)}}{\\left(e + 1\\right)^{2}}}} + \\frac{a \\left(1 - e^{2}\\right) \\left(- \\sin{\\left(W \\right)} \\sin{\\left(w + 2 \\operatorname{atan}{\\left(1.0 \\sqrt{e + 1} \\sqrt{\\frac{1}{1 - e}} \\right)} \\right)} \\cos{\\left(inc \\right)} + \\cos{\\left(W \\right)} \\cos{\\left(w + 2 \\operatorname{atan}{\\left(1.0 \\sqrt{e + 1} \\sqrt{\\frac{1}{1 - e}} \\right)} \\right)}\\right)}{e \\cos{\\left(2 \\operatorname{atan}{\\left(1.0 \\sqrt{e + 1} \\sqrt{\\frac{1}{1 - e}} \\right)} \\right)} + 1}\\right) \\sqrt{\\left|{\\frac{a^{2} e \\left(1 - e^{2}\\right) \\left(\\sin{\\left(W \\right)} \\cos{\\left(w \\right)} + \\sin{\\left(w \\right)} \\cos{\\left(W \\right)} \\cos{\\left(inc \\right)}\\right)}{\\left(e + 1\\right) \\sqrt{\\frac{a^{2} \\left(e^{2} - 1\\right)^{2} \\left(\\sin{\\left(W \\right)} \\cos{\\left(w \\right)} + \\sin{\\left(w \\right)} \\cos{\\left(W \\right)} \\cos{\\left(inc \\right)}\\right)^{2}}{\\left(e + 1\\right)^{2}} + \\frac{a^{2} \\left(e^{2} - 1\\right)^{2} \\left(\\sin{\\left(W \\right)} \\sin{\\left(w \\right)} \\cos{\\left(inc \\right)} - \\cos{\\left(W \\right)} \\cos{\\left(w \\right)}\\right)^{2}}{\\left(e + 1\\right)^{2}} + \\frac{a^{2} \\left(e^{2} - 1\\right)^{2} \\sin^{2}{\\left(inc \\right)} \\sin^{2}{\\left(w \\right)}}{\\left(e + 1\\right)^{2}}}} + \\frac{a \\left(1 - e^{2}\\right) \\left(\\sin{\\left(W \\right)} \\cos{\\left(w + 2 \\operatorname{atan}{\\left(1.0 \\sqrt{e + 1} \\sqrt{\\frac{1}{1 - e}} \\right)} \\right)} + \\sin{\\left(w + 2 \\operatorname{atan}{\\left(1.0 \\sqrt{e + 1} \\sqrt{\\frac{1}{1 - e}} \\right)} \\right)} \\cos{\\left(W \\right)} \\cos{\\left(inc \\right)}\\right)}{e \\cos{\\left(2 \\operatorname{atan}{\\left(1.0 \\sqrt{e + 1} \\sqrt{\\frac{1}{1 - e}} \\right)} \\right)} + 1}}\\right|^{2} + \\left|{\\frac{a^{2} e \\left(1 - e^{2}\\right) \\left(- \\sin{\\left(W \\right)} \\sin{\\left(w \\right)} \\cos{\\left(inc \\right)} + \\cos{\\left(W \\right)} \\cos{\\left(w \\right)}\\right)}{\\left(e + 1\\right) \\sqrt{\\frac{a^{2} \\left(e^{2} - 1\\right)^{2} \\left(\\sin{\\left(W \\right)} \\cos{\\left(w \\right)} + \\sin{\\left(w \\right)} \\cos{\\left(W \\right)} \\cos{\\left(inc \\right)}\\right)^{2}}{\\left(e + 1\\right)^{2}} + \\frac{a^{2} \\left(e^{2} - 1\\right)^{2} \\left(\\sin{\\left(W \\right)} \\sin{\\left(w \\right)} \\cos{\\left(inc \\right)} - \\cos{\\left(W \\right)} \\cos{\\left(w \\right)}\\right)^{2}}{\\left(e + 1\\right)^{2}} + \\frac{a^{2} \\left(e^{2} - 1\\right)^{2} \\sin^{2}{\\left(inc \\right)} \\sin^{2}{\\left(w \\right)}}{\\left(e + 1\\right)^{2}}}} + \\frac{a \\left(1 - e^{2}\\right) \\left(- \\sin{\\left(W \\right)} \\sin{\\left(w + 2 \\operatorname{atan}{\\left(1.0 \\sqrt{e + 1} \\sqrt{\\frac{1}{1 - e}} \\right)} \\right)} \\cos{\\left(inc \\right)} + \\cos{\\left(W \\right)} \\cos{\\left(w + 2 \\operatorname{atan}{\\left(1.0 \\sqrt{e + 1} \\sqrt{\\frac{1}{1 - e}} \\right)} \\right)}\\right)}{e \\cos{\\left(2 \\operatorname{atan}{\\left(1.0 \\sqrt{e + 1} \\sqrt{\\frac{1}{1 - e}} \\right)} \\right)} + 1}}\\right|^{2}}}\\right|^{2} + \\left|{\\frac{a^{2} e \\left(1 - e^{2}\\right) \\left(- \\sin{\\left(W \\right)} \\sin{\\left(w \\right)} \\cos{\\left(inc \\right)} + \\cos{\\left(W \\right)} \\cos{\\left(w \\right)}\\right)}{\\left(e + 1\\right) \\sqrt{\\frac{a^{2} \\left(e^{2} - 1\\right)^{2} \\left(\\sin{\\left(W \\right)} \\cos{\\left(w \\right)} + \\sin{\\left(w \\right)} \\cos{\\left(W \\right)} \\cos{\\left(inc \\right)}\\right)^{2}}{\\left(e + 1\\right)^{2}} + \\frac{a^{2} \\left(e^{2} - 1\\right)^{2} \\left(\\sin{\\left(W \\right)} \\sin{\\left(w \\right)} \\cos{\\left(inc \\right)} - \\cos{\\left(W \\right)} \\cos{\\left(w \\right)}\\right)^{2}}{\\left(e + 1\\right)^{2}} + \\frac{a^{2} \\left(e^{2} - 1\\right)^{2} \\sin^{2}{\\left(inc \\right)} \\sin^{2}{\\left(w \\right)}}{\\left(e + 1\\right)^{2}}}} + \\frac{a \\left(1 - e^{2}\\right) \\left(- \\sin{\\left(W \\right)} \\sin{\\left(w + 1.5707963267949 \\right)} \\cos{\\left(inc \\right)} + \\cos{\\left(W \\right)} \\cos{\\left(w + 1.5707963267949 \\right)}\\right)}{6.12323399573677 \\cdot 10^{-17} e + 1} + \\left(- \\frac{a^{2} e \\left(1 - e^{2}\\right) \\left(\\sin{\\left(W \\right)} \\cos{\\left(w \\right)} + \\sin{\\left(w \\right)} \\cos{\\left(W \\right)} \\cos{\\left(inc \\right)}\\right)}{\\left(e + 1\\right) \\sqrt{\\frac{a^{2} \\left(e^{2} - 1\\right)^{2} \\left(\\sin{\\left(W \\right)} \\cos{\\left(w \\right)} + \\sin{\\left(w \\right)} \\cos{\\left(W \\right)} \\cos{\\left(inc \\right)}\\right)^{2}}{\\left(e + 1\\right)^{2}} + \\frac{a^{2} \\left(e^{2} - 1\\right)^{2} \\left(\\sin{\\left(W \\right)} \\sin{\\left(w \\right)} \\cos{\\left(inc \\right)} - \\cos{\\left(W \\right)} \\cos{\\left(w \\right)}\\right)^{2}}{\\left(e + 1\\right)^{2}} + \\frac{a^{2} \\left(e^{2} - 1\\right)^{2} \\sin^{2}{\\left(inc \\right)} \\sin^{2}{\\left(w \\right)}}{\\left(e + 1\\right)^{2}}}} - \\frac{a \\left(1 - e^{2}\\right) \\left(\\sin{\\left(W \\right)} \\cos{\\left(w + 2 \\operatorname{atan}{\\left(1.0 \\sqrt{e + 1} \\sqrt{\\frac{1}{1 - e}} \\right)} \\right)} + \\sin{\\left(w + 2 \\operatorname{atan}{\\left(1.0 \\sqrt{e + 1} \\sqrt{\\frac{1}{1 - e}} \\right)} \\right)} \\cos{\\left(W \\right)} \\cos{\\left(inc \\right)}\\right)}{e \\cos{\\left(2 \\operatorname{atan}{\\left(1.0 \\sqrt{e + 1} \\sqrt{\\frac{1}{1 - e}} \\right)} \\right)} + 1}\\right) \\sqrt{\\left|{\\frac{a^{2} e \\left(1 - e^{2}\\right) \\left(\\sin{\\left(W \\right)} \\cos{\\left(w \\right)} + \\sin{\\left(w \\right)} \\cos{\\left(W \\right)} \\cos{\\left(inc \\right)}\\right)}{\\left(e + 1\\right) \\sqrt{\\frac{a^{2} \\left(e^{2} - 1\\right)^{2} \\left(\\sin{\\left(W \\right)} \\cos{\\left(w \\right)} + \\sin{\\left(w \\right)} \\cos{\\left(W \\right)} \\cos{\\left(inc \\right)}\\right)^{2}}{\\left(e + 1\\right)^{2}} + \\frac{a^{2} \\left(e^{2} - 1\\right)^{2} \\left(\\sin{\\left(W \\right)} \\sin{\\left(w \\right)} \\cos{\\left(inc \\right)} - \\cos{\\left(W \\right)} \\cos{\\left(w \\right)}\\right)^{2}}{\\left(e + 1\\right)^{2}} + \\frac{a^{2} \\left(e^{2} - 1\\right)^{2} \\sin^{2}{\\left(inc \\right)} \\sin^{2}{\\left(w \\right)}}{\\left(e + 1\\right)^{2}}}} + \\frac{a \\left(1 - e^{2}\\right) \\left(\\sin{\\left(W \\right)} \\cos{\\left(w + 2 \\operatorname{atan}{\\left(1.0 \\sqrt{e + 1} \\sqrt{\\frac{1}{1 - e}} \\right)} \\right)} + \\sin{\\left(w + 2 \\operatorname{atan}{\\left(1.0 \\sqrt{e + 1} \\sqrt{\\frac{1}{1 - e}} \\right)} \\right)} \\cos{\\left(W \\right)} \\cos{\\left(inc \\right)}\\right)}{e \\cos{\\left(2 \\operatorname{atan}{\\left(1.0 \\sqrt{e + 1} \\sqrt{\\frac{1}{1 - e}} \\right)} \\right)} + 1}}\\right|^{2} + \\left|{\\frac{a^{2} e \\left(1 - e^{2}\\right) \\left(- \\sin{\\left(W \\right)} \\sin{\\left(w \\right)} \\cos{\\left(inc \\right)} + \\cos{\\left(W \\right)} \\cos{\\left(w \\right)}\\right)}{\\left(e + 1\\right) \\sqrt{\\frac{a^{2} \\left(e^{2} - 1\\right)^{2} \\left(\\sin{\\left(W \\right)} \\cos{\\left(w \\right)} + \\sin{\\left(w \\right)} \\cos{\\left(W \\right)} \\cos{\\left(inc \\right)}\\right)^{2}}{\\left(e + 1\\right)^{2}} + \\frac{a^{2} \\left(e^{2} - 1\\right)^{2} \\left(\\sin{\\left(W \\right)} \\sin{\\left(w \\right)} \\cos{\\left(inc \\right)} - \\cos{\\left(W \\right)} \\cos{\\left(w \\right)}\\right)^{2}}{\\left(e + 1\\right)^{2}} + \\frac{a^{2} \\left(e^{2} - 1\\right)^{2} \\sin^{2}{\\left(inc \\right)} \\sin^{2}{\\left(w \\right)}}{\\left(e + 1\\right)^{2}}}} + \\frac{a \\left(1 - e^{2}\\right) \\left(- \\sin{\\left(W \\right)} \\sin{\\left(w + 2 \\operatorname{atan}{\\left(1.0 \\sqrt{e + 1} \\sqrt{\\frac{1}{1 - e}} \\right)} \\right)} \\cos{\\left(inc \\right)} + \\cos{\\left(W \\right)} \\cos{\\left(w + 2 \\operatorname{atan}{\\left(1.0 \\sqrt{e + 1} \\sqrt{\\frac{1}{1 - e}} \\right)} \\right)}\\right)}{e \\cos{\\left(2 \\operatorname{atan}{\\left(1.0 \\sqrt{e + 1} \\sqrt{\\frac{1}{1 - e}} \\right)} \\right)} + 1}}\\right|^{2}}}\\right|^{2}}}{2}$"
      ],
      "text/plain": [
       "sqrt(Abs(a**2*e*(1 - e**2)*(sin(W)*cos(w) + sin(w)*cos(W)*cos(inc))/((e + 1)*sqrt(a**2*(e**2 - 1)**2*(sin(W)*cos(w) + sin(w)*cos(W)*cos(inc))**2/(e + 1)**2 + a**2*(e**2 - 1)**2*(sin(W)*sin(w)*cos(inc) - cos(W)*cos(w))**2/(e + 1)**2 + a**2*(e**2 - 1)**2*sin(inc)**2*sin(w)**2/(e + 1)**2)) + a*(1 - e**2)*(sin(W)*cos(w + 1.5707963267949) + sin(w + 1.5707963267949)*cos(W)*cos(inc))/(6.12323399573677e-17*e + 1) - (a**2*e*(1 - e**2)*(-sin(W)*sin(w)*cos(inc) + cos(W)*cos(w))/((e + 1)*sqrt(a**2*(e**2 - 1)**2*(sin(W)*cos(w) + sin(w)*cos(W)*cos(inc))**2/(e + 1)**2 + a**2*(e**2 - 1)**2*(sin(W)*sin(w)*cos(inc) - cos(W)*cos(w))**2/(e + 1)**2 + a**2*(e**2 - 1)**2*sin(inc)**2*sin(w)**2/(e + 1)**2)) + a*(1 - e**2)*(-sin(W)*sin(w + 2*atan(1.0*sqrt(e + 1)*sqrt(1/(1 - e))))*cos(inc) + cos(W)*cos(w + 2*atan(1.0*sqrt(e + 1)*sqrt(1/(1 - e)))))/(e*cos(2*atan(1.0*sqrt(e + 1)*sqrt(1/(1 - e)))) + 1))*sqrt(Abs(a**2*e*(1 - e**2)*(sin(W)*cos(w) + sin(w)*cos(W)*cos(inc))/((e + 1)*sqrt(a**2*(e**2 - 1)**2*(sin(W)*cos(w) + sin(w)*cos(W)*cos(inc))**2/(e + 1)**2 + a**2*(e**2 - 1)**2*(sin(W)*sin(w)*cos(inc) - cos(W)*cos(w))**2/(e + 1)**2 + a**2*(e**2 - 1)**2*sin(inc)**2*sin(w)**2/(e + 1)**2)) + a*(1 - e**2)*(sin(W)*cos(w + 2*atan(1.0*sqrt(e + 1)*sqrt(1/(1 - e)))) + sin(w + 2*atan(1.0*sqrt(e + 1)*sqrt(1/(1 - e))))*cos(W)*cos(inc))/(e*cos(2*atan(1.0*sqrt(e + 1)*sqrt(1/(1 - e)))) + 1))**2 + Abs(a**2*e*(1 - e**2)*(-sin(W)*sin(w)*cos(inc) + cos(W)*cos(w))/((e + 1)*sqrt(a**2*(e**2 - 1)**2*(sin(W)*cos(w) + sin(w)*cos(W)*cos(inc))**2/(e + 1)**2 + a**2*(e**2 - 1)**2*(sin(W)*sin(w)*cos(inc) - cos(W)*cos(w))**2/(e + 1)**2 + a**2*(e**2 - 1)**2*sin(inc)**2*sin(w)**2/(e + 1)**2)) + a*(1 - e**2)*(-sin(W)*sin(w + 2*atan(1.0*sqrt(e + 1)*sqrt(1/(1 - e))))*cos(inc) + cos(W)*cos(w + 2*atan(1.0*sqrt(e + 1)*sqrt(1/(1 - e)))))/(e*cos(2*atan(1.0*sqrt(e + 1)*sqrt(1/(1 - e)))) + 1))**2))**2 + Abs(a**2*e*(1 - e**2)*(-sin(W)*sin(w)*cos(inc) + cos(W)*cos(w))/((e + 1)*sqrt(a**2*(e**2 - 1)**2*(sin(W)*cos(w) + sin(w)*cos(W)*cos(inc))**2/(e + 1)**2 + a**2*(e**2 - 1)**2*(sin(W)*sin(w)*cos(inc) - cos(W)*cos(w))**2/(e + 1)**2 + a**2*(e**2 - 1)**2*sin(inc)**2*sin(w)**2/(e + 1)**2)) + a*(1 - e**2)*(-sin(W)*sin(w + 1.5707963267949)*cos(inc) + cos(W)*cos(w + 1.5707963267949))/(6.12323399573677e-17*e + 1) - (-a**2*e*(1 - e**2)*(sin(W)*cos(w) + sin(w)*cos(W)*cos(inc))/((e + 1)*sqrt(a**2*(e**2 - 1)**2*(sin(W)*cos(w) + sin(w)*cos(W)*cos(inc))**2/(e + 1)**2 + a**2*(e**2 - 1)**2*(sin(W)*sin(w)*cos(inc) - cos(W)*cos(w))**2/(e + 1)**2 + a**2*(e**2 - 1)**2*sin(inc)**2*sin(w)**2/(e + 1)**2)) - a*(1 - e**2)*(sin(W)*cos(w + 2*atan(1.0*sqrt(e + 1)*sqrt(1/(1 - e)))) + sin(w + 2*atan(1.0*sqrt(e + 1)*sqrt(1/(1 - e))))*cos(W)*cos(inc))/(e*cos(2*atan(1.0*sqrt(e + 1)*sqrt(1/(1 - e)))) + 1))*sqrt(Abs(a**2*e*(1 - e**2)*(sin(W)*cos(w) + sin(w)*cos(W)*cos(inc))/((e + 1)*sqrt(a**2*(e**2 - 1)**2*(sin(W)*cos(w) + sin(w)*cos(W)*cos(inc))**2/(e + 1)**2 + a**2*(e**2 - 1)**2*(sin(W)*sin(w)*cos(inc) - cos(W)*cos(w))**2/(e + 1)**2 + a**2*(e**2 - 1)**2*sin(inc)**2*sin(w)**2/(e + 1)**2)) + a*(1 - e**2)*(sin(W)*cos(w + 2*atan(1.0*sqrt(e + 1)*sqrt(1/(1 - e)))) + sin(w + 2*atan(1.0*sqrt(e + 1)*sqrt(1/(1 - e))))*cos(W)*cos(inc))/(e*cos(2*atan(1.0*sqrt(e + 1)*sqrt(1/(1 - e)))) + 1))**2 + Abs(a**2*e*(1 - e**2)*(-sin(W)*sin(w)*cos(inc) + cos(W)*cos(w))/((e + 1)*sqrt(a**2*(e**2 - 1)**2*(sin(W)*cos(w) + sin(w)*cos(W)*cos(inc))**2/(e + 1)**2 + a**2*(e**2 - 1)**2*(sin(W)*sin(w)*cos(inc) - cos(W)*cos(w))**2/(e + 1)**2 + a**2*(e**2 - 1)**2*sin(inc)**2*sin(w)**2/(e + 1)**2)) + a*(1 - e**2)*(-sin(W)*sin(w + 2*atan(1.0*sqrt(e + 1)*sqrt(1/(1 - e))))*cos(inc) + cos(W)*cos(w + 2*atan(1.0*sqrt(e + 1)*sqrt(1/(1 - e)))))/(e*cos(2*atan(1.0*sqrt(e + 1)*sqrt(1/(1 - e)))) + 1))**2))**2)/2 - sqrt(Abs(a**2*e*(1 - e**2)*(sin(W)*cos(w) + sin(w)*cos(W)*cos(inc))/((e + 1)*sqrt(a**2*(e**2 - 1)**2*(sin(W)*cos(w) + sin(w)*cos(W)*cos(inc))**2/(e + 1)**2 + a**2*(e**2 - 1)**2*(sin(W)*sin(w)*cos(inc) - cos(W)*cos(w))**2/(e + 1)**2 + a**2*(e**2 - 1)**2*sin(inc)**2*sin(w)**2/(e + 1)**2)) + a*(1 - e**2)*(sin(W)*cos(w + 1.5707963267949) + sin(w + 1.5707963267949)*cos(W)*cos(inc))/(6.12323399573677e-17*e + 1) + (a**2*e*(1 - e**2)*(-sin(W)*sin(w)*cos(inc) + cos(W)*cos(w))/((e + 1)*sqrt(a**2*(e**2 - 1)**2*(sin(W)*cos(w) + sin(w)*cos(W)*cos(inc))**2/(e + 1)**2 + a**2*(e**2 - 1)**2*(sin(W)*sin(w)*cos(inc) - cos(W)*cos(w))**2/(e + 1)**2 + a**2*(e**2 - 1)**2*sin(inc)**2*sin(w)**2/(e + 1)**2)) + a*(1 - e**2)*(-sin(W)*sin(w + 2*atan(1.0*sqrt(e + 1)*sqrt(1/(1 - e))))*cos(inc) + cos(W)*cos(w + 2*atan(1.0*sqrt(e + 1)*sqrt(1/(1 - e)))))/(e*cos(2*atan(1.0*sqrt(e + 1)*sqrt(1/(1 - e)))) + 1))*sqrt(Abs(a**2*e*(1 - e**2)*(sin(W)*cos(w) + sin(w)*cos(W)*cos(inc))/((e + 1)*sqrt(a**2*(e**2 - 1)**2*(sin(W)*cos(w) + sin(w)*cos(W)*cos(inc))**2/(e + 1)**2 + a**2*(e**2 - 1)**2*(sin(W)*sin(w)*cos(inc) - cos(W)*cos(w))**2/(e + 1)**2 + a**2*(e**2 - 1)**2*sin(inc)**2*sin(w)**2/(e + 1)**2)) + a*(1 - e**2)*(sin(W)*cos(w + 2*atan(1.0*sqrt(e + 1)*sqrt(1/(1 - e)))) + sin(w + 2*atan(1.0*sqrt(e + 1)*sqrt(1/(1 - e))))*cos(W)*cos(inc))/(e*cos(2*atan(1.0*sqrt(e + 1)*sqrt(1/(1 - e)))) + 1))**2 + Abs(a**2*e*(1 - e**2)*(-sin(W)*sin(w)*cos(inc) + cos(W)*cos(w))/((e + 1)*sqrt(a**2*(e**2 - 1)**2*(sin(W)*cos(w) + sin(w)*cos(W)*cos(inc))**2/(e + 1)**2 + a**2*(e**2 - 1)**2*(sin(W)*sin(w)*cos(inc) - cos(W)*cos(w))**2/(e + 1)**2 + a**2*(e**2 - 1)**2*sin(inc)**2*sin(w)**2/(e + 1)**2)) + a*(1 - e**2)*(-sin(W)*sin(w + 2*atan(1.0*sqrt(e + 1)*sqrt(1/(1 - e))))*cos(inc) + cos(W)*cos(w + 2*atan(1.0*sqrt(e + 1)*sqrt(1/(1 - e)))))/(e*cos(2*atan(1.0*sqrt(e + 1)*sqrt(1/(1 - e)))) + 1))**2))**2 + Abs(a**2*e*(1 - e**2)*(-sin(W)*sin(w)*cos(inc) + cos(W)*cos(w))/((e + 1)*sqrt(a**2*(e**2 - 1)**2*(sin(W)*cos(w) + sin(w)*cos(W)*cos(inc))**2/(e + 1)**2 + a**2*(e**2 - 1)**2*(sin(W)*sin(w)*cos(inc) - cos(W)*cos(w))**2/(e + 1)**2 + a**2*(e**2 - 1)**2*sin(inc)**2*sin(w)**2/(e + 1)**2)) + a*(1 - e**2)*(-sin(W)*sin(w + 1.5707963267949)*cos(inc) + cos(W)*cos(w + 1.5707963267949))/(6.12323399573677e-17*e + 1) + (-a**2*e*(1 - e**2)*(sin(W)*cos(w) + sin(w)*cos(W)*cos(inc))/((e + 1)*sqrt(a**2*(e**2 - 1)**2*(sin(W)*cos(w) + sin(w)*cos(W)*cos(inc))**2/(e + 1)**2 + a**2*(e**2 - 1)**2*(sin(W)*sin(w)*cos(inc) - cos(W)*cos(w))**2/(e + 1)**2 + a**2*(e**2 - 1)**2*sin(inc)**2*sin(w)**2/(e + 1)**2)) - a*(1 - e**2)*(sin(W)*cos(w + 2*atan(1.0*sqrt(e + 1)*sqrt(1/(1 - e)))) + sin(w + 2*atan(1.0*sqrt(e + 1)*sqrt(1/(1 - e))))*cos(W)*cos(inc))/(e*cos(2*atan(1.0*sqrt(e + 1)*sqrt(1/(1 - e)))) + 1))*sqrt(Abs(a**2*e*(1 - e**2)*(sin(W)*cos(w) + sin(w)*cos(W)*cos(inc))/((e + 1)*sqrt(a**2*(e**2 - 1)**2*(sin(W)*cos(w) + sin(w)*cos(W)*cos(inc))**2/(e + 1)**2 + a**2*(e**2 - 1)**2*(sin(W)*sin(w)*cos(inc) - cos(W)*cos(w))**2/(e + 1)**2 + a**2*(e**2 - 1)**2*sin(inc)**2*sin(w)**2/(e + 1)**2)) + a*(1 - e**2)*(sin(W)*cos(w + 2*atan(1.0*sqrt(e + 1)*sqrt(1/(1 - e)))) + sin(w + 2*atan(1.0*sqrt(e + 1)*sqrt(1/(1 - e))))*cos(W)*cos(inc))/(e*cos(2*atan(1.0*sqrt(e + 1)*sqrt(1/(1 - e)))) + 1))**2 + Abs(a**2*e*(1 - e**2)*(-sin(W)*sin(w)*cos(inc) + cos(W)*cos(w))/((e + 1)*sqrt(a**2*(e**2 - 1)**2*(sin(W)*cos(w) + sin(w)*cos(W)*cos(inc))**2/(e + 1)**2 + a**2*(e**2 - 1)**2*(sin(W)*sin(w)*cos(inc) - cos(W)*cos(w))**2/(e + 1)**2 + a**2*(e**2 - 1)**2*sin(inc)**2*sin(w)**2/(e + 1)**2)) + a*(1 - e**2)*(-sin(W)*sin(w + 2*atan(1.0*sqrt(e + 1)*sqrt(1/(1 - e))))*cos(inc) + cos(W)*cos(w + 2*atan(1.0*sqrt(e + 1)*sqrt(1/(1 - e)))))/(e*cos(2*atan(1.0*sqrt(e + 1)*sqrt(1/(1 - e)))) + 1))**2))**2)/2"
      ]
     },
     "execution_count": 20,
     "metadata": {},
     "output_type": "execute_result"
    }
   ],
   "source": [
    "dminorp"
   ]
  },
  {
   "cell_type": "code",
   "execution_count": null,
   "metadata": {},
   "outputs": [],
   "source": [
    "#B = sp.symbols('B', real=True, positive=True)"
   ]
  },
  {
   "cell_type": "code",
   "execution_count": null,
   "metadata": {},
   "outputs": [],
   "source": [
    "#out = sp.solve(a**2*b**2*sp.sin(theta)**2/B**2+B**2-a**2-b**2,B)"
   ]
  },
  {
   "cell_type": "code",
   "execution_count": null,
   "metadata": {},
   "outputs": [],
   "source": []
  }
 ],
 "metadata": {
  "kernelspec": {
   "display_name": "Python 3",
   "language": "python",
   "name": "python3"
  },
  "language_info": {
   "codemirror_mode": {
    "name": "ipython",
    "version": 3
   },
   "file_extension": ".py",
   "mimetype": "text/x-python",
   "name": "python",
   "nbconvert_exporter": "python",
   "pygments_lexer": "ipython3",
   "version": "3.6.9"
  }
 },
 "nbformat": 4,
 "nbformat_minor": 4
}
