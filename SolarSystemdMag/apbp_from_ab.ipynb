{
 "cells": [
  {
   "cell_type": "code",
   "execution_count": 1,
   "metadata": {},
   "outputs": [],
   "source": [
    "import sympy as sp\n",
    "import numpy as np"
   ]
  },
  {
   "cell_type": "code",
   "execution_count": 2,
   "metadata": {},
   "outputs": [],
   "source": [
    "a, b, e, c = sp.symbols('a b e c', real=True, positive=True)\n",
    "ap, bp, ep, cp = sp.symbols('ap bp ep cp', real=True, positive=True)\n",
    "W, w, inc, v, Omega, omega, nu = sp.symbols('W w inc v Omega omega nu',real=True)\n",
    "E, gamma, phi = sp.symbols('E gamma phi', real=True)\n",
    "thx, thy, thz = sp.symbols('thx thy thz', real=True)\n",
    "vx, vy, vz = sp.symbols('vx vy vz', real=True)\n",
    "c1x, c1y, c1z, c2x, c2y, c2z, c3x, c3y, c3z = sp.symbols('c1x c1y c1z c2x c2y c2z c3x c3y c3z', real=True)\n",
    "#cx, cy = sp.symbols('cx cy', real=True)\n",
    "Sxy, Sxz, Syx, Syz, Szx, Szy = sp.symbols('Sxy Sxz Syx Syz Szx Szy',real=True)"
   ]
  },
  {
   "cell_type": "code",
   "execution_count": 3,
   "metadata": {},
   "outputs": [],
   "source": [
    "eqnr = a*(1-e**2)/(1+e*sp.cos(v))\n",
    "eqnX = eqnr*(sp.cos(W)*sp.cos(w+v) - sp.sin(W)*sp.sin(w+v)*sp.cos(inc))\n",
    "eqnY = eqnr*(sp.sin(W)*sp.cos(w+v) + sp.cos(W)*sp.sin(w+v)*sp.cos(inc))\n",
    "eqnZ = eqnr*(sp.sin(inc)*sp.sin(w+v))"
   ]
  },
  {
   "cell_type": "markdown",
   "metadata": {},
   "source": [
    "# Eccentricity"
   ]
  },
  {
   "cell_type": "code",
   "execution_count": 4,
   "metadata": {},
   "outputs": [],
   "source": [
    "ep_apbp = sp.sqrt(1-bp**2/ap**2)\n",
    "bp_apep = ap*sp.sqrt(ep**2-1)\n",
    "cp_apep = ap*ep #linear eccentricity\n",
    "cp_apbp = sp.sqrt(ap**2-bp**2) #linear eccentricity"
   ]
  },
  {
   "cell_type": "code",
   "execution_count": 5,
   "metadata": {},
   "outputs": [],
   "source": [
    "e_ab = sp.sqrt(1-b**2/a**2)\n",
    "b_ae = a*sp.sqrt(e**2-1)\n",
    "c_ae = a*e #linear eccentricity\n",
    "c_ab = sp.sqrt(a**2-b**2) #linear eccentricity"
   ]
  },
  {
   "cell_type": "markdown",
   "metadata": {},
   "source": [
    "# Eccentric Anomaly"
   ]
  },
  {
   "cell_type": "code",
   "execution_count": 6,
   "metadata": {},
   "outputs": [],
   "source": [
    "nu_Ee = 2*sp.atan(sp.sqrt((1+e)/(1-e))*sp.tan(E/2))"
   ]
  },
  {
   "cell_type": "code",
   "execution_count": null,
   "metadata": {},
   "outputs": [],
   "source": []
  },
  {
   "cell_type": "markdown",
   "metadata": {},
   "source": [
    "# 3D Ellipse Vectors"
   ]
  },
  {
   "cell_type": "code",
   "execution_count": 7,
   "metadata": {},
   "outputs": [],
   "source": [
    "r_perigee3D = sp.Matrix([[eqnX], [eqnY], [eqnZ]]).subs(v,0)"
   ]
  },
  {
   "cell_type": "code",
   "execution_count": 8,
   "metadata": {},
   "outputs": [],
   "source": [
    "rhat_perigee3D = r_perigee3D/r_perigee3D.norm()"
   ]
  },
  {
   "cell_type": "markdown",
   "metadata": {},
   "source": [
    "# 3D Ellipse Center"
   ]
  },
  {
   "cell_type": "code",
   "execution_count": 9,
   "metadata": {},
   "outputs": [],
   "source": [
    "r_3Dellipsecenter = -rhat_perigee3D*c_ae\n",
    "O = -rhat_perigee3D*c_ae"
   ]
  },
  {
   "cell_type": "markdown",
   "metadata": {},
   "source": [
    "# Proof Math"
   ]
  },
  {
   "cell_type": "code",
   "execution_count": 55,
   "metadata": {},
   "outputs": [],
   "source": [
    "#Ap = sp.Matrix([[eqnX], [eqnY]]).subs(v,0) # not needed\n",
    "Bp = sp.Matrix([[eqnX], [eqnY], [0]]).subs(v,np.pi)\n",
    "Cp = sp.Matrix([[eqnX], [eqnY], [0]]).subs(v,nu_Ee.subs(E,np.pi/2))\n",
    "#Dp = sp.Matrix([[eqnX], [eqnY]]).subs(v,nu_Ee.subs(E,-np.pi/2)) # not needed"
   ]
  },
  {
   "cell_type": "code",
   "execution_count": 56,
   "metadata": {},
   "outputs": [],
   "source": [
    "Op = sp.Matrix([[O[0]],[O[1]],[0]])\n",
    "OpCp = Cp-Op\n",
    "OpBp = Bp-Op\n",
    "QQp_hat = sp.Matrix([[0],[0],[1]]).cross(OpCp)"
   ]
  },
  {
   "cell_type": "code",
   "execution_count": 57,
   "metadata": {},
   "outputs": [],
   "source": [
    "dOpCp = OpCp.norm() #length of OpCp"
   ]
  },
  {
   "cell_type": "code",
   "execution_count": 58,
   "metadata": {},
   "outputs": [],
   "source": [
    "Q = Bp - dOpCp*QQp_hat\n",
    "Qp = Bp + dOpCp*QQp_hat"
   ]
  },
  {
   "cell_type": "code",
   "execution_count": 59,
   "metadata": {},
   "outputs": [],
   "source": [
    "OpQ = Q - Op\n",
    "OpQp = Qp - Op\n",
    "Gamma = sp.acos(OpQp.dot(OpQ)/OpQ.norm()/OpQp.norm()) #angle between OpQ and OpQp"
   ]
  },
  {
   "cell_type": "code",
   "execution_count": 60,
   "metadata": {},
   "outputs": [],
   "source": [
    "dOpCp = OpCp.norm()\n",
    "dOpBp = OpBp.norm()\n",
    "theta = sp.acos(OpCp.dot(OpBp)/dOpCp/dOpBp)"
   ]
  },
  {
   "cell_type": "code",
   "execution_count": 61,
   "metadata": {},
   "outputs": [],
   "source": [
    "dOpQ = OpQ.norm()\n",
    "dOpQp = OpQp.norm()\n",
    "dIR = dOpQp + dOpQ\n",
    "dTS = dOpQp - dOpQ\n",
    "dmajorp = dIR/2\n",
    "dminorp = dTS/2"
   ]
  },
  {
   "cell_type": "code",
   "execution_count": 62,
   "metadata": {},
   "outputs": [],
   "source": [
    "#Random substitutions to condense dmajorp equation\n",
    "Gamma, gamma, Phi, phi, lam, Psi, psi = sp.symbols('Gamma gamma Phi phi lambda Psi psi')"
   ]
  },
  {
   "cell_type": "code",
   "execution_count": 63,
   "metadata": {},
   "outputs": [],
   "source": [
    "#dmajorp.subs(e*(1-e**2),Gamma).subs(sp.sin(W)*sp.cos(w)+sp.sin(w)*sp.cos(W)*sp.cos(inc),gamma).subs(sp.sqrt((e+1)/(1-e)),Phi).subs(a**2*(e**2-1)**2,phi).subs(sp.cos(W)*sp.cos(w)-sp.sin(W)*sp.sin(w)*sp.cos(inc),lam).subs((e+1)*sp.sqrt((gamma**2*phi)/(e+1)**2+(lam**2*phi)/(e+1)**2+(phi*sp.sin(inc)**2*sp.sin(w)**2)/(e+1)**2),Psi)"
   ]
  },
  {
   "cell_type": "code",
   "execution_count": 64,
   "metadata": {},
   "outputs": [],
   "source": [
    "#dminorp"
   ]
  },
  {
   "cell_type": "code",
   "execution_count": 65,
   "metadata": {},
   "outputs": [
    {
     "data": {
      "text/latex": [
       "$\\displaystyle 1.0$"
      ],
      "text/plain": [
       "1.00000000000000"
      ]
     },
     "execution_count": 65,
     "metadata": {},
     "output_type": "execute_result"
    }
   ],
   "source": [
    "dmajorp.subs(W,0.).subs(inc,np.pi/4).subs(a,1.).subs(e,0.).subs(w,0.)"
   ]
  },
  {
   "cell_type": "code",
   "execution_count": 66,
   "metadata": {},
   "outputs": [
    {
     "data": {
      "text/latex": [
       "$\\displaystyle 0.5$"
      ],
      "text/plain": [
       "0.500000000000000"
      ]
     },
     "execution_count": 66,
     "metadata": {},
     "output_type": "execute_result"
    }
   ],
   "source": [
    "dminorp.subs(W,0.).subs(inc,np.pi/4).subs(a,1.).subs(e,0.).subs(w,0.)"
   ]
  },
  {
   "cell_type": "code",
   "execution_count": 54,
   "metadata": {},
   "outputs": [
    {
     "data": {
      "text/plain": [
       "1.4142135623730951"
      ]
     },
     "execution_count": 54,
     "metadata": {},
     "output_type": "execute_result"
    }
   ],
   "source": [
    "np.sqrt(2)"
   ]
  },
  {
   "cell_type": "code",
   "execution_count": null,
   "metadata": {},
   "outputs": [],
   "source": [
    "#B = sp.symbols('B', real=True, positive=True)"
   ]
  },
  {
   "cell_type": "code",
   "execution_count": null,
   "metadata": {},
   "outputs": [],
   "source": [
    "#out = sp.solve(a**2*b**2*sp.sin(theta)**2/B**2+B**2-a**2-b**2,B)"
   ]
  },
  {
   "cell_type": "code",
   "execution_count": null,
   "metadata": {},
   "outputs": [],
   "source": []
  }
 ],
 "metadata": {
  "kernelspec": {
   "display_name": "Python 3",
   "language": "python",
   "name": "python3"
  },
  "language_info": {
   "codemirror_mode": {
    "name": "ipython",
    "version": 3
   },
   "file_extension": ".py",
   "mimetype": "text/x-python",
   "name": "python",
   "nbconvert_exporter": "python",
   "pygments_lexer": "ipython3",
   "version": "3.6.9"
  }
 },
 "nbformat": 4,
 "nbformat_minor": 4
}
