{
 "cells": [
  {
   "cell_type": "code",
   "execution_count": 1,
   "metadata": {},
   "outputs": [],
   "source": [
    "import sympy as sp\n",
    "import numpy as np"
   ]
  },
  {
   "cell_type": "code",
   "execution_count": 2,
   "metadata": {},
   "outputs": [],
   "source": [
    "a, e, b = sp.symbols('a e b', real=True, positive=True)\n",
    "W, w, inc, v, Omega, omega, nu = sp.symbols('W w inc v Omega omega nu',real=True)\n",
    "x, y, f, g, h, k, l, m = sp.symbols('x y f g h k l m',real=True)\n",
    "lam, lam1, lam2 = sp.symbols('lam, lam1 lam2', real=True)"
   ]
  },
  {
   "cell_type": "markdown",
   "metadata": {},
   "source": [
    "#### Useful Trig Identities 1"
   ]
  },
  {
   "cell_type": "code",
   "execution_count": 3,
   "metadata": {},
   "outputs": [],
   "source": [
    "sinApB = sp.sin(v)*sp.cos(w) + sp.cos(v)*sp.sin(w)#sin(v+w)\n",
    "sinAmB = sp.sin(v)*sp.cos(w) - sp.cos(v)*sp.sin(w)#sin(v-w)\n",
    "cosApB = sp.cos(v)*sp.cos(w) - sp.sin(v)*sp.sin(w)#cos(v+w)\n",
    "cosAmB = sp.cos(v)*sp.cos(w) + sp.sin(v)*sp.sin(w)#cos(v-w)"
   ]
  },
  {
   "cell_type": "markdown",
   "metadata": {},
   "source": [
    "# General 2D Ellipse Equation"
   ]
  },
  {
   "cell_type": "code",
   "execution_count": 4,
   "metadata": {},
   "outputs": [],
   "source": [
    "twoDeqn = f*x**2+ 2*g*x*y+ h*y**2+ 2*k*x+ 2*l*y+ m #=0"
   ]
  },
  {
   "cell_type": "code",
   "execution_count": 5,
   "metadata": {},
   "outputs": [],
   "source": [
    "Delta = sp.Matrix([[f,g,k],[g,h,l],[k,l,m]]).det()"
   ]
  },
  {
   "cell_type": "code",
   "execution_count": 6,
   "metadata": {},
   "outputs": [
    {
     "data": {
      "text/latex": [
       "$\\displaystyle f h m - f l^{2} - g^{2} m + 2 g k l - h k^{2}$"
      ],
      "text/plain": [
       "f*h*m - f*l**2 - g**2*m + 2*g*k*l - h*k**2"
      ]
     },
     "execution_count": 6,
     "metadata": {},
     "output_type": "execute_result"
    }
   ],
   "source": [
    "Delta"
   ]
  },
  {
   "cell_type": "code",
   "execution_count": 7,
   "metadata": {},
   "outputs": [],
   "source": [
    "Delta2 = f*h-g**2"
   ]
  },
  {
   "cell_type": "markdown",
   "metadata": {},
   "source": [
    "IF Delta != 0 and Delta2 != 0"
   ]
  },
  {
   "cell_type": "code",
   "execution_count": 8,
   "metadata": {},
   "outputs": [],
   "source": [
    "conicEqn = lam1*x**2+lam2*y**2+Delta/(lam1*lam2) #=0"
   ]
  },
  {
   "cell_type": "markdown",
   "metadata": {},
   "source": [
    "lam1 and lam2 come from the roots of the following"
   ]
  },
  {
   "cell_type": "code",
   "execution_count": 9,
   "metadata": {},
   "outputs": [],
   "source": [
    "charEqn = lam**2 - (f+h)*lam + (f*h-g**2) #=0"
   ]
  },
  {
   "cell_type": "code",
   "execution_count": 10,
   "metadata": {},
   "outputs": [],
   "source": [
    "lam1 = ((f+h)-sp.sqrt((f+h)**2-4*(f*h-g**2)))/2"
   ]
  },
  {
   "cell_type": "code",
   "execution_count": 11,
   "metadata": {},
   "outputs": [],
   "source": [
    "lam2 = ((f+h)+sp.sqrt((f+h)**2-4*(f*h-g**2)))/2"
   ]
  },
  {
   "cell_type": "code",
   "execution_count": 12,
   "metadata": {},
   "outputs": [],
   "source": [
    "charEqn2 = lam1+lam2-f-h #=0"
   ]
  },
  {
   "cell_type": "code",
   "execution_count": 13,
   "metadata": {},
   "outputs": [],
   "source": [
    "charEqn3 = lam1*lam2-f*h+g**2 #=0"
   ]
  },
  {
   "cell_type": "markdown",
   "metadata": {},
   "source": [
    "If lam1*lam2>0, the conic is an ellipse"
   ]
  },
  {
   "cell_type": "markdown",
   "metadata": {},
   "source": [
    "If Delta < 0 and lam2>lam1>0, then"
   ]
  },
  {
   "cell_type": "code",
   "execution_count": 14,
   "metadata": {},
   "outputs": [],
   "source": [
    "smaa = sp.sqrt(-Delta/(lam1**2 *lam2))"
   ]
  },
  {
   "cell_type": "code",
   "execution_count": 15,
   "metadata": {},
   "outputs": [],
   "source": [
    "smab = sp.sqrt(-Delta/(lam1*lam2**2))"
   ]
  },
  {
   "cell_type": "code",
   "execution_count": 16,
   "metadata": {},
   "outputs": [],
   "source": [
    "eccen = sp.sqrt((2*sp.sqrt((f-h)**2+4*g**2))/((f+h)+sp.sqrt((f-h)**2+4*g**2)))"
   ]
  },
  {
   "cell_type": "markdown",
   "metadata": {},
   "source": [
    "# 3D Ellipse Equation"
   ]
  },
  {
   "cell_type": "code",
   "execution_count": 17,
   "metadata": {},
   "outputs": [],
   "source": [
    "eqnr = a*(1-e**2)/(1+e*sp.cos(v))\n",
    "eqnX = eqnr*(sp.cos(W)*sp.cos(w+v) - sp.sin(W)*sp.sin(w+v)*sp.cos(inc))\n",
    "eqnX = eqnX.subs(sp.cos(w+v),cosApB).subs(sp.sin(w+v),sinApB)\n",
    "eqnY = eqnr*(sp.sin(W)*sp.cos(w+v) + sp.cos(W)*sp.sin(w+v)*sp.cos(inc))\n",
    "eqnY = eqnY.subs(sp.cos(w+v),cosApB).subs(sp.sin(w+v),sinApB)\n",
    "eqnZ = eqnr*(sp.sin(inc)*sp.sin(w+v))"
   ]
  },
  {
   "cell_type": "code",
   "execution_count": 113,
   "metadata": {},
   "outputs": [
    {
     "data": {
      "text/latex": [
       "$\\displaystyle \\sin^{2}{\\left(W \\right)} \\sin^{2}{\\left(v \\right)} \\cos^{2}{\\left(inc \\right)} \\cos^{2}{\\left(w \\right)} + 2 \\sin^{2}{\\left(W \\right)} \\sin{\\left(v \\right)} \\sin{\\left(w \\right)} \\cos^{2}{\\left(inc \\right)} \\cos{\\left(v \\right)} \\cos{\\left(w \\right)} + \\sin^{2}{\\left(W \\right)} \\sin^{2}{\\left(w \\right)} \\cos^{2}{\\left(inc \\right)} \\cos^{2}{\\left(v \\right)} + 2 \\sin{\\left(W \\right)} \\sin^{2}{\\left(v \\right)} \\sin{\\left(w \\right)} \\cos{\\left(W \\right)} \\cos{\\left(inc \\right)} \\cos{\\left(w \\right)} + 2 \\sin{\\left(W \\right)} \\sin{\\left(v \\right)} \\sin^{2}{\\left(w \\right)} \\cos{\\left(W \\right)} \\cos{\\left(inc \\right)} \\cos{\\left(v \\right)} - 2 \\sin{\\left(W \\right)} \\sin{\\left(v \\right)} \\cos{\\left(W \\right)} \\cos{\\left(inc \\right)} \\cos{\\left(v \\right)} \\cos^{2}{\\left(w \\right)} - 2 \\sin{\\left(W \\right)} \\sin{\\left(w \\right)} \\cos{\\left(W \\right)} \\cos{\\left(inc \\right)} \\cos^{2}{\\left(v \\right)} \\cos{\\left(w \\right)} + \\sin^{2}{\\left(v \\right)} \\sin^{2}{\\left(w \\right)} \\cos^{2}{\\left(W \\right)} - 2 \\sin{\\left(v \\right)} \\sin{\\left(w \\right)} \\cos^{2}{\\left(W \\right)} \\cos{\\left(v \\right)} \\cos{\\left(w \\right)} + \\cos^{2}{\\left(W \\right)} \\cos^{2}{\\left(v \\right)} \\cos^{2}{\\left(w \\right)}$"
      ],
      "text/plain": [
       "sin(W)**2*sin(v)**2*cos(inc)**2*cos(w)**2 + 2*sin(W)**2*sin(v)*sin(w)*cos(inc)**2*cos(v)*cos(w) + sin(W)**2*sin(w)**2*cos(inc)**2*cos(v)**2 + 2*sin(W)*sin(v)**2*sin(w)*cos(W)*cos(inc)*cos(w) + 2*sin(W)*sin(v)*sin(w)**2*cos(W)*cos(inc)*cos(v) - 2*sin(W)*sin(v)*cos(W)*cos(inc)*cos(v)*cos(w)**2 - 2*sin(W)*sin(w)*cos(W)*cos(inc)*cos(v)**2*cos(w) + sin(v)**2*sin(w)**2*cos(W)**2 - 2*sin(v)*sin(w)*cos(W)**2*cos(v)*cos(w) + cos(W)**2*cos(v)**2*cos(w)**2"
      ]
     },
     "execution_count": 113,
     "metadata": {},
     "output_type": "execute_result"
    }
   ],
   "source": [
    "sp.expand((eqnX/eqnr)**2)"
   ]
  },
  {
   "cell_type": "code",
   "execution_count": 114,
   "metadata": {},
   "outputs": [
    {
     "data": {
      "text/latex": [
       "$\\displaystyle \\sin^{2}{\\left(W \\right)} \\sin^{2}{\\left(v \\right)} \\sin^{2}{\\left(w \\right)} - 2 \\sin^{2}{\\left(W \\right)} \\sin{\\left(v \\right)} \\sin{\\left(w \\right)} \\cos{\\left(v \\right)} \\cos{\\left(w \\right)} + \\sin^{2}{\\left(W \\right)} \\cos^{2}{\\left(v \\right)} \\cos^{2}{\\left(w \\right)} - 2 \\sin{\\left(W \\right)} \\sin^{2}{\\left(v \\right)} \\sin{\\left(w \\right)} \\cos{\\left(W \\right)} \\cos{\\left(inc \\right)} \\cos{\\left(w \\right)} - 2 \\sin{\\left(W \\right)} \\sin{\\left(v \\right)} \\sin^{2}{\\left(w \\right)} \\cos{\\left(W \\right)} \\cos{\\left(inc \\right)} \\cos{\\left(v \\right)} + 2 \\sin{\\left(W \\right)} \\sin{\\left(v \\right)} \\cos{\\left(W \\right)} \\cos{\\left(inc \\right)} \\cos{\\left(v \\right)} \\cos^{2}{\\left(w \\right)} + 2 \\sin{\\left(W \\right)} \\sin{\\left(w \\right)} \\cos{\\left(W \\right)} \\cos{\\left(inc \\right)} \\cos^{2}{\\left(v \\right)} \\cos{\\left(w \\right)} + \\sin^{2}{\\left(v \\right)} \\cos^{2}{\\left(W \\right)} \\cos^{2}{\\left(inc \\right)} \\cos^{2}{\\left(w \\right)} + 2 \\sin{\\left(v \\right)} \\sin{\\left(w \\right)} \\cos^{2}{\\left(W \\right)} \\cos^{2}{\\left(inc \\right)} \\cos{\\left(v \\right)} \\cos{\\left(w \\right)} + \\sin^{2}{\\left(w \\right)} \\cos^{2}{\\left(W \\right)} \\cos^{2}{\\left(inc \\right)} \\cos^{2}{\\left(v \\right)}$"
      ],
      "text/plain": [
       "sin(W)**2*sin(v)**2*sin(w)**2 - 2*sin(W)**2*sin(v)*sin(w)*cos(v)*cos(w) + sin(W)**2*cos(v)**2*cos(w)**2 - 2*sin(W)*sin(v)**2*sin(w)*cos(W)*cos(inc)*cos(w) - 2*sin(W)*sin(v)*sin(w)**2*cos(W)*cos(inc)*cos(v) + 2*sin(W)*sin(v)*cos(W)*cos(inc)*cos(v)*cos(w)**2 + 2*sin(W)*sin(w)*cos(W)*cos(inc)*cos(v)**2*cos(w) + sin(v)**2*cos(W)**2*cos(inc)**2*cos(w)**2 + 2*sin(v)*sin(w)*cos(W)**2*cos(inc)**2*cos(v)*cos(w) + sin(w)**2*cos(W)**2*cos(inc)**2*cos(v)**2"
      ]
     },
     "execution_count": 114,
     "metadata": {},
     "output_type": "execute_result"
    }
   ],
   "source": [
    "sp.expand((eqnY/eqnr)**2)"
   ]
  },
  {
   "cell_type": "code",
   "execution_count": 117,
   "metadata": {},
   "outputs": [
    {
     "data": {
      "text/latex": [
       "$\\displaystyle f \\left(- \\sin{\\left(W \\right)} \\sin{\\left(v + w \\right)} \\cos{\\left(inc \\right)} + \\cos{\\left(W \\right)} \\cos{\\left(v + w \\right)}\\right)^{2} + h \\left(\\sin{\\left(W \\right)} \\cos{\\left(v + w \\right)} + \\sin{\\left(v + w \\right)} \\cos{\\left(W \\right)} \\cos{\\left(inc \\right)}\\right)^{2}$"
      ],
      "text/plain": [
       "f*(-sin(W)*sin(v + w)*cos(inc) + cos(W)*cos(v + w))**2 + h*(sin(W)*cos(v + w) + sin(v + w)*cos(W)*cos(inc))**2"
      ]
     },
     "execution_count": 117,
     "metadata": {},
     "output_type": "execute_result"
    }
   ],
   "source": [
    "sp.simplify(f*sp.expand((eqnX/eqnr)**2)+h*sp.expand((eqnY/eqnr)**2))"
   ]
  },
  {
   "cell_type": "markdown",
   "metadata": {},
   "source": [
    "# Plug 3D XY into 2Deqn"
   ]
  },
  {
   "cell_type": "code",
   "execution_count": 18,
   "metadata": {},
   "outputs": [
    {
     "data": {
      "text/latex": [
       "$\\displaystyle f x^{2} + 2 g x y + h y^{2} + 2 k x + 2 l y + m$"
      ],
      "text/plain": [
       "f*x**2 + 2*g*x*y + h*y**2 + 2*k*x + 2*l*y + m"
      ]
     },
     "execution_count": 18,
     "metadata": {},
     "output_type": "execute_result"
    }
   ],
   "source": [
    "twoDeqn #=0"
   ]
  },
  {
   "cell_type": "code",
   "execution_count": 29,
   "metadata": {},
   "outputs": [],
   "source": [
    "#eqnX**2"
   ]
  },
  {
   "cell_type": "code",
   "execution_count": 37,
   "metadata": {},
   "outputs": [],
   "source": [
    "twoDeqnw3D = twoDeqn.subs(x,eqnX).subs(y,eqnY)"
   ]
  },
  {
   "cell_type": "code",
   "execution_count": 42,
   "metadata": {},
   "outputs": [],
   "source": [
    "twoDeqnw3D = twoDeqnw3D.subs(sp.cos(v),x).subs(sp.sin(v),y)*(e*x+1)**2"
   ]
  },
  {
   "cell_type": "code",
   "execution_count": 45,
   "metadata": {},
   "outputs": [],
   "source": [
    "twoDeqnw3D = sp.simplify(twoDeqnw3D)"
   ]
  },
  {
   "cell_type": "code",
   "execution_count": 47,
   "metadata": {},
   "outputs": [],
   "source": [
    "twoDeqnw3D = sp.expand(twoDeqnw3D)"
   ]
  },
  {
   "cell_type": "code",
   "execution_count": 110,
   "metadata": {},
   "outputs": [
    {
     "data": {
      "text/latex": [
       "$\\displaystyle a^{2} e^{4} f x^{2} \\sin^{2}{\\left(W \\right)} \\sin^{2}{\\left(w \\right)} \\cos^{2}{\\left(inc \\right)} - 2 a^{2} e^{4} f x^{2} \\sin{\\left(W \\right)} \\sin{\\left(w \\right)} \\cos{\\left(W \\right)} \\cos{\\left(inc \\right)} \\cos{\\left(w \\right)} + a^{2} e^{4} f x^{2} \\cos^{2}{\\left(W \\right)} \\cos^{2}{\\left(w \\right)} + 2 a^{2} e^{4} f x y \\sin^{2}{\\left(W \\right)} \\sin{\\left(w \\right)} \\cos^{2}{\\left(inc \\right)} \\cos{\\left(w \\right)} + 2 a^{2} e^{4} f x y \\sin{\\left(W \\right)} \\sin^{2}{\\left(w \\right)} \\cos{\\left(W \\right)} \\cos{\\left(inc \\right)} - 2 a^{2} e^{4} f x y \\sin{\\left(W \\right)} \\cos{\\left(W \\right)} \\cos{\\left(inc \\right)} \\cos^{2}{\\left(w \\right)} - 2 a^{2} e^{4} f x y \\sin{\\left(w \\right)} \\cos^{2}{\\left(W \\right)} \\cos{\\left(w \\right)} + a^{2} e^{4} f y^{2} \\sin^{2}{\\left(W \\right)} \\cos^{2}{\\left(inc \\right)} \\cos^{2}{\\left(w \\right)} + 2 a^{2} e^{4} f y^{2} \\sin{\\left(W \\right)} \\sin{\\left(w \\right)} \\cos{\\left(W \\right)} \\cos{\\left(inc \\right)} \\cos{\\left(w \\right)} + a^{2} e^{4} f y^{2} \\sin^{2}{\\left(w \\right)} \\cos^{2}{\\left(W \\right)} - 2 a^{2} e^{4} g x^{2} \\sin^{2}{\\left(W \\right)} \\sin{\\left(w \\right)} \\cos{\\left(inc \\right)} \\cos{\\left(w \\right)} - 2 a^{2} e^{4} g x^{2} \\sin{\\left(W \\right)} \\sin^{2}{\\left(w \\right)} \\cos{\\left(W \\right)} \\cos^{2}{\\left(inc \\right)} + 2 a^{2} e^{4} g x^{2} \\sin{\\left(W \\right)} \\cos{\\left(W \\right)} \\cos^{2}{\\left(w \\right)} + 2 a^{2} e^{4} g x^{2} \\sin{\\left(w \\right)} \\cos^{2}{\\left(W \\right)} \\cos{\\left(inc \\right)} \\cos{\\left(w \\right)} + 2 a^{2} e^{4} g x y \\sin^{2}{\\left(W \\right)} \\sin^{2}{\\left(w \\right)} \\cos{\\left(inc \\right)} - 2 a^{2} e^{4} g x y \\sin^{2}{\\left(W \\right)} \\cos{\\left(inc \\right)} \\cos^{2}{\\left(w \\right)} - 4 a^{2} e^{4} g x y \\sin{\\left(W \\right)} \\sin{\\left(w \\right)} \\cos{\\left(W \\right)} \\cos^{2}{\\left(inc \\right)} \\cos{\\left(w \\right)} - 4 a^{2} e^{4} g x y \\sin{\\left(W \\right)} \\sin{\\left(w \\right)} \\cos{\\left(W \\right)} \\cos{\\left(w \\right)} - 2 a^{2} e^{4} g x y \\sin^{2}{\\left(w \\right)} \\cos^{2}{\\left(W \\right)} \\cos{\\left(inc \\right)} + 2 a^{2} e^{4} g x y \\cos^{2}{\\left(W \\right)} \\cos{\\left(inc \\right)} \\cos^{2}{\\left(w \\right)} + 2 a^{2} e^{4} g y^{2} \\sin^{2}{\\left(W \\right)} \\sin{\\left(w \\right)} \\cos{\\left(inc \\right)} \\cos{\\left(w \\right)} + 2 a^{2} e^{4} g y^{2} \\sin{\\left(W \\right)} \\sin^{2}{\\left(w \\right)} \\cos{\\left(W \\right)} - 2 a^{2} e^{4} g y^{2} \\sin{\\left(W \\right)} \\cos{\\left(W \\right)} \\cos^{2}{\\left(inc \\right)} \\cos^{2}{\\left(w \\right)} - 2 a^{2} e^{4} g y^{2} \\sin{\\left(w \\right)} \\cos^{2}{\\left(W \\right)} \\cos{\\left(inc \\right)} \\cos{\\left(w \\right)} + a^{2} e^{4} h x^{2} \\sin^{2}{\\left(W \\right)} \\cos^{2}{\\left(w \\right)} + 2 a^{2} e^{4} h x^{2} \\sin{\\left(W \\right)} \\sin{\\left(w \\right)} \\cos{\\left(W \\right)} \\cos{\\left(inc \\right)} \\cos{\\left(w \\right)} + a^{2} e^{4} h x^{2} \\sin^{2}{\\left(w \\right)} \\cos^{2}{\\left(W \\right)} \\cos^{2}{\\left(inc \\right)} - 2 a^{2} e^{4} h x y \\sin^{2}{\\left(W \\right)} \\sin{\\left(w \\right)} \\cos{\\left(w \\right)} - 2 a^{2} e^{4} h x y \\sin{\\left(W \\right)} \\sin^{2}{\\left(w \\right)} \\cos{\\left(W \\right)} \\cos{\\left(inc \\right)} + 2 a^{2} e^{4} h x y \\sin{\\left(W \\right)} \\cos{\\left(W \\right)} \\cos{\\left(inc \\right)} \\cos^{2}{\\left(w \\right)} + 2 a^{2} e^{4} h x y \\sin{\\left(w \\right)} \\cos^{2}{\\left(W \\right)} \\cos^{2}{\\left(inc \\right)} \\cos{\\left(w \\right)} + a^{2} e^{4} h y^{2} \\sin^{2}{\\left(W \\right)} \\sin^{2}{\\left(w \\right)} - 2 a^{2} e^{4} h y^{2} \\sin{\\left(W \\right)} \\sin{\\left(w \\right)} \\cos{\\left(W \\right)} \\cos{\\left(inc \\right)} \\cos{\\left(w \\right)} + a^{2} e^{4} h y^{2} \\cos^{2}{\\left(W \\right)} \\cos^{2}{\\left(inc \\right)} \\cos^{2}{\\left(w \\right)} - 2 a^{2} e^{2} f x^{2} \\sin^{2}{\\left(W \\right)} \\sin^{2}{\\left(w \\right)} \\cos^{2}{\\left(inc \\right)} + 4 a^{2} e^{2} f x^{2} \\sin{\\left(W \\right)} \\sin{\\left(w \\right)} \\cos{\\left(W \\right)} \\cos{\\left(inc \\right)} \\cos{\\left(w \\right)} - 2 a^{2} e^{2} f x^{2} \\cos^{2}{\\left(W \\right)} \\cos^{2}{\\left(w \\right)} - 4 a^{2} e^{2} f x y \\sin^{2}{\\left(W \\right)} \\sin{\\left(w \\right)} \\cos^{2}{\\left(inc \\right)} \\cos{\\left(w \\right)} - 4 a^{2} e^{2} f x y \\sin{\\left(W \\right)} \\sin^{2}{\\left(w \\right)} \\cos{\\left(W \\right)} \\cos{\\left(inc \\right)} + 4 a^{2} e^{2} f x y \\sin{\\left(W \\right)} \\cos{\\left(W \\right)} \\cos{\\left(inc \\right)} \\cos^{2}{\\left(w \\right)} + 4 a^{2} e^{2} f x y \\sin{\\left(w \\right)} \\cos^{2}{\\left(W \\right)} \\cos{\\left(w \\right)} - 2 a^{2} e^{2} f y^{2} \\sin^{2}{\\left(W \\right)} \\cos^{2}{\\left(inc \\right)} \\cos^{2}{\\left(w \\right)} - 4 a^{2} e^{2} f y^{2} \\sin{\\left(W \\right)} \\sin{\\left(w \\right)} \\cos{\\left(W \\right)} \\cos{\\left(inc \\right)} \\cos{\\left(w \\right)} - 2 a^{2} e^{2} f y^{2} \\sin^{2}{\\left(w \\right)} \\cos^{2}{\\left(W \\right)} + 4 a^{2} e^{2} g x^{2} \\sin^{2}{\\left(W \\right)} \\sin{\\left(w \\right)} \\cos{\\left(inc \\right)} \\cos{\\left(w \\right)} + 4 a^{2} e^{2} g x^{2} \\sin{\\left(W \\right)} \\sin^{2}{\\left(w \\right)} \\cos{\\left(W \\right)} \\cos^{2}{\\left(inc \\right)} - 4 a^{2} e^{2} g x^{2} \\sin{\\left(W \\right)} \\cos{\\left(W \\right)} \\cos^{2}{\\left(w \\right)} - 4 a^{2} e^{2} g x^{2} \\sin{\\left(w \\right)} \\cos^{2}{\\left(W \\right)} \\cos{\\left(inc \\right)} \\cos{\\left(w \\right)} - 4 a^{2} e^{2} g x y \\sin^{2}{\\left(W \\right)} \\sin^{2}{\\left(w \\right)} \\cos{\\left(inc \\right)} + 4 a^{2} e^{2} g x y \\sin^{2}{\\left(W \\right)} \\cos{\\left(inc \\right)} \\cos^{2}{\\left(w \\right)} + 8 a^{2} e^{2} g x y \\sin{\\left(W \\right)} \\sin{\\left(w \\right)} \\cos{\\left(W \\right)} \\cos^{2}{\\left(inc \\right)} \\cos{\\left(w \\right)} + 8 a^{2} e^{2} g x y \\sin{\\left(W \\right)} \\sin{\\left(w \\right)} \\cos{\\left(W \\right)} \\cos{\\left(w \\right)} + 4 a^{2} e^{2} g x y \\sin^{2}{\\left(w \\right)} \\cos^{2}{\\left(W \\right)} \\cos{\\left(inc \\right)} - 4 a^{2} e^{2} g x y \\cos^{2}{\\left(W \\right)} \\cos{\\left(inc \\right)} \\cos^{2}{\\left(w \\right)} - 4 a^{2} e^{2} g y^{2} \\sin^{2}{\\left(W \\right)} \\sin{\\left(w \\right)} \\cos{\\left(inc \\right)} \\cos{\\left(w \\right)} - 4 a^{2} e^{2} g y^{2} \\sin{\\left(W \\right)} \\sin^{2}{\\left(w \\right)} \\cos{\\left(W \\right)} + 4 a^{2} e^{2} g y^{2} \\sin{\\left(W \\right)} \\cos{\\left(W \\right)} \\cos^{2}{\\left(inc \\right)} \\cos^{2}{\\left(w \\right)} + 4 a^{2} e^{2} g y^{2} \\sin{\\left(w \\right)} \\cos^{2}{\\left(W \\right)} \\cos{\\left(inc \\right)} \\cos{\\left(w \\right)} - 2 a^{2} e^{2} h x^{2} \\sin^{2}{\\left(W \\right)} \\cos^{2}{\\left(w \\right)} - 4 a^{2} e^{2} h x^{2} \\sin{\\left(W \\right)} \\sin{\\left(w \\right)} \\cos{\\left(W \\right)} \\cos{\\left(inc \\right)} \\cos{\\left(w \\right)} - 2 a^{2} e^{2} h x^{2} \\sin^{2}{\\left(w \\right)} \\cos^{2}{\\left(W \\right)} \\cos^{2}{\\left(inc \\right)} + 4 a^{2} e^{2} h x y \\sin^{2}{\\left(W \\right)} \\sin{\\left(w \\right)} \\cos{\\left(w \\right)} + 4 a^{2} e^{2} h x y \\sin{\\left(W \\right)} \\sin^{2}{\\left(w \\right)} \\cos{\\left(W \\right)} \\cos{\\left(inc \\right)} - 4 a^{2} e^{2} h x y \\sin{\\left(W \\right)} \\cos{\\left(W \\right)} \\cos{\\left(inc \\right)} \\cos^{2}{\\left(w \\right)} - 4 a^{2} e^{2} h x y \\sin{\\left(w \\right)} \\cos^{2}{\\left(W \\right)} \\cos^{2}{\\left(inc \\right)} \\cos{\\left(w \\right)} - 2 a^{2} e^{2} h y^{2} \\sin^{2}{\\left(W \\right)} \\sin^{2}{\\left(w \\right)} + 4 a^{2} e^{2} h y^{2} \\sin{\\left(W \\right)} \\sin{\\left(w \\right)} \\cos{\\left(W \\right)} \\cos{\\left(inc \\right)} \\cos{\\left(w \\right)} - 2 a^{2} e^{2} h y^{2} \\cos^{2}{\\left(W \\right)} \\cos^{2}{\\left(inc \\right)} \\cos^{2}{\\left(w \\right)} + a^{2} f x^{2} \\sin^{2}{\\left(W \\right)} \\sin^{2}{\\left(w \\right)} \\cos^{2}{\\left(inc \\right)} - 2 a^{2} f x^{2} \\sin{\\left(W \\right)} \\sin{\\left(w \\right)} \\cos{\\left(W \\right)} \\cos{\\left(inc \\right)} \\cos{\\left(w \\right)} + a^{2} f x^{2} \\cos^{2}{\\left(W \\right)} \\cos^{2}{\\left(w \\right)} + 2 a^{2} f x y \\sin^{2}{\\left(W \\right)} \\sin{\\left(w \\right)} \\cos^{2}{\\left(inc \\right)} \\cos{\\left(w \\right)} + 2 a^{2} f x y \\sin{\\left(W \\right)} \\sin^{2}{\\left(w \\right)} \\cos{\\left(W \\right)} \\cos{\\left(inc \\right)} - 2 a^{2} f x y \\sin{\\left(W \\right)} \\cos{\\left(W \\right)} \\cos{\\left(inc \\right)} \\cos^{2}{\\left(w \\right)} - 2 a^{2} f x y \\sin{\\left(w \\right)} \\cos^{2}{\\left(W \\right)} \\cos{\\left(w \\right)} + a^{2} f y^{2} \\sin^{2}{\\left(W \\right)} \\cos^{2}{\\left(inc \\right)} \\cos^{2}{\\left(w \\right)} + 2 a^{2} f y^{2} \\sin{\\left(W \\right)} \\sin{\\left(w \\right)} \\cos{\\left(W \\right)} \\cos{\\left(inc \\right)} \\cos{\\left(w \\right)} + a^{2} f y^{2} \\sin^{2}{\\left(w \\right)} \\cos^{2}{\\left(W \\right)} - 2 a^{2} g x^{2} \\sin^{2}{\\left(W \\right)} \\sin{\\left(w \\right)} \\cos{\\left(inc \\right)} \\cos{\\left(w \\right)} - 2 a^{2} g x^{2} \\sin{\\left(W \\right)} \\sin^{2}{\\left(w \\right)} \\cos{\\left(W \\right)} \\cos^{2}{\\left(inc \\right)} + 2 a^{2} g x^{2} \\sin{\\left(W \\right)} \\cos{\\left(W \\right)} \\cos^{2}{\\left(w \\right)} + 2 a^{2} g x^{2} \\sin{\\left(w \\right)} \\cos^{2}{\\left(W \\right)} \\cos{\\left(inc \\right)} \\cos{\\left(w \\right)} + 2 a^{2} g x y \\sin^{2}{\\left(W \\right)} \\sin^{2}{\\left(w \\right)} \\cos{\\left(inc \\right)} - 2 a^{2} g x y \\sin^{2}{\\left(W \\right)} \\cos{\\left(inc \\right)} \\cos^{2}{\\left(w \\right)} - 4 a^{2} g x y \\sin{\\left(W \\right)} \\sin{\\left(w \\right)} \\cos{\\left(W \\right)} \\cos^{2}{\\left(inc \\right)} \\cos{\\left(w \\right)} - 4 a^{2} g x y \\sin{\\left(W \\right)} \\sin{\\left(w \\right)} \\cos{\\left(W \\right)} \\cos{\\left(w \\right)} - 2 a^{2} g x y \\sin^{2}{\\left(w \\right)} \\cos^{2}{\\left(W \\right)} \\cos{\\left(inc \\right)} + 2 a^{2} g x y \\cos^{2}{\\left(W \\right)} \\cos{\\left(inc \\right)} \\cos^{2}{\\left(w \\right)} + 2 a^{2} g y^{2} \\sin^{2}{\\left(W \\right)} \\sin{\\left(w \\right)} \\cos{\\left(inc \\right)} \\cos{\\left(w \\right)} + 2 a^{2} g y^{2} \\sin{\\left(W \\right)} \\sin^{2}{\\left(w \\right)} \\cos{\\left(W \\right)} - 2 a^{2} g y^{2} \\sin{\\left(W \\right)} \\cos{\\left(W \\right)} \\cos^{2}{\\left(inc \\right)} \\cos^{2}{\\left(w \\right)} - 2 a^{2} g y^{2} \\sin{\\left(w \\right)} \\cos^{2}{\\left(W \\right)} \\cos{\\left(inc \\right)} \\cos{\\left(w \\right)} + a^{2} h x^{2} \\sin^{2}{\\left(W \\right)} \\cos^{2}{\\left(w \\right)} + 2 a^{2} h x^{2} \\sin{\\left(W \\right)} \\sin{\\left(w \\right)} \\cos{\\left(W \\right)} \\cos{\\left(inc \\right)} \\cos{\\left(w \\right)} + a^{2} h x^{2} \\sin^{2}{\\left(w \\right)} \\cos^{2}{\\left(W \\right)} \\cos^{2}{\\left(inc \\right)} - 2 a^{2} h x y \\sin^{2}{\\left(W \\right)} \\sin{\\left(w \\right)} \\cos{\\left(w \\right)} - 2 a^{2} h x y \\sin{\\left(W \\right)} \\sin^{2}{\\left(w \\right)} \\cos{\\left(W \\right)} \\cos{\\left(inc \\right)} + 2 a^{2} h x y \\sin{\\left(W \\right)} \\cos{\\left(W \\right)} \\cos{\\left(inc \\right)} \\cos^{2}{\\left(w \\right)} + 2 a^{2} h x y \\sin{\\left(w \\right)} \\cos^{2}{\\left(W \\right)} \\cos^{2}{\\left(inc \\right)} \\cos{\\left(w \\right)} + a^{2} h y^{2} \\sin^{2}{\\left(W \\right)} \\sin^{2}{\\left(w \\right)} - 2 a^{2} h y^{2} \\sin{\\left(W \\right)} \\sin{\\left(w \\right)} \\cos{\\left(W \\right)} \\cos{\\left(inc \\right)} \\cos{\\left(w \\right)} + a^{2} h y^{2} \\cos^{2}{\\left(W \\right)} \\cos^{2}{\\left(inc \\right)} \\cos^{2}{\\left(w \\right)} + 2 a e^{3} k x^{2} \\sin{\\left(W \\right)} \\sin{\\left(w \\right)} \\cos{\\left(inc \\right)} - 2 a e^{3} k x^{2} \\cos{\\left(W \\right)} \\cos{\\left(w \\right)} + 2 a e^{3} k x y \\sin{\\left(W \\right)} \\cos{\\left(inc \\right)} \\cos{\\left(w \\right)} + 2 a e^{3} k x y \\sin{\\left(w \\right)} \\cos{\\left(W \\right)} - 2 a e^{3} l x^{2} \\sin{\\left(W \\right)} \\cos{\\left(w \\right)} - 2 a e^{3} l x^{2} \\sin{\\left(w \\right)} \\cos{\\left(W \\right)} \\cos{\\left(inc \\right)} + 2 a e^{3} l x y \\sin{\\left(W \\right)} \\sin{\\left(w \\right)} - 2 a e^{3} l x y \\cos{\\left(W \\right)} \\cos{\\left(inc \\right)} \\cos{\\left(w \\right)} + 2 a e^{2} k x \\sin{\\left(W \\right)} \\sin{\\left(w \\right)} \\cos{\\left(inc \\right)} - 2 a e^{2} k x \\cos{\\left(W \\right)} \\cos{\\left(w \\right)} + 2 a e^{2} k y \\sin{\\left(W \\right)} \\cos{\\left(inc \\right)} \\cos{\\left(w \\right)} + 2 a e^{2} k y \\sin{\\left(w \\right)} \\cos{\\left(W \\right)} - 2 a e^{2} l x \\sin{\\left(W \\right)} \\cos{\\left(w \\right)} - 2 a e^{2} l x \\sin{\\left(w \\right)} \\cos{\\left(W \\right)} \\cos{\\left(inc \\right)} + 2 a e^{2} l y \\sin{\\left(W \\right)} \\sin{\\left(w \\right)} - 2 a e^{2} l y \\cos{\\left(W \\right)} \\cos{\\left(inc \\right)} \\cos{\\left(w \\right)} - 2 a e k x^{2} \\sin{\\left(W \\right)} \\sin{\\left(w \\right)} \\cos{\\left(inc \\right)} + 2 a e k x^{2} \\cos{\\left(W \\right)} \\cos{\\left(w \\right)} - 2 a e k x y \\sin{\\left(W \\right)} \\cos{\\left(inc \\right)} \\cos{\\left(w \\right)} - 2 a e k x y \\sin{\\left(w \\right)} \\cos{\\left(W \\right)} + 2 a e l x^{2} \\sin{\\left(W \\right)} \\cos{\\left(w \\right)} + 2 a e l x^{2} \\sin{\\left(w \\right)} \\cos{\\left(W \\right)} \\cos{\\left(inc \\right)} - 2 a e l x y \\sin{\\left(W \\right)} \\sin{\\left(w \\right)} + 2 a e l x y \\cos{\\left(W \\right)} \\cos{\\left(inc \\right)} \\cos{\\left(w \\right)} - 2 a k x \\sin{\\left(W \\right)} \\sin{\\left(w \\right)} \\cos{\\left(inc \\right)} + 2 a k x \\cos{\\left(W \\right)} \\cos{\\left(w \\right)} - 2 a k y \\sin{\\left(W \\right)} \\cos{\\left(inc \\right)} \\cos{\\left(w \\right)} - 2 a k y \\sin{\\left(w \\right)} \\cos{\\left(W \\right)} + 2 a l x \\sin{\\left(W \\right)} \\cos{\\left(w \\right)} + 2 a l x \\sin{\\left(w \\right)} \\cos{\\left(W \\right)} \\cos{\\left(inc \\right)} - 2 a l y \\sin{\\left(W \\right)} \\sin{\\left(w \\right)} + 2 a l y \\cos{\\left(W \\right)} \\cos{\\left(inc \\right)} \\cos{\\left(w \\right)} + e^{2} m x^{2} + 2 e m x + m$"
      ],
      "text/plain": [
       "a**2*e**4*f*x**2*sin(W)**2*sin(w)**2*cos(inc)**2 - 2*a**2*e**4*f*x**2*sin(W)*sin(w)*cos(W)*cos(inc)*cos(w) + a**2*e**4*f*x**2*cos(W)**2*cos(w)**2 + 2*a**2*e**4*f*x*y*sin(W)**2*sin(w)*cos(inc)**2*cos(w) + 2*a**2*e**4*f*x*y*sin(W)*sin(w)**2*cos(W)*cos(inc) - 2*a**2*e**4*f*x*y*sin(W)*cos(W)*cos(inc)*cos(w)**2 - 2*a**2*e**4*f*x*y*sin(w)*cos(W)**2*cos(w) + a**2*e**4*f*y**2*sin(W)**2*cos(inc)**2*cos(w)**2 + 2*a**2*e**4*f*y**2*sin(W)*sin(w)*cos(W)*cos(inc)*cos(w) + a**2*e**4*f*y**2*sin(w)**2*cos(W)**2 - 2*a**2*e**4*g*x**2*sin(W)**2*sin(w)*cos(inc)*cos(w) - 2*a**2*e**4*g*x**2*sin(W)*sin(w)**2*cos(W)*cos(inc)**2 + 2*a**2*e**4*g*x**2*sin(W)*cos(W)*cos(w)**2 + 2*a**2*e**4*g*x**2*sin(w)*cos(W)**2*cos(inc)*cos(w) + 2*a**2*e**4*g*x*y*sin(W)**2*sin(w)**2*cos(inc) - 2*a**2*e**4*g*x*y*sin(W)**2*cos(inc)*cos(w)**2 - 4*a**2*e**4*g*x*y*sin(W)*sin(w)*cos(W)*cos(inc)**2*cos(w) - 4*a**2*e**4*g*x*y*sin(W)*sin(w)*cos(W)*cos(w) - 2*a**2*e**4*g*x*y*sin(w)**2*cos(W)**2*cos(inc) + 2*a**2*e**4*g*x*y*cos(W)**2*cos(inc)*cos(w)**2 + 2*a**2*e**4*g*y**2*sin(W)**2*sin(w)*cos(inc)*cos(w) + 2*a**2*e**4*g*y**2*sin(W)*sin(w)**2*cos(W) - 2*a**2*e**4*g*y**2*sin(W)*cos(W)*cos(inc)**2*cos(w)**2 - 2*a**2*e**4*g*y**2*sin(w)*cos(W)**2*cos(inc)*cos(w) + a**2*e**4*h*x**2*sin(W)**2*cos(w)**2 + 2*a**2*e**4*h*x**2*sin(W)*sin(w)*cos(W)*cos(inc)*cos(w) + a**2*e**4*h*x**2*sin(w)**2*cos(W)**2*cos(inc)**2 - 2*a**2*e**4*h*x*y*sin(W)**2*sin(w)*cos(w) - 2*a**2*e**4*h*x*y*sin(W)*sin(w)**2*cos(W)*cos(inc) + 2*a**2*e**4*h*x*y*sin(W)*cos(W)*cos(inc)*cos(w)**2 + 2*a**2*e**4*h*x*y*sin(w)*cos(W)**2*cos(inc)**2*cos(w) + a**2*e**4*h*y**2*sin(W)**2*sin(w)**2 - 2*a**2*e**4*h*y**2*sin(W)*sin(w)*cos(W)*cos(inc)*cos(w) + a**2*e**4*h*y**2*cos(W)**2*cos(inc)**2*cos(w)**2 - 2*a**2*e**2*f*x**2*sin(W)**2*sin(w)**2*cos(inc)**2 + 4*a**2*e**2*f*x**2*sin(W)*sin(w)*cos(W)*cos(inc)*cos(w) - 2*a**2*e**2*f*x**2*cos(W)**2*cos(w)**2 - 4*a**2*e**2*f*x*y*sin(W)**2*sin(w)*cos(inc)**2*cos(w) - 4*a**2*e**2*f*x*y*sin(W)*sin(w)**2*cos(W)*cos(inc) + 4*a**2*e**2*f*x*y*sin(W)*cos(W)*cos(inc)*cos(w)**2 + 4*a**2*e**2*f*x*y*sin(w)*cos(W)**2*cos(w) - 2*a**2*e**2*f*y**2*sin(W)**2*cos(inc)**2*cos(w)**2 - 4*a**2*e**2*f*y**2*sin(W)*sin(w)*cos(W)*cos(inc)*cos(w) - 2*a**2*e**2*f*y**2*sin(w)**2*cos(W)**2 + 4*a**2*e**2*g*x**2*sin(W)**2*sin(w)*cos(inc)*cos(w) + 4*a**2*e**2*g*x**2*sin(W)*sin(w)**2*cos(W)*cos(inc)**2 - 4*a**2*e**2*g*x**2*sin(W)*cos(W)*cos(w)**2 - 4*a**2*e**2*g*x**2*sin(w)*cos(W)**2*cos(inc)*cos(w) - 4*a**2*e**2*g*x*y*sin(W)**2*sin(w)**2*cos(inc) + 4*a**2*e**2*g*x*y*sin(W)**2*cos(inc)*cos(w)**2 + 8*a**2*e**2*g*x*y*sin(W)*sin(w)*cos(W)*cos(inc)**2*cos(w) + 8*a**2*e**2*g*x*y*sin(W)*sin(w)*cos(W)*cos(w) + 4*a**2*e**2*g*x*y*sin(w)**2*cos(W)**2*cos(inc) - 4*a**2*e**2*g*x*y*cos(W)**2*cos(inc)*cos(w)**2 - 4*a**2*e**2*g*y**2*sin(W)**2*sin(w)*cos(inc)*cos(w) - 4*a**2*e**2*g*y**2*sin(W)*sin(w)**2*cos(W) + 4*a**2*e**2*g*y**2*sin(W)*cos(W)*cos(inc)**2*cos(w)**2 + 4*a**2*e**2*g*y**2*sin(w)*cos(W)**2*cos(inc)*cos(w) - 2*a**2*e**2*h*x**2*sin(W)**2*cos(w)**2 - 4*a**2*e**2*h*x**2*sin(W)*sin(w)*cos(W)*cos(inc)*cos(w) - 2*a**2*e**2*h*x**2*sin(w)**2*cos(W)**2*cos(inc)**2 + 4*a**2*e**2*h*x*y*sin(W)**2*sin(w)*cos(w) + 4*a**2*e**2*h*x*y*sin(W)*sin(w)**2*cos(W)*cos(inc) - 4*a**2*e**2*h*x*y*sin(W)*cos(W)*cos(inc)*cos(w)**2 - 4*a**2*e**2*h*x*y*sin(w)*cos(W)**2*cos(inc)**2*cos(w) - 2*a**2*e**2*h*y**2*sin(W)**2*sin(w)**2 + 4*a**2*e**2*h*y**2*sin(W)*sin(w)*cos(W)*cos(inc)*cos(w) - 2*a**2*e**2*h*y**2*cos(W)**2*cos(inc)**2*cos(w)**2 + a**2*f*x**2*sin(W)**2*sin(w)**2*cos(inc)**2 - 2*a**2*f*x**2*sin(W)*sin(w)*cos(W)*cos(inc)*cos(w) + a**2*f*x**2*cos(W)**2*cos(w)**2 + 2*a**2*f*x*y*sin(W)**2*sin(w)*cos(inc)**2*cos(w) + 2*a**2*f*x*y*sin(W)*sin(w)**2*cos(W)*cos(inc) - 2*a**2*f*x*y*sin(W)*cos(W)*cos(inc)*cos(w)**2 - 2*a**2*f*x*y*sin(w)*cos(W)**2*cos(w) + a**2*f*y**2*sin(W)**2*cos(inc)**2*cos(w)**2 + 2*a**2*f*y**2*sin(W)*sin(w)*cos(W)*cos(inc)*cos(w) + a**2*f*y**2*sin(w)**2*cos(W)**2 - 2*a**2*g*x**2*sin(W)**2*sin(w)*cos(inc)*cos(w) - 2*a**2*g*x**2*sin(W)*sin(w)**2*cos(W)*cos(inc)**2 + 2*a**2*g*x**2*sin(W)*cos(W)*cos(w)**2 + 2*a**2*g*x**2*sin(w)*cos(W)**2*cos(inc)*cos(w) + 2*a**2*g*x*y*sin(W)**2*sin(w)**2*cos(inc) - 2*a**2*g*x*y*sin(W)**2*cos(inc)*cos(w)**2 - 4*a**2*g*x*y*sin(W)*sin(w)*cos(W)*cos(inc)**2*cos(w) - 4*a**2*g*x*y*sin(W)*sin(w)*cos(W)*cos(w) - 2*a**2*g*x*y*sin(w)**2*cos(W)**2*cos(inc) + 2*a**2*g*x*y*cos(W)**2*cos(inc)*cos(w)**2 + 2*a**2*g*y**2*sin(W)**2*sin(w)*cos(inc)*cos(w) + 2*a**2*g*y**2*sin(W)*sin(w)**2*cos(W) - 2*a**2*g*y**2*sin(W)*cos(W)*cos(inc)**2*cos(w)**2 - 2*a**2*g*y**2*sin(w)*cos(W)**2*cos(inc)*cos(w) + a**2*h*x**2*sin(W)**2*cos(w)**2 + 2*a**2*h*x**2*sin(W)*sin(w)*cos(W)*cos(inc)*cos(w) + a**2*h*x**2*sin(w)**2*cos(W)**2*cos(inc)**2 - 2*a**2*h*x*y*sin(W)**2*sin(w)*cos(w) - 2*a**2*h*x*y*sin(W)*sin(w)**2*cos(W)*cos(inc) + 2*a**2*h*x*y*sin(W)*cos(W)*cos(inc)*cos(w)**2 + 2*a**2*h*x*y*sin(w)*cos(W)**2*cos(inc)**2*cos(w) + a**2*h*y**2*sin(W)**2*sin(w)**2 - 2*a**2*h*y**2*sin(W)*sin(w)*cos(W)*cos(inc)*cos(w) + a**2*h*y**2*cos(W)**2*cos(inc)**2*cos(w)**2 + 2*a*e**3*k*x**2*sin(W)*sin(w)*cos(inc) - 2*a*e**3*k*x**2*cos(W)*cos(w) + 2*a*e**3*k*x*y*sin(W)*cos(inc)*cos(w) + 2*a*e**3*k*x*y*sin(w)*cos(W) - 2*a*e**3*l*x**2*sin(W)*cos(w) - 2*a*e**3*l*x**2*sin(w)*cos(W)*cos(inc) + 2*a*e**3*l*x*y*sin(W)*sin(w) - 2*a*e**3*l*x*y*cos(W)*cos(inc)*cos(w) + 2*a*e**2*k*x*sin(W)*sin(w)*cos(inc) - 2*a*e**2*k*x*cos(W)*cos(w) + 2*a*e**2*k*y*sin(W)*cos(inc)*cos(w) + 2*a*e**2*k*y*sin(w)*cos(W) - 2*a*e**2*l*x*sin(W)*cos(w) - 2*a*e**2*l*x*sin(w)*cos(W)*cos(inc) + 2*a*e**2*l*y*sin(W)*sin(w) - 2*a*e**2*l*y*cos(W)*cos(inc)*cos(w) - 2*a*e*k*x**2*sin(W)*sin(w)*cos(inc) + 2*a*e*k*x**2*cos(W)*cos(w) - 2*a*e*k*x*y*sin(W)*cos(inc)*cos(w) - 2*a*e*k*x*y*sin(w)*cos(W) + 2*a*e*l*x**2*sin(W)*cos(w) + 2*a*e*l*x**2*sin(w)*cos(W)*cos(inc) - 2*a*e*l*x*y*sin(W)*sin(w) + 2*a*e*l*x*y*cos(W)*cos(inc)*cos(w) - 2*a*k*x*sin(W)*sin(w)*cos(inc) + 2*a*k*x*cos(W)*cos(w) - 2*a*k*y*sin(W)*cos(inc)*cos(w) - 2*a*k*y*sin(w)*cos(W) + 2*a*l*x*sin(W)*cos(w) + 2*a*l*x*sin(w)*cos(W)*cos(inc) - 2*a*l*y*sin(W)*sin(w) + 2*a*l*y*cos(W)*cos(inc)*cos(w) + e**2*m*x**2 + 2*e*m*x + m"
      ]
     },
     "execution_count": 110,
     "metadata": {},
     "output_type": "execute_result"
    }
   ],
   "source": [
    "twoDeqnw3D"
   ]
  },
  {
   "cell_type": "markdown",
   "metadata": {},
   "source": [
    "# Extract Coefficients"
   ]
  },
  {
   "cell_type": "code",
   "execution_count": null,
   "metadata": {},
   "outputs": [],
   "source": [
    "#### I can't just take a general equation and plug in a solution and expect to get each of the coefficients. I would need "
   ]
  },
  {
   "cell_type": "markdown",
   "metadata": {},
   "source": [
    "Group the Determinant. The coefficients of x^2, x, y^2, y, and 1 are the values for a and b"
   ]
  },
  {
   "cell_type": "code",
   "execution_count": 72,
   "metadata": {},
   "outputs": [],
   "source": [
    "coeffsx = sp.Poly(twoDeqnw3D,x)"
   ]
  },
  {
   "cell_type": "markdown",
   "metadata": {},
   "source": [
    "Only 1 coefficient, ff, for x^2"
   ]
  },
  {
   "cell_type": "code",
   "execution_count": 73,
   "metadata": {},
   "outputs": [],
   "source": [
    "ff = coeffsx.coeffs()[0] #x^2 term"
   ]
  },
  {
   "cell_type": "markdown",
   "metadata": {},
   "source": [
    "2 Terms with x, x and xy"
   ]
  },
  {
   "cell_type": "code",
   "execution_count": 74,
   "metadata": {},
   "outputs": [],
   "source": [
    "tmpXCoeffs = coeffsx.coeffs()[1] #should have any terms with x^1 (including xy)"
   ]
  },
  {
   "cell_type": "code",
   "execution_count": 75,
   "metadata": {},
   "outputs": [
    {
     "data": {
      "text/plain": [
       "2"
      ]
     },
     "execution_count": 75,
     "metadata": {},
     "output_type": "execute_result"
    }
   ],
   "source": [
    "len(sp.Poly(tmpXCoeffs,y).coeffs()) #there is at least 1 y term and at least 1 non-y term"
   ]
  },
  {
   "cell_type": "code",
   "execution_count": 76,
   "metadata": {},
   "outputs": [],
   "source": [
    "twog = sp.Poly(tmpXCoeffs,y).coeffs()[0] #this is the xy term"
   ]
  },
  {
   "cell_type": "code",
   "execution_count": 77,
   "metadata": {},
   "outputs": [],
   "source": [
    "twok = sp.Poly(tmpXCoeffs,y).coeffs()[1] #this is the x term"
   ]
  },
  {
   "cell_type": "markdown",
   "metadata": {},
   "source": [
    "In coeffsx.coeffs()[2], there is a C0*y and C1 terms"
   ]
  },
  {
   "cell_type": "code",
   "execution_count": 78,
   "metadata": {},
   "outputs": [],
   "source": [
    "tmpmm = coeffsx.coeffs()[2]"
   ]
  },
  {
   "cell_type": "code",
   "execution_count": 79,
   "metadata": {},
   "outputs": [],
   "source": [
    "tmpmmcoeffs = sp.Poly(tmpmm,y)"
   ]
  },
  {
   "cell_type": "code",
   "execution_count": 80,
   "metadata": {},
   "outputs": [],
   "source": [
    "mm = tmpmmcoeffs.coeffs()[2] #contains no x or y terms"
   ]
  },
  {
   "cell_type": "code",
   "execution_count": 81,
   "metadata": {},
   "outputs": [],
   "source": [
    "coeffsy = sp.Poly(twoDeqnw3D,y)"
   ]
  },
  {
   "cell_type": "markdown",
   "metadata": {},
   "source": [
    "Only 1 coefficient, C, for y^2"
   ]
  },
  {
   "cell_type": "code",
   "execution_count": 82,
   "metadata": {},
   "outputs": [],
   "source": [
    "hh = coeffsy.coeffs()[0]"
   ]
  },
  {
   "cell_type": "markdown",
   "metadata": {},
   "source": [
    "2 Terms with y, y and xy"
   ]
  },
  {
   "cell_type": "code",
   "execution_count": 83,
   "metadata": {},
   "outputs": [],
   "source": [
    "tmpYCoeffs = coeffsy.coeffs()[1] #Terms containing only 1 y"
   ]
  },
  {
   "cell_type": "code",
   "execution_count": 84,
   "metadata": {},
   "outputs": [],
   "source": [
    "twog_2 = sp.Poly(tmpYCoeffs,x).coeffs()[0] #this is the xy term"
   ]
  },
  {
   "cell_type": "code",
   "execution_count": 85,
   "metadata": {},
   "outputs": [],
   "source": [
    "twol = sp.Poly(tmpYCoeffs,x).coeffs()[1] #this is the y term"
   ]
  },
  {
   "cell_type": "markdown",
   "metadata": {},
   "source": [
    "In coeffsy.coeffs()[2], there is a C0*x and C1 terms"
   ]
  },
  {
   "cell_type": "code",
   "execution_count": 88,
   "metadata": {},
   "outputs": [],
   "source": [
    "tmpmm2 = coeffsy.coeffs()[2]"
   ]
  },
  {
   "cell_type": "code",
   "execution_count": 89,
   "metadata": {},
   "outputs": [],
   "source": [
    "tmpmmcoeffs2 = sp.Poly(tmpmm2,x)"
   ]
  },
  {
   "cell_type": "code",
   "execution_count": 90,
   "metadata": {},
   "outputs": [],
   "source": [
    "mm2 = tmpmmcoeffs2.coeffs()[2] #contains no x or y terms"
   ]
  },
  {
   "cell_type": "code",
   "execution_count": 91,
   "metadata": {},
   "outputs": [
    {
     "data": {
      "text/plain": [
       "True"
      ]
     },
     "execution_count": 91,
     "metadata": {},
     "output_type": "execute_result"
    }
   ],
   "source": [
    "mm == mm2 #NEED TO VERIFY THIS"
   ]
  },
  {
   "cell_type": "code",
   "execution_count": 92,
   "metadata": {},
   "outputs": [
    {
     "data": {
      "text/plain": [
       "False"
      ]
     },
     "execution_count": 92,
     "metadata": {},
     "output_type": "execute_result"
    }
   ],
   "source": [
    "x in mm.free_symbols"
   ]
  },
  {
   "cell_type": "code",
   "execution_count": 93,
   "metadata": {},
   "outputs": [
    {
     "data": {
      "text/plain": [
       "True"
      ]
     },
     "execution_count": 93,
     "metadata": {},
     "output_type": "execute_result"
    }
   ],
   "source": [
    "twog == twog_2 #NEED TO VERIFY THIS. SHOULD BE XY TERM"
   ]
  },
  {
   "cell_type": "code",
   "execution_count": 94,
   "metadata": {},
   "outputs": [
    {
     "data": {
      "text/plain": [
       "True"
      ]
     },
     "execution_count": 94,
     "metadata": {},
     "output_type": "execute_result"
    }
   ],
   "source": [
    "y in coeffsx.coeffs()[2].free_symbols"
   ]
  },
  {
   "cell_type": "markdown",
   "metadata": {},
   "source": [
    "# DONE"
   ]
  },
  {
   "cell_type": "code",
   "execution_count": 103,
   "metadata": {},
   "outputs": [
    {
     "data": {
      "text/latex": [
       "$\\displaystyle a^{2} e^{4} f \\sin^{2}{\\left(W \\right)} \\sin^{2}{\\left(w \\right)} \\cos^{2}{\\left(inc \\right)} - 2 a^{2} e^{4} f \\sin{\\left(W \\right)} \\sin{\\left(w \\right)} \\cos{\\left(W \\right)} \\cos{\\left(inc \\right)} \\cos{\\left(w \\right)} + a^{2} e^{4} f \\cos^{2}{\\left(W \\right)} \\cos^{2}{\\left(w \\right)} - 2 a^{2} e^{4} g \\sin^{2}{\\left(W \\right)} \\sin{\\left(w \\right)} \\cos{\\left(inc \\right)} \\cos{\\left(w \\right)} - 2 a^{2} e^{4} g \\sin{\\left(W \\right)} \\sin^{2}{\\left(w \\right)} \\cos{\\left(W \\right)} \\cos^{2}{\\left(inc \\right)} + 2 a^{2} e^{4} g \\sin{\\left(W \\right)} \\cos{\\left(W \\right)} \\cos^{2}{\\left(w \\right)} + 2 a^{2} e^{4} g \\sin{\\left(w \\right)} \\cos^{2}{\\left(W \\right)} \\cos{\\left(inc \\right)} \\cos{\\left(w \\right)} + a^{2} e^{4} h \\sin^{2}{\\left(W \\right)} \\cos^{2}{\\left(w \\right)} + 2 a^{2} e^{4} h \\sin{\\left(W \\right)} \\sin{\\left(w \\right)} \\cos{\\left(W \\right)} \\cos{\\left(inc \\right)} \\cos{\\left(w \\right)} + a^{2} e^{4} h \\sin^{2}{\\left(w \\right)} \\cos^{2}{\\left(W \\right)} \\cos^{2}{\\left(inc \\right)} - 2 a^{2} e^{2} f \\sin^{2}{\\left(W \\right)} \\sin^{2}{\\left(w \\right)} \\cos^{2}{\\left(inc \\right)} + 4 a^{2} e^{2} f \\sin{\\left(W \\right)} \\sin{\\left(w \\right)} \\cos{\\left(W \\right)} \\cos{\\left(inc \\right)} \\cos{\\left(w \\right)} - 2 a^{2} e^{2} f \\cos^{2}{\\left(W \\right)} \\cos^{2}{\\left(w \\right)} + 4 a^{2} e^{2} g \\sin^{2}{\\left(W \\right)} \\sin{\\left(w \\right)} \\cos{\\left(inc \\right)} \\cos{\\left(w \\right)} + 4 a^{2} e^{2} g \\sin{\\left(W \\right)} \\sin^{2}{\\left(w \\right)} \\cos{\\left(W \\right)} \\cos^{2}{\\left(inc \\right)} - 4 a^{2} e^{2} g \\sin{\\left(W \\right)} \\cos{\\left(W \\right)} \\cos^{2}{\\left(w \\right)} - 4 a^{2} e^{2} g \\sin{\\left(w \\right)} \\cos^{2}{\\left(W \\right)} \\cos{\\left(inc \\right)} \\cos{\\left(w \\right)} - 2 a^{2} e^{2} h \\sin^{2}{\\left(W \\right)} \\cos^{2}{\\left(w \\right)} - 4 a^{2} e^{2} h \\sin{\\left(W \\right)} \\sin{\\left(w \\right)} \\cos{\\left(W \\right)} \\cos{\\left(inc \\right)} \\cos{\\left(w \\right)} - 2 a^{2} e^{2} h \\sin^{2}{\\left(w \\right)} \\cos^{2}{\\left(W \\right)} \\cos^{2}{\\left(inc \\right)} + a^{2} f \\sin^{2}{\\left(W \\right)} \\sin^{2}{\\left(w \\right)} \\cos^{2}{\\left(inc \\right)} - 2 a^{2} f \\sin{\\left(W \\right)} \\sin{\\left(w \\right)} \\cos{\\left(W \\right)} \\cos{\\left(inc \\right)} \\cos{\\left(w \\right)} + a^{2} f \\cos^{2}{\\left(W \\right)} \\cos^{2}{\\left(w \\right)} - 2 a^{2} g \\sin^{2}{\\left(W \\right)} \\sin{\\left(w \\right)} \\cos{\\left(inc \\right)} \\cos{\\left(w \\right)} - 2 a^{2} g \\sin{\\left(W \\right)} \\sin^{2}{\\left(w \\right)} \\cos{\\left(W \\right)} \\cos^{2}{\\left(inc \\right)} + 2 a^{2} g \\sin{\\left(W \\right)} \\cos{\\left(W \\right)} \\cos^{2}{\\left(w \\right)} + 2 a^{2} g \\sin{\\left(w \\right)} \\cos^{2}{\\left(W \\right)} \\cos{\\left(inc \\right)} \\cos{\\left(w \\right)} + a^{2} h \\sin^{2}{\\left(W \\right)} \\cos^{2}{\\left(w \\right)} + 2 a^{2} h \\sin{\\left(W \\right)} \\sin{\\left(w \\right)} \\cos{\\left(W \\right)} \\cos{\\left(inc \\right)} \\cos{\\left(w \\right)} + a^{2} h \\sin^{2}{\\left(w \\right)} \\cos^{2}{\\left(W \\right)} \\cos^{2}{\\left(inc \\right)} + 2 a e^{3} k \\sin{\\left(W \\right)} \\sin{\\left(w \\right)} \\cos{\\left(inc \\right)} - 2 a e^{3} k \\cos{\\left(W \\right)} \\cos{\\left(w \\right)} - 2 a e^{3} l \\sin{\\left(W \\right)} \\cos{\\left(w \\right)} - 2 a e^{3} l \\sin{\\left(w \\right)} \\cos{\\left(W \\right)} \\cos{\\left(inc \\right)} - 2 a e k \\sin{\\left(W \\right)} \\sin{\\left(w \\right)} \\cos{\\left(inc \\right)} + 2 a e k \\cos{\\left(W \\right)} \\cos{\\left(w \\right)} + 2 a e l \\sin{\\left(W \\right)} \\cos{\\left(w \\right)} + 2 a e l \\sin{\\left(w \\right)} \\cos{\\left(W \\right)} \\cos{\\left(inc \\right)} + e^{2} m$"
      ],
      "text/plain": [
       "a**2*e**4*f*sin(W)**2*sin(w)**2*cos(inc)**2 - 2*a**2*e**4*f*sin(W)*sin(w)*cos(W)*cos(inc)*cos(w) + a**2*e**4*f*cos(W)**2*cos(w)**2 - 2*a**2*e**4*g*sin(W)**2*sin(w)*cos(inc)*cos(w) - 2*a**2*e**4*g*sin(W)*sin(w)**2*cos(W)*cos(inc)**2 + 2*a**2*e**4*g*sin(W)*cos(W)*cos(w)**2 + 2*a**2*e**4*g*sin(w)*cos(W)**2*cos(inc)*cos(w) + a**2*e**4*h*sin(W)**2*cos(w)**2 + 2*a**2*e**4*h*sin(W)*sin(w)*cos(W)*cos(inc)*cos(w) + a**2*e**4*h*sin(w)**2*cos(W)**2*cos(inc)**2 - 2*a**2*e**2*f*sin(W)**2*sin(w)**2*cos(inc)**2 + 4*a**2*e**2*f*sin(W)*sin(w)*cos(W)*cos(inc)*cos(w) - 2*a**2*e**2*f*cos(W)**2*cos(w)**2 + 4*a**2*e**2*g*sin(W)**2*sin(w)*cos(inc)*cos(w) + 4*a**2*e**2*g*sin(W)*sin(w)**2*cos(W)*cos(inc)**2 - 4*a**2*e**2*g*sin(W)*cos(W)*cos(w)**2 - 4*a**2*e**2*g*sin(w)*cos(W)**2*cos(inc)*cos(w) - 2*a**2*e**2*h*sin(W)**2*cos(w)**2 - 4*a**2*e**2*h*sin(W)*sin(w)*cos(W)*cos(inc)*cos(w) - 2*a**2*e**2*h*sin(w)**2*cos(W)**2*cos(inc)**2 + a**2*f*sin(W)**2*sin(w)**2*cos(inc)**2 - 2*a**2*f*sin(W)*sin(w)*cos(W)*cos(inc)*cos(w) + a**2*f*cos(W)**2*cos(w)**2 - 2*a**2*g*sin(W)**2*sin(w)*cos(inc)*cos(w) - 2*a**2*g*sin(W)*sin(w)**2*cos(W)*cos(inc)**2 + 2*a**2*g*sin(W)*cos(W)*cos(w)**2 + 2*a**2*g*sin(w)*cos(W)**2*cos(inc)*cos(w) + a**2*h*sin(W)**2*cos(w)**2 + 2*a**2*h*sin(W)*sin(w)*cos(W)*cos(inc)*cos(w) + a**2*h*sin(w)**2*cos(W)**2*cos(inc)**2 + 2*a*e**3*k*sin(W)*sin(w)*cos(inc) - 2*a*e**3*k*cos(W)*cos(w) - 2*a*e**3*l*sin(W)*cos(w) - 2*a*e**3*l*sin(w)*cos(W)*cos(inc) - 2*a*e*k*sin(W)*sin(w)*cos(inc) + 2*a*e*k*cos(W)*cos(w) + 2*a*e*l*sin(W)*cos(w) + 2*a*e*l*sin(w)*cos(W)*cos(inc) + e**2*m"
      ]
     },
     "execution_count": 103,
     "metadata": {},
     "output_type": "execute_result"
    }
   ],
   "source": [
    "ff"
   ]
  },
  {
   "cell_type": "code",
   "execution_count": 111,
   "metadata": {},
   "outputs": [
    {
     "data": {
      "text/latex": [
       "$\\displaystyle - \\frac{a^{2} e^{4} f \\left(\\cos{\\left(- 2 W + inc + 2 w \\right)} - \\cos{\\left(2 W - inc + 2 w \\right)} + \\cos{\\left(2 W + inc - 2 w \\right)} - \\cos{\\left(2 W + inc + 2 w \\right)}\\right)}{8} + a^{2} e^{4} f \\sin^{2}{\\left(W \\right)} \\sin^{2}{\\left(w \\right)} \\cos^{2}{\\left(inc \\right)} + a^{2} e^{4} f \\cos^{2}{\\left(W \\right)} \\cos^{2}{\\left(w \\right)} - 2 a^{2} e^{4} g \\sin^{2}{\\left(W \\right)} \\sin{\\left(w \\right)} \\cos{\\left(inc \\right)} \\cos{\\left(w \\right)} - 2 a^{2} e^{4} g \\sin{\\left(W \\right)} \\sin^{2}{\\left(w \\right)} \\cos{\\left(W \\right)} \\cos^{2}{\\left(inc \\right)} + 2 a^{2} e^{4} g \\sin{\\left(W \\right)} \\cos{\\left(W \\right)} \\cos^{2}{\\left(w \\right)} + 2 a^{2} e^{4} g \\sin{\\left(w \\right)} \\cos^{2}{\\left(W \\right)} \\cos{\\left(inc \\right)} \\cos{\\left(w \\right)} + \\frac{a^{2} e^{4} h \\left(\\cos{\\left(- 2 W + inc + 2 w \\right)} - \\cos{\\left(2 W - inc + 2 w \\right)} + \\cos{\\left(2 W + inc - 2 w \\right)} - \\cos{\\left(2 W + inc + 2 w \\right)}\\right)}{8} + a^{2} e^{4} h \\sin^{2}{\\left(W \\right)} \\cos^{2}{\\left(w \\right)} + a^{2} e^{4} h \\sin^{2}{\\left(w \\right)} \\cos^{2}{\\left(W \\right)} \\cos^{2}{\\left(inc \\right)} + \\frac{a^{2} e^{2} f \\left(\\cos{\\left(- 2 W + inc + 2 w \\right)} - \\cos{\\left(2 W - inc + 2 w \\right)} + \\cos{\\left(2 W + inc - 2 w \\right)} - \\cos{\\left(2 W + inc + 2 w \\right)}\\right)}{4} - 2 a^{2} e^{2} f \\sin^{2}{\\left(W \\right)} \\sin^{2}{\\left(w \\right)} \\cos^{2}{\\left(inc \\right)} - 2 a^{2} e^{2} f \\cos^{2}{\\left(W \\right)} \\cos^{2}{\\left(w \\right)} + 4 a^{2} e^{2} g \\sin^{2}{\\left(W \\right)} \\sin{\\left(w \\right)} \\cos{\\left(inc \\right)} \\cos{\\left(w \\right)} + 4 a^{2} e^{2} g \\sin{\\left(W \\right)} \\sin^{2}{\\left(w \\right)} \\cos{\\left(W \\right)} \\cos^{2}{\\left(inc \\right)} - 4 a^{2} e^{2} g \\sin{\\left(W \\right)} \\cos{\\left(W \\right)} \\cos^{2}{\\left(w \\right)} - 4 a^{2} e^{2} g \\sin{\\left(w \\right)} \\cos^{2}{\\left(W \\right)} \\cos{\\left(inc \\right)} \\cos{\\left(w \\right)} - \\frac{a^{2} e^{2} h \\left(\\cos{\\left(- 2 W + inc + 2 w \\right)} - \\cos{\\left(2 W - inc + 2 w \\right)} + \\cos{\\left(2 W + inc - 2 w \\right)} - \\cos{\\left(2 W + inc + 2 w \\right)}\\right)}{4} - 2 a^{2} e^{2} h \\sin^{2}{\\left(W \\right)} \\cos^{2}{\\left(w \\right)} - 2 a^{2} e^{2} h \\sin^{2}{\\left(w \\right)} \\cos^{2}{\\left(W \\right)} \\cos^{2}{\\left(inc \\right)} - \\frac{a^{2} f \\left(\\cos{\\left(- 2 W + inc + 2 w \\right)} - \\cos{\\left(2 W - inc + 2 w \\right)} + \\cos{\\left(2 W + inc - 2 w \\right)} - \\cos{\\left(2 W + inc + 2 w \\right)}\\right)}{8} + a^{2} f \\sin^{2}{\\left(W \\right)} \\sin^{2}{\\left(w \\right)} \\cos^{2}{\\left(inc \\right)} + a^{2} f \\cos^{2}{\\left(W \\right)} \\cos^{2}{\\left(w \\right)} - 2 a^{2} g \\sin^{2}{\\left(W \\right)} \\sin{\\left(w \\right)} \\cos{\\left(inc \\right)} \\cos{\\left(w \\right)} - 2 a^{2} g \\sin{\\left(W \\right)} \\sin^{2}{\\left(w \\right)} \\cos{\\left(W \\right)} \\cos^{2}{\\left(inc \\right)} + 2 a^{2} g \\sin{\\left(W \\right)} \\cos{\\left(W \\right)} \\cos^{2}{\\left(w \\right)} + 2 a^{2} g \\sin{\\left(w \\right)} \\cos^{2}{\\left(W \\right)} \\cos{\\left(inc \\right)} \\cos{\\left(w \\right)} + \\frac{a^{2} h \\left(\\cos{\\left(- 2 W + inc + 2 w \\right)} - \\cos{\\left(2 W - inc + 2 w \\right)} + \\cos{\\left(2 W + inc - 2 w \\right)} - \\cos{\\left(2 W + inc + 2 w \\right)}\\right)}{8} + a^{2} h \\sin^{2}{\\left(W \\right)} \\cos^{2}{\\left(w \\right)} + a^{2} h \\sin^{2}{\\left(w \\right)} \\cos^{2}{\\left(W \\right)} \\cos^{2}{\\left(inc \\right)} + 2 a e^{3} k \\sin{\\left(W \\right)} \\sin{\\left(w \\right)} \\cos{\\left(inc \\right)} - 2 a e^{3} k \\cos{\\left(W \\right)} \\cos{\\left(w \\right)} - 2 a e^{3} l \\sin{\\left(W \\right)} \\cos{\\left(w \\right)} - 2 a e^{3} l \\sin{\\left(w \\right)} \\cos{\\left(W \\right)} \\cos{\\left(inc \\right)} - 2 a e k \\sin{\\left(W \\right)} \\sin{\\left(w \\right)} \\cos{\\left(inc \\right)} + 2 a e k \\cos{\\left(W \\right)} \\cos{\\left(w \\right)} + 2 a e l \\sin{\\left(W \\right)} \\cos{\\left(w \\right)} + 2 a e l \\sin{\\left(w \\right)} \\cos{\\left(W \\right)} \\cos{\\left(inc \\right)} + e^{2} m$"
      ],
      "text/plain": [
       "-a**2*e**4*f*(cos(-2*W + inc + 2*w) - cos(2*W - inc + 2*w) + cos(2*W + inc - 2*w) - cos(2*W + inc + 2*w))/8 + a**2*e**4*f*sin(W)**2*sin(w)**2*cos(inc)**2 + a**2*e**4*f*cos(W)**2*cos(w)**2 - 2*a**2*e**4*g*sin(W)**2*sin(w)*cos(inc)*cos(w) - 2*a**2*e**4*g*sin(W)*sin(w)**2*cos(W)*cos(inc)**2 + 2*a**2*e**4*g*sin(W)*cos(W)*cos(w)**2 + 2*a**2*e**4*g*sin(w)*cos(W)**2*cos(inc)*cos(w) + a**2*e**4*h*(cos(-2*W + inc + 2*w) - cos(2*W - inc + 2*w) + cos(2*W + inc - 2*w) - cos(2*W + inc + 2*w))/8 + a**2*e**4*h*sin(W)**2*cos(w)**2 + a**2*e**4*h*sin(w)**2*cos(W)**2*cos(inc)**2 + a**2*e**2*f*(cos(-2*W + inc + 2*w) - cos(2*W - inc + 2*w) + cos(2*W + inc - 2*w) - cos(2*W + inc + 2*w))/4 - 2*a**2*e**2*f*sin(W)**2*sin(w)**2*cos(inc)**2 - 2*a**2*e**2*f*cos(W)**2*cos(w)**2 + 4*a**2*e**2*g*sin(W)**2*sin(w)*cos(inc)*cos(w) + 4*a**2*e**2*g*sin(W)*sin(w)**2*cos(W)*cos(inc)**2 - 4*a**2*e**2*g*sin(W)*cos(W)*cos(w)**2 - 4*a**2*e**2*g*sin(w)*cos(W)**2*cos(inc)*cos(w) - a**2*e**2*h*(cos(-2*W + inc + 2*w) - cos(2*W - inc + 2*w) + cos(2*W + inc - 2*w) - cos(2*W + inc + 2*w))/4 - 2*a**2*e**2*h*sin(W)**2*cos(w)**2 - 2*a**2*e**2*h*sin(w)**2*cos(W)**2*cos(inc)**2 - a**2*f*(cos(-2*W + inc + 2*w) - cos(2*W - inc + 2*w) + cos(2*W + inc - 2*w) - cos(2*W + inc + 2*w))/8 + a**2*f*sin(W)**2*sin(w)**2*cos(inc)**2 + a**2*f*cos(W)**2*cos(w)**2 - 2*a**2*g*sin(W)**2*sin(w)*cos(inc)*cos(w) - 2*a**2*g*sin(W)*sin(w)**2*cos(W)*cos(inc)**2 + 2*a**2*g*sin(W)*cos(W)*cos(w)**2 + 2*a**2*g*sin(w)*cos(W)**2*cos(inc)*cos(w) + a**2*h*(cos(-2*W + inc + 2*w) - cos(2*W - inc + 2*w) + cos(2*W + inc - 2*w) - cos(2*W + inc + 2*w))/8 + a**2*h*sin(W)**2*cos(w)**2 + a**2*h*sin(w)**2*cos(W)**2*cos(inc)**2 + 2*a*e**3*k*sin(W)*sin(w)*cos(inc) - 2*a*e**3*k*cos(W)*cos(w) - 2*a*e**3*l*sin(W)*cos(w) - 2*a*e**3*l*sin(w)*cos(W)*cos(inc) - 2*a*e*k*sin(W)*sin(w)*cos(inc) + 2*a*e*k*cos(W)*cos(w) + 2*a*e*l*sin(W)*cos(w) + 2*a*e*l*sin(w)*cos(W)*cos(inc) + e**2*m"
      ]
     },
     "execution_count": 111,
     "metadata": {},
     "output_type": "execute_result"
    }
   ],
   "source": [
    "sp.simplify(ff)"
   ]
  },
  {
   "cell_type": "code",
   "execution_count": 104,
   "metadata": {},
   "outputs": [
    {
     "data": {
      "text/latex": [
       "$\\displaystyle 2 a^{2} e^{4} f \\sin^{2}{\\left(W \\right)} \\sin{\\left(w \\right)} \\cos^{2}{\\left(inc \\right)} \\cos{\\left(w \\right)} + 2 a^{2} e^{4} f \\sin{\\left(W \\right)} \\sin^{2}{\\left(w \\right)} \\cos{\\left(W \\right)} \\cos{\\left(inc \\right)} - 2 a^{2} e^{4} f \\sin{\\left(W \\right)} \\cos{\\left(W \\right)} \\cos{\\left(inc \\right)} \\cos^{2}{\\left(w \\right)} - 2 a^{2} e^{4} f \\sin{\\left(w \\right)} \\cos^{2}{\\left(W \\right)} \\cos{\\left(w \\right)} + 2 a^{2} e^{4} g \\sin^{2}{\\left(W \\right)} \\sin^{2}{\\left(w \\right)} \\cos{\\left(inc \\right)} - 2 a^{2} e^{4} g \\sin^{2}{\\left(W \\right)} \\cos{\\left(inc \\right)} \\cos^{2}{\\left(w \\right)} - 4 a^{2} e^{4} g \\sin{\\left(W \\right)} \\sin{\\left(w \\right)} \\cos{\\left(W \\right)} \\cos^{2}{\\left(inc \\right)} \\cos{\\left(w \\right)} - 4 a^{2} e^{4} g \\sin{\\left(W \\right)} \\sin{\\left(w \\right)} \\cos{\\left(W \\right)} \\cos{\\left(w \\right)} - 2 a^{2} e^{4} g \\sin^{2}{\\left(w \\right)} \\cos^{2}{\\left(W \\right)} \\cos{\\left(inc \\right)} + 2 a^{2} e^{4} g \\cos^{2}{\\left(W \\right)} \\cos{\\left(inc \\right)} \\cos^{2}{\\left(w \\right)} - 2 a^{2} e^{4} h \\sin^{2}{\\left(W \\right)} \\sin{\\left(w \\right)} \\cos{\\left(w \\right)} - 2 a^{2} e^{4} h \\sin{\\left(W \\right)} \\sin^{2}{\\left(w \\right)} \\cos{\\left(W \\right)} \\cos{\\left(inc \\right)} + 2 a^{2} e^{4} h \\sin{\\left(W \\right)} \\cos{\\left(W \\right)} \\cos{\\left(inc \\right)} \\cos^{2}{\\left(w \\right)} + 2 a^{2} e^{4} h \\sin{\\left(w \\right)} \\cos^{2}{\\left(W \\right)} \\cos^{2}{\\left(inc \\right)} \\cos{\\left(w \\right)} - 4 a^{2} e^{2} f \\sin^{2}{\\left(W \\right)} \\sin{\\left(w \\right)} \\cos^{2}{\\left(inc \\right)} \\cos{\\left(w \\right)} - 4 a^{2} e^{2} f \\sin{\\left(W \\right)} \\sin^{2}{\\left(w \\right)} \\cos{\\left(W \\right)} \\cos{\\left(inc \\right)} + 4 a^{2} e^{2} f \\sin{\\left(W \\right)} \\cos{\\left(W \\right)} \\cos{\\left(inc \\right)} \\cos^{2}{\\left(w \\right)} + 4 a^{2} e^{2} f \\sin{\\left(w \\right)} \\cos^{2}{\\left(W \\right)} \\cos{\\left(w \\right)} - 4 a^{2} e^{2} g \\sin^{2}{\\left(W \\right)} \\sin^{2}{\\left(w \\right)} \\cos{\\left(inc \\right)} + 4 a^{2} e^{2} g \\sin^{2}{\\left(W \\right)} \\cos{\\left(inc \\right)} \\cos^{2}{\\left(w \\right)} + 8 a^{2} e^{2} g \\sin{\\left(W \\right)} \\sin{\\left(w \\right)} \\cos{\\left(W \\right)} \\cos^{2}{\\left(inc \\right)} \\cos{\\left(w \\right)} + 8 a^{2} e^{2} g \\sin{\\left(W \\right)} \\sin{\\left(w \\right)} \\cos{\\left(W \\right)} \\cos{\\left(w \\right)} + 4 a^{2} e^{2} g \\sin^{2}{\\left(w \\right)} \\cos^{2}{\\left(W \\right)} \\cos{\\left(inc \\right)} - 4 a^{2} e^{2} g \\cos^{2}{\\left(W \\right)} \\cos{\\left(inc \\right)} \\cos^{2}{\\left(w \\right)} + 4 a^{2} e^{2} h \\sin^{2}{\\left(W \\right)} \\sin{\\left(w \\right)} \\cos{\\left(w \\right)} + 4 a^{2} e^{2} h \\sin{\\left(W \\right)} \\sin^{2}{\\left(w \\right)} \\cos{\\left(W \\right)} \\cos{\\left(inc \\right)} - 4 a^{2} e^{2} h \\sin{\\left(W \\right)} \\cos{\\left(W \\right)} \\cos{\\left(inc \\right)} \\cos^{2}{\\left(w \\right)} - 4 a^{2} e^{2} h \\sin{\\left(w \\right)} \\cos^{2}{\\left(W \\right)} \\cos^{2}{\\left(inc \\right)} \\cos{\\left(w \\right)} + 2 a^{2} f \\sin^{2}{\\left(W \\right)} \\sin{\\left(w \\right)} \\cos^{2}{\\left(inc \\right)} \\cos{\\left(w \\right)} + 2 a^{2} f \\sin{\\left(W \\right)} \\sin^{2}{\\left(w \\right)} \\cos{\\left(W \\right)} \\cos{\\left(inc \\right)} - 2 a^{2} f \\sin{\\left(W \\right)} \\cos{\\left(W \\right)} \\cos{\\left(inc \\right)} \\cos^{2}{\\left(w \\right)} - 2 a^{2} f \\sin{\\left(w \\right)} \\cos^{2}{\\left(W \\right)} \\cos{\\left(w \\right)} + 2 a^{2} g \\sin^{2}{\\left(W \\right)} \\sin^{2}{\\left(w \\right)} \\cos{\\left(inc \\right)} - 2 a^{2} g \\sin^{2}{\\left(W \\right)} \\cos{\\left(inc \\right)} \\cos^{2}{\\left(w \\right)} - 4 a^{2} g \\sin{\\left(W \\right)} \\sin{\\left(w \\right)} \\cos{\\left(W \\right)} \\cos^{2}{\\left(inc \\right)} \\cos{\\left(w \\right)} - 4 a^{2} g \\sin{\\left(W \\right)} \\sin{\\left(w \\right)} \\cos{\\left(W \\right)} \\cos{\\left(w \\right)} - 2 a^{2} g \\sin^{2}{\\left(w \\right)} \\cos^{2}{\\left(W \\right)} \\cos{\\left(inc \\right)} + 2 a^{2} g \\cos^{2}{\\left(W \\right)} \\cos{\\left(inc \\right)} \\cos^{2}{\\left(w \\right)} - 2 a^{2} h \\sin^{2}{\\left(W \\right)} \\sin{\\left(w \\right)} \\cos{\\left(w \\right)} - 2 a^{2} h \\sin{\\left(W \\right)} \\sin^{2}{\\left(w \\right)} \\cos{\\left(W \\right)} \\cos{\\left(inc \\right)} + 2 a^{2} h \\sin{\\left(W \\right)} \\cos{\\left(W \\right)} \\cos{\\left(inc \\right)} \\cos^{2}{\\left(w \\right)} + 2 a^{2} h \\sin{\\left(w \\right)} \\cos^{2}{\\left(W \\right)} \\cos^{2}{\\left(inc \\right)} \\cos{\\left(w \\right)} + 2 a e^{3} k \\sin{\\left(W \\right)} \\cos{\\left(inc \\right)} \\cos{\\left(w \\right)} + 2 a e^{3} k \\sin{\\left(w \\right)} \\cos{\\left(W \\right)} + 2 a e^{3} l \\sin{\\left(W \\right)} \\sin{\\left(w \\right)} - 2 a e^{3} l \\cos{\\left(W \\right)} \\cos{\\left(inc \\right)} \\cos{\\left(w \\right)} - 2 a e k \\sin{\\left(W \\right)} \\cos{\\left(inc \\right)} \\cos{\\left(w \\right)} - 2 a e k \\sin{\\left(w \\right)} \\cos{\\left(W \\right)} - 2 a e l \\sin{\\left(W \\right)} \\sin{\\left(w \\right)} + 2 a e l \\cos{\\left(W \\right)} \\cos{\\left(inc \\right)} \\cos{\\left(w \\right)}$"
      ],
      "text/plain": [
       "2*a**2*e**4*f*sin(W)**2*sin(w)*cos(inc)**2*cos(w) + 2*a**2*e**4*f*sin(W)*sin(w)**2*cos(W)*cos(inc) - 2*a**2*e**4*f*sin(W)*cos(W)*cos(inc)*cos(w)**2 - 2*a**2*e**4*f*sin(w)*cos(W)**2*cos(w) + 2*a**2*e**4*g*sin(W)**2*sin(w)**2*cos(inc) - 2*a**2*e**4*g*sin(W)**2*cos(inc)*cos(w)**2 - 4*a**2*e**4*g*sin(W)*sin(w)*cos(W)*cos(inc)**2*cos(w) - 4*a**2*e**4*g*sin(W)*sin(w)*cos(W)*cos(w) - 2*a**2*e**4*g*sin(w)**2*cos(W)**2*cos(inc) + 2*a**2*e**4*g*cos(W)**2*cos(inc)*cos(w)**2 - 2*a**2*e**4*h*sin(W)**2*sin(w)*cos(w) - 2*a**2*e**4*h*sin(W)*sin(w)**2*cos(W)*cos(inc) + 2*a**2*e**4*h*sin(W)*cos(W)*cos(inc)*cos(w)**2 + 2*a**2*e**4*h*sin(w)*cos(W)**2*cos(inc)**2*cos(w) - 4*a**2*e**2*f*sin(W)**2*sin(w)*cos(inc)**2*cos(w) - 4*a**2*e**2*f*sin(W)*sin(w)**2*cos(W)*cos(inc) + 4*a**2*e**2*f*sin(W)*cos(W)*cos(inc)*cos(w)**2 + 4*a**2*e**2*f*sin(w)*cos(W)**2*cos(w) - 4*a**2*e**2*g*sin(W)**2*sin(w)**2*cos(inc) + 4*a**2*e**2*g*sin(W)**2*cos(inc)*cos(w)**2 + 8*a**2*e**2*g*sin(W)*sin(w)*cos(W)*cos(inc)**2*cos(w) + 8*a**2*e**2*g*sin(W)*sin(w)*cos(W)*cos(w) + 4*a**2*e**2*g*sin(w)**2*cos(W)**2*cos(inc) - 4*a**2*e**2*g*cos(W)**2*cos(inc)*cos(w)**2 + 4*a**2*e**2*h*sin(W)**2*sin(w)*cos(w) + 4*a**2*e**2*h*sin(W)*sin(w)**2*cos(W)*cos(inc) - 4*a**2*e**2*h*sin(W)*cos(W)*cos(inc)*cos(w)**2 - 4*a**2*e**2*h*sin(w)*cos(W)**2*cos(inc)**2*cos(w) + 2*a**2*f*sin(W)**2*sin(w)*cos(inc)**2*cos(w) + 2*a**2*f*sin(W)*sin(w)**2*cos(W)*cos(inc) - 2*a**2*f*sin(W)*cos(W)*cos(inc)*cos(w)**2 - 2*a**2*f*sin(w)*cos(W)**2*cos(w) + 2*a**2*g*sin(W)**2*sin(w)**2*cos(inc) - 2*a**2*g*sin(W)**2*cos(inc)*cos(w)**2 - 4*a**2*g*sin(W)*sin(w)*cos(W)*cos(inc)**2*cos(w) - 4*a**2*g*sin(W)*sin(w)*cos(W)*cos(w) - 2*a**2*g*sin(w)**2*cos(W)**2*cos(inc) + 2*a**2*g*cos(W)**2*cos(inc)*cos(w)**2 - 2*a**2*h*sin(W)**2*sin(w)*cos(w) - 2*a**2*h*sin(W)*sin(w)**2*cos(W)*cos(inc) + 2*a**2*h*sin(W)*cos(W)*cos(inc)*cos(w)**2 + 2*a**2*h*sin(w)*cos(W)**2*cos(inc)**2*cos(w) + 2*a*e**3*k*sin(W)*cos(inc)*cos(w) + 2*a*e**3*k*sin(w)*cos(W) + 2*a*e**3*l*sin(W)*sin(w) - 2*a*e**3*l*cos(W)*cos(inc)*cos(w) - 2*a*e*k*sin(W)*cos(inc)*cos(w) - 2*a*e*k*sin(w)*cos(W) - 2*a*e*l*sin(W)*sin(w) + 2*a*e*l*cos(W)*cos(inc)*cos(w)"
      ]
     },
     "execution_count": 104,
     "metadata": {},
     "output_type": "execute_result"
    }
   ],
   "source": [
    "twog"
   ]
  },
  {
   "cell_type": "code",
   "execution_count": 105,
   "metadata": {},
   "outputs": [
    {
     "data": {
      "text/latex": [
       "$\\displaystyle a^{2} e^{4} f \\sin^{2}{\\left(W \\right)} \\cos^{2}{\\left(inc \\right)} \\cos^{2}{\\left(w \\right)} + 2 a^{2} e^{4} f \\sin{\\left(W \\right)} \\sin{\\left(w \\right)} \\cos{\\left(W \\right)} \\cos{\\left(inc \\right)} \\cos{\\left(w \\right)} + a^{2} e^{4} f \\sin^{2}{\\left(w \\right)} \\cos^{2}{\\left(W \\right)} + 2 a^{2} e^{4} g \\sin^{2}{\\left(W \\right)} \\sin{\\left(w \\right)} \\cos{\\left(inc \\right)} \\cos{\\left(w \\right)} + 2 a^{2} e^{4} g \\sin{\\left(W \\right)} \\sin^{2}{\\left(w \\right)} \\cos{\\left(W \\right)} - 2 a^{2} e^{4} g \\sin{\\left(W \\right)} \\cos{\\left(W \\right)} \\cos^{2}{\\left(inc \\right)} \\cos^{2}{\\left(w \\right)} - 2 a^{2} e^{4} g \\sin{\\left(w \\right)} \\cos^{2}{\\left(W \\right)} \\cos{\\left(inc \\right)} \\cos{\\left(w \\right)} + a^{2} e^{4} h \\sin^{2}{\\left(W \\right)} \\sin^{2}{\\left(w \\right)} - 2 a^{2} e^{4} h \\sin{\\left(W \\right)} \\sin{\\left(w \\right)} \\cos{\\left(W \\right)} \\cos{\\left(inc \\right)} \\cos{\\left(w \\right)} + a^{2} e^{4} h \\cos^{2}{\\left(W \\right)} \\cos^{2}{\\left(inc \\right)} \\cos^{2}{\\left(w \\right)} - 2 a^{2} e^{2} f \\sin^{2}{\\left(W \\right)} \\cos^{2}{\\left(inc \\right)} \\cos^{2}{\\left(w \\right)} - 4 a^{2} e^{2} f \\sin{\\left(W \\right)} \\sin{\\left(w \\right)} \\cos{\\left(W \\right)} \\cos{\\left(inc \\right)} \\cos{\\left(w \\right)} - 2 a^{2} e^{2} f \\sin^{2}{\\left(w \\right)} \\cos^{2}{\\left(W \\right)} - 4 a^{2} e^{2} g \\sin^{2}{\\left(W \\right)} \\sin{\\left(w \\right)} \\cos{\\left(inc \\right)} \\cos{\\left(w \\right)} - 4 a^{2} e^{2} g \\sin{\\left(W \\right)} \\sin^{2}{\\left(w \\right)} \\cos{\\left(W \\right)} + 4 a^{2} e^{2} g \\sin{\\left(W \\right)} \\cos{\\left(W \\right)} \\cos^{2}{\\left(inc \\right)} \\cos^{2}{\\left(w \\right)} + 4 a^{2} e^{2} g \\sin{\\left(w \\right)} \\cos^{2}{\\left(W \\right)} \\cos{\\left(inc \\right)} \\cos{\\left(w \\right)} - 2 a^{2} e^{2} h \\sin^{2}{\\left(W \\right)} \\sin^{2}{\\left(w \\right)} + 4 a^{2} e^{2} h \\sin{\\left(W \\right)} \\sin{\\left(w \\right)} \\cos{\\left(W \\right)} \\cos{\\left(inc \\right)} \\cos{\\left(w \\right)} - 2 a^{2} e^{2} h \\cos^{2}{\\left(W \\right)} \\cos^{2}{\\left(inc \\right)} \\cos^{2}{\\left(w \\right)} + a^{2} f \\sin^{2}{\\left(W \\right)} \\cos^{2}{\\left(inc \\right)} \\cos^{2}{\\left(w \\right)} + 2 a^{2} f \\sin{\\left(W \\right)} \\sin{\\left(w \\right)} \\cos{\\left(W \\right)} \\cos{\\left(inc \\right)} \\cos{\\left(w \\right)} + a^{2} f \\sin^{2}{\\left(w \\right)} \\cos^{2}{\\left(W \\right)} + 2 a^{2} g \\sin^{2}{\\left(W \\right)} \\sin{\\left(w \\right)} \\cos{\\left(inc \\right)} \\cos{\\left(w \\right)} + 2 a^{2} g \\sin{\\left(W \\right)} \\sin^{2}{\\left(w \\right)} \\cos{\\left(W \\right)} - 2 a^{2} g \\sin{\\left(W \\right)} \\cos{\\left(W \\right)} \\cos^{2}{\\left(inc \\right)} \\cos^{2}{\\left(w \\right)} - 2 a^{2} g \\sin{\\left(w \\right)} \\cos^{2}{\\left(W \\right)} \\cos{\\left(inc \\right)} \\cos{\\left(w \\right)} + a^{2} h \\sin^{2}{\\left(W \\right)} \\sin^{2}{\\left(w \\right)} - 2 a^{2} h \\sin{\\left(W \\right)} \\sin{\\left(w \\right)} \\cos{\\left(W \\right)} \\cos{\\left(inc \\right)} \\cos{\\left(w \\right)} + a^{2} h \\cos^{2}{\\left(W \\right)} \\cos^{2}{\\left(inc \\right)} \\cos^{2}{\\left(w \\right)}$"
      ],
      "text/plain": [
       "a**2*e**4*f*sin(W)**2*cos(inc)**2*cos(w)**2 + 2*a**2*e**4*f*sin(W)*sin(w)*cos(W)*cos(inc)*cos(w) + a**2*e**4*f*sin(w)**2*cos(W)**2 + 2*a**2*e**4*g*sin(W)**2*sin(w)*cos(inc)*cos(w) + 2*a**2*e**4*g*sin(W)*sin(w)**2*cos(W) - 2*a**2*e**4*g*sin(W)*cos(W)*cos(inc)**2*cos(w)**2 - 2*a**2*e**4*g*sin(w)*cos(W)**2*cos(inc)*cos(w) + a**2*e**4*h*sin(W)**2*sin(w)**2 - 2*a**2*e**4*h*sin(W)*sin(w)*cos(W)*cos(inc)*cos(w) + a**2*e**4*h*cos(W)**2*cos(inc)**2*cos(w)**2 - 2*a**2*e**2*f*sin(W)**2*cos(inc)**2*cos(w)**2 - 4*a**2*e**2*f*sin(W)*sin(w)*cos(W)*cos(inc)*cos(w) - 2*a**2*e**2*f*sin(w)**2*cos(W)**2 - 4*a**2*e**2*g*sin(W)**2*sin(w)*cos(inc)*cos(w) - 4*a**2*e**2*g*sin(W)*sin(w)**2*cos(W) + 4*a**2*e**2*g*sin(W)*cos(W)*cos(inc)**2*cos(w)**2 + 4*a**2*e**2*g*sin(w)*cos(W)**2*cos(inc)*cos(w) - 2*a**2*e**2*h*sin(W)**2*sin(w)**2 + 4*a**2*e**2*h*sin(W)*sin(w)*cos(W)*cos(inc)*cos(w) - 2*a**2*e**2*h*cos(W)**2*cos(inc)**2*cos(w)**2 + a**2*f*sin(W)**2*cos(inc)**2*cos(w)**2 + 2*a**2*f*sin(W)*sin(w)*cos(W)*cos(inc)*cos(w) + a**2*f*sin(w)**2*cos(W)**2 + 2*a**2*g*sin(W)**2*sin(w)*cos(inc)*cos(w) + 2*a**2*g*sin(W)*sin(w)**2*cos(W) - 2*a**2*g*sin(W)*cos(W)*cos(inc)**2*cos(w)**2 - 2*a**2*g*sin(w)*cos(W)**2*cos(inc)*cos(w) + a**2*h*sin(W)**2*sin(w)**2 - 2*a**2*h*sin(W)*sin(w)*cos(W)*cos(inc)*cos(w) + a**2*h*cos(W)**2*cos(inc)**2*cos(w)**2"
      ]
     },
     "execution_count": 105,
     "metadata": {},
     "output_type": "execute_result"
    }
   ],
   "source": [
    "hh"
   ]
  },
  {
   "cell_type": "code",
   "execution_count": 106,
   "metadata": {},
   "outputs": [
    {
     "data": {
      "text/latex": [
       "$\\displaystyle 2 a e^{2} k \\sin{\\left(W \\right)} \\sin{\\left(w \\right)} \\cos{\\left(inc \\right)} - 2 a e^{2} k \\cos{\\left(W \\right)} \\cos{\\left(w \\right)} - 2 a e^{2} l \\sin{\\left(W \\right)} \\cos{\\left(w \\right)} - 2 a e^{2} l \\sin{\\left(w \\right)} \\cos{\\left(W \\right)} \\cos{\\left(inc \\right)} - 2 a k \\sin{\\left(W \\right)} \\sin{\\left(w \\right)} \\cos{\\left(inc \\right)} + 2 a k \\cos{\\left(W \\right)} \\cos{\\left(w \\right)} + 2 a l \\sin{\\left(W \\right)} \\cos{\\left(w \\right)} + 2 a l \\sin{\\left(w \\right)} \\cos{\\left(W \\right)} \\cos{\\left(inc \\right)} + 2 e m$"
      ],
      "text/plain": [
       "2*a*e**2*k*sin(W)*sin(w)*cos(inc) - 2*a*e**2*k*cos(W)*cos(w) - 2*a*e**2*l*sin(W)*cos(w) - 2*a*e**2*l*sin(w)*cos(W)*cos(inc) - 2*a*k*sin(W)*sin(w)*cos(inc) + 2*a*k*cos(W)*cos(w) + 2*a*l*sin(W)*cos(w) + 2*a*l*sin(w)*cos(W)*cos(inc) + 2*e*m"
      ]
     },
     "execution_count": 106,
     "metadata": {},
     "output_type": "execute_result"
    }
   ],
   "source": [
    "twok"
   ]
  },
  {
   "cell_type": "code",
   "execution_count": 107,
   "metadata": {},
   "outputs": [
    {
     "data": {
      "text/latex": [
       "$\\displaystyle 2 a e^{2} k \\sin{\\left(W \\right)} \\cos{\\left(inc \\right)} \\cos{\\left(w \\right)} + 2 a e^{2} k \\sin{\\left(w \\right)} \\cos{\\left(W \\right)} + 2 a e^{2} l \\sin{\\left(W \\right)} \\sin{\\left(w \\right)} - 2 a e^{2} l \\cos{\\left(W \\right)} \\cos{\\left(inc \\right)} \\cos{\\left(w \\right)} - 2 a k \\sin{\\left(W \\right)} \\cos{\\left(inc \\right)} \\cos{\\left(w \\right)} - 2 a k \\sin{\\left(w \\right)} \\cos{\\left(W \\right)} - 2 a l \\sin{\\left(W \\right)} \\sin{\\left(w \\right)} + 2 a l \\cos{\\left(W \\right)} \\cos{\\left(inc \\right)} \\cos{\\left(w \\right)}$"
      ],
      "text/plain": [
       "2*a*e**2*k*sin(W)*cos(inc)*cos(w) + 2*a*e**2*k*sin(w)*cos(W) + 2*a*e**2*l*sin(W)*sin(w) - 2*a*e**2*l*cos(W)*cos(inc)*cos(w) - 2*a*k*sin(W)*cos(inc)*cos(w) - 2*a*k*sin(w)*cos(W) - 2*a*l*sin(W)*sin(w) + 2*a*l*cos(W)*cos(inc)*cos(w)"
      ]
     },
     "execution_count": 107,
     "metadata": {},
     "output_type": "execute_result"
    }
   ],
   "source": [
    "twol"
   ]
  },
  {
   "cell_type": "code",
   "execution_count": 108,
   "metadata": {},
   "outputs": [
    {
     "data": {
      "text/latex": [
       "$\\displaystyle m$"
      ],
      "text/plain": [
       "m"
      ]
     },
     "execution_count": 108,
     "metadata": {},
     "output_type": "execute_result"
    }
   ],
   "source": [
    "mm"
   ]
  },
  {
   "cell_type": "code",
   "execution_count": null,
   "metadata": {},
   "outputs": [],
   "source": []
  },
  {
   "cell_type": "code",
   "execution_count": null,
   "metadata": {},
   "outputs": [],
   "source": []
  },
  {
   "cell_type": "code",
   "execution_count": null,
   "metadata": {},
   "outputs": [],
   "source": []
  },
  {
   "cell_type": "code",
   "execution_count": null,
   "metadata": {},
   "outputs": [],
   "source": []
  }
 ],
 "metadata": {
  "kernelspec": {
   "display_name": "Python 3",
   "language": "python",
   "name": "python3"
  },
  "language_info": {
   "codemirror_mode": {
    "name": "ipython",
    "version": 3
   },
   "file_extension": ".py",
   "mimetype": "text/x-python",
   "name": "python",
   "nbconvert_exporter": "python",
   "pygments_lexer": "ipython3",
   "version": "3.6.9"
  }
 },
 "nbformat": 4,
 "nbformat_minor": 4
}
