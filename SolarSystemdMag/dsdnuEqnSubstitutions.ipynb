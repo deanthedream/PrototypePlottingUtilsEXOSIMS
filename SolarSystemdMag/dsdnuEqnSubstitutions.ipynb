{
 "cells": [
  {
   "cell_type": "code",
   "execution_count": 168,
   "metadata": {},
   "outputs": [],
   "source": "import sympy as sp\nimport numpy as np\nfrom IPython.display import display"
  },
  {
   "cell_type": "code",
   "execution_count": 169,
   "metadata": {},
   "outputs": [],
   "source": "#### ds/dnu\nomega, xxx, inc, nu, theta = sp.symbols('omega, xxx, inc, nu, theta', real=True)\nsma, eccen, sep = sp.symbols('sma, eccen, sep', real=True, positive=True)"
  },
  {
   "cell_type": "code",
   "execution_count": 190,
   "metadata": {},
   "outputs": [],
   "source": "s_koe = sma*(1*eccen**2)/(1+eccen*sp.cos(nu))*sp.sqrt(sp.cos(omega+nu)**2 + sp.sin(omega+nu)**2*sp.cos(inc)**2)"
  },
  {
   "cell_type": "code",
   "execution_count": 192,
   "metadata": {},
   "outputs": [
    {
     "data": {
      "text/latex": "$\\displaystyle \\frac{eccen^{2} sma \\sqrt{\\sin^{2}{\\left(\\nu + \\omega \\right)} \\cos^{2}{\\left(inc \\right)} + \\cos^{2}{\\left(\\nu + \\omega \\right)}}}{eccen \\cos{\\left(\\nu \\right)} + 1}$",
      "text/plain": "eccen**2*sma*sqrt(sin(nu + omega)**2*cos(inc)**2 + cos(nu + omega)**2)/(eccen*cos(nu) + 1)"
     },
     "execution_count": 192,
     "metadata": {},
     "output_type": "execute_result"
    }
   ],
   "source": "s_koe"
  },
  {
   "cell_type": "code",
   "execution_count": 195,
   "metadata": {},
   "outputs": [],
   "source": "ds_dnu_koe = sp.diff(s_koe,nu)"
  },
  {
   "cell_type": "code",
   "execution_count": 201,
   "metadata": {},
   "outputs": [
    {
     "data": {
      "text/latex": "$\\displaystyle \\frac{eccen^{3} sma \\sqrt{\\sin^{2}{\\left(\\nu + \\omega \\right)} \\cos^{2}{\\left(inc \\right)} + \\cos^{2}{\\left(\\nu + \\omega \\right)}} \\sin{\\left(\\nu \\right)}}{\\left(eccen \\cos{\\left(\\nu \\right)} + 1\\right)^{2}} + \\frac{eccen^{2} sma \\left(\\sin{\\left(\\nu + \\omega \\right)} \\cos^{2}{\\left(inc \\right)} \\cos{\\left(\\nu + \\omega \\right)} - \\sin{\\left(\\nu + \\omega \\right)} \\cos{\\left(\\nu + \\omega \\right)}\\right)}{\\left(eccen \\cos{\\left(\\nu \\right)} + 1\\right) \\sqrt{\\sin^{2}{\\left(\\nu + \\omega \\right)} \\cos^{2}{\\left(inc \\right)} + \\cos^{2}{\\left(\\nu + \\omega \\right)}}}$",
      "text/plain": "eccen**3*sma*sqrt(sin(nu + omega)**2*cos(inc)**2 + cos(nu + omega)**2)*sin(nu)/(eccen*cos(nu) + 1)**2 + eccen**2*sma*(sin(nu + omega)*cos(inc)**2*cos(nu + omega) - sin(nu + omega)*cos(nu + omega))/((eccen*cos(nu) + 1)*sqrt(sin(nu + omega)**2*cos(inc)**2 + cos(nu + omega)**2))"
     },
     "execution_count": 201,
     "metadata": {},
     "output_type": "execute_result"
    }
   ],
   "source": "ds_dnu_koe"
  },
  {
   "cell_type": "code",
   "execution_count": 202,
   "metadata": {},
   "outputs": [],
   "source": "dsbydnuzeros = dsbydnuzeros.subs(nu+omega,theta).subs(nu,theta-omega)"
  },
  {
   "cell_type": "code",
   "execution_count": 203,
   "metadata": {},
   "outputs": [
    {
     "data": {
      "text/latex": "$\\displaystyle - \\frac{eccen^{3} sma \\sqrt{\\sin^{2}{\\left(\\theta \\right)} \\cos^{2}{\\left(inc \\right)} + \\cos^{2}{\\left(\\theta \\right)}} \\sin{\\left(\\omega - \\theta \\right)}}{eccen \\cos^{2}{\\left(\\omega - \\theta \\right)} + 1} + \\frac{\\left(eccen^{2} sma \\cos^{2}{\\left(inc \\right)} - 1\\right) \\sin{\\left(\\theta \\right)} \\cos{\\left(\\theta \\right)}}{\\left(eccen \\cos{\\left(\\omega - \\theta \\right)} + 1\\right) \\sqrt{\\sin^{2}{\\left(\\theta \\right)} \\cos^{2}{\\left(inc \\right)} + \\cos^{2}{\\left(\\theta \\right)}}}$",
      "text/plain": "-eccen**3*sma*sqrt(sin(theta)**2*cos(inc)**2 + cos(theta)**2)*sin(omega - theta)/(eccen*cos(omega - theta)**2 + 1) + (eccen**2*sma*cos(inc)**2 - 1)*sin(theta)*cos(theta)/((eccen*cos(omega - theta) + 1)*sqrt(sin(theta)**2*cos(inc)**2 + cos(theta)**2))"
     },
     "execution_count": 203,
     "metadata": {},
     "output_type": "execute_result"
    }
   ],
   "source": "dsbydnuzeros"
  },
  {
   "cell_type": "code",
   "execution_count": null,
   "metadata": {},
   "outputs": [],
   "source": ""
  },
  {
   "cell_type": "code",
   "execution_count": 170,
   "metadata": {},
   "outputs": [],
   "source": "#The LHS here is 0\ndsbydnuzeros = ((eccen**2 *sma* sp.cos(inc)**2 - 1)*sp.sin(nu+omega)*sp.cos(nu+omega))/ ((eccen*sp.cos(nu) + 1)*sp.sqrt(sp.sin(nu+omega)**2*sp.cos(inc)**2 + sp.cos(nu+omega)**2)  )\\\n    + eccen**3* sma* sp.sin(nu)* sp.sqrt(sp.sin(nu+omega)**2*sp.cos(inc)**2 + sp.cos(nu+omega)**2)/(eccen*sp.cos(nu)**2 + 1)"
  },
  {
   "cell_type": "code",
   "execution_count": 171,
   "metadata": {},
   "outputs": [],
   "source": "dsbydnuzeros = dsbydnuzeros.subs(nu+omega,theta).subs(nu,theta-omega)"
  },
  {
   "cell_type": "code",
   "execution_count": 172,
   "metadata": {},
   "outputs": [
    {
     "data": {
      "text/latex": "$\\displaystyle - \\frac{eccen^{3} sma \\sqrt{\\sin^{2}{\\left(\\theta \\right)} \\cos^{2}{\\left(inc \\right)} + \\cos^{2}{\\left(\\theta \\right)}} \\sin{\\left(\\omega - \\theta \\right)}}{eccen \\cos^{2}{\\left(\\omega - \\theta \\right)} + 1} + \\frac{\\left(eccen^{2} sma \\cos^{2}{\\left(inc \\right)} - 1\\right) \\sin{\\left(\\theta \\right)} \\cos{\\left(\\theta \\right)}}{\\left(eccen \\cos{\\left(\\omega - \\theta \\right)} + 1\\right) \\sqrt{\\sin^{2}{\\left(\\theta \\right)} \\cos^{2}{\\left(inc \\right)} + \\cos^{2}{\\left(\\theta \\right)}}}$",
      "text/plain": "-eccen**3*sma*sqrt(sin(theta)**2*cos(inc)**2 + cos(theta)**2)*sin(omega - theta)/(eccen*cos(omega - theta)**2 + 1) + (eccen**2*sma*cos(inc)**2 - 1)*sin(theta)*cos(theta)/((eccen*cos(omega - theta) + 1)*sqrt(sin(theta)**2*cos(inc)**2 + cos(theta)**2))"
     },
     "execution_count": 172,
     "metadata": {},
     "output_type": "execute_result"
    }
   ],
   "source": "dsbydnuzeros"
  },
  {
   "cell_type": "code",
   "execution_count": 173,
   "metadata": {},
   "outputs": [],
   "source": "dsbydnuzeros_1 = sp.simplify(dsbydnuzeros)"
  },
  {
   "cell_type": "code",
   "execution_count": 174,
   "metadata": {},
   "outputs": [
    {
     "data": {
      "text/latex": "$\\displaystyle \\frac{- eccen^{3} sma \\left(eccen \\cos{\\left(\\omega - \\theta \\right)} + 1\\right) \\left(- \\sin^{2}{\\left(inc \\right)} \\sin^{2}{\\left(\\theta \\right)} + 1\\right) \\sin{\\left(\\omega - \\theta \\right)} + \\left(eccen \\cos^{2}{\\left(\\omega - \\theta \\right)} + 1\\right) \\left(eccen^{2} sma \\cos^{2}{\\left(inc \\right)} - 1\\right) \\sin{\\left(\\theta \\right)} \\cos{\\left(\\theta \\right)}}{\\left(eccen \\cos{\\left(\\omega - \\theta \\right)} + 1\\right) \\left(eccen \\cos^{2}{\\left(\\omega - \\theta \\right)} + 1\\right) \\sqrt{- \\sin^{2}{\\left(inc \\right)} \\sin^{2}{\\left(\\theta \\right)} + 1}}$",
      "text/plain": "(-eccen**3*sma*(eccen*cos(omega - theta) + 1)*(-sin(inc)**2*sin(theta)**2 + 1)*sin(omega - theta) + (eccen*cos(omega - theta)**2 + 1)*(eccen**2*sma*cos(inc)**2 - 1)*sin(theta)*cos(theta))/((eccen*cos(omega - theta) + 1)*(eccen*cos(omega - theta)**2 + 1)*sqrt(-sin(inc)**2*sin(theta)**2 + 1))"
     },
     "execution_count": 174,
     "metadata": {},
     "output_type": "execute_result"
    }
   ],
   "source": "dsbydnuzeros_1"
  },
  {
   "cell_type": "code",
   "execution_count": 175,
   "metadata": {},
   "outputs": [],
   "source": "#Cross multiply to remove denominators    \n#dsbydnuzeros_1 = (eccen*sp.cos(nu)**2 + 1)*(eccen**2*sma*sp.cos(inc)**2 - 1)*sp.sin(nu+omega)*sp.cos(nu+omega)\\\n#    + eccen**3*sma*sp.sin(nu)*(sp.sin(nu+omega)**2*sp.cos(inc)**2 + sp.cos(nu+omega)**2)*(eccen*sp.cos(nu) + 1)"
  },
  {
   "cell_type": "code",
   "execution_count": 176,
   "metadata": {},
   "outputs": [],
   "source": "#sp.expand(dsbydnuzeros_1)"
  },
  {
   "cell_type": "code",
   "execution_count": 177,
   "metadata": {},
   "outputs": [
    {
     "data": {
      "text/latex": "$\\displaystyle - \\frac{\\sin{\\left(\\theta \\right)} \\cos{\\left(\\theta \\right)}}{eccen^{2} \\sqrt{- \\sin^{2}{\\left(inc \\right)} \\sin^{2}{\\left(\\theta \\right)} + 1} \\cos^{3}{\\left(\\omega - \\theta \\right)} + eccen \\sqrt{- \\sin^{2}{\\left(inc \\right)} \\sin^{2}{\\left(\\theta \\right)} + 1} \\cos^{2}{\\left(\\omega - \\theta \\right)} + eccen \\sqrt{- \\sin^{2}{\\left(inc \\right)} \\sin^{2}{\\left(\\theta \\right)} + 1} \\cos{\\left(\\omega - \\theta \\right)} + \\sqrt{- \\sin^{2}{\\left(inc \\right)} \\sin^{2}{\\left(\\theta \\right)} + 1}}$",
      "text/plain": "-sin(theta)*cos(theta)/(eccen**2*sqrt(-sin(inc)**2*sin(theta)**2 + 1)*cos(omega - theta)**3 + eccen*sqrt(-sin(inc)**2*sin(theta)**2 + 1)*cos(omega - theta)**2 + eccen*sqrt(-sin(inc)**2*sin(theta)**2 + 1)*cos(omega - theta) + sqrt(-sin(inc)**2*sin(theta)**2 + 1))"
     },
     "metadata": {},
     "output_type": "display_data"
    },
    {
     "data": {
      "text/latex": "$\\displaystyle - \\frac{eccen^{3} sma \\sin{\\left(\\omega - \\theta \\right)}}{eccen^{2} \\sqrt{- \\sin^{2}{\\left(inc \\right)} \\sin^{2}{\\left(\\theta \\right)} + 1} \\cos^{3}{\\left(\\omega - \\theta \\right)} + eccen \\sqrt{- \\sin^{2}{\\left(inc \\right)} \\sin^{2}{\\left(\\theta \\right)} + 1} \\cos^{2}{\\left(\\omega - \\theta \\right)} + eccen \\sqrt{- \\sin^{2}{\\left(inc \\right)} \\sin^{2}{\\left(\\theta \\right)} + 1} \\cos{\\left(\\omega - \\theta \\right)} + \\sqrt{- \\sin^{2}{\\left(inc \\right)} \\sin^{2}{\\left(\\theta \\right)} + 1}}$",
      "text/plain": "-eccen**3*sma*sin(omega - theta)/(eccen**2*sqrt(-sin(inc)**2*sin(theta)**2 + 1)*cos(omega - theta)**3 + eccen*sqrt(-sin(inc)**2*sin(theta)**2 + 1)*cos(omega - theta)**2 + eccen*sqrt(-sin(inc)**2*sin(theta)**2 + 1)*cos(omega - theta) + sqrt(-sin(inc)**2*sin(theta)**2 + 1))"
     },
     "metadata": {},
     "output_type": "display_data"
    },
    {
     "data": {
      "text/latex": "$\\displaystyle - \\frac{eccen \\sin{\\left(\\theta \\right)} \\cos{\\left(\\theta \\right)} \\cos^{2}{\\left(\\omega - \\theta \\right)}}{eccen^{2} \\sqrt{- \\sin^{2}{\\left(inc \\right)} \\sin^{2}{\\left(\\theta \\right)} + 1} \\cos^{3}{\\left(\\omega - \\theta \\right)} + eccen \\sqrt{- \\sin^{2}{\\left(inc \\right)} \\sin^{2}{\\left(\\theta \\right)} + 1} \\cos^{2}{\\left(\\omega - \\theta \\right)} + eccen \\sqrt{- \\sin^{2}{\\left(inc \\right)} \\sin^{2}{\\left(\\theta \\right)} + 1} \\cos{\\left(\\omega - \\theta \\right)} + \\sqrt{- \\sin^{2}{\\left(inc \\right)} \\sin^{2}{\\left(\\theta \\right)} + 1}}$",
      "text/plain": "-eccen*sin(theta)*cos(theta)*cos(omega - theta)**2/(eccen**2*sqrt(-sin(inc)**2*sin(theta)**2 + 1)*cos(omega - theta)**3 + eccen*sqrt(-sin(inc)**2*sin(theta)**2 + 1)*cos(omega - theta)**2 + eccen*sqrt(-sin(inc)**2*sin(theta)**2 + 1)*cos(omega - theta) + sqrt(-sin(inc)**2*sin(theta)**2 + 1))"
     },
     "metadata": {},
     "output_type": "display_data"
    },
    {
     "data": {
      "text/latex": "$\\displaystyle - \\frac{eccen^{4} sma \\sin{\\left(\\omega - \\theta \\right)} \\cos{\\left(\\omega - \\theta \\right)}}{eccen^{2} \\sqrt{- \\sin^{2}{\\left(inc \\right)} \\sin^{2}{\\left(\\theta \\right)} + 1} \\cos^{3}{\\left(\\omega - \\theta \\right)} + eccen \\sqrt{- \\sin^{2}{\\left(inc \\right)} \\sin^{2}{\\left(\\theta \\right)} + 1} \\cos^{2}{\\left(\\omega - \\theta \\right)} + eccen \\sqrt{- \\sin^{2}{\\left(inc \\right)} \\sin^{2}{\\left(\\theta \\right)} + 1} \\cos{\\left(\\omega - \\theta \\right)} + \\sqrt{- \\sin^{2}{\\left(inc \\right)} \\sin^{2}{\\left(\\theta \\right)} + 1}}$",
      "text/plain": "-eccen**4*sma*sin(omega - theta)*cos(omega - theta)/(eccen**2*sqrt(-sin(inc)**2*sin(theta)**2 + 1)*cos(omega - theta)**3 + eccen*sqrt(-sin(inc)**2*sin(theta)**2 + 1)*cos(omega - theta)**2 + eccen*sqrt(-sin(inc)**2*sin(theta)**2 + 1)*cos(omega - theta) + sqrt(-sin(inc)**2*sin(theta)**2 + 1))"
     },
     "metadata": {},
     "output_type": "display_data"
    },
    {
     "data": {
      "text/latex": "$\\displaystyle \\frac{eccen^{2} sma \\sin{\\left(\\theta \\right)} \\cos^{2}{\\left(inc \\right)} \\cos{\\left(\\theta \\right)}}{eccen^{2} \\sqrt{- \\sin^{2}{\\left(inc \\right)} \\sin^{2}{\\left(\\theta \\right)} + 1} \\cos^{3}{\\left(\\omega - \\theta \\right)} + eccen \\sqrt{- \\sin^{2}{\\left(inc \\right)} \\sin^{2}{\\left(\\theta \\right)} + 1} \\cos^{2}{\\left(\\omega - \\theta \\right)} + eccen \\sqrt{- \\sin^{2}{\\left(inc \\right)} \\sin^{2}{\\left(\\theta \\right)} + 1} \\cos{\\left(\\omega - \\theta \\right)} + \\sqrt{- \\sin^{2}{\\left(inc \\right)} \\sin^{2}{\\left(\\theta \\right)} + 1}}$",
      "text/plain": "eccen**2*sma*sin(theta)*cos(inc)**2*cos(theta)/(eccen**2*sqrt(-sin(inc)**2*sin(theta)**2 + 1)*cos(omega - theta)**3 + eccen*sqrt(-sin(inc)**2*sin(theta)**2 + 1)*cos(omega - theta)**2 + eccen*sqrt(-sin(inc)**2*sin(theta)**2 + 1)*cos(omega - theta) + sqrt(-sin(inc)**2*sin(theta)**2 + 1))"
     },
     "metadata": {},
     "output_type": "display_data"
    },
    {
     "data": {
      "text/latex": "$\\displaystyle \\frac{eccen^{3} sma \\sin^{2}{\\left(inc \\right)} \\sin^{2}{\\left(\\theta \\right)} \\sin{\\left(\\omega - \\theta \\right)}}{eccen^{2} \\sqrt{- \\sin^{2}{\\left(inc \\right)} \\sin^{2}{\\left(\\theta \\right)} + 1} \\cos^{3}{\\left(\\omega - \\theta \\right)} + eccen \\sqrt{- \\sin^{2}{\\left(inc \\right)} \\sin^{2}{\\left(\\theta \\right)} + 1} \\cos^{2}{\\left(\\omega - \\theta \\right)} + eccen \\sqrt{- \\sin^{2}{\\left(inc \\right)} \\sin^{2}{\\left(\\theta \\right)} + 1} \\cos{\\left(\\omega - \\theta \\right)} + \\sqrt{- \\sin^{2}{\\left(inc \\right)} \\sin^{2}{\\left(\\theta \\right)} + 1}}$",
      "text/plain": "eccen**3*sma*sin(inc)**2*sin(theta)**2*sin(omega - theta)/(eccen**2*sqrt(-sin(inc)**2*sin(theta)**2 + 1)*cos(omega - theta)**3 + eccen*sqrt(-sin(inc)**2*sin(theta)**2 + 1)*cos(omega - theta)**2 + eccen*sqrt(-sin(inc)**2*sin(theta)**2 + 1)*cos(omega - theta) + sqrt(-sin(inc)**2*sin(theta)**2 + 1))"
     },
     "metadata": {},
     "output_type": "display_data"
    },
    {
     "data": {
      "text/latex": "$\\displaystyle \\frac{eccen^{3} sma \\sin{\\left(\\theta \\right)} \\cos^{2}{\\left(inc \\right)} \\cos{\\left(\\theta \\right)} \\cos^{2}{\\left(\\omega - \\theta \\right)}}{eccen^{2} \\sqrt{- \\sin^{2}{\\left(inc \\right)} \\sin^{2}{\\left(\\theta \\right)} + 1} \\cos^{3}{\\left(\\omega - \\theta \\right)} + eccen \\sqrt{- \\sin^{2}{\\left(inc \\right)} \\sin^{2}{\\left(\\theta \\right)} + 1} \\cos^{2}{\\left(\\omega - \\theta \\right)} + eccen \\sqrt{- \\sin^{2}{\\left(inc \\right)} \\sin^{2}{\\left(\\theta \\right)} + 1} \\cos{\\left(\\omega - \\theta \\right)} + \\sqrt{- \\sin^{2}{\\left(inc \\right)} \\sin^{2}{\\left(\\theta \\right)} + 1}}$",
      "text/plain": "eccen**3*sma*sin(theta)*cos(inc)**2*cos(theta)*cos(omega - theta)**2/(eccen**2*sqrt(-sin(inc)**2*sin(theta)**2 + 1)*cos(omega - theta)**3 + eccen*sqrt(-sin(inc)**2*sin(theta)**2 + 1)*cos(omega - theta)**2 + eccen*sqrt(-sin(inc)**2*sin(theta)**2 + 1)*cos(omega - theta) + sqrt(-sin(inc)**2*sin(theta)**2 + 1))"
     },
     "metadata": {},
     "output_type": "display_data"
    },
    {
     "data": {
      "text/latex": "$\\displaystyle \\frac{eccen^{4} sma \\sin^{2}{\\left(inc \\right)} \\sin^{2}{\\left(\\theta \\right)} \\sin{\\left(\\omega - \\theta \\right)} \\cos{\\left(\\omega - \\theta \\right)}}{eccen^{2} \\sqrt{- \\sin^{2}{\\left(inc \\right)} \\sin^{2}{\\left(\\theta \\right)} + 1} \\cos^{3}{\\left(\\omega - \\theta \\right)} + eccen \\sqrt{- \\sin^{2}{\\left(inc \\right)} \\sin^{2}{\\left(\\theta \\right)} + 1} \\cos^{2}{\\left(\\omega - \\theta \\right)} + eccen \\sqrt{- \\sin^{2}{\\left(inc \\right)} \\sin^{2}{\\left(\\theta \\right)} + 1} \\cos{\\left(\\omega - \\theta \\right)} + \\sqrt{- \\sin^{2}{\\left(inc \\right)} \\sin^{2}{\\left(\\theta \\right)} + 1}}$",
      "text/plain": "eccen**4*sma*sin(inc)**2*sin(theta)**2*sin(omega - theta)*cos(omega - theta)/(eccen**2*sqrt(-sin(inc)**2*sin(theta)**2 + 1)*cos(omega - theta)**3 + eccen*sqrt(-sin(inc)**2*sin(theta)**2 + 1)*cos(omega - theta)**2 + eccen*sqrt(-sin(inc)**2*sin(theta)**2 + 1)*cos(omega - theta) + sqrt(-sin(inc)**2*sin(theta)**2 + 1))"
     },
     "metadata": {},
     "output_type": "display_data"
    }
   ],
   "source": "outDump0 = [display(sp.expand(dsbydnuzeros_1).args[i]) for i in np.arange(len(sp.expand(dsbydnuzeros_1).args))]"
  },
  {
   "cell_type": "code",
   "execution_count": 178,
   "metadata": {},
   "outputs": [],
   "source": "#sp.solve(dsbydnuzeros_1,nu) #Doesn't work"
  },
  {
   "cell_type": "code",
   "execution_count": 179,
   "metadata": {},
   "outputs": [],
   "source": "#### ddsddnu\nddsddnu = sp.diff(dsbydnuzeros_1,nu)"
  },
  {
   "cell_type": "code",
   "execution_count": 180,
   "metadata": {
    "scrolled": true
   },
   "outputs": [],
   "source": "#sp.expand(ddsddnu)"
  },
  {
   "cell_type": "code",
   "execution_count": 181,
   "metadata": {},
   "outputs": [],
   "source": "#sp.expand(ddsddnu)"
  },
  {
   "cell_type": "code",
   "execution_count": 182,
   "metadata": {},
   "outputs": [],
   "source": "outDump1 = [display(sp.expand(ddsddnu).args[i]) for i in np.arange(len(sp.expand(ddsddnu).args))]"
  },
  {
   "cell_type": "code",
   "execution_count": 183,
   "metadata": {},
   "outputs": [],
   "source": "sqrtSimplifier = sp.sqrt(sp.sin(nu+omega)**2. * sp.cos(inc)**2. + sp.cos(nu+omega)**2.)"
  },
  {
   "cell_type": "code",
   "execution_count": 184,
   "metadata": {},
   "outputs": [
    {
     "data": {
      "text/latex": "$\\displaystyle \\sqrt{\\sin^{2.0}{\\left(\\nu + \\omega \\right)} \\cos^{2.0}{\\left(inc \\right)} + \\cos^{2.0}{\\left(\\nu + \\omega \\right)}}$",
      "text/plain": "sqrt(sin(nu + omega)**2.0*cos(inc)**2.0 + cos(nu + omega)**2.0)"
     },
     "execution_count": 184,
     "metadata": {},
     "output_type": "execute_result"
    }
   ],
   "source": "sqrtSimplifier"
  },
  {
   "cell_type": "code",
   "execution_count": 185,
   "metadata": {},
   "outputs": [],
   "source": "gamma = sp.symbols('gamma', positive=True, real=True)"
  },
  {
   "cell_type": "code",
   "execution_count": 186,
   "metadata": {},
   "outputs": [],
   "source": "tmp = sp.expand((ddsddnu-dsbydnuzeros_1).subs(sqrtSimplifier,gamma))"
  },
  {
   "cell_type": "code",
   "execution_count": null,
   "metadata": {},
   "outputs": [],
   "source": ""
  },
  {
   "cell_type": "code",
   "execution_count": 187,
   "metadata": {
    "scrolled": true
   },
   "outputs": [],
   "source": "#tmp.args"
  },
  {
   "cell_type": "code",
   "execution_count": 188,
   "metadata": {},
   "outputs": [
    {
     "data": {
      "text/plain": "8"
     },
     "execution_count": 188,
     "metadata": {},
     "output_type": "execute_result"
    }
   ],
   "source": "len(tmp.args)"
  },
  {
   "cell_type": "code",
   "execution_count": 189,
   "metadata": {
    "scrolled": false
   },
   "outputs": [
    {
     "data": {
      "text/latex": "$\\displaystyle \\frac{\\sin{\\left(\\theta \\right)} \\cos{\\left(\\theta \\right)}}{\\sqrt{- \\sin^{2}{\\left(inc \\right)} \\sin^{2}{\\left(\\theta \\right)} + 1} \\left(eccen^{2} \\cos^{3}{\\left(\\omega - \\theta \\right)} + eccen \\cos^{2}{\\left(\\omega - \\theta \\right)} + eccen \\cos{\\left(\\omega - \\theta \\right)} + 1\\right)}$",
      "text/plain": "sin(theta)*cos(theta)/(sqrt(-sin(inc)**2*sin(theta)**2 + 1)*(eccen**2*cos(omega - theta)**3 + eccen*cos(omega - theta)**2 + eccen*cos(omega - theta) + 1))"
     },
     "metadata": {},
     "output_type": "display_data"
    },
    {
     "data": {
      "text/latex": "$\\displaystyle \\frac{eccen^{3} sma \\sin{\\left(\\omega - \\theta \\right)}}{\\sqrt{- \\sin^{2}{\\left(inc \\right)} \\sin^{2}{\\left(\\theta \\right)} + 1} \\left(eccen^{2} \\cos^{3}{\\left(\\omega - \\theta \\right)} + eccen \\cos^{2}{\\left(\\omega - \\theta \\right)} + eccen \\cos{\\left(\\omega - \\theta \\right)} + 1\\right)}$",
      "text/plain": "eccen**3*sma*sin(omega - theta)/(sqrt(-sin(inc)**2*sin(theta)**2 + 1)*(eccen**2*cos(omega - theta)**3 + eccen*cos(omega - theta)**2 + eccen*cos(omega - theta) + 1))"
     },
     "metadata": {},
     "output_type": "display_data"
    },
    {
     "data": {
      "text/latex": "$\\displaystyle \\frac{eccen \\sin{\\left(\\theta \\right)} \\cos{\\left(\\theta \\right)} \\cos^{2}{\\left(\\omega - \\theta \\right)}}{\\sqrt{- \\sin^{2}{\\left(inc \\right)} \\sin^{2}{\\left(\\theta \\right)} + 1} \\left(eccen^{2} \\cos^{3}{\\left(\\omega - \\theta \\right)} + eccen \\cos^{2}{\\left(\\omega - \\theta \\right)} + eccen \\cos{\\left(\\omega - \\theta \\right)} + 1\\right)}$",
      "text/plain": "eccen*sin(theta)*cos(theta)*cos(omega - theta)**2/(sqrt(-sin(inc)**2*sin(theta)**2 + 1)*(eccen**2*cos(omega - theta)**3 + eccen*cos(omega - theta)**2 + eccen*cos(omega - theta) + 1))"
     },
     "metadata": {},
     "output_type": "display_data"
    },
    {
     "data": {
      "text/latex": "$\\displaystyle \\frac{eccen^{4} sma \\sin{\\left(\\omega - \\theta \\right)} \\cos{\\left(\\omega - \\theta \\right)}}{\\sqrt{- \\sin^{2}{\\left(inc \\right)} \\sin^{2}{\\left(\\theta \\right)} + 1} \\left(eccen^{2} \\cos^{3}{\\left(\\omega - \\theta \\right)} + eccen \\cos^{2}{\\left(\\omega - \\theta \\right)} + eccen \\cos{\\left(\\omega - \\theta \\right)} + 1\\right)}$",
      "text/plain": "eccen**4*sma*sin(omega - theta)*cos(omega - theta)/(sqrt(-sin(inc)**2*sin(theta)**2 + 1)*(eccen**2*cos(omega - theta)**3 + eccen*cos(omega - theta)**2 + eccen*cos(omega - theta) + 1))"
     },
     "metadata": {},
     "output_type": "display_data"
    },
    {
     "data": {
      "text/latex": "$\\displaystyle - \\frac{eccen^{2} sma \\sin{\\left(\\theta \\right)} \\cos^{2}{\\left(inc \\right)} \\cos{\\left(\\theta \\right)}}{\\sqrt{- \\sin^{2}{\\left(inc \\right)} \\sin^{2}{\\left(\\theta \\right)} + 1} \\left(eccen^{2} \\cos^{3}{\\left(\\omega - \\theta \\right)} + eccen \\cos^{2}{\\left(\\omega - \\theta \\right)} + eccen \\cos{\\left(\\omega - \\theta \\right)} + 1\\right)}$",
      "text/plain": "-eccen**2*sma*sin(theta)*cos(inc)**2*cos(theta)/(sqrt(-sin(inc)**2*sin(theta)**2 + 1)*(eccen**2*cos(omega - theta)**3 + eccen*cos(omega - theta)**2 + eccen*cos(omega - theta) + 1))"
     },
     "metadata": {},
     "output_type": "display_data"
    },
    {
     "data": {
      "text/latex": "$\\displaystyle - \\frac{eccen^{3} sma \\sin^{2}{\\left(inc \\right)} \\sin^{2}{\\left(\\theta \\right)} \\sin{\\left(\\omega - \\theta \\right)}}{\\sqrt{- \\sin^{2}{\\left(inc \\right)} \\sin^{2}{\\left(\\theta \\right)} + 1} \\left(eccen^{2} \\cos^{3}{\\left(\\omega - \\theta \\right)} + eccen \\cos^{2}{\\left(\\omega - \\theta \\right)} + eccen \\cos{\\left(\\omega - \\theta \\right)} + 1\\right)}$",
      "text/plain": "-eccen**3*sma*sin(inc)**2*sin(theta)**2*sin(omega - theta)/(sqrt(-sin(inc)**2*sin(theta)**2 + 1)*(eccen**2*cos(omega - theta)**3 + eccen*cos(omega - theta)**2 + eccen*cos(omega - theta) + 1))"
     },
     "metadata": {},
     "output_type": "display_data"
    },
    {
     "data": {
      "text/latex": "$\\displaystyle - \\frac{eccen^{3} sma \\sin{\\left(\\theta \\right)} \\cos^{2}{\\left(inc \\right)} \\cos{\\left(\\theta \\right)} \\cos^{2}{\\left(\\omega - \\theta \\right)}}{\\sqrt{- \\sin^{2}{\\left(inc \\right)} \\sin^{2}{\\left(\\theta \\right)} + 1} \\left(eccen^{2} \\cos^{3}{\\left(\\omega - \\theta \\right)} + eccen \\cos^{2}{\\left(\\omega - \\theta \\right)} + eccen \\cos{\\left(\\omega - \\theta \\right)} + 1\\right)}$",
      "text/plain": "-eccen**3*sma*sin(theta)*cos(inc)**2*cos(theta)*cos(omega - theta)**2/(sqrt(-sin(inc)**2*sin(theta)**2 + 1)*(eccen**2*cos(omega - theta)**3 + eccen*cos(omega - theta)**2 + eccen*cos(omega - theta) + 1))"
     },
     "metadata": {},
     "output_type": "display_data"
    },
    {
     "data": {
      "text/latex": "$\\displaystyle - \\frac{eccen^{4} sma \\sin^{2}{\\left(inc \\right)} \\sin^{2}{\\left(\\theta \\right)} \\sin{\\left(\\omega - \\theta \\right)} \\cos{\\left(\\omega - \\theta \\right)}}{\\sqrt{- \\sin^{2}{\\left(inc \\right)} \\sin^{2}{\\left(\\theta \\right)} + 1} \\left(eccen^{2} \\cos^{3}{\\left(\\omega - \\theta \\right)} + eccen \\cos^{2}{\\left(\\omega - \\theta \\right)} + eccen \\cos{\\left(\\omega - \\theta \\right)} + 1\\right)}$",
      "text/plain": "-eccen**4*sma*sin(inc)**2*sin(theta)**2*sin(omega - theta)*cos(omega - theta)/(sqrt(-sin(inc)**2*sin(theta)**2 + 1)*(eccen**2*cos(omega - theta)**3 + eccen*cos(omega - theta)**2 + eccen*cos(omega - theta) + 1))"
     },
     "metadata": {},
     "output_type": "display_data"
    }
   ],
   "source": "outDump = [display(sp.simplify(tmp.args[i])) for i in np.arange(len(tmp.args))]"
  },
  {
   "cell_type": "code",
   "execution_count": null,
   "metadata": {},
   "outputs": [],
   "source": ""
  },
  {
   "cell_type": "code",
   "execution_count": null,
   "metadata": {},
   "outputs": [],
   "source": ""
  },
  {
   "cell_type": "code",
   "execution_count": null,
   "metadata": {},
   "outputs": [],
   "source": ""
  }
 ],
 "metadata": {
  "kernelspec": {
   "display_name": "Python 3",
   "language": "python",
   "name": "python3"
  },
  "language_info": {
   "codemirror_mode": {
    "name": "ipython",
    "version": 3
   },
   "file_extension": ".py",
   "mimetype": "text/x-python",
   "name": "python",
   "nbconvert_exporter": "python",
   "pygments_lexer": "ipython3",
   "version": "3.6.9"
  }
 },
 "nbformat": 4,
 "nbformat_minor": 4
}
