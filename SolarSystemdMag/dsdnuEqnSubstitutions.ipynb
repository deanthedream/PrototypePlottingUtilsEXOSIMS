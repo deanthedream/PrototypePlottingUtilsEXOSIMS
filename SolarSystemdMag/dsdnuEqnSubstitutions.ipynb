{
 "cells": [
  {
   "cell_type": "code",
   "execution_count": 80,
   "metadata": {},
   "outputs": [],
   "source": "import sympy as sp\nimport numpy as np\nfrom IPython.display import display"
  },
  {
   "cell_type": "code",
   "execution_count": 81,
   "metadata": {},
   "outputs": [],
   "source": "#### ds/dnu\nomega, xxx, inc, nu = sp.symbols('omega, xxx, inc, nu', real=True)\nsma, eccen, sep = sp.symbols('sma, eccen, sep', real=True, positive=True)"
  },
  {
   "cell_type": "code",
   "execution_count": 82,
   "metadata": {},
   "outputs": [],
   "source": "#The LHS here is 0\ndsbydnuzeros = ((eccen**2. *sma* sp.cos(inc)**2. - 1.)*sp.sin(nu+omega)*sp.cos(nu+omega))/ ((eccen*sp.cos(nu) + 1.)*sp.sqrt(sp.sin(nu+omega)**2.*sp.cos(inc)**2. + sp.cos(nu+omega)**2.)  )\\\n    + eccen**3.* sma* sp.sin(nu)* sp.sqrt(sp.sin(nu+omega)**2.*sp.cos(inc)**2. + sp.cos(nu+omega)**2.)/(eccen*sp.cos(nu)**2. + 1)"
  },
  {
   "cell_type": "code",
   "execution_count": 83,
   "metadata": {},
   "outputs": [
    {
     "data": {
      "text/latex": "$\\displaystyle \\frac{eccen^{3.0} sma \\sqrt{\\sin^{2.0}{\\left(\\nu + \\omega \\right)} \\cos^{2.0}{\\left(inc \\right)} + \\cos^{2.0}{\\left(\\nu + \\omega \\right)}} \\sin{\\left(\\nu \\right)}}{eccen \\cos^{2.0}{\\left(\\nu \\right)} + 1} + \\frac{\\left(eccen^{2.0} sma \\cos^{2.0}{\\left(inc \\right)} - 1.0\\right) \\sin{\\left(\\nu + \\omega \\right)} \\cos{\\left(\\nu + \\omega \\right)}}{\\left(eccen \\cos{\\left(\\nu \\right)} + 1.0\\right) \\sqrt{\\sin^{2.0}{\\left(\\nu + \\omega \\right)} \\cos^{2.0}{\\left(inc \\right)} + \\cos^{2.0}{\\left(\\nu + \\omega \\right)}}}$",
      "text/plain": "eccen**3.0*sma*sqrt(sin(nu + omega)**2.0*cos(inc)**2.0 + cos(nu + omega)**2.0)*sin(nu)/(eccen*cos(nu)**2.0 + 1) + (eccen**2.0*sma*cos(inc)**2.0 - 1.0)*sin(nu + omega)*cos(nu + omega)/((eccen*cos(nu) + 1.0)*sqrt(sin(nu + omega)**2.0*cos(inc)**2.0 + cos(nu + omega)**2.0))"
     },
     "execution_count": 83,
     "metadata": {},
     "output_type": "execute_result"
    }
   ],
   "source": "dsbydnuzeros"
  },
  {
   "cell_type": "code",
   "execution_count": 84,
   "metadata": {},
   "outputs": [],
   "source": "#Cross multiply to remove denominators    \ndsbydnuzeros_1 = (eccen*sp.cos(nu)**2. + 1)*(eccen**2.*sma*sp.cos(inc)**2. - 1.)*sp.sin(nu+omega)*sp.cos(nu+omega)\\\n    + eccen**3.*sma*sp.sin(nu)*(sp.sin(nu+omega)**2.*sp.cos(inc)**2. + sp.cos(nu+omega)**2.)*(eccen*sp.cos(nu) + 1.)"
  },
  {
   "cell_type": "code",
   "execution_count": 85,
   "metadata": {},
   "outputs": [],
   "source": "#sp.expand(dsbydnuzeros_1)"
  },
  {
   "cell_type": "code",
   "execution_count": 86,
   "metadata": {},
   "outputs": [
    {
     "data": {
      "text/latex": "$\\displaystyle - 1.0 \\sin{\\left(\\nu + \\omega \\right)} \\cos{\\left(\\nu + \\omega \\right)}$",
      "text/plain": "-1.0*sin(nu + omega)*cos(nu + omega)"
     },
     "metadata": {},
     "output_type": "display_data"
    },
    {
     "data": {
      "text/latex": "$\\displaystyle 1.0 eccen^{3.0} sma \\sin{\\left(\\nu \\right)} \\cos^{2.0}{\\left(\\nu + \\omega \\right)}$",
      "text/plain": "1.0*eccen**3.0*sma*sin(nu)*cos(nu + omega)**2.0"
     },
     "metadata": {},
     "output_type": "display_data"
    },
    {
     "data": {
      "text/latex": "$\\displaystyle - 1.0 eccen \\sin{\\left(\\nu + \\omega \\right)} \\cos^{2.0}{\\left(\\nu \\right)} \\cos{\\left(\\nu + \\omega \\right)}$",
      "text/plain": "-1.0*eccen*sin(nu + omega)*cos(nu)**2.0*cos(nu + omega)"
     },
     "metadata": {},
     "output_type": "display_data"
    },
    {
     "data": {
      "text/latex": "$\\displaystyle eccen^{2.0} sma \\sin{\\left(\\nu + \\omega \\right)} \\cos^{2.0}{\\left(inc \\right)} \\cos{\\left(\\nu + \\omega \\right)}$",
      "text/plain": "eccen**2.0*sma*sin(nu + omega)*cos(inc)**2.0*cos(nu + omega)"
     },
     "metadata": {},
     "output_type": "display_data"
    },
    {
     "data": {
      "text/latex": "$\\displaystyle eccen^{4.0} sma \\sin{\\left(\\nu \\right)} \\cos{\\left(\\nu \\right)} \\cos^{2.0}{\\left(\\nu + \\omega \\right)}$",
      "text/plain": "eccen**4.0*sma*sin(nu)*cos(nu)*cos(nu + omega)**2.0"
     },
     "metadata": {},
     "output_type": "display_data"
    },
    {
     "data": {
      "text/latex": "$\\displaystyle 1.0 eccen^{3.0} sma \\sin{\\left(\\nu \\right)} \\sin^{2.0}{\\left(\\nu + \\omega \\right)} \\cos^{2.0}{\\left(inc \\right)}$",
      "text/plain": "1.0*eccen**3.0*sma*sin(nu)*sin(nu + omega)**2.0*cos(inc)**2.0"
     },
     "metadata": {},
     "output_type": "display_data"
    },
    {
     "data": {
      "text/latex": "$\\displaystyle eccen^{4.0} sma \\sin{\\left(\\nu \\right)} \\sin^{2.0}{\\left(\\nu + \\omega \\right)} \\cos^{2.0}{\\left(inc \\right)} \\cos{\\left(\\nu \\right)}$",
      "text/plain": "eccen**4.0*sma*sin(nu)*sin(nu + omega)**2.0*cos(inc)**2.0*cos(nu)"
     },
     "metadata": {},
     "output_type": "display_data"
    },
    {
     "data": {
      "text/latex": "$\\displaystyle eccen^{3.0} sma \\sin{\\left(\\nu + \\omega \\right)} \\cos^{2.0}{\\left(inc \\right)} \\cos^{2.0}{\\left(\\nu \\right)} \\cos{\\left(\\nu + \\omega \\right)}$",
      "text/plain": "eccen**3.0*sma*sin(nu + omega)*cos(inc)**2.0*cos(nu)**2.0*cos(nu + omega)"
     },
     "metadata": {},
     "output_type": "display_data"
    }
   ],
   "source": "outDump0 = [display(sp.expand(dsbydnuzeros_1).args[i]) for i in np.arange(len(sp.expand(dsbydnuzeros_1).args))]"
  },
  {
   "cell_type": "code",
   "execution_count": 87,
   "metadata": {},
   "outputs": [],
   "source": "#### ddsddnu\nddsddnu = sp.diff(dsbydnuzeros_1,nu)"
  },
  {
   "cell_type": "code",
   "execution_count": 88,
   "metadata": {
    "scrolled": true
   },
   "outputs": [],
   "source": "#sp.expand(ddsddnu)"
  },
  {
   "cell_type": "code",
   "execution_count": null,
   "metadata": {},
   "outputs": [],
   "source": "sp.expand(ddsddnu)"
  },
  {
   "cell_type": "code",
   "execution_count": 89,
   "metadata": {},
   "outputs": [
    {
     "data": {
      "text/latex": "$\\displaystyle 1.0 \\sin^{2}{\\left(\\nu + \\omega \\right)}$",
      "text/plain": "1.0*sin(nu + omega)**2"
     },
     "metadata": {},
     "output_type": "display_data"
    },
    {
     "data": {
      "text/latex": "$\\displaystyle - 1.0 \\cos^{2}{\\left(\\nu + \\omega \\right)}$",
      "text/plain": "-1.0*cos(nu + omega)**2"
     },
     "metadata": {},
     "output_type": "display_data"
    },
    {
     "data": {
      "text/latex": "$\\displaystyle 1.0 eccen \\sin^{2}{\\left(\\nu + \\omega \\right)} \\cos^{2.0}{\\left(\\nu \\right)}$",
      "text/plain": "1.0*eccen*sin(nu + omega)**2*cos(nu)**2.0"
     },
     "metadata": {},
     "output_type": "display_data"
    },
    {
     "data": {
      "text/latex": "$\\displaystyle - 1.0 eccen \\cos^{2.0}{\\left(\\nu \\right)} \\cos^{2}{\\left(\\nu + \\omega \\right)}$",
      "text/plain": "-1.0*eccen*cos(nu)**2.0*cos(nu + omega)**2"
     },
     "metadata": {},
     "output_type": "display_data"
    },
    {
     "data": {
      "text/latex": "$\\displaystyle eccen^{2.0} sma \\cos^{2.0}{\\left(inc \\right)} \\cos^{2}{\\left(\\nu + \\omega \\right)}$",
      "text/plain": "eccen**2.0*sma*cos(inc)**2.0*cos(nu + omega)**2"
     },
     "metadata": {},
     "output_type": "display_data"
    },
    {
     "data": {
      "text/latex": "$\\displaystyle eccen^{4.0} sma \\cos^{2}{\\left(\\nu \\right)} \\cos^{2.0}{\\left(\\nu + \\omega \\right)}$",
      "text/plain": "eccen**4.0*sma*cos(nu)**2*cos(nu + omega)**2.0"
     },
     "metadata": {},
     "output_type": "display_data"
    },
    {
     "data": {
      "text/latex": "$\\displaystyle - eccen^{2.0} sma \\sin^{2}{\\left(\\nu + \\omega \\right)} \\cos^{2.0}{\\left(inc \\right)}$",
      "text/plain": "-eccen**2.0*sma*sin(nu + omega)**2*cos(inc)**2.0"
     },
     "metadata": {},
     "output_type": "display_data"
    },
    {
     "data": {
      "text/latex": "$\\displaystyle - eccen^{4.0} sma \\sin^{2}{\\left(\\nu \\right)} \\cos^{2.0}{\\left(\\nu + \\omega \\right)}$",
      "text/plain": "-eccen**4.0*sma*sin(nu)**2*cos(nu + omega)**2.0"
     },
     "metadata": {},
     "output_type": "display_data"
    },
    {
     "data": {
      "text/latex": "$\\displaystyle 1.0 eccen^{3.0} sma \\cos{\\left(\\nu \\right)} \\cos^{2.0}{\\left(\\nu + \\omega \\right)}$",
      "text/plain": "1.0*eccen**3.0*sma*cos(nu)*cos(nu + omega)**2.0"
     },
     "metadata": {},
     "output_type": "display_data"
    },
    {
     "data": {
      "text/latex": "$\\displaystyle eccen^{4.0} sma \\sin^{2.0}{\\left(\\nu + \\omega \\right)} \\cos^{2.0}{\\left(inc \\right)} \\cos^{2}{\\left(\\nu \\right)}$",
      "text/plain": "eccen**4.0*sma*sin(nu + omega)**2.0*cos(inc)**2.0*cos(nu)**2"
     },
     "metadata": {},
     "output_type": "display_data"
    },
    {
     "data": {
      "text/latex": "$\\displaystyle eccen^{3.0} sma \\cos^{2.0}{\\left(inc \\right)} \\cos^{2.0}{\\left(\\nu \\right)} \\cos^{2}{\\left(\\nu + \\omega \\right)}$",
      "text/plain": "eccen**3.0*sma*cos(inc)**2.0*cos(nu)**2.0*cos(nu + omega)**2"
     },
     "metadata": {},
     "output_type": "display_data"
    },
    {
     "data": {
      "text/latex": "$\\displaystyle - eccen^{4.0} sma \\sin^{2}{\\left(\\nu \\right)} \\sin^{2.0}{\\left(\\nu + \\omega \\right)} \\cos^{2.0}{\\left(inc \\right)}$",
      "text/plain": "-eccen**4.0*sma*sin(nu)**2*sin(nu + omega)**2.0*cos(inc)**2.0"
     },
     "metadata": {},
     "output_type": "display_data"
    },
    {
     "data": {
      "text/latex": "$\\displaystyle - eccen^{3.0} sma \\sin^{2}{\\left(\\nu + \\omega \\right)} \\cos^{2.0}{\\left(inc \\right)} \\cos^{2.0}{\\left(\\nu \\right)}$",
      "text/plain": "-eccen**3.0*sma*sin(nu + omega)**2*cos(inc)**2.0*cos(nu)**2.0"
     },
     "metadata": {},
     "output_type": "display_data"
    },
    {
     "data": {
      "text/latex": "$\\displaystyle 1.0 eccen^{3.0} sma \\sin^{2.0}{\\left(\\nu + \\omega \\right)} \\cos^{2.0}{\\left(inc \\right)} \\cos{\\left(\\nu \\right)}$",
      "text/plain": "1.0*eccen**3.0*sma*sin(nu + omega)**2.0*cos(inc)**2.0*cos(nu)"
     },
     "metadata": {},
     "output_type": "display_data"
    },
    {
     "data": {
      "text/latex": "$\\displaystyle 2.0 eccen \\sin{\\left(\\nu \\right)} \\sin{\\left(\\nu + \\omega \\right)} \\cos^{1.0}{\\left(\\nu \\right)} \\cos{\\left(\\nu + \\omega \\right)}$",
      "text/plain": "2.0*eccen*sin(nu)*sin(nu + omega)*cos(nu)**1.0*cos(nu + omega)"
     },
     "metadata": {},
     "output_type": "display_data"
    },
    {
     "data": {
      "text/latex": "$\\displaystyle - 2.0 eccen^{3.0} sma \\sin{\\left(\\nu \\right)} \\sin{\\left(\\nu + \\omega \\right)} \\cos^{1.0}{\\left(\\nu + \\omega \\right)}$",
      "text/plain": "-2.0*eccen**3.0*sma*sin(nu)*sin(nu + omega)*cos(nu + omega)**1.0"
     },
     "metadata": {},
     "output_type": "display_data"
    },
    {
     "data": {
      "text/latex": "$\\displaystyle 2.0 eccen^{3.0} sma \\sin{\\left(\\nu \\right)} \\sin^{1.0}{\\left(\\nu + \\omega \\right)} \\cos^{2.0}{\\left(inc \\right)} \\cos{\\left(\\nu + \\omega \\right)}$",
      "text/plain": "2.0*eccen**3.0*sma*sin(nu)*sin(nu + omega)**1.0*cos(inc)**2.0*cos(nu + omega)"
     },
     "metadata": {},
     "output_type": "display_data"
    },
    {
     "data": {
      "text/latex": "$\\displaystyle - 2.0 eccen^{4.0} sma \\sin{\\left(\\nu \\right)} \\sin{\\left(\\nu + \\omega \\right)} \\cos{\\left(\\nu \\right)} \\cos^{1.0}{\\left(\\nu + \\omega \\right)}$",
      "text/plain": "-2.0*eccen**4.0*sma*sin(nu)*sin(nu + omega)*cos(nu)*cos(nu + omega)**1.0"
     },
     "metadata": {},
     "output_type": "display_data"
    },
    {
     "data": {
      "text/latex": "$\\displaystyle 2.0 eccen^{4.0} sma \\sin{\\left(\\nu \\right)} \\sin^{1.0}{\\left(\\nu + \\omega \\right)} \\cos^{2.0}{\\left(inc \\right)} \\cos{\\left(\\nu \\right)} \\cos{\\left(\\nu + \\omega \\right)}$",
      "text/plain": "2.0*eccen**4.0*sma*sin(nu)*sin(nu + omega)**1.0*cos(inc)**2.0*cos(nu)*cos(nu + omega)"
     },
     "metadata": {},
     "output_type": "display_data"
    },
    {
     "data": {
      "text/latex": "$\\displaystyle - 2.0 eccen^{3.0} sma \\sin{\\left(\\nu \\right)} \\sin{\\left(\\nu + \\omega \\right)} \\cos^{2.0}{\\left(inc \\right)} \\cos^{1.0}{\\left(\\nu \\right)} \\cos{\\left(\\nu + \\omega \\right)}$",
      "text/plain": "-2.0*eccen**3.0*sma*sin(nu)*sin(nu + omega)*cos(inc)**2.0*cos(nu)**1.0*cos(nu + omega)"
     },
     "metadata": {},
     "output_type": "display_data"
    }
   ],
   "source": "outDump1 = [display(sp.expand(ddsddnu).args[i]) for i in np.arange(len(sp.expand(ddsddnu).args))]"
  },
  {
   "cell_type": "code",
   "execution_count": 90,
   "metadata": {},
   "outputs": [],
   "source": "sqrtSimplifier = sp.sqrt(sp.sin(nu+omega)**2. * sp.cos(inc)**2. + sp.cos(nu+omega)**2.)"
  },
  {
   "cell_type": "code",
   "execution_count": 91,
   "metadata": {},
   "outputs": [
    {
     "data": {
      "text/latex": "$\\displaystyle \\sqrt{\\sin^{2.0}{\\left(\\nu + \\omega \\right)} \\cos^{2.0}{\\left(inc \\right)} + \\cos^{2.0}{\\left(\\nu + \\omega \\right)}}$",
      "text/plain": "sqrt(sin(nu + omega)**2.0*cos(inc)**2.0 + cos(nu + omega)**2.0)"
     },
     "execution_count": 91,
     "metadata": {},
     "output_type": "execute_result"
    }
   ],
   "source": "sqrtSimplifier"
  },
  {
   "cell_type": "code",
   "execution_count": 92,
   "metadata": {},
   "outputs": [],
   "source": "gamma = sp.symbols('gamma', positive=True, real=True)"
  },
  {
   "cell_type": "code",
   "execution_count": 93,
   "metadata": {},
   "outputs": [],
   "source": "tmp = sp.expand((ddsddnu-dsbydnuzeros_1).subs(sqrtSimplifier,gamma))"
  },
  {
   "cell_type": "code",
   "execution_count": null,
   "metadata": {},
   "outputs": [],
   "source": ""
  },
  {
   "cell_type": "code",
   "execution_count": 94,
   "metadata": {
    "scrolled": true
   },
   "outputs": [],
   "source": "#tmp.args"
  },
  {
   "cell_type": "code",
   "execution_count": 95,
   "metadata": {},
   "outputs": [
    {
     "data": {
      "text/plain": "28"
     },
     "execution_count": 95,
     "metadata": {},
     "output_type": "execute_result"
    }
   ],
   "source": "len(tmp.args)"
  },
  {
   "cell_type": "code",
   "execution_count": 96,
   "metadata": {
    "scrolled": false
   },
   "outputs": [
    {
     "data": {
      "text/latex": "$\\displaystyle 1.0 \\sin^{2}{\\left(\\nu + \\omega \\right)}$",
      "text/plain": "1.0*sin(nu + omega)**2"
     },
     "metadata": {},
     "output_type": "display_data"
    },
    {
     "data": {
      "text/latex": "$\\displaystyle - 1.0 \\cos^{2}{\\left(\\nu + \\omega \\right)}$",
      "text/plain": "-1.0*cos(nu + omega)**2"
     },
     "metadata": {},
     "output_type": "display_data"
    },
    {
     "data": {
      "text/latex": "$\\displaystyle 0.5 \\sin{\\left(2 \\nu + 2 \\omega \\right)}$",
      "text/plain": "0.5*sin(2*nu + 2*omega)"
     },
     "metadata": {},
     "output_type": "display_data"
    },
    {
     "data": {
      "text/latex": "$\\displaystyle 1.0 eccen \\sin^{2}{\\left(\\nu + \\omega \\right)} \\cos^{2.0}{\\left(\\nu \\right)}$",
      "text/plain": "1.0*eccen*sin(nu + omega)**2*cos(nu)**2.0"
     },
     "metadata": {},
     "output_type": "display_data"
    },
    {
     "data": {
      "text/latex": "$\\displaystyle - 1.0 eccen \\cos^{2.0}{\\left(\\nu \\right)} \\cos^{2}{\\left(\\nu + \\omega \\right)}$",
      "text/plain": "-1.0*eccen*cos(nu)**2.0*cos(nu + omega)**2"
     },
     "metadata": {},
     "output_type": "display_data"
    },
    {
     "data": {
      "text/latex": "$\\displaystyle eccen^{2.0} sma \\cos^{2.0}{\\left(inc \\right)} \\cos^{2}{\\left(\\nu + \\omega \\right)}$",
      "text/plain": "eccen**2.0*sma*cos(inc)**2.0*cos(nu + omega)**2"
     },
     "metadata": {},
     "output_type": "display_data"
    },
    {
     "data": {
      "text/latex": "$\\displaystyle eccen^{4.0} sma \\cos^{2}{\\left(\\nu \\right)} \\cos^{2.0}{\\left(\\nu + \\omega \\right)}$",
      "text/plain": "eccen**4.0*sma*cos(nu)**2*cos(nu + omega)**2.0"
     },
     "metadata": {},
     "output_type": "display_data"
    },
    {
     "data": {
      "text/latex": "$\\displaystyle - eccen^{2.0} sma \\sin^{2}{\\left(\\nu + \\omega \\right)} \\cos^{2.0}{\\left(inc \\right)}$",
      "text/plain": "-eccen**2.0*sma*sin(nu + omega)**2*cos(inc)**2.0"
     },
     "metadata": {},
     "output_type": "display_data"
    },
    {
     "data": {
      "text/latex": "$\\displaystyle - eccen^{4.0} sma \\sin^{2}{\\left(\\nu \\right)} \\cos^{2.0}{\\left(\\nu + \\omega \\right)}$",
      "text/plain": "-eccen**4.0*sma*sin(nu)**2*cos(nu + omega)**2.0"
     },
     "metadata": {},
     "output_type": "display_data"
    },
    {
     "data": {
      "text/latex": "$\\displaystyle 1.0 eccen \\sin{\\left(\\nu + \\omega \\right)} \\cos^{2.0}{\\left(\\nu \\right)} \\cos{\\left(\\nu + \\omega \\right)}$",
      "text/plain": "1.0*eccen*sin(nu + omega)*cos(nu)**2.0*cos(nu + omega)"
     },
     "metadata": {},
     "output_type": "display_data"
    },
    {
     "data": {
      "text/latex": "$\\displaystyle 1.0 eccen^{3.0} sma \\cos{\\left(\\nu \\right)} \\cos^{2.0}{\\left(\\nu + \\omega \\right)}$",
      "text/plain": "1.0*eccen**3.0*sma*cos(nu)*cos(nu + omega)**2.0"
     },
     "metadata": {},
     "output_type": "display_data"
    },
    {
     "data": {
      "text/latex": "$\\displaystyle - 1.0 eccen^{3.0} sma \\sin{\\left(\\nu \\right)} \\cos^{2.0}{\\left(\\nu + \\omega \\right)}$",
      "text/plain": "-1.0*eccen**3.0*sma*sin(nu)*cos(nu + omega)**2.0"
     },
     "metadata": {},
     "output_type": "display_data"
    },
    {
     "data": {
      "text/latex": "$\\displaystyle eccen^{4.0} sma \\sin^{2.0}{\\left(\\nu + \\omega \\right)} \\cos^{2.0}{\\left(inc \\right)} \\cos^{2}{\\left(\\nu \\right)}$",
      "text/plain": "eccen**4.0*sma*sin(nu + omega)**2.0*cos(inc)**2.0*cos(nu)**2"
     },
     "metadata": {},
     "output_type": "display_data"
    },
    {
     "data": {
      "text/latex": "$\\displaystyle eccen^{3.0} sma \\cos^{2.0}{\\left(inc \\right)} \\cos^{2.0}{\\left(\\nu \\right)} \\cos^{2}{\\left(\\nu + \\omega \\right)}$",
      "text/plain": "eccen**3.0*sma*cos(inc)**2.0*cos(nu)**2.0*cos(nu + omega)**2"
     },
     "metadata": {},
     "output_type": "display_data"
    },
    {
     "data": {
      "text/latex": "$\\displaystyle - eccen^{2.0} sma \\sin{\\left(\\nu + \\omega \\right)} \\cos^{2.0}{\\left(inc \\right)} \\cos{\\left(\\nu + \\omega \\right)}$",
      "text/plain": "-eccen**2.0*sma*sin(nu + omega)*cos(inc)**2.0*cos(nu + omega)"
     },
     "metadata": {},
     "output_type": "display_data"
    },
    {
     "data": {
      "text/latex": "$\\displaystyle - eccen^{4.0} sma \\sin^{2}{\\left(\\nu \\right)} \\sin^{2.0}{\\left(\\nu + \\omega \\right)} \\cos^{2.0}{\\left(inc \\right)}$",
      "text/plain": "-eccen**4.0*sma*sin(nu)**2*sin(nu + omega)**2.0*cos(inc)**2.0"
     },
     "metadata": {},
     "output_type": "display_data"
    },
    {
     "data": {
      "text/latex": "$\\displaystyle - \\frac{eccen^{4.0} sma \\sin{\\left(2 \\nu \\right)} \\cos^{2.0}{\\left(\\nu + \\omega \\right)}}{2}$",
      "text/plain": "-eccen**4.0*sma*sin(2*nu)*cos(nu + omega)**2.0/2"
     },
     "metadata": {},
     "output_type": "display_data"
    },
    {
     "data": {
      "text/latex": "$\\displaystyle - eccen^{3.0} sma \\sin^{2}{\\left(\\nu + \\omega \\right)} \\cos^{2.0}{\\left(inc \\right)} \\cos^{2.0}{\\left(\\nu \\right)}$",
      "text/plain": "-eccen**3.0*sma*sin(nu + omega)**2*cos(inc)**2.0*cos(nu)**2.0"
     },
     "metadata": {},
     "output_type": "display_data"
    },
    {
     "data": {
      "text/latex": "$\\displaystyle 1.0 eccen^{3.0} sma \\sin^{2.0}{\\left(\\nu + \\omega \\right)} \\cos^{2.0}{\\left(inc \\right)} \\cos{\\left(\\nu \\right)}$",
      "text/plain": "1.0*eccen**3.0*sma*sin(nu + omega)**2.0*cos(inc)**2.0*cos(nu)"
     },
     "metadata": {},
     "output_type": "display_data"
    },
    {
     "data": {
      "text/latex": "$\\displaystyle 0.5 eccen \\left(\\cos{\\left(\\nu + 2 \\omega \\right)} - \\cos{\\left(3 \\nu + 2 \\omega \\right)}\\right) \\cos^{1.0}{\\left(\\nu \\right)}$",
      "text/plain": "0.5*eccen*(cos(nu + 2*omega) - cos(3*nu + 2*omega))*cos(nu)**1.0"
     },
     "metadata": {},
     "output_type": "display_data"
    },
    {
     "data": {
      "text/latex": "$\\displaystyle - 1.0 eccen^{3.0} sma \\sin{\\left(\\nu \\right)} \\sin^{2.0}{\\left(\\nu + \\omega \\right)} \\cos^{2.0}{\\left(inc \\right)}$",
      "text/plain": "-1.0*eccen**3.0*sma*sin(nu)*sin(nu + omega)**2.0*cos(inc)**2.0"
     },
     "metadata": {},
     "output_type": "display_data"
    },
    {
     "data": {
      "text/latex": "$\\displaystyle - 2.0 eccen^{3.0} sma \\sin{\\left(\\nu \\right)} \\sin{\\left(\\nu + \\omega \\right)} \\cos^{1.0}{\\left(\\nu + \\omega \\right)}$",
      "text/plain": "-2.0*eccen**3.0*sma*sin(nu)*sin(nu + omega)*cos(nu + omega)**1.0"
     },
     "metadata": {},
     "output_type": "display_data"
    },
    {
     "data": {
      "text/latex": "$\\displaystyle - eccen^{4.0} sma \\sin{\\left(\\nu \\right)} \\sin^{2.0}{\\left(\\nu + \\omega \\right)} \\cos^{2.0}{\\left(inc \\right)} \\cos{\\left(\\nu \\right)}$",
      "text/plain": "-eccen**4.0*sma*sin(nu)*sin(nu + omega)**2.0*cos(inc)**2.0*cos(nu)"
     },
     "metadata": {},
     "output_type": "display_data"
    },
    {
     "data": {
      "text/latex": "$\\displaystyle - eccen^{3.0} sma \\sin{\\left(\\nu + \\omega \\right)} \\cos^{2.0}{\\left(inc \\right)} \\cos^{2.0}{\\left(\\nu \\right)} \\cos{\\left(\\nu + \\omega \\right)}$",
      "text/plain": "-eccen**3.0*sma*sin(nu + omega)*cos(inc)**2.0*cos(nu)**2.0*cos(nu + omega)"
     },
     "metadata": {},
     "output_type": "display_data"
    },
    {
     "data": {
      "text/latex": "$\\displaystyle 2.0 eccen^{3.0} sma \\sin{\\left(\\nu \\right)} \\sin^{1.0}{\\left(\\nu + \\omega \\right)} \\cos^{2.0}{\\left(inc \\right)} \\cos{\\left(\\nu + \\omega \\right)}$",
      "text/plain": "2.0*eccen**3.0*sma*sin(nu)*sin(nu + omega)**1.0*cos(inc)**2.0*cos(nu + omega)"
     },
     "metadata": {},
     "output_type": "display_data"
    },
    {
     "data": {
      "text/latex": "$\\displaystyle - 0.5 eccen^{4.0} sma \\left(\\cos{\\left(\\nu - \\omega \\right)} - \\cos{\\left(3 \\nu + \\omega \\right)}\\right) \\cos^{1.0}{\\left(\\nu + \\omega \\right)}$",
      "text/plain": "-0.5*eccen**4.0*sma*(cos(nu - omega) - cos(3*nu + omega))*cos(nu + omega)**1.0"
     },
     "metadata": {},
     "output_type": "display_data"
    },
    {
     "data": {
      "text/latex": "$\\displaystyle 2.0 eccen^{4.0} sma \\sin{\\left(\\nu \\right)} \\sin^{1.0}{\\left(\\nu + \\omega \\right)} \\cos^{2.0}{\\left(inc \\right)} \\cos{\\left(\\nu \\right)} \\cos{\\left(\\nu + \\omega \\right)}$",
      "text/plain": "2.0*eccen**4.0*sma*sin(nu)*sin(nu + omega)**1.0*cos(inc)**2.0*cos(nu)*cos(nu + omega)"
     },
     "metadata": {},
     "output_type": "display_data"
    },
    {
     "data": {
      "text/latex": "$\\displaystyle - 2.0 eccen^{3.0} sma \\sin{\\left(\\nu \\right)} \\sin{\\left(\\nu + \\omega \\right)} \\cos^{2.0}{\\left(inc \\right)} \\cos^{1.0}{\\left(\\nu \\right)} \\cos{\\left(\\nu + \\omega \\right)}$",
      "text/plain": "-2.0*eccen**3.0*sma*sin(nu)*sin(nu + omega)*cos(inc)**2.0*cos(nu)**1.0*cos(nu + omega)"
     },
     "metadata": {},
     "output_type": "display_data"
    }
   ],
   "source": "outDump = [display(sp.simplify(tmp.args[i])) for i in np.arange(len(tmp.args))]"
  },
  {
   "cell_type": "code",
   "execution_count": null,
   "metadata": {},
   "outputs": [],
   "source": ""
  },
  {
   "cell_type": "code",
   "execution_count": null,
   "metadata": {},
   "outputs": [],
   "source": ""
  },
  {
   "cell_type": "code",
   "execution_count": null,
   "metadata": {},
   "outputs": [],
   "source": ""
  }
 ],
 "metadata": {
  "kernelspec": {
   "display_name": "Python 3",
   "language": "python",
   "name": "python3"
  },
  "language_info": {
   "codemirror_mode": {
    "name": "ipython",
    "version": 3
   },
   "file_extension": ".py",
   "mimetype": "text/x-python",
   "name": "python",
   "nbconvert_exporter": "python",
   "pygments_lexer": "ipython3",
   "version": "3.6.9"
  }
 },
 "nbformat": 4,
 "nbformat_minor": 4
}
