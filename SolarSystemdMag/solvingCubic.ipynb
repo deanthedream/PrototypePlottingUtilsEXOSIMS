{
 "cells": [
  {
   "cell_type": "markdown",
   "metadata": {},
   "source": [
    "# Solving Cubic"
   ]
  },
  {
   "cell_type": "code",
   "execution_count": 1,
   "metadata": {},
   "outputs": [],
   "source": [
    "import sympy as sp"
   ]
  },
  {
   "cell_type": "code",
   "execution_count": 7,
   "metadata": {},
   "outputs": [],
   "source": [
    "x, a2, a1, a0 = sp.symbols('x a2 a1 a0')"
   ]
  },
  {
   "cell_type": "code",
   "execution_count": 8,
   "metadata": {},
   "outputs": [],
   "source": [
    "out = sp.solve(x**3 + a2*x**2 + a1*x + a0,x)"
   ]
  },
  {
   "cell_type": "code",
   "execution_count": 9,
   "metadata": {},
   "outputs": [
    {
     "data": {
      "text/plain": [
       "[-a2/3 - (-3*a1 + a2**2)/(3*(27*a0/2 - 9*a1*a2/2 + a2**3 + sqrt(-4*(-3*a1 + a2**2)**3 + (27*a0 - 9*a1*a2 + 2*a2**3)**2)/2)**(1/3)) - (27*a0/2 - 9*a1*a2/2 + a2**3 + sqrt(-4*(-3*a1 + a2**2)**3 + (27*a0 - 9*a1*a2 + 2*a2**3)**2)/2)**(1/3)/3,\n",
       " -a2/3 - (-3*a1 + a2**2)/(3*(-1/2 - sqrt(3)*I/2)*(27*a0/2 - 9*a1*a2/2 + a2**3 + sqrt(-4*(-3*a1 + a2**2)**3 + (27*a0 - 9*a1*a2 + 2*a2**3)**2)/2)**(1/3)) - (-1/2 - sqrt(3)*I/2)*(27*a0/2 - 9*a1*a2/2 + a2**3 + sqrt(-4*(-3*a1 + a2**2)**3 + (27*a0 - 9*a1*a2 + 2*a2**3)**2)/2)**(1/3)/3,\n",
       " -a2/3 - (-3*a1 + a2**2)/(3*(-1/2 + sqrt(3)*I/2)*(27*a0/2 - 9*a1*a2/2 + a2**3 + sqrt(-4*(-3*a1 + a2**2)**3 + (27*a0 - 9*a1*a2 + 2*a2**3)**2)/2)**(1/3)) - (-1/2 + sqrt(3)*I/2)*(27*a0/2 - 9*a1*a2/2 + a2**3 + sqrt(-4*(-3*a1 + a2**2)**3 + (27*a0 - 9*a1*a2 + 2*a2**3)**2)/2)**(1/3)/3]"
      ]
     },
     "execution_count": 9,
     "metadata": {},
     "output_type": "execute_result"
    }
   ],
   "source": [
    "out"
   ]
  },
  {
   "cell_type": "code",
   "execution_count": 10,
   "metadata": {},
   "outputs": [
    {
     "data": {
      "text/latex": [
       "$\\displaystyle - \\frac{a_{2}}{3} - \\frac{- 3 a_{1} + a_{2}^{2}}{3 \\sqrt[3]{\\frac{27 a_{0}}{2} - \\frac{9 a_{1} a_{2}}{2} + a_{2}^{3} + \\frac{\\sqrt{- 4 \\left(- 3 a_{1} + a_{2}^{2}\\right)^{3} + \\left(27 a_{0} - 9 a_{1} a_{2} + 2 a_{2}^{3}\\right)^{2}}}{2}}} - \\frac{\\sqrt[3]{\\frac{27 a_{0}}{2} - \\frac{9 a_{1} a_{2}}{2} + a_{2}^{3} + \\frac{\\sqrt{- 4 \\left(- 3 a_{1} + a_{2}^{2}\\right)^{3} + \\left(27 a_{0} - 9 a_{1} a_{2} + 2 a_{2}^{3}\\right)^{2}}}{2}}}{3}$"
      ],
      "text/plain": [
       "-a2/3 - (-3*a1 + a2**2)/(3*(27*a0/2 - 9*a1*a2/2 + a2**3 + sqrt(-4*(-3*a1 + a2**2)**3 + (27*a0 - 9*a1*a2 + 2*a2**3)**2)/2)**(1/3)) - (27*a0/2 - 9*a1*a2/2 + a2**3 + sqrt(-4*(-3*a1 + a2**2)**3 + (27*a0 - 9*a1*a2 + 2*a2**3)**2)/2)**(1/3)/3"
      ]
     },
     "execution_count": 10,
     "metadata": {},
     "output_type": "execute_result"
    }
   ],
   "source": [
    "out[0]"
   ]
  },
  {
   "cell_type": "code",
   "execution_count": 11,
   "metadata": {},
   "outputs": [
    {
     "data": {
      "text/latex": [
       "$\\displaystyle - \\frac{a_{2}}{3} - \\frac{- 3 a_{1} + a_{2}^{2}}{3 \\left(- \\frac{1}{2} - \\frac{\\sqrt{3} i}{2}\\right) \\sqrt[3]{\\frac{27 a_{0}}{2} - \\frac{9 a_{1} a_{2}}{2} + a_{2}^{3} + \\frac{\\sqrt{- 4 \\left(- 3 a_{1} + a_{2}^{2}\\right)^{3} + \\left(27 a_{0} - 9 a_{1} a_{2} + 2 a_{2}^{3}\\right)^{2}}}{2}}} - \\frac{\\left(- \\frac{1}{2} - \\frac{\\sqrt{3} i}{2}\\right) \\sqrt[3]{\\frac{27 a_{0}}{2} - \\frac{9 a_{1} a_{2}}{2} + a_{2}^{3} + \\frac{\\sqrt{- 4 \\left(- 3 a_{1} + a_{2}^{2}\\right)^{3} + \\left(27 a_{0} - 9 a_{1} a_{2} + 2 a_{2}^{3}\\right)^{2}}}{2}}}{3}$"
      ],
      "text/plain": [
       "-a2/3 - (-3*a1 + a2**2)/(3*(-1/2 - sqrt(3)*I/2)*(27*a0/2 - 9*a1*a2/2 + a2**3 + sqrt(-4*(-3*a1 + a2**2)**3 + (27*a0 - 9*a1*a2 + 2*a2**3)**2)/2)**(1/3)) - (-1/2 - sqrt(3)*I/2)*(27*a0/2 - 9*a1*a2/2 + a2**3 + sqrt(-4*(-3*a1 + a2**2)**3 + (27*a0 - 9*a1*a2 + 2*a2**3)**2)/2)**(1/3)/3"
      ]
     },
     "execution_count": 11,
     "metadata": {},
     "output_type": "execute_result"
    }
   ],
   "source": [
    "out[1]"
   ]
  },
  {
   "cell_type": "code",
   "execution_count": 16,
   "metadata": {},
   "outputs": [],
   "source": [
    "# a,b,c,d,e = sp.symbols('a, b, c, d, e')\n",
    "# p1 = 2*c**3 - 9*b*c*d + 27*a*d**2 + 27*b**2*e - 72*a*c*e\n",
    "# p2 = p1 + sp.sqrt(-4*(c**2 - 3*b*d + 12*a*e)**3 + p1**2)\n",
    "# p3 = (c**2 - 3*b*d + 12*a*e)/(3*a*(p2/2)**(1/3)) + (p2/2)**(1/3)/(3*a)\n",
    "# p4 = sp.sqrt(b**2/(4*a**2) - 2*c/(3*a) + p3)\n",
    "# p5 = b**2/(2*a**2) - 4*c/(3*a) - p3\n",
    "# p6 = (-b**3/a**3 + a*b*c/a**2 - 8*d/a)/(4*p4)\n",
    "\n",
    "# x0 = -b/(4*a) - p4/2 - sp.sqrt(p5 + p6)/2\n",
    "# x1 = -b/(4*a) - p4/2 + sp.sqrt(p5 + p6)/2\n",
    "# x2 = -b/(4*a) + p4/2 - sp.sqrt(p5 + p6)/2\n",
    "# x3 = -b/(4*a) + p4/2 + sp.sqrt(p5 + p6)/2"
   ]
  },
  {
   "cell_type": "code",
   "execution_count": 17,
   "metadata": {},
   "outputs": [],
   "source": [
    "#sp.simplify(x0)"
   ]
  },
  {
   "cell_type": "code",
   "execution_count": null,
   "metadata": {},
   "outputs": [],
   "source": []
  }
 ],
 "metadata": {
  "kernelspec": {
   "display_name": "Python 3",
   "language": "python",
   "name": "python3"
  },
  "language_info": {
   "codemirror_mode": {
    "name": "ipython",
    "version": 3
   },
   "file_extension": ".py",
   "mimetype": "text/x-python",
   "name": "python",
   "nbconvert_exporter": "python",
   "pygments_lexer": "ipython3",
   "version": "3.6.9"
  }
 },
 "nbformat": 4,
 "nbformat_minor": 4
}
