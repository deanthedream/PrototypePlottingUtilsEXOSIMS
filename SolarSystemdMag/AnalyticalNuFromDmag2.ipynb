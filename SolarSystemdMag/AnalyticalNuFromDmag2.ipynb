{
 "cells": [
  {
   "cell_type": "code",
   "execution_count": 2,
   "metadata": {},
   "outputs": [],
   "source": [
    "import sympy as sp\n",
    "import numpy as np"
   ]
  },
  {
   "cell_type": "code",
   "execution_count": 3,
   "metadata": {},
   "outputs": [],
   "source": [
    "dMag, a, e, p, Rp = sp.symbols('dMag a e p R_p', real=True)\n",
    "v, w, inc, beta = sp.symbols('v w i beta', real=True, positive=True)\n",
    "A, B, C, D, F = sp.symbols('A B C D F',real=True)\n",
    "x = sp.symbols('x',real=True)"
   ]
  },
  {
   "cell_type": "code",
   "execution_count": 4,
   "metadata": {},
   "outputs": [],
   "source": [
    "betaFunc = sp.acos(sp.sin(inc)*sp.sin(v+w)) #define beta, phase angle, as a function of KOE\n",
    "#Angle Addition Expanders\n",
    "sinvpw = sp.sin(v)*sp.cos(w) + sp.cos(v)*sp.sin(w)\n",
    "cosvpw = sp.cos(v)*sp.cos(w) - sp.sin(v)*sp.sin(w)\n",
    "sinvmw = sp.sin(v)*sp.cos(w) - sp.cos(v)*sp.sin(w)\n",
    "cosvmw = sp.cos(v)*sp.cos(w) + sp.sin(v)*sp.sin(w)\n",
    "betaFunc = betaFunc.subs(sp.sin(v+w),sinvpw)"
   ]
  },
  {
   "cell_type": "code",
   "execution_count": 5,
   "metadata": {},
   "outputs": [],
   "source": [
    "phiFunc = -sp.tanh((beta-D)/A)/B+C #Define the phase function PhiH(beta,A,B,C,D)\n",
    "phiFunc = phiFunc.subs(beta,betaFunc) #replace in phase function\n",
    "FFunc = phiFunc*(e*sp.cos(v)+1)**2 - F # is equal to 0"
   ]
  },
  {
   "cell_type": "code",
   "execution_count": 6,
   "metadata": {},
   "outputs": [
    {
     "data": {
      "text/latex": [
       "$\\displaystyle - F + \\left(C - \\frac{\\tanh{\\left(\\frac{- D + \\operatorname{acos}{\\left(\\left(\\sin{\\left(v \\right)} \\cos{\\left(w \\right)} + \\sin{\\left(w \\right)} \\cos{\\left(v \\right)}\\right) \\sin{\\left(i \\right)} \\right)}}{A} \\right)}}{B}\\right) \\left(e \\cos{\\left(v \\right)} + 1\\right)^{2}$"
      ],
      "text/plain": [
       "-F + (C - tanh((-D + acos((sin(v)*cos(w) + sin(w)*cos(v))*sin(i)))/A)/B)*(e*cos(v) + 1)**2"
      ]
     },
     "execution_count": 6,
     "metadata": {},
     "output_type": "execute_result"
    }
   ],
   "source": [
    "FFunc"
   ]
  },
  {
   "cell_type": "code",
   "execution_count": 7,
   "metadata": {},
   "outputs": [],
   "source": [
    "#Does Not Solve\n",
    "#sp.solve(FFunc,v)"
   ]
  },
  {
   "cell_type": "code",
   "execution_count": 8,
   "metadata": {},
   "outputs": [],
   "source": [
    "# Try 2"
   ]
  },
  {
   "cell_type": "code",
   "execution_count": 9,
   "metadata": {},
   "outputs": [],
   "source": [
    "phiFunc = A*sp.cos(beta/2+C)**4# + B*sp.cos(beta/2+D)**2 #Define the phase function PhiH(beta,A,B,C,D)\n",
    "phiFunc = phiFunc.subs(beta,betaFunc) #replace in phase function\n",
    "FFunc = phiFunc*(e*sp.cos(v)+1)**2 - F # is equal to 0"
   ]
  },
  {
   "cell_type": "code",
   "execution_count": 10,
   "metadata": {},
   "outputs": [
    {
     "data": {
      "text/latex": [
       "$\\displaystyle A \\left(e \\cos{\\left(v \\right)} + 1\\right)^{2} \\cos^{4}{\\left(C + \\frac{\\operatorname{acos}{\\left(\\left(\\sin{\\left(v \\right)} \\cos{\\left(w \\right)} + \\sin{\\left(w \\right)} \\cos{\\left(v \\right)}\\right) \\sin{\\left(i \\right)} \\right)}}{2} \\right)} - F$"
      ],
      "text/plain": [
       "A*(e*cos(v) + 1)**2*cos(C + acos((sin(v)*cos(w) + sin(w)*cos(v))*sin(i))/2)**4 - F"
      ]
     },
     "execution_count": 10,
     "metadata": {},
     "output_type": "execute_result"
    }
   ],
   "source": [
    "FFunc"
   ]
  },
  {
   "cell_type": "code",
   "execution_count": 10,
   "metadata": {},
   "outputs": [
    {
     "ename": "KeyboardInterrupt",
     "evalue": "",
     "output_type": "error",
     "traceback": [
      "\u001b[0;31m---------------------------------------------------------------------------\u001b[0m",
      "\u001b[0;31mKeyboardInterrupt\u001b[0m                         Traceback (most recent call last)",
      "\u001b[0;32m<ipython-input-10-bdce1fbfc843>\u001b[0m in \u001b[0;36m<module>\u001b[0;34m\u001b[0m\n\u001b[0;32m----> 1\u001b[0;31m \u001b[0msp\u001b[0m\u001b[0;34m.\u001b[0m\u001b[0msolve\u001b[0m\u001b[0;34m(\u001b[0m\u001b[0mFFunc\u001b[0m\u001b[0;34m,\u001b[0m\u001b[0mv\u001b[0m\u001b[0;34m)\u001b[0m\u001b[0;34m\u001b[0m\u001b[0;34m\u001b[0m\u001b[0m\n\u001b[0m",
      "\u001b[0;32m~/.local/lib/python3.7/site-packages/sympy/solvers/solvers.py\u001b[0m in \u001b[0;36msolve\u001b[0;34m(f, *symbols, **flags)\u001b[0m\n\u001b[1;32m   1092\u001b[0m     \u001b[0;31m###########################################################################\u001b[0m\u001b[0;34m\u001b[0m\u001b[0;34m\u001b[0m\u001b[0;34m\u001b[0m\u001b[0m\n\u001b[1;32m   1093\u001b[0m     \u001b[0;32mif\u001b[0m \u001b[0mbare_f\u001b[0m\u001b[0;34m:\u001b[0m\u001b[0;34m\u001b[0m\u001b[0;34m\u001b[0m\u001b[0m\n\u001b[0;32m-> 1094\u001b[0;31m         \u001b[0msolution\u001b[0m \u001b[0;34m=\u001b[0m \u001b[0m_solve\u001b[0m\u001b[0;34m(\u001b[0m\u001b[0mf\u001b[0m\u001b[0;34m[\u001b[0m\u001b[0;36m0\u001b[0m\u001b[0;34m]\u001b[0m\u001b[0;34m,\u001b[0m \u001b[0;34m*\u001b[0m\u001b[0msymbols\u001b[0m\u001b[0;34m,\u001b[0m \u001b[0;34m**\u001b[0m\u001b[0mflags\u001b[0m\u001b[0;34m)\u001b[0m\u001b[0;34m\u001b[0m\u001b[0;34m\u001b[0m\u001b[0m\n\u001b[0m\u001b[1;32m   1095\u001b[0m     \u001b[0;32melse\u001b[0m\u001b[0;34m:\u001b[0m\u001b[0;34m\u001b[0m\u001b[0;34m\u001b[0m\u001b[0m\n\u001b[1;32m   1096\u001b[0m         \u001b[0msolution\u001b[0m \u001b[0;34m=\u001b[0m \u001b[0m_solve_system\u001b[0m\u001b[0;34m(\u001b[0m\u001b[0mf\u001b[0m\u001b[0;34m,\u001b[0m \u001b[0msymbols\u001b[0m\u001b[0;34m,\u001b[0m \u001b[0;34m**\u001b[0m\u001b[0mflags\u001b[0m\u001b[0;34m)\u001b[0m\u001b[0;34m\u001b[0m\u001b[0;34m\u001b[0m\u001b[0m\n",
      "\u001b[0;32m~/.local/lib/python3.7/site-packages/sympy/solvers/solvers.py\u001b[0m in \u001b[0;36m_solve\u001b[0;34m(f, *symbols, **flags)\u001b[0m\n\u001b[1;32m   1528\u001b[0m                         \u001b[0;31m# solutions in the un-rewritten form below\u001b[0m\u001b[0;34m\u001b[0m\u001b[0;34m\u001b[0m\u001b[0;34m\u001b[0m\u001b[0m\n\u001b[1;32m   1529\u001b[0m                         \u001b[0mflags\u001b[0m\u001b[0;34m[\u001b[0m\u001b[0;34m'check'\u001b[0m\u001b[0;34m]\u001b[0m \u001b[0;34m=\u001b[0m \u001b[0;32mFalse\u001b[0m\u001b[0;34m\u001b[0m\u001b[0;34m\u001b[0m\u001b[0m\n\u001b[0;32m-> 1530\u001b[0;31m                         \u001b[0mresult\u001b[0m \u001b[0;34m=\u001b[0m \u001b[0m_solve\u001b[0m\u001b[0;34m(\u001b[0m\u001b[0mnewf\u001b[0m\u001b[0;34m,\u001b[0m \u001b[0msymbol\u001b[0m\u001b[0;34m,\u001b[0m \u001b[0;34m**\u001b[0m\u001b[0mflags\u001b[0m\u001b[0;34m)\u001b[0m\u001b[0;34m\u001b[0m\u001b[0;34m\u001b[0m\u001b[0m\n\u001b[0m\u001b[1;32m   1531\u001b[0m                         \u001b[0mflags\u001b[0m\u001b[0;34m[\u001b[0m\u001b[0;34m'check'\u001b[0m\u001b[0;34m]\u001b[0m \u001b[0;34m=\u001b[0m \u001b[0mcheck\u001b[0m\u001b[0;34m\u001b[0m\u001b[0;34m\u001b[0m\u001b[0m\n\u001b[1;32m   1532\u001b[0m \u001b[0;34m\u001b[0m\u001b[0m\n",
      "\u001b[0;32m~/.local/lib/python3.7/site-packages/sympy/solvers/solvers.py\u001b[0m in \u001b[0;36m_solve\u001b[0;34m(f, *symbols, **flags)\u001b[0m\n\u001b[1;32m   1545\u001b[0m                     \u001b[0;31m# if no Functions left, we can proceed with usual solve\u001b[0m\u001b[0;34m\u001b[0m\u001b[0;34m\u001b[0m\u001b[0;34m\u001b[0m\u001b[0m\n\u001b[1;32m   1546\u001b[0m                     \u001b[0;32mif\u001b[0m \u001b[0;32mnot\u001b[0m \u001b[0mftry\u001b[0m\u001b[0;34m.\u001b[0m\u001b[0mhas\u001b[0m\u001b[0;34m(\u001b[0m\u001b[0msymbol\u001b[0m\u001b[0;34m)\u001b[0m\u001b[0;34m:\u001b[0m\u001b[0;34m\u001b[0m\u001b[0;34m\u001b[0m\u001b[0m\n\u001b[0;32m-> 1547\u001b[0;31m                         \u001b[0mcv_sols\u001b[0m \u001b[0;34m=\u001b[0m \u001b[0m_solve\u001b[0m\u001b[0;34m(\u001b[0m\u001b[0mftry\u001b[0m\u001b[0;34m,\u001b[0m \u001b[0mt\u001b[0m\u001b[0;34m,\u001b[0m \u001b[0;34m**\u001b[0m\u001b[0mflags\u001b[0m\u001b[0;34m)\u001b[0m\u001b[0;34m\u001b[0m\u001b[0;34m\u001b[0m\u001b[0m\n\u001b[0m\u001b[1;32m   1548\u001b[0m                         \u001b[0mcv_inv\u001b[0m \u001b[0;34m=\u001b[0m \u001b[0m_solve\u001b[0m\u001b[0;34m(\u001b[0m\u001b[0mt\u001b[0m \u001b[0;34m-\u001b[0m \u001b[0mf1\u001b[0m\u001b[0;34m,\u001b[0m \u001b[0msymbol\u001b[0m\u001b[0;34m,\u001b[0m \u001b[0;34m**\u001b[0m\u001b[0mflags\u001b[0m\u001b[0;34m)\u001b[0m\u001b[0;34m[\u001b[0m\u001b[0;36m0\u001b[0m\u001b[0;34m]\u001b[0m\u001b[0;34m\u001b[0m\u001b[0;34m\u001b[0m\u001b[0m\n\u001b[1;32m   1549\u001b[0m                         \u001b[0msols\u001b[0m \u001b[0;34m=\u001b[0m \u001b[0mlist\u001b[0m\u001b[0;34m(\u001b[0m\u001b[0;34m)\u001b[0m\u001b[0;34m\u001b[0m\u001b[0;34m\u001b[0m\u001b[0m\n",
      "\u001b[0;32m~/.local/lib/python3.7/site-packages/sympy/solvers/solvers.py\u001b[0m in \u001b[0;36m_solve\u001b[0;34m(f, *symbols, **flags)\u001b[0m\n\u001b[1;32m   1684\u001b[0m         \u001b[0mflags\u001b[0m\u001b[0;34m.\u001b[0m\u001b[0mpop\u001b[0m\u001b[0;34m(\u001b[0m\u001b[0;34m'tsolve'\u001b[0m\u001b[0;34m,\u001b[0m \u001b[0;32mNone\u001b[0m\u001b[0;34m)\u001b[0m  \u001b[0;31m# allow tsolve to be used on next pass\u001b[0m\u001b[0;34m\u001b[0m\u001b[0;34m\u001b[0m\u001b[0m\n\u001b[1;32m   1685\u001b[0m         \u001b[0;32mtry\u001b[0m\u001b[0;34m:\u001b[0m\u001b[0;34m\u001b[0m\u001b[0;34m\u001b[0m\u001b[0m\n\u001b[0;32m-> 1686\u001b[0;31m             \u001b[0msoln\u001b[0m \u001b[0;34m=\u001b[0m \u001b[0m_tsolve\u001b[0m\u001b[0;34m(\u001b[0m\u001b[0mf_num\u001b[0m\u001b[0;34m,\u001b[0m \u001b[0msymbol\u001b[0m\u001b[0;34m,\u001b[0m \u001b[0;34m**\u001b[0m\u001b[0mflags\u001b[0m\u001b[0;34m)\u001b[0m\u001b[0;34m\u001b[0m\u001b[0;34m\u001b[0m\u001b[0m\n\u001b[0m\u001b[1;32m   1687\u001b[0m             \u001b[0;32mif\u001b[0m \u001b[0msoln\u001b[0m \u001b[0;32mis\u001b[0m \u001b[0;32mnot\u001b[0m \u001b[0;32mNone\u001b[0m\u001b[0;34m:\u001b[0m\u001b[0;34m\u001b[0m\u001b[0;34m\u001b[0m\u001b[0m\n\u001b[1;32m   1688\u001b[0m                 \u001b[0mresult\u001b[0m \u001b[0;34m=\u001b[0m \u001b[0msoln\u001b[0m\u001b[0;34m\u001b[0m\u001b[0;34m\u001b[0m\u001b[0m\n",
      "\u001b[0;32m~/.local/lib/python3.7/site-packages/sympy/solvers/solvers.py\u001b[0m in \u001b[0;36m_tsolve\u001b[0;34m(eq, sym, **flags)\u001b[0m\n\u001b[1;32m   2753\u001b[0m         \u001b[0mrewrite\u001b[0m \u001b[0;34m=\u001b[0m \u001b[0mlhs\u001b[0m\u001b[0;34m.\u001b[0m\u001b[0mrewrite\u001b[0m\u001b[0;34m(\u001b[0m\u001b[0mexp\u001b[0m\u001b[0;34m)\u001b[0m\u001b[0;34m\u001b[0m\u001b[0;34m\u001b[0m\u001b[0m\n\u001b[1;32m   2754\u001b[0m         \u001b[0;32mif\u001b[0m \u001b[0mrewrite\u001b[0m \u001b[0;34m!=\u001b[0m \u001b[0mlhs\u001b[0m\u001b[0;34m:\u001b[0m\u001b[0;34m\u001b[0m\u001b[0;34m\u001b[0m\u001b[0m\n\u001b[0;32m-> 2755\u001b[0;31m             \u001b[0;32mreturn\u001b[0m \u001b[0m_solve\u001b[0m\u001b[0;34m(\u001b[0m\u001b[0mrewrite\u001b[0m \u001b[0;34m-\u001b[0m \u001b[0mrhs\u001b[0m\u001b[0;34m,\u001b[0m \u001b[0msym\u001b[0m\u001b[0;34m,\u001b[0m \u001b[0;34m**\u001b[0m\u001b[0mflags\u001b[0m\u001b[0;34m)\u001b[0m\u001b[0;34m\u001b[0m\u001b[0;34m\u001b[0m\u001b[0m\n\u001b[0m\u001b[1;32m   2756\u001b[0m     \u001b[0;32mexcept\u001b[0m \u001b[0mNotImplementedError\u001b[0m\u001b[0;34m:\u001b[0m\u001b[0;34m\u001b[0m\u001b[0;34m\u001b[0m\u001b[0m\n\u001b[1;32m   2757\u001b[0m         \u001b[0;32mpass\u001b[0m\u001b[0;34m\u001b[0m\u001b[0;34m\u001b[0m\u001b[0m\n",
      "\u001b[0;32m~/.local/lib/python3.7/site-packages/sympy/solvers/solvers.py\u001b[0m in \u001b[0;36m_solve\u001b[0;34m(f, *symbols, **flags)\u001b[0m\n\u001b[1;32m   1684\u001b[0m         \u001b[0mflags\u001b[0m\u001b[0;34m.\u001b[0m\u001b[0mpop\u001b[0m\u001b[0;34m(\u001b[0m\u001b[0;34m'tsolve'\u001b[0m\u001b[0;34m,\u001b[0m \u001b[0;32mNone\u001b[0m\u001b[0;34m)\u001b[0m  \u001b[0;31m# allow tsolve to be used on next pass\u001b[0m\u001b[0;34m\u001b[0m\u001b[0;34m\u001b[0m\u001b[0m\n\u001b[1;32m   1685\u001b[0m         \u001b[0;32mtry\u001b[0m\u001b[0;34m:\u001b[0m\u001b[0;34m\u001b[0m\u001b[0;34m\u001b[0m\u001b[0m\n\u001b[0;32m-> 1686\u001b[0;31m             \u001b[0msoln\u001b[0m \u001b[0;34m=\u001b[0m \u001b[0m_tsolve\u001b[0m\u001b[0;34m(\u001b[0m\u001b[0mf_num\u001b[0m\u001b[0;34m,\u001b[0m \u001b[0msymbol\u001b[0m\u001b[0;34m,\u001b[0m \u001b[0;34m**\u001b[0m\u001b[0mflags\u001b[0m\u001b[0;34m)\u001b[0m\u001b[0;34m\u001b[0m\u001b[0;34m\u001b[0m\u001b[0m\n\u001b[0m\u001b[1;32m   1687\u001b[0m             \u001b[0;32mif\u001b[0m \u001b[0msoln\u001b[0m \u001b[0;32mis\u001b[0m \u001b[0;32mnot\u001b[0m \u001b[0;32mNone\u001b[0m\u001b[0;34m:\u001b[0m\u001b[0;34m\u001b[0m\u001b[0;34m\u001b[0m\u001b[0m\n\u001b[1;32m   1688\u001b[0m                 \u001b[0mresult\u001b[0m \u001b[0;34m=\u001b[0m \u001b[0msoln\u001b[0m\u001b[0;34m\u001b[0m\u001b[0;34m\u001b[0m\u001b[0m\n",
      "\u001b[0;32m~/.local/lib/python3.7/site-packages/sympy/solvers/solvers.py\u001b[0m in \u001b[0;36m_tsolve\u001b[0;34m(eq, sym, **flags)\u001b[0m\n\u001b[1;32m   2634\u001b[0m             \u001b[0mf\u001b[0m \u001b[0;34m=\u001b[0m \u001b[0mfactor\u001b[0m\u001b[0;34m(\u001b[0m\u001b[0mpowdenest\u001b[0m\u001b[0;34m(\u001b[0m\u001b[0mlhs\u001b[0m \u001b[0;34m-\u001b[0m \u001b[0mrhs\u001b[0m\u001b[0;34m)\u001b[0m\u001b[0;34m)\u001b[0m\u001b[0;34m\u001b[0m\u001b[0;34m\u001b[0m\u001b[0m\n\u001b[1;32m   2635\u001b[0m             \u001b[0;32mif\u001b[0m \u001b[0mf\u001b[0m\u001b[0;34m.\u001b[0m\u001b[0mis_Mul\u001b[0m\u001b[0;34m:\u001b[0m\u001b[0;34m\u001b[0m\u001b[0;34m\u001b[0m\u001b[0m\n\u001b[0;32m-> 2636\u001b[0;31m                 \u001b[0;32mreturn\u001b[0m \u001b[0m_solve\u001b[0m\u001b[0;34m(\u001b[0m\u001b[0mf\u001b[0m\u001b[0;34m,\u001b[0m \u001b[0msym\u001b[0m\u001b[0;34m,\u001b[0m \u001b[0;34m**\u001b[0m\u001b[0mflags\u001b[0m\u001b[0;34m)\u001b[0m\u001b[0;34m\u001b[0m\u001b[0;34m\u001b[0m\u001b[0m\n\u001b[0m\u001b[1;32m   2637\u001b[0m             \u001b[0;32mif\u001b[0m \u001b[0mrhs\u001b[0m\u001b[0;34m:\u001b[0m\u001b[0;34m\u001b[0m\u001b[0;34m\u001b[0m\u001b[0m\n\u001b[1;32m   2638\u001b[0m                 \u001b[0mf\u001b[0m \u001b[0;34m=\u001b[0m \u001b[0mlogcombine\u001b[0m\u001b[0;34m(\u001b[0m\u001b[0mlhs\u001b[0m\u001b[0;34m,\u001b[0m \u001b[0mforce\u001b[0m\u001b[0;34m=\u001b[0m\u001b[0mflags\u001b[0m\u001b[0;34m.\u001b[0m\u001b[0mget\u001b[0m\u001b[0;34m(\u001b[0m\u001b[0;34m'force'\u001b[0m\u001b[0;34m,\u001b[0m \u001b[0;32mTrue\u001b[0m\u001b[0;34m)\u001b[0m\u001b[0;34m)\u001b[0m\u001b[0;34m\u001b[0m\u001b[0;34m\u001b[0m\u001b[0m\n",
      "\u001b[0;32m~/.local/lib/python3.7/site-packages/sympy/solvers/solvers.py\u001b[0m in \u001b[0;36m_solve\u001b[0;34m(f, *symbols, **flags)\u001b[0m\n\u001b[1;32m   1381\u001b[0m                 \u001b[0mresult\u001b[0m \u001b[0;34m=\u001b[0m \u001b[0mset\u001b[0m\u001b[0;34m(\u001b[0m\u001b[0;34m)\u001b[0m\u001b[0;34m\u001b[0m\u001b[0;34m\u001b[0m\u001b[0m\n\u001b[1;32m   1382\u001b[0m                 \u001b[0;32mbreak\u001b[0m\u001b[0;34m\u001b[0m\u001b[0;34m\u001b[0m\u001b[0m\n\u001b[0;32m-> 1383\u001b[0;31m             \u001b[0msoln\u001b[0m \u001b[0;34m=\u001b[0m \u001b[0m_solve\u001b[0m\u001b[0;34m(\u001b[0m\u001b[0mm\u001b[0m\u001b[0;34m,\u001b[0m \u001b[0msymbol\u001b[0m\u001b[0;34m,\u001b[0m \u001b[0;34m**\u001b[0m\u001b[0mflags\u001b[0m\u001b[0;34m)\u001b[0m\u001b[0;34m\u001b[0m\u001b[0;34m\u001b[0m\u001b[0m\n\u001b[0m\u001b[1;32m   1384\u001b[0m             \u001b[0mresult\u001b[0m\u001b[0;34m.\u001b[0m\u001b[0mupdate\u001b[0m\u001b[0;34m(\u001b[0m\u001b[0mset\u001b[0m\u001b[0;34m(\u001b[0m\u001b[0msoln\u001b[0m\u001b[0;34m)\u001b[0m\u001b[0;34m)\u001b[0m\u001b[0;34m\u001b[0m\u001b[0;34m\u001b[0m\u001b[0m\n\u001b[1;32m   1385\u001b[0m         \u001b[0mresult\u001b[0m \u001b[0;34m=\u001b[0m \u001b[0mlist\u001b[0m\u001b[0;34m(\u001b[0m\u001b[0mresult\u001b[0m\u001b[0;34m)\u001b[0m\u001b[0;34m\u001b[0m\u001b[0;34m\u001b[0m\u001b[0m\n",
      "\u001b[0;32m~/.local/lib/python3.7/site-packages/sympy/solvers/solvers.py\u001b[0m in \u001b[0;36m_solve\u001b[0;34m(f, *symbols, **flags)\u001b[0m\n\u001b[1;32m   1684\u001b[0m         \u001b[0mflags\u001b[0m\u001b[0;34m.\u001b[0m\u001b[0mpop\u001b[0m\u001b[0;34m(\u001b[0m\u001b[0;34m'tsolve'\u001b[0m\u001b[0;34m,\u001b[0m \u001b[0;32mNone\u001b[0m\u001b[0;34m)\u001b[0m  \u001b[0;31m# allow tsolve to be used on next pass\u001b[0m\u001b[0;34m\u001b[0m\u001b[0;34m\u001b[0m\u001b[0m\n\u001b[1;32m   1685\u001b[0m         \u001b[0;32mtry\u001b[0m\u001b[0;34m:\u001b[0m\u001b[0;34m\u001b[0m\u001b[0;34m\u001b[0m\u001b[0m\n\u001b[0;32m-> 1686\u001b[0;31m             \u001b[0msoln\u001b[0m \u001b[0;34m=\u001b[0m \u001b[0m_tsolve\u001b[0m\u001b[0;34m(\u001b[0m\u001b[0mf_num\u001b[0m\u001b[0;34m,\u001b[0m \u001b[0msymbol\u001b[0m\u001b[0;34m,\u001b[0m \u001b[0;34m**\u001b[0m\u001b[0mflags\u001b[0m\u001b[0;34m)\u001b[0m\u001b[0;34m\u001b[0m\u001b[0;34m\u001b[0m\u001b[0m\n\u001b[0m\u001b[1;32m   1687\u001b[0m             \u001b[0;32mif\u001b[0m \u001b[0msoln\u001b[0m \u001b[0;32mis\u001b[0m \u001b[0;32mnot\u001b[0m \u001b[0;32mNone\u001b[0m\u001b[0;34m:\u001b[0m\u001b[0;34m\u001b[0m\u001b[0;34m\u001b[0m\u001b[0m\n\u001b[1;32m   1688\u001b[0m                 \u001b[0mresult\u001b[0m \u001b[0;34m=\u001b[0m \u001b[0msoln\u001b[0m\u001b[0;34m\u001b[0m\u001b[0;34m\u001b[0m\u001b[0m\n",
      "\u001b[0;32m~/.local/lib/python3.7/site-packages/sympy/solvers/solvers.py\u001b[0m in \u001b[0;36m_tsolve\u001b[0;34m(eq, sym, **flags)\u001b[0m\n\u001b[1;32m   2823\u001b[0m         \u001b[0;32mif\u001b[0m \u001b[0mpos\u001b[0m\u001b[0;34m.\u001b[0m\u001b[0mhas\u001b[0m\u001b[0;34m(\u001b[0m\u001b[0mu\u001b[0m\u001b[0;34m)\u001b[0m\u001b[0;34m:\u001b[0m\u001b[0;34m\u001b[0m\u001b[0;34m\u001b[0m\u001b[0m\n\u001b[1;32m   2824\u001b[0m             \u001b[0;32mtry\u001b[0m\u001b[0;34m:\u001b[0m\u001b[0;34m\u001b[0m\u001b[0;34m\u001b[0m\u001b[0m\n\u001b[0;32m-> 2825\u001b[0;31m                 \u001b[0msoln\u001b[0m \u001b[0;34m=\u001b[0m \u001b[0m_solve\u001b[0m\u001b[0;34m(\u001b[0m\u001b[0mpos\u001b[0m\u001b[0;34m,\u001b[0m \u001b[0mu\u001b[0m\u001b[0;34m,\u001b[0m \u001b[0;34m**\u001b[0m\u001b[0mflags\u001b[0m\u001b[0;34m)\u001b[0m\u001b[0;34m\u001b[0m\u001b[0;34m\u001b[0m\u001b[0m\n\u001b[0m\u001b[1;32m   2826\u001b[0m                 \u001b[0;32mreturn\u001b[0m \u001b[0mlist\u001b[0m\u001b[0;34m(\u001b[0m\u001b[0mordered\u001b[0m\u001b[0;34m(\u001b[0m\u001b[0;34m[\u001b[0m\u001b[0ms\u001b[0m\u001b[0;34m.\u001b[0m\u001b[0msubs\u001b[0m\u001b[0;34m(\u001b[0m\u001b[0mreps\u001b[0m\u001b[0;34m)\u001b[0m \u001b[0;32mfor\u001b[0m \u001b[0ms\u001b[0m \u001b[0;32min\u001b[0m \u001b[0msoln\u001b[0m\u001b[0;34m]\u001b[0m\u001b[0;34m)\u001b[0m\u001b[0;34m)\u001b[0m\u001b[0;34m\u001b[0m\u001b[0;34m\u001b[0m\u001b[0m\n\u001b[1;32m   2827\u001b[0m             \u001b[0;32mexcept\u001b[0m \u001b[0mNotImplementedError\u001b[0m\u001b[0;34m:\u001b[0m\u001b[0;34m\u001b[0m\u001b[0;34m\u001b[0m\u001b[0m\n",
      "\u001b[0;32m~/.local/lib/python3.7/site-packages/sympy/solvers/solvers.py\u001b[0m in \u001b[0;36m_solve\u001b[0;34m(f, *symbols, **flags)\u001b[0m\n\u001b[1;32m   1684\u001b[0m         \u001b[0mflags\u001b[0m\u001b[0;34m.\u001b[0m\u001b[0mpop\u001b[0m\u001b[0;34m(\u001b[0m\u001b[0;34m'tsolve'\u001b[0m\u001b[0;34m,\u001b[0m \u001b[0;32mNone\u001b[0m\u001b[0;34m)\u001b[0m  \u001b[0;31m# allow tsolve to be used on next pass\u001b[0m\u001b[0;34m\u001b[0m\u001b[0;34m\u001b[0m\u001b[0m\n\u001b[1;32m   1685\u001b[0m         \u001b[0;32mtry\u001b[0m\u001b[0;34m:\u001b[0m\u001b[0;34m\u001b[0m\u001b[0;34m\u001b[0m\u001b[0m\n\u001b[0;32m-> 1686\u001b[0;31m             \u001b[0msoln\u001b[0m \u001b[0;34m=\u001b[0m \u001b[0m_tsolve\u001b[0m\u001b[0;34m(\u001b[0m\u001b[0mf_num\u001b[0m\u001b[0;34m,\u001b[0m \u001b[0msymbol\u001b[0m\u001b[0;34m,\u001b[0m \u001b[0;34m**\u001b[0m\u001b[0mflags\u001b[0m\u001b[0;34m)\u001b[0m\u001b[0;34m\u001b[0m\u001b[0;34m\u001b[0m\u001b[0m\n\u001b[0m\u001b[1;32m   1687\u001b[0m             \u001b[0;32mif\u001b[0m \u001b[0msoln\u001b[0m \u001b[0;32mis\u001b[0m \u001b[0;32mnot\u001b[0m \u001b[0;32mNone\u001b[0m\u001b[0;34m:\u001b[0m\u001b[0;34m\u001b[0m\u001b[0;34m\u001b[0m\u001b[0m\n\u001b[1;32m   1688\u001b[0m                 \u001b[0mresult\u001b[0m \u001b[0;34m=\u001b[0m \u001b[0msoln\u001b[0m\u001b[0;34m\u001b[0m\u001b[0;34m\u001b[0m\u001b[0m\n",
      "\u001b[0;32m~/.local/lib/python3.7/site-packages/sympy/solvers/solvers.py\u001b[0m in \u001b[0;36m_tsolve\u001b[0;34m(eq, sym, **flags)\u001b[0m\n\u001b[1;32m   2634\u001b[0m             \u001b[0mf\u001b[0m \u001b[0;34m=\u001b[0m \u001b[0mfactor\u001b[0m\u001b[0;34m(\u001b[0m\u001b[0mpowdenest\u001b[0m\u001b[0;34m(\u001b[0m\u001b[0mlhs\u001b[0m \u001b[0;34m-\u001b[0m \u001b[0mrhs\u001b[0m\u001b[0;34m)\u001b[0m\u001b[0;34m)\u001b[0m\u001b[0;34m\u001b[0m\u001b[0;34m\u001b[0m\u001b[0m\n\u001b[1;32m   2635\u001b[0m             \u001b[0;32mif\u001b[0m \u001b[0mf\u001b[0m\u001b[0;34m.\u001b[0m\u001b[0mis_Mul\u001b[0m\u001b[0;34m:\u001b[0m\u001b[0;34m\u001b[0m\u001b[0;34m\u001b[0m\u001b[0m\n\u001b[0;32m-> 2636\u001b[0;31m                 \u001b[0;32mreturn\u001b[0m \u001b[0m_solve\u001b[0m\u001b[0;34m(\u001b[0m\u001b[0mf\u001b[0m\u001b[0;34m,\u001b[0m \u001b[0msym\u001b[0m\u001b[0;34m,\u001b[0m \u001b[0;34m**\u001b[0m\u001b[0mflags\u001b[0m\u001b[0;34m)\u001b[0m\u001b[0;34m\u001b[0m\u001b[0;34m\u001b[0m\u001b[0m\n\u001b[0m\u001b[1;32m   2637\u001b[0m             \u001b[0;32mif\u001b[0m \u001b[0mrhs\u001b[0m\u001b[0;34m:\u001b[0m\u001b[0;34m\u001b[0m\u001b[0;34m\u001b[0m\u001b[0m\n\u001b[1;32m   2638\u001b[0m                 \u001b[0mf\u001b[0m \u001b[0;34m=\u001b[0m \u001b[0mlogcombine\u001b[0m\u001b[0;34m(\u001b[0m\u001b[0mlhs\u001b[0m\u001b[0;34m,\u001b[0m \u001b[0mforce\u001b[0m\u001b[0;34m=\u001b[0m\u001b[0mflags\u001b[0m\u001b[0;34m.\u001b[0m\u001b[0mget\u001b[0m\u001b[0;34m(\u001b[0m\u001b[0;34m'force'\u001b[0m\u001b[0;34m,\u001b[0m \u001b[0;32mTrue\u001b[0m\u001b[0;34m)\u001b[0m\u001b[0;34m)\u001b[0m\u001b[0;34m\u001b[0m\u001b[0;34m\u001b[0m\u001b[0m\n",
      "\u001b[0;32m~/.local/lib/python3.7/site-packages/sympy/solvers/solvers.py\u001b[0m in \u001b[0;36m_solve\u001b[0;34m(f, *symbols, **flags)\u001b[0m\n\u001b[1;32m   1381\u001b[0m                 \u001b[0mresult\u001b[0m \u001b[0;34m=\u001b[0m \u001b[0mset\u001b[0m\u001b[0;34m(\u001b[0m\u001b[0;34m)\u001b[0m\u001b[0;34m\u001b[0m\u001b[0;34m\u001b[0m\u001b[0m\n\u001b[1;32m   1382\u001b[0m                 \u001b[0;32mbreak\u001b[0m\u001b[0;34m\u001b[0m\u001b[0;34m\u001b[0m\u001b[0m\n\u001b[0;32m-> 1383\u001b[0;31m             \u001b[0msoln\u001b[0m \u001b[0;34m=\u001b[0m \u001b[0m_solve\u001b[0m\u001b[0;34m(\u001b[0m\u001b[0mm\u001b[0m\u001b[0;34m,\u001b[0m \u001b[0msymbol\u001b[0m\u001b[0;34m,\u001b[0m \u001b[0;34m**\u001b[0m\u001b[0mflags\u001b[0m\u001b[0;34m)\u001b[0m\u001b[0;34m\u001b[0m\u001b[0;34m\u001b[0m\u001b[0m\n\u001b[0m\u001b[1;32m   1384\u001b[0m             \u001b[0mresult\u001b[0m\u001b[0;34m.\u001b[0m\u001b[0mupdate\u001b[0m\u001b[0;34m(\u001b[0m\u001b[0mset\u001b[0m\u001b[0;34m(\u001b[0m\u001b[0msoln\u001b[0m\u001b[0;34m)\u001b[0m\u001b[0;34m)\u001b[0m\u001b[0;34m\u001b[0m\u001b[0;34m\u001b[0m\u001b[0m\n\u001b[1;32m   1385\u001b[0m         \u001b[0mresult\u001b[0m \u001b[0;34m=\u001b[0m \u001b[0mlist\u001b[0m\u001b[0;34m(\u001b[0m\u001b[0mresult\u001b[0m\u001b[0;34m)\u001b[0m\u001b[0;34m\u001b[0m\u001b[0;34m\u001b[0m\u001b[0m\n",
      "\u001b[0;32m~/.local/lib/python3.7/site-packages/sympy/solvers/solvers.py\u001b[0m in \u001b[0;36m_solve\u001b[0;34m(f, *symbols, **flags)\u001b[0m\n\u001b[1;32m   1658\u001b[0m         \u001b[0;32mif\u001b[0m \u001b[0mflags\u001b[0m\u001b[0;34m.\u001b[0m\u001b[0mpop\u001b[0m\u001b[0;34m(\u001b[0m\u001b[0;34m'_unrad'\u001b[0m\u001b[0;34m,\u001b[0m \u001b[0;32mTrue\u001b[0m\u001b[0;34m)\u001b[0m\u001b[0;34m:\u001b[0m\u001b[0;34m\u001b[0m\u001b[0;34m\u001b[0m\u001b[0m\n\u001b[1;32m   1659\u001b[0m             \u001b[0;32mtry\u001b[0m\u001b[0;34m:\u001b[0m\u001b[0;34m\u001b[0m\u001b[0;34m\u001b[0m\u001b[0m\n\u001b[0;32m-> 1660\u001b[0;31m                 \u001b[0mu\u001b[0m \u001b[0;34m=\u001b[0m \u001b[0munrad\u001b[0m\u001b[0;34m(\u001b[0m\u001b[0mf_num\u001b[0m\u001b[0;34m,\u001b[0m \u001b[0msymbol\u001b[0m\u001b[0;34m)\u001b[0m\u001b[0;34m\u001b[0m\u001b[0;34m\u001b[0m\u001b[0m\n\u001b[0m\u001b[1;32m   1661\u001b[0m             \u001b[0;32mexcept\u001b[0m \u001b[0;34m(\u001b[0m\u001b[0mValueError\u001b[0m\u001b[0;34m,\u001b[0m \u001b[0mNotImplementedError\u001b[0m\u001b[0;34m)\u001b[0m\u001b[0;34m:\u001b[0m\u001b[0;34m\u001b[0m\u001b[0;34m\u001b[0m\u001b[0m\n\u001b[1;32m   1662\u001b[0m                 \u001b[0mu\u001b[0m \u001b[0;34m=\u001b[0m \u001b[0;32mFalse\u001b[0m\u001b[0;34m\u001b[0m\u001b[0;34m\u001b[0m\u001b[0m\n",
      "\u001b[0;32m~/.local/lib/python3.7/site-packages/sympy/solvers/solvers.py\u001b[0m in \u001b[0;36munrad\u001b[0;34m(eq, *syms, **flags)\u001b[0m\n\u001b[1;32m   3369\u001b[0m \u001b[0;34m\u001b[0m\u001b[0m\n\u001b[1;32m   3370\u001b[0m     \u001b[0;31m# preconditioning\u001b[0m\u001b[0;34m\u001b[0m\u001b[0;34m\u001b[0m\u001b[0;34m\u001b[0m\u001b[0m\n\u001b[0;32m-> 3371\u001b[0;31m     \u001b[0meq\u001b[0m \u001b[0;34m=\u001b[0m \u001b[0mpowdenest\u001b[0m\u001b[0;34m(\u001b[0m\u001b[0mfactor_terms\u001b[0m\u001b[0;34m(\u001b[0m\u001b[0meq\u001b[0m\u001b[0;34m,\u001b[0m \u001b[0mradical\u001b[0m\u001b[0;34m=\u001b[0m\u001b[0;32mTrue\u001b[0m\u001b[0;34m,\u001b[0m \u001b[0mclear\u001b[0m\u001b[0;34m=\u001b[0m\u001b[0;32mTrue\u001b[0m\u001b[0;34m)\u001b[0m\u001b[0;34m)\u001b[0m\u001b[0;34m\u001b[0m\u001b[0;34m\u001b[0m\u001b[0m\n\u001b[0m\u001b[1;32m   3372\u001b[0m \u001b[0;34m\u001b[0m\u001b[0m\n\u001b[1;32m   3373\u001b[0m     \u001b[0;32mif\u001b[0m \u001b[0misinstance\u001b[0m\u001b[0;34m(\u001b[0m\u001b[0meq\u001b[0m\u001b[0;34m,\u001b[0m \u001b[0mRelational\u001b[0m\u001b[0;34m)\u001b[0m\u001b[0;34m:\u001b[0m\u001b[0;34m\u001b[0m\u001b[0;34m\u001b[0m\u001b[0m\n",
      "\u001b[0;32m~/.local/lib/python3.7/site-packages/sympy/core/exprtools.py\u001b[0m in \u001b[0;36mfactor_terms\u001b[0;34m(expr, radical, clear, fraction, sign)\u001b[0m\n\u001b[1;32m   1252\u001b[0m         \u001b[0;32mreturn\u001b[0m \u001b[0mrv\u001b[0m\u001b[0;34m\u001b[0m\u001b[0;34m\u001b[0m\u001b[0m\n\u001b[1;32m   1253\u001b[0m     \u001b[0mexpr\u001b[0m \u001b[0;34m=\u001b[0m \u001b[0msympify\u001b[0m\u001b[0;34m(\u001b[0m\u001b[0mexpr\u001b[0m\u001b[0;34m)\u001b[0m\u001b[0;34m\u001b[0m\u001b[0;34m\u001b[0m\u001b[0m\n\u001b[0;32m-> 1254\u001b[0;31m     \u001b[0;32mreturn\u001b[0m \u001b[0mdo\u001b[0m\u001b[0;34m(\u001b[0m\u001b[0mexpr\u001b[0m\u001b[0;34m)\u001b[0m\u001b[0;34m\u001b[0m\u001b[0;34m\u001b[0m\u001b[0m\n\u001b[0m\u001b[1;32m   1255\u001b[0m \u001b[0;34m\u001b[0m\u001b[0m\n\u001b[1;32m   1256\u001b[0m \u001b[0;34m\u001b[0m\u001b[0m\n",
      "\u001b[0;32m~/.local/lib/python3.7/site-packages/sympy/core/exprtools.py\u001b[0m in \u001b[0;36mdo\u001b[0;34m(expr)\u001b[0m\n\u001b[1;32m   1227\u001b[0m         \u001b[0mcont\u001b[0m\u001b[0;34m,\u001b[0m \u001b[0mp\u001b[0m \u001b[0;34m=\u001b[0m \u001b[0mexpr\u001b[0m\u001b[0;34m.\u001b[0m\u001b[0mas_content_primitive\u001b[0m\u001b[0;34m(\u001b[0m\u001b[0mradical\u001b[0m\u001b[0;34m=\u001b[0m\u001b[0mradical\u001b[0m\u001b[0;34m,\u001b[0m \u001b[0mclear\u001b[0m\u001b[0;34m=\u001b[0m\u001b[0mclear\u001b[0m\u001b[0;34m)\u001b[0m\u001b[0;34m\u001b[0m\u001b[0;34m\u001b[0m\u001b[0m\n\u001b[1;32m   1228\u001b[0m         \u001b[0;32mif\u001b[0m \u001b[0mp\u001b[0m\u001b[0;34m.\u001b[0m\u001b[0mis_Add\u001b[0m\u001b[0;34m:\u001b[0m\u001b[0;34m\u001b[0m\u001b[0;34m\u001b[0m\u001b[0m\n\u001b[0;32m-> 1229\u001b[0;31m             \u001b[0mlist_args\u001b[0m \u001b[0;34m=\u001b[0m \u001b[0;34m[\u001b[0m\u001b[0mdo\u001b[0m\u001b[0;34m(\u001b[0m\u001b[0ma\u001b[0m\u001b[0;34m)\u001b[0m \u001b[0;32mfor\u001b[0m \u001b[0ma\u001b[0m \u001b[0;32min\u001b[0m \u001b[0mAdd\u001b[0m\u001b[0;34m.\u001b[0m\u001b[0mmake_args\u001b[0m\u001b[0;34m(\u001b[0m\u001b[0mp\u001b[0m\u001b[0;34m)\u001b[0m\u001b[0;34m]\u001b[0m\u001b[0;34m\u001b[0m\u001b[0;34m\u001b[0m\u001b[0m\n\u001b[0m\u001b[1;32m   1230\u001b[0m             \u001b[0;31m# get a common negative (if there) which gcd_terms does not remove\u001b[0m\u001b[0;34m\u001b[0m\u001b[0;34m\u001b[0m\u001b[0;34m\u001b[0m\u001b[0m\n\u001b[1;32m   1231\u001b[0m             if all(a.as_coeff_Mul()[0].extract_multiplicatively(-1) is not None\n",
      "\u001b[0;32m~/.local/lib/python3.7/site-packages/sympy/core/exprtools.py\u001b[0m in \u001b[0;36m<listcomp>\u001b[0;34m(.0)\u001b[0m\n\u001b[1;32m   1227\u001b[0m         \u001b[0mcont\u001b[0m\u001b[0;34m,\u001b[0m \u001b[0mp\u001b[0m \u001b[0;34m=\u001b[0m \u001b[0mexpr\u001b[0m\u001b[0;34m.\u001b[0m\u001b[0mas_content_primitive\u001b[0m\u001b[0;34m(\u001b[0m\u001b[0mradical\u001b[0m\u001b[0;34m=\u001b[0m\u001b[0mradical\u001b[0m\u001b[0;34m,\u001b[0m \u001b[0mclear\u001b[0m\u001b[0;34m=\u001b[0m\u001b[0mclear\u001b[0m\u001b[0;34m)\u001b[0m\u001b[0;34m\u001b[0m\u001b[0;34m\u001b[0m\u001b[0m\n\u001b[1;32m   1228\u001b[0m         \u001b[0;32mif\u001b[0m \u001b[0mp\u001b[0m\u001b[0;34m.\u001b[0m\u001b[0mis_Add\u001b[0m\u001b[0;34m:\u001b[0m\u001b[0;34m\u001b[0m\u001b[0;34m\u001b[0m\u001b[0m\n\u001b[0;32m-> 1229\u001b[0;31m             \u001b[0mlist_args\u001b[0m \u001b[0;34m=\u001b[0m \u001b[0;34m[\u001b[0m\u001b[0mdo\u001b[0m\u001b[0;34m(\u001b[0m\u001b[0ma\u001b[0m\u001b[0;34m)\u001b[0m \u001b[0;32mfor\u001b[0m \u001b[0ma\u001b[0m \u001b[0;32min\u001b[0m \u001b[0mAdd\u001b[0m\u001b[0;34m.\u001b[0m\u001b[0mmake_args\u001b[0m\u001b[0;34m(\u001b[0m\u001b[0mp\u001b[0m\u001b[0;34m)\u001b[0m\u001b[0;34m]\u001b[0m\u001b[0;34m\u001b[0m\u001b[0;34m\u001b[0m\u001b[0m\n\u001b[0m\u001b[1;32m   1230\u001b[0m             \u001b[0;31m# get a common negative (if there) which gcd_terms does not remove\u001b[0m\u001b[0;34m\u001b[0m\u001b[0;34m\u001b[0m\u001b[0;34m\u001b[0m\u001b[0m\n\u001b[1;32m   1231\u001b[0m             if all(a.as_coeff_Mul()[0].extract_multiplicatively(-1) is not None\n",
      "\u001b[0;32m~/.local/lib/python3.7/site-packages/sympy/core/exprtools.py\u001b[0m in \u001b[0;36mdo\u001b[0;34m(expr)\u001b[0m\n\u001b[1;32m   1248\u001b[0m         \u001b[0;32melif\u001b[0m \u001b[0mp\u001b[0m\u001b[0;34m.\u001b[0m\u001b[0margs\u001b[0m\u001b[0;34m:\u001b[0m\u001b[0;34m\u001b[0m\u001b[0;34m\u001b[0m\u001b[0m\n\u001b[1;32m   1249\u001b[0m             p = p.func(\n\u001b[0;32m-> 1250\u001b[0;31m                 *[do(a) for a in p.args])\n\u001b[0m\u001b[1;32m   1251\u001b[0m         \u001b[0mrv\u001b[0m \u001b[0;34m=\u001b[0m \u001b[0m_keep_coeff\u001b[0m\u001b[0;34m(\u001b[0m\u001b[0mcont\u001b[0m\u001b[0;34m,\u001b[0m \u001b[0mp\u001b[0m\u001b[0;34m,\u001b[0m \u001b[0mclear\u001b[0m\u001b[0;34m=\u001b[0m\u001b[0mclear\u001b[0m\u001b[0;34m,\u001b[0m \u001b[0msign\u001b[0m\u001b[0;34m=\u001b[0m\u001b[0msign\u001b[0m\u001b[0;34m)\u001b[0m\u001b[0;34m\u001b[0m\u001b[0;34m\u001b[0m\u001b[0m\n\u001b[1;32m   1252\u001b[0m         \u001b[0;32mreturn\u001b[0m \u001b[0mrv\u001b[0m\u001b[0;34m\u001b[0m\u001b[0;34m\u001b[0m\u001b[0m\n",
      "\u001b[0;32m~/.local/lib/python3.7/site-packages/sympy/core/exprtools.py\u001b[0m in \u001b[0;36m<listcomp>\u001b[0;34m(.0)\u001b[0m\n\u001b[1;32m   1248\u001b[0m         \u001b[0;32melif\u001b[0m \u001b[0mp\u001b[0m\u001b[0;34m.\u001b[0m\u001b[0margs\u001b[0m\u001b[0;34m:\u001b[0m\u001b[0;34m\u001b[0m\u001b[0;34m\u001b[0m\u001b[0m\n\u001b[1;32m   1249\u001b[0m             p = p.func(\n\u001b[0;32m-> 1250\u001b[0;31m                 *[do(a) for a in p.args])\n\u001b[0m\u001b[1;32m   1251\u001b[0m         \u001b[0mrv\u001b[0m \u001b[0;34m=\u001b[0m \u001b[0m_keep_coeff\u001b[0m\u001b[0;34m(\u001b[0m\u001b[0mcont\u001b[0m\u001b[0;34m,\u001b[0m \u001b[0mp\u001b[0m\u001b[0;34m,\u001b[0m \u001b[0mclear\u001b[0m\u001b[0;34m=\u001b[0m\u001b[0mclear\u001b[0m\u001b[0;34m,\u001b[0m \u001b[0msign\u001b[0m\u001b[0;34m=\u001b[0m\u001b[0msign\u001b[0m\u001b[0;34m)\u001b[0m\u001b[0;34m\u001b[0m\u001b[0;34m\u001b[0m\u001b[0m\n\u001b[1;32m   1252\u001b[0m         \u001b[0;32mreturn\u001b[0m \u001b[0mrv\u001b[0m\u001b[0;34m\u001b[0m\u001b[0;34m\u001b[0m\u001b[0m\n",
      "\u001b[0;32m~/.local/lib/python3.7/site-packages/sympy/core/exprtools.py\u001b[0m in \u001b[0;36mdo\u001b[0;34m(expr)\u001b[0m\n\u001b[1;32m   1215\u001b[0m                 \u001b[0mis_iterable\u001b[0m \u001b[0;32mor\u001b[0m \u001b[0;32mnot\u001b[0m \u001b[0mhasattr\u001b[0m\u001b[0;34m(\u001b[0m\u001b[0mexpr\u001b[0m\u001b[0;34m,\u001b[0m \u001b[0;34m'args_cnc'\u001b[0m\u001b[0;34m)\u001b[0m\u001b[0;34m:\u001b[0m\u001b[0;34m\u001b[0m\u001b[0;34m\u001b[0m\u001b[0m\n\u001b[1;32m   1216\u001b[0m             \u001b[0margs\u001b[0m \u001b[0;34m=\u001b[0m \u001b[0mexpr\u001b[0m\u001b[0;34m.\u001b[0m\u001b[0margs\u001b[0m\u001b[0;34m\u001b[0m\u001b[0;34m\u001b[0m\u001b[0m\n\u001b[0;32m-> 1217\u001b[0;31m             \u001b[0mnewargs\u001b[0m \u001b[0;34m=\u001b[0m \u001b[0mtuple\u001b[0m\u001b[0;34m(\u001b[0m\u001b[0;34m[\u001b[0m\u001b[0mdo\u001b[0m\u001b[0;34m(\u001b[0m\u001b[0mi\u001b[0m\u001b[0;34m)\u001b[0m \u001b[0;32mfor\u001b[0m \u001b[0mi\u001b[0m \u001b[0;32min\u001b[0m \u001b[0margs\u001b[0m\u001b[0;34m]\u001b[0m\u001b[0;34m)\u001b[0m\u001b[0;34m\u001b[0m\u001b[0;34m\u001b[0m\u001b[0m\n\u001b[0m\u001b[1;32m   1218\u001b[0m             \u001b[0;32mif\u001b[0m \u001b[0mnewargs\u001b[0m \u001b[0;34m==\u001b[0m \u001b[0margs\u001b[0m\u001b[0;34m:\u001b[0m\u001b[0;34m\u001b[0m\u001b[0;34m\u001b[0m\u001b[0m\n\u001b[1;32m   1219\u001b[0m                 \u001b[0;32mreturn\u001b[0m \u001b[0mexpr\u001b[0m\u001b[0;34m\u001b[0m\u001b[0;34m\u001b[0m\u001b[0m\n",
      "\u001b[0;32m~/.local/lib/python3.7/site-packages/sympy/core/exprtools.py\u001b[0m in \u001b[0;36m<listcomp>\u001b[0;34m(.0)\u001b[0m\n\u001b[1;32m   1215\u001b[0m                 \u001b[0mis_iterable\u001b[0m \u001b[0;32mor\u001b[0m \u001b[0;32mnot\u001b[0m \u001b[0mhasattr\u001b[0m\u001b[0;34m(\u001b[0m\u001b[0mexpr\u001b[0m\u001b[0;34m,\u001b[0m \u001b[0;34m'args_cnc'\u001b[0m\u001b[0;34m)\u001b[0m\u001b[0;34m:\u001b[0m\u001b[0;34m\u001b[0m\u001b[0;34m\u001b[0m\u001b[0m\n\u001b[1;32m   1216\u001b[0m             \u001b[0margs\u001b[0m \u001b[0;34m=\u001b[0m \u001b[0mexpr\u001b[0m\u001b[0;34m.\u001b[0m\u001b[0margs\u001b[0m\u001b[0;34m\u001b[0m\u001b[0;34m\u001b[0m\u001b[0m\n\u001b[0;32m-> 1217\u001b[0;31m             \u001b[0mnewargs\u001b[0m \u001b[0;34m=\u001b[0m \u001b[0mtuple\u001b[0m\u001b[0;34m(\u001b[0m\u001b[0;34m[\u001b[0m\u001b[0mdo\u001b[0m\u001b[0;34m(\u001b[0m\u001b[0mi\u001b[0m\u001b[0;34m)\u001b[0m \u001b[0;32mfor\u001b[0m \u001b[0mi\u001b[0m \u001b[0;32min\u001b[0m \u001b[0margs\u001b[0m\u001b[0;34m]\u001b[0m\u001b[0;34m)\u001b[0m\u001b[0;34m\u001b[0m\u001b[0;34m\u001b[0m\u001b[0m\n\u001b[0m\u001b[1;32m   1218\u001b[0m             \u001b[0;32mif\u001b[0m \u001b[0mnewargs\u001b[0m \u001b[0;34m==\u001b[0m \u001b[0margs\u001b[0m\u001b[0;34m:\u001b[0m\u001b[0;34m\u001b[0m\u001b[0;34m\u001b[0m\u001b[0m\n\u001b[1;32m   1219\u001b[0m                 \u001b[0;32mreturn\u001b[0m \u001b[0mexpr\u001b[0m\u001b[0;34m\u001b[0m\u001b[0;34m\u001b[0m\u001b[0m\n",
      "\u001b[0;32m~/.local/lib/python3.7/site-packages/sympy/core/exprtools.py\u001b[0m in \u001b[0;36mdo\u001b[0;34m(expr)\u001b[0m\n\u001b[1;32m   1248\u001b[0m         \u001b[0;32melif\u001b[0m \u001b[0mp\u001b[0m\u001b[0;34m.\u001b[0m\u001b[0margs\u001b[0m\u001b[0;34m:\u001b[0m\u001b[0;34m\u001b[0m\u001b[0;34m\u001b[0m\u001b[0m\n\u001b[1;32m   1249\u001b[0m             p = p.func(\n\u001b[0;32m-> 1250\u001b[0;31m                 *[do(a) for a in p.args])\n\u001b[0m\u001b[1;32m   1251\u001b[0m         \u001b[0mrv\u001b[0m \u001b[0;34m=\u001b[0m \u001b[0m_keep_coeff\u001b[0m\u001b[0;34m(\u001b[0m\u001b[0mcont\u001b[0m\u001b[0;34m,\u001b[0m \u001b[0mp\u001b[0m\u001b[0;34m,\u001b[0m \u001b[0mclear\u001b[0m\u001b[0;34m=\u001b[0m\u001b[0mclear\u001b[0m\u001b[0;34m,\u001b[0m \u001b[0msign\u001b[0m\u001b[0;34m=\u001b[0m\u001b[0msign\u001b[0m\u001b[0;34m)\u001b[0m\u001b[0;34m\u001b[0m\u001b[0;34m\u001b[0m\u001b[0m\n\u001b[1;32m   1252\u001b[0m         \u001b[0;32mreturn\u001b[0m \u001b[0mrv\u001b[0m\u001b[0;34m\u001b[0m\u001b[0;34m\u001b[0m\u001b[0m\n",
      "\u001b[0;32m~/.local/lib/python3.7/site-packages/sympy/core/exprtools.py\u001b[0m in \u001b[0;36m<listcomp>\u001b[0;34m(.0)\u001b[0m\n\u001b[1;32m   1248\u001b[0m         \u001b[0;32melif\u001b[0m \u001b[0mp\u001b[0m\u001b[0;34m.\u001b[0m\u001b[0margs\u001b[0m\u001b[0;34m:\u001b[0m\u001b[0;34m\u001b[0m\u001b[0;34m\u001b[0m\u001b[0m\n\u001b[1;32m   1249\u001b[0m             p = p.func(\n\u001b[0;32m-> 1250\u001b[0;31m                 *[do(a) for a in p.args])\n\u001b[0m\u001b[1;32m   1251\u001b[0m         \u001b[0mrv\u001b[0m \u001b[0;34m=\u001b[0m \u001b[0m_keep_coeff\u001b[0m\u001b[0;34m(\u001b[0m\u001b[0mcont\u001b[0m\u001b[0;34m,\u001b[0m \u001b[0mp\u001b[0m\u001b[0;34m,\u001b[0m \u001b[0mclear\u001b[0m\u001b[0;34m=\u001b[0m\u001b[0mclear\u001b[0m\u001b[0;34m,\u001b[0m \u001b[0msign\u001b[0m\u001b[0;34m=\u001b[0m\u001b[0msign\u001b[0m\u001b[0;34m)\u001b[0m\u001b[0;34m\u001b[0m\u001b[0;34m\u001b[0m\u001b[0m\n\u001b[1;32m   1252\u001b[0m         \u001b[0;32mreturn\u001b[0m \u001b[0mrv\u001b[0m\u001b[0;34m\u001b[0m\u001b[0;34m\u001b[0m\u001b[0m\n",
      "\u001b[0;32m~/.local/lib/python3.7/site-packages/sympy/core/exprtools.py\u001b[0m in \u001b[0;36mdo\u001b[0;34m(expr)\u001b[0m\n\u001b[1;32m   1215\u001b[0m                 \u001b[0mis_iterable\u001b[0m \u001b[0;32mor\u001b[0m \u001b[0;32mnot\u001b[0m \u001b[0mhasattr\u001b[0m\u001b[0;34m(\u001b[0m\u001b[0mexpr\u001b[0m\u001b[0;34m,\u001b[0m \u001b[0;34m'args_cnc'\u001b[0m\u001b[0;34m)\u001b[0m\u001b[0;34m:\u001b[0m\u001b[0;34m\u001b[0m\u001b[0;34m\u001b[0m\u001b[0m\n\u001b[1;32m   1216\u001b[0m             \u001b[0margs\u001b[0m \u001b[0;34m=\u001b[0m \u001b[0mexpr\u001b[0m\u001b[0;34m.\u001b[0m\u001b[0margs\u001b[0m\u001b[0;34m\u001b[0m\u001b[0;34m\u001b[0m\u001b[0m\n\u001b[0;32m-> 1217\u001b[0;31m             \u001b[0mnewargs\u001b[0m \u001b[0;34m=\u001b[0m \u001b[0mtuple\u001b[0m\u001b[0;34m(\u001b[0m\u001b[0;34m[\u001b[0m\u001b[0mdo\u001b[0m\u001b[0;34m(\u001b[0m\u001b[0mi\u001b[0m\u001b[0;34m)\u001b[0m \u001b[0;32mfor\u001b[0m \u001b[0mi\u001b[0m \u001b[0;32min\u001b[0m \u001b[0margs\u001b[0m\u001b[0;34m]\u001b[0m\u001b[0;34m)\u001b[0m\u001b[0;34m\u001b[0m\u001b[0;34m\u001b[0m\u001b[0m\n\u001b[0m\u001b[1;32m   1218\u001b[0m             \u001b[0;32mif\u001b[0m \u001b[0mnewargs\u001b[0m \u001b[0;34m==\u001b[0m \u001b[0margs\u001b[0m\u001b[0;34m:\u001b[0m\u001b[0;34m\u001b[0m\u001b[0;34m\u001b[0m\u001b[0m\n\u001b[1;32m   1219\u001b[0m                 \u001b[0;32mreturn\u001b[0m \u001b[0mexpr\u001b[0m\u001b[0;34m\u001b[0m\u001b[0;34m\u001b[0m\u001b[0m\n",
      "\u001b[0;32m~/.local/lib/python3.7/site-packages/sympy/core/exprtools.py\u001b[0m in \u001b[0;36m<listcomp>\u001b[0;34m(.0)\u001b[0m\n\u001b[1;32m   1215\u001b[0m                 \u001b[0mis_iterable\u001b[0m \u001b[0;32mor\u001b[0m \u001b[0;32mnot\u001b[0m \u001b[0mhasattr\u001b[0m\u001b[0;34m(\u001b[0m\u001b[0mexpr\u001b[0m\u001b[0;34m,\u001b[0m \u001b[0;34m'args_cnc'\u001b[0m\u001b[0;34m)\u001b[0m\u001b[0;34m:\u001b[0m\u001b[0;34m\u001b[0m\u001b[0;34m\u001b[0m\u001b[0m\n\u001b[1;32m   1216\u001b[0m             \u001b[0margs\u001b[0m \u001b[0;34m=\u001b[0m \u001b[0mexpr\u001b[0m\u001b[0;34m.\u001b[0m\u001b[0margs\u001b[0m\u001b[0;34m\u001b[0m\u001b[0;34m\u001b[0m\u001b[0m\n\u001b[0;32m-> 1217\u001b[0;31m             \u001b[0mnewargs\u001b[0m \u001b[0;34m=\u001b[0m \u001b[0mtuple\u001b[0m\u001b[0;34m(\u001b[0m\u001b[0;34m[\u001b[0m\u001b[0mdo\u001b[0m\u001b[0;34m(\u001b[0m\u001b[0mi\u001b[0m\u001b[0;34m)\u001b[0m \u001b[0;32mfor\u001b[0m \u001b[0mi\u001b[0m \u001b[0;32min\u001b[0m \u001b[0margs\u001b[0m\u001b[0;34m]\u001b[0m\u001b[0;34m)\u001b[0m\u001b[0;34m\u001b[0m\u001b[0;34m\u001b[0m\u001b[0m\n\u001b[0m\u001b[1;32m   1218\u001b[0m             \u001b[0;32mif\u001b[0m \u001b[0mnewargs\u001b[0m \u001b[0;34m==\u001b[0m \u001b[0margs\u001b[0m\u001b[0;34m:\u001b[0m\u001b[0;34m\u001b[0m\u001b[0;34m\u001b[0m\u001b[0m\n\u001b[1;32m   1219\u001b[0m                 \u001b[0;32mreturn\u001b[0m \u001b[0mexpr\u001b[0m\u001b[0;34m\u001b[0m\u001b[0;34m\u001b[0m\u001b[0m\n",
      "\u001b[0;32m~/.local/lib/python3.7/site-packages/sympy/core/exprtools.py\u001b[0m in \u001b[0;36mdo\u001b[0;34m(expr)\u001b[0m\n\u001b[1;32m   1227\u001b[0m         \u001b[0mcont\u001b[0m\u001b[0;34m,\u001b[0m \u001b[0mp\u001b[0m \u001b[0;34m=\u001b[0m \u001b[0mexpr\u001b[0m\u001b[0;34m.\u001b[0m\u001b[0mas_content_primitive\u001b[0m\u001b[0;34m(\u001b[0m\u001b[0mradical\u001b[0m\u001b[0;34m=\u001b[0m\u001b[0mradical\u001b[0m\u001b[0;34m,\u001b[0m \u001b[0mclear\u001b[0m\u001b[0;34m=\u001b[0m\u001b[0mclear\u001b[0m\u001b[0;34m)\u001b[0m\u001b[0;34m\u001b[0m\u001b[0;34m\u001b[0m\u001b[0m\n\u001b[1;32m   1228\u001b[0m         \u001b[0;32mif\u001b[0m \u001b[0mp\u001b[0m\u001b[0;34m.\u001b[0m\u001b[0mis_Add\u001b[0m\u001b[0;34m:\u001b[0m\u001b[0;34m\u001b[0m\u001b[0;34m\u001b[0m\u001b[0m\n\u001b[0;32m-> 1229\u001b[0;31m             \u001b[0mlist_args\u001b[0m \u001b[0;34m=\u001b[0m \u001b[0;34m[\u001b[0m\u001b[0mdo\u001b[0m\u001b[0;34m(\u001b[0m\u001b[0ma\u001b[0m\u001b[0;34m)\u001b[0m \u001b[0;32mfor\u001b[0m \u001b[0ma\u001b[0m \u001b[0;32min\u001b[0m \u001b[0mAdd\u001b[0m\u001b[0;34m.\u001b[0m\u001b[0mmake_args\u001b[0m\u001b[0;34m(\u001b[0m\u001b[0mp\u001b[0m\u001b[0;34m)\u001b[0m\u001b[0;34m]\u001b[0m\u001b[0;34m\u001b[0m\u001b[0;34m\u001b[0m\u001b[0m\n\u001b[0m\u001b[1;32m   1230\u001b[0m             \u001b[0;31m# get a common negative (if there) which gcd_terms does not remove\u001b[0m\u001b[0;34m\u001b[0m\u001b[0;34m\u001b[0m\u001b[0;34m\u001b[0m\u001b[0m\n\u001b[1;32m   1231\u001b[0m             if all(a.as_coeff_Mul()[0].extract_multiplicatively(-1) is not None\n",
      "\u001b[0;32m~/.local/lib/python3.7/site-packages/sympy/core/exprtools.py\u001b[0m in \u001b[0;36m<listcomp>\u001b[0;34m(.0)\u001b[0m\n\u001b[1;32m   1227\u001b[0m         \u001b[0mcont\u001b[0m\u001b[0;34m,\u001b[0m \u001b[0mp\u001b[0m \u001b[0;34m=\u001b[0m \u001b[0mexpr\u001b[0m\u001b[0;34m.\u001b[0m\u001b[0mas_content_primitive\u001b[0m\u001b[0;34m(\u001b[0m\u001b[0mradical\u001b[0m\u001b[0;34m=\u001b[0m\u001b[0mradical\u001b[0m\u001b[0;34m,\u001b[0m \u001b[0mclear\u001b[0m\u001b[0;34m=\u001b[0m\u001b[0mclear\u001b[0m\u001b[0;34m)\u001b[0m\u001b[0;34m\u001b[0m\u001b[0;34m\u001b[0m\u001b[0m\n\u001b[1;32m   1228\u001b[0m         \u001b[0;32mif\u001b[0m \u001b[0mp\u001b[0m\u001b[0;34m.\u001b[0m\u001b[0mis_Add\u001b[0m\u001b[0;34m:\u001b[0m\u001b[0;34m\u001b[0m\u001b[0;34m\u001b[0m\u001b[0m\n\u001b[0;32m-> 1229\u001b[0;31m             \u001b[0mlist_args\u001b[0m \u001b[0;34m=\u001b[0m \u001b[0;34m[\u001b[0m\u001b[0mdo\u001b[0m\u001b[0;34m(\u001b[0m\u001b[0ma\u001b[0m\u001b[0;34m)\u001b[0m \u001b[0;32mfor\u001b[0m \u001b[0ma\u001b[0m \u001b[0;32min\u001b[0m \u001b[0mAdd\u001b[0m\u001b[0;34m.\u001b[0m\u001b[0mmake_args\u001b[0m\u001b[0;34m(\u001b[0m\u001b[0mp\u001b[0m\u001b[0;34m)\u001b[0m\u001b[0;34m]\u001b[0m\u001b[0;34m\u001b[0m\u001b[0;34m\u001b[0m\u001b[0m\n\u001b[0m\u001b[1;32m   1230\u001b[0m             \u001b[0;31m# get a common negative (if there) which gcd_terms does not remove\u001b[0m\u001b[0;34m\u001b[0m\u001b[0;34m\u001b[0m\u001b[0;34m\u001b[0m\u001b[0m\n\u001b[1;32m   1231\u001b[0m             if all(a.as_coeff_Mul()[0].extract_multiplicatively(-1) is not None\n",
      "\u001b[0;32m~/.local/lib/python3.7/site-packages/sympy/core/exprtools.py\u001b[0m in \u001b[0;36mdo\u001b[0;34m(expr)\u001b[0m\n\u001b[1;32m   1248\u001b[0m         \u001b[0;32melif\u001b[0m \u001b[0mp\u001b[0m\u001b[0;34m.\u001b[0m\u001b[0margs\u001b[0m\u001b[0;34m:\u001b[0m\u001b[0;34m\u001b[0m\u001b[0;34m\u001b[0m\u001b[0m\n\u001b[1;32m   1249\u001b[0m             p = p.func(\n\u001b[0;32m-> 1250\u001b[0;31m                 *[do(a) for a in p.args])\n\u001b[0m\u001b[1;32m   1251\u001b[0m         \u001b[0mrv\u001b[0m \u001b[0;34m=\u001b[0m \u001b[0m_keep_coeff\u001b[0m\u001b[0;34m(\u001b[0m\u001b[0mcont\u001b[0m\u001b[0;34m,\u001b[0m \u001b[0mp\u001b[0m\u001b[0;34m,\u001b[0m \u001b[0mclear\u001b[0m\u001b[0;34m=\u001b[0m\u001b[0mclear\u001b[0m\u001b[0;34m,\u001b[0m \u001b[0msign\u001b[0m\u001b[0;34m=\u001b[0m\u001b[0msign\u001b[0m\u001b[0;34m)\u001b[0m\u001b[0;34m\u001b[0m\u001b[0;34m\u001b[0m\u001b[0m\n\u001b[1;32m   1252\u001b[0m         \u001b[0;32mreturn\u001b[0m \u001b[0mrv\u001b[0m\u001b[0;34m\u001b[0m\u001b[0;34m\u001b[0m\u001b[0m\n",
      "\u001b[0;32m~/.local/lib/python3.7/site-packages/sympy/core/exprtools.py\u001b[0m in \u001b[0;36m<listcomp>\u001b[0;34m(.0)\u001b[0m\n\u001b[1;32m   1248\u001b[0m         \u001b[0;32melif\u001b[0m \u001b[0mp\u001b[0m\u001b[0;34m.\u001b[0m\u001b[0margs\u001b[0m\u001b[0;34m:\u001b[0m\u001b[0;34m\u001b[0m\u001b[0;34m\u001b[0m\u001b[0m\n\u001b[1;32m   1249\u001b[0m             p = p.func(\n\u001b[0;32m-> 1250\u001b[0;31m                 *[do(a) for a in p.args])\n\u001b[0m\u001b[1;32m   1251\u001b[0m         \u001b[0mrv\u001b[0m \u001b[0;34m=\u001b[0m \u001b[0m_keep_coeff\u001b[0m\u001b[0;34m(\u001b[0m\u001b[0mcont\u001b[0m\u001b[0;34m,\u001b[0m \u001b[0mp\u001b[0m\u001b[0;34m,\u001b[0m \u001b[0mclear\u001b[0m\u001b[0;34m=\u001b[0m\u001b[0mclear\u001b[0m\u001b[0;34m,\u001b[0m \u001b[0msign\u001b[0m\u001b[0;34m=\u001b[0m\u001b[0msign\u001b[0m\u001b[0;34m)\u001b[0m\u001b[0;34m\u001b[0m\u001b[0;34m\u001b[0m\u001b[0m\n\u001b[1;32m   1252\u001b[0m         \u001b[0;32mreturn\u001b[0m \u001b[0mrv\u001b[0m\u001b[0;34m\u001b[0m\u001b[0;34m\u001b[0m\u001b[0m\n",
      "\u001b[0;32m~/.local/lib/python3.7/site-packages/sympy/core/exprtools.py\u001b[0m in \u001b[0;36mdo\u001b[0;34m(expr)\u001b[0m\n\u001b[1;32m   1215\u001b[0m                 \u001b[0mis_iterable\u001b[0m \u001b[0;32mor\u001b[0m \u001b[0;32mnot\u001b[0m \u001b[0mhasattr\u001b[0m\u001b[0;34m(\u001b[0m\u001b[0mexpr\u001b[0m\u001b[0;34m,\u001b[0m \u001b[0;34m'args_cnc'\u001b[0m\u001b[0;34m)\u001b[0m\u001b[0;34m:\u001b[0m\u001b[0;34m\u001b[0m\u001b[0;34m\u001b[0m\u001b[0m\n\u001b[1;32m   1216\u001b[0m             \u001b[0margs\u001b[0m \u001b[0;34m=\u001b[0m \u001b[0mexpr\u001b[0m\u001b[0;34m.\u001b[0m\u001b[0margs\u001b[0m\u001b[0;34m\u001b[0m\u001b[0;34m\u001b[0m\u001b[0m\n\u001b[0;32m-> 1217\u001b[0;31m             \u001b[0mnewargs\u001b[0m \u001b[0;34m=\u001b[0m \u001b[0mtuple\u001b[0m\u001b[0;34m(\u001b[0m\u001b[0;34m[\u001b[0m\u001b[0mdo\u001b[0m\u001b[0;34m(\u001b[0m\u001b[0mi\u001b[0m\u001b[0;34m)\u001b[0m \u001b[0;32mfor\u001b[0m \u001b[0mi\u001b[0m \u001b[0;32min\u001b[0m \u001b[0margs\u001b[0m\u001b[0;34m]\u001b[0m\u001b[0;34m)\u001b[0m\u001b[0;34m\u001b[0m\u001b[0;34m\u001b[0m\u001b[0m\n\u001b[0m\u001b[1;32m   1218\u001b[0m             \u001b[0;32mif\u001b[0m \u001b[0mnewargs\u001b[0m \u001b[0;34m==\u001b[0m \u001b[0margs\u001b[0m\u001b[0;34m:\u001b[0m\u001b[0;34m\u001b[0m\u001b[0;34m\u001b[0m\u001b[0m\n\u001b[1;32m   1219\u001b[0m                 \u001b[0;32mreturn\u001b[0m \u001b[0mexpr\u001b[0m\u001b[0;34m\u001b[0m\u001b[0;34m\u001b[0m\u001b[0m\n",
      "\u001b[0;32m~/.local/lib/python3.7/site-packages/sympy/core/exprtools.py\u001b[0m in \u001b[0;36m<listcomp>\u001b[0;34m(.0)\u001b[0m\n\u001b[1;32m   1215\u001b[0m                 \u001b[0mis_iterable\u001b[0m \u001b[0;32mor\u001b[0m \u001b[0;32mnot\u001b[0m \u001b[0mhasattr\u001b[0m\u001b[0;34m(\u001b[0m\u001b[0mexpr\u001b[0m\u001b[0;34m,\u001b[0m \u001b[0;34m'args_cnc'\u001b[0m\u001b[0;34m)\u001b[0m\u001b[0;34m:\u001b[0m\u001b[0;34m\u001b[0m\u001b[0;34m\u001b[0m\u001b[0m\n\u001b[1;32m   1216\u001b[0m             \u001b[0margs\u001b[0m \u001b[0;34m=\u001b[0m \u001b[0mexpr\u001b[0m\u001b[0;34m.\u001b[0m\u001b[0margs\u001b[0m\u001b[0;34m\u001b[0m\u001b[0;34m\u001b[0m\u001b[0m\n\u001b[0;32m-> 1217\u001b[0;31m             \u001b[0mnewargs\u001b[0m \u001b[0;34m=\u001b[0m \u001b[0mtuple\u001b[0m\u001b[0;34m(\u001b[0m\u001b[0;34m[\u001b[0m\u001b[0mdo\u001b[0m\u001b[0;34m(\u001b[0m\u001b[0mi\u001b[0m\u001b[0;34m)\u001b[0m \u001b[0;32mfor\u001b[0m \u001b[0mi\u001b[0m \u001b[0;32min\u001b[0m \u001b[0margs\u001b[0m\u001b[0;34m]\u001b[0m\u001b[0;34m)\u001b[0m\u001b[0;34m\u001b[0m\u001b[0;34m\u001b[0m\u001b[0m\n\u001b[0m\u001b[1;32m   1218\u001b[0m             \u001b[0;32mif\u001b[0m \u001b[0mnewargs\u001b[0m \u001b[0;34m==\u001b[0m \u001b[0margs\u001b[0m\u001b[0;34m:\u001b[0m\u001b[0;34m\u001b[0m\u001b[0;34m\u001b[0m\u001b[0m\n\u001b[1;32m   1219\u001b[0m                 \u001b[0;32mreturn\u001b[0m \u001b[0mexpr\u001b[0m\u001b[0;34m\u001b[0m\u001b[0;34m\u001b[0m\u001b[0m\n",
      "\u001b[0;32m~/.local/lib/python3.7/site-packages/sympy/core/exprtools.py\u001b[0m in \u001b[0;36mdo\u001b[0;34m(expr)\u001b[0m\n\u001b[1;32m   1227\u001b[0m         \u001b[0mcont\u001b[0m\u001b[0;34m,\u001b[0m \u001b[0mp\u001b[0m \u001b[0;34m=\u001b[0m \u001b[0mexpr\u001b[0m\u001b[0;34m.\u001b[0m\u001b[0mas_content_primitive\u001b[0m\u001b[0;34m(\u001b[0m\u001b[0mradical\u001b[0m\u001b[0;34m=\u001b[0m\u001b[0mradical\u001b[0m\u001b[0;34m,\u001b[0m \u001b[0mclear\u001b[0m\u001b[0;34m=\u001b[0m\u001b[0mclear\u001b[0m\u001b[0;34m)\u001b[0m\u001b[0;34m\u001b[0m\u001b[0;34m\u001b[0m\u001b[0m\n\u001b[1;32m   1228\u001b[0m         \u001b[0;32mif\u001b[0m \u001b[0mp\u001b[0m\u001b[0;34m.\u001b[0m\u001b[0mis_Add\u001b[0m\u001b[0;34m:\u001b[0m\u001b[0;34m\u001b[0m\u001b[0;34m\u001b[0m\u001b[0m\n\u001b[0;32m-> 1229\u001b[0;31m             \u001b[0mlist_args\u001b[0m \u001b[0;34m=\u001b[0m \u001b[0;34m[\u001b[0m\u001b[0mdo\u001b[0m\u001b[0;34m(\u001b[0m\u001b[0ma\u001b[0m\u001b[0;34m)\u001b[0m \u001b[0;32mfor\u001b[0m \u001b[0ma\u001b[0m \u001b[0;32min\u001b[0m \u001b[0mAdd\u001b[0m\u001b[0;34m.\u001b[0m\u001b[0mmake_args\u001b[0m\u001b[0;34m(\u001b[0m\u001b[0mp\u001b[0m\u001b[0;34m)\u001b[0m\u001b[0;34m]\u001b[0m\u001b[0;34m\u001b[0m\u001b[0;34m\u001b[0m\u001b[0m\n\u001b[0m\u001b[1;32m   1230\u001b[0m             \u001b[0;31m# get a common negative (if there) which gcd_terms does not remove\u001b[0m\u001b[0;34m\u001b[0m\u001b[0;34m\u001b[0m\u001b[0;34m\u001b[0m\u001b[0m\n\u001b[1;32m   1231\u001b[0m             if all(a.as_coeff_Mul()[0].extract_multiplicatively(-1) is not None\n",
      "\u001b[0;32m~/.local/lib/python3.7/site-packages/sympy/core/exprtools.py\u001b[0m in \u001b[0;36m<listcomp>\u001b[0;34m(.0)\u001b[0m\n\u001b[1;32m   1227\u001b[0m         \u001b[0mcont\u001b[0m\u001b[0;34m,\u001b[0m \u001b[0mp\u001b[0m \u001b[0;34m=\u001b[0m \u001b[0mexpr\u001b[0m\u001b[0;34m.\u001b[0m\u001b[0mas_content_primitive\u001b[0m\u001b[0;34m(\u001b[0m\u001b[0mradical\u001b[0m\u001b[0;34m=\u001b[0m\u001b[0mradical\u001b[0m\u001b[0;34m,\u001b[0m \u001b[0mclear\u001b[0m\u001b[0;34m=\u001b[0m\u001b[0mclear\u001b[0m\u001b[0;34m)\u001b[0m\u001b[0;34m\u001b[0m\u001b[0;34m\u001b[0m\u001b[0m\n\u001b[1;32m   1228\u001b[0m         \u001b[0;32mif\u001b[0m \u001b[0mp\u001b[0m\u001b[0;34m.\u001b[0m\u001b[0mis_Add\u001b[0m\u001b[0;34m:\u001b[0m\u001b[0;34m\u001b[0m\u001b[0;34m\u001b[0m\u001b[0m\n\u001b[0;32m-> 1229\u001b[0;31m             \u001b[0mlist_args\u001b[0m \u001b[0;34m=\u001b[0m \u001b[0;34m[\u001b[0m\u001b[0mdo\u001b[0m\u001b[0;34m(\u001b[0m\u001b[0ma\u001b[0m\u001b[0;34m)\u001b[0m \u001b[0;32mfor\u001b[0m \u001b[0ma\u001b[0m \u001b[0;32min\u001b[0m \u001b[0mAdd\u001b[0m\u001b[0;34m.\u001b[0m\u001b[0mmake_args\u001b[0m\u001b[0;34m(\u001b[0m\u001b[0mp\u001b[0m\u001b[0;34m)\u001b[0m\u001b[0;34m]\u001b[0m\u001b[0;34m\u001b[0m\u001b[0;34m\u001b[0m\u001b[0m\n\u001b[0m\u001b[1;32m   1230\u001b[0m             \u001b[0;31m# get a common negative (if there) which gcd_terms does not remove\u001b[0m\u001b[0;34m\u001b[0m\u001b[0;34m\u001b[0m\u001b[0;34m\u001b[0m\u001b[0m\n\u001b[1;32m   1231\u001b[0m             if all(a.as_coeff_Mul()[0].extract_multiplicatively(-1) is not None\n",
      "\u001b[0;32m~/.local/lib/python3.7/site-packages/sympy/core/exprtools.py\u001b[0m in \u001b[0;36mdo\u001b[0;34m(expr)\u001b[0m\n\u001b[1;32m   1225\u001b[0m                 fraction=fraction, sign=sign)\n\u001b[1;32m   1226\u001b[0m \u001b[0;34m\u001b[0m\u001b[0m\n\u001b[0;32m-> 1227\u001b[0;31m         \u001b[0mcont\u001b[0m\u001b[0;34m,\u001b[0m \u001b[0mp\u001b[0m \u001b[0;34m=\u001b[0m \u001b[0mexpr\u001b[0m\u001b[0;34m.\u001b[0m\u001b[0mas_content_primitive\u001b[0m\u001b[0;34m(\u001b[0m\u001b[0mradical\u001b[0m\u001b[0;34m=\u001b[0m\u001b[0mradical\u001b[0m\u001b[0;34m,\u001b[0m \u001b[0mclear\u001b[0m\u001b[0;34m=\u001b[0m\u001b[0mclear\u001b[0m\u001b[0;34m)\u001b[0m\u001b[0;34m\u001b[0m\u001b[0;34m\u001b[0m\u001b[0m\n\u001b[0m\u001b[1;32m   1228\u001b[0m         \u001b[0;32mif\u001b[0m \u001b[0mp\u001b[0m\u001b[0;34m.\u001b[0m\u001b[0mis_Add\u001b[0m\u001b[0;34m:\u001b[0m\u001b[0;34m\u001b[0m\u001b[0;34m\u001b[0m\u001b[0m\n\u001b[1;32m   1229\u001b[0m             \u001b[0mlist_args\u001b[0m \u001b[0;34m=\u001b[0m \u001b[0;34m[\u001b[0m\u001b[0mdo\u001b[0m\u001b[0;34m(\u001b[0m\u001b[0ma\u001b[0m\u001b[0;34m)\u001b[0m \u001b[0;32mfor\u001b[0m \u001b[0ma\u001b[0m \u001b[0;32min\u001b[0m \u001b[0mAdd\u001b[0m\u001b[0;34m.\u001b[0m\u001b[0mmake_args\u001b[0m\u001b[0;34m(\u001b[0m\u001b[0mp\u001b[0m\u001b[0;34m)\u001b[0m\u001b[0;34m]\u001b[0m\u001b[0;34m\u001b[0m\u001b[0;34m\u001b[0m\u001b[0m\n",
      "\u001b[0;32m~/.local/lib/python3.7/site-packages/sympy/core/mul.py\u001b[0m in \u001b[0;36mas_content_primitive\u001b[0;34m(self, radical, clear)\u001b[0m\n\u001b[1;32m   1796\u001b[0m         \u001b[0margs\u001b[0m \u001b[0;34m=\u001b[0m \u001b[0;34m[\u001b[0m\u001b[0;34m]\u001b[0m\u001b[0;34m\u001b[0m\u001b[0;34m\u001b[0m\u001b[0m\n\u001b[1;32m   1797\u001b[0m         \u001b[0;32mfor\u001b[0m \u001b[0mi\u001b[0m\u001b[0;34m,\u001b[0m \u001b[0ma\u001b[0m \u001b[0;32min\u001b[0m \u001b[0menumerate\u001b[0m\u001b[0;34m(\u001b[0m\u001b[0mself\u001b[0m\u001b[0;34m.\u001b[0m\u001b[0margs\u001b[0m\u001b[0;34m)\u001b[0m\u001b[0;34m:\u001b[0m\u001b[0;34m\u001b[0m\u001b[0;34m\u001b[0m\u001b[0m\n\u001b[0;32m-> 1798\u001b[0;31m             \u001b[0mc\u001b[0m\u001b[0;34m,\u001b[0m \u001b[0mp\u001b[0m \u001b[0;34m=\u001b[0m \u001b[0ma\u001b[0m\u001b[0;34m.\u001b[0m\u001b[0mas_content_primitive\u001b[0m\u001b[0;34m(\u001b[0m\u001b[0mradical\u001b[0m\u001b[0;34m=\u001b[0m\u001b[0mradical\u001b[0m\u001b[0;34m,\u001b[0m \u001b[0mclear\u001b[0m\u001b[0;34m=\u001b[0m\u001b[0mclear\u001b[0m\u001b[0;34m)\u001b[0m\u001b[0;34m\u001b[0m\u001b[0;34m\u001b[0m\u001b[0m\n\u001b[0m\u001b[1;32m   1799\u001b[0m             \u001b[0mcoef\u001b[0m \u001b[0;34m*=\u001b[0m \u001b[0mc\u001b[0m\u001b[0;34m\u001b[0m\u001b[0;34m\u001b[0m\u001b[0m\n\u001b[1;32m   1800\u001b[0m             \u001b[0;32mif\u001b[0m \u001b[0mp\u001b[0m \u001b[0;32mis\u001b[0m \u001b[0;32mnot\u001b[0m \u001b[0mS\u001b[0m\u001b[0;34m.\u001b[0m\u001b[0mOne\u001b[0m\u001b[0;34m:\u001b[0m\u001b[0;34m\u001b[0m\u001b[0;34m\u001b[0m\u001b[0m\n",
      "\u001b[0;32m~/.local/lib/python3.7/site-packages/sympy/core/power.py\u001b[0m in \u001b[0;36mas_content_primitive\u001b[0;34m(self, radical, clear)\u001b[0m\n\u001b[1;32m   1720\u001b[0m \u001b[0;34m\u001b[0m\u001b[0m\n\u001b[1;32m   1721\u001b[0m         \u001b[0mb\u001b[0m\u001b[0;34m,\u001b[0m \u001b[0me\u001b[0m \u001b[0;34m=\u001b[0m \u001b[0mself\u001b[0m\u001b[0;34m.\u001b[0m\u001b[0mas_base_exp\u001b[0m\u001b[0;34m(\u001b[0m\u001b[0;34m)\u001b[0m\u001b[0;34m\u001b[0m\u001b[0;34m\u001b[0m\u001b[0m\n\u001b[0;32m-> 1722\u001b[0;31m         \u001b[0mb\u001b[0m \u001b[0;34m=\u001b[0m \u001b[0m_keep_coeff\u001b[0m\u001b[0;34m(\u001b[0m\u001b[0;34m*\u001b[0m\u001b[0mb\u001b[0m\u001b[0;34m.\u001b[0m\u001b[0mas_content_primitive\u001b[0m\u001b[0;34m(\u001b[0m\u001b[0mradical\u001b[0m\u001b[0;34m=\u001b[0m\u001b[0mradical\u001b[0m\u001b[0;34m,\u001b[0m \u001b[0mclear\u001b[0m\u001b[0;34m=\u001b[0m\u001b[0mclear\u001b[0m\u001b[0;34m)\u001b[0m\u001b[0;34m)\u001b[0m\u001b[0;34m\u001b[0m\u001b[0;34m\u001b[0m\u001b[0m\n\u001b[0m\u001b[1;32m   1723\u001b[0m         \u001b[0mce\u001b[0m\u001b[0;34m,\u001b[0m \u001b[0mpe\u001b[0m \u001b[0;34m=\u001b[0m \u001b[0me\u001b[0m\u001b[0;34m.\u001b[0m\u001b[0mas_content_primitive\u001b[0m\u001b[0;34m(\u001b[0m\u001b[0mradical\u001b[0m\u001b[0;34m=\u001b[0m\u001b[0mradical\u001b[0m\u001b[0;34m,\u001b[0m \u001b[0mclear\u001b[0m\u001b[0;34m=\u001b[0m\u001b[0mclear\u001b[0m\u001b[0;34m)\u001b[0m\u001b[0;34m\u001b[0m\u001b[0;34m\u001b[0m\u001b[0m\n\u001b[1;32m   1724\u001b[0m         \u001b[0;32mif\u001b[0m \u001b[0mb\u001b[0m\u001b[0;34m.\u001b[0m\u001b[0mis_Rational\u001b[0m\u001b[0;34m:\u001b[0m\u001b[0;34m\u001b[0m\u001b[0;34m\u001b[0m\u001b[0m\n",
      "\u001b[0;32m~/.local/lib/python3.7/site-packages/sympy/core/add.py\u001b[0m in \u001b[0;36mas_content_primitive\u001b[0;34m(self, radical, clear)\u001b[0m\n\u001b[1;32m   1035\u001b[0m         \"\"\"\n\u001b[1;32m   1036\u001b[0m         con, prim = self.func(*[_keep_coeff(*a.as_content_primitive(\n\u001b[0;32m-> 1037\u001b[0;31m             radical=radical, clear=clear)) for a in self.args]).primitive()\n\u001b[0m\u001b[1;32m   1038\u001b[0m         \u001b[0;32mif\u001b[0m \u001b[0;32mnot\u001b[0m \u001b[0mclear\u001b[0m \u001b[0;32mand\u001b[0m \u001b[0;32mnot\u001b[0m \u001b[0mcon\u001b[0m\u001b[0;34m.\u001b[0m\u001b[0mis_Integer\u001b[0m \u001b[0;32mand\u001b[0m \u001b[0mprim\u001b[0m\u001b[0;34m.\u001b[0m\u001b[0mis_Add\u001b[0m\u001b[0;34m:\u001b[0m\u001b[0;34m\u001b[0m\u001b[0;34m\u001b[0m\u001b[0m\n\u001b[1;32m   1039\u001b[0m             \u001b[0mcon\u001b[0m\u001b[0;34m,\u001b[0m \u001b[0md\u001b[0m \u001b[0;34m=\u001b[0m \u001b[0mcon\u001b[0m\u001b[0;34m.\u001b[0m\u001b[0mas_numer_denom\u001b[0m\u001b[0;34m(\u001b[0m\u001b[0;34m)\u001b[0m\u001b[0;34m\u001b[0m\u001b[0;34m\u001b[0m\u001b[0m\n",
      "\u001b[0;32m~/.local/lib/python3.7/site-packages/sympy/core/add.py\u001b[0m in \u001b[0;36mprimitive\u001b[0;34m(self)\u001b[0m\n\u001b[1;32m    971\u001b[0m         \u001b[0mterms\u001b[0m \u001b[0;34m=\u001b[0m \u001b[0;34m[\u001b[0m\u001b[0;34m]\u001b[0m\u001b[0;34m\u001b[0m\u001b[0;34m\u001b[0m\u001b[0m\n\u001b[1;32m    972\u001b[0m         \u001b[0minf\u001b[0m \u001b[0;34m=\u001b[0m \u001b[0;32mFalse\u001b[0m\u001b[0;34m\u001b[0m\u001b[0;34m\u001b[0m\u001b[0m\n\u001b[0;32m--> 973\u001b[0;31m         \u001b[0;32mfor\u001b[0m \u001b[0ma\u001b[0m \u001b[0;32min\u001b[0m \u001b[0mself\u001b[0m\u001b[0;34m.\u001b[0m\u001b[0margs\u001b[0m\u001b[0;34m:\u001b[0m\u001b[0;34m\u001b[0m\u001b[0;34m\u001b[0m\u001b[0m\n\u001b[0m\u001b[1;32m    974\u001b[0m             \u001b[0mc\u001b[0m\u001b[0;34m,\u001b[0m \u001b[0mm\u001b[0m \u001b[0;34m=\u001b[0m \u001b[0ma\u001b[0m\u001b[0;34m.\u001b[0m\u001b[0mas_coeff_Mul\u001b[0m\u001b[0;34m(\u001b[0m\u001b[0;34m)\u001b[0m\u001b[0;34m\u001b[0m\u001b[0;34m\u001b[0m\u001b[0m\n\u001b[1;32m    975\u001b[0m             \u001b[0;32mif\u001b[0m \u001b[0;32mnot\u001b[0m \u001b[0mc\u001b[0m\u001b[0;34m.\u001b[0m\u001b[0mis_Rational\u001b[0m\u001b[0;34m:\u001b[0m\u001b[0;34m\u001b[0m\u001b[0;34m\u001b[0m\u001b[0m\n",
      "\u001b[0;32m~/.local/lib/python3.7/site-packages/sympy/core/basic.py\u001b[0m in \u001b[0;36margs\u001b[0;34m(self)\u001b[0m\n\u001b[1;32m    736\u001b[0m         \u001b[0;32mreturn\u001b[0m \u001b[0mself\u001b[0m\u001b[0;34m.\u001b[0m\u001b[0m__class__\u001b[0m\u001b[0;34m\u001b[0m\u001b[0;34m\u001b[0m\u001b[0m\n\u001b[1;32m    737\u001b[0m \u001b[0;34m\u001b[0m\u001b[0m\n\u001b[0;32m--> 738\u001b[0;31m     \u001b[0;34m@\u001b[0m\u001b[0mproperty\u001b[0m\u001b[0;34m\u001b[0m\u001b[0;34m\u001b[0m\u001b[0m\n\u001b[0m\u001b[1;32m    739\u001b[0m     \u001b[0;32mdef\u001b[0m \u001b[0margs\u001b[0m\u001b[0;34m(\u001b[0m\u001b[0mself\u001b[0m\u001b[0;34m)\u001b[0m\u001b[0;34m:\u001b[0m\u001b[0;34m\u001b[0m\u001b[0;34m\u001b[0m\u001b[0m\n\u001b[1;32m    740\u001b[0m         \"\"\"Returns a tuple of arguments of 'self'.\n",
      "\u001b[0;31mKeyboardInterrupt\u001b[0m: "
     ]
    }
   ],
   "source": [
    "sp.solve(FFunc,v)"
   ]
  },
  {
   "cell_type": "code",
   "execution_count": 11,
   "metadata": {},
   "outputs": [],
   "source": [
    "# Try3"
   ]
  },
  {
   "cell_type": "code",
   "execution_count": 11,
   "metadata": {},
   "outputs": [],
   "source": [
    "phiFunc = sp.cos(beta/2)**4 #Define the phase function PhiH(beta,A,B,C,D)\n",
    "#subs half angle formula\n",
    "phiFunc = 0.25+0.5*sp.cos(beta)+0.25*sp.cos(beta)**2\n",
    "phiFunc = phiFunc.subs(beta,betaFunc) #replace in phase function\n",
    "FFunc = sp.expand(phiFunc*(e*sp.cos(v)+1)**2 - F) # is equal to 0\n",
    "FFunc = FFunc.subs(sp.sin(v),sp.sqrt(1-sp.cos(v)**2))\n",
    "FFunc = sp.expand(FFunc.subs(w,0).subs(inc,0.5))"
   ]
  },
  {
   "cell_type": "code",
   "execution_count": 12,
   "metadata": {},
   "outputs": [
    {
     "data": {
      "text/latex": [
       "$\\displaystyle - F + 0.239712769302102 e^{2} \\sqrt{1 - \\cos^{2}{\\left(v \\right)}} \\cos^{2}{\\left(v \\right)} - 0.0574622117664825 e^{2} \\cos^{4}{\\left(v \\right)} + 0.307462211766483 e^{2} \\cos^{2}{\\left(v \\right)} + 0.479425538604203 e \\sqrt{1 - \\cos^{2}{\\left(v \\right)}} \\cos{\\left(v \\right)} - 0.114924423532965 e \\cos^{3}{\\left(v \\right)} + 0.614924423532965 e \\cos{\\left(v \\right)} + 0.239712769302102 \\sqrt{1 - \\cos^{2}{\\left(v \\right)}} - 0.0574622117664825 \\cos^{2}{\\left(v \\right)} + 0.307462211766483$"
      ],
      "text/plain": [
       "-F + 0.239712769302102*e**2*sqrt(1 - cos(v)**2)*cos(v)**2 - 0.0574622117664825*e**2*cos(v)**4 + 0.307462211766483*e**2*cos(v)**2 + 0.479425538604203*e*sqrt(1 - cos(v)**2)*cos(v) - 0.114924423532965*e*cos(v)**3 + 0.614924423532965*e*cos(v) + 0.239712769302102*sqrt(1 - cos(v)**2) - 0.0574622117664825*cos(v)**2 + 0.307462211766483"
      ]
     },
     "execution_count": 12,
     "metadata": {},
     "output_type": "execute_result"
    }
   ],
   "source": [
    "FFunc"
   ]
  },
  {
   "cell_type": "code",
   "execution_count": 13,
   "metadata": {},
   "outputs": [],
   "source": [
    "FFunc = FFunc.subs(sp.cos(v),x)"
   ]
  },
  {
   "cell_type": "code",
   "execution_count": 14,
   "metadata": {},
   "outputs": [
    {
     "data": {
      "text/latex": [
       "$\\displaystyle - F - 0.0574622117664825 e^{2} x^{4} + 0.239712769302102 e^{2} x^{2} \\sqrt{1 - x^{2}} + 0.307462211766483 e^{2} x^{2} - 0.114924423532965 e x^{3} + 0.479425538604203 e x \\sqrt{1 - x^{2}} + 0.614924423532965 e x - 0.0574622117664825 x^{2} + 0.239712769302102 \\sqrt{1 - x^{2}} + 0.307462211766483$"
      ],
      "text/plain": [
       "-F - 0.0574622117664825*e**2*x**4 + 0.239712769302102*e**2*x**2*sqrt(1 - x**2) + 0.307462211766483*e**2*x**2 - 0.114924423532965*e*x**3 + 0.479425538604203*e*x*sqrt(1 - x**2) + 0.614924423532965*e*x - 0.0574622117664825*x**2 + 0.239712769302102*sqrt(1 - x**2) + 0.307462211766483"
      ]
     },
     "execution_count": 14,
     "metadata": {},
     "output_type": "execute_result"
    }
   ],
   "source": [
    "FFunc"
   ]
  },
  {
   "cell_type": "code",
   "execution_count": 63,
   "metadata": {},
   "outputs": [
    {
     "data": {
      "text/latex": [
       "$\\displaystyle - F - 0.0574622117664825 e^{2} x^{4} + 0.239712769302102 e^{2} x^{2} \\sqrt{1 - x^{2}} + 0.307462211766483 e^{2} x^{2} - 0.114924423532965 e x^{3} + 0.479425538604203 e x \\sqrt{1 - x^{2}} + 0.614924423532965 e x - 0.0574622117664825 x^{2} + 0.239712769302102 \\sqrt{1 - x^{2}} + 0.307462211766483$"
      ],
      "text/plain": [
       "-F - 0.0574622117664825*e**2*x**4 + 0.239712769302102*e**2*x**2*sqrt(1 - x**2) + 0.307462211766483*e**2*x**2 - 0.114924423532965*e*x**3 + 0.479425538604203*e*x*sqrt(1 - x**2) + 0.614924423532965*e*x - 0.0574622117664825*x**2 + 0.239712769302102*sqrt(1 - x**2) + 0.307462211766483"
      ]
     },
     "execution_count": 63,
     "metadata": {},
     "output_type": "execute_result"
    }
   ],
   "source": [
    "sp.simplify(FFunc)"
   ]
  },
  {
   "cell_type": "code",
   "execution_count": 64,
   "metadata": {},
   "outputs": [],
   "source": [
    "out = sp.solve(FFunc,x)"
   ]
  },
  {
   "cell_type": "code",
   "execution_count": 65,
   "metadata": {},
   "outputs": [
    {
     "data": {
      "text/plain": [
       "[]"
      ]
     },
     "execution_count": 65,
     "metadata": {},
     "output_type": "execute_result"
    }
   ],
   "source": [
    "out"
   ]
  },
  {
   "cell_type": "code",
   "execution_count": 38,
   "metadata": {},
   "outputs": [
    {
     "data": {
      "text/latex": [
       "$\\displaystyle F^{2} - 0.5 F e^{2} x^{4} \\sin^{2}{\\left(i \\right)} \\sin^{2}{\\left(w \\right)} + 0.5 F e^{2} x^{4} \\sin^{2}{\\left(i \\right)} \\cos^{2}{\\left(w \\right)} - 1.0 F e^{2} x^{3} \\sqrt{1 - x^{2}} \\sin^{2}{\\left(i \\right)} \\sin{\\left(w \\right)} \\cos{\\left(w \\right)} - 1.0 F e^{2} x^{3} \\sin{\\left(i \\right)} \\sin{\\left(w \\right)} - 1.0 F e^{2} x^{2} \\sqrt{1 - x^{2}} \\sin{\\left(i \\right)} \\cos{\\left(w \\right)} - 0.5 F e^{2} x^{2} \\sin^{2}{\\left(i \\right)} \\cos^{2}{\\left(w \\right)} - 0.5 F e^{2} x^{2} - 1.0 F e x^{3} \\sin^{2}{\\left(i \\right)} \\sin^{2}{\\left(w \\right)} + 1.0 F e x^{3} \\sin^{2}{\\left(i \\right)} \\cos^{2}{\\left(w \\right)} - 2.0 F e x^{2} \\sqrt{1 - x^{2}} \\sin^{2}{\\left(i \\right)} \\sin{\\left(w \\right)} \\cos{\\left(w \\right)} - 2.0 F e x^{2} \\sin{\\left(i \\right)} \\sin{\\left(w \\right)} - 2.0 F e x \\sqrt{1 - x^{2}} \\sin{\\left(i \\right)} \\cos{\\left(w \\right)} - 1.0 F e x \\sin^{2}{\\left(i \\right)} \\cos^{2}{\\left(w \\right)} - 1.0 F e x - 0.5 F x^{2} \\sin^{2}{\\left(i \\right)} \\sin^{2}{\\left(w \\right)} + 0.5 F x^{2} \\sin^{2}{\\left(i \\right)} \\cos^{2}{\\left(w \\right)} - 1.0 F x \\sqrt{1 - x^{2}} \\sin^{2}{\\left(i \\right)} \\sin{\\left(w \\right)} \\cos{\\left(w \\right)} - 1.0 F x \\sin{\\left(i \\right)} \\sin{\\left(w \\right)} - 1.0 F \\sqrt{1 - x^{2}} \\sin{\\left(i \\right)} \\cos{\\left(w \\right)} - 0.5 F \\sin^{2}{\\left(i \\right)} \\cos^{2}{\\left(w \\right)} - 0.5 F + 0.0625 e^{4} x^{8} \\sin^{4}{\\left(i \\right)} \\sin^{4}{\\left(w \\right)} - 0.375 e^{4} x^{8} \\sin^{4}{\\left(i \\right)} \\sin^{2}{\\left(w \\right)} \\cos^{2}{\\left(w \\right)} + 0.0625 e^{4} x^{8} \\sin^{4}{\\left(i \\right)} \\cos^{4}{\\left(w \\right)} + 0.25 e^{4} x^{7} \\sqrt{1 - x^{2}} \\sin^{4}{\\left(i \\right)} \\sin^{3}{\\left(w \\right)} \\cos{\\left(w \\right)} - 0.25 e^{4} x^{7} \\sqrt{1 - x^{2}} \\sin^{4}{\\left(i \\right)} \\sin{\\left(w \\right)} \\cos^{3}{\\left(w \\right)} + 0.25 e^{4} x^{7} \\sin^{3}{\\left(i \\right)} \\sin^{3}{\\left(w \\right)} - 0.75 e^{4} x^{7} \\sin^{3}{\\left(i \\right)} \\sin{\\left(w \\right)} \\cos^{2}{\\left(w \\right)} + 0.75 e^{4} x^{6} \\sqrt{1 - x^{2}} \\sin^{3}{\\left(i \\right)} \\sin^{2}{\\left(w \\right)} \\cos{\\left(w \\right)} - 0.25 e^{4} x^{6} \\sqrt{1 - x^{2}} \\sin^{3}{\\left(i \\right)} \\cos^{3}{\\left(w \\right)} + 0.375 e^{4} x^{6} \\sin^{4}{\\left(i \\right)} \\sin^{2}{\\left(w \\right)} \\cos^{2}{\\left(w \\right)} - 0.125 e^{4} x^{6} \\sin^{4}{\\left(i \\right)} \\cos^{4}{\\left(w \\right)} + 0.375 e^{4} x^{6} \\sin^{2}{\\left(i \\right)} \\sin^{2}{\\left(w \\right)} - 0.375 e^{4} x^{6} \\sin^{2}{\\left(i \\right)} \\cos^{2}{\\left(w \\right)} + 0.25 e^{4} x^{5} \\sqrt{1 - x^{2}} \\sin^{4}{\\left(i \\right)} \\sin{\\left(w \\right)} \\cos^{3}{\\left(w \\right)} + 0.75 e^{4} x^{5} \\sqrt{1 - x^{2}} \\sin^{2}{\\left(i \\right)} \\sin{\\left(w \\right)} \\cos{\\left(w \\right)} + 0.75 e^{4} x^{5} \\sin^{3}{\\left(i \\right)} \\sin{\\left(w \\right)} \\cos^{2}{\\left(w \\right)} + 0.25 e^{4} x^{5} \\sin{\\left(i \\right)} \\sin{\\left(w \\right)} + 0.25 e^{4} x^{4} \\sqrt{1 - x^{2}} \\sin^{3}{\\left(i \\right)} \\cos^{3}{\\left(w \\right)} + 0.25 e^{4} x^{4} \\sqrt{1 - x^{2}} \\sin{\\left(i \\right)} \\cos{\\left(w \\right)} + 0.0625 e^{4} x^{4} \\sin^{4}{\\left(i \\right)} \\cos^{4}{\\left(w \\right)} + 0.375 e^{4} x^{4} \\sin^{2}{\\left(i \\right)} \\cos^{2}{\\left(w \\right)} + 0.0625 e^{4} x^{4} + 0.25 e^{3} x^{7} \\sin^{4}{\\left(i \\right)} \\sin^{4}{\\left(w \\right)} - 1.5 e^{3} x^{7} \\sin^{4}{\\left(i \\right)} \\sin^{2}{\\left(w \\right)} \\cos^{2}{\\left(w \\right)} + 0.25 e^{3} x^{7} \\sin^{4}{\\left(i \\right)} \\cos^{4}{\\left(w \\right)} + 1.0 e^{3} x^{6} \\sqrt{1 - x^{2}} \\sin^{4}{\\left(i \\right)} \\sin^{3}{\\left(w \\right)} \\cos{\\left(w \\right)} - 1.0 e^{3} x^{6} \\sqrt{1 - x^{2}} \\sin^{4}{\\left(i \\right)} \\sin{\\left(w \\right)} \\cos^{3}{\\left(w \\right)} + 1.0 e^{3} x^{6} \\sin^{3}{\\left(i \\right)} \\sin^{3}{\\left(w \\right)} - 3.0 e^{3} x^{6} \\sin^{3}{\\left(i \\right)} \\sin{\\left(w \\right)} \\cos^{2}{\\left(w \\right)} + 3.0 e^{3} x^{5} \\sqrt{1 - x^{2}} \\sin^{3}{\\left(i \\right)} \\sin^{2}{\\left(w \\right)} \\cos{\\left(w \\right)} - 1.0 e^{3} x^{5} \\sqrt{1 - x^{2}} \\sin^{3}{\\left(i \\right)} \\cos^{3}{\\left(w \\right)} + 1.5 e^{3} x^{5} \\sin^{4}{\\left(i \\right)} \\sin^{2}{\\left(w \\right)} \\cos^{2}{\\left(w \\right)} - 0.5 e^{3} x^{5} \\sin^{4}{\\left(i \\right)} \\cos^{4}{\\left(w \\right)} + 1.5 e^{3} x^{5} \\sin^{2}{\\left(i \\right)} \\sin^{2}{\\left(w \\right)} - 1.5 e^{3} x^{5} \\sin^{2}{\\left(i \\right)} \\cos^{2}{\\left(w \\right)} + 1.0 e^{3} x^{4} \\sqrt{1 - x^{2}} \\sin^{4}{\\left(i \\right)} \\sin{\\left(w \\right)} \\cos^{3}{\\left(w \\right)} + 3.0 e^{3} x^{4} \\sqrt{1 - x^{2}} \\sin^{2}{\\left(i \\right)} \\sin{\\left(w \\right)} \\cos{\\left(w \\right)} + 3.0 e^{3} x^{4} \\sin^{3}{\\left(i \\right)} \\sin{\\left(w \\right)} \\cos^{2}{\\left(w \\right)} + 1.0 e^{3} x^{4} \\sin{\\left(i \\right)} \\sin{\\left(w \\right)} + 1.0 e^{3} x^{3} \\sqrt{1 - x^{2}} \\sin^{3}{\\left(i \\right)} \\cos^{3}{\\left(w \\right)} + 1.0 e^{3} x^{3} \\sqrt{1 - x^{2}} \\sin{\\left(i \\right)} \\cos{\\left(w \\right)} + 0.25 e^{3} x^{3} \\sin^{4}{\\left(i \\right)} \\cos^{4}{\\left(w \\right)} + 1.5 e^{3} x^{3} \\sin^{2}{\\left(i \\right)} \\cos^{2}{\\left(w \\right)} + 0.25 e^{3} x^{3} + 0.375 e^{2} x^{6} \\sin^{4}{\\left(i \\right)} \\sin^{4}{\\left(w \\right)} - 2.25 e^{2} x^{6} \\sin^{4}{\\left(i \\right)} \\sin^{2}{\\left(w \\right)} \\cos^{2}{\\left(w \\right)} + 0.375 e^{2} x^{6} \\sin^{4}{\\left(i \\right)} \\cos^{4}{\\left(w \\right)} + 1.5 e^{2} x^{5} \\sqrt{1 - x^{2}} \\sin^{4}{\\left(i \\right)} \\sin^{3}{\\left(w \\right)} \\cos{\\left(w \\right)} - 1.5 e^{2} x^{5} \\sqrt{1 - x^{2}} \\sin^{4}{\\left(i \\right)} \\sin{\\left(w \\right)} \\cos^{3}{\\left(w \\right)} + 1.5 e^{2} x^{5} \\sin^{3}{\\left(i \\right)} \\sin^{3}{\\left(w \\right)} - 4.5 e^{2} x^{5} \\sin^{3}{\\left(i \\right)} \\sin{\\left(w \\right)} \\cos^{2}{\\left(w \\right)} + 4.5 e^{2} x^{4} \\sqrt{1 - x^{2}} \\sin^{3}{\\left(i \\right)} \\sin^{2}{\\left(w \\right)} \\cos{\\left(w \\right)} - 1.5 e^{2} x^{4} \\sqrt{1 - x^{2}} \\sin^{3}{\\left(i \\right)} \\cos^{3}{\\left(w \\right)} + 2.25 e^{2} x^{4} \\sin^{4}{\\left(i \\right)} \\sin^{2}{\\left(w \\right)} \\cos^{2}{\\left(w \\right)} - 0.75 e^{2} x^{4} \\sin^{4}{\\left(i \\right)} \\cos^{4}{\\left(w \\right)} + 2.25 e^{2} x^{4} \\sin^{2}{\\left(i \\right)} \\sin^{2}{\\left(w \\right)} - 2.25 e^{2} x^{4} \\sin^{2}{\\left(i \\right)} \\cos^{2}{\\left(w \\right)} + 1.5 e^{2} x^{3} \\sqrt{1 - x^{2}} \\sin^{4}{\\left(i \\right)} \\sin{\\left(w \\right)} \\cos^{3}{\\left(w \\right)} + 4.5 e^{2} x^{3} \\sqrt{1 - x^{2}} \\sin^{2}{\\left(i \\right)} \\sin{\\left(w \\right)} \\cos{\\left(w \\right)} + 4.5 e^{2} x^{3} \\sin^{3}{\\left(i \\right)} \\sin{\\left(w \\right)} \\cos^{2}{\\left(w \\right)} + 1.5 e^{2} x^{3} \\sin{\\left(i \\right)} \\sin{\\left(w \\right)} + 1.5 e^{2} x^{2} \\sqrt{1 - x^{2}} \\sin^{3}{\\left(i \\right)} \\cos^{3}{\\left(w \\right)} + 1.5 e^{2} x^{2} \\sqrt{1 - x^{2}} \\sin{\\left(i \\right)} \\cos{\\left(w \\right)} + 0.375 e^{2} x^{2} \\sin^{4}{\\left(i \\right)} \\cos^{4}{\\left(w \\right)} + 2.25 e^{2} x^{2} \\sin^{2}{\\left(i \\right)} \\cos^{2}{\\left(w \\right)} + 0.375 e^{2} x^{2} + 0.25 e x^{5} \\sin^{4}{\\left(i \\right)} \\sin^{4}{\\left(w \\right)} - 1.5 e x^{5} \\sin^{4}{\\left(i \\right)} \\sin^{2}{\\left(w \\right)} \\cos^{2}{\\left(w \\right)} + 0.25 e x^{5} \\sin^{4}{\\left(i \\right)} \\cos^{4}{\\left(w \\right)} + 1.0 e x^{4} \\sqrt{1 - x^{2}} \\sin^{4}{\\left(i \\right)} \\sin^{3}{\\left(w \\right)} \\cos{\\left(w \\right)} - 1.0 e x^{4} \\sqrt{1 - x^{2}} \\sin^{4}{\\left(i \\right)} \\sin{\\left(w \\right)} \\cos^{3}{\\left(w \\right)} + 1.0 e x^{4} \\sin^{3}{\\left(i \\right)} \\sin^{3}{\\left(w \\right)} - 3.0 e x^{4} \\sin^{3}{\\left(i \\right)} \\sin{\\left(w \\right)} \\cos^{2}{\\left(w \\right)} + 3.0 e x^{3} \\sqrt{1 - x^{2}} \\sin^{3}{\\left(i \\right)} \\sin^{2}{\\left(w \\right)} \\cos{\\left(w \\right)} - 1.0 e x^{3} \\sqrt{1 - x^{2}} \\sin^{3}{\\left(i \\right)} \\cos^{3}{\\left(w \\right)} + 1.5 e x^{3} \\sin^{4}{\\left(i \\right)} \\sin^{2}{\\left(w \\right)} \\cos^{2}{\\left(w \\right)} - 0.5 e x^{3} \\sin^{4}{\\left(i \\right)} \\cos^{4}{\\left(w \\right)} + 1.5 e x^{3} \\sin^{2}{\\left(i \\right)} \\sin^{2}{\\left(w \\right)} - 1.5 e x^{3} \\sin^{2}{\\left(i \\right)} \\cos^{2}{\\left(w \\right)} + 1.0 e x^{2} \\sqrt{1 - x^{2}} \\sin^{4}{\\left(i \\right)} \\sin{\\left(w \\right)} \\cos^{3}{\\left(w \\right)} + 3.0 e x^{2} \\sqrt{1 - x^{2}} \\sin^{2}{\\left(i \\right)} \\sin{\\left(w \\right)} \\cos{\\left(w \\right)} + 3.0 e x^{2} \\sin^{3}{\\left(i \\right)} \\sin{\\left(w \\right)} \\cos^{2}{\\left(w \\right)} + 1.0 e x^{2} \\sin{\\left(i \\right)} \\sin{\\left(w \\right)} + 1.0 e x \\sqrt{1 - x^{2}} \\sin^{3}{\\left(i \\right)} \\cos^{3}{\\left(w \\right)} + 1.0 e x \\sqrt{1 - x^{2}} \\sin{\\left(i \\right)} \\cos{\\left(w \\right)} + 0.25 e x \\sin^{4}{\\left(i \\right)} \\cos^{4}{\\left(w \\right)} + 1.5 e x \\sin^{2}{\\left(i \\right)} \\cos^{2}{\\left(w \\right)} + 0.25 e x + 0.0625 x^{4} \\sin^{4}{\\left(i \\right)} \\sin^{4}{\\left(w \\right)} - 0.375 x^{4} \\sin^{4}{\\left(i \\right)} \\sin^{2}{\\left(w \\right)} \\cos^{2}{\\left(w \\right)} + 0.0625 x^{4} \\sin^{4}{\\left(i \\right)} \\cos^{4}{\\left(w \\right)} + 0.25 x^{3} \\sqrt{1 - x^{2}} \\sin^{4}{\\left(i \\right)} \\sin^{3}{\\left(w \\right)} \\cos{\\left(w \\right)} - 0.25 x^{3} \\sqrt{1 - x^{2}} \\sin^{4}{\\left(i \\right)} \\sin{\\left(w \\right)} \\cos^{3}{\\left(w \\right)} + 0.25 x^{3} \\sin^{3}{\\left(i \\right)} \\sin^{3}{\\left(w \\right)} - 0.75 x^{3} \\sin^{3}{\\left(i \\right)} \\sin{\\left(w \\right)} \\cos^{2}{\\left(w \\right)} + 0.75 x^{2} \\sqrt{1 - x^{2}} \\sin^{3}{\\left(i \\right)} \\sin^{2}{\\left(w \\right)} \\cos{\\left(w \\right)} - 0.25 x^{2} \\sqrt{1 - x^{2}} \\sin^{3}{\\left(i \\right)} \\cos^{3}{\\left(w \\right)} + 0.375 x^{2} \\sin^{4}{\\left(i \\right)} \\sin^{2}{\\left(w \\right)} \\cos^{2}{\\left(w \\right)} - 0.125 x^{2} \\sin^{4}{\\left(i \\right)} \\cos^{4}{\\left(w \\right)} + 0.375 x^{2} \\sin^{2}{\\left(i \\right)} \\sin^{2}{\\left(w \\right)} - 0.375 x^{2} \\sin^{2}{\\left(i \\right)} \\cos^{2}{\\left(w \\right)} + 0.25 x \\sqrt{1 - x^{2}} \\sin^{4}{\\left(i \\right)} \\sin{\\left(w \\right)} \\cos^{3}{\\left(w \\right)} + 0.75 x \\sqrt{1 - x^{2}} \\sin^{2}{\\left(i \\right)} \\sin{\\left(w \\right)} \\cos{\\left(w \\right)} + 0.75 x \\sin^{3}{\\left(i \\right)} \\sin{\\left(w \\right)} \\cos^{2}{\\left(w \\right)} + 0.25 x \\sin{\\left(i \\right)} \\sin{\\left(w \\right)} + 0.25 \\sqrt{1 - x^{2}} \\sin^{3}{\\left(i \\right)} \\cos^{3}{\\left(w \\right)} + 0.25 \\sqrt{1 - x^{2}} \\sin{\\left(i \\right)} \\cos{\\left(w \\right)} + 0.0625 \\sin^{4}{\\left(i \\right)} \\cos^{4}{\\left(w \\right)} + 0.375 \\sin^{2}{\\left(i \\right)} \\cos^{2}{\\left(w \\right)} + 0.0625$"
      ],
      "text/plain": [
       "F**2 - 0.5*F*e**2*x**4*sin(i)**2*sin(w)**2 + 0.5*F*e**2*x**4*sin(i)**2*cos(w)**2 - 1.0*F*e**2*x**3*sqrt(1 - x**2)*sin(i)**2*sin(w)*cos(w) - 1.0*F*e**2*x**3*sin(i)*sin(w) - 1.0*F*e**2*x**2*sqrt(1 - x**2)*sin(i)*cos(w) - 0.5*F*e**2*x**2*sin(i)**2*cos(w)**2 - 0.5*F*e**2*x**2 - 1.0*F*e*x**3*sin(i)**2*sin(w)**2 + 1.0*F*e*x**3*sin(i)**2*cos(w)**2 - 2.0*F*e*x**2*sqrt(1 - x**2)*sin(i)**2*sin(w)*cos(w) - 2.0*F*e*x**2*sin(i)*sin(w) - 2.0*F*e*x*sqrt(1 - x**2)*sin(i)*cos(w) - 1.0*F*e*x*sin(i)**2*cos(w)**2 - 1.0*F*e*x - 0.5*F*x**2*sin(i)**2*sin(w)**2 + 0.5*F*x**2*sin(i)**2*cos(w)**2 - 1.0*F*x*sqrt(1 - x**2)*sin(i)**2*sin(w)*cos(w) - 1.0*F*x*sin(i)*sin(w) - 1.0*F*sqrt(1 - x**2)*sin(i)*cos(w) - 0.5*F*sin(i)**2*cos(w)**2 - 0.5*F + 0.0625*e**4*x**8*sin(i)**4*sin(w)**4 - 0.375*e**4*x**8*sin(i)**4*sin(w)**2*cos(w)**2 + 0.0625*e**4*x**8*sin(i)**4*cos(w)**4 + 0.25*e**4*x**7*sqrt(1 - x**2)*sin(i)**4*sin(w)**3*cos(w) - 0.25*e**4*x**7*sqrt(1 - x**2)*sin(i)**4*sin(w)*cos(w)**3 + 0.25*e**4*x**7*sin(i)**3*sin(w)**3 - 0.75*e**4*x**7*sin(i)**3*sin(w)*cos(w)**2 + 0.75*e**4*x**6*sqrt(1 - x**2)*sin(i)**3*sin(w)**2*cos(w) - 0.25*e**4*x**6*sqrt(1 - x**2)*sin(i)**3*cos(w)**3 + 0.375*e**4*x**6*sin(i)**4*sin(w)**2*cos(w)**2 - 0.125*e**4*x**6*sin(i)**4*cos(w)**4 + 0.375*e**4*x**6*sin(i)**2*sin(w)**2 - 0.375*e**4*x**6*sin(i)**2*cos(w)**2 + 0.25*e**4*x**5*sqrt(1 - x**2)*sin(i)**4*sin(w)*cos(w)**3 + 0.75*e**4*x**5*sqrt(1 - x**2)*sin(i)**2*sin(w)*cos(w) + 0.75*e**4*x**5*sin(i)**3*sin(w)*cos(w)**2 + 0.25*e**4*x**5*sin(i)*sin(w) + 0.25*e**4*x**4*sqrt(1 - x**2)*sin(i)**3*cos(w)**3 + 0.25*e**4*x**4*sqrt(1 - x**2)*sin(i)*cos(w) + 0.0625*e**4*x**4*sin(i)**4*cos(w)**4 + 0.375*e**4*x**4*sin(i)**2*cos(w)**2 + 0.0625*e**4*x**4 + 0.25*e**3*x**7*sin(i)**4*sin(w)**4 - 1.5*e**3*x**7*sin(i)**4*sin(w)**2*cos(w)**2 + 0.25*e**3*x**7*sin(i)**4*cos(w)**4 + 1.0*e**3*x**6*sqrt(1 - x**2)*sin(i)**4*sin(w)**3*cos(w) - 1.0*e**3*x**6*sqrt(1 - x**2)*sin(i)**4*sin(w)*cos(w)**3 + 1.0*e**3*x**6*sin(i)**3*sin(w)**3 - 3.0*e**3*x**6*sin(i)**3*sin(w)*cos(w)**2 + 3.0*e**3*x**5*sqrt(1 - x**2)*sin(i)**3*sin(w)**2*cos(w) - 1.0*e**3*x**5*sqrt(1 - x**2)*sin(i)**3*cos(w)**3 + 1.5*e**3*x**5*sin(i)**4*sin(w)**2*cos(w)**2 - 0.5*e**3*x**5*sin(i)**4*cos(w)**4 + 1.5*e**3*x**5*sin(i)**2*sin(w)**2 - 1.5*e**3*x**5*sin(i)**2*cos(w)**2 + 1.0*e**3*x**4*sqrt(1 - x**2)*sin(i)**4*sin(w)*cos(w)**3 + 3.0*e**3*x**4*sqrt(1 - x**2)*sin(i)**2*sin(w)*cos(w) + 3.0*e**3*x**4*sin(i)**3*sin(w)*cos(w)**2 + 1.0*e**3*x**4*sin(i)*sin(w) + 1.0*e**3*x**3*sqrt(1 - x**2)*sin(i)**3*cos(w)**3 + 1.0*e**3*x**3*sqrt(1 - x**2)*sin(i)*cos(w) + 0.25*e**3*x**3*sin(i)**4*cos(w)**4 + 1.5*e**3*x**3*sin(i)**2*cos(w)**2 + 0.25*e**3*x**3 + 0.375*e**2*x**6*sin(i)**4*sin(w)**4 - 2.25*e**2*x**6*sin(i)**4*sin(w)**2*cos(w)**2 + 0.375*e**2*x**6*sin(i)**4*cos(w)**4 + 1.5*e**2*x**5*sqrt(1 - x**2)*sin(i)**4*sin(w)**3*cos(w) - 1.5*e**2*x**5*sqrt(1 - x**2)*sin(i)**4*sin(w)*cos(w)**3 + 1.5*e**2*x**5*sin(i)**3*sin(w)**3 - 4.5*e**2*x**5*sin(i)**3*sin(w)*cos(w)**2 + 4.5*e**2*x**4*sqrt(1 - x**2)*sin(i)**3*sin(w)**2*cos(w) - 1.5*e**2*x**4*sqrt(1 - x**2)*sin(i)**3*cos(w)**3 + 2.25*e**2*x**4*sin(i)**4*sin(w)**2*cos(w)**2 - 0.75*e**2*x**4*sin(i)**4*cos(w)**4 + 2.25*e**2*x**4*sin(i)**2*sin(w)**2 - 2.25*e**2*x**4*sin(i)**2*cos(w)**2 + 1.5*e**2*x**3*sqrt(1 - x**2)*sin(i)**4*sin(w)*cos(w)**3 + 4.5*e**2*x**3*sqrt(1 - x**2)*sin(i)**2*sin(w)*cos(w) + 4.5*e**2*x**3*sin(i)**3*sin(w)*cos(w)**2 + 1.5*e**2*x**3*sin(i)*sin(w) + 1.5*e**2*x**2*sqrt(1 - x**2)*sin(i)**3*cos(w)**3 + 1.5*e**2*x**2*sqrt(1 - x**2)*sin(i)*cos(w) + 0.375*e**2*x**2*sin(i)**4*cos(w)**4 + 2.25*e**2*x**2*sin(i)**2*cos(w)**2 + 0.375*e**2*x**2 + 0.25*e*x**5*sin(i)**4*sin(w)**4 - 1.5*e*x**5*sin(i)**4*sin(w)**2*cos(w)**2 + 0.25*e*x**5*sin(i)**4*cos(w)**4 + 1.0*e*x**4*sqrt(1 - x**2)*sin(i)**4*sin(w)**3*cos(w) - 1.0*e*x**4*sqrt(1 - x**2)*sin(i)**4*sin(w)*cos(w)**3 + 1.0*e*x**4*sin(i)**3*sin(w)**3 - 3.0*e*x**4*sin(i)**3*sin(w)*cos(w)**2 + 3.0*e*x**3*sqrt(1 - x**2)*sin(i)**3*sin(w)**2*cos(w) - 1.0*e*x**3*sqrt(1 - x**2)*sin(i)**3*cos(w)**3 + 1.5*e*x**3*sin(i)**4*sin(w)**2*cos(w)**2 - 0.5*e*x**3*sin(i)**4*cos(w)**4 + 1.5*e*x**3*sin(i)**2*sin(w)**2 - 1.5*e*x**3*sin(i)**2*cos(w)**2 + 1.0*e*x**2*sqrt(1 - x**2)*sin(i)**4*sin(w)*cos(w)**3 + 3.0*e*x**2*sqrt(1 - x**2)*sin(i)**2*sin(w)*cos(w) + 3.0*e*x**2*sin(i)**3*sin(w)*cos(w)**2 + 1.0*e*x**2*sin(i)*sin(w) + 1.0*e*x*sqrt(1 - x**2)*sin(i)**3*cos(w)**3 + 1.0*e*x*sqrt(1 - x**2)*sin(i)*cos(w) + 0.25*e*x*sin(i)**4*cos(w)**4 + 1.5*e*x*sin(i)**2*cos(w)**2 + 0.25*e*x + 0.0625*x**4*sin(i)**4*sin(w)**4 - 0.375*x**4*sin(i)**4*sin(w)**2*cos(w)**2 + 0.0625*x**4*sin(i)**4*cos(w)**4 + 0.25*x**3*sqrt(1 - x**2)*sin(i)**4*sin(w)**3*cos(w) - 0.25*x**3*sqrt(1 - x**2)*sin(i)**4*sin(w)*cos(w)**3 + 0.25*x**3*sin(i)**3*sin(w)**3 - 0.75*x**3*sin(i)**3*sin(w)*cos(w)**2 + 0.75*x**2*sqrt(1 - x**2)*sin(i)**3*sin(w)**2*cos(w) - 0.25*x**2*sqrt(1 - x**2)*sin(i)**3*cos(w)**3 + 0.375*x**2*sin(i)**4*sin(w)**2*cos(w)**2 - 0.125*x**2*sin(i)**4*cos(w)**4 + 0.375*x**2*sin(i)**2*sin(w)**2 - 0.375*x**2*sin(i)**2*cos(w)**2 + 0.25*x*sqrt(1 - x**2)*sin(i)**4*sin(w)*cos(w)**3 + 0.75*x*sqrt(1 - x**2)*sin(i)**2*sin(w)*cos(w) + 0.75*x*sin(i)**3*sin(w)*cos(w)**2 + 0.25*x*sin(i)*sin(w) + 0.25*sqrt(1 - x**2)*sin(i)**3*cos(w)**3 + 0.25*sqrt(1 - x**2)*sin(i)*cos(w) + 0.0625*sin(i)**4*cos(w)**4 + 0.375*sin(i)**2*cos(w)**2 + 0.0625"
      ]
     },
     "execution_count": 38,
     "metadata": {},
     "output_type": "execute_result"
    }
   ],
   "source": []
  },
  {
   "cell_type": "code",
   "execution_count": 15,
   "metadata": {},
   "outputs": [],
   "source": [
    "# Try 4"
   ]
  },
  {
   "cell_type": "code",
   "execution_count": 16,
   "metadata": {},
   "outputs": [],
   "source": [
    "betaFunc = sp.acos(sp.sin(inc)*sp.sin(v+w))\n",
    "halfAngle = sp.sqrt(1/2+sp.cos(beta)/2) #only the positive one\n",
    "sinv = sp.sqrt(1-sp.cos(v)**2)\n",
    "phiQL = sp.cos(beta/2)**4 #quasi-lambert phase function\n",
    "phiQL = phiQL.subs(sp.cos(beta/2),halfAngle)\n",
    "phiQL = phiQL.subs(beta,betaFunc).subs(sp.sin(v+w),sinvpw)\n",
    "rhs = phiQL*(e*sp.cos(v)+1)**2\n",
    "lhs = sp.symbols('lhs',real=True)"
   ]
  },
  {
   "cell_type": "code",
   "execution_count": 17,
   "metadata": {},
   "outputs": [
    {
     "data": {
      "text/latex": [
       "$\\displaystyle \\frac{e^{2} \\sin^{2}{\\left(i \\right)} \\sin{\\left(v \\right)} \\sin{\\left(w \\right)} \\cos^{3}{\\left(v \\right)} \\cos{\\left(w \\right)}}{2} + \\frac{e^{2} \\sin^{2}{\\left(i \\right)} \\sin^{2}{\\left(w \\right)} \\cos^{4}{\\left(v \\right)}}{4} - \\frac{e^{2} \\sin^{2}{\\left(i \\right)} \\cos^{4}{\\left(v \\right)} \\cos^{2}{\\left(w \\right)}}{4} + \\frac{e^{2} \\sin^{2}{\\left(i \\right)} \\cos^{2}{\\left(v \\right)} \\cos^{2}{\\left(w \\right)}}{4} + \\frac{e^{2} \\sin{\\left(i \\right)} \\sin{\\left(v \\right)} \\cos^{2}{\\left(v \\right)} \\cos{\\left(w \\right)}}{2} + \\frac{e^{2} \\sin{\\left(i \\right)} \\sin{\\left(w \\right)} \\cos^{3}{\\left(v \\right)}}{2} + \\frac{e^{2} \\cos^{2}{\\left(v \\right)}}{4} + e \\sin^{2}{\\left(i \\right)} \\sin{\\left(v \\right)} \\sin{\\left(w \\right)} \\cos^{2}{\\left(v \\right)} \\cos{\\left(w \\right)} + \\frac{e \\sin^{2}{\\left(i \\right)} \\sin^{2}{\\left(w \\right)} \\cos^{3}{\\left(v \\right)}}{2} - \\frac{e \\sin^{2}{\\left(i \\right)} \\cos^{3}{\\left(v \\right)} \\cos^{2}{\\left(w \\right)}}{2} + \\frac{e \\sin^{2}{\\left(i \\right)} \\cos{\\left(v \\right)} \\cos^{2}{\\left(w \\right)}}{2} + e \\sin{\\left(i \\right)} \\sin{\\left(v \\right)} \\cos{\\left(v \\right)} \\cos{\\left(w \\right)} + e \\sin{\\left(i \\right)} \\sin{\\left(w \\right)} \\cos^{2}{\\left(v \\right)} + \\frac{e \\cos{\\left(v \\right)}}{2} + \\frac{\\sin^{2}{\\left(i \\right)} \\sin{\\left(v \\right)} \\sin{\\left(w \\right)} \\cos{\\left(v \\right)} \\cos{\\left(w \\right)}}{2} + \\frac{\\sin^{2}{\\left(i \\right)} \\sin^{2}{\\left(w \\right)} \\cos^{2}{\\left(v \\right)}}{4} - \\frac{\\sin^{2}{\\left(i \\right)} \\cos^{2}{\\left(v \\right)} \\cos^{2}{\\left(w \\right)}}{4} + \\frac{\\sin^{2}{\\left(i \\right)} \\cos^{2}{\\left(w \\right)}}{4} + \\frac{\\sin{\\left(i \\right)} \\sin{\\left(v \\right)} \\cos{\\left(w \\right)}}{2} + \\frac{\\sin{\\left(i \\right)} \\sin{\\left(w \\right)} \\cos{\\left(v \\right)}}{2} + \\frac{1}{4}$"
      ],
      "text/plain": [
       "e**2*sin(i)**2*sin(v)*sin(w)*cos(v)**3*cos(w)/2 + e**2*sin(i)**2*sin(w)**2*cos(v)**4/4 - e**2*sin(i)**2*cos(v)**4*cos(w)**2/4 + e**2*sin(i)**2*cos(v)**2*cos(w)**2/4 + e**2*sin(i)*sin(v)*cos(v)**2*cos(w)/2 + e**2*sin(i)*sin(w)*cos(v)**3/2 + e**2*cos(v)**2/4 + e*sin(i)**2*sin(v)*sin(w)*cos(v)**2*cos(w) + e*sin(i)**2*sin(w)**2*cos(v)**3/2 - e*sin(i)**2*cos(v)**3*cos(w)**2/2 + e*sin(i)**2*cos(v)*cos(w)**2/2 + e*sin(i)*sin(v)*cos(v)*cos(w) + e*sin(i)*sin(w)*cos(v)**2 + e*cos(v)/2 + sin(i)**2*sin(v)*sin(w)*cos(v)*cos(w)/2 + sin(i)**2*sin(w)**2*cos(v)**2/4 - sin(i)**2*cos(v)**2*cos(w)**2/4 + sin(i)**2*cos(w)**2/4 + sin(i)*sin(v)*cos(w)/2 + sin(i)*sin(w)*cos(v)/2 + 1/4"
      ]
     },
     "execution_count": 17,
     "metadata": {},
     "output_type": "execute_result"
    }
   ],
   "source": [
    "sp.expand(sp.expand(rhs).subs(sp.sin(v)**2,1-sp.cos(v)**2))"
   ]
  },
  {
   "cell_type": "code",
   "execution_count": 37,
   "metadata": {},
   "outputs": [],
   "source": [
    "fullEqn = sp.expand(rhs.subs(sp.sin(v),sinv)).subs(sp.cos(v),x)-lhs"
   ]
  },
  {
   "cell_type": "code",
   "execution_count": 38,
   "metadata": {},
   "outputs": [
    {
     "data": {
      "text/latex": [
       "$\\displaystyle \\frac{e^{2} x^{4} \\sin^{2}{\\left(i \\right)} \\sin^{2}{\\left(w \\right)}}{4} - \\frac{e^{2} x^{4} \\sin^{2}{\\left(i \\right)} \\cos^{2}{\\left(w \\right)}}{4} + \\frac{e^{2} x^{3} \\sqrt{1 - x^{2}} \\sin^{2}{\\left(i \\right)} \\sin{\\left(w \\right)} \\cos{\\left(w \\right)}}{2} + \\frac{e^{2} x^{3} \\sin{\\left(i \\right)} \\sin{\\left(w \\right)}}{2} + \\frac{e^{2} x^{2} \\sqrt{1 - x^{2}} \\sin{\\left(i \\right)} \\cos{\\left(w \\right)}}{2} + \\frac{e^{2} x^{2} \\sin^{2}{\\left(i \\right)} \\cos^{2}{\\left(w \\right)}}{4} + \\frac{e^{2} x^{2}}{4} + \\frac{e x^{3} \\sin^{2}{\\left(i \\right)} \\sin^{2}{\\left(w \\right)}}{2} - \\frac{e x^{3} \\sin^{2}{\\left(i \\right)} \\cos^{2}{\\left(w \\right)}}{2} + e x^{2} \\sqrt{1 - x^{2}} \\sin^{2}{\\left(i \\right)} \\sin{\\left(w \\right)} \\cos{\\left(w \\right)} + e x^{2} \\sin{\\left(i \\right)} \\sin{\\left(w \\right)} + e x \\sqrt{1 - x^{2}} \\sin{\\left(i \\right)} \\cos{\\left(w \\right)} + \\frac{e x \\sin^{2}{\\left(i \\right)} \\cos^{2}{\\left(w \\right)}}{2} + \\frac{e x}{2} - lhs + \\frac{x^{2} \\sin^{2}{\\left(i \\right)} \\sin^{2}{\\left(w \\right)}}{4} - \\frac{x^{2} \\sin^{2}{\\left(i \\right)} \\cos^{2}{\\left(w \\right)}}{4} + \\frac{x \\sqrt{1 - x^{2}} \\sin^{2}{\\left(i \\right)} \\sin{\\left(w \\right)} \\cos{\\left(w \\right)}}{2} + \\frac{x \\sin{\\left(i \\right)} \\sin{\\left(w \\right)}}{2} + \\frac{\\sqrt{1 - x^{2}} \\sin{\\left(i \\right)} \\cos{\\left(w \\right)}}{2} + \\frac{\\sin^{2}{\\left(i \\right)} \\cos^{2}{\\left(w \\right)}}{4} + \\frac{1}{4}$"
      ],
      "text/plain": [
       "e**2*x**4*sin(i)**2*sin(w)**2/4 - e**2*x**4*sin(i)**2*cos(w)**2/4 + e**2*x**3*sqrt(1 - x**2)*sin(i)**2*sin(w)*cos(w)/2 + e**2*x**3*sin(i)*sin(w)/2 + e**2*x**2*sqrt(1 - x**2)*sin(i)*cos(w)/2 + e**2*x**2*sin(i)**2*cos(w)**2/4 + e**2*x**2/4 + e*x**3*sin(i)**2*sin(w)**2/2 - e*x**3*sin(i)**2*cos(w)**2/2 + e*x**2*sqrt(1 - x**2)*sin(i)**2*sin(w)*cos(w) + e*x**2*sin(i)*sin(w) + e*x*sqrt(1 - x**2)*sin(i)*cos(w) + e*x*sin(i)**2*cos(w)**2/2 + e*x/2 - lhs + x**2*sin(i)**2*sin(w)**2/4 - x**2*sin(i)**2*cos(w)**2/4 + x*sqrt(1 - x**2)*sin(i)**2*sin(w)*cos(w)/2 + x*sin(i)*sin(w)/2 + sqrt(1 - x**2)*sin(i)*cos(w)/2 + sin(i)**2*cos(w)**2/4 + 1/4"
      ]
     },
     "execution_count": 38,
     "metadata": {},
     "output_type": "execute_result"
    }
   ],
   "source": [
    "fullEqn"
   ]
  },
  {
   "cell_type": "code",
   "execution_count": 39,
   "metadata": {},
   "outputs": [],
   "source": [
    "fullEqnPoly = sp.Poly(fullEqn,sp.sqrt(1-x**2))"
   ]
  },
  {
   "cell_type": "code",
   "execution_count": 45,
   "metadata": {},
   "outputs": [],
   "source": [
    "fullEqnX = sp.expand(fullEqnPoly.coeffs()[1]**2 - (1-x**2)*fullEqnPoly.coeffs()[0]**2) # move sqrt(1-x**2) and [0] to lhs, square lone terms [1] and lhs stuff, expand and consolidate to one side"
   ]
  },
  {
   "cell_type": "code",
   "execution_count": 46,
   "metadata": {},
   "outputs": [
    {
     "data": {
      "text/latex": [
       "$\\displaystyle \\frac{e^{4} x^{8} \\sin^{4}{\\left(i \\right)} \\sin^{4}{\\left(w \\right)}}{16} + \\frac{e^{4} x^{8} \\sin^{4}{\\left(i \\right)} \\sin^{2}{\\left(w \\right)} \\cos^{2}{\\left(w \\right)}}{8} + \\frac{e^{4} x^{8} \\sin^{4}{\\left(i \\right)} \\cos^{4}{\\left(w \\right)}}{16} + \\frac{e^{4} x^{7} \\sin^{3}{\\left(i \\right)} \\sin^{3}{\\left(w \\right)}}{4} + \\frac{e^{4} x^{7} \\sin^{3}{\\left(i \\right)} \\sin{\\left(w \\right)} \\cos^{2}{\\left(w \\right)}}{4} - \\frac{e^{4} x^{6} \\sin^{4}{\\left(i \\right)} \\sin^{2}{\\left(w \\right)} \\cos^{2}{\\left(w \\right)}}{8} - \\frac{e^{4} x^{6} \\sin^{4}{\\left(i \\right)} \\cos^{4}{\\left(w \\right)}}{8} + \\frac{3 e^{4} x^{6} \\sin^{2}{\\left(i \\right)} \\sin^{2}{\\left(w \\right)}}{8} + \\frac{e^{4} x^{6} \\sin^{2}{\\left(i \\right)} \\cos^{2}{\\left(w \\right)}}{8} - \\frac{e^{4} x^{5} \\sin^{3}{\\left(i \\right)} \\sin{\\left(w \\right)} \\cos^{2}{\\left(w \\right)}}{4} + \\frac{e^{4} x^{5} \\sin{\\left(i \\right)} \\sin{\\left(w \\right)}}{4} + \\frac{e^{4} x^{4} \\sin^{4}{\\left(i \\right)} \\cos^{4}{\\left(w \\right)}}{16} - \\frac{e^{4} x^{4} \\sin^{2}{\\left(i \\right)} \\cos^{2}{\\left(w \\right)}}{8} + \\frac{e^{4} x^{4}}{16} + \\frac{e^{3} x^{7} \\sin^{4}{\\left(i \\right)} \\sin^{4}{\\left(w \\right)}}{4} + \\frac{e^{3} x^{7} \\sin^{4}{\\left(i \\right)} \\sin^{2}{\\left(w \\right)} \\cos^{2}{\\left(w \\right)}}{2} + \\frac{e^{3} x^{7} \\sin^{4}{\\left(i \\right)} \\cos^{4}{\\left(w \\right)}}{4} + e^{3} x^{6} \\sin^{3}{\\left(i \\right)} \\sin^{3}{\\left(w \\right)} + e^{3} x^{6} \\sin^{3}{\\left(i \\right)} \\sin{\\left(w \\right)} \\cos^{2}{\\left(w \\right)} - \\frac{e^{3} x^{5} \\sin^{4}{\\left(i \\right)} \\sin^{2}{\\left(w \\right)} \\cos^{2}{\\left(w \\right)}}{2} - \\frac{e^{3} x^{5} \\sin^{4}{\\left(i \\right)} \\cos^{4}{\\left(w \\right)}}{2} + \\frac{3 e^{3} x^{5} \\sin^{2}{\\left(i \\right)} \\sin^{2}{\\left(w \\right)}}{2} + \\frac{e^{3} x^{5} \\sin^{2}{\\left(i \\right)} \\cos^{2}{\\left(w \\right)}}{2} - e^{3} x^{4} \\sin^{3}{\\left(i \\right)} \\sin{\\left(w \\right)} \\cos^{2}{\\left(w \\right)} + e^{3} x^{4} \\sin{\\left(i \\right)} \\sin{\\left(w \\right)} + \\frac{e^{3} x^{3} \\sin^{4}{\\left(i \\right)} \\cos^{4}{\\left(w \\right)}}{4} - \\frac{e^{3} x^{3} \\sin^{2}{\\left(i \\right)} \\cos^{2}{\\left(w \\right)}}{2} + \\frac{e^{3} x^{3}}{4} - \\frac{e^{2} lhs x^{4} \\sin^{2}{\\left(i \\right)} \\sin^{2}{\\left(w \\right)}}{2} + \\frac{e^{2} lhs x^{4} \\sin^{2}{\\left(i \\right)} \\cos^{2}{\\left(w \\right)}}{2} - e^{2} lhs x^{3} \\sin{\\left(i \\right)} \\sin{\\left(w \\right)} - \\frac{e^{2} lhs x^{2} \\sin^{2}{\\left(i \\right)} \\cos^{2}{\\left(w \\right)}}{2} - \\frac{e^{2} lhs x^{2}}{2} + \\frac{3 e^{2} x^{6} \\sin^{4}{\\left(i \\right)} \\sin^{4}{\\left(w \\right)}}{8} + \\frac{3 e^{2} x^{6} \\sin^{4}{\\left(i \\right)} \\sin^{2}{\\left(w \\right)} \\cos^{2}{\\left(w \\right)}}{4} + \\frac{3 e^{2} x^{6} \\sin^{4}{\\left(i \\right)} \\cos^{4}{\\left(w \\right)}}{8} + \\frac{3 e^{2} x^{5} \\sin^{3}{\\left(i \\right)} \\sin^{3}{\\left(w \\right)}}{2} + \\frac{3 e^{2} x^{5} \\sin^{3}{\\left(i \\right)} \\sin{\\left(w \\right)} \\cos^{2}{\\left(w \\right)}}{2} - \\frac{3 e^{2} x^{4} \\sin^{4}{\\left(i \\right)} \\sin^{2}{\\left(w \\right)} \\cos^{2}{\\left(w \\right)}}{4} - \\frac{3 e^{2} x^{4} \\sin^{4}{\\left(i \\right)} \\cos^{4}{\\left(w \\right)}}{4} + \\frac{9 e^{2} x^{4} \\sin^{2}{\\left(i \\right)} \\sin^{2}{\\left(w \\right)}}{4} + \\frac{3 e^{2} x^{4} \\sin^{2}{\\left(i \\right)} \\cos^{2}{\\left(w \\right)}}{4} - \\frac{3 e^{2} x^{3} \\sin^{3}{\\left(i \\right)} \\sin{\\left(w \\right)} \\cos^{2}{\\left(w \\right)}}{2} + \\frac{3 e^{2} x^{3} \\sin{\\left(i \\right)} \\sin{\\left(w \\right)}}{2} + \\frac{3 e^{2} x^{2} \\sin^{4}{\\left(i \\right)} \\cos^{4}{\\left(w \\right)}}{8} - \\frac{3 e^{2} x^{2} \\sin^{2}{\\left(i \\right)} \\cos^{2}{\\left(w \\right)}}{4} + \\frac{3 e^{2} x^{2}}{8} - e lhs x^{3} \\sin^{2}{\\left(i \\right)} \\sin^{2}{\\left(w \\right)} + e lhs x^{3} \\sin^{2}{\\left(i \\right)} \\cos^{2}{\\left(w \\right)} - 2 e lhs x^{2} \\sin{\\left(i \\right)} \\sin{\\left(w \\right)} - e lhs x \\sin^{2}{\\left(i \\right)} \\cos^{2}{\\left(w \\right)} - e lhs x + \\frac{e x^{5} \\sin^{4}{\\left(i \\right)} \\sin^{4}{\\left(w \\right)}}{4} + \\frac{e x^{5} \\sin^{4}{\\left(i \\right)} \\sin^{2}{\\left(w \\right)} \\cos^{2}{\\left(w \\right)}}{2} + \\frac{e x^{5} \\sin^{4}{\\left(i \\right)} \\cos^{4}{\\left(w \\right)}}{4} + e x^{4} \\sin^{3}{\\left(i \\right)} \\sin^{3}{\\left(w \\right)} + e x^{4} \\sin^{3}{\\left(i \\right)} \\sin{\\left(w \\right)} \\cos^{2}{\\left(w \\right)} - \\frac{e x^{3} \\sin^{4}{\\left(i \\right)} \\sin^{2}{\\left(w \\right)} \\cos^{2}{\\left(w \\right)}}{2} - \\frac{e x^{3} \\sin^{4}{\\left(i \\right)} \\cos^{4}{\\left(w \\right)}}{2} + \\frac{3 e x^{3} \\sin^{2}{\\left(i \\right)} \\sin^{2}{\\left(w \\right)}}{2} + \\frac{e x^{3} \\sin^{2}{\\left(i \\right)} \\cos^{2}{\\left(w \\right)}}{2} - e x^{2} \\sin^{3}{\\left(i \\right)} \\sin{\\left(w \\right)} \\cos^{2}{\\left(w \\right)} + e x^{2} \\sin{\\left(i \\right)} \\sin{\\left(w \\right)} + \\frac{e x \\sin^{4}{\\left(i \\right)} \\cos^{4}{\\left(w \\right)}}{4} - \\frac{e x \\sin^{2}{\\left(i \\right)} \\cos^{2}{\\left(w \\right)}}{2} + \\frac{e x}{4} + lhs^{2} - \\frac{lhs x^{2} \\sin^{2}{\\left(i \\right)} \\sin^{2}{\\left(w \\right)}}{2} + \\frac{lhs x^{2} \\sin^{2}{\\left(i \\right)} \\cos^{2}{\\left(w \\right)}}{2} - lhs x \\sin{\\left(i \\right)} \\sin{\\left(w \\right)} - \\frac{lhs \\sin^{2}{\\left(i \\right)} \\cos^{2}{\\left(w \\right)}}{2} - \\frac{lhs}{2} + \\frac{x^{4} \\sin^{4}{\\left(i \\right)} \\sin^{4}{\\left(w \\right)}}{16} + \\frac{x^{4} \\sin^{4}{\\left(i \\right)} \\sin^{2}{\\left(w \\right)} \\cos^{2}{\\left(w \\right)}}{8} + \\frac{x^{4} \\sin^{4}{\\left(i \\right)} \\cos^{4}{\\left(w \\right)}}{16} + \\frac{x^{3} \\sin^{3}{\\left(i \\right)} \\sin^{3}{\\left(w \\right)}}{4} + \\frac{x^{3} \\sin^{3}{\\left(i \\right)} \\sin{\\left(w \\right)} \\cos^{2}{\\left(w \\right)}}{4} - \\frac{x^{2} \\sin^{4}{\\left(i \\right)} \\sin^{2}{\\left(w \\right)} \\cos^{2}{\\left(w \\right)}}{8} - \\frac{x^{2} \\sin^{4}{\\left(i \\right)} \\cos^{4}{\\left(w \\right)}}{8} + \\frac{3 x^{2} \\sin^{2}{\\left(i \\right)} \\sin^{2}{\\left(w \\right)}}{8} + \\frac{x^{2} \\sin^{2}{\\left(i \\right)} \\cos^{2}{\\left(w \\right)}}{8} - \\frac{x \\sin^{3}{\\left(i \\right)} \\sin{\\left(w \\right)} \\cos^{2}{\\left(w \\right)}}{4} + \\frac{x \\sin{\\left(i \\right)} \\sin{\\left(w \\right)}}{4} + \\frac{\\sin^{4}{\\left(i \\right)} \\cos^{4}{\\left(w \\right)}}{16} - \\frac{\\sin^{2}{\\left(i \\right)} \\cos^{2}{\\left(w \\right)}}{8} + \\frac{1}{16}$"
      ],
      "text/plain": [
       "e**4*x**8*sin(i)**4*sin(w)**4/16 + e**4*x**8*sin(i)**4*sin(w)**2*cos(w)**2/8 + e**4*x**8*sin(i)**4*cos(w)**4/16 + e**4*x**7*sin(i)**3*sin(w)**3/4 + e**4*x**7*sin(i)**3*sin(w)*cos(w)**2/4 - e**4*x**6*sin(i)**4*sin(w)**2*cos(w)**2/8 - e**4*x**6*sin(i)**4*cos(w)**4/8 + 3*e**4*x**6*sin(i)**2*sin(w)**2/8 + e**4*x**6*sin(i)**2*cos(w)**2/8 - e**4*x**5*sin(i)**3*sin(w)*cos(w)**2/4 + e**4*x**5*sin(i)*sin(w)/4 + e**4*x**4*sin(i)**4*cos(w)**4/16 - e**4*x**4*sin(i)**2*cos(w)**2/8 + e**4*x**4/16 + e**3*x**7*sin(i)**4*sin(w)**4/4 + e**3*x**7*sin(i)**4*sin(w)**2*cos(w)**2/2 + e**3*x**7*sin(i)**4*cos(w)**4/4 + e**3*x**6*sin(i)**3*sin(w)**3 + e**3*x**6*sin(i)**3*sin(w)*cos(w)**2 - e**3*x**5*sin(i)**4*sin(w)**2*cos(w)**2/2 - e**3*x**5*sin(i)**4*cos(w)**4/2 + 3*e**3*x**5*sin(i)**2*sin(w)**2/2 + e**3*x**5*sin(i)**2*cos(w)**2/2 - e**3*x**4*sin(i)**3*sin(w)*cos(w)**2 + e**3*x**4*sin(i)*sin(w) + e**3*x**3*sin(i)**4*cos(w)**4/4 - e**3*x**3*sin(i)**2*cos(w)**2/2 + e**3*x**3/4 - e**2*lhs*x**4*sin(i)**2*sin(w)**2/2 + e**2*lhs*x**4*sin(i)**2*cos(w)**2/2 - e**2*lhs*x**3*sin(i)*sin(w) - e**2*lhs*x**2*sin(i)**2*cos(w)**2/2 - e**2*lhs*x**2/2 + 3*e**2*x**6*sin(i)**4*sin(w)**4/8 + 3*e**2*x**6*sin(i)**4*sin(w)**2*cos(w)**2/4 + 3*e**2*x**6*sin(i)**4*cos(w)**4/8 + 3*e**2*x**5*sin(i)**3*sin(w)**3/2 + 3*e**2*x**5*sin(i)**3*sin(w)*cos(w)**2/2 - 3*e**2*x**4*sin(i)**4*sin(w)**2*cos(w)**2/4 - 3*e**2*x**4*sin(i)**4*cos(w)**4/4 + 9*e**2*x**4*sin(i)**2*sin(w)**2/4 + 3*e**2*x**4*sin(i)**2*cos(w)**2/4 - 3*e**2*x**3*sin(i)**3*sin(w)*cos(w)**2/2 + 3*e**2*x**3*sin(i)*sin(w)/2 + 3*e**2*x**2*sin(i)**4*cos(w)**4/8 - 3*e**2*x**2*sin(i)**2*cos(w)**2/4 + 3*e**2*x**2/8 - e*lhs*x**3*sin(i)**2*sin(w)**2 + e*lhs*x**3*sin(i)**2*cos(w)**2 - 2*e*lhs*x**2*sin(i)*sin(w) - e*lhs*x*sin(i)**2*cos(w)**2 - e*lhs*x + e*x**5*sin(i)**4*sin(w)**4/4 + e*x**5*sin(i)**4*sin(w)**2*cos(w)**2/2 + e*x**5*sin(i)**4*cos(w)**4/4 + e*x**4*sin(i)**3*sin(w)**3 + e*x**4*sin(i)**3*sin(w)*cos(w)**2 - e*x**3*sin(i)**4*sin(w)**2*cos(w)**2/2 - e*x**3*sin(i)**4*cos(w)**4/2 + 3*e*x**3*sin(i)**2*sin(w)**2/2 + e*x**3*sin(i)**2*cos(w)**2/2 - e*x**2*sin(i)**3*sin(w)*cos(w)**2 + e*x**2*sin(i)*sin(w) + e*x*sin(i)**4*cos(w)**4/4 - e*x*sin(i)**2*cos(w)**2/2 + e*x/4 + lhs**2 - lhs*x**2*sin(i)**2*sin(w)**2/2 + lhs*x**2*sin(i)**2*cos(w)**2/2 - lhs*x*sin(i)*sin(w) - lhs*sin(i)**2*cos(w)**2/2 - lhs/2 + x**4*sin(i)**4*sin(w)**4/16 + x**4*sin(i)**4*sin(w)**2*cos(w)**2/8 + x**4*sin(i)**4*cos(w)**4/16 + x**3*sin(i)**3*sin(w)**3/4 + x**3*sin(i)**3*sin(w)*cos(w)**2/4 - x**2*sin(i)**4*sin(w)**2*cos(w)**2/8 - x**2*sin(i)**4*cos(w)**4/8 + 3*x**2*sin(i)**2*sin(w)**2/8 + x**2*sin(i)**2*cos(w)**2/8 - x*sin(i)**3*sin(w)*cos(w)**2/4 + x*sin(i)*sin(w)/4 + sin(i)**4*cos(w)**4/16 - sin(i)**2*cos(w)**2/8 + 1/16"
      ]
     },
     "execution_count": 46,
     "metadata": {},
     "output_type": "execute_result"
    }
   ],
   "source": [
    "fullEqnX"
   ]
  },
  {
   "cell_type": "code",
   "execution_count": 48,
   "metadata": {},
   "outputs": [
    {
     "data": {
      "text/plain": [
       "[e**4*sin(i)**4*sin(w)**4/16 + e**4*sin(i)**4*sin(w)**2*cos(w)**2/8 + e**4*sin(i)**4*cos(w)**4/16,\n",
       " e**4*sin(i)**3*sin(w)**3/4 + e**4*sin(i)**3*sin(w)*cos(w)**2/4 + e**3*sin(i)**4*sin(w)**4/4 + e**3*sin(i)**4*sin(w)**2*cos(w)**2/2 + e**3*sin(i)**4*cos(w)**4/4,\n",
       " -e**4*sin(i)**4*sin(w)**2*cos(w)**2/8 - e**4*sin(i)**4*cos(w)**4/8 + 3*e**4*sin(i)**2*sin(w)**2/8 + e**4*sin(i)**2*cos(w)**2/8 + e**3*sin(i)**3*sin(w)**3 + e**3*sin(i)**3*sin(w)*cos(w)**2 + 3*e**2*sin(i)**4*sin(w)**4/8 + 3*e**2*sin(i)**4*sin(w)**2*cos(w)**2/4 + 3*e**2*sin(i)**4*cos(w)**4/8,\n",
       " -e**4*sin(i)**3*sin(w)*cos(w)**2/4 + e**4*sin(i)*sin(w)/4 - e**3*sin(i)**4*sin(w)**2*cos(w)**2/2 - e**3*sin(i)**4*cos(w)**4/2 + 3*e**3*sin(i)**2*sin(w)**2/2 + e**3*sin(i)**2*cos(w)**2/2 + 3*e**2*sin(i)**3*sin(w)**3/2 + 3*e**2*sin(i)**3*sin(w)*cos(w)**2/2 + e*sin(i)**4*sin(w)**4/4 + e*sin(i)**4*sin(w)**2*cos(w)**2/2 + e*sin(i)**4*cos(w)**4/4,\n",
       " e**4*sin(i)**4*cos(w)**4/16 - e**4*sin(i)**2*cos(w)**2/8 + e**4/16 - e**3*sin(i)**3*sin(w)*cos(w)**2 + e**3*sin(i)*sin(w) - e**2*lhs*sin(i)**2*sin(w)**2/2 + e**2*lhs*sin(i)**2*cos(w)**2/2 - 3*e**2*sin(i)**4*sin(w)**2*cos(w)**2/4 - 3*e**2*sin(i)**4*cos(w)**4/4 + 9*e**2*sin(i)**2*sin(w)**2/4 + 3*e**2*sin(i)**2*cos(w)**2/4 + e*sin(i)**3*sin(w)**3 + e*sin(i)**3*sin(w)*cos(w)**2 + sin(i)**4*sin(w)**4/16 + sin(i)**4*sin(w)**2*cos(w)**2/8 + sin(i)**4*cos(w)**4/16,\n",
       " e**3*sin(i)**4*cos(w)**4/4 - e**3*sin(i)**2*cos(w)**2/2 + e**3/4 - e**2*lhs*sin(i)*sin(w) - 3*e**2*sin(i)**3*sin(w)*cos(w)**2/2 + 3*e**2*sin(i)*sin(w)/2 - e*lhs*sin(i)**2*sin(w)**2 + e*lhs*sin(i)**2*cos(w)**2 - e*sin(i)**4*sin(w)**2*cos(w)**2/2 - e*sin(i)**4*cos(w)**4/2 + 3*e*sin(i)**2*sin(w)**2/2 + e*sin(i)**2*cos(w)**2/2 + sin(i)**3*sin(w)**3/4 + sin(i)**3*sin(w)*cos(w)**2/4,\n",
       " -e**2*lhs*sin(i)**2*cos(w)**2/2 - e**2*lhs/2 + 3*e**2*sin(i)**4*cos(w)**4/8 - 3*e**2*sin(i)**2*cos(w)**2/4 + 3*e**2/8 - 2*e*lhs*sin(i)*sin(w) - e*sin(i)**3*sin(w)*cos(w)**2 + e*sin(i)*sin(w) - lhs*sin(i)**2*sin(w)**2/2 + lhs*sin(i)**2*cos(w)**2/2 - sin(i)**4*sin(w)**2*cos(w)**2/8 - sin(i)**4*cos(w)**4/8 + 3*sin(i)**2*sin(w)**2/8 + sin(i)**2*cos(w)**2/8,\n",
       " -e*lhs*sin(i)**2*cos(w)**2 - e*lhs + e*sin(i)**4*cos(w)**4/4 - e*sin(i)**2*cos(w)**2/2 + e/4 - lhs*sin(i)*sin(w) - sin(i)**3*sin(w)*cos(w)**2/4 + sin(i)*sin(w)/4,\n",
       " lhs**2 - lhs*sin(i)**2*cos(w)**2/2 - lhs/2 + sin(i)**4*cos(w)**4/16 - sin(i)**2*cos(w)**2/8 + 1/16]"
      ]
     },
     "execution_count": 48,
     "metadata": {},
     "output_type": "execute_result"
    }
   ],
   "source": [
    "sp.Poly(fullEqnX,x).coeffs()"
   ]
  },
  {
   "cell_type": "code",
   "execution_count": 22,
   "metadata": {},
   "outputs": [],
   "source": [
    "A, B, C, D, E, F, G, H, I = sp.symbols('A B C D E F G H I',real=True)"
   ]
  },
  {
   "cell_type": "code",
   "execution_count": 23,
   "metadata": {},
   "outputs": [],
   "source": [
    "xeqn = 1-((lhs-A*x**4-C*x**3-E*x**2-G*x-I)/(B*x**3+D*x**2+F*x+H))**2-x**2\n",
    "xeqn = (B*x**3+D*x**2+F*x+H)**2-(lhs-A*x**4-C*x**3-E*x**2-G*x-I)**2-x**2*(B*x**3+D*x**2+F*x+H)**2"
   ]
  },
  {
   "cell_type": "code",
   "execution_count": 24,
   "metadata": {},
   "outputs": [
    {
     "data": {
      "text/latex": [
       "$\\displaystyle - A^{2} x^{8} - 2 A C x^{7} - 2 A E x^{6} - 2 A G x^{5} - 2 A I x^{4} + 2 A lhs x^{4} - B^{2} x^{8} + B^{2} x^{6} - 2 B D x^{7} + 2 B D x^{5} - 2 B F x^{6} + 2 B F x^{4} - 2 B H x^{5} + 2 B H x^{3} - C^{2} x^{6} - 2 C E x^{5} - 2 C G x^{4} - 2 C I x^{3} + 2 C lhs x^{3} - D^{2} x^{6} + D^{2} x^{4} - 2 D F x^{5} + 2 D F x^{3} - 2 D H x^{4} + 2 D H x^{2} - E^{2} x^{4} - 2 E G x^{3} - 2 E I x^{2} + 2 E lhs x^{2} - F^{2} x^{4} + F^{2} x^{2} - 2 F H x^{3} + 2 F H x - G^{2} x^{2} - 2 G I x + 2 G lhs x - H^{2} x^{2} + H^{2} - I^{2} + 2 I lhs - lhs^{2}$"
      ],
      "text/plain": [
       "-A**2*x**8 - 2*A*C*x**7 - 2*A*E*x**6 - 2*A*G*x**5 - 2*A*I*x**4 + 2*A*lhs*x**4 - B**2*x**8 + B**2*x**6 - 2*B*D*x**7 + 2*B*D*x**5 - 2*B*F*x**6 + 2*B*F*x**4 - 2*B*H*x**5 + 2*B*H*x**3 - C**2*x**6 - 2*C*E*x**5 - 2*C*G*x**4 - 2*C*I*x**3 + 2*C*lhs*x**3 - D**2*x**6 + D**2*x**4 - 2*D*F*x**5 + 2*D*F*x**3 - 2*D*H*x**4 + 2*D*H*x**2 - E**2*x**4 - 2*E*G*x**3 - 2*E*I*x**2 + 2*E*lhs*x**2 - F**2*x**4 + F**2*x**2 - 2*F*H*x**3 + 2*F*H*x - G**2*x**2 - 2*G*I*x + 2*G*lhs*x - H**2*x**2 + H**2 - I**2 + 2*I*lhs - lhs**2"
      ]
     },
     "execution_count": 24,
     "metadata": {},
     "output_type": "execute_result"
    }
   ],
   "source": [
    "sp.expand(xeqn)"
   ]
  },
  {
   "cell_type": "code",
   "execution_count": 25,
   "metadata": {},
   "outputs": [
    {
     "data": {
      "text/latex": [
       "$\\displaystyle - A^{2} x^{8} - 2 A C x^{7} - 2 A E x^{6} - 2 A G x^{5} - 2 A I x^{4} + 2 A lhs x^{4} - B^{2} x^{8} + B^{2} x^{6} - 2 B D x^{7} + 2 B D x^{5} - 2 B F x^{6} + 2 B F x^{4} - 2 B H x^{5} + 2 B H x^{3} - C^{2} x^{6} - 2 C E x^{5} - 2 C G x^{4} - 2 C I x^{3} + 2 C lhs x^{3} - D^{2} x^{6} + D^{2} x^{4} - 2 D F x^{5} + 2 D F x^{3} - 2 D H x^{4} + 2 D H x^{2} - E^{2} x^{4} - 2 E G x^{3} - 2 E I x^{2} + 2 E lhs x^{2} - F^{2} x^{4} + F^{2} x^{2} - 2 F H x^{3} + 2 F H x - G^{2} x^{2} - 2 G I x + 2 G lhs x - H^{2} x^{2} + H^{2} - I^{2} + 2 I lhs - lhs^{2}$"
      ],
      "text/plain": [
       "-A**2*x**8 - 2*A*C*x**7 - 2*A*E*x**6 - 2*A*G*x**5 - 2*A*I*x**4 + 2*A*lhs*x**4 - B**2*x**8 + B**2*x**6 - 2*B*D*x**7 + 2*B*D*x**5 - 2*B*F*x**6 + 2*B*F*x**4 - 2*B*H*x**5 + 2*B*H*x**3 - C**2*x**6 - 2*C*E*x**5 - 2*C*G*x**4 - 2*C*I*x**3 + 2*C*lhs*x**3 - D**2*x**6 + D**2*x**4 - 2*D*F*x**5 + 2*D*F*x**3 - 2*D*H*x**4 + 2*D*H*x**2 - E**2*x**4 - 2*E*G*x**3 - 2*E*I*x**2 + 2*E*lhs*x**2 - F**2*x**4 + F**2*x**2 - 2*F*H*x**3 + 2*F*H*x - G**2*x**2 - 2*G*I*x + 2*G*lhs*x - H**2*x**2 + H**2 - I**2 + 2*I*lhs - lhs**2"
      ]
     },
     "execution_count": 25,
     "metadata": {},
     "output_type": "execute_result"
    }
   ],
   "source": [
    "sp.expand(xeqn)"
   ]
  },
  {
   "cell_type": "code",
   "execution_count": 26,
   "metadata": {},
   "outputs": [
    {
     "data": {
      "text/plain": [
       "[]"
      ]
     },
     "execution_count": 26,
     "metadata": {},
     "output_type": "execute_result"
    }
   ],
   "source": [
    "sp.solve(xeqn,x)"
   ]
  },
  {
   "cell_type": "code",
   "execution_count": 27,
   "metadata": {},
   "outputs": [],
   "source": [
    "poly = sp.Poly(xeqn,x)\n",
    "coeffs = poly.coeffs()"
   ]
  },
  {
   "cell_type": "code",
   "execution_count": 28,
   "metadata": {},
   "outputs": [
    {
     "data": {
      "text/plain": [
       "[-A**2 - B**2,\n",
       " -2*A*C - 2*B*D,\n",
       " -2*A*E + B**2 - 2*B*F - C**2 - D**2,\n",
       " -2*A*G + 2*B*D - 2*B*H - 2*C*E - 2*D*F,\n",
       " -2*A*I + 2*A*lhs + 2*B*F - 2*C*G + D**2 - 2*D*H - E**2 - F**2,\n",
       " 2*B*H - 2*C*I + 2*C*lhs + 2*D*F - 2*E*G - 2*F*H,\n",
       " 2*D*H - 2*E*I + 2*E*lhs + F**2 - G**2 - H**2,\n",
       " 2*F*H - 2*G*I + 2*G*lhs,\n",
       " H**2 - I**2 + 2*I*lhs - lhs**2]"
      ]
     },
     "execution_count": 28,
     "metadata": {},
     "output_type": "execute_result"
    }
   ],
   "source": [
    "coeffs"
   ]
  },
  {
   "cell_type": "code",
   "execution_count": 29,
   "metadata": {},
   "outputs": [],
   "source": [
    "# Try 5"
   ]
  },
  {
   "cell_type": "code",
   "execution_count": 30,
   "metadata": {},
   "outputs": [],
   "source": [
    "eqn = A*sp.cos(v)**4 + B*sp.sin(v)*sp.cos(v)**3 + C*sp.cos(v)**3 + D*sp.sin(v)*sp.cos(v)**2 + E*sp.cos(v)**2 + F*sp.sin(v)*sp.cos(v) + G*sp.sin(v) + H*sp.cos(v) + I"
   ]
  },
  {
   "cell_type": "code",
   "execution_count": 31,
   "metadata": {},
   "outputs": [
    {
     "data": {
      "text/latex": [
       "$\\displaystyle A \\cos^{4}{\\left(v \\right)} + B \\sin{\\left(v \\right)} \\cos^{3}{\\left(v \\right)} + C \\cos^{3}{\\left(v \\right)} + D \\sin{\\left(v \\right)} \\cos^{2}{\\left(v \\right)} + E \\cos^{2}{\\left(v \\right)} + F \\sin{\\left(v \\right)} \\cos{\\left(v \\right)} + G \\sin{\\left(v \\right)} + H \\cos{\\left(v \\right)} + I$"
      ],
      "text/plain": [
       "A*cos(v)**4 + B*sin(v)*cos(v)**3 + C*cos(v)**3 + D*sin(v)*cos(v)**2 + E*cos(v)**2 + F*sin(v)*cos(v) + G*sin(v) + H*cos(v) + I"
      ]
     },
     "execution_count": 31,
     "metadata": {},
     "output_type": "execute_result"
    }
   ],
   "source": [
    "eqn"
   ]
  },
  {
   "cell_type": "code",
   "execution_count": 32,
   "metadata": {},
   "outputs": [
    {
     "data": {
      "text/plain": [
       "[]"
      ]
     },
     "execution_count": 32,
     "metadata": {},
     "output_type": "execute_result"
    }
   ],
   "source": [
    "sp.solve(eqn,v)"
   ]
  },
  {
   "cell_type": "code",
   "execution_count": 63,
   "metadata": {},
   "outputs": [],
   "source": [
    "a, p, Rp, dmag = sp.symbols('a p R_p \\Delta{mag}',real=True)\n",
    "lhs = a**2*(1+e**2)**2/(p*Rp)*10**(-0.4*dmag)"
   ]
  },
  {
   "cell_type": "code",
   "execution_count": 64,
   "metadata": {},
   "outputs": [
    {
     "data": {
      "text/latex": [
       "$\\displaystyle \\frac{10^{- 0.4 \\Delta{mag}} a^{2} \\left(e^{2} + 1\\right)^{2}}{R_{p} p}$"
      ],
      "text/plain": [
       "10**(-0.4*\\Delta{mag})*a**2*(e**2 + 1)**2/(R_p*p)"
      ]
     },
     "execution_count": 64,
     "metadata": {},
     "output_type": "execute_result"
    }
   ],
   "source": [
    "lhs"
   ]
  },
  {
   "cell_type": "code",
   "execution_count": 65,
   "metadata": {},
   "outputs": [
    {
     "name": "stdout",
     "output_type": "stream",
     "text": [
      "10**(-0.4*\\Delta{mag})*a**2*(e**2 + 1)**2/(R_p*p)\n"
     ]
    }
   ],
   "source": [
    "print(lhs)"
   ]
  },
  {
   "cell_type": "markdown",
   "metadata": {},
   "source": [
    "# Redo Equations with cos(beta/2)^2 phase function"
   ]
  },
  {
   "cell_type": "code",
   "execution_count": 101,
   "metadata": {},
   "outputs": [],
   "source": [
    "phiFunc2 = sp.cos(beta/2)**2\n",
    "phiFunc2 = phiFunc2.subs(sp.cos(beta/2)**2.,(1+sp.cos(beta))/2)\n",
    "phiFunc2 = phiFunc2.subs(beta,betaFunc) #replace in phase function\n",
    "FFunc = phiFunc2*(e*sp.cos(v)+1)**2 - F # is equal to 0\n"
   ]
  },
  {
   "cell_type": "code",
   "execution_count": 102,
   "metadata": {},
   "outputs": [
    {
     "data": {
      "text/latex": [
       "$\\displaystyle - F + \\left(e \\cos{\\left(v \\right)} + 1\\right)^{2} \\left(\\frac{\\sin{\\left(i \\right)} \\sin{\\left(v + w \\right)}}{2} + \\frac{1}{2}\\right)$"
      ],
      "text/plain": [
       "-F + (e*cos(v) + 1)**2*(sin(i)*sin(v + w)/2 + 1/2)"
      ]
     },
     "execution_count": 102,
     "metadata": {},
     "output_type": "execute_result"
    }
   ],
   "source": [
    "FFunc"
   ]
  },
  {
   "cell_type": "code",
   "execution_count": 103,
   "metadata": {},
   "outputs": [
    {
     "data": {
      "text/latex": [
       "$\\displaystyle - F + \\left(e \\cos{\\left(v \\right)} + 1\\right)^{2} \\left(\\frac{\\left(\\sin{\\left(v \\right)} \\cos{\\left(w \\right)} + \\sin{\\left(w \\right)} \\cos{\\left(v \\right)}\\right) \\sin{\\left(i \\right)}}{2} + \\frac{1}{2}\\right)$"
      ],
      "text/plain": [
       "-F + (e*cos(v) + 1)**2*((sin(v)*cos(w) + sin(w)*cos(v))*sin(i)/2 + 1/2)"
      ]
     },
     "execution_count": 103,
     "metadata": {},
     "output_type": "execute_result"
    }
   ],
   "source": [
    "FFunc = FFunc.subs(sp.sin(v+w),sinvpw)\n",
    "FFunc"
   ]
  },
  {
   "cell_type": "code",
   "execution_count": 104,
   "metadata": {},
   "outputs": [
    {
     "data": {
      "text/latex": [
       "$\\displaystyle - F + \\frac{e^{2} \\sin{\\left(i \\right)} \\sin{\\left(v \\right)} \\cos^{2}{\\left(v \\right)} \\cos{\\left(w \\right)}}{2} + \\frac{e^{2} \\sin{\\left(i \\right)} \\sin{\\left(w \\right)} \\cos^{3}{\\left(v \\right)}}{2} + \\frac{e^{2} \\cos^{2}{\\left(v \\right)}}{2} + e \\sin{\\left(i \\right)} \\sin{\\left(v \\right)} \\cos{\\left(v \\right)} \\cos{\\left(w \\right)} + e \\sin{\\left(i \\right)} \\sin{\\left(w \\right)} \\cos^{2}{\\left(v \\right)} + e \\cos{\\left(v \\right)} + \\frac{\\sin{\\left(i \\right)} \\sin{\\left(v \\right)} \\cos{\\left(w \\right)}}{2} + \\frac{\\sin{\\left(i \\right)} \\sin{\\left(w \\right)} \\cos{\\left(v \\right)}}{2} + \\frac{1}{2}$"
      ],
      "text/plain": [
       "-F + e**2*sin(i)*sin(v)*cos(v)**2*cos(w)/2 + e**2*sin(i)*sin(w)*cos(v)**3/2 + e**2*cos(v)**2/2 + e*sin(i)*sin(v)*cos(v)*cos(w) + e*sin(i)*sin(w)*cos(v)**2 + e*cos(v) + sin(i)*sin(v)*cos(w)/2 + sin(i)*sin(w)*cos(v)/2 + 1/2"
      ]
     },
     "execution_count": 104,
     "metadata": {},
     "output_type": "execute_result"
    }
   ],
   "source": [
    "sp.expand(FFunc)"
   ]
  },
  {
   "cell_type": "code",
   "execution_count": 105,
   "metadata": {},
   "outputs": [],
   "source": [
    "FFunc = sp.expand(FFunc.subs(sp.sin(v),sp.sqrt(1-sp.cos(v)**2)))"
   ]
  },
  {
   "cell_type": "code",
   "execution_count": 106,
   "metadata": {},
   "outputs": [],
   "source": [
    "FFunc = FFunc.subs(sp.cos(v),x)"
   ]
  },
  {
   "cell_type": "code",
   "execution_count": 107,
   "metadata": {},
   "outputs": [],
   "source": [
    "FFuncPoly = sp.Poly(FFunc,sp.sqrt(1-x**2))\n",
    "fullFFunc = sp.expand(FFuncPoly.coeffs()[1]**2 - (1-x**2)*FFuncPoly.coeffs()[0]**2) # move sqrt(1-x**2) and [0]"
   ]
  },
  {
   "cell_type": "code",
   "execution_count": 108,
   "metadata": {},
   "outputs": [
    {
     "data": {
      "text/latex": [
       "$\\displaystyle F^{2} - F e^{2} x^{3} \\sin{\\left(i \\right)} \\sin{\\left(w \\right)} - F e^{2} x^{2} - 2 F e x^{2} \\sin{\\left(i \\right)} \\sin{\\left(w \\right)} - 2 F e x - F x \\sin{\\left(i \\right)} \\sin{\\left(w \\right)} - F + \\frac{e^{4} x^{6} \\sin^{2}{\\left(i \\right)} \\sin^{2}{\\left(w \\right)}}{4} + \\frac{e^{4} x^{6} \\sin^{2}{\\left(i \\right)} \\cos^{2}{\\left(w \\right)}}{4} + \\frac{e^{4} x^{5} \\sin{\\left(i \\right)} \\sin{\\left(w \\right)}}{2} - \\frac{e^{4} x^{4} \\sin^{2}{\\left(i \\right)} \\cos^{2}{\\left(w \\right)}}{4} + \\frac{e^{4} x^{4}}{4} + e^{3} x^{5} \\sin^{2}{\\left(i \\right)} \\sin^{2}{\\left(w \\right)} + e^{3} x^{5} \\sin^{2}{\\left(i \\right)} \\cos^{2}{\\left(w \\right)} + 2 e^{3} x^{4} \\sin{\\left(i \\right)} \\sin{\\left(w \\right)} - e^{3} x^{3} \\sin^{2}{\\left(i \\right)} \\cos^{2}{\\left(w \\right)} + e^{3} x^{3} + \\frac{3 e^{2} x^{4} \\sin^{2}{\\left(i \\right)} \\sin^{2}{\\left(w \\right)}}{2} + \\frac{3 e^{2} x^{4} \\sin^{2}{\\left(i \\right)} \\cos^{2}{\\left(w \\right)}}{2} + 3 e^{2} x^{3} \\sin{\\left(i \\right)} \\sin{\\left(w \\right)} - \\frac{3 e^{2} x^{2} \\sin^{2}{\\left(i \\right)} \\cos^{2}{\\left(w \\right)}}{2} + \\frac{3 e^{2} x^{2}}{2} + e x^{3} \\sin^{2}{\\left(i \\right)} \\sin^{2}{\\left(w \\right)} + e x^{3} \\sin^{2}{\\left(i \\right)} \\cos^{2}{\\left(w \\right)} + 2 e x^{2} \\sin{\\left(i \\right)} \\sin{\\left(w \\right)} - e x \\sin^{2}{\\left(i \\right)} \\cos^{2}{\\left(w \\right)} + e x + \\frac{x^{2} \\sin^{2}{\\left(i \\right)} \\sin^{2}{\\left(w \\right)}}{4} + \\frac{x^{2} \\sin^{2}{\\left(i \\right)} \\cos^{2}{\\left(w \\right)}}{4} + \\frac{x \\sin{\\left(i \\right)} \\sin{\\left(w \\right)}}{2} - \\frac{\\sin^{2}{\\left(i \\right)} \\cos^{2}{\\left(w \\right)}}{4} + \\frac{1}{4}$"
      ],
      "text/plain": [
       "F**2 - F*e**2*x**3*sin(i)*sin(w) - F*e**2*x**2 - 2*F*e*x**2*sin(i)*sin(w) - 2*F*e*x - F*x*sin(i)*sin(w) - F + e**4*x**6*sin(i)**2*sin(w)**2/4 + e**4*x**6*sin(i)**2*cos(w)**2/4 + e**4*x**5*sin(i)*sin(w)/2 - e**4*x**4*sin(i)**2*cos(w)**2/4 + e**4*x**4/4 + e**3*x**5*sin(i)**2*sin(w)**2 + e**3*x**5*sin(i)**2*cos(w)**2 + 2*e**3*x**4*sin(i)*sin(w) - e**3*x**3*sin(i)**2*cos(w)**2 + e**3*x**3 + 3*e**2*x**4*sin(i)**2*sin(w)**2/2 + 3*e**2*x**4*sin(i)**2*cos(w)**2/2 + 3*e**2*x**3*sin(i)*sin(w) - 3*e**2*x**2*sin(i)**2*cos(w)**2/2 + 3*e**2*x**2/2 + e*x**3*sin(i)**2*sin(w)**2 + e*x**3*sin(i)**2*cos(w)**2 + 2*e*x**2*sin(i)*sin(w) - e*x*sin(i)**2*cos(w)**2 + e*x + x**2*sin(i)**2*sin(w)**2/4 + x**2*sin(i)**2*cos(w)**2/4 + x*sin(i)*sin(w)/2 - sin(i)**2*cos(w)**2/4 + 1/4"
      ]
     },
     "execution_count": 108,
     "metadata": {},
     "output_type": "execute_result"
    }
   ],
   "source": [
    "fullFFunc"
   ]
  },
  {
   "cell_type": "code",
   "execution_count": null,
   "metadata": {},
   "outputs": [],
   "source": []
  },
  {
   "cell_type": "code",
   "execution_count": null,
   "metadata": {},
   "outputs": [],
   "source": []
  }
 ],
 "metadata": {
  "kernelspec": {
   "display_name": "Python 3",
   "language": "python",
   "name": "python3"
  },
  "language_info": {
   "codemirror_mode": {
    "name": "ipython",
    "version": 3
   },
   "file_extension": ".py",
   "mimetype": "text/x-python",
   "name": "python",
   "nbconvert_exporter": "python",
   "pygments_lexer": "ipython3",
   "version": "3.6.9"
  }
 },
 "nbformat": 4,
 "nbformat_minor": 4
}
