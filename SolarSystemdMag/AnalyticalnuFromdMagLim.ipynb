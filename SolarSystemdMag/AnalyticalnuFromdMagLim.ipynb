{
 "cells": [
  {
   "cell_type": "code",
   "execution_count": 1,
   "metadata": {},
   "outputs": [],
   "source": [
    "import sympy as sp\n",
    "import numpy as np"
   ]
  },
  {
   "cell_type": "code",
   "execution_count": 2,
   "metadata": {},
   "outputs": [],
   "source": [
    "beta, e, a, dmagn, p, Rp = sp.symbols('beta, e, a, dmagn, p, R_p', real=True,positive=True)\n",
    "inc, w, v = sp.symbols('inc, w, nu',real=True)\n",
    "A,B,C,D = sp.symbols('A,B,C,D',real=True)\n",
    "con = sp.symbols('con', real=True, positive=True)"
   ]
  },
  {
   "cell_type": "markdown",
   "metadata": {},
   "source": [
    "#### Phase angle function as a function of nu"
   ]
  },
  {
   "cell_type": "code",
   "execution_count": 3,
   "metadata": {},
   "outputs": [],
   "source": [
    "betaFunc = sp.acos(sp.sin(inc)*sp.sin(v+w))\n",
    "#Angle Addition Expanders\n",
    "sinvpw = sp.sin(v)*sp.cos(w) + sp.cos(v)*sp.sin(w)\n",
    "cosvpw = sp.cos(v)*sp.cos(w) - sp.sin(v)*sp.sin(w)\n",
    "sinvmw = sp.sin(v)*sp.cos(w) - sp.cos(v)*sp.sin(w)\n",
    "cosvmw = sp.cos(v)*sp.cos(w) + sp.sin(v)*sp.sin(w)\n",
    "betaFunc = betaFunc.subs(sp.sin(v+w),sinvpw)"
   ]
  },
  {
   "cell_type": "markdown",
   "metadata": {},
   "source": [
    "#### Invert to get nu as a function of Phase Angle"
   ]
  },
  {
   "cell_type": "code",
   "execution_count": 4,
   "metadata": {},
   "outputs": [],
   "source": [
    "nueqn = sp.asin(sp.cos(beta)/sp.sin(inc))-w"
   ]
  },
  {
   "cell_type": "code",
   "execution_count": 5,
   "metadata": {},
   "outputs": [
    {
     "data": {
      "text/latex": [
       "$\\displaystyle - w + \\operatorname{asin}{\\left(\\frac{\\cos{\\left(\\beta \\right)}}{\\sin{\\left(inc \\right)}} \\right)}$"
      ],
      "text/plain": [
       "-w + asin(cos(beta)/sin(inc))"
      ]
     },
     "execution_count": 5,
     "metadata": {},
     "output_type": "execute_result"
    }
   ],
   "source": [
    "nueqn"
   ]
  },
  {
   "cell_type": "markdown",
   "metadata": {},
   "source": [
    "#### Define r as a function of KOE"
   ]
  },
  {
   "cell_type": "code",
   "execution_count": 6,
   "metadata": {},
   "outputs": [],
   "source": [
    "eqnr = a*(1-e**2)/(1+e*sp.cos(v))"
   ]
  },
  {
   "cell_type": "code",
   "execution_count": 7,
   "metadata": {},
   "outputs": [
    {
     "data": {
      "text/latex": [
       "$\\displaystyle \\frac{a \\left(1 - e^{2}\\right)}{e \\cos{\\left(\\nu \\right)} + 1}$"
      ],
      "text/plain": [
       "a*(1 - e**2)/(e*cos(nu) + 1)"
      ]
     },
     "execution_count": 7,
     "metadata": {},
     "output_type": "execute_result"
    }
   ],
   "source": [
    "eqnr"
   ]
  },
  {
   "cell_type": "markdown",
   "metadata": {},
   "source": [
    "#### Define define all components of dmag equation and set equal to Phase Angle"
   ]
  },
  {
   "cell_type": "code",
   "execution_count": 8,
   "metadata": {},
   "outputs": [],
   "source": [
    "phiInvInner = eqnr**2*p/Rp**2*10**(dmagn/-2.5) #PhiInv(this expression, phiInvInner)"
   ]
  },
  {
   "cell_type": "code",
   "execution_count": 9,
   "metadata": {},
   "outputs": [
    {
     "data": {
      "text/latex": [
       "$\\displaystyle \\frac{10^{- 0.4 dmagn} a^{2} p \\left(1 - e^{2}\\right)^{2}}{R_{p}^{2} \\left(e \\cos{\\left(\\nu \\right)} + 1\\right)^{2}}$"
      ],
      "text/plain": [
       "10**(-0.4*dmagn)*a**2*p*(1 - e**2)**2/(R_p**2*(e*cos(nu) + 1)**2)"
      ]
     },
     "execution_count": 9,
     "metadata": {},
     "output_type": "execute_result"
    }
   ],
   "source": [
    "phiInvInner"
   ]
  },
  {
   "cell_type": "code",
   "execution_count": 10,
   "metadata": {},
   "outputs": [],
   "source": [
    "#nothing can be done with the above expression because nu is in it"
   ]
  },
  {
   "cell_type": "code",
   "execution_count": 11,
   "metadata": {},
   "outputs": [],
   "source": [
    "phiEqn = -sp.tanh((beta-D)/A)/B+C #Define the phase function PhiH(beta,A,B,C,D)"
   ]
  },
  {
   "cell_type": "code",
   "execution_count": 12,
   "metadata": {},
   "outputs": [
    {
     "data": {
      "text/latex": [
       "$\\displaystyle C - \\frac{\\tanh{\\left(\\frac{- D + \\beta}{A} \\right)}}{B}$"
      ],
      "text/plain": [
       "C - tanh((-D + beta)/A)/B"
      ]
     },
     "execution_count": 12,
     "metadata": {},
     "output_type": "execute_result"
    }
   ],
   "source": [
    "phiEqn"
   ]
  },
  {
   "cell_type": "code",
   "execution_count": 13,
   "metadata": {},
   "outputs": [],
   "source": [
    "phiInvEqn = sp.solve(phiEqn,beta)[0]"
   ]
  },
  {
   "cell_type": "code",
   "execution_count": 14,
   "metadata": {},
   "outputs": [
    {
     "data": {
      "text/latex": [
       "$\\displaystyle A \\log{\\left(- \\sqrt{- \\frac{\\left(B C + 1\\right) e^{\\frac{2 D}{A}}}{B C - 1}} \\right)}$"
      ],
      "text/plain": [
       "A*log(-sqrt(-(B*C + 1)*exp(2*D/A)/(B*C - 1)))"
      ]
     },
     "execution_count": 14,
     "metadata": {},
     "output_type": "execute_result"
    }
   ],
   "source": [
    "phiInvEqn #This expression is equal to the planet phase"
   ]
  },
  {
   "cell_type": "code",
   "execution_count": 15,
   "metadata": {},
   "outputs": [],
   "source": [
    "#The following is the other fully expanded form of the hyperbolic tangent phase function"
   ]
  },
  {
   "cell_type": "code",
   "execution_count": 16,
   "metadata": {},
   "outputs": [],
   "source": [
    "phiEqn2 = -(sp.exp((beta-D)/A)-sp.exp(-(beta-D)/A))/(sp.exp((beta-D)/A)+sp.exp(-(beta-D)/A))/B+C"
   ]
  },
  {
   "cell_type": "code",
   "execution_count": 17,
   "metadata": {},
   "outputs": [
    {
     "data": {
      "text/latex": [
       "$\\displaystyle C + \\frac{- e^{\\frac{- D + \\beta}{A}} + e^{\\frac{D - \\beta}{A}}}{B \\left(e^{\\frac{- D + \\beta}{A}} + e^{\\frac{D - \\beta}{A}}\\right)}$"
      ],
      "text/plain": [
       "C + (-exp((-D + beta)/A) + exp((D - beta)/A))/(B*(exp((-D + beta)/A) + exp((D - beta)/A)))"
      ]
     },
     "execution_count": 17,
     "metadata": {},
     "output_type": "execute_result"
    }
   ],
   "source": [
    "phiEqn2"
   ]
  },
  {
   "cell_type": "code",
   "execution_count": 18,
   "metadata": {},
   "outputs": [],
   "source": [
    "phiInvEqn2 = sp.solve(phiEqn2,beta)[0]"
   ]
  },
  {
   "cell_type": "code",
   "execution_count": 19,
   "metadata": {},
   "outputs": [
    {
     "data": {
      "text/latex": [
       "$\\displaystyle \\frac{A \\log{\\left(\\frac{\\left(- B C - 1\\right) e^{\\frac{2 D}{A}}}{B C - 1} \\right)}}{2}$"
      ],
      "text/plain": [
       "A*log((-B*C - 1)*exp(2*D/A)/(B*C - 1))/2"
      ]
     },
     "execution_count": 19,
     "metadata": {},
     "output_type": "execute_result"
    }
   ],
   "source": [
    "phiInvEqn2"
   ]
  },
  {
   "cell_type": "code",
   "execution_count": 20,
   "metadata": {},
   "outputs": [],
   "source": [
    "#Attempting to solve with the Hyperbolic Tangent Phase Function"
   ]
  },
  {
   "cell_type": "code",
   "execution_count": 21,
   "metadata": {},
   "outputs": [],
   "source": [
    "GammaFunc = phiEqn2.subs(beta,betaFunc)/(e*sp.cos(v)+1)**2 - con"
   ]
  },
  {
   "cell_type": "code",
   "execution_count": 22,
   "metadata": {},
   "outputs": [
    {
     "data": {
      "text/latex": [
       "$\\displaystyle - con + \\frac{C + \\frac{- e^{\\frac{- D + \\operatorname{acos}{\\left(\\left(\\sin{\\left(\\nu \\right)} \\cos{\\left(w \\right)} + \\sin{\\left(w \\right)} \\cos{\\left(\\nu \\right)}\\right) \\sin{\\left(inc \\right)} \\right)}}{A}} + e^{\\frac{D - \\operatorname{acos}{\\left(\\left(\\sin{\\left(\\nu \\right)} \\cos{\\left(w \\right)} + \\sin{\\left(w \\right)} \\cos{\\left(\\nu \\right)}\\right) \\sin{\\left(inc \\right)} \\right)}}{A}}}{B \\left(e^{\\frac{- D + \\operatorname{acos}{\\left(\\left(\\sin{\\left(\\nu \\right)} \\cos{\\left(w \\right)} + \\sin{\\left(w \\right)} \\cos{\\left(\\nu \\right)}\\right) \\sin{\\left(inc \\right)} \\right)}}{A}} + e^{\\frac{D - \\operatorname{acos}{\\left(\\left(\\sin{\\left(\\nu \\right)} \\cos{\\left(w \\right)} + \\sin{\\left(w \\right)} \\cos{\\left(\\nu \\right)}\\right) \\sin{\\left(inc \\right)} \\right)}}{A}}\\right)}}{\\left(e \\cos{\\left(\\nu \\right)} + 1\\right)^{2}}$"
      ],
      "text/plain": [
       "-con + (C + (-exp((-D + acos((sin(nu)*cos(w) + sin(w)*cos(nu))*sin(inc)))/A) + exp((D - acos((sin(nu)*cos(w) + sin(w)*cos(nu))*sin(inc)))/A))/(B*(exp((-D + acos((sin(nu)*cos(w) + sin(w)*cos(nu))*sin(inc)))/A) + exp((D - acos((sin(nu)*cos(w) + sin(w)*cos(nu))*sin(inc)))/A))))/(e*cos(nu) + 1)**2"
      ]
     },
     "execution_count": 22,
     "metadata": {},
     "output_type": "execute_result"
    }
   ],
   "source": [
    "GammaFunc"
   ]
  },
  {
   "cell_type": "code",
   "execution_count": 23,
   "metadata": {
    "scrolled": true
   },
   "outputs": [],
   "source": [
    "#sp.expand(GammaFunc)"
   ]
  },
  {
   "cell_type": "code",
   "execution_count": 24,
   "metadata": {},
   "outputs": [],
   "source": [
    "#out = sp.solve(GammaFunc,v)"
   ]
  },
  {
   "cell_type": "code",
   "execution_count": 25,
   "metadata": {},
   "outputs": [],
   "source": [
    "#out"
   ]
  },
  {
   "cell_type": "code",
   "execution_count": 26,
   "metadata": {},
   "outputs": [],
   "source": [
    "#sp.simplify(GammaFunc.subs(v,out[0]))"
   ]
  },
  {
   "cell_type": "code",
   "execution_count": 27,
   "metadata": {},
   "outputs": [],
   "source": [
    "#### Attempting to Solve with the Polynomial Phase Function"
   ]
  },
  {
   "cell_type": "code",
   "execution_count": 28,
   "metadata": {},
   "outputs": [],
   "source": [
    "phiEqn3 = A*beta**3+B*beta**2+C*beta+D"
   ]
  },
  {
   "cell_type": "code",
   "execution_count": 29,
   "metadata": {},
   "outputs": [],
   "source": [
    "GammaFunc2 = phiEqn3.subs(beta,betaFunc)/(e*sp.cos(v)+1)**2 - con"
   ]
  },
  {
   "cell_type": "code",
   "execution_count": 30,
   "metadata": {},
   "outputs": [
    {
     "data": {
      "text/latex": [
       "$\\displaystyle - con + \\frac{A \\operatorname{acos}^{3}{\\left(\\left(\\sin{\\left(\\nu \\right)} \\cos{\\left(w \\right)} + \\sin{\\left(w \\right)} \\cos{\\left(\\nu \\right)}\\right) \\sin{\\left(inc \\right)} \\right)} + B \\operatorname{acos}^{2}{\\left(\\left(\\sin{\\left(\\nu \\right)} \\cos{\\left(w \\right)} + \\sin{\\left(w \\right)} \\cos{\\left(\\nu \\right)}\\right) \\sin{\\left(inc \\right)} \\right)} + C \\operatorname{acos}{\\left(\\left(\\sin{\\left(\\nu \\right)} \\cos{\\left(w \\right)} + \\sin{\\left(w \\right)} \\cos{\\left(\\nu \\right)}\\right) \\sin{\\left(inc \\right)} \\right)} + D}{\\left(e \\cos{\\left(\\nu \\right)} + 1\\right)^{2}}$"
      ],
      "text/plain": [
       "-con + (A*acos((sin(nu)*cos(w) + sin(w)*cos(nu))*sin(inc))**3 + B*acos((sin(nu)*cos(w) + sin(w)*cos(nu))*sin(inc))**2 + C*acos((sin(nu)*cos(w) + sin(w)*cos(nu))*sin(inc)) + D)/(e*cos(nu) + 1)**2"
      ]
     },
     "execution_count": 30,
     "metadata": {},
     "output_type": "execute_result"
    }
   ],
   "source": [
    "GammaFunc2"
   ]
  },
  {
   "cell_type": "code",
   "execution_count": 31,
   "metadata": {},
   "outputs": [],
   "source": [
    "#out = sp.solve(GammaFunc,v)"
   ]
  },
  {
   "cell_type": "markdown",
   "metadata": {},
   "source": [
    "# Solving For Nu"
   ]
  },
  {
   "cell_type": "code",
   "execution_count": 32,
   "metadata": {},
   "outputs": [],
   "source": [
    "x = sp.symbols('x',real=True) #positive = true??"
   ]
  },
  {
   "cell_type": "code",
   "execution_count": 33,
   "metadata": {},
   "outputs": [],
   "source": [
    "lhs = sp.expand((a*(1-e**2))**2*10**(dmagn/-2.5)/(p*Rp**2))"
   ]
  },
  {
   "cell_type": "code",
   "execution_count": 34,
   "metadata": {},
   "outputs": [],
   "source": [
    "rhs = sp.expand(phiEqn.subs(beta,betaFunc)*(e*sp.cos(v)+1)**2)"
   ]
  },
  {
   "cell_type": "code",
   "execution_count": 35,
   "metadata": {},
   "outputs": [
    {
     "data": {
      "text/latex": [
       "$\\displaystyle \\frac{10^{- 0.4 dmagn} a^{2} e^{4}}{R_{p}^{2} p} - \\frac{2 \\cdot 10^{- 0.4 dmagn} a^{2} e^{2}}{R_{p}^{2} p} + \\frac{10^{- 0.4 dmagn} a^{2}}{R_{p}^{2} p}$"
      ],
      "text/plain": [
       "10**(-0.4*dmagn)*a**2*e**4/(R_p**2*p) - 2*10**(-0.4*dmagn)*a**2*e**2/(R_p**2*p) + 10**(-0.4*dmagn)*a**2/(R_p**2*p)"
      ]
     },
     "execution_count": 35,
     "metadata": {},
     "output_type": "execute_result"
    }
   ],
   "source": [
    "lhs"
   ]
  },
  {
   "cell_type": "code",
   "execution_count": 36,
   "metadata": {},
   "outputs": [
    {
     "data": {
      "text/latex": [
       "$\\displaystyle C e^{2} \\cos^{2}{\\left(\\nu \\right)} + 2 C e \\cos{\\left(\\nu \\right)} + C - \\frac{e^{2} \\cos^{2}{\\left(\\nu \\right)} \\tanh{\\left(- \\frac{D}{A} + \\frac{\\operatorname{acos}{\\left(\\sin{\\left(inc \\right)} \\sin{\\left(\\nu \\right)} \\cos{\\left(w \\right)} + \\sin{\\left(inc \\right)} \\sin{\\left(w \\right)} \\cos{\\left(\\nu \\right)} \\right)}}{A} \\right)}}{B} - \\frac{2 e \\cos{\\left(\\nu \\right)} \\tanh{\\left(- \\frac{D}{A} + \\frac{\\operatorname{acos}{\\left(\\sin{\\left(inc \\right)} \\sin{\\left(\\nu \\right)} \\cos{\\left(w \\right)} + \\sin{\\left(inc \\right)} \\sin{\\left(w \\right)} \\cos{\\left(\\nu \\right)} \\right)}}{A} \\right)}}{B} - \\frac{\\tanh{\\left(- \\frac{D}{A} + \\frac{\\operatorname{acos}{\\left(\\sin{\\left(inc \\right)} \\sin{\\left(\\nu \\right)} \\cos{\\left(w \\right)} + \\sin{\\left(inc \\right)} \\sin{\\left(w \\right)} \\cos{\\left(\\nu \\right)} \\right)}}{A} \\right)}}{B}$"
      ],
      "text/plain": [
       "C*e**2*cos(nu)**2 + 2*C*e*cos(nu) + C - e**2*cos(nu)**2*tanh(-D/A + acos(sin(inc)*sin(nu)*cos(w) + sin(inc)*sin(w)*cos(nu))/A)/B - 2*e*cos(nu)*tanh(-D/A + acos(sin(inc)*sin(nu)*cos(w) + sin(inc)*sin(w)*cos(nu))/A)/B - tanh(-D/A + acos(sin(inc)*sin(nu)*cos(w) + sin(inc)*sin(w)*cos(nu))/A)/B"
      ]
     },
     "execution_count": 36,
     "metadata": {},
     "output_type": "execute_result"
    }
   ],
   "source": [
    "rhs"
   ]
  },
  {
   "cell_type": "code",
   "execution_count": 37,
   "metadata": {},
   "outputs": [
    {
     "ename": "NotImplementedError",
     "evalue": "multiple generators [cos(nu), exp(-acos(-exp(I*inc)*exp(I*nu)*exp(I*w)/4 + exp(I*inc)*exp(-I*nu)*exp(-I*w)/4 + exp(-I*inc)*exp(I*nu)*exp(I*w)/4 - exp(-I*inc)*exp(-I*nu)*exp(-I*w)/4)/A), exp(acos(-exp(I*inc)*exp(I*nu)*exp(I*w)/4 + exp(I*inc)*exp(-I*nu)*exp(-I*w)/4 + exp(-I*inc)*exp(I*nu)*exp(I*w)/4 - exp(-I*inc)*exp(-I*nu)*exp(-I*w)/4)/A)]\nNo algorithms are implemented to solve equation C*e**2*cos(nu)**2 + 2*C*e*cos(nu) + C - e**2*(exp(-D/A + acos(-(exp(I*inc) - exp(-I*inc))*(exp(I*nu)/2 + exp(-I*nu)/2)*(exp(I*w) - exp(-I*w))/4 - (exp(I*inc) - exp(-I*inc))*(exp(I*nu) - exp(-I*nu))*(exp(I*w)/2 + exp(-I*w)/2)/4)/A) - exp(D/A - acos(-(exp(I*inc) - exp(-I*inc))*(exp(I*nu)/2 + exp(-I*nu)/2)*(exp(I*w) - exp(-I*w))/4 - (exp(I*inc) - exp(-I*inc))*(exp(I*nu) - exp(-I*nu))*(exp(I*w)/2 + exp(-I*w)/2)/4)/A))*cos(nu)**2/(B*(exp(-D/A + acos(-(exp(I*inc) - exp(-I*inc))*(exp(I*nu)/2 + exp(-I*nu)/2)*(exp(I*w) - exp(-I*w))/4 - (exp(I*inc) - exp(-I*inc))*(exp(I*nu) - exp(-I*nu))*(exp(I*w)/2 + exp(-I*w)/2)/4)/A) + exp(D/A - acos(-(exp(I*inc) - exp(-I*inc))*(exp(I*nu)/2 + exp(-I*nu)/2)*(exp(I*w) - exp(-I*w))/4 - (exp(I*inc) - exp(-I*inc))*(exp(I*nu) - exp(-I*nu))*(exp(I*w)/2 + exp(-I*w)/2)/4)/A))) - 2*e*(exp(-D/A + acos(-(exp(I*inc) - exp(-I*inc))*(exp(I*nu)/2 + exp(-I*nu)/2)*(exp(I*w) - exp(-I*w))/4 - (exp(I*inc) - exp(-I*inc))*(exp(I*nu) - exp(-I*nu))*(exp(I*w)/2 + exp(-I*w)/2)/4)/A) - exp(D/A - acos(-(exp(I*inc) - exp(-I*inc))*(exp(I*nu)/2 + exp(-I*nu)/2)*(exp(I*w) - exp(-I*w))/4 - (exp(I*inc) - exp(-I*inc))*(exp(I*nu) - exp(-I*nu))*(exp(I*w)/2 + exp(-I*w)/2)/4)/A))*cos(nu)/(B*(exp(-D/A + acos(-(exp(I*inc) - exp(-I*inc))*(exp(I*nu)/2 + exp(-I*nu)/2)*(exp(I*w) - exp(-I*w))/4 - (exp(I*inc) - exp(-I*inc))*(exp(I*nu) - exp(-I*nu))*(exp(I*w)/2 + exp(-I*w)/2)/4)/A) + exp(D/A - acos(-(exp(I*inc) - exp(-I*inc))*(exp(I*nu)/2 + exp(-I*nu)/2)*(exp(I*w) - exp(-I*w))/4 - (exp(I*inc) - exp(-I*inc))*(exp(I*nu) - exp(-I*nu))*(exp(I*w)/2 + exp(-I*w)/2)/4)/A))) - (exp(-D/A + acos(-(exp(I*inc) - exp(-I*inc))*(exp(I*nu)/2 + exp(-I*nu)/2)*(exp(I*w) - exp(-I*w))/4 - (exp(I*inc) - exp(-I*inc))*(exp(I*nu) - exp(-I*nu))*(exp(I*w)/2 + exp(-I*w)/2)/4)/A) - exp(D/A - acos(-(exp(I*inc) - exp(-I*inc))*(exp(I*nu)/2 + exp(-I*nu)/2)*(exp(I*w) - exp(-I*w))/4 - (exp(I*inc) - exp(-I*inc))*(exp(I*nu) - exp(-I*nu))*(exp(I*w)/2 + exp(-I*w)/2)/4)/A))/(B*(exp(-D/A + acos(-(exp(I*inc) - exp(-I*inc))*(exp(I*nu)/2 + exp(-I*nu)/2)*(exp(I*w) - exp(-I*w))/4 - (exp(I*inc) - exp(-I*inc))*(exp(I*nu) - exp(-I*nu))*(exp(I*w)/2 + exp(-I*w)/2)/4)/A) + exp(D/A - acos(-(exp(I*inc) - exp(-I*inc))*(exp(I*nu)/2 + exp(-I*nu)/2)*(exp(I*w) - exp(-I*w))/4 - (exp(I*inc) - exp(-I*inc))*(exp(I*nu) - exp(-I*nu))*(exp(I*w)/2 + exp(-I*w)/2)/4)/A))) - 10**(-2*dmagn/5)*a**2*e**4/(R_p**2*p) + 2*10**(-2*dmagn/5)*a**2*e**2/(R_p**2*p) - 10**(-2*dmagn/5)*a**2/(R_p**2*p)",
     "output_type": "error",
     "traceback": [
      "\u001b[0;31m---------------------------------------------------------------------------\u001b[0m",
      "\u001b[0;31mNotImplementedError\u001b[0m                       Traceback (most recent call last)",
      "\u001b[0;32m<ipython-input-37-c45a0057b909>\u001b[0m in \u001b[0;36m<module>\u001b[0;34m\u001b[0m\n\u001b[0;32m----> 1\u001b[0;31m \u001b[0mout\u001b[0m \u001b[0;34m=\u001b[0m \u001b[0msp\u001b[0m\u001b[0;34m.\u001b[0m\u001b[0msolve\u001b[0m\u001b[0;34m(\u001b[0m\u001b[0mrhs\u001b[0m\u001b[0;34m-\u001b[0m\u001b[0mlhs\u001b[0m\u001b[0;34m,\u001b[0m\u001b[0mv\u001b[0m\u001b[0;34m)\u001b[0m\u001b[0;34m\u001b[0m\u001b[0;34m\u001b[0m\u001b[0m\n\u001b[0m",
      "\u001b[0;32m~/.local/lib/python3.6/site-packages/sympy/solvers/solvers.py\u001b[0m in \u001b[0;36msolve\u001b[0;34m(f, *symbols, **flags)\u001b[0m\n\u001b[1;32m   1172\u001b[0m     \u001b[0;31m###########################################################################\u001b[0m\u001b[0;34m\u001b[0m\u001b[0;34m\u001b[0m\u001b[0;34m\u001b[0m\u001b[0m\n\u001b[1;32m   1173\u001b[0m     \u001b[0;32mif\u001b[0m \u001b[0mbare_f\u001b[0m\u001b[0;34m:\u001b[0m\u001b[0;34m\u001b[0m\u001b[0;34m\u001b[0m\u001b[0m\n\u001b[0;32m-> 1174\u001b[0;31m         \u001b[0msolution\u001b[0m \u001b[0;34m=\u001b[0m \u001b[0m_solve\u001b[0m\u001b[0;34m(\u001b[0m\u001b[0mf\u001b[0m\u001b[0;34m[\u001b[0m\u001b[0;36m0\u001b[0m\u001b[0;34m]\u001b[0m\u001b[0;34m,\u001b[0m \u001b[0;34m*\u001b[0m\u001b[0msymbols\u001b[0m\u001b[0;34m,\u001b[0m \u001b[0;34m**\u001b[0m\u001b[0mflags\u001b[0m\u001b[0;34m)\u001b[0m\u001b[0;34m\u001b[0m\u001b[0;34m\u001b[0m\u001b[0m\n\u001b[0m\u001b[1;32m   1175\u001b[0m     \u001b[0;32melse\u001b[0m\u001b[0;34m:\u001b[0m\u001b[0;34m\u001b[0m\u001b[0;34m\u001b[0m\u001b[0m\n\u001b[1;32m   1176\u001b[0m         \u001b[0msolution\u001b[0m \u001b[0;34m=\u001b[0m \u001b[0m_solve_system\u001b[0m\u001b[0;34m(\u001b[0m\u001b[0mf\u001b[0m\u001b[0;34m,\u001b[0m \u001b[0msymbols\u001b[0m\u001b[0;34m,\u001b[0m \u001b[0;34m**\u001b[0m\u001b[0mflags\u001b[0m\u001b[0;34m)\u001b[0m\u001b[0;34m\u001b[0m\u001b[0;34m\u001b[0m\u001b[0m\n",
      "\u001b[0;32m~/.local/lib/python3.6/site-packages/sympy/solvers/solvers.py\u001b[0m in \u001b[0;36m_solve\u001b[0;34m(f, *symbols, **flags)\u001b[0m\n\u001b[1;32m   1746\u001b[0m \u001b[0;34m\u001b[0m\u001b[0m\n\u001b[1;32m   1747\u001b[0m     \u001b[0;32mif\u001b[0m \u001b[0mresult\u001b[0m \u001b[0;32mis\u001b[0m \u001b[0;32mFalse\u001b[0m\u001b[0;34m:\u001b[0m\u001b[0;34m\u001b[0m\u001b[0;34m\u001b[0m\u001b[0m\n\u001b[0;32m-> 1748\u001b[0;31m         \u001b[0;32mraise\u001b[0m \u001b[0mNotImplementedError\u001b[0m\u001b[0;34m(\u001b[0m\u001b[0;34m'\\n'\u001b[0m\u001b[0;34m.\u001b[0m\u001b[0mjoin\u001b[0m\u001b[0;34m(\u001b[0m\u001b[0;34m[\u001b[0m\u001b[0mmsg\u001b[0m\u001b[0;34m,\u001b[0m \u001b[0mnot_impl_msg\u001b[0m \u001b[0;34m%\u001b[0m \u001b[0mf\u001b[0m\u001b[0;34m]\u001b[0m\u001b[0;34m)\u001b[0m\u001b[0;34m)\u001b[0m\u001b[0;34m\u001b[0m\u001b[0;34m\u001b[0m\u001b[0m\n\u001b[0m\u001b[1;32m   1749\u001b[0m \u001b[0;34m\u001b[0m\u001b[0m\n\u001b[1;32m   1750\u001b[0m     \u001b[0;32mif\u001b[0m \u001b[0mflags\u001b[0m\u001b[0;34m.\u001b[0m\u001b[0mget\u001b[0m\u001b[0;34m(\u001b[0m\u001b[0;34m'simplify'\u001b[0m\u001b[0;34m,\u001b[0m \u001b[0;32mTrue\u001b[0m\u001b[0;34m)\u001b[0m\u001b[0;34m:\u001b[0m\u001b[0;34m\u001b[0m\u001b[0;34m\u001b[0m\u001b[0m\n",
      "\u001b[0;31mNotImplementedError\u001b[0m: multiple generators [cos(nu), exp(-acos(-exp(I*inc)*exp(I*nu)*exp(I*w)/4 + exp(I*inc)*exp(-I*nu)*exp(-I*w)/4 + exp(-I*inc)*exp(I*nu)*exp(I*w)/4 - exp(-I*inc)*exp(-I*nu)*exp(-I*w)/4)/A), exp(acos(-exp(I*inc)*exp(I*nu)*exp(I*w)/4 + exp(I*inc)*exp(-I*nu)*exp(-I*w)/4 + exp(-I*inc)*exp(I*nu)*exp(I*w)/4 - exp(-I*inc)*exp(-I*nu)*exp(-I*w)/4)/A)]\nNo algorithms are implemented to solve equation C*e**2*cos(nu)**2 + 2*C*e*cos(nu) + C - e**2*(exp(-D/A + acos(-(exp(I*inc) - exp(-I*inc))*(exp(I*nu)/2 + exp(-I*nu)/2)*(exp(I*w) - exp(-I*w))/4 - (exp(I*inc) - exp(-I*inc))*(exp(I*nu) - exp(-I*nu))*(exp(I*w)/2 + exp(-I*w)/2)/4)/A) - exp(D/A - acos(-(exp(I*inc) - exp(-I*inc))*(exp(I*nu)/2 + exp(-I*nu)/2)*(exp(I*w) - exp(-I*w))/4 - (exp(I*inc) - exp(-I*inc))*(exp(I*nu) - exp(-I*nu))*(exp(I*w)/2 + exp(-I*w)/2)/4)/A))*cos(nu)**2/(B*(exp(-D/A + acos(-(exp(I*inc) - exp(-I*inc))*(exp(I*nu)/2 + exp(-I*nu)/2)*(exp(I*w) - exp(-I*w))/4 - (exp(I*inc) - exp(-I*inc))*(exp(I*nu) - exp(-I*nu))*(exp(I*w)/2 + exp(-I*w)/2)/4)/A) + exp(D/A - acos(-(exp(I*inc) - exp(-I*inc))*(exp(I*nu)/2 + exp(-I*nu)/2)*(exp(I*w) - exp(-I*w))/4 - (exp(I*inc) - exp(-I*inc))*(exp(I*nu) - exp(-I*nu))*(exp(I*w)/2 + exp(-I*w)/2)/4)/A))) - 2*e*(exp(-D/A + acos(-(exp(I*inc) - exp(-I*inc))*(exp(I*nu)/2 + exp(-I*nu)/2)*(exp(I*w) - exp(-I*w))/4 - (exp(I*inc) - exp(-I*inc))*(exp(I*nu) - exp(-I*nu))*(exp(I*w)/2 + exp(-I*w)/2)/4)/A) - exp(D/A - acos(-(exp(I*inc) - exp(-I*inc))*(exp(I*nu)/2 + exp(-I*nu)/2)*(exp(I*w) - exp(-I*w))/4 - (exp(I*inc) - exp(-I*inc))*(exp(I*nu) - exp(-I*nu))*(exp(I*w)/2 + exp(-I*w)/2)/4)/A))*cos(nu)/(B*(exp(-D/A + acos(-(exp(I*inc) - exp(-I*inc))*(exp(I*nu)/2 + exp(-I*nu)/2)*(exp(I*w) - exp(-I*w))/4 - (exp(I*inc) - exp(-I*inc))*(exp(I*nu) - exp(-I*nu))*(exp(I*w)/2 + exp(-I*w)/2)/4)/A) + exp(D/A - acos(-(exp(I*inc) - exp(-I*inc))*(exp(I*nu)/2 + exp(-I*nu)/2)*(exp(I*w) - exp(-I*w))/4 - (exp(I*inc) - exp(-I*inc))*(exp(I*nu) - exp(-I*nu))*(exp(I*w)/2 + exp(-I*w)/2)/4)/A))) - (exp(-D/A + acos(-(exp(I*inc) - exp(-I*inc))*(exp(I*nu)/2 + exp(-I*nu)/2)*(exp(I*w) - exp(-I*w))/4 - (exp(I*inc) - exp(-I*inc))*(exp(I*nu) - exp(-I*nu))*(exp(I*w)/2 + exp(-I*w)/2)/4)/A) - exp(D/A - acos(-(exp(I*inc) - exp(-I*inc))*(exp(I*nu)/2 + exp(-I*nu)/2)*(exp(I*w) - exp(-I*w))/4 - (exp(I*inc) - exp(-I*inc))*(exp(I*nu) - exp(-I*nu))*(exp(I*w)/2 + exp(-I*w)/2)/4)/A))/(B*(exp(-D/A + acos(-(exp(I*inc) - exp(-I*inc))*(exp(I*nu)/2 + exp(-I*nu)/2)*(exp(I*w) - exp(-I*w))/4 - (exp(I*inc) - exp(-I*inc))*(exp(I*nu) - exp(-I*nu))*(exp(I*w)/2 + exp(-I*w)/2)/4)/A) + exp(D/A - acos(-(exp(I*inc) - exp(-I*inc))*(exp(I*nu)/2 + exp(-I*nu)/2)*(exp(I*w) - exp(-I*w))/4 - (exp(I*inc) - exp(-I*inc))*(exp(I*nu) - exp(-I*nu))*(exp(I*w)/2 + exp(-I*w)/2)/4)/A))) - 10**(-2*dmagn/5)*a**2*e**4/(R_p**2*p) + 2*10**(-2*dmagn/5)*a**2*e**2/(R_p**2*p) - 10**(-2*dmagn/5)*a**2/(R_p**2*p)"
     ]
    }
   ],
   "source": [
    "out = sp.solve(rhs-lhs,v)"
   ]
  },
  {
   "cell_type": "markdown",
   "metadata": {},
   "source": [
    "# Solving For Min and Max LHS"
   ]
  },
  {
   "cell_type": "code",
   "execution_count": 38,
   "metadata": {},
   "outputs": [],
   "source": [
    "diffrhs = sp.expand(sp.diff(rhs,v))"
   ]
  },
  {
   "cell_type": "code",
   "execution_count": 39,
   "metadata": {},
   "outputs": [
    {
     "data": {
      "text/latex": [
       "$\\displaystyle - 2 C e^{2} \\sin{\\left(\\nu \\right)} \\cos{\\left(\\nu \\right)} - 2 C e \\sin{\\left(\\nu \\right)} + \\frac{2 e^{2} \\sin{\\left(\\nu \\right)} \\cos{\\left(\\nu \\right)} \\tanh{\\left(- \\frac{D}{A} + \\frac{\\operatorname{acos}{\\left(\\sin{\\left(inc \\right)} \\sin{\\left(\\nu \\right)} \\cos{\\left(w \\right)} + \\sin{\\left(inc \\right)} \\sin{\\left(w \\right)} \\cos{\\left(\\nu \\right)} \\right)}}{A} \\right)}}{B} + \\frac{2 e \\sin{\\left(\\nu \\right)} \\tanh{\\left(- \\frac{D}{A} + \\frac{\\operatorname{acos}{\\left(\\sin{\\left(inc \\right)} \\sin{\\left(\\nu \\right)} \\cos{\\left(w \\right)} + \\sin{\\left(inc \\right)} \\sin{\\left(w \\right)} \\cos{\\left(\\nu \\right)} \\right)}}{A} \\right)}}{B} + \\frac{e^{2} \\sin{\\left(inc \\right)} \\sin{\\left(\\nu \\right)} \\sin{\\left(w \\right)} \\cos^{2}{\\left(\\nu \\right)} \\tanh^{2}{\\left(- \\frac{D}{A} + \\frac{\\operatorname{acos}{\\left(\\sin{\\left(inc \\right)} \\sin{\\left(\\nu \\right)} \\cos{\\left(w \\right)} + \\sin{\\left(inc \\right)} \\sin{\\left(w \\right)} \\cos{\\left(\\nu \\right)} \\right)}}{A} \\right)}}{A B \\sqrt{- \\sin^{2}{\\left(inc \\right)} \\sin^{2}{\\left(\\nu \\right)} \\cos^{2}{\\left(w \\right)} - 2 \\sin^{2}{\\left(inc \\right)} \\sin{\\left(\\nu \\right)} \\sin{\\left(w \\right)} \\cos{\\left(\\nu \\right)} \\cos{\\left(w \\right)} - \\sin^{2}{\\left(inc \\right)} \\sin^{2}{\\left(w \\right)} \\cos^{2}{\\left(\\nu \\right)} + 1}} - \\frac{e^{2} \\sin{\\left(inc \\right)} \\sin{\\left(\\nu \\right)} \\sin{\\left(w \\right)} \\cos^{2}{\\left(\\nu \\right)}}{A B \\sqrt{- \\sin^{2}{\\left(inc \\right)} \\sin^{2}{\\left(\\nu \\right)} \\cos^{2}{\\left(w \\right)} - 2 \\sin^{2}{\\left(inc \\right)} \\sin{\\left(\\nu \\right)} \\sin{\\left(w \\right)} \\cos{\\left(\\nu \\right)} \\cos{\\left(w \\right)} - \\sin^{2}{\\left(inc \\right)} \\sin^{2}{\\left(w \\right)} \\cos^{2}{\\left(\\nu \\right)} + 1}} - \\frac{e^{2} \\sin{\\left(inc \\right)} \\cos^{3}{\\left(\\nu \\right)} \\cos{\\left(w \\right)} \\tanh^{2}{\\left(- \\frac{D}{A} + \\frac{\\operatorname{acos}{\\left(\\sin{\\left(inc \\right)} \\sin{\\left(\\nu \\right)} \\cos{\\left(w \\right)} + \\sin{\\left(inc \\right)} \\sin{\\left(w \\right)} \\cos{\\left(\\nu \\right)} \\right)}}{A} \\right)}}{A B \\sqrt{- \\sin^{2}{\\left(inc \\right)} \\sin^{2}{\\left(\\nu \\right)} \\cos^{2}{\\left(w \\right)} - 2 \\sin^{2}{\\left(inc \\right)} \\sin{\\left(\\nu \\right)} \\sin{\\left(w \\right)} \\cos{\\left(\\nu \\right)} \\cos{\\left(w \\right)} - \\sin^{2}{\\left(inc \\right)} \\sin^{2}{\\left(w \\right)} \\cos^{2}{\\left(\\nu \\right)} + 1}} + \\frac{e^{2} \\sin{\\left(inc \\right)} \\cos^{3}{\\left(\\nu \\right)} \\cos{\\left(w \\right)}}{A B \\sqrt{- \\sin^{2}{\\left(inc \\right)} \\sin^{2}{\\left(\\nu \\right)} \\cos^{2}{\\left(w \\right)} - 2 \\sin^{2}{\\left(inc \\right)} \\sin{\\left(\\nu \\right)} \\sin{\\left(w \\right)} \\cos{\\left(\\nu \\right)} \\cos{\\left(w \\right)} - \\sin^{2}{\\left(inc \\right)} \\sin^{2}{\\left(w \\right)} \\cos^{2}{\\left(\\nu \\right)} + 1}} + \\frac{2 e \\sin{\\left(inc \\right)} \\sin{\\left(\\nu \\right)} \\sin{\\left(w \\right)} \\cos{\\left(\\nu \\right)} \\tanh^{2}{\\left(- \\frac{D}{A} + \\frac{\\operatorname{acos}{\\left(\\sin{\\left(inc \\right)} \\sin{\\left(\\nu \\right)} \\cos{\\left(w \\right)} + \\sin{\\left(inc \\right)} \\sin{\\left(w \\right)} \\cos{\\left(\\nu \\right)} \\right)}}{A} \\right)}}{A B \\sqrt{- \\sin^{2}{\\left(inc \\right)} \\sin^{2}{\\left(\\nu \\right)} \\cos^{2}{\\left(w \\right)} - 2 \\sin^{2}{\\left(inc \\right)} \\sin{\\left(\\nu \\right)} \\sin{\\left(w \\right)} \\cos{\\left(\\nu \\right)} \\cos{\\left(w \\right)} - \\sin^{2}{\\left(inc \\right)} \\sin^{2}{\\left(w \\right)} \\cos^{2}{\\left(\\nu \\right)} + 1}} - \\frac{2 e \\sin{\\left(inc \\right)} \\sin{\\left(\\nu \\right)} \\sin{\\left(w \\right)} \\cos{\\left(\\nu \\right)}}{A B \\sqrt{- \\sin^{2}{\\left(inc \\right)} \\sin^{2}{\\left(\\nu \\right)} \\cos^{2}{\\left(w \\right)} - 2 \\sin^{2}{\\left(inc \\right)} \\sin{\\left(\\nu \\right)} \\sin{\\left(w \\right)} \\cos{\\left(\\nu \\right)} \\cos{\\left(w \\right)} - \\sin^{2}{\\left(inc \\right)} \\sin^{2}{\\left(w \\right)} \\cos^{2}{\\left(\\nu \\right)} + 1}} - \\frac{2 e \\sin{\\left(inc \\right)} \\cos^{2}{\\left(\\nu \\right)} \\cos{\\left(w \\right)} \\tanh^{2}{\\left(- \\frac{D}{A} + \\frac{\\operatorname{acos}{\\left(\\sin{\\left(inc \\right)} \\sin{\\left(\\nu \\right)} \\cos{\\left(w \\right)} + \\sin{\\left(inc \\right)} \\sin{\\left(w \\right)} \\cos{\\left(\\nu \\right)} \\right)}}{A} \\right)}}{A B \\sqrt{- \\sin^{2}{\\left(inc \\right)} \\sin^{2}{\\left(\\nu \\right)} \\cos^{2}{\\left(w \\right)} - 2 \\sin^{2}{\\left(inc \\right)} \\sin{\\left(\\nu \\right)} \\sin{\\left(w \\right)} \\cos{\\left(\\nu \\right)} \\cos{\\left(w \\right)} - \\sin^{2}{\\left(inc \\right)} \\sin^{2}{\\left(w \\right)} \\cos^{2}{\\left(\\nu \\right)} + 1}} + \\frac{2 e \\sin{\\left(inc \\right)} \\cos^{2}{\\left(\\nu \\right)} \\cos{\\left(w \\right)}}{A B \\sqrt{- \\sin^{2}{\\left(inc \\right)} \\sin^{2}{\\left(\\nu \\right)} \\cos^{2}{\\left(w \\right)} - 2 \\sin^{2}{\\left(inc \\right)} \\sin{\\left(\\nu \\right)} \\sin{\\left(w \\right)} \\cos{\\left(\\nu \\right)} \\cos{\\left(w \\right)} - \\sin^{2}{\\left(inc \\right)} \\sin^{2}{\\left(w \\right)} \\cos^{2}{\\left(\\nu \\right)} + 1}} + \\frac{\\sin{\\left(inc \\right)} \\sin{\\left(\\nu \\right)} \\sin{\\left(w \\right)} \\tanh^{2}{\\left(- \\frac{D}{A} + \\frac{\\operatorname{acos}{\\left(\\sin{\\left(inc \\right)} \\sin{\\left(\\nu \\right)} \\cos{\\left(w \\right)} + \\sin{\\left(inc \\right)} \\sin{\\left(w \\right)} \\cos{\\left(\\nu \\right)} \\right)}}{A} \\right)}}{A B \\sqrt{- \\sin^{2}{\\left(inc \\right)} \\sin^{2}{\\left(\\nu \\right)} \\cos^{2}{\\left(w \\right)} - 2 \\sin^{2}{\\left(inc \\right)} \\sin{\\left(\\nu \\right)} \\sin{\\left(w \\right)} \\cos{\\left(\\nu \\right)} \\cos{\\left(w \\right)} - \\sin^{2}{\\left(inc \\right)} \\sin^{2}{\\left(w \\right)} \\cos^{2}{\\left(\\nu \\right)} + 1}} - \\frac{\\sin{\\left(inc \\right)} \\sin{\\left(\\nu \\right)} \\sin{\\left(w \\right)}}{A B \\sqrt{- \\sin^{2}{\\left(inc \\right)} \\sin^{2}{\\left(\\nu \\right)} \\cos^{2}{\\left(w \\right)} - 2 \\sin^{2}{\\left(inc \\right)} \\sin{\\left(\\nu \\right)} \\sin{\\left(w \\right)} \\cos{\\left(\\nu \\right)} \\cos{\\left(w \\right)} - \\sin^{2}{\\left(inc \\right)} \\sin^{2}{\\left(w \\right)} \\cos^{2}{\\left(\\nu \\right)} + 1}} - \\frac{\\sin{\\left(inc \\right)} \\cos{\\left(\\nu \\right)} \\cos{\\left(w \\right)} \\tanh^{2}{\\left(- \\frac{D}{A} + \\frac{\\operatorname{acos}{\\left(\\sin{\\left(inc \\right)} \\sin{\\left(\\nu \\right)} \\cos{\\left(w \\right)} + \\sin{\\left(inc \\right)} \\sin{\\left(w \\right)} \\cos{\\left(\\nu \\right)} \\right)}}{A} \\right)}}{A B \\sqrt{- \\sin^{2}{\\left(inc \\right)} \\sin^{2}{\\left(\\nu \\right)} \\cos^{2}{\\left(w \\right)} - 2 \\sin^{2}{\\left(inc \\right)} \\sin{\\left(\\nu \\right)} \\sin{\\left(w \\right)} \\cos{\\left(\\nu \\right)} \\cos{\\left(w \\right)} - \\sin^{2}{\\left(inc \\right)} \\sin^{2}{\\left(w \\right)} \\cos^{2}{\\left(\\nu \\right)} + 1}} + \\frac{\\sin{\\left(inc \\right)} \\cos{\\left(\\nu \\right)} \\cos{\\left(w \\right)}}{A B \\sqrt{- \\sin^{2}{\\left(inc \\right)} \\sin^{2}{\\left(\\nu \\right)} \\cos^{2}{\\left(w \\right)} - 2 \\sin^{2}{\\left(inc \\right)} \\sin{\\left(\\nu \\right)} \\sin{\\left(w \\right)} \\cos{\\left(\\nu \\right)} \\cos{\\left(w \\right)} - \\sin^{2}{\\left(inc \\right)} \\sin^{2}{\\left(w \\right)} \\cos^{2}{\\left(\\nu \\right)} + 1}}$"
      ],
      "text/plain": [
       "-2*C*e**2*sin(nu)*cos(nu) - 2*C*e*sin(nu) + 2*e**2*sin(nu)*cos(nu)*tanh(-D/A + acos(sin(inc)*sin(nu)*cos(w) + sin(inc)*sin(w)*cos(nu))/A)/B + 2*e*sin(nu)*tanh(-D/A + acos(sin(inc)*sin(nu)*cos(w) + sin(inc)*sin(w)*cos(nu))/A)/B + e**2*sin(inc)*sin(nu)*sin(w)*cos(nu)**2*tanh(-D/A + acos(sin(inc)*sin(nu)*cos(w) + sin(inc)*sin(w)*cos(nu))/A)**2/(A*B*sqrt(-sin(inc)**2*sin(nu)**2*cos(w)**2 - 2*sin(inc)**2*sin(nu)*sin(w)*cos(nu)*cos(w) - sin(inc)**2*sin(w)**2*cos(nu)**2 + 1)) - e**2*sin(inc)*sin(nu)*sin(w)*cos(nu)**2/(A*B*sqrt(-sin(inc)**2*sin(nu)**2*cos(w)**2 - 2*sin(inc)**2*sin(nu)*sin(w)*cos(nu)*cos(w) - sin(inc)**2*sin(w)**2*cos(nu)**2 + 1)) - e**2*sin(inc)*cos(nu)**3*cos(w)*tanh(-D/A + acos(sin(inc)*sin(nu)*cos(w) + sin(inc)*sin(w)*cos(nu))/A)**2/(A*B*sqrt(-sin(inc)**2*sin(nu)**2*cos(w)**2 - 2*sin(inc)**2*sin(nu)*sin(w)*cos(nu)*cos(w) - sin(inc)**2*sin(w)**2*cos(nu)**2 + 1)) + e**2*sin(inc)*cos(nu)**3*cos(w)/(A*B*sqrt(-sin(inc)**2*sin(nu)**2*cos(w)**2 - 2*sin(inc)**2*sin(nu)*sin(w)*cos(nu)*cos(w) - sin(inc)**2*sin(w)**2*cos(nu)**2 + 1)) + 2*e*sin(inc)*sin(nu)*sin(w)*cos(nu)*tanh(-D/A + acos(sin(inc)*sin(nu)*cos(w) + sin(inc)*sin(w)*cos(nu))/A)**2/(A*B*sqrt(-sin(inc)**2*sin(nu)**2*cos(w)**2 - 2*sin(inc)**2*sin(nu)*sin(w)*cos(nu)*cos(w) - sin(inc)**2*sin(w)**2*cos(nu)**2 + 1)) - 2*e*sin(inc)*sin(nu)*sin(w)*cos(nu)/(A*B*sqrt(-sin(inc)**2*sin(nu)**2*cos(w)**2 - 2*sin(inc)**2*sin(nu)*sin(w)*cos(nu)*cos(w) - sin(inc)**2*sin(w)**2*cos(nu)**2 + 1)) - 2*e*sin(inc)*cos(nu)**2*cos(w)*tanh(-D/A + acos(sin(inc)*sin(nu)*cos(w) + sin(inc)*sin(w)*cos(nu))/A)**2/(A*B*sqrt(-sin(inc)**2*sin(nu)**2*cos(w)**2 - 2*sin(inc)**2*sin(nu)*sin(w)*cos(nu)*cos(w) - sin(inc)**2*sin(w)**2*cos(nu)**2 + 1)) + 2*e*sin(inc)*cos(nu)**2*cos(w)/(A*B*sqrt(-sin(inc)**2*sin(nu)**2*cos(w)**2 - 2*sin(inc)**2*sin(nu)*sin(w)*cos(nu)*cos(w) - sin(inc)**2*sin(w)**2*cos(nu)**2 + 1)) + sin(inc)*sin(nu)*sin(w)*tanh(-D/A + acos(sin(inc)*sin(nu)*cos(w) + sin(inc)*sin(w)*cos(nu))/A)**2/(A*B*sqrt(-sin(inc)**2*sin(nu)**2*cos(w)**2 - 2*sin(inc)**2*sin(nu)*sin(w)*cos(nu)*cos(w) - sin(inc)**2*sin(w)**2*cos(nu)**2 + 1)) - sin(inc)*sin(nu)*sin(w)/(A*B*sqrt(-sin(inc)**2*sin(nu)**2*cos(w)**2 - 2*sin(inc)**2*sin(nu)*sin(w)*cos(nu)*cos(w) - sin(inc)**2*sin(w)**2*cos(nu)**2 + 1)) - sin(inc)*cos(nu)*cos(w)*tanh(-D/A + acos(sin(inc)*sin(nu)*cos(w) + sin(inc)*sin(w)*cos(nu))/A)**2/(A*B*sqrt(-sin(inc)**2*sin(nu)**2*cos(w)**2 - 2*sin(inc)**2*sin(nu)*sin(w)*cos(nu)*cos(w) - sin(inc)**2*sin(w)**2*cos(nu)**2 + 1)) + sin(inc)*cos(nu)*cos(w)/(A*B*sqrt(-sin(inc)**2*sin(nu)**2*cos(w)**2 - 2*sin(inc)**2*sin(nu)*sin(w)*cos(nu)*cos(w) - sin(inc)**2*sin(w)**2*cos(nu)**2 + 1))"
      ]
     },
     "execution_count": 39,
     "metadata": {},
     "output_type": "execute_result"
    }
   ],
   "source": [
    "diffrhs"
   ]
  },
  {
   "cell_type": "code",
   "execution_count": null,
   "metadata": {},
   "outputs": [],
   "source": [
    "out = sp.solve(diffrhs,v)"
   ]
  },
  {
   "cell_type": "code",
   "execution_count": null,
   "metadata": {},
   "outputs": [],
   "source": []
  }
 ],
 "metadata": {
  "kernelspec": {
   "display_name": "Python 3",
   "language": "python",
   "name": "python3"
  },
  "language_info": {
   "codemirror_mode": {
    "name": "ipython",
    "version": 3
   },
   "file_extension": ".py",
   "mimetype": "text/x-python",
   "name": "python",
   "nbconvert_exporter": "python",
   "pygments_lexer": "ipython3",
   "version": "3.6.9"
  }
 },
 "nbformat": 4,
 "nbformat_minor": 4
}
