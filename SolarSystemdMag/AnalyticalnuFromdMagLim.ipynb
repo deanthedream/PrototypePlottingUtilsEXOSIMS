{
 "cells": [
  {
   "cell_type": "code",
   "execution_count": 1,
   "metadata": {},
   "outputs": [],
   "source": [
    "import sympy as sp\n",
    "import numpy as np"
   ]
  },
  {
   "cell_type": "code",
   "execution_count": 2,
   "metadata": {},
   "outputs": [],
   "source": [
    "beta, e, a, dmagn, p, Rp = sp.symbols('beta, e, a, dmagn, p, R_p', real=True,positive=True)\n",
    "inc, w, v = sp.symbols('inc, w, nu',real=True)\n",
    "A,B,C,D = sp.symbols('A,B,C,D',real=True)"
   ]
  },
  {
   "cell_type": "code",
   "execution_count": 3,
   "metadata": {},
   "outputs": [],
   "source": [
    "nueqn = sp.asin(sp.cos(beta)/sp.sin(inc))-w"
   ]
  },
  {
   "cell_type": "code",
   "execution_count": 4,
   "metadata": {},
   "outputs": [
    {
     "data": {
      "text/latex": [
       "$\\displaystyle - w + \\operatorname{asin}{\\left(\\frac{\\cos{\\left(\\beta \\right)}}{\\sin{\\left(inc \\right)}} \\right)}$"
      ],
      "text/plain": [
       "-w + asin(cos(beta)/sin(inc))"
      ]
     },
     "execution_count": 4,
     "metadata": {},
     "output_type": "execute_result"
    }
   ],
   "source": [
    "nueqn"
   ]
  },
  {
   "cell_type": "code",
   "execution_count": 5,
   "metadata": {},
   "outputs": [],
   "source": [
    "eqnr = a*(1-e**2)/(1+e*sp.cos(v))"
   ]
  },
  {
   "cell_type": "code",
   "execution_count": 6,
   "metadata": {},
   "outputs": [
    {
     "data": {
      "text/latex": [
       "$\\displaystyle \\frac{a \\left(1 - e^{2}\\right)}{e \\cos{\\left(\\nu \\right)} + 1}$"
      ],
      "text/plain": [
       "a*(1 - e**2)/(e*cos(nu) + 1)"
      ]
     },
     "execution_count": 6,
     "metadata": {},
     "output_type": "execute_result"
    }
   ],
   "source": [
    "eqnr"
   ]
  },
  {
   "cell_type": "code",
   "execution_count": 7,
   "metadata": {},
   "outputs": [],
   "source": [
    "phiInvInner = eqnr**2*p/Rp**2*10**(dmagn/-2.5)"
   ]
  },
  {
   "cell_type": "code",
   "execution_count": 8,
   "metadata": {},
   "outputs": [
    {
     "data": {
      "text/latex": [
       "$\\displaystyle \\frac{10^{- 0.4 dmagn} a^{2} p \\left(1 - e^{2}\\right)^{2}}{R_{p}^{2} \\left(e \\cos{\\left(\\nu \\right)} + 1\\right)^{2}}$"
      ],
      "text/plain": [
       "10**(-0.4*dmagn)*a**2*p*(1 - e**2)**2/(R_p**2*(e*cos(nu) + 1)**2)"
      ]
     },
     "execution_count": 8,
     "metadata": {},
     "output_type": "execute_result"
    }
   ],
   "source": [
    "phiInvInner"
   ]
  },
  {
   "cell_type": "code",
   "execution_count": 9,
   "metadata": {},
   "outputs": [],
   "source": [
    "phiEqn = -sp.tanh((beta-D)/A)/B+C"
   ]
  },
  {
   "cell_type": "code",
   "execution_count": 10,
   "metadata": {},
   "outputs": [
    {
     "data": {
      "text/latex": [
       "$\\displaystyle C - \\frac{\\tanh{\\left(\\frac{- D + \\beta}{A} \\right)}}{B}$"
      ],
      "text/plain": [
       "C - tanh((-D + beta)/A)/B"
      ]
     },
     "execution_count": 10,
     "metadata": {},
     "output_type": "execute_result"
    }
   ],
   "source": [
    "phiEqn"
   ]
  },
  {
   "cell_type": "code",
   "execution_count": 11,
   "metadata": {},
   "outputs": [],
   "source": [
    "phiInvEqn = sp.solve(phiEqn,beta)[0]"
   ]
  },
  {
   "cell_type": "code",
   "execution_count": 12,
   "metadata": {},
   "outputs": [
    {
     "data": {
      "text/latex": [
       "$\\displaystyle A \\log{\\left(- \\sqrt{- \\frac{\\left(B C + 1\\right) e^{\\frac{2 D}{A}}}{B C - 1}} \\right)}$"
      ],
      "text/plain": [
       "A*log(-sqrt(-(B*C + 1)*exp(2*D/A)/(B*C - 1)))"
      ]
     },
     "execution_count": 12,
     "metadata": {},
     "output_type": "execute_result"
    }
   ],
   "source": [
    "phiInvEqn"
   ]
  },
  {
   "cell_type": "code",
   "execution_count": 20,
   "metadata": {},
   "outputs": [],
   "source": [
    "phiEqn2 = -(sp.exp((beta-D)/A)-sp.exp(-(beta-D)/A))/(sp.exp((beta-D)/A)+sp.exp(-(beta-D)/A))/B+C"
   ]
  },
  {
   "cell_type": "code",
   "execution_count": 21,
   "metadata": {},
   "outputs": [
    {
     "data": {
      "text/latex": [
       "$\\displaystyle C + \\frac{- e^{\\frac{- D + \\beta}{A}} + e^{\\frac{D - \\beta}{A}}}{B \\left(e^{\\frac{- D + \\beta}{A}} + e^{\\frac{D - \\beta}{A}}\\right)}$"
      ],
      "text/plain": [
       "C + (-exp((-D + beta)/A) + exp((D - beta)/A))/(B*(exp((-D + beta)/A) + exp((D - beta)/A)))"
      ]
     },
     "execution_count": 21,
     "metadata": {},
     "output_type": "execute_result"
    }
   ],
   "source": [
    "phiEqn2"
   ]
  },
  {
   "cell_type": "code",
   "execution_count": 22,
   "metadata": {},
   "outputs": [],
   "source": [
    "phiInvEqn2 = sp.solve(phiEqn2,beta)[0]"
   ]
  },
  {
   "cell_type": "code",
   "execution_count": 23,
   "metadata": {},
   "outputs": [
    {
     "data": {
      "text/latex": [
       "$\\displaystyle \\frac{A \\log{\\left(\\frac{\\left(- B C - 1\\right) e^{\\frac{2 D}{A}}}{B C - 1} \\right)}}{2}$"
      ],
      "text/plain": [
       "A*log((-B*C - 1)*exp(2*D/A)/(B*C - 1))/2"
      ]
     },
     "execution_count": 23,
     "metadata": {},
     "output_type": "execute_result"
    }
   ],
   "source": [
    "phiInvEqn2"
   ]
  },
  {
   "cell_type": "code",
   "execution_count": 13,
   "metadata": {},
   "outputs": [],
   "source": [
    "betaFunc = sp.acos(sp.sin(inc)*sp.sin(v+w))"
   ]
  },
  {
   "cell_type": "code",
   "execution_count": 14,
   "metadata": {},
   "outputs": [
    {
     "data": {
      "text/latex": [
       "$\\displaystyle \\operatorname{acos}{\\left(\\sin{\\left(inc \\right)} \\sin{\\left(\\nu + w \\right)} \\right)}$"
      ],
      "text/plain": [
       "acos(sin(inc)*sin(nu + w))"
      ]
     },
     "execution_count": 14,
     "metadata": {},
     "output_type": "execute_result"
    }
   ],
   "source": [
    "betaFunc"
   ]
  },
  {
   "cell_type": "code",
   "execution_count": null,
   "metadata": {},
   "outputs": [],
   "source": []
  },
  {
   "cell_type": "code",
   "execution_count": null,
   "metadata": {},
   "outputs": [],
   "source": []
  },
  {
   "cell_type": "code",
   "execution_count": 24,
   "metadata": {},
   "outputs": [],
   "source": [
    "GammaFunc = phiEqn2.subs(beta,betaFunc)/(e*sp.cos(v)+1)**2"
   ]
  },
  {
   "cell_type": "code",
   "execution_count": 25,
   "metadata": {},
   "outputs": [
    {
     "data": {
      "text/latex": [
       "$\\displaystyle \\frac{C + \\frac{- e^{\\frac{- D + \\operatorname{acos}{\\left(\\sin{\\left(inc \\right)} \\sin{\\left(\\nu + w \\right)} \\right)}}{A}} + e^{\\frac{D - \\operatorname{acos}{\\left(\\sin{\\left(inc \\right)} \\sin{\\left(\\nu + w \\right)} \\right)}}{A}}}{B \\left(e^{\\frac{- D + \\operatorname{acos}{\\left(\\sin{\\left(inc \\right)} \\sin{\\left(\\nu + w \\right)} \\right)}}{A}} + e^{\\frac{D - \\operatorname{acos}{\\left(\\sin{\\left(inc \\right)} \\sin{\\left(\\nu + w \\right)} \\right)}}{A}}\\right)}}{\\left(e \\cos{\\left(\\nu \\right)} + 1\\right)^{2}}$"
      ],
      "text/plain": [
       "(C + (-exp((-D + acos(sin(inc)*sin(nu + w)))/A) + exp((D - acos(sin(inc)*sin(nu + w)))/A))/(B*(exp((-D + acos(sin(inc)*sin(nu + w)))/A) + exp((D - acos(sin(inc)*sin(nu + w)))/A))))/(e*cos(nu) + 1)**2"
      ]
     },
     "execution_count": 25,
     "metadata": {},
     "output_type": "execute_result"
    }
   ],
   "source": [
    "GammaFunc"
   ]
  },
  {
   "cell_type": "code",
   "execution_count": 26,
   "metadata": {
    "scrolled": true
   },
   "outputs": [
    {
     "data": {
      "text/latex": [
       "$\\displaystyle \\frac{C}{e^{2} \\cos^{2}{\\left(\\nu \\right)} + 2 e \\cos{\\left(\\nu \\right)} + 1} - \\frac{e^{\\frac{\\operatorname{acos}{\\left(\\sin{\\left(inc \\right)} \\sin{\\left(\\nu + w \\right)} \\right)}}{A}}}{B e^{2} e^{\\frac{2 D}{A}} e^{- \\frac{\\operatorname{acos}{\\left(\\sin{\\left(inc \\right)} \\sin{\\left(\\nu + w \\right)} \\right)}}{A}} \\cos^{2}{\\left(\\nu \\right)} + B e^{2} e^{\\frac{\\operatorname{acos}{\\left(\\sin{\\left(inc \\right)} \\sin{\\left(\\nu + w \\right)} \\right)}}{A}} \\cos^{2}{\\left(\\nu \\right)} + 2 B e e^{\\frac{2 D}{A}} e^{- \\frac{\\operatorname{acos}{\\left(\\sin{\\left(inc \\right)} \\sin{\\left(\\nu + w \\right)} \\right)}}{A}} \\cos{\\left(\\nu \\right)} + 2 B e e^{\\frac{\\operatorname{acos}{\\left(\\sin{\\left(inc \\right)} \\sin{\\left(\\nu + w \\right)} \\right)}}{A}} \\cos{\\left(\\nu \\right)} + B e^{\\frac{2 D}{A}} e^{- \\frac{\\operatorname{acos}{\\left(\\sin{\\left(inc \\right)} \\sin{\\left(\\nu + w \\right)} \\right)}}{A}} + B e^{\\frac{\\operatorname{acos}{\\left(\\sin{\\left(inc \\right)} \\sin{\\left(\\nu + w \\right)} \\right)}}{A}}} + \\frac{e^{\\frac{D}{A}}}{B e^{2} e^{\\frac{D}{A}} \\cos^{2}{\\left(\\nu \\right)} + B e^{2} e^{- \\frac{D}{A}} e^{\\frac{2 \\operatorname{acos}{\\left(\\sin{\\left(inc \\right)} \\sin{\\left(\\nu + w \\right)} \\right)}}{A}} \\cos^{2}{\\left(\\nu \\right)} + 2 B e e^{\\frac{D}{A}} \\cos{\\left(\\nu \\right)} + 2 B e e^{- \\frac{D}{A}} e^{\\frac{2 \\operatorname{acos}{\\left(\\sin{\\left(inc \\right)} \\sin{\\left(\\nu + w \\right)} \\right)}}{A}} \\cos{\\left(\\nu \\right)} + B e^{\\frac{D}{A}} + B e^{- \\frac{D}{A}} e^{\\frac{2 \\operatorname{acos}{\\left(\\sin{\\left(inc \\right)} \\sin{\\left(\\nu + w \\right)} \\right)}}{A}}}$"
      ],
      "text/plain": [
       "C/(e**2*cos(nu)**2 + 2*e*cos(nu) + 1) - exp(acos(sin(inc)*sin(nu + w))/A)/(B*e**2*exp(2*D/A)*exp(-acos(sin(inc)*sin(nu + w))/A)*cos(nu)**2 + B*e**2*exp(acos(sin(inc)*sin(nu + w))/A)*cos(nu)**2 + 2*B*e*exp(2*D/A)*exp(-acos(sin(inc)*sin(nu + w))/A)*cos(nu) + 2*B*e*exp(acos(sin(inc)*sin(nu + w))/A)*cos(nu) + B*exp(2*D/A)*exp(-acos(sin(inc)*sin(nu + w))/A) + B*exp(acos(sin(inc)*sin(nu + w))/A)) + exp(D/A)/(B*e**2*exp(D/A)*cos(nu)**2 + B*e**2*exp(-D/A)*exp(2*acos(sin(inc)*sin(nu + w))/A)*cos(nu)**2 + 2*B*e*exp(D/A)*cos(nu) + 2*B*e*exp(-D/A)*exp(2*acos(sin(inc)*sin(nu + w))/A)*cos(nu) + B*exp(D/A) + B*exp(-D/A)*exp(2*acos(sin(inc)*sin(nu + w))/A))"
      ]
     },
     "execution_count": 26,
     "metadata": {},
     "output_type": "execute_result"
    }
   ],
   "source": [
    "sp.expand(GammaFunc)"
   ]
  },
  {
   "cell_type": "code",
   "execution_count": 28,
   "metadata": {},
   "outputs": [
    {
     "data": {
      "text/plain": [
       "[-w + asin(cos(A*log(-(B*C + 1)*exp(2*D/A)/(B*C - 1))/2)/sin(inc)),\n",
       " -w + asin(cos(A*log(-sqrt(-(B*C + 1)*exp(2*D/A)/(B*C - 1))))/sin(inc)),\n",
       " -w - asin(cos(A*log(-(B*C + 1)*exp(2*D/A)/(B*C - 1))/2)/sin(inc)) + pi,\n",
       " -w - asin(cos(A*log(-sqrt(-(B*C + 1)*exp(2*D/A)/(B*C - 1))))/sin(inc)) + pi]"
      ]
     },
     "execution_count": 28,
     "metadata": {},
     "output_type": "execute_result"
    }
   ],
   "source": [
    "sp.solve(GammaFunc,v)"
   ]
  },
  {
   "cell_type": "code",
   "execution_count": null,
   "metadata": {},
   "outputs": [],
   "source": []
  },
  {
   "cell_type": "code",
   "execution_count": null,
   "metadata": {},
   "outputs": [],
   "source": []
  },
  {
   "cell_type": "code",
   "execution_count": null,
   "metadata": {},
   "outputs": [],
   "source": []
  }
 ],
 "metadata": {
  "kernelspec": {
   "display_name": "Python 3",
   "language": "python",
   "name": "python3"
  },
  "language_info": {
   "codemirror_mode": {
    "name": "ipython",
    "version": 3
   },
   "file_extension": ".py",
   "mimetype": "text/x-python",
   "name": "python",
   "nbconvert_exporter": "python",
   "pygments_lexer": "ipython3",
   "version": "3.6.9"
  }
 },
 "nbformat": 4,
 "nbformat_minor": 4
}
