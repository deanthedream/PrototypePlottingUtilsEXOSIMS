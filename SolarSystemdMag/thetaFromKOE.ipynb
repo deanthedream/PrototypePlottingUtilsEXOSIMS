{
 "cells": [
  {
   "cell_type": "code",
   "execution_count": 347,
   "metadata": {},
   "outputs": [],
   "source": [
    "import sympy as sp\n",
    "import numpy as np"
   ]
  },
  {
   "cell_type": "code",
   "execution_count": 348,
   "metadata": {},
   "outputs": [],
   "source": [
    "dMag, a, e, p, Rp = sp.symbols('dMag a e p R_p', real=True)\n",
    "v, w, inc, beta, W, E = sp.symbols('v w i beta Omega E', real=True, positive=True)\n",
    "A, B, C, D, F = sp.symbols('A B C D F',real=True)\n",
    "T = sp.symbols('T', real=True, positive=True)\n",
    "x = sp.symbols('x',real=True)"
   ]
  },
  {
   "cell_type": "code",
   "execution_count": 349,
   "metadata": {},
   "outputs": [],
   "source": [
    "#Angle Addition Expanders\n",
    "sinvpw = sp.sin(v)*sp.cos(w) + sp.cos(v)*sp.sin(w)\n",
    "cosvpw = sp.cos(v)*sp.cos(w) - sp.sin(v)*sp.sin(w)\n",
    "sinvmw = sp.sin(v)*sp.cos(w) - sp.cos(v)*sp.sin(w)\n",
    "cosvmw = sp.cos(v)*sp.cos(w) + sp.sin(v)*sp.sin(w)"
   ]
  },
  {
   "cell_type": "code",
   "execution_count": 350,
   "metadata": {},
   "outputs": [],
   "source": [
    "r = a*(1-e**2)/(1+e*sp.cos(v))\n",
    "X = r*(sp.cos(W)*sp.cos(w+v)-sp.sin(W)*sp.sin(w+v)*sp.cos(inc))\n",
    "Y = r*(sp.sin(W)*sp.cos(w+v)+sp.cos(W)*sp.sin(w+v)*sp.cos(inc))"
   ]
  },
  {
   "cell_type": "code",
   "execution_count": 351,
   "metadata": {},
   "outputs": [],
   "source": [
    "sinv = sp.sqrt(1-sp.cos(v)**2)"
   ]
  },
  {
   "cell_type": "markdown",
   "metadata": {},
   "source": [
    "# Theta Equation Looks Good"
   ]
  },
  {
   "cell_type": "code",
   "execution_count": 352,
   "metadata": {},
   "outputs": [],
   "source": [
    "theta = sp.atan2(Y,X)\n",
    "tanTheta = (Y/X).subs(sp.cos(w+v),cosvpw).subs(sp.sin(w+v),sinvpw)"
   ]
  },
  {
   "cell_type": "code",
   "execution_count": 353,
   "metadata": {},
   "outputs": [
    {
     "data": {
      "text/latex": [
       "$\\displaystyle \\operatorname{atan_{2}}{\\left(\\frac{a \\left(1 - e^{2}\\right) \\left(\\sin{\\left(\\Omega \\right)} \\cos{\\left(v + w \\right)} + \\sin{\\left(v + w \\right)} \\cos{\\left(\\Omega \\right)} \\cos{\\left(i \\right)}\\right)}{e \\cos{\\left(v \\right)} + 1},\\frac{a \\left(1 - e^{2}\\right) \\left(- \\sin{\\left(\\Omega \\right)} \\sin{\\left(v + w \\right)} \\cos{\\left(i \\right)} + \\cos{\\left(\\Omega \\right)} \\cos{\\left(v + w \\right)}\\right)}{e \\cos{\\left(v \\right)} + 1} \\right)}$"
      ],
      "text/plain": [
       "atan2(a*(1 - e**2)*(sin(Omega)*cos(v + w) + sin(v + w)*cos(Omega)*cos(i))/(e*cos(v) + 1), a*(1 - e**2)*(-sin(Omega)*sin(v + w)*cos(i) + cos(Omega)*cos(v + w))/(e*cos(v) + 1))"
      ]
     },
     "execution_count": 353,
     "metadata": {},
     "output_type": "execute_result"
    }
   ],
   "source": [
    "theta"
   ]
  },
  {
   "cell_type": "code",
   "execution_count": 354,
   "metadata": {},
   "outputs": [
    {
     "data": {
      "text/latex": [
       "$\\displaystyle \\frac{\\left(- \\sin{\\left(v \\right)} \\sin{\\left(w \\right)} + \\cos{\\left(v \\right)} \\cos{\\left(w \\right)}\\right) \\sin{\\left(\\Omega \\right)} + \\left(\\sin{\\left(v \\right)} \\cos{\\left(w \\right)} + \\sin{\\left(w \\right)} \\cos{\\left(v \\right)}\\right) \\cos{\\left(\\Omega \\right)} \\cos{\\left(i \\right)}}{\\left(- \\sin{\\left(v \\right)} \\sin{\\left(w \\right)} + \\cos{\\left(v \\right)} \\cos{\\left(w \\right)}\\right) \\cos{\\left(\\Omega \\right)} - \\left(\\sin{\\left(v \\right)} \\cos{\\left(w \\right)} + \\sin{\\left(w \\right)} \\cos{\\left(v \\right)}\\right) \\sin{\\left(\\Omega \\right)} \\cos{\\left(i \\right)}}$"
      ],
      "text/plain": [
       "((-sin(v)*sin(w) + cos(v)*cos(w))*sin(Omega) + (sin(v)*cos(w) + sin(w)*cos(v))*cos(Omega)*cos(i))/((-sin(v)*sin(w) + cos(v)*cos(w))*cos(Omega) - (sin(v)*cos(w) + sin(w)*cos(v))*sin(Omega)*cos(i))"
      ]
     },
     "execution_count": 354,
     "metadata": {},
     "output_type": "execute_result"
    }
   ],
   "source": [
    "tanTheta"
   ]
  },
  {
   "cell_type": "code",
   "execution_count": 355,
   "metadata": {},
   "outputs": [
    {
     "data": {
      "text/latex": [
       "$\\displaystyle - \\frac{\\sin{\\left(\\Omega \\right)} \\sin{\\left(v \\right)} \\sin{\\left(w \\right)}}{- \\sin{\\left(\\Omega \\right)} \\sin{\\left(v \\right)} \\cos{\\left(i \\right)} \\cos{\\left(w \\right)} - \\sin{\\left(\\Omega \\right)} \\sin{\\left(w \\right)} \\cos{\\left(i \\right)} \\cos{\\left(v \\right)} - \\sin{\\left(v \\right)} \\sin{\\left(w \\right)} \\cos{\\left(\\Omega \\right)} + \\cos{\\left(\\Omega \\right)} \\cos{\\left(v \\right)} \\cos{\\left(w \\right)}} + \\frac{\\sin{\\left(\\Omega \\right)} \\cos{\\left(v \\right)} \\cos{\\left(w \\right)}}{- \\sin{\\left(\\Omega \\right)} \\sin{\\left(v \\right)} \\cos{\\left(i \\right)} \\cos{\\left(w \\right)} - \\sin{\\left(\\Omega \\right)} \\sin{\\left(w \\right)} \\cos{\\left(i \\right)} \\cos{\\left(v \\right)} - \\sin{\\left(v \\right)} \\sin{\\left(w \\right)} \\cos{\\left(\\Omega \\right)} + \\cos{\\left(\\Omega \\right)} \\cos{\\left(v \\right)} \\cos{\\left(w \\right)}} + \\frac{\\sin{\\left(v \\right)} \\cos{\\left(\\Omega \\right)} \\cos{\\left(i \\right)} \\cos{\\left(w \\right)}}{- \\sin{\\left(\\Omega \\right)} \\sin{\\left(v \\right)} \\cos{\\left(i \\right)} \\cos{\\left(w \\right)} - \\sin{\\left(\\Omega \\right)} \\sin{\\left(w \\right)} \\cos{\\left(i \\right)} \\cos{\\left(v \\right)} - \\sin{\\left(v \\right)} \\sin{\\left(w \\right)} \\cos{\\left(\\Omega \\right)} + \\cos{\\left(\\Omega \\right)} \\cos{\\left(v \\right)} \\cos{\\left(w \\right)}} + \\frac{\\sin{\\left(w \\right)} \\cos{\\left(\\Omega \\right)} \\cos{\\left(i \\right)} \\cos{\\left(v \\right)}}{- \\sin{\\left(\\Omega \\right)} \\sin{\\left(v \\right)} \\cos{\\left(i \\right)} \\cos{\\left(w \\right)} - \\sin{\\left(\\Omega \\right)} \\sin{\\left(w \\right)} \\cos{\\left(i \\right)} \\cos{\\left(v \\right)} - \\sin{\\left(v \\right)} \\sin{\\left(w \\right)} \\cos{\\left(\\Omega \\right)} + \\cos{\\left(\\Omega \\right)} \\cos{\\left(v \\right)} \\cos{\\left(w \\right)}}$"
      ],
      "text/plain": [
       "-sin(Omega)*sin(v)*sin(w)/(-sin(Omega)*sin(v)*cos(i)*cos(w) - sin(Omega)*sin(w)*cos(i)*cos(v) - sin(v)*sin(w)*cos(Omega) + cos(Omega)*cos(v)*cos(w)) + sin(Omega)*cos(v)*cos(w)/(-sin(Omega)*sin(v)*cos(i)*cos(w) - sin(Omega)*sin(w)*cos(i)*cos(v) - sin(v)*sin(w)*cos(Omega) + cos(Omega)*cos(v)*cos(w)) + sin(v)*cos(Omega)*cos(i)*cos(w)/(-sin(Omega)*sin(v)*cos(i)*cos(w) - sin(Omega)*sin(w)*cos(i)*cos(v) - sin(v)*sin(w)*cos(Omega) + cos(Omega)*cos(v)*cos(w)) + sin(w)*cos(Omega)*cos(i)*cos(v)/(-sin(Omega)*sin(v)*cos(i)*cos(w) - sin(Omega)*sin(w)*cos(i)*cos(v) - sin(v)*sin(w)*cos(Omega) + cos(Omega)*cos(v)*cos(w))"
      ]
     },
     "execution_count": 355,
     "metadata": {},
     "output_type": "execute_result"
    }
   ],
   "source": [
    "sp.expand(tanTheta)"
   ]
  },
  {
   "cell_type": "code",
   "execution_count": 356,
   "metadata": {},
   "outputs": [
    {
     "data": {
      "text/latex": [
       "$\\displaystyle \\frac{\\sin{\\left(\\Omega \\right)} \\cos{\\left(v + w \\right)} + \\sin{\\left(v + w \\right)} \\cos{\\left(\\Omega \\right)} \\cos{\\left(i \\right)}}{- \\sin{\\left(\\Omega \\right)} \\sin{\\left(v + w \\right)} \\cos{\\left(i \\right)} + \\cos{\\left(\\Omega \\right)} \\cos{\\left(v + w \\right)}}$"
      ],
      "text/plain": [
       "(sin(Omega)*cos(v + w) + sin(v + w)*cos(Omega)*cos(i))/(-sin(Omega)*sin(v + w)*cos(i) + cos(Omega)*cos(v + w))"
      ]
     },
     "execution_count": 356,
     "metadata": {},
     "output_type": "execute_result"
    }
   ],
   "source": [
    "Y/X"
   ]
  },
  {
   "cell_type": "code",
   "execution_count": 357,
   "metadata": {},
   "outputs": [],
   "source": [
    "tanTheta = sp.symbols('tanTheta', real=True)\n",
    "eqn1 = (tanTheta*X/r - Y/r).subs(sp.cos(w+v),cosvpw).subs(sp.sin(w+v),sinvpw)"
   ]
  },
  {
   "cell_type": "code",
   "execution_count": 358,
   "metadata": {},
   "outputs": [
    {
     "data": {
      "text/latex": [
       "$\\displaystyle tanTheta \\left(\\left(- \\sin{\\left(v \\right)} \\sin{\\left(w \\right)} + \\cos{\\left(v \\right)} \\cos{\\left(w \\right)}\\right) \\cos{\\left(\\Omega \\right)} - \\left(\\sin{\\left(v \\right)} \\cos{\\left(w \\right)} + \\sin{\\left(w \\right)} \\cos{\\left(v \\right)}\\right) \\sin{\\left(\\Omega \\right)} \\cos{\\left(i \\right)}\\right) - \\left(- \\sin{\\left(v \\right)} \\sin{\\left(w \\right)} + \\cos{\\left(v \\right)} \\cos{\\left(w \\right)}\\right) \\sin{\\left(\\Omega \\right)} - \\left(\\sin{\\left(v \\right)} \\cos{\\left(w \\right)} + \\sin{\\left(w \\right)} \\cos{\\left(v \\right)}\\right) \\cos{\\left(\\Omega \\right)} \\cos{\\left(i \\right)}$"
      ],
      "text/plain": [
       "tanTheta*((-sin(v)*sin(w) + cos(v)*cos(w))*cos(Omega) - (sin(v)*cos(w) + sin(w)*cos(v))*sin(Omega)*cos(i)) - (-sin(v)*sin(w) + cos(v)*cos(w))*sin(Omega) - (sin(v)*cos(w) + sin(w)*cos(v))*cos(Omega)*cos(i)"
      ]
     },
     "execution_count": 358,
     "metadata": {},
     "output_type": "execute_result"
    }
   ],
   "source": [
    "eqn1"
   ]
  },
  {
   "cell_type": "code",
   "execution_count": 359,
   "metadata": {},
   "outputs": [],
   "source": [
    "eqn2 = sp.expand(eqn1).subs(sp.sin(v),sinv)"
   ]
  },
  {
   "cell_type": "code",
   "execution_count": 360,
   "metadata": {},
   "outputs": [
    {
     "data": {
      "text/latex": [
       "$\\displaystyle - tanTheta \\sqrt{1 - \\cos^{2}{\\left(v \\right)}} \\sin{\\left(\\Omega \\right)} \\cos{\\left(i \\right)} \\cos{\\left(w \\right)} - tanTheta \\sqrt{1 - \\cos^{2}{\\left(v \\right)}} \\sin{\\left(w \\right)} \\cos{\\left(\\Omega \\right)} - tanTheta \\sin{\\left(\\Omega \\right)} \\sin{\\left(w \\right)} \\cos{\\left(i \\right)} \\cos{\\left(v \\right)} + tanTheta \\cos{\\left(\\Omega \\right)} \\cos{\\left(v \\right)} \\cos{\\left(w \\right)} + \\sqrt{1 - \\cos^{2}{\\left(v \\right)}} \\sin{\\left(\\Omega \\right)} \\sin{\\left(w \\right)} - \\sqrt{1 - \\cos^{2}{\\left(v \\right)}} \\cos{\\left(\\Omega \\right)} \\cos{\\left(i \\right)} \\cos{\\left(w \\right)} - \\sin{\\left(\\Omega \\right)} \\cos{\\left(v \\right)} \\cos{\\left(w \\right)} - \\sin{\\left(w \\right)} \\cos{\\left(\\Omega \\right)} \\cos{\\left(i \\right)} \\cos{\\left(v \\right)}$"
      ],
      "text/plain": [
       "-tanTheta*sqrt(1 - cos(v)**2)*sin(Omega)*cos(i)*cos(w) - tanTheta*sqrt(1 - cos(v)**2)*sin(w)*cos(Omega) - tanTheta*sin(Omega)*sin(w)*cos(i)*cos(v) + tanTheta*cos(Omega)*cos(v)*cos(w) + sqrt(1 - cos(v)**2)*sin(Omega)*sin(w) - sqrt(1 - cos(v)**2)*cos(Omega)*cos(i)*cos(w) - sin(Omega)*cos(v)*cos(w) - sin(w)*cos(Omega)*cos(i)*cos(v)"
      ]
     },
     "execution_count": 360,
     "metadata": {},
     "output_type": "execute_result"
    }
   ],
   "source": [
    "eqn2"
   ]
  },
  {
   "cell_type": "code",
   "execution_count": 361,
   "metadata": {},
   "outputs": [],
   "source": [
    "eqn3 = eqn2.subs(sp.cos(v),x)"
   ]
  },
  {
   "cell_type": "code",
   "execution_count": 362,
   "metadata": {},
   "outputs": [
    {
     "data": {
      "text/latex": [
       "$\\displaystyle - tanTheta x \\sin{\\left(\\Omega \\right)} \\sin{\\left(w \\right)} \\cos{\\left(i \\right)} + tanTheta x \\cos{\\left(\\Omega \\right)} \\cos{\\left(w \\right)} - tanTheta \\sqrt{1 - x^{2}} \\sin{\\left(\\Omega \\right)} \\cos{\\left(i \\right)} \\cos{\\left(w \\right)} - tanTheta \\sqrt{1 - x^{2}} \\sin{\\left(w \\right)} \\cos{\\left(\\Omega \\right)} - x \\sin{\\left(\\Omega \\right)} \\cos{\\left(w \\right)} - x \\sin{\\left(w \\right)} \\cos{\\left(\\Omega \\right)} \\cos{\\left(i \\right)} + \\sqrt{1 - x^{2}} \\sin{\\left(\\Omega \\right)} \\sin{\\left(w \\right)} - \\sqrt{1 - x^{2}} \\cos{\\left(\\Omega \\right)} \\cos{\\left(i \\right)} \\cos{\\left(w \\right)}$"
      ],
      "text/plain": [
       "-tanTheta*x*sin(Omega)*sin(w)*cos(i) + tanTheta*x*cos(Omega)*cos(w) - tanTheta*sqrt(1 - x**2)*sin(Omega)*cos(i)*cos(w) - tanTheta*sqrt(1 - x**2)*sin(w)*cos(Omega) - x*sin(Omega)*cos(w) - x*sin(w)*cos(Omega)*cos(i) + sqrt(1 - x**2)*sin(Omega)*sin(w) - sqrt(1 - x**2)*cos(Omega)*cos(i)*cos(w)"
      ]
     },
     "execution_count": 362,
     "metadata": {},
     "output_type": "execute_result"
    }
   ],
   "source": [
    "eqn3"
   ]
  },
  {
   "cell_type": "code",
   "execution_count": 363,
   "metadata": {},
   "outputs": [],
   "source": [
    "eqn3Poly = sp.Poly(eqn3,sp.sqrt(1-x**2))"
   ]
  },
  {
   "cell_type": "code",
   "execution_count": 364,
   "metadata": {},
   "outputs": [
    {
     "data": {
      "text/latex": [
       "$\\displaystyle \\operatorname{Poly}{\\left( \\left(- tanTheta \\sin{\\left(\\Omega \\right)} \\cos{\\left(i \\right)} \\cos{\\left(w \\right)} - tanTheta \\sin{\\left(w \\right)} \\cos{\\left(\\Omega \\right)} + \\sin{\\left(\\Omega \\right)} \\sin{\\left(w \\right)} - \\cos{\\left(\\Omega \\right)} \\cos{\\left(i \\right)} \\cos{\\left(w \\right)}\\right) \\sqrt{1 - x^{2}} -  tanTheta x \\sin{\\left(\\Omega \\right)} \\sin{\\left(w \\right)} \\cos{\\left(i \\right)} + tanTheta x \\cos{\\left(\\Omega \\right)} \\cos{\\left(w \\right)} - x \\sin{\\left(\\Omega \\right)} \\cos{\\left(w \\right)} - x \\sin{\\left(w \\right)} \\cos{\\left(\\Omega \\right)} \\cos{\\left(i \\right)}, \\sqrt{1 - x^{2}}, domain=EX \\right)}$"
      ],
      "text/plain": [
       "Poly((-tanTheta*sin(Omega)*cos(i)*cos(w) - tanTheta*sin(w)*cos(Omega) + sin(Omega)*sin(w) - cos(Omega)*cos(i)*cos(w))*(sqrt(1 - x**2)) - tanTheta*x*sin(Omega)*sin(w)*cos(i) + tanTheta*x*cos(Omega)*cos(w) - x*sin(Omega)*cos(w) - x*sin(w)*cos(Omega)*cos(i), sqrt(1 - x**2), domain='EX')"
      ]
     },
     "execution_count": 364,
     "metadata": {},
     "output_type": "execute_result"
    }
   ],
   "source": [
    "eqn3Poly"
   ]
  },
  {
   "cell_type": "code",
   "execution_count": 365,
   "metadata": {},
   "outputs": [],
   "source": [
    "# Since x^2 is the only term that appears in the final equation, we can say x=+/- \\sqrt{1-B^2/A^2} so we only need A and B here. Since all terms in B have 'x', we can further strip out this 'x' to simplify the problem"
   ]
  },
  {
   "cell_type": "code",
   "execution_count": 366,
   "metadata": {},
   "outputs": [
    {
     "name": "stdout",
     "output_type": "stream",
     "text": [
      "-tanTheta*sin(Omega)*cos(i)*cos(w) - tanTheta*sin(w)*cos(Omega) + sin(Omega)*sin(w) - cos(Omega)*cos(i)*cos(w)\n"
     ]
    }
   ],
   "source": [
    "print(eqn3Poly.coeffs()[0])"
   ]
  },
  {
   "cell_type": "code",
   "execution_count": 367,
   "metadata": {},
   "outputs": [
    {
     "name": "stdout",
     "output_type": "stream",
     "text": [
      "-tanTheta*x*sin(Omega)*sin(w)*cos(i) + tanTheta*x*cos(Omega)*cos(w) - x*sin(Omega)*cos(w) - x*sin(w)*cos(Omega)*cos(i)\n"
     ]
    }
   ],
   "source": [
    "print(eqn3Poly.coeffs()[1]) # I use this for B but I strip out the 'x'"
   ]
  },
  {
   "cell_type": "code",
   "execution_count": 368,
   "metadata": {},
   "outputs": [
    {
     "data": {
      "text/latex": [
       "$\\displaystyle - tanTheta \\sin{\\left(\\Omega \\right)} \\cos{\\left(i \\right)} \\cos{\\left(w \\right)} - tanTheta \\sin{\\left(w \\right)} \\cos{\\left(\\Omega \\right)} + \\sin{\\left(\\Omega \\right)} \\sin{\\left(w \\right)} - \\cos{\\left(\\Omega \\right)} \\cos{\\left(i \\right)} \\cos{\\left(w \\right)}$"
      ],
      "text/plain": [
       "-tanTheta*sin(Omega)*cos(i)*cos(w) - tanTheta*sin(w)*cos(Omega) + sin(Omega)*sin(w) - cos(Omega)*cos(i)*cos(w)"
      ]
     },
     "execution_count": 368,
     "metadata": {},
     "output_type": "execute_result"
    }
   ],
   "source": [
    "eqn3Poly.coeffs()[0]"
   ]
  },
  {
   "cell_type": "code",
   "execution_count": 369,
   "metadata": {},
   "outputs": [
    {
     "data": {
      "text/latex": [
       "$\\displaystyle - tanTheta x \\sin{\\left(\\Omega \\right)} \\sin{\\left(w \\right)} \\cos{\\left(i \\right)} + tanTheta x \\cos{\\left(\\Omega \\right)} \\cos{\\left(w \\right)} - x \\sin{\\left(\\Omega \\right)} \\cos{\\left(w \\right)} - x \\sin{\\left(w \\right)} \\cos{\\left(\\Omega \\right)} \\cos{\\left(i \\right)}$"
      ],
      "text/plain": [
       "-tanTheta*x*sin(Omega)*sin(w)*cos(i) + tanTheta*x*cos(Omega)*cos(w) - x*sin(Omega)*cos(w) - x*sin(w)*cos(Omega)*cos(i)"
      ]
     },
     "execution_count": 369,
     "metadata": {},
     "output_type": "execute_result"
    }
   ],
   "source": [
    "eqn3Poly.coeffs()[1]"
   ]
  },
  {
   "cell_type": "code",
   "execution_count": null,
   "metadata": {},
   "outputs": [],
   "source": []
  },
  {
   "cell_type": "markdown",
   "metadata": {},
   "source": [
    "# dTheta by dv Looks Good"
   ]
  },
  {
   "cell_type": "code",
   "execution_count": 370,
   "metadata": {},
   "outputs": [],
   "source": [
    "# Calculate derivative of angular position vs time\n",
    "#From wolfram derivative of d/dt(arctan(Y/X))"
   ]
  },
  {
   "cell_type": "code",
   "execution_count": 371,
   "metadata": {},
   "outputs": [],
   "source": [
    "eqn01 = (X*sp.diff(Y,v)-Y*sp.diff(X,v))/(X**2+Y**2)"
   ]
  },
  {
   "cell_type": "code",
   "execution_count": 372,
   "metadata": {},
   "outputs": [],
   "source": [
    "dthetabydv = sp.simplify(eqn01)\n",
    "dthetabydnu = sp.simplify(eqn01)"
   ]
  },
  {
   "cell_type": "code",
   "execution_count": 373,
   "metadata": {},
   "outputs": [
    {
     "data": {
      "text/latex": [
       "$\\displaystyle \\frac{\\cos{\\left(i \\right)}}{\\sin^{2}{\\left(v + w \\right)} \\cos^{2}{\\left(i \\right)} + \\cos^{2}{\\left(v + w \\right)}}$"
      ],
      "text/plain": [
       "cos(i)/(sin(v + w)**2*cos(i)**2 + cos(v + w)**2)"
      ]
     },
     "execution_count": 373,
     "metadata": {},
     "output_type": "execute_result"
    }
   ],
   "source": [
    "dthetabydv"
   ]
  },
  {
   "cell_type": "code",
   "execution_count": 374,
   "metadata": {},
   "outputs": [
    {
     "name": "stdout",
     "output_type": "stream",
     "text": [
      "cos(i)/(sin(v + w)**2*cos(i)**2 + cos(v + w)**2)\n"
     ]
    }
   ],
   "source": [
    "print(dthetabydv)"
   ]
  },
  {
   "cell_type": "markdown",
   "metadata": {},
   "source": [
    "# dnu by dt Confirmed By Jackson"
   ]
  },
  {
   "cell_type": "code",
   "execution_count": 375,
   "metadata": {},
   "outputs": [],
   "source": [
    "dvbydt = (-1/sp.sin(v))*(2*sp.pi/T)*(-1-e*sp.cos(E)/(1-e*sp.cos(E))+e**2/(1-e*sp.cos(E)))*(sp.sin(E)/(1-e*sp.cos(E))**2)\n",
    "dnubydt = (-1/sp.sin(v))*(2*sp.pi/T)*(-1-e*sp.cos(E)/(1-e*sp.cos(E))+e**2/(1-e*sp.cos(E)))*(sp.sin(E)/(1-e*sp.cos(E))**2) "
   ]
  },
  {
   "cell_type": "code",
   "execution_count": 376,
   "metadata": {},
   "outputs": [],
   "source": [
    "cosE = (e+sp.cos(v))/(1+e*sp.cos(v))\n",
    "sinE = (sp.sqrt(1-e**2)*sp.sin(v))/(1+e*sp.cos(v))"
   ]
  },
  {
   "cell_type": "code",
   "execution_count": 377,
   "metadata": {},
   "outputs": [],
   "source": [
    "dvbydt2 = sp.simplify(dvbydt.subs(sp.cos(E),cosE).subs(sp.sin(E),sinE))\n",
    "dnubydt2 = sp.simplify(dvbydt.subs(sp.cos(E),cosE).subs(sp.sin(E),sinE))"
   ]
  },
  {
   "cell_type": "code",
   "execution_count": 378,
   "metadata": {},
   "outputs": [
    {
     "data": {
      "text/latex": [
       "$\\displaystyle \\frac{2 \\pi \\sqrt{1 - e^{2}} \\left(e \\cos{\\left(v \\right)} + 1\\right)^{2}}{T \\left(e^{4} - 2 e^{2} + 1\\right)}$"
      ],
      "text/plain": [
       "2*pi*sqrt(1 - e**2)*(e*cos(v) + 1)**2/(T*(e**4 - 2*e**2 + 1))"
      ]
     },
     "execution_count": 378,
     "metadata": {},
     "output_type": "execute_result"
    }
   ],
   "source": [
    "dvbydt2"
   ]
  },
  {
   "cell_type": "code",
   "execution_count": null,
   "metadata": {},
   "outputs": [],
   "source": []
  },
  {
   "cell_type": "markdown",
   "metadata": {},
   "source": [
    "# ddnu by ddt looks good"
   ]
  },
  {
   "cell_type": "code",
   "execution_count": 379,
   "metadata": {},
   "outputs": [],
   "source": [
    "ddnubyddt = sp.diff(dvbydt2,v)*dvbydt2"
   ]
  },
  {
   "cell_type": "code",
   "execution_count": 380,
   "metadata": {},
   "outputs": [
    {
     "data": {
      "text/latex": [
       "$\\displaystyle - \\frac{8 \\pi^{2} e \\left(1 - e^{2}\\right) \\left(e \\cos{\\left(v \\right)} + 1\\right)^{3} \\sin{\\left(v \\right)}}{T^{2} \\left(e^{4} - 2 e^{2} + 1\\right)^{2}}$"
      ],
      "text/plain": [
       "-8*pi**2*e*(1 - e**2)*(e*cos(v) + 1)**3*sin(v)/(T**2*(e**4 - 2*e**2 + 1)**2)"
      ]
     },
     "execution_count": 380,
     "metadata": {},
     "output_type": "execute_result"
    }
   ],
   "source": [
    "ddnubyddt"
   ]
  },
  {
   "cell_type": "code",
   "execution_count": 381,
   "metadata": {},
   "outputs": [
    {
     "name": "stdout",
     "output_type": "stream",
     "text": [
      "-8*pi**2*e*(1 - e**2)*(e*cos(v) + 1)**3*sin(v)/(T**2*(e**4 - 2*e**2 + 1)**2)\n"
     ]
    }
   ],
   "source": [
    "print(ddnubyddt)"
   ]
  },
  {
   "cell_type": "code",
   "execution_count": null,
   "metadata": {},
   "outputs": [],
   "source": []
  },
  {
   "cell_type": "markdown",
   "metadata": {},
   "source": [
    "# dTheta by dt Looks Good"
   ]
  },
  {
   "cell_type": "code",
   "execution_count": 382,
   "metadata": {},
   "outputs": [],
   "source": [
    "dthetabydt = dthetabydv*dvbydt2"
   ]
  },
  {
   "cell_type": "code",
   "execution_count": 383,
   "metadata": {},
   "outputs": [
    {
     "data": {
      "text/latex": [
       "$\\displaystyle \\frac{2 \\pi \\sqrt{1 - e^{2}} \\left(e \\cos{\\left(v \\right)} + 1\\right)^{2} \\cos{\\left(i \\right)}}{T \\left(\\sin^{2}{\\left(v + w \\right)} \\cos^{2}{\\left(i \\right)} + \\cos^{2}{\\left(v + w \\right)}\\right) \\left(e^{4} - 2 e^{2} + 1\\right)}$"
      ],
      "text/plain": [
       "2*pi*sqrt(1 - e**2)*(e*cos(v) + 1)**2*cos(i)/(T*(sin(v + w)**2*cos(i)**2 + cos(v + w)**2)*(e**4 - 2*e**2 + 1))"
      ]
     },
     "execution_count": 383,
     "metadata": {},
     "output_type": "execute_result"
    }
   ],
   "source": [
    "dthetabydt #From notability \"dtheta by dt\" notes"
   ]
  },
  {
   "cell_type": "code",
   "execution_count": 384,
   "metadata": {},
   "outputs": [
    {
     "name": "stdout",
     "output_type": "stream",
     "text": [
      "2*pi*sqrt(1 - e**2)*(e*cos(v) + 1)**2*cos(i)/(T*(sin(v + w)**2*cos(i)**2 + cos(v + w)**2)*(e**4 - 2*e**2 + 1))\n"
     ]
    }
   ],
   "source": [
    "print(dthetabydt)"
   ]
  },
  {
   "cell_type": "code",
   "execution_count": null,
   "metadata": {},
   "outputs": [],
   "source": []
  },
  {
   "cell_type": "markdown",
   "metadata": {},
   "source": [
    "# ddTheta by ddnu"
   ]
  },
  {
   "cell_type": "code",
   "execution_count": 385,
   "metadata": {},
   "outputs": [],
   "source": [
    "#DELETE ddTheta by ddt will be equivalent to dTheta by dt * (e cos(v)+1)^2"
   ]
  },
  {
   "cell_type": "code",
   "execution_count": 386,
   "metadata": {},
   "outputs": [],
   "source": [
    "ddthetabyddnu = sp.diff(dthetabydnu,v)"
   ]
  },
  {
   "cell_type": "code",
   "execution_count": 387,
   "metadata": {},
   "outputs": [
    {
     "data": {
      "text/latex": [
       "$\\displaystyle \\frac{\\left(- 2 \\sin{\\left(v + w \\right)} \\cos^{2}{\\left(i \\right)} \\cos{\\left(v + w \\right)} + 2 \\sin{\\left(v + w \\right)} \\cos{\\left(v + w \\right)}\\right) \\cos{\\left(i \\right)}}{\\left(\\sin^{2}{\\left(v + w \\right)} \\cos^{2}{\\left(i \\right)} + \\cos^{2}{\\left(v + w \\right)}\\right)^{2}}$"
      ],
      "text/plain": [
       "(-2*sin(v + w)*cos(i)**2*cos(v + w) + 2*sin(v + w)*cos(v + w))*cos(i)/(sin(v + w)**2*cos(i)**2 + cos(v + w)**2)**2"
      ]
     },
     "execution_count": 387,
     "metadata": {},
     "output_type": "execute_result"
    }
   ],
   "source": [
    "ddthetabyddnu"
   ]
  },
  {
   "cell_type": "markdown",
   "metadata": {},
   "source": [
    "# ddTheta by ddt"
   ]
  },
  {
   "cell_type": "code",
   "execution_count": 388,
   "metadata": {},
   "outputs": [],
   "source": [
    "J, K, L, M, N, O, P, Q, R, S = sp.symbols('J, K, L, M, N, O, P, Q, R, S',real=True)"
   ]
  },
  {
   "cell_type": "code",
   "execution_count": 389,
   "metadata": {},
   "outputs": [
    {
     "data": {
      "text/latex": [
       "$\\displaystyle \\frac{2 \\pi \\sqrt{1 - e^{2}} \\left(e \\cos{\\left(v \\right)} + 1\\right)^{2}}{T \\left(e^{4} - 2 e^{2} + 1\\right)}$"
      ],
      "text/plain": [
       "2*pi*sqrt(1 - e**2)*(e*cos(v) + 1)**2/(T*(e**4 - 2*e**2 + 1))"
      ]
     },
     "execution_count": 389,
     "metadata": {},
     "output_type": "execute_result"
    }
   ],
   "source": [
    "dvbydt2"
   ]
  },
  {
   "cell_type": "markdown",
   "metadata": {},
   "source": [
    "### Step 1: Differentiate dtheta by dt w.r.t nu"
   ]
  },
  {
   "cell_type": "code",
   "execution_count": 390,
   "metadata": {},
   "outputs": [],
   "source": [
    "# use higher order chain rule from wikipedia\n",
    "ddthetabyddt = ddthetabyddnu*(dnubydt2)**2 + dthetabydnu*ddnubyddt"
   ]
  },
  {
   "cell_type": "code",
   "execution_count": 391,
   "metadata": {},
   "outputs": [
    {
     "data": {
      "text/latex": [
       "$\\displaystyle - \\frac{8 \\pi^{2} e \\left(1 - e^{2}\\right) \\left(e \\cos{\\left(v \\right)} + 1\\right)^{3} \\sin{\\left(v \\right)} \\cos{\\left(i \\right)}}{T^{2} \\left(\\sin^{2}{\\left(v + w \\right)} \\cos^{2}{\\left(i \\right)} + \\cos^{2}{\\left(v + w \\right)}\\right) \\left(e^{4} - 2 e^{2} + 1\\right)^{2}} + \\frac{4 \\pi^{2} \\left(1 - e^{2}\\right) \\left(e \\cos{\\left(v \\right)} + 1\\right)^{4} \\left(- 2 \\sin{\\left(v + w \\right)} \\cos^{2}{\\left(i \\right)} \\cos{\\left(v + w \\right)} + 2 \\sin{\\left(v + w \\right)} \\cos{\\left(v + w \\right)}\\right) \\cos{\\left(i \\right)}}{T^{2} \\left(\\sin^{2}{\\left(v + w \\right)} \\cos^{2}{\\left(i \\right)} + \\cos^{2}{\\left(v + w \\right)}\\right)^{2} \\left(e^{4} - 2 e^{2} + 1\\right)^{2}}$"
      ],
      "text/plain": [
       "-8*pi**2*e*(1 - e**2)*(e*cos(v) + 1)**3*sin(v)*cos(i)/(T**2*(sin(v + w)**2*cos(i)**2 + cos(v + w)**2)*(e**4 - 2*e**2 + 1)**2) + 4*pi**2*(1 - e**2)*(e*cos(v) + 1)**4*(-2*sin(v + w)*cos(i)**2*cos(v + w) + 2*sin(v + w)*cos(v + w))*cos(i)/(T**2*(sin(v + w)**2*cos(i)**2 + cos(v + w)**2)**2*(e**4 - 2*e**2 + 1)**2)"
      ]
     },
     "execution_count": 391,
     "metadata": {},
     "output_type": "execute_result"
    }
   ],
   "source": [
    "ddthetabyddt"
   ]
  },
  {
   "cell_type": "code",
   "execution_count": 392,
   "metadata": {},
   "outputs": [
    {
     "name": "stdout",
     "output_type": "stream",
     "text": [
      "-8*pi**2*e*(1 - e**2)*(e*cos(v) + 1)**3*sin(v)*cos(i)/(T**2*(sin(v + w)**2*cos(i)**2 + cos(v + w)**2)*(e**4 - 2*e**2 + 1)**2) + 4*pi**2*(1 - e**2)*(e*cos(v) + 1)**4*(-2*sin(v + w)*cos(i)**2*cos(v + w) + 2*sin(v + w)*cos(v + w))*cos(i)/(T**2*(sin(v + w)**2*cos(i)**2 + cos(v + w)**2)**2*(e**4 - 2*e**2 + 1)**2)\n"
     ]
    }
   ],
   "source": [
    "print(ddthetabyddt)"
   ]
  },
  {
   "cell_type": "markdown",
   "metadata": {},
   "source": [
    "### Step 2: Remove as many non-nu components as possible"
   ]
  },
  {
   "cell_type": "code",
   "execution_count": 393,
   "metadata": {},
   "outputs": [],
   "source": [
    "out2 = sp.simplify(ddthetabyddt*T**2*(e**4-2*e**2+1)**2/2/sp.pi**2/sp.sqrt(1-e**2)**2/2/2/sp.cos(inc)*(sp.sin(v+w)**2*sp.cos(inc)**2 + sp.cos(v+w)**2)**2/(e*sp.cos(v)+1)**3)"
   ]
  },
  {
   "cell_type": "code",
   "execution_count": 394,
   "metadata": {},
   "outputs": [
    {
     "data": {
      "text/latex": [
       "$\\displaystyle - e \\left(\\sin^{2}{\\left(v + w \\right)} \\cos^{2}{\\left(i \\right)} + \\cos^{2}{\\left(v + w \\right)}\\right) \\sin{\\left(v \\right)} + \\left(e \\cos{\\left(v \\right)} + 1\\right) \\sin^{2}{\\left(i \\right)} \\sin{\\left(v + w \\right)} \\cos{\\left(v + w \\right)}$"
      ],
      "text/plain": [
       "-e*(sin(v + w)**2*cos(i)**2 + cos(v + w)**2)*sin(v) + (e*cos(v) + 1)*sin(i)**2*sin(v + w)*cos(v + w)"
      ]
     },
     "execution_count": 394,
     "metadata": {},
     "output_type": "execute_result"
    }
   ],
   "source": [
    "out2"
   ]
  },
  {
   "cell_type": "markdown",
   "metadata": {},
   "source": [
    "### Step 3: Expand v+w terms and full expression"
   ]
  },
  {
   "cell_type": "code",
   "execution_count": 395,
   "metadata": {},
   "outputs": [],
   "source": [
    "out3 = sp.expand(out2.subs(sp.cos(w+v),cosvpw).subs(sp.sin(w+v),sinvpw).subs(sp.sin(v),sinv).subs(sp.cos(v),x))"
   ]
  },
  {
   "cell_type": "code",
   "execution_count": 396,
   "metadata": {},
   "outputs": [
    {
     "data": {
      "text/latex": [
       "$\\displaystyle 2 e x^{3} \\sin^{2}{\\left(i \\right)} \\sin{\\left(w \\right)} \\cos{\\left(w \\right)} + 2 e x^{3} \\sin{\\left(w \\right)} \\cos^{2}{\\left(i \\right)} \\cos{\\left(w \\right)} - 2 e x^{3} \\sin{\\left(w \\right)} \\cos{\\left(w \\right)} - e x^{2} \\sqrt{1 - x^{2}} \\sin^{2}{\\left(i \\right)} \\sin^{2}{\\left(w \\right)} + e x^{2} \\sqrt{1 - x^{2}} \\sin^{2}{\\left(i \\right)} \\cos^{2}{\\left(w \\right)} - e x^{2} \\sqrt{1 - x^{2}} \\sin^{2}{\\left(w \\right)} \\cos^{2}{\\left(i \\right)} + e x^{2} \\sqrt{1 - x^{2}} \\sin^{2}{\\left(w \\right)} + e x^{2} \\sqrt{1 - x^{2}} \\cos^{2}{\\left(i \\right)} \\cos^{2}{\\left(w \\right)} - e x^{2} \\sqrt{1 - x^{2}} \\cos^{2}{\\left(w \\right)} - e x \\sin^{2}{\\left(i \\right)} \\sin{\\left(w \\right)} \\cos{\\left(w \\right)} - 2 e x \\sin{\\left(w \\right)} \\cos^{2}{\\left(i \\right)} \\cos{\\left(w \\right)} + 2 e x \\sin{\\left(w \\right)} \\cos{\\left(w \\right)} - e \\sqrt{1 - x^{2}} \\sin^{2}{\\left(w \\right)} - e \\sqrt{1 - x^{2}} \\cos^{2}{\\left(i \\right)} \\cos^{2}{\\left(w \\right)} + 2 x^{2} \\sin^{2}{\\left(i \\right)} \\sin{\\left(w \\right)} \\cos{\\left(w \\right)} - x \\sqrt{1 - x^{2}} \\sin^{2}{\\left(i \\right)} \\sin^{2}{\\left(w \\right)} + x \\sqrt{1 - x^{2}} \\sin^{2}{\\left(i \\right)} \\cos^{2}{\\left(w \\right)} - \\sin^{2}{\\left(i \\right)} \\sin{\\left(w \\right)} \\cos{\\left(w \\right)}$"
      ],
      "text/plain": [
       "2*e*x**3*sin(i)**2*sin(w)*cos(w) + 2*e*x**3*sin(w)*cos(i)**2*cos(w) - 2*e*x**3*sin(w)*cos(w) - e*x**2*sqrt(1 - x**2)*sin(i)**2*sin(w)**2 + e*x**2*sqrt(1 - x**2)*sin(i)**2*cos(w)**2 - e*x**2*sqrt(1 - x**2)*sin(w)**2*cos(i)**2 + e*x**2*sqrt(1 - x**2)*sin(w)**2 + e*x**2*sqrt(1 - x**2)*cos(i)**2*cos(w)**2 - e*x**2*sqrt(1 - x**2)*cos(w)**2 - e*x*sin(i)**2*sin(w)*cos(w) - 2*e*x*sin(w)*cos(i)**2*cos(w) + 2*e*x*sin(w)*cos(w) - e*sqrt(1 - x**2)*sin(w)**2 - e*sqrt(1 - x**2)*cos(i)**2*cos(w)**2 + 2*x**2*sin(i)**2*sin(w)*cos(w) - x*sqrt(1 - x**2)*sin(i)**2*sin(w)**2 + x*sqrt(1 - x**2)*sin(i)**2*cos(w)**2 - sin(i)**2*sin(w)*cos(w)"
      ]
     },
     "execution_count": 396,
     "metadata": {},
     "output_type": "execute_result"
    }
   ],
   "source": [
    "out3"
   ]
  },
  {
   "cell_type": "code",
   "execution_count": 397,
   "metadata": {},
   "outputs": [],
   "source": [
    "out3 = sp.simplify(out3) #reduces an x^3 term"
   ]
  },
  {
   "cell_type": "code",
   "execution_count": 398,
   "metadata": {},
   "outputs": [
    {
     "data": {
      "text/latex": [
       "$\\displaystyle e x \\sin^{2}{\\left(i \\right)} \\sin{\\left(w \\right)} \\cos{\\left(w \\right)} - e \\sqrt{1 - x^{2}} \\sin^{2}{\\left(i \\right)} \\sin^{2}{\\left(w \\right)} + e \\sqrt{1 - x^{2}} \\sin^{2}{\\left(i \\right)} - e \\sqrt{1 - x^{2}} + 2 x^{2} \\sin^{2}{\\left(i \\right)} \\sin{\\left(w \\right)} \\cos{\\left(w \\right)} - 2 x \\sqrt{1 - x^{2}} \\sin^{2}{\\left(i \\right)} \\sin^{2}{\\left(w \\right)} + x \\sqrt{1 - x^{2}} \\sin^{2}{\\left(i \\right)} - \\sin^{2}{\\left(i \\right)} \\sin{\\left(w \\right)} \\cos{\\left(w \\right)}$"
      ],
      "text/plain": [
       "e*x*sin(i)**2*sin(w)*cos(w) - e*sqrt(1 - x**2)*sin(i)**2*sin(w)**2 + e*sqrt(1 - x**2)*sin(i)**2 - e*sqrt(1 - x**2) + 2*x**2*sin(i)**2*sin(w)*cos(w) - 2*x*sqrt(1 - x**2)*sin(i)**2*sin(w)**2 + x*sqrt(1 - x**2)*sin(i)**2 - sin(i)**2*sin(w)*cos(w)"
      ]
     },
     "execution_count": 398,
     "metadata": {},
     "output_type": "execute_result"
    }
   ],
   "source": [
    "out3"
   ]
  },
  {
   "cell_type": "markdown",
   "metadata": {},
   "source": [
    "### Step 4: Solve for sqrt(1-x^2) coeff to square both sides"
   ]
  },
  {
   "cell_type": "code",
   "execution_count": 399,
   "metadata": {},
   "outputs": [],
   "source": [
    "out4_poly = sp.Poly(out3,sp.sqrt(1-x**2))"
   ]
  },
  {
   "cell_type": "code",
   "execution_count": 400,
   "metadata": {},
   "outputs": [],
   "source": [
    "out4 = out4_poly.coeffs()[0]**2 - out4_poly.coeffs()[0]**2*x**2 - out4_poly.coeffs()[1]**2 #ok"
   ]
  },
  {
   "cell_type": "code",
   "execution_count": 401,
   "metadata": {},
   "outputs": [],
   "source": [
    "out4 = sp.expand(out4)"
   ]
  },
  {
   "cell_type": "code",
   "execution_count": 402,
   "metadata": {},
   "outputs": [
    {
     "data": {
      "text/latex": [
       "$\\displaystyle - e^{2} x^{2} \\sin^{4}{\\left(i \\right)} \\sin^{4}{\\left(w \\right)} - e^{2} x^{2} \\sin^{4}{\\left(i \\right)} \\sin^{2}{\\left(w \\right)} \\cos^{2}{\\left(w \\right)} + 2 e^{2} x^{2} \\sin^{4}{\\left(i \\right)} \\sin^{2}{\\left(w \\right)} - e^{2} x^{2} \\sin^{4}{\\left(i \\right)} - 2 e^{2} x^{2} \\sin^{2}{\\left(i \\right)} \\sin^{2}{\\left(w \\right)} + 2 e^{2} x^{2} \\sin^{2}{\\left(i \\right)} - e^{2} x^{2} + e^{2} \\sin^{4}{\\left(i \\right)} \\sin^{4}{\\left(w \\right)} - 2 e^{2} \\sin^{4}{\\left(i \\right)} \\sin^{2}{\\left(w \\right)} + e^{2} \\sin^{4}{\\left(i \\right)} + 2 e^{2} \\sin^{2}{\\left(i \\right)} \\sin^{2}{\\left(w \\right)} - 2 e^{2} \\sin^{2}{\\left(i \\right)} + e^{2} - 4 e x^{3} \\sin^{4}{\\left(i \\right)} \\sin^{4}{\\left(w \\right)} - 4 e x^{3} \\sin^{4}{\\left(i \\right)} \\sin^{2}{\\left(w \\right)} \\cos^{2}{\\left(w \\right)} + 6 e x^{3} \\sin^{4}{\\left(i \\right)} \\sin^{2}{\\left(w \\right)} - 2 e x^{3} \\sin^{4}{\\left(i \\right)} - 4 e x^{3} \\sin^{2}{\\left(i \\right)} \\sin^{2}{\\left(w \\right)} + 2 e x^{3} \\sin^{2}{\\left(i \\right)} + 4 e x \\sin^{4}{\\left(i \\right)} \\sin^{4}{\\left(w \\right)} + 2 e x \\sin^{4}{\\left(i \\right)} \\sin^{2}{\\left(w \\right)} \\cos^{2}{\\left(w \\right)} - 6 e x \\sin^{4}{\\left(i \\right)} \\sin^{2}{\\left(w \\right)} + 2 e x \\sin^{4}{\\left(i \\right)} + 4 e x \\sin^{2}{\\left(i \\right)} \\sin^{2}{\\left(w \\right)} - 2 e x \\sin^{2}{\\left(i \\right)} - 4 x^{4} \\sin^{4}{\\left(i \\right)} \\sin^{4}{\\left(w \\right)} - 4 x^{4} \\sin^{4}{\\left(i \\right)} \\sin^{2}{\\left(w \\right)} \\cos^{2}{\\left(w \\right)} + 4 x^{4} \\sin^{4}{\\left(i \\right)} \\sin^{2}{\\left(w \\right)} - x^{4} \\sin^{4}{\\left(i \\right)} + 4 x^{2} \\sin^{4}{\\left(i \\right)} \\sin^{4}{\\left(w \\right)} + 4 x^{2} \\sin^{4}{\\left(i \\right)} \\sin^{2}{\\left(w \\right)} \\cos^{2}{\\left(w \\right)} - 4 x^{2} \\sin^{4}{\\left(i \\right)} \\sin^{2}{\\left(w \\right)} + x^{2} \\sin^{4}{\\left(i \\right)} - \\sin^{4}{\\left(i \\right)} \\sin^{2}{\\left(w \\right)} \\cos^{2}{\\left(w \\right)}$"
      ],
      "text/plain": [
       "-e**2*x**2*sin(i)**4*sin(w)**4 - e**2*x**2*sin(i)**4*sin(w)**2*cos(w)**2 + 2*e**2*x**2*sin(i)**4*sin(w)**2 - e**2*x**2*sin(i)**4 - 2*e**2*x**2*sin(i)**2*sin(w)**2 + 2*e**2*x**2*sin(i)**2 - e**2*x**2 + e**2*sin(i)**4*sin(w)**4 - 2*e**2*sin(i)**4*sin(w)**2 + e**2*sin(i)**4 + 2*e**2*sin(i)**2*sin(w)**2 - 2*e**2*sin(i)**2 + e**2 - 4*e*x**3*sin(i)**4*sin(w)**4 - 4*e*x**3*sin(i)**4*sin(w)**2*cos(w)**2 + 6*e*x**3*sin(i)**4*sin(w)**2 - 2*e*x**3*sin(i)**4 - 4*e*x**3*sin(i)**2*sin(w)**2 + 2*e*x**3*sin(i)**2 + 4*e*x*sin(i)**4*sin(w)**4 + 2*e*x*sin(i)**4*sin(w)**2*cos(w)**2 - 6*e*x*sin(i)**4*sin(w)**2 + 2*e*x*sin(i)**4 + 4*e*x*sin(i)**2*sin(w)**2 - 2*e*x*sin(i)**2 - 4*x**4*sin(i)**4*sin(w)**4 - 4*x**4*sin(i)**4*sin(w)**2*cos(w)**2 + 4*x**4*sin(i)**4*sin(w)**2 - x**4*sin(i)**4 + 4*x**2*sin(i)**4*sin(w)**4 + 4*x**2*sin(i)**4*sin(w)**2*cos(w)**2 - 4*x**2*sin(i)**4*sin(w)**2 + x**2*sin(i)**4 - sin(i)**4*sin(w)**2*cos(w)**2"
      ]
     },
     "execution_count": 402,
     "metadata": {},
     "output_type": "execute_result"
    }
   ],
   "source": [
    "out4"
   ]
  },
  {
   "cell_type": "markdown",
   "metadata": {},
   "source": [
    "### Step 5: Isolate polynomial coefficients of x"
   ]
  },
  {
   "cell_type": "code",
   "execution_count": 403,
   "metadata": {},
   "outputs": [],
   "source": [
    "out5_poly = sp.Poly(out4,x)"
   ]
  },
  {
   "cell_type": "code",
   "execution_count": 404,
   "metadata": {},
   "outputs": [
    {
     "data": {
      "text/latex": [
       "$\\displaystyle - \\sin^{4}{\\left(i \\right)}$"
      ],
      "text/plain": [
       "-sin(i)**4"
      ]
     },
     "execution_count": 404,
     "metadata": {},
     "output_type": "execute_result"
    }
   ],
   "source": [
    "sp.simplify(out5_poly.coeffs()[0])"
   ]
  },
  {
   "cell_type": "code",
   "execution_count": 405,
   "metadata": {},
   "outputs": [
    {
     "name": "stdout",
     "output_type": "stream",
     "text": [
      "-sin(i)**4\n"
     ]
    }
   ],
   "source": [
    "print(sp.simplify(out5_poly.coeffs()[0]))"
   ]
  },
  {
   "cell_type": "code",
   "execution_count": 406,
   "metadata": {},
   "outputs": [
    {
     "data": {
      "text/latex": [
       "$\\displaystyle 2 e \\left(\\cos^{2}{\\left(i \\right)} \\cos^{2}{\\left(w \\right)} + \\cos^{2}{\\left(w \\right)} - 1\\right) \\sin^{2}{\\left(i \\right)}$"
      ],
      "text/plain": [
       "2*e*(cos(i)**2*cos(w)**2 + cos(w)**2 - 1)*sin(i)**2"
      ]
     },
     "execution_count": 406,
     "metadata": {},
     "output_type": "execute_result"
    }
   ],
   "source": [
    "sp.simplify(out5_poly.coeffs()[1])"
   ]
  },
  {
   "cell_type": "code",
   "execution_count": 407,
   "metadata": {},
   "outputs": [
    {
     "name": "stdout",
     "output_type": "stream",
     "text": [
      "2*e*(cos(i)**2*cos(w)**2 + cos(w)**2 - 1)*sin(i)**2\n"
     ]
    }
   ],
   "source": [
    "print(sp.simplify(out5_poly.coeffs()[1]))"
   ]
  },
  {
   "cell_type": "code",
   "execution_count": 408,
   "metadata": {},
   "outputs": [
    {
     "data": {
      "text/latex": [
       "$\\displaystyle - e^{2} \\cos^{4}{\\left(i \\right)} \\cos^{2}{\\left(w \\right)} + e^{2} \\cos^{2}{\\left(w \\right)} - e^{2} + \\cos^{4}{\\left(i \\right)} - 2 \\cos^{2}{\\left(i \\right)} + 1$"
      ],
      "text/plain": [
       "-e**2*cos(i)**4*cos(w)**2 + e**2*cos(w)**2 - e**2 + cos(i)**4 - 2*cos(i)**2 + 1"
      ]
     },
     "execution_count": 408,
     "metadata": {},
     "output_type": "execute_result"
    }
   ],
   "source": [
    "sp.simplify(out5_poly.coeffs()[2])"
   ]
  },
  {
   "cell_type": "code",
   "execution_count": 409,
   "metadata": {},
   "outputs": [
    {
     "name": "stdout",
     "output_type": "stream",
     "text": [
      "-e**2*cos(i)**4*cos(w)**2 + e**2*cos(w)**2 - e**2 + cos(i)**4 - 2*cos(i)**2 + 1\n"
     ]
    }
   ],
   "source": [
    "print(sp.simplify(out5_poly.coeffs()[2]))"
   ]
  },
  {
   "cell_type": "code",
   "execution_count": 410,
   "metadata": {},
   "outputs": [
    {
     "data": {
      "text/latex": [
       "$\\displaystyle 2 e \\left(\\sin^{2}{\\left(i \\right)} \\sin^{4}{\\left(w \\right)} - 2 \\sin^{2}{\\left(i \\right)} \\sin^{2}{\\left(w \\right)} + \\sin^{2}{\\left(i \\right)} + 2 \\sin^{2}{\\left(w \\right)} - 1\\right) \\sin^{2}{\\left(i \\right)}$"
      ],
      "text/plain": [
       "2*e*(sin(i)**2*sin(w)**4 - 2*sin(i)**2*sin(w)**2 + sin(i)**2 + 2*sin(w)**2 - 1)*sin(i)**2"
      ]
     },
     "execution_count": 410,
     "metadata": {},
     "output_type": "execute_result"
    }
   ],
   "source": [
    "sp.simplify(out5_poly.coeffs()[3])"
   ]
  },
  {
   "cell_type": "code",
   "execution_count": 411,
   "metadata": {},
   "outputs": [
    {
     "name": "stdout",
     "output_type": "stream",
     "text": [
      "2*e*(sin(i)**2*sin(w)**4 - 2*sin(i)**2*sin(w)**2 + sin(i)**2 + 2*sin(w)**2 - 1)*sin(i)**2\n"
     ]
    }
   ],
   "source": [
    "print(sp.simplify(out5_poly.coeffs()[3]))"
   ]
  },
  {
   "cell_type": "code",
   "execution_count": 412,
   "metadata": {},
   "outputs": [
    {
     "data": {
      "text/latex": [
       "$\\displaystyle e^{2} \\sin^{4}{\\left(i \\right)} \\sin^{4}{\\left(w \\right)} - 2 e^{2} \\sin^{4}{\\left(i \\right)} \\sin^{2}{\\left(w \\right)} + e^{2} \\sin^{4}{\\left(i \\right)} + 2 e^{2} \\sin^{2}{\\left(i \\right)} \\sin^{2}{\\left(w \\right)} - 2 e^{2} \\sin^{2}{\\left(i \\right)} + e^{2} - \\frac{\\left(1 - \\cos{\\left(2 i \\right)}\\right)^{2} \\left(1 - \\cos{\\left(4 w \\right)}\\right)}{32}$"
      ],
      "text/plain": [
       "e**2*sin(i)**4*sin(w)**4 - 2*e**2*sin(i)**4*sin(w)**2 + e**2*sin(i)**4 + 2*e**2*sin(i)**2*sin(w)**2 - 2*e**2*sin(i)**2 + e**2 - (1 - cos(2*i))**2*(1 - cos(4*w))/32"
      ]
     },
     "execution_count": 412,
     "metadata": {},
     "output_type": "execute_result"
    }
   ],
   "source": [
    "sp.simplify(out5_poly.coeffs()[4])"
   ]
  },
  {
   "cell_type": "code",
   "execution_count": 413,
   "metadata": {},
   "outputs": [
    {
     "name": "stdout",
     "output_type": "stream",
     "text": [
      "e**2*sin(i)**4*sin(w)**4 - 2*e**2*sin(i)**4*sin(w)**2 + e**2*sin(i)**4 + 2*e**2*sin(i)**2*sin(w)**2 - 2*e**2*sin(i)**2 + e**2 - (1 - cos(2*i))**2*(1 - cos(4*w))/32\n"
     ]
    }
   ],
   "source": [
    "print(sp.simplify(out5_poly.coeffs()[4]))"
   ]
  },
  {
   "cell_type": "code",
   "execution_count": 414,
   "metadata": {},
   "outputs": [
    {
     "data": {
      "text/plain": [
       "5"
      ]
     },
     "execution_count": 414,
     "metadata": {},
     "output_type": "execute_result"
    }
   ],
   "source": [
    "len(out5_poly.coeffs())"
   ]
  },
  {
   "cell_type": "code",
   "execution_count": null,
   "metadata": {},
   "outputs": [],
   "source": []
  },
  {
   "cell_type": "code",
   "execution_count": null,
   "metadata": {},
   "outputs": [],
   "source": []
  },
  {
   "cell_type": "code",
   "execution_count": null,
   "metadata": {},
   "outputs": [],
   "source": []
  },
  {
   "cell_type": "markdown",
   "metadata": {},
   "source": [
    "# Calculate ddTheta by dtdv"
   ]
  },
  {
   "cell_type": "code",
   "execution_count": 477,
   "metadata": {},
   "outputs": [],
   "source": [
    "ddthetabydtdv = sp.diff(dthetabydt,v)"
   ]
  },
  {
   "cell_type": "code",
   "execution_count": 478,
   "metadata": {},
   "outputs": [
    {
     "data": {
      "text/latex": [
       "$\\displaystyle \\frac{4 \\pi \\sqrt{1 - e^{2}} \\left(e \\cos{\\left(v \\right)} + 1\\right) \\left(- e \\left(\\left(- \\sin{\\left(v \\right)} \\sin{\\left(w \\right)} + \\cos{\\left(v \\right)} \\cos{\\left(w \\right)}\\right)^{2} + \\left(\\sin{\\left(v \\right)} \\cos{\\left(w \\right)} + \\sin{\\left(w \\right)} \\cos{\\left(v \\right)}\\right)^{2} \\cos^{2}{\\left(i \\right)}\\right) \\sin{\\left(v \\right)} + \\left(e \\cos{\\left(v \\right)} + 1\\right) \\left(- \\sin{\\left(v \\right)} \\sin{\\left(w \\right)} + \\cos{\\left(v \\right)} \\cos{\\left(w \\right)}\\right) \\left(\\sin{\\left(v \\right)} \\cos{\\left(w \\right)} + \\sin{\\left(w \\right)} \\cos{\\left(v \\right)}\\right) \\sin^{2}{\\left(i \\right)}\\right) \\cos{\\left(i \\right)}}{T \\left(\\left(- \\sin{\\left(v \\right)} \\sin{\\left(w \\right)} + \\cos{\\left(v \\right)} \\cos{\\left(w \\right)}\\right)^{2} + \\left(\\sin{\\left(v \\right)} \\cos{\\left(w \\right)} + \\sin{\\left(w \\right)} \\cos{\\left(v \\right)}\\right)^{2} \\cos^{2}{\\left(i \\right)}\\right)^{2} \\left(e^{4} - 2 e^{2} + 1\\right)}$"
      ],
      "text/plain": [
       "4*pi*sqrt(1 - e**2)*(e*cos(v) + 1)*(-e*((-sin(v)*sin(w) + cos(v)*cos(w))**2 + (sin(v)*cos(w) + sin(w)*cos(v))**2*cos(i)**2)*sin(v) + (e*cos(v) + 1)*(-sin(v)*sin(w) + cos(v)*cos(w))*(sin(v)*cos(w) + sin(w)*cos(v))*sin(i)**2)*cos(i)/(T*((-sin(v)*sin(w) + cos(v)*cos(w))**2 + (sin(v)*cos(w) + sin(w)*cos(v))**2*cos(i)**2)**2*(e**4 - 2*e**2 + 1))"
      ]
     },
     "execution_count": 478,
     "metadata": {},
     "output_type": "execute_result"
    }
   ],
   "source": [
    "sp.simplify(ddthetabydtdv).subs(sp.cos(w+v),cosvpw).subs(sp.sin(w+v),sinvpw)"
   ]
  },
  {
   "cell_type": "code",
   "execution_count": null,
   "metadata": {},
   "outputs": [],
   "source": []
  },
  {
   "cell_type": "code",
   "execution_count": 479,
   "metadata": {},
   "outputs": [],
   "source": [
    "denominator = sp.fraction(sp.simplify(ddthetabydtdv).subs(sp.cos(w+v),cosvpw).subs(sp.sin(w+v),sinvpw))[1]"
   ]
  },
  {
   "cell_type": "code",
   "execution_count": 480,
   "metadata": {},
   "outputs": [
    {
     "data": {
      "text/latex": [
       "$\\displaystyle - 4 \\pi e^{2} \\sqrt{1 - e^{2}} \\sin^{2}{\\left(i \\right)} \\sin^{2}{\\left(v \\right)} \\sin{\\left(w \\right)} \\cos{\\left(i \\right)} \\cos^{2}{\\left(v \\right)} \\cos{\\left(w \\right)} - 4 \\pi e^{2} \\sqrt{1 - e^{2}} \\sin^{2}{\\left(i \\right)} \\sin{\\left(v \\right)} \\sin^{2}{\\left(w \\right)} \\cos{\\left(i \\right)} \\cos^{3}{\\left(v \\right)} + 4 \\pi e^{2} \\sqrt{1 - e^{2}} \\sin^{2}{\\left(i \\right)} \\sin{\\left(v \\right)} \\cos{\\left(i \\right)} \\cos^{3}{\\left(v \\right)} \\cos^{2}{\\left(w \\right)} + 4 \\pi e^{2} \\sqrt{1 - e^{2}} \\sin^{2}{\\left(i \\right)} \\sin{\\left(w \\right)} \\cos{\\left(i \\right)} \\cos^{4}{\\left(v \\right)} \\cos{\\left(w \\right)} - 4 \\pi e^{2} \\sqrt{1 - e^{2}} \\sin^{3}{\\left(v \\right)} \\sin^{2}{\\left(w \\right)} \\cos{\\left(i \\right)} \\cos{\\left(v \\right)} - 4 \\pi e^{2} \\sqrt{1 - e^{2}} \\sin^{3}{\\left(v \\right)} \\cos^{3}{\\left(i \\right)} \\cos{\\left(v \\right)} \\cos^{2}{\\left(w \\right)} - 8 \\pi e^{2} \\sqrt{1 - e^{2}} \\sin^{2}{\\left(v \\right)} \\sin{\\left(w \\right)} \\cos^{3}{\\left(i \\right)} \\cos^{2}{\\left(v \\right)} \\cos{\\left(w \\right)} + 8 \\pi e^{2} \\sqrt{1 - e^{2}} \\sin^{2}{\\left(v \\right)} \\sin{\\left(w \\right)} \\cos{\\left(i \\right)} \\cos^{2}{\\left(v \\right)} \\cos{\\left(w \\right)} - 4 \\pi e^{2} \\sqrt{1 - e^{2}} \\sin{\\left(v \\right)} \\sin^{2}{\\left(w \\right)} \\cos^{3}{\\left(i \\right)} \\cos^{3}{\\left(v \\right)} - 4 \\pi e^{2} \\sqrt{1 - e^{2}} \\sin{\\left(v \\right)} \\cos{\\left(i \\right)} \\cos^{3}{\\left(v \\right)} \\cos^{2}{\\left(w \\right)} - 8 \\pi e \\sqrt{1 - e^{2}} \\sin^{2}{\\left(i \\right)} \\sin^{2}{\\left(v \\right)} \\sin{\\left(w \\right)} \\cos{\\left(i \\right)} \\cos{\\left(v \\right)} \\cos{\\left(w \\right)} - 8 \\pi e \\sqrt{1 - e^{2}} \\sin^{2}{\\left(i \\right)} \\sin{\\left(v \\right)} \\sin^{2}{\\left(w \\right)} \\cos{\\left(i \\right)} \\cos^{2}{\\left(v \\right)} + 8 \\pi e \\sqrt{1 - e^{2}} \\sin^{2}{\\left(i \\right)} \\sin{\\left(v \\right)} \\cos{\\left(i \\right)} \\cos^{2}{\\left(v \\right)} \\cos^{2}{\\left(w \\right)} + 8 \\pi e \\sqrt{1 - e^{2}} \\sin^{2}{\\left(i \\right)} \\sin{\\left(w \\right)} \\cos{\\left(i \\right)} \\cos^{3}{\\left(v \\right)} \\cos{\\left(w \\right)} - 4 \\pi e \\sqrt{1 - e^{2}} \\sin^{3}{\\left(v \\right)} \\sin^{2}{\\left(w \\right)} \\cos{\\left(i \\right)} - 4 \\pi e \\sqrt{1 - e^{2}} \\sin^{3}{\\left(v \\right)} \\cos^{3}{\\left(i \\right)} \\cos^{2}{\\left(w \\right)} - 8 \\pi e \\sqrt{1 - e^{2}} \\sin^{2}{\\left(v \\right)} \\sin{\\left(w \\right)} \\cos^{3}{\\left(i \\right)} \\cos{\\left(v \\right)} \\cos{\\left(w \\right)} + 8 \\pi e \\sqrt{1 - e^{2}} \\sin^{2}{\\left(v \\right)} \\sin{\\left(w \\right)} \\cos{\\left(i \\right)} \\cos{\\left(v \\right)} \\cos{\\left(w \\right)} - 4 \\pi e \\sqrt{1 - e^{2}} \\sin{\\left(v \\right)} \\sin^{2}{\\left(w \\right)} \\cos^{3}{\\left(i \\right)} \\cos^{2}{\\left(v \\right)} - 4 \\pi e \\sqrt{1 - e^{2}} \\sin{\\left(v \\right)} \\cos{\\left(i \\right)} \\cos^{2}{\\left(v \\right)} \\cos^{2}{\\left(w \\right)} - 4 \\pi \\sqrt{1 - e^{2}} \\sin^{2}{\\left(i \\right)} \\sin^{2}{\\left(v \\right)} \\sin{\\left(w \\right)} \\cos{\\left(i \\right)} \\cos{\\left(w \\right)} - 4 \\pi \\sqrt{1 - e^{2}} \\sin^{2}{\\left(i \\right)} \\sin{\\left(v \\right)} \\sin^{2}{\\left(w \\right)} \\cos{\\left(i \\right)} \\cos{\\left(v \\right)} + 4 \\pi \\sqrt{1 - e^{2}} \\sin^{2}{\\left(i \\right)} \\sin{\\left(v \\right)} \\cos{\\left(i \\right)} \\cos{\\left(v \\right)} \\cos^{2}{\\left(w \\right)} + 4 \\pi \\sqrt{1 - e^{2}} \\sin^{2}{\\left(i \\right)} \\sin{\\left(w \\right)} \\cos{\\left(i \\right)} \\cos^{2}{\\left(v \\right)} \\cos{\\left(w \\right)}$"
      ],
      "text/plain": [
       "-4*pi*e**2*sqrt(1 - e**2)*sin(i)**2*sin(v)**2*sin(w)*cos(i)*cos(v)**2*cos(w) - 4*pi*e**2*sqrt(1 - e**2)*sin(i)**2*sin(v)*sin(w)**2*cos(i)*cos(v)**3 + 4*pi*e**2*sqrt(1 - e**2)*sin(i)**2*sin(v)*cos(i)*cos(v)**3*cos(w)**2 + 4*pi*e**2*sqrt(1 - e**2)*sin(i)**2*sin(w)*cos(i)*cos(v)**4*cos(w) - 4*pi*e**2*sqrt(1 - e**2)*sin(v)**3*sin(w)**2*cos(i)*cos(v) - 4*pi*e**2*sqrt(1 - e**2)*sin(v)**3*cos(i)**3*cos(v)*cos(w)**2 - 8*pi*e**2*sqrt(1 - e**2)*sin(v)**2*sin(w)*cos(i)**3*cos(v)**2*cos(w) + 8*pi*e**2*sqrt(1 - e**2)*sin(v)**2*sin(w)*cos(i)*cos(v)**2*cos(w) - 4*pi*e**2*sqrt(1 - e**2)*sin(v)*sin(w)**2*cos(i)**3*cos(v)**3 - 4*pi*e**2*sqrt(1 - e**2)*sin(v)*cos(i)*cos(v)**3*cos(w)**2 - 8*pi*e*sqrt(1 - e**2)*sin(i)**2*sin(v)**2*sin(w)*cos(i)*cos(v)*cos(w) - 8*pi*e*sqrt(1 - e**2)*sin(i)**2*sin(v)*sin(w)**2*cos(i)*cos(v)**2 + 8*pi*e*sqrt(1 - e**2)*sin(i)**2*sin(v)*cos(i)*cos(v)**2*cos(w)**2 + 8*pi*e*sqrt(1 - e**2)*sin(i)**2*sin(w)*cos(i)*cos(v)**3*cos(w) - 4*pi*e*sqrt(1 - e**2)*sin(v)**3*sin(w)**2*cos(i) - 4*pi*e*sqrt(1 - e**2)*sin(v)**3*cos(i)**3*cos(w)**2 - 8*pi*e*sqrt(1 - e**2)*sin(v)**2*sin(w)*cos(i)**3*cos(v)*cos(w) + 8*pi*e*sqrt(1 - e**2)*sin(v)**2*sin(w)*cos(i)*cos(v)*cos(w) - 4*pi*e*sqrt(1 - e**2)*sin(v)*sin(w)**2*cos(i)**3*cos(v)**2 - 4*pi*e*sqrt(1 - e**2)*sin(v)*cos(i)*cos(v)**2*cos(w)**2 - 4*pi*sqrt(1 - e**2)*sin(i)**2*sin(v)**2*sin(w)*cos(i)*cos(w) - 4*pi*sqrt(1 - e**2)*sin(i)**2*sin(v)*sin(w)**2*cos(i)*cos(v) + 4*pi*sqrt(1 - e**2)*sin(i)**2*sin(v)*cos(i)*cos(v)*cos(w)**2 + 4*pi*sqrt(1 - e**2)*sin(i)**2*sin(w)*cos(i)*cos(v)**2*cos(w)"
      ]
     },
     "execution_count": 480,
     "metadata": {},
     "output_type": "execute_result"
    }
   ],
   "source": [
    "sp.expand(sp.simplify(ddthetabydtdv).subs(sp.cos(w+v),cosvpw).subs(sp.sin(w+v),sinvpw)*denominator) #this confirms the denominator is common amoung all terms"
   ]
  },
  {
   "cell_type": "code",
   "execution_count": 481,
   "metadata": {},
   "outputs": [],
   "source": [
    "#sp.expand(sp.simplify(ddthetabydtdv).subs(sp.cos(w+v),cosvpw).subs(sp.sin(w+v),sinvpw))"
   ]
  },
  {
   "cell_type": "code",
   "execution_count": 482,
   "metadata": {},
   "outputs": [],
   "source": [
    "# We know a zero of (ecos(v)+1), e(cos(v)+1/e), meaning the zero occurs at -1/e"
   ]
  },
  {
   "cell_type": "code",
   "execution_count": 483,
   "metadata": {},
   "outputs": [],
   "source": [
    "numerator = sp.fraction(sp.simplify(ddthetabydtdv).subs(sp.cos(w+v),cosvpw).subs(sp.sin(w+v),sinvpw))[0]"
   ]
  },
  {
   "cell_type": "code",
   "execution_count": 484,
   "metadata": {},
   "outputs": [],
   "source": [
    "numeratorExpanded = sp.expand(numerator).subs(sp.sin(v),sinv).subs(sp.cos(v),x)"
   ]
  },
  {
   "cell_type": "code",
   "execution_count": 485,
   "metadata": {},
   "outputs": [],
   "source": [
    "ddthetabydtdvPoly = sp.Poly(numeratorExpanded,sp.sqrt(1-x**2))"
   ]
  },
  {
   "cell_type": "code",
   "execution_count": null,
   "metadata": {},
   "outputs": [],
   "source": []
  },
  {
   "cell_type": "code",
   "execution_count": 486,
   "metadata": {},
   "outputs": [],
   "source": [
    "ddthetabydtdvPolyEq0Quartic = ddthetabydtdvPoly.coeffs()[0]**2 - ddthetabydtdvPoly.coeffs()[0]**2*x**2 - ddthetabydtdvPoly.coeffs()[1]**2 #ok"
   ]
  },
  {
   "cell_type": "code",
   "execution_count": 487,
   "metadata": {},
   "outputs": [
    {
     "data": {
      "text/latex": [
       "$\\displaystyle 16 \\pi^{2} e^{6} x^{8} \\sin^{4}{\\left(i \\right)} \\sin^{4}{\\left(w \\right)} \\cos^{2}{\\left(i \\right)} + 32 \\pi^{2} e^{6} x^{8} \\sin^{4}{\\left(i \\right)} \\sin^{2}{\\left(w \\right)} \\cos^{2}{\\left(i \\right)} \\cos^{2}{\\left(w \\right)} + 16 \\pi^{2} e^{6} x^{8} \\sin^{4}{\\left(i \\right)} \\cos^{2}{\\left(i \\right)} \\cos^{4}{\\left(w \\right)} + 32 \\pi^{2} e^{6} x^{8} \\sin^{2}{\\left(i \\right)} \\sin^{4}{\\left(w \\right)} \\cos^{4}{\\left(i \\right)} - 32 \\pi^{2} e^{6} x^{8} \\sin^{2}{\\left(i \\right)} \\sin^{4}{\\left(w \\right)} \\cos^{2}{\\left(i \\right)} + 64 \\pi^{2} e^{6} x^{8} \\sin^{2}{\\left(i \\right)} \\sin^{2}{\\left(w \\right)} \\cos^{4}{\\left(i \\right)} \\cos^{2}{\\left(w \\right)} - 64 \\pi^{2} e^{6} x^{8} \\sin^{2}{\\left(i \\right)} \\sin^{2}{\\left(w \\right)} \\cos^{2}{\\left(i \\right)} \\cos^{2}{\\left(w \\right)} + 32 \\pi^{2} e^{6} x^{8} \\sin^{2}{\\left(i \\right)} \\cos^{4}{\\left(i \\right)} \\cos^{4}{\\left(w \\right)} - 32 \\pi^{2} e^{6} x^{8} \\sin^{2}{\\left(i \\right)} \\cos^{2}{\\left(i \\right)} \\cos^{4}{\\left(w \\right)} + 16 \\pi^{2} e^{6} x^{8} \\sin^{4}{\\left(w \\right)} \\cos^{6}{\\left(i \\right)} - 32 \\pi^{2} e^{6} x^{8} \\sin^{4}{\\left(w \\right)} \\cos^{4}{\\left(i \\right)} + 16 \\pi^{2} e^{6} x^{8} \\sin^{4}{\\left(w \\right)} \\cos^{2}{\\left(i \\right)} + 32 \\pi^{2} e^{6} x^{8} \\sin^{2}{\\left(w \\right)} \\cos^{6}{\\left(i \\right)} \\cos^{2}{\\left(w \\right)} - 64 \\pi^{2} e^{6} x^{8} \\sin^{2}{\\left(w \\right)} \\cos^{4}{\\left(i \\right)} \\cos^{2}{\\left(w \\right)} + 32 \\pi^{2} e^{6} x^{8} \\sin^{2}{\\left(w \\right)} \\cos^{2}{\\left(i \\right)} \\cos^{2}{\\left(w \\right)} + 16 \\pi^{2} e^{6} x^{8} \\cos^{6}{\\left(i \\right)} \\cos^{4}{\\left(w \\right)} - 32 \\pi^{2} e^{6} x^{8} \\cos^{4}{\\left(i \\right)} \\cos^{4}{\\left(w \\right)} + 16 \\pi^{2} e^{6} x^{8} \\cos^{2}{\\left(i \\right)} \\cos^{4}{\\left(w \\right)} - 16 \\pi^{2} e^{6} x^{6} \\sin^{4}{\\left(i \\right)} \\sin^{4}{\\left(w \\right)} \\cos^{2}{\\left(i \\right)} - 32 \\pi^{2} e^{6} x^{6} \\sin^{4}{\\left(i \\right)} \\sin^{2}{\\left(w \\right)} \\cos^{2}{\\left(i \\right)} \\cos^{2}{\\left(w \\right)} - 16 \\pi^{2} e^{6} x^{6} \\sin^{4}{\\left(i \\right)} \\cos^{2}{\\left(i \\right)} \\cos^{4}{\\left(w \\right)} - 32 \\pi^{2} e^{6} x^{6} \\sin^{2}{\\left(i \\right)} \\sin^{4}{\\left(w \\right)} \\cos^{4}{\\left(i \\right)} + 64 \\pi^{2} e^{6} x^{6} \\sin^{2}{\\left(i \\right)} \\sin^{4}{\\left(w \\right)} \\cos^{2}{\\left(i \\right)} - 96 \\pi^{2} e^{6} x^{6} \\sin^{2}{\\left(i \\right)} \\sin^{2}{\\left(w \\right)} \\cos^{4}{\\left(i \\right)} \\cos^{2}{\\left(w \\right)} + 96 \\pi^{2} e^{6} x^{6} \\sin^{2}{\\left(i \\right)} \\sin^{2}{\\left(w \\right)} \\cos^{2}{\\left(i \\right)} \\cos^{2}{\\left(w \\right)} - 64 \\pi^{2} e^{6} x^{6} \\sin^{2}{\\left(i \\right)} \\cos^{4}{\\left(i \\right)} \\cos^{4}{\\left(w \\right)} + 32 \\pi^{2} e^{6} x^{6} \\sin^{2}{\\left(i \\right)} \\cos^{2}{\\left(i \\right)} \\cos^{4}{\\left(w \\right)} - 16 \\pi^{2} e^{6} x^{6} \\sin^{4}{\\left(w \\right)} \\cos^{6}{\\left(i \\right)} + 64 \\pi^{2} e^{6} x^{6} \\sin^{4}{\\left(w \\right)} \\cos^{4}{\\left(i \\right)} - 48 \\pi^{2} e^{6} x^{6} \\sin^{4}{\\left(w \\right)} \\cos^{2}{\\left(i \\right)} - 64 \\pi^{2} e^{6} x^{6} \\sin^{2}{\\left(w \\right)} \\cos^{6}{\\left(i \\right)} \\cos^{2}{\\left(w \\right)} + 128 \\pi^{2} e^{6} x^{6} \\sin^{2}{\\left(w \\right)} \\cos^{4}{\\left(i \\right)} \\cos^{2}{\\left(w \\right)} - 64 \\pi^{2} e^{6} x^{6} \\sin^{2}{\\left(w \\right)} \\cos^{2}{\\left(i \\right)} \\cos^{2}{\\left(w \\right)} - 48 \\pi^{2} e^{6} x^{6} \\cos^{6}{\\left(i \\right)} \\cos^{4}{\\left(w \\right)} + 64 \\pi^{2} e^{6} x^{6} \\cos^{4}{\\left(i \\right)} \\cos^{4}{\\left(w \\right)} - 16 \\pi^{2} e^{6} x^{6} \\cos^{2}{\\left(i \\right)} \\cos^{4}{\\left(w \\right)} + 16 \\pi^{2} e^{6} x^{4} \\sin^{4}{\\left(i \\right)} \\sin^{2}{\\left(w \\right)} \\cos^{2}{\\left(i \\right)} \\cos^{2}{\\left(w \\right)} - 32 \\pi^{2} e^{6} x^{4} \\sin^{2}{\\left(i \\right)} \\sin^{4}{\\left(w \\right)} \\cos^{2}{\\left(i \\right)} + 32 \\pi^{2} e^{6} x^{4} \\sin^{2}{\\left(i \\right)} \\sin^{2}{\\left(w \\right)} \\cos^{4}{\\left(i \\right)} \\cos^{2}{\\left(w \\right)} - 32 \\pi^{2} e^{6} x^{4} \\sin^{2}{\\left(i \\right)} \\sin^{2}{\\left(w \\right)} \\cos^{2}{\\left(i \\right)} \\cos^{2}{\\left(w \\right)} + 32 \\pi^{2} e^{6} x^{4} \\sin^{2}{\\left(i \\right)} \\cos^{4}{\\left(i \\right)} \\cos^{4}{\\left(w \\right)} - 32 \\pi^{2} e^{6} x^{4} \\sin^{4}{\\left(w \\right)} \\cos^{4}{\\left(i \\right)} + 48 \\pi^{2} e^{6} x^{4} \\sin^{4}{\\left(w \\right)} \\cos^{2}{\\left(i \\right)} + 32 \\pi^{2} e^{6} x^{4} \\sin^{2}{\\left(w \\right)} \\cos^{6}{\\left(i \\right)} \\cos^{2}{\\left(w \\right)} - 32 \\pi^{2} e^{6} x^{4} \\sin^{2}{\\left(w \\right)} \\cos^{4}{\\left(i \\right)} \\cos^{2}{\\left(w \\right)} + 32 \\pi^{2} e^{6} x^{4} \\sin^{2}{\\left(w \\right)} \\cos^{2}{\\left(i \\right)} \\cos^{2}{\\left(w \\right)} + 48 \\pi^{2} e^{6} x^{4} \\cos^{6}{\\left(i \\right)} \\cos^{4}{\\left(w \\right)} - 32 \\pi^{2} e^{6} x^{4} \\cos^{4}{\\left(i \\right)} \\cos^{4}{\\left(w \\right)} - 16 \\pi^{2} e^{6} x^{2} \\sin^{4}{\\left(w \\right)} \\cos^{2}{\\left(i \\right)} - 32 \\pi^{2} e^{6} x^{2} \\sin^{2}{\\left(w \\right)} \\cos^{4}{\\left(i \\right)} \\cos^{2}{\\left(w \\right)} - 16 \\pi^{2} e^{6} x^{2} \\cos^{6}{\\left(i \\right)} \\cos^{4}{\\left(w \\right)} + 64 \\pi^{2} e^{5} x^{7} \\sin^{4}{\\left(i \\right)} \\sin^{4}{\\left(w \\right)} \\cos^{2}{\\left(i \\right)} + 128 \\pi^{2} e^{5} x^{7} \\sin^{4}{\\left(i \\right)} \\sin^{2}{\\left(w \\right)} \\cos^{2}{\\left(i \\right)} \\cos^{2}{\\left(w \\right)} + 64 \\pi^{2} e^{5} x^{7} \\sin^{4}{\\left(i \\right)} \\cos^{2}{\\left(i \\right)} \\cos^{4}{\\left(w \\right)} + 96 \\pi^{2} e^{5} x^{7} \\sin^{2}{\\left(i \\right)} \\sin^{4}{\\left(w \\right)} \\cos^{4}{\\left(i \\right)} - 96 \\pi^{2} e^{5} x^{7} \\sin^{2}{\\left(i \\right)} \\sin^{4}{\\left(w \\right)} \\cos^{2}{\\left(i \\right)} + 192 \\pi^{2} e^{5} x^{7} \\sin^{2}{\\left(i \\right)} \\sin^{2}{\\left(w \\right)} \\cos^{4}{\\left(i \\right)} \\cos^{2}{\\left(w \\right)} - 192 \\pi^{2} e^{5} x^{7} \\sin^{2}{\\left(i \\right)} \\sin^{2}{\\left(w \\right)} \\cos^{2}{\\left(i \\right)} \\cos^{2}{\\left(w \\right)} + 96 \\pi^{2} e^{5} x^{7} \\sin^{2}{\\left(i \\right)} \\cos^{4}{\\left(i \\right)} \\cos^{4}{\\left(w \\right)} - 96 \\pi^{2} e^{5} x^{7} \\sin^{2}{\\left(i \\right)} \\cos^{2}{\\left(i \\right)} \\cos^{4}{\\left(w \\right)} + 32 \\pi^{2} e^{5} x^{7} \\sin^{4}{\\left(w \\right)} \\cos^{6}{\\left(i \\right)} - 64 \\pi^{2} e^{5} x^{7} \\sin^{4}{\\left(w \\right)} \\cos^{4}{\\left(i \\right)} + 32 \\pi^{2} e^{5} x^{7} \\sin^{4}{\\left(w \\right)} \\cos^{2}{\\left(i \\right)} + 64 \\pi^{2} e^{5} x^{7} \\sin^{2}{\\left(w \\right)} \\cos^{6}{\\left(i \\right)} \\cos^{2}{\\left(w \\right)} - 128 \\pi^{2} e^{5} x^{7} \\sin^{2}{\\left(w \\right)} \\cos^{4}{\\left(i \\right)} \\cos^{2}{\\left(w \\right)} + 64 \\pi^{2} e^{5} x^{7} \\sin^{2}{\\left(w \\right)} \\cos^{2}{\\left(i \\right)} \\cos^{2}{\\left(w \\right)} + 32 \\pi^{2} e^{5} x^{7} \\cos^{6}{\\left(i \\right)} \\cos^{4}{\\left(w \\right)} - 64 \\pi^{2} e^{5} x^{7} \\cos^{4}{\\left(i \\right)} \\cos^{4}{\\left(w \\right)} + 32 \\pi^{2} e^{5} x^{7} \\cos^{2}{\\left(i \\right)} \\cos^{4}{\\left(w \\right)} - 64 \\pi^{2} e^{5} x^{5} \\sin^{4}{\\left(i \\right)} \\sin^{4}{\\left(w \\right)} \\cos^{2}{\\left(i \\right)} - 128 \\pi^{2} e^{5} x^{5} \\sin^{4}{\\left(i \\right)} \\sin^{2}{\\left(w \\right)} \\cos^{2}{\\left(i \\right)} \\cos^{2}{\\left(w \\right)} - 64 \\pi^{2} e^{5} x^{5} \\sin^{4}{\\left(i \\right)} \\cos^{2}{\\left(i \\right)} \\cos^{4}{\\left(w \\right)} - 96 \\pi^{2} e^{5} x^{5} \\sin^{2}{\\left(i \\right)} \\sin^{4}{\\left(w \\right)} \\cos^{4}{\\left(i \\right)} + 192 \\pi^{2} e^{5} x^{5} \\sin^{2}{\\left(i \\right)} \\sin^{4}{\\left(w \\right)} \\cos^{2}{\\left(i \\right)} - 288 \\pi^{2} e^{5} x^{5} \\sin^{2}{\\left(i \\right)} \\sin^{2}{\\left(w \\right)} \\cos^{4}{\\left(i \\right)} \\cos^{2}{\\left(w \\right)} + 288 \\pi^{2} e^{5} x^{5} \\sin^{2}{\\left(i \\right)} \\sin^{2}{\\left(w \\right)} \\cos^{2}{\\left(i \\right)} \\cos^{2}{\\left(w \\right)} - 192 \\pi^{2} e^{5} x^{5} \\sin^{2}{\\left(i \\right)} \\cos^{4}{\\left(i \\right)} \\cos^{4}{\\left(w \\right)} + 96 \\pi^{2} e^{5} x^{5} \\sin^{2}{\\left(i \\right)} \\cos^{2}{\\left(i \\right)} \\cos^{4}{\\left(w \\right)} - 32 \\pi^{2} e^{5} x^{5} \\sin^{4}{\\left(w \\right)} \\cos^{6}{\\left(i \\right)} + 128 \\pi^{2} e^{5} x^{5} \\sin^{4}{\\left(w \\right)} \\cos^{4}{\\left(i \\right)} - 96 \\pi^{2} e^{5} x^{5} \\sin^{4}{\\left(w \\right)} \\cos^{2}{\\left(i \\right)} - 128 \\pi^{2} e^{5} x^{5} \\sin^{2}{\\left(w \\right)} \\cos^{6}{\\left(i \\right)} \\cos^{2}{\\left(w \\right)} + 256 \\pi^{2} e^{5} x^{5} \\sin^{2}{\\left(w \\right)} \\cos^{4}{\\left(i \\right)} \\cos^{2}{\\left(w \\right)} - 128 \\pi^{2} e^{5} x^{5} \\sin^{2}{\\left(w \\right)} \\cos^{2}{\\left(i \\right)} \\cos^{2}{\\left(w \\right)} - 96 \\pi^{2} e^{5} x^{5} \\cos^{6}{\\left(i \\right)} \\cos^{4}{\\left(w \\right)} + 128 \\pi^{2} e^{5} x^{5} \\cos^{4}{\\left(i \\right)} \\cos^{4}{\\left(w \\right)} - 32 \\pi^{2} e^{5} x^{5} \\cos^{2}{\\left(i \\right)} \\cos^{4}{\\left(w \\right)} + 64 \\pi^{2} e^{5} x^{3} \\sin^{4}{\\left(i \\right)} \\sin^{2}{\\left(w \\right)} \\cos^{2}{\\left(i \\right)} \\cos^{2}{\\left(w \\right)} - 96 \\pi^{2} e^{5} x^{3} \\sin^{2}{\\left(i \\right)} \\sin^{4}{\\left(w \\right)} \\cos^{2}{\\left(i \\right)} + 96 \\pi^{2} e^{5} x^{3} \\sin^{2}{\\left(i \\right)} \\sin^{2}{\\left(w \\right)} \\cos^{4}{\\left(i \\right)} \\cos^{2}{\\left(w \\right)} - 96 \\pi^{2} e^{5} x^{3} \\sin^{2}{\\left(i \\right)} \\sin^{2}{\\left(w \\right)} \\cos^{2}{\\left(i \\right)} \\cos^{2}{\\left(w \\right)} + 96 \\pi^{2} e^{5} x^{3} \\sin^{2}{\\left(i \\right)} \\cos^{4}{\\left(i \\right)} \\cos^{4}{\\left(w \\right)} - 64 \\pi^{2} e^{5} x^{3} \\sin^{4}{\\left(w \\right)} \\cos^{4}{\\left(i \\right)} + 96 \\pi^{2} e^{5} x^{3} \\sin^{4}{\\left(w \\right)} \\cos^{2}{\\left(i \\right)} + 64 \\pi^{2} e^{5} x^{3} \\sin^{2}{\\left(w \\right)} \\cos^{6}{\\left(i \\right)} \\cos^{2}{\\left(w \\right)} - 64 \\pi^{2} e^{5} x^{3} \\sin^{2}{\\left(w \\right)} \\cos^{4}{\\left(i \\right)} \\cos^{2}{\\left(w \\right)} + 64 \\pi^{2} e^{5} x^{3} \\sin^{2}{\\left(w \\right)} \\cos^{2}{\\left(i \\right)} \\cos^{2}{\\left(w \\right)} + 96 \\pi^{2} e^{5} x^{3} \\cos^{6}{\\left(i \\right)} \\cos^{4}{\\left(w \\right)} - 64 \\pi^{2} e^{5} x^{3} \\cos^{4}{\\left(i \\right)} \\cos^{4}{\\left(w \\right)} - 32 \\pi^{2} e^{5} x \\sin^{4}{\\left(w \\right)} \\cos^{2}{\\left(i \\right)} - 64 \\pi^{2} e^{5} x \\sin^{2}{\\left(w \\right)} \\cos^{4}{\\left(i \\right)} \\cos^{2}{\\left(w \\right)} - 32 \\pi^{2} e^{5} x \\cos^{6}{\\left(i \\right)} \\cos^{4}{\\left(w \\right)} - 16 \\pi^{2} e^{4} x^{8} \\sin^{4}{\\left(i \\right)} \\sin^{4}{\\left(w \\right)} \\cos^{2}{\\left(i \\right)} - 32 \\pi^{2} e^{4} x^{8} \\sin^{4}{\\left(i \\right)} \\sin^{2}{\\left(w \\right)} \\cos^{2}{\\left(i \\right)} \\cos^{2}{\\left(w \\right)} - 16 \\pi^{2} e^{4} x^{8} \\sin^{4}{\\left(i \\right)} \\cos^{2}{\\left(i \\right)} \\cos^{4}{\\left(w \\right)} - 32 \\pi^{2} e^{4} x^{8} \\sin^{2}{\\left(i \\right)} \\sin^{4}{\\left(w \\right)} \\cos^{4}{\\left(i \\right)} + 32 \\pi^{2} e^{4} x^{8} \\sin^{2}{\\left(i \\right)} \\sin^{4}{\\left(w \\right)} \\cos^{2}{\\left(i \\right)} - 64 \\pi^{2} e^{4} x^{8} \\sin^{2}{\\left(i \\right)} \\sin^{2}{\\left(w \\right)} \\cos^{4}{\\left(i \\right)} \\cos^{2}{\\left(w \\right)} + 64 \\pi^{2} e^{4} x^{8} \\sin^{2}{\\left(i \\right)} \\sin^{2}{\\left(w \\right)} \\cos^{2}{\\left(i \\right)} \\cos^{2}{\\left(w \\right)} - 32 \\pi^{2} e^{4} x^{8} \\sin^{2}{\\left(i \\right)} \\cos^{4}{\\left(i \\right)} \\cos^{4}{\\left(w \\right)} + 32 \\pi^{2} e^{4} x^{8} \\sin^{2}{\\left(i \\right)} \\cos^{2}{\\left(i \\right)} \\cos^{4}{\\left(w \\right)} - 16 \\pi^{2} e^{4} x^{8} \\sin^{4}{\\left(w \\right)} \\cos^{6}{\\left(i \\right)} + 32 \\pi^{2} e^{4} x^{8} \\sin^{4}{\\left(w \\right)} \\cos^{4}{\\left(i \\right)} - 16 \\pi^{2} e^{4} x^{8} \\sin^{4}{\\left(w \\right)} \\cos^{2}{\\left(i \\right)} - 32 \\pi^{2} e^{4} x^{8} \\sin^{2}{\\left(w \\right)} \\cos^{6}{\\left(i \\right)} \\cos^{2}{\\left(w \\right)} + 64 \\pi^{2} e^{4} x^{8} \\sin^{2}{\\left(w \\right)} \\cos^{4}{\\left(i \\right)} \\cos^{2}{\\left(w \\right)} - 32 \\pi^{2} e^{4} x^{8} \\sin^{2}{\\left(w \\right)} \\cos^{2}{\\left(i \\right)} \\cos^{2}{\\left(w \\right)} - 16 \\pi^{2} e^{4} x^{8} \\cos^{6}{\\left(i \\right)} \\cos^{4}{\\left(w \\right)} + 32 \\pi^{2} e^{4} x^{8} \\cos^{4}{\\left(i \\right)} \\cos^{4}{\\left(w \\right)} - 16 \\pi^{2} e^{4} x^{8} \\cos^{2}{\\left(i \\right)} \\cos^{4}{\\left(w \\right)} + 112 \\pi^{2} e^{4} x^{6} \\sin^{4}{\\left(i \\right)} \\sin^{4}{\\left(w \\right)} \\cos^{2}{\\left(i \\right)} + 224 \\pi^{2} e^{4} x^{6} \\sin^{4}{\\left(i \\right)} \\sin^{2}{\\left(w \\right)} \\cos^{2}{\\left(i \\right)} \\cos^{2}{\\left(w \\right)} + 112 \\pi^{2} e^{4} x^{6} \\sin^{4}{\\left(i \\right)} \\cos^{2}{\\left(i \\right)} \\cos^{4}{\\left(w \\right)} + 128 \\pi^{2} e^{4} x^{6} \\sin^{2}{\\left(i \\right)} \\sin^{4}{\\left(w \\right)} \\cos^{4}{\\left(i \\right)} - 160 \\pi^{2} e^{4} x^{6} \\sin^{2}{\\left(i \\right)} \\sin^{4}{\\left(w \\right)} \\cos^{2}{\\left(i \\right)} + 288 \\pi^{2} e^{4} x^{6} \\sin^{2}{\\left(i \\right)} \\sin^{2}{\\left(w \\right)} \\cos^{4}{\\left(i \\right)} \\cos^{2}{\\left(w \\right)} - 288 \\pi^{2} e^{4} x^{6} \\sin^{2}{\\left(i \\right)} \\sin^{2}{\\left(w \\right)} \\cos^{2}{\\left(i \\right)} \\cos^{2}{\\left(w \\right)} + 160 \\pi^{2} e^{4} x^{6} \\sin^{2}{\\left(i \\right)} \\cos^{4}{\\left(i \\right)} \\cos^{4}{\\left(w \\right)} - 128 \\pi^{2} e^{4} x^{6} \\sin^{2}{\\left(i \\right)} \\cos^{2}{\\left(i \\right)} \\cos^{4}{\\left(w \\right)} + 32 \\pi^{2} e^{4} x^{6} \\sin^{4}{\\left(w \\right)} \\cos^{6}{\\left(i \\right)} - 96 \\pi^{2} e^{4} x^{6} \\sin^{4}{\\left(w \\right)} \\cos^{4}{\\left(i \\right)} + 64 \\pi^{2} e^{4} x^{6} \\sin^{4}{\\left(w \\right)} \\cos^{2}{\\left(i \\right)} + 96 \\pi^{2} e^{4} x^{6} \\sin^{2}{\\left(w \\right)} \\cos^{6}{\\left(i \\right)} \\cos^{2}{\\left(w \\right)} - 192 \\pi^{2} e^{4} x^{6} \\sin^{2}{\\left(w \\right)} \\cos^{4}{\\left(i \\right)} \\cos^{2}{\\left(w \\right)} + 96 \\pi^{2} e^{4} x^{6} \\sin^{2}{\\left(w \\right)} \\cos^{2}{\\left(i \\right)} \\cos^{2}{\\left(w \\right)} + 64 \\pi^{2} e^{4} x^{6} \\cos^{6}{\\left(i \\right)} \\cos^{4}{\\left(w \\right)} - 96 \\pi^{2} e^{4} x^{6} \\cos^{4}{\\left(i \\right)} \\cos^{4}{\\left(w \\right)} + 32 \\pi^{2} e^{4} x^{6} \\cos^{2}{\\left(i \\right)} \\cos^{4}{\\left(w \\right)} - 96 \\pi^{2} e^{4} x^{4} \\sin^{4}{\\left(i \\right)} \\sin^{4}{\\left(w \\right)} \\cos^{2}{\\left(i \\right)} - 208 \\pi^{2} e^{4} x^{4} \\sin^{4}{\\left(i \\right)} \\sin^{2}{\\left(w \\right)} \\cos^{2}{\\left(i \\right)} \\cos^{2}{\\left(w \\right)} - 96 \\pi^{2} e^{4} x^{4} \\sin^{4}{\\left(i \\right)} \\cos^{2}{\\left(i \\right)} \\cos^{4}{\\left(w \\right)} - 96 \\pi^{2} e^{4} x^{4} \\sin^{2}{\\left(i \\right)} \\sin^{4}{\\left(w \\right)} \\cos^{4}{\\left(i \\right)} + 224 \\pi^{2} e^{4} x^{4} \\sin^{2}{\\left(i \\right)} \\sin^{4}{\\left(w \\right)} \\cos^{2}{\\left(i \\right)} - 320 \\pi^{2} e^{4} x^{4} \\sin^{2}{\\left(i \\right)} \\sin^{2}{\\left(w \\right)} \\cos^{4}{\\left(i \\right)} \\cos^{2}{\\left(w \\right)} + 320 \\pi^{2} e^{4} x^{4} \\sin^{2}{\\left(i \\right)} \\sin^{2}{\\left(w \\right)} \\cos^{2}{\\left(i \\right)} \\cos^{2}{\\left(w \\right)} - 224 \\pi^{2} e^{4} x^{4} \\sin^{2}{\\left(i \\right)} \\cos^{4}{\\left(i \\right)} \\cos^{4}{\\left(w \\right)} + 96 \\pi^{2} e^{4} x^{4} \\sin^{2}{\\left(i \\right)} \\cos^{2}{\\left(i \\right)} \\cos^{4}{\\left(w \\right)} - 16 \\pi^{2} e^{4} x^{4} \\sin^{4}{\\left(w \\right)} \\cos^{6}{\\left(i \\right)} + 96 \\pi^{2} e^{4} x^{4} \\sin^{4}{\\left(w \\right)} \\cos^{4}{\\left(i \\right)} - 96 \\pi^{2} e^{4} x^{4} \\sin^{4}{\\left(w \\right)} \\cos^{2}{\\left(i \\right)} - 96 \\pi^{2} e^{4} x^{4} \\sin^{2}{\\left(w \\right)} \\cos^{6}{\\left(i \\right)} \\cos^{2}{\\left(w \\right)} + 160 \\pi^{2} e^{4} x^{4} \\sin^{2}{\\left(w \\right)} \\cos^{4}{\\left(i \\right)} \\cos^{2}{\\left(w \\right)} - 96 \\pi^{2} e^{4} x^{4} \\sin^{2}{\\left(w \\right)} \\cos^{2}{\\left(i \\right)} \\cos^{2}{\\left(w \\right)} - 96 \\pi^{2} e^{4} x^{4} \\cos^{6}{\\left(i \\right)} \\cos^{4}{\\left(w \\right)} + 96 \\pi^{2} e^{4} x^{4} \\cos^{4}{\\left(i \\right)} \\cos^{4}{\\left(w \\right)} - 16 \\pi^{2} e^{4} x^{4} \\cos^{2}{\\left(i \\right)} \\cos^{4}{\\left(w \\right)} + 96 \\pi^{2} e^{4} x^{2} \\sin^{4}{\\left(i \\right)} \\sin^{2}{\\left(w \\right)} \\cos^{2}{\\left(i \\right)} \\cos^{2}{\\left(w \\right)} - 96 \\pi^{2} e^{4} x^{2} \\sin^{2}{\\left(i \\right)} \\sin^{4}{\\left(w \\right)} \\cos^{2}{\\left(i \\right)} + 96 \\pi^{2} e^{4} x^{2} \\sin^{2}{\\left(i \\right)} \\sin^{2}{\\left(w \\right)} \\cos^{4}{\\left(i \\right)} \\cos^{2}{\\left(w \\right)} - 96 \\pi^{2} e^{4} x^{2} \\sin^{2}{\\left(i \\right)} \\sin^{2}{\\left(w \\right)} \\cos^{2}{\\left(i \\right)} \\cos^{2}{\\left(w \\right)} + 96 \\pi^{2} e^{4} x^{2} \\sin^{2}{\\left(i \\right)} \\cos^{4}{\\left(i \\right)} \\cos^{4}{\\left(w \\right)} - 32 \\pi^{2} e^{4} x^{2} \\sin^{4}{\\left(w \\right)} \\cos^{4}{\\left(i \\right)} + 64 \\pi^{2} e^{4} x^{2} \\sin^{4}{\\left(w \\right)} \\cos^{2}{\\left(i \\right)} + 32 \\pi^{2} e^{4} x^{2} \\sin^{2}{\\left(w \\right)} \\cos^{6}{\\left(i \\right)} \\cos^{2}{\\left(w \\right)} + 32 \\pi^{2} e^{4} x^{2} \\sin^{2}{\\left(w \\right)} \\cos^{2}{\\left(i \\right)} \\cos^{2}{\\left(w \\right)} + 64 \\pi^{2} e^{4} x^{2} \\cos^{6}{\\left(i \\right)} \\cos^{4}{\\left(w \\right)} - 32 \\pi^{2} e^{4} x^{2} \\cos^{4}{\\left(i \\right)} \\cos^{4}{\\left(w \\right)} - 16 \\pi^{2} e^{4} \\sin^{4}{\\left(w \\right)} \\cos^{2}{\\left(i \\right)} - 32 \\pi^{2} e^{4} \\sin^{2}{\\left(w \\right)} \\cos^{4}{\\left(i \\right)} \\cos^{2}{\\left(w \\right)} - 16 \\pi^{2} e^{4} \\cos^{6}{\\left(i \\right)} \\cos^{4}{\\left(w \\right)} - 64 \\pi^{2} e^{3} x^{7} \\sin^{4}{\\left(i \\right)} \\sin^{4}{\\left(w \\right)} \\cos^{2}{\\left(i \\right)} - 128 \\pi^{2} e^{3} x^{7} \\sin^{4}{\\left(i \\right)} \\sin^{2}{\\left(w \\right)} \\cos^{2}{\\left(i \\right)} \\cos^{2}{\\left(w \\right)} - 64 \\pi^{2} e^{3} x^{7} \\sin^{4}{\\left(i \\right)} \\cos^{2}{\\left(i \\right)} \\cos^{4}{\\left(w \\right)} - 96 \\pi^{2} e^{3} x^{7} \\sin^{2}{\\left(i \\right)} \\sin^{4}{\\left(w \\right)} \\cos^{4}{\\left(i \\right)} + 96 \\pi^{2} e^{3} x^{7} \\sin^{2}{\\left(i \\right)} \\sin^{4}{\\left(w \\right)} \\cos^{2}{\\left(i \\right)} - 192 \\pi^{2} e^{3} x^{7} \\sin^{2}{\\left(i \\right)} \\sin^{2}{\\left(w \\right)} \\cos^{4}{\\left(i \\right)} \\cos^{2}{\\left(w \\right)} + 192 \\pi^{2} e^{3} x^{7} \\sin^{2}{\\left(i \\right)} \\sin^{2}{\\left(w \\right)} \\cos^{2}{\\left(i \\right)} \\cos^{2}{\\left(w \\right)} - 96 \\pi^{2} e^{3} x^{7} \\sin^{2}{\\left(i \\right)} \\cos^{4}{\\left(i \\right)} \\cos^{4}{\\left(w \\right)} + 96 \\pi^{2} e^{3} x^{7} \\sin^{2}{\\left(i \\right)} \\cos^{2}{\\left(i \\right)} \\cos^{4}{\\left(w \\right)} - 32 \\pi^{2} e^{3} x^{7} \\sin^{4}{\\left(w \\right)} \\cos^{6}{\\left(i \\right)} + 64 \\pi^{2} e^{3} x^{7} \\sin^{4}{\\left(w \\right)} \\cos^{4}{\\left(i \\right)} - 32 \\pi^{2} e^{3} x^{7} \\sin^{4}{\\left(w \\right)} \\cos^{2}{\\left(i \\right)} - 64 \\pi^{2} e^{3} x^{7} \\sin^{2}{\\left(w \\right)} \\cos^{6}{\\left(i \\right)} \\cos^{2}{\\left(w \\right)} + 128 \\pi^{2} e^{3} x^{7} \\sin^{2}{\\left(w \\right)} \\cos^{4}{\\left(i \\right)} \\cos^{2}{\\left(w \\right)} - 64 \\pi^{2} e^{3} x^{7} \\sin^{2}{\\left(w \\right)} \\cos^{2}{\\left(i \\right)} \\cos^{2}{\\left(w \\right)} - 32 \\pi^{2} e^{3} x^{7} \\cos^{6}{\\left(i \\right)} \\cos^{4}{\\left(w \\right)} + 64 \\pi^{2} e^{3} x^{7} \\cos^{4}{\\left(i \\right)} \\cos^{4}{\\left(w \\right)} - 32 \\pi^{2} e^{3} x^{7} \\cos^{2}{\\left(i \\right)} \\cos^{4}{\\left(w \\right)} + 128 \\pi^{2} e^{3} x^{5} \\sin^{4}{\\left(i \\right)} \\sin^{4}{\\left(w \\right)} \\cos^{2}{\\left(i \\right)} + 256 \\pi^{2} e^{3} x^{5} \\sin^{4}{\\left(i \\right)} \\sin^{2}{\\left(w \\right)} \\cos^{2}{\\left(i \\right)} \\cos^{2}{\\left(w \\right)} + 128 \\pi^{2} e^{3} x^{5} \\sin^{4}{\\left(i \\right)} \\cos^{2}{\\left(i \\right)} \\cos^{4}{\\left(w \\right)} + 128 \\pi^{2} e^{3} x^{5} \\sin^{2}{\\left(i \\right)} \\sin^{4}{\\left(w \\right)} \\cos^{4}{\\left(i \\right)} - 224 \\pi^{2} e^{3} x^{5} \\sin^{2}{\\left(i \\right)} \\sin^{4}{\\left(w \\right)} \\cos^{2}{\\left(i \\right)} + 352 \\pi^{2} e^{3} x^{5} \\sin^{2}{\\left(i \\right)} \\sin^{2}{\\left(w \\right)} \\cos^{4}{\\left(i \\right)} \\cos^{2}{\\left(w \\right)} - 352 \\pi^{2} e^{3} x^{5} \\sin^{2}{\\left(i \\right)} \\sin^{2}{\\left(w \\right)} \\cos^{2}{\\left(i \\right)} \\cos^{2}{\\left(w \\right)} + 224 \\pi^{2} e^{3} x^{5} \\sin^{2}{\\left(i \\right)} \\cos^{4}{\\left(i \\right)} \\cos^{4}{\\left(w \\right)} - 128 \\pi^{2} e^{3} x^{5} \\sin^{2}{\\left(i \\right)} \\cos^{2}{\\left(i \\right)} \\cos^{4}{\\left(w \\right)} + 32 \\pi^{2} e^{3} x^{5} \\sin^{4}{\\left(w \\right)} \\cos^{6}{\\left(i \\right)} - 128 \\pi^{2} e^{3} x^{5} \\sin^{4}{\\left(w \\right)} \\cos^{4}{\\left(i \\right)} + 96 \\pi^{2} e^{3} x^{5} \\sin^{4}{\\left(w \\right)} \\cos^{2}{\\left(i \\right)} + 128 \\pi^{2} e^{3} x^{5} \\sin^{2}{\\left(w \\right)} \\cos^{6}{\\left(i \\right)} \\cos^{2}{\\left(w \\right)} - 256 \\pi^{2} e^{3} x^{5} \\sin^{2}{\\left(w \\right)} \\cos^{4}{\\left(i \\right)} \\cos^{2}{\\left(w \\right)} + 128 \\pi^{2} e^{3} x^{5} \\sin^{2}{\\left(w \\right)} \\cos^{2}{\\left(i \\right)} \\cos^{2}{\\left(w \\right)} + 96 \\pi^{2} e^{3} x^{5} \\cos^{6}{\\left(i \\right)} \\cos^{4}{\\left(w \\right)} - 128 \\pi^{2} e^{3} x^{5} \\cos^{4}{\\left(i \\right)} \\cos^{4}{\\left(w \\right)} + 32 \\pi^{2} e^{3} x^{5} \\cos^{2}{\\left(i \\right)} \\cos^{4}{\\left(w \\right)} - 64 \\pi^{2} e^{3} x^{3} \\sin^{4}{\\left(i \\right)} \\sin^{4}{\\left(w \\right)} \\cos^{2}{\\left(i \\right)} - 192 \\pi^{2} e^{3} x^{3} \\sin^{4}{\\left(i \\right)} \\sin^{2}{\\left(w \\right)} \\cos^{2}{\\left(i \\right)} \\cos^{2}{\\left(w \\right)} - 64 \\pi^{2} e^{3} x^{3} \\sin^{4}{\\left(i \\right)} \\cos^{2}{\\left(i \\right)} \\cos^{4}{\\left(w \\right)} - 32 \\pi^{2} e^{3} x^{3} \\sin^{2}{\\left(i \\right)} \\sin^{4}{\\left(w \\right)} \\cos^{4}{\\left(i \\right)} + 160 \\pi^{2} e^{3} x^{3} \\sin^{2}{\\left(i \\right)} \\sin^{4}{\\left(w \\right)} \\cos^{2}{\\left(i \\right)} - 192 \\pi^{2} e^{3} x^{3} \\sin^{2}{\\left(i \\right)} \\sin^{2}{\\left(w \\right)} \\cos^{4}{\\left(i \\right)} \\cos^{2}{\\left(w \\right)} + 192 \\pi^{2} e^{3} x^{3} \\sin^{2}{\\left(i \\right)} \\sin^{2}{\\left(w \\right)} \\cos^{2}{\\left(i \\right)} \\cos^{2}{\\left(w \\right)} - 160 \\pi^{2} e^{3} x^{3} \\sin^{2}{\\left(i \\right)} \\cos^{4}{\\left(i \\right)} \\cos^{4}{\\left(w \\right)} + 32 \\pi^{2} e^{3} x^{3} \\sin^{2}{\\left(i \\right)} \\cos^{2}{\\left(i \\right)} \\cos^{4}{\\left(w \\right)} + 64 \\pi^{2} e^{3} x^{3} \\sin^{4}{\\left(w \\right)} \\cos^{4}{\\left(i \\right)} - 96 \\pi^{2} e^{3} x^{3} \\sin^{4}{\\left(w \\right)} \\cos^{2}{\\left(i \\right)} - 64 \\pi^{2} e^{3} x^{3} \\sin^{2}{\\left(w \\right)} \\cos^{6}{\\left(i \\right)} \\cos^{2}{\\left(w \\right)} + 64 \\pi^{2} e^{3} x^{3} \\sin^{2}{\\left(w \\right)} \\cos^{4}{\\left(i \\right)} \\cos^{2}{\\left(w \\right)} - 64 \\pi^{2} e^{3} x^{3} \\sin^{2}{\\left(w \\right)} \\cos^{2}{\\left(i \\right)} \\cos^{2}{\\left(w \\right)} - 96 \\pi^{2} e^{3} x^{3} \\cos^{6}{\\left(i \\right)} \\cos^{4}{\\left(w \\right)} + 64 \\pi^{2} e^{3} x^{3} \\cos^{4}{\\left(i \\right)} \\cos^{4}{\\left(w \\right)} + 64 \\pi^{2} e^{3} x \\sin^{4}{\\left(i \\right)} \\sin^{2}{\\left(w \\right)} \\cos^{2}{\\left(i \\right)} \\cos^{2}{\\left(w \\right)} - 32 \\pi^{2} e^{3} x \\sin^{2}{\\left(i \\right)} \\sin^{4}{\\left(w \\right)} \\cos^{2}{\\left(i \\right)} + 32 \\pi^{2} e^{3} x \\sin^{2}{\\left(i \\right)} \\sin^{2}{\\left(w \\right)} \\cos^{4}{\\left(i \\right)} \\cos^{2}{\\left(w \\right)} - 32 \\pi^{2} e^{3} x \\sin^{2}{\\left(i \\right)} \\sin^{2}{\\left(w \\right)} \\cos^{2}{\\left(i \\right)} \\cos^{2}{\\left(w \\right)} + 32 \\pi^{2} e^{3} x \\sin^{2}{\\left(i \\right)} \\cos^{4}{\\left(i \\right)} \\cos^{4}{\\left(w \\right)} + 32 \\pi^{2} e^{3} x \\sin^{4}{\\left(w \\right)} \\cos^{2}{\\left(i \\right)} + 64 \\pi^{2} e^{3} x \\sin^{2}{\\left(w \\right)} \\cos^{4}{\\left(i \\right)} \\cos^{2}{\\left(w \\right)} + 32 \\pi^{2} e^{3} x \\cos^{6}{\\left(i \\right)} \\cos^{4}{\\left(w \\right)} - 96 \\pi^{2} e^{2} x^{6} \\sin^{4}{\\left(i \\right)} \\sin^{4}{\\left(w \\right)} \\cos^{2}{\\left(i \\right)} - 192 \\pi^{2} e^{2} x^{6} \\sin^{4}{\\left(i \\right)} \\sin^{2}{\\left(w \\right)} \\cos^{2}{\\left(i \\right)} \\cos^{2}{\\left(w \\right)} - 96 \\pi^{2} e^{2} x^{6} \\sin^{4}{\\left(i \\right)} \\cos^{2}{\\left(i \\right)} \\cos^{4}{\\left(w \\right)} - 96 \\pi^{2} e^{2} x^{6} \\sin^{2}{\\left(i \\right)} \\sin^{4}{\\left(w \\right)} \\cos^{4}{\\left(i \\right)} + 96 \\pi^{2} e^{2} x^{6} \\sin^{2}{\\left(i \\right)} \\sin^{4}{\\left(w \\right)} \\cos^{2}{\\left(i \\right)} - 192 \\pi^{2} e^{2} x^{6} \\sin^{2}{\\left(i \\right)} \\sin^{2}{\\left(w \\right)} \\cos^{4}{\\left(i \\right)} \\cos^{2}{\\left(w \\right)} + 192 \\pi^{2} e^{2} x^{6} \\sin^{2}{\\left(i \\right)} \\sin^{2}{\\left(w \\right)} \\cos^{2}{\\left(i \\right)} \\cos^{2}{\\left(w \\right)} - 96 \\pi^{2} e^{2} x^{6} \\sin^{2}{\\left(i \\right)} \\cos^{4}{\\left(i \\right)} \\cos^{4}{\\left(w \\right)} + 96 \\pi^{2} e^{2} x^{6} \\sin^{2}{\\left(i \\right)} \\cos^{2}{\\left(i \\right)} \\cos^{4}{\\left(w \\right)} - 16 \\pi^{2} e^{2} x^{6} \\sin^{4}{\\left(w \\right)} \\cos^{6}{\\left(i \\right)} + 32 \\pi^{2} e^{2} x^{6} \\sin^{4}{\\left(w \\right)} \\cos^{4}{\\left(i \\right)} - 16 \\pi^{2} e^{2} x^{6} \\sin^{4}{\\left(w \\right)} \\cos^{2}{\\left(i \\right)} - 32 \\pi^{2} e^{2} x^{6} \\sin^{2}{\\left(w \\right)} \\cos^{6}{\\left(i \\right)} \\cos^{2}{\\left(w \\right)} + 64 \\pi^{2} e^{2} x^{6} \\sin^{2}{\\left(w \\right)} \\cos^{4}{\\left(i \\right)} \\cos^{2}{\\left(w \\right)} - 32 \\pi^{2} e^{2} x^{6} \\sin^{2}{\\left(w \\right)} \\cos^{2}{\\left(i \\right)} \\cos^{2}{\\left(w \\right)} - 16 \\pi^{2} e^{2} x^{6} \\cos^{6}{\\left(i \\right)} \\cos^{4}{\\left(w \\right)} + 32 \\pi^{2} e^{2} x^{6} \\cos^{4}{\\left(i \\right)} \\cos^{4}{\\left(w \\right)} - 16 \\pi^{2} e^{2} x^{6} \\cos^{2}{\\left(i \\right)} \\cos^{4}{\\left(w \\right)} + 112 \\pi^{2} e^{2} x^{4} \\sin^{4}{\\left(i \\right)} \\sin^{4}{\\left(w \\right)} \\cos^{2}{\\left(i \\right)} + 224 \\pi^{2} e^{2} x^{4} \\sin^{4}{\\left(i \\right)} \\sin^{2}{\\left(w \\right)} \\cos^{2}{\\left(i \\right)} \\cos^{2}{\\left(w \\right)} + 112 \\pi^{2} e^{2} x^{4} \\sin^{4}{\\left(i \\right)} \\cos^{2}{\\left(i \\right)} \\cos^{4}{\\left(w \\right)} + 96 \\pi^{2} e^{2} x^{4} \\sin^{2}{\\left(i \\right)} \\sin^{4}{\\left(w \\right)} \\cos^{4}{\\left(i \\right)} - 192 \\pi^{2} e^{2} x^{4} \\sin^{2}{\\left(i \\right)} \\sin^{4}{\\left(w \\right)} \\cos^{2}{\\left(i \\right)} + 288 \\pi^{2} e^{2} x^{4} \\sin^{2}{\\left(i \\right)} \\sin^{2}{\\left(w \\right)} \\cos^{4}{\\left(i \\right)} \\cos^{2}{\\left(w \\right)} - 288 \\pi^{2} e^{2} x^{4} \\sin^{2}{\\left(i \\right)} \\sin^{2}{\\left(w \\right)} \\cos^{2}{\\left(i \\right)} \\cos^{2}{\\left(w \\right)} + 192 \\pi^{2} e^{2} x^{4} \\sin^{2}{\\left(i \\right)} \\cos^{4}{\\left(i \\right)} \\cos^{4}{\\left(w \\right)} - 96 \\pi^{2} e^{2} x^{4} \\sin^{2}{\\left(i \\right)} \\cos^{2}{\\left(i \\right)} \\cos^{4}{\\left(w \\right)} + 16 \\pi^{2} e^{2} x^{4} \\sin^{4}{\\left(w \\right)} \\cos^{6}{\\left(i \\right)} - 64 \\pi^{2} e^{2} x^{4} \\sin^{4}{\\left(w \\right)} \\cos^{4}{\\left(i \\right)} + 48 \\pi^{2} e^{2} x^{4} \\sin^{4}{\\left(w \\right)} \\cos^{2}{\\left(i \\right)} + 64 \\pi^{2} e^{2} x^{4} \\sin^{2}{\\left(w \\right)} \\cos^{6}{\\left(i \\right)} \\cos^{2}{\\left(w \\right)} - 128 \\pi^{2} e^{2} x^{4} \\sin^{2}{\\left(w \\right)} \\cos^{4}{\\left(i \\right)} \\cos^{2}{\\left(w \\right)} + 64 \\pi^{2} e^{2} x^{4} \\sin^{2}{\\left(w \\right)} \\cos^{2}{\\left(i \\right)} \\cos^{2}{\\left(w \\right)} + 48 \\pi^{2} e^{2} x^{4} \\cos^{6}{\\left(i \\right)} \\cos^{4}{\\left(w \\right)} - 64 \\pi^{2} e^{2} x^{4} \\cos^{4}{\\left(i \\right)} \\cos^{4}{\\left(w \\right)} + 16 \\pi^{2} e^{2} x^{4} \\cos^{2}{\\left(i \\right)} \\cos^{4}{\\left(w \\right)} - 16 \\pi^{2} e^{2} x^{2} \\sin^{4}{\\left(i \\right)} \\sin^{4}{\\left(w \\right)} \\cos^{2}{\\left(i \\right)} - 128 \\pi^{2} e^{2} x^{2} \\sin^{4}{\\left(i \\right)} \\sin^{2}{\\left(w \\right)} \\cos^{2}{\\left(i \\right)} \\cos^{2}{\\left(w \\right)} - 16 \\pi^{2} e^{2} x^{2} \\sin^{4}{\\left(i \\right)} \\cos^{2}{\\left(i \\right)} \\cos^{4}{\\left(w \\right)} + 96 \\pi^{2} e^{2} x^{2} \\sin^{2}{\\left(i \\right)} \\sin^{4}{\\left(w \\right)} \\cos^{2}{\\left(i \\right)} - 96 \\pi^{2} e^{2} x^{2} \\sin^{2}{\\left(i \\right)} \\sin^{2}{\\left(w \\right)} \\cos^{4}{\\left(i \\right)} \\cos^{2}{\\left(w \\right)} + 96 \\pi^{2} e^{2} x^{2} \\sin^{2}{\\left(i \\right)} \\sin^{2}{\\left(w \\right)} \\cos^{2}{\\left(i \\right)} \\cos^{2}{\\left(w \\right)} - 96 \\pi^{2} e^{2} x^{2} \\sin^{2}{\\left(i \\right)} \\cos^{4}{\\left(i \\right)} \\cos^{4}{\\left(w \\right)} + 32 \\pi^{2} e^{2} x^{2} \\sin^{4}{\\left(w \\right)} \\cos^{4}{\\left(i \\right)} - 48 \\pi^{2} e^{2} x^{2} \\sin^{4}{\\left(w \\right)} \\cos^{2}{\\left(i \\right)} - 32 \\pi^{2} e^{2} x^{2} \\sin^{2}{\\left(w \\right)} \\cos^{6}{\\left(i \\right)} \\cos^{2}{\\left(w \\right)} + 32 \\pi^{2} e^{2} x^{2} \\sin^{2}{\\left(w \\right)} \\cos^{4}{\\left(i \\right)} \\cos^{2}{\\left(w \\right)} - 32 \\pi^{2} e^{2} x^{2} \\sin^{2}{\\left(w \\right)} \\cos^{2}{\\left(i \\right)} \\cos^{2}{\\left(w \\right)} - 48 \\pi^{2} e^{2} x^{2} \\cos^{6}{\\left(i \\right)} \\cos^{4}{\\left(w \\right)} + 32 \\pi^{2} e^{2} x^{2} \\cos^{4}{\\left(i \\right)} \\cos^{4}{\\left(w \\right)} + 16 \\pi^{2} e^{2} \\sin^{4}{\\left(i \\right)} \\sin^{2}{\\left(w \\right)} \\cos^{2}{\\left(i \\right)} \\cos^{2}{\\left(w \\right)} + 16 \\pi^{2} e^{2} \\sin^{4}{\\left(w \\right)} \\cos^{2}{\\left(i \\right)} + 32 \\pi^{2} e^{2} \\sin^{2}{\\left(w \\right)} \\cos^{4}{\\left(i \\right)} \\cos^{2}{\\left(w \\right)} + 16 \\pi^{2} e^{2} \\cos^{6}{\\left(i \\right)} \\cos^{4}{\\left(w \\right)} - 64 \\pi^{2} e x^{5} \\sin^{4}{\\left(i \\right)} \\sin^{4}{\\left(w \\right)} \\cos^{2}{\\left(i \\right)} - 128 \\pi^{2} e x^{5} \\sin^{4}{\\left(i \\right)} \\sin^{2}{\\left(w \\right)} \\cos^{2}{\\left(i \\right)} \\cos^{2}{\\left(w \\right)} - 64 \\pi^{2} e x^{5} \\sin^{4}{\\left(i \\right)} \\cos^{2}{\\left(i \\right)} \\cos^{4}{\\left(w \\right)} - 32 \\pi^{2} e x^{5} \\sin^{2}{\\left(i \\right)} \\sin^{4}{\\left(w \\right)} \\cos^{4}{\\left(i \\right)} + 32 \\pi^{2} e x^{5} \\sin^{2}{\\left(i \\right)} \\sin^{4}{\\left(w \\right)} \\cos^{2}{\\left(i \\right)} - 64 \\pi^{2} e x^{5} \\sin^{2}{\\left(i \\right)} \\sin^{2}{\\left(w \\right)} \\cos^{4}{\\left(i \\right)} \\cos^{2}{\\left(w \\right)} + 64 \\pi^{2} e x^{5} \\sin^{2}{\\left(i \\right)} \\sin^{2}{\\left(w \\right)} \\cos^{2}{\\left(i \\right)} \\cos^{2}{\\left(w \\right)} - 32 \\pi^{2} e x^{5} \\sin^{2}{\\left(i \\right)} \\cos^{4}{\\left(i \\right)} \\cos^{4}{\\left(w \\right)} + 32 \\pi^{2} e x^{5} \\sin^{2}{\\left(i \\right)} \\cos^{2}{\\left(i \\right)} \\cos^{4}{\\left(w \\right)} + 64 \\pi^{2} e x^{3} \\sin^{4}{\\left(i \\right)} \\sin^{4}{\\left(w \\right)} \\cos^{2}{\\left(i \\right)} + 128 \\pi^{2} e x^{3} \\sin^{4}{\\left(i \\right)} \\sin^{2}{\\left(w \\right)} \\cos^{2}{\\left(i \\right)} \\cos^{2}{\\left(w \\right)} + 64 \\pi^{2} e x^{3} \\sin^{4}{\\left(i \\right)} \\cos^{2}{\\left(i \\right)} \\cos^{4}{\\left(w \\right)} + 32 \\pi^{2} e x^{3} \\sin^{2}{\\left(i \\right)} \\sin^{4}{\\left(w \\right)} \\cos^{4}{\\left(i \\right)} - 64 \\pi^{2} e x^{3} \\sin^{2}{\\left(i \\right)} \\sin^{4}{\\left(w \\right)} \\cos^{2}{\\left(i \\right)} + 96 \\pi^{2} e x^{3} \\sin^{2}{\\left(i \\right)} \\sin^{2}{\\left(w \\right)} \\cos^{4}{\\left(i \\right)} \\cos^{2}{\\left(w \\right)} - 96 \\pi^{2} e x^{3} \\sin^{2}{\\left(i \\right)} \\sin^{2}{\\left(w \\right)} \\cos^{2}{\\left(i \\right)} \\cos^{2}{\\left(w \\right)} + 64 \\pi^{2} e x^{3} \\sin^{2}{\\left(i \\right)} \\cos^{4}{\\left(i \\right)} \\cos^{4}{\\left(w \\right)} - 32 \\pi^{2} e x^{3} \\sin^{2}{\\left(i \\right)} \\cos^{2}{\\left(i \\right)} \\cos^{4}{\\left(w \\right)} - 64 \\pi^{2} e x \\sin^{4}{\\left(i \\right)} \\sin^{2}{\\left(w \\right)} \\cos^{2}{\\left(i \\right)} \\cos^{2}{\\left(w \\right)} + 32 \\pi^{2} e x \\sin^{2}{\\left(i \\right)} \\sin^{4}{\\left(w \\right)} \\cos^{2}{\\left(i \\right)} - 32 \\pi^{2} e x \\sin^{2}{\\left(i \\right)} \\sin^{2}{\\left(w \\right)} \\cos^{4}{\\left(i \\right)} \\cos^{2}{\\left(w \\right)} + 32 \\pi^{2} e x \\sin^{2}{\\left(i \\right)} \\sin^{2}{\\left(w \\right)} \\cos^{2}{\\left(i \\right)} \\cos^{2}{\\left(w \\right)} - 32 \\pi^{2} e x \\sin^{2}{\\left(i \\right)} \\cos^{4}{\\left(i \\right)} \\cos^{4}{\\left(w \\right)} - 16 \\pi^{2} x^{4} \\sin^{4}{\\left(i \\right)} \\sin^{4}{\\left(w \\right)} \\cos^{2}{\\left(i \\right)} - 32 \\pi^{2} x^{4} \\sin^{4}{\\left(i \\right)} \\sin^{2}{\\left(w \\right)} \\cos^{2}{\\left(i \\right)} \\cos^{2}{\\left(w \\right)} - 16 \\pi^{2} x^{4} \\sin^{4}{\\left(i \\right)} \\cos^{2}{\\left(i \\right)} \\cos^{4}{\\left(w \\right)} + 16 \\pi^{2} x^{2} \\sin^{4}{\\left(i \\right)} \\sin^{4}{\\left(w \\right)} \\cos^{2}{\\left(i \\right)} + 32 \\pi^{2} x^{2} \\sin^{4}{\\left(i \\right)} \\sin^{2}{\\left(w \\right)} \\cos^{2}{\\left(i \\right)} \\cos^{2}{\\left(w \\right)} + 16 \\pi^{2} x^{2} \\sin^{4}{\\left(i \\right)} \\cos^{2}{\\left(i \\right)} \\cos^{4}{\\left(w \\right)} - 16 \\pi^{2} \\sin^{4}{\\left(i \\right)} \\sin^{2}{\\left(w \\right)} \\cos^{2}{\\left(i \\right)} \\cos^{2}{\\left(w \\right)}$"
      ],
      "text/plain": [
       "16*pi**2*e**6*x**8*sin(i)**4*sin(w)**4*cos(i)**2 + 32*pi**2*e**6*x**8*sin(i)**4*sin(w)**2*cos(i)**2*cos(w)**2 + 16*pi**2*e**6*x**8*sin(i)**4*cos(i)**2*cos(w)**4 + 32*pi**2*e**6*x**8*sin(i)**2*sin(w)**4*cos(i)**4 - 32*pi**2*e**6*x**8*sin(i)**2*sin(w)**4*cos(i)**2 + 64*pi**2*e**6*x**8*sin(i)**2*sin(w)**2*cos(i)**4*cos(w)**2 - 64*pi**2*e**6*x**8*sin(i)**2*sin(w)**2*cos(i)**2*cos(w)**2 + 32*pi**2*e**6*x**8*sin(i)**2*cos(i)**4*cos(w)**4 - 32*pi**2*e**6*x**8*sin(i)**2*cos(i)**2*cos(w)**4 + 16*pi**2*e**6*x**8*sin(w)**4*cos(i)**6 - 32*pi**2*e**6*x**8*sin(w)**4*cos(i)**4 + 16*pi**2*e**6*x**8*sin(w)**4*cos(i)**2 + 32*pi**2*e**6*x**8*sin(w)**2*cos(i)**6*cos(w)**2 - 64*pi**2*e**6*x**8*sin(w)**2*cos(i)**4*cos(w)**2 + 32*pi**2*e**6*x**8*sin(w)**2*cos(i)**2*cos(w)**2 + 16*pi**2*e**6*x**8*cos(i)**6*cos(w)**4 - 32*pi**2*e**6*x**8*cos(i)**4*cos(w)**4 + 16*pi**2*e**6*x**8*cos(i)**2*cos(w)**4 - 16*pi**2*e**6*x**6*sin(i)**4*sin(w)**4*cos(i)**2 - 32*pi**2*e**6*x**6*sin(i)**4*sin(w)**2*cos(i)**2*cos(w)**2 - 16*pi**2*e**6*x**6*sin(i)**4*cos(i)**2*cos(w)**4 - 32*pi**2*e**6*x**6*sin(i)**2*sin(w)**4*cos(i)**4 + 64*pi**2*e**6*x**6*sin(i)**2*sin(w)**4*cos(i)**2 - 96*pi**2*e**6*x**6*sin(i)**2*sin(w)**2*cos(i)**4*cos(w)**2 + 96*pi**2*e**6*x**6*sin(i)**2*sin(w)**2*cos(i)**2*cos(w)**2 - 64*pi**2*e**6*x**6*sin(i)**2*cos(i)**4*cos(w)**4 + 32*pi**2*e**6*x**6*sin(i)**2*cos(i)**2*cos(w)**4 - 16*pi**2*e**6*x**6*sin(w)**4*cos(i)**6 + 64*pi**2*e**6*x**6*sin(w)**4*cos(i)**4 - 48*pi**2*e**6*x**6*sin(w)**4*cos(i)**2 - 64*pi**2*e**6*x**6*sin(w)**2*cos(i)**6*cos(w)**2 + 128*pi**2*e**6*x**6*sin(w)**2*cos(i)**4*cos(w)**2 - 64*pi**2*e**6*x**6*sin(w)**2*cos(i)**2*cos(w)**2 - 48*pi**2*e**6*x**6*cos(i)**6*cos(w)**4 + 64*pi**2*e**6*x**6*cos(i)**4*cos(w)**4 - 16*pi**2*e**6*x**6*cos(i)**2*cos(w)**4 + 16*pi**2*e**6*x**4*sin(i)**4*sin(w)**2*cos(i)**2*cos(w)**2 - 32*pi**2*e**6*x**4*sin(i)**2*sin(w)**4*cos(i)**2 + 32*pi**2*e**6*x**4*sin(i)**2*sin(w)**2*cos(i)**4*cos(w)**2 - 32*pi**2*e**6*x**4*sin(i)**2*sin(w)**2*cos(i)**2*cos(w)**2 + 32*pi**2*e**6*x**4*sin(i)**2*cos(i)**4*cos(w)**4 - 32*pi**2*e**6*x**4*sin(w)**4*cos(i)**4 + 48*pi**2*e**6*x**4*sin(w)**4*cos(i)**2 + 32*pi**2*e**6*x**4*sin(w)**2*cos(i)**6*cos(w)**2 - 32*pi**2*e**6*x**4*sin(w)**2*cos(i)**4*cos(w)**2 + 32*pi**2*e**6*x**4*sin(w)**2*cos(i)**2*cos(w)**2 + 48*pi**2*e**6*x**4*cos(i)**6*cos(w)**4 - 32*pi**2*e**6*x**4*cos(i)**4*cos(w)**4 - 16*pi**2*e**6*x**2*sin(w)**4*cos(i)**2 - 32*pi**2*e**6*x**2*sin(w)**2*cos(i)**4*cos(w)**2 - 16*pi**2*e**6*x**2*cos(i)**6*cos(w)**4 + 64*pi**2*e**5*x**7*sin(i)**4*sin(w)**4*cos(i)**2 + 128*pi**2*e**5*x**7*sin(i)**4*sin(w)**2*cos(i)**2*cos(w)**2 + 64*pi**2*e**5*x**7*sin(i)**4*cos(i)**2*cos(w)**4 + 96*pi**2*e**5*x**7*sin(i)**2*sin(w)**4*cos(i)**4 - 96*pi**2*e**5*x**7*sin(i)**2*sin(w)**4*cos(i)**2 + 192*pi**2*e**5*x**7*sin(i)**2*sin(w)**2*cos(i)**4*cos(w)**2 - 192*pi**2*e**5*x**7*sin(i)**2*sin(w)**2*cos(i)**2*cos(w)**2 + 96*pi**2*e**5*x**7*sin(i)**2*cos(i)**4*cos(w)**4 - 96*pi**2*e**5*x**7*sin(i)**2*cos(i)**2*cos(w)**4 + 32*pi**2*e**5*x**7*sin(w)**4*cos(i)**6 - 64*pi**2*e**5*x**7*sin(w)**4*cos(i)**4 + 32*pi**2*e**5*x**7*sin(w)**4*cos(i)**2 + 64*pi**2*e**5*x**7*sin(w)**2*cos(i)**6*cos(w)**2 - 128*pi**2*e**5*x**7*sin(w)**2*cos(i)**4*cos(w)**2 + 64*pi**2*e**5*x**7*sin(w)**2*cos(i)**2*cos(w)**2 + 32*pi**2*e**5*x**7*cos(i)**6*cos(w)**4 - 64*pi**2*e**5*x**7*cos(i)**4*cos(w)**4 + 32*pi**2*e**5*x**7*cos(i)**2*cos(w)**4 - 64*pi**2*e**5*x**5*sin(i)**4*sin(w)**4*cos(i)**2 - 128*pi**2*e**5*x**5*sin(i)**4*sin(w)**2*cos(i)**2*cos(w)**2 - 64*pi**2*e**5*x**5*sin(i)**4*cos(i)**2*cos(w)**4 - 96*pi**2*e**5*x**5*sin(i)**2*sin(w)**4*cos(i)**4 + 192*pi**2*e**5*x**5*sin(i)**2*sin(w)**4*cos(i)**2 - 288*pi**2*e**5*x**5*sin(i)**2*sin(w)**2*cos(i)**4*cos(w)**2 + 288*pi**2*e**5*x**5*sin(i)**2*sin(w)**2*cos(i)**2*cos(w)**2 - 192*pi**2*e**5*x**5*sin(i)**2*cos(i)**4*cos(w)**4 + 96*pi**2*e**5*x**5*sin(i)**2*cos(i)**2*cos(w)**4 - 32*pi**2*e**5*x**5*sin(w)**4*cos(i)**6 + 128*pi**2*e**5*x**5*sin(w)**4*cos(i)**4 - 96*pi**2*e**5*x**5*sin(w)**4*cos(i)**2 - 128*pi**2*e**5*x**5*sin(w)**2*cos(i)**6*cos(w)**2 + 256*pi**2*e**5*x**5*sin(w)**2*cos(i)**4*cos(w)**2 - 128*pi**2*e**5*x**5*sin(w)**2*cos(i)**2*cos(w)**2 - 96*pi**2*e**5*x**5*cos(i)**6*cos(w)**4 + 128*pi**2*e**5*x**5*cos(i)**4*cos(w)**4 - 32*pi**2*e**5*x**5*cos(i)**2*cos(w)**4 + 64*pi**2*e**5*x**3*sin(i)**4*sin(w)**2*cos(i)**2*cos(w)**2 - 96*pi**2*e**5*x**3*sin(i)**2*sin(w)**4*cos(i)**2 + 96*pi**2*e**5*x**3*sin(i)**2*sin(w)**2*cos(i)**4*cos(w)**2 - 96*pi**2*e**5*x**3*sin(i)**2*sin(w)**2*cos(i)**2*cos(w)**2 + 96*pi**2*e**5*x**3*sin(i)**2*cos(i)**4*cos(w)**4 - 64*pi**2*e**5*x**3*sin(w)**4*cos(i)**4 + 96*pi**2*e**5*x**3*sin(w)**4*cos(i)**2 + 64*pi**2*e**5*x**3*sin(w)**2*cos(i)**6*cos(w)**2 - 64*pi**2*e**5*x**3*sin(w)**2*cos(i)**4*cos(w)**2 + 64*pi**2*e**5*x**3*sin(w)**2*cos(i)**2*cos(w)**2 + 96*pi**2*e**5*x**3*cos(i)**6*cos(w)**4 - 64*pi**2*e**5*x**3*cos(i)**4*cos(w)**4 - 32*pi**2*e**5*x*sin(w)**4*cos(i)**2 - 64*pi**2*e**5*x*sin(w)**2*cos(i)**4*cos(w)**2 - 32*pi**2*e**5*x*cos(i)**6*cos(w)**4 - 16*pi**2*e**4*x**8*sin(i)**4*sin(w)**4*cos(i)**2 - 32*pi**2*e**4*x**8*sin(i)**4*sin(w)**2*cos(i)**2*cos(w)**2 - 16*pi**2*e**4*x**8*sin(i)**4*cos(i)**2*cos(w)**4 - 32*pi**2*e**4*x**8*sin(i)**2*sin(w)**4*cos(i)**4 + 32*pi**2*e**4*x**8*sin(i)**2*sin(w)**4*cos(i)**2 - 64*pi**2*e**4*x**8*sin(i)**2*sin(w)**2*cos(i)**4*cos(w)**2 + 64*pi**2*e**4*x**8*sin(i)**2*sin(w)**2*cos(i)**2*cos(w)**2 - 32*pi**2*e**4*x**8*sin(i)**2*cos(i)**4*cos(w)**4 + 32*pi**2*e**4*x**8*sin(i)**2*cos(i)**2*cos(w)**4 - 16*pi**2*e**4*x**8*sin(w)**4*cos(i)**6 + 32*pi**2*e**4*x**8*sin(w)**4*cos(i)**4 - 16*pi**2*e**4*x**8*sin(w)**4*cos(i)**2 - 32*pi**2*e**4*x**8*sin(w)**2*cos(i)**6*cos(w)**2 + 64*pi**2*e**4*x**8*sin(w)**2*cos(i)**4*cos(w)**2 - 32*pi**2*e**4*x**8*sin(w)**2*cos(i)**2*cos(w)**2 - 16*pi**2*e**4*x**8*cos(i)**6*cos(w)**4 + 32*pi**2*e**4*x**8*cos(i)**4*cos(w)**4 - 16*pi**2*e**4*x**8*cos(i)**2*cos(w)**4 + 112*pi**2*e**4*x**6*sin(i)**4*sin(w)**4*cos(i)**2 + 224*pi**2*e**4*x**6*sin(i)**4*sin(w)**2*cos(i)**2*cos(w)**2 + 112*pi**2*e**4*x**6*sin(i)**4*cos(i)**2*cos(w)**4 + 128*pi**2*e**4*x**6*sin(i)**2*sin(w)**4*cos(i)**4 - 160*pi**2*e**4*x**6*sin(i)**2*sin(w)**4*cos(i)**2 + 288*pi**2*e**4*x**6*sin(i)**2*sin(w)**2*cos(i)**4*cos(w)**2 - 288*pi**2*e**4*x**6*sin(i)**2*sin(w)**2*cos(i)**2*cos(w)**2 + 160*pi**2*e**4*x**6*sin(i)**2*cos(i)**4*cos(w)**4 - 128*pi**2*e**4*x**6*sin(i)**2*cos(i)**2*cos(w)**4 + 32*pi**2*e**4*x**6*sin(w)**4*cos(i)**6 - 96*pi**2*e**4*x**6*sin(w)**4*cos(i)**4 + 64*pi**2*e**4*x**6*sin(w)**4*cos(i)**2 + 96*pi**2*e**4*x**6*sin(w)**2*cos(i)**6*cos(w)**2 - 192*pi**2*e**4*x**6*sin(w)**2*cos(i)**4*cos(w)**2 + 96*pi**2*e**4*x**6*sin(w)**2*cos(i)**2*cos(w)**2 + 64*pi**2*e**4*x**6*cos(i)**6*cos(w)**4 - 96*pi**2*e**4*x**6*cos(i)**4*cos(w)**4 + 32*pi**2*e**4*x**6*cos(i)**2*cos(w)**4 - 96*pi**2*e**4*x**4*sin(i)**4*sin(w)**4*cos(i)**2 - 208*pi**2*e**4*x**4*sin(i)**4*sin(w)**2*cos(i)**2*cos(w)**2 - 96*pi**2*e**4*x**4*sin(i)**4*cos(i)**2*cos(w)**4 - 96*pi**2*e**4*x**4*sin(i)**2*sin(w)**4*cos(i)**4 + 224*pi**2*e**4*x**4*sin(i)**2*sin(w)**4*cos(i)**2 - 320*pi**2*e**4*x**4*sin(i)**2*sin(w)**2*cos(i)**4*cos(w)**2 + 320*pi**2*e**4*x**4*sin(i)**2*sin(w)**2*cos(i)**2*cos(w)**2 - 224*pi**2*e**4*x**4*sin(i)**2*cos(i)**4*cos(w)**4 + 96*pi**2*e**4*x**4*sin(i)**2*cos(i)**2*cos(w)**4 - 16*pi**2*e**4*x**4*sin(w)**4*cos(i)**6 + 96*pi**2*e**4*x**4*sin(w)**4*cos(i)**4 - 96*pi**2*e**4*x**4*sin(w)**4*cos(i)**2 - 96*pi**2*e**4*x**4*sin(w)**2*cos(i)**6*cos(w)**2 + 160*pi**2*e**4*x**4*sin(w)**2*cos(i)**4*cos(w)**2 - 96*pi**2*e**4*x**4*sin(w)**2*cos(i)**2*cos(w)**2 - 96*pi**2*e**4*x**4*cos(i)**6*cos(w)**4 + 96*pi**2*e**4*x**4*cos(i)**4*cos(w)**4 - 16*pi**2*e**4*x**4*cos(i)**2*cos(w)**4 + 96*pi**2*e**4*x**2*sin(i)**4*sin(w)**2*cos(i)**2*cos(w)**2 - 96*pi**2*e**4*x**2*sin(i)**2*sin(w)**4*cos(i)**2 + 96*pi**2*e**4*x**2*sin(i)**2*sin(w)**2*cos(i)**4*cos(w)**2 - 96*pi**2*e**4*x**2*sin(i)**2*sin(w)**2*cos(i)**2*cos(w)**2 + 96*pi**2*e**4*x**2*sin(i)**2*cos(i)**4*cos(w)**4 - 32*pi**2*e**4*x**2*sin(w)**4*cos(i)**4 + 64*pi**2*e**4*x**2*sin(w)**4*cos(i)**2 + 32*pi**2*e**4*x**2*sin(w)**2*cos(i)**6*cos(w)**2 + 32*pi**2*e**4*x**2*sin(w)**2*cos(i)**2*cos(w)**2 + 64*pi**2*e**4*x**2*cos(i)**6*cos(w)**4 - 32*pi**2*e**4*x**2*cos(i)**4*cos(w)**4 - 16*pi**2*e**4*sin(w)**4*cos(i)**2 - 32*pi**2*e**4*sin(w)**2*cos(i)**4*cos(w)**2 - 16*pi**2*e**4*cos(i)**6*cos(w)**4 - 64*pi**2*e**3*x**7*sin(i)**4*sin(w)**4*cos(i)**2 - 128*pi**2*e**3*x**7*sin(i)**4*sin(w)**2*cos(i)**2*cos(w)**2 - 64*pi**2*e**3*x**7*sin(i)**4*cos(i)**2*cos(w)**4 - 96*pi**2*e**3*x**7*sin(i)**2*sin(w)**4*cos(i)**4 + 96*pi**2*e**3*x**7*sin(i)**2*sin(w)**4*cos(i)**2 - 192*pi**2*e**3*x**7*sin(i)**2*sin(w)**2*cos(i)**4*cos(w)**2 + 192*pi**2*e**3*x**7*sin(i)**2*sin(w)**2*cos(i)**2*cos(w)**2 - 96*pi**2*e**3*x**7*sin(i)**2*cos(i)**4*cos(w)**4 + 96*pi**2*e**3*x**7*sin(i)**2*cos(i)**2*cos(w)**4 - 32*pi**2*e**3*x**7*sin(w)**4*cos(i)**6 + 64*pi**2*e**3*x**7*sin(w)**4*cos(i)**4 - 32*pi**2*e**3*x**7*sin(w)**4*cos(i)**2 - 64*pi**2*e**3*x**7*sin(w)**2*cos(i)**6*cos(w)**2 + 128*pi**2*e**3*x**7*sin(w)**2*cos(i)**4*cos(w)**2 - 64*pi**2*e**3*x**7*sin(w)**2*cos(i)**2*cos(w)**2 - 32*pi**2*e**3*x**7*cos(i)**6*cos(w)**4 + 64*pi**2*e**3*x**7*cos(i)**4*cos(w)**4 - 32*pi**2*e**3*x**7*cos(i)**2*cos(w)**4 + 128*pi**2*e**3*x**5*sin(i)**4*sin(w)**4*cos(i)**2 + 256*pi**2*e**3*x**5*sin(i)**4*sin(w)**2*cos(i)**2*cos(w)**2 + 128*pi**2*e**3*x**5*sin(i)**4*cos(i)**2*cos(w)**4 + 128*pi**2*e**3*x**5*sin(i)**2*sin(w)**4*cos(i)**4 - 224*pi**2*e**3*x**5*sin(i)**2*sin(w)**4*cos(i)**2 + 352*pi**2*e**3*x**5*sin(i)**2*sin(w)**2*cos(i)**4*cos(w)**2 - 352*pi**2*e**3*x**5*sin(i)**2*sin(w)**2*cos(i)**2*cos(w)**2 + 224*pi**2*e**3*x**5*sin(i)**2*cos(i)**4*cos(w)**4 - 128*pi**2*e**3*x**5*sin(i)**2*cos(i)**2*cos(w)**4 + 32*pi**2*e**3*x**5*sin(w)**4*cos(i)**6 - 128*pi**2*e**3*x**5*sin(w)**4*cos(i)**4 + 96*pi**2*e**3*x**5*sin(w)**4*cos(i)**2 + 128*pi**2*e**3*x**5*sin(w)**2*cos(i)**6*cos(w)**2 - 256*pi**2*e**3*x**5*sin(w)**2*cos(i)**4*cos(w)**2 + 128*pi**2*e**3*x**5*sin(w)**2*cos(i)**2*cos(w)**2 + 96*pi**2*e**3*x**5*cos(i)**6*cos(w)**4 - 128*pi**2*e**3*x**5*cos(i)**4*cos(w)**4 + 32*pi**2*e**3*x**5*cos(i)**2*cos(w)**4 - 64*pi**2*e**3*x**3*sin(i)**4*sin(w)**4*cos(i)**2 - 192*pi**2*e**3*x**3*sin(i)**4*sin(w)**2*cos(i)**2*cos(w)**2 - 64*pi**2*e**3*x**3*sin(i)**4*cos(i)**2*cos(w)**4 - 32*pi**2*e**3*x**3*sin(i)**2*sin(w)**4*cos(i)**4 + 160*pi**2*e**3*x**3*sin(i)**2*sin(w)**4*cos(i)**2 - 192*pi**2*e**3*x**3*sin(i)**2*sin(w)**2*cos(i)**4*cos(w)**2 + 192*pi**2*e**3*x**3*sin(i)**2*sin(w)**2*cos(i)**2*cos(w)**2 - 160*pi**2*e**3*x**3*sin(i)**2*cos(i)**4*cos(w)**4 + 32*pi**2*e**3*x**3*sin(i)**2*cos(i)**2*cos(w)**4 + 64*pi**2*e**3*x**3*sin(w)**4*cos(i)**4 - 96*pi**2*e**3*x**3*sin(w)**4*cos(i)**2 - 64*pi**2*e**3*x**3*sin(w)**2*cos(i)**6*cos(w)**2 + 64*pi**2*e**3*x**3*sin(w)**2*cos(i)**4*cos(w)**2 - 64*pi**2*e**3*x**3*sin(w)**2*cos(i)**2*cos(w)**2 - 96*pi**2*e**3*x**3*cos(i)**6*cos(w)**4 + 64*pi**2*e**3*x**3*cos(i)**4*cos(w)**4 + 64*pi**2*e**3*x*sin(i)**4*sin(w)**2*cos(i)**2*cos(w)**2 - 32*pi**2*e**3*x*sin(i)**2*sin(w)**4*cos(i)**2 + 32*pi**2*e**3*x*sin(i)**2*sin(w)**2*cos(i)**4*cos(w)**2 - 32*pi**2*e**3*x*sin(i)**2*sin(w)**2*cos(i)**2*cos(w)**2 + 32*pi**2*e**3*x*sin(i)**2*cos(i)**4*cos(w)**4 + 32*pi**2*e**3*x*sin(w)**4*cos(i)**2 + 64*pi**2*e**3*x*sin(w)**2*cos(i)**4*cos(w)**2 + 32*pi**2*e**3*x*cos(i)**6*cos(w)**4 - 96*pi**2*e**2*x**6*sin(i)**4*sin(w)**4*cos(i)**2 - 192*pi**2*e**2*x**6*sin(i)**4*sin(w)**2*cos(i)**2*cos(w)**2 - 96*pi**2*e**2*x**6*sin(i)**4*cos(i)**2*cos(w)**4 - 96*pi**2*e**2*x**6*sin(i)**2*sin(w)**4*cos(i)**4 + 96*pi**2*e**2*x**6*sin(i)**2*sin(w)**4*cos(i)**2 - 192*pi**2*e**2*x**6*sin(i)**2*sin(w)**2*cos(i)**4*cos(w)**2 + 192*pi**2*e**2*x**6*sin(i)**2*sin(w)**2*cos(i)**2*cos(w)**2 - 96*pi**2*e**2*x**6*sin(i)**2*cos(i)**4*cos(w)**4 + 96*pi**2*e**2*x**6*sin(i)**2*cos(i)**2*cos(w)**4 - 16*pi**2*e**2*x**6*sin(w)**4*cos(i)**6 + 32*pi**2*e**2*x**6*sin(w)**4*cos(i)**4 - 16*pi**2*e**2*x**6*sin(w)**4*cos(i)**2 - 32*pi**2*e**2*x**6*sin(w)**2*cos(i)**6*cos(w)**2 + 64*pi**2*e**2*x**6*sin(w)**2*cos(i)**4*cos(w)**2 - 32*pi**2*e**2*x**6*sin(w)**2*cos(i)**2*cos(w)**2 - 16*pi**2*e**2*x**6*cos(i)**6*cos(w)**4 + 32*pi**2*e**2*x**6*cos(i)**4*cos(w)**4 - 16*pi**2*e**2*x**6*cos(i)**2*cos(w)**4 + 112*pi**2*e**2*x**4*sin(i)**4*sin(w)**4*cos(i)**2 + 224*pi**2*e**2*x**4*sin(i)**4*sin(w)**2*cos(i)**2*cos(w)**2 + 112*pi**2*e**2*x**4*sin(i)**4*cos(i)**2*cos(w)**4 + 96*pi**2*e**2*x**4*sin(i)**2*sin(w)**4*cos(i)**4 - 192*pi**2*e**2*x**4*sin(i)**2*sin(w)**4*cos(i)**2 + 288*pi**2*e**2*x**4*sin(i)**2*sin(w)**2*cos(i)**4*cos(w)**2 - 288*pi**2*e**2*x**4*sin(i)**2*sin(w)**2*cos(i)**2*cos(w)**2 + 192*pi**2*e**2*x**4*sin(i)**2*cos(i)**4*cos(w)**4 - 96*pi**2*e**2*x**4*sin(i)**2*cos(i)**2*cos(w)**4 + 16*pi**2*e**2*x**4*sin(w)**4*cos(i)**6 - 64*pi**2*e**2*x**4*sin(w)**4*cos(i)**4 + 48*pi**2*e**2*x**4*sin(w)**4*cos(i)**2 + 64*pi**2*e**2*x**4*sin(w)**2*cos(i)**6*cos(w)**2 - 128*pi**2*e**2*x**4*sin(w)**2*cos(i)**4*cos(w)**2 + 64*pi**2*e**2*x**4*sin(w)**2*cos(i)**2*cos(w)**2 + 48*pi**2*e**2*x**4*cos(i)**6*cos(w)**4 - 64*pi**2*e**2*x**4*cos(i)**4*cos(w)**4 + 16*pi**2*e**2*x**4*cos(i)**2*cos(w)**4 - 16*pi**2*e**2*x**2*sin(i)**4*sin(w)**4*cos(i)**2 - 128*pi**2*e**2*x**2*sin(i)**4*sin(w)**2*cos(i)**2*cos(w)**2 - 16*pi**2*e**2*x**2*sin(i)**4*cos(i)**2*cos(w)**4 + 96*pi**2*e**2*x**2*sin(i)**2*sin(w)**4*cos(i)**2 - 96*pi**2*e**2*x**2*sin(i)**2*sin(w)**2*cos(i)**4*cos(w)**2 + 96*pi**2*e**2*x**2*sin(i)**2*sin(w)**2*cos(i)**2*cos(w)**2 - 96*pi**2*e**2*x**2*sin(i)**2*cos(i)**4*cos(w)**4 + 32*pi**2*e**2*x**2*sin(w)**4*cos(i)**4 - 48*pi**2*e**2*x**2*sin(w)**4*cos(i)**2 - 32*pi**2*e**2*x**2*sin(w)**2*cos(i)**6*cos(w)**2 + 32*pi**2*e**2*x**2*sin(w)**2*cos(i)**4*cos(w)**2 - 32*pi**2*e**2*x**2*sin(w)**2*cos(i)**2*cos(w)**2 - 48*pi**2*e**2*x**2*cos(i)**6*cos(w)**4 + 32*pi**2*e**2*x**2*cos(i)**4*cos(w)**4 + 16*pi**2*e**2*sin(i)**4*sin(w)**2*cos(i)**2*cos(w)**2 + 16*pi**2*e**2*sin(w)**4*cos(i)**2 + 32*pi**2*e**2*sin(w)**2*cos(i)**4*cos(w)**2 + 16*pi**2*e**2*cos(i)**6*cos(w)**4 - 64*pi**2*e*x**5*sin(i)**4*sin(w)**4*cos(i)**2 - 128*pi**2*e*x**5*sin(i)**4*sin(w)**2*cos(i)**2*cos(w)**2 - 64*pi**2*e*x**5*sin(i)**4*cos(i)**2*cos(w)**4 - 32*pi**2*e*x**5*sin(i)**2*sin(w)**4*cos(i)**4 + 32*pi**2*e*x**5*sin(i)**2*sin(w)**4*cos(i)**2 - 64*pi**2*e*x**5*sin(i)**2*sin(w)**2*cos(i)**4*cos(w)**2 + 64*pi**2*e*x**5*sin(i)**2*sin(w)**2*cos(i)**2*cos(w)**2 - 32*pi**2*e*x**5*sin(i)**2*cos(i)**4*cos(w)**4 + 32*pi**2*e*x**5*sin(i)**2*cos(i)**2*cos(w)**4 + 64*pi**2*e*x**3*sin(i)**4*sin(w)**4*cos(i)**2 + 128*pi**2*e*x**3*sin(i)**4*sin(w)**2*cos(i)**2*cos(w)**2 + 64*pi**2*e*x**3*sin(i)**4*cos(i)**2*cos(w)**4 + 32*pi**2*e*x**3*sin(i)**2*sin(w)**4*cos(i)**4 - 64*pi**2*e*x**3*sin(i)**2*sin(w)**4*cos(i)**2 + 96*pi**2*e*x**3*sin(i)**2*sin(w)**2*cos(i)**4*cos(w)**2 - 96*pi**2*e*x**3*sin(i)**2*sin(w)**2*cos(i)**2*cos(w)**2 + 64*pi**2*e*x**3*sin(i)**2*cos(i)**4*cos(w)**4 - 32*pi**2*e*x**3*sin(i)**2*cos(i)**2*cos(w)**4 - 64*pi**2*e*x*sin(i)**4*sin(w)**2*cos(i)**2*cos(w)**2 + 32*pi**2*e*x*sin(i)**2*sin(w)**4*cos(i)**2 - 32*pi**2*e*x*sin(i)**2*sin(w)**2*cos(i)**4*cos(w)**2 + 32*pi**2*e*x*sin(i)**2*sin(w)**2*cos(i)**2*cos(w)**2 - 32*pi**2*e*x*sin(i)**2*cos(i)**4*cos(w)**4 - 16*pi**2*x**4*sin(i)**4*sin(w)**4*cos(i)**2 - 32*pi**2*x**4*sin(i)**4*sin(w)**2*cos(i)**2*cos(w)**2 - 16*pi**2*x**4*sin(i)**4*cos(i)**2*cos(w)**4 + 16*pi**2*x**2*sin(i)**4*sin(w)**4*cos(i)**2 + 32*pi**2*x**2*sin(i)**4*sin(w)**2*cos(i)**2*cos(w)**2 + 16*pi**2*x**2*sin(i)**4*cos(i)**2*cos(w)**4 - 16*pi**2*sin(i)**4*sin(w)**2*cos(i)**2*cos(w)**2"
      ]
     },
     "execution_count": 487,
     "metadata": {},
     "output_type": "execute_result"
    }
   ],
   "source": [
    "sp.expand(ddthetabydtdvPolyEq0Quartic)"
   ]
  },
  {
   "cell_type": "code",
   "execution_count": null,
   "metadata": {},
   "outputs": [],
   "source": []
  },
  {
   "cell_type": "code",
   "execution_count": null,
   "metadata": {},
   "outputs": [],
   "source": []
  },
  {
   "cell_type": "code",
   "execution_count": null,
   "metadata": {},
   "outputs": [],
   "source": []
  },
  {
   "cell_type": "code",
   "execution_count": null,
   "metadata": {},
   "outputs": [],
   "source": []
  },
  {
   "cell_type": "markdown",
   "metadata": {},
   "source": [
    "# Calculate ddthetabyddv"
   ]
  },
  {
   "cell_type": "code",
   "execution_count": 488,
   "metadata": {},
   "outputs": [],
   "source": [
    "ddthetabyddv = sp.diff(dthetabydv,v).subs(sp.cos(w+v),cosvpw).subs(sp.sin(w+v),sinvpw)"
   ]
  },
  {
   "cell_type": "code",
   "execution_count": 489,
   "metadata": {},
   "outputs": [
    {
     "data": {
      "text/latex": [
       "$\\displaystyle \\frac{\\left(- 2 \\left(- \\sin{\\left(v \\right)} \\sin{\\left(w \\right)} + \\cos{\\left(v \\right)} \\cos{\\left(w \\right)}\\right) \\left(\\sin{\\left(v \\right)} \\cos{\\left(w \\right)} + \\sin{\\left(w \\right)} \\cos{\\left(v \\right)}\\right) \\cos^{2}{\\left(i \\right)} + 2 \\left(- \\sin{\\left(v \\right)} \\sin{\\left(w \\right)} + \\cos{\\left(v \\right)} \\cos{\\left(w \\right)}\\right) \\left(\\sin{\\left(v \\right)} \\cos{\\left(w \\right)} + \\sin{\\left(w \\right)} \\cos{\\left(v \\right)}\\right)\\right) \\cos{\\left(i \\right)}}{\\left(\\left(- \\sin{\\left(v \\right)} \\sin{\\left(w \\right)} + \\cos{\\left(v \\right)} \\cos{\\left(w \\right)}\\right)^{2} + \\left(\\sin{\\left(v \\right)} \\cos{\\left(w \\right)} + \\sin{\\left(w \\right)} \\cos{\\left(v \\right)}\\right)^{2} \\cos^{2}{\\left(i \\right)}\\right)^{2}}$"
      ],
      "text/plain": [
       "(-2*(-sin(v)*sin(w) + cos(v)*cos(w))*(sin(v)*cos(w) + sin(w)*cos(v))*cos(i)**2 + 2*(-sin(v)*sin(w) + cos(v)*cos(w))*(sin(v)*cos(w) + sin(w)*cos(v)))*cos(i)/((-sin(v)*sin(w) + cos(v)*cos(w))**2 + (sin(v)*cos(w) + sin(w)*cos(v))**2*cos(i)**2)**2"
      ]
     },
     "execution_count": 489,
     "metadata": {},
     "output_type": "execute_result"
    }
   ],
   "source": [
    "ddthetabyddv"
   ]
  },
  {
   "cell_type": "code",
   "execution_count": 490,
   "metadata": {},
   "outputs": [
    {
     "name": "stdout",
     "output_type": "stream",
     "text": [
      "(-2*(-sin(v)*sin(w) + cos(v)*cos(w))*(sin(v)*cos(w) + sin(w)*cos(v))*cos(i)**2 + 2*(-sin(v)*sin(w) + cos(v)*cos(w))*(sin(v)*cos(w) + sin(w)*cos(v)))*cos(i)/((-sin(v)*sin(w) + cos(v)*cos(w))**2 + (sin(v)*cos(w) + sin(w)*cos(v))**2*cos(i)**2)**2\n"
     ]
    }
   ],
   "source": [
    "print(ddthetabyddv)"
   ]
  },
  {
   "cell_type": "code",
   "execution_count": 491,
   "metadata": {},
   "outputs": [],
   "source": [
    "numerator = sp.fraction(ddthetabyddv)[0] #with denominator removed after setting lhs to 0"
   ]
  },
  {
   "cell_type": "code",
   "execution_count": 492,
   "metadata": {},
   "outputs": [
    {
     "data": {
      "text/latex": [
       "$\\displaystyle \\left(- 2 \\left(- \\sin{\\left(v \\right)} \\sin{\\left(w \\right)} + \\cos{\\left(v \\right)} \\cos{\\left(w \\right)}\\right) \\left(\\sin{\\left(v \\right)} \\cos{\\left(w \\right)} + \\sin{\\left(w \\right)} \\cos{\\left(v \\right)}\\right) \\cos^{2}{\\left(i \\right)} + 2 \\left(- \\sin{\\left(v \\right)} \\sin{\\left(w \\right)} + \\cos{\\left(v \\right)} \\cos{\\left(w \\right)}\\right) \\left(\\sin{\\left(v \\right)} \\cos{\\left(w \\right)} + \\sin{\\left(w \\right)} \\cos{\\left(v \\right)}\\right)\\right) \\cos{\\left(i \\right)}$"
      ],
      "text/plain": [
       "(-2*(-sin(v)*sin(w) + cos(v)*cos(w))*(sin(v)*cos(w) + sin(w)*cos(v))*cos(i)**2 + 2*(-sin(v)*sin(w) + cos(v)*cos(w))*(sin(v)*cos(w) + sin(w)*cos(v)))*cos(i)"
      ]
     },
     "execution_count": 492,
     "metadata": {},
     "output_type": "execute_result"
    }
   ],
   "source": [
    "numerator"
   ]
  },
  {
   "cell_type": "code",
   "execution_count": 493,
   "metadata": {},
   "outputs": [],
   "source": [
    "ddthetabyddv = sp.expand(numerator.subs(sp.sin(v),sinv)).subs(sp.cos(v),x) #with denominator removed"
   ]
  },
  {
   "cell_type": "code",
   "execution_count": 494,
   "metadata": {},
   "outputs": [
    {
     "data": {
      "text/latex": [
       "$\\displaystyle - 4 x^{2} \\sin{\\left(w \\right)} \\cos^{3}{\\left(i \\right)} \\cos{\\left(w \\right)} + 4 x^{2} \\sin{\\left(w \\right)} \\cos{\\left(i \\right)} \\cos{\\left(w \\right)} + 2 x \\sqrt{1 - x^{2}} \\sin^{2}{\\left(w \\right)} \\cos^{3}{\\left(i \\right)} - 2 x \\sqrt{1 - x^{2}} \\sin^{2}{\\left(w \\right)} \\cos{\\left(i \\right)} - 2 x \\sqrt{1 - x^{2}} \\cos^{3}{\\left(i \\right)} \\cos^{2}{\\left(w \\right)} + 2 x \\sqrt{1 - x^{2}} \\cos{\\left(i \\right)} \\cos^{2}{\\left(w \\right)} + 2 \\sin{\\left(w \\right)} \\cos^{3}{\\left(i \\right)} \\cos{\\left(w \\right)} - 2 \\sin{\\left(w \\right)} \\cos{\\left(i \\right)} \\cos{\\left(w \\right)}$"
      ],
      "text/plain": [
       "-4*x**2*sin(w)*cos(i)**3*cos(w) + 4*x**2*sin(w)*cos(i)*cos(w) + 2*x*sqrt(1 - x**2)*sin(w)**2*cos(i)**3 - 2*x*sqrt(1 - x**2)*sin(w)**2*cos(i) - 2*x*sqrt(1 - x**2)*cos(i)**3*cos(w)**2 + 2*x*sqrt(1 - x**2)*cos(i)*cos(w)**2 + 2*sin(w)*cos(i)**3*cos(w) - 2*sin(w)*cos(i)*cos(w)"
      ]
     },
     "execution_count": 494,
     "metadata": {},
     "output_type": "execute_result"
    }
   ],
   "source": [
    "ddthetabyddv"
   ]
  },
  {
   "cell_type": "code",
   "execution_count": null,
   "metadata": {},
   "outputs": [],
   "source": []
  },
  {
   "cell_type": "code",
   "execution_count": 495,
   "metadata": {},
   "outputs": [],
   "source": [
    "ddthetabyddvPoly = sp.Poly(ddthetabyddv,sp.sqrt(1-x**2))"
   ]
  },
  {
   "cell_type": "code",
   "execution_count": 496,
   "metadata": {},
   "outputs": [
    {
     "data": {
      "text/latex": [
       "$\\displaystyle 2 x \\sin^{2}{\\left(w \\right)} \\cos^{3}{\\left(i \\right)} - 2 x \\sin^{2}{\\left(w \\right)} \\cos{\\left(i \\right)} - 2 x \\cos^{3}{\\left(i \\right)} \\cos^{2}{\\left(w \\right)} + 2 x \\cos{\\left(i \\right)} \\cos^{2}{\\left(w \\right)}$"
      ],
      "text/plain": [
       "2*x*sin(w)**2*cos(i)**3 - 2*x*sin(w)**2*cos(i) - 2*x*cos(i)**3*cos(w)**2 + 2*x*cos(i)*cos(w)**2"
      ]
     },
     "execution_count": 496,
     "metadata": {},
     "output_type": "execute_result"
    }
   ],
   "source": [
    "ddthetabyddvPoly.coeffs()[0]"
   ]
  },
  {
   "cell_type": "code",
   "execution_count": 497,
   "metadata": {},
   "outputs": [
    {
     "data": {
      "text/latex": [
       "$\\displaystyle - 4 x^{2} \\sin{\\left(w \\right)} \\cos^{3}{\\left(i \\right)} \\cos{\\left(w \\right)} + 4 x^{2} \\sin{\\left(w \\right)} \\cos{\\left(i \\right)} \\cos{\\left(w \\right)} + 2 \\sin{\\left(w \\right)} \\cos^{3}{\\left(i \\right)} \\cos{\\left(w \\right)} - 2 \\sin{\\left(w \\right)} \\cos{\\left(i \\right)} \\cos{\\left(w \\right)}$"
      ],
      "text/plain": [
       "-4*x**2*sin(w)*cos(i)**3*cos(w) + 4*x**2*sin(w)*cos(i)*cos(w) + 2*sin(w)*cos(i)**3*cos(w) - 2*sin(w)*cos(i)*cos(w)"
      ]
     },
     "execution_count": 497,
     "metadata": {},
     "output_type": "execute_result"
    }
   ],
   "source": [
    "ddthetabyddvPoly.coeffs()[1]"
   ]
  },
  {
   "cell_type": "code",
   "execution_count": 498,
   "metadata": {},
   "outputs": [],
   "source": [
    "ddthetabyddvEq0Quartic = ddthetabyddvPoly.coeffs()[0]**2 - ddthetabyddvPoly.coeffs()[0]**2*x**2 - ddthetabyddvPoly.coeffs()[1]**2"
   ]
  },
  {
   "cell_type": "code",
   "execution_count": 499,
   "metadata": {},
   "outputs": [
    {
     "data": {
      "text/latex": [
       "$\\displaystyle - 4 x^{4} \\sin^{4}{\\left(w \\right)} \\cos^{6}{\\left(i \\right)} + 8 x^{4} \\sin^{4}{\\left(w \\right)} \\cos^{4}{\\left(i \\right)} - 4 x^{4} \\sin^{4}{\\left(w \\right)} \\cos^{2}{\\left(i \\right)} - 8 x^{4} \\sin^{2}{\\left(w \\right)} \\cos^{6}{\\left(i \\right)} \\cos^{2}{\\left(w \\right)} + 16 x^{4} \\sin^{2}{\\left(w \\right)} \\cos^{4}{\\left(i \\right)} \\cos^{2}{\\left(w \\right)} - 8 x^{4} \\sin^{2}{\\left(w \\right)} \\cos^{2}{\\left(i \\right)} \\cos^{2}{\\left(w \\right)} - 4 x^{4} \\cos^{6}{\\left(i \\right)} \\cos^{4}{\\left(w \\right)} + 8 x^{4} \\cos^{4}{\\left(i \\right)} \\cos^{4}{\\left(w \\right)} - 4 x^{4} \\cos^{2}{\\left(i \\right)} \\cos^{4}{\\left(w \\right)} + 4 x^{2} \\sin^{4}{\\left(w \\right)} \\cos^{6}{\\left(i \\right)} - 8 x^{2} \\sin^{4}{\\left(w \\right)} \\cos^{4}{\\left(i \\right)} + 4 x^{2} \\sin^{4}{\\left(w \\right)} \\cos^{2}{\\left(i \\right)} + 8 x^{2} \\sin^{2}{\\left(w \\right)} \\cos^{6}{\\left(i \\right)} \\cos^{2}{\\left(w \\right)} - 16 x^{2} \\sin^{2}{\\left(w \\right)} \\cos^{4}{\\left(i \\right)} \\cos^{2}{\\left(w \\right)} + 8 x^{2} \\sin^{2}{\\left(w \\right)} \\cos^{2}{\\left(i \\right)} \\cos^{2}{\\left(w \\right)} + 4 x^{2} \\cos^{6}{\\left(i \\right)} \\cos^{4}{\\left(w \\right)} - 8 x^{2} \\cos^{4}{\\left(i \\right)} \\cos^{4}{\\left(w \\right)} + 4 x^{2} \\cos^{2}{\\left(i \\right)} \\cos^{4}{\\left(w \\right)} - 4 \\sin^{2}{\\left(w \\right)} \\cos^{6}{\\left(i \\right)} \\cos^{2}{\\left(w \\right)} + 8 \\sin^{2}{\\left(w \\right)} \\cos^{4}{\\left(i \\right)} \\cos^{2}{\\left(w \\right)} - 4 \\sin^{2}{\\left(w \\right)} \\cos^{2}{\\left(i \\right)} \\cos^{2}{\\left(w \\right)}$"
      ],
      "text/plain": [
       "-4*x**4*sin(w)**4*cos(i)**6 + 8*x**4*sin(w)**4*cos(i)**4 - 4*x**4*sin(w)**4*cos(i)**2 - 8*x**4*sin(w)**2*cos(i)**6*cos(w)**2 + 16*x**4*sin(w)**2*cos(i)**4*cos(w)**2 - 8*x**4*sin(w)**2*cos(i)**2*cos(w)**2 - 4*x**4*cos(i)**6*cos(w)**4 + 8*x**4*cos(i)**4*cos(w)**4 - 4*x**4*cos(i)**2*cos(w)**4 + 4*x**2*sin(w)**4*cos(i)**6 - 8*x**2*sin(w)**4*cos(i)**4 + 4*x**2*sin(w)**4*cos(i)**2 + 8*x**2*sin(w)**2*cos(i)**6*cos(w)**2 - 16*x**2*sin(w)**2*cos(i)**4*cos(w)**2 + 8*x**2*sin(w)**2*cos(i)**2*cos(w)**2 + 4*x**2*cos(i)**6*cos(w)**4 - 8*x**2*cos(i)**4*cos(w)**4 + 4*x**2*cos(i)**2*cos(w)**4 - 4*sin(w)**2*cos(i)**6*cos(w)**2 + 8*sin(w)**2*cos(i)**4*cos(w)**2 - 4*sin(w)**2*cos(i)**2*cos(w)**2"
      ]
     },
     "execution_count": 499,
     "metadata": {},
     "output_type": "execute_result"
    }
   ],
   "source": [
    "sp.expand(ddthetabyddvEq0Quartic)"
   ]
  },
  {
   "cell_type": "code",
   "execution_count": 500,
   "metadata": {},
   "outputs": [],
   "source": [
    "ddthetabyddvEq0QuarticPoly = sp.Poly(ddthetabyddvEq0Quartic,x)"
   ]
  },
  {
   "cell_type": "code",
   "execution_count": 501,
   "metadata": {},
   "outputs": [
    {
     "data": {
      "text/plain": [
       "[-4*sin(w)**4*cos(i)**6 + 8*sin(w)**4*cos(i)**4 - 4*sin(w)**4*cos(i)**2 - 8*sin(w)**2*cos(i)**6*cos(w)**2 + 16*sin(w)**2*cos(i)**4*cos(w)**2 - 8*sin(w)**2*cos(i)**2*cos(w)**2 - 4*cos(i)**6*cos(w)**4 + 8*cos(i)**4*cos(w)**4 - 4*cos(i)**2*cos(w)**4,\n",
       " 4*sin(w)**4*cos(i)**6 - 8*sin(w)**4*cos(i)**4 + 4*sin(w)**4*cos(i)**2 + 8*sin(w)**2*cos(i)**6*cos(w)**2 - 16*sin(w)**2*cos(i)**4*cos(w)**2 + 8*sin(w)**2*cos(i)**2*cos(w)**2 + 4*cos(i)**6*cos(w)**4 - 8*cos(i)**4*cos(w)**4 + 4*cos(i)**2*cos(w)**4,\n",
       " -4*sin(w)**2*cos(i)**6*cos(w)**2 + 8*sin(w)**2*cos(i)**4*cos(w)**2 - 4*sin(w)**2*cos(i)**2*cos(w)**2]"
      ]
     },
     "execution_count": 501,
     "metadata": {},
     "output_type": "execute_result"
    }
   ],
   "source": [
    "ddthetabyddvEq0QuarticPoly.coeffs()"
   ]
  },
  {
   "cell_type": "code",
   "execution_count": 502,
   "metadata": {},
   "outputs": [],
   "source": [
    "#yes this works for finding ddtheta by ddnu but this is not the same as ddtheta by ddt"
   ]
  },
  {
   "cell_type": "code",
   "execution_count": null,
   "metadata": {},
   "outputs": [],
   "source": []
  },
  {
   "cell_type": "markdown",
   "metadata": {},
   "source": [
    "# Calculate ddthetabyddt"
   ]
  },
  {
   "cell_type": "code",
   "execution_count": 503,
   "metadata": {},
   "outputs": [],
   "source": [
    "ddthetabyddv2 = sp.diff(dthetabydv,v).subs(sp.cos(w+v),cosvpw).subs(sp.sin(w+v),sinvpw)"
   ]
  },
  {
   "cell_type": "code",
   "execution_count": 504,
   "metadata": {},
   "outputs": [],
   "source": [
    "ddthetabyddt = ddthetabyddv2*dvbydt2\n",
    "#todo need to multiply by ddvbyddt"
   ]
  },
  {
   "cell_type": "code",
   "execution_count": 505,
   "metadata": {},
   "outputs": [
    {
     "data": {
      "text/latex": [
       "$\\displaystyle \\frac{2 \\pi \\sqrt{1 - e^{2}} \\left(e \\cos{\\left(v \\right)} + 1\\right)^{2} \\left(- 2 \\left(- \\sin{\\left(v \\right)} \\sin{\\left(w \\right)} + \\cos{\\left(v \\right)} \\cos{\\left(w \\right)}\\right) \\left(\\sin{\\left(v \\right)} \\cos{\\left(w \\right)} + \\sin{\\left(w \\right)} \\cos{\\left(v \\right)}\\right) \\cos^{2}{\\left(i \\right)} + 2 \\left(- \\sin{\\left(v \\right)} \\sin{\\left(w \\right)} + \\cos{\\left(v \\right)} \\cos{\\left(w \\right)}\\right) \\left(\\sin{\\left(v \\right)} \\cos{\\left(w \\right)} + \\sin{\\left(w \\right)} \\cos{\\left(v \\right)}\\right)\\right) \\cos{\\left(i \\right)}}{T \\left(\\left(- \\sin{\\left(v \\right)} \\sin{\\left(w \\right)} + \\cos{\\left(v \\right)} \\cos{\\left(w \\right)}\\right)^{2} + \\left(\\sin{\\left(v \\right)} \\cos{\\left(w \\right)} + \\sin{\\left(w \\right)} \\cos{\\left(v \\right)}\\right)^{2} \\cos^{2}{\\left(i \\right)}\\right)^{2} \\left(e^{4} - 2 e^{2} + 1\\right)}$"
      ],
      "text/plain": [
       "2*pi*sqrt(1 - e**2)*(e*cos(v) + 1)**2*(-2*(-sin(v)*sin(w) + cos(v)*cos(w))*(sin(v)*cos(w) + sin(w)*cos(v))*cos(i)**2 + 2*(-sin(v)*sin(w) + cos(v)*cos(w))*(sin(v)*cos(w) + sin(w)*cos(v)))*cos(i)/(T*((-sin(v)*sin(w) + cos(v)*cos(w))**2 + (sin(v)*cos(w) + sin(w)*cos(v))**2*cos(i)**2)**2*(e**4 - 2*e**2 + 1))"
      ]
     },
     "execution_count": 505,
     "metadata": {},
     "output_type": "execute_result"
    }
   ],
   "source": [
    "ddthetabyddt"
   ]
  },
  {
   "cell_type": "code",
   "execution_count": 506,
   "metadata": {},
   "outputs": [],
   "source": [
    "numerator2 = sp.fraction(ddthetabyddt)[0] #with denominator removed after setting lhs to 0"
   ]
  },
  {
   "cell_type": "code",
   "execution_count": 507,
   "metadata": {},
   "outputs": [
    {
     "data": {
      "text/latex": [
       "$\\displaystyle - 4 e^{2} x^{4} \\sin{\\left(w \\right)} \\cos^{2}{\\left(i \\right)} \\cos{\\left(w \\right)} + 4 e^{2} x^{4} \\sin{\\left(w \\right)} \\cos{\\left(w \\right)} + 2 e^{2} x^{3} \\sqrt{1 - x^{2}} \\sin^{2}{\\left(w \\right)} \\cos^{2}{\\left(i \\right)} - 2 e^{2} x^{3} \\sqrt{1 - x^{2}} \\sin^{2}{\\left(w \\right)} - 2 e^{2} x^{3} \\sqrt{1 - x^{2}} \\cos^{2}{\\left(i \\right)} \\cos^{2}{\\left(w \\right)} + 2 e^{2} x^{3} \\sqrt{1 - x^{2}} \\cos^{2}{\\left(w \\right)} + 2 e^{2} x^{2} \\sin{\\left(w \\right)} \\cos^{2}{\\left(i \\right)} \\cos{\\left(w \\right)} - 2 e^{2} x^{2} \\sin{\\left(w \\right)} \\cos{\\left(w \\right)} - 8 e x^{3} \\sin{\\left(w \\right)} \\cos^{2}{\\left(i \\right)} \\cos{\\left(w \\right)} + 8 e x^{3} \\sin{\\left(w \\right)} \\cos{\\left(w \\right)} + 4 e x^{2} \\sqrt{1 - x^{2}} \\sin^{2}{\\left(w \\right)} \\cos^{2}{\\left(i \\right)} - 4 e x^{2} \\sqrt{1 - x^{2}} \\sin^{2}{\\left(w \\right)} - 4 e x^{2} \\sqrt{1 - x^{2}} \\cos^{2}{\\left(i \\right)} \\cos^{2}{\\left(w \\right)} + 4 e x^{2} \\sqrt{1 - x^{2}} \\cos^{2}{\\left(w \\right)} + 4 e x \\sin{\\left(w \\right)} \\cos^{2}{\\left(i \\right)} \\cos{\\left(w \\right)} - 4 e x \\sin{\\left(w \\right)} \\cos{\\left(w \\right)} - 4 x^{2} \\sin{\\left(w \\right)} \\cos^{2}{\\left(i \\right)} \\cos{\\left(w \\right)} + 4 x^{2} \\sin{\\left(w \\right)} \\cos{\\left(w \\right)} + 2 x \\sqrt{1 - x^{2}} \\sin^{2}{\\left(w \\right)} \\cos^{2}{\\left(i \\right)} - 2 x \\sqrt{1 - x^{2}} \\sin^{2}{\\left(w \\right)} - 2 x \\sqrt{1 - x^{2}} \\cos^{2}{\\left(i \\right)} \\cos^{2}{\\left(w \\right)} + 2 x \\sqrt{1 - x^{2}} \\cos^{2}{\\left(w \\right)} + 2 \\sin{\\left(w \\right)} \\cos^{2}{\\left(i \\right)} \\cos{\\left(w \\right)} - 2 \\sin{\\left(w \\right)} \\cos{\\left(w \\right)}$"
      ],
      "text/plain": [
       "-4*e**2*x**4*sin(w)*cos(i)**2*cos(w) + 4*e**2*x**4*sin(w)*cos(w) + 2*e**2*x**3*sqrt(1 - x**2)*sin(w)**2*cos(i)**2 - 2*e**2*x**3*sqrt(1 - x**2)*sin(w)**2 - 2*e**2*x**3*sqrt(1 - x**2)*cos(i)**2*cos(w)**2 + 2*e**2*x**3*sqrt(1 - x**2)*cos(w)**2 + 2*e**2*x**2*sin(w)*cos(i)**2*cos(w) - 2*e**2*x**2*sin(w)*cos(w) - 8*e*x**3*sin(w)*cos(i)**2*cos(w) + 8*e*x**3*sin(w)*cos(w) + 4*e*x**2*sqrt(1 - x**2)*sin(w)**2*cos(i)**2 - 4*e*x**2*sqrt(1 - x**2)*sin(w)**2 - 4*e*x**2*sqrt(1 - x**2)*cos(i)**2*cos(w)**2 + 4*e*x**2*sqrt(1 - x**2)*cos(w)**2 + 4*e*x*sin(w)*cos(i)**2*cos(w) - 4*e*x*sin(w)*cos(w) - 4*x**2*sin(w)*cos(i)**2*cos(w) + 4*x**2*sin(w)*cos(w) + 2*x*sqrt(1 - x**2)*sin(w)**2*cos(i)**2 - 2*x*sqrt(1 - x**2)*sin(w)**2 - 2*x*sqrt(1 - x**2)*cos(i)**2*cos(w)**2 + 2*x*sqrt(1 - x**2)*cos(w)**2 + 2*sin(w)*cos(i)**2*cos(w) - 2*sin(w)*cos(w)"
      ]
     },
     "execution_count": 507,
     "metadata": {},
     "output_type": "execute_result"
    }
   ],
   "source": [
    "sp.expand(sp.expand(numerator2/(sp.cos(inc)*2*sp.pi*sp.sqrt(1-e**2))).subs(sp.sin(v)**2,1-sp.cos(v)**2)).subs(sp.sin(v),sinv).subs(sp.cos(v),x)"
   ]
  },
  {
   "cell_type": "code",
   "execution_count": 508,
   "metadata": {},
   "outputs": [],
   "source": [
    "ddthetabyddt = sp.expand(numerator2.subs(sp.sin(v),sinv)).subs(sp.cos(v),x) #with denominator removed"
   ]
  },
  {
   "cell_type": "code",
   "execution_count": 509,
   "metadata": {},
   "outputs": [
    {
     "data": {
      "text/latex": [
       "$\\displaystyle 4 \\pi \\sqrt{1 - e^{2}} \\left(e x + 1\\right)^{2} \\left(2 x^{2} \\sin{\\left(w \\right)} \\cos{\\left(w \\right)} - 2 x \\sqrt{1 - x^{2}} \\sin^{2}{\\left(w \\right)} + x \\sqrt{1 - x^{2}} - \\sin{\\left(w \\right)} \\cos{\\left(w \\right)}\\right) \\sin^{2}{\\left(i \\right)} \\cos{\\left(i \\right)}$"
      ],
      "text/plain": [
       "4*pi*sqrt(1 - e**2)*(e*x + 1)**2*(2*x**2*sin(w)*cos(w) - 2*x*sqrt(1 - x**2)*sin(w)**2 + x*sqrt(1 - x**2) - sin(w)*cos(w))*sin(i)**2*cos(i)"
      ]
     },
     "execution_count": 509,
     "metadata": {},
     "output_type": "execute_result"
    }
   ],
   "source": [
    "sp.simplify(ddthetabyddt)"
   ]
  },
  {
   "cell_type": "code",
   "execution_count": 510,
   "metadata": {},
   "outputs": [],
   "source": [
    "ddthetabyddtPoly = sp.Poly(ddthetabyddt,sp.sqrt(1-x**2))"
   ]
  },
  {
   "cell_type": "code",
   "execution_count": 511,
   "metadata": {},
   "outputs": [
    {
     "data": {
      "text/latex": [
       "$\\displaystyle 4 \\pi e^{2} x^{3} \\sqrt{1 - e^{2}} \\sin^{2}{\\left(w \\right)} \\cos^{3}{\\left(i \\right)} - 4 \\pi e^{2} x^{3} \\sqrt{1 - e^{2}} \\sin^{2}{\\left(w \\right)} \\cos{\\left(i \\right)} - 4 \\pi e^{2} x^{3} \\sqrt{1 - e^{2}} \\cos^{3}{\\left(i \\right)} \\cos^{2}{\\left(w \\right)} + 4 \\pi e^{2} x^{3} \\sqrt{1 - e^{2}} \\cos{\\left(i \\right)} \\cos^{2}{\\left(w \\right)} + 8 \\pi e x^{2} \\sqrt{1 - e^{2}} \\sin^{2}{\\left(w \\right)} \\cos^{3}{\\left(i \\right)} - 8 \\pi e x^{2} \\sqrt{1 - e^{2}} \\sin^{2}{\\left(w \\right)} \\cos{\\left(i \\right)} - 8 \\pi e x^{2} \\sqrt{1 - e^{2}} \\cos^{3}{\\left(i \\right)} \\cos^{2}{\\left(w \\right)} + 8 \\pi e x^{2} \\sqrt{1 - e^{2}} \\cos{\\left(i \\right)} \\cos^{2}{\\left(w \\right)} + 4 \\pi x \\sqrt{1 - e^{2}} \\sin^{2}{\\left(w \\right)} \\cos^{3}{\\left(i \\right)} - 4 \\pi x \\sqrt{1 - e^{2}} \\sin^{2}{\\left(w \\right)} \\cos{\\left(i \\right)} - 4 \\pi x \\sqrt{1 - e^{2}} \\cos^{3}{\\left(i \\right)} \\cos^{2}{\\left(w \\right)} + 4 \\pi x \\sqrt{1 - e^{2}} \\cos{\\left(i \\right)} \\cos^{2}{\\left(w \\right)}$"
      ],
      "text/plain": [
       "4*pi*e**2*x**3*sqrt(1 - e**2)*sin(w)**2*cos(i)**3 - 4*pi*e**2*x**3*sqrt(1 - e**2)*sin(w)**2*cos(i) - 4*pi*e**2*x**3*sqrt(1 - e**2)*cos(i)**3*cos(w)**2 + 4*pi*e**2*x**3*sqrt(1 - e**2)*cos(i)*cos(w)**2 + 8*pi*e*x**2*sqrt(1 - e**2)*sin(w)**2*cos(i)**3 - 8*pi*e*x**2*sqrt(1 - e**2)*sin(w)**2*cos(i) - 8*pi*e*x**2*sqrt(1 - e**2)*cos(i)**3*cos(w)**2 + 8*pi*e*x**2*sqrt(1 - e**2)*cos(i)*cos(w)**2 + 4*pi*x*sqrt(1 - e**2)*sin(w)**2*cos(i)**3 - 4*pi*x*sqrt(1 - e**2)*sin(w)**2*cos(i) - 4*pi*x*sqrt(1 - e**2)*cos(i)**3*cos(w)**2 + 4*pi*x*sqrt(1 - e**2)*cos(i)*cos(w)**2"
      ]
     },
     "execution_count": 511,
     "metadata": {},
     "output_type": "execute_result"
    }
   ],
   "source": [
    "ddthetabyddtPoly.coeffs()[0]"
   ]
  },
  {
   "cell_type": "code",
   "execution_count": 512,
   "metadata": {},
   "outputs": [
    {
     "data": {
      "text/latex": [
       "$\\displaystyle - 8 \\pi e^{2} x^{4} \\sqrt{1 - e^{2}} \\sin{\\left(w \\right)} \\cos^{3}{\\left(i \\right)} \\cos{\\left(w \\right)} + 8 \\pi e^{2} x^{4} \\sqrt{1 - e^{2}} \\sin{\\left(w \\right)} \\cos{\\left(i \\right)} \\cos{\\left(w \\right)} + 4 \\pi e^{2} x^{2} \\sqrt{1 - e^{2}} \\sin{\\left(w \\right)} \\cos^{3}{\\left(i \\right)} \\cos{\\left(w \\right)} - 4 \\pi e^{2} x^{2} \\sqrt{1 - e^{2}} \\sin{\\left(w \\right)} \\cos{\\left(i \\right)} \\cos{\\left(w \\right)} - 16 \\pi e x^{3} \\sqrt{1 - e^{2}} \\sin{\\left(w \\right)} \\cos^{3}{\\left(i \\right)} \\cos{\\left(w \\right)} + 16 \\pi e x^{3} \\sqrt{1 - e^{2}} \\sin{\\left(w \\right)} \\cos{\\left(i \\right)} \\cos{\\left(w \\right)} + 8 \\pi e x \\sqrt{1 - e^{2}} \\sin{\\left(w \\right)} \\cos^{3}{\\left(i \\right)} \\cos{\\left(w \\right)} - 8 \\pi e x \\sqrt{1 - e^{2}} \\sin{\\left(w \\right)} \\cos{\\left(i \\right)} \\cos{\\left(w \\right)} - 8 \\pi x^{2} \\sqrt{1 - e^{2}} \\sin{\\left(w \\right)} \\cos^{3}{\\left(i \\right)} \\cos{\\left(w \\right)} + 8 \\pi x^{2} \\sqrt{1 - e^{2}} \\sin{\\left(w \\right)} \\cos{\\left(i \\right)} \\cos{\\left(w \\right)} + 4 \\pi \\sqrt{1 - e^{2}} \\sin{\\left(w \\right)} \\cos^{3}{\\left(i \\right)} \\cos{\\left(w \\right)} - 4 \\pi \\sqrt{1 - e^{2}} \\sin{\\left(w \\right)} \\cos{\\left(i \\right)} \\cos{\\left(w \\right)}$"
      ],
      "text/plain": [
       "-8*pi*e**2*x**4*sqrt(1 - e**2)*sin(w)*cos(i)**3*cos(w) + 8*pi*e**2*x**4*sqrt(1 - e**2)*sin(w)*cos(i)*cos(w) + 4*pi*e**2*x**2*sqrt(1 - e**2)*sin(w)*cos(i)**3*cos(w) - 4*pi*e**2*x**2*sqrt(1 - e**2)*sin(w)*cos(i)*cos(w) - 16*pi*e*x**3*sqrt(1 - e**2)*sin(w)*cos(i)**3*cos(w) + 16*pi*e*x**3*sqrt(1 - e**2)*sin(w)*cos(i)*cos(w) + 8*pi*e*x*sqrt(1 - e**2)*sin(w)*cos(i)**3*cos(w) - 8*pi*e*x*sqrt(1 - e**2)*sin(w)*cos(i)*cos(w) - 8*pi*x**2*sqrt(1 - e**2)*sin(w)*cos(i)**3*cos(w) + 8*pi*x**2*sqrt(1 - e**2)*sin(w)*cos(i)*cos(w) + 4*pi*sqrt(1 - e**2)*sin(w)*cos(i)**3*cos(w) - 4*pi*sqrt(1 - e**2)*sin(w)*cos(i)*cos(w)"
      ]
     },
     "execution_count": 512,
     "metadata": {},
     "output_type": "execute_result"
    }
   ],
   "source": [
    "ddthetabyddtPoly.coeffs()[1]"
   ]
  },
  {
   "cell_type": "code",
   "execution_count": 513,
   "metadata": {},
   "outputs": [],
   "source": [
    "ddthetabyddtEq0Quartic = ddthetabyddtPoly.coeffs()[0]**2 - ddthetabyddtPoly.coeffs()[0]**2*x**2 - ddthetabyddtPoly.coeffs()[1]**2"
   ]
  },
  {
   "cell_type": "code",
   "execution_count": 514,
   "metadata": {},
   "outputs": [],
   "source": [
    "ddthetabyddtEq0QuarticPoly = sp.Poly(ddthetabyddtEq0Quartic,x)"
   ]
  },
  {
   "cell_type": "code",
   "execution_count": 515,
   "metadata": {},
   "outputs": [
    {
     "data": {
      "text/plain": [
       "9"
      ]
     },
     "execution_count": 515,
     "metadata": {},
     "output_type": "execute_result"
    }
   ],
   "source": [
    "len(ddthetabyddtEq0QuarticPoly.coeffs())"
   ]
  },
  {
   "cell_type": "code",
   "execution_count": null,
   "metadata": {},
   "outputs": [],
   "source": []
  },
  {
   "cell_type": "markdown",
   "metadata": {},
   "source": [
    "# Calculate ddThetabydtdv"
   ]
  },
  {
   "cell_type": "code",
   "execution_count": 516,
   "metadata": {},
   "outputs": [],
   "source": [
    "ddthetabydtdv = sp.diff(dthetabydv,v).subs(sp.cos(w+v),cosvpw).subs(sp.sin(w+v),sinvpw)"
   ]
  },
  {
   "cell_type": "code",
   "execution_count": null,
   "metadata": {},
   "outputs": [],
   "source": []
  }
 ],
 "metadata": {
  "kernelspec": {
   "display_name": "Python 3",
   "language": "python",
   "name": "python3"
  },
  "language_info": {
   "codemirror_mode": {
    "name": "ipython",
    "version": 3
   },
   "file_extension": ".py",
   "mimetype": "text/x-python",
   "name": "python",
   "nbconvert_exporter": "python",
   "pygments_lexer": "ipython3",
   "version": "3.7.7"
  }
 },
 "nbformat": 4,
 "nbformat_minor": 4
}
