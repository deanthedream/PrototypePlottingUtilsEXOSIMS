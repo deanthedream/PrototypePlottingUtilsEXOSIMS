{
 "cells": [
  {
   "cell_type": "code",
   "execution_count": 1,
   "metadata": {},
   "outputs": [],
   "source": [
    "import sympy as sp\n",
    "import numpy as np"
   ]
  },
  {
   "cell_type": "code",
   "execution_count": 2,
   "metadata": {},
   "outputs": [],
   "source": [
    "#### ds/dnu\n",
    "omega, xxx, inc, nu = sp.symbols('omega, xxx, inc, nu', real=True)\n",
    "sma, eccen, sep = sp.symbols('sma, eccen, sep', real=True, positive=True)"
   ]
  },
  {
   "cell_type": "code",
   "execution_count": 3,
   "metadata": {},
   "outputs": [],
   "source": [
    "#The LHS here is 0\n",
    "dsbydnuzeros = ((eccen**2 *sma* sp.cos(inc)**2 - 1)*sp.sin(nu+omega)*sp.cos(nu+omega))/ ((eccen*sp.cos(nu) + 1)*sp.sqrt(sp.sin(nu+omega)**2*sp.cos(inc)**2 + sp.cos(nu+omega)**2)  )\\\n",
    "    + eccen**3* sma* sp.sin(nu)* sp.sqrt(sp.sin(nu+omega)**2*sp.cos(inc)**2 + sp.cos(nu+omega)**2)/(eccen*sp.cos(nu)**2 + 1)"
   ]
  },
  {
   "cell_type": "code",
   "execution_count": 4,
   "metadata": {},
   "outputs": [],
   "source": [
    "#Cross multiply to remove denominators    \n",
    "dsbydnuzeros_1 = (eccen*sp.cos(nu)**2 + 1)*(eccen**2*sma*sp.cos(inc)**2 - 1)*sp.sin(nu+omega)*sp.cos(nu+omega)\\\n",
    "    + eccen**3*sma*sp.sin(nu)*(sp.sin(nu+omega)**2*sp.cos(inc)**2 + sp.cos(nu+omega)**2)*(eccen*sp.cos(nu) + 1)"
   ]
  },
  {
   "cell_type": "code",
   "execution_count": 5,
   "metadata": {},
   "outputs": [
    {
     "data": {
      "text/latex": [
       "$\\displaystyle eccen^{3.0} sma \\left(eccen \\cos{\\left(\\nu \\right)} + 1.0\\right) \\left(\\sin^{2.0}{\\left(\\nu + \\omega \\right)} \\cos^{2.0}{\\left(inc \\right)} + \\cos^{2.0}{\\left(\\nu + \\omega \\right)}\\right) \\sin{\\left(\\nu \\right)} + \\left(eccen \\cos^{2.0}{\\left(\\nu \\right)} + 1\\right) \\left(eccen^{2.0} sma \\cos^{2.0}{\\left(inc \\right)} - 1.0\\right) \\sin{\\left(\\nu + \\omega \\right)} \\cos{\\left(\\nu + \\omega \\right)}$"
      ],
      "text/plain": [
       "eccen**3.0*sma*(eccen*cos(nu) + 1.0)*(sin(nu + omega)**2.0*cos(inc)**2.0 + cos(nu + omega)**2.0)*sin(nu) + (eccen*cos(nu)**2.0 + 1)*(eccen**2.0*sma*cos(inc)**2.0 - 1.0)*sin(nu + omega)*cos(nu + omega)"
      ]
     },
     "execution_count": 5,
     "metadata": {},
     "output_type": "execute_result"
    }
   ],
   "source": [
    "dsbydnuzeros_1"
   ]
  },
  {
   "cell_type": "code",
   "execution_count": 6,
   "metadata": {},
   "outputs": [],
   "source": [
    "#Expand numerator and denominator\n",
    "dsbydnuzeros_2 = eccen*sp.cos(nu)**2*eccen**2*sma*sp.cos(inc)**2*sp.sin(nu+omega)*sp.cos(nu+omega)\\\n",
    "- eccen*sp.cos(nu)**2*sp.sin(nu+omega)*sp.cos(nu+omega)\\\n",
    "+ eccen**2*sma*sp.cos(inc)**2*sp.sin(nu+omega)*sp.cos(nu+omega)\\\n",
    "- 1*sp.sin(nu+omega)*sp.cos(nu+omega)\\\n",
    "+ sp.sin(nu+omega)**2*sp.cos(inc)**2*eccen*sp.cos(nu)*eccen**3*sma*sp.sin(nu)\\\n",
    "+ sp.sin(nu+omega)**2*sp.cos(inc)**2*eccen**3*sma*sp.sin(nu)\\\n",
    "+ eccen*sp.cos(nu)*sp.cos(nu+omega)**2*eccen**3*sma*sp.sin(nu)\\\n",
    "+ sp.cos(nu+omega)**2*eccen**3*sma*sp.sin(nu)\n"
   ]
  },
  {
   "cell_type": "code",
   "execution_count": 7,
   "metadata": {},
   "outputs": [
    {
     "data": {
      "text/latex": [
       "$\\displaystyle - eccen \\sin{\\left(\\nu + \\omega \\right)} \\cos^{2.0}{\\left(\\nu \\right)} \\cos{\\left(\\nu + \\omega \\right)} + eccen^{2.0} sma \\sin{\\left(\\nu + \\omega \\right)} \\cos^{2.0}{\\left(inc \\right)} \\cos{\\left(\\nu + \\omega \\right)} + eccen^{3.0} sma \\sin{\\left(\\nu \\right)} \\sin^{2.0}{\\left(\\nu + \\omega \\right)} \\cos^{2.0}{\\left(inc \\right)} + eccen^{3.0} sma \\sin{\\left(\\nu \\right)} \\cos^{2.0}{\\left(\\nu + \\omega \\right)} + eccen^{3.0} sma \\sin{\\left(\\nu + \\omega \\right)} \\cos^{2.0}{\\left(inc \\right)} \\cos^{2.0}{\\left(\\nu \\right)} \\cos{\\left(\\nu + \\omega \\right)} + eccen^{4.0} sma \\sin{\\left(\\nu \\right)} \\sin^{2.0}{\\left(\\nu + \\omega \\right)} \\cos^{2.0}{\\left(inc \\right)} \\cos{\\left(\\nu \\right)} + eccen^{4.0} sma \\sin{\\left(\\nu \\right)} \\cos{\\left(\\nu \\right)} \\cos^{2.0}{\\left(\\nu + \\omega \\right)} - 1.0 \\sin{\\left(\\nu + \\omega \\right)} \\cos{\\left(\\nu + \\omega \\right)}$"
      ],
      "text/plain": [
       "-eccen*sin(nu + omega)*cos(nu)**2.0*cos(nu + omega) + eccen**2.0*sma*sin(nu + omega)*cos(inc)**2.0*cos(nu + omega) + eccen**3.0*sma*sin(nu)*sin(nu + omega)**2.0*cos(inc)**2.0 + eccen**3.0*sma*sin(nu)*cos(nu + omega)**2.0 + eccen**3.0*sma*sin(nu + omega)*cos(inc)**2.0*cos(nu)**2.0*cos(nu + omega) + eccen**4.0*sma*sin(nu)*sin(nu + omega)**2.0*cos(inc)**2.0*cos(nu) + eccen**4.0*sma*sin(nu)*cos(nu)*cos(nu + omega)**2.0 - 1.0*sin(nu + omega)*cos(nu + omega)"
      ]
     },
     "execution_count": 7,
     "metadata": {},
     "output_type": "execute_result"
    }
   ],
   "source": [
    "dsbydnuzeros_2"
   ]
  },
  {
   "cell_type": "code",
   "execution_count": 8,
   "metadata": {},
   "outputs": [],
   "source": [
    "#Replace sin(nu+omega)**2.\n",
    "sin2nuomega = (1-sp.cos(nu+omega)**2)\n",
    "dsbydnuzeros_3 = dsbydnuzeros_2.subs(sp.sin(nu+omega)**2,1-sp.cos(nu+omega)**2)"
   ]
  },
  {
   "cell_type": "code",
   "execution_count": 9,
   "metadata": {},
   "outputs": [
    {
     "data": {
      "text/latex": [
       "$\\displaystyle - eccen \\sin{\\left(\\nu + \\omega \\right)} \\cos^{2.0}{\\left(\\nu \\right)} \\cos{\\left(\\nu + \\omega \\right)} + eccen^{2.0} sma \\sin{\\left(\\nu + \\omega \\right)} \\cos^{2.0}{\\left(inc \\right)} \\cos{\\left(\\nu + \\omega \\right)} - eccen^{3.0} sma \\sin{\\left(\\nu \\right)} \\cos^{2.0}{\\left(inc \\right)} \\cos^{2.0}{\\left(\\nu + \\omega \\right)} + 1.0 eccen^{3.0} sma \\sin{\\left(\\nu \\right)} \\cos^{2.0}{\\left(inc \\right)} + eccen^{3.0} sma \\sin{\\left(\\nu \\right)} \\cos^{2.0}{\\left(\\nu + \\omega \\right)} + eccen^{3.0} sma \\sin{\\left(\\nu + \\omega \\right)} \\cos^{2.0}{\\left(inc \\right)} \\cos^{2.0}{\\left(\\nu \\right)} \\cos{\\left(\\nu + \\omega \\right)} - eccen^{4.0} sma \\sin{\\left(\\nu \\right)} \\cos^{2.0}{\\left(inc \\right)} \\cos{\\left(\\nu \\right)} \\cos^{2.0}{\\left(\\nu + \\omega \\right)} + 1.0 eccen^{4.0} sma \\sin{\\left(\\nu \\right)} \\cos^{2.0}{\\left(inc \\right)} \\cos{\\left(\\nu \\right)} + eccen^{4.0} sma \\sin{\\left(\\nu \\right)} \\cos{\\left(\\nu \\right)} \\cos^{2.0}{\\left(\\nu + \\omega \\right)} - 1.0 \\sin{\\left(\\nu + \\omega \\right)} \\cos{\\left(\\nu + \\omega \\right)}$"
      ],
      "text/plain": [
       "-eccen*sin(nu + omega)*cos(nu)**2.0*cos(nu + omega) + eccen**2.0*sma*sin(nu + omega)*cos(inc)**2.0*cos(nu + omega) - eccen**3.0*sma*sin(nu)*cos(inc)**2.0*cos(nu + omega)**2.0 + 1.0*eccen**3.0*sma*sin(nu)*cos(inc)**2.0 + eccen**3.0*sma*sin(nu)*cos(nu + omega)**2.0 + eccen**3.0*sma*sin(nu + omega)*cos(inc)**2.0*cos(nu)**2.0*cos(nu + omega) - eccen**4.0*sma*sin(nu)*cos(inc)**2.0*cos(nu)*cos(nu + omega)**2.0 + 1.0*eccen**4.0*sma*sin(nu)*cos(inc)**2.0*cos(nu) + eccen**4.0*sma*sin(nu)*cos(nu)*cos(nu + omega)**2.0 - 1.0*sin(nu + omega)*cos(nu + omega)"
      ]
     },
     "execution_count": 9,
     "metadata": {},
     "output_type": "execute_result"
    }
   ],
   "source": [
    "sp.expand(dsbydnuzeros_3)"
   ]
  },
  {
   "cell_type": "code",
   "execution_count": 10,
   "metadata": {},
   "outputs": [],
   "source": [
    "#Angle Addition Expanders\n",
    "sinnupomega = sp.sin(nu)*sp.cos(omega) + sp.cos(nu)*sp.sin(omega)\n",
    "cosnupomega = sp.cos(nu)*sp.cos(omega) - sp.sin(nu)*sp.sin(omega)\n",
    "sinnumomega = sp.sin(nu)*sp.cos(omega) - sp.cos(nu)*sp.sin(omega)\n",
    "cosnumomega = sp.cos(nu)*sp.cos(omega) + sp.sin(nu)*sp.sin(omega)"
   ]
  },
  {
   "cell_type": "code",
   "execution_count": 11,
   "metadata": {},
   "outputs": [],
   "source": [
    "#Squared Angle Addition Expanders\n",
    "sinnupomega2 = sp.sin(nu)**2*sp.cos(omega)**2 + 2*sp.cos(nu)*sp.sin(omega) + sp.cos(nu)**2*sp.sin(omega)**2\n",
    "cosnupomega2 = sp.cos(nu)**2*sp.cos(omega)**2 - 2*sp.cos(nu)*sp.cos(omega)*sp.sin(nu)*sp.sin(omega) + sp.sin(nu)**2*sp.sin(omega)**2\n",
    "sinnumomega2 = sp.sin(nu)**2*sp.cos(omega)**2 - 2*sp.sin(nu)*sp.cos(omega)*sp.cos(nu)*sp.sin(omega) + sp.cos(nu)**2*sp.sin(omega)**2\n",
    "cosnumomega2 = sp.cos(nu)**2*sp.cos(omega)**2 + 2*sp.cos(nu)*sp.cos(omega)*sp.sin(nu)*sp.sin(omega) + sp.sin(nu)**2*sp.sin(omega)**2"
   ]
  },
  {
   "cell_type": "code",
   "execution_count": 12,
   "metadata": {},
   "outputs": [],
   "source": [
    "#Do (nu+omega) replacements\n",
    "dsbydnuzeros_4 = dsbydnuzeros_3.subs(sp.sin(nu+omega)**2,sinnupomega2).subs(sp.cos(nu+omega)**2,cosnupomega2).subs(sp.sin(nu+omega),sinnupomega).subs(sp.cos(nu+omega),cosnupomega)"
   ]
  },
  {
   "cell_type": "code",
   "execution_count": 13,
   "metadata": {},
   "outputs": [
    {
     "data": {
      "text/latex": [
       "$\\displaystyle - eccen \\left(- \\sin{\\left(\\nu \\right)} \\sin{\\left(\\omega \\right)} + \\cos{\\left(\\nu \\right)} \\cos{\\left(\\omega \\right)}\\right) \\left(\\sin{\\left(\\nu \\right)} \\cos{\\left(\\omega \\right)} + \\sin{\\left(\\omega \\right)} \\cos{\\left(\\nu \\right)}\\right) \\cos^{2.0}{\\left(\\nu \\right)} + eccen^{2.0} sma \\left(- \\sin{\\left(\\nu \\right)} \\sin{\\left(\\omega \\right)} + \\cos{\\left(\\nu \\right)} \\cos{\\left(\\omega \\right)}\\right) \\left(\\sin{\\left(\\nu \\right)} \\cos{\\left(\\omega \\right)} + \\sin{\\left(\\omega \\right)} \\cos{\\left(\\nu \\right)}\\right) \\cos^{2.0}{\\left(inc \\right)} + eccen^{3.0} sma \\left(- \\sin{\\left(\\nu \\right)} \\sin{\\left(\\omega \\right)} + \\cos{\\left(\\nu \\right)} \\cos{\\left(\\omega \\right)}\\right) \\left(\\sin{\\left(\\nu \\right)} \\cos{\\left(\\omega \\right)} + \\sin{\\left(\\omega \\right)} \\cos{\\left(\\nu \\right)}\\right) \\cos^{2.0}{\\left(inc \\right)} \\cos^{2.0}{\\left(\\nu \\right)} + eccen^{3.0} sma \\left(- 2.0 \\sin{\\left(\\nu \\right)} \\sin{\\left(\\omega \\right)} \\cos{\\left(\\nu \\right)} \\cos{\\left(\\omega \\right)} + \\sin^{2.0}{\\left(\\nu \\right)} \\sin^{2.0}{\\left(\\omega \\right)} + \\cos^{2.0}{\\left(\\nu \\right)} \\cos^{2.0}{\\left(\\omega \\right)}\\right) \\sin{\\left(\\nu \\right)} + eccen^{3.0} sma \\left(2.0 \\sin{\\left(\\nu \\right)} \\sin{\\left(\\omega \\right)} \\cos{\\left(\\nu \\right)} \\cos{\\left(\\omega \\right)} - \\sin^{2.0}{\\left(\\nu \\right)} \\sin^{2.0}{\\left(\\omega \\right)} - \\cos^{2.0}{\\left(\\nu \\right)} \\cos^{2.0}{\\left(\\omega \\right)} + 1.0\\right) \\sin{\\left(\\nu \\right)} \\cos^{2.0}{\\left(inc \\right)} + eccen^{4.0} sma \\left(- 2.0 \\sin{\\left(\\nu \\right)} \\sin{\\left(\\omega \\right)} \\cos{\\left(\\nu \\right)} \\cos{\\left(\\omega \\right)} + \\sin^{2.0}{\\left(\\nu \\right)} \\sin^{2.0}{\\left(\\omega \\right)} + \\cos^{2.0}{\\left(\\nu \\right)} \\cos^{2.0}{\\left(\\omega \\right)}\\right) \\sin{\\left(\\nu \\right)} \\cos{\\left(\\nu \\right)} + eccen^{4.0} sma \\left(2.0 \\sin{\\left(\\nu \\right)} \\sin{\\left(\\omega \\right)} \\cos{\\left(\\nu \\right)} \\cos{\\left(\\omega \\right)} - \\sin^{2.0}{\\left(\\nu \\right)} \\sin^{2.0}{\\left(\\omega \\right)} - \\cos^{2.0}{\\left(\\nu \\right)} \\cos^{2.0}{\\left(\\omega \\right)} + 1.0\\right) \\sin{\\left(\\nu \\right)} \\cos^{2.0}{\\left(inc \\right)} \\cos{\\left(\\nu \\right)} - 1.0 \\left(- \\sin{\\left(\\nu \\right)} \\sin{\\left(\\omega \\right)} + \\cos{\\left(\\nu \\right)} \\cos{\\left(\\omega \\right)}\\right) \\left(\\sin{\\left(\\nu \\right)} \\cos{\\left(\\omega \\right)} + \\sin{\\left(\\omega \\right)} \\cos{\\left(\\nu \\right)}\\right)$"
      ],
      "text/plain": [
       "-eccen*(-sin(nu)*sin(omega) + cos(nu)*cos(omega))*(sin(nu)*cos(omega) + sin(omega)*cos(nu))*cos(nu)**2.0 + eccen**2.0*sma*(-sin(nu)*sin(omega) + cos(nu)*cos(omega))*(sin(nu)*cos(omega) + sin(omega)*cos(nu))*cos(inc)**2.0 + eccen**3.0*sma*(-sin(nu)*sin(omega) + cos(nu)*cos(omega))*(sin(nu)*cos(omega) + sin(omega)*cos(nu))*cos(inc)**2.0*cos(nu)**2.0 + eccen**3.0*sma*(-2.0*sin(nu)*sin(omega)*cos(nu)*cos(omega) + sin(nu)**2.0*sin(omega)**2.0 + cos(nu)**2.0*cos(omega)**2.0)*sin(nu) + eccen**3.0*sma*(2.0*sin(nu)*sin(omega)*cos(nu)*cos(omega) - sin(nu)**2.0*sin(omega)**2.0 - cos(nu)**2.0*cos(omega)**2.0 + 1.0)*sin(nu)*cos(inc)**2.0 + eccen**4.0*sma*(-2.0*sin(nu)*sin(omega)*cos(nu)*cos(omega) + sin(nu)**2.0*sin(omega)**2.0 + cos(nu)**2.0*cos(omega)**2.0)*sin(nu)*cos(nu) + eccen**4.0*sma*(2.0*sin(nu)*sin(omega)*cos(nu)*cos(omega) - sin(nu)**2.0*sin(omega)**2.0 - cos(nu)**2.0*cos(omega)**2.0 + 1.0)*sin(nu)*cos(inc)**2.0*cos(nu) - 1.0*(-sin(nu)*sin(omega) + cos(nu)*cos(omega))*(sin(nu)*cos(omega) + sin(omega)*cos(nu))"
      ]
     },
     "execution_count": 13,
     "metadata": {},
     "output_type": "execute_result"
    }
   ],
   "source": [
    "dsbydnuzeros_4"
   ]
  },
  {
   "cell_type": "code",
   "execution_count": 14,
   "metadata": {},
   "outputs": [],
   "source": [
    "dsbydnuzeros_4_expanded = sp.expand(dsbydnuzeros_4)"
   ]
  },
  {
   "cell_type": "code",
   "execution_count": 15,
   "metadata": {},
   "outputs": [
    {
     "data": {
      "text/latex": [
       "$\\displaystyle eccen \\sin^{2}{\\left(\\nu \\right)} \\sin{\\left(\\omega \\right)} \\cos^{2.0}{\\left(\\nu \\right)} \\cos{\\left(\\omega \\right)} + eccen \\sin{\\left(\\nu \\right)} \\sin^{2}{\\left(\\omega \\right)} \\cos^{3.0}{\\left(\\nu \\right)} - eccen \\sin{\\left(\\nu \\right)} \\cos^{3.0}{\\left(\\nu \\right)} \\cos^{2}{\\left(\\omega \\right)} - eccen \\sin{\\left(\\omega \\right)} \\cos^{4.0}{\\left(\\nu \\right)} \\cos{\\left(\\omega \\right)} - eccen^{2.0} sma \\sin^{2}{\\left(\\nu \\right)} \\sin{\\left(\\omega \\right)} \\cos^{2.0}{\\left(inc \\right)} \\cos{\\left(\\omega \\right)} - eccen^{2.0} sma \\sin{\\left(\\nu \\right)} \\sin^{2}{\\left(\\omega \\right)} \\cos^{2.0}{\\left(inc \\right)} \\cos{\\left(\\nu \\right)} + eccen^{2.0} sma \\sin{\\left(\\nu \\right)} \\cos^{2.0}{\\left(inc \\right)} \\cos{\\left(\\nu \\right)} \\cos^{2}{\\left(\\omega \\right)} + eccen^{2.0} sma \\sin{\\left(\\omega \\right)} \\cos^{2.0}{\\left(inc \\right)} \\cos^{2}{\\left(\\nu \\right)} \\cos{\\left(\\omega \\right)} + 2.0 eccen^{3.0} sma \\sin^{2}{\\left(\\nu \\right)} \\sin{\\left(\\omega \\right)} \\cos^{2.0}{\\left(inc \\right)} \\cos{\\left(\\nu \\right)} \\cos{\\left(\\omega \\right)} - eccen^{3.0} sma \\sin^{2}{\\left(\\nu \\right)} \\sin{\\left(\\omega \\right)} \\cos^{2.0}{\\left(inc \\right)} \\cos^{2.0}{\\left(\\nu \\right)} \\cos{\\left(\\omega \\right)} - 2.0 eccen^{3.0} sma \\sin^{2}{\\left(\\nu \\right)} \\sin{\\left(\\omega \\right)} \\cos{\\left(\\nu \\right)} \\cos{\\left(\\omega \\right)} - eccen^{3.0} sma \\sin{\\left(\\nu \\right)} \\sin^{2}{\\left(\\omega \\right)} \\cos^{2.0}{\\left(inc \\right)} \\cos^{3.0}{\\left(\\nu \\right)} - eccen^{3.0} sma \\sin{\\left(\\nu \\right)} \\cos^{2.0}{\\left(inc \\right)} \\cos^{2.0}{\\left(\\nu \\right)} \\cos^{2.0}{\\left(\\omega \\right)} + eccen^{3.0} sma \\sin{\\left(\\nu \\right)} \\cos^{2.0}{\\left(inc \\right)} \\cos^{3.0}{\\left(\\nu \\right)} \\cos^{2}{\\left(\\omega \\right)} + 1.0 eccen^{3.0} sma \\sin{\\left(\\nu \\right)} \\cos^{2.0}{\\left(inc \\right)} + eccen^{3.0} sma \\sin{\\left(\\nu \\right)} \\cos^{2.0}{\\left(\\nu \\right)} \\cos^{2.0}{\\left(\\omega \\right)} - eccen^{3.0} sma \\sin^{3.0}{\\left(\\nu \\right)} \\sin^{2.0}{\\left(\\omega \\right)} \\cos^{2.0}{\\left(inc \\right)} + eccen^{3.0} sma \\sin^{3.0}{\\left(\\nu \\right)} \\sin^{2.0}{\\left(\\omega \\right)} + eccen^{3.0} sma \\sin{\\left(\\omega \\right)} \\cos^{2.0}{\\left(inc \\right)} \\cos^{4.0}{\\left(\\nu \\right)} \\cos{\\left(\\omega \\right)} + 2.0 eccen^{4.0} sma \\sin^{2}{\\left(\\nu \\right)} \\sin{\\left(\\omega \\right)} \\cos^{2.0}{\\left(inc \\right)} \\cos^{2}{\\left(\\nu \\right)} \\cos{\\left(\\omega \\right)} - 2.0 eccen^{4.0} sma \\sin^{2}{\\left(\\nu \\right)} \\sin{\\left(\\omega \\right)} \\cos^{2}{\\left(\\nu \\right)} \\cos{\\left(\\omega \\right)} + 1.0 eccen^{4.0} sma \\sin{\\left(\\nu \\right)} \\cos^{2.0}{\\left(inc \\right)} \\cos{\\left(\\nu \\right)} - eccen^{4.0} sma \\sin{\\left(\\nu \\right)} \\cos^{2.0}{\\left(inc \\right)} \\cos^{3.0}{\\left(\\nu \\right)} \\cos^{2.0}{\\left(\\omega \\right)} + eccen^{4.0} sma \\sin{\\left(\\nu \\right)} \\cos^{3.0}{\\left(\\nu \\right)} \\cos^{2.0}{\\left(\\omega \\right)} - eccen^{4.0} sma \\sin^{3.0}{\\left(\\nu \\right)} \\sin^{2.0}{\\left(\\omega \\right)} \\cos^{2.0}{\\left(inc \\right)} \\cos{\\left(\\nu \\right)} + eccen^{4.0} sma \\sin^{3.0}{\\left(\\nu \\right)} \\sin^{2.0}{\\left(\\omega \\right)} \\cos{\\left(\\nu \\right)} + 1.0 \\sin^{2}{\\left(\\nu \\right)} \\sin{\\left(\\omega \\right)} \\cos{\\left(\\omega \\right)} + 1.0 \\sin{\\left(\\nu \\right)} \\sin^{2}{\\left(\\omega \\right)} \\cos{\\left(\\nu \\right)} - 1.0 \\sin{\\left(\\nu \\right)} \\cos{\\left(\\nu \\right)} \\cos^{2}{\\left(\\omega \\right)} - 1.0 \\sin{\\left(\\omega \\right)} \\cos^{2}{\\left(\\nu \\right)} \\cos{\\left(\\omega \\right)}$"
      ],
      "text/plain": [
       "eccen*sin(nu)**2*sin(omega)*cos(nu)**2.0*cos(omega) + eccen*sin(nu)*sin(omega)**2*cos(nu)**3.0 - eccen*sin(nu)*cos(nu)**3.0*cos(omega)**2 - eccen*sin(omega)*cos(nu)**4.0*cos(omega) - eccen**2.0*sma*sin(nu)**2*sin(omega)*cos(inc)**2.0*cos(omega) - eccen**2.0*sma*sin(nu)*sin(omega)**2*cos(inc)**2.0*cos(nu) + eccen**2.0*sma*sin(nu)*cos(inc)**2.0*cos(nu)*cos(omega)**2 + eccen**2.0*sma*sin(omega)*cos(inc)**2.0*cos(nu)**2*cos(omega) + 2.0*eccen**3.0*sma*sin(nu)**2*sin(omega)*cos(inc)**2.0*cos(nu)*cos(omega) - eccen**3.0*sma*sin(nu)**2*sin(omega)*cos(inc)**2.0*cos(nu)**2.0*cos(omega) - 2.0*eccen**3.0*sma*sin(nu)**2*sin(omega)*cos(nu)*cos(omega) - eccen**3.0*sma*sin(nu)*sin(omega)**2*cos(inc)**2.0*cos(nu)**3.0 - eccen**3.0*sma*sin(nu)*cos(inc)**2.0*cos(nu)**2.0*cos(omega)**2.0 + eccen**3.0*sma*sin(nu)*cos(inc)**2.0*cos(nu)**3.0*cos(omega)**2 + 1.0*eccen**3.0*sma*sin(nu)*cos(inc)**2.0 + eccen**3.0*sma*sin(nu)*cos(nu)**2.0*cos(omega)**2.0 - eccen**3.0*sma*sin(nu)**3.0*sin(omega)**2.0*cos(inc)**2.0 + eccen**3.0*sma*sin(nu)**3.0*sin(omega)**2.0 + eccen**3.0*sma*sin(omega)*cos(inc)**2.0*cos(nu)**4.0*cos(omega) + 2.0*eccen**4.0*sma*sin(nu)**2*sin(omega)*cos(inc)**2.0*cos(nu)**2*cos(omega) - 2.0*eccen**4.0*sma*sin(nu)**2*sin(omega)*cos(nu)**2*cos(omega) + 1.0*eccen**4.0*sma*sin(nu)*cos(inc)**2.0*cos(nu) - eccen**4.0*sma*sin(nu)*cos(inc)**2.0*cos(nu)**3.0*cos(omega)**2.0 + eccen**4.0*sma*sin(nu)*cos(nu)**3.0*cos(omega)**2.0 - eccen**4.0*sma*sin(nu)**3.0*sin(omega)**2.0*cos(inc)**2.0*cos(nu) + eccen**4.0*sma*sin(nu)**3.0*sin(omega)**2.0*cos(nu) + 1.0*sin(nu)**2*sin(omega)*cos(omega) + 1.0*sin(nu)*sin(omega)**2*cos(nu) - 1.0*sin(nu)*cos(nu)*cos(omega)**2 - 1.0*sin(omega)*cos(nu)**2*cos(omega)"
      ]
     },
     "execution_count": 15,
     "metadata": {},
     "output_type": "execute_result"
    }
   ],
   "source": [
    "dsbydnuzeros_4_expanded"
   ]
  },
  {
   "cell_type": "code",
   "execution_count": 16,
   "metadata": {},
   "outputs": [],
   "source": [
    "x,y=sp.symbols('x y', real=True)"
   ]
  },
  {
   "cell_type": "code",
   "execution_count": 30,
   "metadata": {},
   "outputs": [
    {
     "data": {
      "text/latex": [
       "$\\displaystyle eccen x^{2.0} y^{2} \\sin{\\left(\\omega \\right)} \\cos{\\left(\\omega \\right)} + eccen x^{3.0} y \\sin^{2}{\\left(\\omega \\right)} - eccen x^{3.0} y \\cos^{2}{\\left(\\omega \\right)} - eccen x^{4.0} \\sin{\\left(\\omega \\right)} \\cos{\\left(\\omega \\right)} + eccen^{2.0} sma x^{2} \\sin{\\left(\\omega \\right)} \\cos^{2.0}{\\left(inc \\right)} \\cos{\\left(\\omega \\right)} - eccen^{2.0} sma x y \\sin^{2}{\\left(\\omega \\right)} \\cos^{2.0}{\\left(inc \\right)} + eccen^{2.0} sma x y \\cos^{2.0}{\\left(inc \\right)} \\cos^{2}{\\left(\\omega \\right)} - eccen^{2.0} sma y^{2} \\sin{\\left(\\omega \\right)} \\cos^{2.0}{\\left(inc \\right)} \\cos{\\left(\\omega \\right)} + 2.0 eccen^{3.0} sma x y^{2} \\sin{\\left(\\omega \\right)} \\cos^{2.0}{\\left(inc \\right)} \\cos{\\left(\\omega \\right)} - 2.0 eccen^{3.0} sma x y^{2} \\sin{\\left(\\omega \\right)} \\cos{\\left(\\omega \\right)} - eccen^{3.0} sma x^{2.0} y^{2} \\sin{\\left(\\omega \\right)} \\cos^{2.0}{\\left(inc \\right)} \\cos{\\left(\\omega \\right)} - eccen^{3.0} sma x^{2.0} y \\cos^{2.0}{\\left(inc \\right)} \\cos^{2.0}{\\left(\\omega \\right)} + eccen^{3.0} sma x^{2.0} y \\cos^{2.0}{\\left(\\omega \\right)} - eccen^{3.0} sma x^{3.0} y \\sin^{2}{\\left(\\omega \\right)} \\cos^{2.0}{\\left(inc \\right)} + eccen^{3.0} sma x^{3.0} y \\cos^{2.0}{\\left(inc \\right)} \\cos^{2}{\\left(\\omega \\right)} + eccen^{3.0} sma x^{4.0} \\sin{\\left(\\omega \\right)} \\cos^{2.0}{\\left(inc \\right)} \\cos{\\left(\\omega \\right)} + 1.0 eccen^{3.0} sma y \\cos^{2.0}{\\left(inc \\right)} - eccen^{3.0} sma y^{3.0} \\sin^{2.0}{\\left(\\omega \\right)} \\cos^{2.0}{\\left(inc \\right)} + eccen^{3.0} sma y^{3.0} \\sin^{2.0}{\\left(\\omega \\right)} + 2.0 eccen^{4.0} sma x^{2} y^{2} \\sin{\\left(\\omega \\right)} \\cos^{2.0}{\\left(inc \\right)} \\cos{\\left(\\omega \\right)} - 2.0 eccen^{4.0} sma x^{2} y^{2} \\sin{\\left(\\omega \\right)} \\cos{\\left(\\omega \\right)} + 1.0 eccen^{4.0} sma x y \\cos^{2.0}{\\left(inc \\right)} - eccen^{4.0} sma x y^{3.0} \\sin^{2.0}{\\left(\\omega \\right)} \\cos^{2.0}{\\left(inc \\right)} + eccen^{4.0} sma x y^{3.0} \\sin^{2.0}{\\left(\\omega \\right)} - eccen^{4.0} sma x^{3.0} y \\cos^{2.0}{\\left(inc \\right)} \\cos^{2.0}{\\left(\\omega \\right)} + eccen^{4.0} sma x^{3.0} y \\cos^{2.0}{\\left(\\omega \\right)} - 1.0 x^{2} \\sin{\\left(\\omega \\right)} \\cos{\\left(\\omega \\right)} + 1.0 x y \\sin^{2}{\\left(\\omega \\right)} - 1.0 x y \\cos^{2}{\\left(\\omega \\right)} + 1.0 y^{2} \\sin{\\left(\\omega \\right)} \\cos{\\left(\\omega \\right)}$"
      ],
      "text/plain": [
       "eccen*x**2.0*y**2*sin(omega)*cos(omega) + eccen*x**3.0*y*sin(omega)**2 - eccen*x**3.0*y*cos(omega)**2 - eccen*x**4.0*sin(omega)*cos(omega) + eccen**2.0*sma*x**2*sin(omega)*cos(inc)**2.0*cos(omega) - eccen**2.0*sma*x*y*sin(omega)**2*cos(inc)**2.0 + eccen**2.0*sma*x*y*cos(inc)**2.0*cos(omega)**2 - eccen**2.0*sma*y**2*sin(omega)*cos(inc)**2.0*cos(omega) + 2.0*eccen**3.0*sma*x*y**2*sin(omega)*cos(inc)**2.0*cos(omega) - 2.0*eccen**3.0*sma*x*y**2*sin(omega)*cos(omega) - eccen**3.0*sma*x**2.0*y**2*sin(omega)*cos(inc)**2.0*cos(omega) - eccen**3.0*sma*x**2.0*y*cos(inc)**2.0*cos(omega)**2.0 + eccen**3.0*sma*x**2.0*y*cos(omega)**2.0 - eccen**3.0*sma*x**3.0*y*sin(omega)**2*cos(inc)**2.0 + eccen**3.0*sma*x**3.0*y*cos(inc)**2.0*cos(omega)**2 + eccen**3.0*sma*x**4.0*sin(omega)*cos(inc)**2.0*cos(omega) + 1.0*eccen**3.0*sma*y*cos(inc)**2.0 - eccen**3.0*sma*y**3.0*sin(omega)**2.0*cos(inc)**2.0 + eccen**3.0*sma*y**3.0*sin(omega)**2.0 + 2.0*eccen**4.0*sma*x**2*y**2*sin(omega)*cos(inc)**2.0*cos(omega) - 2.0*eccen**4.0*sma*x**2*y**2*sin(omega)*cos(omega) + 1.0*eccen**4.0*sma*x*y*cos(inc)**2.0 - eccen**4.0*sma*x*y**3.0*sin(omega)**2.0*cos(inc)**2.0 + eccen**4.0*sma*x*y**3.0*sin(omega)**2.0 - eccen**4.0*sma*x**3.0*y*cos(inc)**2.0*cos(omega)**2.0 + eccen**4.0*sma*x**3.0*y*cos(omega)**2.0 - 1.0*x**2*sin(omega)*cos(omega) + 1.0*x*y*sin(omega)**2 - 1.0*x*y*cos(omega)**2 + 1.0*y**2*sin(omega)*cos(omega)"
      ]
     },
     "execution_count": 30,
     "metadata": {},
     "output_type": "execute_result"
    }
   ],
   "source": [
    "dsbydnuzeros_4_expanded.subs(sp.sin(nu),y).subs(sp.cos(nu),x)"
   ]
  },
  {
   "cell_type": "code",
   "execution_count": null,
   "metadata": {},
   "outputs": [],
   "source": [
    "dsbydnuzeros_4_coeffs = a*"
   ]
  },
  {
   "cell_type": "code",
   "execution_count": 18,
   "metadata": {},
   "outputs": [],
   "source": [
    "#Replace sin(nu) with sp.sqrt(1.-sp.cos(nu)**2.)\n",
    "sinnu = sp.sqrt(1.-sp.cos(nu)**2.)\n",
    "dsbydnuzeros_5 = dsbydnuzeros_4.subs(sp.sin(nu),sinnu)"
   ]
  },
  {
   "cell_type": "code",
   "execution_count": 19,
   "metadata": {},
   "outputs": [
    {
     "data": {
      "text/latex": [
       "$\\displaystyle - eccen \\left(- \\sqrt{1.0 - \\cos^{2.0}{\\left(\\nu \\right)}} \\sin{\\left(\\omega \\right)} + \\cos{\\left(\\nu \\right)} \\cos{\\left(\\omega \\right)}\\right) \\left(\\sqrt{1.0 - \\cos^{2.0}{\\left(\\nu \\right)}} \\cos{\\left(\\omega \\right)} + \\sin{\\left(\\omega \\right)} \\cos{\\left(\\nu \\right)}\\right) \\cos^{2.0}{\\left(\\nu \\right)} + eccen^{2.0} sma \\left(- \\sqrt{1.0 - \\cos^{2.0}{\\left(\\nu \\right)}} \\sin{\\left(\\omega \\right)} + \\cos{\\left(\\nu \\right)} \\cos{\\left(\\omega \\right)}\\right) \\left(\\sqrt{1.0 - \\cos^{2.0}{\\left(\\nu \\right)}} \\cos{\\left(\\omega \\right)} + \\sin{\\left(\\omega \\right)} \\cos{\\left(\\nu \\right)}\\right) \\cos^{2.0}{\\left(inc \\right)} + eccen^{3.0} sma \\sqrt{1.0 - \\cos^{2.0}{\\left(\\nu \\right)}} \\left(- 2.0 \\sqrt{1.0 - \\cos^{2.0}{\\left(\\nu \\right)}} \\sin{\\left(\\omega \\right)} \\cos{\\left(\\nu \\right)} \\cos{\\left(\\omega \\right)} + \\left(1.0 - \\cos^{2.0}{\\left(\\nu \\right)}\\right)^{1.0} \\sin^{2.0}{\\left(\\omega \\right)} + \\cos^{2.0}{\\left(\\nu \\right)} \\cos^{2.0}{\\left(\\omega \\right)}\\right) + eccen^{3.0} sma \\sqrt{1.0 - \\cos^{2.0}{\\left(\\nu \\right)}} \\left(2.0 \\sqrt{1.0 - \\cos^{2.0}{\\left(\\nu \\right)}} \\sin{\\left(\\omega \\right)} \\cos{\\left(\\nu \\right)} \\cos{\\left(\\omega \\right)} - \\left(1.0 - \\cos^{2.0}{\\left(\\nu \\right)}\\right)^{1.0} \\sin^{2.0}{\\left(\\omega \\right)} - \\cos^{2.0}{\\left(\\nu \\right)} \\cos^{2.0}{\\left(\\omega \\right)} + 1.0\\right) \\cos^{2.0}{\\left(inc \\right)} + eccen^{3.0} sma \\left(- \\sqrt{1.0 - \\cos^{2.0}{\\left(\\nu \\right)}} \\sin{\\left(\\omega \\right)} + \\cos{\\left(\\nu \\right)} \\cos{\\left(\\omega \\right)}\\right) \\left(\\sqrt{1.0 - \\cos^{2.0}{\\left(\\nu \\right)}} \\cos{\\left(\\omega \\right)} + \\sin{\\left(\\omega \\right)} \\cos{\\left(\\nu \\right)}\\right) \\cos^{2.0}{\\left(inc \\right)} \\cos^{2.0}{\\left(\\nu \\right)} + eccen^{4.0} sma \\sqrt{1.0 - \\cos^{2.0}{\\left(\\nu \\right)}} \\left(- 2.0 \\sqrt{1.0 - \\cos^{2.0}{\\left(\\nu \\right)}} \\sin{\\left(\\omega \\right)} \\cos{\\left(\\nu \\right)} \\cos{\\left(\\omega \\right)} + \\left(1.0 - \\cos^{2.0}{\\left(\\nu \\right)}\\right)^{1.0} \\sin^{2.0}{\\left(\\omega \\right)} + \\cos^{2.0}{\\left(\\nu \\right)} \\cos^{2.0}{\\left(\\omega \\right)}\\right) \\cos{\\left(\\nu \\right)} + eccen^{4.0} sma \\sqrt{1.0 - \\cos^{2.0}{\\left(\\nu \\right)}} \\left(2.0 \\sqrt{1.0 - \\cos^{2.0}{\\left(\\nu \\right)}} \\sin{\\left(\\omega \\right)} \\cos{\\left(\\nu \\right)} \\cos{\\left(\\omega \\right)} - \\left(1.0 - \\cos^{2.0}{\\left(\\nu \\right)}\\right)^{1.0} \\sin^{2.0}{\\left(\\omega \\right)} - \\cos^{2.0}{\\left(\\nu \\right)} \\cos^{2.0}{\\left(\\omega \\right)} + 1.0\\right) \\cos^{2.0}{\\left(inc \\right)} \\cos{\\left(\\nu \\right)} - 1.0 \\left(- \\sqrt{1.0 - \\cos^{2.0}{\\left(\\nu \\right)}} \\sin{\\left(\\omega \\right)} + \\cos{\\left(\\nu \\right)} \\cos{\\left(\\omega \\right)}\\right) \\left(\\sqrt{1.0 - \\cos^{2.0}{\\left(\\nu \\right)}} \\cos{\\left(\\omega \\right)} + \\sin{\\left(\\omega \\right)} \\cos{\\left(\\nu \\right)}\\right)$"
      ],
      "text/plain": [
       "-eccen*(-sqrt(1.0 - cos(nu)**2.0)*sin(omega) + cos(nu)*cos(omega))*(sqrt(1.0 - cos(nu)**2.0)*cos(omega) + sin(omega)*cos(nu))*cos(nu)**2.0 + eccen**2.0*sma*(-sqrt(1.0 - cos(nu)**2.0)*sin(omega) + cos(nu)*cos(omega))*(sqrt(1.0 - cos(nu)**2.0)*cos(omega) + sin(omega)*cos(nu))*cos(inc)**2.0 + eccen**3.0*sma*sqrt(1.0 - cos(nu)**2.0)*(-2.0*sqrt(1.0 - cos(nu)**2.0)*sin(omega)*cos(nu)*cos(omega) + (1.0 - cos(nu)**2.0)**1.0*sin(omega)**2.0 + cos(nu)**2.0*cos(omega)**2.0) + eccen**3.0*sma*sqrt(1.0 - cos(nu)**2.0)*(2.0*sqrt(1.0 - cos(nu)**2.0)*sin(omega)*cos(nu)*cos(omega) - (1.0 - cos(nu)**2.0)**1.0*sin(omega)**2.0 - cos(nu)**2.0*cos(omega)**2.0 + 1.0)*cos(inc)**2.0 + eccen**3.0*sma*(-sqrt(1.0 - cos(nu)**2.0)*sin(omega) + cos(nu)*cos(omega))*(sqrt(1.0 - cos(nu)**2.0)*cos(omega) + sin(omega)*cos(nu))*cos(inc)**2.0*cos(nu)**2.0 + eccen**4.0*sma*sqrt(1.0 - cos(nu)**2.0)*(-2.0*sqrt(1.0 - cos(nu)**2.0)*sin(omega)*cos(nu)*cos(omega) + (1.0 - cos(nu)**2.0)**1.0*sin(omega)**2.0 + cos(nu)**2.0*cos(omega)**2.0)*cos(nu) + eccen**4.0*sma*sqrt(1.0 - cos(nu)**2.0)*(2.0*sqrt(1.0 - cos(nu)**2.0)*sin(omega)*cos(nu)*cos(omega) - (1.0 - cos(nu)**2.0)**1.0*sin(omega)**2.0 - cos(nu)**2.0*cos(omega)**2.0 + 1.0)*cos(inc)**2.0*cos(nu) - 1.0*(-sqrt(1.0 - cos(nu)**2.0)*sin(omega) + cos(nu)*cos(omega))*(sqrt(1.0 - cos(nu)**2.0)*cos(omega) + sin(omega)*cos(nu))"
      ]
     },
     "execution_count": 19,
     "metadata": {},
     "output_type": "execute_result"
    }
   ],
   "source": [
    "dsbydnuzeros_5"
   ]
  },
  {
   "cell_type": "code",
   "execution_count": 20,
   "metadata": {},
   "outputs": [
    {
     "data": {
      "text/latex": [
       "$\\displaystyle eccen \\sqrt{1.0 - \\cos^{2.0}{\\left(\\nu \\right)}} \\sin^{2}{\\left(\\omega \\right)} \\cos^{3.0}{\\left(\\nu \\right)} - eccen \\sqrt{1.0 - \\cos^{2.0}{\\left(\\nu \\right)}} \\cos^{3.0}{\\left(\\nu \\right)} \\cos^{2}{\\left(\\omega \\right)} + 1.0 eccen \\sin{\\left(\\omega \\right)} \\cos^{2.0}{\\left(\\nu \\right)} \\cos{\\left(\\omega \\right)} - 2 eccen \\sin{\\left(\\omega \\right)} \\cos^{4.0}{\\left(\\nu \\right)} \\cos{\\left(\\omega \\right)} - eccen^{2.0} sma \\sqrt{1.0 - \\cos^{2.0}{\\left(\\nu \\right)}} \\sin^{2}{\\left(\\omega \\right)} \\cos^{2.0}{\\left(inc \\right)} \\cos{\\left(\\nu \\right)} + eccen^{2.0} sma \\sqrt{1.0 - \\cos^{2.0}{\\left(\\nu \\right)}} \\cos^{2.0}{\\left(inc \\right)} \\cos{\\left(\\nu \\right)} \\cos^{2}{\\left(\\omega \\right)} + eccen^{2.0} sma \\sin{\\left(\\omega \\right)} \\cos^{2.0}{\\left(inc \\right)} \\cos^{2}{\\left(\\nu \\right)} \\cos{\\left(\\omega \\right)} + eccen^{2.0} sma \\sin{\\left(\\omega \\right)} \\cos^{2.0}{\\left(inc \\right)} \\cos^{2.0}{\\left(\\nu \\right)} \\cos{\\left(\\omega \\right)} - 1.0 eccen^{2.0} sma \\sin{\\left(\\omega \\right)} \\cos^{2.0}{\\left(inc \\right)} \\cos{\\left(\\omega \\right)} - eccen^{3.0} sma \\sqrt{1.0 - \\cos^{2.0}{\\left(\\nu \\right)}} \\sin^{2}{\\left(\\omega \\right)} \\cos^{2.0}{\\left(inc \\right)} \\cos^{3.0}{\\left(\\nu \\right)} - eccen^{3.0} sma \\sqrt{1.0 - \\cos^{2.0}{\\left(\\nu \\right)}} \\cos^{2.0}{\\left(inc \\right)} \\cos^{2.0}{\\left(\\nu \\right)} \\cos^{2.0}{\\left(\\omega \\right)} + eccen^{3.0} sma \\sqrt{1.0 - \\cos^{2.0}{\\left(\\nu \\right)}} \\cos^{2.0}{\\left(inc \\right)} \\cos^{3.0}{\\left(\\nu \\right)} \\cos^{2}{\\left(\\omega \\right)} + 1.0 eccen^{3.0} sma \\sqrt{1.0 - \\cos^{2.0}{\\left(\\nu \\right)}} \\cos^{2.0}{\\left(inc \\right)} + eccen^{3.0} sma \\sqrt{1.0 - \\cos^{2.0}{\\left(\\nu \\right)}} \\cos^{2.0}{\\left(\\nu \\right)} \\cos^{2.0}{\\left(\\omega \\right)} - eccen^{3.0} sma \\left(1.0 - \\cos^{2.0}{\\left(\\nu \\right)}\\right)^{1.5} \\sin^{2.0}{\\left(\\omega \\right)} \\cos^{2.0}{\\left(inc \\right)} + eccen^{3.0} sma \\left(1.0 - \\cos^{2.0}{\\left(\\nu \\right)}\\right)^{1.5} \\sin^{2.0}{\\left(\\omega \\right)} + 2.0 eccen^{3.0} sma \\sin{\\left(\\omega \\right)} \\cos^{2.0}{\\left(inc \\right)} \\cos{\\left(\\nu \\right)} \\cos{\\left(\\omega \\right)} - 1.0 eccen^{3.0} sma \\sin{\\left(\\omega \\right)} \\cos^{2.0}{\\left(inc \\right)} \\cos^{2.0}{\\left(\\nu \\right)} \\cos{\\left(\\omega \\right)} - 2.0 eccen^{3.0} sma \\sin{\\left(\\omega \\right)} \\cos^{2.0}{\\left(inc \\right)} \\cos^{3.0}{\\left(\\nu \\right)} \\cos{\\left(\\omega \\right)} + 2 eccen^{3.0} sma \\sin{\\left(\\omega \\right)} \\cos^{2.0}{\\left(inc \\right)} \\cos^{4.0}{\\left(\\nu \\right)} \\cos{\\left(\\omega \\right)} - 2.0 eccen^{3.0} sma \\sin{\\left(\\omega \\right)} \\cos{\\left(\\nu \\right)} \\cos{\\left(\\omega \\right)} + 2.0 eccen^{3.0} sma \\sin{\\left(\\omega \\right)} \\cos^{3.0}{\\left(\\nu \\right)} \\cos{\\left(\\omega \\right)} + 1.0 eccen^{4.0} sma \\sqrt{1.0 - \\cos^{2.0}{\\left(\\nu \\right)}} \\cos^{2.0}{\\left(inc \\right)} \\cos{\\left(\\nu \\right)} - eccen^{4.0} sma \\sqrt{1.0 - \\cos^{2.0}{\\left(\\nu \\right)}} \\cos^{2.0}{\\left(inc \\right)} \\cos^{3.0}{\\left(\\nu \\right)} \\cos^{2.0}{\\left(\\omega \\right)} + eccen^{4.0} sma \\sqrt{1.0 - \\cos^{2.0}{\\left(\\nu \\right)}} \\cos^{3.0}{\\left(\\nu \\right)} \\cos^{2.0}{\\left(\\omega \\right)} - eccen^{4.0} sma \\left(1.0 - \\cos^{2.0}{\\left(\\nu \\right)}\\right)^{1.5} \\sin^{2.0}{\\left(\\omega \\right)} \\cos^{2.0}{\\left(inc \\right)} \\cos{\\left(\\nu \\right)} + eccen^{4.0} sma \\left(1.0 - \\cos^{2.0}{\\left(\\nu \\right)}\\right)^{1.5} \\sin^{2.0}{\\left(\\omega \\right)} \\cos{\\left(\\nu \\right)} + 2.0 eccen^{4.0} sma \\sin{\\left(\\omega \\right)} \\cos^{2.0}{\\left(inc \\right)} \\cos^{2}{\\left(\\nu \\right)} \\cos{\\left(\\omega \\right)} - 2.0 eccen^{4.0} sma \\sin{\\left(\\omega \\right)} \\cos^{2.0}{\\left(inc \\right)} \\cos^{4.0}{\\left(\\nu \\right)} \\cos{\\left(\\omega \\right)} - 2.0 eccen^{4.0} sma \\sin{\\left(\\omega \\right)} \\cos^{2}{\\left(\\nu \\right)} \\cos{\\left(\\omega \\right)} + 2.0 eccen^{4.0} sma \\sin{\\left(\\omega \\right)} \\cos^{4.0}{\\left(\\nu \\right)} \\cos{\\left(\\omega \\right)} + 1.0 \\sqrt{1.0 - \\cos^{2.0}{\\left(\\nu \\right)}} \\sin^{2}{\\left(\\omega \\right)} \\cos{\\left(\\nu \\right)} - 1.0 \\sqrt{1.0 - \\cos^{2.0}{\\left(\\nu \\right)}} \\cos{\\left(\\nu \\right)} \\cos^{2}{\\left(\\omega \\right)} - 1.0 \\sin{\\left(\\omega \\right)} \\cos^{2}{\\left(\\nu \\right)} \\cos{\\left(\\omega \\right)} - 1.0 \\sin{\\left(\\omega \\right)} \\cos^{2.0}{\\left(\\nu \\right)} \\cos{\\left(\\omega \\right)} + 1.0 \\sin{\\left(\\omega \\right)} \\cos{\\left(\\omega \\right)}$"
      ],
      "text/plain": [
       "eccen*sqrt(1.0 - cos(nu)**2.0)*sin(omega)**2*cos(nu)**3.0 - eccen*sqrt(1.0 - cos(nu)**2.0)*cos(nu)**3.0*cos(omega)**2 + 1.0*eccen*sin(omega)*cos(nu)**2.0*cos(omega) - 2*eccen*sin(omega)*cos(nu)**4.0*cos(omega) - eccen**2.0*sma*sqrt(1.0 - cos(nu)**2.0)*sin(omega)**2*cos(inc)**2.0*cos(nu) + eccen**2.0*sma*sqrt(1.0 - cos(nu)**2.0)*cos(inc)**2.0*cos(nu)*cos(omega)**2 + eccen**2.0*sma*sin(omega)*cos(inc)**2.0*cos(nu)**2*cos(omega) + eccen**2.0*sma*sin(omega)*cos(inc)**2.0*cos(nu)**2.0*cos(omega) - 1.0*eccen**2.0*sma*sin(omega)*cos(inc)**2.0*cos(omega) - eccen**3.0*sma*sqrt(1.0 - cos(nu)**2.0)*sin(omega)**2*cos(inc)**2.0*cos(nu)**3.0 - eccen**3.0*sma*sqrt(1.0 - cos(nu)**2.0)*cos(inc)**2.0*cos(nu)**2.0*cos(omega)**2.0 + eccen**3.0*sma*sqrt(1.0 - cos(nu)**2.0)*cos(inc)**2.0*cos(nu)**3.0*cos(omega)**2 + 1.0*eccen**3.0*sma*sqrt(1.0 - cos(nu)**2.0)*cos(inc)**2.0 + eccen**3.0*sma*sqrt(1.0 - cos(nu)**2.0)*cos(nu)**2.0*cos(omega)**2.0 - eccen**3.0*sma*(1.0 - cos(nu)**2.0)**1.5*sin(omega)**2.0*cos(inc)**2.0 + eccen**3.0*sma*(1.0 - cos(nu)**2.0)**1.5*sin(omega)**2.0 + 2.0*eccen**3.0*sma*sin(omega)*cos(inc)**2.0*cos(nu)*cos(omega) - 1.0*eccen**3.0*sma*sin(omega)*cos(inc)**2.0*cos(nu)**2.0*cos(omega) - 2.0*eccen**3.0*sma*sin(omega)*cos(inc)**2.0*cos(nu)**3.0*cos(omega) + 2*eccen**3.0*sma*sin(omega)*cos(inc)**2.0*cos(nu)**4.0*cos(omega) - 2.0*eccen**3.0*sma*sin(omega)*cos(nu)*cos(omega) + 2.0*eccen**3.0*sma*sin(omega)*cos(nu)**3.0*cos(omega) + 1.0*eccen**4.0*sma*sqrt(1.0 - cos(nu)**2.0)*cos(inc)**2.0*cos(nu) - eccen**4.0*sma*sqrt(1.0 - cos(nu)**2.0)*cos(inc)**2.0*cos(nu)**3.0*cos(omega)**2.0 + eccen**4.0*sma*sqrt(1.0 - cos(nu)**2.0)*cos(nu)**3.0*cos(omega)**2.0 - eccen**4.0*sma*(1.0 - cos(nu)**2.0)**1.5*sin(omega)**2.0*cos(inc)**2.0*cos(nu) + eccen**4.0*sma*(1.0 - cos(nu)**2.0)**1.5*sin(omega)**2.0*cos(nu) + 2.0*eccen**4.0*sma*sin(omega)*cos(inc)**2.0*cos(nu)**2*cos(omega) - 2.0*eccen**4.0*sma*sin(omega)*cos(inc)**2.0*cos(nu)**4.0*cos(omega) - 2.0*eccen**4.0*sma*sin(omega)*cos(nu)**2*cos(omega) + 2.0*eccen**4.0*sma*sin(omega)*cos(nu)**4.0*cos(omega) + 1.0*sqrt(1.0 - cos(nu)**2.0)*sin(omega)**2*cos(nu) - 1.0*sqrt(1.0 - cos(nu)**2.0)*cos(nu)*cos(omega)**2 - 1.0*sin(omega)*cos(nu)**2*cos(omega) - 1.0*sin(omega)*cos(nu)**2.0*cos(omega) + 1.0*sin(omega)*cos(omega)"
      ]
     },
     "execution_count": 20,
     "metadata": {},
     "output_type": "execute_result"
    }
   ],
   "source": [
    "sp.expand(dsbydnuzeros_5)"
   ]
  },
  {
   "cell_type": "code",
   "execution_count": 21,
   "metadata": {},
   "outputs": [],
   "source": [
    "xxx = sp.symbols('xxx', real=True)"
   ]
  },
  {
   "cell_type": "code",
   "execution_count": 22,
   "metadata": {},
   "outputs": [],
   "source": [
    "dsbydnuzeros_6 = sp.expand(dsbydnuzeros_5)"
   ]
  },
  {
   "cell_type": "code",
   "execution_count": 23,
   "metadata": {},
   "outputs": [],
   "source": [
    "dsbydnuzeros_7 = dsbydnuzeros_6.subs(sp.cos(nu),xxx)"
   ]
  },
  {
   "cell_type": "code",
   "execution_count": 24,
   "metadata": {},
   "outputs": [],
   "source": [
    "dsbydnuzeros_8 = dsbydnuzeros_7.subs(sp.sqrt(1.-xxx**2.),sp.sqrt(1.-xxx)*sp.sqrt(1.+xxx))"
   ]
  },
  {
   "cell_type": "code",
   "execution_count": 25,
   "metadata": {},
   "outputs": [],
   "source": [
    "dsbydnuzeros_9 = sp.expand(dsbydnuzeros_8)"
   ]
  },
  {
   "cell_type": "code",
   "execution_count": 26,
   "metadata": {},
   "outputs": [
    {
     "data": {
      "text/latex": [
       "$\\displaystyle - 1.0 eccen^{2.0} sma \\sin{\\left(\\omega \\right)} \\cos^{2.0}{\\left(inc \\right)} \\cos{\\left(\\omega \\right)} - eccen^{3.0} sma \\left(\\sqrt{1.0 - xxx} \\sqrt{xxx + 1.0}\\right)^{3.0} \\sin^{2.0}{\\left(\\omega \\right)} \\cos^{2.0}{\\left(inc \\right)} + eccen^{3.0} sma \\left(\\sqrt{1.0 - xxx} \\sqrt{xxx + 1.0}\\right)^{3.0} \\sin^{2.0}{\\left(\\omega \\right)} + 1.0 eccen^{3.0} sma \\sqrt{1.0 - xxx} \\sqrt{xxx + 1.0} \\cos^{2.0}{\\left(inc \\right)} + xxx^{2} \\left(eccen^{2.0} sma \\sin{\\left(\\omega \\right)} \\cos^{2.0}{\\left(inc \\right)} \\cos{\\left(\\omega \\right)} + 2.0 eccen^{4.0} sma \\sin{\\left(\\omega \\right)} \\cos^{2.0}{\\left(inc \\right)} \\cos{\\left(\\omega \\right)} - 2.0 eccen^{4.0} sma \\sin{\\left(\\omega \\right)} \\cos{\\left(\\omega \\right)} - 1.0 \\sin{\\left(\\omega \\right)} \\cos{\\left(\\omega \\right)}\\right) + xxx \\left(- eccen^{2.0} sma \\sqrt{1.0 - xxx} \\sqrt{xxx + 1.0} \\sin^{2}{\\left(\\omega \\right)} \\cos^{2.0}{\\left(inc \\right)} + eccen^{2.0} sma \\sqrt{1.0 - xxx} \\sqrt{xxx + 1.0} \\cos^{2.0}{\\left(inc \\right)} \\cos^{2}{\\left(\\omega \\right)} + 2.0 eccen^{3.0} sma \\sin{\\left(\\omega \\right)} \\cos^{2.0}{\\left(inc \\right)} \\cos{\\left(\\omega \\right)} - 2.0 eccen^{3.0} sma \\sin{\\left(\\omega \\right)} \\cos{\\left(\\omega \\right)} - eccen^{4.0} sma \\left(\\sqrt{1.0 - xxx} \\sqrt{xxx + 1.0}\\right)^{3.0} \\sin^{2.0}{\\left(\\omega \\right)} \\cos^{2.0}{\\left(inc \\right)} + eccen^{4.0} sma \\left(\\sqrt{1.0 - xxx} \\sqrt{xxx + 1.0}\\right)^{3.0} \\sin^{2.0}{\\left(\\omega \\right)} + 1.0 eccen^{4.0} sma \\sqrt{1.0 - xxx} \\sqrt{xxx + 1.0} \\cos^{2.0}{\\left(inc \\right)} + 1.0 \\sqrt{1.0 - xxx} \\sqrt{xxx + 1.0} \\sin^{2}{\\left(\\omega \\right)} - 1.0 \\sqrt{1.0 - xxx} \\sqrt{xxx + 1.0} \\cos^{2}{\\left(\\omega \\right)}\\right) + xxx^{2.0} \\left(1.0 eccen \\sin{\\left(\\omega \\right)} \\cos{\\left(\\omega \\right)} + eccen^{2.0} sma \\sin{\\left(\\omega \\right)} \\cos^{2.0}{\\left(inc \\right)} \\cos{\\left(\\omega \\right)} - eccen^{3.0} sma \\sqrt{1.0 - xxx} \\sqrt{xxx + 1.0} \\cos^{2.0}{\\left(inc \\right)} \\cos^{2.0}{\\left(\\omega \\right)} + eccen^{3.0} sma \\sqrt{1.0 - xxx} \\sqrt{xxx + 1.0} \\cos^{2.0}{\\left(\\omega \\right)} - 1.0 eccen^{3.0} sma \\sin{\\left(\\omega \\right)} \\cos^{2.0}{\\left(inc \\right)} \\cos{\\left(\\omega \\right)} - 1.0 \\sin{\\left(\\omega \\right)} \\cos{\\left(\\omega \\right)}\\right) + xxx^{3.0} \\left(eccen \\sqrt{1.0 - xxx} \\sqrt{xxx + 1.0} \\sin^{2}{\\left(\\omega \\right)} - eccen \\sqrt{1.0 - xxx} \\sqrt{xxx + 1.0} \\cos^{2}{\\left(\\omega \\right)} - eccen^{3.0} sma \\sqrt{1.0 - xxx} \\sqrt{xxx + 1.0} \\sin^{2}{\\left(\\omega \\right)} \\cos^{2.0}{\\left(inc \\right)} + eccen^{3.0} sma \\sqrt{1.0 - xxx} \\sqrt{xxx + 1.0} \\cos^{2.0}{\\left(inc \\right)} \\cos^{2}{\\left(\\omega \\right)} - 2.0 eccen^{3.0} sma \\sin{\\left(\\omega \\right)} \\cos^{2.0}{\\left(inc \\right)} \\cos{\\left(\\omega \\right)} + 2.0 eccen^{3.0} sma \\sin{\\left(\\omega \\right)} \\cos{\\left(\\omega \\right)} - eccen^{4.0} sma \\sqrt{1.0 - xxx} \\sqrt{xxx + 1.0} \\cos^{2.0}{\\left(inc \\right)} \\cos^{2.0}{\\left(\\omega \\right)} + eccen^{4.0} sma \\sqrt{1.0 - xxx} \\sqrt{xxx + 1.0} \\cos^{2.0}{\\left(\\omega \\right)}\\right) + xxx^{4.0} \\left(- 2 eccen \\sin{\\left(\\omega \\right)} \\cos{\\left(\\omega \\right)} + 2 eccen^{3.0} sma \\sin{\\left(\\omega \\right)} \\cos^{2.0}{\\left(inc \\right)} \\cos{\\left(\\omega \\right)} - 2.0 eccen^{4.0} sma \\sin{\\left(\\omega \\right)} \\cos^{2.0}{\\left(inc \\right)} \\cos{\\left(\\omega \\right)} + 2.0 eccen^{4.0} sma \\sin{\\left(\\omega \\right)} \\cos{\\left(\\omega \\right)}\\right) + 1.0 \\sin{\\left(\\omega \\right)} \\cos{\\left(\\omega \\right)}$"
      ],
      "text/plain": [
       "-1.0*eccen**2.0*sma*sin(omega)*cos(inc)**2.0*cos(omega) - eccen**3.0*sma*(sqrt(1.0 - xxx)*sqrt(xxx + 1.0))**3.0*sin(omega)**2.0*cos(inc)**2.0 + eccen**3.0*sma*(sqrt(1.0 - xxx)*sqrt(xxx + 1.0))**3.0*sin(omega)**2.0 + 1.0*eccen**3.0*sma*sqrt(1.0 - xxx)*sqrt(xxx + 1.0)*cos(inc)**2.0 + xxx**2*(eccen**2.0*sma*sin(omega)*cos(inc)**2.0*cos(omega) + 2.0*eccen**4.0*sma*sin(omega)*cos(inc)**2.0*cos(omega) - 2.0*eccen**4.0*sma*sin(omega)*cos(omega) - 1.0*sin(omega)*cos(omega)) + xxx*(-eccen**2.0*sma*sqrt(1.0 - xxx)*sqrt(xxx + 1.0)*sin(omega)**2*cos(inc)**2.0 + eccen**2.0*sma*sqrt(1.0 - xxx)*sqrt(xxx + 1.0)*cos(inc)**2.0*cos(omega)**2 + 2.0*eccen**3.0*sma*sin(omega)*cos(inc)**2.0*cos(omega) - 2.0*eccen**3.0*sma*sin(omega)*cos(omega) - eccen**4.0*sma*(sqrt(1.0 - xxx)*sqrt(xxx + 1.0))**3.0*sin(omega)**2.0*cos(inc)**2.0 + eccen**4.0*sma*(sqrt(1.0 - xxx)*sqrt(xxx + 1.0))**3.0*sin(omega)**2.0 + 1.0*eccen**4.0*sma*sqrt(1.0 - xxx)*sqrt(xxx + 1.0)*cos(inc)**2.0 + 1.0*sqrt(1.0 - xxx)*sqrt(xxx + 1.0)*sin(omega)**2 - 1.0*sqrt(1.0 - xxx)*sqrt(xxx + 1.0)*cos(omega)**2) + xxx**2.0*(1.0*eccen*sin(omega)*cos(omega) + eccen**2.0*sma*sin(omega)*cos(inc)**2.0*cos(omega) - eccen**3.0*sma*sqrt(1.0 - xxx)*sqrt(xxx + 1.0)*cos(inc)**2.0*cos(omega)**2.0 + eccen**3.0*sma*sqrt(1.0 - xxx)*sqrt(xxx + 1.0)*cos(omega)**2.0 - 1.0*eccen**3.0*sma*sin(omega)*cos(inc)**2.0*cos(omega) - 1.0*sin(omega)*cos(omega)) + xxx**3.0*(eccen*sqrt(1.0 - xxx)*sqrt(xxx + 1.0)*sin(omega)**2 - eccen*sqrt(1.0 - xxx)*sqrt(xxx + 1.0)*cos(omega)**2 - eccen**3.0*sma*sqrt(1.0 - xxx)*sqrt(xxx + 1.0)*sin(omega)**2*cos(inc)**2.0 + eccen**3.0*sma*sqrt(1.0 - xxx)*sqrt(xxx + 1.0)*cos(inc)**2.0*cos(omega)**2 - 2.0*eccen**3.0*sma*sin(omega)*cos(inc)**2.0*cos(omega) + 2.0*eccen**3.0*sma*sin(omega)*cos(omega) - eccen**4.0*sma*sqrt(1.0 - xxx)*sqrt(xxx + 1.0)*cos(inc)**2.0*cos(omega)**2.0 + eccen**4.0*sma*sqrt(1.0 - xxx)*sqrt(xxx + 1.0)*cos(omega)**2.0) + xxx**4.0*(-2*eccen*sin(omega)*cos(omega) + 2*eccen**3.0*sma*sin(omega)*cos(inc)**2.0*cos(omega) - 2.0*eccen**4.0*sma*sin(omega)*cos(inc)**2.0*cos(omega) + 2.0*eccen**4.0*sma*sin(omega)*cos(omega)) + 1.0*sin(omega)*cos(omega)"
      ]
     },
     "execution_count": 26,
     "metadata": {},
     "output_type": "execute_result"
    }
   ],
   "source": [
    "sp.collect(dsbydnuzeros_9,xxx)"
   ]
  },
  {
   "cell_type": "code",
   "execution_count": 27,
   "metadata": {},
   "outputs": [
    {
     "data": {
      "text/latex": [
       "$\\displaystyle - 5.64860302335046 \\cdot 10^{-17} xxx^{2} + 0.000952389141497822 xxx \\left(\\sqrt{1.0 - xxx} \\sqrt{xxx + 1.0}\\right)^{3.0} + 0.9277297124307 xxx \\sqrt{1.0 - xxx} \\sqrt{xxx + 1.0} - 3.88780104559334 \\cdot 10^{-19} xxx + 1.19029577655191 \\cdot 10^{-35} xxx^{2.0} \\sqrt{1.0 - xxx} \\sqrt{xxx + 1.0} - 3.94585773414958 \\cdot 10^{-17} xxx^{2.0} + 0.276174630471659 xxx^{3.0} \\sqrt{1.0 - xxx} \\sqrt{xxx + 1.0} + 3.88780104559334 \\cdot 10^{-19} xxx^{3.0} - 3.37050036899143 \\cdot 10^{-17} xxx^{4.0} + 0.00317463047165941 \\left(\\sqrt{1.0 - xxx} \\sqrt{xxx + 1.0}\\right)^{3.0} + 0.0238253695283406 \\sqrt{1.0 - xxx} \\sqrt{xxx + 1.0} + 5.63693962021368 \\cdot 10^{-17}$"
      ],
      "text/plain": [
       "-5.64860302335046e-17*xxx**2 + 0.000952389141497822*xxx*(sqrt(1.0 - xxx)*sqrt(xxx + 1.0))**3.0 + 0.9277297124307*xxx*sqrt(1.0 - xxx)*sqrt(xxx + 1.0) - 3.88780104559334e-19*xxx + 1.19029577655191e-35*xxx**2.0*sqrt(1.0 - xxx)*sqrt(xxx + 1.0) - 3.94585773414958e-17*xxx**2.0 + 0.276174630471659*xxx**3.0*sqrt(1.0 - xxx)*sqrt(xxx + 1.0) + 3.88780104559334e-19*xxx**3.0 - 3.37050036899143e-17*xxx**4.0 + 0.00317463047165941*(sqrt(1.0 - xxx)*sqrt(xxx + 1.0))**3.0 + 0.0238253695283406*sqrt(1.0 - xxx)*sqrt(xxx + 1.0) + 5.63693962021368e-17"
      ]
     },
     "execution_count": 27,
     "metadata": {},
     "output_type": "execute_result"
    }
   ],
   "source": [
    "dsbydnuzeros_9.subs(sma,1.).subs(eccen,0.3).subs(omega,np.pi/2.).subs(inc,0.35)"
   ]
  },
  {
   "cell_type": "code",
   "execution_count": 28,
   "metadata": {},
   "outputs": [],
   "source": [
    "#sp.solve(dsbydnuzeros_9.subs(sma,1.).subs(eccen,0.3).subs(omega,np.pi/2.).subs(inc,0.35))"
   ]
  },
  {
   "cell_type": "code",
   "execution_count": null,
   "metadata": {},
   "outputs": [],
   "source": []
  },
  {
   "cell_type": "code",
   "execution_count": null,
   "metadata": {},
   "outputs": [],
   "source": []
  }
 ],
 "metadata": {
  "kernelspec": {
   "display_name": "Python 3",
   "language": "python",
   "name": "python3"
  },
  "language_info": {
   "codemirror_mode": {
    "name": "ipython",
    "version": 3
   },
   "file_extension": ".py",
   "mimetype": "text/x-python",
   "name": "python",
   "nbconvert_exporter": "python",
   "pygments_lexer": "ipython3",
   "version": "3.6.9"
  }
 },
 "nbformat": 4,
 "nbformat_minor": 4
}
