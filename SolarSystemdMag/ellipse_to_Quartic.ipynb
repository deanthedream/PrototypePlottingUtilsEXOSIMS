{
 "cells": [
  {
   "cell_type": "code",
   "execution_count": 3,
   "metadata": {},
   "outputs": [],
   "source": [
    "import sympy as sp\n",
    "import numpy as np"
   ]
  },
  {
   "cell_type": "code",
   "execution_count": 4,
   "metadata": {},
   "outputs": [],
   "source": [
    "xe, x, ye, y = sp.symbols('x_e, x, y_e, y ')\n",
    "a, b, e = sp.symbols('a b e')"
   ]
  },
  {
   "cell_type": "markdown",
   "metadata": {},
   "source": [
    "equation for ellipse"
   ]
  },
  {
   "cell_type": "code",
   "execution_count": 5,
   "metadata": {},
   "outputs": [],
   "source": [
    "# solving xe**2/a**2 + ye**2/b**2 = 1 for ye\n",
    "ellipse_eqn = xe**2/a**2 + ye**2/b**2 - 1"
   ]
  },
  {
   "cell_type": "markdown",
   "metadata": {},
   "source": [
    "solve for ye(xe)"
   ]
  },
  {
   "cell_type": "code",
   "execution_count": 6,
   "metadata": {},
   "outputs": [],
   "source": [
    "ye_xe_eqn = sp.solve(ellipse_eqn,ye)[1] #only 1 should be used since ye will be strictly positive if x and y are strictly positive"
   ]
  },
  {
   "cell_type": "code",
   "execution_count": 7,
   "metadata": {},
   "outputs": [
    {
     "data": {
      "text/latex": [
       "$\\displaystyle \\frac{b \\sqrt{\\left(a - x_{e}\\right) \\left(a + x_{e}\\right)}}{a}$"
      ],
      "text/plain": [
       "b*sqrt((a - x_e)*(a + x_e))/a"
      ]
     },
     "execution_count": 7,
     "metadata": {},
     "output_type": "execute_result"
    }
   ],
   "source": [
    "ye_xe_eqn"
   ]
  },
  {
   "cell_type": "markdown",
   "metadata": {},
   "source": [
    "the official 's' equation"
   ]
  },
  {
   "cell_type": "code",
   "execution_count": 8,
   "metadata": {},
   "outputs": [],
   "source": [
    "s_eqn = sp.sqrt((xe - x)**2 + (ye - y)**2)"
   ]
  },
  {
   "cell_type": "markdown",
   "metadata": {},
   "source": [
    "the 's2' equation I use"
   ]
  },
  {
   "cell_type": "code",
   "execution_count": 9,
   "metadata": {},
   "outputs": [],
   "source": [
    "s2_eqn = (xe - x)**2 + (ye - y)**2"
   ]
  },
  {
   "cell_type": "markdown",
   "metadata": {},
   "source": [
    "subbing in ye(xe) to s and s2"
   ]
  },
  {
   "cell_type": "code",
   "execution_count": 10,
   "metadata": {},
   "outputs": [],
   "source": [
    "s_eqn_2 = s_eqn.subs(ye,ye_xe_eqn)\n",
    "s2_eqn_2 = s2_eqn.subs(ye,ye_xe_eqn)"
   ]
  },
  {
   "cell_type": "code",
   "execution_count": 11,
   "metadata": {},
   "outputs": [
    {
     "data": {
      "text/latex": [
       "$\\displaystyle \\sqrt{\\left(- x + x_{e}\\right)^{2} + \\left(- y + \\frac{b \\sqrt{\\left(a - x_{e}\\right) \\left(a + x_{e}\\right)}}{a}\\right)^{2}}$"
      ],
      "text/plain": [
       "sqrt((-x + x_e)**2 + (-y + b*sqrt((a - x_e)*(a + x_e))/a)**2)"
      ]
     },
     "execution_count": 11,
     "metadata": {},
     "output_type": "execute_result"
    }
   ],
   "source": [
    "s_eqn_2"
   ]
  },
  {
   "cell_type": "code",
   "execution_count": 12,
   "metadata": {},
   "outputs": [
    {
     "data": {
      "text/latex": [
       "$\\displaystyle \\left(- x + x_{e}\\right)^{2} + \\left(- y + \\frac{b \\sqrt{\\left(a - x_{e}\\right) \\left(a + x_{e}\\right)}}{a}\\right)^{2}$"
      ],
      "text/plain": [
       "(-x + x_e)**2 + (-y + b*sqrt((a - x_e)*(a + x_e))/a)**2"
      ]
     },
     "execution_count": 12,
     "metadata": {},
     "output_type": "execute_result"
    }
   ],
   "source": [
    "s2_eqn_2"
   ]
  },
  {
   "cell_type": "markdown",
   "metadata": {},
   "source": [
    "compute derivatives"
   ]
  },
  {
   "cell_type": "code",
   "execution_count": 13,
   "metadata": {},
   "outputs": [],
   "source": [
    "#ds_dxe_eqn = sp.diff(s_eqn_2,xe) doesn't look as nice\n",
    "ds2_dxe_eqn = sp.diff(s2_eqn_2,xe)"
   ]
  },
  {
   "cell_type": "code",
   "execution_count": 14,
   "metadata": {},
   "outputs": [
    {
     "data": {
      "text/latex": [
       "$\\displaystyle - 2 x + 2 x_{e} - \\frac{2 b x_{e} \\sqrt{\\left(a - x_{e}\\right) \\left(a + x_{e}\\right)} \\left(- y + \\frac{b \\sqrt{\\left(a - x_{e}\\right) \\left(a + x_{e}\\right)}}{a}\\right)}{a \\left(a - x_{e}\\right) \\left(a + x_{e}\\right)}$"
      ],
      "text/plain": [
       "-2*x + 2*x_e - 2*b*x_e*sqrt((a - x_e)*(a + x_e))*(-y + b*sqrt((a - x_e)*(a + x_e))/a)/(a*(a - x_e)*(a + x_e))"
      ]
     },
     "execution_count": 14,
     "metadata": {},
     "output_type": "execute_result"
    }
   ],
   "source": [
    "ds2_dxe_eqn"
   ]
  },
  {
   "cell_type": "code",
   "execution_count": 15,
   "metadata": {},
   "outputs": [],
   "source": [
    "ds2_dxe_eqn_step2 = sp.simplify(ds2_dxe_eqn*(a**2*(a-xe)*(a+xe)))"
   ]
  },
  {
   "cell_type": "code",
   "execution_count": 16,
   "metadata": {},
   "outputs": [
    {
     "data": {
      "text/latex": [
       "$\\displaystyle - 2 a^{2} \\left(a - x_{e}\\right) \\left(a + x_{e}\\right) \\left(x - x_{e}\\right) + 2 b x_{e} \\sqrt{\\left(a - x_{e}\\right) \\left(a + x_{e}\\right)} \\left(a y - b \\sqrt{\\left(a - x_{e}\\right) \\left(a + x_{e}\\right)}\\right)$"
      ],
      "text/plain": [
       "-2*a**2*(a - x_e)*(a + x_e)*(x - x_e) + 2*b*x_e*sqrt((a - x_e)*(a + x_e))*(a*y - b*sqrt((a - x_e)*(a + x_e)))"
      ]
     },
     "execution_count": 16,
     "metadata": {},
     "output_type": "execute_result"
    }
   ],
   "source": [
    "ds2_dxe_eqn_step2"
   ]
  },
  {
   "cell_type": "code",
   "execution_count": 17,
   "metadata": {},
   "outputs": [
    {
     "data": {
      "text/latex": [
       "$\\displaystyle - 2 a^{4} x + 2 a^{4} x_{e} - 2 a^{2} b^{2} x_{e} + 2 a^{2} x x_{e}^{2} - 2 a^{2} x_{e}^{3} + 2 a b x_{e} y \\sqrt{a^{2} - x_{e}^{2}} + 2 b^{2} x_{e}^{3}$"
      ],
      "text/plain": [
       "-2*a**4*x + 2*a**4*x_e - 2*a**2*b**2*x_e + 2*a**2*x*x_e**2 - 2*a**2*x_e**3 + 2*a*b*x_e*y*sqrt(a**2 - x_e**2) + 2*b**2*x_e**3"
      ]
     },
     "execution_count": 17,
     "metadata": {},
     "output_type": "execute_result"
    }
   ],
   "source": [
    "ds2_dxe_eqn_step2.expand(basic=True)"
   ]
  },
  {
   "cell_type": "code",
   "execution_count": 18,
   "metadata": {},
   "outputs": [
    {
     "name": "stdout",
     "output_type": "stream",
     "text": [
      "-2*a**4*x + 2*a**4*x_e - 2*a**2*b**2*x_e + 2*a**2*x*x_e**2 - 2*a**2*x_e**3 + 2*a*b*x_e*y*sqrt(a**2 - x_e**2) + 2*b**2*x_e**3\n"
     ]
    }
   ],
   "source": [
    "print(ds2_dxe_eqn_step2.expand(basic=True))"
   ]
  },
  {
   "cell_type": "code",
   "execution_count": 19,
   "metadata": {},
   "outputs": [],
   "source": [
    "#out = sp.solve(ds2_dxe_eqn_step2,xe)"
   ]
  },
  {
   "cell_type": "code",
   "execution_count": 20,
   "metadata": {},
   "outputs": [],
   "source": [
    "tmp = ds2_dxe_eqn_step2.expand(basic=True).args\n",
    "ds4_dxe_eqn = -tmp[6]**2 + (tmp[0] + tmp[1] + tmp[2] + tmp[3] + tmp[4] + tmp[5])**2"
   ]
  },
  {
   "cell_type": "code",
   "execution_count": null,
   "metadata": {},
   "outputs": [],
   "source": []
  },
  {
   "cell_type": "code",
   "execution_count": 21,
   "metadata": {},
   "outputs": [
    {
     "data": {
      "text/latex": [
       "$\\displaystyle 4 a^{8} x^{2} - 8 a^{8} x x_{e} + 4 a^{8} x_{e}^{2} + 8 a^{6} b^{2} x x_{e} - 8 a^{6} b^{2} x_{e}^{2} - 8 a^{6} x^{2} x_{e}^{2} + 16 a^{6} x x_{e}^{3} - 8 a^{6} x_{e}^{4} + 4 a^{4} b^{4} x_{e}^{2} - 16 a^{4} b^{2} x x_{e}^{3} + 16 a^{4} b^{2} x_{e}^{4} - 4 a^{4} b^{2} x_{e}^{2} y^{2} + 4 a^{4} x^{2} x_{e}^{4} - 8 a^{4} x x_{e}^{5} + 4 a^{4} x_{e}^{6} - 8 a^{2} b^{4} x_{e}^{4} + 8 a^{2} b^{2} x x_{e}^{5} - 8 a^{2} b^{2} x_{e}^{6} + 4 a^{2} b^{2} x_{e}^{4} y^{2} + 4 b^{4} x_{e}^{6}$"
      ],
      "text/plain": [
       "4*a**8*x**2 - 8*a**8*x*x_e + 4*a**8*x_e**2 + 8*a**6*b**2*x*x_e - 8*a**6*b**2*x_e**2 - 8*a**6*x**2*x_e**2 + 16*a**6*x*x_e**3 - 8*a**6*x_e**4 + 4*a**4*b**4*x_e**2 - 16*a**4*b**2*x*x_e**3 + 16*a**4*b**2*x_e**4 - 4*a**4*b**2*x_e**2*y**2 + 4*a**4*x**2*x_e**4 - 8*a**4*x*x_e**5 + 4*a**4*x_e**6 - 8*a**2*b**4*x_e**4 + 8*a**2*b**2*x*x_e**5 - 8*a**2*b**2*x_e**6 + 4*a**2*b**2*x_e**4*y**2 + 4*b**4*x_e**6"
      ]
     },
     "execution_count": 21,
     "metadata": {},
     "output_type": "execute_result"
    }
   ],
   "source": [
    "sp.expand(ds4_dxe_eqn)"
   ]
  },
  {
   "cell_type": "code",
   "execution_count": 22,
   "metadata": {},
   "outputs": [],
   "source": [
    "ds4_dxe_coeffs = sp.Poly(ds4_dxe_eqn,xe).coeffs()"
   ]
  },
  {
   "cell_type": "code",
   "execution_count": 23,
   "metadata": {},
   "outputs": [
    {
     "data": {
      "text/plain": [
       "[4*a**4 - 8*a**2*b**2 + 4*b**4,\n",
       " -8*a**4*x + 8*a**2*b**2*x,\n",
       " -8*a**6 + 16*a**4*b**2 + 4*a**4*x**2 - 8*a**2*b**4 + 4*a**2*b**2*y**2,\n",
       " 16*a**6*x - 16*a**4*b**2*x,\n",
       " 4*a**8 - 8*a**6*b**2 - 8*a**6*x**2 + 4*a**4*b**4 - 4*a**4*b**2*y**2,\n",
       " -8*a**8*x + 8*a**6*b**2*x,\n",
       " 4*a**8*x**2]"
      ]
     },
     "execution_count": 23,
     "metadata": {},
     "output_type": "execute_result"
    }
   ],
   "source": [
    "ds4_dxe_coeffs"
   ]
  },
  {
   "cell_type": "code",
   "execution_count": null,
   "metadata": {},
   "outputs": [],
   "source": []
  },
  {
   "cell_type": "code",
   "execution_count": 24,
   "metadata": {},
   "outputs": [],
   "source": [
    "tmp = ds2_dxe_eqn.expand(basic=True).args\n",
    "term0 = tmp[0]*(a**4-a**2*xe**2)*(a**3 - a*xe**2) \n",
    "term1 = tmp[1]*(a**4-a**2*xe**2)*(a**3 - a*xe**2) \n",
    "term2 = tmp[2]*(a**4-a**2*xe**2)*(a**3 - a*xe**2) \n",
    "term3 = tmp[3]*(a**4-a**2*xe**2)*(a**3 - a*xe**2)\n",
    "term4 = tmp[4]*(a**4-a**2*xe**2)*(a**3 - a*xe**2) "
   ]
  },
  {
   "cell_type": "code",
   "execution_count": 25,
   "metadata": {},
   "outputs": [
    {
     "data": {
      "text/latex": [
       "$\\displaystyle - 2 x$"
      ],
      "text/plain": [
       "-2*x"
      ]
     },
     "execution_count": 25,
     "metadata": {},
     "output_type": "execute_result"
    }
   ],
   "source": [
    "tmp[0]"
   ]
  },
  {
   "cell_type": "code",
   "execution_count": 26,
   "metadata": {},
   "outputs": [
    {
     "data": {
      "text/latex": [
       "$\\displaystyle 2 x_{e}$"
      ],
      "text/plain": [
       "2*x_e"
      ]
     },
     "execution_count": 26,
     "metadata": {},
     "output_type": "execute_result"
    }
   ],
   "source": [
    "tmp[1]"
   ]
  },
  {
   "cell_type": "code",
   "execution_count": 27,
   "metadata": {},
   "outputs": [
    {
     "data": {
      "text/latex": [
       "$\\displaystyle \\frac{2 b^{2} x_{e}^{3}}{a^{4} - a^{2} x_{e}^{2}}$"
      ],
      "text/plain": [
       "2*b**2*x_e**3/(a**4 - a**2*x_e**2)"
      ]
     },
     "execution_count": 27,
     "metadata": {},
     "output_type": "execute_result"
    }
   ],
   "source": [
    "tmp[2]"
   ]
  },
  {
   "cell_type": "code",
   "execution_count": 28,
   "metadata": {},
   "outputs": [
    {
     "data": {
      "text/latex": [
       "$\\displaystyle - \\frac{2 a^{2} b^{2} x_{e}}{a^{4} - a^{2} x_{e}^{2}}$"
      ],
      "text/plain": [
       "-2*a**2*b**2*x_e/(a**4 - a**2*x_e**2)"
      ]
     },
     "execution_count": 28,
     "metadata": {},
     "output_type": "execute_result"
    }
   ],
   "source": [
    "tmp[3]"
   ]
  },
  {
   "cell_type": "code",
   "execution_count": 29,
   "metadata": {},
   "outputs": [
    {
     "data": {
      "text/latex": [
       "$\\displaystyle \\frac{2 b x_{e} y \\sqrt{a^{2} - x_{e}^{2}}}{a^{3} - a x_{e}^{2}}$"
      ],
      "text/plain": [
       "2*b*x_e*y*sqrt(a**2 - x_e**2)/(a**3 - a*x_e**2)"
      ]
     },
     "execution_count": 29,
     "metadata": {},
     "output_type": "execute_result"
    }
   ],
   "source": [
    "tmp[4]"
   ]
  },
  {
   "cell_type": "code",
   "execution_count": 30,
   "metadata": {},
   "outputs": [],
   "source": [
    "eqn = -tmp[4]**2 + (tmp[0] + tmp[1] + tmp[2] + tmp[3])**2"
   ]
  },
  {
   "cell_type": "code",
   "execution_count": 31,
   "metadata": {},
   "outputs": [
    {
     "data": {
      "text/latex": [
       "$\\displaystyle - \\frac{4 b^{2} x_{e}^{2} y^{2} \\left(a^{2} - x_{e}^{2}\\right)}{\\left(a^{3} - a x_{e}^{2}\\right)^{2}} + \\left(- \\frac{2 a^{2} b^{2} x_{e}}{a^{4} - a^{2} x_{e}^{2}} + \\frac{2 b^{2} x_{e}^{3}}{a^{4} - a^{2} x_{e}^{2}} - 2 x + 2 x_{e}\\right)^{2}$"
      ],
      "text/plain": [
       "-4*b**2*x_e**2*y**2*(a**2 - x_e**2)/(a**3 - a*x_e**2)**2 + (-2*a**2*b**2*x_e/(a**4 - a**2*x_e**2) + 2*b**2*x_e**3/(a**4 - a**2*x_e**2) - 2*x + 2*x_e)**2"
      ]
     },
     "execution_count": 31,
     "metadata": {},
     "output_type": "execute_result"
    }
   ],
   "source": [
    "eqn"
   ]
  },
  {
   "cell_type": "code",
   "execution_count": 32,
   "metadata": {},
   "outputs": [
    {
     "data": {
      "text/latex": [
       "$\\displaystyle \\frac{4 a^{4} b^{4} x_{e}^{2}}{a^{8} - 2 a^{6} x_{e}^{2} + a^{4} x_{e}^{4}} - \\frac{8 a^{2} b^{4} x_{e}^{4}}{a^{8} - 2 a^{6} x_{e}^{2} + a^{4} x_{e}^{4}} + \\frac{8 a^{2} b^{2} x x_{e}}{a^{4} - a^{2} x_{e}^{2}} - \\frac{4 a^{2} b^{2} x_{e}^{2} y^{2}}{a^{6} - 2 a^{4} x_{e}^{2} + a^{2} x_{e}^{4}} - \\frac{8 a^{2} b^{2} x_{e}^{2}}{a^{4} - a^{2} x_{e}^{2}} + \\frac{4 b^{4} x_{e}^{6}}{a^{8} - 2 a^{6} x_{e}^{2} + a^{4} x_{e}^{4}} - \\frac{8 b^{2} x x_{e}^{3}}{a^{4} - a^{2} x_{e}^{2}} + \\frac{4 b^{2} x_{e}^{4} y^{2}}{a^{6} - 2 a^{4} x_{e}^{2} + a^{2} x_{e}^{4}} + \\frac{8 b^{2} x_{e}^{4}}{a^{4} - a^{2} x_{e}^{2}} + 4 x^{2} - 8 x x_{e} + 4 x_{e}^{2}$"
      ],
      "text/plain": [
       "4*a**4*b**4*x_e**2/(a**8 - 2*a**6*x_e**2 + a**4*x_e**4) - 8*a**2*b**4*x_e**4/(a**8 - 2*a**6*x_e**2 + a**4*x_e**4) + 8*a**2*b**2*x*x_e/(a**4 - a**2*x_e**2) - 4*a**2*b**2*x_e**2*y**2/(a**6 - 2*a**4*x_e**2 + a**2*x_e**4) - 8*a**2*b**2*x_e**2/(a**4 - a**2*x_e**2) + 4*b**4*x_e**6/(a**8 - 2*a**6*x_e**2 + a**4*x_e**4) - 8*b**2*x*x_e**3/(a**4 - a**2*x_e**2) + 4*b**2*x_e**4*y**2/(a**6 - 2*a**4*x_e**2 + a**2*x_e**4) + 8*b**2*x_e**4/(a**4 - a**2*x_e**2) + 4*x**2 - 8*x*x_e + 4*x_e**2"
      ]
     },
     "execution_count": 32,
     "metadata": {},
     "output_type": "execute_result"
    }
   ],
   "source": [
    "sp.expand(eqn)"
   ]
  },
  {
   "cell_type": "code",
   "execution_count": 33,
   "metadata": {},
   "outputs": [
    {
     "data": {
      "text/latex": [
       "$\\displaystyle - 2 a^{7} x + 4 a^{5} x x_{e}^{2} - 2 a^{3} x x_{e}^{4}$"
      ],
      "text/plain": [
       "-2*a**7*x + 4*a**5*x*x_e**2 - 2*a**3*x*x_e**4"
      ]
     },
     "execution_count": 33,
     "metadata": {},
     "output_type": "execute_result"
    }
   ],
   "source": [
    "sp.expand(term0)"
   ]
  },
  {
   "cell_type": "code",
   "execution_count": 34,
   "metadata": {},
   "outputs": [
    {
     "data": {
      "text/latex": [
       "$\\displaystyle 2 a^{7} x_{e} - 4 a^{5} x_{e}^{3} + 2 a^{3} x_{e}^{5}$"
      ],
      "text/plain": [
       "2*a**7*x_e - 4*a**5*x_e**3 + 2*a**3*x_e**5"
      ]
     },
     "execution_count": 34,
     "metadata": {},
     "output_type": "execute_result"
    }
   ],
   "source": [
    "sp.expand(term1)"
   ]
  },
  {
   "cell_type": "code",
   "execution_count": 35,
   "metadata": {},
   "outputs": [
    {
     "data": {
      "text/latex": [
       "$\\displaystyle 2 a^{3} b^{2} x_{e}^{3} - 2 a b^{2} x_{e}^{5}$"
      ],
      "text/plain": [
       "2*a**3*b**2*x_e**3 - 2*a*b**2*x_e**5"
      ]
     },
     "execution_count": 35,
     "metadata": {},
     "output_type": "execute_result"
    }
   ],
   "source": [
    "sp.expand(term2)"
   ]
  },
  {
   "cell_type": "code",
   "execution_count": 36,
   "metadata": {},
   "outputs": [
    {
     "data": {
      "text/latex": [
       "$\\displaystyle - 2 a^{5} b^{2} x_{e} + 2 a^{3} b^{2} x_{e}^{3}$"
      ],
      "text/plain": [
       "-2*a**5*b**2*x_e + 2*a**3*b**2*x_e**3"
      ]
     },
     "execution_count": 36,
     "metadata": {},
     "output_type": "execute_result"
    }
   ],
   "source": [
    "sp.expand(term3)"
   ]
  },
  {
   "cell_type": "code",
   "execution_count": 37,
   "metadata": {},
   "outputs": [
    {
     "data": {
      "text/latex": [
       "$\\displaystyle 2 a^{4} b x_{e} y \\sqrt{a^{2} - x_{e}^{2}} - 2 a^{2} b x_{e}^{3} y \\sqrt{a^{2} - x_{e}^{2}}$"
      ],
      "text/plain": [
       "2*a**4*b*x_e*y*sqrt(a**2 - x_e**2) - 2*a**2*b*x_e**3*y*sqrt(a**2 - x_e**2)"
      ]
     },
     "execution_count": 37,
     "metadata": {},
     "output_type": "execute_result"
    }
   ],
   "source": [
    "sp.expand(term4)"
   ]
  },
  {
   "cell_type": "code",
   "execution_count": 38,
   "metadata": {},
   "outputs": [
    {
     "name": "stdout",
     "output_type": "stream",
     "text": [
      "[-2*a**7*x + 4*a**5*x*x_e**2 - 2*a**3*x*x_e**4, 2*a**7*x_e - 4*a**5*x_e**3 + 2*a**3*x_e**5, 2*a**3*b**2*x_e**3 - 2*a*b**2*x_e**5, -2*a**5*b**2*x_e + 2*a**3*b**2*x_e**3, 2*a**4*b*x_e*y*sqrt(a**2 - x_e**2) - 2*a**2*b*x_e**3*y*sqrt(a**2 - x_e**2)]\n"
     ]
    }
   ],
   "source": [
    "print(str([sp.expand(term0),sp.expand(term1),sp.expand(term2),sp.expand(term3),sp.expand(term4)]))"
   ]
  },
  {
   "cell_type": "code",
   "execution_count": 39,
   "metadata": {},
   "outputs": [],
   "source": [
    "#out = sp.solve(ds_dxe_eqn,xe)"
   ]
  },
  {
   "cell_type": "code",
   "execution_count": 40,
   "metadata": {},
   "outputs": [],
   "source": [
    "#out"
   ]
  },
  {
   "cell_type": "markdown",
   "metadata": {},
   "source": [
    "# Ellipse Intersection with Circle"
   ]
  },
  {
   "cell_type": "code",
   "execution_count": 41,
   "metadata": {},
   "outputs": [],
   "source": [
    "r = sp.symbols('r', real=True, positive=True)"
   ]
  },
  {
   "cell_type": "code",
   "execution_count": 42,
   "metadata": {},
   "outputs": [
    {
     "data": {
      "text/latex": [
       "$\\displaystyle \\left(- x + x_{e}\\right)^{2} + \\left(- y + \\frac{b \\sqrt{\\left(a - x_{e}\\right) \\left(a + x_{e}\\right)}}{a}\\right)^{2}$"
      ],
      "text/plain": [
       "(-x + x_e)**2 + (-y + b*sqrt((a - x_e)*(a + x_e))/a)**2"
      ]
     },
     "execution_count": 42,
     "metadata": {},
     "output_type": "execute_result"
    }
   ],
   "source": [
    "s2_eqn_2"
   ]
  },
  {
   "cell_type": "code",
   "execution_count": 43,
   "metadata": {},
   "outputs": [
    {
     "data": {
      "text/latex": [
       "$\\displaystyle b^{2} - r^{2} + x^{2} - 2 x x_{e} + x_{e}^{2} + y^{2} - \\frac{2 b y \\sqrt{a^{2} - x_{e}^{2}}}{a} - \\frac{b^{2} x_{e}^{2}}{a^{2}}$"
      ],
      "text/plain": [
       "b**2 - r**2 + x**2 - 2*x*x_e + x_e**2 + y**2 - 2*b*y*sqrt(a**2 - x_e**2)/a - b**2*x_e**2/a**2"
      ]
     },
     "execution_count": 43,
     "metadata": {},
     "output_type": "execute_result"
    }
   ],
   "source": [
    "sp.expand(s2_eqn_2-r**2)"
   ]
  },
  {
   "cell_type": "markdown",
   "metadata": {},
   "source": [
    "By moving sqrt term to the left hand side (currently 0) and squaring, we get"
   ]
  },
  {
   "cell_type": "code",
   "execution_count": 44,
   "metadata": {},
   "outputs": [],
   "source": [
    "lhs = 4*b**2*y**2/a**2*(a**2-xe**2)"
   ]
  },
  {
   "cell_type": "code",
   "execution_count": 45,
   "metadata": {},
   "outputs": [],
   "source": [
    "rhs = (b**2-r**2+x**2-2*x*xe+xe**2+y**2-b**2*xe**2/a**2)**2"
   ]
  },
  {
   "cell_type": "code",
   "execution_count": 46,
   "metadata": {},
   "outputs": [],
   "source": [
    "lhs = sp.expand(lhs)"
   ]
  },
  {
   "cell_type": "code",
   "execution_count": 47,
   "metadata": {},
   "outputs": [],
   "source": [
    "rhs = sp.expand(rhs)"
   ]
  },
  {
   "cell_type": "code",
   "execution_count": 48,
   "metadata": {},
   "outputs": [],
   "source": [
    "s2_eqn_3 = rhs-lhs"
   ]
  },
  {
   "cell_type": "code",
   "execution_count": 49,
   "metadata": {},
   "outputs": [
    {
     "data": {
      "text/latex": [
       "$\\displaystyle b^{4} - 2 b^{2} r^{2} + 2 b^{2} x^{2} - 4 b^{2} x x_{e} + 2 b^{2} x_{e}^{2} - 2 b^{2} y^{2} + r^{4} - 2 r^{2} x^{2} + 4 r^{2} x x_{e} - 2 r^{2} x_{e}^{2} - 2 r^{2} y^{2} + x^{4} - 4 x^{3} x_{e} + 6 x^{2} x_{e}^{2} + 2 x^{2} y^{2} - 4 x x_{e}^{3} - 4 x x_{e} y^{2} + x_{e}^{4} + 2 x_{e}^{2} y^{2} + y^{4} - \\frac{2 b^{4} x_{e}^{2}}{a^{2}} + \\frac{2 b^{2} r^{2} x_{e}^{2}}{a^{2}} - \\frac{2 b^{2} x^{2} x_{e}^{2}}{a^{2}} + \\frac{4 b^{2} x x_{e}^{3}}{a^{2}} - \\frac{2 b^{2} x_{e}^{4}}{a^{2}} + \\frac{2 b^{2} x_{e}^{2} y^{2}}{a^{2}} + \\frac{b^{4} x_{e}^{4}}{a^{4}}$"
      ],
      "text/plain": [
       "b**4 - 2*b**2*r**2 + 2*b**2*x**2 - 4*b**2*x*x_e + 2*b**2*x_e**2 - 2*b**2*y**2 + r**4 - 2*r**2*x**2 + 4*r**2*x*x_e - 2*r**2*x_e**2 - 2*r**2*y**2 + x**4 - 4*x**3*x_e + 6*x**2*x_e**2 + 2*x**2*y**2 - 4*x*x_e**3 - 4*x*x_e*y**2 + x_e**4 + 2*x_e**2*y**2 + y**4 - 2*b**4*x_e**2/a**2 + 2*b**2*r**2*x_e**2/a**2 - 2*b**2*x**2*x_e**2/a**2 + 4*b**2*x*x_e**3/a**2 - 2*b**2*x_e**4/a**2 + 2*b**2*x_e**2*y**2/a**2 + b**4*x_e**4/a**4"
      ]
     },
     "execution_count": 49,
     "metadata": {},
     "output_type": "execute_result"
    }
   ],
   "source": [
    "s2_eqn_3"
   ]
  },
  {
   "cell_type": "code",
   "execution_count": 50,
   "metadata": {},
   "outputs": [],
   "source": [
    "s2_eqn_3POLY = sp.Poly(s2_eqn_3,xe).coeffs()"
   ]
  },
  {
   "cell_type": "markdown",
   "metadata": {},
   "source": [
    "Ellipse Quartic Expression used in SPIE2020"
   ]
  },
  {
   "cell_type": "code",
   "execution_count": 51,
   "metadata": {},
   "outputs": [
    {
     "data": {
      "text/latex": [
       "$\\displaystyle 1$"
      ],
      "text/plain": [
       "1"
      ]
     },
     "metadata": {},
     "output_type": "display_data"
    },
    {
     "data": {
      "text/latex": [
       "$\\displaystyle - \\frac{4 a^{2} x}{a^{2} - b^{2}}$"
      ],
      "text/plain": [
       "-4*a**2*x/(a**2 - b**2)"
      ]
     },
     "metadata": {},
     "output_type": "display_data"
    },
    {
     "data": {
      "text/latex": [
       "$\\displaystyle \\frac{2 a^{2} \\left(a^{2} b^{2} - a^{2} r^{2} + 3 a^{2} x^{2} + a^{2} y^{2} - b^{4} + b^{2} r^{2} - b^{2} x^{2} + b^{2} y^{2}\\right)}{a^{4} - 2 a^{2} b^{2} + b^{4}}$"
      ],
      "text/plain": [
       "2*a**2*(a**2*b**2 - a**2*r**2 + 3*a**2*x**2 + a**2*y**2 - b**4 + b**2*r**2 - b**2*x**2 + b**2*y**2)/(a**4 - 2*a**2*b**2 + b**4)"
      ]
     },
     "metadata": {},
     "output_type": "display_data"
    },
    {
     "data": {
      "text/latex": [
       "$\\displaystyle \\frac{4 a^{4} x \\left(- b^{2} + r^{2} - x^{2} - y^{2}\\right)}{a^{4} - 2 a^{2} b^{2} + b^{4}}$"
      ],
      "text/plain": [
       "4*a**4*x*(-b**2 + r**2 - x**2 - y**2)/(a**4 - 2*a**2*b**2 + b**4)"
      ]
     },
     "metadata": {},
     "output_type": "display_data"
    },
    {
     "data": {
      "text/latex": [
       "$\\displaystyle \\frac{a^{4} \\left(b^{4} - 2 b^{2} r^{2} + 2 b^{2} x^{2} - 2 b^{2} y^{2} + r^{4} - 2 r^{2} x^{2} - 2 r^{2} y^{2} + x^{4} + 2 x^{2} y^{2} + y^{4}\\right)}{a^{4} - 2 a^{2} b^{2} + b^{4}}$"
      ],
      "text/plain": [
       "a**4*(b**4 - 2*b**2*r**2 + 2*b**2*x**2 - 2*b**2*y**2 + r**4 - 2*r**2*x**2 - 2*r**2*y**2 + x**4 + 2*x**2*y**2 + y**4)/(a**4 - 2*a**2*b**2 + b**4)"
      ]
     },
     "metadata": {},
     "output_type": "display_data"
    },
    {
     "data": {
      "text/plain": [
       "[None, None, None, None, None]"
      ]
     },
     "execution_count": 51,
     "metadata": {},
     "output_type": "execute_result"
    }
   ],
   "source": [
    "[display(sp.simplify(s2_eqn_3POLY[i]/s2_eqn_3POLY[0])) for i in np.arange(len(s2_eqn_3POLY))]"
   ]
  },
  {
   "cell_type": "code",
   "execution_count": 52,
   "metadata": {},
   "outputs": [],
   "source": [
    "Aeqn = sp.simplify(s2_eqn_3POLY[1]/s2_eqn_3POLY[0])\n",
    "Beqn = sp.simplify(s2_eqn_3POLY[2]/s2_eqn_3POLY[0])\n",
    "Ceqn = sp.simplify(s2_eqn_3POLY[3]/s2_eqn_3POLY[0])\n",
    "Deqn = sp.simplify(s2_eqn_3POLY[4]/s2_eqn_3POLY[0])"
   ]
  },
  {
   "cell_type": "code",
   "execution_count": 53,
   "metadata": {},
   "outputs": [
    {
     "name": "stdout",
     "output_type": "stream",
     "text": [
      "-4*a**2*x/(a**2 - b**2)\n"
     ]
    }
   ],
   "source": [
    "print(Aeqn)"
   ]
  },
  {
   "cell_type": "code",
   "execution_count": 54,
   "metadata": {},
   "outputs": [
    {
     "name": "stdout",
     "output_type": "stream",
     "text": [
      "2*a**2*(a**2*b**2 - a**2*r**2 + 3*a**2*x**2 + a**2*y**2 - b**4 + b**2*r**2 - b**2*x**2 + b**2*y**2)/(a**4 - 2*a**2*b**2 + b**4)\n"
     ]
    }
   ],
   "source": [
    "print(Beqn)"
   ]
  },
  {
   "cell_type": "code",
   "execution_count": 55,
   "metadata": {},
   "outputs": [
    {
     "name": "stdout",
     "output_type": "stream",
     "text": [
      "4*a**4*x*(-b**2 + r**2 - x**2 - y**2)/(a**4 - 2*a**2*b**2 + b**4)\n"
     ]
    }
   ],
   "source": [
    "print(Ceqn)"
   ]
  },
  {
   "cell_type": "code",
   "execution_count": 56,
   "metadata": {},
   "outputs": [
    {
     "name": "stdout",
     "output_type": "stream",
     "text": [
      "a**4*(b**4 - 2*b**2*r**2 + 2*b**2*x**2 - 2*b**2*y**2 + r**4 - 2*r**2*x**2 - 2*r**2*y**2 + x**4 + 2*x**2*y**2 + y**4)/(a**4 - 2*a**2*b**2 + b**4)\n"
     ]
    }
   ],
   "source": [
    "print(Deqn)"
   ]
  },
  {
   "cell_type": "markdown",
   "metadata": {},
   "source": [
    "# Solving Quartic Function"
   ]
  },
  {
   "cell_type": "code",
   "execution_count": 57,
   "metadata": {},
   "outputs": [],
   "source": [
    "a, b, r, x, y = sp.symbols('a, b, r, x, y', real=True)\n",
    "xe =sp.symbols('x_e', real=False)\n",
    "A, B, C, D = sp.symbols('A B C D', real=False)"
   ]
  },
  {
   "cell_type": "code",
   "execution_count": 58,
   "metadata": {},
   "outputs": [],
   "source": [
    "#out = sp.solve(s2_eqn_3,xe)"
   ]
  },
  {
   "cell_type": "code",
   "execution_count": 59,
   "metadata": {},
   "outputs": [],
   "source": [
    "charEqn = x**4 + A*x**3 + B*x**2 + C*x + D"
   ]
  },
  {
   "cell_type": "code",
   "execution_count": 61,
   "metadata": {},
   "outputs": [],
   "source": [
    "out = sp.solve(charEqn,x)"
   ]
  },
  {
   "cell_type": "code",
   "execution_count": 62,
   "metadata": {},
   "outputs": [
    {
     "data": {
      "text/plain": [
       "4"
      ]
     },
     "execution_count": 62,
     "metadata": {},
     "output_type": "execute_result"
    }
   ],
   "source": [
    "len(out)"
   ]
  },
  {
   "cell_type": "code",
   "execution_count": 63,
   "metadata": {},
   "outputs": [],
   "source": [
    "p0, p1, p2, p3, p4, p5, p6, p7, p8, p9, p10, p11, p12 = sp.symbols('p0, p1, p2, p3, p4, p5, p6, p7, p8, p9, p10, p11, p12')\n",
    "out[0] = out[0].subs((-3*A**2/8+B)**3,p0)\n",
    "out[0] = out[0].subs((A*(A**2/8-B/2)+C)**2,p1)\n",
    "out[0] = out[0].subs(-A*(A*(3*A**2/256-B/16)+C/4)+D,p2)\n",
    "out[0] = out[0].subs(-3*A**2/8+B,p3)\n",
    "out[0] = out[0].subs(2*A*(A**2/8-B/2),p4)\n",
    "out[0] = out[0].subs(-p0/108-p1/8+p2*p3/3,p5)\n",
    "out[0] = out[0].subs(sp.root(p0/216+p1/16-p2*p3/6+sp.sqrt(p5**2/4+(-p2-p3**2/12)**3/27),3),p6)\n",
    "out[0] = out[0].subs(A**2/4-2*B/3,p7)\n",
    "out[0] = out[0].subs((2*p2+p3**2/6)/(3*p6),p8)\n",
    "out[0] = out[0].subs((-2*p2-p3**2/6)/(3*p6),-p8)\n",
    "out[0] = out[0].subs(sp.sqrt(-2*sp.root(p5,3)+p7),p9)\n",
    "out[0] = out[0].subs(sp.sqrt(2*p6+p7+p8),p10)\n",
    "out[0] = out[0].subs(A**2/2-4*B/3,p11)"
   ]
  },
  {
   "cell_type": "code",
   "execution_count": 64,
   "metadata": {},
   "outputs": [
    {
     "data": {
      "text/latex": [
       "$\\displaystyle \\begin{cases} - \\frac{A}{4} - \\frac{p_{9}}{2} - \\frac{\\sqrt{p_{11} + 2 \\sqrt[3]{p_{5}} + \\frac{2 C + p_{4}}{p_{9}}}}{2} & \\text{for}\\: p_{2} + \\frac{p_{3}^{2}}{12} = 0 \\\\- \\frac{A}{4} - \\frac{p_{10}}{2} - \\frac{\\sqrt{p_{11} - 2 p_{6} - p_{8} + \\frac{2 C + p_{4}}{p_{10}}}}{2} & \\text{otherwise} \\end{cases}$"
      ],
      "text/plain": [
       "Piecewise((-A/4 - p9/2 - sqrt(p11 + 2*p5**(1/3) + (2*C + p4)/p9)/2, Eq(p2 + p3**2/12, 0)), (-A/4 - p10/2 - sqrt(p11 - 2*p6 - p8 + (2*C + p4)/p10)/2, True))"
      ]
     },
     "execution_count": 64,
     "metadata": {},
     "output_type": "execute_result"
    }
   ],
   "source": [
    "out[0]"
   ]
  },
  {
   "cell_type": "code",
   "execution_count": 65,
   "metadata": {},
   "outputs": [],
   "source": [
    "out = sp.solve(charEqn,x)"
   ]
  },
  {
   "cell_type": "markdown",
   "metadata": {},
   "source": [
    "p0 to p11 used in SPIE 2020"
   ]
  },
  {
   "cell_type": "code",
   "execution_count": 66,
   "metadata": {},
   "outputs": [],
   "source": [
    "ps = sp.symbols('p0, p1, p2, p3, p4, p5, p6, p7, p8, -p8, p9, p10, p11')\n",
    "eqns = [(-3*A**2/8+B)**3, (A*(A**2/8-B/2)+C)**2, -A*(A*(3*A**2/256-B/16)+C/4)+D, -3*A**2/8+B, 2*A*(A**2/8-B/2), -p0/108-p1/8+p2*p3/3,\\\n",
    "        sp.root(p0/216+p1/16-p2*p3/6+sp.sqrt(p5**2/4+(-p2-p3**2/12)**3/27),3), A**2/4-2*B/3, (2*p2+p3**2/6)/(3*p6), (-2*p2-p3**2/6)/(3*p6),\\\n",
    "        sp.sqrt(-2*sp.root(p5,3)+p7), sp.sqrt(2*p6+p7+p8), A**2/2-4*B/3]"
   ]
  },
  {
   "cell_type": "code",
   "execution_count": 67,
   "metadata": {},
   "outputs": [
    {
     "data": {
      "text/plain": [
       "(p0, (-3*A**2/8 + B)**3)"
      ]
     },
     "metadata": {},
     "output_type": "display_data"
    },
    {
     "data": {
      "text/plain": [
       "(p1, (A*(A**2/8 - B/2) + C)**2)"
      ]
     },
     "metadata": {},
     "output_type": "display_data"
    },
    {
     "data": {
      "text/plain": [
       "(p2, -A*(A*(3*A**2/256 - B/16) + C/4) + D)"
      ]
     },
     "metadata": {},
     "output_type": "display_data"
    },
    {
     "data": {
      "text/plain": [
       "(p3, -3*A**2/8 + B)"
      ]
     },
     "metadata": {},
     "output_type": "display_data"
    },
    {
     "data": {
      "text/plain": [
       "(p4, 2*A*(A**2/8 - B/2))"
      ]
     },
     "metadata": {},
     "output_type": "display_data"
    },
    {
     "data": {
      "text/plain": [
       "(p5, -p0/108 - p1/8 + p2*p3/3)"
      ]
     },
     "metadata": {},
     "output_type": "display_data"
    },
    {
     "data": {
      "text/plain": [
       "(p6,\n",
       " (p0/216 + p1/16 - p2*p3/6 + sqrt(p5**2/4 + (-p2 - p3**2/12)**3/27))**(1/3))"
      ]
     },
     "metadata": {},
     "output_type": "display_data"
    },
    {
     "data": {
      "text/plain": [
       "(p7, A**2/4 - 2*B/3)"
      ]
     },
     "metadata": {},
     "output_type": "display_data"
    },
    {
     "data": {
      "text/plain": [
       "(p8, (2*p2 + p3**2/6)/(3*p6))"
      ]
     },
     "metadata": {},
     "output_type": "display_data"
    },
    {
     "data": {
      "text/plain": [
       "(-p8, (-2*p2 - p3**2/6)/(3*p6))"
      ]
     },
     "metadata": {},
     "output_type": "display_data"
    },
    {
     "data": {
      "text/plain": [
       "(p9, sqrt(-2*p5**(1/3) + p7))"
      ]
     },
     "metadata": {},
     "output_type": "display_data"
    },
    {
     "data": {
      "text/plain": [
       "(p10, sqrt(2*p6 + p7 + p8))"
      ]
     },
     "metadata": {},
     "output_type": "display_data"
    },
    {
     "data": {
      "text/plain": [
       "(p11, A**2/2 - 4*B/3)"
      ]
     },
     "metadata": {},
     "output_type": "display_data"
    },
    {
     "data": {
      "text/plain": [
       "[None, None, None, None, None, None, None, None, None, None, None, None, None]"
      ]
     },
     "execution_count": 67,
     "metadata": {},
     "output_type": "execute_result"
    }
   ],
   "source": [
    "[display((ps[i],eqns[i])) for i in np.arange(len(eqns))]"
   ]
  },
  {
   "cell_type": "markdown",
   "metadata": {},
   "source": [
    "x0 to x3 used in SPIE 2020"
   ]
  },
  {
   "cell_type": "code",
   "execution_count": 68,
   "metadata": {},
   "outputs": [],
   "source": [
    "for i in np.arange(len(ps)):\n",
    "    if i == 9:\n",
    "        out[0] = out[0].subs(eqns[i],-ps[i-1])\n",
    "    else:\n",
    "        out[0] = out[0].subs(eqns[i],ps[i])"
   ]
  },
  {
   "cell_type": "code",
   "execution_count": 69,
   "metadata": {},
   "outputs": [
    {
     "data": {
      "text/latex": [
       "$\\displaystyle \\begin{cases} - \\frac{A}{4} - \\frac{p_{9}}{2} - \\frac{\\sqrt{p_{11} + 2 \\sqrt[3]{p_{5}} + \\frac{2 C + p_{4}}{p_{9}}}}{2} & \\text{for}\\: p_{2} + \\frac{p_{3}^{2}}{12} = 0 \\\\- \\frac{A}{4} - \\frac{p_{10}}{2} - \\frac{\\sqrt{p_{11} - 2 p_{6} - p_{8} + \\frac{2 C + p_{4}}{p_{10}}}}{2} & \\text{otherwise} \\end{cases}$"
      ],
      "text/plain": [
       "Piecewise((-A/4 - p9/2 - sqrt(p11 + 2*p5**(1/3) + (2*C + p4)/p9)/2, Eq(p2 + p3**2/12, 0)), (-A/4 - p10/2 - sqrt(p11 - 2*p6 - p8 + (2*C + p4)/p10)/2, True))"
      ]
     },
     "execution_count": 69,
     "metadata": {},
     "output_type": "execute_result"
    }
   ],
   "source": [
    "out[0]"
   ]
  },
  {
   "cell_type": "code",
   "execution_count": 107,
   "metadata": {},
   "outputs": [
    {
     "name": "stdout",
     "output_type": "stream",
     "text": [
      "(-A/4 - p9/2 - sqrt(p11 + 2*p5**(1/3) + (2*C + p4)/p9)/2, Eq(p2 + p3**2/12, 0))\n"
     ]
    }
   ],
   "source": [
    "print(out[0].args[0])"
   ]
  },
  {
   "cell_type": "code",
   "execution_count": 103,
   "metadata": {},
   "outputs": [
    {
     "name": "stdout",
     "output_type": "stream",
     "text": [
      "(-A/4 - p10/2 - sqrt(p11 - 2*p6 - p8 + (2*C + p4)/p10)/2, True)\n"
     ]
    }
   ],
   "source": [
    "print(out[0].args[1])"
   ]
  },
  {
   "cell_type": "code",
   "execution_count": 71,
   "metadata": {},
   "outputs": [],
   "source": [
    "for i in np.arange(len(ps)):\n",
    "    if i == 9:\n",
    "        out[1] = out[1].subs(eqns[i],-ps[i-1])\n",
    "    else:\n",
    "        out[1] = out[1].subs(eqns[i],ps[i])"
   ]
  },
  {
   "cell_type": "code",
   "execution_count": 72,
   "metadata": {},
   "outputs": [
    {
     "data": {
      "text/latex": [
       "$\\displaystyle \\begin{cases} - \\frac{A}{4} - \\frac{p_{9}}{2} + \\frac{\\sqrt{p_{11} + 2 \\sqrt[3]{p_{5}} + \\frac{2 C + p_{4}}{p_{9}}}}{2} & \\text{for}\\: p_{2} + \\frac{p_{3}^{2}}{12} = 0 \\\\- \\frac{A}{4} - \\frac{p_{10}}{2} + \\frac{\\sqrt{p_{11} - 2 p_{6} - p_{8} + \\frac{2 C + p_{4}}{p_{10}}}}{2} & \\text{otherwise} \\end{cases}$"
      ],
      "text/plain": [
       "Piecewise((-A/4 - p9/2 + sqrt(p11 + 2*p5**(1/3) + (2*C + p4)/p9)/2, Eq(p2 + p3**2/12, 0)), (-A/4 - p10/2 + sqrt(p11 - 2*p6 - p8 + (2*C + p4)/p10)/2, True))"
      ]
     },
     "execution_count": 72,
     "metadata": {},
     "output_type": "execute_result"
    }
   ],
   "source": [
    "out[1]"
   ]
  },
  {
   "cell_type": "code",
   "execution_count": 106,
   "metadata": {},
   "outputs": [
    {
     "name": "stdout",
     "output_type": "stream",
     "text": [
      "(-A/4 - p10/2 + sqrt(p11 - 2*p6 - p8 + (2*C + p4)/p10)/2, True)\n"
     ]
    }
   ],
   "source": [
    "print(out[1].args[1])"
   ]
  },
  {
   "cell_type": "code",
   "execution_count": 74,
   "metadata": {},
   "outputs": [],
   "source": [
    "for i in np.arange(len(ps)):\n",
    "    if i == 9:\n",
    "        out[2] = out[2].subs(eqns[i],-ps[i-1])\n",
    "    else:\n",
    "        out[2] = out[2].subs(eqns[i],ps[i])"
   ]
  },
  {
   "cell_type": "code",
   "execution_count": 75,
   "metadata": {},
   "outputs": [
    {
     "data": {
      "text/latex": [
       "$\\displaystyle \\begin{cases} - \\frac{A}{4} + \\frac{p_{9}}{2} - \\frac{\\sqrt{p_{11} + 2 \\sqrt[3]{p_{5}} + \\frac{- 2 C - p_{4}}{p_{9}}}}{2} & \\text{for}\\: p_{2} + \\frac{p_{3}^{2}}{12} = 0 \\\\- \\frac{A}{4} + \\frac{p_{10}}{2} - \\frac{\\sqrt{p_{11} - 2 p_{6} - p_{8} + \\frac{- 2 C - p_{4}}{p_{10}}}}{2} & \\text{otherwise} \\end{cases}$"
      ],
      "text/plain": [
       "Piecewise((-A/4 + p9/2 - sqrt(p11 + 2*p5**(1/3) + (-2*C - p4)/p9)/2, Eq(p2 + p3**2/12, 0)), (-A/4 + p10/2 - sqrt(p11 - 2*p6 - p8 + (-2*C - p4)/p10)/2, True))"
      ]
     },
     "execution_count": 75,
     "metadata": {},
     "output_type": "execute_result"
    }
   ],
   "source": [
    "out[2]"
   ]
  },
  {
   "cell_type": "code",
   "execution_count": 104,
   "metadata": {},
   "outputs": [
    {
     "name": "stdout",
     "output_type": "stream",
     "text": [
      "(-A/4 + p10/2 - sqrt(p11 - 2*p6 - p8 + (-2*C - p4)/p10)/2, True)\n"
     ]
    }
   ],
   "source": [
    "print(out[2].args[1])"
   ]
  },
  {
   "cell_type": "code",
   "execution_count": 77,
   "metadata": {},
   "outputs": [],
   "source": [
    "for i in np.arange(len(ps)):\n",
    "    if i == 9:\n",
    "        out[3] = out[3].subs(eqns[i],-ps[i-1])\n",
    "    else:\n",
    "        out[3] = out[3].subs(eqns[i],ps[i])"
   ]
  },
  {
   "cell_type": "code",
   "execution_count": 78,
   "metadata": {},
   "outputs": [
    {
     "data": {
      "text/latex": [
       "$\\displaystyle \\begin{cases} - \\frac{A}{4} + \\frac{p_{9}}{2} + \\frac{\\sqrt{p_{11} + 2 \\sqrt[3]{p_{5}} + \\frac{- 2 C - p_{4}}{p_{9}}}}{2} & \\text{for}\\: p_{2} + \\frac{p_{3}^{2}}{12} = 0 \\\\- \\frac{A}{4} + \\frac{p_{10}}{2} + \\frac{\\sqrt{p_{11} - 2 p_{6} - p_{8} + \\frac{- 2 C - p_{4}}{p_{10}}}}{2} & \\text{otherwise} \\end{cases}$"
      ],
      "text/plain": [
       "Piecewise((-A/4 + p9/2 + sqrt(p11 + 2*p5**(1/3) + (-2*C - p4)/p9)/2, Eq(p2 + p3**2/12, 0)), (-A/4 + p10/2 + sqrt(p11 - 2*p6 - p8 + (-2*C - p4)/p10)/2, True))"
      ]
     },
     "execution_count": 78,
     "metadata": {},
     "output_type": "execute_result"
    }
   ],
   "source": [
    "out[3]"
   ]
  },
  {
   "cell_type": "code",
   "execution_count": 105,
   "metadata": {},
   "outputs": [
    {
     "name": "stdout",
     "output_type": "stream",
     "text": [
      "(-A/4 + p10/2 + sqrt(p11 - 2*p6 - p8 + (-2*C - p4)/p10)/2, True)\n"
     ]
    }
   ],
   "source": [
    "print(out[3].args[1])"
   ]
  },
  {
   "cell_type": "code",
   "execution_count": 109,
   "metadata": {},
   "outputs": [
    {
     "name": "stdout",
     "output_type": "stream",
     "text": [
      "(-A/4 - p9/2 - sqrt(p11 + 2*p5**(1/3) + (2*C + p4)/p9)/2, Eq(p2 + p3**2/12, 0))\n"
     ]
    }
   ],
   "source": [
    "print(out[0].args[0])"
   ]
  },
  {
   "cell_type": "code",
   "execution_count": 110,
   "metadata": {},
   "outputs": [
    {
     "name": "stdout",
     "output_type": "stream",
     "text": [
      "(-A/4 - p9/2 + sqrt(p11 + 2*p5**(1/3) + (2*C + p4)/p9)/2, Eq(p2 + p3**2/12, 0))\n"
     ]
    }
   ],
   "source": [
    "print(out[1].args[0])"
   ]
  },
  {
   "cell_type": "code",
   "execution_count": 111,
   "metadata": {},
   "outputs": [
    {
     "name": "stdout",
     "output_type": "stream",
     "text": [
      "(-A/4 + p9/2 - sqrt(p11 + 2*p5**(1/3) + (-2*C - p4)/p9)/2, Eq(p2 + p3**2/12, 0))\n"
     ]
    }
   ],
   "source": [
    "print(out[2].args[0])"
   ]
  },
  {
   "cell_type": "code",
   "execution_count": 112,
   "metadata": {},
   "outputs": [
    {
     "name": "stdout",
     "output_type": "stream",
     "text": [
      "(-A/4 + p9/2 + sqrt(p11 + 2*p5**(1/3) + (-2*C - p4)/p9)/2, Eq(p2 + p3**2/12, 0))\n"
     ]
    }
   ],
   "source": [
    "print(out[3].args[0])"
   ]
  },
  {
   "cell_type": "markdown",
   "metadata": {},
   "source": [
    "When do the piecewise components come into play? LOOKING AT PIECEWISE CONDITION"
   ]
  },
  {
   "cell_type": "code",
   "execution_count": 80,
   "metadata": {},
   "outputs": [
    {
     "data": {
      "text/latex": [
       "$\\displaystyle \\frac{4 a^{4} \\left(a^{4} b^{4} - 2 a^{4} b^{2} r^{2} - a^{4} b^{2} y^{2} + a^{4} r^{4} - 2 a^{4} r^{2} y^{2} + a^{4} y^{4} - 2 a^{2} b^{6} + 4 a^{2} b^{4} r^{2} - 2 a^{2} b^{4} x^{2} + 3 a^{2} b^{4} y^{2} - 2 a^{2} b^{2} r^{4} + 2 a^{2} b^{2} r^{2} x^{2} + 3 a^{2} b^{2} r^{2} y^{2} + a^{2} b^{2} x^{2} y^{2} - a^{2} b^{2} y^{4} + b^{8} - 2 b^{6} r^{2} + 2 b^{6} x^{2} - 2 b^{6} y^{2} + b^{4} r^{4} - 2 b^{4} r^{2} x^{2} - b^{4} r^{2} y^{2} + b^{4} x^{4} + b^{4} x^{2} y^{2} + b^{4} y^{4}\\right)}{3 \\left(a^{8} - 4 a^{6} b^{2} + 6 a^{4} b^{4} - 4 a^{2} b^{6} + b^{8}\\right)}$"
      ],
      "text/plain": [
       "4*a**4*(a**4*b**4 - 2*a**4*b**2*r**2 - a**4*b**2*y**2 + a**4*r**4 - 2*a**4*r**2*y**2 + a**4*y**4 - 2*a**2*b**6 + 4*a**2*b**4*r**2 - 2*a**2*b**4*x**2 + 3*a**2*b**4*y**2 - 2*a**2*b**2*r**4 + 2*a**2*b**2*r**2*x**2 + 3*a**2*b**2*r**2*y**2 + a**2*b**2*x**2*y**2 - a**2*b**2*y**4 + b**8 - 2*b**6*r**2 + 2*b**6*x**2 - 2*b**6*y**2 + b**4*r**4 - 2*b**4*r**2*x**2 - b**4*r**2*y**2 + b**4*x**4 + b**4*x**2*y**2 + b**4*y**4)/(3*(a**8 - 4*a**6*b**2 + 6*a**4*b**4 - 4*a**2*b**6 + b**8))"
      ]
     },
     "execution_count": 80,
     "metadata": {},
     "output_type": "execute_result"
    }
   ],
   "source": [
    "sp.simplify((p2 + p3**2/12).subs(p3,eqns[3]).subs(p2,eqns[2]).subs(A,Aeqn).subs(B,Beqn).subs(C,Ceqn).subs(D,Deqn))"
   ]
  },
  {
   "cell_type": "markdown",
   "metadata": {},
   "source": [
    "When is the (p5)^(1/3) term imaginary"
   ]
  },
  {
   "cell_type": "code",
   "execution_count": 81,
   "metadata": {},
   "outputs": [
    {
     "data": {
      "text/latex": [
       "$\\displaystyle - \\frac{A^{2} D}{8} + \\frac{A B C}{24} - \\frac{B^{3}}{108} + \\frac{B D}{3} - \\frac{C^{2}}{8}$"
      ],
      "text/plain": [
       "-A**2*D/8 + A*B*C/24 - B**3/108 + B*D/3 - C**2/8"
      ]
     },
     "execution_count": 81,
     "metadata": {},
     "output_type": "execute_result"
    }
   ],
   "source": [
    "sp.expand(eqns[5].subs(p0,eqns[0]).subs(p1,eqns[1]).subs(p2,eqns[2]).subs(p3,eqns[3]))"
   ]
  },
  {
   "cell_type": "code",
   "execution_count": null,
   "metadata": {},
   "outputs": [],
   "source": []
  },
  {
   "cell_type": "markdown",
   "metadata": {},
   "source": [
    "Testing Solutions"
   ]
  },
  {
   "cell_type": "code",
   "execution_count": 82,
   "metadata": {},
   "outputs": [
    {
     "data": {
      "text/latex": [
       "$\\displaystyle - \\frac{A}{4} - \\frac{p_{10}}{2} - \\frac{\\sqrt{p_{11} - 2 p_{6} - p_{8} + \\frac{2 C + p_{4}}{p_{10}}}}{2}$"
      ],
      "text/plain": [
       "-A/4 - p10/2 - sqrt(p11 - 2*p6 - p8 + (2*C + p4)/p10)/2"
      ]
     },
     "execution_count": 82,
     "metadata": {},
     "output_type": "execute_result"
    }
   ],
   "source": [
    "out[0].args[1].args[0]"
   ]
  },
  {
   "cell_type": "code",
   "execution_count": 83,
   "metadata": {},
   "outputs": [],
   "source": [
    "#sp.expand(charEqn.subs(x,out[0].args[1].args[0]).subs(p11,eqns[12]).subs(p10,eqns[11]).subs(p9,eqns[9]).subs(p8,eqns[8]).subs(p7,eqns[7]).subs(p6,eqns[6]).subs(p5,eqns[5]).subs(p4,eqns[4]).subs(p3,eqns[3]).subs(p2,eqns[2]).subs(p1,eqns[1]).subs(p0,eqns[0]))"
   ]
  },
  {
   "cell_type": "markdown",
   "metadata": {},
   "source": [
    "Online Quartic Solution https://planetmath.org/QuarticFormula"
   ]
  },
  {
   "cell_type": "code",
   "execution_count": 84,
   "metadata": {},
   "outputs": [],
   "source": [
    "# r1 = -a/4-(1/2)*sp.sqrt{a**2/4-2*b/3+\n",
    "# \\frac{2**(1/3)*(b**2-3*a*c+12*d)}{3*(2*b^{3}-9*a*b*c+27*c**2+2\n",
    "# 7*a**2*d-72*b*d+{sp.sqrt{-4(b**2-3*a*c+12*d)**3+(2*b**3-9*a*b*c+27*c**2+27*a**2*d-72*b*d)**2}})**(1/3)}+(\\frac{{2*b**3-9*\n",
    "# a*b*c+27*c**2+27*a**2*d-72*b*d+{sp.sqrt{-4*(b**2-3*a*c+12*d)**3+(2*b**3-9*a*b*c+27*c**2+27*a**2*d-72*b*d)**2}}}}{54})**(1/3)}-\n",
    "# (1/2)*{sp.sqrt{a**2/2-4*b/3-\\frac{2**(1/3)*(b**2-3*a*c+12*d)}{3*(2*b**3-9*a*b*c+27*c**2+27*a**2*d-72*b*d+{sp.sqrt{-4*(b**2-3*a*c+12*d)**3+{(2*b**3-9*a*b*c+27*c**2+27*a**2*d-72*b*d)}**2}}\n",
    "# )**(1/3)}-\\left(\\frac{{2*b**3-9*a*b*c+27*c**2+27*a**2*d-72*b*d+{sp.sqrt{\n",
    "# -4*(b**2-3*a*c+12*d)**3+{(2*b**3-9*a*b*c+27*c**2+27*a**2*d-72*b*d\n",
    "# )}**2}}}}{54}\\right)**(1/3)-\\frac{-a**3+4*a*b-8*c}{4{sp.sqrt{a**2/4-2*b/3+\\frac{2**(1/3)*(b**2-3*a*c+12*d)}{3*\n",
    "# (2*b**3-9*a*b*c+27*c**2+27*a**2*d-72*b*d+{sp.sqrt(-4*(b**2-3*a*c+12*d)**3+\n",
    "# (2*b**3-9*a*b*c+27*c**2+27*a**2*d-72*b*d)**2)})**(1/3)}+\n",
    "# (\\frac{{2*b**3-9*a*b*c+27*c**2+27*a**2*d-72*b*d+{\\sqrt{-4*(b**2-3*a*c+12*d)**3+{\\left(2*b**3-9*a*b*c+27*c**2+27*a**2*d-72*b*d)}**2}}}}{54})**(1/3)}}}}}"
   ]
  },
  {
   "cell_type": "code",
   "execution_count": null,
   "metadata": {},
   "outputs": [],
   "source": []
  }
 ],
 "metadata": {
  "kernelspec": {
   "display_name": "Python 3",
   "language": "python",
   "name": "python3"
  },
  "language_info": {
   "codemirror_mode": {
    "name": "ipython",
    "version": 3
   },
   "file_extension": ".py",
   "mimetype": "text/x-python",
   "name": "python",
   "nbconvert_exporter": "python",
   "pygments_lexer": "ipython3",
   "version": "3.6.9"
  }
 },
 "nbformat": 4,
 "nbformat_minor": 4
}
