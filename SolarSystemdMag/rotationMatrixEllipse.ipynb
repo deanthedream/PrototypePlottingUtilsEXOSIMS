{
 "cells": [
  {
   "cell_type": "code",
   "execution_count": 1,
   "metadata": {},
   "outputs": [],
   "source": "import sympy as sp\nimport numpy as np\nfrom IPython.display import display"
  },
  {
   "cell_type": "code",
   "execution_count": 5,
   "metadata": {},
   "outputs": [],
   "source": "#### ds/dnu\nomega, xxx, inc, nu, theta = sp.symbols('omega, xxx, inc, nu, theta', real=True)\nW = sp.symbols('W', real=True)\nsma, eccen, sep = sp.symbols('sma, eccen, sep', real=True, positive=True)"
  },
  {
   "cell_type": "code",
   "execution_count": 8,
   "metadata": {},
   "outputs": [],
   "source": "eqnr = sma*(1-eccen**2)/(1+eccen*sp.cos(nu))\neqnX = eqnr*(sp.cos(W)*sp.cos(omega+nu) - sp.sin(W)*sp.sin(omega+nu)*sp.cos(inc))\neqnY = eqnr*(sp.sin(W)*sp.cos(omega+nu) + sp.cos(W)*sp.sin(omega+nu)*sp.cos(inc))"
  },
  {
   "cell_type": "code",
   "execution_count": 9,
   "metadata": {},
   "outputs": [],
   "source": "s_notNorm = eqnX**2+eqnY**2"
  },
  {
   "cell_type": "code",
   "execution_count": 12,
   "metadata": {},
   "outputs": [
    {
     "data": {
      "text/latex": "$\\displaystyle \\frac{sma^{2} \\left(1 - eccen^{2}\\right)^{2} \\sin^{2}{\\left(\\nu + \\omega \\right)} \\cos^{2}{\\left(inc \\right)}}{\\left(eccen \\cos{\\left(\\nu \\right)} + 1\\right)^{2}} + \\frac{sma^{2} \\left(1 - eccen^{2}\\right)^{2} \\cos^{2}{\\left(\\nu + \\omega \\right)}}{\\left(eccen \\cos{\\left(\\nu \\right)} + 1\\right)^{2}}$",
      "text/plain": "sma**2*(1 - eccen**2)**2*sin(nu + omega)**2*cos(inc)**2/(eccen*cos(nu) + 1)**2 + sma**2*(1 - eccen**2)**2*cos(nu + omega)**2/(eccen*cos(nu) + 1)**2"
     },
     "execution_count": 12,
     "metadata": {},
     "output_type": "execute_result"
    }
   ],
   "source": "s_notNorm.subs(W,0)"
  },
  {
   "cell_type": "code",
   "execution_count": 14,
   "metadata": {},
   "outputs": [],
   "source": "ds = sp.diff(s_notNorm.subs(W,0),nu)"
  },
  {
   "cell_type": "code",
   "execution_count": 15,
   "metadata": {},
   "outputs": [
    {
     "data": {
      "text/latex": "$\\displaystyle \\frac{2 eccen sma^{2} \\left(1 - eccen^{2}\\right)^{2} \\sin{\\left(\\nu \\right)} \\sin^{2}{\\left(\\nu + \\omega \\right)} \\cos^{2}{\\left(inc \\right)}}{\\left(eccen \\cos{\\left(\\nu \\right)} + 1\\right)^{3}} + \\frac{2 eccen sma^{2} \\left(1 - eccen^{2}\\right)^{2} \\sin{\\left(\\nu \\right)} \\cos^{2}{\\left(\\nu + \\omega \\right)}}{\\left(eccen \\cos{\\left(\\nu \\right)} + 1\\right)^{3}} + \\frac{2 sma^{2} \\left(1 - eccen^{2}\\right)^{2} \\sin{\\left(\\nu + \\omega \\right)} \\cos^{2}{\\left(inc \\right)} \\cos{\\left(\\nu + \\omega \\right)}}{\\left(eccen \\cos{\\left(\\nu \\right)} + 1\\right)^{2}} - \\frac{2 sma^{2} \\left(1 - eccen^{2}\\right)^{2} \\sin{\\left(\\nu + \\omega \\right)} \\cos{\\left(\\nu + \\omega \\right)}}{\\left(eccen \\cos{\\left(\\nu \\right)} + 1\\right)^{2}}$",
      "text/plain": "2*eccen*sma**2*(1 - eccen**2)**2*sin(nu)*sin(nu + omega)**2*cos(inc)**2/(eccen*cos(nu) + 1)**3 + 2*eccen*sma**2*(1 - eccen**2)**2*sin(nu)*cos(nu + omega)**2/(eccen*cos(nu) + 1)**3 + 2*sma**2*(1 - eccen**2)**2*sin(nu + omega)*cos(inc)**2*cos(nu + omega)/(eccen*cos(nu) + 1)**2 - 2*sma**2*(1 - eccen**2)**2*sin(nu + omega)*cos(nu + omega)/(eccen*cos(nu) + 1)**2"
     },
     "execution_count": 15,
     "metadata": {},
     "output_type": "execute_result"
    }
   ],
   "source": "ds"
  },
  {
   "cell_type": "code",
   "execution_count": 16,
   "metadata": {},
   "outputs": [],
   "source": "thetax, thetay, thetaz = sp.symbols('thetax thetay thetaz',real=True)"
  },
  {
   "cell_type": "code",
   "execution_count": 17,
   "metadata": {},
   "outputs": [],
   "source": "Rx = sp.Matrix([[1,0,0],[0,sp.cos(thetax),-sp.sin(thetax)],[0,sp.sin(thetax),sp.cos(thetax)]])"
  },
  {
   "cell_type": "code",
   "execution_count": 19,
   "metadata": {},
   "outputs": [],
   "source": "Ry = sp.Matrix([[sp.cos(thetay),0,sp.sin(thetay)],[0,1,0],[-sp.sin(thetay),0,sp.cos(thetay)]])"
  },
  {
   "cell_type": "code",
   "execution_count": 20,
   "metadata": {},
   "outputs": [],
   "source": "Rz = sp.Matrix([[sp.cos(thetaz),-sp.sin(thetaz),0],[sp.sin(thetaz),sp.cos(thetaz),0],[0,0,1]])"
  },
  {
   "cell_type": "code",
   "execution_count": 22,
   "metadata": {},
   "outputs": [
    {
     "data": {
      "text/latex": "$\\displaystyle \\left[\\begin{matrix}1 & 0 & 0\\\\0 & \\cos{\\left(thetax \\right)} & - \\sin{\\left(thetax \\right)}\\\\0 & \\sin{\\left(thetax \\right)} & \\cos{\\left(thetax \\right)}\\end{matrix}\\right]$",
      "text/plain": "Matrix([\n[1,           0,            0],\n[0, cos(thetax), -sin(thetax)],\n[0, sin(thetax),  cos(thetax)]])"
     },
     "execution_count": 22,
     "metadata": {},
     "output_type": "execute_result"
    }
   ],
   "source": "Rx"
  },
  {
   "cell_type": "code",
   "execution_count": 23,
   "metadata": {},
   "outputs": [
    {
     "data": {
      "text/latex": "$\\displaystyle \\left[\\begin{matrix}\\cos{\\left(thetay \\right)} & 0 & \\sin{\\left(thetay \\right)}\\\\0 & 1 & 0\\\\- \\sin{\\left(thetay \\right)} & 0 & \\cos{\\left(thetay \\right)}\\end{matrix}\\right]$",
      "text/plain": "Matrix([\n[ cos(thetay), 0, sin(thetay)],\n[           0, 1,           0],\n[-sin(thetay), 0, cos(thetay)]])"
     },
     "execution_count": 23,
     "metadata": {},
     "output_type": "execute_result"
    }
   ],
   "source": "Ry"
  },
  {
   "cell_type": "code",
   "execution_count": 24,
   "metadata": {},
   "outputs": [
    {
     "data": {
      "text/latex": "$\\displaystyle \\left[\\begin{matrix}\\cos{\\left(thetaz \\right)} & - \\sin{\\left(thetaz \\right)} & 0\\\\\\sin{\\left(thetaz \\right)} & \\cos{\\left(thetaz \\right)} & 0\\\\0 & 0 & 1\\end{matrix}\\right]$",
      "text/plain": "Matrix([\n[cos(thetaz), -sin(thetaz), 0],\n[sin(thetaz),  cos(thetaz), 0],\n[          0,            0, 1]])"
     },
     "execution_count": 24,
     "metadata": {},
     "output_type": "execute_result"
    }
   ],
   "source": "Rz"
  },
  {
   "cell_type": "code",
   "execution_count": 25,
   "metadata": {},
   "outputs": [],
   "source": "b = sp.symbols('b',real=True, positive=True)"
  },
  {
   "cell_type": "code",
   "execution_count": 26,
   "metadata": {},
   "outputs": [],
   "source": "bvect = sp.Matrix([[0],[b],[0]])"
  },
  {
   "cell_type": "code",
   "execution_count": 27,
   "metadata": {},
   "outputs": [],
   "source": "bFinal = Rx*Ry*Rz*bvect"
  },
  {
   "cell_type": "code",
   "execution_count": 28,
   "metadata": {},
   "outputs": [
    {
     "data": {
      "text/latex": "$\\displaystyle \\left[\\begin{matrix}- b \\sin{\\left(thetaz \\right)} \\cos{\\left(thetay \\right)}\\\\b \\left(- \\sin{\\left(thetax \\right)} \\sin{\\left(thetay \\right)} \\sin{\\left(thetaz \\right)} + \\cos{\\left(thetax \\right)} \\cos{\\left(thetaz \\right)}\\right)\\\\b \\left(\\sin{\\left(thetax \\right)} \\cos{\\left(thetaz \\right)} + \\sin{\\left(thetay \\right)} \\sin{\\left(thetaz \\right)} \\cos{\\left(thetax \\right)}\\right)\\end{matrix}\\right]$",
      "text/plain": "Matrix([\n[                                        -b*sin(thetaz)*cos(thetay)],\n[b*(-sin(thetax)*sin(thetay)*sin(thetaz) + cos(thetax)*cos(thetaz))],\n[ b*(sin(thetax)*cos(thetaz) + sin(thetay)*sin(thetaz)*cos(thetax))]])"
     },
     "execution_count": 28,
     "metadata": {},
     "output_type": "execute_result"
    }
   ],
   "source": "bFinal"
  },
  {
   "cell_type": "code",
   "execution_count": 29,
   "metadata": {},
   "outputs": [
    {
     "data": {
      "text/latex": "$\\displaystyle \\left[\\begin{matrix}0\\\\b \\cos{\\left(thetax \\right)}\\\\b \\sin{\\left(thetax \\right)}\\end{matrix}\\right]$",
      "text/plain": "Matrix([\n[            0],\n[b*cos(thetax)],\n[b*sin(thetax)]])"
     },
     "execution_count": 29,
     "metadata": {},
     "output_type": "execute_result"
    }
   ],
   "source": "bFinal.subs(thetaz,0)"
  },
  {
   "cell_type": "code",
   "execution_count": 31,
   "metadata": {},
   "outputs": [],
   "source": "avect = sp.Matrix([[sma],[0],[0]])"
  },
  {
   "cell_type": "code",
   "execution_count": 33,
   "metadata": {},
   "outputs": [],
   "source": "aFinal = Rx*Ry*Rz*avect"
  },
  {
   "cell_type": "code",
   "execution_count": 34,
   "metadata": {},
   "outputs": [
    {
     "data": {
      "text/latex": "$\\displaystyle \\left[\\begin{matrix}sma \\cos{\\left(thetay \\right)}\\\\sma \\sin{\\left(thetax \\right)} \\sin{\\left(thetay \\right)}\\\\- sma \\sin{\\left(thetay \\right)} \\cos{\\left(thetax \\right)}\\end{matrix}\\right]$",
      "text/plain": "Matrix([\n[             sma*cos(thetay)],\n[ sma*sin(thetax)*sin(thetay)],\n[-sma*sin(thetay)*cos(thetax)]])"
     },
     "execution_count": 34,
     "metadata": {},
     "output_type": "execute_result"
    }
   ],
   "source": "aFinal.subs(thetaz,0)"
  },
  {
   "cell_type": "code",
   "execution_count": null,
   "metadata": {},
   "outputs": [],
   "source": ""
  }
 ],
 "metadata": {
  "kernelspec": {
   "display_name": "Python 3",
   "language": "python",
   "name": "python3"
  },
  "language_info": {
   "codemirror_mode": {
    "name": "ipython",
    "version": 3
   },
   "file_extension": ".py",
   "mimetype": "text/x-python",
   "name": "python",
   "nbconvert_exporter": "python",
   "pygments_lexer": "ipython3",
   "version": "3.6.9"
  }
 },
 "nbformat": 4,
 "nbformat_minor": 4
}
