{
 "cells": [
  {
   "cell_type": "code",
   "execution_count": 49,
   "metadata": {},
   "outputs": [],
   "source": [
    "import sympy as sp\n",
    "import numpy as np"
   ]
  },
  {
   "cell_type": "code",
   "execution_count": 50,
   "metadata": {},
   "outputs": [],
   "source": [
    "a, e, b = sp.symbols('a e b', real=True, positive=True)\n",
    "W, w, inc, v, Omega, omega, nu = sp.symbols('W w inc v Omega omega nu',real=True)\n",
    "E, gamma, phi = sp.symbols('E gamma phi', real=True)\n",
    "thx, thy, thz = sp.symbols('thx thy thz', real=True)\n",
    "vx, vy, vz = sp.symbols('vx vy vz', real=True)\n",
    "c1x, c1y, c1z, c2x, c2y, c2z, c3x, c3y, c3z = sp.symbols('c1x c1y c1z c2x c2y c2z c3x c3y c3z', real=True)\n",
    "#cx, cy = sp.symbols('cx cy', real=True)\n",
    "Sxy, Sxz, Syx, Syz, Szx, Szy = sp.symbols('Sxy Sxz Syx Syz Szx Szy',real=True)"
   ]
  },
  {
   "cell_type": "code",
   "execution_count": 51,
   "metadata": {},
   "outputs": [],
   "source": [
    "eqnr = a*(1-e**2)/(1+e*sp.cos(v))"
   ]
  },
  {
   "cell_type": "code",
   "execution_count": 52,
   "metadata": {},
   "outputs": [],
   "source": [
    "eqnX = eqnr*(sp.cos(W)*sp.cos(w+v) - sp.sin(W)*sp.sin(w+v)*sp.cos(inc))\n",
    "eqnY = eqnr*(sp.sin(W)*sp.cos(w+v) + sp.cos(W)*sp.sin(w+v)*sp.cos(inc))\n",
    "eqnZ = eqnr*(sp.sin(inc)*sp.sin(w+v))"
   ]
  },
  {
   "cell_type": "markdown",
   "metadata": {},
   "source": [
    "# Affine Matrix Transformations of Ellipse to Ellipse"
   ]
  },
  {
   "cell_type": "code",
   "execution_count": null,
   "metadata": {},
   "outputs": [],
   "source": []
  },
  {
   "cell_type": "code",
   "execution_count": 53,
   "metadata": {},
   "outputs": [],
   "source": [
    "xyzMat = sp.Matrix([[a*sp.cos(E)],[b*sp.cos(E)],[0]])"
   ]
  },
  {
   "cell_type": "code",
   "execution_count": 54,
   "metadata": {},
   "outputs": [],
   "source": [
    "affineTransx = sp.Matrix([[1, 0, vx],[0, 1, 0],[0, 0, 1]])\n",
    "affineTransy = sp.Matrix([[1, 0, 0],[vy, 1, 0],[0, 0, 1]])\n",
    "affineTransz = sp.Matrix([[1, 0, 0],[0, 1, 0],[0, vz, 1]])"
   ]
  },
  {
   "cell_type": "code",
   "execution_count": 55,
   "metadata": {},
   "outputs": [],
   "source": [
    "affineRef = sp.Matrix([[-1,0,0],[0,1,0],[0,0,1]])"
   ]
  },
  {
   "cell_type": "code",
   "execution_count": 56,
   "metadata": {},
   "outputs": [],
   "source": [
    "affineScale1 = sp.Matrix([[c1x,0,0],[0,c1y,0],[0,0,1]])\n",
    "affineScale2 = sp.Matrix([[c2x,0,0],[0,1,0],[0,0,c2z]])\n",
    "affineScale3 = sp.Matrix([[1,0,0],[0,c3y,0],[0,0,c3z]])"
   ]
  },
  {
   "cell_type": "code",
   "execution_count": 57,
   "metadata": {},
   "outputs": [],
   "source": [
    "affineRotatez = sp.Matrix([[sp.cos(thz),-sp.sin(thz),0],[sp.sin(thz),sp.cos(thz),0],[0,0,1]])\n",
    "affineRotatey = sp.Matrix([[sp.cos(thy),0,-sp.sin(thy)],[0,1,0],[sp.sin(thy),0,sp.cos(thy)]])\n",
    "affineRotatex = sp.Matrix([[1,0,0],[0,sp.cos(thx),-sp.sin(thx)],[0,sp.sin(thx),sp.cos(thx)]])"
   ]
  },
  {
   "cell_type": "code",
   "execution_count": 58,
   "metadata": {},
   "outputs": [],
   "source": [
    "affineShear = sp.Matrix([[1,Sxy,Sxz],[Syx,1,Syz],[Szx,Szy,1]])"
   ]
  },
  {
   "cell_type": "markdown",
   "metadata": {},
   "source": [
    "NEED TO ADD ALL DIFFERENT KINDS OF SHEAR ROTATE SCALE, TRANSLATE"
   ]
  },
  {
   "cell_type": "code",
   "execution_count": 59,
   "metadata": {},
   "outputs": [],
   "source": [
    "out = affineShear*affineRotatex*affineRotatey*affineRotatez*affineScale1*affineRef*affineTransx*affineTransy*affineTransz*xyzMat"
   ]
  },
  {
   "cell_type": "code",
   "execution_count": 60,
   "metadata": {},
   "outputs": [
    {
     "data": {
      "text/latex": [
       "$\\displaystyle \\left[\\begin{matrix}a \\left(- c1x \\left(\\left(Sxy \\cos{\\left(thx \\right)} + Sxz \\sin{\\left(thx \\right)}\\right) \\sin{\\left(thz \\right)} + \\left(\\left(- Sxy \\sin{\\left(thx \\right)} + Sxz \\cos{\\left(thx \\right)}\\right) \\sin{\\left(thy \\right)} + \\cos{\\left(thy \\right)}\\right) \\cos{\\left(thz \\right)}\\right) + c1y vy \\left(\\left(Sxy \\cos{\\left(thx \\right)} + Sxz \\sin{\\left(thx \\right)}\\right) \\cos{\\left(thz \\right)} - \\left(\\left(- Sxy \\sin{\\left(thx \\right)} + Sxz \\cos{\\left(thx \\right)}\\right) \\sin{\\left(thy \\right)} + \\cos{\\left(thy \\right)}\\right) \\sin{\\left(thz \\right)}\\right)\\right) \\cos{\\left(E \\right)} + b \\left(c1y \\left(\\left(Sxy \\cos{\\left(thx \\right)} + Sxz \\sin{\\left(thx \\right)}\\right) \\cos{\\left(thz \\right)} - \\left(\\left(- Sxy \\sin{\\left(thx \\right)} + Sxz \\cos{\\left(thx \\right)}\\right) \\sin{\\left(thy \\right)} + \\cos{\\left(thy \\right)}\\right) \\sin{\\left(thz \\right)}\\right) + vz \\left(- c1x vx \\left(\\left(Sxy \\cos{\\left(thx \\right)} + Sxz \\sin{\\left(thx \\right)}\\right) \\sin{\\left(thz \\right)} + \\left(\\left(- Sxy \\sin{\\left(thx \\right)} + Sxz \\cos{\\left(thx \\right)}\\right) \\sin{\\left(thy \\right)} + \\cos{\\left(thy \\right)}\\right) \\cos{\\left(thz \\right)}\\right) + \\left(- Sxy \\sin{\\left(thx \\right)} + Sxz \\cos{\\left(thx \\right)}\\right) \\cos{\\left(thy \\right)} - \\sin{\\left(thy \\right)}\\right)\\right) \\cos{\\left(E \\right)}\\\\a \\left(- c1x \\left(\\left(Syx \\cos{\\left(thy \\right)} + \\left(Syz \\cos{\\left(thx \\right)} - \\sin{\\left(thx \\right)}\\right) \\sin{\\left(thy \\right)}\\right) \\cos{\\left(thz \\right)} + \\left(Syz \\sin{\\left(thx \\right)} + \\cos{\\left(thx \\right)}\\right) \\sin{\\left(thz \\right)}\\right) + c1y vy \\left(- \\left(Syx \\cos{\\left(thy \\right)} + \\left(Syz \\cos{\\left(thx \\right)} - \\sin{\\left(thx \\right)}\\right) \\sin{\\left(thy \\right)}\\right) \\sin{\\left(thz \\right)} + \\left(Syz \\sin{\\left(thx \\right)} + \\cos{\\left(thx \\right)}\\right) \\cos{\\left(thz \\right)}\\right)\\right) \\cos{\\left(E \\right)} + b \\left(c1y \\left(- \\left(Syx \\cos{\\left(thy \\right)} + \\left(Syz \\cos{\\left(thx \\right)} - \\sin{\\left(thx \\right)}\\right) \\sin{\\left(thy \\right)}\\right) \\sin{\\left(thz \\right)} + \\left(Syz \\sin{\\left(thx \\right)} + \\cos{\\left(thx \\right)}\\right) \\cos{\\left(thz \\right)}\\right) + vz \\left(- Syx \\sin{\\left(thy \\right)} - c1x vx \\left(\\left(Syx \\cos{\\left(thy \\right)} + \\left(Syz \\cos{\\left(thx \\right)} - \\sin{\\left(thx \\right)}\\right) \\sin{\\left(thy \\right)}\\right) \\cos{\\left(thz \\right)} + \\left(Syz \\sin{\\left(thx \\right)} + \\cos{\\left(thx \\right)}\\right) \\sin{\\left(thz \\right)}\\right) + \\left(Syz \\cos{\\left(thx \\right)} - \\sin{\\left(thx \\right)}\\right) \\cos{\\left(thy \\right)}\\right)\\right) \\cos{\\left(E \\right)}\\\\a \\left(- c1x \\left(\\left(Szx \\cos{\\left(thy \\right)} + \\left(- Szy \\sin{\\left(thx \\right)} + \\cos{\\left(thx \\right)}\\right) \\sin{\\left(thy \\right)}\\right) \\cos{\\left(thz \\right)} + \\left(Szy \\cos{\\left(thx \\right)} + \\sin{\\left(thx \\right)}\\right) \\sin{\\left(thz \\right)}\\right) + c1y vy \\left(- \\left(Szx \\cos{\\left(thy \\right)} + \\left(- Szy \\sin{\\left(thx \\right)} + \\cos{\\left(thx \\right)}\\right) \\sin{\\left(thy \\right)}\\right) \\sin{\\left(thz \\right)} + \\left(Szy \\cos{\\left(thx \\right)} + \\sin{\\left(thx \\right)}\\right) \\cos{\\left(thz \\right)}\\right)\\right) \\cos{\\left(E \\right)} + b \\left(c1y \\left(- \\left(Szx \\cos{\\left(thy \\right)} + \\left(- Szy \\sin{\\left(thx \\right)} + \\cos{\\left(thx \\right)}\\right) \\sin{\\left(thy \\right)}\\right) \\sin{\\left(thz \\right)} + \\left(Szy \\cos{\\left(thx \\right)} + \\sin{\\left(thx \\right)}\\right) \\cos{\\left(thz \\right)}\\right) + vz \\left(- Szx \\sin{\\left(thy \\right)} - c1x vx \\left(\\left(Szx \\cos{\\left(thy \\right)} + \\left(- Szy \\sin{\\left(thx \\right)} + \\cos{\\left(thx \\right)}\\right) \\sin{\\left(thy \\right)}\\right) \\cos{\\left(thz \\right)} + \\left(Szy \\cos{\\left(thx \\right)} + \\sin{\\left(thx \\right)}\\right) \\sin{\\left(thz \\right)}\\right) + \\left(- Szy \\sin{\\left(thx \\right)} + \\cos{\\left(thx \\right)}\\right) \\cos{\\left(thy \\right)}\\right)\\right) \\cos{\\left(E \\right)}\\end{matrix}\\right]$"
      ],
      "text/plain": [
       "Matrix([\n",
       "[a*(-c1x*((Sxy*cos(thx) + Sxz*sin(thx))*sin(thz) + ((-Sxy*sin(thx) + Sxz*cos(thx))*sin(thy) + cos(thy))*cos(thz)) + c1y*vy*((Sxy*cos(thx) + Sxz*sin(thx))*cos(thz) - ((-Sxy*sin(thx) + Sxz*cos(thx))*sin(thy) + cos(thy))*sin(thz)))*cos(E) + b*(c1y*((Sxy*cos(thx) + Sxz*sin(thx))*cos(thz) - ((-Sxy*sin(thx) + Sxz*cos(thx))*sin(thy) + cos(thy))*sin(thz)) + vz*(-c1x*vx*((Sxy*cos(thx) + Sxz*sin(thx))*sin(thz) + ((-Sxy*sin(thx) + Sxz*cos(thx))*sin(thy) + cos(thy))*cos(thz)) + (-Sxy*sin(thx) + Sxz*cos(thx))*cos(thy) - sin(thy)))*cos(E)],\n",
       "[                   a*(-c1x*((Syx*cos(thy) + (Syz*cos(thx) - sin(thx))*sin(thy))*cos(thz) + (Syz*sin(thx) + cos(thx))*sin(thz)) + c1y*vy*(-(Syx*cos(thy) + (Syz*cos(thx) - sin(thx))*sin(thy))*sin(thz) + (Syz*sin(thx) + cos(thx))*cos(thz)))*cos(E) + b*(c1y*(-(Syx*cos(thy) + (Syz*cos(thx) - sin(thx))*sin(thy))*sin(thz) + (Syz*sin(thx) + cos(thx))*cos(thz)) + vz*(-Syx*sin(thy) - c1x*vx*((Syx*cos(thy) + (Syz*cos(thx) - sin(thx))*sin(thy))*cos(thz) + (Syz*sin(thx) + cos(thx))*sin(thz)) + (Syz*cos(thx) - sin(thx))*cos(thy)))*cos(E)],\n",
       "[              a*(-c1x*((Szx*cos(thy) + (-Szy*sin(thx) + cos(thx))*sin(thy))*cos(thz) + (Szy*cos(thx) + sin(thx))*sin(thz)) + c1y*vy*(-(Szx*cos(thy) + (-Szy*sin(thx) + cos(thx))*sin(thy))*sin(thz) + (Szy*cos(thx) + sin(thx))*cos(thz)))*cos(E) + b*(c1y*(-(Szx*cos(thy) + (-Szy*sin(thx) + cos(thx))*sin(thy))*sin(thz) + (Szy*cos(thx) + sin(thx))*cos(thz)) + vz*(-Szx*sin(thy) - c1x*vx*((Szx*cos(thy) + (-Szy*sin(thx) + cos(thx))*sin(thy))*cos(thz) + (Szy*cos(thx) + sin(thx))*sin(thz)) + (-Szy*sin(thx) + cos(thx))*cos(thy)))*cos(E)]])"
      ]
     },
     "execution_count": 60,
     "metadata": {},
     "output_type": "execute_result"
    }
   ],
   "source": [
    "out"
   ]
  },
  {
   "cell_type": "code",
   "execution_count": 61,
   "metadata": {},
   "outputs": [
    {
     "data": {
      "text/latex": [
       "$\\displaystyle Sxy^{2} a^{2} c1x^{2} \\sin^{2}{\\left(thx \\right)} \\sin^{2}{\\left(thy \\right)} \\cos^{2}{\\left(E \\right)} \\cos^{2}{\\left(thz \\right)} - 2 Sxy^{2} a^{2} c1x^{2} \\sin{\\left(thx \\right)} \\sin{\\left(thy \\right)} \\sin{\\left(thz \\right)} \\cos^{2}{\\left(E \\right)} \\cos{\\left(thx \\right)} \\cos{\\left(thz \\right)} + Sxy^{2} a^{2} c1x^{2} \\sin^{2}{\\left(thz \\right)} \\cos^{2}{\\left(E \\right)} \\cos^{2}{\\left(thx \\right)} + 2 Sxy^{2} a^{2} c1x c1y vy \\sin^{2}{\\left(thx \\right)} \\sin^{2}{\\left(thy \\right)} \\sin{\\left(thz \\right)} \\cos^{2}{\\left(E \\right)} \\cos{\\left(thz \\right)} - 2 Sxy^{2} a^{2} c1x c1y vy \\sin{\\left(thx \\right)} \\sin{\\left(thy \\right)} \\sin^{2}{\\left(thz \\right)} \\cos^{2}{\\left(E \\right)} \\cos{\\left(thx \\right)} + 2 Sxy^{2} a^{2} c1x c1y vy \\sin{\\left(thx \\right)} \\sin{\\left(thy \\right)} \\cos^{2}{\\left(E \\right)} \\cos{\\left(thx \\right)} \\cos^{2}{\\left(thz \\right)} - 2 Sxy^{2} a^{2} c1x c1y vy \\sin{\\left(thz \\right)} \\cos^{2}{\\left(E \\right)} \\cos^{2}{\\left(thx \\right)} \\cos{\\left(thz \\right)} + Sxy^{2} a^{2} c1y^{2} vy^{2} \\sin^{2}{\\left(thx \\right)} \\sin^{2}{\\left(thy \\right)} \\sin^{2}{\\left(thz \\right)} \\cos^{2}{\\left(E \\right)} + 2 Sxy^{2} a^{2} c1y^{2} vy^{2} \\sin{\\left(thx \\right)} \\sin{\\left(thy \\right)} \\sin{\\left(thz \\right)} \\cos^{2}{\\left(E \\right)} \\cos{\\left(thx \\right)} \\cos{\\left(thz \\right)} + Sxy^{2} a^{2} c1y^{2} vy^{2} \\cos^{2}{\\left(E \\right)} \\cos^{2}{\\left(thx \\right)} \\cos^{2}{\\left(thz \\right)} + 2 Sxy^{2} a b c1x^{2} vx vz \\sin^{2}{\\left(thx \\right)} \\sin^{2}{\\left(thy \\right)} \\cos^{2}{\\left(E \\right)} \\cos^{2}{\\left(thz \\right)} - 4 Sxy^{2} a b c1x^{2} vx vz \\sin{\\left(thx \\right)} \\sin{\\left(thy \\right)} \\sin{\\left(thz \\right)} \\cos^{2}{\\left(E \\right)} \\cos{\\left(thx \\right)} \\cos{\\left(thz \\right)} + 2 Sxy^{2} a b c1x^{2} vx vz \\sin^{2}{\\left(thz \\right)} \\cos^{2}{\\left(E \\right)} \\cos^{2}{\\left(thx \\right)} + 2 Sxy^{2} a b c1x c1y vx vy vz \\sin^{2}{\\left(thx \\right)} \\sin^{2}{\\left(thy \\right)} \\sin{\\left(thz \\right)} \\cos^{2}{\\left(E \\right)} \\cos{\\left(thz \\right)} - 2 Sxy^{2} a b c1x c1y vx vy vz \\sin{\\left(thx \\right)} \\sin{\\left(thy \\right)} \\sin^{2}{\\left(thz \\right)} \\cos^{2}{\\left(E \\right)} \\cos{\\left(thx \\right)} + 2 Sxy^{2} a b c1x c1y vx vy vz \\sin{\\left(thx \\right)} \\sin{\\left(thy \\right)} \\cos^{2}{\\left(E \\right)} \\cos{\\left(thx \\right)} \\cos^{2}{\\left(thz \\right)} - 2 Sxy^{2} a b c1x c1y vx vy vz \\sin{\\left(thz \\right)} \\cos^{2}{\\left(E \\right)} \\cos^{2}{\\left(thx \\right)} \\cos{\\left(thz \\right)} + 2 Sxy^{2} a b c1x c1y \\sin^{2}{\\left(thx \\right)} \\sin^{2}{\\left(thy \\right)} \\sin{\\left(thz \\right)} \\cos^{2}{\\left(E \\right)} \\cos{\\left(thz \\right)} - 2 Sxy^{2} a b c1x c1y \\sin{\\left(thx \\right)} \\sin{\\left(thy \\right)} \\sin^{2}{\\left(thz \\right)} \\cos^{2}{\\left(E \\right)} \\cos{\\left(thx \\right)} + 2 Sxy^{2} a b c1x c1y \\sin{\\left(thx \\right)} \\sin{\\left(thy \\right)} \\cos^{2}{\\left(E \\right)} \\cos{\\left(thx \\right)} \\cos^{2}{\\left(thz \\right)} - 2 Sxy^{2} a b c1x c1y \\sin{\\left(thz \\right)} \\cos^{2}{\\left(E \\right)} \\cos^{2}{\\left(thx \\right)} \\cos{\\left(thz \\right)} - 2 Sxy^{2} a b c1x vz \\sin^{2}{\\left(thx \\right)} \\sin{\\left(thy \\right)} \\cos^{2}{\\left(E \\right)} \\cos{\\left(thy \\right)} \\cos{\\left(thz \\right)} + 2 Sxy^{2} a b c1x vz \\sin{\\left(thx \\right)} \\sin{\\left(thz \\right)} \\cos^{2}{\\left(E \\right)} \\cos{\\left(thx \\right)} \\cos{\\left(thy \\right)} + 2 Sxy^{2} a b c1y^{2} vy \\sin^{2}{\\left(thx \\right)} \\sin^{2}{\\left(thy \\right)} \\sin^{2}{\\left(thz \\right)} \\cos^{2}{\\left(E \\right)} + 4 Sxy^{2} a b c1y^{2} vy \\sin{\\left(thx \\right)} \\sin{\\left(thy \\right)} \\sin{\\left(thz \\right)} \\cos^{2}{\\left(E \\right)} \\cos{\\left(thx \\right)} \\cos{\\left(thz \\right)} + 2 Sxy^{2} a b c1y^{2} vy \\cos^{2}{\\left(E \\right)} \\cos^{2}{\\left(thx \\right)} \\cos^{2}{\\left(thz \\right)} - 2 Sxy^{2} a b c1y vy vz \\sin^{2}{\\left(thx \\right)} \\sin{\\left(thy \\right)} \\sin{\\left(thz \\right)} \\cos^{2}{\\left(E \\right)} \\cos{\\left(thy \\right)} - 2 Sxy^{2} a b c1y vy vz \\sin{\\left(thx \\right)} \\cos^{2}{\\left(E \\right)} \\cos{\\left(thx \\right)} \\cos{\\left(thy \\right)} \\cos{\\left(thz \\right)} + Sxy^{2} b^{2} c1x^{2} vx^{2} vz^{2} \\sin^{2}{\\left(thx \\right)} \\sin^{2}{\\left(thy \\right)} \\cos^{2}{\\left(E \\right)} \\cos^{2}{\\left(thz \\right)} - 2 Sxy^{2} b^{2} c1x^{2} vx^{2} vz^{2} \\sin{\\left(thx \\right)} \\sin{\\left(thy \\right)} \\sin{\\left(thz \\right)} \\cos^{2}{\\left(E \\right)} \\cos{\\left(thx \\right)} \\cos{\\left(thz \\right)} + Sxy^{2} b^{2} c1x^{2} vx^{2} vz^{2} \\sin^{2}{\\left(thz \\right)} \\cos^{2}{\\left(E \\right)} \\cos^{2}{\\left(thx \\right)} + 2 Sxy^{2} b^{2} c1x c1y vx vz \\sin^{2}{\\left(thx \\right)} \\sin^{2}{\\left(thy \\right)} \\sin{\\left(thz \\right)} \\cos^{2}{\\left(E \\right)} \\cos{\\left(thz \\right)} - 2 Sxy^{2} b^{2} c1x c1y vx vz \\sin{\\left(thx \\right)} \\sin{\\left(thy \\right)} \\sin^{2}{\\left(thz \\right)} \\cos^{2}{\\left(E \\right)} \\cos{\\left(thx \\right)} + 2 Sxy^{2} b^{2} c1x c1y vx vz \\sin{\\left(thx \\right)} \\sin{\\left(thy \\right)} \\cos^{2}{\\left(E \\right)} \\cos{\\left(thx \\right)} \\cos^{2}{\\left(thz \\right)} - 2 Sxy^{2} b^{2} c1x c1y vx vz \\sin{\\left(thz \\right)} \\cos^{2}{\\left(E \\right)} \\cos^{2}{\\left(thx \\right)} \\cos{\\left(thz \\right)} - 2 Sxy^{2} b^{2} c1x vx vz^{2} \\sin^{2}{\\left(thx \\right)} \\sin{\\left(thy \\right)} \\cos^{2}{\\left(E \\right)} \\cos{\\left(thy \\right)} \\cos{\\left(thz \\right)} + 2 Sxy^{2} b^{2} c1x vx vz^{2} \\sin{\\left(thx \\right)} \\sin{\\left(thz \\right)} \\cos^{2}{\\left(E \\right)} \\cos{\\left(thx \\right)} \\cos{\\left(thy \\right)} + Sxy^{2} b^{2} c1y^{2} \\sin^{2}{\\left(thx \\right)} \\sin^{2}{\\left(thy \\right)} \\sin^{2}{\\left(thz \\right)} \\cos^{2}{\\left(E \\right)} + 2 Sxy^{2} b^{2} c1y^{2} \\sin{\\left(thx \\right)} \\sin{\\left(thy \\right)} \\sin{\\left(thz \\right)} \\cos^{2}{\\left(E \\right)} \\cos{\\left(thx \\right)} \\cos{\\left(thz \\right)} + Sxy^{2} b^{2} c1y^{2} \\cos^{2}{\\left(E \\right)} \\cos^{2}{\\left(thx \\right)} \\cos^{2}{\\left(thz \\right)} - 2 Sxy^{2} b^{2} c1y vz \\sin^{2}{\\left(thx \\right)} \\sin{\\left(thy \\right)} \\sin{\\left(thz \\right)} \\cos^{2}{\\left(E \\right)} \\cos{\\left(thy \\right)} - 2 Sxy^{2} b^{2} c1y vz \\sin{\\left(thx \\right)} \\cos^{2}{\\left(E \\right)} \\cos{\\left(thx \\right)} \\cos{\\left(thy \\right)} \\cos{\\left(thz \\right)} + Sxy^{2} b^{2} vz^{2} \\sin^{2}{\\left(thx \\right)} \\cos^{2}{\\left(E \\right)} \\cos^{2}{\\left(thy \\right)} - 2 Sxy Sxz a^{2} c1x^{2} \\sin^{2}{\\left(thx \\right)} \\sin{\\left(thy \\right)} \\sin{\\left(thz \\right)} \\cos^{2}{\\left(E \\right)} \\cos{\\left(thz \\right)} - 2 Sxy Sxz a^{2} c1x^{2} \\sin{\\left(thx \\right)} \\sin^{2}{\\left(thy \\right)} \\cos^{2}{\\left(E \\right)} \\cos{\\left(thx \\right)} \\cos^{2}{\\left(thz \\right)} + 2 Sxy Sxz a^{2} c1x^{2} \\sin{\\left(thx \\right)} \\sin^{2}{\\left(thz \\right)} \\cos^{2}{\\left(E \\right)} \\cos{\\left(thx \\right)} + 2 Sxy Sxz a^{2} c1x^{2} \\sin{\\left(thy \\right)} \\sin{\\left(thz \\right)} \\cos^{2}{\\left(E \\right)} \\cos^{2}{\\left(thx \\right)} \\cos{\\left(thz \\right)} - 2 Sxy Sxz a^{2} c1x c1y vy \\sin^{2}{\\left(thx \\right)} \\sin{\\left(thy \\right)} \\sin^{2}{\\left(thz \\right)} \\cos^{2}{\\left(E \\right)} + 2 Sxy Sxz a^{2} c1x c1y vy \\sin^{2}{\\left(thx \\right)} \\sin{\\left(thy \\right)} \\cos^{2}{\\left(E \\right)} \\cos^{2}{\\left(thz \\right)} - 4 Sxy Sxz a^{2} c1x c1y vy \\sin{\\left(thx \\right)} \\sin^{2}{\\left(thy \\right)} \\sin{\\left(thz \\right)} \\cos^{2}{\\left(E \\right)} \\cos{\\left(thx \\right)} \\cos{\\left(thz \\right)} - 4 Sxy Sxz a^{2} c1x c1y vy \\sin{\\left(thx \\right)} \\sin{\\left(thz \\right)} \\cos^{2}{\\left(E \\right)} \\cos{\\left(thx \\right)} \\cos{\\left(thz \\right)} + 2 Sxy Sxz a^{2} c1x c1y vy \\sin{\\left(thy \\right)} \\sin^{2}{\\left(thz \\right)} \\cos^{2}{\\left(E \\right)} \\cos^{2}{\\left(thx \\right)} - 2 Sxy Sxz a^{2} c1x c1y vy \\sin{\\left(thy \\right)} \\cos^{2}{\\left(E \\right)} \\cos^{2}{\\left(thx \\right)} \\cos^{2}{\\left(thz \\right)} + 2 Sxy Sxz a^{2} c1y^{2} vy^{2} \\sin^{2}{\\left(thx \\right)} \\sin{\\left(thy \\right)} \\sin{\\left(thz \\right)} \\cos^{2}{\\left(E \\right)} \\cos{\\left(thz \\right)} - 2 Sxy Sxz a^{2} c1y^{2} vy^{2} \\sin{\\left(thx \\right)} \\sin^{2}{\\left(thy \\right)} \\sin^{2}{\\left(thz \\right)} \\cos^{2}{\\left(E \\right)} \\cos{\\left(thx \\right)} + 2 Sxy Sxz a^{2} c1y^{2} vy^{2} \\sin{\\left(thx \\right)} \\cos^{2}{\\left(E \\right)} \\cos{\\left(thx \\right)} \\cos^{2}{\\left(thz \\right)} - 2 Sxy Sxz a^{2} c1y^{2} vy^{2} \\sin{\\left(thy \\right)} \\sin{\\left(thz \\right)} \\cos^{2}{\\left(E \\right)} \\cos^{2}{\\left(thx \\right)} \\cos{\\left(thz \\right)} - 4 Sxy Sxz a b c1x^{2} vx vz \\sin^{2}{\\left(thx \\right)} \\sin{\\left(thy \\right)} \\sin{\\left(thz \\right)} \\cos^{2}{\\left(E \\right)} \\cos{\\left(thz \\right)} - 4 Sxy Sxz a b c1x^{2} vx vz \\sin{\\left(thx \\right)} \\sin^{2}{\\left(thy \\right)} \\cos^{2}{\\left(E \\right)} \\cos{\\left(thx \\right)} \\cos^{2}{\\left(thz \\right)} + 4 Sxy Sxz a b c1x^{2} vx vz \\sin{\\left(thx \\right)} \\sin^{2}{\\left(thz \\right)} \\cos^{2}{\\left(E \\right)} \\cos{\\left(thx \\right)} + 4 Sxy Sxz a b c1x^{2} vx vz \\sin{\\left(thy \\right)} \\sin{\\left(thz \\right)} \\cos^{2}{\\left(E \\right)} \\cos^{2}{\\left(thx \\right)} \\cos{\\left(thz \\right)} - 2 Sxy Sxz a b c1x c1y vx vy vz \\sin^{2}{\\left(thx \\right)} \\sin{\\left(thy \\right)} \\sin^{2}{\\left(thz \\right)} \\cos^{2}{\\left(E \\right)} + 2 Sxy Sxz a b c1x c1y vx vy vz \\sin^{2}{\\left(thx \\right)} \\sin{\\left(thy \\right)} \\cos^{2}{\\left(E \\right)} \\cos^{2}{\\left(thz \\right)} - 4 Sxy Sxz a b c1x c1y vx vy vz \\sin{\\left(thx \\right)} \\sin^{2}{\\left(thy \\right)} \\sin{\\left(thz \\right)} \\cos^{2}{\\left(E \\right)} \\cos{\\left(thx \\right)} \\cos{\\left(thz \\right)} - 4 Sxy Sxz a b c1x c1y vx vy vz \\sin{\\left(thx \\right)} \\sin{\\left(thz \\right)} \\cos^{2}{\\left(E \\right)} \\cos{\\left(thx \\right)} \\cos{\\left(thz \\right)} + 2 Sxy Sxz a b c1x c1y vx vy vz \\sin{\\left(thy \\right)} \\sin^{2}{\\left(thz \\right)} \\cos^{2}{\\left(E \\right)} \\cos^{2}{\\left(thx \\right)} - 2 Sxy Sxz a b c1x c1y vx vy vz \\sin{\\left(thy \\right)} \\cos^{2}{\\left(E \\right)} \\cos^{2}{\\left(thx \\right)} \\cos^{2}{\\left(thz \\right)} - 2 Sxy Sxz a b c1x c1y \\sin^{2}{\\left(thx \\right)} \\sin{\\left(thy \\right)} \\sin^{2}{\\left(thz \\right)} \\cos^{2}{\\left(E \\right)} + 2 Sxy Sxz a b c1x c1y \\sin^{2}{\\left(thx \\right)} \\sin{\\left(thy \\right)} \\cos^{2}{\\left(E \\right)} \\cos^{2}{\\left(thz \\right)} - 4 Sxy Sxz a b c1x c1y \\sin{\\left(thx \\right)} \\sin^{2}{\\left(thy \\right)} \\sin{\\left(thz \\right)} \\cos^{2}{\\left(E \\right)} \\cos{\\left(thx \\right)} \\cos{\\left(thz \\right)} - 4 Sxy Sxz a b c1x c1y \\sin{\\left(thx \\right)} \\sin{\\left(thz \\right)} \\cos^{2}{\\left(E \\right)} \\cos{\\left(thx \\right)} \\cos{\\left(thz \\right)} + 2 Sxy Sxz a b c1x c1y \\sin{\\left(thy \\right)} \\sin^{2}{\\left(thz \\right)} \\cos^{2}{\\left(E \\right)} \\cos^{2}{\\left(thx \\right)} - 2 Sxy Sxz a b c1x c1y \\sin{\\left(thy \\right)} \\cos^{2}{\\left(E \\right)} \\cos^{2}{\\left(thx \\right)} \\cos^{2}{\\left(thz \\right)} + 2 Sxy Sxz a b c1x vz \\sin^{2}{\\left(thx \\right)} \\sin{\\left(thz \\right)} \\cos^{2}{\\left(E \\right)} \\cos{\\left(thy \\right)} + 4 Sxy Sxz a b c1x vz \\sin{\\left(thx \\right)} \\sin{\\left(thy \\right)} \\cos^{2}{\\left(E \\right)} \\cos{\\left(thx \\right)} \\cos{\\left(thy \\right)} \\cos{\\left(thz \\right)} - 2 Sxy Sxz a b c1x vz \\sin{\\left(thz \\right)} \\cos^{2}{\\left(E \\right)} \\cos^{2}{\\left(thx \\right)} \\cos{\\left(thy \\right)} + 4 Sxy Sxz a b c1y^{2} vy \\sin^{2}{\\left(thx \\right)} \\sin{\\left(thy \\right)} \\sin{\\left(thz \\right)} \\cos^{2}{\\left(E \\right)} \\cos{\\left(thz \\right)} - 4 Sxy Sxz a b c1y^{2} vy \\sin{\\left(thx \\right)} \\sin^{2}{\\left(thy \\right)} \\sin^{2}{\\left(thz \\right)} \\cos^{2}{\\left(E \\right)} \\cos{\\left(thx \\right)} + 4 Sxy Sxz a b c1y^{2} vy \\sin{\\left(thx \\right)} \\cos^{2}{\\left(E \\right)} \\cos{\\left(thx \\right)} \\cos^{2}{\\left(thz \\right)} - 4 Sxy Sxz a b c1y^{2} vy \\sin{\\left(thy \\right)} \\sin{\\left(thz \\right)} \\cos^{2}{\\left(E \\right)} \\cos^{2}{\\left(thx \\right)} \\cos{\\left(thz \\right)} - 2 Sxy Sxz a b c1y vy vz \\sin^{2}{\\left(thx \\right)} \\cos^{2}{\\left(E \\right)} \\cos{\\left(thy \\right)} \\cos{\\left(thz \\right)} + 4 Sxy Sxz a b c1y vy vz \\sin{\\left(thx \\right)} \\sin{\\left(thy \\right)} \\sin{\\left(thz \\right)} \\cos^{2}{\\left(E \\right)} \\cos{\\left(thx \\right)} \\cos{\\left(thy \\right)} + 2 Sxy Sxz a b c1y vy vz \\cos^{2}{\\left(E \\right)} \\cos^{2}{\\left(thx \\right)} \\cos{\\left(thy \\right)} \\cos{\\left(thz \\right)} - 2 Sxy Sxz b^{2} c1x^{2} vx^{2} vz^{2} \\sin^{2}{\\left(thx \\right)} \\sin{\\left(thy \\right)} \\sin{\\left(thz \\right)} \\cos^{2}{\\left(E \\right)} \\cos{\\left(thz \\right)} - 2 Sxy Sxz b^{2} c1x^{2} vx^{2} vz^{2} \\sin{\\left(thx \\right)} \\sin^{2}{\\left(thy \\right)} \\cos^{2}{\\left(E \\right)} \\cos{\\left(thx \\right)} \\cos^{2}{\\left(thz \\right)} + 2 Sxy Sxz b^{2} c1x^{2} vx^{2} vz^{2} \\sin{\\left(thx \\right)} \\sin^{2}{\\left(thz \\right)} \\cos^{2}{\\left(E \\right)} \\cos{\\left(thx \\right)} + 2 Sxy Sxz b^{2} c1x^{2} vx^{2} vz^{2} \\sin{\\left(thy \\right)} \\sin{\\left(thz \\right)} \\cos^{2}{\\left(E \\right)} \\cos^{2}{\\left(thx \\right)} \\cos{\\left(thz \\right)} - 2 Sxy Sxz b^{2} c1x c1y vx vz \\sin^{2}{\\left(thx \\right)} \\sin{\\left(thy \\right)} \\sin^{2}{\\left(thz \\right)} \\cos^{2}{\\left(E \\right)} + 2 Sxy Sxz b^{2} c1x c1y vx vz \\sin^{2}{\\left(thx \\right)} \\sin{\\left(thy \\right)} \\cos^{2}{\\left(E \\right)} \\cos^{2}{\\left(thz \\right)} - 4 Sxy Sxz b^{2} c1x c1y vx vz \\sin{\\left(thx \\right)} \\sin^{2}{\\left(thy \\right)} \\sin{\\left(thz \\right)} \\cos^{2}{\\left(E \\right)} \\cos{\\left(thx \\right)} \\cos{\\left(thz \\right)} - 4 Sxy Sxz b^{2} c1x c1y vx vz \\sin{\\left(thx \\right)} \\sin{\\left(thz \\right)} \\cos^{2}{\\left(E \\right)} \\cos{\\left(thx \\right)} \\cos{\\left(thz \\right)} + 2 Sxy Sxz b^{2} c1x c1y vx vz \\sin{\\left(thy \\right)} \\sin^{2}{\\left(thz \\right)} \\cos^{2}{\\left(E \\right)} \\cos^{2}{\\left(thx \\right)} - 2 Sxy Sxz b^{2} c1x c1y vx vz \\sin{\\left(thy \\right)} \\cos^{2}{\\left(E \\right)} \\cos^{2}{\\left(thx \\right)} \\cos^{2}{\\left(thz \\right)} + 2 Sxy Sxz b^{2} c1x vx vz^{2} \\sin^{2}{\\left(thx \\right)} \\sin{\\left(thz \\right)} \\cos^{2}{\\left(E \\right)} \\cos{\\left(thy \\right)} + 4 Sxy Sxz b^{2} c1x vx vz^{2} \\sin{\\left(thx \\right)} \\sin{\\left(thy \\right)} \\cos^{2}{\\left(E \\right)} \\cos{\\left(thx \\right)} \\cos{\\left(thy \\right)} \\cos{\\left(thz \\right)} - 2 Sxy Sxz b^{2} c1x vx vz^{2} \\sin{\\left(thz \\right)} \\cos^{2}{\\left(E \\right)} \\cos^{2}{\\left(thx \\right)} \\cos{\\left(thy \\right)} + 2 Sxy Sxz b^{2} c1y^{2} \\sin^{2}{\\left(thx \\right)} \\sin{\\left(thy \\right)} \\sin{\\left(thz \\right)} \\cos^{2}{\\left(E \\right)} \\cos{\\left(thz \\right)} - 2 Sxy Sxz b^{2} c1y^{2} \\sin{\\left(thx \\right)} \\sin^{2}{\\left(thy \\right)} \\sin^{2}{\\left(thz \\right)} \\cos^{2}{\\left(E \\right)} \\cos{\\left(thx \\right)} + 2 Sxy Sxz b^{2} c1y^{2} \\sin{\\left(thx \\right)} \\cos^{2}{\\left(E \\right)} \\cos{\\left(thx \\right)} \\cos^{2}{\\left(thz \\right)} - 2 Sxy Sxz b^{2} c1y^{2} \\sin{\\left(thy \\right)} \\sin{\\left(thz \\right)} \\cos^{2}{\\left(E \\right)} \\cos^{2}{\\left(thx \\right)} \\cos{\\left(thz \\right)} - 2 Sxy Sxz b^{2} c1y vz \\sin^{2}{\\left(thx \\right)} \\cos^{2}{\\left(E \\right)} \\cos{\\left(thy \\right)} \\cos{\\left(thz \\right)} + 4 Sxy Sxz b^{2} c1y vz \\sin{\\left(thx \\right)} \\sin{\\left(thy \\right)} \\sin{\\left(thz \\right)} \\cos^{2}{\\left(E \\right)} \\cos{\\left(thx \\right)} \\cos{\\left(thy \\right)} + 2 Sxy Sxz b^{2} c1y vz \\cos^{2}{\\left(E \\right)} \\cos^{2}{\\left(thx \\right)} \\cos{\\left(thy \\right)} \\cos{\\left(thz \\right)} - 2 Sxy Sxz b^{2} vz^{2} \\sin{\\left(thx \\right)} \\cos^{2}{\\left(E \\right)} \\cos{\\left(thx \\right)} \\cos^{2}{\\left(thy \\right)} - 2 Sxy a^{2} c1x^{2} \\sin{\\left(thx \\right)} \\sin{\\left(thy \\right)} \\cos^{2}{\\left(E \\right)} \\cos{\\left(thy \\right)} \\cos^{2}{\\left(thz \\right)} + 2 Sxy a^{2} c1x^{2} \\sin{\\left(thz \\right)} \\cos^{2}{\\left(E \\right)} \\cos{\\left(thx \\right)} \\cos{\\left(thy \\right)} \\cos{\\left(thz \\right)} - 4 Sxy a^{2} c1x c1y vy \\sin{\\left(thx \\right)} \\sin{\\left(thy \\right)} \\sin{\\left(thz \\right)} \\cos^{2}{\\left(E \\right)} \\cos{\\left(thy \\right)} \\cos{\\left(thz \\right)} + 2 Sxy a^{2} c1x c1y vy \\sin^{2}{\\left(thz \\right)} \\cos^{2}{\\left(E \\right)} \\cos{\\left(thx \\right)} \\cos{\\left(thy \\right)} - 2 Sxy a^{2} c1x c1y vy \\cos^{2}{\\left(E \\right)} \\cos{\\left(thx \\right)} \\cos{\\left(thy \\right)} \\cos^{2}{\\left(thz \\right)} - 2 Sxy a^{2} c1y^{2} vy^{2} \\sin{\\left(thx \\right)} \\sin{\\left(thy \\right)} \\sin^{2}{\\left(thz \\right)} \\cos^{2}{\\left(E \\right)} \\cos{\\left(thy \\right)} - 2 Sxy a^{2} c1y^{2} vy^{2} \\sin{\\left(thz \\right)} \\cos^{2}{\\left(E \\right)} \\cos{\\left(thx \\right)} \\cos{\\left(thy \\right)} \\cos{\\left(thz \\right)} - 4 Sxy a b c1x^{2} vx vz \\sin{\\left(thx \\right)} \\sin{\\left(thy \\right)} \\cos^{2}{\\left(E \\right)} \\cos{\\left(thy \\right)} \\cos^{2}{\\left(thz \\right)} + 4 Sxy a b c1x^{2} vx vz \\sin{\\left(thz \\right)} \\cos^{2}{\\left(E \\right)} \\cos{\\left(thx \\right)} \\cos{\\left(thy \\right)} \\cos{\\left(thz \\right)} - 4 Sxy a b c1x c1y vx vy vz \\sin{\\left(thx \\right)} \\sin{\\left(thy \\right)} \\sin{\\left(thz \\right)} \\cos^{2}{\\left(E \\right)} \\cos{\\left(thy \\right)} \\cos{\\left(thz \\right)} + 2 Sxy a b c1x c1y vx vy vz \\sin^{2}{\\left(thz \\right)} \\cos^{2}{\\left(E \\right)} \\cos{\\left(thx \\right)} \\cos{\\left(thy \\right)} - 2 Sxy a b c1x c1y vx vy vz \\cos^{2}{\\left(E \\right)} \\cos{\\left(thx \\right)} \\cos{\\left(thy \\right)} \\cos^{2}{\\left(thz \\right)} - 4 Sxy a b c1x c1y \\sin{\\left(thx \\right)} \\sin{\\left(thy \\right)} \\sin{\\left(thz \\right)} \\cos^{2}{\\left(E \\right)} \\cos{\\left(thy \\right)} \\cos{\\left(thz \\right)} + 2 Sxy a b c1x c1y \\sin^{2}{\\left(thz \\right)} \\cos^{2}{\\left(E \\right)} \\cos{\\left(thx \\right)} \\cos{\\left(thy \\right)} - 2 Sxy a b c1x c1y \\cos^{2}{\\left(E \\right)} \\cos{\\left(thx \\right)} \\cos{\\left(thy \\right)} \\cos^{2}{\\left(thz \\right)} - 2 Sxy a b c1x vz \\sin{\\left(thx \\right)} \\sin^{2}{\\left(thy \\right)} \\cos^{2}{\\left(E \\right)} \\cos{\\left(thz \\right)} + 2 Sxy a b c1x vz \\sin{\\left(thx \\right)} \\cos^{2}{\\left(E \\right)} \\cos^{2}{\\left(thy \\right)} \\cos{\\left(thz \\right)} + 2 Sxy a b c1x vz \\sin{\\left(thy \\right)} \\sin{\\left(thz \\right)} \\cos^{2}{\\left(E \\right)} \\cos{\\left(thx \\right)} - 4 Sxy a b c1y^{2} vy \\sin{\\left(thx \\right)} \\sin{\\left(thy \\right)} \\sin^{2}{\\left(thz \\right)} \\cos^{2}{\\left(E \\right)} \\cos{\\left(thy \\right)} - 4 Sxy a b c1y^{2} vy \\sin{\\left(thz \\right)} \\cos^{2}{\\left(E \\right)} \\cos{\\left(thx \\right)} \\cos{\\left(thy \\right)} \\cos{\\left(thz \\right)} - 2 Sxy a b c1y vy vz \\sin{\\left(thx \\right)} \\sin^{2}{\\left(thy \\right)} \\sin{\\left(thz \\right)} \\cos^{2}{\\left(E \\right)} + 2 Sxy a b c1y vy vz \\sin{\\left(thx \\right)} \\sin{\\left(thz \\right)} \\cos^{2}{\\left(E \\right)} \\cos^{2}{\\left(thy \\right)} - 2 Sxy a b c1y vy vz \\sin{\\left(thy \\right)} \\cos^{2}{\\left(E \\right)} \\cos{\\left(thx \\right)} \\cos{\\left(thz \\right)} - 2 Sxy b^{2} c1x^{2} vx^{2} vz^{2} \\sin{\\left(thx \\right)} \\sin{\\left(thy \\right)} \\cos^{2}{\\left(E \\right)} \\cos{\\left(thy \\right)} \\cos^{2}{\\left(thz \\right)} + 2 Sxy b^{2} c1x^{2} vx^{2} vz^{2} \\sin{\\left(thz \\right)} \\cos^{2}{\\left(E \\right)} \\cos{\\left(thx \\right)} \\cos{\\left(thy \\right)} \\cos{\\left(thz \\right)} - 4 Sxy b^{2} c1x c1y vx vz \\sin{\\left(thx \\right)} \\sin{\\left(thy \\right)} \\sin{\\left(thz \\right)} \\cos^{2}{\\left(E \\right)} \\cos{\\left(thy \\right)} \\cos{\\left(thz \\right)} + 2 Sxy b^{2} c1x c1y vx vz \\sin^{2}{\\left(thz \\right)} \\cos^{2}{\\left(E \\right)} \\cos{\\left(thx \\right)} \\cos{\\left(thy \\right)} - 2 Sxy b^{2} c1x c1y vx vz \\cos^{2}{\\left(E \\right)} \\cos{\\left(thx \\right)} \\cos{\\left(thy \\right)} \\cos^{2}{\\left(thz \\right)} - 2 Sxy b^{2} c1x vx vz^{2} \\sin{\\left(thx \\right)} \\sin^{2}{\\left(thy \\right)} \\cos^{2}{\\left(E \\right)} \\cos{\\left(thz \\right)} + 2 Sxy b^{2} c1x vx vz^{2} \\sin{\\left(thx \\right)} \\cos^{2}{\\left(E \\right)} \\cos^{2}{\\left(thy \\right)} \\cos{\\left(thz \\right)} + 2 Sxy b^{2} c1x vx vz^{2} \\sin{\\left(thy \\right)} \\sin{\\left(thz \\right)} \\cos^{2}{\\left(E \\right)} \\cos{\\left(thx \\right)} - 2 Sxy b^{2} c1y^{2} \\sin{\\left(thx \\right)} \\sin{\\left(thy \\right)} \\sin^{2}{\\left(thz \\right)} \\cos^{2}{\\left(E \\right)} \\cos{\\left(thy \\right)} - 2 Sxy b^{2} c1y^{2} \\sin{\\left(thz \\right)} \\cos^{2}{\\left(E \\right)} \\cos{\\left(thx \\right)} \\cos{\\left(thy \\right)} \\cos{\\left(thz \\right)} - 2 Sxy b^{2} c1y vz \\sin{\\left(thx \\right)} \\sin^{2}{\\left(thy \\right)} \\sin{\\left(thz \\right)} \\cos^{2}{\\left(E \\right)} + 2 Sxy b^{2} c1y vz \\sin{\\left(thx \\right)} \\sin{\\left(thz \\right)} \\cos^{2}{\\left(E \\right)} \\cos^{2}{\\left(thy \\right)} - 2 Sxy b^{2} c1y vz \\sin{\\left(thy \\right)} \\cos^{2}{\\left(E \\right)} \\cos{\\left(thx \\right)} \\cos{\\left(thz \\right)} + 2 Sxy b^{2} vz^{2} \\sin{\\left(thx \\right)} \\sin{\\left(thy \\right)} \\cos^{2}{\\left(E \\right)} \\cos{\\left(thy \\right)} + Sxz^{2} a^{2} c1x^{2} \\sin^{2}{\\left(thx \\right)} \\sin^{2}{\\left(thz \\right)} \\cos^{2}{\\left(E \\right)} + 2 Sxz^{2} a^{2} c1x^{2} \\sin{\\left(thx \\right)} \\sin{\\left(thy \\right)} \\sin{\\left(thz \\right)} \\cos^{2}{\\left(E \\right)} \\cos{\\left(thx \\right)} \\cos{\\left(thz \\right)} + Sxz^{2} a^{2} c1x^{2} \\sin^{2}{\\left(thy \\right)} \\cos^{2}{\\left(E \\right)} \\cos^{2}{\\left(thx \\right)} \\cos^{2}{\\left(thz \\right)} - 2 Sxz^{2} a^{2} c1x c1y vy \\sin^{2}{\\left(thx \\right)} \\sin{\\left(thz \\right)} \\cos^{2}{\\left(E \\right)} \\cos{\\left(thz \\right)} + 2 Sxz^{2} a^{2} c1x c1y vy \\sin{\\left(thx \\right)} \\sin{\\left(thy \\right)} \\sin^{2}{\\left(thz \\right)} \\cos^{2}{\\left(E \\right)} \\cos{\\left(thx \\right)} - 2 Sxz^{2} a^{2} c1x c1y vy \\sin{\\left(thx \\right)} \\sin{\\left(thy \\right)} \\cos^{2}{\\left(E \\right)} \\cos{\\left(thx \\right)} \\cos^{2}{\\left(thz \\right)} + 2 Sxz^{2} a^{2} c1x c1y vy \\sin^{2}{\\left(thy \\right)} \\sin{\\left(thz \\right)} \\cos^{2}{\\left(E \\right)} \\cos^{2}{\\left(thx \\right)} \\cos{\\left(thz \\right)} + Sxz^{2} a^{2} c1y^{2} vy^{2} \\sin^{2}{\\left(thx \\right)} \\cos^{2}{\\left(E \\right)} \\cos^{2}{\\left(thz \\right)} - 2 Sxz^{2} a^{2} c1y^{2} vy^{2} \\sin{\\left(thx \\right)} \\sin{\\left(thy \\right)} \\sin{\\left(thz \\right)} \\cos^{2}{\\left(E \\right)} \\cos{\\left(thx \\right)} \\cos{\\left(thz \\right)} + Sxz^{2} a^{2} c1y^{2} vy^{2} \\sin^{2}{\\left(thy \\right)} \\sin^{2}{\\left(thz \\right)} \\cos^{2}{\\left(E \\right)} \\cos^{2}{\\left(thx \\right)} + 2 Sxz^{2} a b c1x^{2} vx vz \\sin^{2}{\\left(thx \\right)} \\sin^{2}{\\left(thz \\right)} \\cos^{2}{\\left(E \\right)} + 4 Sxz^{2} a b c1x^{2} vx vz \\sin{\\left(thx \\right)} \\sin{\\left(thy \\right)} \\sin{\\left(thz \\right)} \\cos^{2}{\\left(E \\right)} \\cos{\\left(thx \\right)} \\cos{\\left(thz \\right)} + 2 Sxz^{2} a b c1x^{2} vx vz \\sin^{2}{\\left(thy \\right)} \\cos^{2}{\\left(E \\right)} \\cos^{2}{\\left(thx \\right)} \\cos^{2}{\\left(thz \\right)} - 2 Sxz^{2} a b c1x c1y vx vy vz \\sin^{2}{\\left(thx \\right)} \\sin{\\left(thz \\right)} \\cos^{2}{\\left(E \\right)} \\cos{\\left(thz \\right)} + 2 Sxz^{2} a b c1x c1y vx vy vz \\sin{\\left(thx \\right)} \\sin{\\left(thy \\right)} \\sin^{2}{\\left(thz \\right)} \\cos^{2}{\\left(E \\right)} \\cos{\\left(thx \\right)} - 2 Sxz^{2} a b c1x c1y vx vy vz \\sin{\\left(thx \\right)} \\sin{\\left(thy \\right)} \\cos^{2}{\\left(E \\right)} \\cos{\\left(thx \\right)} \\cos^{2}{\\left(thz \\right)} + 2 Sxz^{2} a b c1x c1y vx vy vz \\sin^{2}{\\left(thy \\right)} \\sin{\\left(thz \\right)} \\cos^{2}{\\left(E \\right)} \\cos^{2}{\\left(thx \\right)} \\cos{\\left(thz \\right)} - 2 Sxz^{2} a b c1x c1y \\sin^{2}{\\left(thx \\right)} \\sin{\\left(thz \\right)} \\cos^{2}{\\left(E \\right)} \\cos{\\left(thz \\right)} + 2 Sxz^{2} a b c1x c1y \\sin{\\left(thx \\right)} \\sin{\\left(thy \\right)} \\sin^{2}{\\left(thz \\right)} \\cos^{2}{\\left(E \\right)} \\cos{\\left(thx \\right)} - 2 Sxz^{2} a b c1x c1y \\sin{\\left(thx \\right)} \\sin{\\left(thy \\right)} \\cos^{2}{\\left(E \\right)} \\cos{\\left(thx \\right)} \\cos^{2}{\\left(thz \\right)} + 2 Sxz^{2} a b c1x c1y \\sin^{2}{\\left(thy \\right)} \\sin{\\left(thz \\right)} \\cos^{2}{\\left(E \\right)} \\cos^{2}{\\left(thx \\right)} \\cos{\\left(thz \\right)} - 2 Sxz^{2} a b c1x vz \\sin{\\left(thx \\right)} \\sin{\\left(thz \\right)} \\cos^{2}{\\left(E \\right)} \\cos{\\left(thx \\right)} \\cos{\\left(thy \\right)} - 2 Sxz^{2} a b c1x vz \\sin{\\left(thy \\right)} \\cos^{2}{\\left(E \\right)} \\cos^{2}{\\left(thx \\right)} \\cos{\\left(thy \\right)} \\cos{\\left(thz \\right)} + 2 Sxz^{2} a b c1y^{2} vy \\sin^{2}{\\left(thx \\right)} \\cos^{2}{\\left(E \\right)} \\cos^{2}{\\left(thz \\right)} - 4 Sxz^{2} a b c1y^{2} vy \\sin{\\left(thx \\right)} \\sin{\\left(thy \\right)} \\sin{\\left(thz \\right)} \\cos^{2}{\\left(E \\right)} \\cos{\\left(thx \\right)} \\cos{\\left(thz \\right)} + 2 Sxz^{2} a b c1y^{2} vy \\sin^{2}{\\left(thy \\right)} \\sin^{2}{\\left(thz \\right)} \\cos^{2}{\\left(E \\right)} \\cos^{2}{\\left(thx \\right)} + 2 Sxz^{2} a b c1y vy vz \\sin{\\left(thx \\right)} \\cos^{2}{\\left(E \\right)} \\cos{\\left(thx \\right)} \\cos{\\left(thy \\right)} \\cos{\\left(thz \\right)} - 2 Sxz^{2} a b c1y vy vz \\sin{\\left(thy \\right)} \\sin{\\left(thz \\right)} \\cos^{2}{\\left(E \\right)} \\cos^{2}{\\left(thx \\right)} \\cos{\\left(thy \\right)} + Sxz^{2} b^{2} c1x^{2} vx^{2} vz^{2} \\sin^{2}{\\left(thx \\right)} \\sin^{2}{\\left(thz \\right)} \\cos^{2}{\\left(E \\right)} + 2 Sxz^{2} b^{2} c1x^{2} vx^{2} vz^{2} \\sin{\\left(thx \\right)} \\sin{\\left(thy \\right)} \\sin{\\left(thz \\right)} \\cos^{2}{\\left(E \\right)} \\cos{\\left(thx \\right)} \\cos{\\left(thz \\right)} + Sxz^{2} b^{2} c1x^{2} vx^{2} vz^{2} \\sin^{2}{\\left(thy \\right)} \\cos^{2}{\\left(E \\right)} \\cos^{2}{\\left(thx \\right)} \\cos^{2}{\\left(thz \\right)} - 2 Sxz^{2} b^{2} c1x c1y vx vz \\sin^{2}{\\left(thx \\right)} \\sin{\\left(thz \\right)} \\cos^{2}{\\left(E \\right)} \\cos{\\left(thz \\right)} + 2 Sxz^{2} b^{2} c1x c1y vx vz \\sin{\\left(thx \\right)} \\sin{\\left(thy \\right)} \\sin^{2}{\\left(thz \\right)} \\cos^{2}{\\left(E \\right)} \\cos{\\left(thx \\right)} - 2 Sxz^{2} b^{2} c1x c1y vx vz \\sin{\\left(thx \\right)} \\sin{\\left(thy \\right)} \\cos^{2}{\\left(E \\right)} \\cos{\\left(thx \\right)} \\cos^{2}{\\left(thz \\right)} + 2 Sxz^{2} b^{2} c1x c1y vx vz \\sin^{2}{\\left(thy \\right)} \\sin{\\left(thz \\right)} \\cos^{2}{\\left(E \\right)} \\cos^{2}{\\left(thx \\right)} \\cos{\\left(thz \\right)} - 2 Sxz^{2} b^{2} c1x vx vz^{2} \\sin{\\left(thx \\right)} \\sin{\\left(thz \\right)} \\cos^{2}{\\left(E \\right)} \\cos{\\left(thx \\right)} \\cos{\\left(thy \\right)} - 2 Sxz^{2} b^{2} c1x vx vz^{2} \\sin{\\left(thy \\right)} \\cos^{2}{\\left(E \\right)} \\cos^{2}{\\left(thx \\right)} \\cos{\\left(thy \\right)} \\cos{\\left(thz \\right)} + Sxz^{2} b^{2} c1y^{2} \\sin^{2}{\\left(thx \\right)} \\cos^{2}{\\left(E \\right)} \\cos^{2}{\\left(thz \\right)} - 2 Sxz^{2} b^{2} c1y^{2} \\sin{\\left(thx \\right)} \\sin{\\left(thy \\right)} \\sin{\\left(thz \\right)} \\cos^{2}{\\left(E \\right)} \\cos{\\left(thx \\right)} \\cos{\\left(thz \\right)} + Sxz^{2} b^{2} c1y^{2} \\sin^{2}{\\left(thy \\right)} \\sin^{2}{\\left(thz \\right)} \\cos^{2}{\\left(E \\right)} \\cos^{2}{\\left(thx \\right)} + 2 Sxz^{2} b^{2} c1y vz \\sin{\\left(thx \\right)} \\cos^{2}{\\left(E \\right)} \\cos{\\left(thx \\right)} \\cos{\\left(thy \\right)} \\cos{\\left(thz \\right)} - 2 Sxz^{2} b^{2} c1y vz \\sin{\\left(thy \\right)} \\sin{\\left(thz \\right)} \\cos^{2}{\\left(E \\right)} \\cos^{2}{\\left(thx \\right)} \\cos{\\left(thy \\right)} + Sxz^{2} b^{2} vz^{2} \\cos^{2}{\\left(E \\right)} \\cos^{2}{\\left(thx \\right)} \\cos^{2}{\\left(thy \\right)} + 2 Sxz a^{2} c1x^{2} \\sin{\\left(thx \\right)} \\sin{\\left(thz \\right)} \\cos^{2}{\\left(E \\right)} \\cos{\\left(thy \\right)} \\cos{\\left(thz \\right)} + 2 Sxz a^{2} c1x^{2} \\sin{\\left(thy \\right)} \\cos^{2}{\\left(E \\right)} \\cos{\\left(thx \\right)} \\cos{\\left(thy \\right)} \\cos^{2}{\\left(thz \\right)} + 2 Sxz a^{2} c1x c1y vy \\sin{\\left(thx \\right)} \\sin^{2}{\\left(thz \\right)} \\cos^{2}{\\left(E \\right)} \\cos{\\left(thy \\right)} - 2 Sxz a^{2} c1x c1y vy \\sin{\\left(thx \\right)} \\cos^{2}{\\left(E \\right)} \\cos{\\left(thy \\right)} \\cos^{2}{\\left(thz \\right)} + 4 Sxz a^{2} c1x c1y vy \\sin{\\left(thy \\right)} \\sin{\\left(thz \\right)} \\cos^{2}{\\left(E \\right)} \\cos{\\left(thx \\right)} \\cos{\\left(thy \\right)} \\cos{\\left(thz \\right)} - 2 Sxz a^{2} c1y^{2} vy^{2} \\sin{\\left(thx \\right)} \\sin{\\left(thz \\right)} \\cos^{2}{\\left(E \\right)} \\cos{\\left(thy \\right)} \\cos{\\left(thz \\right)} + 2 Sxz a^{2} c1y^{2} vy^{2} \\sin{\\left(thy \\right)} \\sin^{2}{\\left(thz \\right)} \\cos^{2}{\\left(E \\right)} \\cos{\\left(thx \\right)} \\cos{\\left(thy \\right)} + 4 Sxz a b c1x^{2} vx vz \\sin{\\left(thx \\right)} \\sin{\\left(thz \\right)} \\cos^{2}{\\left(E \\right)} \\cos{\\left(thy \\right)} \\cos{\\left(thz \\right)} + 4 Sxz a b c1x^{2} vx vz \\sin{\\left(thy \\right)} \\cos^{2}{\\left(E \\right)} \\cos{\\left(thx \\right)} \\cos{\\left(thy \\right)} \\cos^{2}{\\left(thz \\right)} + 2 Sxz a b c1x c1y vx vy vz \\sin{\\left(thx \\right)} \\sin^{2}{\\left(thz \\right)} \\cos^{2}{\\left(E \\right)} \\cos{\\left(thy \\right)} - 2 Sxz a b c1x c1y vx vy vz \\sin{\\left(thx \\right)} \\cos^{2}{\\left(E \\right)} \\cos{\\left(thy \\right)} \\cos^{2}{\\left(thz \\right)} + 4 Sxz a b c1x c1y vx vy vz \\sin{\\left(thy \\right)} \\sin{\\left(thz \\right)} \\cos^{2}{\\left(E \\right)} \\cos{\\left(thx \\right)} \\cos{\\left(thy \\right)} \\cos{\\left(thz \\right)} + 2 Sxz a b c1x c1y \\sin{\\left(thx \\right)} \\sin^{2}{\\left(thz \\right)} \\cos^{2}{\\left(E \\right)} \\cos{\\left(thy \\right)} - 2 Sxz a b c1x c1y \\sin{\\left(thx \\right)} \\cos^{2}{\\left(E \\right)} \\cos{\\left(thy \\right)} \\cos^{2}{\\left(thz \\right)} + 4 Sxz a b c1x c1y \\sin{\\left(thy \\right)} \\sin{\\left(thz \\right)} \\cos^{2}{\\left(E \\right)} \\cos{\\left(thx \\right)} \\cos{\\left(thy \\right)} \\cos{\\left(thz \\right)} + 2 Sxz a b c1x vz \\sin{\\left(thx \\right)} \\sin{\\left(thy \\right)} \\sin{\\left(thz \\right)} \\cos^{2}{\\left(E \\right)} + 2 Sxz a b c1x vz \\sin^{2}{\\left(thy \\right)} \\cos^{2}{\\left(E \\right)} \\cos{\\left(thx \\right)} \\cos{\\left(thz \\right)} - 2 Sxz a b c1x vz \\cos^{2}{\\left(E \\right)} \\cos{\\left(thx \\right)} \\cos^{2}{\\left(thy \\right)} \\cos{\\left(thz \\right)} - 4 Sxz a b c1y^{2} vy \\sin{\\left(thx \\right)} \\sin{\\left(thz \\right)} \\cos^{2}{\\left(E \\right)} \\cos{\\left(thy \\right)} \\cos{\\left(thz \\right)} + 4 Sxz a b c1y^{2} vy \\sin{\\left(thy \\right)} \\sin^{2}{\\left(thz \\right)} \\cos^{2}{\\left(E \\right)} \\cos{\\left(thx \\right)} \\cos{\\left(thy \\right)} - 2 Sxz a b c1y vy vz \\sin{\\left(thx \\right)} \\sin{\\left(thy \\right)} \\cos^{2}{\\left(E \\right)} \\cos{\\left(thz \\right)} + 2 Sxz a b c1y vy vz \\sin^{2}{\\left(thy \\right)} \\sin{\\left(thz \\right)} \\cos^{2}{\\left(E \\right)} \\cos{\\left(thx \\right)} - 2 Sxz a b c1y vy vz \\sin{\\left(thz \\right)} \\cos^{2}{\\left(E \\right)} \\cos{\\left(thx \\right)} \\cos^{2}{\\left(thy \\right)} + 2 Sxz b^{2} c1x^{2} vx^{2} vz^{2} \\sin{\\left(thx \\right)} \\sin{\\left(thz \\right)} \\cos^{2}{\\left(E \\right)} \\cos{\\left(thy \\right)} \\cos{\\left(thz \\right)} + 2 Sxz b^{2} c1x^{2} vx^{2} vz^{2} \\sin{\\left(thy \\right)} \\cos^{2}{\\left(E \\right)} \\cos{\\left(thx \\right)} \\cos{\\left(thy \\right)} \\cos^{2}{\\left(thz \\right)} + 2 Sxz b^{2} c1x c1y vx vz \\sin{\\left(thx \\right)} \\sin^{2}{\\left(thz \\right)} \\cos^{2}{\\left(E \\right)} \\cos{\\left(thy \\right)} - 2 Sxz b^{2} c1x c1y vx vz \\sin{\\left(thx \\right)} \\cos^{2}{\\left(E \\right)} \\cos{\\left(thy \\right)} \\cos^{2}{\\left(thz \\right)} + 4 Sxz b^{2} c1x c1y vx vz \\sin{\\left(thy \\right)} \\sin{\\left(thz \\right)} \\cos^{2}{\\left(E \\right)} \\cos{\\left(thx \\right)} \\cos{\\left(thy \\right)} \\cos{\\left(thz \\right)} + 2 Sxz b^{2} c1x vx vz^{2} \\sin{\\left(thx \\right)} \\sin{\\left(thy \\right)} \\sin{\\left(thz \\right)} \\cos^{2}{\\left(E \\right)} + 2 Sxz b^{2} c1x vx vz^{2} \\sin^{2}{\\left(thy \\right)} \\cos^{2}{\\left(E \\right)} \\cos{\\left(thx \\right)} \\cos{\\left(thz \\right)} - 2 Sxz b^{2} c1x vx vz^{2} \\cos^{2}{\\left(E \\right)} \\cos{\\left(thx \\right)} \\cos^{2}{\\left(thy \\right)} \\cos{\\left(thz \\right)} - 2 Sxz b^{2} c1y^{2} \\sin{\\left(thx \\right)} \\sin{\\left(thz \\right)} \\cos^{2}{\\left(E \\right)} \\cos{\\left(thy \\right)} \\cos{\\left(thz \\right)} + 2 Sxz b^{2} c1y^{2} \\sin{\\left(thy \\right)} \\sin^{2}{\\left(thz \\right)} \\cos^{2}{\\left(E \\right)} \\cos{\\left(thx \\right)} \\cos{\\left(thy \\right)} - 2 Sxz b^{2} c1y vz \\sin{\\left(thx \\right)} \\sin{\\left(thy \\right)} \\cos^{2}{\\left(E \\right)} \\cos{\\left(thz \\right)} + 2 Sxz b^{2} c1y vz \\sin^{2}{\\left(thy \\right)} \\sin{\\left(thz \\right)} \\cos^{2}{\\left(E \\right)} \\cos{\\left(thx \\right)} - 2 Sxz b^{2} c1y vz \\sin{\\left(thz \\right)} \\cos^{2}{\\left(E \\right)} \\cos{\\left(thx \\right)} \\cos^{2}{\\left(thy \\right)} - 2 Sxz b^{2} vz^{2} \\sin{\\left(thy \\right)} \\cos^{2}{\\left(E \\right)} \\cos{\\left(thx \\right)} \\cos{\\left(thy \\right)} + a^{2} c1x^{2} \\cos^{2}{\\left(E \\right)} \\cos^{2}{\\left(thy \\right)} \\cos^{2}{\\left(thz \\right)} + 2 a^{2} c1x c1y vy \\sin{\\left(thz \\right)} \\cos^{2}{\\left(E \\right)} \\cos^{2}{\\left(thy \\right)} \\cos{\\left(thz \\right)} + a^{2} c1y^{2} vy^{2} \\sin^{2}{\\left(thz \\right)} \\cos^{2}{\\left(E \\right)} \\cos^{2}{\\left(thy \\right)} + 2 a b c1x^{2} vx vz \\cos^{2}{\\left(E \\right)} \\cos^{2}{\\left(thy \\right)} \\cos^{2}{\\left(thz \\right)} + 2 a b c1x c1y vx vy vz \\sin{\\left(thz \\right)} \\cos^{2}{\\left(E \\right)} \\cos^{2}{\\left(thy \\right)} \\cos{\\left(thz \\right)} + 2 a b c1x c1y \\sin{\\left(thz \\right)} \\cos^{2}{\\left(E \\right)} \\cos^{2}{\\left(thy \\right)} \\cos{\\left(thz \\right)} + 2 a b c1x vz \\sin{\\left(thy \\right)} \\cos^{2}{\\left(E \\right)} \\cos{\\left(thy \\right)} \\cos{\\left(thz \\right)} + 2 a b c1y^{2} vy \\sin^{2}{\\left(thz \\right)} \\cos^{2}{\\left(E \\right)} \\cos^{2}{\\left(thy \\right)} + 2 a b c1y vy vz \\sin{\\left(thy \\right)} \\sin{\\left(thz \\right)} \\cos^{2}{\\left(E \\right)} \\cos{\\left(thy \\right)} + b^{2} c1x^{2} vx^{2} vz^{2} \\cos^{2}{\\left(E \\right)} \\cos^{2}{\\left(thy \\right)} \\cos^{2}{\\left(thz \\right)} + 2 b^{2} c1x c1y vx vz \\sin{\\left(thz \\right)} \\cos^{2}{\\left(E \\right)} \\cos^{2}{\\left(thy \\right)} \\cos{\\left(thz \\right)} + 2 b^{2} c1x vx vz^{2} \\sin{\\left(thy \\right)} \\cos^{2}{\\left(E \\right)} \\cos{\\left(thy \\right)} \\cos{\\left(thz \\right)} + b^{2} c1y^{2} \\sin^{2}{\\left(thz \\right)} \\cos^{2}{\\left(E \\right)} \\cos^{2}{\\left(thy \\right)} + 2 b^{2} c1y vz \\sin{\\left(thy \\right)} \\sin{\\left(thz \\right)} \\cos^{2}{\\left(E \\right)} \\cos{\\left(thy \\right)} + b^{2} vz^{2} \\sin^{2}{\\left(thy \\right)} \\cos^{2}{\\left(E \\right)}$"
      ],
      "text/plain": [
       "Sxy**2*a**2*c1x**2*sin(thx)**2*sin(thy)**2*cos(E)**2*cos(thz)**2 - 2*Sxy**2*a**2*c1x**2*sin(thx)*sin(thy)*sin(thz)*cos(E)**2*cos(thx)*cos(thz) + Sxy**2*a**2*c1x**2*sin(thz)**2*cos(E)**2*cos(thx)**2 + 2*Sxy**2*a**2*c1x*c1y*vy*sin(thx)**2*sin(thy)**2*sin(thz)*cos(E)**2*cos(thz) - 2*Sxy**2*a**2*c1x*c1y*vy*sin(thx)*sin(thy)*sin(thz)**2*cos(E)**2*cos(thx) + 2*Sxy**2*a**2*c1x*c1y*vy*sin(thx)*sin(thy)*cos(E)**2*cos(thx)*cos(thz)**2 - 2*Sxy**2*a**2*c1x*c1y*vy*sin(thz)*cos(E)**2*cos(thx)**2*cos(thz) + Sxy**2*a**2*c1y**2*vy**2*sin(thx)**2*sin(thy)**2*sin(thz)**2*cos(E)**2 + 2*Sxy**2*a**2*c1y**2*vy**2*sin(thx)*sin(thy)*sin(thz)*cos(E)**2*cos(thx)*cos(thz) + Sxy**2*a**2*c1y**2*vy**2*cos(E)**2*cos(thx)**2*cos(thz)**2 + 2*Sxy**2*a*b*c1x**2*vx*vz*sin(thx)**2*sin(thy)**2*cos(E)**2*cos(thz)**2 - 4*Sxy**2*a*b*c1x**2*vx*vz*sin(thx)*sin(thy)*sin(thz)*cos(E)**2*cos(thx)*cos(thz) + 2*Sxy**2*a*b*c1x**2*vx*vz*sin(thz)**2*cos(E)**2*cos(thx)**2 + 2*Sxy**2*a*b*c1x*c1y*vx*vy*vz*sin(thx)**2*sin(thy)**2*sin(thz)*cos(E)**2*cos(thz) - 2*Sxy**2*a*b*c1x*c1y*vx*vy*vz*sin(thx)*sin(thy)*sin(thz)**2*cos(E)**2*cos(thx) + 2*Sxy**2*a*b*c1x*c1y*vx*vy*vz*sin(thx)*sin(thy)*cos(E)**2*cos(thx)*cos(thz)**2 - 2*Sxy**2*a*b*c1x*c1y*vx*vy*vz*sin(thz)*cos(E)**2*cos(thx)**2*cos(thz) + 2*Sxy**2*a*b*c1x*c1y*sin(thx)**2*sin(thy)**2*sin(thz)*cos(E)**2*cos(thz) - 2*Sxy**2*a*b*c1x*c1y*sin(thx)*sin(thy)*sin(thz)**2*cos(E)**2*cos(thx) + 2*Sxy**2*a*b*c1x*c1y*sin(thx)*sin(thy)*cos(E)**2*cos(thx)*cos(thz)**2 - 2*Sxy**2*a*b*c1x*c1y*sin(thz)*cos(E)**2*cos(thx)**2*cos(thz) - 2*Sxy**2*a*b*c1x*vz*sin(thx)**2*sin(thy)*cos(E)**2*cos(thy)*cos(thz) + 2*Sxy**2*a*b*c1x*vz*sin(thx)*sin(thz)*cos(E)**2*cos(thx)*cos(thy) + 2*Sxy**2*a*b*c1y**2*vy*sin(thx)**2*sin(thy)**2*sin(thz)**2*cos(E)**2 + 4*Sxy**2*a*b*c1y**2*vy*sin(thx)*sin(thy)*sin(thz)*cos(E)**2*cos(thx)*cos(thz) + 2*Sxy**2*a*b*c1y**2*vy*cos(E)**2*cos(thx)**2*cos(thz)**2 - 2*Sxy**2*a*b*c1y*vy*vz*sin(thx)**2*sin(thy)*sin(thz)*cos(E)**2*cos(thy) - 2*Sxy**2*a*b*c1y*vy*vz*sin(thx)*cos(E)**2*cos(thx)*cos(thy)*cos(thz) + Sxy**2*b**2*c1x**2*vx**2*vz**2*sin(thx)**2*sin(thy)**2*cos(E)**2*cos(thz)**2 - 2*Sxy**2*b**2*c1x**2*vx**2*vz**2*sin(thx)*sin(thy)*sin(thz)*cos(E)**2*cos(thx)*cos(thz) + Sxy**2*b**2*c1x**2*vx**2*vz**2*sin(thz)**2*cos(E)**2*cos(thx)**2 + 2*Sxy**2*b**2*c1x*c1y*vx*vz*sin(thx)**2*sin(thy)**2*sin(thz)*cos(E)**2*cos(thz) - 2*Sxy**2*b**2*c1x*c1y*vx*vz*sin(thx)*sin(thy)*sin(thz)**2*cos(E)**2*cos(thx) + 2*Sxy**2*b**2*c1x*c1y*vx*vz*sin(thx)*sin(thy)*cos(E)**2*cos(thx)*cos(thz)**2 - 2*Sxy**2*b**2*c1x*c1y*vx*vz*sin(thz)*cos(E)**2*cos(thx)**2*cos(thz) - 2*Sxy**2*b**2*c1x*vx*vz**2*sin(thx)**2*sin(thy)*cos(E)**2*cos(thy)*cos(thz) + 2*Sxy**2*b**2*c1x*vx*vz**2*sin(thx)*sin(thz)*cos(E)**2*cos(thx)*cos(thy) + Sxy**2*b**2*c1y**2*sin(thx)**2*sin(thy)**2*sin(thz)**2*cos(E)**2 + 2*Sxy**2*b**2*c1y**2*sin(thx)*sin(thy)*sin(thz)*cos(E)**2*cos(thx)*cos(thz) + Sxy**2*b**2*c1y**2*cos(E)**2*cos(thx)**2*cos(thz)**2 - 2*Sxy**2*b**2*c1y*vz*sin(thx)**2*sin(thy)*sin(thz)*cos(E)**2*cos(thy) - 2*Sxy**2*b**2*c1y*vz*sin(thx)*cos(E)**2*cos(thx)*cos(thy)*cos(thz) + Sxy**2*b**2*vz**2*sin(thx)**2*cos(E)**2*cos(thy)**2 - 2*Sxy*Sxz*a**2*c1x**2*sin(thx)**2*sin(thy)*sin(thz)*cos(E)**2*cos(thz) - 2*Sxy*Sxz*a**2*c1x**2*sin(thx)*sin(thy)**2*cos(E)**2*cos(thx)*cos(thz)**2 + 2*Sxy*Sxz*a**2*c1x**2*sin(thx)*sin(thz)**2*cos(E)**2*cos(thx) + 2*Sxy*Sxz*a**2*c1x**2*sin(thy)*sin(thz)*cos(E)**2*cos(thx)**2*cos(thz) - 2*Sxy*Sxz*a**2*c1x*c1y*vy*sin(thx)**2*sin(thy)*sin(thz)**2*cos(E)**2 + 2*Sxy*Sxz*a**2*c1x*c1y*vy*sin(thx)**2*sin(thy)*cos(E)**2*cos(thz)**2 - 4*Sxy*Sxz*a**2*c1x*c1y*vy*sin(thx)*sin(thy)**2*sin(thz)*cos(E)**2*cos(thx)*cos(thz) - 4*Sxy*Sxz*a**2*c1x*c1y*vy*sin(thx)*sin(thz)*cos(E)**2*cos(thx)*cos(thz) + 2*Sxy*Sxz*a**2*c1x*c1y*vy*sin(thy)*sin(thz)**2*cos(E)**2*cos(thx)**2 - 2*Sxy*Sxz*a**2*c1x*c1y*vy*sin(thy)*cos(E)**2*cos(thx)**2*cos(thz)**2 + 2*Sxy*Sxz*a**2*c1y**2*vy**2*sin(thx)**2*sin(thy)*sin(thz)*cos(E)**2*cos(thz) - 2*Sxy*Sxz*a**2*c1y**2*vy**2*sin(thx)*sin(thy)**2*sin(thz)**2*cos(E)**2*cos(thx) + 2*Sxy*Sxz*a**2*c1y**2*vy**2*sin(thx)*cos(E)**2*cos(thx)*cos(thz)**2 - 2*Sxy*Sxz*a**2*c1y**2*vy**2*sin(thy)*sin(thz)*cos(E)**2*cos(thx)**2*cos(thz) - 4*Sxy*Sxz*a*b*c1x**2*vx*vz*sin(thx)**2*sin(thy)*sin(thz)*cos(E)**2*cos(thz) - 4*Sxy*Sxz*a*b*c1x**2*vx*vz*sin(thx)*sin(thy)**2*cos(E)**2*cos(thx)*cos(thz)**2 + 4*Sxy*Sxz*a*b*c1x**2*vx*vz*sin(thx)*sin(thz)**2*cos(E)**2*cos(thx) + 4*Sxy*Sxz*a*b*c1x**2*vx*vz*sin(thy)*sin(thz)*cos(E)**2*cos(thx)**2*cos(thz) - 2*Sxy*Sxz*a*b*c1x*c1y*vx*vy*vz*sin(thx)**2*sin(thy)*sin(thz)**2*cos(E)**2 + 2*Sxy*Sxz*a*b*c1x*c1y*vx*vy*vz*sin(thx)**2*sin(thy)*cos(E)**2*cos(thz)**2 - 4*Sxy*Sxz*a*b*c1x*c1y*vx*vy*vz*sin(thx)*sin(thy)**2*sin(thz)*cos(E)**2*cos(thx)*cos(thz) - 4*Sxy*Sxz*a*b*c1x*c1y*vx*vy*vz*sin(thx)*sin(thz)*cos(E)**2*cos(thx)*cos(thz) + 2*Sxy*Sxz*a*b*c1x*c1y*vx*vy*vz*sin(thy)*sin(thz)**2*cos(E)**2*cos(thx)**2 - 2*Sxy*Sxz*a*b*c1x*c1y*vx*vy*vz*sin(thy)*cos(E)**2*cos(thx)**2*cos(thz)**2 - 2*Sxy*Sxz*a*b*c1x*c1y*sin(thx)**2*sin(thy)*sin(thz)**2*cos(E)**2 + 2*Sxy*Sxz*a*b*c1x*c1y*sin(thx)**2*sin(thy)*cos(E)**2*cos(thz)**2 - 4*Sxy*Sxz*a*b*c1x*c1y*sin(thx)*sin(thy)**2*sin(thz)*cos(E)**2*cos(thx)*cos(thz) - 4*Sxy*Sxz*a*b*c1x*c1y*sin(thx)*sin(thz)*cos(E)**2*cos(thx)*cos(thz) + 2*Sxy*Sxz*a*b*c1x*c1y*sin(thy)*sin(thz)**2*cos(E)**2*cos(thx)**2 - 2*Sxy*Sxz*a*b*c1x*c1y*sin(thy)*cos(E)**2*cos(thx)**2*cos(thz)**2 + 2*Sxy*Sxz*a*b*c1x*vz*sin(thx)**2*sin(thz)*cos(E)**2*cos(thy) + 4*Sxy*Sxz*a*b*c1x*vz*sin(thx)*sin(thy)*cos(E)**2*cos(thx)*cos(thy)*cos(thz) - 2*Sxy*Sxz*a*b*c1x*vz*sin(thz)*cos(E)**2*cos(thx)**2*cos(thy) + 4*Sxy*Sxz*a*b*c1y**2*vy*sin(thx)**2*sin(thy)*sin(thz)*cos(E)**2*cos(thz) - 4*Sxy*Sxz*a*b*c1y**2*vy*sin(thx)*sin(thy)**2*sin(thz)**2*cos(E)**2*cos(thx) + 4*Sxy*Sxz*a*b*c1y**2*vy*sin(thx)*cos(E)**2*cos(thx)*cos(thz)**2 - 4*Sxy*Sxz*a*b*c1y**2*vy*sin(thy)*sin(thz)*cos(E)**2*cos(thx)**2*cos(thz) - 2*Sxy*Sxz*a*b*c1y*vy*vz*sin(thx)**2*cos(E)**2*cos(thy)*cos(thz) + 4*Sxy*Sxz*a*b*c1y*vy*vz*sin(thx)*sin(thy)*sin(thz)*cos(E)**2*cos(thx)*cos(thy) + 2*Sxy*Sxz*a*b*c1y*vy*vz*cos(E)**2*cos(thx)**2*cos(thy)*cos(thz) - 2*Sxy*Sxz*b**2*c1x**2*vx**2*vz**2*sin(thx)**2*sin(thy)*sin(thz)*cos(E)**2*cos(thz) - 2*Sxy*Sxz*b**2*c1x**2*vx**2*vz**2*sin(thx)*sin(thy)**2*cos(E)**2*cos(thx)*cos(thz)**2 + 2*Sxy*Sxz*b**2*c1x**2*vx**2*vz**2*sin(thx)*sin(thz)**2*cos(E)**2*cos(thx) + 2*Sxy*Sxz*b**2*c1x**2*vx**2*vz**2*sin(thy)*sin(thz)*cos(E)**2*cos(thx)**2*cos(thz) - 2*Sxy*Sxz*b**2*c1x*c1y*vx*vz*sin(thx)**2*sin(thy)*sin(thz)**2*cos(E)**2 + 2*Sxy*Sxz*b**2*c1x*c1y*vx*vz*sin(thx)**2*sin(thy)*cos(E)**2*cos(thz)**2 - 4*Sxy*Sxz*b**2*c1x*c1y*vx*vz*sin(thx)*sin(thy)**2*sin(thz)*cos(E)**2*cos(thx)*cos(thz) - 4*Sxy*Sxz*b**2*c1x*c1y*vx*vz*sin(thx)*sin(thz)*cos(E)**2*cos(thx)*cos(thz) + 2*Sxy*Sxz*b**2*c1x*c1y*vx*vz*sin(thy)*sin(thz)**2*cos(E)**2*cos(thx)**2 - 2*Sxy*Sxz*b**2*c1x*c1y*vx*vz*sin(thy)*cos(E)**2*cos(thx)**2*cos(thz)**2 + 2*Sxy*Sxz*b**2*c1x*vx*vz**2*sin(thx)**2*sin(thz)*cos(E)**2*cos(thy) + 4*Sxy*Sxz*b**2*c1x*vx*vz**2*sin(thx)*sin(thy)*cos(E)**2*cos(thx)*cos(thy)*cos(thz) - 2*Sxy*Sxz*b**2*c1x*vx*vz**2*sin(thz)*cos(E)**2*cos(thx)**2*cos(thy) + 2*Sxy*Sxz*b**2*c1y**2*sin(thx)**2*sin(thy)*sin(thz)*cos(E)**2*cos(thz) - 2*Sxy*Sxz*b**2*c1y**2*sin(thx)*sin(thy)**2*sin(thz)**2*cos(E)**2*cos(thx) + 2*Sxy*Sxz*b**2*c1y**2*sin(thx)*cos(E)**2*cos(thx)*cos(thz)**2 - 2*Sxy*Sxz*b**2*c1y**2*sin(thy)*sin(thz)*cos(E)**2*cos(thx)**2*cos(thz) - 2*Sxy*Sxz*b**2*c1y*vz*sin(thx)**2*cos(E)**2*cos(thy)*cos(thz) + 4*Sxy*Sxz*b**2*c1y*vz*sin(thx)*sin(thy)*sin(thz)*cos(E)**2*cos(thx)*cos(thy) + 2*Sxy*Sxz*b**2*c1y*vz*cos(E)**2*cos(thx)**2*cos(thy)*cos(thz) - 2*Sxy*Sxz*b**2*vz**2*sin(thx)*cos(E)**2*cos(thx)*cos(thy)**2 - 2*Sxy*a**2*c1x**2*sin(thx)*sin(thy)*cos(E)**2*cos(thy)*cos(thz)**2 + 2*Sxy*a**2*c1x**2*sin(thz)*cos(E)**2*cos(thx)*cos(thy)*cos(thz) - 4*Sxy*a**2*c1x*c1y*vy*sin(thx)*sin(thy)*sin(thz)*cos(E)**2*cos(thy)*cos(thz) + 2*Sxy*a**2*c1x*c1y*vy*sin(thz)**2*cos(E)**2*cos(thx)*cos(thy) - 2*Sxy*a**2*c1x*c1y*vy*cos(E)**2*cos(thx)*cos(thy)*cos(thz)**2 - 2*Sxy*a**2*c1y**2*vy**2*sin(thx)*sin(thy)*sin(thz)**2*cos(E)**2*cos(thy) - 2*Sxy*a**2*c1y**2*vy**2*sin(thz)*cos(E)**2*cos(thx)*cos(thy)*cos(thz) - 4*Sxy*a*b*c1x**2*vx*vz*sin(thx)*sin(thy)*cos(E)**2*cos(thy)*cos(thz)**2 + 4*Sxy*a*b*c1x**2*vx*vz*sin(thz)*cos(E)**2*cos(thx)*cos(thy)*cos(thz) - 4*Sxy*a*b*c1x*c1y*vx*vy*vz*sin(thx)*sin(thy)*sin(thz)*cos(E)**2*cos(thy)*cos(thz) + 2*Sxy*a*b*c1x*c1y*vx*vy*vz*sin(thz)**2*cos(E)**2*cos(thx)*cos(thy) - 2*Sxy*a*b*c1x*c1y*vx*vy*vz*cos(E)**2*cos(thx)*cos(thy)*cos(thz)**2 - 4*Sxy*a*b*c1x*c1y*sin(thx)*sin(thy)*sin(thz)*cos(E)**2*cos(thy)*cos(thz) + 2*Sxy*a*b*c1x*c1y*sin(thz)**2*cos(E)**2*cos(thx)*cos(thy) - 2*Sxy*a*b*c1x*c1y*cos(E)**2*cos(thx)*cos(thy)*cos(thz)**2 - 2*Sxy*a*b*c1x*vz*sin(thx)*sin(thy)**2*cos(E)**2*cos(thz) + 2*Sxy*a*b*c1x*vz*sin(thx)*cos(E)**2*cos(thy)**2*cos(thz) + 2*Sxy*a*b*c1x*vz*sin(thy)*sin(thz)*cos(E)**2*cos(thx) - 4*Sxy*a*b*c1y**2*vy*sin(thx)*sin(thy)*sin(thz)**2*cos(E)**2*cos(thy) - 4*Sxy*a*b*c1y**2*vy*sin(thz)*cos(E)**2*cos(thx)*cos(thy)*cos(thz) - 2*Sxy*a*b*c1y*vy*vz*sin(thx)*sin(thy)**2*sin(thz)*cos(E)**2 + 2*Sxy*a*b*c1y*vy*vz*sin(thx)*sin(thz)*cos(E)**2*cos(thy)**2 - 2*Sxy*a*b*c1y*vy*vz*sin(thy)*cos(E)**2*cos(thx)*cos(thz) - 2*Sxy*b**2*c1x**2*vx**2*vz**2*sin(thx)*sin(thy)*cos(E)**2*cos(thy)*cos(thz)**2 + 2*Sxy*b**2*c1x**2*vx**2*vz**2*sin(thz)*cos(E)**2*cos(thx)*cos(thy)*cos(thz) - 4*Sxy*b**2*c1x*c1y*vx*vz*sin(thx)*sin(thy)*sin(thz)*cos(E)**2*cos(thy)*cos(thz) + 2*Sxy*b**2*c1x*c1y*vx*vz*sin(thz)**2*cos(E)**2*cos(thx)*cos(thy) - 2*Sxy*b**2*c1x*c1y*vx*vz*cos(E)**2*cos(thx)*cos(thy)*cos(thz)**2 - 2*Sxy*b**2*c1x*vx*vz**2*sin(thx)*sin(thy)**2*cos(E)**2*cos(thz) + 2*Sxy*b**2*c1x*vx*vz**2*sin(thx)*cos(E)**2*cos(thy)**2*cos(thz) + 2*Sxy*b**2*c1x*vx*vz**2*sin(thy)*sin(thz)*cos(E)**2*cos(thx) - 2*Sxy*b**2*c1y**2*sin(thx)*sin(thy)*sin(thz)**2*cos(E)**2*cos(thy) - 2*Sxy*b**2*c1y**2*sin(thz)*cos(E)**2*cos(thx)*cos(thy)*cos(thz) - 2*Sxy*b**2*c1y*vz*sin(thx)*sin(thy)**2*sin(thz)*cos(E)**2 + 2*Sxy*b**2*c1y*vz*sin(thx)*sin(thz)*cos(E)**2*cos(thy)**2 - 2*Sxy*b**2*c1y*vz*sin(thy)*cos(E)**2*cos(thx)*cos(thz) + 2*Sxy*b**2*vz**2*sin(thx)*sin(thy)*cos(E)**2*cos(thy) + Sxz**2*a**2*c1x**2*sin(thx)**2*sin(thz)**2*cos(E)**2 + 2*Sxz**2*a**2*c1x**2*sin(thx)*sin(thy)*sin(thz)*cos(E)**2*cos(thx)*cos(thz) + Sxz**2*a**2*c1x**2*sin(thy)**2*cos(E)**2*cos(thx)**2*cos(thz)**2 - 2*Sxz**2*a**2*c1x*c1y*vy*sin(thx)**2*sin(thz)*cos(E)**2*cos(thz) + 2*Sxz**2*a**2*c1x*c1y*vy*sin(thx)*sin(thy)*sin(thz)**2*cos(E)**2*cos(thx) - 2*Sxz**2*a**2*c1x*c1y*vy*sin(thx)*sin(thy)*cos(E)**2*cos(thx)*cos(thz)**2 + 2*Sxz**2*a**2*c1x*c1y*vy*sin(thy)**2*sin(thz)*cos(E)**2*cos(thx)**2*cos(thz) + Sxz**2*a**2*c1y**2*vy**2*sin(thx)**2*cos(E)**2*cos(thz)**2 - 2*Sxz**2*a**2*c1y**2*vy**2*sin(thx)*sin(thy)*sin(thz)*cos(E)**2*cos(thx)*cos(thz) + Sxz**2*a**2*c1y**2*vy**2*sin(thy)**2*sin(thz)**2*cos(E)**2*cos(thx)**2 + 2*Sxz**2*a*b*c1x**2*vx*vz*sin(thx)**2*sin(thz)**2*cos(E)**2 + 4*Sxz**2*a*b*c1x**2*vx*vz*sin(thx)*sin(thy)*sin(thz)*cos(E)**2*cos(thx)*cos(thz) + 2*Sxz**2*a*b*c1x**2*vx*vz*sin(thy)**2*cos(E)**2*cos(thx)**2*cos(thz)**2 - 2*Sxz**2*a*b*c1x*c1y*vx*vy*vz*sin(thx)**2*sin(thz)*cos(E)**2*cos(thz) + 2*Sxz**2*a*b*c1x*c1y*vx*vy*vz*sin(thx)*sin(thy)*sin(thz)**2*cos(E)**2*cos(thx) - 2*Sxz**2*a*b*c1x*c1y*vx*vy*vz*sin(thx)*sin(thy)*cos(E)**2*cos(thx)*cos(thz)**2 + 2*Sxz**2*a*b*c1x*c1y*vx*vy*vz*sin(thy)**2*sin(thz)*cos(E)**2*cos(thx)**2*cos(thz) - 2*Sxz**2*a*b*c1x*c1y*sin(thx)**2*sin(thz)*cos(E)**2*cos(thz) + 2*Sxz**2*a*b*c1x*c1y*sin(thx)*sin(thy)*sin(thz)**2*cos(E)**2*cos(thx) - 2*Sxz**2*a*b*c1x*c1y*sin(thx)*sin(thy)*cos(E)**2*cos(thx)*cos(thz)**2 + 2*Sxz**2*a*b*c1x*c1y*sin(thy)**2*sin(thz)*cos(E)**2*cos(thx)**2*cos(thz) - 2*Sxz**2*a*b*c1x*vz*sin(thx)*sin(thz)*cos(E)**2*cos(thx)*cos(thy) - 2*Sxz**2*a*b*c1x*vz*sin(thy)*cos(E)**2*cos(thx)**2*cos(thy)*cos(thz) + 2*Sxz**2*a*b*c1y**2*vy*sin(thx)**2*cos(E)**2*cos(thz)**2 - 4*Sxz**2*a*b*c1y**2*vy*sin(thx)*sin(thy)*sin(thz)*cos(E)**2*cos(thx)*cos(thz) + 2*Sxz**2*a*b*c1y**2*vy*sin(thy)**2*sin(thz)**2*cos(E)**2*cos(thx)**2 + 2*Sxz**2*a*b*c1y*vy*vz*sin(thx)*cos(E)**2*cos(thx)*cos(thy)*cos(thz) - 2*Sxz**2*a*b*c1y*vy*vz*sin(thy)*sin(thz)*cos(E)**2*cos(thx)**2*cos(thy) + Sxz**2*b**2*c1x**2*vx**2*vz**2*sin(thx)**2*sin(thz)**2*cos(E)**2 + 2*Sxz**2*b**2*c1x**2*vx**2*vz**2*sin(thx)*sin(thy)*sin(thz)*cos(E)**2*cos(thx)*cos(thz) + Sxz**2*b**2*c1x**2*vx**2*vz**2*sin(thy)**2*cos(E)**2*cos(thx)**2*cos(thz)**2 - 2*Sxz**2*b**2*c1x*c1y*vx*vz*sin(thx)**2*sin(thz)*cos(E)**2*cos(thz) + 2*Sxz**2*b**2*c1x*c1y*vx*vz*sin(thx)*sin(thy)*sin(thz)**2*cos(E)**2*cos(thx) - 2*Sxz**2*b**2*c1x*c1y*vx*vz*sin(thx)*sin(thy)*cos(E)**2*cos(thx)*cos(thz)**2 + 2*Sxz**2*b**2*c1x*c1y*vx*vz*sin(thy)**2*sin(thz)*cos(E)**2*cos(thx)**2*cos(thz) - 2*Sxz**2*b**2*c1x*vx*vz**2*sin(thx)*sin(thz)*cos(E)**2*cos(thx)*cos(thy) - 2*Sxz**2*b**2*c1x*vx*vz**2*sin(thy)*cos(E)**2*cos(thx)**2*cos(thy)*cos(thz) + Sxz**2*b**2*c1y**2*sin(thx)**2*cos(E)**2*cos(thz)**2 - 2*Sxz**2*b**2*c1y**2*sin(thx)*sin(thy)*sin(thz)*cos(E)**2*cos(thx)*cos(thz) + Sxz**2*b**2*c1y**2*sin(thy)**2*sin(thz)**2*cos(E)**2*cos(thx)**2 + 2*Sxz**2*b**2*c1y*vz*sin(thx)*cos(E)**2*cos(thx)*cos(thy)*cos(thz) - 2*Sxz**2*b**2*c1y*vz*sin(thy)*sin(thz)*cos(E)**2*cos(thx)**2*cos(thy) + Sxz**2*b**2*vz**2*cos(E)**2*cos(thx)**2*cos(thy)**2 + 2*Sxz*a**2*c1x**2*sin(thx)*sin(thz)*cos(E)**2*cos(thy)*cos(thz) + 2*Sxz*a**2*c1x**2*sin(thy)*cos(E)**2*cos(thx)*cos(thy)*cos(thz)**2 + 2*Sxz*a**2*c1x*c1y*vy*sin(thx)*sin(thz)**2*cos(E)**2*cos(thy) - 2*Sxz*a**2*c1x*c1y*vy*sin(thx)*cos(E)**2*cos(thy)*cos(thz)**2 + 4*Sxz*a**2*c1x*c1y*vy*sin(thy)*sin(thz)*cos(E)**2*cos(thx)*cos(thy)*cos(thz) - 2*Sxz*a**2*c1y**2*vy**2*sin(thx)*sin(thz)*cos(E)**2*cos(thy)*cos(thz) + 2*Sxz*a**2*c1y**2*vy**2*sin(thy)*sin(thz)**2*cos(E)**2*cos(thx)*cos(thy) + 4*Sxz*a*b*c1x**2*vx*vz*sin(thx)*sin(thz)*cos(E)**2*cos(thy)*cos(thz) + 4*Sxz*a*b*c1x**2*vx*vz*sin(thy)*cos(E)**2*cos(thx)*cos(thy)*cos(thz)**2 + 2*Sxz*a*b*c1x*c1y*vx*vy*vz*sin(thx)*sin(thz)**2*cos(E)**2*cos(thy) - 2*Sxz*a*b*c1x*c1y*vx*vy*vz*sin(thx)*cos(E)**2*cos(thy)*cos(thz)**2 + 4*Sxz*a*b*c1x*c1y*vx*vy*vz*sin(thy)*sin(thz)*cos(E)**2*cos(thx)*cos(thy)*cos(thz) + 2*Sxz*a*b*c1x*c1y*sin(thx)*sin(thz)**2*cos(E)**2*cos(thy) - 2*Sxz*a*b*c1x*c1y*sin(thx)*cos(E)**2*cos(thy)*cos(thz)**2 + 4*Sxz*a*b*c1x*c1y*sin(thy)*sin(thz)*cos(E)**2*cos(thx)*cos(thy)*cos(thz) + 2*Sxz*a*b*c1x*vz*sin(thx)*sin(thy)*sin(thz)*cos(E)**2 + 2*Sxz*a*b*c1x*vz*sin(thy)**2*cos(E)**2*cos(thx)*cos(thz) - 2*Sxz*a*b*c1x*vz*cos(E)**2*cos(thx)*cos(thy)**2*cos(thz) - 4*Sxz*a*b*c1y**2*vy*sin(thx)*sin(thz)*cos(E)**2*cos(thy)*cos(thz) + 4*Sxz*a*b*c1y**2*vy*sin(thy)*sin(thz)**2*cos(E)**2*cos(thx)*cos(thy) - 2*Sxz*a*b*c1y*vy*vz*sin(thx)*sin(thy)*cos(E)**2*cos(thz) + 2*Sxz*a*b*c1y*vy*vz*sin(thy)**2*sin(thz)*cos(E)**2*cos(thx) - 2*Sxz*a*b*c1y*vy*vz*sin(thz)*cos(E)**2*cos(thx)*cos(thy)**2 + 2*Sxz*b**2*c1x**2*vx**2*vz**2*sin(thx)*sin(thz)*cos(E)**2*cos(thy)*cos(thz) + 2*Sxz*b**2*c1x**2*vx**2*vz**2*sin(thy)*cos(E)**2*cos(thx)*cos(thy)*cos(thz)**2 + 2*Sxz*b**2*c1x*c1y*vx*vz*sin(thx)*sin(thz)**2*cos(E)**2*cos(thy) - 2*Sxz*b**2*c1x*c1y*vx*vz*sin(thx)*cos(E)**2*cos(thy)*cos(thz)**2 + 4*Sxz*b**2*c1x*c1y*vx*vz*sin(thy)*sin(thz)*cos(E)**2*cos(thx)*cos(thy)*cos(thz) + 2*Sxz*b**2*c1x*vx*vz**2*sin(thx)*sin(thy)*sin(thz)*cos(E)**2 + 2*Sxz*b**2*c1x*vx*vz**2*sin(thy)**2*cos(E)**2*cos(thx)*cos(thz) - 2*Sxz*b**2*c1x*vx*vz**2*cos(E)**2*cos(thx)*cos(thy)**2*cos(thz) - 2*Sxz*b**2*c1y**2*sin(thx)*sin(thz)*cos(E)**2*cos(thy)*cos(thz) + 2*Sxz*b**2*c1y**2*sin(thy)*sin(thz)**2*cos(E)**2*cos(thx)*cos(thy) - 2*Sxz*b**2*c1y*vz*sin(thx)*sin(thy)*cos(E)**2*cos(thz) + 2*Sxz*b**2*c1y*vz*sin(thy)**2*sin(thz)*cos(E)**2*cos(thx) - 2*Sxz*b**2*c1y*vz*sin(thz)*cos(E)**2*cos(thx)*cos(thy)**2 - 2*Sxz*b**2*vz**2*sin(thy)*cos(E)**2*cos(thx)*cos(thy) + a**2*c1x**2*cos(E)**2*cos(thy)**2*cos(thz)**2 + 2*a**2*c1x*c1y*vy*sin(thz)*cos(E)**2*cos(thy)**2*cos(thz) + a**2*c1y**2*vy**2*sin(thz)**2*cos(E)**2*cos(thy)**2 + 2*a*b*c1x**2*vx*vz*cos(E)**2*cos(thy)**2*cos(thz)**2 + 2*a*b*c1x*c1y*vx*vy*vz*sin(thz)*cos(E)**2*cos(thy)**2*cos(thz) + 2*a*b*c1x*c1y*sin(thz)*cos(E)**2*cos(thy)**2*cos(thz) + 2*a*b*c1x*vz*sin(thy)*cos(E)**2*cos(thy)*cos(thz) + 2*a*b*c1y**2*vy*sin(thz)**2*cos(E)**2*cos(thy)**2 + 2*a*b*c1y*vy*vz*sin(thy)*sin(thz)*cos(E)**2*cos(thy) + b**2*c1x**2*vx**2*vz**2*cos(E)**2*cos(thy)**2*cos(thz)**2 + 2*b**2*c1x*c1y*vx*vz*sin(thz)*cos(E)**2*cos(thy)**2*cos(thz) + 2*b**2*c1x*vx*vz**2*sin(thy)*cos(E)**2*cos(thy)*cos(thz) + b**2*c1y**2*sin(thz)**2*cos(E)**2*cos(thy)**2 + 2*b**2*c1y*vz*sin(thy)*sin(thz)*cos(E)**2*cos(thy) + b**2*vz**2*sin(thy)**2*cos(E)**2"
      ]
     },
     "execution_count": 61,
     "metadata": {},
     "output_type": "execute_result"
    }
   ],
   "source": [
    "sp.expand(out[0]**2) #/a**2 + out[1]**2/b**2)"
   ]
  },
  {
   "cell_type": "code",
   "execution_count": 62,
   "metadata": {},
   "outputs": [
    {
     "data": {
      "text/plain": [
       "[Sxy**2*a**2*c1x**2*sin(thx)**2*sin(thy)**2*cos(thz)**2 - 2*Sxy**2*a**2*c1x**2*sin(thx)*sin(thy)*sin(thz)*cos(thx)*cos(thz) + Sxy**2*a**2*c1x**2*sin(thz)**2*cos(thx)**2 + 2*Sxy**2*a**2*c1x*c1y*vy*sin(thx)**2*sin(thy)**2*sin(thz)*cos(thz) - 2*Sxy**2*a**2*c1x*c1y*vy*sin(thx)*sin(thy)*sin(thz)**2*cos(thx) + 2*Sxy**2*a**2*c1x*c1y*vy*sin(thx)*sin(thy)*cos(thx)*cos(thz)**2 - 2*Sxy**2*a**2*c1x*c1y*vy*sin(thz)*cos(thx)**2*cos(thz) + Sxy**2*a**2*c1y**2*vy**2*sin(thx)**2*sin(thy)**2*sin(thz)**2 + 2*Sxy**2*a**2*c1y**2*vy**2*sin(thx)*sin(thy)*sin(thz)*cos(thx)*cos(thz) + Sxy**2*a**2*c1y**2*vy**2*cos(thx)**2*cos(thz)**2 + 2*Sxy**2*a*b*c1x**2*vx*vz*sin(thx)**2*sin(thy)**2*cos(thz)**2 - 4*Sxy**2*a*b*c1x**2*vx*vz*sin(thx)*sin(thy)*sin(thz)*cos(thx)*cos(thz) + 2*Sxy**2*a*b*c1x**2*vx*vz*sin(thz)**2*cos(thx)**2 + 2*Sxy**2*a*b*c1x*c1y*vx*vy*vz*sin(thx)**2*sin(thy)**2*sin(thz)*cos(thz) - 2*Sxy**2*a*b*c1x*c1y*vx*vy*vz*sin(thx)*sin(thy)*sin(thz)**2*cos(thx) + 2*Sxy**2*a*b*c1x*c1y*vx*vy*vz*sin(thx)*sin(thy)*cos(thx)*cos(thz)**2 - 2*Sxy**2*a*b*c1x*c1y*vx*vy*vz*sin(thz)*cos(thx)**2*cos(thz) + 2*Sxy**2*a*b*c1x*c1y*sin(thx)**2*sin(thy)**2*sin(thz)*cos(thz) - 2*Sxy**2*a*b*c1x*c1y*sin(thx)*sin(thy)*sin(thz)**2*cos(thx) + 2*Sxy**2*a*b*c1x*c1y*sin(thx)*sin(thy)*cos(thx)*cos(thz)**2 - 2*Sxy**2*a*b*c1x*c1y*sin(thz)*cos(thx)**2*cos(thz) - 2*Sxy**2*a*b*c1x*vz*sin(thx)**2*sin(thy)*cos(thy)*cos(thz) + 2*Sxy**2*a*b*c1x*vz*sin(thx)*sin(thz)*cos(thx)*cos(thy) + 2*Sxy**2*a*b*c1y**2*vy*sin(thx)**2*sin(thy)**2*sin(thz)**2 + 4*Sxy**2*a*b*c1y**2*vy*sin(thx)*sin(thy)*sin(thz)*cos(thx)*cos(thz) + 2*Sxy**2*a*b*c1y**2*vy*cos(thx)**2*cos(thz)**2 - 2*Sxy**2*a*b*c1y*vy*vz*sin(thx)**2*sin(thy)*sin(thz)*cos(thy) - 2*Sxy**2*a*b*c1y*vy*vz*sin(thx)*cos(thx)*cos(thy)*cos(thz) + Sxy**2*b**2*c1x**2*vx**2*vz**2*sin(thx)**2*sin(thy)**2*cos(thz)**2 - 2*Sxy**2*b**2*c1x**2*vx**2*vz**2*sin(thx)*sin(thy)*sin(thz)*cos(thx)*cos(thz) + Sxy**2*b**2*c1x**2*vx**2*vz**2*sin(thz)**2*cos(thx)**2 + 2*Sxy**2*b**2*c1x*c1y*vx*vz*sin(thx)**2*sin(thy)**2*sin(thz)*cos(thz) - 2*Sxy**2*b**2*c1x*c1y*vx*vz*sin(thx)*sin(thy)*sin(thz)**2*cos(thx) + 2*Sxy**2*b**2*c1x*c1y*vx*vz*sin(thx)*sin(thy)*cos(thx)*cos(thz)**2 - 2*Sxy**2*b**2*c1x*c1y*vx*vz*sin(thz)*cos(thx)**2*cos(thz) - 2*Sxy**2*b**2*c1x*vx*vz**2*sin(thx)**2*sin(thy)*cos(thy)*cos(thz) + 2*Sxy**2*b**2*c1x*vx*vz**2*sin(thx)*sin(thz)*cos(thx)*cos(thy) + Sxy**2*b**2*c1y**2*sin(thx)**2*sin(thy)**2*sin(thz)**2 + 2*Sxy**2*b**2*c1y**2*sin(thx)*sin(thy)*sin(thz)*cos(thx)*cos(thz) + Sxy**2*b**2*c1y**2*cos(thx)**2*cos(thz)**2 - 2*Sxy**2*b**2*c1y*vz*sin(thx)**2*sin(thy)*sin(thz)*cos(thy) - 2*Sxy**2*b**2*c1y*vz*sin(thx)*cos(thx)*cos(thy)*cos(thz) + Sxy**2*b**2*vz**2*sin(thx)**2*cos(thy)**2 - 2*Sxy*Sxz*a**2*c1x**2*sin(thx)**2*sin(thy)*sin(thz)*cos(thz) - 2*Sxy*Sxz*a**2*c1x**2*sin(thx)*sin(thy)**2*cos(thx)*cos(thz)**2 + 2*Sxy*Sxz*a**2*c1x**2*sin(thx)*sin(thz)**2*cos(thx) + 2*Sxy*Sxz*a**2*c1x**2*sin(thy)*sin(thz)*cos(thx)**2*cos(thz) - 2*Sxy*Sxz*a**2*c1x*c1y*vy*sin(thx)**2*sin(thy)*sin(thz)**2 + 2*Sxy*Sxz*a**2*c1x*c1y*vy*sin(thx)**2*sin(thy)*cos(thz)**2 - 4*Sxy*Sxz*a**2*c1x*c1y*vy*sin(thx)*sin(thy)**2*sin(thz)*cos(thx)*cos(thz) - 4*Sxy*Sxz*a**2*c1x*c1y*vy*sin(thx)*sin(thz)*cos(thx)*cos(thz) + 2*Sxy*Sxz*a**2*c1x*c1y*vy*sin(thy)*sin(thz)**2*cos(thx)**2 - 2*Sxy*Sxz*a**2*c1x*c1y*vy*sin(thy)*cos(thx)**2*cos(thz)**2 + 2*Sxy*Sxz*a**2*c1y**2*vy**2*sin(thx)**2*sin(thy)*sin(thz)*cos(thz) - 2*Sxy*Sxz*a**2*c1y**2*vy**2*sin(thx)*sin(thy)**2*sin(thz)**2*cos(thx) + 2*Sxy*Sxz*a**2*c1y**2*vy**2*sin(thx)*cos(thx)*cos(thz)**2 - 2*Sxy*Sxz*a**2*c1y**2*vy**2*sin(thy)*sin(thz)*cos(thx)**2*cos(thz) - 4*Sxy*Sxz*a*b*c1x**2*vx*vz*sin(thx)**2*sin(thy)*sin(thz)*cos(thz) - 4*Sxy*Sxz*a*b*c1x**2*vx*vz*sin(thx)*sin(thy)**2*cos(thx)*cos(thz)**2 + 4*Sxy*Sxz*a*b*c1x**2*vx*vz*sin(thx)*sin(thz)**2*cos(thx) + 4*Sxy*Sxz*a*b*c1x**2*vx*vz*sin(thy)*sin(thz)*cos(thx)**2*cos(thz) - 2*Sxy*Sxz*a*b*c1x*c1y*vx*vy*vz*sin(thx)**2*sin(thy)*sin(thz)**2 + 2*Sxy*Sxz*a*b*c1x*c1y*vx*vy*vz*sin(thx)**2*sin(thy)*cos(thz)**2 - 4*Sxy*Sxz*a*b*c1x*c1y*vx*vy*vz*sin(thx)*sin(thy)**2*sin(thz)*cos(thx)*cos(thz) - 4*Sxy*Sxz*a*b*c1x*c1y*vx*vy*vz*sin(thx)*sin(thz)*cos(thx)*cos(thz) + 2*Sxy*Sxz*a*b*c1x*c1y*vx*vy*vz*sin(thy)*sin(thz)**2*cos(thx)**2 - 2*Sxy*Sxz*a*b*c1x*c1y*vx*vy*vz*sin(thy)*cos(thx)**2*cos(thz)**2 - 2*Sxy*Sxz*a*b*c1x*c1y*sin(thx)**2*sin(thy)*sin(thz)**2 + 2*Sxy*Sxz*a*b*c1x*c1y*sin(thx)**2*sin(thy)*cos(thz)**2 - 4*Sxy*Sxz*a*b*c1x*c1y*sin(thx)*sin(thy)**2*sin(thz)*cos(thx)*cos(thz) - 4*Sxy*Sxz*a*b*c1x*c1y*sin(thx)*sin(thz)*cos(thx)*cos(thz) + 2*Sxy*Sxz*a*b*c1x*c1y*sin(thy)*sin(thz)**2*cos(thx)**2 - 2*Sxy*Sxz*a*b*c1x*c1y*sin(thy)*cos(thx)**2*cos(thz)**2 + 2*Sxy*Sxz*a*b*c1x*vz*sin(thx)**2*sin(thz)*cos(thy) + 4*Sxy*Sxz*a*b*c1x*vz*sin(thx)*sin(thy)*cos(thx)*cos(thy)*cos(thz) - 2*Sxy*Sxz*a*b*c1x*vz*sin(thz)*cos(thx)**2*cos(thy) + 4*Sxy*Sxz*a*b*c1y**2*vy*sin(thx)**2*sin(thy)*sin(thz)*cos(thz) - 4*Sxy*Sxz*a*b*c1y**2*vy*sin(thx)*sin(thy)**2*sin(thz)**2*cos(thx) + 4*Sxy*Sxz*a*b*c1y**2*vy*sin(thx)*cos(thx)*cos(thz)**2 - 4*Sxy*Sxz*a*b*c1y**2*vy*sin(thy)*sin(thz)*cos(thx)**2*cos(thz) - 2*Sxy*Sxz*a*b*c1y*vy*vz*sin(thx)**2*cos(thy)*cos(thz) + 4*Sxy*Sxz*a*b*c1y*vy*vz*sin(thx)*sin(thy)*sin(thz)*cos(thx)*cos(thy) + 2*Sxy*Sxz*a*b*c1y*vy*vz*cos(thx)**2*cos(thy)*cos(thz) - 2*Sxy*Sxz*b**2*c1x**2*vx**2*vz**2*sin(thx)**2*sin(thy)*sin(thz)*cos(thz) - 2*Sxy*Sxz*b**2*c1x**2*vx**2*vz**2*sin(thx)*sin(thy)**2*cos(thx)*cos(thz)**2 + 2*Sxy*Sxz*b**2*c1x**2*vx**2*vz**2*sin(thx)*sin(thz)**2*cos(thx) + 2*Sxy*Sxz*b**2*c1x**2*vx**2*vz**2*sin(thy)*sin(thz)*cos(thx)**2*cos(thz) - 2*Sxy*Sxz*b**2*c1x*c1y*vx*vz*sin(thx)**2*sin(thy)*sin(thz)**2 + 2*Sxy*Sxz*b**2*c1x*c1y*vx*vz*sin(thx)**2*sin(thy)*cos(thz)**2 - 4*Sxy*Sxz*b**2*c1x*c1y*vx*vz*sin(thx)*sin(thy)**2*sin(thz)*cos(thx)*cos(thz) - 4*Sxy*Sxz*b**2*c1x*c1y*vx*vz*sin(thx)*sin(thz)*cos(thx)*cos(thz) + 2*Sxy*Sxz*b**2*c1x*c1y*vx*vz*sin(thy)*sin(thz)**2*cos(thx)**2 - 2*Sxy*Sxz*b**2*c1x*c1y*vx*vz*sin(thy)*cos(thx)**2*cos(thz)**2 + 2*Sxy*Sxz*b**2*c1x*vx*vz**2*sin(thx)**2*sin(thz)*cos(thy) + 4*Sxy*Sxz*b**2*c1x*vx*vz**2*sin(thx)*sin(thy)*cos(thx)*cos(thy)*cos(thz) - 2*Sxy*Sxz*b**2*c1x*vx*vz**2*sin(thz)*cos(thx)**2*cos(thy) + 2*Sxy*Sxz*b**2*c1y**2*sin(thx)**2*sin(thy)*sin(thz)*cos(thz) - 2*Sxy*Sxz*b**2*c1y**2*sin(thx)*sin(thy)**2*sin(thz)**2*cos(thx) + 2*Sxy*Sxz*b**2*c1y**2*sin(thx)*cos(thx)*cos(thz)**2 - 2*Sxy*Sxz*b**2*c1y**2*sin(thy)*sin(thz)*cos(thx)**2*cos(thz) - 2*Sxy*Sxz*b**2*c1y*vz*sin(thx)**2*cos(thy)*cos(thz) + 4*Sxy*Sxz*b**2*c1y*vz*sin(thx)*sin(thy)*sin(thz)*cos(thx)*cos(thy) + 2*Sxy*Sxz*b**2*c1y*vz*cos(thx)**2*cos(thy)*cos(thz) - 2*Sxy*Sxz*b**2*vz**2*sin(thx)*cos(thx)*cos(thy)**2 - 2*Sxy*a**2*c1x**2*sin(thx)*sin(thy)*cos(thy)*cos(thz)**2 + 2*Sxy*a**2*c1x**2*sin(thz)*cos(thx)*cos(thy)*cos(thz) - 4*Sxy*a**2*c1x*c1y*vy*sin(thx)*sin(thy)*sin(thz)*cos(thy)*cos(thz) + 2*Sxy*a**2*c1x*c1y*vy*sin(thz)**2*cos(thx)*cos(thy) - 2*Sxy*a**2*c1x*c1y*vy*cos(thx)*cos(thy)*cos(thz)**2 - 2*Sxy*a**2*c1y**2*vy**2*sin(thx)*sin(thy)*sin(thz)**2*cos(thy) - 2*Sxy*a**2*c1y**2*vy**2*sin(thz)*cos(thx)*cos(thy)*cos(thz) - 4*Sxy*a*b*c1x**2*vx*vz*sin(thx)*sin(thy)*cos(thy)*cos(thz)**2 + 4*Sxy*a*b*c1x**2*vx*vz*sin(thz)*cos(thx)*cos(thy)*cos(thz) - 4*Sxy*a*b*c1x*c1y*vx*vy*vz*sin(thx)*sin(thy)*sin(thz)*cos(thy)*cos(thz) + 2*Sxy*a*b*c1x*c1y*vx*vy*vz*sin(thz)**2*cos(thx)*cos(thy) - 2*Sxy*a*b*c1x*c1y*vx*vy*vz*cos(thx)*cos(thy)*cos(thz)**2 - 4*Sxy*a*b*c1x*c1y*sin(thx)*sin(thy)*sin(thz)*cos(thy)*cos(thz) + 2*Sxy*a*b*c1x*c1y*sin(thz)**2*cos(thx)*cos(thy) - 2*Sxy*a*b*c1x*c1y*cos(thx)*cos(thy)*cos(thz)**2 - 2*Sxy*a*b*c1x*vz*sin(thx)*sin(thy)**2*cos(thz) + 2*Sxy*a*b*c1x*vz*sin(thx)*cos(thy)**2*cos(thz) + 2*Sxy*a*b*c1x*vz*sin(thy)*sin(thz)*cos(thx) - 4*Sxy*a*b*c1y**2*vy*sin(thx)*sin(thy)*sin(thz)**2*cos(thy) - 4*Sxy*a*b*c1y**2*vy*sin(thz)*cos(thx)*cos(thy)*cos(thz) - 2*Sxy*a*b*c1y*vy*vz*sin(thx)*sin(thy)**2*sin(thz) + 2*Sxy*a*b*c1y*vy*vz*sin(thx)*sin(thz)*cos(thy)**2 - 2*Sxy*a*b*c1y*vy*vz*sin(thy)*cos(thx)*cos(thz) - 2*Sxy*b**2*c1x**2*vx**2*vz**2*sin(thx)*sin(thy)*cos(thy)*cos(thz)**2 + 2*Sxy*b**2*c1x**2*vx**2*vz**2*sin(thz)*cos(thx)*cos(thy)*cos(thz) - 4*Sxy*b**2*c1x*c1y*vx*vz*sin(thx)*sin(thy)*sin(thz)*cos(thy)*cos(thz) + 2*Sxy*b**2*c1x*c1y*vx*vz*sin(thz)**2*cos(thx)*cos(thy) - 2*Sxy*b**2*c1x*c1y*vx*vz*cos(thx)*cos(thy)*cos(thz)**2 - 2*Sxy*b**2*c1x*vx*vz**2*sin(thx)*sin(thy)**2*cos(thz) + 2*Sxy*b**2*c1x*vx*vz**2*sin(thx)*cos(thy)**2*cos(thz) + 2*Sxy*b**2*c1x*vx*vz**2*sin(thy)*sin(thz)*cos(thx) - 2*Sxy*b**2*c1y**2*sin(thx)*sin(thy)*sin(thz)**2*cos(thy) - 2*Sxy*b**2*c1y**2*sin(thz)*cos(thx)*cos(thy)*cos(thz) - 2*Sxy*b**2*c1y*vz*sin(thx)*sin(thy)**2*sin(thz) + 2*Sxy*b**2*c1y*vz*sin(thx)*sin(thz)*cos(thy)**2 - 2*Sxy*b**2*c1y*vz*sin(thy)*cos(thx)*cos(thz) + 2*Sxy*b**2*vz**2*sin(thx)*sin(thy)*cos(thy) + Sxz**2*a**2*c1x**2*sin(thx)**2*sin(thz)**2 + 2*Sxz**2*a**2*c1x**2*sin(thx)*sin(thy)*sin(thz)*cos(thx)*cos(thz) + Sxz**2*a**2*c1x**2*sin(thy)**2*cos(thx)**2*cos(thz)**2 - 2*Sxz**2*a**2*c1x*c1y*vy*sin(thx)**2*sin(thz)*cos(thz) + 2*Sxz**2*a**2*c1x*c1y*vy*sin(thx)*sin(thy)*sin(thz)**2*cos(thx) - 2*Sxz**2*a**2*c1x*c1y*vy*sin(thx)*sin(thy)*cos(thx)*cos(thz)**2 + 2*Sxz**2*a**2*c1x*c1y*vy*sin(thy)**2*sin(thz)*cos(thx)**2*cos(thz) + Sxz**2*a**2*c1y**2*vy**2*sin(thx)**2*cos(thz)**2 - 2*Sxz**2*a**2*c1y**2*vy**2*sin(thx)*sin(thy)*sin(thz)*cos(thx)*cos(thz) + Sxz**2*a**2*c1y**2*vy**2*sin(thy)**2*sin(thz)**2*cos(thx)**2 + 2*Sxz**2*a*b*c1x**2*vx*vz*sin(thx)**2*sin(thz)**2 + 4*Sxz**2*a*b*c1x**2*vx*vz*sin(thx)*sin(thy)*sin(thz)*cos(thx)*cos(thz) + 2*Sxz**2*a*b*c1x**2*vx*vz*sin(thy)**2*cos(thx)**2*cos(thz)**2 - 2*Sxz**2*a*b*c1x*c1y*vx*vy*vz*sin(thx)**2*sin(thz)*cos(thz) + 2*Sxz**2*a*b*c1x*c1y*vx*vy*vz*sin(thx)*sin(thy)*sin(thz)**2*cos(thx) - 2*Sxz**2*a*b*c1x*c1y*vx*vy*vz*sin(thx)*sin(thy)*cos(thx)*cos(thz)**2 + 2*Sxz**2*a*b*c1x*c1y*vx*vy*vz*sin(thy)**2*sin(thz)*cos(thx)**2*cos(thz) - 2*Sxz**2*a*b*c1x*c1y*sin(thx)**2*sin(thz)*cos(thz) + 2*Sxz**2*a*b*c1x*c1y*sin(thx)*sin(thy)*sin(thz)**2*cos(thx) - 2*Sxz**2*a*b*c1x*c1y*sin(thx)*sin(thy)*cos(thx)*cos(thz)**2 + 2*Sxz**2*a*b*c1x*c1y*sin(thy)**2*sin(thz)*cos(thx)**2*cos(thz) - 2*Sxz**2*a*b*c1x*vz*sin(thx)*sin(thz)*cos(thx)*cos(thy) - 2*Sxz**2*a*b*c1x*vz*sin(thy)*cos(thx)**2*cos(thy)*cos(thz) + 2*Sxz**2*a*b*c1y**2*vy*sin(thx)**2*cos(thz)**2 - 4*Sxz**2*a*b*c1y**2*vy*sin(thx)*sin(thy)*sin(thz)*cos(thx)*cos(thz) + 2*Sxz**2*a*b*c1y**2*vy*sin(thy)**2*sin(thz)**2*cos(thx)**2 + 2*Sxz**2*a*b*c1y*vy*vz*sin(thx)*cos(thx)*cos(thy)*cos(thz) - 2*Sxz**2*a*b*c1y*vy*vz*sin(thy)*sin(thz)*cos(thx)**2*cos(thy) + Sxz**2*b**2*c1x**2*vx**2*vz**2*sin(thx)**2*sin(thz)**2 + 2*Sxz**2*b**2*c1x**2*vx**2*vz**2*sin(thx)*sin(thy)*sin(thz)*cos(thx)*cos(thz) + Sxz**2*b**2*c1x**2*vx**2*vz**2*sin(thy)**2*cos(thx)**2*cos(thz)**2 - 2*Sxz**2*b**2*c1x*c1y*vx*vz*sin(thx)**2*sin(thz)*cos(thz) + 2*Sxz**2*b**2*c1x*c1y*vx*vz*sin(thx)*sin(thy)*sin(thz)**2*cos(thx) - 2*Sxz**2*b**2*c1x*c1y*vx*vz*sin(thx)*sin(thy)*cos(thx)*cos(thz)**2 + 2*Sxz**2*b**2*c1x*c1y*vx*vz*sin(thy)**2*sin(thz)*cos(thx)**2*cos(thz) - 2*Sxz**2*b**2*c1x*vx*vz**2*sin(thx)*sin(thz)*cos(thx)*cos(thy) - 2*Sxz**2*b**2*c1x*vx*vz**2*sin(thy)*cos(thx)**2*cos(thy)*cos(thz) + Sxz**2*b**2*c1y**2*sin(thx)**2*cos(thz)**2 - 2*Sxz**2*b**2*c1y**2*sin(thx)*sin(thy)*sin(thz)*cos(thx)*cos(thz) + Sxz**2*b**2*c1y**2*sin(thy)**2*sin(thz)**2*cos(thx)**2 + 2*Sxz**2*b**2*c1y*vz*sin(thx)*cos(thx)*cos(thy)*cos(thz) - 2*Sxz**2*b**2*c1y*vz*sin(thy)*sin(thz)*cos(thx)**2*cos(thy) + Sxz**2*b**2*vz**2*cos(thx)**2*cos(thy)**2 + 2*Sxz*a**2*c1x**2*sin(thx)*sin(thz)*cos(thy)*cos(thz) + 2*Sxz*a**2*c1x**2*sin(thy)*cos(thx)*cos(thy)*cos(thz)**2 + 2*Sxz*a**2*c1x*c1y*vy*sin(thx)*sin(thz)**2*cos(thy) - 2*Sxz*a**2*c1x*c1y*vy*sin(thx)*cos(thy)*cos(thz)**2 + 4*Sxz*a**2*c1x*c1y*vy*sin(thy)*sin(thz)*cos(thx)*cos(thy)*cos(thz) - 2*Sxz*a**2*c1y**2*vy**2*sin(thx)*sin(thz)*cos(thy)*cos(thz) + 2*Sxz*a**2*c1y**2*vy**2*sin(thy)*sin(thz)**2*cos(thx)*cos(thy) + 4*Sxz*a*b*c1x**2*vx*vz*sin(thx)*sin(thz)*cos(thy)*cos(thz) + 4*Sxz*a*b*c1x**2*vx*vz*sin(thy)*cos(thx)*cos(thy)*cos(thz)**2 + 2*Sxz*a*b*c1x*c1y*vx*vy*vz*sin(thx)*sin(thz)**2*cos(thy) - 2*Sxz*a*b*c1x*c1y*vx*vy*vz*sin(thx)*cos(thy)*cos(thz)**2 + 4*Sxz*a*b*c1x*c1y*vx*vy*vz*sin(thy)*sin(thz)*cos(thx)*cos(thy)*cos(thz) + 2*Sxz*a*b*c1x*c1y*sin(thx)*sin(thz)**2*cos(thy) - 2*Sxz*a*b*c1x*c1y*sin(thx)*cos(thy)*cos(thz)**2 + 4*Sxz*a*b*c1x*c1y*sin(thy)*sin(thz)*cos(thx)*cos(thy)*cos(thz) + 2*Sxz*a*b*c1x*vz*sin(thx)*sin(thy)*sin(thz) + 2*Sxz*a*b*c1x*vz*sin(thy)**2*cos(thx)*cos(thz) - 2*Sxz*a*b*c1x*vz*cos(thx)*cos(thy)**2*cos(thz) - 4*Sxz*a*b*c1y**2*vy*sin(thx)*sin(thz)*cos(thy)*cos(thz) + 4*Sxz*a*b*c1y**2*vy*sin(thy)*sin(thz)**2*cos(thx)*cos(thy) - 2*Sxz*a*b*c1y*vy*vz*sin(thx)*sin(thy)*cos(thz) + 2*Sxz*a*b*c1y*vy*vz*sin(thy)**2*sin(thz)*cos(thx) - 2*Sxz*a*b*c1y*vy*vz*sin(thz)*cos(thx)*cos(thy)**2 + 2*Sxz*b**2*c1x**2*vx**2*vz**2*sin(thx)*sin(thz)*cos(thy)*cos(thz) + 2*Sxz*b**2*c1x**2*vx**2*vz**2*sin(thy)*cos(thx)*cos(thy)*cos(thz)**2 + 2*Sxz*b**2*c1x*c1y*vx*vz*sin(thx)*sin(thz)**2*cos(thy) - 2*Sxz*b**2*c1x*c1y*vx*vz*sin(thx)*cos(thy)*cos(thz)**2 + 4*Sxz*b**2*c1x*c1y*vx*vz*sin(thy)*sin(thz)*cos(thx)*cos(thy)*cos(thz) + 2*Sxz*b**2*c1x*vx*vz**2*sin(thx)*sin(thy)*sin(thz) + 2*Sxz*b**2*c1x*vx*vz**2*sin(thy)**2*cos(thx)*cos(thz) - 2*Sxz*b**2*c1x*vx*vz**2*cos(thx)*cos(thy)**2*cos(thz) - 2*Sxz*b**2*c1y**2*sin(thx)*sin(thz)*cos(thy)*cos(thz) + 2*Sxz*b**2*c1y**2*sin(thy)*sin(thz)**2*cos(thx)*cos(thy) - 2*Sxz*b**2*c1y*vz*sin(thx)*sin(thy)*cos(thz) + 2*Sxz*b**2*c1y*vz*sin(thy)**2*sin(thz)*cos(thx) - 2*Sxz*b**2*c1y*vz*sin(thz)*cos(thx)*cos(thy)**2 - 2*Sxz*b**2*vz**2*sin(thy)*cos(thx)*cos(thy) + a**2*c1x**2*cos(thy)**2*cos(thz)**2 + 2*a**2*c1x*c1y*vy*sin(thz)*cos(thy)**2*cos(thz) + a**2*c1y**2*vy**2*sin(thz)**2*cos(thy)**2 + 2*a*b*c1x**2*vx*vz*cos(thy)**2*cos(thz)**2 + 2*a*b*c1x*c1y*vx*vy*vz*sin(thz)*cos(thy)**2*cos(thz) + 2*a*b*c1x*c1y*sin(thz)*cos(thy)**2*cos(thz) + 2*a*b*c1x*vz*sin(thy)*cos(thy)*cos(thz) + 2*a*b*c1y**2*vy*sin(thz)**2*cos(thy)**2 + 2*a*b*c1y*vy*vz*sin(thy)*sin(thz)*cos(thy) + b**2*c1x**2*vx**2*vz**2*cos(thy)**2*cos(thz)**2 + 2*b**2*c1x*c1y*vx*vz*sin(thz)*cos(thy)**2*cos(thz) + 2*b**2*c1x*vx*vz**2*sin(thy)*cos(thy)*cos(thz) + b**2*c1y**2*sin(thz)**2*cos(thy)**2 + 2*b**2*c1y*vz*sin(thy)*sin(thz)*cos(thy) + b**2*vz**2*sin(thy)**2]"
      ]
     },
     "execution_count": 62,
     "metadata": {},
     "output_type": "execute_result"
    }
   ],
   "source": [
    "sp.Poly(out[0]**2,sp.cos(E)).coeffs()"
   ]
  },
  {
   "cell_type": "code",
   "execution_count": 63,
   "metadata": {},
   "outputs": [],
   "source": [
    "a11, a12, a13, a21, a22, a23, a31, a32, a33 = sp.symbols('a11 a12 a13 a21 a22 a23 a31 a32 a33',real=True)\n",
    "genMat = sp.Matrix([[a11, a12, a13], [a21, a22, a23], [a31, a32, a33]]) # a general matrix"
   ]
  },
  {
   "cell_type": "markdown",
   "metadata": {},
   "source": [
    "I think I need 3 points total on both original ellipse and projected ellipse to solve for all parameters. Ellipse center might work as well but they can't all be on the same line"
   ]
  },
  {
   "cell_type": "code",
   "execution_count": 64,
   "metadata": {},
   "outputs": [],
   "source": [
    "point1 = sp.Matrix([[eqnX.subs(a,1).subs(e,0.6).subs(w,np.pi/3).subs(v,0).subs(inc,np.pi/6)],[eqnY.subs(a,1).subs(e,0.6).subs(w,np.pi/3).subs(v,0).subs(inc,np.pi/6)],[eqnZ.subs(a,1).subs(e,0.6).subs(w,np.pi/3).subs(v,0).subs(inc,np.pi/6)]])\n",
    "point2 = sp.Matrix([[eqnX.subs(a,1).subs(e,0.6).subs(w,np.pi/3).subs(v,np.pi/2).subs(inc,np.pi/6)],[eqnY.subs(a,1).subs(e,0.6).subs(w,np.pi/3).subs(v,np.pi/2).subs(inc,np.pi/6)],[eqnZ.subs(a,1).subs(e,0.6).subs(w,np.pi/3).subs(v,np.pi/2).subs(inc,np.pi/6)]])\n",
    "point3 = sp.Matrix([[eqnX.subs(a,1).subs(e,0.6).subs(w,np.pi/3).subs(v,np.pi/3).subs(inc,np.pi/6)],[eqnY.subs(a,1).subs(e,0.6).subs(w,np.pi/3).subs(v,np.pi/3).subs(inc,np.pi/6)],[eqnZ.subs(a,1).subs(e,0.6).subs(w,np.pi/3).subs(v,np.pi/3).subs(inc,np.pi/6)]])"
   ]
  },
  {
   "cell_type": "code",
   "execution_count": 65,
   "metadata": {},
   "outputs": [],
   "source": [
    "#point1, point2, point3"
   ]
  },
  {
   "cell_type": "code",
   "execution_count": 66,
   "metadata": {},
   "outputs": [],
   "source": [
    "ppoint1 = sp.Matrix([[point1[0]],[point1[1]],[0]])\n",
    "ppoint2 = sp.Matrix([[point2[0]],[point2[1]],[0]])\n",
    "ppoint3 = sp.Matrix([[point3[0]],[point3[1]],[0]])"
   ]
  },
  {
   "cell_type": "markdown",
   "metadata": {},
   "source": [
    "Rotation Matrix From Wikipedia"
   ]
  },
  {
   "cell_type": "code",
   "execution_count": 67,
   "metadata": {},
   "outputs": [],
   "source": [
    "rotX = sp.Matrix([[sp.cos(w+v),sp.sin(w+v),0],[-sp.sin(w+v),sp.cos(w+v),0],[0,0,1]])"
   ]
  },
  {
   "cell_type": "code",
   "execution_count": 68,
   "metadata": {},
   "outputs": [],
   "source": [
    "rotY = sp.Matrix([[1,0,0],[0,sp.cos(inc),sp.sin(inc)],[0,-sp.sin(inc),sp.cos(inc)]])"
   ]
  },
  {
   "cell_type": "code",
   "execution_count": 69,
   "metadata": {},
   "outputs": [],
   "source": [
    "rotZ = sp.Matrix([[sp.cos(W),sp.sin(W),0],[-sp.sin(W),sp.cos(W),0],[0,0,1]])"
   ]
  },
  {
   "cell_type": "code",
   "execution_count": 70,
   "metadata": {},
   "outputs": [],
   "source": [
    "xyzRotMat = rotX*rotY*rotZ"
   ]
  },
  {
   "cell_type": "markdown",
   "metadata": {},
   "source": [
    "Rotation Matrix Order Matters. sp.simplify(rotX.inv()*rotY.inv()*rotX*rotY) != sp.simplify(rotY.inv()*rotX.inv()*rotX*rotY)"
   ]
  },
  {
   "cell_type": "code",
   "execution_count": 71,
   "metadata": {},
   "outputs": [
    {
     "data": {
      "text/latex": [
       "$\\displaystyle \\left[\\begin{matrix}\\frac{1 - \\sin^{2}{\\left(v + w \\right)}}{\\cos{\\left(v + w \\right)}} & - \\sin{\\left(v + w \\right)} & 0\\\\\\sin{\\left(v + w \\right)} & \\cos{\\left(v + w \\right)} & 0\\\\0 & 0 & 1\\end{matrix}\\right]$"
      ],
      "text/plain": [
       "Matrix([\n",
       "[(1 - sin(v + w)**2)/cos(v + w), -sin(v + w), 0],\n",
       "[                    sin(v + w),  cos(v + w), 0],\n",
       "[                             0,           0, 1]])"
      ]
     },
     "execution_count": 71,
     "metadata": {},
     "output_type": "execute_result"
    }
   ],
   "source": [
    "rotX.inv()"
   ]
  },
  {
   "cell_type": "code",
   "execution_count": 72,
   "metadata": {},
   "outputs": [
    {
     "data": {
      "text/latex": [
       "$\\displaystyle \\left[\\begin{matrix}1 & 0 & 0\\\\0 & 1 & 0\\\\0 & 0 & 1\\end{matrix}\\right]$"
      ],
      "text/plain": [
       "Matrix([\n",
       "[1, 0, 0],\n",
       "[0, 1, 0],\n",
       "[0, 0, 1]])"
      ]
     },
     "execution_count": 72,
     "metadata": {},
     "output_type": "execute_result"
    }
   ],
   "source": [
    "sp.simplify(rotX.inv()*rotX)"
   ]
  },
  {
   "cell_type": "code",
   "execution_count": 73,
   "metadata": {},
   "outputs": [
    {
     "data": {
      "text/latex": [
       "$\\displaystyle \\left[\\begin{matrix}1 & 0 & 0\\\\0 & 1 & 0\\\\0 & 0 & 1\\end{matrix}\\right]$"
      ],
      "text/plain": [
       "Matrix([\n",
       "[1, 0, 0],\n",
       "[0, 1, 0],\n",
       "[0, 0, 1]])"
      ]
     },
     "execution_count": 73,
     "metadata": {},
     "output_type": "execute_result"
    }
   ],
   "source": [
    "sp.simplify(rotZ.inv()*rotY.inv()*rotX.inv()*rotX*rotY*rotZ)"
   ]
  },
  {
   "cell_type": "code",
   "execution_count": 74,
   "metadata": {},
   "outputs": [],
   "source": [
    "xyzRotMatInv = rotZ.inv()*rotY.inv()*rotX.inv()"
   ]
  },
  {
   "cell_type": "code",
   "execution_count": 75,
   "metadata": {},
   "outputs": [
    {
     "data": {
      "text/latex": [
       "$\\displaystyle \\left[\\begin{matrix}\\frac{\\left(1 - \\sin^{2}{\\left(W \\right)}\\right) \\left(1 - \\sin^{2}{\\left(v + w \\right)}\\right)}{\\cos{\\left(W \\right)} \\cos{\\left(v + w \\right)}} - \\frac{\\left(1 - \\sin^{2}{\\left(inc \\right)}\\right) \\sin{\\left(W \\right)} \\sin{\\left(v + w \\right)}}{\\cos{\\left(inc \\right)}} & - \\frac{\\left(1 - \\sin^{2}{\\left(W \\right)}\\right) \\sin{\\left(v + w \\right)}}{\\cos{\\left(W \\right)}} - \\frac{\\left(1 - \\sin^{2}{\\left(inc \\right)}\\right) \\sin{\\left(W \\right)} \\cos{\\left(v + w \\right)}}{\\cos{\\left(inc \\right)}} & \\sin{\\left(W \\right)} \\sin{\\left(inc \\right)}\\\\\\frac{\\left(1 - \\sin^{2}{\\left(inc \\right)}\\right) \\sin{\\left(v + w \\right)} \\cos{\\left(W \\right)}}{\\cos{\\left(inc \\right)}} + \\frac{\\left(1 - \\sin^{2}{\\left(v + w \\right)}\\right) \\sin{\\left(W \\right)}}{\\cos{\\left(v + w \\right)}} & \\frac{\\left(1 - \\sin^{2}{\\left(inc \\right)}\\right) \\cos{\\left(W \\right)} \\cos{\\left(v + w \\right)}}{\\cos{\\left(inc \\right)}} - \\sin{\\left(W \\right)} \\sin{\\left(v + w \\right)} & - \\sin{\\left(inc \\right)} \\cos{\\left(W \\right)}\\\\\\sin{\\left(inc \\right)} \\sin{\\left(v + w \\right)} & \\sin{\\left(inc \\right)} \\cos{\\left(v + w \\right)} & \\cos{\\left(inc \\right)}\\end{matrix}\\right]$"
      ],
      "text/plain": [
       "Matrix([\n",
       "[(1 - sin(W)**2)*(1 - sin(v + w)**2)/(cos(W)*cos(v + w)) - (1 - sin(inc)**2)*sin(W)*sin(v + w)/cos(inc), -(1 - sin(W)**2)*sin(v + w)/cos(W) - (1 - sin(inc)**2)*sin(W)*cos(v + w)/cos(inc),  sin(W)*sin(inc)],\n",
       "[                  (1 - sin(inc)**2)*sin(v + w)*cos(W)/cos(inc) + (1 - sin(v + w)**2)*sin(W)/cos(v + w),                  (1 - sin(inc)**2)*cos(W)*cos(v + w)/cos(inc) - sin(W)*sin(v + w), -sin(inc)*cos(W)],\n",
       "[                                                                                   sin(inc)*sin(v + w),                                                               sin(inc)*cos(v + w),         cos(inc)]])"
      ]
     },
     "execution_count": 75,
     "metadata": {},
     "output_type": "execute_result"
    }
   ],
   "source": [
    "xyzRotMatInv"
   ]
  },
  {
   "cell_type": "code",
   "execution_count": 76,
   "metadata": {},
   "outputs": [
    {
     "data": {
      "text/latex": [
       "$\\displaystyle \\left[\\begin{matrix}1 & 0 & 0\\\\0 & 1 & 0\\\\0 & 0 & 1\\end{matrix}\\right]$"
      ],
      "text/plain": [
       "Matrix([\n",
       "[1, 0, 0],\n",
       "[0, 1, 0],\n",
       "[0, 0, 1]])"
      ]
     },
     "execution_count": 76,
     "metadata": {},
     "output_type": "execute_result"
    }
   ],
   "source": [
    "sp.simplify(xyzRotMatInv*xyzRotMat)"
   ]
  },
  {
   "cell_type": "code",
   "execution_count": 77,
   "metadata": {},
   "outputs": [
    {
     "data": {
      "text/latex": [
       "$\\displaystyle \\left[\\begin{matrix}- \\sin{\\left(W \\right)} \\sin{\\left(v + w \\right)} \\cos{\\left(inc \\right)} + \\cos{\\left(W \\right)} \\cos{\\left(v + w \\right)} & \\sin{\\left(W \\right)} \\cos{\\left(v + w \\right)} + \\sin{\\left(v + w \\right)} \\cos{\\left(W \\right)} \\cos{\\left(inc \\right)} & \\sin{\\left(inc \\right)} \\sin{\\left(v + w \\right)}\\\\- \\sin{\\left(W \\right)} \\cos{\\left(inc \\right)} \\cos{\\left(v + w \\right)} - \\sin{\\left(v + w \\right)} \\cos{\\left(W \\right)} & - \\sin{\\left(W \\right)} \\sin{\\left(v + w \\right)} + \\cos{\\left(W \\right)} \\cos{\\left(inc \\right)} \\cos{\\left(v + w \\right)} & \\sin{\\left(inc \\right)} \\cos{\\left(v + w \\right)}\\\\\\sin{\\left(W \\right)} \\sin{\\left(inc \\right)} & - \\sin{\\left(inc \\right)} \\cos{\\left(W \\right)} & \\cos{\\left(inc \\right)}\\end{matrix}\\right]$"
      ],
      "text/plain": [
       "Matrix([\n",
       "[-sin(W)*sin(v + w)*cos(inc) + cos(W)*cos(v + w),  sin(W)*cos(v + w) + sin(v + w)*cos(W)*cos(inc), sin(inc)*sin(v + w)],\n",
       "[-sin(W)*cos(inc)*cos(v + w) - sin(v + w)*cos(W), -sin(W)*sin(v + w) + cos(W)*cos(inc)*cos(v + w), sin(inc)*cos(v + w)],\n",
       "[                                sin(W)*sin(inc),                                -sin(inc)*cos(W),            cos(inc)]])"
      ]
     },
     "execution_count": 77,
     "metadata": {},
     "output_type": "execute_result"
    }
   ],
   "source": [
    "xyzRotMat"
   ]
  },
  {
   "cell_type": "markdown",
   "metadata": {},
   "source": [
    "THE FOLLOWING ARE IDENTICAL!!! USE THEM"
   ]
  },
  {
   "cell_type": "code",
   "execution_count": 103,
   "metadata": {},
   "outputs": [
    {
     "data": {
      "text/latex": [
       "$\\displaystyle \\left[\\begin{matrix}- \\sin{\\left(W \\right)} \\sin{\\left(v + w \\right)} \\cos{\\left(inc \\right)} + \\cos{\\left(W \\right)} \\cos{\\left(v + w \\right)}\\\\\\sin{\\left(W \\right)} \\cos{\\left(v + w \\right)} + \\sin{\\left(v + w \\right)} \\cos{\\left(W \\right)} \\cos{\\left(inc \\right)}\\\\\\sin{\\left(inc \\right)} \\sin{\\left(v + w \\right)}\\end{matrix}\\right]$"
      ],
      "text/plain": [
       "Matrix([\n",
       "[-sin(W)*sin(v + w)*cos(inc) + cos(W)*cos(v + w)],\n",
       "[ sin(W)*cos(v + w) + sin(v + w)*cos(W)*cos(inc)],\n",
       "[                            sin(inc)*sin(v + w)]])"
      ]
     },
     "execution_count": 103,
     "metadata": {},
     "output_type": "execute_result"
    }
   ],
   "source": [
    "sp.simplify(xyzRotMatInv*sp.Matrix([[1],[0],[0]]))"
   ]
  },
  {
   "cell_type": "code",
   "execution_count": 95,
   "metadata": {},
   "outputs": [
    {
     "data": {
      "text/latex": [
       "$\\displaystyle \\left[\\begin{matrix}- \\sin{\\left(W \\right)} \\sin{\\left(v + w \\right)} \\cos{\\left(inc \\right)} + \\cos{\\left(W \\right)} \\cos{\\left(v + w \\right)}\\\\\\sin{\\left(W \\right)} \\cos{\\left(v + w \\right)} + \\sin{\\left(v + w \\right)} \\cos{\\left(W \\right)} \\cos{\\left(inc \\right)}\\\\\\sin{\\left(inc \\right)} \\sin{\\left(v + w \\right)}\\end{matrix}\\right]$"
      ],
      "text/plain": [
       "Matrix([\n",
       "[-sin(W)*sin(v + w)*cos(inc) + cos(W)*cos(v + w)],\n",
       "[ sin(W)*cos(v + w) + sin(v + w)*cos(W)*cos(inc)],\n",
       "[                            sin(inc)*sin(v + w)]])"
      ]
     },
     "execution_count": 95,
     "metadata": {},
     "output_type": "execute_result"
    }
   ],
   "source": [
    "sp.Matrix([[eqnX/eqnr],[eqnY/eqnr],[eqnZ/eqnr]])"
   ]
  },
  {
   "cell_type": "code",
   "execution_count": null,
   "metadata": {},
   "outputs": [],
   "source": []
  },
  {
   "cell_type": "code",
   "execution_count": null,
   "metadata": {},
   "outputs": [],
   "source": []
  },
  {
   "cell_type": "markdown",
   "metadata": {},
   "source": [
    "I need to shove things into this form"
   ]
  },
  {
   "cell_type": "code",
   "execution_count": 80,
   "metadata": {},
   "outputs": [],
   "source": [
    "th = sp.symbols('th', real=True)\n",
    "nW, nw, ninc = sp.symbols('nW nw ninc', real=True)"
   ]
  },
  {
   "cell_type": "code",
   "execution_count": 107,
   "metadata": {},
   "outputs": [],
   "source": [
    "twoDellipse = sp.Matrix([[a*sp.cos(E)],[b*sp.sin(E)],[0]])"
   ]
  },
  {
   "cell_type": "code",
   "execution_count": 108,
   "metadata": {},
   "outputs": [
    {
     "data": {
      "text/latex": [
       "$\\displaystyle \\left[\\begin{matrix}a \\cos{\\left(E \\right)}\\\\b \\sin{\\left(E \\right)}\\\\0\\end{matrix}\\right]$"
      ],
      "text/plain": [
       "Matrix([\n",
       "[a*cos(E)],\n",
       "[b*sin(E)],\n",
       "[       0]])"
      ]
     },
     "execution_count": 108,
     "metadata": {},
     "output_type": "execute_result"
    }
   ],
   "source": [
    "twoDellipse"
   ]
  },
  {
   "cell_type": "markdown",
   "metadata": {},
   "source": [
    "(continued) Starting with this form"
   ]
  },
  {
   "cell_type": "code",
   "execution_count": 109,
   "metadata": {},
   "outputs": [],
   "source": [
    "threeDellipse = sp.Matrix([[eqnX],[eqnY],[eqnZ]])"
   ]
  },
  {
   "cell_type": "code",
   "execution_count": 110,
   "metadata": {},
   "outputs": [
    {
     "data": {
      "text/latex": [
       "$\\displaystyle \\left[\\begin{matrix}\\frac{a \\left(1 - e^{2}\\right) \\left(- \\sin{\\left(W \\right)} \\sin{\\left(v + w \\right)} \\cos{\\left(inc \\right)} + \\cos{\\left(W \\right)} \\cos{\\left(v + w \\right)}\\right)}{e \\cos{\\left(v \\right)} + 1}\\\\\\frac{a \\left(1 - e^{2}\\right) \\left(\\sin{\\left(W \\right)} \\cos{\\left(v + w \\right)} + \\sin{\\left(v + w \\right)} \\cos{\\left(W \\right)} \\cos{\\left(inc \\right)}\\right)}{e \\cos{\\left(v \\right)} + 1}\\\\\\frac{a \\left(1 - e^{2}\\right) \\sin{\\left(inc \\right)} \\sin{\\left(v + w \\right)}}{e \\cos{\\left(v \\right)} + 1}\\end{matrix}\\right]$"
      ],
      "text/plain": [
       "Matrix([\n",
       "[a*(1 - e**2)*(-sin(W)*sin(v + w)*cos(inc) + cos(W)*cos(v + w))/(e*cos(v) + 1)],\n",
       "[ a*(1 - e**2)*(sin(W)*cos(v + w) + sin(v + w)*cos(W)*cos(inc))/(e*cos(v) + 1)],\n",
       "[                              a*(1 - e**2)*sin(inc)*sin(v + w)/(e*cos(v) + 1)]])"
      ]
     },
     "execution_count": 110,
     "metadata": {},
     "output_type": "execute_result"
    }
   ],
   "source": [
    "threeDellipse"
   ]
  },
  {
   "cell_type": "code",
   "execution_count": 113,
   "metadata": {},
   "outputs": [],
   "source": [
    "rotated2Dellipse = sp.simplify(xyzRotMat*twoDellipse)"
   ]
  },
  {
   "cell_type": "code",
   "execution_count": 114,
   "metadata": {},
   "outputs": [
    {
     "data": {
      "text/latex": [
       "$\\displaystyle \\left[\\begin{matrix}- a \\left(\\sin{\\left(W \\right)} \\sin{\\left(v + w \\right)} \\cos{\\left(inc \\right)} - \\cos{\\left(W \\right)} \\cos{\\left(v + w \\right)}\\right) \\cos{\\left(E \\right)} + b \\left(\\sin{\\left(W \\right)} \\cos{\\left(v + w \\right)} + \\sin{\\left(v + w \\right)} \\cos{\\left(W \\right)} \\cos{\\left(inc \\right)}\\right) \\sin{\\left(E \\right)}\\\\- a \\left(\\sin{\\left(W \\right)} \\cos{\\left(inc \\right)} \\cos{\\left(v + w \\right)} + \\sin{\\left(v + w \\right)} \\cos{\\left(W \\right)}\\right) \\cos{\\left(E \\right)} - b \\left(\\sin{\\left(W \\right)} \\sin{\\left(v + w \\right)} - \\cos{\\left(W \\right)} \\cos{\\left(inc \\right)} \\cos{\\left(v + w \\right)}\\right) \\sin{\\left(E \\right)}\\\\\\left(a \\sin{\\left(W \\right)} \\cos{\\left(E \\right)} - b \\sin{\\left(E \\right)} \\cos{\\left(W \\right)}\\right) \\sin{\\left(inc \\right)}\\end{matrix}\\right]$"
      ],
      "text/plain": [
       "Matrix([\n",
       "[-a*(sin(W)*sin(v + w)*cos(inc) - cos(W)*cos(v + w))*cos(E) + b*(sin(W)*cos(v + w) + sin(v + w)*cos(W)*cos(inc))*sin(E)],\n",
       "[-a*(sin(W)*cos(inc)*cos(v + w) + sin(v + w)*cos(W))*cos(E) - b*(sin(W)*sin(v + w) - cos(W)*cos(inc)*cos(v + w))*sin(E)],\n",
       "[                                                                          (a*sin(W)*cos(E) - b*sin(E)*cos(W))*sin(inc)]])"
      ]
     },
     "execution_count": 114,
     "metadata": {},
     "output_type": "execute_result"
    }
   ],
   "source": [
    "rotated2Dellipse"
   ]
  },
  {
   "cell_type": "code",
   "execution_count": 116,
   "metadata": {},
   "outputs": [
    {
     "data": {
      "text/latex": [
       "$\\displaystyle a^{2} \\sin^{2}{\\left(E \\right)} \\sin^{2}{\\left(W \\right)} \\sin^{2}{\\left(inc \\right)} - a^{2} \\sin^{2}{\\left(E \\right)} - a^{2} \\sin^{2}{\\left(W \\right)} \\sin^{2}{\\left(inc \\right)} + a^{2} + 2 a b \\sin{\\left(E \\right)} \\sin{\\left(W \\right)} \\sin^{2}{\\left(inc \\right)} \\cos{\\left(E \\right)} \\cos{\\left(W \\right)} + b^{2} \\sin^{2}{\\left(E \\right)} \\sin^{2}{\\left(W \\right)} \\sin^{2}{\\left(inc \\right)} - b^{2} \\sin^{2}{\\left(E \\right)} \\sin^{2}{\\left(inc \\right)} + b^{2} \\sin^{2}{\\left(E \\right)}$"
      ],
      "text/plain": [
       "a**2*sin(E)**2*sin(W)**2*sin(inc)**2 - a**2*sin(E)**2 - a**2*sin(W)**2*sin(inc)**2 + a**2 + 2*a*b*sin(E)*sin(W)*sin(inc)**2*cos(E)*cos(W) + b**2*sin(E)**2*sin(W)**2*sin(inc)**2 - b**2*sin(E)**2*sin(inc)**2 + b**2*sin(E)**2"
      ]
     },
     "execution_count": 116,
     "metadata": {},
     "output_type": "execute_result"
    }
   ],
   "source": [
    "sp.simplify(rotated2Dellipse[0]**2+rotated2Dellipse[1]**2)"
   ]
  },
  {
   "cell_type": "markdown",
   "metadata": {},
   "source": [
    "# END SECTION"
   ]
  },
  {
   "cell_type": "code",
   "execution_count": 86,
   "metadata": {},
   "outputs": [],
   "source": [
    "#sp.expand(xyzRotMatInv*threeDellipse)"
   ]
  },
  {
   "cell_type": "code",
   "execution_count": 87,
   "metadata": {},
   "outputs": [],
   "source": [
    "#xyzRotMatInv*xyzRotMat"
   ]
  },
  {
   "cell_type": "code",
   "execution_count": 88,
   "metadata": {},
   "outputs": [],
   "source": [
    "tmp = xyzRotMat.subs(W,nW).subs(w,nw).subs(inc,ninc)*threeDellipse"
   ]
  },
  {
   "cell_type": "code",
   "execution_count": 89,
   "metadata": {},
   "outputs": [
    {
     "data": {
      "text/latex": [
       "$\\displaystyle \\left[\\begin{matrix}- \\frac{a \\left(e^{2} - 1\\right) \\left(\\left(\\sin{\\left(W \\right)} \\cos{\\left(v + w \\right)} + \\sin{\\left(v + w \\right)} \\cos{\\left(W \\right)} \\cos{\\left(inc \\right)}\\right) \\left(\\sin{\\left(nW \\right)} \\cos{\\left(nw + v \\right)} + \\sin{\\left(nw + v \\right)} \\cos{\\left(nW \\right)} \\cos{\\left(ninc \\right)}\\right) + \\left(\\sin{\\left(W \\right)} \\sin{\\left(v + w \\right)} \\cos{\\left(inc \\right)} - \\cos{\\left(W \\right)} \\cos{\\left(v + w \\right)}\\right) \\left(\\sin{\\left(nW \\right)} \\sin{\\left(nw + v \\right)} \\cos{\\left(ninc \\right)} - \\cos{\\left(nW \\right)} \\cos{\\left(nw + v \\right)}\\right) + \\sin{\\left(inc \\right)} \\sin{\\left(ninc \\right)} \\sin{\\left(nw + v \\right)} \\sin{\\left(v + w \\right)}\\right)}{e \\cos{\\left(v \\right)} + 1}\\\\\\frac{a \\left(e^{2} - 1\\right) \\left(\\left(\\sin{\\left(W \\right)} \\cos{\\left(v + w \\right)} + \\sin{\\left(v + w \\right)} \\cos{\\left(W \\right)} \\cos{\\left(inc \\right)}\\right) \\left(\\sin{\\left(nW \\right)} \\sin{\\left(nw + v \\right)} - \\cos{\\left(nW \\right)} \\cos{\\left(ninc \\right)} \\cos{\\left(nw + v \\right)}\\right) - \\left(\\sin{\\left(W \\right)} \\sin{\\left(v + w \\right)} \\cos{\\left(inc \\right)} - \\cos{\\left(W \\right)} \\cos{\\left(v + w \\right)}\\right) \\left(\\sin{\\left(nW \\right)} \\cos{\\left(ninc \\right)} \\cos{\\left(nw + v \\right)} + \\sin{\\left(nw + v \\right)} \\cos{\\left(nW \\right)}\\right) - \\sin{\\left(inc \\right)} \\sin{\\left(ninc \\right)} \\sin{\\left(v + w \\right)} \\cos{\\left(nw + v \\right)}\\right)}{e \\cos{\\left(v \\right)} + 1}\\\\\\frac{a \\left(e^{2} - 1\\right) \\left(- \\sin{\\left(inc \\right)} \\sin{\\left(v + w \\right)} \\cos{\\left(ninc \\right)} + \\sin{\\left(ninc \\right)} \\sin{\\left(W - nW \\right)} \\cos{\\left(v + w \\right)} + \\sin{\\left(ninc \\right)} \\sin{\\left(v + w \\right)} \\cos{\\left(inc \\right)} \\cos{\\left(W - nW \\right)}\\right)}{e \\cos{\\left(v \\right)} + 1}\\end{matrix}\\right]$"
      ],
      "text/plain": [
       "Matrix([\n",
       "[-a*(e**2 - 1)*((sin(W)*cos(v + w) + sin(v + w)*cos(W)*cos(inc))*(sin(nW)*cos(nw + v) + sin(nw + v)*cos(nW)*cos(ninc)) + (sin(W)*sin(v + w)*cos(inc) - cos(W)*cos(v + w))*(sin(nW)*sin(nw + v)*cos(ninc) - cos(nW)*cos(nw + v)) + sin(inc)*sin(ninc)*sin(nw + v)*sin(v + w))/(e*cos(v) + 1)],\n",
       "[ a*(e**2 - 1)*((sin(W)*cos(v + w) + sin(v + w)*cos(W)*cos(inc))*(sin(nW)*sin(nw + v) - cos(nW)*cos(ninc)*cos(nw + v)) - (sin(W)*sin(v + w)*cos(inc) - cos(W)*cos(v + w))*(sin(nW)*cos(ninc)*cos(nw + v) + sin(nw + v)*cos(nW)) - sin(inc)*sin(ninc)*sin(v + w)*cos(nw + v))/(e*cos(v) + 1)],\n",
       "[                                                                                                                                               a*(e**2 - 1)*(-sin(inc)*sin(v + w)*cos(ninc) + sin(ninc)*sin(W - nW)*cos(v + w) + sin(ninc)*sin(v + w)*cos(inc)*cos(W - nW))/(e*cos(v) + 1)]])"
      ]
     },
     "execution_count": 89,
     "metadata": {},
     "output_type": "execute_result"
    }
   ],
   "source": [
    "sp.simplify(tmp)"
   ]
  },
  {
   "cell_type": "code",
   "execution_count": 90,
   "metadata": {},
   "outputs": [
    {
     "data": {
      "text/latex": [
       "$\\displaystyle \\left[\\begin{matrix}\\frac{a \\left(0.620512701892219 - 0.375 \\cos{\\left(2 v \\right)}\\right) \\left(e^{2} - 1\\right)}{e \\cos{\\left(v \\right)} + 1}\\\\\\frac{a \\left(e^{2} - 1\\right) \\left(0.375 \\sin{\\left(2 v \\right)} + 0.0747595264191642\\right)}{e \\cos{\\left(v \\right)} + 1}\\\\\\frac{a \\left(e^{2} - 1\\right) \\left(0.0580127018922191 \\sin{\\left(v \\right)} - 0.96650635094611 \\cos{\\left(v \\right)}\\right)}{e \\cos{\\left(v \\right)} + 1}\\end{matrix}\\right]$"
      ],
      "text/plain": [
       "Matrix([\n",
       "[                 a*(0.620512701892219 - 0.375*cos(2*v))*(e**2 - 1)/(e*cos(v) + 1)],\n",
       "[                a*(e**2 - 1)*(0.375*sin(2*v) + 0.0747595264191642)/(e*cos(v) + 1)],\n",
       "[a*(e**2 - 1)*(0.0580127018922191*sin(v) - 0.96650635094611*cos(v))/(e*cos(v) + 1)]])"
      ]
     },
     "execution_count": 90,
     "metadata": {},
     "output_type": "execute_result"
    }
   ],
   "source": [
    "sp.simplify(tmp.subs(W,np.pi/4).subs(w,np.pi/6).subs(inc,np.pi/3).subs(nW,-np.pi/4).subs(nw,-np.pi/6).subs(ninc,-np.pi/3))"
   ]
  },
  {
   "cell_type": "code",
   "execution_count": 91,
   "metadata": {},
   "outputs": [
    {
     "data": {
      "text/latex": [
       "$\\displaystyle \\left[\\begin{matrix}\\sin{\\left(W \\right)} \\sin{\\left(v - w \\right)} \\cos{\\left(inc \\right)} + \\cos{\\left(W \\right)} \\cos{\\left(v - w \\right)} & - \\sin{\\left(W \\right)} \\cos{\\left(v - w \\right)} + \\sin{\\left(v - w \\right)} \\cos{\\left(W \\right)} \\cos{\\left(inc \\right)} & - \\sin{\\left(inc \\right)} \\sin{\\left(v - w \\right)}\\\\\\sin{\\left(W \\right)} \\cos{\\left(inc \\right)} \\cos{\\left(v - w \\right)} - \\sin{\\left(v - w \\right)} \\cos{\\left(W \\right)} & \\sin{\\left(W \\right)} \\sin{\\left(v - w \\right)} + \\cos{\\left(W \\right)} \\cos{\\left(inc \\right)} \\cos{\\left(v - w \\right)} & - \\sin{\\left(inc \\right)} \\cos{\\left(v - w \\right)}\\\\\\sin{\\left(W \\right)} \\sin{\\left(inc \\right)} & \\sin{\\left(inc \\right)} \\cos{\\left(W \\right)} & \\cos{\\left(inc \\right)}\\end{matrix}\\right]$"
      ],
      "text/plain": [
       "Matrix([\n",
       "[sin(W)*sin(v - w)*cos(inc) + cos(W)*cos(v - w), -sin(W)*cos(v - w) + sin(v - w)*cos(W)*cos(inc), -sin(inc)*sin(v - w)],\n",
       "[sin(W)*cos(inc)*cos(v - w) - sin(v - w)*cos(W),  sin(W)*sin(v - w) + cos(W)*cos(inc)*cos(v - w), -sin(inc)*cos(v - w)],\n",
       "[                               sin(W)*sin(inc),                                 sin(inc)*cos(W),             cos(inc)]])"
      ]
     },
     "execution_count": 91,
     "metadata": {},
     "output_type": "execute_result"
    }
   ],
   "source": [
    "xyzRotMat.subs(W,-W).subs(w,-w).subs(inc,-inc)"
   ]
  },
  {
   "cell_type": "code",
   "execution_count": 92,
   "metadata": {},
   "outputs": [
    {
     "data": {
      "text/latex": [
       "$\\displaystyle \\left[\\begin{matrix}- \\sin{\\left(W \\right)} \\sin{\\left(v + w \\right)} \\cos{\\left(inc \\right)} + \\cos{\\left(W \\right)} \\cos{\\left(v + w \\right)} & \\sin{\\left(W \\right)} \\cos{\\left(v + w \\right)} + \\sin{\\left(v + w \\right)} \\cos{\\left(W \\right)} \\cos{\\left(inc \\right)} & \\sin{\\left(inc \\right)} \\sin{\\left(v + w \\right)}\\\\- \\sin{\\left(W \\right)} \\cos{\\left(inc \\right)} \\cos{\\left(v + w \\right)} - \\sin{\\left(v + w \\right)} \\cos{\\left(W \\right)} & - \\sin{\\left(W \\right)} \\sin{\\left(v + w \\right)} + \\cos{\\left(W \\right)} \\cos{\\left(inc \\right)} \\cos{\\left(v + w \\right)} & \\sin{\\left(inc \\right)} \\cos{\\left(v + w \\right)}\\\\\\sin{\\left(W \\right)} \\sin{\\left(inc \\right)} & - \\sin{\\left(inc \\right)} \\cos{\\left(W \\right)} & \\cos{\\left(inc \\right)}\\end{matrix}\\right]$"
      ],
      "text/plain": [
       "Matrix([\n",
       "[-sin(W)*sin(v + w)*cos(inc) + cos(W)*cos(v + w),  sin(W)*cos(v + w) + sin(v + w)*cos(W)*cos(inc), sin(inc)*sin(v + w)],\n",
       "[-sin(W)*cos(inc)*cos(v + w) - sin(v + w)*cos(W), -sin(W)*sin(v + w) + cos(W)*cos(inc)*cos(v + w), sin(inc)*cos(v + w)],\n",
       "[                                sin(W)*sin(inc),                                -sin(inc)*cos(W),            cos(inc)]])"
      ]
     },
     "execution_count": 92,
     "metadata": {},
     "output_type": "execute_result"
    }
   ],
   "source": [
    "xyzRotMat"
   ]
  },
  {
   "cell_type": "code",
   "execution_count": 93,
   "metadata": {},
   "outputs": [],
   "source": [
    "twoDellipse_from3Dellipse = xyzRotMat.subs(W,-W).subs(w,-w).subs(inc,-inc)*threeDellipse"
   ]
  },
  {
   "cell_type": "code",
   "execution_count": 94,
   "metadata": {},
   "outputs": [
    {
     "data": {
      "text/latex": [
       "$\\displaystyle \\left[\\begin{matrix}\\frac{a \\left(e^{2} - 1\\right) \\left(4 \\sin{\\left(W \\right)} \\sin{\\left(w \\right)} \\cos{\\left(W \\right)} \\cos{\\left(inc \\right)} \\cos{\\left(w \\right)} + 2 \\cos^{2}{\\left(W \\right)} \\cos^{2}{\\left(inc \\right)} \\cos^{2}{\\left(v \\right)} - 2 \\cos^{2}{\\left(W \\right)} \\cos^{2}{\\left(inc \\right)} \\cos^{2}{\\left(w \\right)} - 2 \\cos^{2}{\\left(W \\right)} \\cos^{2}{\\left(v \\right)} - 2 \\cos^{2}{\\left(W \\right)} \\cos^{2}{\\left(w \\right)} + 2 \\cos^{2}{\\left(W \\right)} + 2 \\cos^{2}{\\left(w \\right)} - 1\\right)}{e \\cos{\\left(v \\right)} + 1}\\\\- \\frac{a \\left(e^{2} - 1\\right) \\left(\\sin{\\left(W \\right)} \\sin{\\left(v - w \\right)} + \\cos{\\left(W \\right)} \\cos{\\left(inc \\right)} \\cos{\\left(v - w \\right)}\\right) \\left(\\sin{\\left(W \\right)} \\cos{\\left(v + w \\right)} + \\sin{\\left(v + w \\right)} \\cos{\\left(W \\right)} \\cos{\\left(inc \\right)}\\right)}{e \\cos{\\left(v \\right)} + 1} + \\frac{a \\left(e^{2} - 1\\right) \\left(\\sin{\\left(W \\right)} \\sin{\\left(v + w \\right)} \\cos{\\left(inc \\right)} - \\cos{\\left(W \\right)} \\cos{\\left(v + w \\right)}\\right) \\left(\\sin{\\left(W \\right)} \\cos{\\left(inc \\right)} \\cos{\\left(v - w \\right)} - \\sin{\\left(v - w \\right)} \\cos{\\left(W \\right)}\\right)}{e \\cos{\\left(v \\right)} + 1} + \\frac{a \\left(e^{2} - 1\\right) \\sin^{2}{\\left(inc \\right)} \\sin{\\left(v + w \\right)} \\cos{\\left(v - w \\right)}}{e \\cos{\\left(v \\right)} + 1}\\\\- \\frac{2 a \\left(e^{2} - 1\\right) \\left(\\sin{\\left(W \\right)} \\cos{\\left(v + w \\right)} + \\sin{\\left(v + w \\right)} \\cos{\\left(W \\right)} \\cos{\\left(inc \\right)}\\right) \\sin{\\left(inc \\right)} \\cos{\\left(W \\right)}}{e \\cos{\\left(v \\right)} + 1}\\end{matrix}\\right]$"
      ],
      "text/plain": [
       "Matrix([\n",
       "[                                                                                                  a*(e**2 - 1)*(4*sin(W)*sin(w)*cos(W)*cos(inc)*cos(w) + 2*cos(W)**2*cos(inc)**2*cos(v)**2 - 2*cos(W)**2*cos(inc)**2*cos(w)**2 - 2*cos(W)**2*cos(v)**2 - 2*cos(W)**2*cos(w)**2 + 2*cos(W)**2 + 2*cos(w)**2 - 1)/(e*cos(v) + 1)],\n",
       "[-a*(e**2 - 1)*(sin(W)*sin(v - w) + cos(W)*cos(inc)*cos(v - w))*(sin(W)*cos(v + w) + sin(v + w)*cos(W)*cos(inc))/(e*cos(v) + 1) + a*(e**2 - 1)*(sin(W)*sin(v + w)*cos(inc) - cos(W)*cos(v + w))*(sin(W)*cos(inc)*cos(v - w) - sin(v - w)*cos(W))/(e*cos(v) + 1) + a*(e**2 - 1)*sin(inc)**2*sin(v + w)*cos(v - w)/(e*cos(v) + 1)],\n",
       "[                                                                                                                                                                                                                               -2*a*(e**2 - 1)*(sin(W)*cos(v + w) + sin(v + w)*cos(W)*cos(inc))*sin(inc)*cos(W)/(e*cos(v) + 1)]])"
      ]
     },
     "execution_count": 94,
     "metadata": {},
     "output_type": "execute_result"
    }
   ],
   "source": [
    "sp.simplify(twoDellipse_from3Dellipse)"
   ]
  },
  {
   "cell_type": "code",
   "execution_count": null,
   "metadata": {},
   "outputs": [],
   "source": []
  },
  {
   "cell_type": "code",
   "execution_count": null,
   "metadata": {},
   "outputs": [],
   "source": []
  },
  {
   "cell_type": "code",
   "execution_count": null,
   "metadata": {},
   "outputs": [],
   "source": []
  },
  {
   "cell_type": "code",
   "execution_count": null,
   "metadata": {},
   "outputs": [],
   "source": []
  },
  {
   "cell_type": "code",
   "execution_count": null,
   "metadata": {},
   "outputs": [],
   "source": []
  },
  {
   "cell_type": "code",
   "execution_count": null,
   "metadata": {},
   "outputs": [],
   "source": []
  }
 ],
 "metadata": {
  "kernelspec": {
   "display_name": "Python 3",
   "language": "python",
   "name": "python3"
  },
  "language_info": {
   "codemirror_mode": {
    "name": "ipython",
    "version": 3
   },
   "file_extension": ".py",
   "mimetype": "text/x-python",
   "name": "python",
   "nbconvert_exporter": "python",
   "pygments_lexer": "ipython3",
   "version": "3.6.9"
  }
 },
 "nbformat": 4,
 "nbformat_minor": 4
}
