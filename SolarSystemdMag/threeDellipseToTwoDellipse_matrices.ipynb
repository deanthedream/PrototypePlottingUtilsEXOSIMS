{
 "cells": [
  {
   "cell_type": "code",
   "execution_count": 1,
   "metadata": {},
   "outputs": [],
   "source": [
    "import sympy as sp\n",
    "import numpy as np"
   ]
  },
  {
   "cell_type": "code",
   "execution_count": 2,
   "metadata": {},
   "outputs": [],
   "source": [
    "a, e, b = sp.symbols('a e b', real=True, positive=True)\n",
    "W, w, inc, v, Omega, omega, nu = sp.symbols('W w inc v Omega omega nu',real=True)\n",
    "E, gamma, phi = sp.symbols('E gamma phi', real=True)\n",
    "thx, thy, thz = sp.symbols('thx thy thz', real=True)\n",
    "vx, vy, vz = sp.symbols('vx vy vz', real=True)\n",
    "c1x, c1y, c1z, c2x, c2y, c2z, c3x, c3y, c3z = sp.symbols('c1x c1y c1z c2x c2y c2z c3x c3y c3z', real=True)\n",
    "#cx, cy = sp.symbols('cx cy', real=True)\n",
    "Sxy, Sxz, Syx, Syz, Szx, Szy = sp.symbols('Sxy Sxz Syx Syz Szx Szy',real=True)"
   ]
  },
  {
   "cell_type": "code",
   "execution_count": 3,
   "metadata": {},
   "outputs": [],
   "source": [
    "eqnr = a*(1-e**2)/(1+e*sp.cos(v))"
   ]
  },
  {
   "cell_type": "code",
   "execution_count": 4,
   "metadata": {},
   "outputs": [],
   "source": [
    "eqnX = eqnr*(sp.cos(W)*sp.cos(w+v) - sp.sin(W)*sp.sin(w+v)*sp.cos(inc))\n",
    "eqnY = eqnr*(sp.sin(W)*sp.cos(w+v) + sp.cos(W)*sp.sin(w+v)*sp.cos(inc))\n",
    "eqnZ = eqnr*(sp.sin(inc)*sp.sin(w+v))"
   ]
  },
  {
   "cell_type": "markdown",
   "metadata": {},
   "source": [
    "Useful Trig Identitie 1"
   ]
  },
  {
   "cell_type": "code",
   "execution_count": 5,
   "metadata": {},
   "outputs": [],
   "source": [
    "sinApB = sp.sin(v)*sp.cos(w) + sp.cos(v)*sp.sin(w)#sin(v+w)\n",
    "sinAmB = sp.sin(v)*sp.cos(w) - sp.cos(v)*sp.sin(w)#sin(v-w)\n",
    "cosApB = sp.cos(v)*sp.cos(w) - sp.sin(v)*sp.sin(w)#cos(v+w)\n",
    "cosAmB = sp.cos(v)*sp.cos(w) + sp.sin(v)*sp.sin(w)#cos(v-w)"
   ]
  },
  {
   "cell_type": "markdown",
   "metadata": {},
   "source": [
    "# Affine Matrix Transformations of Ellipse to Ellipse"
   ]
  },
  {
   "cell_type": "code",
   "execution_count": null,
   "metadata": {},
   "outputs": [],
   "source": []
  },
  {
   "cell_type": "code",
   "execution_count": 6,
   "metadata": {},
   "outputs": [],
   "source": [
    "xyzMat = sp.Matrix([[a*sp.cos(E)],[b*sp.cos(E)],[0]])"
   ]
  },
  {
   "cell_type": "code",
   "execution_count": 7,
   "metadata": {},
   "outputs": [],
   "source": [
    "affineTransx = sp.Matrix([[1, 0, vx],[0, 1, 0],[0, 0, 1]])\n",
    "affineTransy = sp.Matrix([[1, 0, 0],[vy, 1, 0],[0, 0, 1]])\n",
    "affineTransz = sp.Matrix([[1, 0, 0],[0, 1, 0],[0, vz, 1]])"
   ]
  },
  {
   "cell_type": "code",
   "execution_count": 8,
   "metadata": {},
   "outputs": [],
   "source": [
    "affineRef = sp.Matrix([[-1,0,0],[0,1,0],[0,0,1]])"
   ]
  },
  {
   "cell_type": "code",
   "execution_count": 9,
   "metadata": {},
   "outputs": [],
   "source": [
    "affineScale1 = sp.Matrix([[c1x,0,0],[0,c1y,0],[0,0,1]])\n",
    "affineScale2 = sp.Matrix([[c2x,0,0],[0,1,0],[0,0,c2z]])\n",
    "affineScale3 = sp.Matrix([[1,0,0],[0,c3y,0],[0,0,c3z]])"
   ]
  },
  {
   "cell_type": "code",
   "execution_count": 10,
   "metadata": {},
   "outputs": [],
   "source": [
    "affineRotatez = sp.Matrix([[sp.cos(thz),-sp.sin(thz),0],[sp.sin(thz),sp.cos(thz),0],[0,0,1]])\n",
    "affineRotatey = sp.Matrix([[sp.cos(thy),0,-sp.sin(thy)],[0,1,0],[sp.sin(thy),0,sp.cos(thy)]])\n",
    "affineRotatex = sp.Matrix([[1,0,0],[0,sp.cos(thx),-sp.sin(thx)],[0,sp.sin(thx),sp.cos(thx)]])"
   ]
  },
  {
   "cell_type": "code",
   "execution_count": 11,
   "metadata": {},
   "outputs": [],
   "source": [
    "affineShear = sp.Matrix([[1,Sxy,Sxz],[Syx,1,Syz],[Szx,Szy,1]])"
   ]
  },
  {
   "cell_type": "markdown",
   "metadata": {},
   "source": [
    "NEED TO ADD ALL DIFFERENT KINDS OF SHEAR ROTATE SCALE, TRANSLATE"
   ]
  },
  {
   "cell_type": "code",
   "execution_count": 12,
   "metadata": {},
   "outputs": [],
   "source": [
    "out = affineShear*affineRotatex*affineRotatey*affineRotatez*affineScale1*affineRef*affineTransx*affineTransy*affineTransz*xyzMat"
   ]
  },
  {
   "cell_type": "code",
   "execution_count": 13,
   "metadata": {},
   "outputs": [],
   "source": [
    "#out #output quite large"
   ]
  },
  {
   "cell_type": "code",
   "execution_count": 14,
   "metadata": {},
   "outputs": [],
   "source": [
    "#sp.expand(out[0]**2) #/a**2 + out[1]**2/b**2) #output quite large"
   ]
  },
  {
   "cell_type": "code",
   "execution_count": 15,
   "metadata": {},
   "outputs": [],
   "source": [
    "#sp.Poly(out[0]**2,sp.cos(E)).coeffs()"
   ]
  },
  {
   "cell_type": "code",
   "execution_count": 16,
   "metadata": {},
   "outputs": [],
   "source": [
    "a11, a12, a13, a21, a22, a23, a31, a32, a33 = sp.symbols('a11 a12 a13 a21 a22 a23 a31 a32 a33',real=True)\n",
    "genMat = sp.Matrix([[a11, a12, a13], [a21, a22, a23], [a31, a32, a33]]) # a general matrix"
   ]
  },
  {
   "cell_type": "markdown",
   "metadata": {},
   "source": [
    "I think I need 3 points total on both original ellipse and projected ellipse to solve for all parameters. Ellipse center might work as well but they can't all be on the same line"
   ]
  },
  {
   "cell_type": "code",
   "execution_count": 17,
   "metadata": {},
   "outputs": [],
   "source": [
    "point1 = sp.Matrix([[eqnX.subs(a,1).subs(e,0.6).subs(w,np.pi/3).subs(v,0).subs(inc,np.pi/6)],[eqnY.subs(a,1).subs(e,0.6).subs(w,np.pi/3).subs(v,0).subs(inc,np.pi/6)],[eqnZ.subs(a,1).subs(e,0.6).subs(w,np.pi/3).subs(v,0).subs(inc,np.pi/6)]])\n",
    "point2 = sp.Matrix([[eqnX.subs(a,1).subs(e,0.6).subs(w,np.pi/3).subs(v,np.pi/2).subs(inc,np.pi/6)],[eqnY.subs(a,1).subs(e,0.6).subs(w,np.pi/3).subs(v,np.pi/2).subs(inc,np.pi/6)],[eqnZ.subs(a,1).subs(e,0.6).subs(w,np.pi/3).subs(v,np.pi/2).subs(inc,np.pi/6)]])\n",
    "point3 = sp.Matrix([[eqnX.subs(a,1).subs(e,0.6).subs(w,np.pi/3).subs(v,np.pi/3).subs(inc,np.pi/6)],[eqnY.subs(a,1).subs(e,0.6).subs(w,np.pi/3).subs(v,np.pi/3).subs(inc,np.pi/6)],[eqnZ.subs(a,1).subs(e,0.6).subs(w,np.pi/3).subs(v,np.pi/3).subs(inc,np.pi/6)]])"
   ]
  },
  {
   "cell_type": "code",
   "execution_count": 18,
   "metadata": {},
   "outputs": [],
   "source": [
    "#point1, point2, point3"
   ]
  },
  {
   "cell_type": "code",
   "execution_count": 19,
   "metadata": {},
   "outputs": [],
   "source": [
    "ppoint1 = sp.Matrix([[point1[0]],[point1[1]],[0]])\n",
    "ppoint2 = sp.Matrix([[point2[0]],[point2[1]],[0]])\n",
    "ppoint3 = sp.Matrix([[point3[0]],[point3[1]],[0]])"
   ]
  },
  {
   "cell_type": "markdown",
   "metadata": {},
   "source": [
    "Rotation Matrix From Wikipedia https://en.wikipedia.org/wiki/Orbital_elements"
   ]
  },
  {
   "cell_type": "code",
   "execution_count": 20,
   "metadata": {},
   "outputs": [],
   "source": [
    "rotX = sp.Matrix([[sp.cos(w+v),sp.sin(w+v),0],[-sp.sin(w+v),sp.cos(w+v),0],[0,0,1]])\n",
    "rotY = sp.Matrix([[1,0,0],[0,sp.cos(inc),sp.sin(inc)],[0,-sp.sin(inc),sp.cos(inc)]])\n",
    "rotZ = sp.Matrix([[sp.cos(W),sp.sin(W),0],[-sp.sin(W),sp.cos(W),0],[0,0,1]])\n",
    "rotnX = sp.Matrix([[sp.cos(-w+-v),sp.sin(-w+-v),0],[-sp.sin(-w+-v),sp.cos(-w+-v),0],[0,0,1]])\n",
    "rotnY = sp.Matrix([[1,0,0],[0,sp.cos(-inc),sp.sin(-inc)],[0,-sp.sin(-inc),sp.cos(-inc)]])\n",
    "rotnZ = sp.Matrix([[sp.cos(-W),sp.sin(-W),0],[-sp.sin(-W),sp.cos(-W),0],[0,0,1]])"
   ]
  },
  {
   "cell_type": "code",
   "execution_count": 21,
   "metadata": {},
   "outputs": [],
   "source": [
    "xyzRotMat = rotX*rotY*rotZ"
   ]
  },
  {
   "cell_type": "code",
   "execution_count": 22,
   "metadata": {},
   "outputs": [
    {
     "data": {
      "text/latex": [
       "$\\displaystyle \\left[\\begin{matrix}- \\sin{\\left(W \\right)} \\sin{\\left(v + w \\right)} \\cos{\\left(inc \\right)} + \\cos{\\left(W \\right)} \\cos{\\left(v + w \\right)} & \\sin{\\left(W \\right)} \\cos{\\left(v + w \\right)} + \\sin{\\left(v + w \\right)} \\cos{\\left(W \\right)} \\cos{\\left(inc \\right)} & \\sin{\\left(inc \\right)} \\sin{\\left(v + w \\right)}\\\\- \\sin{\\left(W \\right)} \\cos{\\left(inc \\right)} \\cos{\\left(v + w \\right)} - \\sin{\\left(v + w \\right)} \\cos{\\left(W \\right)} & - \\sin{\\left(W \\right)} \\sin{\\left(v + w \\right)} + \\cos{\\left(W \\right)} \\cos{\\left(inc \\right)} \\cos{\\left(v + w \\right)} & \\sin{\\left(inc \\right)} \\cos{\\left(v + w \\right)}\\\\\\sin{\\left(W \\right)} \\sin{\\left(inc \\right)} & - \\sin{\\left(inc \\right)} \\cos{\\left(W \\right)} & \\cos{\\left(inc \\right)}\\end{matrix}\\right]$"
      ],
      "text/plain": [
       "Matrix([\n",
       "[-sin(W)*sin(v + w)*cos(inc) + cos(W)*cos(v + w),  sin(W)*cos(v + w) + sin(v + w)*cos(W)*cos(inc), sin(inc)*sin(v + w)],\n",
       "[-sin(W)*cos(inc)*cos(v + w) - sin(v + w)*cos(W), -sin(W)*sin(v + w) + cos(W)*cos(inc)*cos(v + w), sin(inc)*cos(v + w)],\n",
       "[                                sin(W)*sin(inc),                                -sin(inc)*cos(W),            cos(inc)]])"
      ]
     },
     "execution_count": 22,
     "metadata": {},
     "output_type": "execute_result"
    }
   ],
   "source": [
    "xyzRotMat"
   ]
  },
  {
   "cell_type": "markdown",
   "metadata": {},
   "source": [
    "### [X Y Z] is the first row of xyzRotMat"
   ]
  },
  {
   "cell_type": "code",
   "execution_count": 23,
   "metadata": {},
   "outputs": [
    {
     "data": {
      "text/latex": [
       "$\\displaystyle \\left[\\begin{matrix}- \\sin{\\left(W \\right)} \\sin{\\left(v + w \\right)} \\cos{\\left(inc \\right)} + \\cos{\\left(W \\right)} \\cos{\\left(v + w \\right)} & \\sin{\\left(W \\right)} \\cos{\\left(v + w \\right)} + \\sin{\\left(v + w \\right)} \\cos{\\left(W \\right)} \\cos{\\left(inc \\right)} & \\sin{\\left(inc \\right)} \\sin{\\left(v + w \\right)}\\end{matrix}\\right]$"
      ],
      "text/plain": [
       "Matrix([[-sin(W)*sin(v + w)*cos(inc) + cos(W)*cos(v + w), sin(W)*cos(v + w) + sin(v + w)*cos(W)*cos(inc), sin(inc)*sin(v + w)]])"
      ]
     },
     "execution_count": 23,
     "metadata": {},
     "output_type": "execute_result"
    }
   ],
   "source": [
    "xyzRotMat[0,:]"
   ]
  },
  {
   "cell_type": "markdown",
   "metadata": {},
   "source": [
    "### Rotation Matrix Order Matters. sp.simplify(rotX.inv()*rotY.inv()*rotX*rotY) != sp.simplify(rotY.inv()*rotX.inv()*rotX*rotY)"
   ]
  },
  {
   "cell_type": "code",
   "execution_count": 24,
   "metadata": {},
   "outputs": [
    {
     "data": {
      "text/latex": [
       "$\\displaystyle \\left[\\begin{matrix}\\frac{1 - \\sin^{2}{\\left(v + w \\right)}}{\\cos{\\left(v + w \\right)}} & - \\sin{\\left(v + w \\right)} & 0\\\\\\sin{\\left(v + w \\right)} & \\cos{\\left(v + w \\right)} & 0\\\\0 & 0 & 1\\end{matrix}\\right]$"
      ],
      "text/plain": [
       "Matrix([\n",
       "[(1 - sin(v + w)**2)/cos(v + w), -sin(v + w), 0],\n",
       "[                    sin(v + w),  cos(v + w), 0],\n",
       "[                             0,           0, 1]])"
      ]
     },
     "execution_count": 24,
     "metadata": {},
     "output_type": "execute_result"
    }
   ],
   "source": [
    "rotX.inv()"
   ]
  },
  {
   "cell_type": "code",
   "execution_count": 25,
   "metadata": {},
   "outputs": [
    {
     "data": {
      "text/latex": [
       "$\\displaystyle \\left[\\begin{matrix}\\cos{\\left(W \\right)} & - \\sin{\\left(W \\right)} & 0\\\\\\sin{\\left(W \\right)} & \\cos{\\left(W \\right)} & 0\\\\0 & 0 & 1\\end{matrix}\\right]$"
      ],
      "text/plain": [
       "Matrix([\n",
       "[cos(W), -sin(W), 0],\n",
       "[sin(W),  cos(W), 0],\n",
       "[     0,       0, 1]])"
      ]
     },
     "execution_count": 25,
     "metadata": {},
     "output_type": "execute_result"
    }
   ],
   "source": [
    "sp.simplify(rotZ.inv())"
   ]
  },
  {
   "cell_type": "code",
   "execution_count": 26,
   "metadata": {},
   "outputs": [
    {
     "data": {
      "text/latex": [
       "$\\displaystyle \\left[\\begin{matrix}1 & 0 & 0\\\\0 & 1 & 0\\\\0 & 0 & 1\\end{matrix}\\right]$"
      ],
      "text/plain": [
       "Matrix([\n",
       "[1, 0, 0],\n",
       "[0, 1, 0],\n",
       "[0, 0, 1]])"
      ]
     },
     "execution_count": 26,
     "metadata": {},
     "output_type": "execute_result"
    }
   ],
   "source": [
    "sp.simplify(rotX.inv()*rotX)"
   ]
  },
  {
   "cell_type": "code",
   "execution_count": 27,
   "metadata": {},
   "outputs": [
    {
     "data": {
      "text/latex": [
       "$\\displaystyle \\left[\\begin{matrix}1 & 0 & 0\\\\0 & 1 & 0\\\\0 & 0 & 1\\end{matrix}\\right]$"
      ],
      "text/plain": [
       "Matrix([\n",
       "[1, 0, 0],\n",
       "[0, 1, 0],\n",
       "[0, 0, 1]])"
      ]
     },
     "execution_count": 27,
     "metadata": {},
     "output_type": "execute_result"
    }
   ],
   "source": [
    "sp.simplify(rotZ.inv()*rotY.inv()*rotX.inv()*rotX*rotY*rotZ)"
   ]
  },
  {
   "cell_type": "code",
   "execution_count": 28,
   "metadata": {},
   "outputs": [],
   "source": [
    "#sp.simplify(xyzRotMatInv*xyzRotMat)"
   ]
  },
  {
   "cell_type": "markdown",
   "metadata": {},
   "source": [
    "## Equivalent Rotation Matrix Inverse"
   ]
  },
  {
   "cell_type": "code",
   "execution_count": 29,
   "metadata": {},
   "outputs": [],
   "source": [
    "xyzRotMatInv = rotZ.inv()*rotY.inv()*rotX.inv()"
   ]
  },
  {
   "cell_type": "code",
   "execution_count": 30,
   "metadata": {},
   "outputs": [
    {
     "data": {
      "text/latex": [
       "$\\displaystyle \\left[\\begin{matrix}- \\sin{\\left(W \\right)} \\sin{\\left(v + w \\right)} \\cos{\\left(inc \\right)} + \\cos{\\left(W \\right)} \\cos{\\left(v + w \\right)} & - \\sin{\\left(W \\right)} \\cos{\\left(inc \\right)} \\cos{\\left(v + w \\right)} - \\sin{\\left(v + w \\right)} \\cos{\\left(W \\right)} & \\sin{\\left(W \\right)} \\sin{\\left(inc \\right)}\\\\\\sin{\\left(W \\right)} \\cos{\\left(v + w \\right)} + \\sin{\\left(v + w \\right)} \\cos{\\left(W \\right)} \\cos{\\left(inc \\right)} & - \\sin{\\left(W \\right)} \\sin{\\left(v + w \\right)} + \\cos{\\left(W \\right)} \\cos{\\left(inc \\right)} \\cos{\\left(v + w \\right)} & - \\sin{\\left(inc \\right)} \\cos{\\left(W \\right)}\\\\\\sin{\\left(inc \\right)} \\sin{\\left(v + w \\right)} & \\sin{\\left(inc \\right)} \\cos{\\left(v + w \\right)} & \\cos{\\left(inc \\right)}\\end{matrix}\\right]$"
      ],
      "text/plain": [
       "Matrix([\n",
       "[-sin(W)*sin(v + w)*cos(inc) + cos(W)*cos(v + w), -sin(W)*cos(inc)*cos(v + w) - sin(v + w)*cos(W),  sin(W)*sin(inc)],\n",
       "[ sin(W)*cos(v + w) + sin(v + w)*cos(W)*cos(inc), -sin(W)*sin(v + w) + cos(W)*cos(inc)*cos(v + w), -sin(inc)*cos(W)],\n",
       "[                            sin(inc)*sin(v + w),                             sin(inc)*cos(v + w),         cos(inc)]])"
      ]
     },
     "execution_count": 30,
     "metadata": {},
     "output_type": "execute_result"
    }
   ],
   "source": [
    "sp.simplify(xyzRotMatInv)"
   ]
  },
  {
   "cell_type": "code",
   "execution_count": 31,
   "metadata": {},
   "outputs": [],
   "source": [
    "xyzRotMatInv2 = rotnX*rotnY*rotnZ"
   ]
  },
  {
   "cell_type": "code",
   "execution_count": 32,
   "metadata": {},
   "outputs": [
    {
     "data": {
      "text/latex": [
       "$\\displaystyle \\left[\\begin{matrix}- \\sin{\\left(W \\right)} \\sin{\\left(v + w \\right)} \\cos{\\left(inc \\right)} + \\cos{\\left(W \\right)} \\cos{\\left(v + w \\right)} & - \\sin{\\left(W \\right)} \\cos{\\left(v + w \\right)} - \\sin{\\left(v + w \\right)} \\cos{\\left(W \\right)} \\cos{\\left(inc \\right)} & \\sin{\\left(inc \\right)} \\sin{\\left(v + w \\right)}\\\\\\sin{\\left(W \\right)} \\cos{\\left(inc \\right)} \\cos{\\left(v + w \\right)} + \\sin{\\left(v + w \\right)} \\cos{\\left(W \\right)} & - \\sin{\\left(W \\right)} \\sin{\\left(v + w \\right)} + \\cos{\\left(W \\right)} \\cos{\\left(inc \\right)} \\cos{\\left(v + w \\right)} & - \\sin{\\left(inc \\right)} \\cos{\\left(v + w \\right)}\\\\\\sin{\\left(W \\right)} \\sin{\\left(inc \\right)} & \\sin{\\left(inc \\right)} \\cos{\\left(W \\right)} & \\cos{\\left(inc \\right)}\\end{matrix}\\right]$"
      ],
      "text/plain": [
       "Matrix([\n",
       "[-sin(W)*sin(v + w)*cos(inc) + cos(W)*cos(v + w), -sin(W)*cos(v + w) - sin(v + w)*cos(W)*cos(inc),  sin(inc)*sin(v + w)],\n",
       "[ sin(W)*cos(inc)*cos(v + w) + sin(v + w)*cos(W), -sin(W)*sin(v + w) + cos(W)*cos(inc)*cos(v + w), -sin(inc)*cos(v + w)],\n",
       "[                                sin(W)*sin(inc),                                 sin(inc)*cos(W),             cos(inc)]])"
      ]
     },
     "execution_count": 32,
     "metadata": {},
     "output_type": "execute_result"
    }
   ],
   "source": [
    "sp.simplify(xyzRotMatInv2)"
   ]
  },
  {
   "cell_type": "code",
   "execution_count": null,
   "metadata": {},
   "outputs": [],
   "source": []
  },
  {
   "cell_type": "code",
   "execution_count": 33,
   "metadata": {},
   "outputs": [
    {
     "data": {
      "text/latex": [
       "$\\displaystyle \\left[\\begin{matrix}- \\sin{\\left(W \\right)} \\sin{\\left(v + w \\right)} \\cos{\\left(inc \\right)} + \\cos{\\left(W \\right)} \\cos{\\left(v + w \\right)} & \\sin{\\left(W \\right)} \\cos{\\left(v + w \\right)} + \\sin{\\left(v + w \\right)} \\cos{\\left(W \\right)} \\cos{\\left(inc \\right)} & \\sin{\\left(inc \\right)} \\sin{\\left(v + w \\right)}\\\\- \\sin{\\left(W \\right)} \\cos{\\left(inc \\right)} \\cos{\\left(v + w \\right)} - \\sin{\\left(v + w \\right)} \\cos{\\left(W \\right)} & - \\sin{\\left(W \\right)} \\sin{\\left(v + w \\right)} + \\cos{\\left(W \\right)} \\cos{\\left(inc \\right)} \\cos{\\left(v + w \\right)} & \\sin{\\left(inc \\right)} \\cos{\\left(v + w \\right)}\\\\\\sin{\\left(W \\right)} \\sin{\\left(inc \\right)} & - \\sin{\\left(inc \\right)} \\cos{\\left(W \\right)} & \\cos{\\left(inc \\right)}\\end{matrix}\\right]$"
      ],
      "text/plain": [
       "Matrix([\n",
       "[-sin(W)*sin(v + w)*cos(inc) + cos(W)*cos(v + w),  sin(W)*cos(v + w) + sin(v + w)*cos(W)*cos(inc), sin(inc)*sin(v + w)],\n",
       "[-sin(W)*cos(inc)*cos(v + w) - sin(v + w)*cos(W), -sin(W)*sin(v + w) + cos(W)*cos(inc)*cos(v + w), sin(inc)*cos(v + w)],\n",
       "[                                sin(W)*sin(inc),                                -sin(inc)*cos(W),            cos(inc)]])"
      ]
     },
     "execution_count": 33,
     "metadata": {},
     "output_type": "execute_result"
    }
   ],
   "source": [
    "xyzRotMat"
   ]
  },
  {
   "cell_type": "markdown",
   "metadata": {},
   "source": [
    "## THE FOLLOWING ARE IDENTICAL!!! USE THEM"
   ]
  },
  {
   "cell_type": "code",
   "execution_count": 34,
   "metadata": {},
   "outputs": [
    {
     "data": {
      "text/latex": [
       "$\\displaystyle \\left[\\begin{matrix}- \\sin{\\left(W \\right)} \\sin{\\left(v + w \\right)} \\cos{\\left(inc \\right)} + \\cos{\\left(W \\right)} \\cos{\\left(v + w \\right)}\\\\\\sin{\\left(W \\right)} \\cos{\\left(v + w \\right)} + \\sin{\\left(v + w \\right)} \\cos{\\left(W \\right)} \\cos{\\left(inc \\right)}\\\\\\sin{\\left(inc \\right)} \\sin{\\left(v + w \\right)}\\end{matrix}\\right]$"
      ],
      "text/plain": [
       "Matrix([\n",
       "[-sin(W)*sin(v + w)*cos(inc) + cos(W)*cos(v + w)],\n",
       "[ sin(W)*cos(v + w) + sin(v + w)*cos(W)*cos(inc)],\n",
       "[                            sin(inc)*sin(v + w)]])"
      ]
     },
     "execution_count": 34,
     "metadata": {},
     "output_type": "execute_result"
    }
   ],
   "source": [
    "sp.simplify(xyzRotMatInv*sp.Matrix([[1],[0],[0]]))"
   ]
  },
  {
   "cell_type": "code",
   "execution_count": 35,
   "metadata": {},
   "outputs": [
    {
     "data": {
      "text/latex": [
       "$\\displaystyle \\left[\\begin{matrix}- \\sin{\\left(W \\right)} \\sin{\\left(v + w \\right)} \\cos{\\left(inc \\right)} + \\cos{\\left(W \\right)} \\cos{\\left(v + w \\right)}\\\\\\sin{\\left(W \\right)} \\cos{\\left(v + w \\right)} + \\sin{\\left(v + w \\right)} \\cos{\\left(W \\right)} \\cos{\\left(inc \\right)}\\\\\\sin{\\left(inc \\right)} \\sin{\\left(v + w \\right)}\\end{matrix}\\right]$"
      ],
      "text/plain": [
       "Matrix([\n",
       "[-sin(W)*sin(v + w)*cos(inc) + cos(W)*cos(v + w)],\n",
       "[ sin(W)*cos(v + w) + sin(v + w)*cos(W)*cos(inc)],\n",
       "[                            sin(inc)*sin(v + w)]])"
      ]
     },
     "execution_count": 35,
     "metadata": {},
     "output_type": "execute_result"
    }
   ],
   "source": [
    "sp.Matrix([[eqnX/eqnr],[eqnY/eqnr],[eqnZ/eqnr]])"
   ]
  },
  {
   "cell_type": "code",
   "execution_count": null,
   "metadata": {},
   "outputs": [],
   "source": []
  },
  {
   "cell_type": "code",
   "execution_count": null,
   "metadata": {},
   "outputs": [],
   "source": []
  },
  {
   "cell_type": "markdown",
   "metadata": {},
   "source": [
    "I need to shove things into this form"
   ]
  },
  {
   "cell_type": "code",
   "execution_count": 36,
   "metadata": {},
   "outputs": [],
   "source": [
    "th = sp.symbols('th', real=True)\n",
    "nW, nw, ninc = sp.symbols('nW nw ninc', real=True)"
   ]
  },
  {
   "cell_type": "code",
   "execution_count": 93,
   "metadata": {},
   "outputs": [],
   "source": [
    "twoDellipse = sp.Matrix([[a*sp.cos(E)],[b*sp.sin(E)],[0]])"
   ]
  },
  {
   "cell_type": "code",
   "execution_count": 94,
   "metadata": {},
   "outputs": [
    {
     "data": {
      "text/latex": [
       "$\\displaystyle \\left[\\begin{matrix}a \\cos{\\left(E \\right)}\\\\b \\sin{\\left(E \\right)}\\\\0\\end{matrix}\\right]$"
      ],
      "text/plain": [
       "Matrix([\n",
       "[a*cos(E)],\n",
       "[b*sin(E)],\n",
       "[       0]])"
      ]
     },
     "execution_count": 94,
     "metadata": {},
     "output_type": "execute_result"
    }
   ],
   "source": [
    "twoDellipse"
   ]
  },
  {
   "cell_type": "markdown",
   "metadata": {},
   "source": [
    "(continued) Starting with this form"
   ]
  },
  {
   "cell_type": "code",
   "execution_count": 100,
   "metadata": {},
   "outputs": [],
   "source": [
    "threeDellipse = sp.Matrix([[eqnX],[eqnY],[eqnZ]])"
   ]
  },
  {
   "cell_type": "code",
   "execution_count": 101,
   "metadata": {},
   "outputs": [
    {
     "data": {
      "text/latex": [
       "$\\displaystyle \\left[\\begin{matrix}\\frac{a \\left(1 - e^{2}\\right) \\left(- \\sin{\\left(W \\right)} \\sin{\\left(v + w \\right)} \\cos{\\left(inc \\right)} + \\cos{\\left(W \\right)} \\cos{\\left(v + w \\right)}\\right)}{e \\cos{\\left(v \\right)} + 1}\\\\\\frac{a \\left(1 - e^{2}\\right) \\left(\\sin{\\left(W \\right)} \\cos{\\left(v + w \\right)} + \\sin{\\left(v + w \\right)} \\cos{\\left(W \\right)} \\cos{\\left(inc \\right)}\\right)}{e \\cos{\\left(v \\right)} + 1}\\\\\\frac{a \\left(1 - e^{2}\\right) \\sin{\\left(inc \\right)} \\sin{\\left(v + w \\right)}}{e \\cos{\\left(v \\right)} + 1}\\end{matrix}\\right]$"
      ],
      "text/plain": [
       "Matrix([\n",
       "[a*(1 - e**2)*(-sin(W)*sin(v + w)*cos(inc) + cos(W)*cos(v + w))/(e*cos(v) + 1)],\n",
       "[ a*(1 - e**2)*(sin(W)*cos(v + w) + sin(v + w)*cos(W)*cos(inc))/(e*cos(v) + 1)],\n",
       "[                              a*(1 - e**2)*sin(inc)*sin(v + w)/(e*cos(v) + 1)]])"
      ]
     },
     "execution_count": 101,
     "metadata": {},
     "output_type": "execute_result"
    }
   ],
   "source": [
    "threeDellipse"
   ]
  },
  {
   "cell_type": "code",
   "execution_count": 102,
   "metadata": {},
   "outputs": [],
   "source": [
    "#rotated2Dellipse = sp.simplify(rotY.inv()*rotX.inv()*twoDellipse) #Huh? why was this inverse?"
   ]
  },
  {
   "cell_type": "code",
   "execution_count": 123,
   "metadata": {},
   "outputs": [],
   "source": [
    "rotated2Dellipse = sp.simplify((rotY*rotX*twoDellipse).subs(v+w,w)) # do the rotation but only use the w angle, not nu"
   ]
  },
  {
   "cell_type": "code",
   "execution_count": 124,
   "metadata": {},
   "outputs": [],
   "source": [
    "rotated2Dellipse = rotated2Dellipse.subs(sp.sin(v+w),sinApB).subs(sp.cos(v+w),cosApB)"
   ]
  },
  {
   "cell_type": "code",
   "execution_count": 125,
   "metadata": {},
   "outputs": [
    {
     "data": {
      "text/latex": [
       "$\\displaystyle \\left[\\begin{matrix}a \\cos{\\left(E \\right)} \\cos{\\left(w \\right)} + b \\sin{\\left(E \\right)} \\sin{\\left(w \\right)}\\\\\\left(- a \\sin{\\left(w \\right)} \\cos{\\left(E \\right)} + b \\sin{\\left(E \\right)} \\cos{\\left(w \\right)}\\right) \\cos{\\left(inc \\right)}\\\\\\left(a \\sin{\\left(w \\right)} \\cos{\\left(E \\right)} - b \\sin{\\left(E \\right)} \\cos{\\left(w \\right)}\\right) \\sin{\\left(inc \\right)}\\end{matrix}\\right]$"
      ],
      "text/plain": [
       "Matrix([\n",
       "[            a*cos(E)*cos(w) + b*sin(E)*sin(w)],\n",
       "[(-a*sin(w)*cos(E) + b*sin(E)*cos(w))*cos(inc)],\n",
       "[ (a*sin(w)*cos(E) - b*sin(E)*cos(w))*sin(inc)]])"
      ]
     },
     "execution_count": 125,
     "metadata": {},
     "output_type": "execute_result"
    }
   ],
   "source": [
    "rotated2Dellipse"
   ]
  },
  {
   "cell_type": "code",
   "execution_count": 126,
   "metadata": {},
   "outputs": [],
   "source": [
    "eEqnab = sp.sqrt(1-(b/a)**2)"
   ]
  },
  {
   "cell_type": "code",
   "execution_count": 127,
   "metadata": {},
   "outputs": [],
   "source": [
    "EnuEqn = sp.acos(e+sp.cos(v))/(1+e*sp.cos(v))\n",
    "cosnuToEEqn = (sp.cos(E)-e)/(1-e*sp.cos(E))\n",
    "sinnuToEEqn = sp.sqrt(1-e**2)*sp.sin(E)/(1-e*sp.cos(E))"
   ]
  },
  {
   "cell_type": "code",
   "execution_count": 128,
   "metadata": {},
   "outputs": [
    {
     "data": {
      "text/latex": [
       "$\\displaystyle a \\cos{\\left(E \\right)} \\cos{\\left(w \\right)} + b \\sin{\\left(E \\right)} \\sin{\\left(w \\right)}$"
      ],
      "text/plain": [
       "a*cos(E)*cos(w) + b*sin(E)*sin(w)"
      ]
     },
     "execution_count": 128,
     "metadata": {},
     "output_type": "execute_result"
    }
   ],
   "source": [
    "rotated2Dellipse[0]"
   ]
  },
  {
   "cell_type": "code",
   "execution_count": 129,
   "metadata": {},
   "outputs": [],
   "source": [
    "xp = sp.simplify(rotated2Dellipse[0].subs(sp.cos(v),cosnuToEEqn).subs(sp.sin(v),sinnuToEEqn).subs(e,eEqnab))\n",
    "yp = sp.simplify(rotated2Dellipse[1].subs(sp.cos(v),cosnuToEEqn).subs(sp.sin(v),sinnuToEEqn).subs(e,eEqnab))"
   ]
  },
  {
   "cell_type": "code",
   "execution_count": 130,
   "metadata": {},
   "outputs": [],
   "source": [
    "#print(sp.latex(xp)) #this may be groupable... but not every term has cosE"
   ]
  },
  {
   "cell_type": "code",
   "execution_count": 131,
   "metadata": {},
   "outputs": [
    {
     "data": {
      "text/latex": [
       "$\\displaystyle - a \\sin{\\left(w \\right)} \\cos{\\left(E \\right)} \\cos{\\left(inc \\right)} + b \\sin{\\left(E \\right)} \\cos{\\left(inc \\right)} \\cos{\\left(w \\right)}$"
      ],
      "text/plain": [
       "-a*sin(w)*cos(E)*cos(inc) + b*sin(E)*cos(inc)*cos(w)"
      ]
     },
     "execution_count": 131,
     "metadata": {},
     "output_type": "execute_result"
    }
   ],
   "source": [
    "#sp.expand(xp)\n",
    "sp.expand(yp)"
   ]
  },
  {
   "cell_type": "code",
   "execution_count": 132,
   "metadata": {},
   "outputs": [
    {
     "data": {
      "text/latex": [
       "$\\displaystyle \\left[\\begin{matrix}a \\cos{\\left(E \\right)} \\cos{\\left(w \\right)} + b \\sin{\\left(E \\right)} \\sin{\\left(w \\right)}\\\\\\left(- a \\sin{\\left(w \\right)} \\cos{\\left(E \\right)} + b \\sin{\\left(E \\right)} \\cos{\\left(w \\right)}\\right) \\cos{\\left(inc \\right)}\\\\\\left(a \\sin{\\left(w \\right)} \\cos{\\left(E \\right)} - b \\sin{\\left(E \\right)} \\cos{\\left(w \\right)}\\right) \\sin{\\left(inc \\right)}\\end{matrix}\\right]$"
      ],
      "text/plain": [
       "Matrix([\n",
       "[            a*cos(E)*cos(w) + b*sin(E)*sin(w)],\n",
       "[(-a*sin(w)*cos(E) + b*sin(E)*cos(w))*cos(inc)],\n",
       "[ (a*sin(w)*cos(E) - b*sin(E)*cos(w))*sin(inc)]])"
      ]
     },
     "execution_count": 132,
     "metadata": {},
     "output_type": "execute_result"
    }
   ],
   "source": [
    "rotated2Dellipse"
   ]
  },
  {
   "cell_type": "code",
   "execution_count": 142,
   "metadata": {},
   "outputs": [
    {
     "name": "stdout",
     "output_type": "stream",
     "text": [
      "\\left[\\begin{matrix}a \\cos{\\left(E \\right)} \\cos{\\left(w \\right)} + b \\sin{\\left(E \\right)} \\sin{\\left(w \\right)}\\\\\\left(- a \\sin{\\left(w \\right)} \\cos{\\left(E \\right)} + b \\sin{\\left(E \\right)} \\cos{\\left(w \\right)}\\right) \\cos{\\left(inc \\right)}\\\\\\left(a \\sin{\\left(w \\right)} \\cos{\\left(E \\right)} - b \\sin{\\left(E \\right)} \\cos{\\left(w \\right)}\\right) \\sin{\\left(inc \\right)}\\end{matrix}\\right]\n"
     ]
    }
   ],
   "source": [
    "print(sp.latex(rotated2Dellipse))"
   ]
  },
  {
   "cell_type": "code",
   "execution_count": 143,
   "metadata": {},
   "outputs": [],
   "source": [
    "def extractCoeffs(eqn,var1,var2):\n",
    "    #Group the Determinant. The coefficients of var1^2, var1, var2^2, var2, and 1 are the values for a and b\n",
    "    coeffsvar1 = sp.Poly(eqn,var1)\n",
    "    #Only 1 coefficient, ff, for var1^2\n",
    "    ff = coeffsvar1.coeffs()[0] #var1^2 term\n",
    "    #2 Terms with var1, var1 and var1var2\n",
    "    tmpvar1Coeffs = coeffsvar1.coeffs()[1] #should have any terms with var1^1 (including var1var2)\n",
    "    twog = sp.Poly(tmpvar1Coeffs,var2).coeffs()[0] #this is the var1y term\n",
    "    twok = sp.Poly(tmpvar1Coeffs,var2).coeffs()[1] #this is the var1 term\n",
    "    #In coeffsvar1.coeffs()[2], there is a C0*var2 and C1 terms\n",
    "    tmpmm = coeffsvar1.coeffs()[2]\n",
    "    tmpmmcoeffs = sp.Poly(tmpmm,var2)\n",
    "    mm = tmpmmcoeffs.coeffs()[2] #contains no var1 or var2 terms\n",
    "    coeffsvar2 = sp.Poly(eqn,var2)\n",
    "    #Only 1 coefficient, C, for var2^2\n",
    "    hh = coeffsvar2.coeffs()[0]\n",
    "    #2 Terms with var2, var2 and var1var2\n",
    "    tmpvar2Coeffs = coeffsvar2.coeffs()[1] #Terms containing only 1 var2\n",
    "    twog_2 = sp.Poly(tmpvar2Coeffs,var1).coeffs()[0] #this is the var1var2 term\n",
    "    twol = sp.Poly(tmpvar2Coeffs,var1).coeffs()[1] #this is the var1 term\n",
    "    #In coeffsvar2.coeffs()[2], there is a C0*var1 and C1 terms\n",
    "    tmpmm2 = coeffsvar2.coeffs()[2]\n",
    "    tmpmmcoeffs2 = sp.Poly(tmpmm2,var1)\n",
    "    mm2 = tmpmmcoeffs2.coeffs()[2] #contains no var1 or var2 terms\n",
    "    bool1 = mm == mm2 #NEED TO VERIFY THIS\n",
    "    bool2 = var1 in mm.free_symbols\n",
    "    bool3 = twog == twog_2 #NEED TO VERIFY THIS. SHOULD BE XY TERM\n",
    "    bool4 = var2 in coeffsvar1.coeffs()[2].free_symbols\n",
    "    return ff, twog, hh, twok, twol, mm, bool1, bool2, bool3, bool4"
   ]
  },
  {
   "cell_type": "code",
   "execution_count": 138,
   "metadata": {},
   "outputs": [],
   "source": [
    "#sp.expand(xp**2+xp*yp+yp**2+xp+yp)\n",
    "A, B, f, g, h, k, l, m = sp.symbols('A B f g h k l m',real=True)\n",
    "out = sp.expand((xp**2+xp*yp+yp**2+xp+yp).subs(-a+sp.sqrt(a**2-b**2)*sp.cos(E),A).subs(sp.sqrt(a**2-b**2),B)).subs(sp.cos(E),x).subs(sp.sin(E),y)\n",
    "out2 = sp.expand((f*xp**2+2*g*xp*yp+h*yp**2+2*k*xp+2*l*yp).subs(-a+sp.sqrt(a**2-b**2)*sp.cos(E),A).subs(sp.sqrt(a**2-b**2),B)).subs(sp.cos(E),x).subs(sp.sin(E),y)"
   ]
  },
  {
   "cell_type": "code",
   "execution_count": 139,
   "metadata": {},
   "outputs": [
    {
     "data": {
      "text/latex": [
       "$\\displaystyle a^{2} x^{2} \\sin^{2}{\\left(w \\right)} \\cos^{2}{\\left(inc \\right)} - a^{2} x^{2} \\sin{\\left(w \\right)} \\cos{\\left(inc \\right)} \\cos{\\left(w \\right)} + a^{2} x^{2} \\cos^{2}{\\left(w \\right)} - a b x y \\sin^{2}{\\left(w \\right)} \\cos{\\left(inc \\right)} - 2 a b x y \\sin{\\left(w \\right)} \\cos^{2}{\\left(inc \\right)} \\cos{\\left(w \\right)} + 2 a b x y \\sin{\\left(w \\right)} \\cos{\\left(w \\right)} + a b x y \\cos{\\left(inc \\right)} \\cos^{2}{\\left(w \\right)} - a x \\sin{\\left(w \\right)} \\cos{\\left(inc \\right)} + a x \\cos{\\left(w \\right)} + b^{2} y^{2} \\sin^{2}{\\left(w \\right)} + b^{2} y^{2} \\sin{\\left(w \\right)} \\cos{\\left(inc \\right)} \\cos{\\left(w \\right)} + b^{2} y^{2} \\cos^{2}{\\left(inc \\right)} \\cos^{2}{\\left(w \\right)} + b y \\sin{\\left(w \\right)} + b y \\cos{\\left(inc \\right)} \\cos{\\left(w \\right)}$"
      ],
      "text/plain": [
       "a**2*x**2*sin(w)**2*cos(inc)**2 - a**2*x**2*sin(w)*cos(inc)*cos(w) + a**2*x**2*cos(w)**2 - a*b*x*y*sin(w)**2*cos(inc) - 2*a*b*x*y*sin(w)*cos(inc)**2*cos(w) + 2*a*b*x*y*sin(w)*cos(w) + a*b*x*y*cos(inc)*cos(w)**2 - a*x*sin(w)*cos(inc) + a*x*cos(w) + b**2*y**2*sin(w)**2 + b**2*y**2*sin(w)*cos(inc)*cos(w) + b**2*y**2*cos(inc)**2*cos(w)**2 + b*y*sin(w) + b*y*cos(inc)*cos(w)"
      ]
     },
     "execution_count": 139,
     "metadata": {},
     "output_type": "execute_result"
    }
   ],
   "source": [
    "out"
   ]
  },
  {
   "cell_type": "code",
   "execution_count": 140,
   "metadata": {},
   "outputs": [
    {
     "data": {
      "text/latex": [
       "$\\displaystyle a^{2} f x^{2} \\cos^{2}{\\left(w \\right)} - 2 a^{2} g x^{2} \\sin{\\left(w \\right)} \\cos{\\left(inc \\right)} \\cos{\\left(w \\right)} + a^{2} h x^{2} \\sin^{2}{\\left(w \\right)} \\cos^{2}{\\left(inc \\right)} + 2 a b f x y \\sin{\\left(w \\right)} \\cos{\\left(w \\right)} - 2 a b g x y \\sin^{2}{\\left(w \\right)} \\cos{\\left(inc \\right)} + 2 a b g x y \\cos{\\left(inc \\right)} \\cos^{2}{\\left(w \\right)} - 2 a b h x y \\sin{\\left(w \\right)} \\cos^{2}{\\left(inc \\right)} \\cos{\\left(w \\right)} + 2 a k x \\cos{\\left(w \\right)} - 2 a l x \\sin{\\left(w \\right)} \\cos{\\left(inc \\right)} + b^{2} f y^{2} \\sin^{2}{\\left(w \\right)} + 2 b^{2} g y^{2} \\sin{\\left(w \\right)} \\cos{\\left(inc \\right)} \\cos{\\left(w \\right)} + b^{2} h y^{2} \\cos^{2}{\\left(inc \\right)} \\cos^{2}{\\left(w \\right)} + 2 b k y \\sin{\\left(w \\right)} + 2 b l y \\cos{\\left(inc \\right)} \\cos{\\left(w \\right)}$"
      ],
      "text/plain": [
       "a**2*f*x**2*cos(w)**2 - 2*a**2*g*x**2*sin(w)*cos(inc)*cos(w) + a**2*h*x**2*sin(w)**2*cos(inc)**2 + 2*a*b*f*x*y*sin(w)*cos(w) - 2*a*b*g*x*y*sin(w)**2*cos(inc) + 2*a*b*g*x*y*cos(inc)*cos(w)**2 - 2*a*b*h*x*y*sin(w)*cos(inc)**2*cos(w) + 2*a*k*x*cos(w) - 2*a*l*x*sin(w)*cos(inc) + b**2*f*y**2*sin(w)**2 + 2*b**2*g*y**2*sin(w)*cos(inc)*cos(w) + b**2*h*y**2*cos(inc)**2*cos(w)**2 + 2*b*k*y*sin(w) + 2*b*l*y*cos(inc)*cos(w)"
      ]
     },
     "execution_count": 140,
     "metadata": {},
     "output_type": "execute_result"
    }
   ],
   "source": [
    "out2"
   ]
  },
  {
   "cell_type": "code",
   "execution_count": 145,
   "metadata": {},
   "outputs": [],
   "source": [
    "ff, twog, hh, twok, twol, mm, bool1, bool2, bool3, bool4 = extractCoeffs(out2+m,x,y)"
   ]
  },
  {
   "cell_type": "code",
   "execution_count": 157,
   "metadata": {},
   "outputs": [
    {
     "data": {
      "text/latex": [
       "$\\displaystyle a^{2} f \\cos^{2}{\\left(w \\right)} - 2 a^{2} g \\sin{\\left(w \\right)} \\cos{\\left(inc \\right)} \\cos{\\left(w \\right)} + a^{2} h \\sin^{2}{\\left(w \\right)} \\cos^{2}{\\left(inc \\right)}$"
      ],
      "text/plain": [
       "a**2*f*cos(w)**2 - 2*a**2*g*sin(w)*cos(inc)*cos(w) + a**2*h*sin(w)**2*cos(inc)**2"
      ]
     },
     "execution_count": 157,
     "metadata": {},
     "output_type": "execute_result"
    }
   ],
   "source": [
    "ff"
   ]
  },
  {
   "cell_type": "code",
   "execution_count": 158,
   "metadata": {},
   "outputs": [
    {
     "data": {
      "text/latex": [
       "$\\displaystyle 2 a b f \\sin{\\left(w \\right)} \\cos{\\left(w \\right)} - 2 a b g \\sin^{2}{\\left(w \\right)} \\cos{\\left(inc \\right)} + 2 a b g \\cos{\\left(inc \\right)} \\cos^{2}{\\left(w \\right)} - 2 a b h \\sin{\\left(w \\right)} \\cos^{2}{\\left(inc \\right)} \\cos{\\left(w \\right)}$"
      ],
      "text/plain": [
       "2*a*b*f*sin(w)*cos(w) - 2*a*b*g*sin(w)**2*cos(inc) + 2*a*b*g*cos(inc)*cos(w)**2 - 2*a*b*h*sin(w)*cos(inc)**2*cos(w)"
      ]
     },
     "execution_count": 158,
     "metadata": {},
     "output_type": "execute_result"
    }
   ],
   "source": [
    "twog"
   ]
  },
  {
   "cell_type": "code",
   "execution_count": 159,
   "metadata": {},
   "outputs": [
    {
     "data": {
      "text/latex": [
       "$\\displaystyle b^{2} f \\sin^{2}{\\left(w \\right)} + 2 b^{2} g \\sin{\\left(w \\right)} \\cos{\\left(inc \\right)} \\cos{\\left(w \\right)} + b^{2} h \\cos^{2}{\\left(inc \\right)} \\cos^{2}{\\left(w \\right)}$"
      ],
      "text/plain": [
       "b**2*f*sin(w)**2 + 2*b**2*g*sin(w)*cos(inc)*cos(w) + b**2*h*cos(inc)**2*cos(w)**2"
      ]
     },
     "execution_count": 159,
     "metadata": {},
     "output_type": "execute_result"
    }
   ],
   "source": [
    "hh"
   ]
  },
  {
   "cell_type": "code",
   "execution_count": 160,
   "metadata": {},
   "outputs": [
    {
     "data": {
      "text/latex": [
       "$\\displaystyle 2 a \\left(k \\cos{\\left(w \\right)} - l \\sin{\\left(w \\right)} \\cos{\\left(inc \\right)}\\right)$"
      ],
      "text/plain": [
       "2*a*(k*cos(w) - l*sin(w)*cos(inc))"
      ]
     },
     "execution_count": 160,
     "metadata": {},
     "output_type": "execute_result"
    }
   ],
   "source": [
    "sp.simplify(twok)"
   ]
  },
  {
   "cell_type": "code",
   "execution_count": 153,
   "metadata": {},
   "outputs": [
    {
     "data": {
      "text/latex": [
       "$\\displaystyle 2 b \\left(k \\sin{\\left(w \\right)} + l \\cos{\\left(inc \\right)} \\cos{\\left(w \\right)}\\right)$"
      ],
      "text/plain": [
       "2*b*(k*sin(w) + l*cos(inc)*cos(w))"
      ]
     },
     "execution_count": 153,
     "metadata": {},
     "output_type": "execute_result"
    }
   ],
   "source": [
    "sp.simplify(twol)"
   ]
  },
  {
   "cell_type": "code",
   "execution_count": 171,
   "metadata": {},
   "outputs": [],
   "source": [
    "# Constraint on g < sqrt(f*h)"
   ]
  },
  {
   "cell_type": "code",
   "execution_count": 170,
   "metadata": {},
   "outputs": [
    {
     "data": {
      "text/latex": [
       "$\\displaystyle - \\frac{f \\sin{\\left(2 w \\right)}}{2} + g \\sin^{2}{\\left(w \\right)} \\cos{\\left(inc \\right)} - g \\cos{\\left(inc \\right)} \\cos^{2}{\\left(w \\right)} + h \\sin{\\left(w \\right)} \\cos^{2}{\\left(inc \\right)} \\cos{\\left(w \\right)} + \\sqrt{\\left(f \\sin^{2}{\\left(w \\right)} + \\frac{g \\left(- \\sin{\\left(inc - 2 w \\right)} + \\sin{\\left(inc + 2 w \\right)}\\right)}{2} + h \\cos^{2}{\\left(inc \\right)} \\cos^{2}{\\left(w \\right)}\\right) \\left(f \\cos^{2}{\\left(w \\right)} - \\frac{g \\left(- \\sin{\\left(inc - 2 w \\right)} + \\sin{\\left(inc + 2 w \\right)}\\right)}{2} + h \\sin^{2}{\\left(w \\right)} \\cos^{2}{\\left(inc \\right)}\\right)}$"
      ],
      "text/plain": [
       "-f*sin(2*w)/2 + g*sin(w)**2*cos(inc) - g*cos(inc)*cos(w)**2 + h*sin(w)*cos(inc)**2*cos(w) + sqrt((f*sin(w)**2 + g*(-sin(inc - 2*w) + sin(inc + 2*w))/2 + h*cos(inc)**2*cos(w)**2)*(f*cos(w)**2 - g*(-sin(inc - 2*w) + sin(inc + 2*w))/2 + h*sin(w)**2*cos(inc)**2))"
      ]
     },
     "execution_count": 170,
     "metadata": {},
     "output_type": "execute_result"
    }
   ],
   "source": [
    "sp.simplify(sp.sqrt(ff*hh)-twog/2)/a/b #> 0"
   ]
  },
  {
   "cell_type": "markdown",
   "metadata": {},
   "source": [
    "HERE. TAKE OUT (IMMEDIATELY ABOVE) AND GROUP ALL THE COEFFICIENTS OF X, X**2, Y, Y**2, XY AND VERIFY THESE COEFFICIENTS FALL WITHIN THE VALID RANGE ALLOWED FOR THE SYSTEM TO BE AN ELLIPSE (USE THE PAPER I FOUND TO CALCULATE THE NEW a, b)"
   ]
  },
  {
   "cell_type": "code",
   "execution_count": 50,
   "metadata": {},
   "outputs": [
    {
     "data": {
      "text/latex": [
       "$\\displaystyle \\frac{a \\sin^{2}{\\left(v \\right)} \\sin^{2}{\\left(w \\right)} \\cos{\\left(\\frac{\\operatorname{acos}{\\left(\\sqrt{1 - \\frac{b^{2}}{a^{2}}} + \\cos{\\left(v \\right)} \\right)}}{\\sqrt{1 - \\frac{b^{2}}{a^{2}}} \\cos{\\left(v \\right)} + 1} \\right)}}{- \\sin{\\left(v \\right)} \\sin{\\left(w \\right)} + \\cos{\\left(v \\right)} \\cos{\\left(w \\right)}} - \\frac{2 a \\sin{\\left(v \\right)} \\sin{\\left(w \\right)} \\cos{\\left(v \\right)} \\cos{\\left(w \\right)} \\cos{\\left(\\frac{\\operatorname{acos}{\\left(\\sqrt{1 - \\frac{b^{2}}{a^{2}}} + \\cos{\\left(v \\right)} \\right)}}{\\sqrt{1 - \\frac{b^{2}}{a^{2}}} \\cos{\\left(v \\right)} + 1} \\right)}}{- \\sin{\\left(v \\right)} \\sin{\\left(w \\right)} + \\cos{\\left(v \\right)} \\cos{\\left(w \\right)}} + \\frac{a \\cos^{2}{\\left(v \\right)} \\cos^{2}{\\left(w \\right)} \\cos{\\left(\\frac{\\operatorname{acos}{\\left(\\sqrt{1 - \\frac{b^{2}}{a^{2}}} + \\cos{\\left(v \\right)} \\right)}}{\\sqrt{1 - \\frac{b^{2}}{a^{2}}} \\cos{\\left(v \\right)} + 1} \\right)}}{- \\sin{\\left(v \\right)} \\sin{\\left(w \\right)} + \\cos{\\left(v \\right)} \\cos{\\left(w \\right)}} - \\frac{b \\cos{\\left(2 v + 2 w - \\frac{\\operatorname{acos}{\\left(\\sqrt{1 - \\frac{b^{2}}{a^{2}}} + \\cos{\\left(v \\right)} \\right)}}{\\sqrt{1 - \\frac{b^{2}}{a^{2}}} \\cos{\\left(v \\right)} + 1} \\right)}}{4 \\left(- \\sin{\\left(v \\right)} \\sin{\\left(w \\right)} + \\cos{\\left(v \\right)} \\cos{\\left(w \\right)}\\right)} + \\frac{b \\cos{\\left(2 v + 2 w + \\frac{\\operatorname{acos}{\\left(\\sqrt{1 - \\frac{b^{2}}{a^{2}}} + \\cos{\\left(v \\right)} \\right)}}{\\sqrt{1 - \\frac{b^{2}}{a^{2}}} \\cos{\\left(v \\right)} + 1} \\right)}}{4 \\left(- \\sin{\\left(v \\right)} \\sin{\\left(w \\right)} + \\cos{\\left(v \\right)} \\cos{\\left(w \\right)}\\right)}$"
      ],
      "text/plain": [
       "a*sin(v)**2*sin(w)**2*cos(acos(sqrt(1 - b**2/a**2) + cos(v))/(sqrt(1 - b**2/a**2)*cos(v) + 1))/(-sin(v)*sin(w) + cos(v)*cos(w)) - 2*a*sin(v)*sin(w)*cos(v)*cos(w)*cos(acos(sqrt(1 - b**2/a**2) + cos(v))/(sqrt(1 - b**2/a**2)*cos(v) + 1))/(-sin(v)*sin(w) + cos(v)*cos(w)) + a*cos(v)**2*cos(w)**2*cos(acos(sqrt(1 - b**2/a**2) + cos(v))/(sqrt(1 - b**2/a**2)*cos(v) + 1))/(-sin(v)*sin(w) + cos(v)*cos(w)) - b*cos(2*v + 2*w - acos(sqrt(1 - b**2/a**2) + cos(v))/(sqrt(1 - b**2/a**2)*cos(v) + 1))/(4*(-sin(v)*sin(w) + cos(v)*cos(w))) + b*cos(2*v + 2*w + acos(sqrt(1 - b**2/a**2) + cos(v))/(sqrt(1 - b**2/a**2)*cos(v) + 1))/(4*(-sin(v)*sin(w) + cos(v)*cos(w)))"
      ]
     },
     "execution_count": 50,
     "metadata": {},
     "output_type": "execute_result"
    }
   ],
   "source": [
    "sp.expand(rotated2Dellipse[0].subs(E,EnuEqn).subs(e,eEqnab)) #need to turn this into of the form sin(th) cos(th)"
   ]
  },
  {
   "cell_type": "code",
   "execution_count": 51,
   "metadata": {},
   "outputs": [
    {
     "data": {
      "text/latex": [
       "$\\displaystyle \\left(a \\sin{\\left(v + w \\right)} \\cos{\\left(E \\right)} + b \\sin{\\left(E \\right)} \\cos{\\left(v + w \\right)}\\right)^{2} \\cos^{2}{\\left(inc \\right)} + \\frac{\\left(4 a \\cos{\\left(E \\right)} \\cos^{2}{\\left(v + w \\right)} - b \\cos{\\left(- E + 2 v + 2 w \\right)} + b \\cos{\\left(E + 2 v + 2 w \\right)}\\right)^{2}}{16 \\cos^{2}{\\left(v + w \\right)}}$"
      ],
      "text/plain": [
       "(a*sin(v + w)*cos(E) + b*sin(E)*cos(v + w))**2*cos(inc)**2 + (4*a*cos(E)*cos(v + w)**2 - b*cos(-E + 2*v + 2*w) + b*cos(E + 2*v + 2*w))**2/(16*cos(v + w)**2)"
      ]
     },
     "execution_count": 51,
     "metadata": {},
     "output_type": "execute_result"
    }
   ],
   "source": [
    "sp.simplify(rotated2Dellipse[0]**2+rotated2Dellipse[1]**2)"
   ]
  },
  {
   "cell_type": "markdown",
   "metadata": {},
   "source": [
    "# END SECTION"
   ]
  },
  {
   "cell_type": "code",
   "execution_count": 52,
   "metadata": {},
   "outputs": [],
   "source": [
    "#sp.expand(xyzRotMatInv*threeDellipse)"
   ]
  },
  {
   "cell_type": "code",
   "execution_count": 53,
   "metadata": {},
   "outputs": [],
   "source": [
    "#xyzRotMatInv*xyzRotMat"
   ]
  },
  {
   "cell_type": "code",
   "execution_count": 54,
   "metadata": {},
   "outputs": [],
   "source": [
    "tmp = xyzRotMat.subs(W,nW).subs(w,nw).subs(inc,ninc)*threeDellipse"
   ]
  },
  {
   "cell_type": "code",
   "execution_count": 55,
   "metadata": {},
   "outputs": [
    {
     "data": {
      "text/latex": [
       "$\\displaystyle \\left[\\begin{matrix}- \\frac{a \\left(e^{2} - 1\\right) \\left(\\left(\\sin{\\left(W \\right)} \\cos{\\left(v + w \\right)} + \\sin{\\left(v + w \\right)} \\cos{\\left(W \\right)} \\cos{\\left(inc \\right)}\\right) \\left(\\sin{\\left(nW \\right)} \\cos{\\left(nw + v \\right)} + \\sin{\\left(nw + v \\right)} \\cos{\\left(nW \\right)} \\cos{\\left(ninc \\right)}\\right) + \\left(\\sin{\\left(W \\right)} \\sin{\\left(v + w \\right)} \\cos{\\left(inc \\right)} - \\cos{\\left(W \\right)} \\cos{\\left(v + w \\right)}\\right) \\left(\\sin{\\left(nW \\right)} \\sin{\\left(nw + v \\right)} \\cos{\\left(ninc \\right)} - \\cos{\\left(nW \\right)} \\cos{\\left(nw + v \\right)}\\right) + \\sin{\\left(inc \\right)} \\sin{\\left(ninc \\right)} \\sin{\\left(nw + v \\right)} \\sin{\\left(v + w \\right)}\\right)}{e \\cos{\\left(v \\right)} + 1}\\\\\\frac{a \\left(e^{2} - 1\\right) \\left(\\left(\\sin{\\left(W \\right)} \\cos{\\left(v + w \\right)} + \\sin{\\left(v + w \\right)} \\cos{\\left(W \\right)} \\cos{\\left(inc \\right)}\\right) \\left(\\sin{\\left(nW \\right)} \\sin{\\left(nw + v \\right)} - \\cos{\\left(nW \\right)} \\cos{\\left(ninc \\right)} \\cos{\\left(nw + v \\right)}\\right) - \\left(\\sin{\\left(W \\right)} \\sin{\\left(v + w \\right)} \\cos{\\left(inc \\right)} - \\cos{\\left(W \\right)} \\cos{\\left(v + w \\right)}\\right) \\left(\\sin{\\left(nW \\right)} \\cos{\\left(ninc \\right)} \\cos{\\left(nw + v \\right)} + \\sin{\\left(nw + v \\right)} \\cos{\\left(nW \\right)}\\right) - \\sin{\\left(inc \\right)} \\sin{\\left(ninc \\right)} \\sin{\\left(v + w \\right)} \\cos{\\left(nw + v \\right)}\\right)}{e \\cos{\\left(v \\right)} + 1}\\\\\\frac{a \\left(e^{2} - 1\\right) \\left(- \\sin{\\left(inc \\right)} \\sin{\\left(v + w \\right)} \\cos{\\left(ninc \\right)} + \\sin{\\left(ninc \\right)} \\sin{\\left(W - nW \\right)} \\cos{\\left(v + w \\right)} + \\sin{\\left(ninc \\right)} \\sin{\\left(v + w \\right)} \\cos{\\left(inc \\right)} \\cos{\\left(W - nW \\right)}\\right)}{e \\cos{\\left(v \\right)} + 1}\\end{matrix}\\right]$"
      ],
      "text/plain": [
       "Matrix([\n",
       "[-a*(e**2 - 1)*((sin(W)*cos(v + w) + sin(v + w)*cos(W)*cos(inc))*(sin(nW)*cos(nw + v) + sin(nw + v)*cos(nW)*cos(ninc)) + (sin(W)*sin(v + w)*cos(inc) - cos(W)*cos(v + w))*(sin(nW)*sin(nw + v)*cos(ninc) - cos(nW)*cos(nw + v)) + sin(inc)*sin(ninc)*sin(nw + v)*sin(v + w))/(e*cos(v) + 1)],\n",
       "[ a*(e**2 - 1)*((sin(W)*cos(v + w) + sin(v + w)*cos(W)*cos(inc))*(sin(nW)*sin(nw + v) - cos(nW)*cos(ninc)*cos(nw + v)) - (sin(W)*sin(v + w)*cos(inc) - cos(W)*cos(v + w))*(sin(nW)*cos(ninc)*cos(nw + v) + sin(nw + v)*cos(nW)) - sin(inc)*sin(ninc)*sin(v + w)*cos(nw + v))/(e*cos(v) + 1)],\n",
       "[                                                                                                                                               a*(e**2 - 1)*(-sin(inc)*sin(v + w)*cos(ninc) + sin(ninc)*sin(W - nW)*cos(v + w) + sin(ninc)*sin(v + w)*cos(inc)*cos(W - nW))/(e*cos(v) + 1)]])"
      ]
     },
     "execution_count": 55,
     "metadata": {},
     "output_type": "execute_result"
    }
   ],
   "source": [
    "sp.simplify(tmp)"
   ]
  },
  {
   "cell_type": "code",
   "execution_count": 56,
   "metadata": {},
   "outputs": [
    {
     "data": {
      "text/latex": [
       "$\\displaystyle \\left[\\begin{matrix}\\frac{a \\left(0.620512701892219 - 0.375 \\cos{\\left(2 v \\right)}\\right) \\left(e^{2} - 1\\right)}{e \\cos{\\left(v \\right)} + 1}\\\\\\frac{a \\left(e^{2} - 1\\right) \\left(0.375 \\sin{\\left(2 v \\right)} + 0.0747595264191642\\right)}{e \\cos{\\left(v \\right)} + 1}\\\\\\frac{a \\left(e^{2} - 1\\right) \\left(0.0580127018922191 \\sin{\\left(v \\right)} - 0.96650635094611 \\cos{\\left(v \\right)}\\right)}{e \\cos{\\left(v \\right)} + 1}\\end{matrix}\\right]$"
      ],
      "text/plain": [
       "Matrix([\n",
       "[                 a*(0.620512701892219 - 0.375*cos(2*v))*(e**2 - 1)/(e*cos(v) + 1)],\n",
       "[                a*(e**2 - 1)*(0.375*sin(2*v) + 0.0747595264191642)/(e*cos(v) + 1)],\n",
       "[a*(e**2 - 1)*(0.0580127018922191*sin(v) - 0.96650635094611*cos(v))/(e*cos(v) + 1)]])"
      ]
     },
     "execution_count": 56,
     "metadata": {},
     "output_type": "execute_result"
    }
   ],
   "source": [
    "sp.simplify(tmp.subs(W,np.pi/4).subs(w,np.pi/6).subs(inc,np.pi/3).subs(nW,-np.pi/4).subs(nw,-np.pi/6).subs(ninc,-np.pi/3))"
   ]
  },
  {
   "cell_type": "code",
   "execution_count": 57,
   "metadata": {},
   "outputs": [
    {
     "data": {
      "text/latex": [
       "$\\displaystyle \\left[\\begin{matrix}\\sin{\\left(W \\right)} \\sin{\\left(v - w \\right)} \\cos{\\left(inc \\right)} + \\cos{\\left(W \\right)} \\cos{\\left(v - w \\right)} & - \\sin{\\left(W \\right)} \\cos{\\left(v - w \\right)} + \\sin{\\left(v - w \\right)} \\cos{\\left(W \\right)} \\cos{\\left(inc \\right)} & - \\sin{\\left(inc \\right)} \\sin{\\left(v - w \\right)}\\\\\\sin{\\left(W \\right)} \\cos{\\left(inc \\right)} \\cos{\\left(v - w \\right)} - \\sin{\\left(v - w \\right)} \\cos{\\left(W \\right)} & \\sin{\\left(W \\right)} \\sin{\\left(v - w \\right)} + \\cos{\\left(W \\right)} \\cos{\\left(inc \\right)} \\cos{\\left(v - w \\right)} & - \\sin{\\left(inc \\right)} \\cos{\\left(v - w \\right)}\\\\\\sin{\\left(W \\right)} \\sin{\\left(inc \\right)} & \\sin{\\left(inc \\right)} \\cos{\\left(W \\right)} & \\cos{\\left(inc \\right)}\\end{matrix}\\right]$"
      ],
      "text/plain": [
       "Matrix([\n",
       "[sin(W)*sin(v - w)*cos(inc) + cos(W)*cos(v - w), -sin(W)*cos(v - w) + sin(v - w)*cos(W)*cos(inc), -sin(inc)*sin(v - w)],\n",
       "[sin(W)*cos(inc)*cos(v - w) - sin(v - w)*cos(W),  sin(W)*sin(v - w) + cos(W)*cos(inc)*cos(v - w), -sin(inc)*cos(v - w)],\n",
       "[                               sin(W)*sin(inc),                                 sin(inc)*cos(W),             cos(inc)]])"
      ]
     },
     "execution_count": 57,
     "metadata": {},
     "output_type": "execute_result"
    }
   ],
   "source": [
    "xyzRotMat.subs(W,-W).subs(w,-w).subs(inc,-inc)"
   ]
  },
  {
   "cell_type": "code",
   "execution_count": 58,
   "metadata": {},
   "outputs": [
    {
     "data": {
      "text/latex": [
       "$\\displaystyle \\left[\\begin{matrix}- \\sin{\\left(W \\right)} \\sin{\\left(v + w \\right)} \\cos{\\left(inc \\right)} + \\cos{\\left(W \\right)} \\cos{\\left(v + w \\right)} & \\sin{\\left(W \\right)} \\cos{\\left(v + w \\right)} + \\sin{\\left(v + w \\right)} \\cos{\\left(W \\right)} \\cos{\\left(inc \\right)} & \\sin{\\left(inc \\right)} \\sin{\\left(v + w \\right)}\\\\- \\sin{\\left(W \\right)} \\cos{\\left(inc \\right)} \\cos{\\left(v + w \\right)} - \\sin{\\left(v + w \\right)} \\cos{\\left(W \\right)} & - \\sin{\\left(W \\right)} \\sin{\\left(v + w \\right)} + \\cos{\\left(W \\right)} \\cos{\\left(inc \\right)} \\cos{\\left(v + w \\right)} & \\sin{\\left(inc \\right)} \\cos{\\left(v + w \\right)}\\\\\\sin{\\left(W \\right)} \\sin{\\left(inc \\right)} & - \\sin{\\left(inc \\right)} \\cos{\\left(W \\right)} & \\cos{\\left(inc \\right)}\\end{matrix}\\right]$"
      ],
      "text/plain": [
       "Matrix([\n",
       "[-sin(W)*sin(v + w)*cos(inc) + cos(W)*cos(v + w),  sin(W)*cos(v + w) + sin(v + w)*cos(W)*cos(inc), sin(inc)*sin(v + w)],\n",
       "[-sin(W)*cos(inc)*cos(v + w) - sin(v + w)*cos(W), -sin(W)*sin(v + w) + cos(W)*cos(inc)*cos(v + w), sin(inc)*cos(v + w)],\n",
       "[                                sin(W)*sin(inc),                                -sin(inc)*cos(W),            cos(inc)]])"
      ]
     },
     "execution_count": 58,
     "metadata": {},
     "output_type": "execute_result"
    }
   ],
   "source": [
    "xyzRotMat"
   ]
  },
  {
   "cell_type": "code",
   "execution_count": 59,
   "metadata": {},
   "outputs": [],
   "source": [
    "twoDellipse_from3Dellipse = xyzRotMat.subs(W,-W).subs(w,-w).subs(inc,-inc)*threeDellipse"
   ]
  },
  {
   "cell_type": "code",
   "execution_count": 60,
   "metadata": {},
   "outputs": [
    {
     "data": {
      "text/latex": [
       "$\\displaystyle \\left[\\begin{matrix}\\frac{a \\left(e^{2} - 1\\right) \\left(4 \\sin{\\left(W \\right)} \\sin{\\left(w \\right)} \\cos{\\left(W \\right)} \\cos{\\left(inc \\right)} \\cos{\\left(w \\right)} + 2 \\cos^{2}{\\left(W \\right)} \\cos^{2}{\\left(inc \\right)} \\cos^{2}{\\left(v \\right)} - 2 \\cos^{2}{\\left(W \\right)} \\cos^{2}{\\left(inc \\right)} \\cos^{2}{\\left(w \\right)} - 2 \\cos^{2}{\\left(W \\right)} \\cos^{2}{\\left(v \\right)} - 2 \\cos^{2}{\\left(W \\right)} \\cos^{2}{\\left(w \\right)} + 2 \\cos^{2}{\\left(W \\right)} + 2 \\cos^{2}{\\left(w \\right)} - 1\\right)}{e \\cos{\\left(v \\right)} + 1}\\\\- \\frac{a \\left(e^{2} - 1\\right) \\left(\\sin{\\left(W \\right)} \\sin{\\left(v - w \\right)} + \\cos{\\left(W \\right)} \\cos{\\left(inc \\right)} \\cos{\\left(v - w \\right)}\\right) \\left(\\sin{\\left(W \\right)} \\cos{\\left(v + w \\right)} + \\sin{\\left(v + w \\right)} \\cos{\\left(W \\right)} \\cos{\\left(inc \\right)}\\right)}{e \\cos{\\left(v \\right)} + 1} + \\frac{a \\left(e^{2} - 1\\right) \\left(\\sin{\\left(W \\right)} \\sin{\\left(v + w \\right)} \\cos{\\left(inc \\right)} - \\cos{\\left(W \\right)} \\cos{\\left(v + w \\right)}\\right) \\left(\\sin{\\left(W \\right)} \\cos{\\left(inc \\right)} \\cos{\\left(v - w \\right)} - \\sin{\\left(v - w \\right)} \\cos{\\left(W \\right)}\\right)}{e \\cos{\\left(v \\right)} + 1} + \\frac{a \\left(e^{2} - 1\\right) \\sin^{2}{\\left(inc \\right)} \\sin{\\left(v + w \\right)} \\cos{\\left(v - w \\right)}}{e \\cos{\\left(v \\right)} + 1}\\\\- \\frac{2 a \\left(e^{2} - 1\\right) \\left(\\sin{\\left(W \\right)} \\cos{\\left(v + w \\right)} + \\sin{\\left(v + w \\right)} \\cos{\\left(W \\right)} \\cos{\\left(inc \\right)}\\right) \\sin{\\left(inc \\right)} \\cos{\\left(W \\right)}}{e \\cos{\\left(v \\right)} + 1}\\end{matrix}\\right]$"
      ],
      "text/plain": [
       "Matrix([\n",
       "[                                                                                                  a*(e**2 - 1)*(4*sin(W)*sin(w)*cos(W)*cos(inc)*cos(w) + 2*cos(W)**2*cos(inc)**2*cos(v)**2 - 2*cos(W)**2*cos(inc)**2*cos(w)**2 - 2*cos(W)**2*cos(v)**2 - 2*cos(W)**2*cos(w)**2 + 2*cos(W)**2 + 2*cos(w)**2 - 1)/(e*cos(v) + 1)],\n",
       "[-a*(e**2 - 1)*(sin(W)*sin(v - w) + cos(W)*cos(inc)*cos(v - w))*(sin(W)*cos(v + w) + sin(v + w)*cos(W)*cos(inc))/(e*cos(v) + 1) + a*(e**2 - 1)*(sin(W)*sin(v + w)*cos(inc) - cos(W)*cos(v + w))*(sin(W)*cos(inc)*cos(v - w) - sin(v - w)*cos(W))/(e*cos(v) + 1) + a*(e**2 - 1)*sin(inc)**2*sin(v + w)*cos(v - w)/(e*cos(v) + 1)],\n",
       "[                                                                                                                                                                                                                               -2*a*(e**2 - 1)*(sin(W)*cos(v + w) + sin(v + w)*cos(W)*cos(inc))*sin(inc)*cos(W)/(e*cos(v) + 1)]])"
      ]
     },
     "execution_count": 60,
     "metadata": {},
     "output_type": "execute_result"
    }
   ],
   "source": [
    "sp.simplify(twoDellipse_from3Dellipse)"
   ]
  },
  {
   "cell_type": "code",
   "execution_count": null,
   "metadata": {},
   "outputs": [],
   "source": []
  },
  {
   "cell_type": "code",
   "execution_count": 61,
   "metadata": {},
   "outputs": [],
   "source": [
    "part1 = sp.expand((eqnX/eqnr)**2)"
   ]
  },
  {
   "cell_type": "code",
   "execution_count": 62,
   "metadata": {},
   "outputs": [],
   "source": [
    "part2 = sp.expand((eqnY/eqnr)**2)"
   ]
  },
  {
   "cell_type": "code",
   "execution_count": 63,
   "metadata": {},
   "outputs": [],
   "source": [
    "ellipseExpression = part1+part2 - 1/eqnr #=0"
   ]
  },
  {
   "cell_type": "code",
   "execution_count": 64,
   "metadata": {},
   "outputs": [
    {
     "data": {
      "text/latex": [
       "$\\displaystyle - \\frac{1}{- a e^{2} + a}$"
      ],
      "text/plain": [
       "-1/(-a*e**2 + a)"
      ]
     },
     "metadata": {},
     "output_type": "display_data"
    },
    {
     "data": {
      "text/latex": [
       "$\\displaystyle \\cos^{2}{\\left(W \\right)} \\cos^{2}{\\left(v + w \\right)}$"
      ],
      "text/plain": [
       "cos(W)**2*cos(v + w)**2"
      ]
     },
     "metadata": {},
     "output_type": "display_data"
    },
    {
     "data": {
      "text/latex": [
       "$\\displaystyle \\sin^{2}{\\left(W \\right)} \\cos^{2}{\\left(v + w \\right)}$"
      ],
      "text/plain": [
       "sin(W)**2*cos(v + w)**2"
      ]
     },
     "metadata": {},
     "output_type": "display_data"
    },
    {
     "data": {
      "text/latex": [
       "$\\displaystyle \\sin^{2}{\\left(v + w \\right)} \\cos^{2}{\\left(W \\right)} \\cos^{2}{\\left(inc \\right)}$"
      ],
      "text/plain": [
       "sin(v + w)**2*cos(W)**2*cos(inc)**2"
      ]
     },
     "metadata": {},
     "output_type": "display_data"
    },
    {
     "data": {
      "text/latex": [
       "$\\displaystyle \\sin^{2}{\\left(W \\right)} \\sin^{2}{\\left(v + w \\right)} \\cos^{2}{\\left(inc \\right)}$"
      ],
      "text/plain": [
       "sin(W)**2*sin(v + w)**2*cos(inc)**2"
      ]
     },
     "metadata": {},
     "output_type": "display_data"
    },
    {
     "data": {
      "text/latex": [
       "$\\displaystyle - \\frac{e \\cos{\\left(v \\right)}}{- a e^{2} + a}$"
      ],
      "text/plain": [
       "-e*cos(v)/(-a*e**2 + a)"
      ]
     },
     "metadata": {},
     "output_type": "display_data"
    }
   ],
   "source": [
    "outDump0 = [display(sp.expand(ellipseExpression).args[i]) for i in np.arange(len(sp.expand(ellipseExpression).args))]"
   ]
  },
  {
   "cell_type": "markdown",
   "metadata": {},
   "source": [
    "Factor Out W"
   ]
  },
  {
   "cell_type": "code",
   "execution_count": 65,
   "metadata": {},
   "outputs": [],
   "source": [
    "ellipseExpression = ellipseExpression.subs(sp.cos(W)**2*sp.cos(v+w)**2+sp.sin(W)**2*sp.cos(v+w)**2,sp.cos(v+w)**2)"
   ]
  },
  {
   "cell_type": "code",
   "execution_count": 66,
   "metadata": {},
   "outputs": [],
   "source": [
    "ellipseExpression = ellipseExpression.subs(sp.cos(W)**2*sp.sin(v+w)**2*sp.cos(inc)**2+sp.sin(W)**2*sp.sin(v+w)**2*sp.cos(inc)**2,sp.sin(v+w)**2*sp.cos(inc)**2)"
   ]
  },
  {
   "cell_type": "code",
   "execution_count": 67,
   "metadata": {},
   "outputs": [
    {
     "data": {
      "text/latex": [
       "$\\displaystyle \\sin^{2}{\\left(v + w \\right)} \\cos^{2}{\\left(inc \\right)} + \\cos^{2}{\\left(v + w \\right)} - \\frac{e \\cos{\\left(v \\right)} + 1}{a \\left(1 - e^{2}\\right)}$"
      ],
      "text/plain": [
       "sin(v + w)**2*cos(inc)**2 + cos(v + w)**2 - (e*cos(v) + 1)/(a*(1 - e**2))"
      ]
     },
     "execution_count": 67,
     "metadata": {},
     "output_type": "execute_result"
    }
   ],
   "source": [
    "ellipseExpression"
   ]
  },
  {
   "cell_type": "code",
   "execution_count": 68,
   "metadata": {},
   "outputs": [],
   "source": [
    "#Replace sin(nu+omega)**2.\n",
    "sin2nuomega = (1-sp.cos(nu+omega)**2)"
   ]
  },
  {
   "cell_type": "code",
   "execution_count": 69,
   "metadata": {},
   "outputs": [],
   "source": [
    "#Angle Addition Expanders\n",
    "sinnupomega = sp.sin(nu)*sp.cos(omega) + sp.cos(nu)*sp.sin(omega)\n",
    "cosnupomega = sp.cos(nu)*sp.cos(omega) - sp.sin(nu)*sp.sin(omega)\n",
    "sinnumomega = sp.sin(nu)*sp.cos(omega) - sp.cos(nu)*sp.sin(omega)\n",
    "cosnumomega = sp.cos(nu)*sp.cos(omega) + sp.sin(nu)*sp.sin(omega)"
   ]
  },
  {
   "cell_type": "code",
   "execution_count": 70,
   "metadata": {},
   "outputs": [],
   "source": [
    "#Squared Angle Addition Expanders\n",
    "sinnupomega2 = sp.sin(nu)**2*sp.cos(omega)**2 + 2*sp.cos(nu)*sp.sin(omega) + sp.cos(nu)**2*sp.sin(omega)**2\n",
    "cosnupomega2 = sp.cos(nu)**2*sp.cos(omega)**2 - 2*sp.cos(nu)*sp.cos(omega)*sp.sin(nu)*sp.sin(omega) + sp.sin(nu)**2*sp.sin(omega)**2\n",
    "sinnumomega2 = sp.sin(nu)**2*sp.cos(omega)**2 - 2*sp.sin(nu)*sp.cos(omega)*sp.cos(nu)*sp.sin(omega) + sp.cos(nu)**2*sp.sin(omega)**2\n",
    "cosnumomega2 = sp.cos(nu)**2*sp.cos(omega)**2 + 2*sp.cos(nu)*sp.cos(omega)*sp.sin(nu)*sp.sin(omega) + sp.sin(nu)**2*sp.sin(omega)**2"
   ]
  },
  {
   "cell_type": "code",
   "execution_count": 71,
   "metadata": {},
   "outputs": [],
   "source": [
    "ellipseExpression = ellipseExpression.subs(sp.sin(v+w)**2,sinnupomega2).subs(sp.cos(v+w)**2,cosnupomega2).subs(sp.sin(v+w),sinnupomega).subs(sp.cos(v+w),cosnupomega)"
   ]
  },
  {
   "cell_type": "code",
   "execution_count": 72,
   "metadata": {},
   "outputs": [],
   "source": [
    "x, y = sp.symbols('x y', real=True)"
   ]
  },
  {
   "cell_type": "code",
   "execution_count": 73,
   "metadata": {},
   "outputs": [
    {
     "data": {
      "text/latex": [
       "$\\displaystyle x^{2} \\cos^{2}{\\left(\\omega \\right)} - 2 x y \\sin{\\left(\\omega \\right)} \\cos{\\left(\\omega \\right)} + y^{2} \\sin^{2}{\\left(\\omega \\right)} + \\left(x^{2} \\sin^{2}{\\left(\\omega \\right)} + 2 x \\sin{\\left(\\omega \\right)} + y^{2} \\cos^{2}{\\left(\\omega \\right)}\\right) \\cos^{2}{\\left(inc \\right)} - \\frac{e x + 1}{a \\left(1 - e^{2}\\right)}$"
      ],
      "text/plain": [
       "x**2*cos(omega)**2 - 2*x*y*sin(omega)*cos(omega) + y**2*sin(omega)**2 + (x**2*sin(omega)**2 + 2*x*sin(omega) + y**2*cos(omega)**2)*cos(inc)**2 - (e*x + 1)/(a*(1 - e**2))"
      ]
     },
     "execution_count": 73,
     "metadata": {},
     "output_type": "execute_result"
    }
   ],
   "source": [
    "ellipseExpression.subs(sp.cos(nu),x).subs(sp.cos(v),x).subs(sp.sin(nu),y) #=0"
   ]
  },
  {
   "cell_type": "markdown",
   "metadata": {},
   "source": [
    "### After Separating Out A, B, C and formulating the final two equations for h,k"
   ]
  },
  {
   "cell_type": "code",
   "execution_count": 74,
   "metadata": {},
   "outputs": [],
   "source": [
    "h, k = sp.symbols('h k', real=True)"
   ]
  },
  {
   "cell_type": "code",
   "execution_count": 75,
   "metadata": {},
   "outputs": [],
   "source": [
    "A = sp.cos(omega)**2 + sp.sin(omega)**2*sp.cos(inc)**2\n",
    "B = -2*sp.sin(omega)*sp.cos(omega)\n",
    "C = sp.sin(omega)**2 + sp.cos(omega)**2*sp.cos(inc)**2"
   ]
  },
  {
   "cell_type": "code",
   "execution_count": 76,
   "metadata": {},
   "outputs": [],
   "source": [
    "eqnh = -2*sp.sin(omega)*sp.cos(inc)**2/(2*A)+e/(2*A*a*(1-e**2))-k*B/(2*A)"
   ]
  },
  {
   "cell_type": "code",
   "execution_count": 77,
   "metadata": {},
   "outputs": [],
   "source": [
    "expk = A*eqnh**2 + B*eqnh*k +C*k**2 -1 + 1/(a*(1-e**2))"
   ]
  },
  {
   "cell_type": "code",
   "execution_count": 78,
   "metadata": {},
   "outputs": [],
   "source": [
    "k_exact = sp.solve(expk,k)"
   ]
  },
  {
   "cell_type": "code",
   "execution_count": 79,
   "metadata": {},
   "outputs": [
    {
     "data": {
      "text/latex": [
       "$\\displaystyle \\frac{\\sqrt{\\frac{- 4 a^{2} e^{4} \\sin^{2}{\\left(\\omega \\right)} \\cos^{4}{\\left(inc \\right)} + 4 a^{2} e^{4} \\sin^{2}{\\left(\\omega \\right)} \\cos^{2}{\\left(inc \\right)} + 4 a^{2} e^{4} \\cos^{2}{\\left(\\omega \\right)} + 8 a^{2} e^{2} \\sin^{2}{\\left(\\omega \\right)} \\cos^{4}{\\left(inc \\right)} - 8 a^{2} e^{2} \\sin^{2}{\\left(\\omega \\right)} \\cos^{2}{\\left(inc \\right)} - 8 a^{2} e^{2} \\cos^{2}{\\left(\\omega \\right)} - 4 a^{2} \\sin^{2}{\\left(\\omega \\right)} \\cos^{4}{\\left(inc \\right)} + 4 a^{2} \\sin^{2}{\\left(\\omega \\right)} \\cos^{2}{\\left(inc \\right)} + 4 a^{2} \\cos^{2}{\\left(\\omega \\right)} - 4 a e^{3} \\sin{\\left(\\omega \\right)} \\cos^{2}{\\left(inc \\right)} + 4 a e^{2} \\sin^{2}{\\left(\\omega \\right)} \\cos^{2}{\\left(inc \\right)} + 4 a e^{2} \\cos^{2}{\\left(\\omega \\right)} + 4 a e \\sin{\\left(\\omega \\right)} \\cos^{2}{\\left(inc \\right)} - 4 a \\sin^{2}{\\left(\\omega \\right)} \\cos^{2}{\\left(inc \\right)} - 4 a \\cos^{2}{\\left(\\omega \\right)} - e^{2}}{\\sin^{4}{\\left(\\omega \\right)} + \\sin^{2}{\\left(\\omega \\right)} \\cos^{2}{\\left(inc \\right)} \\cos^{2}{\\left(\\omega \\right)} + \\cos^{4}{\\left(\\omega \\right)}}}}{2 a \\left(e^{2} - 1\\right) \\cos{\\left(inc \\right)}}$"
      ],
      "text/plain": [
       "sqrt((-4*a**2*e**4*sin(omega)**2*cos(inc)**4 + 4*a**2*e**4*sin(omega)**2*cos(inc)**2 + 4*a**2*e**4*cos(omega)**2 + 8*a**2*e**2*sin(omega)**2*cos(inc)**4 - 8*a**2*e**2*sin(omega)**2*cos(inc)**2 - 8*a**2*e**2*cos(omega)**2 - 4*a**2*sin(omega)**2*cos(inc)**4 + 4*a**2*sin(omega)**2*cos(inc)**2 + 4*a**2*cos(omega)**2 - 4*a*e**3*sin(omega)*cos(inc)**2 + 4*a*e**2*sin(omega)**2*cos(inc)**2 + 4*a*e**2*cos(omega)**2 + 4*a*e*sin(omega)*cos(inc)**2 - 4*a*sin(omega)**2*cos(inc)**2 - 4*a*cos(omega)**2 - e**2)/(sin(omega)**4 + sin(omega)**2*cos(inc)**2*cos(omega)**2 + cos(omega)**4))/(2*a*(e**2 - 1)*cos(inc))"
      ]
     },
     "execution_count": 79,
     "metadata": {},
     "output_type": "execute_result"
    }
   ],
   "source": [
    "k_exact[0] #most simplified"
   ]
  },
  {
   "cell_type": "code",
   "execution_count": 80,
   "metadata": {},
   "outputs": [
    {
     "name": "stdout",
     "output_type": "stream",
     "text": [
      "sqrt((-4*a**2*e**4*sin(omega)**2*cos(inc)**4 + 4*a**2*e**4*sin(omega)**2*cos(inc)**2 + 4*a**2*e**4*cos(omega)**2 + 8*a**2*e**2*sin(omega)**2*cos(inc)**4 - 8*a**2*e**2*sin(omega)**2*cos(inc)**2 - 8*a**2*e**2*cos(omega)**2 - 4*a**2*sin(omega)**2*cos(inc)**4 + 4*a**2*sin(omega)**2*cos(inc)**2 + 4*a**2*cos(omega)**2 - 4*a*e**3*sin(omega)*cos(inc)**2 + 4*a*e**2*sin(omega)**2*cos(inc)**2 + 4*a*e**2*cos(omega)**2 + 4*a*e*sin(omega)*cos(inc)**2 - 4*a*sin(omega)**2*cos(inc)**2 - 4*a*cos(omega)**2 - e**2)/(sin(omega)**4 + sin(omega)**2*cos(inc)**2*cos(omega)**2 + cos(omega)**4))/(2*a*(e**2 - 1)*cos(inc))\n"
     ]
    }
   ],
   "source": [
    "print(k_exact[0])"
   ]
  },
  {
   "cell_type": "code",
   "execution_count": 81,
   "metadata": {},
   "outputs": [],
   "source": [
    "h_exact = eqnh.subs(k,k_exact[0])"
   ]
  },
  {
   "cell_type": "code",
   "execution_count": 82,
   "metadata": {},
   "outputs": [
    {
     "data": {
      "text/latex": [
       "$\\displaystyle - \\frac{2 \\sin{\\left(\\omega \\right)} \\cos^{2}{\\left(inc \\right)}}{2 \\sin^{2}{\\left(\\omega \\right)} \\cos^{2}{\\left(inc \\right)} + 2 \\cos^{2}{\\left(\\omega \\right)}} + \\frac{e}{a \\left(1 - e^{2}\\right) \\left(2 \\sin^{2}{\\left(\\omega \\right)} \\cos^{2}{\\left(inc \\right)} + 2 \\cos^{2}{\\left(\\omega \\right)}\\right)} + \\frac{\\sqrt{\\frac{- 4 a^{2} e^{4} \\sin^{2}{\\left(\\omega \\right)} \\cos^{4}{\\left(inc \\right)} + 4 a^{2} e^{4} \\sin^{2}{\\left(\\omega \\right)} \\cos^{2}{\\left(inc \\right)} + 4 a^{2} e^{4} \\cos^{2}{\\left(\\omega \\right)} + 8 a^{2} e^{2} \\sin^{2}{\\left(\\omega \\right)} \\cos^{4}{\\left(inc \\right)} - 8 a^{2} e^{2} \\sin^{2}{\\left(\\omega \\right)} \\cos^{2}{\\left(inc \\right)} - 8 a^{2} e^{2} \\cos^{2}{\\left(\\omega \\right)} - 4 a^{2} \\sin^{2}{\\left(\\omega \\right)} \\cos^{4}{\\left(inc \\right)} + 4 a^{2} \\sin^{2}{\\left(\\omega \\right)} \\cos^{2}{\\left(inc \\right)} + 4 a^{2} \\cos^{2}{\\left(\\omega \\right)} - 4 a e^{3} \\sin{\\left(\\omega \\right)} \\cos^{2}{\\left(inc \\right)} + 4 a e^{2} \\sin^{2}{\\left(\\omega \\right)} \\cos^{2}{\\left(inc \\right)} + 4 a e^{2} \\cos^{2}{\\left(\\omega \\right)} + 4 a e \\sin{\\left(\\omega \\right)} \\cos^{2}{\\left(inc \\right)} - 4 a \\sin^{2}{\\left(\\omega \\right)} \\cos^{2}{\\left(inc \\right)} - 4 a \\cos^{2}{\\left(\\omega \\right)} - e^{2}}{\\sin^{4}{\\left(\\omega \\right)} + \\sin^{2}{\\left(\\omega \\right)} \\cos^{2}{\\left(inc \\right)} \\cos^{2}{\\left(\\omega \\right)} + \\cos^{4}{\\left(\\omega \\right)}}} \\sin{\\left(\\omega \\right)} \\cos{\\left(\\omega \\right)}}{a \\left(e^{2} - 1\\right) \\left(2 \\sin^{2}{\\left(\\omega \\right)} \\cos^{2}{\\left(inc \\right)} + 2 \\cos^{2}{\\left(\\omega \\right)}\\right) \\cos{\\left(inc \\right)}}$"
      ],
      "text/plain": [
       "-2*sin(omega)*cos(inc)**2/(2*sin(omega)**2*cos(inc)**2 + 2*cos(omega)**2) + e/(a*(1 - e**2)*(2*sin(omega)**2*cos(inc)**2 + 2*cos(omega)**2)) + sqrt((-4*a**2*e**4*sin(omega)**2*cos(inc)**4 + 4*a**2*e**4*sin(omega)**2*cos(inc)**2 + 4*a**2*e**4*cos(omega)**2 + 8*a**2*e**2*sin(omega)**2*cos(inc)**4 - 8*a**2*e**2*sin(omega)**2*cos(inc)**2 - 8*a**2*e**2*cos(omega)**2 - 4*a**2*sin(omega)**2*cos(inc)**4 + 4*a**2*sin(omega)**2*cos(inc)**2 + 4*a**2*cos(omega)**2 - 4*a*e**3*sin(omega)*cos(inc)**2 + 4*a*e**2*sin(omega)**2*cos(inc)**2 + 4*a*e**2*cos(omega)**2 + 4*a*e*sin(omega)*cos(inc)**2 - 4*a*sin(omega)**2*cos(inc)**2 - 4*a*cos(omega)**2 - e**2)/(sin(omega)**4 + sin(omega)**2*cos(inc)**2*cos(omega)**2 + cos(omega)**4))*sin(omega)*cos(omega)/(a*(e**2 - 1)*(2*sin(omega)**2*cos(inc)**2 + 2*cos(omega)**2)*cos(inc))"
      ]
     },
     "execution_count": 82,
     "metadata": {},
     "output_type": "execute_result"
    }
   ],
   "source": [
    "h_exact"
   ]
  },
  {
   "cell_type": "code",
   "execution_count": 83,
   "metadata": {},
   "outputs": [
    {
     "data": {
      "text/plain": [
       "(-2*sin(omega)*cos(inc)**2/(2*sin(omega)**2*cos(inc)**2 + 2*cos(omega)**2),\n",
       " e/(a*(1 - e**2)*(2*sin(omega)**2*cos(inc)**2 + 2*cos(omega)**2)),\n",
       " sqrt((-4*a**2*e**4*sin(omega)**2*cos(inc)**4 + 4*a**2*e**4*sin(omega)**2*cos(inc)**2 + 4*a**2*e**4*cos(omega)**2 + 8*a**2*e**2*sin(omega)**2*cos(inc)**4 - 8*a**2*e**2*sin(omega)**2*cos(inc)**2 - 8*a**2*e**2*cos(omega)**2 - 4*a**2*sin(omega)**2*cos(inc)**4 + 4*a**2*sin(omega)**2*cos(inc)**2 + 4*a**2*cos(omega)**2 - 4*a*e**3*sin(omega)*cos(inc)**2 + 4*a*e**2*sin(omega)**2*cos(inc)**2 + 4*a*e**2*cos(omega)**2 + 4*a*e*sin(omega)*cos(inc)**2 - 4*a*sin(omega)**2*cos(inc)**2 - 4*a*cos(omega)**2 - e**2)/(sin(omega)**4 + sin(omega)**2*cos(inc)**2*cos(omega)**2 + cos(omega)**4))*sin(omega)*cos(omega)/(a*(e**2 - 1)*(2*sin(omega)**2*cos(inc)**2 + 2*cos(omega)**2)*cos(inc)))"
      ]
     },
     "execution_count": 83,
     "metadata": {},
     "output_type": "execute_result"
    }
   ],
   "source": [
    "h_exact.args"
   ]
  },
  {
   "cell_type": "markdown",
   "metadata": {},
   "source": [
    "# a and b from A, B, C"
   ]
  },
  {
   "cell_type": "code",
   "execution_count": 84,
   "metadata": {},
   "outputs": [],
   "source": [
    "#Make Random Draws\n",
    "rw = np.random.uniform(low=0,high=2.*np.pi,size=1)\n",
    "ri = np.random.uniform(low=0,high=2.*np.pi,size=1)"
   ]
  },
  {
   "cell_type": "code",
   "execution_count": null,
   "metadata": {},
   "outputs": [],
   "source": []
  },
  {
   "cell_type": "code",
   "execution_count": null,
   "metadata": {},
   "outputs": [],
   "source": []
  },
  {
   "cell_type": "code",
   "execution_count": null,
   "metadata": {},
   "outputs": [],
   "source": []
  },
  {
   "cell_type": "code",
   "execution_count": null,
   "metadata": {},
   "outputs": [],
   "source": []
  },
  {
   "cell_type": "code",
   "execution_count": null,
   "metadata": {},
   "outputs": [],
   "source": []
  },
  {
   "cell_type": "code",
   "execution_count": null,
   "metadata": {},
   "outputs": [],
   "source": []
  },
  {
   "cell_type": "code",
   "execution_count": null,
   "metadata": {},
   "outputs": [],
   "source": []
  },
  {
   "cell_type": "code",
   "execution_count": null,
   "metadata": {},
   "outputs": [],
   "source": []
  },
  {
   "cell_type": "code",
   "execution_count": 85,
   "metadata": {},
   "outputs": [],
   "source": [
    "# Plotting 2D Proj. of 3D Ellipse"
   ]
  },
  {
   "cell_type": "code",
   "execution_count": null,
   "metadata": {},
   "outputs": [],
   "source": []
  }
 ],
 "metadata": {
  "kernelspec": {
   "display_name": "Python 3",
   "language": "python",
   "name": "python3"
  },
  "language_info": {
   "codemirror_mode": {
    "name": "ipython",
    "version": 3
   },
   "file_extension": ".py",
   "mimetype": "text/x-python",
   "name": "python",
   "nbconvert_exporter": "python",
   "pygments_lexer": "ipython3",
   "version": "3.6.9"
  }
 },
 "nbformat": 4,
 "nbformat_minor": 4
}
