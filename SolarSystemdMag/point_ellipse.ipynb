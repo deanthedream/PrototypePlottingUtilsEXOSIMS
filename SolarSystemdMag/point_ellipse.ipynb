{
 "cells": [
  {
   "cell_type": "code",
   "execution_count": 1,
   "metadata": {},
   "outputs": [],
   "source": [
    "import sympy as sp\n",
    "import numpy as np"
   ]
  },
  {
   "cell_type": "code",
   "execution_count": 2,
   "metadata": {},
   "outputs": [],
   "source": [
    "# What is the distance between an arbitrary point inside the ellipse and the closest point on the ellipse"
   ]
  },
  {
   "cell_type": "code",
   "execution_count": 35,
   "metadata": {},
   "outputs": [],
   "source": [
    "# symbols\n",
    "E, theta, phi, x_0, y_0, h, k, x, y = sp.symbols('E, theta, phi, x_0, y_0, h, k, x, y', real=True)\n",
    "a, b, e, r, gamma = sp.symbols('a b e r gamma', real=True, positive=True)\n",
    "A, B, C, D, E, F, G = sp.symbols('A B C D E F G',real=True)"
   ]
  },
  {
   "cell_type": "code",
   "execution_count": 36,
   "metadata": {},
   "outputs": [],
   "source": [
    "# distance from origin, equation of an ellipse\n",
    "s_ellipse = (a*sp.cos(E + phi) + x_0)**2 + (b*sp.sin(E + phi) + y_0)**2"
   ]
  },
  {
   "cell_type": "code",
   "execution_count": 37,
   "metadata": {},
   "outputs": [],
   "source": [
    "# distance from origin, equation of a circle\n",
    "s_circle = (r*sp.cos(gamma))**2 + (r*sp.sin(gamma))**2"
   ]
  },
  {
   "cell_type": "code",
   "execution_count": 38,
   "metadata": {},
   "outputs": [],
   "source": [
    "# useful trigonometric identities\n",
    "sinApB = sp.sin(A)*sp.cos(B) + sp.cos(A)*sp.sin(B)#sin(A+B)\n",
    "sinAmB = sp.sin(A)*sp.cos(B) - sp.cos(A)*sp.sin(B)#sin(A-B)\n",
    "cosApB = sp.cos(A)*sp.cos(B) - sp.sin(A)*sp.sin(B)#cos(A+B)\n",
    "cosAmB = sp.cos(A)*sp.cos(B) + sp.sin(A)*sp.sin(B)#cos(A-B)\n",
    "sin2A = 1 - sp.cos(A)**2\n",
    "sinA = sp.sqrt(sin2A)"
   ]
  },
  {
   "cell_type": "code",
   "execution_count": 39,
   "metadata": {},
   "outputs": [],
   "source": [
    "#subs a ton of stuff in\n",
    "s_ellipse = s_ellipse.subs(sp.cos(E + phi),cosApB).subs(sp.sin(E + phi),sinApB).subs(B,phi).subs(A,E).subs(sp.sin(E)**2,sin2A).subs(sp.sin(E),sinA).subs(A,E)"
   ]
  },
  {
   "cell_type": "code",
   "execution_count": 42,
   "metadata": {},
   "outputs": [],
   "source": [
    "s_ellipse_x = s_ellipse.subs(sp.cos(E),x)"
   ]
  },
  {
   "cell_type": "code",
   "execution_count": 44,
   "metadata": {},
   "outputs": [
    {
     "data": {
      "text/latex": [
       "$\\displaystyle - a^{2} x^{2} \\sin^{2}{\\left(\\phi \\right)} + a^{2} x^{2} \\cos^{2}{\\left(\\phi \\right)} - 2 a^{2} x \\sqrt{1 - x^{2}} \\sin{\\left(\\phi \\right)} \\cos{\\left(\\phi \\right)} + a^{2} \\sin^{2}{\\left(\\phi \\right)} + 2 a x x_{0} \\cos{\\left(\\phi \\right)} - 2 a x_{0} \\sqrt{1 - x^{2}} \\sin{\\left(\\phi \\right)} + b^{2} x^{2} \\sin^{2}{\\left(\\phi \\right)} - b^{2} x^{2} \\cos^{2}{\\left(\\phi \\right)} + 2 b^{2} x \\sqrt{1 - x^{2}} \\sin{\\left(\\phi \\right)} \\cos{\\left(\\phi \\right)} + b^{2} \\cos^{2}{\\left(\\phi \\right)} + 2 b x y_{0} \\sin{\\left(\\phi \\right)} + 2 b y_{0} \\sqrt{1 - x^{2}} \\cos{\\left(\\phi \\right)} + x_{0}^{2} + y_{0}^{2}$"
      ],
      "text/plain": [
       "-a**2*x**2*sin(phi)**2 + a**2*x**2*cos(phi)**2 - 2*a**2*x*sqrt(1 - x**2)*sin(phi)*cos(phi) + a**2*sin(phi)**2 + 2*a*x*x_0*cos(phi) - 2*a*x_0*sqrt(1 - x**2)*sin(phi) + b**2*x**2*sin(phi)**2 - b**2*x**2*cos(phi)**2 + 2*b**2*x*sqrt(1 - x**2)*sin(phi)*cos(phi) + b**2*cos(phi)**2 + 2*b*x*y_0*sin(phi) + 2*b*y_0*sqrt(1 - x**2)*cos(phi) + x_0**2 + y_0**2"
      ]
     },
     "execution_count": 44,
     "metadata": {},
     "output_type": "execute_result"
    }
   ],
   "source": [
    "sp.expand(s_ellipse_x)"
   ]
  },
  {
   "cell_type": "code",
   "execution_count": 51,
   "metadata": {},
   "outputs": [],
   "source": [
    "#sp.solve(s_ellipse_x,x)"
   ]
  },
  {
   "cell_type": "code",
   "execution_count": 49,
   "metadata": {},
   "outputs": [
    {
     "name": "stdout",
     "output_type": "stream",
     "text": [
      "-a**2*x**2*sin(phi)**2 + a**2*x**2*cos(phi)**2 - 2*a**2*x*sqrt(1 - x**2)*sin(phi)*cos(phi) + a**2*sin(phi)**2 + 2*a*x*x_0*cos(phi) - 2*a*x_0*sqrt(1 - x**2)*sin(phi) + b**2*x**2*sin(phi)**2 - b**2*x**2*cos(phi)**2 + 2*b**2*x*sqrt(1 - x**2)*sin(phi)*cos(phi) + b**2*cos(phi)**2 + 2*b*x*y_0*sin(phi) + 2*b*y_0*sqrt(1 - x**2)*cos(phi) + x_0**2 + y_0**2\n"
     ]
    }
   ],
   "source": [
    "print(sp.expand(s_ellipse_x))"
   ]
  },
  {
   "cell_type": "code",
   "execution_count": 52,
   "metadata": {},
   "outputs": [],
   "source": [
    "#sp.solve(s_ellipse_x,x)"
   ]
  },
  {
   "cell_type": "code",
   "execution_count": 55,
   "metadata": {},
   "outputs": [],
   "source": [
    "ds_ellipse = sp.diff(s_ellipse,E).subs(sp.cos(E + phi),cosApB).subs(sp.sin(E + phi),sinApB).subs(B,phi).subs(A,E).subs(sp.sin(E)**2,sin2A).subs(sp.sin(E),sinA).subs(A,E)"
   ]
  },
  {
   "cell_type": "code",
   "execution_count": 57,
   "metadata": {},
   "outputs": [],
   "source": [
    "ds_ellipse_x = ds_ellipse.subs(sp.cos(E),x)"
   ]
  },
  {
   "cell_type": "code",
   "execution_count": 60,
   "metadata": {},
   "outputs": [
    {
     "name": "stdout",
     "output_type": "stream",
     "text": [
      "-4*a**2*x**2*sin(phi)*cos(phi) + 2*a**2*x*sqrt(1 - x**2)*sin(phi)**2 - 2*a**2*x*sqrt(1 - x**2)*cos(phi)**2 + 2*a**2*sin(phi)*cos(phi) - 2*a*x*x_0*sin(phi) - 2*a*x_0*sqrt(1 - x**2)*cos(phi) + 4*b**2*x**2*sin(phi)*cos(phi) - 2*b**2*x*sqrt(1 - x**2)*sin(phi)**2 + 2*b**2*x*sqrt(1 - x**2)*cos(phi)**2 - 2*b**2*sin(phi)*cos(phi) + 2*b*x*y_0*cos(phi) - 2*b*y_0*sqrt(1 - x**2)*sin(phi)\n"
     ]
    }
   ],
   "source": [
    "print(sp.expand(ds_ellipse_x))"
   ]
  },
  {
   "cell_type": "code",
   "execution_count": null,
   "metadata": {},
   "outputs": [],
   "source": []
  }
 ],
 "metadata": {
  "kernelspec": {
   "display_name": "Python 3",
   "language": "python",
   "name": "python3"
  },
  "language_info": {
   "codemirror_mode": {
    "name": "ipython",
    "version": 3
   },
   "file_extension": ".py",
   "mimetype": "text/x-python",
   "name": "python",
   "nbconvert_exporter": "python",
   "pygments_lexer": "ipython3",
   "version": "3.6.9"
  }
 },
 "nbformat": 4,
 "nbformat_minor": 4
}
