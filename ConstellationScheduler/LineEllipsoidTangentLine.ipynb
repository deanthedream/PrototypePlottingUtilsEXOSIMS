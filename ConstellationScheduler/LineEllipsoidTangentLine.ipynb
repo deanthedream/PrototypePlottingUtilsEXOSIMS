{
 "cells": [
  {
   "cell_type": "markdown",
   "id": "d9e21fce",
   "metadata": {},
   "source": [
    "# Given a line and an ellipsoid, computes the point of closest approach between a line and the ellipsoid"
   ]
  },
  {
   "cell_type": "code",
   "execution_count": 40,
   "id": "4f7a1721",
   "metadata": {},
   "outputs": [],
   "source": [
    "import sympy as sp\n",
    "import numpy as np"
   ]
  },
  {
   "cell_type": "code",
   "execution_count": 41,
   "id": "a6fa35c5",
   "metadata": {},
   "outputs": [],
   "source": [
    "x0,y0,z0,t,e,f,g,a,b,c,x,y,z,H = sp.symbols('x0,y0,z0,t,e,f,g,a,b,c,x,y,z,H',real=True)"
   ]
  },
  {
   "cell_type": "markdown",
   "id": "534d9c96",
   "metadata": {},
   "source": [
    "# Line Equations"
   ]
  },
  {
   "cell_type": "code",
   "execution_count": 42,
   "id": "7563adba",
   "metadata": {},
   "outputs": [],
   "source": [
    "xeqn = x0+t*e\n",
    "yeqn = y0+t*f\n",
    "zeqn = z0+t*g\n",
    "dxdt = e\n",
    "dydt = f\n",
    "dzdt = g\n",
    "dydx_line = f/e\n",
    "dydz_line = f/g"
   ]
  },
  {
   "cell_type": "markdown",
   "id": "8cfe1c59",
   "metadata": {},
   "source": [
    "# Ellipsoid Equations"
   ]
  },
  {
   "cell_type": "code",
   "execution_count": 43,
   "id": "770ccda7",
   "metadata": {},
   "outputs": [],
   "source": [
    "ellipseEqn = x**2/a**2 + y**2/b**2+z**2/c**2-H\n",
    "dxdH = a**2/(2*x)\n",
    "dydH = b**2/(2*y)\n",
    "dzdH = c**2/(2*z)\n",
    "dydx_ellipse = dydH/dxdH\n",
    "dydz_ellipse = dydH/dzdH"
   ]
  },
  {
   "cell_type": "code",
   "execution_count": 44,
   "id": "21e296c0",
   "metadata": {},
   "outputs": [],
   "source": [
    "eqn1 = dydx_line - dydx_ellipse\n",
    "eqn2 = dydz_line - dydz_ellipse"
   ]
  },
  {
   "cell_type": "code",
   "execution_count": 45,
   "id": "5b24e797",
   "metadata": {},
   "outputs": [],
   "source": [
    "#Substitute in line equation in terms of x,y,z and solve for t"
   ]
  },
  {
   "cell_type": "code",
   "execution_count": 46,
   "id": "589a95d1",
   "metadata": {},
   "outputs": [],
   "source": [
    "teqn1 = sp.solve(eqn1.subs(x,xeqn).subs(y,yeqn),t)"
   ]
  },
  {
   "cell_type": "code",
   "execution_count": 47,
   "id": "ab30b16f",
   "metadata": {},
   "outputs": [
    {
     "data": {
      "text/latex": [
       "$\\displaystyle \\frac{- a^{2} f y_{0} + b^{2} e x_{0}}{a^{2} f^{2} - b^{2} e^{2}}$"
      ],
      "text/plain": [
       "(-a**2*f*y0 + b**2*e*x0)/(a**2*f**2 - b**2*e**2)"
      ]
     },
     "execution_count": 47,
     "metadata": {},
     "output_type": "execute_result"
    }
   ],
   "source": [
    "teqn1[0]"
   ]
  },
  {
   "cell_type": "code",
   "execution_count": 48,
   "id": "ab4bfc52",
   "metadata": {},
   "outputs": [],
   "source": [
    "teqn2 = sp.solve(eqn2.subs(z,zeqn).subs(y,yeqn),t)"
   ]
  },
  {
   "cell_type": "code",
   "execution_count": 49,
   "id": "dc739038",
   "metadata": {},
   "outputs": [
    {
     "data": {
      "text/latex": [
       "$\\displaystyle \\frac{- b^{2} g z_{0} + c^{2} f y_{0}}{b^{2} g^{2} - c^{2} f^{2}}$"
      ],
      "text/plain": [
       "(-b**2*g*z0 + c**2*f*y0)/(b**2*g**2 - c**2*f**2)"
      ]
     },
     "execution_count": 49,
     "metadata": {},
     "output_type": "execute_result"
    }
   ],
   "source": [
    "teqn2[0]"
   ]
  },
  {
   "cell_type": "code",
   "execution_count": 50,
   "id": "8eb106d7",
   "metadata": {},
   "outputs": [],
   "source": [
    " import matplotlib.pyplot as plt"
   ]
  },
  {
   "cell_type": "code",
   "execution_count": 65,
   "id": "5efd25a5",
   "metadata": {},
   "outputs": [],
   "source": [
    "tmpa = 1.\n",
    "tmpb = 1.\n",
    "tmpc = 1.\n",
    "tmpx0 = 2.\n",
    "tmpy0 = -1.\n",
    "tmpz0 = 0.\n",
    "tmpe = 0.\n",
    "tmpf = 1.\n",
    "tmpg = 0.\n",
    "tmpH = 1."
   ]
  },
  {
   "cell_type": "code",
   "execution_count": 70,
   "id": "d782a483",
   "metadata": {},
   "outputs": [],
   "source": [
    "trange = np.linspace(-2,2)\n",
    "#teqn.subs(z0,0).subs(z,0)"
   ]
  },
  {
   "cell_type": "code",
   "execution_count": 97,
   "id": "d2b076a7",
   "metadata": {},
   "outputs": [
    {
     "name": "stderr",
     "output_type": "stream",
     "text": [
      "/tmp/ipykernel_460716/243984931.py:25: RuntimeWarning: invalid value encountered in sqrt\n",
      "  zl = -np.sqrt((tmpH-xrange[i]**2./tmpa**2.-yrange[j]**2./tmpb**2.)*tmpc**2.)\n"
     ]
    },
    {
     "ename": "IndexError",
     "evalue": "list index out of range",
     "output_type": "error",
     "traceback": [
      "\u001b[0;31m---------------------------------------------------------------------------\u001b[0m",
      "\u001b[0;31mIndexError\u001b[0m                                Traceback (most recent call last)",
      "\u001b[0;32m/tmp/ipykernel_460716/243984931.py\u001b[0m in \u001b[0;36m<module>\u001b[0;34m\u001b[0m\n\u001b[1;32m     36\u001b[0m \u001b[0;34m\u001b[0m\u001b[0m\n\u001b[1;32m     37\u001b[0m \u001b[0;34m\u001b[0m\u001b[0m\n\u001b[0;32m---> 38\u001b[0;31m \u001b[0mtmpt\u001b[0m \u001b[0;34m=\u001b[0m \u001b[0mteqn1\u001b[0m\u001b[0;34m[\u001b[0m\u001b[0;36m0\u001b[0m\u001b[0;34m]\u001b[0m\u001b[0;34m.\u001b[0m\u001b[0msubs\u001b[0m\u001b[0;34m(\u001b[0m\u001b[0ma\u001b[0m\u001b[0;34m,\u001b[0m\u001b[0mtmpa\u001b[0m\u001b[0;34m)\u001b[0m\u001b[0;34m.\u001b[0m\u001b[0msubs\u001b[0m\u001b[0;34m(\u001b[0m\u001b[0mb\u001b[0m\u001b[0;34m,\u001b[0m\u001b[0mtmpb\u001b[0m\u001b[0;34m)\u001b[0m\u001b[0;34m.\u001b[0m\u001b[0msubs\u001b[0m\u001b[0;34m(\u001b[0m\u001b[0mc\u001b[0m\u001b[0;34m,\u001b[0m\u001b[0mtmpc\u001b[0m\u001b[0;34m)\u001b[0m\u001b[0;34m.\u001b[0m\u001b[0msubs\u001b[0m\u001b[0;34m(\u001b[0m\u001b[0mx0\u001b[0m\u001b[0;34m,\u001b[0m\u001b[0mtmpx0\u001b[0m\u001b[0;34m)\u001b[0m\u001b[0;34m.\u001b[0m\u001b[0msubs\u001b[0m\u001b[0;34m(\u001b[0m\u001b[0my0\u001b[0m\u001b[0;34m,\u001b[0m\u001b[0mtmpy0\u001b[0m\u001b[0;34m)\u001b[0m\u001b[0;34m.\u001b[0m\u001b[0msubs\u001b[0m\u001b[0;34m(\u001b[0m\u001b[0mz0\u001b[0m\u001b[0;34m,\u001b[0m\u001b[0mtmpz0\u001b[0m\u001b[0;34m)\u001b[0m\u001b[0;34m.\u001b[0m\u001b[0msubs\u001b[0m\u001b[0;34m(\u001b[0m\u001b[0me\u001b[0m\u001b[0;34m,\u001b[0m\u001b[0mtmpe\u001b[0m\u001b[0;34m)\u001b[0m\u001b[0;34m.\u001b[0m\u001b[0msubs\u001b[0m\u001b[0;34m(\u001b[0m\u001b[0mf\u001b[0m\u001b[0;34m,\u001b[0m\u001b[0mtmpf\u001b[0m\u001b[0;34m)\u001b[0m\u001b[0;34m.\u001b[0m\u001b[0msubs\u001b[0m\u001b[0;34m(\u001b[0m\u001b[0mg\u001b[0m\u001b[0;34m,\u001b[0m\u001b[0mtmpg\u001b[0m\u001b[0;34m)\u001b[0m\u001b[0;34m.\u001b[0m\u001b[0msubs\u001b[0m\u001b[0;34m(\u001b[0m\u001b[0mH\u001b[0m\u001b[0;34m,\u001b[0m\u001b[0mtmpH\u001b[0m\u001b[0;34m)\u001b[0m\u001b[0;34m\u001b[0m\u001b[0;34m\u001b[0m\u001b[0m\n\u001b[0m\u001b[1;32m     39\u001b[0m \u001b[0mxpt\u001b[0m \u001b[0;34m=\u001b[0m \u001b[0mxeqn\u001b[0m\u001b[0;34m.\u001b[0m\u001b[0msubs\u001b[0m\u001b[0;34m(\u001b[0m\u001b[0ma\u001b[0m\u001b[0;34m,\u001b[0m\u001b[0mtmpa\u001b[0m\u001b[0;34m)\u001b[0m\u001b[0;34m.\u001b[0m\u001b[0msubs\u001b[0m\u001b[0;34m(\u001b[0m\u001b[0mb\u001b[0m\u001b[0;34m,\u001b[0m\u001b[0mtmpb\u001b[0m\u001b[0;34m)\u001b[0m\u001b[0;34m.\u001b[0m\u001b[0msubs\u001b[0m\u001b[0;34m(\u001b[0m\u001b[0mc\u001b[0m\u001b[0;34m,\u001b[0m\u001b[0mtmpc\u001b[0m\u001b[0;34m)\u001b[0m\u001b[0;34m.\u001b[0m\u001b[0msubs\u001b[0m\u001b[0;34m(\u001b[0m\u001b[0mx0\u001b[0m\u001b[0;34m,\u001b[0m\u001b[0mtmpx0\u001b[0m\u001b[0;34m)\u001b[0m\u001b[0;34m.\u001b[0m\u001b[0msubs\u001b[0m\u001b[0;34m(\u001b[0m\u001b[0my0\u001b[0m\u001b[0;34m,\u001b[0m\u001b[0mtmpy0\u001b[0m\u001b[0;34m)\u001b[0m\u001b[0;34m.\u001b[0m\u001b[0msubs\u001b[0m\u001b[0;34m(\u001b[0m\u001b[0mz0\u001b[0m\u001b[0;34m,\u001b[0m\u001b[0mtmpz0\u001b[0m\u001b[0;34m)\u001b[0m\u001b[0;34m.\u001b[0m\u001b[0msubs\u001b[0m\u001b[0;34m(\u001b[0m\u001b[0me\u001b[0m\u001b[0;34m,\u001b[0m\u001b[0mtmpe\u001b[0m\u001b[0;34m)\u001b[0m\u001b[0;34m.\u001b[0m\u001b[0msubs\u001b[0m\u001b[0;34m(\u001b[0m\u001b[0mf\u001b[0m\u001b[0;34m,\u001b[0m\u001b[0mtmpf\u001b[0m\u001b[0;34m)\u001b[0m\u001b[0;34m.\u001b[0m\u001b[0msubs\u001b[0m\u001b[0;34m(\u001b[0m\u001b[0mg\u001b[0m\u001b[0;34m,\u001b[0m\u001b[0mtmpg\u001b[0m\u001b[0;34m)\u001b[0m\u001b[0;34m.\u001b[0m\u001b[0msubs\u001b[0m\u001b[0;34m(\u001b[0m\u001b[0mH\u001b[0m\u001b[0;34m,\u001b[0m\u001b[0mtmpH\u001b[0m\u001b[0;34m)\u001b[0m\u001b[0;34m.\u001b[0m\u001b[0msubs\u001b[0m\u001b[0;34m(\u001b[0m\u001b[0mt\u001b[0m\u001b[0;34m,\u001b[0m\u001b[0mtmpt\u001b[0m\u001b[0;34m)\u001b[0m\u001b[0;34m\u001b[0m\u001b[0;34m\u001b[0m\u001b[0m\n\u001b[1;32m     40\u001b[0m \u001b[0mypt\u001b[0m \u001b[0;34m=\u001b[0m \u001b[0myeqn\u001b[0m\u001b[0;34m.\u001b[0m\u001b[0msubs\u001b[0m\u001b[0;34m(\u001b[0m\u001b[0ma\u001b[0m\u001b[0;34m,\u001b[0m\u001b[0mtmpa\u001b[0m\u001b[0;34m)\u001b[0m\u001b[0;34m.\u001b[0m\u001b[0msubs\u001b[0m\u001b[0;34m(\u001b[0m\u001b[0mb\u001b[0m\u001b[0;34m,\u001b[0m\u001b[0mtmpb\u001b[0m\u001b[0;34m)\u001b[0m\u001b[0;34m.\u001b[0m\u001b[0msubs\u001b[0m\u001b[0;34m(\u001b[0m\u001b[0mc\u001b[0m\u001b[0;34m,\u001b[0m\u001b[0mtmpc\u001b[0m\u001b[0;34m)\u001b[0m\u001b[0;34m.\u001b[0m\u001b[0msubs\u001b[0m\u001b[0;34m(\u001b[0m\u001b[0mx0\u001b[0m\u001b[0;34m,\u001b[0m\u001b[0mtmpx0\u001b[0m\u001b[0;34m)\u001b[0m\u001b[0;34m.\u001b[0m\u001b[0msubs\u001b[0m\u001b[0;34m(\u001b[0m\u001b[0my0\u001b[0m\u001b[0;34m,\u001b[0m\u001b[0mtmpy0\u001b[0m\u001b[0;34m)\u001b[0m\u001b[0;34m.\u001b[0m\u001b[0msubs\u001b[0m\u001b[0;34m(\u001b[0m\u001b[0mz0\u001b[0m\u001b[0;34m,\u001b[0m\u001b[0mtmpz0\u001b[0m\u001b[0;34m)\u001b[0m\u001b[0;34m.\u001b[0m\u001b[0msubs\u001b[0m\u001b[0;34m(\u001b[0m\u001b[0me\u001b[0m\u001b[0;34m,\u001b[0m\u001b[0mtmpe\u001b[0m\u001b[0;34m)\u001b[0m\u001b[0;34m.\u001b[0m\u001b[0msubs\u001b[0m\u001b[0;34m(\u001b[0m\u001b[0mf\u001b[0m\u001b[0;34m,\u001b[0m\u001b[0mtmpf\u001b[0m\u001b[0;34m)\u001b[0m\u001b[0;34m.\u001b[0m\u001b[0msubs\u001b[0m\u001b[0;34m(\u001b[0m\u001b[0mg\u001b[0m\u001b[0;34m,\u001b[0m\u001b[0mtmpg\u001b[0m\u001b[0;34m)\u001b[0m\u001b[0;34m.\u001b[0m\u001b[0msubs\u001b[0m\u001b[0;34m(\u001b[0m\u001b[0mH\u001b[0m\u001b[0;34m,\u001b[0m\u001b[0mtmpH\u001b[0m\u001b[0;34m)\u001b[0m\u001b[0;34m.\u001b[0m\u001b[0msubs\u001b[0m\u001b[0;34m(\u001b[0m\u001b[0mt\u001b[0m\u001b[0;34m,\u001b[0m\u001b[0mtmpt\u001b[0m\u001b[0;34m)\u001b[0m\u001b[0;34m\u001b[0m\u001b[0;34m\u001b[0m\u001b[0m\n",
      "\u001b[0;31mIndexError\u001b[0m: list index out of range"
     ]
    },
    {
     "data": {
      "image/png": "[encoded data removed]",
      "text/plain": [
       "<Figure size 432x288 with 1 Axes>"
      ]
     },
     "metadata": {
      "needs_background": "light"
     },
     "output_type": "display_data"
    }
   ],
   "source": [
    "fig3 = plt.figure(2903850928354)\n",
    "ax3 = fig3.add_subplot(111, projection='3d',computed_zorder=False)\n",
    "ax3.set_box_aspect(aspect = (3,3,3))#set_aspect('equal')\n",
    "#Draw Line\n",
    "outx = list()\n",
    "outy = list()\n",
    "outz = list()\n",
    "for i in np.arange(len(trange)):\n",
    "    outx.append(xeqn.subs(a,tmpa).subs(b,tmpb).subs(c,tmpc).subs(x0,tmpx0).subs(y0,tmpy0).subs(z0,tmpz0).subs(e,tmpe).subs(f,tmpf).subs(g,tmpg).subs(H,tmpH).subs(t,trange[i]))\n",
    "    outy.append(yeqn.subs(a,tmpa).subs(b,tmpb).subs(c,tmpc).subs(x0,tmpx0).subs(y0,tmpy0).subs(z0,tmpz0).subs(e,tmpe).subs(f,tmpf).subs(g,tmpg).subs(H,tmpH).subs(t,trange[i]))\n",
    "    outz.append(zeqn.subs(a,tmpa).subs(b,tmpb).subs(c,tmpc).subs(x0,tmpx0).subs(y0,tmpy0).subs(z0,tmpz0).subs(e,tmpe).subs(f,tmpf).subs(g,tmpg).subs(H,tmpH).subs(t,trange[i]))\n",
    "ax3.plot(outx,outy,outz)\n",
    "#Draw Sphere\n",
    "xs = list()\n",
    "ys = list()\n",
    "zs = list()\n",
    "xmin = -np.sqrt(tmpH*tmpa**2.)\n",
    "xmax = -xmin\n",
    "xrange = np.linspace(start=xmin, stop=xmax,num=100,endpoint=True)\n",
    "for i in np.arange(len(xrange)):\n",
    "    ymin = -np.sqrt((tmpH-xrange[i]**2/tmpa**2)*tmpb**2.)\n",
    "    ymax = -ymin\n",
    "    yrange = np.linspace(start=ymin,stop=ymax,num=100,endpoint=True)\n",
    "    for j in np.arange(len(yrange)):\n",
    "        zl = -np.sqrt((tmpH-xrange[i]**2./tmpa**2.-yrange[j]**2./tmpb**2.)*tmpc**2.)\n",
    "        zu = -zl\n",
    "        xs.append(xrange[i])\n",
    "        ys.append(yrange[j])\n",
    "        zs.append(zl)\n",
    "        xs.append(xrange[i])\n",
    "        ys.append(yrange[j])\n",
    "        zs.append(zu)\n",
    "#ax3.scatter(xrange[i],yrange[j],zl,color='black')\n",
    "#ax3.scatter(xrange[i],yrange[j],zu,color='black')\n",
    "ax3.scatter(xs,ys,zs,color='black',s=1)\n",
    "\n",
    "\n",
    "tmpt = teqn1[0].subs(a,tmpa).subs(b,tmpb).subs(c,tmpc).subs(x0,tmpx0).subs(y0,tmpy0).subs(z0,tmpz0).subs(e,tmpe).subs(f,tmpf).subs(g,tmpg).subs(H,tmpH)\n",
    "xpt = xeqn.subs(a,tmpa).subs(b,tmpb).subs(c,tmpc).subs(x0,tmpx0).subs(y0,tmpy0).subs(z0,tmpz0).subs(e,tmpe).subs(f,tmpf).subs(g,tmpg).subs(H,tmpH).subs(t,tmpt)\n",
    "ypt = yeqn.subs(a,tmpa).subs(b,tmpb).subs(c,tmpc).subs(x0,tmpx0).subs(y0,tmpy0).subs(z0,tmpz0).subs(e,tmpe).subs(f,tmpf).subs(g,tmpg).subs(H,tmpH).subs(t,tmpt)\n",
    "zpt = zeqn.subs(a,tmpa).subs(b,tmpb).subs(c,tmpc).subs(x0,tmpx0).subs(y0,tmpy0).subs(z0,tmpz0).subs(e,tmpe).subs(f,tmpf).subs(g,tmpg).subs(H,tmpH).subs(t,tmpt)\n",
    "ax3.scatter(xpt,ypt,zpt,color='red')\n",
    "\n",
    "plt.show(block=False)"
   ]
  },
  {
   "cell_type": "code",
   "execution_count": 98,
   "id": "be1d32ba",
   "metadata": {},
   "outputs": [],
   "source": [
    "#### t of zenith line from point on ellipse to tangent point\n",
    "xt, yt, zt = sp.symbols(\"x_t, y_t, z_t\",real=True)\n",
    "x1eqn = xt/(1-2*t/a**2)\n",
    "y1eqn = yt/(1-2*t/b**2)\n",
    "z1eqn = zt/(1-2*t/c**2)\n",
    "#teqn1 = sp.solve(ellipseEqn.subs(x,x1eqn).subs(y,y1eqn).subs(z,z1eqn),t)"
   ]
  },
  {
   "cell_type": "code",
   "execution_count": 115,
   "id": "a59b4114",
   "metadata": {},
   "outputs": [],
   "source": [
    "#ellipse equation\n",
    "t_of_zenith = sp.solve(sp.simplify(ellipseEqn.subs(x,x1eqn).subs(y,y1eqn).subs(z,z1eqn).subs(xt,xpt[0]).subs(yt,ypt[0]).subs(zt,zpt).subs(a,tmpa).subs(b,tmpb).subs(c,tmpc).subs(H,tmpH)),t)"
   ]
  },
  {
   "cell_type": "code",
   "execution_count": 132,
   "id": "740ab89b",
   "metadata": {},
   "outputs": [
    {
     "data": {
      "text/latex": [
       "$\\displaystyle - H + \\frac{x_{t}^{2}}{a^{2} - 4 t + \\frac{4 t^{2}}{a^{2}}} + \\frac{y_{t}^{2}}{b^{2} - 4 t + \\frac{4 t^{2}}{b^{2}}} + \\frac{z_{t}^{2}}{c^{2} - 4 t + \\frac{4 t^{2}}{c^{2}}}$"
      ],
      "text/plain": [
       "-H + x_t**2/(a**2 - 4*t + 4*t**2/a**2) + y_t**2/(b**2 - 4*t + 4*t**2/b**2) + z_t**2/(c**2 - 4*t + 4*t**2/c**2)"
      ]
     },
     "execution_count": 132,
     "metadata": {},
     "output_type": "execute_result"
    }
   ],
   "source": [
    "sp.expand(ellipseEqn.subs(x,x1eqn).subs(y,y1eqn).subs(z,z1eqn))"
   ]
  },
  {
   "cell_type": "code",
   "execution_count": 116,
   "id": "28f6b9bd",
   "metadata": {},
   "outputs": [
    {
     "data": {
      "text/plain": [
       "[-0.500000000000000, 1.50000000000000]"
      ]
     },
     "execution_count": 116,
     "metadata": {},
     "output_type": "execute_result"
    }
   ],
   "source": [
    "t_of_zenith"
   ]
  },
  {
   "cell_type": "code",
   "execution_count": 119,
   "id": "a6fa3ce9",
   "metadata": {},
   "outputs": [],
   "source": [
    "x1 = x1eqn.subs(a,tmpa).subs(xt,xpt[0]).subs(yt,ypt[0]).subs(zt,zpt).subs(a,tmpa).subs(b,tmpb).subs(c,tmpc).subs(H,tmpH).subs(t,t_of_zenith[0])\n",
    "y1 = y1eqn.subs(a,tmpa).subs(xt,xpt[0]).subs(yt,ypt[0]).subs(zt,zpt).subs(a,tmpa).subs(b,tmpb).subs(c,tmpc).subs(H,tmpH).subs(t,t_of_zenith[0])\n",
    "z1 = z1eqn.subs(a,tmpa).subs(xt,xpt[0]).subs(yt,ypt[0]).subs(zt,zpt).subs(a,tmpa).subs(b,tmpb).subs(c,tmpc).subs(H,tmpH).subs(t,t_of_zenith[0])"
   ]
  },
  {
   "cell_type": "code",
   "execution_count": 123,
   "id": "81faa083",
   "metadata": {},
   "outputs": [
    {
     "data": {
      "text/latex": [
       "$\\displaystyle 1.0$"
      ],
      "text/plain": [
       "1.00000000000000"
      ]
     },
     "execution_count": 123,
     "metadata": {},
     "output_type": "execute_result"
    }
   ],
   "source": [
    "x1"
   ]
  },
  {
   "cell_type": "code",
   "execution_count": 122,
   "id": "c615f03a",
   "metadata": {},
   "outputs": [
    {
     "data": {
      "text/latex": [
       "$\\displaystyle 0$"
      ],
      "text/plain": [
       "0"
      ]
     },
     "execution_count": 122,
     "metadata": {},
     "output_type": "execute_result"
    }
   ],
   "source": [
    "y1"
   ]
  },
  {
   "cell_type": "code",
   "execution_count": 113,
   "id": "97354230",
   "metadata": {},
   "outputs": [
    {
     "data": {
      "text/latex": [
       "$\\displaystyle 0$"
      ],
      "text/plain": [
       "0"
      ]
     },
     "execution_count": 113,
     "metadata": {},
     "output_type": "execute_result"
    }
   ],
   "source": [
    "z1"
   ]
  },
  {
   "cell_type": "markdown",
   "id": "54bc58e3",
   "metadata": {},
   "source": [
    "# Formulation 2"
   ]
  },
  {
   "cell_type": "code",
   "execution_count": 203,
   "id": "43f33767",
   "metadata": {},
   "outputs": [],
   "source": [
    "P0x, P0y, P0z, P1x, P1y, P1z = sp.symbols(\"P_{0x}, P_{0y}, P_{0z}, P_{1x}, P_{1y}, P_{1z}\",real=True)"
   ]
  },
  {
   "cell_type": "code",
   "execution_count": 204,
   "id": "d81bcbf8",
   "metadata": {},
   "outputs": [],
   "source": [
    "eqn1 = (-e*P0x+e*x0-f*P0y+f*y0-g*P0z+g*z0)/(e**2+f**2+g**2)"
   ]
  },
  {
   "cell_type": "code",
   "execution_count": 205,
   "id": "cd7b888e",
   "metadata": {},
   "outputs": [
    {
     "data": {
      "text/latex": [
       "$\\displaystyle \\frac{- P_{0x} e - P_{0y} f - P_{0z} g + e x_{0} + f y_{0} + g z_{0}}{e^{2} + f^{2} + g^{2}}$"
      ],
      "text/plain": [
       "(-P_{0x}*e - P_{0y}*f - P_{0z}*g + e*x0 + f*y0 + g*z0)/(e**2 + f**2 + g**2)"
      ]
     },
     "execution_count": 205,
     "metadata": {},
     "output_type": "execute_result"
    }
   ],
   "source": [
    "eqn1 #=t"
   ]
  },
  {
   "cell_type": "code",
   "execution_count": 206,
   "id": "dccef4dc",
   "metadata": {},
   "outputs": [],
   "source": [
    "zeroEqn2 = e*b**2*c**2*x0 + f*a**2*c**2*y0 + g*a**2*b**2*z0 #=0"
   ]
  },
  {
   "cell_type": "code",
   "execution_count": 207,
   "id": "c07d20cc",
   "metadata": {},
   "outputs": [
    {
     "data": {
      "text/latex": [
       "$\\displaystyle a^{2} b^{2} g z_{0} + a^{2} c^{2} f y_{0} + b^{2} c^{2} e x_{0}$"
      ],
      "text/plain": [
       "a**2*b**2*g*z0 + a**2*c**2*f*y0 + b**2*c**2*e*x0"
      ]
     },
     "execution_count": 207,
     "metadata": {},
     "output_type": "execute_result"
    }
   ],
   "source": [
    "zeroEqn2"
   ]
  },
  {
   "cell_type": "code",
   "execution_count": 208,
   "id": "7a056b80",
   "metadata": {},
   "outputs": [],
   "source": [
    "zeroEqn3 = x0**2/a**2 + y0**2/b**2 + z0**2/c**2 - H"
   ]
  },
  {
   "cell_type": "code",
   "execution_count": 209,
   "id": "ffcbfb9a",
   "metadata": {},
   "outputs": [
    {
     "data": {
      "text/latex": [
       "$\\displaystyle - H + \\frac{z_{0}^{2}}{c^{2}} + \\frac{y_{0}^{2}}{b^{2}} + \\frac{x_{0}^{2}}{a^{2}}$"
      ],
      "text/plain": [
       "-H + z0**2/c**2 + y0**2/b**2 + x0**2/a**2"
      ]
     },
     "execution_count": 209,
     "metadata": {},
     "output_type": "execute_result"
    }
   ],
   "source": [
    "zeroEqn3"
   ]
  },
  {
   "cell_type": "code",
   "execution_count": 210,
   "id": "a3c4de0b",
   "metadata": {},
   "outputs": [],
   "source": [
    "zeroEqn4 = e*x0 - e*(e*t+P0x) + f*y0 - f*(f*t+P0y) + g*z - g*(g*t+P0z)"
   ]
  },
  {
   "cell_type": "code",
   "execution_count": 211,
   "id": "cf620725",
   "metadata": {},
   "outputs": [
    {
     "data": {
      "text/latex": [
       "$\\displaystyle e x_{0} - e \\left(P_{0x} + e t\\right) + f y_{0} - f \\left(P_{0y} + f t\\right) + g z - g \\left(P_{0z} + g t\\right)$"
      ],
      "text/plain": [
       "e*x0 - e*(P_{0x} + e*t) + f*y0 - f*(P_{0y} + f*t) + g*z - g*(P_{0z} + g*t)"
      ]
     },
     "execution_count": 211,
     "metadata": {},
     "output_type": "execute_result"
    }
   ],
   "source": [
    "zeroEqn4"
   ]
  },
  {
   "cell_type": "code",
   "execution_count": 212,
   "id": "94159953",
   "metadata": {},
   "outputs": [],
   "source": [
    "gammaEqn = sp.sqrt((P1x-x0)**2+(P1y-y0)**2+(P1z-z0)**2)\n",
    "eqnOfPlane = (f*(P1z-z0)-g*(P1y-y0))*(x-P0x) + (g*(P1x-x0)-e*(P1z-z0))*(y-P0y) + (e*(P1y-y0)-f*(P1x-x0))*(z-P0z)#/gammaEqn=0"
   ]
  },
  {
   "cell_type": "code",
   "execution_count": 213,
   "id": "2d55aec4",
   "metadata": {},
   "outputs": [
    {
     "data": {
      "text/latex": [
       "$\\displaystyle P_{0x} P_{1y} g - P_{0x} P_{1z} f + P_{0x} f z_{0} - P_{0x} g y_{0} - P_{0y} P_{1x} g + P_{0y} P_{1z} e - P_{0y} e z_{0} + P_{0y} g x_{0} + P_{0z} P_{1x} f - P_{0z} P_{1y} e + P_{0z} e y_{0} - P_{0z} f x_{0} - P_{1x} f z + P_{1x} g y + P_{1y} e z - P_{1y} g x - P_{1z} e y + P_{1z} f x + e y z_{0} - e y_{0} z - f x z_{0} + f x_{0} z + g x y_{0} - g x_{0} y$"
      ],
      "text/plain": [
       "P_{0x}*P_{1y}*g - P_{0x}*P_{1z}*f + P_{0x}*f*z0 - P_{0x}*g*y0 - P_{0y}*P_{1x}*g + P_{0y}*P_{1z}*e - P_{0y}*e*z0 + P_{0y}*g*x0 + P_{0z}*P_{1x}*f - P_{0z}*P_{1y}*e + P_{0z}*e*y0 - P_{0z}*f*x0 - P_{1x}*f*z + P_{1x}*g*y + P_{1y}*e*z - P_{1y}*g*x - P_{1z}*e*y + P_{1z}*f*x + e*y*z0 - e*y0*z - f*x*z0 + f*x0*z + g*x*y0 - g*x0*y"
      ]
     },
     "execution_count": 213,
     "metadata": {},
     "output_type": "execute_result"
    }
   ],
   "source": [
    "sp.expand(eqnOfPlane)"
   ]
  },
  {
   "cell_type": "code",
   "execution_count": 214,
   "id": "45188e0a",
   "metadata": {},
   "outputs": [
    {
     "data": {
      "text/plain": [
       "[(-P_{0x}*P_{1y}*g + P_{0x}*P_{1z}*f - P_{0x}*f*z0 + P_{0x}*g*y0 + P_{0y}*P_{1x}*g - P_{0y}*P_{1z}*e + P_{0y}*e*z0 - P_{0z}*P_{1x}*f + P_{0z}*P_{1y}*e - P_{0z}*e*y0 + P_{1x}*f*z - P_{1x}*g*y - P_{1y}*e*z + P_{1y}*g*x + P_{1z}*e*y - P_{1z}*f*x - e*y*z0 + e*y0*z + f*x*z0 - g*x*y0)/(P_{0y}*g - P_{0z}*f + f*z - g*y)]"
      ]
     },
     "execution_count": 214,
     "metadata": {},
     "output_type": "execute_result"
    }
   ],
   "source": [
    "sp.solve(sp.expand(eqnOfPlane),x0)"
   ]
  },
  {
   "cell_type": "code",
   "execution_count": 215,
   "id": "0464d662",
   "metadata": {},
   "outputs": [],
   "source": [
    "eqn5 = sp.solve(sp.expand(eqnOfPlane),x0)[0]"
   ]
  },
  {
   "cell_type": "code",
   "execution_count": 216,
   "id": "945e7962",
   "metadata": {},
   "outputs": [
    {
     "data": {
      "text/latex": [
       "$\\displaystyle \\frac{- P_{0x} P_{1y} g + P_{0x} P_{1z} f - P_{0x} f z_{0} + P_{0x} g y_{0} + P_{0y} P_{1x} g - P_{0y} P_{1z} e + P_{0y} e z_{0} - P_{0z} P_{1x} f + P_{0z} P_{1y} e - P_{0z} e y_{0} + P_{1x} f z - P_{1x} g y - P_{1y} e z + P_{1y} g x + P_{1z} e y - P_{1z} f x - e y z_{0} + e y_{0} z + f x z_{0} - g x y_{0}}{P_{0y} g - P_{0z} f + f z - g y}$"
      ],
      "text/plain": [
       "(-P_{0x}*P_{1y}*g + P_{0x}*P_{1z}*f - P_{0x}*f*z0 + P_{0x}*g*y0 + P_{0y}*P_{1x}*g - P_{0y}*P_{1z}*e + P_{0y}*e*z0 - P_{0z}*P_{1x}*f + P_{0z}*P_{1y}*e - P_{0z}*e*y0 + P_{1x}*f*z - P_{1x}*g*y - P_{1y}*e*z + P_{1y}*g*x + P_{1z}*e*y - P_{1z}*f*x - e*y*z0 + e*y0*z + f*x*z0 - g*x*y0)/(P_{0y}*g - P_{0z}*f + f*z - g*y)"
      ]
     },
     "execution_count": 216,
     "metadata": {},
     "output_type": "execute_result"
    }
   ],
   "source": [
    "eqn5"
   ]
  },
  {
   "cell_type": "code",
   "execution_count": 218,
   "id": "0f7132fc",
   "metadata": {},
   "outputs": [
    {
     "data": {
      "text/latex": [
       "$\\displaystyle a^{2} b^{2} g z_{0} + a^{2} c^{2} f y_{0} + \\frac{b^{2} c^{2} e \\left(- P_{0x} P_{1y} g + P_{0x} P_{1z} f - P_{0x} f z_{0} + P_{0x} g y_{0} + P_{0y} P_{1x} g - P_{0y} P_{1z} e + P_{0y} e z_{0} - P_{0z} P_{1x} f + P_{0z} P_{1y} e - P_{0z} e y_{0} + P_{1x} f z - P_{1x} g y - P_{1y} e z + P_{1y} g x + P_{1z} e y - P_{1z} f x - e y z_{0} + e y_{0} z + f x z_{0} - g x y_{0}\\right)}{P_{0y} g - P_{0z} f + f z - g y}$"
      ],
      "text/plain": [
       "a**2*b**2*g*z0 + a**2*c**2*f*y0 + b**2*c**2*e*(-P_{0x}*P_{1y}*g + P_{0x}*P_{1z}*f - P_{0x}*f*z0 + P_{0x}*g*y0 + P_{0y}*P_{1x}*g - P_{0y}*P_{1z}*e + P_{0y}*e*z0 - P_{0z}*P_{1x}*f + P_{0z}*P_{1y}*e - P_{0z}*e*y0 + P_{1x}*f*z - P_{1x}*g*y - P_{1y}*e*z + P_{1y}*g*x + P_{1z}*e*y - P_{1z}*f*x - e*y*z0 + e*y0*z + f*x*z0 - g*x*y0)/(P_{0y}*g - P_{0z}*f + f*z - g*y)"
      ]
     },
     "execution_count": 218,
     "metadata": {},
     "output_type": "execute_result"
    }
   ],
   "source": [
    "zeroEqn2.subs(x0,eqn5)"
   ]
  },
  {
   "cell_type": "code",
   "execution_count": 222,
   "id": "99381e3e",
   "metadata": {},
   "outputs": [],
   "source": [
    "eqn6 = sp.solve(zeroEqn2.subs(x0,eqn5),y0)[0]"
   ]
  },
  {
   "cell_type": "code",
   "execution_count": 223,
   "id": "e005887e",
   "metadata": {},
   "outputs": [
    {
     "data": {
      "text/latex": [
       "$\\displaystyle \\frac{b^{2} \\left(P_{0x} P_{1y} c^{2} e g - P_{0x} P_{1z} c^{2} e f + P_{0x} c^{2} e f z_{0} - P_{0y} P_{1x} c^{2} e g + P_{0y} P_{1z} c^{2} e^{2} - P_{0y} a^{2} g^{2} z_{0} - P_{0y} c^{2} e^{2} z_{0} + P_{0z} P_{1x} c^{2} e f - P_{0z} P_{1y} c^{2} e^{2} + P_{0z} a^{2} f g z_{0} - P_{1x} c^{2} e f z + P_{1x} c^{2} e g y + P_{1y} c^{2} e^{2} z - P_{1y} c^{2} e g x - P_{1z} c^{2} e^{2} y + P_{1z} c^{2} e f x - a^{2} f g z z_{0} + a^{2} g^{2} y z_{0} + c^{2} e^{2} y z_{0} - c^{2} e f x z_{0}\\right)}{c^{2} \\left(P_{0x} b^{2} e g + P_{0y} a^{2} f g - P_{0z} a^{2} f^{2} - P_{0z} b^{2} e^{2} + a^{2} f^{2} z - a^{2} f g y + b^{2} e^{2} z - b^{2} e g x\\right)}$"
      ],
      "text/plain": [
       "b**2*(P_{0x}*P_{1y}*c**2*e*g - P_{0x}*P_{1z}*c**2*e*f + P_{0x}*c**2*e*f*z0 - P_{0y}*P_{1x}*c**2*e*g + P_{0y}*P_{1z}*c**2*e**2 - P_{0y}*a**2*g**2*z0 - P_{0y}*c**2*e**2*z0 + P_{0z}*P_{1x}*c**2*e*f - P_{0z}*P_{1y}*c**2*e**2 + P_{0z}*a**2*f*g*z0 - P_{1x}*c**2*e*f*z + P_{1x}*c**2*e*g*y + P_{1y}*c**2*e**2*z - P_{1y}*c**2*e*g*x - P_{1z}*c**2*e**2*y + P_{1z}*c**2*e*f*x - a**2*f*g*z*z0 + a**2*g**2*y*z0 + c**2*e**2*y*z0 - c**2*e*f*x*z0)/(c**2*(P_{0x}*b**2*e*g + P_{0y}*a**2*f*g - P_{0z}*a**2*f**2 - P_{0z}*b**2*e**2 + a**2*f**2*z - a**2*f*g*y + b**2*e**2*z - b**2*e*g*x))"
      ]
     },
     "execution_count": 223,
     "metadata": {},
     "output_type": "execute_result"
    }
   ],
   "source": [
    "eqn6"
   ]
  },
  {
   "cell_type": "code",
   "execution_count": null,
   "id": "299c852e",
   "metadata": {},
   "outputs": [],
   "source": [
    "zeroEqn3.subs()"
   ]
  }
 ],
 "metadata": {
  "kernelspec": {
   "display_name": "Python 3 (ipykernel)",
   "language": "python",
   "name": "python3"
  },
  "language_info": {
   "codemirror_mode": {
    "name": "ipython",
    "version": 3
   },
   "file_extension": ".py",
   "mimetype": "text/x-python",
   "name": "python",
   "nbconvert_exporter": "python",
   "pygments_lexer": "ipython3",
   "version": "3.8.10"
  }
 },
 "nbformat": 4,
 "nbformat_minor": 5
}
