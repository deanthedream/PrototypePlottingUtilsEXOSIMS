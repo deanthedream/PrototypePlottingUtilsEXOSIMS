{
 "cells": [
  {
   "cell_type": "code",
   "execution_count": 2,
   "metadata": {},
   "outputs": [],
   "source": [
    "import sympy as sp"
   ]
  },
  {
   "cell_type": "code",
   "execution_count": 3,
   "metadata": {},
   "outputs": [],
   "source": [
    "Rp, rp, rs, x, y, th = sp.symbols(\"R_p, r_p, r_s, x, y, theta\",real=True,positive=True)"
   ]
  },
  {
   "cell_type": "markdown",
   "metadata": {},
   "source": [
    "# Compute theta"
   ]
  },
  {
   "cell_type": "code",
   "execution_count": 4,
   "metadata": {},
   "outputs": [],
   "source": [
    "#hEqn is distance from Vertex to rs tangent point, uses pythagorean theoretm\n",
    "hEqn = sp.sqrt(rs**2 + (x+y)**2)"
   ]
  },
  {
   "cell_type": "code",
   "execution_count": 5,
   "metadata": {},
   "outputs": [],
   "source": [
    "#x summation equation to get h\n",
    "hEqn2 = (Rp + y - rs*sp.cos(th))/sp.cos(sp.pi/2-th)"
   ]
  },
  {
   "cell_type": "code",
   "execution_count": 7,
   "metadata": {},
   "outputs": [
    {
     "data": {
      "text/plain": [
       "[(-R_p + r_s*cos(theta) + x*sin(theta)**2 - sqrt(R_p**2 - 2*R_p*r_s*cos(theta) - 2*R_p*x + 2*r_s**2*cos(theta)**2 + 2*r_s*x*cos(theta) + x**2)*sin(theta))/cos(theta)**2,\n",
       " (-R_p + r_s*cos(theta) + x*sin(theta)**2 + sqrt(R_p**2 - 2*R_p*r_s*cos(theta) - 2*R_p*x + 2*r_s**2*cos(theta)**2 + 2*r_s*x*cos(theta) + x**2)*sin(theta))/cos(theta)**2]"
      ]
     },
     "execution_count": 7,
     "metadata": {},
     "output_type": "execute_result"
    }
   ],
   "source": [
    "#Combine and solve for y\n",
    "yEqns = sp.solve(hEqn-hEqn2,y)"
   ]
  },
  {
   "cell_type": "code",
   "execution_count": 8,
   "metadata": {},
   "outputs": [],
   "source": [
    "eqn = sp.cos(sp.pi/2-th)*sp.sqrt(rs**2 + (rs**2*sp.cos(sp.pi/2-th))/(1-sp.cos(sp.pi/2-th)**2)) - rs*sp.sin(th)"
   ]
  },
  {
   "cell_type": "code",
   "execution_count": 11,
   "metadata": {},
   "outputs": [
    {
     "data": {
      "text/latex": [
       "$\\displaystyle - r_{s} \\sin{\\left(\\theta \\right)} + \\sqrt{r_{s}^{2} + \\frac{r_{s}^{2} \\sin{\\left(\\theta \\right)}}{1 - \\sin^{2}{\\left(\\theta \\right)}}} \\sin{\\left(\\theta \\right)}$"
      ],
      "text/plain": [
       "-r_s*sin(theta) + sqrt(r_s**2 + r_s**2*sin(theta)/(1 - sin(theta)**2))*sin(theta)"
      ]
     },
     "execution_count": 11,
     "metadata": {},
     "output_type": "execute_result"
    }
   ],
   "source": [
    "eqn"
   ]
  },
  {
   "cell_type": "code",
   "execution_count": 12,
   "metadata": {},
   "outputs": [
    {
     "data": {
      "text/latex": [
       "$\\displaystyle r_{s} \\left(\\sqrt{\\frac{\\sin{\\left(\\theta \\right)}}{\\cos^{2}{\\left(\\theta \\right)}} + 1} - 1\\right) \\sin{\\left(\\theta \\right)}$"
      ],
      "text/plain": [
       "r_s*(sqrt(sin(theta)/cos(theta)**2 + 1) - 1)*sin(theta)"
      ]
     },
     "execution_count": 12,
     "metadata": {},
     "output_type": "execute_result"
    }
   ],
   "source": [
    "sp.simplify(eqn)"
   ]
  },
  {
   "cell_type": "code",
   "execution_count": null,
   "metadata": {},
   "outputs": [],
   "source": []
  },
  {
   "cell_type": "code",
   "execution_count": 15,
   "metadata": {},
   "outputs": [],
   "source": [
    "eqn = -rs*sp.sin(th) + rp*sp.sin(th) + (Rp-rs*sp.cos(th)+rp*sp.cos(th))*sp.tan(sp.pi/2-th)"
   ]
  },
  {
   "cell_type": "code",
   "execution_count": 18,
   "metadata": {},
   "outputs": [
    {
     "data": {
      "text/latex": [
       "$\\displaystyle \\frac{R_{p}}{\\tan{\\left(\\theta \\right)}} + \\frac{r_{p}}{\\sin{\\left(\\theta \\right)}} - \\frac{r_{s}}{\\sin{\\left(\\theta \\right)}}$"
      ],
      "text/plain": [
       "R_p/tan(theta) + r_p/sin(theta) - r_s/sin(theta)"
      ]
     },
     "execution_count": 18,
     "metadata": {},
     "output_type": "execute_result"
    }
   ],
   "source": [
    "sp.simplify(eqn)"
   ]
  },
  {
   "cell_type": "code",
   "execution_count": 20,
   "metadata": {},
   "outputs": [],
   "source": [
    "thEqn = sp.acos((rs-rp)/Rp)"
   ]
  },
  {
   "cell_type": "code",
   "execution_count": 21,
   "metadata": {},
   "outputs": [
    {
     "data": {
      "text/latex": [
       "$\\displaystyle \\operatorname{acos}{\\left(\\frac{- r_{p} + r_{s}}{R_{p}} \\right)}$"
      ],
      "text/plain": [
       "acos((-r_p + r_s)/R_p)"
      ]
     },
     "execution_count": 21,
     "metadata": {},
     "output_type": "execute_result"
    }
   ],
   "source": [
    "thEqn"
   ]
  },
  {
   "cell_type": "markdown",
   "metadata": {},
   "source": [
    "# Compute y"
   ]
  },
  {
   "cell_type": "code",
   "execution_count": 23,
   "metadata": {},
   "outputs": [],
   "source": [
    "#the distance from Earth Center to the Vertex\n",
    "y = rs/sp.cos(th) - Rp"
   ]
  },
  {
   "cell_type": "markdown",
   "metadata": {},
   "source": [
    "# gamma"
   ]
  },
  {
   "cell_type": "code",
   "execution_count": null,
   "metadata": {},
   "outputs": [],
   "source": [
    "#compute the angle of the radial line from the Sun-Earth line to the penumbra tangent line\n",
    "gamma = - sp.asin(rp/Rp+rs/Rp) + sp.pi/2"
   ]
  }
 ],
 "metadata": {
  "kernelspec": {
   "display_name": "Python 3",
   "language": "python",
   "name": "python3"
  },
  "language_info": {
   "codemirror_mode": {
    "name": "ipython",
    "version": 3
   },
   "file_extension": ".py",
   "mimetype": "text/x-python",
   "name": "python",
   "nbconvert_exporter": "python",
   "pygments_lexer": "ipython3",
   "version": "3.6.9"
  }
 },
 "nbformat": 4,
 "nbformat_minor": 4
}
