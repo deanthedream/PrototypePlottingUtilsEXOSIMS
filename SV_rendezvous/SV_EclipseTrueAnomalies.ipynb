{
 "cells": [
  {
   "cell_type": "code",
   "execution_count": 3,
   "id": "d58502a4",
   "metadata": {},
   "outputs": [],
   "source": [
    "import sympy as sp"
   ]
  },
  {
   "cell_type": "code",
   "execution_count": 4,
   "id": "69e39552",
   "metadata": {},
   "outputs": [],
   "source": [
    "a,e,i,w,W,v,x,y,z,r = sp.symbols(\"a,e,i,omega,Omega,nu,x,y,z,r\",real=True,positive=True)"
   ]
  },
  {
   "cell_type": "code",
   "execution_count": 5,
   "id": "eafe6fb8",
   "metadata": {},
   "outputs": [],
   "source": [
    "#Angle Addition Fromulas\n",
    "sinwpv = sp.sin(w)*sp.cos(v) + sp.sin(v)*sp.cos(w)\n",
    "sinwmv = sp.sin(w)*sp.cos(v) - sp.sin(v)*sp.cos(w)\n",
    "coswpv = sp.cos(w)*sp.cos(v) - sp.sin(w)*sp.sin(v)\n",
    "coswmv = sp.cos(w)*sp.cos(v) + sp.sin(w)*sp.sin(v)\n",
    "sinv = sp.sqrt(1-sp.cos(v)**2)\n",
    "sinv2 = 1-sp.cos(v)**2"
   ]
  },
  {
   "cell_type": "code",
   "execution_count": 6,
   "id": "5ef267e3",
   "metadata": {},
   "outputs": [],
   "source": [
    "# XYZ Eqns\n",
    "rEqn = a*(1-e**2)/(1+e*sp.cos(v))\n",
    "xEqn = (r*(sp.cos(W)*sp.cos(w+v) - sp.sin(W)*sp.sin(w+v)*sp.cos(i))).subs(r,rEqn).subs(sp.sin(w+v),sinwpv).subs(sp.cos(w+v),coswpv)\n",
    "yEqn = (r*(sp.sin(W)*sp.cos(w+v) + sp.cos(W)*sp.sin(w+v)*sp.cos(i))).subs(r,rEqn).subs(sp.sin(w+v),sinwpv).subs(sp.cos(w+v),coswpv)\n",
    "zEqn = (r*(sp.sin(w+v)*sp.sin(i))).subs(r,rEqn).subs(sp.sin(w+v),sinwpv).subs(sp.cos(w+v),coswpv)"
   ]
  },
  {
   "cell_type": "code",
   "execution_count": null,
   "id": "7ff810e8",
   "metadata": {},
   "outputs": [],
   "source": []
  },
  {
   "cell_type": "code",
   "execution_count": 7,
   "id": "8d883d05",
   "metadata": {},
   "outputs": [],
   "source": [
    "# The Sun-Earth Vector is np.asarray(1,0,0) or +X"
   ]
  },
  {
   "cell_type": "code",
   "execution_count": 8,
   "id": "27996fea",
   "metadata": {},
   "outputs": [],
   "source": [
    "Re = sp.symbols(\"Re\",real=True,positive=True)"
   ]
  },
  {
   "cell_type": "code",
   "execution_count": 71,
   "id": "71c94b2b",
   "metadata": {},
   "outputs": [],
   "source": [
    "#Eclipse True anomalies, find where Earth's shadow (neglecting penumbra or enumbra?/umbra?)\n",
    "eclipseEqn = zEqn**2+yEqn**2-Re**2"
   ]
  },
  {
   "cell_type": "code",
   "execution_count": 72,
   "id": "98078bfe",
   "metadata": {},
   "outputs": [],
   "source": [
    "#substitute sinv, replace sp.cos(v) with x\n",
    "eclipseEqn2 = eclipseEqn.subs(sp.sin(v),sinv).subs(sp.cos(v),x)"
   ]
  },
  {
   "cell_type": "code",
   "execution_count": null,
   "id": "7c35387a",
   "metadata": {},
   "outputs": [],
   "source": []
  },
  {
   "cell_type": "code",
   "execution_count": 73,
   "id": "82b253e5",
   "metadata": {},
   "outputs": [],
   "source": [
    "#multiply by the denominator \n",
    "eclipseEqn3 = sp.expand(sp.simplify(eclipseEqn2*(e*x+1)**2)).subs(sp.sqrt(1-x**2),y)"
   ]
  },
  {
   "cell_type": "code",
   "execution_count": 74,
   "id": "f522ee9a",
   "metadata": {},
   "outputs": [
    {
     "data": {
      "text/latex": [
       "$\\displaystyle - Re^{2} e^{2} x^{2} - 2 Re^{2} e x - Re^{2} - a^{2} e^{4} x^{2} \\sin^{2}{\\left(\\Omega \\right)} \\sin^{2}{\\left(\\omega \\right)} + a^{2} e^{4} x^{2} \\sin^{2}{\\left(\\Omega \\right)} \\cos^{2}{\\left(\\omega \\right)} + 4 a^{2} e^{4} x^{2} \\sin{\\left(\\Omega \\right)} \\sin{\\left(\\omega \\right)} \\cos{\\left(\\Omega \\right)} \\cos{\\left(i \\right)} \\cos{\\left(\\omega \\right)} + a^{2} e^{4} x^{2} \\sin^{2}{\\left(i \\right)} \\sin^{2}{\\left(\\omega \\right)} - a^{2} e^{4} x^{2} \\sin^{2}{\\left(i \\right)} \\cos^{2}{\\left(\\omega \\right)} + a^{2} e^{4} x^{2} \\sin^{2}{\\left(\\omega \\right)} \\cos^{2}{\\left(\\Omega \\right)} \\cos^{2}{\\left(i \\right)} - a^{2} e^{4} x^{2} \\cos^{2}{\\left(\\Omega \\right)} \\cos^{2}{\\left(i \\right)} \\cos^{2}{\\left(\\omega \\right)} - 2 a^{2} e^{4} x y \\sin^{2}{\\left(\\Omega \\right)} \\sin{\\left(\\omega \\right)} \\cos{\\left(\\omega \\right)} - 2 a^{2} e^{4} x y \\sin{\\left(\\Omega \\right)} \\sin^{2}{\\left(\\omega \\right)} \\cos{\\left(\\Omega \\right)} \\cos{\\left(i \\right)} + 2 a^{2} e^{4} x y \\sin{\\left(\\Omega \\right)} \\cos{\\left(\\Omega \\right)} \\cos{\\left(i \\right)} \\cos^{2}{\\left(\\omega \\right)} + 2 a^{2} e^{4} x y \\sin^{2}{\\left(i \\right)} \\sin{\\left(\\omega \\right)} \\cos{\\left(\\omega \\right)} + 2 a^{2} e^{4} x y \\sin{\\left(\\omega \\right)} \\cos^{2}{\\left(\\Omega \\right)} \\cos^{2}{\\left(i \\right)} \\cos{\\left(\\omega \\right)} + a^{2} e^{4} \\sin^{2}{\\left(\\Omega \\right)} \\sin^{2}{\\left(\\omega \\right)} - 2 a^{2} e^{4} \\sin{\\left(\\Omega \\right)} \\sin{\\left(\\omega \\right)} \\cos{\\left(\\Omega \\right)} \\cos{\\left(i \\right)} \\cos{\\left(\\omega \\right)} + a^{2} e^{4} \\sin^{2}{\\left(i \\right)} \\cos^{2}{\\left(\\omega \\right)} + a^{2} e^{4} \\cos^{2}{\\left(\\Omega \\right)} \\cos^{2}{\\left(i \\right)} \\cos^{2}{\\left(\\omega \\right)} + 2 a^{2} e^{2} x^{2} \\sin^{2}{\\left(\\Omega \\right)} \\sin^{2}{\\left(\\omega \\right)} - 2 a^{2} e^{2} x^{2} \\sin^{2}{\\left(\\Omega \\right)} \\cos^{2}{\\left(\\omega \\right)} - 8 a^{2} e^{2} x^{2} \\sin{\\left(\\Omega \\right)} \\sin{\\left(\\omega \\right)} \\cos{\\left(\\Omega \\right)} \\cos{\\left(i \\right)} \\cos{\\left(\\omega \\right)} - 2 a^{2} e^{2} x^{2} \\sin^{2}{\\left(i \\right)} \\sin^{2}{\\left(\\omega \\right)} + 2 a^{2} e^{2} x^{2} \\sin^{2}{\\left(i \\right)} \\cos^{2}{\\left(\\omega \\right)} - 2 a^{2} e^{2} x^{2} \\sin^{2}{\\left(\\omega \\right)} \\cos^{2}{\\left(\\Omega \\right)} \\cos^{2}{\\left(i \\right)} + 2 a^{2} e^{2} x^{2} \\cos^{2}{\\left(\\Omega \\right)} \\cos^{2}{\\left(i \\right)} \\cos^{2}{\\left(\\omega \\right)} + 4 a^{2} e^{2} x y \\sin^{2}{\\left(\\Omega \\right)} \\sin{\\left(\\omega \\right)} \\cos{\\left(\\omega \\right)} + 4 a^{2} e^{2} x y \\sin{\\left(\\Omega \\right)} \\sin^{2}{\\left(\\omega \\right)} \\cos{\\left(\\Omega \\right)} \\cos{\\left(i \\right)} - 4 a^{2} e^{2} x y \\sin{\\left(\\Omega \\right)} \\cos{\\left(\\Omega \\right)} \\cos{\\left(i \\right)} \\cos^{2}{\\left(\\omega \\right)} - 4 a^{2} e^{2} x y \\sin^{2}{\\left(i \\right)} \\sin{\\left(\\omega \\right)} \\cos{\\left(\\omega \\right)} - 4 a^{2} e^{2} x y \\sin{\\left(\\omega \\right)} \\cos^{2}{\\left(\\Omega \\right)} \\cos^{2}{\\left(i \\right)} \\cos{\\left(\\omega \\right)} - 2 a^{2} e^{2} \\sin^{2}{\\left(\\Omega \\right)} \\sin^{2}{\\left(\\omega \\right)} + 4 a^{2} e^{2} \\sin{\\left(\\Omega \\right)} \\sin{\\left(\\omega \\right)} \\cos{\\left(\\Omega \\right)} \\cos{\\left(i \\right)} \\cos{\\left(\\omega \\right)} - 2 a^{2} e^{2} \\sin^{2}{\\left(i \\right)} \\cos^{2}{\\left(\\omega \\right)} - 2 a^{2} e^{2} \\cos^{2}{\\left(\\Omega \\right)} \\cos^{2}{\\left(i \\right)} \\cos^{2}{\\left(\\omega \\right)} - a^{2} x^{2} \\sin^{2}{\\left(\\Omega \\right)} \\sin^{2}{\\left(\\omega \\right)} + a^{2} x^{2} \\sin^{2}{\\left(\\Omega \\right)} \\cos^{2}{\\left(\\omega \\right)} + 4 a^{2} x^{2} \\sin{\\left(\\Omega \\right)} \\sin{\\left(\\omega \\right)} \\cos{\\left(\\Omega \\right)} \\cos{\\left(i \\right)} \\cos{\\left(\\omega \\right)} + a^{2} x^{2} \\sin^{2}{\\left(i \\right)} \\sin^{2}{\\left(\\omega \\right)} - a^{2} x^{2} \\sin^{2}{\\left(i \\right)} \\cos^{2}{\\left(\\omega \\right)} + a^{2} x^{2} \\sin^{2}{\\left(\\omega \\right)} \\cos^{2}{\\left(\\Omega \\right)} \\cos^{2}{\\left(i \\right)} - a^{2} x^{2} \\cos^{2}{\\left(\\Omega \\right)} \\cos^{2}{\\left(i \\right)} \\cos^{2}{\\left(\\omega \\right)} - 2 a^{2} x y \\sin^{2}{\\left(\\Omega \\right)} \\sin{\\left(\\omega \\right)} \\cos{\\left(\\omega \\right)} - 2 a^{2} x y \\sin{\\left(\\Omega \\right)} \\sin^{2}{\\left(\\omega \\right)} \\cos{\\left(\\Omega \\right)} \\cos{\\left(i \\right)} + 2 a^{2} x y \\sin{\\left(\\Omega \\right)} \\cos{\\left(\\Omega \\right)} \\cos{\\left(i \\right)} \\cos^{2}{\\left(\\omega \\right)} + 2 a^{2} x y \\sin^{2}{\\left(i \\right)} \\sin{\\left(\\omega \\right)} \\cos{\\left(\\omega \\right)} + 2 a^{2} x y \\sin{\\left(\\omega \\right)} \\cos^{2}{\\left(\\Omega \\right)} \\cos^{2}{\\left(i \\right)} \\cos{\\left(\\omega \\right)} + a^{2} \\sin^{2}{\\left(\\Omega \\right)} \\sin^{2}{\\left(\\omega \\right)} - 2 a^{2} \\sin{\\left(\\Omega \\right)} \\sin{\\left(\\omega \\right)} \\cos{\\left(\\Omega \\right)} \\cos{\\left(i \\right)} \\cos{\\left(\\omega \\right)} + a^{2} \\sin^{2}{\\left(i \\right)} \\cos^{2}{\\left(\\omega \\right)} + a^{2} \\cos^{2}{\\left(\\Omega \\right)} \\cos^{2}{\\left(i \\right)} \\cos^{2}{\\left(\\omega \\right)}$"
      ],
      "text/plain": [
       "-Re**2*e**2*x**2 - 2*Re**2*e*x - Re**2 - a**2*e**4*x**2*sin(Omega)**2*sin(omega)**2 + a**2*e**4*x**2*sin(Omega)**2*cos(omega)**2 + 4*a**2*e**4*x**2*sin(Omega)*sin(omega)*cos(Omega)*cos(i)*cos(omega) + a**2*e**4*x**2*sin(i)**2*sin(omega)**2 - a**2*e**4*x**2*sin(i)**2*cos(omega)**2 + a**2*e**4*x**2*sin(omega)**2*cos(Omega)**2*cos(i)**2 - a**2*e**4*x**2*cos(Omega)**2*cos(i)**2*cos(omega)**2 - 2*a**2*e**4*x*y*sin(Omega)**2*sin(omega)*cos(omega) - 2*a**2*e**4*x*y*sin(Omega)*sin(omega)**2*cos(Omega)*cos(i) + 2*a**2*e**4*x*y*sin(Omega)*cos(Omega)*cos(i)*cos(omega)**2 + 2*a**2*e**4*x*y*sin(i)**2*sin(omega)*cos(omega) + 2*a**2*e**4*x*y*sin(omega)*cos(Omega)**2*cos(i)**2*cos(omega) + a**2*e**4*sin(Omega)**2*sin(omega)**2 - 2*a**2*e**4*sin(Omega)*sin(omega)*cos(Omega)*cos(i)*cos(omega) + a**2*e**4*sin(i)**2*cos(omega)**2 + a**2*e**4*cos(Omega)**2*cos(i)**2*cos(omega)**2 + 2*a**2*e**2*x**2*sin(Omega)**2*sin(omega)**2 - 2*a**2*e**2*x**2*sin(Omega)**2*cos(omega)**2 - 8*a**2*e**2*x**2*sin(Omega)*sin(omega)*cos(Omega)*cos(i)*cos(omega) - 2*a**2*e**2*x**2*sin(i)**2*sin(omega)**2 + 2*a**2*e**2*x**2*sin(i)**2*cos(omega)**2 - 2*a**2*e**2*x**2*sin(omega)**2*cos(Omega)**2*cos(i)**2 + 2*a**2*e**2*x**2*cos(Omega)**2*cos(i)**2*cos(omega)**2 + 4*a**2*e**2*x*y*sin(Omega)**2*sin(omega)*cos(omega) + 4*a**2*e**2*x*y*sin(Omega)*sin(omega)**2*cos(Omega)*cos(i) - 4*a**2*e**2*x*y*sin(Omega)*cos(Omega)*cos(i)*cos(omega)**2 - 4*a**2*e**2*x*y*sin(i)**2*sin(omega)*cos(omega) - 4*a**2*e**2*x*y*sin(omega)*cos(Omega)**2*cos(i)**2*cos(omega) - 2*a**2*e**2*sin(Omega)**2*sin(omega)**2 + 4*a**2*e**2*sin(Omega)*sin(omega)*cos(Omega)*cos(i)*cos(omega) - 2*a**2*e**2*sin(i)**2*cos(omega)**2 - 2*a**2*e**2*cos(Omega)**2*cos(i)**2*cos(omega)**2 - a**2*x**2*sin(Omega)**2*sin(omega)**2 + a**2*x**2*sin(Omega)**2*cos(omega)**2 + 4*a**2*x**2*sin(Omega)*sin(omega)*cos(Omega)*cos(i)*cos(omega) + a**2*x**2*sin(i)**2*sin(omega)**2 - a**2*x**2*sin(i)**2*cos(omega)**2 + a**2*x**2*sin(omega)**2*cos(Omega)**2*cos(i)**2 - a**2*x**2*cos(Omega)**2*cos(i)**2*cos(omega)**2 - 2*a**2*x*y*sin(Omega)**2*sin(omega)*cos(omega) - 2*a**2*x*y*sin(Omega)*sin(omega)**2*cos(Omega)*cos(i) + 2*a**2*x*y*sin(Omega)*cos(Omega)*cos(i)*cos(omega)**2 + 2*a**2*x*y*sin(i)**2*sin(omega)*cos(omega) + 2*a**2*x*y*sin(omega)*cos(Omega)**2*cos(i)**2*cos(omega) + a**2*sin(Omega)**2*sin(omega)**2 - 2*a**2*sin(Omega)*sin(omega)*cos(Omega)*cos(i)*cos(omega) + a**2*sin(i)**2*cos(omega)**2 + a**2*cos(Omega)**2*cos(i)**2*cos(omega)**2"
      ]
     },
     "execution_count": 74,
     "metadata": {},
     "output_type": "execute_result"
    }
   ],
   "source": [
    "eclipseEqn3"
   ]
  },
  {
   "cell_type": "code",
   "execution_count": 75,
   "id": "fa1d0e6e",
   "metadata": {},
   "outputs": [],
   "source": [
    "eclipseEqn3Poly = sp.Poly(eclipseEqn3,y)\n",
    "eclipseEqn3Coeffs = eclipseEqn3Poly.coeffs()"
   ]
  },
  {
   "cell_type": "code",
   "execution_count": 76,
   "id": "abd2ef18",
   "metadata": {},
   "outputs": [],
   "source": [
    "A = eclipseEqn3Coeffs[0]\n",
    "B = eclipseEqn3Coeffs[1]"
   ]
  },
  {
   "cell_type": "code",
   "execution_count": 77,
   "id": "04a1e844",
   "metadata": {},
   "outputs": [],
   "source": [
    "eclipseEqn4 = A**2-A**2*x**2-B**2"
   ]
  },
  {
   "cell_type": "code",
   "execution_count": 78,
   "id": "0d2225b4",
   "metadata": {},
   "outputs": [],
   "source": [
    "eclipseEqn5 = sp.expand(eclipseEqn4)"
   ]
  },
  {
   "cell_type": "code",
   "execution_count": 79,
   "id": "12a22d92",
   "metadata": {},
   "outputs": [],
   "source": [
    "#this equation is really big\n",
    "#eclipseEqn5"
   ]
  },
  {
   "cell_type": "code",
   "execution_count": 80,
   "id": "aece6ef3",
   "metadata": {},
   "outputs": [],
   "source": [
    "eclipseEqn5Poly = sp.poly(eclipseEqn5,x)\n",
    "eclipseEqn5Coeffs = eclipseEqn5Poly.coeffs()"
   ]
  },
  {
   "cell_type": "code",
   "execution_count": 81,
   "id": "8d7c43c1",
   "metadata": {},
   "outputs": [],
   "source": [
    "#this equation is really big\n",
    "#eclipseEqn5Poly"
   ]
  },
  {
   "cell_type": "code",
   "execution_count": 82,
   "id": "c993e6e0",
   "metadata": {},
   "outputs": [
    {
     "data": {
      "text/plain": [
       "[-Re**4*e**4 - 2*Re**2*a**2*e**6*sin(Omega)**2*sin(omega)**2 + 2*Re**2*a**2*e**6*sin(Omega)**2*cos(omega)**2 + 8*Re**2*a**2*e**6*sin(Omega)*sin(omega)*cos(Omega)*cos(i)*cos(omega) + 2*Re**2*a**2*e**6*sin(i)**2*sin(omega)**2 - 2*Re**2*a**2*e**6*sin(i)**2*cos(omega)**2 + 2*Re**2*a**2*e**6*sin(omega)**2*cos(Omega)**2*cos(i)**2 - 2*Re**2*a**2*e**6*cos(Omega)**2*cos(i)**2*cos(omega)**2 + 4*Re**2*a**2*e**4*sin(Omega)**2*sin(omega)**2 - 4*Re**2*a**2*e**4*sin(Omega)**2*cos(omega)**2 - 16*Re**2*a**2*e**4*sin(Omega)*sin(omega)*cos(Omega)*cos(i)*cos(omega) - 4*Re**2*a**2*e**4*sin(i)**2*sin(omega)**2 + 4*Re**2*a**2*e**4*sin(i)**2*cos(omega)**2 - 4*Re**2*a**2*e**4*sin(omega)**2*cos(Omega)**2*cos(i)**2 + 4*Re**2*a**2*e**4*cos(Omega)**2*cos(i)**2*cos(omega)**2 - 2*Re**2*a**2*e**2*sin(Omega)**2*sin(omega)**2 + 2*Re**2*a**2*e**2*sin(Omega)**2*cos(omega)**2 + 8*Re**2*a**2*e**2*sin(Omega)*sin(omega)*cos(Omega)*cos(i)*cos(omega) + 2*Re**2*a**2*e**2*sin(i)**2*sin(omega)**2 - 2*Re**2*a**2*e**2*sin(i)**2*cos(omega)**2 + 2*Re**2*a**2*e**2*sin(omega)**2*cos(Omega)**2*cos(i)**2 - 2*Re**2*a**2*e**2*cos(Omega)**2*cos(i)**2*cos(omega)**2 - a**4*e**8*sin(Omega)**4*sin(omega)**4 - 2*a**4*e**8*sin(Omega)**4*sin(omega)**2*cos(omega)**2 - a**4*e**8*sin(Omega)**4*cos(omega)**4 + 2*a**4*e**8*sin(Omega)**2*sin(i)**2*sin(omega)**4 + 4*a**4*e**8*sin(Omega)**2*sin(i)**2*sin(omega)**2*cos(omega)**2 + 2*a**4*e**8*sin(Omega)**2*sin(i)**2*cos(omega)**4 - 2*a**4*e**8*sin(Omega)**2*sin(omega)**4*cos(Omega)**2*cos(i)**2 - 4*a**4*e**8*sin(Omega)**2*sin(omega)**2*cos(Omega)**2*cos(i)**2*cos(omega)**2 - 2*a**4*e**8*sin(Omega)**2*cos(Omega)**2*cos(i)**2*cos(omega)**4 - a**4*e**8*sin(i)**4*sin(omega)**4 - 2*a**4*e**8*sin(i)**4*sin(omega)**2*cos(omega)**2 - a**4*e**8*sin(i)**4*cos(omega)**4 - 2*a**4*e**8*sin(i)**2*sin(omega)**4*cos(Omega)**2*cos(i)**2 - 4*a**4*e**8*sin(i)**2*sin(omega)**2*cos(Omega)**2*cos(i)**2*cos(omega)**2 - 2*a**4*e**8*sin(i)**2*cos(Omega)**2*cos(i)**2*cos(omega)**4 - a**4*e**8*sin(omega)**4*cos(Omega)**4*cos(i)**4 - 2*a**4*e**8*sin(omega)**2*cos(Omega)**4*cos(i)**4*cos(omega)**2 - a**4*e**8*cos(Omega)**4*cos(i)**4*cos(omega)**4 + 4*a**4*e**6*sin(Omega)**4*sin(omega)**4 + 8*a**4*e**6*sin(Omega)**4*sin(omega)**2*cos(omega)**2 + 4*a**4*e**6*sin(Omega)**4*cos(omega)**4 - 8*a**4*e**6*sin(Omega)**2*sin(i)**2*sin(omega)**4 - 16*a**4*e**6*sin(Omega)**2*sin(i)**2*sin(omega)**2*cos(omega)**2 - 8*a**4*e**6*sin(Omega)**2*sin(i)**2*cos(omega)**4 + 8*a**4*e**6*sin(Omega)**2*sin(omega)**4*cos(Omega)**2*cos(i)**2 + 16*a**4*e**6*sin(Omega)**2*sin(omega)**2*cos(Omega)**2*cos(i)**2*cos(omega)**2 + 8*a**4*e**6*sin(Omega)**2*cos(Omega)**2*cos(i)**2*cos(omega)**4 + 4*a**4*e**6*sin(i)**4*sin(omega)**4 + 8*a**4*e**6*sin(i)**4*sin(omega)**2*cos(omega)**2 + 4*a**4*e**6*sin(i)**4*cos(omega)**4 + 8*a**4*e**6*sin(i)**2*sin(omega)**4*cos(Omega)**2*cos(i)**2 + 16*a**4*e**6*sin(i)**2*sin(omega)**2*cos(Omega)**2*cos(i)**2*cos(omega)**2 + 8*a**4*e**6*sin(i)**2*cos(Omega)**2*cos(i)**2*cos(omega)**4 + 4*a**4*e**6*sin(omega)**4*cos(Omega)**4*cos(i)**4 + 8*a**4*e**6*sin(omega)**2*cos(Omega)**4*cos(i)**4*cos(omega)**2 + 4*a**4*e**6*cos(Omega)**4*cos(i)**4*cos(omega)**4 - 6*a**4*e**4*sin(Omega)**4*sin(omega)**4 - 12*a**4*e**4*sin(Omega)**4*sin(omega)**2*cos(omega)**2 - 6*a**4*e**4*sin(Omega)**4*cos(omega)**4 + 12*a**4*e**4*sin(Omega)**2*sin(i)**2*sin(omega)**4 + 24*a**4*e**4*sin(Omega)**2*sin(i)**2*sin(omega)**2*cos(omega)**2 + 12*a**4*e**4*sin(Omega)**2*sin(i)**2*cos(omega)**4 - 12*a**4*e**4*sin(Omega)**2*sin(omega)**4*cos(Omega)**2*cos(i)**2 - 24*a**4*e**4*sin(Omega)**2*sin(omega)**2*cos(Omega)**2*cos(i)**2*cos(omega)**2 - 12*a**4*e**4*sin(Omega)**2*cos(Omega)**2*cos(i)**2*cos(omega)**4 - 6*a**4*e**4*sin(i)**4*sin(omega)**4 - 12*a**4*e**4*sin(i)**4*sin(omega)**2*cos(omega)**2 - 6*a**4*e**4*sin(i)**4*cos(omega)**4 - 12*a**4*e**4*sin(i)**2*sin(omega)**4*cos(Omega)**2*cos(i)**2 - 24*a**4*e**4*sin(i)**2*sin(omega)**2*cos(Omega)**2*cos(i)**2*cos(omega)**2 - 12*a**4*e**4*sin(i)**2*cos(Omega)**2*cos(i)**2*cos(omega)**4 - 6*a**4*e**4*sin(omega)**4*cos(Omega)**4*cos(i)**4 - 12*a**4*e**4*sin(omega)**2*cos(Omega)**4*cos(i)**4*cos(omega)**2 - 6*a**4*e**4*cos(Omega)**4*cos(i)**4*cos(omega)**4 + 4*a**4*e**2*sin(Omega)**4*sin(omega)**4 + 8*a**4*e**2*sin(Omega)**4*sin(omega)**2*cos(omega)**2 + 4*a**4*e**2*sin(Omega)**4*cos(omega)**4 - 8*a**4*e**2*sin(Omega)**2*sin(i)**2*sin(omega)**4 - 16*a**4*e**2*sin(Omega)**2*sin(i)**2*sin(omega)**2*cos(omega)**2 - 8*a**4*e**2*sin(Omega)**2*sin(i)**2*cos(omega)**4 + 8*a**4*e**2*sin(Omega)**2*sin(omega)**4*cos(Omega)**2*cos(i)**2 + 16*a**4*e**2*sin(Omega)**2*sin(omega)**2*cos(Omega)**2*cos(i)**2*cos(omega)**2 + 8*a**4*e**2*sin(Omega)**2*cos(Omega)**2*cos(i)**2*cos(omega)**4 + 4*a**4*e**2*sin(i)**4*sin(omega)**4 + 8*a**4*e**2*sin(i)**4*sin(omega)**2*cos(omega)**2 + 4*a**4*e**2*sin(i)**4*cos(omega)**4 + 8*a**4*e**2*sin(i)**2*sin(omega)**4*cos(Omega)**2*cos(i)**2 + 16*a**4*e**2*sin(i)**2*sin(omega)**2*cos(Omega)**2*cos(i)**2*cos(omega)**2 + 8*a**4*e**2*sin(i)**2*cos(Omega)**2*cos(i)**2*cos(omega)**4 + 4*a**4*e**2*sin(omega)**4*cos(Omega)**4*cos(i)**4 + 8*a**4*e**2*sin(omega)**2*cos(Omega)**4*cos(i)**4*cos(omega)**2 + 4*a**4*e**2*cos(Omega)**4*cos(i)**4*cos(omega)**4 - a**4*sin(Omega)**4*sin(omega)**4 - 2*a**4*sin(Omega)**4*sin(omega)**2*cos(omega)**2 - a**4*sin(Omega)**4*cos(omega)**4 + 2*a**4*sin(Omega)**2*sin(i)**2*sin(omega)**4 + 4*a**4*sin(Omega)**2*sin(i)**2*sin(omega)**2*cos(omega)**2 + 2*a**4*sin(Omega)**2*sin(i)**2*cos(omega)**4 - 2*a**4*sin(Omega)**2*sin(omega)**4*cos(Omega)**2*cos(i)**2 - 4*a**4*sin(Omega)**2*sin(omega)**2*cos(Omega)**2*cos(i)**2*cos(omega)**2 - 2*a**4*sin(Omega)**2*cos(Omega)**2*cos(i)**2*cos(omega)**4 - a**4*sin(i)**4*sin(omega)**4 - 2*a**4*sin(i)**4*sin(omega)**2*cos(omega)**2 - a**4*sin(i)**4*cos(omega)**4 - 2*a**4*sin(i)**2*sin(omega)**4*cos(Omega)**2*cos(i)**2 - 4*a**4*sin(i)**2*sin(omega)**2*cos(Omega)**2*cos(i)**2*cos(omega)**2 - 2*a**4*sin(i)**2*cos(Omega)**2*cos(i)**2*cos(omega)**4 - a**4*sin(omega)**4*cos(Omega)**4*cos(i)**4 - 2*a**4*sin(omega)**2*cos(Omega)**4*cos(i)**4*cos(omega)**2 - a**4*cos(Omega)**4*cos(i)**4*cos(omega)**4,\n",
       " -4*Re**4*e**3 - 4*Re**2*a**2*e**5*sin(Omega)**2*sin(omega)**2 + 4*Re**2*a**2*e**5*sin(Omega)**2*cos(omega)**2 + 16*Re**2*a**2*e**5*sin(Omega)*sin(omega)*cos(Omega)*cos(i)*cos(omega) + 4*Re**2*a**2*e**5*sin(i)**2*sin(omega)**2 - 4*Re**2*a**2*e**5*sin(i)**2*cos(omega)**2 + 4*Re**2*a**2*e**5*sin(omega)**2*cos(Omega)**2*cos(i)**2 - 4*Re**2*a**2*e**5*cos(Omega)**2*cos(i)**2*cos(omega)**2 + 8*Re**2*a**2*e**3*sin(Omega)**2*sin(omega)**2 - 8*Re**2*a**2*e**3*sin(Omega)**2*cos(omega)**2 - 32*Re**2*a**2*e**3*sin(Omega)*sin(omega)*cos(Omega)*cos(i)*cos(omega) - 8*Re**2*a**2*e**3*sin(i)**2*sin(omega)**2 + 8*Re**2*a**2*e**3*sin(i)**2*cos(omega)**2 - 8*Re**2*a**2*e**3*sin(omega)**2*cos(Omega)**2*cos(i)**2 + 8*Re**2*a**2*e**3*cos(Omega)**2*cos(i)**2*cos(omega)**2 - 4*Re**2*a**2*e*sin(Omega)**2*sin(omega)**2 + 4*Re**2*a**2*e*sin(Omega)**2*cos(omega)**2 + 16*Re**2*a**2*e*sin(Omega)*sin(omega)*cos(Omega)*cos(i)*cos(omega) + 4*Re**2*a**2*e*sin(i)**2*sin(omega)**2 - 4*Re**2*a**2*e*sin(i)**2*cos(omega)**2 + 4*Re**2*a**2*e*sin(omega)**2*cos(Omega)**2*cos(i)**2 - 4*Re**2*a**2*e*cos(Omega)**2*cos(i)**2*cos(omega)**2,\n",
       " -6*Re**4*e**2 + 2*Re**2*a**2*e**6*sin(Omega)**2*sin(omega)**2 - 4*Re**2*a**2*e**6*sin(Omega)*sin(omega)*cos(Omega)*cos(i)*cos(omega) + 2*Re**2*a**2*e**6*sin(i)**2*cos(omega)**2 + 2*Re**2*a**2*e**6*cos(Omega)**2*cos(i)**2*cos(omega)**2 - 6*Re**2*a**2*e**4*sin(Omega)**2*sin(omega)**2 + 2*Re**2*a**2*e**4*sin(Omega)**2*cos(omega)**2 + 16*Re**2*a**2*e**4*sin(Omega)*sin(omega)*cos(Omega)*cos(i)*cos(omega) + 2*Re**2*a**2*e**4*sin(i)**2*sin(omega)**2 - 6*Re**2*a**2*e**4*sin(i)**2*cos(omega)**2 + 2*Re**2*a**2*e**4*sin(omega)**2*cos(Omega)**2*cos(i)**2 - 6*Re**2*a**2*e**4*cos(Omega)**2*cos(i)**2*cos(omega)**2 + 6*Re**2*a**2*e**2*sin(Omega)**2*sin(omega)**2 - 4*Re**2*a**2*e**2*sin(Omega)**2*cos(omega)**2 - 20*Re**2*a**2*e**2*sin(Omega)*sin(omega)*cos(Omega)*cos(i)*cos(omega) - 4*Re**2*a**2*e**2*sin(i)**2*sin(omega)**2 + 6*Re**2*a**2*e**2*sin(i)**2*cos(omega)**2 - 4*Re**2*a**2*e**2*sin(omega)**2*cos(Omega)**2*cos(i)**2 + 6*Re**2*a**2*e**2*cos(Omega)**2*cos(i)**2*cos(omega)**2 - 2*Re**2*a**2*sin(Omega)**2*sin(omega)**2 + 2*Re**2*a**2*sin(Omega)**2*cos(omega)**2 + 8*Re**2*a**2*sin(Omega)*sin(omega)*cos(Omega)*cos(i)*cos(omega) + 2*Re**2*a**2*sin(i)**2*sin(omega)**2 - 2*Re**2*a**2*sin(i)**2*cos(omega)**2 + 2*Re**2*a**2*sin(omega)**2*cos(Omega)**2*cos(i)**2 - 2*Re**2*a**2*cos(Omega)**2*cos(i)**2*cos(omega)**2 + 2*a**4*e**8*sin(Omega)**4*sin(omega)**4 + 2*a**4*e**8*sin(Omega)**4*sin(omega)**2*cos(omega)**2 - 4*a**4*e**8*sin(Omega)**3*sin(omega)**3*cos(Omega)*cos(i)*cos(omega) - 4*a**4*e**8*sin(Omega)**3*sin(omega)*cos(Omega)*cos(i)*cos(omega)**3 - 2*a**4*e**8*sin(Omega)**2*sin(i)**2*sin(omega)**4 - 4*a**4*e**8*sin(Omega)**2*sin(i)**2*sin(omega)**2*cos(omega)**2 - 2*a**4*e**8*sin(Omega)**2*sin(i)**2*cos(omega)**4 + 2*a**4*e**8*sin(Omega)**2*sin(omega)**4*cos(Omega)**2*cos(i)**2 + 4*a**4*e**8*sin(Omega)**2*sin(omega)**2*cos(Omega)**2*cos(i)**2*cos(omega)**2 + 2*a**4*e**8*sin(Omega)**2*cos(Omega)**2*cos(i)**2*cos(omega)**4 - 4*a**4*e**8*sin(Omega)*sin(i)**2*sin(omega)**3*cos(Omega)*cos(i)*cos(omega) - 4*a**4*e**8*sin(Omega)*sin(i)**2*sin(omega)*cos(Omega)*cos(i)*cos(omega)**3 - 4*a**4*e**8*sin(Omega)*sin(omega)**3*cos(Omega)**3*cos(i)**3*cos(omega) - 4*a**4*e**8*sin(Omega)*sin(omega)*cos(Omega)**3*cos(i)**3*cos(omega)**3 + 2*a**4*e**8*sin(i)**4*sin(omega)**2*cos(omega)**2 + 2*a**4*e**8*sin(i)**4*cos(omega)**4 + 4*a**4*e**8*sin(i)**2*sin(omega)**2*cos(Omega)**2*cos(i)**2*cos(omega)**2 + 4*a**4*e**8*sin(i)**2*cos(Omega)**2*cos(i)**2*cos(omega)**4 + 2*a**4*e**8*sin(omega)**2*cos(Omega)**4*cos(i)**4*cos(omega)**2 + 2*a**4*e**8*cos(Omega)**4*cos(i)**4*cos(omega)**4 - 8*a**4*e**6*sin(Omega)**4*sin(omega)**4 - 8*a**4*e**6*sin(Omega)**4*sin(omega)**2*cos(omega)**2 + 16*a**4*e**6*sin(Omega)**3*sin(omega)**3*cos(Omega)*cos(i)*cos(omega) + 16*a**4*e**6*sin(Omega)**3*sin(omega)*cos(Omega)*cos(i)*cos(omega)**3 + 8*a**4*e**6*sin(Omega)**2*sin(i)**2*sin(omega)**4 + 16*a**4*e**6*sin(Omega)**2*sin(i)**2*sin(omega)**2*cos(omega)**2 + 8*a**4*e**6*sin(Omega)**2*sin(i)**2*cos(omega)**4 - 8*a**4*e**6*sin(Omega)**2*sin(omega)**4*cos(Omega)**2*cos(i)**2 - 16*a**4*e**6*sin(Omega)**2*sin(omega)**2*cos(Omega)**2*cos(i)**2*cos(omega)**2 - 8*a**4*e**6*sin(Omega)**2*cos(Omega)**2*cos(i)**2*cos(omega)**4 + 16*a**4*e**6*sin(Omega)*sin(i)**2*sin(omega)**3*cos(Omega)*cos(i)*cos(omega) + 16*a**4*e**6*sin(Omega)*sin(i)**2*sin(omega)*cos(Omega)*cos(i)*cos(omega)**3 + 16*a**4*e**6*sin(Omega)*sin(omega)**3*cos(Omega)**3*cos(i)**3*cos(omega) + 16*a**4*e**6*sin(Omega)*sin(omega)*cos(Omega)**3*cos(i)**3*cos(omega)**3 - 8*a**4*e**6*sin(i)**4*sin(omega)**2*cos(omega)**2 - 8*a**4*e**6*sin(i)**4*cos(omega)**4 - 16*a**4*e**6*sin(i)**2*sin(omega)**2*cos(Omega)**2*cos(i)**2*cos(omega)**2 - 16*a**4*e**6*sin(i)**2*cos(Omega)**2*cos(i)**2*cos(omega)**4 - 8*a**4*e**6*sin(omega)**2*cos(Omega)**4*cos(i)**4*cos(omega)**2 - 8*a**4*e**6*cos(Omega)**4*cos(i)**4*cos(omega)**4 + 12*a**4*e**4*sin(Omega)**4*sin(omega)**4 + 12*a**4*e**4*sin(Omega)**4*sin(omega)**2*cos(omega)**2 - 24*a**4*e**4*sin(Omega)**3*sin(omega)**3*cos(Omega)*cos(i)*cos(omega) - 24*a**4*e**4*sin(Omega)**3*sin(omega)*cos(Omega)*cos(i)*cos(omega)**3 - 12*a**4*e**4*sin(Omega)**2*sin(i)**2*sin(omega)**4 - 24*a**4*e**4*sin(Omega)**2*sin(i)**2*sin(omega)**2*cos(omega)**2 - 12*a**4*e**4*sin(Omega)**2*sin(i)**2*cos(omega)**4 + 12*a**4*e**4*sin(Omega)**2*sin(omega)**4*cos(Omega)**2*cos(i)**2 + 24*a**4*e**4*sin(Omega)**2*sin(omega)**2*cos(Omega)**2*cos(i)**2*cos(omega)**2 + 12*a**4*e**4*sin(Omega)**2*cos(Omega)**2*cos(i)**2*cos(omega)**4 - 24*a**4*e**4*sin(Omega)*sin(i)**2*sin(omega)**3*cos(Omega)*cos(i)*cos(omega) - 24*a**4*e**4*sin(Omega)*sin(i)**2*sin(omega)*cos(Omega)*cos(i)*cos(omega)**3 - 24*a**4*e**4*sin(Omega)*sin(omega)**3*cos(Omega)**3*cos(i)**3*cos(omega) - 24*a**4*e**4*sin(Omega)*sin(omega)*cos(Omega)**3*cos(i)**3*cos(omega)**3 + 12*a**4*e**4*sin(i)**4*sin(omega)**2*cos(omega)**2 + 12*a**4*e**4*sin(i)**4*cos(omega)**4 + 24*a**4*e**4*sin(i)**2*sin(omega)**2*cos(Omega)**2*cos(i)**2*cos(omega)**2 + 24*a**4*e**4*sin(i)**2*cos(Omega)**2*cos(i)**2*cos(omega)**4 + 12*a**4*e**4*sin(omega)**2*cos(Omega)**4*cos(i)**4*cos(omega)**2 + 12*a**4*e**4*cos(Omega)**4*cos(i)**4*cos(omega)**4 - 8*a**4*e**2*sin(Omega)**4*sin(omega)**4 - 8*a**4*e**2*sin(Omega)**4*sin(omega)**2*cos(omega)**2 + 16*a**4*e**2*sin(Omega)**3*sin(omega)**3*cos(Omega)*cos(i)*cos(omega) + 16*a**4*e**2*sin(Omega)**3*sin(omega)*cos(Omega)*cos(i)*cos(omega)**3 + 8*a**4*e**2*sin(Omega)**2*sin(i)**2*sin(omega)**4 + 16*a**4*e**2*sin(Omega)**2*sin(i)**2*sin(omega)**2*cos(omega)**2 + 8*a**4*e**2*sin(Omega)**2*sin(i)**2*cos(omega)**4 - 8*a**4*e**2*sin(Omega)**2*sin(omega)**4*cos(Omega)**2*cos(i)**2 - 16*a**4*e**2*sin(Omega)**2*sin(omega)**2*cos(Omega)**2*cos(i)**2*cos(omega)**2 - 8*a**4*e**2*sin(Omega)**2*cos(Omega)**2*cos(i)**2*cos(omega)**4 + 16*a**4*e**2*sin(Omega)*sin(i)**2*sin(omega)**3*cos(Omega)*cos(i)*cos(omega) + 16*a**4*e**2*sin(Omega)*sin(i)**2*sin(omega)*cos(Omega)*cos(i)*cos(omega)**3 + 16*a**4*e**2*sin(Omega)*sin(omega)**3*cos(Omega)**3*cos(i)**3*cos(omega) + 16*a**4*e**2*sin(Omega)*sin(omega)*cos(Omega)**3*cos(i)**3*cos(omega)**3 - 8*a**4*e**2*sin(i)**4*sin(omega)**2*cos(omega)**2 - 8*a**4*e**2*sin(i)**4*cos(omega)**4 - 16*a**4*e**2*sin(i)**2*sin(omega)**2*cos(Omega)**2*cos(i)**2*cos(omega)**2 - 16*a**4*e**2*sin(i)**2*cos(Omega)**2*cos(i)**2*cos(omega)**4 - 8*a**4*e**2*sin(omega)**2*cos(Omega)**4*cos(i)**4*cos(omega)**2 - 8*a**4*e**2*cos(Omega)**4*cos(i)**4*cos(omega)**4 + 2*a**4*sin(Omega)**4*sin(omega)**4 + 2*a**4*sin(Omega)**4*sin(omega)**2*cos(omega)**2 - 4*a**4*sin(Omega)**3*sin(omega)**3*cos(Omega)*cos(i)*cos(omega) - 4*a**4*sin(Omega)**3*sin(omega)*cos(Omega)*cos(i)*cos(omega)**3 - 2*a**4*sin(Omega)**2*sin(i)**2*sin(omega)**4 - 4*a**4*sin(Omega)**2*sin(i)**2*sin(omega)**2*cos(omega)**2 - 2*a**4*sin(Omega)**2*sin(i)**2*cos(omega)**4 + 2*a**4*sin(Omega)**2*sin(omega)**4*cos(Omega)**2*cos(i)**2 + 4*a**4*sin(Omega)**2*sin(omega)**2*cos(Omega)**2*cos(i)**2*cos(omega)**2 + 2*a**4*sin(Omega)**2*cos(Omega)**2*cos(i)**2*cos(omega)**4 - 4*a**4*sin(Omega)*sin(i)**2*sin(omega)**3*cos(Omega)*cos(i)*cos(omega) - 4*a**4*sin(Omega)*sin(i)**2*sin(omega)*cos(Omega)*cos(i)*cos(omega)**3 - 4*a**4*sin(Omega)*sin(omega)**3*cos(Omega)**3*cos(i)**3*cos(omega) - 4*a**4*sin(Omega)*sin(omega)*cos(Omega)**3*cos(i)**3*cos(omega)**3 + 2*a**4*sin(i)**4*sin(omega)**2*cos(omega)**2 + 2*a**4*sin(i)**4*cos(omega)**4 + 4*a**4*sin(i)**2*sin(omega)**2*cos(Omega)**2*cos(i)**2*cos(omega)**2 + 4*a**4*sin(i)**2*cos(Omega)**2*cos(i)**2*cos(omega)**4 + 2*a**4*sin(omega)**2*cos(Omega)**4*cos(i)**4*cos(omega)**2 + 2*a**4*cos(Omega)**4*cos(i)**4*cos(omega)**4,\n",
       " -4*Re**4*e + 4*Re**2*a**2*e**5*sin(Omega)**2*sin(omega)**2 - 8*Re**2*a**2*e**5*sin(Omega)*sin(omega)*cos(Omega)*cos(i)*cos(omega) + 4*Re**2*a**2*e**5*sin(i)**2*cos(omega)**2 + 4*Re**2*a**2*e**5*cos(Omega)**2*cos(i)**2*cos(omega)**2 - 8*Re**2*a**2*e**3*sin(Omega)**2*sin(omega)**2 + 16*Re**2*a**2*e**3*sin(Omega)*sin(omega)*cos(Omega)*cos(i)*cos(omega) - 8*Re**2*a**2*e**3*sin(i)**2*cos(omega)**2 - 8*Re**2*a**2*e**3*cos(Omega)**2*cos(i)**2*cos(omega)**2 + 4*Re**2*a**2*e*sin(Omega)**2*sin(omega)**2 - 8*Re**2*a**2*e*sin(Omega)*sin(omega)*cos(Omega)*cos(i)*cos(omega) + 4*Re**2*a**2*e*sin(i)**2*cos(omega)**2 + 4*Re**2*a**2*e*cos(Omega)**2*cos(i)**2*cos(omega)**2,\n",
       " -Re**4 + 2*Re**2*a**2*e**4*sin(Omega)**2*sin(omega)**2 - 4*Re**2*a**2*e**4*sin(Omega)*sin(omega)*cos(Omega)*cos(i)*cos(omega) + 2*Re**2*a**2*e**4*sin(i)**2*cos(omega)**2 + 2*Re**2*a**2*e**4*cos(Omega)**2*cos(i)**2*cos(omega)**2 - 4*Re**2*a**2*e**2*sin(Omega)**2*sin(omega)**2 + 8*Re**2*a**2*e**2*sin(Omega)*sin(omega)*cos(Omega)*cos(i)*cos(omega) - 4*Re**2*a**2*e**2*sin(i)**2*cos(omega)**2 - 4*Re**2*a**2*e**2*cos(Omega)**2*cos(i)**2*cos(omega)**2 + 2*Re**2*a**2*sin(Omega)**2*sin(omega)**2 - 4*Re**2*a**2*sin(Omega)*sin(omega)*cos(Omega)*cos(i)*cos(omega) + 2*Re**2*a**2*sin(i)**2*cos(omega)**2 + 2*Re**2*a**2*cos(Omega)**2*cos(i)**2*cos(omega)**2 - a**4*e**8*sin(Omega)**4*sin(omega)**4 + 4*a**4*e**8*sin(Omega)**3*sin(omega)**3*cos(Omega)*cos(i)*cos(omega) - 2*a**4*e**8*sin(Omega)**2*sin(i)**2*sin(omega)**2*cos(omega)**2 - 6*a**4*e**8*sin(Omega)**2*sin(omega)**2*cos(Omega)**2*cos(i)**2*cos(omega)**2 + 4*a**4*e**8*sin(Omega)*sin(i)**2*sin(omega)*cos(Omega)*cos(i)*cos(omega)**3 + 4*a**4*e**8*sin(Omega)*sin(omega)*cos(Omega)**3*cos(i)**3*cos(omega)**3 - a**4*e**8*sin(i)**4*cos(omega)**4 - 2*a**4*e**8*sin(i)**2*cos(Omega)**2*cos(i)**2*cos(omega)**4 - a**4*e**8*cos(Omega)**4*cos(i)**4*cos(omega)**4 + 4*a**4*e**6*sin(Omega)**4*sin(omega)**4 - 16*a**4*e**6*sin(Omega)**3*sin(omega)**3*cos(Omega)*cos(i)*cos(omega) + 8*a**4*e**6*sin(Omega)**2*sin(i)**2*sin(omega)**2*cos(omega)**2 + 24*a**4*e**6*sin(Omega)**2*sin(omega)**2*cos(Omega)**2*cos(i)**2*cos(omega)**2 - 16*a**4*e**6*sin(Omega)*sin(i)**2*sin(omega)*cos(Omega)*cos(i)*cos(omega)**3 - 16*a**4*e**6*sin(Omega)*sin(omega)*cos(Omega)**3*cos(i)**3*cos(omega)**3 + 4*a**4*e**6*sin(i)**4*cos(omega)**4 + 8*a**4*e**6*sin(i)**2*cos(Omega)**2*cos(i)**2*cos(omega)**4 + 4*a**4*e**6*cos(Omega)**4*cos(i)**4*cos(omega)**4 - 6*a**4*e**4*sin(Omega)**4*sin(omega)**4 + 24*a**4*e**4*sin(Omega)**3*sin(omega)**3*cos(Omega)*cos(i)*cos(omega) - 12*a**4*e**4*sin(Omega)**2*sin(i)**2*sin(omega)**2*cos(omega)**2 - 36*a**4*e**4*sin(Omega)**2*sin(omega)**2*cos(Omega)**2*cos(i)**2*cos(omega)**2 + 24*a**4*e**4*sin(Omega)*sin(i)**2*sin(omega)*cos(Omega)*cos(i)*cos(omega)**3 + 24*a**4*e**4*sin(Omega)*sin(omega)*cos(Omega)**3*cos(i)**3*cos(omega)**3 - 6*a**4*e**4*sin(i)**4*cos(omega)**4 - 12*a**4*e**4*sin(i)**2*cos(Omega)**2*cos(i)**2*cos(omega)**4 - 6*a**4*e**4*cos(Omega)**4*cos(i)**4*cos(omega)**4 + 4*a**4*e**2*sin(Omega)**4*sin(omega)**4 - 16*a**4*e**2*sin(Omega)**3*sin(omega)**3*cos(Omega)*cos(i)*cos(omega) + 8*a**4*e**2*sin(Omega)**2*sin(i)**2*sin(omega)**2*cos(omega)**2 + 24*a**4*e**2*sin(Omega)**2*sin(omega)**2*cos(Omega)**2*cos(i)**2*cos(omega)**2 - 16*a**4*e**2*sin(Omega)*sin(i)**2*sin(omega)*cos(Omega)*cos(i)*cos(omega)**3 - 16*a**4*e**2*sin(Omega)*sin(omega)*cos(Omega)**3*cos(i)**3*cos(omega)**3 + 4*a**4*e**2*sin(i)**4*cos(omega)**4 + 8*a**4*e**2*sin(i)**2*cos(Omega)**2*cos(i)**2*cos(omega)**4 + 4*a**4*e**2*cos(Omega)**4*cos(i)**4*cos(omega)**4 - a**4*sin(Omega)**4*sin(omega)**4 + 4*a**4*sin(Omega)**3*sin(omega)**3*cos(Omega)*cos(i)*cos(omega) - 2*a**4*sin(Omega)**2*sin(i)**2*sin(omega)**2*cos(omega)**2 - 6*a**4*sin(Omega)**2*sin(omega)**2*cos(Omega)**2*cos(i)**2*cos(omega)**2 + 4*a**4*sin(Omega)*sin(i)**2*sin(omega)*cos(Omega)*cos(i)*cos(omega)**3 + 4*a**4*sin(Omega)*sin(omega)*cos(Omega)**3*cos(i)**3*cos(omega)**3 - a**4*sin(i)**4*cos(omega)**4 - 2*a**4*sin(i)**2*cos(Omega)**2*cos(i)**2*cos(omega)**4 - a**4*cos(Omega)**4*cos(i)**4*cos(omega)**4]"
      ]
     },
     "execution_count": 82,
     "metadata": {},
     "output_type": "execute_result"
    }
   ],
   "source": [
    "eclipseEqn5Coeffs"
   ]
  },
  {
   "cell_type": "code",
   "execution_count": 83,
   "id": "a93df4ec",
   "metadata": {},
   "outputs": [
    {
     "data": {
      "text/latex": [
       "$\\displaystyle - Re^{4} e^{4} + 4 Re^{2} a^{2} e^{6} \\sin^{2}{\\left(\\Omega \\right)} \\sin^{2}{\\left(i \\right)} \\sin^{2}{\\left(\\omega \\right)} - 2 Re^{2} a^{2} e^{6} \\sin^{2}{\\left(\\Omega \\right)} \\sin^{2}{\\left(i \\right)} - 8 Re^{2} a^{2} e^{6} \\sin^{2}{\\left(\\Omega \\right)} \\sin^{2}{\\left(\\omega \\right)} + 4 Re^{2} a^{2} e^{6} \\sin^{2}{\\left(\\Omega \\right)} + 8 Re^{2} a^{2} e^{6} \\sin{\\left(\\Omega \\right)} \\sin{\\left(\\omega \\right)} \\cos{\\left(\\Omega \\right)} \\cos{\\left(i \\right)} \\cos{\\left(\\omega \\right)} + 4 Re^{2} a^{2} e^{6} \\sin^{2}{\\left(\\omega \\right)} - 2 Re^{2} a^{2} e^{6} - 8 Re^{2} a^{2} e^{4} \\sin^{2}{\\left(\\Omega \\right)} \\sin^{2}{\\left(i \\right)} \\sin^{2}{\\left(\\omega \\right)} + 4 Re^{2} a^{2} e^{4} \\sin^{2}{\\left(\\Omega \\right)} \\sin^{2}{\\left(i \\right)} + 16 Re^{2} a^{2} e^{4} \\sin^{2}{\\left(\\Omega \\right)} \\sin^{2}{\\left(\\omega \\right)} - 8 Re^{2} a^{2} e^{4} \\sin^{2}{\\left(\\Omega \\right)} - 16 Re^{2} a^{2} e^{4} \\sin{\\left(\\Omega \\right)} \\sin{\\left(\\omega \\right)} \\cos{\\left(\\Omega \\right)} \\cos{\\left(i \\right)} \\cos{\\left(\\omega \\right)} - 8 Re^{2} a^{2} e^{4} \\sin^{2}{\\left(\\omega \\right)} + 4 Re^{2} a^{2} e^{4} + 4 Re^{2} a^{2} e^{2} \\sin^{2}{\\left(\\Omega \\right)} \\sin^{2}{\\left(i \\right)} \\sin^{2}{\\left(\\omega \\right)} - 2 Re^{2} a^{2} e^{2} \\sin^{2}{\\left(\\Omega \\right)} \\sin^{2}{\\left(i \\right)} - 8 Re^{2} a^{2} e^{2} \\sin^{2}{\\left(\\Omega \\right)} \\sin^{2}{\\left(\\omega \\right)} + 4 Re^{2} a^{2} e^{2} \\sin^{2}{\\left(\\Omega \\right)} + 8 Re^{2} a^{2} e^{2} \\sin{\\left(\\Omega \\right)} \\sin{\\left(\\omega \\right)} \\cos{\\left(\\Omega \\right)} \\cos{\\left(i \\right)} \\cos{\\left(\\omega \\right)} + 4 Re^{2} a^{2} e^{2} \\sin^{2}{\\left(\\omega \\right)} - 2 Re^{2} a^{2} e^{2} - a^{4} e^{8} \\sin^{4}{\\left(\\Omega \\right)} \\sin^{4}{\\left(i \\right)} + 2 a^{4} e^{8} \\sin^{2}{\\left(\\Omega \\right)} \\sin^{2}{\\left(i \\right)} - a^{4} e^{8} + 4 a^{4} e^{6} \\sin^{4}{\\left(\\Omega \\right)} \\sin^{4}{\\left(i \\right)} - 8 a^{4} e^{6} \\sin^{2}{\\left(\\Omega \\right)} \\sin^{2}{\\left(i \\right)} + 4 a^{4} e^{6} - 6 a^{4} e^{4} \\sin^{4}{\\left(\\Omega \\right)} \\sin^{4}{\\left(i \\right)} + 12 a^{4} e^{4} \\sin^{2}{\\left(\\Omega \\right)} \\sin^{2}{\\left(i \\right)} - 6 a^{4} e^{4} + 4 a^{4} e^{2} \\sin^{4}{\\left(\\Omega \\right)} \\sin^{4}{\\left(i \\right)} - 8 a^{4} e^{2} \\sin^{2}{\\left(\\Omega \\right)} \\sin^{2}{\\left(i \\right)} + 4 a^{4} e^{2} - a^{4} \\sin^{4}{\\left(\\Omega \\right)} \\sin^{4}{\\left(i \\right)} + 2 a^{4} \\sin^{2}{\\left(\\Omega \\right)} \\sin^{2}{\\left(i \\right)} - a^{4}$"
      ],
      "text/plain": [
       "-Re**4*e**4 + 4*Re**2*a**2*e**6*sin(Omega)**2*sin(i)**2*sin(omega)**2 - 2*Re**2*a**2*e**6*sin(Omega)**2*sin(i)**2 - 8*Re**2*a**2*e**6*sin(Omega)**2*sin(omega)**2 + 4*Re**2*a**2*e**6*sin(Omega)**2 + 8*Re**2*a**2*e**6*sin(Omega)*sin(omega)*cos(Omega)*cos(i)*cos(omega) + 4*Re**2*a**2*e**6*sin(omega)**2 - 2*Re**2*a**2*e**6 - 8*Re**2*a**2*e**4*sin(Omega)**2*sin(i)**2*sin(omega)**2 + 4*Re**2*a**2*e**4*sin(Omega)**2*sin(i)**2 + 16*Re**2*a**2*e**4*sin(Omega)**2*sin(omega)**2 - 8*Re**2*a**2*e**4*sin(Omega)**2 - 16*Re**2*a**2*e**4*sin(Omega)*sin(omega)*cos(Omega)*cos(i)*cos(omega) - 8*Re**2*a**2*e**4*sin(omega)**2 + 4*Re**2*a**2*e**4 + 4*Re**2*a**2*e**2*sin(Omega)**2*sin(i)**2*sin(omega)**2 - 2*Re**2*a**2*e**2*sin(Omega)**2*sin(i)**2 - 8*Re**2*a**2*e**2*sin(Omega)**2*sin(omega)**2 + 4*Re**2*a**2*e**2*sin(Omega)**2 + 8*Re**2*a**2*e**2*sin(Omega)*sin(omega)*cos(Omega)*cos(i)*cos(omega) + 4*Re**2*a**2*e**2*sin(omega)**2 - 2*Re**2*a**2*e**2 - a**4*e**8*sin(Omega)**4*sin(i)**4 + 2*a**4*e**8*sin(Omega)**2*sin(i)**2 - a**4*e**8 + 4*a**4*e**6*sin(Omega)**4*sin(i)**4 - 8*a**4*e**6*sin(Omega)**2*sin(i)**2 + 4*a**4*e**6 - 6*a**4*e**4*sin(Omega)**4*sin(i)**4 + 12*a**4*e**4*sin(Omega)**2*sin(i)**2 - 6*a**4*e**4 + 4*a**4*e**2*sin(Omega)**4*sin(i)**4 - 8*a**4*e**2*sin(Omega)**2*sin(i)**2 + 4*a**4*e**2 - a**4*sin(Omega)**4*sin(i)**4 + 2*a**4*sin(Omega)**2*sin(i)**2 - a**4"
      ]
     },
     "execution_count": 83,
     "metadata": {},
     "output_type": "execute_result"
    }
   ],
   "source": [
    "sp.simplify(eclipseEqn5Coeffs[0])"
   ]
  },
  {
   "cell_type": "code",
   "execution_count": 84,
   "id": "b7cadb02",
   "metadata": {},
   "outputs": [
    {
     "data": {
      "text/latex": [
       "$\\displaystyle 4 Re^{2} e \\left(- Re^{2} e^{2} + 2 a^{2} e^{4} \\sin^{2}{\\left(\\Omega \\right)} \\sin^{2}{\\left(i \\right)} \\sin^{2}{\\left(\\omega \\right)} - a^{2} e^{4} \\sin^{2}{\\left(\\Omega \\right)} \\sin^{2}{\\left(i \\right)} - 4 a^{2} e^{4} \\sin^{2}{\\left(\\Omega \\right)} \\sin^{2}{\\left(\\omega \\right)} + 2 a^{2} e^{4} \\sin^{2}{\\left(\\Omega \\right)} + 4 a^{2} e^{4} \\sin{\\left(\\Omega \\right)} \\sin{\\left(\\omega \\right)} \\cos{\\left(\\Omega \\right)} \\cos{\\left(i \\right)} \\cos{\\left(\\omega \\right)} + 2 a^{2} e^{4} \\sin^{2}{\\left(\\omega \\right)} - a^{2} e^{4} - 4 a^{2} e^{2} \\sin^{2}{\\left(\\Omega \\right)} \\sin^{2}{\\left(i \\right)} \\sin^{2}{\\left(\\omega \\right)} + 2 a^{2} e^{2} \\sin^{2}{\\left(\\Omega \\right)} \\sin^{2}{\\left(i \\right)} + 8 a^{2} e^{2} \\sin^{2}{\\left(\\Omega \\right)} \\sin^{2}{\\left(\\omega \\right)} - 4 a^{2} e^{2} \\sin^{2}{\\left(\\Omega \\right)} - 8 a^{2} e^{2} \\sin{\\left(\\Omega \\right)} \\sin{\\left(\\omega \\right)} \\cos{\\left(\\Omega \\right)} \\cos{\\left(i \\right)} \\cos{\\left(\\omega \\right)} - 4 a^{2} e^{2} \\sin^{2}{\\left(\\omega \\right)} + 2 a^{2} e^{2} + 2 a^{2} \\sin^{2}{\\left(\\Omega \\right)} \\sin^{2}{\\left(i \\right)} \\sin^{2}{\\left(\\omega \\right)} - a^{2} \\sin^{2}{\\left(\\Omega \\right)} \\sin^{2}{\\left(i \\right)} - 4 a^{2} \\sin^{2}{\\left(\\Omega \\right)} \\sin^{2}{\\left(\\omega \\right)} + 2 a^{2} \\sin^{2}{\\left(\\Omega \\right)} + 4 a^{2} \\sin{\\left(\\Omega \\right)} \\sin{\\left(\\omega \\right)} \\cos{\\left(\\Omega \\right)} \\cos{\\left(i \\right)} \\cos{\\left(\\omega \\right)} + 2 a^{2} \\sin^{2}{\\left(\\omega \\right)} - a^{2}\\right)$"
      ],
      "text/plain": [
       "4*Re**2*e*(-Re**2*e**2 + 2*a**2*e**4*sin(Omega)**2*sin(i)**2*sin(omega)**2 - a**2*e**4*sin(Omega)**2*sin(i)**2 - 4*a**2*e**4*sin(Omega)**2*sin(omega)**2 + 2*a**2*e**4*sin(Omega)**2 + 4*a**2*e**4*sin(Omega)*sin(omega)*cos(Omega)*cos(i)*cos(omega) + 2*a**2*e**4*sin(omega)**2 - a**2*e**4 - 4*a**2*e**2*sin(Omega)**2*sin(i)**2*sin(omega)**2 + 2*a**2*e**2*sin(Omega)**2*sin(i)**2 + 8*a**2*e**2*sin(Omega)**2*sin(omega)**2 - 4*a**2*e**2*sin(Omega)**2 - 8*a**2*e**2*sin(Omega)*sin(omega)*cos(Omega)*cos(i)*cos(omega) - 4*a**2*e**2*sin(omega)**2 + 2*a**2*e**2 + 2*a**2*sin(Omega)**2*sin(i)**2*sin(omega)**2 - a**2*sin(Omega)**2*sin(i)**2 - 4*a**2*sin(Omega)**2*sin(omega)**2 + 2*a**2*sin(Omega)**2 + 4*a**2*sin(Omega)*sin(omega)*cos(Omega)*cos(i)*cos(omega) + 2*a**2*sin(omega)**2 - a**2)"
      ]
     },
     "execution_count": 84,
     "metadata": {},
     "output_type": "execute_result"
    }
   ],
   "source": [
    "sp.simplify(eclipseEqn5Coeffs[1])"
   ]
  },
  {
   "cell_type": "code",
   "execution_count": 85,
   "id": "869a2b7c",
   "metadata": {},
   "outputs": [
    {
     "data": {
      "text/latex": [
       "$\\displaystyle - 6 Re^{4} e^{2} - 2 Re^{2} a^{2} e^{6} \\sin^{2}{\\left(\\Omega \\right)} \\sin^{2}{\\left(i \\right)} \\sin^{2}{\\left(\\omega \\right)} + 2 Re^{2} a^{2} e^{6} \\sin^{2}{\\left(\\Omega \\right)} \\sin^{2}{\\left(i \\right)} + 4 Re^{2} a^{2} e^{6} \\sin^{2}{\\left(\\Omega \\right)} \\sin^{2}{\\left(\\omega \\right)} - 2 Re^{2} a^{2} e^{6} \\sin^{2}{\\left(\\Omega \\right)} - 4 Re^{2} a^{2} e^{6} \\sin{\\left(\\Omega \\right)} \\sin{\\left(\\omega \\right)} \\cos{\\left(\\Omega \\right)} \\cos{\\left(i \\right)} \\cos{\\left(\\omega \\right)} - 2 Re^{2} a^{2} e^{6} \\sin^{2}{\\left(\\omega \\right)} + 2 Re^{2} a^{2} e^{6} + 8 Re^{2} a^{2} e^{4} \\sin^{2}{\\left(\\Omega \\right)} \\sin^{2}{\\left(i \\right)} \\sin^{2}{\\left(\\omega \\right)} - 6 Re^{2} a^{2} e^{4} \\sin^{2}{\\left(\\Omega \\right)} \\sin^{2}{\\left(i \\right)} - 16 Re^{2} a^{2} e^{4} \\sin^{2}{\\left(\\Omega \\right)} \\sin^{2}{\\left(\\omega \\right)} + 8 Re^{2} a^{2} e^{4} \\sin^{2}{\\left(\\Omega \\right)} + 16 Re^{2} a^{2} e^{4} \\sin{\\left(\\Omega \\right)} \\sin{\\left(\\omega \\right)} \\cos{\\left(\\Omega \\right)} \\cos{\\left(i \\right)} \\cos{\\left(\\omega \\right)} + 8 Re^{2} a^{2} e^{4} \\sin^{2}{\\left(\\omega \\right)} - 6 Re^{2} a^{2} e^{4} - 10 Re^{2} a^{2} e^{2} \\sin^{2}{\\left(\\Omega \\right)} \\sin^{2}{\\left(i \\right)} \\sin^{2}{\\left(\\omega \\right)} + 6 Re^{2} a^{2} e^{2} \\sin^{2}{\\left(\\Omega \\right)} \\sin^{2}{\\left(i \\right)} + 20 Re^{2} a^{2} e^{2} \\sin^{2}{\\left(\\Omega \\right)} \\sin^{2}{\\left(\\omega \\right)} - 10 Re^{2} a^{2} e^{2} \\sin^{2}{\\left(\\Omega \\right)} - 20 Re^{2} a^{2} e^{2} \\sin{\\left(\\Omega \\right)} \\sin{\\left(\\omega \\right)} \\cos{\\left(\\Omega \\right)} \\cos{\\left(i \\right)} \\cos{\\left(\\omega \\right)} - 10 Re^{2} a^{2} e^{2} \\sin^{2}{\\left(\\omega \\right)} + 6 Re^{2} a^{2} e^{2} + 4 Re^{2} a^{2} \\sin^{2}{\\left(\\Omega \\right)} \\sin^{2}{\\left(i \\right)} \\sin^{2}{\\left(\\omega \\right)} - 2 Re^{2} a^{2} \\sin^{2}{\\left(\\Omega \\right)} \\sin^{2}{\\left(i \\right)} - 8 Re^{2} a^{2} \\sin^{2}{\\left(\\Omega \\right)} \\sin^{2}{\\left(\\omega \\right)} + 4 Re^{2} a^{2} \\sin^{2}{\\left(\\Omega \\right)} + 8 Re^{2} a^{2} \\sin{\\left(\\Omega \\right)} \\sin{\\left(\\omega \\right)} \\cos{\\left(\\Omega \\right)} \\cos{\\left(i \\right)} \\cos{\\left(\\omega \\right)} + 4 Re^{2} a^{2} \\sin^{2}{\\left(\\omega \\right)} - 2 Re^{2} a^{2} - 2 a^{4} e^{8} \\sin^{4}{\\left(\\Omega \\right)} \\sin^{4}{\\left(i \\right)} \\sin^{2}{\\left(\\omega \\right)} + 2 a^{4} e^{8} \\sin^{4}{\\left(\\Omega \\right)} \\sin^{4}{\\left(i \\right)} + 4 a^{4} e^{8} \\sin^{4}{\\left(\\Omega \\right)} \\sin^{2}{\\left(i \\right)} \\sin^{2}{\\left(\\omega \\right)} - 2 a^{4} e^{8} \\sin^{4}{\\left(\\Omega \\right)} \\sin^{2}{\\left(i \\right)} - 4 a^{4} e^{8} \\sin^{3}{\\left(\\Omega \\right)} \\sin^{3}{\\left(\\omega \\right)} \\cos{\\left(\\Omega \\right)} \\cos{\\left(i \\right)} \\cos{\\left(\\omega \\right)} - 4 a^{4} e^{8} \\sin^{3}{\\left(\\Omega \\right)} \\sin{\\left(\\omega \\right)} \\cos{\\left(\\Omega \\right)} \\cos{\\left(i \\right)} \\cos^{3}{\\left(\\omega \\right)} - 4 a^{4} e^{8} \\sin^{2}{\\left(\\Omega \\right)} \\sin^{2}{\\left(i \\right)} \\sin^{2}{\\left(\\omega \\right)} + 4 a^{4} e^{8} \\sin^{2}{\\left(\\Omega \\right)} \\sin^{2}{\\left(\\omega \\right)} - 2 a^{4} e^{8} \\sin^{2}{\\left(\\Omega \\right)} - 4 a^{4} e^{8} \\sin{\\left(\\Omega \\right)} \\sin^{2}{\\left(i \\right)} \\sin^{3}{\\left(\\omega \\right)} \\cos{\\left(\\Omega \\right)} \\cos{\\left(i \\right)} \\cos{\\left(\\omega \\right)} - 4 a^{4} e^{8} \\sin{\\left(\\Omega \\right)} \\sin^{2}{\\left(i \\right)} \\sin{\\left(\\omega \\right)} \\cos{\\left(\\Omega \\right)} \\cos{\\left(i \\right)} \\cos^{3}{\\left(\\omega \\right)} - 4 a^{4} e^{8} \\sin{\\left(\\Omega \\right)} \\sin^{3}{\\left(\\omega \\right)} \\cos^{3}{\\left(\\Omega \\right)} \\cos^{3}{\\left(i \\right)} \\cos{\\left(\\omega \\right)} - 4 a^{4} e^{8} \\sin{\\left(\\Omega \\right)} \\sin{\\left(\\omega \\right)} \\cos^{3}{\\left(\\Omega \\right)} \\cos^{3}{\\left(i \\right)} \\cos^{3}{\\left(\\omega \\right)} - 2 a^{4} e^{8} \\sin^{2}{\\left(\\omega \\right)} + 2 a^{4} e^{8} + 8 a^{4} e^{6} \\sin^{4}{\\left(\\Omega \\right)} \\sin^{4}{\\left(i \\right)} \\sin^{2}{\\left(\\omega \\right)} - 8 a^{4} e^{6} \\sin^{4}{\\left(\\Omega \\right)} \\sin^{4}{\\left(i \\right)} - 16 a^{4} e^{6} \\sin^{4}{\\left(\\Omega \\right)} \\sin^{2}{\\left(i \\right)} \\sin^{2}{\\left(\\omega \\right)} + 8 a^{4} e^{6} \\sin^{4}{\\left(\\Omega \\right)} \\sin^{2}{\\left(i \\right)} + 16 a^{4} e^{6} \\sin^{3}{\\left(\\Omega \\right)} \\sin^{3}{\\left(\\omega \\right)} \\cos{\\left(\\Omega \\right)} \\cos{\\left(i \\right)} \\cos{\\left(\\omega \\right)} + 16 a^{4} e^{6} \\sin^{3}{\\left(\\Omega \\right)} \\sin{\\left(\\omega \\right)} \\cos{\\left(\\Omega \\right)} \\cos{\\left(i \\right)} \\cos^{3}{\\left(\\omega \\right)} + 16 a^{4} e^{6} \\sin^{2}{\\left(\\Omega \\right)} \\sin^{2}{\\left(i \\right)} \\sin^{2}{\\left(\\omega \\right)} - 16 a^{4} e^{6} \\sin^{2}{\\left(\\Omega \\right)} \\sin^{2}{\\left(\\omega \\right)} + 8 a^{4} e^{6} \\sin^{2}{\\left(\\Omega \\right)} + 16 a^{4} e^{6} \\sin{\\left(\\Omega \\right)} \\sin^{2}{\\left(i \\right)} \\sin^{3}{\\left(\\omega \\right)} \\cos{\\left(\\Omega \\right)} \\cos{\\left(i \\right)} \\cos{\\left(\\omega \\right)} + 16 a^{4} e^{6} \\sin{\\left(\\Omega \\right)} \\sin^{2}{\\left(i \\right)} \\sin{\\left(\\omega \\right)} \\cos{\\left(\\Omega \\right)} \\cos{\\left(i \\right)} \\cos^{3}{\\left(\\omega \\right)} + 16 a^{4} e^{6} \\sin{\\left(\\Omega \\right)} \\sin^{3}{\\left(\\omega \\right)} \\cos^{3}{\\left(\\Omega \\right)} \\cos^{3}{\\left(i \\right)} \\cos{\\left(\\omega \\right)} + 16 a^{4} e^{6} \\sin{\\left(\\Omega \\right)} \\sin{\\left(\\omega \\right)} \\cos^{3}{\\left(\\Omega \\right)} \\cos^{3}{\\left(i \\right)} \\cos^{3}{\\left(\\omega \\right)} + 8 a^{4} e^{6} \\sin^{2}{\\left(\\omega \\right)} - 8 a^{4} e^{6} - 12 a^{4} e^{4} \\sin^{4}{\\left(\\Omega \\right)} \\sin^{4}{\\left(i \\right)} \\sin^{2}{\\left(\\omega \\right)} + 12 a^{4} e^{4} \\sin^{4}{\\left(\\Omega \\right)} \\sin^{4}{\\left(i \\right)} + 24 a^{4} e^{4} \\sin^{4}{\\left(\\Omega \\right)} \\sin^{2}{\\left(i \\right)} \\sin^{2}{\\left(\\omega \\right)} - 12 a^{4} e^{4} \\sin^{4}{\\left(\\Omega \\right)} \\sin^{2}{\\left(i \\right)} - 24 a^{4} e^{4} \\sin^{3}{\\left(\\Omega \\right)} \\sin^{3}{\\left(\\omega \\right)} \\cos{\\left(\\Omega \\right)} \\cos{\\left(i \\right)} \\cos{\\left(\\omega \\right)} - 24 a^{4} e^{4} \\sin^{3}{\\left(\\Omega \\right)} \\sin{\\left(\\omega \\right)} \\cos{\\left(\\Omega \\right)} \\cos{\\left(i \\right)} \\cos^{3}{\\left(\\omega \\right)} - 24 a^{4} e^{4} \\sin^{2}{\\left(\\Omega \\right)} \\sin^{2}{\\left(i \\right)} \\sin^{2}{\\left(\\omega \\right)} + 24 a^{4} e^{4} \\sin^{2}{\\left(\\Omega \\right)} \\sin^{2}{\\left(\\omega \\right)} - 12 a^{4} e^{4} \\sin^{2}{\\left(\\Omega \\right)} - 24 a^{4} e^{4} \\sin{\\left(\\Omega \\right)} \\sin^{2}{\\left(i \\right)} \\sin^{3}{\\left(\\omega \\right)} \\cos{\\left(\\Omega \\right)} \\cos{\\left(i \\right)} \\cos{\\left(\\omega \\right)} - 24 a^{4} e^{4} \\sin{\\left(\\Omega \\right)} \\sin^{2}{\\left(i \\right)} \\sin{\\left(\\omega \\right)} \\cos{\\left(\\Omega \\right)} \\cos{\\left(i \\right)} \\cos^{3}{\\left(\\omega \\right)} - 24 a^{4} e^{4} \\sin{\\left(\\Omega \\right)} \\sin^{3}{\\left(\\omega \\right)} \\cos^{3}{\\left(\\Omega \\right)} \\cos^{3}{\\left(i \\right)} \\cos{\\left(\\omega \\right)} - 24 a^{4} e^{4} \\sin{\\left(\\Omega \\right)} \\sin{\\left(\\omega \\right)} \\cos^{3}{\\left(\\Omega \\right)} \\cos^{3}{\\left(i \\right)} \\cos^{3}{\\left(\\omega \\right)} - 12 a^{4} e^{4} \\sin^{2}{\\left(\\omega \\right)} + 12 a^{4} e^{4} + 8 a^{4} e^{2} \\sin^{4}{\\left(\\Omega \\right)} \\sin^{4}{\\left(i \\right)} \\sin^{2}{\\left(\\omega \\right)} - 8 a^{4} e^{2} \\sin^{4}{\\left(\\Omega \\right)} \\sin^{4}{\\left(i \\right)} - 16 a^{4} e^{2} \\sin^{4}{\\left(\\Omega \\right)} \\sin^{2}{\\left(i \\right)} \\sin^{2}{\\left(\\omega \\right)} + 8 a^{4} e^{2} \\sin^{4}{\\left(\\Omega \\right)} \\sin^{2}{\\left(i \\right)} + 16 a^{4} e^{2} \\sin^{3}{\\left(\\Omega \\right)} \\sin^{3}{\\left(\\omega \\right)} \\cos{\\left(\\Omega \\right)} \\cos{\\left(i \\right)} \\cos{\\left(\\omega \\right)} + 16 a^{4} e^{2} \\sin^{3}{\\left(\\Omega \\right)} \\sin{\\left(\\omega \\right)} \\cos{\\left(\\Omega \\right)} \\cos{\\left(i \\right)} \\cos^{3}{\\left(\\omega \\right)} + 16 a^{4} e^{2} \\sin^{2}{\\left(\\Omega \\right)} \\sin^{2}{\\left(i \\right)} \\sin^{2}{\\left(\\omega \\right)} - 16 a^{4} e^{2} \\sin^{2}{\\left(\\Omega \\right)} \\sin^{2}{\\left(\\omega \\right)} + 8 a^{4} e^{2} \\sin^{2}{\\left(\\Omega \\right)} + 16 a^{4} e^{2} \\sin{\\left(\\Omega \\right)} \\sin^{2}{\\left(i \\right)} \\sin^{3}{\\left(\\omega \\right)} \\cos{\\left(\\Omega \\right)} \\cos{\\left(i \\right)} \\cos{\\left(\\omega \\right)} + 16 a^{4} e^{2} \\sin{\\left(\\Omega \\right)} \\sin^{2}{\\left(i \\right)} \\sin{\\left(\\omega \\right)} \\cos{\\left(\\Omega \\right)} \\cos{\\left(i \\right)} \\cos^{3}{\\left(\\omega \\right)} + 16 a^{4} e^{2} \\sin{\\left(\\Omega \\right)} \\sin^{3}{\\left(\\omega \\right)} \\cos^{3}{\\left(\\Omega \\right)} \\cos^{3}{\\left(i \\right)} \\cos{\\left(\\omega \\right)} + 16 a^{4} e^{2} \\sin{\\left(\\Omega \\right)} \\sin{\\left(\\omega \\right)} \\cos^{3}{\\left(\\Omega \\right)} \\cos^{3}{\\left(i \\right)} \\cos^{3}{\\left(\\omega \\right)} + 8 a^{4} e^{2} \\sin^{2}{\\left(\\omega \\right)} - 8 a^{4} e^{2} - 2 a^{4} \\sin^{4}{\\left(\\Omega \\right)} \\sin^{4}{\\left(i \\right)} \\sin^{2}{\\left(\\omega \\right)} + 2 a^{4} \\sin^{4}{\\left(\\Omega \\right)} \\sin^{4}{\\left(i \\right)} + 4 a^{4} \\sin^{4}{\\left(\\Omega \\right)} \\sin^{2}{\\left(i \\right)} \\sin^{2}{\\left(\\omega \\right)} - 2 a^{4} \\sin^{4}{\\left(\\Omega \\right)} \\sin^{2}{\\left(i \\right)} - 4 a^{4} \\sin^{3}{\\left(\\Omega \\right)} \\sin^{3}{\\left(\\omega \\right)} \\cos{\\left(\\Omega \\right)} \\cos{\\left(i \\right)} \\cos{\\left(\\omega \\right)} - 4 a^{4} \\sin^{3}{\\left(\\Omega \\right)} \\sin{\\left(\\omega \\right)} \\cos{\\left(\\Omega \\right)} \\cos{\\left(i \\right)} \\cos^{3}{\\left(\\omega \\right)} - 4 a^{4} \\sin^{2}{\\left(\\Omega \\right)} \\sin^{2}{\\left(i \\right)} \\sin^{2}{\\left(\\omega \\right)} + 4 a^{4} \\sin^{2}{\\left(\\Omega \\right)} \\sin^{2}{\\left(\\omega \\right)} - 2 a^{4} \\sin^{2}{\\left(\\Omega \\right)} - 4 a^{4} \\sin{\\left(\\Omega \\right)} \\sin^{2}{\\left(i \\right)} \\sin^{3}{\\left(\\omega \\right)} \\cos{\\left(\\Omega \\right)} \\cos{\\left(i \\right)} \\cos{\\left(\\omega \\right)} - 4 a^{4} \\sin{\\left(\\Omega \\right)} \\sin^{2}{\\left(i \\right)} \\sin{\\left(\\omega \\right)} \\cos{\\left(\\Omega \\right)} \\cos{\\left(i \\right)} \\cos^{3}{\\left(\\omega \\right)} - 4 a^{4} \\sin{\\left(\\Omega \\right)} \\sin^{3}{\\left(\\omega \\right)} \\cos^{3}{\\left(\\Omega \\right)} \\cos^{3}{\\left(i \\right)} \\cos{\\left(\\omega \\right)} - 4 a^{4} \\sin{\\left(\\Omega \\right)} \\sin{\\left(\\omega \\right)} \\cos^{3}{\\left(\\Omega \\right)} \\cos^{3}{\\left(i \\right)} \\cos^{3}{\\left(\\omega \\right)} - 2 a^{4} \\sin^{2}{\\left(\\omega \\right)} + 2 a^{4}$"
      ],
      "text/plain": [
       "-6*Re**4*e**2 - 2*Re**2*a**2*e**6*sin(Omega)**2*sin(i)**2*sin(omega)**2 + 2*Re**2*a**2*e**6*sin(Omega)**2*sin(i)**2 + 4*Re**2*a**2*e**6*sin(Omega)**2*sin(omega)**2 - 2*Re**2*a**2*e**6*sin(Omega)**2 - 4*Re**2*a**2*e**6*sin(Omega)*sin(omega)*cos(Omega)*cos(i)*cos(omega) - 2*Re**2*a**2*e**6*sin(omega)**2 + 2*Re**2*a**2*e**6 + 8*Re**2*a**2*e**4*sin(Omega)**2*sin(i)**2*sin(omega)**2 - 6*Re**2*a**2*e**4*sin(Omega)**2*sin(i)**2 - 16*Re**2*a**2*e**4*sin(Omega)**2*sin(omega)**2 + 8*Re**2*a**2*e**4*sin(Omega)**2 + 16*Re**2*a**2*e**4*sin(Omega)*sin(omega)*cos(Omega)*cos(i)*cos(omega) + 8*Re**2*a**2*e**4*sin(omega)**2 - 6*Re**2*a**2*e**4 - 10*Re**2*a**2*e**2*sin(Omega)**2*sin(i)**2*sin(omega)**2 + 6*Re**2*a**2*e**2*sin(Omega)**2*sin(i)**2 + 20*Re**2*a**2*e**2*sin(Omega)**2*sin(omega)**2 - 10*Re**2*a**2*e**2*sin(Omega)**2 - 20*Re**2*a**2*e**2*sin(Omega)*sin(omega)*cos(Omega)*cos(i)*cos(omega) - 10*Re**2*a**2*e**2*sin(omega)**2 + 6*Re**2*a**2*e**2 + 4*Re**2*a**2*sin(Omega)**2*sin(i)**2*sin(omega)**2 - 2*Re**2*a**2*sin(Omega)**2*sin(i)**2 - 8*Re**2*a**2*sin(Omega)**2*sin(omega)**2 + 4*Re**2*a**2*sin(Omega)**2 + 8*Re**2*a**2*sin(Omega)*sin(omega)*cos(Omega)*cos(i)*cos(omega) + 4*Re**2*a**2*sin(omega)**2 - 2*Re**2*a**2 - 2*a**4*e**8*sin(Omega)**4*sin(i)**4*sin(omega)**2 + 2*a**4*e**8*sin(Omega)**4*sin(i)**4 + 4*a**4*e**8*sin(Omega)**4*sin(i)**2*sin(omega)**2 - 2*a**4*e**8*sin(Omega)**4*sin(i)**2 - 4*a**4*e**8*sin(Omega)**3*sin(omega)**3*cos(Omega)*cos(i)*cos(omega) - 4*a**4*e**8*sin(Omega)**3*sin(omega)*cos(Omega)*cos(i)*cos(omega)**3 - 4*a**4*e**8*sin(Omega)**2*sin(i)**2*sin(omega)**2 + 4*a**4*e**8*sin(Omega)**2*sin(omega)**2 - 2*a**4*e**8*sin(Omega)**2 - 4*a**4*e**8*sin(Omega)*sin(i)**2*sin(omega)**3*cos(Omega)*cos(i)*cos(omega) - 4*a**4*e**8*sin(Omega)*sin(i)**2*sin(omega)*cos(Omega)*cos(i)*cos(omega)**3 - 4*a**4*e**8*sin(Omega)*sin(omega)**3*cos(Omega)**3*cos(i)**3*cos(omega) - 4*a**4*e**8*sin(Omega)*sin(omega)*cos(Omega)**3*cos(i)**3*cos(omega)**3 - 2*a**4*e**8*sin(omega)**2 + 2*a**4*e**8 + 8*a**4*e**6*sin(Omega)**4*sin(i)**4*sin(omega)**2 - 8*a**4*e**6*sin(Omega)**4*sin(i)**4 - 16*a**4*e**6*sin(Omega)**4*sin(i)**2*sin(omega)**2 + 8*a**4*e**6*sin(Omega)**4*sin(i)**2 + 16*a**4*e**6*sin(Omega)**3*sin(omega)**3*cos(Omega)*cos(i)*cos(omega) + 16*a**4*e**6*sin(Omega)**3*sin(omega)*cos(Omega)*cos(i)*cos(omega)**3 + 16*a**4*e**6*sin(Omega)**2*sin(i)**2*sin(omega)**2 - 16*a**4*e**6*sin(Omega)**2*sin(omega)**2 + 8*a**4*e**6*sin(Omega)**2 + 16*a**4*e**6*sin(Omega)*sin(i)**2*sin(omega)**3*cos(Omega)*cos(i)*cos(omega) + 16*a**4*e**6*sin(Omega)*sin(i)**2*sin(omega)*cos(Omega)*cos(i)*cos(omega)**3 + 16*a**4*e**6*sin(Omega)*sin(omega)**3*cos(Omega)**3*cos(i)**3*cos(omega) + 16*a**4*e**6*sin(Omega)*sin(omega)*cos(Omega)**3*cos(i)**3*cos(omega)**3 + 8*a**4*e**6*sin(omega)**2 - 8*a**4*e**6 - 12*a**4*e**4*sin(Omega)**4*sin(i)**4*sin(omega)**2 + 12*a**4*e**4*sin(Omega)**4*sin(i)**4 + 24*a**4*e**4*sin(Omega)**4*sin(i)**2*sin(omega)**2 - 12*a**4*e**4*sin(Omega)**4*sin(i)**2 - 24*a**4*e**4*sin(Omega)**3*sin(omega)**3*cos(Omega)*cos(i)*cos(omega) - 24*a**4*e**4*sin(Omega)**3*sin(omega)*cos(Omega)*cos(i)*cos(omega)**3 - 24*a**4*e**4*sin(Omega)**2*sin(i)**2*sin(omega)**2 + 24*a**4*e**4*sin(Omega)**2*sin(omega)**2 - 12*a**4*e**4*sin(Omega)**2 - 24*a**4*e**4*sin(Omega)*sin(i)**2*sin(omega)**3*cos(Omega)*cos(i)*cos(omega) - 24*a**4*e**4*sin(Omega)*sin(i)**2*sin(omega)*cos(Omega)*cos(i)*cos(omega)**3 - 24*a**4*e**4*sin(Omega)*sin(omega)**3*cos(Omega)**3*cos(i)**3*cos(omega) - 24*a**4*e**4*sin(Omega)*sin(omega)*cos(Omega)**3*cos(i)**3*cos(omega)**3 - 12*a**4*e**4*sin(omega)**2 + 12*a**4*e**4 + 8*a**4*e**2*sin(Omega)**4*sin(i)**4*sin(omega)**2 - 8*a**4*e**2*sin(Omega)**4*sin(i)**4 - 16*a**4*e**2*sin(Omega)**4*sin(i)**2*sin(omega)**2 + 8*a**4*e**2*sin(Omega)**4*sin(i)**2 + 16*a**4*e**2*sin(Omega)**3*sin(omega)**3*cos(Omega)*cos(i)*cos(omega) + 16*a**4*e**2*sin(Omega)**3*sin(omega)*cos(Omega)*cos(i)*cos(omega)**3 + 16*a**4*e**2*sin(Omega)**2*sin(i)**2*sin(omega)**2 - 16*a**4*e**2*sin(Omega)**2*sin(omega)**2 + 8*a**4*e**2*sin(Omega)**2 + 16*a**4*e**2*sin(Omega)*sin(i)**2*sin(omega)**3*cos(Omega)*cos(i)*cos(omega) + 16*a**4*e**2*sin(Omega)*sin(i)**2*sin(omega)*cos(Omega)*cos(i)*cos(omega)**3 + 16*a**4*e**2*sin(Omega)*sin(omega)**3*cos(Omega)**3*cos(i)**3*cos(omega) + 16*a**4*e**2*sin(Omega)*sin(omega)*cos(Omega)**3*cos(i)**3*cos(omega)**3 + 8*a**4*e**2*sin(omega)**2 - 8*a**4*e**2 - 2*a**4*sin(Omega)**4*sin(i)**4*sin(omega)**2 + 2*a**4*sin(Omega)**4*sin(i)**4 + 4*a**4*sin(Omega)**4*sin(i)**2*sin(omega)**2 - 2*a**4*sin(Omega)**4*sin(i)**2 - 4*a**4*sin(Omega)**3*sin(omega)**3*cos(Omega)*cos(i)*cos(omega) - 4*a**4*sin(Omega)**3*sin(omega)*cos(Omega)*cos(i)*cos(omega)**3 - 4*a**4*sin(Omega)**2*sin(i)**2*sin(omega)**2 + 4*a**4*sin(Omega)**2*sin(omega)**2 - 2*a**4*sin(Omega)**2 - 4*a**4*sin(Omega)*sin(i)**2*sin(omega)**3*cos(Omega)*cos(i)*cos(omega) - 4*a**4*sin(Omega)*sin(i)**2*sin(omega)*cos(Omega)*cos(i)*cos(omega)**3 - 4*a**4*sin(Omega)*sin(omega)**3*cos(Omega)**3*cos(i)**3*cos(omega) - 4*a**4*sin(Omega)*sin(omega)*cos(Omega)**3*cos(i)**3*cos(omega)**3 - 2*a**4*sin(omega)**2 + 2*a**4"
      ]
     },
     "execution_count": 85,
     "metadata": {},
     "output_type": "execute_result"
    }
   ],
   "source": [
    "sp.simplify(eclipseEqn5Coeffs[2])"
   ]
  },
  {
   "cell_type": "code",
   "execution_count": 86,
   "id": "5000a899",
   "metadata": {},
   "outputs": [
    {
     "data": {
      "text/latex": [
       "$\\displaystyle 4 Re^{2} e \\left(- Re^{2} - \\frac{a^{2} e^{4} \\left(\\cos{\\left(- 2 \\Omega + i + 2 \\omega \\right)} - \\cos{\\left(2 \\Omega - i + 2 \\omega \\right)} + \\cos{\\left(2 \\Omega + i - 2 \\omega \\right)} - \\cos{\\left(2 \\Omega + i + 2 \\omega \\right)}\\right)}{8} + a^{2} e^{4} \\sin^{2}{\\left(\\Omega \\right)} \\sin^{2}{\\left(\\omega \\right)} + a^{2} e^{4} \\sin^{2}{\\left(i \\right)} \\cos^{2}{\\left(\\omega \\right)} + a^{2} e^{4} \\cos^{2}{\\left(\\Omega \\right)} \\cos^{2}{\\left(i \\right)} \\cos^{2}{\\left(\\omega \\right)} + \\frac{a^{2} e^{2} \\left(\\cos{\\left(- 2 \\Omega + i + 2 \\omega \\right)} - \\cos{\\left(2 \\Omega - i + 2 \\omega \\right)} + \\cos{\\left(2 \\Omega + i - 2 \\omega \\right)} - \\cos{\\left(2 \\Omega + i + 2 \\omega \\right)}\\right)}{4} - 2 a^{2} e^{2} \\sin^{2}{\\left(\\Omega \\right)} \\sin^{2}{\\left(\\omega \\right)} - 2 a^{2} e^{2} \\sin^{2}{\\left(i \\right)} \\cos^{2}{\\left(\\omega \\right)} - 2 a^{2} e^{2} \\cos^{2}{\\left(\\Omega \\right)} \\cos^{2}{\\left(i \\right)} \\cos^{2}{\\left(\\omega \\right)} - \\frac{a^{2} \\left(\\cos{\\left(- 2 \\Omega + i + 2 \\omega \\right)} - \\cos{\\left(2 \\Omega - i + 2 \\omega \\right)} + \\cos{\\left(2 \\Omega + i - 2 \\omega \\right)} - \\cos{\\left(2 \\Omega + i + 2 \\omega \\right)}\\right)}{8} + a^{2} \\sin^{2}{\\left(\\Omega \\right)} \\sin^{2}{\\left(\\omega \\right)} + a^{2} \\sin^{2}{\\left(i \\right)} \\cos^{2}{\\left(\\omega \\right)} + a^{2} \\cos^{2}{\\left(\\Omega \\right)} \\cos^{2}{\\left(i \\right)} \\cos^{2}{\\left(\\omega \\right)}\\right)$"
      ],
      "text/plain": [
       "4*Re**2*e*(-Re**2 - a**2*e**4*(cos(-2*Omega + i + 2*omega) - cos(2*Omega - i + 2*omega) + cos(2*Omega + i - 2*omega) - cos(2*Omega + i + 2*omega))/8 + a**2*e**4*sin(Omega)**2*sin(omega)**2 + a**2*e**4*sin(i)**2*cos(omega)**2 + a**2*e**4*cos(Omega)**2*cos(i)**2*cos(omega)**2 + a**2*e**2*(cos(-2*Omega + i + 2*omega) - cos(2*Omega - i + 2*omega) + cos(2*Omega + i - 2*omega) - cos(2*Omega + i + 2*omega))/4 - 2*a**2*e**2*sin(Omega)**2*sin(omega)**2 - 2*a**2*e**2*sin(i)**2*cos(omega)**2 - 2*a**2*e**2*cos(Omega)**2*cos(i)**2*cos(omega)**2 - a**2*(cos(-2*Omega + i + 2*omega) - cos(2*Omega - i + 2*omega) + cos(2*Omega + i - 2*omega) - cos(2*Omega + i + 2*omega))/8 + a**2*sin(Omega)**2*sin(omega)**2 + a**2*sin(i)**2*cos(omega)**2 + a**2*cos(Omega)**2*cos(i)**2*cos(omega)**2)"
      ]
     },
     "execution_count": 86,
     "metadata": {},
     "output_type": "execute_result"
    }
   ],
   "source": [
    "sp.simplify(eclipseEqn5Coeffs[3])"
   ]
  },
  {
   "cell_type": "code",
   "execution_count": 87,
   "id": "ac057348",
   "metadata": {},
   "outputs": [
    {
     "data": {
      "text/latex": [
       "$\\displaystyle - Re^{4} - \\frac{Re^{2} a^{2} e^{4} \\left(\\cos{\\left(- 2 \\Omega + i + 2 \\omega \\right)} - \\cos{\\left(2 \\Omega - i + 2 \\omega \\right)} + \\cos{\\left(2 \\Omega + i - 2 \\omega \\right)} - \\cos{\\left(2 \\Omega + i + 2 \\omega \\right)}\\right)}{4} + 2 Re^{2} a^{2} e^{4} \\sin^{2}{\\left(\\Omega \\right)} \\sin^{2}{\\left(\\omega \\right)} + 2 Re^{2} a^{2} e^{4} \\sin^{2}{\\left(i \\right)} \\cos^{2}{\\left(\\omega \\right)} + 2 Re^{2} a^{2} e^{4} \\cos^{2}{\\left(\\Omega \\right)} \\cos^{2}{\\left(i \\right)} \\cos^{2}{\\left(\\omega \\right)} + \\frac{Re^{2} a^{2} e^{2} \\left(\\cos{\\left(- 2 \\Omega + i + 2 \\omega \\right)} - \\cos{\\left(2 \\Omega - i + 2 \\omega \\right)} + \\cos{\\left(2 \\Omega + i - 2 \\omega \\right)} - \\cos{\\left(2 \\Omega + i + 2 \\omega \\right)}\\right)}{2} - 4 Re^{2} a^{2} e^{2} \\sin^{2}{\\left(\\Omega \\right)} \\sin^{2}{\\left(\\omega \\right)} - 4 Re^{2} a^{2} e^{2} \\sin^{2}{\\left(i \\right)} \\cos^{2}{\\left(\\omega \\right)} - 4 Re^{2} a^{2} e^{2} \\cos^{2}{\\left(\\Omega \\right)} \\cos^{2}{\\left(i \\right)} \\cos^{2}{\\left(\\omega \\right)} - \\frac{Re^{2} a^{2} \\left(\\cos{\\left(- 2 \\Omega + i + 2 \\omega \\right)} - \\cos{\\left(2 \\Omega - i + 2 \\omega \\right)} + \\cos{\\left(2 \\Omega + i - 2 \\omega \\right)} - \\cos{\\left(2 \\Omega + i + 2 \\omega \\right)}\\right)}{4} + 2 Re^{2} a^{2} \\sin^{2}{\\left(\\Omega \\right)} \\sin^{2}{\\left(\\omega \\right)} + 2 Re^{2} a^{2} \\sin^{2}{\\left(i \\right)} \\cos^{2}{\\left(\\omega \\right)} + 2 Re^{2} a^{2} \\cos^{2}{\\left(\\Omega \\right)} \\cos^{2}{\\left(i \\right)} \\cos^{2}{\\left(\\omega \\right)} - a^{4} e^{8} \\sin^{4}{\\left(\\Omega \\right)} \\sin^{4}{\\left(\\omega \\right)} + 4 a^{4} e^{8} \\sin^{3}{\\left(\\Omega \\right)} \\sin^{3}{\\left(\\omega \\right)} \\cos{\\left(\\Omega \\right)} \\cos{\\left(i \\right)} \\cos{\\left(\\omega \\right)} - 2 a^{4} e^{8} \\sin^{2}{\\left(\\Omega \\right)} \\sin^{2}{\\left(i \\right)} \\sin^{2}{\\left(\\omega \\right)} \\cos^{2}{\\left(\\omega \\right)} - 6 a^{4} e^{8} \\sin^{2}{\\left(\\Omega \\right)} \\sin^{2}{\\left(\\omega \\right)} \\cos^{2}{\\left(\\Omega \\right)} \\cos^{2}{\\left(i \\right)} \\cos^{2}{\\left(\\omega \\right)} + 4 a^{4} e^{8} \\sin{\\left(\\Omega \\right)} \\sin^{2}{\\left(i \\right)} \\sin{\\left(\\omega \\right)} \\cos{\\left(\\Omega \\right)} \\cos{\\left(i \\right)} \\cos^{3}{\\left(\\omega \\right)} + 4 a^{4} e^{8} \\sin{\\left(\\Omega \\right)} \\sin{\\left(\\omega \\right)} \\cos^{3}{\\left(\\Omega \\right)} \\cos^{3}{\\left(i \\right)} \\cos^{3}{\\left(\\omega \\right)} - a^{4} e^{8} \\sin^{4}{\\left(i \\right)} \\cos^{4}{\\left(\\omega \\right)} - 2 a^{4} e^{8} \\sin^{2}{\\left(i \\right)} \\cos^{2}{\\left(\\Omega \\right)} \\cos^{2}{\\left(i \\right)} \\cos^{4}{\\left(\\omega \\right)} - a^{4} e^{8} \\cos^{4}{\\left(\\Omega \\right)} \\cos^{4}{\\left(i \\right)} \\cos^{4}{\\left(\\omega \\right)} + 4 a^{4} e^{6} \\sin^{4}{\\left(\\Omega \\right)} \\sin^{4}{\\left(\\omega \\right)} - 16 a^{4} e^{6} \\sin^{3}{\\left(\\Omega \\right)} \\sin^{3}{\\left(\\omega \\right)} \\cos{\\left(\\Omega \\right)} \\cos{\\left(i \\right)} \\cos{\\left(\\omega \\right)} + 8 a^{4} e^{6} \\sin^{2}{\\left(\\Omega \\right)} \\sin^{2}{\\left(i \\right)} \\sin^{2}{\\left(\\omega \\right)} \\cos^{2}{\\left(\\omega \\right)} + 24 a^{4} e^{6} \\sin^{2}{\\left(\\Omega \\right)} \\sin^{2}{\\left(\\omega \\right)} \\cos^{2}{\\left(\\Omega \\right)} \\cos^{2}{\\left(i \\right)} \\cos^{2}{\\left(\\omega \\right)} - 16 a^{4} e^{6} \\sin{\\left(\\Omega \\right)} \\sin^{2}{\\left(i \\right)} \\sin{\\left(\\omega \\right)} \\cos{\\left(\\Omega \\right)} \\cos{\\left(i \\right)} \\cos^{3}{\\left(\\omega \\right)} - 16 a^{4} e^{6} \\sin{\\left(\\Omega \\right)} \\sin{\\left(\\omega \\right)} \\cos^{3}{\\left(\\Omega \\right)} \\cos^{3}{\\left(i \\right)} \\cos^{3}{\\left(\\omega \\right)} + 4 a^{4} e^{6} \\sin^{4}{\\left(i \\right)} \\cos^{4}{\\left(\\omega \\right)} + 8 a^{4} e^{6} \\sin^{2}{\\left(i \\right)} \\cos^{2}{\\left(\\Omega \\right)} \\cos^{2}{\\left(i \\right)} \\cos^{4}{\\left(\\omega \\right)} + 4 a^{4} e^{6} \\cos^{4}{\\left(\\Omega \\right)} \\cos^{4}{\\left(i \\right)} \\cos^{4}{\\left(\\omega \\right)} - 6 a^{4} e^{4} \\sin^{4}{\\left(\\Omega \\right)} \\sin^{4}{\\left(\\omega \\right)} + 24 a^{4} e^{4} \\sin^{3}{\\left(\\Omega \\right)} \\sin^{3}{\\left(\\omega \\right)} \\cos{\\left(\\Omega \\right)} \\cos{\\left(i \\right)} \\cos{\\left(\\omega \\right)} - 12 a^{4} e^{4} \\sin^{2}{\\left(\\Omega \\right)} \\sin^{2}{\\left(i \\right)} \\sin^{2}{\\left(\\omega \\right)} \\cos^{2}{\\left(\\omega \\right)} - 36 a^{4} e^{4} \\sin^{2}{\\left(\\Omega \\right)} \\sin^{2}{\\left(\\omega \\right)} \\cos^{2}{\\left(\\Omega \\right)} \\cos^{2}{\\left(i \\right)} \\cos^{2}{\\left(\\omega \\right)} + 24 a^{4} e^{4} \\sin{\\left(\\Omega \\right)} \\sin^{2}{\\left(i \\right)} \\sin{\\left(\\omega \\right)} \\cos{\\left(\\Omega \\right)} \\cos{\\left(i \\right)} \\cos^{3}{\\left(\\omega \\right)} + 24 a^{4} e^{4} \\sin{\\left(\\Omega \\right)} \\sin{\\left(\\omega \\right)} \\cos^{3}{\\left(\\Omega \\right)} \\cos^{3}{\\left(i \\right)} \\cos^{3}{\\left(\\omega \\right)} - 6 a^{4} e^{4} \\sin^{4}{\\left(i \\right)} \\cos^{4}{\\left(\\omega \\right)} - 12 a^{4} e^{4} \\sin^{2}{\\left(i \\right)} \\cos^{2}{\\left(\\Omega \\right)} \\cos^{2}{\\left(i \\right)} \\cos^{4}{\\left(\\omega \\right)} - 6 a^{4} e^{4} \\cos^{4}{\\left(\\Omega \\right)} \\cos^{4}{\\left(i \\right)} \\cos^{4}{\\left(\\omega \\right)} + 4 a^{4} e^{2} \\sin^{4}{\\left(\\Omega \\right)} \\sin^{4}{\\left(\\omega \\right)} - 16 a^{4} e^{2} \\sin^{3}{\\left(\\Omega \\right)} \\sin^{3}{\\left(\\omega \\right)} \\cos{\\left(\\Omega \\right)} \\cos{\\left(i \\right)} \\cos{\\left(\\omega \\right)} + 8 a^{4} e^{2} \\sin^{2}{\\left(\\Omega \\right)} \\sin^{2}{\\left(i \\right)} \\sin^{2}{\\left(\\omega \\right)} \\cos^{2}{\\left(\\omega \\right)} + 24 a^{4} e^{2} \\sin^{2}{\\left(\\Omega \\right)} \\sin^{2}{\\left(\\omega \\right)} \\cos^{2}{\\left(\\Omega \\right)} \\cos^{2}{\\left(i \\right)} \\cos^{2}{\\left(\\omega \\right)} - 16 a^{4} e^{2} \\sin{\\left(\\Omega \\right)} \\sin^{2}{\\left(i \\right)} \\sin{\\left(\\omega \\right)} \\cos{\\left(\\Omega \\right)} \\cos{\\left(i \\right)} \\cos^{3}{\\left(\\omega \\right)} - 16 a^{4} e^{2} \\sin{\\left(\\Omega \\right)} \\sin{\\left(\\omega \\right)} \\cos^{3}{\\left(\\Omega \\right)} \\cos^{3}{\\left(i \\right)} \\cos^{3}{\\left(\\omega \\right)} + 4 a^{4} e^{2} \\sin^{4}{\\left(i \\right)} \\cos^{4}{\\left(\\omega \\right)} + 8 a^{4} e^{2} \\sin^{2}{\\left(i \\right)} \\cos^{2}{\\left(\\Omega \\right)} \\cos^{2}{\\left(i \\right)} \\cos^{4}{\\left(\\omega \\right)} + 4 a^{4} e^{2} \\cos^{4}{\\left(\\Omega \\right)} \\cos^{4}{\\left(i \\right)} \\cos^{4}{\\left(\\omega \\right)} - a^{4} \\sin^{4}{\\left(\\Omega \\right)} \\sin^{4}{\\left(\\omega \\right)} + 4 a^{4} \\sin^{3}{\\left(\\Omega \\right)} \\sin^{3}{\\left(\\omega \\right)} \\cos{\\left(\\Omega \\right)} \\cos{\\left(i \\right)} \\cos{\\left(\\omega \\right)} - 2 a^{4} \\sin^{2}{\\left(\\Omega \\right)} \\sin^{2}{\\left(i \\right)} \\sin^{2}{\\left(\\omega \\right)} \\cos^{2}{\\left(\\omega \\right)} - 6 a^{4} \\sin^{2}{\\left(\\Omega \\right)} \\sin^{2}{\\left(\\omega \\right)} \\cos^{2}{\\left(\\Omega \\right)} \\cos^{2}{\\left(i \\right)} \\cos^{2}{\\left(\\omega \\right)} + 4 a^{4} \\sin{\\left(\\Omega \\right)} \\sin^{2}{\\left(i \\right)} \\sin{\\left(\\omega \\right)} \\cos{\\left(\\Omega \\right)} \\cos{\\left(i \\right)} \\cos^{3}{\\left(\\omega \\right)} + 4 a^{4} \\sin{\\left(\\Omega \\right)} \\sin{\\left(\\omega \\right)} \\cos^{3}{\\left(\\Omega \\right)} \\cos^{3}{\\left(i \\right)} \\cos^{3}{\\left(\\omega \\right)} - a^{4} \\sin^{4}{\\left(i \\right)} \\cos^{4}{\\left(\\omega \\right)} - 2 a^{4} \\sin^{2}{\\left(i \\right)} \\cos^{2}{\\left(\\Omega \\right)} \\cos^{2}{\\left(i \\right)} \\cos^{4}{\\left(\\omega \\right)} - a^{4} \\cos^{4}{\\left(\\Omega \\right)} \\cos^{4}{\\left(i \\right)} \\cos^{4}{\\left(\\omega \\right)}$"
      ],
      "text/plain": [
       "-Re**4 - Re**2*a**2*e**4*(cos(-2*Omega + i + 2*omega) - cos(2*Omega - i + 2*omega) + cos(2*Omega + i - 2*omega) - cos(2*Omega + i + 2*omega))/4 + 2*Re**2*a**2*e**4*sin(Omega)**2*sin(omega)**2 + 2*Re**2*a**2*e**4*sin(i)**2*cos(omega)**2 + 2*Re**2*a**2*e**4*cos(Omega)**2*cos(i)**2*cos(omega)**2 + Re**2*a**2*e**2*(cos(-2*Omega + i + 2*omega) - cos(2*Omega - i + 2*omega) + cos(2*Omega + i - 2*omega) - cos(2*Omega + i + 2*omega))/2 - 4*Re**2*a**2*e**2*sin(Omega)**2*sin(omega)**2 - 4*Re**2*a**2*e**2*sin(i)**2*cos(omega)**2 - 4*Re**2*a**2*e**2*cos(Omega)**2*cos(i)**2*cos(omega)**2 - Re**2*a**2*(cos(-2*Omega + i + 2*omega) - cos(2*Omega - i + 2*omega) + cos(2*Omega + i - 2*omega) - cos(2*Omega + i + 2*omega))/4 + 2*Re**2*a**2*sin(Omega)**2*sin(omega)**2 + 2*Re**2*a**2*sin(i)**2*cos(omega)**2 + 2*Re**2*a**2*cos(Omega)**2*cos(i)**2*cos(omega)**2 - a**4*e**8*sin(Omega)**4*sin(omega)**4 + 4*a**4*e**8*sin(Omega)**3*sin(omega)**3*cos(Omega)*cos(i)*cos(omega) - 2*a**4*e**8*sin(Omega)**2*sin(i)**2*sin(omega)**2*cos(omega)**2 - 6*a**4*e**8*sin(Omega)**2*sin(omega)**2*cos(Omega)**2*cos(i)**2*cos(omega)**2 + 4*a**4*e**8*sin(Omega)*sin(i)**2*sin(omega)*cos(Omega)*cos(i)*cos(omega)**3 + 4*a**4*e**8*sin(Omega)*sin(omega)*cos(Omega)**3*cos(i)**3*cos(omega)**3 - a**4*e**8*sin(i)**4*cos(omega)**4 - 2*a**4*e**8*sin(i)**2*cos(Omega)**2*cos(i)**2*cos(omega)**4 - a**4*e**8*cos(Omega)**4*cos(i)**4*cos(omega)**4 + 4*a**4*e**6*sin(Omega)**4*sin(omega)**4 - 16*a**4*e**6*sin(Omega)**3*sin(omega)**3*cos(Omega)*cos(i)*cos(omega) + 8*a**4*e**6*sin(Omega)**2*sin(i)**2*sin(omega)**2*cos(omega)**2 + 24*a**4*e**6*sin(Omega)**2*sin(omega)**2*cos(Omega)**2*cos(i)**2*cos(omega)**2 - 16*a**4*e**6*sin(Omega)*sin(i)**2*sin(omega)*cos(Omega)*cos(i)*cos(omega)**3 - 16*a**4*e**6*sin(Omega)*sin(omega)*cos(Omega)**3*cos(i)**3*cos(omega)**3 + 4*a**4*e**6*sin(i)**4*cos(omega)**4 + 8*a**4*e**6*sin(i)**2*cos(Omega)**2*cos(i)**2*cos(omega)**4 + 4*a**4*e**6*cos(Omega)**4*cos(i)**4*cos(omega)**4 - 6*a**4*e**4*sin(Omega)**4*sin(omega)**4 + 24*a**4*e**4*sin(Omega)**3*sin(omega)**3*cos(Omega)*cos(i)*cos(omega) - 12*a**4*e**4*sin(Omega)**2*sin(i)**2*sin(omega)**2*cos(omega)**2 - 36*a**4*e**4*sin(Omega)**2*sin(omega)**2*cos(Omega)**2*cos(i)**2*cos(omega)**2 + 24*a**4*e**4*sin(Omega)*sin(i)**2*sin(omega)*cos(Omega)*cos(i)*cos(omega)**3 + 24*a**4*e**4*sin(Omega)*sin(omega)*cos(Omega)**3*cos(i)**3*cos(omega)**3 - 6*a**4*e**4*sin(i)**4*cos(omega)**4 - 12*a**4*e**4*sin(i)**2*cos(Omega)**2*cos(i)**2*cos(omega)**4 - 6*a**4*e**4*cos(Omega)**4*cos(i)**4*cos(omega)**4 + 4*a**4*e**2*sin(Omega)**4*sin(omega)**4 - 16*a**4*e**2*sin(Omega)**3*sin(omega)**3*cos(Omega)*cos(i)*cos(omega) + 8*a**4*e**2*sin(Omega)**2*sin(i)**2*sin(omega)**2*cos(omega)**2 + 24*a**4*e**2*sin(Omega)**2*sin(omega)**2*cos(Omega)**2*cos(i)**2*cos(omega)**2 - 16*a**4*e**2*sin(Omega)*sin(i)**2*sin(omega)*cos(Omega)*cos(i)*cos(omega)**3 - 16*a**4*e**2*sin(Omega)*sin(omega)*cos(Omega)**3*cos(i)**3*cos(omega)**3 + 4*a**4*e**2*sin(i)**4*cos(omega)**4 + 8*a**4*e**2*sin(i)**2*cos(Omega)**2*cos(i)**2*cos(omega)**4 + 4*a**4*e**2*cos(Omega)**4*cos(i)**4*cos(omega)**4 - a**4*sin(Omega)**4*sin(omega)**4 + 4*a**4*sin(Omega)**3*sin(omega)**3*cos(Omega)*cos(i)*cos(omega) - 2*a**4*sin(Omega)**2*sin(i)**2*sin(omega)**2*cos(omega)**2 - 6*a**4*sin(Omega)**2*sin(omega)**2*cos(Omega)**2*cos(i)**2*cos(omega)**2 + 4*a**4*sin(Omega)*sin(i)**2*sin(omega)*cos(Omega)*cos(i)*cos(omega)**3 + 4*a**4*sin(Omega)*sin(omega)*cos(Omega)**3*cos(i)**3*cos(omega)**3 - a**4*sin(i)**4*cos(omega)**4 - 2*a**4*sin(i)**2*cos(Omega)**2*cos(i)**2*cos(omega)**4 - a**4*cos(Omega)**4*cos(i)**4*cos(omega)**4"
      ]
     },
     "execution_count": 87,
     "metadata": {},
     "output_type": "execute_result"
    }
   ],
   "source": [
    "sp.simplify(eclipseEqn5Coeffs[4])"
   ]
  },
  {
   "cell_type": "code",
   "execution_count": 94,
   "id": "fc668550",
   "metadata": {},
   "outputs": [
    {
     "name": "stdout",
     "output_type": "stream",
     "text": [
      "-Re**4*e**4 + 4*Re**2*a**2*e**6*sin(Omega)**2*sin(i)**2*sin(omega)**2 - 2*Re**2*a**2*e**6*sin(Omega)**2*sin(i)**2 - 8*Re**2*a**2*e**6*sin(Omega)**2*sin(omega)**2 + 4*Re**2*a**2*e**6*sin(Omega)**2 + 8*Re**2*a**2*e**6*sin(Omega)*sin(omega)*cos(Omega)*cos(i)*cos(omega) + 4*Re**2*a**2*e**6*sin(omega)**2 - 2*Re**2*a**2*e**6 - 8*Re**2*a**2*e**4*sin(Omega)**2*sin(i)**2*sin(omega)**2 + 4*Re**2*a**2*e**4*sin(Omega)**2*sin(i)**2 + 16*Re**2*a**2*e**4*sin(Omega)**2*sin(omega)**2 - 8*Re**2*a**2*e**4*sin(Omega)**2 - 16*Re**2*a**2*e**4*sin(Omega)*sin(omega)*cos(Omega)*cos(i)*cos(omega) - 8*Re**2*a**2*e**4*sin(omega)**2 + 4*Re**2*a**2*e**4 + 4*Re**2*a**2*e**2*sin(Omega)**2*sin(i)**2*sin(omega)**2 - 2*Re**2*a**2*e**2*sin(Omega)**2*sin(i)**2 - 8*Re**2*a**2*e**2*sin(Omega)**2*sin(omega)**2 + 4*Re**2*a**2*e**2*sin(Omega)**2 + 8*Re**2*a**2*e**2*sin(Omega)*sin(omega)*cos(Omega)*cos(i)*cos(omega) + 4*Re**2*a**2*e**2*sin(omega)**2 - 2*Re**2*a**2*e**2 - a**4*e**8*sin(Omega)**4*sin(i)**4 + 2*a**4*e**8*sin(Omega)**2*sin(i)**2 - a**4*e**8 + 4*a**4*e**6*sin(Omega)**4*sin(i)**4 - 8*a**4*e**6*sin(Omega)**2*sin(i)**2 + 4*a**4*e**6 - 6*a**4*e**4*sin(Omega)**4*sin(i)**4 + 12*a**4*e**4*sin(Omega)**2*sin(i)**2 - 6*a**4*e**4 + 4*a**4*e**2*sin(Omega)**4*sin(i)**4 - 8*a**4*e**2*sin(Omega)**2*sin(i)**2 + 4*a**4*e**2 - a**4*sin(Omega)**4*sin(i)**4 + 2*a**4*sin(Omega)**2*sin(i)**2 - a**4\n"
     ]
    }
   ],
   "source": [
    "print(sp.simplify(eclipseEqn5Coeffs[0]))"
   ]
  },
  {
   "cell_type": "code",
   "execution_count": 95,
   "id": "6d7f5584",
   "metadata": {},
   "outputs": [
    {
     "name": "stdout",
     "output_type": "stream",
     "text": [
      "4*Re**2*e*(-Re**2*e**2 + 2*a**2*e**4*sin(Omega)**2*sin(i)**2*sin(omega)**2 - a**2*e**4*sin(Omega)**2*sin(i)**2 - 4*a**2*e**4*sin(Omega)**2*sin(omega)**2 + 2*a**2*e**4*sin(Omega)**2 + 4*a**2*e**4*sin(Omega)*sin(omega)*cos(Omega)*cos(i)*cos(omega) + 2*a**2*e**4*sin(omega)**2 - a**2*e**4 - 4*a**2*e**2*sin(Omega)**2*sin(i)**2*sin(omega)**2 + 2*a**2*e**2*sin(Omega)**2*sin(i)**2 + 8*a**2*e**2*sin(Omega)**2*sin(omega)**2 - 4*a**2*e**2*sin(Omega)**2 - 8*a**2*e**2*sin(Omega)*sin(omega)*cos(Omega)*cos(i)*cos(omega) - 4*a**2*e**2*sin(omega)**2 + 2*a**2*e**2 + 2*a**2*sin(Omega)**2*sin(i)**2*sin(omega)**2 - a**2*sin(Omega)**2*sin(i)**2 - 4*a**2*sin(Omega)**2*sin(omega)**2 + 2*a**2*sin(Omega)**2 + 4*a**2*sin(Omega)*sin(omega)*cos(Omega)*cos(i)*cos(omega) + 2*a**2*sin(omega)**2 - a**2)\n"
     ]
    }
   ],
   "source": [
    "print(sp.simplify(eclipseEqn5Coeffs[1]))"
   ]
  },
  {
   "cell_type": "code",
   "execution_count": 96,
   "id": "7576c38f",
   "metadata": {},
   "outputs": [
    {
     "name": "stdout",
     "output_type": "stream",
     "text": [
      "-6*Re**4*e**2 - 2*Re**2*a**2*e**6*sin(Omega)**2*sin(i)**2*sin(omega)**2 + 2*Re**2*a**2*e**6*sin(Omega)**2*sin(i)**2 + 4*Re**2*a**2*e**6*sin(Omega)**2*sin(omega)**2 - 2*Re**2*a**2*e**6*sin(Omega)**2 - 4*Re**2*a**2*e**6*sin(Omega)*sin(omega)*cos(Omega)*cos(i)*cos(omega) - 2*Re**2*a**2*e**6*sin(omega)**2 + 2*Re**2*a**2*e**6 + 8*Re**2*a**2*e**4*sin(Omega)**2*sin(i)**2*sin(omega)**2 - 6*Re**2*a**2*e**4*sin(Omega)**2*sin(i)**2 - 16*Re**2*a**2*e**4*sin(Omega)**2*sin(omega)**2 + 8*Re**2*a**2*e**4*sin(Omega)**2 + 16*Re**2*a**2*e**4*sin(Omega)*sin(omega)*cos(Omega)*cos(i)*cos(omega) + 8*Re**2*a**2*e**4*sin(omega)**2 - 6*Re**2*a**2*e**4 - 10*Re**2*a**2*e**2*sin(Omega)**2*sin(i)**2*sin(omega)**2 + 6*Re**2*a**2*e**2*sin(Omega)**2*sin(i)**2 + 20*Re**2*a**2*e**2*sin(Omega)**2*sin(omega)**2 - 10*Re**2*a**2*e**2*sin(Omega)**2 - 20*Re**2*a**2*e**2*sin(Omega)*sin(omega)*cos(Omega)*cos(i)*cos(omega) - 10*Re**2*a**2*e**2*sin(omega)**2 + 6*Re**2*a**2*e**2 + 4*Re**2*a**2*sin(Omega)**2*sin(i)**2*sin(omega)**2 - 2*Re**2*a**2*sin(Omega)**2*sin(i)**2 - 8*Re**2*a**2*sin(Omega)**2*sin(omega)**2 + 4*Re**2*a**2*sin(Omega)**2 + 8*Re**2*a**2*sin(Omega)*sin(omega)*cos(Omega)*cos(i)*cos(omega) + 4*Re**2*a**2*sin(omega)**2 - 2*Re**2*a**2 - 2*a**4*e**8*sin(Omega)**4*sin(i)**4*sin(omega)**2 + 2*a**4*e**8*sin(Omega)**4*sin(i)**4 + 4*a**4*e**8*sin(Omega)**4*sin(i)**2*sin(omega)**2 - 2*a**4*e**8*sin(Omega)**4*sin(i)**2 - 4*a**4*e**8*sin(Omega)**3*sin(omega)**3*cos(Omega)*cos(i)*cos(omega) - 4*a**4*e**8*sin(Omega)**3*sin(omega)*cos(Omega)*cos(i)*cos(omega)**3 - 4*a**4*e**8*sin(Omega)**2*sin(i)**2*sin(omega)**2 + 4*a**4*e**8*sin(Omega)**2*sin(omega)**2 - 2*a**4*e**8*sin(Omega)**2 - 4*a**4*e**8*sin(Omega)*sin(i)**2*sin(omega)**3*cos(Omega)*cos(i)*cos(omega) - 4*a**4*e**8*sin(Omega)*sin(i)**2*sin(omega)*cos(Omega)*cos(i)*cos(omega)**3 - 4*a**4*e**8*sin(Omega)*sin(omega)**3*cos(Omega)**3*cos(i)**3*cos(omega) - 4*a**4*e**8*sin(Omega)*sin(omega)*cos(Omega)**3*cos(i)**3*cos(omega)**3 - 2*a**4*e**8*sin(omega)**2 + 2*a**4*e**8 + 8*a**4*e**6*sin(Omega)**4*sin(i)**4*sin(omega)**2 - 8*a**4*e**6*sin(Omega)**4*sin(i)**4 - 16*a**4*e**6*sin(Omega)**4*sin(i)**2*sin(omega)**2 + 8*a**4*e**6*sin(Omega)**4*sin(i)**2 + 16*a**4*e**6*sin(Omega)**3*sin(omega)**3*cos(Omega)*cos(i)*cos(omega) + 16*a**4*e**6*sin(Omega)**3*sin(omega)*cos(Omega)*cos(i)*cos(omega)**3 + 16*a**4*e**6*sin(Omega)**2*sin(i)**2*sin(omega)**2 - 16*a**4*e**6*sin(Omega)**2*sin(omega)**2 + 8*a**4*e**6*sin(Omega)**2 + 16*a**4*e**6*sin(Omega)*sin(i)**2*sin(omega)**3*cos(Omega)*cos(i)*cos(omega) + 16*a**4*e**6*sin(Omega)*sin(i)**2*sin(omega)*cos(Omega)*cos(i)*cos(omega)**3 + 16*a**4*e**6*sin(Omega)*sin(omega)**3*cos(Omega)**3*cos(i)**3*cos(omega) + 16*a**4*e**6*sin(Omega)*sin(omega)*cos(Omega)**3*cos(i)**3*cos(omega)**3 + 8*a**4*e**6*sin(omega)**2 - 8*a**4*e**6 - 12*a**4*e**4*sin(Omega)**4*sin(i)**4*sin(omega)**2 + 12*a**4*e**4*sin(Omega)**4*sin(i)**4 + 24*a**4*e**4*sin(Omega)**4*sin(i)**2*sin(omega)**2 - 12*a**4*e**4*sin(Omega)**4*sin(i)**2 - 24*a**4*e**4*sin(Omega)**3*sin(omega)**3*cos(Omega)*cos(i)*cos(omega) - 24*a**4*e**4*sin(Omega)**3*sin(omega)*cos(Omega)*cos(i)*cos(omega)**3 - 24*a**4*e**4*sin(Omega)**2*sin(i)**2*sin(omega)**2 + 24*a**4*e**4*sin(Omega)**2*sin(omega)**2 - 12*a**4*e**4*sin(Omega)**2 - 24*a**4*e**4*sin(Omega)*sin(i)**2*sin(omega)**3*cos(Omega)*cos(i)*cos(omega) - 24*a**4*e**4*sin(Omega)*sin(i)**2*sin(omega)*cos(Omega)*cos(i)*cos(omega)**3 - 24*a**4*e**4*sin(Omega)*sin(omega)**3*cos(Omega)**3*cos(i)**3*cos(omega) - 24*a**4*e**4*sin(Omega)*sin(omega)*cos(Omega)**3*cos(i)**3*cos(omega)**3 - 12*a**4*e**4*sin(omega)**2 + 12*a**4*e**4 + 8*a**4*e**2*sin(Omega)**4*sin(i)**4*sin(omega)**2 - 8*a**4*e**2*sin(Omega)**4*sin(i)**4 - 16*a**4*e**2*sin(Omega)**4*sin(i)**2*sin(omega)**2 + 8*a**4*e**2*sin(Omega)**4*sin(i)**2 + 16*a**4*e**2*sin(Omega)**3*sin(omega)**3*cos(Omega)*cos(i)*cos(omega) + 16*a**4*e**2*sin(Omega)**3*sin(omega)*cos(Omega)*cos(i)*cos(omega)**3 + 16*a**4*e**2*sin(Omega)**2*sin(i)**2*sin(omega)**2 - 16*a**4*e**2*sin(Omega)**2*sin(omega)**2 + 8*a**4*e**2*sin(Omega)**2 + 16*a**4*e**2*sin(Omega)*sin(i)**2*sin(omega)**3*cos(Omega)*cos(i)*cos(omega) + 16*a**4*e**2*sin(Omega)*sin(i)**2*sin(omega)*cos(Omega)*cos(i)*cos(omega)**3 + 16*a**4*e**2*sin(Omega)*sin(omega)**3*cos(Omega)**3*cos(i)**3*cos(omega) + 16*a**4*e**2*sin(Omega)*sin(omega)*cos(Omega)**3*cos(i)**3*cos(omega)**3 + 8*a**4*e**2*sin(omega)**2 - 8*a**4*e**2 - 2*a**4*sin(Omega)**4*sin(i)**4*sin(omega)**2 + 2*a**4*sin(Omega)**4*sin(i)**4 + 4*a**4*sin(Omega)**4*sin(i)**2*sin(omega)**2 - 2*a**4*sin(Omega)**4*sin(i)**2 - 4*a**4*sin(Omega)**3*sin(omega)**3*cos(Omega)*cos(i)*cos(omega) - 4*a**4*sin(Omega)**3*sin(omega)*cos(Omega)*cos(i)*cos(omega)**3 - 4*a**4*sin(Omega)**2*sin(i)**2*sin(omega)**2 + 4*a**4*sin(Omega)**2*sin(omega)**2 - 2*a**4*sin(Omega)**2 - 4*a**4*sin(Omega)*sin(i)**2*sin(omega)**3*cos(Omega)*cos(i)*cos(omega) - 4*a**4*sin(Omega)*sin(i)**2*sin(omega)*cos(Omega)*cos(i)*cos(omega)**3 - 4*a**4*sin(Omega)*sin(omega)**3*cos(Omega)**3*cos(i)**3*cos(omega) - 4*a**4*sin(Omega)*sin(omega)*cos(Omega)**3*cos(i)**3*cos(omega)**3 - 2*a**4*sin(omega)**2 + 2*a**4\n"
     ]
    }
   ],
   "source": [
    "print(sp.simplify(eclipseEqn5Coeffs[2]))"
   ]
  },
  {
   "cell_type": "code",
   "execution_count": 97,
   "id": "f40dfb43",
   "metadata": {},
   "outputs": [
    {
     "name": "stdout",
     "output_type": "stream",
     "text": [
      "4*Re**2*e*(-Re**2 - a**2*e**4*(cos(-2*Omega + i + 2*omega) - cos(2*Omega - i + 2*omega) + cos(2*Omega + i - 2*omega) - cos(2*Omega + i + 2*omega))/8 + a**2*e**4*sin(Omega)**2*sin(omega)**2 + a**2*e**4*sin(i)**2*cos(omega)**2 + a**2*e**4*cos(Omega)**2*cos(i)**2*cos(omega)**2 + a**2*e**2*(cos(-2*Omega + i + 2*omega) - cos(2*Omega - i + 2*omega) + cos(2*Omega + i - 2*omega) - cos(2*Omega + i + 2*omega))/4 - 2*a**2*e**2*sin(Omega)**2*sin(omega)**2 - 2*a**2*e**2*sin(i)**2*cos(omega)**2 - 2*a**2*e**2*cos(Omega)**2*cos(i)**2*cos(omega)**2 - a**2*(cos(-2*Omega + i + 2*omega) - cos(2*Omega - i + 2*omega) + cos(2*Omega + i - 2*omega) - cos(2*Omega + i + 2*omega))/8 + a**2*sin(Omega)**2*sin(omega)**2 + a**2*sin(i)**2*cos(omega)**2 + a**2*cos(Omega)**2*cos(i)**2*cos(omega)**2)\n"
     ]
    }
   ],
   "source": [
    "print(sp.simplify(eclipseEqn5Coeffs[3]))"
   ]
  },
  {
   "cell_type": "code",
   "execution_count": 98,
   "id": "8572962a",
   "metadata": {},
   "outputs": [
    {
     "name": "stdout",
     "output_type": "stream",
     "text": [
      "-Re**4 - Re**2*a**2*e**4*(cos(-2*Omega + i + 2*omega) - cos(2*Omega - i + 2*omega) + cos(2*Omega + i - 2*omega) - cos(2*Omega + i + 2*omega))/4 + 2*Re**2*a**2*e**4*sin(Omega)**2*sin(omega)**2 + 2*Re**2*a**2*e**4*sin(i)**2*cos(omega)**2 + 2*Re**2*a**2*e**4*cos(Omega)**2*cos(i)**2*cos(omega)**2 + Re**2*a**2*e**2*(cos(-2*Omega + i + 2*omega) - cos(2*Omega - i + 2*omega) + cos(2*Omega + i - 2*omega) - cos(2*Omega + i + 2*omega))/2 - 4*Re**2*a**2*e**2*sin(Omega)**2*sin(omega)**2 - 4*Re**2*a**2*e**2*sin(i)**2*cos(omega)**2 - 4*Re**2*a**2*e**2*cos(Omega)**2*cos(i)**2*cos(omega)**2 - Re**2*a**2*(cos(-2*Omega + i + 2*omega) - cos(2*Omega - i + 2*omega) + cos(2*Omega + i - 2*omega) - cos(2*Omega + i + 2*omega))/4 + 2*Re**2*a**2*sin(Omega)**2*sin(omega)**2 + 2*Re**2*a**2*sin(i)**2*cos(omega)**2 + 2*Re**2*a**2*cos(Omega)**2*cos(i)**2*cos(omega)**2 - a**4*e**8*sin(Omega)**4*sin(omega)**4 + 4*a**4*e**8*sin(Omega)**3*sin(omega)**3*cos(Omega)*cos(i)*cos(omega) - 2*a**4*e**8*sin(Omega)**2*sin(i)**2*sin(omega)**2*cos(omega)**2 - 6*a**4*e**8*sin(Omega)**2*sin(omega)**2*cos(Omega)**2*cos(i)**2*cos(omega)**2 + 4*a**4*e**8*sin(Omega)*sin(i)**2*sin(omega)*cos(Omega)*cos(i)*cos(omega)**3 + 4*a**4*e**8*sin(Omega)*sin(omega)*cos(Omega)**3*cos(i)**3*cos(omega)**3 - a**4*e**8*sin(i)**4*cos(omega)**4 - 2*a**4*e**8*sin(i)**2*cos(Omega)**2*cos(i)**2*cos(omega)**4 - a**4*e**8*cos(Omega)**4*cos(i)**4*cos(omega)**4 + 4*a**4*e**6*sin(Omega)**4*sin(omega)**4 - 16*a**4*e**6*sin(Omega)**3*sin(omega)**3*cos(Omega)*cos(i)*cos(omega) + 8*a**4*e**6*sin(Omega)**2*sin(i)**2*sin(omega)**2*cos(omega)**2 + 24*a**4*e**6*sin(Omega)**2*sin(omega)**2*cos(Omega)**2*cos(i)**2*cos(omega)**2 - 16*a**4*e**6*sin(Omega)*sin(i)**2*sin(omega)*cos(Omega)*cos(i)*cos(omega)**3 - 16*a**4*e**6*sin(Omega)*sin(omega)*cos(Omega)**3*cos(i)**3*cos(omega)**3 + 4*a**4*e**6*sin(i)**4*cos(omega)**4 + 8*a**4*e**6*sin(i)**2*cos(Omega)**2*cos(i)**2*cos(omega)**4 + 4*a**4*e**6*cos(Omega)**4*cos(i)**4*cos(omega)**4 - 6*a**4*e**4*sin(Omega)**4*sin(omega)**4 + 24*a**4*e**4*sin(Omega)**3*sin(omega)**3*cos(Omega)*cos(i)*cos(omega) - 12*a**4*e**4*sin(Omega)**2*sin(i)**2*sin(omega)**2*cos(omega)**2 - 36*a**4*e**4*sin(Omega)**2*sin(omega)**2*cos(Omega)**2*cos(i)**2*cos(omega)**2 + 24*a**4*e**4*sin(Omega)*sin(i)**2*sin(omega)*cos(Omega)*cos(i)*cos(omega)**3 + 24*a**4*e**4*sin(Omega)*sin(omega)*cos(Omega)**3*cos(i)**3*cos(omega)**3 - 6*a**4*e**4*sin(i)**4*cos(omega)**4 - 12*a**4*e**4*sin(i)**2*cos(Omega)**2*cos(i)**2*cos(omega)**4 - 6*a**4*e**4*cos(Omega)**4*cos(i)**4*cos(omega)**4 + 4*a**4*e**2*sin(Omega)**4*sin(omega)**4 - 16*a**4*e**2*sin(Omega)**3*sin(omega)**3*cos(Omega)*cos(i)*cos(omega) + 8*a**4*e**2*sin(Omega)**2*sin(i)**2*sin(omega)**2*cos(omega)**2 + 24*a**4*e**2*sin(Omega)**2*sin(omega)**2*cos(Omega)**2*cos(i)**2*cos(omega)**2 - 16*a**4*e**2*sin(Omega)*sin(i)**2*sin(omega)*cos(Omega)*cos(i)*cos(omega)**3 - 16*a**4*e**2*sin(Omega)*sin(omega)*cos(Omega)**3*cos(i)**3*cos(omega)**3 + 4*a**4*e**2*sin(i)**4*cos(omega)**4 + 8*a**4*e**2*sin(i)**2*cos(Omega)**2*cos(i)**2*cos(omega)**4 + 4*a**4*e**2*cos(Omega)**4*cos(i)**4*cos(omega)**4 - a**4*sin(Omega)**4*sin(omega)**4 + 4*a**4*sin(Omega)**3*sin(omega)**3*cos(Omega)*cos(i)*cos(omega) - 2*a**4*sin(Omega)**2*sin(i)**2*sin(omega)**2*cos(omega)**2 - 6*a**4*sin(Omega)**2*sin(omega)**2*cos(Omega)**2*cos(i)**2*cos(omega)**2 + 4*a**4*sin(Omega)*sin(i)**2*sin(omega)*cos(Omega)*cos(i)*cos(omega)**3 + 4*a**4*sin(Omega)*sin(omega)*cos(Omega)**3*cos(i)**3*cos(omega)**3 - a**4*sin(i)**4*cos(omega)**4 - 2*a**4*sin(i)**2*cos(Omega)**2*cos(i)**2*cos(omega)**4 - a**4*cos(Omega)**4*cos(i)**4*cos(omega)**4\n"
     ]
    }
   ],
   "source": [
    "print(sp.simplify(eclipseEqn5Coeffs[4]))"
   ]
  },
  {
   "cell_type": "code",
   "execution_count": 88,
   "id": "90d12d68",
   "metadata": {},
   "outputs": [],
   "source": [
    "#Attempt to simplify the coefficients"
   ]
  },
  {
   "cell_type": "code",
   "execution_count": 89,
   "id": "237b3cf6",
   "metadata": {},
   "outputs": [
    {
     "data": {
      "text/latex": [
       "$\\displaystyle \\frac{4 Re^{2} e \\left(Re^{2} e^{2} - 2 a^{2} e^{4} \\sin^{2}{\\left(\\Omega \\right)} \\sin^{2}{\\left(i \\right)} \\sin^{2}{\\left(\\omega \\right)} + a^{2} e^{4} \\sin^{2}{\\left(\\Omega \\right)} \\sin^{2}{\\left(i \\right)} + 4 a^{2} e^{4} \\sin^{2}{\\left(\\Omega \\right)} \\sin^{2}{\\left(\\omega \\right)} - 2 a^{2} e^{4} \\sin^{2}{\\left(\\Omega \\right)} - 4 a^{2} e^{4} \\sin{\\left(\\Omega \\right)} \\sin{\\left(\\omega \\right)} \\cos{\\left(\\Omega \\right)} \\cos{\\left(i \\right)} \\cos{\\left(\\omega \\right)} - 2 a^{2} e^{4} \\sin^{2}{\\left(\\omega \\right)} + a^{2} e^{4} + 4 a^{2} e^{2} \\sin^{2}{\\left(\\Omega \\right)} \\sin^{2}{\\left(i \\right)} \\sin^{2}{\\left(\\omega \\right)} - 2 a^{2} e^{2} \\sin^{2}{\\left(\\Omega \\right)} \\sin^{2}{\\left(i \\right)} - 8 a^{2} e^{2} \\sin^{2}{\\left(\\Omega \\right)} \\sin^{2}{\\left(\\omega \\right)} + 4 a^{2} e^{2} \\sin^{2}{\\left(\\Omega \\right)} + 8 a^{2} e^{2} \\sin{\\left(\\Omega \\right)} \\sin{\\left(\\omega \\right)} \\cos{\\left(\\Omega \\right)} \\cos{\\left(i \\right)} \\cos{\\left(\\omega \\right)} + 4 a^{2} e^{2} \\sin^{2}{\\left(\\omega \\right)} - 2 a^{2} e^{2} - 2 a^{2} \\sin^{2}{\\left(\\Omega \\right)} \\sin^{2}{\\left(i \\right)} \\sin^{2}{\\left(\\omega \\right)} + a^{2} \\sin^{2}{\\left(\\Omega \\right)} \\sin^{2}{\\left(i \\right)} + 4 a^{2} \\sin^{2}{\\left(\\Omega \\right)} \\sin^{2}{\\left(\\omega \\right)} - 2 a^{2} \\sin^{2}{\\left(\\Omega \\right)} - 4 a^{2} \\sin{\\left(\\Omega \\right)} \\sin{\\left(\\omega \\right)} \\cos{\\left(\\Omega \\right)} \\cos{\\left(i \\right)} \\cos{\\left(\\omega \\right)} - 2 a^{2} \\sin^{2}{\\left(\\omega \\right)} + a^{2}\\right)}{Re^{4} e^{4} - 4 Re^{2} a^{2} e^{6} \\sin^{2}{\\left(\\Omega \\right)} \\sin^{2}{\\left(i \\right)} \\sin^{2}{\\left(\\omega \\right)} + 2 Re^{2} a^{2} e^{6} \\sin^{2}{\\left(\\Omega \\right)} \\sin^{2}{\\left(i \\right)} + 8 Re^{2} a^{2} e^{6} \\sin^{2}{\\left(\\Omega \\right)} \\sin^{2}{\\left(\\omega \\right)} - 4 Re^{2} a^{2} e^{6} \\sin^{2}{\\left(\\Omega \\right)} - 8 Re^{2} a^{2} e^{6} \\sin{\\left(\\Omega \\right)} \\sin{\\left(\\omega \\right)} \\cos{\\left(\\Omega \\right)} \\cos{\\left(i \\right)} \\cos{\\left(\\omega \\right)} - 4 Re^{2} a^{2} e^{6} \\sin^{2}{\\left(\\omega \\right)} + 2 Re^{2} a^{2} e^{6} + 8 Re^{2} a^{2} e^{4} \\sin^{2}{\\left(\\Omega \\right)} \\sin^{2}{\\left(i \\right)} \\sin^{2}{\\left(\\omega \\right)} - 4 Re^{2} a^{2} e^{4} \\sin^{2}{\\left(\\Omega \\right)} \\sin^{2}{\\left(i \\right)} - 16 Re^{2} a^{2} e^{4} \\sin^{2}{\\left(\\Omega \\right)} \\sin^{2}{\\left(\\omega \\right)} + 8 Re^{2} a^{2} e^{4} \\sin^{2}{\\left(\\Omega \\right)} + 16 Re^{2} a^{2} e^{4} \\sin{\\left(\\Omega \\right)} \\sin{\\left(\\omega \\right)} \\cos{\\left(\\Omega \\right)} \\cos{\\left(i \\right)} \\cos{\\left(\\omega \\right)} + 8 Re^{2} a^{2} e^{4} \\sin^{2}{\\left(\\omega \\right)} - 4 Re^{2} a^{2} e^{4} - 4 Re^{2} a^{2} e^{2} \\sin^{2}{\\left(\\Omega \\right)} \\sin^{2}{\\left(i \\right)} \\sin^{2}{\\left(\\omega \\right)} + 2 Re^{2} a^{2} e^{2} \\sin^{2}{\\left(\\Omega \\right)} \\sin^{2}{\\left(i \\right)} + 8 Re^{2} a^{2} e^{2} \\sin^{2}{\\left(\\Omega \\right)} \\sin^{2}{\\left(\\omega \\right)} - 4 Re^{2} a^{2} e^{2} \\sin^{2}{\\left(\\Omega \\right)} - 8 Re^{2} a^{2} e^{2} \\sin{\\left(\\Omega \\right)} \\sin{\\left(\\omega \\right)} \\cos{\\left(\\Omega \\right)} \\cos{\\left(i \\right)} \\cos{\\left(\\omega \\right)} - 4 Re^{2} a^{2} e^{2} \\sin^{2}{\\left(\\omega \\right)} + 2 Re^{2} a^{2} e^{2} + a^{4} e^{8} \\sin^{4}{\\left(\\Omega \\right)} \\sin^{4}{\\left(i \\right)} - 2 a^{4} e^{8} \\sin^{2}{\\left(\\Omega \\right)} \\sin^{2}{\\left(i \\right)} + a^{4} e^{8} - 4 a^{4} e^{6} \\sin^{4}{\\left(\\Omega \\right)} \\sin^{4}{\\left(i \\right)} + 8 a^{4} e^{6} \\sin^{2}{\\left(\\Omega \\right)} \\sin^{2}{\\left(i \\right)} - 4 a^{4} e^{6} + 6 a^{4} e^{4} \\sin^{4}{\\left(\\Omega \\right)} \\sin^{4}{\\left(i \\right)} - 12 a^{4} e^{4} \\sin^{2}{\\left(\\Omega \\right)} \\sin^{2}{\\left(i \\right)} + 6 a^{4} e^{4} - 4 a^{4} e^{2} \\sin^{4}{\\left(\\Omega \\right)} \\sin^{4}{\\left(i \\right)} + 8 a^{4} e^{2} \\sin^{2}{\\left(\\Omega \\right)} \\sin^{2}{\\left(i \\right)} - 4 a^{4} e^{2} + a^{4} \\sin^{4}{\\left(\\Omega \\right)} \\sin^{4}{\\left(i \\right)} - 2 a^{4} \\sin^{2}{\\left(\\Omega \\right)} \\sin^{2}{\\left(i \\right)} + a^{4}}$"
      ],
      "text/plain": [
       "4*Re**2*e*(Re**2*e**2 - 2*a**2*e**4*sin(Omega)**2*sin(i)**2*sin(omega)**2 + a**2*e**4*sin(Omega)**2*sin(i)**2 + 4*a**2*e**4*sin(Omega)**2*sin(omega)**2 - 2*a**2*e**4*sin(Omega)**2 - 4*a**2*e**4*sin(Omega)*sin(omega)*cos(Omega)*cos(i)*cos(omega) - 2*a**2*e**4*sin(omega)**2 + a**2*e**4 + 4*a**2*e**2*sin(Omega)**2*sin(i)**2*sin(omega)**2 - 2*a**2*e**2*sin(Omega)**2*sin(i)**2 - 8*a**2*e**2*sin(Omega)**2*sin(omega)**2 + 4*a**2*e**2*sin(Omega)**2 + 8*a**2*e**2*sin(Omega)*sin(omega)*cos(Omega)*cos(i)*cos(omega) + 4*a**2*e**2*sin(omega)**2 - 2*a**2*e**2 - 2*a**2*sin(Omega)**2*sin(i)**2*sin(omega)**2 + a**2*sin(Omega)**2*sin(i)**2 + 4*a**2*sin(Omega)**2*sin(omega)**2 - 2*a**2*sin(Omega)**2 - 4*a**2*sin(Omega)*sin(omega)*cos(Omega)*cos(i)*cos(omega) - 2*a**2*sin(omega)**2 + a**2)/(Re**4*e**4 - 4*Re**2*a**2*e**6*sin(Omega)**2*sin(i)**2*sin(omega)**2 + 2*Re**2*a**2*e**6*sin(Omega)**2*sin(i)**2 + 8*Re**2*a**2*e**6*sin(Omega)**2*sin(omega)**2 - 4*Re**2*a**2*e**6*sin(Omega)**2 - 8*Re**2*a**2*e**6*sin(Omega)*sin(omega)*cos(Omega)*cos(i)*cos(omega) - 4*Re**2*a**2*e**6*sin(omega)**2 + 2*Re**2*a**2*e**6 + 8*Re**2*a**2*e**4*sin(Omega)**2*sin(i)**2*sin(omega)**2 - 4*Re**2*a**2*e**4*sin(Omega)**2*sin(i)**2 - 16*Re**2*a**2*e**4*sin(Omega)**2*sin(omega)**2 + 8*Re**2*a**2*e**4*sin(Omega)**2 + 16*Re**2*a**2*e**4*sin(Omega)*sin(omega)*cos(Omega)*cos(i)*cos(omega) + 8*Re**2*a**2*e**4*sin(omega)**2 - 4*Re**2*a**2*e**4 - 4*Re**2*a**2*e**2*sin(Omega)**2*sin(i)**2*sin(omega)**2 + 2*Re**2*a**2*e**2*sin(Omega)**2*sin(i)**2 + 8*Re**2*a**2*e**2*sin(Omega)**2*sin(omega)**2 - 4*Re**2*a**2*e**2*sin(Omega)**2 - 8*Re**2*a**2*e**2*sin(Omega)*sin(omega)*cos(Omega)*cos(i)*cos(omega) - 4*Re**2*a**2*e**2*sin(omega)**2 + 2*Re**2*a**2*e**2 + a**4*e**8*sin(Omega)**4*sin(i)**4 - 2*a**4*e**8*sin(Omega)**2*sin(i)**2 + a**4*e**8 - 4*a**4*e**6*sin(Omega)**4*sin(i)**4 + 8*a**4*e**6*sin(Omega)**2*sin(i)**2 - 4*a**4*e**6 + 6*a**4*e**4*sin(Omega)**4*sin(i)**4 - 12*a**4*e**4*sin(Omega)**2*sin(i)**2 + 6*a**4*e**4 - 4*a**4*e**2*sin(Omega)**4*sin(i)**4 + 8*a**4*e**2*sin(Omega)**2*sin(i)**2 - 4*a**4*e**2 + a**4*sin(Omega)**4*sin(i)**4 - 2*a**4*sin(Omega)**2*sin(i)**2 + a**4)"
      ]
     },
     "execution_count": 89,
     "metadata": {},
     "output_type": "execute_result"
    }
   ],
   "source": [
    "sp.simplify(eclipseEqn5Coeffs[1]/eclipseEqn5Coeffs[0])"
   ]
  },
  {
   "cell_type": "code",
   "execution_count": 90,
   "id": "9af6b2e8",
   "metadata": {},
   "outputs": [
    {
     "data": {
      "text/latex": [
       "$\\displaystyle \\frac{2 \\left(3 Re^{4} e^{2} + Re^{2} a^{2} e^{6} \\sin^{2}{\\left(\\Omega \\right)} \\sin^{2}{\\left(i \\right)} \\sin^{2}{\\left(\\omega \\right)} - Re^{2} a^{2} e^{6} \\sin^{2}{\\left(\\Omega \\right)} \\sin^{2}{\\left(i \\right)} - 2 Re^{2} a^{2} e^{6} \\sin^{2}{\\left(\\Omega \\right)} \\sin^{2}{\\left(\\omega \\right)} + Re^{2} a^{2} e^{6} \\sin^{2}{\\left(\\Omega \\right)} + 2 Re^{2} a^{2} e^{6} \\sin{\\left(\\Omega \\right)} \\sin{\\left(\\omega \\right)} \\cos{\\left(\\Omega \\right)} \\cos{\\left(i \\right)} \\cos{\\left(\\omega \\right)} + Re^{2} a^{2} e^{6} \\sin^{2}{\\left(\\omega \\right)} - Re^{2} a^{2} e^{6} - 4 Re^{2} a^{2} e^{4} \\sin^{2}{\\left(\\Omega \\right)} \\sin^{2}{\\left(i \\right)} \\sin^{2}{\\left(\\omega \\right)} + 3 Re^{2} a^{2} e^{4} \\sin^{2}{\\left(\\Omega \\right)} \\sin^{2}{\\left(i \\right)} + 8 Re^{2} a^{2} e^{4} \\sin^{2}{\\left(\\Omega \\right)} \\sin^{2}{\\left(\\omega \\right)} - 4 Re^{2} a^{2} e^{4} \\sin^{2}{\\left(\\Omega \\right)} - 8 Re^{2} a^{2} e^{4} \\sin{\\left(\\Omega \\right)} \\sin{\\left(\\omega \\right)} \\cos{\\left(\\Omega \\right)} \\cos{\\left(i \\right)} \\cos{\\left(\\omega \\right)} - 4 Re^{2} a^{2} e^{4} \\sin^{2}{\\left(\\omega \\right)} + 3 Re^{2} a^{2} e^{4} + 5 Re^{2} a^{2} e^{2} \\sin^{2}{\\left(\\Omega \\right)} \\sin^{2}{\\left(i \\right)} \\sin^{2}{\\left(\\omega \\right)} - 3 Re^{2} a^{2} e^{2} \\sin^{2}{\\left(\\Omega \\right)} \\sin^{2}{\\left(i \\right)} - 10 Re^{2} a^{2} e^{2} \\sin^{2}{\\left(\\Omega \\right)} \\sin^{2}{\\left(\\omega \\right)} + 5 Re^{2} a^{2} e^{2} \\sin^{2}{\\left(\\Omega \\right)} + 10 Re^{2} a^{2} e^{2} \\sin{\\left(\\Omega \\right)} \\sin{\\left(\\omega \\right)} \\cos{\\left(\\Omega \\right)} \\cos{\\left(i \\right)} \\cos{\\left(\\omega \\right)} + 5 Re^{2} a^{2} e^{2} \\sin^{2}{\\left(\\omega \\right)} - 3 Re^{2} a^{2} e^{2} - 2 Re^{2} a^{2} \\sin^{2}{\\left(\\Omega \\right)} \\sin^{2}{\\left(i \\right)} \\sin^{2}{\\left(\\omega \\right)} + Re^{2} a^{2} \\sin^{2}{\\left(\\Omega \\right)} \\sin^{2}{\\left(i \\right)} + 4 Re^{2} a^{2} \\sin^{2}{\\left(\\Omega \\right)} \\sin^{2}{\\left(\\omega \\right)} - 2 Re^{2} a^{2} \\sin^{2}{\\left(\\Omega \\right)} - 4 Re^{2} a^{2} \\sin{\\left(\\Omega \\right)} \\sin{\\left(\\omega \\right)} \\cos{\\left(\\Omega \\right)} \\cos{\\left(i \\right)} \\cos{\\left(\\omega \\right)} - 2 Re^{2} a^{2} \\sin^{2}{\\left(\\omega \\right)} + Re^{2} a^{2} + a^{4} e^{8} \\sin^{4}{\\left(\\Omega \\right)} \\sin^{4}{\\left(i \\right)} \\sin^{2}{\\left(\\omega \\right)} - a^{4} e^{8} \\sin^{4}{\\left(\\Omega \\right)} \\sin^{4}{\\left(i \\right)} - 2 a^{4} e^{8} \\sin^{4}{\\left(\\Omega \\right)} \\sin^{2}{\\left(i \\right)} \\sin^{2}{\\left(\\omega \\right)} + a^{4} e^{8} \\sin^{4}{\\left(\\Omega \\right)} \\sin^{2}{\\left(i \\right)} + 2 a^{4} e^{8} \\sin^{3}{\\left(\\Omega \\right)} \\sin^{3}{\\left(\\omega \\right)} \\cos{\\left(\\Omega \\right)} \\cos{\\left(i \\right)} \\cos{\\left(\\omega \\right)} + 2 a^{4} e^{8} \\sin^{3}{\\left(\\Omega \\right)} \\sin{\\left(\\omega \\right)} \\cos{\\left(\\Omega \\right)} \\cos{\\left(i \\right)} \\cos^{3}{\\left(\\omega \\right)} + 2 a^{4} e^{8} \\sin^{2}{\\left(\\Omega \\right)} \\sin^{2}{\\left(i \\right)} \\sin^{2}{\\left(\\omega \\right)} - 2 a^{4} e^{8} \\sin^{2}{\\left(\\Omega \\right)} \\sin^{2}{\\left(\\omega \\right)} + a^{4} e^{8} \\sin^{2}{\\left(\\Omega \\right)} + 2 a^{4} e^{8} \\sin{\\left(\\Omega \\right)} \\sin^{2}{\\left(i \\right)} \\sin^{3}{\\left(\\omega \\right)} \\cos{\\left(\\Omega \\right)} \\cos{\\left(i \\right)} \\cos{\\left(\\omega \\right)} + 2 a^{4} e^{8} \\sin{\\left(\\Omega \\right)} \\sin^{2}{\\left(i \\right)} \\sin{\\left(\\omega \\right)} \\cos{\\left(\\Omega \\right)} \\cos{\\left(i \\right)} \\cos^{3}{\\left(\\omega \\right)} + 2 a^{4} e^{8} \\sin{\\left(\\Omega \\right)} \\sin^{3}{\\left(\\omega \\right)} \\cos^{3}{\\left(\\Omega \\right)} \\cos^{3}{\\left(i \\right)} \\cos{\\left(\\omega \\right)} + 2 a^{4} e^{8} \\sin{\\left(\\Omega \\right)} \\sin{\\left(\\omega \\right)} \\cos^{3}{\\left(\\Omega \\right)} \\cos^{3}{\\left(i \\right)} \\cos^{3}{\\left(\\omega \\right)} + a^{4} e^{8} \\sin^{2}{\\left(\\omega \\right)} - a^{4} e^{8} - 4 a^{4} e^{6} \\sin^{4}{\\left(\\Omega \\right)} \\sin^{4}{\\left(i \\right)} \\sin^{2}{\\left(\\omega \\right)} + 4 a^{4} e^{6} \\sin^{4}{\\left(\\Omega \\right)} \\sin^{4}{\\left(i \\right)} + 8 a^{4} e^{6} \\sin^{4}{\\left(\\Omega \\right)} \\sin^{2}{\\left(i \\right)} \\sin^{2}{\\left(\\omega \\right)} - 4 a^{4} e^{6} \\sin^{4}{\\left(\\Omega \\right)} \\sin^{2}{\\left(i \\right)} - 8 a^{4} e^{6} \\sin^{3}{\\left(\\Omega \\right)} \\sin^{3}{\\left(\\omega \\right)} \\cos{\\left(\\Omega \\right)} \\cos{\\left(i \\right)} \\cos{\\left(\\omega \\right)} - 8 a^{4} e^{6} \\sin^{3}{\\left(\\Omega \\right)} \\sin{\\left(\\omega \\right)} \\cos{\\left(\\Omega \\right)} \\cos{\\left(i \\right)} \\cos^{3}{\\left(\\omega \\right)} - 8 a^{4} e^{6} \\sin^{2}{\\left(\\Omega \\right)} \\sin^{2}{\\left(i \\right)} \\sin^{2}{\\left(\\omega \\right)} + 8 a^{4} e^{6} \\sin^{2}{\\left(\\Omega \\right)} \\sin^{2}{\\left(\\omega \\right)} - 4 a^{4} e^{6} \\sin^{2}{\\left(\\Omega \\right)} - 8 a^{4} e^{6} \\sin{\\left(\\Omega \\right)} \\sin^{2}{\\left(i \\right)} \\sin^{3}{\\left(\\omega \\right)} \\cos{\\left(\\Omega \\right)} \\cos{\\left(i \\right)} \\cos{\\left(\\omega \\right)} - 8 a^{4} e^{6} \\sin{\\left(\\Omega \\right)} \\sin^{2}{\\left(i \\right)} \\sin{\\left(\\omega \\right)} \\cos{\\left(\\Omega \\right)} \\cos{\\left(i \\right)} \\cos^{3}{\\left(\\omega \\right)} - 8 a^{4} e^{6} \\sin{\\left(\\Omega \\right)} \\sin^{3}{\\left(\\omega \\right)} \\cos^{3}{\\left(\\Omega \\right)} \\cos^{3}{\\left(i \\right)} \\cos{\\left(\\omega \\right)} - 8 a^{4} e^{6} \\sin{\\left(\\Omega \\right)} \\sin{\\left(\\omega \\right)} \\cos^{3}{\\left(\\Omega \\right)} \\cos^{3}{\\left(i \\right)} \\cos^{3}{\\left(\\omega \\right)} - 4 a^{4} e^{6} \\sin^{2}{\\left(\\omega \\right)} + 4 a^{4} e^{6} + 6 a^{4} e^{4} \\sin^{4}{\\left(\\Omega \\right)} \\sin^{4}{\\left(i \\right)} \\sin^{2}{\\left(\\omega \\right)} - 6 a^{4} e^{4} \\sin^{4}{\\left(\\Omega \\right)} \\sin^{4}{\\left(i \\right)} - 12 a^{4} e^{4} \\sin^{4}{\\left(\\Omega \\right)} \\sin^{2}{\\left(i \\right)} \\sin^{2}{\\left(\\omega \\right)} + 6 a^{4} e^{4} \\sin^{4}{\\left(\\Omega \\right)} \\sin^{2}{\\left(i \\right)} + 12 a^{4} e^{4} \\sin^{3}{\\left(\\Omega \\right)} \\sin^{3}{\\left(\\omega \\right)} \\cos{\\left(\\Omega \\right)} \\cos{\\left(i \\right)} \\cos{\\left(\\omega \\right)} + 12 a^{4} e^{4} \\sin^{3}{\\left(\\Omega \\right)} \\sin{\\left(\\omega \\right)} \\cos{\\left(\\Omega \\right)} \\cos{\\left(i \\right)} \\cos^{3}{\\left(\\omega \\right)} + 12 a^{4} e^{4} \\sin^{2}{\\left(\\Omega \\right)} \\sin^{2}{\\left(i \\right)} \\sin^{2}{\\left(\\omega \\right)} - 12 a^{4} e^{4} \\sin^{2}{\\left(\\Omega \\right)} \\sin^{2}{\\left(\\omega \\right)} + 6 a^{4} e^{4} \\sin^{2}{\\left(\\Omega \\right)} + 12 a^{4} e^{4} \\sin{\\left(\\Omega \\right)} \\sin^{2}{\\left(i \\right)} \\sin^{3}{\\left(\\omega \\right)} \\cos{\\left(\\Omega \\right)} \\cos{\\left(i \\right)} \\cos{\\left(\\omega \\right)} + 12 a^{4} e^{4} \\sin{\\left(\\Omega \\right)} \\sin^{2}{\\left(i \\right)} \\sin{\\left(\\omega \\right)} \\cos{\\left(\\Omega \\right)} \\cos{\\left(i \\right)} \\cos^{3}{\\left(\\omega \\right)} + 12 a^{4} e^{4} \\sin{\\left(\\Omega \\right)} \\sin^{3}{\\left(\\omega \\right)} \\cos^{3}{\\left(\\Omega \\right)} \\cos^{3}{\\left(i \\right)} \\cos{\\left(\\omega \\right)} + 12 a^{4} e^{4} \\sin{\\left(\\Omega \\right)} \\sin{\\left(\\omega \\right)} \\cos^{3}{\\left(\\Omega \\right)} \\cos^{3}{\\left(i \\right)} \\cos^{3}{\\left(\\omega \\right)} + 6 a^{4} e^{4} \\sin^{2}{\\left(\\omega \\right)} - 6 a^{4} e^{4} - 4 a^{4} e^{2} \\sin^{4}{\\left(\\Omega \\right)} \\sin^{4}{\\left(i \\right)} \\sin^{2}{\\left(\\omega \\right)} + 4 a^{4} e^{2} \\sin^{4}{\\left(\\Omega \\right)} \\sin^{4}{\\left(i \\right)} + 8 a^{4} e^{2} \\sin^{4}{\\left(\\Omega \\right)} \\sin^{2}{\\left(i \\right)} \\sin^{2}{\\left(\\omega \\right)} - 4 a^{4} e^{2} \\sin^{4}{\\left(\\Omega \\right)} \\sin^{2}{\\left(i \\right)} - 8 a^{4} e^{2} \\sin^{3}{\\left(\\Omega \\right)} \\sin^{3}{\\left(\\omega \\right)} \\cos{\\left(\\Omega \\right)} \\cos{\\left(i \\right)} \\cos{\\left(\\omega \\right)} - 8 a^{4} e^{2} \\sin^{3}{\\left(\\Omega \\right)} \\sin{\\left(\\omega \\right)} \\cos{\\left(\\Omega \\right)} \\cos{\\left(i \\right)} \\cos^{3}{\\left(\\omega \\right)} - 8 a^{4} e^{2} \\sin^{2}{\\left(\\Omega \\right)} \\sin^{2}{\\left(i \\right)} \\sin^{2}{\\left(\\omega \\right)} + 8 a^{4} e^{2} \\sin^{2}{\\left(\\Omega \\right)} \\sin^{2}{\\left(\\omega \\right)} - 4 a^{4} e^{2} \\sin^{2}{\\left(\\Omega \\right)} - 8 a^{4} e^{2} \\sin{\\left(\\Omega \\right)} \\sin^{2}{\\left(i \\right)} \\sin^{3}{\\left(\\omega \\right)} \\cos{\\left(\\Omega \\right)} \\cos{\\left(i \\right)} \\cos{\\left(\\omega \\right)} - 8 a^{4} e^{2} \\sin{\\left(\\Omega \\right)} \\sin^{2}{\\left(i \\right)} \\sin{\\left(\\omega \\right)} \\cos{\\left(\\Omega \\right)} \\cos{\\left(i \\right)} \\cos^{3}{\\left(\\omega \\right)} - 8 a^{4} e^{2} \\sin{\\left(\\Omega \\right)} \\sin^{3}{\\left(\\omega \\right)} \\cos^{3}{\\left(\\Omega \\right)} \\cos^{3}{\\left(i \\right)} \\cos{\\left(\\omega \\right)} - 8 a^{4} e^{2} \\sin{\\left(\\Omega \\right)} \\sin{\\left(\\omega \\right)} \\cos^{3}{\\left(\\Omega \\right)} \\cos^{3}{\\left(i \\right)} \\cos^{3}{\\left(\\omega \\right)} - 4 a^{4} e^{2} \\sin^{2}{\\left(\\omega \\right)} + 4 a^{4} e^{2} + a^{4} \\sin^{4}{\\left(\\Omega \\right)} \\sin^{4}{\\left(i \\right)} \\sin^{2}{\\left(\\omega \\right)} - a^{4} \\sin^{4}{\\left(\\Omega \\right)} \\sin^{4}{\\left(i \\right)} - 2 a^{4} \\sin^{4}{\\left(\\Omega \\right)} \\sin^{2}{\\left(i \\right)} \\sin^{2}{\\left(\\omega \\right)} + a^{4} \\sin^{4}{\\left(\\Omega \\right)} \\sin^{2}{\\left(i \\right)} + 2 a^{4} \\sin^{3}{\\left(\\Omega \\right)} \\sin^{3}{\\left(\\omega \\right)} \\cos{\\left(\\Omega \\right)} \\cos{\\left(i \\right)} \\cos{\\left(\\omega \\right)} + 2 a^{4} \\sin^{3}{\\left(\\Omega \\right)} \\sin{\\left(\\omega \\right)} \\cos{\\left(\\Omega \\right)} \\cos{\\left(i \\right)} \\cos^{3}{\\left(\\omega \\right)} + 2 a^{4} \\sin^{2}{\\left(\\Omega \\right)} \\sin^{2}{\\left(i \\right)} \\sin^{2}{\\left(\\omega \\right)} - 2 a^{4} \\sin^{2}{\\left(\\Omega \\right)} \\sin^{2}{\\left(\\omega \\right)} + a^{4} \\sin^{2}{\\left(\\Omega \\right)} + 2 a^{4} \\sin{\\left(\\Omega \\right)} \\sin^{2}{\\left(i \\right)} \\sin^{3}{\\left(\\omega \\right)} \\cos{\\left(\\Omega \\right)} \\cos{\\left(i \\right)} \\cos{\\left(\\omega \\right)} + 2 a^{4} \\sin{\\left(\\Omega \\right)} \\sin^{2}{\\left(i \\right)} \\sin{\\left(\\omega \\right)} \\cos{\\left(\\Omega \\right)} \\cos{\\left(i \\right)} \\cos^{3}{\\left(\\omega \\right)} + 2 a^{4} \\sin{\\left(\\Omega \\right)} \\sin^{3}{\\left(\\omega \\right)} \\cos^{3}{\\left(\\Omega \\right)} \\cos^{3}{\\left(i \\right)} \\cos{\\left(\\omega \\right)} + 2 a^{4} \\sin{\\left(\\Omega \\right)} \\sin{\\left(\\omega \\right)} \\cos^{3}{\\left(\\Omega \\right)} \\cos^{3}{\\left(i \\right)} \\cos^{3}{\\left(\\omega \\right)} + a^{4} \\sin^{2}{\\left(\\omega \\right)} - a^{4}\\right)}{Re^{4} e^{4} - 4 Re^{2} a^{2} e^{6} \\sin^{2}{\\left(\\Omega \\right)} \\sin^{2}{\\left(i \\right)} \\sin^{2}{\\left(\\omega \\right)} + 2 Re^{2} a^{2} e^{6} \\sin^{2}{\\left(\\Omega \\right)} \\sin^{2}{\\left(i \\right)} + 8 Re^{2} a^{2} e^{6} \\sin^{2}{\\left(\\Omega \\right)} \\sin^{2}{\\left(\\omega \\right)} - 4 Re^{2} a^{2} e^{6} \\sin^{2}{\\left(\\Omega \\right)} - 8 Re^{2} a^{2} e^{6} \\sin{\\left(\\Omega \\right)} \\sin{\\left(\\omega \\right)} \\cos{\\left(\\Omega \\right)} \\cos{\\left(i \\right)} \\cos{\\left(\\omega \\right)} - 4 Re^{2} a^{2} e^{6} \\sin^{2}{\\left(\\omega \\right)} + 2 Re^{2} a^{2} e^{6} + 8 Re^{2} a^{2} e^{4} \\sin^{2}{\\left(\\Omega \\right)} \\sin^{2}{\\left(i \\right)} \\sin^{2}{\\left(\\omega \\right)} - 4 Re^{2} a^{2} e^{4} \\sin^{2}{\\left(\\Omega \\right)} \\sin^{2}{\\left(i \\right)} - 16 Re^{2} a^{2} e^{4} \\sin^{2}{\\left(\\Omega \\right)} \\sin^{2}{\\left(\\omega \\right)} + 8 Re^{2} a^{2} e^{4} \\sin^{2}{\\left(\\Omega \\right)} + 16 Re^{2} a^{2} e^{4} \\sin{\\left(\\Omega \\right)} \\sin{\\left(\\omega \\right)} \\cos{\\left(\\Omega \\right)} \\cos{\\left(i \\right)} \\cos{\\left(\\omega \\right)} + 8 Re^{2} a^{2} e^{4} \\sin^{2}{\\left(\\omega \\right)} - 4 Re^{2} a^{2} e^{4} - 4 Re^{2} a^{2} e^{2} \\sin^{2}{\\left(\\Omega \\right)} \\sin^{2}{\\left(i \\right)} \\sin^{2}{\\left(\\omega \\right)} + 2 Re^{2} a^{2} e^{2} \\sin^{2}{\\left(\\Omega \\right)} \\sin^{2}{\\left(i \\right)} + 8 Re^{2} a^{2} e^{2} \\sin^{2}{\\left(\\Omega \\right)} \\sin^{2}{\\left(\\omega \\right)} - 4 Re^{2} a^{2} e^{2} \\sin^{2}{\\left(\\Omega \\right)} - 8 Re^{2} a^{2} e^{2} \\sin{\\left(\\Omega \\right)} \\sin{\\left(\\omega \\right)} \\cos{\\left(\\Omega \\right)} \\cos{\\left(i \\right)} \\cos{\\left(\\omega \\right)} - 4 Re^{2} a^{2} e^{2} \\sin^{2}{\\left(\\omega \\right)} + 2 Re^{2} a^{2} e^{2} + a^{4} e^{8} \\sin^{4}{\\left(\\Omega \\right)} \\sin^{4}{\\left(i \\right)} - 2 a^{4} e^{8} \\sin^{2}{\\left(\\Omega \\right)} \\sin^{2}{\\left(i \\right)} + a^{4} e^{8} - 4 a^{4} e^{6} \\sin^{4}{\\left(\\Omega \\right)} \\sin^{4}{\\left(i \\right)} + 8 a^{4} e^{6} \\sin^{2}{\\left(\\Omega \\right)} \\sin^{2}{\\left(i \\right)} - 4 a^{4} e^{6} + 6 a^{4} e^{4} \\sin^{4}{\\left(\\Omega \\right)} \\sin^{4}{\\left(i \\right)} - 12 a^{4} e^{4} \\sin^{2}{\\left(\\Omega \\right)} \\sin^{2}{\\left(i \\right)} + 6 a^{4} e^{4} - 4 a^{4} e^{2} \\sin^{4}{\\left(\\Omega \\right)} \\sin^{4}{\\left(i \\right)} + 8 a^{4} e^{2} \\sin^{2}{\\left(\\Omega \\right)} \\sin^{2}{\\left(i \\right)} - 4 a^{4} e^{2} + a^{4} \\sin^{4}{\\left(\\Omega \\right)} \\sin^{4}{\\left(i \\right)} - 2 a^{4} \\sin^{2}{\\left(\\Omega \\right)} \\sin^{2}{\\left(i \\right)} + a^{4}}$"
      ],
      "text/plain": [
       "2*(3*Re**4*e**2 + Re**2*a**2*e**6*sin(Omega)**2*sin(i)**2*sin(omega)**2 - Re**2*a**2*e**6*sin(Omega)**2*sin(i)**2 - 2*Re**2*a**2*e**6*sin(Omega)**2*sin(omega)**2 + Re**2*a**2*e**6*sin(Omega)**2 + 2*Re**2*a**2*e**6*sin(Omega)*sin(omega)*cos(Omega)*cos(i)*cos(omega) + Re**2*a**2*e**6*sin(omega)**2 - Re**2*a**2*e**6 - 4*Re**2*a**2*e**4*sin(Omega)**2*sin(i)**2*sin(omega)**2 + 3*Re**2*a**2*e**4*sin(Omega)**2*sin(i)**2 + 8*Re**2*a**2*e**4*sin(Omega)**2*sin(omega)**2 - 4*Re**2*a**2*e**4*sin(Omega)**2 - 8*Re**2*a**2*e**4*sin(Omega)*sin(omega)*cos(Omega)*cos(i)*cos(omega) - 4*Re**2*a**2*e**4*sin(omega)**2 + 3*Re**2*a**2*e**4 + 5*Re**2*a**2*e**2*sin(Omega)**2*sin(i)**2*sin(omega)**2 - 3*Re**2*a**2*e**2*sin(Omega)**2*sin(i)**2 - 10*Re**2*a**2*e**2*sin(Omega)**2*sin(omega)**2 + 5*Re**2*a**2*e**2*sin(Omega)**2 + 10*Re**2*a**2*e**2*sin(Omega)*sin(omega)*cos(Omega)*cos(i)*cos(omega) + 5*Re**2*a**2*e**2*sin(omega)**2 - 3*Re**2*a**2*e**2 - 2*Re**2*a**2*sin(Omega)**2*sin(i)**2*sin(omega)**2 + Re**2*a**2*sin(Omega)**2*sin(i)**2 + 4*Re**2*a**2*sin(Omega)**2*sin(omega)**2 - 2*Re**2*a**2*sin(Omega)**2 - 4*Re**2*a**2*sin(Omega)*sin(omega)*cos(Omega)*cos(i)*cos(omega) - 2*Re**2*a**2*sin(omega)**2 + Re**2*a**2 + a**4*e**8*sin(Omega)**4*sin(i)**4*sin(omega)**2 - a**4*e**8*sin(Omega)**4*sin(i)**4 - 2*a**4*e**8*sin(Omega)**4*sin(i)**2*sin(omega)**2 + a**4*e**8*sin(Omega)**4*sin(i)**2 + 2*a**4*e**8*sin(Omega)**3*sin(omega)**3*cos(Omega)*cos(i)*cos(omega) + 2*a**4*e**8*sin(Omega)**3*sin(omega)*cos(Omega)*cos(i)*cos(omega)**3 + 2*a**4*e**8*sin(Omega)**2*sin(i)**2*sin(omega)**2 - 2*a**4*e**8*sin(Omega)**2*sin(omega)**2 + a**4*e**8*sin(Omega)**2 + 2*a**4*e**8*sin(Omega)*sin(i)**2*sin(omega)**3*cos(Omega)*cos(i)*cos(omega) + 2*a**4*e**8*sin(Omega)*sin(i)**2*sin(omega)*cos(Omega)*cos(i)*cos(omega)**3 + 2*a**4*e**8*sin(Omega)*sin(omega)**3*cos(Omega)**3*cos(i)**3*cos(omega) + 2*a**4*e**8*sin(Omega)*sin(omega)*cos(Omega)**3*cos(i)**3*cos(omega)**3 + a**4*e**8*sin(omega)**2 - a**4*e**8 - 4*a**4*e**6*sin(Omega)**4*sin(i)**4*sin(omega)**2 + 4*a**4*e**6*sin(Omega)**4*sin(i)**4 + 8*a**4*e**6*sin(Omega)**4*sin(i)**2*sin(omega)**2 - 4*a**4*e**6*sin(Omega)**4*sin(i)**2 - 8*a**4*e**6*sin(Omega)**3*sin(omega)**3*cos(Omega)*cos(i)*cos(omega) - 8*a**4*e**6*sin(Omega)**3*sin(omega)*cos(Omega)*cos(i)*cos(omega)**3 - 8*a**4*e**6*sin(Omega)**2*sin(i)**2*sin(omega)**2 + 8*a**4*e**6*sin(Omega)**2*sin(omega)**2 - 4*a**4*e**6*sin(Omega)**2 - 8*a**4*e**6*sin(Omega)*sin(i)**2*sin(omega)**3*cos(Omega)*cos(i)*cos(omega) - 8*a**4*e**6*sin(Omega)*sin(i)**2*sin(omega)*cos(Omega)*cos(i)*cos(omega)**3 - 8*a**4*e**6*sin(Omega)*sin(omega)**3*cos(Omega)**3*cos(i)**3*cos(omega) - 8*a**4*e**6*sin(Omega)*sin(omega)*cos(Omega)**3*cos(i)**3*cos(omega)**3 - 4*a**4*e**6*sin(omega)**2 + 4*a**4*e**6 + 6*a**4*e**4*sin(Omega)**4*sin(i)**4*sin(omega)**2 - 6*a**4*e**4*sin(Omega)**4*sin(i)**4 - 12*a**4*e**4*sin(Omega)**4*sin(i)**2*sin(omega)**2 + 6*a**4*e**4*sin(Omega)**4*sin(i)**2 + 12*a**4*e**4*sin(Omega)**3*sin(omega)**3*cos(Omega)*cos(i)*cos(omega) + 12*a**4*e**4*sin(Omega)**3*sin(omega)*cos(Omega)*cos(i)*cos(omega)**3 + 12*a**4*e**4*sin(Omega)**2*sin(i)**2*sin(omega)**2 - 12*a**4*e**4*sin(Omega)**2*sin(omega)**2 + 6*a**4*e**4*sin(Omega)**2 + 12*a**4*e**4*sin(Omega)*sin(i)**2*sin(omega)**3*cos(Omega)*cos(i)*cos(omega) + 12*a**4*e**4*sin(Omega)*sin(i)**2*sin(omega)*cos(Omega)*cos(i)*cos(omega)**3 + 12*a**4*e**4*sin(Omega)*sin(omega)**3*cos(Omega)**3*cos(i)**3*cos(omega) + 12*a**4*e**4*sin(Omega)*sin(omega)*cos(Omega)**3*cos(i)**3*cos(omega)**3 + 6*a**4*e**4*sin(omega)**2 - 6*a**4*e**4 - 4*a**4*e**2*sin(Omega)**4*sin(i)**4*sin(omega)**2 + 4*a**4*e**2*sin(Omega)**4*sin(i)**4 + 8*a**4*e**2*sin(Omega)**4*sin(i)**2*sin(omega)**2 - 4*a**4*e**2*sin(Omega)**4*sin(i)**2 - 8*a**4*e**2*sin(Omega)**3*sin(omega)**3*cos(Omega)*cos(i)*cos(omega) - 8*a**4*e**2*sin(Omega)**3*sin(omega)*cos(Omega)*cos(i)*cos(omega)**3 - 8*a**4*e**2*sin(Omega)**2*sin(i)**2*sin(omega)**2 + 8*a**4*e**2*sin(Omega)**2*sin(omega)**2 - 4*a**4*e**2*sin(Omega)**2 - 8*a**4*e**2*sin(Omega)*sin(i)**2*sin(omega)**3*cos(Omega)*cos(i)*cos(omega) - 8*a**4*e**2*sin(Omega)*sin(i)**2*sin(omega)*cos(Omega)*cos(i)*cos(omega)**3 - 8*a**4*e**2*sin(Omega)*sin(omega)**3*cos(Omega)**3*cos(i)**3*cos(omega) - 8*a**4*e**2*sin(Omega)*sin(omega)*cos(Omega)**3*cos(i)**3*cos(omega)**3 - 4*a**4*e**2*sin(omega)**2 + 4*a**4*e**2 + a**4*sin(Omega)**4*sin(i)**4*sin(omega)**2 - a**4*sin(Omega)**4*sin(i)**4 - 2*a**4*sin(Omega)**4*sin(i)**2*sin(omega)**2 + a**4*sin(Omega)**4*sin(i)**2 + 2*a**4*sin(Omega)**3*sin(omega)**3*cos(Omega)*cos(i)*cos(omega) + 2*a**4*sin(Omega)**3*sin(omega)*cos(Omega)*cos(i)*cos(omega)**3 + 2*a**4*sin(Omega)**2*sin(i)**2*sin(omega)**2 - 2*a**4*sin(Omega)**2*sin(omega)**2 + a**4*sin(Omega)**2 + 2*a**4*sin(Omega)*sin(i)**2*sin(omega)**3*cos(Omega)*cos(i)*cos(omega) + 2*a**4*sin(Omega)*sin(i)**2*sin(omega)*cos(Omega)*cos(i)*cos(omega)**3 + 2*a**4*sin(Omega)*sin(omega)**3*cos(Omega)**3*cos(i)**3*cos(omega) + 2*a**4*sin(Omega)*sin(omega)*cos(Omega)**3*cos(i)**3*cos(omega)**3 + a**4*sin(omega)**2 - a**4)/(Re**4*e**4 - 4*Re**2*a**2*e**6*sin(Omega)**2*sin(i)**2*sin(omega)**2 + 2*Re**2*a**2*e**6*sin(Omega)**2*sin(i)**2 + 8*Re**2*a**2*e**6*sin(Omega)**2*sin(omega)**2 - 4*Re**2*a**2*e**6*sin(Omega)**2 - 8*Re**2*a**2*e**6*sin(Omega)*sin(omega)*cos(Omega)*cos(i)*cos(omega) - 4*Re**2*a**2*e**6*sin(omega)**2 + 2*Re**2*a**2*e**6 + 8*Re**2*a**2*e**4*sin(Omega)**2*sin(i)**2*sin(omega)**2 - 4*Re**2*a**2*e**4*sin(Omega)**2*sin(i)**2 - 16*Re**2*a**2*e**4*sin(Omega)**2*sin(omega)**2 + 8*Re**2*a**2*e**4*sin(Omega)**2 + 16*Re**2*a**2*e**4*sin(Omega)*sin(omega)*cos(Omega)*cos(i)*cos(omega) + 8*Re**2*a**2*e**4*sin(omega)**2 - 4*Re**2*a**2*e**4 - 4*Re**2*a**2*e**2*sin(Omega)**2*sin(i)**2*sin(omega)**2 + 2*Re**2*a**2*e**2*sin(Omega)**2*sin(i)**2 + 8*Re**2*a**2*e**2*sin(Omega)**2*sin(omega)**2 - 4*Re**2*a**2*e**2*sin(Omega)**2 - 8*Re**2*a**2*e**2*sin(Omega)*sin(omega)*cos(Omega)*cos(i)*cos(omega) - 4*Re**2*a**2*e**2*sin(omega)**2 + 2*Re**2*a**2*e**2 + a**4*e**8*sin(Omega)**4*sin(i)**4 - 2*a**4*e**8*sin(Omega)**2*sin(i)**2 + a**4*e**8 - 4*a**4*e**6*sin(Omega)**4*sin(i)**4 + 8*a**4*e**6*sin(Omega)**2*sin(i)**2 - 4*a**4*e**6 + 6*a**4*e**4*sin(Omega)**4*sin(i)**4 - 12*a**4*e**4*sin(Omega)**2*sin(i)**2 + 6*a**4*e**4 - 4*a**4*e**2*sin(Omega)**4*sin(i)**4 + 8*a**4*e**2*sin(Omega)**2*sin(i)**2 - 4*a**4*e**2 + a**4*sin(Omega)**4*sin(i)**4 - 2*a**4*sin(Omega)**2*sin(i)**2 + a**4)"
      ]
     },
     "execution_count": 90,
     "metadata": {},
     "output_type": "execute_result"
    }
   ],
   "source": [
    "sp.simplify(eclipseEqn5Coeffs[2]/eclipseEqn5Coeffs[0])"
   ]
  },
  {
   "cell_type": "code",
   "execution_count": 91,
   "id": "6b48319b",
   "metadata": {},
   "outputs": [
    {
     "data": {
      "text/latex": [
       "$\\displaystyle \\frac{4 Re^{2} e \\left(Re^{2} + \\frac{a^{2} e^{4} \\left(\\cos{\\left(- 2 \\Omega + i + 2 \\omega \\right)} - \\cos{\\left(2 \\Omega - i + 2 \\omega \\right)} + \\cos{\\left(2 \\Omega + i - 2 \\omega \\right)} - \\cos{\\left(2 \\Omega + i + 2 \\omega \\right)}\\right)}{8} - a^{2} e^{4} \\sin^{2}{\\left(\\Omega \\right)} \\sin^{2}{\\left(\\omega \\right)} - a^{2} e^{4} \\sin^{2}{\\left(i \\right)} \\cos^{2}{\\left(\\omega \\right)} - a^{2} e^{4} \\cos^{2}{\\left(\\Omega \\right)} \\cos^{2}{\\left(i \\right)} \\cos^{2}{\\left(\\omega \\right)} - \\frac{a^{2} e^{2} \\left(\\cos{\\left(- 2 \\Omega + i + 2 \\omega \\right)} - \\cos{\\left(2 \\Omega - i + 2 \\omega \\right)} + \\cos{\\left(2 \\Omega + i - 2 \\omega \\right)} - \\cos{\\left(2 \\Omega + i + 2 \\omega \\right)}\\right)}{4} + 2 a^{2} e^{2} \\sin^{2}{\\left(\\Omega \\right)} \\sin^{2}{\\left(\\omega \\right)} + 2 a^{2} e^{2} \\sin^{2}{\\left(i \\right)} \\cos^{2}{\\left(\\omega \\right)} + 2 a^{2} e^{2} \\cos^{2}{\\left(\\Omega \\right)} \\cos^{2}{\\left(i \\right)} \\cos^{2}{\\left(\\omega \\right)} + \\frac{a^{2} \\left(\\cos{\\left(- 2 \\Omega + i + 2 \\omega \\right)} - \\cos{\\left(2 \\Omega - i + 2 \\omega \\right)} + \\cos{\\left(2 \\Omega + i - 2 \\omega \\right)} - \\cos{\\left(2 \\Omega + i + 2 \\omega \\right)}\\right)}{8} - a^{2} \\sin^{2}{\\left(\\Omega \\right)} \\sin^{2}{\\left(\\omega \\right)} - a^{2} \\sin^{2}{\\left(i \\right)} \\cos^{2}{\\left(\\omega \\right)} - a^{2} \\cos^{2}{\\left(\\Omega \\right)} \\cos^{2}{\\left(i \\right)} \\cos^{2}{\\left(\\omega \\right)}\\right)}{Re^{4} e^{4} - 4 Re^{2} a^{2} e^{6} \\sin^{2}{\\left(\\Omega \\right)} \\sin^{2}{\\left(i \\right)} \\sin^{2}{\\left(\\omega \\right)} + 2 Re^{2} a^{2} e^{6} \\sin^{2}{\\left(\\Omega \\right)} \\sin^{2}{\\left(i \\right)} + 8 Re^{2} a^{2} e^{6} \\sin^{2}{\\left(\\Omega \\right)} \\sin^{2}{\\left(\\omega \\right)} - 4 Re^{2} a^{2} e^{6} \\sin^{2}{\\left(\\Omega \\right)} - 8 Re^{2} a^{2} e^{6} \\sin{\\left(\\Omega \\right)} \\sin{\\left(\\omega \\right)} \\cos{\\left(\\Omega \\right)} \\cos{\\left(i \\right)} \\cos{\\left(\\omega \\right)} - 4 Re^{2} a^{2} e^{6} \\sin^{2}{\\left(\\omega \\right)} + 2 Re^{2} a^{2} e^{6} + 8 Re^{2} a^{2} e^{4} \\sin^{2}{\\left(\\Omega \\right)} \\sin^{2}{\\left(i \\right)} \\sin^{2}{\\left(\\omega \\right)} - 4 Re^{2} a^{2} e^{4} \\sin^{2}{\\left(\\Omega \\right)} \\sin^{2}{\\left(i \\right)} - 16 Re^{2} a^{2} e^{4} \\sin^{2}{\\left(\\Omega \\right)} \\sin^{2}{\\left(\\omega \\right)} + 8 Re^{2} a^{2} e^{4} \\sin^{2}{\\left(\\Omega \\right)} + 16 Re^{2} a^{2} e^{4} \\sin{\\left(\\Omega \\right)} \\sin{\\left(\\omega \\right)} \\cos{\\left(\\Omega \\right)} \\cos{\\left(i \\right)} \\cos{\\left(\\omega \\right)} + 8 Re^{2} a^{2} e^{4} \\sin^{2}{\\left(\\omega \\right)} - 4 Re^{2} a^{2} e^{4} - 4 Re^{2} a^{2} e^{2} \\sin^{2}{\\left(\\Omega \\right)} \\sin^{2}{\\left(i \\right)} \\sin^{2}{\\left(\\omega \\right)} + 2 Re^{2} a^{2} e^{2} \\sin^{2}{\\left(\\Omega \\right)} \\sin^{2}{\\left(i \\right)} + 8 Re^{2} a^{2} e^{2} \\sin^{2}{\\left(\\Omega \\right)} \\sin^{2}{\\left(\\omega \\right)} - 4 Re^{2} a^{2} e^{2} \\sin^{2}{\\left(\\Omega \\right)} - 8 Re^{2} a^{2} e^{2} \\sin{\\left(\\Omega \\right)} \\sin{\\left(\\omega \\right)} \\cos{\\left(\\Omega \\right)} \\cos{\\left(i \\right)} \\cos{\\left(\\omega \\right)} - 4 Re^{2} a^{2} e^{2} \\sin^{2}{\\left(\\omega \\right)} + 2 Re^{2} a^{2} e^{2} + a^{4} e^{8} \\sin^{4}{\\left(\\Omega \\right)} \\sin^{4}{\\left(i \\right)} - 2 a^{4} e^{8} \\sin^{2}{\\left(\\Omega \\right)} \\sin^{2}{\\left(i \\right)} + a^{4} e^{8} - 4 a^{4} e^{6} \\sin^{4}{\\left(\\Omega \\right)} \\sin^{4}{\\left(i \\right)} + 8 a^{4} e^{6} \\sin^{2}{\\left(\\Omega \\right)} \\sin^{2}{\\left(i \\right)} - 4 a^{4} e^{6} + 6 a^{4} e^{4} \\sin^{4}{\\left(\\Omega \\right)} \\sin^{4}{\\left(i \\right)} - 12 a^{4} e^{4} \\sin^{2}{\\left(\\Omega \\right)} \\sin^{2}{\\left(i \\right)} + 6 a^{4} e^{4} - 4 a^{4} e^{2} \\sin^{4}{\\left(\\Omega \\right)} \\sin^{4}{\\left(i \\right)} + 8 a^{4} e^{2} \\sin^{2}{\\left(\\Omega \\right)} \\sin^{2}{\\left(i \\right)} - 4 a^{4} e^{2} + a^{4} \\sin^{4}{\\left(\\Omega \\right)} \\sin^{4}{\\left(i \\right)} - 2 a^{4} \\sin^{2}{\\left(\\Omega \\right)} \\sin^{2}{\\left(i \\right)} + a^{4}}$"
      ],
      "text/plain": [
       "4*Re**2*e*(Re**2 + a**2*e**4*(cos(-2*Omega + i + 2*omega) - cos(2*Omega - i + 2*omega) + cos(2*Omega + i - 2*omega) - cos(2*Omega + i + 2*omega))/8 - a**2*e**4*sin(Omega)**2*sin(omega)**2 - a**2*e**4*sin(i)**2*cos(omega)**2 - a**2*e**4*cos(Omega)**2*cos(i)**2*cos(omega)**2 - a**2*e**2*(cos(-2*Omega + i + 2*omega) - cos(2*Omega - i + 2*omega) + cos(2*Omega + i - 2*omega) - cos(2*Omega + i + 2*omega))/4 + 2*a**2*e**2*sin(Omega)**2*sin(omega)**2 + 2*a**2*e**2*sin(i)**2*cos(omega)**2 + 2*a**2*e**2*cos(Omega)**2*cos(i)**2*cos(omega)**2 + a**2*(cos(-2*Omega + i + 2*omega) - cos(2*Omega - i + 2*omega) + cos(2*Omega + i - 2*omega) - cos(2*Omega + i + 2*omega))/8 - a**2*sin(Omega)**2*sin(omega)**2 - a**2*sin(i)**2*cos(omega)**2 - a**2*cos(Omega)**2*cos(i)**2*cos(omega)**2)/(Re**4*e**4 - 4*Re**2*a**2*e**6*sin(Omega)**2*sin(i)**2*sin(omega)**2 + 2*Re**2*a**2*e**6*sin(Omega)**2*sin(i)**2 + 8*Re**2*a**2*e**6*sin(Omega)**2*sin(omega)**2 - 4*Re**2*a**2*e**6*sin(Omega)**2 - 8*Re**2*a**2*e**6*sin(Omega)*sin(omega)*cos(Omega)*cos(i)*cos(omega) - 4*Re**2*a**2*e**6*sin(omega)**2 + 2*Re**2*a**2*e**6 + 8*Re**2*a**2*e**4*sin(Omega)**2*sin(i)**2*sin(omega)**2 - 4*Re**2*a**2*e**4*sin(Omega)**2*sin(i)**2 - 16*Re**2*a**2*e**4*sin(Omega)**2*sin(omega)**2 + 8*Re**2*a**2*e**4*sin(Omega)**2 + 16*Re**2*a**2*e**4*sin(Omega)*sin(omega)*cos(Omega)*cos(i)*cos(omega) + 8*Re**2*a**2*e**4*sin(omega)**2 - 4*Re**2*a**2*e**4 - 4*Re**2*a**2*e**2*sin(Omega)**2*sin(i)**2*sin(omega)**2 + 2*Re**2*a**2*e**2*sin(Omega)**2*sin(i)**2 + 8*Re**2*a**2*e**2*sin(Omega)**2*sin(omega)**2 - 4*Re**2*a**2*e**2*sin(Omega)**2 - 8*Re**2*a**2*e**2*sin(Omega)*sin(omega)*cos(Omega)*cos(i)*cos(omega) - 4*Re**2*a**2*e**2*sin(omega)**2 + 2*Re**2*a**2*e**2 + a**4*e**8*sin(Omega)**4*sin(i)**4 - 2*a**4*e**8*sin(Omega)**2*sin(i)**2 + a**4*e**8 - 4*a**4*e**6*sin(Omega)**4*sin(i)**4 + 8*a**4*e**6*sin(Omega)**2*sin(i)**2 - 4*a**4*e**6 + 6*a**4*e**4*sin(Omega)**4*sin(i)**4 - 12*a**4*e**4*sin(Omega)**2*sin(i)**2 + 6*a**4*e**4 - 4*a**4*e**2*sin(Omega)**4*sin(i)**4 + 8*a**4*e**2*sin(Omega)**2*sin(i)**2 - 4*a**4*e**2 + a**4*sin(Omega)**4*sin(i)**4 - 2*a**4*sin(Omega)**2*sin(i)**2 + a**4)"
      ]
     },
     "execution_count": 91,
     "metadata": {},
     "output_type": "execute_result"
    }
   ],
   "source": [
    "sp.simplify(eclipseEqn5Coeffs[3]/eclipseEqn5Coeffs[0])"
   ]
  },
  {
   "cell_type": "code",
   "execution_count": 92,
   "id": "5d800a21",
   "metadata": {},
   "outputs": [
    {
     "data": {
      "text/latex": [
       "$\\displaystyle \\frac{Re^{4} + \\frac{Re^{2} a^{2} e^{4} \\left(\\cos{\\left(- 2 \\Omega + i + 2 \\omega \\right)} - \\cos{\\left(2 \\Omega - i + 2 \\omega \\right)} + \\cos{\\left(2 \\Omega + i - 2 \\omega \\right)} - \\cos{\\left(2 \\Omega + i + 2 \\omega \\right)}\\right)}{4} - 2 Re^{2} a^{2} e^{4} \\sin^{2}{\\left(\\Omega \\right)} \\sin^{2}{\\left(\\omega \\right)} - 2 Re^{2} a^{2} e^{4} \\sin^{2}{\\left(i \\right)} \\cos^{2}{\\left(\\omega \\right)} - 2 Re^{2} a^{2} e^{4} \\cos^{2}{\\left(\\Omega \\right)} \\cos^{2}{\\left(i \\right)} \\cos^{2}{\\left(\\omega \\right)} - \\frac{Re^{2} a^{2} e^{2} \\left(\\cos{\\left(- 2 \\Omega + i + 2 \\omega \\right)} - \\cos{\\left(2 \\Omega - i + 2 \\omega \\right)} + \\cos{\\left(2 \\Omega + i - 2 \\omega \\right)} - \\cos{\\left(2 \\Omega + i + 2 \\omega \\right)}\\right)}{2} + 4 Re^{2} a^{2} e^{2} \\sin^{2}{\\left(\\Omega \\right)} \\sin^{2}{\\left(\\omega \\right)} + 4 Re^{2} a^{2} e^{2} \\sin^{2}{\\left(i \\right)} \\cos^{2}{\\left(\\omega \\right)} + 4 Re^{2} a^{2} e^{2} \\cos^{2}{\\left(\\Omega \\right)} \\cos^{2}{\\left(i \\right)} \\cos^{2}{\\left(\\omega \\right)} + \\frac{Re^{2} a^{2} \\left(\\cos{\\left(- 2 \\Omega + i + 2 \\omega \\right)} - \\cos{\\left(2 \\Omega - i + 2 \\omega \\right)} + \\cos{\\left(2 \\Omega + i - 2 \\omega \\right)} - \\cos{\\left(2 \\Omega + i + 2 \\omega \\right)}\\right)}{4} - 2 Re^{2} a^{2} \\sin^{2}{\\left(\\Omega \\right)} \\sin^{2}{\\left(\\omega \\right)} - 2 Re^{2} a^{2} \\sin^{2}{\\left(i \\right)} \\cos^{2}{\\left(\\omega \\right)} - 2 Re^{2} a^{2} \\cos^{2}{\\left(\\Omega \\right)} \\cos^{2}{\\left(i \\right)} \\cos^{2}{\\left(\\omega \\right)} + a^{4} e^{8} \\sin^{4}{\\left(\\Omega \\right)} \\sin^{4}{\\left(\\omega \\right)} - 4 a^{4} e^{8} \\sin^{3}{\\left(\\Omega \\right)} \\sin^{3}{\\left(\\omega \\right)} \\cos{\\left(\\Omega \\right)} \\cos{\\left(i \\right)} \\cos{\\left(\\omega \\right)} + 2 a^{4} e^{8} \\sin^{2}{\\left(\\Omega \\right)} \\sin^{2}{\\left(i \\right)} \\sin^{2}{\\left(\\omega \\right)} \\cos^{2}{\\left(\\omega \\right)} + 6 a^{4} e^{8} \\sin^{2}{\\left(\\Omega \\right)} \\sin^{2}{\\left(\\omega \\right)} \\cos^{2}{\\left(\\Omega \\right)} \\cos^{2}{\\left(i \\right)} \\cos^{2}{\\left(\\omega \\right)} - 4 a^{4} e^{8} \\sin{\\left(\\Omega \\right)} \\sin^{2}{\\left(i \\right)} \\sin{\\left(\\omega \\right)} \\cos{\\left(\\Omega \\right)} \\cos{\\left(i \\right)} \\cos^{3}{\\left(\\omega \\right)} - 4 a^{4} e^{8} \\sin{\\left(\\Omega \\right)} \\sin{\\left(\\omega \\right)} \\cos^{3}{\\left(\\Omega \\right)} \\cos^{3}{\\left(i \\right)} \\cos^{3}{\\left(\\omega \\right)} + a^{4} e^{8} \\sin^{4}{\\left(i \\right)} \\cos^{4}{\\left(\\omega \\right)} + 2 a^{4} e^{8} \\sin^{2}{\\left(i \\right)} \\cos^{2}{\\left(\\Omega \\right)} \\cos^{2}{\\left(i \\right)} \\cos^{4}{\\left(\\omega \\right)} + a^{4} e^{8} \\cos^{4}{\\left(\\Omega \\right)} \\cos^{4}{\\left(i \\right)} \\cos^{4}{\\left(\\omega \\right)} - 4 a^{4} e^{6} \\sin^{4}{\\left(\\Omega \\right)} \\sin^{4}{\\left(\\omega \\right)} + 16 a^{4} e^{6} \\sin^{3}{\\left(\\Omega \\right)} \\sin^{3}{\\left(\\omega \\right)} \\cos{\\left(\\Omega \\right)} \\cos{\\left(i \\right)} \\cos{\\left(\\omega \\right)} - 8 a^{4} e^{6} \\sin^{2}{\\left(\\Omega \\right)} \\sin^{2}{\\left(i \\right)} \\sin^{2}{\\left(\\omega \\right)} \\cos^{2}{\\left(\\omega \\right)} - 24 a^{4} e^{6} \\sin^{2}{\\left(\\Omega \\right)} \\sin^{2}{\\left(\\omega \\right)} \\cos^{2}{\\left(\\Omega \\right)} \\cos^{2}{\\left(i \\right)} \\cos^{2}{\\left(\\omega \\right)} + 16 a^{4} e^{6} \\sin{\\left(\\Omega \\right)} \\sin^{2}{\\left(i \\right)} \\sin{\\left(\\omega \\right)} \\cos{\\left(\\Omega \\right)} \\cos{\\left(i \\right)} \\cos^{3}{\\left(\\omega \\right)} + 16 a^{4} e^{6} \\sin{\\left(\\Omega \\right)} \\sin{\\left(\\omega \\right)} \\cos^{3}{\\left(\\Omega \\right)} \\cos^{3}{\\left(i \\right)} \\cos^{3}{\\left(\\omega \\right)} - 4 a^{4} e^{6} \\sin^{4}{\\left(i \\right)} \\cos^{4}{\\left(\\omega \\right)} - 8 a^{4} e^{6} \\sin^{2}{\\left(i \\right)} \\cos^{2}{\\left(\\Omega \\right)} \\cos^{2}{\\left(i \\right)} \\cos^{4}{\\left(\\omega \\right)} - 4 a^{4} e^{6} \\cos^{4}{\\left(\\Omega \\right)} \\cos^{4}{\\left(i \\right)} \\cos^{4}{\\left(\\omega \\right)} + 6 a^{4} e^{4} \\sin^{4}{\\left(\\Omega \\right)} \\sin^{4}{\\left(\\omega \\right)} - 24 a^{4} e^{4} \\sin^{3}{\\left(\\Omega \\right)} \\sin^{3}{\\left(\\omega \\right)} \\cos{\\left(\\Omega \\right)} \\cos{\\left(i \\right)} \\cos{\\left(\\omega \\right)} + 12 a^{4} e^{4} \\sin^{2}{\\left(\\Omega \\right)} \\sin^{2}{\\left(i \\right)} \\sin^{2}{\\left(\\omega \\right)} \\cos^{2}{\\left(\\omega \\right)} + 36 a^{4} e^{4} \\sin^{2}{\\left(\\Omega \\right)} \\sin^{2}{\\left(\\omega \\right)} \\cos^{2}{\\left(\\Omega \\right)} \\cos^{2}{\\left(i \\right)} \\cos^{2}{\\left(\\omega \\right)} - 24 a^{4} e^{4} \\sin{\\left(\\Omega \\right)} \\sin^{2}{\\left(i \\right)} \\sin{\\left(\\omega \\right)} \\cos{\\left(\\Omega \\right)} \\cos{\\left(i \\right)} \\cos^{3}{\\left(\\omega \\right)} - 24 a^{4} e^{4} \\sin{\\left(\\Omega \\right)} \\sin{\\left(\\omega \\right)} \\cos^{3}{\\left(\\Omega \\right)} \\cos^{3}{\\left(i \\right)} \\cos^{3}{\\left(\\omega \\right)} + 6 a^{4} e^{4} \\sin^{4}{\\left(i \\right)} \\cos^{4}{\\left(\\omega \\right)} + 12 a^{4} e^{4} \\sin^{2}{\\left(i \\right)} \\cos^{2}{\\left(\\Omega \\right)} \\cos^{2}{\\left(i \\right)} \\cos^{4}{\\left(\\omega \\right)} + 6 a^{4} e^{4} \\cos^{4}{\\left(\\Omega \\right)} \\cos^{4}{\\left(i \\right)} \\cos^{4}{\\left(\\omega \\right)} - 4 a^{4} e^{2} \\sin^{4}{\\left(\\Omega \\right)} \\sin^{4}{\\left(\\omega \\right)} + 16 a^{4} e^{2} \\sin^{3}{\\left(\\Omega \\right)} \\sin^{3}{\\left(\\omega \\right)} \\cos{\\left(\\Omega \\right)} \\cos{\\left(i \\right)} \\cos{\\left(\\omega \\right)} - 8 a^{4} e^{2} \\sin^{2}{\\left(\\Omega \\right)} \\sin^{2}{\\left(i \\right)} \\sin^{2}{\\left(\\omega \\right)} \\cos^{2}{\\left(\\omega \\right)} - 24 a^{4} e^{2} \\sin^{2}{\\left(\\Omega \\right)} \\sin^{2}{\\left(\\omega \\right)} \\cos^{2}{\\left(\\Omega \\right)} \\cos^{2}{\\left(i \\right)} \\cos^{2}{\\left(\\omega \\right)} + 16 a^{4} e^{2} \\sin{\\left(\\Omega \\right)} \\sin^{2}{\\left(i \\right)} \\sin{\\left(\\omega \\right)} \\cos{\\left(\\Omega \\right)} \\cos{\\left(i \\right)} \\cos^{3}{\\left(\\omega \\right)} + 16 a^{4} e^{2} \\sin{\\left(\\Omega \\right)} \\sin{\\left(\\omega \\right)} \\cos^{3}{\\left(\\Omega \\right)} \\cos^{3}{\\left(i \\right)} \\cos^{3}{\\left(\\omega \\right)} - 4 a^{4} e^{2} \\sin^{4}{\\left(i \\right)} \\cos^{4}{\\left(\\omega \\right)} - 8 a^{4} e^{2} \\sin^{2}{\\left(i \\right)} \\cos^{2}{\\left(\\Omega \\right)} \\cos^{2}{\\left(i \\right)} \\cos^{4}{\\left(\\omega \\right)} - 4 a^{4} e^{2} \\cos^{4}{\\left(\\Omega \\right)} \\cos^{4}{\\left(i \\right)} \\cos^{4}{\\left(\\omega \\right)} + a^{4} \\sin^{4}{\\left(\\Omega \\right)} \\sin^{4}{\\left(\\omega \\right)} - 4 a^{4} \\sin^{3}{\\left(\\Omega \\right)} \\sin^{3}{\\left(\\omega \\right)} \\cos{\\left(\\Omega \\right)} \\cos{\\left(i \\right)} \\cos{\\left(\\omega \\right)} + 2 a^{4} \\sin^{2}{\\left(\\Omega \\right)} \\sin^{2}{\\left(i \\right)} \\sin^{2}{\\left(\\omega \\right)} \\cos^{2}{\\left(\\omega \\right)} + 6 a^{4} \\sin^{2}{\\left(\\Omega \\right)} \\sin^{2}{\\left(\\omega \\right)} \\cos^{2}{\\left(\\Omega \\right)} \\cos^{2}{\\left(i \\right)} \\cos^{2}{\\left(\\omega \\right)} - 4 a^{4} \\sin{\\left(\\Omega \\right)} \\sin^{2}{\\left(i \\right)} \\sin{\\left(\\omega \\right)} \\cos{\\left(\\Omega \\right)} \\cos{\\left(i \\right)} \\cos^{3}{\\left(\\omega \\right)} - 4 a^{4} \\sin{\\left(\\Omega \\right)} \\sin{\\left(\\omega \\right)} \\cos^{3}{\\left(\\Omega \\right)} \\cos^{3}{\\left(i \\right)} \\cos^{3}{\\left(\\omega \\right)} + a^{4} \\sin^{4}{\\left(i \\right)} \\cos^{4}{\\left(\\omega \\right)} + 2 a^{4} \\sin^{2}{\\left(i \\right)} \\cos^{2}{\\left(\\Omega \\right)} \\cos^{2}{\\left(i \\right)} \\cos^{4}{\\left(\\omega \\right)} + a^{4} \\cos^{4}{\\left(\\Omega \\right)} \\cos^{4}{\\left(i \\right)} \\cos^{4}{\\left(\\omega \\right)}}{Re^{4} e^{4} - 4 Re^{2} a^{2} e^{6} \\sin^{2}{\\left(\\Omega \\right)} \\sin^{2}{\\left(i \\right)} \\sin^{2}{\\left(\\omega \\right)} + 2 Re^{2} a^{2} e^{6} \\sin^{2}{\\left(\\Omega \\right)} \\sin^{2}{\\left(i \\right)} + 8 Re^{2} a^{2} e^{6} \\sin^{2}{\\left(\\Omega \\right)} \\sin^{2}{\\left(\\omega \\right)} - 4 Re^{2} a^{2} e^{6} \\sin^{2}{\\left(\\Omega \\right)} - 8 Re^{2} a^{2} e^{6} \\sin{\\left(\\Omega \\right)} \\sin{\\left(\\omega \\right)} \\cos{\\left(\\Omega \\right)} \\cos{\\left(i \\right)} \\cos{\\left(\\omega \\right)} - 4 Re^{2} a^{2} e^{6} \\sin^{2}{\\left(\\omega \\right)} + 2 Re^{2} a^{2} e^{6} + 8 Re^{2} a^{2} e^{4} \\sin^{2}{\\left(\\Omega \\right)} \\sin^{2}{\\left(i \\right)} \\sin^{2}{\\left(\\omega \\right)} - 4 Re^{2} a^{2} e^{4} \\sin^{2}{\\left(\\Omega \\right)} \\sin^{2}{\\left(i \\right)} - 16 Re^{2} a^{2} e^{4} \\sin^{2}{\\left(\\Omega \\right)} \\sin^{2}{\\left(\\omega \\right)} + 8 Re^{2} a^{2} e^{4} \\sin^{2}{\\left(\\Omega \\right)} + 16 Re^{2} a^{2} e^{4} \\sin{\\left(\\Omega \\right)} \\sin{\\left(\\omega \\right)} \\cos{\\left(\\Omega \\right)} \\cos{\\left(i \\right)} \\cos{\\left(\\omega \\right)} + 8 Re^{2} a^{2} e^{4} \\sin^{2}{\\left(\\omega \\right)} - 4 Re^{2} a^{2} e^{4} - 4 Re^{2} a^{2} e^{2} \\sin^{2}{\\left(\\Omega \\right)} \\sin^{2}{\\left(i \\right)} \\sin^{2}{\\left(\\omega \\right)} + 2 Re^{2} a^{2} e^{2} \\sin^{2}{\\left(\\Omega \\right)} \\sin^{2}{\\left(i \\right)} + 8 Re^{2} a^{2} e^{2} \\sin^{2}{\\left(\\Omega \\right)} \\sin^{2}{\\left(\\omega \\right)} - 4 Re^{2} a^{2} e^{2} \\sin^{2}{\\left(\\Omega \\right)} - 8 Re^{2} a^{2} e^{2} \\sin{\\left(\\Omega \\right)} \\sin{\\left(\\omega \\right)} \\cos{\\left(\\Omega \\right)} \\cos{\\left(i \\right)} \\cos{\\left(\\omega \\right)} - 4 Re^{2} a^{2} e^{2} \\sin^{2}{\\left(\\omega \\right)} + 2 Re^{2} a^{2} e^{2} + a^{4} e^{8} \\sin^{4}{\\left(\\Omega \\right)} \\sin^{4}{\\left(i \\right)} - 2 a^{4} e^{8} \\sin^{2}{\\left(\\Omega \\right)} \\sin^{2}{\\left(i \\right)} + a^{4} e^{8} - 4 a^{4} e^{6} \\sin^{4}{\\left(\\Omega \\right)} \\sin^{4}{\\left(i \\right)} + 8 a^{4} e^{6} \\sin^{2}{\\left(\\Omega \\right)} \\sin^{2}{\\left(i \\right)} - 4 a^{4} e^{6} + 6 a^{4} e^{4} \\sin^{4}{\\left(\\Omega \\right)} \\sin^{4}{\\left(i \\right)} - 12 a^{4} e^{4} \\sin^{2}{\\left(\\Omega \\right)} \\sin^{2}{\\left(i \\right)} + 6 a^{4} e^{4} - 4 a^{4} e^{2} \\sin^{4}{\\left(\\Omega \\right)} \\sin^{4}{\\left(i \\right)} + 8 a^{4} e^{2} \\sin^{2}{\\left(\\Omega \\right)} \\sin^{2}{\\left(i \\right)} - 4 a^{4} e^{2} + a^{4} \\sin^{4}{\\left(\\Omega \\right)} \\sin^{4}{\\left(i \\right)} - 2 a^{4} \\sin^{2}{\\left(\\Omega \\right)} \\sin^{2}{\\left(i \\right)} + a^{4}}$"
      ],
      "text/plain": [
       "(Re**4 + Re**2*a**2*e**4*(cos(-2*Omega + i + 2*omega) - cos(2*Omega - i + 2*omega) + cos(2*Omega + i - 2*omega) - cos(2*Omega + i + 2*omega))/4 - 2*Re**2*a**2*e**4*sin(Omega)**2*sin(omega)**2 - 2*Re**2*a**2*e**4*sin(i)**2*cos(omega)**2 - 2*Re**2*a**2*e**4*cos(Omega)**2*cos(i)**2*cos(omega)**2 - Re**2*a**2*e**2*(cos(-2*Omega + i + 2*omega) - cos(2*Omega - i + 2*omega) + cos(2*Omega + i - 2*omega) - cos(2*Omega + i + 2*omega))/2 + 4*Re**2*a**2*e**2*sin(Omega)**2*sin(omega)**2 + 4*Re**2*a**2*e**2*sin(i)**2*cos(omega)**2 + 4*Re**2*a**2*e**2*cos(Omega)**2*cos(i)**2*cos(omega)**2 + Re**2*a**2*(cos(-2*Omega + i + 2*omega) - cos(2*Omega - i + 2*omega) + cos(2*Omega + i - 2*omega) - cos(2*Omega + i + 2*omega))/4 - 2*Re**2*a**2*sin(Omega)**2*sin(omega)**2 - 2*Re**2*a**2*sin(i)**2*cos(omega)**2 - 2*Re**2*a**2*cos(Omega)**2*cos(i)**2*cos(omega)**2 + a**4*e**8*sin(Omega)**4*sin(omega)**4 - 4*a**4*e**8*sin(Omega)**3*sin(omega)**3*cos(Omega)*cos(i)*cos(omega) + 2*a**4*e**8*sin(Omega)**2*sin(i)**2*sin(omega)**2*cos(omega)**2 + 6*a**4*e**8*sin(Omega)**2*sin(omega)**2*cos(Omega)**2*cos(i)**2*cos(omega)**2 - 4*a**4*e**8*sin(Omega)*sin(i)**2*sin(omega)*cos(Omega)*cos(i)*cos(omega)**3 - 4*a**4*e**8*sin(Omega)*sin(omega)*cos(Omega)**3*cos(i)**3*cos(omega)**3 + a**4*e**8*sin(i)**4*cos(omega)**4 + 2*a**4*e**8*sin(i)**2*cos(Omega)**2*cos(i)**2*cos(omega)**4 + a**4*e**8*cos(Omega)**4*cos(i)**4*cos(omega)**4 - 4*a**4*e**6*sin(Omega)**4*sin(omega)**4 + 16*a**4*e**6*sin(Omega)**3*sin(omega)**3*cos(Omega)*cos(i)*cos(omega) - 8*a**4*e**6*sin(Omega)**2*sin(i)**2*sin(omega)**2*cos(omega)**2 - 24*a**4*e**6*sin(Omega)**2*sin(omega)**2*cos(Omega)**2*cos(i)**2*cos(omega)**2 + 16*a**4*e**6*sin(Omega)*sin(i)**2*sin(omega)*cos(Omega)*cos(i)*cos(omega)**3 + 16*a**4*e**6*sin(Omega)*sin(omega)*cos(Omega)**3*cos(i)**3*cos(omega)**3 - 4*a**4*e**6*sin(i)**4*cos(omega)**4 - 8*a**4*e**6*sin(i)**2*cos(Omega)**2*cos(i)**2*cos(omega)**4 - 4*a**4*e**6*cos(Omega)**4*cos(i)**4*cos(omega)**4 + 6*a**4*e**4*sin(Omega)**4*sin(omega)**4 - 24*a**4*e**4*sin(Omega)**3*sin(omega)**3*cos(Omega)*cos(i)*cos(omega) + 12*a**4*e**4*sin(Omega)**2*sin(i)**2*sin(omega)**2*cos(omega)**2 + 36*a**4*e**4*sin(Omega)**2*sin(omega)**2*cos(Omega)**2*cos(i)**2*cos(omega)**2 - 24*a**4*e**4*sin(Omega)*sin(i)**2*sin(omega)*cos(Omega)*cos(i)*cos(omega)**3 - 24*a**4*e**4*sin(Omega)*sin(omega)*cos(Omega)**3*cos(i)**3*cos(omega)**3 + 6*a**4*e**4*sin(i)**4*cos(omega)**4 + 12*a**4*e**4*sin(i)**2*cos(Omega)**2*cos(i)**2*cos(omega)**4 + 6*a**4*e**4*cos(Omega)**4*cos(i)**4*cos(omega)**4 - 4*a**4*e**2*sin(Omega)**4*sin(omega)**4 + 16*a**4*e**2*sin(Omega)**3*sin(omega)**3*cos(Omega)*cos(i)*cos(omega) - 8*a**4*e**2*sin(Omega)**2*sin(i)**2*sin(omega)**2*cos(omega)**2 - 24*a**4*e**2*sin(Omega)**2*sin(omega)**2*cos(Omega)**2*cos(i)**2*cos(omega)**2 + 16*a**4*e**2*sin(Omega)*sin(i)**2*sin(omega)*cos(Omega)*cos(i)*cos(omega)**3 + 16*a**4*e**2*sin(Omega)*sin(omega)*cos(Omega)**3*cos(i)**3*cos(omega)**3 - 4*a**4*e**2*sin(i)**4*cos(omega)**4 - 8*a**4*e**2*sin(i)**2*cos(Omega)**2*cos(i)**2*cos(omega)**4 - 4*a**4*e**2*cos(Omega)**4*cos(i)**4*cos(omega)**4 + a**4*sin(Omega)**4*sin(omega)**4 - 4*a**4*sin(Omega)**3*sin(omega)**3*cos(Omega)*cos(i)*cos(omega) + 2*a**4*sin(Omega)**2*sin(i)**2*sin(omega)**2*cos(omega)**2 + 6*a**4*sin(Omega)**2*sin(omega)**2*cos(Omega)**2*cos(i)**2*cos(omega)**2 - 4*a**4*sin(Omega)*sin(i)**2*sin(omega)*cos(Omega)*cos(i)*cos(omega)**3 - 4*a**4*sin(Omega)*sin(omega)*cos(Omega)**3*cos(i)**3*cos(omega)**3 + a**4*sin(i)**4*cos(omega)**4 + 2*a**4*sin(i)**2*cos(Omega)**2*cos(i)**2*cos(omega)**4 + a**4*cos(Omega)**4*cos(i)**4*cos(omega)**4)/(Re**4*e**4 - 4*Re**2*a**2*e**6*sin(Omega)**2*sin(i)**2*sin(omega)**2 + 2*Re**2*a**2*e**6*sin(Omega)**2*sin(i)**2 + 8*Re**2*a**2*e**6*sin(Omega)**2*sin(omega)**2 - 4*Re**2*a**2*e**6*sin(Omega)**2 - 8*Re**2*a**2*e**6*sin(Omega)*sin(omega)*cos(Omega)*cos(i)*cos(omega) - 4*Re**2*a**2*e**6*sin(omega)**2 + 2*Re**2*a**2*e**6 + 8*Re**2*a**2*e**4*sin(Omega)**2*sin(i)**2*sin(omega)**2 - 4*Re**2*a**2*e**4*sin(Omega)**2*sin(i)**2 - 16*Re**2*a**2*e**4*sin(Omega)**2*sin(omega)**2 + 8*Re**2*a**2*e**4*sin(Omega)**2 + 16*Re**2*a**2*e**4*sin(Omega)*sin(omega)*cos(Omega)*cos(i)*cos(omega) + 8*Re**2*a**2*e**4*sin(omega)**2 - 4*Re**2*a**2*e**4 - 4*Re**2*a**2*e**2*sin(Omega)**2*sin(i)**2*sin(omega)**2 + 2*Re**2*a**2*e**2*sin(Omega)**2*sin(i)**2 + 8*Re**2*a**2*e**2*sin(Omega)**2*sin(omega)**2 - 4*Re**2*a**2*e**2*sin(Omega)**2 - 8*Re**2*a**2*e**2*sin(Omega)*sin(omega)*cos(Omega)*cos(i)*cos(omega) - 4*Re**2*a**2*e**2*sin(omega)**2 + 2*Re**2*a**2*e**2 + a**4*e**8*sin(Omega)**4*sin(i)**4 - 2*a**4*e**8*sin(Omega)**2*sin(i)**2 + a**4*e**8 - 4*a**4*e**6*sin(Omega)**4*sin(i)**4 + 8*a**4*e**6*sin(Omega)**2*sin(i)**2 - 4*a**4*e**6 + 6*a**4*e**4*sin(Omega)**4*sin(i)**4 - 12*a**4*e**4*sin(Omega)**2*sin(i)**2 + 6*a**4*e**4 - 4*a**4*e**2*sin(Omega)**4*sin(i)**4 + 8*a**4*e**2*sin(Omega)**2*sin(i)**2 - 4*a**4*e**2 + a**4*sin(Omega)**4*sin(i)**4 - 2*a**4*sin(Omega)**2*sin(i)**2 + a**4)"
      ]
     },
     "execution_count": 92,
     "metadata": {},
     "output_type": "execute_result"
    }
   ],
   "source": [
    "sp.simplify(eclipseEqn5Coeffs[4]/eclipseEqn5Coeffs[0])"
   ]
  },
  {
   "cell_type": "code",
   "execution_count": 93,
   "id": "8d2ea3ee",
   "metadata": {},
   "outputs": [],
   "source": [
    "#Okay it seems no simplification occurs so I will just use the original coefficients and divide"
   ]
  },
  {
   "cell_type": "code",
   "execution_count": null,
   "id": "bdcfa59d",
   "metadata": {},
   "outputs": [],
   "source": []
  },
  {
   "cell_type": "code",
   "execution_count": null,
   "id": "e371716d",
   "metadata": {},
   "outputs": [],
   "source": [
    "sp.expand(sp.simplify(eclipseEqn2*(e*x+1)**2)).subs(sp.sqrt(1-x**2),y)"
   ]
  },
  {
   "cell_type": "code",
   "execution_count": 19,
   "id": "2dae9292",
   "metadata": {},
   "outputs": [
    {
     "data": {
      "text/latex": [
       "$\\displaystyle - Re^{2} e^{2} x^{2} - 2 Re^{2} e x - Re^{2} + a^{2} e^{4} x^{2} \\sin^{2}{\\left(\\Omega \\right)} \\sin^{2}{\\left(\\omega \\right)} \\cos^{2}{\\left(i \\right)} - a^{2} e^{4} x^{2} \\sin^{2}{\\left(\\Omega \\right)} \\sin^{2}{\\left(\\omega \\right)} - a^{2} e^{4} x^{2} \\sin^{2}{\\left(\\Omega \\right)} \\cos^{2}{\\left(i \\right)} \\cos^{2}{\\left(\\omega \\right)} + a^{2} e^{4} x^{2} \\sin^{2}{\\left(\\Omega \\right)} \\cos^{2}{\\left(\\omega \\right)} + a^{2} e^{4} x^{2} \\sin^{2}{\\left(\\omega \\right)} \\cos^{2}{\\left(\\Omega \\right)} \\cos^{2}{\\left(i \\right)} - a^{2} e^{4} x^{2} \\sin^{2}{\\left(\\omega \\right)} \\cos^{2}{\\left(\\Omega \\right)} - a^{2} e^{4} x^{2} \\cos^{2}{\\left(\\Omega \\right)} \\cos^{2}{\\left(i \\right)} \\cos^{2}{\\left(\\omega \\right)} + a^{2} e^{4} x^{2} \\cos^{2}{\\left(\\Omega \\right)} \\cos^{2}{\\left(\\omega \\right)} + 2 a^{2} e^{4} x \\sqrt{1 - x^{2}} \\sin^{2}{\\left(\\Omega \\right)} \\sin{\\left(\\omega \\right)} \\cos^{2}{\\left(i \\right)} \\cos{\\left(\\omega \\right)} - 2 a^{2} e^{4} x \\sqrt{1 - x^{2}} \\sin^{2}{\\left(\\Omega \\right)} \\sin{\\left(\\omega \\right)} \\cos{\\left(\\omega \\right)} + 2 a^{2} e^{4} x \\sqrt{1 - x^{2}} \\sin{\\left(\\omega \\right)} \\cos^{2}{\\left(\\Omega \\right)} \\cos^{2}{\\left(i \\right)} \\cos{\\left(\\omega \\right)} - 2 a^{2} e^{4} x \\sqrt{1 - x^{2}} \\sin{\\left(\\omega \\right)} \\cos^{2}{\\left(\\Omega \\right)} \\cos{\\left(\\omega \\right)} + a^{2} e^{4} \\sin^{2}{\\left(\\Omega \\right)} \\sin^{2}{\\left(\\omega \\right)} + a^{2} e^{4} \\sin^{2}{\\left(\\Omega \\right)} \\cos^{2}{\\left(i \\right)} \\cos^{2}{\\left(\\omega \\right)} + a^{2} e^{4} \\sin^{2}{\\left(\\omega \\right)} \\cos^{2}{\\left(\\Omega \\right)} + a^{2} e^{4} \\cos^{2}{\\left(\\Omega \\right)} \\cos^{2}{\\left(i \\right)} \\cos^{2}{\\left(\\omega \\right)} - 2 a^{2} e^{2} x^{2} \\sin^{2}{\\left(\\Omega \\right)} \\sin^{2}{\\left(\\omega \\right)} \\cos^{2}{\\left(i \\right)} + 2 a^{2} e^{2} x^{2} \\sin^{2}{\\left(\\Omega \\right)} \\sin^{2}{\\left(\\omega \\right)} + 2 a^{2} e^{2} x^{2} \\sin^{2}{\\left(\\Omega \\right)} \\cos^{2}{\\left(i \\right)} \\cos^{2}{\\left(\\omega \\right)} - 2 a^{2} e^{2} x^{2} \\sin^{2}{\\left(\\Omega \\right)} \\cos^{2}{\\left(\\omega \\right)} - 2 a^{2} e^{2} x^{2} \\sin^{2}{\\left(\\omega \\right)} \\cos^{2}{\\left(\\Omega \\right)} \\cos^{2}{\\left(i \\right)} + 2 a^{2} e^{2} x^{2} \\sin^{2}{\\left(\\omega \\right)} \\cos^{2}{\\left(\\Omega \\right)} + 2 a^{2} e^{2} x^{2} \\cos^{2}{\\left(\\Omega \\right)} \\cos^{2}{\\left(i \\right)} \\cos^{2}{\\left(\\omega \\right)} - 2 a^{2} e^{2} x^{2} \\cos^{2}{\\left(\\Omega \\right)} \\cos^{2}{\\left(\\omega \\right)} - 4 a^{2} e^{2} x \\sqrt{1 - x^{2}} \\sin^{2}{\\left(\\Omega \\right)} \\sin{\\left(\\omega \\right)} \\cos^{2}{\\left(i \\right)} \\cos{\\left(\\omega \\right)} + 4 a^{2} e^{2} x \\sqrt{1 - x^{2}} \\sin^{2}{\\left(\\Omega \\right)} \\sin{\\left(\\omega \\right)} \\cos{\\left(\\omega \\right)} - 4 a^{2} e^{2} x \\sqrt{1 - x^{2}} \\sin{\\left(\\omega \\right)} \\cos^{2}{\\left(\\Omega \\right)} \\cos^{2}{\\left(i \\right)} \\cos{\\left(\\omega \\right)} + 4 a^{2} e^{2} x \\sqrt{1 - x^{2}} \\sin{\\left(\\omega \\right)} \\cos^{2}{\\left(\\Omega \\right)} \\cos{\\left(\\omega \\right)} - 2 a^{2} e^{2} \\sin^{2}{\\left(\\Omega \\right)} \\sin^{2}{\\left(\\omega \\right)} - 2 a^{2} e^{2} \\sin^{2}{\\left(\\Omega \\right)} \\cos^{2}{\\left(i \\right)} \\cos^{2}{\\left(\\omega \\right)} - 2 a^{2} e^{2} \\sin^{2}{\\left(\\omega \\right)} \\cos^{2}{\\left(\\Omega \\right)} - 2 a^{2} e^{2} \\cos^{2}{\\left(\\Omega \\right)} \\cos^{2}{\\left(i \\right)} \\cos^{2}{\\left(\\omega \\right)} + a^{2} x^{2} \\sin^{2}{\\left(\\Omega \\right)} \\sin^{2}{\\left(\\omega \\right)} \\cos^{2}{\\left(i \\right)} - a^{2} x^{2} \\sin^{2}{\\left(\\Omega \\right)} \\sin^{2}{\\left(\\omega \\right)} - a^{2} x^{2} \\sin^{2}{\\left(\\Omega \\right)} \\cos^{2}{\\left(i \\right)} \\cos^{2}{\\left(\\omega \\right)} + a^{2} x^{2} \\sin^{2}{\\left(\\Omega \\right)} \\cos^{2}{\\left(\\omega \\right)} + a^{2} x^{2} \\sin^{2}{\\left(\\omega \\right)} \\cos^{2}{\\left(\\Omega \\right)} \\cos^{2}{\\left(i \\right)} - a^{2} x^{2} \\sin^{2}{\\left(\\omega \\right)} \\cos^{2}{\\left(\\Omega \\right)} - a^{2} x^{2} \\cos^{2}{\\left(\\Omega \\right)} \\cos^{2}{\\left(i \\right)} \\cos^{2}{\\left(\\omega \\right)} + a^{2} x^{2} \\cos^{2}{\\left(\\Omega \\right)} \\cos^{2}{\\left(\\omega \\right)} + 2 a^{2} x \\sqrt{1 - x^{2}} \\sin^{2}{\\left(\\Omega \\right)} \\sin{\\left(\\omega \\right)} \\cos^{2}{\\left(i \\right)} \\cos{\\left(\\omega \\right)} - 2 a^{2} x \\sqrt{1 - x^{2}} \\sin^{2}{\\left(\\Omega \\right)} \\sin{\\left(\\omega \\right)} \\cos{\\left(\\omega \\right)} + 2 a^{2} x \\sqrt{1 - x^{2}} \\sin{\\left(\\omega \\right)} \\cos^{2}{\\left(\\Omega \\right)} \\cos^{2}{\\left(i \\right)} \\cos{\\left(\\omega \\right)} - 2 a^{2} x \\sqrt{1 - x^{2}} \\sin{\\left(\\omega \\right)} \\cos^{2}{\\left(\\Omega \\right)} \\cos{\\left(\\omega \\right)} + a^{2} \\sin^{2}{\\left(\\Omega \\right)} \\sin^{2}{\\left(\\omega \\right)} + a^{2} \\sin^{2}{\\left(\\Omega \\right)} \\cos^{2}{\\left(i \\right)} \\cos^{2}{\\left(\\omega \\right)} + a^{2} \\sin^{2}{\\left(\\omega \\right)} \\cos^{2}{\\left(\\Omega \\right)} + a^{2} \\cos^{2}{\\left(\\Omega \\right)} \\cos^{2}{\\left(i \\right)} \\cos^{2}{\\left(\\omega \\right)}$"
      ],
      "text/plain": [
       "-Re**2*e**2*x**2 - 2*Re**2*e*x - Re**2 + a**2*e**4*x**2*sin(Omega)**2*sin(omega)**2*cos(i)**2 - a**2*e**4*x**2*sin(Omega)**2*sin(omega)**2 - a**2*e**4*x**2*sin(Omega)**2*cos(i)**2*cos(omega)**2 + a**2*e**4*x**2*sin(Omega)**2*cos(omega)**2 + a**2*e**4*x**2*sin(omega)**2*cos(Omega)**2*cos(i)**2 - a**2*e**4*x**2*sin(omega)**2*cos(Omega)**2 - a**2*e**4*x**2*cos(Omega)**2*cos(i)**2*cos(omega)**2 + a**2*e**4*x**2*cos(Omega)**2*cos(omega)**2 + 2*a**2*e**4*x*sqrt(1 - x**2)*sin(Omega)**2*sin(omega)*cos(i)**2*cos(omega) - 2*a**2*e**4*x*sqrt(1 - x**2)*sin(Omega)**2*sin(omega)*cos(omega) + 2*a**2*e**4*x*sqrt(1 - x**2)*sin(omega)*cos(Omega)**2*cos(i)**2*cos(omega) - 2*a**2*e**4*x*sqrt(1 - x**2)*sin(omega)*cos(Omega)**2*cos(omega) + a**2*e**4*sin(Omega)**2*sin(omega)**2 + a**2*e**4*sin(Omega)**2*cos(i)**2*cos(omega)**2 + a**2*e**4*sin(omega)**2*cos(Omega)**2 + a**2*e**4*cos(Omega)**2*cos(i)**2*cos(omega)**2 - 2*a**2*e**2*x**2*sin(Omega)**2*sin(omega)**2*cos(i)**2 + 2*a**2*e**2*x**2*sin(Omega)**2*sin(omega)**2 + 2*a**2*e**2*x**2*sin(Omega)**2*cos(i)**2*cos(omega)**2 - 2*a**2*e**2*x**2*sin(Omega)**2*cos(omega)**2 - 2*a**2*e**2*x**2*sin(omega)**2*cos(Omega)**2*cos(i)**2 + 2*a**2*e**2*x**2*sin(omega)**2*cos(Omega)**2 + 2*a**2*e**2*x**2*cos(Omega)**2*cos(i)**2*cos(omega)**2 - 2*a**2*e**2*x**2*cos(Omega)**2*cos(omega)**2 - 4*a**2*e**2*x*sqrt(1 - x**2)*sin(Omega)**2*sin(omega)*cos(i)**2*cos(omega) + 4*a**2*e**2*x*sqrt(1 - x**2)*sin(Omega)**2*sin(omega)*cos(omega) - 4*a**2*e**2*x*sqrt(1 - x**2)*sin(omega)*cos(Omega)**2*cos(i)**2*cos(omega) + 4*a**2*e**2*x*sqrt(1 - x**2)*sin(omega)*cos(Omega)**2*cos(omega) - 2*a**2*e**2*sin(Omega)**2*sin(omega)**2 - 2*a**2*e**2*sin(Omega)**2*cos(i)**2*cos(omega)**2 - 2*a**2*e**2*sin(omega)**2*cos(Omega)**2 - 2*a**2*e**2*cos(Omega)**2*cos(i)**2*cos(omega)**2 + a**2*x**2*sin(Omega)**2*sin(omega)**2*cos(i)**2 - a**2*x**2*sin(Omega)**2*sin(omega)**2 - a**2*x**2*sin(Omega)**2*cos(i)**2*cos(omega)**2 + a**2*x**2*sin(Omega)**2*cos(omega)**2 + a**2*x**2*sin(omega)**2*cos(Omega)**2*cos(i)**2 - a**2*x**2*sin(omega)**2*cos(Omega)**2 - a**2*x**2*cos(Omega)**2*cos(i)**2*cos(omega)**2 + a**2*x**2*cos(Omega)**2*cos(omega)**2 + 2*a**2*x*sqrt(1 - x**2)*sin(Omega)**2*sin(omega)*cos(i)**2*cos(omega) - 2*a**2*x*sqrt(1 - x**2)*sin(Omega)**2*sin(omega)*cos(omega) + 2*a**2*x*sqrt(1 - x**2)*sin(omega)*cos(Omega)**2*cos(i)**2*cos(omega) - 2*a**2*x*sqrt(1 - x**2)*sin(omega)*cos(Omega)**2*cos(omega) + a**2*sin(Omega)**2*sin(omega)**2 + a**2*sin(Omega)**2*cos(i)**2*cos(omega)**2 + a**2*sin(omega)**2*cos(Omega)**2 + a**2*cos(Omega)**2*cos(i)**2*cos(omega)**2"
      ]
     },
     "execution_count": 19,
     "metadata": {},
     "output_type": "execute_result"
    }
   ],
   "source": [
    "#A simplification operation\n",
    "sp.expand(sp.simplify(eclipseEqn2*(e*x+1)**2))"
   ]
  },
  {
   "cell_type": "code",
   "execution_count": null,
   "id": "1a2d02e1",
   "metadata": {},
   "outputs": [],
   "source": [
    "# I NOW NEED TO GROUP THE SQRT(1-X^2) COEFFICIENTS BEFORE SQUARING THE WHOLE EQUATION"
   ]
  },
  {
   "cell_type": "code",
   "execution_count": 1,
   "id": "834a397a",
   "metadata": {},
   "outputs": [],
   "source": [
    "############sp.expand(eclipseEqn2**2)"
   ]
  },
  {
   "cell_type": "code",
   "execution_count": null,
   "id": "61863352",
   "metadata": {},
   "outputs": [],
   "source": []
  },
  {
   "cell_type": "code",
   "execution_count": null,
   "id": "f6b6d417",
   "metadata": {},
   "outputs": [],
   "source": []
  },
  {
   "cell_type": "code",
   "execution_count": 38,
   "id": "6d822e54",
   "metadata": {},
   "outputs": [
    {
     "data": {
      "text/latex": [
       "$\\displaystyle \\frac{\\left(- Re^{2} \\left(e \\cos{\\left(\\nu \\right)} + 1\\right)^{2} + a^{2} \\left(e^{2} - 1\\right)^{2} \\left(\\left(\\sin{\\left(\\omega \\right)} \\cos{\\left(\\nu \\right)} + \\cos{\\left(\\omega \\right)} \\left|{\\sin{\\left(\\nu \\right)}}\\right|\\right) \\sin{\\left(\\Omega \\right)} \\cos{\\left(i \\right)} + \\left(\\sin{\\left(\\omega \\right)} \\left|{\\sin{\\left(\\nu \\right)}}\\right| - \\cos{\\left(\\nu \\right)} \\cos{\\left(\\omega \\right)}\\right) \\cos{\\left(\\Omega \\right)}\\right)^{2} + a^{2} \\left(e^{2} - 1\\right)^{2} \\left(- \\left(\\sin{\\left(\\omega \\right)} \\cos{\\left(\\nu \\right)} + \\cos{\\left(\\omega \\right)} \\left|{\\sin{\\left(\\nu \\right)}}\\right|\\right) \\cos{\\left(\\Omega \\right)} \\cos{\\left(i \\right)} + \\left(\\sin{\\left(\\omega \\right)} \\left|{\\sin{\\left(\\nu \\right)}}\\right| - \\cos{\\left(\\nu \\right)} \\cos{\\left(\\omega \\right)}\\right) \\sin{\\left(\\Omega \\right)}\\right)^{2}\\right)^{2}}{\\left(e \\cos{\\left(\\nu \\right)} + 1\\right)^{4}}$"
      ],
      "text/plain": [
       "(-Re**2*(e*cos(nu) + 1)**2 + a**2*(e**2 - 1)**2*((sin(omega)*cos(nu) + cos(omega)*Abs(sin(nu)))*sin(Omega)*cos(i) + (sin(omega)*Abs(sin(nu)) - cos(nu)*cos(omega))*cos(Omega))**2 + a**2*(e**2 - 1)**2*(-(sin(omega)*cos(nu) + cos(omega)*Abs(sin(nu)))*cos(Omega)*cos(i) + (sin(omega)*Abs(sin(nu)) - cos(nu)*cos(omega))*sin(Omega))**2)**2/(e*cos(nu) + 1)**4"
      ]
     },
     "execution_count": 38,
     "metadata": {},
     "output_type": "execute_result"
    }
   ],
   "source": [
    "eclipseEqn3"
   ]
  },
  {
   "cell_type": "code",
   "execution_count": null,
   "id": "bf0db60e",
   "metadata": {},
   "outputs": [],
   "source": []
  },
  {
   "cell_type": "code",
   "execution_count": 30,
   "id": "b3763ed6",
   "metadata": {},
   "outputs": [],
   "source": [
    "#eclipseEqn2 = eclipseEqn#.subs(sp.sin(v),sinv)"
   ]
  },
  {
   "cell_type": "code",
   "execution_count": 20,
   "id": "c2c88408",
   "metadata": {},
   "outputs": [
    {
     "data": {
      "text/latex": [
       "$\\displaystyle \\frac{Re^{2} e^{2} \\left(1 - \\cos^{2}{\\left(\\nu \\right)}\\right) - Re^{2} e^{2} - 2 Re^{2} e \\cos{\\left(\\nu \\right)} - Re^{2} - a^{2} e^{4} \\left(1 - \\cos^{2}{\\left(\\nu \\right)}\\right) \\sin^{2}{\\left(i \\right)} - 2 a^{2} e^{4} \\sin^{2}{\\left(i \\right)} \\sin{\\left(\\nu \\right)} \\sin{\\left(\\omega \\right)} \\cos{\\left(\\nu + \\omega \\right)} - a^{2} e^{4} \\sin^{2}{\\left(i \\right)} \\sin^{2}{\\left(\\omega \\right)} + a^{2} e^{4} + 2 a^{2} e^{2} \\left(1 - \\cos^{2}{\\left(\\nu \\right)}\\right) \\sin^{2}{\\left(i \\right)} + 4 a^{2} e^{2} \\sin^{2}{\\left(i \\right)} \\sin{\\left(\\nu \\right)} \\sin{\\left(\\omega \\right)} \\cos{\\left(\\nu + \\omega \\right)} + 2 a^{2} e^{2} \\sin^{2}{\\left(i \\right)} \\sin^{2}{\\left(\\omega \\right)} - 2 a^{2} e^{2} - a^{2} \\left(1 - \\cos^{2}{\\left(\\nu \\right)}\\right) \\sin^{2}{\\left(i \\right)} - 2 a^{2} \\sin^{2}{\\left(i \\right)} \\sin{\\left(\\nu \\right)} \\sin{\\left(\\omega \\right)} \\cos{\\left(\\nu + \\omega \\right)} - a^{2} \\sin^{2}{\\left(i \\right)} \\sin^{2}{\\left(\\omega \\right)} + a^{2}}{\\left(e \\cos{\\left(\\nu \\right)} + 1\\right)^{2}}$"
      ],
      "text/plain": [
       "(Re**2*e**2*(1 - cos(nu)**2) - Re**2*e**2 - 2*Re**2*e*cos(nu) - Re**2 - a**2*e**4*(1 - cos(nu)**2)*sin(i)**2 - 2*a**2*e**4*sin(i)**2*sin(nu)*sin(omega)*cos(nu + omega) - a**2*e**4*sin(i)**2*sin(omega)**2 + a**2*e**4 + 2*a**2*e**2*(1 - cos(nu)**2)*sin(i)**2 + 4*a**2*e**2*sin(i)**2*sin(nu)*sin(omega)*cos(nu + omega) + 2*a**2*e**2*sin(i)**2*sin(omega)**2 - 2*a**2*e**2 - a**2*(1 - cos(nu)**2)*sin(i)**2 - 2*a**2*sin(i)**2*sin(nu)*sin(omega)*cos(nu + omega) - a**2*sin(i)**2*sin(omega)**2 + a**2)/(e*cos(nu) + 1)**2"
      ]
     },
     "execution_count": 20,
     "metadata": {},
     "output_type": "execute_result"
    }
   ],
   "source": [
    "#sp.simplify(sp.expand(eclipseEqn2)).subs(sp.sin(v)**2,sinv2)"
   ]
  },
  {
   "cell_type": "code",
   "execution_count": 13,
   "id": "8b099767",
   "metadata": {},
   "outputs": [
    {
     "data": {
      "text/latex": [
       "$\\displaystyle \\frac{Re^{2} e^{2} \\sin^{2}{\\left(\\nu \\right)} - Re^{2} e^{2} - 2 Re^{2} e \\cos{\\left(\\nu \\right)} - Re^{2} + 2 a^{2} e^{4} \\sin^{2}{\\left(i \\right)} \\sin^{2}{\\left(\\nu \\right)} \\sin^{2}{\\left(\\omega \\right)} - a^{2} e^{4} \\sin^{2}{\\left(i \\right)} \\sin^{2}{\\left(\\nu \\right)} - a^{2} e^{4} \\sin^{2}{\\left(i \\right)} \\sin^{2}{\\left(\\omega \\right)} - 2 a^{2} e^{4} \\sin^{2}{\\left(i \\right)} \\sin{\\left(\\omega \\right)} \\cos{\\left(\\nu \\right)} \\cos{\\left(\\omega \\right)} \\left|{\\sin{\\left(\\nu \\right)}}\\right| + a^{2} e^{4} - 4 a^{2} e^{2} \\sin^{2}{\\left(i \\right)} \\sin^{2}{\\left(\\nu \\right)} \\sin^{2}{\\left(\\omega \\right)} + 2 a^{2} e^{2} \\sin^{2}{\\left(i \\right)} \\sin^{2}{\\left(\\nu \\right)} + 2 a^{2} e^{2} \\sin^{2}{\\left(i \\right)} \\sin^{2}{\\left(\\omega \\right)} + 4 a^{2} e^{2} \\sin^{2}{\\left(i \\right)} \\sin{\\left(\\omega \\right)} \\cos{\\left(\\nu \\right)} \\cos{\\left(\\omega \\right)} \\left|{\\sin{\\left(\\nu \\right)}}\\right| - 2 a^{2} e^{2} + 2 a^{2} \\sin^{2}{\\left(i \\right)} \\sin^{2}{\\left(\\nu \\right)} \\sin^{2}{\\left(\\omega \\right)} - a^{2} \\sin^{2}{\\left(i \\right)} \\sin^{2}{\\left(\\nu \\right)} - a^{2} \\sin^{2}{\\left(i \\right)} \\sin^{2}{\\left(\\omega \\right)} - 2 a^{2} \\sin^{2}{\\left(i \\right)} \\sin{\\left(\\omega \\right)} \\cos{\\left(\\nu \\right)} \\cos{\\left(\\omega \\right)} \\left|{\\sin{\\left(\\nu \\right)}}\\right| + a^{2}}{\\left(e \\cos{\\left(\\nu \\right)} + 1\\right)^{2}}$"
      ],
      "text/plain": [
       "(Re**2*e**2*sin(nu)**2 - Re**2*e**2 - 2*Re**2*e*cos(nu) - Re**2 + 2*a**2*e**4*sin(i)**2*sin(nu)**2*sin(omega)**2 - a**2*e**4*sin(i)**2*sin(nu)**2 - a**2*e**4*sin(i)**2*sin(omega)**2 - 2*a**2*e**4*sin(i)**2*sin(omega)*cos(nu)*cos(omega)*Abs(sin(nu)) + a**2*e**4 - 4*a**2*e**2*sin(i)**2*sin(nu)**2*sin(omega)**2 + 2*a**2*e**2*sin(i)**2*sin(nu)**2 + 2*a**2*e**2*sin(i)**2*sin(omega)**2 + 4*a**2*e**2*sin(i)**2*sin(omega)*cos(nu)*cos(omega)*Abs(sin(nu)) - 2*a**2*e**2 + 2*a**2*sin(i)**2*sin(nu)**2*sin(omega)**2 - a**2*sin(i)**2*sin(nu)**2 - a**2*sin(i)**2*sin(omega)**2 - 2*a**2*sin(i)**2*sin(omega)*cos(nu)*cos(omega)*Abs(sin(nu)) + a**2)/(e*cos(nu) + 1)**2"
      ]
     },
     "execution_count": 13,
     "metadata": {},
     "output_type": "execute_result"
    }
   ],
   "source": [
    "#sp.simplify(sp.expand(eclipseEqn2))"
   ]
  },
  {
   "cell_type": "code",
   "execution_count": 9,
   "id": "28a8230c",
   "metadata": {},
   "outputs": [
    {
     "data": {
      "text/latex": [
       "$\\displaystyle \\frac{- Re^{2} \\left(e \\cos{\\left(\\nu \\right)} + 1\\right)^{2} + a^{2} e^{4} \\sin^{2}{\\left(\\Omega \\right)} \\sin^{2}{\\left(\\nu + \\omega \\right)} \\cos^{2}{\\left(i \\right)} + a^{2} e^{4} \\sin^{2}{\\left(\\Omega \\right)} \\cos^{2}{\\left(\\nu + \\omega \\right)} + a^{2} e^{4} \\sin^{2}{\\left(\\nu + \\omega \\right)} \\cos^{2}{\\left(\\Omega \\right)} \\cos^{2}{\\left(i \\right)} + a^{2} e^{4} \\cos^{2}{\\left(\\Omega \\right)} \\cos^{2}{\\left(\\nu + \\omega \\right)} - 2 a^{2} e^{2} \\sin^{2}{\\left(\\Omega \\right)} \\sin^{2}{\\left(\\nu + \\omega \\right)} \\cos^{2}{\\left(i \\right)} - 2 a^{2} e^{2} \\sin^{2}{\\left(\\Omega \\right)} \\cos^{2}{\\left(\\nu + \\omega \\right)} - 2 a^{2} e^{2} \\sin^{2}{\\left(\\nu + \\omega \\right)} \\cos^{2}{\\left(\\Omega \\right)} \\cos^{2}{\\left(i \\right)} - 2 a^{2} e^{2} \\cos^{2}{\\left(\\Omega \\right)} \\cos^{2}{\\left(\\nu + \\omega \\right)} + a^{2} \\sin^{2}{\\left(\\Omega \\right)} \\sin^{2}{\\left(\\nu + \\omega \\right)} \\cos^{2}{\\left(i \\right)} + a^{2} \\sin^{2}{\\left(\\Omega \\right)} \\cos^{2}{\\left(\\nu + \\omega \\right)} + a^{2} \\sin^{2}{\\left(\\nu + \\omega \\right)} \\cos^{2}{\\left(\\Omega \\right)} \\cos^{2}{\\left(i \\right)} + a^{2} \\cos^{2}{\\left(\\Omega \\right)} \\cos^{2}{\\left(\\nu + \\omega \\right)}}{\\left(e \\cos{\\left(\\nu \\right)} + 1\\right)^{2}}$"
      ],
      "text/plain": [
       "(-Re**2*(e*cos(nu) + 1)**2 + a**2*e**4*sin(Omega)**2*sin(nu + omega)**2*cos(i)**2 + a**2*e**4*sin(Omega)**2*cos(nu + omega)**2 + a**2*e**4*sin(nu + omega)**2*cos(Omega)**2*cos(i)**2 + a**2*e**4*cos(Omega)**2*cos(nu + omega)**2 - 2*a**2*e**2*sin(Omega)**2*sin(nu + omega)**2*cos(i)**2 - 2*a**2*e**2*sin(Omega)**2*cos(nu + omega)**2 - 2*a**2*e**2*sin(nu + omega)**2*cos(Omega)**2*cos(i)**2 - 2*a**2*e**2*cos(Omega)**2*cos(nu + omega)**2 + a**2*sin(Omega)**2*sin(nu + omega)**2*cos(i)**2 + a**2*sin(Omega)**2*cos(nu + omega)**2 + a**2*sin(nu + omega)**2*cos(Omega)**2*cos(i)**2 + a**2*cos(Omega)**2*cos(nu + omega)**2)/(e*cos(nu) + 1)**2"
      ]
     },
     "execution_count": 9,
     "metadata": {},
     "output_type": "execute_result"
    }
   ],
   "source": [
    "#sp.simplify(sp.expand(eclipseEqn))"
   ]
  },
  {
   "cell_type": "code",
   "execution_count": 10,
   "id": "11261c04",
   "metadata": {},
   "outputs": [],
   "source": [
    "#sp.solve(eclipseEqn,v)"
   ]
  },
  {
   "cell_type": "code",
   "execution_count": null,
   "id": "b061cfe2",
   "metadata": {},
   "outputs": [],
   "source": []
  }
 ],
 "metadata": {
  "kernelspec": {
   "display_name": "Python 3 (ipykernel)",
   "language": "python",
   "name": "python3"
  },
  "language_info": {
   "codemirror_mode": {
    "name": "ipython",
    "version": 3
   },
   "file_extension": ".py",
   "mimetype": "text/x-python",
   "name": "python",
   "nbconvert_exporter": "python",
   "pygments_lexer": "ipython3",
   "version": "3.8.10"
  }
 },
 "nbformat": 4,
 "nbformat_minor": 5
}
