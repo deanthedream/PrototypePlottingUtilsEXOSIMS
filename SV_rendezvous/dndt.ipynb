{
 "cells": [
  {
   "cell_type": "code",
   "execution_count": 28,
   "metadata": {},
   "outputs": [],
   "source": [
    "import sympy as sp\n",
    "a, mu, r, rho, C_d, A, m, alpha, T, v = sp.symbols(\"a, mu, r, rho, C_d, A, m, alpha, T, v\",real=True,positive=True)"
   ]
  },
  {
   "cell_type": "code",
   "execution_count": 29,
   "metadata": {},
   "outputs": [],
   "source": [
    "v_visviva0 = sp.sqrt(mu*(2/r-1/a))\n",
    "v_visviva1 = sp.simplify(v_visviva0.subs(r,a)) #assume"
   ]
  },
  {
   "cell_type": "code",
   "execution_count": 30,
   "metadata": {},
   "outputs": [
    {
     "data": {
      "text/latex": [
       "$\\displaystyle \\frac{\\sqrt{\\mu}}{\\sqrt{a}}$"
      ],
      "text/plain": [
       "sqrt(mu)/sqrt(a)"
      ]
     },
     "execution_count": 30,
     "metadata": {},
     "output_type": "execute_result"
    }
   ],
   "source": [
    "v_visviva1"
   ]
  },
  {
   "cell_type": "code",
   "execution_count": 31,
   "metadata": {},
   "outputs": [],
   "source": [
    "Teqn = 2*sp.pi*sp.sqrt(a**3/mu)"
   ]
  },
  {
   "cell_type": "code",
   "execution_count": 32,
   "metadata": {},
   "outputs": [],
   "source": [
    "adrag0 = -1/2*rho*C_d*A*v**2/m\n",
    "adrag1 = adrag0.subs(v,v_visviva1)"
   ]
  },
  {
   "cell_type": "code",
   "execution_count": 33,
   "metadata": {},
   "outputs": [
    {
     "data": {
      "text/latex": [
       "$\\displaystyle - \\frac{0.5 A C_{d} \\mu \\rho}{a m}$"
      ],
      "text/plain": [
       "-0.5*A*C_d*mu*rho/(a*m)"
      ]
     },
     "execution_count": 33,
     "metadata": {},
     "output_type": "execute_result"
    }
   ],
   "source": [
    "adrag1"
   ]
  },
  {
   "cell_type": "code",
   "execution_count": 34,
   "metadata": {},
   "outputs": [],
   "source": [
    "dnda = -3/2*sp.sqrt(mu)*a**(-5/2)\n",
    "dadt = (alpha*T/sp.pi).subs(T,Teqn).subs(alpha,adrag1)"
   ]
  },
  {
   "cell_type": "code",
   "execution_count": 35,
   "metadata": {},
   "outputs": [
    {
     "data": {
      "text/latex": [
       "$\\displaystyle - \\frac{1.0 A C_{d} \\sqrt{a} \\sqrt{\\mu} \\rho}{m}$"
      ],
      "text/plain": [
       "-1.0*A*C_d*sqrt(a)*sqrt(mu)*rho/m"
      ]
     },
     "execution_count": 35,
     "metadata": {},
     "output_type": "execute_result"
    }
   ],
   "source": [
    "sp.simplify(dadt)"
   ]
  },
  {
   "cell_type": "code",
   "execution_count": 41,
   "metadata": {},
   "outputs": [
    {
     "name": "stdout",
     "output_type": "stream",
     "text": [
      "-1.0*A*C_d*sqrt(a)*sqrt(mu)*rho/m\n"
     ]
    }
   ],
   "source": [
    "print(sp.simplify(dadt))"
   ]
  },
  {
   "cell_type": "code",
   "execution_count": 36,
   "metadata": {},
   "outputs": [],
   "source": [
    "dndt = (dnda*dadt)#.subs(alpha,adrag1)"
   ]
  },
  {
   "cell_type": "code",
   "execution_count": 37,
   "metadata": {},
   "outputs": [
    {
     "data": {
      "text/latex": [
       "$\\displaystyle \\frac{1.5 A C_{d} \\mu \\rho}{a^{2.0} m}$"
      ],
      "text/plain": [
       "1.5*A*C_d*a**(-2.0)*mu*rho/m"
      ]
     },
     "execution_count": 37,
     "metadata": {},
     "output_type": "execute_result"
    }
   ],
   "source": [
    "sp.simplify(dndt)"
   ]
  },
  {
   "cell_type": "code",
   "execution_count": 40,
   "metadata": {},
   "outputs": [
    {
     "name": "stdout",
     "output_type": "stream",
     "text": [
      "1.5*A*C_d*a**(-2.0)*mu*rho/m\n"
     ]
    }
   ],
   "source": [
    "print(dndt)"
   ]
  },
  {
   "cell_type": "code",
   "execution_count": 39,
   "metadata": {},
   "outputs": [
    {
     "data": {
      "text/latex": [
       "$\\displaystyle 2.10271674600997 \\cdot 10^{-5}$"
      ],
      "text/plain": [
       "2.10271674600997e-5"
      ]
     },
     "execution_count": 39,
     "metadata": {},
     "output_type": "execute_result"
    }
   ],
   "source": [
    "dndt.subs(A,3.4).subs(C_d,2.2).subs(rho,5*10**-13).subs(m,6).subs(a,(6378+400)*1000).subs(mu,398600*10**9)* (30*24*60*60)#rad/sec**2"
   ]
  },
  {
   "cell_type": "code",
   "execution_count": null,
   "metadata": {},
   "outputs": [],
   "source": []
  }
 ],
 "metadata": {
  "kernelspec": {
   "display_name": "Python 3",
   "language": "python",
   "name": "python3"
  },
  "language_info": {
   "codemirror_mode": {
    "name": "ipython",
    "version": 3
   },
   "file_extension": ".py",
   "mimetype": "text/x-python",
   "name": "python",
   "nbconvert_exporter": "python",
   "pygments_lexer": "ipython3",
   "version": "3.6.9"
  }
 },
 "nbformat": 4,
 "nbformat_minor": 4
}
