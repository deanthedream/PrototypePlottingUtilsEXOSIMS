{
 "cells": [
  {
   "cell_type": "code",
   "execution_count": 1,
   "id": "d3336351",
   "metadata": {},
   "outputs": [],
   "source": [
    "import sympy as sp"
   ]
  },
  {
   "cell_type": "code",
   "execution_count": 4,
   "id": "e733f4d1",
   "metadata": {},
   "outputs": [],
   "source": [
    "A, Cd, mu, rho, m, a, sigma_A, sigma_a, sigma_rho = sp.symbols('A C_d mu rho m a sigma_A sigma_a sigma_rho',real=True)"
   ]
  },
  {
   "cell_type": "code",
   "execution_count": 5,
   "id": "60a8de1a",
   "metadata": {},
   "outputs": [],
   "source": [
    "thdd = 3/2*A*Cd*mu*rho/m/a**2"
   ]
  },
  {
   "cell_type": "code",
   "execution_count": 8,
   "id": "e39ea409",
   "metadata": {},
   "outputs": [],
   "source": [
    "sigma_thdd = sp.sqrt(sp.diff(thdd,A)**2*sigma_A**2 + sp.diff(thdd,a)**2*sigma_a**2 + sp.diff(thdd,rho)**2*sigma_rho**2)"
   ]
  },
  {
   "cell_type": "code",
   "execution_count": 10,
   "id": "40877546",
   "metadata": {},
   "outputs": [
    {
     "data": {
      "text/latex": [
       "$\\displaystyle 3.0 \\sqrt{\\frac{0.25 A^{2} \\sigma_{\\rho}^{2} + \\frac{A^{2} \\rho^{2} \\sigma_{a}^{2}}{a^{2}} + 0.25 \\rho^{2} \\sigma_{A}^{2}}{a^{4} m^{2}}} \\left|{C_{d} \\mu}\\right|$"
      ],
      "text/plain": [
       "3.0*sqrt((0.25*A**2*sigma_rho**2 + A**2*rho**2*sigma_a**2/a**2 + 0.25*rho**2*sigma_A**2)/(a**4*m**2))*Abs(C_d*mu)"
      ]
     },
     "execution_count": 10,
     "metadata": {},
     "output_type": "execute_result"
    }
   ],
   "source": [
    "sp.simplify(sigma_thdd)"
   ]
  },
  {
   "cell_type": "code",
   "execution_count": null,
   "id": "7fa32207",
   "metadata": {},
   "outputs": [],
   "source": []
  }
 ],
 "metadata": {
  "kernelspec": {
   "display_name": "Python 3 (ipykernel)",
   "language": "python",
   "name": "python3"
  },
  "language_info": {
   "codemirror_mode": {
    "name": "ipython",
    "version": 3
   },
   "file_extension": ".py",
   "mimetype": "text/x-python",
   "name": "python",
   "nbconvert_exporter": "python",
   "pygments_lexer": "ipython3",
   "version": "3.8.10"
  }
 },
 "nbformat": 4,
 "nbformat_minor": 5
}
