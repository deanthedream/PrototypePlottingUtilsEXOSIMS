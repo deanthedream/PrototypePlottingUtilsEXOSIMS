{
 "cells": [
  {
   "cell_type": "markdown",
   "metadata": {},
   "source": [
    "# Spacecraft In Ground Station Field Of View"
   ]
  },
  {
   "cell_type": "code",
   "execution_count": 1,
   "metadata": {},
   "outputs": [],
   "source": [
    "import sympy as sp"
   ]
  },
  {
   "cell_type": "code",
   "execution_count": 2,
   "metadata": {},
   "outputs": [],
   "source": [
    "x0,y0,x1,y1,theta,a0,b0,a1,b1,c,d = sp.symbols(\"x0 y0 x1 y1 theta a0 b0 a1 b1 c d\", real=True)"
   ]
  },
  {
   "cell_type": "code",
   "execution_count": 3,
   "metadata": {},
   "outputs": [],
   "source": [
    "ellipse0 = (x0/a0)**2 + (y0/b0)**2 - 1\n",
    "ellipse1 = (x1/a1)**2 + (y1/b1)**2 - 1"
   ]
  },
  {
   "cell_type": "code",
   "execution_count": 4,
   "metadata": {},
   "outputs": [],
   "source": [
    "#I tried to do a rotation matrix thingy here and it didn't work\n",
    "# x1eqn = x0*sp.cos(theta) - y0*sp.sin(theta) + c #x1 = \n",
    "# y1eqn = x0*sp.sin(theta) + y0*sp.cos(theta) + d #y1 = \n",
    "#Here I simply convert x0 coordinate value into x1 coordinate value\n",
    "x1eqn = (x0-c)/sp.cos(theta)\n",
    "y1eqn = (y0-d)/sp.cos(theta)\n",
    "y0eqn = b0*sp.sqrt(1-(x0/a0)**2)"
   ]
  },
  {
   "cell_type": "code",
   "execution_count": 5,
   "metadata": {},
   "outputs": [],
   "source": [
    "ellipseellipseEqn = sp.expand((ellipse0-ellipse1).subs(x1,x1eqn).subs(y1,y1eqn).subs(y0,y0eqn))"
   ]
  },
  {
   "cell_type": "code",
   "execution_count": 6,
   "metadata": {},
   "outputs": [
    {
     "data": {
      "text/latex": [
       "$\\displaystyle - \\frac{b_{0}^{2}}{b_{1}^{2} \\cos^{2}{\\left(\\theta \\right)}} + \\frac{2 b_{0} d \\sqrt{1 - \\frac{x_{0}^{2}}{a_{0}^{2}}}}{b_{1}^{2} \\cos^{2}{\\left(\\theta \\right)}} + 1 - \\frac{d^{2}}{b_{1}^{2} \\cos^{2}{\\left(\\theta \\right)}} - \\frac{c^{2}}{a_{1}^{2} \\cos^{2}{\\left(\\theta \\right)}} + \\frac{2 c x_{0}}{a_{1}^{2} \\cos^{2}{\\left(\\theta \\right)}} - \\frac{x_{0}^{2}}{a_{1}^{2} \\cos^{2}{\\left(\\theta \\right)}} + \\frac{b_{0}^{2} x_{0}^{2}}{a_{0}^{2} b_{1}^{2} \\cos^{2}{\\left(\\theta \\right)}}$"
      ],
      "text/plain": [
       "-b0**2/(b1**2*cos(theta)**2) + 2*b0*d*sqrt(1 - x0**2/a0**2)/(b1**2*cos(theta)**2) + 1 - d**2/(b1**2*cos(theta)**2) - c**2/(a1**2*cos(theta)**2) + 2*c*x0/(a1**2*cos(theta)**2) - x0**2/(a1**2*cos(theta)**2) + b0**2*x0**2/(a0**2*b1**2*cos(theta)**2)"
      ]
     },
     "execution_count": 6,
     "metadata": {},
     "output_type": "execute_result"
    }
   ],
   "source": [
    "ellipseellipseEqn"
   ]
  },
  {
   "cell_type": "code",
   "execution_count": 7,
   "metadata": {},
   "outputs": [],
   "source": [
    "ellipseellipseEqnPoly = sp.Poly(ellipseellipseEqn,sp.sqrt(1-(x0/a0)**2))"
   ]
  },
  {
   "cell_type": "code",
   "execution_count": 8,
   "metadata": {},
   "outputs": [
    {
     "data": {
      "text/latex": [
       "$\\displaystyle \\frac{2 b_{0} d}{b_{1}^{2} \\cos^{2}{\\left(\\theta \\right)}}$"
      ],
      "text/plain": [
       "2*b0*d/(b1**2*cos(theta)**2)"
      ]
     },
     "execution_count": 8,
     "metadata": {},
     "output_type": "execute_result"
    }
   ],
   "source": [
    "ellipseellipseEqnPoly.coeffs()[0]"
   ]
  },
  {
   "cell_type": "code",
   "execution_count": 9,
   "metadata": {},
   "outputs": [
    {
     "data": {
      "text/plain": [
       "2"
      ]
     },
     "execution_count": 9,
     "metadata": {},
     "output_type": "execute_result"
    }
   ],
   "source": [
    "len(ellipseellipseEqnPoly.coeffs())"
   ]
  },
  {
   "cell_type": "code",
   "execution_count": 10,
   "metadata": {},
   "outputs": [],
   "source": [
    "ellipseellipseEqn2 = (1-(x0/a0)**2)*ellipseellipseEqnPoly.coeffs()[0]**2 - ellipseellipseEqnPoly.coeffs()[1]**2"
   ]
  },
  {
   "cell_type": "code",
   "execution_count": 11,
   "metadata": {},
   "outputs": [],
   "source": [
    "ellipseellipseEqn2Expanded = sp.expand(ellipseellipseEqn2)"
   ]
  },
  {
   "cell_type": "code",
   "execution_count": 12,
   "metadata": {},
   "outputs": [],
   "source": [
    "gamma0, gamma1, gamma2, gamma3 = sp.symbols(\"gamma0 gamma1 gamma2 gamma3\")\n",
    "Gamma0, Gamma1, Gamma2, Gamma3 = sp.symbols(\"Gamma0 Gamma1 Gamma2 Gamma3\")\n"
   ]
  },
  {
   "cell_type": "code",
   "execution_count": 13,
   "metadata": {},
   "outputs": [],
   "source": [
    "# ellipseellipseEqn2Expanded = ellipseellipseEqn2Expanded.subs(4*a0**4*b0**2*x0**2*sp.sin(theta)**2*sp.cos(theta)**2,gamma0)\n",
    "# ellipseellipseEqn2Expanded = ellipseellipseEqn2Expanded.subs(4*a0**4*a1**4*b0**2*d**2*sp.cos(theta)**2,gamma1)\n",
    "# ellipseellipseEqn2Expanded = ellipseellipseEqn2Expanded.subs(a0**4*a1**4*b0**2*d*x0*sp.sin(theta)*sp.cos(theta)**2,gamma2)\n",
    "# ellipseellipseEqn2Expanded = ellipseellipseEqn2Expanded.subs(a0**4*a1**2*b0**2*c*d*sp.sin(theta)*sp.cos(theta),gamma3)"
   ]
  },
  {
   "cell_type": "code",
   "execution_count": 14,
   "metadata": {},
   "outputs": [
    {
     "data": {
      "text/latex": [
       "$\\displaystyle - \\frac{b_{0}^{4}}{b_{1}^{4} \\cos^{4}{\\left(\\theta \\right)}} + \\frac{2 b_{0}^{2}}{b_{1}^{2} \\cos^{2}{\\left(\\theta \\right)}} + \\frac{2 b_{0}^{2} d^{2}}{b_{1}^{4} \\cos^{4}{\\left(\\theta \\right)}} - 1 + \\frac{2 d^{2}}{b_{1}^{2} \\cos^{2}{\\left(\\theta \\right)}} - \\frac{d^{4}}{b_{1}^{4} \\cos^{4}{\\left(\\theta \\right)}} - \\frac{2 b_{0}^{2} c^{2}}{a_{1}^{2} b_{1}^{2} \\cos^{4}{\\left(\\theta \\right)}} + \\frac{4 b_{0}^{2} c x_{0}}{a_{1}^{2} b_{1}^{2} \\cos^{4}{\\left(\\theta \\right)}} - \\frac{2 b_{0}^{2} x_{0}^{2}}{a_{1}^{2} b_{1}^{2} \\cos^{4}{\\left(\\theta \\right)}} + \\frac{2 c^{2}}{a_{1}^{2} \\cos^{2}{\\left(\\theta \\right)}} - \\frac{4 c x_{0}}{a_{1}^{2} \\cos^{2}{\\left(\\theta \\right)}} + \\frac{2 x_{0}^{2}}{a_{1}^{2} \\cos^{2}{\\left(\\theta \\right)}} - \\frac{2 c^{2} d^{2}}{a_{1}^{2} b_{1}^{2} \\cos^{4}{\\left(\\theta \\right)}} + \\frac{4 c d^{2} x_{0}}{a_{1}^{2} b_{1}^{2} \\cos^{4}{\\left(\\theta \\right)}} - \\frac{2 d^{2} x_{0}^{2}}{a_{1}^{2} b_{1}^{2} \\cos^{4}{\\left(\\theta \\right)}} - \\frac{c^{4}}{a_{1}^{4} \\cos^{4}{\\left(\\theta \\right)}} + \\frac{4 c^{3} x_{0}}{a_{1}^{4} \\cos^{4}{\\left(\\theta \\right)}} - \\frac{6 c^{2} x_{0}^{2}}{a_{1}^{4} \\cos^{4}{\\left(\\theta \\right)}} + \\frac{4 c x_{0}^{3}}{a_{1}^{4} \\cos^{4}{\\left(\\theta \\right)}} - \\frac{x_{0}^{4}}{a_{1}^{4} \\cos^{4}{\\left(\\theta \\right)}} + \\frac{2 b_{0}^{4} x_{0}^{2}}{a_{0}^{2} b_{1}^{4} \\cos^{4}{\\left(\\theta \\right)}} - \\frac{2 b_{0}^{2} x_{0}^{2}}{a_{0}^{2} b_{1}^{2} \\cos^{2}{\\left(\\theta \\right)}} - \\frac{2 b_{0}^{2} d^{2} x_{0}^{2}}{a_{0}^{2} b_{1}^{4} \\cos^{4}{\\left(\\theta \\right)}} + \\frac{2 b_{0}^{2} c^{2} x_{0}^{2}}{a_{0}^{2} a_{1}^{2} b_{1}^{2} \\cos^{4}{\\left(\\theta \\right)}} - \\frac{4 b_{0}^{2} c x_{0}^{3}}{a_{0}^{2} a_{1}^{2} b_{1}^{2} \\cos^{4}{\\left(\\theta \\right)}} + \\frac{2 b_{0}^{2} x_{0}^{4}}{a_{0}^{2} a_{1}^{2} b_{1}^{2} \\cos^{4}{\\left(\\theta \\right)}} - \\frac{b_{0}^{4} x_{0}^{4}}{a_{0}^{4} b_{1}^{4} \\cos^{4}{\\left(\\theta \\right)}}$"
      ],
      "text/plain": [
       "-b0**4/(b1**4*cos(theta)**4) + 2*b0**2/(b1**2*cos(theta)**2) + 2*b0**2*d**2/(b1**4*cos(theta)**4) - 1 + 2*d**2/(b1**2*cos(theta)**2) - d**4/(b1**4*cos(theta)**4) - 2*b0**2*c**2/(a1**2*b1**2*cos(theta)**4) + 4*b0**2*c*x0/(a1**2*b1**2*cos(theta)**4) - 2*b0**2*x0**2/(a1**2*b1**2*cos(theta)**4) + 2*c**2/(a1**2*cos(theta)**2) - 4*c*x0/(a1**2*cos(theta)**2) + 2*x0**2/(a1**2*cos(theta)**2) - 2*c**2*d**2/(a1**2*b1**2*cos(theta)**4) + 4*c*d**2*x0/(a1**2*b1**2*cos(theta)**4) - 2*d**2*x0**2/(a1**2*b1**2*cos(theta)**4) - c**4/(a1**4*cos(theta)**4) + 4*c**3*x0/(a1**4*cos(theta)**4) - 6*c**2*x0**2/(a1**4*cos(theta)**4) + 4*c*x0**3/(a1**4*cos(theta)**4) - x0**4/(a1**4*cos(theta)**4) + 2*b0**4*x0**2/(a0**2*b1**4*cos(theta)**4) - 2*b0**2*x0**2/(a0**2*b1**2*cos(theta)**2) - 2*b0**2*d**2*x0**2/(a0**2*b1**4*cos(theta)**4) + 2*b0**2*c**2*x0**2/(a0**2*a1**2*b1**2*cos(theta)**4) - 4*b0**2*c*x0**3/(a0**2*a1**2*b1**2*cos(theta)**4) + 2*b0**2*x0**4/(a0**2*a1**2*b1**2*cos(theta)**4) - b0**4*x0**4/(a0**4*b1**4*cos(theta)**4)"
      ]
     },
     "execution_count": 14,
     "metadata": {},
     "output_type": "execute_result"
    }
   ],
   "source": [
    "ellipseellipseEqn2Expanded"
   ]
  },
  {
   "cell_type": "markdown",
   "metadata": {},
   "source": [
    "# Get Those Coefficients"
   ]
  },
  {
   "cell_type": "code",
   "execution_count": 15,
   "metadata": {},
   "outputs": [],
   "source": [
    "ellipseellipseEqn2ExpandedPoly = sp.Poly(ellipseellipseEqn2Expanded,x0)"
   ]
  },
  {
   "cell_type": "code",
   "execution_count": 16,
   "metadata": {},
   "outputs": [
    {
     "data": {
      "text/plain": [
       "5"
      ]
     },
     "execution_count": 16,
     "metadata": {},
     "output_type": "execute_result"
    }
   ],
   "source": [
    "len(ellipseellipseEqn2ExpandedPoly.coeffs())"
   ]
  },
  {
   "cell_type": "code",
   "execution_count": 17,
   "metadata": {},
   "outputs": [
    {
     "data": {
      "text/latex": [
       "$\\displaystyle \\frac{a_{0}^{2} b_{1}^{2} \\left(4 a_{0}^{2} b_{1}^{2} c - 4 a_{1}^{2} b_{0}^{2} c\\right)}{- a_{0}^{4} b_{1}^{4} + 2 a_{0}^{2} a_{1}^{2} b_{0}^{2} b_{1}^{2} - a_{1}^{4} b_{0}^{4}}$"
      ],
      "text/plain": [
       "a0**2*b1**2*(4*a0**2*b1**2*c - 4*a1**2*b0**2*c)/(-a0**4*b1**4 + 2*a0**2*a1**2*b0**2*b1**2 - a1**4*b0**4)"
      ]
     },
     "execution_count": 17,
     "metadata": {},
     "output_type": "execute_result"
    }
   ],
   "source": [
    "ellipseellipseEqn2ExpandedPoly.coeffs()[1]/ellipseellipseEqn2ExpandedPoly.coeffs()[0]"
   ]
  },
  {
   "cell_type": "code",
   "execution_count": 18,
   "metadata": {},
   "outputs": [
    {
     "data": {
      "text/latex": [
       "$\\displaystyle \\frac{a_{0}^{2} \\left(- 2 a_{0}^{2} a_{1}^{2} b_{0}^{2} b_{1}^{2} + 2 a_{0}^{2} a_{1}^{2} b_{1}^{4} \\cos^{2}{\\left(\\theta \\right)} - 2 a_{0}^{2} a_{1}^{2} b_{1}^{2} d^{2} - 6 a_{0}^{2} b_{1}^{4} c^{2} + 2 a_{1}^{4} b_{0}^{4} - 2 a_{1}^{4} b_{0}^{2} b_{1}^{2} \\cos^{2}{\\left(\\theta \\right)} - 2 a_{1}^{4} b_{0}^{2} d^{2} + 2 a_{1}^{2} b_{0}^{2} b_{1}^{2} c^{2}\\right)}{- a_{0}^{4} b_{1}^{4} + 2 a_{0}^{2} a_{1}^{2} b_{0}^{2} b_{1}^{2} - a_{1}^{4} b_{0}^{4}}$"
      ],
      "text/plain": [
       "a0**2*(-2*a0**2*a1**2*b0**2*b1**2 + 2*a0**2*a1**2*b1**4*cos(theta)**2 - 2*a0**2*a1**2*b1**2*d**2 - 6*a0**2*b1**4*c**2 + 2*a1**4*b0**4 - 2*a1**4*b0**2*b1**2*cos(theta)**2 - 2*a1**4*b0**2*d**2 + 2*a1**2*b0**2*b1**2*c**2)/(-a0**4*b1**4 + 2*a0**2*a1**2*b0**2*b1**2 - a1**4*b0**4)"
      ]
     },
     "execution_count": 18,
     "metadata": {},
     "output_type": "execute_result"
    }
   ],
   "source": [
    "ellipseellipseEqn2ExpandedPoly.coeffs()[2]/ellipseellipseEqn2ExpandedPoly.coeffs()[0]"
   ]
  },
  {
   "cell_type": "code",
   "execution_count": 19,
   "metadata": {},
   "outputs": [
    {
     "data": {
      "text/latex": [
       "$\\displaystyle \\frac{a_{0}^{4} b_{1}^{2} \\left(4 a_{1}^{2} b_{0}^{2} c - 4 a_{1}^{2} b_{1}^{2} c \\cos^{2}{\\left(\\theta \\right)} + 4 a_{1}^{2} c d^{2} + 4 b_{1}^{2} c^{3}\\right)}{- a_{0}^{4} b_{1}^{4} + 2 a_{0}^{2} a_{1}^{2} b_{0}^{2} b_{1}^{2} - a_{1}^{4} b_{0}^{4}}$"
      ],
      "text/plain": [
       "a0**4*b1**2*(4*a1**2*b0**2*c - 4*a1**2*b1**2*c*cos(theta)**2 + 4*a1**2*c*d**2 + 4*b1**2*c**3)/(-a0**4*b1**4 + 2*a0**2*a1**2*b0**2*b1**2 - a1**4*b0**4)"
      ]
     },
     "execution_count": 19,
     "metadata": {},
     "output_type": "execute_result"
    }
   ],
   "source": [
    "ellipseellipseEqn2ExpandedPoly.coeffs()[3]/ellipseellipseEqn2ExpandedPoly.coeffs()[0]"
   ]
  },
  {
   "cell_type": "code",
   "execution_count": 20,
   "metadata": {},
   "outputs": [
    {
     "data": {
      "text/latex": [
       "$\\displaystyle \\frac{a_{0}^{4} \\left(- a_{1}^{4} b_{0}^{4} + 2 a_{1}^{4} b_{0}^{2} b_{1}^{2} \\cos^{2}{\\left(\\theta \\right)} + 2 a_{1}^{4} b_{0}^{2} d^{2} - a_{1}^{4} b_{1}^{4} \\cos^{4}{\\left(\\theta \\right)} + 2 a_{1}^{4} b_{1}^{2} d^{2} \\cos^{2}{\\left(\\theta \\right)} - a_{1}^{4} d^{4} - 2 a_{1}^{2} b_{0}^{2} b_{1}^{2} c^{2} + 2 a_{1}^{2} b_{1}^{4} c^{2} \\cos^{2}{\\left(\\theta \\right)} - 2 a_{1}^{2} b_{1}^{2} c^{2} d^{2} - b_{1}^{4} c^{4}\\right)}{- a_{0}^{4} b_{1}^{4} + 2 a_{0}^{2} a_{1}^{2} b_{0}^{2} b_{1}^{2} - a_{1}^{4} b_{0}^{4}}$"
      ],
      "text/plain": [
       "a0**4*(-a1**4*b0**4 + 2*a1**4*b0**2*b1**2*cos(theta)**2 + 2*a1**4*b0**2*d**2 - a1**4*b1**4*cos(theta)**4 + 2*a1**4*b1**2*d**2*cos(theta)**2 - a1**4*d**4 - 2*a1**2*b0**2*b1**2*c**2 + 2*a1**2*b1**4*c**2*cos(theta)**2 - 2*a1**2*b1**2*c**2*d**2 - b1**4*c**4)/(-a0**4*b1**4 + 2*a0**2*a1**2*b0**2*b1**2 - a1**4*b0**4)"
      ]
     },
     "execution_count": 20,
     "metadata": {},
     "output_type": "execute_result"
    }
   ],
   "source": [
    "ellipseellipseEqn2ExpandedPoly.coeffs()[4]/ellipseellipseEqn2ExpandedPoly.coeffs()[0]"
   ]
  },
  {
   "cell_type": "code",
   "execution_count": null,
   "metadata": {},
   "outputs": [],
   "source": []
  },
  {
   "cell_type": "code",
   "execution_count": 21,
   "metadata": {},
   "outputs": [],
   "source": [
    "alpha0, alpha1, alpha2, alpha3, beta0, beta1, beta2, kappa0, Gamma0, Gamma1, Gamma2, Gamma3, Gamma4, Gamma5, Gamma6, Gamma7 = sp.symbols(\"alpha0 alpha1 alpha2 alpha3 beta0 beta1 beta2 kappa0 Gamma0 Gamma1 Gamma2 Gamma3 Gamma4 Gamma5 Gamma6 Gamma7\")"
   ]
  },
  {
   "cell_type": "code",
   "execution_count": 22,
   "metadata": {
    "scrolled": false
   },
   "outputs": [],
   "source": [
    "eqn = b0**4*x0**4*sp.sin(theta)**4/(4*a0**4*a1**kappa0 + 8*a0**4*a1**4*b0**2*d*x0*alpha1/b1**4 + 4*a0**4*a1**4*b0**2*x0**2*alpha0/b1**4 - 8*a0**4*a1**2*b0**2*c*d*alpha3/b1**2 - 8*a0**4*a1**2*b0**2*c*x0*alpha2/b1**2 - 8*a0**4*a1**2*b0**2*d*x0*alpha1/b1**2 - 8*a0**4*a1**2*b0**2*x0**2*alpha0/b1**2 + 4*a0**4*b0**2*c**2*sp.sin(theta)**2 + 8*a0**4*b0**2*c*x0*alpha2 + 4*a0**4*b0**2*x0**2*alpha0) + 2*b0**4*x0**4*alpha0/(4*a0**4*a1**2*b0**2*d**2*sp.cos(theta)**2/b1**2 + 8*a0**4*a1**2*b0**2*d*x0*alpha1/b1**2 + 4*a0**4*a1**2*b0**2*x0**2*alpha0/b1**2 - 8*a0**4*b0**2*c*d*alpha3 - 8*a0**4*b0**2*c*x0*alpha2 - 8*a0**4*b0**2*d*x0*alpha1 - 8*a0**4*b0**2*x0**2*alpha0 + 4*a0**4*beta2*c**2*sp.sin(theta)**2/a1**2 + 8*a0**4*beta2*c*x0*alpha2/a1**2 + 4*a0**4*beta2*x0**2*alpha0/a1**2) + b0**4*x0**4*sp.cos(theta)**4/(4*a0**4*b0**2*d**2*sp.cos(theta)**2 + 8*a0**4*b0**2*d*x0*alpha1 + 4*a0**4*b0**2*x0**2*alpha0 - 8*a0**4*beta2*c*d*alpha3/a1**2 - 8*a0**4*beta2*c*x0*alpha2/a1**2 - 8*a0**4*beta2*d*x0*alpha1/a1**2 - 8*a0**4*beta2*x0**2*alpha0/a1**2 + 4*a0**4*b0**2*b1**4*c**2*sp.sin(theta)**2/a1**4 + 8*a0**4*b0**2*b1**4*c*x0*alpha2/a1**4 + 4*a0**4*b0**2*b1**4*x0**2*alpha0/a1**4) - 2*b0**4*x0**2*sp.sin(theta)**4/(Gamma1) - 4*b0**4*x0**2*alpha0/(Gamma2) - 2*b0**4*x0**2*sp.cos(theta)**4/(Gamma4) + b0**4*sp.sin(theta)**4/(Gamma6) + 2*b0**4*alpha0/(Gamma5) + b0**4*sp.cos(theta)**4/(Gamma0) - 2*b0**2*c**2*x0**2*sp.sin(theta)**2/(Gamma1) - 2*b0**2*c**2*x0**2*sp.cos(theta)**2/(Gamma2) + 2*b0**2*c**2*sp.sin(theta)**2/(Gamma6) + 2*b0**2*c**2*sp.cos(theta)**2/(Gamma5) - 4*b0**2*c*x0**3*alpha2/(Gamma1) - 4*b0**2*c*x0**3*sp.cos(theta)**3/(Gamma2) + 4*b0**2*c*x0*alpha2/(Gamma6) + 4*b0**2*c*x0*sp.cos(theta)**3/(Gamma5) - 2*b0**2*d**2*x0**2*sp.sin(theta)**2/(Gamma2) - 2*b0**2*d**2*x0**2*sp.cos(theta)**2/(Gamma4) + 2*b0**2*d**2*sp.sin(theta)**2/(Gamma5) + 2*b0**2*d**2*sp.cos(theta)**2/(Gamma0) - 4*b0**2*d*x0**3*sp.sin(theta)**3/(Gamma2) - 4*b0**2*d*x0**3*alpha1/(Gamma4) + 4*b0**2*d*x0*sp.sin(theta)**3/(Gamma5) + 4*b0**2*d*x0*alpha1/(Gamma0) - 2*b0**2*x0**4*alpha0/(Gamma1) - 2*b0**2*x0**4*sp.sin(theta)**4/(Gamma2) - 2*b0**2*x0**4*sp.cos(theta)**4/(4*beta0**2*sp.cos(theta)**2/b1**2 + 8*beta0*x0*alpha1/b1**2 + 4*a0**2*a1**2*b0**2*x0**2*alpha0/b1**2 - beta1*c*d*alpha3 - beta1*c*x0*alpha2 - beta1*d*x0*alpha1 - beta1*x0**2*alpha0 + 4*a0**2*beta2*c**2*sp.sin(theta)**2/a1**2 + beta1*b1**2*c*x0*alpha2/a1**2 + 4*a0**2*beta2*x0**2*alpha0/a1**2) - 2*b0**2*x0**4*alpha0/(Gamma4) + 2*b0**2*x0**2*sp.sin(theta)**2/(4*beta0**2*sp.cos(theta)**2/b1**4 + 8*beta0*x0*alpha1/b1**4 + 4*a0**2*a1**2*b0**2*x0**2*alpha0/b1**4 - beta1*c*d*alpha3/b1**2 - beta1*c*x0*alpha2/b1**2 - beta1*d*x0*alpha1/b1**2 - beta1*x0**2*alpha0/b1**2 + 4*a0**2*b0**2*c**2*sp.sin(theta)**2/a1**2 + beta1*c*x0*alpha2/a1**2 + 4*a0**2*b0**2*x0**2*alpha0/a1**2) + 2*b0**2*x0**2*alpha0/(Gamma6) + 2*b0**2*x0**2*sp.sin(theta)**4/(Gamma5) + 2*b0**2*x0**2*sp.cos(theta)**4/(Gamma5) + 2*b0**2*x0**2*sp.cos(theta)**2/(4*a0**2*b0**2*d**2*sp.cos(theta)**2/b1**2 + beta1*d*x0*alpha1/b1**2 + 4*a0**2*b0**2*x0**2*alpha0/b1**2 - beta1*c*d*alpha3/a1**2 - beta1*c*x0*alpha2/a1**2 - beta1*d*x0*alpha1/a1**2 - beta1*x0**2*alpha0/a1**2 + 4*a0**2*beta2*c**2*sp.sin(theta)**2/a1**4 + beta1*b1**2*c*x0*alpha2/a1**4 + 4*a0**2*beta2*x0**2*alpha0/a1**4) + 2*b0**2*x0**2*alpha0/(Gamma0) - 2*b0**2*sp.sin(theta)**2/(Gamma7) - 2*b0**2*sp.cos(theta)**2/(Gamma3) + c**4/(Gamma6) + 4*c**3*x0*sp.cos(theta)/(Gamma6) + 2*c**2*d**2/(Gamma5) + 4*c**2*d*x0*sp.sin(theta)/(Gamma5) + 6*c**2*x0**2*sp.cos(theta)**2/(Gamma6) + 2*c**2*x0**2*sp.sin(theta)**2/(Gamma5) - 2*c**2/(Gamma7) + 4*c*d**2*x0*sp.cos(theta)/(Gamma5) + 8*c*d*x0**2*alpha3/(Gamma5) + 4*c*x0**3*sp.cos(theta)**3/(Gamma6) + 4*c*x0**3*alpha2/(Gamma5) - 4*c*x0*sp.cos(theta)/(Gamma7) + d**4/(Gamma0) + 4*d**3*x0*sp.sin(theta)/(Gamma0) + 2*d**2*x0**2*sp.cos(theta)**2/(Gamma5) + 6*d**2*x0**2*sp.sin(theta)**2/(Gamma0) - 2*d**2/(Gamma3) + 4*d*x0**3*alpha1/(Gamma5) + 4*d*x0**3*sp.sin(theta)**3/(Gamma0) - 4*d*x0*sp.sin(theta)/(Gamma3) + x0**4*sp.cos(theta)**4/(Gamma6) + 2*x0**4*alpha0/(Gamma5) + x0**4*sp.sin(theta)**4/(Gamma0) - 2*x0**2*sp.cos(theta)**2/(Gamma7) - 2*x0**2*sp.sin(theta)**2/(Gamma3) - 1 + 1/(kappa0 + 8*b0**2*d*x0*alpha1/b1**4 + 4*b0**2*x0**2*alpha0/b1**4 - 8*b0**2*c*d*alpha3/(a1**2*b1**2) - 8*b0**2*c*x0*alpha2/(a1**2*b1**2) - 8*b0**2*d*x0*alpha1/(a1**2*b1**2) - 8*b0**2*x0**2*alpha0/(a1**2*b1**2) + 4*b0**2*c**2*sp.sin(theta)**2/a1**4 + 8*b0**2*c*x0*alpha2/a1**4 + 4*b0**2*x0**2*alpha0/a1**4) + x0**2/a0**2"
   ]
  },
  {
   "cell_type": "code",
   "execution_count": null,
   "metadata": {},
   "outputs": [],
   "source": []
  },
  {
   "cell_type": "markdown",
   "metadata": {},
   "source": [
    "# Working Ellipse Extrema Method in this markdown section"
   ]
  },
  {
   "cell_type": "code",
   "execution_count": 130,
   "metadata": {},
   "outputs": [],
   "source": [
    "#Eqn. 1.\n",
    "seqn = sp.sqrt(x**2+y**2) #separation equation\n",
    "dseqn = 0.5*(x**2+y**2)**(-0.5)*(2*x*deltax + 2*y*deltay) #derivative of separation equation"
   ]
  },
  {
   "cell_type": "code",
   "execution_count": 131,
   "metadata": {},
   "outputs": [],
   "source": [
    "#Eqn. 2.\n",
    "#yeqn = x*sp.cos(th) #y=mx+(b=0) describing the slope of the line from the origin to the 2D ellipse\n",
    "lookEllipseEqn = (((x-h)*sp.cos(psi) + (y-k)*sp.sin(psi))/a_lscdr)**2 + (((x-h)*sp.sin(psi) - (y-k)*sp.cos(psi))/b_lscdr)**2 - 1 #The equation of the 2D ellipse\n",
    "#lookEllipseEqn = lookEllipseEqn.subs(y,yeqn)\n",
    "yeqn = sp.solve(lookEllipseEqn,y)"
   ]
  },
  {
   "cell_type": "code",
   "execution_count": 132,
   "metadata": {},
   "outputs": [],
   "source": [
    "nu,a,b = sp.symbols(\"nu,a,b\",real=True)\n",
    "xellipseEqn = a_lscdr*sp.cos(psi)*sp.cos(nu) - b_lscdr*sp.sin(psi)*sp.sin(nu) + h #x parametric equation for ellipse rotated and not at origin\n",
    "yellipseEqn = a_lscdr*sp.sin(psi)*sp.cos(nu) + b_lscdr*sp.cos(psi)*sp.sin(nu) + k #y parametric equation for ellipse rotated and not at origin\n",
    "lookEllipseEqn2 = lookEllipseEqn.subs(x,xellipseEqn).subs(y,yellipseEqn) #ellipse equation with these substituted in"
   ]
  },
  {
   "cell_type": "code",
   "execution_count": 133,
   "metadata": {},
   "outputs": [],
   "source": [
    "difflookEllipseEqn2 = sp.diff(lookEllipseEqn2,nu)"
   ]
  },
  {
   "cell_type": "code",
   "execution_count": 134,
   "metadata": {},
   "outputs": [],
   "source": [
    "lookEllipseEqn3 = sp.sqrt(xellipseEqn**2 + yellipseEqn**2)\n",
    "diffLookEllipseEqn3 = sp.diff(lookEllipseEqn3,nu)#derivative of equation with respect to nu"
   ]
  },
  {
   "cell_type": "code",
   "execution_count": 135,
   "metadata": {},
   "outputs": [
    {
     "data": {
      "text/latex": [
       "$\\displaystyle \\frac{- a_{lscdr}^{2} \\sin{\\left(2 \\nu \\right)} - a_{lscdr} h \\sin{\\left(\\nu - \\psi \\right)} - a_{lscdr} h \\sin{\\left(\\nu + \\psi \\right)} - a_{lscdr} k \\cos{\\left(\\nu - \\psi \\right)} + a_{lscdr} k \\cos{\\left(\\nu + \\psi \\right)} + b_{lscdr}^{2} \\sin{\\left(2 \\nu \\right)} + b_{lscdr} h \\sin{\\left(\\nu - \\psi \\right)} - b_{lscdr} h \\sin{\\left(\\nu + \\psi \\right)} + b_{lscdr} k \\cos{\\left(\\nu - \\psi \\right)} + b_{lscdr} k \\cos{\\left(\\nu + \\psi \\right)}}{2 \\sqrt{\\left(a_{lscdr} \\sin{\\left(\\psi \\right)} \\cos{\\left(\\nu \\right)} + b_{lscdr} \\sin{\\left(\\nu \\right)} \\cos{\\left(\\psi \\right)} + k\\right)^{2} + \\left(a_{lscdr} \\cos{\\left(\\nu \\right)} \\cos{\\left(\\psi \\right)} - b_{lscdr} \\sin{\\left(\\nu \\right)} \\sin{\\left(\\psi \\right)} + h\\right)^{2}}}$"
      ],
      "text/plain": [
       "(-a_lscdr**2*sin(2*nu) - a_lscdr*h*sin(nu - psi) - a_lscdr*h*sin(nu + psi) - a_lscdr*k*cos(nu - psi) + a_lscdr*k*cos(nu + psi) + b_lscdr**2*sin(2*nu) + b_lscdr*h*sin(nu - psi) - b_lscdr*h*sin(nu + psi) + b_lscdr*k*cos(nu - psi) + b_lscdr*k*cos(nu + psi))/(2*sqrt((a_lscdr*sin(psi)*cos(nu) + b_lscdr*sin(nu)*cos(psi) + k)**2 + (a_lscdr*cos(nu)*cos(psi) - b_lscdr*sin(nu)*sin(psi) + h)**2))"
      ]
     },
     "execution_count": 135,
     "metadata": {},
     "output_type": "execute_result"
    }
   ],
   "source": [
    "sp.simplify(diffLookEllipseEqn3)"
   ]
  },
  {
   "cell_type": "code",
   "execution_count": 136,
   "metadata": {},
   "outputs": [],
   "source": [
    "diffLookEllipseEqn4 = sp.simplify(diffLookEllipseEqn3.subs(sp.sin(nu),sp.sqrt(1-sp.cos(nu)**2)).subs(sp.cos(nu),x)) #substitute in x for cos(nu)"
   ]
  },
  {
   "cell_type": "code",
   "execution_count": 137,
   "metadata": {},
   "outputs": [
    {
     "data": {
      "text/latex": [
       "$\\displaystyle \\frac{- a_{lscdr}^{2} x \\sqrt{1 - x^{2}} - a_{lscdr} h \\sqrt{1 - x^{2}} \\cos{\\left(\\psi \\right)} - a_{lscdr} k \\sqrt{1 - x^{2}} \\sin{\\left(\\psi \\right)} + b_{lscdr}^{2} x \\sqrt{1 - x^{2}} - b_{lscdr} h x \\sin{\\left(\\psi \\right)} + b_{lscdr} k x \\cos{\\left(\\psi \\right)}}{\\sqrt{\\left(a_{lscdr} x \\sin{\\left(\\psi \\right)} + b_{lscdr} \\sqrt{1 - x^{2}} \\cos{\\left(\\psi \\right)} + k\\right)^{2} + \\left(a_{lscdr} x \\cos{\\left(\\psi \\right)} - b_{lscdr} \\sqrt{1 - x^{2}} \\sin{\\left(\\psi \\right)} + h\\right)^{2}}}$"
      ],
      "text/plain": [
       "(-a_lscdr**2*x*sqrt(1 - x**2) - a_lscdr*h*sqrt(1 - x**2)*cos(psi) - a_lscdr*k*sqrt(1 - x**2)*sin(psi) + b_lscdr**2*x*sqrt(1 - x**2) - b_lscdr*h*x*sin(psi) + b_lscdr*k*x*cos(psi))/sqrt((a_lscdr*x*sin(psi) + b_lscdr*sqrt(1 - x**2)*cos(psi) + k)**2 + (a_lscdr*x*cos(psi) - b_lscdr*sqrt(1 - x**2)*sin(psi) + h)**2)"
      ]
     },
     "execution_count": 137,
     "metadata": {},
     "output_type": "execute_result"
    }
   ],
   "source": [
    "diffLookEllipseEqn4"
   ]
  },
  {
   "cell_type": "code",
   "execution_count": 138,
   "metadata": {},
   "outputs": [],
   "source": [
    "num,den = sp.fraction(diffLookEllipseEqn4)"
   ]
  },
  {
   "cell_type": "code",
   "execution_count": 139,
   "metadata": {},
   "outputs": [
    {
     "data": {
      "text/latex": [
       "$\\displaystyle - a_{lscdr}^{2} x \\sqrt{1 - x^{2}} - a_{lscdr} h \\sqrt{1 - x^{2}} \\cos{\\left(\\psi \\right)} - a_{lscdr} k \\sqrt{1 - x^{2}} \\sin{\\left(\\psi \\right)} + b_{lscdr}^{2} x \\sqrt{1 - x^{2}} - b_{lscdr} h x \\sin{\\left(\\psi \\right)} + b_{lscdr} k x \\cos{\\left(\\psi \\right)}$"
      ],
      "text/plain": [
       "-a_lscdr**2*x*sqrt(1 - x**2) - a_lscdr*h*sqrt(1 - x**2)*cos(psi) - a_lscdr*k*sqrt(1 - x**2)*sin(psi) + b_lscdr**2*x*sqrt(1 - x**2) - b_lscdr*h*x*sin(psi) + b_lscdr*k*x*cos(psi)"
      ]
     },
     "execution_count": 139,
     "metadata": {},
     "output_type": "execute_result"
    }
   ],
   "source": [
    "num"
   ]
  },
  {
   "cell_type": "code",
   "execution_count": 140,
   "metadata": {},
   "outputs": [],
   "source": [
    "numPoly = sp.Poly(num,sp.sqrt(1-x**2))"
   ]
  },
  {
   "cell_type": "code",
   "execution_count": 141,
   "metadata": {},
   "outputs": [],
   "source": [
    "Acoeff = numPoly.coeffs()[0]\n",
    "Bcoeff = numPoly.coeffs()[1]\n",
    "eqn5 = -Acoeff**2*x**2 + Acoeff**2 - Bcoeff**2"
   ]
  },
  {
   "cell_type": "code",
   "execution_count": 142,
   "metadata": {},
   "outputs": [
    {
     "data": {
      "text/latex": [
       "$\\displaystyle - a_{lscdr}^{4} x^{4} + a_{lscdr}^{4} x^{2} - 2 a_{lscdr}^{3} h x^{3} \\cos{\\left(\\psi \\right)} + 2 a_{lscdr}^{3} h x \\cos{\\left(\\psi \\right)} - 2 a_{lscdr}^{3} k x^{3} \\sin{\\left(\\psi \\right)} + 2 a_{lscdr}^{3} k x \\sin{\\left(\\psi \\right)} + 2 a_{lscdr}^{2} b_{lscdr}^{2} x^{4} - 2 a_{lscdr}^{2} b_{lscdr}^{2} x^{2} - a_{lscdr}^{2} h^{2} x^{2} \\cos^{2}{\\left(\\psi \\right)} + a_{lscdr}^{2} h^{2} \\cos^{2}{\\left(\\psi \\right)} - 2 a_{lscdr}^{2} h k x^{2} \\sin{\\left(\\psi \\right)} \\cos{\\left(\\psi \\right)} + 2 a_{lscdr}^{2} h k \\sin{\\left(\\psi \\right)} \\cos{\\left(\\psi \\right)} - a_{lscdr}^{2} k^{2} x^{2} \\sin^{2}{\\left(\\psi \\right)} + a_{lscdr}^{2} k^{2} \\sin^{2}{\\left(\\psi \\right)} + 2 a_{lscdr} b_{lscdr}^{2} h x^{3} \\cos{\\left(\\psi \\right)} - 2 a_{lscdr} b_{lscdr}^{2} h x \\cos{\\left(\\psi \\right)} + 2 a_{lscdr} b_{lscdr}^{2} k x^{3} \\sin{\\left(\\psi \\right)} - 2 a_{lscdr} b_{lscdr}^{2} k x \\sin{\\left(\\psi \\right)} - b_{lscdr}^{4} x^{4} + b_{lscdr}^{4} x^{2} - b_{lscdr}^{2} h^{2} x^{2} \\sin^{2}{\\left(\\psi \\right)} + 2 b_{lscdr}^{2} h k x^{2} \\sin{\\left(\\psi \\right)} \\cos{\\left(\\psi \\right)} - b_{lscdr}^{2} k^{2} x^{2} \\cos^{2}{\\left(\\psi \\right)}$"
      ],
      "text/plain": [
       "-a_lscdr**4*x**4 + a_lscdr**4*x**2 - 2*a_lscdr**3*h*x**3*cos(psi) + 2*a_lscdr**3*h*x*cos(psi) - 2*a_lscdr**3*k*x**3*sin(psi) + 2*a_lscdr**3*k*x*sin(psi) + 2*a_lscdr**2*b_lscdr**2*x**4 - 2*a_lscdr**2*b_lscdr**2*x**2 - a_lscdr**2*h**2*x**2*cos(psi)**2 + a_lscdr**2*h**2*cos(psi)**2 - 2*a_lscdr**2*h*k*x**2*sin(psi)*cos(psi) + 2*a_lscdr**2*h*k*sin(psi)*cos(psi) - a_lscdr**2*k**2*x**2*sin(psi)**2 + a_lscdr**2*k**2*sin(psi)**2 + 2*a_lscdr*b_lscdr**2*h*x**3*cos(psi) - 2*a_lscdr*b_lscdr**2*h*x*cos(psi) + 2*a_lscdr*b_lscdr**2*k*x**3*sin(psi) - 2*a_lscdr*b_lscdr**2*k*x*sin(psi) - b_lscdr**4*x**4 + b_lscdr**4*x**2 - b_lscdr**2*h**2*x**2*sin(psi)**2 + 2*b_lscdr**2*h*k*x**2*sin(psi)*cos(psi) - b_lscdr**2*k**2*x**2*cos(psi)**2"
      ]
     },
     "execution_count": 142,
     "metadata": {},
     "output_type": "execute_result"
    }
   ],
   "source": [
    "sp.expand(eqn5)"
   ]
  },
  {
   "cell_type": "code",
   "execution_count": 143,
   "metadata": {},
   "outputs": [],
   "source": [
    "eqn5Poly = sp.Poly(sp.expand(eqn5),x)\n",
    "A1coeff = eqn5Poly.coeffs()[0]\n",
    "B1coeff = eqn5Poly.coeffs()[1]\n",
    "C1coeff = eqn5Poly.coeffs()[2]\n",
    "D1coeff = eqn5Poly.coeffs()[3]\n",
    "E1coeff = eqn5Poly.coeffs()[4]"
   ]
  },
  {
   "cell_type": "code",
   "execution_count": 149,
   "metadata": {},
   "outputs": [
    {
     "name": "stdout",
     "output_type": "stream",
     "text": [
      "-a_lscdr**4 + 2*a_lscdr**2*b_lscdr**2 - b_lscdr**4\n"
     ]
    }
   ],
   "source": [
    "print(A1coeff)"
   ]
  },
  {
   "cell_type": "code",
   "execution_count": 150,
   "metadata": {},
   "outputs": [
    {
     "name": "stdout",
     "output_type": "stream",
     "text": [
      "-2*a_lscdr**3*h*cos(psi) - 2*a_lscdr**3*k*sin(psi) + 2*a_lscdr*b_lscdr**2*h*cos(psi) + 2*a_lscdr*b_lscdr**2*k*sin(psi)\n"
     ]
    }
   ],
   "source": [
    "print(B1coeff)"
   ]
  },
  {
   "cell_type": "code",
   "execution_count": 151,
   "metadata": {},
   "outputs": [
    {
     "name": "stdout",
     "output_type": "stream",
     "text": [
      "a_lscdr**4 - 2*a_lscdr**2*b_lscdr**2 - a_lscdr**2*h**2*cos(psi)**2 - 2*a_lscdr**2*h*k*sin(psi)*cos(psi) - a_lscdr**2*k**2*sin(psi)**2 + b_lscdr**4 - b_lscdr**2*h**2*sin(psi)**2 + 2*b_lscdr**2*h*k*sin(psi)*cos(psi) - b_lscdr**2*k**2*cos(psi)**2\n"
     ]
    }
   ],
   "source": [
    "print(C1coeff)"
   ]
  },
  {
   "cell_type": "code",
   "execution_count": 152,
   "metadata": {},
   "outputs": [
    {
     "name": "stdout",
     "output_type": "stream",
     "text": [
      "2*a_lscdr**3*h*cos(psi) + 2*a_lscdr**3*k*sin(psi) - 2*a_lscdr*b_lscdr**2*h*cos(psi) - 2*a_lscdr*b_lscdr**2*k*sin(psi)\n"
     ]
    }
   ],
   "source": [
    "print(D1coeff)"
   ]
  },
  {
   "cell_type": "code",
   "execution_count": 153,
   "metadata": {},
   "outputs": [
    {
     "name": "stdout",
     "output_type": "stream",
     "text": [
      "a_lscdr**2*h**2*cos(psi)**2 + 2*a_lscdr**2*h*k*sin(psi)*cos(psi) + a_lscdr**2*k**2*sin(psi)**2\n"
     ]
    }
   ],
   "source": [
    "print(E1coeff)"
   ]
  },
  {
   "cell_type": "code",
   "execution_count": null,
   "metadata": {},
   "outputs": [],
   "source": []
  },
  {
   "cell_type": "code",
   "execution_count": 79,
   "metadata": {},
   "outputs": [],
   "source": [
    "#Eqn 3. derivative of ellipse eqn\n",
    "diffLookEllipseEqn = 2/a_lscdr**2*((x-h)*sp.cos(psi) + (y-h)*sp.sin(psi))*(sp.cos(psi)*deltax+sp.sin(psi)*deltay) + 2/b_lscdr**2*((x-h)*sp.sin(psi) - (y-k)*sp.cos(psi))*(sp.sin(psi)*deltax - sp.cos(psi)*deltay) #manually differentiated w.r.t x,y\n",
    "#dybydxDiffLookEllipseEqn = sp.solve(diffLookEllipseEqn,deltay/deltax) #frustratingly, this doesn't work\n",
    "polyDiffLookEllipseEqn_deltax = sp.Poly(diffLookEllipseEqn,deltax) #0=A1 dx + B1\n",
    "polyDiffLookEllipseEqn_deltay = sp.Poly(diffLookEllipseEqn,deltay) #0=A2 dy + B2, Note B1 = A2dy ===> 0=A1 dx + A2 dy ==> dy/dx = -A1/A2\n",
    "dydxEqn = -polyDiffLookEllipseEqn_deltax.coeffs()[0]/polyDiffLookEllipseEqn_deltay.coeffs()[0] #"
   ]
  },
  {
   "cell_type": "code",
   "execution_count": null,
   "metadata": {},
   "outputs": [],
   "source": []
  },
  {
   "cell_type": "code",
   "execution_count": null,
   "metadata": {},
   "outputs": [],
   "source": []
  },
  {
   "cell_type": "code",
   "execution_count": null,
   "metadata": {},
   "outputs": [],
   "source": []
  },
  {
   "cell_type": "code",
   "execution_count": null,
   "metadata": {},
   "outputs": [],
   "source": []
  },
  {
   "cell_type": "markdown",
   "metadata": {},
   "source": [
    "# Calculate projected, derotated, centered FOV ellipse separation extrema"
   ]
  },
  {
   "cell_type": "code",
   "execution_count": 23,
   "metadata": {},
   "outputs": [],
   "source": [
    "x, y, th, h, k, psi, a_lscdr, b_lscdr, deltax, deltay = sp.symbols(\"x, y, th, h, k, psi, a_lscdr, b_lscdr, deltax, deltay\",real=True)\n",
    "K, gamma, alpha, beta, Omega, omega, epsilon, sigma, Sigma, varepsilon, zeta, A, B, C, D, E = sp.symbols(\"K, gamma, alpha, beta, Omega, omega, epsilon, sigma, Sigma, varepsilon, zeta, A, B, C, D, E\", real=True)"
   ]
  },
  {
   "cell_type": "code",
   "execution_count": 24,
   "metadata": {},
   "outputs": [],
   "source": [
    "#Eqn. 1.\n",
    "seqn = sp.sqrt(x**2+y**2) #separation equation\n",
    "dseqn = 0.5*(x**2+y**2)**(-0.5)*(2*x*deltax + 2*y*deltay) #derivative of separation equation"
   ]
  },
  {
   "cell_type": "code",
   "execution_count": 25,
   "metadata": {},
   "outputs": [],
   "source": [
    "#Eqn. 2.\n",
    "#yeqn = x*sp.cos(th) #y=mx+(b=0) describing the slope of the line from the origin to the 2D ellipse\n",
    "lookEllipseEqn = (((x-h)*sp.cos(psi) + (y-k)*sp.sin(psi))/a_lscdr)**2 + (((x-h)*sp.sin(psi) - (y-k)*sp.cos(psi))/b_lscdr)**2 - 1 #The equation of the 2D ellipse\n",
    "#lookEllipseEqn = lookEllipseEqn.subs(y,yeqn)\n",
    "yeqn = sp.solve(lookEllipseEqn,y)"
   ]
  },
  {
   "cell_type": "code",
   "execution_count": 26,
   "metadata": {},
   "outputs": [
    {
     "data": {
      "text/plain": [
       "[(-a_lscdr**2*h*sin(2*psi)/2 + a_lscdr**2*k*cos(psi)**2 + a_lscdr**2*x*sin(2*psi)/2 - a_lscdr*b_lscdr*sqrt(-a_lscdr**2*sin(psi)**2 + a_lscdr**2 + b_lscdr**2*sin(psi)**2 - h**2 + 2*h*x - x**2) + b_lscdr**2*h*sin(2*psi)/2 + b_lscdr**2*k*sin(psi)**2 - b_lscdr**2*x*sin(2*psi)/2)/(a_lscdr**2*cos(psi)**2 + b_lscdr**2*sin(psi)**2),\n",
       " (-a_lscdr**2*h*sin(2*psi)/2 + a_lscdr**2*k*cos(psi)**2 + a_lscdr**2*x*sin(2*psi)/2 + a_lscdr*b_lscdr*sqrt(-a_lscdr**2*sin(psi)**2 + a_lscdr**2 + b_lscdr**2*sin(psi)**2 - h**2 + 2*h*x - x**2) + b_lscdr**2*h*sin(2*psi)/2 + b_lscdr**2*k*sin(psi)**2 - b_lscdr**2*x*sin(2*psi)/2)/(a_lscdr**2*cos(psi)**2 + b_lscdr**2*sin(psi)**2)]"
      ]
     },
     "execution_count": 26,
     "metadata": {},
     "output_type": "execute_result"
    }
   ],
   "source": [
    "yeqn"
   ]
  },
  {
   "cell_type": "code",
   "execution_count": 27,
   "metadata": {},
   "outputs": [
    {
     "data": {
      "text/latex": [
       "$\\displaystyle \\frac{- \\frac{a_{lscdr}^{2} h \\sin{\\left(2 \\psi \\right)}}{2} + a_{lscdr}^{2} k \\cos^{2}{\\left(\\psi \\right)} + \\frac{a_{lscdr}^{2} x \\sin{\\left(2 \\psi \\right)}}{2} - a_{lscdr} b_{lscdr} \\sqrt{- a_{lscdr}^{2} \\sin^{2}{\\left(\\psi \\right)} + a_{lscdr}^{2} + b_{lscdr}^{2} \\sin^{2}{\\left(\\psi \\right)} - h^{2} + 2 h x - x^{2}} + \\frac{b_{lscdr}^{2} h \\sin{\\left(2 \\psi \\right)}}{2} + b_{lscdr}^{2} k \\sin^{2}{\\left(\\psi \\right)} - \\frac{b_{lscdr}^{2} x \\sin{\\left(2 \\psi \\right)}}{2}}{a_{lscdr}^{2} \\cos^{2}{\\left(\\psi \\right)} + b_{lscdr}^{2} \\sin^{2}{\\left(\\psi \\right)}}$"
      ],
      "text/plain": [
       "(-a_lscdr**2*h*sin(2*psi)/2 + a_lscdr**2*k*cos(psi)**2 + a_lscdr**2*x*sin(2*psi)/2 - a_lscdr*b_lscdr*sqrt(-a_lscdr**2*sin(psi)**2 + a_lscdr**2 + b_lscdr**2*sin(psi)**2 - h**2 + 2*h*x - x**2) + b_lscdr**2*h*sin(2*psi)/2 + b_lscdr**2*k*sin(psi)**2 - b_lscdr**2*x*sin(2*psi)/2)/(a_lscdr**2*cos(psi)**2 + b_lscdr**2*sin(psi)**2)"
      ]
     },
     "execution_count": 27,
     "metadata": {},
     "output_type": "execute_result"
    }
   ],
   "source": [
    "yeqn[0]"
   ]
  },
  {
   "cell_type": "code",
   "execution_count": 28,
   "metadata": {},
   "outputs": [],
   "source": [
    "# I might have to do this more than once for each yeqn solution"
   ]
  },
  {
   "cell_type": "code",
   "execution_count": 29,
   "metadata": {},
   "outputs": [],
   "source": [
    "#Eqn 3. derivative of ellipse eqn\n",
    "diffLookEllipseEqn = 2/a_lscdr**2*((x-h)*sp.cos(psi) + (y-h)*sp.sin(psi))*(sp.cos(psi)*deltax+sp.sin(psi)*deltay) + 2/b_lscdr**2*((x-h)*sp.sin(psi) - (y-k)*sp.cos(psi))*(sp.sin(psi)*deltax - sp.cos(psi)*deltay) #manually differentiated w.r.t x,y\n",
    "#dybydxDiffLookEllipseEqn = sp.solve(diffLookEllipseEqn,deltay/deltax) #frustratingly, this doesn't work\n",
    "polyDiffLookEllipseEqn_deltax = sp.Poly(diffLookEllipseEqn,deltax) #0=A1 dx + B1\n",
    "polyDiffLookEllipseEqn_deltay = sp.Poly(diffLookEllipseEqn,deltay) #0=A2 dy + B2, Note B1 = A2dy ===> 0=A1 dx + A2 dy ==> dy/dx = -A1/A2\n",
    "dydxEqn = -polyDiffLookEllipseEqn_deltax.coeffs()[0]/polyDiffLookEllipseEqn_deltay.coeffs()[0] #"
   ]
  },
  {
   "cell_type": "code",
   "execution_count": 30,
   "metadata": {},
   "outputs": [
    {
     "data": {
      "text/latex": [
       "$\\displaystyle \\operatorname{Poly}{\\left( \\left(- \\frac{2 h \\sin^{2}{\\left(\\psi \\right)}}{b_{lscdr}^{2}} + \\frac{2 k \\sin{\\left(\\psi \\right)} \\cos{\\left(\\psi \\right)}}{b_{lscdr}^{2}} + \\frac{2 x \\sin^{2}{\\left(\\psi \\right)}}{b_{lscdr}^{2}} - \\frac{2 y \\sin{\\left(\\psi \\right)} \\cos{\\left(\\psi \\right)}}{b_{lscdr}^{2}} - \\frac{2 h \\sin{\\left(\\psi \\right)} \\cos{\\left(\\psi \\right)}}{a_{lscdr}^{2}} - \\frac{2 h \\cos^{2}{\\left(\\psi \\right)}}{a_{lscdr}^{2}} + \\frac{2 x \\cos^{2}{\\left(\\psi \\right)}}{a_{lscdr}^{2}} + \\frac{2 y \\sin{\\left(\\psi \\right)} \\cos{\\left(\\psi \\right)}}{a_{lscdr}^{2}}\\right) deltax + \\frac{2 deltay h \\sin{\\left(\\psi \\right)} \\cos{\\left(\\psi \\right)}}{b_{lscdr}^{2}} - \\frac{2 deltay k \\cos^{2}{\\left(\\psi \\right)}}{b_{lscdr}^{2}} - \\frac{2 deltay x \\sin{\\left(\\psi \\right)} \\cos{\\left(\\psi \\right)}}{b_{lscdr}^{2}} + \\frac{2 deltay y \\cos^{2}{\\left(\\psi \\right)}}{b_{lscdr}^{2}} - \\frac{2 deltay h \\sin^{2}{\\left(\\psi \\right)}}{a_{lscdr}^{2}} - \\frac{2 deltay h \\sin{\\left(\\psi \\right)} \\cos{\\left(\\psi \\right)}}{a_{lscdr}^{2}} + \\frac{2 deltay x \\sin{\\left(\\psi \\right)} \\cos{\\left(\\psi \\right)}}{a_{lscdr}^{2}} + \\frac{2 deltay y \\sin^{2}{\\left(\\psi \\right)}}{a_{lscdr}^{2}}, deltax, domain=EX \\right)}$"
      ],
      "text/plain": [
       "Poly((-2*h*sin(psi)**2/b_lscdr**2 + 2*k*sin(psi)*cos(psi)/b_lscdr**2 + 2*x*sin(psi)**2/b_lscdr**2 - 2*y*sin(psi)*cos(psi)/b_lscdr**2 - 2*h*sin(psi)*cos(psi)/a_lscdr**2 - 2*h*cos(psi)**2/a_lscdr**2 + 2*x*cos(psi)**2/a_lscdr**2 + 2*y*sin(psi)*cos(psi)/a_lscdr**2)*deltax + 2*deltay*h*sin(psi)*cos(psi)/b_lscdr**2 - 2*deltay*k*cos(psi)**2/b_lscdr**2 - 2*deltay*x*sin(psi)*cos(psi)/b_lscdr**2 + 2*deltay*y*cos(psi)**2/b_lscdr**2 - 2*deltay*h*sin(psi)**2/a_lscdr**2 - 2*deltay*h*sin(psi)*cos(psi)/a_lscdr**2 + 2*deltay*x*sin(psi)*cos(psi)/a_lscdr**2 + 2*deltay*y*sin(psi)**2/a_lscdr**2, deltax, domain='EX')"
      ]
     },
     "execution_count": 30,
     "metadata": {},
     "output_type": "execute_result"
    }
   ],
   "source": [
    "polyDiffLookEllipseEqn_deltax"
   ]
  },
  {
   "cell_type": "code",
   "execution_count": 31,
   "metadata": {},
   "outputs": [
    {
     "data": {
      "text/latex": [
       "$\\displaystyle - \\frac{2 h \\sin^{2}{\\left(\\psi \\right)}}{b_{lscdr}^{2}} + \\frac{2 k \\sin{\\left(\\psi \\right)} \\cos{\\left(\\psi \\right)}}{b_{lscdr}^{2}} + \\frac{2 x \\sin^{2}{\\left(\\psi \\right)}}{b_{lscdr}^{2}} - \\frac{2 y \\sin{\\left(\\psi \\right)} \\cos{\\left(\\psi \\right)}}{b_{lscdr}^{2}} - \\frac{2 h \\sin{\\left(\\psi \\right)} \\cos{\\left(\\psi \\right)}}{a_{lscdr}^{2}} - \\frac{2 h \\cos^{2}{\\left(\\psi \\right)}}{a_{lscdr}^{2}} + \\frac{2 x \\cos^{2}{\\left(\\psi \\right)}}{a_{lscdr}^{2}} + \\frac{2 y \\sin{\\left(\\psi \\right)} \\cos{\\left(\\psi \\right)}}{a_{lscdr}^{2}}$"
      ],
      "text/plain": [
       "-2*h*sin(psi)**2/b_lscdr**2 + 2*k*sin(psi)*cos(psi)/b_lscdr**2 + 2*x*sin(psi)**2/b_lscdr**2 - 2*y*sin(psi)*cos(psi)/b_lscdr**2 - 2*h*sin(psi)*cos(psi)/a_lscdr**2 - 2*h*cos(psi)**2/a_lscdr**2 + 2*x*cos(psi)**2/a_lscdr**2 + 2*y*sin(psi)*cos(psi)/a_lscdr**2"
      ]
     },
     "execution_count": 31,
     "metadata": {},
     "output_type": "execute_result"
    }
   ],
   "source": [
    "polyDiffLookEllipseEqn_deltax.coeffs()[0]"
   ]
  },
  {
   "cell_type": "code",
   "execution_count": 32,
   "metadata": {},
   "outputs": [
    {
     "data": {
      "text/latex": [
       "$\\displaystyle \\frac{a_{lscdr}^{2} \\left(- h \\cos{\\left(2 \\psi \\right)} + h - k \\sin{\\left(2 \\psi \\right)} + x \\cos{\\left(2 \\psi \\right)} - x + y \\sin{\\left(2 \\psi \\right)}\\right) + b_{lscdr}^{2} \\left(\\sqrt{2} h \\sin{\\left(2 \\psi + \\frac{\\pi}{4} \\right)} + h - x \\cos{\\left(2 \\psi \\right)} - x - y \\sin{\\left(2 \\psi \\right)}\\right)}{a_{lscdr}^{2} \\left(h \\sin{\\left(2 \\psi \\right)} - k \\cos{\\left(2 \\psi \\right)} - k - x \\sin{\\left(2 \\psi \\right)} + y \\cos{\\left(2 \\psi \\right)} + y\\right) + b_{lscdr}^{2} \\left(\\sqrt{2} h \\cos{\\left(2 \\psi + \\frac{\\pi}{4} \\right)} - h + x \\sin{\\left(2 \\psi \\right)} - y \\cos{\\left(2 \\psi \\right)} + y\\right)}$"
      ],
      "text/plain": [
       "(a_lscdr**2*(-h*cos(2*psi) + h - k*sin(2*psi) + x*cos(2*psi) - x + y*sin(2*psi)) + b_lscdr**2*(sqrt(2)*h*sin(2*psi + pi/4) + h - x*cos(2*psi) - x - y*sin(2*psi)))/(a_lscdr**2*(h*sin(2*psi) - k*cos(2*psi) - k - x*sin(2*psi) + y*cos(2*psi) + y) + b_lscdr**2*(sqrt(2)*h*cos(2*psi + pi/4) - h + x*sin(2*psi) - y*cos(2*psi) + y))"
      ]
     },
     "execution_count": 32,
     "metadata": {},
     "output_type": "execute_result"
    }
   ],
   "source": [
    "sp.simplify(dydxEqn)"
   ]
  },
  {
   "cell_type": "code",
   "execution_count": 33,
   "metadata": {},
   "outputs": [],
   "source": [
    "#Eqn. 4\n",
    "meqn = y/x\n",
    "dybydx = -1/meqn"
   ]
  },
  {
   "cell_type": "code",
   "execution_count": 34,
   "metadata": {},
   "outputs": [],
   "source": [
    "tmpEqn = sp.simplify(dydxEqn) + x/y #I manually combined eqn 3. and 4."
   ]
  },
  {
   "cell_type": "markdown",
   "metadata": {},
   "source": [
    "#### Must be run with yeqn[0] and yeqn[1]"
   ]
  },
  {
   "cell_type": "code",
   "execution_count": 35,
   "metadata": {},
   "outputs": [],
   "source": [
    "tmpEqn2 = tmpEqn.subs(y,yeqn[1])"
   ]
  },
  {
   "cell_type": "code",
   "execution_count": 36,
   "metadata": {},
   "outputs": [
    {
     "data": {
      "text/latex": [
       "$\\displaystyle \\frac{x \\left(a_{lscdr}^{2} \\cos^{2}{\\left(\\psi \\right)} + b_{lscdr}^{2} \\sin^{2}{\\left(\\psi \\right)}\\right)}{- \\frac{a_{lscdr}^{2} h \\sin{\\left(2 \\psi \\right)}}{2} + a_{lscdr}^{2} k \\cos^{2}{\\left(\\psi \\right)} + \\frac{a_{lscdr}^{2} x \\sin{\\left(2 \\psi \\right)}}{2} + a_{lscdr} b_{lscdr} \\sqrt{- a_{lscdr}^{2} \\sin^{2}{\\left(\\psi \\right)} + a_{lscdr}^{2} + b_{lscdr}^{2} \\sin^{2}{\\left(\\psi \\right)} - h^{2} + 2 h x - x^{2}} + \\frac{b_{lscdr}^{2} h \\sin{\\left(2 \\psi \\right)}}{2} + b_{lscdr}^{2} k \\sin^{2}{\\left(\\psi \\right)} - \\frac{b_{lscdr}^{2} x \\sin{\\left(2 \\psi \\right)}}{2}} + \\frac{a_{lscdr}^{2} \\left(- h \\cos{\\left(2 \\psi \\right)} + h - k \\sin{\\left(2 \\psi \\right)} + x \\cos{\\left(2 \\psi \\right)} - x + \\frac{\\left(- \\frac{a_{lscdr}^{2} h \\sin{\\left(2 \\psi \\right)}}{2} + a_{lscdr}^{2} k \\cos^{2}{\\left(\\psi \\right)} + \\frac{a_{lscdr}^{2} x \\sin{\\left(2 \\psi \\right)}}{2} + a_{lscdr} b_{lscdr} \\sqrt{- a_{lscdr}^{2} \\sin^{2}{\\left(\\psi \\right)} + a_{lscdr}^{2} + b_{lscdr}^{2} \\sin^{2}{\\left(\\psi \\right)} - h^{2} + 2 h x - x^{2}} + \\frac{b_{lscdr}^{2} h \\sin{\\left(2 \\psi \\right)}}{2} + b_{lscdr}^{2} k \\sin^{2}{\\left(\\psi \\right)} - \\frac{b_{lscdr}^{2} x \\sin{\\left(2 \\psi \\right)}}{2}\\right) \\sin{\\left(2 \\psi \\right)}}{a_{lscdr}^{2} \\cos^{2}{\\left(\\psi \\right)} + b_{lscdr}^{2} \\sin^{2}{\\left(\\psi \\right)}}\\right) + b_{lscdr}^{2} \\left(\\sqrt{2} h \\sin{\\left(2 \\psi + \\frac{\\pi}{4} \\right)} + h - x \\cos{\\left(2 \\psi \\right)} - x - \\frac{\\left(- \\frac{a_{lscdr}^{2} h \\sin{\\left(2 \\psi \\right)}}{2} + a_{lscdr}^{2} k \\cos^{2}{\\left(\\psi \\right)} + \\frac{a_{lscdr}^{2} x \\sin{\\left(2 \\psi \\right)}}{2} + a_{lscdr} b_{lscdr} \\sqrt{- a_{lscdr}^{2} \\sin^{2}{\\left(\\psi \\right)} + a_{lscdr}^{2} + b_{lscdr}^{2} \\sin^{2}{\\left(\\psi \\right)} - h^{2} + 2 h x - x^{2}} + \\frac{b_{lscdr}^{2} h \\sin{\\left(2 \\psi \\right)}}{2} + b_{lscdr}^{2} k \\sin^{2}{\\left(\\psi \\right)} - \\frac{b_{lscdr}^{2} x \\sin{\\left(2 \\psi \\right)}}{2}\\right) \\sin{\\left(2 \\psi \\right)}}{a_{lscdr}^{2} \\cos^{2}{\\left(\\psi \\right)} + b_{lscdr}^{2} \\sin^{2}{\\left(\\psi \\right)}}\\right)}{a_{lscdr}^{2} \\left(h \\sin{\\left(2 \\psi \\right)} - k \\cos{\\left(2 \\psi \\right)} - k - x \\sin{\\left(2 \\psi \\right)} + \\frac{\\left(- \\frac{a_{lscdr}^{2} h \\sin{\\left(2 \\psi \\right)}}{2} + a_{lscdr}^{2} k \\cos^{2}{\\left(\\psi \\right)} + \\frac{a_{lscdr}^{2} x \\sin{\\left(2 \\psi \\right)}}{2} + a_{lscdr} b_{lscdr} \\sqrt{- a_{lscdr}^{2} \\sin^{2}{\\left(\\psi \\right)} + a_{lscdr}^{2} + b_{lscdr}^{2} \\sin^{2}{\\left(\\psi \\right)} - h^{2} + 2 h x - x^{2}} + \\frac{b_{lscdr}^{2} h \\sin{\\left(2 \\psi \\right)}}{2} + b_{lscdr}^{2} k \\sin^{2}{\\left(\\psi \\right)} - \\frac{b_{lscdr}^{2} x \\sin{\\left(2 \\psi \\right)}}{2}\\right) \\cos{\\left(2 \\psi \\right)}}{a_{lscdr}^{2} \\cos^{2}{\\left(\\psi \\right)} + b_{lscdr}^{2} \\sin^{2}{\\left(\\psi \\right)}} + \\frac{- \\frac{a_{lscdr}^{2} h \\sin{\\left(2 \\psi \\right)}}{2} + a_{lscdr}^{2} k \\cos^{2}{\\left(\\psi \\right)} + \\frac{a_{lscdr}^{2} x \\sin{\\left(2 \\psi \\right)}}{2} + a_{lscdr} b_{lscdr} \\sqrt{- a_{lscdr}^{2} \\sin^{2}{\\left(\\psi \\right)} + a_{lscdr}^{2} + b_{lscdr}^{2} \\sin^{2}{\\left(\\psi \\right)} - h^{2} + 2 h x - x^{2}} + \\frac{b_{lscdr}^{2} h \\sin{\\left(2 \\psi \\right)}}{2} + b_{lscdr}^{2} k \\sin^{2}{\\left(\\psi \\right)} - \\frac{b_{lscdr}^{2} x \\sin{\\left(2 \\psi \\right)}}{2}}{a_{lscdr}^{2} \\cos^{2}{\\left(\\psi \\right)} + b_{lscdr}^{2} \\sin^{2}{\\left(\\psi \\right)}}\\right) + b_{lscdr}^{2} \\left(\\sqrt{2} h \\cos{\\left(2 \\psi + \\frac{\\pi}{4} \\right)} - h + x \\sin{\\left(2 \\psi \\right)} - \\frac{\\left(- \\frac{a_{lscdr}^{2} h \\sin{\\left(2 \\psi \\right)}}{2} + a_{lscdr}^{2} k \\cos^{2}{\\left(\\psi \\right)} + \\frac{a_{lscdr}^{2} x \\sin{\\left(2 \\psi \\right)}}{2} + a_{lscdr} b_{lscdr} \\sqrt{- a_{lscdr}^{2} \\sin^{2}{\\left(\\psi \\right)} + a_{lscdr}^{2} + b_{lscdr}^{2} \\sin^{2}{\\left(\\psi \\right)} - h^{2} + 2 h x - x^{2}} + \\frac{b_{lscdr}^{2} h \\sin{\\left(2 \\psi \\right)}}{2} + b_{lscdr}^{2} k \\sin^{2}{\\left(\\psi \\right)} - \\frac{b_{lscdr}^{2} x \\sin{\\left(2 \\psi \\right)}}{2}\\right) \\cos{\\left(2 \\psi \\right)}}{a_{lscdr}^{2} \\cos^{2}{\\left(\\psi \\right)} + b_{lscdr}^{2} \\sin^{2}{\\left(\\psi \\right)}} + \\frac{- \\frac{a_{lscdr}^{2} h \\sin{\\left(2 \\psi \\right)}}{2} + a_{lscdr}^{2} k \\cos^{2}{\\left(\\psi \\right)} + \\frac{a_{lscdr}^{2} x \\sin{\\left(2 \\psi \\right)}}{2} + a_{lscdr} b_{lscdr} \\sqrt{- a_{lscdr}^{2} \\sin^{2}{\\left(\\psi \\right)} + a_{lscdr}^{2} + b_{lscdr}^{2} \\sin^{2}{\\left(\\psi \\right)} - h^{2} + 2 h x - x^{2}} + \\frac{b_{lscdr}^{2} h \\sin{\\left(2 \\psi \\right)}}{2} + b_{lscdr}^{2} k \\sin^{2}{\\left(\\psi \\right)} - \\frac{b_{lscdr}^{2} x \\sin{\\left(2 \\psi \\right)}}{2}}{a_{lscdr}^{2} \\cos^{2}{\\left(\\psi \\right)} + b_{lscdr}^{2} \\sin^{2}{\\left(\\psi \\right)}}\\right)}$"
      ],
      "text/plain": [
       "x*(a_lscdr**2*cos(psi)**2 + b_lscdr**2*sin(psi)**2)/(-a_lscdr**2*h*sin(2*psi)/2 + a_lscdr**2*k*cos(psi)**2 + a_lscdr**2*x*sin(2*psi)/2 + a_lscdr*b_lscdr*sqrt(-a_lscdr**2*sin(psi)**2 + a_lscdr**2 + b_lscdr**2*sin(psi)**2 - h**2 + 2*h*x - x**2) + b_lscdr**2*h*sin(2*psi)/2 + b_lscdr**2*k*sin(psi)**2 - b_lscdr**2*x*sin(2*psi)/2) + (a_lscdr**2*(-h*cos(2*psi) + h - k*sin(2*psi) + x*cos(2*psi) - x + (-a_lscdr**2*h*sin(2*psi)/2 + a_lscdr**2*k*cos(psi)**2 + a_lscdr**2*x*sin(2*psi)/2 + a_lscdr*b_lscdr*sqrt(-a_lscdr**2*sin(psi)**2 + a_lscdr**2 + b_lscdr**2*sin(psi)**2 - h**2 + 2*h*x - x**2) + b_lscdr**2*h*sin(2*psi)/2 + b_lscdr**2*k*sin(psi)**2 - b_lscdr**2*x*sin(2*psi)/2)*sin(2*psi)/(a_lscdr**2*cos(psi)**2 + b_lscdr**2*sin(psi)**2)) + b_lscdr**2*(sqrt(2)*h*sin(2*psi + pi/4) + h - x*cos(2*psi) - x - (-a_lscdr**2*h*sin(2*psi)/2 + a_lscdr**2*k*cos(psi)**2 + a_lscdr**2*x*sin(2*psi)/2 + a_lscdr*b_lscdr*sqrt(-a_lscdr**2*sin(psi)**2 + a_lscdr**2 + b_lscdr**2*sin(psi)**2 - h**2 + 2*h*x - x**2) + b_lscdr**2*h*sin(2*psi)/2 + b_lscdr**2*k*sin(psi)**2 - b_lscdr**2*x*sin(2*psi)/2)*sin(2*psi)/(a_lscdr**2*cos(psi)**2 + b_lscdr**2*sin(psi)**2)))/(a_lscdr**2*(h*sin(2*psi) - k*cos(2*psi) - k - x*sin(2*psi) + (-a_lscdr**2*h*sin(2*psi)/2 + a_lscdr**2*k*cos(psi)**2 + a_lscdr**2*x*sin(2*psi)/2 + a_lscdr*b_lscdr*sqrt(-a_lscdr**2*sin(psi)**2 + a_lscdr**2 + b_lscdr**2*sin(psi)**2 - h**2 + 2*h*x - x**2) + b_lscdr**2*h*sin(2*psi)/2 + b_lscdr**2*k*sin(psi)**2 - b_lscdr**2*x*sin(2*psi)/2)*cos(2*psi)/(a_lscdr**2*cos(psi)**2 + b_lscdr**2*sin(psi)**2) + (-a_lscdr**2*h*sin(2*psi)/2 + a_lscdr**2*k*cos(psi)**2 + a_lscdr**2*x*sin(2*psi)/2 + a_lscdr*b_lscdr*sqrt(-a_lscdr**2*sin(psi)**2 + a_lscdr**2 + b_lscdr**2*sin(psi)**2 - h**2 + 2*h*x - x**2) + b_lscdr**2*h*sin(2*psi)/2 + b_lscdr**2*k*sin(psi)**2 - b_lscdr**2*x*sin(2*psi)/2)/(a_lscdr**2*cos(psi)**2 + b_lscdr**2*sin(psi)**2)) + b_lscdr**2*(sqrt(2)*h*cos(2*psi + pi/4) - h + x*sin(2*psi) - (-a_lscdr**2*h*sin(2*psi)/2 + a_lscdr**2*k*cos(psi)**2 + a_lscdr**2*x*sin(2*psi)/2 + a_lscdr*b_lscdr*sqrt(-a_lscdr**2*sin(psi)**2 + a_lscdr**2 + b_lscdr**2*sin(psi)**2 - h**2 + 2*h*x - x**2) + b_lscdr**2*h*sin(2*psi)/2 + b_lscdr**2*k*sin(psi)**2 - b_lscdr**2*x*sin(2*psi)/2)*cos(2*psi)/(a_lscdr**2*cos(psi)**2 + b_lscdr**2*sin(psi)**2) + (-a_lscdr**2*h*sin(2*psi)/2 + a_lscdr**2*k*cos(psi)**2 + a_lscdr**2*x*sin(2*psi)/2 + a_lscdr*b_lscdr*sqrt(-a_lscdr**2*sin(psi)**2 + a_lscdr**2 + b_lscdr**2*sin(psi)**2 - h**2 + 2*h*x - x**2) + b_lscdr**2*h*sin(2*psi)/2 + b_lscdr**2*k*sin(psi)**2 - b_lscdr**2*x*sin(2*psi)/2)/(a_lscdr**2*cos(psi)**2 + b_lscdr**2*sin(psi)**2)))"
      ]
     },
     "execution_count": 36,
     "metadata": {},
     "output_type": "execute_result"
    }
   ],
   "source": [
    "tmpEqn2"
   ]
  },
  {
   "cell_type": "code",
   "execution_count": 37,
   "metadata": {},
   "outputs": [],
   "source": [
    "tmpEqn3 = tmpEqn2.subs(b_lscdr**2*h*sp.sin(2*psi)/2,gamma).subs(a_lscdr**2*h*sp.sin(2*psi)/2,beta).subs(a_lscdr**2*sp.cos(psi)**2,alpha).subs(a_lscdr**2*k*sp.cos(psi)**2,Omega).subs(sp.sqrt(-a_lscdr**2*sp.sin(psi)**2 + a_lscdr**2 + b_lscdr**2*sp.sin(psi)**2 - h**2 + 2*h*x-x**2),K).subs(b_lscdr**2*sp.sin(psi)**2,varepsilon).subs(-h*sp.cos(2*psi) + h - k*sp.sin(2*psi),sigma).subs(h*sp.sin(2*psi) - k*sp.cos(2*psi) - k,zeta)\n",
    "#.subs(sp.sqrt(-a_lscdr**2*sp.sin(psi)**2 + a_lscdr**2 + b_lscdr**2*sp.sin(psi)**2 - h**2 + 2*h*x-x**2),K)\n",
    "#Note: The LHS = 0"
   ]
  },
  {
   "cell_type": "code",
   "execution_count": 38,
   "metadata": {},
   "outputs": [],
   "source": [
    "#Separate arguments and numerator/denominator of both terms, since the LHS=0 we can cross multiple to eliminate the fraction\n",
    "arg0 = tmpEqn3.args[0]\n",
    "numarg0,denarg0 = sp.fraction(arg0)\n",
    "arg1 = tmpEqn3.args[1]\n",
    "numarg1,denarg1 = sp.fraction(arg1)\n",
    "tmpEqn4 = sp.expand((numarg0*denarg1 + numarg1*denarg0))#*(alpha+varepsilon))\n",
    "#tmpEqn5 = sp.expand(tmpEqn4*(alpha+varepsilon))"
   ]
  },
  {
   "cell_type": "code",
   "execution_count": 39,
   "metadata": {},
   "outputs": [],
   "source": [
    "tmpEqn5 = sp.simplify(tmpEqn4*(alpha+varepsilon)) # A simplifying operation\n",
    "U = sp.symbols(\"U\",real=True)\n",
    "tmpEqn5 = tmpEqn5.subs(x*K,U)"
   ]
  },
  {
   "cell_type": "code",
   "execution_count": 40,
   "metadata": {},
   "outputs": [
    {
     "data": {
      "text/latex": [
       "$\\displaystyle K^{2} a_{lscdr}^{4} b_{lscdr}^{2} \\sin{\\left(2 \\psi \\right)} - K^{2} a_{lscdr}^{2} b_{lscdr}^{4} \\sin{\\left(2 \\psi \\right)} + 2 K a_{lscdr}^{3} \\alpha b_{lscdr} k \\sin{\\left(2 \\psi \\right)} + K a_{lscdr}^{3} \\alpha b_{lscdr} \\sigma - 2 K a_{lscdr}^{3} b_{lscdr} \\beta \\sin{\\left(2 \\psi \\right)} + 2 K a_{lscdr}^{3} b_{lscdr} \\gamma \\sin{\\left(2 \\psi \\right)} + 2 K a_{lscdr}^{3} b_{lscdr} k \\varepsilon \\sin{\\left(2 \\psi \\right)} + K a_{lscdr}^{3} b_{lscdr} \\sigma \\varepsilon + \\sqrt{2} K a_{lscdr} \\alpha b_{lscdr}^{3} h \\sin{\\left(2 \\psi + \\frac{\\pi}{4} \\right)} + K a_{lscdr} \\alpha b_{lscdr}^{3} h - 2 K a_{lscdr} \\alpha b_{lscdr}^{3} k \\sin{\\left(2 \\psi \\right)} + 2 K a_{lscdr} b_{lscdr}^{3} \\beta \\sin{\\left(2 \\psi \\right)} - 2 K a_{lscdr} b_{lscdr}^{3} \\gamma \\sin{\\left(2 \\psi \\right)} + \\sqrt{2} K a_{lscdr} b_{lscdr}^{3} h \\varepsilon \\sin{\\left(2 \\psi + \\frac{\\pi}{4} \\right)} + K a_{lscdr} b_{lscdr}^{3} h \\varepsilon - 2 K a_{lscdr} b_{lscdr}^{3} k \\varepsilon \\sin{\\left(2 \\psi \\right)} + U a_{lscdr}^{5} b_{lscdr} \\sin^{2}{\\left(2 \\psi \\right)} + 2 U a_{lscdr}^{3} \\alpha b_{lscdr} \\cos{\\left(2 \\psi \\right)} - 2 U a_{lscdr}^{3} b_{lscdr}^{3} \\sin^{2}{\\left(2 \\psi \\right)} + 2 U a_{lscdr}^{3} b_{lscdr} \\varepsilon \\cos{\\left(2 \\psi \\right)} - 2 U a_{lscdr} \\alpha b_{lscdr}^{3} \\cos{\\left(2 \\psi \\right)} + U a_{lscdr} b_{lscdr}^{5} \\sin^{2}{\\left(2 \\psi \\right)} - 2 U a_{lscdr} b_{lscdr}^{3} \\varepsilon \\cos{\\left(2 \\psi \\right)} + \\frac{a_{lscdr}^{6} x^{2} \\sin^{3}{\\left(2 \\psi \\right)}}{4} + a_{lscdr}^{4} \\alpha k x \\sin^{2}{\\left(2 \\psi \\right)} + \\frac{a_{lscdr}^{4} \\alpha \\sigma x \\sin{\\left(2 \\psi \\right)}}{2} + \\frac{a_{lscdr}^{4} \\alpha x^{2} \\sin{\\left(4 \\psi \\right)}}{2} - \\frac{3 a_{lscdr}^{4} b_{lscdr}^{2} x^{2} \\sin^{3}{\\left(2 \\psi \\right)}}{4} - a_{lscdr}^{4} \\beta x \\sin^{2}{\\left(2 \\psi \\right)} + a_{lscdr}^{4} \\gamma x \\sin^{2}{\\left(2 \\psi \\right)} + a_{lscdr}^{4} k \\varepsilon x \\sin^{2}{\\left(2 \\psi \\right)} + \\frac{a_{lscdr}^{4} \\sigma \\varepsilon x \\sin{\\left(2 \\psi \\right)}}{2} + \\frac{a_{lscdr}^{4} \\varepsilon x^{2} \\sin{\\left(4 \\psi \\right)}}{2} + a_{lscdr}^{2} \\alpha^{2} k^{2} \\sin{\\left(2 \\psi \\right)} + a_{lscdr}^{2} \\alpha^{2} k \\sigma + 2 a_{lscdr}^{2} \\alpha^{2} k x \\cos{\\left(2 \\psi \\right)} - a_{lscdr}^{2} \\alpha^{2} x^{2} \\sin{\\left(2 \\psi \\right)} + a_{lscdr}^{2} \\alpha^{2} x \\zeta + \\frac{\\sqrt{2} a_{lscdr}^{2} \\alpha b_{lscdr}^{2} h x \\left(- 2 \\cos{\\left(4 \\psi + \\frac{\\pi}{4} \\right)} + \\sqrt{2}\\right)}{8} + \\frac{a_{lscdr}^{2} \\alpha b_{lscdr}^{2} h x \\sin{\\left(2 \\psi \\right)}}{2} - 2 a_{lscdr}^{2} \\alpha b_{lscdr}^{2} k x \\sin^{2}{\\left(2 \\psi \\right)} - \\frac{a_{lscdr}^{2} \\alpha b_{lscdr}^{2} \\sigma x \\sin{\\left(2 \\psi \\right)}}{2} - a_{lscdr}^{2} \\alpha b_{lscdr}^{2} x^{2} \\sin{\\left(4 \\psi \\right)} - 2 a_{lscdr}^{2} \\alpha \\beta k \\sin{\\left(2 \\psi \\right)} - a_{lscdr}^{2} \\alpha \\beta \\sigma - 2 a_{lscdr}^{2} \\alpha \\beta x \\cos{\\left(2 \\psi \\right)} + 2 a_{lscdr}^{2} \\alpha \\gamma k \\sin{\\left(2 \\psi \\right)} + a_{lscdr}^{2} \\alpha \\gamma \\sigma + 2 a_{lscdr}^{2} \\alpha \\gamma x \\cos{\\left(2 \\psi \\right)} + 2 a_{lscdr}^{2} \\alpha k^{2} \\varepsilon \\sin{\\left(2 \\psi \\right)} + 2 a_{lscdr}^{2} \\alpha k \\sigma \\varepsilon + 4 a_{lscdr}^{2} \\alpha k \\varepsilon x \\cos{\\left(2 \\psi \\right)} - 2 a_{lscdr}^{2} \\alpha \\varepsilon x^{2} \\sin{\\left(2 \\psi \\right)} + 2 a_{lscdr}^{2} \\alpha \\varepsilon x \\zeta + \\frac{3 a_{lscdr}^{2} b_{lscdr}^{4} x^{2} \\sin^{3}{\\left(2 \\psi \\right)}}{4} + 2 a_{lscdr}^{2} b_{lscdr}^{2} \\beta x \\sin^{2}{\\left(2 \\psi \\right)} - 2 a_{lscdr}^{2} b_{lscdr}^{2} \\gamma x \\sin^{2}{\\left(2 \\psi \\right)} + \\frac{\\sqrt{2} a_{lscdr}^{2} b_{lscdr}^{2} h \\varepsilon x \\left(- 2 \\cos{\\left(4 \\psi + \\frac{\\pi}{4} \\right)} + \\sqrt{2}\\right)}{8} + \\frac{a_{lscdr}^{2} b_{lscdr}^{2} h \\varepsilon x \\sin{\\left(2 \\psi \\right)}}{2} - 2 a_{lscdr}^{2} b_{lscdr}^{2} k \\varepsilon x \\sin^{2}{\\left(2 \\psi \\right)} - \\frac{a_{lscdr}^{2} b_{lscdr}^{2} \\sigma \\varepsilon x \\sin{\\left(2 \\psi \\right)}}{2} - a_{lscdr}^{2} b_{lscdr}^{2} \\varepsilon x^{2} \\sin{\\left(4 \\psi \\right)} + a_{lscdr}^{2} \\beta^{2} \\sin{\\left(2 \\psi \\right)} - 2 a_{lscdr}^{2} \\beta \\gamma \\sin{\\left(2 \\psi \\right)} - 2 a_{lscdr}^{2} \\beta k \\varepsilon \\sin{\\left(2 \\psi \\right)} - a_{lscdr}^{2} \\beta \\sigma \\varepsilon - 2 a_{lscdr}^{2} \\beta \\varepsilon x \\cos{\\left(2 \\psi \\right)} + a_{lscdr}^{2} \\gamma^{2} \\sin{\\left(2 \\psi \\right)} + 2 a_{lscdr}^{2} \\gamma k \\varepsilon \\sin{\\left(2 \\psi \\right)} + a_{lscdr}^{2} \\gamma \\sigma \\varepsilon + 2 a_{lscdr}^{2} \\gamma \\varepsilon x \\cos{\\left(2 \\psi \\right)} + a_{lscdr}^{2} k^{2} \\varepsilon^{2} \\sin{\\left(2 \\psi \\right)} + a_{lscdr}^{2} k \\sigma \\varepsilon^{2} + 2 a_{lscdr}^{2} k \\varepsilon^{2} x \\cos{\\left(2 \\psi \\right)} - a_{lscdr}^{2} \\varepsilon^{2} x^{2} \\sin{\\left(2 \\psi \\right)} + a_{lscdr}^{2} \\varepsilon^{2} x \\zeta + \\sqrt{2} \\alpha^{2} b_{lscdr}^{2} h k \\sin{\\left(2 \\psi + \\frac{\\pi}{4} \\right)} + \\alpha^{2} b_{lscdr}^{2} h k + \\sqrt{2} \\alpha^{2} b_{lscdr}^{2} h x \\cos{\\left(2 \\psi + \\frac{\\pi}{4} \\right)} - \\alpha^{2} b_{lscdr}^{2} h x - \\alpha^{2} b_{lscdr}^{2} k^{2} \\sin{\\left(2 \\psi \\right)} - 2 \\alpha^{2} b_{lscdr}^{2} k x \\cos{\\left(2 \\psi \\right)} + \\alpha^{2} b_{lscdr}^{2} x^{2} \\sin{\\left(2 \\psi \\right)} - \\frac{\\sqrt{2} \\alpha b_{lscdr}^{4} h x \\left(- 2 \\cos{\\left(4 \\psi + \\frac{\\pi}{4} \\right)} + \\sqrt{2}\\right)}{8} - \\frac{\\alpha b_{lscdr}^{4} h x \\sin{\\left(2 \\psi \\right)}}{2} + \\alpha b_{lscdr}^{4} k x \\sin^{2}{\\left(2 \\psi \\right)} + \\frac{\\alpha b_{lscdr}^{4} x^{2} \\sin{\\left(4 \\psi \\right)}}{2} - \\sqrt{2} \\alpha b_{lscdr}^{2} \\beta h \\sin{\\left(2 \\psi + \\frac{\\pi}{4} \\right)} - \\alpha b_{lscdr}^{2} \\beta h + 2 \\alpha b_{lscdr}^{2} \\beta k \\sin{\\left(2 \\psi \\right)} + 2 \\alpha b_{lscdr}^{2} \\beta x \\cos{\\left(2 \\psi \\right)} + \\sqrt{2} \\alpha b_{lscdr}^{2} \\gamma h \\sin{\\left(2 \\psi + \\frac{\\pi}{4} \\right)} + \\alpha b_{lscdr}^{2} \\gamma h - 2 \\alpha b_{lscdr}^{2} \\gamma k \\sin{\\left(2 \\psi \\right)} - 2 \\alpha b_{lscdr}^{2} \\gamma x \\cos{\\left(2 \\psi \\right)} + 2 \\sqrt{2} \\alpha b_{lscdr}^{2} h k \\varepsilon \\sin{\\left(2 \\psi + \\frac{\\pi}{4} \\right)} + 2 \\alpha b_{lscdr}^{2} h k \\varepsilon + 2 \\sqrt{2} \\alpha b_{lscdr}^{2} h \\varepsilon x \\cos{\\left(2 \\psi + \\frac{\\pi}{4} \\right)} - 2 \\alpha b_{lscdr}^{2} h \\varepsilon x - 2 \\alpha b_{lscdr}^{2} k^{2} \\varepsilon \\sin{\\left(2 \\psi \\right)} - 4 \\alpha b_{lscdr}^{2} k \\varepsilon x \\cos{\\left(2 \\psi \\right)} + 2 \\alpha b_{lscdr}^{2} \\varepsilon x^{2} \\sin{\\left(2 \\psi \\right)} - \\frac{b_{lscdr}^{6} x^{2} \\sin^{3}{\\left(2 \\psi \\right)}}{4} - b_{lscdr}^{4} \\beta x \\sin^{2}{\\left(2 \\psi \\right)} + b_{lscdr}^{4} \\gamma x \\sin^{2}{\\left(2 \\psi \\right)} - \\frac{\\sqrt{2} b_{lscdr}^{4} h \\varepsilon x \\left(- 2 \\cos{\\left(4 \\psi + \\frac{\\pi}{4} \\right)} + \\sqrt{2}\\right)}{8} - \\frac{b_{lscdr}^{4} h \\varepsilon x \\sin{\\left(2 \\psi \\right)}}{2} + b_{lscdr}^{4} k \\varepsilon x \\sin^{2}{\\left(2 \\psi \\right)} + \\frac{b_{lscdr}^{4} \\varepsilon x^{2} \\sin{\\left(4 \\psi \\right)}}{2} - b_{lscdr}^{2} \\beta^{2} \\sin{\\left(2 \\psi \\right)} + 2 b_{lscdr}^{2} \\beta \\gamma \\sin{\\left(2 \\psi \\right)} - \\sqrt{2} b_{lscdr}^{2} \\beta h \\varepsilon \\sin{\\left(2 \\psi + \\frac{\\pi}{4} \\right)} - b_{lscdr}^{2} \\beta h \\varepsilon + 2 b_{lscdr}^{2} \\beta k \\varepsilon \\sin{\\left(2 \\psi \\right)} + 2 b_{lscdr}^{2} \\beta \\varepsilon x \\cos{\\left(2 \\psi \\right)} - b_{lscdr}^{2} \\gamma^{2} \\sin{\\left(2 \\psi \\right)} + \\sqrt{2} b_{lscdr}^{2} \\gamma h \\varepsilon \\sin{\\left(2 \\psi + \\frac{\\pi}{4} \\right)} + b_{lscdr}^{2} \\gamma h \\varepsilon - 2 b_{lscdr}^{2} \\gamma k \\varepsilon \\sin{\\left(2 \\psi \\right)} - 2 b_{lscdr}^{2} \\gamma \\varepsilon x \\cos{\\left(2 \\psi \\right)} + \\sqrt{2} b_{lscdr}^{2} h k \\varepsilon^{2} \\sin{\\left(2 \\psi + \\frac{\\pi}{4} \\right)} + b_{lscdr}^{2} h k \\varepsilon^{2} + \\sqrt{2} b_{lscdr}^{2} h \\varepsilon^{2} x \\cos{\\left(2 \\psi + \\frac{\\pi}{4} \\right)} - b_{lscdr}^{2} h \\varepsilon^{2} x - b_{lscdr}^{2} k^{2} \\varepsilon^{2} \\sin{\\left(2 \\psi \\right)} - 2 b_{lscdr}^{2} k \\varepsilon^{2} x \\cos{\\left(2 \\psi \\right)} + b_{lscdr}^{2} \\varepsilon^{2} x^{2} \\sin{\\left(2 \\psi \\right)}$"
      ],
      "text/plain": [
       "K**2*a_lscdr**4*b_lscdr**2*sin(2*psi) - K**2*a_lscdr**2*b_lscdr**4*sin(2*psi) + 2*K*a_lscdr**3*alpha*b_lscdr*k*sin(2*psi) + K*a_lscdr**3*alpha*b_lscdr*sigma - 2*K*a_lscdr**3*b_lscdr*beta*sin(2*psi) + 2*K*a_lscdr**3*b_lscdr*gamma*sin(2*psi) + 2*K*a_lscdr**3*b_lscdr*k*varepsilon*sin(2*psi) + K*a_lscdr**3*b_lscdr*sigma*varepsilon + sqrt(2)*K*a_lscdr*alpha*b_lscdr**3*h*sin(2*psi + pi/4) + K*a_lscdr*alpha*b_lscdr**3*h - 2*K*a_lscdr*alpha*b_lscdr**3*k*sin(2*psi) + 2*K*a_lscdr*b_lscdr**3*beta*sin(2*psi) - 2*K*a_lscdr*b_lscdr**3*gamma*sin(2*psi) + sqrt(2)*K*a_lscdr*b_lscdr**3*h*varepsilon*sin(2*psi + pi/4) + K*a_lscdr*b_lscdr**3*h*varepsilon - 2*K*a_lscdr*b_lscdr**3*k*varepsilon*sin(2*psi) + U*a_lscdr**5*b_lscdr*sin(2*psi)**2 + 2*U*a_lscdr**3*alpha*b_lscdr*cos(2*psi) - 2*U*a_lscdr**3*b_lscdr**3*sin(2*psi)**2 + 2*U*a_lscdr**3*b_lscdr*varepsilon*cos(2*psi) - 2*U*a_lscdr*alpha*b_lscdr**3*cos(2*psi) + U*a_lscdr*b_lscdr**5*sin(2*psi)**2 - 2*U*a_lscdr*b_lscdr**3*varepsilon*cos(2*psi) + a_lscdr**6*x**2*sin(2*psi)**3/4 + a_lscdr**4*alpha*k*x*sin(2*psi)**2 + a_lscdr**4*alpha*sigma*x*sin(2*psi)/2 + a_lscdr**4*alpha*x**2*sin(4*psi)/2 - 3*a_lscdr**4*b_lscdr**2*x**2*sin(2*psi)**3/4 - a_lscdr**4*beta*x*sin(2*psi)**2 + a_lscdr**4*gamma*x*sin(2*psi)**2 + a_lscdr**4*k*varepsilon*x*sin(2*psi)**2 + a_lscdr**4*sigma*varepsilon*x*sin(2*psi)/2 + a_lscdr**4*varepsilon*x**2*sin(4*psi)/2 + a_lscdr**2*alpha**2*k**2*sin(2*psi) + a_lscdr**2*alpha**2*k*sigma + 2*a_lscdr**2*alpha**2*k*x*cos(2*psi) - a_lscdr**2*alpha**2*x**2*sin(2*psi) + a_lscdr**2*alpha**2*x*zeta + sqrt(2)*a_lscdr**2*alpha*b_lscdr**2*h*x*(-2*cos(4*psi + pi/4) + sqrt(2))/8 + a_lscdr**2*alpha*b_lscdr**2*h*x*sin(2*psi)/2 - 2*a_lscdr**2*alpha*b_lscdr**2*k*x*sin(2*psi)**2 - a_lscdr**2*alpha*b_lscdr**2*sigma*x*sin(2*psi)/2 - a_lscdr**2*alpha*b_lscdr**2*x**2*sin(4*psi) - 2*a_lscdr**2*alpha*beta*k*sin(2*psi) - a_lscdr**2*alpha*beta*sigma - 2*a_lscdr**2*alpha*beta*x*cos(2*psi) + 2*a_lscdr**2*alpha*gamma*k*sin(2*psi) + a_lscdr**2*alpha*gamma*sigma + 2*a_lscdr**2*alpha*gamma*x*cos(2*psi) + 2*a_lscdr**2*alpha*k**2*varepsilon*sin(2*psi) + 2*a_lscdr**2*alpha*k*sigma*varepsilon + 4*a_lscdr**2*alpha*k*varepsilon*x*cos(2*psi) - 2*a_lscdr**2*alpha*varepsilon*x**2*sin(2*psi) + 2*a_lscdr**2*alpha*varepsilon*x*zeta + 3*a_lscdr**2*b_lscdr**4*x**2*sin(2*psi)**3/4 + 2*a_lscdr**2*b_lscdr**2*beta*x*sin(2*psi)**2 - 2*a_lscdr**2*b_lscdr**2*gamma*x*sin(2*psi)**2 + sqrt(2)*a_lscdr**2*b_lscdr**2*h*varepsilon*x*(-2*cos(4*psi + pi/4) + sqrt(2))/8 + a_lscdr**2*b_lscdr**2*h*varepsilon*x*sin(2*psi)/2 - 2*a_lscdr**2*b_lscdr**2*k*varepsilon*x*sin(2*psi)**2 - a_lscdr**2*b_lscdr**2*sigma*varepsilon*x*sin(2*psi)/2 - a_lscdr**2*b_lscdr**2*varepsilon*x**2*sin(4*psi) + a_lscdr**2*beta**2*sin(2*psi) - 2*a_lscdr**2*beta*gamma*sin(2*psi) - 2*a_lscdr**2*beta*k*varepsilon*sin(2*psi) - a_lscdr**2*beta*sigma*varepsilon - 2*a_lscdr**2*beta*varepsilon*x*cos(2*psi) + a_lscdr**2*gamma**2*sin(2*psi) + 2*a_lscdr**2*gamma*k*varepsilon*sin(2*psi) + a_lscdr**2*gamma*sigma*varepsilon + 2*a_lscdr**2*gamma*varepsilon*x*cos(2*psi) + a_lscdr**2*k**2*varepsilon**2*sin(2*psi) + a_lscdr**2*k*sigma*varepsilon**2 + 2*a_lscdr**2*k*varepsilon**2*x*cos(2*psi) - a_lscdr**2*varepsilon**2*x**2*sin(2*psi) + a_lscdr**2*varepsilon**2*x*zeta + sqrt(2)*alpha**2*b_lscdr**2*h*k*sin(2*psi + pi/4) + alpha**2*b_lscdr**2*h*k + sqrt(2)*alpha**2*b_lscdr**2*h*x*cos(2*psi + pi/4) - alpha**2*b_lscdr**2*h*x - alpha**2*b_lscdr**2*k**2*sin(2*psi) - 2*alpha**2*b_lscdr**2*k*x*cos(2*psi) + alpha**2*b_lscdr**2*x**2*sin(2*psi) - sqrt(2)*alpha*b_lscdr**4*h*x*(-2*cos(4*psi + pi/4) + sqrt(2))/8 - alpha*b_lscdr**4*h*x*sin(2*psi)/2 + alpha*b_lscdr**4*k*x*sin(2*psi)**2 + alpha*b_lscdr**4*x**2*sin(4*psi)/2 - sqrt(2)*alpha*b_lscdr**2*beta*h*sin(2*psi + pi/4) - alpha*b_lscdr**2*beta*h + 2*alpha*b_lscdr**2*beta*k*sin(2*psi) + 2*alpha*b_lscdr**2*beta*x*cos(2*psi) + sqrt(2)*alpha*b_lscdr**2*gamma*h*sin(2*psi + pi/4) + alpha*b_lscdr**2*gamma*h - 2*alpha*b_lscdr**2*gamma*k*sin(2*psi) - 2*alpha*b_lscdr**2*gamma*x*cos(2*psi) + 2*sqrt(2)*alpha*b_lscdr**2*h*k*varepsilon*sin(2*psi + pi/4) + 2*alpha*b_lscdr**2*h*k*varepsilon + 2*sqrt(2)*alpha*b_lscdr**2*h*varepsilon*x*cos(2*psi + pi/4) - 2*alpha*b_lscdr**2*h*varepsilon*x - 2*alpha*b_lscdr**2*k**2*varepsilon*sin(2*psi) - 4*alpha*b_lscdr**2*k*varepsilon*x*cos(2*psi) + 2*alpha*b_lscdr**2*varepsilon*x**2*sin(2*psi) - b_lscdr**6*x**2*sin(2*psi)**3/4 - b_lscdr**4*beta*x*sin(2*psi)**2 + b_lscdr**4*gamma*x*sin(2*psi)**2 - sqrt(2)*b_lscdr**4*h*varepsilon*x*(-2*cos(4*psi + pi/4) + sqrt(2))/8 - b_lscdr**4*h*varepsilon*x*sin(2*psi)/2 + b_lscdr**4*k*varepsilon*x*sin(2*psi)**2 + b_lscdr**4*varepsilon*x**2*sin(4*psi)/2 - b_lscdr**2*beta**2*sin(2*psi) + 2*b_lscdr**2*beta*gamma*sin(2*psi) - sqrt(2)*b_lscdr**2*beta*h*varepsilon*sin(2*psi + pi/4) - b_lscdr**2*beta*h*varepsilon + 2*b_lscdr**2*beta*k*varepsilon*sin(2*psi) + 2*b_lscdr**2*beta*varepsilon*x*cos(2*psi) - b_lscdr**2*gamma**2*sin(2*psi) + sqrt(2)*b_lscdr**2*gamma*h*varepsilon*sin(2*psi + pi/4) + b_lscdr**2*gamma*h*varepsilon - 2*b_lscdr**2*gamma*k*varepsilon*sin(2*psi) - 2*b_lscdr**2*gamma*varepsilon*x*cos(2*psi) + sqrt(2)*b_lscdr**2*h*k*varepsilon**2*sin(2*psi + pi/4) + b_lscdr**2*h*k*varepsilon**2 + sqrt(2)*b_lscdr**2*h*varepsilon**2*x*cos(2*psi + pi/4) - b_lscdr**2*h*varepsilon**2*x - b_lscdr**2*k**2*varepsilon**2*sin(2*psi) - 2*b_lscdr**2*k*varepsilon**2*x*cos(2*psi) + b_lscdr**2*varepsilon**2*x**2*sin(2*psi)"
      ]
     },
     "execution_count": 40,
     "metadata": {},
     "output_type": "execute_result"
    }
   ],
   "source": [
    "tmpEqn5"
   ]
  },
  {
   "cell_type": "code",
   "execution_count": 41,
   "metadata": {},
   "outputs": [],
   "source": [
    "#Get Coefficients for Axk + Bx + C = 0 (where C contains K^2)\n",
    "xkPoly = sp.Poly(tmpEqn5,U)\n",
    "assert len(xkPoly.coeffs()) == 2, 'the number of xK coefficients are incorrect'\n",
    "A = xkPoly.coeffs()[0] #The coefficients of the Kx term\n",
    "kPoly = sp.Poly(xkPoly.coeffs()[1],K)\n",
    "B = kPoly.coeffs()[1] #should only be terms with K in them, not K^2\n",
    "C = kPoly.coeffs()[0]*(-a_lscdr**2*sp.sin(psi)**2 + a_lscdr**2 + b_lscdr**2*sp.sin(psi)**2 - h**2 + 2*h*x-x**2) + kPoly.coeffs()[2] #terns with K^2 and without K\n",
    "finalEqn = (-a_lscdr**2*sp.sin(psi)**2 + a_lscdr**2 + b_lscdr**2*sp.sin(psi)**2 - h**2 + 2*h*x-x**2)*(A*x**2 + 2*A*B*x + B**2) - C**2 #K^2 (A^2x^2 + 2BAx + B^2) - C^2 = 0"
   ]
  },
  {
   "cell_type": "code",
   "execution_count": 42,
   "metadata": {},
   "outputs": [],
   "source": [
    "finalEqn = finalEqn.subs(gamma,b_lscdr**2*h*sp.sin(2*psi)/2).subs(beta,a_lscdr**2*h*sp.sin(2*psi)/2).subs(alpha,a_lscdr**2*sp.cos(psi)**2).subs(Omega,a_lscdr**2*k*sp.cos(psi)**2).subs(varepsilon,b_lscdr**2*sp.sin(psi)**2).subs(sigma,-h*sp.cos(2*psi) + h - k*sp.sin(2*psi)).subs(zeta,h*sp.sin(2*psi) - k*sp.cos(2*psi) - k)\n",
    "#Collect x coefficients\n",
    "finalEqnPoly = sp.Poly(finalEqn,x)\n",
    "A2 = finalEqnPoly.coeffs()[0]\n",
    "B2 = finalEqnPoly.coeffs()[1]\n",
    "C2 = finalEqnPoly.coeffs()[2]\n",
    "D2 = finalEqnPoly.coeffs()[3]\n",
    "E2 = finalEqnPoly.coeffs()[4]"
   ]
  },
  {
   "cell_type": "code",
   "execution_count": 43,
   "metadata": {},
   "outputs": [
    {
     "name": "stdout",
     "output_type": "stream",
     "text": [
      "16*a_lscdr**12*sin(psi)**12 - 64*a_lscdr**12*sin(psi)**10 + 100*a_lscdr**12*sin(psi)**8 + 12*a_lscdr**12*sin(psi)**6*cos(psi)**6 - 76*a_lscdr**12*sin(psi)**6 - 8*a_lscdr**12*sin(psi)**4*cos(psi)**8 - 8*a_lscdr**12*sin(psi)**4*cos(psi)**6 + 28*a_lscdr**12*sin(psi)**4 - 4*a_lscdr**12*sin(psi)**2 + 4*a_lscdr**12*cos(psi)**12 - 12*a_lscdr**12*cos(psi)**10 + 8*a_lscdr**12*cos(psi)**8 - 80*a_lscdr**10*b_lscdr**2*sin(psi)**12 + 312*a_lscdr**10*b_lscdr**2*sin(psi)**10 - 480*a_lscdr**10*b_lscdr**2*sin(psi)**8 - 88*a_lscdr**10*b_lscdr**2*sin(psi)**6*cos(psi)**6 + 368*a_lscdr**10*b_lscdr**2*sin(psi)**6 + 64*a_lscdr**10*b_lscdr**2*sin(psi)**4*cos(psi)**6 - 144*a_lscdr**10*b_lscdr**2*sin(psi)**4 + 24*a_lscdr**10*b_lscdr**2*sin(psi)**2 - 8*a_lscdr**10*b_lscdr**2*cos(psi)**12 + 32*a_lscdr**10*b_lscdr**2*cos(psi)**10 - 16*a_lscdr**10*b_lscdr**2*cos(psi)**8 - 8*a_lscdr**10*b_lscdr**2*cos(psi)**6 + 168*a_lscdr**8*b_lscdr**4*sin(psi)**12 - 640*a_lscdr**8*b_lscdr**4*sin(psi)**10 + 948*a_lscdr**8*b_lscdr**4*sin(psi)**8 + 204*a_lscdr**8*b_lscdr**4*sin(psi)**6*cos(psi)**6 - 684*a_lscdr**8*b_lscdr**4*sin(psi)**6 + 32*a_lscdr**8*b_lscdr**4*sin(psi)**4*cos(psi)**8 - 152*a_lscdr**8*b_lscdr**4*sin(psi)**4*cos(psi)**6 + 260*a_lscdr**8*b_lscdr**4*sin(psi)**4 - 52*a_lscdr**8*b_lscdr**4*sin(psi)**2 + 4*a_lscdr**8*b_lscdr**4*cos(psi)**12 - 28*a_lscdr**8*b_lscdr**4*cos(psi)**10 + 8*a_lscdr**8*b_lscdr**4*cos(psi)**8 + 16*a_lscdr**8*b_lscdr**4*cos(psi)**6 - 192*a_lscdr**6*b_lscdr**6*sin(psi)**12 + 704*a_lscdr**6*b_lscdr**6*sin(psi)**10 - 976*a_lscdr**6*b_lscdr**6*sin(psi)**8 - 224*a_lscdr**6*b_lscdr**6*sin(psi)**6*cos(psi)**6 + 624*a_lscdr**6*b_lscdr**6*sin(psi)**6 - 32*a_lscdr**6*b_lscdr**6*sin(psi)**4*cos(psi)**8 + 152*a_lscdr**6*b_lscdr**6*sin(psi)**4*cos(psi)**6 - 208*a_lscdr**6*b_lscdr**6*sin(psi)**4 + 48*a_lscdr**6*b_lscdr**6*sin(psi)**2 + 8*a_lscdr**6*b_lscdr**6*cos(psi)**10 - 8*a_lscdr**6*b_lscdr**6*cos(psi)**6 + 2*a_lscdr**5*b_lscdr*sin(psi)**2 - 2*a_lscdr**5*b_lscdr + 116*a_lscdr**4*b_lscdr**8*sin(psi)**12 - 404*a_lscdr**4*b_lscdr**8*sin(psi)**10 + 516*a_lscdr**4*b_lscdr**8*sin(psi)**8 + 124*a_lscdr**4*b_lscdr**8*sin(psi)**6*cos(psi)**6 - 284*a_lscdr**4*b_lscdr**8*sin(psi)**6 + 8*a_lscdr**4*b_lscdr**8*sin(psi)**4*cos(psi)**8 - 64*a_lscdr**4*b_lscdr**8*sin(psi)**4*cos(psi)**6 + 72*a_lscdr**4*b_lscdr**8*sin(psi)**4 - 16*a_lscdr**4*b_lscdr**8*sin(psi)**2 + 2*a_lscdr**3*b_lscdr**3 - 24*a_lscdr**2*b_lscdr**10*sin(psi)**12 + 80*a_lscdr**2*b_lscdr**10*sin(psi)**10 - 96*a_lscdr**2*b_lscdr**10*sin(psi)**8 - 24*a_lscdr**2*b_lscdr**10*sin(psi)**6*cos(psi)**6 + 48*a_lscdr**2*b_lscdr**10*sin(psi)**6 + 8*a_lscdr**2*b_lscdr**10*sin(psi)**4*cos(psi)**6 - 8*a_lscdr**2*b_lscdr**10*sin(psi)**4 - 2*a_lscdr*b_lscdr**5*sin(psi)**2 - 4*b_lscdr**12*sin(psi)**12 + 12*b_lscdr**12*sin(psi)**10 - 12*b_lscdr**12*sin(psi)**8 - 4*b_lscdr**12*sin(psi)**6*cos(psi)**6 + 4*b_lscdr**12*sin(psi)**6\n"
     ]
    }
   ],
   "source": [
    "print(sp.simplify(A2))"
   ]
  },
  {
   "cell_type": "code",
   "execution_count": 44,
   "metadata": {},
   "outputs": [
    {
     "name": "stdout",
     "output_type": "stream",
     "text": [
      "24*a_lscdr**12*h*sin(psi)**12 - 84*a_lscdr**12*h*sin(psi)**10 + 108*a_lscdr**12*h*sin(psi)**8 + 8*a_lscdr**12*h*sin(psi)**6*cos(psi)**6 - 60*a_lscdr**12*h*sin(psi)**6 - 8*a_lscdr**12*h*sin(psi)**4*cos(psi)**8 + 8*a_lscdr**12*h*sin(psi)**4*cos(psi)**6 + 12*a_lscdr**12*h*sin(psi)**4 - 8*a_lscdr**12*h*cos(psi)**12 + 12*a_lscdr**12*h*cos(psi)**10 - 4*a_lscdr**12*h*cos(psi)**6 - 8*a_lscdr**12*k*sin(psi)**11*cos(psi) + 36*a_lscdr**12*k*sin(psi)**9*cos(psi) - 16*a_lscdr**12*k*sin(psi)**7*cos(psi)**5 - 64*a_lscdr**12*k*sin(psi)**7*cos(psi) - 16*a_lscdr**12*k*sin(psi)**5*cos(psi)**7 + 24*a_lscdr**12*k*sin(psi)**5*cos(psi)**5 + 56*a_lscdr**12*k*sin(psi)**5*cos(psi) + 8*a_lscdr**12*k*sin(psi)**3*cos(psi)**9 + 8*a_lscdr**12*k*sin(psi)**3*cos(psi)**7 - 8*a_lscdr**12*k*sin(psi)**3*cos(psi)**5 - 24*a_lscdr**12*k*sin(psi)**3*cos(psi) - 4*a_lscdr**12*k*sin(psi)*cos(psi)**9 + 4*a_lscdr**12*k*sin(psi)*cos(psi) - 64*a_lscdr**10*b_lscdr**2*h*sin(psi)**12 - 8*a_lscdr**10*b_lscdr**2*h*sin(psi)**11*cos(psi) + 216*a_lscdr**10*b_lscdr**2*h*sin(psi)**10 + 36*a_lscdr**10*b_lscdr**2*h*sin(psi)**9*cos(psi) - 232*a_lscdr**10*b_lscdr**2*h*sin(psi)**8 - 8*a_lscdr**10*b_lscdr**2*h*sin(psi)**7*cos(psi)**5 - 64*a_lscdr**10*b_lscdr**2*h*sin(psi)**7*cos(psi) + 16*a_lscdr**10*b_lscdr**2*h*sin(psi)**6*cos(psi)**6 + 48*a_lscdr**10*b_lscdr**2*h*sin(psi)**6 - 16*a_lscdr**10*b_lscdr**2*h*sin(psi)**5*cos(psi)**7 + 16*a_lscdr**10*b_lscdr**2*h*sin(psi)**5*cos(psi)**5 + 56*a_lscdr**10*b_lscdr**2*h*sin(psi)**5*cos(psi) + 72*a_lscdr**10*b_lscdr**2*h*sin(psi)**4*cos(psi)**8 - 40*a_lscdr**10*b_lscdr**2*h*sin(psi)**4*cos(psi)**6 + 56*a_lscdr**10*b_lscdr**2*h*sin(psi)**4 + 16*a_lscdr**10*b_lscdr**2*h*sin(psi)**3*cos(psi)**7 - 8*a_lscdr**10*b_lscdr**2*h*sin(psi)**3*cos(psi)**5 - 24*a_lscdr**10*b_lscdr**2*h*sin(psi)**3*cos(psi) - 24*a_lscdr**10*b_lscdr**2*h*sin(psi)**2 - 4*a_lscdr**10*b_lscdr**2*h*sin(psi)*cos(psi)**9 + 4*a_lscdr**10*b_lscdr**2*h*sin(psi)*cos(psi) + 8*a_lscdr**10*b_lscdr**2*h*cos(psi)**12 - 32*a_lscdr**10*b_lscdr**2*h*cos(psi)**10 + 8*a_lscdr**10*b_lscdr**2*h*cos(psi)**8 + 16*a_lscdr**10*b_lscdr**2*h*cos(psi)**6 + 24*a_lscdr**10*b_lscdr**2*k*sin(psi)**11*cos(psi) - 108*a_lscdr**10*b_lscdr**2*k*sin(psi)**9*cos(psi) + 24*a_lscdr**10*b_lscdr**2*k*sin(psi)**7*cos(psi)**5 + 200*a_lscdr**10*b_lscdr**2*k*sin(psi)**7*cos(psi) + 48*a_lscdr**10*b_lscdr**2*k*sin(psi)**5*cos(psi)**7 - 64*a_lscdr**10*b_lscdr**2*k*sin(psi)**5*cos(psi)**5 - 188*a_lscdr**10*b_lscdr**2*k*sin(psi)**5*cos(psi) - 72*a_lscdr**10*b_lscdr**2*k*sin(psi)**3*cos(psi)**7 + 32*a_lscdr**10*b_lscdr**2*k*sin(psi)**3*cos(psi)**5 + 88*a_lscdr**10*b_lscdr**2*k*sin(psi)**3*cos(psi) + 4*a_lscdr**10*b_lscdr**2*k*sin(psi)*cos(psi)**9 + 8*a_lscdr**10*b_lscdr**2*k*sin(psi)*cos(psi)**7 - 4*a_lscdr**10*b_lscdr**2*k*sin(psi)*cos(psi)**5 - 16*a_lscdr**10*b_lscdr**2*k*sin(psi)*cos(psi) + 80*a_lscdr**8*b_lscdr**4*h*sin(psi)**12 + 24*a_lscdr**8*b_lscdr**4*h*sin(psi)**11*cos(psi) - 192*a_lscdr**8*b_lscdr**4*h*sin(psi)**10 - 76*a_lscdr**8*b_lscdr**4*h*sin(psi)**9*cos(psi) - 24*sqrt(2)*a_lscdr**8*b_lscdr**4*h*sin(psi)**8*sin(psi + pi/4)*cos(psi)**3 + 88*a_lscdr**8*b_lscdr**4*h*sin(psi)**8 + 8*a_lscdr**8*b_lscdr**4*h*sin(psi)**7*cos(psi)**5 + 40*a_lscdr**8*b_lscdr**4*h*sin(psi)**7*cos(psi)**3 + 84*a_lscdr**8*b_lscdr**4*h*sin(psi)**7*cos(psi) - 64*sqrt(2)*a_lscdr**8*b_lscdr**4*h*sin(psi)**6*sin(psi + pi/4)*cos(psi)**5 - 24*a_lscdr**8*b_lscdr**4*h*sin(psi)**6*cos(psi)**6 + 108*a_lscdr**8*b_lscdr**4*h*sin(psi)**6 - 8*a_lscdr**8*b_lscdr**4*h*sin(psi)**5*cos(psi)**7 + 16*a_lscdr**8*b_lscdr**4*h*sin(psi)**5*cos(psi)**5 - 28*a_lscdr**8*b_lscdr**4*h*sin(psi)**5*cos(psi)**3 - 46*a_lscdr**8*b_lscdr**4*h*sin(psi)**5*cos(psi) - 4*sqrt(2)*a_lscdr**8*b_lscdr**4*h*sin(psi)**5*cos(psi + pi/4) - 144*a_lscdr**8*b_lscdr**4*h*sin(psi)**4*cos(psi)**8 + 132*a_lscdr**8*b_lscdr**4*h*sin(psi)**4*cos(psi)**6 - 160*a_lscdr**8*b_lscdr**4*h*sin(psi)**4 - 16*a_lscdr**8*b_lscdr**4*h*sin(psi)**3*cos(psi)**7 + 8*a_lscdr**8*b_lscdr**4*h*sin(psi)**3*cos(psi)**5 + 10*a_lscdr**8*b_lscdr**4*h*sin(psi)**3*cos(psi)**3 + 22*a_lscdr**8*b_lscdr**4*h*sin(psi)**3*cos(psi) + 8*sqrt(2)*a_lscdr**8*b_lscdr**4*h*sin(psi)**3*cos(psi + pi/4) + 85*a_lscdr**8*b_lscdr**4*h*sin(psi)**2 + 4*a_lscdr**8*b_lscdr**4*h*sin(psi)*cos(psi)**9 - 8*a_lscdr**8*b_lscdr**4*h*sin(psi)*cos(psi) - 4*sqrt(2)*a_lscdr**8*b_lscdr**4*h*sin(psi)*cos(psi + pi/4) - a_lscdr**8*b_lscdr**4*h*sin(3*psi)**2 + 16*sqrt(2)*a_lscdr**8*b_lscdr**4*h*sin(psi + pi/4)*cos(psi)**9 - 32*sqrt(2)*a_lscdr**8*b_lscdr**4*h*sin(psi + pi/4)*cos(psi)**7 + 16*sqrt(2)*a_lscdr**8*b_lscdr**4*h*sin(psi + pi/4)*cos(psi)**5 + 20*a_lscdr**8*b_lscdr**4*h*cos(psi)**10 - 8*a_lscdr**8*b_lscdr**4*h*cos(psi)**8 - 12*a_lscdr**8*b_lscdr**4*h*cos(psi)**6 - 8*a_lscdr**8*b_lscdr**4*h - 32*a_lscdr**8*b_lscdr**4*k*sin(psi)**11*cos(psi) - 40*a_lscdr**8*b_lscdr**4*k*sin(psi)**9*cos(psi)**3 + 96*a_lscdr**8*b_lscdr**4*k*sin(psi)**9*cos(psi) + 120*a_lscdr**8*b_lscdr**4*k*sin(psi)**7*cos(psi)**5 + 24*a_lscdr**8*b_lscdr**4*k*sin(psi)**7*cos(psi)**3 - 176*a_lscdr**8*b_lscdr**4*k*sin(psi)**7*cos(psi) + 72*a_lscdr**8*b_lscdr**4*k*sin(psi)**5*cos(psi)**7 - 120*a_lscdr**8*b_lscdr**4*k*sin(psi)**5*cos(psi)**5 - 8*a_lscdr**8*b_lscdr**4*k*sin(psi)**5*cos(psi)**3 + 196*a_lscdr**8*b_lscdr**4*k*sin(psi)**5*cos(psi) - 56*a_lscdr**8*b_lscdr**4*k*sin(psi)**3*cos(psi)**9 + 112*a_lscdr**8*b_lscdr**4*k*sin(psi)**3*cos(psi)**7 - 16*a_lscdr**8*b_lscdr**4*k*sin(psi)**3*cos(psi)**5 - 8*a_lscdr**8*b_lscdr**4*k*sin(psi)**3*cos(psi)**3 - 104*a_lscdr**8*b_lscdr**4*k*sin(psi)**3*cos(psi) - 16*a_lscdr**8*b_lscdr**4*k*sin(psi)*cos(psi)**7 + 4*a_lscdr**8*b_lscdr**4*k*sin(psi)*cos(psi)**5 + 20*a_lscdr**8*b_lscdr**4*k*sin(psi)*cos(psi) - 48*a_lscdr**6*b_lscdr**6*h*sin(psi)**12 - 112*a_lscdr**6*b_lscdr**6*h*sin(psi)**11*cos(psi) + 32*a_lscdr**6*b_lscdr**6*h*sin(psi)**10 + 264*a_lscdr**6*b_lscdr**6*h*sin(psi)**9*cos(psi) + 176*a_lscdr**6*b_lscdr**6*h*sin(psi)**8 + 80*a_lscdr**6*b_lscdr**6*h*sin(psi)**7*cos(psi)**5 - 64*a_lscdr**6*b_lscdr**6*h*sin(psi)**7*cos(psi)**3 - 172*a_lscdr**6*b_lscdr**6*h*sin(psi)**7*cos(psi) + 64*sqrt(2)*a_lscdr**6*b_lscdr**6*h*sin(psi)**6*sin(psi + pi/4)*cos(psi)**5 - 232*a_lscdr**6*b_lscdr**6*h*sin(psi)**6 + 24*a_lscdr**6*b_lscdr**6*h*sin(psi)**5*cos(psi)**7 + 8*sqrt(2)*a_lscdr**6*b_lscdr**6*h*sin(psi)**5*cos(psi)**6*cos(psi + pi/4) - 120*a_lscdr**6*b_lscdr**6*h*sin(psi)**5*cos(psi)**5 + 76*a_lscdr**6*b_lscdr**6*h*sin(psi)**5*cos(psi)**3 + 2*a_lscdr**6*b_lscdr**6*h*sin(psi)**5*cos(psi) + 4*sqrt(2)*a_lscdr**6*b_lscdr**6*h*sin(psi)**5*cos(psi + pi/4) + 104*a_lscdr**6*b_lscdr**6*h*sin(psi)**4*cos(psi)**8 - 200*a_lscdr**6*b_lscdr**6*h*sin(psi)**4*cos(psi)**6 + 148*a_lscdr**6*b_lscdr**6*h*sin(psi)**4 - 8*a_lscdr**6*b_lscdr**6*h*sin(psi)**3*cos(psi)**5 - 30*a_lscdr**6*b_lscdr**6*h*sin(psi)**3*cos(psi)**3 + 14*a_lscdr**6*b_lscdr**6*h*sin(psi)**3*cos(psi) - 8*sqrt(2)*a_lscdr**6*b_lscdr**6*h*sin(psi)**3*cos(psi + pi/4) - 72*a_lscdr**6*b_lscdr**6*h*sin(psi)**2 + 4*a_lscdr**6*b_lscdr**6*h*sin(psi)*cos(psi) + 4*sqrt(2)*a_lscdr**6*b_lscdr**6*h*sin(psi)*cos(psi + pi/4) - 16*sqrt(2)*a_lscdr**6*b_lscdr**6*h*sin(psi + pi/4)*cos(psi)**9 + 32*sqrt(2)*a_lscdr**6*b_lscdr**6*h*sin(psi + pi/4)*cos(psi)**7 - 16*sqrt(2)*a_lscdr**6*b_lscdr**6*h*sin(psi + pi/4)*cos(psi)**5 + 16*a_lscdr**6*b_lscdr**6*h*cos(psi)**8 - 12*a_lscdr**6*b_lscdr**6*h*cos(psi)**6 + 4*a_lscdr**6*b_lscdr**6*h + 64*a_lscdr**6*b_lscdr**6*k*sin(psi)**11*cos(psi) + 160*a_lscdr**6*b_lscdr**6*k*sin(psi)**9*cos(psi)**3 - 112*a_lscdr**6*b_lscdr**6*k*sin(psi)**9*cos(psi) - 304*a_lscdr**6*b_lscdr**6*k*sin(psi)**7*cos(psi)**5 - 168*a_lscdr**6*b_lscdr**6*k*sin(psi)**7*cos(psi)**3 + 112*a_lscdr**6*b_lscdr**6*k*sin(psi)**7*cos(psi) - 352*a_lscdr**6*b_lscdr**6*k*sin(psi)**5*cos(psi)**7 + 384*a_lscdr**6*b_lscdr**6*k*sin(psi)**5*cos(psi)**5 + 56*a_lscdr**6*b_lscdr**6*k*sin(psi)**5*cos(psi)**3 - 120*a_lscdr**6*b_lscdr**6*k*sin(psi)**5*cos(psi) + 48*a_lscdr**6*b_lscdr**6*k*sin(psi)**3*cos(psi)**9 - 40*a_lscdr**6*b_lscdr**6*k*sin(psi)**3*cos(psi)**7 - 32*a_lscdr**6*b_lscdr**6*k*sin(psi)**3*cos(psi)**5 + 8*a_lscdr**6*b_lscdr**6*k*sin(psi)**3*cos(psi)**3 + 56*a_lscdr**6*b_lscdr**6*k*sin(psi)**3*cos(psi) + 8*a_lscdr**6*b_lscdr**6*k*sin(psi)*cos(psi)**7 - 8*a_lscdr**6*b_lscdr**6*k*sin(psi)*cos(psi) - 4*a_lscdr**5*b_lscdr*h*sin(psi)**2 + 4*a_lscdr**5*b_lscdr*h + 128*a_lscdr**4*b_lscdr**8*h*sin(psi)**12 + 120*a_lscdr**4*b_lscdr**8*h*sin(psi)**11*cos(psi) - 308*a_lscdr**4*b_lscdr**8*h*sin(psi)**10 - 296*a_lscdr**4*b_lscdr**8*h*sin(psi)**9*cos(psi) + 16*sqrt(2)*a_lscdr**4*b_lscdr**8*h*sin(psi)**9*cos(psi + pi/4) + 40*sqrt(2)*a_lscdr**4*b_lscdr**8*h*sin(psi)**8*sin(psi + pi/4)*cos(psi)**3 + 148*a_lscdr**4*b_lscdr**8*h*sin(psi)**8 - 88*a_lscdr**4*b_lscdr**8*h*sin(psi)**7*cos(psi)**5 + 196*a_lscdr**4*b_lscdr**8*h*sin(psi)**7*cos(psi) - 32*sqrt(2)*a_lscdr**4*b_lscdr**8*h*sin(psi)**7*cos(psi + pi/4) + 136*a_lscdr**4*b_lscdr**8*h*sin(psi)**6*cos(psi)**6 + 96*a_lscdr**4*b_lscdr**8*h*sin(psi)**6 - 8*sqrt(2)*a_lscdr**4*b_lscdr**8*h*sin(psi)**5*cos(psi)**6*cos(psi + pi/4) + 88*a_lscdr**4*b_lscdr**8*h*sin(psi)**5*cos(psi)**5 - 68*a_lscdr**4*b_lscdr**8*h*sin(psi)**5*cos(psi)**3 - 14*a_lscdr**4*b_lscdr**8*h*sin(psi)**5*cos(psi) + 16*sqrt(2)*a_lscdr**4*b_lscdr**8*h*sin(psi)**5*cos(psi + pi/4) - 24*a_lscdr**4*b_lscdr**8*h*sin(psi)**4*cos(psi)**8 + 124*a_lscdr**4*b_lscdr**8*h*sin(psi)**4*cos(psi)**6 - 88*a_lscdr**4*b_lscdr**8*h*sin(psi)**4 + 8*a_lscdr**4*b_lscdr**8*h*sin(psi)**3*cos(psi)**5 + 22*a_lscdr**4*b_lscdr**8*h*sin(psi)**3*cos(psi)**3 - 14*a_lscdr**4*b_lscdr**8*h*sin(psi)**3*cos(psi) + 11*a_lscdr**4*b_lscdr**8*h*sin(psi)**2 + a_lscdr**4*b_lscdr**8*h*sin(3*psi)**2 - 16*a_lscdr**4*b_lscdr**8*h*cos(psi)**8 + 12*a_lscdr**4*b_lscdr**8*h*cos(psi)**6 + 4*a_lscdr**4*b_lscdr**8*h - 88*a_lscdr**4*b_lscdr**8*k*sin(psi)**11*cos(psi) - 200*a_lscdr**4*b_lscdr**8*k*sin(psi)**9*cos(psi)**3 + 168*a_lscdr**4*b_lscdr**8*k*sin(psi)**9*cos(psi) + 216*a_lscdr**4*b_lscdr**8*k*sin(psi)**7*cos(psi)**5 + 256*a_lscdr**4*b_lscdr**8*k*sin(psi)**7*cos(psi)**3 - 120*a_lscdr**4*b_lscdr**8*k*sin(psi)**7*cos(psi) + 328*a_lscdr**4*b_lscdr**8*k*sin(psi)**5*cos(psi)**7 - 272*a_lscdr**4*b_lscdr**8*k*sin(psi)**5*cos(psi)**5 - 88*a_lscdr**4*b_lscdr**8*k*sin(psi)**5*cos(psi)**3 + 64*a_lscdr**4*b_lscdr**8*k*sin(psi)**5*cos(psi) - 8*a_lscdr**4*b_lscdr**8*k*sin(psi)**3*cos(psi)**7 + 24*a_lscdr**4*b_lscdr**8*k*sin(psi)**3*cos(psi)**5 - 16*a_lscdr**4*b_lscdr**8*k*sin(psi)**3*cos(psi) - 4*a_lscdr**3*b_lscdr**3*h - 168*a_lscdr**2*b_lscdr**10*h*sin(psi)**12 - 24*a_lscdr**2*b_lscdr**10*h*sin(psi)**11*cos(psi) + 480*a_lscdr**2*b_lscdr**10*h*sin(psi)**10 + 80*a_lscdr**2*b_lscdr**10*h*sin(psi)**9*cos(psi) - 16*sqrt(2)*a_lscdr**2*b_lscdr**10*h*sin(psi)**9*cos(psi + pi/4) - 16*sqrt(2)*a_lscdr**2*b_lscdr**10*h*sin(psi)**8*sin(psi + pi/4)*cos(psi)**3 - 432*a_lscdr**2*b_lscdr**10*h*sin(psi)**8 + 8*a_lscdr**2*b_lscdr**10*h*sin(psi)**7*cos(psi)**5 + 32*a_lscdr**2*b_lscdr**10*h*sin(psi)**7*cos(psi)**3 - 52*a_lscdr**2*b_lscdr**10*h*sin(psi)**7*cos(psi) + 32*sqrt(2)*a_lscdr**2*b_lscdr**10*h*sin(psi)**7*cos(psi + pi/4) - 184*a_lscdr**2*b_lscdr**10*h*sin(psi)**6*cos(psi)**6 + 88*a_lscdr**2*b_lscdr**10*h*sin(psi)**6 + 20*a_lscdr**2*b_lscdr**10*h*sin(psi)**5*cos(psi)**3 + 2*a_lscdr**2*b_lscdr**10*h*sin(psi)**5*cos(psi) - 16*sqrt(2)*a_lscdr**2*b_lscdr**10*h*sin(psi)**5*cos(psi + pi/4) - 24*a_lscdr**2*b_lscdr**10*h*sin(psi)**4*cos(psi)**6 + 32*a_lscdr**2*b_lscdr**10*h*sin(psi)**4 - 2*a_lscdr**2*b_lscdr**10*h*sin(psi)**3*cos(psi)**3 + 2*a_lscdr**2*b_lscdr**10*h*sin(psi)**3*cos(psi) + 56*a_lscdr**2*b_lscdr**10*k*sin(psi)**11*cos(psi) + 80*a_lscdr**2*b_lscdr**10*k*sin(psi)**9*cos(psi)**3 - 104*a_lscdr**2*b_lscdr**10*k*sin(psi)**9*cos(psi) - 56*a_lscdr**2*b_lscdr**10*k*sin(psi)**7*cos(psi)**5 - 104*a_lscdr**2*b_lscdr**10*k*sin(psi)**7*cos(psi)**3 + 56*a_lscdr**2*b_lscdr**10*k*sin(psi)**7*cos(psi) - 80*a_lscdr**2*b_lscdr**10*k*sin(psi)**5*cos(psi)**7 + 48*a_lscdr**2*b_lscdr**10*k*sin(psi)**5*cos(psi)**5 + 40*a_lscdr**2*b_lscdr**10*k*sin(psi)**5*cos(psi)**3 - 8*a_lscdr**2*b_lscdr**10*k*sin(psi)**5*cos(psi) + 4*a_lscdr*b_lscdr**5*h*sin(psi)**2 + 48*b_lscdr**12*h*sin(psi)**12 - 144*b_lscdr**12*h*sin(psi)**10 - 8*b_lscdr**12*h*sin(psi)**9*cos(psi) + 144*b_lscdr**12*h*sin(psi)**8 - 8*b_lscdr**12*h*sin(psi)**7*cos(psi)**3 + 8*b_lscdr**12*h*sin(psi)**7*cos(psi) + 48*b_lscdr**12*h*sin(psi)**6*cos(psi)**6 - 48*b_lscdr**12*h*sin(psi)**6 - 16*b_lscdr**12*k*sin(psi)**11*cos(psi) + 24*b_lscdr**12*k*sin(psi)**9*cos(psi) + 16*b_lscdr**12*k*sin(psi)**7*cos(psi)**5 - 8*b_lscdr**12*k*sin(psi)**7*cos(psi)**3 - 8*b_lscdr**12*k*sin(psi)**7*cos(psi)\n"
     ]
    }
   ],
   "source": [
    "print(sp.simplify(B2)) #the wait is worth it for the complexity reduction"
   ]
  },
  {
   "cell_type": "code",
   "execution_count": 45,
   "metadata": {},
   "outputs": [
    {
     "name": "stdout",
     "output_type": "stream",
     "text": [
      "a_lscdr**12*b_lscdr**2*sin(psi)**2*sin(2*psi)**4/2 - 2*a_lscdr**12*b_lscdr**2*sin(psi)**2*sin(2*psi)**2*cos(psi)**4 + a_lscdr**12*b_lscdr**2*sin(psi)**2*sin(2*psi)*sin(4*psi)*cos(psi)**2 - a_lscdr**12*b_lscdr**2*sin(2*psi)**4/2 + 2*a_lscdr**12*b_lscdr**2*sin(2*psi)**2*cos(psi)**4 - a_lscdr**12*b_lscdr**2*sin(2*psi)*sin(4*psi)*cos(psi)**2 - 3*a_lscdr**12*h**2*sin(2*psi)**6/8 + 3*a_lscdr**12*h**2*sin(2*psi)**4*cos(psi)**4/2 - 7*a_lscdr**12*h**2*sin(2*psi)**4*cos(psi)**2*cos(2*psi)/4 + 3*a_lscdr**12*h**2*sin(2*psi)**4*cos(psi)**2/4 - a_lscdr**12*h**2*sin(2*psi)**3*sin(4*psi)*cos(psi)**2/4 - a_lscdr**12*h**2*sin(2*psi)**2*cos(psi)**8 + 4*a_lscdr**12*h**2*sin(2*psi)**2*cos(psi)**6*cos(2*psi) - 2*a_lscdr**12*h**2*sin(2*psi)**2*cos(psi)**6 - 9*a_lscdr**12*h**2*sin(2*psi)**2*cos(psi)**4*cos(2*psi)**2/4 + 3*a_lscdr**12*h**2*sin(2*psi)**2*cos(psi)**4*cos(2*psi)/2 - a_lscdr**12*h**2*sin(2*psi)**2*cos(psi)**4/4 - a_lscdr**12*h**2*sin(2*psi)*sin(4*psi)*cos(psi)**4*cos(2*psi)/2 + a_lscdr**12*h**2*sin(2*psi)*sin(4*psi)*cos(psi)**4/2 + 3*a_lscdr**12*h*k*sin(2*psi)**5*cos(psi)**2/4 - 2*a_lscdr**12*h*k*sin(2*psi)**3*cos(psi)**6 + 3*a_lscdr**12*h*k*sin(2*psi)**3*cos(psi)**4*cos(2*psi) - 2*a_lscdr**12*h*k*sin(2*psi)**3*cos(psi)**4 + a_lscdr**12*h*k*sin(2*psi)**2*sin(4*psi)*cos(psi)**4/2 - 4*a_lscdr**12*h*k*sin(2*psi)*cos(psi)**8*cos(2*psi) + 4*a_lscdr**12*h*k*sin(2*psi)*cos(psi)**8 + 3*a_lscdr**12*h*k*sin(2*psi)*cos(psi)**6*cos(2*psi)**2 - 4*a_lscdr**12*h*k*sin(2*psi)*cos(psi)**6*cos(2*psi) + a_lscdr**12*h*k*sin(2*psi)*cos(psi)**6 + a_lscdr**12*h*k*sin(4*psi)*cos(psi)**6*cos(2*psi) - a_lscdr**12*h*k*sin(4*psi)*cos(psi)**6 - a_lscdr**12*k**2*sin(2*psi)**4*cos(psi)**4/4 - a_lscdr**12*k**2*sin(2*psi)**2*cos(psi)**6*cos(2*psi) + a_lscdr**12*k**2*sin(2*psi)**2*cos(psi)**6 - a_lscdr**12*k**2*cos(psi)**8*cos(2*psi)**2 + 2*a_lscdr**12*k**2*cos(psi)**8*cos(2*psi) - a_lscdr**12*k**2*cos(psi)**8 - 4*a_lscdr**10*b_lscdr**4*sin(psi)**4*sin(2*psi)**2*cos(psi)**2 + a_lscdr**10*b_lscdr**4*sin(psi)**4*sin(2*psi)*sin(4*psi) - 5*a_lscdr**10*b_lscdr**4*sin(psi)**2*sin(2*psi)**4/2 + 6*a_lscdr**10*b_lscdr**4*sin(psi)**2*sin(2*psi)**2*cos(psi)**4 + 4*a_lscdr**10*b_lscdr**4*sin(psi)**2*sin(2*psi)**2*cos(psi)**2 - 2*a_lscdr**10*b_lscdr**4*sin(psi)**2*sin(2*psi)**2 - 4*a_lscdr**10*b_lscdr**4*sin(psi)**2*sin(2*psi)*sin(4*psi)*cos(psi)**2 - a_lscdr**10*b_lscdr**4*sin(psi)**2*sin(2*psi)*sin(4*psi) + 2*a_lscdr**10*b_lscdr**4*sin(2*psi)**4 - 4*a_lscdr**10*b_lscdr**4*sin(2*psi)**2*cos(psi)**4 + 2*a_lscdr**10*b_lscdr**4*sin(2*psi)**2 + 3*a_lscdr**10*b_lscdr**4*sin(2*psi)*sin(4*psi)*cos(psi)**2 + 3*a_lscdr**10*b_lscdr**2*h**2*sin(psi)**2*sin(2*psi)**4*cos(psi)**2 - 7*a_lscdr**10*b_lscdr**2*h**2*sin(psi)**2*sin(2*psi)**4*cos(2*psi)/4 + 3*a_lscdr**10*b_lscdr**2*h**2*sin(psi)**2*sin(2*psi)**4/4 - a_lscdr**10*b_lscdr**2*h**2*sin(psi)**2*sin(2*psi)**3*sin(4*psi)/4 - 4*a_lscdr**10*b_lscdr**2*h**2*sin(psi)**2*sin(2*psi)**2*cos(psi)**6 + 12*a_lscdr**10*b_lscdr**2*h**2*sin(psi)**2*sin(2*psi)**2*cos(psi)**4*cos(2*psi) - 6*a_lscdr**10*b_lscdr**2*h**2*sin(psi)**2*sin(2*psi)**2*cos(psi)**4 - 9*a_lscdr**10*b_lscdr**2*h**2*sin(psi)**2*sin(2*psi)**2*cos(psi)**2*cos(2*psi)**2/2 + 3*a_lscdr**10*b_lscdr**2*h**2*sin(psi)**2*sin(2*psi)**2*cos(psi)**2*cos(2*psi) - a_lscdr**10*b_lscdr**2*h**2*sin(psi)**2*sin(2*psi)**2*cos(psi)**2/2 - a_lscdr**10*b_lscdr**2*h**2*sin(psi)**2*sin(2*psi)*sin(4*psi)*cos(psi)**2*cos(2*psi) + a_lscdr**10*b_lscdr**2*h**2*sin(psi)**2*sin(2*psi)*sin(4*psi)*cos(psi)**2 + 9*a_lscdr**10*b_lscdr**2*h**2*sin(2*psi)**6/4 + sqrt(2)*a_lscdr**10*b_lscdr**2*h**2*sin(2*psi)**4*sin(2*psi + pi/4)*cos(psi)**2/4 - 5*a_lscdr**10*b_lscdr**2*h**2*sin(2*psi)**4*cos(psi)**4 + 8*a_lscdr**10*b_lscdr**2*h**2*sin(2*psi)**4*cos(psi)**2*cos(2*psi) - 9*a_lscdr**10*b_lscdr**2*h**2*sin(2*psi)**4*cos(psi)**2/4 - 2*a_lscdr**10*b_lscdr**2*h**2*sin(2*psi)**4 + 5*a_lscdr**10*b_lscdr**2*h**2*sin(2*psi)**3*sin(4*psi)*cos(psi)**2/4 + sqrt(2)*a_lscdr**10*b_lscdr**2*h**2*sin(2*psi)**3*cos(psi)**4*cos(2*psi + pi/4) - a_lscdr**10*b_lscdr**2*h**2*sin(2*psi)**3*cos(psi)**4 - sqrt(2)*a_lscdr**10*b_lscdr**2*h**2*sin(2*psi)**3*cos(psi)**2*cos(4*psi + pi/4)/4 + a_lscdr**10*b_lscdr**2*h**2*sin(2*psi)**3*cos(psi)**2/4 - sqrt(2)*a_lscdr**10*b_lscdr**2*h**2*sin(2*psi)**2*sin(2*psi + pi/4)*cos(psi)**6 - 7*a_lscdr**10*b_lscdr**2*h**2*sin(2*psi)**2*cos(psi)**6*cos(2*psi) + a_lscdr**10*b_lscdr**2*h**2*sin(2*psi)**2*cos(psi)**6 + 15*a_lscdr**10*b_lscdr**2*h**2*sin(2*psi)**2*cos(psi)**4*cos(2*psi)**2/2 - 5*a_lscdr**10*b_lscdr**2*h**2*sin(2*psi)**2*cos(psi)**4*cos(2*psi)/2 - 6*a_lscdr**10*b_lscdr**2*h**2*sin(2*psi)**2*cos(psi)**4 - 7*a_lscdr**10*b_lscdr**2*h**2*sin(2*psi)**2*cos(psi)**2*cos(2*psi) + 3*a_lscdr**10*b_lscdr**2*h**2*sin(2*psi)**2*cos(psi)**2 + sqrt(2)*a_lscdr**10*b_lscdr**2*h**2*sin(2*psi)*sin(4*psi)*sin(2*psi + pi/4)*cos(psi)**4/2 + 3*a_lscdr**10*b_lscdr**2*h**2*sin(2*psi)*sin(4*psi)*cos(psi)**4*cos(2*psi)/2 - a_lscdr**10*b_lscdr**2*h**2*sin(2*psi)*sin(4*psi)*cos(psi)**4 + a_lscdr**10*b_lscdr**2*h**2*sin(2*psi)*sin(4*psi)*cos(psi)**2 - 2*sqrt(2)*a_lscdr**10*b_lscdr**2*h**2*sin(2*psi)*cos(psi)**8*cos(2*psi + pi/4) + 2*a_lscdr**10*b_lscdr**2*h**2*sin(2*psi)*cos(psi)**8 + 3*sqrt(2)*a_lscdr**10*b_lscdr**2*h**2*sin(2*psi)*cos(psi)**6*cos(2*psi)*cos(2*psi + pi/4) - 3*a_lscdr**10*b_lscdr**2*h**2*sin(2*psi)*cos(psi)**6*cos(2*psi) - sqrt(2)*a_lscdr**10*b_lscdr**2*h**2*sin(2*psi)*cos(psi)**6*cos(2*psi + pi/4) + sqrt(2)*a_lscdr**10*b_lscdr**2*h**2*sin(2*psi)*cos(psi)**6*cos(4*psi + pi/4)/2 + a_lscdr**10*b_lscdr**2*h**2*sin(2*psi)*cos(psi)**6/2 - 3*sqrt(2)*a_lscdr**10*b_lscdr**2*h**2*sin(2*psi)*cos(psi)**4*cos(2*psi)*cos(4*psi + pi/4)/4 + 3*a_lscdr**10*b_lscdr**2*h**2*sin(2*psi)*cos(psi)**4*cos(2*psi)/4 + sqrt(2)*a_lscdr**10*b_lscdr**2*h**2*sin(2*psi)*cos(psi)**4*cos(4*psi + pi/4)/4 - a_lscdr**10*b_lscdr**2*h**2*sin(2*psi)*cos(psi)**4/4 - 9*a_lscdr**10*b_lscdr**2*h**2*cos(psi)**4*cos(2*psi)**2 + 10*a_lscdr**10*b_lscdr**2*h**2*cos(psi)**4*cos(2*psi) - a_lscdr**10*b_lscdr**2*h**2*cos(psi)**4 + 3*a_lscdr**10*b_lscdr**2*h*k*sin(psi)**2*sin(2*psi)**5/4 - 6*a_lscdr**10*b_lscdr**2*h*k*sin(psi)**2*sin(2*psi)**3*cos(psi)**4 + 6*a_lscdr**10*b_lscdr**2*h*k*sin(psi)**2*sin(2*psi)**3*cos(psi)**2*cos(2*psi) - 4*a_lscdr**10*b_lscdr**2*h*k*sin(psi)**2*sin(2*psi)**3*cos(psi)**2 + a_lscdr**10*b_lscdr**2*h*k*sin(psi)**2*sin(2*psi)**2*sin(4*psi)*cos(psi)**2 - 16*a_lscdr**10*b_lscdr**2*h*k*sin(psi)**2*sin(2*psi)*cos(psi)**6*cos(2*psi) + 16*a_lscdr**10*b_lscdr**2*h*k*sin(psi)**2*sin(2*psi)*cos(psi)**6 + 9*a_lscdr**10*b_lscdr**2*h*k*sin(psi)**2*sin(2*psi)*cos(psi)**4*cos(2*psi)**2 - 12*a_lscdr**10*b_lscdr**2*h*k*sin(psi)**2*sin(2*psi)*cos(psi)**4*cos(2*psi) + 3*a_lscdr**10*b_lscdr**2*h*k*sin(psi)**2*sin(2*psi)*cos(psi)**4 + 3*a_lscdr**10*b_lscdr**2*h*k*sin(psi)**2*sin(4*psi)*cos(psi)**4*cos(2*psi) - 3*a_lscdr**10*b_lscdr**2*h*k*sin(psi)**2*sin(4*psi)*cos(psi)**4 - 9*a_lscdr**10*b_lscdr**2*h*k*sin(2*psi)**5*cos(psi)**2/2 - sqrt(2)*a_lscdr**10*b_lscdr**2*h*k*sin(2*psi)**3*sin(2*psi + pi/4)*cos(psi)**4/2 + 7*a_lscdr**10*b_lscdr**2*h*k*sin(2*psi)**3*cos(psi)**6 - 27*a_lscdr**10*b_lscdr**2*h*k*sin(2*psi)**3*cos(psi)**4*cos(2*psi)/2 + 11*a_lscdr**10*b_lscdr**2*h*k*sin(2*psi)**3*cos(psi)**4/2 + 3*a_lscdr**10*b_lscdr**2*h*k*sin(2*psi)**3*cos(psi)**2 - 5*a_lscdr**10*b_lscdr**2*h*k*sin(2*psi)**2*sin(4*psi)*cos(psi)**4/2 - sqrt(2)*a_lscdr**10*b_lscdr**2*h*k*sin(2*psi)**2*cos(psi)**6*cos(2*psi + pi/4) + a_lscdr**10*b_lscdr**2*h*k*sin(2*psi)**2*cos(psi)**6 + sqrt(2)*a_lscdr**10*b_lscdr**2*h*k*sin(2*psi)**2*cos(psi)**4*cos(4*psi + pi/4)/4 - a_lscdr**10*b_lscdr**2*h*k*sin(2*psi)**2*cos(psi)**4/4 + 2*sqrt(2)*a_lscdr**10*b_lscdr**2*h*k*sin(2*psi)*sin(2*psi + pi/4)*cos(psi)**8 + 6*a_lscdr**10*b_lscdr**2*h*k*sin(2*psi)*cos(psi)**8*cos(2*psi) - 11*a_lscdr**10*b_lscdr**2*h*k*sin(2*psi)*cos(psi)**6*cos(2*psi)**2 + 7*a_lscdr**10*b_lscdr**2*h*k*sin(2*psi)*cos(psi)**6*cos(2*psi) + 4*a_lscdr**10*b_lscdr**2*h*k*sin(2*psi)*cos(psi)**4*cos(2*psi) + 4*a_lscdr**10*b_lscdr**2*h*k*sin(2*psi)*cos(psi)**4 - sqrt(2)*a_lscdr**10*b_lscdr**2*h*k*sin(4*psi)*sin(2*psi + pi/4)*cos(psi)**6 - 2*a_lscdr**10*b_lscdr**2*h*k*sin(4*psi)*cos(psi)**6*cos(2*psi) + a_lscdr**10*b_lscdr**2*h*k*sin(4*psi)*cos(psi)**6 - 2*sqrt(2)*a_lscdr**10*b_lscdr**2*h*k*cos(psi)**8*cos(2*psi)*cos(2*psi + pi/4) + 2*a_lscdr**10*b_lscdr**2*h*k*cos(psi)**8*cos(2*psi) + 2*sqrt(2)*a_lscdr**10*b_lscdr**2*h*k*cos(psi)**8*cos(2*psi + pi/4) - 2*a_lscdr**10*b_lscdr**2*h*k*cos(psi)**8 + sqrt(2)*a_lscdr**10*b_lscdr**2*h*k*cos(psi)**6*cos(2*psi)*cos(4*psi + pi/4)/2 - a_lscdr**10*b_lscdr**2*h*k*cos(psi)**6*cos(2*psi)/2 - sqrt(2)*a_lscdr**10*b_lscdr**2*h*k*cos(psi)**6*cos(4*psi + pi/4)/2 + a_lscdr**10*b_lscdr**2*h*k*cos(psi)**6/2 - a_lscdr**10*b_lscdr**2*k**2*sin(psi)**2*sin(2*psi)**4*cos(psi)**2/2 - 3*a_lscdr**10*b_lscdr**2*k**2*sin(psi)**2*sin(2*psi)**2*cos(psi)**4*cos(2*psi) + 3*a_lscdr**10*b_lscdr**2*k**2*sin(psi)**2*sin(2*psi)**2*cos(psi)**4 - 4*a_lscdr**10*b_lscdr**2*k**2*sin(psi)**2*cos(psi)**6*cos(2*psi)**2 + 8*a_lscdr**10*b_lscdr**2*k**2*sin(psi)**2*cos(psi)**6*cos(2*psi) - 4*a_lscdr**10*b_lscdr**2*k**2*sin(psi)**2*cos(psi)**6 + 2*a_lscdr**10*b_lscdr**2*k**2*sin(2*psi)**4*cos(psi)**4 - 2*a_lscdr**10*b_lscdr**2*k**2*sin(2*psi)**2*cos(psi)**8 + 5*a_lscdr**10*b_lscdr**2*k**2*sin(2*psi)**2*cos(psi)**6*cos(2*psi) - 3*a_lscdr**10*b_lscdr**2*k**2*sin(2*psi)**2*cos(psi)**6 - a_lscdr**10*b_lscdr**2*k**2*sin(2*psi)**2*cos(psi)**4 + a_lscdr**10*b_lscdr**2*k**2*sin(2*psi)*sin(4*psi)*cos(psi)**6 + 4*a_lscdr**10*b_lscdr**2*k**2*cos(psi)**8*cos(2*psi)**2 - 4*a_lscdr**10*b_lscdr**2*k**2*cos(psi)**8*cos(2*psi) - 2*a_lscdr**8*b_lscdr**6*sin(psi)**6*sin(2*psi)**2 + 12*a_lscdr**8*b_lscdr**6*sin(psi)**4*sin(2*psi)**2*cos(psi)**2 + 2*a_lscdr**8*b_lscdr**6*sin(psi)**4*sin(2*psi)**2 - 4*a_lscdr**8*b_lscdr**6*sin(psi)**4*sin(2*psi)*sin(4*psi) + 5*a_lscdr**8*b_lscdr**6*sin(psi)**2*sin(2*psi)**4 - 6*a_lscdr**8*b_lscdr**6*sin(psi)**2*sin(2*psi)**2*cos(psi)**4 - 8*a_lscdr**8*b_lscdr**6*sin(psi)**2*sin(2*psi)**2*cos(psi)**2 + 6*a_lscdr**8*b_lscdr**6*sin(psi)**2*sin(2*psi)**2 + 6*a_lscdr**8*b_lscdr**6*sin(psi)**2*sin(2*psi)*sin(4*psi)*cos(psi)**2 + 3*a_lscdr**8*b_lscdr**6*sin(psi)**2*sin(2*psi)*sin(4*psi) - 3*a_lscdr**8*b_lscdr**6*sin(2*psi)**4 + 2*a_lscdr**8*b_lscdr**6*sin(2*psi)**2*cos(psi)**4 - 4*a_lscdr**8*b_lscdr**6*sin(2*psi)**2 - 3*a_lscdr**8*b_lscdr**6*sin(2*psi)*sin(4*psi)*cos(psi)**2 + 3*a_lscdr**8*b_lscdr**4*h**2*sin(psi)**4*sin(2*psi)**4/2 - 6*a_lscdr**8*b_lscdr**4*h**2*sin(psi)**4*sin(2*psi)**2*cos(psi)**4 + 12*a_lscdr**8*b_lscdr**4*h**2*sin(psi)**4*sin(2*psi)**2*cos(psi)**2*cos(2*psi) - 6*a_lscdr**8*b_lscdr**4*h**2*sin(psi)**4*sin(2*psi)**2*cos(psi)**2 - 9*a_lscdr**8*b_lscdr**4*h**2*sin(psi)**4*sin(2*psi)**2*cos(2*psi)**2/4 + 3*a_lscdr**8*b_lscdr**4*h**2*sin(psi)**4*sin(2*psi)**2*cos(2*psi)/2 - a_lscdr**8*b_lscdr**4*h**2*sin(psi)**4*sin(2*psi)**2/4 - a_lscdr**8*b_lscdr**4*h**2*sin(psi)**4*sin(2*psi)*sin(4*psi)*cos(2*psi)/2 + a_lscdr**8*b_lscdr**4*h**2*sin(psi)**4*sin(2*psi)*sin(4*psi)/2 + sqrt(2)*a_lscdr**8*b_lscdr**4*h**2*sin(psi)**2*sin(2*psi)**4*sin(2*psi + pi/4)/4 - 10*a_lscdr**8*b_lscdr**4*h**2*sin(psi)**2*sin(2*psi)**4*cos(psi)**2 + 8*a_lscdr**8*b_lscdr**4*h**2*sin(psi)**2*sin(2*psi)**4*cos(2*psi) - 9*a_lscdr**8*b_lscdr**4*h**2*sin(psi)**2*sin(2*psi)**4/4 + 5*a_lscdr**8*b_lscdr**4*h**2*sin(psi)**2*sin(2*psi)**3*sin(4*psi)/4 + 2*sqrt(2)*a_lscdr**8*b_lscdr**4*h**2*sin(psi)**2*sin(2*psi)**3*cos(psi)**2*cos(2*psi + pi/4) - 2*a_lscdr**8*b_lscdr**4*h**2*sin(psi)**2*sin(2*psi)**3*cos(psi)**2 - sqrt(2)*a_lscdr**8*b_lscdr**4*h**2*sin(psi)**2*sin(2*psi)**3*cos(4*psi + pi/4)/4 + a_lscdr**8*b_lscdr**4*h**2*sin(psi)**2*sin(2*psi)**3/4 - 3*sqrt(2)*a_lscdr**8*b_lscdr**4*h**2*sin(psi)**2*sin(2*psi)**2*sin(2*psi + pi/4)*cos(psi)**4 - 21*a_lscdr**8*b_lscdr**4*h**2*sin(psi)**2*sin(2*psi)**2*cos(psi)**4*cos(2*psi) + 3*a_lscdr**8*b_lscdr**4*h**2*sin(psi)**2*sin(2*psi)**2*cos(psi)**4 + 15*a_lscdr**8*b_lscdr**4*h**2*sin(psi)**2*sin(2*psi)**2*cos(psi)**2*cos(2*psi)**2 - 5*a_lscdr**8*b_lscdr**4*h**2*sin(psi)**2*sin(2*psi)**2*cos(psi)**2*cos(2*psi) - 12*a_lscdr**8*b_lscdr**4*h**2*sin(psi)**2*sin(2*psi)**2*cos(psi)**2 - 7*a_lscdr**8*b_lscdr**4*h**2*sin(psi)**2*sin(2*psi)**2*cos(2*psi) + 3*a_lscdr**8*b_lscdr**4*h**2*sin(psi)**2*sin(2*psi)**2 + sqrt(2)*a_lscdr**8*b_lscdr**4*h**2*sin(psi)**2*sin(2*psi)*sin(4*psi)*sin(2*psi + pi/4)*cos(psi)**2 + 3*a_lscdr**8*b_lscdr**4*h**2*sin(psi)**2*sin(2*psi)*sin(4*psi)*cos(psi)**2*cos(2*psi) - 2*a_lscdr**8*b_lscdr**4*h**2*sin(psi)**2*sin(2*psi)*sin(4*psi)*cos(psi)**2 + a_lscdr**8*b_lscdr**4*h**2*sin(psi)**2*sin(2*psi)*sin(4*psi) - 8*sqrt(2)*a_lscdr**8*b_lscdr**4*h**2*sin(psi)**2*sin(2*psi)*cos(psi)**6*cos(2*psi + pi/4) + 8*a_lscdr**8*b_lscdr**4*h**2*sin(psi)**2*sin(2*psi)*cos(psi)**6 + 9*sqrt(2)*a_lscdr**8*b_lscdr**4*h**2*sin(psi)**2*sin(2*psi)*cos(psi)**4*cos(2*psi)*cos(2*psi + pi/4) - 9*a_lscdr**8*b_lscdr**4*h**2*sin(psi)**2*sin(2*psi)*cos(psi)**4*cos(2*psi) - 3*sqrt(2)*a_lscdr**8*b_lscdr**4*h**2*sin(psi)**2*sin(2*psi)*cos(psi)**4*cos(2*psi + pi/4) + 3*sqrt(2)*a_lscdr**8*b_lscdr**4*h**2*sin(psi)**2*sin(2*psi)*cos(psi)**4*cos(4*psi + pi/4)/2 + 3*a_lscdr**8*b_lscdr**4*h**2*sin(psi)**2*sin(2*psi)*cos(psi)**4/2 - 3*sqrt(2)*a_lscdr**8*b_lscdr**4*h**2*sin(psi)**2*sin(2*psi)*cos(psi)**2*cos(2*psi)*cos(4*psi + pi/4)/2 + 3*a_lscdr**8*b_lscdr**4*h**2*sin(psi)**2*sin(2*psi)*cos(psi)**2*cos(2*psi)/2 + sqrt(2)*a_lscdr**8*b_lscdr**4*h**2*sin(psi)**2*sin(2*psi)*cos(psi)**2*cos(4*psi + pi/4)/2 - a_lscdr**8*b_lscdr**4*h**2*sin(psi)**2*sin(2*psi)*cos(psi)**2/2 - 18*a_lscdr**8*b_lscdr**4*h**2*sin(psi)**2*cos(psi)**2*cos(2*psi)**2 + 20*a_lscdr**8*b_lscdr**4*h**2*sin(psi)**2*cos(psi)**2*cos(2*psi) - 2*a_lscdr**8*b_lscdr**4*h**2*sin(psi)**2*cos(psi)**2 - 45*a_lscdr**8*b_lscdr**4*h**2*sin(2*psi)**6/8 - sqrt(2)*a_lscdr**8*b_lscdr**4*h**2*sin(2*psi)**4*sin(2*psi + pi/4)*cos(psi)**2 + 6*a_lscdr**8*b_lscdr**4*h**2*sin(2*psi)**4*cos(psi)**4 - 29*a_lscdr**8*b_lscdr**4*h**2*sin(2*psi)**4*cos(psi)**2*cos(2*psi)/2 + 3*a_lscdr**8*b_lscdr**4*h**2*sin(2*psi)**4*cos(psi)**2/2 + 8*a_lscdr**8*b_lscdr**4*h**2*sin(2*psi)**4 - 5*a_lscdr**8*b_lscdr**4*h**2*sin(2*psi)**3*sin(4*psi)*cos(psi)**2/2 - 3*sqrt(2)*a_lscdr**8*b_lscdr**4*h**2*sin(2*psi)**3*cos(psi)**4*cos(2*psi + pi/4) + 3*a_lscdr**8*b_lscdr**4*h**2*sin(2*psi)**3*cos(psi)**4 + sqrt(2)*a_lscdr**8*b_lscdr**4*h**2*sin(2*psi)**3*cos(psi)**2*cos(4*psi + pi/4) - a_lscdr**8*b_lscdr**4*h**2*sin(2*psi)**3*cos(psi)**2 + 2*sqrt(2)*a_lscdr**8*b_lscdr**4*h**2*sin(2*psi)**2*sin(2*psi + pi/4)*cos(psi)**6 + 5*sqrt(2)*a_lscdr**8*b_lscdr**4*h**2*sin(2*psi)**2*sin(2*psi + pi/4)*cos(psi)**2 + 3*a_lscdr**8*b_lscdr**4*h**2*sin(2*psi)**2*cos(psi)**6*cos(2*psi) + 2*a_lscdr**8*b_lscdr**4*h**2*sin(2*psi)**2*cos(psi)**6 - 37*a_lscdr**8*b_lscdr**4*h**2*sin(2*psi)**2*cos(psi)**4*cos(2*psi)**2/4 - a_lscdr**8*b_lscdr**4*h**2*sin(2*psi)**2*cos(psi)**4*cos(2*psi)/2 + 17*a_lscdr**8*b_lscdr**4*h**2*sin(2*psi)**2*cos(psi)**4/2 + 18*a_lscdr**8*b_lscdr**4*h**2*sin(2*psi)**2*cos(psi)**2*cos(2*psi) - 3*a_lscdr**8*b_lscdr**4*h**2*sin(2*psi)**2*cos(psi)**2 - 6*a_lscdr**8*b_lscdr**4*h**2*sin(2*psi)**2 - 3*sqrt(2)*a_lscdr**8*b_lscdr**4*h**2*sin(2*psi)*sin(4*psi)*sin(2*psi + pi/4)*cos(psi)**4/2 - 3*a_lscdr**8*b_lscdr**4*h**2*sin(2*psi)*sin(4*psi)*cos(psi)**4*cos(2*psi)/2 - 3*a_lscdr**8*b_lscdr**4*h**2*sin(2*psi)*sin(4*psi)*cos(psi)**2 - 5*sqrt(2)*a_lscdr**8*b_lscdr**4*h**2*sin(2*psi)*cos(psi)**6*cos(2*psi)*cos(2*psi + pi/4) + 5*a_lscdr**8*b_lscdr**4*h**2*sin(2*psi)*cos(psi)**6*cos(2*psi) - sqrt(2)*a_lscdr**8*b_lscdr**4*h**2*sin(2*psi)*cos(psi)**6*cos(4*psi + pi/4)/2 + a_lscdr**8*b_lscdr**4*h**2*sin(2*psi)*cos(psi)**6/2 + 2*sqrt(2)*a_lscdr**8*b_lscdr**4*h**2*sin(2*psi)*cos(psi)**4*cos(2*psi)*cos(4*psi + pi/4) - 2*a_lscdr**8*b_lscdr**4*h**2*sin(2*psi)*cos(psi)**4*cos(2*psi) - 4*sqrt(2)*a_lscdr**8*b_lscdr**4*h**2*sin(2*psi)*cos(psi)**4*cos(2*psi + pi/4) - sqrt(2)*a_lscdr**8*b_lscdr**4*h**2*sin(2*psi)*cos(psi)**4*cos(4*psi + pi/4)/4 + 17*a_lscdr**8*b_lscdr**4*h**2*sin(2*psi)*cos(psi)**4/4 + sqrt(2)*a_lscdr**8*b_lscdr**4*h**2*sin(2*psi)*cos(psi)**2*cos(4*psi + pi/4) - a_lscdr**8*b_lscdr**4*h**2*sin(2*psi)*cos(psi)**2 + 10*sqrt(2)*a_lscdr**8*b_lscdr**4*h**2*sin(2*psi + pi/4)*cos(psi)**4*cos(2*psi) - 2*sqrt(2)*a_lscdr**8*b_lscdr**4*h**2*sin(2*psi + pi/4)*cos(psi)**4 - 2*a_lscdr**8*b_lscdr**4*h**2*cos(psi)**8*cos(2*psi + pi/4)**2 + 2*sqrt(2)*a_lscdr**8*b_lscdr**4*h**2*cos(psi)**8*cos(2*psi + pi/4) - a_lscdr**8*b_lscdr**4*h**2*cos(psi)**8 + a_lscdr**8*b_lscdr**4*h**2*cos(psi)**6*cos(2*psi + pi/4)*cos(4*psi + pi/4) - sqrt(2)*a_lscdr**8*b_lscdr**4*h**2*cos(psi)**6*cos(2*psi + pi/4)/2 - sqrt(2)*a_lscdr**8*b_lscdr**4*h**2*cos(psi)**6*cos(4*psi + pi/4)/2 + a_lscdr**8*b_lscdr**4*h**2*cos(psi)**6/2 + 8*a_lscdr**8*b_lscdr**4*h**2*cos(psi)**4*cos(2*psi)**2 + 2*a_lscdr**8*b_lscdr**4*h**2*cos(psi)**4*cos(2*psi) - a_lscdr**8*b_lscdr**4*h**2*cos(psi)**4*cos(4*psi + pi/4)**2/8 + sqrt(2)*a_lscdr**8*b_lscdr**4*h**2*cos(psi)**4*cos(4*psi + pi/4)/8 - 33*a_lscdr**8*b_lscdr**4*h**2*cos(psi)**4/16 - 6*a_lscdr**8*b_lscdr**4*h*k*sin(psi)**4*sin(2*psi)**3*cos(psi)**2 + 3*a_lscdr**8*b_lscdr**4*h*k*sin(psi)**4*sin(2*psi)**3*cos(2*psi) - 2*a_lscdr**8*b_lscdr**4*h*k*sin(psi)**4*sin(2*psi)**3 + a_lscdr**8*b_lscdr**4*h*k*sin(psi)**4*sin(2*psi)**2*sin(4*psi)/2 - 24*a_lscdr**8*b_lscdr**4*h*k*sin(psi)**4*sin(2*psi)*cos(psi)**4*cos(2*psi) + 24*a_lscdr**8*b_lscdr**4*h*k*sin(psi)**4*sin(2*psi)*cos(psi)**4 + 9*a_lscdr**8*b_lscdr**4*h*k*sin(psi)**4*sin(2*psi)*cos(psi)**2*cos(2*psi)**2 - 12*a_lscdr**8*b_lscdr**4*h*k*sin(psi)**4*sin(2*psi)*cos(psi)**2*cos(2*psi) + 3*a_lscdr**8*b_lscdr**4*h*k*sin(psi)**4*sin(2*psi)*cos(psi)**2 + 3*a_lscdr**8*b_lscdr**4*h*k*sin(psi)**4*sin(4*psi)*cos(psi)**2*cos(2*psi) - 3*a_lscdr**8*b_lscdr**4*h*k*sin(psi)**4*sin(4*psi)*cos(psi)**2 - 9*a_lscdr**8*b_lscdr**4*h*k*sin(psi)**2*sin(2*psi)**5/2 - sqrt(2)*a_lscdr**8*b_lscdr**4*h*k*sin(psi)**2*sin(2*psi)**3*sin(2*psi + pi/4)*cos(psi)**2 + 21*a_lscdr**8*b_lscdr**4*h*k*sin(psi)**2*sin(2*psi)**3*cos(psi)**4 - 27*a_lscdr**8*b_lscdr**4*h*k*sin(psi)**2*sin(2*psi)**3*cos(psi)**2*cos(2*psi) + 11*a_lscdr**8*b_lscdr**4*h*k*sin(psi)**2*sin(2*psi)**3*cos(psi)**2 + 3*a_lscdr**8*b_lscdr**4*h*k*sin(psi)**2*sin(2*psi)**3 - 5*a_lscdr**8*b_lscdr**4*h*k*sin(psi)**2*sin(2*psi)**2*sin(4*psi)*cos(psi)**2 - 3*sqrt(2)*a_lscdr**8*b_lscdr**4*h*k*sin(psi)**2*sin(2*psi)**2*cos(psi)**4*cos(2*psi + pi/4) + 3*a_lscdr**8*b_lscdr**4*h*k*sin(psi)**2*sin(2*psi)**2*cos(psi)**4 + sqrt(2)*a_lscdr**8*b_lscdr**4*h*k*sin(psi)**2*sin(2*psi)**2*cos(psi)**2*cos(4*psi + pi/4)/2 - a_lscdr**8*b_lscdr**4*h*k*sin(psi)**2*sin(2*psi)**2*cos(psi)**2/2 + 8*sqrt(2)*a_lscdr**8*b_lscdr**4*h*k*sin(psi)**2*sin(2*psi)*sin(2*psi + pi/4)*cos(psi)**6 + 24*a_lscdr**8*b_lscdr**4*h*k*sin(psi)**2*sin(2*psi)*cos(psi)**6*cos(2*psi) - 33*a_lscdr**8*b_lscdr**4*h*k*sin(psi)**2*sin(2*psi)*cos(psi)**4*cos(2*psi)**2 + 21*a_lscdr**8*b_lscdr**4*h*k*sin(psi)**2*sin(2*psi)*cos(psi)**4*cos(2*psi) + 8*a_lscdr**8*b_lscdr**4*h*k*sin(psi)**2*sin(2*psi)*cos(psi)**2*cos(2*psi) + 8*a_lscdr**8*b_lscdr**4*h*k*sin(psi)**2*sin(2*psi)*cos(psi)**2 - 3*sqrt(2)*a_lscdr**8*b_lscdr**4*h*k*sin(psi)**2*sin(4*psi)*sin(2*psi + pi/4)*cos(psi)**4 - 6*a_lscdr**8*b_lscdr**4*h*k*sin(psi)**2*sin(4*psi)*cos(psi)**4*cos(2*psi) + 3*a_lscdr**8*b_lscdr**4*h*k*sin(psi)**2*sin(4*psi)*cos(psi)**4 - 8*sqrt(2)*a_lscdr**8*b_lscdr**4*h*k*sin(psi)**2*cos(psi)**6*cos(2*psi)*cos(2*psi + pi/4) + 8*a_lscdr**8*b_lscdr**4*h*k*sin(psi)**2*cos(psi)**6*cos(2*psi) + 8*sqrt(2)*a_lscdr**8*b_lscdr**4*h*k*sin(psi)**2*cos(psi)**6*cos(2*psi + pi/4) - 8*a_lscdr**8*b_lscdr**4*h*k*sin(psi)**2*cos(psi)**6 + 3*sqrt(2)*a_lscdr**8*b_lscdr**4*h*k*sin(psi)**2*cos(psi)**4*cos(2*psi)*cos(4*psi + pi/4)/2 - 3*a_lscdr**8*b_lscdr**4*h*k*sin(psi)**2*cos(psi)**4*cos(2*psi)/2 - 3*sqrt(2)*a_lscdr**8*b_lscdr**4*h*k*sin(psi)**2*cos(psi)**4*cos(4*psi + pi/4)/2 + 3*a_lscdr**8*b_lscdr**4*h*k*sin(psi)**2*cos(psi)**4/2 + 21*a_lscdr**8*b_lscdr**4*h*k*sin(2*psi)**5*cos(psi)**2/2 + 3*sqrt(2)*a_lscdr**8*b_lscdr**4*h*k*sin(2*psi)**3*sin(2*psi + pi/4)*cos(psi)**4/2 - 7*a_lscdr**8*b_lscdr**4*h*k*sin(2*psi)**3*cos(psi)**6 + 22*a_lscdr**8*b_lscdr**4*h*k*sin(2*psi)**3*cos(psi)**4*cos(2*psi) - 7*a_lscdr**8*b_lscdr**4*h*k*sin(2*psi)**3*cos(psi)**4/2 - 12*a_lscdr**8*b_lscdr**4*h*k*sin(2*psi)**3*cos(psi)**2 + 9*a_lscdr**8*b_lscdr**4*h*k*sin(2*psi)**2*sin(4*psi)*cos(psi)**4/2 + 3*sqrt(2)*a_lscdr**8*b_lscdr**4*h*k*sin(2*psi)**2*cos(psi)**6*cos(2*psi + pi/4) - 3*a_lscdr**8*b_lscdr**4*h*k*sin(2*psi)**2*cos(psi)**6 - sqrt(2)*a_lscdr**8*b_lscdr**4*h*k*sin(2*psi)**2*cos(psi)**4*cos(4*psi + pi/4) + a_lscdr**8*b_lscdr**4*h*k*sin(2*psi)**2*cos(psi)**4 - 2*sqrt(2)*a_lscdr**8*b_lscdr**4*h*k*sin(2*psi)*sin(2*psi + pi/4)*cos(psi)**8 - 2*a_lscdr**8*b_lscdr**4*h*k*sin(2*psi)*cos(psi)**8 + 12*a_lscdr**8*b_lscdr**4*h*k*sin(2*psi)*cos(psi)**6*cos(2*psi)**2 - a_lscdr**8*b_lscdr**4*h*k*sin(2*psi)*cos(psi)**6*cos(2*psi) - a_lscdr**8*b_lscdr**4*h*k*sin(2*psi)*cos(psi)**6 - 14*a_lscdr**8*b_lscdr**4*h*k*sin(2*psi)*cos(psi)**4*cos(2*psi) - 2*a_lscdr**8*b_lscdr**4*h*k*sin(2*psi)*cos(psi)**4 + 2*sqrt(2)*a_lscdr**8*b_lscdr**4*h*k*sin(4*psi)*sin(2*psi + pi/4)*cos(psi)**6 + a_lscdr**8*b_lscdr**4*h*k*sin(4*psi)*cos(psi)**6*cos(2*psi) + a_lscdr**8*b_lscdr**4*h*k*sin(4*psi)*cos(psi)**6 + 4*sqrt(2)*a_lscdr**8*b_lscdr**4*h*k*cos(psi)**8*cos(2*psi)*cos(2*psi + pi/4) - 4*a_lscdr**8*b_lscdr**4*h*k*cos(psi)**8*cos(2*psi) - 3*sqrt(2)*a_lscdr**8*b_lscdr**4*h*k*cos(psi)**6*cos(2*psi)*cos(4*psi + pi/4)/2 + 3*a_lscdr**8*b_lscdr**4*h*k*cos(psi)**6*cos(2*psi)/2 + sqrt(2)*a_lscdr**8*b_lscdr**4*h*k*cos(psi)**6*cos(4*psi + pi/4)/2 - a_lscdr**8*b_lscdr**4*h*k*cos(psi)**6/2 - a_lscdr**8*b_lscdr**4*k**2*sin(psi)**4*sin(2*psi)**4/4 - 3*a_lscdr**8*b_lscdr**4*k**2*sin(psi)**4*sin(2*psi)**2*cos(psi)**2*cos(2*psi) + 3*a_lscdr**8*b_lscdr**4*k**2*sin(psi)**4*sin(2*psi)**2*cos(psi)**2 - 6*a_lscdr**8*b_lscdr**4*k**2*sin(psi)**4*cos(psi)**4*cos(2*psi)**2 + 12*a_lscdr**8*b_lscdr**4*k**2*sin(psi)**4*cos(psi)**4*cos(2*psi) - 6*a_lscdr**8*b_lscdr**4*k**2*sin(psi)**4*cos(psi)**4 + 4*a_lscdr**8*b_lscdr**4*k**2*sin(psi)**2*sin(2*psi)**4*cos(psi)**2 - 8*a_lscdr**8*b_lscdr**4*k**2*sin(psi)**2*sin(2*psi)**2*cos(psi)**6 + 15*a_lscdr**8*b_lscdr**4*k**2*sin(psi)**2*sin(2*psi)**2*cos(psi)**4*cos(2*psi) - 9*a_lscdr**8*b_lscdr**4*k**2*sin(psi)**2*sin(2*psi)**2*cos(psi)**4 - 2*a_lscdr**8*b_lscdr**4*k**2*sin(psi)**2*sin(2*psi)**2*cos(psi)**2 + 3*a_lscdr**8*b_lscdr**4*k**2*sin(psi)**2*sin(2*psi)*sin(4*psi)*cos(psi)**4 + 16*a_lscdr**8*b_lscdr**4*k**2*sin(psi)**2*cos(psi)**6*cos(2*psi)**2 - 16*a_lscdr**8*b_lscdr**4*k**2*sin(psi)**2*cos(psi)**6*cos(2*psi) - 19*a_lscdr**8*b_lscdr**4*k**2*sin(2*psi)**4*cos(psi)**4/4 + 2*a_lscdr**8*b_lscdr**4*k**2*sin(2*psi)**2*cos(psi)**8 - 8*a_lscdr**8*b_lscdr**4*k**2*sin(2*psi)**2*cos(psi)**6*cos(2*psi) + 2*a_lscdr**8*b_lscdr**4*k**2*sin(2*psi)**2*cos(psi)**6 + 2*a_lscdr**8*b_lscdr**4*k**2*sin(2*psi)**2*cos(psi)**4 - 2*a_lscdr**8*b_lscdr**4*k**2*sin(2*psi)*sin(4*psi)*cos(psi)**6 - 4*a_lscdr**8*b_lscdr**4*k**2*cos(psi)**8*cos(2*psi)**2 - a_lscdr**7*b_lscdr*sin(psi)**2*sin(2*psi)**2 - 2*a_lscdr**7*b_lscdr*sin(psi)**2*cos(psi)**2*cos(2*psi) + a_lscdr**7*b_lscdr*sin(2*psi)**2 + 2*a_lscdr**7*b_lscdr*cos(psi)**2*cos(2*psi) + 6*a_lscdr**6*b_lscdr**8*sin(psi)**6*sin(2*psi)**2 - 12*a_lscdr**6*b_lscdr**8*sin(psi)**4*sin(2*psi)**2*cos(psi)**2 - 4*a_lscdr**6*b_lscdr**8*sin(psi)**4*sin(2*psi)**2 + 6*a_lscdr**6*b_lscdr**8*sin(psi)**4*sin(2*psi)*sin(4*psi) - 5*a_lscdr**6*b_lscdr**8*sin(psi)**2*sin(2*psi)**4 + 2*a_lscdr**6*b_lscdr**8*sin(psi)**2*sin(2*psi)**2*cos(psi)**4 + 4*a_lscdr**6*b_lscdr**8*sin(psi)**2*sin(2*psi)**2*cos(psi)**2 - 6*a_lscdr**6*b_lscdr**8*sin(psi)**2*sin(2*psi)**2 - 4*a_lscdr**6*b_lscdr**8*sin(psi)**2*sin(2*psi)*sin(4*psi)*cos(psi)**2 - 3*a_lscdr**6*b_lscdr**8*sin(psi)**2*sin(2*psi)*sin(4*psi) + 2*a_lscdr**6*b_lscdr**8*sin(2*psi)**4 + 2*a_lscdr**6*b_lscdr**8*sin(2*psi)**2 + a_lscdr**6*b_lscdr**8*sin(2*psi)*sin(4*psi)*cos(psi)**2 - 4*a_lscdr**6*b_lscdr**6*h**2*sin(psi)**6*sin(2*psi)**2*cos(psi)**2 + 4*a_lscdr**6*b_lscdr**6*h**2*sin(psi)**6*sin(2*psi)**2*cos(2*psi) - 2*a_lscdr**6*b_lscdr**6*h**2*sin(psi)**6*sin(2*psi)**2 - 5*a_lscdr**6*b_lscdr**6*h**2*sin(psi)**4*sin(2*psi)**4 + sqrt(2)*a_lscdr**6*b_lscdr**6*h**2*sin(psi)**4*sin(2*psi)**3*cos(2*psi + pi/4) - a_lscdr**6*b_lscdr**6*h**2*sin(psi)**4*sin(2*psi)**3 - 3*sqrt(2)*a_lscdr**6*b_lscdr**6*h**2*sin(psi)**4*sin(2*psi)**2*sin(2*psi + pi/4)*cos(psi)**2 - 21*a_lscdr**6*b_lscdr**6*h**2*sin(psi)**4*sin(2*psi)**2*cos(psi)**2*cos(2*psi) + 3*a_lscdr**6*b_lscdr**6*h**2*sin(psi)**4*sin(2*psi)**2*cos(psi)**2 + 15*a_lscdr**6*b_lscdr**6*h**2*sin(psi)**4*sin(2*psi)**2*cos(2*psi)**2/2 - 5*a_lscdr**6*b_lscdr**6*h**2*sin(psi)**4*sin(2*psi)**2*cos(2*psi)/2 - 6*a_lscdr**6*b_lscdr**6*h**2*sin(psi)**4*sin(2*psi)**2 + sqrt(2)*a_lscdr**6*b_lscdr**6*h**2*sin(psi)**4*sin(2*psi)*sin(4*psi)*sin(2*psi + pi/4)/2 + 3*a_lscdr**6*b_lscdr**6*h**2*sin(psi)**4*sin(2*psi)*sin(4*psi)*cos(2*psi)/2 - a_lscdr**6*b_lscdr**6*h**2*sin(psi)**4*sin(2*psi)*sin(4*psi) - 12*sqrt(2)*a_lscdr**6*b_lscdr**6*h**2*sin(psi)**4*sin(2*psi)*cos(psi)**4*cos(2*psi + pi/4) + 12*a_lscdr**6*b_lscdr**6*h**2*sin(psi)**4*sin(2*psi)*cos(psi)**4 + 9*sqrt(2)*a_lscdr**6*b_lscdr**6*h**2*sin(psi)**4*sin(2*psi)*cos(psi)**2*cos(2*psi)*cos(2*psi + pi/4) - 9*a_lscdr**6*b_lscdr**6*h**2*sin(psi)**4*sin(2*psi)*cos(psi)**2*cos(2*psi) - 3*sqrt(2)*a_lscdr**6*b_lscdr**6*h**2*sin(psi)**4*sin(2*psi)*cos(psi)**2*cos(2*psi + pi/4) + 3*sqrt(2)*a_lscdr**6*b_lscdr**6*h**2*sin(psi)**4*sin(2*psi)*cos(psi)**2*cos(4*psi + pi/4)/2 + 3*a_lscdr**6*b_lscdr**6*h**2*sin(psi)**4*sin(2*psi)*cos(psi)**2/2 - 3*sqrt(2)*a_lscdr**6*b_lscdr**6*h**2*sin(psi)**4*sin(2*psi)*cos(2*psi)*cos(4*psi + pi/4)/4 + 3*a_lscdr**6*b_lscdr**6*h**2*sin(psi)**4*sin(2*psi)*cos(2*psi)/4 + sqrt(2)*a_lscdr**6*b_lscdr**6*h**2*sin(psi)**4*sin(2*psi)*cos(4*psi + pi/4)/4 - a_lscdr**6*b_lscdr**6*h**2*sin(psi)**4*sin(2*psi)/4 - 9*a_lscdr**6*b_lscdr**6*h**2*sin(psi)**4*cos(2*psi)**2 + 10*a_lscdr**6*b_lscdr**6*h**2*sin(psi)**4*cos(2*psi) - a_lscdr**6*b_lscdr**6*h**2*sin(psi)**4 - sqrt(2)*a_lscdr**6*b_lscdr**6*h**2*sin(psi)**2*sin(2*psi)**4*sin(2*psi + pi/4) + 12*a_lscdr**6*b_lscdr**6*h**2*sin(psi)**2*sin(2*psi)**4*cos(psi)**2 - 29*a_lscdr**6*b_lscdr**6*h**2*sin(psi)**2*sin(2*psi)**4*cos(2*psi)/2 + 3*a_lscdr**6*b_lscdr**6*h**2*sin(psi)**2*sin(2*psi)**4/2 - 5*a_lscdr**6*b_lscdr**6*h**2*sin(psi)**2*sin(2*psi)**3*sin(4*psi)/2 - 6*sqrt(2)*a_lscdr**6*b_lscdr**6*h**2*sin(psi)**2*sin(2*psi)**3*cos(psi)**2*cos(2*psi + pi/4) + 6*a_lscdr**6*b_lscdr**6*h**2*sin(psi)**2*sin(2*psi)**3*cos(psi)**2 + sqrt(2)*a_lscdr**6*b_lscdr**6*h**2*sin(psi)**2*sin(2*psi)**3*cos(4*psi + pi/4) - a_lscdr**6*b_lscdr**6*h**2*sin(psi)**2*sin(2*psi)**3 + 6*sqrt(2)*a_lscdr**6*b_lscdr**6*h**2*sin(psi)**2*sin(2*psi)**2*sin(2*psi + pi/4)*cos(psi)**4 + 5*sqrt(2)*a_lscdr**6*b_lscdr**6*h**2*sin(psi)**2*sin(2*psi)**2*sin(2*psi + pi/4) + 9*a_lscdr**6*b_lscdr**6*h**2*sin(psi)**2*sin(2*psi)**2*cos(psi)**4*cos(2*psi) + 6*a_lscdr**6*b_lscdr**6*h**2*sin(psi)**2*sin(2*psi)**2*cos(psi)**4 - 37*a_lscdr**6*b_lscdr**6*h**2*sin(psi)**2*sin(2*psi)**2*cos(psi)**2*cos(2*psi)**2/2 - a_lscdr**6*b_lscdr**6*h**2*sin(psi)**2*sin(2*psi)**2*cos(psi)**2*cos(2*psi) + 17*a_lscdr**6*b_lscdr**6*h**2*sin(psi)**2*sin(2*psi)**2*cos(psi)**2 + 18*a_lscdr**6*b_lscdr**6*h**2*sin(psi)**2*sin(2*psi)**2*cos(2*psi) - 3*a_lscdr**6*b_lscdr**6*h**2*sin(psi)**2*sin(2*psi)**2 - 3*sqrt(2)*a_lscdr**6*b_lscdr**6*h**2*sin(psi)**2*sin(2*psi)*sin(4*psi)*sin(2*psi + pi/4)*cos(psi)**2 - 3*a_lscdr**6*b_lscdr**6*h**2*sin(psi)**2*sin(2*psi)*sin(4*psi)*cos(psi)**2*cos(2*psi) - 3*a_lscdr**6*b_lscdr**6*h**2*sin(psi)**2*sin(2*psi)*sin(4*psi) - 15*sqrt(2)*a_lscdr**6*b_lscdr**6*h**2*sin(psi)**2*sin(2*psi)*cos(psi)**4*cos(2*psi)*cos(2*psi + pi/4) + 15*a_lscdr**6*b_lscdr**6*h**2*sin(psi)**2*sin(2*psi)*cos(psi)**4*cos(2*psi) - 3*sqrt(2)*a_lscdr**6*b_lscdr**6*h**2*sin(psi)**2*sin(2*psi)*cos(psi)**4*cos(4*psi + pi/4)/2 + 3*a_lscdr**6*b_lscdr**6*h**2*sin(psi)**2*sin(2*psi)*cos(psi)**4/2 + 4*sqrt(2)*a_lscdr**6*b_lscdr**6*h**2*sin(psi)**2*sin(2*psi)*cos(psi)**2*cos(2*psi)*cos(4*psi + pi/4) - 4*a_lscdr**6*b_lscdr**6*h**2*sin(psi)**2*sin(2*psi)*cos(psi)**2*cos(2*psi) - 8*sqrt(2)*a_lscdr**6*b_lscdr**6*h**2*sin(psi)**2*sin(2*psi)*cos(psi)**2*cos(2*psi + pi/4) - sqrt(2)*a_lscdr**6*b_lscdr**6*h**2*sin(psi)**2*sin(2*psi)*cos(psi)**2*cos(4*psi + pi/4)/2 + 17*a_lscdr**6*b_lscdr**6*h**2*sin(psi)**2*sin(2*psi)*cos(psi)**2/2 + sqrt(2)*a_lscdr**6*b_lscdr**6*h**2*sin(psi)**2*sin(2*psi)*cos(4*psi + pi/4) - a_lscdr**6*b_lscdr**6*h**2*sin(psi)**2*sin(2*psi) + 20*sqrt(2)*a_lscdr**6*b_lscdr**6*h**2*sin(psi)**2*sin(2*psi + pi/4)*cos(psi)**2*cos(2*psi) - 4*sqrt(2)*a_lscdr**6*b_lscdr**6*h**2*sin(psi)**2*sin(2*psi + pi/4)*cos(psi)**2 - 8*a_lscdr**6*b_lscdr**6*h**2*sin(psi)**2*cos(psi)**6*cos(2*psi + pi/4)**2 + 8*sqrt(2)*a_lscdr**6*b_lscdr**6*h**2*sin(psi)**2*cos(psi)**6*cos(2*psi + pi/4) - 4*a_lscdr**6*b_lscdr**6*h**2*sin(psi)**2*cos(psi)**6 + 3*a_lscdr**6*b_lscdr**6*h**2*sin(psi)**2*cos(psi)**4*cos(2*psi + pi/4)*cos(4*psi + pi/4) - 3*sqrt(2)*a_lscdr**6*b_lscdr**6*h**2*sin(psi)**2*cos(psi)**4*cos(2*psi + pi/4)/2 - 3*sqrt(2)*a_lscdr**6*b_lscdr**6*h**2*sin(psi)**2*cos(psi)**4*cos(4*psi + pi/4)/2 + 3*a_lscdr**6*b_lscdr**6*h**2*sin(psi)**2*cos(psi)**4/2 + 16*a_lscdr**6*b_lscdr**6*h**2*sin(psi)**2*cos(psi)**2*cos(2*psi)**2 + 4*a_lscdr**6*b_lscdr**6*h**2*sin(psi)**2*cos(psi)**2*cos(2*psi) - a_lscdr**6*b_lscdr**6*h**2*sin(psi)**2*cos(psi)**2*cos(4*psi + pi/4)**2/4 + sqrt(2)*a_lscdr**6*b_lscdr**6*h**2*sin(psi)**2*cos(psi)**2*cos(4*psi + pi/4)/4 - 33*a_lscdr**6*b_lscdr**6*h**2*sin(psi)**2*cos(psi)**2/8 + 15*a_lscdr**6*b_lscdr**6*h**2*sin(2*psi)**6/2 + 3*sqrt(2)*a_lscdr**6*b_lscdr**6*h**2*sin(2*psi)**4*sin(2*psi + pi/4)*cos(psi)**2/2 - 3*a_lscdr**6*b_lscdr**6*h**2*sin(2*psi)**4*cos(psi)**4 + 13*a_lscdr**6*b_lscdr**6*h**2*sin(2*psi)**4*cos(psi)**2*cos(2*psi) + 3*a_lscdr**6*b_lscdr**6*h**2*sin(2*psi)**4*cos(psi)**2/2 - 12*a_lscdr**6*b_lscdr**6*h**2*sin(2*psi)**4 + 5*a_lscdr**6*b_lscdr**6*h**2*sin(2*psi)**3*sin(4*psi)*cos(psi)**2/2 + 3*sqrt(2)*a_lscdr**6*b_lscdr**6*h**2*sin(2*psi)**3*cos(psi)**4*cos(2*psi + pi/4) - 3*a_lscdr**6*b_lscdr**6*h**2*sin(2*psi)**3*cos(psi)**4 - 3*sqrt(2)*a_lscdr**6*b_lscdr**6*h**2*sin(2*psi)**3*cos(psi)**2*cos(4*psi + pi/4)/2 + 3*a_lscdr**6*b_lscdr**6*h**2*sin(2*psi)**3*cos(psi)**2/2 - sqrt(2)*a_lscdr**6*b_lscdr**6*h**2*sin(2*psi)**2*sin(2*psi + pi/4)*cos(psi)**6 - 10*sqrt(2)*a_lscdr**6*b_lscdr**6*h**2*sin(2*psi)**2*sin(2*psi + pi/4)*cos(psi)**2 - a_lscdr**6*b_lscdr**6*h**2*sin(2*psi)**2*cos(psi)**6 + 5*a_lscdr**6*b_lscdr**6*h**2*sin(2*psi)**2*cos(psi)**4*cos(2*psi)**2 + 5*a_lscdr**6*b_lscdr**6*h**2*sin(2*psi)**2*cos(psi)**4*cos(2*psi)/2 - 2*a_lscdr**6*b_lscdr**6*h**2*sin(2*psi)**2*cos(psi)**4 - 15*a_lscdr**6*b_lscdr**6*h**2*sin(2*psi)**2*cos(psi)**2*cos(2*psi) - 3*a_lscdr**6*b_lscdr**6*h**2*sin(2*psi)**2*cos(psi)**2 + 12*a_lscdr**6*b_lscdr**6*h**2*sin(2*psi)**2 + 3*sqrt(2)*a_lscdr**6*b_lscdr**6*h**2*sin(2*psi)*sin(4*psi)*sin(2*psi + pi/4)*cos(psi)**4/2 + a_lscdr**6*b_lscdr**6*h**2*sin(2*psi)*sin(4*psi)*cos(psi)**4*cos(2*psi)/2 + a_lscdr**6*b_lscdr**6*h**2*sin(2*psi)*sin(4*psi)*cos(psi)**4 + 3*a_lscdr**6*b_lscdr**6*h**2*sin(2*psi)*sin(4*psi)*cos(psi)**2 + 2*sqrt(2)*a_lscdr**6*b_lscdr**6*h**2*sin(2*psi)*cos(psi)**6*cos(2*psi)*cos(2*psi + pi/4) - 2*a_lscdr**6*b_lscdr**6*h**2*sin(2*psi)*cos(psi)**6*cos(2*psi) + sqrt(2)*a_lscdr**6*b_lscdr**6*h**2*sin(2*psi)*cos(psi)**6*cos(2*psi + pi/4) - a_lscdr**6*b_lscdr**6*h**2*sin(2*psi)*cos(psi)**6 - 7*sqrt(2)*a_lscdr**6*b_lscdr**6*h**2*sin(2*psi)*cos(psi)**4*cos(2*psi)*cos(4*psi + pi/4)/4 + 7*a_lscdr**6*b_lscdr**6*h**2*sin(2*psi)*cos(psi)**4*cos(2*psi)/4 + 4*sqrt(2)*a_lscdr**6*b_lscdr**6*h**2*sin(2*psi)*cos(psi)**4*cos(2*psi + pi/4) - sqrt(2)*a_lscdr**6*b_lscdr**6*h**2*sin(2*psi)*cos(psi)**4*cos(4*psi + pi/4)/4 - 15*a_lscdr**6*b_lscdr**6*h**2*sin(2*psi)*cos(psi)**4/4 - 2*sqrt(2)*a_lscdr**6*b_lscdr**6*h**2*sin(2*psi)*cos(psi)**2*cos(4*psi + pi/4) + 2*a_lscdr**6*b_lscdr**6*h**2*sin(2*psi)*cos(psi)**2 - 2*a_lscdr**6*b_lscdr**6*h**2*sin(2*psi + pi/4)**2*cos(psi)**4 - 8*sqrt(2)*a_lscdr**6*b_lscdr**6*h**2*sin(2*psi + pi/4)*cos(psi)**4*cos(2*psi) - 2*sqrt(2)*a_lscdr**6*b_lscdr**6*h**2*sin(2*psi + pi/4)*cos(psi)**4 - a_lscdr**6*b_lscdr**6*h**2*cos(psi)**6*cos(2*psi + pi/4)*cos(4*psi + pi/4) + sqrt(2)*a_lscdr**6*b_lscdr**6*h**2*cos(psi)**6*cos(2*psi + pi/4)/2 + sqrt(2)*a_lscdr**6*b_lscdr**6*h**2*cos(psi)**6*cos(4*psi + pi/4)/2 - a_lscdr**6*b_lscdr**6*h**2*cos(psi)**6/2 - 8*a_lscdr**6*b_lscdr**6*h**2*cos(psi)**4*cos(2*psi) + a_lscdr**6*b_lscdr**6*h**2*cos(psi)**4*cos(4*psi + pi/4)**2/4 - sqrt(2)*a_lscdr**6*b_lscdr**6*h**2*cos(psi)**4*cos(4*psi + pi/4)/4 - 7*a_lscdr**6*b_lscdr**6*h**2*cos(psi)**4/8 - 2*a_lscdr**6*b_lscdr**6*h*k*sin(psi)**6*sin(2*psi)**3 - 16*a_lscdr**6*b_lscdr**6*h*k*sin(psi)**6*sin(2*psi)*cos(psi)**2*cos(2*psi) + 16*a_lscdr**6*b_lscdr**6*h*k*sin(psi)**6*sin(2*psi)*cos(psi)**2 + 3*a_lscdr**6*b_lscdr**6*h*k*sin(psi)**6*sin(2*psi)*cos(2*psi)**2 - 4*a_lscdr**6*b_lscdr**6*h*k*sin(psi)**6*sin(2*psi)*cos(2*psi) + a_lscdr**6*b_lscdr**6*h*k*sin(psi)**6*sin(2*psi) + a_lscdr**6*b_lscdr**6*h*k*sin(psi)**6*sin(4*psi)*cos(2*psi) - a_lscdr**6*b_lscdr**6*h*k*sin(psi)**6*sin(4*psi) - sqrt(2)*a_lscdr**6*b_lscdr**6*h*k*sin(psi)**4*sin(2*psi)**3*sin(2*psi + pi/4)/2 + 21*a_lscdr**6*b_lscdr**6*h*k*sin(psi)**4*sin(2*psi)**3*cos(psi)**2 - 27*a_lscdr**6*b_lscdr**6*h*k*sin(psi)**4*sin(2*psi)**3*cos(2*psi)/2 + 11*a_lscdr**6*b_lscdr**6*h*k*sin(psi)**4*sin(2*psi)**3/2 - 5*a_lscdr**6*b_lscdr**6*h*k*sin(psi)**4*sin(2*psi)**2*sin(4*psi)/2 - 3*sqrt(2)*a_lscdr**6*b_lscdr**6*h*k*sin(psi)**4*sin(2*psi)**2*cos(psi)**2*cos(2*psi + pi/4) + 3*a_lscdr**6*b_lscdr**6*h*k*sin(psi)**4*sin(2*psi)**2*cos(psi)**2 + sqrt(2)*a_lscdr**6*b_lscdr**6*h*k*sin(psi)**4*sin(2*psi)**2*cos(4*psi + pi/4)/4 - a_lscdr**6*b_lscdr**6*h*k*sin(psi)**4*sin(2*psi)**2/4 + 12*sqrt(2)*a_lscdr**6*b_lscdr**6*h*k*sin(psi)**4*sin(2*psi)*sin(2*psi + pi/4)*cos(psi)**4 + 36*a_lscdr**6*b_lscdr**6*h*k*sin(psi)**4*sin(2*psi)*cos(psi)**4*cos(2*psi) - 33*a_lscdr**6*b_lscdr**6*h*k*sin(psi)**4*sin(2*psi)*cos(psi)**2*cos(2*psi)**2 + 21*a_lscdr**6*b_lscdr**6*h*k*sin(psi)**4*sin(2*psi)*cos(psi)**2*cos(2*psi) + 4*a_lscdr**6*b_lscdr**6*h*k*sin(psi)**4*sin(2*psi)*cos(2*psi) + 4*a_lscdr**6*b_lscdr**6*h*k*sin(psi)**4*sin(2*psi) - 3*sqrt(2)*a_lscdr**6*b_lscdr**6*h*k*sin(psi)**4*sin(4*psi)*sin(2*psi + pi/4)*cos(psi)**2 - 6*a_lscdr**6*b_lscdr**6*h*k*sin(psi)**4*sin(4*psi)*cos(psi)**2*cos(2*psi) + 3*a_lscdr**6*b_lscdr**6*h*k*sin(psi)**4*sin(4*psi)*cos(psi)**2 - 12*sqrt(2)*a_lscdr**6*b_lscdr**6*h*k*sin(psi)**4*cos(psi)**4*cos(2*psi)*cos(2*psi + pi/4) + 12*a_lscdr**6*b_lscdr**6*h*k*sin(psi)**4*cos(psi)**4*cos(2*psi) + 12*sqrt(2)*a_lscdr**6*b_lscdr**6*h*k*sin(psi)**4*cos(psi)**4*cos(2*psi + pi/4) - 12*a_lscdr**6*b_lscdr**6*h*k*sin(psi)**4*cos(psi)**4 + 3*sqrt(2)*a_lscdr**6*b_lscdr**6*h*k*sin(psi)**4*cos(psi)**2*cos(2*psi)*cos(4*psi + pi/4)/2 - 3*a_lscdr**6*b_lscdr**6*h*k*sin(psi)**4*cos(psi)**2*cos(2*psi)/2 - 3*sqrt(2)*a_lscdr**6*b_lscdr**6*h*k*sin(psi)**4*cos(psi)**2*cos(4*psi + pi/4)/2 + 3*a_lscdr**6*b_lscdr**6*h*k*sin(psi)**4*cos(psi)**2/2 + 21*a_lscdr**6*b_lscdr**6*h*k*sin(psi)**2*sin(2*psi)**5/2 + 3*sqrt(2)*a_lscdr**6*b_lscdr**6*h*k*sin(psi)**2*sin(2*psi)**3*sin(2*psi + pi/4)*cos(psi)**2 - 21*a_lscdr**6*b_lscdr**6*h*k*sin(psi)**2*sin(2*psi)**3*cos(psi)**4 + 44*a_lscdr**6*b_lscdr**6*h*k*sin(psi)**2*sin(2*psi)**3*cos(psi)**2*cos(2*psi) - 7*a_lscdr**6*b_lscdr**6*h*k*sin(psi)**2*sin(2*psi)**3*cos(psi)**2 - 12*a_lscdr**6*b_lscdr**6*h*k*sin(psi)**2*sin(2*psi)**3 + 9*a_lscdr**6*b_lscdr**6*h*k*sin(psi)**2*sin(2*psi)**2*sin(4*psi)*cos(psi)**2 + 9*sqrt(2)*a_lscdr**6*b_lscdr**6*h*k*sin(psi)**2*sin(2*psi)**2*cos(psi)**4*cos(2*psi + pi/4) - 9*a_lscdr**6*b_lscdr**6*h*k*sin(psi)**2*sin(2*psi)**2*cos(psi)**4 - 2*sqrt(2)*a_lscdr**6*b_lscdr**6*h*k*sin(psi)**2*sin(2*psi)**2*cos(psi)**2*cos(4*psi + pi/4) + 2*a_lscdr**6*b_lscdr**6*h*k*sin(psi)**2*sin(2*psi)**2*cos(psi)**2 - 8*sqrt(2)*a_lscdr**6*b_lscdr**6*h*k*sin(psi)**2*sin(2*psi)*sin(2*psi + pi/4)*cos(psi)**6 - 8*a_lscdr**6*b_lscdr**6*h*k*sin(psi)**2*sin(2*psi)*cos(psi)**6 + 36*a_lscdr**6*b_lscdr**6*h*k*sin(psi)**2*sin(2*psi)*cos(psi)**4*cos(2*psi)**2 - 3*a_lscdr**6*b_lscdr**6*h*k*sin(psi)**2*sin(2*psi)*cos(psi)**4*cos(2*psi) - 3*a_lscdr**6*b_lscdr**6*h*k*sin(psi)**2*sin(2*psi)*cos(psi)**4 - 28*a_lscdr**6*b_lscdr**6*h*k*sin(psi)**2*sin(2*psi)*cos(psi)**2*cos(2*psi) - 4*a_lscdr**6*b_lscdr**6*h*k*sin(psi)**2*sin(2*psi)*cos(psi)**2 + 6*sqrt(2)*a_lscdr**6*b_lscdr**6*h*k*sin(psi)**2*sin(4*psi)*sin(2*psi + pi/4)*cos(psi)**4 + 3*a_lscdr**6*b_lscdr**6*h*k*sin(psi)**2*sin(4*psi)*cos(psi)**4*cos(2*psi) + 3*a_lscdr**6*b_lscdr**6*h*k*sin(psi)**2*sin(4*psi)*cos(psi)**4 + 16*sqrt(2)*a_lscdr**6*b_lscdr**6*h*k*sin(psi)**2*cos(psi)**6*cos(2*psi)*cos(2*psi + pi/4) - 16*a_lscdr**6*b_lscdr**6*h*k*sin(psi)**2*cos(psi)**6*cos(2*psi) - 9*sqrt(2)*a_lscdr**6*b_lscdr**6*h*k*sin(psi)**2*cos(psi)**4*cos(2*psi)*cos(4*psi + pi/4)/2 + 9*a_lscdr**6*b_lscdr**6*h*k*sin(psi)**2*cos(psi)**4*cos(2*psi)/2 + 3*sqrt(2)*a_lscdr**6*b_lscdr**6*h*k*sin(psi)**2*cos(psi)**4*cos(4*psi + pi/4)/2 - 3*a_lscdr**6*b_lscdr**6*h*k*sin(psi)**2*cos(psi)**4/2 - 12*a_lscdr**6*b_lscdr**6*h*k*sin(2*psi)**5*cos(psi)**2 - 3*sqrt(2)*a_lscdr**6*b_lscdr**6*h*k*sin(2*psi)**3*sin(2*psi + pi/4)*cos(psi)**4/2 + 2*a_lscdr**6*b_lscdr**6*h*k*sin(2*psi)**3*cos(psi)**6 - 31*a_lscdr**6*b_lscdr**6*h*k*sin(2*psi)**3*cos(psi)**4*cos(2*psi)/2 - 3*a_lscdr**6*b_lscdr**6*h*k*sin(2*psi)**3*cos(psi)**4/2 + 15*a_lscdr**6*b_lscdr**6*h*k*sin(2*psi)**3*cos(psi)**2 - 7*a_lscdr**6*b_lscdr**6*h*k*sin(2*psi)**2*sin(4*psi)*cos(psi)**4/2 - 2*sqrt(2)*a_lscdr**6*b_lscdr**6*h*k*sin(2*psi)**2*cos(psi)**6*cos(2*psi + pi/4) + 2*a_lscdr**6*b_lscdr**6*h*k*sin(2*psi)**2*cos(psi)**6 + 5*sqrt(2)*a_lscdr**6*b_lscdr**6*h*k*sin(2*psi)**2*cos(psi)**4*cos(4*psi + pi/4)/4 - 5*a_lscdr**6*b_lscdr**6*h*k*sin(2*psi)**2*cos(psi)**4/4 + 2*sqrt(2)*a_lscdr**6*b_lscdr**6*h*k*sin(2*psi)*sin(2*psi + pi/4)*cos(psi)**4 - 4*a_lscdr**6*b_lscdr**6*h*k*sin(2*psi)*cos(psi)**6*cos(2*psi)**2 - 2*a_lscdr**6*b_lscdr**6*h*k*sin(2*psi)*cos(psi)**6*cos(2*psi) + 8*a_lscdr**6*b_lscdr**6*h*k*sin(2*psi)*cos(psi)**4*cos(2*psi) + 2*a_lscdr**6*b_lscdr**6*h*k*sin(2*psi)*cos(psi)**4 - sqrt(2)*a_lscdr**6*b_lscdr**6*h*k*sin(4*psi)*sin(2*psi + pi/4)*cos(psi)**6 - a_lscdr**6*b_lscdr**6*h*k*sin(4*psi)*cos(psi)**6 + sqrt(2)*a_lscdr**6*b_lscdr**6*h*k*cos(psi)**6*cos(2*psi)*cos(4*psi + pi/4) - a_lscdr**6*b_lscdr**6*h*k*cos(psi)**6*cos(2*psi) - a_lscdr**6*b_lscdr**6*k**2*sin(psi)**6*sin(2*psi)**2*cos(2*psi) + a_lscdr**6*b_lscdr**6*k**2*sin(psi)**6*sin(2*psi)**2 - 4*a_lscdr**6*b_lscdr**6*k**2*sin(psi)**6*cos(psi)**2*cos(2*psi)**2 + 8*a_lscdr**6*b_lscdr**6*k**2*sin(psi)**6*cos(psi)**2*cos(2*psi) - 4*a_lscdr**6*b_lscdr**6*k**2*sin(psi)**6*cos(psi)**2 + 2*a_lscdr**6*b_lscdr**6*k**2*sin(psi)**4*sin(2*psi)**4 - 12*a_lscdr**6*b_lscdr**6*k**2*sin(psi)**4*sin(2*psi)**2*cos(psi)**4 + 15*a_lscdr**6*b_lscdr**6*k**2*sin(psi)**4*sin(2*psi)**2*cos(psi)**2*cos(2*psi) - 9*a_lscdr**6*b_lscdr**6*k**2*sin(psi)**4*sin(2*psi)**2*cos(psi)**2 - a_lscdr**6*b_lscdr**6*k**2*sin(psi)**4*sin(2*psi)**2 + 3*a_lscdr**6*b_lscdr**6*k**2*sin(psi)**4*sin(2*psi)*sin(4*psi)*cos(psi)**2 + 24*a_lscdr**6*b_lscdr**6*k**2*sin(psi)**4*cos(psi)**4*cos(2*psi)**2 - 24*a_lscdr**6*b_lscdr**6*k**2*sin(psi)**4*cos(psi)**4*cos(2*psi) - 19*a_lscdr**6*b_lscdr**6*k**2*sin(psi)**2*sin(2*psi)**4*cos(psi)**2/2 + 8*a_lscdr**6*b_lscdr**6*k**2*sin(psi)**2*sin(2*psi)**2*cos(psi)**6 - 24*a_lscdr**6*b_lscdr**6*k**2*sin(psi)**2*sin(2*psi)**2*cos(psi)**4*cos(2*psi) + 6*a_lscdr**6*b_lscdr**6*k**2*sin(psi)**2*sin(2*psi)**2*cos(psi)**4 + 4*a_lscdr**6*b_lscdr**6*k**2*sin(psi)**2*sin(2*psi)**2*cos(psi)**2 - 6*a_lscdr**6*b_lscdr**6*k**2*sin(psi)**2*sin(2*psi)*sin(4*psi)*cos(psi)**4 - 16*a_lscdr**6*b_lscdr**6*k**2*sin(psi)**2*cos(psi)**6*cos(2*psi)**2 + 9*a_lscdr**6*b_lscdr**6*k**2*sin(2*psi)**4*cos(psi)**4/2 + 4*a_lscdr**6*b_lscdr**6*k**2*sin(2*psi)**2*cos(psi)**6*cos(2*psi) - 2*a_lscdr**6*b_lscdr**6*k**2*sin(2*psi)**2*cos(psi)**4 + a_lscdr**6*b_lscdr**6*k**2*sin(2*psi)*sin(4*psi)*cos(psi)**6 - 2*a_lscdr**5*b_lscdr**3*sin(psi)**4*cos(2*psi) + 3*a_lscdr**5*b_lscdr**3*sin(psi)**2*sin(2*psi)**2 + 4*a_lscdr**5*b_lscdr**3*sin(psi)**2*cos(psi)**2*cos(2*psi) + 2*a_lscdr**5*b_lscdr**3*sin(psi)**2*cos(2*psi) - 2*a_lscdr**5*b_lscdr**3*sin(2*psi)**2 - 2*a_lscdr**5*b_lscdr**3*cos(psi)**2*cos(2*psi) - a_lscdr**5*b_lscdr*h**2*sin(2*psi)**2 - 2*a_lscdr**5*b_lscdr*h**2*cos(psi)**2*cos(2*psi) - 6*a_lscdr**4*b_lscdr**10*sin(psi)**6*sin(2*psi)**2 + 4*a_lscdr**4*b_lscdr**10*sin(psi)**4*sin(2*psi)**2*cos(psi)**2 + 2*a_lscdr**4*b_lscdr**10*sin(psi)**4*sin(2*psi)**2 - 4*a_lscdr**4*b_lscdr**10*sin(psi)**4*sin(2*psi)*sin(4*psi) + 5*a_lscdr**4*b_lscdr**10*sin(psi)**2*sin(2*psi)**4/2 + 2*a_lscdr**4*b_lscdr**10*sin(psi)**2*sin(2*psi)**2 + a_lscdr**4*b_lscdr**10*sin(psi)**2*sin(2*psi)*sin(4*psi)*cos(psi)**2 + a_lscdr**4*b_lscdr**10*sin(psi)**2*sin(2*psi)*sin(4*psi) - a_lscdr**4*b_lscdr**10*sin(2*psi)**4/2 - a_lscdr**4*b_lscdr**8*h**2*sin(psi)**8*sin(2*psi)**2 - sqrt(2)*a_lscdr**4*b_lscdr**8*h**2*sin(psi)**6*sin(2*psi)**2*sin(2*psi + pi/4) - 7*a_lscdr**4*b_lscdr**8*h**2*sin(psi)**6*sin(2*psi)**2*cos(2*psi) + a_lscdr**4*b_lscdr**8*h**2*sin(psi)**6*sin(2*psi)**2 - 8*sqrt(2)*a_lscdr**4*b_lscdr**8*h**2*sin(psi)**6*sin(2*psi)*cos(psi)**2*cos(2*psi + pi/4) + 8*a_lscdr**4*b_lscdr**8*h**2*sin(psi)**6*sin(2*psi)*cos(psi)**2 + 3*sqrt(2)*a_lscdr**4*b_lscdr**8*h**2*sin(psi)**6*sin(2*psi)*cos(2*psi)*cos(2*psi + pi/4) - 3*a_lscdr**4*b_lscdr**8*h**2*sin(psi)**6*sin(2*psi)*cos(2*psi) - sqrt(2)*a_lscdr**4*b_lscdr**8*h**2*sin(psi)**6*sin(2*psi)*cos(2*psi + pi/4) + sqrt(2)*a_lscdr**4*b_lscdr**8*h**2*sin(psi)**6*sin(2*psi)*cos(4*psi + pi/4)/2 + a_lscdr**4*b_lscdr**8*h**2*sin(psi)**6*sin(2*psi)/2 + 6*a_lscdr**4*b_lscdr**8*h**2*sin(psi)**4*sin(2*psi)**4 - 3*sqrt(2)*a_lscdr**4*b_lscdr**8*h**2*sin(psi)**4*sin(2*psi)**3*cos(2*psi + pi/4) + 3*a_lscdr**4*b_lscdr**8*h**2*sin(psi)**4*sin(2*psi)**3 + 6*sqrt(2)*a_lscdr**4*b_lscdr**8*h**2*sin(psi)**4*sin(2*psi)**2*sin(2*psi + pi/4)*cos(psi)**2 + 9*a_lscdr**4*b_lscdr**8*h**2*sin(psi)**4*sin(2*psi)**2*cos(psi)**2*cos(2*psi) + 6*a_lscdr**4*b_lscdr**8*h**2*sin(psi)**4*sin(2*psi)**2*cos(psi)**2 - 37*a_lscdr**4*b_lscdr**8*h**2*sin(psi)**4*sin(2*psi)**2*cos(2*psi)**2/4 - a_lscdr**4*b_lscdr**8*h**2*sin(psi)**4*sin(2*psi)**2*cos(2*psi)/2 + 17*a_lscdr**4*b_lscdr**8*h**2*sin(psi)**4*sin(2*psi)**2/2 - 3*sqrt(2)*a_lscdr**4*b_lscdr**8*h**2*sin(psi)**4*sin(2*psi)*sin(4*psi)*sin(2*psi + pi/4)/2 - 3*a_lscdr**4*b_lscdr**8*h**2*sin(psi)**4*sin(2*psi)*sin(4*psi)*cos(2*psi)/2 - 15*sqrt(2)*a_lscdr**4*b_lscdr**8*h**2*sin(psi)**4*sin(2*psi)*cos(psi)**2*cos(2*psi)*cos(2*psi + pi/4) + 15*a_lscdr**4*b_lscdr**8*h**2*sin(psi)**4*sin(2*psi)*cos(psi)**2*cos(2*psi) - 3*sqrt(2)*a_lscdr**4*b_lscdr**8*h**2*sin(psi)**4*sin(2*psi)*cos(psi)**2*cos(4*psi + pi/4)/2 + 3*a_lscdr**4*b_lscdr**8*h**2*sin(psi)**4*sin(2*psi)*cos(psi)**2/2 + 2*sqrt(2)*a_lscdr**4*b_lscdr**8*h**2*sin(psi)**4*sin(2*psi)*cos(2*psi)*cos(4*psi + pi/4) - 2*a_lscdr**4*b_lscdr**8*h**2*sin(psi)**4*sin(2*psi)*cos(2*psi) - 4*sqrt(2)*a_lscdr**4*b_lscdr**8*h**2*sin(psi)**4*sin(2*psi)*cos(2*psi + pi/4) - sqrt(2)*a_lscdr**4*b_lscdr**8*h**2*sin(psi)**4*sin(2*psi)*cos(4*psi + pi/4)/4 + 17*a_lscdr**4*b_lscdr**8*h**2*sin(psi)**4*sin(2*psi)/4 + 10*sqrt(2)*a_lscdr**4*b_lscdr**8*h**2*sin(psi)**4*sin(2*psi + pi/4)*cos(2*psi) - 2*sqrt(2)*a_lscdr**4*b_lscdr**8*h**2*sin(psi)**4*sin(2*psi + pi/4) - 12*a_lscdr**4*b_lscdr**8*h**2*sin(psi)**4*cos(psi)**4*cos(2*psi + pi/4)**2 + 12*sqrt(2)*a_lscdr**4*b_lscdr**8*h**2*sin(psi)**4*cos(psi)**4*cos(2*psi + pi/4) - 6*a_lscdr**4*b_lscdr**8*h**2*sin(psi)**4*cos(psi)**4 + 3*a_lscdr**4*b_lscdr**8*h**2*sin(psi)**4*cos(psi)**2*cos(2*psi + pi/4)*cos(4*psi + pi/4) - 3*sqrt(2)*a_lscdr**4*b_lscdr**8*h**2*sin(psi)**4*cos(psi)**2*cos(2*psi + pi/4)/2 - 3*sqrt(2)*a_lscdr**4*b_lscdr**8*h**2*sin(psi)**4*cos(psi)**2*cos(4*psi + pi/4)/2 + 3*a_lscdr**4*b_lscdr**8*h**2*sin(psi)**4*cos(psi)**2/2 + 8*a_lscdr**4*b_lscdr**8*h**2*sin(psi)**4*cos(2*psi)**2 + 2*a_lscdr**4*b_lscdr**8*h**2*sin(psi)**4*cos(2*psi) - a_lscdr**4*b_lscdr**8*h**2*sin(psi)**4*cos(4*psi + pi/4)**2/8 + sqrt(2)*a_lscdr**4*b_lscdr**8*h**2*sin(psi)**4*cos(4*psi + pi/4)/8 - 33*a_lscdr**4*b_lscdr**8*h**2*sin(psi)**4/16 + 3*sqrt(2)*a_lscdr**4*b_lscdr**8*h**2*sin(psi)**2*sin(2*psi)**4*sin(2*psi + pi/4)/2 - 6*a_lscdr**4*b_lscdr**8*h**2*sin(psi)**2*sin(2*psi)**4*cos(psi)**2 + 13*a_lscdr**4*b_lscdr**8*h**2*sin(psi)**2*sin(2*psi)**4*cos(2*psi) + 3*a_lscdr**4*b_lscdr**8*h**2*sin(psi)**2*sin(2*psi)**4/2 + 5*a_lscdr**4*b_lscdr**8*h**2*sin(psi)**2*sin(2*psi)**3*sin(4*psi)/2 + 6*sqrt(2)*a_lscdr**4*b_lscdr**8*h**2*sin(psi)**2*sin(2*psi)**3*cos(psi)**2*cos(2*psi + pi/4) - 6*a_lscdr**4*b_lscdr**8*h**2*sin(psi)**2*sin(2*psi)**3*cos(psi)**2 - 3*sqrt(2)*a_lscdr**4*b_lscdr**8*h**2*sin(psi)**2*sin(2*psi)**3*cos(4*psi + pi/4)/2 + 3*a_lscdr**4*b_lscdr**8*h**2*sin(psi)**2*sin(2*psi)**3/2 - 3*sqrt(2)*a_lscdr**4*b_lscdr**8*h**2*sin(psi)**2*sin(2*psi)**2*sin(2*psi + pi/4)*cos(psi)**4 - 10*sqrt(2)*a_lscdr**4*b_lscdr**8*h**2*sin(psi)**2*sin(2*psi)**2*sin(2*psi + pi/4) - 3*a_lscdr**4*b_lscdr**8*h**2*sin(psi)**2*sin(2*psi)**2*cos(psi)**4 + 10*a_lscdr**4*b_lscdr**8*h**2*sin(psi)**2*sin(2*psi)**2*cos(psi)**2*cos(2*psi)**2 + 5*a_lscdr**4*b_lscdr**8*h**2*sin(psi)**2*sin(2*psi)**2*cos(psi)**2*cos(2*psi) - 4*a_lscdr**4*b_lscdr**8*h**2*sin(psi)**2*sin(2*psi)**2*cos(psi)**2 - 15*a_lscdr**4*b_lscdr**8*h**2*sin(psi)**2*sin(2*psi)**2*cos(2*psi) - 3*a_lscdr**4*b_lscdr**8*h**2*sin(psi)**2*sin(2*psi)**2 + 3*sqrt(2)*a_lscdr**4*b_lscdr**8*h**2*sin(psi)**2*sin(2*psi)*sin(4*psi)*sin(2*psi + pi/4)*cos(psi)**2 + a_lscdr**4*b_lscdr**8*h**2*sin(psi)**2*sin(2*psi)*sin(4*psi)*cos(psi)**2*cos(2*psi) + 2*a_lscdr**4*b_lscdr**8*h**2*sin(psi)**2*sin(2*psi)*sin(4*psi)*cos(psi)**2 + 3*a_lscdr**4*b_lscdr**8*h**2*sin(psi)**2*sin(2*psi)*sin(4*psi) + 6*sqrt(2)*a_lscdr**4*b_lscdr**8*h**2*sin(psi)**2*sin(2*psi)*cos(psi)**4*cos(2*psi)*cos(2*psi + pi/4) - 6*a_lscdr**4*b_lscdr**8*h**2*sin(psi)**2*sin(2*psi)*cos(psi)**4*cos(2*psi) + 3*sqrt(2)*a_lscdr**4*b_lscdr**8*h**2*sin(psi)**2*sin(2*psi)*cos(psi)**4*cos(2*psi + pi/4) - 3*a_lscdr**4*b_lscdr**8*h**2*sin(psi)**2*sin(2*psi)*cos(psi)**4 - 7*sqrt(2)*a_lscdr**4*b_lscdr**8*h**2*sin(psi)**2*sin(2*psi)*cos(psi)**2*cos(2*psi)*cos(4*psi + pi/4)/2 + 7*a_lscdr**4*b_lscdr**8*h**2*sin(psi)**2*sin(2*psi)*cos(psi)**2*cos(2*psi)/2 + 8*sqrt(2)*a_lscdr**4*b_lscdr**8*h**2*sin(psi)**2*sin(2*psi)*cos(psi)**2*cos(2*psi + pi/4) - sqrt(2)*a_lscdr**4*b_lscdr**8*h**2*sin(psi)**2*sin(2*psi)*cos(psi)**2*cos(4*psi + pi/4)/2 - 15*a_lscdr**4*b_lscdr**8*h**2*sin(psi)**2*sin(2*psi)*cos(psi)**2/2 - 2*sqrt(2)*a_lscdr**4*b_lscdr**8*h**2*sin(psi)**2*sin(2*psi)*cos(4*psi + pi/4) + 2*a_lscdr**4*b_lscdr**8*h**2*sin(psi)**2*sin(2*psi) - 4*a_lscdr**4*b_lscdr**8*h**2*sin(psi)**2*sin(2*psi + pi/4)**2*cos(psi)**2 - 16*sqrt(2)*a_lscdr**4*b_lscdr**8*h**2*sin(psi)**2*sin(2*psi + pi/4)*cos(psi)**2*cos(2*psi) - 4*sqrt(2)*a_lscdr**4*b_lscdr**8*h**2*sin(psi)**2*sin(2*psi + pi/4)*cos(psi)**2 - 3*a_lscdr**4*b_lscdr**8*h**2*sin(psi)**2*cos(psi)**4*cos(2*psi + pi/4)*cos(4*psi + pi/4) + 3*sqrt(2)*a_lscdr**4*b_lscdr**8*h**2*sin(psi)**2*cos(psi)**4*cos(2*psi + pi/4)/2 + 3*sqrt(2)*a_lscdr**4*b_lscdr**8*h**2*sin(psi)**2*cos(psi)**4*cos(4*psi + pi/4)/2 - 3*a_lscdr**4*b_lscdr**8*h**2*sin(psi)**2*cos(psi)**4/2 - 16*a_lscdr**4*b_lscdr**8*h**2*sin(psi)**2*cos(psi)**2*cos(2*psi) + a_lscdr**4*b_lscdr**8*h**2*sin(psi)**2*cos(psi)**2*cos(4*psi + pi/4)**2/2 - sqrt(2)*a_lscdr**4*b_lscdr**8*h**2*sin(psi)**2*cos(psi)**2*cos(4*psi + pi/4)/2 - 7*a_lscdr**4*b_lscdr**8*h**2*sin(psi)**2*cos(psi)**2/4 - 45*a_lscdr**4*b_lscdr**8*h**2*sin(2*psi)**6/8 - sqrt(2)*a_lscdr**4*b_lscdr**8*h**2*sin(2*psi)**4*sin(2*psi + pi/4)*cos(psi)**2 + a_lscdr**4*b_lscdr**8*h**2*sin(2*psi)**4*cos(psi)**4/2 - 23*a_lscdr**4*b_lscdr**8*h**2*sin(2*psi)**4*cos(psi)**2*cos(2*psi)/4 - 9*a_lscdr**4*b_lscdr**8*h**2*sin(2*psi)**4*cos(psi)**2/4 + 8*a_lscdr**4*b_lscdr**8*h**2*sin(2*psi)**4 - 5*a_lscdr**4*b_lscdr**8*h**2*sin(2*psi)**3*sin(4*psi)*cos(psi)**2/4 - sqrt(2)*a_lscdr**4*b_lscdr**8*h**2*sin(2*psi)**3*cos(psi)**4*cos(2*psi + pi/4) + a_lscdr**4*b_lscdr**8*h**2*sin(2*psi)**3*cos(psi)**4 + sqrt(2)*a_lscdr**4*b_lscdr**8*h**2*sin(2*psi)**3*cos(psi)**2*cos(4*psi + pi/4) - a_lscdr**4*b_lscdr**8*h**2*sin(2*psi)**3*cos(psi)**2 + 5*sqrt(2)*a_lscdr**4*b_lscdr**8*h**2*sin(2*psi)**2*sin(2*psi + pi/4)*cos(psi)**2 - a_lscdr**4*b_lscdr**8*h**2*sin(2*psi)**2*cos(psi)**4*cos(2*psi)**2 - a_lscdr**4*b_lscdr**8*h**2*sin(2*psi)**2*cos(psi)**4*cos(2*psi) - a_lscdr**4*b_lscdr**8*h**2*sin(2*psi)**2*cos(psi)**4/4 + 4*a_lscdr**4*b_lscdr**8*h**2*sin(2*psi)**2*cos(psi)**2*cos(2*psi) + 3*a_lscdr**4*b_lscdr**8*h**2*sin(2*psi)**2*cos(psi)**2 - 6*a_lscdr**4*b_lscdr**8*h**2*sin(2*psi)**2 - sqrt(2)*a_lscdr**4*b_lscdr**8*h**2*sin(2*psi)*sin(4*psi)*sin(2*psi + pi/4)*cos(psi)**4/2 - a_lscdr**4*b_lscdr**8*h**2*sin(2*psi)*sin(4*psi)*cos(psi)**4/2 - a_lscdr**4*b_lscdr**8*h**2*sin(2*psi)*sin(4*psi)*cos(psi)**2 + sqrt(2)*a_lscdr**4*b_lscdr**8*h**2*sin(2*psi)*cos(psi)**4*cos(2*psi)*cos(4*psi + pi/4)/2 - a_lscdr**4*b_lscdr**8*h**2*sin(2*psi)*cos(psi)**4*cos(2*psi)/2 + sqrt(2)*a_lscdr**4*b_lscdr**8*h**2*sin(2*psi)*cos(psi)**4*cos(4*psi + pi/4)/4 - a_lscdr**4*b_lscdr**8*h**2*sin(2*psi)*cos(psi)**4/4 + sqrt(2)*a_lscdr**4*b_lscdr**8*h**2*sin(2*psi)*cos(psi)**2*cos(4*psi + pi/4) - a_lscdr**4*b_lscdr**8*h**2*sin(2*psi)*cos(psi)**2 - a_lscdr**4*b_lscdr**8*h**2*cos(psi)**4*cos(4*psi + pi/4)**2/8 + sqrt(2)*a_lscdr**4*b_lscdr**8*h**2*cos(psi)**4*cos(4*psi + pi/4)/8 - a_lscdr**4*b_lscdr**8*h**2*cos(psi)**4/16 - 4*a_lscdr**4*b_lscdr**8*h*k*sin(psi)**8*sin(2*psi)*cos(2*psi) + 4*a_lscdr**4*b_lscdr**8*h*k*sin(psi)**8*sin(2*psi) + 7*a_lscdr**4*b_lscdr**8*h*k*sin(psi)**6*sin(2*psi)**3 - sqrt(2)*a_lscdr**4*b_lscdr**8*h*k*sin(psi)**6*sin(2*psi)**2*cos(2*psi + pi/4) + a_lscdr**4*b_lscdr**8*h*k*sin(psi)**6*sin(2*psi)**2 + 8*sqrt(2)*a_lscdr**4*b_lscdr**8*h*k*sin(psi)**6*sin(2*psi)*sin(2*psi + pi/4)*cos(psi)**2 + 24*a_lscdr**4*b_lscdr**8*h*k*sin(psi)**6*sin(2*psi)*cos(psi)**2*cos(2*psi) - 11*a_lscdr**4*b_lscdr**8*h*k*sin(psi)**6*sin(2*psi)*cos(2*psi)**2 + 7*a_lscdr**4*b_lscdr**8*h*k*sin(psi)**6*sin(2*psi)*cos(2*psi) - sqrt(2)*a_lscdr**4*b_lscdr**8*h*k*sin(psi)**6*sin(4*psi)*sin(2*psi + pi/4) - 2*a_lscdr**4*b_lscdr**8*h*k*sin(psi)**6*sin(4*psi)*cos(2*psi) + a_lscdr**4*b_lscdr**8*h*k*sin(psi)**6*sin(4*psi) - 8*sqrt(2)*a_lscdr**4*b_lscdr**8*h*k*sin(psi)**6*cos(psi)**2*cos(2*psi)*cos(2*psi + pi/4) + 8*a_lscdr**4*b_lscdr**8*h*k*sin(psi)**6*cos(psi)**2*cos(2*psi) + 8*sqrt(2)*a_lscdr**4*b_lscdr**8*h*k*sin(psi)**6*cos(psi)**2*cos(2*psi + pi/4) - 8*a_lscdr**4*b_lscdr**8*h*k*sin(psi)**6*cos(psi)**2 + sqrt(2)*a_lscdr**4*b_lscdr**8*h*k*sin(psi)**6*cos(2*psi)*cos(4*psi + pi/4)/2 - a_lscdr**4*b_lscdr**8*h*k*sin(psi)**6*cos(2*psi)/2 - sqrt(2)*a_lscdr**4*b_lscdr**8*h*k*sin(psi)**6*cos(4*psi + pi/4)/2 + a_lscdr**4*b_lscdr**8*h*k*sin(psi)**6/2 + 3*sqrt(2)*a_lscdr**4*b_lscdr**8*h*k*sin(psi)**4*sin(2*psi)**3*sin(2*psi + pi/4)/2 - 21*a_lscdr**4*b_lscdr**8*h*k*sin(psi)**4*sin(2*psi)**3*cos(psi)**2 + 22*a_lscdr**4*b_lscdr**8*h*k*sin(psi)**4*sin(2*psi)**3*cos(2*psi) - 7*a_lscdr**4*b_lscdr**8*h*k*sin(psi)**4*sin(2*psi)**3/2 + 9*a_lscdr**4*b_lscdr**8*h*k*sin(psi)**4*sin(2*psi)**2*sin(4*psi)/2 + 9*sqrt(2)*a_lscdr**4*b_lscdr**8*h*k*sin(psi)**4*sin(2*psi)**2*cos(psi)**2*cos(2*psi + pi/4) - 9*a_lscdr**4*b_lscdr**8*h*k*sin(psi)**4*sin(2*psi)**2*cos(psi)**2 - sqrt(2)*a_lscdr**4*b_lscdr**8*h*k*sin(psi)**4*sin(2*psi)**2*cos(4*psi + pi/4) + a_lscdr**4*b_lscdr**8*h*k*sin(psi)**4*sin(2*psi)**2 - 12*sqrt(2)*a_lscdr**4*b_lscdr**8*h*k*sin(psi)**4*sin(2*psi)*sin(2*psi + pi/4)*cos(psi)**4 - 12*a_lscdr**4*b_lscdr**8*h*k*sin(psi)**4*sin(2*psi)*cos(psi)**4 + 36*a_lscdr**4*b_lscdr**8*h*k*sin(psi)**4*sin(2*psi)*cos(psi)**2*cos(2*psi)**2 - 3*a_lscdr**4*b_lscdr**8*h*k*sin(psi)**4*sin(2*psi)*cos(psi)**2*cos(2*psi) - 3*a_lscdr**4*b_lscdr**8*h*k*sin(psi)**4*sin(2*psi)*cos(psi)**2 - 14*a_lscdr**4*b_lscdr**8*h*k*sin(psi)**4*sin(2*psi)*cos(2*psi) - 2*a_lscdr**4*b_lscdr**8*h*k*sin(psi)**4*sin(2*psi) + 6*sqrt(2)*a_lscdr**4*b_lscdr**8*h*k*sin(psi)**4*sin(4*psi)*sin(2*psi + pi/4)*cos(psi)**2 + 3*a_lscdr**4*b_lscdr**8*h*k*sin(psi)**4*sin(4*psi)*cos(psi)**2*cos(2*psi) + 3*a_lscdr**4*b_lscdr**8*h*k*sin(psi)**4*sin(4*psi)*cos(psi)**2 + 24*sqrt(2)*a_lscdr**4*b_lscdr**8*h*k*sin(psi)**4*cos(psi)**4*cos(2*psi)*cos(2*psi + pi/4) - 24*a_lscdr**4*b_lscdr**8*h*k*sin(psi)**4*cos(psi)**4*cos(2*psi) - 9*sqrt(2)*a_lscdr**4*b_lscdr**8*h*k*sin(psi)**4*cos(psi)**2*cos(2*psi)*cos(4*psi + pi/4)/2 + 9*a_lscdr**4*b_lscdr**8*h*k*sin(psi)**4*cos(psi)**2*cos(2*psi)/2 + 3*sqrt(2)*a_lscdr**4*b_lscdr**8*h*k*sin(psi)**4*cos(psi)**2*cos(4*psi + pi/4)/2 - 3*a_lscdr**4*b_lscdr**8*h*k*sin(psi)**4*cos(psi)**2/2 - 12*a_lscdr**4*b_lscdr**8*h*k*sin(psi)**2*sin(2*psi)**5 - 3*sqrt(2)*a_lscdr**4*b_lscdr**8*h*k*sin(psi)**2*sin(2*psi)**3*sin(2*psi + pi/4)*cos(psi)**2 + 6*a_lscdr**4*b_lscdr**8*h*k*sin(psi)**2*sin(2*psi)**3*cos(psi)**4 - 31*a_lscdr**4*b_lscdr**8*h*k*sin(psi)**2*sin(2*psi)**3*cos(psi)**2*cos(2*psi) - 3*a_lscdr**4*b_lscdr**8*h*k*sin(psi)**2*sin(2*psi)**3*cos(psi)**2 + 15*a_lscdr**4*b_lscdr**8*h*k*sin(psi)**2*sin(2*psi)**3 - 7*a_lscdr**4*b_lscdr**8*h*k*sin(psi)**2*sin(2*psi)**2*sin(4*psi)*cos(psi)**2 - 6*sqrt(2)*a_lscdr**4*b_lscdr**8*h*k*sin(psi)**2*sin(2*psi)**2*cos(psi)**4*cos(2*psi + pi/4) + 6*a_lscdr**4*b_lscdr**8*h*k*sin(psi)**2*sin(2*psi)**2*cos(psi)**4 + 5*sqrt(2)*a_lscdr**4*b_lscdr**8*h*k*sin(psi)**2*sin(2*psi)**2*cos(psi)**2*cos(4*psi + pi/4)/2 - 5*a_lscdr**4*b_lscdr**8*h*k*sin(psi)**2*sin(2*psi)**2*cos(psi)**2/2 + 4*sqrt(2)*a_lscdr**4*b_lscdr**8*h*k*sin(psi)**2*sin(2*psi)*sin(2*psi + pi/4)*cos(psi)**2 - 12*a_lscdr**4*b_lscdr**8*h*k*sin(psi)**2*sin(2*psi)*cos(psi)**4*cos(2*psi)**2 - 6*a_lscdr**4*b_lscdr**8*h*k*sin(psi)**2*sin(2*psi)*cos(psi)**4*cos(2*psi) + 16*a_lscdr**4*b_lscdr**8*h*k*sin(psi)**2*sin(2*psi)*cos(psi)**2*cos(2*psi) + 4*a_lscdr**4*b_lscdr**8*h*k*sin(psi)**2*sin(2*psi)*cos(psi)**2 - 3*sqrt(2)*a_lscdr**4*b_lscdr**8*h*k*sin(psi)**2*sin(4*psi)*sin(2*psi + pi/4)*cos(psi)**4 - 3*a_lscdr**4*b_lscdr**8*h*k*sin(psi)**2*sin(4*psi)*cos(psi)**4 + 3*sqrt(2)*a_lscdr**4*b_lscdr**8*h*k*sin(psi)**2*cos(psi)**4*cos(2*psi)*cos(4*psi + pi/4) - 3*a_lscdr**4*b_lscdr**8*h*k*sin(psi)**2*cos(psi)**4*cos(2*psi) + 27*a_lscdr**4*b_lscdr**8*h*k*sin(2*psi)**5*cos(psi)**2/4 + sqrt(2)*a_lscdr**4*b_lscdr**8*h*k*sin(2*psi)**3*sin(2*psi + pi/4)*cos(psi)**4/2 + 4*a_lscdr**4*b_lscdr**8*h*k*sin(2*psi)**3*cos(psi)**4*cos(2*psi) + 3*a_lscdr**4*b_lscdr**8*h*k*sin(2*psi)**3*cos(psi)**4/2 - 6*a_lscdr**4*b_lscdr**8*h*k*sin(2*psi)**3*cos(psi)**2 + a_lscdr**4*b_lscdr**8*h*k*sin(2*psi)**2*sin(4*psi)*cos(psi)**4 - sqrt(2)*a_lscdr**4*b_lscdr**8*h*k*sin(2*psi)**2*cos(psi)**4*cos(4*psi + pi/4)/2 + a_lscdr**4*b_lscdr**8*h*k*sin(2*psi)**2*cos(psi)**4/2 - a_lscdr**4*b_lscdr**8*k**2*sin(psi)**8*cos(2*psi)**2 + 2*a_lscdr**4*b_lscdr**8*k**2*sin(psi)**8*cos(2*psi) - a_lscdr**4*b_lscdr**8*k**2*sin(psi)**8 - 8*a_lscdr**4*b_lscdr**8*k**2*sin(psi)**6*sin(2*psi)**2*cos(psi)**2 + 5*a_lscdr**4*b_lscdr**8*k**2*sin(psi)**6*sin(2*psi)**2*cos(2*psi) - 3*a_lscdr**4*b_lscdr**8*k**2*sin(psi)**6*sin(2*psi)**2 + a_lscdr**4*b_lscdr**8*k**2*sin(psi)**6*sin(2*psi)*sin(4*psi) + 16*a_lscdr**4*b_lscdr**8*k**2*sin(psi)**6*cos(psi)**2*cos(2*psi)**2 - 16*a_lscdr**4*b_lscdr**8*k**2*sin(psi)**6*cos(psi)**2*cos(2*psi) - 19*a_lscdr**4*b_lscdr**8*k**2*sin(psi)**4*sin(2*psi)**4/4 + 12*a_lscdr**4*b_lscdr**8*k**2*sin(psi)**4*sin(2*psi)**2*cos(psi)**4 - 24*a_lscdr**4*b_lscdr**8*k**2*sin(psi)**4*sin(2*psi)**2*cos(psi)**2*cos(2*psi) + 6*a_lscdr**4*b_lscdr**8*k**2*sin(psi)**4*sin(2*psi)**2*cos(psi)**2 + 2*a_lscdr**4*b_lscdr**8*k**2*sin(psi)**4*sin(2*psi)**2 - 6*a_lscdr**4*b_lscdr**8*k**2*sin(psi)**4*sin(2*psi)*sin(4*psi)*cos(psi)**2 - 24*a_lscdr**4*b_lscdr**8*k**2*sin(psi)**4*cos(psi)**4*cos(2*psi)**2 + 9*a_lscdr**4*b_lscdr**8*k**2*sin(psi)**2*sin(2*psi)**4*cos(psi)**2 + 12*a_lscdr**4*b_lscdr**8*k**2*sin(psi)**2*sin(2*psi)**2*cos(psi)**4*cos(2*psi) - 4*a_lscdr**4*b_lscdr**8*k**2*sin(psi)**2*sin(2*psi)**2*cos(psi)**2 + 3*a_lscdr**4*b_lscdr**8*k**2*sin(psi)**2*sin(2*psi)*sin(4*psi)*cos(psi)**4 - 3*a_lscdr**4*b_lscdr**8*k**2*sin(2*psi)**4*cos(psi)**4/2 + 4*a_lscdr**3*b_lscdr**5*sin(psi)**4*cos(2*psi) - 3*a_lscdr**3*b_lscdr**5*sin(psi)**2*sin(2*psi)**2 - 2*a_lscdr**3*b_lscdr**5*sin(psi)**2*cos(psi)**2*cos(2*psi) - 2*a_lscdr**3*b_lscdr**5*sin(psi)**2*cos(2*psi) + a_lscdr**3*b_lscdr**5*sin(2*psi)**2 - 2*a_lscdr**3*b_lscdr**3*h**2*sin(psi)**2*cos(2*psi) + 2*a_lscdr**3*b_lscdr**3*h**2*sin(2*psi)**2 + 2*a_lscdr**3*b_lscdr**3*h**2*cos(psi)**2*cos(2*psi) + 2*a_lscdr**2*b_lscdr**12*sin(psi)**6*sin(2*psi)**2 + a_lscdr**2*b_lscdr**12*sin(psi)**4*sin(2*psi)*sin(4*psi) - a_lscdr**2*b_lscdr**12*sin(psi)**2*sin(2*psi)**4/2 - 2*sqrt(2)*a_lscdr**2*b_lscdr**10*h**2*sin(psi)**8*sin(2*psi)*cos(2*psi + pi/4) + 2*a_lscdr**2*b_lscdr**10*h**2*sin(psi)**8*sin(2*psi) + 2*sqrt(2)*a_lscdr**2*b_lscdr**10*h**2*sin(psi)**6*sin(2*psi)**2*sin(2*psi + pi/4) + 3*a_lscdr**2*b_lscdr**10*h**2*sin(psi)**6*sin(2*psi)**2*cos(2*psi) + 2*a_lscdr**2*b_lscdr**10*h**2*sin(psi)**6*sin(2*psi)**2 - 5*sqrt(2)*a_lscdr**2*b_lscdr**10*h**2*sin(psi)**6*sin(2*psi)*cos(2*psi)*cos(2*psi + pi/4) + 5*a_lscdr**2*b_lscdr**10*h**2*sin(psi)**6*sin(2*psi)*cos(2*psi) - sqrt(2)*a_lscdr**2*b_lscdr**10*h**2*sin(psi)**6*sin(2*psi)*cos(4*psi + pi/4)/2 + a_lscdr**2*b_lscdr**10*h**2*sin(psi)**6*sin(2*psi)/2 - 8*a_lscdr**2*b_lscdr**10*h**2*sin(psi)**6*cos(psi)**2*cos(2*psi + pi/4)**2 + 8*sqrt(2)*a_lscdr**2*b_lscdr**10*h**2*sin(psi)**6*cos(psi)**2*cos(2*psi + pi/4) - 4*a_lscdr**2*b_lscdr**10*h**2*sin(psi)**6*cos(psi)**2 + a_lscdr**2*b_lscdr**10*h**2*sin(psi)**6*cos(2*psi + pi/4)*cos(4*psi + pi/4) - sqrt(2)*a_lscdr**2*b_lscdr**10*h**2*sin(psi)**6*cos(2*psi + pi/4)/2 - sqrt(2)*a_lscdr**2*b_lscdr**10*h**2*sin(psi)**6*cos(4*psi + pi/4)/2 + a_lscdr**2*b_lscdr**10*h**2*sin(psi)**6/2 - 3*a_lscdr**2*b_lscdr**10*h**2*sin(psi)**4*sin(2*psi)**4 + 3*sqrt(2)*a_lscdr**2*b_lscdr**10*h**2*sin(psi)**4*sin(2*psi)**3*cos(2*psi + pi/4) - 3*a_lscdr**2*b_lscdr**10*h**2*sin(psi)**4*sin(2*psi)**3 - 3*sqrt(2)*a_lscdr**2*b_lscdr**10*h**2*sin(psi)**4*sin(2*psi)**2*sin(2*psi + pi/4)*cos(psi)**2 - 3*a_lscdr**2*b_lscdr**10*h**2*sin(psi)**4*sin(2*psi)**2*cos(psi)**2 + 5*a_lscdr**2*b_lscdr**10*h**2*sin(psi)**4*sin(2*psi)**2*cos(2*psi)**2 + 5*a_lscdr**2*b_lscdr**10*h**2*sin(psi)**4*sin(2*psi)**2*cos(2*psi)/2 - 2*a_lscdr**2*b_lscdr**10*h**2*sin(psi)**4*sin(2*psi)**2 + 3*sqrt(2)*a_lscdr**2*b_lscdr**10*h**2*sin(psi)**4*sin(2*psi)*sin(4*psi)*sin(2*psi + pi/4)/2 + a_lscdr**2*b_lscdr**10*h**2*sin(psi)**4*sin(2*psi)*sin(4*psi)*cos(2*psi)/2 + a_lscdr**2*b_lscdr**10*h**2*sin(psi)**4*sin(2*psi)*sin(4*psi) + 6*sqrt(2)*a_lscdr**2*b_lscdr**10*h**2*sin(psi)**4*sin(2*psi)*cos(psi)**2*cos(2*psi)*cos(2*psi + pi/4) - 6*a_lscdr**2*b_lscdr**10*h**2*sin(psi)**4*sin(2*psi)*cos(psi)**2*cos(2*psi) + 3*sqrt(2)*a_lscdr**2*b_lscdr**10*h**2*sin(psi)**4*sin(2*psi)*cos(psi)**2*cos(2*psi + pi/4) - 3*a_lscdr**2*b_lscdr**10*h**2*sin(psi)**4*sin(2*psi)*cos(psi)**2 - 7*sqrt(2)*a_lscdr**2*b_lscdr**10*h**2*sin(psi)**4*sin(2*psi)*cos(2*psi)*cos(4*psi + pi/4)/4 + 7*a_lscdr**2*b_lscdr**10*h**2*sin(psi)**4*sin(2*psi)*cos(2*psi)/4 + 4*sqrt(2)*a_lscdr**2*b_lscdr**10*h**2*sin(psi)**4*sin(2*psi)*cos(2*psi + pi/4) - sqrt(2)*a_lscdr**2*b_lscdr**10*h**2*sin(psi)**4*sin(2*psi)*cos(4*psi + pi/4)/4 - 15*a_lscdr**2*b_lscdr**10*h**2*sin(psi)**4*sin(2*psi)/4 - 2*a_lscdr**2*b_lscdr**10*h**2*sin(psi)**4*sin(2*psi + pi/4)**2 - 8*sqrt(2)*a_lscdr**2*b_lscdr**10*h**2*sin(psi)**4*sin(2*psi + pi/4)*cos(2*psi) - 2*sqrt(2)*a_lscdr**2*b_lscdr**10*h**2*sin(psi)**4*sin(2*psi + pi/4) - 3*a_lscdr**2*b_lscdr**10*h**2*sin(psi)**4*cos(psi)**2*cos(2*psi + pi/4)*cos(4*psi + pi/4) + 3*sqrt(2)*a_lscdr**2*b_lscdr**10*h**2*sin(psi)**4*cos(psi)**2*cos(2*psi + pi/4)/2 + 3*sqrt(2)*a_lscdr**2*b_lscdr**10*h**2*sin(psi)**4*cos(psi)**2*cos(4*psi + pi/4)/2 - 3*a_lscdr**2*b_lscdr**10*h**2*sin(psi)**4*cos(psi)**2/2 - 8*a_lscdr**2*b_lscdr**10*h**2*sin(psi)**4*cos(2*psi) + a_lscdr**2*b_lscdr**10*h**2*sin(psi)**4*cos(4*psi + pi/4)**2/4 - sqrt(2)*a_lscdr**2*b_lscdr**10*h**2*sin(psi)**4*cos(4*psi + pi/4)/4 - 7*a_lscdr**2*b_lscdr**10*h**2*sin(psi)**4/8 - sqrt(2)*a_lscdr**2*b_lscdr**10*h**2*sin(psi)**2*sin(2*psi)**4*sin(2*psi + pi/4) + a_lscdr**2*b_lscdr**10*h**2*sin(psi)**2*sin(2*psi)**4*cos(psi)**2 - 23*a_lscdr**2*b_lscdr**10*h**2*sin(psi)**2*sin(2*psi)**4*cos(2*psi)/4 - 9*a_lscdr**2*b_lscdr**10*h**2*sin(psi)**2*sin(2*psi)**4/4 - 5*a_lscdr**2*b_lscdr**10*h**2*sin(psi)**2*sin(2*psi)**3*sin(4*psi)/4 - 2*sqrt(2)*a_lscdr**2*b_lscdr**10*h**2*sin(psi)**2*sin(2*psi)**3*cos(psi)**2*cos(2*psi + pi/4) + 2*a_lscdr**2*b_lscdr**10*h**2*sin(psi)**2*sin(2*psi)**3*cos(psi)**2 + sqrt(2)*a_lscdr**2*b_lscdr**10*h**2*sin(psi)**2*sin(2*psi)**3*cos(4*psi + pi/4) - a_lscdr**2*b_lscdr**10*h**2*sin(psi)**2*sin(2*psi)**3 + 5*sqrt(2)*a_lscdr**2*b_lscdr**10*h**2*sin(psi)**2*sin(2*psi)**2*sin(2*psi + pi/4) - 2*a_lscdr**2*b_lscdr**10*h**2*sin(psi)**2*sin(2*psi)**2*cos(psi)**2*cos(2*psi)**2 - 2*a_lscdr**2*b_lscdr**10*h**2*sin(psi)**2*sin(2*psi)**2*cos(psi)**2*cos(2*psi) - a_lscdr**2*b_lscdr**10*h**2*sin(psi)**2*sin(2*psi)**2*cos(psi)**2/2 + 4*a_lscdr**2*b_lscdr**10*h**2*sin(psi)**2*sin(2*psi)**2*cos(2*psi) + 3*a_lscdr**2*b_lscdr**10*h**2*sin(psi)**2*sin(2*psi)**2 - sqrt(2)*a_lscdr**2*b_lscdr**10*h**2*sin(psi)**2*sin(2*psi)*sin(4*psi)*sin(2*psi + pi/4)*cos(psi)**2 - a_lscdr**2*b_lscdr**10*h**2*sin(psi)**2*sin(2*psi)*sin(4*psi)*cos(psi)**2 - a_lscdr**2*b_lscdr**10*h**2*sin(psi)**2*sin(2*psi)*sin(4*psi) + sqrt(2)*a_lscdr**2*b_lscdr**10*h**2*sin(psi)**2*sin(2*psi)*cos(psi)**2*cos(2*psi)*cos(4*psi + pi/4) - a_lscdr**2*b_lscdr**10*h**2*sin(psi)**2*sin(2*psi)*cos(psi)**2*cos(2*psi) + sqrt(2)*a_lscdr**2*b_lscdr**10*h**2*sin(psi)**2*sin(2*psi)*cos(psi)**2*cos(4*psi + pi/4)/2 - a_lscdr**2*b_lscdr**10*h**2*sin(psi)**2*sin(2*psi)*cos(psi)**2/2 + sqrt(2)*a_lscdr**2*b_lscdr**10*h**2*sin(psi)**2*sin(2*psi)*cos(4*psi + pi/4) - a_lscdr**2*b_lscdr**10*h**2*sin(psi)**2*sin(2*psi) - a_lscdr**2*b_lscdr**10*h**2*sin(psi)**2*cos(psi)**2*cos(4*psi + pi/4)**2/4 + sqrt(2)*a_lscdr**2*b_lscdr**10*h**2*sin(psi)**2*cos(psi)**2*cos(4*psi + pi/4)/4 - a_lscdr**2*b_lscdr**10*h**2*sin(psi)**2*cos(psi)**2/8 + 9*a_lscdr**2*b_lscdr**10*h**2*sin(2*psi)**6/4 + sqrt(2)*a_lscdr**2*b_lscdr**10*h**2*sin(2*psi)**4*sin(2*psi + pi/4)*cos(psi)**2/4 + a_lscdr**2*b_lscdr**10*h**2*sin(2*psi)**4*cos(psi)**2*cos(2*psi) + 3*a_lscdr**2*b_lscdr**10*h**2*sin(2*psi)**4*cos(psi)**2/4 - 2*a_lscdr**2*b_lscdr**10*h**2*sin(2*psi)**4 + a_lscdr**2*b_lscdr**10*h**2*sin(2*psi)**3*sin(4*psi)*cos(psi)**2/4 - sqrt(2)*a_lscdr**2*b_lscdr**10*h**2*sin(2*psi)**3*cos(psi)**2*cos(4*psi + pi/4)/4 + a_lscdr**2*b_lscdr**10*h**2*sin(2*psi)**3*cos(psi)**2/4 + 2*sqrt(2)*a_lscdr**2*b_lscdr**10*h*k*sin(psi)**8*sin(2*psi)*sin(2*psi + pi/4) + 6*a_lscdr**2*b_lscdr**10*h*k*sin(psi)**8*sin(2*psi)*cos(2*psi) - 2*sqrt(2)*a_lscdr**2*b_lscdr**10*h*k*sin(psi)**8*cos(2*psi)*cos(2*psi + pi/4) + 2*a_lscdr**2*b_lscdr**10*h*k*sin(psi)**8*cos(2*psi) + 2*sqrt(2)*a_lscdr**2*b_lscdr**10*h*k*sin(psi)**8*cos(2*psi + pi/4) - 2*a_lscdr**2*b_lscdr**10*h*k*sin(psi)**8 - 7*a_lscdr**2*b_lscdr**10*h*k*sin(psi)**6*sin(2*psi)**3 + 3*sqrt(2)*a_lscdr**2*b_lscdr**10*h*k*sin(psi)**6*sin(2*psi)**2*cos(2*psi + pi/4) - 3*a_lscdr**2*b_lscdr**10*h*k*sin(psi)**6*sin(2*psi)**2 - 8*sqrt(2)*a_lscdr**2*b_lscdr**10*h*k*sin(psi)**6*sin(2*psi)*sin(2*psi + pi/4)*cos(psi)**2 - 8*a_lscdr**2*b_lscdr**10*h*k*sin(psi)**6*sin(2*psi)*cos(psi)**2 + 12*a_lscdr**2*b_lscdr**10*h*k*sin(psi)**6*sin(2*psi)*cos(2*psi)**2 - a_lscdr**2*b_lscdr**10*h*k*sin(psi)**6*sin(2*psi)*cos(2*psi) - a_lscdr**2*b_lscdr**10*h*k*sin(psi)**6*sin(2*psi) + 2*sqrt(2)*a_lscdr**2*b_lscdr**10*h*k*sin(psi)**6*sin(4*psi)*sin(2*psi + pi/4) + a_lscdr**2*b_lscdr**10*h*k*sin(psi)**6*sin(4*psi)*cos(2*psi) + a_lscdr**2*b_lscdr**10*h*k*sin(psi)**6*sin(4*psi) + 16*sqrt(2)*a_lscdr**2*b_lscdr**10*h*k*sin(psi)**6*cos(psi)**2*cos(2*psi)*cos(2*psi + pi/4) - 16*a_lscdr**2*b_lscdr**10*h*k*sin(psi)**6*cos(psi)**2*cos(2*psi) - 3*sqrt(2)*a_lscdr**2*b_lscdr**10*h*k*sin(psi)**6*cos(2*psi)*cos(4*psi + pi/4)/2 + 3*a_lscdr**2*b_lscdr**10*h*k*sin(psi)**6*cos(2*psi)/2 + sqrt(2)*a_lscdr**2*b_lscdr**10*h*k*sin(psi)**6*cos(4*psi + pi/4)/2 - a_lscdr**2*b_lscdr**10*h*k*sin(psi)**6/2 - 3*sqrt(2)*a_lscdr**2*b_lscdr**10*h*k*sin(psi)**4*sin(2*psi)**3*sin(2*psi + pi/4)/2 + 6*a_lscdr**2*b_lscdr**10*h*k*sin(psi)**4*sin(2*psi)**3*cos(psi)**2 - 31*a_lscdr**2*b_lscdr**10*h*k*sin(psi)**4*sin(2*psi)**3*cos(2*psi)/2 - 3*a_lscdr**2*b_lscdr**10*h*k*sin(psi)**4*sin(2*psi)**3/2 - 7*a_lscdr**2*b_lscdr**10*h*k*sin(psi)**4*sin(2*psi)**2*sin(4*psi)/2 - 6*sqrt(2)*a_lscdr**2*b_lscdr**10*h*k*sin(psi)**4*sin(2*psi)**2*cos(psi)**2*cos(2*psi + pi/4) + 6*a_lscdr**2*b_lscdr**10*h*k*sin(psi)**4*sin(2*psi)**2*cos(psi)**2 + 5*sqrt(2)*a_lscdr**2*b_lscdr**10*h*k*sin(psi)**4*sin(2*psi)**2*cos(4*psi + pi/4)/4 - 5*a_lscdr**2*b_lscdr**10*h*k*sin(psi)**4*sin(2*psi)**2/4 + 2*sqrt(2)*a_lscdr**2*b_lscdr**10*h*k*sin(psi)**4*sin(2*psi)*sin(2*psi + pi/4) - 12*a_lscdr**2*b_lscdr**10*h*k*sin(psi)**4*sin(2*psi)*cos(psi)**2*cos(2*psi)**2 - 6*a_lscdr**2*b_lscdr**10*h*k*sin(psi)**4*sin(2*psi)*cos(psi)**2*cos(2*psi) + 8*a_lscdr**2*b_lscdr**10*h*k*sin(psi)**4*sin(2*psi)*cos(2*psi) + 2*a_lscdr**2*b_lscdr**10*h*k*sin(psi)**4*sin(2*psi) - 3*sqrt(2)*a_lscdr**2*b_lscdr**10*h*k*sin(psi)**4*sin(4*psi)*sin(2*psi + pi/4)*cos(psi)**2 - 3*a_lscdr**2*b_lscdr**10*h*k*sin(psi)**4*sin(4*psi)*cos(psi)**2 + 3*sqrt(2)*a_lscdr**2*b_lscdr**10*h*k*sin(psi)**4*cos(psi)**2*cos(2*psi)*cos(4*psi + pi/4) - 3*a_lscdr**2*b_lscdr**10*h*k*sin(psi)**4*cos(psi)**2*cos(2*psi) + 27*a_lscdr**2*b_lscdr**10*h*k*sin(psi)**2*sin(2*psi)**5/4 + sqrt(2)*a_lscdr**2*b_lscdr**10*h*k*sin(psi)**2*sin(2*psi)**3*sin(2*psi + pi/4)*cos(psi)**2 + 8*a_lscdr**2*b_lscdr**10*h*k*sin(psi)**2*sin(2*psi)**3*cos(psi)**2*cos(2*psi) + 3*a_lscdr**2*b_lscdr**10*h*k*sin(psi)**2*sin(2*psi)**3*cos(psi)**2 - 6*a_lscdr**2*b_lscdr**10*h*k*sin(psi)**2*sin(2*psi)**3 + 2*a_lscdr**2*b_lscdr**10*h*k*sin(psi)**2*sin(2*psi)**2*sin(4*psi)*cos(psi)**2 - sqrt(2)*a_lscdr**2*b_lscdr**10*h*k*sin(psi)**2*sin(2*psi)**2*cos(psi)**2*cos(4*psi + pi/4) + a_lscdr**2*b_lscdr**10*h*k*sin(psi)**2*sin(2*psi)**2*cos(psi)**2 - 3*a_lscdr**2*b_lscdr**10*h*k*sin(2*psi)**5*cos(psi)**2/2 - 2*a_lscdr**2*b_lscdr**10*k**2*sin(psi)**8*sin(2*psi)**2 + 4*a_lscdr**2*b_lscdr**10*k**2*sin(psi)**8*cos(2*psi)**2 - 4*a_lscdr**2*b_lscdr**10*k**2*sin(psi)**8*cos(2*psi) + 8*a_lscdr**2*b_lscdr**10*k**2*sin(psi)**6*sin(2*psi)**2*cos(psi)**2 - 8*a_lscdr**2*b_lscdr**10*k**2*sin(psi)**6*sin(2*psi)**2*cos(2*psi) + 2*a_lscdr**2*b_lscdr**10*k**2*sin(psi)**6*sin(2*psi)**2 - 2*a_lscdr**2*b_lscdr**10*k**2*sin(psi)**6*sin(2*psi)*sin(4*psi) - 16*a_lscdr**2*b_lscdr**10*k**2*sin(psi)**6*cos(psi)**2*cos(2*psi)**2 + 9*a_lscdr**2*b_lscdr**10*k**2*sin(psi)**4*sin(2*psi)**4/2 + 12*a_lscdr**2*b_lscdr**10*k**2*sin(psi)**4*sin(2*psi)**2*cos(psi)**2*cos(2*psi) - 2*a_lscdr**2*b_lscdr**10*k**2*sin(psi)**4*sin(2*psi)**2 + 3*a_lscdr**2*b_lscdr**10*k**2*sin(psi)**4*sin(2*psi)*sin(4*psi)*cos(psi)**2 - 3*a_lscdr**2*b_lscdr**10*k**2*sin(psi)**2*sin(2*psi)**4*cos(psi)**2 - 2*a_lscdr*b_lscdr**7*sin(psi)**4*cos(2*psi) + a_lscdr*b_lscdr**7*sin(psi)**2*sin(2*psi)**2 + 2*a_lscdr*b_lscdr**5*h**2*sin(psi)**2*cos(2*psi) - a_lscdr*b_lscdr**5*h**2*sin(2*psi)**2 - 2*b_lscdr**12*h**2*sin(psi)**8*cos(2*psi + pi/4)**2 + 2*sqrt(2)*b_lscdr**12*h**2*sin(psi)**8*cos(2*psi + pi/4) - b_lscdr**12*h**2*sin(psi)**8 - sqrt(2)*b_lscdr**12*h**2*sin(psi)**6*sin(2*psi)**2*sin(2*psi + pi/4) - b_lscdr**12*h**2*sin(psi)**6*sin(2*psi)**2 + 2*sqrt(2)*b_lscdr**12*h**2*sin(psi)**6*sin(2*psi)*cos(2*psi)*cos(2*psi + pi/4) - 2*b_lscdr**12*h**2*sin(psi)**6*sin(2*psi)*cos(2*psi) + sqrt(2)*b_lscdr**12*h**2*sin(psi)**6*sin(2*psi)*cos(2*psi + pi/4) - b_lscdr**12*h**2*sin(psi)**6*sin(2*psi) - b_lscdr**12*h**2*sin(psi)**6*cos(2*psi + pi/4)*cos(4*psi + pi/4) + sqrt(2)*b_lscdr**12*h**2*sin(psi)**6*cos(2*psi + pi/4)/2 + sqrt(2)*b_lscdr**12*h**2*sin(psi)**6*cos(4*psi + pi/4)/2 - b_lscdr**12*h**2*sin(psi)**6/2 + b_lscdr**12*h**2*sin(psi)**4*sin(2*psi)**4/2 - sqrt(2)*b_lscdr**12*h**2*sin(psi)**4*sin(2*psi)**3*cos(2*psi + pi/4) + b_lscdr**12*h**2*sin(psi)**4*sin(2*psi)**3 - b_lscdr**12*h**2*sin(psi)**4*sin(2*psi)**2*cos(2*psi)**2 - b_lscdr**12*h**2*sin(psi)**4*sin(2*psi)**2*cos(2*psi) - b_lscdr**12*h**2*sin(psi)**4*sin(2*psi)**2/4 - sqrt(2)*b_lscdr**12*h**2*sin(psi)**4*sin(2*psi)*sin(4*psi)*sin(2*psi + pi/4)/2 - b_lscdr**12*h**2*sin(psi)**4*sin(2*psi)*sin(4*psi)/2 + sqrt(2)*b_lscdr**12*h**2*sin(psi)**4*sin(2*psi)*cos(2*psi)*cos(4*psi + pi/4)/2 - b_lscdr**12*h**2*sin(psi)**4*sin(2*psi)*cos(2*psi)/2 + sqrt(2)*b_lscdr**12*h**2*sin(psi)**4*sin(2*psi)*cos(4*psi + pi/4)/4 - b_lscdr**12*h**2*sin(psi)**4*sin(2*psi)/4 - b_lscdr**12*h**2*sin(psi)**4*cos(4*psi + pi/4)**2/8 + sqrt(2)*b_lscdr**12*h**2*sin(psi)**4*cos(4*psi + pi/4)/8 - b_lscdr**12*h**2*sin(psi)**4/16 + sqrt(2)*b_lscdr**12*h**2*sin(psi)**2*sin(2*psi)**4*sin(2*psi + pi/4)/4 + b_lscdr**12*h**2*sin(psi)**2*sin(2*psi)**4*cos(2*psi) + 3*b_lscdr**12*h**2*sin(psi)**2*sin(2*psi)**4/4 + b_lscdr**12*h**2*sin(psi)**2*sin(2*psi)**3*sin(4*psi)/4 - sqrt(2)*b_lscdr**12*h**2*sin(psi)**2*sin(2*psi)**3*cos(4*psi + pi/4)/4 + b_lscdr**12*h**2*sin(psi)**2*sin(2*psi)**3/4 - 3*b_lscdr**12*h**2*sin(2*psi)**6/8 - 2*sqrt(2)*b_lscdr**12*h*k*sin(psi)**8*sin(2*psi)*sin(2*psi + pi/4) - 2*b_lscdr**12*h*k*sin(psi)**8*sin(2*psi) + 4*sqrt(2)*b_lscdr**12*h*k*sin(psi)**8*cos(2*psi)*cos(2*psi + pi/4) - 4*b_lscdr**12*h*k*sin(psi)**8*cos(2*psi) + 2*b_lscdr**12*h*k*sin(psi)**6*sin(2*psi)**3 - 2*sqrt(2)*b_lscdr**12*h*k*sin(psi)**6*sin(2*psi)**2*cos(2*psi + pi/4) + 2*b_lscdr**12*h*k*sin(psi)**6*sin(2*psi)**2 - 4*b_lscdr**12*h*k*sin(psi)**6*sin(2*psi)*cos(2*psi)**2 - 2*b_lscdr**12*h*k*sin(psi)**6*sin(2*psi)*cos(2*psi) - sqrt(2)*b_lscdr**12*h*k*sin(psi)**6*sin(4*psi)*sin(2*psi + pi/4) - b_lscdr**12*h*k*sin(psi)**6*sin(4*psi) + sqrt(2)*b_lscdr**12*h*k*sin(psi)**6*cos(2*psi)*cos(4*psi + pi/4) - b_lscdr**12*h*k*sin(psi)**6*cos(2*psi) + sqrt(2)*b_lscdr**12*h*k*sin(psi)**4*sin(2*psi)**3*sin(2*psi + pi/4)/2 + 4*b_lscdr**12*h*k*sin(psi)**4*sin(2*psi)**3*cos(2*psi) + 3*b_lscdr**12*h*k*sin(psi)**4*sin(2*psi)**3/2 + b_lscdr**12*h*k*sin(psi)**4*sin(2*psi)**2*sin(4*psi) - sqrt(2)*b_lscdr**12*h*k*sin(psi)**4*sin(2*psi)**2*cos(4*psi + pi/4)/2 + b_lscdr**12*h*k*sin(psi)**4*sin(2*psi)**2/2 - 3*b_lscdr**12*h*k*sin(psi)**2*sin(2*psi)**5/2 + 2*b_lscdr**12*k**2*sin(psi)**8*sin(2*psi)**2 - 4*b_lscdr**12*k**2*sin(psi)**8*cos(2*psi)**2 + 4*b_lscdr**12*k**2*sin(psi)**6*sin(2*psi)**2*cos(2*psi) + b_lscdr**12*k**2*sin(psi)**6*sin(2*psi)*sin(4*psi) - 3*b_lscdr**12*k**2*sin(psi)**4*sin(2*psi)**4/2\n"
     ]
    }
   ],
   "source": [
    "print(C2)"
   ]
  },
  {
   "cell_type": "code",
   "execution_count": 46,
   "metadata": {},
   "outputs": [
    {
     "name": "stdout",
     "output_type": "stream",
     "text": [
      "a_lscdr**12*b_lscdr**2*h*sin(psi)**2*sin(2*psi)**4 + 2*a_lscdr**12*b_lscdr**2*h*sin(psi)**2*sin(2*psi)**2*cos(psi)**4 + 3*a_lscdr**12*b_lscdr**2*h*sin(psi)**2*sin(2*psi)**2*cos(psi)**2*cos(2*psi) - a_lscdr**12*b_lscdr**2*h*sin(psi)**2*sin(2*psi)**2*cos(psi)**2 + 4*a_lscdr**12*b_lscdr**2*h*sin(psi)**2*cos(psi)**4*cos(2*psi)**2 - 4*a_lscdr**12*b_lscdr**2*h*sin(psi)**2*cos(psi)**4*cos(2*psi) - a_lscdr**12*b_lscdr**2*h*sin(2*psi)**4 - 2*a_lscdr**12*b_lscdr**2*h*sin(2*psi)**2*cos(psi)**4 - 3*a_lscdr**12*b_lscdr**2*h*sin(2*psi)**2*cos(psi)**2*cos(2*psi) + a_lscdr**12*b_lscdr**2*h*sin(2*psi)**2*cos(psi)**2 - 4*a_lscdr**12*b_lscdr**2*h*cos(psi)**4*cos(2*psi)**2 + 4*a_lscdr**12*b_lscdr**2*h*cos(psi)**4*cos(2*psi) - a_lscdr**12*b_lscdr**2*k*sin(psi)**2*sin(2*psi)**3*cos(psi)**2 - 2*a_lscdr**12*b_lscdr**2*k*sin(psi)**2*sin(2*psi)*cos(psi)**4*cos(2*psi) - 2*a_lscdr**12*b_lscdr**2*k*sin(psi)**2*sin(2*psi)*cos(psi)**4 + a_lscdr**12*b_lscdr**2*k*sin(2*psi)**3*cos(psi)**2 + 2*a_lscdr**12*b_lscdr**2*k*sin(2*psi)*cos(psi)**4*cos(2*psi) + 2*a_lscdr**12*b_lscdr**2*k*sin(2*psi)*cos(psi)**4 + a_lscdr**12*h**3*sin(2*psi)**6/4 - a_lscdr**12*h**3*sin(2*psi)**4*cos(psi)**4/2 + 5*a_lscdr**12*h**3*sin(2*psi)**4*cos(psi)**2*cos(2*psi)/4 - 3*a_lscdr**12*h**3*sin(2*psi)**4*cos(psi)**2/4 - a_lscdr**12*h**3*sin(2*psi)**2*cos(psi)**6*cos(2*psi) + a_lscdr**12*h**3*sin(2*psi)**2*cos(psi)**6 + 3*a_lscdr**12*h**3*sin(2*psi)**2*cos(psi)**4*cos(2*psi)**2/2 - 2*a_lscdr**12*h**3*sin(2*psi)**2*cos(psi)**4*cos(2*psi) + a_lscdr**12*h**3*sin(2*psi)**2*cos(psi)**4/2 - 3*a_lscdr**12*h**2*k*sin(2*psi)**5*cos(psi)**2/4 + a_lscdr**12*h**2*k*sin(2*psi)**3*cos(psi)**6 - 7*a_lscdr**12*h**2*k*sin(2*psi)**3*cos(psi)**4*cos(2*psi)/2 + 5*a_lscdr**12*h**2*k*sin(2*psi)**3*cos(psi)**4/2 + 2*a_lscdr**12*h**2*k*sin(2*psi)*cos(psi)**8*cos(2*psi) - 2*a_lscdr**12*h**2*k*sin(2*psi)*cos(psi)**8 - 4*a_lscdr**12*h**2*k*sin(2*psi)*cos(psi)**6*cos(2*psi)**2 + 6*a_lscdr**12*h**2*k*sin(2*psi)*cos(psi)**6*cos(2*psi) - 2*a_lscdr**12*h**2*k*sin(2*psi)*cos(psi)**6 + a_lscdr**12*h*k**2*sin(2*psi)**4*cos(psi)**4/2 + 2*a_lscdr**12*h*k**2*sin(2*psi)**2*cos(psi)**6*cos(2*psi) - 2*a_lscdr**12*h*k**2*sin(2*psi)**2*cos(psi)**6 + 2*a_lscdr**12*h*k**2*cos(psi)**8*cos(2*psi)**2 - 4*a_lscdr**12*h*k**2*cos(psi)**8*cos(2*psi) + 2*a_lscdr**12*h*k**2*cos(psi)**8 + 4*a_lscdr**10*b_lscdr**4*h*sin(psi)**4*sin(2*psi)**2*cos(psi)**2 + 3*a_lscdr**10*b_lscdr**4*h*sin(psi)**4*sin(2*psi)**2*cos(2*psi) - a_lscdr**10*b_lscdr**4*h*sin(psi)**4*sin(2*psi)**2 + 8*a_lscdr**10*b_lscdr**4*h*sin(psi)**4*cos(psi)**2*cos(2*psi)**2 - 8*a_lscdr**10*b_lscdr**4*h*sin(psi)**4*cos(psi)**2*cos(2*psi) - 5*a_lscdr**10*b_lscdr**4*h*sin(psi)**2*sin(2*psi)**4 - 2*sqrt(2)*a_lscdr**10*b_lscdr**4*h*sin(psi)**2*sin(2*psi)**2*sin(2*psi + pi/4)*cos(psi)**2 - 4*a_lscdr**10*b_lscdr**4*h*sin(psi)**2*sin(2*psi)**2*cos(psi)**4 - 11*a_lscdr**10*b_lscdr**4*h*sin(psi)**2*sin(2*psi)**2*cos(psi)**2*cos(2*psi) - 2*a_lscdr**10*b_lscdr**4*h*sin(psi)**2*sin(2*psi)**2*cos(psi)**2 - 3*a_lscdr**10*b_lscdr**4*h*sin(psi)**2*sin(2*psi)**2*cos(2*psi) + 5*a_lscdr**10*b_lscdr**4*h*sin(psi)**2*sin(2*psi)**2 + 2*sqrt(2)*a_lscdr**10*b_lscdr**4*h*sin(psi)**2*sin(2*psi)*cos(psi)**4*cos(2*psi + pi/4) - 2*a_lscdr**10*b_lscdr**4*h*sin(psi)**2*sin(2*psi)*cos(psi)**4 - sqrt(2)*a_lscdr**10*b_lscdr**4*h*sin(psi)**2*sin(2*psi)*cos(psi)**2*cos(4*psi + pi/4)/2 + a_lscdr**10*b_lscdr**4*h*sin(psi)**2*sin(2*psi)*cos(psi)**2/2 - 4*sqrt(2)*a_lscdr**10*b_lscdr**4*h*sin(psi)**2*sin(2*psi + pi/4)*cos(psi)**4*cos(2*psi) - 8*a_lscdr**10*b_lscdr**4*h*sin(psi)**2*cos(psi)**4*cos(2*psi)**2 + 4*a_lscdr**10*b_lscdr**4*h*sin(psi)**2*cos(psi)**4*cos(2*psi) - 8*a_lscdr**10*b_lscdr**4*h*sin(psi)**2*cos(psi)**2*cos(2*psi)**2 + 8*a_lscdr**10*b_lscdr**4*h*sin(psi)**2*cos(psi)**2*cos(2*psi) + 4*a_lscdr**10*b_lscdr**4*h*sin(2*psi)**4 + 2*sqrt(2)*a_lscdr**10*b_lscdr**4*h*sin(2*psi)**2*sin(2*psi + pi/4)*cos(psi)**2 + 2*a_lscdr**10*b_lscdr**4*h*sin(2*psi)**2*cos(psi)**4 + 8*a_lscdr**10*b_lscdr**4*h*sin(2*psi)**2*cos(psi)**2*cos(2*psi) - a_lscdr**10*b_lscdr**4*h*sin(2*psi)**2*cos(psi)**2 - 4*a_lscdr**10*b_lscdr**4*h*sin(2*psi)**2 - 2*sqrt(2)*a_lscdr**10*b_lscdr**4*h*sin(2*psi)*cos(psi)**4*cos(2*psi + pi/4) + 2*a_lscdr**10*b_lscdr**4*h*sin(2*psi)*cos(psi)**4 + sqrt(2)*a_lscdr**10*b_lscdr**4*h*sin(2*psi)*cos(psi)**2*cos(4*psi + pi/4)/2 - a_lscdr**10*b_lscdr**4*h*sin(2*psi)*cos(psi)**2/2 + 4*sqrt(2)*a_lscdr**10*b_lscdr**4*h*sin(2*psi + pi/4)*cos(psi)**4*cos(2*psi) + 4*a_lscdr**10*b_lscdr**4*h*cos(psi)**4*cos(2*psi)**2 - a_lscdr**10*b_lscdr**4*k*sin(psi)**4*sin(2*psi)**3 - 4*a_lscdr**10*b_lscdr**4*k*sin(psi)**4*sin(2*psi)*cos(psi)**2*cos(2*psi) - 4*a_lscdr**10*b_lscdr**4*k*sin(psi)**4*sin(2*psi)*cos(psi)**2 + 5*a_lscdr**10*b_lscdr**4*k*sin(psi)**2*sin(2*psi)**3*cos(psi)**2 + a_lscdr**10*b_lscdr**4*k*sin(psi)**2*sin(2*psi)**3 + 8*a_lscdr**10*b_lscdr**4*k*sin(psi)**2*sin(2*psi)*cos(psi)**4*cos(2*psi) + 4*a_lscdr**10*b_lscdr**4*k*sin(psi)**2*sin(2*psi)*cos(psi)**4 + 4*a_lscdr**10*b_lscdr**4*k*sin(psi)**2*sin(2*psi)*cos(psi)**2*cos(2*psi) + 4*a_lscdr**10*b_lscdr**4*k*sin(psi)**2*sin(2*psi)*cos(psi)**2 - 4*a_lscdr**10*b_lscdr**4*k*sin(2*psi)**3*cos(psi)**2 - 6*a_lscdr**10*b_lscdr**4*k*sin(2*psi)*cos(psi)**4*cos(2*psi) - 2*a_lscdr**10*b_lscdr**4*k*sin(2*psi)*cos(psi)**4 - a_lscdr**10*b_lscdr**2*h**3*sin(psi)**2*sin(2*psi)**4*cos(psi)**2 + 5*a_lscdr**10*b_lscdr**2*h**3*sin(psi)**2*sin(2*psi)**4*cos(2*psi)/4 - 3*a_lscdr**10*b_lscdr**2*h**3*sin(psi)**2*sin(2*psi)**4/4 - 3*a_lscdr**10*b_lscdr**2*h**3*sin(psi)**2*sin(2*psi)**2*cos(psi)**4*cos(2*psi) + 3*a_lscdr**10*b_lscdr**2*h**3*sin(psi)**2*sin(2*psi)**2*cos(psi)**4 + 3*a_lscdr**10*b_lscdr**2*h**3*sin(psi)**2*sin(2*psi)**2*cos(psi)**2*cos(2*psi)**2 - 4*a_lscdr**10*b_lscdr**2*h**3*sin(psi)**2*sin(2*psi)**2*cos(psi)**2*cos(2*psi) + a_lscdr**10*b_lscdr**2*h**3*sin(psi)**2*sin(2*psi)**2*cos(psi)**2 - 3*a_lscdr**10*b_lscdr**2*h**3*sin(2*psi)**6/2 - sqrt(2)*a_lscdr**10*b_lscdr**2*h**3*sin(2*psi)**4*sin(2*psi + pi/4)*cos(psi)**2/2 + 3*a_lscdr**10*b_lscdr**2*h**3*sin(2*psi)**4*cos(psi)**4/2 - 11*a_lscdr**10*b_lscdr**2*h**3*sin(2*psi)**4*cos(psi)**2*cos(2*psi)/2 + 9*a_lscdr**10*b_lscdr**2*h**3*sin(2*psi)**4*cos(psi)**2/4 + 2*a_lscdr**10*b_lscdr**2*h**3*sin(2*psi)**4 - sqrt(2)*a_lscdr**10*b_lscdr**2*h**3*sin(2*psi)**3*cos(psi)**4*cos(2*psi + pi/4)/2 + a_lscdr**10*b_lscdr**2*h**3*sin(2*psi)**3*cos(psi)**4/2 + sqrt(2)*a_lscdr**10*b_lscdr**2*h**3*sin(2*psi)**3*cos(psi)**2*cos(4*psi + pi/4)/8 - a_lscdr**10*b_lscdr**2*h**3*sin(2*psi)**3*cos(psi)**2/8 + sqrt(2)*a_lscdr**10*b_lscdr**2*h**3*sin(2*psi)**2*sin(2*psi + pi/4)*cos(psi)**6 - 3*sqrt(2)*a_lscdr**10*b_lscdr**2*h**3*sin(2*psi)**2*sin(2*psi + pi/4)*cos(psi)**4*cos(2*psi)/2 + sqrt(2)*a_lscdr**10*b_lscdr**2*h**3*sin(2*psi)**2*sin(2*psi + pi/4)*cos(psi)**4/2 + a_lscdr**10*b_lscdr**2*h**3*sin(2*psi)**2*cos(psi)**6*cos(2*psi) - 4*a_lscdr**10*b_lscdr**2*h**3*sin(2*psi)**2*cos(psi)**4*cos(2*psi)**2 + 3*a_lscdr**10*b_lscdr**2*h**3*sin(2*psi)**2*cos(psi)**4*cos(2*psi) + 2*a_lscdr**10*b_lscdr**2*h**3*sin(2*psi)**2*cos(psi)**4 + 5*a_lscdr**10*b_lscdr**2*h**3*sin(2*psi)**2*cos(psi)**2*cos(2*psi) - 3*a_lscdr**10*b_lscdr**2*h**3*sin(2*psi)**2*cos(psi)**2 - sqrt(2)*a_lscdr**10*b_lscdr**2*h**3*sin(2*psi)*cos(psi)**6*cos(2*psi)*cos(2*psi + pi/4) + a_lscdr**10*b_lscdr**2*h**3*sin(2*psi)*cos(psi)**6*cos(2*psi) + sqrt(2)*a_lscdr**10*b_lscdr**2*h**3*sin(2*psi)*cos(psi)**6*cos(2*psi + pi/4) - a_lscdr**10*b_lscdr**2*h**3*sin(2*psi)*cos(psi)**6 + sqrt(2)*a_lscdr**10*b_lscdr**2*h**3*sin(2*psi)*cos(psi)**4*cos(2*psi)*cos(4*psi + pi/4)/4 - a_lscdr**10*b_lscdr**2*h**3*sin(2*psi)*cos(psi)**4*cos(2*psi)/4 - sqrt(2)*a_lscdr**10*b_lscdr**2*h**3*sin(2*psi)*cos(psi)**4*cos(4*psi + pi/4)/4 + a_lscdr**10*b_lscdr**2*h**3*sin(2*psi)*cos(psi)**4/4 + 6*a_lscdr**10*b_lscdr**2*h**3*cos(psi)**4*cos(2*psi)**2 - 8*a_lscdr**10*b_lscdr**2*h**3*cos(psi)**4*cos(2*psi) + 2*a_lscdr**10*b_lscdr**2*h**3*cos(psi)**4 - 3*a_lscdr**10*b_lscdr**2*h**2*k*sin(psi)**2*sin(2*psi)**5/4 + 3*a_lscdr**10*b_lscdr**2*h**2*k*sin(psi)**2*sin(2*psi)**3*cos(psi)**4 - 7*a_lscdr**10*b_lscdr**2*h**2*k*sin(psi)**2*sin(2*psi)**3*cos(psi)**2*cos(2*psi) + 5*a_lscdr**10*b_lscdr**2*h**2*k*sin(psi)**2*sin(2*psi)**3*cos(psi)**2 + 8*a_lscdr**10*b_lscdr**2*h**2*k*sin(psi)**2*sin(2*psi)*cos(psi)**6*cos(2*psi) - 8*a_lscdr**10*b_lscdr**2*h**2*k*sin(psi)**2*sin(2*psi)*cos(psi)**6 - 12*a_lscdr**10*b_lscdr**2*h**2*k*sin(psi)**2*sin(2*psi)*cos(psi)**4*cos(2*psi)**2 + 18*a_lscdr**10*b_lscdr**2*h**2*k*sin(psi)**2*sin(2*psi)*cos(psi)**4*cos(2*psi) - 6*a_lscdr**10*b_lscdr**2*h**2*k*sin(psi)**2*sin(2*psi)*cos(psi)**4 + 9*a_lscdr**10*b_lscdr**2*h**2*k*sin(2*psi)**5*cos(psi)**2/2 + 3*sqrt(2)*a_lscdr**10*b_lscdr**2*h**2*k*sin(2*psi)**3*sin(2*psi + pi/4)*cos(psi)**4/2 - 3*a_lscdr**10*b_lscdr**2*h**2*k*sin(2*psi)**3*cos(psi)**6 + 29*a_lscdr**10*b_lscdr**2*h**2*k*sin(2*psi)**3*cos(psi)**4*cos(2*psi)/2 - 13*a_lscdr**10*b_lscdr**2*h**2*k*sin(2*psi)**3*cos(psi)**4/2 - 3*a_lscdr**10*b_lscdr**2*h**2*k*sin(2*psi)**3*cos(psi)**2 + sqrt(2)*a_lscdr**10*b_lscdr**2*h**2*k*sin(2*psi)**2*cos(psi)**6*cos(2*psi + pi/4) - a_lscdr**10*b_lscdr**2*h**2*k*sin(2*psi)**2*cos(psi)**6 - sqrt(2)*a_lscdr**10*b_lscdr**2*h**2*k*sin(2*psi)**2*cos(psi)**4*cos(4*psi + pi/4)/4 + a_lscdr**10*b_lscdr**2*h**2*k*sin(2*psi)**2*cos(psi)**4/4 - 2*sqrt(2)*a_lscdr**10*b_lscdr**2*h**2*k*sin(2*psi)*sin(2*psi + pi/4)*cos(psi)**8 + 4*sqrt(2)*a_lscdr**10*b_lscdr**2*h**2*k*sin(2*psi)*sin(2*psi + pi/4)*cos(psi)**6*cos(2*psi) - 2*sqrt(2)*a_lscdr**10*b_lscdr**2*h**2*k*sin(2*psi)*sin(2*psi + pi/4)*cos(psi)**6 - 2*a_lscdr**10*b_lscdr**2*h**2*k*sin(2*psi)*cos(psi)**8 + 8*a_lscdr**10*b_lscdr**2*h**2*k*sin(2*psi)*cos(psi)**6*cos(2*psi)**2 - 5*a_lscdr**10*b_lscdr**2*h**2*k*sin(2*psi)*cos(psi)**6*cos(2*psi) - a_lscdr**10*b_lscdr**2*h**2*k*sin(2*psi)*cos(psi)**6 - 2*a_lscdr**10*b_lscdr**2*h**2*k*sin(2*psi)*cos(psi)**4*cos(2*psi) - 2*a_lscdr**10*b_lscdr**2*h**2*k*sin(2*psi)*cos(psi)**4 + 2*sqrt(2)*a_lscdr**10*b_lscdr**2*h**2*k*cos(psi)**8*cos(2*psi)*cos(2*psi + pi/4) - 2*a_lscdr**10*b_lscdr**2*h**2*k*cos(psi)**8*cos(2*psi) - 2*sqrt(2)*a_lscdr**10*b_lscdr**2*h**2*k*cos(psi)**8*cos(2*psi + pi/4) + 2*a_lscdr**10*b_lscdr**2*h**2*k*cos(psi)**8 - sqrt(2)*a_lscdr**10*b_lscdr**2*h**2*k*cos(psi)**6*cos(2*psi)*cos(4*psi + pi/4)/2 + a_lscdr**10*b_lscdr**2*h**2*k*cos(psi)**6*cos(2*psi)/2 + sqrt(2)*a_lscdr**10*b_lscdr**2*h**2*k*cos(psi)**6*cos(4*psi + pi/4)/2 - a_lscdr**10*b_lscdr**2*h**2*k*cos(psi)**6/2 + a_lscdr**10*b_lscdr**2*h*k**2*sin(psi)**2*sin(2*psi)**4*cos(psi)**2 + 6*a_lscdr**10*b_lscdr**2*h*k**2*sin(psi)**2*sin(2*psi)**2*cos(psi)**4*cos(2*psi) - 6*a_lscdr**10*b_lscdr**2*h*k**2*sin(psi)**2*sin(2*psi)**2*cos(psi)**4 + 8*a_lscdr**10*b_lscdr**2*h*k**2*sin(psi)**2*cos(psi)**6*cos(2*psi)**2 - 16*a_lscdr**10*b_lscdr**2*h*k**2*sin(psi)**2*cos(psi)**6*cos(2*psi) + 8*a_lscdr**10*b_lscdr**2*h*k**2*sin(psi)**2*cos(psi)**6 - 4*a_lscdr**10*b_lscdr**2*h*k**2*sin(2*psi)**4*cos(psi)**4 - sqrt(2)*a_lscdr**10*b_lscdr**2*h*k**2*sin(2*psi)**2*sin(2*psi + pi/4)*cos(psi)**6 + 2*a_lscdr**10*b_lscdr**2*h*k**2*sin(2*psi)**2*cos(psi)**8 - 11*a_lscdr**10*b_lscdr**2*h*k**2*sin(2*psi)**2*cos(psi)**6*cos(2*psi) + 6*a_lscdr**10*b_lscdr**2*h*k**2*sin(2*psi)**2*cos(psi)**6 + 2*a_lscdr**10*b_lscdr**2*h*k**2*sin(2*psi)**2*cos(psi)**4 - 2*sqrt(2)*a_lscdr**10*b_lscdr**2*h*k**2*sin(2*psi + pi/4)*cos(psi)**8*cos(2*psi) + 2*sqrt(2)*a_lscdr**10*b_lscdr**2*h*k**2*sin(2*psi + pi/4)*cos(psi)**8 - 4*a_lscdr**10*b_lscdr**2*h*k**2*cos(psi)**8*cos(2*psi)**2 + 2*a_lscdr**10*b_lscdr**2*h*k**2*cos(psi)**8*cos(2*psi) + 2*a_lscdr**10*b_lscdr**2*h*k**2*cos(psi)**8 + a_lscdr**10*b_lscdr**2*k**3*sin(2*psi)**3*cos(psi)**6 + 2*a_lscdr**10*b_lscdr**2*k**3*sin(2*psi)*cos(psi)**8*cos(2*psi) - 2*a_lscdr**10*b_lscdr**2*k**3*sin(2*psi)*cos(psi)**8 + 2*a_lscdr**8*b_lscdr**6*h*sin(psi)**6*sin(2*psi)**2 + 4*a_lscdr**8*b_lscdr**6*h*sin(psi)**6*cos(2*psi)**2 - 4*a_lscdr**8*b_lscdr**6*h*sin(psi)**6*cos(2*psi) - 2*sqrt(2)*a_lscdr**8*b_lscdr**6*h*sin(psi)**4*sin(2*psi)**2*sin(2*psi + pi/4) - 8*a_lscdr**8*b_lscdr**6*h*sin(psi)**4*sin(2*psi)**2*cos(psi)**2 - 11*a_lscdr**8*b_lscdr**6*h*sin(psi)**4*sin(2*psi)**2*cos(2*psi) + 4*sqrt(2)*a_lscdr**8*b_lscdr**6*h*sin(psi)**4*sin(2*psi)*cos(psi)**2*cos(2*psi + pi/4) - 4*a_lscdr**8*b_lscdr**6*h*sin(psi)**4*sin(2*psi)*cos(psi)**2 - sqrt(2)*a_lscdr**8*b_lscdr**6*h*sin(psi)**4*sin(2*psi)*cos(4*psi + pi/4)/2 + a_lscdr**8*b_lscdr**6*h*sin(psi)**4*sin(2*psi)/2 - 8*sqrt(2)*a_lscdr**8*b_lscdr**6*h*sin(psi)**4*sin(2*psi + pi/4)*cos(psi)**2*cos(2*psi) - 16*a_lscdr**8*b_lscdr**6*h*sin(psi)**4*cos(psi)**2*cos(2*psi)**2 + 8*a_lscdr**8*b_lscdr**6*h*sin(psi)**4*cos(psi)**2*cos(2*psi) - 4*a_lscdr**8*b_lscdr**6*h*sin(psi)**4*cos(2*psi)**2 + 4*a_lscdr**8*b_lscdr**6*h*sin(psi)**4*cos(2*psi) + 10*a_lscdr**8*b_lscdr**6*h*sin(psi)**2*sin(2*psi)**4 + 6*sqrt(2)*a_lscdr**8*b_lscdr**6*h*sin(psi)**2*sin(2*psi)**2*sin(2*psi + pi/4)*cos(psi)**2 + 2*sqrt(2)*a_lscdr**8*b_lscdr**6*h*sin(psi)**2*sin(2*psi)**2*sin(2*psi + pi/4) + 2*a_lscdr**8*b_lscdr**6*h*sin(psi)**2*sin(2*psi)**2*cos(psi)**4 + 15*a_lscdr**8*b_lscdr**6*h*sin(psi)**2*sin(2*psi)**2*cos(psi)**2*cos(2*psi) + 4*a_lscdr**8*b_lscdr**6*h*sin(psi)**2*sin(2*psi)**2*cos(psi)**2 + 8*a_lscdr**8*b_lscdr**6*h*sin(psi)**2*sin(2*psi)**2*cos(2*psi) - 13*a_lscdr**8*b_lscdr**6*h*sin(psi)**2*sin(2*psi)**2 - 4*sqrt(2)*a_lscdr**8*b_lscdr**6*h*sin(psi)**2*sin(2*psi)*cos(psi)**4*cos(2*psi + pi/4) + 4*a_lscdr**8*b_lscdr**6*h*sin(psi)**2*sin(2*psi)*cos(psi)**4 - 4*sqrt(2)*a_lscdr**8*b_lscdr**6*h*sin(psi)**2*sin(2*psi)*cos(psi)**2*cos(2*psi + pi/4) + 3*sqrt(2)*a_lscdr**8*b_lscdr**6*h*sin(psi)**2*sin(2*psi)*cos(psi)**2*cos(4*psi + pi/4)/2 + 5*a_lscdr**8*b_lscdr**6*h*sin(psi)**2*sin(2*psi)*cos(psi)**2/2 + sqrt(2)*a_lscdr**8*b_lscdr**6*h*sin(psi)**2*sin(2*psi)*cos(4*psi + pi/4)/2 - a_lscdr**8*b_lscdr**6*h*sin(psi)**2*sin(2*psi)/2 + 8*sqrt(2)*a_lscdr**8*b_lscdr**6*h*sin(psi)**2*sin(2*psi + pi/4)*cos(psi)**4*cos(2*psi) + 8*sqrt(2)*a_lscdr**8*b_lscdr**6*h*sin(psi)**2*sin(2*psi + pi/4)*cos(psi)**2*cos(2*psi) + 4*a_lscdr**8*b_lscdr**6*h*sin(psi)**2*cos(psi)**4*cos(2*psi)**2 + 4*a_lscdr**8*b_lscdr**6*h*sin(psi)**2*cos(psi)**4*cos(2*psi) + 8*a_lscdr**8*b_lscdr**6*h*sin(psi)**2*cos(psi)**2*cos(2*psi)**2 - 6*a_lscdr**8*b_lscdr**6*h*sin(2*psi)**4 - 4*sqrt(2)*a_lscdr**8*b_lscdr**6*h*sin(2*psi)**2*sin(2*psi + pi/4)*cos(psi)**2 - 7*a_lscdr**8*b_lscdr**6*h*sin(2*psi)**2*cos(psi)**2*cos(2*psi) - a_lscdr**8*b_lscdr**6*h*sin(2*psi)**2*cos(psi)**2 + 8*a_lscdr**8*b_lscdr**6*h*sin(2*psi)**2 + 2*sqrt(2)*a_lscdr**8*b_lscdr**6*h*sin(2*psi)*cos(psi)**4*cos(2*psi + pi/4) - 2*a_lscdr**8*b_lscdr**6*h*sin(2*psi)*cos(psi)**4 - sqrt(2)*a_lscdr**8*b_lscdr**6*h*sin(2*psi)*cos(psi)**2*cos(4*psi + pi/4) + a_lscdr**8*b_lscdr**6*h*sin(2*psi)*cos(psi)**2 - 4*sqrt(2)*a_lscdr**8*b_lscdr**6*h*sin(2*psi + pi/4)*cos(psi)**4*cos(2*psi) - 4*a_lscdr**8*b_lscdr**6*h*cos(psi)**4*cos(2*psi) - 2*a_lscdr**8*b_lscdr**6*k*sin(psi)**6*sin(2*psi)*cos(2*psi) - 2*a_lscdr**8*b_lscdr**6*k*sin(psi)**6*sin(2*psi) + 5*a_lscdr**8*b_lscdr**6*k*sin(psi)**4*sin(2*psi)**3 + 16*a_lscdr**8*b_lscdr**6*k*sin(psi)**4*sin(2*psi)*cos(psi)**2*cos(2*psi) + 8*a_lscdr**8*b_lscdr**6*k*sin(psi)**4*sin(2*psi)*cos(psi)**2 + 2*a_lscdr**8*b_lscdr**6*k*sin(psi)**4*sin(2*psi)*cos(2*psi) + 2*a_lscdr**8*b_lscdr**6*k*sin(psi)**4*sin(2*psi) - 9*a_lscdr**8*b_lscdr**6*k*sin(psi)**2*sin(2*psi)**3*cos(psi)**2 - 4*a_lscdr**8*b_lscdr**6*k*sin(psi)**2*sin(2*psi)**3 - 10*a_lscdr**8*b_lscdr**6*k*sin(psi)**2*sin(2*psi)*cos(psi)**4*cos(2*psi) - 2*a_lscdr**8*b_lscdr**6*k*sin(psi)**2*sin(2*psi)*cos(psi)**4 - 12*a_lscdr**8*b_lscdr**6*k*sin(psi)**2*sin(2*psi)*cos(psi)**2*cos(2*psi) - 4*a_lscdr**8*b_lscdr**6*k*sin(psi)**2*sin(2*psi)*cos(psi)**2 + 5*a_lscdr**8*b_lscdr**6*k*sin(2*psi)**3*cos(psi)**2 + 4*a_lscdr**8*b_lscdr**6*k*sin(2*psi)*cos(psi)**4*cos(2*psi) - a_lscdr**8*b_lscdr**4*h**3*sin(psi)**4*sin(2*psi)**4/2 - 3*a_lscdr**8*b_lscdr**4*h**3*sin(psi)**4*sin(2*psi)**2*cos(psi)**2*cos(2*psi) + 3*a_lscdr**8*b_lscdr**4*h**3*sin(psi)**4*sin(2*psi)**2*cos(psi)**2 + 3*a_lscdr**8*b_lscdr**4*h**3*sin(psi)**4*sin(2*psi)**2*cos(2*psi)**2/2 - 2*a_lscdr**8*b_lscdr**4*h**3*sin(psi)**4*sin(2*psi)**2*cos(2*psi) + a_lscdr**8*b_lscdr**4*h**3*sin(psi)**4*sin(2*psi)**2/2 - sqrt(2)*a_lscdr**8*b_lscdr**4*h**3*sin(psi)**2*sin(2*psi)**4*sin(2*psi + pi/4)/2 + 3*a_lscdr**8*b_lscdr**4*h**3*sin(psi)**2*sin(2*psi)**4*cos(psi)**2 - 11*a_lscdr**8*b_lscdr**4*h**3*sin(psi)**2*sin(2*psi)**4*cos(2*psi)/2 + 9*a_lscdr**8*b_lscdr**4*h**3*sin(psi)**2*sin(2*psi)**4/4 - sqrt(2)*a_lscdr**8*b_lscdr**4*h**3*sin(psi)**2*sin(2*psi)**3*cos(psi)**2*cos(2*psi + pi/4) + a_lscdr**8*b_lscdr**4*h**3*sin(psi)**2*sin(2*psi)**3*cos(psi)**2 + sqrt(2)*a_lscdr**8*b_lscdr**4*h**3*sin(psi)**2*sin(2*psi)**3*cos(4*psi + pi/4)/8 - a_lscdr**8*b_lscdr**4*h**3*sin(psi)**2*sin(2*psi)**3/8 + 3*sqrt(2)*a_lscdr**8*b_lscdr**4*h**3*sin(psi)**2*sin(2*psi)**2*sin(2*psi + pi/4)*cos(psi)**4 - 3*sqrt(2)*a_lscdr**8*b_lscdr**4*h**3*sin(psi)**2*sin(2*psi)**2*sin(2*psi + pi/4)*cos(psi)**2*cos(2*psi) + sqrt(2)*a_lscdr**8*b_lscdr**4*h**3*sin(psi)**2*sin(2*psi)**2*sin(2*psi + pi/4)*cos(psi)**2 + 3*a_lscdr**8*b_lscdr**4*h**3*sin(psi)**2*sin(2*psi)**2*cos(psi)**4*cos(2*psi) - 8*a_lscdr**8*b_lscdr**4*h**3*sin(psi)**2*sin(2*psi)**2*cos(psi)**2*cos(2*psi)**2 + 6*a_lscdr**8*b_lscdr**4*h**3*sin(psi)**2*sin(2*psi)**2*cos(psi)**2*cos(2*psi) + 4*a_lscdr**8*b_lscdr**4*h**3*sin(psi)**2*sin(2*psi)**2*cos(psi)**2 + 5*a_lscdr**8*b_lscdr**4*h**3*sin(psi)**2*sin(2*psi)**2*cos(2*psi) - 3*a_lscdr**8*b_lscdr**4*h**3*sin(psi)**2*sin(2*psi)**2 - 3*sqrt(2)*a_lscdr**8*b_lscdr**4*h**3*sin(psi)**2*sin(2*psi)*cos(psi)**4*cos(2*psi)*cos(2*psi + pi/4) + 3*a_lscdr**8*b_lscdr**4*h**3*sin(psi)**2*sin(2*psi)*cos(psi)**4*cos(2*psi) + 3*sqrt(2)*a_lscdr**8*b_lscdr**4*h**3*sin(psi)**2*sin(2*psi)*cos(psi)**4*cos(2*psi + pi/4) - 3*a_lscdr**8*b_lscdr**4*h**3*sin(psi)**2*sin(2*psi)*cos(psi)**4 + sqrt(2)*a_lscdr**8*b_lscdr**4*h**3*sin(psi)**2*sin(2*psi)*cos(psi)**2*cos(2*psi)*cos(4*psi + pi/4)/2 - a_lscdr**8*b_lscdr**4*h**3*sin(psi)**2*sin(2*psi)*cos(psi)**2*cos(2*psi)/2 - sqrt(2)*a_lscdr**8*b_lscdr**4*h**3*sin(psi)**2*sin(2*psi)*cos(psi)**2*cos(4*psi + pi/4)/2 + a_lscdr**8*b_lscdr**4*h**3*sin(psi)**2*sin(2*psi)*cos(psi)**2/2 + 12*a_lscdr**8*b_lscdr**4*h**3*sin(psi)**2*cos(psi)**2*cos(2*psi)**2 - 16*a_lscdr**8*b_lscdr**4*h**3*sin(psi)**2*cos(psi)**2*cos(2*psi) + 4*a_lscdr**8*b_lscdr**4*h**3*sin(psi)**2*cos(psi)**2 + 15*a_lscdr**8*b_lscdr**4*h**3*sin(2*psi)**6/4 + 2*sqrt(2)*a_lscdr**8*b_lscdr**4*h**3*sin(2*psi)**4*sin(2*psi + pi/4)*cos(psi)**2 - 3*a_lscdr**8*b_lscdr**4*h**3*sin(2*psi)**4*cos(psi)**4/2 + 19*a_lscdr**8*b_lscdr**4*h**3*sin(2*psi)**4*cos(psi)**2*cos(2*psi)/2 - 3*a_lscdr**8*b_lscdr**4*h**3*sin(2*psi)**4*cos(psi)**2/2 - 8*a_lscdr**8*b_lscdr**4*h**3*sin(2*psi)**4 + 3*sqrt(2)*a_lscdr**8*b_lscdr**4*h**3*sin(2*psi)**3*cos(psi)**4*cos(2*psi + pi/4)/2 - 3*a_lscdr**8*b_lscdr**4*h**3*sin(2*psi)**3*cos(psi)**4/2 - sqrt(2)*a_lscdr**8*b_lscdr**4*h**3*sin(2*psi)**3*cos(psi)**2*cos(4*psi + pi/4)/2 + a_lscdr**8*b_lscdr**4*h**3*sin(2*psi)**3*cos(psi)**2/2 - sqrt(2)*a_lscdr**8*b_lscdr**4*h**3*sin(2*psi)**2*sin(2*psi + pi/4)*cos(psi)**6 + 4*sqrt(2)*a_lscdr**8*b_lscdr**4*h**3*sin(2*psi)**2*sin(2*psi + pi/4)*cos(psi)**4*cos(2*psi) - sqrt(2)*a_lscdr**8*b_lscdr**4*h**3*sin(2*psi)**2*sin(2*psi + pi/4)*cos(psi)**4/2 - 4*sqrt(2)*a_lscdr**8*b_lscdr**4*h**3*sin(2*psi)**2*sin(2*psi + pi/4)*cos(psi)**2 - a_lscdr**8*b_lscdr**4*h**3*sin(2*psi)**2*cos(psi)**6 + 7*a_lscdr**8*b_lscdr**4*h**3*sin(2*psi)**2*cos(psi)**4*cos(2*psi)**2/2 + a_lscdr**8*b_lscdr**4*h**3*sin(2*psi)**2*cos(psi)**4*cos(2*psi) - 3*a_lscdr**8*b_lscdr**4*h**3*sin(2*psi)**2*cos(psi)**4 - 12*a_lscdr**8*b_lscdr**4*h**3*sin(2*psi)**2*cos(psi)**2*cos(2*psi) + 3*a_lscdr**8*b_lscdr**4*h**3*sin(2*psi)**2*cos(psi)**2 + 4*a_lscdr**8*b_lscdr**4*h**3*sin(2*psi)**2 + 2*a_lscdr**8*b_lscdr**4*h**3*sin(2*psi)*sin(2*psi + pi/4)*cos(psi)**6*cos(2*psi + pi/4) - sqrt(2)*a_lscdr**8*b_lscdr**4*h**3*sin(2*psi)*sin(2*psi + pi/4)*cos(psi)**6 - a_lscdr**8*b_lscdr**4*h**3*sin(2*psi)*sin(2*psi + pi/4)*cos(psi)**4*cos(4*psi + pi/4)/2 + sqrt(2)*a_lscdr**8*b_lscdr**4*h**3*sin(2*psi)*sin(2*psi + pi/4)*cos(psi)**4/4 + sqrt(2)*a_lscdr**8*b_lscdr**4*h**3*sin(2*psi)*cos(psi)**6*cos(2*psi)*cos(2*psi + pi/4) - a_lscdr**8*b_lscdr**4*h**3*sin(2*psi)*cos(psi)**6*cos(2*psi) - sqrt(2)*a_lscdr**8*b_lscdr**4*h**3*sin(2*psi)*cos(psi)**4*cos(2*psi)*cos(4*psi + pi/4)/2 + a_lscdr**8*b_lscdr**4*h**3*sin(2*psi)*cos(psi)**4*cos(2*psi)/2 + 2*sqrt(2)*a_lscdr**8*b_lscdr**4*h**3*sin(2*psi)*cos(psi)**4*cos(2*psi + pi/4) + sqrt(2)*a_lscdr**8*b_lscdr**4*h**3*sin(2*psi)*cos(psi)**4*cos(4*psi + pi/4)/4 - 9*a_lscdr**8*b_lscdr**4*h**3*sin(2*psi)*cos(psi)**4/4 - sqrt(2)*a_lscdr**8*b_lscdr**4*h**3*sin(2*psi)*cos(psi)**2*cos(4*psi + pi/4)/2 + a_lscdr**8*b_lscdr**4*h**3*sin(2*psi)*cos(psi)**2/2 - 8*sqrt(2)*a_lscdr**8*b_lscdr**4*h**3*sin(2*psi + pi/4)*cos(psi)**4*cos(2*psi) + 4*sqrt(2)*a_lscdr**8*b_lscdr**4*h**3*sin(2*psi + pi/4)*cos(psi)**4 - 4*a_lscdr**8*b_lscdr**4*h**3*cos(psi)**4*cos(2*psi)**2 - 4*a_lscdr**8*b_lscdr**4*h**3*cos(psi)**4*cos(2*psi) + 4*a_lscdr**8*b_lscdr**4*h**3*cos(psi)**4 + 3*a_lscdr**8*b_lscdr**4*h**2*k*sin(psi)**4*sin(2*psi)**3*cos(psi)**2 - 7*a_lscdr**8*b_lscdr**4*h**2*k*sin(psi)**4*sin(2*psi)**3*cos(2*psi)/2 + 5*a_lscdr**8*b_lscdr**4*h**2*k*sin(psi)**4*sin(2*psi)**3/2 + 12*a_lscdr**8*b_lscdr**4*h**2*k*sin(psi)**4*sin(2*psi)*cos(psi)**4*cos(2*psi) - 12*a_lscdr**8*b_lscdr**4*h**2*k*sin(psi)**4*sin(2*psi)*cos(psi)**4 - 12*a_lscdr**8*b_lscdr**4*h**2*k*sin(psi)**4*sin(2*psi)*cos(psi)**2*cos(2*psi)**2 + 18*a_lscdr**8*b_lscdr**4*h**2*k*sin(psi)**4*sin(2*psi)*cos(psi)**2*cos(2*psi) - 6*a_lscdr**8*b_lscdr**4*h**2*k*sin(psi)**4*sin(2*psi)*cos(psi)**2 + 9*a_lscdr**8*b_lscdr**4*h**2*k*sin(psi)**2*sin(2*psi)**5/2 + 3*sqrt(2)*a_lscdr**8*b_lscdr**4*h**2*k*sin(psi)**2*sin(2*psi)**3*sin(2*psi + pi/4)*cos(psi)**2 - 9*a_lscdr**8*b_lscdr**4*h**2*k*sin(psi)**2*sin(2*psi)**3*cos(psi)**4 + 29*a_lscdr**8*b_lscdr**4*h**2*k*sin(psi)**2*sin(2*psi)**3*cos(psi)**2*cos(2*psi) - 13*a_lscdr**8*b_lscdr**4*h**2*k*sin(psi)**2*sin(2*psi)**3*cos(psi)**2 - 3*a_lscdr**8*b_lscdr**4*h**2*k*sin(psi)**2*sin(2*psi)**3 + 3*sqrt(2)*a_lscdr**8*b_lscdr**4*h**2*k*sin(psi)**2*sin(2*psi)**2*cos(psi)**4*cos(2*psi + pi/4) - 3*a_lscdr**8*b_lscdr**4*h**2*k*sin(psi)**2*sin(2*psi)**2*cos(psi)**4 - sqrt(2)*a_lscdr**8*b_lscdr**4*h**2*k*sin(psi)**2*sin(2*psi)**2*cos(psi)**2*cos(4*psi + pi/4)/2 + a_lscdr**8*b_lscdr**4*h**2*k*sin(psi)**2*sin(2*psi)**2*cos(psi)**2/2 - 8*sqrt(2)*a_lscdr**8*b_lscdr**4*h**2*k*sin(psi)**2*sin(2*psi)*sin(2*psi + pi/4)*cos(psi)**6 + 12*sqrt(2)*a_lscdr**8*b_lscdr**4*h**2*k*sin(psi)**2*sin(2*psi)*sin(2*psi + pi/4)*cos(psi)**4*cos(2*psi) - 6*sqrt(2)*a_lscdr**8*b_lscdr**4*h**2*k*sin(psi)**2*sin(2*psi)*sin(2*psi + pi/4)*cos(psi)**4 - 8*a_lscdr**8*b_lscdr**4*h**2*k*sin(psi)**2*sin(2*psi)*cos(psi)**6 + 24*a_lscdr**8*b_lscdr**4*h**2*k*sin(psi)**2*sin(2*psi)*cos(psi)**4*cos(2*psi)**2 - 15*a_lscdr**8*b_lscdr**4*h**2*k*sin(psi)**2*sin(2*psi)*cos(psi)**4*cos(2*psi) - 3*a_lscdr**8*b_lscdr**4*h**2*k*sin(psi)**2*sin(2*psi)*cos(psi)**4 - 4*a_lscdr**8*b_lscdr**4*h**2*k*sin(psi)**2*sin(2*psi)*cos(psi)**2*cos(2*psi) - 4*a_lscdr**8*b_lscdr**4*h**2*k*sin(psi)**2*sin(2*psi)*cos(psi)**2 + 8*sqrt(2)*a_lscdr**8*b_lscdr**4*h**2*k*sin(psi)**2*cos(psi)**6*cos(2*psi)*cos(2*psi + pi/4) - 8*a_lscdr**8*b_lscdr**4*h**2*k*sin(psi)**2*cos(psi)**6*cos(2*psi) - 8*sqrt(2)*a_lscdr**8*b_lscdr**4*h**2*k*sin(psi)**2*cos(psi)**6*cos(2*psi + pi/4) + 8*a_lscdr**8*b_lscdr**4*h**2*k*sin(psi)**2*cos(psi)**6 - 3*sqrt(2)*a_lscdr**8*b_lscdr**4*h**2*k*sin(psi)**2*cos(psi)**4*cos(2*psi)*cos(4*psi + pi/4)/2 + 3*a_lscdr**8*b_lscdr**4*h**2*k*sin(psi)**2*cos(psi)**4*cos(2*psi)/2 + 3*sqrt(2)*a_lscdr**8*b_lscdr**4*h**2*k*sin(psi)**2*cos(psi)**4*cos(4*psi + pi/4)/2 - 3*a_lscdr**8*b_lscdr**4*h**2*k*sin(psi)**2*cos(psi)**4/2 - 21*a_lscdr**8*b_lscdr**4*h**2*k*sin(2*psi)**5*cos(psi)**2/2 - 5*sqrt(2)*a_lscdr**8*b_lscdr**4*h**2*k*sin(2*psi)**3*sin(2*psi + pi/4)*cos(psi)**4 + 2*a_lscdr**8*b_lscdr**4*h**2*k*sin(2*psi)**3*cos(psi)**6 - 43*a_lscdr**8*b_lscdr**4*h**2*k*sin(2*psi)**3*cos(psi)**4*cos(2*psi)/2 + 5*a_lscdr**8*b_lscdr**4*h**2*k*sin(2*psi)**3*cos(psi)**4/2 + 12*a_lscdr**8*b_lscdr**4*h**2*k*sin(2*psi)**3*cos(psi)**2 - 3*sqrt(2)*a_lscdr**8*b_lscdr**4*h**2*k*sin(2*psi)**2*cos(psi)**6*cos(2*psi + pi/4) + 3*a_lscdr**8*b_lscdr**4*h**2*k*sin(2*psi)**2*cos(psi)**6 + sqrt(2)*a_lscdr**8*b_lscdr**4*h**2*k*sin(2*psi)**2*cos(psi)**4*cos(4*psi + pi/4) - a_lscdr**8*b_lscdr**4*h**2*k*sin(2*psi)**2*cos(psi)**4 - 8*sqrt(2)*a_lscdr**8*b_lscdr**4*h**2*k*sin(2*psi)*sin(2*psi + pi/4)*cos(psi)**6*cos(2*psi) + sqrt(2)*a_lscdr**8*b_lscdr**4*h**2*k*sin(2*psi)*sin(2*psi + pi/4)*cos(psi)**6 - 4*a_lscdr**8*b_lscdr**4*h**2*k*sin(2*psi)*cos(psi)**6*cos(2*psi)**2 - 5*a_lscdr**8*b_lscdr**4*h**2*k*sin(2*psi)*cos(psi)**6*cos(2*psi) + 2*a_lscdr**8*b_lscdr**4*h**2*k*sin(2*psi)*cos(psi)**6 + 10*a_lscdr**8*b_lscdr**4*h**2*k*sin(2*psi)*cos(psi)**4*cos(2*psi) - 2*a_lscdr**8*b_lscdr**4*h**2*k*sin(2*psi)*cos(psi)**4 - 4*a_lscdr**8*b_lscdr**4*h**2*k*sin(2*psi + pi/4)*cos(psi)**8*cos(2*psi + pi/4) + 2*sqrt(2)*a_lscdr**8*b_lscdr**4*h**2*k*sin(2*psi + pi/4)*cos(psi)**8 + a_lscdr**8*b_lscdr**4*h**2*k*sin(2*psi + pi/4)*cos(psi)**6*cos(4*psi + pi/4) - sqrt(2)*a_lscdr**8*b_lscdr**4*h**2*k*sin(2*psi + pi/4)*cos(psi)**6/2 - 2*sqrt(2)*a_lscdr**8*b_lscdr**4*h**2*k*cos(psi)**8*cos(2*psi + pi/4) + 2*a_lscdr**8*b_lscdr**4*h**2*k*cos(psi)**8 + sqrt(2)*a_lscdr**8*b_lscdr**4*h**2*k*cos(psi)**6*cos(2*psi)*cos(4*psi + pi/4)/2 - a_lscdr**8*b_lscdr**4*h**2*k*cos(psi)**6*cos(2*psi)/2 + a_lscdr**8*b_lscdr**4*h*k**2*sin(psi)**4*sin(2*psi)**4/2 + 6*a_lscdr**8*b_lscdr**4*h*k**2*sin(psi)**4*sin(2*psi)**2*cos(psi)**2*cos(2*psi) - 6*a_lscdr**8*b_lscdr**4*h*k**2*sin(psi)**4*sin(2*psi)**2*cos(psi)**2 + 12*a_lscdr**8*b_lscdr**4*h*k**2*sin(psi)**4*cos(psi)**4*cos(2*psi)**2 - 24*a_lscdr**8*b_lscdr**4*h*k**2*sin(psi)**4*cos(psi)**4*cos(2*psi) + 12*a_lscdr**8*b_lscdr**4*h*k**2*sin(psi)**4*cos(psi)**4 - 8*a_lscdr**8*b_lscdr**4*h*k**2*sin(psi)**2*sin(2*psi)**4*cos(psi)**2 - 3*sqrt(2)*a_lscdr**8*b_lscdr**4*h*k**2*sin(psi)**2*sin(2*psi)**2*sin(2*psi + pi/4)*cos(psi)**4 + 8*a_lscdr**8*b_lscdr**4*h*k**2*sin(psi)**2*sin(2*psi)**2*cos(psi)**6 - 33*a_lscdr**8*b_lscdr**4*h*k**2*sin(psi)**2*sin(2*psi)**2*cos(psi)**4*cos(2*psi) + 18*a_lscdr**8*b_lscdr**4*h*k**2*sin(psi)**2*sin(2*psi)**2*cos(psi)**4 + 4*a_lscdr**8*b_lscdr**4*h*k**2*sin(psi)**2*sin(2*psi)**2*cos(psi)**2 - 8*sqrt(2)*a_lscdr**8*b_lscdr**4*h*k**2*sin(psi)**2*sin(2*psi + pi/4)*cos(psi)**6*cos(2*psi) + 8*sqrt(2)*a_lscdr**8*b_lscdr**4*h*k**2*sin(psi)**2*sin(2*psi + pi/4)*cos(psi)**6 - 16*a_lscdr**8*b_lscdr**4*h*k**2*sin(psi)**2*cos(psi)**6*cos(2*psi)**2 + 8*a_lscdr**8*b_lscdr**4*h*k**2*sin(psi)**2*cos(psi)**6*cos(2*psi) + 8*a_lscdr**8*b_lscdr**4*h*k**2*sin(psi)**2*cos(psi)**6 + 19*a_lscdr**8*b_lscdr**4*h*k**2*sin(2*psi)**4*cos(psi)**4/2 + 3*sqrt(2)*a_lscdr**8*b_lscdr**4*h*k**2*sin(2*psi)**2*sin(2*psi + pi/4)*cos(psi)**6 + 15*a_lscdr**8*b_lscdr**4*h*k**2*sin(2*psi)**2*cos(psi)**6*cos(2*psi) - a_lscdr**8*b_lscdr**4*h*k**2*sin(2*psi)**2*cos(psi)**6 - 4*a_lscdr**8*b_lscdr**4*h*k**2*sin(2*psi)**2*cos(psi)**4 + 2*sqrt(2)*a_lscdr**8*b_lscdr**4*h*k**2*sin(2*psi)*cos(psi)**8*cos(2*psi + pi/4) - 2*a_lscdr**8*b_lscdr**4*h*k**2*sin(2*psi)*cos(psi)**8 - sqrt(2)*a_lscdr**8*b_lscdr**4*h*k**2*sin(2*psi)*cos(psi)**6*cos(4*psi + pi/4)/2 + a_lscdr**8*b_lscdr**4*h*k**2*sin(2*psi)*cos(psi)**6/2 + 4*sqrt(2)*a_lscdr**8*b_lscdr**4*h*k**2*sin(2*psi + pi/4)*cos(psi)**8*cos(2*psi) + 4*a_lscdr**8*b_lscdr**4*h*k**2*cos(psi)**8*cos(2*psi) + 3*a_lscdr**8*b_lscdr**4*k**3*sin(psi)**2*sin(2*psi)**3*cos(psi)**4 + 8*a_lscdr**8*b_lscdr**4*k**3*sin(psi)**2*sin(2*psi)*cos(psi)**6*cos(2*psi) - 8*a_lscdr**8*b_lscdr**4*k**3*sin(psi)**2*sin(2*psi)*cos(psi)**6 - 3*a_lscdr**8*b_lscdr**4*k**3*sin(2*psi)**3*cos(psi)**6 - 4*a_lscdr**8*b_lscdr**4*k**3*sin(2*psi)*cos(psi)**8*cos(2*psi) - 4*a_lscdr**6*b_lscdr**8*h*sin(psi)**6*sin(2*psi)**2 + 2*sqrt(2)*a_lscdr**6*b_lscdr**8*h*sin(psi)**6*sin(2*psi)*cos(2*psi + pi/4) - 2*a_lscdr**6*b_lscdr**8*h*sin(psi)**6*sin(2*psi) - 4*sqrt(2)*a_lscdr**6*b_lscdr**8*h*sin(psi)**6*sin(2*psi + pi/4)*cos(2*psi) - 8*a_lscdr**6*b_lscdr**8*h*sin(psi)**6*cos(2*psi)**2 + 4*a_lscdr**6*b_lscdr**8*h*sin(psi)**6*cos(2*psi) + 6*sqrt(2)*a_lscdr**6*b_lscdr**8*h*sin(psi)**4*sin(2*psi)**2*sin(2*psi + pi/4) + 4*a_lscdr**6*b_lscdr**8*h*sin(psi)**4*sin(2*psi)**2*cos(psi)**2 + 15*a_lscdr**6*b_lscdr**8*h*sin(psi)**4*sin(2*psi)**2*cos(2*psi) + 2*a_lscdr**6*b_lscdr**8*h*sin(psi)**4*sin(2*psi)**2 - 8*sqrt(2)*a_lscdr**6*b_lscdr**8*h*sin(psi)**4*sin(2*psi)*cos(psi)**2*cos(2*psi + pi/4) + 8*a_lscdr**6*b_lscdr**8*h*sin(psi)**4*sin(2*psi)*cos(psi)**2 - 2*sqrt(2)*a_lscdr**6*b_lscdr**8*h*sin(psi)**4*sin(2*psi)*cos(2*psi + pi/4) + 3*sqrt(2)*a_lscdr**6*b_lscdr**8*h*sin(psi)**4*sin(2*psi)*cos(4*psi + pi/4)/2 + a_lscdr**6*b_lscdr**8*h*sin(psi)**4*sin(2*psi)/2 + 16*sqrt(2)*a_lscdr**6*b_lscdr**8*h*sin(psi)**4*sin(2*psi + pi/4)*cos(psi)**2*cos(2*psi) + 4*sqrt(2)*a_lscdr**6*b_lscdr**8*h*sin(psi)**4*sin(2*psi + pi/4)*cos(2*psi) + 8*a_lscdr**6*b_lscdr**8*h*sin(psi)**4*cos(psi)**2*cos(2*psi)**2 + 8*a_lscdr**6*b_lscdr**8*h*sin(psi)**4*cos(psi)**2*cos(2*psi) + 4*a_lscdr**6*b_lscdr**8*h*sin(psi)**4*cos(2*psi)**2 - 10*a_lscdr**6*b_lscdr**8*h*sin(psi)**2*sin(2*psi)**4 - 6*sqrt(2)*a_lscdr**6*b_lscdr**8*h*sin(psi)**2*sin(2*psi)**2*sin(2*psi + pi/4)*cos(psi)**2 - 4*sqrt(2)*a_lscdr**6*b_lscdr**8*h*sin(psi)**2*sin(2*psi)**2*sin(2*psi + pi/4) - 9*a_lscdr**6*b_lscdr**8*h*sin(psi)**2*sin(2*psi)**2*cos(psi)**2*cos(2*psi) - 2*a_lscdr**6*b_lscdr**8*h*sin(psi)**2*sin(2*psi)**2*cos(psi)**2 - 7*a_lscdr**6*b_lscdr**8*h*sin(psi)**2*sin(2*psi)**2*cos(2*psi) + 11*a_lscdr**6*b_lscdr**8*h*sin(psi)**2*sin(2*psi)**2 + 2*sqrt(2)*a_lscdr**6*b_lscdr**8*h*sin(psi)**2*sin(2*psi)*cos(psi)**4*cos(2*psi + pi/4) - 2*a_lscdr**6*b_lscdr**8*h*sin(psi)**2*sin(2*psi)*cos(psi)**4 + 4*sqrt(2)*a_lscdr**6*b_lscdr**8*h*sin(psi)**2*sin(2*psi)*cos(psi)**2*cos(2*psi + pi/4) - 3*sqrt(2)*a_lscdr**6*b_lscdr**8*h*sin(psi)**2*sin(2*psi)*cos(psi)**2*cos(4*psi + pi/4)/2 - 5*a_lscdr**6*b_lscdr**8*h*sin(psi)**2*sin(2*psi)*cos(psi)**2/2 - sqrt(2)*a_lscdr**6*b_lscdr**8*h*sin(psi)**2*sin(2*psi)*cos(4*psi + pi/4) + a_lscdr**6*b_lscdr**8*h*sin(psi)**2*sin(2*psi) - 4*sqrt(2)*a_lscdr**6*b_lscdr**8*h*sin(psi)**2*sin(2*psi + pi/4)*cos(psi)**4*cos(2*psi) - 8*sqrt(2)*a_lscdr**6*b_lscdr**8*h*sin(psi)**2*sin(2*psi + pi/4)*cos(psi)**2*cos(2*psi) - 4*a_lscdr**6*b_lscdr**8*h*sin(psi)**2*cos(psi)**4*cos(2*psi) - 8*a_lscdr**6*b_lscdr**8*h*sin(psi)**2*cos(psi)**2*cos(2*psi) + 4*a_lscdr**6*b_lscdr**8*h*sin(2*psi)**4 + 2*sqrt(2)*a_lscdr**6*b_lscdr**8*h*sin(2*psi)**2*sin(2*psi + pi/4)*cos(psi)**2 + 2*a_lscdr**6*b_lscdr**8*h*sin(2*psi)**2*cos(psi)**2*cos(2*psi) + a_lscdr**6*b_lscdr**8*h*sin(2*psi)**2*cos(psi)**2 - 4*a_lscdr**6*b_lscdr**8*h*sin(2*psi)**2 + sqrt(2)*a_lscdr**6*b_lscdr**8*h*sin(2*psi)*cos(psi)**2*cos(4*psi + pi/4)/2 - a_lscdr**6*b_lscdr**8*h*sin(2*psi)*cos(psi)**2/2 + 8*a_lscdr**6*b_lscdr**8*k*sin(psi)**6*sin(2*psi)*cos(2*psi) + 4*a_lscdr**6*b_lscdr**8*k*sin(psi)**6*sin(2*psi) - 9*a_lscdr**6*b_lscdr**8*k*sin(psi)**4*sin(2*psi)**3 - 20*a_lscdr**6*b_lscdr**8*k*sin(psi)**4*sin(2*psi)*cos(psi)**2*cos(2*psi) - 4*a_lscdr**6*b_lscdr**8*k*sin(psi)**4*sin(2*psi)*cos(psi)**2 - 6*a_lscdr**6*b_lscdr**8*k*sin(psi)**4*sin(2*psi)*cos(2*psi) - 2*a_lscdr**6*b_lscdr**8*k*sin(psi)**4*sin(2*psi) + 7*a_lscdr**6*b_lscdr**8*k*sin(psi)**2*sin(2*psi)**3*cos(psi)**2 + 5*a_lscdr**6*b_lscdr**8*k*sin(psi)**2*sin(2*psi)**3 + 4*a_lscdr**6*b_lscdr**8*k*sin(psi)**2*sin(2*psi)*cos(psi)**4*cos(2*psi) + 8*a_lscdr**6*b_lscdr**8*k*sin(psi)**2*sin(2*psi)*cos(psi)**2*cos(2*psi) - 2*a_lscdr**6*b_lscdr**8*k*sin(2*psi)**3*cos(psi)**2 - a_lscdr**6*b_lscdr**6*h**3*sin(psi)**6*sin(2*psi)**2*cos(2*psi) + a_lscdr**6*b_lscdr**6*h**3*sin(psi)**6*sin(2*psi)**2 + 3*a_lscdr**6*b_lscdr**6*h**3*sin(psi)**4*sin(2*psi)**4/2 - sqrt(2)*a_lscdr**6*b_lscdr**6*h**3*sin(psi)**4*sin(2*psi)**3*cos(2*psi + pi/4)/2 + a_lscdr**6*b_lscdr**6*h**3*sin(psi)**4*sin(2*psi)**3/2 + 3*sqrt(2)*a_lscdr**6*b_lscdr**6*h**3*sin(psi)**4*sin(2*psi)**2*sin(2*psi + pi/4)*cos(psi)**2 - 3*sqrt(2)*a_lscdr**6*b_lscdr**6*h**3*sin(psi)**4*sin(2*psi)**2*sin(2*psi + pi/4)*cos(2*psi)/2 + sqrt(2)*a_lscdr**6*b_lscdr**6*h**3*sin(psi)**4*sin(2*psi)**2*sin(2*psi + pi/4)/2 + 3*a_lscdr**6*b_lscdr**6*h**3*sin(psi)**4*sin(2*psi)**2*cos(psi)**2*cos(2*psi) - 4*a_lscdr**6*b_lscdr**6*h**3*sin(psi)**4*sin(2*psi)**2*cos(2*psi)**2 + 3*a_lscdr**6*b_lscdr**6*h**3*sin(psi)**4*sin(2*psi)**2*cos(2*psi) + 2*a_lscdr**6*b_lscdr**6*h**3*sin(psi)**4*sin(2*psi)**2 - 3*sqrt(2)*a_lscdr**6*b_lscdr**6*h**3*sin(psi)**4*sin(2*psi)*cos(psi)**2*cos(2*psi)*cos(2*psi + pi/4) + 3*a_lscdr**6*b_lscdr**6*h**3*sin(psi)**4*sin(2*psi)*cos(psi)**2*cos(2*psi) + 3*sqrt(2)*a_lscdr**6*b_lscdr**6*h**3*sin(psi)**4*sin(2*psi)*cos(psi)**2*cos(2*psi + pi/4) - 3*a_lscdr**6*b_lscdr**6*h**3*sin(psi)**4*sin(2*psi)*cos(psi)**2 + sqrt(2)*a_lscdr**6*b_lscdr**6*h**3*sin(psi)**4*sin(2*psi)*cos(2*psi)*cos(4*psi + pi/4)/4 - a_lscdr**6*b_lscdr**6*h**3*sin(psi)**4*sin(2*psi)*cos(2*psi)/4 - sqrt(2)*a_lscdr**6*b_lscdr**6*h**3*sin(psi)**4*sin(2*psi)*cos(4*psi + pi/4)/4 + a_lscdr**6*b_lscdr**6*h**3*sin(psi)**4*sin(2*psi)/4 + 6*a_lscdr**6*b_lscdr**6*h**3*sin(psi)**4*cos(2*psi)**2 - 8*a_lscdr**6*b_lscdr**6*h**3*sin(psi)**4*cos(2*psi) + 2*a_lscdr**6*b_lscdr**6*h**3*sin(psi)**4 + 2*sqrt(2)*a_lscdr**6*b_lscdr**6*h**3*sin(psi)**2*sin(2*psi)**4*sin(2*psi + pi/4) - 3*a_lscdr**6*b_lscdr**6*h**3*sin(psi)**2*sin(2*psi)**4*cos(psi)**2 + 19*a_lscdr**6*b_lscdr**6*h**3*sin(psi)**2*sin(2*psi)**4*cos(2*psi)/2 - 3*a_lscdr**6*b_lscdr**6*h**3*sin(psi)**2*sin(2*psi)**4/2 + 3*sqrt(2)*a_lscdr**6*b_lscdr**6*h**3*sin(psi)**2*sin(2*psi)**3*cos(psi)**2*cos(2*psi + pi/4) - 3*a_lscdr**6*b_lscdr**6*h**3*sin(psi)**2*sin(2*psi)**3*cos(psi)**2 - sqrt(2)*a_lscdr**6*b_lscdr**6*h**3*sin(psi)**2*sin(2*psi)**3*cos(4*psi + pi/4)/2 + a_lscdr**6*b_lscdr**6*h**3*sin(psi)**2*sin(2*psi)**3/2 - 3*sqrt(2)*a_lscdr**6*b_lscdr**6*h**3*sin(psi)**2*sin(2*psi)**2*sin(2*psi + pi/4)*cos(psi)**4 + 8*sqrt(2)*a_lscdr**6*b_lscdr**6*h**3*sin(psi)**2*sin(2*psi)**2*sin(2*psi + pi/4)*cos(psi)**2*cos(2*psi) - sqrt(2)*a_lscdr**6*b_lscdr**6*h**3*sin(psi)**2*sin(2*psi)**2*sin(2*psi + pi/4)*cos(psi)**2 - 4*sqrt(2)*a_lscdr**6*b_lscdr**6*h**3*sin(psi)**2*sin(2*psi)**2*sin(2*psi + pi/4) - 3*a_lscdr**6*b_lscdr**6*h**3*sin(psi)**2*sin(2*psi)**2*cos(psi)**4 + 7*a_lscdr**6*b_lscdr**6*h**3*sin(psi)**2*sin(2*psi)**2*cos(psi)**2*cos(2*psi)**2 + 2*a_lscdr**6*b_lscdr**6*h**3*sin(psi)**2*sin(2*psi)**2*cos(psi)**2*cos(2*psi) - 6*a_lscdr**6*b_lscdr**6*h**3*sin(psi)**2*sin(2*psi)**2*cos(psi)**2 - 12*a_lscdr**6*b_lscdr**6*h**3*sin(psi)**2*sin(2*psi)**2*cos(2*psi) + 3*a_lscdr**6*b_lscdr**6*h**3*sin(psi)**2*sin(2*psi)**2 + 6*a_lscdr**6*b_lscdr**6*h**3*sin(psi)**2*sin(2*psi)*sin(2*psi + pi/4)*cos(psi)**4*cos(2*psi + pi/4) - 3*sqrt(2)*a_lscdr**6*b_lscdr**6*h**3*sin(psi)**2*sin(2*psi)*sin(2*psi + pi/4)*cos(psi)**4 - a_lscdr**6*b_lscdr**6*h**3*sin(psi)**2*sin(2*psi)*sin(2*psi + pi/4)*cos(psi)**2*cos(4*psi + pi/4) + sqrt(2)*a_lscdr**6*b_lscdr**6*h**3*sin(psi)**2*sin(2*psi)*sin(2*psi + pi/4)*cos(psi)**2/2 + 3*sqrt(2)*a_lscdr**6*b_lscdr**6*h**3*sin(psi)**2*sin(2*psi)*cos(psi)**4*cos(2*psi)*cos(2*psi + pi/4) - 3*a_lscdr**6*b_lscdr**6*h**3*sin(psi)**2*sin(2*psi)*cos(psi)**4*cos(2*psi) - sqrt(2)*a_lscdr**6*b_lscdr**6*h**3*sin(psi)**2*sin(2*psi)*cos(psi)**2*cos(2*psi)*cos(4*psi + pi/4) + a_lscdr**6*b_lscdr**6*h**3*sin(psi)**2*sin(2*psi)*cos(psi)**2*cos(2*psi) + 4*sqrt(2)*a_lscdr**6*b_lscdr**6*h**3*sin(psi)**2*sin(2*psi)*cos(psi)**2*cos(2*psi + pi/4) + sqrt(2)*a_lscdr**6*b_lscdr**6*h**3*sin(psi)**2*sin(2*psi)*cos(psi)**2*cos(4*psi + pi/4)/2 - 9*a_lscdr**6*b_lscdr**6*h**3*sin(psi)**2*sin(2*psi)*cos(psi)**2/2 - sqrt(2)*a_lscdr**6*b_lscdr**6*h**3*sin(psi)**2*sin(2*psi)*cos(4*psi + pi/4)/2 + a_lscdr**6*b_lscdr**6*h**3*sin(psi)**2*sin(2*psi)/2 - 16*sqrt(2)*a_lscdr**6*b_lscdr**6*h**3*sin(psi)**2*sin(2*psi + pi/4)*cos(psi)**2*cos(2*psi) + 8*sqrt(2)*a_lscdr**6*b_lscdr**6*h**3*sin(psi)**2*sin(2*psi + pi/4)*cos(psi)**2 - 8*a_lscdr**6*b_lscdr**6*h**3*sin(psi)**2*cos(psi)**2*cos(2*psi)**2 - 8*a_lscdr**6*b_lscdr**6*h**3*sin(psi)**2*cos(psi)**2*cos(2*psi) + 8*a_lscdr**6*b_lscdr**6*h**3*sin(psi)**2*cos(psi)**2 - 5*a_lscdr**6*b_lscdr**6*h**3*sin(2*psi)**6 - 3*sqrt(2)*a_lscdr**6*b_lscdr**6*h**3*sin(2*psi)**4*sin(2*psi + pi/4)*cos(psi)**2 + a_lscdr**6*b_lscdr**6*h**3*sin(2*psi)**4*cos(psi)**4/2 - 8*a_lscdr**6*b_lscdr**6*h**3*sin(2*psi)**4*cos(psi)**2*cos(2*psi) - 3*a_lscdr**6*b_lscdr**6*h**3*sin(2*psi)**4*cos(psi)**2/2 + 12*a_lscdr**6*b_lscdr**6*h**3*sin(2*psi)**4 - 3*sqrt(2)*a_lscdr**6*b_lscdr**6*h**3*sin(2*psi)**3*cos(psi)**4*cos(2*psi + pi/4)/2 + 3*a_lscdr**6*b_lscdr**6*h**3*sin(2*psi)**3*cos(psi)**4/2 + 3*sqrt(2)*a_lscdr**6*b_lscdr**6*h**3*sin(2*psi)**3*cos(psi)**2*cos(4*psi + pi/4)/4 - 3*a_lscdr**6*b_lscdr**6*h**3*sin(2*psi)**3*cos(psi)**2/4 - 7*sqrt(2)*a_lscdr**6*b_lscdr**6*h**3*sin(2*psi)**2*sin(2*psi + pi/4)*cos(psi)**4*cos(2*psi)/2 - sqrt(2)*a_lscdr**6*b_lscdr**6*h**3*sin(2*psi)**2*sin(2*psi + pi/4)*cos(psi)**4/2 + 8*sqrt(2)*a_lscdr**6*b_lscdr**6*h**3*sin(2*psi)**2*sin(2*psi + pi/4)*cos(psi)**2 - a_lscdr**6*b_lscdr**6*h**3*sin(2*psi)**2*cos(psi)**4*cos(2*psi)**2 - 3*a_lscdr**6*b_lscdr**6*h**3*sin(2*psi)**2*cos(psi)**4*cos(2*psi) + 9*a_lscdr**6*b_lscdr**6*h**3*sin(2*psi)**2*cos(psi)**2*cos(2*psi) + 3*a_lscdr**6*b_lscdr**6*h**3*sin(2*psi)**2*cos(psi)**2 - 8*a_lscdr**6*b_lscdr**6*h**3*sin(2*psi)**2 - 2*a_lscdr**6*b_lscdr**6*h**3*sin(2*psi)*sin(2*psi + pi/4)*cos(psi)**6*cos(2*psi + pi/4) + sqrt(2)*a_lscdr**6*b_lscdr**6*h**3*sin(2*psi)*sin(2*psi + pi/4)*cos(psi)**6 + a_lscdr**6*b_lscdr**6*h**3*sin(2*psi)*sin(2*psi + pi/4)*cos(psi)**4*cos(4*psi + pi/4) - sqrt(2)*a_lscdr**6*b_lscdr**6*h**3*sin(2*psi)*sin(2*psi + pi/4)*cos(psi)**4/2 - sqrt(2)*a_lscdr**6*b_lscdr**6*h**3*sin(2*psi)*cos(psi)**6*cos(2*psi + pi/4) + a_lscdr**6*b_lscdr**6*h**3*sin(2*psi)*cos(psi)**6 + sqrt(2)*a_lscdr**6*b_lscdr**6*h**3*sin(2*psi)*cos(psi)**4*cos(2*psi)*cos(4*psi + pi/4)/4 - a_lscdr**6*b_lscdr**6*h**3*sin(2*psi)*cos(psi)**4*cos(2*psi)/4 - 2*sqrt(2)*a_lscdr**6*b_lscdr**6*h**3*sin(2*psi)*cos(psi)**4*cos(2*psi + pi/4) + sqrt(2)*a_lscdr**6*b_lscdr**6*h**3*sin(2*psi)*cos(psi)**4*cos(4*psi + pi/4)/4 + 7*a_lscdr**6*b_lscdr**6*h**3*sin(2*psi)*cos(psi)**4/4 + sqrt(2)*a_lscdr**6*b_lscdr**6*h**3*sin(2*psi)*cos(psi)**2*cos(4*psi + pi/4) - a_lscdr**6*b_lscdr**6*h**3*sin(2*psi)*cos(psi)**2 + 4*a_lscdr**6*b_lscdr**6*h**3*sin(2*psi + pi/4)**2*cos(psi)**4 + 4*sqrt(2)*a_lscdr**6*b_lscdr**6*h**3*sin(2*psi + pi/4)*cos(psi)**4*cos(2*psi) + 4*sqrt(2)*a_lscdr**6*b_lscdr**6*h**3*sin(2*psi + pi/4)*cos(psi)**4 + 4*a_lscdr**6*b_lscdr**6*h**3*cos(psi)**4*cos(2*psi) + 2*a_lscdr**6*b_lscdr**6*h**3*cos(psi)**4 + a_lscdr**6*b_lscdr**6*h**2*k*sin(psi)**6*sin(2*psi)**3 + 8*a_lscdr**6*b_lscdr**6*h**2*k*sin(psi)**6*sin(2*psi)*cos(psi)**2*cos(2*psi) - 8*a_lscdr**6*b_lscdr**6*h**2*k*sin(psi)**6*sin(2*psi)*cos(psi)**2 - 4*a_lscdr**6*b_lscdr**6*h**2*k*sin(psi)**6*sin(2*psi)*cos(2*psi)**2 + 6*a_lscdr**6*b_lscdr**6*h**2*k*sin(psi)**6*sin(2*psi)*cos(2*psi) - 2*a_lscdr**6*b_lscdr**6*h**2*k*sin(psi)**6*sin(2*psi) + 3*sqrt(2)*a_lscdr**6*b_lscdr**6*h**2*k*sin(psi)**4*sin(2*psi)**3*sin(2*psi + pi/4)/2 - 9*a_lscdr**6*b_lscdr**6*h**2*k*sin(psi)**4*sin(2*psi)**3*cos(psi)**2 + 29*a_lscdr**6*b_lscdr**6*h**2*k*sin(psi)**4*sin(2*psi)**3*cos(2*psi)/2 - 13*a_lscdr**6*b_lscdr**6*h**2*k*sin(psi)**4*sin(2*psi)**3/2 + 3*sqrt(2)*a_lscdr**6*b_lscdr**6*h**2*k*sin(psi)**4*sin(2*psi)**2*cos(psi)**2*cos(2*psi + pi/4) - 3*a_lscdr**6*b_lscdr**6*h**2*k*sin(psi)**4*sin(2*psi)**2*cos(psi)**2 - sqrt(2)*a_lscdr**6*b_lscdr**6*h**2*k*sin(psi)**4*sin(2*psi)**2*cos(4*psi + pi/4)/4 + a_lscdr**6*b_lscdr**6*h**2*k*sin(psi)**4*sin(2*psi)**2/4 - 12*sqrt(2)*a_lscdr**6*b_lscdr**6*h**2*k*sin(psi)**4*sin(2*psi)*sin(2*psi + pi/4)*cos(psi)**4 + 12*sqrt(2)*a_lscdr**6*b_lscdr**6*h**2*k*sin(psi)**4*sin(2*psi)*sin(2*psi + pi/4)*cos(psi)**2*cos(2*psi) - 6*sqrt(2)*a_lscdr**6*b_lscdr**6*h**2*k*sin(psi)**4*sin(2*psi)*sin(2*psi + pi/4)*cos(psi)**2 - 12*a_lscdr**6*b_lscdr**6*h**2*k*sin(psi)**4*sin(2*psi)*cos(psi)**4 + 24*a_lscdr**6*b_lscdr**6*h**2*k*sin(psi)**4*sin(2*psi)*cos(psi)**2*cos(2*psi)**2 - 15*a_lscdr**6*b_lscdr**6*h**2*k*sin(psi)**4*sin(2*psi)*cos(psi)**2*cos(2*psi) - 3*a_lscdr**6*b_lscdr**6*h**2*k*sin(psi)**4*sin(2*psi)*cos(psi)**2 - 2*a_lscdr**6*b_lscdr**6*h**2*k*sin(psi)**4*sin(2*psi)*cos(2*psi) - 2*a_lscdr**6*b_lscdr**6*h**2*k*sin(psi)**4*sin(2*psi) + 12*sqrt(2)*a_lscdr**6*b_lscdr**6*h**2*k*sin(psi)**4*cos(psi)**4*cos(2*psi)*cos(2*psi + pi/4) - 12*a_lscdr**6*b_lscdr**6*h**2*k*sin(psi)**4*cos(psi)**4*cos(2*psi) - 12*sqrt(2)*a_lscdr**6*b_lscdr**6*h**2*k*sin(psi)**4*cos(psi)**4*cos(2*psi + pi/4) + 12*a_lscdr**6*b_lscdr**6*h**2*k*sin(psi)**4*cos(psi)**4 - 3*sqrt(2)*a_lscdr**6*b_lscdr**6*h**2*k*sin(psi)**4*cos(psi)**2*cos(2*psi)*cos(4*psi + pi/4)/2 + 3*a_lscdr**6*b_lscdr**6*h**2*k*sin(psi)**4*cos(psi)**2*cos(2*psi)/2 + 3*sqrt(2)*a_lscdr**6*b_lscdr**6*h**2*k*sin(psi)**4*cos(psi)**2*cos(4*psi + pi/4)/2 - 3*a_lscdr**6*b_lscdr**6*h**2*k*sin(psi)**4*cos(psi)**2/2 - 21*a_lscdr**6*b_lscdr**6*h**2*k*sin(psi)**2*sin(2*psi)**5/2 - 10*sqrt(2)*a_lscdr**6*b_lscdr**6*h**2*k*sin(psi)**2*sin(2*psi)**3*sin(2*psi + pi/4)*cos(psi)**2 + 6*a_lscdr**6*b_lscdr**6*h**2*k*sin(psi)**2*sin(2*psi)**3*cos(psi)**4 - 43*a_lscdr**6*b_lscdr**6*h**2*k*sin(psi)**2*sin(2*psi)**3*cos(psi)**2*cos(2*psi) + 5*a_lscdr**6*b_lscdr**6*h**2*k*sin(psi)**2*sin(2*psi)**3*cos(psi)**2 + 12*a_lscdr**6*b_lscdr**6*h**2*k*sin(psi)**2*sin(2*psi)**3 - 9*sqrt(2)*a_lscdr**6*b_lscdr**6*h**2*k*sin(psi)**2*sin(2*psi)**2*cos(psi)**4*cos(2*psi + pi/4) + 9*a_lscdr**6*b_lscdr**6*h**2*k*sin(psi)**2*sin(2*psi)**2*cos(psi)**4 + 2*sqrt(2)*a_lscdr**6*b_lscdr**6*h**2*k*sin(psi)**2*sin(2*psi)**2*cos(psi)**2*cos(4*psi + pi/4) - 2*a_lscdr**6*b_lscdr**6*h**2*k*sin(psi)**2*sin(2*psi)**2*cos(psi)**2 - 24*sqrt(2)*a_lscdr**6*b_lscdr**6*h**2*k*sin(psi)**2*sin(2*psi)*sin(2*psi + pi/4)*cos(psi)**4*cos(2*psi) + 3*sqrt(2)*a_lscdr**6*b_lscdr**6*h**2*k*sin(psi)**2*sin(2*psi)*sin(2*psi + pi/4)*cos(psi)**4 - 12*a_lscdr**6*b_lscdr**6*h**2*k*sin(psi)**2*sin(2*psi)*cos(psi)**4*cos(2*psi)**2 - 15*a_lscdr**6*b_lscdr**6*h**2*k*sin(psi)**2*sin(2*psi)*cos(psi)**4*cos(2*psi) + 6*a_lscdr**6*b_lscdr**6*h**2*k*sin(psi)**2*sin(2*psi)*cos(psi)**4 + 20*a_lscdr**6*b_lscdr**6*h**2*k*sin(psi)**2*sin(2*psi)*cos(psi)**2*cos(2*psi) - 4*a_lscdr**6*b_lscdr**6*h**2*k*sin(psi)**2*sin(2*psi)*cos(psi)**2 - 16*a_lscdr**6*b_lscdr**6*h**2*k*sin(psi)**2*sin(2*psi + pi/4)*cos(psi)**6*cos(2*psi + pi/4) + 8*sqrt(2)*a_lscdr**6*b_lscdr**6*h**2*k*sin(psi)**2*sin(2*psi + pi/4)*cos(psi)**6 + 3*a_lscdr**6*b_lscdr**6*h**2*k*sin(psi)**2*sin(2*psi + pi/4)*cos(psi)**4*cos(4*psi + pi/4) - 3*sqrt(2)*a_lscdr**6*b_lscdr**6*h**2*k*sin(psi)**2*sin(2*psi + pi/4)*cos(psi)**4/2 - 8*sqrt(2)*a_lscdr**6*b_lscdr**6*h**2*k*sin(psi)**2*cos(psi)**6*cos(2*psi + pi/4) + 8*a_lscdr**6*b_lscdr**6*h**2*k*sin(psi)**2*cos(psi)**6 + 3*sqrt(2)*a_lscdr**6*b_lscdr**6*h**2*k*sin(psi)**2*cos(psi)**4*cos(2*psi)*cos(4*psi + pi/4)/2 - 3*a_lscdr**6*b_lscdr**6*h**2*k*sin(psi)**2*cos(psi)**4*cos(2*psi)/2 + 12*a_lscdr**6*b_lscdr**6*h**2*k*sin(2*psi)**5*cos(psi)**2 + 11*sqrt(2)*a_lscdr**6*b_lscdr**6*h**2*k*sin(2*psi)**3*sin(2*psi + pi/4)*cos(psi)**4/2 + 27*a_lscdr**6*b_lscdr**6*h**2*k*sin(2*psi)**3*cos(psi)**4*cos(2*psi)/2 + 9*a_lscdr**6*b_lscdr**6*h**2*k*sin(2*psi)**3*cos(psi)**4/2 - 15*a_lscdr**6*b_lscdr**6*h**2*k*sin(2*psi)**3*cos(psi)**2 + 2*sqrt(2)*a_lscdr**6*b_lscdr**6*h**2*k*sin(2*psi)**2*cos(psi)**6*cos(2*psi + pi/4) - 2*a_lscdr**6*b_lscdr**6*h**2*k*sin(2*psi)**2*cos(psi)**6 - 5*sqrt(2)*a_lscdr**6*b_lscdr**6*h**2*k*sin(2*psi)**2*cos(psi)**4*cos(4*psi + pi/4)/4 + 5*a_lscdr**6*b_lscdr**6*h**2*k*sin(2*psi)**2*cos(psi)**4/4 + 4*sqrt(2)*a_lscdr**6*b_lscdr**6*h**2*k*sin(2*psi)*sin(2*psi + pi/4)*cos(psi)**6*cos(2*psi) + sqrt(2)*a_lscdr**6*b_lscdr**6*h**2*k*sin(2*psi)*sin(2*psi + pi/4)*cos(psi)**6 - 4*sqrt(2)*a_lscdr**6*b_lscdr**6*h**2*k*sin(2*psi)*sin(2*psi + pi/4)*cos(psi)**4 + 4*a_lscdr**6*b_lscdr**6*h**2*k*sin(2*psi)*cos(psi)**6*cos(2*psi) + a_lscdr**6*b_lscdr**6*h**2*k*sin(2*psi)*cos(psi)**6 - 4*a_lscdr**6*b_lscdr**6*h**2*k*sin(2*psi)*cos(psi)**4*cos(2*psi) - 4*a_lscdr**6*b_lscdr**6*h**2*k*sin(2*psi)*cos(psi)**4 - a_lscdr**6*b_lscdr**6*h**2*k*sin(2*psi + pi/4)*cos(psi)**6*cos(4*psi + pi/4) + sqrt(2)*a_lscdr**6*b_lscdr**6*h**2*k*sin(2*psi + pi/4)*cos(psi)**6/2 - sqrt(2)*a_lscdr**6*b_lscdr**6*h**2*k*cos(psi)**6*cos(4*psi + pi/4)/2 + a_lscdr**6*b_lscdr**6*h**2*k*cos(psi)**6/2 + 2*a_lscdr**6*b_lscdr**6*h*k**2*sin(psi)**6*sin(2*psi)**2*cos(2*psi) - 2*a_lscdr**6*b_lscdr**6*h*k**2*sin(psi)**6*sin(2*psi)**2 + 8*a_lscdr**6*b_lscdr**6*h*k**2*sin(psi)**6*cos(psi)**2*cos(2*psi)**2 - 16*a_lscdr**6*b_lscdr**6*h*k**2*sin(psi)**6*cos(psi)**2*cos(2*psi) + 8*a_lscdr**6*b_lscdr**6*h*k**2*sin(psi)**6*cos(psi)**2 - 4*a_lscdr**6*b_lscdr**6*h*k**2*sin(psi)**4*sin(2*psi)**4 - 3*sqrt(2)*a_lscdr**6*b_lscdr**6*h*k**2*sin(psi)**4*sin(2*psi)**2*sin(2*psi + pi/4)*cos(psi)**2 + 12*a_lscdr**6*b_lscdr**6*h*k**2*sin(psi)**4*sin(2*psi)**2*cos(psi)**4 - 33*a_lscdr**6*b_lscdr**6*h*k**2*sin(psi)**4*sin(2*psi)**2*cos(psi)**2*cos(2*psi) + 18*a_lscdr**6*b_lscdr**6*h*k**2*sin(psi)**4*sin(2*psi)**2*cos(psi)**2 + 2*a_lscdr**6*b_lscdr**6*h*k**2*sin(psi)**4*sin(2*psi)**2 - 12*sqrt(2)*a_lscdr**6*b_lscdr**6*h*k**2*sin(psi)**4*sin(2*psi + pi/4)*cos(psi)**4*cos(2*psi) + 12*sqrt(2)*a_lscdr**6*b_lscdr**6*h*k**2*sin(psi)**4*sin(2*psi + pi/4)*cos(psi)**4 - 24*a_lscdr**6*b_lscdr**6*h*k**2*sin(psi)**4*cos(psi)**4*cos(2*psi)**2 + 12*a_lscdr**6*b_lscdr**6*h*k**2*sin(psi)**4*cos(psi)**4*cos(2*psi) + 12*a_lscdr**6*b_lscdr**6*h*k**2*sin(psi)**4*cos(psi)**4 + 19*a_lscdr**6*b_lscdr**6*h*k**2*sin(psi)**2*sin(2*psi)**4*cos(psi)**2 + 9*sqrt(2)*a_lscdr**6*b_lscdr**6*h*k**2*sin(psi)**2*sin(2*psi)**2*sin(2*psi + pi/4)*cos(psi)**4 + 45*a_lscdr**6*b_lscdr**6*h*k**2*sin(psi)**2*sin(2*psi)**2*cos(psi)**4*cos(2*psi) - 3*a_lscdr**6*b_lscdr**6*h*k**2*sin(psi)**2*sin(2*psi)**2*cos(psi)**4 - 8*a_lscdr**6*b_lscdr**6*h*k**2*sin(psi)**2*sin(2*psi)**2*cos(psi)**2 + 8*sqrt(2)*a_lscdr**6*b_lscdr**6*h*k**2*sin(psi)**2*sin(2*psi)*cos(psi)**6*cos(2*psi + pi/4) - 8*a_lscdr**6*b_lscdr**6*h*k**2*sin(psi)**2*sin(2*psi)*cos(psi)**6 - 3*sqrt(2)*a_lscdr**6*b_lscdr**6*h*k**2*sin(psi)**2*sin(2*psi)*cos(psi)**4*cos(4*psi + pi/4)/2 + 3*a_lscdr**6*b_lscdr**6*h*k**2*sin(psi)**2*sin(2*psi)*cos(psi)**4/2 + 16*sqrt(2)*a_lscdr**6*b_lscdr**6*h*k**2*sin(psi)**2*sin(2*psi + pi/4)*cos(psi)**6*cos(2*psi) + 16*a_lscdr**6*b_lscdr**6*h*k**2*sin(psi)**2*cos(psi)**6*cos(2*psi) - 9*a_lscdr**6*b_lscdr**6*h*k**2*sin(2*psi)**4*cos(psi)**4 - 2*sqrt(2)*a_lscdr**6*b_lscdr**6*h*k**2*sin(2*psi)**2*sin(2*psi + pi/4)*cos(psi)**6 - 6*a_lscdr**6*b_lscdr**6*h*k**2*sin(2*psi)**2*cos(psi)**6*cos(2*psi) - 3*a_lscdr**6*b_lscdr**6*h*k**2*sin(2*psi)**2*cos(psi)**6 + 4*a_lscdr**6*b_lscdr**6*h*k**2*sin(2*psi)**2*cos(psi)**4 + sqrt(2)*a_lscdr**6*b_lscdr**6*h*k**2*sin(2*psi)*cos(psi)**6*cos(4*psi + pi/4)/2 - a_lscdr**6*b_lscdr**6*h*k**2*sin(2*psi)*cos(psi)**6/2 + 3*a_lscdr**6*b_lscdr**6*k**3*sin(psi)**4*sin(2*psi)**3*cos(psi)**2 + 12*a_lscdr**6*b_lscdr**6*k**3*sin(psi)**4*sin(2*psi)*cos(psi)**4*cos(2*psi) - 12*a_lscdr**6*b_lscdr**6*k**3*sin(psi)**4*sin(2*psi)*cos(psi)**4 - 9*a_lscdr**6*b_lscdr**6*k**3*sin(psi)**2*sin(2*psi)**3*cos(psi)**4 - 16*a_lscdr**6*b_lscdr**6*k**3*sin(psi)**2*sin(2*psi)*cos(psi)**6*cos(2*psi) + 2*a_lscdr**6*b_lscdr**6*k**3*sin(2*psi)**3*cos(psi)**6 + 2*a_lscdr**4*b_lscdr**10*h*sin(psi)**6*sin(2*psi)**2 - 4*sqrt(2)*a_lscdr**4*b_lscdr**10*h*sin(psi)**6*sin(2*psi)*cos(2*psi + pi/4) + 4*a_lscdr**4*b_lscdr**10*h*sin(psi)**6*sin(2*psi) + 8*sqrt(2)*a_lscdr**4*b_lscdr**10*h*sin(psi)**6*sin(2*psi + pi/4)*cos(2*psi) + 4*a_lscdr**4*b_lscdr**10*h*sin(psi)**6*cos(2*psi)**2 + 4*a_lscdr**4*b_lscdr**10*h*sin(psi)**6*cos(2*psi) - 6*sqrt(2)*a_lscdr**4*b_lscdr**10*h*sin(psi)**4*sin(2*psi)**2*sin(2*psi + pi/4) - 9*a_lscdr**4*b_lscdr**10*h*sin(psi)**4*sin(2*psi)**2*cos(2*psi) - 2*a_lscdr**4*b_lscdr**10*h*sin(psi)**4*sin(2*psi)**2 + 4*sqrt(2)*a_lscdr**4*b_lscdr**10*h*sin(psi)**4*sin(2*psi)*cos(psi)**2*cos(2*psi + pi/4) - 4*a_lscdr**4*b_lscdr**10*h*sin(psi)**4*sin(2*psi)*cos(psi)**2 + 2*sqrt(2)*a_lscdr**4*b_lscdr**10*h*sin(psi)**4*sin(2*psi)*cos(2*psi + pi/4) - 3*sqrt(2)*a_lscdr**4*b_lscdr**10*h*sin(psi)**4*sin(2*psi)*cos(4*psi + pi/4)/2 - a_lscdr**4*b_lscdr**10*h*sin(psi)**4*sin(2*psi)/2 - 8*sqrt(2)*a_lscdr**4*b_lscdr**10*h*sin(psi)**4*sin(2*psi + pi/4)*cos(psi)**2*cos(2*psi) - 4*sqrt(2)*a_lscdr**4*b_lscdr**10*h*sin(psi)**4*sin(2*psi + pi/4)*cos(2*psi) - 8*a_lscdr**4*b_lscdr**10*h*sin(psi)**4*cos(psi)**2*cos(2*psi) - 4*a_lscdr**4*b_lscdr**10*h*sin(psi)**4*cos(2*psi) + 5*a_lscdr**4*b_lscdr**10*h*sin(psi)**2*sin(2*psi)**4 + 2*sqrt(2)*a_lscdr**4*b_lscdr**10*h*sin(psi)**2*sin(2*psi)**2*sin(2*psi + pi/4)*cos(psi)**2 + 2*sqrt(2)*a_lscdr**4*b_lscdr**10*h*sin(psi)**2*sin(2*psi)**2*sin(2*psi + pi/4) + 2*a_lscdr**4*b_lscdr**10*h*sin(psi)**2*sin(2*psi)**2*cos(psi)**2*cos(2*psi) + a_lscdr**4*b_lscdr**10*h*sin(psi)**2*sin(2*psi)**2*cos(psi)**2 + 2*a_lscdr**4*b_lscdr**10*h*sin(psi)**2*sin(2*psi)**2*cos(2*psi) - 3*a_lscdr**4*b_lscdr**10*h*sin(psi)**2*sin(2*psi)**2 + sqrt(2)*a_lscdr**4*b_lscdr**10*h*sin(psi)**2*sin(2*psi)*cos(psi)**2*cos(4*psi + pi/4)/2 - a_lscdr**4*b_lscdr**10*h*sin(psi)**2*sin(2*psi)*cos(psi)**2/2 + sqrt(2)*a_lscdr**4*b_lscdr**10*h*sin(psi)**2*sin(2*psi)*cos(4*psi + pi/4)/2 - a_lscdr**4*b_lscdr**10*h*sin(psi)**2*sin(2*psi)/2 - a_lscdr**4*b_lscdr**10*h*sin(2*psi)**4 - 10*a_lscdr**4*b_lscdr**10*k*sin(psi)**6*sin(2*psi)*cos(2*psi) - 2*a_lscdr**4*b_lscdr**10*k*sin(psi)**6*sin(2*psi) + 7*a_lscdr**4*b_lscdr**10*k*sin(psi)**4*sin(2*psi)**3 + 8*a_lscdr**4*b_lscdr**10*k*sin(psi)**4*sin(2*psi)*cos(psi)**2*cos(2*psi) + 4*a_lscdr**4*b_lscdr**10*k*sin(psi)**4*sin(2*psi)*cos(2*psi) - 2*a_lscdr**4*b_lscdr**10*k*sin(psi)**2*sin(2*psi)**3*cos(psi)**2 - 2*a_lscdr**4*b_lscdr**10*k*sin(psi)**2*sin(2*psi)**3 + sqrt(2)*a_lscdr**4*b_lscdr**8*h**3*sin(psi)**6*sin(2*psi)**2*sin(2*psi + pi/4) + a_lscdr**4*b_lscdr**8*h**3*sin(psi)**6*sin(2*psi)**2*cos(2*psi) - sqrt(2)*a_lscdr**4*b_lscdr**8*h**3*sin(psi)**6*sin(2*psi)*cos(2*psi)*cos(2*psi + pi/4) + a_lscdr**4*b_lscdr**8*h**3*sin(psi)**6*sin(2*psi)*cos(2*psi) + sqrt(2)*a_lscdr**4*b_lscdr**8*h**3*sin(psi)**6*sin(2*psi)*cos(2*psi + pi/4) - a_lscdr**4*b_lscdr**8*h**3*sin(psi)**6*sin(2*psi) - 3*a_lscdr**4*b_lscdr**8*h**3*sin(psi)**4*sin(2*psi)**4/2 + 3*sqrt(2)*a_lscdr**4*b_lscdr**8*h**3*sin(psi)**4*sin(2*psi)**3*cos(2*psi + pi/4)/2 - 3*a_lscdr**4*b_lscdr**8*h**3*sin(psi)**4*sin(2*psi)**3/2 - 3*sqrt(2)*a_lscdr**4*b_lscdr**8*h**3*sin(psi)**4*sin(2*psi)**2*sin(2*psi + pi/4)*cos(psi)**2 + 4*sqrt(2)*a_lscdr**4*b_lscdr**8*h**3*sin(psi)**4*sin(2*psi)**2*sin(2*psi + pi/4)*cos(2*psi) - sqrt(2)*a_lscdr**4*b_lscdr**8*h**3*sin(psi)**4*sin(2*psi)**2*sin(2*psi + pi/4)/2 - 3*a_lscdr**4*b_lscdr**8*h**3*sin(psi)**4*sin(2*psi)**2*cos(psi)**2 + 7*a_lscdr**4*b_lscdr**8*h**3*sin(psi)**4*sin(2*psi)**2*cos(2*psi)**2/2 + a_lscdr**4*b_lscdr**8*h**3*sin(psi)**4*sin(2*psi)**2*cos(2*psi) - 3*a_lscdr**4*b_lscdr**8*h**3*sin(psi)**4*sin(2*psi)**2 + 6*a_lscdr**4*b_lscdr**8*h**3*sin(psi)**4*sin(2*psi)*sin(2*psi + pi/4)*cos(psi)**2*cos(2*psi + pi/4) - 3*sqrt(2)*a_lscdr**4*b_lscdr**8*h**3*sin(psi)**4*sin(2*psi)*sin(2*psi + pi/4)*cos(psi)**2 - a_lscdr**4*b_lscdr**8*h**3*sin(psi)**4*sin(2*psi)*sin(2*psi + pi/4)*cos(4*psi + pi/4)/2 + sqrt(2)*a_lscdr**4*b_lscdr**8*h**3*sin(psi)**4*sin(2*psi)*sin(2*psi + pi/4)/4 + 3*sqrt(2)*a_lscdr**4*b_lscdr**8*h**3*sin(psi)**4*sin(2*psi)*cos(psi)**2*cos(2*psi)*cos(2*psi + pi/4) - 3*a_lscdr**4*b_lscdr**8*h**3*sin(psi)**4*sin(2*psi)*cos(psi)**2*cos(2*psi) - sqrt(2)*a_lscdr**4*b_lscdr**8*h**3*sin(psi)**4*sin(2*psi)*cos(2*psi)*cos(4*psi + pi/4)/2 + a_lscdr**4*b_lscdr**8*h**3*sin(psi)**4*sin(2*psi)*cos(2*psi)/2 + 2*sqrt(2)*a_lscdr**4*b_lscdr**8*h**3*sin(psi)**4*sin(2*psi)*cos(2*psi + pi/4) + sqrt(2)*a_lscdr**4*b_lscdr**8*h**3*sin(psi)**4*sin(2*psi)*cos(4*psi + pi/4)/4 - 9*a_lscdr**4*b_lscdr**8*h**3*sin(psi)**4*sin(2*psi)/4 - 8*sqrt(2)*a_lscdr**4*b_lscdr**8*h**3*sin(psi)**4*sin(2*psi + pi/4)*cos(2*psi) + 4*sqrt(2)*a_lscdr**4*b_lscdr**8*h**3*sin(psi)**4*sin(2*psi + pi/4) - 4*a_lscdr**4*b_lscdr**8*h**3*sin(psi)**4*cos(2*psi)**2 - 4*a_lscdr**4*b_lscdr**8*h**3*sin(psi)**4*cos(2*psi) + 4*a_lscdr**4*b_lscdr**8*h**3*sin(psi)**4 - 3*sqrt(2)*a_lscdr**4*b_lscdr**8*h**3*sin(psi)**2*sin(2*psi)**4*sin(2*psi + pi/4) + a_lscdr**4*b_lscdr**8*h**3*sin(psi)**2*sin(2*psi)**4*cos(psi)**2 - 8*a_lscdr**4*b_lscdr**8*h**3*sin(psi)**2*sin(2*psi)**4*cos(2*psi) - 3*a_lscdr**4*b_lscdr**8*h**3*sin(psi)**2*sin(2*psi)**4/2 - 3*sqrt(2)*a_lscdr**4*b_lscdr**8*h**3*sin(psi)**2*sin(2*psi)**3*cos(psi)**2*cos(2*psi + pi/4) + 3*a_lscdr**4*b_lscdr**8*h**3*sin(psi)**2*sin(2*psi)**3*cos(psi)**2 + 3*sqrt(2)*a_lscdr**4*b_lscdr**8*h**3*sin(psi)**2*sin(2*psi)**3*cos(4*psi + pi/4)/4 - 3*a_lscdr**4*b_lscdr**8*h**3*sin(psi)**2*sin(2*psi)**3/4 - 7*sqrt(2)*a_lscdr**4*b_lscdr**8*h**3*sin(psi)**2*sin(2*psi)**2*sin(2*psi + pi/4)*cos(psi)**2*cos(2*psi) - sqrt(2)*a_lscdr**4*b_lscdr**8*h**3*sin(psi)**2*sin(2*psi)**2*sin(2*psi + pi/4)*cos(psi)**2 + 8*sqrt(2)*a_lscdr**4*b_lscdr**8*h**3*sin(psi)**2*sin(2*psi)**2*sin(2*psi + pi/4) - 2*a_lscdr**4*b_lscdr**8*h**3*sin(psi)**2*sin(2*psi)**2*cos(psi)**2*cos(2*psi)**2 - 6*a_lscdr**4*b_lscdr**8*h**3*sin(psi)**2*sin(2*psi)**2*cos(psi)**2*cos(2*psi) + 9*a_lscdr**4*b_lscdr**8*h**3*sin(psi)**2*sin(2*psi)**2*cos(2*psi) + 3*a_lscdr**4*b_lscdr**8*h**3*sin(psi)**2*sin(2*psi)**2 - 6*a_lscdr**4*b_lscdr**8*h**3*sin(psi)**2*sin(2*psi)*sin(2*psi + pi/4)*cos(psi)**4*cos(2*psi + pi/4) + 3*sqrt(2)*a_lscdr**4*b_lscdr**8*h**3*sin(psi)**2*sin(2*psi)*sin(2*psi + pi/4)*cos(psi)**4 + 2*a_lscdr**4*b_lscdr**8*h**3*sin(psi)**2*sin(2*psi)*sin(2*psi + pi/4)*cos(psi)**2*cos(4*psi + pi/4) - sqrt(2)*a_lscdr**4*b_lscdr**8*h**3*sin(psi)**2*sin(2*psi)*sin(2*psi + pi/4)*cos(psi)**2 - 3*sqrt(2)*a_lscdr**4*b_lscdr**8*h**3*sin(psi)**2*sin(2*psi)*cos(psi)**4*cos(2*psi + pi/4) + 3*a_lscdr**4*b_lscdr**8*h**3*sin(psi)**2*sin(2*psi)*cos(psi)**4 + sqrt(2)*a_lscdr**4*b_lscdr**8*h**3*sin(psi)**2*sin(2*psi)*cos(psi)**2*cos(2*psi)*cos(4*psi + pi/4)/2 - a_lscdr**4*b_lscdr**8*h**3*sin(psi)**2*sin(2*psi)*cos(psi)**2*cos(2*psi)/2 - 4*sqrt(2)*a_lscdr**4*b_lscdr**8*h**3*sin(psi)**2*sin(2*psi)*cos(psi)**2*cos(2*psi + pi/4) + sqrt(2)*a_lscdr**4*b_lscdr**8*h**3*sin(psi)**2*sin(2*psi)*cos(psi)**2*cos(4*psi + pi/4)/2 + 7*a_lscdr**4*b_lscdr**8*h**3*sin(psi)**2*sin(2*psi)*cos(psi)**2/2 + sqrt(2)*a_lscdr**4*b_lscdr**8*h**3*sin(psi)**2*sin(2*psi)*cos(4*psi + pi/4) - a_lscdr**4*b_lscdr**8*h**3*sin(psi)**2*sin(2*psi) + 8*a_lscdr**4*b_lscdr**8*h**3*sin(psi)**2*sin(2*psi + pi/4)**2*cos(psi)**2 + 8*sqrt(2)*a_lscdr**4*b_lscdr**8*h**3*sin(psi)**2*sin(2*psi + pi/4)*cos(psi)**2*cos(2*psi) + 8*sqrt(2)*a_lscdr**4*b_lscdr**8*h**3*sin(psi)**2*sin(2*psi + pi/4)*cos(psi)**2 + 8*a_lscdr**4*b_lscdr**8*h**3*sin(psi)**2*cos(psi)**2*cos(2*psi) + 4*a_lscdr**4*b_lscdr**8*h**3*sin(psi)**2*cos(psi)**2 + 15*a_lscdr**4*b_lscdr**8*h**3*sin(2*psi)**6/4 + 2*sqrt(2)*a_lscdr**4*b_lscdr**8*h**3*sin(2*psi)**4*sin(2*psi + pi/4)*cos(psi)**2 + 13*a_lscdr**4*b_lscdr**8*h**3*sin(2*psi)**4*cos(psi)**2*cos(2*psi)/4 + 9*a_lscdr**4*b_lscdr**8*h**3*sin(2*psi)**4*cos(psi)**2/4 - 8*a_lscdr**4*b_lscdr**8*h**3*sin(2*psi)**4 + sqrt(2)*a_lscdr**4*b_lscdr**8*h**3*sin(2*psi)**3*cos(psi)**4*cos(2*psi + pi/4)/2 - a_lscdr**4*b_lscdr**8*h**3*sin(2*psi)**3*cos(psi)**4/2 - sqrt(2)*a_lscdr**4*b_lscdr**8*h**3*sin(2*psi)**3*cos(psi)**2*cos(4*psi + pi/4)/2 + a_lscdr**4*b_lscdr**8*h**3*sin(2*psi)**3*cos(psi)**2/2 + sqrt(2)*a_lscdr**4*b_lscdr**8*h**3*sin(2*psi)**2*sin(2*psi + pi/4)*cos(psi)**4*cos(2*psi) + sqrt(2)*a_lscdr**4*b_lscdr**8*h**3*sin(2*psi)**2*sin(2*psi + pi/4)*cos(psi)**4/2 - 4*sqrt(2)*a_lscdr**4*b_lscdr**8*h**3*sin(2*psi)**2*sin(2*psi + pi/4)*cos(psi)**2 + a_lscdr**4*b_lscdr**8*h**3*sin(2*psi)**2*cos(psi)**4*cos(2*psi) + a_lscdr**4*b_lscdr**8*h**3*sin(2*psi)**2*cos(psi)**4/2 - 2*a_lscdr**4*b_lscdr**8*h**3*sin(2*psi)**2*cos(psi)**2*cos(2*psi) - 3*a_lscdr**4*b_lscdr**8*h**3*sin(2*psi)**2*cos(psi)**2 + 4*a_lscdr**4*b_lscdr**8*h**3*sin(2*psi)**2 - a_lscdr**4*b_lscdr**8*h**3*sin(2*psi)*sin(2*psi + pi/4)*cos(psi)**4*cos(4*psi + pi/4)/2 + sqrt(2)*a_lscdr**4*b_lscdr**8*h**3*sin(2*psi)*sin(2*psi + pi/4)*cos(psi)**4/4 - sqrt(2)*a_lscdr**4*b_lscdr**8*h**3*sin(2*psi)*cos(psi)**4*cos(4*psi + pi/4)/4 + a_lscdr**4*b_lscdr**8*h**3*sin(2*psi)*cos(psi)**4/4 - sqrt(2)*a_lscdr**4*b_lscdr**8*h**3*sin(2*psi)*cos(psi)**2*cos(4*psi + pi/4)/2 + a_lscdr**4*b_lscdr**8*h**3*sin(2*psi)*cos(psi)**2/2 + 2*a_lscdr**4*b_lscdr**8*h**2*k*sin(psi)**8*sin(2*psi)*cos(2*psi) - 2*a_lscdr**4*b_lscdr**8*h**2*k*sin(psi)**8*sin(2*psi) - 3*a_lscdr**4*b_lscdr**8*h**2*k*sin(psi)**6*sin(2*psi)**3 + sqrt(2)*a_lscdr**4*b_lscdr**8*h**2*k*sin(psi)**6*sin(2*psi)**2*cos(2*psi + pi/4) - a_lscdr**4*b_lscdr**8*h**2*k*sin(psi)**6*sin(2*psi)**2 - 8*sqrt(2)*a_lscdr**4*b_lscdr**8*h**2*k*sin(psi)**6*sin(2*psi)*sin(2*psi + pi/4)*cos(psi)**2 + 4*sqrt(2)*a_lscdr**4*b_lscdr**8*h**2*k*sin(psi)**6*sin(2*psi)*sin(2*psi + pi/4)*cos(2*psi) - 2*sqrt(2)*a_lscdr**4*b_lscdr**8*h**2*k*sin(psi)**6*sin(2*psi)*sin(2*psi + pi/4) - 8*a_lscdr**4*b_lscdr**8*h**2*k*sin(psi)**6*sin(2*psi)*cos(psi)**2 + 8*a_lscdr**4*b_lscdr**8*h**2*k*sin(psi)**6*sin(2*psi)*cos(2*psi)**2 - 5*a_lscdr**4*b_lscdr**8*h**2*k*sin(psi)**6*sin(2*psi)*cos(2*psi) - a_lscdr**4*b_lscdr**8*h**2*k*sin(psi)**6*sin(2*psi) + 8*sqrt(2)*a_lscdr**4*b_lscdr**8*h**2*k*sin(psi)**6*cos(psi)**2*cos(2*psi)*cos(2*psi + pi/4) - 8*a_lscdr**4*b_lscdr**8*h**2*k*sin(psi)**6*cos(psi)**2*cos(2*psi) - 8*sqrt(2)*a_lscdr**4*b_lscdr**8*h**2*k*sin(psi)**6*cos(psi)**2*cos(2*psi + pi/4) + 8*a_lscdr**4*b_lscdr**8*h**2*k*sin(psi)**6*cos(psi)**2 - sqrt(2)*a_lscdr**4*b_lscdr**8*h**2*k*sin(psi)**6*cos(2*psi)*cos(4*psi + pi/4)/2 + a_lscdr**4*b_lscdr**8*h**2*k*sin(psi)**6*cos(2*psi)/2 + sqrt(2)*a_lscdr**4*b_lscdr**8*h**2*k*sin(psi)**6*cos(4*psi + pi/4)/2 - a_lscdr**4*b_lscdr**8*h**2*k*sin(psi)**6/2 - 5*sqrt(2)*a_lscdr**4*b_lscdr**8*h**2*k*sin(psi)**4*sin(2*psi)**3*sin(2*psi + pi/4) + 6*a_lscdr**4*b_lscdr**8*h**2*k*sin(psi)**4*sin(2*psi)**3*cos(psi)**2 - 43*a_lscdr**4*b_lscdr**8*h**2*k*sin(psi)**4*sin(2*psi)**3*cos(2*psi)/2 + 5*a_lscdr**4*b_lscdr**8*h**2*k*sin(psi)**4*sin(2*psi)**3/2 - 9*sqrt(2)*a_lscdr**4*b_lscdr**8*h**2*k*sin(psi)**4*sin(2*psi)**2*cos(psi)**2*cos(2*psi + pi/4) + 9*a_lscdr**4*b_lscdr**8*h**2*k*sin(psi)**4*sin(2*psi)**2*cos(psi)**2 + sqrt(2)*a_lscdr**4*b_lscdr**8*h**2*k*sin(psi)**4*sin(2*psi)**2*cos(4*psi + pi/4) - a_lscdr**4*b_lscdr**8*h**2*k*sin(psi)**4*sin(2*psi)**2 - 24*sqrt(2)*a_lscdr**4*b_lscdr**8*h**2*k*sin(psi)**4*sin(2*psi)*sin(2*psi + pi/4)*cos(psi)**2*cos(2*psi) + 3*sqrt(2)*a_lscdr**4*b_lscdr**8*h**2*k*sin(psi)**4*sin(2*psi)*sin(2*psi + pi/4)*cos(psi)**2 - 12*a_lscdr**4*b_lscdr**8*h**2*k*sin(psi)**4*sin(2*psi)*cos(psi)**2*cos(2*psi)**2 - 15*a_lscdr**4*b_lscdr**8*h**2*k*sin(psi)**4*sin(2*psi)*cos(psi)**2*cos(2*psi) + 6*a_lscdr**4*b_lscdr**8*h**2*k*sin(psi)**4*sin(2*psi)*cos(psi)**2 + 10*a_lscdr**4*b_lscdr**8*h**2*k*sin(psi)**4*sin(2*psi)*cos(2*psi) - 2*a_lscdr**4*b_lscdr**8*h**2*k*sin(psi)**4*sin(2*psi) - 24*a_lscdr**4*b_lscdr**8*h**2*k*sin(psi)**4*sin(2*psi + pi/4)*cos(psi)**4*cos(2*psi + pi/4) + 12*sqrt(2)*a_lscdr**4*b_lscdr**8*h**2*k*sin(psi)**4*sin(2*psi + pi/4)*cos(psi)**4 + 3*a_lscdr**4*b_lscdr**8*h**2*k*sin(psi)**4*sin(2*psi + pi/4)*cos(psi)**2*cos(4*psi + pi/4) - 3*sqrt(2)*a_lscdr**4*b_lscdr**8*h**2*k*sin(psi)**4*sin(2*psi + pi/4)*cos(psi)**2/2 - 12*sqrt(2)*a_lscdr**4*b_lscdr**8*h**2*k*sin(psi)**4*cos(psi)**4*cos(2*psi + pi/4) + 12*a_lscdr**4*b_lscdr**8*h**2*k*sin(psi)**4*cos(psi)**4 + 3*sqrt(2)*a_lscdr**4*b_lscdr**8*h**2*k*sin(psi)**4*cos(psi)**2*cos(2*psi)*cos(4*psi + pi/4)/2 - 3*a_lscdr**4*b_lscdr**8*h**2*k*sin(psi)**4*cos(psi)**2*cos(2*psi)/2 + 12*a_lscdr**4*b_lscdr**8*h**2*k*sin(psi)**2*sin(2*psi)**5 + 11*sqrt(2)*a_lscdr**4*b_lscdr**8*h**2*k*sin(psi)**2*sin(2*psi)**3*sin(2*psi + pi/4)*cos(psi)**2 + 27*a_lscdr**4*b_lscdr**8*h**2*k*sin(psi)**2*sin(2*psi)**3*cos(psi)**2*cos(2*psi) + 9*a_lscdr**4*b_lscdr**8*h**2*k*sin(psi)**2*sin(2*psi)**3*cos(psi)**2 - 15*a_lscdr**4*b_lscdr**8*h**2*k*sin(psi)**2*sin(2*psi)**3 + 6*sqrt(2)*a_lscdr**4*b_lscdr**8*h**2*k*sin(psi)**2*sin(2*psi)**2*cos(psi)**4*cos(2*psi + pi/4) - 6*a_lscdr**4*b_lscdr**8*h**2*k*sin(psi)**2*sin(2*psi)**2*cos(psi)**4 - 5*sqrt(2)*a_lscdr**4*b_lscdr**8*h**2*k*sin(psi)**2*sin(2*psi)**2*cos(psi)**2*cos(4*psi + pi/4)/2 + 5*a_lscdr**4*b_lscdr**8*h**2*k*sin(psi)**2*sin(2*psi)**2*cos(psi)**2/2 + 12*sqrt(2)*a_lscdr**4*b_lscdr**8*h**2*k*sin(psi)**2*sin(2*psi)*sin(2*psi + pi/4)*cos(psi)**4*cos(2*psi) + 3*sqrt(2)*a_lscdr**4*b_lscdr**8*h**2*k*sin(psi)**2*sin(2*psi)*sin(2*psi + pi/4)*cos(psi)**4 - 8*sqrt(2)*a_lscdr**4*b_lscdr**8*h**2*k*sin(psi)**2*sin(2*psi)*sin(2*psi + pi/4)*cos(psi)**2 + 12*a_lscdr**4*b_lscdr**8*h**2*k*sin(psi)**2*sin(2*psi)*cos(psi)**4*cos(2*psi) + 3*a_lscdr**4*b_lscdr**8*h**2*k*sin(psi)**2*sin(2*psi)*cos(psi)**4 - 8*a_lscdr**4*b_lscdr**8*h**2*k*sin(psi)**2*sin(2*psi)*cos(psi)**2*cos(2*psi) - 8*a_lscdr**4*b_lscdr**8*h**2*k*sin(psi)**2*sin(2*psi)*cos(psi)**2 - 3*a_lscdr**4*b_lscdr**8*h**2*k*sin(psi)**2*sin(2*psi + pi/4)*cos(psi)**4*cos(4*psi + pi/4) + 3*sqrt(2)*a_lscdr**4*b_lscdr**8*h**2*k*sin(psi)**2*sin(2*psi + pi/4)*cos(psi)**4/2 - 3*sqrt(2)*a_lscdr**4*b_lscdr**8*h**2*k*sin(psi)**2*cos(psi)**4*cos(4*psi + pi/4)/2 + 3*a_lscdr**4*b_lscdr**8*h**2*k*sin(psi)**2*cos(psi)**4/2 - 27*a_lscdr**4*b_lscdr**8*h**2*k*sin(2*psi)**5*cos(psi)**2/4 - 2*sqrt(2)*a_lscdr**4*b_lscdr**8*h**2*k*sin(2*psi)**3*sin(2*psi + pi/4)*cos(psi)**4 - 3*a_lscdr**4*b_lscdr**8*h**2*k*sin(2*psi)**3*cos(psi)**4*cos(2*psi) - 3*a_lscdr**4*b_lscdr**8*h**2*k*sin(2*psi)**3*cos(psi)**4 + 6*a_lscdr**4*b_lscdr**8*h**2*k*sin(2*psi)**3*cos(psi)**2 + sqrt(2)*a_lscdr**4*b_lscdr**8*h**2*k*sin(2*psi)**2*cos(psi)**4*cos(4*psi + pi/4)/2 - a_lscdr**4*b_lscdr**8*h**2*k*sin(2*psi)**2*cos(psi)**4/2 + 2*a_lscdr**4*b_lscdr**8*h*k**2*sin(psi)**8*cos(2*psi)**2 - 4*a_lscdr**4*b_lscdr**8*h*k**2*sin(psi)**8*cos(2*psi) + 2*a_lscdr**4*b_lscdr**8*h*k**2*sin(psi)**8 - sqrt(2)*a_lscdr**4*b_lscdr**8*h*k**2*sin(psi)**6*sin(2*psi)**2*sin(2*psi + pi/4) + 8*a_lscdr**4*b_lscdr**8*h*k**2*sin(psi)**6*sin(2*psi)**2*cos(psi)**2 - 11*a_lscdr**4*b_lscdr**8*h*k**2*sin(psi)**6*sin(2*psi)**2*cos(2*psi) + 6*a_lscdr**4*b_lscdr**8*h*k**2*sin(psi)**6*sin(2*psi)**2 - 8*sqrt(2)*a_lscdr**4*b_lscdr**8*h*k**2*sin(psi)**6*sin(2*psi + pi/4)*cos(psi)**2*cos(2*psi) + 8*sqrt(2)*a_lscdr**4*b_lscdr**8*h*k**2*sin(psi)**6*sin(2*psi + pi/4)*cos(psi)**2 - 16*a_lscdr**4*b_lscdr**8*h*k**2*sin(psi)**6*cos(psi)**2*cos(2*psi)**2 + 8*a_lscdr**4*b_lscdr**8*h*k**2*sin(psi)**6*cos(psi)**2*cos(2*psi) + 8*a_lscdr**4*b_lscdr**8*h*k**2*sin(psi)**6*cos(psi)**2 + 19*a_lscdr**4*b_lscdr**8*h*k**2*sin(psi)**4*sin(2*psi)**4/2 + 9*sqrt(2)*a_lscdr**4*b_lscdr**8*h*k**2*sin(psi)**4*sin(2*psi)**2*sin(2*psi + pi/4)*cos(psi)**2 + 45*a_lscdr**4*b_lscdr**8*h*k**2*sin(psi)**4*sin(2*psi)**2*cos(psi)**2*cos(2*psi) - 3*a_lscdr**4*b_lscdr**8*h*k**2*sin(psi)**4*sin(2*psi)**2*cos(psi)**2 - 4*a_lscdr**4*b_lscdr**8*h*k**2*sin(psi)**4*sin(2*psi)**2 + 12*sqrt(2)*a_lscdr**4*b_lscdr**8*h*k**2*sin(psi)**4*sin(2*psi)*cos(psi)**4*cos(2*psi + pi/4) - 12*a_lscdr**4*b_lscdr**8*h*k**2*sin(psi)**4*sin(2*psi)*cos(psi)**4 - 3*sqrt(2)*a_lscdr**4*b_lscdr**8*h*k**2*sin(psi)**4*sin(2*psi)*cos(psi)**2*cos(4*psi + pi/4)/2 + 3*a_lscdr**4*b_lscdr**8*h*k**2*sin(psi)**4*sin(2*psi)*cos(psi)**2/2 + 24*sqrt(2)*a_lscdr**4*b_lscdr**8*h*k**2*sin(psi)**4*sin(2*psi + pi/4)*cos(psi)**4*cos(2*psi) + 24*a_lscdr**4*b_lscdr**8*h*k**2*sin(psi)**4*cos(psi)**4*cos(2*psi) - 18*a_lscdr**4*b_lscdr**8*h*k**2*sin(psi)**2*sin(2*psi)**4*cos(psi)**2 - 6*sqrt(2)*a_lscdr**4*b_lscdr**8*h*k**2*sin(psi)**2*sin(2*psi)**2*sin(2*psi + pi/4)*cos(psi)**4 - 18*a_lscdr**4*b_lscdr**8*h*k**2*sin(psi)**2*sin(2*psi)**2*cos(psi)**4*cos(2*psi) - 9*a_lscdr**4*b_lscdr**8*h*k**2*sin(psi)**2*sin(2*psi)**2*cos(psi)**4 + 8*a_lscdr**4*b_lscdr**8*h*k**2*sin(psi)**2*sin(2*psi)**2*cos(psi)**2 + 3*sqrt(2)*a_lscdr**4*b_lscdr**8*h*k**2*sin(psi)**2*sin(2*psi)*cos(psi)**4*cos(4*psi + pi/4)/2 - 3*a_lscdr**4*b_lscdr**8*h*k**2*sin(psi)**2*sin(2*psi)*cos(psi)**4/2 + 3*a_lscdr**4*b_lscdr**8*h*k**2*sin(2*psi)**4*cos(psi)**4 + a_lscdr**4*b_lscdr**8*k**3*sin(psi)**6*sin(2*psi)**3 + 8*a_lscdr**4*b_lscdr**8*k**3*sin(psi)**6*sin(2*psi)*cos(psi)**2*cos(2*psi) - 8*a_lscdr**4*b_lscdr**8*k**3*sin(psi)**6*sin(2*psi)*cos(psi)**2 - 9*a_lscdr**4*b_lscdr**8*k**3*sin(psi)**4*sin(2*psi)**3*cos(psi)**2 - 24*a_lscdr**4*b_lscdr**8*k**3*sin(psi)**4*sin(2*psi)*cos(psi)**4*cos(2*psi) + 6*a_lscdr**4*b_lscdr**8*k**3*sin(psi)**2*sin(2*psi)**3*cos(psi)**4 + 2*sqrt(2)*a_lscdr**2*b_lscdr**12*h*sin(psi)**6*sin(2*psi)*cos(2*psi + pi/4) - 2*a_lscdr**2*b_lscdr**12*h*sin(psi)**6*sin(2*psi) - 4*sqrt(2)*a_lscdr**2*b_lscdr**12*h*sin(psi)**6*sin(2*psi + pi/4)*cos(2*psi) - 4*a_lscdr**2*b_lscdr**12*h*sin(psi)**6*cos(2*psi) + 2*sqrt(2)*a_lscdr**2*b_lscdr**12*h*sin(psi)**4*sin(2*psi)**2*sin(2*psi + pi/4) + 2*a_lscdr**2*b_lscdr**12*h*sin(psi)**4*sin(2*psi)**2*cos(2*psi) + a_lscdr**2*b_lscdr**12*h*sin(psi)**4*sin(2*psi)**2 + sqrt(2)*a_lscdr**2*b_lscdr**12*h*sin(psi)**4*sin(2*psi)*cos(4*psi + pi/4)/2 - a_lscdr**2*b_lscdr**12*h*sin(psi)**4*sin(2*psi)/2 - a_lscdr**2*b_lscdr**12*h*sin(psi)**2*sin(2*psi)**4 + 4*a_lscdr**2*b_lscdr**12*k*sin(psi)**6*sin(2*psi)*cos(2*psi) - 2*a_lscdr**2*b_lscdr**12*k*sin(psi)**4*sin(2*psi)**3 - sqrt(2)*a_lscdr**2*b_lscdr**10*h**3*sin(psi)**6*sin(2*psi)**2*sin(2*psi + pi/4) - a_lscdr**2*b_lscdr**10*h**3*sin(psi)**6*sin(2*psi)**2 + 2*a_lscdr**2*b_lscdr**10*h**3*sin(psi)**6*sin(2*psi)*sin(2*psi + pi/4)*cos(2*psi + pi/4) - sqrt(2)*a_lscdr**2*b_lscdr**10*h**3*sin(psi)**6*sin(2*psi)*sin(2*psi + pi/4) + sqrt(2)*a_lscdr**2*b_lscdr**10*h**3*sin(psi)**6*sin(2*psi)*cos(2*psi)*cos(2*psi + pi/4) - a_lscdr**2*b_lscdr**10*h**3*sin(psi)**6*sin(2*psi)*cos(2*psi) + a_lscdr**2*b_lscdr**10*h**3*sin(psi)**4*sin(2*psi)**4/2 - 3*sqrt(2)*a_lscdr**2*b_lscdr**10*h**3*sin(psi)**4*sin(2*psi)**3*cos(2*psi + pi/4)/2 + 3*a_lscdr**2*b_lscdr**10*h**3*sin(psi)**4*sin(2*psi)**3/2 - 7*sqrt(2)*a_lscdr**2*b_lscdr**10*h**3*sin(psi)**4*sin(2*psi)**2*sin(2*psi + pi/4)*cos(2*psi)/2 - sqrt(2)*a_lscdr**2*b_lscdr**10*h**3*sin(psi)**4*sin(2*psi)**2*sin(2*psi + pi/4)/2 - a_lscdr**2*b_lscdr**10*h**3*sin(psi)**4*sin(2*psi)**2*cos(2*psi)**2 - 3*a_lscdr**2*b_lscdr**10*h**3*sin(psi)**4*sin(2*psi)**2*cos(2*psi) - 6*a_lscdr**2*b_lscdr**10*h**3*sin(psi)**4*sin(2*psi)*sin(2*psi + pi/4)*cos(psi)**2*cos(2*psi + pi/4) + 3*sqrt(2)*a_lscdr**2*b_lscdr**10*h**3*sin(psi)**4*sin(2*psi)*sin(2*psi + pi/4)*cos(psi)**2 + a_lscdr**2*b_lscdr**10*h**3*sin(psi)**4*sin(2*psi)*sin(2*psi + pi/4)*cos(4*psi + pi/4) - sqrt(2)*a_lscdr**2*b_lscdr**10*h**3*sin(psi)**4*sin(2*psi)*sin(2*psi + pi/4)/2 - 3*sqrt(2)*a_lscdr**2*b_lscdr**10*h**3*sin(psi)**4*sin(2*psi)*cos(psi)**2*cos(2*psi + pi/4) + 3*a_lscdr**2*b_lscdr**10*h**3*sin(psi)**4*sin(2*psi)*cos(psi)**2 + sqrt(2)*a_lscdr**2*b_lscdr**10*h**3*sin(psi)**4*sin(2*psi)*cos(2*psi)*cos(4*psi + pi/4)/4 - a_lscdr**2*b_lscdr**10*h**3*sin(psi)**4*sin(2*psi)*cos(2*psi)/4 - 2*sqrt(2)*a_lscdr**2*b_lscdr**10*h**3*sin(psi)**4*sin(2*psi)*cos(2*psi + pi/4) + sqrt(2)*a_lscdr**2*b_lscdr**10*h**3*sin(psi)**4*sin(2*psi)*cos(4*psi + pi/4)/4 + 7*a_lscdr**2*b_lscdr**10*h**3*sin(psi)**4*sin(2*psi)/4 + 4*a_lscdr**2*b_lscdr**10*h**3*sin(psi)**4*sin(2*psi + pi/4)**2 + 4*sqrt(2)*a_lscdr**2*b_lscdr**10*h**3*sin(psi)**4*sin(2*psi + pi/4)*cos(2*psi) + 4*sqrt(2)*a_lscdr**2*b_lscdr**10*h**3*sin(psi)**4*sin(2*psi + pi/4) + 4*a_lscdr**2*b_lscdr**10*h**3*sin(psi)**4*cos(2*psi) + 2*a_lscdr**2*b_lscdr**10*h**3*sin(psi)**4 + 2*sqrt(2)*a_lscdr**2*b_lscdr**10*h**3*sin(psi)**2*sin(2*psi)**4*sin(2*psi + pi/4) + 13*a_lscdr**2*b_lscdr**10*h**3*sin(psi)**2*sin(2*psi)**4*cos(2*psi)/4 + 9*a_lscdr**2*b_lscdr**10*h**3*sin(psi)**2*sin(2*psi)**4/4 + sqrt(2)*a_lscdr**2*b_lscdr**10*h**3*sin(psi)**2*sin(2*psi)**3*cos(psi)**2*cos(2*psi + pi/4) - a_lscdr**2*b_lscdr**10*h**3*sin(psi)**2*sin(2*psi)**3*cos(psi)**2 - sqrt(2)*a_lscdr**2*b_lscdr**10*h**3*sin(psi)**2*sin(2*psi)**3*cos(4*psi + pi/4)/2 + a_lscdr**2*b_lscdr**10*h**3*sin(psi)**2*sin(2*psi)**3/2 + 2*sqrt(2)*a_lscdr**2*b_lscdr**10*h**3*sin(psi)**2*sin(2*psi)**2*sin(2*psi + pi/4)*cos(psi)**2*cos(2*psi) + sqrt(2)*a_lscdr**2*b_lscdr**10*h**3*sin(psi)**2*sin(2*psi)**2*sin(2*psi + pi/4)*cos(psi)**2 - 4*sqrt(2)*a_lscdr**2*b_lscdr**10*h**3*sin(psi)**2*sin(2*psi)**2*sin(2*psi + pi/4) + 2*a_lscdr**2*b_lscdr**10*h**3*sin(psi)**2*sin(2*psi)**2*cos(psi)**2*cos(2*psi) + a_lscdr**2*b_lscdr**10*h**3*sin(psi)**2*sin(2*psi)**2*cos(psi)**2 - 2*a_lscdr**2*b_lscdr**10*h**3*sin(psi)**2*sin(2*psi)**2*cos(2*psi) - 3*a_lscdr**2*b_lscdr**10*h**3*sin(psi)**2*sin(2*psi)**2 - a_lscdr**2*b_lscdr**10*h**3*sin(psi)**2*sin(2*psi)*sin(2*psi + pi/4)*cos(psi)**2*cos(4*psi + pi/4) + sqrt(2)*a_lscdr**2*b_lscdr**10*h**3*sin(psi)**2*sin(2*psi)*sin(2*psi + pi/4)*cos(psi)**2/2 - sqrt(2)*a_lscdr**2*b_lscdr**10*h**3*sin(psi)**2*sin(2*psi)*cos(psi)**2*cos(4*psi + pi/4)/2 + a_lscdr**2*b_lscdr**10*h**3*sin(psi)**2*sin(2*psi)*cos(psi)**2/2 - sqrt(2)*a_lscdr**2*b_lscdr**10*h**3*sin(psi)**2*sin(2*psi)*cos(4*psi + pi/4)/2 + a_lscdr**2*b_lscdr**10*h**3*sin(psi)**2*sin(2*psi)/2 - 3*a_lscdr**2*b_lscdr**10*h**3*sin(2*psi)**6/2 - sqrt(2)*a_lscdr**2*b_lscdr**10*h**3*sin(2*psi)**4*sin(2*psi + pi/4)*cos(psi)**2/2 - a_lscdr**2*b_lscdr**10*h**3*sin(2*psi)**4*cos(psi)**2*cos(2*psi)/2 - 3*a_lscdr**2*b_lscdr**10*h**3*sin(2*psi)**4*cos(psi)**2/4 + 2*a_lscdr**2*b_lscdr**10*h**3*sin(2*psi)**4 + sqrt(2)*a_lscdr**2*b_lscdr**10*h**3*sin(2*psi)**3*cos(psi)**2*cos(4*psi + pi/4)/8 - a_lscdr**2*b_lscdr**10*h**3*sin(2*psi)**3*cos(psi)**2/8 - 2*sqrt(2)*a_lscdr**2*b_lscdr**10*h**2*k*sin(psi)**8*sin(2*psi)*sin(2*psi + pi/4) - 2*a_lscdr**2*b_lscdr**10*h**2*k*sin(psi)**8*sin(2*psi) + 2*sqrt(2)*a_lscdr**2*b_lscdr**10*h**2*k*sin(psi)**8*cos(2*psi)*cos(2*psi + pi/4) - 2*a_lscdr**2*b_lscdr**10*h**2*k*sin(psi)**8*cos(2*psi) - 2*sqrt(2)*a_lscdr**2*b_lscdr**10*h**2*k*sin(psi)**8*cos(2*psi + pi/4) + 2*a_lscdr**2*b_lscdr**10*h**2*k*sin(psi)**8 + 2*a_lscdr**2*b_lscdr**10*h**2*k*sin(psi)**6*sin(2*psi)**3 - 3*sqrt(2)*a_lscdr**2*b_lscdr**10*h**2*k*sin(psi)**6*sin(2*psi)**2*cos(2*psi + pi/4) + 3*a_lscdr**2*b_lscdr**10*h**2*k*sin(psi)**6*sin(2*psi)**2 - 8*sqrt(2)*a_lscdr**2*b_lscdr**10*h**2*k*sin(psi)**6*sin(2*psi)*sin(2*psi + pi/4)*cos(2*psi) + sqrt(2)*a_lscdr**2*b_lscdr**10*h**2*k*sin(psi)**6*sin(2*psi)*sin(2*psi + pi/4) - 4*a_lscdr**2*b_lscdr**10*h**2*k*sin(psi)**6*sin(2*psi)*cos(2*psi)**2 - 5*a_lscdr**2*b_lscdr**10*h**2*k*sin(psi)**6*sin(2*psi)*cos(2*psi) + 2*a_lscdr**2*b_lscdr**10*h**2*k*sin(psi)**6*sin(2*psi) - 16*a_lscdr**2*b_lscdr**10*h**2*k*sin(psi)**6*sin(2*psi + pi/4)*cos(psi)**2*cos(2*psi + pi/4) + 8*sqrt(2)*a_lscdr**2*b_lscdr**10*h**2*k*sin(psi)**6*sin(2*psi + pi/4)*cos(psi)**2 + a_lscdr**2*b_lscdr**10*h**2*k*sin(psi)**6*sin(2*psi + pi/4)*cos(4*psi + pi/4) - sqrt(2)*a_lscdr**2*b_lscdr**10*h**2*k*sin(psi)**6*sin(2*psi + pi/4)/2 - 8*sqrt(2)*a_lscdr**2*b_lscdr**10*h**2*k*sin(psi)**6*cos(psi)**2*cos(2*psi + pi/4) + 8*a_lscdr**2*b_lscdr**10*h**2*k*sin(psi)**6*cos(psi)**2 + sqrt(2)*a_lscdr**2*b_lscdr**10*h**2*k*sin(psi)**6*cos(2*psi)*cos(4*psi + pi/4)/2 - a_lscdr**2*b_lscdr**10*h**2*k*sin(psi)**6*cos(2*psi)/2 + 11*sqrt(2)*a_lscdr**2*b_lscdr**10*h**2*k*sin(psi)**4*sin(2*psi)**3*sin(2*psi + pi/4)/2 + 27*a_lscdr**2*b_lscdr**10*h**2*k*sin(psi)**4*sin(2*psi)**3*cos(2*psi)/2 + 9*a_lscdr**2*b_lscdr**10*h**2*k*sin(psi)**4*sin(2*psi)**3/2 + 6*sqrt(2)*a_lscdr**2*b_lscdr**10*h**2*k*sin(psi)**4*sin(2*psi)**2*cos(psi)**2*cos(2*psi + pi/4) - 6*a_lscdr**2*b_lscdr**10*h**2*k*sin(psi)**4*sin(2*psi)**2*cos(psi)**2 - 5*sqrt(2)*a_lscdr**2*b_lscdr**10*h**2*k*sin(psi)**4*sin(2*psi)**2*cos(4*psi + pi/4)/4 + 5*a_lscdr**2*b_lscdr**10*h**2*k*sin(psi)**4*sin(2*psi)**2/4 + 12*sqrt(2)*a_lscdr**2*b_lscdr**10*h**2*k*sin(psi)**4*sin(2*psi)*sin(2*psi + pi/4)*cos(psi)**2*cos(2*psi) + 3*sqrt(2)*a_lscdr**2*b_lscdr**10*h**2*k*sin(psi)**4*sin(2*psi)*sin(2*psi + pi/4)*cos(psi)**2 - 4*sqrt(2)*a_lscdr**2*b_lscdr**10*h**2*k*sin(psi)**4*sin(2*psi)*sin(2*psi + pi/4) + 12*a_lscdr**2*b_lscdr**10*h**2*k*sin(psi)**4*sin(2*psi)*cos(psi)**2*cos(2*psi) + 3*a_lscdr**2*b_lscdr**10*h**2*k*sin(psi)**4*sin(2*psi)*cos(psi)**2 - 4*a_lscdr**2*b_lscdr**10*h**2*k*sin(psi)**4*sin(2*psi)*cos(2*psi) - 4*a_lscdr**2*b_lscdr**10*h**2*k*sin(psi)**4*sin(2*psi) - 3*a_lscdr**2*b_lscdr**10*h**2*k*sin(psi)**4*sin(2*psi + pi/4)*cos(psi)**2*cos(4*psi + pi/4) + 3*sqrt(2)*a_lscdr**2*b_lscdr**10*h**2*k*sin(psi)**4*sin(2*psi + pi/4)*cos(psi)**2/2 - 3*sqrt(2)*a_lscdr**2*b_lscdr**10*h**2*k*sin(psi)**4*cos(psi)**2*cos(4*psi + pi/4)/2 + 3*a_lscdr**2*b_lscdr**10*h**2*k*sin(psi)**4*cos(psi)**2/2 - 27*a_lscdr**2*b_lscdr**10*h**2*k*sin(psi)**2*sin(2*psi)**5/4 - 4*sqrt(2)*a_lscdr**2*b_lscdr**10*h**2*k*sin(psi)**2*sin(2*psi)**3*sin(2*psi + pi/4)*cos(psi)**2 - 6*a_lscdr**2*b_lscdr**10*h**2*k*sin(psi)**2*sin(2*psi)**3*cos(psi)**2*cos(2*psi) - 6*a_lscdr**2*b_lscdr**10*h**2*k*sin(psi)**2*sin(2*psi)**3*cos(psi)**2 + 6*a_lscdr**2*b_lscdr**10*h**2*k*sin(psi)**2*sin(2*psi)**3 + sqrt(2)*a_lscdr**2*b_lscdr**10*h**2*k*sin(psi)**2*sin(2*psi)**2*cos(psi)**2*cos(4*psi + pi/4) - a_lscdr**2*b_lscdr**10*h**2*k*sin(psi)**2*sin(2*psi)**2*cos(psi)**2 + 3*a_lscdr**2*b_lscdr**10*h**2*k*sin(2*psi)**5*cos(psi)**2/2 + 2*a_lscdr**2*b_lscdr**10*h*k**2*sin(psi)**8*sin(2*psi)**2 - 2*sqrt(2)*a_lscdr**2*b_lscdr**10*h*k**2*sin(psi)**8*sin(2*psi + pi/4)*cos(2*psi) + 2*sqrt(2)*a_lscdr**2*b_lscdr**10*h*k**2*sin(psi)**8*sin(2*psi + pi/4) - 4*a_lscdr**2*b_lscdr**10*h*k**2*sin(psi)**8*cos(2*psi)**2 + 2*a_lscdr**2*b_lscdr**10*h*k**2*sin(psi)**8*cos(2*psi) + 2*a_lscdr**2*b_lscdr**10*h*k**2*sin(psi)**8 + 3*sqrt(2)*a_lscdr**2*b_lscdr**10*h*k**2*sin(psi)**6*sin(2*psi)**2*sin(2*psi + pi/4) + 15*a_lscdr**2*b_lscdr**10*h*k**2*sin(psi)**6*sin(2*psi)**2*cos(2*psi) - a_lscdr**2*b_lscdr**10*h*k**2*sin(psi)**6*sin(2*psi)**2 + 8*sqrt(2)*a_lscdr**2*b_lscdr**10*h*k**2*sin(psi)**6*sin(2*psi)*cos(psi)**2*cos(2*psi + pi/4) - 8*a_lscdr**2*b_lscdr**10*h*k**2*sin(psi)**6*sin(2*psi)*cos(psi)**2 - sqrt(2)*a_lscdr**2*b_lscdr**10*h*k**2*sin(psi)**6*sin(2*psi)*cos(4*psi + pi/4)/2 + a_lscdr**2*b_lscdr**10*h*k**2*sin(psi)**6*sin(2*psi)/2 + 16*sqrt(2)*a_lscdr**2*b_lscdr**10*h*k**2*sin(psi)**6*sin(2*psi + pi/4)*cos(psi)**2*cos(2*psi) + 16*a_lscdr**2*b_lscdr**10*h*k**2*sin(psi)**6*cos(psi)**2*cos(2*psi) - 9*a_lscdr**2*b_lscdr**10*h*k**2*sin(psi)**4*sin(2*psi)**4 - 6*sqrt(2)*a_lscdr**2*b_lscdr**10*h*k**2*sin(psi)**4*sin(2*psi)**2*sin(2*psi + pi/4)*cos(psi)**2 - 18*a_lscdr**2*b_lscdr**10*h*k**2*sin(psi)**4*sin(2*psi)**2*cos(psi)**2*cos(2*psi) - 9*a_lscdr**2*b_lscdr**10*h*k**2*sin(psi)**4*sin(2*psi)**2*cos(psi)**2 + 4*a_lscdr**2*b_lscdr**10*h*k**2*sin(psi)**4*sin(2*psi)**2 + 3*sqrt(2)*a_lscdr**2*b_lscdr**10*h*k**2*sin(psi)**4*sin(2*psi)*cos(psi)**2*cos(4*psi + pi/4)/2 - 3*a_lscdr**2*b_lscdr**10*h*k**2*sin(psi)**4*sin(2*psi)*cos(psi)**2/2 + 6*a_lscdr**2*b_lscdr**10*h*k**2*sin(psi)**2*sin(2*psi)**4*cos(psi)**2 + 2*a_lscdr**2*b_lscdr**10*k**3*sin(psi)**8*sin(2*psi)*cos(2*psi) - 2*a_lscdr**2*b_lscdr**10*k**3*sin(psi)**8*sin(2*psi) - 3*a_lscdr**2*b_lscdr**10*k**3*sin(psi)**6*sin(2*psi)**3 - 16*a_lscdr**2*b_lscdr**10*k**3*sin(psi)**6*sin(2*psi)*cos(psi)**2*cos(2*psi) + 6*a_lscdr**2*b_lscdr**10*k**3*sin(psi)**4*sin(2*psi)**3*cos(psi)**2 - 2*b_lscdr**12*h**3*sin(psi)**6*sin(2*psi)*sin(2*psi + pi/4)*cos(2*psi + pi/4) + sqrt(2)*b_lscdr**12*h**3*sin(psi)**6*sin(2*psi)*sin(2*psi + pi/4) - sqrt(2)*b_lscdr**12*h**3*sin(psi)**6*sin(2*psi)*cos(2*psi + pi/4) + b_lscdr**12*h**3*sin(psi)**6*sin(2*psi) + sqrt(2)*b_lscdr**12*h**3*sin(psi)**4*sin(2*psi)**3*cos(2*psi + pi/4)/2 - b_lscdr**12*h**3*sin(psi)**4*sin(2*psi)**3/2 + sqrt(2)*b_lscdr**12*h**3*sin(psi)**4*sin(2*psi)**2*sin(2*psi + pi/4)*cos(2*psi) + sqrt(2)*b_lscdr**12*h**3*sin(psi)**4*sin(2*psi)**2*sin(2*psi + pi/4)/2 + b_lscdr**12*h**3*sin(psi)**4*sin(2*psi)**2*cos(2*psi) + b_lscdr**12*h**3*sin(psi)**4*sin(2*psi)**2/2 - b_lscdr**12*h**3*sin(psi)**4*sin(2*psi)*sin(2*psi + pi/4)*cos(4*psi + pi/4)/2 + sqrt(2)*b_lscdr**12*h**3*sin(psi)**4*sin(2*psi)*sin(2*psi + pi/4)/4 - sqrt(2)*b_lscdr**12*h**3*sin(psi)**4*sin(2*psi)*cos(4*psi + pi/4)/4 + b_lscdr**12*h**3*sin(psi)**4*sin(2*psi)/4 - sqrt(2)*b_lscdr**12*h**3*sin(psi)**2*sin(2*psi)**4*sin(2*psi + pi/4)/2 - b_lscdr**12*h**3*sin(psi)**2*sin(2*psi)**4*cos(2*psi)/2 - 3*b_lscdr**12*h**3*sin(psi)**2*sin(2*psi)**4/4 + sqrt(2)*b_lscdr**12*h**3*sin(psi)**2*sin(2*psi)**3*cos(4*psi + pi/4)/8 - b_lscdr**12*h**3*sin(psi)**2*sin(2*psi)**3/8 + b_lscdr**12*h**3*sin(2*psi)**6/4 - 4*b_lscdr**12*h**2*k*sin(psi)**8*sin(2*psi + pi/4)*cos(2*psi + pi/4) + 2*sqrt(2)*b_lscdr**12*h**2*k*sin(psi)**8*sin(2*psi + pi/4) - 2*sqrt(2)*b_lscdr**12*h**2*k*sin(psi)**8*cos(2*psi + pi/4) + 2*b_lscdr**12*h**2*k*sin(psi)**8 + 2*sqrt(2)*b_lscdr**12*h**2*k*sin(psi)**6*sin(2*psi)**2*cos(2*psi + pi/4) - 2*b_lscdr**12*h**2*k*sin(psi)**6*sin(2*psi)**2 + 4*sqrt(2)*b_lscdr**12*h**2*k*sin(psi)**6*sin(2*psi)*sin(2*psi + pi/4)*cos(2*psi) + sqrt(2)*b_lscdr**12*h**2*k*sin(psi)**6*sin(2*psi)*sin(2*psi + pi/4) + 4*b_lscdr**12*h**2*k*sin(psi)**6*sin(2*psi)*cos(2*psi) + b_lscdr**12*h**2*k*sin(psi)**6*sin(2*psi) - b_lscdr**12*h**2*k*sin(psi)**6*sin(2*psi + pi/4)*cos(4*psi + pi/4) + sqrt(2)*b_lscdr**12*h**2*k*sin(psi)**6*sin(2*psi + pi/4)/2 - sqrt(2)*b_lscdr**12*h**2*k*sin(psi)**6*cos(4*psi + pi/4)/2 + b_lscdr**12*h**2*k*sin(psi)**6/2 - 2*sqrt(2)*b_lscdr**12*h**2*k*sin(psi)**4*sin(2*psi)**3*sin(2*psi + pi/4) - 3*b_lscdr**12*h**2*k*sin(psi)**4*sin(2*psi)**3*cos(2*psi) - 3*b_lscdr**12*h**2*k*sin(psi)**4*sin(2*psi)**3 + sqrt(2)*b_lscdr**12*h**2*k*sin(psi)**4*sin(2*psi)**2*cos(4*psi + pi/4)/2 - b_lscdr**12*h**2*k*sin(psi)**4*sin(2*psi)**2/2 + 3*b_lscdr**12*h**2*k*sin(psi)**2*sin(2*psi)**5/2 + 2*sqrt(2)*b_lscdr**12*h*k**2*sin(psi)**8*sin(2*psi)*cos(2*psi + pi/4) - 2*b_lscdr**12*h*k**2*sin(psi)**8*sin(2*psi) + 4*sqrt(2)*b_lscdr**12*h*k**2*sin(psi)**8*sin(2*psi + pi/4)*cos(2*psi) + 4*b_lscdr**12*h*k**2*sin(psi)**8*cos(2*psi) - 2*sqrt(2)*b_lscdr**12*h*k**2*sin(psi)**6*sin(2*psi)**2*sin(2*psi + pi/4) - 6*b_lscdr**12*h*k**2*sin(psi)**6*sin(2*psi)**2*cos(2*psi) - 3*b_lscdr**12*h*k**2*sin(psi)**6*sin(2*psi)**2 + sqrt(2)*b_lscdr**12*h*k**2*sin(psi)**6*sin(2*psi)*cos(4*psi + pi/4)/2 - b_lscdr**12*h*k**2*sin(psi)**6*sin(2*psi)/2 + 3*b_lscdr**12*h*k**2*sin(psi)**4*sin(2*psi)**4 - 4*b_lscdr**12*k**3*sin(psi)**8*sin(2*psi)*cos(2*psi) + 2*b_lscdr**12*k**3*sin(psi)**6*sin(2*psi)**3\n"
     ]
    }
   ],
   "source": [
    "print(D2)"
   ]
  },
  {
   "cell_type": "code",
   "execution_count": 47,
   "metadata": {},
   "outputs": [
    {
     "name": "stdout",
     "output_type": "stream",
     "text": [
      "-a_lscdr**12*b_lscdr**4*sin(psi)**4*sin(2*psi)**2 + 2*a_lscdr**12*b_lscdr**4*sin(psi)**2*sin(2*psi)**2 - a_lscdr**12*b_lscdr**4*sin(2*psi)**2 - a_lscdr**12*b_lscdr**2*h**2*sin(psi)**2*sin(2*psi)**4/2 - a_lscdr**12*b_lscdr**2*h**2*sin(psi)**2*sin(2*psi)**2*cos(psi)**2*cos(2*psi) + a_lscdr**12*b_lscdr**2*h**2*sin(psi)**2*sin(2*psi)**2*cos(psi)**2 - a_lscdr**12*b_lscdr**2*h**2*sin(psi)**2*cos(psi)**4*cos(2*psi)**2 + 2*a_lscdr**12*b_lscdr**2*h**2*sin(psi)**2*cos(psi)**4*cos(2*psi) - a_lscdr**12*b_lscdr**2*h**2*sin(psi)**2*cos(psi)**4 + a_lscdr**12*b_lscdr**2*h**2*sin(2*psi)**4/2 + a_lscdr**12*b_lscdr**2*h**2*sin(2*psi)**2*cos(psi)**2*cos(2*psi) - a_lscdr**12*b_lscdr**2*h**2*sin(2*psi)**2*cos(psi)**2 + a_lscdr**12*b_lscdr**2*h**2*cos(psi)**4*cos(2*psi)**2 - 2*a_lscdr**12*b_lscdr**2*h**2*cos(psi)**4*cos(2*psi) + a_lscdr**12*b_lscdr**2*h**2*cos(psi)**4 + a_lscdr**12*b_lscdr**2*h*k*sin(psi)**2*sin(2*psi)**3*cos(psi)**2 - a_lscdr**12*b_lscdr**2*h*k*sin(2*psi)**3*cos(psi)**2 - a_lscdr**12*b_lscdr**2*k**2*sin(psi)**2*sin(2*psi)**2*cos(psi)**4 + a_lscdr**12*b_lscdr**2*k**2*sin(2*psi)**2*cos(psi)**4 - a_lscdr**12*h**4*sin(2*psi)**6/16 - a_lscdr**12*h**4*sin(2*psi)**4*cos(psi)**2*cos(2*psi)/4 + a_lscdr**12*h**4*sin(2*psi)**4*cos(psi)**2/4 - a_lscdr**12*h**4*sin(2*psi)**2*cos(psi)**4*cos(2*psi)**2/4 + a_lscdr**12*h**4*sin(2*psi)**2*cos(psi)**4*cos(2*psi)/2 - a_lscdr**12*h**4*sin(2*psi)**2*cos(psi)**4/4 + a_lscdr**12*h**3*k*sin(2*psi)**5*cos(psi)**2/4 + a_lscdr**12*h**3*k*sin(2*psi)**3*cos(psi)**4*cos(2*psi) - a_lscdr**12*h**3*k*sin(2*psi)**3*cos(psi)**4 + a_lscdr**12*h**3*k*sin(2*psi)*cos(psi)**6*cos(2*psi)**2 - 2*a_lscdr**12*h**3*k*sin(2*psi)*cos(psi)**6*cos(2*psi) + a_lscdr**12*h**3*k*sin(2*psi)*cos(psi)**6 - a_lscdr**12*h**2*k**2*sin(2*psi)**4*cos(psi)**4/4 - a_lscdr**12*h**2*k**2*sin(2*psi)**2*cos(psi)**6*cos(2*psi) + a_lscdr**12*h**2*k**2*sin(2*psi)**2*cos(psi)**6 - a_lscdr**12*h**2*k**2*cos(psi)**8*cos(2*psi)**2 + 2*a_lscdr**12*h**2*k**2*cos(psi)**8*cos(2*psi) - a_lscdr**12*h**2*k**2*cos(psi)**8 + 4*a_lscdr**10*b_lscdr**6*sin(psi)**4*sin(2*psi)**2 - 6*a_lscdr**10*b_lscdr**6*sin(psi)**2*sin(2*psi)**2 + 2*a_lscdr**10*b_lscdr**6*sin(2*psi)**2 - a_lscdr**10*b_lscdr**4*h**2*sin(psi)**4*sin(2*psi)**2*cos(2*psi) + a_lscdr**10*b_lscdr**4*h**2*sin(psi)**4*sin(2*psi)**2 - 2*a_lscdr**10*b_lscdr**4*h**2*sin(psi)**4*cos(psi)**2*cos(2*psi)**2 + 4*a_lscdr**10*b_lscdr**4*h**2*sin(psi)**4*cos(psi)**2*cos(2*psi) - 2*a_lscdr**10*b_lscdr**4*h**2*sin(psi)**4*cos(psi)**2 + 5*a_lscdr**10*b_lscdr**4*h**2*sin(psi)**2*sin(2*psi)**4/2 + sqrt(2)*a_lscdr**10*b_lscdr**4*h**2*sin(psi)**2*sin(2*psi)**2*sin(2*psi + pi/4)*cos(psi)**2 + 3*a_lscdr**10*b_lscdr**4*h**2*sin(psi)**2*sin(2*psi)**2*cos(psi)**2*cos(2*psi) - 2*a_lscdr**10*b_lscdr**4*h**2*sin(psi)**2*sin(2*psi)**2*cos(psi)**2 + a_lscdr**10*b_lscdr**4*h**2*sin(psi)**2*sin(2*psi)**2*cos(2*psi) - 3*a_lscdr**10*b_lscdr**4*h**2*sin(psi)**2*sin(2*psi)**2 + 2*sqrt(2)*a_lscdr**10*b_lscdr**4*h**2*sin(psi)**2*sin(2*psi + pi/4)*cos(psi)**4*cos(2*psi) - 2*sqrt(2)*a_lscdr**10*b_lscdr**4*h**2*sin(psi)**2*sin(2*psi + pi/4)*cos(psi)**4 + a_lscdr**10*b_lscdr**4*h**2*sin(psi)**2*cos(psi)**4*cos(2*psi)**2 - a_lscdr**10*b_lscdr**4*h**2*sin(psi)**2*cos(psi)**4 + 2*a_lscdr**10*b_lscdr**4*h**2*sin(psi)**2*cos(psi)**2*cos(2*psi)**2 - 4*a_lscdr**10*b_lscdr**4*h**2*sin(psi)**2*cos(psi)**2*cos(2*psi) + 2*a_lscdr**10*b_lscdr**4*h**2*sin(psi)**2*cos(psi)**2 - 2*a_lscdr**10*b_lscdr**4*h**2*sin(2*psi)**4 - sqrt(2)*a_lscdr**10*b_lscdr**4*h**2*sin(2*psi)**2*sin(2*psi + pi/4)*cos(psi)**2 - 2*a_lscdr**10*b_lscdr**4*h**2*sin(2*psi)**2*cos(psi)**2*cos(2*psi) + a_lscdr**10*b_lscdr**4*h**2*sin(2*psi)**2*cos(psi)**2 + 2*a_lscdr**10*b_lscdr**4*h**2*sin(2*psi)**2 - 2*sqrt(2)*a_lscdr**10*b_lscdr**4*h**2*sin(2*psi + pi/4)*cos(psi)**4*cos(2*psi) + 2*sqrt(2)*a_lscdr**10*b_lscdr**4*h**2*sin(2*psi + pi/4)*cos(psi)**4 - 2*a_lscdr**10*b_lscdr**4*h**2*cos(psi)**4*cos(2*psi) + 2*a_lscdr**10*b_lscdr**4*h**2*cos(psi)**4 + a_lscdr**10*b_lscdr**4*h*k*sin(psi)**4*sin(2*psi)**3 - 5*a_lscdr**10*b_lscdr**4*h*k*sin(psi)**2*sin(2*psi)**3*cos(psi)**2 - a_lscdr**10*b_lscdr**4*h*k*sin(psi)**2*sin(2*psi)**3 - 2*a_lscdr**10*b_lscdr**4*h*k*sin(psi)**2*sin(2*psi)*cos(psi)**4*cos(2*psi) + 2*a_lscdr**10*b_lscdr**4*h*k*sin(psi)**2*sin(2*psi)*cos(psi)**4 + 4*a_lscdr**10*b_lscdr**4*h*k*sin(2*psi)**3*cos(psi)**2 + 2*a_lscdr**10*b_lscdr**4*h*k*sin(2*psi)*cos(psi)**4*cos(2*psi) - 2*a_lscdr**10*b_lscdr**4*h*k*sin(2*psi)*cos(psi)**4 - 2*a_lscdr**10*b_lscdr**4*k**2*sin(psi)**4*sin(2*psi)**2*cos(psi)**2 + 3*a_lscdr**10*b_lscdr**4*k**2*sin(psi)**2*sin(2*psi)**2*cos(psi)**4 + 2*a_lscdr**10*b_lscdr**4*k**2*sin(psi)**2*sin(2*psi)**2*cos(psi)**2 - 2*a_lscdr**10*b_lscdr**4*k**2*sin(2*psi)**2*cos(psi)**4 - a_lscdr**10*b_lscdr**2*h**4*sin(psi)**2*sin(2*psi)**4*cos(2*psi)/4 + a_lscdr**10*b_lscdr**2*h**4*sin(psi)**2*sin(2*psi)**4/4 - a_lscdr**10*b_lscdr**2*h**4*sin(psi)**2*sin(2*psi)**2*cos(psi)**2*cos(2*psi)**2/2 + a_lscdr**10*b_lscdr**2*h**4*sin(psi)**2*sin(2*psi)**2*cos(psi)**2*cos(2*psi) - a_lscdr**10*b_lscdr**2*h**4*sin(psi)**2*sin(2*psi)**2*cos(psi)**2/2 + 3*a_lscdr**10*b_lscdr**2*h**4*sin(2*psi)**6/8 + sqrt(2)*a_lscdr**10*b_lscdr**2*h**4*sin(2*psi)**4*sin(2*psi + pi/4)*cos(psi)**2/4 + a_lscdr**10*b_lscdr**2*h**4*sin(2*psi)**4*cos(psi)**2*cos(2*psi) - 3*a_lscdr**10*b_lscdr**2*h**4*sin(2*psi)**4*cos(psi)**2/4 - a_lscdr**10*b_lscdr**2*h**4*sin(2*psi)**4/2 + sqrt(2)*a_lscdr**10*b_lscdr**2*h**4*sin(2*psi)**2*sin(2*psi + pi/4)*cos(psi)**4*cos(2*psi)/2 - sqrt(2)*a_lscdr**10*b_lscdr**2*h**4*sin(2*psi)**2*sin(2*psi + pi/4)*cos(psi)**4/2 + a_lscdr**10*b_lscdr**2*h**4*sin(2*psi)**2*cos(psi)**4*cos(2*psi)**2/2 - a_lscdr**10*b_lscdr**2*h**4*sin(2*psi)**2*cos(psi)**4*cos(2*psi)/2 - a_lscdr**10*b_lscdr**2*h**4*sin(2*psi)**2*cos(psi)**2*cos(2*psi) + a_lscdr**10*b_lscdr**2*h**4*sin(2*psi)**2*cos(psi)**2 - a_lscdr**10*b_lscdr**2*h**4*cos(psi)**4*cos(2*psi)**2 + 2*a_lscdr**10*b_lscdr**2*h**4*cos(psi)**4*cos(2*psi) - a_lscdr**10*b_lscdr**2*h**4*cos(psi)**4 + a_lscdr**10*b_lscdr**2*h**3*k*sin(psi)**2*sin(2*psi)**5/4 + 2*a_lscdr**10*b_lscdr**2*h**3*k*sin(psi)**2*sin(2*psi)**3*cos(psi)**2*cos(2*psi) - 2*a_lscdr**10*b_lscdr**2*h**3*k*sin(psi)**2*sin(2*psi)**3*cos(psi)**2 + 3*a_lscdr**10*b_lscdr**2*h**3*k*sin(psi)**2*sin(2*psi)*cos(psi)**4*cos(2*psi)**2 - 6*a_lscdr**10*b_lscdr**2*h**3*k*sin(psi)**2*sin(2*psi)*cos(psi)**4*cos(2*psi) + 3*a_lscdr**10*b_lscdr**2*h**3*k*sin(psi)**2*sin(2*psi)*cos(psi)**4 - 3*a_lscdr**10*b_lscdr**2*h**3*k*sin(2*psi)**5*cos(psi)**2/2 - sqrt(2)*a_lscdr**10*b_lscdr**2*h**3*k*sin(2*psi)**3*sin(2*psi + pi/4)*cos(psi)**4 - 7*a_lscdr**10*b_lscdr**2*h**3*k*sin(2*psi)**3*cos(psi)**4*cos(2*psi)/2 + 5*a_lscdr**10*b_lscdr**2*h**3*k*sin(2*psi)**3*cos(psi)**4/2 + a_lscdr**10*b_lscdr**2*h**3*k*sin(2*psi)**3*cos(psi)**2 - 2*sqrt(2)*a_lscdr**10*b_lscdr**2*h**3*k*sin(2*psi)*sin(2*psi + pi/4)*cos(psi)**6*cos(2*psi) + 2*sqrt(2)*a_lscdr**10*b_lscdr**2*h**3*k*sin(2*psi)*sin(2*psi + pi/4)*cos(psi)**6 - a_lscdr**10*b_lscdr**2*h**3*k*sin(2*psi)*cos(psi)**6*cos(2*psi)**2 + a_lscdr**10*b_lscdr**2*h**3*k*sin(2*psi)*cos(psi)**6 - a_lscdr**10*b_lscdr**2*h**2*k**2*sin(psi)**2*sin(2*psi)**4*cos(psi)**2/2 - 3*a_lscdr**10*b_lscdr**2*h**2*k**2*sin(psi)**2*sin(2*psi)**2*cos(psi)**4*cos(2*psi) + 3*a_lscdr**10*b_lscdr**2*h**2*k**2*sin(psi)**2*sin(2*psi)**2*cos(psi)**4 - 4*a_lscdr**10*b_lscdr**2*h**2*k**2*sin(psi)**2*cos(psi)**6*cos(2*psi)**2 + 8*a_lscdr**10*b_lscdr**2*h**2*k**2*sin(psi)**2*cos(psi)**6*cos(2*psi) - 4*a_lscdr**10*b_lscdr**2*h**2*k**2*sin(psi)**2*cos(psi)**6 + 2*a_lscdr**10*b_lscdr**2*h**2*k**2*sin(2*psi)**4*cos(psi)**4 + sqrt(2)*a_lscdr**10*b_lscdr**2*h**2*k**2*sin(2*psi)**2*sin(2*psi + pi/4)*cos(psi)**6 + 4*a_lscdr**10*b_lscdr**2*h**2*k**2*sin(2*psi)**2*cos(psi)**6*cos(2*psi) - 3*a_lscdr**10*b_lscdr**2*h**2*k**2*sin(2*psi)**2*cos(psi)**6 - a_lscdr**10*b_lscdr**2*h**2*k**2*sin(2*psi)**2*cos(psi)**4 + 2*sqrt(2)*a_lscdr**10*b_lscdr**2*h**2*k**2*sin(2*psi + pi/4)*cos(psi)**8*cos(2*psi) - 2*sqrt(2)*a_lscdr**10*b_lscdr**2*h**2*k**2*sin(2*psi + pi/4)*cos(psi)**8 + 2*a_lscdr**10*b_lscdr**2*h**2*k**2*cos(psi)**8*cos(2*psi) - 2*a_lscdr**10*b_lscdr**2*h**2*k**2*cos(psi)**8 - a_lscdr**10*b_lscdr**2*h*k**3*sin(2*psi)**3*cos(psi)**6 - 2*a_lscdr**10*b_lscdr**2*h*k**3*sin(2*psi)*cos(psi)**8*cos(2*psi) + 2*a_lscdr**10*b_lscdr**2*h*k**3*sin(2*psi)*cos(psi)**8 - 6*a_lscdr**8*b_lscdr**8*sin(psi)**4*sin(2*psi)**2 + 6*a_lscdr**8*b_lscdr**8*sin(psi)**2*sin(2*psi)**2 - a_lscdr**8*b_lscdr**8*sin(2*psi)**2 - a_lscdr**8*b_lscdr**6*h**2*sin(psi)**6*cos(2*psi)**2 + 2*a_lscdr**8*b_lscdr**6*h**2*sin(psi)**6*cos(2*psi) - a_lscdr**8*b_lscdr**6*h**2*sin(psi)**6 + sqrt(2)*a_lscdr**8*b_lscdr**6*h**2*sin(psi)**4*sin(2*psi)**2*sin(2*psi + pi/4) + 3*a_lscdr**8*b_lscdr**6*h**2*sin(psi)**4*sin(2*psi)**2*cos(2*psi) - 2*a_lscdr**8*b_lscdr**6*h**2*sin(psi)**4*sin(2*psi)**2 + 4*sqrt(2)*a_lscdr**8*b_lscdr**6*h**2*sin(psi)**4*sin(2*psi + pi/4)*cos(psi)**2*cos(2*psi) - 4*sqrt(2)*a_lscdr**8*b_lscdr**6*h**2*sin(psi)**4*sin(2*psi + pi/4)*cos(psi)**2 + 2*a_lscdr**8*b_lscdr**6*h**2*sin(psi)**4*cos(psi)**2*cos(2*psi)**2 - 2*a_lscdr**8*b_lscdr**6*h**2*sin(psi)**4*cos(psi)**2 + a_lscdr**8*b_lscdr**6*h**2*sin(psi)**4*cos(2*psi)**2 - 2*a_lscdr**8*b_lscdr**6*h**2*sin(psi)**4*cos(2*psi) + a_lscdr**8*b_lscdr**6*h**2*sin(psi)**4 - 5*a_lscdr**8*b_lscdr**6*h**2*sin(psi)**2*sin(2*psi)**4 - 3*sqrt(2)*a_lscdr**8*b_lscdr**6*h**2*sin(psi)**2*sin(2*psi)**2*sin(2*psi + pi/4)*cos(psi)**2 - sqrt(2)*a_lscdr**8*b_lscdr**6*h**2*sin(psi)**2*sin(2*psi)**2*sin(2*psi + pi/4) - 3*a_lscdr**8*b_lscdr**6*h**2*sin(psi)**2*sin(2*psi)**2*cos(psi)**2*cos(2*psi) - 2*a_lscdr**8*b_lscdr**6*h**2*sin(psi)**2*sin(2*psi)**2*cos(2*psi) + 7*a_lscdr**8*b_lscdr**6*h**2*sin(psi)**2*sin(2*psi)**2 - 2*a_lscdr**8*b_lscdr**6*h**2*sin(psi)**2*sin(2*psi + pi/4)**2*cos(psi)**4 - 2*sqrt(2)*a_lscdr**8*b_lscdr**6*h**2*sin(psi)**2*sin(2*psi + pi/4)*cos(psi)**4*cos(2*psi) - 4*sqrt(2)*a_lscdr**8*b_lscdr**6*h**2*sin(psi)**2*sin(2*psi + pi/4)*cos(psi)**2*cos(2*psi) + 4*sqrt(2)*a_lscdr**8*b_lscdr**6*h**2*sin(psi)**2*sin(2*psi + pi/4)*cos(psi)**2 - 2*a_lscdr**8*b_lscdr**6*h**2*sin(psi)**2*cos(psi)**4*cos(2*psi) + a_lscdr**8*b_lscdr**6*h**2*sin(psi)**2*cos(psi)**4 - 4*a_lscdr**8*b_lscdr**6*h**2*sin(psi)**2*cos(psi)**2*cos(2*psi) + 4*a_lscdr**8*b_lscdr**6*h**2*sin(psi)**2*cos(psi)**2 + 3*a_lscdr**8*b_lscdr**6*h**2*sin(2*psi)**4 + 2*sqrt(2)*a_lscdr**8*b_lscdr**6*h**2*sin(2*psi)**2*sin(2*psi + pi/4)*cos(psi)**2 + a_lscdr**8*b_lscdr**6*h**2*sin(2*psi)**2*cos(psi)**2*cos(2*psi) + a_lscdr**8*b_lscdr**6*h**2*sin(2*psi)**2*cos(psi)**2 - 4*a_lscdr**8*b_lscdr**6*h**2*sin(2*psi)**2 + 2*a_lscdr**8*b_lscdr**6*h**2*sin(2*psi + pi/4)**2*cos(psi)**4 + 2*sqrt(2)*a_lscdr**8*b_lscdr**6*h**2*sin(2*psi + pi/4)*cos(psi)**4 + a_lscdr**8*b_lscdr**6*h**2*cos(psi)**4 - 5*a_lscdr**8*b_lscdr**6*h*k*sin(psi)**4*sin(2*psi)**3 - 4*a_lscdr**8*b_lscdr**6*h*k*sin(psi)**4*sin(2*psi)*cos(psi)**2*cos(2*psi) + 4*a_lscdr**8*b_lscdr**6*h*k*sin(psi)**4*sin(2*psi)*cos(psi)**2 + 9*a_lscdr**8*b_lscdr**6*h*k*sin(psi)**2*sin(2*psi)**3*cos(psi)**2 + 4*a_lscdr**8*b_lscdr**6*h*k*sin(psi)**2*sin(2*psi)**3 + 2*sqrt(2)*a_lscdr**8*b_lscdr**6*h*k*sin(psi)**2*sin(2*psi)*sin(2*psi + pi/4)*cos(psi)**4 + 2*a_lscdr**8*b_lscdr**6*h*k*sin(psi)**2*sin(2*psi)*cos(psi)**4*cos(2*psi) + 4*a_lscdr**8*b_lscdr**6*h*k*sin(psi)**2*sin(2*psi)*cos(psi)**2*cos(2*psi) - 4*a_lscdr**8*b_lscdr**6*h*k*sin(psi)**2*sin(2*psi)*cos(psi)**2 - 5*a_lscdr**8*b_lscdr**6*h*k*sin(2*psi)**3*cos(psi)**2 - 2*sqrt(2)*a_lscdr**8*b_lscdr**6*h*k*sin(2*psi)*sin(2*psi + pi/4)*cos(psi)**4 - 2*a_lscdr**8*b_lscdr**6*h*k*sin(2*psi)*cos(psi)**4 - a_lscdr**8*b_lscdr**6*k**2*sin(psi)**6*sin(2*psi)**2 + 6*a_lscdr**8*b_lscdr**6*k**2*sin(psi)**4*sin(2*psi)**2*cos(psi)**2 + a_lscdr**8*b_lscdr**6*k**2*sin(psi)**4*sin(2*psi)**2 - 4*a_lscdr**8*b_lscdr**6*k**2*sin(psi)**2*sin(2*psi)**2*cos(psi)**4 - 4*a_lscdr**8*b_lscdr**6*k**2*sin(psi)**2*sin(2*psi)**2*cos(psi)**2 + 2*a_lscdr**8*b_lscdr**6*k**2*sin(2*psi)**2*cos(psi)**4 - a_lscdr**8*b_lscdr**4*h**4*sin(psi)**4*sin(2*psi)**2*cos(2*psi)**2/4 + a_lscdr**8*b_lscdr**4*h**4*sin(psi)**4*sin(2*psi)**2*cos(2*psi)/2 - a_lscdr**8*b_lscdr**4*h**4*sin(psi)**4*sin(2*psi)**2/4 + sqrt(2)*a_lscdr**8*b_lscdr**4*h**4*sin(psi)**2*sin(2*psi)**4*sin(2*psi + pi/4)/4 + a_lscdr**8*b_lscdr**4*h**4*sin(psi)**2*sin(2*psi)**4*cos(2*psi) - 3*a_lscdr**8*b_lscdr**4*h**4*sin(psi)**2*sin(2*psi)**4/4 + sqrt(2)*a_lscdr**8*b_lscdr**4*h**4*sin(psi)**2*sin(2*psi)**2*sin(2*psi + pi/4)*cos(psi)**2*cos(2*psi) - sqrt(2)*a_lscdr**8*b_lscdr**4*h**4*sin(psi)**2*sin(2*psi)**2*sin(2*psi + pi/4)*cos(psi)**2 + a_lscdr**8*b_lscdr**4*h**4*sin(psi)**2*sin(2*psi)**2*cos(psi)**2*cos(2*psi)**2 - a_lscdr**8*b_lscdr**4*h**4*sin(psi)**2*sin(2*psi)**2*cos(psi)**2*cos(2*psi) - a_lscdr**8*b_lscdr**4*h**4*sin(psi)**2*sin(2*psi)**2*cos(2*psi) + a_lscdr**8*b_lscdr**4*h**4*sin(psi)**2*sin(2*psi)**2 - 2*a_lscdr**8*b_lscdr**4*h**4*sin(psi)**2*cos(psi)**2*cos(2*psi)**2 + 4*a_lscdr**8*b_lscdr**4*h**4*sin(psi)**2*cos(psi)**2*cos(2*psi) - 2*a_lscdr**8*b_lscdr**4*h**4*sin(psi)**2*cos(psi)**2 - 15*a_lscdr**8*b_lscdr**4*h**4*sin(2*psi)**6/16 - sqrt(2)*a_lscdr**8*b_lscdr**4*h**4*sin(2*psi)**4*sin(2*psi + pi/4)*cos(psi)**2 - 3*a_lscdr**8*b_lscdr**4*h**4*sin(2*psi)**4*cos(psi)**2*cos(2*psi)/2 + a_lscdr**8*b_lscdr**4*h**4*sin(2*psi)**4*cos(psi)**2/2 + 2*a_lscdr**8*b_lscdr**4*h**4*sin(2*psi)**4 - a_lscdr**8*b_lscdr**4*h**4*sin(2*psi)**2*sin(2*psi + pi/4)**2*cos(psi)**4/2 - sqrt(2)*a_lscdr**8*b_lscdr**4*h**4*sin(2*psi)**2*sin(2*psi + pi/4)*cos(psi)**4*cos(2*psi) + sqrt(2)*a_lscdr**8*b_lscdr**4*h**4*sin(2*psi)**2*sin(2*psi + pi/4)*cos(psi)**4/2 + sqrt(2)*a_lscdr**8*b_lscdr**4*h**4*sin(2*psi)**2*sin(2*psi + pi/4)*cos(psi)**2 - a_lscdr**8*b_lscdr**4*h**4*sin(2*psi)**2*cos(psi)**4*cos(2*psi)**2/4 - a_lscdr**8*b_lscdr**4*h**4*sin(2*psi)**2*cos(psi)**4*cos(2*psi)/2 + a_lscdr**8*b_lscdr**4*h**4*sin(2*psi)**2*cos(psi)**4/2 + 2*a_lscdr**8*b_lscdr**4*h**4*sin(2*psi)**2*cos(psi)**2*cos(2*psi) - a_lscdr**8*b_lscdr**4*h**4*sin(2*psi)**2*cos(psi)**2 - a_lscdr**8*b_lscdr**4*h**4*sin(2*psi)**2 + 2*sqrt(2)*a_lscdr**8*b_lscdr**4*h**4*sin(2*psi + pi/4)*cos(psi)**4*cos(2*psi) - 2*sqrt(2)*a_lscdr**8*b_lscdr**4*h**4*sin(2*psi + pi/4)*cos(psi)**4 + 2*a_lscdr**8*b_lscdr**4*h**4*cos(psi)**4*cos(2*psi) - 2*a_lscdr**8*b_lscdr**4*h**4*cos(psi)**4 + a_lscdr**8*b_lscdr**4*h**3*k*sin(psi)**4*sin(2*psi)**3*cos(2*psi) - a_lscdr**8*b_lscdr**4*h**3*k*sin(psi)**4*sin(2*psi)**3 + 3*a_lscdr**8*b_lscdr**4*h**3*k*sin(psi)**4*sin(2*psi)*cos(psi)**2*cos(2*psi)**2 - 6*a_lscdr**8*b_lscdr**4*h**3*k*sin(psi)**4*sin(2*psi)*cos(psi)**2*cos(2*psi) + 3*a_lscdr**8*b_lscdr**4*h**3*k*sin(psi)**4*sin(2*psi)*cos(psi)**2 - 3*a_lscdr**8*b_lscdr**4*h**3*k*sin(psi)**2*sin(2*psi)**5/2 - 2*sqrt(2)*a_lscdr**8*b_lscdr**4*h**3*k*sin(psi)**2*sin(2*psi)**3*sin(2*psi + pi/4)*cos(psi)**2 - 7*a_lscdr**8*b_lscdr**4*h**3*k*sin(psi)**2*sin(2*psi)**3*cos(psi)**2*cos(2*psi) + 5*a_lscdr**8*b_lscdr**4*h**3*k*sin(psi)**2*sin(2*psi)**3*cos(psi)**2 + a_lscdr**8*b_lscdr**4*h**3*k*sin(psi)**2*sin(2*psi)**3 - 6*sqrt(2)*a_lscdr**8*b_lscdr**4*h**3*k*sin(psi)**2*sin(2*psi)*sin(2*psi + pi/4)*cos(psi)**4*cos(2*psi) + 6*sqrt(2)*a_lscdr**8*b_lscdr**4*h**3*k*sin(psi)**2*sin(2*psi)*sin(2*psi + pi/4)*cos(psi)**4 - 3*a_lscdr**8*b_lscdr**4*h**3*k*sin(psi)**2*sin(2*psi)*cos(psi)**4*cos(2*psi)**2 + 3*a_lscdr**8*b_lscdr**4*h**3*k*sin(psi)**2*sin(2*psi)*cos(psi)**4 + 7*a_lscdr**8*b_lscdr**4*h**3*k*sin(2*psi)**5*cos(psi)**2/2 + 7*sqrt(2)*a_lscdr**8*b_lscdr**4*h**3*k*sin(2*psi)**3*sin(2*psi + pi/4)*cos(psi)**4/2 + 4*a_lscdr**8*b_lscdr**4*h**3*k*sin(2*psi)**3*cos(psi)**4*cos(2*psi) - a_lscdr**8*b_lscdr**4*h**3*k*sin(2*psi)**3*cos(psi)**4/2 - 4*a_lscdr**8*b_lscdr**4*h**3*k*sin(2*psi)**3*cos(psi)**2 + 2*a_lscdr**8*b_lscdr**4*h**3*k*sin(2*psi)*sin(2*psi + pi/4)**2*cos(psi)**6 + 2*sqrt(2)*a_lscdr**8*b_lscdr**4*h**3*k*sin(2*psi)*sin(2*psi + pi/4)*cos(psi)**6*cos(2*psi) + 2*a_lscdr**8*b_lscdr**4*h**3*k*sin(2*psi)*cos(psi)**6*cos(2*psi) - a_lscdr**8*b_lscdr**4*h**3*k*sin(2*psi)*cos(psi)**6 - 2*a_lscdr**8*b_lscdr**4*h**3*k*sin(2*psi)*cos(psi)**4*cos(2*psi) + 2*a_lscdr**8*b_lscdr**4*h**3*k*sin(2*psi)*cos(psi)**4 - a_lscdr**8*b_lscdr**4*h**2*k**2*sin(psi)**4*sin(2*psi)**4/4 - 3*a_lscdr**8*b_lscdr**4*h**2*k**2*sin(psi)**4*sin(2*psi)**2*cos(psi)**2*cos(2*psi) + 3*a_lscdr**8*b_lscdr**4*h**2*k**2*sin(psi)**4*sin(2*psi)**2*cos(psi)**2 - 6*a_lscdr**8*b_lscdr**4*h**2*k**2*sin(psi)**4*cos(psi)**4*cos(2*psi)**2 + 12*a_lscdr**8*b_lscdr**4*h**2*k**2*sin(psi)**4*cos(psi)**4*cos(2*psi) - 6*a_lscdr**8*b_lscdr**4*h**2*k**2*sin(psi)**4*cos(psi)**4 + 4*a_lscdr**8*b_lscdr**4*h**2*k**2*sin(psi)**2*sin(2*psi)**4*cos(psi)**2 + 3*sqrt(2)*a_lscdr**8*b_lscdr**4*h**2*k**2*sin(psi)**2*sin(2*psi)**2*sin(2*psi + pi/4)*cos(psi)**4 + 12*a_lscdr**8*b_lscdr**4*h**2*k**2*sin(psi)**2*sin(2*psi)**2*cos(psi)**4*cos(2*psi) - 9*a_lscdr**8*b_lscdr**4*h**2*k**2*sin(psi)**2*sin(2*psi)**2*cos(psi)**4 - 2*a_lscdr**8*b_lscdr**4*h**2*k**2*sin(psi)**2*sin(2*psi)**2*cos(psi)**2 + 8*sqrt(2)*a_lscdr**8*b_lscdr**4*h**2*k**2*sin(psi)**2*sin(2*psi + pi/4)*cos(psi)**6*cos(2*psi) - 8*sqrt(2)*a_lscdr**8*b_lscdr**4*h**2*k**2*sin(psi)**2*sin(2*psi + pi/4)*cos(psi)**6 + 8*a_lscdr**8*b_lscdr**4*h**2*k**2*sin(psi)**2*cos(psi)**6*cos(2*psi) - 8*a_lscdr**8*b_lscdr**4*h**2*k**2*sin(psi)**2*cos(psi)**6 - 19*a_lscdr**8*b_lscdr**4*h**2*k**2*sin(2*psi)**4*cos(psi)**4/4 - 4*sqrt(2)*a_lscdr**8*b_lscdr**4*h**2*k**2*sin(2*psi)**2*sin(2*psi + pi/4)*cos(psi)**6 - 3*a_lscdr**8*b_lscdr**4*h**2*k**2*sin(2*psi)**2*cos(psi)**6*cos(2*psi) - a_lscdr**8*b_lscdr**4*h**2*k**2*sin(2*psi)**2*cos(psi)**6 + 2*a_lscdr**8*b_lscdr**4*h**2*k**2*sin(2*psi)**2*cos(psi)**4 - 2*a_lscdr**8*b_lscdr**4*h**2*k**2*sin(2*psi + pi/4)**2*cos(psi)**8 - 2*sqrt(2)*a_lscdr**8*b_lscdr**4*h**2*k**2*sin(2*psi + pi/4)*cos(psi)**8 - a_lscdr**8*b_lscdr**4*h**2*k**2*cos(psi)**8 - 3*a_lscdr**8*b_lscdr**4*h*k**3*sin(psi)**2*sin(2*psi)**3*cos(psi)**4 - 8*a_lscdr**8*b_lscdr**4*h*k**3*sin(psi)**2*sin(2*psi)*cos(psi)**6*cos(2*psi) + 8*a_lscdr**8*b_lscdr**4*h*k**3*sin(psi)**2*sin(2*psi)*cos(psi)**6 + 3*a_lscdr**8*b_lscdr**4*h*k**3*sin(2*psi)**3*cos(psi)**6 + 2*sqrt(2)*a_lscdr**8*b_lscdr**4*h*k**3*sin(2*psi)*sin(2*psi + pi/4)*cos(psi)**8 + 2*a_lscdr**8*b_lscdr**4*h*k**3*sin(2*psi)*cos(psi)**8 - a_lscdr**8*b_lscdr**4*k**4*sin(2*psi)**2*cos(psi)**8 + 4*a_lscdr**6*b_lscdr**10*sin(psi)**4*sin(2*psi)**2 - 2*a_lscdr**6*b_lscdr**10*sin(psi)**2*sin(2*psi)**2 + 2*sqrt(2)*a_lscdr**6*b_lscdr**8*h**2*sin(psi)**6*sin(2*psi + pi/4)*cos(2*psi) - 2*sqrt(2)*a_lscdr**6*b_lscdr**8*h**2*sin(psi)**6*sin(2*psi + pi/4) + a_lscdr**6*b_lscdr**8*h**2*sin(psi)**6*cos(2*psi)**2 - a_lscdr**6*b_lscdr**8*h**2*sin(psi)**6 - 3*sqrt(2)*a_lscdr**6*b_lscdr**8*h**2*sin(psi)**4*sin(2*psi)**2*sin(2*psi + pi/4) - 3*a_lscdr**6*b_lscdr**8*h**2*sin(psi)**4*sin(2*psi)**2*cos(2*psi) - 4*a_lscdr**6*b_lscdr**8*h**2*sin(psi)**4*sin(2*psi + pi/4)**2*cos(psi)**2 - 4*sqrt(2)*a_lscdr**6*b_lscdr**8*h**2*sin(psi)**4*sin(2*psi + pi/4)*cos(psi)**2*cos(2*psi) - 2*sqrt(2)*a_lscdr**6*b_lscdr**8*h**2*sin(psi)**4*sin(2*psi + pi/4)*cos(2*psi) + 2*sqrt(2)*a_lscdr**6*b_lscdr**8*h**2*sin(psi)**4*sin(2*psi + pi/4) - 4*a_lscdr**6*b_lscdr**8*h**2*sin(psi)**4*cos(psi)**2*cos(2*psi) + 2*a_lscdr**6*b_lscdr**8*h**2*sin(psi)**4*cos(psi)**2 - 2*a_lscdr**6*b_lscdr**8*h**2*sin(psi)**4*cos(2*psi) + 2*a_lscdr**6*b_lscdr**8*h**2*sin(psi)**4 + 5*a_lscdr**6*b_lscdr**8*h**2*sin(psi)**2*sin(2*psi)**4 + 3*sqrt(2)*a_lscdr**6*b_lscdr**8*h**2*sin(psi)**2*sin(2*psi)**2*sin(2*psi + pi/4)*cos(psi)**2 + 2*sqrt(2)*a_lscdr**6*b_lscdr**8*h**2*sin(psi)**2*sin(2*psi)**2*sin(2*psi + pi/4) + a_lscdr**6*b_lscdr**8*h**2*sin(psi)**2*sin(2*psi)**2*cos(psi)**2*cos(2*psi) + 2*a_lscdr**6*b_lscdr**8*h**2*sin(psi)**2*sin(2*psi)**2*cos(psi)**2 + a_lscdr**6*b_lscdr**8*h**2*sin(psi)**2*sin(2*psi)**2*cos(2*psi) - 5*a_lscdr**6*b_lscdr**8*h**2*sin(psi)**2*sin(2*psi)**2 + 2*a_lscdr**6*b_lscdr**8*h**2*sin(psi)**2*sin(2*psi + pi/4)**2*cos(psi)**4 + 4*a_lscdr**6*b_lscdr**8*h**2*sin(psi)**2*sin(2*psi + pi/4)**2*cos(psi)**2 + 2*sqrt(2)*a_lscdr**6*b_lscdr**8*h**2*sin(psi)**2*sin(2*psi + pi/4)*cos(psi)**4 + 4*sqrt(2)*a_lscdr**6*b_lscdr**8*h**2*sin(psi)**2*sin(2*psi + pi/4)*cos(psi)**2 + a_lscdr**6*b_lscdr**8*h**2*sin(psi)**2*cos(psi)**4 + 2*a_lscdr**6*b_lscdr**8*h**2*sin(psi)**2*cos(psi)**2 - 2*a_lscdr**6*b_lscdr**8*h**2*sin(2*psi)**4 - sqrt(2)*a_lscdr**6*b_lscdr**8*h**2*sin(2*psi)**2*sin(2*psi + pi/4)*cos(psi)**2 - a_lscdr**6*b_lscdr**8*h**2*sin(2*psi)**2*cos(psi)**2 + 2*a_lscdr**6*b_lscdr**8*h**2*sin(2*psi)**2 - 2*a_lscdr**6*b_lscdr**8*h*k*sin(psi)**6*sin(2*psi)*cos(2*psi) + 2*a_lscdr**6*b_lscdr**8*h*k*sin(psi)**6*sin(2*psi) + 9*a_lscdr**6*b_lscdr**8*h*k*sin(psi)**4*sin(2*psi)**3 + 4*sqrt(2)*a_lscdr**6*b_lscdr**8*h*k*sin(psi)**4*sin(2*psi)*sin(2*psi + pi/4)*cos(psi)**2 + 4*a_lscdr**6*b_lscdr**8*h*k*sin(psi)**4*sin(2*psi)*cos(psi)**2*cos(2*psi) + 2*a_lscdr**6*b_lscdr**8*h*k*sin(psi)**4*sin(2*psi)*cos(2*psi) - 2*a_lscdr**6*b_lscdr**8*h*k*sin(psi)**4*sin(2*psi) - 7*a_lscdr**6*b_lscdr**8*h*k*sin(psi)**2*sin(2*psi)**3*cos(psi)**2 - 5*a_lscdr**6*b_lscdr**8*h*k*sin(psi)**2*sin(2*psi)**3 - 2*sqrt(2)*a_lscdr**6*b_lscdr**8*h*k*sin(psi)**2*sin(2*psi)*sin(2*psi + pi/4)*cos(psi)**4 - 4*sqrt(2)*a_lscdr**6*b_lscdr**8*h*k*sin(psi)**2*sin(2*psi)*sin(2*psi + pi/4)*cos(psi)**2 - 2*a_lscdr**6*b_lscdr**8*h*k*sin(psi)**2*sin(2*psi)*cos(psi)**4 - 4*a_lscdr**6*b_lscdr**8*h*k*sin(psi)**2*sin(2*psi)*cos(psi)**2 + 2*a_lscdr**6*b_lscdr**8*h*k*sin(2*psi)**3*cos(psi)**2 + 3*a_lscdr**6*b_lscdr**8*k**2*sin(psi)**6*sin(2*psi)**2 - 8*a_lscdr**6*b_lscdr**8*k**2*sin(psi)**4*sin(2*psi)**2*cos(psi)**2 - 2*a_lscdr**6*b_lscdr**8*k**2*sin(psi)**4*sin(2*psi)**2 + 2*a_lscdr**6*b_lscdr**8*k**2*sin(psi)**2*sin(2*psi)**2*cos(psi)**4 + 4*a_lscdr**6*b_lscdr**8*k**2*sin(psi)**2*sin(2*psi)**2*cos(psi)**2 + sqrt(2)*a_lscdr**6*b_lscdr**6*h**4*sin(psi)**4*sin(2*psi)**2*sin(2*psi + pi/4)*cos(2*psi)/2 - sqrt(2)*a_lscdr**6*b_lscdr**6*h**4*sin(psi)**4*sin(2*psi)**2*sin(2*psi + pi/4)/2 + a_lscdr**6*b_lscdr**6*h**4*sin(psi)**4*sin(2*psi)**2*cos(2*psi)**2/2 - a_lscdr**6*b_lscdr**6*h**4*sin(psi)**4*sin(2*psi)**2*cos(2*psi)/2 - a_lscdr**6*b_lscdr**6*h**4*sin(psi)**4*cos(2*psi)**2 + 2*a_lscdr**6*b_lscdr**6*h**4*sin(psi)**4*cos(2*psi) - a_lscdr**6*b_lscdr**6*h**4*sin(psi)**4 - sqrt(2)*a_lscdr**6*b_lscdr**6*h**4*sin(psi)**2*sin(2*psi)**4*sin(2*psi + pi/4) - 3*a_lscdr**6*b_lscdr**6*h**4*sin(psi)**2*sin(2*psi)**4*cos(2*psi)/2 + a_lscdr**6*b_lscdr**6*h**4*sin(psi)**2*sin(2*psi)**4/2 - a_lscdr**6*b_lscdr**6*h**4*sin(psi)**2*sin(2*psi)**2*sin(2*psi + pi/4)**2*cos(psi)**2 - 2*sqrt(2)*a_lscdr**6*b_lscdr**6*h**4*sin(psi)**2*sin(2*psi)**2*sin(2*psi + pi/4)*cos(psi)**2*cos(2*psi) + sqrt(2)*a_lscdr**6*b_lscdr**6*h**4*sin(psi)**2*sin(2*psi)**2*sin(2*psi + pi/4)*cos(psi)**2 + sqrt(2)*a_lscdr**6*b_lscdr**6*h**4*sin(psi)**2*sin(2*psi)**2*sin(2*psi + pi/4) - a_lscdr**6*b_lscdr**6*h**4*sin(psi)**2*sin(2*psi)**2*cos(psi)**2*cos(2*psi)**2/2 - a_lscdr**6*b_lscdr**6*h**4*sin(psi)**2*sin(2*psi)**2*cos(psi)**2*cos(2*psi) + a_lscdr**6*b_lscdr**6*h**4*sin(psi)**2*sin(2*psi)**2*cos(psi)**2 + 2*a_lscdr**6*b_lscdr**6*h**4*sin(psi)**2*sin(2*psi)**2*cos(2*psi) - a_lscdr**6*b_lscdr**6*h**4*sin(psi)**2*sin(2*psi)**2 + 4*sqrt(2)*a_lscdr**6*b_lscdr**6*h**4*sin(psi)**2*sin(2*psi + pi/4)*cos(psi)**2*cos(2*psi) - 4*sqrt(2)*a_lscdr**6*b_lscdr**6*h**4*sin(psi)**2*sin(2*psi + pi/4)*cos(psi)**2 + 4*a_lscdr**6*b_lscdr**6*h**4*sin(psi)**2*cos(psi)**2*cos(2*psi) - 4*a_lscdr**6*b_lscdr**6*h**4*sin(psi)**2*cos(psi)**2 + 5*a_lscdr**6*b_lscdr**6*h**4*sin(2*psi)**6/4 + 3*sqrt(2)*a_lscdr**6*b_lscdr**6*h**4*sin(2*psi)**4*sin(2*psi + pi/4)*cos(psi)**2/2 + a_lscdr**6*b_lscdr**6*h**4*sin(2*psi)**4*cos(psi)**2*cos(2*psi) + a_lscdr**6*b_lscdr**6*h**4*sin(2*psi)**4*cos(psi)**2/2 - 3*a_lscdr**6*b_lscdr**6*h**4*sin(2*psi)**4 + a_lscdr**6*b_lscdr**6*h**4*sin(2*psi)**2*sin(2*psi + pi/4)**2*cos(psi)**4 + sqrt(2)*a_lscdr**6*b_lscdr**6*h**4*sin(2*psi)**2*sin(2*psi + pi/4)*cos(psi)**4*cos(2*psi)/2 + sqrt(2)*a_lscdr**6*b_lscdr**6*h**4*sin(2*psi)**2*sin(2*psi + pi/4)*cos(psi)**4/2 - 2*sqrt(2)*a_lscdr**6*b_lscdr**6*h**4*sin(2*psi)**2*sin(2*psi + pi/4)*cos(psi)**2 + a_lscdr**6*b_lscdr**6*h**4*sin(2*psi)**2*cos(psi)**4*cos(2*psi)/2 - a_lscdr**6*b_lscdr**6*h**4*sin(2*psi)**2*cos(psi)**2*cos(2*psi) - a_lscdr**6*b_lscdr**6*h**4*sin(2*psi)**2*cos(psi)**2 + 2*a_lscdr**6*b_lscdr**6*h**4*sin(2*psi)**2 - 2*a_lscdr**6*b_lscdr**6*h**4*sin(2*psi + pi/4)**2*cos(psi)**4 - 2*sqrt(2)*a_lscdr**6*b_lscdr**6*h**4*sin(2*psi + pi/4)*cos(psi)**4 - a_lscdr**6*b_lscdr**6*h**4*cos(psi)**4 + a_lscdr**6*b_lscdr**6*h**3*k*sin(psi)**6*sin(2*psi)*cos(2*psi)**2 - 2*a_lscdr**6*b_lscdr**6*h**3*k*sin(psi)**6*sin(2*psi)*cos(2*psi) + a_lscdr**6*b_lscdr**6*h**3*k*sin(psi)**6*sin(2*psi) - sqrt(2)*a_lscdr**6*b_lscdr**6*h**3*k*sin(psi)**4*sin(2*psi)**3*sin(2*psi + pi/4) - 7*a_lscdr**6*b_lscdr**6*h**3*k*sin(psi)**4*sin(2*psi)**3*cos(2*psi)/2 + 5*a_lscdr**6*b_lscdr**6*h**3*k*sin(psi)**4*sin(2*psi)**3/2 - 6*sqrt(2)*a_lscdr**6*b_lscdr**6*h**3*k*sin(psi)**4*sin(2*psi)*sin(2*psi + pi/4)*cos(psi)**2*cos(2*psi) + 6*sqrt(2)*a_lscdr**6*b_lscdr**6*h**3*k*sin(psi)**4*sin(2*psi)*sin(2*psi + pi/4)*cos(psi)**2 - 3*a_lscdr**6*b_lscdr**6*h**3*k*sin(psi)**4*sin(2*psi)*cos(psi)**2*cos(2*psi)**2 + 3*a_lscdr**6*b_lscdr**6*h**3*k*sin(psi)**4*sin(2*psi)*cos(psi)**2 + 7*a_lscdr**6*b_lscdr**6*h**3*k*sin(psi)**2*sin(2*psi)**5/2 + 7*sqrt(2)*a_lscdr**6*b_lscdr**6*h**3*k*sin(psi)**2*sin(2*psi)**3*sin(2*psi + pi/4)*cos(psi)**2 + 8*a_lscdr**6*b_lscdr**6*h**3*k*sin(psi)**2*sin(2*psi)**3*cos(psi)**2*cos(2*psi) - a_lscdr**6*b_lscdr**6*h**3*k*sin(psi)**2*sin(2*psi)**3*cos(psi)**2 - 4*a_lscdr**6*b_lscdr**6*h**3*k*sin(psi)**2*sin(2*psi)**3 + 6*a_lscdr**6*b_lscdr**6*h**3*k*sin(psi)**2*sin(2*psi)*sin(2*psi + pi/4)**2*cos(psi)**4 + 6*sqrt(2)*a_lscdr**6*b_lscdr**6*h**3*k*sin(psi)**2*sin(2*psi)*sin(2*psi + pi/4)*cos(psi)**4*cos(2*psi) + 6*a_lscdr**6*b_lscdr**6*h**3*k*sin(psi)**2*sin(2*psi)*cos(psi)**4*cos(2*psi) - 3*a_lscdr**6*b_lscdr**6*h**3*k*sin(psi)**2*sin(2*psi)*cos(psi)**4 - 4*a_lscdr**6*b_lscdr**6*h**3*k*sin(psi)**2*sin(2*psi)*cos(psi)**2*cos(2*psi) + 4*a_lscdr**6*b_lscdr**6*h**3*k*sin(psi)**2*sin(2*psi)*cos(psi)**2 - 4*a_lscdr**6*b_lscdr**6*h**3*k*sin(2*psi)**5*cos(psi)**2 - 4*sqrt(2)*a_lscdr**6*b_lscdr**6*h**3*k*sin(2*psi)**3*sin(2*psi + pi/4)*cos(psi)**4 - 3*a_lscdr**6*b_lscdr**6*h**3*k*sin(2*psi)**3*cos(psi)**4*cos(2*psi)/2 - 5*a_lscdr**6*b_lscdr**6*h**3*k*sin(2*psi)**3*cos(psi)**4/2 + 5*a_lscdr**6*b_lscdr**6*h**3*k*sin(2*psi)**3*cos(psi)**2 - 2*a_lscdr**6*b_lscdr**6*h**3*k*sin(2*psi)*sin(2*psi + pi/4)**2*cos(psi)**6 - 2*sqrt(2)*a_lscdr**6*b_lscdr**6*h**3*k*sin(2*psi)*sin(2*psi + pi/4)*cos(psi)**6 + 2*sqrt(2)*a_lscdr**6*b_lscdr**6*h**3*k*sin(2*psi)*sin(2*psi + pi/4)*cos(psi)**4 - a_lscdr**6*b_lscdr**6*h**3*k*sin(2*psi)*cos(psi)**6 + 2*a_lscdr**6*b_lscdr**6*h**3*k*sin(2*psi)*cos(psi)**4 - a_lscdr**6*b_lscdr**6*h**2*k**2*sin(psi)**6*sin(2*psi)**2*cos(2*psi) + a_lscdr**6*b_lscdr**6*h**2*k**2*sin(psi)**6*sin(2*psi)**2 - 4*a_lscdr**6*b_lscdr**6*h**2*k**2*sin(psi)**6*cos(psi)**2*cos(2*psi)**2 + 8*a_lscdr**6*b_lscdr**6*h**2*k**2*sin(psi)**6*cos(psi)**2*cos(2*psi) - 4*a_lscdr**6*b_lscdr**6*h**2*k**2*sin(psi)**6*cos(psi)**2 + 2*a_lscdr**6*b_lscdr**6*h**2*k**2*sin(psi)**4*sin(2*psi)**4 + 3*sqrt(2)*a_lscdr**6*b_lscdr**6*h**2*k**2*sin(psi)**4*sin(2*psi)**2*sin(2*psi + pi/4)*cos(psi)**2 + 12*a_lscdr**6*b_lscdr**6*h**2*k**2*sin(psi)**4*sin(2*psi)**2*cos(psi)**2*cos(2*psi) - 9*a_lscdr**6*b_lscdr**6*h**2*k**2*sin(psi)**4*sin(2*psi)**2*cos(psi)**2 - a_lscdr**6*b_lscdr**6*h**2*k**2*sin(psi)**4*sin(2*psi)**2 + 12*sqrt(2)*a_lscdr**6*b_lscdr**6*h**2*k**2*sin(psi)**4*sin(2*psi + pi/4)*cos(psi)**4*cos(2*psi) - 12*sqrt(2)*a_lscdr**6*b_lscdr**6*h**2*k**2*sin(psi)**4*sin(2*psi + pi/4)*cos(psi)**4 + 12*a_lscdr**6*b_lscdr**6*h**2*k**2*sin(psi)**4*cos(psi)**4*cos(2*psi) - 12*a_lscdr**6*b_lscdr**6*h**2*k**2*sin(psi)**4*cos(psi)**4 - 19*a_lscdr**6*b_lscdr**6*h**2*k**2*sin(psi)**2*sin(2*psi)**4*cos(psi)**2/2 - 12*sqrt(2)*a_lscdr**6*b_lscdr**6*h**2*k**2*sin(psi)**2*sin(2*psi)**2*sin(2*psi + pi/4)*cos(psi)**4 - 9*a_lscdr**6*b_lscdr**6*h**2*k**2*sin(psi)**2*sin(2*psi)**2*cos(psi)**4*cos(2*psi) - 3*a_lscdr**6*b_lscdr**6*h**2*k**2*sin(psi)**2*sin(2*psi)**2*cos(psi)**4 + 4*a_lscdr**6*b_lscdr**6*h**2*k**2*sin(psi)**2*sin(2*psi)**2*cos(psi)**2 - 8*a_lscdr**6*b_lscdr**6*h**2*k**2*sin(psi)**2*sin(2*psi + pi/4)**2*cos(psi)**6 - 8*sqrt(2)*a_lscdr**6*b_lscdr**6*h**2*k**2*sin(psi)**2*sin(2*psi + pi/4)*cos(psi)**6 - 4*a_lscdr**6*b_lscdr**6*h**2*k**2*sin(psi)**2*cos(psi)**6 + 9*a_lscdr**6*b_lscdr**6*h**2*k**2*sin(2*psi)**4*cos(psi)**4/2 + 3*sqrt(2)*a_lscdr**6*b_lscdr**6*h**2*k**2*sin(2*psi)**2*sin(2*psi + pi/4)*cos(psi)**6 + 3*a_lscdr**6*b_lscdr**6*h**2*k**2*sin(2*psi)**2*cos(psi)**6 - 2*a_lscdr**6*b_lscdr**6*h**2*k**2*sin(2*psi)**2*cos(psi)**4 - 3*a_lscdr**6*b_lscdr**6*h*k**3*sin(psi)**4*sin(2*psi)**3*cos(psi)**2 - 12*a_lscdr**6*b_lscdr**6*h*k**3*sin(psi)**4*sin(2*psi)*cos(psi)**4*cos(2*psi) + 12*a_lscdr**6*b_lscdr**6*h*k**3*sin(psi)**4*sin(2*psi)*cos(psi)**4 + 9*a_lscdr**6*b_lscdr**6*h*k**3*sin(psi)**2*sin(2*psi)**3*cos(psi)**4 + 8*sqrt(2)*a_lscdr**6*b_lscdr**6*h*k**3*sin(psi)**2*sin(2*psi)*sin(2*psi + pi/4)*cos(psi)**6 + 8*a_lscdr**6*b_lscdr**6*h*k**3*sin(psi)**2*sin(2*psi)*cos(psi)**6 - 2*a_lscdr**6*b_lscdr**6*h*k**3*sin(2*psi)**3*cos(psi)**6 - 4*a_lscdr**6*b_lscdr**6*k**4*sin(psi)**2*sin(2*psi)**2*cos(psi)**6 - a_lscdr**4*b_lscdr**12*sin(psi)**4*sin(2*psi)**2 - 2*a_lscdr**4*b_lscdr**10*h**2*sin(psi)**6*sin(2*psi + pi/4)**2 - 2*sqrt(2)*a_lscdr**4*b_lscdr**10*h**2*sin(psi)**6*sin(2*psi + pi/4)*cos(2*psi) - 2*a_lscdr**4*b_lscdr**10*h**2*sin(psi)**6*cos(2*psi) + a_lscdr**4*b_lscdr**10*h**2*sin(psi)**6 + 3*sqrt(2)*a_lscdr**4*b_lscdr**10*h**2*sin(psi)**4*sin(2*psi)**2*sin(2*psi + pi/4) + a_lscdr**4*b_lscdr**10*h**2*sin(psi)**4*sin(2*psi)**2*cos(2*psi) + 2*a_lscdr**4*b_lscdr**10*h**2*sin(psi)**4*sin(2*psi)**2 + 4*a_lscdr**4*b_lscdr**10*h**2*sin(psi)**4*sin(2*psi + pi/4)**2*cos(psi)**2 + 2*a_lscdr**4*b_lscdr**10*h**2*sin(psi)**4*sin(2*psi + pi/4)**2 + 4*sqrt(2)*a_lscdr**4*b_lscdr**10*h**2*sin(psi)**4*sin(2*psi + pi/4)*cos(psi)**2 + 2*sqrt(2)*a_lscdr**4*b_lscdr**10*h**2*sin(psi)**4*sin(2*psi + pi/4) + 2*a_lscdr**4*b_lscdr**10*h**2*sin(psi)**4*cos(psi)**2 + a_lscdr**4*b_lscdr**10*h**2*sin(psi)**4 - 5*a_lscdr**4*b_lscdr**10*h**2*sin(psi)**2*sin(2*psi)**4/2 - sqrt(2)*a_lscdr**4*b_lscdr**10*h**2*sin(psi)**2*sin(2*psi)**2*sin(2*psi + pi/4)*cos(psi)**2 - sqrt(2)*a_lscdr**4*b_lscdr**10*h**2*sin(psi)**2*sin(2*psi)**2*sin(2*psi + pi/4) - a_lscdr**4*b_lscdr**10*h**2*sin(psi)**2*sin(2*psi)**2*cos(psi)**2 + a_lscdr**4*b_lscdr**10*h**2*sin(psi)**2*sin(2*psi)**2 + a_lscdr**4*b_lscdr**10*h**2*sin(2*psi)**4/2 + 2*sqrt(2)*a_lscdr**4*b_lscdr**10*h*k*sin(psi)**6*sin(2*psi)*sin(2*psi + pi/4) + 2*a_lscdr**4*b_lscdr**10*h*k*sin(psi)**6*sin(2*psi)*cos(2*psi) - 7*a_lscdr**4*b_lscdr**10*h*k*sin(psi)**4*sin(2*psi)**3 - 4*sqrt(2)*a_lscdr**4*b_lscdr**10*h*k*sin(psi)**4*sin(2*psi)*sin(2*psi + pi/4)*cos(psi)**2 - 2*sqrt(2)*a_lscdr**4*b_lscdr**10*h*k*sin(psi)**4*sin(2*psi)*sin(2*psi + pi/4) - 4*a_lscdr**4*b_lscdr**10*h*k*sin(psi)**4*sin(2*psi)*cos(psi)**2 - 2*a_lscdr**4*b_lscdr**10*h*k*sin(psi)**4*sin(2*psi) + 2*a_lscdr**4*b_lscdr**10*h*k*sin(psi)**2*sin(2*psi)**3*cos(psi)**2 + 2*a_lscdr**4*b_lscdr**10*h*k*sin(psi)**2*sin(2*psi)**3 - 4*a_lscdr**4*b_lscdr**10*k**2*sin(psi)**6*sin(2*psi)**2 + 4*a_lscdr**4*b_lscdr**10*k**2*sin(psi)**4*sin(2*psi)**2*cos(psi)**2 + 2*a_lscdr**4*b_lscdr**10*k**2*sin(psi)**4*sin(2*psi)**2 - a_lscdr**4*b_lscdr**8*h**4*sin(psi)**4*sin(2*psi)**2*sin(2*psi + pi/4)**2/2 - sqrt(2)*a_lscdr**4*b_lscdr**8*h**4*sin(psi)**4*sin(2*psi)**2*sin(2*psi + pi/4)*cos(2*psi) + sqrt(2)*a_lscdr**4*b_lscdr**8*h**4*sin(psi)**4*sin(2*psi)**2*sin(2*psi + pi/4)/2 - a_lscdr**4*b_lscdr**8*h**4*sin(psi)**4*sin(2*psi)**2*cos(2*psi)**2/4 - a_lscdr**4*b_lscdr**8*h**4*sin(psi)**4*sin(2*psi)**2*cos(2*psi)/2 + a_lscdr**4*b_lscdr**8*h**4*sin(psi)**4*sin(2*psi)**2/2 + 2*sqrt(2)*a_lscdr**4*b_lscdr**8*h**4*sin(psi)**4*sin(2*psi + pi/4)*cos(2*psi) - 2*sqrt(2)*a_lscdr**4*b_lscdr**8*h**4*sin(psi)**4*sin(2*psi + pi/4) + 2*a_lscdr**4*b_lscdr**8*h**4*sin(psi)**4*cos(2*psi) - 2*a_lscdr**4*b_lscdr**8*h**4*sin(psi)**4 + 3*sqrt(2)*a_lscdr**4*b_lscdr**8*h**4*sin(psi)**2*sin(2*psi)**4*sin(2*psi + pi/4)/2 + a_lscdr**4*b_lscdr**8*h**4*sin(psi)**2*sin(2*psi)**4*cos(2*psi) + a_lscdr**4*b_lscdr**8*h**4*sin(psi)**2*sin(2*psi)**4/2 + 2*a_lscdr**4*b_lscdr**8*h**4*sin(psi)**2*sin(2*psi)**2*sin(2*psi + pi/4)**2*cos(psi)**2 + sqrt(2)*a_lscdr**4*b_lscdr**8*h**4*sin(psi)**2*sin(2*psi)**2*sin(2*psi + pi/4)*cos(psi)**2*cos(2*psi) + sqrt(2)*a_lscdr**4*b_lscdr**8*h**4*sin(psi)**2*sin(2*psi)**2*sin(2*psi + pi/4)*cos(psi)**2 - 2*sqrt(2)*a_lscdr**4*b_lscdr**8*h**4*sin(psi)**2*sin(2*psi)**2*sin(2*psi + pi/4) + a_lscdr**4*b_lscdr**8*h**4*sin(psi)**2*sin(2*psi)**2*cos(psi)**2*cos(2*psi) - a_lscdr**4*b_lscdr**8*h**4*sin(psi)**2*sin(2*psi)**2*cos(2*psi) - a_lscdr**4*b_lscdr**8*h**4*sin(psi)**2*sin(2*psi)**2 - 4*a_lscdr**4*b_lscdr**8*h**4*sin(psi)**2*sin(2*psi + pi/4)**2*cos(psi)**2 - 4*sqrt(2)*a_lscdr**4*b_lscdr**8*h**4*sin(psi)**2*sin(2*psi + pi/4)*cos(psi)**2 - 2*a_lscdr**4*b_lscdr**8*h**4*sin(psi)**2*cos(psi)**2 - 15*a_lscdr**4*b_lscdr**8*h**4*sin(2*psi)**6/16 - sqrt(2)*a_lscdr**4*b_lscdr**8*h**4*sin(2*psi)**4*sin(2*psi + pi/4)*cos(psi)**2 - a_lscdr**4*b_lscdr**8*h**4*sin(2*psi)**4*cos(psi)**2*cos(2*psi)/4 - 3*a_lscdr**4*b_lscdr**8*h**4*sin(2*psi)**4*cos(psi)**2/4 + 2*a_lscdr**4*b_lscdr**8*h**4*sin(2*psi)**4 - a_lscdr**4*b_lscdr**8*h**4*sin(2*psi)**2*sin(2*psi + pi/4)**2*cos(psi)**4/2 - sqrt(2)*a_lscdr**4*b_lscdr**8*h**4*sin(2*psi)**2*sin(2*psi + pi/4)*cos(psi)**4/2 + sqrt(2)*a_lscdr**4*b_lscdr**8*h**4*sin(2*psi)**2*sin(2*psi + pi/4)*cos(psi)**2 - a_lscdr**4*b_lscdr**8*h**4*sin(2*psi)**2*cos(psi)**4/4 + a_lscdr**4*b_lscdr**8*h**4*sin(2*psi)**2*cos(psi)**2 - a_lscdr**4*b_lscdr**8*h**4*sin(2*psi)**2 - 2*sqrt(2)*a_lscdr**4*b_lscdr**8*h**3*k*sin(psi)**6*sin(2*psi)*sin(2*psi + pi/4)*cos(2*psi) + 2*sqrt(2)*a_lscdr**4*b_lscdr**8*h**3*k*sin(psi)**6*sin(2*psi)*sin(2*psi + pi/4) - a_lscdr**4*b_lscdr**8*h**3*k*sin(psi)**6*sin(2*psi)*cos(2*psi)**2 + a_lscdr**4*b_lscdr**8*h**3*k*sin(psi)**6*sin(2*psi) + 7*sqrt(2)*a_lscdr**4*b_lscdr**8*h**3*k*sin(psi)**4*sin(2*psi)**3*sin(2*psi + pi/4)/2 + 4*a_lscdr**4*b_lscdr**8*h**3*k*sin(psi)**4*sin(2*psi)**3*cos(2*psi) - a_lscdr**4*b_lscdr**8*h**3*k*sin(psi)**4*sin(2*psi)**3/2 + 6*a_lscdr**4*b_lscdr**8*h**3*k*sin(psi)**4*sin(2*psi)*sin(2*psi + pi/4)**2*cos(psi)**2 + 6*sqrt(2)*a_lscdr**4*b_lscdr**8*h**3*k*sin(psi)**4*sin(2*psi)*sin(2*psi + pi/4)*cos(psi)**2*cos(2*psi) + 6*a_lscdr**4*b_lscdr**8*h**3*k*sin(psi)**4*sin(2*psi)*cos(psi)**2*cos(2*psi) - 3*a_lscdr**4*b_lscdr**8*h**3*k*sin(psi)**4*sin(2*psi)*cos(psi)**2 - 2*a_lscdr**4*b_lscdr**8*h**3*k*sin(psi)**4*sin(2*psi)*cos(2*psi) + 2*a_lscdr**4*b_lscdr**8*h**3*k*sin(psi)**4*sin(2*psi) - 4*a_lscdr**4*b_lscdr**8*h**3*k*sin(psi)**2*sin(2*psi)**5 - 8*sqrt(2)*a_lscdr**4*b_lscdr**8*h**3*k*sin(psi)**2*sin(2*psi)**3*sin(2*psi + pi/4)*cos(psi)**2 - 3*a_lscdr**4*b_lscdr**8*h**3*k*sin(psi)**2*sin(2*psi)**3*cos(psi)**2*cos(2*psi) - 5*a_lscdr**4*b_lscdr**8*h**3*k*sin(psi)**2*sin(2*psi)**3*cos(psi)**2 + 5*a_lscdr**4*b_lscdr**8*h**3*k*sin(psi)**2*sin(2*psi)**3 - 6*a_lscdr**4*b_lscdr**8*h**3*k*sin(psi)**2*sin(2*psi)*sin(2*psi + pi/4)**2*cos(psi)**4 - 6*sqrt(2)*a_lscdr**4*b_lscdr**8*h**3*k*sin(psi)**2*sin(2*psi)*sin(2*psi + pi/4)*cos(psi)**4 + 4*sqrt(2)*a_lscdr**4*b_lscdr**8*h**3*k*sin(psi)**2*sin(2*psi)*sin(2*psi + pi/4)*cos(psi)**2 - 3*a_lscdr**4*b_lscdr**8*h**3*k*sin(psi)**2*sin(2*psi)*cos(psi)**4 + 4*a_lscdr**4*b_lscdr**8*h**3*k*sin(psi)**2*sin(2*psi)*cos(psi)**2 + 9*a_lscdr**4*b_lscdr**8*h**3*k*sin(2*psi)**5*cos(psi)**2/4 + 3*sqrt(2)*a_lscdr**4*b_lscdr**8*h**3*k*sin(2*psi)**3*sin(2*psi + pi/4)*cos(psi)**4/2 + 3*a_lscdr**4*b_lscdr**8*h**3*k*sin(2*psi)**3*cos(psi)**4/2 - 2*a_lscdr**4*b_lscdr**8*h**3*k*sin(2*psi)**3*cos(psi)**2 - a_lscdr**4*b_lscdr**8*h**2*k**2*sin(psi)**8*cos(2*psi)**2 + 2*a_lscdr**4*b_lscdr**8*h**2*k**2*sin(psi)**8*cos(2*psi) - a_lscdr**4*b_lscdr**8*h**2*k**2*sin(psi)**8 + sqrt(2)*a_lscdr**4*b_lscdr**8*h**2*k**2*sin(psi)**6*sin(2*psi)**2*sin(2*psi + pi/4) + 4*a_lscdr**4*b_lscdr**8*h**2*k**2*sin(psi)**6*sin(2*psi)**2*cos(2*psi) - 3*a_lscdr**4*b_lscdr**8*h**2*k**2*sin(psi)**6*sin(2*psi)**2 + 8*sqrt(2)*a_lscdr**4*b_lscdr**8*h**2*k**2*sin(psi)**6*sin(2*psi + pi/4)*cos(psi)**2*cos(2*psi) - 8*sqrt(2)*a_lscdr**4*b_lscdr**8*h**2*k**2*sin(psi)**6*sin(2*psi + pi/4)*cos(psi)**2 + 8*a_lscdr**4*b_lscdr**8*h**2*k**2*sin(psi)**6*cos(psi)**2*cos(2*psi) - 8*a_lscdr**4*b_lscdr**8*h**2*k**2*sin(psi)**6*cos(psi)**2 - 19*a_lscdr**4*b_lscdr**8*h**2*k**2*sin(psi)**4*sin(2*psi)**4/4 - 12*sqrt(2)*a_lscdr**4*b_lscdr**8*h**2*k**2*sin(psi)**4*sin(2*psi)**2*sin(2*psi + pi/4)*cos(psi)**2 - 9*a_lscdr**4*b_lscdr**8*h**2*k**2*sin(psi)**4*sin(2*psi)**2*cos(psi)**2*cos(2*psi) - 3*a_lscdr**4*b_lscdr**8*h**2*k**2*sin(psi)**4*sin(2*psi)**2*cos(psi)**2 + 2*a_lscdr**4*b_lscdr**8*h**2*k**2*sin(psi)**4*sin(2*psi)**2 - 12*a_lscdr**4*b_lscdr**8*h**2*k**2*sin(psi)**4*sin(2*psi + pi/4)**2*cos(psi)**4 - 12*sqrt(2)*a_lscdr**4*b_lscdr**8*h**2*k**2*sin(psi)**4*sin(2*psi + pi/4)*cos(psi)**4 - 6*a_lscdr**4*b_lscdr**8*h**2*k**2*sin(psi)**4*cos(psi)**4 + 9*a_lscdr**4*b_lscdr**8*h**2*k**2*sin(psi)**2*sin(2*psi)**4*cos(psi)**2 + 9*sqrt(2)*a_lscdr**4*b_lscdr**8*h**2*k**2*sin(psi)**2*sin(2*psi)**2*sin(2*psi + pi/4)*cos(psi)**4 + 9*a_lscdr**4*b_lscdr**8*h**2*k**2*sin(psi)**2*sin(2*psi)**2*cos(psi)**4 - 4*a_lscdr**4*b_lscdr**8*h**2*k**2*sin(psi)**2*sin(2*psi)**2*cos(psi)**2 - 3*a_lscdr**4*b_lscdr**8*h**2*k**2*sin(2*psi)**4*cos(psi)**4/2 - a_lscdr**4*b_lscdr**8*h*k**3*sin(psi)**6*sin(2*psi)**3 - 8*a_lscdr**4*b_lscdr**8*h*k**3*sin(psi)**6*sin(2*psi)*cos(psi)**2*cos(2*psi) + 8*a_lscdr**4*b_lscdr**8*h*k**3*sin(psi)**6*sin(2*psi)*cos(psi)**2 + 9*a_lscdr**4*b_lscdr**8*h*k**3*sin(psi)**4*sin(2*psi)**3*cos(psi)**2 + 12*sqrt(2)*a_lscdr**4*b_lscdr**8*h*k**3*sin(psi)**4*sin(2*psi)*sin(2*psi + pi/4)*cos(psi)**4 + 12*a_lscdr**4*b_lscdr**8*h*k**3*sin(psi)**4*sin(2*psi)*cos(psi)**4 - 6*a_lscdr**4*b_lscdr**8*h*k**3*sin(psi)**2*sin(2*psi)**3*cos(psi)**4 - 6*a_lscdr**4*b_lscdr**8*k**4*sin(psi)**4*sin(2*psi)**2*cos(psi)**4 + 2*a_lscdr**2*b_lscdr**12*h**2*sin(psi)**6*sin(2*psi + pi/4)**2 + 2*sqrt(2)*a_lscdr**2*b_lscdr**12*h**2*sin(psi)**6*sin(2*psi + pi/4) + a_lscdr**2*b_lscdr**12*h**2*sin(psi)**6 - sqrt(2)*a_lscdr**2*b_lscdr**12*h**2*sin(psi)**4*sin(2*psi)**2*sin(2*psi + pi/4) - a_lscdr**2*b_lscdr**12*h**2*sin(psi)**4*sin(2*psi)**2 + a_lscdr**2*b_lscdr**12*h**2*sin(psi)**2*sin(2*psi)**4/2 - 2*sqrt(2)*a_lscdr**2*b_lscdr**12*h*k*sin(psi)**6*sin(2*psi)*sin(2*psi + pi/4) - 2*a_lscdr**2*b_lscdr**12*h*k*sin(psi)**6*sin(2*psi) + 2*a_lscdr**2*b_lscdr**12*h*k*sin(psi)**4*sin(2*psi)**3 + 2*a_lscdr**2*b_lscdr**12*k**2*sin(psi)**6*sin(2*psi)**2 + a_lscdr**2*b_lscdr**10*h**4*sin(psi)**4*sin(2*psi)**2*sin(2*psi + pi/4)**2 + sqrt(2)*a_lscdr**2*b_lscdr**10*h**4*sin(psi)**4*sin(2*psi)**2*sin(2*psi + pi/4)*cos(2*psi)/2 + sqrt(2)*a_lscdr**2*b_lscdr**10*h**4*sin(psi)**4*sin(2*psi)**2*sin(2*psi + pi/4)/2 + a_lscdr**2*b_lscdr**10*h**4*sin(psi)**4*sin(2*psi)**2*cos(2*psi)/2 - 2*a_lscdr**2*b_lscdr**10*h**4*sin(psi)**4*sin(2*psi + pi/4)**2 - 2*sqrt(2)*a_lscdr**2*b_lscdr**10*h**4*sin(psi)**4*sin(2*psi + pi/4) - a_lscdr**2*b_lscdr**10*h**4*sin(psi)**4 - sqrt(2)*a_lscdr**2*b_lscdr**10*h**4*sin(psi)**2*sin(2*psi)**4*sin(2*psi + pi/4) - a_lscdr**2*b_lscdr**10*h**4*sin(psi)**2*sin(2*psi)**4*cos(2*psi)/4 - 3*a_lscdr**2*b_lscdr**10*h**4*sin(psi)**2*sin(2*psi)**4/4 - a_lscdr**2*b_lscdr**10*h**4*sin(psi)**2*sin(2*psi)**2*sin(2*psi + pi/4)**2*cos(psi)**2 - sqrt(2)*a_lscdr**2*b_lscdr**10*h**4*sin(psi)**2*sin(2*psi)**2*sin(2*psi + pi/4)*cos(psi)**2 + sqrt(2)*a_lscdr**2*b_lscdr**10*h**4*sin(psi)**2*sin(2*psi)**2*sin(2*psi + pi/4) - a_lscdr**2*b_lscdr**10*h**4*sin(psi)**2*sin(2*psi)**2*cos(psi)**2/2 + a_lscdr**2*b_lscdr**10*h**4*sin(psi)**2*sin(2*psi)**2 + 3*a_lscdr**2*b_lscdr**10*h**4*sin(2*psi)**6/8 + sqrt(2)*a_lscdr**2*b_lscdr**10*h**4*sin(2*psi)**4*sin(2*psi + pi/4)*cos(psi)**2/4 + a_lscdr**2*b_lscdr**10*h**4*sin(2*psi)**4*cos(psi)**2/4 - a_lscdr**2*b_lscdr**10*h**4*sin(2*psi)**4/2 + 2*a_lscdr**2*b_lscdr**10*h**3*k*sin(psi)**6*sin(2*psi)*sin(2*psi + pi/4)**2 + 2*sqrt(2)*a_lscdr**2*b_lscdr**10*h**3*k*sin(psi)**6*sin(2*psi)*sin(2*psi + pi/4)*cos(2*psi) + 2*a_lscdr**2*b_lscdr**10*h**3*k*sin(psi)**6*sin(2*psi)*cos(2*psi) - a_lscdr**2*b_lscdr**10*h**3*k*sin(psi)**6*sin(2*psi) - 4*sqrt(2)*a_lscdr**2*b_lscdr**10*h**3*k*sin(psi)**4*sin(2*psi)**3*sin(2*psi + pi/4) - 3*a_lscdr**2*b_lscdr**10*h**3*k*sin(psi)**4*sin(2*psi)**3*cos(2*psi)/2 - 5*a_lscdr**2*b_lscdr**10*h**3*k*sin(psi)**4*sin(2*psi)**3/2 - 6*a_lscdr**2*b_lscdr**10*h**3*k*sin(psi)**4*sin(2*psi)*sin(2*psi + pi/4)**2*cos(psi)**2 - 6*sqrt(2)*a_lscdr**2*b_lscdr**10*h**3*k*sin(psi)**4*sin(2*psi)*sin(2*psi + pi/4)*cos(psi)**2 + 2*sqrt(2)*a_lscdr**2*b_lscdr**10*h**3*k*sin(psi)**4*sin(2*psi)*sin(2*psi + pi/4) - 3*a_lscdr**2*b_lscdr**10*h**3*k*sin(psi)**4*sin(2*psi)*cos(psi)**2 + 2*a_lscdr**2*b_lscdr**10*h**3*k*sin(psi)**4*sin(2*psi) + 9*a_lscdr**2*b_lscdr**10*h**3*k*sin(psi)**2*sin(2*psi)**5/4 + 3*sqrt(2)*a_lscdr**2*b_lscdr**10*h**3*k*sin(psi)**2*sin(2*psi)**3*sin(2*psi + pi/4)*cos(psi)**2 + 3*a_lscdr**2*b_lscdr**10*h**3*k*sin(psi)**2*sin(2*psi)**3*cos(psi)**2 - 2*a_lscdr**2*b_lscdr**10*h**3*k*sin(psi)**2*sin(2*psi)**3 - a_lscdr**2*b_lscdr**10*h**3*k*sin(2*psi)**5*cos(psi)**2/2 + 2*sqrt(2)*a_lscdr**2*b_lscdr**10*h**2*k**2*sin(psi)**8*sin(2*psi + pi/4)*cos(2*psi) - 2*sqrt(2)*a_lscdr**2*b_lscdr**10*h**2*k**2*sin(psi)**8*sin(2*psi + pi/4) + 2*a_lscdr**2*b_lscdr**10*h**2*k**2*sin(psi)**8*cos(2*psi) - 2*a_lscdr**2*b_lscdr**10*h**2*k**2*sin(psi)**8 - 4*sqrt(2)*a_lscdr**2*b_lscdr**10*h**2*k**2*sin(psi)**6*sin(2*psi)**2*sin(2*psi + pi/4) - 3*a_lscdr**2*b_lscdr**10*h**2*k**2*sin(psi)**6*sin(2*psi)**2*cos(2*psi) - a_lscdr**2*b_lscdr**10*h**2*k**2*sin(psi)**6*sin(2*psi)**2 - 8*a_lscdr**2*b_lscdr**10*h**2*k**2*sin(psi)**6*sin(2*psi + pi/4)**2*cos(psi)**2 - 8*sqrt(2)*a_lscdr**2*b_lscdr**10*h**2*k**2*sin(psi)**6*sin(2*psi + pi/4)*cos(psi)**2 - 4*a_lscdr**2*b_lscdr**10*h**2*k**2*sin(psi)**6*cos(psi)**2 + 9*a_lscdr**2*b_lscdr**10*h**2*k**2*sin(psi)**4*sin(2*psi)**4/2 + 9*sqrt(2)*a_lscdr**2*b_lscdr**10*h**2*k**2*sin(psi)**4*sin(2*psi)**2*sin(2*psi + pi/4)*cos(psi)**2 + 9*a_lscdr**2*b_lscdr**10*h**2*k**2*sin(psi)**4*sin(2*psi)**2*cos(psi)**2 - 2*a_lscdr**2*b_lscdr**10*h**2*k**2*sin(psi)**4*sin(2*psi)**2 - 3*a_lscdr**2*b_lscdr**10*h**2*k**2*sin(psi)**2*sin(2*psi)**4*cos(psi)**2 - 2*a_lscdr**2*b_lscdr**10*h*k**3*sin(psi)**8*sin(2*psi)*cos(2*psi) + 2*a_lscdr**2*b_lscdr**10*h*k**3*sin(psi)**8*sin(2*psi) + 3*a_lscdr**2*b_lscdr**10*h*k**3*sin(psi)**6*sin(2*psi)**3 + 8*sqrt(2)*a_lscdr**2*b_lscdr**10*h*k**3*sin(psi)**6*sin(2*psi)*sin(2*psi + pi/4)*cos(psi)**2 + 8*a_lscdr**2*b_lscdr**10*h*k**3*sin(psi)**6*sin(2*psi)*cos(psi)**2 - 6*a_lscdr**2*b_lscdr**10*h*k**3*sin(psi)**4*sin(2*psi)**3*cos(psi)**2 - 4*a_lscdr**2*b_lscdr**10*k**4*sin(psi)**6*sin(2*psi)**2*cos(psi)**2 - b_lscdr**12*h**4*sin(psi)**4*sin(2*psi)**2*sin(2*psi + pi/4)**2/2 - sqrt(2)*b_lscdr**12*h**4*sin(psi)**4*sin(2*psi)**2*sin(2*psi + pi/4)/2 - b_lscdr**12*h**4*sin(psi)**4*sin(2*psi)**2/4 + sqrt(2)*b_lscdr**12*h**4*sin(psi)**2*sin(2*psi)**4*sin(2*psi + pi/4)/4 + b_lscdr**12*h**4*sin(psi)**2*sin(2*psi)**4/4 - b_lscdr**12*h**4*sin(2*psi)**6/16 - 2*b_lscdr**12*h**3*k*sin(psi)**6*sin(2*psi)*sin(2*psi + pi/4)**2 - 2*sqrt(2)*b_lscdr**12*h**3*k*sin(psi)**6*sin(2*psi)*sin(2*psi + pi/4) - b_lscdr**12*h**3*k*sin(psi)**6*sin(2*psi) + 3*sqrt(2)*b_lscdr**12*h**3*k*sin(psi)**4*sin(2*psi)**3*sin(2*psi + pi/4)/2 + 3*b_lscdr**12*h**3*k*sin(psi)**4*sin(2*psi)**3/2 - b_lscdr**12*h**3*k*sin(psi)**2*sin(2*psi)**5/2 - 2*b_lscdr**12*h**2*k**2*sin(psi)**8*sin(2*psi + pi/4)**2 - 2*sqrt(2)*b_lscdr**12*h**2*k**2*sin(psi)**8*sin(2*psi + pi/4) - b_lscdr**12*h**2*k**2*sin(psi)**8 + 3*sqrt(2)*b_lscdr**12*h**2*k**2*sin(psi)**6*sin(2*psi)**2*sin(2*psi + pi/4) + 3*b_lscdr**12*h**2*k**2*sin(psi)**6*sin(2*psi)**2 - 3*b_lscdr**12*h**2*k**2*sin(psi)**4*sin(2*psi)**4/2 + 2*sqrt(2)*b_lscdr**12*h*k**3*sin(psi)**8*sin(2*psi)*sin(2*psi + pi/4) + 2*b_lscdr**12*h*k**3*sin(psi)**8*sin(2*psi) - 2*b_lscdr**12*h*k**3*sin(psi)**6*sin(2*psi)**3 - b_lscdr**12*k**4*sin(psi)**8*sin(2*psi)**2\n"
     ]
    }
   ],
   "source": [
    "print(E2)"
   ]
  },
  {
   "cell_type": "code",
   "execution_count": 48,
   "metadata": {},
   "outputs": [
    {
     "data": {
      "text/plain": [
       "5"
      ]
     },
     "execution_count": 48,
     "metadata": {},
     "output_type": "execute_result"
    }
   ],
   "source": [
    "len(finalEqnPoly.coeffs())"
   ]
  },
  {
   "cell_type": "code",
   "execution_count": null,
   "metadata": {},
   "outputs": [],
   "source": []
  },
  {
   "cell_type": "markdown",
   "metadata": {},
   "source": [
    "# Ellipse-Ellipse Intersections"
   ]
  },
  {
   "cell_type": "code",
   "execution_count": 49,
   "metadata": {},
   "outputs": [],
   "source": [
    "a_look, b_look, b_orbit = sp.symbols(\"a_look, b_look, b_orbit\", real=True)"
   ]
  },
  {
   "cell_type": "code",
   "execution_count": 50,
   "metadata": {},
   "outputs": [],
   "source": [
    "yeqn_orbit = sp.sqrt(b_orbit**2 - x**2)"
   ]
  },
  {
   "cell_type": "code",
   "execution_count": 51,
   "metadata": {},
   "outputs": [],
   "source": [
    "ellellIntEqn = ((x-h)*sp.cos(psi) + (y-k)*sp.sin(psi))**2/a_look**2 + ((x-h)*sp.sin(psi) - (y-k)*sp.cos(psi))**2/b_look**2 - 1"
   ]
  },
  {
   "cell_type": "code",
   "execution_count": 52,
   "metadata": {},
   "outputs": [],
   "source": [
    "ellellIntEqn2 = ellellIntEqn.subs(y,yeqn_orbit)"
   ]
  },
  {
   "cell_type": "code",
   "execution_count": 53,
   "metadata": {},
   "outputs": [
    {
     "data": {
      "text/latex": [
       "$\\displaystyle -1 + \\frac{b_{orbit}^{2} \\cos^{2}{\\left(\\psi \\right)}}{b_{look}^{2}} + \\frac{h^{2} \\sin^{2}{\\left(\\psi \\right)}}{b_{look}^{2}} - \\frac{2 h k \\sin{\\left(\\psi \\right)} \\cos{\\left(\\psi \\right)}}{b_{look}^{2}} - \\frac{2 h x \\sin^{2}{\\left(\\psi \\right)}}{b_{look}^{2}} + \\frac{2 h \\sqrt{b_{orbit}^{2} - x^{2}} \\sin{\\left(\\psi \\right)} \\cos{\\left(\\psi \\right)}}{b_{look}^{2}} + \\frac{k^{2} \\cos^{2}{\\left(\\psi \\right)}}{b_{look}^{2}} + \\frac{2 k x \\sin{\\left(\\psi \\right)} \\cos{\\left(\\psi \\right)}}{b_{look}^{2}} - \\frac{2 k \\sqrt{b_{orbit}^{2} - x^{2}} \\cos^{2}{\\left(\\psi \\right)}}{b_{look}^{2}} + \\frac{x^{2} \\sin^{2}{\\left(\\psi \\right)}}{b_{look}^{2}} - \\frac{x^{2} \\cos^{2}{\\left(\\psi \\right)}}{b_{look}^{2}} - \\frac{2 x \\sqrt{b_{orbit}^{2} - x^{2}} \\sin{\\left(\\psi \\right)} \\cos{\\left(\\psi \\right)}}{b_{look}^{2}} + \\frac{b_{orbit}^{2} \\sin^{2}{\\left(\\psi \\right)}}{a_{look}^{2}} + \\frac{h^{2} \\cos^{2}{\\left(\\psi \\right)}}{a_{look}^{2}} + \\frac{2 h k \\sin{\\left(\\psi \\right)} \\cos{\\left(\\psi \\right)}}{a_{look}^{2}} - \\frac{2 h x \\cos^{2}{\\left(\\psi \\right)}}{a_{look}^{2}} - \\frac{2 h \\sqrt{b_{orbit}^{2} - x^{2}} \\sin{\\left(\\psi \\right)} \\cos{\\left(\\psi \\right)}}{a_{look}^{2}} + \\frac{k^{2} \\sin^{2}{\\left(\\psi \\right)}}{a_{look}^{2}} - \\frac{2 k x \\sin{\\left(\\psi \\right)} \\cos{\\left(\\psi \\right)}}{a_{look}^{2}} - \\frac{2 k \\sqrt{b_{orbit}^{2} - x^{2}} \\sin^{2}{\\left(\\psi \\right)}}{a_{look}^{2}} - \\frac{x^{2} \\sin^{2}{\\left(\\psi \\right)}}{a_{look}^{2}} + \\frac{x^{2} \\cos^{2}{\\left(\\psi \\right)}}{a_{look}^{2}} + \\frac{2 x \\sqrt{b_{orbit}^{2} - x^{2}} \\sin{\\left(\\psi \\right)} \\cos{\\left(\\psi \\right)}}{a_{look}^{2}}$"
      ],
      "text/plain": [
       "-1 + b_orbit**2*cos(psi)**2/b_look**2 + h**2*sin(psi)**2/b_look**2 - 2*h*k*sin(psi)*cos(psi)/b_look**2 - 2*h*x*sin(psi)**2/b_look**2 + 2*h*sqrt(b_orbit**2 - x**2)*sin(psi)*cos(psi)/b_look**2 + k**2*cos(psi)**2/b_look**2 + 2*k*x*sin(psi)*cos(psi)/b_look**2 - 2*k*sqrt(b_orbit**2 - x**2)*cos(psi)**2/b_look**2 + x**2*sin(psi)**2/b_look**2 - x**2*cos(psi)**2/b_look**2 - 2*x*sqrt(b_orbit**2 - x**2)*sin(psi)*cos(psi)/b_look**2 + b_orbit**2*sin(psi)**2/a_look**2 + h**2*cos(psi)**2/a_look**2 + 2*h*k*sin(psi)*cos(psi)/a_look**2 - 2*h*x*cos(psi)**2/a_look**2 - 2*h*sqrt(b_orbit**2 - x**2)*sin(psi)*cos(psi)/a_look**2 + k**2*sin(psi)**2/a_look**2 - 2*k*x*sin(psi)*cos(psi)/a_look**2 - 2*k*sqrt(b_orbit**2 - x**2)*sin(psi)**2/a_look**2 - x**2*sin(psi)**2/a_look**2 + x**2*cos(psi)**2/a_look**2 + 2*x*sqrt(b_orbit**2 - x**2)*sin(psi)*cos(psi)/a_look**2"
      ]
     },
     "execution_count": 53,
     "metadata": {},
     "output_type": "execute_result"
    }
   ],
   "source": [
    "sp.expand(ellellIntEqn2)"
   ]
  },
  {
   "cell_type": "code",
   "execution_count": 54,
   "metadata": {},
   "outputs": [],
   "source": [
    "ellellIntEqn2Poly = sp.Poly(ellellIntEqn2,sp.sqrt(b_orbit**2 - x**2))\n",
    "group1_ellellIntEqn2 = ellellIntEqn2Poly.coeffs()[0] # Coefficient of sp.sqrt(b_orbit**2 - x**2)\n",
    "group2_ellellIntEqn2 = ellellIntEqn2Poly.coeffs()[1] # Constant without sp.sqrt(b_orbit**2 - x**2)"
   ]
  },
  {
   "cell_type": "code",
   "execution_count": 55,
   "metadata": {},
   "outputs": [],
   "source": [
    "group1_ellellIntEqn2Poly = sp.Poly(group1_ellellIntEqn2,x)\n",
    "A_ellellIntEqn2 = group1_ellellIntEqn2Poly.coeffs()[0]\n",
    "B_ellellIntEqn2 = group1_ellellIntEqn2Poly.coeffs()[1]\n",
    "group2_ellellIntEqn2Poly = sp.Poly(group2_ellellIntEqn2,x)\n",
    "C_ellellIntEqn2 = group2_ellellIntEqn2Poly.coeffs()[0]\n",
    "D_ellellIntEqn2 = group2_ellellIntEqn2Poly.coeffs()[1]\n",
    "E_ellellIntEqn2 = group2_ellellIntEqn2Poly.coeffs()[2]"
   ]
  },
  {
   "cell_type": "code",
   "execution_count": 56,
   "metadata": {},
   "outputs": [],
   "source": [
    "A, B, C, D, E = sp.symbols(\"A, B, C, D, E\",real=True)"
   ]
  },
  {
   "cell_type": "code",
   "execution_count": 57,
   "metadata": {},
   "outputs": [],
   "source": [
    "#Take form (Ax + B)*sqrt(b_orbit^2 - x^2) + Cx^2 + Dx + E = 0 isolate terms by square root and square both sides\n",
    "eqnIntSquared = (C*x**2 + D*x + E)**2 - (A*x + B)**2 * (b_orbit**2 - x**2)\n",
    "eqnIntSquared2 = sp.expand(eqnIntSquared)"
   ]
  },
  {
   "cell_type": "code",
   "execution_count": 58,
   "metadata": {},
   "outputs": [
    {
     "data": {
      "text/latex": [
       "$\\displaystyle - A^{2} b_{orbit}^{2} x^{2} + A^{2} x^{4} - 2 A B b_{orbit}^{2} x + 2 A B x^{3} - B^{2} b_{orbit}^{2} + B^{2} x^{2} + C^{2} x^{4} + 2 C D x^{3} + 2 C E x^{2} + D^{2} x^{2} + 2 D E x + E^{2}$"
      ],
      "text/plain": [
       "-A**2*b_orbit**2*x**2 + A**2*x**4 - 2*A*B*b_orbit**2*x + 2*A*B*x**3 - B**2*b_orbit**2 + B**2*x**2 + C**2*x**4 + 2*C*D*x**3 + 2*C*E*x**2 + D**2*x**2 + 2*D*E*x + E**2"
      ]
     },
     "execution_count": 58,
     "metadata": {},
     "output_type": "execute_result"
    }
   ],
   "source": [
    "eqnIntSquared2"
   ]
  },
  {
   "cell_type": "code",
   "execution_count": 59,
   "metadata": {},
   "outputs": [],
   "source": [
    "#Substitute back in A, B, C, D, E\n",
    "eqnIntSquared3 = eqnIntSquared2.subs(A,A_ellellIntEqn2).subs(B,B_ellellIntEqn2).subs(C,C_ellellIntEqn2).subs(D,D_ellellIntEqn2).subs(E,E_ellellIntEqn2)\n",
    "eqnIntSquared4 = sp.expand(eqnIntSquared3)"
   ]
  },
  {
   "cell_type": "code",
   "execution_count": 60,
   "metadata": {},
   "outputs": [
    {
     "data": {
      "text/latex": [
       "$\\displaystyle 1 - \\frac{2 b_{orbit}^{2} \\cos^{2}{\\left(\\psi \\right)}}{b_{look}^{2}} - \\frac{2 h^{2} \\sin^{2}{\\left(\\psi \\right)}}{b_{look}^{2}} + \\frac{4 h k \\sin{\\left(\\psi \\right)} \\cos{\\left(\\psi \\right)}}{b_{look}^{2}} + \\frac{4 h x \\sin^{2}{\\left(\\psi \\right)}}{b_{look}^{2}} - \\frac{2 k^{2} \\cos^{2}{\\left(\\psi \\right)}}{b_{look}^{2}} - \\frac{4 k x \\sin{\\left(\\psi \\right)} \\cos{\\left(\\psi \\right)}}{b_{look}^{2}} - \\frac{2 x^{2} \\sin^{2}{\\left(\\psi \\right)}}{b_{look}^{2}} + \\frac{2 x^{2} \\cos^{2}{\\left(\\psi \\right)}}{b_{look}^{2}} + \\frac{b_{orbit}^{4} \\cos^{4}{\\left(\\psi \\right)}}{b_{look}^{4}} - \\frac{2 b_{orbit}^{2} h^{2} \\sin^{2}{\\left(\\psi \\right)} \\cos^{2}{\\left(\\psi \\right)}}{b_{look}^{4}} + \\frac{4 b_{orbit}^{2} h k \\sin{\\left(\\psi \\right)} \\cos^{3}{\\left(\\psi \\right)}}{b_{look}^{4}} + \\frac{4 b_{orbit}^{2} h x \\sin^{2}{\\left(\\psi \\right)} \\cos^{2}{\\left(\\psi \\right)}}{b_{look}^{4}} - \\frac{2 b_{orbit}^{2} k^{2} \\cos^{4}{\\left(\\psi \\right)}}{b_{look}^{4}} - \\frac{4 b_{orbit}^{2} k x \\sin{\\left(\\psi \\right)} \\cos^{3}{\\left(\\psi \\right)}}{b_{look}^{4}} - \\frac{2 b_{orbit}^{2} x^{2} \\sin^{2}{\\left(\\psi \\right)} \\cos^{2}{\\left(\\psi \\right)}}{b_{look}^{4}} - \\frac{2 b_{orbit}^{2} x^{2} \\cos^{4}{\\left(\\psi \\right)}}{b_{look}^{4}} + \\frac{h^{4} \\sin^{4}{\\left(\\psi \\right)}}{b_{look}^{4}} - \\frac{4 h^{3} k \\sin^{3}{\\left(\\psi \\right)} \\cos{\\left(\\psi \\right)}}{b_{look}^{4}} - \\frac{4 h^{3} x \\sin^{4}{\\left(\\psi \\right)}}{b_{look}^{4}} + \\frac{6 h^{2} k^{2} \\sin^{2}{\\left(\\psi \\right)} \\cos^{2}{\\left(\\psi \\right)}}{b_{look}^{4}} + \\frac{12 h^{2} k x \\sin^{3}{\\left(\\psi \\right)} \\cos{\\left(\\psi \\right)}}{b_{look}^{4}} + \\frac{6 h^{2} x^{2} \\sin^{4}{\\left(\\psi \\right)}}{b_{look}^{4}} + \\frac{2 h^{2} x^{2} \\sin^{2}{\\left(\\psi \\right)} \\cos^{2}{\\left(\\psi \\right)}}{b_{look}^{4}} - \\frac{4 h k^{3} \\sin{\\left(\\psi \\right)} \\cos^{3}{\\left(\\psi \\right)}}{b_{look}^{4}} - \\frac{12 h k^{2} x \\sin^{2}{\\left(\\psi \\right)} \\cos^{2}{\\left(\\psi \\right)}}{b_{look}^{4}} - \\frac{12 h k x^{2} \\sin^{3}{\\left(\\psi \\right)} \\cos{\\left(\\psi \\right)}}{b_{look}^{4}} - \\frac{4 h k x^{2} \\sin{\\left(\\psi \\right)} \\cos^{3}{\\left(\\psi \\right)}}{b_{look}^{4}} - \\frac{4 h x^{3} \\sin^{4}{\\left(\\psi \\right)}}{b_{look}^{4}} - \\frac{4 h x^{3} \\sin^{2}{\\left(\\psi \\right)} \\cos^{2}{\\left(\\psi \\right)}}{b_{look}^{4}} + \\frac{k^{4} \\cos^{4}{\\left(\\psi \\right)}}{b_{look}^{4}} + \\frac{4 k^{3} x \\sin{\\left(\\psi \\right)} \\cos^{3}{\\left(\\psi \\right)}}{b_{look}^{4}} + \\frac{6 k^{2} x^{2} \\sin^{2}{\\left(\\psi \\right)} \\cos^{2}{\\left(\\psi \\right)}}{b_{look}^{4}} + \\frac{2 k^{2} x^{2} \\cos^{4}{\\left(\\psi \\right)}}{b_{look}^{4}} + \\frac{4 k x^{3} \\sin^{3}{\\left(\\psi \\right)} \\cos{\\left(\\psi \\right)}}{b_{look}^{4}} + \\frac{4 k x^{3} \\sin{\\left(\\psi \\right)} \\cos^{3}{\\left(\\psi \\right)}}{b_{look}^{4}} + \\frac{x^{4} \\sin^{4}{\\left(\\psi \\right)}}{b_{look}^{4}} + \\frac{2 x^{4} \\sin^{2}{\\left(\\psi \\right)} \\cos^{2}{\\left(\\psi \\right)}}{b_{look}^{4}} + \\frac{x^{4} \\cos^{4}{\\left(\\psi \\right)}}{b_{look}^{4}} - \\frac{2 b_{orbit}^{2} \\sin^{2}{\\left(\\psi \\right)}}{a_{look}^{2}} - \\frac{2 h^{2} \\cos^{2}{\\left(\\psi \\right)}}{a_{look}^{2}} - \\frac{4 h k \\sin{\\left(\\psi \\right)} \\cos{\\left(\\psi \\right)}}{a_{look}^{2}} + \\frac{4 h x \\cos^{2}{\\left(\\psi \\right)}}{a_{look}^{2}} - \\frac{2 k^{2} \\sin^{2}{\\left(\\psi \\right)}}{a_{look}^{2}} + \\frac{4 k x \\sin{\\left(\\psi \\right)} \\cos{\\left(\\psi \\right)}}{a_{look}^{2}} + \\frac{2 x^{2} \\sin^{2}{\\left(\\psi \\right)}}{a_{look}^{2}} - \\frac{2 x^{2} \\cos^{2}{\\left(\\psi \\right)}}{a_{look}^{2}} + \\frac{2 b_{orbit}^{4} \\sin^{2}{\\left(\\psi \\right)} \\cos^{2}{\\left(\\psi \\right)}}{a_{look}^{2} b_{look}^{2}} + \\frac{2 b_{orbit}^{2} h^{2} \\sin^{4}{\\left(\\psi \\right)}}{a_{look}^{2} b_{look}^{2}} + \\frac{8 b_{orbit}^{2} h^{2} \\sin^{2}{\\left(\\psi \\right)} \\cos^{2}{\\left(\\psi \\right)}}{a_{look}^{2} b_{look}^{2}} + \\frac{2 b_{orbit}^{2} h^{2} \\cos^{4}{\\left(\\psi \\right)}}{a_{look}^{2} b_{look}^{2}} + \\frac{4 b_{orbit}^{2} h k \\sin^{3}{\\left(\\psi \\right)} \\cos{\\left(\\psi \\right)}}{a_{look}^{2} b_{look}^{2}} - \\frac{4 b_{orbit}^{2} h k \\sin{\\left(\\psi \\right)} \\cos^{3}{\\left(\\psi \\right)}}{a_{look}^{2} b_{look}^{2}} - \\frac{4 b_{orbit}^{2} h x \\sin^{4}{\\left(\\psi \\right)}}{a_{look}^{2} b_{look}^{2}} - \\frac{16 b_{orbit}^{2} h x \\sin^{2}{\\left(\\psi \\right)} \\cos^{2}{\\left(\\psi \\right)}}{a_{look}^{2} b_{look}^{2}} - \\frac{4 b_{orbit}^{2} h x \\cos^{4}{\\left(\\psi \\right)}}{a_{look}^{2} b_{look}^{2}} - \\frac{4 b_{orbit}^{2} k^{2} \\sin^{2}{\\left(\\psi \\right)} \\cos^{2}{\\left(\\psi \\right)}}{a_{look}^{2} b_{look}^{2}} - \\frac{4 b_{orbit}^{2} k x \\sin^{3}{\\left(\\psi \\right)} \\cos{\\left(\\psi \\right)}}{a_{look}^{2} b_{look}^{2}} + \\frac{4 b_{orbit}^{2} k x \\sin{\\left(\\psi \\right)} \\cos^{3}{\\left(\\psi \\right)}}{a_{look}^{2} b_{look}^{2}} + \\frac{2 b_{orbit}^{2} x^{2} \\sin^{4}{\\left(\\psi \\right)}}{a_{look}^{2} b_{look}^{2}} + \\frac{4 b_{orbit}^{2} x^{2} \\sin^{2}{\\left(\\psi \\right)} \\cos^{2}{\\left(\\psi \\right)}}{a_{look}^{2} b_{look}^{2}} + \\frac{2 b_{orbit}^{2} x^{2} \\cos^{4}{\\left(\\psi \\right)}}{a_{look}^{2} b_{look}^{2}} + \\frac{2 h^{4} \\sin^{2}{\\left(\\psi \\right)} \\cos^{2}{\\left(\\psi \\right)}}{a_{look}^{2} b_{look}^{2}} + \\frac{4 h^{3} k \\sin^{3}{\\left(\\psi \\right)} \\cos{\\left(\\psi \\right)}}{a_{look}^{2} b_{look}^{2}} - \\frac{4 h^{3} k \\sin{\\left(\\psi \\right)} \\cos^{3}{\\left(\\psi \\right)}}{a_{look}^{2} b_{look}^{2}} - \\frac{8 h^{3} x \\sin^{2}{\\left(\\psi \\right)} \\cos^{2}{\\left(\\psi \\right)}}{a_{look}^{2} b_{look}^{2}} + \\frac{2 h^{2} k^{2} \\sin^{4}{\\left(\\psi \\right)}}{a_{look}^{2} b_{look}^{2}} - \\frac{8 h^{2} k^{2} \\sin^{2}{\\left(\\psi \\right)} \\cos^{2}{\\left(\\psi \\right)}}{a_{look}^{2} b_{look}^{2}} + \\frac{2 h^{2} k^{2} \\cos^{4}{\\left(\\psi \\right)}}{a_{look}^{2} b_{look}^{2}} - \\frac{12 h^{2} k x \\sin^{3}{\\left(\\psi \\right)} \\cos{\\left(\\psi \\right)}}{a_{look}^{2} b_{look}^{2}} + \\frac{12 h^{2} k x \\sin{\\left(\\psi \\right)} \\cos^{3}{\\left(\\psi \\right)}}{a_{look}^{2} b_{look}^{2}} - \\frac{2 h^{2} x^{2} \\sin^{4}{\\left(\\psi \\right)}}{a_{look}^{2} b_{look}^{2}} + \\frac{4 h^{2} x^{2} \\sin^{2}{\\left(\\psi \\right)} \\cos^{2}{\\left(\\psi \\right)}}{a_{look}^{2} b_{look}^{2}} - \\frac{2 h^{2} x^{2} \\cos^{4}{\\left(\\psi \\right)}}{a_{look}^{2} b_{look}^{2}} - \\frac{4 h k^{3} \\sin^{3}{\\left(\\psi \\right)} \\cos{\\left(\\psi \\right)}}{a_{look}^{2} b_{look}^{2}} + \\frac{4 h k^{3} \\sin{\\left(\\psi \\right)} \\cos^{3}{\\left(\\psi \\right)}}{a_{look}^{2} b_{look}^{2}} - \\frac{4 h k^{2} x \\sin^{4}{\\left(\\psi \\right)}}{a_{look}^{2} b_{look}^{2}} + \\frac{16 h k^{2} x \\sin^{2}{\\left(\\psi \\right)} \\cos^{2}{\\left(\\psi \\right)}}{a_{look}^{2} b_{look}^{2}} - \\frac{4 h k^{2} x \\cos^{4}{\\left(\\psi \\right)}}{a_{look}^{2} b_{look}^{2}} + \\frac{8 h k x^{2} \\sin^{3}{\\left(\\psi \\right)} \\cos{\\left(\\psi \\right)}}{a_{look}^{2} b_{look}^{2}} - \\frac{8 h k x^{2} \\sin{\\left(\\psi \\right)} \\cos^{3}{\\left(\\psi \\right)}}{a_{look}^{2} b_{look}^{2}} + \\frac{4 h x^{3} \\sin^{4}{\\left(\\psi \\right)}}{a_{look}^{2} b_{look}^{2}} + \\frac{8 h x^{3} \\sin^{2}{\\left(\\psi \\right)} \\cos^{2}{\\left(\\psi \\right)}}{a_{look}^{2} b_{look}^{2}} + \\frac{4 h x^{3} \\cos^{4}{\\left(\\psi \\right)}}{a_{look}^{2} b_{look}^{2}} + \\frac{2 k^{4} \\sin^{2}{\\left(\\psi \\right)} \\cos^{2}{\\left(\\psi \\right)}}{a_{look}^{2} b_{look}^{2}} + \\frac{4 k^{3} x \\sin^{3}{\\left(\\psi \\right)} \\cos{\\left(\\psi \\right)}}{a_{look}^{2} b_{look}^{2}} - \\frac{4 k^{3} x \\sin{\\left(\\psi \\right)} \\cos^{3}{\\left(\\psi \\right)}}{a_{look}^{2} b_{look}^{2}} + \\frac{2 k^{2} x^{2} \\sin^{4}{\\left(\\psi \\right)}}{a_{look}^{2} b_{look}^{2}} - \\frac{4 k^{2} x^{2} \\sin^{2}{\\left(\\psi \\right)} \\cos^{2}{\\left(\\psi \\right)}}{a_{look}^{2} b_{look}^{2}} + \\frac{2 k^{2} x^{2} \\cos^{4}{\\left(\\psi \\right)}}{a_{look}^{2} b_{look}^{2}} - \\frac{2 x^{4} \\sin^{4}{\\left(\\psi \\right)}}{a_{look}^{2} b_{look}^{2}} - \\frac{4 x^{4} \\sin^{2}{\\left(\\psi \\right)} \\cos^{2}{\\left(\\psi \\right)}}{a_{look}^{2} b_{look}^{2}} - \\frac{2 x^{4} \\cos^{4}{\\left(\\psi \\right)}}{a_{look}^{2} b_{look}^{2}} + \\frac{b_{orbit}^{4} \\sin^{4}{\\left(\\psi \\right)}}{a_{look}^{4}} - \\frac{2 b_{orbit}^{2} h^{2} \\sin^{2}{\\left(\\psi \\right)} \\cos^{2}{\\left(\\psi \\right)}}{a_{look}^{4}} - \\frac{4 b_{orbit}^{2} h k \\sin^{3}{\\left(\\psi \\right)} \\cos{\\left(\\psi \\right)}}{a_{look}^{4}} + \\frac{4 b_{orbit}^{2} h x \\sin^{2}{\\left(\\psi \\right)} \\cos^{2}{\\left(\\psi \\right)}}{a_{look}^{4}} - \\frac{2 b_{orbit}^{2} k^{2} \\sin^{4}{\\left(\\psi \\right)}}{a_{look}^{4}} + \\frac{4 b_{orbit}^{2} k x \\sin^{3}{\\left(\\psi \\right)} \\cos{\\left(\\psi \\right)}}{a_{look}^{4}} - \\frac{2 b_{orbit}^{2} x^{2} \\sin^{4}{\\left(\\psi \\right)}}{a_{look}^{4}} - \\frac{2 b_{orbit}^{2} x^{2} \\sin^{2}{\\left(\\psi \\right)} \\cos^{2}{\\left(\\psi \\right)}}{a_{look}^{4}} + \\frac{h^{4} \\cos^{4}{\\left(\\psi \\right)}}{a_{look}^{4}} + \\frac{4 h^{3} k \\sin{\\left(\\psi \\right)} \\cos^{3}{\\left(\\psi \\right)}}{a_{look}^{4}} - \\frac{4 h^{3} x \\cos^{4}{\\left(\\psi \\right)}}{a_{look}^{4}} + \\frac{6 h^{2} k^{2} \\sin^{2}{\\left(\\psi \\right)} \\cos^{2}{\\left(\\psi \\right)}}{a_{look}^{4}} - \\frac{12 h^{2} k x \\sin{\\left(\\psi \\right)} \\cos^{3}{\\left(\\psi \\right)}}{a_{look}^{4}} + \\frac{2 h^{2} x^{2} \\sin^{2}{\\left(\\psi \\right)} \\cos^{2}{\\left(\\psi \\right)}}{a_{look}^{4}} + \\frac{6 h^{2} x^{2} \\cos^{4}{\\left(\\psi \\right)}}{a_{look}^{4}} + \\frac{4 h k^{3} \\sin^{3}{\\left(\\psi \\right)} \\cos{\\left(\\psi \\right)}}{a_{look}^{4}} - \\frac{12 h k^{2} x \\sin^{2}{\\left(\\psi \\right)} \\cos^{2}{\\left(\\psi \\right)}}{a_{look}^{4}} + \\frac{4 h k x^{2} \\sin^{3}{\\left(\\psi \\right)} \\cos{\\left(\\psi \\right)}}{a_{look}^{4}} + \\frac{12 h k x^{2} \\sin{\\left(\\psi \\right)} \\cos^{3}{\\left(\\psi \\right)}}{a_{look}^{4}} - \\frac{4 h x^{3} \\sin^{2}{\\left(\\psi \\right)} \\cos^{2}{\\left(\\psi \\right)}}{a_{look}^{4}} - \\frac{4 h x^{3} \\cos^{4}{\\left(\\psi \\right)}}{a_{look}^{4}} + \\frac{k^{4} \\sin^{4}{\\left(\\psi \\right)}}{a_{look}^{4}} - \\frac{4 k^{3} x \\sin^{3}{\\left(\\psi \\right)} \\cos{\\left(\\psi \\right)}}{a_{look}^{4}} + \\frac{2 k^{2} x^{2} \\sin^{4}{\\left(\\psi \\right)}}{a_{look}^{4}} + \\frac{6 k^{2} x^{2} \\sin^{2}{\\left(\\psi \\right)} \\cos^{2}{\\left(\\psi \\right)}}{a_{look}^{4}} - \\frac{4 k x^{3} \\sin^{3}{\\left(\\psi \\right)} \\cos{\\left(\\psi \\right)}}{a_{look}^{4}} - \\frac{4 k x^{3} \\sin{\\left(\\psi \\right)} \\cos^{3}{\\left(\\psi \\right)}}{a_{look}^{4}} + \\frac{x^{4} \\sin^{4}{\\left(\\psi \\right)}}{a_{look}^{4}} + \\frac{2 x^{4} \\sin^{2}{\\left(\\psi \\right)} \\cos^{2}{\\left(\\psi \\right)}}{a_{look}^{4}} + \\frac{x^{4} \\cos^{4}{\\left(\\psi \\right)}}{a_{look}^{4}}$"
      ],
      "text/plain": [
       "1 - 2*b_orbit**2*cos(psi)**2/b_look**2 - 2*h**2*sin(psi)**2/b_look**2 + 4*h*k*sin(psi)*cos(psi)/b_look**2 + 4*h*x*sin(psi)**2/b_look**2 - 2*k**2*cos(psi)**2/b_look**2 - 4*k*x*sin(psi)*cos(psi)/b_look**2 - 2*x**2*sin(psi)**2/b_look**2 + 2*x**2*cos(psi)**2/b_look**2 + b_orbit**4*cos(psi)**4/b_look**4 - 2*b_orbit**2*h**2*sin(psi)**2*cos(psi)**2/b_look**4 + 4*b_orbit**2*h*k*sin(psi)*cos(psi)**3/b_look**4 + 4*b_orbit**2*h*x*sin(psi)**2*cos(psi)**2/b_look**4 - 2*b_orbit**2*k**2*cos(psi)**4/b_look**4 - 4*b_orbit**2*k*x*sin(psi)*cos(psi)**3/b_look**4 - 2*b_orbit**2*x**2*sin(psi)**2*cos(psi)**2/b_look**4 - 2*b_orbit**2*x**2*cos(psi)**4/b_look**4 + h**4*sin(psi)**4/b_look**4 - 4*h**3*k*sin(psi)**3*cos(psi)/b_look**4 - 4*h**3*x*sin(psi)**4/b_look**4 + 6*h**2*k**2*sin(psi)**2*cos(psi)**2/b_look**4 + 12*h**2*k*x*sin(psi)**3*cos(psi)/b_look**4 + 6*h**2*x**2*sin(psi)**4/b_look**4 + 2*h**2*x**2*sin(psi)**2*cos(psi)**2/b_look**4 - 4*h*k**3*sin(psi)*cos(psi)**3/b_look**4 - 12*h*k**2*x*sin(psi)**2*cos(psi)**2/b_look**4 - 12*h*k*x**2*sin(psi)**3*cos(psi)/b_look**4 - 4*h*k*x**2*sin(psi)*cos(psi)**3/b_look**4 - 4*h*x**3*sin(psi)**4/b_look**4 - 4*h*x**3*sin(psi)**2*cos(psi)**2/b_look**4 + k**4*cos(psi)**4/b_look**4 + 4*k**3*x*sin(psi)*cos(psi)**3/b_look**4 + 6*k**2*x**2*sin(psi)**2*cos(psi)**2/b_look**4 + 2*k**2*x**2*cos(psi)**4/b_look**4 + 4*k*x**3*sin(psi)**3*cos(psi)/b_look**4 + 4*k*x**3*sin(psi)*cos(psi)**3/b_look**4 + x**4*sin(psi)**4/b_look**4 + 2*x**4*sin(psi)**2*cos(psi)**2/b_look**4 + x**4*cos(psi)**4/b_look**4 - 2*b_orbit**2*sin(psi)**2/a_look**2 - 2*h**2*cos(psi)**2/a_look**2 - 4*h*k*sin(psi)*cos(psi)/a_look**2 + 4*h*x*cos(psi)**2/a_look**2 - 2*k**2*sin(psi)**2/a_look**2 + 4*k*x*sin(psi)*cos(psi)/a_look**2 + 2*x**2*sin(psi)**2/a_look**2 - 2*x**2*cos(psi)**2/a_look**2 + 2*b_orbit**4*sin(psi)**2*cos(psi)**2/(a_look**2*b_look**2) + 2*b_orbit**2*h**2*sin(psi)**4/(a_look**2*b_look**2) + 8*b_orbit**2*h**2*sin(psi)**2*cos(psi)**2/(a_look**2*b_look**2) + 2*b_orbit**2*h**2*cos(psi)**4/(a_look**2*b_look**2) + 4*b_orbit**2*h*k*sin(psi)**3*cos(psi)/(a_look**2*b_look**2) - 4*b_orbit**2*h*k*sin(psi)*cos(psi)**3/(a_look**2*b_look**2) - 4*b_orbit**2*h*x*sin(psi)**4/(a_look**2*b_look**2) - 16*b_orbit**2*h*x*sin(psi)**2*cos(psi)**2/(a_look**2*b_look**2) - 4*b_orbit**2*h*x*cos(psi)**4/(a_look**2*b_look**2) - 4*b_orbit**2*k**2*sin(psi)**2*cos(psi)**2/(a_look**2*b_look**2) - 4*b_orbit**2*k*x*sin(psi)**3*cos(psi)/(a_look**2*b_look**2) + 4*b_orbit**2*k*x*sin(psi)*cos(psi)**3/(a_look**2*b_look**2) + 2*b_orbit**2*x**2*sin(psi)**4/(a_look**2*b_look**2) + 4*b_orbit**2*x**2*sin(psi)**2*cos(psi)**2/(a_look**2*b_look**2) + 2*b_orbit**2*x**2*cos(psi)**4/(a_look**2*b_look**2) + 2*h**4*sin(psi)**2*cos(psi)**2/(a_look**2*b_look**2) + 4*h**3*k*sin(psi)**3*cos(psi)/(a_look**2*b_look**2) - 4*h**3*k*sin(psi)*cos(psi)**3/(a_look**2*b_look**2) - 8*h**3*x*sin(psi)**2*cos(psi)**2/(a_look**2*b_look**2) + 2*h**2*k**2*sin(psi)**4/(a_look**2*b_look**2) - 8*h**2*k**2*sin(psi)**2*cos(psi)**2/(a_look**2*b_look**2) + 2*h**2*k**2*cos(psi)**4/(a_look**2*b_look**2) - 12*h**2*k*x*sin(psi)**3*cos(psi)/(a_look**2*b_look**2) + 12*h**2*k*x*sin(psi)*cos(psi)**3/(a_look**2*b_look**2) - 2*h**2*x**2*sin(psi)**4/(a_look**2*b_look**2) + 4*h**2*x**2*sin(psi)**2*cos(psi)**2/(a_look**2*b_look**2) - 2*h**2*x**2*cos(psi)**4/(a_look**2*b_look**2) - 4*h*k**3*sin(psi)**3*cos(psi)/(a_look**2*b_look**2) + 4*h*k**3*sin(psi)*cos(psi)**3/(a_look**2*b_look**2) - 4*h*k**2*x*sin(psi)**4/(a_look**2*b_look**2) + 16*h*k**2*x*sin(psi)**2*cos(psi)**2/(a_look**2*b_look**2) - 4*h*k**2*x*cos(psi)**4/(a_look**2*b_look**2) + 8*h*k*x**2*sin(psi)**3*cos(psi)/(a_look**2*b_look**2) - 8*h*k*x**2*sin(psi)*cos(psi)**3/(a_look**2*b_look**2) + 4*h*x**3*sin(psi)**4/(a_look**2*b_look**2) + 8*h*x**3*sin(psi)**2*cos(psi)**2/(a_look**2*b_look**2) + 4*h*x**3*cos(psi)**4/(a_look**2*b_look**2) + 2*k**4*sin(psi)**2*cos(psi)**2/(a_look**2*b_look**2) + 4*k**3*x*sin(psi)**3*cos(psi)/(a_look**2*b_look**2) - 4*k**3*x*sin(psi)*cos(psi)**3/(a_look**2*b_look**2) + 2*k**2*x**2*sin(psi)**4/(a_look**2*b_look**2) - 4*k**2*x**2*sin(psi)**2*cos(psi)**2/(a_look**2*b_look**2) + 2*k**2*x**2*cos(psi)**4/(a_look**2*b_look**2) - 2*x**4*sin(psi)**4/(a_look**2*b_look**2) - 4*x**4*sin(psi)**2*cos(psi)**2/(a_look**2*b_look**2) - 2*x**4*cos(psi)**4/(a_look**2*b_look**2) + b_orbit**4*sin(psi)**4/a_look**4 - 2*b_orbit**2*h**2*sin(psi)**2*cos(psi)**2/a_look**4 - 4*b_orbit**2*h*k*sin(psi)**3*cos(psi)/a_look**4 + 4*b_orbit**2*h*x*sin(psi)**2*cos(psi)**2/a_look**4 - 2*b_orbit**2*k**2*sin(psi)**4/a_look**4 + 4*b_orbit**2*k*x*sin(psi)**3*cos(psi)/a_look**4 - 2*b_orbit**2*x**2*sin(psi)**4/a_look**4 - 2*b_orbit**2*x**2*sin(psi)**2*cos(psi)**2/a_look**4 + h**4*cos(psi)**4/a_look**4 + 4*h**3*k*sin(psi)*cos(psi)**3/a_look**4 - 4*h**3*x*cos(psi)**4/a_look**4 + 6*h**2*k**2*sin(psi)**2*cos(psi)**2/a_look**4 - 12*h**2*k*x*sin(psi)*cos(psi)**3/a_look**4 + 2*h**2*x**2*sin(psi)**2*cos(psi)**2/a_look**4 + 6*h**2*x**2*cos(psi)**4/a_look**4 + 4*h*k**3*sin(psi)**3*cos(psi)/a_look**4 - 12*h*k**2*x*sin(psi)**2*cos(psi)**2/a_look**4 + 4*h*k*x**2*sin(psi)**3*cos(psi)/a_look**4 + 12*h*k*x**2*sin(psi)*cos(psi)**3/a_look**4 - 4*h*x**3*sin(psi)**2*cos(psi)**2/a_look**4 - 4*h*x**3*cos(psi)**4/a_look**4 + k**4*sin(psi)**4/a_look**4 - 4*k**3*x*sin(psi)**3*cos(psi)/a_look**4 + 2*k**2*x**2*sin(psi)**4/a_look**4 + 6*k**2*x**2*sin(psi)**2*cos(psi)**2/a_look**4 - 4*k*x**3*sin(psi)**3*cos(psi)/a_look**4 - 4*k*x**3*sin(psi)*cos(psi)**3/a_look**4 + x**4*sin(psi)**4/a_look**4 + 2*x**4*sin(psi)**2*cos(psi)**2/a_look**4 + x**4*cos(psi)**4/a_look**4"
      ]
     },
     "execution_count": 60,
     "metadata": {},
     "output_type": "execute_result"
    }
   ],
   "source": [
    "eqnIntSquared4"
   ]
  },
  {
   "cell_type": "code",
   "execution_count": 61,
   "metadata": {},
   "outputs": [],
   "source": [
    "#Get Poly in terms of x\n",
    "eqnIntSquared4Poly = sp.Poly(eqnIntSquared4,x)\n",
    "A3 = eqnIntSquared4Poly.coeffs()[0]\n",
    "B3 = eqnIntSquared4Poly.coeffs()[1]\n",
    "C3 = eqnIntSquared4Poly.coeffs()[2]\n",
    "D3 = eqnIntSquared4Poly.coeffs()[3]\n",
    "E3 = eqnIntSquared4Poly.coeffs()[4]"
   ]
  },
  {
   "cell_type": "code",
   "execution_count": 62,
   "metadata": {},
   "outputs": [
    {
     "data": {
      "text/plain": [
       "5"
      ]
     },
     "execution_count": 62,
     "metadata": {},
     "output_type": "execute_result"
    }
   ],
   "source": [
    "len(eqnIntSquared4Poly.coeffs())"
   ]
  },
  {
   "cell_type": "code",
   "execution_count": 63,
   "metadata": {},
   "outputs": [
    {
     "data": {
      "text/latex": [
       "$\\displaystyle \\frac{1}{b_{look}^{4}} - \\frac{2}{a_{look}^{2} b_{look}^{2}} + \\frac{1}{a_{look}^{4}}$"
      ],
      "text/plain": [
       "b_look**(-4) - 2/(a_look**2*b_look**2) + a_look**(-4)"
      ]
     },
     "execution_count": 63,
     "metadata": {},
     "output_type": "execute_result"
    }
   ],
   "source": [
    "sp.simplify(A3)"
   ]
  },
  {
   "cell_type": "code",
   "execution_count": 64,
   "metadata": {},
   "outputs": [
    {
     "data": {
      "text/latex": [
       "$\\displaystyle \\frac{4 \\left(\\frac{a_{look}^{4} \\left(h \\cos{\\left(2 \\psi \\right)} - h + k \\sin{\\left(2 \\psi \\right)}\\right)}{2} + a_{look}^{2} b_{look}^{2} h - \\frac{b_{look}^{4} \\left(h \\cos{\\left(2 \\psi \\right)} + h + k \\sin{\\left(2 \\psi \\right)}\\right)}{2}\\right)}{a_{look}^{4} b_{look}^{4}}$"
      ],
      "text/plain": [
       "4*(a_look**4*(h*cos(2*psi) - h + k*sin(2*psi))/2 + a_look**2*b_look**2*h - b_look**4*(h*cos(2*psi) + h + k*sin(2*psi))/2)/(a_look**4*b_look**4)"
      ]
     },
     "execution_count": 64,
     "metadata": {},
     "output_type": "execute_result"
    }
   ],
   "source": [
    "sp.simplify(B3)"
   ]
  },
  {
   "cell_type": "code",
   "execution_count": 65,
   "metadata": {},
   "outputs": [
    {
     "data": {
      "text/latex": [
       "$\\displaystyle \\frac{2 \\left(a_{look}^{4} b_{look}^{2} \\cos{\\left(2 \\psi \\right)} + a_{look}^{4} \\left(b_{orbit}^{2} \\sin^{2}{\\left(\\psi \\right)} - b_{orbit}^{2} + 2 h^{2} \\sin^{4}{\\left(\\psi \\right)} + h^{2} \\sin^{2}{\\left(\\psi \\right)} - 6 h k \\sin^{3}{\\left(\\psi \\right)} \\cos{\\left(\\psi \\right)} - 2 h k \\sin{\\left(\\psi \\right)} \\cos^{3}{\\left(\\psi \\right)} - 2 k^{2} \\sin^{4}{\\left(\\psi \\right)} + k^{2} \\sin^{2}{\\left(\\psi \\right)} + k^{2}\\right) - a_{look}^{2} b_{look}^{4} \\cos{\\left(2 \\psi \\right)} + a_{look}^{2} b_{look}^{2} \\left(b_{orbit}^{2} - 4 h^{2} \\sin^{4}{\\left(\\psi \\right)} + 4 h^{2} \\sin^{2}{\\left(\\psi \\right)} - h^{2} + 4 h k \\sin^{3}{\\left(\\psi \\right)} \\cos{\\left(\\psi \\right)} - 4 h k \\sin{\\left(\\psi \\right)} \\cos^{3}{\\left(\\psi \\right)} + 4 k^{2} \\sin^{4}{\\left(\\psi \\right)} - 4 k^{2} \\sin^{2}{\\left(\\psi \\right)} + k^{2}\\right) + b_{look}^{4} \\left(- b_{orbit}^{2} \\sin^{2}{\\left(\\psi \\right)} + 2 h^{2} \\sin^{4}{\\left(\\psi \\right)} - 5 h^{2} \\sin^{2}{\\left(\\psi \\right)} + 3 h^{2} + 2 h k \\sin^{3}{\\left(\\psi \\right)} \\cos{\\left(\\psi \\right)} + 6 h k \\sin{\\left(\\psi \\right)} \\cos^{3}{\\left(\\psi \\right)} - 2 k^{2} \\sin^{4}{\\left(\\psi \\right)} + 3 k^{2} \\sin^{2}{\\left(\\psi \\right)}\\right)\\right)}{a_{look}^{4} b_{look}^{4}}$"
      ],
      "text/plain": [
       "2*(a_look**4*b_look**2*cos(2*psi) + a_look**4*(b_orbit**2*sin(psi)**2 - b_orbit**2 + 2*h**2*sin(psi)**4 + h**2*sin(psi)**2 - 6*h*k*sin(psi)**3*cos(psi) - 2*h*k*sin(psi)*cos(psi)**3 - 2*k**2*sin(psi)**4 + k**2*sin(psi)**2 + k**2) - a_look**2*b_look**4*cos(2*psi) + a_look**2*b_look**2*(b_orbit**2 - 4*h**2*sin(psi)**4 + 4*h**2*sin(psi)**2 - h**2 + 4*h*k*sin(psi)**3*cos(psi) - 4*h*k*sin(psi)*cos(psi)**3 + 4*k**2*sin(psi)**4 - 4*k**2*sin(psi)**2 + k**2) + b_look**4*(-b_orbit**2*sin(psi)**2 + 2*h**2*sin(psi)**4 - 5*h**2*sin(psi)**2 + 3*h**2 + 2*h*k*sin(psi)**3*cos(psi) + 6*h*k*sin(psi)*cos(psi)**3 - 2*k**2*sin(psi)**4 + 3*k**2*sin(psi)**2))/(a_look**4*b_look**4)"
      ]
     },
     "execution_count": 65,
     "metadata": {},
     "output_type": "execute_result"
    }
   ],
   "source": [
    "sp.simplify(C3)"
   ]
  },
  {
   "cell_type": "code",
   "execution_count": 66,
   "metadata": {},
   "outputs": [
    {
     "data": {
      "text/latex": [
       "$\\displaystyle - \\frac{2 h \\cos{\\left(2 \\psi \\right)}}{b_{look}^{2}} + \\frac{2 h}{b_{look}^{2}} - \\frac{2 k \\sin{\\left(2 \\psi \\right)}}{b_{look}^{2}} - \\frac{b_{orbit}^{2} h \\cos^{2}{\\left(2 \\psi \\right)}}{b_{look}^{4}} + \\frac{b_{orbit}^{2} h}{b_{look}^{4}} - \\frac{b_{orbit}^{2} k \\sin{\\left(2 \\psi \\right)}}{b_{look}^{4}} - \\frac{b_{orbit}^{2} k \\sin{\\left(4 \\psi \\right)}}{2 b_{look}^{4}} - \\frac{h^{3} \\cos^{2}{\\left(2 \\psi \\right)}}{b_{look}^{4}} + \\frac{2 h^{3} \\cos{\\left(2 \\psi \\right)}}{b_{look}^{4}} - \\frac{h^{3}}{b_{look}^{4}} + \\frac{3 h^{2} k \\sin{\\left(2 \\psi \\right)}}{b_{look}^{4}} - \\frac{3 h^{2} k \\sin{\\left(4 \\psi \\right)}}{2 b_{look}^{4}} + \\frac{3 h k^{2} \\cos^{2}{\\left(2 \\psi \\right)}}{b_{look}^{4}} - \\frac{3 h k^{2}}{b_{look}^{4}} + \\frac{k^{3} \\sin{\\left(2 \\psi \\right)}}{b_{look}^{4}} + \\frac{k^{3} \\sin{\\left(4 \\psi \\right)}}{2 b_{look}^{4}} + \\frac{2 h \\cos{\\left(2 \\psi \\right)}}{a_{look}^{2}} + \\frac{2 h}{a_{look}^{2}} + \\frac{2 k \\sin{\\left(2 \\psi \\right)}}{a_{look}^{2}} + \\frac{2 b_{orbit}^{2} h \\cos^{2}{\\left(2 \\psi \\right)}}{a_{look}^{2} b_{look}^{2}} - \\frac{6 b_{orbit}^{2} h}{a_{look}^{2} b_{look}^{2}} + \\frac{b_{orbit}^{2} k \\sin{\\left(4 \\psi \\right)}}{a_{look}^{2} b_{look}^{2}} + \\frac{2 h^{3} \\cos^{2}{\\left(2 \\psi \\right)}}{a_{look}^{2} b_{look}^{2}} - \\frac{2 h^{3}}{a_{look}^{2} b_{look}^{2}} + \\frac{3 h^{2} k \\sin{\\left(4 \\psi \\right)}}{a_{look}^{2} b_{look}^{2}} - \\frac{6 h k^{2} \\cos^{2}{\\left(2 \\psi \\right)}}{a_{look}^{2} b_{look}^{2}} + \\frac{2 h k^{2}}{a_{look}^{2} b_{look}^{2}} - \\frac{k^{3} \\sin{\\left(4 \\psi \\right)}}{a_{look}^{2} b_{look}^{2}} - \\frac{b_{orbit}^{2} h \\cos^{2}{\\left(2 \\psi \\right)}}{a_{look}^{4}} + \\frac{b_{orbit}^{2} h}{a_{look}^{4}} + \\frac{b_{orbit}^{2} k \\sin{\\left(2 \\psi \\right)}}{a_{look}^{4}} - \\frac{b_{orbit}^{2} k \\sin{\\left(4 \\psi \\right)}}{2 a_{look}^{4}} - \\frac{h^{3} \\cos^{2}{\\left(2 \\psi \\right)}}{a_{look}^{4}} - \\frac{2 h^{3} \\cos{\\left(2 \\psi \\right)}}{a_{look}^{4}} - \\frac{h^{3}}{a_{look}^{4}} - \\frac{3 h^{2} k \\sin{\\left(2 \\psi \\right)}}{a_{look}^{4}} - \\frac{3 h^{2} k \\sin{\\left(4 \\psi \\right)}}{2 a_{look}^{4}} + \\frac{3 h k^{2} \\cos^{2}{\\left(2 \\psi \\right)}}{a_{look}^{4}} - \\frac{3 h k^{2}}{a_{look}^{4}} - \\frac{k^{3} \\sin{\\left(2 \\psi \\right)}}{a_{look}^{4}} + \\frac{k^{3} \\sin{\\left(4 \\psi \\right)}}{2 a_{look}^{4}}$"
      ],
      "text/plain": [
       "-2*h*cos(2*psi)/b_look**2 + 2*h/b_look**2 - 2*k*sin(2*psi)/b_look**2 - b_orbit**2*h*cos(2*psi)**2/b_look**4 + b_orbit**2*h/b_look**4 - b_orbit**2*k*sin(2*psi)/b_look**4 - b_orbit**2*k*sin(4*psi)/(2*b_look**4) - h**3*cos(2*psi)**2/b_look**4 + 2*h**3*cos(2*psi)/b_look**4 - h**3/b_look**4 + 3*h**2*k*sin(2*psi)/b_look**4 - 3*h**2*k*sin(4*psi)/(2*b_look**4) + 3*h*k**2*cos(2*psi)**2/b_look**4 - 3*h*k**2/b_look**4 + k**3*sin(2*psi)/b_look**4 + k**3*sin(4*psi)/(2*b_look**4) + 2*h*cos(2*psi)/a_look**2 + 2*h/a_look**2 + 2*k*sin(2*psi)/a_look**2 + 2*b_orbit**2*h*cos(2*psi)**2/(a_look**2*b_look**2) - 6*b_orbit**2*h/(a_look**2*b_look**2) + b_orbit**2*k*sin(4*psi)/(a_look**2*b_look**2) + 2*h**3*cos(2*psi)**2/(a_look**2*b_look**2) - 2*h**3/(a_look**2*b_look**2) + 3*h**2*k*sin(4*psi)/(a_look**2*b_look**2) - 6*h*k**2*cos(2*psi)**2/(a_look**2*b_look**2) + 2*h*k**2/(a_look**2*b_look**2) - k**3*sin(4*psi)/(a_look**2*b_look**2) - b_orbit**2*h*cos(2*psi)**2/a_look**4 + b_orbit**2*h/a_look**4 + b_orbit**2*k*sin(2*psi)/a_look**4 - b_orbit**2*k*sin(4*psi)/(2*a_look**4) - h**3*cos(2*psi)**2/a_look**4 - 2*h**3*cos(2*psi)/a_look**4 - h**3/a_look**4 - 3*h**2*k*sin(2*psi)/a_look**4 - 3*h**2*k*sin(4*psi)/(2*a_look**4) + 3*h*k**2*cos(2*psi)**2/a_look**4 - 3*h*k**2/a_look**4 - k**3*sin(2*psi)/a_look**4 + k**3*sin(4*psi)/(2*a_look**4)"
      ]
     },
     "execution_count": 66,
     "metadata": {},
     "output_type": "execute_result"
    }
   ],
   "source": [
    "sp.simplify(D3)"
   ]
  },
  {
   "cell_type": "code",
   "execution_count": 67,
   "metadata": {},
   "outputs": [
    {
     "data": {
      "text/latex": [
       "$\\displaystyle \\frac{a_{look}^{4} b_{look}^{4} + 2 a_{look}^{4} b_{look}^{2} \\left(- b_{orbit}^{2} \\cos^{2}{\\left(\\psi \\right)} - h^{2} \\sin^{2}{\\left(\\psi \\right)} + h k \\sin{\\left(2 \\psi \\right)} - k^{2} \\cos^{2}{\\left(\\psi \\right)}\\right) + a_{look}^{4} \\left(b_{orbit}^{4} \\cos^{4}{\\left(\\psi \\right)} - \\frac{b_{orbit}^{2} h^{2} \\left(1 - \\cos{\\left(4 \\psi \\right)}\\right)}{4} + 4 b_{orbit}^{2} h k \\sin{\\left(\\psi \\right)} \\cos^{3}{\\left(\\psi \\right)} - 2 b_{orbit}^{2} k^{2} \\cos^{4}{\\left(\\psi \\right)} + h^{4} \\sin^{4}{\\left(\\psi \\right)} - 4 h^{3} k \\sin^{3}{\\left(\\psi \\right)} \\cos{\\left(\\psi \\right)} + \\frac{3 h^{2} k^{2} \\left(1 - \\cos{\\left(4 \\psi \\right)}\\right)}{4} - 4 h k^{3} \\sin{\\left(\\psi \\right)} \\cos^{3}{\\left(\\psi \\right)} + k^{4} \\cos^{4}{\\left(\\psi \\right)}\\right) + 2 a_{look}^{2} b_{look}^{4} \\left(- b_{orbit}^{2} \\sin^{2}{\\left(\\psi \\right)} - h^{2} \\cos^{2}{\\left(\\psi \\right)} - h k \\sin{\\left(2 \\psi \\right)} - k^{2} \\sin^{2}{\\left(\\psi \\right)}\\right) + 2 a_{look}^{2} b_{look}^{2} \\left(\\frac{b_{orbit}^{4} \\left(1 - \\cos{\\left(4 \\psi \\right)}\\right)}{8} + \\frac{b_{orbit}^{2} h^{2} \\left(1 - \\cos{\\left(4 \\psi \\right)}\\right)}{2} + b_{orbit}^{2} h^{2} \\sin^{4}{\\left(\\psi \\right)} + b_{orbit}^{2} h^{2} \\cos^{4}{\\left(\\psi \\right)} + 2 b_{orbit}^{2} h k \\sin^{3}{\\left(\\psi \\right)} \\cos{\\left(\\psi \\right)} - 2 b_{orbit}^{2} h k \\sin{\\left(\\psi \\right)} \\cos^{3}{\\left(\\psi \\right)} - \\frac{b_{orbit}^{2} k^{2} \\left(1 - \\cos{\\left(4 \\psi \\right)}\\right)}{4} + \\frac{h^{4} \\left(1 - \\cos{\\left(4 \\psi \\right)}\\right)}{8} + 2 h^{3} k \\sin^{3}{\\left(\\psi \\right)} \\cos{\\left(\\psi \\right)} - 2 h^{3} k \\sin{\\left(\\psi \\right)} \\cos^{3}{\\left(\\psi \\right)} - \\frac{h^{2} k^{2} \\left(1 - \\cos{\\left(4 \\psi \\right)}\\right)}{2} + h^{2} k^{2} \\sin^{4}{\\left(\\psi \\right)} + h^{2} k^{2} \\cos^{4}{\\left(\\psi \\right)} - 2 h k^{3} \\sin^{3}{\\left(\\psi \\right)} \\cos{\\left(\\psi \\right)} + 2 h k^{3} \\sin{\\left(\\psi \\right)} \\cos^{3}{\\left(\\psi \\right)} + \\frac{k^{4} \\left(1 - \\cos{\\left(4 \\psi \\right)}\\right)}{8}\\right) + b_{look}^{4} \\left(b_{orbit}^{4} \\sin^{4}{\\left(\\psi \\right)} - \\frac{b_{orbit}^{2} h^{2} \\left(1 - \\cos{\\left(4 \\psi \\right)}\\right)}{4} - 4 b_{orbit}^{2} h k \\sin^{3}{\\left(\\psi \\right)} \\cos{\\left(\\psi \\right)} - 2 b_{orbit}^{2} k^{2} \\sin^{4}{\\left(\\psi \\right)} + h^{4} \\cos^{4}{\\left(\\psi \\right)} + 4 h^{3} k \\sin{\\left(\\psi \\right)} \\cos^{3}{\\left(\\psi \\right)} + \\frac{3 h^{2} k^{2} \\left(1 - \\cos{\\left(4 \\psi \\right)}\\right)}{4} + 4 h k^{3} \\sin^{3}{\\left(\\psi \\right)} \\cos{\\left(\\psi \\right)} + k^{4} \\sin^{4}{\\left(\\psi \\right)}\\right)}{a_{look}^{4} b_{look}^{4}}$"
      ],
      "text/plain": [
       "(a_look**4*b_look**4 + 2*a_look**4*b_look**2*(-b_orbit**2*cos(psi)**2 - h**2*sin(psi)**2 + h*k*sin(2*psi) - k**2*cos(psi)**2) + a_look**4*(b_orbit**4*cos(psi)**4 - b_orbit**2*h**2*(1 - cos(4*psi))/4 + 4*b_orbit**2*h*k*sin(psi)*cos(psi)**3 - 2*b_orbit**2*k**2*cos(psi)**4 + h**4*sin(psi)**4 - 4*h**3*k*sin(psi)**3*cos(psi) + 3*h**2*k**2*(1 - cos(4*psi))/4 - 4*h*k**3*sin(psi)*cos(psi)**3 + k**4*cos(psi)**4) + 2*a_look**2*b_look**4*(-b_orbit**2*sin(psi)**2 - h**2*cos(psi)**2 - h*k*sin(2*psi) - k**2*sin(psi)**2) + 2*a_look**2*b_look**2*(b_orbit**4*(1 - cos(4*psi))/8 + b_orbit**2*h**2*(1 - cos(4*psi))/2 + b_orbit**2*h**2*sin(psi)**4 + b_orbit**2*h**2*cos(psi)**4 + 2*b_orbit**2*h*k*sin(psi)**3*cos(psi) - 2*b_orbit**2*h*k*sin(psi)*cos(psi)**3 - b_orbit**2*k**2*(1 - cos(4*psi))/4 + h**4*(1 - cos(4*psi))/8 + 2*h**3*k*sin(psi)**3*cos(psi) - 2*h**3*k*sin(psi)*cos(psi)**3 - h**2*k**2*(1 - cos(4*psi))/2 + h**2*k**2*sin(psi)**4 + h**2*k**2*cos(psi)**4 - 2*h*k**3*sin(psi)**3*cos(psi) + 2*h*k**3*sin(psi)*cos(psi)**3 + k**4*(1 - cos(4*psi))/8) + b_look**4*(b_orbit**4*sin(psi)**4 - b_orbit**2*h**2*(1 - cos(4*psi))/4 - 4*b_orbit**2*h*k*sin(psi)**3*cos(psi) - 2*b_orbit**2*k**2*sin(psi)**4 + h**4*cos(psi)**4 + 4*h**3*k*sin(psi)*cos(psi)**3 + 3*h**2*k**2*(1 - cos(4*psi))/4 + 4*h*k**3*sin(psi)**3*cos(psi) + k**4*sin(psi)**4))/(a_look**4*b_look**4)"
      ]
     },
     "execution_count": 67,
     "metadata": {},
     "output_type": "execute_result"
    }
   ],
   "source": [
    "sp.simplify(E3)"
   ]
  },
  {
   "cell_type": "code",
   "execution_count": 68,
   "metadata": {},
   "outputs": [
    {
     "name": "stdout",
     "output_type": "stream",
     "text": [
      "b_look**(-4) - 2/(a_look**2*b_look**2) + a_look**(-4)\n"
     ]
    }
   ],
   "source": [
    "print(sp.simplify(A3))"
   ]
  },
  {
   "cell_type": "code",
   "execution_count": 69,
   "metadata": {},
   "outputs": [
    {
     "name": "stdout",
     "output_type": "stream",
     "text": [
      "4*(a_look**4*(h*cos(2*psi) - h + k*sin(2*psi))/2 + a_look**2*b_look**2*h - b_look**4*(h*cos(2*psi) + h + k*sin(2*psi))/2)/(a_look**4*b_look**4)\n"
     ]
    }
   ],
   "source": [
    "print(sp.simplify(B3))"
   ]
  },
  {
   "cell_type": "code",
   "execution_count": 70,
   "metadata": {},
   "outputs": [
    {
     "name": "stdout",
     "output_type": "stream",
     "text": [
      "2*(a_look**4*b_look**2*cos(2*psi) + a_look**4*(b_orbit**2*sin(psi)**2 - b_orbit**2 + 2*h**2*sin(psi)**4 + h**2*sin(psi)**2 - 6*h*k*sin(psi)**3*cos(psi) - 2*h*k*sin(psi)*cos(psi)**3 - 2*k**2*sin(psi)**4 + k**2*sin(psi)**2 + k**2) - a_look**2*b_look**4*cos(2*psi) + a_look**2*b_look**2*(b_orbit**2 - 4*h**2*sin(psi)**4 + 4*h**2*sin(psi)**2 - h**2 + 4*h*k*sin(psi)**3*cos(psi) - 4*h*k*sin(psi)*cos(psi)**3 + 4*k**2*sin(psi)**4 - 4*k**2*sin(psi)**2 + k**2) + b_look**4*(-b_orbit**2*sin(psi)**2 + 2*h**2*sin(psi)**4 - 5*h**2*sin(psi)**2 + 3*h**2 + 2*h*k*sin(psi)**3*cos(psi) + 6*h*k*sin(psi)*cos(psi)**3 - 2*k**2*sin(psi)**4 + 3*k**2*sin(psi)**2))/(a_look**4*b_look**4)\n"
     ]
    }
   ],
   "source": [
    "print(sp.simplify(C3))"
   ]
  },
  {
   "cell_type": "code",
   "execution_count": 71,
   "metadata": {},
   "outputs": [
    {
     "name": "stdout",
     "output_type": "stream",
     "text": [
      "-2*h*cos(2*psi)/b_look**2 + 2*h/b_look**2 - 2*k*sin(2*psi)/b_look**2 - b_orbit**2*h*cos(2*psi)**2/b_look**4 + b_orbit**2*h/b_look**4 - b_orbit**2*k*sin(2*psi)/b_look**4 - b_orbit**2*k*sin(4*psi)/(2*b_look**4) - h**3*cos(2*psi)**2/b_look**4 + 2*h**3*cos(2*psi)/b_look**4 - h**3/b_look**4 + 3*h**2*k*sin(2*psi)/b_look**4 - 3*h**2*k*sin(4*psi)/(2*b_look**4) + 3*h*k**2*cos(2*psi)**2/b_look**4 - 3*h*k**2/b_look**4 + k**3*sin(2*psi)/b_look**4 + k**3*sin(4*psi)/(2*b_look**4) + 2*h*cos(2*psi)/a_look**2 + 2*h/a_look**2 + 2*k*sin(2*psi)/a_look**2 + 2*b_orbit**2*h*cos(2*psi)**2/(a_look**2*b_look**2) - 6*b_orbit**2*h/(a_look**2*b_look**2) + b_orbit**2*k*sin(4*psi)/(a_look**2*b_look**2) + 2*h**3*cos(2*psi)**2/(a_look**2*b_look**2) - 2*h**3/(a_look**2*b_look**2) + 3*h**2*k*sin(4*psi)/(a_look**2*b_look**2) - 6*h*k**2*cos(2*psi)**2/(a_look**2*b_look**2) + 2*h*k**2/(a_look**2*b_look**2) - k**3*sin(4*psi)/(a_look**2*b_look**2) - b_orbit**2*h*cos(2*psi)**2/a_look**4 + b_orbit**2*h/a_look**4 + b_orbit**2*k*sin(2*psi)/a_look**4 - b_orbit**2*k*sin(4*psi)/(2*a_look**4) - h**3*cos(2*psi)**2/a_look**4 - 2*h**3*cos(2*psi)/a_look**4 - h**3/a_look**4 - 3*h**2*k*sin(2*psi)/a_look**4 - 3*h**2*k*sin(4*psi)/(2*a_look**4) + 3*h*k**2*cos(2*psi)**2/a_look**4 - 3*h*k**2/a_look**4 - k**3*sin(2*psi)/a_look**4 + k**3*sin(4*psi)/(2*a_look**4)\n"
     ]
    }
   ],
   "source": [
    "print(sp.simplify(D3))"
   ]
  },
  {
   "cell_type": "code",
   "execution_count": 72,
   "metadata": {},
   "outputs": [
    {
     "name": "stdout",
     "output_type": "stream",
     "text": [
      "(a_look**4*b_look**4 + 2*a_look**4*b_look**2*(-b_orbit**2*cos(psi)**2 - h**2*sin(psi)**2 + h*k*sin(2*psi) - k**2*cos(psi)**2) + a_look**4*(b_orbit**4*cos(psi)**4 - b_orbit**2*h**2*(1 - cos(4*psi))/4 + 4*b_orbit**2*h*k*sin(psi)*cos(psi)**3 - 2*b_orbit**2*k**2*cos(psi)**4 + h**4*sin(psi)**4 - 4*h**3*k*sin(psi)**3*cos(psi) + 3*h**2*k**2*(1 - cos(4*psi))/4 - 4*h*k**3*sin(psi)*cos(psi)**3 + k**4*cos(psi)**4) + 2*a_look**2*b_look**4*(-b_orbit**2*sin(psi)**2 - h**2*cos(psi)**2 - h*k*sin(2*psi) - k**2*sin(psi)**2) + 2*a_look**2*b_look**2*(b_orbit**4*(1 - cos(4*psi))/8 + b_orbit**2*h**2*(1 - cos(4*psi))/2 + b_orbit**2*h**2*sin(psi)**4 + b_orbit**2*h**2*cos(psi)**4 + 2*b_orbit**2*h*k*sin(psi)**3*cos(psi) - 2*b_orbit**2*h*k*sin(psi)*cos(psi)**3 - b_orbit**2*k**2*(1 - cos(4*psi))/4 + h**4*(1 - cos(4*psi))/8 + 2*h**3*k*sin(psi)**3*cos(psi) - 2*h**3*k*sin(psi)*cos(psi)**3 - h**2*k**2*(1 - cos(4*psi))/2 + h**2*k**2*sin(psi)**4 + h**2*k**2*cos(psi)**4 - 2*h*k**3*sin(psi)**3*cos(psi) + 2*h*k**3*sin(psi)*cos(psi)**3 + k**4*(1 - cos(4*psi))/8) + b_look**4*(b_orbit**4*sin(psi)**4 - b_orbit**2*h**2*(1 - cos(4*psi))/4 - 4*b_orbit**2*h*k*sin(psi)**3*cos(psi) - 2*b_orbit**2*k**2*sin(psi)**4 + h**4*cos(psi)**4 + 4*h**3*k*sin(psi)*cos(psi)**3 + 3*h**2*k**2*(1 - cos(4*psi))/4 + 4*h*k**3*sin(psi)**3*cos(psi) + k**4*sin(psi)**4))/(a_look**4*b_look**4)\n"
     ]
    }
   ],
   "source": [
    "print(sp.simplify(E3))"
   ]
  },
  {
   "cell_type": "markdown",
   "metadata": {},
   "source": [
    "# Other Stuff"
   ]
  },
  {
   "cell_type": "code",
   "execution_count": 73,
   "metadata": {},
   "outputs": [
    {
     "data": {
      "text/latex": [
       "$\\displaystyle \\frac{- \\frac{a_{lscdr}^{2} h \\sin{\\left(2 \\psi \\right)}}{2} + a_{lscdr}^{2} k \\cos^{2}{\\left(\\psi \\right)} + \\frac{a_{lscdr}^{2} x \\sin{\\left(2 \\psi \\right)}}{2} - a_{lscdr} b_{lscdr} \\sqrt{- a_{lscdr}^{2} \\sin^{2}{\\left(\\psi \\right)} + a_{lscdr}^{2} + b_{lscdr}^{2} \\sin^{2}{\\left(\\psi \\right)} - h^{2} + 2 h x - x^{2}} + \\frac{b_{lscdr}^{2} h \\sin{\\left(2 \\psi \\right)}}{2} + b_{lscdr}^{2} k \\sin^{2}{\\left(\\psi \\right)} - \\frac{b_{lscdr}^{2} x \\sin{\\left(2 \\psi \\right)}}{2}}{a_{lscdr}^{2} \\cos^{2}{\\left(\\psi \\right)} + b_{lscdr}^{2} \\sin^{2}{\\left(\\psi \\right)}}$"
      ],
      "text/plain": [
       "(-a_lscdr**2*h*sin(2*psi)/2 + a_lscdr**2*k*cos(psi)**2 + a_lscdr**2*x*sin(2*psi)/2 - a_lscdr*b_lscdr*sqrt(-a_lscdr**2*sin(psi)**2 + a_lscdr**2 + b_lscdr**2*sin(psi)**2 - h**2 + 2*h*x - x**2) + b_lscdr**2*h*sin(2*psi)/2 + b_lscdr**2*k*sin(psi)**2 - b_lscdr**2*x*sin(2*psi)/2)/(a_lscdr**2*cos(psi)**2 + b_lscdr**2*sin(psi)**2)"
      ]
     },
     "execution_count": 73,
     "metadata": {},
     "output_type": "execute_result"
    }
   ],
   "source": [
    "yeqn[0]"
   ]
  },
  {
   "cell_type": "code",
   "execution_count": 74,
   "metadata": {},
   "outputs": [
    {
     "data": {
      "text/latex": [
       "$\\displaystyle \\frac{- \\frac{a_{lscdr}^{2} h \\sin{\\left(2 \\psi \\right)}}{2} + a_{lscdr}^{2} k \\cos^{2}{\\left(\\psi \\right)} + \\frac{a_{lscdr}^{2} x \\sin{\\left(2 \\psi \\right)}}{2} + a_{lscdr} b_{lscdr} \\sqrt{- a_{lscdr}^{2} \\sin^{2}{\\left(\\psi \\right)} + a_{lscdr}^{2} + b_{lscdr}^{2} \\sin^{2}{\\left(\\psi \\right)} - h^{2} + 2 h x - x^{2}} + \\frac{b_{lscdr}^{2} h \\sin{\\left(2 \\psi \\right)}}{2} + b_{lscdr}^{2} k \\sin^{2}{\\left(\\psi \\right)} - \\frac{b_{lscdr}^{2} x \\sin{\\left(2 \\psi \\right)}}{2}}{a_{lscdr}^{2} \\cos^{2}{\\left(\\psi \\right)} + b_{lscdr}^{2} \\sin^{2}{\\left(\\psi \\right)}}$"
      ],
      "text/plain": [
       "(-a_lscdr**2*h*sin(2*psi)/2 + a_lscdr**2*k*cos(psi)**2 + a_lscdr**2*x*sin(2*psi)/2 + a_lscdr*b_lscdr*sqrt(-a_lscdr**2*sin(psi)**2 + a_lscdr**2 + b_lscdr**2*sin(psi)**2 - h**2 + 2*h*x - x**2) + b_lscdr**2*h*sin(2*psi)/2 + b_lscdr**2*k*sin(psi)**2 - b_lscdr**2*x*sin(2*psi)/2)/(a_lscdr**2*cos(psi)**2 + b_lscdr**2*sin(psi)**2)"
      ]
     },
     "execution_count": 74,
     "metadata": {},
     "output_type": "execute_result"
    }
   ],
   "source": [
    "yeqn[1]"
   ]
  },
  {
   "cell_type": "code",
   "execution_count": 75,
   "metadata": {},
   "outputs": [
    {
     "name": "stdout",
     "output_type": "stream",
     "text": [
      "(2*h*sin(psi)**2/b_lscdr**2 - 2*k*sin(psi)*cos(psi)/b_lscdr**2 - 2*x*sin(psi)**2/b_lscdr**2 + 2*y*sin(psi)*cos(psi)/b_lscdr**2 + 2*h*sin(psi)*cos(psi)/a_lscdr**2 + 2*h*cos(psi)**2/a_lscdr**2 - 2*x*cos(psi)**2/a_lscdr**2 - 2*y*sin(psi)*cos(psi)/a_lscdr**2)/(2*h*sin(psi)*cos(psi)/b_lscdr**2 - 2*k*cos(psi)**2/b_lscdr**2 - 2*x*sin(psi)*cos(psi)/b_lscdr**2 + 2*y*cos(psi)**2/b_lscdr**2 - 2*h*sin(psi)**2/a_lscdr**2 - 2*h*sin(psi)*cos(psi)/a_lscdr**2 + 2*x*sin(psi)*cos(psi)/a_lscdr**2 + 2*y*sin(psi)**2/a_lscdr**2)\n"
     ]
    }
   ],
   "source": [
    "print(dydxEqn)"
   ]
  },
  {
   "cell_type": "code",
   "execution_count": null,
   "metadata": {},
   "outputs": [],
   "source": []
  }
 ],
 "metadata": {
  "kernelspec": {
   "display_name": "Python 3",
   "language": "python",
   "name": "python3"
  },
  "language_info": {
   "codemirror_mode": {
    "name": "ipython",
    "version": 3
   },
   "file_extension": ".py",
   "mimetype": "text/x-python",
   "name": "python",
   "nbconvert_exporter": "python",
   "pygments_lexer": "ipython3",
   "version": "3.7.7"
  }
 },
 "nbformat": 4,
 "nbformat_minor": 4
}
