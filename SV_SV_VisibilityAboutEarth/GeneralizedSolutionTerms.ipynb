{
 "cells": [
  {
   "cell_type": "code",
   "execution_count": 1,
   "id": "9fa3437e",
   "metadata": {},
   "outputs": [],
   "source": [
    "import sympy as sp\n",
    "import numpy as np"
   ]
  },
  {
   "cell_type": "code",
   "execution_count": null,
   "id": "fa126225",
   "metadata": {},
   "outputs": [],
   "source": []
  },
  {
   "cell_type": "code",
   "execution_count": 2,
   "id": "9a1135e4",
   "metadata": {},
   "outputs": [],
   "source": [
    "a0,e0,i0,omega0,Omega0,nu0,a1,e1,i1,omega1,Omega1,nu1 = sp.symbols(\"a_0,e_0,i_0,omega_0,Omega_0,nu_0,a_1,e_1,i_1,omega_1,Omega_1,nu_1\")"
   ]
  },
  {
   "cell_type": "code",
   "execution_count": 3,
   "id": "0b4c3907",
   "metadata": {},
   "outputs": [],
   "source": [
    "r = sp.symbols('r')"
   ]
  },
  {
   "cell_type": "code",
   "execution_count": 4,
   "id": "58013c5d",
   "metadata": {},
   "outputs": [],
   "source": [
    "#Declare term elements and exponents\n",
    "individual_terms = [a0,e0,sp.sin(i0),sp.cos(i0),Omega0,sp.sin(nu0),sp.cos(nu0),sp.sin(nu0),sp.cos(nu0),a1,e1,Omega1,sp.sin(nu1),sp.cos(nu1),sp.sin(nu1),sp.cos(nu1),sp.sin(i1),sp.cos(i1)]\n",
    "ns = [-4,-3,-2,-1,1,2,3,4]"
   ]
  },
  {
   "cell_type": "code",
   "execution_count": 5,
   "id": "56580b38",
   "metadata": {},
   "outputs": [],
   "source": [
    "#expand terms to all exponents of terms\n",
    "individual_terms2 = list()\n",
    "for i in np.arange(len(ns)):\n",
    "    for j in np.arange(len(individual_terms)):\n",
    "        individual_terms2.append(individual_terms[j]**ns[i])\n",
    "        #individual_terms2.append(-individual_terms[j]**ns[i])"
   ]
  },
  {
   "cell_type": "code",
   "execution_count": 6,
   "id": "6ca59c3e",
   "metadata": {},
   "outputs": [
    {
     "data": {
      "text/plain": [
       "[a_0**(-4),\n",
       " e_0**(-4),\n",
       " sin(i_0)**(-4),\n",
       " cos(i_0)**(-4),\n",
       " Omega_0**(-4),\n",
       " sin(nu_0)**(-4),\n",
       " cos(nu_0)**(-4),\n",
       " sin(nu_0)**(-4),\n",
       " cos(nu_0)**(-4),\n",
       " a_1**(-4),\n",
       " e_1**(-4),\n",
       " Omega_1**(-4),\n",
       " sin(nu_1)**(-4),\n",
       " cos(nu_1)**(-4),\n",
       " sin(nu_1)**(-4),\n",
       " cos(nu_1)**(-4),\n",
       " sin(i_1)**(-4),\n",
       " cos(i_1)**(-4),\n",
       " a_0**(-3),\n",
       " e_0**(-3),\n",
       " sin(i_0)**(-3),\n",
       " cos(i_0)**(-3),\n",
       " Omega_0**(-3),\n",
       " sin(nu_0)**(-3),\n",
       " cos(nu_0)**(-3),\n",
       " sin(nu_0)**(-3),\n",
       " cos(nu_0)**(-3),\n",
       " a_1**(-3),\n",
       " e_1**(-3),\n",
       " Omega_1**(-3),\n",
       " sin(nu_1)**(-3),\n",
       " cos(nu_1)**(-3),\n",
       " sin(nu_1)**(-3),\n",
       " cos(nu_1)**(-3),\n",
       " sin(i_1)**(-3),\n",
       " cos(i_1)**(-3),\n",
       " a_0**(-2),\n",
       " e_0**(-2),\n",
       " sin(i_0)**(-2),\n",
       " cos(i_0)**(-2),\n",
       " Omega_0**(-2),\n",
       " sin(nu_0)**(-2),\n",
       " cos(nu_0)**(-2),\n",
       " sin(nu_0)**(-2),\n",
       " cos(nu_0)**(-2),\n",
       " a_1**(-2),\n",
       " e_1**(-2),\n",
       " Omega_1**(-2),\n",
       " sin(nu_1)**(-2),\n",
       " cos(nu_1)**(-2),\n",
       " sin(nu_1)**(-2),\n",
       " cos(nu_1)**(-2),\n",
       " sin(i_1)**(-2),\n",
       " cos(i_1)**(-2),\n",
       " 1/a_0,\n",
       " 1/e_0,\n",
       " 1/sin(i_0),\n",
       " 1/cos(i_0),\n",
       " 1/Omega_0,\n",
       " 1/sin(nu_0),\n",
       " 1/cos(nu_0),\n",
       " 1/sin(nu_0),\n",
       " 1/cos(nu_0),\n",
       " 1/a_1,\n",
       " 1/e_1,\n",
       " 1/Omega_1,\n",
       " 1/sin(nu_1),\n",
       " 1/cos(nu_1),\n",
       " 1/sin(nu_1),\n",
       " 1/cos(nu_1),\n",
       " 1/sin(i_1),\n",
       " 1/cos(i_1),\n",
       " a_0,\n",
       " e_0,\n",
       " sin(i_0),\n",
       " cos(i_0),\n",
       " Omega_0,\n",
       " sin(nu_0),\n",
       " cos(nu_0),\n",
       " sin(nu_0),\n",
       " cos(nu_0),\n",
       " a_1,\n",
       " e_1,\n",
       " Omega_1,\n",
       " sin(nu_1),\n",
       " cos(nu_1),\n",
       " sin(nu_1),\n",
       " cos(nu_1),\n",
       " sin(i_1),\n",
       " cos(i_1),\n",
       " a_0**2,\n",
       " e_0**2,\n",
       " sin(i_0)**2,\n",
       " cos(i_0)**2,\n",
       " Omega_0**2,\n",
       " sin(nu_0)**2,\n",
       " cos(nu_0)**2,\n",
       " sin(nu_0)**2,\n",
       " cos(nu_0)**2,\n",
       " a_1**2,\n",
       " e_1**2,\n",
       " Omega_1**2,\n",
       " sin(nu_1)**2,\n",
       " cos(nu_1)**2,\n",
       " sin(nu_1)**2,\n",
       " cos(nu_1)**2,\n",
       " sin(i_1)**2,\n",
       " cos(i_1)**2,\n",
       " a_0**3,\n",
       " e_0**3,\n",
       " sin(i_0)**3,\n",
       " cos(i_0)**3,\n",
       " Omega_0**3,\n",
       " sin(nu_0)**3,\n",
       " cos(nu_0)**3,\n",
       " sin(nu_0)**3,\n",
       " cos(nu_0)**3,\n",
       " a_1**3,\n",
       " e_1**3,\n",
       " Omega_1**3,\n",
       " sin(nu_1)**3,\n",
       " cos(nu_1)**3,\n",
       " sin(nu_1)**3,\n",
       " cos(nu_1)**3,\n",
       " sin(i_1)**3,\n",
       " cos(i_1)**3,\n",
       " a_0**4,\n",
       " e_0**4,\n",
       " sin(i_0)**4,\n",
       " cos(i_0)**4,\n",
       " Omega_0**4,\n",
       " sin(nu_0)**4,\n",
       " cos(nu_0)**4,\n",
       " sin(nu_0)**4,\n",
       " cos(nu_0)**4,\n",
       " a_1**4,\n",
       " e_1**4,\n",
       " Omega_1**4,\n",
       " sin(nu_1)**4,\n",
       " cos(nu_1)**4,\n",
       " sin(nu_1)**4,\n",
       " cos(nu_1)**4,\n",
       " sin(i_1)**4,\n",
       " cos(i_1)**4]"
      ]
     },
     "execution_count": 6,
     "metadata": {},
     "output_type": "execute_result"
    }
   ],
   "source": [
    "individual_terms2"
   ]
  },
  {
   "cell_type": "code",
   "execution_count": 7,
   "id": "ffeafb02",
   "metadata": {},
   "outputs": [
    {
     "data": {
      "text/plain": [
       "144"
      ]
     },
     "execution_count": 7,
     "metadata": {},
     "output_type": "execute_result"
    }
   ],
   "source": [
    "len(individual_terms2)"
   ]
  },
  {
   "cell_type": "code",
   "execution_count": 8,
   "id": "c9f10eec",
   "metadata": {},
   "outputs": [
    {
     "data": {
      "text/plain": [
       "412293024"
      ]
     },
     "execution_count": 8,
     "metadata": {},
     "output_type": "execute_result"
    }
   ],
   "source": [
    "144*143*142*141"
   ]
  },
  {
   "cell_type": "code",
   "execution_count": 9,
   "id": "cbe01038",
   "metadata": {},
   "outputs": [],
   "source": [
    "a0,e0,i0,W0,w0,v0,x0,y0,z0 = sp.symbols(\"a_0,e_0,i_0,Omega_0,omega_0,nu_0,x_0,y_0,z_0\",real=True)\n",
    "a1,e1,i1,W1,w1,v1,x1,y1,z1 = sp.symbols(\"a_1,e_1,i_1,Omega_1,omega_1,nu_1,x_1,y_1,z_1\",real=True)\n",
    "a,e,i,W,w,v,x,y,z = sp.symbols(\"a,e,i,Omega,omega,nu,x,y,z\",real=True)"
   ]
  },
  {
   "cell_type": "code",
   "execution_count": 10,
   "id": "346c3051",
   "metadata": {},
   "outputs": [],
   "source": [
    "Ap,Bp,Cp,Dp,Ep,Fp,Gp,Hp,Ip,Jp,Kp = sp.symbols('A_p,B_p,C_p,D_p,E_p,F_p,G_p,H_p,I_p,J_p,K_p',real=True)\n",
    "Aq,Bq,Cq,Dq,Eq,Fq,Gq,Hq,Iq,Jq,Kq = sp.symbols('A_q,B_q,C_q,D_q,E_q,F_q,G_q,H_q,I_q,J_q,K_q',real=True)\n",
    "vq, vp, ep, eq = sp.symbols('nu_q, nu_p, e_p, e_q',real=True)"
   ]
  },
  {
   "cell_type": "code",
   "execution_count": 11,
   "id": "e463675e",
   "metadata": {},
   "outputs": [],
   "source": [
    "B,C,D,E = sp.symbols('B,C,D,E',real=True) #replacements for coefficients in above"
   ]
  },
  {
   "cell_type": "code",
   "execution_count": 12,
   "id": "b7739da5",
   "metadata": {},
   "outputs": [],
   "source": [
    "#XYZ\n",
    "r = a*(1-e**2)/(1+e*sp.cos(v))\n",
    "X = r*(sp.cos(W)*sp.cos(w+v)-sp.sin(W)*sp.sin(w+v)*sp.cos(i))\n",
    "Y = r*(sp.sin(W)*sp.cos(w+v)+sp.cos(W)*sp.sin(w+v)*sp.cos(i))\n",
    "Z = r*sp.sin(i)*sp.sin(w+v)"
   ]
  },
  {
   "cell_type": "code",
   "execution_count": 13,
   "id": "8d8b6425",
   "metadata": {},
   "outputs": [],
   "source": [
    "A = sp.symbols('A',real=True,positive=True) #The replacement for a(1-e^2)\n",
    "Xp = X.subs(a*(1-e**2),A)\n",
    "X0 = sp.expand(X).subs(sp.sin(W)*sp.cos(i)*sp.cos(w),B).subs(sp.sin(W)*sp.sin(w)*sp.cos(i),C).subs(sp.sin(w)*sp.cos(W),D).subs(sp.cos(W)*sp.cos(w),E)\n"
   ]
  },
  {
   "cell_type": "code",
   "execution_count": 16,
   "id": "99aac4fa",
   "metadata": {},
   "outputs": [],
   "source": [
    "heqn = (-(Ap*Jp*sp.sin(vp)/(ep*sp.cos(vp) + 1) + Ap*Kp*sp.cos(vp)/(ep*sp.cos(vp) + 1))*(-Ap*Jp*sp.sin(vp)/(ep*sp.cos(vp) + 1) - Ap*Kp*sp.cos(vp)/(ep*sp.cos(vp) + 1) + Aq*Jq*sp.sin(vq)/(eq*sp.cos(vq) + 1) + Aq*Kq*sp.cos(vq)/(eq*sp.cos(vq) + 1)) + (-Ap*Bp*sp.sin(vp)/(ep*sp.cos(vp) + 1) - Ap*Cp*sp.cos(vp)/(ep*sp.cos(vp) + 1) - Ap*Dp*sp.sin(vp)/(ep*sp.cos(vp) + 1) + Ap*Ep*sp.cos(vp)/(ep*sp.cos(vp) + 1))*(-Ap*Bp*sp.sin(vp)/(ep*sp.cos(vp) + 1) - Ap*Cp*sp.cos(vp)/(ep*sp.cos(vp) + 1) - Ap*Dp*sp.sin(vp)/(ep*sp.cos(vp) + 1) + Ap*Ep*sp.cos(vp)/(ep*sp.cos(vp) + 1) + Aq*Bq*sp.sin(vq)/(eq*sp.cos(vq) + 1) + Aq*Cq*sp.cos(vq)/(eq*sp.cos(vq) + 1) + Aq*Dq*sp.sin(vq)/(eq*sp.cos(vq) + 1) - Aq*Eq*sp.cos(vq)/(eq*sp.cos(vq) + 1)) - (-Ap*Fp*sp.sin(vp)/(ep*sp.cos(vp) + 1) + Ap*Gp*sp.cos(vp)/(ep*sp.cos(vp) + 1) + Ap*Hp*sp.sin(vp)/(ep*sp.cos(vp) + 1) + Ap*Ip*sp.cos(vp)/(ep*sp.cos(vp) + 1))*(Ap*Fp*sp.sin(vp)/(ep*sp.cos(vp) + 1) - Ap*Gp*sp.cos(vp)/(ep*sp.cos(vp) + 1) - Ap*Hp*sp.sin(vp)/(ep*sp.cos(vp) + 1) - Ap*Ip*sp.cos(vp)/(ep*sp.cos(vp) + 1) - Aq*Fq*sp.sin(vq)/(eq*sp.cos(vq) + 1) + Aq*Gq*sp.cos(vq)/(eq*sp.cos(vq) + 1) + Aq*Hq*sp.sin(vq)/(eq*sp.cos(vq) + 1) + Aq*Iq*sp.cos(vq)/(eq*sp.cos(vq) + 1)))/sp.sqrt((-Ap*Jp*sp.sin(vp)/(ep*sp.cos(vp) + 1) - Ap*Kp*sp.cos(vp)/(ep*sp.cos(vp) + 1) + Aq*Jq*sp.sin(vq)/(eq*sp.cos(vq) + 1) + Aq*Kq*sp.cos(vq)/(eq*sp.cos(vq) + 1))**2 + (Ap*Bp*sp.sin(vp)/(ep*sp.cos(vp) + 1) + Ap*Cp*sp.cos(vp)/(ep*sp.cos(vp) + 1) + Ap*Dp*sp.sin(vp)/(ep*sp.cos(vp) + 1) - Ap*Ep*sp.cos(vp)/(ep*sp.cos(vp) + 1) - Aq*Bq*sp.sin(vq)/(eq*sp.cos(vq) + 1) - Aq*Cq*sp.cos(vq)/(eq*sp.cos(vq) + 1) - Aq*Dq*sp.sin(vq)/(eq*sp.cos(vq) + 1) + Aq*Eq*sp.cos(vq)/(eq*sp.cos(vq) + 1))**2 + (Ap*Fp*sp.sin(vp)/(ep*sp.cos(vp) + 1) - Ap*Gp*sp.cos(vp)/(ep*sp.cos(vp) + 1) - Ap*Hp*sp.sin(vp)/(ep*sp.cos(vp) + 1) - Ap*Ip*sp.cos(vp)/(ep*sp.cos(vp) + 1) - Aq*Fq*sp.sin(vq)/(eq*sp.cos(vq) + 1) + Aq*Gq*sp.cos(vq)/(eq*sp.cos(vq) + 1) + Aq*Hq*sp.sin(vq)/(eq*sp.cos(vq) + 1) + Aq*Iq*sp.cos(vq)/(eq*sp.cos(vq) + 1))**2)"
   ]
  },
  {
   "cell_type": "code",
   "execution_count": 17,
   "id": "1a456ae5",
   "metadata": {},
   "outputs": [
    {
     "data": {
      "text/latex": [
       "$\\displaystyle \\frac{\\left(- \\frac{A_{p} J_{p} \\sin{\\left(\\nu_{p} \\right)}}{e_{p} \\cos{\\left(\\nu_{p} \\right)} + 1} - \\frac{A_{p} K_{p} \\cos{\\left(\\nu_{p} \\right)}}{e_{p} \\cos{\\left(\\nu_{p} \\right)} + 1}\\right) \\left(- \\frac{A_{p} J_{p} \\sin{\\left(\\nu_{p} \\right)}}{e_{p} \\cos{\\left(\\nu_{p} \\right)} + 1} - \\frac{A_{p} K_{p} \\cos{\\left(\\nu_{p} \\right)}}{e_{p} \\cos{\\left(\\nu_{p} \\right)} + 1} + \\frac{A_{q} J_{q} \\sin{\\left(\\nu_{q} \\right)}}{e_{q} \\cos{\\left(\\nu_{q} \\right)} + 1} + \\frac{A_{q} K_{q} \\cos{\\left(\\nu_{q} \\right)}}{e_{q} \\cos{\\left(\\nu_{q} \\right)} + 1}\\right) + \\left(- \\frac{A_{p} B_{p} \\sin{\\left(\\nu_{p} \\right)}}{e_{p} \\cos{\\left(\\nu_{p} \\right)} + 1} - \\frac{A_{p} C_{p} \\cos{\\left(\\nu_{p} \\right)}}{e_{p} \\cos{\\left(\\nu_{p} \\right)} + 1} - \\frac{A_{p} D_{p} \\sin{\\left(\\nu_{p} \\right)}}{e_{p} \\cos{\\left(\\nu_{p} \\right)} + 1} + \\frac{A_{p} E_{p} \\cos{\\left(\\nu_{p} \\right)}}{e_{p} \\cos{\\left(\\nu_{p} \\right)} + 1}\\right) \\left(- \\frac{A_{p} B_{p} \\sin{\\left(\\nu_{p} \\right)}}{e_{p} \\cos{\\left(\\nu_{p} \\right)} + 1} - \\frac{A_{p} C_{p} \\cos{\\left(\\nu_{p} \\right)}}{e_{p} \\cos{\\left(\\nu_{p} \\right)} + 1} - \\frac{A_{p} D_{p} \\sin{\\left(\\nu_{p} \\right)}}{e_{p} \\cos{\\left(\\nu_{p} \\right)} + 1} + \\frac{A_{p} E_{p} \\cos{\\left(\\nu_{p} \\right)}}{e_{p} \\cos{\\left(\\nu_{p} \\right)} + 1} + \\frac{A_{q} B_{q} \\sin{\\left(\\nu_{q} \\right)}}{e_{q} \\cos{\\left(\\nu_{q} \\right)} + 1} + \\frac{A_{q} C_{q} \\cos{\\left(\\nu_{q} \\right)}}{e_{q} \\cos{\\left(\\nu_{q} \\right)} + 1} + \\frac{A_{q} D_{q} \\sin{\\left(\\nu_{q} \\right)}}{e_{q} \\cos{\\left(\\nu_{q} \\right)} + 1} - \\frac{A_{q} E_{q} \\cos{\\left(\\nu_{q} \\right)}}{e_{q} \\cos{\\left(\\nu_{q} \\right)} + 1}\\right) - \\left(- \\frac{A_{p} F_{p} \\sin{\\left(\\nu_{p} \\right)}}{e_{p} \\cos{\\left(\\nu_{p} \\right)} + 1} + \\frac{A_{p} G_{p} \\cos{\\left(\\nu_{p} \\right)}}{e_{p} \\cos{\\left(\\nu_{p} \\right)} + 1} + \\frac{A_{p} H_{p} \\sin{\\left(\\nu_{p} \\right)}}{e_{p} \\cos{\\left(\\nu_{p} \\right)} + 1} + \\frac{A_{p} I_{p} \\cos{\\left(\\nu_{p} \\right)}}{e_{p} \\cos{\\left(\\nu_{p} \\right)} + 1}\\right) \\left(\\frac{A_{p} F_{p} \\sin{\\left(\\nu_{p} \\right)}}{e_{p} \\cos{\\left(\\nu_{p} \\right)} + 1} - \\frac{A_{p} G_{p} \\cos{\\left(\\nu_{p} \\right)}}{e_{p} \\cos{\\left(\\nu_{p} \\right)} + 1} - \\frac{A_{p} H_{p} \\sin{\\left(\\nu_{p} \\right)}}{e_{p} \\cos{\\left(\\nu_{p} \\right)} + 1} - \\frac{A_{p} I_{p} \\cos{\\left(\\nu_{p} \\right)}}{e_{p} \\cos{\\left(\\nu_{p} \\right)} + 1} - \\frac{A_{q} F_{q} \\sin{\\left(\\nu_{q} \\right)}}{e_{q} \\cos{\\left(\\nu_{q} \\right)} + 1} + \\frac{A_{q} G_{q} \\cos{\\left(\\nu_{q} \\right)}}{e_{q} \\cos{\\left(\\nu_{q} \\right)} + 1} + \\frac{A_{q} H_{q} \\sin{\\left(\\nu_{q} \\right)}}{e_{q} \\cos{\\left(\\nu_{q} \\right)} + 1} + \\frac{A_{q} I_{q} \\cos{\\left(\\nu_{q} \\right)}}{e_{q} \\cos{\\left(\\nu_{q} \\right)} + 1}\\right)}{\\sqrt{\\left(- \\frac{A_{p} J_{p} \\sin{\\left(\\nu_{p} \\right)}}{e_{p} \\cos{\\left(\\nu_{p} \\right)} + 1} - \\frac{A_{p} K_{p} \\cos{\\left(\\nu_{p} \\right)}}{e_{p} \\cos{\\left(\\nu_{p} \\right)} + 1} + \\frac{A_{q} J_{q} \\sin{\\left(\\nu_{q} \\right)}}{e_{q} \\cos{\\left(\\nu_{q} \\right)} + 1} + \\frac{A_{q} K_{q} \\cos{\\left(\\nu_{q} \\right)}}{e_{q} \\cos{\\left(\\nu_{q} \\right)} + 1}\\right)^{2} + \\left(\\frac{A_{p} B_{p} \\sin{\\left(\\nu_{p} \\right)}}{e_{p} \\cos{\\left(\\nu_{p} \\right)} + 1} + \\frac{A_{p} C_{p} \\cos{\\left(\\nu_{p} \\right)}}{e_{p} \\cos{\\left(\\nu_{p} \\right)} + 1} + \\frac{A_{p} D_{p} \\sin{\\left(\\nu_{p} \\right)}}{e_{p} \\cos{\\left(\\nu_{p} \\right)} + 1} - \\frac{A_{p} E_{p} \\cos{\\left(\\nu_{p} \\right)}}{e_{p} \\cos{\\left(\\nu_{p} \\right)} + 1} - \\frac{A_{q} B_{q} \\sin{\\left(\\nu_{q} \\right)}}{e_{q} \\cos{\\left(\\nu_{q} \\right)} + 1} - \\frac{A_{q} C_{q} \\cos{\\left(\\nu_{q} \\right)}}{e_{q} \\cos{\\left(\\nu_{q} \\right)} + 1} - \\frac{A_{q} D_{q} \\sin{\\left(\\nu_{q} \\right)}}{e_{q} \\cos{\\left(\\nu_{q} \\right)} + 1} + \\frac{A_{q} E_{q} \\cos{\\left(\\nu_{q} \\right)}}{e_{q} \\cos{\\left(\\nu_{q} \\right)} + 1}\\right)^{2} + \\left(\\frac{A_{p} F_{p} \\sin{\\left(\\nu_{p} \\right)}}{e_{p} \\cos{\\left(\\nu_{p} \\right)} + 1} - \\frac{A_{p} G_{p} \\cos{\\left(\\nu_{p} \\right)}}{e_{p} \\cos{\\left(\\nu_{p} \\right)} + 1} - \\frac{A_{p} H_{p} \\sin{\\left(\\nu_{p} \\right)}}{e_{p} \\cos{\\left(\\nu_{p} \\right)} + 1} - \\frac{A_{p} I_{p} \\cos{\\left(\\nu_{p} \\right)}}{e_{p} \\cos{\\left(\\nu_{p} \\right)} + 1} - \\frac{A_{q} F_{q} \\sin{\\left(\\nu_{q} \\right)}}{e_{q} \\cos{\\left(\\nu_{q} \\right)} + 1} + \\frac{A_{q} G_{q} \\cos{\\left(\\nu_{q} \\right)}}{e_{q} \\cos{\\left(\\nu_{q} \\right)} + 1} + \\frac{A_{q} H_{q} \\sin{\\left(\\nu_{q} \\right)}}{e_{q} \\cos{\\left(\\nu_{q} \\right)} + 1} + \\frac{A_{q} I_{q} \\cos{\\left(\\nu_{q} \\right)}}{e_{q} \\cos{\\left(\\nu_{q} \\right)} + 1}\\right)^{2}}}$"
      ],
      "text/plain": [
       "((-A_p*J_p*sin(nu_p)/(e_p*cos(nu_p) + 1) - A_p*K_p*cos(nu_p)/(e_p*cos(nu_p) + 1))*(-A_p*J_p*sin(nu_p)/(e_p*cos(nu_p) + 1) - A_p*K_p*cos(nu_p)/(e_p*cos(nu_p) + 1) + A_q*J_q*sin(nu_q)/(e_q*cos(nu_q) + 1) + A_q*K_q*cos(nu_q)/(e_q*cos(nu_q) + 1)) + (-A_p*B_p*sin(nu_p)/(e_p*cos(nu_p) + 1) - A_p*C_p*cos(nu_p)/(e_p*cos(nu_p) + 1) - A_p*D_p*sin(nu_p)/(e_p*cos(nu_p) + 1) + A_p*E_p*cos(nu_p)/(e_p*cos(nu_p) + 1))*(-A_p*B_p*sin(nu_p)/(e_p*cos(nu_p) + 1) - A_p*C_p*cos(nu_p)/(e_p*cos(nu_p) + 1) - A_p*D_p*sin(nu_p)/(e_p*cos(nu_p) + 1) + A_p*E_p*cos(nu_p)/(e_p*cos(nu_p) + 1) + A_q*B_q*sin(nu_q)/(e_q*cos(nu_q) + 1) + A_q*C_q*cos(nu_q)/(e_q*cos(nu_q) + 1) + A_q*D_q*sin(nu_q)/(e_q*cos(nu_q) + 1) - A_q*E_q*cos(nu_q)/(e_q*cos(nu_q) + 1)) - (-A_p*F_p*sin(nu_p)/(e_p*cos(nu_p) + 1) + A_p*G_p*cos(nu_p)/(e_p*cos(nu_p) + 1) + A_p*H_p*sin(nu_p)/(e_p*cos(nu_p) + 1) + A_p*I_p*cos(nu_p)/(e_p*cos(nu_p) + 1))*(A_p*F_p*sin(nu_p)/(e_p*cos(nu_p) + 1) - A_p*G_p*cos(nu_p)/(e_p*cos(nu_p) + 1) - A_p*H_p*sin(nu_p)/(e_p*cos(nu_p) + 1) - A_p*I_p*cos(nu_p)/(e_p*cos(nu_p) + 1) - A_q*F_q*sin(nu_q)/(e_q*cos(nu_q) + 1) + A_q*G_q*cos(nu_q)/(e_q*cos(nu_q) + 1) + A_q*H_q*sin(nu_q)/(e_q*cos(nu_q) + 1) + A_q*I_q*cos(nu_q)/(e_q*cos(nu_q) + 1)))/sqrt((-A_p*J_p*sin(nu_p)/(e_p*cos(nu_p) + 1) - A_p*K_p*cos(nu_p)/(e_p*cos(nu_p) + 1) + A_q*J_q*sin(nu_q)/(e_q*cos(nu_q) + 1) + A_q*K_q*cos(nu_q)/(e_q*cos(nu_q) + 1))**2 + (A_p*B_p*sin(nu_p)/(e_p*cos(nu_p) + 1) + A_p*C_p*cos(nu_p)/(e_p*cos(nu_p) + 1) + A_p*D_p*sin(nu_p)/(e_p*cos(nu_p) + 1) - A_p*E_p*cos(nu_p)/(e_p*cos(nu_p) + 1) - A_q*B_q*sin(nu_q)/(e_q*cos(nu_q) + 1) - A_q*C_q*cos(nu_q)/(e_q*cos(nu_q) + 1) - A_q*D_q*sin(nu_q)/(e_q*cos(nu_q) + 1) + A_q*E_q*cos(nu_q)/(e_q*cos(nu_q) + 1))**2 + (A_p*F_p*sin(nu_p)/(e_p*cos(nu_p) + 1) - A_p*G_p*cos(nu_p)/(e_p*cos(nu_p) + 1) - A_p*H_p*sin(nu_p)/(e_p*cos(nu_p) + 1) - A_p*I_p*cos(nu_p)/(e_p*cos(nu_p) + 1) - A_q*F_q*sin(nu_q)/(e_q*cos(nu_q) + 1) + A_q*G_q*cos(nu_q)/(e_q*cos(nu_q) + 1) + A_q*H_q*sin(nu_q)/(e_q*cos(nu_q) + 1) + A_q*I_q*cos(nu_q)/(e_q*cos(nu_q) + 1))**2)"
      ]
     },
     "execution_count": 17,
     "metadata": {},
     "output_type": "execute_result"
    }
   ],
   "source": [
    "(-(Ap*Jp*sp.sin(vp)/(ep*sp.cos(vp) + 1) + Ap*Kp*sp.cos(vp)/(ep*sp.cos(vp) + 1))*(-Ap*Jp*sp.sin(vp)/(ep*sp.cos(vp) + 1) - Ap*Kp*sp.cos(vp)/(ep*sp.cos(vp) + 1) + Aq*Jq*sp.sin(vq)/(eq*sp.cos(vq) + 1) + Aq*Kq*sp.cos(vq)/(eq*sp.cos(vq) + 1)) + (-Ap*Bp*sp.sin(vp)/(ep*sp.cos(vp) + 1) - Ap*Cp*sp.cos(vp)/(ep*sp.cos(vp) + 1) - Ap*Dp*sp.sin(vp)/(ep*sp.cos(vp) + 1) + Ap*Ep*sp.cos(vp)/(ep*sp.cos(vp) + 1))*(-Ap*Bp*sp.sin(vp)/(ep*sp.cos(vp) + 1) - Ap*Cp*sp.cos(vp)/(ep*sp.cos(vp) + 1) - Ap*Dp*sp.sin(vp)/(ep*sp.cos(vp) + 1) + Ap*Ep*sp.cos(vp)/(ep*sp.cos(vp) + 1) + Aq*Bq*sp.sin(vq)/(eq*sp.cos(vq) + 1) + Aq*Cq*sp.cos(vq)/(eq*sp.cos(vq) + 1) + Aq*Dq*sp.sin(vq)/(eq*sp.cos(vq) + 1) - Aq*Eq*sp.cos(vq)/(eq*sp.cos(vq) + 1)) - (-Ap*Fp*sp.sin(vp)/(ep*sp.cos(vp) + 1) + Ap*Gp*sp.cos(vp)/(ep*sp.cos(vp) + 1) + Ap*Hp*sp.sin(vp)/(ep*sp.cos(vp) + 1) + Ap*Ip*sp.cos(vp)/(ep*sp.cos(vp) + 1))*(Ap*Fp*sp.sin(vp)/(ep*sp.cos(vp) + 1) - Ap*Gp*sp.cos(vp)/(ep*sp.cos(vp) + 1) - Ap*Hp*sp.sin(vp)/(ep*sp.cos(vp) + 1) - Ap*Ip*sp.cos(vp)/(ep*sp.cos(vp) + 1) - Aq*Fq*sp.sin(vq)/(eq*sp.cos(vq) + 1) + Aq*Gq*sp.cos(vq)/(eq*sp.cos(vq) + 1) + Aq*Hq*sp.sin(vq)/(eq*sp.cos(vq) + 1) + Aq*Iq*sp.cos(vq)/(eq*sp.cos(vq) + 1)))/sp.sqrt((-Ap*Jp*sp.sin(vp)/(ep*sp.cos(vp) + 1) - Ap*Kp*sp.cos(vp)/(ep*sp.cos(vp) + 1) + Aq*Jq*sp.sin(vq)/(eq*sp.cos(vq) + 1) + Aq*Kq*sp.cos(vq)/(eq*sp.cos(vq) + 1))**2 + (Ap*Bp*sp.sin(vp)/(ep*sp.cos(vp) + 1) + Ap*Cp*sp.cos(vp)/(ep*sp.cos(vp) + 1) + Ap*Dp*sp.sin(vp)/(ep*sp.cos(vp) + 1) - Ap*Ep*sp.cos(vp)/(ep*sp.cos(vp) + 1) - Aq*Bq*sp.sin(vq)/(eq*sp.cos(vq) + 1) - Aq*Cq*sp.cos(vq)/(eq*sp.cos(vq) + 1) - Aq*Dq*sp.sin(vq)/(eq*sp.cos(vq) + 1) + Aq*Eq*sp.cos(vq)/(eq*sp.cos(vq) + 1))**2 + (Ap*Fp*sp.sin(vp)/(ep*sp.cos(vp) + 1) - Ap*Gp*sp.cos(vp)/(ep*sp.cos(vp) + 1) - Ap*Hp*sp.sin(vp)/(ep*sp.cos(vp) + 1) - Ap*Ip*sp.cos(vp)/(ep*sp.cos(vp) + 1) - Aq*Fq*sp.sin(vq)/(eq*sp.cos(vq) + 1) + Aq*Gq*sp.cos(vq)/(eq*sp.cos(vq) + 1) + Aq*Hq*sp.sin(vq)/(eq*sp.cos(vq) + 1) + Aq*Iq*sp.cos(vq)/(eq*sp.cos(vq) + 1))**2)"
   ]
  },
  {
   "cell_type": "code",
   "execution_count": 18,
   "id": "195ceedf",
   "metadata": {},
   "outputs": [],
   "source": [
    "#(-(A_p*J_p*sin(nu_p)/(e_p*cos(nu_p) + 1) + A_p*K_p*cos(nu_p)/(e_p*cos(nu_p) + 1))*(-A_p*J_p*sin(nu_p)/(e_p*cos(nu_p) + 1) - A_p*K_p*cos(nu_p)/(e_p*cos(nu_p) + 1) + A_q*J_q*sin(nu_q)/(e_q*cos(nu_q) + 1) + A_q*K_q*cos(nu_q)/(e_q*cos(nu_q) + 1)) + (-A_p*B_p*sin(nu_p)/(e_p*cos(nu_p) + 1) - A_p*C_p*cos(nu_p)/(e_p*cos(nu_p) + 1) - A_p*D_p*sin(nu_p)/(e_p*cos(nu_p) + 1) + A_p*E_p*cos(nu_p)/(e_p*cos(nu_p) + 1))*(-A_p*B_p*sin(nu_p)/(e_p*cos(nu_p) + 1) - A_p*C_p*cos(nu_p)/(e_p*cos(nu_p) + 1) - A_p*D_p*sin(nu_p)/(e_p*cos(nu_p) + 1) + A_p*E_p*cos(nu_p)/(e_p*cos(nu_p) + 1) + A_q*B_q*sin(nu_q)/(e_q*cos(nu_q) + 1) + A_q*C_q*cos(nu_q)/(e_q*cos(nu_q) + 1) + A_q*D_q*sin(nu_q)/(e_q*cos(nu_q) + 1) - A_q*E_q*cos(nu_q)/(e_q*cos(nu_q) + 1)) - (-A_p*F_p*sin(nu_p)/(e_p*cos(nu_p) + 1) + A_p*G_p*cos(nu_p)/(e_p*cos(nu_p) + 1) + A_p*H_p*sin(nu_p)/(e_p*cos(nu_p) + 1) + A_p*I_p*cos(nu_p)/(e_p*cos(nu_p) + 1))*(A_p*F_p*sin(nu_p)/(e_p*cos(nu_p) + 1) - A_p*G_p*cos(nu_p)/(e_p*cos(nu_p) + 1) - A_p*H_p*sin(nu_p)/(e_p*cos(nu_p) + 1) - A_p*I_p*cos(nu_p)/(e_p*cos(nu_p) + 1) - A_q*F_q*sin(nu_q)/(e_q*cos(nu_q) + 1) + A_q*G_q*cos(nu_q)/(e_q*cos(nu_q) + 1) + A_q*H_q*sin(nu_q)/(e_q*cos(nu_q) + 1) + A_q*I_q*cos(nu_q)/(e_q*cos(nu_q) + 1)))/sqrt((-A_p*J_p*sin(nu_p)/(e_p*cos(nu_p) + 1) - A_p*K_p*cos(nu_p)/(e_p*cos(nu_p) + 1) + A_q*J_q*sin(nu_q)/(e_q*cos(nu_q) + 1) + A_q*K_q*cos(nu_q)/(e_q*cos(nu_q) + 1))**2 + (A_p*B_p*sin(nu_p)/(e_p*cos(nu_p) + 1) + A_p*C_p*cos(nu_p)/(e_p*cos(nu_p) + 1) + A_p*D_p*sin(nu_p)/(e_p*cos(nu_p) + 1) - A_p*E_p*cos(nu_p)/(e_p*cos(nu_p) + 1) - A_q*B_q*sin(nu_q)/(e_q*cos(nu_q) + 1) - A_q*C_q*cos(nu_q)/(e_q*cos(nu_q) + 1) - A_q*D_q*sin(nu_q)/(e_q*cos(nu_q) + 1) + A_q*E_q*cos(nu_q)/(e_q*cos(nu_q) + 1))**2 + (A_p*F_p*sin(nu_p)/(e_p*cos(nu_p) + 1) - A_p*G_p*cos(nu_p)/(e_p*cos(nu_p) + 1) - A_p*H_p*sin(nu_p)/(e_p*cos(nu_p) + 1) - A_p*I_p*cos(nu_p)/(e_p*cos(nu_p) + 1) - A_q*F_q*sin(nu_q)/(e_q*cos(nu_q) + 1) + A_q*G_q*cos(nu_q)/(e_q*cos(nu_q) + 1) + A_q*H_q*sin(nu_q)/(e_q*cos(nu_q) + 1) + A_q*I_q*cos(nu_q)/(e_q*cos(nu_q) + 1))**2)"
   ]
  },
  {
   "cell_type": "code",
   "execution_count": 19,
   "id": "4ce2917a",
   "metadata": {},
   "outputs": [],
   "source": [
    "n,d = sp.fraction(heqn)"
   ]
  },
  {
   "cell_type": "code",
   "execution_count": 20,
   "id": "e18dbbc6",
   "metadata": {},
   "outputs": [],
   "source": [
    "n2 = sp.simplify(n*(ep*sp.cos(vp)+1)*(eq*sp.cos(vq)+1))**2"
   ]
  },
  {
   "cell_type": "code",
   "execution_count": 21,
   "id": "112e2eed",
   "metadata": {},
   "outputs": [
    {
     "data": {
      "text/latex": [
       "$\\displaystyle \\frac{A_{p}^{2} \\left(\\left(J_{p} \\sin{\\left(\\nu_{p} \\right)} + K_{p} \\cos{\\left(\\nu_{p} \\right)}\\right) \\left(A_{p} \\left(J_{p} \\sin{\\left(\\nu_{p} \\right)} + K_{p} \\cos{\\left(\\nu_{p} \\right)}\\right) \\left(e_{q} \\cos{\\left(\\nu_{q} \\right)} + 1\\right) - A_{q} \\left(J_{q} \\sin{\\left(\\nu_{q} \\right)} + K_{q} \\cos{\\left(\\nu_{q} \\right)}\\right) \\left(e_{p} \\cos{\\left(\\nu_{p} \\right)} + 1\\right)\\right) + \\left(A_{p} \\left(e_{q} \\cos{\\left(\\nu_{q} \\right)} + 1\\right) \\left(B_{p} \\sin{\\left(\\nu_{p} \\right)} + C_{p} \\cos{\\left(\\nu_{p} \\right)} + D_{p} \\sin{\\left(\\nu_{p} \\right)} - E_{p} \\cos{\\left(\\nu_{p} \\right)}\\right) + A_{q} \\left(e_{p} \\cos{\\left(\\nu_{p} \\right)} + 1\\right) \\left(- B_{q} \\sin{\\left(\\nu_{q} \\right)} - C_{q} \\cos{\\left(\\nu_{q} \\right)} - D_{q} \\sin{\\left(\\nu_{q} \\right)} + E_{q} \\cos{\\left(\\nu_{q} \\right)}\\right)\\right) \\left(B_{p} \\sin{\\left(\\nu_{p} \\right)} + C_{p} \\cos{\\left(\\nu_{p} \\right)} + D_{p} \\sin{\\left(\\nu_{p} \\right)} - E_{p} \\cos{\\left(\\nu_{p} \\right)}\\right) - \\left(A_{p} \\left(e_{q} \\cos{\\left(\\nu_{q} \\right)} + 1\\right) \\left(F_{p} \\sin{\\left(\\nu_{p} \\right)} - G_{p} \\cos{\\left(\\nu_{p} \\right)} - H_{p} \\sin{\\left(\\nu_{p} \\right)} - I_{p} \\cos{\\left(\\nu_{p} \\right)}\\right) + A_{q} \\left(e_{p} \\cos{\\left(\\nu_{p} \\right)} + 1\\right) \\left(- F_{q} \\sin{\\left(\\nu_{q} \\right)} + G_{q} \\cos{\\left(\\nu_{q} \\right)} + H_{q} \\sin{\\left(\\nu_{q} \\right)} + I_{q} \\cos{\\left(\\nu_{q} \\right)}\\right)\\right) \\left(- F_{p} \\sin{\\left(\\nu_{p} \\right)} + G_{p} \\cos{\\left(\\nu_{p} \\right)} + H_{p} \\sin{\\left(\\nu_{p} \\right)} + I_{p} \\cos{\\left(\\nu_{p} \\right)}\\right)\\right)^{2}}{\\left(e_{p} \\cos{\\left(\\nu_{p} \\right)} + 1\\right)^{2}}$"
      ],
      "text/plain": [
       "A_p**2*((J_p*sin(nu_p) + K_p*cos(nu_p))*(A_p*(J_p*sin(nu_p) + K_p*cos(nu_p))*(e_q*cos(nu_q) + 1) - A_q*(J_q*sin(nu_q) + K_q*cos(nu_q))*(e_p*cos(nu_p) + 1)) + (A_p*(e_q*cos(nu_q) + 1)*(B_p*sin(nu_p) + C_p*cos(nu_p) + D_p*sin(nu_p) - E_p*cos(nu_p)) + A_q*(e_p*cos(nu_p) + 1)*(-B_q*sin(nu_q) - C_q*cos(nu_q) - D_q*sin(nu_q) + E_q*cos(nu_q)))*(B_p*sin(nu_p) + C_p*cos(nu_p) + D_p*sin(nu_p) - E_p*cos(nu_p)) - (A_p*(e_q*cos(nu_q) + 1)*(F_p*sin(nu_p) - G_p*cos(nu_p) - H_p*sin(nu_p) - I_p*cos(nu_p)) + A_q*(e_p*cos(nu_p) + 1)*(-F_q*sin(nu_q) + G_q*cos(nu_q) + H_q*sin(nu_q) + I_q*cos(nu_q)))*(-F_p*sin(nu_p) + G_p*cos(nu_p) + H_p*sin(nu_p) + I_p*cos(nu_p)))**2/(e_p*cos(nu_p) + 1)**2"
      ]
     },
     "execution_count": 21,
     "metadata": {},
     "output_type": "execute_result"
    }
   ],
   "source": [
    "n2"
   ]
  },
  {
   "cell_type": "code",
   "execution_count": 22,
   "id": "8cc1f807",
   "metadata": {},
   "outputs": [],
   "source": [
    "d2 = sp.simplify(d**2*(ep*sp.cos(vp)+1)**2*(eq*sp.cos(vq)+1)**2)"
   ]
  },
  {
   "cell_type": "code",
   "execution_count": 23,
   "id": "a7c9de66",
   "metadata": {},
   "outputs": [
    {
     "data": {
      "text/latex": [
       "$\\displaystyle \\left(A_{p} \\left(J_{p} \\sin{\\left(\\nu_{p} \\right)} + K_{p} \\cos{\\left(\\nu_{p} \\right)}\\right) \\left(e_{q} \\cos{\\left(\\nu_{q} \\right)} + 1\\right) - A_{q} \\left(J_{q} \\sin{\\left(\\nu_{q} \\right)} + K_{q} \\cos{\\left(\\nu_{q} \\right)}\\right) \\left(e_{p} \\cos{\\left(\\nu_{p} \\right)} + 1\\right)\\right)^{2} + \\left(A_{p} \\left(e_{q} \\cos{\\left(\\nu_{q} \\right)} + 1\\right) \\left(B_{p} \\sin{\\left(\\nu_{p} \\right)} + C_{p} \\cos{\\left(\\nu_{p} \\right)} + D_{p} \\sin{\\left(\\nu_{p} \\right)} - E_{p} \\cos{\\left(\\nu_{p} \\right)}\\right) + A_{q} \\left(e_{p} \\cos{\\left(\\nu_{p} \\right)} + 1\\right) \\left(- B_{q} \\sin{\\left(\\nu_{q} \\right)} - C_{q} \\cos{\\left(\\nu_{q} \\right)} - D_{q} \\sin{\\left(\\nu_{q} \\right)} + E_{q} \\cos{\\left(\\nu_{q} \\right)}\\right)\\right)^{2} + \\left(A_{p} \\left(e_{q} \\cos{\\left(\\nu_{q} \\right)} + 1\\right) \\left(F_{p} \\sin{\\left(\\nu_{p} \\right)} - G_{p} \\cos{\\left(\\nu_{p} \\right)} - H_{p} \\sin{\\left(\\nu_{p} \\right)} - I_{p} \\cos{\\left(\\nu_{p} \\right)}\\right) + A_{q} \\left(e_{p} \\cos{\\left(\\nu_{p} \\right)} + 1\\right) \\left(- F_{q} \\sin{\\left(\\nu_{q} \\right)} + G_{q} \\cos{\\left(\\nu_{q} \\right)} + H_{q} \\sin{\\left(\\nu_{q} \\right)} + I_{q} \\cos{\\left(\\nu_{q} \\right)}\\right)\\right)^{2}$"
      ],
      "text/plain": [
       "(A_p*(J_p*sin(nu_p) + K_p*cos(nu_p))*(e_q*cos(nu_q) + 1) - A_q*(J_q*sin(nu_q) + K_q*cos(nu_q))*(e_p*cos(nu_p) + 1))**2 + (A_p*(e_q*cos(nu_q) + 1)*(B_p*sin(nu_p) + C_p*cos(nu_p) + D_p*sin(nu_p) - E_p*cos(nu_p)) + A_q*(e_p*cos(nu_p) + 1)*(-B_q*sin(nu_q) - C_q*cos(nu_q) - D_q*sin(nu_q) + E_q*cos(nu_q)))**2 + (A_p*(e_q*cos(nu_q) + 1)*(F_p*sin(nu_p) - G_p*cos(nu_p) - H_p*sin(nu_p) - I_p*cos(nu_p)) + A_q*(e_p*cos(nu_p) + 1)*(-F_q*sin(nu_q) + G_q*cos(nu_q) + H_q*sin(nu_q) + I_q*cos(nu_q)))**2"
      ]
     },
     "execution_count": 23,
     "metadata": {},
     "output_type": "execute_result"
    }
   ],
   "source": [
    "d2"
   ]
  },
  {
   "cell_type": "code",
   "execution_count": 24,
   "id": "25ce73fc",
   "metadata": {},
   "outputs": [],
   "source": [
    "#solving for h^2\n",
    "h2eqn = n2/d2"
   ]
  },
  {
   "cell_type": "code",
   "execution_count": 25,
   "id": "fcb0ccbc",
   "metadata": {},
   "outputs": [
    {
     "data": {
      "text/latex": [
       "$\\displaystyle \\frac{A_{p}^{2} \\left(\\left(J_{p} \\sin{\\left(\\nu_{p} \\right)} + K_{p} \\cos{\\left(\\nu_{p} \\right)}\\right) \\left(A_{p} \\left(J_{p} \\sin{\\left(\\nu_{p} \\right)} + K_{p} \\cos{\\left(\\nu_{p} \\right)}\\right) \\left(e_{q} \\cos{\\left(\\nu_{q} \\right)} + 1\\right) - A_{q} \\left(J_{q} \\sin{\\left(\\nu_{q} \\right)} + K_{q} \\cos{\\left(\\nu_{q} \\right)}\\right) \\left(e_{p} \\cos{\\left(\\nu_{p} \\right)} + 1\\right)\\right) + \\left(A_{p} \\left(e_{q} \\cos{\\left(\\nu_{q} \\right)} + 1\\right) \\left(B_{p} \\sin{\\left(\\nu_{p} \\right)} + C_{p} \\cos{\\left(\\nu_{p} \\right)} + D_{p} \\sin{\\left(\\nu_{p} \\right)} - E_{p} \\cos{\\left(\\nu_{p} \\right)}\\right) + A_{q} \\left(e_{p} \\cos{\\left(\\nu_{p} \\right)} + 1\\right) \\left(- B_{q} \\sin{\\left(\\nu_{q} \\right)} - C_{q} \\cos{\\left(\\nu_{q} \\right)} - D_{q} \\sin{\\left(\\nu_{q} \\right)} + E_{q} \\cos{\\left(\\nu_{q} \\right)}\\right)\\right) \\left(B_{p} \\sin{\\left(\\nu_{p} \\right)} + C_{p} \\cos{\\left(\\nu_{p} \\right)} + D_{p} \\sin{\\left(\\nu_{p} \\right)} - E_{p} \\cos{\\left(\\nu_{p} \\right)}\\right) - \\left(A_{p} \\left(e_{q} \\cos{\\left(\\nu_{q} \\right)} + 1\\right) \\left(F_{p} \\sin{\\left(\\nu_{p} \\right)} - G_{p} \\cos{\\left(\\nu_{p} \\right)} - H_{p} \\sin{\\left(\\nu_{p} \\right)} - I_{p} \\cos{\\left(\\nu_{p} \\right)}\\right) + A_{q} \\left(e_{p} \\cos{\\left(\\nu_{p} \\right)} + 1\\right) \\left(- F_{q} \\sin{\\left(\\nu_{q} \\right)} + G_{q} \\cos{\\left(\\nu_{q} \\right)} + H_{q} \\sin{\\left(\\nu_{q} \\right)} + I_{q} \\cos{\\left(\\nu_{q} \\right)}\\right)\\right) \\left(- F_{p} \\sin{\\left(\\nu_{p} \\right)} + G_{p} \\cos{\\left(\\nu_{p} \\right)} + H_{p} \\sin{\\left(\\nu_{p} \\right)} + I_{p} \\cos{\\left(\\nu_{p} \\right)}\\right)\\right)^{2}}{\\left(e_{p} \\cos{\\left(\\nu_{p} \\right)} + 1\\right)^{2} \\left(\\left(A_{p} \\left(J_{p} \\sin{\\left(\\nu_{p} \\right)} + K_{p} \\cos{\\left(\\nu_{p} \\right)}\\right) \\left(e_{q} \\cos{\\left(\\nu_{q} \\right)} + 1\\right) - A_{q} \\left(J_{q} \\sin{\\left(\\nu_{q} \\right)} + K_{q} \\cos{\\left(\\nu_{q} \\right)}\\right) \\left(e_{p} \\cos{\\left(\\nu_{p} \\right)} + 1\\right)\\right)^{2} + \\left(A_{p} \\left(e_{q} \\cos{\\left(\\nu_{q} \\right)} + 1\\right) \\left(B_{p} \\sin{\\left(\\nu_{p} \\right)} + C_{p} \\cos{\\left(\\nu_{p} \\right)} + D_{p} \\sin{\\left(\\nu_{p} \\right)} - E_{p} \\cos{\\left(\\nu_{p} \\right)}\\right) + A_{q} \\left(e_{p} \\cos{\\left(\\nu_{p} \\right)} + 1\\right) \\left(- B_{q} \\sin{\\left(\\nu_{q} \\right)} - C_{q} \\cos{\\left(\\nu_{q} \\right)} - D_{q} \\sin{\\left(\\nu_{q} \\right)} + E_{q} \\cos{\\left(\\nu_{q} \\right)}\\right)\\right)^{2} + \\left(A_{p} \\left(e_{q} \\cos{\\left(\\nu_{q} \\right)} + 1\\right) \\left(F_{p} \\sin{\\left(\\nu_{p} \\right)} - G_{p} \\cos{\\left(\\nu_{p} \\right)} - H_{p} \\sin{\\left(\\nu_{p} \\right)} - I_{p} \\cos{\\left(\\nu_{p} \\right)}\\right) + A_{q} \\left(e_{p} \\cos{\\left(\\nu_{p} \\right)} + 1\\right) \\left(- F_{q} \\sin{\\left(\\nu_{q} \\right)} + G_{q} \\cos{\\left(\\nu_{q} \\right)} + H_{q} \\sin{\\left(\\nu_{q} \\right)} + I_{q} \\cos{\\left(\\nu_{q} \\right)}\\right)\\right)^{2}\\right)}$"
      ],
      "text/plain": [
       "A_p**2*((J_p*sin(nu_p) + K_p*cos(nu_p))*(A_p*(J_p*sin(nu_p) + K_p*cos(nu_p))*(e_q*cos(nu_q) + 1) - A_q*(J_q*sin(nu_q) + K_q*cos(nu_q))*(e_p*cos(nu_p) + 1)) + (A_p*(e_q*cos(nu_q) + 1)*(B_p*sin(nu_p) + C_p*cos(nu_p) + D_p*sin(nu_p) - E_p*cos(nu_p)) + A_q*(e_p*cos(nu_p) + 1)*(-B_q*sin(nu_q) - C_q*cos(nu_q) - D_q*sin(nu_q) + E_q*cos(nu_q)))*(B_p*sin(nu_p) + C_p*cos(nu_p) + D_p*sin(nu_p) - E_p*cos(nu_p)) - (A_p*(e_q*cos(nu_q) + 1)*(F_p*sin(nu_p) - G_p*cos(nu_p) - H_p*sin(nu_p) - I_p*cos(nu_p)) + A_q*(e_p*cos(nu_p) + 1)*(-F_q*sin(nu_q) + G_q*cos(nu_q) + H_q*sin(nu_q) + I_q*cos(nu_q)))*(-F_p*sin(nu_p) + G_p*cos(nu_p) + H_p*sin(nu_p) + I_p*cos(nu_p)))**2/((e_p*cos(nu_p) + 1)**2*((A_p*(J_p*sin(nu_p) + K_p*cos(nu_p))*(e_q*cos(nu_q) + 1) - A_q*(J_q*sin(nu_q) + K_q*cos(nu_q))*(e_p*cos(nu_p) + 1))**2 + (A_p*(e_q*cos(nu_q) + 1)*(B_p*sin(nu_p) + C_p*cos(nu_p) + D_p*sin(nu_p) - E_p*cos(nu_p)) + A_q*(e_p*cos(nu_p) + 1)*(-B_q*sin(nu_q) - C_q*cos(nu_q) - D_q*sin(nu_q) + E_q*cos(nu_q)))**2 + (A_p*(e_q*cos(nu_q) + 1)*(F_p*sin(nu_p) - G_p*cos(nu_p) - H_p*sin(nu_p) - I_p*cos(nu_p)) + A_q*(e_p*cos(nu_p) + 1)*(-F_q*sin(nu_q) + G_q*cos(nu_q) + H_q*sin(nu_q) + I_q*cos(nu_q)))**2))"
      ]
     },
     "execution_count": 25,
     "metadata": {},
     "output_type": "execute_result"
    }
   ],
   "source": [
    "h2eqn"
   ]
  },
  {
   "cell_type": "code",
   "execution_count": null,
   "id": "22cd1a0e",
   "metadata": {},
   "outputs": [],
   "source": []
  },
  {
   "cell_type": "code",
   "execution_count": null,
   "id": "9c90bb71",
   "metadata": {},
   "outputs": [],
   "source": []
  },
  {
   "cell_type": "code",
   "execution_count": 27,
   "id": "82a01621",
   "metadata": {},
   "outputs": [],
   "source": [
    "d2_expanded = sp.expand(d2)"
   ]
  },
  {
   "cell_type": "code",
   "execution_count": 29,
   "id": "52062ac7",
   "metadata": {},
   "outputs": [
    {
     "data": {
      "text/latex": [
       "$\\displaystyle A_{p}^{2} B_{p}^{2} e_{q}^{2} \\sin^{2}{\\left(\\nu_{p} \\right)} \\cos^{2}{\\left(\\nu_{q} \\right)} + 2 A_{p}^{2} B_{p}^{2} e_{q} \\sin^{2}{\\left(\\nu_{p} \\right)} \\cos{\\left(\\nu_{q} \\right)} + A_{p}^{2} B_{p}^{2} \\sin^{2}{\\left(\\nu_{p} \\right)} + 2 A_{p}^{2} B_{p} C_{p} e_{q}^{2} \\sin{\\left(\\nu_{p} \\right)} \\cos{\\left(\\nu_{p} \\right)} \\cos^{2}{\\left(\\nu_{q} \\right)} + 4 A_{p}^{2} B_{p} C_{p} e_{q} \\sin{\\left(\\nu_{p} \\right)} \\cos{\\left(\\nu_{p} \\right)} \\cos{\\left(\\nu_{q} \\right)} + 2 A_{p}^{2} B_{p} C_{p} \\sin{\\left(\\nu_{p} \\right)} \\cos{\\left(\\nu_{p} \\right)} + 2 A_{p}^{2} B_{p} D_{p} e_{q}^{2} \\sin^{2}{\\left(\\nu_{p} \\right)} \\cos^{2}{\\left(\\nu_{q} \\right)} + 4 A_{p}^{2} B_{p} D_{p} e_{q} \\sin^{2}{\\left(\\nu_{p} \\right)} \\cos{\\left(\\nu_{q} \\right)} + 2 A_{p}^{2} B_{p} D_{p} \\sin^{2}{\\left(\\nu_{p} \\right)} - 2 A_{p}^{2} B_{p} E_{p} e_{q}^{2} \\sin{\\left(\\nu_{p} \\right)} \\cos{\\left(\\nu_{p} \\right)} \\cos^{2}{\\left(\\nu_{q} \\right)} - 4 A_{p}^{2} B_{p} E_{p} e_{q} \\sin{\\left(\\nu_{p} \\right)} \\cos{\\left(\\nu_{p} \\right)} \\cos{\\left(\\nu_{q} \\right)} - 2 A_{p}^{2} B_{p} E_{p} \\sin{\\left(\\nu_{p} \\right)} \\cos{\\left(\\nu_{p} \\right)} + A_{p}^{2} C_{p}^{2} e_{q}^{2} \\cos^{2}{\\left(\\nu_{p} \\right)} \\cos^{2}{\\left(\\nu_{q} \\right)} + 2 A_{p}^{2} C_{p}^{2} e_{q} \\cos^{2}{\\left(\\nu_{p} \\right)} \\cos{\\left(\\nu_{q} \\right)} + A_{p}^{2} C_{p}^{2} \\cos^{2}{\\left(\\nu_{p} \\right)} + 2 A_{p}^{2} C_{p} D_{p} e_{q}^{2} \\sin{\\left(\\nu_{p} \\right)} \\cos{\\left(\\nu_{p} \\right)} \\cos^{2}{\\left(\\nu_{q} \\right)} + 4 A_{p}^{2} C_{p} D_{p} e_{q} \\sin{\\left(\\nu_{p} \\right)} \\cos{\\left(\\nu_{p} \\right)} \\cos{\\left(\\nu_{q} \\right)} + 2 A_{p}^{2} C_{p} D_{p} \\sin{\\left(\\nu_{p} \\right)} \\cos{\\left(\\nu_{p} \\right)} - 2 A_{p}^{2} C_{p} E_{p} e_{q}^{2} \\cos^{2}{\\left(\\nu_{p} \\right)} \\cos^{2}{\\left(\\nu_{q} \\right)} - 4 A_{p}^{2} C_{p} E_{p} e_{q} \\cos^{2}{\\left(\\nu_{p} \\right)} \\cos{\\left(\\nu_{q} \\right)} - 2 A_{p}^{2} C_{p} E_{p} \\cos^{2}{\\left(\\nu_{p} \\right)} + A_{p}^{2} D_{p}^{2} e_{q}^{2} \\sin^{2}{\\left(\\nu_{p} \\right)} \\cos^{2}{\\left(\\nu_{q} \\right)} + 2 A_{p}^{2} D_{p}^{2} e_{q} \\sin^{2}{\\left(\\nu_{p} \\right)} \\cos{\\left(\\nu_{q} \\right)} + A_{p}^{2} D_{p}^{2} \\sin^{2}{\\left(\\nu_{p} \\right)} - 2 A_{p}^{2} D_{p} E_{p} e_{q}^{2} \\sin{\\left(\\nu_{p} \\right)} \\cos{\\left(\\nu_{p} \\right)} \\cos^{2}{\\left(\\nu_{q} \\right)} - 4 A_{p}^{2} D_{p} E_{p} e_{q} \\sin{\\left(\\nu_{p} \\right)} \\cos{\\left(\\nu_{p} \\right)} \\cos{\\left(\\nu_{q} \\right)} - 2 A_{p}^{2} D_{p} E_{p} \\sin{\\left(\\nu_{p} \\right)} \\cos{\\left(\\nu_{p} \\right)} + A_{p}^{2} E_{p}^{2} e_{q}^{2} \\cos^{2}{\\left(\\nu_{p} \\right)} \\cos^{2}{\\left(\\nu_{q} \\right)} + 2 A_{p}^{2} E_{p}^{2} e_{q} \\cos^{2}{\\left(\\nu_{p} \\right)} \\cos{\\left(\\nu_{q} \\right)} + A_{p}^{2} E_{p}^{2} \\cos^{2}{\\left(\\nu_{p} \\right)} + A_{p}^{2} F_{p}^{2} e_{q}^{2} \\sin^{2}{\\left(\\nu_{p} \\right)} \\cos^{2}{\\left(\\nu_{q} \\right)} + 2 A_{p}^{2} F_{p}^{2} e_{q} \\sin^{2}{\\left(\\nu_{p} \\right)} \\cos{\\left(\\nu_{q} \\right)} + A_{p}^{2} F_{p}^{2} \\sin^{2}{\\left(\\nu_{p} \\right)} - 2 A_{p}^{2} F_{p} G_{p} e_{q}^{2} \\sin{\\left(\\nu_{p} \\right)} \\cos{\\left(\\nu_{p} \\right)} \\cos^{2}{\\left(\\nu_{q} \\right)} - 4 A_{p}^{2} F_{p} G_{p} e_{q} \\sin{\\left(\\nu_{p} \\right)} \\cos{\\left(\\nu_{p} \\right)} \\cos{\\left(\\nu_{q} \\right)} - 2 A_{p}^{2} F_{p} G_{p} \\sin{\\left(\\nu_{p} \\right)} \\cos{\\left(\\nu_{p} \\right)} - 2 A_{p}^{2} F_{p} H_{p} e_{q}^{2} \\sin^{2}{\\left(\\nu_{p} \\right)} \\cos^{2}{\\left(\\nu_{q} \\right)} - 4 A_{p}^{2} F_{p} H_{p} e_{q} \\sin^{2}{\\left(\\nu_{p} \\right)} \\cos{\\left(\\nu_{q} \\right)} - 2 A_{p}^{2} F_{p} H_{p} \\sin^{2}{\\left(\\nu_{p} \\right)} - 2 A_{p}^{2} F_{p} I_{p} e_{q}^{2} \\sin{\\left(\\nu_{p} \\right)} \\cos{\\left(\\nu_{p} \\right)} \\cos^{2}{\\left(\\nu_{q} \\right)} - 4 A_{p}^{2} F_{p} I_{p} e_{q} \\sin{\\left(\\nu_{p} \\right)} \\cos{\\left(\\nu_{p} \\right)} \\cos{\\left(\\nu_{q} \\right)} - 2 A_{p}^{2} F_{p} I_{p} \\sin{\\left(\\nu_{p} \\right)} \\cos{\\left(\\nu_{p} \\right)} + A_{p}^{2} G_{p}^{2} e_{q}^{2} \\cos^{2}{\\left(\\nu_{p} \\right)} \\cos^{2}{\\left(\\nu_{q} \\right)} + 2 A_{p}^{2} G_{p}^{2} e_{q} \\cos^{2}{\\left(\\nu_{p} \\right)} \\cos{\\left(\\nu_{q} \\right)} + A_{p}^{2} G_{p}^{2} \\cos^{2}{\\left(\\nu_{p} \\right)} + 2 A_{p}^{2} G_{p} H_{p} e_{q}^{2} \\sin{\\left(\\nu_{p} \\right)} \\cos{\\left(\\nu_{p} \\right)} \\cos^{2}{\\left(\\nu_{q} \\right)} + 4 A_{p}^{2} G_{p} H_{p} e_{q} \\sin{\\left(\\nu_{p} \\right)} \\cos{\\left(\\nu_{p} \\right)} \\cos{\\left(\\nu_{q} \\right)} + 2 A_{p}^{2} G_{p} H_{p} \\sin{\\left(\\nu_{p} \\right)} \\cos{\\left(\\nu_{p} \\right)} + 2 A_{p}^{2} G_{p} I_{p} e_{q}^{2} \\cos^{2}{\\left(\\nu_{p} \\right)} \\cos^{2}{\\left(\\nu_{q} \\right)} + 4 A_{p}^{2} G_{p} I_{p} e_{q} \\cos^{2}{\\left(\\nu_{p} \\right)} \\cos{\\left(\\nu_{q} \\right)} + 2 A_{p}^{2} G_{p} I_{p} \\cos^{2}{\\left(\\nu_{p} \\right)} + A_{p}^{2} H_{p}^{2} e_{q}^{2} \\sin^{2}{\\left(\\nu_{p} \\right)} \\cos^{2}{\\left(\\nu_{q} \\right)} + 2 A_{p}^{2} H_{p}^{2} e_{q} \\sin^{2}{\\left(\\nu_{p} \\right)} \\cos{\\left(\\nu_{q} \\right)} + A_{p}^{2} H_{p}^{2} \\sin^{2}{\\left(\\nu_{p} \\right)} + 2 A_{p}^{2} H_{p} I_{p} e_{q}^{2} \\sin{\\left(\\nu_{p} \\right)} \\cos{\\left(\\nu_{p} \\right)} \\cos^{2}{\\left(\\nu_{q} \\right)} + 4 A_{p}^{2} H_{p} I_{p} e_{q} \\sin{\\left(\\nu_{p} \\right)} \\cos{\\left(\\nu_{p} \\right)} \\cos{\\left(\\nu_{q} \\right)} + 2 A_{p}^{2} H_{p} I_{p} \\sin{\\left(\\nu_{p} \\right)} \\cos{\\left(\\nu_{p} \\right)} + A_{p}^{2} I_{p}^{2} e_{q}^{2} \\cos^{2}{\\left(\\nu_{p} \\right)} \\cos^{2}{\\left(\\nu_{q} \\right)} + 2 A_{p}^{2} I_{p}^{2} e_{q} \\cos^{2}{\\left(\\nu_{p} \\right)} \\cos{\\left(\\nu_{q} \\right)} + A_{p}^{2} I_{p}^{2} \\cos^{2}{\\left(\\nu_{p} \\right)} + A_{p}^{2} J_{p}^{2} e_{q}^{2} \\sin^{2}{\\left(\\nu_{p} \\right)} \\cos^{2}{\\left(\\nu_{q} \\right)} + 2 A_{p}^{2} J_{p}^{2} e_{q} \\sin^{2}{\\left(\\nu_{p} \\right)} \\cos{\\left(\\nu_{q} \\right)} + A_{p}^{2} J_{p}^{2} \\sin^{2}{\\left(\\nu_{p} \\right)} + 2 A_{p}^{2} J_{p} K_{p} e_{q}^{2} \\sin{\\left(\\nu_{p} \\right)} \\cos{\\left(\\nu_{p} \\right)} \\cos^{2}{\\left(\\nu_{q} \\right)} + 4 A_{p}^{2} J_{p} K_{p} e_{q} \\sin{\\left(\\nu_{p} \\right)} \\cos{\\left(\\nu_{p} \\right)} \\cos{\\left(\\nu_{q} \\right)} + 2 A_{p}^{2} J_{p} K_{p} \\sin{\\left(\\nu_{p} \\right)} \\cos{\\left(\\nu_{p} \\right)} + A_{p}^{2} K_{p}^{2} e_{q}^{2} \\cos^{2}{\\left(\\nu_{p} \\right)} \\cos^{2}{\\left(\\nu_{q} \\right)} + 2 A_{p}^{2} K_{p}^{2} e_{q} \\cos^{2}{\\left(\\nu_{p} \\right)} \\cos{\\left(\\nu_{q} \\right)} + A_{p}^{2} K_{p}^{2} \\cos^{2}{\\left(\\nu_{p} \\right)} - 2 A_{p} A_{q} B_{p} B_{q} e_{p} e_{q} \\sin{\\left(\\nu_{p} \\right)} \\sin{\\left(\\nu_{q} \\right)} \\cos{\\left(\\nu_{p} \\right)} \\cos{\\left(\\nu_{q} \\right)} - 2 A_{p} A_{q} B_{p} B_{q} e_{p} \\sin{\\left(\\nu_{p} \\right)} \\sin{\\left(\\nu_{q} \\right)} \\cos{\\left(\\nu_{p} \\right)} - 2 A_{p} A_{q} B_{p} B_{q} e_{q} \\sin{\\left(\\nu_{p} \\right)} \\sin{\\left(\\nu_{q} \\right)} \\cos{\\left(\\nu_{q} \\right)} - 2 A_{p} A_{q} B_{p} B_{q} \\sin{\\left(\\nu_{p} \\right)} \\sin{\\left(\\nu_{q} \\right)} - 2 A_{p} A_{q} B_{p} C_{q} e_{p} e_{q} \\sin{\\left(\\nu_{p} \\right)} \\cos{\\left(\\nu_{p} \\right)} \\cos^{2}{\\left(\\nu_{q} \\right)} - 2 A_{p} A_{q} B_{p} C_{q} e_{p} \\sin{\\left(\\nu_{p} \\right)} \\cos{\\left(\\nu_{p} \\right)} \\cos{\\left(\\nu_{q} \\right)} - 2 A_{p} A_{q} B_{p} C_{q} e_{q} \\sin{\\left(\\nu_{p} \\right)} \\cos^{2}{\\left(\\nu_{q} \\right)} - 2 A_{p} A_{q} B_{p} C_{q} \\sin{\\left(\\nu_{p} \\right)} \\cos{\\left(\\nu_{q} \\right)} - 2 A_{p} A_{q} B_{p} D_{q} e_{p} e_{q} \\sin{\\left(\\nu_{p} \\right)} \\sin{\\left(\\nu_{q} \\right)} \\cos{\\left(\\nu_{p} \\right)} \\cos{\\left(\\nu_{q} \\right)} - 2 A_{p} A_{q} B_{p} D_{q} e_{p} \\sin{\\left(\\nu_{p} \\right)} \\sin{\\left(\\nu_{q} \\right)} \\cos{\\left(\\nu_{p} \\right)} - 2 A_{p} A_{q} B_{p} D_{q} e_{q} \\sin{\\left(\\nu_{p} \\right)} \\sin{\\left(\\nu_{q} \\right)} \\cos{\\left(\\nu_{q} \\right)} - 2 A_{p} A_{q} B_{p} D_{q} \\sin{\\left(\\nu_{p} \\right)} \\sin{\\left(\\nu_{q} \\right)} + 2 A_{p} A_{q} B_{p} E_{q} e_{p} e_{q} \\sin{\\left(\\nu_{p} \\right)} \\cos{\\left(\\nu_{p} \\right)} \\cos^{2}{\\left(\\nu_{q} \\right)} + 2 A_{p} A_{q} B_{p} E_{q} e_{p} \\sin{\\left(\\nu_{p} \\right)} \\cos{\\left(\\nu_{p} \\right)} \\cos{\\left(\\nu_{q} \\right)} + 2 A_{p} A_{q} B_{p} E_{q} e_{q} \\sin{\\left(\\nu_{p} \\right)} \\cos^{2}{\\left(\\nu_{q} \\right)} + 2 A_{p} A_{q} B_{p} E_{q} \\sin{\\left(\\nu_{p} \\right)} \\cos{\\left(\\nu_{q} \\right)} - 2 A_{p} A_{q} B_{q} C_{p} e_{p} e_{q} \\sin{\\left(\\nu_{q} \\right)} \\cos^{2}{\\left(\\nu_{p} \\right)} \\cos{\\left(\\nu_{q} \\right)} - 2 A_{p} A_{q} B_{q} C_{p} e_{p} \\sin{\\left(\\nu_{q} \\right)} \\cos^{2}{\\left(\\nu_{p} \\right)} - 2 A_{p} A_{q} B_{q} C_{p} e_{q} \\sin{\\left(\\nu_{q} \\right)} \\cos{\\left(\\nu_{p} \\right)} \\cos{\\left(\\nu_{q} \\right)} - 2 A_{p} A_{q} B_{q} C_{p} \\sin{\\left(\\nu_{q} \\right)} \\cos{\\left(\\nu_{p} \\right)} - 2 A_{p} A_{q} B_{q} D_{p} e_{p} e_{q} \\sin{\\left(\\nu_{p} \\right)} \\sin{\\left(\\nu_{q} \\right)} \\cos{\\left(\\nu_{p} \\right)} \\cos{\\left(\\nu_{q} \\right)} - 2 A_{p} A_{q} B_{q} D_{p} e_{p} \\sin{\\left(\\nu_{p} \\right)} \\sin{\\left(\\nu_{q} \\right)} \\cos{\\left(\\nu_{p} \\right)} - 2 A_{p} A_{q} B_{q} D_{p} e_{q} \\sin{\\left(\\nu_{p} \\right)} \\sin{\\left(\\nu_{q} \\right)} \\cos{\\left(\\nu_{q} \\right)} - 2 A_{p} A_{q} B_{q} D_{p} \\sin{\\left(\\nu_{p} \\right)} \\sin{\\left(\\nu_{q} \\right)} + 2 A_{p} A_{q} B_{q} E_{p} e_{p} e_{q} \\sin{\\left(\\nu_{q} \\right)} \\cos^{2}{\\left(\\nu_{p} \\right)} \\cos{\\left(\\nu_{q} \\right)} + 2 A_{p} A_{q} B_{q} E_{p} e_{p} \\sin{\\left(\\nu_{q} \\right)} \\cos^{2}{\\left(\\nu_{p} \\right)} + 2 A_{p} A_{q} B_{q} E_{p} e_{q} \\sin{\\left(\\nu_{q} \\right)} \\cos{\\left(\\nu_{p} \\right)} \\cos{\\left(\\nu_{q} \\right)} + 2 A_{p} A_{q} B_{q} E_{p} \\sin{\\left(\\nu_{q} \\right)} \\cos{\\left(\\nu_{p} \\right)} - 2 A_{p} A_{q} C_{p} C_{q} e_{p} e_{q} \\cos^{2}{\\left(\\nu_{p} \\right)} \\cos^{2}{\\left(\\nu_{q} \\right)} - 2 A_{p} A_{q} C_{p} C_{q} e_{p} \\cos^{2}{\\left(\\nu_{p} \\right)} \\cos{\\left(\\nu_{q} \\right)} - 2 A_{p} A_{q} C_{p} C_{q} e_{q} \\cos{\\left(\\nu_{p} \\right)} \\cos^{2}{\\left(\\nu_{q} \\right)} - 2 A_{p} A_{q} C_{p} C_{q} \\cos{\\left(\\nu_{p} \\right)} \\cos{\\left(\\nu_{q} \\right)} - 2 A_{p} A_{q} C_{p} D_{q} e_{p} e_{q} \\sin{\\left(\\nu_{q} \\right)} \\cos^{2}{\\left(\\nu_{p} \\right)} \\cos{\\left(\\nu_{q} \\right)} - 2 A_{p} A_{q} C_{p} D_{q} e_{p} \\sin{\\left(\\nu_{q} \\right)} \\cos^{2}{\\left(\\nu_{p} \\right)} - 2 A_{p} A_{q} C_{p} D_{q} e_{q} \\sin{\\left(\\nu_{q} \\right)} \\cos{\\left(\\nu_{p} \\right)} \\cos{\\left(\\nu_{q} \\right)} - 2 A_{p} A_{q} C_{p} D_{q} \\sin{\\left(\\nu_{q} \\right)} \\cos{\\left(\\nu_{p} \\right)} + 2 A_{p} A_{q} C_{p} E_{q} e_{p} e_{q} \\cos^{2}{\\left(\\nu_{p} \\right)} \\cos^{2}{\\left(\\nu_{q} \\right)} + 2 A_{p} A_{q} C_{p} E_{q} e_{p} \\cos^{2}{\\left(\\nu_{p} \\right)} \\cos{\\left(\\nu_{q} \\right)} + 2 A_{p} A_{q} C_{p} E_{q} e_{q} \\cos{\\left(\\nu_{p} \\right)} \\cos^{2}{\\left(\\nu_{q} \\right)} + 2 A_{p} A_{q} C_{p} E_{q} \\cos{\\left(\\nu_{p} \\right)} \\cos{\\left(\\nu_{q} \\right)} - 2 A_{p} A_{q} C_{q} D_{p} e_{p} e_{q} \\sin{\\left(\\nu_{p} \\right)} \\cos{\\left(\\nu_{p} \\right)} \\cos^{2}{\\left(\\nu_{q} \\right)} - 2 A_{p} A_{q} C_{q} D_{p} e_{p} \\sin{\\left(\\nu_{p} \\right)} \\cos{\\left(\\nu_{p} \\right)} \\cos{\\left(\\nu_{q} \\right)} - 2 A_{p} A_{q} C_{q} D_{p} e_{q} \\sin{\\left(\\nu_{p} \\right)} \\cos^{2}{\\left(\\nu_{q} \\right)} - 2 A_{p} A_{q} C_{q} D_{p} \\sin{\\left(\\nu_{p} \\right)} \\cos{\\left(\\nu_{q} \\right)} + 2 A_{p} A_{q} C_{q} E_{p} e_{p} e_{q} \\cos^{2}{\\left(\\nu_{p} \\right)} \\cos^{2}{\\left(\\nu_{q} \\right)} + 2 A_{p} A_{q} C_{q} E_{p} e_{p} \\cos^{2}{\\left(\\nu_{p} \\right)} \\cos{\\left(\\nu_{q} \\right)} + 2 A_{p} A_{q} C_{q} E_{p} e_{q} \\cos{\\left(\\nu_{p} \\right)} \\cos^{2}{\\left(\\nu_{q} \\right)} + 2 A_{p} A_{q} C_{q} E_{p} \\cos{\\left(\\nu_{p} \\right)} \\cos{\\left(\\nu_{q} \\right)} - 2 A_{p} A_{q} D_{p} D_{q} e_{p} e_{q} \\sin{\\left(\\nu_{p} \\right)} \\sin{\\left(\\nu_{q} \\right)} \\cos{\\left(\\nu_{p} \\right)} \\cos{\\left(\\nu_{q} \\right)} - 2 A_{p} A_{q} D_{p} D_{q} e_{p} \\sin{\\left(\\nu_{p} \\right)} \\sin{\\left(\\nu_{q} \\right)} \\cos{\\left(\\nu_{p} \\right)} - 2 A_{p} A_{q} D_{p} D_{q} e_{q} \\sin{\\left(\\nu_{p} \\right)} \\sin{\\left(\\nu_{q} \\right)} \\cos{\\left(\\nu_{q} \\right)} - 2 A_{p} A_{q} D_{p} D_{q} \\sin{\\left(\\nu_{p} \\right)} \\sin{\\left(\\nu_{q} \\right)} + 2 A_{p} A_{q} D_{p} E_{q} e_{p} e_{q} \\sin{\\left(\\nu_{p} \\right)} \\cos{\\left(\\nu_{p} \\right)} \\cos^{2}{\\left(\\nu_{q} \\right)} + 2 A_{p} A_{q} D_{p} E_{q} e_{p} \\sin{\\left(\\nu_{p} \\right)} \\cos{\\left(\\nu_{p} \\right)} \\cos{\\left(\\nu_{q} \\right)} + 2 A_{p} A_{q} D_{p} E_{q} e_{q} \\sin{\\left(\\nu_{p} \\right)} \\cos^{2}{\\left(\\nu_{q} \\right)} + 2 A_{p} A_{q} D_{p} E_{q} \\sin{\\left(\\nu_{p} \\right)} \\cos{\\left(\\nu_{q} \\right)} + 2 A_{p} A_{q} D_{q} E_{p} e_{p} e_{q} \\sin{\\left(\\nu_{q} \\right)} \\cos^{2}{\\left(\\nu_{p} \\right)} \\cos{\\left(\\nu_{q} \\right)} + 2 A_{p} A_{q} D_{q} E_{p} e_{p} \\sin{\\left(\\nu_{q} \\right)} \\cos^{2}{\\left(\\nu_{p} \\right)} + 2 A_{p} A_{q} D_{q} E_{p} e_{q} \\sin{\\left(\\nu_{q} \\right)} \\cos{\\left(\\nu_{p} \\right)} \\cos{\\left(\\nu_{q} \\right)} + 2 A_{p} A_{q} D_{q} E_{p} \\sin{\\left(\\nu_{q} \\right)} \\cos{\\left(\\nu_{p} \\right)} - 2 A_{p} A_{q} E_{p} E_{q} e_{p} e_{q} \\cos^{2}{\\left(\\nu_{p} \\right)} \\cos^{2}{\\left(\\nu_{q} \\right)} - 2 A_{p} A_{q} E_{p} E_{q} e_{p} \\cos^{2}{\\left(\\nu_{p} \\right)} \\cos{\\left(\\nu_{q} \\right)} - 2 A_{p} A_{q} E_{p} E_{q} e_{q} \\cos{\\left(\\nu_{p} \\right)} \\cos^{2}{\\left(\\nu_{q} \\right)} - 2 A_{p} A_{q} E_{p} E_{q} \\cos{\\left(\\nu_{p} \\right)} \\cos{\\left(\\nu_{q} \\right)} - 2 A_{p} A_{q} F_{p} F_{q} e_{p} e_{q} \\sin{\\left(\\nu_{p} \\right)} \\sin{\\left(\\nu_{q} \\right)} \\cos{\\left(\\nu_{p} \\right)} \\cos{\\left(\\nu_{q} \\right)} - 2 A_{p} A_{q} F_{p} F_{q} e_{p} \\sin{\\left(\\nu_{p} \\right)} \\sin{\\left(\\nu_{q} \\right)} \\cos{\\left(\\nu_{p} \\right)} - 2 A_{p} A_{q} F_{p} F_{q} e_{q} \\sin{\\left(\\nu_{p} \\right)} \\sin{\\left(\\nu_{q} \\right)} \\cos{\\left(\\nu_{q} \\right)} - 2 A_{p} A_{q} F_{p} F_{q} \\sin{\\left(\\nu_{p} \\right)} \\sin{\\left(\\nu_{q} \\right)} + 2 A_{p} A_{q} F_{p} G_{q} e_{p} e_{q} \\sin{\\left(\\nu_{p} \\right)} \\cos{\\left(\\nu_{p} \\right)} \\cos^{2}{\\left(\\nu_{q} \\right)} + 2 A_{p} A_{q} F_{p} G_{q} e_{p} \\sin{\\left(\\nu_{p} \\right)} \\cos{\\left(\\nu_{p} \\right)} \\cos{\\left(\\nu_{q} \\right)} + 2 A_{p} A_{q} F_{p} G_{q} e_{q} \\sin{\\left(\\nu_{p} \\right)} \\cos^{2}{\\left(\\nu_{q} \\right)} + 2 A_{p} A_{q} F_{p} G_{q} \\sin{\\left(\\nu_{p} \\right)} \\cos{\\left(\\nu_{q} \\right)} + 2 A_{p} A_{q} F_{p} H_{q} e_{p} e_{q} \\sin{\\left(\\nu_{p} \\right)} \\sin{\\left(\\nu_{q} \\right)} \\cos{\\left(\\nu_{p} \\right)} \\cos{\\left(\\nu_{q} \\right)} + 2 A_{p} A_{q} F_{p} H_{q} e_{p} \\sin{\\left(\\nu_{p} \\right)} \\sin{\\left(\\nu_{q} \\right)} \\cos{\\left(\\nu_{p} \\right)} + 2 A_{p} A_{q} F_{p} H_{q} e_{q} \\sin{\\left(\\nu_{p} \\right)} \\sin{\\left(\\nu_{q} \\right)} \\cos{\\left(\\nu_{q} \\right)} + 2 A_{p} A_{q} F_{p} H_{q} \\sin{\\left(\\nu_{p} \\right)} \\sin{\\left(\\nu_{q} \\right)} + 2 A_{p} A_{q} F_{p} I_{q} e_{p} e_{q} \\sin{\\left(\\nu_{p} \\right)} \\cos{\\left(\\nu_{p} \\right)} \\cos^{2}{\\left(\\nu_{q} \\right)} + 2 A_{p} A_{q} F_{p} I_{q} e_{p} \\sin{\\left(\\nu_{p} \\right)} \\cos{\\left(\\nu_{p} \\right)} \\cos{\\left(\\nu_{q} \\right)} + 2 A_{p} A_{q} F_{p} I_{q} e_{q} \\sin{\\left(\\nu_{p} \\right)} \\cos^{2}{\\left(\\nu_{q} \\right)} + 2 A_{p} A_{q} F_{p} I_{q} \\sin{\\left(\\nu_{p} \\right)} \\cos{\\left(\\nu_{q} \\right)} + 2 A_{p} A_{q} F_{q} G_{p} e_{p} e_{q} \\sin{\\left(\\nu_{q} \\right)} \\cos^{2}{\\left(\\nu_{p} \\right)} \\cos{\\left(\\nu_{q} \\right)} + 2 A_{p} A_{q} F_{q} G_{p} e_{p} \\sin{\\left(\\nu_{q} \\right)} \\cos^{2}{\\left(\\nu_{p} \\right)} + 2 A_{p} A_{q} F_{q} G_{p} e_{q} \\sin{\\left(\\nu_{q} \\right)} \\cos{\\left(\\nu_{p} \\right)} \\cos{\\left(\\nu_{q} \\right)} + 2 A_{p} A_{q} F_{q} G_{p} \\sin{\\left(\\nu_{q} \\right)} \\cos{\\left(\\nu_{p} \\right)} + 2 A_{p} A_{q} F_{q} H_{p} e_{p} e_{q} \\sin{\\left(\\nu_{p} \\right)} \\sin{\\left(\\nu_{q} \\right)} \\cos{\\left(\\nu_{p} \\right)} \\cos{\\left(\\nu_{q} \\right)} + 2 A_{p} A_{q} F_{q} H_{p} e_{p} \\sin{\\left(\\nu_{p} \\right)} \\sin{\\left(\\nu_{q} \\right)} \\cos{\\left(\\nu_{p} \\right)} + 2 A_{p} A_{q} F_{q} H_{p} e_{q} \\sin{\\left(\\nu_{p} \\right)} \\sin{\\left(\\nu_{q} \\right)} \\cos{\\left(\\nu_{q} \\right)} + 2 A_{p} A_{q} F_{q} H_{p} \\sin{\\left(\\nu_{p} \\right)} \\sin{\\left(\\nu_{q} \\right)} + 2 A_{p} A_{q} F_{q} I_{p} e_{p} e_{q} \\sin{\\left(\\nu_{q} \\right)} \\cos^{2}{\\left(\\nu_{p} \\right)} \\cos{\\left(\\nu_{q} \\right)} + 2 A_{p} A_{q} F_{q} I_{p} e_{p} \\sin{\\left(\\nu_{q} \\right)} \\cos^{2}{\\left(\\nu_{p} \\right)} + 2 A_{p} A_{q} F_{q} I_{p} e_{q} \\sin{\\left(\\nu_{q} \\right)} \\cos{\\left(\\nu_{p} \\right)} \\cos{\\left(\\nu_{q} \\right)} + 2 A_{p} A_{q} F_{q} I_{p} \\sin{\\left(\\nu_{q} \\right)} \\cos{\\left(\\nu_{p} \\right)} - 2 A_{p} A_{q} G_{p} G_{q} e_{p} e_{q} \\cos^{2}{\\left(\\nu_{p} \\right)} \\cos^{2}{\\left(\\nu_{q} \\right)} - 2 A_{p} A_{q} G_{p} G_{q} e_{p} \\cos^{2}{\\left(\\nu_{p} \\right)} \\cos{\\left(\\nu_{q} \\right)} - 2 A_{p} A_{q} G_{p} G_{q} e_{q} \\cos{\\left(\\nu_{p} \\right)} \\cos^{2}{\\left(\\nu_{q} \\right)} - 2 A_{p} A_{q} G_{p} G_{q} \\cos{\\left(\\nu_{p} \\right)} \\cos{\\left(\\nu_{q} \\right)} - 2 A_{p} A_{q} G_{p} H_{q} e_{p} e_{q} \\sin{\\left(\\nu_{q} \\right)} \\cos^{2}{\\left(\\nu_{p} \\right)} \\cos{\\left(\\nu_{q} \\right)} - 2 A_{p} A_{q} G_{p} H_{q} e_{p} \\sin{\\left(\\nu_{q} \\right)} \\cos^{2}{\\left(\\nu_{p} \\right)} - 2 A_{p} A_{q} G_{p} H_{q} e_{q} \\sin{\\left(\\nu_{q} \\right)} \\cos{\\left(\\nu_{p} \\right)} \\cos{\\left(\\nu_{q} \\right)} - 2 A_{p} A_{q} G_{p} H_{q} \\sin{\\left(\\nu_{q} \\right)} \\cos{\\left(\\nu_{p} \\right)} - 2 A_{p} A_{q} G_{p} I_{q} e_{p} e_{q} \\cos^{2}{\\left(\\nu_{p} \\right)} \\cos^{2}{\\left(\\nu_{q} \\right)} - 2 A_{p} A_{q} G_{p} I_{q} e_{p} \\cos^{2}{\\left(\\nu_{p} \\right)} \\cos{\\left(\\nu_{q} \\right)} - 2 A_{p} A_{q} G_{p} I_{q} e_{q} \\cos{\\left(\\nu_{p} \\right)} \\cos^{2}{\\left(\\nu_{q} \\right)} - 2 A_{p} A_{q} G_{p} I_{q} \\cos{\\left(\\nu_{p} \\right)} \\cos{\\left(\\nu_{q} \\right)} - 2 A_{p} A_{q} G_{q} H_{p} e_{p} e_{q} \\sin{\\left(\\nu_{p} \\right)} \\cos{\\left(\\nu_{p} \\right)} \\cos^{2}{\\left(\\nu_{q} \\right)} - 2 A_{p} A_{q} G_{q} H_{p} e_{p} \\sin{\\left(\\nu_{p} \\right)} \\cos{\\left(\\nu_{p} \\right)} \\cos{\\left(\\nu_{q} \\right)} - 2 A_{p} A_{q} G_{q} H_{p} e_{q} \\sin{\\left(\\nu_{p} \\right)} \\cos^{2}{\\left(\\nu_{q} \\right)} - 2 A_{p} A_{q} G_{q} H_{p} \\sin{\\left(\\nu_{p} \\right)} \\cos{\\left(\\nu_{q} \\right)} - 2 A_{p} A_{q} G_{q} I_{p} e_{p} e_{q} \\cos^{2}{\\left(\\nu_{p} \\right)} \\cos^{2}{\\left(\\nu_{q} \\right)} - 2 A_{p} A_{q} G_{q} I_{p} e_{p} \\cos^{2}{\\left(\\nu_{p} \\right)} \\cos{\\left(\\nu_{q} \\right)} - 2 A_{p} A_{q} G_{q} I_{p} e_{q} \\cos{\\left(\\nu_{p} \\right)} \\cos^{2}{\\left(\\nu_{q} \\right)} - 2 A_{p} A_{q} G_{q} I_{p} \\cos{\\left(\\nu_{p} \\right)} \\cos{\\left(\\nu_{q} \\right)} - 2 A_{p} A_{q} H_{p} H_{q} e_{p} e_{q} \\sin{\\left(\\nu_{p} \\right)} \\sin{\\left(\\nu_{q} \\right)} \\cos{\\left(\\nu_{p} \\right)} \\cos{\\left(\\nu_{q} \\right)} - 2 A_{p} A_{q} H_{p} H_{q} e_{p} \\sin{\\left(\\nu_{p} \\right)} \\sin{\\left(\\nu_{q} \\right)} \\cos{\\left(\\nu_{p} \\right)} - 2 A_{p} A_{q} H_{p} H_{q} e_{q} \\sin{\\left(\\nu_{p} \\right)} \\sin{\\left(\\nu_{q} \\right)} \\cos{\\left(\\nu_{q} \\right)} - 2 A_{p} A_{q} H_{p} H_{q} \\sin{\\left(\\nu_{p} \\right)} \\sin{\\left(\\nu_{q} \\right)} - 2 A_{p} A_{q} H_{p} I_{q} e_{p} e_{q} \\sin{\\left(\\nu_{p} \\right)} \\cos{\\left(\\nu_{p} \\right)} \\cos^{2}{\\left(\\nu_{q} \\right)} - 2 A_{p} A_{q} H_{p} I_{q} e_{p} \\sin{\\left(\\nu_{p} \\right)} \\cos{\\left(\\nu_{p} \\right)} \\cos{\\left(\\nu_{q} \\right)} - 2 A_{p} A_{q} H_{p} I_{q} e_{q} \\sin{\\left(\\nu_{p} \\right)} \\cos^{2}{\\left(\\nu_{q} \\right)} - 2 A_{p} A_{q} H_{p} I_{q} \\sin{\\left(\\nu_{p} \\right)} \\cos{\\left(\\nu_{q} \\right)} - 2 A_{p} A_{q} H_{q} I_{p} e_{p} e_{q} \\sin{\\left(\\nu_{q} \\right)} \\cos^{2}{\\left(\\nu_{p} \\right)} \\cos{\\left(\\nu_{q} \\right)} - 2 A_{p} A_{q} H_{q} I_{p} e_{p} \\sin{\\left(\\nu_{q} \\right)} \\cos^{2}{\\left(\\nu_{p} \\right)} - 2 A_{p} A_{q} H_{q} I_{p} e_{q} \\sin{\\left(\\nu_{q} \\right)} \\cos{\\left(\\nu_{p} \\right)} \\cos{\\left(\\nu_{q} \\right)} - 2 A_{p} A_{q} H_{q} I_{p} \\sin{\\left(\\nu_{q} \\right)} \\cos{\\left(\\nu_{p} \\right)} - 2 A_{p} A_{q} I_{p} I_{q} e_{p} e_{q} \\cos^{2}{\\left(\\nu_{p} \\right)} \\cos^{2}{\\left(\\nu_{q} \\right)} - 2 A_{p} A_{q} I_{p} I_{q} e_{p} \\cos^{2}{\\left(\\nu_{p} \\right)} \\cos{\\left(\\nu_{q} \\right)} - 2 A_{p} A_{q} I_{p} I_{q} e_{q} \\cos{\\left(\\nu_{p} \\right)} \\cos^{2}{\\left(\\nu_{q} \\right)} - 2 A_{p} A_{q} I_{p} I_{q} \\cos{\\left(\\nu_{p} \\right)} \\cos{\\left(\\nu_{q} \\right)} - 2 A_{p} A_{q} J_{p} J_{q} e_{p} e_{q} \\sin{\\left(\\nu_{p} \\right)} \\sin{\\left(\\nu_{q} \\right)} \\cos{\\left(\\nu_{p} \\right)} \\cos{\\left(\\nu_{q} \\right)} - 2 A_{p} A_{q} J_{p} J_{q} e_{p} \\sin{\\left(\\nu_{p} \\right)} \\sin{\\left(\\nu_{q} \\right)} \\cos{\\left(\\nu_{p} \\right)} - 2 A_{p} A_{q} J_{p} J_{q} e_{q} \\sin{\\left(\\nu_{p} \\right)} \\sin{\\left(\\nu_{q} \\right)} \\cos{\\left(\\nu_{q} \\right)} - 2 A_{p} A_{q} J_{p} J_{q} \\sin{\\left(\\nu_{p} \\right)} \\sin{\\left(\\nu_{q} \\right)} - 2 A_{p} A_{q} J_{p} K_{q} e_{p} e_{q} \\sin{\\left(\\nu_{p} \\right)} \\cos{\\left(\\nu_{p} \\right)} \\cos^{2}{\\left(\\nu_{q} \\right)} - 2 A_{p} A_{q} J_{p} K_{q} e_{p} \\sin{\\left(\\nu_{p} \\right)} \\cos{\\left(\\nu_{p} \\right)} \\cos{\\left(\\nu_{q} \\right)} - 2 A_{p} A_{q} J_{p} K_{q} e_{q} \\sin{\\left(\\nu_{p} \\right)} \\cos^{2}{\\left(\\nu_{q} \\right)} - 2 A_{p} A_{q} J_{p} K_{q} \\sin{\\left(\\nu_{p} \\right)} \\cos{\\left(\\nu_{q} \\right)} - 2 A_{p} A_{q} J_{q} K_{p} e_{p} e_{q} \\sin{\\left(\\nu_{q} \\right)} \\cos^{2}{\\left(\\nu_{p} \\right)} \\cos{\\left(\\nu_{q} \\right)} - 2 A_{p} A_{q} J_{q} K_{p} e_{p} \\sin{\\left(\\nu_{q} \\right)} \\cos^{2}{\\left(\\nu_{p} \\right)} - 2 A_{p} A_{q} J_{q} K_{p} e_{q} \\sin{\\left(\\nu_{q} \\right)} \\cos{\\left(\\nu_{p} \\right)} \\cos{\\left(\\nu_{q} \\right)} - 2 A_{p} A_{q} J_{q} K_{p} \\sin{\\left(\\nu_{q} \\right)} \\cos{\\left(\\nu_{p} \\right)} - 2 A_{p} A_{q} K_{p} K_{q} e_{p} e_{q} \\cos^{2}{\\left(\\nu_{p} \\right)} \\cos^{2}{\\left(\\nu_{q} \\right)} - 2 A_{p} A_{q} K_{p} K_{q} e_{p} \\cos^{2}{\\left(\\nu_{p} \\right)} \\cos{\\left(\\nu_{q} \\right)} - 2 A_{p} A_{q} K_{p} K_{q} e_{q} \\cos{\\left(\\nu_{p} \\right)} \\cos^{2}{\\left(\\nu_{q} \\right)} - 2 A_{p} A_{q} K_{p} K_{q} \\cos{\\left(\\nu_{p} \\right)} \\cos{\\left(\\nu_{q} \\right)} + A_{q}^{2} B_{q}^{2} e_{p}^{2} \\sin^{2}{\\left(\\nu_{q} \\right)} \\cos^{2}{\\left(\\nu_{p} \\right)} + 2 A_{q}^{2} B_{q}^{2} e_{p} \\sin^{2}{\\left(\\nu_{q} \\right)} \\cos{\\left(\\nu_{p} \\right)} + A_{q}^{2} B_{q}^{2} \\sin^{2}{\\left(\\nu_{q} \\right)} + 2 A_{q}^{2} B_{q} C_{q} e_{p}^{2} \\sin{\\left(\\nu_{q} \\right)} \\cos^{2}{\\left(\\nu_{p} \\right)} \\cos{\\left(\\nu_{q} \\right)} + 4 A_{q}^{2} B_{q} C_{q} e_{p} \\sin{\\left(\\nu_{q} \\right)} \\cos{\\left(\\nu_{p} \\right)} \\cos{\\left(\\nu_{q} \\right)} + 2 A_{q}^{2} B_{q} C_{q} \\sin{\\left(\\nu_{q} \\right)} \\cos{\\left(\\nu_{q} \\right)} + 2 A_{q}^{2} B_{q} D_{q} e_{p}^{2} \\sin^{2}{\\left(\\nu_{q} \\right)} \\cos^{2}{\\left(\\nu_{p} \\right)} + 4 A_{q}^{2} B_{q} D_{q} e_{p} \\sin^{2}{\\left(\\nu_{q} \\right)} \\cos{\\left(\\nu_{p} \\right)} + 2 A_{q}^{2} B_{q} D_{q} \\sin^{2}{\\left(\\nu_{q} \\right)} - 2 A_{q}^{2} B_{q} E_{q} e_{p}^{2} \\sin{\\left(\\nu_{q} \\right)} \\cos^{2}{\\left(\\nu_{p} \\right)} \\cos{\\left(\\nu_{q} \\right)} - 4 A_{q}^{2} B_{q} E_{q} e_{p} \\sin{\\left(\\nu_{q} \\right)} \\cos{\\left(\\nu_{p} \\right)} \\cos{\\left(\\nu_{q} \\right)} - 2 A_{q}^{2} B_{q} E_{q} \\sin{\\left(\\nu_{q} \\right)} \\cos{\\left(\\nu_{q} \\right)} + A_{q}^{2} C_{q}^{2} e_{p}^{2} \\cos^{2}{\\left(\\nu_{p} \\right)} \\cos^{2}{\\left(\\nu_{q} \\right)} + 2 A_{q}^{2} C_{q}^{2} e_{p} \\cos{\\left(\\nu_{p} \\right)} \\cos^{2}{\\left(\\nu_{q} \\right)} + A_{q}^{2} C_{q}^{2} \\cos^{2}{\\left(\\nu_{q} \\right)} + 2 A_{q}^{2} C_{q} D_{q} e_{p}^{2} \\sin{\\left(\\nu_{q} \\right)} \\cos^{2}{\\left(\\nu_{p} \\right)} \\cos{\\left(\\nu_{q} \\right)} + 4 A_{q}^{2} C_{q} D_{q} e_{p} \\sin{\\left(\\nu_{q} \\right)} \\cos{\\left(\\nu_{p} \\right)} \\cos{\\left(\\nu_{q} \\right)} + 2 A_{q}^{2} C_{q} D_{q} \\sin{\\left(\\nu_{q} \\right)} \\cos{\\left(\\nu_{q} \\right)} - 2 A_{q}^{2} C_{q} E_{q} e_{p}^{2} \\cos^{2}{\\left(\\nu_{p} \\right)} \\cos^{2}{\\left(\\nu_{q} \\right)} - 4 A_{q}^{2} C_{q} E_{q} e_{p} \\cos{\\left(\\nu_{p} \\right)} \\cos^{2}{\\left(\\nu_{q} \\right)} - 2 A_{q}^{2} C_{q} E_{q} \\cos^{2}{\\left(\\nu_{q} \\right)} + A_{q}^{2} D_{q}^{2} e_{p}^{2} \\sin^{2}{\\left(\\nu_{q} \\right)} \\cos^{2}{\\left(\\nu_{p} \\right)} + 2 A_{q}^{2} D_{q}^{2} e_{p} \\sin^{2}{\\left(\\nu_{q} \\right)} \\cos{\\left(\\nu_{p} \\right)} + A_{q}^{2} D_{q}^{2} \\sin^{2}{\\left(\\nu_{q} \\right)} - 2 A_{q}^{2} D_{q} E_{q} e_{p}^{2} \\sin{\\left(\\nu_{q} \\right)} \\cos^{2}{\\left(\\nu_{p} \\right)} \\cos{\\left(\\nu_{q} \\right)} - 4 A_{q}^{2} D_{q} E_{q} e_{p} \\sin{\\left(\\nu_{q} \\right)} \\cos{\\left(\\nu_{p} \\right)} \\cos{\\left(\\nu_{q} \\right)} - 2 A_{q}^{2} D_{q} E_{q} \\sin{\\left(\\nu_{q} \\right)} \\cos{\\left(\\nu_{q} \\right)} + A_{q}^{2} E_{q}^{2} e_{p}^{2} \\cos^{2}{\\left(\\nu_{p} \\right)} \\cos^{2}{\\left(\\nu_{q} \\right)} + 2 A_{q}^{2} E_{q}^{2} e_{p} \\cos{\\left(\\nu_{p} \\right)} \\cos^{2}{\\left(\\nu_{q} \\right)} + A_{q}^{2} E_{q}^{2} \\cos^{2}{\\left(\\nu_{q} \\right)} + A_{q}^{2} F_{q}^{2} e_{p}^{2} \\sin^{2}{\\left(\\nu_{q} \\right)} \\cos^{2}{\\left(\\nu_{p} \\right)} + 2 A_{q}^{2} F_{q}^{2} e_{p} \\sin^{2}{\\left(\\nu_{q} \\right)} \\cos{\\left(\\nu_{p} \\right)} + A_{q}^{2} F_{q}^{2} \\sin^{2}{\\left(\\nu_{q} \\right)} - 2 A_{q}^{2} F_{q} G_{q} e_{p}^{2} \\sin{\\left(\\nu_{q} \\right)} \\cos^{2}{\\left(\\nu_{p} \\right)} \\cos{\\left(\\nu_{q} \\right)} - 4 A_{q}^{2} F_{q} G_{q} e_{p} \\sin{\\left(\\nu_{q} \\right)} \\cos{\\left(\\nu_{p} \\right)} \\cos{\\left(\\nu_{q} \\right)} - 2 A_{q}^{2} F_{q} G_{q} \\sin{\\left(\\nu_{q} \\right)} \\cos{\\left(\\nu_{q} \\right)} - 2 A_{q}^{2} F_{q} H_{q} e_{p}^{2} \\sin^{2}{\\left(\\nu_{q} \\right)} \\cos^{2}{\\left(\\nu_{p} \\right)} - 4 A_{q}^{2} F_{q} H_{q} e_{p} \\sin^{2}{\\left(\\nu_{q} \\right)} \\cos{\\left(\\nu_{p} \\right)} - 2 A_{q}^{2} F_{q} H_{q} \\sin^{2}{\\left(\\nu_{q} \\right)} - 2 A_{q}^{2} F_{q} I_{q} e_{p}^{2} \\sin{\\left(\\nu_{q} \\right)} \\cos^{2}{\\left(\\nu_{p} \\right)} \\cos{\\left(\\nu_{q} \\right)} - 4 A_{q}^{2} F_{q} I_{q} e_{p} \\sin{\\left(\\nu_{q} \\right)} \\cos{\\left(\\nu_{p} \\right)} \\cos{\\left(\\nu_{q} \\right)} - 2 A_{q}^{2} F_{q} I_{q} \\sin{\\left(\\nu_{q} \\right)} \\cos{\\left(\\nu_{q} \\right)} + A_{q}^{2} G_{q}^{2} e_{p}^{2} \\cos^{2}{\\left(\\nu_{p} \\right)} \\cos^{2}{\\left(\\nu_{q} \\right)} + 2 A_{q}^{2} G_{q}^{2} e_{p} \\cos{\\left(\\nu_{p} \\right)} \\cos^{2}{\\left(\\nu_{q} \\right)} + A_{q}^{2} G_{q}^{2} \\cos^{2}{\\left(\\nu_{q} \\right)} + 2 A_{q}^{2} G_{q} H_{q} e_{p}^{2} \\sin{\\left(\\nu_{q} \\right)} \\cos^{2}{\\left(\\nu_{p} \\right)} \\cos{\\left(\\nu_{q} \\right)} + 4 A_{q}^{2} G_{q} H_{q} e_{p} \\sin{\\left(\\nu_{q} \\right)} \\cos{\\left(\\nu_{p} \\right)} \\cos{\\left(\\nu_{q} \\right)} + 2 A_{q}^{2} G_{q} H_{q} \\sin{\\left(\\nu_{q} \\right)} \\cos{\\left(\\nu_{q} \\right)} + 2 A_{q}^{2} G_{q} I_{q} e_{p}^{2} \\cos^{2}{\\left(\\nu_{p} \\right)} \\cos^{2}{\\left(\\nu_{q} \\right)} + 4 A_{q}^{2} G_{q} I_{q} e_{p} \\cos{\\left(\\nu_{p} \\right)} \\cos^{2}{\\left(\\nu_{q} \\right)} + 2 A_{q}^{2} G_{q} I_{q} \\cos^{2}{\\left(\\nu_{q} \\right)} + A_{q}^{2} H_{q}^{2} e_{p}^{2} \\sin^{2}{\\left(\\nu_{q} \\right)} \\cos^{2}{\\left(\\nu_{p} \\right)} + 2 A_{q}^{2} H_{q}^{2} e_{p} \\sin^{2}{\\left(\\nu_{q} \\right)} \\cos{\\left(\\nu_{p} \\right)} + A_{q}^{2} H_{q}^{2} \\sin^{2}{\\left(\\nu_{q} \\right)} + 2 A_{q}^{2} H_{q} I_{q} e_{p}^{2} \\sin{\\left(\\nu_{q} \\right)} \\cos^{2}{\\left(\\nu_{p} \\right)} \\cos{\\left(\\nu_{q} \\right)} + 4 A_{q}^{2} H_{q} I_{q} e_{p} \\sin{\\left(\\nu_{q} \\right)} \\cos{\\left(\\nu_{p} \\right)} \\cos{\\left(\\nu_{q} \\right)} + 2 A_{q}^{2} H_{q} I_{q} \\sin{\\left(\\nu_{q} \\right)} \\cos{\\left(\\nu_{q} \\right)} + A_{q}^{2} I_{q}^{2} e_{p}^{2} \\cos^{2}{\\left(\\nu_{p} \\right)} \\cos^{2}{\\left(\\nu_{q} \\right)} + 2 A_{q}^{2} I_{q}^{2} e_{p} \\cos{\\left(\\nu_{p} \\right)} \\cos^{2}{\\left(\\nu_{q} \\right)} + A_{q}^{2} I_{q}^{2} \\cos^{2}{\\left(\\nu_{q} \\right)} + A_{q}^{2} J_{q}^{2} e_{p}^{2} \\sin^{2}{\\left(\\nu_{q} \\right)} \\cos^{2}{\\left(\\nu_{p} \\right)} + 2 A_{q}^{2} J_{q}^{2} e_{p} \\sin^{2}{\\left(\\nu_{q} \\right)} \\cos{\\left(\\nu_{p} \\right)} + A_{q}^{2} J_{q}^{2} \\sin^{2}{\\left(\\nu_{q} \\right)} + 2 A_{q}^{2} J_{q} K_{q} e_{p}^{2} \\sin{\\left(\\nu_{q} \\right)} \\cos^{2}{\\left(\\nu_{p} \\right)} \\cos{\\left(\\nu_{q} \\right)} + 4 A_{q}^{2} J_{q} K_{q} e_{p} \\sin{\\left(\\nu_{q} \\right)} \\cos{\\left(\\nu_{p} \\right)} \\cos{\\left(\\nu_{q} \\right)} + 2 A_{q}^{2} J_{q} K_{q} \\sin{\\left(\\nu_{q} \\right)} \\cos{\\left(\\nu_{q} \\right)} + A_{q}^{2} K_{q}^{2} e_{p}^{2} \\cos^{2}{\\left(\\nu_{p} \\right)} \\cos^{2}{\\left(\\nu_{q} \\right)} + 2 A_{q}^{2} K_{q}^{2} e_{p} \\cos{\\left(\\nu_{p} \\right)} \\cos^{2}{\\left(\\nu_{q} \\right)} + A_{q}^{2} K_{q}^{2} \\cos^{2}{\\left(\\nu_{q} \\right)}$"
      ],
      "text/plain": [
       "A_p**2*B_p**2*e_q**2*sin(nu_p)**2*cos(nu_q)**2 + 2*A_p**2*B_p**2*e_q*sin(nu_p)**2*cos(nu_q) + A_p**2*B_p**2*sin(nu_p)**2 + 2*A_p**2*B_p*C_p*e_q**2*sin(nu_p)*cos(nu_p)*cos(nu_q)**2 + 4*A_p**2*B_p*C_p*e_q*sin(nu_p)*cos(nu_p)*cos(nu_q) + 2*A_p**2*B_p*C_p*sin(nu_p)*cos(nu_p) + 2*A_p**2*B_p*D_p*e_q**2*sin(nu_p)**2*cos(nu_q)**2 + 4*A_p**2*B_p*D_p*e_q*sin(nu_p)**2*cos(nu_q) + 2*A_p**2*B_p*D_p*sin(nu_p)**2 - 2*A_p**2*B_p*E_p*e_q**2*sin(nu_p)*cos(nu_p)*cos(nu_q)**2 - 4*A_p**2*B_p*E_p*e_q*sin(nu_p)*cos(nu_p)*cos(nu_q) - 2*A_p**2*B_p*E_p*sin(nu_p)*cos(nu_p) + A_p**2*C_p**2*e_q**2*cos(nu_p)**2*cos(nu_q)**2 + 2*A_p**2*C_p**2*e_q*cos(nu_p)**2*cos(nu_q) + A_p**2*C_p**2*cos(nu_p)**2 + 2*A_p**2*C_p*D_p*e_q**2*sin(nu_p)*cos(nu_p)*cos(nu_q)**2 + 4*A_p**2*C_p*D_p*e_q*sin(nu_p)*cos(nu_p)*cos(nu_q) + 2*A_p**2*C_p*D_p*sin(nu_p)*cos(nu_p) - 2*A_p**2*C_p*E_p*e_q**2*cos(nu_p)**2*cos(nu_q)**2 - 4*A_p**2*C_p*E_p*e_q*cos(nu_p)**2*cos(nu_q) - 2*A_p**2*C_p*E_p*cos(nu_p)**2 + A_p**2*D_p**2*e_q**2*sin(nu_p)**2*cos(nu_q)**2 + 2*A_p**2*D_p**2*e_q*sin(nu_p)**2*cos(nu_q) + A_p**2*D_p**2*sin(nu_p)**2 - 2*A_p**2*D_p*E_p*e_q**2*sin(nu_p)*cos(nu_p)*cos(nu_q)**2 - 4*A_p**2*D_p*E_p*e_q*sin(nu_p)*cos(nu_p)*cos(nu_q) - 2*A_p**2*D_p*E_p*sin(nu_p)*cos(nu_p) + A_p**2*E_p**2*e_q**2*cos(nu_p)**2*cos(nu_q)**2 + 2*A_p**2*E_p**2*e_q*cos(nu_p)**2*cos(nu_q) + A_p**2*E_p**2*cos(nu_p)**2 + A_p**2*F_p**2*e_q**2*sin(nu_p)**2*cos(nu_q)**2 + 2*A_p**2*F_p**2*e_q*sin(nu_p)**2*cos(nu_q) + A_p**2*F_p**2*sin(nu_p)**2 - 2*A_p**2*F_p*G_p*e_q**2*sin(nu_p)*cos(nu_p)*cos(nu_q)**2 - 4*A_p**2*F_p*G_p*e_q*sin(nu_p)*cos(nu_p)*cos(nu_q) - 2*A_p**2*F_p*G_p*sin(nu_p)*cos(nu_p) - 2*A_p**2*F_p*H_p*e_q**2*sin(nu_p)**2*cos(nu_q)**2 - 4*A_p**2*F_p*H_p*e_q*sin(nu_p)**2*cos(nu_q) - 2*A_p**2*F_p*H_p*sin(nu_p)**2 - 2*A_p**2*F_p*I_p*e_q**2*sin(nu_p)*cos(nu_p)*cos(nu_q)**2 - 4*A_p**2*F_p*I_p*e_q*sin(nu_p)*cos(nu_p)*cos(nu_q) - 2*A_p**2*F_p*I_p*sin(nu_p)*cos(nu_p) + A_p**2*G_p**2*e_q**2*cos(nu_p)**2*cos(nu_q)**2 + 2*A_p**2*G_p**2*e_q*cos(nu_p)**2*cos(nu_q) + A_p**2*G_p**2*cos(nu_p)**2 + 2*A_p**2*G_p*H_p*e_q**2*sin(nu_p)*cos(nu_p)*cos(nu_q)**2 + 4*A_p**2*G_p*H_p*e_q*sin(nu_p)*cos(nu_p)*cos(nu_q) + 2*A_p**2*G_p*H_p*sin(nu_p)*cos(nu_p) + 2*A_p**2*G_p*I_p*e_q**2*cos(nu_p)**2*cos(nu_q)**2 + 4*A_p**2*G_p*I_p*e_q*cos(nu_p)**2*cos(nu_q) + 2*A_p**2*G_p*I_p*cos(nu_p)**2 + A_p**2*H_p**2*e_q**2*sin(nu_p)**2*cos(nu_q)**2 + 2*A_p**2*H_p**2*e_q*sin(nu_p)**2*cos(nu_q) + A_p**2*H_p**2*sin(nu_p)**2 + 2*A_p**2*H_p*I_p*e_q**2*sin(nu_p)*cos(nu_p)*cos(nu_q)**2 + 4*A_p**2*H_p*I_p*e_q*sin(nu_p)*cos(nu_p)*cos(nu_q) + 2*A_p**2*H_p*I_p*sin(nu_p)*cos(nu_p) + A_p**2*I_p**2*e_q**2*cos(nu_p)**2*cos(nu_q)**2 + 2*A_p**2*I_p**2*e_q*cos(nu_p)**2*cos(nu_q) + A_p**2*I_p**2*cos(nu_p)**2 + A_p**2*J_p**2*e_q**2*sin(nu_p)**2*cos(nu_q)**2 + 2*A_p**2*J_p**2*e_q*sin(nu_p)**2*cos(nu_q) + A_p**2*J_p**2*sin(nu_p)**2 + 2*A_p**2*J_p*K_p*e_q**2*sin(nu_p)*cos(nu_p)*cos(nu_q)**2 + 4*A_p**2*J_p*K_p*e_q*sin(nu_p)*cos(nu_p)*cos(nu_q) + 2*A_p**2*J_p*K_p*sin(nu_p)*cos(nu_p) + A_p**2*K_p**2*e_q**2*cos(nu_p)**2*cos(nu_q)**2 + 2*A_p**2*K_p**2*e_q*cos(nu_p)**2*cos(nu_q) + A_p**2*K_p**2*cos(nu_p)**2 - 2*A_p*A_q*B_p*B_q*e_p*e_q*sin(nu_p)*sin(nu_q)*cos(nu_p)*cos(nu_q) - 2*A_p*A_q*B_p*B_q*e_p*sin(nu_p)*sin(nu_q)*cos(nu_p) - 2*A_p*A_q*B_p*B_q*e_q*sin(nu_p)*sin(nu_q)*cos(nu_q) - 2*A_p*A_q*B_p*B_q*sin(nu_p)*sin(nu_q) - 2*A_p*A_q*B_p*C_q*e_p*e_q*sin(nu_p)*cos(nu_p)*cos(nu_q)**2 - 2*A_p*A_q*B_p*C_q*e_p*sin(nu_p)*cos(nu_p)*cos(nu_q) - 2*A_p*A_q*B_p*C_q*e_q*sin(nu_p)*cos(nu_q)**2 - 2*A_p*A_q*B_p*C_q*sin(nu_p)*cos(nu_q) - 2*A_p*A_q*B_p*D_q*e_p*e_q*sin(nu_p)*sin(nu_q)*cos(nu_p)*cos(nu_q) - 2*A_p*A_q*B_p*D_q*e_p*sin(nu_p)*sin(nu_q)*cos(nu_p) - 2*A_p*A_q*B_p*D_q*e_q*sin(nu_p)*sin(nu_q)*cos(nu_q) - 2*A_p*A_q*B_p*D_q*sin(nu_p)*sin(nu_q) + 2*A_p*A_q*B_p*E_q*e_p*e_q*sin(nu_p)*cos(nu_p)*cos(nu_q)**2 + 2*A_p*A_q*B_p*E_q*e_p*sin(nu_p)*cos(nu_p)*cos(nu_q) + 2*A_p*A_q*B_p*E_q*e_q*sin(nu_p)*cos(nu_q)**2 + 2*A_p*A_q*B_p*E_q*sin(nu_p)*cos(nu_q) - 2*A_p*A_q*B_q*C_p*e_p*e_q*sin(nu_q)*cos(nu_p)**2*cos(nu_q) - 2*A_p*A_q*B_q*C_p*e_p*sin(nu_q)*cos(nu_p)**2 - 2*A_p*A_q*B_q*C_p*e_q*sin(nu_q)*cos(nu_p)*cos(nu_q) - 2*A_p*A_q*B_q*C_p*sin(nu_q)*cos(nu_p) - 2*A_p*A_q*B_q*D_p*e_p*e_q*sin(nu_p)*sin(nu_q)*cos(nu_p)*cos(nu_q) - 2*A_p*A_q*B_q*D_p*e_p*sin(nu_p)*sin(nu_q)*cos(nu_p) - 2*A_p*A_q*B_q*D_p*e_q*sin(nu_p)*sin(nu_q)*cos(nu_q) - 2*A_p*A_q*B_q*D_p*sin(nu_p)*sin(nu_q) + 2*A_p*A_q*B_q*E_p*e_p*e_q*sin(nu_q)*cos(nu_p)**2*cos(nu_q) + 2*A_p*A_q*B_q*E_p*e_p*sin(nu_q)*cos(nu_p)**2 + 2*A_p*A_q*B_q*E_p*e_q*sin(nu_q)*cos(nu_p)*cos(nu_q) + 2*A_p*A_q*B_q*E_p*sin(nu_q)*cos(nu_p) - 2*A_p*A_q*C_p*C_q*e_p*e_q*cos(nu_p)**2*cos(nu_q)**2 - 2*A_p*A_q*C_p*C_q*e_p*cos(nu_p)**2*cos(nu_q) - 2*A_p*A_q*C_p*C_q*e_q*cos(nu_p)*cos(nu_q)**2 - 2*A_p*A_q*C_p*C_q*cos(nu_p)*cos(nu_q) - 2*A_p*A_q*C_p*D_q*e_p*e_q*sin(nu_q)*cos(nu_p)**2*cos(nu_q) - 2*A_p*A_q*C_p*D_q*e_p*sin(nu_q)*cos(nu_p)**2 - 2*A_p*A_q*C_p*D_q*e_q*sin(nu_q)*cos(nu_p)*cos(nu_q) - 2*A_p*A_q*C_p*D_q*sin(nu_q)*cos(nu_p) + 2*A_p*A_q*C_p*E_q*e_p*e_q*cos(nu_p)**2*cos(nu_q)**2 + 2*A_p*A_q*C_p*E_q*e_p*cos(nu_p)**2*cos(nu_q) + 2*A_p*A_q*C_p*E_q*e_q*cos(nu_p)*cos(nu_q)**2 + 2*A_p*A_q*C_p*E_q*cos(nu_p)*cos(nu_q) - 2*A_p*A_q*C_q*D_p*e_p*e_q*sin(nu_p)*cos(nu_p)*cos(nu_q)**2 - 2*A_p*A_q*C_q*D_p*e_p*sin(nu_p)*cos(nu_p)*cos(nu_q) - 2*A_p*A_q*C_q*D_p*e_q*sin(nu_p)*cos(nu_q)**2 - 2*A_p*A_q*C_q*D_p*sin(nu_p)*cos(nu_q) + 2*A_p*A_q*C_q*E_p*e_p*e_q*cos(nu_p)**2*cos(nu_q)**2 + 2*A_p*A_q*C_q*E_p*e_p*cos(nu_p)**2*cos(nu_q) + 2*A_p*A_q*C_q*E_p*e_q*cos(nu_p)*cos(nu_q)**2 + 2*A_p*A_q*C_q*E_p*cos(nu_p)*cos(nu_q) - 2*A_p*A_q*D_p*D_q*e_p*e_q*sin(nu_p)*sin(nu_q)*cos(nu_p)*cos(nu_q) - 2*A_p*A_q*D_p*D_q*e_p*sin(nu_p)*sin(nu_q)*cos(nu_p) - 2*A_p*A_q*D_p*D_q*e_q*sin(nu_p)*sin(nu_q)*cos(nu_q) - 2*A_p*A_q*D_p*D_q*sin(nu_p)*sin(nu_q) + 2*A_p*A_q*D_p*E_q*e_p*e_q*sin(nu_p)*cos(nu_p)*cos(nu_q)**2 + 2*A_p*A_q*D_p*E_q*e_p*sin(nu_p)*cos(nu_p)*cos(nu_q) + 2*A_p*A_q*D_p*E_q*e_q*sin(nu_p)*cos(nu_q)**2 + 2*A_p*A_q*D_p*E_q*sin(nu_p)*cos(nu_q) + 2*A_p*A_q*D_q*E_p*e_p*e_q*sin(nu_q)*cos(nu_p)**2*cos(nu_q) + 2*A_p*A_q*D_q*E_p*e_p*sin(nu_q)*cos(nu_p)**2 + 2*A_p*A_q*D_q*E_p*e_q*sin(nu_q)*cos(nu_p)*cos(nu_q) + 2*A_p*A_q*D_q*E_p*sin(nu_q)*cos(nu_p) - 2*A_p*A_q*E_p*E_q*e_p*e_q*cos(nu_p)**2*cos(nu_q)**2 - 2*A_p*A_q*E_p*E_q*e_p*cos(nu_p)**2*cos(nu_q) - 2*A_p*A_q*E_p*E_q*e_q*cos(nu_p)*cos(nu_q)**2 - 2*A_p*A_q*E_p*E_q*cos(nu_p)*cos(nu_q) - 2*A_p*A_q*F_p*F_q*e_p*e_q*sin(nu_p)*sin(nu_q)*cos(nu_p)*cos(nu_q) - 2*A_p*A_q*F_p*F_q*e_p*sin(nu_p)*sin(nu_q)*cos(nu_p) - 2*A_p*A_q*F_p*F_q*e_q*sin(nu_p)*sin(nu_q)*cos(nu_q) - 2*A_p*A_q*F_p*F_q*sin(nu_p)*sin(nu_q) + 2*A_p*A_q*F_p*G_q*e_p*e_q*sin(nu_p)*cos(nu_p)*cos(nu_q)**2 + 2*A_p*A_q*F_p*G_q*e_p*sin(nu_p)*cos(nu_p)*cos(nu_q) + 2*A_p*A_q*F_p*G_q*e_q*sin(nu_p)*cos(nu_q)**2 + 2*A_p*A_q*F_p*G_q*sin(nu_p)*cos(nu_q) + 2*A_p*A_q*F_p*H_q*e_p*e_q*sin(nu_p)*sin(nu_q)*cos(nu_p)*cos(nu_q) + 2*A_p*A_q*F_p*H_q*e_p*sin(nu_p)*sin(nu_q)*cos(nu_p) + 2*A_p*A_q*F_p*H_q*e_q*sin(nu_p)*sin(nu_q)*cos(nu_q) + 2*A_p*A_q*F_p*H_q*sin(nu_p)*sin(nu_q) + 2*A_p*A_q*F_p*I_q*e_p*e_q*sin(nu_p)*cos(nu_p)*cos(nu_q)**2 + 2*A_p*A_q*F_p*I_q*e_p*sin(nu_p)*cos(nu_p)*cos(nu_q) + 2*A_p*A_q*F_p*I_q*e_q*sin(nu_p)*cos(nu_q)**2 + 2*A_p*A_q*F_p*I_q*sin(nu_p)*cos(nu_q) + 2*A_p*A_q*F_q*G_p*e_p*e_q*sin(nu_q)*cos(nu_p)**2*cos(nu_q) + 2*A_p*A_q*F_q*G_p*e_p*sin(nu_q)*cos(nu_p)**2 + 2*A_p*A_q*F_q*G_p*e_q*sin(nu_q)*cos(nu_p)*cos(nu_q) + 2*A_p*A_q*F_q*G_p*sin(nu_q)*cos(nu_p) + 2*A_p*A_q*F_q*H_p*e_p*e_q*sin(nu_p)*sin(nu_q)*cos(nu_p)*cos(nu_q) + 2*A_p*A_q*F_q*H_p*e_p*sin(nu_p)*sin(nu_q)*cos(nu_p) + 2*A_p*A_q*F_q*H_p*e_q*sin(nu_p)*sin(nu_q)*cos(nu_q) + 2*A_p*A_q*F_q*H_p*sin(nu_p)*sin(nu_q) + 2*A_p*A_q*F_q*I_p*e_p*e_q*sin(nu_q)*cos(nu_p)**2*cos(nu_q) + 2*A_p*A_q*F_q*I_p*e_p*sin(nu_q)*cos(nu_p)**2 + 2*A_p*A_q*F_q*I_p*e_q*sin(nu_q)*cos(nu_p)*cos(nu_q) + 2*A_p*A_q*F_q*I_p*sin(nu_q)*cos(nu_p) - 2*A_p*A_q*G_p*G_q*e_p*e_q*cos(nu_p)**2*cos(nu_q)**2 - 2*A_p*A_q*G_p*G_q*e_p*cos(nu_p)**2*cos(nu_q) - 2*A_p*A_q*G_p*G_q*e_q*cos(nu_p)*cos(nu_q)**2 - 2*A_p*A_q*G_p*G_q*cos(nu_p)*cos(nu_q) - 2*A_p*A_q*G_p*H_q*e_p*e_q*sin(nu_q)*cos(nu_p)**2*cos(nu_q) - 2*A_p*A_q*G_p*H_q*e_p*sin(nu_q)*cos(nu_p)**2 - 2*A_p*A_q*G_p*H_q*e_q*sin(nu_q)*cos(nu_p)*cos(nu_q) - 2*A_p*A_q*G_p*H_q*sin(nu_q)*cos(nu_p) - 2*A_p*A_q*G_p*I_q*e_p*e_q*cos(nu_p)**2*cos(nu_q)**2 - 2*A_p*A_q*G_p*I_q*e_p*cos(nu_p)**2*cos(nu_q) - 2*A_p*A_q*G_p*I_q*e_q*cos(nu_p)*cos(nu_q)**2 - 2*A_p*A_q*G_p*I_q*cos(nu_p)*cos(nu_q) - 2*A_p*A_q*G_q*H_p*e_p*e_q*sin(nu_p)*cos(nu_p)*cos(nu_q)**2 - 2*A_p*A_q*G_q*H_p*e_p*sin(nu_p)*cos(nu_p)*cos(nu_q) - 2*A_p*A_q*G_q*H_p*e_q*sin(nu_p)*cos(nu_q)**2 - 2*A_p*A_q*G_q*H_p*sin(nu_p)*cos(nu_q) - 2*A_p*A_q*G_q*I_p*e_p*e_q*cos(nu_p)**2*cos(nu_q)**2 - 2*A_p*A_q*G_q*I_p*e_p*cos(nu_p)**2*cos(nu_q) - 2*A_p*A_q*G_q*I_p*e_q*cos(nu_p)*cos(nu_q)**2 - 2*A_p*A_q*G_q*I_p*cos(nu_p)*cos(nu_q) - 2*A_p*A_q*H_p*H_q*e_p*e_q*sin(nu_p)*sin(nu_q)*cos(nu_p)*cos(nu_q) - 2*A_p*A_q*H_p*H_q*e_p*sin(nu_p)*sin(nu_q)*cos(nu_p) - 2*A_p*A_q*H_p*H_q*e_q*sin(nu_p)*sin(nu_q)*cos(nu_q) - 2*A_p*A_q*H_p*H_q*sin(nu_p)*sin(nu_q) - 2*A_p*A_q*H_p*I_q*e_p*e_q*sin(nu_p)*cos(nu_p)*cos(nu_q)**2 - 2*A_p*A_q*H_p*I_q*e_p*sin(nu_p)*cos(nu_p)*cos(nu_q) - 2*A_p*A_q*H_p*I_q*e_q*sin(nu_p)*cos(nu_q)**2 - 2*A_p*A_q*H_p*I_q*sin(nu_p)*cos(nu_q) - 2*A_p*A_q*H_q*I_p*e_p*e_q*sin(nu_q)*cos(nu_p)**2*cos(nu_q) - 2*A_p*A_q*H_q*I_p*e_p*sin(nu_q)*cos(nu_p)**2 - 2*A_p*A_q*H_q*I_p*e_q*sin(nu_q)*cos(nu_p)*cos(nu_q) - 2*A_p*A_q*H_q*I_p*sin(nu_q)*cos(nu_p) - 2*A_p*A_q*I_p*I_q*e_p*e_q*cos(nu_p)**2*cos(nu_q)**2 - 2*A_p*A_q*I_p*I_q*e_p*cos(nu_p)**2*cos(nu_q) - 2*A_p*A_q*I_p*I_q*e_q*cos(nu_p)*cos(nu_q)**2 - 2*A_p*A_q*I_p*I_q*cos(nu_p)*cos(nu_q) - 2*A_p*A_q*J_p*J_q*e_p*e_q*sin(nu_p)*sin(nu_q)*cos(nu_p)*cos(nu_q) - 2*A_p*A_q*J_p*J_q*e_p*sin(nu_p)*sin(nu_q)*cos(nu_p) - 2*A_p*A_q*J_p*J_q*e_q*sin(nu_p)*sin(nu_q)*cos(nu_q) - 2*A_p*A_q*J_p*J_q*sin(nu_p)*sin(nu_q) - 2*A_p*A_q*J_p*K_q*e_p*e_q*sin(nu_p)*cos(nu_p)*cos(nu_q)**2 - 2*A_p*A_q*J_p*K_q*e_p*sin(nu_p)*cos(nu_p)*cos(nu_q) - 2*A_p*A_q*J_p*K_q*e_q*sin(nu_p)*cos(nu_q)**2 - 2*A_p*A_q*J_p*K_q*sin(nu_p)*cos(nu_q) - 2*A_p*A_q*J_q*K_p*e_p*e_q*sin(nu_q)*cos(nu_p)**2*cos(nu_q) - 2*A_p*A_q*J_q*K_p*e_p*sin(nu_q)*cos(nu_p)**2 - 2*A_p*A_q*J_q*K_p*e_q*sin(nu_q)*cos(nu_p)*cos(nu_q) - 2*A_p*A_q*J_q*K_p*sin(nu_q)*cos(nu_p) - 2*A_p*A_q*K_p*K_q*e_p*e_q*cos(nu_p)**2*cos(nu_q)**2 - 2*A_p*A_q*K_p*K_q*e_p*cos(nu_p)**2*cos(nu_q) - 2*A_p*A_q*K_p*K_q*e_q*cos(nu_p)*cos(nu_q)**2 - 2*A_p*A_q*K_p*K_q*cos(nu_p)*cos(nu_q) + A_q**2*B_q**2*e_p**2*sin(nu_q)**2*cos(nu_p)**2 + 2*A_q**2*B_q**2*e_p*sin(nu_q)**2*cos(nu_p) + A_q**2*B_q**2*sin(nu_q)**2 + 2*A_q**2*B_q*C_q*e_p**2*sin(nu_q)*cos(nu_p)**2*cos(nu_q) + 4*A_q**2*B_q*C_q*e_p*sin(nu_q)*cos(nu_p)*cos(nu_q) + 2*A_q**2*B_q*C_q*sin(nu_q)*cos(nu_q) + 2*A_q**2*B_q*D_q*e_p**2*sin(nu_q)**2*cos(nu_p)**2 + 4*A_q**2*B_q*D_q*e_p*sin(nu_q)**2*cos(nu_p) + 2*A_q**2*B_q*D_q*sin(nu_q)**2 - 2*A_q**2*B_q*E_q*e_p**2*sin(nu_q)*cos(nu_p)**2*cos(nu_q) - 4*A_q**2*B_q*E_q*e_p*sin(nu_q)*cos(nu_p)*cos(nu_q) - 2*A_q**2*B_q*E_q*sin(nu_q)*cos(nu_q) + A_q**2*C_q**2*e_p**2*cos(nu_p)**2*cos(nu_q)**2 + 2*A_q**2*C_q**2*e_p*cos(nu_p)*cos(nu_q)**2 + A_q**2*C_q**2*cos(nu_q)**2 + 2*A_q**2*C_q*D_q*e_p**2*sin(nu_q)*cos(nu_p)**2*cos(nu_q) + 4*A_q**2*C_q*D_q*e_p*sin(nu_q)*cos(nu_p)*cos(nu_q) + 2*A_q**2*C_q*D_q*sin(nu_q)*cos(nu_q) - 2*A_q**2*C_q*E_q*e_p**2*cos(nu_p)**2*cos(nu_q)**2 - 4*A_q**2*C_q*E_q*e_p*cos(nu_p)*cos(nu_q)**2 - 2*A_q**2*C_q*E_q*cos(nu_q)**2 + A_q**2*D_q**2*e_p**2*sin(nu_q)**2*cos(nu_p)**2 + 2*A_q**2*D_q**2*e_p*sin(nu_q)**2*cos(nu_p) + A_q**2*D_q**2*sin(nu_q)**2 - 2*A_q**2*D_q*E_q*e_p**2*sin(nu_q)*cos(nu_p)**2*cos(nu_q) - 4*A_q**2*D_q*E_q*e_p*sin(nu_q)*cos(nu_p)*cos(nu_q) - 2*A_q**2*D_q*E_q*sin(nu_q)*cos(nu_q) + A_q**2*E_q**2*e_p**2*cos(nu_p)**2*cos(nu_q)**2 + 2*A_q**2*E_q**2*e_p*cos(nu_p)*cos(nu_q)**2 + A_q**2*E_q**2*cos(nu_q)**2 + A_q**2*F_q**2*e_p**2*sin(nu_q)**2*cos(nu_p)**2 + 2*A_q**2*F_q**2*e_p*sin(nu_q)**2*cos(nu_p) + A_q**2*F_q**2*sin(nu_q)**2 - 2*A_q**2*F_q*G_q*e_p**2*sin(nu_q)*cos(nu_p)**2*cos(nu_q) - 4*A_q**2*F_q*G_q*e_p*sin(nu_q)*cos(nu_p)*cos(nu_q) - 2*A_q**2*F_q*G_q*sin(nu_q)*cos(nu_q) - 2*A_q**2*F_q*H_q*e_p**2*sin(nu_q)**2*cos(nu_p)**2 - 4*A_q**2*F_q*H_q*e_p*sin(nu_q)**2*cos(nu_p) - 2*A_q**2*F_q*H_q*sin(nu_q)**2 - 2*A_q**2*F_q*I_q*e_p**2*sin(nu_q)*cos(nu_p)**2*cos(nu_q) - 4*A_q**2*F_q*I_q*e_p*sin(nu_q)*cos(nu_p)*cos(nu_q) - 2*A_q**2*F_q*I_q*sin(nu_q)*cos(nu_q) + A_q**2*G_q**2*e_p**2*cos(nu_p)**2*cos(nu_q)**2 + 2*A_q**2*G_q**2*e_p*cos(nu_p)*cos(nu_q)**2 + A_q**2*G_q**2*cos(nu_q)**2 + 2*A_q**2*G_q*H_q*e_p**2*sin(nu_q)*cos(nu_p)**2*cos(nu_q) + 4*A_q**2*G_q*H_q*e_p*sin(nu_q)*cos(nu_p)*cos(nu_q) + 2*A_q**2*G_q*H_q*sin(nu_q)*cos(nu_q) + 2*A_q**2*G_q*I_q*e_p**2*cos(nu_p)**2*cos(nu_q)**2 + 4*A_q**2*G_q*I_q*e_p*cos(nu_p)*cos(nu_q)**2 + 2*A_q**2*G_q*I_q*cos(nu_q)**2 + A_q**2*H_q**2*e_p**2*sin(nu_q)**2*cos(nu_p)**2 + 2*A_q**2*H_q**2*e_p*sin(nu_q)**2*cos(nu_p) + A_q**2*H_q**2*sin(nu_q)**2 + 2*A_q**2*H_q*I_q*e_p**2*sin(nu_q)*cos(nu_p)**2*cos(nu_q) + 4*A_q**2*H_q*I_q*e_p*sin(nu_q)*cos(nu_p)*cos(nu_q) + 2*A_q**2*H_q*I_q*sin(nu_q)*cos(nu_q) + A_q**2*I_q**2*e_p**2*cos(nu_p)**2*cos(nu_q)**2 + 2*A_q**2*I_q**2*e_p*cos(nu_p)*cos(nu_q)**2 + A_q**2*I_q**2*cos(nu_q)**2 + A_q**2*J_q**2*e_p**2*sin(nu_q)**2*cos(nu_p)**2 + 2*A_q**2*J_q**2*e_p*sin(nu_q)**2*cos(nu_p) + A_q**2*J_q**2*sin(nu_q)**2 + 2*A_q**2*J_q*K_q*e_p**2*sin(nu_q)*cos(nu_p)**2*cos(nu_q) + 4*A_q**2*J_q*K_q*e_p*sin(nu_q)*cos(nu_p)*cos(nu_q) + 2*A_q**2*J_q*K_q*sin(nu_q)*cos(nu_q) + A_q**2*K_q**2*e_p**2*cos(nu_p)**2*cos(nu_q)**2 + 2*A_q**2*K_q**2*e_p*cos(nu_p)*cos(nu_q)**2 + A_q**2*K_q**2*cos(nu_q)**2"
      ]
     },
     "execution_count": 29,
     "metadata": {},
     "output_type": "execute_result"
    }
   ],
   "source": [
    "d2_expanded"
   ]
  },
  {
   "cell_type": "code",
   "execution_count": 39,
   "id": "b1504929",
   "metadata": {},
   "outputs": [],
   "source": [
    "baseterms = [sp.sin(vp),sp.cos(vp),sp.sin(vq),sp.cos(vq)]\n",
    "pows = [1,2]\n",
    "# baseterms2 = list()\n",
    "# for i in np.arange(len(baseterms)):\n",
    "#     for j in np.arange(len(pows)):\n",
    "#         baseterms2.append(baseterms[i]**pows[j])"
   ]
  },
  {
   "cell_type": "code",
   "execution_count": 40,
   "id": "5eb1b2cd",
   "metadata": {},
   "outputs": [],
   "source": [
    "#baseterms2"
   ]
  },
  {
   "cell_type": "code",
   "execution_count": 41,
   "id": "9a68987f",
   "metadata": {},
   "outputs": [],
   "source": [
    "import itertools"
   ]
  },
  {
   "cell_type": "code",
   "execution_count": 48,
   "id": "4de0a67b",
   "metadata": {},
   "outputs": [],
   "source": [
    "#itertools.combinations(baseterms,2)\n",
    "combs = list()\n",
    "for i in np.arange(len(baseterms))+1:\n",
    "    for term in itertools.combinations(baseterms,i):\n",
    "        combs.append(term)"
   ]
  },
  {
   "cell_type": "code",
   "execution_count": 49,
   "id": "445f1f7c",
   "metadata": {},
   "outputs": [
    {
     "data": {
      "text/plain": [
       "[(sin(nu_p),),\n",
       " (cos(nu_p),),\n",
       " (sin(nu_q),),\n",
       " (cos(nu_q),),\n",
       " (sin(nu_p), cos(nu_p)),\n",
       " (sin(nu_p), sin(nu_q)),\n",
       " (sin(nu_p), cos(nu_q)),\n",
       " (cos(nu_p), sin(nu_q)),\n",
       " (cos(nu_p), cos(nu_q)),\n",
       " (sin(nu_q), cos(nu_q)),\n",
       " (sin(nu_p), cos(nu_p), sin(nu_q)),\n",
       " (sin(nu_p), cos(nu_p), cos(nu_q)),\n",
       " (sin(nu_p), sin(nu_q), cos(nu_q)),\n",
       " (cos(nu_p), sin(nu_q), cos(nu_q)),\n",
       " (sin(nu_p), cos(nu_p), sin(nu_q), cos(nu_q))]"
      ]
     },
     "execution_count": 49,
     "metadata": {},
     "output_type": "execute_result"
    }
   ],
   "source": [
    "combs"
   ]
  },
  {
   "cell_type": "code",
   "execution_count": 56,
   "id": "790baabb",
   "metadata": {},
   "outputs": [],
   "source": [
    "combs2 = list()\n",
    "for i in np.arange(len(combs)):\n",
    "    powCombs = list()\n",
    "    for ppow in itertools.product(pows, repeat=len(combs[i])):\n",
    "        powCombs.append(ppow)\n",
    "    for j in np.arange(len(powCombs)):\n",
    "        tmpCombs = list()\n",
    "        for k in np.arange(len(combs[i])):\n",
    "            tmpCombs.append(combs[i][k]**powCombs[j][k])\n",
    "        combs2.append(tmpCombs)"
   ]
  },
  {
   "cell_type": "code",
   "execution_count": 57,
   "id": "bafa3e32",
   "metadata": {},
   "outputs": [
    {
     "data": {
      "text/plain": [
       "[[sin(nu_p)],\n",
       " [sin(nu_p)**2],\n",
       " [cos(nu_p)],\n",
       " [cos(nu_p)**2],\n",
       " [sin(nu_q)],\n",
       " [sin(nu_q)**2],\n",
       " [cos(nu_q)],\n",
       " [cos(nu_q)**2],\n",
       " [sin(nu_p), cos(nu_p)],\n",
       " [sin(nu_p), cos(nu_p)**2],\n",
       " [sin(nu_p)**2, cos(nu_p)],\n",
       " [sin(nu_p)**2, cos(nu_p)**2],\n",
       " [sin(nu_p), sin(nu_q)],\n",
       " [sin(nu_p), sin(nu_q)**2],\n",
       " [sin(nu_p)**2, sin(nu_q)],\n",
       " [sin(nu_p)**2, sin(nu_q)**2],\n",
       " [sin(nu_p), cos(nu_q)],\n",
       " [sin(nu_p), cos(nu_q)**2],\n",
       " [sin(nu_p)**2, cos(nu_q)],\n",
       " [sin(nu_p)**2, cos(nu_q)**2],\n",
       " [cos(nu_p), sin(nu_q)],\n",
       " [cos(nu_p), sin(nu_q)**2],\n",
       " [cos(nu_p)**2, sin(nu_q)],\n",
       " [cos(nu_p)**2, sin(nu_q)**2],\n",
       " [cos(nu_p), cos(nu_q)],\n",
       " [cos(nu_p), cos(nu_q)**2],\n",
       " [cos(nu_p)**2, cos(nu_q)],\n",
       " [cos(nu_p)**2, cos(nu_q)**2],\n",
       " [sin(nu_q), cos(nu_q)],\n",
       " [sin(nu_q), cos(nu_q)**2],\n",
       " [sin(nu_q)**2, cos(nu_q)],\n",
       " [sin(nu_q)**2, cos(nu_q)**2],\n",
       " [sin(nu_p), cos(nu_p), sin(nu_q)],\n",
       " [sin(nu_p), cos(nu_p), sin(nu_q)**2],\n",
       " [sin(nu_p), cos(nu_p)**2, sin(nu_q)],\n",
       " [sin(nu_p), cos(nu_p)**2, sin(nu_q)**2],\n",
       " [sin(nu_p)**2, cos(nu_p), sin(nu_q)],\n",
       " [sin(nu_p)**2, cos(nu_p), sin(nu_q)**2],\n",
       " [sin(nu_p)**2, cos(nu_p)**2, sin(nu_q)],\n",
       " [sin(nu_p)**2, cos(nu_p)**2, sin(nu_q)**2],\n",
       " [sin(nu_p), cos(nu_p), cos(nu_q)],\n",
       " [sin(nu_p), cos(nu_p), cos(nu_q)**2],\n",
       " [sin(nu_p), cos(nu_p)**2, cos(nu_q)],\n",
       " [sin(nu_p), cos(nu_p)**2, cos(nu_q)**2],\n",
       " [sin(nu_p)**2, cos(nu_p), cos(nu_q)],\n",
       " [sin(nu_p)**2, cos(nu_p), cos(nu_q)**2],\n",
       " [sin(nu_p)**2, cos(nu_p)**2, cos(nu_q)],\n",
       " [sin(nu_p)**2, cos(nu_p)**2, cos(nu_q)**2],\n",
       " [sin(nu_p), sin(nu_q), cos(nu_q)],\n",
       " [sin(nu_p), sin(nu_q), cos(nu_q)**2],\n",
       " [sin(nu_p), sin(nu_q)**2, cos(nu_q)],\n",
       " [sin(nu_p), sin(nu_q)**2, cos(nu_q)**2],\n",
       " [sin(nu_p)**2, sin(nu_q), cos(nu_q)],\n",
       " [sin(nu_p)**2, sin(nu_q), cos(nu_q)**2],\n",
       " [sin(nu_p)**2, sin(nu_q)**2, cos(nu_q)],\n",
       " [sin(nu_p)**2, sin(nu_q)**2, cos(nu_q)**2],\n",
       " [cos(nu_p), sin(nu_q), cos(nu_q)],\n",
       " [cos(nu_p), sin(nu_q), cos(nu_q)**2],\n",
       " [cos(nu_p), sin(nu_q)**2, cos(nu_q)],\n",
       " [cos(nu_p), sin(nu_q)**2, cos(nu_q)**2],\n",
       " [cos(nu_p)**2, sin(nu_q), cos(nu_q)],\n",
       " [cos(nu_p)**2, sin(nu_q), cos(nu_q)**2],\n",
       " [cos(nu_p)**2, sin(nu_q)**2, cos(nu_q)],\n",
       " [cos(nu_p)**2, sin(nu_q)**2, cos(nu_q)**2],\n",
       " [sin(nu_p), cos(nu_p), sin(nu_q), cos(nu_q)],\n",
       " [sin(nu_p), cos(nu_p), sin(nu_q), cos(nu_q)**2],\n",
       " [sin(nu_p), cos(nu_p), sin(nu_q)**2, cos(nu_q)],\n",
       " [sin(nu_p), cos(nu_p), sin(nu_q)**2, cos(nu_q)**2],\n",
       " [sin(nu_p), cos(nu_p)**2, sin(nu_q), cos(nu_q)],\n",
       " [sin(nu_p), cos(nu_p)**2, sin(nu_q), cos(nu_q)**2],\n",
       " [sin(nu_p), cos(nu_p)**2, sin(nu_q)**2, cos(nu_q)],\n",
       " [sin(nu_p), cos(nu_p)**2, sin(nu_q)**2, cos(nu_q)**2],\n",
       " [sin(nu_p)**2, cos(nu_p), sin(nu_q), cos(nu_q)],\n",
       " [sin(nu_p)**2, cos(nu_p), sin(nu_q), cos(nu_q)**2],\n",
       " [sin(nu_p)**2, cos(nu_p), sin(nu_q)**2, cos(nu_q)],\n",
       " [sin(nu_p)**2, cos(nu_p), sin(nu_q)**2, cos(nu_q)**2],\n",
       " [sin(nu_p)**2, cos(nu_p)**2, sin(nu_q), cos(nu_q)],\n",
       " [sin(nu_p)**2, cos(nu_p)**2, sin(nu_q), cos(nu_q)**2],\n",
       " [sin(nu_p)**2, cos(nu_p)**2, sin(nu_q)**2, cos(nu_q)],\n",
       " [sin(nu_p)**2, cos(nu_p)**2, sin(nu_q)**2, cos(nu_q)**2]]"
      ]
     },
     "execution_count": 57,
     "metadata": {},
     "output_type": "execute_result"
    }
   ],
   "source": [
    "combs2"
   ]
  },
  {
   "cell_type": "code",
   "execution_count": 54,
   "id": "29e3def7",
   "metadata": {},
   "outputs": [
    {
     "data": {
      "text/plain": [
       "[(1, 1), (1, 2), (2, 1), (2, 2)]"
      ]
     },
     "execution_count": 54,
     "metadata": {},
     "output_type": "execute_result"
    }
   ],
   "source": [
    "powCombs"
   ]
  },
  {
   "cell_type": "code",
   "execution_count": null,
   "id": "e20d22fe",
   "metadata": {},
   "outputs": [],
   "source": []
  },
  {
   "cell_type": "code",
   "execution_count": null,
   "id": "621bcfbf",
   "metadata": {},
   "outputs": [],
   "source": []
  },
  {
   "cell_type": "code",
   "execution_count": null,
   "id": "25955459",
   "metadata": {},
   "outputs": [],
   "source": []
  },
  {
   "cell_type": "code",
   "execution_count": null,
   "id": "1fe3934b",
   "metadata": {},
   "outputs": [],
   "source": []
  }
 ],
 "metadata": {
  "kernelspec": {
   "display_name": "Python 3 (ipykernel)",
   "language": "python",
   "name": "python3"
  },
  "language_info": {
   "codemirror_mode": {
    "name": "ipython",
    "version": 3
   },
   "file_extension": ".py",
   "mimetype": "text/x-python",
   "name": "python",
   "nbconvert_exporter": "python",
   "pygments_lexer": "ipython3",
   "version": "3.8.10"
  }
 },
 "nbformat": 4,
 "nbformat_minor": 5
}
