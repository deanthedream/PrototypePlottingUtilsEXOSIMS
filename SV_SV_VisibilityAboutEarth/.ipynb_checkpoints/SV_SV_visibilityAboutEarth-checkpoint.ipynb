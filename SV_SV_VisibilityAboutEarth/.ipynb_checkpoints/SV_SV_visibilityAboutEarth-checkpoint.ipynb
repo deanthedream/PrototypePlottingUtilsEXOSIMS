{
 "cells": [
  {
   "cell_type": "code",
   "execution_count": 1,
   "id": "c3b0ec22",
   "metadata": {},
   "outputs": [],
   "source": [
    "#Experiment to analytically compute the true anomaly ranges two spacecraft with KOE can see each other\n",
    "\n",
    "import sympy as sp\n",
    "import numpy as np"
   ]
  },
  {
   "cell_type": "code",
   "execution_count": 2,
   "id": "862ba848",
   "metadata": {},
   "outputs": [],
   "source": [
    "a0,e0,i0,W0,w0,v0,x0,y0,z0 = sp.symbols(\"a_0,e_0,i_0,Omega_0,omega_0,nu_0,x_0,y_0,z_0\",real=True)\n",
    "a1,e1,i1,W1,w1,v1,x1,y1,z1 = sp.symbols(\"a_1,e_1,i_1,Omega_1,omega_1,nu_1,x_1,y_1,z_1\",real=True)\n",
    "a,e,i,W,w,v,x,y,z = sp.symbols(\"a,e,i,Omega,omega,nu,x,y,z\",real=True)"
   ]
  },
  {
   "cell_type": "code",
   "execution_count": 3,
   "id": "614d900a",
   "metadata": {},
   "outputs": [],
   "source": [
    "#XYZ\n",
    "r = a*(1-e**2)/(1+e*sp.cos(v))\n",
    "X = r*(sp.cos(W)*sp.cos(w+v)-sp.sin(W)*sp.sin(w+v)*sp.cos(i))\n",
    "Y = r*(sp.sin(W)*sp.cos(w+v)+sp.cos(W)*sp.sin(w+v)*sp.cos(i))\n",
    "Z = r*sp.sin(i)*sp.sin(w+v)"
   ]
  },
  {
   "cell_type": "code",
   "execution_count": 4,
   "id": "6af3478e",
   "metadata": {},
   "outputs": [],
   "source": [
    "#trig identities\n",
    "#a,b = sp.symbols(\"a b\",real=True)\n",
    "sinwpv = sp.sin(w)*sp.cos(v) + sp.cos(w)*sp.sin(v)\n",
    "coswpv = sp.cos(w)*sp.cos(v) - sp.sin(w)*sp.sin(v)\n",
    "sinwmv = sp.sin(w)*sp.cos(v) - sp.cos(w)*sp.sin(v)\n",
    "coswmv = sp.cos(w)*sp.cos(v) + sp.sin(w)*sp.sin(v)"
   ]
  },
  {
   "cell_type": "code",
   "execution_count": 5,
   "id": "a9b6ff79",
   "metadata": {},
   "outputs": [],
   "source": [
    "#Point P\n",
    "Xp = X.subs(sp.sin(w+v),sinwpv).subs(sp.cos(w+v),coswpv).subs(a,a0).subs(e,e0).subs(i,i0).subs(W,w0).subs(w,w0).subs(v,v0)\n",
    "Yp = Y.subs(sp.sin(w+v),sinwpv).subs(sp.cos(w+v),coswpv).subs(a,a0).subs(e,e0).subs(i,i0).subs(W,w0).subs(w,w0).subs(v,v0)\n",
    "Zp = Z.subs(sp.sin(w+v),sinwpv).subs(sp.cos(w+v),coswpv).subs(a,a0).subs(e,e0).subs(i,i0).subs(W,w0).subs(w,w0).subs(v,v0)"
   ]
  },
  {
   "cell_type": "code",
   "execution_count": 6,
   "id": "c2756e7d",
   "metadata": {},
   "outputs": [],
   "source": [
    "#Point Q\n",
    "Xq = X.subs(sp.sin(w+v),sinwpv).subs(sp.cos(w+v),coswpv).subs(a,a1).subs(e,e1).subs(i,i1).subs(W,w1).subs(w,w1).subs(v,v1)\n",
    "Yq = Y.subs(sp.sin(w+v),sinwpv).subs(sp.cos(w+v),coswpv).subs(a,a1).subs(e,e1).subs(i,i1).subs(W,w1).subs(w,w1).subs(v,v1)\n",
    "Zq = Z.subs(sp.sin(w+v),sinwpv).subs(sp.cos(w+v),coswpv).subs(a,a1).subs(e,e1).subs(i,i1).subs(W,w1).subs(w,w1).subs(v,v1)"
   ]
  },
  {
   "cell_type": "code",
   "execution_count": 7,
   "id": "375d2faf",
   "metadata": {},
   "outputs": [],
   "source": [
    "PQ_norm = sp.sqrt((Xq-Xp)**2+(Yq-Yp)**2+(Zq-Zp)**2)"
   ]
  },
  {
   "cell_type": "code",
   "execution_count": 8,
   "id": "d0fb8b02",
   "metadata": {},
   "outputs": [],
   "source": [
    "#an example of how this can be simplified, separate numerator and denominator\n",
    "#sp.simplify((Xq-Xp)**2+(Yq-Yp)**2+(Zq-Zp)**2)"
   ]
  },
  {
   "cell_type": "code",
   "execution_count": 9,
   "id": "544729ab",
   "metadata": {},
   "outputs": [],
   "source": [
    "#takes too long\n",
    "#sp.expand(PQ_norm)"
   ]
  },
  {
   "cell_type": "code",
   "execution_count": 10,
   "id": "41fe17f8",
   "metadata": {},
   "outputs": [],
   "source": [
    "#Compute unit vector from P to Q terms\n",
    "ahat = (Xq-Xp)/PQ_norm\n",
    "bhat = (Yq-Yp)/PQ_norm\n",
    "chat = (Zq-Zp)/PQ_norm"
   ]
  },
  {
   "cell_type": "code",
   "execution_count": 11,
   "id": "c8609af2",
   "metadata": {},
   "outputs": [],
   "source": [
    "#takes too long #sp.expand(ahat)"
   ]
  },
  {
   "cell_type": "code",
   "execution_count": 12,
   "id": "ee047b0f",
   "metadata": {},
   "outputs": [],
   "source": [
    "#takes too long\n",
    "#sp.simplify(ahat)"
   ]
  },
  {
   "cell_type": "code",
   "execution_count": 13,
   "id": "426b7bbe",
   "metadata": {},
   "outputs": [],
   "source": [
    "#tangent height point calculation\n",
    "h = (-ahat*Xp-bhat*Yp-chat*Zp)/(ahat**2+bhat**2+chat**2)\n",
    "Xh = ahat*h+Xp\n",
    "Yh = bhat*h+Yp\n",
    "Zh = chat*h+Zp"
   ]
  },
  {
   "cell_type": "code",
   "execution_count": 14,
   "id": "d2d0f831",
   "metadata": {},
   "outputs": [],
   "source": [
    "#Create equation stating when Rh is Re\n",
    "Re, R = sp.symbols('R_\\oplus, R',real=True,positive=True)\n",
    "Rh = sp.sqrt(Xh**2+Yh**2+Zh**2) - Re"
   ]
  },
  {
   "cell_type": "code",
   "execution_count": 15,
   "id": "c642d20c",
   "metadata": {},
   "outputs": [],
   "source": [
    "#"
   ]
  },
  {
   "cell_type": "code",
   "execution_count": 16,
   "id": "3d5cfa49",
   "metadata": {},
   "outputs": [],
   "source": [
    "#sp.simplify(Rh.subs(a0,500).subs(a1,550).subs(e0,0.05).subs(e1,0.01).subs(i0,0.1).subs(w0,0.5).subs(w1,1.5).subs(W0,0.7).subs(W1,0.4))"
   ]
  },
  {
   "cell_type": "code",
   "execution_count": null,
   "id": "e42beea9",
   "metadata": {},
   "outputs": [],
   "source": []
  },
  {
   "cell_type": "code",
   "execution_count": 17,
   "id": "91947347",
   "metadata": {},
   "outputs": [],
   "source": [
    "#sp.expand(Xh**2+Yh**2+Zh**2)"
   ]
  },
  {
   "cell_type": "code",
   "execution_count": 18,
   "id": "e931158d",
   "metadata": {},
   "outputs": [],
   "source": [
    "#sp.simplify((e0*sp.cos(v0)+1)**2*(e1*sp.cos(v1)+1)**2*(Xh**2+Yh**2+Zh**2))"
   ]
  },
  {
   "cell_type": "code",
   "execution_count": null,
   "id": "056e9ef5",
   "metadata": {},
   "outputs": [],
   "source": []
  },
  {
   "cell_type": "code",
   "execution_count": 19,
   "id": "62fcf5f9",
   "metadata": {},
   "outputs": [
    {
     "name": "stdout",
     "output_type": "stream",
     "text": [
      "tac\n"
     ]
    }
   ],
   "source": [
    "print(\"tac\")"
   ]
  },
  {
   "cell_type": "markdown",
   "id": "e7f03663",
   "metadata": {},
   "source": [
    "# REDONE but with substituting values first"
   ]
  },
  {
   "cell_type": "code",
   "execution_count": 20,
   "id": "58e1a013",
   "metadata": {},
   "outputs": [],
   "source": [
    "#Point P\n",
    "Xp = X.subs(sp.sin(w+v),sinwpv).subs(sp.cos(w+v),coswpv).subs(a,a0).subs(e,e0).subs(i,i0).subs(W,w0).subs(w,w0).subs(v,v0)\n",
    "Yp = Y.subs(sp.sin(w+v),sinwpv).subs(sp.cos(w+v),coswpv).subs(a,a0).subs(e,e0).subs(i,i0).subs(W,w0).subs(w,w0).subs(v,v0)\n",
    "Zp = Z.subs(sp.sin(w+v),sinwpv).subs(sp.cos(w+v),coswpv).subs(a,a0).subs(e,e0).subs(i,i0).subs(W,w0).subs(w,w0).subs(v,v0)\n",
    "Xp = sp.simplify(Xp.subs(w0,0.5).subs(i0,0.75).subs(a0,500).subs(e0,0.04).subs(W0,1.5))\n",
    "Yp = sp.simplify(Yp.subs(w0,0.5).subs(i0,0.75).subs(a0,500).subs(e0,0.04).subs(W0,1.5))\n",
    "Zp = sp.simplify(Zp.subs(w0,0.5).subs(i0,0.75).subs(a0,500).subs(e0,0.04).subs(W0,1.5))"
   ]
  },
  {
   "cell_type": "code",
   "execution_count": 21,
   "id": "230e3d33",
   "metadata": {},
   "outputs": [],
   "source": [
    "#Point Q\n",
    "Xq = X.subs(sp.sin(w+v),sinwpv).subs(sp.cos(w+v),coswpv).subs(a,a1).subs(e,e1).subs(i,i1).subs(W,w1).subs(w,w1).subs(v,v1)\n",
    "Yq = Y.subs(sp.sin(w+v),sinwpv).subs(sp.cos(w+v),coswpv).subs(a,a1).subs(e,e1).subs(i,i1).subs(W,w1).subs(w,w1).subs(v,v1)\n",
    "Zq = Z.subs(sp.sin(w+v),sinwpv).subs(sp.cos(w+v),coswpv).subs(a,a1).subs(e,e1).subs(i,i1).subs(W,w1).subs(w,w1).subs(v,v1)\n",
    "Xq = sp.simplify(Xq.subs(w1,1.5).subs(i1,0.15).subs(a1,550).subs(e1,0.1).subs(W1,0.1))\n",
    "Yq = sp.simplify(Yq.subs(w1,1.5).subs(i1,0.15).subs(a1,550).subs(e1,0.1).subs(W1,0.1))\n",
    "Zq = sp.simplify(Zq.subs(w1,1.5).subs(i1,0.15).subs(a1,550).subs(e1,0.1).subs(W1,0.1))"
   ]
  },
  {
   "cell_type": "code",
   "execution_count": 22,
   "id": "602d5254",
   "metadata": {},
   "outputs": [],
   "source": [
    "PQ_norm = sp.sqrt((Xq-Xp)**2+(Yq-Yp)**2+(Zq-Zp)**2)"
   ]
  },
  {
   "cell_type": "code",
   "execution_count": 23,
   "id": "dfc9bf0c",
   "metadata": {},
   "outputs": [
    {
     "data": {
      "text/latex": [
       "$\\displaystyle 679.425014528427 \\sqrt{0.00539841277544325 \\sin^{2}{\\left(\\nu_{0} \\right)} \\cos^{2}{\\left(\\nu_{1} \\right)} + 0.107968255508865 \\sin^{2}{\\left(\\nu_{0} \\right)} \\cos{\\left(\\nu_{1} \\right)} + 0.539841277544325 \\sin^{2}{\\left(\\nu_{0} \\right)} + 0.00104471512528285 \\sin{\\left(\\nu_{0} \\right)} \\sin{\\left(\\nu_{1} \\right)} \\cos{\\left(\\nu_{0} \\right)} \\cos{\\left(\\nu_{1} \\right)} + 0.0104471512528285 \\sin{\\left(\\nu_{0} \\right)} \\sin{\\left(\\nu_{1} \\right)} \\cos{\\left(\\nu_{0} \\right)} + 0.0261178781320713 \\sin{\\left(\\nu_{0} \\right)} \\sin{\\left(\\nu_{1} \\right)} \\cos{\\left(\\nu_{1} \\right)} + 0.261178781320713 \\sin{\\left(\\nu_{0} \\right)} \\sin{\\left(\\nu_{1} \\right)} - 0.004 \\sin{\\left(\\nu_{0} \\right)} \\cos{\\left(\\nu_{0} \\right)} \\cos^{2}{\\left(\\nu_{1} \\right)} - 0.04 \\sin{\\left(\\nu_{0} \\right)} \\cos{\\left(\\nu_{0} \\right)} \\cos{\\left(\\nu_{1} \\right)} - 0.1 \\sin{\\left(\\nu_{0} \\right)} \\cos^{2}{\\left(\\nu_{1} \\right)} - \\sin{\\left(\\nu_{0} \\right)} \\cos{\\left(\\nu_{1} \\right)} + 0.00102762032666793 \\sin^{2}{\\left(\\nu_{1} \\right)} \\cos^{2}{\\left(\\nu_{0} \\right)} + 0.0513810163333966 \\sin^{2}{\\left(\\nu_{1} \\right)} \\cos{\\left(\\nu_{0} \\right)} + 0.642262704167457 \\sin^{2}{\\left(\\nu_{1} \\right)} + 0.00377958509502898 \\sin{\\left(\\nu_{1} \\right)} \\cos^{2}{\\left(\\nu_{0} \\right)} \\cos{\\left(\\nu_{1} \\right)} + 0.0377958509502898 \\sin{\\left(\\nu_{1} \\right)} \\cos^{2}{\\left(\\nu_{0} \\right)} + 0.0944896273757245 \\sin{\\left(\\nu_{1} \\right)} \\cos{\\left(\\nu_{0} \\right)} \\cos{\\left(\\nu_{1} \\right)} + 0.944896273757245 \\sin{\\left(\\nu_{1} \\right)} \\cos{\\left(\\nu_{0} \\right)} - 5.55111512312578 \\cdot 10^{-17} \\sin{\\left(\\nu_{1} \\right)} \\cos{\\left(\\nu_{1} \\right)} + 0.00849056133998979 \\cos^{2}{\\left(\\nu_{0} \\right)} \\cos^{2}{\\left(\\nu_{1} \\right)} + 0.128613537887651 \\cos^{2}{\\left(\\nu_{0} \\right)} \\cos{\\left(\\nu_{1} \\right)} + 0.539841277544325 \\cos^{2}{\\left(\\nu_{0} \\right)} + 0.102994222280362 \\cos{\\left(\\nu_{0} \\right)} \\cos^{2}{\\left(\\nu_{1} \\right)} + 0.51613205946965 \\cos{\\left(\\nu_{0} \\right)} \\cos{\\left(\\nu_{1} \\right)} + 0.642262704167457 \\cos^{2}{\\left(\\nu_{1} \\right)}} \\sqrt{\\frac{1}{1.6 \\cdot 10^{-5} \\cos^{2}{\\left(\\nu_{0} \\right)} \\cos^{2}{\\left(\\nu_{1} \\right)} + 0.00032 \\cos^{2}{\\left(\\nu_{0} \\right)} \\cos{\\left(\\nu_{1} \\right)} + 0.0016 \\cos^{2}{\\left(\\nu_{0} \\right)} + 0.0008 \\cos{\\left(\\nu_{0} \\right)} \\cos^{2}{\\left(\\nu_{1} \\right)} + 0.016 \\cos{\\left(\\nu_{0} \\right)} \\cos{\\left(\\nu_{1} \\right)} + 0.08 \\cos{\\left(\\nu_{0} \\right)} + 0.01 \\cos^{2}{\\left(\\nu_{1} \\right)} + 0.2 \\cos{\\left(\\nu_{1} \\right)} + 1.0}}$"
      ],
      "text/plain": [
       "679.425014528427*sqrt(0.00539841277544325*sin(nu_0)**2*cos(nu_1)**2 + 0.107968255508865*sin(nu_0)**2*cos(nu_1) + 0.539841277544325*sin(nu_0)**2 + 0.00104471512528285*sin(nu_0)*sin(nu_1)*cos(nu_0)*cos(nu_1) + 0.0104471512528285*sin(nu_0)*sin(nu_1)*cos(nu_0) + 0.0261178781320713*sin(nu_0)*sin(nu_1)*cos(nu_1) + 0.261178781320713*sin(nu_0)*sin(nu_1) - 0.004*sin(nu_0)*cos(nu_0)*cos(nu_1)**2 - 0.04*sin(nu_0)*cos(nu_0)*cos(nu_1) - 0.1*sin(nu_0)*cos(nu_1)**2 - sin(nu_0)*cos(nu_1) + 0.00102762032666793*sin(nu_1)**2*cos(nu_0)**2 + 0.0513810163333966*sin(nu_1)**2*cos(nu_0) + 0.642262704167457*sin(nu_1)**2 + 0.00377958509502898*sin(nu_1)*cos(nu_0)**2*cos(nu_1) + 0.0377958509502898*sin(nu_1)*cos(nu_0)**2 + 0.0944896273757245*sin(nu_1)*cos(nu_0)*cos(nu_1) + 0.944896273757245*sin(nu_1)*cos(nu_0) - 5.55111512312578e-17*sin(nu_1)*cos(nu_1) + 0.00849056133998979*cos(nu_0)**2*cos(nu_1)**2 + 0.128613537887651*cos(nu_0)**2*cos(nu_1) + 0.539841277544325*cos(nu_0)**2 + 0.102994222280362*cos(nu_0)*cos(nu_1)**2 + 0.51613205946965*cos(nu_0)*cos(nu_1) + 0.642262704167457*cos(nu_1)**2)*sqrt(1/(1.6e-5*cos(nu_0)**2*cos(nu_1)**2 + 0.00032*cos(nu_0)**2*cos(nu_1) + 0.0016*cos(nu_0)**2 + 0.0008*cos(nu_0)*cos(nu_1)**2 + 0.016*cos(nu_0)*cos(nu_1) + 0.08*cos(nu_0) + 0.01*cos(nu_1)**2 + 0.2*cos(nu_1) + 1.0))"
      ]
     },
     "execution_count": 23,
     "metadata": {},
     "output_type": "execute_result"
    }
   ],
   "source": [
    "sp.expand(sp.simplify(PQ_norm))"
   ]
  },
  {
   "cell_type": "code",
   "execution_count": 24,
   "id": "48c6c2a0",
   "metadata": {},
   "outputs": [],
   "source": [
    "#Compute unit vector from P to Q terms\n",
    "ahat = (Xq-Xp)/PQ_norm\n",
    "bhat = (Yq-Yp)/PQ_norm\n",
    "chat = (Zq-Zp)/PQ_norm"
   ]
  },
  {
   "cell_type": "code",
   "execution_count": 25,
   "id": "327daa0e",
   "metadata": {},
   "outputs": [],
   "source": [
    "#tangent height point calculation\n",
    "h = (-ahat*Xp-bhat*Yp-chat*Zp)/(ahat**2+bhat**2+chat**2)\n",
    "Xh = ahat*h+Xp\n",
    "Yh = bhat*h+Yp\n",
    "Zh = chat*h+Zp"
   ]
  },
  {
   "cell_type": "code",
   "execution_count": 26,
   "id": "3af5bcf4",
   "metadata": {},
   "outputs": [],
   "source": [
    "#Create equation stating when Rh is Re\n",
    "Re, R = sp.symbols('R_\\oplus, R',real=True,positive=True)\n",
    "Rh = sp.sqrt(Xh**2+Yh**2+Zh**2) - Re"
   ]
  },
  {
   "cell_type": "markdown",
   "id": "65e21643",
   "metadata": {},
   "source": [
    "# REDONE but with Constants"
   ]
  },
  {
   "cell_type": "code",
   "execution_count": 27,
   "id": "64d0e737",
   "metadata": {},
   "outputs": [],
   "source": [
    "#Point P\n",
    "Xp = X.subs(sp.sin(w+v),sinwpv).subs(sp.cos(w+v),coswpv)#.subs(a,a0).subs(e,e0).subs(i,i0).subs(W,w0).subs(w,w0).subs(v,v0)\n",
    "Yp = Y.subs(sp.sin(w+v),sinwpv).subs(sp.cos(w+v),coswpv)#.subs(a,a0).subs(e,e0).subs(i,i0).subs(W,w0).subs(w,w0).subs(v,v0)\n",
    "Zp = Z.subs(sp.sin(w+v),sinwpv).subs(sp.cos(w+v),coswpv)#.subs(a,a0).subs(e,e0).subs(i,i0).subs(W,w0).subs(w,w0).subs(v,v0)\n",
    "#Xp = sp.simplify(Xp.subs(w0,0.5).subs(i0,0.75).subs(a0,500).subs(e0,0.04).subs(W0,1.5))\n",
    "#Yp = sp.simplify(Yp.subs(w0,0.5).subs(i0,0.75).subs(a0,500).subs(e0,0.04).subs(W0,1.5))\n",
    "#Zp = sp.simplify(Zp.subs(w0,0.5).subs(i0,0.75).subs(a0,500).subs(e0,0.04).subs(W0,1.5))"
   ]
  },
  {
   "cell_type": "code",
   "execution_count": 28,
   "id": "b4e15c88",
   "metadata": {},
   "outputs": [
    {
     "data": {
      "text/latex": [
       "$\\displaystyle \\frac{a \\left(1 - e^{2}\\right) \\left(\\left(- \\sin{\\left(\\nu \\right)} \\sin{\\left(\\omega \\right)} + \\cos{\\left(\\nu \\right)} \\cos{\\left(\\omega \\right)}\\right) \\cos{\\left(\\Omega \\right)} - \\left(\\sin{\\left(\\nu \\right)} \\cos{\\left(\\omega \\right)} + \\sin{\\left(\\omega \\right)} \\cos{\\left(\\nu \\right)}\\right) \\sin{\\left(\\Omega \\right)} \\cos{\\left(i \\right)}\\right)}{e \\cos{\\left(\\nu \\right)} + 1}$"
      ],
      "text/plain": [
       "a*(1 - e**2)*((-sin(nu)*sin(omega) + cos(nu)*cos(omega))*cos(Omega) - (sin(nu)*cos(omega) + sin(omega)*cos(nu))*sin(Omega)*cos(i))/(e*cos(nu) + 1)"
      ]
     },
     "execution_count": 28,
     "metadata": {},
     "output_type": "execute_result"
    }
   ],
   "source": [
    "Xp"
   ]
  },
  {
   "cell_type": "code",
   "execution_count": 29,
   "id": "7b58b56d",
   "metadata": {},
   "outputs": [],
   "source": [
    "A = sp.symbols('A',real=True,positive=True) #The replacement for a(1-e^2)\n",
    "Xp = Xp.subs(a*(1-e**2),A)"
   ]
  },
  {
   "cell_type": "code",
   "execution_count": 30,
   "id": "07dacf57",
   "metadata": {},
   "outputs": [
    {
     "data": {
      "text/latex": [
       "$\\displaystyle \\frac{A \\left(\\left(- \\sin{\\left(\\nu \\right)} \\sin{\\left(\\omega \\right)} + \\cos{\\left(\\nu \\right)} \\cos{\\left(\\omega \\right)}\\right) \\cos{\\left(\\Omega \\right)} - \\left(\\sin{\\left(\\nu \\right)} \\cos{\\left(\\omega \\right)} + \\sin{\\left(\\omega \\right)} \\cos{\\left(\\nu \\right)}\\right) \\sin{\\left(\\Omega \\right)} \\cos{\\left(i \\right)}\\right)}{e \\cos{\\left(\\nu \\right)} + 1}$"
      ],
      "text/plain": [
       "A*((-sin(nu)*sin(omega) + cos(nu)*cos(omega))*cos(Omega) - (sin(nu)*cos(omega) + sin(omega)*cos(nu))*sin(Omega)*cos(i))/(e*cos(nu) + 1)"
      ]
     },
     "execution_count": 30,
     "metadata": {},
     "output_type": "execute_result"
    }
   ],
   "source": [
    "Xp"
   ]
  },
  {
   "cell_type": "code",
   "execution_count": 31,
   "id": "0b55de38",
   "metadata": {},
   "outputs": [
    {
     "data": {
      "text/latex": [
       "$\\displaystyle - \\frac{A \\sin{\\left(\\Omega \\right)} \\sin{\\left(\\nu \\right)} \\cos{\\left(i \\right)} \\cos{\\left(\\omega \\right)}}{e \\cos{\\left(\\nu \\right)} + 1} - \\frac{A \\sin{\\left(\\Omega \\right)} \\sin{\\left(\\omega \\right)} \\cos{\\left(i \\right)} \\cos{\\left(\\nu \\right)}}{e \\cos{\\left(\\nu \\right)} + 1} - \\frac{A \\sin{\\left(\\nu \\right)} \\sin{\\left(\\omega \\right)} \\cos{\\left(\\Omega \\right)}}{e \\cos{\\left(\\nu \\right)} + 1} + \\frac{A \\cos{\\left(\\Omega \\right)} \\cos{\\left(\\nu \\right)} \\cos{\\left(\\omega \\right)}}{e \\cos{\\left(\\nu \\right)} + 1}$"
      ],
      "text/plain": [
       "-A*sin(Omega)*sin(nu)*cos(i)*cos(omega)/(e*cos(nu) + 1) - A*sin(Omega)*sin(omega)*cos(i)*cos(nu)/(e*cos(nu) + 1) - A*sin(nu)*sin(omega)*cos(Omega)/(e*cos(nu) + 1) + A*cos(Omega)*cos(nu)*cos(omega)/(e*cos(nu) + 1)"
      ]
     },
     "execution_count": 31,
     "metadata": {},
     "output_type": "execute_result"
    }
   ],
   "source": [
    "sp.expand(Xp)"
   ]
  },
  {
   "cell_type": "code",
   "execution_count": 32,
   "id": "cd9fd924",
   "metadata": {},
   "outputs": [],
   "source": [
    "B,C,D,E = sp.symbols('B,C,D,E',real=True) #replacements for coefficients in above"
   ]
  },
  {
   "cell_type": "code",
   "execution_count": 33,
   "id": "dd6f0b82",
   "metadata": {},
   "outputs": [],
   "source": [
    "X0 = sp.expand(Xp).subs(sp.sin(W)*sp.cos(i)*sp.cos(w),B).subs(sp.sin(W)*sp.sin(w)*sp.cos(i),C).subs(sp.sin(w)*sp.cos(W),D).subs(sp.cos(W)*sp.cos(w),E)"
   ]
  },
  {
   "cell_type": "code",
   "execution_count": 34,
   "id": "ff05d48c",
   "metadata": {},
   "outputs": [
    {
     "data": {
      "text/latex": [
       "$\\displaystyle - \\frac{A B \\sin{\\left(\\nu \\right)}}{e \\cos{\\left(\\nu \\right)} + 1} - \\frac{A C \\cos{\\left(\\nu \\right)}}{e \\cos{\\left(\\nu \\right)} + 1} - \\frac{A D \\sin{\\left(\\nu \\right)}}{e \\cos{\\left(\\nu \\right)} + 1} + \\frac{A E \\cos{\\left(\\nu \\right)}}{e \\cos{\\left(\\nu \\right)} + 1}$"
      ],
      "text/plain": [
       "-A*B*sin(nu)/(e*cos(nu) + 1) - A*C*cos(nu)/(e*cos(nu) + 1) - A*D*sin(nu)/(e*cos(nu) + 1) + A*E*cos(nu)/(e*cos(nu) + 1)"
      ]
     },
     "execution_count": 34,
     "metadata": {},
     "output_type": "execute_result"
    }
   ],
   "source": [
    "X0"
   ]
  },
  {
   "cell_type": "code",
   "execution_count": 35,
   "id": "c243543e",
   "metadata": {},
   "outputs": [],
   "source": [
    "F,G,H,I = sp.symbols('F,G,H,I',real=True)"
   ]
  },
  {
   "cell_type": "code",
   "execution_count": 36,
   "id": "e7ea9460",
   "metadata": {},
   "outputs": [
    {
     "data": {
      "text/latex": [
       "$\\displaystyle \\frac{A D \\cos{\\left(i \\right)} \\cos{\\left(\\nu \\right)}}{e \\cos{\\left(\\nu \\right)} + 1} + \\frac{A E \\sin{\\left(\\nu \\right)} \\cos{\\left(i \\right)}}{e \\cos{\\left(\\nu \\right)} + 1} - \\frac{A \\sin{\\left(\\Omega \\right)} \\sin{\\left(\\nu \\right)} \\sin{\\left(\\omega \\right)}}{e \\cos{\\left(\\nu \\right)} + 1} + \\frac{A \\sin{\\left(\\Omega \\right)} \\cos{\\left(\\nu \\right)} \\cos{\\left(\\omega \\right)}}{e \\cos{\\left(\\nu \\right)} + 1}$"
      ],
      "text/plain": [
       "A*D*cos(i)*cos(nu)/(e*cos(nu) + 1) + A*E*sin(nu)*cos(i)/(e*cos(nu) + 1) - A*sin(Omega)*sin(nu)*sin(omega)/(e*cos(nu) + 1) + A*sin(Omega)*cos(nu)*cos(omega)/(e*cos(nu) + 1)"
      ]
     },
     "execution_count": 36,
     "metadata": {},
     "output_type": "execute_result"
    }
   ],
   "source": [
    "sp.expand(Yp.subs(a*(1-e**2),A)).subs(sp.sin(W)*sp.cos(i)*sp.cos(w),B).subs(sp.sin(W)*sp.sin(w)*sp.cos(i),C).subs(sp.sin(w)*sp.cos(W),D).subs(sp.cos(W)*sp.cos(w),E)"
   ]
  },
  {
   "cell_type": "code",
   "execution_count": 37,
   "id": "e6d918e5",
   "metadata": {},
   "outputs": [],
   "source": [
    "Y0 = sp.expand(Yp.subs(a*(1-e**2),A)).subs(sp.sin(W)*sp.sin(w),F).subs(sp.sin(W)*sp.cos(w),G).subs(sp.cos(W)*sp.cos(i)*sp.cos(w),H).subs(sp.sin(w)*sp.cos(W)*sp.cos(i),I)"
   ]
  },
  {
   "cell_type": "code",
   "execution_count": 38,
   "id": "5da80e9b",
   "metadata": {},
   "outputs": [
    {
     "data": {
      "text/latex": [
       "$\\displaystyle - \\frac{A F \\sin{\\left(\\nu \\right)}}{e \\cos{\\left(\\nu \\right)} + 1} + \\frac{A G \\cos{\\left(\\nu \\right)}}{e \\cos{\\left(\\nu \\right)} + 1} + \\frac{A H \\sin{\\left(\\nu \\right)}}{e \\cos{\\left(\\nu \\right)} + 1} + \\frac{A I \\cos{\\left(\\nu \\right)}}{e \\cos{\\left(\\nu \\right)} + 1}$"
      ],
      "text/plain": [
       "-A*F*sin(nu)/(e*cos(nu) + 1) + A*G*cos(nu)/(e*cos(nu) + 1) + A*H*sin(nu)/(e*cos(nu) + 1) + A*I*cos(nu)/(e*cos(nu) + 1)"
      ]
     },
     "execution_count": 38,
     "metadata": {},
     "output_type": "execute_result"
    }
   ],
   "source": [
    "Y0"
   ]
  },
  {
   "cell_type": "code",
   "execution_count": 39,
   "id": "07369ed9",
   "metadata": {},
   "outputs": [
    {
     "data": {
      "text/latex": [
       "$\\displaystyle \\frac{a \\left(1 - e^{2}\\right) \\left(\\sin{\\left(\\nu \\right)} \\cos{\\left(\\omega \\right)} + \\sin{\\left(\\omega \\right)} \\cos{\\left(\\nu \\right)}\\right) \\sin{\\left(i \\right)}}{e \\cos{\\left(\\nu \\right)} + 1}$"
      ],
      "text/plain": [
       "a*(1 - e**2)*(sin(nu)*cos(omega) + sin(omega)*cos(nu))*sin(i)/(e*cos(nu) + 1)"
      ]
     },
     "execution_count": 39,
     "metadata": {},
     "output_type": "execute_result"
    }
   ],
   "source": [
    "Zp"
   ]
  },
  {
   "cell_type": "code",
   "execution_count": 40,
   "id": "7db4929b",
   "metadata": {},
   "outputs": [],
   "source": [
    "J,K= sp.symbols('J,K',real=True)"
   ]
  },
  {
   "cell_type": "code",
   "execution_count": 41,
   "id": "756c8330",
   "metadata": {},
   "outputs": [],
   "source": [
    "Z0 = sp.expand(Zp.subs(a*(1-e**2),A)).subs(sp.sin(i)*sp.cos(w),J).subs(sp.sin(i)*sp.sin(w),K)"
   ]
  },
  {
   "cell_type": "code",
   "execution_count": 42,
   "id": "5939fab6",
   "metadata": {},
   "outputs": [],
   "source": [
    "#### The new XYZ"
   ]
  },
  {
   "cell_type": "code",
   "execution_count": 43,
   "id": "efe9b6e1",
   "metadata": {},
   "outputs": [],
   "source": [
    "Ap,Bp,Cp,Dp,Ep,Fp,Gp,Hp,Ip,Jp,Kp = sp.symbols('A_p,B_p,C_p,D_p,E_p,F_p,G_p,H_p,I_p,J_p,K_p',real=True)\n",
    "Aq,Bq,Cq,Dq,Eq,Fq,Gq,Hq,Iq,Jq,Kq = sp.symbols('A_q,B_q,C_q,D_q,E_q,F_q,G_q,H_q,I_q,J_q,K_q',real=True)\n",
    "vq, vp, ep, eq = sp.symbols('nu_q, nu_p, e_p, e_q',real=True)"
   ]
  },
  {
   "cell_type": "code",
   "execution_count": 44,
   "id": "8d9108e1",
   "metadata": {},
   "outputs": [],
   "source": [
    "Xp = X0.subs(A,Ap).subs(B,Bp).subs(C,Cp).subs(D,Dp).subs(E,Ep).subs(F,Fp).subs(G,Gp).subs(H,Hp).subs(I,Ip).subs(J,Jp).subs(K,Kp).subs(v,vp).subs(e,ep)"
   ]
  },
  {
   "cell_type": "code",
   "execution_count": 45,
   "id": "db47673b",
   "metadata": {},
   "outputs": [],
   "source": [
    "Yp = Y0.subs(A,Ap).subs(B,Bp).subs(C,Cp).subs(D,Dp).subs(E,Ep).subs(F,Fp).subs(G,Gp).subs(H,Hp).subs(I,Ip).subs(J,Jp).subs(K,Kp).subs(v,vp).subs(e,ep)"
   ]
  },
  {
   "cell_type": "code",
   "execution_count": 46,
   "id": "21419b76",
   "metadata": {},
   "outputs": [],
   "source": [
    "Zp = Z0.subs(A,Ap).subs(B,Bp).subs(C,Cp).subs(D,Dp).subs(E,Ep).subs(F,Fp).subs(G,Gp).subs(H,Hp).subs(I,Ip).subs(J,Jp).subs(K,Kp).subs(v,vp).subs(e,ep)"
   ]
  },
  {
   "cell_type": "code",
   "execution_count": 47,
   "id": "e02b02b3",
   "metadata": {},
   "outputs": [
    {
     "data": {
      "text/latex": [
       "$\\displaystyle - \\frac{A B \\sin{\\left(\\nu \\right)}}{e \\cos{\\left(\\nu \\right)} + 1} - \\frac{A C \\cos{\\left(\\nu \\right)}}{e \\cos{\\left(\\nu \\right)} + 1} - \\frac{A D \\sin{\\left(\\nu \\right)}}{e \\cos{\\left(\\nu \\right)} + 1} + \\frac{A E \\cos{\\left(\\nu \\right)}}{e \\cos{\\left(\\nu \\right)} + 1}$"
      ],
      "text/plain": [
       "-A*B*sin(nu)/(e*cos(nu) + 1) - A*C*cos(nu)/(e*cos(nu) + 1) - A*D*sin(nu)/(e*cos(nu) + 1) + A*E*cos(nu)/(e*cos(nu) + 1)"
      ]
     },
     "execution_count": 47,
     "metadata": {},
     "output_type": "execute_result"
    }
   ],
   "source": [
    "X0"
   ]
  },
  {
   "cell_type": "code",
   "execution_count": 48,
   "id": "a37d3d69",
   "metadata": {},
   "outputs": [],
   "source": [
    "Xq = X0.subs(A,Aq).subs(B,Bq).subs(C,Cq).subs(D,Dq).subs(E,Eq).subs(F,Fq).subs(G,Gq).subs(H,Hq).subs(I,Iq).subs(J,Jq).subs(K,Kq).subs(v,vq).subs(e,eq)"
   ]
  },
  {
   "cell_type": "code",
   "execution_count": 49,
   "id": "1a539ed5",
   "metadata": {},
   "outputs": [],
   "source": [
    "Yq = Y0.subs(A,Aq).subs(B,Bq).subs(C,Cq).subs(D,Dq).subs(E,Eq).subs(F,Fq).subs(G,Gq).subs(H,Hq).subs(I,Iq).subs(J,Jq).subs(K,Kq).subs(v,vq).subs(e,eq)"
   ]
  },
  {
   "cell_type": "code",
   "execution_count": 50,
   "id": "7714b48d",
   "metadata": {},
   "outputs": [],
   "source": [
    "Zq = Z0.subs(A,Aq).subs(B,Bq).subs(C,Cq).subs(D,Dq).subs(E,Eq).subs(F,Fq).subs(G,Gq).subs(H,Hq).subs(I,Iq).subs(J,Jq).subs(K,Kq).subs(v,vq).subs(e,eq)"
   ]
  },
  {
   "cell_type": "code",
   "execution_count": 51,
   "id": "387d902e",
   "metadata": {},
   "outputs": [],
   "source": [
    "PQ_norm = sp.sqrt((Xq-Xp)**2+(Yq-Yp)**2+(Zq-Zp)**2)"
   ]
  },
  {
   "cell_type": "code",
   "execution_count": 52,
   "id": "aef407b5",
   "metadata": {},
   "outputs": [
    {
     "data": {
      "text/latex": [
       "$\\displaystyle - \\frac{A_{q} B_{q} \\sin{\\left(\\nu_{q} \\right)}}{e_{q} \\cos{\\left(\\nu_{q} \\right)} + 1} - \\frac{A_{q} C_{q} \\cos{\\left(\\nu_{q} \\right)}}{e_{q} \\cos{\\left(\\nu_{q} \\right)} + 1} - \\frac{A_{q} D_{q} \\sin{\\left(\\nu_{q} \\right)}}{e_{q} \\cos{\\left(\\nu_{q} \\right)} + 1} + \\frac{A_{q} E_{q} \\cos{\\left(\\nu_{q} \\right)}}{e_{q} \\cos{\\left(\\nu_{q} \\right)} + 1}$"
      ],
      "text/plain": [
       "-A_q*B_q*sin(nu_q)/(e_q*cos(nu_q) + 1) - A_q*C_q*cos(nu_q)/(e_q*cos(nu_q) + 1) - A_q*D_q*sin(nu_q)/(e_q*cos(nu_q) + 1) + A_q*E_q*cos(nu_q)/(e_q*cos(nu_q) + 1)"
      ]
     },
     "execution_count": 52,
     "metadata": {},
     "output_type": "execute_result"
    }
   ],
   "source": [
    "Xq"
   ]
  },
  {
   "cell_type": "code",
   "execution_count": 53,
   "id": "0603faad",
   "metadata": {},
   "outputs": [
    {
     "data": {
      "text/latex": [
       "$\\displaystyle \\sqrt{\\left(- \\frac{A_{p} J_{p} \\sin{\\left(\\nu_{p} \\right)}}{e_{p} \\cos{\\left(\\nu_{p} \\right)} + 1} - \\frac{A_{p} K_{p} \\cos{\\left(\\nu_{p} \\right)}}{e_{p} \\cos{\\left(\\nu_{p} \\right)} + 1} + \\frac{A_{q} J_{q} \\sin{\\left(\\nu_{q} \\right)}}{e_{q} \\cos{\\left(\\nu_{q} \\right)} + 1} + \\frac{A_{q} K_{q} \\cos{\\left(\\nu_{q} \\right)}}{e_{q} \\cos{\\left(\\nu_{q} \\right)} + 1}\\right)^{2} + \\left(\\frac{A_{p} B_{p} \\sin{\\left(\\nu_{p} \\right)}}{e_{p} \\cos{\\left(\\nu_{p} \\right)} + 1} + \\frac{A_{p} C_{p} \\cos{\\left(\\nu_{p} \\right)}}{e_{p} \\cos{\\left(\\nu_{p} \\right)} + 1} + \\frac{A_{p} D_{p} \\sin{\\left(\\nu_{p} \\right)}}{e_{p} \\cos{\\left(\\nu_{p} \\right)} + 1} - \\frac{A_{p} E_{p} \\cos{\\left(\\nu_{p} \\right)}}{e_{p} \\cos{\\left(\\nu_{p} \\right)} + 1} - \\frac{A_{q} B_{q} \\sin{\\left(\\nu_{q} \\right)}}{e_{q} \\cos{\\left(\\nu_{q} \\right)} + 1} - \\frac{A_{q} C_{q} \\cos{\\left(\\nu_{q} \\right)}}{e_{q} \\cos{\\left(\\nu_{q} \\right)} + 1} - \\frac{A_{q} D_{q} \\sin{\\left(\\nu_{q} \\right)}}{e_{q} \\cos{\\left(\\nu_{q} \\right)} + 1} + \\frac{A_{q} E_{q} \\cos{\\left(\\nu_{q} \\right)}}{e_{q} \\cos{\\left(\\nu_{q} \\right)} + 1}\\right)^{2} + \\left(\\frac{A_{p} F_{p} \\sin{\\left(\\nu_{p} \\right)}}{e_{p} \\cos{\\left(\\nu_{p} \\right)} + 1} - \\frac{A_{p} G_{p} \\cos{\\left(\\nu_{p} \\right)}}{e_{p} \\cos{\\left(\\nu_{p} \\right)} + 1} - \\frac{A_{p} H_{p} \\sin{\\left(\\nu_{p} \\right)}}{e_{p} \\cos{\\left(\\nu_{p} \\right)} + 1} - \\frac{A_{p} I_{p} \\cos{\\left(\\nu_{p} \\right)}}{e_{p} \\cos{\\left(\\nu_{p} \\right)} + 1} - \\frac{A_{q} F_{q} \\sin{\\left(\\nu_{q} \\right)}}{e_{q} \\cos{\\left(\\nu_{q} \\right)} + 1} + \\frac{A_{q} G_{q} \\cos{\\left(\\nu_{q} \\right)}}{e_{q} \\cos{\\left(\\nu_{q} \\right)} + 1} + \\frac{A_{q} H_{q} \\sin{\\left(\\nu_{q} \\right)}}{e_{q} \\cos{\\left(\\nu_{q} \\right)} + 1} + \\frac{A_{q} I_{q} \\cos{\\left(\\nu_{q} \\right)}}{e_{q} \\cos{\\left(\\nu_{q} \\right)} + 1}\\right)^{2}}$"
      ],
      "text/plain": [
       "sqrt((-A_p*J_p*sin(nu_p)/(e_p*cos(nu_p) + 1) - A_p*K_p*cos(nu_p)/(e_p*cos(nu_p) + 1) + A_q*J_q*sin(nu_q)/(e_q*cos(nu_q) + 1) + A_q*K_q*cos(nu_q)/(e_q*cos(nu_q) + 1))**2 + (A_p*B_p*sin(nu_p)/(e_p*cos(nu_p) + 1) + A_p*C_p*cos(nu_p)/(e_p*cos(nu_p) + 1) + A_p*D_p*sin(nu_p)/(e_p*cos(nu_p) + 1) - A_p*E_p*cos(nu_p)/(e_p*cos(nu_p) + 1) - A_q*B_q*sin(nu_q)/(e_q*cos(nu_q) + 1) - A_q*C_q*cos(nu_q)/(e_q*cos(nu_q) + 1) - A_q*D_q*sin(nu_q)/(e_q*cos(nu_q) + 1) + A_q*E_q*cos(nu_q)/(e_q*cos(nu_q) + 1))**2 + (A_p*F_p*sin(nu_p)/(e_p*cos(nu_p) + 1) - A_p*G_p*cos(nu_p)/(e_p*cos(nu_p) + 1) - A_p*H_p*sin(nu_p)/(e_p*cos(nu_p) + 1) - A_p*I_p*cos(nu_p)/(e_p*cos(nu_p) + 1) - A_q*F_q*sin(nu_q)/(e_q*cos(nu_q) + 1) + A_q*G_q*cos(nu_q)/(e_q*cos(nu_q) + 1) + A_q*H_q*sin(nu_q)/(e_q*cos(nu_q) + 1) + A_q*I_q*cos(nu_q)/(e_q*cos(nu_q) + 1))**2)"
      ]
     },
     "execution_count": 53,
     "metadata": {},
     "output_type": "execute_result"
    }
   ],
   "source": [
    "PQ_norm"
   ]
  },
  {
   "cell_type": "code",
   "execution_count": 54,
   "id": "57c7efb8",
   "metadata": {},
   "outputs": [],
   "source": [
    "#Compute unit vector from P to Q terms\n",
    "ahat = (Xq-Xp)/PQ_norm\n",
    "bhat = (Yq-Yp)/PQ_norm\n",
    "chat = (Zq-Zp)/PQ_norm"
   ]
  },
  {
   "cell_type": "code",
   "execution_count": 55,
   "id": "68863f79",
   "metadata": {},
   "outputs": [
    {
     "data": {
      "text/latex": [
       "$\\displaystyle \\frac{A_{p} B_{p} \\sin{\\left(\\nu_{p} \\right)}}{e_{p} \\cos{\\left(\\nu_{p} \\right)} + 1} + \\frac{A_{p} C_{p} \\cos{\\left(\\nu_{p} \\right)}}{e_{p} \\cos{\\left(\\nu_{p} \\right)} + 1} + \\frac{A_{p} D_{p} \\sin{\\left(\\nu_{p} \\right)}}{e_{p} \\cos{\\left(\\nu_{p} \\right)} + 1} - \\frac{A_{p} E_{p} \\cos{\\left(\\nu_{p} \\right)}}{e_{p} \\cos{\\left(\\nu_{p} \\right)} + 1} - \\frac{A_{q} B_{q} \\sin{\\left(\\nu_{q} \\right)}}{e_{q} \\cos{\\left(\\nu_{q} \\right)} + 1} - \\frac{A_{q} C_{q} \\cos{\\left(\\nu_{q} \\right)}}{e_{q} \\cos{\\left(\\nu_{q} \\right)} + 1} - \\frac{A_{q} D_{q} \\sin{\\left(\\nu_{q} \\right)}}{e_{q} \\cos{\\left(\\nu_{q} \\right)} + 1} + \\frac{A_{q} E_{q} \\cos{\\left(\\nu_{q} \\right)}}{e_{q} \\cos{\\left(\\nu_{q} \\right)} + 1}$"
      ],
      "text/plain": [
       "A_p*B_p*sin(nu_p)/(e_p*cos(nu_p) + 1) + A_p*C_p*cos(nu_p)/(e_p*cos(nu_p) + 1) + A_p*D_p*sin(nu_p)/(e_p*cos(nu_p) + 1) - A_p*E_p*cos(nu_p)/(e_p*cos(nu_p) + 1) - A_q*B_q*sin(nu_q)/(e_q*cos(nu_q) + 1) - A_q*C_q*cos(nu_q)/(e_q*cos(nu_q) + 1) - A_q*D_q*sin(nu_q)/(e_q*cos(nu_q) + 1) + A_q*E_q*cos(nu_q)/(e_q*cos(nu_q) + 1)"
      ]
     },
     "execution_count": 55,
     "metadata": {},
     "output_type": "execute_result"
    }
   ],
   "source": [
    "Xq-Xp"
   ]
  },
  {
   "cell_type": "code",
   "execution_count": 56,
   "id": "6ebdee5c",
   "metadata": {},
   "outputs": [
    {
     "data": {
      "text/latex": [
       "$\\displaystyle \\frac{\\left(- \\frac{A_{p} B_{p} \\sin{\\left(\\nu_{p} \\right)}}{e_{p} \\cos{\\left(\\nu_{p} \\right)} + 1} - \\frac{A_{p} C_{p} \\cos{\\left(\\nu_{p} \\right)}}{e_{p} \\cos{\\left(\\nu_{p} \\right)} + 1} - \\frac{A_{p} D_{p} \\sin{\\left(\\nu_{p} \\right)}}{e_{p} \\cos{\\left(\\nu_{p} \\right)} + 1} + \\frac{A_{p} E_{p} \\cos{\\left(\\nu_{p} \\right)}}{e_{p} \\cos{\\left(\\nu_{p} \\right)} + 1}\\right) \\left(\\frac{A_{p} B_{p} \\sin{\\left(\\nu_{p} \\right)}}{e_{p} \\cos{\\left(\\nu_{p} \\right)} + 1} + \\frac{A_{p} C_{p} \\cos{\\left(\\nu_{p} \\right)}}{e_{p} \\cos{\\left(\\nu_{p} \\right)} + 1} + \\frac{A_{p} D_{p} \\sin{\\left(\\nu_{p} \\right)}}{e_{p} \\cos{\\left(\\nu_{p} \\right)} + 1} - \\frac{A_{p} E_{p} \\cos{\\left(\\nu_{p} \\right)}}{e_{p} \\cos{\\left(\\nu_{p} \\right)} + 1} - \\frac{A_{q} B_{q} \\sin{\\left(\\nu_{q} \\right)}}{e_{q} \\cos{\\left(\\nu_{q} \\right)} + 1} - \\frac{A_{q} C_{q} \\cos{\\left(\\nu_{q} \\right)}}{e_{q} \\cos{\\left(\\nu_{q} \\right)} + 1} - \\frac{A_{q} D_{q} \\sin{\\left(\\nu_{q} \\right)}}{e_{q} \\cos{\\left(\\nu_{q} \\right)} + 1} + \\frac{A_{q} E_{q} \\cos{\\left(\\nu_{q} \\right)}}{e_{q} \\cos{\\left(\\nu_{q} \\right)} + 1}\\right)}{\\sqrt{\\left(- \\frac{A_{p} J_{p} \\sin{\\left(\\nu_{p} \\right)}}{e_{p} \\cos{\\left(\\nu_{p} \\right)} + 1} - \\frac{A_{p} K_{p} \\cos{\\left(\\nu_{p} \\right)}}{e_{p} \\cos{\\left(\\nu_{p} \\right)} + 1} + \\frac{A_{q} J_{q} \\sin{\\left(\\nu_{q} \\right)}}{e_{q} \\cos{\\left(\\nu_{q} \\right)} + 1} + \\frac{A_{q} K_{q} \\cos{\\left(\\nu_{q} \\right)}}{e_{q} \\cos{\\left(\\nu_{q} \\right)} + 1}\\right)^{2} + \\left(\\frac{A_{p} B_{p} \\sin{\\left(\\nu_{p} \\right)}}{e_{p} \\cos{\\left(\\nu_{p} \\right)} + 1} + \\frac{A_{p} C_{p} \\cos{\\left(\\nu_{p} \\right)}}{e_{p} \\cos{\\left(\\nu_{p} \\right)} + 1} + \\frac{A_{p} D_{p} \\sin{\\left(\\nu_{p} \\right)}}{e_{p} \\cos{\\left(\\nu_{p} \\right)} + 1} - \\frac{A_{p} E_{p} \\cos{\\left(\\nu_{p} \\right)}}{e_{p} \\cos{\\left(\\nu_{p} \\right)} + 1} - \\frac{A_{q} B_{q} \\sin{\\left(\\nu_{q} \\right)}}{e_{q} \\cos{\\left(\\nu_{q} \\right)} + 1} - \\frac{A_{q} C_{q} \\cos{\\left(\\nu_{q} \\right)}}{e_{q} \\cos{\\left(\\nu_{q} \\right)} + 1} - \\frac{A_{q} D_{q} \\sin{\\left(\\nu_{q} \\right)}}{e_{q} \\cos{\\left(\\nu_{q} \\right)} + 1} + \\frac{A_{q} E_{q} \\cos{\\left(\\nu_{q} \\right)}}{e_{q} \\cos{\\left(\\nu_{q} \\right)} + 1}\\right)^{2} + \\left(\\frac{A_{p} F_{p} \\sin{\\left(\\nu_{p} \\right)}}{e_{p} \\cos{\\left(\\nu_{p} \\right)} + 1} - \\frac{A_{p} G_{p} \\cos{\\left(\\nu_{p} \\right)}}{e_{p} \\cos{\\left(\\nu_{p} \\right)} + 1} - \\frac{A_{p} H_{p} \\sin{\\left(\\nu_{p} \\right)}}{e_{p} \\cos{\\left(\\nu_{p} \\right)} + 1} - \\frac{A_{p} I_{p} \\cos{\\left(\\nu_{p} \\right)}}{e_{p} \\cos{\\left(\\nu_{p} \\right)} + 1} - \\frac{A_{q} F_{q} \\sin{\\left(\\nu_{q} \\right)}}{e_{q} \\cos{\\left(\\nu_{q} \\right)} + 1} + \\frac{A_{q} G_{q} \\cos{\\left(\\nu_{q} \\right)}}{e_{q} \\cos{\\left(\\nu_{q} \\right)} + 1} + \\frac{A_{q} H_{q} \\sin{\\left(\\nu_{q} \\right)}}{e_{q} \\cos{\\left(\\nu_{q} \\right)} + 1} + \\frac{A_{q} I_{q} \\cos{\\left(\\nu_{q} \\right)}}{e_{q} \\cos{\\left(\\nu_{q} \\right)} + 1}\\right)^{2}}}$"
      ],
      "text/plain": [
       "(-A_p*B_p*sin(nu_p)/(e_p*cos(nu_p) + 1) - A_p*C_p*cos(nu_p)/(e_p*cos(nu_p) + 1) - A_p*D_p*sin(nu_p)/(e_p*cos(nu_p) + 1) + A_p*E_p*cos(nu_p)/(e_p*cos(nu_p) + 1))*(A_p*B_p*sin(nu_p)/(e_p*cos(nu_p) + 1) + A_p*C_p*cos(nu_p)/(e_p*cos(nu_p) + 1) + A_p*D_p*sin(nu_p)/(e_p*cos(nu_p) + 1) - A_p*E_p*cos(nu_p)/(e_p*cos(nu_p) + 1) - A_q*B_q*sin(nu_q)/(e_q*cos(nu_q) + 1) - A_q*C_q*cos(nu_q)/(e_q*cos(nu_q) + 1) - A_q*D_q*sin(nu_q)/(e_q*cos(nu_q) + 1) + A_q*E_q*cos(nu_q)/(e_q*cos(nu_q) + 1))/sqrt((-A_p*J_p*sin(nu_p)/(e_p*cos(nu_p) + 1) - A_p*K_p*cos(nu_p)/(e_p*cos(nu_p) + 1) + A_q*J_q*sin(nu_q)/(e_q*cos(nu_q) + 1) + A_q*K_q*cos(nu_q)/(e_q*cos(nu_q) + 1))**2 + (A_p*B_p*sin(nu_p)/(e_p*cos(nu_p) + 1) + A_p*C_p*cos(nu_p)/(e_p*cos(nu_p) + 1) + A_p*D_p*sin(nu_p)/(e_p*cos(nu_p) + 1) - A_p*E_p*cos(nu_p)/(e_p*cos(nu_p) + 1) - A_q*B_q*sin(nu_q)/(e_q*cos(nu_q) + 1) - A_q*C_q*cos(nu_q)/(e_q*cos(nu_q) + 1) - A_q*D_q*sin(nu_q)/(e_q*cos(nu_q) + 1) + A_q*E_q*cos(nu_q)/(e_q*cos(nu_q) + 1))**2 + (A_p*F_p*sin(nu_p)/(e_p*cos(nu_p) + 1) - A_p*G_p*cos(nu_p)/(e_p*cos(nu_p) + 1) - A_p*H_p*sin(nu_p)/(e_p*cos(nu_p) + 1) - A_p*I_p*cos(nu_p)/(e_p*cos(nu_p) + 1) - A_q*F_q*sin(nu_q)/(e_q*cos(nu_q) + 1) + A_q*G_q*cos(nu_q)/(e_q*cos(nu_q) + 1) + A_q*H_q*sin(nu_q)/(e_q*cos(nu_q) + 1) + A_q*I_q*cos(nu_q)/(e_q*cos(nu_q) + 1))**2)"
      ]
     },
     "execution_count": 56,
     "metadata": {},
     "output_type": "execute_result"
    }
   ],
   "source": [
    "ahat*Xp"
   ]
  },
  {
   "cell_type": "code",
   "execution_count": 57,
   "id": "56356f81",
   "metadata": {},
   "outputs": [],
   "source": [
    "n,d = sp.fraction(ahat*Xp)"
   ]
  },
  {
   "cell_type": "code",
   "execution_count": 58,
   "id": "fc45b104",
   "metadata": {},
   "outputs": [
    {
     "data": {
      "text/latex": [
       "$\\displaystyle \\left(- \\frac{A_{p} B_{p} \\sin{\\left(\\nu_{p} \\right)}}{e_{p} \\cos{\\left(\\nu_{p} \\right)} + 1} - \\frac{A_{p} C_{p} \\cos{\\left(\\nu_{p} \\right)}}{e_{p} \\cos{\\left(\\nu_{p} \\right)} + 1} - \\frac{A_{p} D_{p} \\sin{\\left(\\nu_{p} \\right)}}{e_{p} \\cos{\\left(\\nu_{p} \\right)} + 1} + \\frac{A_{p} E_{p} \\cos{\\left(\\nu_{p} \\right)}}{e_{p} \\cos{\\left(\\nu_{p} \\right)} + 1}\\right) \\left(\\frac{A_{p} B_{p} \\sin{\\left(\\nu_{p} \\right)}}{e_{p} \\cos{\\left(\\nu_{p} \\right)} + 1} + \\frac{A_{p} C_{p} \\cos{\\left(\\nu_{p} \\right)}}{e_{p} \\cos{\\left(\\nu_{p} \\right)} + 1} + \\frac{A_{p} D_{p} \\sin{\\left(\\nu_{p} \\right)}}{e_{p} \\cos{\\left(\\nu_{p} \\right)} + 1} - \\frac{A_{p} E_{p} \\cos{\\left(\\nu_{p} \\right)}}{e_{p} \\cos{\\left(\\nu_{p} \\right)} + 1} - \\frac{A_{q} B_{q} \\sin{\\left(\\nu_{q} \\right)}}{e_{q} \\cos{\\left(\\nu_{q} \\right)} + 1} - \\frac{A_{q} C_{q} \\cos{\\left(\\nu_{q} \\right)}}{e_{q} \\cos{\\left(\\nu_{q} \\right)} + 1} - \\frac{A_{q} D_{q} \\sin{\\left(\\nu_{q} \\right)}}{e_{q} \\cos{\\left(\\nu_{q} \\right)} + 1} + \\frac{A_{q} E_{q} \\cos{\\left(\\nu_{q} \\right)}}{e_{q} \\cos{\\left(\\nu_{q} \\right)} + 1}\\right)$"
      ],
      "text/plain": [
       "(-A_p*B_p*sin(nu_p)/(e_p*cos(nu_p) + 1) - A_p*C_p*cos(nu_p)/(e_p*cos(nu_p) + 1) - A_p*D_p*sin(nu_p)/(e_p*cos(nu_p) + 1) + A_p*E_p*cos(nu_p)/(e_p*cos(nu_p) + 1))*(A_p*B_p*sin(nu_p)/(e_p*cos(nu_p) + 1) + A_p*C_p*cos(nu_p)/(e_p*cos(nu_p) + 1) + A_p*D_p*sin(nu_p)/(e_p*cos(nu_p) + 1) - A_p*E_p*cos(nu_p)/(e_p*cos(nu_p) + 1) - A_q*B_q*sin(nu_q)/(e_q*cos(nu_q) + 1) - A_q*C_q*cos(nu_q)/(e_q*cos(nu_q) + 1) - A_q*D_q*sin(nu_q)/(e_q*cos(nu_q) + 1) + A_q*E_q*cos(nu_q)/(e_q*cos(nu_q) + 1))"
      ]
     },
     "execution_count": 58,
     "metadata": {},
     "output_type": "execute_result"
    }
   ],
   "source": [
    "n"
   ]
  },
  {
   "cell_type": "code",
   "execution_count": 59,
   "id": "09a633c0",
   "metadata": {},
   "outputs": [
    {
     "data": {
      "text/latex": [
       "$\\displaystyle \\sqrt{\\left(- \\frac{A_{p} J_{p} \\sin{\\left(\\nu_{p} \\right)}}{e_{p} \\cos{\\left(\\nu_{p} \\right)} + 1} - \\frac{A_{p} K_{p} \\cos{\\left(\\nu_{p} \\right)}}{e_{p} \\cos{\\left(\\nu_{p} \\right)} + 1} + \\frac{A_{q} J_{q} \\sin{\\left(\\nu_{q} \\right)}}{e_{q} \\cos{\\left(\\nu_{q} \\right)} + 1} + \\frac{A_{q} K_{q} \\cos{\\left(\\nu_{q} \\right)}}{e_{q} \\cos{\\left(\\nu_{q} \\right)} + 1}\\right)^{2} + \\left(\\frac{A_{p} B_{p} \\sin{\\left(\\nu_{p} \\right)}}{e_{p} \\cos{\\left(\\nu_{p} \\right)} + 1} + \\frac{A_{p} C_{p} \\cos{\\left(\\nu_{p} \\right)}}{e_{p} \\cos{\\left(\\nu_{p} \\right)} + 1} + \\frac{A_{p} D_{p} \\sin{\\left(\\nu_{p} \\right)}}{e_{p} \\cos{\\left(\\nu_{p} \\right)} + 1} - \\frac{A_{p} E_{p} \\cos{\\left(\\nu_{p} \\right)}}{e_{p} \\cos{\\left(\\nu_{p} \\right)} + 1} - \\frac{A_{q} B_{q} \\sin{\\left(\\nu_{q} \\right)}}{e_{q} \\cos{\\left(\\nu_{q} \\right)} + 1} - \\frac{A_{q} C_{q} \\cos{\\left(\\nu_{q} \\right)}}{e_{q} \\cos{\\left(\\nu_{q} \\right)} + 1} - \\frac{A_{q} D_{q} \\sin{\\left(\\nu_{q} \\right)}}{e_{q} \\cos{\\left(\\nu_{q} \\right)} + 1} + \\frac{A_{q} E_{q} \\cos{\\left(\\nu_{q} \\right)}}{e_{q} \\cos{\\left(\\nu_{q} \\right)} + 1}\\right)^{2} + \\left(\\frac{A_{p} F_{p} \\sin{\\left(\\nu_{p} \\right)}}{e_{p} \\cos{\\left(\\nu_{p} \\right)} + 1} - \\frac{A_{p} G_{p} \\cos{\\left(\\nu_{p} \\right)}}{e_{p} \\cos{\\left(\\nu_{p} \\right)} + 1} - \\frac{A_{p} H_{p} \\sin{\\left(\\nu_{p} \\right)}}{e_{p} \\cos{\\left(\\nu_{p} \\right)} + 1} - \\frac{A_{p} I_{p} \\cos{\\left(\\nu_{p} \\right)}}{e_{p} \\cos{\\left(\\nu_{p} \\right)} + 1} - \\frac{A_{q} F_{q} \\sin{\\left(\\nu_{q} \\right)}}{e_{q} \\cos{\\left(\\nu_{q} \\right)} + 1} + \\frac{A_{q} G_{q} \\cos{\\left(\\nu_{q} \\right)}}{e_{q} \\cos{\\left(\\nu_{q} \\right)} + 1} + \\frac{A_{q} H_{q} \\sin{\\left(\\nu_{q} \\right)}}{e_{q} \\cos{\\left(\\nu_{q} \\right)} + 1} + \\frac{A_{q} I_{q} \\cos{\\left(\\nu_{q} \\right)}}{e_{q} \\cos{\\left(\\nu_{q} \\right)} + 1}\\right)^{2}}$"
      ],
      "text/plain": [
       "sqrt((-A_p*J_p*sin(nu_p)/(e_p*cos(nu_p) + 1) - A_p*K_p*cos(nu_p)/(e_p*cos(nu_p) + 1) + A_q*J_q*sin(nu_q)/(e_q*cos(nu_q) + 1) + A_q*K_q*cos(nu_q)/(e_q*cos(nu_q) + 1))**2 + (A_p*B_p*sin(nu_p)/(e_p*cos(nu_p) + 1) + A_p*C_p*cos(nu_p)/(e_p*cos(nu_p) + 1) + A_p*D_p*sin(nu_p)/(e_p*cos(nu_p) + 1) - A_p*E_p*cos(nu_p)/(e_p*cos(nu_p) + 1) - A_q*B_q*sin(nu_q)/(e_q*cos(nu_q) + 1) - A_q*C_q*cos(nu_q)/(e_q*cos(nu_q) + 1) - A_q*D_q*sin(nu_q)/(e_q*cos(nu_q) + 1) + A_q*E_q*cos(nu_q)/(e_q*cos(nu_q) + 1))**2 + (A_p*F_p*sin(nu_p)/(e_p*cos(nu_p) + 1) - A_p*G_p*cos(nu_p)/(e_p*cos(nu_p) + 1) - A_p*H_p*sin(nu_p)/(e_p*cos(nu_p) + 1) - A_p*I_p*cos(nu_p)/(e_p*cos(nu_p) + 1) - A_q*F_q*sin(nu_q)/(e_q*cos(nu_q) + 1) + A_q*G_q*cos(nu_q)/(e_q*cos(nu_q) + 1) + A_q*H_q*sin(nu_q)/(e_q*cos(nu_q) + 1) + A_q*I_q*cos(nu_q)/(e_q*cos(nu_q) + 1))**2)"
      ]
     },
     "execution_count": 59,
     "metadata": {},
     "output_type": "execute_result"
    }
   ],
   "source": [
    "d"
   ]
  },
  {
   "cell_type": "code",
   "execution_count": 60,
   "id": "4f7a6af5",
   "metadata": {},
   "outputs": [],
   "source": [
    "#h = (-(Xq-Xp)*Xp-(Yq-Yp)*Yp-(Zq-Zp)*Zp)/PQ_norm/(((Xq-Xp)**2+(Yq-Yp)**2+(Zq-Zp)**2)/PQ_norm**2)\n",
    "#simplifying by moving the PQ_norm\n",
    "h = (-(Xq-Xp)*Xp-(Yq-Yp)*Yp-(Zq-Zp)*Zp)*PQ_norm/((Xq-Xp)**2+(Yq-Yp)**2+(Zq-Zp)**2)"
   ]
  },
  {
   "cell_type": "code",
   "execution_count": 61,
   "id": "c3c6507a",
   "metadata": {},
   "outputs": [
    {
     "data": {
      "text/latex": [
       "$\\displaystyle \\frac{- \\left(\\frac{A_{p} J_{p} \\sin{\\left(\\nu_{p} \\right)}}{e_{p} \\cos{\\left(\\nu_{p} \\right)} + 1} + \\frac{A_{p} K_{p} \\cos{\\left(\\nu_{p} \\right)}}{e_{p} \\cos{\\left(\\nu_{p} \\right)} + 1}\\right) \\left(- \\frac{A_{p} J_{p} \\sin{\\left(\\nu_{p} \\right)}}{e_{p} \\cos{\\left(\\nu_{p} \\right)} + 1} - \\frac{A_{p} K_{p} \\cos{\\left(\\nu_{p} \\right)}}{e_{p} \\cos{\\left(\\nu_{p} \\right)} + 1} + \\frac{A_{q} J_{q} \\sin{\\left(\\nu_{q} \\right)}}{e_{q} \\cos{\\left(\\nu_{q} \\right)} + 1} + \\frac{A_{q} K_{q} \\cos{\\left(\\nu_{q} \\right)}}{e_{q} \\cos{\\left(\\nu_{q} \\right)} + 1}\\right) + \\left(- \\frac{A_{p} B_{p} \\sin{\\left(\\nu_{p} \\right)}}{e_{p} \\cos{\\left(\\nu_{p} \\right)} + 1} - \\frac{A_{p} C_{p} \\cos{\\left(\\nu_{p} \\right)}}{e_{p} \\cos{\\left(\\nu_{p} \\right)} + 1} - \\frac{A_{p} D_{p} \\sin{\\left(\\nu_{p} \\right)}}{e_{p} \\cos{\\left(\\nu_{p} \\right)} + 1} + \\frac{A_{p} E_{p} \\cos{\\left(\\nu_{p} \\right)}}{e_{p} \\cos{\\left(\\nu_{p} \\right)} + 1}\\right) \\left(- \\frac{A_{p} B_{p} \\sin{\\left(\\nu_{p} \\right)}}{e_{p} \\cos{\\left(\\nu_{p} \\right)} + 1} - \\frac{A_{p} C_{p} \\cos{\\left(\\nu_{p} \\right)}}{e_{p} \\cos{\\left(\\nu_{p} \\right)} + 1} - \\frac{A_{p} D_{p} \\sin{\\left(\\nu_{p} \\right)}}{e_{p} \\cos{\\left(\\nu_{p} \\right)} + 1} + \\frac{A_{p} E_{p} \\cos{\\left(\\nu_{p} \\right)}}{e_{p} \\cos{\\left(\\nu_{p} \\right)} + 1} + \\frac{A_{q} B_{q} \\sin{\\left(\\nu_{q} \\right)}}{e_{q} \\cos{\\left(\\nu_{q} \\right)} + 1} + \\frac{A_{q} C_{q} \\cos{\\left(\\nu_{q} \\right)}}{e_{q} \\cos{\\left(\\nu_{q} \\right)} + 1} + \\frac{A_{q} D_{q} \\sin{\\left(\\nu_{q} \\right)}}{e_{q} \\cos{\\left(\\nu_{q} \\right)} + 1} - \\frac{A_{q} E_{q} \\cos{\\left(\\nu_{q} \\right)}}{e_{q} \\cos{\\left(\\nu_{q} \\right)} + 1}\\right) - \\left(- \\frac{A_{p} F_{p} \\sin{\\left(\\nu_{p} \\right)}}{e_{p} \\cos{\\left(\\nu_{p} \\right)} + 1} + \\frac{A_{p} G_{p} \\cos{\\left(\\nu_{p} \\right)}}{e_{p} \\cos{\\left(\\nu_{p} \\right)} + 1} + \\frac{A_{p} H_{p} \\sin{\\left(\\nu_{p} \\right)}}{e_{p} \\cos{\\left(\\nu_{p} \\right)} + 1} + \\frac{A_{p} I_{p} \\cos{\\left(\\nu_{p} \\right)}}{e_{p} \\cos{\\left(\\nu_{p} \\right)} + 1}\\right) \\left(\\frac{A_{p} F_{p} \\sin{\\left(\\nu_{p} \\right)}}{e_{p} \\cos{\\left(\\nu_{p} \\right)} + 1} - \\frac{A_{p} G_{p} \\cos{\\left(\\nu_{p} \\right)}}{e_{p} \\cos{\\left(\\nu_{p} \\right)} + 1} - \\frac{A_{p} H_{p} \\sin{\\left(\\nu_{p} \\right)}}{e_{p} \\cos{\\left(\\nu_{p} \\right)} + 1} - \\frac{A_{p} I_{p} \\cos{\\left(\\nu_{p} \\right)}}{e_{p} \\cos{\\left(\\nu_{p} \\right)} + 1} - \\frac{A_{q} F_{q} \\sin{\\left(\\nu_{q} \\right)}}{e_{q} \\cos{\\left(\\nu_{q} \\right)} + 1} + \\frac{A_{q} G_{q} \\cos{\\left(\\nu_{q} \\right)}}{e_{q} \\cos{\\left(\\nu_{q} \\right)} + 1} + \\frac{A_{q} H_{q} \\sin{\\left(\\nu_{q} \\right)}}{e_{q} \\cos{\\left(\\nu_{q} \\right)} + 1} + \\frac{A_{q} I_{q} \\cos{\\left(\\nu_{q} \\right)}}{e_{q} \\cos{\\left(\\nu_{q} \\right)} + 1}\\right)}{\\sqrt{\\left(- \\frac{A_{p} J_{p} \\sin{\\left(\\nu_{p} \\right)}}{e_{p} \\cos{\\left(\\nu_{p} \\right)} + 1} - \\frac{A_{p} K_{p} \\cos{\\left(\\nu_{p} \\right)}}{e_{p} \\cos{\\left(\\nu_{p} \\right)} + 1} + \\frac{A_{q} J_{q} \\sin{\\left(\\nu_{q} \\right)}}{e_{q} \\cos{\\left(\\nu_{q} \\right)} + 1} + \\frac{A_{q} K_{q} \\cos{\\left(\\nu_{q} \\right)}}{e_{q} \\cos{\\left(\\nu_{q} \\right)} + 1}\\right)^{2} + \\left(\\frac{A_{p} B_{p} \\sin{\\left(\\nu_{p} \\right)}}{e_{p} \\cos{\\left(\\nu_{p} \\right)} + 1} + \\frac{A_{p} C_{p} \\cos{\\left(\\nu_{p} \\right)}}{e_{p} \\cos{\\left(\\nu_{p} \\right)} + 1} + \\frac{A_{p} D_{p} \\sin{\\left(\\nu_{p} \\right)}}{e_{p} \\cos{\\left(\\nu_{p} \\right)} + 1} - \\frac{A_{p} E_{p} \\cos{\\left(\\nu_{p} \\right)}}{e_{p} \\cos{\\left(\\nu_{p} \\right)} + 1} - \\frac{A_{q} B_{q} \\sin{\\left(\\nu_{q} \\right)}}{e_{q} \\cos{\\left(\\nu_{q} \\right)} + 1} - \\frac{A_{q} C_{q} \\cos{\\left(\\nu_{q} \\right)}}{e_{q} \\cos{\\left(\\nu_{q} \\right)} + 1} - \\frac{A_{q} D_{q} \\sin{\\left(\\nu_{q} \\right)}}{e_{q} \\cos{\\left(\\nu_{q} \\right)} + 1} + \\frac{A_{q} E_{q} \\cos{\\left(\\nu_{q} \\right)}}{e_{q} \\cos{\\left(\\nu_{q} \\right)} + 1}\\right)^{2} + \\left(\\frac{A_{p} F_{p} \\sin{\\left(\\nu_{p} \\right)}}{e_{p} \\cos{\\left(\\nu_{p} \\right)} + 1} - \\frac{A_{p} G_{p} \\cos{\\left(\\nu_{p} \\right)}}{e_{p} \\cos{\\left(\\nu_{p} \\right)} + 1} - \\frac{A_{p} H_{p} \\sin{\\left(\\nu_{p} \\right)}}{e_{p} \\cos{\\left(\\nu_{p} \\right)} + 1} - \\frac{A_{p} I_{p} \\cos{\\left(\\nu_{p} \\right)}}{e_{p} \\cos{\\left(\\nu_{p} \\right)} + 1} - \\frac{A_{q} F_{q} \\sin{\\left(\\nu_{q} \\right)}}{e_{q} \\cos{\\left(\\nu_{q} \\right)} + 1} + \\frac{A_{q} G_{q} \\cos{\\left(\\nu_{q} \\right)}}{e_{q} \\cos{\\left(\\nu_{q} \\right)} + 1} + \\frac{A_{q} H_{q} \\sin{\\left(\\nu_{q} \\right)}}{e_{q} \\cos{\\left(\\nu_{q} \\right)} + 1} + \\frac{A_{q} I_{q} \\cos{\\left(\\nu_{q} \\right)}}{e_{q} \\cos{\\left(\\nu_{q} \\right)} + 1}\\right)^{2}}}$"
      ],
      "text/plain": [
       "(-(A_p*J_p*sin(nu_p)/(e_p*cos(nu_p) + 1) + A_p*K_p*cos(nu_p)/(e_p*cos(nu_p) + 1))*(-A_p*J_p*sin(nu_p)/(e_p*cos(nu_p) + 1) - A_p*K_p*cos(nu_p)/(e_p*cos(nu_p) + 1) + A_q*J_q*sin(nu_q)/(e_q*cos(nu_q) + 1) + A_q*K_q*cos(nu_q)/(e_q*cos(nu_q) + 1)) + (-A_p*B_p*sin(nu_p)/(e_p*cos(nu_p) + 1) - A_p*C_p*cos(nu_p)/(e_p*cos(nu_p) + 1) - A_p*D_p*sin(nu_p)/(e_p*cos(nu_p) + 1) + A_p*E_p*cos(nu_p)/(e_p*cos(nu_p) + 1))*(-A_p*B_p*sin(nu_p)/(e_p*cos(nu_p) + 1) - A_p*C_p*cos(nu_p)/(e_p*cos(nu_p) + 1) - A_p*D_p*sin(nu_p)/(e_p*cos(nu_p) + 1) + A_p*E_p*cos(nu_p)/(e_p*cos(nu_p) + 1) + A_q*B_q*sin(nu_q)/(e_q*cos(nu_q) + 1) + A_q*C_q*cos(nu_q)/(e_q*cos(nu_q) + 1) + A_q*D_q*sin(nu_q)/(e_q*cos(nu_q) + 1) - A_q*E_q*cos(nu_q)/(e_q*cos(nu_q) + 1)) - (-A_p*F_p*sin(nu_p)/(e_p*cos(nu_p) + 1) + A_p*G_p*cos(nu_p)/(e_p*cos(nu_p) + 1) + A_p*H_p*sin(nu_p)/(e_p*cos(nu_p) + 1) + A_p*I_p*cos(nu_p)/(e_p*cos(nu_p) + 1))*(A_p*F_p*sin(nu_p)/(e_p*cos(nu_p) + 1) - A_p*G_p*cos(nu_p)/(e_p*cos(nu_p) + 1) - A_p*H_p*sin(nu_p)/(e_p*cos(nu_p) + 1) - A_p*I_p*cos(nu_p)/(e_p*cos(nu_p) + 1) - A_q*F_q*sin(nu_q)/(e_q*cos(nu_q) + 1) + A_q*G_q*cos(nu_q)/(e_q*cos(nu_q) + 1) + A_q*H_q*sin(nu_q)/(e_q*cos(nu_q) + 1) + A_q*I_q*cos(nu_q)/(e_q*cos(nu_q) + 1)))/sqrt((-A_p*J_p*sin(nu_p)/(e_p*cos(nu_p) + 1) - A_p*K_p*cos(nu_p)/(e_p*cos(nu_p) + 1) + A_q*J_q*sin(nu_q)/(e_q*cos(nu_q) + 1) + A_q*K_q*cos(nu_q)/(e_q*cos(nu_q) + 1))**2 + (A_p*B_p*sin(nu_p)/(e_p*cos(nu_p) + 1) + A_p*C_p*cos(nu_p)/(e_p*cos(nu_p) + 1) + A_p*D_p*sin(nu_p)/(e_p*cos(nu_p) + 1) - A_p*E_p*cos(nu_p)/(e_p*cos(nu_p) + 1) - A_q*B_q*sin(nu_q)/(e_q*cos(nu_q) + 1) - A_q*C_q*cos(nu_q)/(e_q*cos(nu_q) + 1) - A_q*D_q*sin(nu_q)/(e_q*cos(nu_q) + 1) + A_q*E_q*cos(nu_q)/(e_q*cos(nu_q) + 1))**2 + (A_p*F_p*sin(nu_p)/(e_p*cos(nu_p) + 1) - A_p*G_p*cos(nu_p)/(e_p*cos(nu_p) + 1) - A_p*H_p*sin(nu_p)/(e_p*cos(nu_p) + 1) - A_p*I_p*cos(nu_p)/(e_p*cos(nu_p) + 1) - A_q*F_q*sin(nu_q)/(e_q*cos(nu_q) + 1) + A_q*G_q*cos(nu_q)/(e_q*cos(nu_q) + 1) + A_q*H_q*sin(nu_q)/(e_q*cos(nu_q) + 1) + A_q*I_q*cos(nu_q)/(e_q*cos(nu_q) + 1))**2)"
      ]
     },
     "execution_count": 61,
     "metadata": {},
     "output_type": "execute_result"
    }
   ],
   "source": [
    "h"
   ]
  },
  {
   "cell_type": "code",
   "execution_count": 62,
   "id": "373f5b2c",
   "metadata": {},
   "outputs": [
    {
     "name": "stdout",
     "output_type": "stream",
     "text": [
      "(-(A_p*J_p*sin(nu_p)/(e_p*cos(nu_p) + 1) + A_p*K_p*cos(nu_p)/(e_p*cos(nu_p) + 1))*(-A_p*J_p*sin(nu_p)/(e_p*cos(nu_p) + 1) - A_p*K_p*cos(nu_p)/(e_p*cos(nu_p) + 1) + A_q*J_q*sin(nu_q)/(e_q*cos(nu_q) + 1) + A_q*K_q*cos(nu_q)/(e_q*cos(nu_q) + 1)) + (-A_p*B_p*sin(nu_p)/(e_p*cos(nu_p) + 1) - A_p*C_p*cos(nu_p)/(e_p*cos(nu_p) + 1) - A_p*D_p*sin(nu_p)/(e_p*cos(nu_p) + 1) + A_p*E_p*cos(nu_p)/(e_p*cos(nu_p) + 1))*(-A_p*B_p*sin(nu_p)/(e_p*cos(nu_p) + 1) - A_p*C_p*cos(nu_p)/(e_p*cos(nu_p) + 1) - A_p*D_p*sin(nu_p)/(e_p*cos(nu_p) + 1) + A_p*E_p*cos(nu_p)/(e_p*cos(nu_p) + 1) + A_q*B_q*sin(nu_q)/(e_q*cos(nu_q) + 1) + A_q*C_q*cos(nu_q)/(e_q*cos(nu_q) + 1) + A_q*D_q*sin(nu_q)/(e_q*cos(nu_q) + 1) - A_q*E_q*cos(nu_q)/(e_q*cos(nu_q) + 1)) - (-A_p*F_p*sin(nu_p)/(e_p*cos(nu_p) + 1) + A_p*G_p*cos(nu_p)/(e_p*cos(nu_p) + 1) + A_p*H_p*sin(nu_p)/(e_p*cos(nu_p) + 1) + A_p*I_p*cos(nu_p)/(e_p*cos(nu_p) + 1))*(A_p*F_p*sin(nu_p)/(e_p*cos(nu_p) + 1) - A_p*G_p*cos(nu_p)/(e_p*cos(nu_p) + 1) - A_p*H_p*sin(nu_p)/(e_p*cos(nu_p) + 1) - A_p*I_p*cos(nu_p)/(e_p*cos(nu_p) + 1) - A_q*F_q*sin(nu_q)/(e_q*cos(nu_q) + 1) + A_q*G_q*cos(nu_q)/(e_q*cos(nu_q) + 1) + A_q*H_q*sin(nu_q)/(e_q*cos(nu_q) + 1) + A_q*I_q*cos(nu_q)/(e_q*cos(nu_q) + 1)))/sqrt((-A_p*J_p*sin(nu_p)/(e_p*cos(nu_p) + 1) - A_p*K_p*cos(nu_p)/(e_p*cos(nu_p) + 1) + A_q*J_q*sin(nu_q)/(e_q*cos(nu_q) + 1) + A_q*K_q*cos(nu_q)/(e_q*cos(nu_q) + 1))**2 + (A_p*B_p*sin(nu_p)/(e_p*cos(nu_p) + 1) + A_p*C_p*cos(nu_p)/(e_p*cos(nu_p) + 1) + A_p*D_p*sin(nu_p)/(e_p*cos(nu_p) + 1) - A_p*E_p*cos(nu_p)/(e_p*cos(nu_p) + 1) - A_q*B_q*sin(nu_q)/(e_q*cos(nu_q) + 1) - A_q*C_q*cos(nu_q)/(e_q*cos(nu_q) + 1) - A_q*D_q*sin(nu_q)/(e_q*cos(nu_q) + 1) + A_q*E_q*cos(nu_q)/(e_q*cos(nu_q) + 1))**2 + (A_p*F_p*sin(nu_p)/(e_p*cos(nu_p) + 1) - A_p*G_p*cos(nu_p)/(e_p*cos(nu_p) + 1) - A_p*H_p*sin(nu_p)/(e_p*cos(nu_p) + 1) - A_p*I_p*cos(nu_p)/(e_p*cos(nu_p) + 1) - A_q*F_q*sin(nu_q)/(e_q*cos(nu_q) + 1) + A_q*G_q*cos(nu_q)/(e_q*cos(nu_q) + 1) + A_q*H_q*sin(nu_q)/(e_q*cos(nu_q) + 1) + A_q*I_q*cos(nu_q)/(e_q*cos(nu_q) + 1))**2)\n"
     ]
    }
   ],
   "source": [
    "print(h)"
   ]
  },
  {
   "cell_type": "code",
   "execution_count": 63,
   "id": "fa957325",
   "metadata": {},
   "outputs": [
    {
     "data": {
      "text/latex": [
       "$\\displaystyle - \\left(\\frac{A_{p} J_{p} \\sin{\\left(\\nu_{p} \\right)}}{e_{p} \\cos{\\left(\\nu_{p} \\right)} + 1} + \\frac{A_{p} K_{p} \\cos{\\left(\\nu_{p} \\right)}}{e_{p} \\cos{\\left(\\nu_{p} \\right)} + 1}\\right) \\left(- \\frac{A_{p} J_{p} \\sin{\\left(\\nu_{p} \\right)}}{e_{p} \\cos{\\left(\\nu_{p} \\right)} + 1} - \\frac{A_{p} K_{p} \\cos{\\left(\\nu_{p} \\right)}}{e_{p} \\cos{\\left(\\nu_{p} \\right)} + 1} + \\frac{A_{q} J_{q} \\sin{\\left(\\nu_{q} \\right)}}{e_{q} \\cos{\\left(\\nu_{q} \\right)} + 1} + \\frac{A_{q} K_{q} \\cos{\\left(\\nu_{q} \\right)}}{e_{q} \\cos{\\left(\\nu_{q} \\right)} + 1}\\right) + \\left(- \\frac{A_{p} B_{p} \\sin{\\left(\\nu_{p} \\right)}}{e_{p} \\cos{\\left(\\nu_{p} \\right)} + 1} - \\frac{A_{p} C_{p} \\cos{\\left(\\nu_{p} \\right)}}{e_{p} \\cos{\\left(\\nu_{p} \\right)} + 1} - \\frac{A_{p} D_{p} \\sin{\\left(\\nu_{p} \\right)}}{e_{p} \\cos{\\left(\\nu_{p} \\right)} + 1} + \\frac{A_{p} E_{p} \\cos{\\left(\\nu_{p} \\right)}}{e_{p} \\cos{\\left(\\nu_{p} \\right)} + 1}\\right) \\left(- \\frac{A_{p} B_{p} \\sin{\\left(\\nu_{p} \\right)}}{e_{p} \\cos{\\left(\\nu_{p} \\right)} + 1} - \\frac{A_{p} C_{p} \\cos{\\left(\\nu_{p} \\right)}}{e_{p} \\cos{\\left(\\nu_{p} \\right)} + 1} - \\frac{A_{p} D_{p} \\sin{\\left(\\nu_{p} \\right)}}{e_{p} \\cos{\\left(\\nu_{p} \\right)} + 1} + \\frac{A_{p} E_{p} \\cos{\\left(\\nu_{p} \\right)}}{e_{p} \\cos{\\left(\\nu_{p} \\right)} + 1} + \\frac{A_{q} B_{q} \\sin{\\left(\\nu_{q} \\right)}}{e_{q} \\cos{\\left(\\nu_{q} \\right)} + 1} + \\frac{A_{q} C_{q} \\cos{\\left(\\nu_{q} \\right)}}{e_{q} \\cos{\\left(\\nu_{q} \\right)} + 1} + \\frac{A_{q} D_{q} \\sin{\\left(\\nu_{q} \\right)}}{e_{q} \\cos{\\left(\\nu_{q} \\right)} + 1} - \\frac{A_{q} E_{q} \\cos{\\left(\\nu_{q} \\right)}}{e_{q} \\cos{\\left(\\nu_{q} \\right)} + 1}\\right) - \\left(- \\frac{A_{p} F_{p} \\sin{\\left(\\nu_{p} \\right)}}{e_{p} \\cos{\\left(\\nu_{p} \\right)} + 1} + \\frac{A_{p} G_{p} \\cos{\\left(\\nu_{p} \\right)}}{e_{p} \\cos{\\left(\\nu_{p} \\right)} + 1} + \\frac{A_{p} H_{p} \\sin{\\left(\\nu_{p} \\right)}}{e_{p} \\cos{\\left(\\nu_{p} \\right)} + 1} + \\frac{A_{p} I_{p} \\cos{\\left(\\nu_{p} \\right)}}{e_{p} \\cos{\\left(\\nu_{p} \\right)} + 1}\\right) \\left(\\frac{A_{p} F_{p} \\sin{\\left(\\nu_{p} \\right)}}{e_{p} \\cos{\\left(\\nu_{p} \\right)} + 1} - \\frac{A_{p} G_{p} \\cos{\\left(\\nu_{p} \\right)}}{e_{p} \\cos{\\left(\\nu_{p} \\right)} + 1} - \\frac{A_{p} H_{p} \\sin{\\left(\\nu_{p} \\right)}}{e_{p} \\cos{\\left(\\nu_{p} \\right)} + 1} - \\frac{A_{p} I_{p} \\cos{\\left(\\nu_{p} \\right)}}{e_{p} \\cos{\\left(\\nu_{p} \\right)} + 1} - \\frac{A_{q} F_{q} \\sin{\\left(\\nu_{q} \\right)}}{e_{q} \\cos{\\left(\\nu_{q} \\right)} + 1} + \\frac{A_{q} G_{q} \\cos{\\left(\\nu_{q} \\right)}}{e_{q} \\cos{\\left(\\nu_{q} \\right)} + 1} + \\frac{A_{q} H_{q} \\sin{\\left(\\nu_{q} \\right)}}{e_{q} \\cos{\\left(\\nu_{q} \\right)} + 1} + \\frac{A_{q} I_{q} \\cos{\\left(\\nu_{q} \\right)}}{e_{q} \\cos{\\left(\\nu_{q} \\right)} + 1}\\right)$"
      ],
      "text/plain": [
       "-(A_p*J_p*sin(nu_p)/(e_p*cos(nu_p) + 1) + A_p*K_p*cos(nu_p)/(e_p*cos(nu_p) + 1))*(-A_p*J_p*sin(nu_p)/(e_p*cos(nu_p) + 1) - A_p*K_p*cos(nu_p)/(e_p*cos(nu_p) + 1) + A_q*J_q*sin(nu_q)/(e_q*cos(nu_q) + 1) + A_q*K_q*cos(nu_q)/(e_q*cos(nu_q) + 1)) + (-A_p*B_p*sin(nu_p)/(e_p*cos(nu_p) + 1) - A_p*C_p*cos(nu_p)/(e_p*cos(nu_p) + 1) - A_p*D_p*sin(nu_p)/(e_p*cos(nu_p) + 1) + A_p*E_p*cos(nu_p)/(e_p*cos(nu_p) + 1))*(-A_p*B_p*sin(nu_p)/(e_p*cos(nu_p) + 1) - A_p*C_p*cos(nu_p)/(e_p*cos(nu_p) + 1) - A_p*D_p*sin(nu_p)/(e_p*cos(nu_p) + 1) + A_p*E_p*cos(nu_p)/(e_p*cos(nu_p) + 1) + A_q*B_q*sin(nu_q)/(e_q*cos(nu_q) + 1) + A_q*C_q*cos(nu_q)/(e_q*cos(nu_q) + 1) + A_q*D_q*sin(nu_q)/(e_q*cos(nu_q) + 1) - A_q*E_q*cos(nu_q)/(e_q*cos(nu_q) + 1)) - (-A_p*F_p*sin(nu_p)/(e_p*cos(nu_p) + 1) + A_p*G_p*cos(nu_p)/(e_p*cos(nu_p) + 1) + A_p*H_p*sin(nu_p)/(e_p*cos(nu_p) + 1) + A_p*I_p*cos(nu_p)/(e_p*cos(nu_p) + 1))*(A_p*F_p*sin(nu_p)/(e_p*cos(nu_p) + 1) - A_p*G_p*cos(nu_p)/(e_p*cos(nu_p) + 1) - A_p*H_p*sin(nu_p)/(e_p*cos(nu_p) + 1) - A_p*I_p*cos(nu_p)/(e_p*cos(nu_p) + 1) - A_q*F_q*sin(nu_q)/(e_q*cos(nu_q) + 1) + A_q*G_q*cos(nu_q)/(e_q*cos(nu_q) + 1) + A_q*H_q*sin(nu_q)/(e_q*cos(nu_q) + 1) + A_q*I_q*cos(nu_q)/(e_q*cos(nu_q) + 1))"
      ]
     },
     "execution_count": 63,
     "metadata": {},
     "output_type": "execute_result"
    }
   ],
   "source": [
    "h*d #the rhs"
   ]
  },
  {
   "cell_type": "code",
   "execution_count": 64,
   "id": "bca06721",
   "metadata": {},
   "outputs": [
    {
     "data": {
      "text/latex": [
       "$\\displaystyle R \\sqrt{\\left(- \\frac{A_{p} J_{p} \\sin{\\left(\\nu_{p} \\right)}}{e_{p} \\cos{\\left(\\nu_{p} \\right)} + 1} - \\frac{A_{p} K_{p} \\cos{\\left(\\nu_{p} \\right)}}{e_{p} \\cos{\\left(\\nu_{p} \\right)} + 1} + \\frac{A_{q} J_{q} \\sin{\\left(\\nu_{q} \\right)}}{e_{q} \\cos{\\left(\\nu_{q} \\right)} + 1} + \\frac{A_{q} K_{q} \\cos{\\left(\\nu_{q} \\right)}}{e_{q} \\cos{\\left(\\nu_{q} \\right)} + 1}\\right)^{2} + \\left(\\frac{A_{p} B_{p} \\sin{\\left(\\nu_{p} \\right)}}{e_{p} \\cos{\\left(\\nu_{p} \\right)} + 1} + \\frac{A_{p} C_{p} \\cos{\\left(\\nu_{p} \\right)}}{e_{p} \\cos{\\left(\\nu_{p} \\right)} + 1} + \\frac{A_{p} D_{p} \\sin{\\left(\\nu_{p} \\right)}}{e_{p} \\cos{\\left(\\nu_{p} \\right)} + 1} - \\frac{A_{p} E_{p} \\cos{\\left(\\nu_{p} \\right)}}{e_{p} \\cos{\\left(\\nu_{p} \\right)} + 1} - \\frac{A_{q} B_{q} \\sin{\\left(\\nu_{q} \\right)}}{e_{q} \\cos{\\left(\\nu_{q} \\right)} + 1} - \\frac{A_{q} C_{q} \\cos{\\left(\\nu_{q} \\right)}}{e_{q} \\cos{\\left(\\nu_{q} \\right)} + 1} - \\frac{A_{q} D_{q} \\sin{\\left(\\nu_{q} \\right)}}{e_{q} \\cos{\\left(\\nu_{q} \\right)} + 1} + \\frac{A_{q} E_{q} \\cos{\\left(\\nu_{q} \\right)}}{e_{q} \\cos{\\left(\\nu_{q} \\right)} + 1}\\right)^{2} + \\left(\\frac{A_{p} F_{p} \\sin{\\left(\\nu_{p} \\right)}}{e_{p} \\cos{\\left(\\nu_{p} \\right)} + 1} - \\frac{A_{p} G_{p} \\cos{\\left(\\nu_{p} \\right)}}{e_{p} \\cos{\\left(\\nu_{p} \\right)} + 1} - \\frac{A_{p} H_{p} \\sin{\\left(\\nu_{p} \\right)}}{e_{p} \\cos{\\left(\\nu_{p} \\right)} + 1} - \\frac{A_{p} I_{p} \\cos{\\left(\\nu_{p} \\right)}}{e_{p} \\cos{\\left(\\nu_{p} \\right)} + 1} - \\frac{A_{q} F_{q} \\sin{\\left(\\nu_{q} \\right)}}{e_{q} \\cos{\\left(\\nu_{q} \\right)} + 1} + \\frac{A_{q} G_{q} \\cos{\\left(\\nu_{q} \\right)}}{e_{q} \\cos{\\left(\\nu_{q} \\right)} + 1} + \\frac{A_{q} H_{q} \\sin{\\left(\\nu_{q} \\right)}}{e_{q} \\cos{\\left(\\nu_{q} \\right)} + 1} + \\frac{A_{q} I_{q} \\cos{\\left(\\nu_{q} \\right)}}{e_{q} \\cos{\\left(\\nu_{q} \\right)} + 1}\\right)^{2}}$"
      ],
      "text/plain": [
       "R*sqrt((-A_p*J_p*sin(nu_p)/(e_p*cos(nu_p) + 1) - A_p*K_p*cos(nu_p)/(e_p*cos(nu_p) + 1) + A_q*J_q*sin(nu_q)/(e_q*cos(nu_q) + 1) + A_q*K_q*cos(nu_q)/(e_q*cos(nu_q) + 1))**2 + (A_p*B_p*sin(nu_p)/(e_p*cos(nu_p) + 1) + A_p*C_p*cos(nu_p)/(e_p*cos(nu_p) + 1) + A_p*D_p*sin(nu_p)/(e_p*cos(nu_p) + 1) - A_p*E_p*cos(nu_p)/(e_p*cos(nu_p) + 1) - A_q*B_q*sin(nu_q)/(e_q*cos(nu_q) + 1) - A_q*C_q*cos(nu_q)/(e_q*cos(nu_q) + 1) - A_q*D_q*sin(nu_q)/(e_q*cos(nu_q) + 1) + A_q*E_q*cos(nu_q)/(e_q*cos(nu_q) + 1))**2 + (A_p*F_p*sin(nu_p)/(e_p*cos(nu_p) + 1) - A_p*G_p*cos(nu_p)/(e_p*cos(nu_p) + 1) - A_p*H_p*sin(nu_p)/(e_p*cos(nu_p) + 1) - A_p*I_p*cos(nu_p)/(e_p*cos(nu_p) + 1) - A_q*F_q*sin(nu_q)/(e_q*cos(nu_q) + 1) + A_q*G_q*cos(nu_q)/(e_q*cos(nu_q) + 1) + A_q*H_q*sin(nu_q)/(e_q*cos(nu_q) + 1) + A_q*I_q*cos(nu_q)/(e_q*cos(nu_q) + 1))**2)"
      ]
     },
     "execution_count": 64,
     "metadata": {},
     "output_type": "execute_result"
    }
   ],
   "source": [
    "R*d #lhs"
   ]
  },
  {
   "cell_type": "code",
   "execution_count": 65,
   "id": "dd9c02a9",
   "metadata": {},
   "outputs": [],
   "source": [
    "#declare and square both sides\n",
    "lhs = R**2*d**2\n",
    "rhs = h**2*d**2"
   ]
  },
  {
   "cell_type": "code",
   "execution_count": 66,
   "id": "d9ca5db4",
   "metadata": {},
   "outputs": [],
   "source": [
    "lhs2 = sp.simplify(lhs*(ep*sp.cos(vp)+1)**2*(eq*sp.cos(vq)+1)**2)#*(ep*sp.cos(vp)+1)**2(eq*sp.cos(vq)+1)**2"
   ]
  },
  {
   "cell_type": "code",
   "execution_count": 67,
   "id": "74c051c4",
   "metadata": {},
   "outputs": [],
   "source": [
    "lhs3 = lhs2*(ep*sp.cos(vp)+1)**2*(eq*sp.cos(vq)+1)**2"
   ]
  },
  {
   "cell_type": "code",
   "execution_count": 68,
   "id": "78d54138",
   "metadata": {},
   "outputs": [
    {
     "data": {
      "text/latex": [
       "$\\displaystyle R^{2} \\left(e_{p} \\cos{\\left(\\nu_{p} \\right)} + 1\\right)^{2} \\left(e_{q} \\cos{\\left(\\nu_{q} \\right)} + 1\\right)^{2} \\left(\\left(A_{p} \\left(J_{p} \\sin{\\left(\\nu_{p} \\right)} + K_{p} \\cos{\\left(\\nu_{p} \\right)}\\right) \\left(e_{q} \\cos{\\left(\\nu_{q} \\right)} + 1\\right) - A_{q} \\left(J_{q} \\sin{\\left(\\nu_{q} \\right)} + K_{q} \\cos{\\left(\\nu_{q} \\right)}\\right) \\left(e_{p} \\cos{\\left(\\nu_{p} \\right)} + 1\\right)\\right)^{2} + \\left(A_{p} \\left(e_{q} \\cos{\\left(\\nu_{q} \\right)} + 1\\right) \\left(B_{p} \\sin{\\left(\\nu_{p} \\right)} + C_{p} \\cos{\\left(\\nu_{p} \\right)} + D_{p} \\sin{\\left(\\nu_{p} \\right)} - E_{p} \\cos{\\left(\\nu_{p} \\right)}\\right) + A_{q} \\left(e_{p} \\cos{\\left(\\nu_{p} \\right)} + 1\\right) \\left(- B_{q} \\sin{\\left(\\nu_{q} \\right)} - C_{q} \\cos{\\left(\\nu_{q} \\right)} - D_{q} \\sin{\\left(\\nu_{q} \\right)} + E_{q} \\cos{\\left(\\nu_{q} \\right)}\\right)\\right)^{2} + \\left(A_{p} \\left(e_{q} \\cos{\\left(\\nu_{q} \\right)} + 1\\right) \\left(F_{p} \\sin{\\left(\\nu_{p} \\right)} - G_{p} \\cos{\\left(\\nu_{p} \\right)} - H_{p} \\sin{\\left(\\nu_{p} \\right)} - I_{p} \\cos{\\left(\\nu_{p} \\right)}\\right) + A_{q} \\left(e_{p} \\cos{\\left(\\nu_{p} \\right)} + 1\\right) \\left(- F_{q} \\sin{\\left(\\nu_{q} \\right)} + G_{q} \\cos{\\left(\\nu_{q} \\right)} + H_{q} \\sin{\\left(\\nu_{q} \\right)} + I_{q} \\cos{\\left(\\nu_{q} \\right)}\\right)\\right)^{2}\\right)$"
      ],
      "text/plain": [
       "R**2*(e_p*cos(nu_p) + 1)**2*(e_q*cos(nu_q) + 1)**2*((A_p*(J_p*sin(nu_p) + K_p*cos(nu_p))*(e_q*cos(nu_q) + 1) - A_q*(J_q*sin(nu_q) + K_q*cos(nu_q))*(e_p*cos(nu_p) + 1))**2 + (A_p*(e_q*cos(nu_q) + 1)*(B_p*sin(nu_p) + C_p*cos(nu_p) + D_p*sin(nu_p) - E_p*cos(nu_p)) + A_q*(e_p*cos(nu_p) + 1)*(-B_q*sin(nu_q) - C_q*cos(nu_q) - D_q*sin(nu_q) + E_q*cos(nu_q)))**2 + (A_p*(e_q*cos(nu_q) + 1)*(F_p*sin(nu_p) - G_p*cos(nu_p) - H_p*sin(nu_p) - I_p*cos(nu_p)) + A_q*(e_p*cos(nu_p) + 1)*(-F_q*sin(nu_q) + G_q*cos(nu_q) + H_q*sin(nu_q) + I_q*cos(nu_q)))**2)"
      ]
     },
     "execution_count": 68,
     "metadata": {},
     "output_type": "execute_result"
    }
   ],
   "source": [
    "lhs3"
   ]
  },
  {
   "cell_type": "code",
   "execution_count": 69,
   "id": "ea2eade9",
   "metadata": {},
   "outputs": [],
   "source": [
    "lhs4 = lhs3.subs(sp.sin(vp),sp.sqrt(1-sp.cos(vp)**2)).subs(sp.sin(vq),sp.sqrt(1-sp.cos(vq)**2))"
   ]
  },
  {
   "cell_type": "code",
   "execution_count": 70,
   "id": "218ffc22",
   "metadata": {},
   "outputs": [
    {
     "data": {
      "text/latex": [
       "$\\displaystyle R^{2} \\left(e_{p} \\cos{\\left(\\nu_{p} \\right)} + 1\\right)^{2} \\left(e_{q} \\cos{\\left(\\nu_{q} \\right)} + 1\\right)^{2} \\left(\\left(A_{p} \\left(J_{p} \\sqrt{1 - \\cos^{2}{\\left(\\nu_{p} \\right)}} + K_{p} \\cos{\\left(\\nu_{p} \\right)}\\right) \\left(e_{q} \\cos{\\left(\\nu_{q} \\right)} + 1\\right) - A_{q} \\left(J_{q} \\sqrt{1 - \\cos^{2}{\\left(\\nu_{q} \\right)}} + K_{q} \\cos{\\left(\\nu_{q} \\right)}\\right) \\left(e_{p} \\cos{\\left(\\nu_{p} \\right)} + 1\\right)\\right)^{2} + \\left(A_{p} \\left(e_{q} \\cos{\\left(\\nu_{q} \\right)} + 1\\right) \\left(B_{p} \\sqrt{1 - \\cos^{2}{\\left(\\nu_{p} \\right)}} + C_{p} \\cos{\\left(\\nu_{p} \\right)} + D_{p} \\sqrt{1 - \\cos^{2}{\\left(\\nu_{p} \\right)}} - E_{p} \\cos{\\left(\\nu_{p} \\right)}\\right) + A_{q} \\left(e_{p} \\cos{\\left(\\nu_{p} \\right)} + 1\\right) \\left(- B_{q} \\sqrt{1 - \\cos^{2}{\\left(\\nu_{q} \\right)}} - C_{q} \\cos{\\left(\\nu_{q} \\right)} - D_{q} \\sqrt{1 - \\cos^{2}{\\left(\\nu_{q} \\right)}} + E_{q} \\cos{\\left(\\nu_{q} \\right)}\\right)\\right)^{2} + \\left(A_{p} \\left(e_{q} \\cos{\\left(\\nu_{q} \\right)} + 1\\right) \\left(F_{p} \\sqrt{1 - \\cos^{2}{\\left(\\nu_{p} \\right)}} - G_{p} \\cos{\\left(\\nu_{p} \\right)} - H_{p} \\sqrt{1 - \\cos^{2}{\\left(\\nu_{p} \\right)}} - I_{p} \\cos{\\left(\\nu_{p} \\right)}\\right) + A_{q} \\left(e_{p} \\cos{\\left(\\nu_{p} \\right)} + 1\\right) \\left(- F_{q} \\sqrt{1 - \\cos^{2}{\\left(\\nu_{q} \\right)}} + G_{q} \\cos{\\left(\\nu_{q} \\right)} + H_{q} \\sqrt{1 - \\cos^{2}{\\left(\\nu_{q} \\right)}} + I_{q} \\cos{\\left(\\nu_{q} \\right)}\\right)\\right)^{2}\\right)$"
      ],
      "text/plain": [
       "R**2*(e_p*cos(nu_p) + 1)**2*(e_q*cos(nu_q) + 1)**2*((A_p*(J_p*sqrt(1 - cos(nu_p)**2) + K_p*cos(nu_p))*(e_q*cos(nu_q) + 1) - A_q*(J_q*sqrt(1 - cos(nu_q)**2) + K_q*cos(nu_q))*(e_p*cos(nu_p) + 1))**2 + (A_p*(e_q*cos(nu_q) + 1)*(B_p*sqrt(1 - cos(nu_p)**2) + C_p*cos(nu_p) + D_p*sqrt(1 - cos(nu_p)**2) - E_p*cos(nu_p)) + A_q*(e_p*cos(nu_p) + 1)*(-B_q*sqrt(1 - cos(nu_q)**2) - C_q*cos(nu_q) - D_q*sqrt(1 - cos(nu_q)**2) + E_q*cos(nu_q)))**2 + (A_p*(e_q*cos(nu_q) + 1)*(F_p*sqrt(1 - cos(nu_p)**2) - G_p*cos(nu_p) - H_p*sqrt(1 - cos(nu_p)**2) - I_p*cos(nu_p)) + A_q*(e_p*cos(nu_p) + 1)*(-F_q*sqrt(1 - cos(nu_q)**2) + G_q*cos(nu_q) + H_q*sqrt(1 - cos(nu_q)**2) + I_q*cos(nu_q)))**2)"
      ]
     },
     "execution_count": 70,
     "metadata": {},
     "output_type": "execute_result"
    }
   ],
   "source": [
    "lhs4"
   ]
  },
  {
   "cell_type": "code",
   "execution_count": 71,
   "id": "3e101474",
   "metadata": {},
   "outputs": [],
   "source": [
    "lhs5 = lhs4.subs(sp.cos(vq),x).subs(sp.cos(vp),y)"
   ]
  },
  {
   "cell_type": "code",
   "execution_count": 72,
   "id": "89a7851c",
   "metadata": {},
   "outputs": [
    {
     "data": {
      "text/latex": [
       "$\\displaystyle R^{2} \\left(e_{p} y + 1\\right)^{2} \\left(e_{q} x + 1\\right)^{2} \\left(\\left(A_{p} \\left(J_{p} \\sqrt{1 - y^{2}} + K_{p} y\\right) \\left(e_{q} x + 1\\right) - A_{q} \\left(J_{q} \\sqrt{1 - x^{2}} + K_{q} x\\right) \\left(e_{p} y + 1\\right)\\right)^{2} + \\left(A_{p} \\left(e_{q} x + 1\\right) \\left(B_{p} \\sqrt{1 - y^{2}} + C_{p} y + D_{p} \\sqrt{1 - y^{2}} - E_{p} y\\right) + A_{q} \\left(e_{p} y + 1\\right) \\left(- B_{q} \\sqrt{1 - x^{2}} - C_{q} x - D_{q} \\sqrt{1 - x^{2}} + E_{q} x\\right)\\right)^{2} + \\left(A_{p} \\left(e_{q} x + 1\\right) \\left(F_{p} \\sqrt{1 - y^{2}} - G_{p} y - H_{p} \\sqrt{1 - y^{2}} - I_{p} y\\right) + A_{q} \\left(e_{p} y + 1\\right) \\left(- F_{q} \\sqrt{1 - x^{2}} + G_{q} x + H_{q} \\sqrt{1 - x^{2}} + I_{q} x\\right)\\right)^{2}\\right)$"
      ],
      "text/plain": [
       "R**2*(e_p*y + 1)**2*(e_q*x + 1)**2*((A_p*(J_p*sqrt(1 - y**2) + K_p*y)*(e_q*x + 1) - A_q*(J_q*sqrt(1 - x**2) + K_q*x)*(e_p*y + 1))**2 + (A_p*(e_q*x + 1)*(B_p*sqrt(1 - y**2) + C_p*y + D_p*sqrt(1 - y**2) - E_p*y) + A_q*(e_p*y + 1)*(-B_q*sqrt(1 - x**2) - C_q*x - D_q*sqrt(1 - x**2) + E_q*x))**2 + (A_p*(e_q*x + 1)*(F_p*sqrt(1 - y**2) - G_p*y - H_p*sqrt(1 - y**2) - I_p*y) + A_q*(e_p*y + 1)*(-F_q*sqrt(1 - x**2) + G_q*x + H_q*sqrt(1 - x**2) + I_q*x))**2)"
      ]
     },
     "execution_count": 72,
     "metadata": {},
     "output_type": "execute_result"
    }
   ],
   "source": [
    "lhs5"
   ]
  },
  {
   "cell_type": "code",
   "execution_count": null,
   "id": "fbf3558b",
   "metadata": {},
   "outputs": [],
   "source": []
  },
  {
   "cell_type": "code",
   "execution_count": null,
   "id": "d6f66f00",
   "metadata": {},
   "outputs": [],
   "source": []
  },
  {
   "cell_type": "code",
   "execution_count": 73,
   "id": "0b4a9782",
   "metadata": {},
   "outputs": [],
   "source": [
    "rhs2 = sp.simplify(rhs*(ep*sp.cos(vp)+1)**4*(eq*sp.cos(vq)+1)**4)"
   ]
  },
  {
   "cell_type": "code",
   "execution_count": 74,
   "id": "98614b2c",
   "metadata": {},
   "outputs": [
    {
     "data": {
      "text/latex": [
       "$\\displaystyle A_{p}^{2} \\left(e_{q} \\cos{\\left(\\nu_{q} \\right)} + 1\\right)^{2} \\left(- \\left(J_{p} \\sin{\\left(\\nu_{p} \\right)} + K_{p} \\cos{\\left(\\nu_{p} \\right)}\\right) \\left(A_{p} \\left(J_{p} \\sin{\\left(\\nu_{p} \\right)} + K_{p} \\cos{\\left(\\nu_{p} \\right)}\\right) \\left(e_{q} \\cos{\\left(\\nu_{q} \\right)} + 1\\right) - A_{q} \\left(J_{q} \\sin{\\left(\\nu_{q} \\right)} + K_{q} \\cos{\\left(\\nu_{q} \\right)}\\right) \\left(e_{p} \\cos{\\left(\\nu_{p} \\right)} + 1\\right)\\right) - \\left(A_{p} \\left(e_{q} \\cos{\\left(\\nu_{q} \\right)} + 1\\right) \\left(B_{p} \\sin{\\left(\\nu_{p} \\right)} + C_{p} \\cos{\\left(\\nu_{p} \\right)} + D_{p} \\sin{\\left(\\nu_{p} \\right)} - E_{p} \\cos{\\left(\\nu_{p} \\right)}\\right) + A_{q} \\left(e_{p} \\cos{\\left(\\nu_{p} \\right)} + 1\\right) \\left(- B_{q} \\sin{\\left(\\nu_{q} \\right)} - C_{q} \\cos{\\left(\\nu_{q} \\right)} - D_{q} \\sin{\\left(\\nu_{q} \\right)} + E_{q} \\cos{\\left(\\nu_{q} \\right)}\\right)\\right) \\left(B_{p} \\sin{\\left(\\nu_{p} \\right)} + C_{p} \\cos{\\left(\\nu_{p} \\right)} + D_{p} \\sin{\\left(\\nu_{p} \\right)} - E_{p} \\cos{\\left(\\nu_{p} \\right)}\\right) + \\left(A_{p} \\left(e_{q} \\cos{\\left(\\nu_{q} \\right)} + 1\\right) \\left(F_{p} \\sin{\\left(\\nu_{p} \\right)} - G_{p} \\cos{\\left(\\nu_{p} \\right)} - H_{p} \\sin{\\left(\\nu_{p} \\right)} - I_{p} \\cos{\\left(\\nu_{p} \\right)}\\right) + A_{q} \\left(e_{p} \\cos{\\left(\\nu_{p} \\right)} + 1\\right) \\left(- F_{q} \\sin{\\left(\\nu_{q} \\right)} + G_{q} \\cos{\\left(\\nu_{q} \\right)} + H_{q} \\sin{\\left(\\nu_{q} \\right)} + I_{q} \\cos{\\left(\\nu_{q} \\right)}\\right)\\right) \\left(- F_{p} \\sin{\\left(\\nu_{p} \\right)} + G_{p} \\cos{\\left(\\nu_{p} \\right)} + H_{p} \\sin{\\left(\\nu_{p} \\right)} + I_{p} \\cos{\\left(\\nu_{p} \\right)}\\right)\\right)^{2}$"
      ],
      "text/plain": [
       "A_p**2*(e_q*cos(nu_q) + 1)**2*(-(J_p*sin(nu_p) + K_p*cos(nu_p))*(A_p*(J_p*sin(nu_p) + K_p*cos(nu_p))*(e_q*cos(nu_q) + 1) - A_q*(J_q*sin(nu_q) + K_q*cos(nu_q))*(e_p*cos(nu_p) + 1)) - (A_p*(e_q*cos(nu_q) + 1)*(B_p*sin(nu_p) + C_p*cos(nu_p) + D_p*sin(nu_p) - E_p*cos(nu_p)) + A_q*(e_p*cos(nu_p) + 1)*(-B_q*sin(nu_q) - C_q*cos(nu_q) - D_q*sin(nu_q) + E_q*cos(nu_q)))*(B_p*sin(nu_p) + C_p*cos(nu_p) + D_p*sin(nu_p) - E_p*cos(nu_p)) + (A_p*(e_q*cos(nu_q) + 1)*(F_p*sin(nu_p) - G_p*cos(nu_p) - H_p*sin(nu_p) - I_p*cos(nu_p)) + A_q*(e_p*cos(nu_p) + 1)*(-F_q*sin(nu_q) + G_q*cos(nu_q) + H_q*sin(nu_q) + I_q*cos(nu_q)))*(-F_p*sin(nu_p) + G_p*cos(nu_p) + H_p*sin(nu_p) + I_p*cos(nu_p)))**2"
      ]
     },
     "execution_count": 74,
     "metadata": {},
     "output_type": "execute_result"
    }
   ],
   "source": [
    "rhs2"
   ]
  },
  {
   "cell_type": "code",
   "execution_count": 75,
   "id": "83aee003",
   "metadata": {},
   "outputs": [],
   "source": [
    "rhs3 = rhs2.subs(sp.sin(vp),sp.sqrt(1-sp.cos(vp)**2)).subs(sp.sin(vq),sp.sqrt(1-sp.cos(vq)**2))"
   ]
  },
  {
   "cell_type": "code",
   "execution_count": 76,
   "id": "2a768389",
   "metadata": {},
   "outputs": [
    {
     "data": {
      "text/latex": [
       "$\\displaystyle A_{p}^{2} \\left(e_{q} \\cos{\\left(\\nu_{q} \\right)} + 1\\right)^{2} \\left(- \\left(J_{p} \\sqrt{1 - \\cos^{2}{\\left(\\nu_{p} \\right)}} + K_{p} \\cos{\\left(\\nu_{p} \\right)}\\right) \\left(A_{p} \\left(J_{p} \\sqrt{1 - \\cos^{2}{\\left(\\nu_{p} \\right)}} + K_{p} \\cos{\\left(\\nu_{p} \\right)}\\right) \\left(e_{q} \\cos{\\left(\\nu_{q} \\right)} + 1\\right) - A_{q} \\left(J_{q} \\sqrt{1 - \\cos^{2}{\\left(\\nu_{q} \\right)}} + K_{q} \\cos{\\left(\\nu_{q} \\right)}\\right) \\left(e_{p} \\cos{\\left(\\nu_{p} \\right)} + 1\\right)\\right) - \\left(A_{p} \\left(e_{q} \\cos{\\left(\\nu_{q} \\right)} + 1\\right) \\left(B_{p} \\sqrt{1 - \\cos^{2}{\\left(\\nu_{p} \\right)}} + C_{p} \\cos{\\left(\\nu_{p} \\right)} + D_{p} \\sqrt{1 - \\cos^{2}{\\left(\\nu_{p} \\right)}} - E_{p} \\cos{\\left(\\nu_{p} \\right)}\\right) + A_{q} \\left(e_{p} \\cos{\\left(\\nu_{p} \\right)} + 1\\right) \\left(- B_{q} \\sqrt{1 - \\cos^{2}{\\left(\\nu_{q} \\right)}} - C_{q} \\cos{\\left(\\nu_{q} \\right)} - D_{q} \\sqrt{1 - \\cos^{2}{\\left(\\nu_{q} \\right)}} + E_{q} \\cos{\\left(\\nu_{q} \\right)}\\right)\\right) \\left(B_{p} \\sqrt{1 - \\cos^{2}{\\left(\\nu_{p} \\right)}} + C_{p} \\cos{\\left(\\nu_{p} \\right)} + D_{p} \\sqrt{1 - \\cos^{2}{\\left(\\nu_{p} \\right)}} - E_{p} \\cos{\\left(\\nu_{p} \\right)}\\right) + \\left(A_{p} \\left(e_{q} \\cos{\\left(\\nu_{q} \\right)} + 1\\right) \\left(F_{p} \\sqrt{1 - \\cos^{2}{\\left(\\nu_{p} \\right)}} - G_{p} \\cos{\\left(\\nu_{p} \\right)} - H_{p} \\sqrt{1 - \\cos^{2}{\\left(\\nu_{p} \\right)}} - I_{p} \\cos{\\left(\\nu_{p} \\right)}\\right) + A_{q} \\left(e_{p} \\cos{\\left(\\nu_{p} \\right)} + 1\\right) \\left(- F_{q} \\sqrt{1 - \\cos^{2}{\\left(\\nu_{q} \\right)}} + G_{q} \\cos{\\left(\\nu_{q} \\right)} + H_{q} \\sqrt{1 - \\cos^{2}{\\left(\\nu_{q} \\right)}} + I_{q} \\cos{\\left(\\nu_{q} \\right)}\\right)\\right) \\left(- F_{p} \\sqrt{1 - \\cos^{2}{\\left(\\nu_{p} \\right)}} + G_{p} \\cos{\\left(\\nu_{p} \\right)} + H_{p} \\sqrt{1 - \\cos^{2}{\\left(\\nu_{p} \\right)}} + I_{p} \\cos{\\left(\\nu_{p} \\right)}\\right)\\right)^{2}$"
      ],
      "text/plain": [
       "A_p**2*(e_q*cos(nu_q) + 1)**2*(-(J_p*sqrt(1 - cos(nu_p)**2) + K_p*cos(nu_p))*(A_p*(J_p*sqrt(1 - cos(nu_p)**2) + K_p*cos(nu_p))*(e_q*cos(nu_q) + 1) - A_q*(J_q*sqrt(1 - cos(nu_q)**2) + K_q*cos(nu_q))*(e_p*cos(nu_p) + 1)) - (A_p*(e_q*cos(nu_q) + 1)*(B_p*sqrt(1 - cos(nu_p)**2) + C_p*cos(nu_p) + D_p*sqrt(1 - cos(nu_p)**2) - E_p*cos(nu_p)) + A_q*(e_p*cos(nu_p) + 1)*(-B_q*sqrt(1 - cos(nu_q)**2) - C_q*cos(nu_q) - D_q*sqrt(1 - cos(nu_q)**2) + E_q*cos(nu_q)))*(B_p*sqrt(1 - cos(nu_p)**2) + C_p*cos(nu_p) + D_p*sqrt(1 - cos(nu_p)**2) - E_p*cos(nu_p)) + (A_p*(e_q*cos(nu_q) + 1)*(F_p*sqrt(1 - cos(nu_p)**2) - G_p*cos(nu_p) - H_p*sqrt(1 - cos(nu_p)**2) - I_p*cos(nu_p)) + A_q*(e_p*cos(nu_p) + 1)*(-F_q*sqrt(1 - cos(nu_q)**2) + G_q*cos(nu_q) + H_q*sqrt(1 - cos(nu_q)**2) + I_q*cos(nu_q)))*(-F_p*sqrt(1 - cos(nu_p)**2) + G_p*cos(nu_p) + H_p*sqrt(1 - cos(nu_p)**2) + I_p*cos(nu_p)))**2"
      ]
     },
     "execution_count": 76,
     "metadata": {},
     "output_type": "execute_result"
    }
   ],
   "source": [
    "rhs3"
   ]
  },
  {
   "cell_type": "code",
   "execution_count": 77,
   "id": "dacf48e0",
   "metadata": {},
   "outputs": [],
   "source": [
    "rhs4 = rhs3.subs(sp.cos(vq),x).subs(sp.cos(vp),y)"
   ]
  },
  {
   "cell_type": "code",
   "execution_count": 78,
   "id": "7ecd2610",
   "metadata": {},
   "outputs": [
    {
     "data": {
      "text/latex": [
       "$\\displaystyle A_{p}^{2} \\left(e_{q} x + 1\\right)^{2} \\left(- \\left(J_{p} \\sqrt{1 - y^{2}} + K_{p} y\\right) \\left(A_{p} \\left(J_{p} \\sqrt{1 - y^{2}} + K_{p} y\\right) \\left(e_{q} x + 1\\right) - A_{q} \\left(J_{q} \\sqrt{1 - x^{2}} + K_{q} x\\right) \\left(e_{p} y + 1\\right)\\right) - \\left(A_{p} \\left(e_{q} x + 1\\right) \\left(B_{p} \\sqrt{1 - y^{2}} + C_{p} y + D_{p} \\sqrt{1 - y^{2}} - E_{p} y\\right) + A_{q} \\left(e_{p} y + 1\\right) \\left(- B_{q} \\sqrt{1 - x^{2}} - C_{q} x - D_{q} \\sqrt{1 - x^{2}} + E_{q} x\\right)\\right) \\left(B_{p} \\sqrt{1 - y^{2}} + C_{p} y + D_{p} \\sqrt{1 - y^{2}} - E_{p} y\\right) + \\left(A_{p} \\left(e_{q} x + 1\\right) \\left(F_{p} \\sqrt{1 - y^{2}} - G_{p} y - H_{p} \\sqrt{1 - y^{2}} - I_{p} y\\right) + A_{q} \\left(e_{p} y + 1\\right) \\left(- F_{q} \\sqrt{1 - x^{2}} + G_{q} x + H_{q} \\sqrt{1 - x^{2}} + I_{q} x\\right)\\right) \\left(- F_{p} \\sqrt{1 - y^{2}} + G_{p} y + H_{p} \\sqrt{1 - y^{2}} + I_{p} y\\right)\\right)^{2}$"
      ],
      "text/plain": [
       "A_p**2*(e_q*x + 1)**2*(-(J_p*sqrt(1 - y**2) + K_p*y)*(A_p*(J_p*sqrt(1 - y**2) + K_p*y)*(e_q*x + 1) - A_q*(J_q*sqrt(1 - x**2) + K_q*x)*(e_p*y + 1)) - (A_p*(e_q*x + 1)*(B_p*sqrt(1 - y**2) + C_p*y + D_p*sqrt(1 - y**2) - E_p*y) + A_q*(e_p*y + 1)*(-B_q*sqrt(1 - x**2) - C_q*x - D_q*sqrt(1 - x**2) + E_q*x))*(B_p*sqrt(1 - y**2) + C_p*y + D_p*sqrt(1 - y**2) - E_p*y) + (A_p*(e_q*x + 1)*(F_p*sqrt(1 - y**2) - G_p*y - H_p*sqrt(1 - y**2) - I_p*y) + A_q*(e_p*y + 1)*(-F_q*sqrt(1 - x**2) + G_q*x + H_q*sqrt(1 - x**2) + I_q*x))*(-F_p*sqrt(1 - y**2) + G_p*y + H_p*sqrt(1 - y**2) + I_p*y))**2"
      ]
     },
     "execution_count": 78,
     "metadata": {},
     "output_type": "execute_result"
    }
   ],
   "source": [
    "rhs4"
   ]
  },
  {
   "cell_type": "code",
   "execution_count": null,
   "id": "c15af499",
   "metadata": {},
   "outputs": [],
   "source": []
  },
  {
   "cell_type": "code",
   "execution_count": 79,
   "id": "278e18ee",
   "metadata": {},
   "outputs": [],
   "source": [
    "#The idea is that we can compute a partial derivative of one and that can then be analytically solved for the roots"
   ]
  },
  {
   "cell_type": "code",
   "execution_count": 93,
   "id": "d0602ee9",
   "metadata": {},
   "outputs": [],
   "source": [
    "#need to compute partial derivatives\n",
    "eqn = rhs2 - lhs3\n",
    "dfdvp = sp.diff(eqn,vp)\n",
    "dfdvq = sp.diff(eqn,vq)"
   ]
  },
  {
   "cell_type": "code",
   "execution_count": 81,
   "id": "5edbe109",
   "metadata": {},
   "outputs": [],
   "source": [
    "dfdvp_eqn = dfdvp.subs(sp.sin(vp),sp.sqrt(1-sp.cos(vp)**2)).subs(sp.sin(vq),sp.sqrt(1-sp.cos(vq)**2)).subs(sp.cos(vq),x).subs(sp.cos(vp),y)\n",
    "dfdvq_eqn = dfdvq.subs(sp.sin(vp),sp.sqrt(1-sp.cos(vp)**2)).subs(sp.sin(vq),sp.sqrt(1-sp.cos(vq)**2)).subs(sp.cos(vq),x).subs(sp.cos(vp),y)"
   ]
  },
  {
   "cell_type": "code",
   "execution_count": 82,
   "id": "a8e9e331",
   "metadata": {},
   "outputs": [
    {
     "data": {
      "text/latex": [
       "$\\displaystyle A_{p}^{2} \\left(e_{q} x + 1\\right)^{2} \\left(- \\left(J_{p} \\sqrt{1 - y^{2}} + K_{p} y\\right) \\left(A_{p} \\left(J_{p} \\sqrt{1 - y^{2}} + K_{p} y\\right) \\left(e_{q} x + 1\\right) - A_{q} \\left(J_{q} \\sqrt{1 - x^{2}} + K_{q} x\\right) \\left(e_{p} y + 1\\right)\\right) - \\left(A_{p} \\left(e_{q} x + 1\\right) \\left(B_{p} \\sqrt{1 - y^{2}} + C_{p} y + D_{p} \\sqrt{1 - y^{2}} - E_{p} y\\right) + A_{q} \\left(e_{p} y + 1\\right) \\left(- B_{q} \\sqrt{1 - x^{2}} - C_{q} x - D_{q} \\sqrt{1 - x^{2}} + E_{q} x\\right)\\right) \\left(B_{p} \\sqrt{1 - y^{2}} + C_{p} y + D_{p} \\sqrt{1 - y^{2}} - E_{p} y\\right) + \\left(A_{p} \\left(e_{q} x + 1\\right) \\left(F_{p} \\sqrt{1 - y^{2}} - G_{p} y - H_{p} \\sqrt{1 - y^{2}} - I_{p} y\\right) + A_{q} \\left(e_{p} y + 1\\right) \\left(- F_{q} \\sqrt{1 - x^{2}} + G_{q} x + H_{q} \\sqrt{1 - x^{2}} + I_{q} x\\right)\\right) \\left(- F_{p} \\sqrt{1 - y^{2}} + G_{p} y + H_{p} \\sqrt{1 - y^{2}} + I_{p} y\\right)\\right) \\left(- 2 \\left(J_{p} y - K_{p} \\sqrt{1 - y^{2}}\\right) \\left(A_{p} \\left(J_{p} \\sqrt{1 - y^{2}} + K_{p} y\\right) \\left(e_{q} x + 1\\right) - A_{q} \\left(J_{q} \\sqrt{1 - x^{2}} + K_{q} x\\right) \\left(e_{p} y + 1\\right)\\right) - 2 \\left(J_{p} \\sqrt{1 - y^{2}} + K_{p} y\\right) \\left(A_{p} \\left(J_{p} y - K_{p} \\sqrt{1 - y^{2}}\\right) \\left(e_{q} x + 1\\right) + A_{q} e_{p} \\sqrt{1 - y^{2}} \\left(J_{q} \\sqrt{1 - x^{2}} + K_{q} x\\right)\\right) - 2 \\left(A_{p} \\left(e_{q} x + 1\\right) \\left(B_{p} y - C_{p} \\sqrt{1 - y^{2}} + D_{p} y + E_{p} \\sqrt{1 - y^{2}}\\right) - A_{q} e_{p} \\sqrt{1 - y^{2}} \\left(- B_{q} \\sqrt{1 - x^{2}} - C_{q} x - D_{q} \\sqrt{1 - x^{2}} + E_{q} x\\right)\\right) \\left(B_{p} \\sqrt{1 - y^{2}} + C_{p} y + D_{p} \\sqrt{1 - y^{2}} - E_{p} y\\right) - 2 \\left(A_{p} \\left(e_{q} x + 1\\right) \\left(B_{p} \\sqrt{1 - y^{2}} + C_{p} y + D_{p} \\sqrt{1 - y^{2}} - E_{p} y\\right) + A_{q} \\left(e_{p} y + 1\\right) \\left(- B_{q} \\sqrt{1 - x^{2}} - C_{q} x - D_{q} \\sqrt{1 - x^{2}} + E_{q} x\\right)\\right) \\left(B_{p} y - C_{p} \\sqrt{1 - y^{2}} + D_{p} y + E_{p} \\sqrt{1 - y^{2}}\\right) + 2 \\left(A_{p} \\left(e_{q} x + 1\\right) \\left(F_{p} y + G_{p} \\sqrt{1 - y^{2}} - H_{p} y + I_{p} \\sqrt{1 - y^{2}}\\right) - A_{q} e_{p} \\sqrt{1 - y^{2}} \\left(- F_{q} \\sqrt{1 - x^{2}} + G_{q} x + H_{q} \\sqrt{1 - x^{2}} + I_{q} x\\right)\\right) \\left(- F_{p} \\sqrt{1 - y^{2}} + G_{p} y + H_{p} \\sqrt{1 - y^{2}} + I_{p} y\\right) + 2 \\left(A_{p} \\left(e_{q} x + 1\\right) \\left(F_{p} \\sqrt{1 - y^{2}} - G_{p} y - H_{p} \\sqrt{1 - y^{2}} - I_{p} y\\right) + A_{q} \\left(e_{p} y + 1\\right) \\left(- F_{q} \\sqrt{1 - x^{2}} + G_{q} x + H_{q} \\sqrt{1 - x^{2}} + I_{q} x\\right)\\right) \\left(- F_{p} y - G_{p} \\sqrt{1 - y^{2}} + H_{p} y - I_{p} \\sqrt{1 - y^{2}}\\right)\\right) + 2 R^{2} e_{p} \\sqrt{1 - y^{2}} \\left(e_{p} y + 1\\right) \\left(e_{q} x + 1\\right)^{2} \\left(\\left(A_{p} \\left(J_{p} \\sqrt{1 - y^{2}} + K_{p} y\\right) \\left(e_{q} x + 1\\right) - A_{q} \\left(J_{q} \\sqrt{1 - x^{2}} + K_{q} x\\right) \\left(e_{p} y + 1\\right)\\right)^{2} + \\left(A_{p} \\left(e_{q} x + 1\\right) \\left(B_{p} \\sqrt{1 - y^{2}} + C_{p} y + D_{p} \\sqrt{1 - y^{2}} - E_{p} y\\right) + A_{q} \\left(e_{p} y + 1\\right) \\left(- B_{q} \\sqrt{1 - x^{2}} - C_{q} x - D_{q} \\sqrt{1 - x^{2}} + E_{q} x\\right)\\right)^{2} + \\left(A_{p} \\left(e_{q} x + 1\\right) \\left(F_{p} \\sqrt{1 - y^{2}} - G_{p} y - H_{p} \\sqrt{1 - y^{2}} - I_{p} y\\right) + A_{q} \\left(e_{p} y + 1\\right) \\left(- F_{q} \\sqrt{1 - x^{2}} + G_{q} x + H_{q} \\sqrt{1 - x^{2}} + I_{q} x\\right)\\right)^{2}\\right) - R^{2} \\left(e_{p} y + 1\\right)^{2} \\left(e_{q} x + 1\\right)^{2} \\left(\\left(2 A_{p} \\left(J_{p} y - K_{p} \\sqrt{1 - y^{2}}\\right) \\left(e_{q} x + 1\\right) + 2 A_{q} e_{p} \\sqrt{1 - y^{2}} \\left(J_{q} \\sqrt{1 - x^{2}} + K_{q} x\\right)\\right) \\left(A_{p} \\left(J_{p} \\sqrt{1 - y^{2}} + K_{p} y\\right) \\left(e_{q} x + 1\\right) - A_{q} \\left(J_{q} \\sqrt{1 - x^{2}} + K_{q} x\\right) \\left(e_{p} y + 1\\right)\\right) + \\left(2 A_{p} \\left(e_{q} x + 1\\right) \\left(B_{p} y - C_{p} \\sqrt{1 - y^{2}} + D_{p} y + E_{p} \\sqrt{1 - y^{2}}\\right) - 2 A_{q} e_{p} \\sqrt{1 - y^{2}} \\left(- B_{q} \\sqrt{1 - x^{2}} - C_{q} x - D_{q} \\sqrt{1 - x^{2}} + E_{q} x\\right)\\right) \\left(A_{p} \\left(e_{q} x + 1\\right) \\left(B_{p} \\sqrt{1 - y^{2}} + C_{p} y + D_{p} \\sqrt{1 - y^{2}} - E_{p} y\\right) + A_{q} \\left(e_{p} y + 1\\right) \\left(- B_{q} \\sqrt{1 - x^{2}} - C_{q} x - D_{q} \\sqrt{1 - x^{2}} + E_{q} x\\right)\\right) + \\left(2 A_{p} \\left(e_{q} x + 1\\right) \\left(F_{p} y + G_{p} \\sqrt{1 - y^{2}} - H_{p} y + I_{p} \\sqrt{1 - y^{2}}\\right) - 2 A_{q} e_{p} \\sqrt{1 - y^{2}} \\left(- F_{q} \\sqrt{1 - x^{2}} + G_{q} x + H_{q} \\sqrt{1 - x^{2}} + I_{q} x\\right)\\right) \\left(A_{p} \\left(e_{q} x + 1\\right) \\left(F_{p} \\sqrt{1 - y^{2}} - G_{p} y - H_{p} \\sqrt{1 - y^{2}} - I_{p} y\\right) + A_{q} \\left(e_{p} y + 1\\right) \\left(- F_{q} \\sqrt{1 - x^{2}} + G_{q} x + H_{q} \\sqrt{1 - x^{2}} + I_{q} x\\right)\\right)\\right)$"
      ],
      "text/plain": [
       "A_p**2*(e_q*x + 1)**2*(-(J_p*sqrt(1 - y**2) + K_p*y)*(A_p*(J_p*sqrt(1 - y**2) + K_p*y)*(e_q*x + 1) - A_q*(J_q*sqrt(1 - x**2) + K_q*x)*(e_p*y + 1)) - (A_p*(e_q*x + 1)*(B_p*sqrt(1 - y**2) + C_p*y + D_p*sqrt(1 - y**2) - E_p*y) + A_q*(e_p*y + 1)*(-B_q*sqrt(1 - x**2) - C_q*x - D_q*sqrt(1 - x**2) + E_q*x))*(B_p*sqrt(1 - y**2) + C_p*y + D_p*sqrt(1 - y**2) - E_p*y) + (A_p*(e_q*x + 1)*(F_p*sqrt(1 - y**2) - G_p*y - H_p*sqrt(1 - y**2) - I_p*y) + A_q*(e_p*y + 1)*(-F_q*sqrt(1 - x**2) + G_q*x + H_q*sqrt(1 - x**2) + I_q*x))*(-F_p*sqrt(1 - y**2) + G_p*y + H_p*sqrt(1 - y**2) + I_p*y))*(-2*(J_p*y - K_p*sqrt(1 - y**2))*(A_p*(J_p*sqrt(1 - y**2) + K_p*y)*(e_q*x + 1) - A_q*(J_q*sqrt(1 - x**2) + K_q*x)*(e_p*y + 1)) - 2*(J_p*sqrt(1 - y**2) + K_p*y)*(A_p*(J_p*y - K_p*sqrt(1 - y**2))*(e_q*x + 1) + A_q*e_p*sqrt(1 - y**2)*(J_q*sqrt(1 - x**2) + K_q*x)) - 2*(A_p*(e_q*x + 1)*(B_p*y - C_p*sqrt(1 - y**2) + D_p*y + E_p*sqrt(1 - y**2)) - A_q*e_p*sqrt(1 - y**2)*(-B_q*sqrt(1 - x**2) - C_q*x - D_q*sqrt(1 - x**2) + E_q*x))*(B_p*sqrt(1 - y**2) + C_p*y + D_p*sqrt(1 - y**2) - E_p*y) - 2*(A_p*(e_q*x + 1)*(B_p*sqrt(1 - y**2) + C_p*y + D_p*sqrt(1 - y**2) - E_p*y) + A_q*(e_p*y + 1)*(-B_q*sqrt(1 - x**2) - C_q*x - D_q*sqrt(1 - x**2) + E_q*x))*(B_p*y - C_p*sqrt(1 - y**2) + D_p*y + E_p*sqrt(1 - y**2)) + 2*(A_p*(e_q*x + 1)*(F_p*y + G_p*sqrt(1 - y**2) - H_p*y + I_p*sqrt(1 - y**2)) - A_q*e_p*sqrt(1 - y**2)*(-F_q*sqrt(1 - x**2) + G_q*x + H_q*sqrt(1 - x**2) + I_q*x))*(-F_p*sqrt(1 - y**2) + G_p*y + H_p*sqrt(1 - y**2) + I_p*y) + 2*(A_p*(e_q*x + 1)*(F_p*sqrt(1 - y**2) - G_p*y - H_p*sqrt(1 - y**2) - I_p*y) + A_q*(e_p*y + 1)*(-F_q*sqrt(1 - x**2) + G_q*x + H_q*sqrt(1 - x**2) + I_q*x))*(-F_p*y - G_p*sqrt(1 - y**2) + H_p*y - I_p*sqrt(1 - y**2))) + 2*R**2*e_p*sqrt(1 - y**2)*(e_p*y + 1)*(e_q*x + 1)**2*((A_p*(J_p*sqrt(1 - y**2) + K_p*y)*(e_q*x + 1) - A_q*(J_q*sqrt(1 - x**2) + K_q*x)*(e_p*y + 1))**2 + (A_p*(e_q*x + 1)*(B_p*sqrt(1 - y**2) + C_p*y + D_p*sqrt(1 - y**2) - E_p*y) + A_q*(e_p*y + 1)*(-B_q*sqrt(1 - x**2) - C_q*x - D_q*sqrt(1 - x**2) + E_q*x))**2 + (A_p*(e_q*x + 1)*(F_p*sqrt(1 - y**2) - G_p*y - H_p*sqrt(1 - y**2) - I_p*y) + A_q*(e_p*y + 1)*(-F_q*sqrt(1 - x**2) + G_q*x + H_q*sqrt(1 - x**2) + I_q*x))**2) - R**2*(e_p*y + 1)**2*(e_q*x + 1)**2*((2*A_p*(J_p*y - K_p*sqrt(1 - y**2))*(e_q*x + 1) + 2*A_q*e_p*sqrt(1 - y**2)*(J_q*sqrt(1 - x**2) + K_q*x))*(A_p*(J_p*sqrt(1 - y**2) + K_p*y)*(e_q*x + 1) - A_q*(J_q*sqrt(1 - x**2) + K_q*x)*(e_p*y + 1)) + (2*A_p*(e_q*x + 1)*(B_p*y - C_p*sqrt(1 - y**2) + D_p*y + E_p*sqrt(1 - y**2)) - 2*A_q*e_p*sqrt(1 - y**2)*(-B_q*sqrt(1 - x**2) - C_q*x - D_q*sqrt(1 - x**2) + E_q*x))*(A_p*(e_q*x + 1)*(B_p*sqrt(1 - y**2) + C_p*y + D_p*sqrt(1 - y**2) - E_p*y) + A_q*(e_p*y + 1)*(-B_q*sqrt(1 - x**2) - C_q*x - D_q*sqrt(1 - x**2) + E_q*x)) + (2*A_p*(e_q*x + 1)*(F_p*y + G_p*sqrt(1 - y**2) - H_p*y + I_p*sqrt(1 - y**2)) - 2*A_q*e_p*sqrt(1 - y**2)*(-F_q*sqrt(1 - x**2) + G_q*x + H_q*sqrt(1 - x**2) + I_q*x))*(A_p*(e_q*x + 1)*(F_p*sqrt(1 - y**2) - G_p*y - H_p*sqrt(1 - y**2) - I_p*y) + A_q*(e_p*y + 1)*(-F_q*sqrt(1 - x**2) + G_q*x + H_q*sqrt(1 - x**2) + I_q*x)))"
      ]
     },
     "execution_count": 82,
     "metadata": {},
     "output_type": "execute_result"
    }
   ],
   "source": [
    "dfdvp_eqn"
   ]
  },
  {
   "cell_type": "code",
   "execution_count": 94,
   "id": "556c93ab",
   "metadata": {},
   "outputs": [
    {
     "name": "stdout",
     "output_type": "stream",
     "text": [
      "A_p**2*(e_q*x + 1)**2*(-(J_p*sqrt(1 - y**2) + K_p*y)*(A_p*(J_p*sqrt(1 - y**2) + K_p*y)*(e_q*x + 1) - A_q*(J_q*sqrt(1 - x**2) + K_q*x)*(e_p*y + 1)) - (A_p*(e_q*x + 1)*(B_p*sqrt(1 - y**2) + C_p*y + D_p*sqrt(1 - y**2) - E_p*y) + A_q*(e_p*y + 1)*(-B_q*sqrt(1 - x**2) - C_q*x - D_q*sqrt(1 - x**2) + E_q*x))*(B_p*sqrt(1 - y**2) + C_p*y + D_p*sqrt(1 - y**2) - E_p*y) + (A_p*(e_q*x + 1)*(F_p*sqrt(1 - y**2) - G_p*y - H_p*sqrt(1 - y**2) - I_p*y) + A_q*(e_p*y + 1)*(-F_q*sqrt(1 - x**2) + G_q*x + H_q*sqrt(1 - x**2) + I_q*x))*(-F_p*sqrt(1 - y**2) + G_p*y + H_p*sqrt(1 - y**2) + I_p*y))*(-2*(J_p*y - K_p*sqrt(1 - y**2))*(A_p*(J_p*sqrt(1 - y**2) + K_p*y)*(e_q*x + 1) - A_q*(J_q*sqrt(1 - x**2) + K_q*x)*(e_p*y + 1)) - 2*(J_p*sqrt(1 - y**2) + K_p*y)*(A_p*(J_p*y - K_p*sqrt(1 - y**2))*(e_q*x + 1) + A_q*e_p*sqrt(1 - y**2)*(J_q*sqrt(1 - x**2) + K_q*x)) - 2*(A_p*(e_q*x + 1)*(B_p*y - C_p*sqrt(1 - y**2) + D_p*y + E_p*sqrt(1 - y**2)) - A_q*e_p*sqrt(1 - y**2)*(-B_q*sqrt(1 - x**2) - C_q*x - D_q*sqrt(1 - x**2) + E_q*x))*(B_p*sqrt(1 - y**2) + C_p*y + D_p*sqrt(1 - y**2) - E_p*y) - 2*(A_p*(e_q*x + 1)*(B_p*sqrt(1 - y**2) + C_p*y + D_p*sqrt(1 - y**2) - E_p*y) + A_q*(e_p*y + 1)*(-B_q*sqrt(1 - x**2) - C_q*x - D_q*sqrt(1 - x**2) + E_q*x))*(B_p*y - C_p*sqrt(1 - y**2) + D_p*y + E_p*sqrt(1 - y**2)) + 2*(A_p*(e_q*x + 1)*(F_p*y + G_p*sqrt(1 - y**2) - H_p*y + I_p*sqrt(1 - y**2)) - A_q*e_p*sqrt(1 - y**2)*(-F_q*sqrt(1 - x**2) + G_q*x + H_q*sqrt(1 - x**2) + I_q*x))*(-F_p*sqrt(1 - y**2) + G_p*y + H_p*sqrt(1 - y**2) + I_p*y) + 2*(A_p*(e_q*x + 1)*(F_p*sqrt(1 - y**2) - G_p*y - H_p*sqrt(1 - y**2) - I_p*y) + A_q*(e_p*y + 1)*(-F_q*sqrt(1 - x**2) + G_q*x + H_q*sqrt(1 - x**2) + I_q*x))*(-F_p*y - G_p*sqrt(1 - y**2) + H_p*y - I_p*sqrt(1 - y**2))) + 2*R**2*e_p*sqrt(1 - y**2)*(e_p*y + 1)*(e_q*x + 1)**2*((A_p*(J_p*sqrt(1 - y**2) + K_p*y)*(e_q*x + 1) - A_q*(J_q*sqrt(1 - x**2) + K_q*x)*(e_p*y + 1))**2 + (A_p*(e_q*x + 1)*(B_p*sqrt(1 - y**2) + C_p*y + D_p*sqrt(1 - y**2) - E_p*y) + A_q*(e_p*y + 1)*(-B_q*sqrt(1 - x**2) - C_q*x - D_q*sqrt(1 - x**2) + E_q*x))**2 + (A_p*(e_q*x + 1)*(F_p*sqrt(1 - y**2) - G_p*y - H_p*sqrt(1 - y**2) - I_p*y) + A_q*(e_p*y + 1)*(-F_q*sqrt(1 - x**2) + G_q*x + H_q*sqrt(1 - x**2) + I_q*x))**2) - R**2*(e_p*y + 1)**2*(e_q*x + 1)**2*((2*A_p*(J_p*y - K_p*sqrt(1 - y**2))*(e_q*x + 1) + 2*A_q*e_p*sqrt(1 - y**2)*(J_q*sqrt(1 - x**2) + K_q*x))*(A_p*(J_p*sqrt(1 - y**2) + K_p*y)*(e_q*x + 1) - A_q*(J_q*sqrt(1 - x**2) + K_q*x)*(e_p*y + 1)) + (2*A_p*(e_q*x + 1)*(B_p*y - C_p*sqrt(1 - y**2) + D_p*y + E_p*sqrt(1 - y**2)) - 2*A_q*e_p*sqrt(1 - y**2)*(-B_q*sqrt(1 - x**2) - C_q*x - D_q*sqrt(1 - x**2) + E_q*x))*(A_p*(e_q*x + 1)*(B_p*sqrt(1 - y**2) + C_p*y + D_p*sqrt(1 - y**2) - E_p*y) + A_q*(e_p*y + 1)*(-B_q*sqrt(1 - x**2) - C_q*x - D_q*sqrt(1 - x**2) + E_q*x)) + (2*A_p*(e_q*x + 1)*(F_p*y + G_p*sqrt(1 - y**2) - H_p*y + I_p*sqrt(1 - y**2)) - 2*A_q*e_p*sqrt(1 - y**2)*(-F_q*sqrt(1 - x**2) + G_q*x + H_q*sqrt(1 - x**2) + I_q*x))*(A_p*(e_q*x + 1)*(F_p*sqrt(1 - y**2) - G_p*y - H_p*sqrt(1 - y**2) - I_p*y) + A_q*(e_p*y + 1)*(-F_q*sqrt(1 - x**2) + G_q*x + H_q*sqrt(1 - x**2) + I_q*x)))\n"
     ]
    }
   ],
   "source": [
    "print(dfdvp_eqn)"
   ]
  },
  {
   "cell_type": "code",
   "execution_count": 83,
   "id": "9e021931",
   "metadata": {},
   "outputs": [],
   "source": [
    "dfdvp_eqn_expanded = sp.expand(dfdvp_eqn)"
   ]
  },
  {
   "cell_type": "code",
   "execution_count": 84,
   "id": "0f20ad74",
   "metadata": {},
   "outputs": [],
   "source": [
    "sqrt1mx2 = sp.symbols(\"sqrt1mx2\",real=True,positive=True)\n",
    "dfdvp_eqn_expanded = dfdvp_eqn_expanded.subs(sp.sqrt(1-x**2),sqrt1mx2)"
   ]
  },
  {
   "cell_type": "code",
   "execution_count": 85,
   "id": "3370a31b",
   "metadata": {},
   "outputs": [],
   "source": [
    "no_sqrt1mx2 = list()\n",
    "one_sqrt1mx2 = list()\n",
    "two_sqrt1mx2 = list()\n",
    "exps = list()\n",
    "count = 0\n",
    "for i in np.arange(len(dfdvp_eqn_expanded.args)): #iterate over terms\n",
    "    if(sqrt1mx2 in dfdvp_eqn_expanded.args[i].free_symbols):\n",
    "        count +=1\n",
    "        #print(dfdvp_eqn_expanded.args[i])\n",
    "        tmp = list(dfdvp_eqn_expanded.args[i].atoms(sp.Pow))\n",
    "        #print(tmp)\n",
    "        anyExp = False #accounts whether any of the terms with exponents are sqrt1mx2\n",
    "        for j in np.arange(len(tmp)):\n",
    "            if sqrt1mx2 in tmp[j].free_symbols:\n",
    "                anyExp = True\n",
    "                #Get the exponent of the sqrt1mx2\n",
    "                exp = tmp[j].atoms(sp.Pow)[0].as_base_exp()[1]\n",
    "                print(exp)\n",
    "                exps.append(exp)\n",
    "                two_sqrt1mx2.append(dfdvp_eqn_expanded.args[i])\n",
    "        if not anyExp:\n",
    "            one_sqrt1mx2.append(dfdvp_eqn_expanded.args[i])\n",
    "    else:\n",
    "        no_sqrt1mx2.append(dfdvp_eqn_expanded.args[i])"
   ]
  },
  {
   "cell_type": "code",
   "execution_count": 86,
   "id": "ce252cd7",
   "metadata": {},
   "outputs": [
    {
     "data": {
      "text/plain": [
       "[-6*A_p**3*A_q*B_p**3*B_q*sqrt1mx2*y,\n",
       " -6*A_p**3*A_q*B_q*D_p**3*sqrt1mx2*y,\n",
       " -6*A_p**3*A_q*B_p**3*D_q*sqrt1mx2*y,\n",
       " -6*A_p**3*A_q*D_p**3*D_q*sqrt1mx2*y,\n",
       " -6*A_p**3*A_q*F_p**3*F_q*sqrt1mx2*y,\n",
       " -6*A_p**3*A_q*F_q*H_p**3*sqrt1mx2*y**3,\n",
       " -6*A_p**3*A_q*H_p**3*H_q*sqrt1mx2*y,\n",
       " -6*A_p**3*A_q*F_p**3*H_q*sqrt1mx2*y**3,\n",
       " -6*A_p**3*A_q*J_p**3*J_q*sqrt1mx2*y,\n",
       " -2*A_p**3*A_q*F_q*H_p**3*e_p*sqrt1mx2,\n",
       " -2*A_p**3*A_q*F_p**3*H_q*e_p*sqrt1mx2,\n",
       " 2*A_p**3*A_q*B_p**3*B_q*e_p*sqrt1mx2,\n",
       " 2*A_p**3*A_q*B_q*D_p**3*e_p*sqrt1mx2,\n",
       " 2*A_p**3*A_q*B_p**3*D_q*e_p*sqrt1mx2,\n",
       " 2*A_p**3*A_q*D_p**3*D_q*e_p*sqrt1mx2,\n",
       " 2*A_p**3*A_q*F_p**3*F_q*e_p*sqrt1mx2,\n",
       " 2*A_p**3*A_q*H_p**3*H_q*e_p*sqrt1mx2,\n",
       " 2*A_p**3*A_q*J_p**3*J_q*e_p*sqrt1mx2,\n",
       " 6*A_p**3*A_q*B_p**3*B_q*sqrt1mx2*y**3,\n",
       " 6*A_p**3*A_q*B_q*D_p**3*sqrt1mx2*y**3,\n",
       " 6*A_p**3*A_q*B_p**3*D_q*sqrt1mx2*y**3,\n",
       " 6*A_p**3*A_q*D_p**3*D_q*sqrt1mx2*y**3,\n",
       " 6*A_p**3*A_q*F_q*H_p**3*sqrt1mx2*y,\n",
       " 6*A_p**3*A_q*F_p**3*F_q*sqrt1mx2*y**3,\n",
       " 6*A_p**3*A_q*F_p**3*H_q*sqrt1mx2*y,\n",
       " 6*A_p**3*A_q*H_p**3*H_q*sqrt1mx2*y**3,\n",
       " 6*A_p**3*A_q*J_p**3*J_q*sqrt1mx2*y**3,\n",
       " -18*A_p**3*A_q*B_p*B_q*D_p**2*sqrt1mx2*y,\n",
       " -18*A_p**3*A_q*B_p*B_q*C_p**2*sqrt1mx2*y**3,\n",
       " -18*A_p**3*A_q*B_p*B_q*E_p**2*sqrt1mx2*y**3,\n",
       " -18*A_p**3*A_q*B_p*D_p**2*D_q*sqrt1mx2*y,\n",
       " -18*A_p**3*A_q*B_p*C_p**2*D_q*sqrt1mx2*y**3,\n",
       " -18*A_p**3*A_q*B_p*D_q*E_p**2*sqrt1mx2*y**3,\n",
       " -18*A_p**3*A_q*B_p**2*B_q*D_p*sqrt1mx2*y,\n",
       " -18*A_p**3*A_q*B_q*C_p**2*D_p*sqrt1mx2*y**3,\n",
       " -18*A_p**3*A_q*B_q*D_p*E_p**2*sqrt1mx2*y**3,\n",
       " -18*A_p**3*A_q*B_p**2*D_p*D_q*sqrt1mx2*y,\n",
       " -18*A_p**3*A_q*C_p**2*D_p*D_q*sqrt1mx2*y**3,\n",
       " -18*A_p**3*A_q*D_p*D_q*E_p**2*sqrt1mx2*y**3,\n",
       " -18*A_p**3*A_q*F_p*F_q*H_p**2*sqrt1mx2*y,\n",
       " -18*A_p**3*A_q*F_p*F_q*G_p**2*sqrt1mx2*y**3,\n",
       " -18*A_p**3*A_q*F_p*F_q*I_p**2*sqrt1mx2*y**3,\n",
       " -18*A_p**3*A_q*F_p*H_p**2*H_q*sqrt1mx2*y**3,\n",
       " -18*A_p**3*A_q*F_p**2*F_q*H_p*sqrt1mx2*y**3,\n",
       " -18*A_p**3*A_q*F_p**2*H_p*H_q*sqrt1mx2*y,\n",
       " -18*A_p**3*A_q*G_p**2*H_p*H_q*sqrt1mx2*y**3,\n",
       " -18*A_p**3*A_q*H_p*H_q*I_p**2*sqrt1mx2*y**3,\n",
       " -18*A_p**3*A_q*J_p*J_q*K_p**2*sqrt1mx2*y**3,\n",
       " -12*A_p**3*A_q*F_p*G_p**2*H_q*sqrt1mx2*y,\n",
       " -12*A_p**3*A_q*F_p*H_q*I_p**2*sqrt1mx2*y,\n",
       " -12*A_p**3*A_q*F_q*G_p**2*H_p*sqrt1mx2*y,\n",
       " -12*A_p**3*A_q*F_q*H_p*I_p**2*sqrt1mx2*y,\n",
       " -10*A_p**3*A_q*B_p**3*B_q*e_p*sqrt1mx2*y**2,\n",
       " -10*A_p**3*A_q*B_q*D_p**3*e_p*sqrt1mx2*y**2,\n",
       " -10*A_p**3*A_q*B_p**3*D_q*e_p*sqrt1mx2*y**2,\n",
       " -10*A_p**3*A_q*D_p**3*D_q*e_p*sqrt1mx2*y**2,\n",
       " -10*A_p**3*A_q*F_p**3*F_q*e_p*sqrt1mx2*y**2,\n",
       " -10*A_p**3*A_q*H_p**3*H_q*e_p*sqrt1mx2*y**2,\n",
       " -10*A_p**3*A_q*J_p**3*J_q*e_p*sqrt1mx2*y**2,\n",
       " -8*A_p**3*A_q*F_q*H_p**3*e_p*sqrt1mx2*y**4,\n",
       " -8*A_p**3*A_q*F_p**3*H_q*e_p*sqrt1mx2*y**4,\n",
       " -6*A_p*A_q*B_p*B_q*R**2*e_p*sqrt1mx2,\n",
       " -6*A_p*A_q*B_p*D_q*R**2*e_p*sqrt1mx2,\n",
       " -6*A_p*A_q*B_q*D_p*R**2*e_p*sqrt1mx2,\n",
       " -6*A_p*A_q*D_p*D_q*R**2*e_p*sqrt1mx2,\n",
       " -6*A_p*A_q*F_p*F_q*R**2*e_p*sqrt1mx2,\n",
       " -6*A_p*A_q*H_p*H_q*R**2*e_p*sqrt1mx2,\n",
       " -6*A_p*A_q*J_p*J_q*R**2*e_p*sqrt1mx2,\n",
       " -6*A_p**3*A_q*B_p*B_q*F_p**2*sqrt1mx2*y,\n",
       " -6*A_p**3*A_q*B_p*B_q*H_p**2*sqrt1mx2*y,\n",
       " -6*A_p**3*A_q*B_p*B_q*J_p**2*sqrt1mx2*y,\n",
       " -6*A_p**3*A_q*B_p*B_q*G_p**2*sqrt1mx2*y**3,\n",
       " -6*A_p**3*A_q*B_p*B_q*I_p**2*sqrt1mx2*y**3,\n",
       " -6*A_p**3*A_q*B_p*B_q*K_p**2*sqrt1mx2*y**3,\n",
       " -6*A_p**3*A_q*B_p*D_q*F_p**2*sqrt1mx2*y,\n",
       " -6*A_p**3*A_q*B_p*D_q*H_p**2*sqrt1mx2*y,\n",
       " -6*A_p**3*A_q*B_p*D_q*J_p**2*sqrt1mx2*y,\n",
       " -6*A_p**3*A_q*B_p*D_q*G_p**2*sqrt1mx2*y**3,\n",
       " -6*A_p**3*A_q*B_p*D_q*I_p**2*sqrt1mx2*y**3,\n",
       " -6*A_p**3*A_q*B_p*D_q*K_p**2*sqrt1mx2*y**3,\n",
       " -6*A_p**3*A_q*B_q*D_p*F_p**2*sqrt1mx2*y,\n",
       " -6*A_p**3*A_q*B_q*D_p*H_p**2*sqrt1mx2*y,\n",
       " -6*A_p**3*A_q*B_q*D_p*J_p**2*sqrt1mx2*y,\n",
       " -6*A_p**3*A_q*B_q*D_p*G_p**2*sqrt1mx2*y**3,\n",
       " -6*A_p**3*A_q*B_q*D_p*I_p**2*sqrt1mx2*y**3,\n",
       " -6*A_p**3*A_q*B_q*D_p*K_p**2*sqrt1mx2*y**3,\n",
       " -6*A_p**3*A_q*B_p**2*B_q*E_p*sqrt1mx2*sqrt(1 - y**2),\n",
       " -6*A_p**3*A_q*B_q*D_p**2*E_p*sqrt1mx2*sqrt(1 - y**2),\n",
       " -6*A_p**3*A_q*B_q*E_p**3*sqrt1mx2*y**2*sqrt(1 - y**2),\n",
       " -6*A_p**3*A_q*D_p*D_q*F_p**2*sqrt1mx2*y,\n",
       " -6*A_p**3*A_q*D_p*D_q*H_p**2*sqrt1mx2*y,\n",
       " -6*A_p**3*A_q*D_p*D_q*J_p**2*sqrt1mx2*y,\n",
       " -6*A_p**3*A_q*D_p*D_q*G_p**2*sqrt1mx2*y**3,\n",
       " -6*A_p**3*A_q*D_p*D_q*I_p**2*sqrt1mx2*y**3,\n",
       " -6*A_p**3*A_q*D_p*D_q*K_p**2*sqrt1mx2*y**3,\n",
       " -6*A_p**3*A_q*B_p**2*D_q*E_p*sqrt1mx2*sqrt(1 - y**2),\n",
       " -6*A_p**3*A_q*D_p**2*D_q*E_p*sqrt1mx2*sqrt(1 - y**2),\n",
       " -6*A_p**3*A_q*D_q*E_p**3*sqrt1mx2*y**2*sqrt(1 - y**2),\n",
       " -6*A_p**3*A_q*B_p**2*F_p*F_q*sqrt1mx2*y,\n",
       " -6*A_p**3*A_q*D_p**2*F_p*F_q*sqrt1mx2*y,\n",
       " -6*A_p**3*A_q*F_p*F_q*J_p**2*sqrt1mx2*y,\n",
       " -6*A_p**3*A_q*C_p**2*F_p*F_q*sqrt1mx2*y**3,\n",
       " -6*A_p**3*A_q*E_p**2*F_p*F_q*sqrt1mx2*y**3,\n",
       " -6*A_p**3*A_q*F_p*F_q*K_p**2*sqrt1mx2*y**3,\n",
       " -6*A_p**3*A_q*F_p*H_p**2*H_q*e_p*sqrt1mx2,\n",
       " -6*A_p**3*A_q*B_p**2*F_p*H_q*sqrt1mx2*y**3,\n",
       " -6*A_p**3*A_q*D_p**2*F_p*H_q*sqrt1mx2*y**3,\n",
       " -6*A_p**3*A_q*F_p*H_q*J_p**2*sqrt1mx2*y**3,\n",
       " -6*A_p**3*A_q*F_p**2*F_q*G_p*sqrt1mx2*sqrt(1 - y**2),\n",
       " -6*A_p**3*A_q*F_q*G_p*H_p**2*sqrt1mx2*sqrt(1 - y**2),\n",
       " -6*A_p**3*A_q*F_p**2*F_q*H_p*e_p*sqrt1mx2,\n",
       " -6*A_p**3*A_q*B_p**2*F_q*H_p*sqrt1mx2*y**3,\n",
       " -6*A_p**3*A_q*D_p**2*F_q*H_p*sqrt1mx2*y**3,\n",
       " -6*A_p**3*A_q*F_q*H_p*J_p**2*sqrt1mx2*y**3,\n",
       " -6*A_p**3*A_q*F_p**2*F_q*I_p*sqrt1mx2*sqrt(1 - y**2),\n",
       " -6*A_p**3*A_q*F_q*H_p**2*I_p*sqrt1mx2*sqrt(1 - y**2),\n",
       " -6*A_p**3*A_q*F_q*G_p**3*sqrt1mx2*y**2*sqrt(1 - y**2),\n",
       " -6*A_p**3*A_q*F_q*I_p**3*sqrt1mx2*y**2*sqrt(1 - y**2),\n",
       " -6*A_p**3*A_q*B_p**2*H_p*H_q*sqrt1mx2*y,\n",
       " -6*A_p**3*A_q*D_p**2*H_p*H_q*sqrt1mx2*y,\n",
       " -6*A_p**3*A_q*H_p*H_q*J_p**2*sqrt1mx2*y,\n",
       " -6*A_p**3*A_q*C_p**2*H_p*H_q*sqrt1mx2*y**3,\n",
       " -6*A_p**3*A_q*E_p**2*H_p*H_q*sqrt1mx2*y**3,\n",
       " -6*A_p**3*A_q*H_p*H_q*K_p**2*sqrt1mx2*y**3,\n",
       " -6*A_p**3*A_q*B_p**2*J_p*J_q*sqrt1mx2*y,\n",
       " -6*A_p**3*A_q*D_p**2*J_p*J_q*sqrt1mx2*y,\n",
       " -6*A_p**3*A_q*F_p**2*J_p*J_q*sqrt1mx2*y,\n",
       " -6*A_p**3*A_q*H_p**2*J_p*J_q*sqrt1mx2*y,\n",
       " -6*A_p**3*A_q*C_p**2*J_p*J_q*sqrt1mx2*y**3,\n",
       " -6*A_p**3*A_q*E_p**2*J_p*J_q*sqrt1mx2*y**3,\n",
       " -6*A_p**3*A_q*G_p**2*J_p*J_q*sqrt1mx2*y**3,\n",
       " -6*A_p**3*A_q*I_p**2*J_p*J_q*sqrt1mx2*y**3,\n",
       " -4*A_p**3*A_q*C_p**2*F_p*H_q*sqrt1mx2*y,\n",
       " -4*A_p**3*A_q*E_p**2*F_p*H_q*sqrt1mx2*y,\n",
       " -4*A_p**3*A_q*F_p*H_q*K_p**2*sqrt1mx2*y,\n",
       " -4*A_p**3*A_q*C_p**2*F_q*H_p*sqrt1mx2*y,\n",
       " -4*A_p**3*A_q*E_p**2*F_q*H_p*sqrt1mx2*y,\n",
       " -4*A_p**3*A_q*F_q*H_p*K_p**2*sqrt1mx2*y,\n",
       " -2*A_p*A_q*B_q*C_p*R**2*sqrt1mx2*sqrt(1 - y**2),\n",
       " -2*A_p*A_q*C_p*D_q*R**2*sqrt1mx2*sqrt(1 - y**2),\n",
       " -2*A_p*A_q*F_p*H_q*R**2*sqrt1mx2*y,\n",
       " -2*A_p*A_q*F_q*H_p*R**2*sqrt1mx2*y,\n",
       " -2*A_p*A_q*G_p*H_q*R**2*sqrt1mx2*sqrt(1 - y**2),\n",
       " -2*A_p*A_q*H_q*I_p*R**2*sqrt1mx2*sqrt(1 - y**2),\n",
       " -2*A_p*A_q*J_q*K_p*R**2*sqrt1mx2*sqrt(1 - y**2),\n",
       " -2*A_p**3*A_q*B_q*E_p*F_p**2*sqrt1mx2*sqrt(1 - y**2),\n",
       " -2*A_p**3*A_q*B_q*E_p*H_p**2*sqrt1mx2*sqrt(1 - y**2),\n",
       " -2*A_p**3*A_q*B_q*E_p*J_p**2*sqrt1mx2*sqrt(1 - y**2),\n",
       " -2*A_p**3*A_q*D_q*E_p*F_p**2*sqrt1mx2*sqrt(1 - y**2),\n",
       " -2*A_p**3*A_q*D_q*E_p*H_p**2*sqrt1mx2*sqrt(1 - y**2),\n",
       " -2*A_p**3*A_q*D_q*E_p*J_p**2*sqrt1mx2*sqrt(1 - y**2),\n",
       " -2*A_p**3*A_q*B_p**2*F_p*H_q*e_p*sqrt1mx2,\n",
       " -2*A_p**3*A_q*D_p**2*F_p*H_q*e_p*sqrt1mx2,\n",
       " -2*A_p**3*A_q*F_p*H_q*J_p**2*e_p*sqrt1mx2,\n",
       " -2*A_p**3*A_q*B_p**2*F_q*G_p*sqrt1mx2*sqrt(1 - y**2),\n",
       " -2*A_p**3*A_q*D_p**2*F_q*G_p*sqrt1mx2*sqrt(1 - y**2),\n",
       " -2*A_p**3*A_q*F_q*G_p*J_p**2*sqrt1mx2*sqrt(1 - y**2),\n",
       " -2*A_p**3*A_q*B_p**2*F_q*H_p*e_p*sqrt1mx2,\n",
       " -2*A_p**3*A_q*D_p**2*F_q*H_p*e_p*sqrt1mx2,\n",
       " -2*A_p**3*A_q*F_q*H_p*J_p**2*e_p*sqrt1mx2,\n",
       " -2*A_p**3*A_q*B_p**2*F_q*I_p*sqrt1mx2*sqrt(1 - y**2),\n",
       " -2*A_p**3*A_q*D_p**2*F_q*I_p*sqrt1mx2*sqrt(1 - y**2),\n",
       " -2*A_p**3*A_q*F_q*I_p*J_p**2*sqrt1mx2*sqrt(1 - y**2),\n",
       " 2*A_p*A_q*B_p*B_q*R**2*sqrt1mx2*y,\n",
       " 2*A_p*A_q*B_p*D_q*R**2*sqrt1mx2*y,\n",
       " 2*A_p*A_q*B_q*D_p*R**2*sqrt1mx2*y,\n",
       " 2*A_p*A_q*B_q*E_p*R**2*sqrt1mx2*sqrt(1 - y**2),\n",
       " 2*A_p*A_q*D_p*D_q*R**2*sqrt1mx2*y,\n",
       " 2*A_p*A_q*D_q*E_p*R**2*sqrt1mx2*sqrt(1 - y**2),\n",
       " 2*A_p*A_q*F_p*F_q*R**2*sqrt1mx2*y,\n",
       " 2*A_p*A_q*F_q*G_p*R**2*sqrt1mx2*sqrt(1 - y**2),\n",
       " 2*A_p*A_q*F_q*I_p*R**2*sqrt1mx2*sqrt(1 - y**2),\n",
       " 2*A_p*A_q*H_p*H_q*R**2*sqrt1mx2*y,\n",
       " 2*A_p*A_q*J_p*J_q*R**2*sqrt1mx2*y,\n",
       " 2*A_p**3*A_q*B_p*B_q*F_p**2*e_p*sqrt1mx2,\n",
       " 2*A_p**3*A_q*B_p*B_q*H_p**2*e_p*sqrt1mx2,\n",
       " 2*A_p**3*A_q*B_p*B_q*J_p**2*e_p*sqrt1mx2,\n",
       " 2*A_p**3*A_q*B_p*D_q*F_p**2*e_p*sqrt1mx2,\n",
       " 2*A_p**3*A_q*B_p*D_q*H_p**2*e_p*sqrt1mx2,\n",
       " 2*A_p**3*A_q*B_p*D_q*J_p**2*e_p*sqrt1mx2,\n",
       " 2*A_p**3*A_q*B_q*C_p*F_p**2*sqrt1mx2*sqrt(1 - y**2),\n",
       " 2*A_p**3*A_q*B_q*C_p*H_p**2*sqrt1mx2*sqrt(1 - y**2),\n",
       " 2*A_p**3*A_q*B_q*C_p*J_p**2*sqrt1mx2*sqrt(1 - y**2),\n",
       " 2*A_p**3*A_q*B_q*D_p*F_p**2*e_p*sqrt1mx2,\n",
       " 2*A_p**3*A_q*B_q*D_p*H_p**2*e_p*sqrt1mx2,\n",
       " 2*A_p**3*A_q*B_q*D_p*J_p**2*e_p*sqrt1mx2,\n",
       " 2*A_p**3*A_q*C_p*D_q*F_p**2*sqrt1mx2*sqrt(1 - y**2),\n",
       " 2*A_p**3*A_q*C_p*D_q*H_p**2*sqrt1mx2*sqrt(1 - y**2),\n",
       " 2*A_p**3*A_q*C_p*D_q*J_p**2*sqrt1mx2*sqrt(1 - y**2),\n",
       " 2*A_p**3*A_q*D_p*D_q*F_p**2*e_p*sqrt1mx2,\n",
       " 2*A_p**3*A_q*D_p*D_q*H_p**2*e_p*sqrt1mx2,\n",
       " 2*A_p**3*A_q*D_p*D_q*J_p**2*e_p*sqrt1mx2,\n",
       " 2*A_p**3*A_q*B_p**2*F_p*F_q*e_p*sqrt1mx2,\n",
       " 2*A_p**3*A_q*D_p**2*F_p*F_q*e_p*sqrt1mx2,\n",
       " 2*A_p**3*A_q*F_p*F_q*J_p**2*e_p*sqrt1mx2,\n",
       " 2*A_p**3*A_q*B_p**2*G_p*H_q*sqrt1mx2*sqrt(1 - y**2),\n",
       " 2*A_p**3*A_q*D_p**2*G_p*H_q*sqrt1mx2*sqrt(1 - y**2),\n",
       " 2*A_p**3*A_q*G_p*H_q*J_p**2*sqrt1mx2*sqrt(1 - y**2),\n",
       " 2*A_p**3*A_q*B_p**2*H_p*H_q*e_p*sqrt1mx2,\n",
       " 2*A_p**3*A_q*D_p**2*H_p*H_q*e_p*sqrt1mx2,\n",
       " 2*A_p**3*A_q*H_p*H_q*J_p**2*e_p*sqrt1mx2,\n",
       " 2*A_p**3*A_q*B_p**2*H_q*I_p*sqrt1mx2*sqrt(1 - y**2),\n",
       " 2*A_p**3*A_q*D_p**2*H_q*I_p*sqrt1mx2*sqrt(1 - y**2),\n",
       " 2*A_p**3*A_q*H_q*I_p*J_p**2*sqrt1mx2*sqrt(1 - y**2),\n",
       " 2*A_p**3*A_q*B_p**2*J_p*J_q*e_p*sqrt1mx2,\n",
       " 2*A_p**3*A_q*D_p**2*J_p*J_q*e_p*sqrt1mx2,\n",
       " 2*A_p**3*A_q*F_p**2*J_p*J_q*e_p*sqrt1mx2,\n",
       " 2*A_p**3*A_q*H_p**2*J_p*J_q*e_p*sqrt1mx2,\n",
       " 2*A_p**3*A_q*B_p**2*J_q*K_p*sqrt1mx2*sqrt(1 - y**2),\n",
       " 2*A_p**3*A_q*D_p**2*J_q*K_p*sqrt1mx2*sqrt(1 - y**2),\n",
       " 2*A_p**3*A_q*F_p**2*J_q*K_p*sqrt1mx2*sqrt(1 - y**2),\n",
       " 2*A_p**3*A_q*H_p**2*J_q*K_p*sqrt1mx2*sqrt(1 - y**2),\n",
       " 4*A_p**3*A_q*B_p*B_q*G_p**2*sqrt1mx2*y,\n",
       " 4*A_p**3*A_q*B_p*B_q*I_p**2*sqrt1mx2*y,\n",
       " 4*A_p**3*A_q*B_p*B_q*K_p**2*sqrt1mx2*y,\n",
       " 4*A_p**3*A_q*B_p*D_q*G_p**2*sqrt1mx2*y,\n",
       " 4*A_p**3*A_q*B_p*D_q*I_p**2*sqrt1mx2*y,\n",
       " 4*A_p**3*A_q*B_p*D_q*K_p**2*sqrt1mx2*y,\n",
       " 4*A_p**3*A_q*B_q*D_p*G_p**2*sqrt1mx2*y,\n",
       " 4*A_p**3*A_q*B_q*D_p*I_p**2*sqrt1mx2*y,\n",
       " 4*A_p**3*A_q*B_q*D_p*K_p**2*sqrt1mx2*y,\n",
       " 4*A_p**3*A_q*D_p*D_q*G_p**2*sqrt1mx2*y,\n",
       " 4*A_p**3*A_q*D_p*D_q*I_p**2*sqrt1mx2*y,\n",
       " 4*A_p**3*A_q*D_p*D_q*K_p**2*sqrt1mx2*y,\n",
       " 4*A_p**3*A_q*C_p**2*F_p*F_q*sqrt1mx2*y,\n",
       " 4*A_p**3*A_q*E_p**2*F_p*F_q*sqrt1mx2*y,\n",
       " 4*A_p**3*A_q*F_p*F_q*K_p**2*sqrt1mx2*y,\n",
       " 4*A_p**3*A_q*C_p**2*H_p*H_q*sqrt1mx2*y,\n",
       " 4*A_p**3*A_q*E_p**2*H_p*H_q*sqrt1mx2*y,\n",
       " 4*A_p**3*A_q*H_p*H_q*K_p**2*sqrt1mx2*y,\n",
       " 4*A_p**3*A_q*C_p**2*J_p*J_q*sqrt1mx2*y,\n",
       " 4*A_p**3*A_q*E_p**2*J_p*J_q*sqrt1mx2*y,\n",
       " 4*A_p**3*A_q*G_p**2*J_p*J_q*sqrt1mx2*y,\n",
       " 4*A_p**3*A_q*I_p**2*J_p*J_q*sqrt1mx2*y,\n",
       " 6*A_p*A_q*F_p*H_q*R**2*e_p*sqrt1mx2,\n",
       " 6*A_p*A_q*F_q*H_p*R**2*e_p*sqrt1mx2,\n",
       " 6*A_p**3*A_q*B_p*B_q*D_p**2*e_p*sqrt1mx2,\n",
       " 6*A_p**3*A_q*B_p*B_q*F_p**2*sqrt1mx2*y**3,\n",
       " 6*A_p**3*A_q*B_p*B_q*H_p**2*sqrt1mx2*y**3,\n",
       " 6*A_p**3*A_q*B_p*B_q*J_p**2*sqrt1mx2*y**3,\n",
       " 6*A_p**3*A_q*B_p*D_p**2*D_q*e_p*sqrt1mx2,\n",
       " 6*A_p**3*A_q*B_p*D_q*F_p**2*sqrt1mx2*y**3,\n",
       " 6*A_p**3*A_q*B_p*D_q*H_p**2*sqrt1mx2*y**3,\n",
       " 6*A_p**3*A_q*B_p*D_q*J_p**2*sqrt1mx2*y**3,\n",
       " 6*A_p**3*A_q*B_p**2*B_q*C_p*sqrt1mx2*sqrt(1 - y**2),\n",
       " 6*A_p**3*A_q*B_q*C_p*D_p**2*sqrt1mx2*sqrt(1 - y**2),\n",
       " 6*A_p**3*A_q*B_p**2*B_q*D_p*e_p*sqrt1mx2,\n",
       " 6*A_p**3*A_q*B_q*D_p*F_p**2*sqrt1mx2*y**3,\n",
       " 6*A_p**3*A_q*B_q*D_p*H_p**2*sqrt1mx2*y**3,\n",
       " 6*A_p**3*A_q*B_q*D_p*J_p**2*sqrt1mx2*y**3,\n",
       " 6*A_p**3*A_q*B_q*C_p**3*sqrt1mx2*y**2*sqrt(1 - y**2),\n",
       " 6*A_p**3*A_q*B_p**2*C_p*D_q*sqrt1mx2*sqrt(1 - y**2),\n",
       " 6*A_p**3*A_q*C_p*D_p**2*D_q*sqrt1mx2*sqrt(1 - y**2),\n",
       " 6*A_p**3*A_q*B_p**2*D_p*D_q*e_p*sqrt1mx2,\n",
       " 6*A_p**3*A_q*D_p*D_q*F_p**2*sqrt1mx2*y**3,\n",
       " 6*A_p**3*A_q*D_p*D_q*H_p**2*sqrt1mx2*y**3,\n",
       " 6*A_p**3*A_q*D_p*D_q*J_p**2*sqrt1mx2*y**3,\n",
       " 6*A_p**3*A_q*C_p**3*D_q*sqrt1mx2*y**2*sqrt(1 - y**2),\n",
       " 6*A_p**3*A_q*F_p*F_q*H_p**2*e_p*sqrt1mx2,\n",
       " 6*A_p**3*A_q*B_p**2*F_p*F_q*sqrt1mx2*y**3,\n",
       " 6*A_p**3*A_q*D_p**2*F_p*F_q*sqrt1mx2*y**3,\n",
       " 6*A_p**3*A_q*F_p*F_q*J_p**2*sqrt1mx2*y**3,\n",
       " 6*A_p**3*A_q*B_p**2*F_p*H_q*sqrt1mx2*y,\n",
       " 6*A_p**3*A_q*D_p**2*F_p*H_q*sqrt1mx2*y,\n",
       " 6*A_p**3*A_q*F_p*H_q*J_p**2*sqrt1mx2*y,\n",
       " 6*A_p**3*A_q*C_p**2*F_p*H_q*sqrt1mx2*y**3,\n",
       " 6*A_p**3*A_q*E_p**2*F_p*H_q*sqrt1mx2*y**3,\n",
       " 6*A_p**3*A_q*F_p*H_q*K_p**2*sqrt1mx2*y**3,\n",
       " 6*A_p**3*A_q*B_p**2*F_q*H_p*sqrt1mx2*y,\n",
       " 6*A_p**3*A_q*D_p**2*F_q*H_p*sqrt1mx2*y,\n",
       " 6*A_p**3*A_q*F_q*H_p*J_p**2*sqrt1mx2*y,\n",
       " 6*A_p**3*A_q*C_p**2*F_q*H_p*sqrt1mx2*y**3,\n",
       " 6*A_p**3*A_q*E_p**2*F_q*H_p*sqrt1mx2*y**3,\n",
       " 6*A_p**3*A_q*F_q*H_p*K_p**2*sqrt1mx2*y**3,\n",
       " 6*A_p**3*A_q*F_p**2*G_p*H_q*sqrt1mx2*sqrt(1 - y**2),\n",
       " 6*A_p**3*A_q*G_p*H_p**2*H_q*sqrt1mx2*sqrt(1 - y**2),\n",
       " 6*A_p**3*A_q*F_p**2*H_p*H_q*e_p*sqrt1mx2,\n",
       " 6*A_p**3*A_q*B_p**2*H_p*H_q*sqrt1mx2*y**3,\n",
       " 6*A_p**3*A_q*D_p**2*H_p*H_q*sqrt1mx2*y**3,\n",
       " 6*A_p**3*A_q*H_p*H_q*J_p**2*sqrt1mx2*y**3,\n",
       " 6*A_p**3*A_q*F_p**2*H_q*I_p*sqrt1mx2*sqrt(1 - y**2),\n",
       " 6*A_p**3*A_q*H_p**2*H_q*I_p*sqrt1mx2*sqrt(1 - y**2),\n",
       " 6*A_p**3*A_q*G_p**3*H_q*sqrt1mx2*y**2*sqrt(1 - y**2),\n",
       " 6*A_p**3*A_q*H_q*I_p**3*sqrt1mx2*y**2*sqrt(1 - y**2),\n",
       " 6*A_p**3*A_q*B_p**2*J_p*J_q*sqrt1mx2*y**3,\n",
       " 6*A_p**3*A_q*D_p**2*J_p*J_q*sqrt1mx2*y**3,\n",
       " 6*A_p**3*A_q*F_p**2*J_p*J_q*sqrt1mx2*y**3,\n",
       " 6*A_p**3*A_q*H_p**2*J_p*J_q*sqrt1mx2*y**3,\n",
       " 6*A_p**3*A_q*J_p**2*J_q*K_p*sqrt1mx2*sqrt(1 - y**2),\n",
       " 6*A_p**3*A_q*J_q*K_p**3*sqrt1mx2*y**2*sqrt(1 - y**2),\n",
       " 8*A_p**3*A_q*B_p**3*B_q*e_p*sqrt1mx2*y**4,\n",
       " 8*A_p**3*A_q*B_q*D_p**3*e_p*sqrt1mx2*y**4,\n",
       " 8*A_p**3*A_q*B_p**3*D_q*e_p*sqrt1mx2*y**4,\n",
       " 8*A_p**3*A_q*D_p**3*D_q*e_p*sqrt1mx2*y**4,\n",
       " 8*A_p**3*A_q*F_p**3*F_q*e_p*sqrt1mx2*y**4,\n",
       " 8*A_p**3*A_q*H_p**3*H_q*e_p*sqrt1mx2*y**4,\n",
       " 8*A_p**3*A_q*J_p**3*J_q*e_p*sqrt1mx2*y**4,\n",
       " 10*A_p**3*A_q*F_q*H_p**3*e_p*sqrt1mx2*y**2,\n",
       " 10*A_p**3*A_q*F_p**3*H_q*e_p*sqrt1mx2*y**2,\n",
       " 12*A_p**3*A_q*B_p*B_q*C_p**2*sqrt1mx2*y,\n",
       " 12*A_p**3*A_q*B_p*B_q*E_p**2*sqrt1mx2*y,\n",
       " 12*A_p**3*A_q*B_p*C_p**2*D_q*sqrt1mx2*y,\n",
       " 12*A_p**3*A_q*B_p*D_q*E_p**2*sqrt1mx2*y,\n",
       " 12*A_p**3*A_q*B_q*C_p**2*D_p*sqrt1mx2*y,\n",
       " 12*A_p**3*A_q*B_q*D_p*E_p**2*sqrt1mx2*y,\n",
       " 12*A_p**3*A_q*C_p**2*D_p*D_q*sqrt1mx2*y,\n",
       " 12*A_p**3*A_q*D_p*D_q*E_p**2*sqrt1mx2*y,\n",
       " 12*A_p**3*A_q*F_p*F_q*G_p**2*sqrt1mx2*y,\n",
       " 12*A_p**3*A_q*F_p*F_q*I_p**2*sqrt1mx2*y,\n",
       " 12*A_p**3*A_q*G_p**2*H_p*H_q*sqrt1mx2*y,\n",
       " 12*A_p**3*A_q*H_p*H_q*I_p**2*sqrt1mx2*y,\n",
       " 12*A_p**3*A_q*J_p*J_q*K_p**2*sqrt1mx2*y,\n",
       " 18*A_p**3*A_q*B_p*B_q*D_p**2*sqrt1mx2*y**3,\n",
       " 18*A_p**3*A_q*B_p*D_p**2*D_q*sqrt1mx2*y**3,\n",
       " 18*A_p**3*A_q*B_p**2*B_q*D_p*sqrt1mx2*y**3,\n",
       " 18*A_p**3*A_q*B_p**2*D_p*D_q*sqrt1mx2*y**3,\n",
       " 18*A_p**3*A_q*F_p*F_q*H_p**2*sqrt1mx2*y**3,\n",
       " 18*A_p**3*A_q*F_p*H_p**2*H_q*sqrt1mx2*y,\n",
       " 18*A_p**3*A_q*F_p*G_p**2*H_q*sqrt1mx2*y**3,\n",
       " 18*A_p**3*A_q*F_p*H_q*I_p**2*sqrt1mx2*y**3,\n",
       " 18*A_p**3*A_q*F_p**2*F_q*H_p*sqrt1mx2*y,\n",
       " 18*A_p**3*A_q*F_q*G_p**2*H_p*sqrt1mx2*y**3,\n",
       " 18*A_p**3*A_q*F_q*H_p*I_p**2*sqrt1mx2*y**3,\n",
       " 18*A_p**3*A_q*F_p**2*H_p*H_q*sqrt1mx2*y**3,\n",
       " -36*A_p**3*A_q*F_p*F_q*G_p*I_p*sqrt1mx2*y**3,\n",
       " -36*A_p**3*A_q*G_p*H_p*H_q*I_p*sqrt1mx2*y**3,\n",
       " -30*A_p**3*A_q*B_p*B_q*D_p**2*e_p*sqrt1mx2*y**2,\n",
       " -30*A_p**3*A_q*B_p*D_p**2*D_q*e_p*sqrt1mx2*y**2,\n",
       " -30*A_p**3*A_q*B_p**2*B_q*D_p*e_p*sqrt1mx2*y**2,\n",
       " -30*A_p**3*A_q*B_p**2*D_p*D_q*e_p*sqrt1mx2*y**2,\n",
       " -30*A_p**3*A_q*F_p*F_q*H_p**2*e_p*sqrt1mx2*y**2,\n",
       " -30*A_p**3*A_q*F_p**2*H_p*H_q*e_p*sqrt1mx2*y**2,\n",
       " -24*A_p**3*A_q*B_p*B_q*C_p*E_p*sqrt1mx2*y,\n",
       " -24*A_p**3*A_q*B_p*B_q*C_p**2*e_p*sqrt1mx2*y**4,\n",
       " -24*A_p**3*A_q*B_p*B_q*E_p**2*e_p*sqrt1mx2*y**4,\n",
       " -24*A_p**3*A_q*B_p*C_p*D_q*E_p*sqrt1mx2*y,\n",
       " -24*A_p**3*A_q*B_p*C_p**2*D_q*e_p*sqrt1mx2*y**4,\n",
       " -24*A_p**3*A_q*B_p*D_q*E_p**2*e_p*sqrt1mx2*y**4,\n",
       " -24*A_p**3*A_q*B_q*C_p*D_p*E_p*sqrt1mx2*y,\n",
       " -24*A_p**3*A_q*B_q*C_p**2*D_p*e_p*sqrt1mx2*y**4,\n",
       " -24*A_p**3*A_q*B_q*D_p*E_p**2*e_p*sqrt1mx2*y**4,\n",
       " -24*A_p**3*A_q*C_p*D_p*D_q*E_p*sqrt1mx2*y,\n",
       " -24*A_p**3*A_q*C_p**2*D_p*D_q*e_p*sqrt1mx2*y**4,\n",
       " -24*A_p**3*A_q*D_p*D_q*E_p**2*e_p*sqrt1mx2*y**4,\n",
       " -24*A_p**3*A_q*F_p*F_q*G_p**2*e_p*sqrt1mx2*y**4,\n",
       " -24*A_p**3*A_q*F_p*F_q*I_p**2*e_p*sqrt1mx2*y**4,\n",
       " -24*A_p**3*A_q*F_p*G_p*H_q*I_p*sqrt1mx2*y,\n",
       " -24*A_p**3*A_q*F_p*H_p**2*H_q*e_p*sqrt1mx2*y**4,\n",
       " -24*A_p**3*A_q*F_q*G_p*H_p*I_p*sqrt1mx2*y,\n",
       " -24*A_p**3*A_q*F_p**2*F_q*H_p*e_p*sqrt1mx2*y**4,\n",
       " -24*A_p**3*A_q*G_p**2*H_p*H_q*e_p*sqrt1mx2*y**4,\n",
       " -24*A_p**3*A_q*H_p*H_q*I_p**2*e_p*sqrt1mx2*y**4,\n",
       " -24*A_p**3*A_q*J_p*J_q*K_p**2*e_p*sqrt1mx2*y**4,\n",
       " -18*A_p*A_q*F_p*H_q*R**2*e_p**2*sqrt1mx2*y**3,\n",
       " -18*A_p*A_q*F_q*H_p*R**2*e_p**2*sqrt1mx2*y**3,\n",
       " -18*A_p**3*A_q*B_p**2*B_q*C_p*sqrt1mx2*y**2*sqrt(1 - y**2),\n",
       " -18*A_p**3*A_q*B_q*C_p*D_p**2*sqrt1mx2*y**2*sqrt(1 - y**2),\n",
       " -18*A_p**3*A_q*B_q*C_p**2*E_p*sqrt1mx2*y**2*sqrt(1 - y**2),\n",
       " -18*A_p**3*A_q*B_p**3*B_q*e_q*sqrt1mx2*x*y,\n",
       " -18*A_p**3*A_q*B_q*D_p**3*e_q*sqrt1mx2*x*y,\n",
       " -18*A_p**3*A_q*B_p**3*B_q*e_q**2*sqrt1mx2*x**2*y,\n",
       " -18*A_p**3*A_q*B_q*D_p**3*e_q**2*sqrt1mx2*x**2*y,\n",
       " -18*A_p**3*A_q*B_p**2*C_p*D_q*sqrt1mx2*y**2*sqrt(1 - y**2),\n",
       " -18*A_p**3*A_q*C_p*D_p**2*D_q*sqrt1mx2*y**2*sqrt(1 - y**2),\n",
       " -18*A_p**3*A_q*C_p**2*D_q*E_p*sqrt1mx2*y**2*sqrt(1 - y**2),\n",
       " -18*A_p**3*A_q*B_p**3*D_q*e_q*sqrt1mx2*x*y,\n",
       " -18*A_p**3*A_q*D_p**3*D_q*e_q*sqrt1mx2*x*y,\n",
       " -18*A_p**3*A_q*B_p**3*D_q*e_q**2*sqrt1mx2*x**2*y,\n",
       " -18*A_p**3*A_q*D_p**3*D_q*e_q**2*sqrt1mx2*x**2*y,\n",
       " -18*A_p**3*A_q*F_p*G_p**2*H_q*e_p*sqrt1mx2*y**2,\n",
       " -18*A_p**3*A_q*F_p*H_q*I_p**2*e_p*sqrt1mx2*y**2,\n",
       " -18*A_p**3*A_q*F_q*G_p*I_p**2*sqrt1mx2*y**2*sqrt(1 - y**2),\n",
       " -18*A_p**3*A_q*F_q*G_p**2*H_p*e_p*sqrt1mx2*y**2,\n",
       " -18*A_p**3*A_q*F_q*H_p*I_p**2*e_p*sqrt1mx2*y**2,\n",
       " -18*A_p**3*A_q*F_q*G_p**2*I_p*sqrt1mx2*y**2*sqrt(1 - y**2),\n",
       " -18*A_p**3*A_q*F_p**3*F_q*e_q*sqrt1mx2*x*y,\n",
       " -18*A_p**3*A_q*F_q*H_p**3*e_q*sqrt1mx2*x*y**3,\n",
       " -18*A_p**3*A_q*F_p**3*F_q*e_q**2*sqrt1mx2*x**2*y,\n",
       " -18*A_p**3*A_q*F_q*H_p**3*e_q**2*sqrt1mx2*x**2*y**3,\n",
       " -18*A_p**3*A_q*F_p**2*G_p*H_q*sqrt1mx2*y**2*sqrt(1 - y**2),\n",
       " -18*A_p**3*A_q*G_p*H_p**2*H_q*sqrt1mx2*y**2*sqrt(1 - y**2),\n",
       " -18*A_p**3*A_q*F_p**2*H_q*I_p*sqrt1mx2*y**2*sqrt(1 - y**2),\n",
       " -18*A_p**3*A_q*H_p**2*H_q*I_p*sqrt1mx2*y**2*sqrt(1 - y**2),\n",
       " -18*A_p**3*A_q*H_p**3*H_q*e_q*sqrt1mx2*x*y,\n",
       " -18*A_p**3*A_q*F_p**3*H_q*e_q*sqrt1mx2*x*y**3,\n",
       " -18*A_p**3*A_q*H_p**3*H_q*e_q**2*sqrt1mx2*x**2*y,\n",
       " -18*A_p**3*A_q*F_p**3*H_q*e_q**2*sqrt1mx2*x**2*y**3,\n",
       " -18*A_p**3*A_q*J_p**2*J_q*K_p*sqrt1mx2*y**2*sqrt(1 - y**2),\n",
       " -18*A_p**3*A_q*J_p**3*J_q*e_q*sqrt1mx2*x*y,\n",
       " -18*A_p**3*A_q*J_p**3*J_q*e_q**2*sqrt1mx2*x**2*y,\n",
       " -12*A_p*A_q*B_p*B_q*R**2*e_p**2*sqrt1mx2*y,\n",
       " -12*A_p*A_q*B_p*D_q*R**2*e_p**2*sqrt1mx2*y,\n",
       " -12*A_p*A_q*B_q*D_p*R**2*e_p**2*sqrt1mx2*y,\n",
       " -12*A_p*A_q*D_p*D_q*R**2*e_p**2*sqrt1mx2*y,\n",
       " -12*A_p*A_q*F_p*F_q*R**2*e_p**2*sqrt1mx2*y,\n",
       " -12*A_p*A_q*F_p*H_q*R**2*e_p*sqrt1mx2*y**2,\n",
       " -12*A_p*A_q*F_q*H_p*R**2*e_p*sqrt1mx2*y**2,\n",
       " -12*A_p*A_q*H_p*H_q*R**2*e_p**2*sqrt1mx2*y,\n",
       " -12*A_p*A_q*J_p*J_q*R**2*e_p**2*sqrt1mx2*y,\n",
       " -12*A_p**3*A_q*B_p*B_q*D_p*E_p*sqrt1mx2*sqrt(1 - y**2),\n",
       " -12*A_p**3*A_q*B_p*B_q*F_p*H_p*sqrt1mx2*y**3,\n",
       " -12*A_p**3*A_q*B_p*B_q*G_p*I_p*sqrt1mx2*y**3,\n",
       " -12*A_p**3*A_q*B_p*C_p*G_p*H_q*sqrt1mx2*y**3,\n",
       " -12*A_p**3*A_q*B_p*C_p*H_q*I_p*sqrt1mx2*y**3,\n",
       " -12*A_p**3*A_q*B_p*C_p*J_q*K_p*sqrt1mx2*y**3,\n",
       " -12*A_p**3*A_q*B_p*D_p*D_q*E_p*sqrt1mx2*sqrt(1 - y**2),\n",
       " -12*A_p**3*A_q*B_p*D_p*F_p*F_q*sqrt1mx2*y,\n",
       " -12*A_p**3*A_q*B_p*D_p*F_p*H_q*sqrt1mx2*y**3,\n",
       " -12*A_p**3*A_q*B_p*D_p*F_q*H_p*sqrt1mx2*y**3,\n",
       " -12*A_p**3*A_q*B_p*D_p*H_p*H_q*sqrt1mx2*y,\n",
       " -12*A_p**3*A_q*B_p*D_p*J_p*J_q*sqrt1mx2*y,\n",
       " -12*A_p**3*A_q*B_p*D_q*F_p*H_p*sqrt1mx2*y**3,\n",
       " -12*A_p**3*A_q*B_p*D_q*G_p*I_p*sqrt1mx2*y**3,\n",
       " -12*A_p**3*A_q*B_p*E_p*F_q*G_p*sqrt1mx2*y**3,\n",
       " -12*A_p**3*A_q*B_p*E_p*F_q*I_p*sqrt1mx2*y**3,\n",
       " -12*A_p**3*A_q*B_q*C_p*G_p*H_p*sqrt1mx2*y**3,\n",
       " -12*A_p**3*A_q*B_q*C_p*H_p*I_p*sqrt1mx2*y**3,\n",
       " -12*A_p**3*A_q*B_q*C_p*J_p*K_p*sqrt1mx2*y**3,\n",
       " -12*A_p**3*A_q*B_q*D_p*F_p*H_p*sqrt1mx2*y**3,\n",
       " -12*A_p**3*A_q*B_q*D_p*G_p*I_p*sqrt1mx2*y**3,\n",
       " -12*A_p**3*A_q*B_q*E_p*F_p*G_p*sqrt1mx2*y**3,\n",
       " -12*A_p**3*A_q*B_q*E_p*F_p*I_p*sqrt1mx2*y**3,\n",
       " -12*A_p**3*A_q*C_p*D_p*G_p*H_q*sqrt1mx2*y**3,\n",
       " -12*A_p**3*A_q*C_p*D_p*H_q*I_p*sqrt1mx2*y**3,\n",
       " -12*A_p**3*A_q*C_p*D_p*J_q*K_p*sqrt1mx2*y**3,\n",
       " -12*A_p**3*A_q*C_p*D_q*G_p*H_p*sqrt1mx2*y**3,\n",
       " -12*A_p**3*A_q*C_p*D_q*H_p*I_p*sqrt1mx2*y**3,\n",
       " -12*A_p**3*A_q*C_p*D_q*J_p*K_p*sqrt1mx2*y**3,\n",
       " -12*A_p**3*A_q*C_p*E_p*F_p*H_q*sqrt1mx2*y**3,\n",
       " -12*A_p**3*A_q*C_p*E_p*F_q*H_p*sqrt1mx2*y**3,\n",
       " -12*A_p**3*A_q*D_p*D_q*F_p*H_p*sqrt1mx2*y**3,\n",
       " -12*A_p**3*A_q*D_p*D_q*G_p*I_p*sqrt1mx2*y**3,\n",
       " -12*A_p**3*A_q*D_p*E_p*F_q*G_p*sqrt1mx2*y**3,\n",
       " -12*A_p**3*A_q*D_p*E_p*F_q*I_p*sqrt1mx2*y**3,\n",
       " -12*A_p**3*A_q*D_q*E_p*F_p*G_p*sqrt1mx2*y**3,\n",
       " -12*A_p**3*A_q*D_q*E_p*F_p*I_p*sqrt1mx2*y**3,\n",
       " -12*A_p**3*A_q*F_p*G_p*H_p*H_q*sqrt1mx2*sqrt(1 - y**2),\n",
       " -12*A_p**3*A_q*F_p*H_p*H_q*I_p*sqrt1mx2*sqrt(1 - y**2),\n",
       " -12*A_p**3*A_q*F_p*H_p*J_p*J_q*sqrt1mx2*y**3,\n",
       " -12*A_p**3*A_q*G_p*H_p*J_q*K_p*sqrt1mx2*y**3,\n",
       " -12*A_p**3*A_q*G_p*H_q*J_p*K_p*sqrt1mx2*y**3,\n",
       " -12*A_p**3*A_q*G_p*I_p*J_p*J_q*sqrt1mx2*y**3,\n",
       " -12*A_p**3*A_q*H_p*I_p*J_q*K_p*sqrt1mx2*y**3,\n",
       " -12*A_p**3*A_q*H_q*I_p*J_p*K_p*sqrt1mx2*y**3,\n",
       " -10*A_p**3*A_q*B_p*B_q*F_p**2*e_p*sqrt1mx2*y**2,\n",
       " -10*A_p**3*A_q*B_p*B_q*H_p**2*e_p*sqrt1mx2*y**2,\n",
       " -10*A_p**3*A_q*B_p*B_q*J_p**2*e_p*sqrt1mx2*y**2,\n",
       " -10*A_p**3*A_q*B_p*D_q*F_p**2*e_p*sqrt1mx2*y**2,\n",
       " -10*A_p**3*A_q*B_p*D_q*H_p**2*e_p*sqrt1mx2*y**2,\n",
       " -10*A_p**3*A_q*B_p*D_q*J_p**2*e_p*sqrt1mx2*y**2,\n",
       " -10*A_p**3*A_q*B_q*D_p*F_p**2*e_p*sqrt1mx2*y**2,\n",
       " -10*A_p**3*A_q*B_q*D_p*H_p**2*e_p*sqrt1mx2*y**2,\n",
       " -10*A_p**3*A_q*B_q*D_p*J_p**2*e_p*sqrt1mx2*y**2,\n",
       " -10*A_p**3*A_q*D_p*D_q*F_p**2*e_p*sqrt1mx2*y**2,\n",
       " -10*A_p**3*A_q*D_p*D_q*H_p**2*e_p*sqrt1mx2*y**2,\n",
       " -10*A_p**3*A_q*D_p*D_q*J_p**2*e_p*sqrt1mx2*y**2,\n",
       " -10*A_p**3*A_q*B_p**2*F_p*F_q*e_p*sqrt1mx2*y**2,\n",
       " -10*A_p**3*A_q*D_p**2*F_p*F_q*e_p*sqrt1mx2*y**2,\n",
       " -10*A_p**3*A_q*F_p*F_q*J_p**2*e_p*sqrt1mx2*y**2,\n",
       " -10*A_p**3*A_q*B_p**2*H_p*H_q*e_p*sqrt1mx2*y**2,\n",
       " -10*A_p**3*A_q*D_p**2*H_p*H_q*e_p*sqrt1mx2*y**2,\n",
       " -10*A_p**3*A_q*H_p*H_q*J_p**2*e_p*sqrt1mx2*y**2,\n",
       " -10*A_p**3*A_q*B_p**2*J_p*J_q*e_p*sqrt1mx2*y**2,\n",
       " -10*A_p**3*A_q*D_p**2*J_p*J_q*e_p*sqrt1mx2*y**2,\n",
       " -10*A_p**3*A_q*F_p**2*J_p*J_q*e_p*sqrt1mx2*y**2,\n",
       " -10*A_p**3*A_q*H_p**2*J_p*J_q*e_p*sqrt1mx2*y**2,\n",
       " -8*A_p*A_q*F_p*H_q*R**2*e_p**3*sqrt1mx2*y**4,\n",
       " -8*A_p*A_q*F_q*H_p*R**2*e_p**3*sqrt1mx2*y**4,\n",
       " -8*A_p**3*A_q*B_p*B_q*G_p**2*e_p*sqrt1mx2*y**4,\n",
       " -8*A_p**3*A_q*B_p*B_q*I_p**2*e_p*sqrt1mx2*y**4,\n",
       " -8*A_p**3*A_q*B_p*B_q*K_p**2*e_p*sqrt1mx2*y**4,\n",
       " -8*A_p**3*A_q*B_p*C_p*F_q*G_p*sqrt1mx2*y,\n",
       " -8*A_p**3*A_q*B_p*C_p*F_q*I_p*sqrt1mx2*y,\n",
       " -8*A_p**3*A_q*B_p*D_q*G_p**2*e_p*sqrt1mx2*y**4,\n",
       " -8*A_p**3*A_q*B_p*D_q*I_p**2*e_p*sqrt1mx2*y**4,\n",
       " -8*A_p**3*A_q*B_p*D_q*K_p**2*e_p*sqrt1mx2*y**4,\n",
       " -8*A_p**3*A_q*B_p*E_p*G_p*H_q*sqrt1mx2*y,\n",
       " -8*A_p**3*A_q*B_p*E_p*H_q*I_p*sqrt1mx2*y,\n",
       " -8*A_p**3*A_q*B_p*E_p*J_q*K_p*sqrt1mx2*y,\n",
       " -8*A_p**3*A_q*B_q*C_p*F_p*G_p*sqrt1mx2*y,\n",
       " -8*A_p**3*A_q*B_q*C_p*F_p*I_p*sqrt1mx2*y,\n",
       " -8*A_p**3*A_q*B_q*D_p*G_p**2*e_p*sqrt1mx2*y**4,\n",
       " -8*A_p**3*A_q*B_q*D_p*I_p**2*e_p*sqrt1mx2*y**4,\n",
       " -8*A_p**3*A_q*B_q*D_p*K_p**2*e_p*sqrt1mx2*y**4,\n",
       " -8*A_p**3*A_q*B_q*E_p*G_p*H_p*sqrt1mx2*y,\n",
       " -8*A_p**3*A_q*B_q*E_p*H_p*I_p*sqrt1mx2*y,\n",
       " -8*A_p**3*A_q*B_q*E_p*J_p*K_p*sqrt1mx2*y,\n",
       " -8*A_p**3*A_q*B_q*E_p**3*e_p*sqrt1mx2*y**3*sqrt(1 - y**2),\n",
       " -8*A_p**3*A_q*C_p*D_p*F_q*G_p*sqrt1mx2*y,\n",
       " -8*A_p**3*A_q*C_p*D_p*F_q*I_p*sqrt1mx2*y,\n",
       " -8*A_p**3*A_q*C_p*D_q*F_p*G_p*sqrt1mx2*y,\n",
       " -8*A_p**3*A_q*C_p*D_q*F_p*I_p*sqrt1mx2*y,\n",
       " -8*A_p**3*A_q*C_p*E_p*F_p*F_q*sqrt1mx2*y,\n",
       " -8*A_p**3*A_q*C_p*E_p*H_p*H_q*sqrt1mx2*y,\n",
       " -8*A_p**3*A_q*C_p*E_p*J_p*J_q*sqrt1mx2*y,\n",
       " -8*A_p**3*A_q*D_p*D_q*G_p**2*e_p*sqrt1mx2*y**4,\n",
       " -8*A_p**3*A_q*D_p*D_q*I_p**2*e_p*sqrt1mx2*y**4,\n",
       " -8*A_p**3*A_q*D_p*D_q*K_p**2*e_p*sqrt1mx2*y**4,\n",
       " -8*A_p**3*A_q*D_p*E_p*G_p*H_q*sqrt1mx2*y,\n",
       " -8*A_p**3*A_q*D_p*E_p*H_q*I_p*sqrt1mx2*y,\n",
       " -8*A_p**3*A_q*D_p*E_p*J_q*K_p*sqrt1mx2*y,\n",
       " -8*A_p**3*A_q*D_q*E_p*G_p*H_p*sqrt1mx2*y,\n",
       " -8*A_p**3*A_q*D_q*E_p*H_p*I_p*sqrt1mx2*y,\n",
       " -8*A_p**3*A_q*D_q*E_p*J_p*K_p*sqrt1mx2*y,\n",
       " -8*A_p**3*A_q*D_q*E_p**3*e_p*sqrt1mx2*y**3*sqrt(1 - y**2),\n",
       " -8*A_p**3*A_q*C_p**2*F_p*F_q*e_p*sqrt1mx2*y**4,\n",
       " -8*A_p**3*A_q*E_p**2*F_p*F_q*e_p*sqrt1mx2*y**4,\n",
       " -8*A_p**3*A_q*F_p*F_q*K_p**2*e_p*sqrt1mx2*y**4,\n",
       " -8*A_p**3*A_q*F_p*G_p*J_q*K_p*sqrt1mx2*y,\n",
       " -8*A_p**3*A_q*B_p**2*F_p*H_q*e_p*sqrt1mx2*y**4,\n",
       " -8*A_p**3*A_q*D_p**2*F_p*H_q*e_p*sqrt1mx2*y**4,\n",
       " -8*A_p**3*A_q*F_p*H_q*J_p**2*e_p*sqrt1mx2*y**4,\n",
       " -8*A_p**3*A_q*F_p*I_p*J_q*K_p*sqrt1mx2*y,\n",
       " -8*A_p**3*A_q*F_q*G_p*J_p*K_p*sqrt1mx2*y,\n",
       " -8*A_p**3*A_q*B_p**2*F_q*H_p*e_p*sqrt1mx2*y**4,\n",
       " -8*A_p**3*A_q*D_p**2*F_q*H_p*e_p*sqrt1mx2*y**4,\n",
       " -8*A_p**3*A_q*F_q*H_p*J_p**2*e_p*sqrt1mx2*y**4,\n",
       " -8*A_p**3*A_q*F_q*I_p*J_p*K_p*sqrt1mx2*y,\n",
       " -8*A_p**3*A_q*F_q*G_p**3*e_p*sqrt1mx2*y**3*sqrt(1 - y**2),\n",
       " -8*A_p**3*A_q*F_q*I_p**3*e_p*sqrt1mx2*y**3*sqrt(1 - y**2),\n",
       " -8*A_p**3*A_q*C_p**2*H_p*H_q*e_p*sqrt1mx2*y**4,\n",
       " -8*A_p**3*A_q*E_p**2*H_p*H_q*e_p*sqrt1mx2*y**4,\n",
       " -8*A_p**3*A_q*H_p*H_q*K_p**2*e_p*sqrt1mx2*y**4,\n",
       " -8*A_p**3*A_q*C_p**2*J_p*J_q*e_p*sqrt1mx2*y**4,\n",
       " -8*A_p**3*A_q*E_p**2*J_p*J_q*e_p*sqrt1mx2*y**4,\n",
       " -8*A_p**3*A_q*G_p**2*J_p*J_q*e_p*sqrt1mx2*y**4,\n",
       " -8*A_p**3*A_q*I_p**2*J_p*J_q*e_p*sqrt1mx2*y**4,\n",
       " -8*A_q**2*B_q*E_q*R**2*e_p*sqrt1mx2*x*sqrt(1 - y**2),\n",
       " -8*A_q**2*D_q*E_q*R**2*e_p*sqrt1mx2*x*sqrt(1 - y**2),\n",
       " -8*A_q**2*F_q*G_q*R**2*e_p*sqrt1mx2*x*sqrt(1 - y**2),\n",
       " -8*A_q**2*F_q*I_q*R**2*e_p*sqrt1mx2*x*sqrt(1 - y**2),\n",
       " -6*A_p*A_q*B_p*B_q*R**2*e_p**3*sqrt1mx2*y**2,\n",
       " -6*A_p*A_q*B_p*D_q*R**2*e_p**3*sqrt1mx2*y**2,\n",
       " -6*A_p*A_q*B_q*D_p*R**2*e_p**3*sqrt1mx2*y**2,\n",
       " -6*A_p*A_q*D_p*D_q*R**2*e_p**3*sqrt1mx2*y**2,\n",
       " -6*A_p*A_q*F_p*F_q*R**2*e_p**3*sqrt1mx2*y**2,\n",
       " -6*A_p*A_q*H_p*H_q*R**2*e_p**3*sqrt1mx2*y**2,\n",
       " -6*A_p*A_q*J_p*J_q*R**2*e_p**3*sqrt1mx2*y**2,\n",
       " -6*A_p**3*A_q*B_q*C_p*F_p**2*sqrt1mx2*y**2*sqrt(1 - y**2),\n",
       " -6*A_p**3*A_q*B_q*C_p*H_p**2*sqrt1mx2*y**2*sqrt(1 - y**2),\n",
       " -6*A_p**3*A_q*B_q*C_p*J_p**2*sqrt1mx2*y**2*sqrt(1 - y**2),\n",
       " -6*A_p**3*A_q*B_q*E_p*G_p**2*sqrt1mx2*y**2*sqrt(1 - y**2),\n",
       " -6*A_p**3*A_q*B_q*E_p*I_p**2*sqrt1mx2*y**2*sqrt(1 - y**2),\n",
       " -6*A_p**3*A_q*B_q*E_p*K_p**2*sqrt1mx2*y**2*sqrt(1 - y**2),\n",
       " -6*A_p**3*A_q*B_p**3*B_q*e_q**3*sqrt1mx2*x**3*y,\n",
       " -6*A_p**3*A_q*B_q*D_p**3*e_q**3*sqrt1mx2*x**3*y,\n",
       " -6*A_p**3*A_q*C_p*D_q*F_p**2*sqrt1mx2*y**2*sqrt(1 - y**2),\n",
       " -6*A_p**3*A_q*C_p*D_q*H_p**2*sqrt1mx2*y**2*sqrt(1 - y**2),\n",
       " -6*A_p**3*A_q*C_p*D_q*J_p**2*sqrt1mx2*y**2*sqrt(1 - y**2),\n",
       " -6*A_p**3*A_q*D_q*E_p*G_p**2*sqrt1mx2*y**2*sqrt(1 - y**2),\n",
       " -6*A_p**3*A_q*D_q*E_p*I_p**2*sqrt1mx2*y**2*sqrt(1 - y**2),\n",
       " -6*A_p**3*A_q*D_q*E_p*K_p**2*sqrt1mx2*y**2*sqrt(1 - y**2),\n",
       " -6*A_p**3*A_q*B_p**3*D_q*e_q**3*sqrt1mx2*x**3*y,\n",
       " -6*A_p**3*A_q*D_p**3*D_q*e_q**3*sqrt1mx2*x**3*y,\n",
       " -6*A_p**3*A_q*C_p**2*F_p*H_q*e_p*sqrt1mx2*y**2,\n",
       " -6*A_p**3*A_q*E_p**2*F_p*H_q*e_p*sqrt1mx2*y**2,\n",
       " -6*A_p**3*A_q*F_p*H_q*K_p**2*e_p*sqrt1mx2*y**2,\n",
       " -6*A_p**3*A_q*C_p**2*F_q*G_p*sqrt1mx2*y**2*sqrt(1 - y**2),\n",
       " -6*A_p**3*A_q*E_p**2*F_q*G_p*sqrt1mx2*y**2*sqrt(1 - y**2),\n",
       " -6*A_p**3*A_q*F_q*G_p*K_p**2*sqrt1mx2*y**2*sqrt(1 - y**2),\n",
       " -6*A_p**3*A_q*C_p**2*F_q*H_p*e_p*sqrt1mx2*y**2,\n",
       " -6*A_p**3*A_q*E_p**2*F_q*H_p*e_p*sqrt1mx2*y**2,\n",
       " -6*A_p**3*A_q*F_q*H_p*K_p**2*e_p*sqrt1mx2*y**2,\n",
       " -6*A_p**3*A_q*C_p**2*F_q*I_p*sqrt1mx2*y**2*sqrt(1 - y**2),\n",
       " -6*A_p**3*A_q*E_p**2*F_q*I_p*sqrt1mx2*y**2*sqrt(1 - y**2),\n",
       " -6*A_p**3*A_q*F_q*I_p*K_p**2*sqrt1mx2*y**2*sqrt(1 - y**2),\n",
       " -6*A_p**3*A_q*F_q*H_p**3*e_p*e_q*sqrt1mx2*x,\n",
       " -6*A_p**3*A_q*F_q*H_p**3*e_p*e_q**2*sqrt1mx2*x**2,\n",
       " -6*A_p**3*A_q*F_p**3*F_q*e_q**3*sqrt1mx2*x**3*y,\n",
       " -6*A_p**3*A_q*F_q*H_p**3*e_q**3*sqrt1mx2*x**3*y**3,\n",
       " -6*A_p**3*A_q*B_p**2*G_p*H_q*sqrt1mx2*y**2*sqrt(1 - y**2),\n",
       " -6*A_p**3*A_q*D_p**2*G_p*H_q*sqrt1mx2*y**2*sqrt(1 - y**2),\n",
       " -6*A_p**3*A_q*G_p*H_q*J_p**2*sqrt1mx2*y**2*sqrt(1 - y**2),\n",
       " -6*A_p**3*A_q*B_p**2*H_q*I_p*sqrt1mx2*y**2*sqrt(1 - y**2),\n",
       " -6*A_p**3*A_q*D_p**2*H_q*I_p*sqrt1mx2*y**2*sqrt(1 - y**2),\n",
       " -6*A_p**3*A_q*H_q*I_p*J_p**2*sqrt1mx2*y**2*sqrt(1 - y**2),\n",
       " -6*A_p**3*A_q*F_p**3*H_q*e_p*e_q*sqrt1mx2*x,\n",
       " -6*A_p**3*A_q*F_p**3*H_q*e_p*e_q**2*sqrt1mx2*x**2,\n",
       " -6*A_p**3*A_q*H_p**3*H_q*e_q**3*sqrt1mx2*x**3*y,\n",
       " -6*A_p**3*A_q*F_p**3*H_q*e_q**3*sqrt1mx2*x**3*y**3,\n",
       " -6*A_p**3*A_q*B_p**2*J_q*K_p*sqrt1mx2*y**2*sqrt(1 - y**2),\n",
       " -6*A_p**3*A_q*D_p**2*J_q*K_p*sqrt1mx2*y**2*sqrt(1 - y**2),\n",
       " -6*A_p**3*A_q*F_p**2*J_q*K_p*sqrt1mx2*y**2*sqrt(1 - y**2),\n",
       " -6*A_p**3*A_q*H_p**2*J_q*K_p*sqrt1mx2*y**2*sqrt(1 - y**2),\n",
       " -6*A_p**3*A_q*J_p**3*J_q*e_q**3*sqrt1mx2*x**3*y,\n",
       " -4*A_p**3*A_q*B_p*B_q*F_p*G_p*sqrt1mx2*sqrt(1 - y**2),\n",
       " -4*A_p**3*A_q*B_p*B_q*F_p*H_p*e_p*sqrt1mx2,\n",
       " -4*A_p**3*A_q*B_p*B_q*F_p*I_p*sqrt1mx2*sqrt(1 - y**2),\n",
       " -4*A_p**3*A_q*B_p*C_p*F_p*H_q*sqrt1mx2*sqrt(1 - y**2),\n",
       " -4*A_p**3*A_q*B_p*C_p*F_q*H_p*sqrt1mx2*sqrt(1 - y**2),\n",
       " -4*A_p**3*A_q*B_p*D_p*F_p*H_q*e_p*sqrt1mx2,\n",
       " -4*A_p**3*A_q*B_p*D_p*F_q*G_p*sqrt1mx2*sqrt(1 - y**2),\n",
       " -4*A_p**3*A_q*B_p*D_p*F_q*H_p*e_p*sqrt1mx2,\n",
       " -4*A_p**3*A_q*B_p*D_p*F_q*I_p*sqrt1mx2*sqrt(1 - y**2),\n",
       " -4*A_p**3*A_q*B_p*D_q*F_p*G_p*sqrt1mx2*sqrt(1 - y**2),\n",
       " -4*A_p**3*A_q*B_p*D_q*F_p*H_p*e_p*sqrt1mx2,\n",
       " -4*A_p**3*A_q*B_p*D_q*F_p*I_p*sqrt1mx2*sqrt(1 - y**2),\n",
       " -4*A_p**3*A_q*B_p*E_p*F_p*F_q*sqrt1mx2*sqrt(1 - y**2),\n",
       " -4*A_p**3*A_q*B_p*E_p*H_p*H_q*sqrt1mx2*sqrt(1 - y**2),\n",
       " -4*A_p**3*A_q*B_p*E_p*J_p*J_q*sqrt1mx2*sqrt(1 - y**2),\n",
       " -4*A_p**3*A_q*B_q*C_p*F_p*H_p*sqrt1mx2*sqrt(1 - y**2),\n",
       " -4*A_p**3*A_q*B_q*D_p*F_p*G_p*sqrt1mx2*sqrt(1 - y**2),\n",
       " -4*A_p**3*A_q*B_q*D_p*F_p*H_p*e_p*sqrt1mx2,\n",
       " -4*A_p**3*A_q*B_q*D_p*F_p*I_p*sqrt1mx2*sqrt(1 - y**2),\n",
       " -4*A_p**3*A_q*C_p*D_p*F_p*H_q*sqrt1mx2*sqrt(1 - y**2),\n",
       " -4*A_p**3*A_q*C_p*D_p*F_q*H_p*sqrt1mx2*sqrt(1 - y**2),\n",
       " -4*A_p**3*A_q*C_p*D_q*F_p*H_p*sqrt1mx2*sqrt(1 - y**2),\n",
       " -4*A_p**3*A_q*D_p*D_q*F_p*G_p*sqrt1mx2*sqrt(1 - y**2),\n",
       " -4*A_p**3*A_q*D_p*D_q*F_p*H_p*e_p*sqrt1mx2,\n",
       " -4*A_p**3*A_q*D_p*D_q*F_p*I_p*sqrt1mx2*sqrt(1 - y**2),\n",
       " -4*A_p**3*A_q*D_p*E_p*F_p*F_q*sqrt1mx2*sqrt(1 - y**2),\n",
       " -4*A_p**3*A_q*D_p*E_p*H_p*H_q*sqrt1mx2*sqrt(1 - y**2),\n",
       " -4*A_p**3*A_q*D_p*E_p*J_p*J_q*sqrt1mx2*sqrt(1 - y**2),\n",
       " -4*A_p**3*A_q*F_p*G_p*J_p*J_q*sqrt1mx2*sqrt(1 - y**2),\n",
       " -4*A_p**3*A_q*F_p*H_p*J_p*J_q*e_p*sqrt1mx2,\n",
       " -4*A_p**3*A_q*F_p*H_p*J_q*K_p*sqrt1mx2*sqrt(1 - y**2),\n",
       " -4*A_p**3*A_q*F_p*H_q*J_p*K_p*sqrt1mx2*sqrt(1 - y**2),\n",
       " -4*A_p**3*A_q*F_p*I_p*J_p*J_q*sqrt1mx2*sqrt(1 - y**2),\n",
       " -4*A_p**3*A_q*F_q*H_p*J_p*K_p*sqrt1mx2*sqrt(1 - y**2),\n",
       " -4*A_p**2*A_q**2*B_p*B_q*C_p*C_q*sqrt1mx2*x,\n",
       " -4*A_p**2*A_q**2*B_p*B_q*E_p*E_q*sqrt1mx2*x,\n",
       " -4*A_p**2*A_q**2*B_p*C_p*C_q*D_q*sqrt1mx2*x,\n",
       " -4*A_p**2*A_q**2*B_p*D_q*E_p*E_q*sqrt1mx2*x,\n",
       " -4*A_p**2*A_q**2*B_q*C_p*C_q*D_p*sqrt1mx2*x,\n",
       " -4*A_p**2*A_q**2*B_q*D_p*E_p*E_q*sqrt1mx2*x,\n",
       " -4*A_p**2*A_q**2*C_p*C_q*D_p*D_q*sqrt1mx2*x,\n",
       " -4*A_p**2*A_q**2*D_p*D_q*E_p*E_q*sqrt1mx2*x,\n",
       " -4*A_p**2*A_q**2*F_p*F_q*G_p*G_q*sqrt1mx2*x,\n",
       " -4*A_p**2*A_q**2*F_p*F_q*G_p*I_q*sqrt1mx2*x,\n",
       " -4*A_p**2*A_q**2*F_p*F_q*G_q*I_p*sqrt1mx2*x,\n",
       " -4*A_p**2*A_q**2*F_p*F_q*I_p*I_q*sqrt1mx2*x,\n",
       " -4*A_p**2*A_q**2*G_p*G_q*H_p*H_q*sqrt1mx2*x,\n",
       " -4*A_p**2*A_q**2*G_p*H_p*H_q*I_q*sqrt1mx2*x,\n",
       " -4*A_p**2*A_q**2*G_q*H_p*H_q*I_p*sqrt1mx2*x,\n",
       " -4*A_p**2*A_q**2*H_p*H_q*I_p*I_q*sqrt1mx2*x,\n",
       " -4*A_p**2*A_q**2*J_p*J_q*K_p*K_q*sqrt1mx2*x,\n",
       " -2*A_p**3*A_q*F_q*H_p**3*e_p*e_q**3*sqrt1mx2*x**3,\n",
       " -2*A_p**3*A_q*F_p**3*H_q*e_p*e_q**3*sqrt1mx2*x**3,\n",
       " -2*A_p**2*A_q**2*B_p*B_q*G_p*G_q*sqrt1mx2*x,\n",
       " -2*A_p**2*A_q**2*B_p*B_q*G_p*I_q*sqrt1mx2*x,\n",
       " -2*A_p**2*A_q**2*B_p*B_q*G_q*I_p*sqrt1mx2*x,\n",
       " -2*A_p**2*A_q**2*B_p*B_q*I_p*I_q*sqrt1mx2*x,\n",
       " -2*A_p**2*A_q**2*B_p*B_q*K_p*K_q*sqrt1mx2*x,\n",
       " -2*A_p**2*A_q**2*B_p*C_q*G_p*H_q*sqrt1mx2*x,\n",
       " -2*A_p**2*A_q**2*B_p*C_q*H_q*I_p*sqrt1mx2*x,\n",
       " -2*A_p**2*A_q**2*B_p*C_q*J_q*K_p*sqrt1mx2*x,\n",
       " -2*A_p**2*A_q**2*B_p*D_q*G_p*G_q*sqrt1mx2*x,\n",
       " -2*A_p**2*A_q**2*B_p*D_q*G_p*I_q*sqrt1mx2*x,\n",
       " -2*A_p**2*A_q**2*B_p*D_q*G_q*I_p*sqrt1mx2*x,\n",
       " -2*A_p**2*A_q**2*B_p*D_q*I_p*I_q*sqrt1mx2*x,\n",
       " -2*A_p**2*A_q**2*B_p*D_q*K_p*K_q*sqrt1mx2*x,\n",
       " -2*A_p**2*A_q**2*B_p*E_q*F_q*G_p*sqrt1mx2*x,\n",
       " -2*A_p**2*A_q**2*B_p*E_q*F_q*I_p*sqrt1mx2*x,\n",
       " -2*A_p**2*A_q**2*B_q*C_p*G_q*H_p*sqrt1mx2*x,\n",
       " -2*A_p**2*A_q**2*B_q*C_p*H_p*I_q*sqrt1mx2*x,\n",
       " -2*A_p**2*A_q**2*B_q*C_p*J_p*K_q*sqrt1mx2*x,\n",
       " -2*A_p**2*A_q**2*B_q*D_p*G_p*G_q*sqrt1mx2*x,\n",
       " -2*A_p**2*A_q**2*B_q*D_p*G_p*I_q*sqrt1mx2*x,\n",
       " -2*A_p**2*A_q**2*B_q*D_p*G_q*I_p*sqrt1mx2*x,\n",
       " -2*A_p**2*A_q**2*B_q*D_p*I_p*I_q*sqrt1mx2*x,\n",
       " -2*A_p**2*A_q**2*B_q*D_p*K_p*K_q*sqrt1mx2*x,\n",
       " -2*A_p**2*A_q**2*B_q*E_p*F_p*G_q*sqrt1mx2*x,\n",
       " -2*A_p**2*A_q**2*B_q*E_p*F_p*I_q*sqrt1mx2*x,\n",
       " -2*A_p**2*A_q**2*C_p*C_q*F_p*F_q*sqrt1mx2*x,\n",
       " -2*A_p**2*A_q**2*C_p*C_q*H_p*H_q*sqrt1mx2*x,\n",
       " -2*A_p**2*A_q**2*C_p*C_q*J_p*J_q*sqrt1mx2*x,\n",
       " -2*A_p**2*A_q**2*C_p*D_q*G_q*H_p*sqrt1mx2*x,\n",
       " -2*A_p**2*A_q**2*C_p*D_q*H_p*I_q*sqrt1mx2*x,\n",
       " -2*A_p**2*A_q**2*C_p*D_q*J_p*K_q*sqrt1mx2*x,\n",
       " -2*A_p**2*A_q**2*C_p*E_q*F_p*H_q*sqrt1mx2*x,\n",
       " -2*A_p**2*A_q**2*C_p*E_q*F_q*H_p*sqrt1mx2*x,\n",
       " -2*A_p**2*A_q**2*C_q*D_p*G_p*H_q*sqrt1mx2*x,\n",
       " -2*A_p**2*A_q**2*C_q*D_p*H_q*I_p*sqrt1mx2*x,\n",
       " -2*A_p**2*A_q**2*C_q*D_p*J_q*K_p*sqrt1mx2*x,\n",
       " -2*A_p**2*A_q**2*C_q*E_p*F_p*H_q*sqrt1mx2*x,\n",
       " -2*A_p**2*A_q**2*C_q*E_p*F_q*H_p*sqrt1mx2*x,\n",
       " -2*A_p**2*A_q**2*D_p*D_q*G_p*G_q*sqrt1mx2*x,\n",
       " -2*A_p**2*A_q**2*D_p*D_q*G_p*I_q*sqrt1mx2*x,\n",
       " -2*A_p**2*A_q**2*D_p*D_q*G_q*I_p*sqrt1mx2*x,\n",
       " -2*A_p**2*A_q**2*D_p*D_q*I_p*I_q*sqrt1mx2*x,\n",
       " -2*A_p**2*A_q**2*D_p*D_q*K_p*K_q*sqrt1mx2*x,\n",
       " -2*A_p**2*A_q**2*D_p*E_q*F_q*G_p*sqrt1mx2*x,\n",
       " -2*A_p**2*A_q**2*D_p*E_q*F_q*I_p*sqrt1mx2*x,\n",
       " -2*A_p**2*A_q**2*D_q*E_p*F_p*G_q*sqrt1mx2*x,\n",
       " -2*A_p**2*A_q**2*D_q*E_p*F_p*I_q*sqrt1mx2*x,\n",
       " -2*A_p**2*A_q**2*E_p*E_q*F_p*F_q*sqrt1mx2*x,\n",
       " -2*A_p**2*A_q**2*E_p*E_q*H_p*H_q*sqrt1mx2*x,\n",
       " -2*A_p**2*A_q**2*E_p*E_q*J_p*J_q*sqrt1mx2*x,\n",
       " -2*A_p**2*A_q**2*F_p*F_q*K_p*K_q*sqrt1mx2*x,\n",
       " -2*A_p**2*A_q**2*G_p*G_q*J_p*J_q*sqrt1mx2*x,\n",
       " -2*A_p**2*A_q**2*G_p*H_q*J_p*K_q*sqrt1mx2*x,\n",
       " -2*A_p**2*A_q**2*G_p*I_q*J_p*J_q*sqrt1mx2*x,\n",
       " -2*A_p**2*A_q**2*G_q*H_p*J_q*K_p*sqrt1mx2*x,\n",
       " -2*A_p**2*A_q**2*G_q*I_p*J_p*J_q*sqrt1mx2*x,\n",
       " -2*A_p**2*A_q**2*H_p*H_q*K_p*K_q*sqrt1mx2*x,\n",
       " -2*A_p**2*A_q**2*H_p*I_q*J_q*K_p*sqrt1mx2*x,\n",
       " -2*A_p**2*A_q**2*H_q*I_p*J_p*K_q*sqrt1mx2*x,\n",
       " -2*A_p**2*A_q**2*I_p*I_q*J_p*J_q*sqrt1mx2*x,\n",
       " 2*A_p**3*A_q*B_p**3*B_q*e_p*e_q**3*sqrt1mx2*x**3,\n",
       " 2*A_p**3*A_q*B_q*D_p**3*e_p*e_q**3*sqrt1mx2*x**3,\n",
       " 2*A_p**3*A_q*B_p**3*D_q*e_p*e_q**3*sqrt1mx2*x**3,\n",
       " 2*A_p**3*A_q*D_p**3*D_q*e_p*e_q**3*sqrt1mx2*x**3,\n",
       " 2*A_p**3*A_q*F_p**3*F_q*e_p*e_q**3*sqrt1mx2*x**3,\n",
       " 2*A_p**3*A_q*H_p**3*H_q*e_p*e_q**3*sqrt1mx2*x**3,\n",
       " 2*A_p**3*A_q*J_p**3*J_q*e_p*e_q**3*sqrt1mx2*x**3,\n",
       " 2*A_p**2*A_q**2*B_p*C_q*F_q*G_p*sqrt1mx2*x,\n",
       " 2*A_p**2*A_q**2*B_p*C_q*F_q*I_p*sqrt1mx2*x,\n",
       " 2*A_p**2*A_q**2*B_p*E_q*G_p*H_q*sqrt1mx2*x,\n",
       " 2*A_p**2*A_q**2*B_p*E_q*H_q*I_p*sqrt1mx2*x,\n",
       " 2*A_p**2*A_q**2*B_p*E_q*J_q*K_p*sqrt1mx2*x,\n",
       " 2*A_p**2*A_q**2*B_q*C_p*F_p*G_q*sqrt1mx2*x,\n",
       " 2*A_p**2*A_q**2*B_q*C_p*F_p*I_q*sqrt1mx2*x,\n",
       " 2*A_p**2*A_q**2*B_q*E_p*G_q*H_p*sqrt1mx2*x,\n",
       " 2*A_p**2*A_q**2*B_q*E_p*H_p*I_q*sqrt1mx2*x,\n",
       " 2*A_p**2*A_q**2*B_q*E_p*J_p*K_q*sqrt1mx2*x,\n",
       " 2*A_p**2*A_q**2*C_p*C_q*F_p*H_q*sqrt1mx2*x,\n",
       " 2*A_p**2*A_q**2*C_p*C_q*F_q*H_p*sqrt1mx2*x,\n",
       " 2*A_p**2*A_q**2*C_p*D_q*F_p*G_q*sqrt1mx2*x,\n",
       " 2*A_p**2*A_q**2*C_p*D_q*F_p*I_q*sqrt1mx2*x,\n",
       " 2*A_p**2*A_q**2*C_p*E_q*F_p*F_q*sqrt1mx2*x,\n",
       " 2*A_p**2*A_q**2*C_p*E_q*H_p*H_q*sqrt1mx2*x,\n",
       " 2*A_p**2*A_q**2*C_p*E_q*J_p*J_q*sqrt1mx2*x,\n",
       " 2*A_p**2*A_q**2*C_q*D_p*F_q*G_p*sqrt1mx2*x,\n",
       " 2*A_p**2*A_q**2*C_q*D_p*F_q*I_p*sqrt1mx2*x,\n",
       " 2*A_p**2*A_q**2*C_q*E_p*F_p*F_q*sqrt1mx2*x,\n",
       " 2*A_p**2*A_q**2*C_q*E_p*H_p*H_q*sqrt1mx2*x,\n",
       " 2*A_p**2*A_q**2*C_q*E_p*J_p*J_q*sqrt1mx2*x,\n",
       " 2*A_p**2*A_q**2*D_p*E_q*G_p*H_q*sqrt1mx2*x,\n",
       " 2*A_p**2*A_q**2*D_p*E_q*H_q*I_p*sqrt1mx2*x,\n",
       " 2*A_p**2*A_q**2*D_p*E_q*J_q*K_p*sqrt1mx2*x,\n",
       " 2*A_p**2*A_q**2*D_q*E_p*G_q*H_p*sqrt1mx2*x,\n",
       " 2*A_p**2*A_q**2*D_q*E_p*H_p*I_q*sqrt1mx2*x,\n",
       " 2*A_p**2*A_q**2*D_q*E_p*J_p*K_q*sqrt1mx2*x,\n",
       " 2*A_p**2*A_q**2*E_p*E_q*F_p*H_q*sqrt1mx2*x,\n",
       " 2*A_p**2*A_q**2*E_p*E_q*F_q*H_p*sqrt1mx2*x,\n",
       " 2*A_p**2*A_q**2*F_p*G_q*J_q*K_p*sqrt1mx2*x,\n",
       " 2*A_p**2*A_q**2*F_p*H_q*K_p*K_q*sqrt1mx2*x,\n",
       " 2*A_p**2*A_q**2*F_p*I_q*J_q*K_p*sqrt1mx2*x,\n",
       " 2*A_p**2*A_q**2*F_q*G_p*J_p*K_q*sqrt1mx2*x,\n",
       " 2*A_p**2*A_q**2*F_q*H_p*K_p*K_q*sqrt1mx2*x,\n",
       " 2*A_p**2*A_q**2*F_q*I_p*J_p*K_q*sqrt1mx2*x,\n",
       " 4*A_p**3*A_q*B_p*B_q*G_p*H_p*sqrt1mx2*sqrt(1 - y**2),\n",
       " 4*A_p**3*A_q*B_p*B_q*H_p*I_p*sqrt1mx2*sqrt(1 - y**2),\n",
       " 4*A_p**3*A_q*B_p*B_q*J_p*K_p*sqrt1mx2*sqrt(1 - y**2),\n",
       " 4*A_p**3*A_q*B_p*C_p*F_p*F_q*sqrt1mx2*sqrt(1 - y**2),\n",
       " 4*A_p**3*A_q*B_p*C_p*H_p*H_q*sqrt1mx2*sqrt(1 - y**2),\n",
       " 4*A_p**3*A_q*B_p*C_p*J_p*J_q*sqrt1mx2*sqrt(1 - y**2),\n",
       " 4*A_p**3*A_q*B_p*D_p*F_p*F_q*e_p*sqrt1mx2,\n",
       " 4*A_p**3*A_q*B_p*D_p*G_p*H_q*sqrt1mx2*sqrt(1 - y**2),\n",
       " 4*A_p**3*A_q*B_p*D_p*H_p*H_q*e_p*sqrt1mx2,\n",
       " 4*A_p**3*A_q*B_p*D_p*H_q*I_p*sqrt1mx2*sqrt(1 - y**2),\n",
       " 4*A_p**3*A_q*B_p*D_p*J_p*J_q*e_p*sqrt1mx2,\n",
       " 4*A_p**3*A_q*B_p*D_p*J_q*K_p*sqrt1mx2*sqrt(1 - y**2),\n",
       " 4*A_p**3*A_q*B_p*D_q*G_p*H_p*sqrt1mx2*sqrt(1 - y**2),\n",
       " 4*A_p**3*A_q*B_p*D_q*H_p*I_p*sqrt1mx2*sqrt(1 - y**2),\n",
       " 4*A_p**3*A_q*B_p*D_q*J_p*K_p*sqrt1mx2*sqrt(1 - y**2),\n",
       " 4*A_p**3*A_q*B_p*E_p*F_p*H_q*sqrt1mx2*sqrt(1 - y**2),\n",
       " 4*A_p**3*A_q*B_p*E_p*F_q*H_p*sqrt1mx2*sqrt(1 - y**2),\n",
       " 4*A_p**3*A_q*B_q*D_p*G_p*H_p*sqrt1mx2*sqrt(1 - y**2),\n",
       " 4*A_p**3*A_q*B_q*D_p*H_p*I_p*sqrt1mx2*sqrt(1 - y**2),\n",
       " 4*A_p**3*A_q*B_q*D_p*J_p*K_p*sqrt1mx2*sqrt(1 - y**2),\n",
       " 4*A_p**3*A_q*B_q*E_p*F_p*H_p*sqrt1mx2*sqrt(1 - y**2),\n",
       " 4*A_p**3*A_q*C_p*D_p*F_p*F_q*sqrt1mx2*sqrt(1 - y**2),\n",
       " 4*A_p**3*A_q*C_p*D_p*H_p*H_q*sqrt1mx2*sqrt(1 - y**2),\n",
       " 4*A_p**3*A_q*C_p*D_p*J_p*J_q*sqrt1mx2*sqrt(1 - y**2),\n",
       " 4*A_p**3*A_q*D_p*D_q*G_p*H_p*sqrt1mx2*sqrt(1 - y**2),\n",
       " 4*A_p**3*A_q*D_p*D_q*H_p*I_p*sqrt1mx2*sqrt(1 - y**2),\n",
       " 4*A_p**3*A_q*D_p*D_q*J_p*K_p*sqrt1mx2*sqrt(1 - y**2),\n",
       " 4*A_p**3*A_q*D_p*E_p*F_p*H_q*sqrt1mx2*sqrt(1 - y**2),\n",
       " 4*A_p**3*A_q*D_p*E_p*F_q*H_p*sqrt1mx2*sqrt(1 - y**2),\n",
       " 4*A_p**3*A_q*D_q*E_p*F_p*H_p*sqrt1mx2*sqrt(1 - y**2),\n",
       " 4*A_p**3*A_q*F_p*F_q*J_p*K_p*sqrt1mx2*sqrt(1 - y**2),\n",
       " 4*A_p**3*A_q*G_p*H_p*J_p*J_q*sqrt1mx2*sqrt(1 - y**2),\n",
       " 4*A_p**3*A_q*H_p*H_q*J_p*K_p*sqrt1mx2*sqrt(1 - y**2),\n",
       " 4*A_p**3*A_q*H_p*I_p*J_p*J_q*sqrt1mx2*sqrt(1 - y**2),\n",
       " 4*A_p**2*A_q**2*B_p*B_q*C_p*E_q*sqrt1mx2*x,\n",
       " 4*A_p**2*A_q**2*B_p*B_q*C_q*E_p*sqrt1mx2*x,\n",
       " 4*A_p**2*A_q**2*B_p*C_p*D_q*E_q*sqrt1mx2*x,\n",
       " 4*A_p**2*A_q**2*B_p*C_q*D_q*E_p*sqrt1mx2*x,\n",
       " 4*A_p**2*A_q**2*B_q*C_p*D_p*E_q*sqrt1mx2*x,\n",
       " 4*A_p**2*A_q**2*B_q*C_q*D_p*E_p*sqrt1mx2*x,\n",
       " 4*A_p**2*A_q**2*C_p*D_p*D_q*E_q*sqrt1mx2*x,\n",
       " 4*A_p**2*A_q**2*C_q*D_p*D_q*E_p*sqrt1mx2*x,\n",
       " 4*A_p**2*A_q**2*F_p*G_p*G_q*H_q*sqrt1mx2*x,\n",
       " 4*A_p**2*A_q**2*F_p*G_p*H_q*I_q*sqrt1mx2*x,\n",
       " 4*A_p**2*A_q**2*F_p*G_q*H_q*I_p*sqrt1mx2*x,\n",
       " 4*A_p**2*A_q**2*F_p*H_q*I_p*I_q*sqrt1mx2*x,\n",
       " 4*A_p**2*A_q**2*F_q*G_p*G_q*H_p*sqrt1mx2*x,\n",
       " 4*A_p**2*A_q**2*F_q*G_p*H_p*I_q*sqrt1mx2*x,\n",
       " 4*A_p**2*A_q**2*F_q*G_q*H_p*I_p*sqrt1mx2*x,\n",
       " 4*A_p**2*A_q**2*F_q*H_p*I_p*I_q*sqrt1mx2*x,\n",
       " 6*A_p*A_q*F_p*H_q*R**2*e_p**3*sqrt1mx2*y**2,\n",
       " 6*A_p*A_q*F_q*H_p*R**2*e_p**3*sqrt1mx2*y**2,\n",
       " 6*A_p**3*A_q*B_p*B_q*G_p**2*e_p*sqrt1mx2*y**2,\n",
       " 6*A_p**3*A_q*B_p*B_q*I_p**2*e_p*sqrt1mx2*y**2,\n",
       " 6*A_p**3*A_q*B_p*B_q*K_p**2*e_p*sqrt1mx2*y**2,\n",
       " 6*A_p**3*A_q*B_p*D_q*G_p**2*e_p*sqrt1mx2*y**2,\n",
       " 6*A_p**3*A_q*B_p*D_q*I_p**2*e_p*sqrt1mx2*y**2,\n",
       " 6*A_p**3*A_q*B_p*D_q*K_p**2*e_p*sqrt1mx2*y**2,\n",
       " 6*A_p**3*A_q*B_q*C_p*G_p**2*sqrt1mx2*y**2*sqrt(1 - y**2),\n",
       " 6*A_p**3*A_q*B_q*C_p*I_p**2*sqrt1mx2*y**2*sqrt(1 - y**2),\n",
       " 6*A_p**3*A_q*B_q*C_p*K_p**2*sqrt1mx2*y**2*sqrt(1 - y**2),\n",
       " 6*A_p**3*A_q*B_q*D_p*G_p**2*e_p*sqrt1mx2*y**2,\n",
       " 6*A_p**3*A_q*B_q*D_p*I_p**2*e_p*sqrt1mx2*y**2,\n",
       " 6*A_p**3*A_q*B_q*D_p*K_p**2*e_p*sqrt1mx2*y**2,\n",
       " 6*A_p**3*A_q*B_q*E_p*F_p**2*sqrt1mx2*y**2*sqrt(1 - y**2),\n",
       " 6*A_p**3*A_q*B_q*E_p*H_p**2*sqrt1mx2*y**2*sqrt(1 - y**2),\n",
       " 6*A_p**3*A_q*B_q*E_p*J_p**2*sqrt1mx2*y**2*sqrt(1 - y**2),\n",
       " 6*A_p**3*A_q*B_p**3*B_q*e_p*e_q*sqrt1mx2*x,\n",
       " 6*A_p**3*A_q*B_q*D_p**3*e_p*e_q*sqrt1mx2*x,\n",
       " 6*A_p**3*A_q*B_p**3*B_q*e_p*e_q**2*sqrt1mx2*x**2,\n",
       " 6*A_p**3*A_q*B_q*D_p**3*e_p*e_q**2*sqrt1mx2*x**2,\n",
       " 6*A_p**3*A_q*B_p**3*B_q*e_q**3*sqrt1mx2*x**3*y**3,\n",
       " 6*A_p**3*A_q*B_q*D_p**3*e_q**3*sqrt1mx2*x**3*y**3,\n",
       " 6*A_p**3*A_q*C_p*D_q*G_p**2*sqrt1mx2*y**2*sqrt(1 - y**2),\n",
       " 6*A_p**3*A_q*C_p*D_q*I_p**2*sqrt1mx2*y**2*sqrt(1 - y**2),\n",
       " 6*A_p**3*A_q*C_p*D_q*K_p**2*sqrt1mx2*y**2*sqrt(1 - y**2),\n",
       " 6*A_p**3*A_q*D_p*D_q*G_p**2*e_p*sqrt1mx2*y**2,\n",
       " 6*A_p**3*A_q*D_p*D_q*I_p**2*e_p*sqrt1mx2*y**2,\n",
       " 6*A_p**3*A_q*D_p*D_q*K_p**2*e_p*sqrt1mx2*y**2,\n",
       " 6*A_p**3*A_q*D_q*E_p*F_p**2*sqrt1mx2*y**2*sqrt(1 - y**2),\n",
       " 6*A_p**3*A_q*D_q*E_p*H_p**2*sqrt1mx2*y**2*sqrt(1 - y**2),\n",
       " 6*A_p**3*A_q*D_q*E_p*J_p**2*sqrt1mx2*y**2*sqrt(1 - y**2),\n",
       " 6*A_p**3*A_q*B_p**3*D_q*e_p*e_q*sqrt1mx2*x,\n",
       " 6*A_p**3*A_q*D_p**3*D_q*e_p*e_q*sqrt1mx2*x,\n",
       " 6*A_p**3*A_q*B_p**3*D_q*e_p*e_q**2*sqrt1mx2*x**2,\n",
       " 6*A_p**3*A_q*D_p**3*D_q*e_p*e_q**2*sqrt1mx2*x**2,\n",
       " 6*A_p**3*A_q*B_p**3*D_q*e_q**3*sqrt1mx2*x**3*y**3,\n",
       " 6*A_p**3*A_q*D_p**3*D_q*e_q**3*sqrt1mx2*x**3*y**3,\n",
       " 6*A_p**3*A_q*C_p**2*F_p*F_q*e_p*sqrt1mx2*y**2,\n",
       " 6*A_p**3*A_q*E_p**2*F_p*F_q*e_p*sqrt1mx2*y**2,\n",
       " 6*A_p**3*A_q*F_p*F_q*K_p**2*e_p*sqrt1mx2*y**2,\n",
       " 6*A_p**3*A_q*B_p**2*F_q*G_p*sqrt1mx2*y**2*sqrt(1 - y**2),\n",
       " 6*A_p**3*A_q*D_p**2*F_q*G_p*sqrt1mx2*y**2*sqrt(1 - y**2),\n",
       " 6*A_p**3*A_q*F_q*G_p*J_p**2*sqrt1mx2*y**2*sqrt(1 - y**2),\n",
       " 6*A_p**3*A_q*B_p**2*F_q*I_p*sqrt1mx2*y**2*sqrt(1 - y**2),\n",
       " 6*A_p**3*A_q*D_p**2*F_q*I_p*sqrt1mx2*y**2*sqrt(1 - y**2),\n",
       " 6*A_p**3*A_q*F_q*I_p*J_p**2*sqrt1mx2*y**2*sqrt(1 - y**2),\n",
       " 6*A_p**3*A_q*F_p**3*F_q*e_p*e_q*sqrt1mx2*x,\n",
       " 6*A_p**3*A_q*F_p**3*F_q*e_p*e_q**2*sqrt1mx2*x**2,\n",
       " 6*A_p**3*A_q*F_q*H_p**3*e_q**3*sqrt1mx2*x**3*y,\n",
       " 6*A_p**3*A_q*F_p**3*F_q*e_q**3*sqrt1mx2*x**3*y**3,\n",
       " 6*A_p**3*A_q*C_p**2*G_p*H_q*sqrt1mx2*y**2*sqrt(1 - y**2),\n",
       " 6*A_p**3*A_q*E_p**2*G_p*H_q*sqrt1mx2*y**2*sqrt(1 - y**2),\n",
       " 6*A_p**3*A_q*G_p*H_q*K_p**2*sqrt1mx2*y**2*sqrt(1 - y**2),\n",
       " 6*A_p**3*A_q*C_p**2*H_p*H_q*e_p*sqrt1mx2*y**2,\n",
       " 6*A_p**3*A_q*E_p**2*H_p*H_q*e_p*sqrt1mx2*y**2,\n",
       " 6*A_p**3*A_q*H_p*H_q*K_p**2*e_p*sqrt1mx2*y**2,\n",
       " 6*A_p**3*A_q*C_p**2*H_q*I_p*sqrt1mx2*y**2*sqrt(1 - y**2),\n",
       " 6*A_p**3*A_q*E_p**2*H_q*I_p*sqrt1mx2*y**2*sqrt(1 - y**2),\n",
       " 6*A_p**3*A_q*H_q*I_p*K_p**2*sqrt1mx2*y**2*sqrt(1 - y**2),\n",
       " 6*A_p**3*A_q*H_p**3*H_q*e_p*e_q*sqrt1mx2*x,\n",
       " 6*A_p**3*A_q*H_p**3*H_q*e_p*e_q**2*sqrt1mx2*x**2,\n",
       " 6*A_p**3*A_q*F_p**3*H_q*e_q**3*sqrt1mx2*x**3*y,\n",
       " 6*A_p**3*A_q*H_p**3*H_q*e_q**3*sqrt1mx2*x**3*y**3,\n",
       " 6*A_p**3*A_q*C_p**2*J_p*J_q*e_p*sqrt1mx2*y**2,\n",
       " 6*A_p**3*A_q*E_p**2*J_p*J_q*e_p*sqrt1mx2*y**2,\n",
       " 6*A_p**3*A_q*G_p**2*J_p*J_q*e_p*sqrt1mx2*y**2,\n",
       " 6*A_p**3*A_q*I_p**2*J_p*J_q*e_p*sqrt1mx2*y**2,\n",
       " 6*A_p**3*A_q*C_p**2*J_q*K_p*sqrt1mx2*y**2*sqrt(1 - y**2),\n",
       " 6*A_p**3*A_q*E_p**2*J_q*K_p*sqrt1mx2*y**2*sqrt(1 - y**2),\n",
       " 6*A_p**3*A_q*G_p**2*J_q*K_p*sqrt1mx2*y**2*sqrt(1 - y**2),\n",
       " 6*A_p**3*A_q*I_p**2*J_q*K_p*sqrt1mx2*y**2*sqrt(1 - y**2),\n",
       " 6*A_p**3*A_q*J_p**3*J_q*e_p*e_q*sqrt1mx2*x,\n",
       " 6*A_p**3*A_q*J_p**3*J_q*e_p*e_q**2*sqrt1mx2*x**2,\n",
       " 6*A_p**3*A_q*J_p**3*J_q*e_q**3*sqrt1mx2*x**3*y**3,\n",
       " 8*A_p*A_q*B_p*B_q*R**2*e_p**3*sqrt1mx2*y**4,\n",
       " 8*A_p*A_q*B_p*D_q*R**2*e_p**3*sqrt1mx2*y**4,\n",
       " 8*A_p*A_q*B_q*D_p*R**2*e_p**3*sqrt1mx2*y**4,\n",
       " 8*A_p*A_q*D_p*D_q*R**2*e_p**3*sqrt1mx2*y**4,\n",
       " 8*A_p*A_q*F_p*F_q*R**2*e_p**3*sqrt1mx2*y**4,\n",
       " 8*A_p*A_q*H_p*H_q*R**2*e_p**3*sqrt1mx2*y**4,\n",
       " 8*A_p*A_q*J_p*J_q*R**2*e_p**3*sqrt1mx2*y**4,\n",
       " 8*A_p**3*A_q*B_p*B_q*G_p*I_p*sqrt1mx2*y,\n",
       " 8*A_p**3*A_q*B_p*B_q*F_p**2*e_p*sqrt1mx2*y**4,\n",
       " 8*A_p**3*A_q*B_p*B_q*H_p**2*e_p*sqrt1mx2*y**4,\n",
       " 8*A_p**3*A_q*B_p*B_q*J_p**2*e_p*sqrt1mx2*y**4,\n",
       " 8*A_p**3*A_q*B_p*C_p*G_p*H_q*sqrt1mx2*y,\n",
       " 8*A_p**3*A_q*B_p*C_p*H_q*I_p*sqrt1mx2*y,\n",
       " 8*A_p**3*A_q*B_p*C_p*J_q*K_p*sqrt1mx2*y,\n",
       " 8*A_p**3*A_q*B_p*D_q*G_p*I_p*sqrt1mx2*y,\n",
       " 8*A_p**3*A_q*B_p*D_q*F_p**2*e_p*sqrt1mx2*y**4,\n",
       " 8*A_p**3*A_q*B_p*D_q*H_p**2*e_p*sqrt1mx2*y**4,\n",
       " 8*A_p**3*A_q*B_p*D_q*J_p**2*e_p*sqrt1mx2*y**4,\n",
       " 8*A_p**3*A_q*B_p*E_p*F_q*G_p*sqrt1mx2*y,\n",
       " 8*A_p**3*A_q*B_p*E_p*F_q*I_p*sqrt1mx2*y,\n",
       " 8*A_p**3*A_q*B_q*C_p*G_p*H_p*sqrt1mx2*y,\n",
       " 8*A_p**3*A_q*B_q*C_p*H_p*I_p*sqrt1mx2*y,\n",
       " 8*A_p**3*A_q*B_q*C_p*J_p*K_p*sqrt1mx2*y,\n",
       " 8*A_p**3*A_q*B_q*D_p*G_p*I_p*sqrt1mx2*y,\n",
       " 8*A_p**3*A_q*B_q*D_p*F_p**2*e_p*sqrt1mx2*y**4,\n",
       " 8*A_p**3*A_q*B_q*D_p*H_p**2*e_p*sqrt1mx2*y**4,\n",
       " 8*A_p**3*A_q*B_q*D_p*J_p**2*e_p*sqrt1mx2*y**4,\n",
       " 8*A_p**3*A_q*B_q*E_p*F_p*G_p*sqrt1mx2*y,\n",
       " 8*A_p**3*A_q*B_q*E_p*F_p*I_p*sqrt1mx2*y,\n",
       " 8*A_p**3*A_q*B_q*C_p**3*e_p*sqrt1mx2*y**3*sqrt(1 - y**2),\n",
       " 8*A_p**3*A_q*C_p*D_p*G_p*H_q*sqrt1mx2*y,\n",
       " 8*A_p**3*A_q*C_p*D_p*H_q*I_p*sqrt1mx2*y,\n",
       " 8*A_p**3*A_q*C_p*D_p*J_q*K_p*sqrt1mx2*y,\n",
       " 8*A_p**3*A_q*C_p*D_q*G_p*H_p*sqrt1mx2*y,\n",
       " 8*A_p**3*A_q*C_p*D_q*H_p*I_p*sqrt1mx2*y,\n",
       " 8*A_p**3*A_q*C_p*D_q*J_p*K_p*sqrt1mx2*y,\n",
       " 8*A_p**3*A_q*C_p*E_p*F_p*H_q*sqrt1mx2*y,\n",
       " 8*A_p**3*A_q*C_p*E_p*F_q*H_p*sqrt1mx2*y,\n",
       " 8*A_p**3*A_q*D_p*D_q*G_p*I_p*sqrt1mx2*y,\n",
       " 8*A_p**3*A_q*D_p*D_q*F_p**2*e_p*sqrt1mx2*y**4,\n",
       " 8*A_p**3*A_q*D_p*D_q*H_p**2*e_p*sqrt1mx2*y**4,\n",
       " 8*A_p**3*A_q*D_p*D_q*J_p**2*e_p*sqrt1mx2*y**4,\n",
       " 8*A_p**3*A_q*D_p*E_p*F_q*G_p*sqrt1mx2*y,\n",
       " 8*A_p**3*A_q*D_p*E_p*F_q*I_p*sqrt1mx2*y,\n",
       " 8*A_p**3*A_q*D_q*E_p*F_p*G_p*sqrt1mx2*y,\n",
       " 8*A_p**3*A_q*D_q*E_p*F_p*I_p*sqrt1mx2*y,\n",
       " 8*A_p**3*A_q*C_p**3*D_q*e_p*sqrt1mx2*y**3*sqrt(1 - y**2),\n",
       " 8*A_p**3*A_q*B_p**2*F_p*F_q*e_p*sqrt1mx2*y**4,\n",
       " 8*A_p**3*A_q*D_p**2*F_p*F_q*e_p*sqrt1mx2*y**4,\n",
       " 8*A_p**3*A_q*F_p*F_q*J_p**2*e_p*sqrt1mx2*y**4,\n",
       " 8*A_p**3*A_q*C_p**2*F_p*H_q*e_p*sqrt1mx2*y**4,\n",
       " 8*A_p**3*A_q*E_p**2*F_p*H_q*e_p*sqrt1mx2*y**4,\n",
       " 8*A_p**3*A_q*F_p*H_q*K_p**2*e_p*sqrt1mx2*y**4,\n",
       " 8*A_p**3*A_q*C_p**2*F_q*H_p*e_p*sqrt1mx2*y**4,\n",
       " 8*A_p**3*A_q*E_p**2*F_q*H_p*e_p*sqrt1mx2*y**4,\n",
       " 8*A_p**3*A_q*F_q*H_p*K_p**2*e_p*sqrt1mx2*y**4,\n",
       " 8*A_p**3*A_q*G_p*H_p*J_q*K_p*sqrt1mx2*y,\n",
       " 8*A_p**3*A_q*G_p*H_q*J_p*K_p*sqrt1mx2*y,\n",
       " 8*A_p**3*A_q*G_p*I_p*J_p*J_q*sqrt1mx2*y,\n",
       " 8*A_p**3*A_q*B_p**2*H_p*H_q*e_p*sqrt1mx2*y**4,\n",
       " 8*A_p**3*A_q*D_p**2*H_p*H_q*e_p*sqrt1mx2*y**4,\n",
       " 8*A_p**3*A_q*H_p*H_q*J_p**2*e_p*sqrt1mx2*y**4,\n",
       " 8*A_p**3*A_q*H_p*I_p*J_q*K_p*sqrt1mx2*y,\n",
       " 8*A_p**3*A_q*H_q*I_p*J_p*K_p*sqrt1mx2*y,\n",
       " 8*A_p**3*A_q*G_p**3*H_q*e_p*sqrt1mx2*y**3*sqrt(1 - y**2),\n",
       " 8*A_p**3*A_q*H_q*I_p**3*e_p*sqrt1mx2*y**3*sqrt(1 - y**2),\n",
       " 8*A_p**3*A_q*B_p**2*J_p*J_q*e_p*sqrt1mx2*y**4,\n",
       " 8*A_p**3*A_q*D_p**2*J_p*J_q*e_p*sqrt1mx2*y**4,\n",
       " 8*A_p**3*A_q*F_p**2*J_p*J_q*e_p*sqrt1mx2*y**4,\n",
       " 8*A_p**3*A_q*H_p**2*J_p*J_q*e_p*sqrt1mx2*y**4,\n",
       " 8*A_p**3*A_q*J_q*K_p**3*e_p*sqrt1mx2*y**3*sqrt(1 - y**2),\n",
       " 8*A_q**2*B_q*C_q*R**2*e_p*sqrt1mx2*x*sqrt(1 - y**2),\n",
       " 8*A_q**2*C_q*D_q*R**2*e_p*sqrt1mx2*x*sqrt(1 - y**2),\n",
       " 8*A_q**2*G_q*H_q*R**2*e_p*sqrt1mx2*x*sqrt(1 - y**2),\n",
       " 8*A_q**2*H_q*I_q*R**2*e_p*sqrt1mx2*x*sqrt(1 - y**2),\n",
       " 8*A_q**2*J_q*K_q*R**2*e_p*sqrt1mx2*x*sqrt(1 - y**2),\n",
       " 10*A_p**3*A_q*B_p**2*F_p*H_q*e_p*sqrt1mx2*y**2,\n",
       " 10*A_p**3*A_q*D_p**2*F_p*H_q*e_p*sqrt1mx2*y**2,\n",
       " 10*A_p**3*A_q*F_p*H_q*J_p**2*e_p*sqrt1mx2*y**2,\n",
       " 10*A_p**3*A_q*B_p**2*F_q*H_p*e_p*sqrt1mx2*y**2,\n",
       " 10*A_p**3*A_q*D_p**2*F_q*H_p*e_p*sqrt1mx2*y**2,\n",
       " 10*A_p**3*A_q*F_q*H_p*J_p**2*e_p*sqrt1mx2*y**2,\n",
       " 12*A_p*A_q*B_p*B_q*R**2*e_p*sqrt1mx2*y**2,\n",
       " 12*A_p*A_q*B_p*D_q*R**2*e_p*sqrt1mx2*y**2,\n",
       " 12*A_p*A_q*B_q*D_p*R**2*e_p*sqrt1mx2*y**2,\n",
       " 12*A_p*A_q*D_p*D_q*R**2*e_p*sqrt1mx2*y**2,\n",
       " 12*A_p*A_q*F_p*F_q*R**2*e_p*sqrt1mx2*y**2,\n",
       " 12*A_p*A_q*F_p*H_q*R**2*e_p**2*sqrt1mx2*y,\n",
       " 12*A_p*A_q*F_q*H_p*R**2*e_p**2*sqrt1mx2*y,\n",
       " 12*A_p*A_q*H_p*H_q*R**2*e_p*sqrt1mx2*y**2,\n",
       " 12*A_p*A_q*J_p*J_q*R**2*e_p*sqrt1mx2*y**2,\n",
       " 12*A_p**3*A_q*B_p*B_q*C_p*D_p*sqrt1mx2*sqrt(1 - y**2),\n",
       " 12*A_p**3*A_q*B_p*B_q*F_p*H_p*sqrt1mx2*y,\n",
       " 12*A_p**3*A_q*B_p*C_p*D_p*D_q*sqrt1mx2*sqrt(1 - y**2),\n",
       " 12*A_p**3*A_q*B_p*C_p*F_q*G_p*sqrt1mx2*y**3,\n",
       " 12*A_p**3*A_q*B_p*C_p*F_q*I_p*sqrt1mx2*y**3,\n",
       " 12*A_p**3*A_q*B_p*D_p*F_p*F_q*sqrt1mx2*y**3,\n",
       " 12*A_p**3*A_q*B_p*D_p*F_p*H_q*sqrt1mx2*y,\n",
       " 12*A_p**3*A_q*B_p*D_p*F_q*H_p*sqrt1mx2*y,\n",
       " 12*A_p**3*A_q*B_p*D_p*H_p*H_q*sqrt1mx2*y**3,\n",
       " 12*A_p**3*A_q*B_p*D_p*J_p*J_q*sqrt1mx2*y**3,\n",
       " 12*A_p**3*A_q*B_p*D_q*F_p*H_p*sqrt1mx2*y,\n",
       " 12*A_p**3*A_q*B_p*E_p*G_p*H_q*sqrt1mx2*y**3,\n",
       " 12*A_p**3*A_q*B_p*E_p*H_q*I_p*sqrt1mx2*y**3,\n",
       " 12*A_p**3*A_q*B_p*E_p*J_q*K_p*sqrt1mx2*y**3,\n",
       " 12*A_p**3*A_q*B_q*C_p*F_p*G_p*sqrt1mx2*y**3,\n",
       " 12*A_p**3*A_q*B_q*C_p*F_p*I_p*sqrt1mx2*y**3,\n",
       " 12*A_p**3*A_q*B_q*D_p*F_p*H_p*sqrt1mx2*y,\n",
       " 12*A_p**3*A_q*B_q*E_p*G_p*H_p*sqrt1mx2*y**3,\n",
       " 12*A_p**3*A_q*B_q*E_p*H_p*I_p*sqrt1mx2*y**3,\n",
       " 12*A_p**3*A_q*B_q*E_p*J_p*K_p*sqrt1mx2*y**3,\n",
       " 12*A_p**3*A_q*C_p*D_p*F_q*G_p*sqrt1mx2*y**3,\n",
       " 12*A_p**3*A_q*C_p*D_p*F_q*I_p*sqrt1mx2*y**3,\n",
       " 12*A_p**3*A_q*C_p*D_q*F_p*G_p*sqrt1mx2*y**3,\n",
       " 12*A_p**3*A_q*C_p*D_q*F_p*I_p*sqrt1mx2*y**3,\n",
       " 12*A_p**3*A_q*C_p*E_p*F_p*F_q*sqrt1mx2*y**3,\n",
       " 12*A_p**3*A_q*C_p*E_p*H_p*H_q*sqrt1mx2*y**3,\n",
       " 12*A_p**3*A_q*C_p*E_p*J_p*J_q*sqrt1mx2*y**3,\n",
       " 12*A_p**3*A_q*D_p*D_q*F_p*H_p*sqrt1mx2*y,\n",
       " 12*A_p**3*A_q*D_p*E_p*G_p*H_q*sqrt1mx2*y**3,\n",
       " 12*A_p**3*A_q*D_p*E_p*H_q*I_p*sqrt1mx2*y**3,\n",
       " 12*A_p**3*A_q*D_p*E_p*J_q*K_p*sqrt1mx2*y**3,\n",
       " 12*A_p**3*A_q*D_q*E_p*G_p*H_p*sqrt1mx2*y**3,\n",
       " 12*A_p**3*A_q*D_q*E_p*H_p*I_p*sqrt1mx2*y**3,\n",
       " 12*A_p**3*A_q*D_q*E_p*J_p*K_p*sqrt1mx2*y**3,\n",
       " 12*A_p**3*A_q*F_p*F_q*G_p*H_p*sqrt1mx2*sqrt(1 - y**2),\n",
       " 12*A_p**3*A_q*F_p*F_q*H_p*I_p*sqrt1mx2*sqrt(1 - y**2),\n",
       " 12*A_p**3*A_q*F_p*G_p*J_q*K_p*sqrt1mx2*y**3,\n",
       " 12*A_p**3*A_q*F_p*H_p*J_p*J_q*sqrt1mx2*y,\n",
       " 12*A_p**3*A_q*F_p*I_p*J_q*K_p*sqrt1mx2*y**3,\n",
       " 12*A_p**3*A_q*F_q*G_p*J_p*K_p*sqrt1mx2*y**3,\n",
       " 12*A_p**3*A_q*F_q*I_p*J_p*K_p*sqrt1mx2*y**3,\n",
       " 18*A_p*A_q*B_p*B_q*R**2*e_p**2*sqrt1mx2*y**3,\n",
       " 18*A_p*A_q*B_p*D_q*R**2*e_p**2*sqrt1mx2*y**3,\n",
       " ...]"
      ]
     },
     "execution_count": 86,
     "metadata": {},
     "output_type": "execute_result"
    }
   ],
   "source": [
    "one_sqrt1mx2"
   ]
  },
  {
   "cell_type": "code",
   "execution_count": 87,
   "id": "7a969fa3",
   "metadata": {},
   "outputs": [
    {
     "data": {
      "text/plain": [
       "15823"
      ]
     },
     "execution_count": 87,
     "metadata": {},
     "output_type": "execute_result"
    }
   ],
   "source": [
    "len(no_sqrt1mx2)"
   ]
  },
  {
   "cell_type": "code",
   "execution_count": 89,
   "id": "16be80bd",
   "metadata": {},
   "outputs": [
    {
     "data": {
      "text/plain": [
       "9670"
      ]
     },
     "execution_count": 89,
     "metadata": {},
     "output_type": "execute_result"
    }
   ],
   "source": [
    "len(one_sqrt1mx2)"
   ]
  },
  {
   "cell_type": "code",
   "execution_count": null,
   "id": "6c239471",
   "metadata": {},
   "outputs": [],
   "source": []
  },
  {
   "cell_type": "code",
   "execution_count": 90,
   "id": "c27ceab6",
   "metadata": {},
   "outputs": [],
   "source": [
    "Bs = 0\n",
    "for i in np.arange(len(no_sqrt1mx2)):\n",
    "    Bs += no_sqrt1mx2[i]\n",
    "As = 0\n",
    "for i in np.arange(len(one_sqrt1mx2)):\n",
    "    As += one_sqrt1mx2[i]"
   ]
  },
  {
   "cell_type": "code",
   "execution_count": 91,
   "id": "7eaf58cd",
   "metadata": {},
   "outputs": [],
   "source": [
    "#solve for x where x is cos(vq)\n",
    "x2Eqn = 1-Bs/As"
   ]
  },
  {
   "cell_type": "code",
   "execution_count": null,
   "id": "e5bb9927",
   "metadata": {},
   "outputs": [],
   "source": [
    "#x2Eqn_simplified = sp.simplify(x2Eqn)"
   ]
  },
  {
   "cell_type": "code",
   "execution_count": null,
   "id": "d02356a0",
   "metadata": {},
   "outputs": [],
   "source": [
    "x2Eqn_simplified"
   ]
  },
  {
   "cell_type": "code",
   "execution_count": null,
   "id": "2e661330",
   "metadata": {},
   "outputs": [],
   "source": []
  },
  {
   "cell_type": "code",
   "execution_count": null,
   "id": "89b52492",
   "metadata": {},
   "outputs": [],
   "source": []
  },
  {
   "cell_type": "code",
   "execution_count": null,
   "id": "6f6c9bd7",
   "metadata": {},
   "outputs": [],
   "source": [
    "count"
   ]
  },
  {
   "cell_type": "code",
   "execution_count": null,
   "id": "2c6cfc3a",
   "metadata": {},
   "outputs": [],
   "source": []
  },
  {
   "cell_type": "code",
   "execution_count": null,
   "id": "0831316d",
   "metadata": {},
   "outputs": [],
   "source": []
  },
  {
   "cell_type": "code",
   "execution_count": 99,
   "id": "df50817a",
   "metadata": {},
   "outputs": [
    {
     "data": {
      "text/latex": [
       "$\\displaystyle \\left(e_{q} x + 1\\right)^{2} \\cdot \\left(1.0 R^{2} \\sqrt{1 - y^{2}} \\cdot \\left(0.5 y + 1\\right) \\left(\\left(A_{q} \\left(0.5 y + 1\\right) \\left(J_{q} \\sqrt{1 - x^{2}} + K_{q} x\\right) - 4 \\left(y + \\sqrt{1 - y^{2}}\\right) \\left(e_{q} x + 1\\right)\\right)^{2} + \\left(A_{q} \\left(0.5 y + 1\\right) \\left(B_{q} \\sqrt{1 - x^{2}} + C_{q} x + D_{q} \\sqrt{1 - x^{2}} - E_{q} x\\right) - 8 \\sqrt{1 - y^{2}} \\left(e_{q} x + 1\\right)\\right)^{2} + \\left(A_{q} \\left(0.5 y + 1\\right) \\left(- F_{q} \\sqrt{1 - x^{2}} + G_{q} x + H_{q} \\sqrt{1 - x^{2}} + I_{q} x\\right) - 8 y \\left(e_{q} x + 1\\right)\\right)^{2}\\right) + R^{2} \\left(0.5 y + 1\\right)^{2} \\left(\\sqrt{1 - y^{2}} \\left(A_{q} \\left(0.5 y + 1\\right) \\left(- F_{q} \\sqrt{1 - x^{2}} + G_{q} x + H_{q} \\sqrt{1 - x^{2}} + I_{q} x\\right) - 8 y \\left(e_{q} x + 1\\right)\\right) \\left(1.0 A_{q} \\left(- F_{q} \\sqrt{1 - x^{2}} + G_{q} x + H_{q} \\sqrt{1 - x^{2}} + I_{q} x\\right) - 16 e_{q} x - 16\\right) + \\left(1.0 A_{q} \\sqrt{1 - y^{2}} \\left(J_{q} \\sqrt{1 - x^{2}} + K_{q} x\\right) + 8 \\left(y - \\sqrt{1 - y^{2}}\\right) \\left(e_{q} x + 1\\right)\\right) \\left(A_{q} \\left(0.5 y + 1\\right) \\left(J_{q} \\sqrt{1 - x^{2}} + K_{q} x\\right) - 4 \\left(y + \\sqrt{1 - y^{2}}\\right) \\left(e_{q} x + 1\\right)\\right) + \\left(1.0 A_{q} \\sqrt{1 - y^{2}} \\left(B_{q} \\sqrt{1 - x^{2}} + C_{q} x + D_{q} \\sqrt{1 - x^{2}} - E_{q} x\\right) + 16 y \\left(e_{q} x + 1\\right)\\right) \\left(A_{q} \\left(0.5 y + 1\\right) \\left(B_{q} \\sqrt{1 - x^{2}} + C_{q} x + D_{q} \\sqrt{1 - x^{2}} - E_{q} x\\right) - 8 \\sqrt{1 - y^{2}} \\left(e_{q} x + 1\\right)\\right)\\right) - 8 \\cdot \\left(2 y \\left(A_{q} \\left(0.5 y + 1\\right) \\left(- F_{q} \\sqrt{1 - x^{2}} + G_{q} x + H_{q} \\sqrt{1 - x^{2}} + I_{q} x\\right) - 8 y \\left(e_{q} x + 1\\right)\\right) + 2 \\sqrt{1 - y^{2}} \\left(A_{q} \\left(0.5 y + 1\\right) \\left(B_{q} \\sqrt{1 - x^{2}} + C_{q} x + D_{q} \\sqrt{1 - x^{2}} - E_{q} x\\right) - 8 \\sqrt{1 - y^{2}} \\left(e_{q} x + 1\\right)\\right) + \\left(y + \\sqrt{1 - y^{2}}\\right) \\left(A_{q} \\left(0.5 y + 1\\right) \\left(J_{q} \\sqrt{1 - x^{2}} + K_{q} x\\right) - 4 \\left(y + \\sqrt{1 - y^{2}}\\right) \\left(e_{q} x + 1\\right)\\right)\\right) \\left(8 y \\sqrt{1 - y^{2}} \\cdot \\left(0.5 A_{q} \\left(- F_{q} \\sqrt{1 - x^{2}} + G_{q} x + H_{q} \\sqrt{1 - x^{2}} + I_{q} x\\right) - 8 e_{q} x - 8\\right) - 8 y \\left(A_{q} \\left(0.5 y + 1\\right) \\left(B_{q} \\sqrt{1 - x^{2}} + C_{q} x + D_{q} \\sqrt{1 - x^{2}} - E_{q} x\\right) - 8 \\sqrt{1 - y^{2}} \\left(e_{q} x + 1\\right)\\right) + \\sqrt{1 - y^{2}} \\cdot \\left(4.0 A_{q} \\sqrt{1 - y^{2}} \\left(B_{q} \\sqrt{1 - x^{2}} + C_{q} x + D_{q} \\sqrt{1 - x^{2}} - E_{q} x\\right) + 64 y \\left(e_{q} x + 1\\right)\\right) + 8 \\sqrt{1 - y^{2}} \\left(A_{q} \\left(0.5 y + 1\\right) \\left(- F_{q} \\sqrt{1 - x^{2}} + G_{q} x + H_{q} \\sqrt{1 - x^{2}} + I_{q} x\\right) - 8 y \\left(e_{q} x + 1\\right)\\right) - 4 \\left(y - \\sqrt{1 - y^{2}}\\right) \\left(A_{q} \\left(0.5 y + 1\\right) \\left(J_{q} \\sqrt{1 - x^{2}} + K_{q} x\\right) - 4 \\left(y + \\sqrt{1 - y^{2}}\\right) \\left(e_{q} x + 1\\right)\\right) + 4 \\left(y + \\sqrt{1 - y^{2}}\\right) \\left(0.5 A_{q} \\sqrt{1 - y^{2}} \\left(J_{q} \\sqrt{1 - x^{2}} + K_{q} x\\right) + 4 \\left(y - \\sqrt{1 - y^{2}}\\right) \\left(e_{q} x + 1\\right)\\right)\\right)\\right)$"
      ],
      "text/plain": [
       "(e_q*x + 1)**2*(1.0*R**2*sqrt(1 - y**2)*(0.5*y + 1)*((A_q*(0.5*y + 1)*(J_q*sqrt(1 - x**2) + K_q*x) - 4*(y + sqrt(1 - y**2))*(e_q*x + 1))**2 + (A_q*(0.5*y + 1)*(B_q*sqrt(1 - x**2) + C_q*x + D_q*sqrt(1 - x**2) - E_q*x) - 8*sqrt(1 - y**2)*(e_q*x + 1))**2 + (A_q*(0.5*y + 1)*(-F_q*sqrt(1 - x**2) + G_q*x + H_q*sqrt(1 - x**2) + I_q*x) - 8*y*(e_q*x + 1))**2) + R**2*(0.5*y + 1)**2*(sqrt(1 - y**2)*(A_q*(0.5*y + 1)*(-F_q*sqrt(1 - x**2) + G_q*x + H_q*sqrt(1 - x**2) + I_q*x) - 8*y*(e_q*x + 1))*(1.0*A_q*(-F_q*sqrt(1 - x**2) + G_q*x + H_q*sqrt(1 - x**2) + I_q*x) - 16*e_q*x - 16) + (1.0*A_q*sqrt(1 - y**2)*(J_q*sqrt(1 - x**2) + K_q*x) + 8*(y - sqrt(1 - y**2))*(e_q*x + 1))*(A_q*(0.5*y + 1)*(J_q*sqrt(1 - x**2) + K_q*x) - 4*(y + sqrt(1 - y**2))*(e_q*x + 1)) + (1.0*A_q*sqrt(1 - y**2)*(B_q*sqrt(1 - x**2) + C_q*x + D_q*sqrt(1 - x**2) - E_q*x) + 16*y*(e_q*x + 1))*(A_q*(0.5*y + 1)*(B_q*sqrt(1 - x**2) + C_q*x + D_q*sqrt(1 - x**2) - E_q*x) - 8*sqrt(1 - y**2)*(e_q*x + 1))) - 8*(2*y*(A_q*(0.5*y + 1)*(-F_q*sqrt(1 - x**2) + G_q*x + H_q*sqrt(1 - x**2) + I_q*x) - 8*y*(e_q*x + 1)) + 2*sqrt(1 - y**2)*(A_q*(0.5*y + 1)*(B_q*sqrt(1 - x**2) + C_q*x + D_q*sqrt(1 - x**2) - E_q*x) - 8*sqrt(1 - y**2)*(e_q*x + 1)) + (y + sqrt(1 - y**2))*(A_q*(0.5*y + 1)*(J_q*sqrt(1 - x**2) + K_q*x) - 4*(y + sqrt(1 - y**2))*(e_q*x + 1)))*(8*y*sqrt(1 - y**2)*(0.5*A_q*(-F_q*sqrt(1 - x**2) + G_q*x + H_q*sqrt(1 - x**2) + I_q*x) - 8*e_q*x - 8) - 8*y*(A_q*(0.5*y + 1)*(B_q*sqrt(1 - x**2) + C_q*x + D_q*sqrt(1 - x**2) - E_q*x) - 8*sqrt(1 - y**2)*(e_q*x + 1)) + sqrt(1 - y**2)*(4.0*A_q*sqrt(1 - y**2)*(B_q*sqrt(1 - x**2) + C_q*x + D_q*sqrt(1 - x**2) - E_q*x) + 64*y*(e_q*x + 1)) + 8*sqrt(1 - y**2)*(A_q*(0.5*y + 1)*(-F_q*sqrt(1 - x**2) + G_q*x + H_q*sqrt(1 - x**2) + I_q*x) - 8*y*(e_q*x + 1)) - 4*(y - sqrt(1 - y**2))*(A_q*(0.5*y + 1)*(J_q*sqrt(1 - x**2) + K_q*x) - 4*(y + sqrt(1 - y**2))*(e_q*x + 1)) + 4*(y + sqrt(1 - y**2))*(0.5*A_q*sqrt(1 - y**2)*(J_q*sqrt(1 - x**2) + K_q*x) + 4*(y - sqrt(1 - y**2))*(e_q*x + 1))))"
      ]
     },
     "execution_count": 99,
     "metadata": {},
     "output_type": "execute_result"
    }
   ],
   "source": [
    "sp.simplify(dfdvp_eqn.subs(Ap,2).subs(Bp,2).subs(Cp,2).subs(Dp,2).subs(Ep,2).subs(Fp,2).subs(Gp,2).subs(Hp,2).subs(Ip,2).subs(Jp,2).subs(Kp,2).subs(ep,0.5))"
   ]
  },
  {
   "cell_type": "code",
   "execution_count": null,
   "id": "26e32b42",
   "metadata": {},
   "outputs": [],
   "source": []
  },
  {
   "cell_type": "code",
   "execution_count": 105,
   "id": "5cb7809b",
   "metadata": {},
   "outputs": [
    {
     "data": {
      "text/latex": [
       "$\\displaystyle A_{p}^{2} \\left(e_{q} \\cos{\\left(\\nu_{q} \\right)} + 1\\right)^{2} \\left(- \\left(J_{p} \\sin{\\left(\\nu_{p} \\right)} + K_{p} \\cos{\\left(\\nu_{p} \\right)}\\right) \\left(A_{p} \\left(J_{p} \\sin{\\left(\\nu_{p} \\right)} + K_{p} \\cos{\\left(\\nu_{p} \\right)}\\right) \\left(e_{q} \\cos{\\left(\\nu_{q} \\right)} + 1\\right) - A_{q} \\left(J_{q} \\sin{\\left(\\nu_{q} \\right)} + K_{q} \\cos{\\left(\\nu_{q} \\right)}\\right) \\left(e_{p} \\cos{\\left(\\nu_{p} \\right)} + 1\\right)\\right) - \\left(A_{p} \\left(e_{q} \\cos{\\left(\\nu_{q} \\right)} + 1\\right) \\left(B_{p} \\sin{\\left(\\nu_{p} \\right)} + C_{p} \\cos{\\left(\\nu_{p} \\right)} + D_{p} \\sin{\\left(\\nu_{p} \\right)} - E_{p} \\cos{\\left(\\nu_{p} \\right)}\\right) + A_{q} \\left(e_{p} \\cos{\\left(\\nu_{p} \\right)} + 1\\right) \\left(- B_{q} \\sin{\\left(\\nu_{q} \\right)} - C_{q} \\cos{\\left(\\nu_{q} \\right)} - D_{q} \\sin{\\left(\\nu_{q} \\right)} + E_{q} \\cos{\\left(\\nu_{q} \\right)}\\right)\\right) \\left(B_{p} \\sin{\\left(\\nu_{p} \\right)} + C_{p} \\cos{\\left(\\nu_{p} \\right)} + D_{p} \\sin{\\left(\\nu_{p} \\right)} - E_{p} \\cos{\\left(\\nu_{p} \\right)}\\right) + \\left(A_{p} \\left(e_{q} \\cos{\\left(\\nu_{q} \\right)} + 1\\right) \\left(F_{p} \\sin{\\left(\\nu_{p} \\right)} - G_{p} \\cos{\\left(\\nu_{p} \\right)} - H_{p} \\sin{\\left(\\nu_{p} \\right)} - I_{p} \\cos{\\left(\\nu_{p} \\right)}\\right) + A_{q} \\left(e_{p} \\cos{\\left(\\nu_{p} \\right)} + 1\\right) \\left(- F_{q} \\sin{\\left(\\nu_{q} \\right)} + G_{q} \\cos{\\left(\\nu_{q} \\right)} + H_{q} \\sin{\\left(\\nu_{q} \\right)} + I_{q} \\cos{\\left(\\nu_{q} \\right)}\\right)\\right) \\left(- F_{p} \\sin{\\left(\\nu_{p} \\right)} + G_{p} \\cos{\\left(\\nu_{p} \\right)} + H_{p} \\sin{\\left(\\nu_{p} \\right)} + I_{p} \\cos{\\left(\\nu_{p} \\right)}\\right)\\right)^{2} - R^{2} \\left(e_{p} \\cos{\\left(\\nu_{p} \\right)} + 1\\right)^{2} \\left(e_{q} \\cos{\\left(\\nu_{q} \\right)} + 1\\right)^{2} \\left(\\left(A_{p} \\left(J_{p} \\sin{\\left(\\nu_{p} \\right)} + K_{p} \\cos{\\left(\\nu_{p} \\right)}\\right) \\left(e_{q} \\cos{\\left(\\nu_{q} \\right)} + 1\\right) - A_{q} \\left(J_{q} \\sin{\\left(\\nu_{q} \\right)} + K_{q} \\cos{\\left(\\nu_{q} \\right)}\\right) \\left(e_{p} \\cos{\\left(\\nu_{p} \\right)} + 1\\right)\\right)^{2} + \\left(A_{p} \\left(e_{q} \\cos{\\left(\\nu_{q} \\right)} + 1\\right) \\left(B_{p} \\sin{\\left(\\nu_{p} \\right)} + C_{p} \\cos{\\left(\\nu_{p} \\right)} + D_{p} \\sin{\\left(\\nu_{p} \\right)} - E_{p} \\cos{\\left(\\nu_{p} \\right)}\\right) + A_{q} \\left(e_{p} \\cos{\\left(\\nu_{p} \\right)} + 1\\right) \\left(- B_{q} \\sin{\\left(\\nu_{q} \\right)} - C_{q} \\cos{\\left(\\nu_{q} \\right)} - D_{q} \\sin{\\left(\\nu_{q} \\right)} + E_{q} \\cos{\\left(\\nu_{q} \\right)}\\right)\\right)^{2} + \\left(A_{p} \\left(e_{q} \\cos{\\left(\\nu_{q} \\right)} + 1\\right) \\left(F_{p} \\sin{\\left(\\nu_{p} \\right)} - G_{p} \\cos{\\left(\\nu_{p} \\right)} - H_{p} \\sin{\\left(\\nu_{p} \\right)} - I_{p} \\cos{\\left(\\nu_{p} \\right)}\\right) + A_{q} \\left(e_{p} \\cos{\\left(\\nu_{p} \\right)} + 1\\right) \\left(- F_{q} \\sin{\\left(\\nu_{q} \\right)} + G_{q} \\cos{\\left(\\nu_{q} \\right)} + H_{q} \\sin{\\left(\\nu_{q} \\right)} + I_{q} \\cos{\\left(\\nu_{q} \\right)}\\right)\\right)^{2}\\right)$"
      ],
      "text/plain": [
       "A_p**2*(e_q*cos(nu_q) + 1)**2*(-(J_p*sin(nu_p) + K_p*cos(nu_p))*(A_p*(J_p*sin(nu_p) + K_p*cos(nu_p))*(e_q*cos(nu_q) + 1) - A_q*(J_q*sin(nu_q) + K_q*cos(nu_q))*(e_p*cos(nu_p) + 1)) - (A_p*(e_q*cos(nu_q) + 1)*(B_p*sin(nu_p) + C_p*cos(nu_p) + D_p*sin(nu_p) - E_p*cos(nu_p)) + A_q*(e_p*cos(nu_p) + 1)*(-B_q*sin(nu_q) - C_q*cos(nu_q) - D_q*sin(nu_q) + E_q*cos(nu_q)))*(B_p*sin(nu_p) + C_p*cos(nu_p) + D_p*sin(nu_p) - E_p*cos(nu_p)) + (A_p*(e_q*cos(nu_q) + 1)*(F_p*sin(nu_p) - G_p*cos(nu_p) - H_p*sin(nu_p) - I_p*cos(nu_p)) + A_q*(e_p*cos(nu_p) + 1)*(-F_q*sin(nu_q) + G_q*cos(nu_q) + H_q*sin(nu_q) + I_q*cos(nu_q)))*(-F_p*sin(nu_p) + G_p*cos(nu_p) + H_p*sin(nu_p) + I_p*cos(nu_p)))**2 - R**2*(e_p*cos(nu_p) + 1)**2*(e_q*cos(nu_q) + 1)**2*((A_p*(J_p*sin(nu_p) + K_p*cos(nu_p))*(e_q*cos(nu_q) + 1) - A_q*(J_q*sin(nu_q) + K_q*cos(nu_q))*(e_p*cos(nu_p) + 1))**2 + (A_p*(e_q*cos(nu_q) + 1)*(B_p*sin(nu_p) + C_p*cos(nu_p) + D_p*sin(nu_p) - E_p*cos(nu_p)) + A_q*(e_p*cos(nu_p) + 1)*(-B_q*sin(nu_q) - C_q*cos(nu_q) - D_q*sin(nu_q) + E_q*cos(nu_q)))**2 + (A_p*(e_q*cos(nu_q) + 1)*(F_p*sin(nu_p) - G_p*cos(nu_p) - H_p*sin(nu_p) - I_p*cos(nu_p)) + A_q*(e_p*cos(nu_p) + 1)*(-F_q*sin(nu_q) + G_q*cos(nu_q) + H_q*sin(nu_q) + I_q*cos(nu_q)))**2)"
      ]
     },
     "execution_count": 105,
     "metadata": {},
     "output_type": "execute_result"
    }
   ],
   "source": [
    "eqn"
   ]
  },
  {
   "cell_type": "code",
   "execution_count": 106,
   "id": "79e4206d",
   "metadata": {},
   "outputs": [],
   "source": [
    "eqn2 = eqn.subs(Ap,2).subs(Bp,2).subs(Cp,2).subs(Dp,2).subs(Ep,2).subs(Fp,2).subs(Gp,2).subs(Hp,2).subs(Ip,2).subs(Jp,2).subs(Kp,2).subs(ep,0.5)"
   ]
  },
  {
   "cell_type": "code",
   "execution_count": 107,
   "id": "6dd81381",
   "metadata": {},
   "outputs": [
    {
     "data": {
      "text/latex": [
       "$\\displaystyle - R^{2} \\left(e_{q} \\cos{\\left(\\nu_{q} \\right)} + 1\\right)^{2} \\left(0.5 \\cos{\\left(\\nu_{p} \\right)} + 1\\right)^{2} \\left(\\left(- A_{q} \\left(J_{q} \\sin{\\left(\\nu_{q} \\right)} + K_{q} \\cos{\\left(\\nu_{q} \\right)}\\right) \\left(0.5 \\cos{\\left(\\nu_{p} \\right)} + 1\\right) + 2 \\left(e_{q} \\cos{\\left(\\nu_{q} \\right)} + 1\\right) \\left(2 \\sin{\\left(\\nu_{p} \\right)} + 2 \\cos{\\left(\\nu_{p} \\right)}\\right)\\right)^{2} + \\left(A_{q} \\left(0.5 \\cos{\\left(\\nu_{p} \\right)} + 1\\right) \\left(- B_{q} \\sin{\\left(\\nu_{q} \\right)} - C_{q} \\cos{\\left(\\nu_{q} \\right)} - D_{q} \\sin{\\left(\\nu_{q} \\right)} + E_{q} \\cos{\\left(\\nu_{q} \\right)}\\right) + 8 \\left(e_{q} \\cos{\\left(\\nu_{q} \\right)} + 1\\right) \\sin{\\left(\\nu_{p} \\right)}\\right)^{2} + \\left(A_{q} \\left(0.5 \\cos{\\left(\\nu_{p} \\right)} + 1\\right) \\left(- F_{q} \\sin{\\left(\\nu_{q} \\right)} + G_{q} \\cos{\\left(\\nu_{q} \\right)} + H_{q} \\sin{\\left(\\nu_{q} \\right)} + I_{q} \\cos{\\left(\\nu_{q} \\right)}\\right) - 8 \\left(e_{q} \\cos{\\left(\\nu_{q} \\right)} + 1\\right) \\cos{\\left(\\nu_{p} \\right)}\\right)^{2}\\right) + 4 \\left(e_{q} \\cos{\\left(\\nu_{q} \\right)} + 1\\right)^{2} \\left(- \\left(- A_{q} \\left(J_{q} \\sin{\\left(\\nu_{q} \\right)} + K_{q} \\cos{\\left(\\nu_{q} \\right)}\\right) \\left(0.5 \\cos{\\left(\\nu_{p} \\right)} + 1\\right) + 2 \\left(e_{q} \\cos{\\left(\\nu_{q} \\right)} + 1\\right) \\left(2 \\sin{\\left(\\nu_{p} \\right)} + 2 \\cos{\\left(\\nu_{p} \\right)}\\right)\\right) \\left(2 \\sin{\\left(\\nu_{p} \\right)} + 2 \\cos{\\left(\\nu_{p} \\right)}\\right) - 4 \\left(A_{q} \\left(0.5 \\cos{\\left(\\nu_{p} \\right)} + 1\\right) \\left(- B_{q} \\sin{\\left(\\nu_{q} \\right)} - C_{q} \\cos{\\left(\\nu_{q} \\right)} - D_{q} \\sin{\\left(\\nu_{q} \\right)} + E_{q} \\cos{\\left(\\nu_{q} \\right)}\\right) + 8 \\left(e_{q} \\cos{\\left(\\nu_{q} \\right)} + 1\\right) \\sin{\\left(\\nu_{p} \\right)}\\right) \\sin{\\left(\\nu_{p} \\right)} + 4 \\left(A_{q} \\left(0.5 \\cos{\\left(\\nu_{p} \\right)} + 1\\right) \\left(- F_{q} \\sin{\\left(\\nu_{q} \\right)} + G_{q} \\cos{\\left(\\nu_{q} \\right)} + H_{q} \\sin{\\left(\\nu_{q} \\right)} + I_{q} \\cos{\\left(\\nu_{q} \\right)}\\right) - 8 \\left(e_{q} \\cos{\\left(\\nu_{q} \\right)} + 1\\right) \\cos{\\left(\\nu_{p} \\right)}\\right) \\cos{\\left(\\nu_{p} \\right)}\\right)^{2}$"
      ],
      "text/plain": [
       "-R**2*(e_q*cos(nu_q) + 1)**2*(0.5*cos(nu_p) + 1)**2*((-A_q*(J_q*sin(nu_q) + K_q*cos(nu_q))*(0.5*cos(nu_p) + 1) + 2*(e_q*cos(nu_q) + 1)*(2*sin(nu_p) + 2*cos(nu_p)))**2 + (A_q*(0.5*cos(nu_p) + 1)*(-B_q*sin(nu_q) - C_q*cos(nu_q) - D_q*sin(nu_q) + E_q*cos(nu_q)) + 8*(e_q*cos(nu_q) + 1)*sin(nu_p))**2 + (A_q*(0.5*cos(nu_p) + 1)*(-F_q*sin(nu_q) + G_q*cos(nu_q) + H_q*sin(nu_q) + I_q*cos(nu_q)) - 8*(e_q*cos(nu_q) + 1)*cos(nu_p))**2) + 4*(e_q*cos(nu_q) + 1)**2*(-(-A_q*(J_q*sin(nu_q) + K_q*cos(nu_q))*(0.5*cos(nu_p) + 1) + 2*(e_q*cos(nu_q) + 1)*(2*sin(nu_p) + 2*cos(nu_p)))*(2*sin(nu_p) + 2*cos(nu_p)) - 4*(A_q*(0.5*cos(nu_p) + 1)*(-B_q*sin(nu_q) - C_q*cos(nu_q) - D_q*sin(nu_q) + E_q*cos(nu_q)) + 8*(e_q*cos(nu_q) + 1)*sin(nu_p))*sin(nu_p) + 4*(A_q*(0.5*cos(nu_p) + 1)*(-F_q*sin(nu_q) + G_q*cos(nu_q) + H_q*sin(nu_q) + I_q*cos(nu_q)) - 8*(e_q*cos(nu_q) + 1)*cos(nu_p))*cos(nu_p))**2"
      ]
     },
     "execution_count": 107,
     "metadata": {},
     "output_type": "execute_result"
    }
   ],
   "source": [
    "eqn2"
   ]
  },
  {
   "cell_type": "code",
   "execution_count": 116,
   "id": "36f45465",
   "metadata": {},
   "outputs": [],
   "source": [
    "eqn3 = eqn2.subs(Aq,0.1).subs(Bq,0.3).subs(Cq,1.7).subs(Dq,0.8).subs(Eq,0.1).subs(Fq,0.7).subs(Gq,2.5).subs(Hq,0.33).subs(Iq,0.75).subs(Jq,1).subs(Kq,1.5).subs(eq,0.01).subs(R,100.)"
   ]
  },
  {
   "cell_type": "code",
   "execution_count": 117,
   "id": "037cc5b4",
   "metadata": {},
   "outputs": [
    {
     "data": {
      "text/latex": [
       "$\\displaystyle - 10000.0 \\left(0.5 \\cos{\\left(\\nu_{p} \\right)} + 1\\right)^{2} \\left(0.01 \\cos{\\left(\\nu_{q} \\right)} + 1\\right)^{2} \\cdot \\left(4 \\left(\\left(2 \\sin{\\left(\\nu_{p} \\right)} + 2 \\cos{\\left(\\nu_{p} \\right)}\\right) \\left(0.01 \\cos{\\left(\\nu_{q} \\right)} + 1\\right) - 0.05 \\left(\\sin{\\left(\\nu_{q} \\right)} + 1.5 \\cos{\\left(\\nu_{q} \\right)}\\right) \\left(0.5 \\cos{\\left(\\nu_{p} \\right)} + 1\\right)\\right)^{2} + 64 \\left(0.0125 \\left(- 1.1 \\sin{\\left(\\nu_{q} \\right)} - 1.6 \\cos{\\left(\\nu_{q} \\right)}\\right) \\left(0.5 \\cos{\\left(\\nu_{p} \\right)} + 1\\right) + \\left(0.01 \\cos{\\left(\\nu_{q} \\right)} + 1\\right) \\sin{\\left(\\nu_{p} \\right)}\\right)^{2} + 64 \\left(0.0125 \\left(- 0.37 \\sin{\\left(\\nu_{q} \\right)} + 3.25 \\cos{\\left(\\nu_{q} \\right)}\\right) \\left(0.5 \\cos{\\left(\\nu_{p} \\right)} + 1\\right) - \\left(0.01 \\cos{\\left(\\nu_{q} \\right)} + 1\\right) \\cos{\\left(\\nu_{p} \\right)}\\right)^{2}\\right) + 4 \\left(0.01 \\cos{\\left(\\nu_{q} \\right)} + 1\\right)^{2} \\left(- \\left(2 \\cdot \\left(2 \\sin{\\left(\\nu_{p} \\right)} + 2 \\cos{\\left(\\nu_{p} \\right)}\\right) \\left(0.01 \\cos{\\left(\\nu_{q} \\right)} + 1\\right) - 0.1 \\left(\\sin{\\left(\\nu_{q} \\right)} + 1.5 \\cos{\\left(\\nu_{q} \\right)}\\right) \\left(0.5 \\cos{\\left(\\nu_{p} \\right)} + 1\\right)\\right) \\left(2 \\sin{\\left(\\nu_{p} \\right)} + 2 \\cos{\\left(\\nu_{p} \\right)}\\right) - 4 \\cdot \\left(0.1 \\left(- 1.1 \\sin{\\left(\\nu_{q} \\right)} - 1.6 \\cos{\\left(\\nu_{q} \\right)}\\right) \\left(0.5 \\cos{\\left(\\nu_{p} \\right)} + 1\\right) + 8 \\cdot \\left(0.01 \\cos{\\left(\\nu_{q} \\right)} + 1\\right) \\sin{\\left(\\nu_{p} \\right)}\\right) \\sin{\\left(\\nu_{p} \\right)} + 4 \\cdot \\left(0.1 \\left(- 0.37 \\sin{\\left(\\nu_{q} \\right)} + 3.25 \\cos{\\left(\\nu_{q} \\right)}\\right) \\left(0.5 \\cos{\\left(\\nu_{p} \\right)} + 1\\right) - 8 \\cdot \\left(0.01 \\cos{\\left(\\nu_{q} \\right)} + 1\\right) \\cos{\\left(\\nu_{p} \\right)}\\right) \\cos{\\left(\\nu_{p} \\right)}\\right)^{2}$"
      ],
      "text/plain": [
       "-10000.0*(0.5*cos(nu_p) + 1)**2*(0.01*cos(nu_q) + 1)**2*(4*((2*sin(nu_p) + 2*cos(nu_p))*(0.01*cos(nu_q) + 1) - 0.05*(sin(nu_q) + 1.5*cos(nu_q))*(0.5*cos(nu_p) + 1))**2 + 64*(0.0125*(-1.1*sin(nu_q) - 1.6*cos(nu_q))*(0.5*cos(nu_p) + 1) + (0.01*cos(nu_q) + 1)*sin(nu_p))**2 + 64*(0.0125*(-0.37*sin(nu_q) + 3.25*cos(nu_q))*(0.5*cos(nu_p) + 1) - (0.01*cos(nu_q) + 1)*cos(nu_p))**2) + 4*(0.01*cos(nu_q) + 1)**2*(-(2*(2*sin(nu_p) + 2*cos(nu_p))*(0.01*cos(nu_q) + 1) - 0.1*(sin(nu_q) + 1.5*cos(nu_q))*(0.5*cos(nu_p) + 1))*(2*sin(nu_p) + 2*cos(nu_p)) - 4*(0.1*(-1.1*sin(nu_q) - 1.6*cos(nu_q))*(0.5*cos(nu_p) + 1) + 8*(0.01*cos(nu_q) + 1)*sin(nu_p))*sin(nu_p) + 4*(0.1*(-0.37*sin(nu_q) + 3.25*cos(nu_q))*(0.5*cos(nu_p) + 1) - 8*(0.01*cos(nu_q) + 1)*cos(nu_p))*cos(nu_p))**2"
      ]
     },
     "execution_count": 117,
     "metadata": {},
     "output_type": "execute_result"
    }
   ],
   "source": [
    "eqn3"
   ]
  },
  {
   "cell_type": "code",
   "execution_count": 118,
   "id": "f05cdb8b",
   "metadata": {},
   "outputs": [],
   "source": [
    "eqn3_expanded = sp.expand(eqn3).subs(sp.sin(vp)**2,1-sp.cos(vp)**2).subs(sp.sin(vq)**2,1-sp.cos(vq)**2)"
   ]
  },
  {
   "cell_type": "code",
   "execution_count": 121,
   "id": "ade0a97e",
   "metadata": {},
   "outputs": [],
   "source": [
    "eqn3_expanded2 = sp.expand(eqn3_expanded)"
   ]
  },
  {
   "cell_type": "code",
   "execution_count": null,
   "id": "0f0be7e2",
   "metadata": {},
   "outputs": [],
   "source": [
    "eqn3_expanded2"
   ]
  },
  {
   "cell_type": "code",
   "execution_count": null,
   "id": "0d799100",
   "metadata": {},
   "outputs": [],
   "source": [
    "sp.simplify(eqn3_expanded2)"
   ]
  },
  {
   "cell_type": "code",
   "execution_count": 123,
   "id": "ac96a0de",
   "metadata": {},
   "outputs": [
    {
     "data": {
      "text/plain": [
       "96"
      ]
     },
     "execution_count": 123,
     "metadata": {},
     "output_type": "execute_result"
    }
   ],
   "source": [
    "len(eqn3_expanded2.args)"
   ]
  },
  {
   "cell_type": "code",
   "execution_count": null,
   "id": "db459d19",
   "metadata": {},
   "outputs": [],
   "source": []
  },
  {
   "cell_type": "code",
   "execution_count": null,
   "id": "6ab544d5",
   "metadata": {},
   "outputs": [],
   "source": []
  },
  {
   "cell_type": "code",
   "execution_count": 115,
   "id": "2df97538",
   "metadata": {},
   "outputs": [
    {
     "ename": "KeyboardInterrupt",
     "evalue": "",
     "output_type": "error",
     "traceback": [
      "\u001b[0;31m---------------------------------------------------------------------------\u001b[0m",
      "\u001b[0;31mKeyboardInterrupt\u001b[0m                         Traceback (most recent call last)",
      "Cell \u001b[0;32mIn[115], line 1\u001b[0m\n\u001b[0;32m----> 1\u001b[0m \u001b[43msp\u001b[49m\u001b[38;5;241;43m.\u001b[39;49m\u001b[43msimplify\u001b[49m\u001b[43m(\u001b[49m\u001b[43meqn3_expanded\u001b[49m\u001b[43m)\u001b[49m\n",
      "File \u001b[0;32m~/.local/lib/python3.8/site-packages/sympy/simplify/simplify.py:699\u001b[0m, in \u001b[0;36msimplify\u001b[0;34m(expr, ratio, measure, rational, inverse, doit, **kwargs)\u001b[0m\n\u001b[1;32m    696\u001b[0m     expr \u001b[38;5;241m=\u001b[39m besselsimp(expr)\n\u001b[1;32m    698\u001b[0m \u001b[38;5;28;01mif\u001b[39;00m expr\u001b[38;5;241m.\u001b[39mhas(TrigonometricFunction, HyperbolicFunction):\n\u001b[0;32m--> 699\u001b[0m     expr \u001b[38;5;241m=\u001b[39m \u001b[43mtrigsimp\u001b[49m\u001b[43m(\u001b[49m\u001b[43mexpr\u001b[49m\u001b[43m,\u001b[49m\u001b[43m \u001b[49m\u001b[43mdeep\u001b[49m\u001b[38;5;241;43m=\u001b[39;49m\u001b[38;5;28;43;01mTrue\u001b[39;49;00m\u001b[43m)\u001b[49m\n\u001b[1;32m    701\u001b[0m \u001b[38;5;28;01mif\u001b[39;00m expr\u001b[38;5;241m.\u001b[39mhas(log):\n\u001b[1;32m    702\u001b[0m     expr \u001b[38;5;241m=\u001b[39m shorter(expand_log(expr, deep\u001b[38;5;241m=\u001b[39m\u001b[38;5;28;01mTrue\u001b[39;00m), logcombine(expr))\n",
      "File \u001b[0;32m~/.local/lib/python3.8/site-packages/sympy/simplify/trigsimp.py:523\u001b[0m, in \u001b[0;36mtrigsimp\u001b[0;34m(expr, **opts)\u001b[0m\n\u001b[1;32m    512\u001b[0m     \u001b[38;5;28;01mreturn\u001b[39;00m trigsimp_groebner(new, \u001b[38;5;241m*\u001b[39m\u001b[38;5;241m*\u001b[39mopts)\n\u001b[1;32m    514\u001b[0m trigsimpfunc \u001b[38;5;241m=\u001b[39m {\n\u001b[1;32m    515\u001b[0m     \u001b[38;5;124m'\u001b[39m\u001b[38;5;124mfu\u001b[39m\u001b[38;5;124m'\u001b[39m: (\u001b[38;5;28;01mlambda\u001b[39;00m x: fu(x, \u001b[38;5;241m*\u001b[39m\u001b[38;5;241m*\u001b[39mopts)),\n\u001b[1;32m    516\u001b[0m     \u001b[38;5;124m'\u001b[39m\u001b[38;5;124mmatching\u001b[39m\u001b[38;5;124m'\u001b[39m: (\u001b[38;5;28;01mlambda\u001b[39;00m x: futrig(x)),\n\u001b[0;32m   (...)\u001b[0m\n\u001b[1;32m    520\u001b[0m     \u001b[38;5;124m'\u001b[39m\u001b[38;5;124mold\u001b[39m\u001b[38;5;124m'\u001b[39m: \u001b[38;5;28;01mlambda\u001b[39;00m x: trigsimp_old(x, \u001b[38;5;241m*\u001b[39m\u001b[38;5;241m*\u001b[39mopts),\n\u001b[1;32m    521\u001b[0m                }[method]\n\u001b[0;32m--> 523\u001b[0m \u001b[38;5;28;01mreturn\u001b[39;00m \u001b[43mtrigsimpfunc\u001b[49m\u001b[43m(\u001b[49m\u001b[43mexpr\u001b[49m\u001b[43m)\u001b[49m\n",
      "File \u001b[0;32m~/.local/lib/python3.8/site-packages/sympy/simplify/trigsimp.py:516\u001b[0m, in \u001b[0;36mtrigsimp.<locals>.<lambda>\u001b[0;34m(x)\u001b[0m\n\u001b[1;32m    511\u001b[0m         \u001b[38;5;28;01mreturn\u001b[39;00m new\n\u001b[1;32m    512\u001b[0m     \u001b[38;5;28;01mreturn\u001b[39;00m trigsimp_groebner(new, \u001b[38;5;241m*\u001b[39m\u001b[38;5;241m*\u001b[39mopts)\n\u001b[1;32m    514\u001b[0m trigsimpfunc \u001b[38;5;241m=\u001b[39m {\n\u001b[1;32m    515\u001b[0m     \u001b[38;5;124m'\u001b[39m\u001b[38;5;124mfu\u001b[39m\u001b[38;5;124m'\u001b[39m: (\u001b[38;5;28;01mlambda\u001b[39;00m x: fu(x, \u001b[38;5;241m*\u001b[39m\u001b[38;5;241m*\u001b[39mopts)),\n\u001b[0;32m--> 516\u001b[0m     \u001b[38;5;124m'\u001b[39m\u001b[38;5;124mmatching\u001b[39m\u001b[38;5;124m'\u001b[39m: (\u001b[38;5;28;01mlambda\u001b[39;00m x: \u001b[43mfutrig\u001b[49m\u001b[43m(\u001b[49m\u001b[43mx\u001b[49m\u001b[43m)\u001b[49m),\n\u001b[1;32m    517\u001b[0m     \u001b[38;5;124m'\u001b[39m\u001b[38;5;124mgroebner\u001b[39m\u001b[38;5;124m'\u001b[39m: (\u001b[38;5;28;01mlambda\u001b[39;00m x: groebnersimp(x, \u001b[38;5;241m*\u001b[39m\u001b[38;5;241m*\u001b[39mopts)),\n\u001b[1;32m    518\u001b[0m     \u001b[38;5;124m'\u001b[39m\u001b[38;5;124mcombined\u001b[39m\u001b[38;5;124m'\u001b[39m: (\u001b[38;5;28;01mlambda\u001b[39;00m x: futrig(groebnersimp(x,\n\u001b[1;32m    519\u001b[0m                            polynomial\u001b[38;5;241m=\u001b[39m\u001b[38;5;28;01mTrue\u001b[39;00m, hints\u001b[38;5;241m=\u001b[39m[\u001b[38;5;241m2\u001b[39m, tan]))),\n\u001b[1;32m    520\u001b[0m     \u001b[38;5;124m'\u001b[39m\u001b[38;5;124mold\u001b[39m\u001b[38;5;124m'\u001b[39m: \u001b[38;5;28;01mlambda\u001b[39;00m x: trigsimp_old(x, \u001b[38;5;241m*\u001b[39m\u001b[38;5;241m*\u001b[39mopts),\n\u001b[1;32m    521\u001b[0m                }[method]\n\u001b[1;32m    523\u001b[0m \u001b[38;5;28;01mreturn\u001b[39;00m trigsimpfunc(expr)\n",
      "File \u001b[0;32m~/.local/lib/python3.8/site-packages/sympy/simplify/trigsimp.py:1113\u001b[0m, in \u001b[0;36mfutrig\u001b[0;34m(e, hyper, **kwargs)\u001b[0m\n\u001b[1;32m   1110\u001b[0m     \u001b[38;5;28;01mreturn\u001b[39;00m e\n\u001b[1;32m   1112\u001b[0m old \u001b[38;5;241m=\u001b[39m e\n\u001b[0;32m-> 1113\u001b[0m e \u001b[38;5;241m=\u001b[39m \u001b[43mbottom_up\u001b[49m\u001b[43m(\u001b[49m\u001b[43me\u001b[49m\u001b[43m,\u001b[49m\u001b[43m \u001b[49m\u001b[43m_futrig\u001b[49m\u001b[43m)\u001b[49m\n\u001b[1;32m   1115\u001b[0m \u001b[38;5;28;01mif\u001b[39;00m hyper \u001b[38;5;129;01mand\u001b[39;00m e\u001b[38;5;241m.\u001b[39mhas(HyperbolicFunction):\n\u001b[1;32m   1116\u001b[0m     e, f \u001b[38;5;241m=\u001b[39m hyper_as_trig(e)\n",
      "File \u001b[0;32m~/.local/lib/python3.8/site-packages/sympy/core/traversal.py:240\u001b[0m, in \u001b[0;36mbottom_up\u001b[0;34m(rv, F, atoms, nonbasic)\u001b[0m\n\u001b[1;32m    238\u001b[0m     \u001b[38;5;28;01mif\u001b[39;00m args \u001b[38;5;241m!=\u001b[39m rv\u001b[38;5;241m.\u001b[39margs:\n\u001b[1;32m    239\u001b[0m         rv \u001b[38;5;241m=\u001b[39m rv\u001b[38;5;241m.\u001b[39mfunc(\u001b[38;5;241m*\u001b[39margs)\n\u001b[0;32m--> 240\u001b[0m     rv \u001b[38;5;241m=\u001b[39m \u001b[43mF\u001b[49m\u001b[43m(\u001b[49m\u001b[43mrv\u001b[49m\u001b[43m)\u001b[49m\n\u001b[1;32m    241\u001b[0m \u001b[38;5;28;01melif\u001b[39;00m atoms:\n\u001b[1;32m    242\u001b[0m     rv \u001b[38;5;241m=\u001b[39m F(rv)\n",
      "File \u001b[0;32m~/.local/lib/python3.8/site-packages/sympy/simplify/trigsimp.py:1180\u001b[0m, in \u001b[0;36m_futrig\u001b[0;34m(e)\u001b[0m\n\u001b[1;32m   1141\u001b[0m trigs \u001b[38;5;241m=\u001b[39m \u001b[38;5;28;01mlambda\u001b[39;00m x: x\u001b[38;5;241m.\u001b[39mhas(TrigonometricFunction)\n\u001b[1;32m   1143\u001b[0m tree \u001b[38;5;241m=\u001b[39m [identity,\n\u001b[1;32m   1144\u001b[0m     (\n\u001b[1;32m   1145\u001b[0m     TR3,  \u001b[38;5;66;03m# canonical angles\u001b[39;00m\n\u001b[0;32m   (...)\u001b[0m\n\u001b[1;32m   1178\u001b[0m         factor_terms, TR12(x), trigs)],  \u001b[38;5;66;03m# expand tan of sum\u001b[39;00m\n\u001b[1;32m   1179\u001b[0m     )]\n\u001b[0;32m-> 1180\u001b[0m e \u001b[38;5;241m=\u001b[39m \u001b[43mgreedy\u001b[49m\u001b[43m(\u001b[49m\u001b[43mtree\u001b[49m\u001b[43m,\u001b[49m\u001b[43m \u001b[49m\u001b[43mobjective\u001b[49m\u001b[38;5;241;43m=\u001b[39;49m\u001b[43mLops\u001b[49m\u001b[43m)\u001b[49m\u001b[43m(\u001b[49m\u001b[43me\u001b[49m\u001b[43m)\u001b[49m\n\u001b[1;32m   1182\u001b[0m \u001b[38;5;28;01mif\u001b[39;00m coeff \u001b[38;5;129;01mis\u001b[39;00m \u001b[38;5;129;01mnot\u001b[39;00m \u001b[38;5;28;01mNone\u001b[39;00m:\n\u001b[1;32m   1183\u001b[0m     e \u001b[38;5;241m=\u001b[39m coeff \u001b[38;5;241m*\u001b[39m e\n",
      "File \u001b[0;32m~/.local/lib/python3.8/site-packages/sympy/strategies/core.py:111\u001b[0m, in \u001b[0;36mminimize.<locals>.minrule\u001b[0;34m(expr)\u001b[0m\n\u001b[1;32m    110\u001b[0m \u001b[38;5;28;01mdef\u001b[39;00m \u001b[38;5;21mminrule\u001b[39m(expr):\n\u001b[0;32m--> 111\u001b[0m     \u001b[38;5;28;01mreturn\u001b[39;00m \u001b[38;5;28mmin\u001b[39m([rule(expr) \u001b[38;5;28;01mfor\u001b[39;00m rule \u001b[38;5;129;01min\u001b[39;00m rules], key\u001b[38;5;241m=\u001b[39mobjective)\n",
      "File \u001b[0;32m~/.local/lib/python3.8/site-packages/sympy/strategies/core.py:111\u001b[0m, in \u001b[0;36m<listcomp>\u001b[0;34m(.0)\u001b[0m\n\u001b[1;32m    110\u001b[0m \u001b[38;5;28;01mdef\u001b[39;00m \u001b[38;5;21mminrule\u001b[39m(expr):\n\u001b[0;32m--> 111\u001b[0m     \u001b[38;5;28;01mreturn\u001b[39;00m \u001b[38;5;28mmin\u001b[39m([\u001b[43mrule\u001b[49m\u001b[43m(\u001b[49m\u001b[43mexpr\u001b[49m\u001b[43m)\u001b[49m \u001b[38;5;28;01mfor\u001b[39;00m rule \u001b[38;5;129;01min\u001b[39;00m rules], key\u001b[38;5;241m=\u001b[39mobjective)\n",
      "File \u001b[0;32m~/.local/lib/python3.8/site-packages/sympy/strategies/core.py:41\u001b[0m, in \u001b[0;36mchain.<locals>.chain_rl\u001b[0;34m(expr)\u001b[0m\n\u001b[1;32m     39\u001b[0m \u001b[38;5;28;01mdef\u001b[39;00m \u001b[38;5;21mchain_rl\u001b[39m(expr):\n\u001b[1;32m     40\u001b[0m     \u001b[38;5;28;01mfor\u001b[39;00m rule \u001b[38;5;129;01min\u001b[39;00m rules:\n\u001b[0;32m---> 41\u001b[0m         expr \u001b[38;5;241m=\u001b[39m \u001b[43mrule\u001b[49m\u001b[43m(\u001b[49m\u001b[43mexpr\u001b[49m\u001b[43m)\u001b[49m\n\u001b[1;32m     42\u001b[0m     \u001b[38;5;28;01mreturn\u001b[39;00m expr\n",
      "File \u001b[0;32m~/.local/lib/python3.8/site-packages/sympy/simplify/trigsimp.py:1148\u001b[0m, in \u001b[0;36m_futrig.<locals>.<lambda>\u001b[0;34m(x)\u001b[0m\n\u001b[1;32m   1140\u001b[0m Lops \u001b[38;5;241m=\u001b[39m \u001b[38;5;28;01mlambda\u001b[39;00m x: (L(x), x\u001b[38;5;241m.\u001b[39mcount_ops(), _nodes(x), \u001b[38;5;28mlen\u001b[39m(x\u001b[38;5;241m.\u001b[39margs), x\u001b[38;5;241m.\u001b[39mis_Add)\n\u001b[1;32m   1141\u001b[0m trigs \u001b[38;5;241m=\u001b[39m \u001b[38;5;28;01mlambda\u001b[39;00m x: x\u001b[38;5;241m.\u001b[39mhas(TrigonometricFunction)\n\u001b[1;32m   1143\u001b[0m tree \u001b[38;5;241m=\u001b[39m [identity,\n\u001b[1;32m   1144\u001b[0m     (\n\u001b[1;32m   1145\u001b[0m     TR3,  \u001b[38;5;66;03m# canonical angles\u001b[39;00m\n\u001b[1;32m   1146\u001b[0m     TR1,  \u001b[38;5;66;03m# sec-csc -> cos-sin\u001b[39;00m\n\u001b[1;32m   1147\u001b[0m     TR12,  \u001b[38;5;66;03m# expand tan of sum\u001b[39;00m\n\u001b[0;32m-> 1148\u001b[0m     \u001b[38;5;28;01mlambda\u001b[39;00m x: \u001b[43m_eapply\u001b[49m\u001b[43m(\u001b[49m\u001b[43mfactor\u001b[49m\u001b[43m,\u001b[49m\u001b[43m \u001b[49m\u001b[43mx\u001b[49m\u001b[43m,\u001b[49m\u001b[43m \u001b[49m\u001b[43mtrigs\u001b[49m\u001b[43m)\u001b[49m,\n\u001b[1;32m   1149\u001b[0m     TR2,  \u001b[38;5;66;03m# tan-cot -> sin-cos\u001b[39;00m\n\u001b[1;32m   1150\u001b[0m     [identity, \u001b[38;5;28;01mlambda\u001b[39;00m x: _eapply(_mexpand, x, trigs)],\n\u001b[1;32m   1151\u001b[0m     TR2i,  \u001b[38;5;66;03m# sin-cos ratio -> tan\u001b[39;00m\n\u001b[1;32m   1152\u001b[0m     \u001b[38;5;28;01mlambda\u001b[39;00m x: _eapply(\u001b[38;5;28;01mlambda\u001b[39;00m i: factor(i\u001b[38;5;241m.\u001b[39mnormal()), x, trigs),\n\u001b[1;32m   1153\u001b[0m     TR14,  \u001b[38;5;66;03m# factored identities\u001b[39;00m\n\u001b[1;32m   1154\u001b[0m     TR5,  \u001b[38;5;66;03m# sin-pow -> cos_pow\u001b[39;00m\n\u001b[1;32m   1155\u001b[0m     TR10,  \u001b[38;5;66;03m# sin-cos of sums -> sin-cos prod\u001b[39;00m\n\u001b[1;32m   1156\u001b[0m     TR11, _TR11, TR6, \u001b[38;5;66;03m# reduce double angles and rewrite cos pows\u001b[39;00m\n\u001b[1;32m   1157\u001b[0m     \u001b[38;5;28;01mlambda\u001b[39;00m x: _eapply(factor, x, trigs),\n\u001b[1;32m   1158\u001b[0m     TR14,  \u001b[38;5;66;03m# factored powers of identities\u001b[39;00m\n\u001b[1;32m   1159\u001b[0m     [identity, \u001b[38;5;28;01mlambda\u001b[39;00m x: _eapply(_mexpand, x, trigs)],\n\u001b[1;32m   1160\u001b[0m     TR10i,  \u001b[38;5;66;03m# sin-cos products > sin-cos of sums\u001b[39;00m\n\u001b[1;32m   1161\u001b[0m     TRmorrie,\n\u001b[1;32m   1162\u001b[0m     [identity, TR8],  \u001b[38;5;66;03m# sin-cos products -> sin-cos of sums\u001b[39;00m\n\u001b[1;32m   1163\u001b[0m     [identity, \u001b[38;5;28;01mlambda\u001b[39;00m x: TR2i(TR2(x))],  \u001b[38;5;66;03m# tan -> sin-cos -> tan\u001b[39;00m\n\u001b[1;32m   1164\u001b[0m     [\n\u001b[1;32m   1165\u001b[0m         \u001b[38;5;28;01mlambda\u001b[39;00m x: _eapply(expand_mul, TR5(x), trigs),\n\u001b[1;32m   1166\u001b[0m         \u001b[38;5;28;01mlambda\u001b[39;00m x: _eapply(\n\u001b[1;32m   1167\u001b[0m             expand_mul, TR15(x), trigs)], \u001b[38;5;66;03m# pos/neg powers of sin\u001b[39;00m\n\u001b[1;32m   1168\u001b[0m     [\n\u001b[1;32m   1169\u001b[0m         \u001b[38;5;28;01mlambda\u001b[39;00m x:  _eapply(expand_mul, TR6(x), trigs),\n\u001b[1;32m   1170\u001b[0m         \u001b[38;5;28;01mlambda\u001b[39;00m x:  _eapply(\n\u001b[1;32m   1171\u001b[0m             expand_mul, TR16(x), trigs)], \u001b[38;5;66;03m# pos/neg powers of cos\u001b[39;00m\n\u001b[1;32m   1172\u001b[0m     TR111,  \u001b[38;5;66;03m# tan, sin, cos to neg power -> cot, csc, sec\u001b[39;00m\n\u001b[1;32m   1173\u001b[0m     [identity, TR2i],  \u001b[38;5;66;03m# sin-cos ratio to tan\u001b[39;00m\n\u001b[1;32m   1174\u001b[0m     [identity, \u001b[38;5;28;01mlambda\u001b[39;00m x: _eapply(\n\u001b[1;32m   1175\u001b[0m         expand_mul, TR22(x), trigs)],  \u001b[38;5;66;03m# tan-cot to sec-csc\u001b[39;00m\n\u001b[1;32m   1176\u001b[0m     TR1, TR2, TR2i,\n\u001b[1;32m   1177\u001b[0m     [identity, \u001b[38;5;28;01mlambda\u001b[39;00m x: _eapply(\n\u001b[1;32m   1178\u001b[0m         factor_terms, TR12(x), trigs)],  \u001b[38;5;66;03m# expand tan of sum\u001b[39;00m\n\u001b[1;32m   1179\u001b[0m     )]\n\u001b[1;32m   1180\u001b[0m e \u001b[38;5;241m=\u001b[39m greedy(tree, objective\u001b[38;5;241m=\u001b[39mLops)(e)\n\u001b[1;32m   1182\u001b[0m \u001b[38;5;28;01mif\u001b[39;00m coeff \u001b[38;5;129;01mis\u001b[39;00m \u001b[38;5;129;01mnot\u001b[39;00m \u001b[38;5;28;01mNone\u001b[39;00m:\n",
      "File \u001b[0;32m~/.local/lib/python3.8/site-packages/sympy/simplify/trigsimp.py:1204\u001b[0m, in \u001b[0;36m_eapply\u001b[0;34m(func, e, cond)\u001b[0m\n\u001b[1;32m   1202\u001b[0m     \u001b[38;5;28;01mreturn\u001b[39;00m e\n\u001b[1;32m   1203\u001b[0m \u001b[38;5;28;01mif\u001b[39;00m _is_Expr(e) \u001b[38;5;129;01mor\u001b[39;00m \u001b[38;5;129;01mnot\u001b[39;00m e\u001b[38;5;241m.\u001b[39margs:\n\u001b[0;32m-> 1204\u001b[0m     \u001b[38;5;28;01mreturn\u001b[39;00m \u001b[43mfunc\u001b[49m\u001b[43m(\u001b[49m\u001b[43me\u001b[49m\u001b[43m)\u001b[49m\n\u001b[1;32m   1205\u001b[0m \u001b[38;5;28;01mreturn\u001b[39;00m e\u001b[38;5;241m.\u001b[39mfunc(\u001b[38;5;241m*\u001b[39m[\n\u001b[1;32m   1206\u001b[0m     _eapply(func, ei) \u001b[38;5;28;01mif\u001b[39;00m (cond \u001b[38;5;129;01mis\u001b[39;00m \u001b[38;5;28;01mNone\u001b[39;00m \u001b[38;5;129;01mor\u001b[39;00m cond(ei)) \u001b[38;5;28;01melse\u001b[39;00m ei\n\u001b[1;32m   1207\u001b[0m     \u001b[38;5;28;01mfor\u001b[39;00m ei \u001b[38;5;129;01min\u001b[39;00m e\u001b[38;5;241m.\u001b[39margs])\n",
      "File \u001b[0;32m~/.local/lib/python3.8/site-packages/sympy/polys/polytools.py:6449\u001b[0m, in \u001b[0;36mfactor\u001b[0;34m(f, deep, *gens, **args)\u001b[0m\n\u001b[1;32m   6446\u001b[0m     \u001b[38;5;28;01mreturn\u001b[39;00m f\u001b[38;5;241m.\u001b[39mxreplace(partials)\n\u001b[1;32m   6448\u001b[0m \u001b[38;5;28;01mtry\u001b[39;00m:\n\u001b[0;32m-> 6449\u001b[0m     \u001b[38;5;28;01mreturn\u001b[39;00m \u001b[43m_generic_factor\u001b[49m\u001b[43m(\u001b[49m\u001b[43mf\u001b[49m\u001b[43m,\u001b[49m\u001b[43m \u001b[49m\u001b[43mgens\u001b[49m\u001b[43m,\u001b[49m\u001b[43m \u001b[49m\u001b[43margs\u001b[49m\u001b[43m,\u001b[49m\u001b[43m \u001b[49m\u001b[43mmethod\u001b[49m\u001b[38;5;241;43m=\u001b[39;49m\u001b[38;5;124;43m'\u001b[39;49m\u001b[38;5;124;43mfactor\u001b[39;49m\u001b[38;5;124;43m'\u001b[39;49m\u001b[43m)\u001b[49m\n\u001b[1;32m   6450\u001b[0m \u001b[38;5;28;01mexcept\u001b[39;00m PolynomialError \u001b[38;5;28;01mas\u001b[39;00m msg:\n\u001b[1;32m   6451\u001b[0m     \u001b[38;5;28;01mif\u001b[39;00m \u001b[38;5;129;01mnot\u001b[39;00m f\u001b[38;5;241m.\u001b[39mis_commutative:\n",
      "File \u001b[0;32m~/.local/lib/python3.8/site-packages/sympy/polys/polytools.py:6130\u001b[0m, in \u001b[0;36m_generic_factor\u001b[0;34m(expr, gens, args, method)\u001b[0m\n\u001b[1;32m   6128\u001b[0m opt \u001b[38;5;241m=\u001b[39m options\u001b[38;5;241m.\u001b[39mbuild_options(gens, args)\n\u001b[1;32m   6129\u001b[0m opt[\u001b[38;5;124m'\u001b[39m\u001b[38;5;124mfraction\u001b[39m\u001b[38;5;124m'\u001b[39m] \u001b[38;5;241m=\u001b[39m fraction\n\u001b[0;32m-> 6130\u001b[0m \u001b[38;5;28;01mreturn\u001b[39;00m \u001b[43m_symbolic_factor\u001b[49m\u001b[43m(\u001b[49m\u001b[43msympify\u001b[49m\u001b[43m(\u001b[49m\u001b[43mexpr\u001b[49m\u001b[43m)\u001b[49m\u001b[43m,\u001b[49m\u001b[43m \u001b[49m\u001b[43mopt\u001b[49m\u001b[43m,\u001b[49m\u001b[43m \u001b[49m\u001b[43mmethod\u001b[49m\u001b[43m)\u001b[49m\n",
      "File \u001b[0;32m~/.local/lib/python3.8/site-packages/sympy/polys/polytools.py:6070\u001b[0m, in \u001b[0;36m_symbolic_factor\u001b[0;34m(expr, opt, method)\u001b[0m\n\u001b[1;32m   6068\u001b[0m     \u001b[38;5;28;01mif\u001b[39;00m \u001b[38;5;28mhasattr\u001b[39m(expr,\u001b[38;5;124m'\u001b[39m\u001b[38;5;124m_eval_factor\u001b[39m\u001b[38;5;124m'\u001b[39m):\n\u001b[1;32m   6069\u001b[0m         \u001b[38;5;28;01mreturn\u001b[39;00m expr\u001b[38;5;241m.\u001b[39m_eval_factor()\n\u001b[0;32m-> 6070\u001b[0m     coeff, factors \u001b[38;5;241m=\u001b[39m \u001b[43m_symbolic_factor_list\u001b[49m\u001b[43m(\u001b[49m\u001b[43mtogether\u001b[49m\u001b[43m(\u001b[49m\u001b[43mexpr\u001b[49m\u001b[43m,\u001b[49m\u001b[43m \u001b[49m\u001b[43mfraction\u001b[49m\u001b[38;5;241;43m=\u001b[39;49m\u001b[43mopt\u001b[49m\u001b[43m[\u001b[49m\u001b[38;5;124;43m'\u001b[39;49m\u001b[38;5;124;43mfraction\u001b[39;49m\u001b[38;5;124;43m'\u001b[39;49m\u001b[43m]\u001b[49m\u001b[43m)\u001b[49m\u001b[43m,\u001b[49m\u001b[43m \u001b[49m\u001b[43mopt\u001b[49m\u001b[43m,\u001b[49m\u001b[43m \u001b[49m\u001b[43mmethod\u001b[49m\u001b[43m)\u001b[49m\n\u001b[1;32m   6071\u001b[0m     \u001b[38;5;28;01mreturn\u001b[39;00m _keep_coeff(coeff, _factors_product(factors))\n\u001b[1;32m   6072\u001b[0m \u001b[38;5;28;01melif\u001b[39;00m \u001b[38;5;28mhasattr\u001b[39m(expr, \u001b[38;5;124m'\u001b[39m\u001b[38;5;124margs\u001b[39m\u001b[38;5;124m'\u001b[39m):\n",
      "File \u001b[0;32m~/.local/lib/python3.8/site-packages/sympy/polys/polytools.py:6035\u001b[0m, in \u001b[0;36m_symbolic_factor_list\u001b[0;34m(expr, opt, method)\u001b[0m\n\u001b[1;32m   6032\u001b[0m \u001b[38;5;28;01melse\u001b[39;00m:\n\u001b[1;32m   6033\u001b[0m     func \u001b[38;5;241m=\u001b[39m \u001b[38;5;28mgetattr\u001b[39m(poly, method \u001b[38;5;241m+\u001b[39m \u001b[38;5;124m'\u001b[39m\u001b[38;5;124m_list\u001b[39m\u001b[38;5;124m'\u001b[39m)\n\u001b[0;32m-> 6035\u001b[0m     _coeff, _factors \u001b[38;5;241m=\u001b[39m \u001b[43mfunc\u001b[49m\u001b[43m(\u001b[49m\u001b[43m)\u001b[49m\n\u001b[1;32m   6036\u001b[0m     \u001b[38;5;28;01mif\u001b[39;00m _coeff \u001b[38;5;129;01mis\u001b[39;00m \u001b[38;5;129;01mnot\u001b[39;00m S\u001b[38;5;241m.\u001b[39mOne:\n\u001b[1;32m   6037\u001b[0m         \u001b[38;5;28;01mif\u001b[39;00m exp\u001b[38;5;241m.\u001b[39mis_Integer:\n",
      "File \u001b[0;32m~/.local/lib/python3.8/site-packages/sympy/polys/polytools.py:3350\u001b[0m, in \u001b[0;36mPoly.factor_list\u001b[0;34m(f)\u001b[0m\n\u001b[1;32m   3348\u001b[0m \u001b[38;5;28;01mif\u001b[39;00m \u001b[38;5;28mhasattr\u001b[39m(f\u001b[38;5;241m.\u001b[39mrep, \u001b[38;5;124m'\u001b[39m\u001b[38;5;124mfactor_list\u001b[39m\u001b[38;5;124m'\u001b[39m):\n\u001b[1;32m   3349\u001b[0m     \u001b[38;5;28;01mtry\u001b[39;00m:\n\u001b[0;32m-> 3350\u001b[0m         coeff, factors \u001b[38;5;241m=\u001b[39m \u001b[43mf\u001b[49m\u001b[38;5;241;43m.\u001b[39;49m\u001b[43mrep\u001b[49m\u001b[38;5;241;43m.\u001b[39;49m\u001b[43mfactor_list\u001b[49m\u001b[43m(\u001b[49m\u001b[43m)\u001b[49m\n\u001b[1;32m   3351\u001b[0m     \u001b[38;5;28;01mexcept\u001b[39;00m DomainError:\n\u001b[1;32m   3352\u001b[0m         \u001b[38;5;28;01mreturn\u001b[39;00m S\u001b[38;5;241m.\u001b[39mOne, [(f, \u001b[38;5;241m1\u001b[39m)]\n",
      "File \u001b[0;32m~/.local/lib/python3.8/site-packages/sympy/polys/polyclasses.py:823\u001b[0m, in \u001b[0;36mDMP.factor_list\u001b[0;34m(f)\u001b[0m\n\u001b[1;32m    821\u001b[0m \u001b[38;5;28;01mdef\u001b[39;00m \u001b[38;5;21mfactor_list\u001b[39m(f):\n\u001b[1;32m    822\u001b[0m     \u001b[38;5;124;03m\"\"\"Returns a list of irreducible factors of ``f``. \"\"\"\u001b[39;00m\n\u001b[0;32m--> 823\u001b[0m     coeff, factors \u001b[38;5;241m=\u001b[39m \u001b[43mdmp_factor_list\u001b[49m\u001b[43m(\u001b[49m\u001b[43mf\u001b[49m\u001b[38;5;241;43m.\u001b[39;49m\u001b[43mrep\u001b[49m\u001b[43m,\u001b[49m\u001b[43m \u001b[49m\u001b[43mf\u001b[49m\u001b[38;5;241;43m.\u001b[39;49m\u001b[43mlev\u001b[49m\u001b[43m,\u001b[49m\u001b[43m \u001b[49m\u001b[43mf\u001b[49m\u001b[38;5;241;43m.\u001b[39;49m\u001b[43mdom\u001b[49m\u001b[43m)\u001b[49m\n\u001b[1;32m    824\u001b[0m     \u001b[38;5;28;01mreturn\u001b[39;00m coeff, [ (f\u001b[38;5;241m.\u001b[39mper(g), k) \u001b[38;5;28;01mfor\u001b[39;00m g, k \u001b[38;5;129;01min\u001b[39;00m factors ]\n",
      "File \u001b[0;32m~/.local/lib/python3.8/site-packages/sympy/polys/factortools.py:1423\u001b[0m, in \u001b[0;36mdmp_factor_list\u001b[0;34m(f, u, K0)\u001b[0m\n\u001b[1;32m   1421\u001b[0m \u001b[38;5;28;01mif\u001b[39;00m K\u001b[38;5;241m.\u001b[39mis_ZZ:\n\u001b[1;32m   1422\u001b[0m     levels, f, v \u001b[38;5;241m=\u001b[39m dmp_exclude(f, u, K)\n\u001b[0;32m-> 1423\u001b[0m     coeff, factors \u001b[38;5;241m=\u001b[39m \u001b[43mdmp_zz_factor\u001b[49m\u001b[43m(\u001b[49m\u001b[43mf\u001b[49m\u001b[43m,\u001b[49m\u001b[43m \u001b[49m\u001b[43mv\u001b[49m\u001b[43m,\u001b[49m\u001b[43m \u001b[49m\u001b[43mK\u001b[49m\u001b[43m)\u001b[49m\n\u001b[1;32m   1425\u001b[0m     \u001b[38;5;28;01mfor\u001b[39;00m i, (f, k) \u001b[38;5;129;01min\u001b[39;00m \u001b[38;5;28menumerate\u001b[39m(factors):\n\u001b[1;32m   1426\u001b[0m         factors[i] \u001b[38;5;241m=\u001b[39m (dmp_include(f, levels, v, K), k)\n",
      "File \u001b[0;32m~/.local/lib/python3.8/site-packages/sympy/polys/factortools.py:1160\u001b[0m, in \u001b[0;36mdmp_zz_factor\u001b[0;34m(f, u, K)\u001b[0m\n\u001b[1;32m   1158\u001b[0m \u001b[38;5;28;01mif\u001b[39;00m dmp_degree(g, u) \u001b[38;5;241m>\u001b[39m \u001b[38;5;241m0\u001b[39m:\n\u001b[1;32m   1159\u001b[0m     g \u001b[38;5;241m=\u001b[39m dmp_sqf_part(g, u, K)\n\u001b[0;32m-> 1160\u001b[0m     H \u001b[38;5;241m=\u001b[39m \u001b[43mdmp_zz_wang\u001b[49m\u001b[43m(\u001b[49m\u001b[43mg\u001b[49m\u001b[43m,\u001b[49m\u001b[43m \u001b[49m\u001b[43mu\u001b[49m\u001b[43m,\u001b[49m\u001b[43m \u001b[49m\u001b[43mK\u001b[49m\u001b[43m)\u001b[49m\n\u001b[1;32m   1161\u001b[0m     factors \u001b[38;5;241m=\u001b[39m dmp_trial_division(f, H, u, K)\n\u001b[1;32m   1163\u001b[0m \u001b[38;5;28;01mfor\u001b[39;00m g, k \u001b[38;5;129;01min\u001b[39;00m dmp_zz_factor(G, u \u001b[38;5;241m-\u001b[39m \u001b[38;5;241m1\u001b[39m, K)[\u001b[38;5;241m1\u001b[39m]:\n",
      "File \u001b[0;32m~/.local/lib/python3.8/site-packages/sympy/polys/factortools.py:999\u001b[0m, in \u001b[0;36mdmp_zz_wang\u001b[0;34m(f, u, K, mod, seed)\u001b[0m\n\u001b[1;32m    996\u001b[0m ct, T \u001b[38;5;241m=\u001b[39m dmp_zz_factor(dmp_LC(f, K), u \u001b[38;5;241m-\u001b[39m \u001b[38;5;241m1\u001b[39m, K)\n\u001b[1;32m    998\u001b[0m b \u001b[38;5;241m=\u001b[39m dmp_zz_mignotte_bound(f, u, K)\n\u001b[0;32m--> 999\u001b[0m p \u001b[38;5;241m=\u001b[39m K(\u001b[43mnextprime\u001b[49m\u001b[43m(\u001b[49m\u001b[43mb\u001b[49m\u001b[43m)\u001b[49m)\n\u001b[1;32m   1001\u001b[0m \u001b[38;5;28;01mif\u001b[39;00m mod \u001b[38;5;129;01mis\u001b[39;00m \u001b[38;5;28;01mNone\u001b[39;00m:\n\u001b[1;32m   1002\u001b[0m     \u001b[38;5;28;01mif\u001b[39;00m u \u001b[38;5;241m==\u001b[39m \u001b[38;5;241m1\u001b[39m:\n",
      "File \u001b[0;32m~/.local/lib/python3.8/site-packages/sympy/ntheory/generate.py:607\u001b[0m, in \u001b[0;36mnextprime\u001b[0;34m(n, ith)\u001b[0m\n\u001b[1;32m    605\u001b[0m     \u001b[38;5;28;01mreturn\u001b[39;00m n\n\u001b[1;32m    606\u001b[0m n \u001b[38;5;241m+\u001b[39m\u001b[38;5;241m=\u001b[39m \u001b[38;5;241m2\u001b[39m\n\u001b[0;32m--> 607\u001b[0m \u001b[38;5;28;01mif\u001b[39;00m \u001b[43misprime\u001b[49m\u001b[43m(\u001b[49m\u001b[43mn\u001b[49m\u001b[43m)\u001b[49m:\n\u001b[1;32m    608\u001b[0m     \u001b[38;5;28;01mreturn\u001b[39;00m n\n\u001b[1;32m    609\u001b[0m n \u001b[38;5;241m+\u001b[39m\u001b[38;5;241m=\u001b[39m \u001b[38;5;241m4\u001b[39m\n",
      "File \u001b[0;32m~/.local/lib/python3.8/site-packages/sympy/ntheory/primetest.py:667\u001b[0m, in \u001b[0;36misprime\u001b[0;34m(n)\u001b[0m\n\u001b[1;32m    630\u001b[0m     \u001b[38;5;28;01mreturn\u001b[39;00m mr(n, [\u001b[38;5;241m2\u001b[39m, \u001b[38;5;241m3\u001b[39m, \u001b[38;5;241m5\u001b[39m, \u001b[38;5;241m7\u001b[39m, \u001b[38;5;241m11\u001b[39m, \u001b[38;5;241m13\u001b[39m, \u001b[38;5;241m17\u001b[39m, \u001b[38;5;241m19\u001b[39m, \u001b[38;5;241m23\u001b[39m, \u001b[38;5;241m29\u001b[39m, \u001b[38;5;241m31\u001b[39m, \u001b[38;5;241m37\u001b[39m, \u001b[38;5;241m41\u001b[39m])\n\u001b[1;32m    632\u001b[0m \u001b[38;5;66;03m# We could do this instead at any point:\u001b[39;00m\n\u001b[1;32m    633\u001b[0m \u001b[38;5;66;03m#if n < 18446744073709551616:\u001b[39;00m\n\u001b[1;32m    634\u001b[0m \u001b[38;5;66;03m#   return mr(n, [2]) and is_extra_strong_lucas_prp(n)\u001b[39;00m\n\u001b[0;32m   (...)\u001b[0m\n\u001b[1;32m    665\u001b[0m \n\u001b[1;32m    666\u001b[0m \u001b[38;5;66;03m# Classic BPSW from page 1401 of the paper.  See alternate ideas below.\u001b[39;00m\n\u001b[0;32m--> 667\u001b[0m \u001b[38;5;28;01mreturn\u001b[39;00m \u001b[43mmr\u001b[49m\u001b[43m(\u001b[49m\u001b[43mn\u001b[49m\u001b[43m,\u001b[49m\u001b[43m \u001b[49m\u001b[43m[\u001b[49m\u001b[38;5;241;43m2\u001b[39;49m\u001b[43m]\u001b[49m\u001b[43m)\u001b[49m \u001b[38;5;129;01mand\u001b[39;00m is_strong_lucas_prp(n)\n",
      "File \u001b[0;32m~/.local/lib/python3.8/site-packages/sympy/ntheory/primetest.py:185\u001b[0m, in \u001b[0;36mmr\u001b[0;34m(n, bases)\u001b[0m\n\u001b[1;32m    183\u001b[0m     \u001b[38;5;28;01mif\u001b[39;00m base \u001b[38;5;241m>\u001b[39m\u001b[38;5;241m=\u001b[39m \u001b[38;5;241m2\u001b[39m:\n\u001b[1;32m    184\u001b[0m         base \u001b[38;5;241m=\u001b[39m ZZ(base)\n\u001b[0;32m--> 185\u001b[0m         \u001b[38;5;28;01mif\u001b[39;00m \u001b[38;5;129;01mnot\u001b[39;00m \u001b[43m_test\u001b[49m\u001b[43m(\u001b[49m\u001b[43mn\u001b[49m\u001b[43m,\u001b[49m\u001b[43m \u001b[49m\u001b[43mbase\u001b[49m\u001b[43m,\u001b[49m\u001b[43m \u001b[49m\u001b[43ms\u001b[49m\u001b[43m,\u001b[49m\u001b[43m \u001b[49m\u001b[43mt\u001b[49m\u001b[43m)\u001b[49m:\n\u001b[1;32m    186\u001b[0m             \u001b[38;5;28;01mreturn\u001b[39;00m \u001b[38;5;28;01mFalse\u001b[39;00m\n\u001b[1;32m    187\u001b[0m \u001b[38;5;28;01mreturn\u001b[39;00m \u001b[38;5;28;01mTrue\u001b[39;00m\n",
      "File \u001b[0;32m~/.local/lib/python3.8/site-packages/sympy/ntheory/primetest.py:133\u001b[0m, in \u001b[0;36m_test\u001b[0;34m(n, base, s, t)\u001b[0m\n\u001b[1;32m    127\u001b[0m \u001b[38;5;124;03m\"\"\"Miller-Rabin strong pseudoprime test for one base.\u001b[39;00m\n\u001b[1;32m    128\u001b[0m \u001b[38;5;124;03mReturn False if n is definitely composite, True if n is\u001b[39;00m\n\u001b[1;32m    129\u001b[0m \u001b[38;5;124;03mprobably prime, with a probability greater than 3/4.\u001b[39;00m\n\u001b[1;32m    130\u001b[0m \n\u001b[1;32m    131\u001b[0m \u001b[38;5;124;03m\"\"\"\u001b[39;00m\n\u001b[1;32m    132\u001b[0m \u001b[38;5;66;03m# do the Fermat test\u001b[39;00m\n\u001b[0;32m--> 133\u001b[0m b \u001b[38;5;241m=\u001b[39m \u001b[38;5;28;43mpow\u001b[39;49m\u001b[43m(\u001b[49m\u001b[43mbase\u001b[49m\u001b[43m,\u001b[49m\u001b[43m \u001b[49m\u001b[43mt\u001b[49m\u001b[43m,\u001b[49m\u001b[43m \u001b[49m\u001b[43mn\u001b[49m\u001b[43m)\u001b[49m\n\u001b[1;32m    134\u001b[0m \u001b[38;5;28;01mif\u001b[39;00m b \u001b[38;5;241m==\u001b[39m \u001b[38;5;241m1\u001b[39m \u001b[38;5;129;01mor\u001b[39;00m b \u001b[38;5;241m==\u001b[39m n \u001b[38;5;241m-\u001b[39m \u001b[38;5;241m1\u001b[39m:\n\u001b[1;32m    135\u001b[0m     \u001b[38;5;28;01mreturn\u001b[39;00m \u001b[38;5;28;01mTrue\u001b[39;00m\n",
      "\u001b[0;31mKeyboardInterrupt\u001b[0m: "
     ]
    }
   ],
   "source": [
    "sp.simplify(eqn3_expanded)"
   ]
  },
  {
   "cell_type": "code",
   "execution_count": 110,
   "id": "97061263",
   "metadata": {},
   "outputs": [
    {
     "ename": "KeyboardInterrupt",
     "evalue": "",
     "output_type": "error",
     "traceback": [
      "\u001b[0;31m---------------------------------------------------------------------------\u001b[0m",
      "\u001b[0;31mKeyboardInterrupt\u001b[0m                         Traceback (most recent call last)",
      "Cell \u001b[0;32mIn[110], line 1\u001b[0m\n\u001b[0;32m----> 1\u001b[0m \u001b[43msp\u001b[49m\u001b[38;5;241;43m.\u001b[39;49m\u001b[43msimplify\u001b[49m\u001b[43m(\u001b[49m\u001b[43meqn3\u001b[49m\u001b[43m)\u001b[49m\n",
      "File \u001b[0;32m~/.local/lib/python3.8/site-packages/sympy/simplify/simplify.py:699\u001b[0m, in \u001b[0;36msimplify\u001b[0;34m(expr, ratio, measure, rational, inverse, doit, **kwargs)\u001b[0m\n\u001b[1;32m    696\u001b[0m     expr \u001b[38;5;241m=\u001b[39m besselsimp(expr)\n\u001b[1;32m    698\u001b[0m \u001b[38;5;28;01mif\u001b[39;00m expr\u001b[38;5;241m.\u001b[39mhas(TrigonometricFunction, HyperbolicFunction):\n\u001b[0;32m--> 699\u001b[0m     expr \u001b[38;5;241m=\u001b[39m \u001b[43mtrigsimp\u001b[49m\u001b[43m(\u001b[49m\u001b[43mexpr\u001b[49m\u001b[43m,\u001b[49m\u001b[43m \u001b[49m\u001b[43mdeep\u001b[49m\u001b[38;5;241;43m=\u001b[39;49m\u001b[38;5;28;43;01mTrue\u001b[39;49;00m\u001b[43m)\u001b[49m\n\u001b[1;32m    701\u001b[0m \u001b[38;5;28;01mif\u001b[39;00m expr\u001b[38;5;241m.\u001b[39mhas(log):\n\u001b[1;32m    702\u001b[0m     expr \u001b[38;5;241m=\u001b[39m shorter(expand_log(expr, deep\u001b[38;5;241m=\u001b[39m\u001b[38;5;28;01mTrue\u001b[39;00m), logcombine(expr))\n",
      "File \u001b[0;32m~/.local/lib/python3.8/site-packages/sympy/simplify/trigsimp.py:523\u001b[0m, in \u001b[0;36mtrigsimp\u001b[0;34m(expr, **opts)\u001b[0m\n\u001b[1;32m    512\u001b[0m     \u001b[38;5;28;01mreturn\u001b[39;00m trigsimp_groebner(new, \u001b[38;5;241m*\u001b[39m\u001b[38;5;241m*\u001b[39mopts)\n\u001b[1;32m    514\u001b[0m trigsimpfunc \u001b[38;5;241m=\u001b[39m {\n\u001b[1;32m    515\u001b[0m     \u001b[38;5;124m'\u001b[39m\u001b[38;5;124mfu\u001b[39m\u001b[38;5;124m'\u001b[39m: (\u001b[38;5;28;01mlambda\u001b[39;00m x: fu(x, \u001b[38;5;241m*\u001b[39m\u001b[38;5;241m*\u001b[39mopts)),\n\u001b[1;32m    516\u001b[0m     \u001b[38;5;124m'\u001b[39m\u001b[38;5;124mmatching\u001b[39m\u001b[38;5;124m'\u001b[39m: (\u001b[38;5;28;01mlambda\u001b[39;00m x: futrig(x)),\n\u001b[0;32m   (...)\u001b[0m\n\u001b[1;32m    520\u001b[0m     \u001b[38;5;124m'\u001b[39m\u001b[38;5;124mold\u001b[39m\u001b[38;5;124m'\u001b[39m: \u001b[38;5;28;01mlambda\u001b[39;00m x: trigsimp_old(x, \u001b[38;5;241m*\u001b[39m\u001b[38;5;241m*\u001b[39mopts),\n\u001b[1;32m    521\u001b[0m                }[method]\n\u001b[0;32m--> 523\u001b[0m \u001b[38;5;28;01mreturn\u001b[39;00m \u001b[43mtrigsimpfunc\u001b[49m\u001b[43m(\u001b[49m\u001b[43mexpr\u001b[49m\u001b[43m)\u001b[49m\n",
      "File \u001b[0;32m~/.local/lib/python3.8/site-packages/sympy/simplify/trigsimp.py:516\u001b[0m, in \u001b[0;36mtrigsimp.<locals>.<lambda>\u001b[0;34m(x)\u001b[0m\n\u001b[1;32m    511\u001b[0m         \u001b[38;5;28;01mreturn\u001b[39;00m new\n\u001b[1;32m    512\u001b[0m     \u001b[38;5;28;01mreturn\u001b[39;00m trigsimp_groebner(new, \u001b[38;5;241m*\u001b[39m\u001b[38;5;241m*\u001b[39mopts)\n\u001b[1;32m    514\u001b[0m trigsimpfunc \u001b[38;5;241m=\u001b[39m {\n\u001b[1;32m    515\u001b[0m     \u001b[38;5;124m'\u001b[39m\u001b[38;5;124mfu\u001b[39m\u001b[38;5;124m'\u001b[39m: (\u001b[38;5;28;01mlambda\u001b[39;00m x: fu(x, \u001b[38;5;241m*\u001b[39m\u001b[38;5;241m*\u001b[39mopts)),\n\u001b[0;32m--> 516\u001b[0m     \u001b[38;5;124m'\u001b[39m\u001b[38;5;124mmatching\u001b[39m\u001b[38;5;124m'\u001b[39m: (\u001b[38;5;28;01mlambda\u001b[39;00m x: \u001b[43mfutrig\u001b[49m\u001b[43m(\u001b[49m\u001b[43mx\u001b[49m\u001b[43m)\u001b[49m),\n\u001b[1;32m    517\u001b[0m     \u001b[38;5;124m'\u001b[39m\u001b[38;5;124mgroebner\u001b[39m\u001b[38;5;124m'\u001b[39m: (\u001b[38;5;28;01mlambda\u001b[39;00m x: groebnersimp(x, \u001b[38;5;241m*\u001b[39m\u001b[38;5;241m*\u001b[39mopts)),\n\u001b[1;32m    518\u001b[0m     \u001b[38;5;124m'\u001b[39m\u001b[38;5;124mcombined\u001b[39m\u001b[38;5;124m'\u001b[39m: (\u001b[38;5;28;01mlambda\u001b[39;00m x: futrig(groebnersimp(x,\n\u001b[1;32m    519\u001b[0m                            polynomial\u001b[38;5;241m=\u001b[39m\u001b[38;5;28;01mTrue\u001b[39;00m, hints\u001b[38;5;241m=\u001b[39m[\u001b[38;5;241m2\u001b[39m, tan]))),\n\u001b[1;32m    520\u001b[0m     \u001b[38;5;124m'\u001b[39m\u001b[38;5;124mold\u001b[39m\u001b[38;5;124m'\u001b[39m: \u001b[38;5;28;01mlambda\u001b[39;00m x: trigsimp_old(x, \u001b[38;5;241m*\u001b[39m\u001b[38;5;241m*\u001b[39mopts),\n\u001b[1;32m    521\u001b[0m                }[method]\n\u001b[1;32m    523\u001b[0m \u001b[38;5;28;01mreturn\u001b[39;00m trigsimpfunc(expr)\n",
      "File \u001b[0;32m~/.local/lib/python3.8/site-packages/sympy/simplify/trigsimp.py:1113\u001b[0m, in \u001b[0;36mfutrig\u001b[0;34m(e, hyper, **kwargs)\u001b[0m\n\u001b[1;32m   1110\u001b[0m     \u001b[38;5;28;01mreturn\u001b[39;00m e\n\u001b[1;32m   1112\u001b[0m old \u001b[38;5;241m=\u001b[39m e\n\u001b[0;32m-> 1113\u001b[0m e \u001b[38;5;241m=\u001b[39m \u001b[43mbottom_up\u001b[49m\u001b[43m(\u001b[49m\u001b[43me\u001b[49m\u001b[43m,\u001b[49m\u001b[43m \u001b[49m\u001b[43m_futrig\u001b[49m\u001b[43m)\u001b[49m\n\u001b[1;32m   1115\u001b[0m \u001b[38;5;28;01mif\u001b[39;00m hyper \u001b[38;5;129;01mand\u001b[39;00m e\u001b[38;5;241m.\u001b[39mhas(HyperbolicFunction):\n\u001b[1;32m   1116\u001b[0m     e, f \u001b[38;5;241m=\u001b[39m hyper_as_trig(e)\n",
      "File \u001b[0;32m~/.local/lib/python3.8/site-packages/sympy/core/traversal.py:237\u001b[0m, in \u001b[0;36mbottom_up\u001b[0;34m(rv, F, atoms, nonbasic)\u001b[0m\n\u001b[1;32m    235\u001b[0m \u001b[38;5;28;01mif\u001b[39;00m args \u001b[38;5;129;01mis\u001b[39;00m \u001b[38;5;129;01mnot\u001b[39;00m \u001b[38;5;28;01mNone\u001b[39;00m:\n\u001b[1;32m    236\u001b[0m     \u001b[38;5;28;01mif\u001b[39;00m args:\n\u001b[0;32m--> 237\u001b[0m         args \u001b[38;5;241m=\u001b[39m \u001b[38;5;28mtuple\u001b[39m([bottom_up(a, F, atoms, nonbasic) \u001b[38;5;28;01mfor\u001b[39;00m a \u001b[38;5;129;01min\u001b[39;00m args])\n\u001b[1;32m    238\u001b[0m         \u001b[38;5;28;01mif\u001b[39;00m args \u001b[38;5;241m!=\u001b[39m rv\u001b[38;5;241m.\u001b[39margs:\n\u001b[1;32m    239\u001b[0m             rv \u001b[38;5;241m=\u001b[39m rv\u001b[38;5;241m.\u001b[39mfunc(\u001b[38;5;241m*\u001b[39margs)\n",
      "File \u001b[0;32m~/.local/lib/python3.8/site-packages/sympy/core/traversal.py:237\u001b[0m, in \u001b[0;36m<listcomp>\u001b[0;34m(.0)\u001b[0m\n\u001b[1;32m    235\u001b[0m \u001b[38;5;28;01mif\u001b[39;00m args \u001b[38;5;129;01mis\u001b[39;00m \u001b[38;5;129;01mnot\u001b[39;00m \u001b[38;5;28;01mNone\u001b[39;00m:\n\u001b[1;32m    236\u001b[0m     \u001b[38;5;28;01mif\u001b[39;00m args:\n\u001b[0;32m--> 237\u001b[0m         args \u001b[38;5;241m=\u001b[39m \u001b[38;5;28mtuple\u001b[39m([\u001b[43mbottom_up\u001b[49m\u001b[43m(\u001b[49m\u001b[43ma\u001b[49m\u001b[43m,\u001b[49m\u001b[43m \u001b[49m\u001b[43mF\u001b[49m\u001b[43m,\u001b[49m\u001b[43m \u001b[49m\u001b[43matoms\u001b[49m\u001b[43m,\u001b[49m\u001b[43m \u001b[49m\u001b[43mnonbasic\u001b[49m\u001b[43m)\u001b[49m \u001b[38;5;28;01mfor\u001b[39;00m a \u001b[38;5;129;01min\u001b[39;00m args])\n\u001b[1;32m    238\u001b[0m         \u001b[38;5;28;01mif\u001b[39;00m args \u001b[38;5;241m!=\u001b[39m rv\u001b[38;5;241m.\u001b[39margs:\n\u001b[1;32m    239\u001b[0m             rv \u001b[38;5;241m=\u001b[39m rv\u001b[38;5;241m.\u001b[39mfunc(\u001b[38;5;241m*\u001b[39margs)\n",
      "File \u001b[0;32m~/.local/lib/python3.8/site-packages/sympy/core/traversal.py:240\u001b[0m, in \u001b[0;36mbottom_up\u001b[0;34m(rv, F, atoms, nonbasic)\u001b[0m\n\u001b[1;32m    238\u001b[0m     \u001b[38;5;28;01mif\u001b[39;00m args \u001b[38;5;241m!=\u001b[39m rv\u001b[38;5;241m.\u001b[39margs:\n\u001b[1;32m    239\u001b[0m         rv \u001b[38;5;241m=\u001b[39m rv\u001b[38;5;241m.\u001b[39mfunc(\u001b[38;5;241m*\u001b[39margs)\n\u001b[0;32m--> 240\u001b[0m     rv \u001b[38;5;241m=\u001b[39m \u001b[43mF\u001b[49m\u001b[43m(\u001b[49m\u001b[43mrv\u001b[49m\u001b[43m)\u001b[49m\n\u001b[1;32m    241\u001b[0m \u001b[38;5;28;01melif\u001b[39;00m atoms:\n\u001b[1;32m    242\u001b[0m     rv \u001b[38;5;241m=\u001b[39m F(rv)\n",
      "File \u001b[0;32m~/.local/lib/python3.8/site-packages/sympy/simplify/trigsimp.py:1180\u001b[0m, in \u001b[0;36m_futrig\u001b[0;34m(e)\u001b[0m\n\u001b[1;32m   1141\u001b[0m trigs \u001b[38;5;241m=\u001b[39m \u001b[38;5;28;01mlambda\u001b[39;00m x: x\u001b[38;5;241m.\u001b[39mhas(TrigonometricFunction)\n\u001b[1;32m   1143\u001b[0m tree \u001b[38;5;241m=\u001b[39m [identity,\n\u001b[1;32m   1144\u001b[0m     (\n\u001b[1;32m   1145\u001b[0m     TR3,  \u001b[38;5;66;03m# canonical angles\u001b[39;00m\n\u001b[0;32m   (...)\u001b[0m\n\u001b[1;32m   1178\u001b[0m         factor_terms, TR12(x), trigs)],  \u001b[38;5;66;03m# expand tan of sum\u001b[39;00m\n\u001b[1;32m   1179\u001b[0m     )]\n\u001b[0;32m-> 1180\u001b[0m e \u001b[38;5;241m=\u001b[39m \u001b[43mgreedy\u001b[49m\u001b[43m(\u001b[49m\u001b[43mtree\u001b[49m\u001b[43m,\u001b[49m\u001b[43m \u001b[49m\u001b[43mobjective\u001b[49m\u001b[38;5;241;43m=\u001b[39;49m\u001b[43mLops\u001b[49m\u001b[43m)\u001b[49m\u001b[43m(\u001b[49m\u001b[43me\u001b[49m\u001b[43m)\u001b[49m\n\u001b[1;32m   1182\u001b[0m \u001b[38;5;28;01mif\u001b[39;00m coeff \u001b[38;5;129;01mis\u001b[39;00m \u001b[38;5;129;01mnot\u001b[39;00m \u001b[38;5;28;01mNone\u001b[39;00m:\n\u001b[1;32m   1183\u001b[0m     e \u001b[38;5;241m=\u001b[39m coeff \u001b[38;5;241m*\u001b[39m e\n",
      "File \u001b[0;32m~/.local/lib/python3.8/site-packages/sympy/strategies/core.py:111\u001b[0m, in \u001b[0;36mminimize.<locals>.minrule\u001b[0;34m(expr)\u001b[0m\n\u001b[1;32m    110\u001b[0m \u001b[38;5;28;01mdef\u001b[39;00m \u001b[38;5;21mminrule\u001b[39m(expr):\n\u001b[0;32m--> 111\u001b[0m     \u001b[38;5;28;01mreturn\u001b[39;00m \u001b[38;5;28mmin\u001b[39m([rule(expr) \u001b[38;5;28;01mfor\u001b[39;00m rule \u001b[38;5;129;01min\u001b[39;00m rules], key\u001b[38;5;241m=\u001b[39mobjective)\n",
      "File \u001b[0;32m~/.local/lib/python3.8/site-packages/sympy/strategies/core.py:111\u001b[0m, in \u001b[0;36m<listcomp>\u001b[0;34m(.0)\u001b[0m\n\u001b[1;32m    110\u001b[0m \u001b[38;5;28;01mdef\u001b[39;00m \u001b[38;5;21mminrule\u001b[39m(expr):\n\u001b[0;32m--> 111\u001b[0m     \u001b[38;5;28;01mreturn\u001b[39;00m \u001b[38;5;28mmin\u001b[39m([\u001b[43mrule\u001b[49m\u001b[43m(\u001b[49m\u001b[43mexpr\u001b[49m\u001b[43m)\u001b[49m \u001b[38;5;28;01mfor\u001b[39;00m rule \u001b[38;5;129;01min\u001b[39;00m rules], key\u001b[38;5;241m=\u001b[39mobjective)\n",
      "File \u001b[0;32m~/.local/lib/python3.8/site-packages/sympy/strategies/core.py:41\u001b[0m, in \u001b[0;36mchain.<locals>.chain_rl\u001b[0;34m(expr)\u001b[0m\n\u001b[1;32m     39\u001b[0m \u001b[38;5;28;01mdef\u001b[39;00m \u001b[38;5;21mchain_rl\u001b[39m(expr):\n\u001b[1;32m     40\u001b[0m     \u001b[38;5;28;01mfor\u001b[39;00m rule \u001b[38;5;129;01min\u001b[39;00m rules:\n\u001b[0;32m---> 41\u001b[0m         expr \u001b[38;5;241m=\u001b[39m \u001b[43mrule\u001b[49m\u001b[43m(\u001b[49m\u001b[43mexpr\u001b[49m\u001b[43m)\u001b[49m\n\u001b[1;32m     42\u001b[0m     \u001b[38;5;28;01mreturn\u001b[39;00m expr\n",
      "File \u001b[0;32m~/.local/lib/python3.8/site-packages/sympy/simplify/trigsimp.py:1152\u001b[0m, in \u001b[0;36m_futrig.<locals>.<lambda>\u001b[0;34m(x)\u001b[0m\n\u001b[1;32m   1140\u001b[0m Lops \u001b[38;5;241m=\u001b[39m \u001b[38;5;28;01mlambda\u001b[39;00m x: (L(x), x\u001b[38;5;241m.\u001b[39mcount_ops(), _nodes(x), \u001b[38;5;28mlen\u001b[39m(x\u001b[38;5;241m.\u001b[39margs), x\u001b[38;5;241m.\u001b[39mis_Add)\n\u001b[1;32m   1141\u001b[0m trigs \u001b[38;5;241m=\u001b[39m \u001b[38;5;28;01mlambda\u001b[39;00m x: x\u001b[38;5;241m.\u001b[39mhas(TrigonometricFunction)\n\u001b[1;32m   1143\u001b[0m tree \u001b[38;5;241m=\u001b[39m [identity,\n\u001b[1;32m   1144\u001b[0m     (\n\u001b[1;32m   1145\u001b[0m     TR3,  \u001b[38;5;66;03m# canonical angles\u001b[39;00m\n\u001b[1;32m   1146\u001b[0m     TR1,  \u001b[38;5;66;03m# sec-csc -> cos-sin\u001b[39;00m\n\u001b[1;32m   1147\u001b[0m     TR12,  \u001b[38;5;66;03m# expand tan of sum\u001b[39;00m\n\u001b[1;32m   1148\u001b[0m     \u001b[38;5;28;01mlambda\u001b[39;00m x: _eapply(factor, x, trigs),\n\u001b[1;32m   1149\u001b[0m     TR2,  \u001b[38;5;66;03m# tan-cot -> sin-cos\u001b[39;00m\n\u001b[1;32m   1150\u001b[0m     [identity, \u001b[38;5;28;01mlambda\u001b[39;00m x: _eapply(_mexpand, x, trigs)],\n\u001b[1;32m   1151\u001b[0m     TR2i,  \u001b[38;5;66;03m# sin-cos ratio -> tan\u001b[39;00m\n\u001b[0;32m-> 1152\u001b[0m     \u001b[38;5;28;01mlambda\u001b[39;00m x: \u001b[43m_eapply\u001b[49m\u001b[43m(\u001b[49m\u001b[38;5;28;43;01mlambda\u001b[39;49;00m\u001b[43m \u001b[49m\u001b[43mi\u001b[49m\u001b[43m:\u001b[49m\u001b[43m \u001b[49m\u001b[43mfactor\u001b[49m\u001b[43m(\u001b[49m\u001b[43mi\u001b[49m\u001b[38;5;241;43m.\u001b[39;49m\u001b[43mnormal\u001b[49m\u001b[43m(\u001b[49m\u001b[43m)\u001b[49m\u001b[43m)\u001b[49m\u001b[43m,\u001b[49m\u001b[43m \u001b[49m\u001b[43mx\u001b[49m\u001b[43m,\u001b[49m\u001b[43m \u001b[49m\u001b[43mtrigs\u001b[49m\u001b[43m)\u001b[49m,\n\u001b[1;32m   1153\u001b[0m     TR14,  \u001b[38;5;66;03m# factored identities\u001b[39;00m\n\u001b[1;32m   1154\u001b[0m     TR5,  \u001b[38;5;66;03m# sin-pow -> cos_pow\u001b[39;00m\n\u001b[1;32m   1155\u001b[0m     TR10,  \u001b[38;5;66;03m# sin-cos of sums -> sin-cos prod\u001b[39;00m\n\u001b[1;32m   1156\u001b[0m     TR11, _TR11, TR6, \u001b[38;5;66;03m# reduce double angles and rewrite cos pows\u001b[39;00m\n\u001b[1;32m   1157\u001b[0m     \u001b[38;5;28;01mlambda\u001b[39;00m x: _eapply(factor, x, trigs),\n\u001b[1;32m   1158\u001b[0m     TR14,  \u001b[38;5;66;03m# factored powers of identities\u001b[39;00m\n\u001b[1;32m   1159\u001b[0m     [identity, \u001b[38;5;28;01mlambda\u001b[39;00m x: _eapply(_mexpand, x, trigs)],\n\u001b[1;32m   1160\u001b[0m     TR10i,  \u001b[38;5;66;03m# sin-cos products > sin-cos of sums\u001b[39;00m\n\u001b[1;32m   1161\u001b[0m     TRmorrie,\n\u001b[1;32m   1162\u001b[0m     [identity, TR8],  \u001b[38;5;66;03m# sin-cos products -> sin-cos of sums\u001b[39;00m\n\u001b[1;32m   1163\u001b[0m     [identity, \u001b[38;5;28;01mlambda\u001b[39;00m x: TR2i(TR2(x))],  \u001b[38;5;66;03m# tan -> sin-cos -> tan\u001b[39;00m\n\u001b[1;32m   1164\u001b[0m     [\n\u001b[1;32m   1165\u001b[0m         \u001b[38;5;28;01mlambda\u001b[39;00m x: _eapply(expand_mul, TR5(x), trigs),\n\u001b[1;32m   1166\u001b[0m         \u001b[38;5;28;01mlambda\u001b[39;00m x: _eapply(\n\u001b[1;32m   1167\u001b[0m             expand_mul, TR15(x), trigs)], \u001b[38;5;66;03m# pos/neg powers of sin\u001b[39;00m\n\u001b[1;32m   1168\u001b[0m     [\n\u001b[1;32m   1169\u001b[0m         \u001b[38;5;28;01mlambda\u001b[39;00m x:  _eapply(expand_mul, TR6(x), trigs),\n\u001b[1;32m   1170\u001b[0m         \u001b[38;5;28;01mlambda\u001b[39;00m x:  _eapply(\n\u001b[1;32m   1171\u001b[0m             expand_mul, TR16(x), trigs)], \u001b[38;5;66;03m# pos/neg powers of cos\u001b[39;00m\n\u001b[1;32m   1172\u001b[0m     TR111,  \u001b[38;5;66;03m# tan, sin, cos to neg power -> cot, csc, sec\u001b[39;00m\n\u001b[1;32m   1173\u001b[0m     [identity, TR2i],  \u001b[38;5;66;03m# sin-cos ratio to tan\u001b[39;00m\n\u001b[1;32m   1174\u001b[0m     [identity, \u001b[38;5;28;01mlambda\u001b[39;00m x: _eapply(\n\u001b[1;32m   1175\u001b[0m         expand_mul, TR22(x), trigs)],  \u001b[38;5;66;03m# tan-cot to sec-csc\u001b[39;00m\n\u001b[1;32m   1176\u001b[0m     TR1, TR2, TR2i,\n\u001b[1;32m   1177\u001b[0m     [identity, \u001b[38;5;28;01mlambda\u001b[39;00m x: _eapply(\n\u001b[1;32m   1178\u001b[0m         factor_terms, TR12(x), trigs)],  \u001b[38;5;66;03m# expand tan of sum\u001b[39;00m\n\u001b[1;32m   1179\u001b[0m     )]\n\u001b[1;32m   1180\u001b[0m e \u001b[38;5;241m=\u001b[39m greedy(tree, objective\u001b[38;5;241m=\u001b[39mLops)(e)\n\u001b[1;32m   1182\u001b[0m \u001b[38;5;28;01mif\u001b[39;00m coeff \u001b[38;5;129;01mis\u001b[39;00m \u001b[38;5;129;01mnot\u001b[39;00m \u001b[38;5;28;01mNone\u001b[39;00m:\n",
      "File \u001b[0;32m~/.local/lib/python3.8/site-packages/sympy/simplify/trigsimp.py:1204\u001b[0m, in \u001b[0;36m_eapply\u001b[0;34m(func, e, cond)\u001b[0m\n\u001b[1;32m   1202\u001b[0m     \u001b[38;5;28;01mreturn\u001b[39;00m e\n\u001b[1;32m   1203\u001b[0m \u001b[38;5;28;01mif\u001b[39;00m _is_Expr(e) \u001b[38;5;129;01mor\u001b[39;00m \u001b[38;5;129;01mnot\u001b[39;00m e\u001b[38;5;241m.\u001b[39margs:\n\u001b[0;32m-> 1204\u001b[0m     \u001b[38;5;28;01mreturn\u001b[39;00m \u001b[43mfunc\u001b[49m\u001b[43m(\u001b[49m\u001b[43me\u001b[49m\u001b[43m)\u001b[49m\n\u001b[1;32m   1205\u001b[0m \u001b[38;5;28;01mreturn\u001b[39;00m e\u001b[38;5;241m.\u001b[39mfunc(\u001b[38;5;241m*\u001b[39m[\n\u001b[1;32m   1206\u001b[0m     _eapply(func, ei) \u001b[38;5;28;01mif\u001b[39;00m (cond \u001b[38;5;129;01mis\u001b[39;00m \u001b[38;5;28;01mNone\u001b[39;00m \u001b[38;5;129;01mor\u001b[39;00m cond(ei)) \u001b[38;5;28;01melse\u001b[39;00m ei\n\u001b[1;32m   1207\u001b[0m     \u001b[38;5;28;01mfor\u001b[39;00m ei \u001b[38;5;129;01min\u001b[39;00m e\u001b[38;5;241m.\u001b[39margs])\n",
      "File \u001b[0;32m~/.local/lib/python3.8/site-packages/sympy/simplify/trigsimp.py:1152\u001b[0m, in \u001b[0;36m_futrig.<locals>.<lambda>\u001b[0;34m(i)\u001b[0m\n\u001b[1;32m   1140\u001b[0m Lops \u001b[38;5;241m=\u001b[39m \u001b[38;5;28;01mlambda\u001b[39;00m x: (L(x), x\u001b[38;5;241m.\u001b[39mcount_ops(), _nodes(x), \u001b[38;5;28mlen\u001b[39m(x\u001b[38;5;241m.\u001b[39margs), x\u001b[38;5;241m.\u001b[39mis_Add)\n\u001b[1;32m   1141\u001b[0m trigs \u001b[38;5;241m=\u001b[39m \u001b[38;5;28;01mlambda\u001b[39;00m x: x\u001b[38;5;241m.\u001b[39mhas(TrigonometricFunction)\n\u001b[1;32m   1143\u001b[0m tree \u001b[38;5;241m=\u001b[39m [identity,\n\u001b[1;32m   1144\u001b[0m     (\n\u001b[1;32m   1145\u001b[0m     TR3,  \u001b[38;5;66;03m# canonical angles\u001b[39;00m\n\u001b[1;32m   1146\u001b[0m     TR1,  \u001b[38;5;66;03m# sec-csc -> cos-sin\u001b[39;00m\n\u001b[1;32m   1147\u001b[0m     TR12,  \u001b[38;5;66;03m# expand tan of sum\u001b[39;00m\n\u001b[1;32m   1148\u001b[0m     \u001b[38;5;28;01mlambda\u001b[39;00m x: _eapply(factor, x, trigs),\n\u001b[1;32m   1149\u001b[0m     TR2,  \u001b[38;5;66;03m# tan-cot -> sin-cos\u001b[39;00m\n\u001b[1;32m   1150\u001b[0m     [identity, \u001b[38;5;28;01mlambda\u001b[39;00m x: _eapply(_mexpand, x, trigs)],\n\u001b[1;32m   1151\u001b[0m     TR2i,  \u001b[38;5;66;03m# sin-cos ratio -> tan\u001b[39;00m\n\u001b[0;32m-> 1152\u001b[0m     \u001b[38;5;28;01mlambda\u001b[39;00m x: _eapply(\u001b[38;5;28;01mlambda\u001b[39;00m i: \u001b[43mfactor\u001b[49m\u001b[43m(\u001b[49m\u001b[43mi\u001b[49m\u001b[38;5;241;43m.\u001b[39;49m\u001b[43mnormal\u001b[49m\u001b[43m(\u001b[49m\u001b[43m)\u001b[49m\u001b[43m)\u001b[49m, x, trigs),\n\u001b[1;32m   1153\u001b[0m     TR14,  \u001b[38;5;66;03m# factored identities\u001b[39;00m\n\u001b[1;32m   1154\u001b[0m     TR5,  \u001b[38;5;66;03m# sin-pow -> cos_pow\u001b[39;00m\n\u001b[1;32m   1155\u001b[0m     TR10,  \u001b[38;5;66;03m# sin-cos of sums -> sin-cos prod\u001b[39;00m\n\u001b[1;32m   1156\u001b[0m     TR11, _TR11, TR6, \u001b[38;5;66;03m# reduce double angles and rewrite cos pows\u001b[39;00m\n\u001b[1;32m   1157\u001b[0m     \u001b[38;5;28;01mlambda\u001b[39;00m x: _eapply(factor, x, trigs),\n\u001b[1;32m   1158\u001b[0m     TR14,  \u001b[38;5;66;03m# factored powers of identities\u001b[39;00m\n\u001b[1;32m   1159\u001b[0m     [identity, \u001b[38;5;28;01mlambda\u001b[39;00m x: _eapply(_mexpand, x, trigs)],\n\u001b[1;32m   1160\u001b[0m     TR10i,  \u001b[38;5;66;03m# sin-cos products > sin-cos of sums\u001b[39;00m\n\u001b[1;32m   1161\u001b[0m     TRmorrie,\n\u001b[1;32m   1162\u001b[0m     [identity, TR8],  \u001b[38;5;66;03m# sin-cos products -> sin-cos of sums\u001b[39;00m\n\u001b[1;32m   1163\u001b[0m     [identity, \u001b[38;5;28;01mlambda\u001b[39;00m x: TR2i(TR2(x))],  \u001b[38;5;66;03m# tan -> sin-cos -> tan\u001b[39;00m\n\u001b[1;32m   1164\u001b[0m     [\n\u001b[1;32m   1165\u001b[0m         \u001b[38;5;28;01mlambda\u001b[39;00m x: _eapply(expand_mul, TR5(x), trigs),\n\u001b[1;32m   1166\u001b[0m         \u001b[38;5;28;01mlambda\u001b[39;00m x: _eapply(\n\u001b[1;32m   1167\u001b[0m             expand_mul, TR15(x), trigs)], \u001b[38;5;66;03m# pos/neg powers of sin\u001b[39;00m\n\u001b[1;32m   1168\u001b[0m     [\n\u001b[1;32m   1169\u001b[0m         \u001b[38;5;28;01mlambda\u001b[39;00m x:  _eapply(expand_mul, TR6(x), trigs),\n\u001b[1;32m   1170\u001b[0m         \u001b[38;5;28;01mlambda\u001b[39;00m x:  _eapply(\n\u001b[1;32m   1171\u001b[0m             expand_mul, TR16(x), trigs)], \u001b[38;5;66;03m# pos/neg powers of cos\u001b[39;00m\n\u001b[1;32m   1172\u001b[0m     TR111,  \u001b[38;5;66;03m# tan, sin, cos to neg power -> cot, csc, sec\u001b[39;00m\n\u001b[1;32m   1173\u001b[0m     [identity, TR2i],  \u001b[38;5;66;03m# sin-cos ratio to tan\u001b[39;00m\n\u001b[1;32m   1174\u001b[0m     [identity, \u001b[38;5;28;01mlambda\u001b[39;00m x: _eapply(\n\u001b[1;32m   1175\u001b[0m         expand_mul, TR22(x), trigs)],  \u001b[38;5;66;03m# tan-cot to sec-csc\u001b[39;00m\n\u001b[1;32m   1176\u001b[0m     TR1, TR2, TR2i,\n\u001b[1;32m   1177\u001b[0m     [identity, \u001b[38;5;28;01mlambda\u001b[39;00m x: _eapply(\n\u001b[1;32m   1178\u001b[0m         factor_terms, TR12(x), trigs)],  \u001b[38;5;66;03m# expand tan of sum\u001b[39;00m\n\u001b[1;32m   1179\u001b[0m     )]\n\u001b[1;32m   1180\u001b[0m e \u001b[38;5;241m=\u001b[39m greedy(tree, objective\u001b[38;5;241m=\u001b[39mLops)(e)\n\u001b[1;32m   1182\u001b[0m \u001b[38;5;28;01mif\u001b[39;00m coeff \u001b[38;5;129;01mis\u001b[39;00m \u001b[38;5;129;01mnot\u001b[39;00m \u001b[38;5;28;01mNone\u001b[39;00m:\n",
      "File \u001b[0;32m~/.local/lib/python3.8/site-packages/sympy/polys/polytools.py:6449\u001b[0m, in \u001b[0;36mfactor\u001b[0;34m(f, deep, *gens, **args)\u001b[0m\n\u001b[1;32m   6446\u001b[0m     \u001b[38;5;28;01mreturn\u001b[39;00m f\u001b[38;5;241m.\u001b[39mxreplace(partials)\n\u001b[1;32m   6448\u001b[0m \u001b[38;5;28;01mtry\u001b[39;00m:\n\u001b[0;32m-> 6449\u001b[0m     \u001b[38;5;28;01mreturn\u001b[39;00m \u001b[43m_generic_factor\u001b[49m\u001b[43m(\u001b[49m\u001b[43mf\u001b[49m\u001b[43m,\u001b[49m\u001b[43m \u001b[49m\u001b[43mgens\u001b[49m\u001b[43m,\u001b[49m\u001b[43m \u001b[49m\u001b[43margs\u001b[49m\u001b[43m,\u001b[49m\u001b[43m \u001b[49m\u001b[43mmethod\u001b[49m\u001b[38;5;241;43m=\u001b[39;49m\u001b[38;5;124;43m'\u001b[39;49m\u001b[38;5;124;43mfactor\u001b[39;49m\u001b[38;5;124;43m'\u001b[39;49m\u001b[43m)\u001b[49m\n\u001b[1;32m   6450\u001b[0m \u001b[38;5;28;01mexcept\u001b[39;00m PolynomialError \u001b[38;5;28;01mas\u001b[39;00m msg:\n\u001b[1;32m   6451\u001b[0m     \u001b[38;5;28;01mif\u001b[39;00m \u001b[38;5;129;01mnot\u001b[39;00m f\u001b[38;5;241m.\u001b[39mis_commutative:\n",
      "File \u001b[0;32m~/.local/lib/python3.8/site-packages/sympy/polys/polytools.py:6130\u001b[0m, in \u001b[0;36m_generic_factor\u001b[0;34m(expr, gens, args, method)\u001b[0m\n\u001b[1;32m   6128\u001b[0m opt \u001b[38;5;241m=\u001b[39m options\u001b[38;5;241m.\u001b[39mbuild_options(gens, args)\n\u001b[1;32m   6129\u001b[0m opt[\u001b[38;5;124m'\u001b[39m\u001b[38;5;124mfraction\u001b[39m\u001b[38;5;124m'\u001b[39m] \u001b[38;5;241m=\u001b[39m fraction\n\u001b[0;32m-> 6130\u001b[0m \u001b[38;5;28;01mreturn\u001b[39;00m \u001b[43m_symbolic_factor\u001b[49m\u001b[43m(\u001b[49m\u001b[43msympify\u001b[49m\u001b[43m(\u001b[49m\u001b[43mexpr\u001b[49m\u001b[43m)\u001b[49m\u001b[43m,\u001b[49m\u001b[43m \u001b[49m\u001b[43mopt\u001b[49m\u001b[43m,\u001b[49m\u001b[43m \u001b[49m\u001b[43mmethod\u001b[49m\u001b[43m)\u001b[49m\n",
      "File \u001b[0;32m~/.local/lib/python3.8/site-packages/sympy/polys/polytools.py:6070\u001b[0m, in \u001b[0;36m_symbolic_factor\u001b[0;34m(expr, opt, method)\u001b[0m\n\u001b[1;32m   6068\u001b[0m     \u001b[38;5;28;01mif\u001b[39;00m \u001b[38;5;28mhasattr\u001b[39m(expr,\u001b[38;5;124m'\u001b[39m\u001b[38;5;124m_eval_factor\u001b[39m\u001b[38;5;124m'\u001b[39m):\n\u001b[1;32m   6069\u001b[0m         \u001b[38;5;28;01mreturn\u001b[39;00m expr\u001b[38;5;241m.\u001b[39m_eval_factor()\n\u001b[0;32m-> 6070\u001b[0m     coeff, factors \u001b[38;5;241m=\u001b[39m \u001b[43m_symbolic_factor_list\u001b[49m\u001b[43m(\u001b[49m\u001b[43mtogether\u001b[49m\u001b[43m(\u001b[49m\u001b[43mexpr\u001b[49m\u001b[43m,\u001b[49m\u001b[43m \u001b[49m\u001b[43mfraction\u001b[49m\u001b[38;5;241;43m=\u001b[39;49m\u001b[43mopt\u001b[49m\u001b[43m[\u001b[49m\u001b[38;5;124;43m'\u001b[39;49m\u001b[38;5;124;43mfraction\u001b[39;49m\u001b[38;5;124;43m'\u001b[39;49m\u001b[43m]\u001b[49m\u001b[43m)\u001b[49m\u001b[43m,\u001b[49m\u001b[43m \u001b[49m\u001b[43mopt\u001b[49m\u001b[43m,\u001b[49m\u001b[43m \u001b[49m\u001b[43mmethod\u001b[49m\u001b[43m)\u001b[49m\n\u001b[1;32m   6071\u001b[0m     \u001b[38;5;28;01mreturn\u001b[39;00m _keep_coeff(coeff, _factors_product(factors))\n\u001b[1;32m   6072\u001b[0m \u001b[38;5;28;01melif\u001b[39;00m \u001b[38;5;28mhasattr\u001b[39m(expr, \u001b[38;5;124m'\u001b[39m\u001b[38;5;124margs\u001b[39m\u001b[38;5;124m'\u001b[39m):\n",
      "File \u001b[0;32m~/.local/lib/python3.8/site-packages/sympy/polys/polytools.py:6035\u001b[0m, in \u001b[0;36m_symbolic_factor_list\u001b[0;34m(expr, opt, method)\u001b[0m\n\u001b[1;32m   6032\u001b[0m \u001b[38;5;28;01melse\u001b[39;00m:\n\u001b[1;32m   6033\u001b[0m     func \u001b[38;5;241m=\u001b[39m \u001b[38;5;28mgetattr\u001b[39m(poly, method \u001b[38;5;241m+\u001b[39m \u001b[38;5;124m'\u001b[39m\u001b[38;5;124m_list\u001b[39m\u001b[38;5;124m'\u001b[39m)\n\u001b[0;32m-> 6035\u001b[0m     _coeff, _factors \u001b[38;5;241m=\u001b[39m \u001b[43mfunc\u001b[49m\u001b[43m(\u001b[49m\u001b[43m)\u001b[49m\n\u001b[1;32m   6036\u001b[0m     \u001b[38;5;28;01mif\u001b[39;00m _coeff \u001b[38;5;129;01mis\u001b[39;00m \u001b[38;5;129;01mnot\u001b[39;00m S\u001b[38;5;241m.\u001b[39mOne:\n\u001b[1;32m   6037\u001b[0m         \u001b[38;5;28;01mif\u001b[39;00m exp\u001b[38;5;241m.\u001b[39mis_Integer:\n",
      "File \u001b[0;32m~/.local/lib/python3.8/site-packages/sympy/polys/polytools.py:3350\u001b[0m, in \u001b[0;36mPoly.factor_list\u001b[0;34m(f)\u001b[0m\n\u001b[1;32m   3348\u001b[0m \u001b[38;5;28;01mif\u001b[39;00m \u001b[38;5;28mhasattr\u001b[39m(f\u001b[38;5;241m.\u001b[39mrep, \u001b[38;5;124m'\u001b[39m\u001b[38;5;124mfactor_list\u001b[39m\u001b[38;5;124m'\u001b[39m):\n\u001b[1;32m   3349\u001b[0m     \u001b[38;5;28;01mtry\u001b[39;00m:\n\u001b[0;32m-> 3350\u001b[0m         coeff, factors \u001b[38;5;241m=\u001b[39m \u001b[43mf\u001b[49m\u001b[38;5;241;43m.\u001b[39;49m\u001b[43mrep\u001b[49m\u001b[38;5;241;43m.\u001b[39;49m\u001b[43mfactor_list\u001b[49m\u001b[43m(\u001b[49m\u001b[43m)\u001b[49m\n\u001b[1;32m   3351\u001b[0m     \u001b[38;5;28;01mexcept\u001b[39;00m DomainError:\n\u001b[1;32m   3352\u001b[0m         \u001b[38;5;28;01mreturn\u001b[39;00m S\u001b[38;5;241m.\u001b[39mOne, [(f, \u001b[38;5;241m1\u001b[39m)]\n",
      "File \u001b[0;32m~/.local/lib/python3.8/site-packages/sympy/polys/polyclasses.py:823\u001b[0m, in \u001b[0;36mDMP.factor_list\u001b[0;34m(f)\u001b[0m\n\u001b[1;32m    821\u001b[0m \u001b[38;5;28;01mdef\u001b[39;00m \u001b[38;5;21mfactor_list\u001b[39m(f):\n\u001b[1;32m    822\u001b[0m     \u001b[38;5;124;03m\"\"\"Returns a list of irreducible factors of ``f``. \"\"\"\u001b[39;00m\n\u001b[0;32m--> 823\u001b[0m     coeff, factors \u001b[38;5;241m=\u001b[39m \u001b[43mdmp_factor_list\u001b[49m\u001b[43m(\u001b[49m\u001b[43mf\u001b[49m\u001b[38;5;241;43m.\u001b[39;49m\u001b[43mrep\u001b[49m\u001b[43m,\u001b[49m\u001b[43m \u001b[49m\u001b[43mf\u001b[49m\u001b[38;5;241;43m.\u001b[39;49m\u001b[43mlev\u001b[49m\u001b[43m,\u001b[49m\u001b[43m \u001b[49m\u001b[43mf\u001b[49m\u001b[38;5;241;43m.\u001b[39;49m\u001b[43mdom\u001b[49m\u001b[43m)\u001b[49m\n\u001b[1;32m    824\u001b[0m     \u001b[38;5;28;01mreturn\u001b[39;00m coeff, [ (f\u001b[38;5;241m.\u001b[39mper(g), k) \u001b[38;5;28;01mfor\u001b[39;00m g, k \u001b[38;5;129;01min\u001b[39;00m factors ]\n",
      "File \u001b[0;32m~/.local/lib/python3.8/site-packages/sympy/polys/factortools.py:1423\u001b[0m, in \u001b[0;36mdmp_factor_list\u001b[0;34m(f, u, K0)\u001b[0m\n\u001b[1;32m   1421\u001b[0m \u001b[38;5;28;01mif\u001b[39;00m K\u001b[38;5;241m.\u001b[39mis_ZZ:\n\u001b[1;32m   1422\u001b[0m     levels, f, v \u001b[38;5;241m=\u001b[39m dmp_exclude(f, u, K)\n\u001b[0;32m-> 1423\u001b[0m     coeff, factors \u001b[38;5;241m=\u001b[39m \u001b[43mdmp_zz_factor\u001b[49m\u001b[43m(\u001b[49m\u001b[43mf\u001b[49m\u001b[43m,\u001b[49m\u001b[43m \u001b[49m\u001b[43mv\u001b[49m\u001b[43m,\u001b[49m\u001b[43m \u001b[49m\u001b[43mK\u001b[49m\u001b[43m)\u001b[49m\n\u001b[1;32m   1425\u001b[0m     \u001b[38;5;28;01mfor\u001b[39;00m i, (f, k) \u001b[38;5;129;01min\u001b[39;00m \u001b[38;5;28menumerate\u001b[39m(factors):\n\u001b[1;32m   1426\u001b[0m         factors[i] \u001b[38;5;241m=\u001b[39m (dmp_include(f, levels, v, K), k)\n",
      "File \u001b[0;32m~/.local/lib/python3.8/site-packages/sympy/polys/factortools.py:1160\u001b[0m, in \u001b[0;36mdmp_zz_factor\u001b[0;34m(f, u, K)\u001b[0m\n\u001b[1;32m   1158\u001b[0m \u001b[38;5;28;01mif\u001b[39;00m dmp_degree(g, u) \u001b[38;5;241m>\u001b[39m \u001b[38;5;241m0\u001b[39m:\n\u001b[1;32m   1159\u001b[0m     g \u001b[38;5;241m=\u001b[39m dmp_sqf_part(g, u, K)\n\u001b[0;32m-> 1160\u001b[0m     H \u001b[38;5;241m=\u001b[39m \u001b[43mdmp_zz_wang\u001b[49m\u001b[43m(\u001b[49m\u001b[43mg\u001b[49m\u001b[43m,\u001b[49m\u001b[43m \u001b[49m\u001b[43mu\u001b[49m\u001b[43m,\u001b[49m\u001b[43m \u001b[49m\u001b[43mK\u001b[49m\u001b[43m)\u001b[49m\n\u001b[1;32m   1161\u001b[0m     factors \u001b[38;5;241m=\u001b[39m dmp_trial_division(f, H, u, K)\n\u001b[1;32m   1163\u001b[0m \u001b[38;5;28;01mfor\u001b[39;00m g, k \u001b[38;5;129;01min\u001b[39;00m dmp_zz_factor(G, u \u001b[38;5;241m-\u001b[39m \u001b[38;5;241m1\u001b[39m, K)[\u001b[38;5;241m1\u001b[39m]:\n",
      "File \u001b[0;32m~/.local/lib/python3.8/site-packages/sympy/polys/factortools.py:999\u001b[0m, in \u001b[0;36mdmp_zz_wang\u001b[0;34m(f, u, K, mod, seed)\u001b[0m\n\u001b[1;32m    996\u001b[0m ct, T \u001b[38;5;241m=\u001b[39m dmp_zz_factor(dmp_LC(f, K), u \u001b[38;5;241m-\u001b[39m \u001b[38;5;241m1\u001b[39m, K)\n\u001b[1;32m    998\u001b[0m b \u001b[38;5;241m=\u001b[39m dmp_zz_mignotte_bound(f, u, K)\n\u001b[0;32m--> 999\u001b[0m p \u001b[38;5;241m=\u001b[39m K(\u001b[43mnextprime\u001b[49m\u001b[43m(\u001b[49m\u001b[43mb\u001b[49m\u001b[43m)\u001b[49m)\n\u001b[1;32m   1001\u001b[0m \u001b[38;5;28;01mif\u001b[39;00m mod \u001b[38;5;129;01mis\u001b[39;00m \u001b[38;5;28;01mNone\u001b[39;00m:\n\u001b[1;32m   1002\u001b[0m     \u001b[38;5;28;01mif\u001b[39;00m u \u001b[38;5;241m==\u001b[39m \u001b[38;5;241m1\u001b[39m:\n",
      "File \u001b[0;32m~/.local/lib/python3.8/site-packages/sympy/ntheory/generate.py:604\u001b[0m, in \u001b[0;36mnextprime\u001b[0;34m(n, ith)\u001b[0m\n\u001b[1;32m    602\u001b[0m     n \u001b[38;5;241m=\u001b[39m nn \u001b[38;5;241m+\u001b[39m \u001b[38;5;241m5\u001b[39m\n\u001b[1;32m    603\u001b[0m \u001b[38;5;28;01mwhile\u001b[39;00m \u001b[38;5;241m1\u001b[39m:\n\u001b[0;32m--> 604\u001b[0m     \u001b[38;5;28;01mif\u001b[39;00m \u001b[43misprime\u001b[49m\u001b[43m(\u001b[49m\u001b[43mn\u001b[49m\u001b[43m)\u001b[49m:\n\u001b[1;32m    605\u001b[0m         \u001b[38;5;28;01mreturn\u001b[39;00m n\n\u001b[1;32m    606\u001b[0m     n \u001b[38;5;241m+\u001b[39m\u001b[38;5;241m=\u001b[39m \u001b[38;5;241m2\u001b[39m\n",
      "File \u001b[0;32m~/.local/lib/python3.8/site-packages/sympy/ntheory/primetest.py:667\u001b[0m, in \u001b[0;36misprime\u001b[0;34m(n)\u001b[0m\n\u001b[1;32m    630\u001b[0m     \u001b[38;5;28;01mreturn\u001b[39;00m mr(n, [\u001b[38;5;241m2\u001b[39m, \u001b[38;5;241m3\u001b[39m, \u001b[38;5;241m5\u001b[39m, \u001b[38;5;241m7\u001b[39m, \u001b[38;5;241m11\u001b[39m, \u001b[38;5;241m13\u001b[39m, \u001b[38;5;241m17\u001b[39m, \u001b[38;5;241m19\u001b[39m, \u001b[38;5;241m23\u001b[39m, \u001b[38;5;241m29\u001b[39m, \u001b[38;5;241m31\u001b[39m, \u001b[38;5;241m37\u001b[39m, \u001b[38;5;241m41\u001b[39m])\n\u001b[1;32m    632\u001b[0m \u001b[38;5;66;03m# We could do this instead at any point:\u001b[39;00m\n\u001b[1;32m    633\u001b[0m \u001b[38;5;66;03m#if n < 18446744073709551616:\u001b[39;00m\n\u001b[1;32m    634\u001b[0m \u001b[38;5;66;03m#   return mr(n, [2]) and is_extra_strong_lucas_prp(n)\u001b[39;00m\n\u001b[0;32m   (...)\u001b[0m\n\u001b[1;32m    665\u001b[0m \n\u001b[1;32m    666\u001b[0m \u001b[38;5;66;03m# Classic BPSW from page 1401 of the paper.  See alternate ideas below.\u001b[39;00m\n\u001b[0;32m--> 667\u001b[0m \u001b[38;5;28;01mreturn\u001b[39;00m \u001b[43mmr\u001b[49m\u001b[43m(\u001b[49m\u001b[43mn\u001b[49m\u001b[43m,\u001b[49m\u001b[43m \u001b[49m\u001b[43m[\u001b[49m\u001b[38;5;241;43m2\u001b[39;49m\u001b[43m]\u001b[49m\u001b[43m)\u001b[49m \u001b[38;5;129;01mand\u001b[39;00m is_strong_lucas_prp(n)\n",
      "File \u001b[0;32m~/.local/lib/python3.8/site-packages/sympy/ntheory/primetest.py:185\u001b[0m, in \u001b[0;36mmr\u001b[0;34m(n, bases)\u001b[0m\n\u001b[1;32m    183\u001b[0m     \u001b[38;5;28;01mif\u001b[39;00m base \u001b[38;5;241m>\u001b[39m\u001b[38;5;241m=\u001b[39m \u001b[38;5;241m2\u001b[39m:\n\u001b[1;32m    184\u001b[0m         base \u001b[38;5;241m=\u001b[39m ZZ(base)\n\u001b[0;32m--> 185\u001b[0m         \u001b[38;5;28;01mif\u001b[39;00m \u001b[38;5;129;01mnot\u001b[39;00m \u001b[43m_test\u001b[49m\u001b[43m(\u001b[49m\u001b[43mn\u001b[49m\u001b[43m,\u001b[49m\u001b[43m \u001b[49m\u001b[43mbase\u001b[49m\u001b[43m,\u001b[49m\u001b[43m \u001b[49m\u001b[43ms\u001b[49m\u001b[43m,\u001b[49m\u001b[43m \u001b[49m\u001b[43mt\u001b[49m\u001b[43m)\u001b[49m:\n\u001b[1;32m    186\u001b[0m             \u001b[38;5;28;01mreturn\u001b[39;00m \u001b[38;5;28;01mFalse\u001b[39;00m\n\u001b[1;32m    187\u001b[0m \u001b[38;5;28;01mreturn\u001b[39;00m \u001b[38;5;28;01mTrue\u001b[39;00m\n",
      "File \u001b[0;32m~/.local/lib/python3.8/site-packages/sympy/ntheory/primetest.py:133\u001b[0m, in \u001b[0;36m_test\u001b[0;34m(n, base, s, t)\u001b[0m\n\u001b[1;32m    127\u001b[0m \u001b[38;5;124;03m\"\"\"Miller-Rabin strong pseudoprime test for one base.\u001b[39;00m\n\u001b[1;32m    128\u001b[0m \u001b[38;5;124;03mReturn False if n is definitely composite, True if n is\u001b[39;00m\n\u001b[1;32m    129\u001b[0m \u001b[38;5;124;03mprobably prime, with a probability greater than 3/4.\u001b[39;00m\n\u001b[1;32m    130\u001b[0m \n\u001b[1;32m    131\u001b[0m \u001b[38;5;124;03m\"\"\"\u001b[39;00m\n\u001b[1;32m    132\u001b[0m \u001b[38;5;66;03m# do the Fermat test\u001b[39;00m\n\u001b[0;32m--> 133\u001b[0m b \u001b[38;5;241m=\u001b[39m \u001b[38;5;28;43mpow\u001b[39;49m\u001b[43m(\u001b[49m\u001b[43mbase\u001b[49m\u001b[43m,\u001b[49m\u001b[43m \u001b[49m\u001b[43mt\u001b[49m\u001b[43m,\u001b[49m\u001b[43m \u001b[49m\u001b[43mn\u001b[49m\u001b[43m)\u001b[49m\n\u001b[1;32m    134\u001b[0m \u001b[38;5;28;01mif\u001b[39;00m b \u001b[38;5;241m==\u001b[39m \u001b[38;5;241m1\u001b[39m \u001b[38;5;129;01mor\u001b[39;00m b \u001b[38;5;241m==\u001b[39m n \u001b[38;5;241m-\u001b[39m \u001b[38;5;241m1\u001b[39m:\n\u001b[1;32m    135\u001b[0m     \u001b[38;5;28;01mreturn\u001b[39;00m \u001b[38;5;28;01mTrue\u001b[39;00m\n",
      "\u001b[0;31mKeyboardInterrupt\u001b[0m: "
     ]
    }
   ],
   "source": [
    "sp.simplify(eqn3)"
   ]
  },
  {
   "cell_type": "code",
   "execution_count": 104,
   "id": "6126fda0",
   "metadata": {},
   "outputs": [
    {
     "ename": "KeyboardInterrupt",
     "evalue": "",
     "output_type": "error",
     "traceback": [
      "\u001b[0;31m---------------------------------------------------------------------------\u001b[0m",
      "\u001b[0;31mKeyboardInterrupt\u001b[0m                         Traceback (most recent call last)",
      "Cell \u001b[0;32mIn[104], line 1\u001b[0m\n\u001b[0;32m----> 1\u001b[0m \u001b[43msp\u001b[49m\u001b[38;5;241;43m.\u001b[39;49m\u001b[43msimplify\u001b[49m\u001b[43m(\u001b[49m\u001b[43meqn\u001b[49m\u001b[38;5;241;43m.\u001b[39;49m\u001b[43msubs\u001b[49m\u001b[43m(\u001b[49m\u001b[43mAp\u001b[49m\u001b[43m,\u001b[49m\u001b[38;5;241;43m2\u001b[39;49m\u001b[43m)\u001b[49m\u001b[38;5;241;43m.\u001b[39;49m\u001b[43msubs\u001b[49m\u001b[43m(\u001b[49m\u001b[43mBp\u001b[49m\u001b[43m,\u001b[49m\u001b[38;5;241;43m2\u001b[39;49m\u001b[43m)\u001b[49m\u001b[38;5;241;43m.\u001b[39;49m\u001b[43msubs\u001b[49m\u001b[43m(\u001b[49m\u001b[43mCp\u001b[49m\u001b[43m,\u001b[49m\u001b[38;5;241;43m2\u001b[39;49m\u001b[43m)\u001b[49m\u001b[38;5;241;43m.\u001b[39;49m\u001b[43msubs\u001b[49m\u001b[43m(\u001b[49m\u001b[43mDp\u001b[49m\u001b[43m,\u001b[49m\u001b[38;5;241;43m2\u001b[39;49m\u001b[43m)\u001b[49m\u001b[38;5;241;43m.\u001b[39;49m\u001b[43msubs\u001b[49m\u001b[43m(\u001b[49m\u001b[43mEp\u001b[49m\u001b[43m,\u001b[49m\u001b[38;5;241;43m2\u001b[39;49m\u001b[43m)\u001b[49m\u001b[38;5;241;43m.\u001b[39;49m\u001b[43msubs\u001b[49m\u001b[43m(\u001b[49m\u001b[43mFp\u001b[49m\u001b[43m,\u001b[49m\u001b[38;5;241;43m2\u001b[39;49m\u001b[43m)\u001b[49m\u001b[38;5;241;43m.\u001b[39;49m\u001b[43msubs\u001b[49m\u001b[43m(\u001b[49m\u001b[43mGp\u001b[49m\u001b[43m,\u001b[49m\u001b[38;5;241;43m2\u001b[39;49m\u001b[43m)\u001b[49m\u001b[38;5;241;43m.\u001b[39;49m\u001b[43msubs\u001b[49m\u001b[43m(\u001b[49m\u001b[43mHp\u001b[49m\u001b[43m,\u001b[49m\u001b[38;5;241;43m2\u001b[39;49m\u001b[43m)\u001b[49m\u001b[38;5;241;43m.\u001b[39;49m\u001b[43msubs\u001b[49m\u001b[43m(\u001b[49m\u001b[43mIp\u001b[49m\u001b[43m,\u001b[49m\u001b[38;5;241;43m2\u001b[39;49m\u001b[43m)\u001b[49m\u001b[38;5;241;43m.\u001b[39;49m\u001b[43msubs\u001b[49m\u001b[43m(\u001b[49m\u001b[43mJp\u001b[49m\u001b[43m,\u001b[49m\u001b[38;5;241;43m2\u001b[39;49m\u001b[43m)\u001b[49m\u001b[38;5;241;43m.\u001b[39;49m\u001b[43msubs\u001b[49m\u001b[43m(\u001b[49m\u001b[43mKp\u001b[49m\u001b[43m,\u001b[49m\u001b[38;5;241;43m2\u001b[39;49m\u001b[43m)\u001b[49m\u001b[38;5;241;43m.\u001b[39;49m\u001b[43msubs\u001b[49m\u001b[43m(\u001b[49m\u001b[43mep\u001b[49m\u001b[43m,\u001b[49m\u001b[38;5;241;43m0.5\u001b[39;49m\u001b[43m)\u001b[49m\u001b[43m)\u001b[49m\n",
      "File \u001b[0;32m~/.local/lib/python3.8/site-packages/sympy/simplify/simplify.py:699\u001b[0m, in \u001b[0;36msimplify\u001b[0;34m(expr, ratio, measure, rational, inverse, doit, **kwargs)\u001b[0m\n\u001b[1;32m    696\u001b[0m     expr \u001b[38;5;241m=\u001b[39m besselsimp(expr)\n\u001b[1;32m    698\u001b[0m \u001b[38;5;28;01mif\u001b[39;00m expr\u001b[38;5;241m.\u001b[39mhas(TrigonometricFunction, HyperbolicFunction):\n\u001b[0;32m--> 699\u001b[0m     expr \u001b[38;5;241m=\u001b[39m \u001b[43mtrigsimp\u001b[49m\u001b[43m(\u001b[49m\u001b[43mexpr\u001b[49m\u001b[43m,\u001b[49m\u001b[43m \u001b[49m\u001b[43mdeep\u001b[49m\u001b[38;5;241;43m=\u001b[39;49m\u001b[38;5;28;43;01mTrue\u001b[39;49;00m\u001b[43m)\u001b[49m\n\u001b[1;32m    701\u001b[0m \u001b[38;5;28;01mif\u001b[39;00m expr\u001b[38;5;241m.\u001b[39mhas(log):\n\u001b[1;32m    702\u001b[0m     expr \u001b[38;5;241m=\u001b[39m shorter(expand_log(expr, deep\u001b[38;5;241m=\u001b[39m\u001b[38;5;28;01mTrue\u001b[39;00m), logcombine(expr))\n",
      "File \u001b[0;32m~/.local/lib/python3.8/site-packages/sympy/simplify/trigsimp.py:523\u001b[0m, in \u001b[0;36mtrigsimp\u001b[0;34m(expr, **opts)\u001b[0m\n\u001b[1;32m    512\u001b[0m     \u001b[38;5;28;01mreturn\u001b[39;00m trigsimp_groebner(new, \u001b[38;5;241m*\u001b[39m\u001b[38;5;241m*\u001b[39mopts)\n\u001b[1;32m    514\u001b[0m trigsimpfunc \u001b[38;5;241m=\u001b[39m {\n\u001b[1;32m    515\u001b[0m     \u001b[38;5;124m'\u001b[39m\u001b[38;5;124mfu\u001b[39m\u001b[38;5;124m'\u001b[39m: (\u001b[38;5;28;01mlambda\u001b[39;00m x: fu(x, \u001b[38;5;241m*\u001b[39m\u001b[38;5;241m*\u001b[39mopts)),\n\u001b[1;32m    516\u001b[0m     \u001b[38;5;124m'\u001b[39m\u001b[38;5;124mmatching\u001b[39m\u001b[38;5;124m'\u001b[39m: (\u001b[38;5;28;01mlambda\u001b[39;00m x: futrig(x)),\n\u001b[0;32m   (...)\u001b[0m\n\u001b[1;32m    520\u001b[0m     \u001b[38;5;124m'\u001b[39m\u001b[38;5;124mold\u001b[39m\u001b[38;5;124m'\u001b[39m: \u001b[38;5;28;01mlambda\u001b[39;00m x: trigsimp_old(x, \u001b[38;5;241m*\u001b[39m\u001b[38;5;241m*\u001b[39mopts),\n\u001b[1;32m    521\u001b[0m                }[method]\n\u001b[0;32m--> 523\u001b[0m \u001b[38;5;28;01mreturn\u001b[39;00m \u001b[43mtrigsimpfunc\u001b[49m\u001b[43m(\u001b[49m\u001b[43mexpr\u001b[49m\u001b[43m)\u001b[49m\n",
      "File \u001b[0;32m~/.local/lib/python3.8/site-packages/sympy/simplify/trigsimp.py:516\u001b[0m, in \u001b[0;36mtrigsimp.<locals>.<lambda>\u001b[0;34m(x)\u001b[0m\n\u001b[1;32m    511\u001b[0m         \u001b[38;5;28;01mreturn\u001b[39;00m new\n\u001b[1;32m    512\u001b[0m     \u001b[38;5;28;01mreturn\u001b[39;00m trigsimp_groebner(new, \u001b[38;5;241m*\u001b[39m\u001b[38;5;241m*\u001b[39mopts)\n\u001b[1;32m    514\u001b[0m trigsimpfunc \u001b[38;5;241m=\u001b[39m {\n\u001b[1;32m    515\u001b[0m     \u001b[38;5;124m'\u001b[39m\u001b[38;5;124mfu\u001b[39m\u001b[38;5;124m'\u001b[39m: (\u001b[38;5;28;01mlambda\u001b[39;00m x: fu(x, \u001b[38;5;241m*\u001b[39m\u001b[38;5;241m*\u001b[39mopts)),\n\u001b[0;32m--> 516\u001b[0m     \u001b[38;5;124m'\u001b[39m\u001b[38;5;124mmatching\u001b[39m\u001b[38;5;124m'\u001b[39m: (\u001b[38;5;28;01mlambda\u001b[39;00m x: \u001b[43mfutrig\u001b[49m\u001b[43m(\u001b[49m\u001b[43mx\u001b[49m\u001b[43m)\u001b[49m),\n\u001b[1;32m    517\u001b[0m     \u001b[38;5;124m'\u001b[39m\u001b[38;5;124mgroebner\u001b[39m\u001b[38;5;124m'\u001b[39m: (\u001b[38;5;28;01mlambda\u001b[39;00m x: groebnersimp(x, \u001b[38;5;241m*\u001b[39m\u001b[38;5;241m*\u001b[39mopts)),\n\u001b[1;32m    518\u001b[0m     \u001b[38;5;124m'\u001b[39m\u001b[38;5;124mcombined\u001b[39m\u001b[38;5;124m'\u001b[39m: (\u001b[38;5;28;01mlambda\u001b[39;00m x: futrig(groebnersimp(x,\n\u001b[1;32m    519\u001b[0m                            polynomial\u001b[38;5;241m=\u001b[39m\u001b[38;5;28;01mTrue\u001b[39;00m, hints\u001b[38;5;241m=\u001b[39m[\u001b[38;5;241m2\u001b[39m, tan]))),\n\u001b[1;32m    520\u001b[0m     \u001b[38;5;124m'\u001b[39m\u001b[38;5;124mold\u001b[39m\u001b[38;5;124m'\u001b[39m: \u001b[38;5;28;01mlambda\u001b[39;00m x: trigsimp_old(x, \u001b[38;5;241m*\u001b[39m\u001b[38;5;241m*\u001b[39mopts),\n\u001b[1;32m    521\u001b[0m                }[method]\n\u001b[1;32m    523\u001b[0m \u001b[38;5;28;01mreturn\u001b[39;00m trigsimpfunc(expr)\n",
      "File \u001b[0;32m~/.local/lib/python3.8/site-packages/sympy/simplify/trigsimp.py:1113\u001b[0m, in \u001b[0;36mfutrig\u001b[0;34m(e, hyper, **kwargs)\u001b[0m\n\u001b[1;32m   1110\u001b[0m     \u001b[38;5;28;01mreturn\u001b[39;00m e\n\u001b[1;32m   1112\u001b[0m old \u001b[38;5;241m=\u001b[39m e\n\u001b[0;32m-> 1113\u001b[0m e \u001b[38;5;241m=\u001b[39m \u001b[43mbottom_up\u001b[49m\u001b[43m(\u001b[49m\u001b[43me\u001b[49m\u001b[43m,\u001b[49m\u001b[43m \u001b[49m\u001b[43m_futrig\u001b[49m\u001b[43m)\u001b[49m\n\u001b[1;32m   1115\u001b[0m \u001b[38;5;28;01mif\u001b[39;00m hyper \u001b[38;5;129;01mand\u001b[39;00m e\u001b[38;5;241m.\u001b[39mhas(HyperbolicFunction):\n\u001b[1;32m   1116\u001b[0m     e, f \u001b[38;5;241m=\u001b[39m hyper_as_trig(e)\n",
      "File \u001b[0;32m~/.local/lib/python3.8/site-packages/sympy/core/traversal.py:237\u001b[0m, in \u001b[0;36mbottom_up\u001b[0;34m(rv, F, atoms, nonbasic)\u001b[0m\n\u001b[1;32m    235\u001b[0m \u001b[38;5;28;01mif\u001b[39;00m args \u001b[38;5;129;01mis\u001b[39;00m \u001b[38;5;129;01mnot\u001b[39;00m \u001b[38;5;28;01mNone\u001b[39;00m:\n\u001b[1;32m    236\u001b[0m     \u001b[38;5;28;01mif\u001b[39;00m args:\n\u001b[0;32m--> 237\u001b[0m         args \u001b[38;5;241m=\u001b[39m \u001b[38;5;28mtuple\u001b[39m([bottom_up(a, F, atoms, nonbasic) \u001b[38;5;28;01mfor\u001b[39;00m a \u001b[38;5;129;01min\u001b[39;00m args])\n\u001b[1;32m    238\u001b[0m         \u001b[38;5;28;01mif\u001b[39;00m args \u001b[38;5;241m!=\u001b[39m rv\u001b[38;5;241m.\u001b[39margs:\n\u001b[1;32m    239\u001b[0m             rv \u001b[38;5;241m=\u001b[39m rv\u001b[38;5;241m.\u001b[39mfunc(\u001b[38;5;241m*\u001b[39margs)\n",
      "File \u001b[0;32m~/.local/lib/python3.8/site-packages/sympy/core/traversal.py:237\u001b[0m, in \u001b[0;36m<listcomp>\u001b[0;34m(.0)\u001b[0m\n\u001b[1;32m    235\u001b[0m \u001b[38;5;28;01mif\u001b[39;00m args \u001b[38;5;129;01mis\u001b[39;00m \u001b[38;5;129;01mnot\u001b[39;00m \u001b[38;5;28;01mNone\u001b[39;00m:\n\u001b[1;32m    236\u001b[0m     \u001b[38;5;28;01mif\u001b[39;00m args:\n\u001b[0;32m--> 237\u001b[0m         args \u001b[38;5;241m=\u001b[39m \u001b[38;5;28mtuple\u001b[39m([\u001b[43mbottom_up\u001b[49m\u001b[43m(\u001b[49m\u001b[43ma\u001b[49m\u001b[43m,\u001b[49m\u001b[43m \u001b[49m\u001b[43mF\u001b[49m\u001b[43m,\u001b[49m\u001b[43m \u001b[49m\u001b[43matoms\u001b[49m\u001b[43m,\u001b[49m\u001b[43m \u001b[49m\u001b[43mnonbasic\u001b[49m\u001b[43m)\u001b[49m \u001b[38;5;28;01mfor\u001b[39;00m a \u001b[38;5;129;01min\u001b[39;00m args])\n\u001b[1;32m    238\u001b[0m         \u001b[38;5;28;01mif\u001b[39;00m args \u001b[38;5;241m!=\u001b[39m rv\u001b[38;5;241m.\u001b[39margs:\n\u001b[1;32m    239\u001b[0m             rv \u001b[38;5;241m=\u001b[39m rv\u001b[38;5;241m.\u001b[39mfunc(\u001b[38;5;241m*\u001b[39margs)\n",
      "File \u001b[0;32m~/.local/lib/python3.8/site-packages/sympy/core/traversal.py:240\u001b[0m, in \u001b[0;36mbottom_up\u001b[0;34m(rv, F, atoms, nonbasic)\u001b[0m\n\u001b[1;32m    238\u001b[0m     \u001b[38;5;28;01mif\u001b[39;00m args \u001b[38;5;241m!=\u001b[39m rv\u001b[38;5;241m.\u001b[39margs:\n\u001b[1;32m    239\u001b[0m         rv \u001b[38;5;241m=\u001b[39m rv\u001b[38;5;241m.\u001b[39mfunc(\u001b[38;5;241m*\u001b[39margs)\n\u001b[0;32m--> 240\u001b[0m     rv \u001b[38;5;241m=\u001b[39m \u001b[43mF\u001b[49m\u001b[43m(\u001b[49m\u001b[43mrv\u001b[49m\u001b[43m)\u001b[49m\n\u001b[1;32m    241\u001b[0m \u001b[38;5;28;01melif\u001b[39;00m atoms:\n\u001b[1;32m    242\u001b[0m     rv \u001b[38;5;241m=\u001b[39m F(rv)\n",
      "File \u001b[0;32m~/.local/lib/python3.8/site-packages/sympy/simplify/trigsimp.py:1180\u001b[0m, in \u001b[0;36m_futrig\u001b[0;34m(e)\u001b[0m\n\u001b[1;32m   1141\u001b[0m trigs \u001b[38;5;241m=\u001b[39m \u001b[38;5;28;01mlambda\u001b[39;00m x: x\u001b[38;5;241m.\u001b[39mhas(TrigonometricFunction)\n\u001b[1;32m   1143\u001b[0m tree \u001b[38;5;241m=\u001b[39m [identity,\n\u001b[1;32m   1144\u001b[0m     (\n\u001b[1;32m   1145\u001b[0m     TR3,  \u001b[38;5;66;03m# canonical angles\u001b[39;00m\n\u001b[0;32m   (...)\u001b[0m\n\u001b[1;32m   1178\u001b[0m         factor_terms, TR12(x), trigs)],  \u001b[38;5;66;03m# expand tan of sum\u001b[39;00m\n\u001b[1;32m   1179\u001b[0m     )]\n\u001b[0;32m-> 1180\u001b[0m e \u001b[38;5;241m=\u001b[39m \u001b[43mgreedy\u001b[49m\u001b[43m(\u001b[49m\u001b[43mtree\u001b[49m\u001b[43m,\u001b[49m\u001b[43m \u001b[49m\u001b[43mobjective\u001b[49m\u001b[38;5;241;43m=\u001b[39;49m\u001b[43mLops\u001b[49m\u001b[43m)\u001b[49m\u001b[43m(\u001b[49m\u001b[43me\u001b[49m\u001b[43m)\u001b[49m\n\u001b[1;32m   1182\u001b[0m \u001b[38;5;28;01mif\u001b[39;00m coeff \u001b[38;5;129;01mis\u001b[39;00m \u001b[38;5;129;01mnot\u001b[39;00m \u001b[38;5;28;01mNone\u001b[39;00m:\n\u001b[1;32m   1183\u001b[0m     e \u001b[38;5;241m=\u001b[39m coeff \u001b[38;5;241m*\u001b[39m e\n",
      "File \u001b[0;32m~/.local/lib/python3.8/site-packages/sympy/strategies/core.py:111\u001b[0m, in \u001b[0;36mminimize.<locals>.minrule\u001b[0;34m(expr)\u001b[0m\n\u001b[1;32m    110\u001b[0m \u001b[38;5;28;01mdef\u001b[39;00m \u001b[38;5;21mminrule\u001b[39m(expr):\n\u001b[0;32m--> 111\u001b[0m     \u001b[38;5;28;01mreturn\u001b[39;00m \u001b[38;5;28mmin\u001b[39m([rule(expr) \u001b[38;5;28;01mfor\u001b[39;00m rule \u001b[38;5;129;01min\u001b[39;00m rules], key\u001b[38;5;241m=\u001b[39mobjective)\n",
      "File \u001b[0;32m~/.local/lib/python3.8/site-packages/sympy/strategies/core.py:111\u001b[0m, in \u001b[0;36m<listcomp>\u001b[0;34m(.0)\u001b[0m\n\u001b[1;32m    110\u001b[0m \u001b[38;5;28;01mdef\u001b[39;00m \u001b[38;5;21mminrule\u001b[39m(expr):\n\u001b[0;32m--> 111\u001b[0m     \u001b[38;5;28;01mreturn\u001b[39;00m \u001b[38;5;28mmin\u001b[39m([\u001b[43mrule\u001b[49m\u001b[43m(\u001b[49m\u001b[43mexpr\u001b[49m\u001b[43m)\u001b[49m \u001b[38;5;28;01mfor\u001b[39;00m rule \u001b[38;5;129;01min\u001b[39;00m rules], key\u001b[38;5;241m=\u001b[39mobjective)\n",
      "File \u001b[0;32m~/.local/lib/python3.8/site-packages/sympy/strategies/core.py:41\u001b[0m, in \u001b[0;36mchain.<locals>.chain_rl\u001b[0;34m(expr)\u001b[0m\n\u001b[1;32m     39\u001b[0m \u001b[38;5;28;01mdef\u001b[39;00m \u001b[38;5;21mchain_rl\u001b[39m(expr):\n\u001b[1;32m     40\u001b[0m     \u001b[38;5;28;01mfor\u001b[39;00m rule \u001b[38;5;129;01min\u001b[39;00m rules:\n\u001b[0;32m---> 41\u001b[0m         expr \u001b[38;5;241m=\u001b[39m \u001b[43mrule\u001b[49m\u001b[43m(\u001b[49m\u001b[43mexpr\u001b[49m\u001b[43m)\u001b[49m\n\u001b[1;32m     42\u001b[0m     \u001b[38;5;28;01mreturn\u001b[39;00m expr\n",
      "File \u001b[0;32m~/.local/lib/python3.8/site-packages/sympy/simplify/trigsimp.py:1148\u001b[0m, in \u001b[0;36m_futrig.<locals>.<lambda>\u001b[0;34m(x)\u001b[0m\n\u001b[1;32m   1140\u001b[0m Lops \u001b[38;5;241m=\u001b[39m \u001b[38;5;28;01mlambda\u001b[39;00m x: (L(x), x\u001b[38;5;241m.\u001b[39mcount_ops(), _nodes(x), \u001b[38;5;28mlen\u001b[39m(x\u001b[38;5;241m.\u001b[39margs), x\u001b[38;5;241m.\u001b[39mis_Add)\n\u001b[1;32m   1141\u001b[0m trigs \u001b[38;5;241m=\u001b[39m \u001b[38;5;28;01mlambda\u001b[39;00m x: x\u001b[38;5;241m.\u001b[39mhas(TrigonometricFunction)\n\u001b[1;32m   1143\u001b[0m tree \u001b[38;5;241m=\u001b[39m [identity,\n\u001b[1;32m   1144\u001b[0m     (\n\u001b[1;32m   1145\u001b[0m     TR3,  \u001b[38;5;66;03m# canonical angles\u001b[39;00m\n\u001b[1;32m   1146\u001b[0m     TR1,  \u001b[38;5;66;03m# sec-csc -> cos-sin\u001b[39;00m\n\u001b[1;32m   1147\u001b[0m     TR12,  \u001b[38;5;66;03m# expand tan of sum\u001b[39;00m\n\u001b[0;32m-> 1148\u001b[0m     \u001b[38;5;28;01mlambda\u001b[39;00m x: \u001b[43m_eapply\u001b[49m\u001b[43m(\u001b[49m\u001b[43mfactor\u001b[49m\u001b[43m,\u001b[49m\u001b[43m \u001b[49m\u001b[43mx\u001b[49m\u001b[43m,\u001b[49m\u001b[43m \u001b[49m\u001b[43mtrigs\u001b[49m\u001b[43m)\u001b[49m,\n\u001b[1;32m   1149\u001b[0m     TR2,  \u001b[38;5;66;03m# tan-cot -> sin-cos\u001b[39;00m\n\u001b[1;32m   1150\u001b[0m     [identity, \u001b[38;5;28;01mlambda\u001b[39;00m x: _eapply(_mexpand, x, trigs)],\n\u001b[1;32m   1151\u001b[0m     TR2i,  \u001b[38;5;66;03m# sin-cos ratio -> tan\u001b[39;00m\n\u001b[1;32m   1152\u001b[0m     \u001b[38;5;28;01mlambda\u001b[39;00m x: _eapply(\u001b[38;5;28;01mlambda\u001b[39;00m i: factor(i\u001b[38;5;241m.\u001b[39mnormal()), x, trigs),\n\u001b[1;32m   1153\u001b[0m     TR14,  \u001b[38;5;66;03m# factored identities\u001b[39;00m\n\u001b[1;32m   1154\u001b[0m     TR5,  \u001b[38;5;66;03m# sin-pow -> cos_pow\u001b[39;00m\n\u001b[1;32m   1155\u001b[0m     TR10,  \u001b[38;5;66;03m# sin-cos of sums -> sin-cos prod\u001b[39;00m\n\u001b[1;32m   1156\u001b[0m     TR11, _TR11, TR6, \u001b[38;5;66;03m# reduce double angles and rewrite cos pows\u001b[39;00m\n\u001b[1;32m   1157\u001b[0m     \u001b[38;5;28;01mlambda\u001b[39;00m x: _eapply(factor, x, trigs),\n\u001b[1;32m   1158\u001b[0m     TR14,  \u001b[38;5;66;03m# factored powers of identities\u001b[39;00m\n\u001b[1;32m   1159\u001b[0m     [identity, \u001b[38;5;28;01mlambda\u001b[39;00m x: _eapply(_mexpand, x, trigs)],\n\u001b[1;32m   1160\u001b[0m     TR10i,  \u001b[38;5;66;03m# sin-cos products > sin-cos of sums\u001b[39;00m\n\u001b[1;32m   1161\u001b[0m     TRmorrie,\n\u001b[1;32m   1162\u001b[0m     [identity, TR8],  \u001b[38;5;66;03m# sin-cos products -> sin-cos of sums\u001b[39;00m\n\u001b[1;32m   1163\u001b[0m     [identity, \u001b[38;5;28;01mlambda\u001b[39;00m x: TR2i(TR2(x))],  \u001b[38;5;66;03m# tan -> sin-cos -> tan\u001b[39;00m\n\u001b[1;32m   1164\u001b[0m     [\n\u001b[1;32m   1165\u001b[0m         \u001b[38;5;28;01mlambda\u001b[39;00m x: _eapply(expand_mul, TR5(x), trigs),\n\u001b[1;32m   1166\u001b[0m         \u001b[38;5;28;01mlambda\u001b[39;00m x: _eapply(\n\u001b[1;32m   1167\u001b[0m             expand_mul, TR15(x), trigs)], \u001b[38;5;66;03m# pos/neg powers of sin\u001b[39;00m\n\u001b[1;32m   1168\u001b[0m     [\n\u001b[1;32m   1169\u001b[0m         \u001b[38;5;28;01mlambda\u001b[39;00m x:  _eapply(expand_mul, TR6(x), trigs),\n\u001b[1;32m   1170\u001b[0m         \u001b[38;5;28;01mlambda\u001b[39;00m x:  _eapply(\n\u001b[1;32m   1171\u001b[0m             expand_mul, TR16(x), trigs)], \u001b[38;5;66;03m# pos/neg powers of cos\u001b[39;00m\n\u001b[1;32m   1172\u001b[0m     TR111,  \u001b[38;5;66;03m# tan, sin, cos to neg power -> cot, csc, sec\u001b[39;00m\n\u001b[1;32m   1173\u001b[0m     [identity, TR2i],  \u001b[38;5;66;03m# sin-cos ratio to tan\u001b[39;00m\n\u001b[1;32m   1174\u001b[0m     [identity, \u001b[38;5;28;01mlambda\u001b[39;00m x: _eapply(\n\u001b[1;32m   1175\u001b[0m         expand_mul, TR22(x), trigs)],  \u001b[38;5;66;03m# tan-cot to sec-csc\u001b[39;00m\n\u001b[1;32m   1176\u001b[0m     TR1, TR2, TR2i,\n\u001b[1;32m   1177\u001b[0m     [identity, \u001b[38;5;28;01mlambda\u001b[39;00m x: _eapply(\n\u001b[1;32m   1178\u001b[0m         factor_terms, TR12(x), trigs)],  \u001b[38;5;66;03m# expand tan of sum\u001b[39;00m\n\u001b[1;32m   1179\u001b[0m     )]\n\u001b[1;32m   1180\u001b[0m e \u001b[38;5;241m=\u001b[39m greedy(tree, objective\u001b[38;5;241m=\u001b[39mLops)(e)\n\u001b[1;32m   1182\u001b[0m \u001b[38;5;28;01mif\u001b[39;00m coeff \u001b[38;5;129;01mis\u001b[39;00m \u001b[38;5;129;01mnot\u001b[39;00m \u001b[38;5;28;01mNone\u001b[39;00m:\n",
      "File \u001b[0;32m~/.local/lib/python3.8/site-packages/sympy/simplify/trigsimp.py:1204\u001b[0m, in \u001b[0;36m_eapply\u001b[0;34m(func, e, cond)\u001b[0m\n\u001b[1;32m   1202\u001b[0m     \u001b[38;5;28;01mreturn\u001b[39;00m e\n\u001b[1;32m   1203\u001b[0m \u001b[38;5;28;01mif\u001b[39;00m _is_Expr(e) \u001b[38;5;129;01mor\u001b[39;00m \u001b[38;5;129;01mnot\u001b[39;00m e\u001b[38;5;241m.\u001b[39margs:\n\u001b[0;32m-> 1204\u001b[0m     \u001b[38;5;28;01mreturn\u001b[39;00m \u001b[43mfunc\u001b[49m\u001b[43m(\u001b[49m\u001b[43me\u001b[49m\u001b[43m)\u001b[49m\n\u001b[1;32m   1205\u001b[0m \u001b[38;5;28;01mreturn\u001b[39;00m e\u001b[38;5;241m.\u001b[39mfunc(\u001b[38;5;241m*\u001b[39m[\n\u001b[1;32m   1206\u001b[0m     _eapply(func, ei) \u001b[38;5;28;01mif\u001b[39;00m (cond \u001b[38;5;129;01mis\u001b[39;00m \u001b[38;5;28;01mNone\u001b[39;00m \u001b[38;5;129;01mor\u001b[39;00m cond(ei)) \u001b[38;5;28;01melse\u001b[39;00m ei\n\u001b[1;32m   1207\u001b[0m     \u001b[38;5;28;01mfor\u001b[39;00m ei \u001b[38;5;129;01min\u001b[39;00m e\u001b[38;5;241m.\u001b[39margs])\n",
      "File \u001b[0;32m~/.local/lib/python3.8/site-packages/sympy/polys/polytools.py:6449\u001b[0m, in \u001b[0;36mfactor\u001b[0;34m(f, deep, *gens, **args)\u001b[0m\n\u001b[1;32m   6446\u001b[0m     \u001b[38;5;28;01mreturn\u001b[39;00m f\u001b[38;5;241m.\u001b[39mxreplace(partials)\n\u001b[1;32m   6448\u001b[0m \u001b[38;5;28;01mtry\u001b[39;00m:\n\u001b[0;32m-> 6449\u001b[0m     \u001b[38;5;28;01mreturn\u001b[39;00m \u001b[43m_generic_factor\u001b[49m\u001b[43m(\u001b[49m\u001b[43mf\u001b[49m\u001b[43m,\u001b[49m\u001b[43m \u001b[49m\u001b[43mgens\u001b[49m\u001b[43m,\u001b[49m\u001b[43m \u001b[49m\u001b[43margs\u001b[49m\u001b[43m,\u001b[49m\u001b[43m \u001b[49m\u001b[43mmethod\u001b[49m\u001b[38;5;241;43m=\u001b[39;49m\u001b[38;5;124;43m'\u001b[39;49m\u001b[38;5;124;43mfactor\u001b[39;49m\u001b[38;5;124;43m'\u001b[39;49m\u001b[43m)\u001b[49m\n\u001b[1;32m   6450\u001b[0m \u001b[38;5;28;01mexcept\u001b[39;00m PolynomialError \u001b[38;5;28;01mas\u001b[39;00m msg:\n\u001b[1;32m   6451\u001b[0m     \u001b[38;5;28;01mif\u001b[39;00m \u001b[38;5;129;01mnot\u001b[39;00m f\u001b[38;5;241m.\u001b[39mis_commutative:\n",
      "File \u001b[0;32m~/.local/lib/python3.8/site-packages/sympy/polys/polytools.py:6130\u001b[0m, in \u001b[0;36m_generic_factor\u001b[0;34m(expr, gens, args, method)\u001b[0m\n\u001b[1;32m   6128\u001b[0m opt \u001b[38;5;241m=\u001b[39m options\u001b[38;5;241m.\u001b[39mbuild_options(gens, args)\n\u001b[1;32m   6129\u001b[0m opt[\u001b[38;5;124m'\u001b[39m\u001b[38;5;124mfraction\u001b[39m\u001b[38;5;124m'\u001b[39m] \u001b[38;5;241m=\u001b[39m fraction\n\u001b[0;32m-> 6130\u001b[0m \u001b[38;5;28;01mreturn\u001b[39;00m \u001b[43m_symbolic_factor\u001b[49m\u001b[43m(\u001b[49m\u001b[43msympify\u001b[49m\u001b[43m(\u001b[49m\u001b[43mexpr\u001b[49m\u001b[43m)\u001b[49m\u001b[43m,\u001b[49m\u001b[43m \u001b[49m\u001b[43mopt\u001b[49m\u001b[43m,\u001b[49m\u001b[43m \u001b[49m\u001b[43mmethod\u001b[49m\u001b[43m)\u001b[49m\n",
      "File \u001b[0;32m~/.local/lib/python3.8/site-packages/sympy/polys/polytools.py:6070\u001b[0m, in \u001b[0;36m_symbolic_factor\u001b[0;34m(expr, opt, method)\u001b[0m\n\u001b[1;32m   6068\u001b[0m     \u001b[38;5;28;01mif\u001b[39;00m \u001b[38;5;28mhasattr\u001b[39m(expr,\u001b[38;5;124m'\u001b[39m\u001b[38;5;124m_eval_factor\u001b[39m\u001b[38;5;124m'\u001b[39m):\n\u001b[1;32m   6069\u001b[0m         \u001b[38;5;28;01mreturn\u001b[39;00m expr\u001b[38;5;241m.\u001b[39m_eval_factor()\n\u001b[0;32m-> 6070\u001b[0m     coeff, factors \u001b[38;5;241m=\u001b[39m \u001b[43m_symbolic_factor_list\u001b[49m\u001b[43m(\u001b[49m\u001b[43mtogether\u001b[49m\u001b[43m(\u001b[49m\u001b[43mexpr\u001b[49m\u001b[43m,\u001b[49m\u001b[43m \u001b[49m\u001b[43mfraction\u001b[49m\u001b[38;5;241;43m=\u001b[39;49m\u001b[43mopt\u001b[49m\u001b[43m[\u001b[49m\u001b[38;5;124;43m'\u001b[39;49m\u001b[38;5;124;43mfraction\u001b[39;49m\u001b[38;5;124;43m'\u001b[39;49m\u001b[43m]\u001b[49m\u001b[43m)\u001b[49m\u001b[43m,\u001b[49m\u001b[43m \u001b[49m\u001b[43mopt\u001b[49m\u001b[43m,\u001b[49m\u001b[43m \u001b[49m\u001b[43mmethod\u001b[49m\u001b[43m)\u001b[49m\n\u001b[1;32m   6071\u001b[0m     \u001b[38;5;28;01mreturn\u001b[39;00m _keep_coeff(coeff, _factors_product(factors))\n\u001b[1;32m   6072\u001b[0m \u001b[38;5;28;01melif\u001b[39;00m \u001b[38;5;28mhasattr\u001b[39m(expr, \u001b[38;5;124m'\u001b[39m\u001b[38;5;124margs\u001b[39m\u001b[38;5;124m'\u001b[39m):\n",
      "File \u001b[0;32m~/.local/lib/python3.8/site-packages/sympy/polys/polytools.py:6035\u001b[0m, in \u001b[0;36m_symbolic_factor_list\u001b[0;34m(expr, opt, method)\u001b[0m\n\u001b[1;32m   6032\u001b[0m \u001b[38;5;28;01melse\u001b[39;00m:\n\u001b[1;32m   6033\u001b[0m     func \u001b[38;5;241m=\u001b[39m \u001b[38;5;28mgetattr\u001b[39m(poly, method \u001b[38;5;241m+\u001b[39m \u001b[38;5;124m'\u001b[39m\u001b[38;5;124m_list\u001b[39m\u001b[38;5;124m'\u001b[39m)\n\u001b[0;32m-> 6035\u001b[0m     _coeff, _factors \u001b[38;5;241m=\u001b[39m \u001b[43mfunc\u001b[49m\u001b[43m(\u001b[49m\u001b[43m)\u001b[49m\n\u001b[1;32m   6036\u001b[0m     \u001b[38;5;28;01mif\u001b[39;00m _coeff \u001b[38;5;129;01mis\u001b[39;00m \u001b[38;5;129;01mnot\u001b[39;00m S\u001b[38;5;241m.\u001b[39mOne:\n\u001b[1;32m   6037\u001b[0m         \u001b[38;5;28;01mif\u001b[39;00m exp\u001b[38;5;241m.\u001b[39mis_Integer:\n",
      "File \u001b[0;32m~/.local/lib/python3.8/site-packages/sympy/polys/polytools.py:3350\u001b[0m, in \u001b[0;36mPoly.factor_list\u001b[0;34m(f)\u001b[0m\n\u001b[1;32m   3348\u001b[0m \u001b[38;5;28;01mif\u001b[39;00m \u001b[38;5;28mhasattr\u001b[39m(f\u001b[38;5;241m.\u001b[39mrep, \u001b[38;5;124m'\u001b[39m\u001b[38;5;124mfactor_list\u001b[39m\u001b[38;5;124m'\u001b[39m):\n\u001b[1;32m   3349\u001b[0m     \u001b[38;5;28;01mtry\u001b[39;00m:\n\u001b[0;32m-> 3350\u001b[0m         coeff, factors \u001b[38;5;241m=\u001b[39m \u001b[43mf\u001b[49m\u001b[38;5;241;43m.\u001b[39;49m\u001b[43mrep\u001b[49m\u001b[38;5;241;43m.\u001b[39;49m\u001b[43mfactor_list\u001b[49m\u001b[43m(\u001b[49m\u001b[43m)\u001b[49m\n\u001b[1;32m   3351\u001b[0m     \u001b[38;5;28;01mexcept\u001b[39;00m DomainError:\n\u001b[1;32m   3352\u001b[0m         \u001b[38;5;28;01mreturn\u001b[39;00m S\u001b[38;5;241m.\u001b[39mOne, [(f, \u001b[38;5;241m1\u001b[39m)]\n",
      "File \u001b[0;32m~/.local/lib/python3.8/site-packages/sympy/polys/polyclasses.py:823\u001b[0m, in \u001b[0;36mDMP.factor_list\u001b[0;34m(f)\u001b[0m\n\u001b[1;32m    821\u001b[0m \u001b[38;5;28;01mdef\u001b[39;00m \u001b[38;5;21mfactor_list\u001b[39m(f):\n\u001b[1;32m    822\u001b[0m     \u001b[38;5;124;03m\"\"\"Returns a list of irreducible factors of ``f``. \"\"\"\u001b[39;00m\n\u001b[0;32m--> 823\u001b[0m     coeff, factors \u001b[38;5;241m=\u001b[39m \u001b[43mdmp_factor_list\u001b[49m\u001b[43m(\u001b[49m\u001b[43mf\u001b[49m\u001b[38;5;241;43m.\u001b[39;49m\u001b[43mrep\u001b[49m\u001b[43m,\u001b[49m\u001b[43m \u001b[49m\u001b[43mf\u001b[49m\u001b[38;5;241;43m.\u001b[39;49m\u001b[43mlev\u001b[49m\u001b[43m,\u001b[49m\u001b[43m \u001b[49m\u001b[43mf\u001b[49m\u001b[38;5;241;43m.\u001b[39;49m\u001b[43mdom\u001b[49m\u001b[43m)\u001b[49m\n\u001b[1;32m    824\u001b[0m     \u001b[38;5;28;01mreturn\u001b[39;00m coeff, [ (f\u001b[38;5;241m.\u001b[39mper(g), k) \u001b[38;5;28;01mfor\u001b[39;00m g, k \u001b[38;5;129;01min\u001b[39;00m factors ]\n",
      "File \u001b[0;32m~/.local/lib/python3.8/site-packages/sympy/polys/factortools.py:1423\u001b[0m, in \u001b[0;36mdmp_factor_list\u001b[0;34m(f, u, K0)\u001b[0m\n\u001b[1;32m   1421\u001b[0m \u001b[38;5;28;01mif\u001b[39;00m K\u001b[38;5;241m.\u001b[39mis_ZZ:\n\u001b[1;32m   1422\u001b[0m     levels, f, v \u001b[38;5;241m=\u001b[39m dmp_exclude(f, u, K)\n\u001b[0;32m-> 1423\u001b[0m     coeff, factors \u001b[38;5;241m=\u001b[39m \u001b[43mdmp_zz_factor\u001b[49m\u001b[43m(\u001b[49m\u001b[43mf\u001b[49m\u001b[43m,\u001b[49m\u001b[43m \u001b[49m\u001b[43mv\u001b[49m\u001b[43m,\u001b[49m\u001b[43m \u001b[49m\u001b[43mK\u001b[49m\u001b[43m)\u001b[49m\n\u001b[1;32m   1425\u001b[0m     \u001b[38;5;28;01mfor\u001b[39;00m i, (f, k) \u001b[38;5;129;01min\u001b[39;00m \u001b[38;5;28menumerate\u001b[39m(factors):\n\u001b[1;32m   1426\u001b[0m         factors[i] \u001b[38;5;241m=\u001b[39m (dmp_include(f, levels, v, K), k)\n",
      "File \u001b[0;32m~/.local/lib/python3.8/site-packages/sympy/polys/factortools.py:1159\u001b[0m, in \u001b[0;36mdmp_zz_factor\u001b[0;34m(f, u, K)\u001b[0m\n\u001b[1;32m   1156\u001b[0m factors \u001b[38;5;241m=\u001b[39m []\n\u001b[1;32m   1158\u001b[0m \u001b[38;5;28;01mif\u001b[39;00m dmp_degree(g, u) \u001b[38;5;241m>\u001b[39m \u001b[38;5;241m0\u001b[39m:\n\u001b[0;32m-> 1159\u001b[0m     g \u001b[38;5;241m=\u001b[39m \u001b[43mdmp_sqf_part\u001b[49m\u001b[43m(\u001b[49m\u001b[43mg\u001b[49m\u001b[43m,\u001b[49m\u001b[43m \u001b[49m\u001b[43mu\u001b[49m\u001b[43m,\u001b[49m\u001b[43m \u001b[49m\u001b[43mK\u001b[49m\u001b[43m)\u001b[49m\n\u001b[1;32m   1160\u001b[0m     H \u001b[38;5;241m=\u001b[39m dmp_zz_wang(g, u, K)\n\u001b[1;32m   1161\u001b[0m     factors \u001b[38;5;241m=\u001b[39m dmp_trial_division(f, H, u, K)\n",
      "File \u001b[0;32m~/.local/lib/python3.8/site-packages/sympy/polys/sqfreetools.py:256\u001b[0m, in \u001b[0;36mdmp_sqf_part\u001b[0;34m(f, u, K)\u001b[0m\n\u001b[1;32m    254\u001b[0m gcd \u001b[38;5;241m=\u001b[39m f\n\u001b[1;32m    255\u001b[0m \u001b[38;5;28;01mfor\u001b[39;00m i \u001b[38;5;129;01min\u001b[39;00m \u001b[38;5;28mrange\u001b[39m(u\u001b[38;5;241m+\u001b[39m\u001b[38;5;241m1\u001b[39m):\n\u001b[0;32m--> 256\u001b[0m     gcd \u001b[38;5;241m=\u001b[39m \u001b[43mdmp_gcd\u001b[49m\u001b[43m(\u001b[49m\u001b[43mgcd\u001b[49m\u001b[43m,\u001b[49m\u001b[43m \u001b[49m\u001b[43mdmp_diff_in\u001b[49m\u001b[43m(\u001b[49m\u001b[43mf\u001b[49m\u001b[43m,\u001b[49m\u001b[43m \u001b[49m\u001b[38;5;241;43m1\u001b[39;49m\u001b[43m,\u001b[49m\u001b[43m \u001b[49m\u001b[43mi\u001b[49m\u001b[43m,\u001b[49m\u001b[43m \u001b[49m\u001b[43mu\u001b[49m\u001b[43m,\u001b[49m\u001b[43m \u001b[49m\u001b[43mK\u001b[49m\u001b[43m)\u001b[49m\u001b[43m,\u001b[49m\u001b[43m \u001b[49m\u001b[43mu\u001b[49m\u001b[43m,\u001b[49m\u001b[43m \u001b[49m\u001b[43mK\u001b[49m\u001b[43m)\u001b[49m\n\u001b[1;32m    257\u001b[0m sqf \u001b[38;5;241m=\u001b[39m dmp_quo(f, gcd, u, K)\n\u001b[1;32m    259\u001b[0m \u001b[38;5;28;01mif\u001b[39;00m K\u001b[38;5;241m.\u001b[39mis_Field:\n",
      "File \u001b[0;32m~/.local/lib/python3.8/site-packages/sympy/polys/euclidtools.py:1625\u001b[0m, in \u001b[0;36mdmp_gcd\u001b[0;34m(f, g, u, K)\u001b[0m\n\u001b[1;32m   1608\u001b[0m \u001b[38;5;28;01mdef\u001b[39;00m \u001b[38;5;21mdmp_gcd\u001b[39m(f, g, u, K):\n\u001b[1;32m   1609\u001b[0m     \u001b[38;5;124;03m\"\"\"\u001b[39;00m\n\u001b[1;32m   1610\u001b[0m \u001b[38;5;124;03m    Computes polynomial GCD of `f` and `g` in `K[X]`.\u001b[39;00m\n\u001b[1;32m   1611\u001b[0m \n\u001b[0;32m   (...)\u001b[0m\n\u001b[1;32m   1623\u001b[0m \n\u001b[1;32m   1624\u001b[0m \u001b[38;5;124;03m    \"\"\"\u001b[39;00m\n\u001b[0;32m-> 1625\u001b[0m     \u001b[38;5;28;01mreturn\u001b[39;00m \u001b[43mdmp_inner_gcd\u001b[49m\u001b[43m(\u001b[49m\u001b[43mf\u001b[49m\u001b[43m,\u001b[49m\u001b[43m \u001b[49m\u001b[43mg\u001b[49m\u001b[43m,\u001b[49m\u001b[43m \u001b[49m\u001b[43mu\u001b[49m\u001b[43m,\u001b[49m\u001b[43m \u001b[49m\u001b[43mK\u001b[49m\u001b[43m)\u001b[49m[\u001b[38;5;241m0\u001b[39m]\n",
      "File \u001b[0;32m~/.local/lib/python3.8/site-packages/sympy/polys/euclidtools.py:1584\u001b[0m, in \u001b[0;36mdmp_inner_gcd\u001b[0;34m(f, g, u, K)\u001b[0m\n\u001b[1;32m   1581\u001b[0m     \u001b[38;5;28;01mreturn\u001b[39;00m dup_inner_gcd(f, g, K)\n\u001b[1;32m   1583\u001b[0m J, (f, g) \u001b[38;5;241m=\u001b[39m dmp_multi_deflate((f, g), u, K)\n\u001b[0;32m-> 1584\u001b[0m h, cff, cfg \u001b[38;5;241m=\u001b[39m \u001b[43m_dmp_inner_gcd\u001b[49m\u001b[43m(\u001b[49m\u001b[43mf\u001b[49m\u001b[43m,\u001b[49m\u001b[43m \u001b[49m\u001b[43mg\u001b[49m\u001b[43m,\u001b[49m\u001b[43m \u001b[49m\u001b[43mu\u001b[49m\u001b[43m,\u001b[49m\u001b[43m \u001b[49m\u001b[43mK\u001b[49m\u001b[43m)\u001b[49m\n\u001b[1;32m   1586\u001b[0m \u001b[38;5;28;01mreturn\u001b[39;00m (dmp_inflate(h, J, u, K),\n\u001b[1;32m   1587\u001b[0m         dmp_inflate(cff, J, u, K),\n\u001b[1;32m   1588\u001b[0m         dmp_inflate(cfg, J, u, K))\n",
      "File \u001b[0;32m~/.local/lib/python3.8/site-packages/sympy/polys/euclidtools.py:1553\u001b[0m, in \u001b[0;36m_dmp_inner_gcd\u001b[0;34m(f, g, u, K)\u001b[0m\n\u001b[1;32m   1551\u001b[0m \u001b[38;5;28;01mif\u001b[39;00m K\u001b[38;5;241m.\u001b[39mis_ZZ \u001b[38;5;129;01mand\u001b[39;00m query(\u001b[38;5;124m'\u001b[39m\u001b[38;5;124mUSE_HEU_GCD\u001b[39m\u001b[38;5;124m'\u001b[39m):\n\u001b[1;32m   1552\u001b[0m     \u001b[38;5;28;01mtry\u001b[39;00m:\n\u001b[0;32m-> 1553\u001b[0m         \u001b[38;5;28;01mreturn\u001b[39;00m \u001b[43mdmp_zz_heu_gcd\u001b[49m\u001b[43m(\u001b[49m\u001b[43mf\u001b[49m\u001b[43m,\u001b[49m\u001b[43m \u001b[49m\u001b[43mg\u001b[49m\u001b[43m,\u001b[49m\u001b[43m \u001b[49m\u001b[43mu\u001b[49m\u001b[43m,\u001b[49m\u001b[43m \u001b[49m\u001b[43mK\u001b[49m\u001b[43m)\u001b[49m\n\u001b[1;32m   1554\u001b[0m     \u001b[38;5;28;01mexcept\u001b[39;00m HeuristicGCDFailed:\n\u001b[1;32m   1555\u001b[0m         \u001b[38;5;28;01mpass\u001b[39;00m\n",
      "File \u001b[0;32m~/.local/lib/python3.8/site-packages/sympy/polys/euclidtools.py:1334\u001b[0m, in \u001b[0;36mdmp_zz_heu_gcd\u001b[0;34m(f, g, u, K)\u001b[0m\n\u001b[1;32m   1331\u001b[0m v \u001b[38;5;241m=\u001b[39m u \u001b[38;5;241m-\u001b[39m \u001b[38;5;241m1\u001b[39m\n\u001b[1;32m   1333\u001b[0m \u001b[38;5;28;01mif\u001b[39;00m \u001b[38;5;129;01mnot\u001b[39;00m (dmp_zero_p(ff, v) \u001b[38;5;129;01mor\u001b[39;00m dmp_zero_p(gg, v)):\n\u001b[0;32m-> 1334\u001b[0m     h, cff, cfg \u001b[38;5;241m=\u001b[39m \u001b[43mdmp_zz_heu_gcd\u001b[49m\u001b[43m(\u001b[49m\u001b[43mff\u001b[49m\u001b[43m,\u001b[49m\u001b[43m \u001b[49m\u001b[43mgg\u001b[49m\u001b[43m,\u001b[49m\u001b[43m \u001b[49m\u001b[43mv\u001b[49m\u001b[43m,\u001b[49m\u001b[43m \u001b[49m\u001b[43mK\u001b[49m\u001b[43m)\u001b[49m\n\u001b[1;32m   1336\u001b[0m     h \u001b[38;5;241m=\u001b[39m _dmp_zz_gcd_interpolate(h, x, v, K)\n\u001b[1;32m   1337\u001b[0m     h \u001b[38;5;241m=\u001b[39m dmp_ground_primitive(h, u, K)[\u001b[38;5;241m1\u001b[39m]\n",
      "File \u001b[0;32m~/.local/lib/python3.8/site-packages/sympy/polys/euclidtools.py:1334\u001b[0m, in \u001b[0;36mdmp_zz_heu_gcd\u001b[0;34m(f, g, u, K)\u001b[0m\n\u001b[1;32m   1331\u001b[0m v \u001b[38;5;241m=\u001b[39m u \u001b[38;5;241m-\u001b[39m \u001b[38;5;241m1\u001b[39m\n\u001b[1;32m   1333\u001b[0m \u001b[38;5;28;01mif\u001b[39;00m \u001b[38;5;129;01mnot\u001b[39;00m (dmp_zero_p(ff, v) \u001b[38;5;129;01mor\u001b[39;00m dmp_zero_p(gg, v)):\n\u001b[0;32m-> 1334\u001b[0m     h, cff, cfg \u001b[38;5;241m=\u001b[39m \u001b[43mdmp_zz_heu_gcd\u001b[49m\u001b[43m(\u001b[49m\u001b[43mff\u001b[49m\u001b[43m,\u001b[49m\u001b[43m \u001b[49m\u001b[43mgg\u001b[49m\u001b[43m,\u001b[49m\u001b[43m \u001b[49m\u001b[43mv\u001b[49m\u001b[43m,\u001b[49m\u001b[43m \u001b[49m\u001b[43mK\u001b[49m\u001b[43m)\u001b[49m\n\u001b[1;32m   1336\u001b[0m     h \u001b[38;5;241m=\u001b[39m _dmp_zz_gcd_interpolate(h, x, v, K)\n\u001b[1;32m   1337\u001b[0m     h \u001b[38;5;241m=\u001b[39m dmp_ground_primitive(h, u, K)[\u001b[38;5;241m1\u001b[39m]\n",
      "    \u001b[0;31m[... skipping similar frames: dmp_zz_heu_gcd at line 1334 (14 times)]\u001b[0m\n",
      "File \u001b[0;32m~/.local/lib/python3.8/site-packages/sympy/polys/euclidtools.py:1334\u001b[0m, in \u001b[0;36mdmp_zz_heu_gcd\u001b[0;34m(f, g, u, K)\u001b[0m\n\u001b[1;32m   1331\u001b[0m v \u001b[38;5;241m=\u001b[39m u \u001b[38;5;241m-\u001b[39m \u001b[38;5;241m1\u001b[39m\n\u001b[1;32m   1333\u001b[0m \u001b[38;5;28;01mif\u001b[39;00m \u001b[38;5;129;01mnot\u001b[39;00m (dmp_zero_p(ff, v) \u001b[38;5;129;01mor\u001b[39;00m dmp_zero_p(gg, v)):\n\u001b[0;32m-> 1334\u001b[0m     h, cff, cfg \u001b[38;5;241m=\u001b[39m \u001b[43mdmp_zz_heu_gcd\u001b[49m\u001b[43m(\u001b[49m\u001b[43mff\u001b[49m\u001b[43m,\u001b[49m\u001b[43m \u001b[49m\u001b[43mgg\u001b[49m\u001b[43m,\u001b[49m\u001b[43m \u001b[49m\u001b[43mv\u001b[49m\u001b[43m,\u001b[49m\u001b[43m \u001b[49m\u001b[43mK\u001b[49m\u001b[43m)\u001b[49m\n\u001b[1;32m   1336\u001b[0m     h \u001b[38;5;241m=\u001b[39m _dmp_zz_gcd_interpolate(h, x, v, K)\n\u001b[1;32m   1337\u001b[0m     h \u001b[38;5;241m=\u001b[39m dmp_ground_primitive(h, u, K)[\u001b[38;5;241m1\u001b[39m]\n",
      "File \u001b[0;32m~/.local/lib/python3.8/site-packages/sympy/polys/euclidtools.py:1316\u001b[0m, in \u001b[0;36mdmp_zz_heu_gcd\u001b[0;34m(f, g, u, K)\u001b[0m\n\u001b[1;32m   1313\u001b[0m \u001b[38;5;28;01mif\u001b[39;00m result \u001b[38;5;129;01mis\u001b[39;00m \u001b[38;5;129;01mnot\u001b[39;00m \u001b[38;5;28;01mNone\u001b[39;00m:\n\u001b[1;32m   1314\u001b[0m     \u001b[38;5;28;01mreturn\u001b[39;00m result\n\u001b[0;32m-> 1316\u001b[0m gcd, f, g \u001b[38;5;241m=\u001b[39m \u001b[43mdmp_ground_extract\u001b[49m\u001b[43m(\u001b[49m\u001b[43mf\u001b[49m\u001b[43m,\u001b[49m\u001b[43m \u001b[49m\u001b[43mg\u001b[49m\u001b[43m,\u001b[49m\u001b[43m \u001b[49m\u001b[43mu\u001b[49m\u001b[43m,\u001b[49m\u001b[43m \u001b[49m\u001b[43mK\u001b[49m\u001b[43m)\u001b[49m\n\u001b[1;32m   1318\u001b[0m f_norm \u001b[38;5;241m=\u001b[39m dmp_max_norm(f, u, K)\n\u001b[1;32m   1319\u001b[0m g_norm \u001b[38;5;241m=\u001b[39m dmp_max_norm(g, u, K)\n",
      "File \u001b[0;32m~/.local/lib/python3.8/site-packages/sympy/polys/densetools.py:768\u001b[0m, in \u001b[0;36mdmp_ground_extract\u001b[0;34m(f, g, u, K)\u001b[0m\n\u001b[1;32m    754\u001b[0m \u001b[38;5;124;03m\"\"\"\u001b[39;00m\n\u001b[1;32m    755\u001b[0m \u001b[38;5;124;03mExtract common content from a pair of polynomials in ``K[X]``.\u001b[39;00m\n\u001b[1;32m    756\u001b[0m \n\u001b[0;32m   (...)\u001b[0m\n\u001b[1;32m    765\u001b[0m \n\u001b[1;32m    766\u001b[0m \u001b[38;5;124;03m\"\"\"\u001b[39;00m\n\u001b[1;32m    767\u001b[0m fc \u001b[38;5;241m=\u001b[39m dmp_ground_content(f, u, K)\n\u001b[0;32m--> 768\u001b[0m gc \u001b[38;5;241m=\u001b[39m \u001b[43mdmp_ground_content\u001b[49m\u001b[43m(\u001b[49m\u001b[43mg\u001b[49m\u001b[43m,\u001b[49m\u001b[43m \u001b[49m\u001b[43mu\u001b[49m\u001b[43m,\u001b[49m\u001b[43m \u001b[49m\u001b[43mK\u001b[49m\u001b[43m)\u001b[49m\n\u001b[1;32m    770\u001b[0m gcd \u001b[38;5;241m=\u001b[39m K\u001b[38;5;241m.\u001b[39mgcd(fc, gc)\n\u001b[1;32m    772\u001b[0m \u001b[38;5;28;01mif\u001b[39;00m \u001b[38;5;129;01mnot\u001b[39;00m K\u001b[38;5;241m.\u001b[39mis_one(gcd):\n",
      "File \u001b[0;32m~/.local/lib/python3.8/site-packages/sympy/polys/densetools.py:650\u001b[0m, in \u001b[0;36mdmp_ground_content\u001b[0;34m(f, u, K)\u001b[0m\n\u001b[1;32m    648\u001b[0m \u001b[38;5;28;01melse\u001b[39;00m:\n\u001b[1;32m    649\u001b[0m     \u001b[38;5;28;01mfor\u001b[39;00m c \u001b[38;5;129;01min\u001b[39;00m f:\n\u001b[0;32m--> 650\u001b[0m         cont \u001b[38;5;241m=\u001b[39m K\u001b[38;5;241m.\u001b[39mgcd(cont, \u001b[43mdmp_ground_content\u001b[49m\u001b[43m(\u001b[49m\u001b[43mc\u001b[49m\u001b[43m,\u001b[49m\u001b[43m \u001b[49m\u001b[43mv\u001b[49m\u001b[43m,\u001b[49m\u001b[43m \u001b[49m\u001b[43mK\u001b[49m\u001b[43m)\u001b[49m)\n\u001b[1;32m    652\u001b[0m         \u001b[38;5;28;01mif\u001b[39;00m K\u001b[38;5;241m.\u001b[39mis_one(cont):\n\u001b[1;32m    653\u001b[0m             \u001b[38;5;28;01mbreak\u001b[39;00m\n",
      "File \u001b[0;32m~/.local/lib/python3.8/site-packages/sympy/polys/densetools.py:638\u001b[0m, in \u001b[0;36mdmp_ground_content\u001b[0;34m(f, u, K)\u001b[0m\n\u001b[1;32m    635\u001b[0m \u001b[38;5;28;01mfrom\u001b[39;00m \u001b[38;5;21;01msympy\u001b[39;00m\u001b[38;5;21;01m.\u001b[39;00m\u001b[38;5;21;01mpolys\u001b[39;00m\u001b[38;5;21;01m.\u001b[39;00m\u001b[38;5;21;01mdomains\u001b[39;00m \u001b[38;5;28;01mimport\u001b[39;00m QQ\n\u001b[1;32m    637\u001b[0m \u001b[38;5;28;01mif\u001b[39;00m \u001b[38;5;129;01mnot\u001b[39;00m u:\n\u001b[0;32m--> 638\u001b[0m     \u001b[38;5;28;01mreturn\u001b[39;00m \u001b[43mdup_content\u001b[49m\u001b[43m(\u001b[49m\u001b[43mf\u001b[49m\u001b[43m,\u001b[49m\u001b[43m \u001b[49m\u001b[43mK\u001b[49m\u001b[43m)\u001b[49m\n\u001b[1;32m    640\u001b[0m \u001b[38;5;28;01mif\u001b[39;00m dmp_zero_p(f, u):\n\u001b[1;32m    641\u001b[0m     \u001b[38;5;28;01mreturn\u001b[39;00m K\u001b[38;5;241m.\u001b[39mzero\n",
      "File \u001b[0;32m~/.local/lib/python3.8/site-packages/sympy/polys/densetools.py:605\u001b[0m, in \u001b[0;36mdup_content\u001b[0;34m(f, K)\u001b[0m\n\u001b[1;32m    603\u001b[0m \u001b[38;5;28;01melse\u001b[39;00m:\n\u001b[1;32m    604\u001b[0m     \u001b[38;5;28;01mfor\u001b[39;00m c \u001b[38;5;129;01min\u001b[39;00m f:\n\u001b[0;32m--> 605\u001b[0m         cont \u001b[38;5;241m=\u001b[39m \u001b[43mK\u001b[49m\u001b[38;5;241;43m.\u001b[39;49m\u001b[43mgcd\u001b[49m\u001b[43m(\u001b[49m\u001b[43mcont\u001b[49m\u001b[43m,\u001b[49m\u001b[43m \u001b[49m\u001b[43mc\u001b[49m\u001b[43m)\u001b[49m\n\u001b[1;32m    607\u001b[0m         \u001b[38;5;28;01mif\u001b[39;00m K\u001b[38;5;241m.\u001b[39mis_one(cont):\n\u001b[1;32m    608\u001b[0m             \u001b[38;5;28;01mbreak\u001b[39;00m\n",
      "File \u001b[0;32m~/.local/lib/python3.8/site-packages/sympy/polys/domains/integerring.py:216\u001b[0m, in \u001b[0;36mIntegerRing.gcd\u001b[0;34m(self, a, b)\u001b[0m\n\u001b[1;32m    214\u001b[0m \u001b[38;5;28;01mdef\u001b[39;00m \u001b[38;5;21mgcd\u001b[39m(\u001b[38;5;28mself\u001b[39m, a, b):\n\u001b[1;32m    215\u001b[0m     \u001b[38;5;124;03m\"\"\"Compute GCD of ``a`` and ``b``. \"\"\"\u001b[39;00m\n\u001b[0;32m--> 216\u001b[0m     \u001b[38;5;28;01mreturn\u001b[39;00m \u001b[43mgcd\u001b[49m\u001b[43m(\u001b[49m\u001b[43ma\u001b[49m\u001b[43m,\u001b[49m\u001b[43m \u001b[49m\u001b[43mb\u001b[49m\u001b[43m)\u001b[49m\n",
      "\u001b[0;31mKeyboardInterrupt\u001b[0m: "
     ]
    }
   ],
   "source": [
    "sp.simplify(eqn.subs(Ap,2).subs(Bp,2).subs(Cp,2).subs(Dp,2).subs(Ep,2).subs(Fp,2).subs(Gp,2).subs(Hp,2).subs(Ip,2).subs(Jp,2).subs(Kp,2).subs(ep,0.5))"
   ]
  },
  {
   "cell_type": "code",
   "execution_count": null,
   "id": "1544d5d6",
   "metadata": {},
   "outputs": [],
   "source": []
  },
  {
   "cell_type": "code",
   "execution_count": null,
   "id": "3df5911b",
   "metadata": {},
   "outputs": [],
   "source": []
  },
  {
   "cell_type": "code",
   "execution_count": null,
   "id": "742e6e97",
   "metadata": {},
   "outputs": [],
   "source": []
  },
  {
   "cell_type": "code",
   "execution_count": null,
   "id": "2de3f14f",
   "metadata": {},
   "outputs": [],
   "source": []
  },
  {
   "cell_type": "code",
   "execution_count": null,
   "id": "8be12ccf",
   "metadata": {},
   "outputs": [],
   "source": []
  },
  {
   "cell_type": "code",
   "execution_count": null,
   "id": "b29cf6e7",
   "metadata": {},
   "outputs": [],
   "source": []
  },
  {
   "cell_type": "code",
   "execution_count": null,
   "id": "555a8638",
   "metadata": {},
   "outputs": [],
   "source": [
    "tmp"
   ]
  },
  {
   "cell_type": "code",
   "execution_count": null,
   "id": "24cae537",
   "metadata": {},
   "outputs": [],
   "source": []
  },
  {
   "cell_type": "code",
   "execution_count": null,
   "id": "ccf3ee6d",
   "metadata": {},
   "outputs": [],
   "source": [
    "print(saltyburritop)"
   ]
  },
  {
   "cell_type": "code",
   "execution_count": null,
   "id": "df227c7c",
   "metadata": {},
   "outputs": [],
   "source": []
  },
  {
   "cell_type": "code",
   "execution_count": null,
   "id": "c0a7bbc2",
   "metadata": {},
   "outputs": [],
   "source": []
  },
  {
   "cell_type": "code",
   "execution_count": null,
   "id": "b3c7c675",
   "metadata": {},
   "outputs": [],
   "source": [
    "rhs*(ep*sp.cos(vp)+1)**4*(eq*sp.cos(vq)+1)**4"
   ]
  },
  {
   "cell_type": "code",
   "execution_count": null,
   "id": "a9ee0568",
   "metadata": {},
   "outputs": [],
   "source": []
  },
  {
   "cell_type": "code",
   "execution_count": null,
   "id": "ed8abb61",
   "metadata": {},
   "outputs": [],
   "source": []
  },
  {
   "cell_type": "code",
   "execution_count": null,
   "id": "393924b3",
   "metadata": {},
   "outputs": [],
   "source": []
  },
  {
   "cell_type": "code",
   "execution_count": null,
   "id": "56e7da4b",
   "metadata": {},
   "outputs": [],
   "source": [
    "#sp.simplify(lhs*(ep*sp.cos(vp)+1)**4*(eq*sp.cos(vq)+1)**4)"
   ]
  },
  {
   "cell_type": "code",
   "execution_count": null,
   "id": "f6490f46",
   "metadata": {},
   "outputs": [],
   "source": [
    "epcosvpp1, eqcosvqp1 = sp.symbols(\"epcosvpp1, eqcosvqp1\",real=True,positive=True)\n",
    "lhs = lhs.subs(ep*sp.cos(vp)+1,epcosvpp1).subs(eq*sp.cos(vq)+1,eqcosvqp1)\n",
    "rhs = rhs.subs(ep*sp.cos(vp)+1,epcosvpp1).subs(eq*sp.cos(vq)+1,eqcosvqp1)"
   ]
  },
  {
   "cell_type": "code",
   "execution_count": null,
   "id": "764f7916",
   "metadata": {},
   "outputs": [],
   "source": [
    "lhs"
   ]
  },
  {
   "cell_type": "code",
   "execution_count": null,
   "id": "9f123c61",
   "metadata": {},
   "outputs": [],
   "source": [
    "rhs"
   ]
  },
  {
   "cell_type": "code",
   "execution_count": null,
   "id": "53ea0732",
   "metadata": {},
   "outputs": [],
   "source": [
    "#sp.expand(lhs*epcosvpp1**4*eqcosvqp1**4)"
   ]
  },
  {
   "cell_type": "code",
   "execution_count": null,
   "id": "e396aac9",
   "metadata": {},
   "outputs": [],
   "source": [
    "#sp.expand(rhs*epcosvpp1**4*eqcosvqp1**4)"
   ]
  },
  {
   "cell_type": "code",
   "execution_count": null,
   "id": "85610a92",
   "metadata": {},
   "outputs": [],
   "source": []
  },
  {
   "cell_type": "code",
   "execution_count": null,
   "id": "fc1ceaa4",
   "metadata": {},
   "outputs": [],
   "source": []
  },
  {
   "cell_type": "code",
   "execution_count": null,
   "id": "9e2af279",
   "metadata": {},
   "outputs": [],
   "source": [
    "print(saltyburrito)"
   ]
  },
  {
   "cell_type": "code",
   "execution_count": null,
   "id": "792bae0a",
   "metadata": {},
   "outputs": [],
   "source": [
    "#tangent height point calculation\n",
    "h = (-ahat*Xp-bhat*Yp-chat*Zp)/(ahat**2+bhat**2+chat**2)\n",
    "Xh = ahat*h+Xp\n",
    "Yh = bhat*h+Yp\n",
    "Zh = chat*h+Zp"
   ]
  },
  {
   "cell_type": "code",
   "execution_count": null,
   "id": "65e98539",
   "metadata": {},
   "outputs": [],
   "source": [
    "#Note simplification yields \n",
    "#h = (-(Xq-Xp)*Xp-(Yq-Yp)*Yp-(Zq-Zp)*Zp)*PQ_norm/(((Xq-Xp)**2+(Yq-Yp)**2+(Zq-Zp)**2))\n",
    "#we can say\n",
    "h_star = (-(Xq-Xp)*Xp-(Yq-Yp)*Yp-(Zq-Zp)*Zp)/((Xq-Xp)**2+(Yq-Yp)**2+(Zq-Zp)**2)\n",
    "#Therefore\n",
    "Xh = (Xq-Xp)*h_star + Xp\n",
    "Yh = (Yq-Yp)*h_star + Yp\n",
    "Zh = (Zq-Zp)*h_star + Zp"
   ]
  },
  {
   "cell_type": "code",
   "execution_count": null,
   "id": "97f878a6",
   "metadata": {},
   "outputs": [],
   "source": []
  },
  {
   "cell_type": "code",
   "execution_count": null,
   "id": "ab94f57e",
   "metadata": {},
   "outputs": [],
   "source": [
    "len(Xh.args)"
   ]
  },
  {
   "cell_type": "code",
   "execution_count": null,
   "id": "847c68b5",
   "metadata": {},
   "outputs": [],
   "source": [
    "Xh"
   ]
  },
  {
   "cell_type": "code",
   "execution_count": null,
   "id": "5def1bc1",
   "metadata": {},
   "outputs": [],
   "source": [
    "#TODO\n",
    "#Extract 4th arg\n",
    "#extract num and denominator for 4th arg\n",
    "#multiply through ecos(vp)+1 and ecos(vq)+1 to simplify expression\n",
    "n,d = sp.fraction(Xh.args[0]) #0 index was found by checking each term"
   ]
  },
  {
   "cell_type": "code",
   "execution_count": null,
   "id": "e6d91141",
   "metadata": {},
   "outputs": [],
   "source": [
    "Xh.args[0]"
   ]
  },
  {
   "cell_type": "code",
   "execution_count": null,
   "id": "454789c0",
   "metadata": {},
   "outputs": [],
   "source": [
    "#extract denominator\n",
    "d"
   ]
  },
  {
   "cell_type": "code",
   "execution_count": null,
   "id": "0421b423",
   "metadata": {},
   "outputs": [],
   "source": [
    "len(d.args)"
   ]
  },
  {
   "cell_type": "code",
   "execution_count": null,
   "id": "ac3ea2f6",
   "metadata": {},
   "outputs": [],
   "source": [
    "Xh_d0 = sp.simplify(d.args[0]*(ep*sp.cos(vp)+1)**2*(eq*sp.cos(vq)+1)**2)"
   ]
  },
  {
   "cell_type": "code",
   "execution_count": null,
   "id": "deb45bb5",
   "metadata": {},
   "outputs": [],
   "source": [
    "Xh_d0"
   ]
  },
  {
   "cell_type": "code",
   "execution_count": null,
   "id": "01589a60",
   "metadata": {},
   "outputs": [],
   "source": [
    "Xh_d1 = sp.simplify(d.args[1]*(ep*sp.cos(vp)+1)**2*(eq*sp.cos(vq)+1)**2)"
   ]
  },
  {
   "cell_type": "code",
   "execution_count": null,
   "id": "bff82287",
   "metadata": {},
   "outputs": [],
   "source": [
    "Xh_d1"
   ]
  },
  {
   "cell_type": "code",
   "execution_count": null,
   "id": "6a91529c",
   "metadata": {},
   "outputs": [],
   "source": [
    "Xh_d2 = sp.simplify(d.args[2]*(ep*sp.cos(vp)+1)**2*(eq*sp.cos(vq)+1)**2)"
   ]
  },
  {
   "cell_type": "code",
   "execution_count": null,
   "id": "685643dc",
   "metadata": {},
   "outputs": [],
   "source": [
    "Xh_d2"
   ]
  },
  {
   "cell_type": "code",
   "execution_count": null,
   "id": "b5de5849",
   "metadata": {},
   "outputs": [],
   "source": [
    "n"
   ]
  },
  {
   "cell_type": "code",
   "execution_count": null,
   "id": "b9ab4934",
   "metadata": {},
   "outputs": [],
   "source": [
    "len(n.args)"
   ]
  },
  {
   "cell_type": "code",
   "execution_count": null,
   "id": "f62c0f5a",
   "metadata": {},
   "outputs": [],
   "source": [
    "n.args[0]"
   ]
  },
  {
   "cell_type": "code",
   "execution_count": null,
   "id": "5fc76d2a",
   "metadata": {},
   "outputs": [],
   "source": [
    "#nut, i cant believe this simplified down so nicely\n",
    "Xh_n0 = sp.simplify(n.args[0]*(ep*sp.cos(vp)+1)**2*(eq*sp.cos(vq)+1)**2)"
   ]
  },
  {
   "cell_type": "code",
   "execution_count": null,
   "id": "f3aa9509",
   "metadata": {},
   "outputs": [],
   "source": [
    "Xh_n0"
   ]
  },
  {
   "cell_type": "code",
   "execution_count": null,
   "id": "e9f8fd9f",
   "metadata": {},
   "outputs": [],
   "source": [
    "Xh_n1 = sp.simplify(n.args[1]*(ep*sp.cos(vp)+1)**2*(eq*sp.cos(vq)+1)**2)"
   ]
  },
  {
   "cell_type": "code",
   "execution_count": null,
   "id": "d19bc95c",
   "metadata": {},
   "outputs": [],
   "source": [
    "#Reconstruct Xh\n",
    "Xh_reconstructed = (Xh_n0+Xh_n1)/(Xh_d0+Xh_d1+Xh_d2) + (ep*sp.cos(vp)+1)**2*(eq*sp.cos(vq)+1)**2*Xh.args[1] + (ep*sp.cos(vp)+1)**2*(eq*sp.cos(vq)+1)**2*Xh.args[2] + (ep*sp.cos(vp)+1)**2*(eq*sp.cos(vq)+1)**2*Xh.args[3] + (ep*sp.cos(vp)+1)**2*(eq*sp.cos(vq)+1)**2*Xh.args[4]"
   ]
  },
  {
   "cell_type": "code",
   "execution_count": null,
   "id": "943956a1",
   "metadata": {},
   "outputs": [],
   "source": [
    "#Start Yh Deconstruction"
   ]
  },
  {
   "cell_type": "code",
   "execution_count": null,
   "id": "77140288",
   "metadata": {},
   "outputs": [],
   "source": [
    "len(Yh.args)"
   ]
  },
  {
   "cell_type": "code",
   "execution_count": null,
   "id": "62aed993",
   "metadata": {},
   "outputs": [],
   "source": [
    "Yh.args[0]"
   ]
  },
  {
   "cell_type": "code",
   "execution_count": null,
   "id": "f296a749",
   "metadata": {},
   "outputs": [],
   "source": [
    "n,d = sp.fraction(Yh.args[0])"
   ]
  },
  {
   "cell_type": "code",
   "execution_count": null,
   "id": "f79c167b",
   "metadata": {},
   "outputs": [],
   "source": [
    "len(n.args)"
   ]
  },
  {
   "cell_type": "code",
   "execution_count": null,
   "id": "c187aa2d",
   "metadata": {},
   "outputs": [],
   "source": [
    "Yh_n0 = sp.simplify(n.args[0]*(ep*sp.cos(vp)+1)**2*(eq*sp.cos(vq)+1)**2)"
   ]
  },
  {
   "cell_type": "code",
   "execution_count": null,
   "id": "644d875e",
   "metadata": {},
   "outputs": [],
   "source": [
    "Yh_n0"
   ]
  },
  {
   "cell_type": "code",
   "execution_count": null,
   "id": "87388d00",
   "metadata": {},
   "outputs": [],
   "source": [
    "Yh_n1 = sp.simplify(n.args[1]*(ep*sp.cos(vp)+1)**2*(eq*sp.cos(vq)+1)**2)"
   ]
  },
  {
   "cell_type": "code",
   "execution_count": null,
   "id": "6ff47f96",
   "metadata": {},
   "outputs": [],
   "source": [
    "Yh_n1"
   ]
  },
  {
   "cell_type": "code",
   "execution_count": null,
   "id": "bd7577ae",
   "metadata": {},
   "outputs": [],
   "source": [
    "len(d.args)"
   ]
  },
  {
   "cell_type": "code",
   "execution_count": null,
   "id": "e235b4ea",
   "metadata": {},
   "outputs": [],
   "source": [
    "Yh_d0 = sp.simplify(d.args[0]*(ep*sp.cos(vp)+1)**2*(eq*sp.cos(vq)+1)**2)"
   ]
  },
  {
   "cell_type": "code",
   "execution_count": null,
   "id": "784836d4",
   "metadata": {},
   "outputs": [],
   "source": [
    "Yh_d0"
   ]
  },
  {
   "cell_type": "code",
   "execution_count": null,
   "id": "4e36a70c",
   "metadata": {},
   "outputs": [],
   "source": [
    "Yh_d1 = sp.simplify(d.args[1]*(ep*sp.cos(vp)+1)**2*(eq*sp.cos(vq)+1)**2)"
   ]
  },
  {
   "cell_type": "code",
   "execution_count": null,
   "id": "4605f2d7",
   "metadata": {},
   "outputs": [],
   "source": [
    "Yh_d1"
   ]
  },
  {
   "cell_type": "code",
   "execution_count": null,
   "id": "59688e0e",
   "metadata": {},
   "outputs": [],
   "source": [
    "Yh_d2 = sp.simplify(d.args[2]*(ep*sp.cos(vp)+1)**2*(eq*sp.cos(vq)+1)**2)"
   ]
  },
  {
   "cell_type": "code",
   "execution_count": null,
   "id": "35b33f8b",
   "metadata": {},
   "outputs": [],
   "source": [
    "Yh_d2"
   ]
  },
  {
   "cell_type": "code",
   "execution_count": null,
   "id": "58b021a5",
   "metadata": {},
   "outputs": [],
   "source": [
    "#Reconstruct Yh\n",
    "Yh_reconstructed = (Yh_n0+Yh_n1)/(Yh_d0+Yh_d1+Yh_d2) + (ep*sp.cos(vp)+1)**2*(eq*sp.cos(vq)+1)**2*Yh.args[1] + (ep*sp.cos(vp)+1)**2*(eq*sp.cos(vq)+1)**2*Yh.args[2] + (ep*sp.cos(vp)+1)**2*(eq*sp.cos(vq)+1)**2*Yh.args[3] + (ep*sp.cos(vp)+1)**2*(eq*sp.cos(vq)+1)**2*Yh.args[4]"
   ]
  },
  {
   "cell_type": "code",
   "execution_count": null,
   "id": "22966cda",
   "metadata": {},
   "outputs": [],
   "source": [
    "#Start Zh Deconstruction"
   ]
  },
  {
   "cell_type": "code",
   "execution_count": null,
   "id": "da0df431",
   "metadata": {},
   "outputs": [],
   "source": [
    "len(Zh.args)"
   ]
  },
  {
   "cell_type": "code",
   "execution_count": null,
   "id": "6ef9e809",
   "metadata": {},
   "outputs": [],
   "source": [
    "Zh"
   ]
  },
  {
   "cell_type": "code",
   "execution_count": null,
   "id": "b5ae5637",
   "metadata": {},
   "outputs": [],
   "source": [
    "Zh.args[0]"
   ]
  },
  {
   "cell_type": "code",
   "execution_count": null,
   "id": "45ce366b",
   "metadata": {},
   "outputs": [],
   "source": [
    "n,d = sp.fraction(Zh.args[0])"
   ]
  },
  {
   "cell_type": "code",
   "execution_count": null,
   "id": "ba44f05d",
   "metadata": {},
   "outputs": [],
   "source": [
    "len(n.args)"
   ]
  },
  {
   "cell_type": "code",
   "execution_count": null,
   "id": "e6004dba",
   "metadata": {},
   "outputs": [],
   "source": [
    "Zh_n0 = sp.simplify(n.args[0]*(ep*sp.cos(vp)+1)**2*(eq*sp.cos(vq)+1)**2)"
   ]
  },
  {
   "cell_type": "code",
   "execution_count": null,
   "id": "9fe0e1a2",
   "metadata": {},
   "outputs": [],
   "source": [
    "Zh_n0"
   ]
  },
  {
   "cell_type": "code",
   "execution_count": null,
   "id": "9b7c7ac6",
   "metadata": {},
   "outputs": [],
   "source": [
    "Zh_n1 = sp.simplify(n.args[1]*(ep*sp.cos(vp)+1)**2*(eq*sp.cos(vq)+1)**2)"
   ]
  },
  {
   "cell_type": "code",
   "execution_count": null,
   "id": "9f23929e",
   "metadata": {},
   "outputs": [],
   "source": [
    "Zh_n1"
   ]
  },
  {
   "cell_type": "code",
   "execution_count": null,
   "id": "28c873c1",
   "metadata": {},
   "outputs": [],
   "source": [
    "len(d.args)"
   ]
  },
  {
   "cell_type": "code",
   "execution_count": null,
   "id": "6cec11c5",
   "metadata": {},
   "outputs": [],
   "source": [
    "Zh_d0 = sp.simplify(d.args[0]*(ep*sp.cos(vp)+1)**2*(eq*sp.cos(vq)+1)**2)"
   ]
  },
  {
   "cell_type": "code",
   "execution_count": null,
   "id": "3bf4f2d0",
   "metadata": {},
   "outputs": [],
   "source": [
    "Zh_d0"
   ]
  },
  {
   "cell_type": "code",
   "execution_count": null,
   "id": "c0df3874",
   "metadata": {},
   "outputs": [],
   "source": [
    "Zh_d1 = sp.simplify(d.args[1]*(ep*sp.cos(vp)+1)**2*(eq*sp.cos(vq)+1)**2)"
   ]
  },
  {
   "cell_type": "code",
   "execution_count": null,
   "id": "8647baa0",
   "metadata": {},
   "outputs": [],
   "source": [
    "Zh_d1"
   ]
  },
  {
   "cell_type": "code",
   "execution_count": null,
   "id": "2a9ebc83",
   "metadata": {},
   "outputs": [],
   "source": [
    "Zh_d2 = sp.simplify(d.args[2]*(ep*sp.cos(vp)+1)**2*(eq*sp.cos(vq)+1)**2)"
   ]
  },
  {
   "cell_type": "code",
   "execution_count": null,
   "id": "95896615",
   "metadata": {},
   "outputs": [],
   "source": [
    "Zh_d2"
   ]
  },
  {
   "cell_type": "code",
   "execution_count": null,
   "id": "c269585a",
   "metadata": {},
   "outputs": [],
   "source": [
    "#Reconstruct Zh\n",
    "Zh_reconstructed = (Zh_n0+Zh_n1)/(Zh_d0+Zh_d1+Zh_d2) + (ep*sp.cos(vp)+1)**2*(eq*sp.cos(vq)+1)**2*Zh.args[1] + (ep*sp.cos(vp)+1)**2*(eq*sp.cos(vq)+1)**2*Zh.args[2]"
   ]
  },
  {
   "cell_type": "code",
   "execution_count": null,
   "id": "4f4c8b89",
   "metadata": {},
   "outputs": [],
   "source": [
    "# Note solving for Rh is the same as solving for Rh^2 because they are both constants\n",
    "Rh_squared_reconstructed = Xh_reconstructed**2+Yh_reconstructed**2+Zh_reconstructed**2"
   ]
  },
  {
   "cell_type": "code",
   "execution_count": null,
   "id": "3a8328dc",
   "metadata": {},
   "outputs": [],
   "source": [
    "# NOTE IT LOOKS LIKE THE DENOMINATOR IN THE FRACTIONS ARE THE SAME. IT IS PROBABLY ((Xq-Xp)**2+(Yq-Yp)**2+(Zq-Zp)**2)\n",
    "#i DON'T KNOW IF I CAN ELIMINATE THAT DENOMINATOR BY MULTIPLYING THROUGH.\n",
    "#Rh_squared_reconstructed"
   ]
  },
  {
   "cell_type": "code",
   "execution_count": null,
   "id": "cea3415d",
   "metadata": {},
   "outputs": [],
   "source": [
    "#Create equation stating when Rh is Re\n",
    "Re, R = sp.symbols('R_\\oplus, R',real=True,positive=True)\n",
    "Rh = sp.sqrt(Xh**2+Yh**2+Zh**2)"
   ]
  },
  {
   "cell_type": "code",
   "execution_count": null,
   "id": "e9b159c1",
   "metadata": {},
   "outputs": [],
   "source": []
  },
  {
   "cell_type": "code",
   "execution_count": null,
   "id": "78067699",
   "metadata": {},
   "outputs": [],
   "source": [
    "# Attempt with simplified h_star variable\n",
    "h_star = sp.symbols('h_star',real=True)\n",
    "h_starEqn = (-(Xq-Xp)*Xp-(Yq-Yp)*Yp-(Zq-Zp)*Zp)/((Xq-Xp)**2+(Yq-Yp)**2+(Zq-Zp)**2)\n",
    "#Therefore\n",
    "Xh = (Xq-Xp)*h_star + Xp\n",
    "Yh = (Yq-Yp)*h_star + Yp\n",
    "Zh = (Zq-Zp)*h_star + Zp\n",
    "Rh_squared = Xh**2+Yh**2+Zh**2"
   ]
  },
  {
   "cell_type": "code",
   "execution_count": null,
   "id": "248be27d",
   "metadata": {},
   "outputs": [],
   "source": [
    "Rh_squared"
   ]
  },
  {
   "cell_type": "code",
   "execution_count": null,
   "id": "df6ce247",
   "metadata": {},
   "outputs": [],
   "source": [
    "Rh_squared_expanded = sp.expand(Rh_squared)"
   ]
  },
  {
   "cell_type": "code",
   "execution_count": null,
   "id": "9dbd9416",
   "metadata": {},
   "outputs": [],
   "source": [
    "#Rh_squared_expanded"
   ]
  },
  {
   "cell_type": "code",
   "execution_count": null,
   "id": "3d0e4c38",
   "metadata": {},
   "outputs": [],
   "source": [
    "#sp.simplify(sp.expand(Rh_squared))"
   ]
  },
  {
   "cell_type": "code",
   "execution_count": null,
   "id": "c54ddef4",
   "metadata": {},
   "outputs": [],
   "source": [
    "#sp.simplify(Rh_squared)"
   ]
  },
  {
   "cell_type": "markdown",
   "id": "d5355091",
   "metadata": {},
   "source": [
    "### Substitute xi=cos(vp) gamma=cos(vq)"
   ]
  },
  {
   "cell_type": "code",
   "execution_count": null,
   "id": "b3ec7871",
   "metadata": {},
   "outputs": [],
   "source": [
    "xi,gamma = sp.symbols('xi gamma',real=True)"
   ]
  },
  {
   "cell_type": "code",
   "execution_count": null,
   "id": "e471b66a",
   "metadata": {},
   "outputs": [],
   "source": [
    "Rh_squared_subs_chi_gamma = sp.expand(Rh_squared_expanded.subs(sp.sin(vp)**2,1-sp.cos(vp)**2).subs(sp.sin(vq)**2,1-sp.cos(vq)**2).subs(sp.sin(vp),sp.sqrt(1-sp.cos(vp)**2)).subs(sp.sin(vq),sp.sqrt(1-sp.cos(vq)**2))).subs(sp.cos(vp),xi).subs(sp.cos(vq),gamma)"
   ]
  },
  {
   "cell_type": "code",
   "execution_count": null,
   "id": "0e4746ff",
   "metadata": {},
   "outputs": [],
   "source": [
    "#Rh_squared_subs_chi_gamma"
   ]
  },
  {
   "cell_type": "code",
   "execution_count": null,
   "id": "2e0a93a0",
   "metadata": {},
   "outputs": [],
   "source": []
  },
  {
   "cell_type": "code",
   "execution_count": null,
   "id": "7c6712b9",
   "metadata": {},
   "outputs": [],
   "source": [
    "#Now I need a mechanism by which i can identify all solution subspaces, i.e. islands of equations describing the solution space.\n",
    "#once I find the individual islands of solution spaces.\n",
    "#Note: I cound find X,Y of all local maxima and minima and identifynearby saddle points, from there I could identify the close proximity local minima-maxima pairs and whether they saddle the desired Rh.\n"
   ]
  },
  {
   "cell_type": "code",
   "execution_count": null,
   "id": "2cb00389",
   "metadata": {},
   "outputs": [],
   "source": [
    "#multiply by common denominators to remove\n",
    "Rh_squared_subs_chi_gamma_commonDenoms = sp.simplify(Rh_squared_subs_chi_gamma*sp.expand((eq*gamma+1)**2)*sp.expand((ep*xi+1)**2)*sp.expand((eq*gamma+1)*(ep*xi+1)))"
   ]
  },
  {
   "cell_type": "code",
   "execution_count": null,
   "id": "4402e5dc",
   "metadata": {},
   "outputs": [],
   "source": [
    "Rh_squared_subs_chi_gamma_commonDenoms_expanded = sp.expand(Rh_squared_subs_chi_gamma_commonDenoms)"
   ]
  },
  {
   "cell_type": "code",
   "execution_count": null,
   "id": "9e0a40ff",
   "metadata": {},
   "outputs": [],
   "source": [
    "len(Rh_squared_subs_chi_gamma_commonDenoms_expanded.args)"
   ]
  },
  {
   "cell_type": "code",
   "execution_count": null,
   "id": "b0d91d9e",
   "metadata": {},
   "outputs": [],
   "source": [
    "exp0 = 0\n",
    "for i in np.arange(400):\n",
    "    exp0 = exp0 + Rh_squared_subs_chi_gamma_commonDenoms_expanded.args[i]"
   ]
  },
  {
   "cell_type": "code",
   "execution_count": null,
   "id": "76eb2c7e",
   "metadata": {},
   "outputs": [],
   "source": [
    "exp0"
   ]
  },
  {
   "cell_type": "code",
   "execution_count": null,
   "id": "26edf5a4",
   "metadata": {},
   "outputs": [],
   "source": [
    "Rh_s#quared_subs_chi_gamma_commonDenoms_expanded.args[400:800]\n",
    "exp1 = 0\n",
    "for i in np.arange(400)+400:\n",
    "    exp1 = exp1 + Rh_squared_subs_chi_gamma_commonDenoms_expanded.args[i]"
   ]
  },
  {
   "cell_type": "code",
   "execution_count": null,
   "id": "541375f2",
   "metadata": {},
   "outputs": [],
   "source": [
    "exp1"
   ]
  },
  {
   "cell_type": "code",
   "execution_count": null,
   "id": "5410c0d4",
   "metadata": {},
   "outputs": [],
   "source": [
    "Rh_squared_subs_chi_gamma_commonDenoms_expanded.args[800:1200]"
   ]
  },
  {
   "cell_type": "code",
   "execution_count": null,
   "id": "99dd04ec",
   "metadata": {},
   "outputs": [],
   "source": [
    "Rh_squared_subs_chi_gamma_commonDenoms_expanded.args[1200:]"
   ]
  },
  {
   "cell_type": "code",
   "execution_count": null,
   "id": "9d45d369",
   "metadata": {},
   "outputs": [],
   "source": [
    "#https://www.wikihow.com/Find-Extrema-of-Multivariable-Functions"
   ]
  },
  {
   "cell_type": "markdown",
   "id": "2756cada",
   "metadata": {},
   "source": [
    "# Generalizing the expression that needs to be solved"
   ]
  },
  {
   "cell_type": "code",
   "execution_count": null,
   "id": "b176e687",
   "metadata": {},
   "outputs": [],
   "source": [
    "A,B,C,D,E,F,G,H,I,J,K,L,M,N,O,P = sp.symbols('A,B,C,D,E,F,G,H,I,J,K,L,M,N,O,P',real=True)\n",
    "const = [[A,B,C,D],[E,F,G,H],[I,J,K,L],[M,N,O,P]]"
   ]
  },
  {
   "cell_type": "code",
   "execution_count": null,
   "id": "f52171d7",
   "metadata": {},
   "outputs": [],
   "source": [
    "expr = 0\n",
    "for i in np.arange(4):\n",
    "    for j in np.arange(4):\n",
    "        expr = expr + const[i][j]*x**i*y**j"
   ]
  },
  {
   "cell_type": "code",
   "execution_count": null,
   "id": "11caf26d",
   "metadata": {},
   "outputs": [],
   "source": [
    "expr"
   ]
  },
  {
   "cell_type": "code",
   "execution_count": null,
   "id": "00bb9586",
   "metadata": {},
   "outputs": [],
   "source": [
    "print(expr)"
   ]
  },
  {
   "cell_type": "code",
   "execution_count": null,
   "id": "142e4447",
   "metadata": {},
   "outputs": [],
   "source": [
    "dfdx = sp.diff(expr,x)\n",
    "dfdy = sp.diff(expr,y)"
   ]
  },
  {
   "cell_type": "code",
   "execution_count": null,
   "id": "38d58598",
   "metadata": {},
   "outputs": [],
   "source": [
    "dfdx"
   ]
  },
  {
   "cell_type": "code",
   "execution_count": null,
   "id": "94577051",
   "metadata": {},
   "outputs": [],
   "source": [
    "dfdy"
   ]
  },
  {
   "cell_type": "code",
   "execution_count": null,
   "id": "1304298e",
   "metadata": {},
   "outputs": [],
   "source": []
  }
 ],
 "metadata": {
  "kernelspec": {
   "display_name": "Python 3 (ipykernel)",
   "language": "python",
   "name": "python3"
  },
  "language_info": {
   "codemirror_mode": {
    "name": "ipython",
    "version": 3
   },
   "file_extension": ".py",
   "mimetype": "text/x-python",
   "name": "python",
   "nbconvert_exporter": "python",
   "pygments_lexer": "ipython3",
   "version": "3.8.10"
  }
 },
 "nbformat": 4,
 "nbformat_minor": 5
}
