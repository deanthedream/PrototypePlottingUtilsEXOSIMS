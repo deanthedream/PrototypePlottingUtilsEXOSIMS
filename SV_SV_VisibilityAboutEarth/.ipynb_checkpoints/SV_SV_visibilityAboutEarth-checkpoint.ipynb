{
 "cells": [
  {
   "cell_type": "code",
   "execution_count": 1,
   "id": "c3b0ec22",
   "metadata": {},
   "outputs": [],
   "source": [
    "#Experiment to analytically compute the true anomaly ranges two spacecraft with KOE can see each other\n",
    "\n",
    "import sympy as sp"
   ]
  },
  {
   "cell_type": "code",
   "execution_count": 2,
   "id": "862ba848",
   "metadata": {},
   "outputs": [],
   "source": [
    "a0,e0,i0,W0,w0,v0,x0,y0,z0 = sp.symbols(\"a_0,e_0,i_0,Omega_0,omega_0,nu_0,x_0,y_0,z_0\",real=True)\n",
    "a1,e1,i1,W1,w1,v1,x1,y1,z1 = sp.symbols(\"a_1,e_1,i_1,Omega_1,omega_1,nu_1,x_1,y_1,z_1\",real=True)\n",
    "a,e,i,W,w,v,x,y,z = sp.symbols(\"a,e,i,Omega,omega,nu,x,y,z\",real=True)"
   ]
  },
  {
   "cell_type": "code",
   "execution_count": 3,
   "id": "614d900a",
   "metadata": {},
   "outputs": [],
   "source": [
    "#XYZ\n",
    "r = a*(1-e**2)/(1+e*sp.cos(v))\n",
    "X = r*(sp.cos(W)*sp.cos(w+v)-sp.sin(W)*sp.sin(w+v)*sp.cos(i))\n",
    "Y = r*(sp.sin(W)*sp.cos(w+v)+sp.cos(W)*sp.sin(w+v)*sp.cos(i))\n",
    "Z = r*sp.sin(i)*sp.sin(w+v)"
   ]
  },
  {
   "cell_type": "code",
   "execution_count": 4,
   "id": "6af3478e",
   "metadata": {},
   "outputs": [],
   "source": [
    "#trig identities\n",
    "#a,b = sp.symbols(\"a b\",real=True)\n",
    "sinwpv = sp.sin(w)*sp.cos(v) + sp.cos(w)*sp.sin(v)\n",
    "coswpv = sp.cos(w)*sp.cos(v) - sp.sin(w)*sp.sin(v)\n",
    "sinwmv = sp.sin(w)*sp.cos(v) - sp.cos(w)*sp.sin(v)\n",
    "coswmv = sp.cos(w)*sp.cos(v) + sp.sin(w)*sp.sin(v)"
   ]
  },
  {
   "cell_type": "code",
   "execution_count": 5,
   "id": "a9b6ff79",
   "metadata": {},
   "outputs": [],
   "source": [
    "#Point P\n",
    "Xp = X.subs(sp.sin(w+v),sinwpv).subs(sp.cos(w+v),coswpv).subs(a,a0).subs(e,e0).subs(i,i0).subs(W,w0).subs(w,w0).subs(v,v0)\n",
    "Yp = Y.subs(sp.sin(w+v),sinwpv).subs(sp.cos(w+v),coswpv).subs(a,a0).subs(e,e0).subs(i,i0).subs(W,w0).subs(w,w0).subs(v,v0)\n",
    "Zp = Z.subs(sp.sin(w+v),sinwpv).subs(sp.cos(w+v),coswpv).subs(a,a0).subs(e,e0).subs(i,i0).subs(W,w0).subs(w,w0).subs(v,v0)"
   ]
  },
  {
   "cell_type": "code",
   "execution_count": 6,
   "id": "c2756e7d",
   "metadata": {},
   "outputs": [],
   "source": [
    "#Point Q\n",
    "Xq = X.subs(sp.sin(w+v),sinwpv).subs(sp.cos(w+v),coswpv).subs(a,a1).subs(e,e1).subs(i,i1).subs(W,w1).subs(w,w1).subs(v,v1)\n",
    "Yq = Y.subs(sp.sin(w+v),sinwpv).subs(sp.cos(w+v),coswpv).subs(a,a1).subs(e,e1).subs(i,i1).subs(W,w1).subs(w,w1).subs(v,v1)\n",
    "Zq = Z.subs(sp.sin(w+v),sinwpv).subs(sp.cos(w+v),coswpv).subs(a,a1).subs(e,e1).subs(i,i1).subs(W,w1).subs(w,w1).subs(v,v1)"
   ]
  },
  {
   "cell_type": "code",
   "execution_count": 7,
   "id": "375d2faf",
   "metadata": {},
   "outputs": [],
   "source": [
    "PQ_norm = sp.sqrt((Xq-Xp)**2+(Yq-Yp)**2+(Zq-Zp)**2)"
   ]
  },
  {
   "cell_type": "code",
   "execution_count": null,
   "id": "bf1da1e1",
   "metadata": {},
   "outputs": [],
   "source": [
    "#an example of how this can be simplified, separate numerator and denominator\n",
    "#sp.simplify((Xq-Xp)**2+(Yq-Yp)**2+(Zq-Zp)**2)"
   ]
  },
  {
   "cell_type": "code",
   "execution_count": null,
   "id": "e6a83d26",
   "metadata": {},
   "outputs": [],
   "source": [
    "#takes too long\n",
    "#sp.expand(PQ_norm)"
   ]
  },
  {
   "cell_type": "code",
   "execution_count": null,
   "id": "41fe17f8",
   "metadata": {},
   "outputs": [],
   "source": [
    "#Compute unit vector from P to Q terms\n",
    "ahat = (Xq-Xp)/PQ_norm\n",
    "bhat = (Yq-Yp)/PQ_norm\n",
    "chat = (Zq-Zp)/PQ_norm"
   ]
  },
  {
   "cell_type": "code",
   "execution_count": null,
   "id": "c8609af2",
   "metadata": {},
   "outputs": [],
   "source": [
    "#takes too long #sp.expand(ahat)"
   ]
  },
  {
   "cell_type": "code",
   "execution_count": null,
   "id": "ee047b0f",
   "metadata": {},
   "outputs": [],
   "source": [
    "#takes too long\n",
    "#sp.simplify(ahat)"
   ]
  },
  {
   "cell_type": "code",
   "execution_count": null,
   "id": "426b7bbe",
   "metadata": {},
   "outputs": [],
   "source": [
    "#tangent height point calculation\n",
    "h = (-ahat*Xp-bhat*Yp-chat*Zp)/(ahat**2+bhat**2+chat**2)\n",
    "Xh = ahat*h+Xp\n",
    "Yh = bhat*h+Yp\n",
    "Zh = chat*h+Zp"
   ]
  },
  {
   "cell_type": "code",
   "execution_count": null,
   "id": "d2d0f831",
   "metadata": {},
   "outputs": [],
   "source": [
    "#Create equation stating when Rh is Re\n",
    "Re, R = sp.symbols('R_\\oplus, R',real=True,positive=True)\n",
    "Rh = sp.sqrt(Xh**2+Yh**2+Zh**2) - Re"
   ]
  },
  {
   "cell_type": "code",
   "execution_count": null,
   "id": "c642d20c",
   "metadata": {},
   "outputs": [],
   "source": [
    "#"
   ]
  },
  {
   "cell_type": "code",
   "execution_count": null,
   "id": "3d5cfa49",
   "metadata": {},
   "outputs": [],
   "source": [
    "#sp.simplify(Rh.subs(a0,500).subs(a1,550).subs(e0,0.05).subs(e1,0.01).subs(i0,0.1).subs(w0,0.5).subs(w1,1.5).subs(W0,0.7).subs(W1,0.4))"
   ]
  },
  {
   "cell_type": "code",
   "execution_count": null,
   "id": "0aa51e8e",
   "metadata": {},
   "outputs": [],
   "source": []
  },
  {
   "cell_type": "code",
   "execution_count": null,
   "id": "15cbe1da",
   "metadata": {},
   "outputs": [],
   "source": []
  },
  {
   "cell_type": "code",
   "execution_count": null,
   "id": "aaf10d17",
   "metadata": {},
   "outputs": [],
   "source": [
    "print(\"tac\")"
   ]
  },
  {
   "cell_type": "markdown",
   "id": "66a5f53c",
   "metadata": {},
   "source": [
    "# REDONE but with substituting values first"
   ]
  },
  {
   "cell_type": "code",
   "execution_count": null,
   "id": "1bf872b5",
   "metadata": {},
   "outputs": [],
   "source": [
    "#Point P\n",
    "Xp = X.subs(sp.sin(w+v),sinwpv).subs(sp.cos(w+v),coswpv).subs(a,a0).subs(e,e0).subs(i,i0).subs(W,w0).subs(w,w0).subs(v,v0)\n",
    "Yp = Y.subs(sp.sin(w+v),sinwpv).subs(sp.cos(w+v),coswpv).subs(a,a0).subs(e,e0).subs(i,i0).subs(W,w0).subs(w,w0).subs(v,v0)\n",
    "Zp = Z.subs(sp.sin(w+v),sinwpv).subs(sp.cos(w+v),coswpv).subs(a,a0).subs(e,e0).subs(i,i0).subs(W,w0).subs(w,w0).subs(v,v0)"
   ]
  },
  {
   "cell_type": "code",
   "execution_count": null,
   "id": "afb17f3c",
   "metadata": {},
   "outputs": [],
   "source": [
    "#Point Q\n",
    "Xq = X.subs(sp.sin(w+v),sinwpv).subs(sp.cos(w+v),coswpv).subs(a,a1).subs(e,e1).subs(i,i1).subs(W,w1).subs(w,w1).subs(v,v1)\n",
    "Yq = Y.subs(sp.sin(w+v),sinwpv).subs(sp.cos(w+v),coswpv).subs(a,a1).subs(e,e1).subs(i,i1).subs(W,w1).subs(w,w1).subs(v,v1)\n",
    "Zq = Z.subs(sp.sin(w+v),sinwpv).subs(sp.cos(w+v),coswpv).subs(a,a1).subs(e,e1).subs(i,i1).subs(W,w1).subs(w,w1).subs(v,v1)"
   ]
  },
  {
   "cell_type": "code",
   "execution_count": null,
   "id": "c64e7934",
   "metadata": {},
   "outputs": [],
   "source": [
    "PQ_norm = sp.sqrt((Xq-Xp)**2+(Yq-Yp)**2+(Zq-Zp)**2)"
   ]
  },
  {
   "cell_type": "code",
   "execution_count": null,
   "id": "1146ee61",
   "metadata": {},
   "outputs": [],
   "source": [
    "#Compute unit vector from P to Q terms\n",
    "ahat = (Xq-Xp)/PQ_norm\n",
    "bhat = (Yq-Yp)/PQ_norm\n",
    "chat = (Zq-Zp)/PQ_norm"
   ]
  },
  {
   "cell_type": "code",
   "execution_count": null,
   "id": "04d350d4",
   "metadata": {},
   "outputs": [],
   "source": [
    "#tangent height point calculation\n",
    "h = (-ahat*Xp-bhat*Yp-chat*Zp)/(ahat**2+bhat**2+chat**2)\n",
    "Xh = ahat*h+Xp\n",
    "Yh = bhat*h+Yp\n",
    "Zh = chat*h+Zp"
   ]
  },
  {
   "cell_type": "code",
   "execution_count": null,
   "id": "26d6bf4e",
   "metadata": {},
   "outputs": [],
   "source": [
    "#Create equation stating when Rh is Re\n",
    "Re, R = sp.symbols('R_\\oplus, R',real=True,positive=True)\n",
    "Rh = sp.sqrt(Xh**2+Yh**2+Zh**2) - Re"
   ]
  },
  {
   "cell_type": "code",
   "execution_count": null,
   "id": "9b42a4dc",
   "metadata": {},
   "outputs": [],
   "source": []
  }
 ],
 "metadata": {
  "kernelspec": {
   "display_name": "Python 3 (ipykernel)",
   "language": "python",
   "name": "python3"
  },
  "language_info": {
   "codemirror_mode": {
    "name": "ipython",
    "version": 3
   },
   "file_extension": ".py",
   "mimetype": "text/x-python",
   "name": "python",
   "nbconvert_exporter": "python",
   "pygments_lexer": "ipython3",
   "version": "3.8.10"
  }
 },
 "nbformat": 4,
 "nbformat_minor": 5
}
