{
 "cells": [
  {
   "cell_type": "code",
   "execution_count": 1,
   "id": "c3b0ec22",
   "metadata": {},
   "outputs": [],
   "source": [
    "#Experiment to analytically compute the true anomaly ranges two spacecraft with KOE can see each other\n",
    "\n",
    "import sympy as sp"
   ]
  },
  {
   "cell_type": "code",
   "execution_count": 2,
   "id": "862ba848",
   "metadata": {},
   "outputs": [],
   "source": [
    "a0,e0,i0,W0,w0,v0,x0,y0,z0 = sp.symbols(\"a_0,e_0,i_0,Omega_0,omega_0,nu_0,x_0,y_0,z_0\",real=True)\n",
    "a1,e1,i1,W1,w1,v1,x1,y1,z1 = sp.symbols(\"a_1,e_1,i_1,Omega_1,omega_1,nu_1,x_1,y_1,z_1\",real=True)\n",
    "a,e,i,W,w,v,x,y,z = sp.symbols(\"a,e,i,Omega,omega,nu,x,y,z\",real=True)"
   ]
  },
  {
   "cell_type": "code",
   "execution_count": 3,
   "id": "614d900a",
   "metadata": {},
   "outputs": [],
   "source": [
    "#XYZ\n",
    "r = a*(1-e**2)/(1+e*sp.cos(v))\n",
    "X = r*(sp.cos(W)*sp.cos(w+v)-sp.sin(W)*sp.sin(w+v)*sp.cos(i))\n",
    "Y = r*(sp.sin(W)*sp.cos(w+v)+sp.cos(W)*sp.sin(w+v)*sp.cos(i))\n",
    "Z = r*sp.sin(i)*sp.sin(w+v)"
   ]
  },
  {
   "cell_type": "code",
   "execution_count": 4,
   "id": "6af3478e",
   "metadata": {},
   "outputs": [],
   "source": [
    "#trig identities\n",
    "#a,b = sp.symbols(\"a b\",real=True)\n",
    "sinwpv = sp.sin(w)*sp.cos(v) + sp.cos(w)*sp.sin(v)\n",
    "coswpv = sp.cos(w)*sp.cos(v) - sp.sin(w)*sp.sin(v)\n",
    "sinwmv = sp.sin(w)*sp.cos(v) - sp.cos(w)*sp.sin(v)\n",
    "coswmv = sp.cos(w)*sp.cos(v) + sp.sin(w)*sp.sin(v)"
   ]
  },
  {
   "cell_type": "code",
   "execution_count": 5,
   "id": "a9b6ff79",
   "metadata": {},
   "outputs": [],
   "source": [
    "#Point P\n",
    "Xp = X.subs(sp.sin(w+v),sinwpv).subs(sp.cos(w+v),coswpv).subs(a,a0).subs(e,e0).subs(i,i0).subs(W,w0).subs(w,w0).subs(v,v0)\n",
    "Yp = Y.subs(sp.sin(w+v),sinwpv).subs(sp.cos(w+v),coswpv).subs(a,a0).subs(e,e0).subs(i,i0).subs(W,w0).subs(w,w0).subs(v,v0)\n",
    "Zp = Z.subs(sp.sin(w+v),sinwpv).subs(sp.cos(w+v),coswpv).subs(a,a0).subs(e,e0).subs(i,i0).subs(W,w0).subs(w,w0).subs(v,v0)"
   ]
  },
  {
   "cell_type": "code",
   "execution_count": 6,
   "id": "c2756e7d",
   "metadata": {},
   "outputs": [],
   "source": [
    "#Point Q\n",
    "Xq = X.subs(sp.sin(w+v),sinwpv).subs(sp.cos(w+v),coswpv).subs(a,a1).subs(e,e1).subs(i,i1).subs(W,w1).subs(w,w1).subs(v,v1)\n",
    "Yq = Y.subs(sp.sin(w+v),sinwpv).subs(sp.cos(w+v),coswpv).subs(a,a1).subs(e,e1).subs(i,i1).subs(W,w1).subs(w,w1).subs(v,v1)\n",
    "Zq = Z.subs(sp.sin(w+v),sinwpv).subs(sp.cos(w+v),coswpv).subs(a,a1).subs(e,e1).subs(i,i1).subs(W,w1).subs(w,w1).subs(v,v1)"
   ]
  },
  {
   "cell_type": "code",
   "execution_count": 7,
   "id": "375d2faf",
   "metadata": {},
   "outputs": [],
   "source": [
    "PQ_norm = sp.sqrt((Xq-Xp)**2+(Yq-Yp)**2+(Zq-Zp)**2)"
   ]
  },
  {
   "cell_type": "code",
   "execution_count": 8,
   "id": "d0fb8b02",
   "metadata": {},
   "outputs": [],
   "source": [
    "#an example of how this can be simplified, separate numerator and denominator\n",
    "#sp.simplify((Xq-Xp)**2+(Yq-Yp)**2+(Zq-Zp)**2)"
   ]
  },
  {
   "cell_type": "code",
   "execution_count": 9,
   "id": "544729ab",
   "metadata": {},
   "outputs": [],
   "source": [
    "#takes too long\n",
    "#sp.expand(PQ_norm)"
   ]
  },
  {
   "cell_type": "code",
   "execution_count": 10,
   "id": "41fe17f8",
   "metadata": {},
   "outputs": [],
   "source": [
    "#Compute unit vector from P to Q terms\n",
    "ahat = (Xq-Xp)/PQ_norm\n",
    "bhat = (Yq-Yp)/PQ_norm\n",
    "chat = (Zq-Zp)/PQ_norm"
   ]
  },
  {
   "cell_type": "code",
   "execution_count": 11,
   "id": "c8609af2",
   "metadata": {},
   "outputs": [],
   "source": [
    "#takes too long #sp.expand(ahat)"
   ]
  },
  {
   "cell_type": "code",
   "execution_count": 12,
   "id": "ee047b0f",
   "metadata": {},
   "outputs": [],
   "source": [
    "#takes too long\n",
    "#sp.simplify(ahat)"
   ]
  },
  {
   "cell_type": "code",
   "execution_count": 13,
   "id": "426b7bbe",
   "metadata": {},
   "outputs": [],
   "source": [
    "#tangent height point calculation\n",
    "h = (-ahat*Xp-bhat*Yp-chat*Zp)/(ahat**2+bhat**2+chat**2)\n",
    "Xh = ahat*h+Xp\n",
    "Yh = bhat*h+Yp\n",
    "Zh = chat*h+Zp"
   ]
  },
  {
   "cell_type": "code",
   "execution_count": 14,
   "id": "d2d0f831",
   "metadata": {},
   "outputs": [],
   "source": [
    "#Create equation stating when Rh is Re\n",
    "Re, R = sp.symbols('R_\\oplus, R',real=True,positive=True)\n",
    "Rh = sp.sqrt(Xh**2+Yh**2+Zh**2) - Re"
   ]
  },
  {
   "cell_type": "code",
   "execution_count": 15,
   "id": "c642d20c",
   "metadata": {},
   "outputs": [],
   "source": [
    "#"
   ]
  },
  {
   "cell_type": "code",
   "execution_count": 16,
   "id": "3d5cfa49",
   "metadata": {},
   "outputs": [],
   "source": [
    "#sp.simplify(Rh.subs(a0,500).subs(a1,550).subs(e0,0.05).subs(e1,0.01).subs(i0,0.1).subs(w0,0.5).subs(w1,1.5).subs(W0,0.7).subs(W1,0.4))"
   ]
  },
  {
   "cell_type": "code",
   "execution_count": null,
   "id": "e931158d",
   "metadata": {},
   "outputs": [],
   "source": []
  },
  {
   "cell_type": "code",
   "execution_count": null,
   "id": "056e9ef5",
   "metadata": {},
   "outputs": [],
   "source": []
  },
  {
   "cell_type": "code",
   "execution_count": 17,
   "id": "62fcf5f9",
   "metadata": {},
   "outputs": [
    {
     "name": "stdout",
     "output_type": "stream",
     "text": [
      "tac\n"
     ]
    }
   ],
   "source": [
    "print(\"tac\")"
   ]
  },
  {
   "cell_type": "markdown",
   "id": "e7f03663",
   "metadata": {},
   "source": [
    "# REDONE but with substituting values first"
   ]
  },
  {
   "cell_type": "code",
   "execution_count": 18,
   "id": "58e1a013",
   "metadata": {},
   "outputs": [],
   "source": [
    "#Point P\n",
    "Xp = X.subs(sp.sin(w+v),sinwpv).subs(sp.cos(w+v),coswpv).subs(a,a0).subs(e,e0).subs(i,i0).subs(W,w0).subs(w,w0).subs(v,v0)\n",
    "Yp = Y.subs(sp.sin(w+v),sinwpv).subs(sp.cos(w+v),coswpv).subs(a,a0).subs(e,e0).subs(i,i0).subs(W,w0).subs(w,w0).subs(v,v0)\n",
    "Zp = Z.subs(sp.sin(w+v),sinwpv).subs(sp.cos(w+v),coswpv).subs(a,a0).subs(e,e0).subs(i,i0).subs(W,w0).subs(w,w0).subs(v,v0)\n",
    "Xp = sp.simplify(Xp.subs(w0,0.5).subs(i0,0.75).subs(a0,500).subs(e0,0.04).subs(W0,1.5))\n",
    "Yp = sp.simplify(Yp.subs(w0,0.5).subs(i0,0.75).subs(a0,500).subs(e0,0.04).subs(W0,1.5))\n",
    "Zp = sp.simplify(Zp.subs(w0,0.5).subs(i0,0.75).subs(a0,500).subs(e0,0.04).subs(W0,1.5))"
   ]
  },
  {
   "cell_type": "code",
   "execution_count": 19,
   "id": "230e3d33",
   "metadata": {},
   "outputs": [],
   "source": [
    "#Point Q\n",
    "Xq = X.subs(sp.sin(w+v),sinwpv).subs(sp.cos(w+v),coswpv).subs(a,a1).subs(e,e1).subs(i,i1).subs(W,w1).subs(w,w1).subs(v,v1)\n",
    "Yq = Y.subs(sp.sin(w+v),sinwpv).subs(sp.cos(w+v),coswpv).subs(a,a1).subs(e,e1).subs(i,i1).subs(W,w1).subs(w,w1).subs(v,v1)\n",
    "Zq = Z.subs(sp.sin(w+v),sinwpv).subs(sp.cos(w+v),coswpv).subs(a,a1).subs(e,e1).subs(i,i1).subs(W,w1).subs(w,w1).subs(v,v1)\n",
    "Xq = sp.simplify(Xq.subs(w1,1.5).subs(i1,0.15).subs(a1,550).subs(e1,0.1).subs(W1,0.1))\n",
    "Yq = sp.simplify(Yq.subs(w1,1.5).subs(i1,0.15).subs(a1,550).subs(e1,0.1).subs(W1,0.1))\n",
    "Zq = sp.simplify(Zq.subs(w1,1.5).subs(i1,0.15).subs(a1,550).subs(e1,0.1).subs(W1,0.1))"
   ]
  },
  {
   "cell_type": "code",
   "execution_count": 20,
   "id": "602d5254",
   "metadata": {},
   "outputs": [],
   "source": [
    "PQ_norm = sp.sqrt((Xq-Xp)**2+(Yq-Yp)**2+(Zq-Zp)**2)"
   ]
  },
  {
   "cell_type": "code",
   "execution_count": 21,
   "id": "dfc9bf0c",
   "metadata": {},
   "outputs": [
    {
     "data": {
      "text/latex": [
       "$\\displaystyle 679.425014528427 \\sqrt{0.00539841277544325 \\sin^{2}{\\left(\\nu_{0} \\right)} \\cos^{2}{\\left(\\nu_{1} \\right)} + 0.107968255508865 \\sin^{2}{\\left(\\nu_{0} \\right)} \\cos{\\left(\\nu_{1} \\right)} + 0.539841277544325 \\sin^{2}{\\left(\\nu_{0} \\right)} + 0.00104471512528285 \\sin{\\left(\\nu_{0} \\right)} \\sin{\\left(\\nu_{1} \\right)} \\cos{\\left(\\nu_{0} \\right)} \\cos{\\left(\\nu_{1} \\right)} + 0.0104471512528285 \\sin{\\left(\\nu_{0} \\right)} \\sin{\\left(\\nu_{1} \\right)} \\cos{\\left(\\nu_{0} \\right)} + 0.0261178781320713 \\sin{\\left(\\nu_{0} \\right)} \\sin{\\left(\\nu_{1} \\right)} \\cos{\\left(\\nu_{1} \\right)} + 0.261178781320713 \\sin{\\left(\\nu_{0} \\right)} \\sin{\\left(\\nu_{1} \\right)} - 0.004 \\sin{\\left(\\nu_{0} \\right)} \\cos{\\left(\\nu_{0} \\right)} \\cos^{2}{\\left(\\nu_{1} \\right)} - 0.04 \\sin{\\left(\\nu_{0} \\right)} \\cos{\\left(\\nu_{0} \\right)} \\cos{\\left(\\nu_{1} \\right)} - 0.1 \\sin{\\left(\\nu_{0} \\right)} \\cos^{2}{\\left(\\nu_{1} \\right)} - \\sin{\\left(\\nu_{0} \\right)} \\cos{\\left(\\nu_{1} \\right)} + 0.00102762032666793 \\sin^{2}{\\left(\\nu_{1} \\right)} \\cos^{2}{\\left(\\nu_{0} \\right)} + 0.0513810163333966 \\sin^{2}{\\left(\\nu_{1} \\right)} \\cos{\\left(\\nu_{0} \\right)} + 0.642262704167457 \\sin^{2}{\\left(\\nu_{1} \\right)} + 0.00377958509502898 \\sin{\\left(\\nu_{1} \\right)} \\cos^{2}{\\left(\\nu_{0} \\right)} \\cos{\\left(\\nu_{1} \\right)} + 0.0377958509502898 \\sin{\\left(\\nu_{1} \\right)} \\cos^{2}{\\left(\\nu_{0} \\right)} + 0.0944896273757245 \\sin{\\left(\\nu_{1} \\right)} \\cos{\\left(\\nu_{0} \\right)} \\cos{\\left(\\nu_{1} \\right)} + 0.944896273757245 \\sin{\\left(\\nu_{1} \\right)} \\cos{\\left(\\nu_{0} \\right)} - 5.55111512312578 \\cdot 10^{-17} \\sin{\\left(\\nu_{1} \\right)} \\cos{\\left(\\nu_{1} \\right)} + 0.00849056133998979 \\cos^{2}{\\left(\\nu_{0} \\right)} \\cos^{2}{\\left(\\nu_{1} \\right)} + 0.128613537887651 \\cos^{2}{\\left(\\nu_{0} \\right)} \\cos{\\left(\\nu_{1} \\right)} + 0.539841277544325 \\cos^{2}{\\left(\\nu_{0} \\right)} + 0.102994222280362 \\cos{\\left(\\nu_{0} \\right)} \\cos^{2}{\\left(\\nu_{1} \\right)} + 0.51613205946965 \\cos{\\left(\\nu_{0} \\right)} \\cos{\\left(\\nu_{1} \\right)} + 0.642262704167457 \\cos^{2}{\\left(\\nu_{1} \\right)}} \\sqrt{\\frac{1}{1.6 \\cdot 10^{-5} \\cos^{2}{\\left(\\nu_{0} \\right)} \\cos^{2}{\\left(\\nu_{1} \\right)} + 0.00032 \\cos^{2}{\\left(\\nu_{0} \\right)} \\cos{\\left(\\nu_{1} \\right)} + 0.0016 \\cos^{2}{\\left(\\nu_{0} \\right)} + 0.0008 \\cos{\\left(\\nu_{0} \\right)} \\cos^{2}{\\left(\\nu_{1} \\right)} + 0.016 \\cos{\\left(\\nu_{0} \\right)} \\cos{\\left(\\nu_{1} \\right)} + 0.08 \\cos{\\left(\\nu_{0} \\right)} + 0.01 \\cos^{2}{\\left(\\nu_{1} \\right)} + 0.2 \\cos{\\left(\\nu_{1} \\right)} + 1.0}}$"
      ],
      "text/plain": [
       "679.425014528427*sqrt(0.00539841277544325*sin(nu_0)**2*cos(nu_1)**2 + 0.107968255508865*sin(nu_0)**2*cos(nu_1) + 0.539841277544325*sin(nu_0)**2 + 0.00104471512528285*sin(nu_0)*sin(nu_1)*cos(nu_0)*cos(nu_1) + 0.0104471512528285*sin(nu_0)*sin(nu_1)*cos(nu_0) + 0.0261178781320713*sin(nu_0)*sin(nu_1)*cos(nu_1) + 0.261178781320713*sin(nu_0)*sin(nu_1) - 0.004*sin(nu_0)*cos(nu_0)*cos(nu_1)**2 - 0.04*sin(nu_0)*cos(nu_0)*cos(nu_1) - 0.1*sin(nu_0)*cos(nu_1)**2 - sin(nu_0)*cos(nu_1) + 0.00102762032666793*sin(nu_1)**2*cos(nu_0)**2 + 0.0513810163333966*sin(nu_1)**2*cos(nu_0) + 0.642262704167457*sin(nu_1)**2 + 0.00377958509502898*sin(nu_1)*cos(nu_0)**2*cos(nu_1) + 0.0377958509502898*sin(nu_1)*cos(nu_0)**2 + 0.0944896273757245*sin(nu_1)*cos(nu_0)*cos(nu_1) + 0.944896273757245*sin(nu_1)*cos(nu_0) - 5.55111512312578e-17*sin(nu_1)*cos(nu_1) + 0.00849056133998979*cos(nu_0)**2*cos(nu_1)**2 + 0.128613537887651*cos(nu_0)**2*cos(nu_1) + 0.539841277544325*cos(nu_0)**2 + 0.102994222280362*cos(nu_0)*cos(nu_1)**2 + 0.51613205946965*cos(nu_0)*cos(nu_1) + 0.642262704167457*cos(nu_1)**2)*sqrt(1/(1.6e-5*cos(nu_0)**2*cos(nu_1)**2 + 0.00032*cos(nu_0)**2*cos(nu_1) + 0.0016*cos(nu_0)**2 + 0.0008*cos(nu_0)*cos(nu_1)**2 + 0.016*cos(nu_0)*cos(nu_1) + 0.08*cos(nu_0) + 0.01*cos(nu_1)**2 + 0.2*cos(nu_1) + 1.0))"
      ]
     },
     "execution_count": 21,
     "metadata": {},
     "output_type": "execute_result"
    }
   ],
   "source": [
    "sp.expand(sp.simplify(PQ_norm))"
   ]
  },
  {
   "cell_type": "code",
   "execution_count": 22,
   "id": "48c6c2a0",
   "metadata": {},
   "outputs": [],
   "source": [
    "#Compute unit vector from P to Q terms\n",
    "ahat = (Xq-Xp)/PQ_norm\n",
    "bhat = (Yq-Yp)/PQ_norm\n",
    "chat = (Zq-Zp)/PQ_norm"
   ]
  },
  {
   "cell_type": "code",
   "execution_count": 23,
   "id": "327daa0e",
   "metadata": {},
   "outputs": [],
   "source": [
    "#tangent height point calculation\n",
    "h = (-ahat*Xp-bhat*Yp-chat*Zp)/(ahat**2+bhat**2+chat**2)\n",
    "Xh = ahat*h+Xp\n",
    "Yh = bhat*h+Yp\n",
    "Zh = chat*h+Zp"
   ]
  },
  {
   "cell_type": "code",
   "execution_count": 24,
   "id": "3af5bcf4",
   "metadata": {},
   "outputs": [],
   "source": [
    "#Create equation stating when Rh is Re\n",
    "Re, R = sp.symbols('R_\\oplus, R',real=True,positive=True)\n",
    "Rh = sp.sqrt(Xh**2+Yh**2+Zh**2) - Re"
   ]
  },
  {
   "cell_type": "markdown",
   "id": "29092b92",
   "metadata": {},
   "source": [
    "# REDONE but with Constants"
   ]
  },
  {
   "cell_type": "code",
   "execution_count": 25,
   "id": "887e752e",
   "metadata": {},
   "outputs": [],
   "source": [
    "#Point P\n",
    "Xp = X.subs(sp.sin(w+v),sinwpv).subs(sp.cos(w+v),coswpv)#.subs(a,a0).subs(e,e0).subs(i,i0).subs(W,w0).subs(w,w0).subs(v,v0)\n",
    "Yp = Y.subs(sp.sin(w+v),sinwpv).subs(sp.cos(w+v),coswpv)#.subs(a,a0).subs(e,e0).subs(i,i0).subs(W,w0).subs(w,w0).subs(v,v0)\n",
    "Zp = Z.subs(sp.sin(w+v),sinwpv).subs(sp.cos(w+v),coswpv)#.subs(a,a0).subs(e,e0).subs(i,i0).subs(W,w0).subs(w,w0).subs(v,v0)\n",
    "#Xp = sp.simplify(Xp.subs(w0,0.5).subs(i0,0.75).subs(a0,500).subs(e0,0.04).subs(W0,1.5))\n",
    "#Yp = sp.simplify(Yp.subs(w0,0.5).subs(i0,0.75).subs(a0,500).subs(e0,0.04).subs(W0,1.5))\n",
    "#Zp = sp.simplify(Zp.subs(w0,0.5).subs(i0,0.75).subs(a0,500).subs(e0,0.04).subs(W0,1.5))"
   ]
  },
  {
   "cell_type": "code",
   "execution_count": 26,
   "id": "245af619",
   "metadata": {},
   "outputs": [
    {
     "data": {
      "text/latex": [
       "$\\displaystyle \\frac{a \\left(1 - e^{2}\\right) \\left(\\left(- \\sin{\\left(\\nu \\right)} \\sin{\\left(\\omega \\right)} + \\cos{\\left(\\nu \\right)} \\cos{\\left(\\omega \\right)}\\right) \\cos{\\left(\\Omega \\right)} - \\left(\\sin{\\left(\\nu \\right)} \\cos{\\left(\\omega \\right)} + \\sin{\\left(\\omega \\right)} \\cos{\\left(\\nu \\right)}\\right) \\sin{\\left(\\Omega \\right)} \\cos{\\left(i \\right)}\\right)}{e \\cos{\\left(\\nu \\right)} + 1}$"
      ],
      "text/plain": [
       "a*(1 - e**2)*((-sin(nu)*sin(omega) + cos(nu)*cos(omega))*cos(Omega) - (sin(nu)*cos(omega) + sin(omega)*cos(nu))*sin(Omega)*cos(i))/(e*cos(nu) + 1)"
      ]
     },
     "execution_count": 26,
     "metadata": {},
     "output_type": "execute_result"
    }
   ],
   "source": [
    "Xp"
   ]
  },
  {
   "cell_type": "code",
   "execution_count": 27,
   "id": "b013ab2c",
   "metadata": {},
   "outputs": [],
   "source": [
    "A = sp.symbols('A',real=True,positive=True) #The replacement for a(1-e^2)\n",
    "Xp = Xp.subs(a*(1-e**2),A)"
   ]
  },
  {
   "cell_type": "code",
   "execution_count": 28,
   "id": "ec18605e",
   "metadata": {},
   "outputs": [
    {
     "data": {
      "text/latex": [
       "$\\displaystyle \\frac{A \\left(\\left(- \\sin{\\left(\\nu \\right)} \\sin{\\left(\\omega \\right)} + \\cos{\\left(\\nu \\right)} \\cos{\\left(\\omega \\right)}\\right) \\cos{\\left(\\Omega \\right)} - \\left(\\sin{\\left(\\nu \\right)} \\cos{\\left(\\omega \\right)} + \\sin{\\left(\\omega \\right)} \\cos{\\left(\\nu \\right)}\\right) \\sin{\\left(\\Omega \\right)} \\cos{\\left(i \\right)}\\right)}{e \\cos{\\left(\\nu \\right)} + 1}$"
      ],
      "text/plain": [
       "A*((-sin(nu)*sin(omega) + cos(nu)*cos(omega))*cos(Omega) - (sin(nu)*cos(omega) + sin(omega)*cos(nu))*sin(Omega)*cos(i))/(e*cos(nu) + 1)"
      ]
     },
     "execution_count": 28,
     "metadata": {},
     "output_type": "execute_result"
    }
   ],
   "source": [
    "Xp"
   ]
  },
  {
   "cell_type": "code",
   "execution_count": 29,
   "id": "757e3c47",
   "metadata": {},
   "outputs": [
    {
     "data": {
      "text/latex": [
       "$\\displaystyle - \\frac{A \\sin{\\left(\\Omega \\right)} \\sin{\\left(\\nu \\right)} \\cos{\\left(i \\right)} \\cos{\\left(\\omega \\right)}}{e \\cos{\\left(\\nu \\right)} + 1} - \\frac{A \\sin{\\left(\\Omega \\right)} \\sin{\\left(\\omega \\right)} \\cos{\\left(i \\right)} \\cos{\\left(\\nu \\right)}}{e \\cos{\\left(\\nu \\right)} + 1} - \\frac{A \\sin{\\left(\\nu \\right)} \\sin{\\left(\\omega \\right)} \\cos{\\left(\\Omega \\right)}}{e \\cos{\\left(\\nu \\right)} + 1} + \\frac{A \\cos{\\left(\\Omega \\right)} \\cos{\\left(\\nu \\right)} \\cos{\\left(\\omega \\right)}}{e \\cos{\\left(\\nu \\right)} + 1}$"
      ],
      "text/plain": [
       "-A*sin(Omega)*sin(nu)*cos(i)*cos(omega)/(e*cos(nu) + 1) - A*sin(Omega)*sin(omega)*cos(i)*cos(nu)/(e*cos(nu) + 1) - A*sin(nu)*sin(omega)*cos(Omega)/(e*cos(nu) + 1) + A*cos(Omega)*cos(nu)*cos(omega)/(e*cos(nu) + 1)"
      ]
     },
     "execution_count": 29,
     "metadata": {},
     "output_type": "execute_result"
    }
   ],
   "source": [
    "sp.expand(Xp)"
   ]
  },
  {
   "cell_type": "code",
   "execution_count": 30,
   "id": "ce3c5db1",
   "metadata": {},
   "outputs": [],
   "source": [
    "B,C,D,E = sp.symbols('B,C,D,E',real=True) #replacements for coefficients in above"
   ]
  },
  {
   "cell_type": "code",
   "execution_count": 31,
   "id": "72c3901b",
   "metadata": {},
   "outputs": [],
   "source": [
    "X0 = sp.expand(Xp).subs(sp.sin(W)*sp.cos(i)*sp.cos(w),B).subs(sp.sin(W)*sp.sin(w)*sp.cos(i),C).subs(sp.sin(w)*sp.cos(W),D).subs(sp.cos(W)*sp.cos(w),E)"
   ]
  },
  {
   "cell_type": "code",
   "execution_count": 32,
   "id": "a15f7fee",
   "metadata": {},
   "outputs": [
    {
     "data": {
      "text/latex": [
       "$\\displaystyle - \\frac{A B \\sin{\\left(\\nu \\right)}}{e \\cos{\\left(\\nu \\right)} + 1} - \\frac{A C \\cos{\\left(\\nu \\right)}}{e \\cos{\\left(\\nu \\right)} + 1} - \\frac{A D \\sin{\\left(\\nu \\right)}}{e \\cos{\\left(\\nu \\right)} + 1} + \\frac{A E \\cos{\\left(\\nu \\right)}}{e \\cos{\\left(\\nu \\right)} + 1}$"
      ],
      "text/plain": [
       "-A*B*sin(nu)/(e*cos(nu) + 1) - A*C*cos(nu)/(e*cos(nu) + 1) - A*D*sin(nu)/(e*cos(nu) + 1) + A*E*cos(nu)/(e*cos(nu) + 1)"
      ]
     },
     "execution_count": 32,
     "metadata": {},
     "output_type": "execute_result"
    }
   ],
   "source": [
    "X0"
   ]
  },
  {
   "cell_type": "code",
   "execution_count": 33,
   "id": "6a5ca8e5",
   "metadata": {},
   "outputs": [],
   "source": [
    "F,G,H,I = sp.symbols('F,G,H,I',real=True)"
   ]
  },
  {
   "cell_type": "code",
   "execution_count": 34,
   "id": "f4251bee",
   "metadata": {},
   "outputs": [
    {
     "data": {
      "text/latex": [
       "$\\displaystyle \\frac{A D \\cos{\\left(i \\right)} \\cos{\\left(\\nu \\right)}}{e \\cos{\\left(\\nu \\right)} + 1} + \\frac{A E \\sin{\\left(\\nu \\right)} \\cos{\\left(i \\right)}}{e \\cos{\\left(\\nu \\right)} + 1} - \\frac{A \\sin{\\left(\\Omega \\right)} \\sin{\\left(\\nu \\right)} \\sin{\\left(\\omega \\right)}}{e \\cos{\\left(\\nu \\right)} + 1} + \\frac{A \\sin{\\left(\\Omega \\right)} \\cos{\\left(\\nu \\right)} \\cos{\\left(\\omega \\right)}}{e \\cos{\\left(\\nu \\right)} + 1}$"
      ],
      "text/plain": [
       "A*D*cos(i)*cos(nu)/(e*cos(nu) + 1) + A*E*sin(nu)*cos(i)/(e*cos(nu) + 1) - A*sin(Omega)*sin(nu)*sin(omega)/(e*cos(nu) + 1) + A*sin(Omega)*cos(nu)*cos(omega)/(e*cos(nu) + 1)"
      ]
     },
     "execution_count": 34,
     "metadata": {},
     "output_type": "execute_result"
    }
   ],
   "source": [
    "sp.expand(Yp.subs(a*(1-e**2),A)).subs(sp.sin(W)*sp.cos(i)*sp.cos(w),B).subs(sp.sin(W)*sp.sin(w)*sp.cos(i),C).subs(sp.sin(w)*sp.cos(W),D).subs(sp.cos(W)*sp.cos(w),E)"
   ]
  },
  {
   "cell_type": "code",
   "execution_count": 35,
   "id": "e723fd87",
   "metadata": {},
   "outputs": [],
   "source": [
    "Y0 = sp.expand(Yp.subs(a*(1-e**2),A)).subs(sp.sin(W)*sp.sin(w),F).subs(sp.sin(W)*sp.cos(w),G).subs(sp.cos(W)*sp.cos(i)*sp.cos(w),H).subs(sp.sin(w)*sp.cos(W)*sp.cos(i),I)"
   ]
  },
  {
   "cell_type": "code",
   "execution_count": 36,
   "id": "276c6ddd",
   "metadata": {},
   "outputs": [
    {
     "data": {
      "text/latex": [
       "$\\displaystyle - \\frac{A F \\sin{\\left(\\nu \\right)}}{e \\cos{\\left(\\nu \\right)} + 1} + \\frac{A G \\cos{\\left(\\nu \\right)}}{e \\cos{\\left(\\nu \\right)} + 1} + \\frac{A H \\sin{\\left(\\nu \\right)}}{e \\cos{\\left(\\nu \\right)} + 1} + \\frac{A I \\cos{\\left(\\nu \\right)}}{e \\cos{\\left(\\nu \\right)} + 1}$"
      ],
      "text/plain": [
       "-A*F*sin(nu)/(e*cos(nu) + 1) + A*G*cos(nu)/(e*cos(nu) + 1) + A*H*sin(nu)/(e*cos(nu) + 1) + A*I*cos(nu)/(e*cos(nu) + 1)"
      ]
     },
     "execution_count": 36,
     "metadata": {},
     "output_type": "execute_result"
    }
   ],
   "source": [
    "Y0"
   ]
  },
  {
   "cell_type": "code",
   "execution_count": 37,
   "id": "5e02a41a",
   "metadata": {},
   "outputs": [
    {
     "data": {
      "text/latex": [
       "$\\displaystyle \\frac{a \\left(1 - e^{2}\\right) \\left(\\sin{\\left(\\nu \\right)} \\cos{\\left(\\omega \\right)} + \\sin{\\left(\\omega \\right)} \\cos{\\left(\\nu \\right)}\\right) \\sin{\\left(i \\right)}}{e \\cos{\\left(\\nu \\right)} + 1}$"
      ],
      "text/plain": [
       "a*(1 - e**2)*(sin(nu)*cos(omega) + sin(omega)*cos(nu))*sin(i)/(e*cos(nu) + 1)"
      ]
     },
     "execution_count": 37,
     "metadata": {},
     "output_type": "execute_result"
    }
   ],
   "source": [
    "Zp"
   ]
  },
  {
   "cell_type": "code",
   "execution_count": 38,
   "id": "f5ff7e65",
   "metadata": {},
   "outputs": [],
   "source": [
    "J,K= sp.symbols('J,K',real=True)"
   ]
  },
  {
   "cell_type": "code",
   "execution_count": 39,
   "id": "ec72e118",
   "metadata": {},
   "outputs": [],
   "source": [
    "Z0 = sp.expand(Zp.subs(a*(1-e**2),A)).subs(sp.sin(i)*sp.cos(w),J).subs(sp.sin(i)*sp.sin(w),K)"
   ]
  },
  {
   "cell_type": "code",
   "execution_count": 40,
   "id": "e359a5da",
   "metadata": {},
   "outputs": [],
   "source": [
    "#### The new XYZ"
   ]
  },
  {
   "cell_type": "code",
   "execution_count": 41,
   "id": "8c568ef7",
   "metadata": {},
   "outputs": [],
   "source": [
    "Ap,Bp,Cp,Dp,Ep,Fp,Gp,Hp,Ip,Jp,Kp = sp.symbols('A_p,B_p,C_p,D_p,E_p,F_p,G_p,H_p,I_p,J_p,K_p',real=True)\n",
    "Aq,Bq,Cq,Dq,Eq,Fq,Gq,Hq,Iq,Jq,Kq = sp.symbols('A_q,B_q,C_q,D_q,E_q,F_q,G_q,H_q,I_q,J_q,K_q',real=True)\n",
    "vq, vp, ep, eq = sp.symbols('nu_q, nu_p, e_p, e_q',real=True)"
   ]
  },
  {
   "cell_type": "code",
   "execution_count": 42,
   "id": "539b00a7",
   "metadata": {},
   "outputs": [],
   "source": [
    "Xp = X0.subs(A,Ap).subs(B,Bp).subs(C,Cp).subs(D,Dp).subs(E,Ep).subs(F,Fp).subs(G,Gp).subs(H,Hp).subs(I,Ip).subs(J,Jp).subs(K,Kp).subs(v,vp).subs(e,ep)"
   ]
  },
  {
   "cell_type": "code",
   "execution_count": 43,
   "id": "5db5b0ff",
   "metadata": {},
   "outputs": [],
   "source": [
    "Yp = Y0.subs(A,Ap).subs(B,Bp).subs(C,Cp).subs(D,Dp).subs(E,Ep).subs(F,Fp).subs(G,Gp).subs(H,Hp).subs(I,Ip).subs(J,Jp).subs(K,Kp).subs(v,vp).subs(e,ep)"
   ]
  },
  {
   "cell_type": "code",
   "execution_count": 44,
   "id": "36724ddc",
   "metadata": {},
   "outputs": [],
   "source": [
    "Zp = Z0.subs(A,Ap).subs(B,Bp).subs(C,Cp).subs(D,Dp).subs(E,Ep).subs(F,Fp).subs(G,Gp).subs(H,Hp).subs(I,Ip).subs(J,Jp).subs(K,Kp).subs(v,vp).subs(e,ep)"
   ]
  },
  {
   "cell_type": "code",
   "execution_count": 45,
   "id": "2227ea8e",
   "metadata": {},
   "outputs": [
    {
     "data": {
      "text/latex": [
       "$\\displaystyle - \\frac{A B \\sin{\\left(\\nu \\right)}}{e \\cos{\\left(\\nu \\right)} + 1} - \\frac{A C \\cos{\\left(\\nu \\right)}}{e \\cos{\\left(\\nu \\right)} + 1} - \\frac{A D \\sin{\\left(\\nu \\right)}}{e \\cos{\\left(\\nu \\right)} + 1} + \\frac{A E \\cos{\\left(\\nu \\right)}}{e \\cos{\\left(\\nu \\right)} + 1}$"
      ],
      "text/plain": [
       "-A*B*sin(nu)/(e*cos(nu) + 1) - A*C*cos(nu)/(e*cos(nu) + 1) - A*D*sin(nu)/(e*cos(nu) + 1) + A*E*cos(nu)/(e*cos(nu) + 1)"
      ]
     },
     "execution_count": 45,
     "metadata": {},
     "output_type": "execute_result"
    }
   ],
   "source": [
    "X0"
   ]
  },
  {
   "cell_type": "code",
   "execution_count": 46,
   "id": "763d907b",
   "metadata": {},
   "outputs": [],
   "source": [
    "Xq = X0.subs(A,Aq).subs(B,Bq).subs(C,Cq).subs(D,Dq).subs(E,Eq).subs(F,Fq).subs(G,Gq).subs(H,Hq).subs(I,Iq).subs(J,Jq).subs(K,Kq).subs(v,vq).subs(e,eq)"
   ]
  },
  {
   "cell_type": "code",
   "execution_count": 47,
   "id": "2ad17fc4",
   "metadata": {},
   "outputs": [],
   "source": [
    "Yq = Y0.subs(A,Aq).subs(B,Bq).subs(C,Cq).subs(D,Dq).subs(E,Eq).subs(F,Fq).subs(G,Gq).subs(H,Hq).subs(I,Iq).subs(J,Jq).subs(K,Kq).subs(v,vq).subs(e,eq)"
   ]
  },
  {
   "cell_type": "code",
   "execution_count": 48,
   "id": "c803864c",
   "metadata": {},
   "outputs": [],
   "source": [
    "Zq = Z0.subs(A,Aq).subs(B,Bq).subs(C,Cq).subs(D,Dq).subs(E,Eq).subs(F,Fq).subs(G,Gq).subs(H,Hq).subs(I,Iq).subs(J,Jq).subs(K,Kq).subs(v,vq).subs(e,eq)"
   ]
  },
  {
   "cell_type": "code",
   "execution_count": 49,
   "id": "135c36cf",
   "metadata": {},
   "outputs": [],
   "source": [
    "PQ_norm = sp.sqrt((Xq-Xp)**2+(Yq-Yp)**2+(Zq-Zp)**2)"
   ]
  },
  {
   "cell_type": "code",
   "execution_count": 50,
   "id": "8455f0b0",
   "metadata": {},
   "outputs": [
    {
     "data": {
      "text/latex": [
       "$\\displaystyle - \\frac{A_{q} B_{q} \\sin{\\left(\\nu_{q} \\right)}}{e_{q} \\cos{\\left(\\nu_{q} \\right)} + 1} - \\frac{A_{q} C_{q} \\cos{\\left(\\nu_{q} \\right)}}{e_{q} \\cos{\\left(\\nu_{q} \\right)} + 1} - \\frac{A_{q} D_{q} \\sin{\\left(\\nu_{q} \\right)}}{e_{q} \\cos{\\left(\\nu_{q} \\right)} + 1} + \\frac{A_{q} E_{q} \\cos{\\left(\\nu_{q} \\right)}}{e_{q} \\cos{\\left(\\nu_{q} \\right)} + 1}$"
      ],
      "text/plain": [
       "-A_q*B_q*sin(nu_q)/(e_q*cos(nu_q) + 1) - A_q*C_q*cos(nu_q)/(e_q*cos(nu_q) + 1) - A_q*D_q*sin(nu_q)/(e_q*cos(nu_q) + 1) + A_q*E_q*cos(nu_q)/(e_q*cos(nu_q) + 1)"
      ]
     },
     "execution_count": 50,
     "metadata": {},
     "output_type": "execute_result"
    }
   ],
   "source": [
    "Xq"
   ]
  },
  {
   "cell_type": "code",
   "execution_count": 51,
   "id": "f3cdaaca",
   "metadata": {},
   "outputs": [
    {
     "data": {
      "text/latex": [
       "$\\displaystyle \\sqrt{\\left(- \\frac{A_{p} J_{p} \\sin{\\left(\\nu_{p} \\right)}}{e_{p} \\cos{\\left(\\nu_{p} \\right)} + 1} - \\frac{A_{p} K_{p} \\cos{\\left(\\nu_{p} \\right)}}{e_{p} \\cos{\\left(\\nu_{p} \\right)} + 1} + \\frac{A_{q} J_{q} \\sin{\\left(\\nu_{q} \\right)}}{e_{q} \\cos{\\left(\\nu_{q} \\right)} + 1} + \\frac{A_{q} K_{q} \\cos{\\left(\\nu_{q} \\right)}}{e_{q} \\cos{\\left(\\nu_{q} \\right)} + 1}\\right)^{2} + \\left(\\frac{A_{p} B_{p} \\sin{\\left(\\nu_{p} \\right)}}{e_{p} \\cos{\\left(\\nu_{p} \\right)} + 1} + \\frac{A_{p} C_{p} \\cos{\\left(\\nu_{p} \\right)}}{e_{p} \\cos{\\left(\\nu_{p} \\right)} + 1} + \\frac{A_{p} D_{p} \\sin{\\left(\\nu_{p} \\right)}}{e_{p} \\cos{\\left(\\nu_{p} \\right)} + 1} - \\frac{A_{p} E_{p} \\cos{\\left(\\nu_{p} \\right)}}{e_{p} \\cos{\\left(\\nu_{p} \\right)} + 1} - \\frac{A_{q} B_{q} \\sin{\\left(\\nu_{q} \\right)}}{e_{q} \\cos{\\left(\\nu_{q} \\right)} + 1} - \\frac{A_{q} C_{q} \\cos{\\left(\\nu_{q} \\right)}}{e_{q} \\cos{\\left(\\nu_{q} \\right)} + 1} - \\frac{A_{q} D_{q} \\sin{\\left(\\nu_{q} \\right)}}{e_{q} \\cos{\\left(\\nu_{q} \\right)} + 1} + \\frac{A_{q} E_{q} \\cos{\\left(\\nu_{q} \\right)}}{e_{q} \\cos{\\left(\\nu_{q} \\right)} + 1}\\right)^{2} + \\left(\\frac{A_{p} F_{p} \\sin{\\left(\\nu_{p} \\right)}}{e_{p} \\cos{\\left(\\nu_{p} \\right)} + 1} - \\frac{A_{p} G_{p} \\cos{\\left(\\nu_{p} \\right)}}{e_{p} \\cos{\\left(\\nu_{p} \\right)} + 1} - \\frac{A_{p} H_{p} \\sin{\\left(\\nu_{p} \\right)}}{e_{p} \\cos{\\left(\\nu_{p} \\right)} + 1} - \\frac{A_{p} I_{p} \\cos{\\left(\\nu_{p} \\right)}}{e_{p} \\cos{\\left(\\nu_{p} \\right)} + 1} - \\frac{A_{q} F_{q} \\sin{\\left(\\nu_{q} \\right)}}{e_{q} \\cos{\\left(\\nu_{q} \\right)} + 1} + \\frac{A_{q} G_{q} \\cos{\\left(\\nu_{q} \\right)}}{e_{q} \\cos{\\left(\\nu_{q} \\right)} + 1} + \\frac{A_{q} H_{q} \\sin{\\left(\\nu_{q} \\right)}}{e_{q} \\cos{\\left(\\nu_{q} \\right)} + 1} + \\frac{A_{q} I_{q} \\cos{\\left(\\nu_{q} \\right)}}{e_{q} \\cos{\\left(\\nu_{q} \\right)} + 1}\\right)^{2}}$"
      ],
      "text/plain": [
       "sqrt((-A_p*J_p*sin(nu_p)/(e_p*cos(nu_p) + 1) - A_p*K_p*cos(nu_p)/(e_p*cos(nu_p) + 1) + A_q*J_q*sin(nu_q)/(e_q*cos(nu_q) + 1) + A_q*K_q*cos(nu_q)/(e_q*cos(nu_q) + 1))**2 + (A_p*B_p*sin(nu_p)/(e_p*cos(nu_p) + 1) + A_p*C_p*cos(nu_p)/(e_p*cos(nu_p) + 1) + A_p*D_p*sin(nu_p)/(e_p*cos(nu_p) + 1) - A_p*E_p*cos(nu_p)/(e_p*cos(nu_p) + 1) - A_q*B_q*sin(nu_q)/(e_q*cos(nu_q) + 1) - A_q*C_q*cos(nu_q)/(e_q*cos(nu_q) + 1) - A_q*D_q*sin(nu_q)/(e_q*cos(nu_q) + 1) + A_q*E_q*cos(nu_q)/(e_q*cos(nu_q) + 1))**2 + (A_p*F_p*sin(nu_p)/(e_p*cos(nu_p) + 1) - A_p*G_p*cos(nu_p)/(e_p*cos(nu_p) + 1) - A_p*H_p*sin(nu_p)/(e_p*cos(nu_p) + 1) - A_p*I_p*cos(nu_p)/(e_p*cos(nu_p) + 1) - A_q*F_q*sin(nu_q)/(e_q*cos(nu_q) + 1) + A_q*G_q*cos(nu_q)/(e_q*cos(nu_q) + 1) + A_q*H_q*sin(nu_q)/(e_q*cos(nu_q) + 1) + A_q*I_q*cos(nu_q)/(e_q*cos(nu_q) + 1))**2)"
      ]
     },
     "execution_count": 51,
     "metadata": {},
     "output_type": "execute_result"
    }
   ],
   "source": [
    "PQ_norm"
   ]
  },
  {
   "cell_type": "code",
   "execution_count": 52,
   "id": "210fb2c1",
   "metadata": {},
   "outputs": [],
   "source": [
    "#Compute unit vector from P to Q terms\n",
    "ahat = (Xq-Xp)/PQ_norm\n",
    "bhat = (Yq-Yp)/PQ_norm\n",
    "chat = (Zq-Zp)/PQ_norm"
   ]
  },
  {
   "cell_type": "code",
   "execution_count": 53,
   "id": "9b0beac1",
   "metadata": {},
   "outputs": [
    {
     "data": {
      "text/latex": [
       "$\\displaystyle \\frac{A_{p} B_{p} \\sin{\\left(\\nu_{p} \\right)}}{e_{p} \\cos{\\left(\\nu_{p} \\right)} + 1} + \\frac{A_{p} C_{p} \\cos{\\left(\\nu_{p} \\right)}}{e_{p} \\cos{\\left(\\nu_{p} \\right)} + 1} + \\frac{A_{p} D_{p} \\sin{\\left(\\nu_{p} \\right)}}{e_{p} \\cos{\\left(\\nu_{p} \\right)} + 1} - \\frac{A_{p} E_{p} \\cos{\\left(\\nu_{p} \\right)}}{e_{p} \\cos{\\left(\\nu_{p} \\right)} + 1} - \\frac{A_{q} B_{q} \\sin{\\left(\\nu_{q} \\right)}}{e_{q} \\cos{\\left(\\nu_{q} \\right)} + 1} - \\frac{A_{q} C_{q} \\cos{\\left(\\nu_{q} \\right)}}{e_{q} \\cos{\\left(\\nu_{q} \\right)} + 1} - \\frac{A_{q} D_{q} \\sin{\\left(\\nu_{q} \\right)}}{e_{q} \\cos{\\left(\\nu_{q} \\right)} + 1} + \\frac{A_{q} E_{q} \\cos{\\left(\\nu_{q} \\right)}}{e_{q} \\cos{\\left(\\nu_{q} \\right)} + 1}$"
      ],
      "text/plain": [
       "A_p*B_p*sin(nu_p)/(e_p*cos(nu_p) + 1) + A_p*C_p*cos(nu_p)/(e_p*cos(nu_p) + 1) + A_p*D_p*sin(nu_p)/(e_p*cos(nu_p) + 1) - A_p*E_p*cos(nu_p)/(e_p*cos(nu_p) + 1) - A_q*B_q*sin(nu_q)/(e_q*cos(nu_q) + 1) - A_q*C_q*cos(nu_q)/(e_q*cos(nu_q) + 1) - A_q*D_q*sin(nu_q)/(e_q*cos(nu_q) + 1) + A_q*E_q*cos(nu_q)/(e_q*cos(nu_q) + 1)"
      ]
     },
     "execution_count": 53,
     "metadata": {},
     "output_type": "execute_result"
    }
   ],
   "source": [
    "Xq-Xp"
   ]
  },
  {
   "cell_type": "code",
   "execution_count": 54,
   "id": "4dcd3165",
   "metadata": {},
   "outputs": [
    {
     "data": {
      "text/latex": [
       "$\\displaystyle \\frac{\\left(- \\frac{A_{p} B_{p} \\sin{\\left(\\nu_{p} \\right)}}{e_{p} \\cos{\\left(\\nu_{p} \\right)} + 1} - \\frac{A_{p} C_{p} \\cos{\\left(\\nu_{p} \\right)}}{e_{p} \\cos{\\left(\\nu_{p} \\right)} + 1} - \\frac{A_{p} D_{p} \\sin{\\left(\\nu_{p} \\right)}}{e_{p} \\cos{\\left(\\nu_{p} \\right)} + 1} + \\frac{A_{p} E_{p} \\cos{\\left(\\nu_{p} \\right)}}{e_{p} \\cos{\\left(\\nu_{p} \\right)} + 1}\\right) \\left(\\frac{A_{p} B_{p} \\sin{\\left(\\nu_{p} \\right)}}{e_{p} \\cos{\\left(\\nu_{p} \\right)} + 1} + \\frac{A_{p} C_{p} \\cos{\\left(\\nu_{p} \\right)}}{e_{p} \\cos{\\left(\\nu_{p} \\right)} + 1} + \\frac{A_{p} D_{p} \\sin{\\left(\\nu_{p} \\right)}}{e_{p} \\cos{\\left(\\nu_{p} \\right)} + 1} - \\frac{A_{p} E_{p} \\cos{\\left(\\nu_{p} \\right)}}{e_{p} \\cos{\\left(\\nu_{p} \\right)} + 1} - \\frac{A_{q} B_{q} \\sin{\\left(\\nu_{q} \\right)}}{e_{q} \\cos{\\left(\\nu_{q} \\right)} + 1} - \\frac{A_{q} C_{q} \\cos{\\left(\\nu_{q} \\right)}}{e_{q} \\cos{\\left(\\nu_{q} \\right)} + 1} - \\frac{A_{q} D_{q} \\sin{\\left(\\nu_{q} \\right)}}{e_{q} \\cos{\\left(\\nu_{q} \\right)} + 1} + \\frac{A_{q} E_{q} \\cos{\\left(\\nu_{q} \\right)}}{e_{q} \\cos{\\left(\\nu_{q} \\right)} + 1}\\right)}{\\sqrt{\\left(- \\frac{A_{p} J_{p} \\sin{\\left(\\nu_{p} \\right)}}{e_{p} \\cos{\\left(\\nu_{p} \\right)} + 1} - \\frac{A_{p} K_{p} \\cos{\\left(\\nu_{p} \\right)}}{e_{p} \\cos{\\left(\\nu_{p} \\right)} + 1} + \\frac{A_{q} J_{q} \\sin{\\left(\\nu_{q} \\right)}}{e_{q} \\cos{\\left(\\nu_{q} \\right)} + 1} + \\frac{A_{q} K_{q} \\cos{\\left(\\nu_{q} \\right)}}{e_{q} \\cos{\\left(\\nu_{q} \\right)} + 1}\\right)^{2} + \\left(\\frac{A_{p} B_{p} \\sin{\\left(\\nu_{p} \\right)}}{e_{p} \\cos{\\left(\\nu_{p} \\right)} + 1} + \\frac{A_{p} C_{p} \\cos{\\left(\\nu_{p} \\right)}}{e_{p} \\cos{\\left(\\nu_{p} \\right)} + 1} + \\frac{A_{p} D_{p} \\sin{\\left(\\nu_{p} \\right)}}{e_{p} \\cos{\\left(\\nu_{p} \\right)} + 1} - \\frac{A_{p} E_{p} \\cos{\\left(\\nu_{p} \\right)}}{e_{p} \\cos{\\left(\\nu_{p} \\right)} + 1} - \\frac{A_{q} B_{q} \\sin{\\left(\\nu_{q} \\right)}}{e_{q} \\cos{\\left(\\nu_{q} \\right)} + 1} - \\frac{A_{q} C_{q} \\cos{\\left(\\nu_{q} \\right)}}{e_{q} \\cos{\\left(\\nu_{q} \\right)} + 1} - \\frac{A_{q} D_{q} \\sin{\\left(\\nu_{q} \\right)}}{e_{q} \\cos{\\left(\\nu_{q} \\right)} + 1} + \\frac{A_{q} E_{q} \\cos{\\left(\\nu_{q} \\right)}}{e_{q} \\cos{\\left(\\nu_{q} \\right)} + 1}\\right)^{2} + \\left(\\frac{A_{p} F_{p} \\sin{\\left(\\nu_{p} \\right)}}{e_{p} \\cos{\\left(\\nu_{p} \\right)} + 1} - \\frac{A_{p} G_{p} \\cos{\\left(\\nu_{p} \\right)}}{e_{p} \\cos{\\left(\\nu_{p} \\right)} + 1} - \\frac{A_{p} H_{p} \\sin{\\left(\\nu_{p} \\right)}}{e_{p} \\cos{\\left(\\nu_{p} \\right)} + 1} - \\frac{A_{p} I_{p} \\cos{\\left(\\nu_{p} \\right)}}{e_{p} \\cos{\\left(\\nu_{p} \\right)} + 1} - \\frac{A_{q} F_{q} \\sin{\\left(\\nu_{q} \\right)}}{e_{q} \\cos{\\left(\\nu_{q} \\right)} + 1} + \\frac{A_{q} G_{q} \\cos{\\left(\\nu_{q} \\right)}}{e_{q} \\cos{\\left(\\nu_{q} \\right)} + 1} + \\frac{A_{q} H_{q} \\sin{\\left(\\nu_{q} \\right)}}{e_{q} \\cos{\\left(\\nu_{q} \\right)} + 1} + \\frac{A_{q} I_{q} \\cos{\\left(\\nu_{q} \\right)}}{e_{q} \\cos{\\left(\\nu_{q} \\right)} + 1}\\right)^{2}}}$"
      ],
      "text/plain": [
       "(-A_p*B_p*sin(nu_p)/(e_p*cos(nu_p) + 1) - A_p*C_p*cos(nu_p)/(e_p*cos(nu_p) + 1) - A_p*D_p*sin(nu_p)/(e_p*cos(nu_p) + 1) + A_p*E_p*cos(nu_p)/(e_p*cos(nu_p) + 1))*(A_p*B_p*sin(nu_p)/(e_p*cos(nu_p) + 1) + A_p*C_p*cos(nu_p)/(e_p*cos(nu_p) + 1) + A_p*D_p*sin(nu_p)/(e_p*cos(nu_p) + 1) - A_p*E_p*cos(nu_p)/(e_p*cos(nu_p) + 1) - A_q*B_q*sin(nu_q)/(e_q*cos(nu_q) + 1) - A_q*C_q*cos(nu_q)/(e_q*cos(nu_q) + 1) - A_q*D_q*sin(nu_q)/(e_q*cos(nu_q) + 1) + A_q*E_q*cos(nu_q)/(e_q*cos(nu_q) + 1))/sqrt((-A_p*J_p*sin(nu_p)/(e_p*cos(nu_p) + 1) - A_p*K_p*cos(nu_p)/(e_p*cos(nu_p) + 1) + A_q*J_q*sin(nu_q)/(e_q*cos(nu_q) + 1) + A_q*K_q*cos(nu_q)/(e_q*cos(nu_q) + 1))**2 + (A_p*B_p*sin(nu_p)/(e_p*cos(nu_p) + 1) + A_p*C_p*cos(nu_p)/(e_p*cos(nu_p) + 1) + A_p*D_p*sin(nu_p)/(e_p*cos(nu_p) + 1) - A_p*E_p*cos(nu_p)/(e_p*cos(nu_p) + 1) - A_q*B_q*sin(nu_q)/(e_q*cos(nu_q) + 1) - A_q*C_q*cos(nu_q)/(e_q*cos(nu_q) + 1) - A_q*D_q*sin(nu_q)/(e_q*cos(nu_q) + 1) + A_q*E_q*cos(nu_q)/(e_q*cos(nu_q) + 1))**2 + (A_p*F_p*sin(nu_p)/(e_p*cos(nu_p) + 1) - A_p*G_p*cos(nu_p)/(e_p*cos(nu_p) + 1) - A_p*H_p*sin(nu_p)/(e_p*cos(nu_p) + 1) - A_p*I_p*cos(nu_p)/(e_p*cos(nu_p) + 1) - A_q*F_q*sin(nu_q)/(e_q*cos(nu_q) + 1) + A_q*G_q*cos(nu_q)/(e_q*cos(nu_q) + 1) + A_q*H_q*sin(nu_q)/(e_q*cos(nu_q) + 1) + A_q*I_q*cos(nu_q)/(e_q*cos(nu_q) + 1))**2)"
      ]
     },
     "execution_count": 54,
     "metadata": {},
     "output_type": "execute_result"
    }
   ],
   "source": [
    "ahat*Xp"
   ]
  },
  {
   "cell_type": "code",
   "execution_count": 55,
   "id": "aa73a195",
   "metadata": {},
   "outputs": [],
   "source": [
    "n,d = sp.fraction(ahat*Xp)"
   ]
  },
  {
   "cell_type": "code",
   "execution_count": 56,
   "id": "462cd082",
   "metadata": {},
   "outputs": [
    {
     "data": {
      "text/latex": [
       "$\\displaystyle \\left(- \\frac{A_{p} B_{p} \\sin{\\left(\\nu_{p} \\right)}}{e_{p} \\cos{\\left(\\nu_{p} \\right)} + 1} - \\frac{A_{p} C_{p} \\cos{\\left(\\nu_{p} \\right)}}{e_{p} \\cos{\\left(\\nu_{p} \\right)} + 1} - \\frac{A_{p} D_{p} \\sin{\\left(\\nu_{p} \\right)}}{e_{p} \\cos{\\left(\\nu_{p} \\right)} + 1} + \\frac{A_{p} E_{p} \\cos{\\left(\\nu_{p} \\right)}}{e_{p} \\cos{\\left(\\nu_{p} \\right)} + 1}\\right) \\left(\\frac{A_{p} B_{p} \\sin{\\left(\\nu_{p} \\right)}}{e_{p} \\cos{\\left(\\nu_{p} \\right)} + 1} + \\frac{A_{p} C_{p} \\cos{\\left(\\nu_{p} \\right)}}{e_{p} \\cos{\\left(\\nu_{p} \\right)} + 1} + \\frac{A_{p} D_{p} \\sin{\\left(\\nu_{p} \\right)}}{e_{p} \\cos{\\left(\\nu_{p} \\right)} + 1} - \\frac{A_{p} E_{p} \\cos{\\left(\\nu_{p} \\right)}}{e_{p} \\cos{\\left(\\nu_{p} \\right)} + 1} - \\frac{A_{q} B_{q} \\sin{\\left(\\nu_{q} \\right)}}{e_{q} \\cos{\\left(\\nu_{q} \\right)} + 1} - \\frac{A_{q} C_{q} \\cos{\\left(\\nu_{q} \\right)}}{e_{q} \\cos{\\left(\\nu_{q} \\right)} + 1} - \\frac{A_{q} D_{q} \\sin{\\left(\\nu_{q} \\right)}}{e_{q} \\cos{\\left(\\nu_{q} \\right)} + 1} + \\frac{A_{q} E_{q} \\cos{\\left(\\nu_{q} \\right)}}{e_{q} \\cos{\\left(\\nu_{q} \\right)} + 1}\\right)$"
      ],
      "text/plain": [
       "(-A_p*B_p*sin(nu_p)/(e_p*cos(nu_p) + 1) - A_p*C_p*cos(nu_p)/(e_p*cos(nu_p) + 1) - A_p*D_p*sin(nu_p)/(e_p*cos(nu_p) + 1) + A_p*E_p*cos(nu_p)/(e_p*cos(nu_p) + 1))*(A_p*B_p*sin(nu_p)/(e_p*cos(nu_p) + 1) + A_p*C_p*cos(nu_p)/(e_p*cos(nu_p) + 1) + A_p*D_p*sin(nu_p)/(e_p*cos(nu_p) + 1) - A_p*E_p*cos(nu_p)/(e_p*cos(nu_p) + 1) - A_q*B_q*sin(nu_q)/(e_q*cos(nu_q) + 1) - A_q*C_q*cos(nu_q)/(e_q*cos(nu_q) + 1) - A_q*D_q*sin(nu_q)/(e_q*cos(nu_q) + 1) + A_q*E_q*cos(nu_q)/(e_q*cos(nu_q) + 1))"
      ]
     },
     "execution_count": 56,
     "metadata": {},
     "output_type": "execute_result"
    }
   ],
   "source": [
    "n"
   ]
  },
  {
   "cell_type": "code",
   "execution_count": 57,
   "id": "4dd78628",
   "metadata": {},
   "outputs": [
    {
     "data": {
      "text/latex": [
       "$\\displaystyle \\sqrt{\\left(- \\frac{A_{p} J_{p} \\sin{\\left(\\nu_{p} \\right)}}{e_{p} \\cos{\\left(\\nu_{p} \\right)} + 1} - \\frac{A_{p} K_{p} \\cos{\\left(\\nu_{p} \\right)}}{e_{p} \\cos{\\left(\\nu_{p} \\right)} + 1} + \\frac{A_{q} J_{q} \\sin{\\left(\\nu_{q} \\right)}}{e_{q} \\cos{\\left(\\nu_{q} \\right)} + 1} + \\frac{A_{q} K_{q} \\cos{\\left(\\nu_{q} \\right)}}{e_{q} \\cos{\\left(\\nu_{q} \\right)} + 1}\\right)^{2} + \\left(\\frac{A_{p} B_{p} \\sin{\\left(\\nu_{p} \\right)}}{e_{p} \\cos{\\left(\\nu_{p} \\right)} + 1} + \\frac{A_{p} C_{p} \\cos{\\left(\\nu_{p} \\right)}}{e_{p} \\cos{\\left(\\nu_{p} \\right)} + 1} + \\frac{A_{p} D_{p} \\sin{\\left(\\nu_{p} \\right)}}{e_{p} \\cos{\\left(\\nu_{p} \\right)} + 1} - \\frac{A_{p} E_{p} \\cos{\\left(\\nu_{p} \\right)}}{e_{p} \\cos{\\left(\\nu_{p} \\right)} + 1} - \\frac{A_{q} B_{q} \\sin{\\left(\\nu_{q} \\right)}}{e_{q} \\cos{\\left(\\nu_{q} \\right)} + 1} - \\frac{A_{q} C_{q} \\cos{\\left(\\nu_{q} \\right)}}{e_{q} \\cos{\\left(\\nu_{q} \\right)} + 1} - \\frac{A_{q} D_{q} \\sin{\\left(\\nu_{q} \\right)}}{e_{q} \\cos{\\left(\\nu_{q} \\right)} + 1} + \\frac{A_{q} E_{q} \\cos{\\left(\\nu_{q} \\right)}}{e_{q} \\cos{\\left(\\nu_{q} \\right)} + 1}\\right)^{2} + \\left(\\frac{A_{p} F_{p} \\sin{\\left(\\nu_{p} \\right)}}{e_{p} \\cos{\\left(\\nu_{p} \\right)} + 1} - \\frac{A_{p} G_{p} \\cos{\\left(\\nu_{p} \\right)}}{e_{p} \\cos{\\left(\\nu_{p} \\right)} + 1} - \\frac{A_{p} H_{p} \\sin{\\left(\\nu_{p} \\right)}}{e_{p} \\cos{\\left(\\nu_{p} \\right)} + 1} - \\frac{A_{p} I_{p} \\cos{\\left(\\nu_{p} \\right)}}{e_{p} \\cos{\\left(\\nu_{p} \\right)} + 1} - \\frac{A_{q} F_{q} \\sin{\\left(\\nu_{q} \\right)}}{e_{q} \\cos{\\left(\\nu_{q} \\right)} + 1} + \\frac{A_{q} G_{q} \\cos{\\left(\\nu_{q} \\right)}}{e_{q} \\cos{\\left(\\nu_{q} \\right)} + 1} + \\frac{A_{q} H_{q} \\sin{\\left(\\nu_{q} \\right)}}{e_{q} \\cos{\\left(\\nu_{q} \\right)} + 1} + \\frac{A_{q} I_{q} \\cos{\\left(\\nu_{q} \\right)}}{e_{q} \\cos{\\left(\\nu_{q} \\right)} + 1}\\right)^{2}}$"
      ],
      "text/plain": [
       "sqrt((-A_p*J_p*sin(nu_p)/(e_p*cos(nu_p) + 1) - A_p*K_p*cos(nu_p)/(e_p*cos(nu_p) + 1) + A_q*J_q*sin(nu_q)/(e_q*cos(nu_q) + 1) + A_q*K_q*cos(nu_q)/(e_q*cos(nu_q) + 1))**2 + (A_p*B_p*sin(nu_p)/(e_p*cos(nu_p) + 1) + A_p*C_p*cos(nu_p)/(e_p*cos(nu_p) + 1) + A_p*D_p*sin(nu_p)/(e_p*cos(nu_p) + 1) - A_p*E_p*cos(nu_p)/(e_p*cos(nu_p) + 1) - A_q*B_q*sin(nu_q)/(e_q*cos(nu_q) + 1) - A_q*C_q*cos(nu_q)/(e_q*cos(nu_q) + 1) - A_q*D_q*sin(nu_q)/(e_q*cos(nu_q) + 1) + A_q*E_q*cos(nu_q)/(e_q*cos(nu_q) + 1))**2 + (A_p*F_p*sin(nu_p)/(e_p*cos(nu_p) + 1) - A_p*G_p*cos(nu_p)/(e_p*cos(nu_p) + 1) - A_p*H_p*sin(nu_p)/(e_p*cos(nu_p) + 1) - A_p*I_p*cos(nu_p)/(e_p*cos(nu_p) + 1) - A_q*F_q*sin(nu_q)/(e_q*cos(nu_q) + 1) + A_q*G_q*cos(nu_q)/(e_q*cos(nu_q) + 1) + A_q*H_q*sin(nu_q)/(e_q*cos(nu_q) + 1) + A_q*I_q*cos(nu_q)/(e_q*cos(nu_q) + 1))**2)"
      ]
     },
     "execution_count": 57,
     "metadata": {},
     "output_type": "execute_result"
    }
   ],
   "source": [
    "d"
   ]
  },
  {
   "cell_type": "code",
   "execution_count": 58,
   "id": "281e3e9b",
   "metadata": {},
   "outputs": [],
   "source": [
    "#h = (-(Xq-Xp)*Xp-(Yq-Yp)*Yp-(Zq-Zp)*Zp)/PQ_norm/(((Xq-Xp)**2+(Yq-Yp)**2+(Zq-Zp)**2)/PQ_norm**2)\n",
    "h = (-(Xq-Xp)*Xp-(Yq-Yp)*Yp-(Zq-Zp)*Zp)*PQ_norm/(((Xq-Xp)**2+(Yq-Yp)**2+(Zq-Zp)**2))"
   ]
  },
  {
   "cell_type": "code",
   "execution_count": 59,
   "id": "ffc25596",
   "metadata": {},
   "outputs": [
    {
     "data": {
      "text/latex": [
       "$\\displaystyle \\frac{- \\left(\\frac{A_{p} J_{p} \\sin{\\left(\\nu_{p} \\right)}}{e_{p} \\cos{\\left(\\nu_{p} \\right)} + 1} + \\frac{A_{p} K_{p} \\cos{\\left(\\nu_{p} \\right)}}{e_{p} \\cos{\\left(\\nu_{p} \\right)} + 1}\\right) \\left(- \\frac{A_{p} J_{p} \\sin{\\left(\\nu_{p} \\right)}}{e_{p} \\cos{\\left(\\nu_{p} \\right)} + 1} - \\frac{A_{p} K_{p} \\cos{\\left(\\nu_{p} \\right)}}{e_{p} \\cos{\\left(\\nu_{p} \\right)} + 1} + \\frac{A_{q} J_{q} \\sin{\\left(\\nu_{q} \\right)}}{e_{q} \\cos{\\left(\\nu_{q} \\right)} + 1} + \\frac{A_{q} K_{q} \\cos{\\left(\\nu_{q} \\right)}}{e_{q} \\cos{\\left(\\nu_{q} \\right)} + 1}\\right) + \\left(- \\frac{A_{p} B_{p} \\sin{\\left(\\nu_{p} \\right)}}{e_{p} \\cos{\\left(\\nu_{p} \\right)} + 1} - \\frac{A_{p} C_{p} \\cos{\\left(\\nu_{p} \\right)}}{e_{p} \\cos{\\left(\\nu_{p} \\right)} + 1} - \\frac{A_{p} D_{p} \\sin{\\left(\\nu_{p} \\right)}}{e_{p} \\cos{\\left(\\nu_{p} \\right)} + 1} + \\frac{A_{p} E_{p} \\cos{\\left(\\nu_{p} \\right)}}{e_{p} \\cos{\\left(\\nu_{p} \\right)} + 1}\\right) \\left(- \\frac{A_{p} B_{p} \\sin{\\left(\\nu_{p} \\right)}}{e_{p} \\cos{\\left(\\nu_{p} \\right)} + 1} - \\frac{A_{p} C_{p} \\cos{\\left(\\nu_{p} \\right)}}{e_{p} \\cos{\\left(\\nu_{p} \\right)} + 1} - \\frac{A_{p} D_{p} \\sin{\\left(\\nu_{p} \\right)}}{e_{p} \\cos{\\left(\\nu_{p} \\right)} + 1} + \\frac{A_{p} E_{p} \\cos{\\left(\\nu_{p} \\right)}}{e_{p} \\cos{\\left(\\nu_{p} \\right)} + 1} + \\frac{A_{q} B_{q} \\sin{\\left(\\nu_{q} \\right)}}{e_{q} \\cos{\\left(\\nu_{q} \\right)} + 1} + \\frac{A_{q} C_{q} \\cos{\\left(\\nu_{q} \\right)}}{e_{q} \\cos{\\left(\\nu_{q} \\right)} + 1} + \\frac{A_{q} D_{q} \\sin{\\left(\\nu_{q} \\right)}}{e_{q} \\cos{\\left(\\nu_{q} \\right)} + 1} - \\frac{A_{q} E_{q} \\cos{\\left(\\nu_{q} \\right)}}{e_{q} \\cos{\\left(\\nu_{q} \\right)} + 1}\\right) - \\left(- \\frac{A_{p} F_{p} \\sin{\\left(\\nu_{p} \\right)}}{e_{p} \\cos{\\left(\\nu_{p} \\right)} + 1} + \\frac{A_{p} G_{p} \\cos{\\left(\\nu_{p} \\right)}}{e_{p} \\cos{\\left(\\nu_{p} \\right)} + 1} + \\frac{A_{p} H_{p} \\sin{\\left(\\nu_{p} \\right)}}{e_{p} \\cos{\\left(\\nu_{p} \\right)} + 1} + \\frac{A_{p} I_{p} \\cos{\\left(\\nu_{p} \\right)}}{e_{p} \\cos{\\left(\\nu_{p} \\right)} + 1}\\right) \\left(\\frac{A_{p} F_{p} \\sin{\\left(\\nu_{p} \\right)}}{e_{p} \\cos{\\left(\\nu_{p} \\right)} + 1} - \\frac{A_{p} G_{p} \\cos{\\left(\\nu_{p} \\right)}}{e_{p} \\cos{\\left(\\nu_{p} \\right)} + 1} - \\frac{A_{p} H_{p} \\sin{\\left(\\nu_{p} \\right)}}{e_{p} \\cos{\\left(\\nu_{p} \\right)} + 1} - \\frac{A_{p} I_{p} \\cos{\\left(\\nu_{p} \\right)}}{e_{p} \\cos{\\left(\\nu_{p} \\right)} + 1} - \\frac{A_{q} F_{q} \\sin{\\left(\\nu_{q} \\right)}}{e_{q} \\cos{\\left(\\nu_{q} \\right)} + 1} + \\frac{A_{q} G_{q} \\cos{\\left(\\nu_{q} \\right)}}{e_{q} \\cos{\\left(\\nu_{q} \\right)} + 1} + \\frac{A_{q} H_{q} \\sin{\\left(\\nu_{q} \\right)}}{e_{q} \\cos{\\left(\\nu_{q} \\right)} + 1} + \\frac{A_{q} I_{q} \\cos{\\left(\\nu_{q} \\right)}}{e_{q} \\cos{\\left(\\nu_{q} \\right)} + 1}\\right)}{\\sqrt{\\left(- \\frac{A_{p} J_{p} \\sin{\\left(\\nu_{p} \\right)}}{e_{p} \\cos{\\left(\\nu_{p} \\right)} + 1} - \\frac{A_{p} K_{p} \\cos{\\left(\\nu_{p} \\right)}}{e_{p} \\cos{\\left(\\nu_{p} \\right)} + 1} + \\frac{A_{q} J_{q} \\sin{\\left(\\nu_{q} \\right)}}{e_{q} \\cos{\\left(\\nu_{q} \\right)} + 1} + \\frac{A_{q} K_{q} \\cos{\\left(\\nu_{q} \\right)}}{e_{q} \\cos{\\left(\\nu_{q} \\right)} + 1}\\right)^{2} + \\left(\\frac{A_{p} B_{p} \\sin{\\left(\\nu_{p} \\right)}}{e_{p} \\cos{\\left(\\nu_{p} \\right)} + 1} + \\frac{A_{p} C_{p} \\cos{\\left(\\nu_{p} \\right)}}{e_{p} \\cos{\\left(\\nu_{p} \\right)} + 1} + \\frac{A_{p} D_{p} \\sin{\\left(\\nu_{p} \\right)}}{e_{p} \\cos{\\left(\\nu_{p} \\right)} + 1} - \\frac{A_{p} E_{p} \\cos{\\left(\\nu_{p} \\right)}}{e_{p} \\cos{\\left(\\nu_{p} \\right)} + 1} - \\frac{A_{q} B_{q} \\sin{\\left(\\nu_{q} \\right)}}{e_{q} \\cos{\\left(\\nu_{q} \\right)} + 1} - \\frac{A_{q} C_{q} \\cos{\\left(\\nu_{q} \\right)}}{e_{q} \\cos{\\left(\\nu_{q} \\right)} + 1} - \\frac{A_{q} D_{q} \\sin{\\left(\\nu_{q} \\right)}}{e_{q} \\cos{\\left(\\nu_{q} \\right)} + 1} + \\frac{A_{q} E_{q} \\cos{\\left(\\nu_{q} \\right)}}{e_{q} \\cos{\\left(\\nu_{q} \\right)} + 1}\\right)^{2} + \\left(\\frac{A_{p} F_{p} \\sin{\\left(\\nu_{p} \\right)}}{e_{p} \\cos{\\left(\\nu_{p} \\right)} + 1} - \\frac{A_{p} G_{p} \\cos{\\left(\\nu_{p} \\right)}}{e_{p} \\cos{\\left(\\nu_{p} \\right)} + 1} - \\frac{A_{p} H_{p} \\sin{\\left(\\nu_{p} \\right)}}{e_{p} \\cos{\\left(\\nu_{p} \\right)} + 1} - \\frac{A_{p} I_{p} \\cos{\\left(\\nu_{p} \\right)}}{e_{p} \\cos{\\left(\\nu_{p} \\right)} + 1} - \\frac{A_{q} F_{q} \\sin{\\left(\\nu_{q} \\right)}}{e_{q} \\cos{\\left(\\nu_{q} \\right)} + 1} + \\frac{A_{q} G_{q} \\cos{\\left(\\nu_{q} \\right)}}{e_{q} \\cos{\\left(\\nu_{q} \\right)} + 1} + \\frac{A_{q} H_{q} \\sin{\\left(\\nu_{q} \\right)}}{e_{q} \\cos{\\left(\\nu_{q} \\right)} + 1} + \\frac{A_{q} I_{q} \\cos{\\left(\\nu_{q} \\right)}}{e_{q} \\cos{\\left(\\nu_{q} \\right)} + 1}\\right)^{2}}}$"
      ],
      "text/plain": [
       "(-(A_p*J_p*sin(nu_p)/(e_p*cos(nu_p) + 1) + A_p*K_p*cos(nu_p)/(e_p*cos(nu_p) + 1))*(-A_p*J_p*sin(nu_p)/(e_p*cos(nu_p) + 1) - A_p*K_p*cos(nu_p)/(e_p*cos(nu_p) + 1) + A_q*J_q*sin(nu_q)/(e_q*cos(nu_q) + 1) + A_q*K_q*cos(nu_q)/(e_q*cos(nu_q) + 1)) + (-A_p*B_p*sin(nu_p)/(e_p*cos(nu_p) + 1) - A_p*C_p*cos(nu_p)/(e_p*cos(nu_p) + 1) - A_p*D_p*sin(nu_p)/(e_p*cos(nu_p) + 1) + A_p*E_p*cos(nu_p)/(e_p*cos(nu_p) + 1))*(-A_p*B_p*sin(nu_p)/(e_p*cos(nu_p) + 1) - A_p*C_p*cos(nu_p)/(e_p*cos(nu_p) + 1) - A_p*D_p*sin(nu_p)/(e_p*cos(nu_p) + 1) + A_p*E_p*cos(nu_p)/(e_p*cos(nu_p) + 1) + A_q*B_q*sin(nu_q)/(e_q*cos(nu_q) + 1) + A_q*C_q*cos(nu_q)/(e_q*cos(nu_q) + 1) + A_q*D_q*sin(nu_q)/(e_q*cos(nu_q) + 1) - A_q*E_q*cos(nu_q)/(e_q*cos(nu_q) + 1)) - (-A_p*F_p*sin(nu_p)/(e_p*cos(nu_p) + 1) + A_p*G_p*cos(nu_p)/(e_p*cos(nu_p) + 1) + A_p*H_p*sin(nu_p)/(e_p*cos(nu_p) + 1) + A_p*I_p*cos(nu_p)/(e_p*cos(nu_p) + 1))*(A_p*F_p*sin(nu_p)/(e_p*cos(nu_p) + 1) - A_p*G_p*cos(nu_p)/(e_p*cos(nu_p) + 1) - A_p*H_p*sin(nu_p)/(e_p*cos(nu_p) + 1) - A_p*I_p*cos(nu_p)/(e_p*cos(nu_p) + 1) - A_q*F_q*sin(nu_q)/(e_q*cos(nu_q) + 1) + A_q*G_q*cos(nu_q)/(e_q*cos(nu_q) + 1) + A_q*H_q*sin(nu_q)/(e_q*cos(nu_q) + 1) + A_q*I_q*cos(nu_q)/(e_q*cos(nu_q) + 1)))/sqrt((-A_p*J_p*sin(nu_p)/(e_p*cos(nu_p) + 1) - A_p*K_p*cos(nu_p)/(e_p*cos(nu_p) + 1) + A_q*J_q*sin(nu_q)/(e_q*cos(nu_q) + 1) + A_q*K_q*cos(nu_q)/(e_q*cos(nu_q) + 1))**2 + (A_p*B_p*sin(nu_p)/(e_p*cos(nu_p) + 1) + A_p*C_p*cos(nu_p)/(e_p*cos(nu_p) + 1) + A_p*D_p*sin(nu_p)/(e_p*cos(nu_p) + 1) - A_p*E_p*cos(nu_p)/(e_p*cos(nu_p) + 1) - A_q*B_q*sin(nu_q)/(e_q*cos(nu_q) + 1) - A_q*C_q*cos(nu_q)/(e_q*cos(nu_q) + 1) - A_q*D_q*sin(nu_q)/(e_q*cos(nu_q) + 1) + A_q*E_q*cos(nu_q)/(e_q*cos(nu_q) + 1))**2 + (A_p*F_p*sin(nu_p)/(e_p*cos(nu_p) + 1) - A_p*G_p*cos(nu_p)/(e_p*cos(nu_p) + 1) - A_p*H_p*sin(nu_p)/(e_p*cos(nu_p) + 1) - A_p*I_p*cos(nu_p)/(e_p*cos(nu_p) + 1) - A_q*F_q*sin(nu_q)/(e_q*cos(nu_q) + 1) + A_q*G_q*cos(nu_q)/(e_q*cos(nu_q) + 1) + A_q*H_q*sin(nu_q)/(e_q*cos(nu_q) + 1) + A_q*I_q*cos(nu_q)/(e_q*cos(nu_q) + 1))**2)"
      ]
     },
     "execution_count": 59,
     "metadata": {},
     "output_type": "execute_result"
    }
   ],
   "source": [
    "h"
   ]
  },
  {
   "cell_type": "code",
   "execution_count": 60,
   "id": "eea8261b",
   "metadata": {},
   "outputs": [],
   "source": [
    "#tangent height point calculation\n",
    "h = (-ahat*Xp-bhat*Yp-chat*Zp)/(ahat**2+bhat**2+chat**2)\n",
    "Xh = ahat*h+Xp\n",
    "Yh = bhat*h+Yp\n",
    "Zh = chat*h+Zp"
   ]
  },
  {
   "cell_type": "code",
   "execution_count": 61,
   "id": "19d18707",
   "metadata": {},
   "outputs": [],
   "source": [
    "#Note simplification yields \n",
    "#h = (-(Xq-Xp)*Xp-(Yq-Yp)*Yp-(Zq-Zp)*Zp)*PQ_norm/(((Xq-Xp)**2+(Yq-Yp)**2+(Zq-Zp)**2))\n",
    "#Therefore\n",
    "Xh = (Xq-Xp)*(-(Xq-Xp)*Xp-(Yq-Yp)*Yp-(Zq-Zp)*Zp)/((Xq-Xp)**2+(Yq-Yp)**2+(Zq-Zp)**2) + Xp\n",
    "Yh = (Yq-Yp)*(-(Xq-Xp)*Xp-(Yq-Yp)*Yp-(Zq-Zp)*Zp)/((Xq-Xp)**2+(Yq-Yp)**2+(Zq-Zp)**2) + Yp\n",
    "Zh = (Zq-Zp)*(-(Xq-Xp)*Xp-(Yq-Yp)*Yp-(Zq-Zp)*Zp)/((Xq-Xp)**2+(Yq-Yp)**2+(Zq-Zp)**2) + Zp"
   ]
  },
  {
   "cell_type": "code",
   "execution_count": 62,
   "id": "d6ecbbe6",
   "metadata": {},
   "outputs": [
    {
     "data": {
      "text/plain": [
       "5"
      ]
     },
     "execution_count": 62,
     "metadata": {},
     "output_type": "execute_result"
    }
   ],
   "source": [
    "len(Xh.args)"
   ]
  },
  {
   "cell_type": "code",
   "execution_count": 63,
   "id": "654454e4",
   "metadata": {},
   "outputs": [
    {
     "data": {
      "text/latex": [
       "$\\displaystyle - \\frac{A_{p} B_{p} \\sin{\\left(\\nu_{p} \\right)}}{e_{p} \\cos{\\left(\\nu_{p} \\right)} + 1} - \\frac{A_{p} C_{p} \\cos{\\left(\\nu_{p} \\right)}}{e_{p} \\cos{\\left(\\nu_{p} \\right)} + 1} - \\frac{A_{p} D_{p} \\sin{\\left(\\nu_{p} \\right)}}{e_{p} \\cos{\\left(\\nu_{p} \\right)} + 1} + \\frac{A_{p} E_{p} \\cos{\\left(\\nu_{p} \\right)}}{e_{p} \\cos{\\left(\\nu_{p} \\right)} + 1} + \\frac{\\left(- \\left(\\frac{A_{p} J_{p} \\sin{\\left(\\nu_{p} \\right)}}{e_{p} \\cos{\\left(\\nu_{p} \\right)} + 1} + \\frac{A_{p} K_{p} \\cos{\\left(\\nu_{p} \\right)}}{e_{p} \\cos{\\left(\\nu_{p} \\right)} + 1}\\right) \\left(- \\frac{A_{p} J_{p} \\sin{\\left(\\nu_{p} \\right)}}{e_{p} \\cos{\\left(\\nu_{p} \\right)} + 1} - \\frac{A_{p} K_{p} \\cos{\\left(\\nu_{p} \\right)}}{e_{p} \\cos{\\left(\\nu_{p} \\right)} + 1} + \\frac{A_{q} J_{q} \\sin{\\left(\\nu_{q} \\right)}}{e_{q} \\cos{\\left(\\nu_{q} \\right)} + 1} + \\frac{A_{q} K_{q} \\cos{\\left(\\nu_{q} \\right)}}{e_{q} \\cos{\\left(\\nu_{q} \\right)} + 1}\\right) + \\left(- \\frac{A_{p} B_{p} \\sin{\\left(\\nu_{p} \\right)}}{e_{p} \\cos{\\left(\\nu_{p} \\right)} + 1} - \\frac{A_{p} C_{p} \\cos{\\left(\\nu_{p} \\right)}}{e_{p} \\cos{\\left(\\nu_{p} \\right)} + 1} - \\frac{A_{p} D_{p} \\sin{\\left(\\nu_{p} \\right)}}{e_{p} \\cos{\\left(\\nu_{p} \\right)} + 1} + \\frac{A_{p} E_{p} \\cos{\\left(\\nu_{p} \\right)}}{e_{p} \\cos{\\left(\\nu_{p} \\right)} + 1}\\right) \\left(- \\frac{A_{p} B_{p} \\sin{\\left(\\nu_{p} \\right)}}{e_{p} \\cos{\\left(\\nu_{p} \\right)} + 1} - \\frac{A_{p} C_{p} \\cos{\\left(\\nu_{p} \\right)}}{e_{p} \\cos{\\left(\\nu_{p} \\right)} + 1} - \\frac{A_{p} D_{p} \\sin{\\left(\\nu_{p} \\right)}}{e_{p} \\cos{\\left(\\nu_{p} \\right)} + 1} + \\frac{A_{p} E_{p} \\cos{\\left(\\nu_{p} \\right)}}{e_{p} \\cos{\\left(\\nu_{p} \\right)} + 1} + \\frac{A_{q} B_{q} \\sin{\\left(\\nu_{q} \\right)}}{e_{q} \\cos{\\left(\\nu_{q} \\right)} + 1} + \\frac{A_{q} C_{q} \\cos{\\left(\\nu_{q} \\right)}}{e_{q} \\cos{\\left(\\nu_{q} \\right)} + 1} + \\frac{A_{q} D_{q} \\sin{\\left(\\nu_{q} \\right)}}{e_{q} \\cos{\\left(\\nu_{q} \\right)} + 1} - \\frac{A_{q} E_{q} \\cos{\\left(\\nu_{q} \\right)}}{e_{q} \\cos{\\left(\\nu_{q} \\right)} + 1}\\right) - \\left(- \\frac{A_{p} F_{p} \\sin{\\left(\\nu_{p} \\right)}}{e_{p} \\cos{\\left(\\nu_{p} \\right)} + 1} + \\frac{A_{p} G_{p} \\cos{\\left(\\nu_{p} \\right)}}{e_{p} \\cos{\\left(\\nu_{p} \\right)} + 1} + \\frac{A_{p} H_{p} \\sin{\\left(\\nu_{p} \\right)}}{e_{p} \\cos{\\left(\\nu_{p} \\right)} + 1} + \\frac{A_{p} I_{p} \\cos{\\left(\\nu_{p} \\right)}}{e_{p} \\cos{\\left(\\nu_{p} \\right)} + 1}\\right) \\left(\\frac{A_{p} F_{p} \\sin{\\left(\\nu_{p} \\right)}}{e_{p} \\cos{\\left(\\nu_{p} \\right)} + 1} - \\frac{A_{p} G_{p} \\cos{\\left(\\nu_{p} \\right)}}{e_{p} \\cos{\\left(\\nu_{p} \\right)} + 1} - \\frac{A_{p} H_{p} \\sin{\\left(\\nu_{p} \\right)}}{e_{p} \\cos{\\left(\\nu_{p} \\right)} + 1} - \\frac{A_{p} I_{p} \\cos{\\left(\\nu_{p} \\right)}}{e_{p} \\cos{\\left(\\nu_{p} \\right)} + 1} - \\frac{A_{q} F_{q} \\sin{\\left(\\nu_{q} \\right)}}{e_{q} \\cos{\\left(\\nu_{q} \\right)} + 1} + \\frac{A_{q} G_{q} \\cos{\\left(\\nu_{q} \\right)}}{e_{q} \\cos{\\left(\\nu_{q} \\right)} + 1} + \\frac{A_{q} H_{q} \\sin{\\left(\\nu_{q} \\right)}}{e_{q} \\cos{\\left(\\nu_{q} \\right)} + 1} + \\frac{A_{q} I_{q} \\cos{\\left(\\nu_{q} \\right)}}{e_{q} \\cos{\\left(\\nu_{q} \\right)} + 1}\\right)\\right) \\left(\\frac{A_{p} B_{p} \\sin{\\left(\\nu_{p} \\right)}}{e_{p} \\cos{\\left(\\nu_{p} \\right)} + 1} + \\frac{A_{p} C_{p} \\cos{\\left(\\nu_{p} \\right)}}{e_{p} \\cos{\\left(\\nu_{p} \\right)} + 1} + \\frac{A_{p} D_{p} \\sin{\\left(\\nu_{p} \\right)}}{e_{p} \\cos{\\left(\\nu_{p} \\right)} + 1} - \\frac{A_{p} E_{p} \\cos{\\left(\\nu_{p} \\right)}}{e_{p} \\cos{\\left(\\nu_{p} \\right)} + 1} - \\frac{A_{q} B_{q} \\sin{\\left(\\nu_{q} \\right)}}{e_{q} \\cos{\\left(\\nu_{q} \\right)} + 1} - \\frac{A_{q} C_{q} \\cos{\\left(\\nu_{q} \\right)}}{e_{q} \\cos{\\left(\\nu_{q} \\right)} + 1} - \\frac{A_{q} D_{q} \\sin{\\left(\\nu_{q} \\right)}}{e_{q} \\cos{\\left(\\nu_{q} \\right)} + 1} + \\frac{A_{q} E_{q} \\cos{\\left(\\nu_{q} \\right)}}{e_{q} \\cos{\\left(\\nu_{q} \\right)} + 1}\\right)}{\\left(- \\frac{A_{p} J_{p} \\sin{\\left(\\nu_{p} \\right)}}{e_{p} \\cos{\\left(\\nu_{p} \\right)} + 1} - \\frac{A_{p} K_{p} \\cos{\\left(\\nu_{p} \\right)}}{e_{p} \\cos{\\left(\\nu_{p} \\right)} + 1} + \\frac{A_{q} J_{q} \\sin{\\left(\\nu_{q} \\right)}}{e_{q} \\cos{\\left(\\nu_{q} \\right)} + 1} + \\frac{A_{q} K_{q} \\cos{\\left(\\nu_{q} \\right)}}{e_{q} \\cos{\\left(\\nu_{q} \\right)} + 1}\\right)^{2} + \\left(\\frac{A_{p} B_{p} \\sin{\\left(\\nu_{p} \\right)}}{e_{p} \\cos{\\left(\\nu_{p} \\right)} + 1} + \\frac{A_{p} C_{p} \\cos{\\left(\\nu_{p} \\right)}}{e_{p} \\cos{\\left(\\nu_{p} \\right)} + 1} + \\frac{A_{p} D_{p} \\sin{\\left(\\nu_{p} \\right)}}{e_{p} \\cos{\\left(\\nu_{p} \\right)} + 1} - \\frac{A_{p} E_{p} \\cos{\\left(\\nu_{p} \\right)}}{e_{p} \\cos{\\left(\\nu_{p} \\right)} + 1} - \\frac{A_{q} B_{q} \\sin{\\left(\\nu_{q} \\right)}}{e_{q} \\cos{\\left(\\nu_{q} \\right)} + 1} - \\frac{A_{q} C_{q} \\cos{\\left(\\nu_{q} \\right)}}{e_{q} \\cos{\\left(\\nu_{q} \\right)} + 1} - \\frac{A_{q} D_{q} \\sin{\\left(\\nu_{q} \\right)}}{e_{q} \\cos{\\left(\\nu_{q} \\right)} + 1} + \\frac{A_{q} E_{q} \\cos{\\left(\\nu_{q} \\right)}}{e_{q} \\cos{\\left(\\nu_{q} \\right)} + 1}\\right)^{2} + \\left(\\frac{A_{p} F_{p} \\sin{\\left(\\nu_{p} \\right)}}{e_{p} \\cos{\\left(\\nu_{p} \\right)} + 1} - \\frac{A_{p} G_{p} \\cos{\\left(\\nu_{p} \\right)}}{e_{p} \\cos{\\left(\\nu_{p} \\right)} + 1} - \\frac{A_{p} H_{p} \\sin{\\left(\\nu_{p} \\right)}}{e_{p} \\cos{\\left(\\nu_{p} \\right)} + 1} - \\frac{A_{p} I_{p} \\cos{\\left(\\nu_{p} \\right)}}{e_{p} \\cos{\\left(\\nu_{p} \\right)} + 1} - \\frac{A_{q} F_{q} \\sin{\\left(\\nu_{q} \\right)}}{e_{q} \\cos{\\left(\\nu_{q} \\right)} + 1} + \\frac{A_{q} G_{q} \\cos{\\left(\\nu_{q} \\right)}}{e_{q} \\cos{\\left(\\nu_{q} \\right)} + 1} + \\frac{A_{q} H_{q} \\sin{\\left(\\nu_{q} \\right)}}{e_{q} \\cos{\\left(\\nu_{q} \\right)} + 1} + \\frac{A_{q} I_{q} \\cos{\\left(\\nu_{q} \\right)}}{e_{q} \\cos{\\left(\\nu_{q} \\right)} + 1}\\right)^{2}}$"
      ],
      "text/plain": [
       "-A_p*B_p*sin(nu_p)/(e_p*cos(nu_p) + 1) - A_p*C_p*cos(nu_p)/(e_p*cos(nu_p) + 1) - A_p*D_p*sin(nu_p)/(e_p*cos(nu_p) + 1) + A_p*E_p*cos(nu_p)/(e_p*cos(nu_p) + 1) + (-(A_p*J_p*sin(nu_p)/(e_p*cos(nu_p) + 1) + A_p*K_p*cos(nu_p)/(e_p*cos(nu_p) + 1))*(-A_p*J_p*sin(nu_p)/(e_p*cos(nu_p) + 1) - A_p*K_p*cos(nu_p)/(e_p*cos(nu_p) + 1) + A_q*J_q*sin(nu_q)/(e_q*cos(nu_q) + 1) + A_q*K_q*cos(nu_q)/(e_q*cos(nu_q) + 1)) + (-A_p*B_p*sin(nu_p)/(e_p*cos(nu_p) + 1) - A_p*C_p*cos(nu_p)/(e_p*cos(nu_p) + 1) - A_p*D_p*sin(nu_p)/(e_p*cos(nu_p) + 1) + A_p*E_p*cos(nu_p)/(e_p*cos(nu_p) + 1))*(-A_p*B_p*sin(nu_p)/(e_p*cos(nu_p) + 1) - A_p*C_p*cos(nu_p)/(e_p*cos(nu_p) + 1) - A_p*D_p*sin(nu_p)/(e_p*cos(nu_p) + 1) + A_p*E_p*cos(nu_p)/(e_p*cos(nu_p) + 1) + A_q*B_q*sin(nu_q)/(e_q*cos(nu_q) + 1) + A_q*C_q*cos(nu_q)/(e_q*cos(nu_q) + 1) + A_q*D_q*sin(nu_q)/(e_q*cos(nu_q) + 1) - A_q*E_q*cos(nu_q)/(e_q*cos(nu_q) + 1)) - (-A_p*F_p*sin(nu_p)/(e_p*cos(nu_p) + 1) + A_p*G_p*cos(nu_p)/(e_p*cos(nu_p) + 1) + A_p*H_p*sin(nu_p)/(e_p*cos(nu_p) + 1) + A_p*I_p*cos(nu_p)/(e_p*cos(nu_p) + 1))*(A_p*F_p*sin(nu_p)/(e_p*cos(nu_p) + 1) - A_p*G_p*cos(nu_p)/(e_p*cos(nu_p) + 1) - A_p*H_p*sin(nu_p)/(e_p*cos(nu_p) + 1) - A_p*I_p*cos(nu_p)/(e_p*cos(nu_p) + 1) - A_q*F_q*sin(nu_q)/(e_q*cos(nu_q) + 1) + A_q*G_q*cos(nu_q)/(e_q*cos(nu_q) + 1) + A_q*H_q*sin(nu_q)/(e_q*cos(nu_q) + 1) + A_q*I_q*cos(nu_q)/(e_q*cos(nu_q) + 1)))*(A_p*B_p*sin(nu_p)/(e_p*cos(nu_p) + 1) + A_p*C_p*cos(nu_p)/(e_p*cos(nu_p) + 1) + A_p*D_p*sin(nu_p)/(e_p*cos(nu_p) + 1) - A_p*E_p*cos(nu_p)/(e_p*cos(nu_p) + 1) - A_q*B_q*sin(nu_q)/(e_q*cos(nu_q) + 1) - A_q*C_q*cos(nu_q)/(e_q*cos(nu_q) + 1) - A_q*D_q*sin(nu_q)/(e_q*cos(nu_q) + 1) + A_q*E_q*cos(nu_q)/(e_q*cos(nu_q) + 1))/((-A_p*J_p*sin(nu_p)/(e_p*cos(nu_p) + 1) - A_p*K_p*cos(nu_p)/(e_p*cos(nu_p) + 1) + A_q*J_q*sin(nu_q)/(e_q*cos(nu_q) + 1) + A_q*K_q*cos(nu_q)/(e_q*cos(nu_q) + 1))**2 + (A_p*B_p*sin(nu_p)/(e_p*cos(nu_p) + 1) + A_p*C_p*cos(nu_p)/(e_p*cos(nu_p) + 1) + A_p*D_p*sin(nu_p)/(e_p*cos(nu_p) + 1) - A_p*E_p*cos(nu_p)/(e_p*cos(nu_p) + 1) - A_q*B_q*sin(nu_q)/(e_q*cos(nu_q) + 1) - A_q*C_q*cos(nu_q)/(e_q*cos(nu_q) + 1) - A_q*D_q*sin(nu_q)/(e_q*cos(nu_q) + 1) + A_q*E_q*cos(nu_q)/(e_q*cos(nu_q) + 1))**2 + (A_p*F_p*sin(nu_p)/(e_p*cos(nu_p) + 1) - A_p*G_p*cos(nu_p)/(e_p*cos(nu_p) + 1) - A_p*H_p*sin(nu_p)/(e_p*cos(nu_p) + 1) - A_p*I_p*cos(nu_p)/(e_p*cos(nu_p) + 1) - A_q*F_q*sin(nu_q)/(e_q*cos(nu_q) + 1) + A_q*G_q*cos(nu_q)/(e_q*cos(nu_q) + 1) + A_q*H_q*sin(nu_q)/(e_q*cos(nu_q) + 1) + A_q*I_q*cos(nu_q)/(e_q*cos(nu_q) + 1))**2)"
      ]
     },
     "execution_count": 63,
     "metadata": {},
     "output_type": "execute_result"
    }
   ],
   "source": [
    "Xh"
   ]
  },
  {
   "cell_type": "code",
   "execution_count": 64,
   "id": "84573509",
   "metadata": {},
   "outputs": [],
   "source": [
    "#TODO\n",
    "#Extract 4th arg\n",
    "#extract num and denominator for 4th arg\n",
    "#multiply through ecos(vp)+1 and ecos(vq)+1 to simplify expression\n",
    "n,d = sp.fraction(Xh.args[0]) #0 index was found by checking each term"
   ]
  },
  {
   "cell_type": "code",
   "execution_count": 65,
   "id": "74aa8339",
   "metadata": {},
   "outputs": [
    {
     "data": {
      "text/latex": [
       "$\\displaystyle \\frac{\\left(- \\left(\\frac{A_{p} J_{p} \\sin{\\left(\\nu_{p} \\right)}}{e_{p} \\cos{\\left(\\nu_{p} \\right)} + 1} + \\frac{A_{p} K_{p} \\cos{\\left(\\nu_{p} \\right)}}{e_{p} \\cos{\\left(\\nu_{p} \\right)} + 1}\\right) \\left(- \\frac{A_{p} J_{p} \\sin{\\left(\\nu_{p} \\right)}}{e_{p} \\cos{\\left(\\nu_{p} \\right)} + 1} - \\frac{A_{p} K_{p} \\cos{\\left(\\nu_{p} \\right)}}{e_{p} \\cos{\\left(\\nu_{p} \\right)} + 1} + \\frac{A_{q} J_{q} \\sin{\\left(\\nu_{q} \\right)}}{e_{q} \\cos{\\left(\\nu_{q} \\right)} + 1} + \\frac{A_{q} K_{q} \\cos{\\left(\\nu_{q} \\right)}}{e_{q} \\cos{\\left(\\nu_{q} \\right)} + 1}\\right) + \\left(- \\frac{A_{p} B_{p} \\sin{\\left(\\nu_{p} \\right)}}{e_{p} \\cos{\\left(\\nu_{p} \\right)} + 1} - \\frac{A_{p} C_{p} \\cos{\\left(\\nu_{p} \\right)}}{e_{p} \\cos{\\left(\\nu_{p} \\right)} + 1} - \\frac{A_{p} D_{p} \\sin{\\left(\\nu_{p} \\right)}}{e_{p} \\cos{\\left(\\nu_{p} \\right)} + 1} + \\frac{A_{p} E_{p} \\cos{\\left(\\nu_{p} \\right)}}{e_{p} \\cos{\\left(\\nu_{p} \\right)} + 1}\\right) \\left(- \\frac{A_{p} B_{p} \\sin{\\left(\\nu_{p} \\right)}}{e_{p} \\cos{\\left(\\nu_{p} \\right)} + 1} - \\frac{A_{p} C_{p} \\cos{\\left(\\nu_{p} \\right)}}{e_{p} \\cos{\\left(\\nu_{p} \\right)} + 1} - \\frac{A_{p} D_{p} \\sin{\\left(\\nu_{p} \\right)}}{e_{p} \\cos{\\left(\\nu_{p} \\right)} + 1} + \\frac{A_{p} E_{p} \\cos{\\left(\\nu_{p} \\right)}}{e_{p} \\cos{\\left(\\nu_{p} \\right)} + 1} + \\frac{A_{q} B_{q} \\sin{\\left(\\nu_{q} \\right)}}{e_{q} \\cos{\\left(\\nu_{q} \\right)} + 1} + \\frac{A_{q} C_{q} \\cos{\\left(\\nu_{q} \\right)}}{e_{q} \\cos{\\left(\\nu_{q} \\right)} + 1} + \\frac{A_{q} D_{q} \\sin{\\left(\\nu_{q} \\right)}}{e_{q} \\cos{\\left(\\nu_{q} \\right)} + 1} - \\frac{A_{q} E_{q} \\cos{\\left(\\nu_{q} \\right)}}{e_{q} \\cos{\\left(\\nu_{q} \\right)} + 1}\\right) - \\left(- \\frac{A_{p} F_{p} \\sin{\\left(\\nu_{p} \\right)}}{e_{p} \\cos{\\left(\\nu_{p} \\right)} + 1} + \\frac{A_{p} G_{p} \\cos{\\left(\\nu_{p} \\right)}}{e_{p} \\cos{\\left(\\nu_{p} \\right)} + 1} + \\frac{A_{p} H_{p} \\sin{\\left(\\nu_{p} \\right)}}{e_{p} \\cos{\\left(\\nu_{p} \\right)} + 1} + \\frac{A_{p} I_{p} \\cos{\\left(\\nu_{p} \\right)}}{e_{p} \\cos{\\left(\\nu_{p} \\right)} + 1}\\right) \\left(\\frac{A_{p} F_{p} \\sin{\\left(\\nu_{p} \\right)}}{e_{p} \\cos{\\left(\\nu_{p} \\right)} + 1} - \\frac{A_{p} G_{p} \\cos{\\left(\\nu_{p} \\right)}}{e_{p} \\cos{\\left(\\nu_{p} \\right)} + 1} - \\frac{A_{p} H_{p} \\sin{\\left(\\nu_{p} \\right)}}{e_{p} \\cos{\\left(\\nu_{p} \\right)} + 1} - \\frac{A_{p} I_{p} \\cos{\\left(\\nu_{p} \\right)}}{e_{p} \\cos{\\left(\\nu_{p} \\right)} + 1} - \\frac{A_{q} F_{q} \\sin{\\left(\\nu_{q} \\right)}}{e_{q} \\cos{\\left(\\nu_{q} \\right)} + 1} + \\frac{A_{q} G_{q} \\cos{\\left(\\nu_{q} \\right)}}{e_{q} \\cos{\\left(\\nu_{q} \\right)} + 1} + \\frac{A_{q} H_{q} \\sin{\\left(\\nu_{q} \\right)}}{e_{q} \\cos{\\left(\\nu_{q} \\right)} + 1} + \\frac{A_{q} I_{q} \\cos{\\left(\\nu_{q} \\right)}}{e_{q} \\cos{\\left(\\nu_{q} \\right)} + 1}\\right)\\right) \\left(\\frac{A_{p} B_{p} \\sin{\\left(\\nu_{p} \\right)}}{e_{p} \\cos{\\left(\\nu_{p} \\right)} + 1} + \\frac{A_{p} C_{p} \\cos{\\left(\\nu_{p} \\right)}}{e_{p} \\cos{\\left(\\nu_{p} \\right)} + 1} + \\frac{A_{p} D_{p} \\sin{\\left(\\nu_{p} \\right)}}{e_{p} \\cos{\\left(\\nu_{p} \\right)} + 1} - \\frac{A_{p} E_{p} \\cos{\\left(\\nu_{p} \\right)}}{e_{p} \\cos{\\left(\\nu_{p} \\right)} + 1} - \\frac{A_{q} B_{q} \\sin{\\left(\\nu_{q} \\right)}}{e_{q} \\cos{\\left(\\nu_{q} \\right)} + 1} - \\frac{A_{q} C_{q} \\cos{\\left(\\nu_{q} \\right)}}{e_{q} \\cos{\\left(\\nu_{q} \\right)} + 1} - \\frac{A_{q} D_{q} \\sin{\\left(\\nu_{q} \\right)}}{e_{q} \\cos{\\left(\\nu_{q} \\right)} + 1} + \\frac{A_{q} E_{q} \\cos{\\left(\\nu_{q} \\right)}}{e_{q} \\cos{\\left(\\nu_{q} \\right)} + 1}\\right)}{\\left(- \\frac{A_{p} J_{p} \\sin{\\left(\\nu_{p} \\right)}}{e_{p} \\cos{\\left(\\nu_{p} \\right)} + 1} - \\frac{A_{p} K_{p} \\cos{\\left(\\nu_{p} \\right)}}{e_{p} \\cos{\\left(\\nu_{p} \\right)} + 1} + \\frac{A_{q} J_{q} \\sin{\\left(\\nu_{q} \\right)}}{e_{q} \\cos{\\left(\\nu_{q} \\right)} + 1} + \\frac{A_{q} K_{q} \\cos{\\left(\\nu_{q} \\right)}}{e_{q} \\cos{\\left(\\nu_{q} \\right)} + 1}\\right)^{2} + \\left(\\frac{A_{p} B_{p} \\sin{\\left(\\nu_{p} \\right)}}{e_{p} \\cos{\\left(\\nu_{p} \\right)} + 1} + \\frac{A_{p} C_{p} \\cos{\\left(\\nu_{p} \\right)}}{e_{p} \\cos{\\left(\\nu_{p} \\right)} + 1} + \\frac{A_{p} D_{p} \\sin{\\left(\\nu_{p} \\right)}}{e_{p} \\cos{\\left(\\nu_{p} \\right)} + 1} - \\frac{A_{p} E_{p} \\cos{\\left(\\nu_{p} \\right)}}{e_{p} \\cos{\\left(\\nu_{p} \\right)} + 1} - \\frac{A_{q} B_{q} \\sin{\\left(\\nu_{q} \\right)}}{e_{q} \\cos{\\left(\\nu_{q} \\right)} + 1} - \\frac{A_{q} C_{q} \\cos{\\left(\\nu_{q} \\right)}}{e_{q} \\cos{\\left(\\nu_{q} \\right)} + 1} - \\frac{A_{q} D_{q} \\sin{\\left(\\nu_{q} \\right)}}{e_{q} \\cos{\\left(\\nu_{q} \\right)} + 1} + \\frac{A_{q} E_{q} \\cos{\\left(\\nu_{q} \\right)}}{e_{q} \\cos{\\left(\\nu_{q} \\right)} + 1}\\right)^{2} + \\left(\\frac{A_{p} F_{p} \\sin{\\left(\\nu_{p} \\right)}}{e_{p} \\cos{\\left(\\nu_{p} \\right)} + 1} - \\frac{A_{p} G_{p} \\cos{\\left(\\nu_{p} \\right)}}{e_{p} \\cos{\\left(\\nu_{p} \\right)} + 1} - \\frac{A_{p} H_{p} \\sin{\\left(\\nu_{p} \\right)}}{e_{p} \\cos{\\left(\\nu_{p} \\right)} + 1} - \\frac{A_{p} I_{p} \\cos{\\left(\\nu_{p} \\right)}}{e_{p} \\cos{\\left(\\nu_{p} \\right)} + 1} - \\frac{A_{q} F_{q} \\sin{\\left(\\nu_{q} \\right)}}{e_{q} \\cos{\\left(\\nu_{q} \\right)} + 1} + \\frac{A_{q} G_{q} \\cos{\\left(\\nu_{q} \\right)}}{e_{q} \\cos{\\left(\\nu_{q} \\right)} + 1} + \\frac{A_{q} H_{q} \\sin{\\left(\\nu_{q} \\right)}}{e_{q} \\cos{\\left(\\nu_{q} \\right)} + 1} + \\frac{A_{q} I_{q} \\cos{\\left(\\nu_{q} \\right)}}{e_{q} \\cos{\\left(\\nu_{q} \\right)} + 1}\\right)^{2}}$"
      ],
      "text/plain": [
       "(-(A_p*J_p*sin(nu_p)/(e_p*cos(nu_p) + 1) + A_p*K_p*cos(nu_p)/(e_p*cos(nu_p) + 1))*(-A_p*J_p*sin(nu_p)/(e_p*cos(nu_p) + 1) - A_p*K_p*cos(nu_p)/(e_p*cos(nu_p) + 1) + A_q*J_q*sin(nu_q)/(e_q*cos(nu_q) + 1) + A_q*K_q*cos(nu_q)/(e_q*cos(nu_q) + 1)) + (-A_p*B_p*sin(nu_p)/(e_p*cos(nu_p) + 1) - A_p*C_p*cos(nu_p)/(e_p*cos(nu_p) + 1) - A_p*D_p*sin(nu_p)/(e_p*cos(nu_p) + 1) + A_p*E_p*cos(nu_p)/(e_p*cos(nu_p) + 1))*(-A_p*B_p*sin(nu_p)/(e_p*cos(nu_p) + 1) - A_p*C_p*cos(nu_p)/(e_p*cos(nu_p) + 1) - A_p*D_p*sin(nu_p)/(e_p*cos(nu_p) + 1) + A_p*E_p*cos(nu_p)/(e_p*cos(nu_p) + 1) + A_q*B_q*sin(nu_q)/(e_q*cos(nu_q) + 1) + A_q*C_q*cos(nu_q)/(e_q*cos(nu_q) + 1) + A_q*D_q*sin(nu_q)/(e_q*cos(nu_q) + 1) - A_q*E_q*cos(nu_q)/(e_q*cos(nu_q) + 1)) - (-A_p*F_p*sin(nu_p)/(e_p*cos(nu_p) + 1) + A_p*G_p*cos(nu_p)/(e_p*cos(nu_p) + 1) + A_p*H_p*sin(nu_p)/(e_p*cos(nu_p) + 1) + A_p*I_p*cos(nu_p)/(e_p*cos(nu_p) + 1))*(A_p*F_p*sin(nu_p)/(e_p*cos(nu_p) + 1) - A_p*G_p*cos(nu_p)/(e_p*cos(nu_p) + 1) - A_p*H_p*sin(nu_p)/(e_p*cos(nu_p) + 1) - A_p*I_p*cos(nu_p)/(e_p*cos(nu_p) + 1) - A_q*F_q*sin(nu_q)/(e_q*cos(nu_q) + 1) + A_q*G_q*cos(nu_q)/(e_q*cos(nu_q) + 1) + A_q*H_q*sin(nu_q)/(e_q*cos(nu_q) + 1) + A_q*I_q*cos(nu_q)/(e_q*cos(nu_q) + 1)))*(A_p*B_p*sin(nu_p)/(e_p*cos(nu_p) + 1) + A_p*C_p*cos(nu_p)/(e_p*cos(nu_p) + 1) + A_p*D_p*sin(nu_p)/(e_p*cos(nu_p) + 1) - A_p*E_p*cos(nu_p)/(e_p*cos(nu_p) + 1) - A_q*B_q*sin(nu_q)/(e_q*cos(nu_q) + 1) - A_q*C_q*cos(nu_q)/(e_q*cos(nu_q) + 1) - A_q*D_q*sin(nu_q)/(e_q*cos(nu_q) + 1) + A_q*E_q*cos(nu_q)/(e_q*cos(nu_q) + 1))/((-A_p*J_p*sin(nu_p)/(e_p*cos(nu_p) + 1) - A_p*K_p*cos(nu_p)/(e_p*cos(nu_p) + 1) + A_q*J_q*sin(nu_q)/(e_q*cos(nu_q) + 1) + A_q*K_q*cos(nu_q)/(e_q*cos(nu_q) + 1))**2 + (A_p*B_p*sin(nu_p)/(e_p*cos(nu_p) + 1) + A_p*C_p*cos(nu_p)/(e_p*cos(nu_p) + 1) + A_p*D_p*sin(nu_p)/(e_p*cos(nu_p) + 1) - A_p*E_p*cos(nu_p)/(e_p*cos(nu_p) + 1) - A_q*B_q*sin(nu_q)/(e_q*cos(nu_q) + 1) - A_q*C_q*cos(nu_q)/(e_q*cos(nu_q) + 1) - A_q*D_q*sin(nu_q)/(e_q*cos(nu_q) + 1) + A_q*E_q*cos(nu_q)/(e_q*cos(nu_q) + 1))**2 + (A_p*F_p*sin(nu_p)/(e_p*cos(nu_p) + 1) - A_p*G_p*cos(nu_p)/(e_p*cos(nu_p) + 1) - A_p*H_p*sin(nu_p)/(e_p*cos(nu_p) + 1) - A_p*I_p*cos(nu_p)/(e_p*cos(nu_p) + 1) - A_q*F_q*sin(nu_q)/(e_q*cos(nu_q) + 1) + A_q*G_q*cos(nu_q)/(e_q*cos(nu_q) + 1) + A_q*H_q*sin(nu_q)/(e_q*cos(nu_q) + 1) + A_q*I_q*cos(nu_q)/(e_q*cos(nu_q) + 1))**2)"
      ]
     },
     "execution_count": 65,
     "metadata": {},
     "output_type": "execute_result"
    }
   ],
   "source": [
    "Xh.args[0]"
   ]
  },
  {
   "cell_type": "code",
   "execution_count": 66,
   "id": "83764df1",
   "metadata": {},
   "outputs": [
    {
     "data": {
      "text/latex": [
       "$\\displaystyle \\left(- \\frac{A_{p} J_{p} \\sin{\\left(\\nu_{p} \\right)}}{e_{p} \\cos{\\left(\\nu_{p} \\right)} + 1} - \\frac{A_{p} K_{p} \\cos{\\left(\\nu_{p} \\right)}}{e_{p} \\cos{\\left(\\nu_{p} \\right)} + 1} + \\frac{A_{q} J_{q} \\sin{\\left(\\nu_{q} \\right)}}{e_{q} \\cos{\\left(\\nu_{q} \\right)} + 1} + \\frac{A_{q} K_{q} \\cos{\\left(\\nu_{q} \\right)}}{e_{q} \\cos{\\left(\\nu_{q} \\right)} + 1}\\right)^{2} + \\left(\\frac{A_{p} B_{p} \\sin{\\left(\\nu_{p} \\right)}}{e_{p} \\cos{\\left(\\nu_{p} \\right)} + 1} + \\frac{A_{p} C_{p} \\cos{\\left(\\nu_{p} \\right)}}{e_{p} \\cos{\\left(\\nu_{p} \\right)} + 1} + \\frac{A_{p} D_{p} \\sin{\\left(\\nu_{p} \\right)}}{e_{p} \\cos{\\left(\\nu_{p} \\right)} + 1} - \\frac{A_{p} E_{p} \\cos{\\left(\\nu_{p} \\right)}}{e_{p} \\cos{\\left(\\nu_{p} \\right)} + 1} - \\frac{A_{q} B_{q} \\sin{\\left(\\nu_{q} \\right)}}{e_{q} \\cos{\\left(\\nu_{q} \\right)} + 1} - \\frac{A_{q} C_{q} \\cos{\\left(\\nu_{q} \\right)}}{e_{q} \\cos{\\left(\\nu_{q} \\right)} + 1} - \\frac{A_{q} D_{q} \\sin{\\left(\\nu_{q} \\right)}}{e_{q} \\cos{\\left(\\nu_{q} \\right)} + 1} + \\frac{A_{q} E_{q} \\cos{\\left(\\nu_{q} \\right)}}{e_{q} \\cos{\\left(\\nu_{q} \\right)} + 1}\\right)^{2} + \\left(\\frac{A_{p} F_{p} \\sin{\\left(\\nu_{p} \\right)}}{e_{p} \\cos{\\left(\\nu_{p} \\right)} + 1} - \\frac{A_{p} G_{p} \\cos{\\left(\\nu_{p} \\right)}}{e_{p} \\cos{\\left(\\nu_{p} \\right)} + 1} - \\frac{A_{p} H_{p} \\sin{\\left(\\nu_{p} \\right)}}{e_{p} \\cos{\\left(\\nu_{p} \\right)} + 1} - \\frac{A_{p} I_{p} \\cos{\\left(\\nu_{p} \\right)}}{e_{p} \\cos{\\left(\\nu_{p} \\right)} + 1} - \\frac{A_{q} F_{q} \\sin{\\left(\\nu_{q} \\right)}}{e_{q} \\cos{\\left(\\nu_{q} \\right)} + 1} + \\frac{A_{q} G_{q} \\cos{\\left(\\nu_{q} \\right)}}{e_{q} \\cos{\\left(\\nu_{q} \\right)} + 1} + \\frac{A_{q} H_{q} \\sin{\\left(\\nu_{q} \\right)}}{e_{q} \\cos{\\left(\\nu_{q} \\right)} + 1} + \\frac{A_{q} I_{q} \\cos{\\left(\\nu_{q} \\right)}}{e_{q} \\cos{\\left(\\nu_{q} \\right)} + 1}\\right)^{2}$"
      ],
      "text/plain": [
       "(-A_p*J_p*sin(nu_p)/(e_p*cos(nu_p) + 1) - A_p*K_p*cos(nu_p)/(e_p*cos(nu_p) + 1) + A_q*J_q*sin(nu_q)/(e_q*cos(nu_q) + 1) + A_q*K_q*cos(nu_q)/(e_q*cos(nu_q) + 1))**2 + (A_p*B_p*sin(nu_p)/(e_p*cos(nu_p) + 1) + A_p*C_p*cos(nu_p)/(e_p*cos(nu_p) + 1) + A_p*D_p*sin(nu_p)/(e_p*cos(nu_p) + 1) - A_p*E_p*cos(nu_p)/(e_p*cos(nu_p) + 1) - A_q*B_q*sin(nu_q)/(e_q*cos(nu_q) + 1) - A_q*C_q*cos(nu_q)/(e_q*cos(nu_q) + 1) - A_q*D_q*sin(nu_q)/(e_q*cos(nu_q) + 1) + A_q*E_q*cos(nu_q)/(e_q*cos(nu_q) + 1))**2 + (A_p*F_p*sin(nu_p)/(e_p*cos(nu_p) + 1) - A_p*G_p*cos(nu_p)/(e_p*cos(nu_p) + 1) - A_p*H_p*sin(nu_p)/(e_p*cos(nu_p) + 1) - A_p*I_p*cos(nu_p)/(e_p*cos(nu_p) + 1) - A_q*F_q*sin(nu_q)/(e_q*cos(nu_q) + 1) + A_q*G_q*cos(nu_q)/(e_q*cos(nu_q) + 1) + A_q*H_q*sin(nu_q)/(e_q*cos(nu_q) + 1) + A_q*I_q*cos(nu_q)/(e_q*cos(nu_q) + 1))**2"
      ]
     },
     "execution_count": 66,
     "metadata": {},
     "output_type": "execute_result"
    }
   ],
   "source": [
    "#extract denominator\n",
    "d"
   ]
  },
  {
   "cell_type": "code",
   "execution_count": 67,
   "id": "dec713d1",
   "metadata": {},
   "outputs": [
    {
     "data": {
      "text/plain": [
       "3"
      ]
     },
     "execution_count": 67,
     "metadata": {},
     "output_type": "execute_result"
    }
   ],
   "source": [
    "len(d.args)"
   ]
  },
  {
   "cell_type": "code",
   "execution_count": 68,
   "id": "4aab38a4",
   "metadata": {},
   "outputs": [],
   "source": [
    "Xh_d0 = sp.simplify(d.args[0]*(ep*sp.cos(vp)+1)**2*(eq*sp.cos(vq)+1)**2)"
   ]
  },
  {
   "cell_type": "code",
   "execution_count": 69,
   "id": "48d4eb46",
   "metadata": {},
   "outputs": [
    {
     "data": {
      "text/latex": [
       "$\\displaystyle \\left(A_{p} \\left(J_{p} \\sin{\\left(\\nu_{p} \\right)} + K_{p} \\cos{\\left(\\nu_{p} \\right)}\\right) \\left(e_{q} \\cos{\\left(\\nu_{q} \\right)} + 1\\right) - A_{q} \\left(J_{q} \\sin{\\left(\\nu_{q} \\right)} + K_{q} \\cos{\\left(\\nu_{q} \\right)}\\right) \\left(e_{p} \\cos{\\left(\\nu_{p} \\right)} + 1\\right)\\right)^{2}$"
      ],
      "text/plain": [
       "(A_p*(J_p*sin(nu_p) + K_p*cos(nu_p))*(e_q*cos(nu_q) + 1) - A_q*(J_q*sin(nu_q) + K_q*cos(nu_q))*(e_p*cos(nu_p) + 1))**2"
      ]
     },
     "execution_count": 69,
     "metadata": {},
     "output_type": "execute_result"
    }
   ],
   "source": [
    "Xh_d0"
   ]
  },
  {
   "cell_type": "code",
   "execution_count": 70,
   "id": "3f34e6ba",
   "metadata": {},
   "outputs": [],
   "source": [
    "Xh_d1 = sp.simplify(d.args[1]*(ep*sp.cos(vp)+1)**2*(eq*sp.cos(vq)+1)**2)"
   ]
  },
  {
   "cell_type": "code",
   "execution_count": 71,
   "id": "b7cf64f4",
   "metadata": {},
   "outputs": [
    {
     "data": {
      "text/latex": [
       "$\\displaystyle \\left(A_{p} \\left(e_{q} \\cos{\\left(\\nu_{q} \\right)} + 1\\right) \\left(B_{p} \\sin{\\left(\\nu_{p} \\right)} + C_{p} \\cos{\\left(\\nu_{p} \\right)} + D_{p} \\sin{\\left(\\nu_{p} \\right)} - E_{p} \\cos{\\left(\\nu_{p} \\right)}\\right) + A_{q} \\left(e_{p} \\cos{\\left(\\nu_{p} \\right)} + 1\\right) \\left(- B_{q} \\sin{\\left(\\nu_{q} \\right)} - C_{q} \\cos{\\left(\\nu_{q} \\right)} - D_{q} \\sin{\\left(\\nu_{q} \\right)} + E_{q} \\cos{\\left(\\nu_{q} \\right)}\\right)\\right)^{2}$"
      ],
      "text/plain": [
       "(A_p*(e_q*cos(nu_q) + 1)*(B_p*sin(nu_p) + C_p*cos(nu_p) + D_p*sin(nu_p) - E_p*cos(nu_p)) + A_q*(e_p*cos(nu_p) + 1)*(-B_q*sin(nu_q) - C_q*cos(nu_q) - D_q*sin(nu_q) + E_q*cos(nu_q)))**2"
      ]
     },
     "execution_count": 71,
     "metadata": {},
     "output_type": "execute_result"
    }
   ],
   "source": [
    "Xh_d1"
   ]
  },
  {
   "cell_type": "code",
   "execution_count": 72,
   "id": "e323ba7c",
   "metadata": {},
   "outputs": [],
   "source": [
    "Xh_d2 = sp.simplify(d.args[2]*(ep*sp.cos(vp)+1)**2*(eq*sp.cos(vq)+1)**2)"
   ]
  },
  {
   "cell_type": "code",
   "execution_count": 73,
   "id": "434689b0",
   "metadata": {},
   "outputs": [
    {
     "data": {
      "text/latex": [
       "$\\displaystyle \\left(A_{p} \\left(e_{q} \\cos{\\left(\\nu_{q} \\right)} + 1\\right) \\left(F_{p} \\sin{\\left(\\nu_{p} \\right)} - G_{p} \\cos{\\left(\\nu_{p} \\right)} - H_{p} \\sin{\\left(\\nu_{p} \\right)} - I_{p} \\cos{\\left(\\nu_{p} \\right)}\\right) + A_{q} \\left(e_{p} \\cos{\\left(\\nu_{p} \\right)} + 1\\right) \\left(- F_{q} \\sin{\\left(\\nu_{q} \\right)} + G_{q} \\cos{\\left(\\nu_{q} \\right)} + H_{q} \\sin{\\left(\\nu_{q} \\right)} + I_{q} \\cos{\\left(\\nu_{q} \\right)}\\right)\\right)^{2}$"
      ],
      "text/plain": [
       "(A_p*(e_q*cos(nu_q) + 1)*(F_p*sin(nu_p) - G_p*cos(nu_p) - H_p*sin(nu_p) - I_p*cos(nu_p)) + A_q*(e_p*cos(nu_p) + 1)*(-F_q*sin(nu_q) + G_q*cos(nu_q) + H_q*sin(nu_q) + I_q*cos(nu_q)))**2"
      ]
     },
     "execution_count": 73,
     "metadata": {},
     "output_type": "execute_result"
    }
   ],
   "source": [
    "Xh_d2"
   ]
  },
  {
   "cell_type": "code",
   "execution_count": 74,
   "id": "7c3cb0c5",
   "metadata": {},
   "outputs": [
    {
     "data": {
      "text/latex": [
       "$\\displaystyle \\left(- \\left(\\frac{A_{p} J_{p} \\sin{\\left(\\nu_{p} \\right)}}{e_{p} \\cos{\\left(\\nu_{p} \\right)} + 1} + \\frac{A_{p} K_{p} \\cos{\\left(\\nu_{p} \\right)}}{e_{p} \\cos{\\left(\\nu_{p} \\right)} + 1}\\right) \\left(- \\frac{A_{p} J_{p} \\sin{\\left(\\nu_{p} \\right)}}{e_{p} \\cos{\\left(\\nu_{p} \\right)} + 1} - \\frac{A_{p} K_{p} \\cos{\\left(\\nu_{p} \\right)}}{e_{p} \\cos{\\left(\\nu_{p} \\right)} + 1} + \\frac{A_{q} J_{q} \\sin{\\left(\\nu_{q} \\right)}}{e_{q} \\cos{\\left(\\nu_{q} \\right)} + 1} + \\frac{A_{q} K_{q} \\cos{\\left(\\nu_{q} \\right)}}{e_{q} \\cos{\\left(\\nu_{q} \\right)} + 1}\\right) + \\left(- \\frac{A_{p} B_{p} \\sin{\\left(\\nu_{p} \\right)}}{e_{p} \\cos{\\left(\\nu_{p} \\right)} + 1} - \\frac{A_{p} C_{p} \\cos{\\left(\\nu_{p} \\right)}}{e_{p} \\cos{\\left(\\nu_{p} \\right)} + 1} - \\frac{A_{p} D_{p} \\sin{\\left(\\nu_{p} \\right)}}{e_{p} \\cos{\\left(\\nu_{p} \\right)} + 1} + \\frac{A_{p} E_{p} \\cos{\\left(\\nu_{p} \\right)}}{e_{p} \\cos{\\left(\\nu_{p} \\right)} + 1}\\right) \\left(- \\frac{A_{p} B_{p} \\sin{\\left(\\nu_{p} \\right)}}{e_{p} \\cos{\\left(\\nu_{p} \\right)} + 1} - \\frac{A_{p} C_{p} \\cos{\\left(\\nu_{p} \\right)}}{e_{p} \\cos{\\left(\\nu_{p} \\right)} + 1} - \\frac{A_{p} D_{p} \\sin{\\left(\\nu_{p} \\right)}}{e_{p} \\cos{\\left(\\nu_{p} \\right)} + 1} + \\frac{A_{p} E_{p} \\cos{\\left(\\nu_{p} \\right)}}{e_{p} \\cos{\\left(\\nu_{p} \\right)} + 1} + \\frac{A_{q} B_{q} \\sin{\\left(\\nu_{q} \\right)}}{e_{q} \\cos{\\left(\\nu_{q} \\right)} + 1} + \\frac{A_{q} C_{q} \\cos{\\left(\\nu_{q} \\right)}}{e_{q} \\cos{\\left(\\nu_{q} \\right)} + 1} + \\frac{A_{q} D_{q} \\sin{\\left(\\nu_{q} \\right)}}{e_{q} \\cos{\\left(\\nu_{q} \\right)} + 1} - \\frac{A_{q} E_{q} \\cos{\\left(\\nu_{q} \\right)}}{e_{q} \\cos{\\left(\\nu_{q} \\right)} + 1}\\right) - \\left(- \\frac{A_{p} F_{p} \\sin{\\left(\\nu_{p} \\right)}}{e_{p} \\cos{\\left(\\nu_{p} \\right)} + 1} + \\frac{A_{p} G_{p} \\cos{\\left(\\nu_{p} \\right)}}{e_{p} \\cos{\\left(\\nu_{p} \\right)} + 1} + \\frac{A_{p} H_{p} \\sin{\\left(\\nu_{p} \\right)}}{e_{p} \\cos{\\left(\\nu_{p} \\right)} + 1} + \\frac{A_{p} I_{p} \\cos{\\left(\\nu_{p} \\right)}}{e_{p} \\cos{\\left(\\nu_{p} \\right)} + 1}\\right) \\left(\\frac{A_{p} F_{p} \\sin{\\left(\\nu_{p} \\right)}}{e_{p} \\cos{\\left(\\nu_{p} \\right)} + 1} - \\frac{A_{p} G_{p} \\cos{\\left(\\nu_{p} \\right)}}{e_{p} \\cos{\\left(\\nu_{p} \\right)} + 1} - \\frac{A_{p} H_{p} \\sin{\\left(\\nu_{p} \\right)}}{e_{p} \\cos{\\left(\\nu_{p} \\right)} + 1} - \\frac{A_{p} I_{p} \\cos{\\left(\\nu_{p} \\right)}}{e_{p} \\cos{\\left(\\nu_{p} \\right)} + 1} - \\frac{A_{q} F_{q} \\sin{\\left(\\nu_{q} \\right)}}{e_{q} \\cos{\\left(\\nu_{q} \\right)} + 1} + \\frac{A_{q} G_{q} \\cos{\\left(\\nu_{q} \\right)}}{e_{q} \\cos{\\left(\\nu_{q} \\right)} + 1} + \\frac{A_{q} H_{q} \\sin{\\left(\\nu_{q} \\right)}}{e_{q} \\cos{\\left(\\nu_{q} \\right)} + 1} + \\frac{A_{q} I_{q} \\cos{\\left(\\nu_{q} \\right)}}{e_{q} \\cos{\\left(\\nu_{q} \\right)} + 1}\\right)\\right) \\left(\\frac{A_{p} B_{p} \\sin{\\left(\\nu_{p} \\right)}}{e_{p} \\cos{\\left(\\nu_{p} \\right)} + 1} + \\frac{A_{p} C_{p} \\cos{\\left(\\nu_{p} \\right)}}{e_{p} \\cos{\\left(\\nu_{p} \\right)} + 1} + \\frac{A_{p} D_{p} \\sin{\\left(\\nu_{p} \\right)}}{e_{p} \\cos{\\left(\\nu_{p} \\right)} + 1} - \\frac{A_{p} E_{p} \\cos{\\left(\\nu_{p} \\right)}}{e_{p} \\cos{\\left(\\nu_{p} \\right)} + 1} - \\frac{A_{q} B_{q} \\sin{\\left(\\nu_{q} \\right)}}{e_{q} \\cos{\\left(\\nu_{q} \\right)} + 1} - \\frac{A_{q} C_{q} \\cos{\\left(\\nu_{q} \\right)}}{e_{q} \\cos{\\left(\\nu_{q} \\right)} + 1} - \\frac{A_{q} D_{q} \\sin{\\left(\\nu_{q} \\right)}}{e_{q} \\cos{\\left(\\nu_{q} \\right)} + 1} + \\frac{A_{q} E_{q} \\cos{\\left(\\nu_{q} \\right)}}{e_{q} \\cos{\\left(\\nu_{q} \\right)} + 1}\\right)$"
      ],
      "text/plain": [
       "(-(A_p*J_p*sin(nu_p)/(e_p*cos(nu_p) + 1) + A_p*K_p*cos(nu_p)/(e_p*cos(nu_p) + 1))*(-A_p*J_p*sin(nu_p)/(e_p*cos(nu_p) + 1) - A_p*K_p*cos(nu_p)/(e_p*cos(nu_p) + 1) + A_q*J_q*sin(nu_q)/(e_q*cos(nu_q) + 1) + A_q*K_q*cos(nu_q)/(e_q*cos(nu_q) + 1)) + (-A_p*B_p*sin(nu_p)/(e_p*cos(nu_p) + 1) - A_p*C_p*cos(nu_p)/(e_p*cos(nu_p) + 1) - A_p*D_p*sin(nu_p)/(e_p*cos(nu_p) + 1) + A_p*E_p*cos(nu_p)/(e_p*cos(nu_p) + 1))*(-A_p*B_p*sin(nu_p)/(e_p*cos(nu_p) + 1) - A_p*C_p*cos(nu_p)/(e_p*cos(nu_p) + 1) - A_p*D_p*sin(nu_p)/(e_p*cos(nu_p) + 1) + A_p*E_p*cos(nu_p)/(e_p*cos(nu_p) + 1) + A_q*B_q*sin(nu_q)/(e_q*cos(nu_q) + 1) + A_q*C_q*cos(nu_q)/(e_q*cos(nu_q) + 1) + A_q*D_q*sin(nu_q)/(e_q*cos(nu_q) + 1) - A_q*E_q*cos(nu_q)/(e_q*cos(nu_q) + 1)) - (-A_p*F_p*sin(nu_p)/(e_p*cos(nu_p) + 1) + A_p*G_p*cos(nu_p)/(e_p*cos(nu_p) + 1) + A_p*H_p*sin(nu_p)/(e_p*cos(nu_p) + 1) + A_p*I_p*cos(nu_p)/(e_p*cos(nu_p) + 1))*(A_p*F_p*sin(nu_p)/(e_p*cos(nu_p) + 1) - A_p*G_p*cos(nu_p)/(e_p*cos(nu_p) + 1) - A_p*H_p*sin(nu_p)/(e_p*cos(nu_p) + 1) - A_p*I_p*cos(nu_p)/(e_p*cos(nu_p) + 1) - A_q*F_q*sin(nu_q)/(e_q*cos(nu_q) + 1) + A_q*G_q*cos(nu_q)/(e_q*cos(nu_q) + 1) + A_q*H_q*sin(nu_q)/(e_q*cos(nu_q) + 1) + A_q*I_q*cos(nu_q)/(e_q*cos(nu_q) + 1)))*(A_p*B_p*sin(nu_p)/(e_p*cos(nu_p) + 1) + A_p*C_p*cos(nu_p)/(e_p*cos(nu_p) + 1) + A_p*D_p*sin(nu_p)/(e_p*cos(nu_p) + 1) - A_p*E_p*cos(nu_p)/(e_p*cos(nu_p) + 1) - A_q*B_q*sin(nu_q)/(e_q*cos(nu_q) + 1) - A_q*C_q*cos(nu_q)/(e_q*cos(nu_q) + 1) - A_q*D_q*sin(nu_q)/(e_q*cos(nu_q) + 1) + A_q*E_q*cos(nu_q)/(e_q*cos(nu_q) + 1))"
      ]
     },
     "execution_count": 74,
     "metadata": {},
     "output_type": "execute_result"
    }
   ],
   "source": [
    "n"
   ]
  },
  {
   "cell_type": "code",
   "execution_count": 75,
   "id": "c7d84bc7",
   "metadata": {},
   "outputs": [
    {
     "data": {
      "text/plain": [
       "2"
      ]
     },
     "execution_count": 75,
     "metadata": {},
     "output_type": "execute_result"
    }
   ],
   "source": [
    "len(n.args)"
   ]
  },
  {
   "cell_type": "code",
   "execution_count": 76,
   "id": "59362134",
   "metadata": {},
   "outputs": [
    {
     "data": {
      "text/latex": [
       "$\\displaystyle - \\left(\\frac{A_{p} J_{p} \\sin{\\left(\\nu_{p} \\right)}}{e_{p} \\cos{\\left(\\nu_{p} \\right)} + 1} + \\frac{A_{p} K_{p} \\cos{\\left(\\nu_{p} \\right)}}{e_{p} \\cos{\\left(\\nu_{p} \\right)} + 1}\\right) \\left(- \\frac{A_{p} J_{p} \\sin{\\left(\\nu_{p} \\right)}}{e_{p} \\cos{\\left(\\nu_{p} \\right)} + 1} - \\frac{A_{p} K_{p} \\cos{\\left(\\nu_{p} \\right)}}{e_{p} \\cos{\\left(\\nu_{p} \\right)} + 1} + \\frac{A_{q} J_{q} \\sin{\\left(\\nu_{q} \\right)}}{e_{q} \\cos{\\left(\\nu_{q} \\right)} + 1} + \\frac{A_{q} K_{q} \\cos{\\left(\\nu_{q} \\right)}}{e_{q} \\cos{\\left(\\nu_{q} \\right)} + 1}\\right) + \\left(- \\frac{A_{p} B_{p} \\sin{\\left(\\nu_{p} \\right)}}{e_{p} \\cos{\\left(\\nu_{p} \\right)} + 1} - \\frac{A_{p} C_{p} \\cos{\\left(\\nu_{p} \\right)}}{e_{p} \\cos{\\left(\\nu_{p} \\right)} + 1} - \\frac{A_{p} D_{p} \\sin{\\left(\\nu_{p} \\right)}}{e_{p} \\cos{\\left(\\nu_{p} \\right)} + 1} + \\frac{A_{p} E_{p} \\cos{\\left(\\nu_{p} \\right)}}{e_{p} \\cos{\\left(\\nu_{p} \\right)} + 1}\\right) \\left(- \\frac{A_{p} B_{p} \\sin{\\left(\\nu_{p} \\right)}}{e_{p} \\cos{\\left(\\nu_{p} \\right)} + 1} - \\frac{A_{p} C_{p} \\cos{\\left(\\nu_{p} \\right)}}{e_{p} \\cos{\\left(\\nu_{p} \\right)} + 1} - \\frac{A_{p} D_{p} \\sin{\\left(\\nu_{p} \\right)}}{e_{p} \\cos{\\left(\\nu_{p} \\right)} + 1} + \\frac{A_{p} E_{p} \\cos{\\left(\\nu_{p} \\right)}}{e_{p} \\cos{\\left(\\nu_{p} \\right)} + 1} + \\frac{A_{q} B_{q} \\sin{\\left(\\nu_{q} \\right)}}{e_{q} \\cos{\\left(\\nu_{q} \\right)} + 1} + \\frac{A_{q} C_{q} \\cos{\\left(\\nu_{q} \\right)}}{e_{q} \\cos{\\left(\\nu_{q} \\right)} + 1} + \\frac{A_{q} D_{q} \\sin{\\left(\\nu_{q} \\right)}}{e_{q} \\cos{\\left(\\nu_{q} \\right)} + 1} - \\frac{A_{q} E_{q} \\cos{\\left(\\nu_{q} \\right)}}{e_{q} \\cos{\\left(\\nu_{q} \\right)} + 1}\\right) - \\left(- \\frac{A_{p} F_{p} \\sin{\\left(\\nu_{p} \\right)}}{e_{p} \\cos{\\left(\\nu_{p} \\right)} + 1} + \\frac{A_{p} G_{p} \\cos{\\left(\\nu_{p} \\right)}}{e_{p} \\cos{\\left(\\nu_{p} \\right)} + 1} + \\frac{A_{p} H_{p} \\sin{\\left(\\nu_{p} \\right)}}{e_{p} \\cos{\\left(\\nu_{p} \\right)} + 1} + \\frac{A_{p} I_{p} \\cos{\\left(\\nu_{p} \\right)}}{e_{p} \\cos{\\left(\\nu_{p} \\right)} + 1}\\right) \\left(\\frac{A_{p} F_{p} \\sin{\\left(\\nu_{p} \\right)}}{e_{p} \\cos{\\left(\\nu_{p} \\right)} + 1} - \\frac{A_{p} G_{p} \\cos{\\left(\\nu_{p} \\right)}}{e_{p} \\cos{\\left(\\nu_{p} \\right)} + 1} - \\frac{A_{p} H_{p} \\sin{\\left(\\nu_{p} \\right)}}{e_{p} \\cos{\\left(\\nu_{p} \\right)} + 1} - \\frac{A_{p} I_{p} \\cos{\\left(\\nu_{p} \\right)}}{e_{p} \\cos{\\left(\\nu_{p} \\right)} + 1} - \\frac{A_{q} F_{q} \\sin{\\left(\\nu_{q} \\right)}}{e_{q} \\cos{\\left(\\nu_{q} \\right)} + 1} + \\frac{A_{q} G_{q} \\cos{\\left(\\nu_{q} \\right)}}{e_{q} \\cos{\\left(\\nu_{q} \\right)} + 1} + \\frac{A_{q} H_{q} \\sin{\\left(\\nu_{q} \\right)}}{e_{q} \\cos{\\left(\\nu_{q} \\right)} + 1} + \\frac{A_{q} I_{q} \\cos{\\left(\\nu_{q} \\right)}}{e_{q} \\cos{\\left(\\nu_{q} \\right)} + 1}\\right)$"
      ],
      "text/plain": [
       "-(A_p*J_p*sin(nu_p)/(e_p*cos(nu_p) + 1) + A_p*K_p*cos(nu_p)/(e_p*cos(nu_p) + 1))*(-A_p*J_p*sin(nu_p)/(e_p*cos(nu_p) + 1) - A_p*K_p*cos(nu_p)/(e_p*cos(nu_p) + 1) + A_q*J_q*sin(nu_q)/(e_q*cos(nu_q) + 1) + A_q*K_q*cos(nu_q)/(e_q*cos(nu_q) + 1)) + (-A_p*B_p*sin(nu_p)/(e_p*cos(nu_p) + 1) - A_p*C_p*cos(nu_p)/(e_p*cos(nu_p) + 1) - A_p*D_p*sin(nu_p)/(e_p*cos(nu_p) + 1) + A_p*E_p*cos(nu_p)/(e_p*cos(nu_p) + 1))*(-A_p*B_p*sin(nu_p)/(e_p*cos(nu_p) + 1) - A_p*C_p*cos(nu_p)/(e_p*cos(nu_p) + 1) - A_p*D_p*sin(nu_p)/(e_p*cos(nu_p) + 1) + A_p*E_p*cos(nu_p)/(e_p*cos(nu_p) + 1) + A_q*B_q*sin(nu_q)/(e_q*cos(nu_q) + 1) + A_q*C_q*cos(nu_q)/(e_q*cos(nu_q) + 1) + A_q*D_q*sin(nu_q)/(e_q*cos(nu_q) + 1) - A_q*E_q*cos(nu_q)/(e_q*cos(nu_q) + 1)) - (-A_p*F_p*sin(nu_p)/(e_p*cos(nu_p) + 1) + A_p*G_p*cos(nu_p)/(e_p*cos(nu_p) + 1) + A_p*H_p*sin(nu_p)/(e_p*cos(nu_p) + 1) + A_p*I_p*cos(nu_p)/(e_p*cos(nu_p) + 1))*(A_p*F_p*sin(nu_p)/(e_p*cos(nu_p) + 1) - A_p*G_p*cos(nu_p)/(e_p*cos(nu_p) + 1) - A_p*H_p*sin(nu_p)/(e_p*cos(nu_p) + 1) - A_p*I_p*cos(nu_p)/(e_p*cos(nu_p) + 1) - A_q*F_q*sin(nu_q)/(e_q*cos(nu_q) + 1) + A_q*G_q*cos(nu_q)/(e_q*cos(nu_q) + 1) + A_q*H_q*sin(nu_q)/(e_q*cos(nu_q) + 1) + A_q*I_q*cos(nu_q)/(e_q*cos(nu_q) + 1))"
      ]
     },
     "execution_count": 76,
     "metadata": {},
     "output_type": "execute_result"
    }
   ],
   "source": [
    "n.args[0]"
   ]
  },
  {
   "cell_type": "code",
   "execution_count": 77,
   "id": "2482777e",
   "metadata": {},
   "outputs": [],
   "source": [
    "#nut, i cant believe this simplified down so nicely\n",
    "Xh_n0 = sp.simplify(n.args[0]*(ep*sp.cos(vp)+1)**2*(eq*sp.cos(vq)+1)**2)"
   ]
  },
  {
   "cell_type": "code",
   "execution_count": 78,
   "id": "4162930f",
   "metadata": {},
   "outputs": [
    {
     "data": {
      "text/latex": [
       "$\\displaystyle A_{p} \\left(e_{q} \\cos{\\left(\\nu_{q} \\right)} + 1\\right) \\left(\\left(J_{p} \\sin{\\left(\\nu_{p} \\right)} + K_{p} \\cos{\\left(\\nu_{p} \\right)}\\right) \\left(A_{p} \\left(J_{p} \\sin{\\left(\\nu_{p} \\right)} + K_{p} \\cos{\\left(\\nu_{p} \\right)}\\right) \\left(e_{q} \\cos{\\left(\\nu_{q} \\right)} + 1\\right) - A_{q} \\left(J_{q} \\sin{\\left(\\nu_{q} \\right)} + K_{q} \\cos{\\left(\\nu_{q} \\right)}\\right) \\left(e_{p} \\cos{\\left(\\nu_{p} \\right)} + 1\\right)\\right) + \\left(A_{p} \\left(e_{q} \\cos{\\left(\\nu_{q} \\right)} + 1\\right) \\left(B_{p} \\sin{\\left(\\nu_{p} \\right)} + C_{p} \\cos{\\left(\\nu_{p} \\right)} + D_{p} \\sin{\\left(\\nu_{p} \\right)} - E_{p} \\cos{\\left(\\nu_{p} \\right)}\\right) - A_{q} \\left(e_{p} \\cos{\\left(\\nu_{p} \\right)} + 1\\right) \\left(B_{q} \\sin{\\left(\\nu_{q} \\right)} + C_{q} \\cos{\\left(\\nu_{q} \\right)} + D_{q} \\sin{\\left(\\nu_{q} \\right)} - E_{q} \\cos{\\left(\\nu_{q} \\right)}\\right)\\right) \\left(B_{p} \\sin{\\left(\\nu_{p} \\right)} + C_{p} \\cos{\\left(\\nu_{p} \\right)} + D_{p} \\sin{\\left(\\nu_{p} \\right)} - E_{p} \\cos{\\left(\\nu_{p} \\right)}\\right) - \\left(- A_{p} \\left(e_{q} \\cos{\\left(\\nu_{q} \\right)} + 1\\right) \\left(- F_{p} \\sin{\\left(\\nu_{p} \\right)} + G_{p} \\cos{\\left(\\nu_{p} \\right)} + H_{p} \\sin{\\left(\\nu_{p} \\right)} + I_{p} \\cos{\\left(\\nu_{p} \\right)}\\right) + A_{q} \\left(e_{p} \\cos{\\left(\\nu_{p} \\right)} + 1\\right) \\left(- F_{q} \\sin{\\left(\\nu_{q} \\right)} + G_{q} \\cos{\\left(\\nu_{q} \\right)} + H_{q} \\sin{\\left(\\nu_{q} \\right)} + I_{q} \\cos{\\left(\\nu_{q} \\right)}\\right)\\right) \\left(- F_{p} \\sin{\\left(\\nu_{p} \\right)} + G_{p} \\cos{\\left(\\nu_{p} \\right)} + H_{p} \\sin{\\left(\\nu_{p} \\right)} + I_{p} \\cos{\\left(\\nu_{p} \\right)}\\right)\\right)$"
      ],
      "text/plain": [
       "A_p*(e_q*cos(nu_q) + 1)*((J_p*sin(nu_p) + K_p*cos(nu_p))*(A_p*(J_p*sin(nu_p) + K_p*cos(nu_p))*(e_q*cos(nu_q) + 1) - A_q*(J_q*sin(nu_q) + K_q*cos(nu_q))*(e_p*cos(nu_p) + 1)) + (A_p*(e_q*cos(nu_q) + 1)*(B_p*sin(nu_p) + C_p*cos(nu_p) + D_p*sin(nu_p) - E_p*cos(nu_p)) - A_q*(e_p*cos(nu_p) + 1)*(B_q*sin(nu_q) + C_q*cos(nu_q) + D_q*sin(nu_q) - E_q*cos(nu_q)))*(B_p*sin(nu_p) + C_p*cos(nu_p) + D_p*sin(nu_p) - E_p*cos(nu_p)) - (-A_p*(e_q*cos(nu_q) + 1)*(-F_p*sin(nu_p) + G_p*cos(nu_p) + H_p*sin(nu_p) + I_p*cos(nu_p)) + A_q*(e_p*cos(nu_p) + 1)*(-F_q*sin(nu_q) + G_q*cos(nu_q) + H_q*sin(nu_q) + I_q*cos(nu_q)))*(-F_p*sin(nu_p) + G_p*cos(nu_p) + H_p*sin(nu_p) + I_p*cos(nu_p)))"
      ]
     },
     "execution_count": 78,
     "metadata": {},
     "output_type": "execute_result"
    }
   ],
   "source": [
    "Xh_n0"
   ]
  },
  {
   "cell_type": "code",
   "execution_count": 79,
   "id": "a26499b0",
   "metadata": {},
   "outputs": [],
   "source": [
    "Xh_n1 = sp.simplify(n.args[1]*(ep*sp.cos(vp)+1)**2*(eq*sp.cos(vq)+1)**2)"
   ]
  },
  {
   "cell_type": "code",
   "execution_count": 80,
   "id": "5a90eaf4",
   "metadata": {},
   "outputs": [],
   "source": [
    "#Reconstruct Xh\n",
    "Xh_reconstructed = (Xh_n0+Xh_n1)/(Xh_d0+Xh_d1+Xh_d2) + (ep*sp.cos(vp)+1)**2*(eq*sp.cos(vq)+1)**2*Xh.args[1] + (ep*sp.cos(vp)+1)**2*(eq*sp.cos(vq)+1)**2*Xh.args[2] + (ep*sp.cos(vp)+1)**2*(eq*sp.cos(vq)+1)**2*Xh.args[3] + (ep*sp.cos(vp)+1)**2*(eq*sp.cos(vq)+1)**2*Xh.args[4]"
   ]
  },
  {
   "cell_type": "code",
   "execution_count": 81,
   "id": "8f887374",
   "metadata": {},
   "outputs": [],
   "source": [
    "#Start Yh Deconstruction"
   ]
  },
  {
   "cell_type": "code",
   "execution_count": 82,
   "id": "56b00c33",
   "metadata": {},
   "outputs": [
    {
     "data": {
      "text/plain": [
       "5"
      ]
     },
     "execution_count": 82,
     "metadata": {},
     "output_type": "execute_result"
    }
   ],
   "source": [
    "len(Yh.args)"
   ]
  },
  {
   "cell_type": "code",
   "execution_count": 83,
   "id": "2fc77220",
   "metadata": {},
   "outputs": [
    {
     "data": {
      "text/latex": [
       "$\\displaystyle \\frac{\\left(- \\left(\\frac{A_{p} J_{p} \\sin{\\left(\\nu_{p} \\right)}}{e_{p} \\cos{\\left(\\nu_{p} \\right)} + 1} + \\frac{A_{p} K_{p} \\cos{\\left(\\nu_{p} \\right)}}{e_{p} \\cos{\\left(\\nu_{p} \\right)} + 1}\\right) \\left(- \\frac{A_{p} J_{p} \\sin{\\left(\\nu_{p} \\right)}}{e_{p} \\cos{\\left(\\nu_{p} \\right)} + 1} - \\frac{A_{p} K_{p} \\cos{\\left(\\nu_{p} \\right)}}{e_{p} \\cos{\\left(\\nu_{p} \\right)} + 1} + \\frac{A_{q} J_{q} \\sin{\\left(\\nu_{q} \\right)}}{e_{q} \\cos{\\left(\\nu_{q} \\right)} + 1} + \\frac{A_{q} K_{q} \\cos{\\left(\\nu_{q} \\right)}}{e_{q} \\cos{\\left(\\nu_{q} \\right)} + 1}\\right) + \\left(- \\frac{A_{p} B_{p} \\sin{\\left(\\nu_{p} \\right)}}{e_{p} \\cos{\\left(\\nu_{p} \\right)} + 1} - \\frac{A_{p} C_{p} \\cos{\\left(\\nu_{p} \\right)}}{e_{p} \\cos{\\left(\\nu_{p} \\right)} + 1} - \\frac{A_{p} D_{p} \\sin{\\left(\\nu_{p} \\right)}}{e_{p} \\cos{\\left(\\nu_{p} \\right)} + 1} + \\frac{A_{p} E_{p} \\cos{\\left(\\nu_{p} \\right)}}{e_{p} \\cos{\\left(\\nu_{p} \\right)} + 1}\\right) \\left(- \\frac{A_{p} B_{p} \\sin{\\left(\\nu_{p} \\right)}}{e_{p} \\cos{\\left(\\nu_{p} \\right)} + 1} - \\frac{A_{p} C_{p} \\cos{\\left(\\nu_{p} \\right)}}{e_{p} \\cos{\\left(\\nu_{p} \\right)} + 1} - \\frac{A_{p} D_{p} \\sin{\\left(\\nu_{p} \\right)}}{e_{p} \\cos{\\left(\\nu_{p} \\right)} + 1} + \\frac{A_{p} E_{p} \\cos{\\left(\\nu_{p} \\right)}}{e_{p} \\cos{\\left(\\nu_{p} \\right)} + 1} + \\frac{A_{q} B_{q} \\sin{\\left(\\nu_{q} \\right)}}{e_{q} \\cos{\\left(\\nu_{q} \\right)} + 1} + \\frac{A_{q} C_{q} \\cos{\\left(\\nu_{q} \\right)}}{e_{q} \\cos{\\left(\\nu_{q} \\right)} + 1} + \\frac{A_{q} D_{q} \\sin{\\left(\\nu_{q} \\right)}}{e_{q} \\cos{\\left(\\nu_{q} \\right)} + 1} - \\frac{A_{q} E_{q} \\cos{\\left(\\nu_{q} \\right)}}{e_{q} \\cos{\\left(\\nu_{q} \\right)} + 1}\\right) - \\left(- \\frac{A_{p} F_{p} \\sin{\\left(\\nu_{p} \\right)}}{e_{p} \\cos{\\left(\\nu_{p} \\right)} + 1} + \\frac{A_{p} G_{p} \\cos{\\left(\\nu_{p} \\right)}}{e_{p} \\cos{\\left(\\nu_{p} \\right)} + 1} + \\frac{A_{p} H_{p} \\sin{\\left(\\nu_{p} \\right)}}{e_{p} \\cos{\\left(\\nu_{p} \\right)} + 1} + \\frac{A_{p} I_{p} \\cos{\\left(\\nu_{p} \\right)}}{e_{p} \\cos{\\left(\\nu_{p} \\right)} + 1}\\right) \\left(\\frac{A_{p} F_{p} \\sin{\\left(\\nu_{p} \\right)}}{e_{p} \\cos{\\left(\\nu_{p} \\right)} + 1} - \\frac{A_{p} G_{p} \\cos{\\left(\\nu_{p} \\right)}}{e_{p} \\cos{\\left(\\nu_{p} \\right)} + 1} - \\frac{A_{p} H_{p} \\sin{\\left(\\nu_{p} \\right)}}{e_{p} \\cos{\\left(\\nu_{p} \\right)} + 1} - \\frac{A_{p} I_{p} \\cos{\\left(\\nu_{p} \\right)}}{e_{p} \\cos{\\left(\\nu_{p} \\right)} + 1} - \\frac{A_{q} F_{q} \\sin{\\left(\\nu_{q} \\right)}}{e_{q} \\cos{\\left(\\nu_{q} \\right)} + 1} + \\frac{A_{q} G_{q} \\cos{\\left(\\nu_{q} \\right)}}{e_{q} \\cos{\\left(\\nu_{q} \\right)} + 1} + \\frac{A_{q} H_{q} \\sin{\\left(\\nu_{q} \\right)}}{e_{q} \\cos{\\left(\\nu_{q} \\right)} + 1} + \\frac{A_{q} I_{q} \\cos{\\left(\\nu_{q} \\right)}}{e_{q} \\cos{\\left(\\nu_{q} \\right)} + 1}\\right)\\right) \\left(\\frac{A_{p} F_{p} \\sin{\\left(\\nu_{p} \\right)}}{e_{p} \\cos{\\left(\\nu_{p} \\right)} + 1} - \\frac{A_{p} G_{p} \\cos{\\left(\\nu_{p} \\right)}}{e_{p} \\cos{\\left(\\nu_{p} \\right)} + 1} - \\frac{A_{p} H_{p} \\sin{\\left(\\nu_{p} \\right)}}{e_{p} \\cos{\\left(\\nu_{p} \\right)} + 1} - \\frac{A_{p} I_{p} \\cos{\\left(\\nu_{p} \\right)}}{e_{p} \\cos{\\left(\\nu_{p} \\right)} + 1} - \\frac{A_{q} F_{q} \\sin{\\left(\\nu_{q} \\right)}}{e_{q} \\cos{\\left(\\nu_{q} \\right)} + 1} + \\frac{A_{q} G_{q} \\cos{\\left(\\nu_{q} \\right)}}{e_{q} \\cos{\\left(\\nu_{q} \\right)} + 1} + \\frac{A_{q} H_{q} \\sin{\\left(\\nu_{q} \\right)}}{e_{q} \\cos{\\left(\\nu_{q} \\right)} + 1} + \\frac{A_{q} I_{q} \\cos{\\left(\\nu_{q} \\right)}}{e_{q} \\cos{\\left(\\nu_{q} \\right)} + 1}\\right)}{\\left(- \\frac{A_{p} J_{p} \\sin{\\left(\\nu_{p} \\right)}}{e_{p} \\cos{\\left(\\nu_{p} \\right)} + 1} - \\frac{A_{p} K_{p} \\cos{\\left(\\nu_{p} \\right)}}{e_{p} \\cos{\\left(\\nu_{p} \\right)} + 1} + \\frac{A_{q} J_{q} \\sin{\\left(\\nu_{q} \\right)}}{e_{q} \\cos{\\left(\\nu_{q} \\right)} + 1} + \\frac{A_{q} K_{q} \\cos{\\left(\\nu_{q} \\right)}}{e_{q} \\cos{\\left(\\nu_{q} \\right)} + 1}\\right)^{2} + \\left(\\frac{A_{p} B_{p} \\sin{\\left(\\nu_{p} \\right)}}{e_{p} \\cos{\\left(\\nu_{p} \\right)} + 1} + \\frac{A_{p} C_{p} \\cos{\\left(\\nu_{p} \\right)}}{e_{p} \\cos{\\left(\\nu_{p} \\right)} + 1} + \\frac{A_{p} D_{p} \\sin{\\left(\\nu_{p} \\right)}}{e_{p} \\cos{\\left(\\nu_{p} \\right)} + 1} - \\frac{A_{p} E_{p} \\cos{\\left(\\nu_{p} \\right)}}{e_{p} \\cos{\\left(\\nu_{p} \\right)} + 1} - \\frac{A_{q} B_{q} \\sin{\\left(\\nu_{q} \\right)}}{e_{q} \\cos{\\left(\\nu_{q} \\right)} + 1} - \\frac{A_{q} C_{q} \\cos{\\left(\\nu_{q} \\right)}}{e_{q} \\cos{\\left(\\nu_{q} \\right)} + 1} - \\frac{A_{q} D_{q} \\sin{\\left(\\nu_{q} \\right)}}{e_{q} \\cos{\\left(\\nu_{q} \\right)} + 1} + \\frac{A_{q} E_{q} \\cos{\\left(\\nu_{q} \\right)}}{e_{q} \\cos{\\left(\\nu_{q} \\right)} + 1}\\right)^{2} + \\left(\\frac{A_{p} F_{p} \\sin{\\left(\\nu_{p} \\right)}}{e_{p} \\cos{\\left(\\nu_{p} \\right)} + 1} - \\frac{A_{p} G_{p} \\cos{\\left(\\nu_{p} \\right)}}{e_{p} \\cos{\\left(\\nu_{p} \\right)} + 1} - \\frac{A_{p} H_{p} \\sin{\\left(\\nu_{p} \\right)}}{e_{p} \\cos{\\left(\\nu_{p} \\right)} + 1} - \\frac{A_{p} I_{p} \\cos{\\left(\\nu_{p} \\right)}}{e_{p} \\cos{\\left(\\nu_{p} \\right)} + 1} - \\frac{A_{q} F_{q} \\sin{\\left(\\nu_{q} \\right)}}{e_{q} \\cos{\\left(\\nu_{q} \\right)} + 1} + \\frac{A_{q} G_{q} \\cos{\\left(\\nu_{q} \\right)}}{e_{q} \\cos{\\left(\\nu_{q} \\right)} + 1} + \\frac{A_{q} H_{q} \\sin{\\left(\\nu_{q} \\right)}}{e_{q} \\cos{\\left(\\nu_{q} \\right)} + 1} + \\frac{A_{q} I_{q} \\cos{\\left(\\nu_{q} \\right)}}{e_{q} \\cos{\\left(\\nu_{q} \\right)} + 1}\\right)^{2}}$"
      ],
      "text/plain": [
       "(-(A_p*J_p*sin(nu_p)/(e_p*cos(nu_p) + 1) + A_p*K_p*cos(nu_p)/(e_p*cos(nu_p) + 1))*(-A_p*J_p*sin(nu_p)/(e_p*cos(nu_p) + 1) - A_p*K_p*cos(nu_p)/(e_p*cos(nu_p) + 1) + A_q*J_q*sin(nu_q)/(e_q*cos(nu_q) + 1) + A_q*K_q*cos(nu_q)/(e_q*cos(nu_q) + 1)) + (-A_p*B_p*sin(nu_p)/(e_p*cos(nu_p) + 1) - A_p*C_p*cos(nu_p)/(e_p*cos(nu_p) + 1) - A_p*D_p*sin(nu_p)/(e_p*cos(nu_p) + 1) + A_p*E_p*cos(nu_p)/(e_p*cos(nu_p) + 1))*(-A_p*B_p*sin(nu_p)/(e_p*cos(nu_p) + 1) - A_p*C_p*cos(nu_p)/(e_p*cos(nu_p) + 1) - A_p*D_p*sin(nu_p)/(e_p*cos(nu_p) + 1) + A_p*E_p*cos(nu_p)/(e_p*cos(nu_p) + 1) + A_q*B_q*sin(nu_q)/(e_q*cos(nu_q) + 1) + A_q*C_q*cos(nu_q)/(e_q*cos(nu_q) + 1) + A_q*D_q*sin(nu_q)/(e_q*cos(nu_q) + 1) - A_q*E_q*cos(nu_q)/(e_q*cos(nu_q) + 1)) - (-A_p*F_p*sin(nu_p)/(e_p*cos(nu_p) + 1) + A_p*G_p*cos(nu_p)/(e_p*cos(nu_p) + 1) + A_p*H_p*sin(nu_p)/(e_p*cos(nu_p) + 1) + A_p*I_p*cos(nu_p)/(e_p*cos(nu_p) + 1))*(A_p*F_p*sin(nu_p)/(e_p*cos(nu_p) + 1) - A_p*G_p*cos(nu_p)/(e_p*cos(nu_p) + 1) - A_p*H_p*sin(nu_p)/(e_p*cos(nu_p) + 1) - A_p*I_p*cos(nu_p)/(e_p*cos(nu_p) + 1) - A_q*F_q*sin(nu_q)/(e_q*cos(nu_q) + 1) + A_q*G_q*cos(nu_q)/(e_q*cos(nu_q) + 1) + A_q*H_q*sin(nu_q)/(e_q*cos(nu_q) + 1) + A_q*I_q*cos(nu_q)/(e_q*cos(nu_q) + 1)))*(A_p*F_p*sin(nu_p)/(e_p*cos(nu_p) + 1) - A_p*G_p*cos(nu_p)/(e_p*cos(nu_p) + 1) - A_p*H_p*sin(nu_p)/(e_p*cos(nu_p) + 1) - A_p*I_p*cos(nu_p)/(e_p*cos(nu_p) + 1) - A_q*F_q*sin(nu_q)/(e_q*cos(nu_q) + 1) + A_q*G_q*cos(nu_q)/(e_q*cos(nu_q) + 1) + A_q*H_q*sin(nu_q)/(e_q*cos(nu_q) + 1) + A_q*I_q*cos(nu_q)/(e_q*cos(nu_q) + 1))/((-A_p*J_p*sin(nu_p)/(e_p*cos(nu_p) + 1) - A_p*K_p*cos(nu_p)/(e_p*cos(nu_p) + 1) + A_q*J_q*sin(nu_q)/(e_q*cos(nu_q) + 1) + A_q*K_q*cos(nu_q)/(e_q*cos(nu_q) + 1))**2 + (A_p*B_p*sin(nu_p)/(e_p*cos(nu_p) + 1) + A_p*C_p*cos(nu_p)/(e_p*cos(nu_p) + 1) + A_p*D_p*sin(nu_p)/(e_p*cos(nu_p) + 1) - A_p*E_p*cos(nu_p)/(e_p*cos(nu_p) + 1) - A_q*B_q*sin(nu_q)/(e_q*cos(nu_q) + 1) - A_q*C_q*cos(nu_q)/(e_q*cos(nu_q) + 1) - A_q*D_q*sin(nu_q)/(e_q*cos(nu_q) + 1) + A_q*E_q*cos(nu_q)/(e_q*cos(nu_q) + 1))**2 + (A_p*F_p*sin(nu_p)/(e_p*cos(nu_p) + 1) - A_p*G_p*cos(nu_p)/(e_p*cos(nu_p) + 1) - A_p*H_p*sin(nu_p)/(e_p*cos(nu_p) + 1) - A_p*I_p*cos(nu_p)/(e_p*cos(nu_p) + 1) - A_q*F_q*sin(nu_q)/(e_q*cos(nu_q) + 1) + A_q*G_q*cos(nu_q)/(e_q*cos(nu_q) + 1) + A_q*H_q*sin(nu_q)/(e_q*cos(nu_q) + 1) + A_q*I_q*cos(nu_q)/(e_q*cos(nu_q) + 1))**2)"
      ]
     },
     "execution_count": 83,
     "metadata": {},
     "output_type": "execute_result"
    }
   ],
   "source": [
    "Yh.args[0]"
   ]
  },
  {
   "cell_type": "code",
   "execution_count": 84,
   "id": "70934615",
   "metadata": {},
   "outputs": [],
   "source": [
    "n,d = sp.fraction(Yh.args[0])"
   ]
  },
  {
   "cell_type": "code",
   "execution_count": 85,
   "id": "ba512d4c",
   "metadata": {},
   "outputs": [
    {
     "data": {
      "text/plain": [
       "2"
      ]
     },
     "execution_count": 85,
     "metadata": {},
     "output_type": "execute_result"
    }
   ],
   "source": [
    "len(n.args)"
   ]
  },
  {
   "cell_type": "code",
   "execution_count": 86,
   "id": "5b3666f5",
   "metadata": {},
   "outputs": [],
   "source": [
    "Yh_n0 = sp.simplify(n.args[0]*(ep*sp.cos(vp)+1)**2*(eq*sp.cos(vq)+1)**2)"
   ]
  },
  {
   "cell_type": "code",
   "execution_count": 87,
   "id": "d58473f5",
   "metadata": {},
   "outputs": [
    {
     "data": {
      "text/latex": [
       "$\\displaystyle A_{p} \\left(e_{q} \\cos{\\left(\\nu_{q} \\right)} + 1\\right) \\left(\\left(J_{p} \\sin{\\left(\\nu_{p} \\right)} + K_{p} \\cos{\\left(\\nu_{p} \\right)}\\right) \\left(A_{p} \\left(J_{p} \\sin{\\left(\\nu_{p} \\right)} + K_{p} \\cos{\\left(\\nu_{p} \\right)}\\right) \\left(e_{q} \\cos{\\left(\\nu_{q} \\right)} + 1\\right) - A_{q} \\left(J_{q} \\sin{\\left(\\nu_{q} \\right)} + K_{q} \\cos{\\left(\\nu_{q} \\right)}\\right) \\left(e_{p} \\cos{\\left(\\nu_{p} \\right)} + 1\\right)\\right) + \\left(A_{p} \\left(e_{q} \\cos{\\left(\\nu_{q} \\right)} + 1\\right) \\left(B_{p} \\sin{\\left(\\nu_{p} \\right)} + C_{p} \\cos{\\left(\\nu_{p} \\right)} + D_{p} \\sin{\\left(\\nu_{p} \\right)} - E_{p} \\cos{\\left(\\nu_{p} \\right)}\\right) - A_{q} \\left(e_{p} \\cos{\\left(\\nu_{p} \\right)} + 1\\right) \\left(B_{q} \\sin{\\left(\\nu_{q} \\right)} + C_{q} \\cos{\\left(\\nu_{q} \\right)} + D_{q} \\sin{\\left(\\nu_{q} \\right)} - E_{q} \\cos{\\left(\\nu_{q} \\right)}\\right)\\right) \\left(B_{p} \\sin{\\left(\\nu_{p} \\right)} + C_{p} \\cos{\\left(\\nu_{p} \\right)} + D_{p} \\sin{\\left(\\nu_{p} \\right)} - E_{p} \\cos{\\left(\\nu_{p} \\right)}\\right) - \\left(- A_{p} \\left(e_{q} \\cos{\\left(\\nu_{q} \\right)} + 1\\right) \\left(- F_{p} \\sin{\\left(\\nu_{p} \\right)} + G_{p} \\cos{\\left(\\nu_{p} \\right)} + H_{p} \\sin{\\left(\\nu_{p} \\right)} + I_{p} \\cos{\\left(\\nu_{p} \\right)}\\right) + A_{q} \\left(e_{p} \\cos{\\left(\\nu_{p} \\right)} + 1\\right) \\left(- F_{q} \\sin{\\left(\\nu_{q} \\right)} + G_{q} \\cos{\\left(\\nu_{q} \\right)} + H_{q} \\sin{\\left(\\nu_{q} \\right)} + I_{q} \\cos{\\left(\\nu_{q} \\right)}\\right)\\right) \\left(- F_{p} \\sin{\\left(\\nu_{p} \\right)} + G_{p} \\cos{\\left(\\nu_{p} \\right)} + H_{p} \\sin{\\left(\\nu_{p} \\right)} + I_{p} \\cos{\\left(\\nu_{p} \\right)}\\right)\\right)$"
      ],
      "text/plain": [
       "A_p*(e_q*cos(nu_q) + 1)*((J_p*sin(nu_p) + K_p*cos(nu_p))*(A_p*(J_p*sin(nu_p) + K_p*cos(nu_p))*(e_q*cos(nu_q) + 1) - A_q*(J_q*sin(nu_q) + K_q*cos(nu_q))*(e_p*cos(nu_p) + 1)) + (A_p*(e_q*cos(nu_q) + 1)*(B_p*sin(nu_p) + C_p*cos(nu_p) + D_p*sin(nu_p) - E_p*cos(nu_p)) - A_q*(e_p*cos(nu_p) + 1)*(B_q*sin(nu_q) + C_q*cos(nu_q) + D_q*sin(nu_q) - E_q*cos(nu_q)))*(B_p*sin(nu_p) + C_p*cos(nu_p) + D_p*sin(nu_p) - E_p*cos(nu_p)) - (-A_p*(e_q*cos(nu_q) + 1)*(-F_p*sin(nu_p) + G_p*cos(nu_p) + H_p*sin(nu_p) + I_p*cos(nu_p)) + A_q*(e_p*cos(nu_p) + 1)*(-F_q*sin(nu_q) + G_q*cos(nu_q) + H_q*sin(nu_q) + I_q*cos(nu_q)))*(-F_p*sin(nu_p) + G_p*cos(nu_p) + H_p*sin(nu_p) + I_p*cos(nu_p)))"
      ]
     },
     "execution_count": 87,
     "metadata": {},
     "output_type": "execute_result"
    }
   ],
   "source": [
    "Yh_n0"
   ]
  },
  {
   "cell_type": "code",
   "execution_count": 88,
   "id": "23191fcf",
   "metadata": {},
   "outputs": [],
   "source": [
    "Yh_n1 = sp.simplify(n.args[1]*(ep*sp.cos(vp)+1)**2*(eq*sp.cos(vq)+1)**2)"
   ]
  },
  {
   "cell_type": "code",
   "execution_count": 89,
   "id": "a0ab9ad0",
   "metadata": {},
   "outputs": [
    {
     "data": {
      "text/latex": [
       "$\\displaystyle \\left(e_{p} \\cos{\\left(\\nu_{p} \\right)} + 1\\right) \\left(e_{q} \\cos{\\left(\\nu_{q} \\right)} + 1\\right) \\left(A_{p} \\left(e_{q} \\cos{\\left(\\nu_{q} \\right)} + 1\\right) \\left(F_{p} \\sin{\\left(\\nu_{p} \\right)} - G_{p} \\cos{\\left(\\nu_{p} \\right)} - H_{p} \\sin{\\left(\\nu_{p} \\right)} - I_{p} \\cos{\\left(\\nu_{p} \\right)}\\right) + A_{q} \\left(e_{p} \\cos{\\left(\\nu_{p} \\right)} + 1\\right) \\left(- F_{q} \\sin{\\left(\\nu_{q} \\right)} + G_{q} \\cos{\\left(\\nu_{q} \\right)} + H_{q} \\sin{\\left(\\nu_{q} \\right)} + I_{q} \\cos{\\left(\\nu_{q} \\right)}\\right)\\right)$"
      ],
      "text/plain": [
       "(e_p*cos(nu_p) + 1)*(e_q*cos(nu_q) + 1)*(A_p*(e_q*cos(nu_q) + 1)*(F_p*sin(nu_p) - G_p*cos(nu_p) - H_p*sin(nu_p) - I_p*cos(nu_p)) + A_q*(e_p*cos(nu_p) + 1)*(-F_q*sin(nu_q) + G_q*cos(nu_q) + H_q*sin(nu_q) + I_q*cos(nu_q)))"
      ]
     },
     "execution_count": 89,
     "metadata": {},
     "output_type": "execute_result"
    }
   ],
   "source": [
    "Yh_n1"
   ]
  },
  {
   "cell_type": "code",
   "execution_count": 90,
   "id": "7d70ee2c",
   "metadata": {},
   "outputs": [
    {
     "data": {
      "text/plain": [
       "3"
      ]
     },
     "execution_count": 90,
     "metadata": {},
     "output_type": "execute_result"
    }
   ],
   "source": [
    "len(d.args)"
   ]
  },
  {
   "cell_type": "code",
   "execution_count": 91,
   "id": "e74d0299",
   "metadata": {},
   "outputs": [],
   "source": [
    "Yh_d0 = sp.simplify(d.args[0]*(ep*sp.cos(vp)+1)**2*(eq*sp.cos(vq)+1)**2)"
   ]
  },
  {
   "cell_type": "code",
   "execution_count": 92,
   "id": "bcee4001",
   "metadata": {},
   "outputs": [
    {
     "data": {
      "text/latex": [
       "$\\displaystyle \\left(A_{p} \\left(J_{p} \\sin{\\left(\\nu_{p} \\right)} + K_{p} \\cos{\\left(\\nu_{p} \\right)}\\right) \\left(e_{q} \\cos{\\left(\\nu_{q} \\right)} + 1\\right) - A_{q} \\left(J_{q} \\sin{\\left(\\nu_{q} \\right)} + K_{q} \\cos{\\left(\\nu_{q} \\right)}\\right) \\left(e_{p} \\cos{\\left(\\nu_{p} \\right)} + 1\\right)\\right)^{2}$"
      ],
      "text/plain": [
       "(A_p*(J_p*sin(nu_p) + K_p*cos(nu_p))*(e_q*cos(nu_q) + 1) - A_q*(J_q*sin(nu_q) + K_q*cos(nu_q))*(e_p*cos(nu_p) + 1))**2"
      ]
     },
     "execution_count": 92,
     "metadata": {},
     "output_type": "execute_result"
    }
   ],
   "source": [
    "Yh_d0"
   ]
  },
  {
   "cell_type": "code",
   "execution_count": 93,
   "id": "f1a32711",
   "metadata": {},
   "outputs": [],
   "source": [
    "Yh_d1 = sp.simplify(d.args[1]*(ep*sp.cos(vp)+1)**2*(eq*sp.cos(vq)+1)**2)"
   ]
  },
  {
   "cell_type": "code",
   "execution_count": 94,
   "id": "fa88c040",
   "metadata": {},
   "outputs": [
    {
     "data": {
      "text/latex": [
       "$\\displaystyle \\left(A_{p} \\left(e_{q} \\cos{\\left(\\nu_{q} \\right)} + 1\\right) \\left(B_{p} \\sin{\\left(\\nu_{p} \\right)} + C_{p} \\cos{\\left(\\nu_{p} \\right)} + D_{p} \\sin{\\left(\\nu_{p} \\right)} - E_{p} \\cos{\\left(\\nu_{p} \\right)}\\right) + A_{q} \\left(e_{p} \\cos{\\left(\\nu_{p} \\right)} + 1\\right) \\left(- B_{q} \\sin{\\left(\\nu_{q} \\right)} - C_{q} \\cos{\\left(\\nu_{q} \\right)} - D_{q} \\sin{\\left(\\nu_{q} \\right)} + E_{q} \\cos{\\left(\\nu_{q} \\right)}\\right)\\right)^{2}$"
      ],
      "text/plain": [
       "(A_p*(e_q*cos(nu_q) + 1)*(B_p*sin(nu_p) + C_p*cos(nu_p) + D_p*sin(nu_p) - E_p*cos(nu_p)) + A_q*(e_p*cos(nu_p) + 1)*(-B_q*sin(nu_q) - C_q*cos(nu_q) - D_q*sin(nu_q) + E_q*cos(nu_q)))**2"
      ]
     },
     "execution_count": 94,
     "metadata": {},
     "output_type": "execute_result"
    }
   ],
   "source": [
    "Yh_d1"
   ]
  },
  {
   "cell_type": "code",
   "execution_count": 95,
   "id": "45958033",
   "metadata": {},
   "outputs": [],
   "source": [
    "Yh_d2 = sp.simplify(d.args[2]*(ep*sp.cos(vp)+1)**2*(eq*sp.cos(vq)+1)**2)"
   ]
  },
  {
   "cell_type": "code",
   "execution_count": 96,
   "id": "d58417e2",
   "metadata": {},
   "outputs": [
    {
     "data": {
      "text/latex": [
       "$\\displaystyle \\left(A_{p} \\left(e_{q} \\cos{\\left(\\nu_{q} \\right)} + 1\\right) \\left(F_{p} \\sin{\\left(\\nu_{p} \\right)} - G_{p} \\cos{\\left(\\nu_{p} \\right)} - H_{p} \\sin{\\left(\\nu_{p} \\right)} - I_{p} \\cos{\\left(\\nu_{p} \\right)}\\right) + A_{q} \\left(e_{p} \\cos{\\left(\\nu_{p} \\right)} + 1\\right) \\left(- F_{q} \\sin{\\left(\\nu_{q} \\right)} + G_{q} \\cos{\\left(\\nu_{q} \\right)} + H_{q} \\sin{\\left(\\nu_{q} \\right)} + I_{q} \\cos{\\left(\\nu_{q} \\right)}\\right)\\right)^{2}$"
      ],
      "text/plain": [
       "(A_p*(e_q*cos(nu_q) + 1)*(F_p*sin(nu_p) - G_p*cos(nu_p) - H_p*sin(nu_p) - I_p*cos(nu_p)) + A_q*(e_p*cos(nu_p) + 1)*(-F_q*sin(nu_q) + G_q*cos(nu_q) + H_q*sin(nu_q) + I_q*cos(nu_q)))**2"
      ]
     },
     "execution_count": 96,
     "metadata": {},
     "output_type": "execute_result"
    }
   ],
   "source": [
    "Yh_d2"
   ]
  },
  {
   "cell_type": "code",
   "execution_count": 97,
   "id": "2cc8219c",
   "metadata": {},
   "outputs": [],
   "source": [
    "#Reconstruct Yh\n",
    "Yh_reconstructed = (Yh_n0+Yh_n1)/(Yh_d0+Yh_d1+Yh_d2) + (ep*sp.cos(vp)+1)**2*(eq*sp.cos(vq)+1)**2*Yh.args[1] + (ep*sp.cos(vp)+1)**2*(eq*sp.cos(vq)+1)**2*Yh.args[2] + (ep*sp.cos(vp)+1)**2*(eq*sp.cos(vq)+1)**2*Yh.args[3] + (ep*sp.cos(vp)+1)**2*(eq*sp.cos(vq)+1)**2*Yh.args[4]"
   ]
  },
  {
   "cell_type": "code",
   "execution_count": 98,
   "id": "fa70ad38",
   "metadata": {},
   "outputs": [],
   "source": [
    "#Start Zh Deconstruction"
   ]
  },
  {
   "cell_type": "code",
   "execution_count": 99,
   "id": "bd78917e",
   "metadata": {},
   "outputs": [
    {
     "data": {
      "text/plain": [
       "3"
      ]
     },
     "execution_count": 99,
     "metadata": {},
     "output_type": "execute_result"
    }
   ],
   "source": [
    "len(Zh.args)"
   ]
  },
  {
   "cell_type": "code",
   "execution_count": 100,
   "id": "3e1b64a4",
   "metadata": {},
   "outputs": [
    {
     "data": {
      "text/latex": [
       "$\\displaystyle \\frac{A_{p} J_{p} \\sin{\\left(\\nu_{p} \\right)}}{e_{p} \\cos{\\left(\\nu_{p} \\right)} + 1} + \\frac{A_{p} K_{p} \\cos{\\left(\\nu_{p} \\right)}}{e_{p} \\cos{\\left(\\nu_{p} \\right)} + 1} + \\frac{\\left(- \\left(\\frac{A_{p} J_{p} \\sin{\\left(\\nu_{p} \\right)}}{e_{p} \\cos{\\left(\\nu_{p} \\right)} + 1} + \\frac{A_{p} K_{p} \\cos{\\left(\\nu_{p} \\right)}}{e_{p} \\cos{\\left(\\nu_{p} \\right)} + 1}\\right) \\left(- \\frac{A_{p} J_{p} \\sin{\\left(\\nu_{p} \\right)}}{e_{p} \\cos{\\left(\\nu_{p} \\right)} + 1} - \\frac{A_{p} K_{p} \\cos{\\left(\\nu_{p} \\right)}}{e_{p} \\cos{\\left(\\nu_{p} \\right)} + 1} + \\frac{A_{q} J_{q} \\sin{\\left(\\nu_{q} \\right)}}{e_{q} \\cos{\\left(\\nu_{q} \\right)} + 1} + \\frac{A_{q} K_{q} \\cos{\\left(\\nu_{q} \\right)}}{e_{q} \\cos{\\left(\\nu_{q} \\right)} + 1}\\right) + \\left(- \\frac{A_{p} B_{p} \\sin{\\left(\\nu_{p} \\right)}}{e_{p} \\cos{\\left(\\nu_{p} \\right)} + 1} - \\frac{A_{p} C_{p} \\cos{\\left(\\nu_{p} \\right)}}{e_{p} \\cos{\\left(\\nu_{p} \\right)} + 1} - \\frac{A_{p} D_{p} \\sin{\\left(\\nu_{p} \\right)}}{e_{p} \\cos{\\left(\\nu_{p} \\right)} + 1} + \\frac{A_{p} E_{p} \\cos{\\left(\\nu_{p} \\right)}}{e_{p} \\cos{\\left(\\nu_{p} \\right)} + 1}\\right) \\left(- \\frac{A_{p} B_{p} \\sin{\\left(\\nu_{p} \\right)}}{e_{p} \\cos{\\left(\\nu_{p} \\right)} + 1} - \\frac{A_{p} C_{p} \\cos{\\left(\\nu_{p} \\right)}}{e_{p} \\cos{\\left(\\nu_{p} \\right)} + 1} - \\frac{A_{p} D_{p} \\sin{\\left(\\nu_{p} \\right)}}{e_{p} \\cos{\\left(\\nu_{p} \\right)} + 1} + \\frac{A_{p} E_{p} \\cos{\\left(\\nu_{p} \\right)}}{e_{p} \\cos{\\left(\\nu_{p} \\right)} + 1} + \\frac{A_{q} B_{q} \\sin{\\left(\\nu_{q} \\right)}}{e_{q} \\cos{\\left(\\nu_{q} \\right)} + 1} + \\frac{A_{q} C_{q} \\cos{\\left(\\nu_{q} \\right)}}{e_{q} \\cos{\\left(\\nu_{q} \\right)} + 1} + \\frac{A_{q} D_{q} \\sin{\\left(\\nu_{q} \\right)}}{e_{q} \\cos{\\left(\\nu_{q} \\right)} + 1} - \\frac{A_{q} E_{q} \\cos{\\left(\\nu_{q} \\right)}}{e_{q} \\cos{\\left(\\nu_{q} \\right)} + 1}\\right) - \\left(- \\frac{A_{p} F_{p} \\sin{\\left(\\nu_{p} \\right)}}{e_{p} \\cos{\\left(\\nu_{p} \\right)} + 1} + \\frac{A_{p} G_{p} \\cos{\\left(\\nu_{p} \\right)}}{e_{p} \\cos{\\left(\\nu_{p} \\right)} + 1} + \\frac{A_{p} H_{p} \\sin{\\left(\\nu_{p} \\right)}}{e_{p} \\cos{\\left(\\nu_{p} \\right)} + 1} + \\frac{A_{p} I_{p} \\cos{\\left(\\nu_{p} \\right)}}{e_{p} \\cos{\\left(\\nu_{p} \\right)} + 1}\\right) \\left(\\frac{A_{p} F_{p} \\sin{\\left(\\nu_{p} \\right)}}{e_{p} \\cos{\\left(\\nu_{p} \\right)} + 1} - \\frac{A_{p} G_{p} \\cos{\\left(\\nu_{p} \\right)}}{e_{p} \\cos{\\left(\\nu_{p} \\right)} + 1} - \\frac{A_{p} H_{p} \\sin{\\left(\\nu_{p} \\right)}}{e_{p} \\cos{\\left(\\nu_{p} \\right)} + 1} - \\frac{A_{p} I_{p} \\cos{\\left(\\nu_{p} \\right)}}{e_{p} \\cos{\\left(\\nu_{p} \\right)} + 1} - \\frac{A_{q} F_{q} \\sin{\\left(\\nu_{q} \\right)}}{e_{q} \\cos{\\left(\\nu_{q} \\right)} + 1} + \\frac{A_{q} G_{q} \\cos{\\left(\\nu_{q} \\right)}}{e_{q} \\cos{\\left(\\nu_{q} \\right)} + 1} + \\frac{A_{q} H_{q} \\sin{\\left(\\nu_{q} \\right)}}{e_{q} \\cos{\\left(\\nu_{q} \\right)} + 1} + \\frac{A_{q} I_{q} \\cos{\\left(\\nu_{q} \\right)}}{e_{q} \\cos{\\left(\\nu_{q} \\right)} + 1}\\right)\\right) \\left(- \\frac{A_{p} J_{p} \\sin{\\left(\\nu_{p} \\right)}}{e_{p} \\cos{\\left(\\nu_{p} \\right)} + 1} - \\frac{A_{p} K_{p} \\cos{\\left(\\nu_{p} \\right)}}{e_{p} \\cos{\\left(\\nu_{p} \\right)} + 1} + \\frac{A_{q} J_{q} \\sin{\\left(\\nu_{q} \\right)}}{e_{q} \\cos{\\left(\\nu_{q} \\right)} + 1} + \\frac{A_{q} K_{q} \\cos{\\left(\\nu_{q} \\right)}}{e_{q} \\cos{\\left(\\nu_{q} \\right)} + 1}\\right)}{\\left(- \\frac{A_{p} J_{p} \\sin{\\left(\\nu_{p} \\right)}}{e_{p} \\cos{\\left(\\nu_{p} \\right)} + 1} - \\frac{A_{p} K_{p} \\cos{\\left(\\nu_{p} \\right)}}{e_{p} \\cos{\\left(\\nu_{p} \\right)} + 1} + \\frac{A_{q} J_{q} \\sin{\\left(\\nu_{q} \\right)}}{e_{q} \\cos{\\left(\\nu_{q} \\right)} + 1} + \\frac{A_{q} K_{q} \\cos{\\left(\\nu_{q} \\right)}}{e_{q} \\cos{\\left(\\nu_{q} \\right)} + 1}\\right)^{2} + \\left(\\frac{A_{p} B_{p} \\sin{\\left(\\nu_{p} \\right)}}{e_{p} \\cos{\\left(\\nu_{p} \\right)} + 1} + \\frac{A_{p} C_{p} \\cos{\\left(\\nu_{p} \\right)}}{e_{p} \\cos{\\left(\\nu_{p} \\right)} + 1} + \\frac{A_{p} D_{p} \\sin{\\left(\\nu_{p} \\right)}}{e_{p} \\cos{\\left(\\nu_{p} \\right)} + 1} - \\frac{A_{p} E_{p} \\cos{\\left(\\nu_{p} \\right)}}{e_{p} \\cos{\\left(\\nu_{p} \\right)} + 1} - \\frac{A_{q} B_{q} \\sin{\\left(\\nu_{q} \\right)}}{e_{q} \\cos{\\left(\\nu_{q} \\right)} + 1} - \\frac{A_{q} C_{q} \\cos{\\left(\\nu_{q} \\right)}}{e_{q} \\cos{\\left(\\nu_{q} \\right)} + 1} - \\frac{A_{q} D_{q} \\sin{\\left(\\nu_{q} \\right)}}{e_{q} \\cos{\\left(\\nu_{q} \\right)} + 1} + \\frac{A_{q} E_{q} \\cos{\\left(\\nu_{q} \\right)}}{e_{q} \\cos{\\left(\\nu_{q} \\right)} + 1}\\right)^{2} + \\left(\\frac{A_{p} F_{p} \\sin{\\left(\\nu_{p} \\right)}}{e_{p} \\cos{\\left(\\nu_{p} \\right)} + 1} - \\frac{A_{p} G_{p} \\cos{\\left(\\nu_{p} \\right)}}{e_{p} \\cos{\\left(\\nu_{p} \\right)} + 1} - \\frac{A_{p} H_{p} \\sin{\\left(\\nu_{p} \\right)}}{e_{p} \\cos{\\left(\\nu_{p} \\right)} + 1} - \\frac{A_{p} I_{p} \\cos{\\left(\\nu_{p} \\right)}}{e_{p} \\cos{\\left(\\nu_{p} \\right)} + 1} - \\frac{A_{q} F_{q} \\sin{\\left(\\nu_{q} \\right)}}{e_{q} \\cos{\\left(\\nu_{q} \\right)} + 1} + \\frac{A_{q} G_{q} \\cos{\\left(\\nu_{q} \\right)}}{e_{q} \\cos{\\left(\\nu_{q} \\right)} + 1} + \\frac{A_{q} H_{q} \\sin{\\left(\\nu_{q} \\right)}}{e_{q} \\cos{\\left(\\nu_{q} \\right)} + 1} + \\frac{A_{q} I_{q} \\cos{\\left(\\nu_{q} \\right)}}{e_{q} \\cos{\\left(\\nu_{q} \\right)} + 1}\\right)^{2}}$"
      ],
      "text/plain": [
       "A_p*J_p*sin(nu_p)/(e_p*cos(nu_p) + 1) + A_p*K_p*cos(nu_p)/(e_p*cos(nu_p) + 1) + (-(A_p*J_p*sin(nu_p)/(e_p*cos(nu_p) + 1) + A_p*K_p*cos(nu_p)/(e_p*cos(nu_p) + 1))*(-A_p*J_p*sin(nu_p)/(e_p*cos(nu_p) + 1) - A_p*K_p*cos(nu_p)/(e_p*cos(nu_p) + 1) + A_q*J_q*sin(nu_q)/(e_q*cos(nu_q) + 1) + A_q*K_q*cos(nu_q)/(e_q*cos(nu_q) + 1)) + (-A_p*B_p*sin(nu_p)/(e_p*cos(nu_p) + 1) - A_p*C_p*cos(nu_p)/(e_p*cos(nu_p) + 1) - A_p*D_p*sin(nu_p)/(e_p*cos(nu_p) + 1) + A_p*E_p*cos(nu_p)/(e_p*cos(nu_p) + 1))*(-A_p*B_p*sin(nu_p)/(e_p*cos(nu_p) + 1) - A_p*C_p*cos(nu_p)/(e_p*cos(nu_p) + 1) - A_p*D_p*sin(nu_p)/(e_p*cos(nu_p) + 1) + A_p*E_p*cos(nu_p)/(e_p*cos(nu_p) + 1) + A_q*B_q*sin(nu_q)/(e_q*cos(nu_q) + 1) + A_q*C_q*cos(nu_q)/(e_q*cos(nu_q) + 1) + A_q*D_q*sin(nu_q)/(e_q*cos(nu_q) + 1) - A_q*E_q*cos(nu_q)/(e_q*cos(nu_q) + 1)) - (-A_p*F_p*sin(nu_p)/(e_p*cos(nu_p) + 1) + A_p*G_p*cos(nu_p)/(e_p*cos(nu_p) + 1) + A_p*H_p*sin(nu_p)/(e_p*cos(nu_p) + 1) + A_p*I_p*cos(nu_p)/(e_p*cos(nu_p) + 1))*(A_p*F_p*sin(nu_p)/(e_p*cos(nu_p) + 1) - A_p*G_p*cos(nu_p)/(e_p*cos(nu_p) + 1) - A_p*H_p*sin(nu_p)/(e_p*cos(nu_p) + 1) - A_p*I_p*cos(nu_p)/(e_p*cos(nu_p) + 1) - A_q*F_q*sin(nu_q)/(e_q*cos(nu_q) + 1) + A_q*G_q*cos(nu_q)/(e_q*cos(nu_q) + 1) + A_q*H_q*sin(nu_q)/(e_q*cos(nu_q) + 1) + A_q*I_q*cos(nu_q)/(e_q*cos(nu_q) + 1)))*(-A_p*J_p*sin(nu_p)/(e_p*cos(nu_p) + 1) - A_p*K_p*cos(nu_p)/(e_p*cos(nu_p) + 1) + A_q*J_q*sin(nu_q)/(e_q*cos(nu_q) + 1) + A_q*K_q*cos(nu_q)/(e_q*cos(nu_q) + 1))/((-A_p*J_p*sin(nu_p)/(e_p*cos(nu_p) + 1) - A_p*K_p*cos(nu_p)/(e_p*cos(nu_p) + 1) + A_q*J_q*sin(nu_q)/(e_q*cos(nu_q) + 1) + A_q*K_q*cos(nu_q)/(e_q*cos(nu_q) + 1))**2 + (A_p*B_p*sin(nu_p)/(e_p*cos(nu_p) + 1) + A_p*C_p*cos(nu_p)/(e_p*cos(nu_p) + 1) + A_p*D_p*sin(nu_p)/(e_p*cos(nu_p) + 1) - A_p*E_p*cos(nu_p)/(e_p*cos(nu_p) + 1) - A_q*B_q*sin(nu_q)/(e_q*cos(nu_q) + 1) - A_q*C_q*cos(nu_q)/(e_q*cos(nu_q) + 1) - A_q*D_q*sin(nu_q)/(e_q*cos(nu_q) + 1) + A_q*E_q*cos(nu_q)/(e_q*cos(nu_q) + 1))**2 + (A_p*F_p*sin(nu_p)/(e_p*cos(nu_p) + 1) - A_p*G_p*cos(nu_p)/(e_p*cos(nu_p) + 1) - A_p*H_p*sin(nu_p)/(e_p*cos(nu_p) + 1) - A_p*I_p*cos(nu_p)/(e_p*cos(nu_p) + 1) - A_q*F_q*sin(nu_q)/(e_q*cos(nu_q) + 1) + A_q*G_q*cos(nu_q)/(e_q*cos(nu_q) + 1) + A_q*H_q*sin(nu_q)/(e_q*cos(nu_q) + 1) + A_q*I_q*cos(nu_q)/(e_q*cos(nu_q) + 1))**2)"
      ]
     },
     "execution_count": 100,
     "metadata": {},
     "output_type": "execute_result"
    }
   ],
   "source": [
    "Zh"
   ]
  },
  {
   "cell_type": "code",
   "execution_count": 101,
   "id": "a3b1504d",
   "metadata": {},
   "outputs": [
    {
     "data": {
      "text/latex": [
       "$\\displaystyle \\frac{\\left(- \\left(\\frac{A_{p} J_{p} \\sin{\\left(\\nu_{p} \\right)}}{e_{p} \\cos{\\left(\\nu_{p} \\right)} + 1} + \\frac{A_{p} K_{p} \\cos{\\left(\\nu_{p} \\right)}}{e_{p} \\cos{\\left(\\nu_{p} \\right)} + 1}\\right) \\left(- \\frac{A_{p} J_{p} \\sin{\\left(\\nu_{p} \\right)}}{e_{p} \\cos{\\left(\\nu_{p} \\right)} + 1} - \\frac{A_{p} K_{p} \\cos{\\left(\\nu_{p} \\right)}}{e_{p} \\cos{\\left(\\nu_{p} \\right)} + 1} + \\frac{A_{q} J_{q} \\sin{\\left(\\nu_{q} \\right)}}{e_{q} \\cos{\\left(\\nu_{q} \\right)} + 1} + \\frac{A_{q} K_{q} \\cos{\\left(\\nu_{q} \\right)}}{e_{q} \\cos{\\left(\\nu_{q} \\right)} + 1}\\right) + \\left(- \\frac{A_{p} B_{p} \\sin{\\left(\\nu_{p} \\right)}}{e_{p} \\cos{\\left(\\nu_{p} \\right)} + 1} - \\frac{A_{p} C_{p} \\cos{\\left(\\nu_{p} \\right)}}{e_{p} \\cos{\\left(\\nu_{p} \\right)} + 1} - \\frac{A_{p} D_{p} \\sin{\\left(\\nu_{p} \\right)}}{e_{p} \\cos{\\left(\\nu_{p} \\right)} + 1} + \\frac{A_{p} E_{p} \\cos{\\left(\\nu_{p} \\right)}}{e_{p} \\cos{\\left(\\nu_{p} \\right)} + 1}\\right) \\left(- \\frac{A_{p} B_{p} \\sin{\\left(\\nu_{p} \\right)}}{e_{p} \\cos{\\left(\\nu_{p} \\right)} + 1} - \\frac{A_{p} C_{p} \\cos{\\left(\\nu_{p} \\right)}}{e_{p} \\cos{\\left(\\nu_{p} \\right)} + 1} - \\frac{A_{p} D_{p} \\sin{\\left(\\nu_{p} \\right)}}{e_{p} \\cos{\\left(\\nu_{p} \\right)} + 1} + \\frac{A_{p} E_{p} \\cos{\\left(\\nu_{p} \\right)}}{e_{p} \\cos{\\left(\\nu_{p} \\right)} + 1} + \\frac{A_{q} B_{q} \\sin{\\left(\\nu_{q} \\right)}}{e_{q} \\cos{\\left(\\nu_{q} \\right)} + 1} + \\frac{A_{q} C_{q} \\cos{\\left(\\nu_{q} \\right)}}{e_{q} \\cos{\\left(\\nu_{q} \\right)} + 1} + \\frac{A_{q} D_{q} \\sin{\\left(\\nu_{q} \\right)}}{e_{q} \\cos{\\left(\\nu_{q} \\right)} + 1} - \\frac{A_{q} E_{q} \\cos{\\left(\\nu_{q} \\right)}}{e_{q} \\cos{\\left(\\nu_{q} \\right)} + 1}\\right) - \\left(- \\frac{A_{p} F_{p} \\sin{\\left(\\nu_{p} \\right)}}{e_{p} \\cos{\\left(\\nu_{p} \\right)} + 1} + \\frac{A_{p} G_{p} \\cos{\\left(\\nu_{p} \\right)}}{e_{p} \\cos{\\left(\\nu_{p} \\right)} + 1} + \\frac{A_{p} H_{p} \\sin{\\left(\\nu_{p} \\right)}}{e_{p} \\cos{\\left(\\nu_{p} \\right)} + 1} + \\frac{A_{p} I_{p} \\cos{\\left(\\nu_{p} \\right)}}{e_{p} \\cos{\\left(\\nu_{p} \\right)} + 1}\\right) \\left(\\frac{A_{p} F_{p} \\sin{\\left(\\nu_{p} \\right)}}{e_{p} \\cos{\\left(\\nu_{p} \\right)} + 1} - \\frac{A_{p} G_{p} \\cos{\\left(\\nu_{p} \\right)}}{e_{p} \\cos{\\left(\\nu_{p} \\right)} + 1} - \\frac{A_{p} H_{p} \\sin{\\left(\\nu_{p} \\right)}}{e_{p} \\cos{\\left(\\nu_{p} \\right)} + 1} - \\frac{A_{p} I_{p} \\cos{\\left(\\nu_{p} \\right)}}{e_{p} \\cos{\\left(\\nu_{p} \\right)} + 1} - \\frac{A_{q} F_{q} \\sin{\\left(\\nu_{q} \\right)}}{e_{q} \\cos{\\left(\\nu_{q} \\right)} + 1} + \\frac{A_{q} G_{q} \\cos{\\left(\\nu_{q} \\right)}}{e_{q} \\cos{\\left(\\nu_{q} \\right)} + 1} + \\frac{A_{q} H_{q} \\sin{\\left(\\nu_{q} \\right)}}{e_{q} \\cos{\\left(\\nu_{q} \\right)} + 1} + \\frac{A_{q} I_{q} \\cos{\\left(\\nu_{q} \\right)}}{e_{q} \\cos{\\left(\\nu_{q} \\right)} + 1}\\right)\\right) \\left(- \\frac{A_{p} J_{p} \\sin{\\left(\\nu_{p} \\right)}}{e_{p} \\cos{\\left(\\nu_{p} \\right)} + 1} - \\frac{A_{p} K_{p} \\cos{\\left(\\nu_{p} \\right)}}{e_{p} \\cos{\\left(\\nu_{p} \\right)} + 1} + \\frac{A_{q} J_{q} \\sin{\\left(\\nu_{q} \\right)}}{e_{q} \\cos{\\left(\\nu_{q} \\right)} + 1} + \\frac{A_{q} K_{q} \\cos{\\left(\\nu_{q} \\right)}}{e_{q} \\cos{\\left(\\nu_{q} \\right)} + 1}\\right)}{\\left(- \\frac{A_{p} J_{p} \\sin{\\left(\\nu_{p} \\right)}}{e_{p} \\cos{\\left(\\nu_{p} \\right)} + 1} - \\frac{A_{p} K_{p} \\cos{\\left(\\nu_{p} \\right)}}{e_{p} \\cos{\\left(\\nu_{p} \\right)} + 1} + \\frac{A_{q} J_{q} \\sin{\\left(\\nu_{q} \\right)}}{e_{q} \\cos{\\left(\\nu_{q} \\right)} + 1} + \\frac{A_{q} K_{q} \\cos{\\left(\\nu_{q} \\right)}}{e_{q} \\cos{\\left(\\nu_{q} \\right)} + 1}\\right)^{2} + \\left(\\frac{A_{p} B_{p} \\sin{\\left(\\nu_{p} \\right)}}{e_{p} \\cos{\\left(\\nu_{p} \\right)} + 1} + \\frac{A_{p} C_{p} \\cos{\\left(\\nu_{p} \\right)}}{e_{p} \\cos{\\left(\\nu_{p} \\right)} + 1} + \\frac{A_{p} D_{p} \\sin{\\left(\\nu_{p} \\right)}}{e_{p} \\cos{\\left(\\nu_{p} \\right)} + 1} - \\frac{A_{p} E_{p} \\cos{\\left(\\nu_{p} \\right)}}{e_{p} \\cos{\\left(\\nu_{p} \\right)} + 1} - \\frac{A_{q} B_{q} \\sin{\\left(\\nu_{q} \\right)}}{e_{q} \\cos{\\left(\\nu_{q} \\right)} + 1} - \\frac{A_{q} C_{q} \\cos{\\left(\\nu_{q} \\right)}}{e_{q} \\cos{\\left(\\nu_{q} \\right)} + 1} - \\frac{A_{q} D_{q} \\sin{\\left(\\nu_{q} \\right)}}{e_{q} \\cos{\\left(\\nu_{q} \\right)} + 1} + \\frac{A_{q} E_{q} \\cos{\\left(\\nu_{q} \\right)}}{e_{q} \\cos{\\left(\\nu_{q} \\right)} + 1}\\right)^{2} + \\left(\\frac{A_{p} F_{p} \\sin{\\left(\\nu_{p} \\right)}}{e_{p} \\cos{\\left(\\nu_{p} \\right)} + 1} - \\frac{A_{p} G_{p} \\cos{\\left(\\nu_{p} \\right)}}{e_{p} \\cos{\\left(\\nu_{p} \\right)} + 1} - \\frac{A_{p} H_{p} \\sin{\\left(\\nu_{p} \\right)}}{e_{p} \\cos{\\left(\\nu_{p} \\right)} + 1} - \\frac{A_{p} I_{p} \\cos{\\left(\\nu_{p} \\right)}}{e_{p} \\cos{\\left(\\nu_{p} \\right)} + 1} - \\frac{A_{q} F_{q} \\sin{\\left(\\nu_{q} \\right)}}{e_{q} \\cos{\\left(\\nu_{q} \\right)} + 1} + \\frac{A_{q} G_{q} \\cos{\\left(\\nu_{q} \\right)}}{e_{q} \\cos{\\left(\\nu_{q} \\right)} + 1} + \\frac{A_{q} H_{q} \\sin{\\left(\\nu_{q} \\right)}}{e_{q} \\cos{\\left(\\nu_{q} \\right)} + 1} + \\frac{A_{q} I_{q} \\cos{\\left(\\nu_{q} \\right)}}{e_{q} \\cos{\\left(\\nu_{q} \\right)} + 1}\\right)^{2}}$"
      ],
      "text/plain": [
       "(-(A_p*J_p*sin(nu_p)/(e_p*cos(nu_p) + 1) + A_p*K_p*cos(nu_p)/(e_p*cos(nu_p) + 1))*(-A_p*J_p*sin(nu_p)/(e_p*cos(nu_p) + 1) - A_p*K_p*cos(nu_p)/(e_p*cos(nu_p) + 1) + A_q*J_q*sin(nu_q)/(e_q*cos(nu_q) + 1) + A_q*K_q*cos(nu_q)/(e_q*cos(nu_q) + 1)) + (-A_p*B_p*sin(nu_p)/(e_p*cos(nu_p) + 1) - A_p*C_p*cos(nu_p)/(e_p*cos(nu_p) + 1) - A_p*D_p*sin(nu_p)/(e_p*cos(nu_p) + 1) + A_p*E_p*cos(nu_p)/(e_p*cos(nu_p) + 1))*(-A_p*B_p*sin(nu_p)/(e_p*cos(nu_p) + 1) - A_p*C_p*cos(nu_p)/(e_p*cos(nu_p) + 1) - A_p*D_p*sin(nu_p)/(e_p*cos(nu_p) + 1) + A_p*E_p*cos(nu_p)/(e_p*cos(nu_p) + 1) + A_q*B_q*sin(nu_q)/(e_q*cos(nu_q) + 1) + A_q*C_q*cos(nu_q)/(e_q*cos(nu_q) + 1) + A_q*D_q*sin(nu_q)/(e_q*cos(nu_q) + 1) - A_q*E_q*cos(nu_q)/(e_q*cos(nu_q) + 1)) - (-A_p*F_p*sin(nu_p)/(e_p*cos(nu_p) + 1) + A_p*G_p*cos(nu_p)/(e_p*cos(nu_p) + 1) + A_p*H_p*sin(nu_p)/(e_p*cos(nu_p) + 1) + A_p*I_p*cos(nu_p)/(e_p*cos(nu_p) + 1))*(A_p*F_p*sin(nu_p)/(e_p*cos(nu_p) + 1) - A_p*G_p*cos(nu_p)/(e_p*cos(nu_p) + 1) - A_p*H_p*sin(nu_p)/(e_p*cos(nu_p) + 1) - A_p*I_p*cos(nu_p)/(e_p*cos(nu_p) + 1) - A_q*F_q*sin(nu_q)/(e_q*cos(nu_q) + 1) + A_q*G_q*cos(nu_q)/(e_q*cos(nu_q) + 1) + A_q*H_q*sin(nu_q)/(e_q*cos(nu_q) + 1) + A_q*I_q*cos(nu_q)/(e_q*cos(nu_q) + 1)))*(-A_p*J_p*sin(nu_p)/(e_p*cos(nu_p) + 1) - A_p*K_p*cos(nu_p)/(e_p*cos(nu_p) + 1) + A_q*J_q*sin(nu_q)/(e_q*cos(nu_q) + 1) + A_q*K_q*cos(nu_q)/(e_q*cos(nu_q) + 1))/((-A_p*J_p*sin(nu_p)/(e_p*cos(nu_p) + 1) - A_p*K_p*cos(nu_p)/(e_p*cos(nu_p) + 1) + A_q*J_q*sin(nu_q)/(e_q*cos(nu_q) + 1) + A_q*K_q*cos(nu_q)/(e_q*cos(nu_q) + 1))**2 + (A_p*B_p*sin(nu_p)/(e_p*cos(nu_p) + 1) + A_p*C_p*cos(nu_p)/(e_p*cos(nu_p) + 1) + A_p*D_p*sin(nu_p)/(e_p*cos(nu_p) + 1) - A_p*E_p*cos(nu_p)/(e_p*cos(nu_p) + 1) - A_q*B_q*sin(nu_q)/(e_q*cos(nu_q) + 1) - A_q*C_q*cos(nu_q)/(e_q*cos(nu_q) + 1) - A_q*D_q*sin(nu_q)/(e_q*cos(nu_q) + 1) + A_q*E_q*cos(nu_q)/(e_q*cos(nu_q) + 1))**2 + (A_p*F_p*sin(nu_p)/(e_p*cos(nu_p) + 1) - A_p*G_p*cos(nu_p)/(e_p*cos(nu_p) + 1) - A_p*H_p*sin(nu_p)/(e_p*cos(nu_p) + 1) - A_p*I_p*cos(nu_p)/(e_p*cos(nu_p) + 1) - A_q*F_q*sin(nu_q)/(e_q*cos(nu_q) + 1) + A_q*G_q*cos(nu_q)/(e_q*cos(nu_q) + 1) + A_q*H_q*sin(nu_q)/(e_q*cos(nu_q) + 1) + A_q*I_q*cos(nu_q)/(e_q*cos(nu_q) + 1))**2)"
      ]
     },
     "execution_count": 101,
     "metadata": {},
     "output_type": "execute_result"
    }
   ],
   "source": [
    "Zh.args[0]"
   ]
  },
  {
   "cell_type": "code",
   "execution_count": 102,
   "id": "712eda19",
   "metadata": {},
   "outputs": [],
   "source": [
    "n,d = sp.fraction(Zh.args[0])"
   ]
  },
  {
   "cell_type": "code",
   "execution_count": 103,
   "id": "42d24d5a",
   "metadata": {},
   "outputs": [
    {
     "data": {
      "text/plain": [
       "2"
      ]
     },
     "execution_count": 103,
     "metadata": {},
     "output_type": "execute_result"
    }
   ],
   "source": [
    "len(n.args)"
   ]
  },
  {
   "cell_type": "code",
   "execution_count": 104,
   "id": "ea760926",
   "metadata": {},
   "outputs": [],
   "source": [
    "Zh_n0 = sp.simplify(n.args[0]*(ep*sp.cos(vp)+1)**2*(eq*sp.cos(vq)+1)**2)"
   ]
  },
  {
   "cell_type": "code",
   "execution_count": 105,
   "id": "b1ce6e6d",
   "metadata": {},
   "outputs": [
    {
     "data": {
      "text/latex": [
       "$\\displaystyle A_{p} \\left(e_{q} \\cos{\\left(\\nu_{q} \\right)} + 1\\right) \\left(\\left(J_{p} \\sin{\\left(\\nu_{p} \\right)} + K_{p} \\cos{\\left(\\nu_{p} \\right)}\\right) \\left(A_{p} \\left(J_{p} \\sin{\\left(\\nu_{p} \\right)} + K_{p} \\cos{\\left(\\nu_{p} \\right)}\\right) \\left(e_{q} \\cos{\\left(\\nu_{q} \\right)} + 1\\right) - A_{q} \\left(J_{q} \\sin{\\left(\\nu_{q} \\right)} + K_{q} \\cos{\\left(\\nu_{q} \\right)}\\right) \\left(e_{p} \\cos{\\left(\\nu_{p} \\right)} + 1\\right)\\right) + \\left(A_{p} \\left(e_{q} \\cos{\\left(\\nu_{q} \\right)} + 1\\right) \\left(B_{p} \\sin{\\left(\\nu_{p} \\right)} + C_{p} \\cos{\\left(\\nu_{p} \\right)} + D_{p} \\sin{\\left(\\nu_{p} \\right)} - E_{p} \\cos{\\left(\\nu_{p} \\right)}\\right) - A_{q} \\left(e_{p} \\cos{\\left(\\nu_{p} \\right)} + 1\\right) \\left(B_{q} \\sin{\\left(\\nu_{q} \\right)} + C_{q} \\cos{\\left(\\nu_{q} \\right)} + D_{q} \\sin{\\left(\\nu_{q} \\right)} - E_{q} \\cos{\\left(\\nu_{q} \\right)}\\right)\\right) \\left(B_{p} \\sin{\\left(\\nu_{p} \\right)} + C_{p} \\cos{\\left(\\nu_{p} \\right)} + D_{p} \\sin{\\left(\\nu_{p} \\right)} - E_{p} \\cos{\\left(\\nu_{p} \\right)}\\right) - \\left(- A_{p} \\left(e_{q} \\cos{\\left(\\nu_{q} \\right)} + 1\\right) \\left(- F_{p} \\sin{\\left(\\nu_{p} \\right)} + G_{p} \\cos{\\left(\\nu_{p} \\right)} + H_{p} \\sin{\\left(\\nu_{p} \\right)} + I_{p} \\cos{\\left(\\nu_{p} \\right)}\\right) + A_{q} \\left(e_{p} \\cos{\\left(\\nu_{p} \\right)} + 1\\right) \\left(- F_{q} \\sin{\\left(\\nu_{q} \\right)} + G_{q} \\cos{\\left(\\nu_{q} \\right)} + H_{q} \\sin{\\left(\\nu_{q} \\right)} + I_{q} \\cos{\\left(\\nu_{q} \\right)}\\right)\\right) \\left(- F_{p} \\sin{\\left(\\nu_{p} \\right)} + G_{p} \\cos{\\left(\\nu_{p} \\right)} + H_{p} \\sin{\\left(\\nu_{p} \\right)} + I_{p} \\cos{\\left(\\nu_{p} \\right)}\\right)\\right)$"
      ],
      "text/plain": [
       "A_p*(e_q*cos(nu_q) + 1)*((J_p*sin(nu_p) + K_p*cos(nu_p))*(A_p*(J_p*sin(nu_p) + K_p*cos(nu_p))*(e_q*cos(nu_q) + 1) - A_q*(J_q*sin(nu_q) + K_q*cos(nu_q))*(e_p*cos(nu_p) + 1)) + (A_p*(e_q*cos(nu_q) + 1)*(B_p*sin(nu_p) + C_p*cos(nu_p) + D_p*sin(nu_p) - E_p*cos(nu_p)) - A_q*(e_p*cos(nu_p) + 1)*(B_q*sin(nu_q) + C_q*cos(nu_q) + D_q*sin(nu_q) - E_q*cos(nu_q)))*(B_p*sin(nu_p) + C_p*cos(nu_p) + D_p*sin(nu_p) - E_p*cos(nu_p)) - (-A_p*(e_q*cos(nu_q) + 1)*(-F_p*sin(nu_p) + G_p*cos(nu_p) + H_p*sin(nu_p) + I_p*cos(nu_p)) + A_q*(e_p*cos(nu_p) + 1)*(-F_q*sin(nu_q) + G_q*cos(nu_q) + H_q*sin(nu_q) + I_q*cos(nu_q)))*(-F_p*sin(nu_p) + G_p*cos(nu_p) + H_p*sin(nu_p) + I_p*cos(nu_p)))"
      ]
     },
     "execution_count": 105,
     "metadata": {},
     "output_type": "execute_result"
    }
   ],
   "source": [
    "Zh_n0"
   ]
  },
  {
   "cell_type": "code",
   "execution_count": 106,
   "id": "3b2ddb64",
   "metadata": {},
   "outputs": [],
   "source": [
    "Zh_n1 = sp.simplify(n.args[1]*(ep*sp.cos(vp)+1)**2*(eq*sp.cos(vq)+1)**2)"
   ]
  },
  {
   "cell_type": "code",
   "execution_count": 107,
   "id": "c35af9e8",
   "metadata": {},
   "outputs": [
    {
     "data": {
      "text/latex": [
       "$\\displaystyle - \\left(e_{p} \\cos{\\left(\\nu_{p} \\right)} + 1\\right) \\left(e_{q} \\cos{\\left(\\nu_{q} \\right)} + 1\\right) \\left(A_{p} \\left(J_{p} \\sin{\\left(\\nu_{p} \\right)} + K_{p} \\cos{\\left(\\nu_{p} \\right)}\\right) \\left(e_{q} \\cos{\\left(\\nu_{q} \\right)} + 1\\right) - A_{q} \\left(J_{q} \\sin{\\left(\\nu_{q} \\right)} + K_{q} \\cos{\\left(\\nu_{q} \\right)}\\right) \\left(e_{p} \\cos{\\left(\\nu_{p} \\right)} + 1\\right)\\right)$"
      ],
      "text/plain": [
       "-(e_p*cos(nu_p) + 1)*(e_q*cos(nu_q) + 1)*(A_p*(J_p*sin(nu_p) + K_p*cos(nu_p))*(e_q*cos(nu_q) + 1) - A_q*(J_q*sin(nu_q) + K_q*cos(nu_q))*(e_p*cos(nu_p) + 1))"
      ]
     },
     "execution_count": 107,
     "metadata": {},
     "output_type": "execute_result"
    }
   ],
   "source": [
    "Zh_n1"
   ]
  },
  {
   "cell_type": "code",
   "execution_count": 108,
   "id": "39071307",
   "metadata": {},
   "outputs": [
    {
     "data": {
      "text/plain": [
       "3"
      ]
     },
     "execution_count": 108,
     "metadata": {},
     "output_type": "execute_result"
    }
   ],
   "source": [
    "len(d.args)"
   ]
  },
  {
   "cell_type": "code",
   "execution_count": 109,
   "id": "2c82a154",
   "metadata": {},
   "outputs": [],
   "source": [
    "Zh_d0 = sp.simplify(d.args[0]*(ep*sp.cos(vp)+1)**2*(eq*sp.cos(vq)+1)**2)"
   ]
  },
  {
   "cell_type": "code",
   "execution_count": 110,
   "id": "18cf5ea3",
   "metadata": {},
   "outputs": [
    {
     "data": {
      "text/latex": [
       "$\\displaystyle \\left(A_{p} \\left(J_{p} \\sin{\\left(\\nu_{p} \\right)} + K_{p} \\cos{\\left(\\nu_{p} \\right)}\\right) \\left(e_{q} \\cos{\\left(\\nu_{q} \\right)} + 1\\right) - A_{q} \\left(J_{q} \\sin{\\left(\\nu_{q} \\right)} + K_{q} \\cos{\\left(\\nu_{q} \\right)}\\right) \\left(e_{p} \\cos{\\left(\\nu_{p} \\right)} + 1\\right)\\right)^{2}$"
      ],
      "text/plain": [
       "(A_p*(J_p*sin(nu_p) + K_p*cos(nu_p))*(e_q*cos(nu_q) + 1) - A_q*(J_q*sin(nu_q) + K_q*cos(nu_q))*(e_p*cos(nu_p) + 1))**2"
      ]
     },
     "execution_count": 110,
     "metadata": {},
     "output_type": "execute_result"
    }
   ],
   "source": [
    "Zh_d0"
   ]
  },
  {
   "cell_type": "code",
   "execution_count": 111,
   "id": "9444a4f4",
   "metadata": {},
   "outputs": [],
   "source": [
    "Zh_d1 = sp.simplify(d.args[1]*(ep*sp.cos(vp)+1)**2*(eq*sp.cos(vq)+1)**2)"
   ]
  },
  {
   "cell_type": "code",
   "execution_count": 112,
   "id": "7c7656b8",
   "metadata": {},
   "outputs": [
    {
     "data": {
      "text/latex": [
       "$\\displaystyle \\left(A_{p} \\left(e_{q} \\cos{\\left(\\nu_{q} \\right)} + 1\\right) \\left(B_{p} \\sin{\\left(\\nu_{p} \\right)} + C_{p} \\cos{\\left(\\nu_{p} \\right)} + D_{p} \\sin{\\left(\\nu_{p} \\right)} - E_{p} \\cos{\\left(\\nu_{p} \\right)}\\right) + A_{q} \\left(e_{p} \\cos{\\left(\\nu_{p} \\right)} + 1\\right) \\left(- B_{q} \\sin{\\left(\\nu_{q} \\right)} - C_{q} \\cos{\\left(\\nu_{q} \\right)} - D_{q} \\sin{\\left(\\nu_{q} \\right)} + E_{q} \\cos{\\left(\\nu_{q} \\right)}\\right)\\right)^{2}$"
      ],
      "text/plain": [
       "(A_p*(e_q*cos(nu_q) + 1)*(B_p*sin(nu_p) + C_p*cos(nu_p) + D_p*sin(nu_p) - E_p*cos(nu_p)) + A_q*(e_p*cos(nu_p) + 1)*(-B_q*sin(nu_q) - C_q*cos(nu_q) - D_q*sin(nu_q) + E_q*cos(nu_q)))**2"
      ]
     },
     "execution_count": 112,
     "metadata": {},
     "output_type": "execute_result"
    }
   ],
   "source": [
    "Zh_d1"
   ]
  },
  {
   "cell_type": "code",
   "execution_count": 113,
   "id": "1140f488",
   "metadata": {},
   "outputs": [],
   "source": [
    "Zh_d2 = sp.simplify(d.args[2]*(ep*sp.cos(vp)+1)**2*(eq*sp.cos(vq)+1)**2)"
   ]
  },
  {
   "cell_type": "code",
   "execution_count": 114,
   "id": "5589cf80",
   "metadata": {},
   "outputs": [
    {
     "data": {
      "text/latex": [
       "$\\displaystyle \\left(A_{p} \\left(e_{q} \\cos{\\left(\\nu_{q} \\right)} + 1\\right) \\left(F_{p} \\sin{\\left(\\nu_{p} \\right)} - G_{p} \\cos{\\left(\\nu_{p} \\right)} - H_{p} \\sin{\\left(\\nu_{p} \\right)} - I_{p} \\cos{\\left(\\nu_{p} \\right)}\\right) + A_{q} \\left(e_{p} \\cos{\\left(\\nu_{p} \\right)} + 1\\right) \\left(- F_{q} \\sin{\\left(\\nu_{q} \\right)} + G_{q} \\cos{\\left(\\nu_{q} \\right)} + H_{q} \\sin{\\left(\\nu_{q} \\right)} + I_{q} \\cos{\\left(\\nu_{q} \\right)}\\right)\\right)^{2}$"
      ],
      "text/plain": [
       "(A_p*(e_q*cos(nu_q) + 1)*(F_p*sin(nu_p) - G_p*cos(nu_p) - H_p*sin(nu_p) - I_p*cos(nu_p)) + A_q*(e_p*cos(nu_p) + 1)*(-F_q*sin(nu_q) + G_q*cos(nu_q) + H_q*sin(nu_q) + I_q*cos(nu_q)))**2"
      ]
     },
     "execution_count": 114,
     "metadata": {},
     "output_type": "execute_result"
    }
   ],
   "source": [
    "Zh_d2"
   ]
  },
  {
   "cell_type": "code",
   "execution_count": 115,
   "id": "42c5941e",
   "metadata": {},
   "outputs": [],
   "source": [
    "#Reconstruct Zh\n",
    "Zh_reconstructed = (Zh_n0+Zh_n1)/(Zh_d0+Zh_d1+Zh_d2) + (ep*sp.cos(vp)+1)**2*(eq*sp.cos(vq)+1)**2*Zh.args[1] + (ep*sp.cos(vp)+1)**2*(eq*sp.cos(vq)+1)**2*Zh.args[2]"
   ]
  },
  {
   "cell_type": "code",
   "execution_count": 119,
   "id": "b6ac579f",
   "metadata": {},
   "outputs": [],
   "source": [
    "# Note solving for Rh is the same as solving for Rh^2 because they are both constants\n",
    "Rh_squared_reconstructed = Xh_reconstructed**2+Yh_reconstructed**2+Zh_reconstructed**2"
   ]
  },
  {
   "cell_type": "code",
   "execution_count": 121,
   "id": "1dfca0d3",
   "metadata": {},
   "outputs": [
    {
     "data": {
      "text/latex": [
       "$\\displaystyle \\left(A_{p} J_{p} \\left(e_{p} \\cos{\\left(\\nu_{p} \\right)} + 1\\right) \\left(e_{q} \\cos{\\left(\\nu_{q} \\right)} + 1\\right)^{2} \\sin{\\left(\\nu_{p} \\right)} + A_{p} K_{p} \\left(e_{p} \\cos{\\left(\\nu_{p} \\right)} + 1\\right) \\left(e_{q} \\cos{\\left(\\nu_{q} \\right)} + 1\\right)^{2} \\cos{\\left(\\nu_{p} \\right)} + \\frac{A_{p} \\left(e_{q} \\cos{\\left(\\nu_{q} \\right)} + 1\\right) \\left(\\left(J_{p} \\sin{\\left(\\nu_{p} \\right)} + K_{p} \\cos{\\left(\\nu_{p} \\right)}\\right) \\left(A_{p} \\left(J_{p} \\sin{\\left(\\nu_{p} \\right)} + K_{p} \\cos{\\left(\\nu_{p} \\right)}\\right) \\left(e_{q} \\cos{\\left(\\nu_{q} \\right)} + 1\\right) - A_{q} \\left(J_{q} \\sin{\\left(\\nu_{q} \\right)} + K_{q} \\cos{\\left(\\nu_{q} \\right)}\\right) \\left(e_{p} \\cos{\\left(\\nu_{p} \\right)} + 1\\right)\\right) + \\left(A_{p} \\left(e_{q} \\cos{\\left(\\nu_{q} \\right)} + 1\\right) \\left(B_{p} \\sin{\\left(\\nu_{p} \\right)} + C_{p} \\cos{\\left(\\nu_{p} \\right)} + D_{p} \\sin{\\left(\\nu_{p} \\right)} - E_{p} \\cos{\\left(\\nu_{p} \\right)}\\right) - A_{q} \\left(e_{p} \\cos{\\left(\\nu_{p} \\right)} + 1\\right) \\left(B_{q} \\sin{\\left(\\nu_{q} \\right)} + C_{q} \\cos{\\left(\\nu_{q} \\right)} + D_{q} \\sin{\\left(\\nu_{q} \\right)} - E_{q} \\cos{\\left(\\nu_{q} \\right)}\\right)\\right) \\left(B_{p} \\sin{\\left(\\nu_{p} \\right)} + C_{p} \\cos{\\left(\\nu_{p} \\right)} + D_{p} \\sin{\\left(\\nu_{p} \\right)} - E_{p} \\cos{\\left(\\nu_{p} \\right)}\\right) - \\left(- A_{p} \\left(e_{q} \\cos{\\left(\\nu_{q} \\right)} + 1\\right) \\left(- F_{p} \\sin{\\left(\\nu_{p} \\right)} + G_{p} \\cos{\\left(\\nu_{p} \\right)} + H_{p} \\sin{\\left(\\nu_{p} \\right)} + I_{p} \\cos{\\left(\\nu_{p} \\right)}\\right) + A_{q} \\left(e_{p} \\cos{\\left(\\nu_{p} \\right)} + 1\\right) \\left(- F_{q} \\sin{\\left(\\nu_{q} \\right)} + G_{q} \\cos{\\left(\\nu_{q} \\right)} + H_{q} \\sin{\\left(\\nu_{q} \\right)} + I_{q} \\cos{\\left(\\nu_{q} \\right)}\\right)\\right) \\left(- F_{p} \\sin{\\left(\\nu_{p} \\right)} + G_{p} \\cos{\\left(\\nu_{p} \\right)} + H_{p} \\sin{\\left(\\nu_{p} \\right)} + I_{p} \\cos{\\left(\\nu_{p} \\right)}\\right)\\right) - \\left(e_{p} \\cos{\\left(\\nu_{p} \\right)} + 1\\right) \\left(e_{q} \\cos{\\left(\\nu_{q} \\right)} + 1\\right) \\left(A_{p} \\left(J_{p} \\sin{\\left(\\nu_{p} \\right)} + K_{p} \\cos{\\left(\\nu_{p} \\right)}\\right) \\left(e_{q} \\cos{\\left(\\nu_{q} \\right)} + 1\\right) - A_{q} \\left(J_{q} \\sin{\\left(\\nu_{q} \\right)} + K_{q} \\cos{\\left(\\nu_{q} \\right)}\\right) \\left(e_{p} \\cos{\\left(\\nu_{p} \\right)} + 1\\right)\\right)}{\\left(A_{p} \\left(J_{p} \\sin{\\left(\\nu_{p} \\right)} + K_{p} \\cos{\\left(\\nu_{p} \\right)}\\right) \\left(e_{q} \\cos{\\left(\\nu_{q} \\right)} + 1\\right) - A_{q} \\left(J_{q} \\sin{\\left(\\nu_{q} \\right)} + K_{q} \\cos{\\left(\\nu_{q} \\right)}\\right) \\left(e_{p} \\cos{\\left(\\nu_{p} \\right)} + 1\\right)\\right)^{2} + \\left(A_{p} \\left(e_{q} \\cos{\\left(\\nu_{q} \\right)} + 1\\right) \\left(B_{p} \\sin{\\left(\\nu_{p} \\right)} + C_{p} \\cos{\\left(\\nu_{p} \\right)} + D_{p} \\sin{\\left(\\nu_{p} \\right)} - E_{p} \\cos{\\left(\\nu_{p} \\right)}\\right) + A_{q} \\left(e_{p} \\cos{\\left(\\nu_{p} \\right)} + 1\\right) \\left(- B_{q} \\sin{\\left(\\nu_{q} \\right)} - C_{q} \\cos{\\left(\\nu_{q} \\right)} - D_{q} \\sin{\\left(\\nu_{q} \\right)} + E_{q} \\cos{\\left(\\nu_{q} \\right)}\\right)\\right)^{2} + \\left(A_{p} \\left(e_{q} \\cos{\\left(\\nu_{q} \\right)} + 1\\right) \\left(F_{p} \\sin{\\left(\\nu_{p} \\right)} - G_{p} \\cos{\\left(\\nu_{p} \\right)} - H_{p} \\sin{\\left(\\nu_{p} \\right)} - I_{p} \\cos{\\left(\\nu_{p} \\right)}\\right) + A_{q} \\left(e_{p} \\cos{\\left(\\nu_{p} \\right)} + 1\\right) \\left(- F_{q} \\sin{\\left(\\nu_{q} \\right)} + G_{q} \\cos{\\left(\\nu_{q} \\right)} + H_{q} \\sin{\\left(\\nu_{q} \\right)} + I_{q} \\cos{\\left(\\nu_{q} \\right)}\\right)\\right)^{2}}\\right)^{2} + \\left(- A_{p} B_{p} \\left(e_{p} \\cos{\\left(\\nu_{p} \\right)} + 1\\right) \\left(e_{q} \\cos{\\left(\\nu_{q} \\right)} + 1\\right)^{2} \\sin{\\left(\\nu_{p} \\right)} - A_{p} C_{p} \\left(e_{p} \\cos{\\left(\\nu_{p} \\right)} + 1\\right) \\left(e_{q} \\cos{\\left(\\nu_{q} \\right)} + 1\\right)^{2} \\cos{\\left(\\nu_{p} \\right)} - A_{p} D_{p} \\left(e_{p} \\cos{\\left(\\nu_{p} \\right)} + 1\\right) \\left(e_{q} \\cos{\\left(\\nu_{q} \\right)} + 1\\right)^{2} \\sin{\\left(\\nu_{p} \\right)} + A_{p} E_{p} \\left(e_{p} \\cos{\\left(\\nu_{p} \\right)} + 1\\right) \\left(e_{q} \\cos{\\left(\\nu_{q} \\right)} + 1\\right)^{2} \\cos{\\left(\\nu_{p} \\right)} + \\frac{A_{p} \\left(e_{q} \\cos{\\left(\\nu_{q} \\right)} + 1\\right) \\left(\\left(J_{p} \\sin{\\left(\\nu_{p} \\right)} + K_{p} \\cos{\\left(\\nu_{p} \\right)}\\right) \\left(A_{p} \\left(J_{p} \\sin{\\left(\\nu_{p} \\right)} + K_{p} \\cos{\\left(\\nu_{p} \\right)}\\right) \\left(e_{q} \\cos{\\left(\\nu_{q} \\right)} + 1\\right) - A_{q} \\left(J_{q} \\sin{\\left(\\nu_{q} \\right)} + K_{q} \\cos{\\left(\\nu_{q} \\right)}\\right) \\left(e_{p} \\cos{\\left(\\nu_{p} \\right)} + 1\\right)\\right) + \\left(A_{p} \\left(e_{q} \\cos{\\left(\\nu_{q} \\right)} + 1\\right) \\left(B_{p} \\sin{\\left(\\nu_{p} \\right)} + C_{p} \\cos{\\left(\\nu_{p} \\right)} + D_{p} \\sin{\\left(\\nu_{p} \\right)} - E_{p} \\cos{\\left(\\nu_{p} \\right)}\\right) - A_{q} \\left(e_{p} \\cos{\\left(\\nu_{p} \\right)} + 1\\right) \\left(B_{q} \\sin{\\left(\\nu_{q} \\right)} + C_{q} \\cos{\\left(\\nu_{q} \\right)} + D_{q} \\sin{\\left(\\nu_{q} \\right)} - E_{q} \\cos{\\left(\\nu_{q} \\right)}\\right)\\right) \\left(B_{p} \\sin{\\left(\\nu_{p} \\right)} + C_{p} \\cos{\\left(\\nu_{p} \\right)} + D_{p} \\sin{\\left(\\nu_{p} \\right)} - E_{p} \\cos{\\left(\\nu_{p} \\right)}\\right) - \\left(- A_{p} \\left(e_{q} \\cos{\\left(\\nu_{q} \\right)} + 1\\right) \\left(- F_{p} \\sin{\\left(\\nu_{p} \\right)} + G_{p} \\cos{\\left(\\nu_{p} \\right)} + H_{p} \\sin{\\left(\\nu_{p} \\right)} + I_{p} \\cos{\\left(\\nu_{p} \\right)}\\right) + A_{q} \\left(e_{p} \\cos{\\left(\\nu_{p} \\right)} + 1\\right) \\left(- F_{q} \\sin{\\left(\\nu_{q} \\right)} + G_{q} \\cos{\\left(\\nu_{q} \\right)} + H_{q} \\sin{\\left(\\nu_{q} \\right)} + I_{q} \\cos{\\left(\\nu_{q} \\right)}\\right)\\right) \\left(- F_{p} \\sin{\\left(\\nu_{p} \\right)} + G_{p} \\cos{\\left(\\nu_{p} \\right)} + H_{p} \\sin{\\left(\\nu_{p} \\right)} + I_{p} \\cos{\\left(\\nu_{p} \\right)}\\right)\\right) + \\left(e_{p} \\cos{\\left(\\nu_{p} \\right)} + 1\\right) \\left(e_{q} \\cos{\\left(\\nu_{q} \\right)} + 1\\right) \\left(A_{p} \\left(e_{q} \\cos{\\left(\\nu_{q} \\right)} + 1\\right) \\left(B_{p} \\sin{\\left(\\nu_{p} \\right)} + C_{p} \\cos{\\left(\\nu_{p} \\right)} + D_{p} \\sin{\\left(\\nu_{p} \\right)} - E_{p} \\cos{\\left(\\nu_{p} \\right)}\\right) + A_{q} \\left(e_{p} \\cos{\\left(\\nu_{p} \\right)} + 1\\right) \\left(- B_{q} \\sin{\\left(\\nu_{q} \\right)} - C_{q} \\cos{\\left(\\nu_{q} \\right)} - D_{q} \\sin{\\left(\\nu_{q} \\right)} + E_{q} \\cos{\\left(\\nu_{q} \\right)}\\right)\\right)}{\\left(A_{p} \\left(J_{p} \\sin{\\left(\\nu_{p} \\right)} + K_{p} \\cos{\\left(\\nu_{p} \\right)}\\right) \\left(e_{q} \\cos{\\left(\\nu_{q} \\right)} + 1\\right) - A_{q} \\left(J_{q} \\sin{\\left(\\nu_{q} \\right)} + K_{q} \\cos{\\left(\\nu_{q} \\right)}\\right) \\left(e_{p} \\cos{\\left(\\nu_{p} \\right)} + 1\\right)\\right)^{2} + \\left(A_{p} \\left(e_{q} \\cos{\\left(\\nu_{q} \\right)} + 1\\right) \\left(B_{p} \\sin{\\left(\\nu_{p} \\right)} + C_{p} \\cos{\\left(\\nu_{p} \\right)} + D_{p} \\sin{\\left(\\nu_{p} \\right)} - E_{p} \\cos{\\left(\\nu_{p} \\right)}\\right) + A_{q} \\left(e_{p} \\cos{\\left(\\nu_{p} \\right)} + 1\\right) \\left(- B_{q} \\sin{\\left(\\nu_{q} \\right)} - C_{q} \\cos{\\left(\\nu_{q} \\right)} - D_{q} \\sin{\\left(\\nu_{q} \\right)} + E_{q} \\cos{\\left(\\nu_{q} \\right)}\\right)\\right)^{2} + \\left(A_{p} \\left(e_{q} \\cos{\\left(\\nu_{q} \\right)} + 1\\right) \\left(F_{p} \\sin{\\left(\\nu_{p} \\right)} - G_{p} \\cos{\\left(\\nu_{p} \\right)} - H_{p} \\sin{\\left(\\nu_{p} \\right)} - I_{p} \\cos{\\left(\\nu_{p} \\right)}\\right) + A_{q} \\left(e_{p} \\cos{\\left(\\nu_{p} \\right)} + 1\\right) \\left(- F_{q} \\sin{\\left(\\nu_{q} \\right)} + G_{q} \\cos{\\left(\\nu_{q} \\right)} + H_{q} \\sin{\\left(\\nu_{q} \\right)} + I_{q} \\cos{\\left(\\nu_{q} \\right)}\\right)\\right)^{2}}\\right)^{2} + \\left(- A_{p} F_{p} \\left(e_{p} \\cos{\\left(\\nu_{p} \\right)} + 1\\right) \\left(e_{q} \\cos{\\left(\\nu_{q} \\right)} + 1\\right)^{2} \\sin{\\left(\\nu_{p} \\right)} + A_{p} G_{p} \\left(e_{p} \\cos{\\left(\\nu_{p} \\right)} + 1\\right) \\left(e_{q} \\cos{\\left(\\nu_{q} \\right)} + 1\\right)^{2} \\cos{\\left(\\nu_{p} \\right)} + A_{p} H_{p} \\left(e_{p} \\cos{\\left(\\nu_{p} \\right)} + 1\\right) \\left(e_{q} \\cos{\\left(\\nu_{q} \\right)} + 1\\right)^{2} \\sin{\\left(\\nu_{p} \\right)} + A_{p} I_{p} \\left(e_{p} \\cos{\\left(\\nu_{p} \\right)} + 1\\right) \\left(e_{q} \\cos{\\left(\\nu_{q} \\right)} + 1\\right)^{2} \\cos{\\left(\\nu_{p} \\right)} + \\frac{A_{p} \\left(e_{q} \\cos{\\left(\\nu_{q} \\right)} + 1\\right) \\left(\\left(J_{p} \\sin{\\left(\\nu_{p} \\right)} + K_{p} \\cos{\\left(\\nu_{p} \\right)}\\right) \\left(A_{p} \\left(J_{p} \\sin{\\left(\\nu_{p} \\right)} + K_{p} \\cos{\\left(\\nu_{p} \\right)}\\right) \\left(e_{q} \\cos{\\left(\\nu_{q} \\right)} + 1\\right) - A_{q} \\left(J_{q} \\sin{\\left(\\nu_{q} \\right)} + K_{q} \\cos{\\left(\\nu_{q} \\right)}\\right) \\left(e_{p} \\cos{\\left(\\nu_{p} \\right)} + 1\\right)\\right) + \\left(A_{p} \\left(e_{q} \\cos{\\left(\\nu_{q} \\right)} + 1\\right) \\left(B_{p} \\sin{\\left(\\nu_{p} \\right)} + C_{p} \\cos{\\left(\\nu_{p} \\right)} + D_{p} \\sin{\\left(\\nu_{p} \\right)} - E_{p} \\cos{\\left(\\nu_{p} \\right)}\\right) - A_{q} \\left(e_{p} \\cos{\\left(\\nu_{p} \\right)} + 1\\right) \\left(B_{q} \\sin{\\left(\\nu_{q} \\right)} + C_{q} \\cos{\\left(\\nu_{q} \\right)} + D_{q} \\sin{\\left(\\nu_{q} \\right)} - E_{q} \\cos{\\left(\\nu_{q} \\right)}\\right)\\right) \\left(B_{p} \\sin{\\left(\\nu_{p} \\right)} + C_{p} \\cos{\\left(\\nu_{p} \\right)} + D_{p} \\sin{\\left(\\nu_{p} \\right)} - E_{p} \\cos{\\left(\\nu_{p} \\right)}\\right) - \\left(- A_{p} \\left(e_{q} \\cos{\\left(\\nu_{q} \\right)} + 1\\right) \\left(- F_{p} \\sin{\\left(\\nu_{p} \\right)} + G_{p} \\cos{\\left(\\nu_{p} \\right)} + H_{p} \\sin{\\left(\\nu_{p} \\right)} + I_{p} \\cos{\\left(\\nu_{p} \\right)}\\right) + A_{q} \\left(e_{p} \\cos{\\left(\\nu_{p} \\right)} + 1\\right) \\left(- F_{q} \\sin{\\left(\\nu_{q} \\right)} + G_{q} \\cos{\\left(\\nu_{q} \\right)} + H_{q} \\sin{\\left(\\nu_{q} \\right)} + I_{q} \\cos{\\left(\\nu_{q} \\right)}\\right)\\right) \\left(- F_{p} \\sin{\\left(\\nu_{p} \\right)} + G_{p} \\cos{\\left(\\nu_{p} \\right)} + H_{p} \\sin{\\left(\\nu_{p} \\right)} + I_{p} \\cos{\\left(\\nu_{p} \\right)}\\right)\\right) + \\left(e_{p} \\cos{\\left(\\nu_{p} \\right)} + 1\\right) \\left(e_{q} \\cos{\\left(\\nu_{q} \\right)} + 1\\right) \\left(A_{p} \\left(e_{q} \\cos{\\left(\\nu_{q} \\right)} + 1\\right) \\left(F_{p} \\sin{\\left(\\nu_{p} \\right)} - G_{p} \\cos{\\left(\\nu_{p} \\right)} - H_{p} \\sin{\\left(\\nu_{p} \\right)} - I_{p} \\cos{\\left(\\nu_{p} \\right)}\\right) + A_{q} \\left(e_{p} \\cos{\\left(\\nu_{p} \\right)} + 1\\right) \\left(- F_{q} \\sin{\\left(\\nu_{q} \\right)} + G_{q} \\cos{\\left(\\nu_{q} \\right)} + H_{q} \\sin{\\left(\\nu_{q} \\right)} + I_{q} \\cos{\\left(\\nu_{q} \\right)}\\right)\\right)}{\\left(A_{p} \\left(J_{p} \\sin{\\left(\\nu_{p} \\right)} + K_{p} \\cos{\\left(\\nu_{p} \\right)}\\right) \\left(e_{q} \\cos{\\left(\\nu_{q} \\right)} + 1\\right) - A_{q} \\left(J_{q} \\sin{\\left(\\nu_{q} \\right)} + K_{q} \\cos{\\left(\\nu_{q} \\right)}\\right) \\left(e_{p} \\cos{\\left(\\nu_{p} \\right)} + 1\\right)\\right)^{2} + \\left(A_{p} \\left(e_{q} \\cos{\\left(\\nu_{q} \\right)} + 1\\right) \\left(B_{p} \\sin{\\left(\\nu_{p} \\right)} + C_{p} \\cos{\\left(\\nu_{p} \\right)} + D_{p} \\sin{\\left(\\nu_{p} \\right)} - E_{p} \\cos{\\left(\\nu_{p} \\right)}\\right) + A_{q} \\left(e_{p} \\cos{\\left(\\nu_{p} \\right)} + 1\\right) \\left(- B_{q} \\sin{\\left(\\nu_{q} \\right)} - C_{q} \\cos{\\left(\\nu_{q} \\right)} - D_{q} \\sin{\\left(\\nu_{q} \\right)} + E_{q} \\cos{\\left(\\nu_{q} \\right)}\\right)\\right)^{2} + \\left(A_{p} \\left(e_{q} \\cos{\\left(\\nu_{q} \\right)} + 1\\right) \\left(F_{p} \\sin{\\left(\\nu_{p} \\right)} - G_{p} \\cos{\\left(\\nu_{p} \\right)} - H_{p} \\sin{\\left(\\nu_{p} \\right)} - I_{p} \\cos{\\left(\\nu_{p} \\right)}\\right) + A_{q} \\left(e_{p} \\cos{\\left(\\nu_{p} \\right)} + 1\\right) \\left(- F_{q} \\sin{\\left(\\nu_{q} \\right)} + G_{q} \\cos{\\left(\\nu_{q} \\right)} + H_{q} \\sin{\\left(\\nu_{q} \\right)} + I_{q} \\cos{\\left(\\nu_{q} \\right)}\\right)\\right)^{2}}\\right)^{2}$"
      ],
      "text/plain": [
       "(A_p*J_p*(e_p*cos(nu_p) + 1)*(e_q*cos(nu_q) + 1)**2*sin(nu_p) + A_p*K_p*(e_p*cos(nu_p) + 1)*(e_q*cos(nu_q) + 1)**2*cos(nu_p) + (A_p*(e_q*cos(nu_q) + 1)*((J_p*sin(nu_p) + K_p*cos(nu_p))*(A_p*(J_p*sin(nu_p) + K_p*cos(nu_p))*(e_q*cos(nu_q) + 1) - A_q*(J_q*sin(nu_q) + K_q*cos(nu_q))*(e_p*cos(nu_p) + 1)) + (A_p*(e_q*cos(nu_q) + 1)*(B_p*sin(nu_p) + C_p*cos(nu_p) + D_p*sin(nu_p) - E_p*cos(nu_p)) - A_q*(e_p*cos(nu_p) + 1)*(B_q*sin(nu_q) + C_q*cos(nu_q) + D_q*sin(nu_q) - E_q*cos(nu_q)))*(B_p*sin(nu_p) + C_p*cos(nu_p) + D_p*sin(nu_p) - E_p*cos(nu_p)) - (-A_p*(e_q*cos(nu_q) + 1)*(-F_p*sin(nu_p) + G_p*cos(nu_p) + H_p*sin(nu_p) + I_p*cos(nu_p)) + A_q*(e_p*cos(nu_p) + 1)*(-F_q*sin(nu_q) + G_q*cos(nu_q) + H_q*sin(nu_q) + I_q*cos(nu_q)))*(-F_p*sin(nu_p) + G_p*cos(nu_p) + H_p*sin(nu_p) + I_p*cos(nu_p))) - (e_p*cos(nu_p) + 1)*(e_q*cos(nu_q) + 1)*(A_p*(J_p*sin(nu_p) + K_p*cos(nu_p))*(e_q*cos(nu_q) + 1) - A_q*(J_q*sin(nu_q) + K_q*cos(nu_q))*(e_p*cos(nu_p) + 1)))/((A_p*(J_p*sin(nu_p) + K_p*cos(nu_p))*(e_q*cos(nu_q) + 1) - A_q*(J_q*sin(nu_q) + K_q*cos(nu_q))*(e_p*cos(nu_p) + 1))**2 + (A_p*(e_q*cos(nu_q) + 1)*(B_p*sin(nu_p) + C_p*cos(nu_p) + D_p*sin(nu_p) - E_p*cos(nu_p)) + A_q*(e_p*cos(nu_p) + 1)*(-B_q*sin(nu_q) - C_q*cos(nu_q) - D_q*sin(nu_q) + E_q*cos(nu_q)))**2 + (A_p*(e_q*cos(nu_q) + 1)*(F_p*sin(nu_p) - G_p*cos(nu_p) - H_p*sin(nu_p) - I_p*cos(nu_p)) + A_q*(e_p*cos(nu_p) + 1)*(-F_q*sin(nu_q) + G_q*cos(nu_q) + H_q*sin(nu_q) + I_q*cos(nu_q)))**2))**2 + (-A_p*B_p*(e_p*cos(nu_p) + 1)*(e_q*cos(nu_q) + 1)**2*sin(nu_p) - A_p*C_p*(e_p*cos(nu_p) + 1)*(e_q*cos(nu_q) + 1)**2*cos(nu_p) - A_p*D_p*(e_p*cos(nu_p) + 1)*(e_q*cos(nu_q) + 1)**2*sin(nu_p) + A_p*E_p*(e_p*cos(nu_p) + 1)*(e_q*cos(nu_q) + 1)**2*cos(nu_p) + (A_p*(e_q*cos(nu_q) + 1)*((J_p*sin(nu_p) + K_p*cos(nu_p))*(A_p*(J_p*sin(nu_p) + K_p*cos(nu_p))*(e_q*cos(nu_q) + 1) - A_q*(J_q*sin(nu_q) + K_q*cos(nu_q))*(e_p*cos(nu_p) + 1)) + (A_p*(e_q*cos(nu_q) + 1)*(B_p*sin(nu_p) + C_p*cos(nu_p) + D_p*sin(nu_p) - E_p*cos(nu_p)) - A_q*(e_p*cos(nu_p) + 1)*(B_q*sin(nu_q) + C_q*cos(nu_q) + D_q*sin(nu_q) - E_q*cos(nu_q)))*(B_p*sin(nu_p) + C_p*cos(nu_p) + D_p*sin(nu_p) - E_p*cos(nu_p)) - (-A_p*(e_q*cos(nu_q) + 1)*(-F_p*sin(nu_p) + G_p*cos(nu_p) + H_p*sin(nu_p) + I_p*cos(nu_p)) + A_q*(e_p*cos(nu_p) + 1)*(-F_q*sin(nu_q) + G_q*cos(nu_q) + H_q*sin(nu_q) + I_q*cos(nu_q)))*(-F_p*sin(nu_p) + G_p*cos(nu_p) + H_p*sin(nu_p) + I_p*cos(nu_p))) + (e_p*cos(nu_p) + 1)*(e_q*cos(nu_q) + 1)*(A_p*(e_q*cos(nu_q) + 1)*(B_p*sin(nu_p) + C_p*cos(nu_p) + D_p*sin(nu_p) - E_p*cos(nu_p)) + A_q*(e_p*cos(nu_p) + 1)*(-B_q*sin(nu_q) - C_q*cos(nu_q) - D_q*sin(nu_q) + E_q*cos(nu_q))))/((A_p*(J_p*sin(nu_p) + K_p*cos(nu_p))*(e_q*cos(nu_q) + 1) - A_q*(J_q*sin(nu_q) + K_q*cos(nu_q))*(e_p*cos(nu_p) + 1))**2 + (A_p*(e_q*cos(nu_q) + 1)*(B_p*sin(nu_p) + C_p*cos(nu_p) + D_p*sin(nu_p) - E_p*cos(nu_p)) + A_q*(e_p*cos(nu_p) + 1)*(-B_q*sin(nu_q) - C_q*cos(nu_q) - D_q*sin(nu_q) + E_q*cos(nu_q)))**2 + (A_p*(e_q*cos(nu_q) + 1)*(F_p*sin(nu_p) - G_p*cos(nu_p) - H_p*sin(nu_p) - I_p*cos(nu_p)) + A_q*(e_p*cos(nu_p) + 1)*(-F_q*sin(nu_q) + G_q*cos(nu_q) + H_q*sin(nu_q) + I_q*cos(nu_q)))**2))**2 + (-A_p*F_p*(e_p*cos(nu_p) + 1)*(e_q*cos(nu_q) + 1)**2*sin(nu_p) + A_p*G_p*(e_p*cos(nu_p) + 1)*(e_q*cos(nu_q) + 1)**2*cos(nu_p) + A_p*H_p*(e_p*cos(nu_p) + 1)*(e_q*cos(nu_q) + 1)**2*sin(nu_p) + A_p*I_p*(e_p*cos(nu_p) + 1)*(e_q*cos(nu_q) + 1)**2*cos(nu_p) + (A_p*(e_q*cos(nu_q) + 1)*((J_p*sin(nu_p) + K_p*cos(nu_p))*(A_p*(J_p*sin(nu_p) + K_p*cos(nu_p))*(e_q*cos(nu_q) + 1) - A_q*(J_q*sin(nu_q) + K_q*cos(nu_q))*(e_p*cos(nu_p) + 1)) + (A_p*(e_q*cos(nu_q) + 1)*(B_p*sin(nu_p) + C_p*cos(nu_p) + D_p*sin(nu_p) - E_p*cos(nu_p)) - A_q*(e_p*cos(nu_p) + 1)*(B_q*sin(nu_q) + C_q*cos(nu_q) + D_q*sin(nu_q) - E_q*cos(nu_q)))*(B_p*sin(nu_p) + C_p*cos(nu_p) + D_p*sin(nu_p) - E_p*cos(nu_p)) - (-A_p*(e_q*cos(nu_q) + 1)*(-F_p*sin(nu_p) + G_p*cos(nu_p) + H_p*sin(nu_p) + I_p*cos(nu_p)) + A_q*(e_p*cos(nu_p) + 1)*(-F_q*sin(nu_q) + G_q*cos(nu_q) + H_q*sin(nu_q) + I_q*cos(nu_q)))*(-F_p*sin(nu_p) + G_p*cos(nu_p) + H_p*sin(nu_p) + I_p*cos(nu_p))) + (e_p*cos(nu_p) + 1)*(e_q*cos(nu_q) + 1)*(A_p*(e_q*cos(nu_q) + 1)*(F_p*sin(nu_p) - G_p*cos(nu_p) - H_p*sin(nu_p) - I_p*cos(nu_p)) + A_q*(e_p*cos(nu_p) + 1)*(-F_q*sin(nu_q) + G_q*cos(nu_q) + H_q*sin(nu_q) + I_q*cos(nu_q))))/((A_p*(J_p*sin(nu_p) + K_p*cos(nu_p))*(e_q*cos(nu_q) + 1) - A_q*(J_q*sin(nu_q) + K_q*cos(nu_q))*(e_p*cos(nu_p) + 1))**2 + (A_p*(e_q*cos(nu_q) + 1)*(B_p*sin(nu_p) + C_p*cos(nu_p) + D_p*sin(nu_p) - E_p*cos(nu_p)) + A_q*(e_p*cos(nu_p) + 1)*(-B_q*sin(nu_q) - C_q*cos(nu_q) - D_q*sin(nu_q) + E_q*cos(nu_q)))**2 + (A_p*(e_q*cos(nu_q) + 1)*(F_p*sin(nu_p) - G_p*cos(nu_p) - H_p*sin(nu_p) - I_p*cos(nu_p)) + A_q*(e_p*cos(nu_p) + 1)*(-F_q*sin(nu_q) + G_q*cos(nu_q) + H_q*sin(nu_q) + I_q*cos(nu_q)))**2))**2"
      ]
     },
     "execution_count": 121,
     "metadata": {},
     "output_type": "execute_result"
    }
   ],
   "source": [
    "# NOTE IT LOOKS LIKE THE DENOMINATOR IN THE FRACTIONS ARE THE SAME. IT IS PROBABLY ((Xq-Xp)**2+(Yq-Yp)**2+(Zq-Zp)**2)\n",
    "#i DON'T KNOW IF I CAN ELIMINATE THAT DENOMINATOR BY MULTIPLYING THROUGH.\n",
    "Rh_squared_reconstructed"
   ]
  },
  {
   "cell_type": "code",
   "execution_count": 116,
   "id": "4f30965a",
   "metadata": {},
   "outputs": [],
   "source": [
    "#Create equation stating when Rh is Re\n",
    "Re, R = sp.symbols('R_\\oplus, R',real=True,positive=True)\n",
    "Rh = sp.sqrt(Xh**2+Yh**2+Zh**2)"
   ]
  },
  {
   "cell_type": "code",
   "execution_count": null,
   "id": "97162657",
   "metadata": {},
   "outputs": [],
   "source": []
  },
  {
   "cell_type": "code",
   "execution_count": null,
   "id": "19d1d45b",
   "metadata": {},
   "outputs": [],
   "source": []
  }
 ],
 "metadata": {
  "kernelspec": {
   "display_name": "Python 3 (ipykernel)",
   "language": "python",
   "name": "python3"
  },
  "language_info": {
   "codemirror_mode": {
    "name": "ipython",
    "version": 3
   },
   "file_extension": ".py",
   "mimetype": "text/x-python",
   "name": "python",
   "nbconvert_exporter": "python",
   "pygments_lexer": "ipython3",
   "version": "3.8.10"
  }
 },
 "nbformat": 4,
 "nbformat_minor": 5
}
