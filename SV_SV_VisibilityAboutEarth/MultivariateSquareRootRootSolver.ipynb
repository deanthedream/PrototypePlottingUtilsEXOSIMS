{
 "cells": [
  {
   "cell_type": "code",
   "execution_count": 1,
   "id": "39847dd1",
   "metadata": {},
   "outputs": [],
   "source": [
    "import sympy as sp"
   ]
  },
  {
   "cell_type": "code",
   "execution_count": 2,
   "id": "86fc7826",
   "metadata": {},
   "outputs": [],
   "source": [
    "x,y = sp.symbols('x y',real=True)\n",
    "A,B,C,D,E,F,G,H,I = sp.symbols(\"A,B,C,D,E,F,G,H,I\", real=True)"
   ]
  },
  {
   "cell_type": "code",
   "execution_count": 3,
   "id": "f38ee413",
   "metadata": {},
   "outputs": [],
   "source": [
    "eqn = A*x + B*y + C*x*sp.sqrt(1-y**2) + D*y*sp.sqrt(1-x**2) + E*sp.sqrt(1-x**2)*sp.sqrt(1-y**2) + F*x**2*sp.sqrt(1-y**2) + G*y**2*sp.sqrt(1-x**2)"
   ]
  },
  {
   "cell_type": "code",
   "execution_count": 4,
   "id": "0cb51a8f",
   "metadata": {},
   "outputs": [],
   "source": [
    "dx = sp.diff(eqn,x)\n",
    "dy = sp.diff(eqn,y)"
   ]
  },
  {
   "cell_type": "code",
   "execution_count": 5,
   "id": "1777f601",
   "metadata": {},
   "outputs": [
    {
     "data": {
      "text/latex": [
       "$\\displaystyle A + C \\sqrt{1 - y^{2}} - \\frac{D x y}{\\sqrt{1 - x^{2}}} - \\frac{E x \\sqrt{1 - y^{2}}}{\\sqrt{1 - x^{2}}} + 2 F x \\sqrt{1 - y^{2}} - \\frac{G x y^{2}}{\\sqrt{1 - x^{2}}}$"
      ],
      "text/plain": [
       "A + C*sqrt(1 - y**2) - D*x*y/sqrt(1 - x**2) - E*x*sqrt(1 - y**2)/sqrt(1 - x**2) + 2*F*x*sqrt(1 - y**2) - G*x*y**2/sqrt(1 - x**2)"
      ]
     },
     "execution_count": 5,
     "metadata": {},
     "output_type": "execute_result"
    }
   ],
   "source": [
    "dx"
   ]
  },
  {
   "cell_type": "code",
   "execution_count": 13,
   "id": "6e05da80",
   "metadata": {},
   "outputs": [],
   "source": [
    "dx0 = sp.expand(dx*sp.sqrt(1-x**2))"
   ]
  },
  {
   "cell_type": "code",
   "execution_count": 14,
   "id": "3e8adfee",
   "metadata": {},
   "outputs": [
    {
     "data": {
      "text/latex": [
       "$\\displaystyle A \\sqrt{1 - x^{2}} + C \\sqrt{1 - x^{2}} \\sqrt{1 - y^{2}} - D x y - E x \\sqrt{1 - y^{2}} + 2 F x \\sqrt{1 - x^{2}} \\sqrt{1 - y^{2}} - G x y^{2}$"
      ],
      "text/plain": [
       "A*sqrt(1 - x**2) + C*sqrt(1 - x**2)*sqrt(1 - y**2) - D*x*y - E*x*sqrt(1 - y**2) + 2*F*x*sqrt(1 - x**2)*sqrt(1 - y**2) - G*x*y**2"
      ]
     },
     "execution_count": 14,
     "metadata": {},
     "output_type": "execute_result"
    }
   ],
   "source": [
    "dx0"
   ]
  },
  {
   "cell_type": "code",
   "execution_count": 15,
   "id": "0bb2e8da",
   "metadata": {},
   "outputs": [],
   "source": [
    "sqrt1mx2, sqrt1my2 = sp.symbols('sqrt(1-x^2) sqrt(1-y^2)',real=True,positive=True)\n",
    "dx1 = dx0.subs(sp.sqrt(1-x**2),sqrt1mx2)\n",
    "dx1Poly = sp.Poly(dx1,x)"
   ]
  },
  {
   "cell_type": "code",
   "execution_count": 16,
   "id": "1e4e4939",
   "metadata": {},
   "outputs": [
    {
     "data": {
      "text/plain": [
       "[-D*y - E*sqrt(1 - y**2) + 2*F*sqrt(1-x^2)*sqrt(1 - y**2) - G*y**2,\n",
       " A*sqrt(1-x^2) + C*sqrt(1-x^2)*sqrt(1 - y**2)]"
      ]
     },
     "execution_count": 16,
     "metadata": {},
     "output_type": "execute_result"
    }
   ],
   "source": [
    "dx1Poly.coeffs()"
   ]
  },
  {
   "cell_type": "code",
   "execution_count": null,
   "id": "694b0e6b",
   "metadata": {},
   "outputs": [],
   "source": [
    "#dx1 = sp.solve(dx0,x)[0]"
   ]
  },
  {
   "cell_type": "code",
   "execution_count": null,
   "id": "0a1666db",
   "metadata": {},
   "outputs": [],
   "source": [
    "dx0"
   ]
  },
  {
   "cell_type": "code",
   "execution_count": null,
   "id": "c293161f",
   "metadata": {},
   "outputs": [],
   "source": [
    "sp.simplify(dx.subs(x,dx0))"
   ]
  },
  {
   "cell_type": "code",
   "execution_count": 18,
   "id": "4942881b",
   "metadata": {},
   "outputs": [
    {
     "data": {
      "text/plain": [
       "(A,\n",
       " C*sqrt(1 - y**2),\n",
       " 2*F*x*sqrt(1 - y**2),\n",
       " -D*x*y/sqrt(1 - x**2),\n",
       " -E*x*sqrt(1 - y**2)/sqrt(1 - x**2),\n",
       " -G*x*y**2/sqrt(1 - x**2))"
      ]
     },
     "execution_count": 18,
     "metadata": {},
     "output_type": "execute_result"
    }
   ],
   "source": [
    "dx.args"
   ]
  },
  {
   "cell_type": "code",
   "execution_count": 19,
   "id": "55e72f7d",
   "metadata": {},
   "outputs": [
    {
     "data": {
      "text/plain": [
       "6"
      ]
     },
     "execution_count": 19,
     "metadata": {},
     "output_type": "execute_result"
    }
   ],
   "source": [
    "len(dx.args)"
   ]
  },
  {
   "cell_type": "code",
   "execution_count": 23,
   "id": "156a1108",
   "metadata": {},
   "outputs": [
    {
     "data": {
      "text/latex": [
       "$\\displaystyle C \\sqrt{1 - y^{2}}$"
      ],
      "text/plain": [
       "C*sqrt(1 - y**2)"
      ]
     },
     "execution_count": 23,
     "metadata": {},
     "output_type": "execute_result"
    }
   ],
   "source": [
    "dx.args[1]"
   ]
  },
  {
   "cell_type": "code",
   "execution_count": 24,
   "id": "24511161",
   "metadata": {},
   "outputs": [
    {
     "ename": "TypeError",
     "evalue": "argument of type 'Mul' is not iterable",
     "output_type": "error",
     "traceback": [
      "\u001b[0;31m---------------------------------------------------------------------------\u001b[0m",
      "\u001b[0;31mTypeError\u001b[0m                                 Traceback (most recent call last)",
      "Cell \u001b[0;32mIn[24], line 1\u001b[0m\n\u001b[0;32m----> 1\u001b[0m \u001b[43m(\u001b[49m\u001b[43mC\u001b[49m\u001b[38;5;241;43m*\u001b[39;49m\u001b[43msp\u001b[49m\u001b[38;5;241;43m.\u001b[39;49m\u001b[43msqrt\u001b[49m\u001b[43m(\u001b[49m\u001b[38;5;241;43m1\u001b[39;49m\u001b[38;5;241;43m-\u001b[39;49m\u001b[43my\u001b[49m\u001b[38;5;241;43m*\u001b[39;49m\u001b[38;5;241;43m*\u001b[39;49m\u001b[38;5;241;43m2\u001b[39;49m\u001b[43m)\u001b[49m\u001b[43m)\u001b[49m\u001b[43m \u001b[49m\u001b[38;5;129;43;01min\u001b[39;49;00m\u001b[43m \u001b[49m\u001b[43mdx\u001b[49m\u001b[38;5;241;43m.\u001b[39;49m\u001b[43margs\u001b[49m\u001b[43m[\u001b[49m\u001b[38;5;241;43m1\u001b[39;49m\u001b[43m]\u001b[49m\n",
      "\u001b[0;31mTypeError\u001b[0m: argument of type 'Mul' is not iterable"
     ]
    }
   ],
   "source": [
    "(C*sp.sqrt(1-y**2)) in dx.args[1]"
   ]
  },
  {
   "cell_type": "code",
   "execution_count": null,
   "id": "63659009",
   "metadata": {},
   "outputs": [],
   "source": [
    "dy"
   ]
  },
  {
   "cell_type": "code",
   "execution_count": null,
   "id": "4b7c5250",
   "metadata": {},
   "outputs": [],
   "source": [
    "sp.solve"
   ]
  },
  {
   "cell_type": "code",
   "execution_count": null,
   "id": "7f144c1c",
   "metadata": {},
   "outputs": [],
   "source": []
  }
 ],
 "metadata": {
  "kernelspec": {
   "display_name": "Python 3 (ipykernel)",
   "language": "python",
   "name": "python3"
  },
  "language_info": {
   "codemirror_mode": {
    "name": "ipython",
    "version": 3
   },
   "file_extension": ".py",
   "mimetype": "text/x-python",
   "name": "python",
   "nbconvert_exporter": "python",
   "pygments_lexer": "ipython3",
   "version": "3.8.10"
  }
 },
 "nbformat": 4,
 "nbformat_minor": 5
}
