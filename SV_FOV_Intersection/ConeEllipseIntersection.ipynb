{
 "cells": [
  {
   "cell_type": "code",
   "execution_count": 1,
   "id": "96d810a7",
   "metadata": {},
   "outputs": [],
   "source": [
    "import sympy as sp\n",
    "import numpy as np"
   ]
  },
  {
   "cell_type": "markdown",
   "id": "eeb79435",
   "metadata": {},
   "source": [
    "# Declare Vectors, ECI Frame 0"
   ]
  },
  {
   "cell_type": "code",
   "execution_count": 2,
   "id": "8e2f88c4",
   "metadata": {},
   "outputs": [],
   "source": [
    "#### Look Vector in ECI\n",
    "xl0, yl0, zl0 = sp.symbols('x_l0, y_l0, z_l0',real=True)\n",
    "rl0 = sp.Matrix([xl0,yl0,zl0])#Look vector\n",
    "#### Look Vector Origin in ECI, 0\n",
    "xlo0, ylo0, zlo0 = sp.symbols('x_lo0, y_lo0, z_lo0',real=True)\n",
    "r_lo0 = sp.Matrix([xlo0,ylo0,zlo0])\n",
    "#Cone Angle\n",
    "fov = sp.symbols('fov',real=True,positive=True)"
   ]
  },
  {
   "cell_type": "code",
   "execution_count": 3,
   "id": "ea733335",
   "metadata": {},
   "outputs": [],
   "source": [
    "#### Orbit Plane Normal in ECI\n",
    "xon0, yon0, zon0 = sp.symbols('x_on0, y_on0, z_on0',real=True)\n",
    "r_on0 = sp.Matrix([xon0, yon0, zon0])#orbit normal vector\n",
    "#### Orbital Ellipse Center, 0\n",
    "xoc0, yoc0, zoc0 = sp.symbols('x_oc0, y_oc0, z_oc0',real=True)\n",
    "r_oc0 = sp.Matrix([xoc0, yoc0, zoc0])#Ellipse center\n",
    "\n",
    "#### Orbital Plane argument of Perigee\n",
    "xoa0, yoa0, zoa0 = sp.symbols('x_oa0, y_oa0, z_oa0',real=True)\n",
    "r_oa0 = sp.Matrix([xoa0, yoa0, zoa0])#arbument of perigee\n",
    "r_oa_hat0 = r_oa0/r_oa0.norm() #this is the xhat vector in the ellipse plane\n",
    "\n",
    "### Orbital Plane Vector yhat\n",
    "r_orbity_hat0 = r_on0.cross(r_oa_hat0)"
   ]
  },
  {
   "cell_type": "code",
   "execution_count": null,
   "id": "8ffcf321",
   "metadata": {},
   "outputs": [],
   "source": []
  },
  {
   "cell_type": "markdown",
   "id": "4a410832",
   "metadata": {},
   "source": [
    "# Compute Angle between look vector and ellipse plane"
   ]
  },
  {
   "cell_type": "code",
   "execution_count": 4,
   "id": "21c6d3d0",
   "metadata": {},
   "outputs": [],
   "source": [
    "#### Find Which Makes Cone Look Vector Z Axis\n",
    "#Compute angle between rl and ellipse plane\n",
    "angle_lookvector_to_ellipseplane = sp.pi/2 - sp.acos(r_lo0.dot(r_on0)/r_on0.norm()/r_lo0.norm())\n"
   ]
  },
  {
   "cell_type": "code",
   "execution_count": 5,
   "id": "1842dc36",
   "metadata": {},
   "outputs": [
    {
     "data": {
      "text/latex": [
       "$\\displaystyle - \\operatorname{acos}{\\left(\\frac{x_{lo0} x_{on0} + y_{lo0} y_{on0} + z_{lo0} z_{on0}}{\\sqrt{x_{lo0}^{2} + y_{lo0}^{2} + z_{lo0}^{2}} \\sqrt{x_{on0}^{2} + y_{on0}^{2} + z_{on0}^{2}}} \\right)} + \\frac{\\pi}{2}$"
      ],
      "text/plain": [
       "-acos((x_lo0*x_on0 + y_lo0*y_on0 + z_lo0*z_on0)/(sqrt(x_lo0**2 + y_lo0**2 + z_lo0**2)*sqrt(x_on0**2 + y_on0**2 + z_on0**2))) + pi/2"
      ]
     },
     "execution_count": 5,
     "metadata": {},
     "output_type": "execute_result"
    }
   ],
   "source": [
    "angle_lookvector_to_ellipseplane"
   ]
  },
  {
   "cell_type": "markdown",
   "id": "2a4654a7",
   "metadata": {},
   "source": [
    "# Make look vector originination point 0,0,0, but keep xyz of frame 0, frame 1"
   ]
  },
  {
   "cell_type": "code",
   "execution_count": 6,
   "id": "74bd6539",
   "metadata": {},
   "outputs": [],
   "source": [
    "#### Look Vector Origin in Cone Frame, 1\n",
    "r_lo1 = r_lo0-r_lo0\n",
    "\n",
    "#### Orbital Ellipse Center in Cone Frame, 1\n",
    "r_oc1 = r_oc0-r_lo0"
   ]
  },
  {
   "cell_type": "markdown",
   "id": "578a7061",
   "metadata": {},
   "source": [
    "# Rotation of a point about a vector by angle theta"
   ]
  },
  {
   "cell_type": "code",
   "execution_count": 7,
   "id": "e4c56d67",
   "metadata": {},
   "outputs": [],
   "source": [
    "#https://en.wikipedia.org/wiki/Rotation_matrix#Rotation_matrix_from_axis_and_angle\n",
    "# r is the point to rotate\n",
    "# u is the vector to rotate about\n",
    "# th is the angle to rotate\n",
    "def rp_RotationAboutVectorByAngle(r,u,th):\n",
    "    R = sp.Matrix([[sp.cos(th)+u[0]**2*(1-sp.cos(th)), u[0]*u[1]*(1-sp.cos(th))-u[2]*sp.sin(th),u[0]*u[2]*(1-sp.cos(th))+u[1]*sp.sin(th)],\n",
    "                   [u[1]*u[0]*(1-sp.cos(th))+u[2]*sp.sin(th), sp.cos(th)+u[1]**2*(1-sp.cos(th)), u[1]*u[2]*(1-sp.cos(th))-u[0]*sp.sin(th)],\n",
    "                   [u[2]*u[0]*(1-sp.cos(th))-u[1]*sp.sin(th), u[2]*u[1]*(1-sp.cos(th))+u[0]*sp.sin(th), sp.cos(th)+u[2]**2*(1-sp.cos(th))]])\n",
    "    rp = R*r\n",
    "    return rp"
   ]
  },
  {
   "cell_type": "markdown",
   "id": "ba8055e0",
   "metadata": {},
   "source": [
    "# Rotate everything so cone look vector is +Z, Frame 2"
   ]
  },
  {
   "cell_type": "code",
   "execution_count": 8,
   "id": "c39eee69",
   "metadata": {},
   "outputs": [],
   "source": [
    "# #Define y vector\n",
    "\n",
    "\n",
    "# # so-long-as \n",
    "# if not (rl0[0] == 1 and rl0[1] == 0 and rl0[2] == 0): \n",
    "#     tmp = rl.cross(sp.Matrix([1,0,0]))\n",
    "# else:\n",
    "#     tmp = rl.cross(sp.Matrix([0,1,0]))\n",
    "# cy_hat = tmp/tmp.norm()\n"
   ]
  },
  {
   "cell_type": "code",
   "execution_count": 286,
   "id": "7e79c737",
   "metadata": {},
   "outputs": [],
   "source": [
    "# cone frame in ECI\n",
    "zl_hat_ECI = r_on0/r_on0.norm() #z of cone in ECI\n",
    "rl0_hat = rl0/rl0.norm()\n",
    "rl_in_z_direction = rl0_hat.dot(z_hat_ECI)\n",
    "\n",
    "xl_hat_ECI = sp.simplify(rl0_hat - rl_in_z_direction*zl_hat_ECI) #x of cone frame in ECI\n",
    "yl_hat_ECI = sp.simplify(zl_hat_ECI.cross(xl_hat_ECI)) #y of cone frame in ECI"
   ]
  },
  {
   "cell_type": "code",
   "execution_count": 285,
   "id": "358af72d",
   "metadata": {},
   "outputs": [
    {
     "data": {
      "text/latex": [
       "$\\displaystyle \\left[\\begin{matrix}\\frac{x_{l0} y_{on0}^{2} + x_{l0} z_{on0}^{2} - x_{on0} y_{l0} y_{on0} - x_{on0} z_{l0} z_{on0}}{\\sqrt{x_{l0}^{2} + y_{l0}^{2} + z_{l0}^{2}} \\left(x_{on0}^{2} + y_{on0}^{2} + z_{on0}^{2}\\right)}\\\\\\frac{- x_{l0} x_{on0} y_{on0} + x_{on0}^{2} y_{l0} + y_{l0} z_{on0}^{2} - y_{on0} z_{l0} z_{on0}}{\\sqrt{x_{l0}^{2} + y_{l0}^{2} + z_{l0}^{2}} \\left(x_{on0}^{2} + y_{on0}^{2} + z_{on0}^{2}\\right)}\\\\\\frac{- x_{l0} x_{on0} z_{on0} + x_{on0}^{2} z_{l0} - y_{l0} y_{on0} z_{on0} + y_{on0}^{2} z_{l0}}{\\sqrt{x_{l0}^{2} + y_{l0}^{2} + z_{l0}^{2}} \\left(x_{on0}^{2} + y_{on0}^{2} + z_{on0}^{2}\\right)}\\end{matrix}\\right]$"
      ],
      "text/plain": [
       "Matrix([\n",
       "[ (x_l0*y_on0**2 + x_l0*z_on0**2 - x_on0*y_l0*y_on0 - x_on0*z_l0*z_on0)/(sqrt(x_l0**2 + y_l0**2 + z_l0**2)*(x_on0**2 + y_on0**2 + z_on0**2))],\n",
       "[(-x_l0*x_on0*y_on0 + x_on0**2*y_l0 + y_l0*z_on0**2 - y_on0*z_l0*z_on0)/(sqrt(x_l0**2 + y_l0**2 + z_l0**2)*(x_on0**2 + y_on0**2 + z_on0**2))],\n",
       "[(-x_l0*x_on0*z_on0 + x_on0**2*z_l0 - y_l0*y_on0*z_on0 + y_on0**2*z_l0)/(sqrt(x_l0**2 + y_l0**2 + z_l0**2)*(x_on0**2 + y_on0**2 + z_on0**2))]])"
      ]
     },
     "execution_count": 285,
     "metadata": {},
     "output_type": "execute_result"
    }
   ],
   "source": [
    "xl_hat_ECI"
   ]
  },
  {
   "cell_type": "code",
   "execution_count": 10,
   "id": "b64c8052",
   "metadata": {},
   "outputs": [],
   "source": [
    "#rotate all points about y vector\n",
    "#R = rp_RotationAboutVectorByAngle(r,y_hat_ECI,angle_lookvector_to_ellipseplane)\n",
    "\n",
    "#### Look Vector in 2\n",
    "rl2 = rp_RotationAboutVectorByAngle(rl0,yl_hat_ECI,angle_lookvector_to_ellipseplane)#orbit normal vector\n",
    "\n",
    "\n",
    "#### Orbit Plane Normal in ECI\n",
    "r_on2 = rp_RotationAboutVectorByAngle(r_on0,yl_hat_ECI,angle_lookvector_to_ellipseplane)#orbit normal vector\n",
    "#### Orbital Ellipse Center, 2\n",
    "r_oc2 = rp_RotationAboutVectorByAngle(r_oc1,yl_hat_ECI,angle_lookvector_to_ellipseplane)#orbit normal vector\n",
    "#Ellipse center\n",
    "\n",
    "#### Orbital Plane argument of Perigee\n",
    "r_oa_hat2 = rp_RotationAboutVectorByAngle(r_oa_hat0,yl_hat_ECI,angle_lookvector_to_ellipseplane)#orbit normal vector\n",
    "#this is the xhat vector in the ellipse plane\n",
    "\n",
    "### Orbital Plane Vector yhat\n",
    "r_orbity_hat2 = rp_RotationAboutVectorByAngle(r_orbity_hat0,yl_hat_ECI,angle_lookvector_to_ellipseplane)#orbit normal vector"
   ]
  },
  {
   "cell_type": "code",
   "execution_count": null,
   "id": "43240cf6",
   "metadata": {},
   "outputs": [],
   "source": []
  },
  {
   "cell_type": "code",
   "execution_count": null,
   "id": "3e407cfb",
   "metadata": {},
   "outputs": [],
   "source": []
  },
  {
   "cell_type": "markdown",
   "id": "a39d0913",
   "metadata": {},
   "source": [
    "# Compute Intersection Between Look Vector and Ellipse Plane"
   ]
  },
  {
   "cell_type": "code",
   "execution_count": 11,
   "id": "3c2163de",
   "metadata": {},
   "outputs": [],
   "source": [
    "# r_lo0 is the origin of the look vector\n",
    "# rl is the look vector unit vector\n",
    "# r_on is the orbitl normal unit vector\n",
    "def t_lineIntersectionWithPlane(r_lo0,rl,r_on):\n",
    "    t = sp.symbols('t',real=True)\n",
    "    tout = sp.solve(r_lo0[0]+r_on[0]*t+r_lo0[1]+r_on[1]*t+r_lo0[2]+r_on[2]*t,t)\n",
    "    return tout[0]"
   ]
  },
  {
   "cell_type": "code",
   "execution_count": 12,
   "id": "51cc636a",
   "metadata": {},
   "outputs": [],
   "source": [
    "t = t_lineIntersectionWithPlane(r_lo0,rl0,r_on0)"
   ]
  },
  {
   "cell_type": "code",
   "execution_count": 13,
   "id": "36ba0553",
   "metadata": {},
   "outputs": [
    {
     "data": {
      "text/latex": [
       "$\\displaystyle \\frac{- x_{lo0} - y_{lo0} - z_{lo0}}{x_{on0} + y_{on0} + z_{on0}}$"
      ],
      "text/plain": [
       "(-x_lo0 - y_lo0 - z_lo0)/(x_on0 + y_on0 + z_on0)"
      ]
     },
     "execution_count": 13,
     "metadata": {},
     "output_type": "execute_result"
    }
   ],
   "source": [
    "t"
   ]
  },
  {
   "cell_type": "markdown",
   "id": "488dd128",
   "metadata": {},
   "source": [
    "# Projection Cone into ellipse plane"
   ]
  },
  {
   "cell_type": "code",
   "execution_count": 14,
   "id": "205481b4",
   "metadata": {},
   "outputs": [],
   "source": [
    "def project_to_ellipse_frame(r,r_oc,r_on,r_oa_hat,r_orbity_hat):\n",
    "    r-r.dot(r_on)\n",
    "    return sp.Matrtix([x,y])"
   ]
  },
  {
   "cell_type": "code",
   "execution_count": 15,
   "id": "0064c4a0",
   "metadata": {},
   "outputs": [],
   "source": [
    "#look vector projected into orbital plane\n",
    "rl_inOrbitalPlane = t*rl0 + r_lo0 #location where look vector intersects the orbital plane"
   ]
  },
  {
   "cell_type": "code",
   "execution_count": 16,
   "id": "5a06b602",
   "metadata": {},
   "outputs": [
    {
     "data": {
      "text/latex": [
       "$\\displaystyle \\left[\\begin{matrix}\\frac{x_{l0} \\left(- x_{lo0} - y_{lo0} - z_{lo0}\\right)}{x_{on0} + y_{on0} + z_{on0}} + x_{lo0}\\\\\\frac{y_{l0} \\left(- x_{lo0} - y_{lo0} - z_{lo0}\\right)}{x_{on0} + y_{on0} + z_{on0}} + y_{lo0}\\\\\\frac{z_{l0} \\left(- x_{lo0} - y_{lo0} - z_{lo0}\\right)}{x_{on0} + y_{on0} + z_{on0}} + z_{lo0}\\end{matrix}\\right]$"
      ],
      "text/plain": [
       "Matrix([\n",
       "[x_l0*(-x_lo0 - y_lo0 - z_lo0)/(x_on0 + y_on0 + z_on0) + x_lo0],\n",
       "[y_l0*(-x_lo0 - y_lo0 - z_lo0)/(x_on0 + y_on0 + z_on0) + y_lo0],\n",
       "[z_l0*(-x_lo0 - y_lo0 - z_lo0)/(x_on0 + y_on0 + z_on0) + z_lo0]])"
      ]
     },
     "execution_count": 16,
     "metadata": {},
     "output_type": "execute_result"
    }
   ],
   "source": [
    "rl_inOrbitalPlane"
   ]
  },
  {
   "cell_type": "code",
   "execution_count": null,
   "id": "b2dab083",
   "metadata": {},
   "outputs": [],
   "source": []
  },
  {
   "cell_type": "code",
   "execution_count": null,
   "id": "7e997e58",
   "metadata": {},
   "outputs": [],
   "source": []
  },
  {
   "cell_type": "markdown",
   "id": "a2548029",
   "metadata": {},
   "source": [
    "# d of plane equation in Frame 1"
   ]
  },
  {
   "cell_type": "code",
   "execution_count": 298,
   "id": "65c41cfb",
   "metadata": {},
   "outputs": [],
   "source": [
    "x_rot_vect = sp.Matrix([1,0,0]).cross(xl_hat_ECI)/sp.Matrix([1,0,0]).cross(xl_hat_ECI).norm()"
   ]
  },
  {
   "cell_type": "code",
   "execution_count": 299,
   "id": "6530eae5",
   "metadata": {},
   "outputs": [],
   "source": [
    "x_rot_angle = sp.acos(sp.Matrix([1,0,0]).dot(xl_hat_ECI))"
   ]
  },
  {
   "cell_type": "code",
   "execution_count": 300,
   "id": "c2b49890",
   "metadata": {},
   "outputs": [],
   "source": [
    "y_rot_vect = sp.Matrix([0,1,0]).cross(yl_hat_ECI)/sp.Matrix([1,0,0]).cross(xl_hat_ECI).norm()"
   ]
  },
  {
   "cell_type": "code",
   "execution_count": 301,
   "id": "68786202",
   "metadata": {},
   "outputs": [],
   "source": [
    "y_rot_angle = sp.acos(sp.Matrix([0,1,0]).dot(yl_hat_ECI))"
   ]
  },
  {
   "cell_type": "code",
   "execution_count": 302,
   "id": "6c4a1749",
   "metadata": {},
   "outputs": [
    {
     "data": {
      "text/latex": [
       "$\\displaystyle \\left[\\begin{matrix}0\\\\- \\frac{- x_{l0} x_{on0} z_{on0} + x_{on0}^{2} z_{l0} - y_{l0} y_{on0} z_{on0} + y_{on0}^{2} z_{l0}}{\\sqrt{\\frac{\\left(x_{l0} x_{on0} y_{on0} - x_{on0}^{2} y_{l0} - y_{l0} z_{on0}^{2} + y_{on0} z_{l0} z_{on0}\\right)^{2}}{\\left(x_{l0}^{2} + y_{l0}^{2} + z_{l0}^{2}\\right) \\left(x_{on0}^{2} + y_{on0}^{2} + z_{on0}^{2}\\right)^{2}} + \\frac{\\left(x_{l0} x_{on0} z_{on0} - x_{on0}^{2} z_{l0} + y_{l0} y_{on0} z_{on0} - y_{on0}^{2} z_{l0}\\right)^{2}}{\\left(x_{l0}^{2} + y_{l0}^{2} + z_{l0}^{2}\\right) \\left(x_{on0}^{2} + y_{on0}^{2} + z_{on0}^{2}\\right)^{2}}} \\sqrt{x_{l0}^{2} + y_{l0}^{2} + z_{l0}^{2}} \\left(x_{on0}^{2} + y_{on0}^{2} + z_{on0}^{2}\\right)}\\\\\\frac{- x_{l0} x_{on0} y_{on0} + x_{on0}^{2} y_{l0} + y_{l0} z_{on0}^{2} - y_{on0} z_{l0} z_{on0}}{\\sqrt{\\frac{\\left(x_{l0} x_{on0} y_{on0} - x_{on0}^{2} y_{l0} - y_{l0} z_{on0}^{2} + y_{on0} z_{l0} z_{on0}\\right)^{2}}{\\left(x_{l0}^{2} + y_{l0}^{2} + z_{l0}^{2}\\right) \\left(x_{on0}^{2} + y_{on0}^{2} + z_{on0}^{2}\\right)^{2}} + \\frac{\\left(x_{l0} x_{on0} z_{on0} - x_{on0}^{2} z_{l0} + y_{l0} y_{on0} z_{on0} - y_{on0}^{2} z_{l0}\\right)^{2}}{\\left(x_{l0}^{2} + y_{l0}^{2} + z_{l0}^{2}\\right) \\left(x_{on0}^{2} + y_{on0}^{2} + z_{on0}^{2}\\right)^{2}}} \\sqrt{x_{l0}^{2} + y_{l0}^{2} + z_{l0}^{2}} \\left(x_{on0}^{2} + y_{on0}^{2} + z_{on0}^{2}\\right)}\\end{matrix}\\right]$"
      ],
      "text/plain": [
       "Matrix([\n",
       "[                                                                                                                                                                                                                                                                                                                                                                                                                                             0],\n",
       "[-(-x_l0*x_on0*z_on0 + x_on0**2*z_l0 - y_l0*y_on0*z_on0 + y_on0**2*z_l0)/(sqrt((x_l0*x_on0*y_on0 - x_on0**2*y_l0 - y_l0*z_on0**2 + y_on0*z_l0*z_on0)**2/((x_l0**2 + y_l0**2 + z_l0**2)*(x_on0**2 + y_on0**2 + z_on0**2)**2) + (x_l0*x_on0*z_on0 - x_on0**2*z_l0 + y_l0*y_on0*z_on0 - y_on0**2*z_l0)**2/((x_l0**2 + y_l0**2 + z_l0**2)*(x_on0**2 + y_on0**2 + z_on0**2)**2))*sqrt(x_l0**2 + y_l0**2 + z_l0**2)*(x_on0**2 + y_on0**2 + z_on0**2))],\n",
       "[ (-x_l0*x_on0*y_on0 + x_on0**2*y_l0 + y_l0*z_on0**2 - y_on0*z_l0*z_on0)/(sqrt((x_l0*x_on0*y_on0 - x_on0**2*y_l0 - y_l0*z_on0**2 + y_on0*z_l0*z_on0)**2/((x_l0**2 + y_l0**2 + z_l0**2)*(x_on0**2 + y_on0**2 + z_on0**2)**2) + (x_l0*x_on0*z_on0 - x_on0**2*z_l0 + y_l0*y_on0*z_on0 - y_on0**2*z_l0)**2/((x_l0**2 + y_l0**2 + z_l0**2)*(x_on0**2 + y_on0**2 + z_on0**2)**2))*sqrt(x_l0**2 + y_l0**2 + z_l0**2)*(x_on0**2 + y_on0**2 + z_on0**2))]])"
      ]
     },
     "execution_count": 302,
     "metadata": {},
     "output_type": "execute_result"
    }
   ],
   "source": [
    "x_rot_vect"
   ]
  },
  {
   "cell_type": "code",
   "execution_count": 303,
   "id": "88b6452c",
   "metadata": {},
   "outputs": [],
   "source": [
    "r_on0_rot1 = rp_RotationAboutVectorByAngle(r_on0,x_rot_vect,x_rot_angle)\n",
    "r_on0_rot2 = rp_RotationAboutVectorByAngle(r_on0,y_rot_vect,y_rot_angle)\n"
   ]
  },
  {
   "cell_type": "code",
   "execution_count": 304,
   "id": "66aebc10",
   "metadata": {},
   "outputs": [],
   "source": [
    "#this d is the value of d in frame 2, d_ofFrame0 = 0\n",
    "d_ofFrame2 = -(r_on0_rot2[0]*-r_lo0[0] + r_on0_rot2[1]*-r_lo0[1] + r_on0_rot2[2]*-r_lo0[2])"
   ]
  },
  {
   "cell_type": "code",
   "execution_count": null,
   "id": "e3fcb2a4",
   "metadata": {},
   "outputs": [],
   "source": [
    "sp.simplify(d_ofFrame2)"
   ]
  },
  {
   "cell_type": "code",
   "execution_count": null,
   "id": "91755f9a",
   "metadata": {},
   "outputs": [],
   "source": [
    "#TODO double check the aforementioned methods produce the correct result"
   ]
  },
  {
   "cell_type": "markdown",
   "id": "de54167b",
   "metadata": {},
   "source": [
    "# Cone Equation in Frame 2"
   ]
  },
  {
   "cell_type": "code",
   "execution_count": 17,
   "id": "41763966",
   "metadata": {},
   "outputs": [],
   "source": [
    "A, B, C, D, E, F, a, b, c, d, x, y, z, th = sp.symbols('A, B, C, D, E, F, a, b, c, d, x, y, z theta', real=True)"
   ]
  },
  {
   "cell_type": "code",
   "execution_count": 18,
   "id": "43c3872e",
   "metadata": {},
   "outputs": [],
   "source": [
    "#Generalized cone equation in frame 2\n",
    "# Resetting variabiles because symbolic math is too wild\n",
    "#https://nmd.web.illinois.edu/quadrics/cone.html\n",
    "#A = sp.sin(th)\n",
    "#B = A\n",
    "#coneEqn = A*x**2+B*y**2-z**2 #x,y,z are in frame 2   \n",
    "\n",
    "#https://nmd.web.illinois.edu/quadrics/cone.html\n",
    "#derived from cone equation in link assuming z is vertical, ztan(th) = r\n",
    "# r = sqrt(Ax^2+By^2)\n",
    "#Since cone is symmetrical, A=B\n",
    "A = sp.tan(th)**-2\n",
    "B = A\n",
    "coneEqn = A*x**2+B**2*y**2-z**2 #=0\n",
    "\n"
   ]
  },
  {
   "cell_type": "code",
   "execution_count": 19,
   "id": "e5cbe599",
   "metadata": {},
   "outputs": [
    {
     "data": {
      "text/latex": [
       "$\\displaystyle \\frac{x^{2}}{\\tan^{2}{\\left(\\theta \\right)}} + \\frac{y^{2}}{\\tan^{4}{\\left(\\theta \\right)}} - z^{2}$"
      ],
      "text/plain": [
       "x**2/tan(theta)**2 + y**2/tan(theta)**4 - z**2"
      ]
     },
     "execution_count": 19,
     "metadata": {},
     "output_type": "execute_result"
    }
   ],
   "source": [
    "coneEqn"
   ]
  },
  {
   "cell_type": "code",
   "execution_count": 20,
   "id": "83198746",
   "metadata": {},
   "outputs": [],
   "source": [
    "#generalized plane equation in frame 2\n",
    "planeEqn = a*x+b*y+c*z+d #=0"
   ]
  },
  {
   "cell_type": "code",
   "execution_count": 21,
   "id": "b9749abe",
   "metadata": {},
   "outputs": [],
   "source": [
    "#https://www.onemathematicalcat.org/Math/Precalculus_obj/conicStuffWhy.htm\n",
    "#Assuming c!=0\n",
    "zEqn = sp.solve(planeEqn,z)"
   ]
  },
  {
   "cell_type": "code",
   "execution_count": 22,
   "id": "cefba270",
   "metadata": {},
   "outputs": [
    {
     "data": {
      "text/latex": [
       "$\\displaystyle \\frac{- a x - b y - d}{c}$"
      ],
      "text/plain": [
       "(-a*x - b*y - d)/c"
      ]
     },
     "execution_count": 22,
     "metadata": {},
     "output_type": "execute_result"
    }
   ],
   "source": [
    "zEqn[0]"
   ]
  },
  {
   "cell_type": "code",
   "execution_count": 23,
   "id": "ddc8989e",
   "metadata": {},
   "outputs": [],
   "source": [
    "intersectionEqn = coneEqn.subs(z,zEqn[0])"
   ]
  },
  {
   "cell_type": "code",
   "execution_count": 24,
   "id": "eb618da0",
   "metadata": {},
   "outputs": [],
   "source": [
    "intersectionEqn_expanded = sp.expand(intersectionEqn)"
   ]
  },
  {
   "cell_type": "code",
   "execution_count": 25,
   "id": "8bb3e6e5",
   "metadata": {},
   "outputs": [
    {
     "data": {
      "text/latex": [
       "$\\displaystyle - \\frac{a^{2} x^{2}}{c^{2}} - \\frac{2 a b x y}{c^{2}} - \\frac{2 a d x}{c^{2}} - \\frac{b^{2} y^{2}}{c^{2}} - \\frac{2 b d y}{c^{2}} + \\frac{x^{2}}{\\tan^{2}{\\left(\\theta \\right)}} + \\frac{y^{2}}{\\tan^{4}{\\left(\\theta \\right)}} - \\frac{d^{2}}{c^{2}}$"
      ],
      "text/plain": [
       "-a**2*x**2/c**2 - 2*a*b*x*y/c**2 - 2*a*d*x/c**2 - b**2*y**2/c**2 - 2*b*d*y/c**2 + x**2/tan(theta)**2 + y**2/tan(theta)**4 - d**2/c**2"
      ]
     },
     "execution_count": 25,
     "metadata": {},
     "output_type": "execute_result"
    }
   ],
   "source": [
    "intersectionEqn_expanded"
   ]
  },
  {
   "cell_type": "code",
   "execution_count": 120,
   "id": "7efc3d20",
   "metadata": {},
   "outputs": [
    {
     "data": {
      "text/plain": [
       "['Abs',\n",
       " 'AccumBounds',\n",
       " 'Add',\n",
       " 'Adjoint',\n",
       " 'AlgebraicField',\n",
       " 'AlgebraicNumber',\n",
       " 'And',\n",
       " 'AppliedPredicate',\n",
       " 'Array',\n",
       " 'AssumptionsContext',\n",
       " 'Atom',\n",
       " 'AtomicExpr',\n",
       " 'BasePolynomialError',\n",
       " 'Basic',\n",
       " 'BlockDiagMatrix',\n",
       " 'BlockMatrix',\n",
       " 'CC',\n",
       " 'CRootOf',\n",
       " 'Catalan',\n",
       " 'Chi',\n",
       " 'Ci',\n",
       " 'Circle',\n",
       " 'CoercionFailed',\n",
       " 'Complement',\n",
       " 'ComplexField',\n",
       " 'ComplexRegion',\n",
       " 'ComplexRootOf',\n",
       " 'Complexes',\n",
       " 'ComputationFailed',\n",
       " 'ConditionSet',\n",
       " 'Contains',\n",
       " 'CosineTransform',\n",
       " 'Curve',\n",
       " 'DeferredVector',\n",
       " 'DenseNDimArray',\n",
       " 'Derivative',\n",
       " 'Determinant',\n",
       " 'DiagMatrix',\n",
       " 'DiagonalMatrix',\n",
       " 'DiagonalOf',\n",
       " 'Dict',\n",
       " 'DiracDelta',\n",
       " 'DisjointUnion',\n",
       " 'Domain',\n",
       " 'DomainError',\n",
       " 'DotProduct',\n",
       " 'Dummy',\n",
       " 'E',\n",
       " 'E1',\n",
       " 'EPath',\n",
       " 'EX',\n",
       " 'EXRAW',\n",
       " 'Ei',\n",
       " 'Eijk',\n",
       " 'Ellipse',\n",
       " 'EmptySequence',\n",
       " 'EmptySet',\n",
       " 'Eq',\n",
       " 'Equality',\n",
       " 'Equivalent',\n",
       " 'EulerGamma',\n",
       " 'EvaluationFailed',\n",
       " 'ExactQuotientFailed',\n",
       " 'Expr',\n",
       " 'ExpressionDomain',\n",
       " 'ExtraneousFactors',\n",
       " 'FF',\n",
       " 'FF_gmpy',\n",
       " 'FF_python',\n",
       " 'FU',\n",
       " 'FallingFactorial',\n",
       " 'FiniteField',\n",
       " 'FiniteSet',\n",
       " 'FlagError',\n",
       " 'Float',\n",
       " 'FourierTransform',\n",
       " 'FractionField',\n",
       " 'Function',\n",
       " 'FunctionClass',\n",
       " 'FunctionMatrix',\n",
       " 'GF',\n",
       " 'GMPYFiniteField',\n",
       " 'GMPYIntegerRing',\n",
       " 'GMPYRationalField',\n",
       " 'Ge',\n",
       " 'GeneratorsError',\n",
       " 'GeneratorsNeeded',\n",
       " 'GeometryError',\n",
       " 'GoldenRatio',\n",
       " 'GramSchmidt',\n",
       " 'GreaterThan',\n",
       " 'GroebnerBasis',\n",
       " 'Gt',\n",
       " 'HadamardPower',\n",
       " 'HadamardProduct',\n",
       " 'HankelTransform',\n",
       " 'Heaviside',\n",
       " 'HeuristicGCDFailed',\n",
       " 'HomomorphismFailed',\n",
       " 'I',\n",
       " 'ITE',\n",
       " 'Id',\n",
       " 'Identity',\n",
       " 'Idx',\n",
       " 'ImageSet',\n",
       " 'ImmutableDenseMatrix',\n",
       " 'ImmutableDenseNDimArray',\n",
       " 'ImmutableMatrix',\n",
       " 'ImmutableSparseMatrix',\n",
       " 'ImmutableSparseNDimArray',\n",
       " 'Implies',\n",
       " 'Indexed',\n",
       " 'IndexedBase',\n",
       " 'Integer',\n",
       " 'IntegerRing',\n",
       " 'Integers',\n",
       " 'Integral',\n",
       " 'Intersection',\n",
       " 'Interval',\n",
       " 'Inverse',\n",
       " 'InverseCosineTransform',\n",
       " 'InverseFourierTransform',\n",
       " 'InverseHankelTransform',\n",
       " 'InverseLaplaceTransform',\n",
       " 'InverseMellinTransform',\n",
       " 'InverseSineTransform',\n",
       " 'IsomorphismFailed',\n",
       " 'KroneckerDelta',\n",
       " 'KroneckerProduct',\n",
       " 'LC',\n",
       " 'LM',\n",
       " 'LT',\n",
       " 'Lambda',\n",
       " 'LambertW',\n",
       " 'LaplaceTransform',\n",
       " 'Le',\n",
       " 'LessThan',\n",
       " 'LeviCivita',\n",
       " 'Li',\n",
       " 'Limit',\n",
       " 'Line',\n",
       " 'Line2D',\n",
       " 'Line3D',\n",
       " 'Lt',\n",
       " 'MatAdd',\n",
       " 'MatMul',\n",
       " 'MatPow',\n",
       " 'Matrix',\n",
       " 'MatrixBase',\n",
       " 'MatrixExpr',\n",
       " 'MatrixPermute',\n",
       " 'MatrixSlice',\n",
       " 'MatrixSymbol',\n",
       " 'Max',\n",
       " 'MellinTransform',\n",
       " 'Min',\n",
       " 'Mod',\n",
       " 'Monomial',\n",
       " 'Mul',\n",
       " 'MultivariatePolynomialError',\n",
       " 'MutableDenseMatrix',\n",
       " 'MutableDenseNDimArray',\n",
       " 'MutableMatrix',\n",
       " 'MutableSparseMatrix',\n",
       " 'MutableSparseNDimArray',\n",
       " 'N',\n",
       " 'NDimArray',\n",
       " 'Nand',\n",
       " 'Naturals',\n",
       " 'Naturals0',\n",
       " 'Ne',\n",
       " 'NonSquareMatrixError',\n",
       " 'Nor',\n",
       " 'Not',\n",
       " 'NotAlgebraic',\n",
       " 'NotInvertible',\n",
       " 'NotReversible',\n",
       " 'Number',\n",
       " 'NumberSymbol',\n",
       " 'O',\n",
       " 'OmegaPower',\n",
       " 'OneMatrix',\n",
       " 'OperationNotSupported',\n",
       " 'OptionError',\n",
       " 'Options',\n",
       " 'Or',\n",
       " 'Order',\n",
       " 'Ordinal',\n",
       " 'POSform',\n",
       " 'Parabola',\n",
       " 'Permanent',\n",
       " 'PermutationMatrix',\n",
       " 'Piecewise',\n",
       " 'Plane',\n",
       " 'Point',\n",
       " 'Point2D',\n",
       " 'Point3D',\n",
       " 'PoleError',\n",
       " 'PolificationFailed',\n",
       " 'Poly',\n",
       " 'Polygon',\n",
       " 'PolynomialDivisionFailed',\n",
       " 'PolynomialError',\n",
       " 'PolynomialRing',\n",
       " 'Pow',\n",
       " 'PowerSet',\n",
       " 'PrecisionExhausted',\n",
       " 'Predicate',\n",
       " 'Product',\n",
       " 'ProductSet',\n",
       " 'PurePoly',\n",
       " 'PythonFiniteField',\n",
       " 'PythonIntegerRing',\n",
       " 'PythonRational',\n",
       " 'Q',\n",
       " 'QQ',\n",
       " 'QQ_I',\n",
       " 'QQ_gmpy',\n",
       " 'QQ_python',\n",
       " 'Quaternion',\n",
       " 'RR',\n",
       " 'Range',\n",
       " 'Rational',\n",
       " 'RationalField',\n",
       " 'Rationals',\n",
       " 'Ray',\n",
       " 'Ray2D',\n",
       " 'Ray3D',\n",
       " 'RealField',\n",
       " 'RealNumber',\n",
       " 'Reals',\n",
       " 'RefinementFailed',\n",
       " 'RegularPolygon',\n",
       " 'Rel',\n",
       " 'Rem',\n",
       " 'RisingFactorial',\n",
       " 'RootOf',\n",
       " 'RootSum',\n",
       " 'S',\n",
       " 'SOPform',\n",
       " 'SYMPY_DEBUG',\n",
       " 'Segment',\n",
       " 'Segment2D',\n",
       " 'Segment3D',\n",
       " 'SeqAdd',\n",
       " 'SeqFormula',\n",
       " 'SeqMul',\n",
       " 'SeqPer',\n",
       " 'Set',\n",
       " 'ShapeError',\n",
       " 'Shi',\n",
       " 'Si',\n",
       " 'Sieve',\n",
       " 'SineTransform',\n",
       " 'SingularityFunction',\n",
       " 'SparseMatrix',\n",
       " 'SparseNDimArray',\n",
       " 'StrPrinter',\n",
       " 'StrictGreaterThan',\n",
       " 'StrictLessThan',\n",
       " 'Subs',\n",
       " 'Sum',\n",
       " 'Symbol',\n",
       " 'SymmetricDifference',\n",
       " 'SympifyError',\n",
       " 'TableForm',\n",
       " 'Trace',\n",
       " 'Transpose',\n",
       " 'Triangle',\n",
       " 'TribonacciConstant',\n",
       " 'Tuple',\n",
       " 'Unequality',\n",
       " 'UnevaluatedExpr',\n",
       " 'UnificationFailed',\n",
       " 'Union',\n",
       " 'UnivariatePolynomialError',\n",
       " 'UniversalSet',\n",
       " 'Wild',\n",
       " 'WildFunction',\n",
       " 'Xor',\n",
       " 'Ynm',\n",
       " 'Ynm_c',\n",
       " 'ZZ',\n",
       " 'ZZ_I',\n",
       " 'ZZ_gmpy',\n",
       " 'ZZ_python',\n",
       " 'ZeroMatrix',\n",
       " 'Znm',\n",
       " '__all__',\n",
       " '__builtins__',\n",
       " '__cached__',\n",
       " '__doc__',\n",
       " '__file__',\n",
       " '__loader__',\n",
       " '__name__',\n",
       " '__package__',\n",
       " '__path__',\n",
       " '__spec__',\n",
       " '__sympy_debug',\n",
       " '__version__',\n",
       " 'abundance',\n",
       " 'acos',\n",
       " 'acosh',\n",
       " 'acot',\n",
       " 'acoth',\n",
       " 'acsc',\n",
       " 'acsch',\n",
       " 'adjoint',\n",
       " 'airyai',\n",
       " 'airyaiprime',\n",
       " 'airybi',\n",
       " 'airybiprime',\n",
       " 'algebras',\n",
       " 'apart',\n",
       " 'apart_list',\n",
       " 'appellf1',\n",
       " 'apply_finite_diff',\n",
       " 'approximants',\n",
       " 'are_similar',\n",
       " 'arg',\n",
       " 'arity',\n",
       " 'asec',\n",
       " 'asech',\n",
       " 'asin',\n",
       " 'asinh',\n",
       " 'ask',\n",
       " 'assemble_partfrac_list',\n",
       " 'assoc_laguerre',\n",
       " 'assoc_legendre',\n",
       " 'assuming',\n",
       " 'assumptions',\n",
       " 'atan',\n",
       " 'atan2',\n",
       " 'atanh',\n",
       " 'banded',\n",
       " 'bell',\n",
       " 'bernoulli',\n",
       " 'besseli',\n",
       " 'besselj',\n",
       " 'besselk',\n",
       " 'besselsimp',\n",
       " 'bessely',\n",
       " 'beta',\n",
       " 'betainc',\n",
       " 'betainc_regularized',\n",
       " 'binomial',\n",
       " 'binomial_coefficients',\n",
       " 'binomial_coefficients_list',\n",
       " 'block_collapse',\n",
       " 'blockcut',\n",
       " 'bool_map',\n",
       " 'bottom_up',\n",
       " 'bspline_basis',\n",
       " 'bspline_basis_set',\n",
       " 'cacheit',\n",
       " 'calculus',\n",
       " 'cancel',\n",
       " 'capture',\n",
       " 'carmichael',\n",
       " 'cartes',\n",
       " 'casoratian',\n",
       " 'catalan',\n",
       " 'cbrt',\n",
       " 'ccode',\n",
       " 'ceiling',\n",
       " 'centroid',\n",
       " 'chebyshevt',\n",
       " 'chebyshevt_poly',\n",
       " 'chebyshevt_root',\n",
       " 'chebyshevu',\n",
       " 'chebyshevu_poly',\n",
       " 'chebyshevu_root',\n",
       " 'check_assumptions',\n",
       " 'checkodesol',\n",
       " 'checkpdesol',\n",
       " 'checksol',\n",
       " 'classify_ode',\n",
       " 'classify_pde',\n",
       " 'closest_points',\n",
       " 'cofactors',\n",
       " 'collect',\n",
       " 'collect_const',\n",
       " 'combinatorics',\n",
       " 'combsimp',\n",
       " 'comp',\n",
       " 'compose',\n",
       " 'composite',\n",
       " 'compositepi',\n",
       " 'concrete',\n",
       " 'conjugate',\n",
       " 'construct_domain',\n",
       " 'content',\n",
       " 'continued_fraction',\n",
       " 'continued_fraction_convergents',\n",
       " 'continued_fraction_iterator',\n",
       " 'continued_fraction_periodic',\n",
       " 'continued_fraction_reduce',\n",
       " 'convex_hull',\n",
       " 'convolution',\n",
       " 'core',\n",
       " 'cos',\n",
       " 'cosh',\n",
       " 'cosine_transform',\n",
       " 'cot',\n",
       " 'coth',\n",
       " 'count_ops',\n",
       " 'count_roots',\n",
       " 'covering_product',\n",
       " 'csc',\n",
       " 'csch',\n",
       " 'cse',\n",
       " 'cxxcode',\n",
       " 'cycle_length',\n",
       " 'cyclotomic_poly',\n",
       " 'decompogen',\n",
       " 'decompose',\n",
       " 'default_sort_key',\n",
       " 'deg',\n",
       " 'degree',\n",
       " 'degree_list',\n",
       " 'denom',\n",
       " 'derive_by_array',\n",
       " 'det',\n",
       " 'det_quick',\n",
       " 'diag',\n",
       " 'diagonalize_vector',\n",
       " 'dict_merge',\n",
       " 'diff',\n",
       " 'difference_delta',\n",
       " 'differentiate_finite',\n",
       " 'digamma',\n",
       " 'diophantine',\n",
       " 'dirichlet_eta',\n",
       " 'discrete',\n",
       " 'discrete_log',\n",
       " 'discriminant',\n",
       " 'div',\n",
       " 'divisor_count',\n",
       " 'divisor_sigma',\n",
       " 'divisors',\n",
       " 'doctest',\n",
       " 'dotprint',\n",
       " 'dsolve',\n",
       " 'egyptian_fraction',\n",
       " 'elliptic_e',\n",
       " 'elliptic_f',\n",
       " 'elliptic_k',\n",
       " 'elliptic_pi',\n",
       " 'epath',\n",
       " 'erf',\n",
       " 'erf2',\n",
       " 'erf2inv',\n",
       " 'erfc',\n",
       " 'erfcinv',\n",
       " 'erfi',\n",
       " 'erfinv',\n",
       " 'euler',\n",
       " 'euler_equations',\n",
       " 'evalf',\n",
       " 'evaluate',\n",
       " 'exp',\n",
       " 'exp_polar',\n",
       " 'expand',\n",
       " 'expand_complex',\n",
       " 'expand_func',\n",
       " 'expand_log',\n",
       " 'expand_mul',\n",
       " 'expand_multinomial',\n",
       " 'expand_power_base',\n",
       " 'expand_power_exp',\n",
       " 'expand_trig',\n",
       " 'expint',\n",
       " 'exptrigsimp',\n",
       " 'exquo',\n",
       " 'external',\n",
       " 'eye',\n",
       " 'factor',\n",
       " 'factor_list',\n",
       " 'factor_nc',\n",
       " 'factor_terms',\n",
       " 'factorial',\n",
       " 'factorial2',\n",
       " 'factorint',\n",
       " 'factorrat',\n",
       " 'failing_assumptions',\n",
       " 'false',\n",
       " 'farthest_points',\n",
       " 'fcode',\n",
       " 'ff',\n",
       " 'fft',\n",
       " 'fibonacci',\n",
       " 'field',\n",
       " 'field_isomorphism',\n",
       " 'filldedent',\n",
       " 'finite_diff_weights',\n",
       " 'flatten',\n",
       " 'floor',\n",
       " 'fourier_series',\n",
       " 'fourier_transform',\n",
       " 'fps',\n",
       " 'frac',\n",
       " 'fraction',\n",
       " 'fresnelc',\n",
       " 'fresnels',\n",
       " 'fu',\n",
       " 'functions',\n",
       " 'fwht',\n",
       " 'gamma',\n",
       " 'gammasimp',\n",
       " 'gcd',\n",
       " 'gcd_list',\n",
       " 'gcd_terms',\n",
       " 'gcdex',\n",
       " 'gegenbauer',\n",
       " 'genocchi',\n",
       " 'geometry',\n",
       " 'get_contraction_structure',\n",
       " 'get_indices',\n",
       " 'gff',\n",
       " 'gff_list',\n",
       " 'glsl_code',\n",
       " 'grevlex',\n",
       " 'grlex',\n",
       " 'groebner',\n",
       " 'ground_roots',\n",
       " 'group',\n",
       " 'gruntz',\n",
       " 'hadamard_product',\n",
       " 'half_gcdex',\n",
       " 'hankel1',\n",
       " 'hankel2',\n",
       " 'hankel_transform',\n",
       " 'harmonic',\n",
       " 'has_dups',\n",
       " 'has_variety',\n",
       " 'hermite',\n",
       " 'hermite_poly',\n",
       " 'hessian',\n",
       " 'hn1',\n",
       " 'hn2',\n",
       " 'homogeneous_order',\n",
       " 'horner',\n",
       " 'hyper',\n",
       " 'hyperexpand',\n",
       " 'hypersimilar',\n",
       " 'hypersimp',\n",
       " 'idiff',\n",
       " 'ifft',\n",
       " 'ifwht',\n",
       " 'igcd',\n",
       " 'igrevlex',\n",
       " 'igrlex',\n",
       " 'ilcm',\n",
       " 'ilex',\n",
       " 'im',\n",
       " 'imageset',\n",
       " 'init_printing',\n",
       " 'init_session',\n",
       " 'integer_log',\n",
       " 'integer_nthroot',\n",
       " 'integrals',\n",
       " 'integrate',\n",
       " 'interactive',\n",
       " 'interactive_traversal',\n",
       " 'interpolate',\n",
       " 'interpolating_poly',\n",
       " 'interpolating_spline',\n",
       " 'intersecting_product',\n",
       " 'intersection',\n",
       " 'intervals',\n",
       " 'intt',\n",
       " 'inv_quick',\n",
       " 'inverse_cosine_transform',\n",
       " 'inverse_fourier_transform',\n",
       " 'inverse_hankel_transform',\n",
       " 'inverse_laplace_transform',\n",
       " 'inverse_mellin_transform',\n",
       " 'inverse_mobius_transform',\n",
       " 'inverse_sine_transform',\n",
       " 'invert',\n",
       " 'is_abundant',\n",
       " 'is_amicable',\n",
       " 'is_convex',\n",
       " 'is_decreasing',\n",
       " 'is_deficient',\n",
       " 'is_increasing',\n",
       " 'is_mersenne_prime',\n",
       " 'is_monotonic',\n",
       " 'is_nthpow_residue',\n",
       " 'is_perfect',\n",
       " 'is_primitive_root',\n",
       " 'is_quad_residue',\n",
       " 'is_strictly_decreasing',\n",
       " 'is_strictly_increasing',\n",
       " 'is_zero_dimensional',\n",
       " 'isolate',\n",
       " 'isprime',\n",
       " 'itermonomials',\n",
       " 'jacobi',\n",
       " 'jacobi_normalized',\n",
       " 'jacobi_poly',\n",
       " 'jacobi_symbol',\n",
       " 'jn',\n",
       " 'jn_zeros',\n",
       " 'jordan_cell',\n",
       " 'jscode',\n",
       " 'julia_code',\n",
       " 'kronecker_product',\n",
       " 'kroneckersimp',\n",
       " 'laguerre',\n",
       " 'laguerre_poly',\n",
       " 'lambdify',\n",
       " 'laplace_transform',\n",
       " 'latex',\n",
       " 'lcm',\n",
       " 'lcm_list',\n",
       " 'legendre',\n",
       " 'legendre_poly',\n",
       " 'legendre_symbol',\n",
       " 'lerchphi',\n",
       " 'lex',\n",
       " 'li',\n",
       " 'limit',\n",
       " 'limit_seq',\n",
       " 'line_integrate',\n",
       " 'linear_eq_to_matrix',\n",
       " 'linsolve',\n",
       " 'list2numpy',\n",
       " 'ln',\n",
       " 'log',\n",
       " 'logcombine',\n",
       " 'loggamma',\n",
       " 'logic',\n",
       " 'lowergamma',\n",
       " 'lucas',\n",
       " 'maple_code',\n",
       " 'marcumq',\n",
       " 'mathematica_code',\n",
       " 'mathieuc',\n",
       " 'mathieucprime',\n",
       " 'mathieus',\n",
       " 'mathieusprime',\n",
       " 'mathml',\n",
       " 'matrices',\n",
       " 'matrix2numpy',\n",
       " 'matrix_multiply_elementwise',\n",
       " 'matrix_symbols',\n",
       " 'maximum',\n",
       " 'meijerg',\n",
       " 'mellin_transform',\n",
       " 'memoize_property',\n",
       " 'mersenne_prime_exponent',\n",
       " 'minimal_polynomial',\n",
       " 'minimum',\n",
       " 'minpoly',\n",
       " 'mobius',\n",
       " 'mobius_transform',\n",
       " 'mod_inverse',\n",
       " 'monic',\n",
       " 'motzkin',\n",
       " 'multigamma',\n",
       " 'multiline_latex',\n",
       " 'multinomial_coefficients',\n",
       " 'multipledispatch',\n",
       " 'multiplicity',\n",
       " 'n_order',\n",
       " 'nan',\n",
       " 'nextprime',\n",
       " 'nfloat',\n",
       " 'nonlinsolve',\n",
       " 'not_empty_in',\n",
       " 'npartitions',\n",
       " 'nroots',\n",
       " 'nsimplify',\n",
       " 'nsolve',\n",
       " 'nth_power_roots_poly',\n",
       " 'ntheory',\n",
       " 'nthroot_mod',\n",
       " 'ntt',\n",
       " 'numbered_symbols',\n",
       " 'numer',\n",
       " 'octave_code',\n",
       " 'ode_order',\n",
       " 'ones',\n",
       " 'oo',\n",
       " 'ord0',\n",
       " 'ordered',\n",
       " 'pager_print',\n",
       " 'parallel_poly_from_expr',\n",
       " 'parse_expr',\n",
       " 'parsing',\n",
       " 'partition',\n",
       " 'pde_separate',\n",
       " 'pde_separate_add',\n",
       " 'pde_separate_mul',\n",
       " 'pdiv',\n",
       " 'pdsolve',\n",
       " 'per',\n",
       " 'perfect_power',\n",
       " 'periodic_argument',\n",
       " 'periodicity',\n",
       " 'permutedims',\n",
       " 'pexquo',\n",
       " 'physics',\n",
       " 'pi',\n",
       " 'piecewise_exclusive',\n",
       " 'piecewise_fold',\n",
       " 'plot',\n",
       " 'plot_backends',\n",
       " 'plot_implicit',\n",
       " 'plot_parametric',\n",
       " 'plotting',\n",
       " 'polar_lift',\n",
       " 'polarify',\n",
       " 'pollard_pm1',\n",
       " 'pollard_rho',\n",
       " 'poly',\n",
       " 'poly_from_expr',\n",
       " 'polygamma',\n",
       " 'polylog',\n",
       " 'polys',\n",
       " 'posify',\n",
       " 'postfixes',\n",
       " 'postorder_traversal',\n",
       " 'powdenest',\n",
       " 'powsimp',\n",
       " 'pprint',\n",
       " 'pprint_try_use_unicode',\n",
       " 'pprint_use_unicode',\n",
       " 'pquo',\n",
       " 'prefixes',\n",
       " 'prem',\n",
       " 'preorder_traversal',\n",
       " 'pretty',\n",
       " 'pretty_print',\n",
       " 'preview',\n",
       " 'prevprime',\n",
       " 'prime',\n",
       " 'prime_decomp',\n",
       " 'prime_valuation',\n",
       " 'primefactors',\n",
       " 'primenu',\n",
       " 'primeomega',\n",
       " 'primepi',\n",
       " 'primerange',\n",
       " 'primitive',\n",
       " 'primitive_element',\n",
       " 'primitive_root',\n",
       " 'primorial',\n",
       " 'principal_branch',\n",
       " 'print_ccode',\n",
       " 'print_fcode',\n",
       " 'print_glsl',\n",
       " 'print_gtk',\n",
       " 'print_jscode',\n",
       " 'print_latex',\n",
       " 'print_maple_code',\n",
       " 'print_mathml',\n",
       " 'print_python',\n",
       " 'print_rcode',\n",
       " 'print_tree',\n",
       " 'printing',\n",
       " 'prod',\n",
       " 'product',\n",
       " 'proper_divisor_count',\n",
       " 'proper_divisors',\n",
       " 'public',\n",
       " 'pycode',\n",
       " 'python',\n",
       " 'quadratic_congruence',\n",
       " 'quadratic_residues',\n",
       " 'quo',\n",
       " 'rad',\n",
       " 'radsimp',\n",
       " 'randMatrix',\n",
       " 'random_poly',\n",
       " 'randprime',\n",
       " 'rational_interpolate',\n",
       " 'ratsimp',\n",
       " 'ratsimpmodprime',\n",
       " 'rcode',\n",
       " 'rcollect',\n",
       " 're',\n",
       " 'real_root',\n",
       " 'real_roots',\n",
       " 'reduce_abs_inequalities',\n",
       " 'reduce_abs_inequality',\n",
       " 'reduce_inequalities',\n",
       " 'reduced',\n",
       " 'reduced_totient',\n",
       " 'refine',\n",
       " 'refine_root',\n",
       " 'register_handler',\n",
       " 'release',\n",
       " 'rem',\n",
       " 'remove_handler',\n",
       " 'reshape',\n",
       " 'residue',\n",
       " 'resultant',\n",
       " 'rf',\n",
       " 'riemann_xi',\n",
       " 'ring',\n",
       " 'root',\n",
       " 'rootof',\n",
       " 'roots',\n",
       " 'rot_axis1',\n",
       " 'rot_axis2',\n",
       " 'rot_axis3',\n",
       " 'rotations',\n",
       " 'round_two',\n",
       " 'rsolve',\n",
       " 'rsolve_hyper',\n",
       " 'rsolve_poly',\n",
       " 'rsolve_ratio',\n",
       " 'rust_code',\n",
       " 'satisfiable',\n",
       " 'sec',\n",
       " 'sech',\n",
       " 'separatevars',\n",
       " 'sequence',\n",
       " 'series',\n",
       " 'seterr',\n",
       " 'sets',\n",
       " 'sfield',\n",
       " 'shape',\n",
       " 'sieve',\n",
       " 'sift',\n",
       " 'sign',\n",
       " 'signsimp',\n",
       " 'simplify',\n",
       " 'simplify_logic',\n",
       " 'sin',\n",
       " 'sinc',\n",
       " 'sine_transform',\n",
       " 'singularities',\n",
       " 'singularityintegrate',\n",
       " 'sinh',\n",
       " 'solve',\n",
       " 'solve_linear',\n",
       " 'solve_linear_system',\n",
       " 'solve_linear_system_LU',\n",
       " 'solve_poly_inequality',\n",
       " 'solve_poly_system',\n",
       " 'solve_rational_inequalities',\n",
       " 'solve_triangulated',\n",
       " 'solve_undetermined_coeffs',\n",
       " 'solve_univariate_inequality',\n",
       " 'solvers',\n",
       " 'solveset',\n",
       " 'source',\n",
       " 'sqf',\n",
       " 'sqf_list',\n",
       " 'sqf_norm',\n",
       " 'sqf_part',\n",
       " 'sqrt',\n",
       " 'sqrt_mod',\n",
       " 'sqrt_mod_iter',\n",
       " 'sqrtdenest',\n",
       " 'srepr',\n",
       " 'sring',\n",
       " 'sstr',\n",
       " 'sstrrepr',\n",
       " 'stationary_points',\n",
       " 'stieltjes',\n",
       " 'strategies',\n",
       " 'sturm',\n",
       " 'subfactorial',\n",
       " 'subresultants',\n",
       " 'subsets',\n",
       " 'substitution',\n",
       " 'summation',\n",
       " 'swinnerton_dyer_poly',\n",
       " 'symarray',\n",
       " 'symbols',\n",
       " 'symmetric_poly',\n",
       " 'symmetrize',\n",
       " 'sympify',\n",
       " 'take',\n",
       " 'tan',\n",
       " 'tanh',\n",
       " 'tensor',\n",
       " 'tensorcontraction',\n",
       " 'tensordiagonal',\n",
       " 'tensorproduct',\n",
       " 'terms_gcd',\n",
       " 'test',\n",
       " 'testing',\n",
       " 'textplot',\n",
       " 'threaded',\n",
       " 'timed',\n",
       " 'to_cnf',\n",
       " 'to_dnf',\n",
       " 'to_nnf',\n",
       " 'to_number_field',\n",
       " 'together',\n",
       " 'topological_sort',\n",
       " 'total_degree',\n",
       " 'totient',\n",
       " 'trace',\n",
       " 'trailing',\n",
       " 'transpose',\n",
       " 'tribonacci',\n",
       " 'trigamma',\n",
       " 'trigsimp',\n",
       " 'true',\n",
       " 'trunc',\n",
       " 'unbranched_argument',\n",
       " 'unflatten',\n",
       " 'unpolarify',\n",
       " 'uppergamma',\n",
       " 'use',\n",
       " 'utilities',\n",
       " 'var',\n",
       " 'variations',\n",
       " 'vectorize',\n",
       " 'vfield',\n",
       " 'viete',\n",
       " 'vring',\n",
       " 'wronskian',\n",
       " 'xfield',\n",
       " 'xring',\n",
       " 'xthreaded',\n",
       " 'yn',\n",
       " 'zeros',\n",
       " 'zeta',\n",
       " 'zoo']"
      ]
     },
     "execution_count": 120,
     "metadata": {},
     "output_type": "execute_result"
    }
   ],
   "source": [
    "dir(sp)"
   ]
  },
  {
   "cell_type": "code",
   "execution_count": 125,
   "id": "5e30fdb1",
   "metadata": {},
   "outputs": [
    {
     "data": {
      "text/latex": [
       "$\\displaystyle \\theta$"
      ],
      "text/plain": [
       "theta"
      ]
     },
     "execution_count": 125,
     "metadata": {},
     "output_type": "execute_result"
    }
   ],
   "source": [
    "list(intersectionEqn_terms[0].atoms(sp.Symbol))[0]"
   ]
  },
  {
   "cell_type": "code",
   "execution_count": null,
   "id": "9319800b",
   "metadata": {},
   "outputs": [],
   "source": []
  },
  {
   "cell_type": "code",
   "execution_count": null,
   "id": "4e4cf095",
   "metadata": {},
   "outputs": [],
   "source": []
  },
  {
   "cell_type": "code",
   "execution_count": null,
   "id": "31d64d2d",
   "metadata": {},
   "outputs": [],
   "source": []
  },
  {
   "cell_type": "code",
   "execution_count": 26,
   "id": "b5c57c86",
   "metadata": {},
   "outputs": [],
   "source": [
    "#Break into terms\n",
    "intersectionEqn_terms = sp.Add.make_args(intersectionEqn_expanded)"
   ]
  },
  {
   "cell_type": "code",
   "execution_count": 27,
   "id": "e9125cec",
   "metadata": {},
   "outputs": [
    {
     "data": {
      "text/plain": [
       "(x**2/tan(theta)**2,\n",
       " y**2/tan(theta)**4,\n",
       " -d**2/c**2,\n",
       " -a**2*x**2/c**2,\n",
       " -b**2*y**2/c**2,\n",
       " -2*a*d*x/c**2,\n",
       " -2*b*d*y/c**2,\n",
       " -2*a*b*x*y/c**2)"
      ]
     },
     "execution_count": 27,
     "metadata": {},
     "output_type": "execute_result"
    }
   ],
   "source": [
    "intersectionEqn_terms"
   ]
  },
  {
   "cell_type": "code",
   "execution_count": null,
   "id": "e7189c90",
   "metadata": {},
   "outputs": [],
   "source": []
  },
  {
   "cell_type": "code",
   "execution_count": 171,
   "id": "d3a0e31c",
   "metadata": {},
   "outputs": [],
   "source": [
    "#Determines if a symbol is a base in eqn\n",
    "#eqn is a single term\n",
    "def is_sym_in_eqn(sym,eqn):\n",
    "    syms_in_term = eqn.atoms(sp.Symbol)\n",
    "    for i in np.arange(len(syms_in_term)):\n",
    "        if sym in syms_in_term:\n",
    "            return True\n",
    "    return False"
   ]
  },
  {
   "cell_type": "code",
   "execution_count": 172,
   "id": "60f702d6",
   "metadata": {},
   "outputs": [
    {
     "data": {
      "text/plain": [
       "True"
      ]
     },
     "execution_count": 172,
     "metadata": {},
     "output_type": "execute_result"
    }
   ],
   "source": [
    "is_sym_in_eqn(x,intersectionEqn_terms[0])"
   ]
  },
  {
   "cell_type": "code",
   "execution_count": 173,
   "id": "84d857c0",
   "metadata": {},
   "outputs": [],
   "source": [
    "#creates all combinations of symbol and power\n",
    "def term_exponent_combos(symbols,power):\n",
    "    combos = list()#dict()\n",
    "    for i in np.arange(len(symbols)-1):\n",
    "        for j in np.arange(i+1,len(symbols)):\n",
    "            for k in np.arange(power+1):\n",
    "                for l in np.arange(power+1):\n",
    "                    termList = list()\n",
    "                    if k > 0:\n",
    "                        termList.append((symbols[i],k))\n",
    "                    if l > 0:\n",
    "                        termList.append((symbols[j],l))\n",
    "                    combos.append(termList)\n",
    "    #print(\"combos **************************************\")\n",
    "    #print(combos)\n",
    "    return combos"
   ]
  },
  {
   "cell_type": "code",
   "execution_count": 174,
   "id": "6df10f93",
   "metadata": {},
   "outputs": [],
   "source": [
    "combos = term_exponent_combos([x,y],2)"
   ]
  },
  {
   "cell_type": "code",
   "execution_count": 175,
   "id": "e3d4e6a6",
   "metadata": {},
   "outputs": [
    {
     "data": {
      "text/plain": [
       "[[],\n",
       " [(y, 1)],\n",
       " [(y, 2)],\n",
       " [(x, 1)],\n",
       " [(x, 1), (y, 1)],\n",
       " [(x, 1), (y, 2)],\n",
       " [(x, 2)],\n",
       " [(x, 2), (y, 1)],\n",
       " [(x, 2), (y, 2)]]"
      ]
     },
     "execution_count": 175,
     "metadata": {},
     "output_type": "execute_result"
    }
   ],
   "source": [
    "combos"
   ]
  },
  {
   "cell_type": "code",
   "execution_count": 224,
   "id": "3d57a9f1",
   "metadata": {},
   "outputs": [],
   "source": [
    "#args are the terms.args\n",
    "#sym is the symbol to find the power for\n",
    "# will return 0 if not found\n",
    "# returns 1 if symbol exists but is not in power\n",
    "def findPowerOfSymbol(args,sym):\n",
    "    for i in np.arange(len(args)):\n",
    "        if is_sym_in_eqn(sym,args[i]):\n",
    "            #check power\n",
    "            #print(args[i].atoms(sp.Pow))\n",
    "            if len(args[i].atoms(sp.Pow)) > 0:\n",
    "                varexp = list(args[i].atoms(sp.Pow))[0]\n",
    "                power = varexp.as_base_exp()[1]\n",
    "            else:\n",
    "                power = 1\n",
    "            return power\n",
    "    return 0"
   ]
  },
  {
   "cell_type": "code",
   "execution_count": 225,
   "id": "12be45d6",
   "metadata": {},
   "outputs": [],
   "source": [
    "#Check exponent on sym in term\n",
    "args = intersectionEqn_terms[0].args\n",
    "power = findPowerOfSymbol(args,x)"
   ]
  },
  {
   "cell_type": "code",
   "execution_count": 226,
   "id": "af75aff8",
   "metadata": {},
   "outputs": [
    {
     "data": {
      "text/latex": [
       "$\\displaystyle 2$"
      ],
      "text/plain": [
       "2"
      ]
     },
     "execution_count": 226,
     "metadata": {},
     "output_type": "execute_result"
    }
   ],
   "source": [
    "power"
   ]
  },
  {
   "cell_type": "code",
   "execution_count": null,
   "id": "6218b088",
   "metadata": {},
   "outputs": [],
   "source": []
  },
  {
   "cell_type": "code",
   "execution_count": 227,
   "id": "38e148a2",
   "metadata": {},
   "outputs": [],
   "source": [
    "#splits an equation into terms\n",
    "def split_eqn_to_terms(intersectionEqn_expanded):\n",
    "    return sp.Add.make_args(intersectionEqn_expanded)"
   ]
  },
  {
   "cell_type": "code",
   "execution_count": 228,
   "id": "51706f99",
   "metadata": {},
   "outputs": [],
   "source": [
    "#Checks if there are no symbols in arg\n",
    "def no_syms_in_arg(syms,arg):\n",
    "    for i in np.arange(len(syms)):\n",
    "        if is_sym_in_eqn(syms[i],arg):\n",
    "            return False\n",
    "    return True"
   ]
  },
  {
   "cell_type": "code",
   "execution_count": 235,
   "id": "517ed4c4",
   "metadata": {},
   "outputs": [],
   "source": [
    "#iterate over terms\n",
    "terms = split_eqn_to_terms(intersectionEqn_expanded)\n",
    "syms = [x,y]\n",
    "\n",
    "term_expressionCombo = list()\n",
    "term_nonSymArgs = list()\n",
    "for i in np.arange(len(terms)):\n",
    "    #iterate over arg in terms\n",
    "    \n",
    "\n",
    "    #i=0\n",
    "    args = terms[i].args\n",
    "    nonSymArgs = list()\n",
    "    expressionCombo = list()\n",
    "    for j in np.arange(len(args)):\n",
    "        #check if each sym is in expression\n",
    "        if no_syms_in_arg(syms,args[j]):\n",
    "            nonSymArgs.append(args[j])\n",
    "\n",
    "        for k in np.arange(len(syms)):\n",
    "            sym = syms[k]\n",
    "            #print(sym)\n",
    "            #print(args)\n",
    "            if is_sym_in_eqn(sym,args[j]):\n",
    "                power = findPowerOfSymbol(args,sym)\n",
    "                if not power == 0:\n",
    "                    expressionCombo.append((sym,power))\n",
    "                #else:\n",
    "                #    expressionCombo.append([])\n",
    "    term_expressionCombo.append(expressionCombo)\n",
    "    term_nonSymArgs.append(nonSymArgs)\n"
   ]
  },
  {
   "cell_type": "code",
   "execution_count": 236,
   "id": "ed9971ee",
   "metadata": {},
   "outputs": [
    {
     "data": {
      "text/plain": [
       "[[(x, 2)],\n",
       " [(y, 2)],\n",
       " [],\n",
       " [(x, 2)],\n",
       " [(y, 2)],\n",
       " [(x, 1)],\n",
       " [(y, 1)],\n",
       " [(x, 1), (y, 1)]]"
      ]
     },
     "execution_count": 236,
     "metadata": {},
     "output_type": "execute_result"
    }
   ],
   "source": [
    "term_expressionCombo"
   ]
  },
  {
   "cell_type": "code",
   "execution_count": 239,
   "id": "a8e0a06b",
   "metadata": {},
   "outputs": [
    {
     "data": {
      "text/plain": [
       "[[tan(theta)**(-2)],\n",
       " [tan(theta)**(-4)],\n",
       " [-1, c**(-2), d**2],\n",
       " [-1, a**2, c**(-2)],\n",
       " [-1, b**2, c**(-2)],\n",
       " [-2, a, d, c**(-2)],\n",
       " [-2, b, d, c**(-2)],\n",
       " [-2, a, b, c**(-2)]]"
      ]
     },
     "execution_count": 239,
     "metadata": {},
     "output_type": "execute_result"
    }
   ],
   "source": [
    "term_nonSymArgs"
   ]
  },
  {
   "cell_type": "code",
   "execution_count": 270,
   "id": "08a3d35c",
   "metadata": {},
   "outputs": [
    {
     "data": {
      "text/plain": [
       "1"
      ]
     },
     "execution_count": 270,
     "metadata": {},
     "output_type": "execute_result"
    }
   ],
   "source": [
    "len(term_nonSymArgs[0])"
   ]
  },
  {
   "cell_type": "code",
   "execution_count": 272,
   "id": "381b331b",
   "metadata": {},
   "outputs": [],
   "source": [
    "#takes term_nonSymArgs and multiplies them together\n",
    "def multiply_termArgs(term_nonSymArgs):\n",
    "    termCoeffs = list()\n",
    "    for i in np.arange(len(term_nonSymArgs)):\n",
    "        multiplied = 1\n",
    "        for j in np.arange(len(term_nonSymArgs[i])):\n",
    "            multiplied = multiplied*term_nonSymArgs[i][j]\n",
    "        termCoeffs.append(multiplied)\n",
    "    return termCoeffs"
   ]
  },
  {
   "cell_type": "code",
   "execution_count": 273,
   "id": "74801498",
   "metadata": {},
   "outputs": [],
   "source": [
    "termCoeffs = multiply_termArgs(term_nonSymArgs)"
   ]
  },
  {
   "cell_type": "code",
   "execution_count": 274,
   "id": "9875d7f9",
   "metadata": {},
   "outputs": [
    {
     "data": {
      "text/plain": [
       "[tan(theta)**(-2),\n",
       " tan(theta)**(-4),\n",
       " -d**2/c**2,\n",
       " -a**2/c**2,\n",
       " -b**2/c**2,\n",
       " -2*a*d/c**2,\n",
       " -2*b*d/c**2,\n",
       " -2*a*b/c**2]"
      ]
     },
     "execution_count": 274,
     "metadata": {},
     "output_type": "execute_result"
    }
   ],
   "source": [
    "termCoeffs"
   ]
  },
  {
   "cell_type": "code",
   "execution_count": 262,
   "id": "97f1db4f",
   "metadata": {},
   "outputs": [],
   "source": [
    "#performs same as np.where() but for comparing two lists\n",
    "def indWhereterm_ExpressionComboIsCombos(combos, combo):\n",
    "    for i in np.arange(len(combos)):\n",
    "        #Check if number of symbols is the same\n",
    "        equivalence = False\n",
    "        #if set(combos[i]) == set(term_expressionCombo[0]):\n",
    "        if set(combos[i]) == set(combo):\n",
    "            equivalence = True\n",
    "        #print(equivalence)\n",
    "        if equivalence == True:\n",
    "            ind = i\n",
    "    return ind\n",
    "        "
   ]
  },
  {
   "cell_type": "code",
   "execution_count": 263,
   "id": "3f8b8d64",
   "metadata": {},
   "outputs": [
    {
     "data": {
      "text/plain": [
       "[[],\n",
       " [(y, 1)],\n",
       " [(y, 2)],\n",
       " [(x, 1)],\n",
       " [(x, 1), (y, 1)],\n",
       " [(x, 1), (y, 2)],\n",
       " [(x, 2)],\n",
       " [(x, 2), (y, 1)],\n",
       " [(x, 2), (y, 2)]]"
      ]
     },
     "execution_count": 263,
     "metadata": {},
     "output_type": "execute_result"
    }
   ],
   "source": [
    "combos"
   ]
  },
  {
   "cell_type": "code",
   "execution_count": 264,
   "id": "c3ffefbf",
   "metadata": {},
   "outputs": [
    {
     "data": {
      "text/plain": [
       "{(x, 2)}"
      ]
     },
     "execution_count": 264,
     "metadata": {},
     "output_type": "execute_result"
    }
   ],
   "source": [
    "set(term_expressionCombo[0])"
   ]
  },
  {
   "cell_type": "code",
   "execution_count": 277,
   "id": "e905a0f3",
   "metadata": {},
   "outputs": [],
   "source": [
    "comboCoeffs = list()\n",
    "for i in np.arange(len(combos)):\n",
    "    comboCoeffs.append([])\n",
    "for i in np.arange(len(term_expressionCombo)):\n",
    "    ind = indWhereterm_ExpressionComboIsCombos(combos, term_expressionCombo[i])\n",
    "    if comboCoeffs[ind] == []:\n",
    "        comboCoeffs[ind] = termCoeffs[i]\n",
    "    else:\n",
    "        comboCoeffs[ind] = comboCoeffs[ind] + termCoeffs[i]\n",
    "    \n",
    "    "
   ]
  },
  {
   "cell_type": "code",
   "execution_count": 278,
   "id": "68e3dea8",
   "metadata": {},
   "outputs": [
    {
     "data": {
      "text/plain": [
       "[-d**2/c**2,\n",
       " -2*b*d/c**2,\n",
       " -b**2/c**2 + tan(theta)**(-4),\n",
       " -2*a*d/c**2,\n",
       " -2*a*b/c**2,\n",
       " [],\n",
       " -a**2/c**2 + tan(theta)**(-2),\n",
       " [],\n",
       " []]"
      ]
     },
     "execution_count": 278,
     "metadata": {},
     "output_type": "execute_result"
    }
   ],
   "source": [
    "comboCoeffs"
   ]
  },
  {
   "cell_type": "code",
   "execution_count": 279,
   "id": "33353cf7",
   "metadata": {},
   "outputs": [
    {
     "data": {
      "text/plain": [
       "[[],\n",
       " [(y, 1)],\n",
       " [(y, 2)],\n",
       " [(x, 1)],\n",
       " [(x, 1), (y, 1)],\n",
       " [(x, 1), (y, 2)],\n",
       " [(x, 2)],\n",
       " [(x, 2), (y, 1)],\n",
       " [(x, 2), (y, 2)]]"
      ]
     },
     "execution_count": 279,
     "metadata": {},
     "output_type": "execute_result"
    }
   ],
   "source": [
    "combos"
   ]
  },
  {
   "cell_type": "code",
   "execution_count": null,
   "id": "e9e84fe0",
   "metadata": {},
   "outputs": [],
   "source": []
  },
  {
   "cell_type": "code",
   "execution_count": 188,
   "id": "c1fb722b",
   "metadata": {},
   "outputs": [],
   "source": [
    "#### MANUAL ANSWER\n",
    "x2coeff = -a**2/c**2 + 1/sp.tan(th)**2\n",
    "y2coeff = -b**2/c**2 + 1/sp.tan(th)**2\n",
    "xcoeff = -2*a*d/c**2\n",
    "ycoeff = -2*b*d/c**2\n",
    "xycoeff = -2*a*b/c**2\n",
    "const = -d**2/c**2"
   ]
  },
  {
   "cell_type": "code",
   "execution_count": 280,
   "id": "0aae79b7",
   "metadata": {},
   "outputs": [
    {
     "data": {
      "text/plain": [
       "[[],\n",
       " [(y, 1)],\n",
       " [(y, 2)],\n",
       " [(x, 1)],\n",
       " [(x, 1), (y, 1)],\n",
       " [(x, 1), (y, 2)],\n",
       " [(x, 2)],\n",
       " [(x, 2), (y, 1)],\n",
       " [(x, 2), (y, 2)]]"
      ]
     },
     "execution_count": 280,
     "metadata": {},
     "output_type": "execute_result"
    }
   ],
   "source": [
    "combos"
   ]
  },
  {
   "cell_type": "code",
   "execution_count": null,
   "id": "ec6195c4",
   "metadata": {},
   "outputs": [],
   "source": [
    "# Coefficients of Ax**2 + Bxy + Cy**2 + Dx + Ey + F = 0\n",
    "#https://www.onemathematicalcat.org/Math/Precalculus_obj/conicStuffWhy.htm\n",
    "A = comboCoeffs[6]*combos[6]\n",
    "B = comboCoeffs[4]*combos[4]\n",
    "C = comboCoeffs[2]*combos[2]\n",
    "D = comboCoeffs[3]*combos[3]\n",
    "E = comboCoeffs[1]*combos[1]\n",
    "F = comboCoeffs[0]*combos[0]"
   ]
  },
  {
   "cell_type": "code",
   "execution_count": null,
   "id": "3dcc8001",
   "metadata": {},
   "outputs": [],
   "source": []
  },
  {
   "cell_type": "code",
   "execution_count": null,
   "id": "4fd68650",
   "metadata": {},
   "outputs": [],
   "source": []
  },
  {
   "cell_type": "code",
   "execution_count": 281,
   "id": "4cb53792",
   "metadata": {},
   "outputs": [],
   "source": [
    "# converting from frame 2 to frame 0"
   ]
  },
  {
   "cell_type": "code",
   "execution_count": null,
   "id": "4c187c77",
   "metadata": {},
   "outputs": [],
   "source": [
    "# I will say e is the ellipse frame and l is the look vector frame\n",
    "xl, yl, zl, xe, ye, ze = sp.Symbols(\"x_l, y_l, z_l, x_e, y_e, z_e\", real=True)\n",
    "\n",
    "xl_hat = sp.Matrix([xl,0,0])\n",
    "yl_hat = sp.Matrix([0,yl,0])\n",
    "zl_hat = sp.Matrix([0,0,zl])\n"
   ]
  }
 ],
 "metadata": {
  "kernelspec": {
   "display_name": "Python 3 (ipykernel)",
   "language": "python",
   "name": "python3"
  },
  "language_info": {
   "codemirror_mode": {
    "name": "ipython",
    "version": 3
   },
   "file_extension": ".py",
   "mimetype": "text/x-python",
   "name": "python",
   "nbconvert_exporter": "python",
   "pygments_lexer": "ipython3",
   "version": "3.8.10"
  }
 },
 "nbformat": 4,
 "nbformat_minor": 5
}
